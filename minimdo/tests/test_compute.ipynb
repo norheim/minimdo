{
 "cells": [
  {
   "cell_type": "markdown",
   "id": "51ac91f0",
   "metadata": {},
   "source": [
    "## 1. Defining algebraic governing equations"
   ]
  },
  {
   "cell_type": "markdown",
   "id": "ad6bffd3",
   "metadata": {},
   "source": [
    "### Old library"
   ]
  },
  {
   "cell_type": "code",
   "execution_count": 1,
   "id": "9da52baa",
   "metadata": {},
   "outputs": [],
   "source": [
    "from modeling.compute import Var\n",
    "from modeling.gen1.compute import eqvar\n",
    "from trash.inputresolver import eqvars, default_out, default_in"
   ]
  },
  {
   "cell_type": "code",
   "execution_count": 2,
   "id": "3edfc6bd",
   "metadata": {
    "execution": {
     "iopub.execute_input": "2021-10-08T00:24:07.771387Z",
     "iopub.status.busy": "2021-10-08T00:24:07.771387Z",
     "iopub.status.idle": "2021-10-08T00:24:07.794382Z",
     "shell.execute_reply": "2021-10-08T00:24:07.793384Z",
     "shell.execute_reply.started": "2021-10-08T00:24:07.771387Z"
    }
   },
   "outputs": [],
   "source": [
    "x,a,c = Var('x', 2), Var('a'), Var('c')\n",
    "y, eq0 = eqvar('y', x**2)\n",
    "b, eq1 = eqvar('b', 2*a-x)\n",
    "eq2 = (c, b**2)\n",
    "eq3 = (a, c*b)\n",
    "eqs ={idx:eq for idx,eq in enumerate([eq0,eq1,eq2,eq3])}"
   ]
  },
  {
   "cell_type": "code",
   "execution_count": 3,
   "id": "f7a81828",
   "metadata": {
    "execution": {
     "iopub.execute_input": "2021-10-08T00:24:08.730865Z",
     "iopub.status.busy": "2021-10-08T00:24:08.729866Z",
     "iopub.status.idle": "2021-10-08T00:24:08.740863Z",
     "shell.execute_reply": "2021-10-08T00:24:08.739860Z",
     "shell.execute_reply.started": "2021-10-08T00:24:08.730865Z"
    }
   },
   "outputs": [
    {
     "data": {
      "text/plain": [
       "({0: {x, y}, 1: {a, b, x}, 2: {b, c}, 3: {a, b, c}},\n",
       " {x},\n",
       " {0: y, 1: b, 2: c, 3: a})"
      ]
     },
     "execution_count": 3,
     "metadata": {},
     "output_type": "execute_result"
    }
   ],
   "source": [
    "eqvars(eqs), default_in(eqs), default_out(eqs)"
   ]
  },
  {
   "cell_type": "markdown",
   "id": "14f74667",
   "metadata": {},
   "source": [
    "### New library"
   ]
  },
  {
   "cell_type": "code",
   "execution_count": 4,
   "id": "f81ffa07",
   "metadata": {},
   "outputs": [],
   "source": [
    "from engine.torchengine import AnalyticalSetSympy, EliminateAnalysisMergeResiduals, EliminateAnalysis, ElimResidual\n",
    "from engine.torchdata import symbols, reverse_indices, load_vals\n",
    "from graph.operators import invert_edges\n",
    "from graph.graphutils import sources"
   ]
  },
  {
   "cell_type": "code",
   "execution_count": 5,
   "id": "343669ef",
   "metadata": {},
   "outputs": [],
   "source": [
    "x, a, c, y, b, indices = symbols('x, a, c, y, b')\n",
    "eq0 = AnalyticalSetSympy(x**2, y, indices)\n",
    "eq1 = AnalyticalSetSympy(2*a-x, b, indices)\n",
    "eq2 = AnalyticalSetSympy(b**2, c, indices)\n",
    "eq3 = AnalyticalSetSympy(c*b, a, indices)\n",
    "sets = {idx:eq for idx,eq in enumerate([eq0,eq1,eq2,eq3])}"
   ]
  },
  {
   "cell_type": "code",
   "execution_count": 6,
   "id": "475c5edc",
   "metadata": {},
   "outputs": [],
   "source": [
    "edges_in = {idx: reverse_indices(s.analysis.structure[0], indices) for idx,s in sets.items()}\n",
    "edges_out = {idx: reverse_indices(s.analysis.structure[1], indices) for idx,s in sets.items()}\n",
    "edges = (edges_in, edges_out)"
   ]
  },
  {
   "cell_type": "code",
   "execution_count": 7,
   "id": "3315332b",
   "metadata": {},
   "outputs": [
    {
     "data": {
      "text/plain": [
       "({0: (x, y), 1: (a, x, b), 2: (b, c), 3: (b, c, a)},\n",
       " {x},\n",
       " {0: (y,), 1: (b,), 2: (c,), 3: (a,)})"
      ]
     },
     "execution_count": 7,
     "metadata": {},
     "output_type": "execute_result"
    }
   ],
   "source": [
    "invert_edges(*edges)[0], sources(*edges), edges_out"
   ]
  },
  {
   "cell_type": "markdown",
   "id": "03fd4ce3",
   "metadata": {},
   "source": [
    "## 2. Multidisciplinary analysis (without any elimination)"
   ]
  },
  {
   "cell_type": "markdown",
   "id": "3b52e248",
   "metadata": {},
   "source": [
    "### New library"
   ]
  },
  {
   "cell_type": "code",
   "execution_count": 8,
   "id": "b0d46180",
   "metadata": {},
   "outputs": [],
   "source": [
    "import torch\n",
    "import numpy as np"
   ]
  },
  {
   "cell_type": "code",
   "execution_count": 9,
   "id": "fc888623",
   "metadata": {},
   "outputs": [
    {
     "data": {
      "text/plain": [
       "tensor([2.0000, 1.5827, 1.3581, 4.0000, 1.1654], dtype=torch.float64)"
      ]
     },
     "execution_count": 9,
     "metadata": {},
     "output_type": "execute_result"
    }
   ],
   "source": [
    "R = EliminateAnalysisMergeResiduals(functions=[s.residual for s in sets.values()])\n",
    "solvefor = torch.tensor([s.analysis.structure[1] for s in sets.values()])\n",
    "S = ElimResidual(R, solvefor, indices, solvefor_raw=True)\n",
    "x0= load_vals({'x': 2}, indices, default=1, isdict=True)\n",
    "S(x0)"
   ]
  },
  {
   "cell_type": "markdown",
   "id": "2030d4ae",
   "metadata": {},
   "source": [
    "### Old library (with openMDAO)"
   ]
  },
  {
   "cell_type": "code",
   "execution_count": 1,
   "id": "2d69a563",
   "metadata": {},
   "outputs": [],
   "source": [
    "import openmdao.api as om\n",
    "from problemgen.gen1.openmdao import buildidpvars, coupled_run\n",
    "from problemgen.gen1.resultscheck import get_outputs, check_eqs"
   ]
  },
  {
   "cell_type": "code",
   "execution_count": 5,
   "id": "f3f99b98",
   "metadata": {
    "execution": {
     "iopub.execute_input": "2021-10-08T00:24:13.113944Z",
     "iopub.status.busy": "2021-10-08T00:24:13.113944Z",
     "iopub.status.idle": "2021-10-08T00:24:13.142933Z",
     "shell.execute_reply": "2021-10-08T00:24:13.140935Z",
     "shell.execute_reply.started": "2021-10-08T00:24:13.113944Z"
    }
   },
   "outputs": [],
   "source": [
    "prob = om.Problem()\n",
    "model = prob.model\n",
    "dins = default_in(eqs)\n",
    "buildidpvars(dins, model)\n",
    "counter = coupled_run(eqs, [], solve_order=(0,1,2,3), parent=model, \n",
    "                      root=model, maxiter=20)\n",
    "prob.setup();"
   ]
  },
  {
   "cell_type": "code",
   "execution_count": 8,
   "id": "bed87095",
   "metadata": {
    "execution": {
     "iopub.execute_input": "2021-10-08T00:24:13.634936Z",
     "iopub.status.busy": "2021-10-08T00:24:13.634936Z",
     "iopub.status.idle": "2021-10-08T00:24:13.673935Z",
     "shell.execute_reply": "2021-10-08T00:24:13.672930Z",
     "shell.execute_reply.started": "2021-10-08T00:24:13.634936Z"
    }
   },
   "outputs": [
    {
     "name": "stdout",
     "output_type": "stream",
     "text": [
      "\n",
      "======\n",
      "group1\n",
      "======\n",
      "NL: Newton Converged in 7 iterations\n"
     ]
    }
   ],
   "source": [
    "prob.run_model()"
   ]
  },
  {
   "cell_type": "code",
   "execution_count": 9,
   "id": "9922d3a5",
   "metadata": {},
   "outputs": [
    {
     "name": "stdout",
     "output_type": "stream",
     "text": [
      "5 Explicit Output(s) in 'model'\n",
      "\n",
      "varname  val         \n",
      "-------  ------------\n",
      "inp\n",
      "  x      [2.]        \n",
      "group1\n",
      "  eq0\n",
      "    y    [4.]        \n",
      "  eq1\n",
      "    b    [1.16537304]\n",
      "  eq2\n",
      "    c    [1.35809433]\n",
      "  eq3\n",
      "    a    [1.58268652]\n",
      "\n",
      "\n",
      "0 Implicit Output(s) in 'model'\n",
      "\n",
      "\n"
     ]
    }
   ],
   "source": [
    "prob.model.list_outputs();"
   ]
  },
  {
   "cell_type": "code",
   "execution_count": 10,
   "id": "61f4eafd",
   "metadata": {
    "execution": {
     "iopub.execute_input": "2021-10-08T00:24:14.133202Z",
     "iopub.status.busy": "2021-10-08T00:24:14.132203Z",
     "iopub.status.idle": "2021-10-08T00:24:14.161194Z",
     "shell.execute_reply": "2021-10-08T00:24:14.160200Z",
     "shell.execute_reply.started": "2021-10-08T00:24:14.133202Z"
    }
   },
   "outputs": [
    {
     "data": {
      "text/plain": [
       "{0: (4.0, 4.0),\n",
       " 1: (1.1653730430698817, 1.1653730431232594),\n",
       " 2: (1.3580943295139563, 1.3580943295139563),\n",
       " 3: (1.5826865215616297, 1.5826865215616297)}"
      ]
     },
     "execution_count": 10,
     "metadata": {},
     "output_type": "execute_result"
    }
   ],
   "source": [
    "check_eqs(eqs, get_outputs(eqs, model, varasstring=True))"
   ]
  },
  {
   "cell_type": "markdown",
   "id": "bc7f3fd0",
   "metadata": {},
   "source": [
    "## 3. MDA with elimination (tearing)"
   ]
  },
  {
   "cell_type": "markdown",
   "id": "3759df58",
   "metadata": {},
   "source": [
    "### Old library"
   ]
  },
  {
   "cell_type": "code",
   "execution_count": 31,
   "id": "e97b4f85",
   "metadata": {},
   "outputs": [],
   "source": [
    "from modeling.compute import Evaluable\n",
    "from functools import reduce\n",
    "import numpy as np\n",
    "import scipy"
   ]
  },
  {
   "cell_type": "code",
   "execution_count": 13,
   "id": "ce108d5d",
   "metadata": {
    "execution": {
     "iopub.execute_input": "2021-10-08T00:29:35.569146Z",
     "iopub.status.busy": "2021-10-08T00:29:35.569146Z",
     "iopub.status.idle": "2021-10-08T00:29:35.584147Z",
     "shell.execute_reply": "2021-10-08T00:29:35.583146Z",
     "shell.execute_reply.started": "2021-10-08T00:29:35.569146Z"
    }
   },
   "outputs": [],
   "source": [
    "r = [left-right for left, right in eqs.values()]\n",
    "ev = [Evaluable.fromsympy(elt) for elt in r] #residuals\n",
    "ex = [Evaluable.fromsympy(right) for left, right in eqs.values()]"
   ]
  },
  {
   "cell_type": "code",
   "execution_count": 34,
   "id": "66451b98",
   "metadata": {
    "execution": {
     "iopub.execute_input": "2021-10-08T01:19:37.860952Z",
     "iopub.status.busy": "2021-10-08T01:19:37.859954Z",
     "iopub.status.idle": "2021-10-08T01:19:37.894485Z",
     "shell.execute_reply": "2021-10-08T01:19:37.893485Z",
     "shell.execute_reply.started": "2021-10-08T01:19:37.860952Z"
    }
   },
   "outputs": [],
   "source": [
    "def resolve_eliminated_implicit(eqs, elim_order, impl_eqs):\n",
    "    inp = default_in(eqs)\n",
    "    sols = {elt.name: elt.varval for elt in inp}\n",
    "    expected_ex = default_in([eqs[elt] for elt in elim_order], eqdictin=False)\n",
    "    ex_out = {eqs[elt][0] for elt in elim_order}\n",
    "    expected_im = reduce(lambda a,b: a.union(b), [eqs[elt][1].free_symbols for elt in impl_eqs])\n",
    "    inp_impl = expected_ex.union(expected_im) -ex_out - inp\n",
    "    inp_impl_idx = list(enumerate(inp_impl))\n",
    "    r = [left-right for left, right in eqs.values()]\n",
    "    ev = [Evaluable.fromsympy(elt) for elt in r]\n",
    "    def only_a(a):\n",
    "        sols.update({elt.name: a[idx] for idx,elt in inp_impl_idx})\n",
    "        for elt in elim_order:\n",
    "            sols.update({eqs[elt][0].name : ex[elt].evaldict(sols)})\n",
    "        return  np.array([ev[evi].evaldict(sols) for evi in impl_eqs])\n",
    "    return only_a"
   ]
  },
  {
   "cell_type": "code",
   "execution_count": 35,
   "id": "4f982430",
   "metadata": {
    "execution": {
     "iopub.execute_input": "2021-10-08T01:20:51.758385Z",
     "iopub.status.busy": "2021-10-08T01:20:51.758385Z",
     "iopub.status.idle": "2021-10-08T01:20:51.779378Z",
     "shell.execute_reply": "2021-10-08T01:20:51.778419Z",
     "shell.execute_reply.started": "2021-10-08T01:20:51.758385Z"
    }
   },
   "outputs": [
    {
     "data": {
      "text/plain": [
       "array([1.35809433, 1.58268652])"
      ]
     },
     "execution_count": 35,
     "metadata": {},
     "output_type": "execute_result"
    }
   ],
   "source": [
    "only_a = resolve_eliminated_implicit(eqs, [0,1], [2,3]) # eliminates eq 0\n",
    "scipy.optimize.fsolve(only_a, np.array([1., 1.]))"
   ]
  },
  {
   "cell_type": "markdown",
   "id": "37f731b6",
   "metadata": {},
   "source": [
    "### New library"
   ]
  },
  {
   "cell_type": "code",
   "execution_count": 51,
   "id": "9485225d",
   "metadata": {},
   "outputs": [],
   "source": [
    "import torch"
   ]
  },
  {
   "cell_type": "code",
   "execution_count": 52,
   "id": "05b648ab",
   "metadata": {},
   "outputs": [
    {
     "data": {
      "text/plain": [
       "tensor([2.0000, 1.5827, 1.3581, 1.0000, 1.0000], dtype=torch.float64)"
      ]
     },
     "execution_count": 52,
     "metadata": {},
     "output_type": "execute_result"
    }
   ],
   "source": [
    "R = EliminateAnalysisMergeResiduals(\n",
    "    analyses=[sets[idx].analysis for idx in [0,1]],\n",
    "    functions=[sets[idx].residual for idx in [2,3]])\n",
    "solvefor = torch.tensor([sets[idx].analysis.structure[1] for idx in [2,3]])\n",
    "S = ElimResidual(R, solvefor, indices, solvefor_raw=True)\n",
    "x0= load_vals({'x': 2}, indices, default=1, isdict=True)\n",
    "S(x0)"
   ]
  },
  {
   "cell_type": "markdown",
   "id": "56f323d7",
   "metadata": {},
   "source": [
    "**Option to update elimination vars**"
   ]
  },
  {
   "cell_type": "code",
   "execution_count": 55,
   "id": "3247eec5",
   "metadata": {},
   "outputs": [
    {
     "data": {
      "text/plain": [
       "tensor([2.0000, 1.5827, 1.3581, 4.0000, 1.1654], dtype=torch.float64)"
      ]
     },
     "execution_count": 55,
     "metadata": {},
     "output_type": "execute_result"
    }
   ],
   "source": [
    "A = EliminateAnalysis([sets[idx].analysis for idx in [0,1]]+[S])\n",
    "A(x0)"
   ]
  }
 ],
 "metadata": {
  "kernelspec": {
   "display_name": "mdo",
   "language": "python",
   "name": "python3"
  },
  "language_info": {
   "codemirror_mode": {
    "name": "ipython",
    "version": 3
   },
   "file_extension": ".py",
   "mimetype": "text/x-python",
   "name": "python",
   "nbconvert_exporter": "python",
   "pygments_lexer": "ipython3",
   "version": "3.9.18"
  },
  "vscode": {
   "interpreter": {
    "hash": "63364b8b09fa8bc3bb93c2fb70e282b5d0ec5f77fc4afa580dd0d6e30ea60b45"
   }
  }
 },
 "nbformat": 4,
 "nbformat_minor": 5
}
