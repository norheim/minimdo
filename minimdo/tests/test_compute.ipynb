{
 "cells": [
  {
   "cell_type": "code",
   "execution_count": 1,
   "id": "e5dd77d6",
   "metadata": {
    "execution": {
     "iopub.execute_input": "2021-10-08T00:23:35.760816Z",
     "iopub.status.busy": "2021-10-08T00:23:35.759774Z",
     "iopub.status.idle": "2021-10-08T00:23:40.464522Z",
     "shell.execute_reply": "2021-10-08T00:23:40.463527Z",
     "shell.execute_reply.started": "2021-10-08T00:23:35.760816Z"
    }
   },
   "outputs": [
    {
     "name": "stdout",
     "output_type": "stream",
     "text": [
      "Unable to import petsc4py. Parallel processing unavailable.\n",
      "Unable to import petsc4py. Parallel processing unavailable.\n"
     ]
    }
   ],
   "source": [
    "from modeling.compute import Var, eqvar, ureg, get_unit, buildidpvars, coupled_run, Evaluable, args_in_order, fill_args\n",
    "from inputresolver import reassigneq, eqvars, eqsonly, default_out, mdf_order, default_in, idx_eqlist\n",
    "from inputresolver import getallvars, invert_edges, resolve, reassign\n",
    "from representations import bipartite_repr, drawbipartite, digraph_repr, draw\n",
    "from compute_utils import get_outputs, check_eqs, print_out\n",
    "from pprint import pprint\n",
    "import networkx as nx\n",
    "import sympy as sp\n",
    "from sympy.utilities.lambdify import implemented_function\n",
    "import numpy as np\n",
    "from scipy import interpolate\n",
    "import openmdao.api as om\n",
    "from collections import OrderedDict\n",
    "import matplotlib.pyplot as plt"
   ]
  },
  {
   "cell_type": "code",
   "execution_count": 114,
   "id": "da622d6f",
   "metadata": {
    "execution": {
     "iopub.execute_input": "2021-10-08T01:09:48.439569Z",
     "iopub.status.busy": "2021-10-08T01:09:48.439569Z",
     "iopub.status.idle": "2021-10-08T01:09:48.452562Z",
     "shell.execute_reply": "2021-10-08T01:09:48.451560Z",
     "shell.execute_reply.started": "2021-10-08T01:09:48.439569Z"
    }
   },
   "outputs": [],
   "source": [
    "import scipy.optimize\n",
    "from functools import reduce"
   ]
  },
  {
   "cell_type": "code",
   "execution_count": 10,
   "id": "3edfc6bd",
   "metadata": {
    "execution": {
     "iopub.execute_input": "2021-10-08T00:24:07.771387Z",
     "iopub.status.busy": "2021-10-08T00:24:07.771387Z",
     "iopub.status.idle": "2021-10-08T00:24:07.794382Z",
     "shell.execute_reply": "2021-10-08T00:24:07.793384Z",
     "shell.execute_reply.started": "2021-10-08T00:24:07.771387Z"
    }
   },
   "outputs": [],
   "source": [
    "x = Var('x', 2)\n",
    "a = Var('a')\n",
    "c = Var('c')\n",
    "y, eq0 = eqvar('y', x**2)\n",
    "#y.varval = 10\n",
    "b, eq1 = eqvar('b', 2*a-x)\n",
    "eq2 = (c, b**2)\n",
    "eq3 = (a, c*b)\n",
    "eq_list = [eq1, eq2, eq3]"
   ]
  },
  {
   "cell_type": "code",
   "execution_count": 11,
   "id": "3205199d",
   "metadata": {
    "execution": {
     "iopub.execute_input": "2021-10-08T00:24:08.137234Z",
     "iopub.status.busy": "2021-10-08T00:24:08.137234Z",
     "iopub.status.idle": "2021-10-08T00:24:08.158764Z",
     "shell.execute_reply": "2021-10-08T00:24:08.157761Z",
     "shell.execute_reply.started": "2021-10-08T00:24:08.137234Z"
    }
   },
   "outputs": [
    {
     "data": {
      "text/plain": [
       "array([1.58268652, 1.16537304, 1.35809433])"
      ]
     },
     "execution_count": 11,
     "metadata": {},
     "output_type": "execute_result"
    }
   ],
   "source": [
    "scipy.optimize.fsolve(lambda x: np.array([x[1]-(2*x[0]-2), x[2]-x[1]**2, x[0]-x[2]*x[1]]), np.array([1,1,1]))"
   ]
  },
  {
   "cell_type": "code",
   "execution_count": 12,
   "id": "f7a81828",
   "metadata": {
    "execution": {
     "iopub.execute_input": "2021-10-08T00:24:08.730865Z",
     "iopub.status.busy": "2021-10-08T00:24:08.729866Z",
     "iopub.status.idle": "2021-10-08T00:24:08.740863Z",
     "shell.execute_reply": "2021-10-08T00:24:08.739860Z",
     "shell.execute_reply.started": "2021-10-08T00:24:08.730865Z"
    }
   },
   "outputs": [],
   "source": [
    "eqs = idx_eqlist(eq_list)\n",
    "eqv = eqvars(eqs)\n",
    "dins = default_in(eqs)\n",
    "dout = default_out(eqs)"
   ]
  },
  {
   "cell_type": "code",
   "execution_count": 13,
   "id": "f3f99b98",
   "metadata": {
    "execution": {
     "iopub.execute_input": "2021-10-08T00:24:13.113944Z",
     "iopub.status.busy": "2021-10-08T00:24:13.113944Z",
     "iopub.status.idle": "2021-10-08T00:24:13.142933Z",
     "shell.execute_reply": "2021-10-08T00:24:13.140935Z",
     "shell.execute_reply.started": "2021-10-08T00:24:13.113944Z"
    }
   },
   "outputs": [
    {
     "name": "stdout",
     "output_type": "stream",
     "text": [
      "eq0 b 2*a - x None\n",
      "eq1 c b**2 None\n",
      "eq2 a b*c None\n"
     ]
    }
   ],
   "source": [
    "prob = om.Problem()\n",
    "model = prob.model\n",
    "buildidpvars(dins, model)\n",
    "counter = coupled_run(eqs, [], (0,1,2), model, model, maxiter=100)\n",
    "prob.setup();"
   ]
  },
  {
   "cell_type": "code",
   "execution_count": 14,
   "id": "bed87095",
   "metadata": {
    "execution": {
     "iopub.execute_input": "2021-10-08T00:24:13.634936Z",
     "iopub.status.busy": "2021-10-08T00:24:13.634936Z",
     "iopub.status.idle": "2021-10-08T00:24:13.673935Z",
     "shell.execute_reply": "2021-10-08T00:24:13.672930Z",
     "shell.execute_reply.started": "2021-10-08T00:24:13.634936Z"
    }
   },
   "outputs": [
    {
     "name": "stdout",
     "output_type": "stream",
     "text": [
      "\n",
      "======\n",
      "group1\n",
      "======\n",
      "b [0.]\n",
      "c [1.]\n",
      "a [1.]\n",
      "b [1.2]\n",
      "c [1.44]\n",
      "a [1.68]\n",
      "b [1.16613757]\n",
      "c [1.35987682]\n",
      "a [1.58446628]\n",
      "b [1.16537337]\n",
      "c [1.35809509]\n",
      "a [1.58268717]\n",
      "b [1.16537304]\n",
      "c [1.35809433]\n",
      "a [1.58268652]\n",
      "NL: Newton Converged in 4 iterations\n"
     ]
    }
   ],
   "source": [
    "prob.run_model()"
   ]
  },
  {
   "cell_type": "code",
   "execution_count": 15,
   "id": "61f4eafd",
   "metadata": {
    "execution": {
     "iopub.execute_input": "2021-10-08T00:24:14.133202Z",
     "iopub.status.busy": "2021-10-08T00:24:14.132203Z",
     "iopub.status.idle": "2021-10-08T00:24:14.161194Z",
     "shell.execute_reply": "2021-10-08T00:24:14.160200Z",
     "shell.execute_reply.started": "2021-10-08T00:24:14.133202Z"
    }
   },
   "outputs": [
    {
     "data": {
      "text/plain": [
       "{0: (1.1653730430624656, 1.16537304306247),\n",
       " 1: (1.3580943294965648, 1.35809432949667),\n",
       " 2: (1.5826865215312327, 1.58268652153129)}"
      ]
     },
     "execution_count": 15,
     "metadata": {},
     "output_type": "execute_result"
    }
   ],
   "source": [
    "check_eqs(eqs,get_outputs(eqs, model))"
   ]
  },
  {
   "cell_type": "code",
   "execution_count": 17,
   "id": "9e76cad1",
   "metadata": {
    "execution": {
     "iopub.execute_input": "2021-10-08T00:24:25.345072Z",
     "iopub.status.busy": "2021-10-08T00:24:25.344066Z",
     "iopub.status.idle": "2021-10-08T00:24:25.360066Z",
     "shell.execute_reply": "2021-10-08T00:24:25.359065Z",
     "shell.execute_reply.started": "2021-10-08T00:24:25.345072Z"
    }
   },
   "outputs": [],
   "source": [
    "order = ([1,2],3)"
   ]
  },
  {
   "cell_type": "code",
   "execution_count": 18,
   "id": "b0403397",
   "metadata": {
    "execution": {
     "iopub.execute_input": "2021-10-08T00:24:25.770068Z",
     "iopub.status.busy": "2021-10-08T00:24:25.770068Z",
     "iopub.status.idle": "2021-10-08T00:24:25.784065Z",
     "shell.execute_reply": "2021-10-08T00:24:25.783069Z",
     "shell.execute_reply.started": "2021-10-08T00:24:25.770068Z"
    }
   },
   "outputs": [
    {
     "data": {
      "text/plain": [
       "([1, 2], 3)"
      ]
     },
     "execution_count": 18,
     "metadata": {},
     "output_type": "execute_result"
    }
   ],
   "source": [
    "order"
   ]
  },
  {
   "cell_type": "code",
   "execution_count": 21,
   "id": "ce108d5d",
   "metadata": {
    "execution": {
     "iopub.execute_input": "2021-10-08T00:29:35.569146Z",
     "iopub.status.busy": "2021-10-08T00:29:35.569146Z",
     "iopub.status.idle": "2021-10-08T00:29:35.584147Z",
     "shell.execute_reply": "2021-10-08T00:29:35.583146Z",
     "shell.execute_reply.started": "2021-10-08T00:29:35.569146Z"
    }
   },
   "outputs": [],
   "source": [
    "r = [left-right for left, right in eqs.values()]"
   ]
  },
  {
   "cell_type": "code",
   "execution_count": 23,
   "id": "a3a98d11",
   "metadata": {
    "execution": {
     "iopub.execute_input": "2021-10-08T00:30:07.567849Z",
     "iopub.status.busy": "2021-10-08T00:30:07.567849Z",
     "iopub.status.idle": "2021-10-08T00:30:07.592823Z",
     "shell.execute_reply": "2021-10-08T00:30:07.591865Z",
     "shell.execute_reply.started": "2021-10-08T00:30:07.567849Z"
    }
   },
   "outputs": [],
   "source": [
    "ev = [Evaluable.fromsympy(elt) for elt in r]"
   ]
  },
  {
   "cell_type": "code",
   "execution_count": 36,
   "id": "0bd84603",
   "metadata": {
    "execution": {
     "iopub.execute_input": "2021-10-08T00:37:01.062511Z",
     "iopub.status.busy": "2021-10-08T00:37:01.061510Z",
     "iopub.status.idle": "2021-10-08T00:37:01.094048Z",
     "shell.execute_reply": "2021-10-08T00:37:01.092049Z",
     "shell.execute_reply.started": "2021-10-08T00:37:01.062511Z"
    }
   },
   "outputs": [],
   "source": [
    "ex = [Evaluable.fromsympy(right) for left, right in eqs.values()]"
   ]
  },
  {
   "cell_type": "code",
   "execution_count": 58,
   "id": "685eb56d",
   "metadata": {
    "execution": {
     "iopub.execute_input": "2021-10-08T00:54:55.508584Z",
     "iopub.status.busy": "2021-10-08T00:54:55.508584Z",
     "iopub.status.idle": "2021-10-08T00:54:55.533545Z",
     "shell.execute_reply": "2021-10-08T00:54:55.531545Z",
     "shell.execute_reply.started": "2021-10-08T00:54:55.508584Z"
    }
   },
   "outputs": [
    {
     "data": {
      "text/plain": [
       "{a, x}"
      ]
     },
     "execution_count": 58,
     "metadata": {},
     "output_type": "execute_result"
    }
   ],
   "source": [
    "default_in([eqs[elt] for elt in [0,1]], eqdictin=False)"
   ]
  },
  {
   "cell_type": "code",
   "execution_count": 61,
   "id": "c6c505d7",
   "metadata": {
    "execution": {
     "iopub.execute_input": "2021-10-08T00:55:17.580780Z",
     "iopub.status.busy": "2021-10-08T00:55:17.580780Z",
     "iopub.status.idle": "2021-10-08T00:55:17.596776Z",
     "shell.execute_reply": "2021-10-08T00:55:17.595777Z",
     "shell.execute_reply.started": "2021-10-08T00:55:17.580780Z"
    }
   },
   "outputs": [
    {
     "data": {
      "text/plain": [
       "{x}"
      ]
     },
     "execution_count": 61,
     "metadata": {},
     "output_type": "execute_result"
    }
   ],
   "source": [
    "default_in(eqs)"
   ]
  },
  {
   "cell_type": "code",
   "execution_count": 148,
   "id": "66451b98",
   "metadata": {
    "execution": {
     "iopub.execute_input": "2021-10-08T01:19:37.860952Z",
     "iopub.status.busy": "2021-10-08T01:19:37.859954Z",
     "iopub.status.idle": "2021-10-08T01:19:37.894485Z",
     "shell.execute_reply": "2021-10-08T01:19:37.893485Z",
     "shell.execute_reply.started": "2021-10-08T01:19:37.860952Z"
    }
   },
   "outputs": [],
   "source": [
    "def resolve_eliminated_implicit(eqs, elim_order, impl_eqs):\n",
    "    inp = default_in(eqs)\n",
    "    sols = {elt.name: elt.varval for elt in inp}\n",
    "    expected_ex = default_in([eqs[elt] for elt in elim_order], eqdictin=False)\n",
    "    ex_out = {eqs[elt][0] for elt in elim_order}\n",
    "    expected_im = reduce(lambda a,b: a.union(b), [eqs[elt][1].free_symbols for elt in impl_eqs])\n",
    "    inp_impl = expected_ex.union(expected_im) -ex_out - inp\n",
    "    inp_impl_idx = list(enumerate(inp_impl))\n",
    "    print(inp_impl_idx)\n",
    "    r = [left-right for left, right in eqs.values()]\n",
    "    ev = [Evaluable.fromsympy(elt) for elt in r]\n",
    "    def only_a(a):\n",
    "        sols.update({elt.name: a[idx] for idx,elt in inp_impl_idx})\n",
    "        for elt in elim_order:\n",
    "            sols.update({eqs[elt][0].name : ex[elt].evaldict(sols)})\n",
    "        return  np.array([ev[evi].evaldict(sols) for evi in impl_eqs])\n",
    "    return only_a"
   ]
  },
  {
   "cell_type": "code",
   "execution_count": 157,
   "id": "4f982430",
   "metadata": {
    "execution": {
     "iopub.execute_input": "2021-10-08T01:20:51.758385Z",
     "iopub.status.busy": "2021-10-08T01:20:51.758385Z",
     "iopub.status.idle": "2021-10-08T01:20:51.779378Z",
     "shell.execute_reply": "2021-10-08T01:20:51.778419Z",
     "shell.execute_reply.started": "2021-10-08T01:20:51.758385Z"
    }
   },
   "outputs": [
    {
     "name": "stdout",
     "output_type": "stream",
     "text": [
      "[(0, c), (1, a)]\n"
     ]
    }
   ],
   "source": [
    "only_a = resolve_eliminated_implicit(eqs, [0], [1,2])"
   ]
  },
  {
   "cell_type": "code",
   "execution_count": 155,
   "id": "8c633b03",
   "metadata": {
    "execution": {
     "iopub.execute_input": "2021-10-08T01:20:15.149253Z",
     "iopub.status.busy": "2021-10-08T01:20:15.149253Z",
     "iopub.status.idle": "2021-10-08T01:20:15.160204Z",
     "shell.execute_reply": "2021-10-08T01:20:15.159203Z",
     "shell.execute_reply.started": "2021-10-08T01:20:15.149253Z"
    }
   },
   "outputs": [
    {
     "data": {
      "text/plain": [
       "array([5.932])"
      ]
     },
     "execution_count": 155,
     "metadata": {},
     "output_type": "execute_result"
    }
   ],
   "source": [
    "only_a([0.1])"
   ]
  },
  {
   "cell_type": "code",
   "execution_count": 160,
   "id": "65d6ad2f",
   "metadata": {
    "execution": {
     "iopub.execute_input": "2021-10-08T01:21:08.046738Z",
     "iopub.status.busy": "2021-10-08T01:21:08.045738Z",
     "iopub.status.idle": "2021-10-08T01:21:08.058736Z",
     "shell.execute_reply": "2021-10-08T01:21:08.057738Z",
     "shell.execute_reply.started": "2021-10-08T01:21:08.046738Z"
    }
   },
   "outputs": [
    {
     "data": {
      "text/plain": [
       "array([1.35809433, 1.58268652])"
      ]
     },
     "execution_count": 160,
     "metadata": {},
     "output_type": "execute_result"
    }
   ],
   "source": [
    "scipy.optimize.fsolve(only_a, np.array([1., 1.]))"
   ]
  },
  {
   "cell_type": "code",
   "execution_count": 48,
   "id": "2e63e7e7",
   "metadata": {
    "execution": {
     "iopub.execute_input": "2021-10-08T00:40:47.274319Z",
     "iopub.status.busy": "2021-10-08T00:40:47.274319Z",
     "iopub.status.idle": "2021-10-08T00:40:47.297852Z",
     "shell.execute_reply": "2021-10-08T00:40:47.295848Z",
     "shell.execute_reply.started": "2021-10-08T00:40:47.274319Z"
    }
   },
   "outputs": [
    {
     "data": {
      "text/plain": [
       "{'x': 2, 'a': 0.1, 'b': -1.8, 'c': 3.24}"
      ]
     },
     "execution_count": 48,
     "metadata": {},
     "output_type": "execute_result"
    }
   ],
   "source": [
    "f = lambda inp: np.array([ev[2].evaldict({'x':x.varval, 'a':inp[0], 'b':inp[1], 'c':inp[2]}) for evi in ev])"
   ]
  },
  {
   "cell_type": "code",
   "execution_count": 34,
   "id": "06455a30",
   "metadata": {
    "execution": {
     "iopub.execute_input": "2021-10-08T00:34:53.602119Z",
     "iopub.status.busy": "2021-10-08T00:34:53.602119Z",
     "iopub.status.idle": "2021-10-08T00:34:53.620646Z",
     "shell.execute_reply": "2021-10-08T00:34:53.618646Z",
     "shell.execute_reply.started": "2021-10-08T00:34:53.602119Z"
    }
   },
   "outputs": [],
   "source": [
    "f = lambda inp: np.array([evi.evaldict({'x':x.varval, 'a':inp[0], 'b':inp[1], 'c':inp[2]}) for evi in ev])"
   ]
  },
  {
   "cell_type": "code",
   "execution_count": 35,
   "id": "ea80e32c",
   "metadata": {
    "execution": {
     "iopub.execute_input": "2021-10-08T00:34:53.998693Z",
     "iopub.status.busy": "2021-10-08T00:34:53.997693Z",
     "iopub.status.idle": "2021-10-08T00:34:54.014694Z",
     "shell.execute_reply": "2021-10-08T00:34:54.012692Z",
     "shell.execute_reply.started": "2021-10-08T00:34:53.998693Z"
    }
   },
   "outputs": [
    {
     "data": {
      "text/plain": [
       "array([2.  , 0.26, 0.04])"
      ]
     },
     "execution_count": 35,
     "metadata": {},
     "output_type": "execute_result"
    }
   ],
   "source": [
    "f(np.array([0.1, 0.2, 0.3]))"
   ]
  },
  {
   "cell_type": "code",
   "execution_count": null,
   "id": "05b648ab",
   "metadata": {},
   "outputs": [],
   "source": []
  }
 ],
 "metadata": {
  "kernelspec": {
   "display_name": "mdo",
   "language": "python",
   "name": "python3"
  },
  "language_info": {
   "codemirror_mode": {
    "name": "ipython",
    "version": 3
   },
   "file_extension": ".py",
   "mimetype": "text/x-python",
   "name": "python",
   "nbconvert_exporter": "python",
   "pygments_lexer": "ipython3",
   "version": "3.9.13 | packaged by conda-forge | (main, May 27 2022, 16:50:36) [MSC v.1929 64 bit (AMD64)]"
  },
  "vscode": {
   "interpreter": {
    "hash": "63364b8b09fa8bc3bb93c2fb70e282b5d0ec5f77fc4afa580dd0d6e30ea60b45"
   }
  }
 },
 "nbformat": 4,
 "nbformat_minor": 5
}
