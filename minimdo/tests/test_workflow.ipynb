{
 "cells": [
  {
   "cell_type": "code",
   "execution_count": 1,
   "metadata": {},
   "outputs": [],
   "source": [
    "from collections import OrderedDict\n",
    "from graph.workflow import order_from_tree"
   ]
  },
  {
   "cell_type": "code",
   "execution_count": 2,
   "metadata": {},
   "outputs": [],
   "source": [
    "test_order = [(1,2),3,([4,5,6],7),8]"
   ]
  },
  {
   "cell_type": "code",
   "execution_count": 3,
   "metadata": {},
   "outputs": [],
   "source": [
    "def order_walker(processed, inter, queue, nextparent=0, maxparent=0):\n",
    "    new_inter = [(elt, nextparent) for elt in queue]+inter\n",
    "    item, parent = new_inter.pop(0)\n",
    "    new_queue = []\n",
    "    inter_components = []\n",
    "    if isinstance(queue, list):\n",
    "        inter_components = [elt for elt in queue \n",
    "                            if not isinstance(elt, (list,tuple))]\n",
    "    if isinstance(item, (tuple, list)):\n",
    "        new_queue = item\n",
    "        if isinstance(item, tuple):\n",
    "            maxparent += 1\n",
    "            parent = maxparent\n",
    "    # elif isinstance(item, list):\n",
    "    #     new_queue = item\n",
    "    else:\n",
    "        processed += [(item,parent)]\n",
    "    return (inter_components, processed, new_inter, \n",
    "            new_queue, parent, maxparent)"
   ]
  },
  {
   "cell_type": "code",
   "execution_count": 4,
   "metadata": {},
   "outputs": [],
   "source": [
    "def decode_order(encoded_order):\n",
    "    processed, inter = [], []\n",
    "    queue = encoded_order\n",
    "    nextparent, maxparent = 1, 1\n",
    "    tree = {}\n",
    "    allintercomps = []\n",
    "    while len(inter) > 0 or len(queue) > 0:\n",
    "        intercomps, processed, inter, queue, newparent, maxparent = order_walker(\n",
    "            processed, inter, queue, nextparent, maxparent)\n",
    "        if newparent!=nextparent and newparent == maxparent:\n",
    "            tree[newparent] = nextparent\n",
    "        nextparent = newparent\n",
    "        allintercomps += intercomps\n",
    "    Ftree = OrderedDict(processed)\n",
    "    Eout = {c:(True,) for c in allintercomps}\n",
    "    return Ftree, tree,Eout "
   ]
  },
  {
   "cell_type": "code",
   "execution_count": 13,
   "metadata": {},
   "outputs": [],
   "source": [
    "test_order = ([(1,2)],3,4,5)\n",
    "test_order = [(1,2),3,([4,5,6],7),8]\n",
    "Ftree, Stree, Eout = decode_order(test_order)"
   ]
  },
  {
   "cell_type": "code",
   "execution_count": 14,
   "metadata": {},
   "outputs": [],
   "source": [
    "order = order_from_tree(Ftree, Stree, Eout, mergeendcomp=False)"
   ]
  },
  {
   "cell_type": "code",
   "execution_count": 75,
   "metadata": {},
   "outputs": [
    {
     "data": {
      "text/plain": [
       "[(SOLVER, 1, None),\n",
       " (SOLVER, 2, 1),\n",
       " (ENDCOMP, 1, 2),\n",
       " (ENDCOMP, 2, 2),\n",
       " (COMP, 3, 1),\n",
       " (SOLVER, 3, 1),\n",
       " (COMP, 4, 3),\n",
       " (COMP, 5, 3),\n",
       " (COMP, 6, 3),\n",
       " (SOLVER, 4, 3),\n",
       " (ENDCOMP, 7, 3),\n",
       " (ENDCOMP, 8, 4),\n",
       " (ENDCOMP, 9, 4)]"
      ]
     },
     "execution_count": 75,
     "metadata": {},
     "output_type": "execute_result"
    }
   ],
   "source": [
    "order"
   ]
  },
  {
   "cell_type": "code",
   "execution_count": 70,
   "metadata": {},
   "outputs": [],
   "source": [
    "from graph.workflow import EXPL, IMPL, EQ, NEQ, OBJ, SOLVE, OPT, SOLVER, VAR, COMP, ENDCOMP\n",
    "from graph.graphutils import root_solver"
   ]
  },
  {
   "cell_type": "code",
   "execution_count": 121,
   "metadata": {},
   "outputs": [
    {
     "data": {
      "text/plain": [
       "('',\n",
       " 'ELIM',\n",
       " [('analys', 'ELIMSOLVE', [], [1, 2]),\n",
       "  3,\n",
       "  ('analys', 'ELIMSOLVE', [4, ('analys', 'ELIMSOLVE', [], [5, 9]), 6], [7]),\n",
       "  8],\n",
       " [])"
      ]
     },
     "execution_count": 121,
     "metadata": {},
     "output_type": "execute_result"
    }
   ],
   "source": [
    "test_order = [(1,2),3,([4,(5,9),6],7),8]\n",
    "components = []\n",
    "def process(elt, key): \n",
    "    if isinstance(elt, tuple): \n",
    "        if isinstance(elt[0], list):\n",
    "            first_elt = [process(subelt, 'analys') for subelt in elt[0]]\n",
    "            component = ('ELIMSOLVE', first_elt, list(elt[1:]))\n",
    "            components.append(component)\n",
    "            return (key,)+component\n",
    "        else:\n",
    "            component = ('ELIMSOLVE', [], [process(subelt, 'res') for subelt in elt])\n",
    "            components.append(component)\n",
    "            return (key,)+component\n",
    "    elif isinstance(elt, list):\n",
    "        component = ('ELIM', [process(subelt, 'analys') for subelt in elt],[])\n",
    "        components.append(component)\n",
    "        return (key,)+component\n",
    "    else:\n",
    "        return elt\n",
    "process(test_order, '')"
   ]
  },
  {
   "cell_type": "code",
   "execution_count": 122,
   "metadata": {},
   "outputs": [
    {
     "data": {
      "text/plain": [
       "[('ELIMSOLVE', [], [1, 2]),\n",
       " ('ELIMSOLVE', [], [5, 9]),\n",
       " ('ELIMSOLVE', [4, ('analys', 'ELIMSOLVE', [], [5, 9]), 6], [7]),\n",
       " ('ELIM',\n",
       "  [('analys', 'ELIMSOLVE', [], [1, 2]),\n",
       "   3,\n",
       "   ('analys', 'ELIMSOLVE', [4, ('analys', 'ELIMSOLVE', [], [5, 9]), 6], [7]),\n",
       "   8],\n",
       "  [])]"
      ]
     },
     "execution_count": 122,
     "metadata": {},
     "output_type": "execute_result"
    }
   ],
   "source": [
    "components # need to create dictionary with instances"
   ]
  },
  {
   "cell_type": "markdown",
   "metadata": {},
   "source": [
    "# Old code"
   ]
  },
  {
   "cell_type": "code",
   "execution_count": 62,
   "metadata": {},
   "outputs": [],
   "source": [
    "def compute_order(seq_order, solve_order, parent=0, counter=0):\n",
    "    counter+=1\n",
    "    group = '{}.{}'.format(parent, counter)\n",
    "    print(' '*len(group), 'create group: ', group)\n",
    "    if solve_order:\n",
    "        order = solve_order\n",
    "        print(' '*len(group),'create system solver for ',group)\n",
    "        if seq_order:\n",
    "            compute_order(seq_order, (), group, counter)\n",
    "    else:\n",
    "        print(' '*len(group),'default sequential solver for ', group)\n",
    "        order = seq_order\n",
    "    for idx, eqnelt in enumerate(order):\n",
    "        if isinstance(eqnelt, list):\n",
    "            counter = compute_order(eqnelt, (), group, counter)\n",
    "        elif isinstance(eqnelt, tuple):\n",
    "            if isinstance(eqnelt[0], list):\n",
    "                ordered = eqnelt[0]\n",
    "                unordered = eqnelt[1:]\n",
    "            else:\n",
    "                ordered = []\n",
    "                unordered = eqnelt\n",
    "            counter = compute_order(ordered, unordered, group, counter)\n",
    "        else:\n",
    "            print(' '*(len(group)+2),'add to ', group, ' eq: ', eqnelt)\n",
    "    return counter"
   ]
  },
  {
   "cell_type": "code",
   "execution_count": 65,
   "metadata": {},
   "outputs": [
    {
     "name": "stdout",
     "output_type": "stream",
     "text": [
      "    create group:  0.1\n",
      "    create system solver for  0.1\n",
      "      create group:  0.1.2\n",
      "      create system solver for  0.1.2\n",
      "        add to  0.1.2  eq:  1\n",
      "        add to  0.1.2  eq:  2\n",
      "      add to  0.1  eq:  3\n",
      "      create group:  0.1.3\n",
      "      create system solver for  0.1.3\n",
      "        create group:  0.1.3.4\n",
      "        default sequential solver for  0.1.3.4\n",
      "          add to  0.1.3.4  eq:  4\n",
      "          add to  0.1.3.4  eq:  5\n",
      "          add to  0.1.3.4  eq:  6\n",
      "        add to  0.1.3  eq:  7\n",
      "      add to  0.1  eq:  8\n"
     ]
    }
   ],
   "source": [
    "compute_order([],test_order);"
   ]
  }
 ],
 "metadata": {
  "kernelspec": {
   "display_name": "minimdo",
   "language": "python",
   "name": "python3"
  },
  "language_info": {
   "codemirror_mode": {
    "name": "ipython",
    "version": 3
   },
   "file_extension": ".py",
   "mimetype": "text/x-python",
   "name": "python",
   "nbconvert_exporter": "python",
   "pygments_lexer": "ipython3",
   "version": "3.9.18"
  },
  "orig_nbformat": 4
 },
 "nbformat": 4,
 "nbformat_minor": 2
}
