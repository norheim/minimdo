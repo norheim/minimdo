{
 "cells": [
  {
   "cell_type": "code",
   "execution_count": 2,
   "id": "c173232e-ea45-4234-a7bf-1aa9665037fc",
   "metadata": {
    "execution": {
     "iopub.execute_input": "2022-04-18T15:56:21.628830Z",
     "iopub.status.busy": "2022-04-18T15:56:21.628830Z",
     "iopub.status.idle": "2022-04-18T15:56:21.640617Z",
     "shell.execute_reply": "2022-04-18T15:56:21.639694Z",
     "shell.execute_reply.started": "2022-04-18T15:56:21.628830Z"
    }
   },
   "outputs": [],
   "source": [
    "from utils.executeformulations import perturb_inputs"
   ]
  },
  {
   "cell_type": "code",
   "execution_count": 3,
   "id": "bfea2094-ce4e-4a26-a48f-d6beaf16ee6c",
   "metadata": {
    "execution": {
     "iopub.execute_input": "2022-04-18T17:36:02.346960Z",
     "iopub.status.busy": "2022-04-18T17:36:02.345963Z",
     "iopub.status.idle": "2022-04-18T17:36:02.352794Z",
     "shell.execute_reply": "2022-04-18T17:36:02.352045Z",
     "shell.execute_reply.started": "2022-04-18T17:36:02.346960Z"
    },
    "tags": []
   },
   "outputs": [],
   "source": [
    "x0 = {'x0': 10, 'x1': 10, 'x2':0, 'x3':0}"
   ]
  },
  {
   "cell_type": "code",
   "execution_count": 4,
   "id": "8d0bb4f1",
   "metadata": {},
   "outputs": [
    {
     "data": {
      "text/plain": [
       "{'x0': 10, 'x1': 4.749700534763993, 'x2': -8.67987756747259, 'x3': 0}"
      ]
     },
     "execution_count": 4,
     "metadata": {},
     "output_type": "execute_result"
    }
   ],
   "source": [
    "perturb_inputs(['x0'], (1,2), ['x2','x1'], (0,10), x0)"
   ]
  }
 ],
 "metadata": {
  "kernelspec": {
   "display_name": "minimdo",
   "language": "python",
   "name": "python3"
  },
  "language_info": {
   "codemirror_mode": {
    "name": "ipython",
    "version": 3
   },
   "file_extension": ".py",
   "mimetype": "text/x-python",
   "name": "python",
   "nbconvert_exporter": "python",
   "pygments_lexer": "ipython3",
   "version": "3.9.18"
  },
  "vscode": {
   "interpreter": {
    "hash": "a694de6fda351b2e6abf6df342a83029ffd7840d5f4e2b018751ced956a6df2b"
   }
  }
 },
 "nbformat": 4,
 "nbformat_minor": 5
}
