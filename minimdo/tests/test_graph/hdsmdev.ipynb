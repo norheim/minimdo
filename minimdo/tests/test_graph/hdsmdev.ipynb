{
 "cells": [
  {
   "cell_type": "code",
   "execution_count": 1,
   "id": "5e780fe4-9e63-401a-91cc-70611eb6b255",
   "metadata": {
    "execution": {
     "iopub.execute_input": "2022-06-21T23:29:32.521805Z",
     "iopub.status.busy": "2022-06-21T23:29:32.521608Z",
     "iopub.status.idle": "2022-06-21T23:29:34.540868Z",
     "shell.execute_reply": "2022-06-21T23:29:34.540868Z",
     "shell.execute_reply.started": "2022-06-21T23:29:32.521805Z"
    },
    "tags": []
   },
   "outputs": [],
   "source": [
    "from utils.polycasebuilder import generate_random_polynomials\n",
    "from utils.randomstructure import generate_random_prob\n",
    "from graph.matrixview import render_incidence\n",
    "from graph.graphutils import VAR, COMP, SOLVER, namefromid\n",
    "from collections import OrderedDict"
   ]
  },
  {
   "cell_type": "markdown",
   "id": "980f8320",
   "metadata": {},
   "source": [
    "### Flat tree"
   ]
  },
  {
   "cell_type": "code",
   "execution_count": 42,
   "id": "3bec97e4",
   "metadata": {},
   "outputs": [
    {
     "data": {
      "image/png": "[encoded data removed]",
      "text/plain": [
       "<Figure size 300x300 with 1 Axes>"
      ]
     },
     "metadata": {},
     "output_type": "display_data"
    }
   ],
   "source": [
    "n_eqs, n_vars, seed, sparsity = 6, 8, 1, 0.8\n",
    "eqv, varinc, out_offset = generate_random_prob(n_eqs, n_vars, seed, sparsity)\n",
    "polynomials, var_mapping, edges, tree, dout = generate_random_polynomials(eqv, out_offset, n_eqs)\n",
    "render_incidence(edges, tree, figsize=(3,3), fontsize=14);"
   ]
  },
  {
   "cell_type": "markdown",
   "id": "cef4e45f",
   "metadata": {},
   "source": [
    "### Nested tree"
   ]
  },
  {
   "cell_type": "code",
   "execution_count": 54,
   "id": "42ef3efc",
   "metadata": {},
   "outputs": [],
   "source": [
    "from graph.graphutils import edges_to_Ein_Eout"
   ]
  },
  {
   "cell_type": "code",
   "execution_count": 56,
   "id": "2ff06bf3",
   "metadata": {},
   "outputs": [],
   "source": [
    "Ein, Eout = edges_to_Ein_Eout(edges)"
   ]
  },
  {
   "cell_type": "code",
   "execution_count": 62,
   "id": "4dc3a30a",
   "metadata": {},
   "outputs": [],
   "source": [
    "Ein[5] = Ein[5]+Eout[5]\n",
    "Eout[5] = (None,)"
   ]
  },
  {
   "cell_type": "code",
   "execution_count": 64,
   "id": "2653d2b4-1929-4dde-ae38-1801a385a449",
   "metadata": {
    "execution": {
     "iopub.execute_input": "2022-06-21T23:29:35.189991Z",
     "iopub.status.busy": "2022-06-21T23:29:35.189991Z",
     "iopub.status.idle": "2022-06-21T23:29:35.199325Z",
     "shell.execute_reply": "2022-06-21T23:29:35.199045Z",
     "shell.execute_reply.started": "2022-06-21T23:29:35.189991Z"
    },
    "tags": []
   },
   "outputs": [],
   "source": [
    "ntree = (\n",
    "    OrderedDict([(0,1),(1,1),(2,1),(3,2),(4,2),(5,3)]),\n",
    "    {1:3,2:3},\n",
    "    {5:3}\n",
    "     )"
   ]
  },
  {
   "cell_type": "code",
   "execution_count": 65,
   "id": "2e02d577-c049-4530-bcef-3bbf84a529c4",
   "metadata": {
    "execution": {
     "iopub.execute_input": "2022-06-21T23:42:36.319795Z",
     "iopub.status.busy": "2022-06-21T23:42:36.319795Z",
     "iopub.status.idle": "2022-06-21T23:42:36.329355Z",
     "shell.execute_reply": "2022-06-21T23:42:36.329151Z",
     "shell.execute_reply.started": "2022-06-21T23:42:36.319795Z"
    },
    "tags": []
   },
   "outputs": [],
   "source": [
    "nodetyperepr = {VAR: 'x_{}', COMP: 'f_{}', SOLVER: '{}'}\n",
    "namingfunc = namefromid(nodetyperepr)"
   ]
  },
  {
   "cell_type": "code",
   "execution_count": 67,
   "id": "4b712a8a-6747-4c51-bb9a-475804e5fca6",
   "metadata": {
    "execution": {
     "iopub.execute_input": "2022-06-21T23:42:36.588849Z",
     "iopub.status.busy": "2022-06-21T23:42:36.588849Z",
     "iopub.status.idle": "2022-06-21T23:42:36.732936Z",
     "shell.execute_reply": "2022-06-21T23:42:36.732804Z",
     "shell.execute_reply.started": "2022-06-21T23:42:36.588849Z"
    },
    "tags": []
   },
   "outputs": [
    {
     "data": {
      "image/png": "[encoded data removed]",
      "text/plain": [
       "<Figure size 300x300 with 1 Axes>"
      ]
     },
     "metadata": {},
     "output_type": "display_data"
    }
   ],
   "source": [
    "render_incidence((Ein,Eout,{}), ntree, namingfunc, figsize=(3,3), fontsize=14);"
   ]
  }
 ],
 "metadata": {
  "kernelspec": {
   "display_name": "minimdo",
   "language": "python",
   "name": "python3"
  },
  "language_info": {
   "codemirror_mode": {
    "name": "ipython",
    "version": 3
   },
   "file_extension": ".py",
   "mimetype": "text/x-python",
   "name": "python",
   "nbconvert_exporter": "python",
   "pygments_lexer": "ipython3",
   "version": "3.9.18"
  }
 },
 "nbformat": 4,
 "nbformat_minor": 5
}
