{
 "cells": [
  {
   "cell_type": "markdown",
   "id": "6f77f05f",
   "metadata": {},
   "source": [
    "# Engine: openmdao"
   ]
  },
  {
   "cell_type": "code",
   "execution_count": null,
   "id": "6e49b6d1",
   "metadata": {},
   "outputs": [],
   "source": [
    "from modeling.compute import Var, ureg\n",
    "from engine.gen1mdao.openmdao import coupled_run, buildidpvars, get_outputs\n",
    "from modeling.gen1.resultscheck import print_out\n",
    "from modeling.gen1.compute import eqvar\n",
    "from trash.inputresolver import eqvars, default_out, default_in, mdf_order\n",
    "import openmdao.api as om"
   ]
  },
  {
   "cell_type": "code",
   "execution_count": 2,
   "id": "ed013acb",
   "metadata": {},
   "outputs": [],
   "source": [
    "# From outside\n",
    "E_service = Var('E_service', 20, unit='W*hr')\n",
    "# From inside\n",
    "mu_batt = Var('mu_batt', 30, unit='W*hr/kg')\n",
    "DOD = Var('DOD', 0.4)\n",
    "eta_trans = Var('eta_trans', 0.85)\n",
    "nu_batt = Var('nu_batt', 450, unit='kW*hr/(m**3)')\n",
    "N = Var('N', 1)\n",
    "C, eq1 = eqvar('C', E_service/(DOD*N*eta_trans), unit='kW*hr')\n",
    "m_batt_zero = Var('m_batt_zero', 5, 'kg')\n",
    "m_batt, eq2 = eqvar('m_batt', C/mu_batt + m_batt_zero, 'kg')\n",
    "Vol_batt, eq3 = eqvar('Vol_batt', C/nu_batt, 'm**3')"
   ]
  },
  {
   "cell_type": "code",
   "execution_count": 3,
   "id": "ac275e26",
   "metadata": {},
   "outputs": [
    {
     "data": {
      "text/plain": [
       "[0, 1, 2]"
      ]
     },
     "execution_count": 3,
     "metadata": {},
     "output_type": "execute_result"
    }
   ],
   "source": [
    "eqs={idx:eq for idx, eq in enumerate([eq1, eq2, eq3])}\n",
    "ins = default_in(eqs)\n",
    "eqv = eqvars(eqs)\n",
    "dout = default_out(eqs)\n",
    "order = mdf_order(eqv, dout)\n",
    "order"
   ]
  },
  {
   "cell_type": "code",
   "execution_count": 4,
   "id": "d0e4374c",
   "metadata": {},
   "outputs": [],
   "source": [
    "prob = om.Problem()\n",
    "model = prob.model\n",
    "counter = coupled_run(eqs, order, (), model, model, 0)\n",
    "buildidpvars(ins, model)\n",
    "prob.setup()\n",
    "prob.run_model()"
   ]
  },
  {
   "cell_type": "code",
   "execution_count": 5,
   "id": "fb82d63d",
   "metadata": {},
   "outputs": [],
   "source": [
    "prob.set_val('N', 1)\n",
    "prob.run_model()"
   ]
  },
  {
   "cell_type": "code",
   "execution_count": 6,
   "id": "1351e333",
   "metadata": {},
   "outputs": [
    {
     "data": {
      "text/plain": [
       "{m_batt_zero: 5.0,\n",
       " m_batt: 6.96078431372549,\n",
       " nu_batt: 450.0,\n",
       " C: 0.0588235294117647,\n",
       " N: 1.0,\n",
       " mu_batt: 30.0,\n",
       " Vol_batt: 0.000130718954248366,\n",
       " eta_trans: 0.85,\n",
       " DOD: 0.4,\n",
       " E_service: 20.0}"
      ]
     },
     "execution_count": 6,
     "metadata": {},
     "output_type": "execute_result"
    }
   ],
   "source": [
    "out = get_outputs(eqs, model)\n",
    "out"
   ]
  },
  {
   "cell_type": "code",
   "execution_count": 7,
   "id": "9950fd8d",
   "metadata": {},
   "outputs": [
    {
     "data": {
      "text/html": [
       "20.0 hour watt"
      ],
      "text/latex": [
       "$20.0\\ \\mathrm{hour} \\cdot \\mathrm{watt}$"
      ],
      "text/plain": [
       "20.0 <Unit('hour * watt')>"
      ]
     },
     "execution_count": 7,
     "metadata": {},
     "output_type": "execute_result"
    }
   ],
   "source": [
    "20.0*E_service.varunit"
   ]
  },
  {
   "cell_type": "code",
   "execution_count": 8,
   "id": "7acae1be",
   "metadata": {},
   "outputs": [
    {
     "data": {
      "text/plain": [
       "{m_batt_zero: '5.00 kg',\n",
       " m_batt: '6.96 kg',\n",
       " nu_batt: '450.00 h * kW / m ** 3',\n",
       " C: '58.82 W * h',\n",
       " N: '1.00',\n",
       " mu_batt: '30.00 h * mW / g',\n",
       " Vol_batt: '130718.95 mm ** 3',\n",
       " eta_trans: '0.85',\n",
       " DOD: '0.40',\n",
       " E_service: '20.00 W * h'}"
      ]
     },
     "execution_count": 8,
     "metadata": {},
     "output_type": "execute_result"
    }
   ],
   "source": [
    "print_out(out)"
   ]
  }
 ],
 "metadata": {
  "kernelspec": {
   "display_name": "minimdo",
   "language": "python",
   "name": "python3"
  },
  "language_info": {
   "codemirror_mode": {
    "name": "ipython",
    "version": 3
   },
   "file_extension": ".py",
   "mimetype": "text/x-python",
   "name": "python",
   "nbconvert_exporter": "python",
   "pygments_lexer": "ipython3",
   "version": "3.9.18"
  }
 },
 "nbformat": 4,
 "nbformat_minor": 5
}
