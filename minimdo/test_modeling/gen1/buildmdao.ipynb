{
 "cells": [
  {
   "cell_type": "code",
   "execution_count": 13,
   "id": "af24987b",
   "metadata": {},
   "outputs": [],
   "source": [
    "from modeling.gen1.notationcompute import optsolver, solver, explicit\n",
    "from modeling.compute import Par, Var\n",
    "import openmdao.api as om\n",
    "import sympy as sp"
   ]
  },
  {
   "cell_type": "markdown",
   "id": "684b22a0",
   "metadata": {},
   "source": [
    "### OpenMDAO run 1"
   ]
  },
  {
   "cell_type": "code",
   "execution_count": 14,
   "id": "160324a9",
   "metadata": {},
   "outputs": [],
   "source": [
    "a,x = Var('a'), Var('x')\n",
    "eqs = {\n",
    "    0: (a, x**2-2*x),\n",
    "    1: (None, a+sp.sin(x)-1),\n",
    "    2: (None, -x+2)\n",
    "}"
   ]
  },
  {
   "cell_type": "code",
   "execution_count": 15,
   "id": "307345bc",
   "metadata": {},
   "outputs": [
    {
     "name": "stdout",
     "output_type": "stream",
     "text": [
      "\n",
      "======\n",
      "group1\n",
      "======\n",
      "NL: Newton Converged in 6 iterations\n"
     ]
    }
   ],
   "source": [
    "prob = om.Problem()\n",
    "model = prob.model\n",
    "groups = {0: model}\n",
    "solver(groups, eqs, 0, 1, [x], [1]) \n",
    "explicit(groups, eqs, 1, a, 0)\n",
    "prob.setup();\n",
    "prob.set_solver_print(level=1)\n",
    "prob.run_model()"
   ]
  },
  {
   "cell_type": "code",
   "execution_count": 16,
   "id": "5ca53c3c",
   "metadata": {},
   "outputs": [
    {
     "name": "stdout",
     "output_type": "stream",
     "text": [
      "1 Explicit Output(s) in 'model'\n",
      "\n",
      "varname  val         \n",
      "-------  ------------\n",
      "group1\n",
      "  eq0\n",
      "    a    [0.11550053]\n",
      "\n",
      "\n",
      "1 Implicit Output(s) in 'model'\n",
      "\n",
      "varname  val         \n",
      "-------  ------------\n",
      "group1\n",
      "  res1\n",
      "    x    [2.05617258]\n",
      "\n",
      "\n"
     ]
    }
   ],
   "source": [
    "model.list_outputs();"
   ]
  },
  {
   "cell_type": "markdown",
   "id": "0f14c694",
   "metadata": {},
   "source": [
    "## OpenMDAO run 2"
   ]
  },
  {
   "cell_type": "code",
   "execution_count": 2,
   "id": "3b9ac68b",
   "metadata": {},
   "outputs": [],
   "source": [
    "p = Par('p', 0.1)\n",
    "a,b,c,d,e,x = Var('a'), Var('b'), Var('c'), Var('d'), Var('e'), Var('x')\n",
    "eqsn = {\n",
    "    0: (a, 2.0*x),\n",
    "    1: (x, b - 0.5),\n",
    "    2: (b, 2.0*c - 0.2*d - 40.0),\n",
    "    3: (c, d + 10),\n",
    "    4: (d, -0.5*e)\n",
    "}"
   ]
  },
  {
   "cell_type": "code",
   "execution_count": 3,
   "id": "bf61d099",
   "metadata": {},
   "outputs": [],
   "source": [
    "prob = om.Problem()\n",
    "model = prob.model\n",
    "groups = {0:model}"
   ]
  },
  {
   "cell_type": "code",
   "execution_count": 4,
   "id": "4bc93862",
   "metadata": {},
   "outputs": [],
   "source": [
    "explicit(groups, eqsn, 0, d, 4)\n",
    "explicit(groups, eqsn, 0, c, 3)\n",
    "explicit(groups, eqsn, 0, b, 2)\n",
    "explicit(groups, eqsn, 0, x, 1)\n",
    "explicit(groups, eqsn, 0, a, 0)"
   ]
  },
  {
   "cell_type": "code",
   "execution_count": 5,
   "id": "fbd9d419",
   "metadata": {},
   "outputs": [],
   "source": [
    "optsolver(groups, {5: (None, a**2+d**2+b**2)}, \n",
    "          0, 1, [e], [[],[],[5]])"
   ]
  },
  {
   "cell_type": "code",
   "execution_count": 6,
   "id": "46eb07d3",
   "metadata": {},
   "outputs": [],
   "source": [
    "prob.setup();"
   ]
  },
  {
   "cell_type": "code",
   "execution_count": 7,
   "id": "0b12b9ee",
   "metadata": {},
   "outputs": [
    {
     "name": "stdout",
     "output_type": "stream",
     "text": [
      "Optimization terminated successfully    (Exit mode 0)\n",
      "            Current function value: 121.17674418604648\n",
      "            Iterations: 2\n",
      "            Function evaluations: 3\n",
      "            Gradient evaluations: 2\n",
      "Optimization Complete\n",
      "-----------------------------------\n"
     ]
    }
   ],
   "source": [
    "#prob.set_val('c', 100)\n",
    "prob.set_solver_print(level=1)\n",
    "prob.driver = om.ScipyOptimizeDriver()\n",
    "prob.run_driver();"
   ]
  },
  {
   "cell_type": "code",
   "execution_count": 8,
   "id": "c5ecfbe5",
   "metadata": {},
   "outputs": [
    {
     "name": "stdout",
     "output_type": "stream",
     "text": [
      "9 Input(s) in 'model'\n",
      "\n",
      "varname  val           \n",
      "-------  --------------\n",
      "eq4\n",
      "  e      [-21.34883721]\n",
      "eq3\n",
      "  d      [10.6744186]  \n",
      "eq2\n",
      "  d      [10.6744186]  \n",
      "  c      [20.6744186]  \n",
      "eq1\n",
      "  b      [-0.78604651] \n",
      "eq0\n",
      "  x      [-1.28604651] \n",
      "eq5\n",
      "  d      [10.6744186]  \n",
      "  a      [-2.57209302] \n",
      "  b      [-0.78604651] \n",
      "\n",
      "\n"
     ]
    }
   ],
   "source": [
    "model.list_inputs();"
   ]
  },
  {
   "cell_type": "code",
   "execution_count": 9,
   "id": "3c91d8ec",
   "metadata": {},
   "outputs": [
    {
     "data": {
      "text/plain": [
       "(array([121.17675]), array([-21.35]))"
      ]
     },
     "execution_count": 9,
     "metadata": {},
     "output_type": "execute_result"
    }
   ],
   "source": [
    "prob.set_val('e', -21.35)\n",
    "prob.run_model()\n",
    "prob.get_val('f05'), prob.get_val('e')"
   ]
  },
  {
   "cell_type": "markdown",
   "id": "dd79920a",
   "metadata": {},
   "source": [
    "## OpenMDAO run 3"
   ]
  },
  {
   "cell_type": "code",
   "execution_count": 1,
   "id": "14618223",
   "metadata": {},
   "outputs": [],
   "source": [
    "from modeling.gen1.notationcompute import optsolver, solver, explicit\n",
    "from modeling.compute import Par, Var\n",
    "import openmdao.api as om\n",
    "import sympy as sp"
   ]
  },
  {
   "cell_type": "code",
   "execution_count": 2,
   "id": "19a8c293",
   "metadata": {},
   "outputs": [],
   "source": [
    "p = Par('p', 0.1)\n",
    "a,b,c,d,e,x = Var('a'), Var('b'), Var('c'), Var('d'), Var('e'), Var('x')\n",
    "\n",
    "eqs = {\n",
    "    0: (x, 0.5*a),\n",
    "    1: (b, x + 0.5),\n",
    "    2: (c, p*d+20+0.5*b),\n",
    "    3: (d, c - 10),\n",
    "    4: (None, d + 0.5*e)\n",
    "}"
   ]
  },
  {
   "cell_type": "code",
   "execution_count": 3,
   "id": "899cc74b",
   "metadata": {},
   "outputs": [],
   "source": [
    "prob = om.Problem()\n",
    "model = prob.model\n",
    "groups = {0:model}"
   ]
  },
  {
   "cell_type": "code",
   "execution_count": 4,
   "id": "8a62a546",
   "metadata": {},
   "outputs": [],
   "source": [
    "solver(groups, eqs, 0, 1, [a], [4])\n",
    "explicit(groups, eqs, 1, x, 0)\n",
    "explicit(groups, eqs, 1, b, 1)\n",
    "solver(groups, eqs, 1, 2, [c,d], [2,3])\n",
    "optsolver(groups, {5: (None, a**2+d**2+b**2)}, 0, 1, [e], [[],[],[5]])"
   ]
  },
  {
   "cell_type": "code",
   "execution_count": 6,
   "id": "4f323b3f",
   "metadata": {},
   "outputs": [],
   "source": [
    "prob.setup();"
   ]
  },
  {
   "cell_type": "code",
   "execution_count": 7,
   "id": "f5fdb1d7",
   "metadata": {},
   "outputs": [
    {
     "name": "stdout",
     "output_type": "stream",
     "text": [
      "9 Input(s) in 'model'\n",
      "\n",
      "varname    val \n",
      "---------  ----\n",
      "group1\n",
      "  res4\n",
      "    d      [1.]\n",
      "eq5\n",
      "  d        [1.]\n",
      "group1\n",
      "  res4\n",
      "    e      [1.]\n",
      "  eq0\n",
      "    a      [1.]\n",
      "eq5\n",
      "  a        [1.]\n",
      "group1\n",
      "  eq1\n",
      "    x      [1.]\n",
      "  group2\n",
      "    res23\n",
      "      p    [1.]\n",
      "      b    [1.]\n",
      "eq5\n",
      "  b        [1.]\n",
      "\n",
      "\n"
     ]
    },
    {
     "name": "stderr",
     "output_type": "stream",
     "text": [
      "c:\\Users\\johan\\miniconda3\\envs\\minimdo\\lib\\site-packages\\openmdao\\core\\system.py:3627: OpenMDAOWarning:Calling `list_inputs` before `final_setup` will only display the default values of variables and will not show the result of any `set_val` calls.\n"
     ]
    }
   ],
   "source": [
    "model.list_inputs();"
   ]
  },
  {
   "cell_type": "code",
   "execution_count": 16,
   "id": "10b91406",
   "metadata": {},
   "outputs": [
    {
     "name": "stdout",
     "output_type": "stream",
     "text": [
      "\n",
      "======\n",
      "group1\n",
      "======\n",
      "+  \n",
      "+  =============\n",
      "+  group1.group2\n",
      "+  =============\n"
     ]
    },
    {
     "ename": "RuntimeError",
     "evalue": "Jacobian in 'group1.group2' is not full rank. The following set of states/residuals contains one or more equations that is a linear combination of the others: \n 'c' ('group1.group2.res23.c') index 0.\n 'd' ('group1.group2.res23.d') index 0.\n",
     "output_type": "error",
     "traceback": [
      "\u001b[1;31m---------------------------------------------------------------------------\u001b[0m",
      "\u001b[1;31mRuntimeError\u001b[0m                              Traceback (most recent call last)",
      "File \u001b[1;32mc:\\Users\\johan\\miniconda3\\envs\\minimdo\\lib\\site-packages\\openmdao\\solvers\\linear\\direct.py:280\u001b[0m, in \u001b[0;36mDirectSolver._linearize\u001b[1;34m(self)\u001b[0m\n\u001b[0;32m    279\u001b[0m \u001b[38;5;28;01mtry\u001b[39;00m:\n\u001b[1;32m--> 280\u001b[0m     \u001b[38;5;28mself\u001b[39m\u001b[38;5;241m.\u001b[39m_lu \u001b[38;5;241m=\u001b[39m \u001b[43mscipy\u001b[49m\u001b[38;5;241;43m.\u001b[39;49m\u001b[43msparse\u001b[49m\u001b[38;5;241;43m.\u001b[39;49m\u001b[43mlinalg\u001b[49m\u001b[38;5;241;43m.\u001b[39;49m\u001b[43msplu\u001b[49m\u001b[43m(\u001b[49m\u001b[43mmatrix\u001b[49m\u001b[43m)\u001b[49m\n\u001b[0;32m    281\u001b[0m \u001b[38;5;28;01mexcept\u001b[39;00m \u001b[38;5;167;01mRuntimeError\u001b[39;00m \u001b[38;5;28;01mas\u001b[39;00m err:\n",
      "File \u001b[1;32mc:\\Users\\johan\\miniconda3\\envs\\minimdo\\lib\\site-packages\\scipy\\sparse\\linalg\\_dsolve\\linsolve.py:413\u001b[0m, in \u001b[0;36msplu\u001b[1;34m(A, permc_spec, diag_pivot_thresh, relax, panel_size, options)\u001b[0m\n\u001b[0;32m    411\u001b[0m     _options[\u001b[38;5;124m\"\u001b[39m\u001b[38;5;124mSymmetricMode\u001b[39m\u001b[38;5;124m\"\u001b[39m] \u001b[38;5;241m=\u001b[39m \u001b[38;5;28;01mTrue\u001b[39;00m\n\u001b[1;32m--> 413\u001b[0m \u001b[38;5;28;01mreturn\u001b[39;00m \u001b[43m_superlu\u001b[49m\u001b[38;5;241;43m.\u001b[39;49m\u001b[43mgstrf\u001b[49m\u001b[43m(\u001b[49m\u001b[43mN\u001b[49m\u001b[43m,\u001b[49m\u001b[43m \u001b[49m\u001b[43mA\u001b[49m\u001b[38;5;241;43m.\u001b[39;49m\u001b[43mnnz\u001b[49m\u001b[43m,\u001b[49m\u001b[43m \u001b[49m\u001b[43mA\u001b[49m\u001b[38;5;241;43m.\u001b[39;49m\u001b[43mdata\u001b[49m\u001b[43m,\u001b[49m\u001b[43m \u001b[49m\u001b[43mA\u001b[49m\u001b[38;5;241;43m.\u001b[39;49m\u001b[43mindices\u001b[49m\u001b[43m,\u001b[49m\u001b[43m \u001b[49m\u001b[43mA\u001b[49m\u001b[38;5;241;43m.\u001b[39;49m\u001b[43mindptr\u001b[49m\u001b[43m,\u001b[49m\n\u001b[0;32m    414\u001b[0m \u001b[43m                      \u001b[49m\u001b[43mcsc_construct_func\u001b[49m\u001b[38;5;241;43m=\u001b[39;49m\u001b[43mcsc_construct_func\u001b[49m\u001b[43m,\u001b[49m\n\u001b[0;32m    415\u001b[0m \u001b[43m                      \u001b[49m\u001b[43milu\u001b[49m\u001b[38;5;241;43m=\u001b[39;49m\u001b[38;5;28;43;01mFalse\u001b[39;49;00m\u001b[43m,\u001b[49m\u001b[43m \u001b[49m\u001b[43moptions\u001b[49m\u001b[38;5;241;43m=\u001b[39;49m\u001b[43m_options\u001b[49m\u001b[43m)\u001b[49m\n",
      "\u001b[1;31mRuntimeError\u001b[0m: Factor is exactly singular",
      "\nDuring handling of the above exception, another exception occurred:\n",
      "\u001b[1;31mRuntimeError\u001b[0m                              Traceback (most recent call last)",
      "Input \u001b[1;32mIn [16]\u001b[0m, in \u001b[0;36m<cell line: 2>\u001b[1;34m()\u001b[0m\n\u001b[0;32m      1\u001b[0m prob\u001b[38;5;241m.\u001b[39mset_val(\u001b[38;5;124m'\u001b[39m\u001b[38;5;124me\u001b[39m\u001b[38;5;124m'\u001b[39m, \u001b[38;5;241m-\u001b[39m\u001b[38;5;241m21.35\u001b[39m)\n\u001b[1;32m----> 2\u001b[0m \u001b[43mprob\u001b[49m\u001b[38;5;241;43m.\u001b[39;49m\u001b[43mrun_model\u001b[49m\u001b[43m(\u001b[49m\u001b[43m)\u001b[49m\n",
      "File \u001b[1;32mc:\\Users\\johan\\miniconda3\\envs\\minimdo\\lib\\site-packages\\openmdao\\core\\problem.py:767\u001b[0m, in \u001b[0;36mProblem.run_model\u001b[1;34m(self, case_prefix, reset_iter_counts)\u001b[0m\n\u001b[0;32m    764\u001b[0m     record_model_options(\u001b[38;5;28mself\u001b[39m, \u001b[38;5;28mself\u001b[39m\u001b[38;5;241m.\u001b[39m_run_counter)\n\u001b[0;32m    766\u001b[0m     \u001b[38;5;28mself\u001b[39m\u001b[38;5;241m.\u001b[39mmodel\u001b[38;5;241m.\u001b[39m_clear_iprint()\n\u001b[1;32m--> 767\u001b[0m     \u001b[38;5;28;43mself\u001b[39;49m\u001b[38;5;241;43m.\u001b[39;49m\u001b[43mmodel\u001b[49m\u001b[38;5;241;43m.\u001b[39;49m\u001b[43mrun_solve_nonlinear\u001b[49m\u001b[43m(\u001b[49m\u001b[43m)\u001b[49m\n\u001b[0;32m    768\u001b[0m \u001b[38;5;28;01mfinally\u001b[39;00m:\n\u001b[0;32m    769\u001b[0m     \u001b[38;5;28mself\u001b[39m\u001b[38;5;241m.\u001b[39m_recording_iter\u001b[38;5;241m.\u001b[39mprefix \u001b[38;5;241m=\u001b[39m old_prefix\n",
      "File \u001b[1;32mc:\\Users\\johan\\miniconda3\\envs\\minimdo\\lib\\site-packages\\openmdao\\core\\system.py:3985\u001b[0m, in \u001b[0;36mSystem.run_solve_nonlinear\u001b[1;34m(self)\u001b[0m\n\u001b[0;32m   3979\u001b[0m \u001b[38;5;250m\u001b[39m\u001b[38;5;124;03m\"\"\"\u001b[39;00m\n\u001b[0;32m   3980\u001b[0m \u001b[38;5;124;03mCompute outputs.\u001b[39;00m\n\u001b[0;32m   3981\u001b[0m \n\u001b[0;32m   3982\u001b[0m \u001b[38;5;124;03mThis calls _solve_nonlinear, but with the model assumed to be in an unscaled state.\u001b[39;00m\n\u001b[0;32m   3983\u001b[0m \u001b[38;5;124;03m\"\"\"\u001b[39;00m\n\u001b[0;32m   3984\u001b[0m \u001b[38;5;28;01mwith\u001b[39;00m \u001b[38;5;28mself\u001b[39m\u001b[38;5;241m.\u001b[39m_scaled_context_all():\n\u001b[1;32m-> 3985\u001b[0m     \u001b[38;5;28;43mself\u001b[39;49m\u001b[38;5;241;43m.\u001b[39;49m\u001b[43m_solve_nonlinear\u001b[49m\u001b[43m(\u001b[49m\u001b[43m)\u001b[49m\n",
      "File \u001b[1;32mc:\\Users\\johan\\miniconda3\\envs\\minimdo\\lib\\site-packages\\openmdao\\core\\group.py:2595\u001b[0m, in \u001b[0;36mGroup._solve_nonlinear\u001b[1;34m(self)\u001b[0m\n\u001b[0;32m   2592\u001b[0m name \u001b[38;5;241m=\u001b[39m \u001b[38;5;28mself\u001b[39m\u001b[38;5;241m.\u001b[39mpathname \u001b[38;5;28;01mif\u001b[39;00m \u001b[38;5;28mself\u001b[39m\u001b[38;5;241m.\u001b[39mpathname \u001b[38;5;28;01melse\u001b[39;00m \u001b[38;5;124m'\u001b[39m\u001b[38;5;124mroot\u001b[39m\u001b[38;5;124m'\u001b[39m\n\u001b[0;32m   2594\u001b[0m \u001b[38;5;28;01mwith\u001b[39;00m Recording(name \u001b[38;5;241m+\u001b[39m \u001b[38;5;124m'\u001b[39m\u001b[38;5;124m._solve_nonlinear\u001b[39m\u001b[38;5;124m'\u001b[39m, \u001b[38;5;28mself\u001b[39m\u001b[38;5;241m.\u001b[39miter_count, \u001b[38;5;28mself\u001b[39m):\n\u001b[1;32m-> 2595\u001b[0m     \u001b[38;5;28;43mself\u001b[39;49m\u001b[38;5;241;43m.\u001b[39;49m\u001b[43m_nonlinear_solver\u001b[49m\u001b[38;5;241;43m.\u001b[39;49m\u001b[43msolve\u001b[49m\u001b[43m(\u001b[49m\u001b[43m)\u001b[49m\n",
      "File \u001b[1;32mc:\\Users\\johan\\miniconda3\\envs\\minimdo\\lib\\site-packages\\openmdao\\solvers\\nonlinear\\nonlinear_runonce.py:42\u001b[0m, in \u001b[0;36mNonlinearRunOnce.solve\u001b[1;34m(self)\u001b[0m\n\u001b[0;32m     38\u001b[0m             subsys\u001b[38;5;241m.\u001b[39m_solve_nonlinear()\n\u001b[0;32m     40\u001b[0m \u001b[38;5;66;03m# If this is not a parallel group, transfer for each subsystem just prior to running it.\u001b[39;00m\n\u001b[0;32m     41\u001b[0m \u001b[38;5;28;01melse\u001b[39;00m:\n\u001b[1;32m---> 42\u001b[0m     \u001b[38;5;28;43mself\u001b[39;49m\u001b[38;5;241;43m.\u001b[39;49m\u001b[43m_gs_iter\u001b[49m\u001b[43m(\u001b[49m\u001b[43m)\u001b[49m\n\u001b[0;32m     44\u001b[0m rec\u001b[38;5;241m.\u001b[39mabs \u001b[38;5;241m=\u001b[39m \u001b[38;5;241m0.0\u001b[39m\n\u001b[0;32m     45\u001b[0m rec\u001b[38;5;241m.\u001b[39mrel \u001b[38;5;241m=\u001b[39m \u001b[38;5;241m0.0\u001b[39m\n",
      "File \u001b[1;32mc:\\Users\\johan\\miniconda3\\envs\\minimdo\\lib\\site-packages\\openmdao\\solvers\\solver.py:766\u001b[0m, in \u001b[0;36mNonlinearSolver._gs_iter\u001b[1;34m(self)\u001b[0m\n\u001b[0;32m    764\u001b[0m \u001b[38;5;28;01mif\u001b[39;00m subsys\u001b[38;5;241m.\u001b[39m_is_local:\n\u001b[0;32m    765\u001b[0m     \u001b[38;5;28;01mtry\u001b[39;00m:\n\u001b[1;32m--> 766\u001b[0m         \u001b[43msubsys\u001b[49m\u001b[38;5;241;43m.\u001b[39;49m\u001b[43m_solve_nonlinear\u001b[49m\u001b[43m(\u001b[49m\u001b[43m)\u001b[49m\n\u001b[0;32m    767\u001b[0m     \u001b[38;5;28;01mexcept\u001b[39;00m AnalysisError \u001b[38;5;28;01mas\u001b[39;00m err:\n\u001b[0;32m    768\u001b[0m         \u001b[38;5;28;01mif\u001b[39;00m \u001b[38;5;124m'\u001b[39m\u001b[38;5;124mreraise_child_analysiserror\u001b[39m\u001b[38;5;124m'\u001b[39m \u001b[38;5;129;01mnot\u001b[39;00m \u001b[38;5;129;01min\u001b[39;00m \u001b[38;5;28mself\u001b[39m\u001b[38;5;241m.\u001b[39moptions \u001b[38;5;129;01mor\u001b[39;00m \\\n\u001b[0;32m    769\u001b[0m                 \u001b[38;5;28mself\u001b[39m\u001b[38;5;241m.\u001b[39moptions[\u001b[38;5;124m'\u001b[39m\u001b[38;5;124mreraise_child_analysiserror\u001b[39m\u001b[38;5;124m'\u001b[39m]:\n",
      "File \u001b[1;32mc:\\Users\\johan\\miniconda3\\envs\\minimdo\\lib\\site-packages\\openmdao\\core\\group.py:2595\u001b[0m, in \u001b[0;36mGroup._solve_nonlinear\u001b[1;34m(self)\u001b[0m\n\u001b[0;32m   2592\u001b[0m name \u001b[38;5;241m=\u001b[39m \u001b[38;5;28mself\u001b[39m\u001b[38;5;241m.\u001b[39mpathname \u001b[38;5;28;01mif\u001b[39;00m \u001b[38;5;28mself\u001b[39m\u001b[38;5;241m.\u001b[39mpathname \u001b[38;5;28;01melse\u001b[39;00m \u001b[38;5;124m'\u001b[39m\u001b[38;5;124mroot\u001b[39m\u001b[38;5;124m'\u001b[39m\n\u001b[0;32m   2594\u001b[0m \u001b[38;5;28;01mwith\u001b[39;00m Recording(name \u001b[38;5;241m+\u001b[39m \u001b[38;5;124m'\u001b[39m\u001b[38;5;124m._solve_nonlinear\u001b[39m\u001b[38;5;124m'\u001b[39m, \u001b[38;5;28mself\u001b[39m\u001b[38;5;241m.\u001b[39miter_count, \u001b[38;5;28mself\u001b[39m):\n\u001b[1;32m-> 2595\u001b[0m     \u001b[38;5;28;43mself\u001b[39;49m\u001b[38;5;241;43m.\u001b[39;49m\u001b[43m_nonlinear_solver\u001b[49m\u001b[38;5;241;43m.\u001b[39;49m\u001b[43msolve\u001b[49m\u001b[43m(\u001b[49m\u001b[43m)\u001b[49m\n",
      "File \u001b[1;32mc:\\Users\\johan\\miniconda3\\envs\\minimdo\\lib\\site-packages\\openmdao\\solvers\\solver.py:561\u001b[0m, in \u001b[0;36mNonlinearSolver.solve\u001b[1;34m(self)\u001b[0m\n\u001b[0;32m    559\u001b[0m \u001b[38;5;28;01mif\u001b[39;00m \u001b[38;5;28mself\u001b[39m\u001b[38;5;241m.\u001b[39moptions[\u001b[38;5;124m'\u001b[39m\u001b[38;5;124mdebug_print\u001b[39m\u001b[38;5;124m'\u001b[39m]:\n\u001b[0;32m    560\u001b[0m     \u001b[38;5;28mself\u001b[39m\u001b[38;5;241m.\u001b[39m_print_exc_debug_info()\n\u001b[1;32m--> 561\u001b[0m \u001b[38;5;28;01mraise\u001b[39;00m err\n",
      "File \u001b[1;32mc:\\Users\\johan\\miniconda3\\envs\\minimdo\\lib\\site-packages\\openmdao\\solvers\\solver.py:557\u001b[0m, in \u001b[0;36mNonlinearSolver.solve\u001b[1;34m(self)\u001b[0m\n\u001b[0;32m    553\u001b[0m \u001b[38;5;250m\u001b[39m\u001b[38;5;124;03m\"\"\"\u001b[39;00m\n\u001b[0;32m    554\u001b[0m \u001b[38;5;124;03mRun the solver.\u001b[39;00m\n\u001b[0;32m    555\u001b[0m \u001b[38;5;124;03m\"\"\"\u001b[39;00m\n\u001b[0;32m    556\u001b[0m \u001b[38;5;28;01mtry\u001b[39;00m:\n\u001b[1;32m--> 557\u001b[0m     \u001b[38;5;28;43mself\u001b[39;49m\u001b[38;5;241;43m.\u001b[39;49m\u001b[43m_solve\u001b[49m\u001b[43m(\u001b[49m\u001b[43m)\u001b[49m\n\u001b[0;32m    558\u001b[0m \u001b[38;5;28;01mexcept\u001b[39;00m \u001b[38;5;167;01mException\u001b[39;00m \u001b[38;5;28;01mas\u001b[39;00m err:\n\u001b[0;32m    559\u001b[0m     \u001b[38;5;28;01mif\u001b[39;00m \u001b[38;5;28mself\u001b[39m\u001b[38;5;241m.\u001b[39moptions[\u001b[38;5;124m'\u001b[39m\u001b[38;5;124mdebug_print\u001b[39m\u001b[38;5;124m'\u001b[39m]:\n",
      "File \u001b[1;32mc:\\Users\\johan\\miniconda3\\envs\\minimdo\\lib\\site-packages\\openmdao\\solvers\\solver.py:601\u001b[0m, in \u001b[0;36mNonlinearSolver._solve\u001b[1;34m(self)\u001b[0m\n\u001b[0;32m    598\u001b[0m \u001b[38;5;28mself\u001b[39m\u001b[38;5;241m.\u001b[39m_mpi_print_header()\n\u001b[0;32m    600\u001b[0m \u001b[38;5;28mself\u001b[39m\u001b[38;5;241m.\u001b[39m_iter_count \u001b[38;5;241m=\u001b[39m \u001b[38;5;241m0\u001b[39m\n\u001b[1;32m--> 601\u001b[0m norm0, norm \u001b[38;5;241m=\u001b[39m \u001b[38;5;28;43mself\u001b[39;49m\u001b[38;5;241;43m.\u001b[39;49m\u001b[43m_iter_initialize\u001b[49m\u001b[43m(\u001b[49m\u001b[43m)\u001b[49m\n\u001b[0;32m    603\u001b[0m \u001b[38;5;28mself\u001b[39m\u001b[38;5;241m.\u001b[39m_norm0 \u001b[38;5;241m=\u001b[39m norm0\n\u001b[0;32m    605\u001b[0m \u001b[38;5;28mself\u001b[39m\u001b[38;5;241m.\u001b[39m_mpi_print(\u001b[38;5;28mself\u001b[39m\u001b[38;5;241m.\u001b[39m_iter_count, norm, norm \u001b[38;5;241m/\u001b[39m norm0)\n",
      "File \u001b[1;32mc:\\Users\\johan\\miniconda3\\envs\\minimdo\\lib\\site-packages\\openmdao\\solvers\\nonlinear\\newton.py:200\u001b[0m, in \u001b[0;36mNewtonSolver._iter_initialize\u001b[1;34m(self)\u001b[0m\n\u001b[0;32m    197\u001b[0m     \u001b[38;5;28mself\u001b[39m\u001b[38;5;241m.\u001b[39m_solver_info\u001b[38;5;241m.\u001b[39mappend_solver()\n\u001b[0;32m    199\u001b[0m     \u001b[38;5;66;03m# should call the subsystems solve before computing the first residual\u001b[39;00m\n\u001b[1;32m--> 200\u001b[0m     \u001b[38;5;28;43mself\u001b[39;49m\u001b[38;5;241;43m.\u001b[39;49m\u001b[43m_gs_iter\u001b[49m\u001b[43m(\u001b[49m\u001b[43m)\u001b[49m\n\u001b[0;32m    202\u001b[0m     \u001b[38;5;28mself\u001b[39m\u001b[38;5;241m.\u001b[39m_solver_info\u001b[38;5;241m.\u001b[39mpop()\n\u001b[0;32m    204\u001b[0m \u001b[38;5;28mself\u001b[39m\u001b[38;5;241m.\u001b[39m_run_apply()\n",
      "File \u001b[1;32mc:\\Users\\johan\\miniconda3\\envs\\minimdo\\lib\\site-packages\\openmdao\\solvers\\solver.py:766\u001b[0m, in \u001b[0;36mNonlinearSolver._gs_iter\u001b[1;34m(self)\u001b[0m\n\u001b[0;32m    764\u001b[0m \u001b[38;5;28;01mif\u001b[39;00m subsys\u001b[38;5;241m.\u001b[39m_is_local:\n\u001b[0;32m    765\u001b[0m     \u001b[38;5;28;01mtry\u001b[39;00m:\n\u001b[1;32m--> 766\u001b[0m         \u001b[43msubsys\u001b[49m\u001b[38;5;241;43m.\u001b[39;49m\u001b[43m_solve_nonlinear\u001b[49m\u001b[43m(\u001b[49m\u001b[43m)\u001b[49m\n\u001b[0;32m    767\u001b[0m     \u001b[38;5;28;01mexcept\u001b[39;00m AnalysisError \u001b[38;5;28;01mas\u001b[39;00m err:\n\u001b[0;32m    768\u001b[0m         \u001b[38;5;28;01mif\u001b[39;00m \u001b[38;5;124m'\u001b[39m\u001b[38;5;124mreraise_child_analysiserror\u001b[39m\u001b[38;5;124m'\u001b[39m \u001b[38;5;129;01mnot\u001b[39;00m \u001b[38;5;129;01min\u001b[39;00m \u001b[38;5;28mself\u001b[39m\u001b[38;5;241m.\u001b[39moptions \u001b[38;5;129;01mor\u001b[39;00m \\\n\u001b[0;32m    769\u001b[0m                 \u001b[38;5;28mself\u001b[39m\u001b[38;5;241m.\u001b[39moptions[\u001b[38;5;124m'\u001b[39m\u001b[38;5;124mreraise_child_analysiserror\u001b[39m\u001b[38;5;124m'\u001b[39m]:\n",
      "File \u001b[1;32mc:\\Users\\johan\\miniconda3\\envs\\minimdo\\lib\\site-packages\\openmdao\\core\\group.py:2595\u001b[0m, in \u001b[0;36mGroup._solve_nonlinear\u001b[1;34m(self)\u001b[0m\n\u001b[0;32m   2592\u001b[0m name \u001b[38;5;241m=\u001b[39m \u001b[38;5;28mself\u001b[39m\u001b[38;5;241m.\u001b[39mpathname \u001b[38;5;28;01mif\u001b[39;00m \u001b[38;5;28mself\u001b[39m\u001b[38;5;241m.\u001b[39mpathname \u001b[38;5;28;01melse\u001b[39;00m \u001b[38;5;124m'\u001b[39m\u001b[38;5;124mroot\u001b[39m\u001b[38;5;124m'\u001b[39m\n\u001b[0;32m   2594\u001b[0m \u001b[38;5;28;01mwith\u001b[39;00m Recording(name \u001b[38;5;241m+\u001b[39m \u001b[38;5;124m'\u001b[39m\u001b[38;5;124m._solve_nonlinear\u001b[39m\u001b[38;5;124m'\u001b[39m, \u001b[38;5;28mself\u001b[39m\u001b[38;5;241m.\u001b[39miter_count, \u001b[38;5;28mself\u001b[39m):\n\u001b[1;32m-> 2595\u001b[0m     \u001b[38;5;28;43mself\u001b[39;49m\u001b[38;5;241;43m.\u001b[39;49m\u001b[43m_nonlinear_solver\u001b[49m\u001b[38;5;241;43m.\u001b[39;49m\u001b[43msolve\u001b[49m\u001b[43m(\u001b[49m\u001b[43m)\u001b[49m\n",
      "File \u001b[1;32mc:\\Users\\johan\\miniconda3\\envs\\minimdo\\lib\\site-packages\\openmdao\\solvers\\solver.py:561\u001b[0m, in \u001b[0;36mNonlinearSolver.solve\u001b[1;34m(self)\u001b[0m\n\u001b[0;32m    559\u001b[0m \u001b[38;5;28;01mif\u001b[39;00m \u001b[38;5;28mself\u001b[39m\u001b[38;5;241m.\u001b[39moptions[\u001b[38;5;124m'\u001b[39m\u001b[38;5;124mdebug_print\u001b[39m\u001b[38;5;124m'\u001b[39m]:\n\u001b[0;32m    560\u001b[0m     \u001b[38;5;28mself\u001b[39m\u001b[38;5;241m.\u001b[39m_print_exc_debug_info()\n\u001b[1;32m--> 561\u001b[0m \u001b[38;5;28;01mraise\u001b[39;00m err\n",
      "File \u001b[1;32mc:\\Users\\johan\\miniconda3\\envs\\minimdo\\lib\\site-packages\\openmdao\\solvers\\solver.py:557\u001b[0m, in \u001b[0;36mNonlinearSolver.solve\u001b[1;34m(self)\u001b[0m\n\u001b[0;32m    553\u001b[0m \u001b[38;5;250m\u001b[39m\u001b[38;5;124;03m\"\"\"\u001b[39;00m\n\u001b[0;32m    554\u001b[0m \u001b[38;5;124;03mRun the solver.\u001b[39;00m\n\u001b[0;32m    555\u001b[0m \u001b[38;5;124;03m\"\"\"\u001b[39;00m\n\u001b[0;32m    556\u001b[0m \u001b[38;5;28;01mtry\u001b[39;00m:\n\u001b[1;32m--> 557\u001b[0m     \u001b[38;5;28;43mself\u001b[39;49m\u001b[38;5;241;43m.\u001b[39;49m\u001b[43m_solve\u001b[49m\u001b[43m(\u001b[49m\u001b[43m)\u001b[49m\n\u001b[0;32m    558\u001b[0m \u001b[38;5;28;01mexcept\u001b[39;00m \u001b[38;5;167;01mException\u001b[39;00m \u001b[38;5;28;01mas\u001b[39;00m err:\n\u001b[0;32m    559\u001b[0m     \u001b[38;5;28;01mif\u001b[39;00m \u001b[38;5;28mself\u001b[39m\u001b[38;5;241m.\u001b[39moptions[\u001b[38;5;124m'\u001b[39m\u001b[38;5;124mdebug_print\u001b[39m\u001b[38;5;124m'\u001b[39m]:\n",
      "File \u001b[1;32mc:\\Users\\johan\\miniconda3\\envs\\minimdo\\lib\\site-packages\\openmdao\\solvers\\solver.py:634\u001b[0m, in \u001b[0;36mNonlinearSolver._solve\u001b[1;34m(self)\u001b[0m\n\u001b[0;32m    632\u001b[0m     \u001b[38;5;28mself\u001b[39m\u001b[38;5;241m.\u001b[39mlinesearch\u001b[38;5;241m.\u001b[39moptions[\u001b[38;5;124m'\u001b[39m\u001b[38;5;124mprint_bound_enforce\u001b[39m\u001b[38;5;124m'\u001b[39m] \u001b[38;5;241m=\u001b[39m \u001b[38;5;28;01mFalse\u001b[39;00m\n\u001b[0;32m    633\u001b[0m \u001b[38;5;28;01melse\u001b[39;00m:\n\u001b[1;32m--> 634\u001b[0m     \u001b[38;5;28;43mself\u001b[39;49m\u001b[38;5;241;43m.\u001b[39;49m\u001b[43m_single_iteration\u001b[49m\u001b[43m(\u001b[49m\u001b[43m)\u001b[49m\n\u001b[0;32m    636\u001b[0m \u001b[38;5;28mself\u001b[39m\u001b[38;5;241m.\u001b[39m_iter_count \u001b[38;5;241m+\u001b[39m\u001b[38;5;241m=\u001b[39m \u001b[38;5;241m1\u001b[39m\n\u001b[0;32m    637\u001b[0m \u001b[38;5;28mself\u001b[39m\u001b[38;5;241m.\u001b[39m_run_apply()\n",
      "File \u001b[1;32mc:\\Users\\johan\\miniconda3\\envs\\minimdo\\lib\\site-packages\\openmdao\\solvers\\nonlinear\\newton.py:235\u001b[0m, in \u001b[0;36mNewtonSolver._single_iteration\u001b[1;34m(self)\u001b[0m\n\u001b[0;32m    232\u001b[0m \u001b[38;5;28;01mif\u001b[39;00m (my_asm_jac \u001b[38;5;129;01mis\u001b[39;00m \u001b[38;5;129;01mnot\u001b[39;00m \u001b[38;5;28;01mNone\u001b[39;00m \u001b[38;5;129;01mand\u001b[39;00m system\u001b[38;5;241m.\u001b[39mlinear_solver\u001b[38;5;241m.\u001b[39m_assembled_jac \u001b[38;5;129;01mis\u001b[39;00m \u001b[38;5;129;01mnot\u001b[39;00m my_asm_jac):\n\u001b[0;32m    233\u001b[0m     my_asm_jac\u001b[38;5;241m.\u001b[39m_update(system)\n\u001b[1;32m--> 235\u001b[0m \u001b[38;5;28;43mself\u001b[39;49m\u001b[38;5;241;43m.\u001b[39;49m\u001b[43m_linearize\u001b[49m\u001b[43m(\u001b[49m\u001b[43m)\u001b[49m\n\u001b[0;32m    237\u001b[0m \u001b[38;5;28mself\u001b[39m\u001b[38;5;241m.\u001b[39mlinear_solver\u001b[38;5;241m.\u001b[39msolve(\u001b[38;5;124m'\u001b[39m\u001b[38;5;124mfwd\u001b[39m\u001b[38;5;124m'\u001b[39m)\n\u001b[0;32m    239\u001b[0m \u001b[38;5;28;01mif\u001b[39;00m \u001b[38;5;28mself\u001b[39m\u001b[38;5;241m.\u001b[39mlinesearch:\n",
      "File \u001b[1;32mc:\\Users\\johan\\miniconda3\\envs\\minimdo\\lib\\site-packages\\openmdao\\solvers\\nonlinear\\newton.py:161\u001b[0m, in \u001b[0;36mNewtonSolver._linearize\u001b[1;34m(self)\u001b[0m\n\u001b[0;32m    157\u001b[0m \u001b[38;5;250m\u001b[39m\u001b[38;5;124;03m\"\"\"\u001b[39;00m\n\u001b[0;32m    158\u001b[0m \u001b[38;5;124;03mPerform any required linearization operations such as matrix factorization.\u001b[39;00m\n\u001b[0;32m    159\u001b[0m \u001b[38;5;124;03m\"\"\"\u001b[39;00m\n\u001b[0;32m    160\u001b[0m \u001b[38;5;28;01mif\u001b[39;00m \u001b[38;5;28mself\u001b[39m\u001b[38;5;241m.\u001b[39mlinear_solver \u001b[38;5;129;01mis\u001b[39;00m \u001b[38;5;129;01mnot\u001b[39;00m \u001b[38;5;28;01mNone\u001b[39;00m:\n\u001b[1;32m--> 161\u001b[0m     \u001b[38;5;28;43mself\u001b[39;49m\u001b[38;5;241;43m.\u001b[39;49m\u001b[43mlinear_solver\u001b[49m\u001b[38;5;241;43m.\u001b[39;49m\u001b[43m_linearize\u001b[49m\u001b[43m(\u001b[49m\u001b[43m)\u001b[49m\n\u001b[0;32m    163\u001b[0m \u001b[38;5;28;01mif\u001b[39;00m \u001b[38;5;28mself\u001b[39m\u001b[38;5;241m.\u001b[39mlinesearch \u001b[38;5;129;01mis\u001b[39;00m \u001b[38;5;129;01mnot\u001b[39;00m \u001b[38;5;28;01mNone\u001b[39;00m:\n\u001b[0;32m    164\u001b[0m     \u001b[38;5;28mself\u001b[39m\u001b[38;5;241m.\u001b[39mlinesearch\u001b[38;5;241m.\u001b[39m_linearize()\n",
      "File \u001b[1;32mc:\\Users\\johan\\miniconda3\\envs\\minimdo\\lib\\site-packages\\openmdao\\solvers\\linear\\direct.py:283\u001b[0m, in \u001b[0;36mDirectSolver._linearize\u001b[1;34m(self)\u001b[0m\n\u001b[0;32m    281\u001b[0m \u001b[38;5;28;01mexcept\u001b[39;00m \u001b[38;5;167;01mRuntimeError\u001b[39;00m \u001b[38;5;28;01mas\u001b[39;00m err:\n\u001b[0;32m    282\u001b[0m     \u001b[38;5;28;01mif\u001b[39;00m \u001b[38;5;124m'\u001b[39m\u001b[38;5;124mexactly singular\u001b[39m\u001b[38;5;124m'\u001b[39m \u001b[38;5;129;01min\u001b[39;00m \u001b[38;5;28mstr\u001b[39m(err):\n\u001b[1;32m--> 283\u001b[0m         \u001b[38;5;28;01mraise\u001b[39;00m \u001b[38;5;167;01mRuntimeError\u001b[39;00m(format_singular_error(system, matrix))\n\u001b[0;32m    284\u001b[0m     \u001b[38;5;28;01melse\u001b[39;00m:\n\u001b[0;32m    285\u001b[0m         \u001b[38;5;28;01mraise\u001b[39;00m err\n",
      "\u001b[1;31mRuntimeError\u001b[0m: Jacobian in 'group1.group2' is not full rank. The following set of states/residuals contains one or more equations that is a linear combination of the others: \n 'c' ('group1.group2.res23.c') index 0.\n 'd' ('group1.group2.res23.d') index 0.\n"
     ]
    }
   ],
   "source": [
    "prob.set_val('e', -21.35)\n",
    "prob.run_model()"
   ]
  },
  {
   "cell_type": "code",
   "execution_count": 7,
   "id": "d762caaf",
   "metadata": {},
   "outputs": [
    {
     "name": "stdout",
     "output_type": "stream",
     "text": [
      "\n",
      "======\n",
      "group1\n",
      "======\n",
      "+  \n",
      "+  =============\n",
      "+  group1.group2\n",
      "+  =============\n"
     ]
    },
    {
     "ename": "RuntimeError",
     "evalue": "Jacobian in 'group1.group2' is not full rank. The following set of states/residuals contains one or more equations that is a linear combination of the others: \n 'c' ('group1.group2.res23.c') index 0.\n 'd' ('group1.group2.res23.d') index 0.\n",
     "output_type": "error",
     "traceback": [
      "\u001b[1;31m---------------------------------------------------------------------------\u001b[0m",
      "\u001b[1;31mRuntimeError\u001b[0m                              Traceback (most recent call last)",
      "File \u001b[1;32mc:\\Users\\johan\\miniconda3\\envs\\minimdo\\lib\\site-packages\\openmdao\\solvers\\linear\\direct.py:280\u001b[0m, in \u001b[0;36mDirectSolver._linearize\u001b[1;34m(self)\u001b[0m\n\u001b[0;32m    279\u001b[0m \u001b[38;5;28;01mtry\u001b[39;00m:\n\u001b[1;32m--> 280\u001b[0m     \u001b[38;5;28mself\u001b[39m\u001b[38;5;241m.\u001b[39m_lu \u001b[38;5;241m=\u001b[39m \u001b[43mscipy\u001b[49m\u001b[38;5;241;43m.\u001b[39;49m\u001b[43msparse\u001b[49m\u001b[38;5;241;43m.\u001b[39;49m\u001b[43mlinalg\u001b[49m\u001b[38;5;241;43m.\u001b[39;49m\u001b[43msplu\u001b[49m\u001b[43m(\u001b[49m\u001b[43mmatrix\u001b[49m\u001b[43m)\u001b[49m\n\u001b[0;32m    281\u001b[0m \u001b[38;5;28;01mexcept\u001b[39;00m \u001b[38;5;167;01mRuntimeError\u001b[39;00m \u001b[38;5;28;01mas\u001b[39;00m err:\n",
      "File \u001b[1;32mc:\\Users\\johan\\miniconda3\\envs\\minimdo\\lib\\site-packages\\scipy\\sparse\\linalg\\_dsolve\\linsolve.py:413\u001b[0m, in \u001b[0;36msplu\u001b[1;34m(A, permc_spec, diag_pivot_thresh, relax, panel_size, options)\u001b[0m\n\u001b[0;32m    411\u001b[0m     _options[\u001b[38;5;124m\"\u001b[39m\u001b[38;5;124mSymmetricMode\u001b[39m\u001b[38;5;124m\"\u001b[39m] \u001b[38;5;241m=\u001b[39m \u001b[38;5;28;01mTrue\u001b[39;00m\n\u001b[1;32m--> 413\u001b[0m \u001b[38;5;28;01mreturn\u001b[39;00m \u001b[43m_superlu\u001b[49m\u001b[38;5;241;43m.\u001b[39;49m\u001b[43mgstrf\u001b[49m\u001b[43m(\u001b[49m\u001b[43mN\u001b[49m\u001b[43m,\u001b[49m\u001b[43m \u001b[49m\u001b[43mA\u001b[49m\u001b[38;5;241;43m.\u001b[39;49m\u001b[43mnnz\u001b[49m\u001b[43m,\u001b[49m\u001b[43m \u001b[49m\u001b[43mA\u001b[49m\u001b[38;5;241;43m.\u001b[39;49m\u001b[43mdata\u001b[49m\u001b[43m,\u001b[49m\u001b[43m \u001b[49m\u001b[43mA\u001b[49m\u001b[38;5;241;43m.\u001b[39;49m\u001b[43mindices\u001b[49m\u001b[43m,\u001b[49m\u001b[43m \u001b[49m\u001b[43mA\u001b[49m\u001b[38;5;241;43m.\u001b[39;49m\u001b[43mindptr\u001b[49m\u001b[43m,\u001b[49m\n\u001b[0;32m    414\u001b[0m \u001b[43m                      \u001b[49m\u001b[43mcsc_construct_func\u001b[49m\u001b[38;5;241;43m=\u001b[39;49m\u001b[43mcsc_construct_func\u001b[49m\u001b[43m,\u001b[49m\n\u001b[0;32m    415\u001b[0m \u001b[43m                      \u001b[49m\u001b[43milu\u001b[49m\u001b[38;5;241;43m=\u001b[39;49m\u001b[38;5;28;43;01mFalse\u001b[39;49;00m\u001b[43m,\u001b[49m\u001b[43m \u001b[49m\u001b[43moptions\u001b[49m\u001b[38;5;241;43m=\u001b[39;49m\u001b[43m_options\u001b[49m\u001b[43m)\u001b[49m\n",
      "\u001b[1;31mRuntimeError\u001b[0m: Factor is exactly singular",
      "\nDuring handling of the above exception, another exception occurred:\n",
      "\u001b[1;31mRuntimeError\u001b[0m                              Traceback (most recent call last)",
      "Input \u001b[1;32mIn [7]\u001b[0m, in \u001b[0;36m<cell line: 3>\u001b[1;34m()\u001b[0m\n\u001b[0;32m      1\u001b[0m prob\u001b[38;5;241m.\u001b[39mset_solver_print(level\u001b[38;5;241m=\u001b[39m\u001b[38;5;241m1\u001b[39m)\n\u001b[0;32m      2\u001b[0m prob\u001b[38;5;241m.\u001b[39mdriver \u001b[38;5;241m=\u001b[39m om\u001b[38;5;241m.\u001b[39mScipyOptimizeDriver()\n\u001b[1;32m----> 3\u001b[0m \u001b[43mprob\u001b[49m\u001b[38;5;241;43m.\u001b[39;49m\u001b[43mrun_driver\u001b[49m\u001b[43m(\u001b[49m\u001b[43m)\u001b[49m\n",
      "File \u001b[1;32mc:\\Users\\johan\\miniconda3\\envs\\minimdo\\lib\\site-packages\\openmdao\\core\\problem.py:811\u001b[0m, in \u001b[0;36mProblem.run_driver\u001b[1;34m(self, case_prefix, reset_iter_counts)\u001b[0m\n\u001b[0;32m    808\u001b[0m     record_model_options(\u001b[38;5;28mself\u001b[39m, \u001b[38;5;28mself\u001b[39m\u001b[38;5;241m.\u001b[39m_run_counter)\n\u001b[0;32m    810\u001b[0m     \u001b[38;5;28mself\u001b[39m\u001b[38;5;241m.\u001b[39mmodel\u001b[38;5;241m.\u001b[39m_clear_iprint()\n\u001b[1;32m--> 811\u001b[0m     \u001b[38;5;28;01mreturn\u001b[39;00m \u001b[38;5;28;43mself\u001b[39;49m\u001b[38;5;241;43m.\u001b[39;49m\u001b[43mdriver\u001b[49m\u001b[38;5;241;43m.\u001b[39;49m\u001b[43mrun\u001b[49m\u001b[43m(\u001b[49m\u001b[43m)\u001b[49m\n\u001b[0;32m    812\u001b[0m \u001b[38;5;28;01mfinally\u001b[39;00m:\n\u001b[0;32m    813\u001b[0m     \u001b[38;5;28mself\u001b[39m\u001b[38;5;241m.\u001b[39m_recording_iter\u001b[38;5;241m.\u001b[39mprefix \u001b[38;5;241m=\u001b[39m old_prefix\n",
      "File \u001b[1;32mc:\\Users\\johan\\miniconda3\\envs\\minimdo\\lib\\site-packages\\openmdao\\drivers\\scipy_optimizer.py:248\u001b[0m, in \u001b[0;36mScipyOptimizeDriver.run\u001b[1;34m(self)\u001b[0m\n\u001b[0;32m    246\u001b[0m \u001b[38;5;66;03m# Initial Run\u001b[39;00m\n\u001b[0;32m    247\u001b[0m \u001b[38;5;28;01mwith\u001b[39;00m RecordingDebugging(\u001b[38;5;28mself\u001b[39m\u001b[38;5;241m.\u001b[39m_get_name(), \u001b[38;5;28mself\u001b[39m\u001b[38;5;241m.\u001b[39miter_count, \u001b[38;5;28mself\u001b[39m) \u001b[38;5;28;01mas\u001b[39;00m rec:\n\u001b[1;32m--> 248\u001b[0m     \u001b[43mmodel\u001b[49m\u001b[38;5;241;43m.\u001b[39;49m\u001b[43mrun_solve_nonlinear\u001b[49m\u001b[43m(\u001b[49m\u001b[43m)\u001b[49m\n\u001b[0;32m    249\u001b[0m     \u001b[38;5;28mself\u001b[39m\u001b[38;5;241m.\u001b[39miter_count \u001b[38;5;241m+\u001b[39m\u001b[38;5;241m=\u001b[39m \u001b[38;5;241m1\u001b[39m\n\u001b[0;32m    251\u001b[0m \u001b[38;5;28mself\u001b[39m\u001b[38;5;241m.\u001b[39m_con_cache \u001b[38;5;241m=\u001b[39m \u001b[38;5;28mself\u001b[39m\u001b[38;5;241m.\u001b[39mget_constraint_values()\n",
      "File \u001b[1;32mc:\\Users\\johan\\miniconda3\\envs\\minimdo\\lib\\site-packages\\openmdao\\core\\system.py:3985\u001b[0m, in \u001b[0;36mSystem.run_solve_nonlinear\u001b[1;34m(self)\u001b[0m\n\u001b[0;32m   3979\u001b[0m \u001b[38;5;250m\u001b[39m\u001b[38;5;124;03m\"\"\"\u001b[39;00m\n\u001b[0;32m   3980\u001b[0m \u001b[38;5;124;03mCompute outputs.\u001b[39;00m\n\u001b[0;32m   3981\u001b[0m \n\u001b[0;32m   3982\u001b[0m \u001b[38;5;124;03mThis calls _solve_nonlinear, but with the model assumed to be in an unscaled state.\u001b[39;00m\n\u001b[0;32m   3983\u001b[0m \u001b[38;5;124;03m\"\"\"\u001b[39;00m\n\u001b[0;32m   3984\u001b[0m \u001b[38;5;28;01mwith\u001b[39;00m \u001b[38;5;28mself\u001b[39m\u001b[38;5;241m.\u001b[39m_scaled_context_all():\n\u001b[1;32m-> 3985\u001b[0m     \u001b[38;5;28;43mself\u001b[39;49m\u001b[38;5;241;43m.\u001b[39;49m\u001b[43m_solve_nonlinear\u001b[49m\u001b[43m(\u001b[49m\u001b[43m)\u001b[49m\n",
      "File \u001b[1;32mc:\\Users\\johan\\miniconda3\\envs\\minimdo\\lib\\site-packages\\openmdao\\core\\group.py:2595\u001b[0m, in \u001b[0;36mGroup._solve_nonlinear\u001b[1;34m(self)\u001b[0m\n\u001b[0;32m   2592\u001b[0m name \u001b[38;5;241m=\u001b[39m \u001b[38;5;28mself\u001b[39m\u001b[38;5;241m.\u001b[39mpathname \u001b[38;5;28;01mif\u001b[39;00m \u001b[38;5;28mself\u001b[39m\u001b[38;5;241m.\u001b[39mpathname \u001b[38;5;28;01melse\u001b[39;00m \u001b[38;5;124m'\u001b[39m\u001b[38;5;124mroot\u001b[39m\u001b[38;5;124m'\u001b[39m\n\u001b[0;32m   2594\u001b[0m \u001b[38;5;28;01mwith\u001b[39;00m Recording(name \u001b[38;5;241m+\u001b[39m \u001b[38;5;124m'\u001b[39m\u001b[38;5;124m._solve_nonlinear\u001b[39m\u001b[38;5;124m'\u001b[39m, \u001b[38;5;28mself\u001b[39m\u001b[38;5;241m.\u001b[39miter_count, \u001b[38;5;28mself\u001b[39m):\n\u001b[1;32m-> 2595\u001b[0m     \u001b[38;5;28;43mself\u001b[39;49m\u001b[38;5;241;43m.\u001b[39;49m\u001b[43m_nonlinear_solver\u001b[49m\u001b[38;5;241;43m.\u001b[39;49m\u001b[43msolve\u001b[49m\u001b[43m(\u001b[49m\u001b[43m)\u001b[49m\n",
      "File \u001b[1;32mc:\\Users\\johan\\miniconda3\\envs\\minimdo\\lib\\site-packages\\openmdao\\solvers\\nonlinear\\nonlinear_runonce.py:42\u001b[0m, in \u001b[0;36mNonlinearRunOnce.solve\u001b[1;34m(self)\u001b[0m\n\u001b[0;32m     38\u001b[0m             subsys\u001b[38;5;241m.\u001b[39m_solve_nonlinear()\n\u001b[0;32m     40\u001b[0m \u001b[38;5;66;03m# If this is not a parallel group, transfer for each subsystem just prior to running it.\u001b[39;00m\n\u001b[0;32m     41\u001b[0m \u001b[38;5;28;01melse\u001b[39;00m:\n\u001b[1;32m---> 42\u001b[0m     \u001b[38;5;28;43mself\u001b[39;49m\u001b[38;5;241;43m.\u001b[39;49m\u001b[43m_gs_iter\u001b[49m\u001b[43m(\u001b[49m\u001b[43m)\u001b[49m\n\u001b[0;32m     44\u001b[0m rec\u001b[38;5;241m.\u001b[39mabs \u001b[38;5;241m=\u001b[39m \u001b[38;5;241m0.0\u001b[39m\n\u001b[0;32m     45\u001b[0m rec\u001b[38;5;241m.\u001b[39mrel \u001b[38;5;241m=\u001b[39m \u001b[38;5;241m0.0\u001b[39m\n",
      "File \u001b[1;32mc:\\Users\\johan\\miniconda3\\envs\\minimdo\\lib\\site-packages\\openmdao\\solvers\\solver.py:766\u001b[0m, in \u001b[0;36mNonlinearSolver._gs_iter\u001b[1;34m(self)\u001b[0m\n\u001b[0;32m    764\u001b[0m \u001b[38;5;28;01mif\u001b[39;00m subsys\u001b[38;5;241m.\u001b[39m_is_local:\n\u001b[0;32m    765\u001b[0m     \u001b[38;5;28;01mtry\u001b[39;00m:\n\u001b[1;32m--> 766\u001b[0m         \u001b[43msubsys\u001b[49m\u001b[38;5;241;43m.\u001b[39;49m\u001b[43m_solve_nonlinear\u001b[49m\u001b[43m(\u001b[49m\u001b[43m)\u001b[49m\n\u001b[0;32m    767\u001b[0m     \u001b[38;5;28;01mexcept\u001b[39;00m AnalysisError \u001b[38;5;28;01mas\u001b[39;00m err:\n\u001b[0;32m    768\u001b[0m         \u001b[38;5;28;01mif\u001b[39;00m \u001b[38;5;124m'\u001b[39m\u001b[38;5;124mreraise_child_analysiserror\u001b[39m\u001b[38;5;124m'\u001b[39m \u001b[38;5;129;01mnot\u001b[39;00m \u001b[38;5;129;01min\u001b[39;00m \u001b[38;5;28mself\u001b[39m\u001b[38;5;241m.\u001b[39moptions \u001b[38;5;129;01mor\u001b[39;00m \\\n\u001b[0;32m    769\u001b[0m                 \u001b[38;5;28mself\u001b[39m\u001b[38;5;241m.\u001b[39moptions[\u001b[38;5;124m'\u001b[39m\u001b[38;5;124mreraise_child_analysiserror\u001b[39m\u001b[38;5;124m'\u001b[39m]:\n",
      "File \u001b[1;32mc:\\Users\\johan\\miniconda3\\envs\\minimdo\\lib\\site-packages\\openmdao\\core\\group.py:2595\u001b[0m, in \u001b[0;36mGroup._solve_nonlinear\u001b[1;34m(self)\u001b[0m\n\u001b[0;32m   2592\u001b[0m name \u001b[38;5;241m=\u001b[39m \u001b[38;5;28mself\u001b[39m\u001b[38;5;241m.\u001b[39mpathname \u001b[38;5;28;01mif\u001b[39;00m \u001b[38;5;28mself\u001b[39m\u001b[38;5;241m.\u001b[39mpathname \u001b[38;5;28;01melse\u001b[39;00m \u001b[38;5;124m'\u001b[39m\u001b[38;5;124mroot\u001b[39m\u001b[38;5;124m'\u001b[39m\n\u001b[0;32m   2594\u001b[0m \u001b[38;5;28;01mwith\u001b[39;00m Recording(name \u001b[38;5;241m+\u001b[39m \u001b[38;5;124m'\u001b[39m\u001b[38;5;124m._solve_nonlinear\u001b[39m\u001b[38;5;124m'\u001b[39m, \u001b[38;5;28mself\u001b[39m\u001b[38;5;241m.\u001b[39miter_count, \u001b[38;5;28mself\u001b[39m):\n\u001b[1;32m-> 2595\u001b[0m     \u001b[38;5;28;43mself\u001b[39;49m\u001b[38;5;241;43m.\u001b[39;49m\u001b[43m_nonlinear_solver\u001b[49m\u001b[38;5;241;43m.\u001b[39;49m\u001b[43msolve\u001b[49m\u001b[43m(\u001b[49m\u001b[43m)\u001b[49m\n",
      "File \u001b[1;32mc:\\Users\\johan\\miniconda3\\envs\\minimdo\\lib\\site-packages\\openmdao\\solvers\\solver.py:561\u001b[0m, in \u001b[0;36mNonlinearSolver.solve\u001b[1;34m(self)\u001b[0m\n\u001b[0;32m    559\u001b[0m \u001b[38;5;28;01mif\u001b[39;00m \u001b[38;5;28mself\u001b[39m\u001b[38;5;241m.\u001b[39moptions[\u001b[38;5;124m'\u001b[39m\u001b[38;5;124mdebug_print\u001b[39m\u001b[38;5;124m'\u001b[39m]:\n\u001b[0;32m    560\u001b[0m     \u001b[38;5;28mself\u001b[39m\u001b[38;5;241m.\u001b[39m_print_exc_debug_info()\n\u001b[1;32m--> 561\u001b[0m \u001b[38;5;28;01mraise\u001b[39;00m err\n",
      "File \u001b[1;32mc:\\Users\\johan\\miniconda3\\envs\\minimdo\\lib\\site-packages\\openmdao\\solvers\\solver.py:557\u001b[0m, in \u001b[0;36mNonlinearSolver.solve\u001b[1;34m(self)\u001b[0m\n\u001b[0;32m    553\u001b[0m \u001b[38;5;250m\u001b[39m\u001b[38;5;124;03m\"\"\"\u001b[39;00m\n\u001b[0;32m    554\u001b[0m \u001b[38;5;124;03mRun the solver.\u001b[39;00m\n\u001b[0;32m    555\u001b[0m \u001b[38;5;124;03m\"\"\"\u001b[39;00m\n\u001b[0;32m    556\u001b[0m \u001b[38;5;28;01mtry\u001b[39;00m:\n\u001b[1;32m--> 557\u001b[0m     \u001b[38;5;28;43mself\u001b[39;49m\u001b[38;5;241;43m.\u001b[39;49m\u001b[43m_solve\u001b[49m\u001b[43m(\u001b[49m\u001b[43m)\u001b[49m\n\u001b[0;32m    558\u001b[0m \u001b[38;5;28;01mexcept\u001b[39;00m \u001b[38;5;167;01mException\u001b[39;00m \u001b[38;5;28;01mas\u001b[39;00m err:\n\u001b[0;32m    559\u001b[0m     \u001b[38;5;28;01mif\u001b[39;00m \u001b[38;5;28mself\u001b[39m\u001b[38;5;241m.\u001b[39moptions[\u001b[38;5;124m'\u001b[39m\u001b[38;5;124mdebug_print\u001b[39m\u001b[38;5;124m'\u001b[39m]:\n",
      "File \u001b[1;32mc:\\Users\\johan\\miniconda3\\envs\\minimdo\\lib\\site-packages\\openmdao\\solvers\\solver.py:601\u001b[0m, in \u001b[0;36mNonlinearSolver._solve\u001b[1;34m(self)\u001b[0m\n\u001b[0;32m    598\u001b[0m \u001b[38;5;28mself\u001b[39m\u001b[38;5;241m.\u001b[39m_mpi_print_header()\n\u001b[0;32m    600\u001b[0m \u001b[38;5;28mself\u001b[39m\u001b[38;5;241m.\u001b[39m_iter_count \u001b[38;5;241m=\u001b[39m \u001b[38;5;241m0\u001b[39m\n\u001b[1;32m--> 601\u001b[0m norm0, norm \u001b[38;5;241m=\u001b[39m \u001b[38;5;28;43mself\u001b[39;49m\u001b[38;5;241;43m.\u001b[39;49m\u001b[43m_iter_initialize\u001b[49m\u001b[43m(\u001b[49m\u001b[43m)\u001b[49m\n\u001b[0;32m    603\u001b[0m \u001b[38;5;28mself\u001b[39m\u001b[38;5;241m.\u001b[39m_norm0 \u001b[38;5;241m=\u001b[39m norm0\n\u001b[0;32m    605\u001b[0m \u001b[38;5;28mself\u001b[39m\u001b[38;5;241m.\u001b[39m_mpi_print(\u001b[38;5;28mself\u001b[39m\u001b[38;5;241m.\u001b[39m_iter_count, norm, norm \u001b[38;5;241m/\u001b[39m norm0)\n",
      "File \u001b[1;32mc:\\Users\\johan\\miniconda3\\envs\\minimdo\\lib\\site-packages\\openmdao\\solvers\\nonlinear\\newton.py:200\u001b[0m, in \u001b[0;36mNewtonSolver._iter_initialize\u001b[1;34m(self)\u001b[0m\n\u001b[0;32m    197\u001b[0m     \u001b[38;5;28mself\u001b[39m\u001b[38;5;241m.\u001b[39m_solver_info\u001b[38;5;241m.\u001b[39mappend_solver()\n\u001b[0;32m    199\u001b[0m     \u001b[38;5;66;03m# should call the subsystems solve before computing the first residual\u001b[39;00m\n\u001b[1;32m--> 200\u001b[0m     \u001b[38;5;28;43mself\u001b[39;49m\u001b[38;5;241;43m.\u001b[39;49m\u001b[43m_gs_iter\u001b[49m\u001b[43m(\u001b[49m\u001b[43m)\u001b[49m\n\u001b[0;32m    202\u001b[0m     \u001b[38;5;28mself\u001b[39m\u001b[38;5;241m.\u001b[39m_solver_info\u001b[38;5;241m.\u001b[39mpop()\n\u001b[0;32m    204\u001b[0m \u001b[38;5;28mself\u001b[39m\u001b[38;5;241m.\u001b[39m_run_apply()\n",
      "File \u001b[1;32mc:\\Users\\johan\\miniconda3\\envs\\minimdo\\lib\\site-packages\\openmdao\\solvers\\solver.py:766\u001b[0m, in \u001b[0;36mNonlinearSolver._gs_iter\u001b[1;34m(self)\u001b[0m\n\u001b[0;32m    764\u001b[0m \u001b[38;5;28;01mif\u001b[39;00m subsys\u001b[38;5;241m.\u001b[39m_is_local:\n\u001b[0;32m    765\u001b[0m     \u001b[38;5;28;01mtry\u001b[39;00m:\n\u001b[1;32m--> 766\u001b[0m         \u001b[43msubsys\u001b[49m\u001b[38;5;241;43m.\u001b[39;49m\u001b[43m_solve_nonlinear\u001b[49m\u001b[43m(\u001b[49m\u001b[43m)\u001b[49m\n\u001b[0;32m    767\u001b[0m     \u001b[38;5;28;01mexcept\u001b[39;00m AnalysisError \u001b[38;5;28;01mas\u001b[39;00m err:\n\u001b[0;32m    768\u001b[0m         \u001b[38;5;28;01mif\u001b[39;00m \u001b[38;5;124m'\u001b[39m\u001b[38;5;124mreraise_child_analysiserror\u001b[39m\u001b[38;5;124m'\u001b[39m \u001b[38;5;129;01mnot\u001b[39;00m \u001b[38;5;129;01min\u001b[39;00m \u001b[38;5;28mself\u001b[39m\u001b[38;5;241m.\u001b[39moptions \u001b[38;5;129;01mor\u001b[39;00m \\\n\u001b[0;32m    769\u001b[0m                 \u001b[38;5;28mself\u001b[39m\u001b[38;5;241m.\u001b[39moptions[\u001b[38;5;124m'\u001b[39m\u001b[38;5;124mreraise_child_analysiserror\u001b[39m\u001b[38;5;124m'\u001b[39m]:\n",
      "File \u001b[1;32mc:\\Users\\johan\\miniconda3\\envs\\minimdo\\lib\\site-packages\\openmdao\\core\\group.py:2595\u001b[0m, in \u001b[0;36mGroup._solve_nonlinear\u001b[1;34m(self)\u001b[0m\n\u001b[0;32m   2592\u001b[0m name \u001b[38;5;241m=\u001b[39m \u001b[38;5;28mself\u001b[39m\u001b[38;5;241m.\u001b[39mpathname \u001b[38;5;28;01mif\u001b[39;00m \u001b[38;5;28mself\u001b[39m\u001b[38;5;241m.\u001b[39mpathname \u001b[38;5;28;01melse\u001b[39;00m \u001b[38;5;124m'\u001b[39m\u001b[38;5;124mroot\u001b[39m\u001b[38;5;124m'\u001b[39m\n\u001b[0;32m   2594\u001b[0m \u001b[38;5;28;01mwith\u001b[39;00m Recording(name \u001b[38;5;241m+\u001b[39m \u001b[38;5;124m'\u001b[39m\u001b[38;5;124m._solve_nonlinear\u001b[39m\u001b[38;5;124m'\u001b[39m, \u001b[38;5;28mself\u001b[39m\u001b[38;5;241m.\u001b[39miter_count, \u001b[38;5;28mself\u001b[39m):\n\u001b[1;32m-> 2595\u001b[0m     \u001b[38;5;28;43mself\u001b[39;49m\u001b[38;5;241;43m.\u001b[39;49m\u001b[43m_nonlinear_solver\u001b[49m\u001b[38;5;241;43m.\u001b[39;49m\u001b[43msolve\u001b[49m\u001b[43m(\u001b[49m\u001b[43m)\u001b[49m\n",
      "File \u001b[1;32mc:\\Users\\johan\\miniconda3\\envs\\minimdo\\lib\\site-packages\\openmdao\\solvers\\solver.py:561\u001b[0m, in \u001b[0;36mNonlinearSolver.solve\u001b[1;34m(self)\u001b[0m\n\u001b[0;32m    559\u001b[0m \u001b[38;5;28;01mif\u001b[39;00m \u001b[38;5;28mself\u001b[39m\u001b[38;5;241m.\u001b[39moptions[\u001b[38;5;124m'\u001b[39m\u001b[38;5;124mdebug_print\u001b[39m\u001b[38;5;124m'\u001b[39m]:\n\u001b[0;32m    560\u001b[0m     \u001b[38;5;28mself\u001b[39m\u001b[38;5;241m.\u001b[39m_print_exc_debug_info()\n\u001b[1;32m--> 561\u001b[0m \u001b[38;5;28;01mraise\u001b[39;00m err\n",
      "File \u001b[1;32mc:\\Users\\johan\\miniconda3\\envs\\minimdo\\lib\\site-packages\\openmdao\\solvers\\solver.py:557\u001b[0m, in \u001b[0;36mNonlinearSolver.solve\u001b[1;34m(self)\u001b[0m\n\u001b[0;32m    553\u001b[0m \u001b[38;5;250m\u001b[39m\u001b[38;5;124;03m\"\"\"\u001b[39;00m\n\u001b[0;32m    554\u001b[0m \u001b[38;5;124;03mRun the solver.\u001b[39;00m\n\u001b[0;32m    555\u001b[0m \u001b[38;5;124;03m\"\"\"\u001b[39;00m\n\u001b[0;32m    556\u001b[0m \u001b[38;5;28;01mtry\u001b[39;00m:\n\u001b[1;32m--> 557\u001b[0m     \u001b[38;5;28;43mself\u001b[39;49m\u001b[38;5;241;43m.\u001b[39;49m\u001b[43m_solve\u001b[49m\u001b[43m(\u001b[49m\u001b[43m)\u001b[49m\n\u001b[0;32m    558\u001b[0m \u001b[38;5;28;01mexcept\u001b[39;00m \u001b[38;5;167;01mException\u001b[39;00m \u001b[38;5;28;01mas\u001b[39;00m err:\n\u001b[0;32m    559\u001b[0m     \u001b[38;5;28;01mif\u001b[39;00m \u001b[38;5;28mself\u001b[39m\u001b[38;5;241m.\u001b[39moptions[\u001b[38;5;124m'\u001b[39m\u001b[38;5;124mdebug_print\u001b[39m\u001b[38;5;124m'\u001b[39m]:\n",
      "File \u001b[1;32mc:\\Users\\johan\\miniconda3\\envs\\minimdo\\lib\\site-packages\\openmdao\\solvers\\solver.py:634\u001b[0m, in \u001b[0;36mNonlinearSolver._solve\u001b[1;34m(self)\u001b[0m\n\u001b[0;32m    632\u001b[0m     \u001b[38;5;28mself\u001b[39m\u001b[38;5;241m.\u001b[39mlinesearch\u001b[38;5;241m.\u001b[39moptions[\u001b[38;5;124m'\u001b[39m\u001b[38;5;124mprint_bound_enforce\u001b[39m\u001b[38;5;124m'\u001b[39m] \u001b[38;5;241m=\u001b[39m \u001b[38;5;28;01mFalse\u001b[39;00m\n\u001b[0;32m    633\u001b[0m \u001b[38;5;28;01melse\u001b[39;00m:\n\u001b[1;32m--> 634\u001b[0m     \u001b[38;5;28;43mself\u001b[39;49m\u001b[38;5;241;43m.\u001b[39;49m\u001b[43m_single_iteration\u001b[49m\u001b[43m(\u001b[49m\u001b[43m)\u001b[49m\n\u001b[0;32m    636\u001b[0m \u001b[38;5;28mself\u001b[39m\u001b[38;5;241m.\u001b[39m_iter_count \u001b[38;5;241m+\u001b[39m\u001b[38;5;241m=\u001b[39m \u001b[38;5;241m1\u001b[39m\n\u001b[0;32m    637\u001b[0m \u001b[38;5;28mself\u001b[39m\u001b[38;5;241m.\u001b[39m_run_apply()\n",
      "File \u001b[1;32mc:\\Users\\johan\\miniconda3\\envs\\minimdo\\lib\\site-packages\\openmdao\\solvers\\nonlinear\\newton.py:235\u001b[0m, in \u001b[0;36mNewtonSolver._single_iteration\u001b[1;34m(self)\u001b[0m\n\u001b[0;32m    232\u001b[0m \u001b[38;5;28;01mif\u001b[39;00m (my_asm_jac \u001b[38;5;129;01mis\u001b[39;00m \u001b[38;5;129;01mnot\u001b[39;00m \u001b[38;5;28;01mNone\u001b[39;00m \u001b[38;5;129;01mand\u001b[39;00m system\u001b[38;5;241m.\u001b[39mlinear_solver\u001b[38;5;241m.\u001b[39m_assembled_jac \u001b[38;5;129;01mis\u001b[39;00m \u001b[38;5;129;01mnot\u001b[39;00m my_asm_jac):\n\u001b[0;32m    233\u001b[0m     my_asm_jac\u001b[38;5;241m.\u001b[39m_update(system)\n\u001b[1;32m--> 235\u001b[0m \u001b[38;5;28;43mself\u001b[39;49m\u001b[38;5;241;43m.\u001b[39;49m\u001b[43m_linearize\u001b[49m\u001b[43m(\u001b[49m\u001b[43m)\u001b[49m\n\u001b[0;32m    237\u001b[0m \u001b[38;5;28mself\u001b[39m\u001b[38;5;241m.\u001b[39mlinear_solver\u001b[38;5;241m.\u001b[39msolve(\u001b[38;5;124m'\u001b[39m\u001b[38;5;124mfwd\u001b[39m\u001b[38;5;124m'\u001b[39m)\n\u001b[0;32m    239\u001b[0m \u001b[38;5;28;01mif\u001b[39;00m \u001b[38;5;28mself\u001b[39m\u001b[38;5;241m.\u001b[39mlinesearch:\n",
      "File \u001b[1;32mc:\\Users\\johan\\miniconda3\\envs\\minimdo\\lib\\site-packages\\openmdao\\solvers\\nonlinear\\newton.py:161\u001b[0m, in \u001b[0;36mNewtonSolver._linearize\u001b[1;34m(self)\u001b[0m\n\u001b[0;32m    157\u001b[0m \u001b[38;5;250m\u001b[39m\u001b[38;5;124;03m\"\"\"\u001b[39;00m\n\u001b[0;32m    158\u001b[0m \u001b[38;5;124;03mPerform any required linearization operations such as matrix factorization.\u001b[39;00m\n\u001b[0;32m    159\u001b[0m \u001b[38;5;124;03m\"\"\"\u001b[39;00m\n\u001b[0;32m    160\u001b[0m \u001b[38;5;28;01mif\u001b[39;00m \u001b[38;5;28mself\u001b[39m\u001b[38;5;241m.\u001b[39mlinear_solver \u001b[38;5;129;01mis\u001b[39;00m \u001b[38;5;129;01mnot\u001b[39;00m \u001b[38;5;28;01mNone\u001b[39;00m:\n\u001b[1;32m--> 161\u001b[0m     \u001b[38;5;28;43mself\u001b[39;49m\u001b[38;5;241;43m.\u001b[39;49m\u001b[43mlinear_solver\u001b[49m\u001b[38;5;241;43m.\u001b[39;49m\u001b[43m_linearize\u001b[49m\u001b[43m(\u001b[49m\u001b[43m)\u001b[49m\n\u001b[0;32m    163\u001b[0m \u001b[38;5;28;01mif\u001b[39;00m \u001b[38;5;28mself\u001b[39m\u001b[38;5;241m.\u001b[39mlinesearch \u001b[38;5;129;01mis\u001b[39;00m \u001b[38;5;129;01mnot\u001b[39;00m \u001b[38;5;28;01mNone\u001b[39;00m:\n\u001b[0;32m    164\u001b[0m     \u001b[38;5;28mself\u001b[39m\u001b[38;5;241m.\u001b[39mlinesearch\u001b[38;5;241m.\u001b[39m_linearize()\n",
      "File \u001b[1;32mc:\\Users\\johan\\miniconda3\\envs\\minimdo\\lib\\site-packages\\openmdao\\solvers\\linear\\direct.py:283\u001b[0m, in \u001b[0;36mDirectSolver._linearize\u001b[1;34m(self)\u001b[0m\n\u001b[0;32m    281\u001b[0m \u001b[38;5;28;01mexcept\u001b[39;00m \u001b[38;5;167;01mRuntimeError\u001b[39;00m \u001b[38;5;28;01mas\u001b[39;00m err:\n\u001b[0;32m    282\u001b[0m     \u001b[38;5;28;01mif\u001b[39;00m \u001b[38;5;124m'\u001b[39m\u001b[38;5;124mexactly singular\u001b[39m\u001b[38;5;124m'\u001b[39m \u001b[38;5;129;01min\u001b[39;00m \u001b[38;5;28mstr\u001b[39m(err):\n\u001b[1;32m--> 283\u001b[0m         \u001b[38;5;28;01mraise\u001b[39;00m \u001b[38;5;167;01mRuntimeError\u001b[39;00m(format_singular_error(system, matrix))\n\u001b[0;32m    284\u001b[0m     \u001b[38;5;28;01melse\u001b[39;00m:\n\u001b[0;32m    285\u001b[0m         \u001b[38;5;28;01mraise\u001b[39;00m err\n",
      "\u001b[1;31mRuntimeError\u001b[0m: Jacobian in 'group1.group2' is not full rank. The following set of states/residuals contains one or more equations that is a linear combination of the others: \n 'c' ('group1.group2.res23.c') index 0.\n 'd' ('group1.group2.res23.d') index 0.\n"
     ]
    }
   ],
   "source": [
    "prob.set_solver_print(level=1)\n",
    "prob.driver = om.ScipyOptimizeDriver()\n",
    "prob.run_driver();"
   ]
  },
  {
   "cell_type": "code",
   "execution_count": null,
   "id": "37430549",
   "metadata": {},
   "outputs": [],
   "source": []
  }
 ],
 "metadata": {
  "kernelspec": {
   "display_name": "minimdo",
   "language": "python",
   "name": "python3"
  },
  "language_info": {
   "codemirror_mode": {
    "name": "ipython",
    "version": 3
   },
   "file_extension": ".py",
   "mimetype": "text/x-python",
   "name": "python",
   "nbconvert_exporter": "python",
   "pygments_lexer": "ipython3",
   "version": "3.9.18"
  }
 },
 "nbformat": 4,
 "nbformat_minor": 5
}
