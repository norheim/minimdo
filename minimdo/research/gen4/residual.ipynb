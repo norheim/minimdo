{
 "cells": [
  {
   "cell_type": "code",
   "execution_count": 2,
   "metadata": {},
   "outputs": [
    {
     "name": "stdout",
     "output_type": "stream",
     "text": [
      "[3. 0. 0.]\n"
     ]
    }
   ],
   "source": [
    "from jax import jacobian\n",
    "import jax\n",
    "jax.config.update('jax_platform_name', 'cpu')\n",
    "import numpy as np\n",
    "import jax.numpy as anp\n",
    "import cyipopt\n",
    "\n",
    "def unflatten(x0, order):\n",
    "    unflattened = {}\n",
    "    idx = 0\n",
    "    for var in order:\n",
    "        size = np.prod(var.shape)\n",
    "        unflattened[var.name] = anp.reshape(x0[idx:idx + size], var.shape)\n",
    "        idx += size\n",
    "    return unflattened\n",
    "\n",
    "def compute_residuals_generic(funcs_with_io, order):\n",
    "    def inner(x0):\n",
    "        variables = unflatten(x0, order)\n",
    "        residuals = []\n",
    "\n",
    "        for idx, (func, inputs, outputs) in enumerate(funcs_with_io):\n",
    "            input_vars = tuple(variables[input_var.name] for input_var in inputs)\n",
    "            output_vars = tuple(variables[output_var.name] if output_var else None for output_var in outputs)\n",
    "            func_output = func(*input_vars)\n",
    "            for output_var, func_val in zip(output_vars, func_output):\n",
    "                residual = func_val\n",
    "                if output_var is not None:\n",
    "                    residual = output_var - func_val\n",
    "                else:\n",
    "                    residual = (func_val,)\n",
    "                residuals.extend(residual)\n",
    "\n",
    "        return anp.array(residuals)\n",
    "\n",
    "    return inner\n",
    "\n",
    "def compute_structure(funcs_with_io, order):\n",
    "    structure = []\n",
    "    for func, inputs, outputs in funcs_with_io:\n",
    "        for output_var in outputs:\n",
    "            out_shape = output_var.shape if output_var != None else 1\n",
    "            row = tuple(np.ones((np.prod(out_shape), np.prod(var.shape))) if var in inputs else np.zeros((np.prod(out_shape), np.prod(var.shape))) for var in order)\n",
    "            structure.append(np.hstack(row))\n",
    "    structure = np.vstack(structure)\n",
    "    return structure\n",
    "\n",
    "class Var:\n",
    "    def __init__(self, name, shape):\n",
    "        self.name = name\n",
    "        self.shape = shape\n",
    "\n",
    "x1 = Var('x1', 2)\n",
    "x2 = Var('x2', 2)\n",
    "x3 = Var('x3', (2, 2))\n",
    "x4 = Var('x4', 1)\n",
    "\n",
    "f1 = lambda x2, x3, x1: (x3 @ x2, x1[0])\n",
    "f2 = lambda x1: (x1,)\n",
    "h1 = lambda x3: (x3[0, 0] - 1, x3[0, 1], x3[1, 0], x3[1, 1] - 1)\n",
    "\n",
    "# Example usage\n",
    "x0 = anp.array([1, 1, 1, 1, 1, 0, 0, 1, 0.5],  dtype=\"float32\")  # flat vector\n",
    "order = (x1, x2, x3, x4)  # order of variables\n",
    "funcs_with_io = [\n",
    "    (f1, (x2, x3, x1), (x1, x4)),\n",
    "    (f2, (x1,), (x2,)),\n",
    "    (h1, (x3,), (None, None, None, None))\n",
    "]\n",
    "\n",
    "\n",
    "x1 = Var('x1', 1)\n",
    "x2 = Var('x2', 1)\n",
    "x3 = Var('x3', 1)\n",
    "\n",
    "f1 = lambda x3: (x3**2-3,)\n",
    "f2 = lambda x1, x3: (x1*x3,)\n",
    "f3 = lambda x1, x2: (x1*x2,)\n",
    "\n",
    "# Example usage\n",
    "x0 = anp.array([1, 1, 1],  dtype=\"float32\")  # flat vector\n",
    "order = (x1, x2, x3)  # order of variables\n",
    "funcs_with_io = [\n",
    "    (f1, (x3,), (x1,)),\n",
    "    (f2, (x1,x3), (x2,)),\n",
    "    (f3, (x1,x2), (x3,)),\n",
    "]\n",
    "\n",
    "\n",
    "residuals_func = compute_residuals_generic(funcs_with_io, order)\n",
    "jacobian_res = jacobian(residuals_func)\n",
    "residuals = residuals_func(x0)\n",
    "J = jacobian_res(x0)\n",
    "\n",
    "print(residuals)\n"
   ]
  },
  {
   "cell_type": "code",
   "execution_count": 2,
   "metadata": {},
   "outputs": [],
   "source": [
    "constraints = compute_residuals_generic(funcs_with_io, order)\n",
    "constraints_jacobian = jacobian(constraints)\n",
    "constraints_jacobian_structure = compute_structure(funcs_with_io, order)\n",
    "m,n = constraints_jacobian_structure.shape"
   ]
  },
  {
   "cell_type": "code",
   "execution_count": 3,
   "metadata": {},
   "outputs": [],
   "source": [
    "class Problem:\n",
    "    def __init__(self, n, constraints, constraints_jacobian, constraints_jacobian_structure):\n",
    "        self.n = n\n",
    "        self.constraints = constraints\n",
    "        self.jacobian = constraints_jacobian\n",
    "\n",
    "    def objective(self, x):\n",
    "        return 0\n",
    "    def gradient(self, x):\n",
    "        return np.zeros(self.n)\n",
    "\n",
    "    def constraints(self, x):\n",
    "        return self.constraints(x)\n",
    "    \n",
    "    def jacobian(self, x):\n",
    "        return self.jacobian(x)"
   ]
  },
  {
   "cell_type": "code",
   "execution_count": 4,
   "metadata": {},
   "outputs": [],
   "source": [
    "P = Problem(n, constraints, constraints_jacobian, constraints_jacobian_structure)"
   ]
  },
  {
   "cell_type": "code",
   "execution_count": 14,
   "metadata": {},
   "outputs": [],
   "source": [
    "problem = cyipopt.Problem(\n",
    "    n=n,\n",
    "    m=m,\n",
    "    problem_obj=P,\n",
    "    lb=-2*np.ones(n),\n",
    "    ub=2*np.ones(n),\n",
    "    cl=np.zeros(m),\n",
    "    cu=np.zeros(m)\n",
    ")"
   ]
  },
  {
   "cell_type": "code",
   "execution_count": 15,
   "metadata": {},
   "outputs": [],
   "source": [
    "out = problem.solve(x0)"
   ]
  },
  {
   "cell_type": "code",
   "execution_count": 16,
   "metadata": {},
   "outputs": [],
   "source": [
    "xsol = np.round(out[0],3)"
   ]
  },
  {
   "cell_type": "code",
   "execution_count": 17,
   "metadata": {},
   "outputs": [
    {
     "data": {
      "text/plain": [
       "DeviceArray([0., 0., 0.], dtype=float32)"
      ]
     },
     "execution_count": 17,
     "metadata": {},
     "output_type": "execute_result"
    }
   ],
   "source": [
    "constraints(xsol)"
   ]
  },
  {
   "cell_type": "code",
   "execution_count": 18,
   "metadata": {},
   "outputs": [
    {
     "data": {
      "text/plain": [
       "(array([1., 2., 2.]),\n",
       " {'x': array([1., 2., 2.]),\n",
       "  'g': array([-8.06466005e-13,  0.00000000e+00,  0.00000000e+00]),\n",
       "  'obj_val': 0.0,\n",
       "  'mult_g': array([-0., -0., -0.]),\n",
       "  'mult_x_L': array([0., 0., 0.]),\n",
       "  'mult_x_U': array([0., 0., 0.]),\n",
       "  'status': 0,\n",
       "  'status_msg': b'Algorithm terminated successfully at a locally optimal point, satisfying the convergence tolerances (can be specified by options).'})"
      ]
     },
     "execution_count": 18,
     "metadata": {},
     "output_type": "execute_result"
    }
   ],
   "source": [
    "out"
   ]
  },
  {
   "cell_type": "code",
   "execution_count": null,
   "metadata": {},
   "outputs": [],
   "source": []
  }
 ],
 "metadata": {
  "kernelspec": {
   "display_name": "minimdo",
   "language": "python",
   "name": "python3"
  },
  "language_info": {
   "codemirror_mode": {
    "name": "ipython",
    "version": 3
   },
   "file_extension": ".py",
   "mimetype": "text/x-python",
   "name": "python",
   "nbconvert_exporter": "python",
   "pygments_lexer": "ipython3",
   "version": "3.9.12"
  },
  "orig_nbformat": 4
 },
 "nbformat": 4,
 "nbformat_minor": 2
}
