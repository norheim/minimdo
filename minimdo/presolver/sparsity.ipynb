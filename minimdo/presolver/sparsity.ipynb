{
 "cells": [
  {
   "cell_type": "code",
   "execution_count": 1,
   "id": "62fe48bd-043b-4866-b223-fee252bb62da",
   "metadata": {
    "execution": {
     "iopub.execute_input": "2022-06-23T00:29:34.415244Z",
     "iopub.status.busy": "2022-06-23T00:29:34.415244Z",
     "iopub.status.idle": "2022-06-23T00:29:37.444210Z",
     "shell.execute_reply": "2022-06-23T00:29:37.444058Z",
     "shell.execute_reply.started": "2022-06-23T00:29:34.415244Z"
    },
    "tags": []
   },
   "outputs": [],
   "source": [
    "from testproblems import generate_random_prob\n",
    "from representations import bipartite_repr\n",
    "from inputresolver import resolve,invert_edges,getallvars,direct_eqs\n",
    "from datastructures.polycasebuilder import eqv_to_edges_tree\n",
    "from datastructures.graphutils import flat_graph_formulation, draw_graph_graphical_props\n",
    "from datastructures.operators import sort_scc\n",
    "#from networkx.algorithms.bipartite import random_graph as bipartite_random_graph"
   ]
  },
  {
   "cell_type": "code",
   "execution_count": 2,
   "id": "4b4460dd-56bd-4e0f-a8bf-5ee2e7b5060b",
   "metadata": {
    "execution": {
     "iopub.execute_input": "2022-06-23T00:29:48.904550Z",
     "iopub.status.busy": "2022-06-23T00:29:48.904550Z",
     "iopub.status.idle": "2022-06-23T00:29:48.924301Z",
     "shell.execute_reply": "2022-06-23T00:29:48.924301Z",
     "shell.execute_reply.started": "2022-06-23T00:29:48.904550Z"
    },
    "tags": []
   },
   "outputs": [],
   "source": [
    "import numpy as np\n",
    "import networkx as nx"
   ]
  },
  {
   "cell_type": "code",
   "execution_count": 3,
   "id": "fce75d4c-d679-4770-8e5d-c558a18a4e79",
   "metadata": {
    "execution": {
     "iopub.execute_input": "2022-06-23T00:29:49.106461Z",
     "iopub.status.busy": "2022-06-23T00:29:49.105797Z",
     "iopub.status.idle": "2022-06-23T00:29:49.234295Z",
     "shell.execute_reply": "2022-06-23T00:29:49.233753Z",
     "shell.execute_reply.started": "2022-06-23T00:29:49.106461Z"
    },
    "tags": []
   },
   "outputs": [],
   "source": [
    "from ipywidgets import IntProgress\n",
    "from IPython.display import display\n",
    "import time"
   ]
  },
  {
   "cell_type": "code",
   "execution_count": 4,
   "id": "789ebda6-797f-478a-9871-99b7cd030f2e",
   "metadata": {
    "execution": {
     "iopub.execute_input": "2022-06-23T00:29:49.284289Z",
     "iopub.status.busy": "2022-06-23T00:29:49.282492Z",
     "iopub.status.idle": "2022-06-23T00:29:49.344560Z",
     "shell.execute_reply": "2022-06-23T00:29:49.342750Z",
     "shell.execute_reply.started": "2022-06-23T00:29:49.284289Z"
    },
    "tags": []
   },
   "outputs": [],
   "source": [
    "import seaborn as sns\n",
    "sns.set_theme(style=\"darkgrid\")"
   ]
  },
  {
   "cell_type": "code",
   "execution_count": 5,
   "id": "d1e47b5c-61fc-4c7e-95b8-6ea0ab9e1de5",
   "metadata": {
    "execution": {
     "iopub.execute_input": "2022-06-23T00:29:49.440320Z",
     "iopub.status.busy": "2022-06-23T00:29:49.440320Z",
     "iopub.status.idle": "2022-06-23T00:29:49.454868Z",
     "shell.execute_reply": "2022-06-23T00:29:49.453464Z",
     "shell.execute_reply.started": "2022-06-23T00:29:49.440320Z"
    },
    "tags": []
   },
   "outputs": [],
   "source": [
    "rng = np.random.default_rng()"
   ]
  },
  {
   "cell_type": "code",
   "execution_count": 6,
   "id": "5190315d-9574-45c0-9509-e10784caedfa",
   "metadata": {
    "execution": {
     "iopub.execute_input": "2022-06-23T00:29:49.654101Z",
     "iopub.status.busy": "2022-06-23T00:29:49.652612Z",
     "iopub.status.idle": "2022-06-23T00:29:49.671614Z",
     "shell.execute_reply": "2022-06-23T00:29:49.670620Z",
     "shell.execute_reply.started": "2022-06-23T00:29:49.653595Z"
    },
    "tags": []
   },
   "outputs": [],
   "source": [
    "n_eqs = 7\n",
    "n_vars = 10\n",
    "seed = 8#8 is triang#seed 10 is nice 42\n",
    "sparsity = 1.7#0.87#0.8 1.1 #1.7 1.3\n",
    "eqv, varinc, dout = generate_random_prob(n_eqs, n_vars, seed, sparsity)\n",
    "eqs=direct_eqs(eqv, dout)\n",
    "output_set = {key:var-n_eqs for key,var in dout.items()}"
   ]
  },
  {
   "cell_type": "code",
   "execution_count": 7,
   "id": "5e63a996-ea92-4974-af7a-2522b6b0edc8",
   "metadata": {
    "execution": {
     "iopub.execute_input": "2022-06-23T00:29:50.000191Z",
     "iopub.status.busy": "2022-06-23T00:29:50.000191Z",
     "iopub.status.idle": "2022-06-23T00:29:50.015742Z",
     "shell.execute_reply": "2022-06-23T00:29:50.014360Z",
     "shell.execute_reply.started": "2022-06-23T00:29:50.000191Z"
    },
    "tags": []
   },
   "outputs": [],
   "source": [
    "edges, tree = eqv_to_edges_tree(eqv, output_set, n_eqs)"
   ]
  },
  {
   "cell_type": "code",
   "execution_count": 8,
   "id": "124764a5-c52b-4558-b346-13448a2706d7",
   "metadata": {
    "execution": {
     "iopub.execute_input": "2022-06-23T00:29:50.204522Z",
     "iopub.status.busy": "2022-06-23T00:29:50.204522Z",
     "iopub.status.idle": "2022-06-23T00:29:50.219204Z",
     "shell.execute_reply": "2022-06-23T00:29:50.219204Z",
     "shell.execute_reply.started": "2022-06-23T00:29:50.204522Z"
    },
    "tags": []
   },
   "outputs": [],
   "source": [
    "G = flat_graph_formulation(*edges)\n",
    "merge_order = sort_scc(G)\n",
    "maxscc = max([len(elt) for elt in merge_order])"
   ]
  },
  {
   "cell_type": "code",
   "execution_count": 9,
   "id": "022cad85-4978-4cd7-a94c-bb19bc893781",
   "metadata": {
    "execution": {
     "iopub.execute_input": "2022-06-23T00:29:50.404296Z",
     "iopub.status.busy": "2022-06-23T00:29:50.404296Z",
     "iopub.status.idle": "2022-06-23T00:29:50.425829Z",
     "shell.execute_reply": "2022-06-23T00:29:50.424409Z",
     "shell.execute_reply.started": "2022-06-23T00:29:50.404296Z"
    },
    "tags": []
   },
   "outputs": [],
   "source": [
    "#draw_graph_graphical_props(G, {}, prog='neato', figsize=(6,6))"
   ]
  },
  {
   "cell_type": "code",
   "execution_count": 10,
   "id": "bfe24d9a-147c-4be8-a92a-1b757e1cd180",
   "metadata": {
    "execution": {
     "iopub.execute_input": "2022-06-23T00:29:50.684572Z",
     "iopub.status.busy": "2022-06-23T00:29:50.684572Z",
     "iopub.status.idle": "2022-06-23T00:29:50.711149Z",
     "shell.execute_reply": "2022-06-23T00:29:50.709923Z",
     "shell.execute_reply.started": "2022-06-23T00:29:50.684572Z"
    },
    "tags": []
   },
   "outputs": [
    {
     "data": {
      "text/plain": [
       "6"
      ]
     },
     "execution_count": 10,
     "metadata": {},
     "output_type": "execute_result"
    }
   ],
   "source": [
    "maxscc"
   ]
  },
  {
   "cell_type": "code",
   "execution_count": 11,
   "id": "3c12faa5-dfa8-401c-84bf-ca882f445313",
   "metadata": {
    "execution": {
     "iopub.execute_input": "2022-06-23T00:29:56.914567Z",
     "iopub.status.busy": "2022-06-23T00:29:56.914567Z",
     "iopub.status.idle": "2022-06-23T00:29:56.940651Z",
     "shell.execute_reply": "2022-06-23T00:29:56.939555Z",
     "shell.execute_reply.started": "2022-06-23T00:29:56.914567Z"
    },
    "tags": []
   },
   "outputs": [],
   "source": [
    "_, edges_original = bipartite_repr(eqv)\n",
    "avrs = getallvars(eqs, sympy=False)\n",
    "eqns = eqs.keys()\n",
    "graph_edges = invert_edges(edges_original)"
   ]
  },
  {
   "cell_type": "markdown",
   "id": "b25f6bf0-75eb-434d-b9bf-8f539465f2fa",
   "metadata": {
    "tags": []
   },
   "source": [
    "# Brute force feedback"
   ]
  },
  {
   "cell_type": "code",
   "execution_count": 12,
   "id": "00d27cb5-0d2e-42c7-95f3-241517f6c15e",
   "metadata": {
    "execution": {
     "iopub.execute_input": "2022-06-23T00:29:59.950305Z",
     "iopub.status.busy": "2022-06-23T00:29:59.950305Z",
     "iopub.status.idle": "2022-06-23T00:29:59.970609Z",
     "shell.execute_reply": "2022-06-23T00:29:59.970381Z",
     "shell.execute_reply.started": "2022-06-23T00:29:59.950305Z"
    },
    "tags": []
   },
   "outputs": [],
   "source": [
    "import networkx as nx\n",
    "import gurobipy as gp\n",
    "from gurobipy import GRB"
   ]
  },
  {
   "cell_type": "code",
   "execution_count": 13,
   "id": "609fa4b1-80f8-491d-aaa3-bc74790146a3",
   "metadata": {
    "execution": {
     "iopub.execute_input": "2022-06-23T00:30:00.146123Z",
     "iopub.status.busy": "2022-06-23T00:30:00.146123Z",
     "iopub.status.idle": "2022-06-23T00:30:00.171533Z",
     "shell.execute_reply": "2022-06-23T00:30:00.170094Z",
     "shell.execute_reply.started": "2022-06-23T00:30:00.146123Z"
    },
    "tags": []
   },
   "outputs": [],
   "source": [
    "def dir_graph(undir_edges, rightset, selected):\n",
    "    # edge order independent in selected and undir_edges\n",
    "    for node1, node2 in undir_edges:\n",
    "        if ((node1,node2) in selected or (node2,node1) in selected):\n",
    "            yield (node2,node1) if node2 in rightset else (node1, node2)\n",
    "        else:\n",
    "            yield (node1,node2) if node2 in rightset else (node2, node1)"
   ]
  },
  {
   "cell_type": "code",
   "execution_count": 14,
   "id": "4d2481eb-f22d-4133-ad72-ee18f0935c35",
   "metadata": {
    "execution": {
     "iopub.execute_input": "2022-06-23T00:30:00.694923Z",
     "iopub.status.busy": "2022-06-23T00:30:00.691746Z",
     "iopub.status.idle": "2022-06-23T00:30:00.707707Z",
     "shell.execute_reply": "2022-06-23T00:30:00.707232Z",
     "shell.execute_reply.started": "2022-06-23T00:30:00.694923Z"
    },
    "tags": []
   },
   "outputs": [],
   "source": [
    "def heuristic_permute_tear(undir_edges, rightset):\n",
    "    # edge order independent\n",
    "    G = nx.Graph(undir_edges)\n",
    "    G_original = G.copy()\n",
    "    assignment = tuple()\n",
    "    vertexelim = set()\n",
    "    while G.nodes():\n",
    "        degree = dict(G.degree(rightset))\n",
    "        mindegarg = min(degree, key=degree.get)\n",
    "        argneighbors = list(G.neighbors(mindegarg))\n",
    "        G.remove_node(mindegarg)\n",
    "        if degree[mindegarg] != 0:\n",
    "            assignment += ((mindegarg,argneighbors[0]),)\n",
    "        else:\n",
    "            vertexelim.add((mindegarg, tuple(G_original.neighbors(mindegarg))))\n",
    "        for neighbor in argneighbors:\n",
    "            G.remove_node(neighbor)\n",
    "    return assignment, vertexelim"
   ]
  },
  {
   "cell_type": "code",
   "execution_count": 222,
   "id": "edaa7d92-de18-46d7-9daa-a812c7e6ccbc",
   "metadata": {
    "execution": {
     "iopub.execute_input": "2022-04-27T20:15:15.984963Z",
     "iopub.status.busy": "2022-04-27T20:15:15.984963Z",
     "iopub.status.idle": "2022-04-27T20:15:15.998975Z",
     "shell.execute_reply": "2022-04-27T20:15:15.997959Z",
     "shell.execute_reply.started": "2022-04-27T20:15:15.984963Z"
    },
    "tags": []
   },
   "outputs": [],
   "source": [
    "def generate_all_scc(dedges, velim):\n",
    "    scc_full = set() # make sure we don't run into repeated cycles\n",
    "    for v, neighbors in velim:\n",
    "        D = nx.DiGraph(dedges)\n",
    "        for u in neighbors:\n",
    "            D.remove_edge(u,v)\n",
    "            D.add_edge(v,u)\n",
    "            S = nx.strongly_connected_components(D)\n",
    "            scc_nonatomic = (elt for elt in S if len(elt)>1)\n",
    "            for scc in scc_nonatomic:\n",
    "                scc_full.add(tuple(scc))\n",
    "    return scc_full"
   ]
  },
  {
   "cell_type": "code",
   "execution_count": 223,
   "id": "28c3412b-e87f-446b-881b-ccc18041065a",
   "metadata": {
    "execution": {
     "iopub.execute_input": "2022-04-27T20:15:16.436146Z",
     "iopub.status.busy": "2022-04-27T20:15:16.435051Z",
     "iopub.status.idle": "2022-04-27T20:15:16.454709Z",
     "shell.execute_reply": "2022-04-27T20:15:16.453673Z",
     "shell.execute_reply.started": "2022-04-27T20:15:16.436146Z"
    },
    "tags": []
   },
   "outputs": [],
   "source": [
    "def assign_get_cycles_heuristic(xval, xref, rightset):\n",
    "    edges_left_right = xref.keys()\n",
    "    selected = tuple((right, left) for left, right in edges_left_right if xval[left, right] > 0.5)\n",
    "    D = nx.DiGraph(dir_graph(edges_left_right, rightset, selected))\n",
    "    S = nx.strongly_connected_components(D)\n",
    "    cycles_original = {tuple(elt) for elt in S if len(elt)>1}\n",
    "    keep_edges = [(left,right) for (left,right) in edges_left_right if (right,left) not in selected]\n",
    "    #print(selected)\n",
    "    #print(edges_left_right)\n",
    "    #print(keep_edges)\n",
    "    assignment, vertexelim = heuristic_permute_tear(keep_edges, rightset)\n",
    "    #print(assignment, vertexelim)\n",
    "    dedges = list(dir_graph(keep_edges, rightset, assignment))\n",
    "    #print(dedges)\n",
    "    cycles = generate_all_scc(dedges, vertexelim)\n",
    "    dedges2 = list(dir_graph(edges_left_right, rightset, assignment+selected))\n",
    "    cycles2 = generate_all_scc(dedges2, vertexelim)\n",
    "    return cycles_original.union(cycles).union(cycles2)"
   ]
  },
  {
   "cell_type": "code",
   "execution_count": 15,
   "id": "5165bc3e-e649-4987-ab4f-2313508c800f",
   "metadata": {
    "execution": {
     "iopub.execute_input": "2022-06-23T00:30:03.388364Z",
     "iopub.status.busy": "2022-06-23T00:30:03.388364Z",
     "iopub.status.idle": "2022-06-23T00:30:03.412871Z",
     "shell.execute_reply": "2022-06-23T00:30:03.411890Z",
     "shell.execute_reply.started": "2022-06-23T00:30:03.388364Z"
    },
    "tags": []
   },
   "outputs": [],
   "source": [
    "def generate_all_scc2(dedges, velim):\n",
    "    all_cycles = set() # make sure we don't run into repeated cycles\n",
    "    for v, neighbors in velim:\n",
    "        D = nx.DiGraph(dedges)\n",
    "        for u in neighbors:\n",
    "            D.remove_edge(u,v)\n",
    "            D.add_edge(v,u)\n",
    "            scycles = nx.simple_cycles(D)\n",
    "            for cycle in scycles:\n",
    "                all_cycles.add(tuple(cycle))\n",
    "    return all_cycles"
   ]
  },
  {
   "cell_type": "code",
   "execution_count": 16,
   "id": "09c33a82-74df-4958-b901-7d8b34344bf1",
   "metadata": {
    "execution": {
     "iopub.execute_input": "2022-06-23T00:30:03.625182Z",
     "iopub.status.busy": "2022-06-23T00:30:03.625182Z",
     "iopub.status.idle": "2022-06-23T00:30:03.642321Z",
     "shell.execute_reply": "2022-06-23T00:30:03.640600Z",
     "shell.execute_reply.started": "2022-06-23T00:30:03.625182Z"
    },
    "tags": []
   },
   "outputs": [],
   "source": [
    "def assign_get_cycles_heuristic2(xval, xref, rightset):\n",
    "    edges_left_right = xref.keys()\n",
    "    selected = tuple((right, left) for left, right in edges_left_right if xval[left, right] > 0.5)\n",
    "    D = nx.DiGraph(dir_graph(edges_left_right, rightset, selected))\n",
    "    S = nx.simple_cycles(D)\n",
    "    cycles_original = {tuple(elt) for elt in S}\n",
    "    keep_edges = [(left,right) for (left,right) in edges_left_right if (right,left) not in selected]\n",
    "    #print(selected)\n",
    "    #print(edges_left_right)\n",
    "    #print(keep_edges)\n",
    "    assignment, vertexelim = heuristic_permute_tear(keep_edges, rightset)\n",
    "    #print(assignment, vertexelim)\n",
    "    dedges = list(dir_graph(keep_edges, rightset, assignment))\n",
    "    #print(dedges)\n",
    "    cycles = generate_all_scc2(dedges, vertexelim)\n",
    "    dedges2 = list(dir_graph(edges_left_right, rightset, assignment+selected))\n",
    "    cycles2 = generate_all_scc2(dedges2, vertexelim)\n",
    "    return cycles_original.union(cycles).union(cycles2)"
   ]
  },
  {
   "cell_type": "code",
   "execution_count": 224,
   "id": "50ce4bd6-942e-44ab-a03e-c9e3f538a11b",
   "metadata": {
    "execution": {
     "iopub.execute_input": "2022-04-27T20:15:16.930345Z",
     "iopub.status.busy": "2022-04-27T20:15:16.930345Z",
     "iopub.status.idle": "2022-04-27T20:15:16.939297Z",
     "shell.execute_reply": "2022-04-27T20:15:16.938343Z",
     "shell.execute_reply.started": "2022-04-27T20:15:16.930345Z"
    },
    "tags": []
   },
   "outputs": [],
   "source": [
    "# def assign_get_cycles(xval, xref, edges):\n",
    "#     selected = gp.tuplelist((i, j) for i, j in xref.keys()\n",
    "#                                 if xval[i, j] > 0.5)\n",
    "#     dir_edges = ([(r,j) if (r,j) in selected else (j,r) for (r,j) in edges])\n",
    "#     D = nx.DiGraph(dir_edges)\n",
    "#     S = nx.strongly_connected_components(D)\n",
    "#     cycles = [elt for elt in S if len(elt)>1]\n",
    "#     return cycles, D"
   ]
  },
  {
   "cell_type": "code",
   "execution_count": 225,
   "id": "03820567-d51a-444b-a38c-7b43bda89594",
   "metadata": {
    "execution": {
     "iopub.execute_input": "2022-04-27T20:15:17.577292Z",
     "iopub.status.busy": "2022-04-27T20:15:17.577292Z",
     "iopub.status.idle": "2022-04-27T20:15:17.596044Z",
     "shell.execute_reply": "2022-04-27T20:15:17.595032Z",
     "shell.execute_reply.started": "2022-04-27T20:15:17.577292Z"
    },
    "tags": []
   },
   "outputs": [],
   "source": [
    "# def assign_get_cycles(yval, yref, xval, xref, edges):\n",
    "#     selected = gp.tuplelist((i, j) for i, j in xref.keys()\n",
    "#                                 if xval[i, j] > 0.5)\n",
    "#     dir_edges = dir_graph(edges, selected)\n",
    "#     X = nx.DiGraph(dir_edges)\n",
    "#     elim_set = {i for i in yref.keys() if yval[i] > 0.5}\n",
    "#     D = X.subgraph(X.nodes()-elim_set)\n",
    "#     S = nx.strongly_connected_components(D)\n",
    "#     cycles = [elt for elt in S if len(elt)>1]\n",
    "#     return cycles, D, elim_set"
   ]
  },
  {
   "cell_type": "code",
   "execution_count": 17,
   "id": "e40b7258-1680-41df-a92b-9cbe9ab87962",
   "metadata": {
    "execution": {
     "iopub.execute_input": "2022-06-23T00:30:07.690161Z",
     "iopub.status.busy": "2022-06-23T00:30:07.690161Z",
     "iopub.status.idle": "2022-06-23T00:30:07.705651Z",
     "shell.execute_reply": "2022-06-23T00:30:07.705150Z",
     "shell.execute_reply.started": "2022-06-23T00:30:07.690161Z"
    }
   },
   "outputs": [],
   "source": [
    "def assignsccelim(model, where):\n",
    "    if where == GRB.Callback.MIPSOL:\n",
    "        # make a list of edges selected in the solution\n",
    "        x_sol = model.cbGetSolution(model._x)\n",
    "        cycles = assign_get_cycles_heuristic(x_sol, model._x, model._rightset)\n",
    "        for idx, cycle in enumerate(cycles):\n",
    "            g = model._G.subgraph(cycle)\n",
    "            model.cbLazy(gp.quicksum(model._x[edge] if edge in model._x else model._x[edge[::-1]] for edge in g.edges())<=len(cycle)/2-1)"
   ]
  },
  {
   "cell_type": "code",
   "execution_count": 18,
   "id": "c5b86ee1-261e-4e22-8164-301063967a9b",
   "metadata": {
    "execution": {
     "iopub.execute_input": "2022-06-23T00:30:09.396329Z",
     "iopub.status.busy": "2022-06-23T00:30:09.396329Z",
     "iopub.status.idle": "2022-06-23T00:30:09.419972Z",
     "shell.execute_reply": "2022-06-23T00:30:09.419735Z",
     "shell.execute_reply.started": "2022-06-23T00:30:09.396329Z"
    },
    "tags": []
   },
   "outputs": [],
   "source": [
    "def assigncycleelim(model, where):\n",
    "    if where == GRB.Callback.MIPSOL:\n",
    "        # make a list of edges selected in the solution\n",
    "        x_sol = model.cbGetSolution(model._x)\n",
    "        cycles = assign_get_cycles_heuristic2(x_sol, model._x, model._rightset)\n",
    "        for idx, cycle in enumerate(cycles):\n",
    "            g = model._G.subgraph(cycle)\n",
    "            model.cbLazy(gp.quicksum(model._x[edge] if edge in model._x else model._x[edge[::-1]] for edge in g.edges())<=len(cycle)/2-1)"
   ]
  },
  {
   "cell_type": "code",
   "execution_count": 19,
   "id": "c3aef49b-9542-4351-aed3-635acbcb1bfc",
   "metadata": {
    "execution": {
     "iopub.execute_input": "2022-06-23T00:30:09.856964Z",
     "iopub.status.busy": "2022-06-23T00:30:09.856964Z",
     "iopub.status.idle": "2022-06-23T00:30:09.874710Z",
     "shell.execute_reply": "2022-06-23T00:30:09.873058Z",
     "shell.execute_reply.started": "2022-06-23T00:30:09.856964Z"
    },
    "tags": []
   },
   "outputs": [],
   "source": [
    "def min_arc_set_assign(edges_left_right, leftset, rightset):\n",
    "    G = nx.Graph(edges_left_right)\n",
    "    m = gp.Model('cycles')\n",
    "    m.setParam('OutputFlag', False )\n",
    "    m.setParam('TimeLimit', 3600)\n",
    "    x = m.addVars(edges_left_right, name=\"assign\", vtype=GRB.BINARY)\n",
    "    # A variable node can have maximum one ouput edge (possibly of none)\n",
    "    m.addConstrs((x.sum('*',i) <= 1 for i in rightset), name='equations')\n",
    "    # An equation node shall have one output edge unless part of elimination set\n",
    "    m.addConstrs((x.sum(i,'*') <= 1 for i in leftset), name='variables')\n",
    "    m.setObjective(x.sum('*'), GRB.MAXIMIZE)\n",
    "    m._rightset = rightset\n",
    "    m._G = G\n",
    "    m._x = x\n",
    "    m.Params.lazyConstraints = 1\n",
    "    m.optimize(assigncycleelim)\n",
    "    return m.getAttr('x', x), m"
   ]
  },
  {
   "cell_type": "code",
   "execution_count": 26,
   "id": "ab2a911d-d903-4143-aaf8-8a727c89b408",
   "metadata": {
    "execution": {
     "iopub.execute_input": "2022-06-23T00:49:30.138992Z",
     "iopub.status.busy": "2022-06-23T00:49:30.138992Z",
     "iopub.status.idle": "2022-06-23T00:49:30.162795Z",
     "shell.execute_reply": "2022-06-23T00:49:30.161710Z",
     "shell.execute_reply.started": "2022-06-23T00:49:30.138992Z"
    }
   },
   "outputs": [
    {
     "data": {
      "text/plain": [
       "[(7, 0),\n",
       " (14, 0),\n",
       " (15, 0),\n",
       " (10, 0),\n",
       " (8, 1),\n",
       " (9, 1),\n",
       " (10, 1),\n",
       " (16, 1),\n",
       " (14, 2),\n",
       " (15, 2),\n",
       " (7, 3),\n",
       " (9, 3),\n",
       " (11, 3),\n",
       " (13, 3),\n",
       " (14, 3),\n",
       " (12, 3),\n",
       " (8, 4),\n",
       " (9, 4),\n",
       " (10, 4),\n",
       " (11, 4),\n",
       " (12, 4),\n",
       " (13, 4),\n",
       " (8, 5),\n",
       " (9, 5),\n",
       " (10, 5),\n",
       " (11, 5),\n",
       " (14, 5),\n",
       " (10, 6),\n",
       " (11, 6),\n",
       " (13, 6),\n",
       " (14, 6),\n",
       " (7, 6)]"
      ]
     },
     "execution_count": 26,
     "metadata": {},
     "output_type": "execute_result"
    }
   ],
   "source": [
    "edges_original"
   ]
  },
  {
   "cell_type": "code",
   "execution_count": 28,
   "id": "7d0dadb8-928a-487e-94ba-ceb68717311d",
   "metadata": {
    "execution": {
     "iopub.execute_input": "2022-06-23T00:49:37.649133Z",
     "iopub.status.busy": "2022-06-23T00:49:37.648492Z",
     "iopub.status.idle": "2022-06-23T00:49:37.661992Z",
     "shell.execute_reply": "2022-06-23T00:49:37.661731Z",
     "shell.execute_reply.started": "2022-06-23T00:49:37.649133Z"
    },
    "tags": []
   },
   "outputs": [
    {
     "data": {
      "text/plain": [
       "({7, 8, 9, 10, 11, 12, 13, 14, 15, 16}, dict_keys([0, 1, 2, 3, 4, 5, 6]))"
      ]
     },
     "execution_count": 28,
     "metadata": {},
     "output_type": "execute_result"
    }
   ],
   "source": [
    "avrs, eqns"
   ]
  },
  {
   "cell_type": "code",
   "execution_count": 20,
   "id": "2017ced6-3be4-430f-bdff-771edd20f119",
   "metadata": {
    "execution": {
     "iopub.execute_input": "2022-06-23T00:30:10.795171Z",
     "iopub.status.busy": "2022-06-23T00:30:10.794662Z",
     "iopub.status.idle": "2022-06-23T00:30:11.365006Z",
     "shell.execute_reply": "2022-06-23T00:30:11.365006Z",
     "shell.execute_reply.started": "2022-06-23T00:30:10.795171Z"
    },
    "tags": []
   },
   "outputs": [
    {
     "name": "stdout",
     "output_type": "stream",
     "text": [
      "Set parameter Username\n",
      "Academic license - for non-commercial use only - expires 2023-02-25\n"
     ]
    }
   ],
   "source": [
    "xsol,m =  min_arc_set_assign(edges_original, avrs, eqns)"
   ]
  },
  {
   "cell_type": "code",
   "execution_count": 21,
   "id": "bed7e3a2-abb1-492e-b85d-32436a8bfc46",
   "metadata": {
    "execution": {
     "iopub.execute_input": "2022-06-23T00:30:13.261188Z",
     "iopub.status.busy": "2022-06-23T00:30:13.261188Z",
     "iopub.status.idle": "2022-06-23T00:30:13.277264Z",
     "shell.execute_reply": "2022-06-23T00:30:13.276093Z",
     "shell.execute_reply.started": "2022-06-23T00:30:13.261188Z"
    },
    "tags": []
   },
   "outputs": [
    {
     "data": {
      "text/plain": [
       "6.0"
      ]
     },
     "execution_count": 21,
     "metadata": {},
     "output_type": "execute_result"
    }
   ],
   "source": [
    "sum(xsol.values())"
   ]
  },
  {
   "cell_type": "code",
   "execution_count": 22,
   "id": "ff3fc021-8b6f-4a3e-8825-17a49b2d26ea",
   "metadata": {
    "execution": {
     "iopub.execute_input": "2022-06-23T00:30:23.325875Z",
     "iopub.status.busy": "2022-06-23T00:30:23.325875Z",
     "iopub.status.idle": "2022-06-23T00:30:23.335077Z",
     "shell.execute_reply": "2022-06-23T00:30:23.334026Z",
     "shell.execute_reply.started": "2022-06-23T00:30:23.325875Z"
    },
    "tags": []
   },
   "outputs": [],
   "source": [
    "selected = tuple((right, left) for left, right in edges_original if xsol[left, right] > 0.5)\n",
    "D = nx.DiGraph(dir_graph(edges_original, eqns, selected))"
   ]
  },
  {
   "cell_type": "code",
   "execution_count": 23,
   "id": "bf7109ef-49ea-4906-971c-9e7de70cf41b",
   "metadata": {
    "execution": {
     "iopub.execute_input": "2022-06-23T00:30:23.986031Z",
     "iopub.status.busy": "2022-06-23T00:30:23.986031Z",
     "iopub.status.idle": "2022-06-23T00:30:24.011236Z",
     "shell.execute_reply": "2022-06-23T00:30:24.010113Z",
     "shell.execute_reply.started": "2022-06-23T00:30:23.986031Z"
    },
    "tags": []
   },
   "outputs": [],
   "source": [
    "S = nx.strongly_connected_components(D)"
   ]
  },
  {
   "cell_type": "code",
   "execution_count": 24,
   "id": "317dd5c3-e392-490e-b9ef-9eae35c5667d",
   "metadata": {
    "execution": {
     "iopub.execute_input": "2022-06-23T00:30:24.435600Z",
     "iopub.status.busy": "2022-06-23T00:30:24.435600Z",
     "iopub.status.idle": "2022-06-23T00:30:24.455501Z",
     "shell.execute_reply": "2022-06-23T00:30:24.453840Z",
     "shell.execute_reply.started": "2022-06-23T00:30:24.435600Z"
    },
    "tags": []
   },
   "outputs": [
    {
     "data": {
      "text/plain": [
       "[{16},\n",
       " {1},\n",
       " {4},\n",
       " {8},\n",
       " {5},\n",
       " {9},\n",
       " {3},\n",
       " {11},\n",
       " {6},\n",
       " {10},\n",
       " {0},\n",
       " {7},\n",
       " {15},\n",
       " {2},\n",
       " {14},\n",
       " {13},\n",
       " {12}]"
      ]
     },
     "execution_count": 24,
     "metadata": {},
     "output_type": "execute_result"
    }
   ],
   "source": [
    "list(S)"
   ]
  },
  {
   "cell_type": "code",
   "execution_count": 118,
   "id": "471e61ad-3d73-4c71-9417-08f09d2874cc",
   "metadata": {
    "execution": {
     "iopub.execute_input": "2022-04-27T19:55:22.921088Z",
     "iopub.status.busy": "2022-04-27T19:55:22.920088Z",
     "iopub.status.idle": "2022-04-27T19:55:22.929793Z",
     "shell.execute_reply": "2022-04-27T19:55:22.929214Z",
     "shell.execute_reply.started": "2022-04-27T19:55:22.921088Z"
    },
    "tags": []
   },
   "outputs": [
    {
     "data": {
      "text/plain": [
       "((0, 36),\n",
       " (1, 28),\n",
       " (2, 22),\n",
       " (3, 34),\n",
       " (4, 37),\n",
       " (5, 30),\n",
       " (6, 40),\n",
       " (7, 43),\n",
       " (8, 23),\n",
       " (9, 25),\n",
       " (10, 32),\n",
       " (11, 20),\n",
       " (12, 41),\n",
       " (13, 26),\n",
       " (14, 39),\n",
       " (15, 24),\n",
       " (16, 33),\n",
       " (17, 21),\n",
       " (18, 35),\n",
       " (19, 44))"
      ]
     },
     "execution_count": 118,
     "metadata": {},
     "output_type": "execute_result"
    }
   ],
   "source": [
    "selected"
   ]
  },
  {
   "cell_type": "code",
   "execution_count": 401,
   "id": "bc5769f3-9c0a-4c0b-99a4-5c3c002370e6",
   "metadata": {
    "execution": {
     "iopub.execute_input": "2022-04-21T16:01:07.450191Z",
     "iopub.status.busy": "2022-04-21T16:01:07.450191Z",
     "iopub.status.idle": "2022-04-21T16:01:07.456812Z",
     "shell.execute_reply": "2022-04-21T16:01:07.456170Z",
     "shell.execute_reply.started": "2022-04-21T16:01:07.450191Z"
    },
    "tags": []
   },
   "outputs": [
    {
     "data": {
      "text/plain": [
       "{0, 9, 11, 15, 17}"
      ]
     },
     "execution_count": 401,
     "metadata": {},
     "output_type": "execute_result"
    }
   ],
   "source": [
    "elimset"
   ]
  },
  {
   "cell_type": "code",
   "execution_count": 431,
   "id": "4fbeec12-ca03-4f4f-abae-8f270a090f88",
   "metadata": {
    "execution": {
     "iopub.execute_input": "2022-04-21T16:23:39.285749Z",
     "iopub.status.busy": "2022-04-21T16:23:39.285749Z",
     "iopub.status.idle": "2022-04-21T16:23:39.290200Z",
     "shell.execute_reply": "2022-04-21T16:23:39.290200Z",
     "shell.execute_reply.started": "2022-04-21T16:23:39.285749Z"
    },
    "tags": []
   },
   "outputs": [
    {
     "data": {
      "text/plain": [
       "True"
      ]
     },
     "execution_count": 431,
     "metadata": {},
     "output_type": "execute_result"
    }
   ],
   "source": [
    "nx.is_directed_acyclic_graph(D)"
   ]
  },
  {
   "cell_type": "code",
   "execution_count": 334,
   "id": "91dee170-01e3-4f2b-9a85-82931817fb5c",
   "metadata": {
    "execution": {
     "iopub.execute_input": "2022-04-21T02:45:47.629872Z",
     "iopub.status.busy": "2022-04-21T02:45:47.628870Z",
     "iopub.status.idle": "2022-04-21T02:45:47.652812Z",
     "shell.execute_reply": "2022-04-21T02:45:47.652252Z",
     "shell.execute_reply.started": "2022-04-21T02:45:47.629872Z"
    },
    "tags": []
   },
   "outputs": [
    {
     "data": {
      "text/plain": [
       "{8}"
      ]
     },
     "execution_count": 334,
     "metadata": {},
     "output_type": "execute_result"
    }
   ],
   "source": [
    "elimset"
   ]
  },
  {
   "cell_type": "code",
   "execution_count": 403,
   "id": "ab5678dc-730a-4fec-b2cb-36b994355def",
   "metadata": {
    "execution": {
     "iopub.execute_input": "2022-04-21T16:01:25.328081Z",
     "iopub.status.busy": "2022-04-21T16:01:25.327123Z",
     "iopub.status.idle": "2022-04-21T16:01:25.341526Z",
     "shell.execute_reply": "2022-04-21T16:01:25.340187Z",
     "shell.execute_reply.started": "2022-04-21T16:01:25.328081Z"
    },
    "tags": []
   },
   "outputs": [
    {
     "data": {
      "text/plain": [
       "True"
      ]
     },
     "execution_count": 403,
     "metadata": {},
     "output_type": "execute_result"
    }
   ],
   "source": [
    "elimedges = ((elt, dout[elt]) for elt in elimset)\n",
    "ec = nx.DiGraph(D.edges())\n",
    "ec.remove_edges_from(elimedges)\n",
    "nx.is_directed_acyclic_graph(ec)"
   ]
  },
  {
   "cell_type": "code",
   "execution_count": 259,
   "id": "72528f9a-04cb-4738-abe6-0e906e5ae069",
   "metadata": {
    "execution": {
     "iopub.execute_input": "2022-04-21T02:15:23.976408Z",
     "iopub.status.busy": "2022-04-21T02:15:23.976408Z",
     "iopub.status.idle": "2022-04-21T02:15:23.997802Z",
     "shell.execute_reply": "2022-04-21T02:15:23.996960Z",
     "shell.execute_reply.started": "2022-04-21T02:15:23.976408Z"
    }
   },
   "outputs": [
    {
     "data": {
      "text/plain": [
       "OutEdgeView([(3, 0), (0, 5), (6, 0), (6, 1), (7, 0), (7, 1), (1, 3), (4, 1)])"
      ]
     },
     "execution_count": 259,
     "metadata": {},
     "output_type": "execute_result"
    }
   ],
   "source": [
    "D.edges()"
   ]
  },
  {
   "cell_type": "markdown",
   "id": "e2f56004-d7be-47f7-8ddc-645cc5e8f2bd",
   "metadata": {},
   "source": [
    "# Min arc feedback problem"
   ]
  },
  {
   "cell_type": "code",
   "execution_count": 22,
   "id": "3e2c4871-1563-4675-9b48-ea1509b925b7",
   "metadata": {
    "execution": {
     "iopub.execute_input": "2022-06-22T22:51:52.189590Z",
     "iopub.status.busy": "2022-06-22T22:51:52.189590Z",
     "iopub.status.idle": "2022-06-22T22:51:52.196022Z",
     "shell.execute_reply": "2022-06-22T22:51:52.195516Z",
     "shell.execute_reply.started": "2022-06-22T22:51:52.189590Z"
    },
    "tags": []
   },
   "outputs": [],
   "source": [
    "def get_cycles(yval, yref, X):\n",
    "    # elimination set = nodes with 1s\n",
    "    elimset = {i for i in yref.keys() if yval[i] > 0.5}\n",
    "    D = X.subgraph(X.nodes()-elimset)\n",
    "    S = nx.strongly_connected_components(D)\n",
    "    cycles = [elt for elt in S if len(elt)>1]\n",
    "    return cycles, elimset"
   ]
  },
  {
   "cell_type": "code",
   "execution_count": 23,
   "id": "d7fa0389-1374-4098-8e1f-8bd5de081168",
   "metadata": {
    "execution": {
     "iopub.execute_input": "2022-06-22T22:51:52.355264Z",
     "iopub.status.busy": "2022-06-22T22:51:52.355264Z",
     "iopub.status.idle": "2022-06-22T22:51:52.366397Z",
     "shell.execute_reply": "2022-06-22T22:51:52.366397Z",
     "shell.execute_reply.started": "2022-06-22T22:51:52.355264Z"
    },
    "tags": []
   },
   "outputs": [],
   "source": [
    "def sccelim(model, where):\n",
    "    if where == GRB.Callback.MIPSOL:\n",
    "        y_sol = model.cbGetSolution(model._y)\n",
    "        cycles,_ = get_cycles(y_sol, model._y, model._X)\n",
    "        for idx, cycle in enumerate(cycles):\n",
    "            cycle_eqnodes = cycle.intersection(model._y.keys())\n",
    "            model.cbLazy(gp.quicksum(model._y[node] for node in cycle_eqnodes)>=1)"
   ]
  },
  {
   "cell_type": "code",
   "execution_count": 43,
   "id": "62c23a0e-6405-4377-b020-e3ef0ee7a4a1",
   "metadata": {
    "execution": {
     "iopub.execute_input": "2022-06-22T23:02:30.673857Z",
     "iopub.status.busy": "2022-06-22T23:02:30.673857Z",
     "iopub.status.idle": "2022-06-22T23:02:30.688855Z",
     "shell.execute_reply": "2022-06-22T23:02:30.688336Z",
     "shell.execute_reply.started": "2022-06-22T23:02:30.673857Z"
    },
    "tags": []
   },
   "outputs": [],
   "source": [
    "def min_arc_set(edges, dout, vrs, eqns):\n",
    "    G = nx.Graph(edges)\n",
    "    X = nx.DiGraph(dir_graph(edges, vrs, dout.items()))\n",
    "    # make sure edges are in the right order\n",
    "    m = gp.Model('cycles')\n",
    "    m.setParam('OutputFlag', False )\n",
    "    m.setParam('TimeLimit', 100)\n",
    "    y = m.addVars(eqns, name=\"elimination\", vtype=GRB.BINARY)\n",
    "    m.setObjective(y.sum('*'), GRB.MINIMIZE)\n",
    "    m._edges = edges\n",
    "    m._G = G\n",
    "    m._X = X\n",
    "    m._y = y\n",
    "    m.Params.lazyConstraints = 1\n",
    "    m.optimize(sccelim)\n",
    "    cycles, elimset = get_cycles(m.getAttr('x', y), y, X)\n",
    "    return cycles, elimset"
   ]
  },
  {
   "cell_type": "code",
   "execution_count": 25,
   "id": "fbb7153c-8b4b-4de4-9914-9fc2b81e0f4f",
   "metadata": {
    "execution": {
     "iopub.execute_input": "2022-06-22T22:51:52.785255Z",
     "iopub.status.busy": "2022-06-22T22:51:52.785255Z",
     "iopub.status.idle": "2022-06-22T22:51:52.789213Z",
     "shell.execute_reply": "2022-06-22T22:51:52.788225Z",
     "shell.execute_reply.started": "2022-06-22T22:51:52.785255Z"
    },
    "tags": []
   },
   "outputs": [],
   "source": [
    "outset=dout #selected"
   ]
  },
  {
   "cell_type": "code",
   "execution_count": 44,
   "id": "b852fe1f-7dbf-4a44-b50a-c67b72c5e73f",
   "metadata": {
    "execution": {
     "iopub.execute_input": "2022-06-22T23:02:43.146987Z",
     "iopub.status.busy": "2022-06-22T23:02:43.146855Z",
     "iopub.status.idle": "2022-06-22T23:02:43.414205Z",
     "shell.execute_reply": "2022-06-22T23:02:43.413818Z",
     "shell.execute_reply.started": "2022-06-22T23:02:43.146987Z"
    },
    "tags": []
   },
   "outputs": [],
   "source": [
    "_, elimset = min_arc_set(graph_edges, outset, avrs, eqns)"
   ]
  },
  {
   "cell_type": "code",
   "execution_count": 45,
   "id": "61a1aefa-6a51-4d66-8851-24deeb664944",
   "metadata": {
    "execution": {
     "iopub.execute_input": "2022-06-22T23:02:44.353360Z",
     "iopub.status.busy": "2022-06-22T23:02:44.353360Z",
     "iopub.status.idle": "2022-06-22T23:02:44.372162Z",
     "shell.execute_reply": "2022-06-22T23:02:44.371883Z",
     "shell.execute_reply.started": "2022-06-22T23:02:44.353360Z"
    },
    "tags": []
   },
   "outputs": [
    {
     "data": {
      "text/plain": [
       "{4, 11, 15, 16, 17, 18}"
      ]
     },
     "execution_count": 45,
     "metadata": {},
     "output_type": "execute_result"
    }
   ],
   "source": [
    "elimset"
   ]
  },
  {
   "cell_type": "code",
   "execution_count": 33,
   "id": "c5322add-32fe-4e36-a5d5-24ef388a7fdb",
   "metadata": {
    "execution": {
     "iopub.execute_input": "2022-06-22T22:55:04.987622Z",
     "iopub.status.busy": "2022-06-22T22:55:04.987622Z",
     "iopub.status.idle": "2022-06-22T22:55:05.003939Z",
     "shell.execute_reply": "2022-06-22T22:55:05.002889Z",
     "shell.execute_reply.started": "2022-06-22T22:55:04.987622Z"
    },
    "tags": []
   },
   "outputs": [
    {
     "data": {
      "text/plain": [
       "[(4, 34), (11, 23), (15, 41), (16, 25), (17, 30), (18, 35)]"
      ]
     },
     "execution_count": 33,
     "metadata": {},
     "output_type": "execute_result"
    }
   ],
   "source": [
    "elimedges = [(elt, outset[elt]) for elt in elimset]\n",
    "elimedges"
   ]
  },
  {
   "cell_type": "code",
   "execution_count": 35,
   "id": "b7e122c9-6f29-4746-add2-06c38e104b97",
   "metadata": {
    "execution": {
     "iopub.execute_input": "2022-06-22T22:55:13.964897Z",
     "iopub.status.busy": "2022-06-22T22:55:13.964897Z",
     "iopub.status.idle": "2022-06-22T22:55:13.973629Z",
     "shell.execute_reply": "2022-06-22T22:55:13.973114Z",
     "shell.execute_reply.started": "2022-06-22T22:55:13.964897Z"
    },
    "tags": []
   },
   "outputs": [],
   "source": [
    "ec = nx.DiGraph(dir_graph(graph_edges, eqns, outset.items()))\n",
    "ec.edges()\n",
    "ec.remove_edges_from(elimedges)"
   ]
  },
  {
   "cell_type": "code",
   "execution_count": 36,
   "id": "e06d1179-3a8c-4840-bbe2-b4208d7f841e",
   "metadata": {
    "execution": {
     "iopub.execute_input": "2022-06-22T22:55:17.899748Z",
     "iopub.status.busy": "2022-06-22T22:55:17.898706Z",
     "iopub.status.idle": "2022-06-22T22:55:17.914456Z",
     "shell.execute_reply": "2022-06-22T22:55:17.913696Z",
     "shell.execute_reply.started": "2022-06-22T22:55:17.899748Z"
    }
   },
   "outputs": [
    {
     "data": {
      "text/plain": [
       "True"
      ]
     },
     "execution_count": 36,
     "metadata": {},
     "output_type": "execute_result"
    }
   ],
   "source": [
    "nx.is_directed_acyclic_graph(ec)"
   ]
  },
  {
   "cell_type": "code",
   "execution_count": 37,
   "id": "2700d762-098b-4fcf-a274-3cc060be244c",
   "metadata": {
    "execution": {
     "iopub.execute_input": "2022-06-22T22:55:54.072207Z",
     "iopub.status.busy": "2022-06-22T22:55:54.072207Z",
     "iopub.status.idle": "2022-06-22T22:55:54.084608Z",
     "shell.execute_reply": "2022-06-22T22:55:54.084098Z",
     "shell.execute_reply.started": "2022-06-22T22:55:54.072207Z"
    },
    "tags": []
   },
   "outputs": [],
   "source": [
    "def generate_acyclic(graph_edges, elimset, outset, vrs):\n",
    "    elimedges = ((outset[elt], elt) for elt in elimset)\n",
    "    ec = nx.DiGraph(dir_graph(graph_edges, vrs, outset.items()))\n",
    "    ec.edges()\n",
    "    ec.remove_edges_from(elimedges)\n",
    "    return ec"
   ]
  },
  {
   "cell_type": "code",
   "execution_count": 38,
   "id": "123d7c77-cd68-4dbf-b896-951b75bb94ea",
   "metadata": {
    "execution": {
     "iopub.execute_input": "2022-06-22T22:55:54.948873Z",
     "iopub.status.busy": "2022-06-22T22:55:54.948873Z",
     "iopub.status.idle": "2022-06-22T22:55:54.962382Z",
     "shell.execute_reply": "2022-06-22T22:55:54.961887Z",
     "shell.execute_reply.started": "2022-06-22T22:55:54.948873Z"
    },
    "tags": []
   },
   "outputs": [],
   "source": [
    "ec = generate_acyclic(graph_edges, elimset, outset, avrs)"
   ]
  },
  {
   "cell_type": "code",
   "execution_count": 39,
   "id": "181402a4-44bf-48cc-aef7-b207ab5c55da",
   "metadata": {
    "execution": {
     "iopub.execute_input": "2022-06-22T22:55:55.356504Z",
     "iopub.status.busy": "2022-06-22T22:55:55.356504Z",
     "iopub.status.idle": "2022-06-22T22:55:55.370788Z",
     "shell.execute_reply": "2022-06-22T22:55:55.370570Z",
     "shell.execute_reply.started": "2022-06-22T22:55:55.356504Z"
    },
    "tags": []
   },
   "outputs": [
    {
     "data": {
      "text/plain": [
       "True"
      ]
     },
     "execution_count": 39,
     "metadata": {},
     "output_type": "execute_result"
    }
   ],
   "source": [
    "nx.is_directed_acyclic_graph(ec)"
   ]
  },
  {
   "cell_type": "code",
   "execution_count": 381,
   "id": "a1af1cd4-ecc8-471f-99a8-d392422a454d",
   "metadata": {
    "execution": {
     "iopub.execute_input": "2022-04-21T15:35:20.551695Z",
     "iopub.status.busy": "2022-04-21T15:35:20.550777Z",
     "iopub.status.idle": "2022-04-21T15:35:20.569507Z",
     "shell.execute_reply": "2022-04-21T15:35:20.569374Z",
     "shell.execute_reply.started": "2022-04-21T15:35:20.551695Z"
    },
    "tags": []
   },
   "outputs": [
    {
     "data": {
      "text/plain": [
       "{3, 4, 7, 12}"
      ]
     },
     "execution_count": 381,
     "metadata": {},
     "output_type": "execute_result"
    }
   ],
   "source": [
    "elimset"
   ]
  },
  {
   "cell_type": "code",
   "execution_count": 301,
   "id": "65960724-4f08-4614-b3da-0503bbf42c4f",
   "metadata": {
    "execution": {
     "iopub.execute_input": "2022-04-21T02:34:54.171165Z",
     "iopub.status.busy": "2022-04-21T02:34:54.170189Z",
     "iopub.status.idle": "2022-04-21T02:34:54.189885Z",
     "shell.execute_reply": "2022-04-21T02:34:54.188970Z",
     "shell.execute_reply.started": "2022-04-21T02:34:54.171165Z"
    },
    "tags": []
   },
   "outputs": [],
   "source": [
    "elimedges = ((elt, dout[elt]) for elt in elimset)"
   ]
  },
  {
   "cell_type": "code",
   "execution_count": 305,
   "id": "5d5def9c-74c6-4a2c-94dc-19efb0e0365c",
   "metadata": {
    "execution": {
     "iopub.execute_input": "2022-04-21T02:36:20.300299Z",
     "iopub.status.busy": "2022-04-21T02:36:20.300299Z",
     "iopub.status.idle": "2022-04-21T02:36:20.305835Z",
     "shell.execute_reply": "2022-04-21T02:36:20.305236Z",
     "shell.execute_reply.started": "2022-04-21T02:36:20.300299Z"
    },
    "tags": []
   },
   "outputs": [],
   "source": [
    "ec = nx.DiGraph(dir_graph(graph_edges, dout.items()))"
   ]
  },
  {
   "cell_type": "code",
   "execution_count": 306,
   "id": "2add74dc-1b1a-454f-b957-c2ab23cf1a54",
   "metadata": {
    "execution": {
     "iopub.execute_input": "2022-04-21T02:36:21.174740Z",
     "iopub.status.busy": "2022-04-21T02:36:21.173739Z",
     "iopub.status.idle": "2022-04-21T02:36:21.194771Z",
     "shell.execute_reply": "2022-04-21T02:36:21.193707Z",
     "shell.execute_reply.started": "2022-04-21T02:36:21.174740Z"
    },
    "tags": []
   },
   "outputs": [
    {
     "data": {
      "text/plain": [
       "OutEdgeView([(10, 0), (10, 1), (10, 4), (10, 5), (10, 6), (10, 8), (0, 21), (20, 0), (20, 2), (20, 6), (21, 4), (1, 17), (11, 1), (11, 3), (11, 4), (11, 6), (11, 7), (12, 1), (12, 4), (12, 9), (17, 3), (19, 2), (2, 13), (24, 2), (24, 4), (24, 8), (13, 3), (13, 8), (13, 9), (3, 24), (16, 3), (16, 6), (23, 3), (23, 4), (4, 19), (14, 4), (14, 6), (14, 7), (14, 8), (5, 11), (6, 15), (22, 6), (22, 9), (15, 8), (7, 18), (8, 20), (9, 10)])"
      ]
     },
     "execution_count": 306,
     "metadata": {},
     "output_type": "execute_result"
    }
   ],
   "source": [
    "ec.edges()"
   ]
  },
  {
   "cell_type": "code",
   "execution_count": 307,
   "id": "d91be3af-a14b-4c50-86c2-94e9628039fe",
   "metadata": {
    "execution": {
     "iopub.execute_input": "2022-04-21T02:36:22.775857Z",
     "iopub.status.busy": "2022-04-21T02:36:22.775857Z",
     "iopub.status.idle": "2022-04-21T02:36:22.794253Z",
     "shell.execute_reply": "2022-04-21T02:36:22.793314Z",
     "shell.execute_reply.started": "2022-04-21T02:36:22.775857Z"
    },
    "tags": []
   },
   "outputs": [],
   "source": [
    "ec.remove_edges_from(elimedges)"
   ]
  },
  {
   "cell_type": "code",
   "execution_count": 308,
   "id": "8816bd65-f4d7-45f3-9dc0-abcb912f9a9c",
   "metadata": {
    "execution": {
     "iopub.execute_input": "2022-04-21T02:36:23.055476Z",
     "iopub.status.busy": "2022-04-21T02:36:23.055476Z",
     "iopub.status.idle": "2022-04-21T02:36:23.073291Z",
     "shell.execute_reply": "2022-04-21T02:36:23.073291Z",
     "shell.execute_reply.started": "2022-04-21T02:36:23.055476Z"
    },
    "tags": []
   },
   "outputs": [
    {
     "data": {
      "text/plain": [
       "True"
      ]
     },
     "execution_count": 308,
     "metadata": {},
     "output_type": "execute_result"
    }
   ],
   "source": [
    "nx.is_directed_acyclic_graph(ec)"
   ]
  },
  {
   "cell_type": "code",
   "execution_count": 90,
   "id": "2242193a-d801-42a1-8f45-a375f591fb03",
   "metadata": {
    "execution": {
     "iopub.execute_input": "2022-04-21T01:42:26.713733Z",
     "iopub.status.busy": "2022-04-21T01:42:26.712732Z",
     "iopub.status.idle": "2022-04-21T01:42:26.724615Z",
     "shell.execute_reply": "2022-04-21T01:42:26.724615Z",
     "shell.execute_reply.started": "2022-04-21T01:42:26.713733Z"
    },
    "tags": []
   },
   "outputs": [
    {
     "data": {
      "text/plain": [
       "[(3, 0), (4, 0), (5, 0), (6, 0), (0, 7), (3, 1), (1, 6), (2, 3), (6, 2)]"
      ]
     },
     "execution_count": 90,
     "metadata": {},
     "output_type": "execute_result"
    }
   ],
   "source": [
    "dir_graph(graph_edges, dout.items())"
   ]
  },
  {
   "cell_type": "code",
   "execution_count": 91,
   "id": "ffcebe6d-61d0-4101-8684-ce712b51e0d6",
   "metadata": {
    "execution": {
     "iopub.execute_input": "2022-04-21T01:42:27.319221Z",
     "iopub.status.busy": "2022-04-21T01:42:27.318263Z",
     "iopub.status.idle": "2022-04-21T01:42:27.333877Z",
     "shell.execute_reply": "2022-04-21T01:42:27.332894Z",
     "shell.execute_reply.started": "2022-04-21T01:42:27.319221Z"
    },
    "tags": []
   },
   "outputs": [],
   "source": [
    "G = nx.DiGraph(dir_graph(graph_edges, dout.items()))\n",
    "H = G.subgraph([0, 1, 2])"
   ]
  },
  {
   "cell_type": "code",
   "execution_count": 73,
   "id": "76e52c23-98dd-48a2-bc80-5977a353fdc0",
   "metadata": {
    "execution": {
     "iopub.execute_input": "2022-04-21T01:26:49.383215Z",
     "iopub.status.busy": "2022-04-21T01:26:49.383215Z",
     "iopub.status.idle": "2022-04-21T01:26:49.402995Z",
     "shell.execute_reply": "2022-04-21T01:26:49.402616Z",
     "shell.execute_reply.started": "2022-04-21T01:26:49.383215Z"
    },
    "tags": []
   },
   "outputs": [
    {
     "data": {
      "text/plain": [
       "{1: 6, 2: 3, 0: 7}"
      ]
     },
     "execution_count": 73,
     "metadata": {},
     "output_type": "execute_result"
    }
   ],
   "source": [
    "dout"
   ]
  },
  {
   "cell_type": "code",
   "execution_count": 81,
   "id": "cb46d2f2-b151-4e87-9734-bb3647d5e79c",
   "metadata": {
    "execution": {
     "iopub.execute_input": "2022-04-21T01:28:30.404856Z",
     "iopub.status.busy": "2022-04-21T01:28:30.404856Z",
     "iopub.status.idle": "2022-04-21T01:28:30.421123Z",
     "shell.execute_reply": "2022-04-21T01:28:30.421123Z",
     "shell.execute_reply.started": "2022-04-21T01:28:30.404856Z"
    },
    "tags": []
   },
   "outputs": [
    {
     "data": {
      "text/plain": [
       "OutEdgeView([])"
      ]
     },
     "execution_count": 81,
     "metadata": {},
     "output_type": "execute_result"
    }
   ],
   "source": [
    "H.edges()"
   ]
  },
  {
   "cell_type": "code",
   "execution_count": 82,
   "id": "1a16bb0a-52fb-41cd-bc56-9262995db01f",
   "metadata": {
    "execution": {
     "iopub.execute_input": "2022-04-21T01:28:56.188908Z",
     "iopub.status.busy": "2022-04-21T01:28:56.188908Z",
     "iopub.status.idle": "2022-04-21T01:28:56.198052Z",
     "shell.execute_reply": "2022-04-21T01:28:56.197415Z",
     "shell.execute_reply.started": "2022-04-21T01:28:56.188908Z"
    },
    "tags": []
   },
   "outputs": [],
   "source": [
    "G = nx.Graph()\n",
    "G.add_edges_from([(3, 0), (4, 0), (5, 0), (6, 0), (0, 7), (3, 1), (1, 6), (2, 3), (6, 2)])  # or DiGraph, MultiGraph, MultiDiGraph, etc\n",
    "H = G.subgraph([0, 1, 2])"
   ]
  },
  {
   "cell_type": "code",
   "execution_count": 85,
   "id": "d2319a87-0f71-47f9-80b8-8425991326ee",
   "metadata": {
    "execution": {
     "iopub.execute_input": "2022-04-21T01:29:54.144934Z",
     "iopub.status.busy": "2022-04-21T01:29:54.143933Z",
     "iopub.status.idle": "2022-04-21T01:29:54.223281Z",
     "shell.execute_reply": "2022-04-21T01:29:54.222817Z",
     "shell.execute_reply.started": "2022-04-21T01:29:54.143933Z"
    }
   },
   "outputs": [
    {
     "data": {
      "image/png": "[encoded data removed]",
      "text/plain": [
       "<Figure size 432x288 with 1 Axes>"
      ]
     },
     "metadata": {},
     "output_type": "display_data"
    }
   ],
   "source": [
    "nx.draw(G)"
   ]
  },
  {
   "cell_type": "code",
   "execution_count": 84,
   "id": "23838fed-da90-41a0-ad00-c0810be98564",
   "metadata": {
    "execution": {
     "iopub.execute_input": "2022-04-21T01:29:02.090249Z",
     "iopub.status.busy": "2022-04-21T01:29:02.089249Z",
     "iopub.status.idle": "2022-04-21T01:29:02.106979Z",
     "shell.execute_reply": "2022-04-21T01:29:02.106979Z",
     "shell.execute_reply.started": "2022-04-21T01:29:02.090249Z"
    },
    "tags": []
   },
   "outputs": [
    {
     "data": {
      "text/plain": [
       "[]"
      ]
     },
     "execution_count": 84,
     "metadata": {},
     "output_type": "execute_result"
    }
   ],
   "source": [
    "list(H.edges)"
   ]
  },
  {
   "cell_type": "markdown",
   "id": "85b2db87-432f-436c-a5c4-556963e82048",
   "metadata": {},
   "source": [
    "# Preprocessor"
   ]
  },
  {
   "cell_type": "code",
   "execution_count": 63,
   "id": "0e02964a-500d-45fe-9051-8279b0d3b965",
   "metadata": {
    "execution": {
     "iopub.execute_input": "2022-04-20T04:18:41.137810Z",
     "iopub.status.busy": "2022-04-20T04:18:41.136914Z",
     "iopub.status.idle": "2022-04-20T04:18:41.150352Z",
     "shell.execute_reply": "2022-04-20T04:18:41.148734Z",
     "shell.execute_reply.started": "2022-04-20T04:18:41.137810Z"
    },
    "tags": []
   },
   "outputs": [],
   "source": [
    "import networkx as nx\n",
    "import gurobipy as gp\n",
    "from gurobipy import GRB"
   ]
  },
  {
   "cell_type": "code",
   "execution_count": 346,
   "id": "52981250-8be5-4e87-a251-83d6095d73ca",
   "metadata": {
    "execution": {
     "iopub.execute_input": "2022-04-21T02:48:24.441322Z",
     "iopub.status.busy": "2022-04-21T02:48:24.440317Z",
     "iopub.status.idle": "2022-04-21T02:48:24.451609Z",
     "shell.execute_reply": "2022-04-21T02:48:24.451609Z",
     "shell.execute_reply.started": "2022-04-21T02:48:24.441322Z"
    },
    "tags": []
   },
   "outputs": [],
   "source": [
    "def scc(sol, edges):\n",
    "    D = nx.DiGraph([(r,j) if (r,j) in sol else (j,r) for (r,j) in edges])\n",
    "    return list(nx.strongly_connected_components(D))"
   ]
  },
  {
   "cell_type": "code",
   "execution_count": 347,
   "id": "aa27106a-62b0-445e-8db7-1d3b748dda5f",
   "metadata": {
    "execution": {
     "iopub.execute_input": "2022-04-21T02:48:24.679076Z",
     "iopub.status.busy": "2022-04-21T02:48:24.679076Z",
     "iopub.status.idle": "2022-04-21T02:48:24.700713Z",
     "shell.execute_reply": "2022-04-21T02:48:24.699715Z",
     "shell.execute_reply.started": "2022-04-21T02:48:24.679076Z"
    },
    "tags": []
   },
   "outputs": [],
   "source": [
    "def recoversol(xval, xref, edges):\n",
    "    selected = gp.tuplelist((i, j) for i, j in xref.keys()\n",
    "                                if xval[i, j] > 0.5)\n",
    "    dir_edges = ([(r,j) if (r,j) in selected else (j,r) for (r,j) in edges])\n",
    "    D = nx.DiGraph(dir_edges)\n",
    "    S = nx.strongly_connected_components(D)\n",
    "    cycles = [elt for elt in S if len(elt)>1]\n",
    "    return cycles, D"
   ]
  },
  {
   "cell_type": "code",
   "execution_count": 348,
   "id": "b8bf4be4-54c8-4de2-a506-e8e9fffa81dd",
   "metadata": {
    "execution": {
     "iopub.execute_input": "2022-04-21T02:48:25.047272Z",
     "iopub.status.busy": "2022-04-21T02:48:25.047272Z",
     "iopub.status.idle": "2022-04-21T02:48:25.053795Z",
     "shell.execute_reply": "2022-04-21T02:48:25.053288Z",
     "shell.execute_reply.started": "2022-04-21T02:48:25.047272Z"
    },
    "tags": []
   },
   "outputs": [],
   "source": [
    "def subtourelim(model, where):\n",
    "    if where == GRB.Callback.MIPSOL:\n",
    "        # make a list of edges selected in the solution\n",
    "        x_sol = model.cbGetSolution(model._x)\n",
    "        cycles, _ = recoversol(x_sol, model._x, model._edges)\n",
    "        for idx, cycle in enumerate(cycles):\n",
    "            g = model._G.subgraph(cycle)\n",
    "            model.cbLazy(gp.quicksum(model._x[edge] if edge in model._x else model._x[edge[::-1]] for edge in g.edges())<=model._c)"
   ]
  },
  {
   "cell_type": "code",
   "execution_count": 349,
   "id": "65a4bcf5-4269-48b2-86c2-78ac23750fdc",
   "metadata": {
    "execution": {
     "iopub.execute_input": "2022-04-21T02:48:25.355584Z",
     "iopub.status.busy": "2022-04-21T02:48:25.354577Z",
     "iopub.status.idle": "2022-04-21T02:48:25.362704Z",
     "shell.execute_reply": "2022-04-21T02:48:25.361931Z",
     "shell.execute_reply.started": "2022-04-21T02:48:25.355584Z"
    },
    "tags": []
   },
   "outputs": [],
   "source": [
    "def var_matched_cons(x, j, not_input=None):\n",
    "    if not_input == None:\n",
    "        not_input = []\n",
    "    if j in not_input:\n",
    "        return x.sum('*',j) == 1\n",
    "    else:\n",
    "        return x.sum('*',j) <= 1"
   ]
  },
  {
   "cell_type": "code",
   "execution_count": 353,
   "id": "4c7fb621-88f9-42fe-ba58-b75c667ce5ab",
   "metadata": {
    "execution": {
     "iopub.execute_input": "2022-04-21T02:49:58.212597Z",
     "iopub.status.busy": "2022-04-21T02:49:58.212597Z",
     "iopub.status.idle": "2022-04-21T02:49:58.227922Z",
     "shell.execute_reply": "2022-04-21T02:49:58.227705Z",
     "shell.execute_reply.started": "2022-04-21T02:49:58.212597Z"
    },
    "tags": []
   },
   "outputs": [],
   "source": [
    "def min_max_scc(edges, vrs, eqns, n_eqs):\n",
    "    G = nx.Graph(edges)\n",
    "    # make sure edges are in the right order\n",
    "    m = gp.Model('cycles')\n",
    "    m.setParam('OutputFlag', False )\n",
    "    m.setParam('TimeLimit', 10)\n",
    "    x = m.addVars(edges, name=\"assign\", vtype=GRB.BINARY)\n",
    "    c = m.addVar(lb=0.0)\n",
    "    # Matching eqs:\n",
    "    m.addConstrs((x.sum(j,'*') == 1 for j in eqns), name='equations')\n",
    "    m.addConstrs((var_matched_cons(x, j) for j in vrs), name='variables')\n",
    "    m.setObjective(c, GRB.MINIMIZE)\n",
    "    m._edges = edges\n",
    "    m._G = G\n",
    "    m._x = x\n",
    "    m._c = c\n",
    "    m.Params.lazyConstraints = 1\n",
    "    m.optimize(subtourelim)\n",
    "    cycles, D = recoversol(m.getAttr('x', x), x, edges)\n",
    "    return max([len(cycle)/2 for cycle in cycles]+[0]), m"
   ]
  },
  {
   "cell_type": "code",
   "execution_count": 386,
   "id": "db18286c-2fda-4918-9991-7f71a0900768",
   "metadata": {
    "execution": {
     "iopub.execute_input": "2022-04-21T15:50:31.768728Z",
     "iopub.status.busy": "2022-04-21T15:50:31.768728Z",
     "iopub.status.idle": "2022-04-21T15:50:33.059316Z",
     "shell.execute_reply": "2022-04-21T15:50:33.058941Z",
     "shell.execute_reply.started": "2022-04-21T15:50:31.768728Z"
    },
    "tags": []
   },
   "outputs": [],
   "source": [
    "maxl, m = min_max_scc(graph_edges, avrs, eqns, len(eqns))"
   ]
  },
  {
   "cell_type": "code",
   "execution_count": 387,
   "id": "1cb10030-a739-4fb6-a7aa-30aec7a2f8f2",
   "metadata": {
    "execution": {
     "iopub.execute_input": "2022-04-21T15:50:33.844958Z",
     "iopub.status.busy": "2022-04-21T15:50:33.843950Z",
     "iopub.status.idle": "2022-04-21T15:50:33.864643Z",
     "shell.execute_reply": "2022-04-21T15:50:33.863636Z",
     "shell.execute_reply.started": "2022-04-21T15:50:33.844958Z"
    },
    "tags": []
   },
   "outputs": [],
   "source": [
    "selected = dict((i, j) for i, j in m._x.keys()\n",
    "                                if m.getAttr('x', m._x)[i, j] > 0.5)"
   ]
  },
  {
   "cell_type": "code",
   "execution_count": 388,
   "id": "d94fc067-bd3b-4091-be71-8f8037a1b86b",
   "metadata": {
    "execution": {
     "iopub.execute_input": "2022-04-21T15:50:34.362627Z",
     "iopub.status.busy": "2022-04-21T15:50:34.362627Z",
     "iopub.status.idle": "2022-04-21T15:50:34.378593Z",
     "shell.execute_reply": "2022-04-21T15:50:34.378093Z",
     "shell.execute_reply.started": "2022-04-21T15:50:34.362627Z"
    },
    "tags": []
   },
   "outputs": [
    {
     "data": {
      "text/plain": [
       "{0: 42,\n",
       " 1: 26,\n",
       " 2: 22,\n",
       " 3: 23,\n",
       " 4: 31,\n",
       " 5: 36,\n",
       " 6: 41,\n",
       " 7: 35,\n",
       " 8: 30,\n",
       " 9: 40,\n",
       " 10: 27,\n",
       " 11: 34,\n",
       " 12: 33,\n",
       " 13: 43,\n",
       " 14: 39,\n",
       " 15: 37,\n",
       " 16: 38,\n",
       " 17: 29,\n",
       " 18: 24,\n",
       " 19: 44}"
      ]
     },
     "execution_count": 388,
     "metadata": {},
     "output_type": "execute_result"
    }
   ],
   "source": [
    "selected"
   ]
  },
  {
   "cell_type": "code",
   "execution_count": 19,
   "id": "ede8141b-032f-4366-9052-e66f0c984fae",
   "metadata": {
    "execution": {
     "iopub.execute_input": "2022-04-20T04:10:12.116059Z",
     "iopub.status.busy": "2022-04-20T04:10:12.115003Z",
     "iopub.status.idle": "2022-04-20T04:10:12.162151Z",
     "shell.execute_reply": "2022-04-20T04:10:12.161102Z",
     "shell.execute_reply.started": "2022-04-20T04:10:12.116059Z"
    },
    "tags": []
   },
   "outputs": [],
   "source": [
    "edges = graph_edges\n",
    "vrs = avrs\n",
    "G = nx.Graph(edges)\n",
    "n_eqs = len(eqns)\n",
    "# make sure edges are in the right order\n",
    "m = gp.Model('cycles')\n",
    "m.setParam('OutputFlag', False )\n",
    "m.setParam('TimeLimit', 100)\n",
    "x = m.addVars(edges, name=\"assign\", vtype=GRB.BINARY)\n",
    "c = m.addVar(lb=0.0)\n",
    "# Matching eqs:\n",
    "m.addConstrs((x.sum(j,'*') == 1 for j in eqns), name='equations')\n",
    "m.addConstrs((var_matched_cons(x, j) for j in vrs), name='variables')\n",
    "m.setObjective(c, GRB.MINIMIZE)\n",
    "m._edges = edges\n",
    "m._G = G\n",
    "m._x = x\n",
    "m._c = c\n",
    "m.Params.lazyConstraints = 1"
   ]
  },
  {
   "cell_type": "code",
   "execution_count": 20,
   "id": "0bca2279-e6b9-4328-b1b7-a42c8b5466fc",
   "metadata": {
    "execution": {
     "iopub.execute_input": "2022-04-20T04:10:13.211639Z",
     "iopub.status.busy": "2022-04-20T04:10:13.210640Z",
     "iopub.status.idle": "2022-04-20T04:10:16.004701Z",
     "shell.execute_reply": "2022-04-20T04:10:16.003735Z",
     "shell.execute_reply.started": "2022-04-20T04:10:13.211639Z"
    },
    "tags": []
   },
   "outputs": [],
   "source": [
    "m.optimize(subtourelim)"
   ]
  },
  {
   "cell_type": "code",
   "execution_count": 36,
   "id": "d0a2a08a-b573-477f-8dd9-911ea12973d3",
   "metadata": {
    "execution": {
     "iopub.execute_input": "2022-04-20T03:13:30.367317Z",
     "iopub.status.busy": "2022-04-20T03:13:30.367317Z",
     "iopub.status.idle": "2022-04-20T03:13:30.384332Z",
     "shell.execute_reply": "2022-04-20T03:13:30.383332Z",
     "shell.execute_reply.started": "2022-04-20T03:13:30.367317Z"
    },
    "tags": []
   },
   "outputs": [],
   "source": [
    "cycles, D = recoversol(m.getAttr('x', x), x)"
   ]
  },
  {
   "cell_type": "code",
   "execution_count": 37,
   "id": "a0485590-c118-49f4-95b7-cab1815a926f",
   "metadata": {
    "execution": {
     "iopub.execute_input": "2022-04-20T03:13:30.803046Z",
     "iopub.status.busy": "2022-04-20T03:13:30.803046Z",
     "iopub.status.idle": "2022-04-20T03:13:30.820871Z",
     "shell.execute_reply": "2022-04-20T03:13:30.819947Z",
     "shell.execute_reply.started": "2022-04-20T03:13:30.803046Z"
    },
    "tags": []
   },
   "outputs": [
    {
     "data": {
      "text/plain": [
       "[60.0, 2.0, 2.0]"
      ]
     },
     "execution_count": 37,
     "metadata": {},
     "output_type": "execute_result"
    }
   ],
   "source": [
    "[len(cycle)/2 for cycle in cycles]"
   ]
  },
  {
   "cell_type": "code",
   "execution_count": 94,
   "id": "b70e113d-9010-4f9a-a0e9-586a1a568663",
   "metadata": {
    "execution": {
     "iopub.execute_input": "2022-04-20T02:38:26.898293Z",
     "iopub.status.busy": "2022-04-20T02:38:26.897293Z",
     "iopub.status.idle": "2022-04-20T02:38:26.905987Z",
     "shell.execute_reply": "2022-04-20T02:38:26.904988Z",
     "shell.execute_reply.started": "2022-04-20T02:38:26.898293Z"
    }
   },
   "outputs": [],
   "source": [
    "x_sol = m.getAttr('x', x)"
   ]
  },
  {
   "cell_type": "code",
   "execution_count": 97,
   "id": "02918911-b39a-45a5-a66f-3a5c900fc5f0",
   "metadata": {
    "execution": {
     "iopub.execute_input": "2022-04-20T02:39:25.429496Z",
     "iopub.status.busy": "2022-04-20T02:39:25.429496Z",
     "iopub.status.idle": "2022-04-20T02:39:25.442695Z",
     "shell.execute_reply": "2022-04-20T02:39:25.441685Z",
     "shell.execute_reply.started": "2022-04-20T02:39:25.429496Z"
    },
    "tags": []
   },
   "outputs": [],
   "source": [
    "selected = gp.tuplelist((i, j) for i, j in x_sol.keys()\n",
    "                                if x_sol[i, j] > 0.5)\n",
    "dir_edges = ([(r,j) if (r,j) in selected else (j,r) for (r,j) in edges])\n",
    "D = nx.DiGraph(dir_edges)\n",
    "S = nx.strongly_connected_components(D)"
   ]
  },
  {
   "cell_type": "code",
   "execution_count": 99,
   "id": "a5e1971c-4528-4ac6-bae1-3651affe935c",
   "metadata": {
    "execution": {
     "iopub.execute_input": "2022-04-20T02:39:32.324295Z",
     "iopub.status.busy": "2022-04-20T02:39:32.323296Z",
     "iopub.status.idle": "2022-04-20T02:39:32.332820Z",
     "shell.execute_reply": "2022-04-20T02:39:32.331809Z",
     "shell.execute_reply.started": "2022-04-20T02:39:32.323296Z"
    },
    "tags": []
   },
   "outputs": [
    {
     "data": {
      "text/plain": [
       "[{1, 2, 3, 5}, {4}, {0}, {6}, {7}]"
      ]
     },
     "execution_count": 99,
     "metadata": {},
     "output_type": "execute_result"
    }
   ],
   "source": [
    "list(S)"
   ]
  },
  {
   "cell_type": "code",
   "execution_count": 91,
   "id": "1b553985-44b1-4b72-a707-b72f31dcf4d2",
   "metadata": {
    "execution": {
     "iopub.execute_input": "2022-04-20T02:36:00.941316Z",
     "iopub.status.busy": "2022-04-20T02:36:00.940318Z",
     "iopub.status.idle": "2022-04-20T02:36:00.954348Z",
     "shell.execute_reply": "2022-04-20T02:36:00.953839Z",
     "shell.execute_reply.started": "2022-04-20T02:36:00.940318Z"
    }
   },
   "outputs": [
    {
     "data": {
      "text/plain": [
       "{(0, 4): 1.0,\n",
       " (0, 6): 0.0,\n",
       " (0, 7): 0.0,\n",
       " (1, 3): -0.0,\n",
       " (1, 4): -0.0,\n",
       " (1, 5): 1.0,\n",
       " (1, 6): -0.0,\n",
       " (1, 7): -0.0,\n",
       " (2, 3): 1.0,\n",
       " (2, 4): 0.0,\n",
       " (2, 5): -0.0,\n",
       " (2, 6): 0.0,\n",
       " (2, 7): 0.0}"
      ]
     },
     "execution_count": 91,
     "metadata": {},
     "output_type": "execute_result"
    }
   ],
   "source": [
    "m.getAttr('x', x)"
   ]
  },
  {
   "cell_type": "code",
   "execution_count": 25,
   "id": "b7badd13-1459-4a2c-8f8a-f311913dd7d2",
   "metadata": {
    "execution": {
     "iopub.execute_input": "2022-04-20T02:24:37.064155Z",
     "iopub.status.busy": "2022-04-20T02:24:37.063153Z",
     "iopub.status.idle": "2022-04-20T02:24:38.295401Z",
     "shell.execute_reply": "2022-04-20T02:24:38.294401Z",
     "shell.execute_reply.started": "2022-04-20T02:24:37.064155Z"
    },
    "tags": []
   },
   "outputs": [
    {
     "name": "stdout",
     "output_type": "stream",
     "text": [
      "No feasible solution\n"
     ]
    }
   ],
   "source": [
    "_, edges_original = bipartite_repr(eqv)\n",
    "avrs = getallvars(eqs, sympy=False)\n",
    "eqns = eqs.keys()\n",
    "graph_edges = invert_edges(edges_original)\n",
    "output = resolve(eqns, avrs, graph_edges, 50)\n",
    "soutput = sorted(output, key=lambda x: x['CLEN'])\n",
    "bestsccseq = soutput[0]['CLEN']"
   ]
  },
  {
   "cell_type": "code",
   "execution_count": 28,
   "id": "090c8598-4c2e-412a-bd8a-60ad9ceb2049",
   "metadata": {
    "execution": {
     "iopub.execute_input": "2022-04-20T02:25:03.919531Z",
     "iopub.status.busy": "2022-04-20T02:25:03.919531Z",
     "iopub.status.idle": "2022-04-20T02:25:03.934187Z",
     "shell.execute_reply": "2022-04-20T02:25:03.933188Z",
     "shell.execute_reply.started": "2022-04-20T02:25:03.919531Z"
    },
    "tags": []
   },
   "outputs": [
    {
     "data": {
      "text/plain": [
       "36"
      ]
     },
     "execution_count": 28,
     "metadata": {},
     "output_type": "execute_result"
    }
   ],
   "source": [
    "len(soutput)"
   ]
  },
  {
   "cell_type": "code",
   "execution_count": 8,
   "id": "3342d0bf-deb2-4fc6-9f8a-b94be6ab7191",
   "metadata": {
    "execution": {
     "iopub.execute_input": "2022-04-20T00:38:47.381235Z",
     "iopub.status.busy": "2022-04-20T00:38:47.380235Z",
     "iopub.status.idle": "2022-04-20T00:38:47.388236Z",
     "shell.execute_reply": "2022-04-20T00:38:47.388236Z",
     "shell.execute_reply.started": "2022-04-20T00:38:47.381235Z"
    }
   },
   "outputs": [],
   "source": [
    "A = np.zeros((n_eqs, n_vars)).astype(int)\n",
    "permutation = range(n_eqs, n_vars+n_eqs)\n",
    "for idx, (out,varsineq) in eqs.items():\n",
    "    for var in varsineq+(out,):\n",
    "        col = permutation.index(var)\n",
    "        A[idx,col] = 1"
   ]
  },
  {
   "cell_type": "code",
   "execution_count": 10,
   "id": "9c627f04-61ad-4be8-b934-e392478b14ae",
   "metadata": {
    "execution": {
     "iopub.execute_input": "2022-04-20T00:38:57.519934Z",
     "iopub.status.busy": "2022-04-20T00:38:57.519934Z",
     "iopub.status.idle": "2022-04-20T00:38:57.529445Z",
     "shell.execute_reply": "2022-04-20T00:38:57.528934Z",
     "shell.execute_reply.started": "2022-04-20T00:38:57.519934Z"
    },
    "tags": []
   },
   "outputs": [
    {
     "name": "stdout",
     "output_type": "stream",
     "text": [
      "A=[0 0 0 0 0 0 0 0 0 0 0 0 0 0 0 0 1 0 1 0 0 0 0 0 0;\n",
      " 0 0 0 0 0 0 1 0 0 0 0 1 1 1 0 0 0 0 0 0 0 0 0 0 1;\n",
      " 0 0 1 0 0 0 0 0 1 0 0 0 0 0 0 1 0 0 1 0 0 0 0 0 1;\n",
      " 0 0 0 0 0 1 0 0 0 0 0 1 0 1 0 0 0 1 0 0 0 1 0 0 0;\n",
      " 0 0 0 0 1 0 0 0 0 0 0 0 0 0 1 0 0 0 0 0 0 0 0 0 0;\n",
      " 0 0 0 0 0 0 0 0 0 0 0 1 0 0 0 0 0 0 1 0 0 0 0 0 0;\n",
      " 0 0 0 0 1 0 0 0 0 1 0 0 0 1 0 1 1 1 0 0 0 1 0 1 1;\n",
      " 0 0 1 0 1 0 0 0 0 0 0 0 0 0 0 0 1 0 0 0 0 1 0 0 0;\n",
      " 1 1 0 1 1 0 0 1 1 0 0 0 0 1 0 0 0 0 0 0 0 0 0 0 0;\n",
      " 0 0 0 0 0 0 0 0 0 0 0 0 0 0 0 0 0 0 0 0 1 0 0 0 0;\n",
      " 0 0 0 1 0 0 0 0 0 0 1 0 1 0 0 0 0 0 0 0 0 0 0 0 0;\n",
      " 0 1 0 1 0 0 0 0 0 0 0 1 0 0 0 0 0 0 0 1 0 0 0 0 0;\n",
      " 0 0 0 0 0 0 0 0 0 1 0 0 0 1 0 0 0 0 1 0 0 0 0 0 0;\n",
      " 0 1 0 1 0 0 1 0 0 0 0 0 0 0 0 0 0 0 0 0 0 0 0 0 0;\n",
      " 0 0 0 0 0 1 0 0 0 0 0 0 0 0 0 0 0 0 0 1 0 0 0 0 0;\n",
      " 1 0 1 0 0 0 0 0 0 0 0 1 0 0 0 0 0 0 0 1 0 1 0 1 0;\n",
      " 0 0 0 1 0 1 0 0 1 0 0 0 0 0 0 0 0 0 0 0 0 0 0 0 1;\n",
      " 0 0 0 0 1 0 0 0 0 0 1 0 0 0 0 1 0 0 1 0 0 0 0 0 0;\n",
      " 0 0 0 0 0 0 1 0 0 0 0 0 0 0 0 1 0 0 0 0 1 0 0 0 1;\n",
      " 0 0 0 0 0 1 0 0 0 0 0 0 0 0 0 0 0 0 0 0 0 1 0 0 1]\n"
     ]
    }
   ],
   "source": [
    "print('A=[{}]'.format(';\\n '.join([' '.join([str(elt) for elt in row]) for row in A])))"
   ]
  },
  {
   "cell_type": "code",
   "execution_count": 7,
   "id": "8b5b87f4-569b-46d2-abe6-beef21862a3a",
   "metadata": {
    "execution": {
     "iopub.execute_input": "2022-04-19T19:51:52.915474Z",
     "iopub.status.busy": "2022-04-19T19:51:52.915474Z",
     "iopub.status.idle": "2022-04-19T19:51:52.929690Z",
     "shell.execute_reply": "2022-04-19T19:51:52.929690Z",
     "shell.execute_reply.started": "2022-04-19T19:51:52.915474Z"
    },
    "tags": []
   },
   "outputs": [],
   "source": [
    "N = 20\n",
    "n_eqs = 100\n",
    "n_vars = 130\n",
    "sparsity = 1.7"
   ]
  },
  {
   "cell_type": "code",
   "execution_count": 8,
   "id": "47daae95-6418-41e2-a196-795306b440cb",
   "metadata": {
    "execution": {
     "iopub.execute_input": "2022-04-19T19:51:55.074907Z",
     "iopub.status.busy": "2022-04-19T19:51:55.074907Z",
     "iopub.status.idle": "2022-04-19T19:51:55.085125Z",
     "shell.execute_reply": "2022-04-19T19:51:55.085125Z",
     "shell.execute_reply.started": "2022-04-19T19:51:55.074907Z"
    },
    "tags": []
   },
   "outputs": [],
   "source": [
    "dfcontent = dict()"
   ]
  },
  {
   "cell_type": "code",
   "execution_count": 76,
   "id": "45d417f7-f07d-432a-afcc-f96da952db15",
   "metadata": {
    "execution": {
     "iopub.execute_input": "2022-04-20T04:19:12.968330Z",
     "iopub.status.busy": "2022-04-20T04:19:12.968330Z",
     "iopub.status.idle": "2022-04-20T04:19:12.974248Z",
     "shell.execute_reply": "2022-04-20T04:19:12.973297Z",
     "shell.execute_reply.started": "2022-04-20T04:19:12.968330Z"
    },
    "tags": []
   },
   "outputs": [],
   "source": [
    "import pandas as pd"
   ]
  },
  {
   "cell_type": "code",
   "execution_count": 126,
   "id": "593a7e25-28e7-4afc-8127-d99904c60175",
   "metadata": {
    "execution": {
     "iopub.execute_input": "2022-04-20T04:28:47.397752Z",
     "iopub.status.busy": "2022-04-20T04:28:47.396752Z",
     "iopub.status.idle": "2022-04-20T04:28:47.415003Z",
     "shell.execute_reply": "2022-04-20T04:28:47.413878Z",
     "shell.execute_reply.started": "2022-04-20T04:28:47.397752Z"
    },
    "tags": []
   },
   "outputs": [],
   "source": [
    "sparsities = np.round(np.logspace(np.log10(0.5), np.log10(1.5),3),2)\n",
    "dofs = [10]\n",
    "N = 100\n",
    "seeds = rng.choice(10*N, size=N, replace=False)\n",
    "n_eqs = 50"
   ]
  },
  {
   "cell_type": "code",
   "execution_count": 127,
   "id": "2967c699-05e2-423c-806a-0afe0bfb927e",
   "metadata": {
    "execution": {
     "iopub.execute_input": "2022-04-20T04:28:48.084251Z",
     "iopub.status.busy": "2022-04-20T04:28:48.083251Z",
     "iopub.status.idle": "2022-04-20T13:36:19.316417Z",
     "shell.execute_reply": "2022-04-20T13:36:19.315434Z",
     "shell.execute_reply.started": "2022-04-20T04:28:48.084251Z"
    },
    "tags": []
   },
   "outputs": [
    {
     "data": {
      "application/vnd.jupyter.widget-view+json": {
       "model_id": "a3de7644f7c241549aec7e73273ae9ba",
       "version_major": 2,
       "version_minor": 0
      },
      "text/plain": [
       "IntProgress(value=0, max=300)"
      ]
     },
     "metadata": {},
     "output_type": "display_data"
    }
   ],
   "source": [
    "max_count = len(sparsities)*len(dofs)*N\n",
    "\n",
    "f = IntProgress(min=0, max=max_count) # instantiate the bar\n",
    "display(f) # display the bar\n",
    "count = 0\n",
    "stats = []\n",
    "for sparsity in sparsities:\n",
    "    for dof in dofs:\n",
    "        n_vars = n_eqs+dof\n",
    "        for elt in range(N):\n",
    "            f.value += 1\n",
    "            seed = int(seeds[elt])\n",
    "            eqv, varinc, dout = generate_random_prob(n_eqs, n_vars, seed, sparsity)\n",
    "            edges, tree = eqv_to_edges_tree(eqv, output_set, n_eqs)\n",
    "            output_set = {key:var-n_eqs for key,var in dout.items()}\n",
    "            G = flat_graph_formulation(*edges)\n",
    "            merge_order = sort_scc(G)\n",
    "            maxscc = max([len(elt) for elt in merge_order])\n",
    "            stats.append({\"largestSCC\":maxscc, \"DOFs\":dof, \"sparsity\":sparsity, \"type\":\"default\"})\n",
    "            eqs=direct_eqs(eqv, dout)\n",
    "            _, edges_original = bipartite_repr(eqv)\n",
    "            avrs = getallvars(eqs, sympy=False)\n",
    "            eqns = eqs.keys()\n",
    "            graph_edges = invert_edges(edges_original)\n",
    "            #output = resolve(eqns, avrs, graph_edges, 50)\n",
    "            #soutput = sorted(output, key=lambda x: x['CLEN'])\n",
    "            #bestsccseq = soutput[0]['CLEN']\n",
    "            #better_maxscc = max(bestsccseq) if bestsccseq else 0\n",
    "            better_maxscc = min_max_scc(graph_edges, avrs, len(eqns))\n",
    "            stats.append({\"largestSCC\":better_maxscc, \"DOFs\":dof, \"sparsity\":sparsity, \"type\":\"optimized\"})"
   ]
  },
  {
   "cell_type": "code",
   "execution_count": 128,
   "id": "568cf90d-d6db-4534-8171-dec18fd5982d",
   "metadata": {
    "execution": {
     "iopub.execute_input": "2022-04-20T13:42:40.997787Z",
     "iopub.status.busy": "2022-04-20T13:42:40.996778Z",
     "iopub.status.idle": "2022-04-20T13:42:41.015250Z",
     "shell.execute_reply": "2022-04-20T13:42:41.014215Z",
     "shell.execute_reply.started": "2022-04-20T13:42:40.997787Z"
    },
    "tags": []
   },
   "outputs": [],
   "source": [
    "df = pd.DataFrame(stats)"
   ]
  },
  {
   "cell_type": "code",
   "execution_count": 129,
   "id": "25499e6c-9058-4036-863d-b01daee98d65",
   "metadata": {
    "execution": {
     "iopub.execute_input": "2022-04-20T13:42:42.322265Z",
     "iopub.status.busy": "2022-04-20T13:42:42.321267Z",
     "iopub.status.idle": "2022-04-20T13:42:42.390067Z",
     "shell.execute_reply": "2022-04-20T13:42:42.389067Z",
     "shell.execute_reply.started": "2022-04-20T13:42:42.322265Z"
    },
    "tags": []
   },
   "outputs": [
    {
     "data": {
      "text/html": [
       "<div>\n",
       "<style scoped>\n",
       "    .dataframe tbody tr th:only-of-type {\n",
       "        vertical-align: middle;\n",
       "    }\n",
       "\n",
       "    .dataframe tbody tr th {\n",
       "        vertical-align: top;\n",
       "    }\n",
       "\n",
       "    .dataframe thead th {\n",
       "        text-align: right;\n",
       "    }\n",
       "</style>\n",
       "<table border=\"1\" class=\"dataframe\">\n",
       "  <thead>\n",
       "    <tr style=\"text-align: right;\">\n",
       "      <th></th>\n",
       "      <th>largestSCC</th>\n",
       "      <th>DOFs</th>\n",
       "      <th>sparsity</th>\n",
       "      <th>type</th>\n",
       "    </tr>\n",
       "  </thead>\n",
       "  <tbody>\n",
       "    <tr>\n",
       "      <th>0</th>\n",
       "      <td>2.0</td>\n",
       "      <td>10</td>\n",
       "      <td>0.5</td>\n",
       "      <td>default</td>\n",
       "    </tr>\n",
       "    <tr>\n",
       "      <th>1</th>\n",
       "      <td>2.0</td>\n",
       "      <td>10</td>\n",
       "      <td>0.5</td>\n",
       "      <td>optimized</td>\n",
       "    </tr>\n",
       "    <tr>\n",
       "      <th>2</th>\n",
       "      <td>7.0</td>\n",
       "      <td>10</td>\n",
       "      <td>0.5</td>\n",
       "      <td>default</td>\n",
       "    </tr>\n",
       "    <tr>\n",
       "      <th>3</th>\n",
       "      <td>7.0</td>\n",
       "      <td>10</td>\n",
       "      <td>0.5</td>\n",
       "      <td>optimized</td>\n",
       "    </tr>\n",
       "    <tr>\n",
       "      <th>4</th>\n",
       "      <td>1.0</td>\n",
       "      <td>10</td>\n",
       "      <td>0.5</td>\n",
       "      <td>default</td>\n",
       "    </tr>\n",
       "    <tr>\n",
       "      <th>...</th>\n",
       "      <td>...</td>\n",
       "      <td>...</td>\n",
       "      <td>...</td>\n",
       "      <td>...</td>\n",
       "    </tr>\n",
       "    <tr>\n",
       "      <th>595</th>\n",
       "      <td>33.0</td>\n",
       "      <td>10</td>\n",
       "      <td>1.5</td>\n",
       "      <td>optimized</td>\n",
       "    </tr>\n",
       "    <tr>\n",
       "      <th>596</th>\n",
       "      <td>48.0</td>\n",
       "      <td>10</td>\n",
       "      <td>1.5</td>\n",
       "      <td>default</td>\n",
       "    </tr>\n",
       "    <tr>\n",
       "      <th>597</th>\n",
       "      <td>36.0</td>\n",
       "      <td>10</td>\n",
       "      <td>1.5</td>\n",
       "      <td>optimized</td>\n",
       "    </tr>\n",
       "    <tr>\n",
       "      <th>598</th>\n",
       "      <td>46.0</td>\n",
       "      <td>10</td>\n",
       "      <td>1.5</td>\n",
       "      <td>default</td>\n",
       "    </tr>\n",
       "    <tr>\n",
       "      <th>599</th>\n",
       "      <td>35.0</td>\n",
       "      <td>10</td>\n",
       "      <td>1.5</td>\n",
       "      <td>optimized</td>\n",
       "    </tr>\n",
       "  </tbody>\n",
       "</table>\n",
       "<p>600 rows × 4 columns</p>\n",
       "</div>"
      ],
      "text/plain": [
       "     largestSCC  DOFs  sparsity       type\n",
       "0           2.0    10       0.5    default\n",
       "1           2.0    10       0.5  optimized\n",
       "2           7.0    10       0.5    default\n",
       "3           7.0    10       0.5  optimized\n",
       "4           1.0    10       0.5    default\n",
       "..          ...   ...       ...        ...\n",
       "595        33.0    10       1.5  optimized\n",
       "596        48.0    10       1.5    default\n",
       "597        36.0    10       1.5  optimized\n",
       "598        46.0    10       1.5    default\n",
       "599        35.0    10       1.5  optimized\n",
       "\n",
       "[600 rows x 4 columns]"
      ]
     },
     "execution_count": 129,
     "metadata": {},
     "output_type": "execute_result"
    }
   ],
   "source": [
    "df"
   ]
  },
  {
   "cell_type": "code",
   "execution_count": 130,
   "id": "eae761c4-97f6-4eef-a0e6-103a8a1a2392",
   "metadata": {
    "execution": {
     "iopub.execute_input": "2022-04-20T13:42:45.124034Z",
     "iopub.status.busy": "2022-04-20T13:42:45.124034Z",
     "iopub.status.idle": "2022-04-20T13:42:46.398617Z",
     "shell.execute_reply": "2022-04-20T13:42:46.397615Z",
     "shell.execute_reply.started": "2022-04-20T13:42:45.124034Z"
    },
    "tags": []
   },
   "outputs": [
    {
     "data": {
      "image/png": "[encoded data removed]",
      "text/plain": [
       "<Figure size 421.1x720 with 2 Axes>"
      ]
     },
     "metadata": {},
     "output_type": "display_data"
    }
   ],
   "source": [
    "sns.displot(df, x=\"largestSCC\", col=\"DOFs\", row=\"type\", hue=\"sparsity\", palette=\"Set3\", bins=20);"
   ]
  },
  {
   "cell_type": "code",
   "execution_count": 97,
   "id": "36fb538d-3604-488b-a67b-356cfcc59d1d",
   "metadata": {
    "execution": {
     "iopub.execute_input": "2022-04-19T19:22:10.467211Z",
     "iopub.status.busy": "2022-04-19T19:22:10.467211Z",
     "iopub.status.idle": "2022-04-19T19:22:11.464171Z",
     "shell.execute_reply": "2022-04-19T19:22:11.463606Z",
     "shell.execute_reply.started": "2022-04-19T19:22:10.467211Z"
    },
    "tags": []
   },
   "outputs": [
    {
     "data": {
      "image/png": "[encoded data removed]",
      "text/plain": [
       "<Figure size 1501.1x360 with 4 Axes>"
      ]
     },
     "metadata": {},
     "output_type": "display_data"
    }
   ],
   "source": [
    "sns.displot(df, x=\"largestSCC\", col=\"DOFs\", hue=\"sparsity\", palette=\"Set3\", bins=20);"
   ]
  },
  {
   "cell_type": "code",
   "execution_count": 18,
   "id": "d5702d3e-71ec-4abf-8ca3-cc12fcea4bbb",
   "metadata": {
    "execution": {
     "iopub.execute_input": "2022-04-19T18:19:21.473111Z",
     "iopub.status.busy": "2022-04-19T18:19:21.472112Z",
     "iopub.status.idle": "2022-04-19T18:19:21.481103Z",
     "shell.execute_reply": "2022-04-19T18:19:21.481103Z",
     "shell.execute_reply.started": "2022-04-19T18:19:21.473111Z"
    },
    "tags": []
   },
   "outputs": [],
   "source": [
    "edges, tree = eqv_to_edges_tree(eqv, output_set, n_eqs)"
   ]
  },
  {
   "cell_type": "code",
   "execution_count": 19,
   "id": "813214ac-8c56-4b68-b2fa-229a0e98e001",
   "metadata": {
    "execution": {
     "iopub.execute_input": "2022-04-19T18:19:21.646386Z",
     "iopub.status.busy": "2022-04-19T18:19:21.645348Z",
     "iopub.status.idle": "2022-04-19T18:19:21.668170Z",
     "shell.execute_reply": "2022-04-19T18:19:21.668045Z",
     "shell.execute_reply.started": "2022-04-19T18:19:21.646386Z"
    },
    "tags": []
   },
   "outputs": [],
   "source": [
    "G = flat_graph_formulation(*edges)"
   ]
  },
  {
   "cell_type": "code",
   "execution_count": 20,
   "id": "7ba078a7-f912-4bef-b328-efd7365ae9dc",
   "metadata": {
    "execution": {
     "iopub.execute_input": "2022-04-19T18:19:21.833614Z",
     "iopub.status.busy": "2022-04-19T18:19:21.832614Z",
     "iopub.status.idle": "2022-04-19T18:19:21.854297Z",
     "shell.execute_reply": "2022-04-19T18:19:21.853289Z",
     "shell.execute_reply.started": "2022-04-19T18:19:21.833614Z"
    },
    "tags": []
   },
   "outputs": [],
   "source": [
    "merge_order = sort_scc(G)"
   ]
  },
  {
   "cell_type": "code",
   "execution_count": 21,
   "id": "877ebc0c-9f12-4b75-81f2-6527659c6a34",
   "metadata": {
    "execution": {
     "iopub.execute_input": "2022-04-19T18:19:22.241369Z",
     "iopub.status.busy": "2022-04-19T18:19:22.240299Z",
     "iopub.status.idle": "2022-04-19T18:19:22.255232Z",
     "shell.execute_reply": "2022-04-19T18:19:22.254405Z",
     "shell.execute_reply.started": "2022-04-19T18:19:22.241369Z"
    },
    "tags": []
   },
   "outputs": [
    {
     "data": {
      "text/plain": [
       "[1, 1, 1, 1, 1, 1, 1, 1, 1, 84, 1, 1, 1, 1, 1, 1, 1]"
      ]
     },
     "execution_count": 21,
     "metadata": {},
     "output_type": "execute_result"
    }
   ],
   "source": [
    "[len(elt) for elt in merge_order]"
   ]
  },
  {
   "cell_type": "code",
   "execution_count": 8,
   "id": "542908e2-d1d2-442b-8d6f-96b9188aa662",
   "metadata": {
    "execution": {
     "iopub.execute_input": "2022-04-19T18:18:16.649321Z",
     "iopub.status.busy": "2022-04-19T18:18:16.649321Z",
     "iopub.status.idle": "2022-04-19T18:18:16.659121Z",
     "shell.execute_reply": "2022-04-19T18:18:16.658754Z",
     "shell.execute_reply.started": "2022-04-19T18:18:16.649321Z"
    },
    "tags": []
   },
   "outputs": [],
   "source": [
    "eqs=direct_eqs(eqv, dout)\n",
    "_, edges_original = bipartite_repr(eqv)\n",
    "avrs = getallvars(eqs, sympy=False)\n",
    "eqns = eqs.keys()\n",
    "graph_edges = invert_edges(edges_original)"
   ]
  },
  {
   "cell_type": "code",
   "execution_count": 9,
   "id": "a2e5030b-9a34-4e4e-ab36-fc1fb9337204",
   "metadata": {
    "execution": {
     "iopub.execute_input": "2022-04-19T18:18:19.646782Z",
     "iopub.status.busy": "2022-04-19T18:18:19.646782Z",
     "iopub.status.idle": "2022-04-19T18:18:31.816632Z",
     "shell.execute_reply": "2022-04-19T18:18:31.816529Z",
     "shell.execute_reply.started": "2022-04-19T18:18:19.646782Z"
    },
    "tags": []
   },
   "outputs": [
    {
     "name": "stdout",
     "output_type": "stream",
     "text": [
      "Set parameter Username\n",
      "Academic license - for non-commercial use only - expires 2023-02-25\n"
     ]
    }
   ],
   "source": [
    "output = resolve(eqns, avrs, graph_edges, 200)"
   ]
  },
  {
   "cell_type": "code",
   "execution_count": 10,
   "id": "41ef4f95-8314-402c-a55e-5fde75226d7c",
   "metadata": {
    "execution": {
     "iopub.execute_input": "2022-04-19T18:18:33.383513Z",
     "iopub.status.busy": "2022-04-19T18:18:33.383513Z",
     "iopub.status.idle": "2022-04-19T18:18:33.397330Z",
     "shell.execute_reply": "2022-04-19T18:18:33.397042Z",
     "shell.execute_reply.started": "2022-04-19T18:18:33.383513Z"
    },
    "tags": []
   },
   "outputs": [],
   "source": [
    "soutput = sorted(output, key=lambda x: x['CLEN'])"
   ]
  },
  {
   "cell_type": "code",
   "execution_count": 11,
   "id": "0bb141d1-a07a-4298-a0a9-d0172c1135f3",
   "metadata": {
    "execution": {
     "iopub.execute_input": "2022-04-19T18:18:34.313619Z",
     "iopub.status.busy": "2022-04-19T18:18:34.313619Z",
     "iopub.status.idle": "2022-04-19T18:18:34.332377Z",
     "shell.execute_reply": "2022-04-19T18:18:34.332299Z",
     "shell.execute_reply.started": "2022-04-19T18:18:34.313619Z"
    },
    "tags": []
   },
   "outputs": [
    {
     "data": {
      "text/plain": [
       "[79.0, 2.0]"
      ]
     },
     "execution_count": 11,
     "metadata": {},
     "output_type": "execute_result"
    }
   ],
   "source": [
    "soutput[0]['CLEN']"
   ]
  },
  {
   "cell_type": "code",
   "execution_count": null,
   "id": "9afcc220-7205-4740-b6bf-16e84b11bd58",
   "metadata": {},
   "outputs": [],
   "source": []
  }
 ],
 "metadata": {
  "kernelspec": {
   "display_name": "Python [conda env:mdo]",
   "language": "python",
   "name": "conda-env-mdo-py"
  },
  "language_info": {
   "codemirror_mode": {
    "name": "ipython",
    "version": 3
   },
   "file_extension": ".py",
   "mimetype": "text/x-python",
   "name": "python",
   "nbconvert_exporter": "python",
   "pygments_lexer": "ipython3",
   "version": "3.9.13"
  }
 },
 "nbformat": 4,
 "nbformat_minor": 5
}
