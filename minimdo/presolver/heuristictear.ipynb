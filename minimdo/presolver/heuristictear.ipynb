{
 "cells": [
  {
   "cell_type": "code",
   "execution_count": 2,
   "id": "708cd76f-7d81-4338-92ba-e3ecad38d234",
   "metadata": {
    "execution": {
     "iopub.execute_input": "2022-04-27T16:25:18.525123Z",
     "iopub.status.busy": "2022-04-27T16:25:18.525123Z",
     "iopub.status.idle": "2022-04-27T16:25:18.540205Z",
     "shell.execute_reply": "2022-04-27T16:25:18.539627Z",
     "shell.execute_reply.started": "2022-04-27T16:25:18.525123Z"
    },
    "tags": []
   },
   "outputs": [
    {
     "name": "stdout",
     "output_type": "stream",
     "text": [
      "C:\\Users\\johan\\github\\designresolver\n"
     ]
    }
   ],
   "source": [
    "cd .."
   ]
  },
  {
   "cell_type": "code",
   "execution_count": 3,
   "id": "d6e87953-903a-4891-babc-a8638325ba7d",
   "metadata": {
    "execution": {
     "iopub.execute_input": "2022-04-27T16:25:18.989657Z",
     "iopub.status.busy": "2022-04-27T16:25:18.989657Z",
     "iopub.status.idle": "2022-04-27T16:25:24.628823Z",
     "shell.execute_reply": "2022-04-27T16:25:24.628823Z",
     "shell.execute_reply.started": "2022-04-27T16:25:18.989657Z"
    },
    "tags": []
   },
   "outputs": [],
   "source": [
    "from testproblems import generate_random_prob\n",
    "from representations import bipartite_repr\n",
    "from inputresolver import resolve,invert_edges,getallvars,direct_eqs\n",
    "from polycasebuilder import eqv_to_edges_tree\n",
    "from graphutils import flat_graph_formulation, draw_graph_graphical_props\n",
    "from operators import sort_scc\n",
    "#from networkx.algorithms.bipartite import random_graph as bipartite_random_graph"
   ]
  },
  {
   "cell_type": "code",
   "execution_count": 4,
   "id": "bab21127-a333-46e8-8b50-9be2620f8785",
   "metadata": {
    "execution": {
     "iopub.execute_input": "2022-04-27T16:25:24.630914Z",
     "iopub.status.busy": "2022-04-27T16:25:24.630914Z",
     "iopub.status.idle": "2022-04-27T16:25:24.638948Z",
     "shell.execute_reply": "2022-04-27T16:25:24.638948Z",
     "shell.execute_reply.started": "2022-04-27T16:25:24.630914Z"
    },
    "tags": []
   },
   "outputs": [],
   "source": [
    "import numpy as np\n",
    "import networkx as nx\n",
    "from itertools import chain"
   ]
  },
  {
   "cell_type": "code",
   "execution_count": 5,
   "id": "06832d5a-aecc-45ab-b26f-e79681779992",
   "metadata": {
    "execution": {
     "iopub.execute_input": "2022-04-27T16:25:24.638948Z",
     "iopub.status.busy": "2022-04-27T16:25:24.638948Z",
     "iopub.status.idle": "2022-04-27T16:25:24.648108Z",
     "shell.execute_reply": "2022-04-27T16:25:24.648108Z",
     "shell.execute_reply.started": "2022-04-27T16:25:24.638948Z"
    },
    "tags": []
   },
   "outputs": [],
   "source": [
    "rng = np.random.default_rng()"
   ]
  },
  {
   "cell_type": "code",
   "execution_count": 251,
   "id": "52cf66a2-1f37-48ac-a4bb-686bf3cb2830",
   "metadata": {
    "execution": {
     "iopub.execute_input": "2022-04-27T20:06:26.664083Z",
     "iopub.status.busy": "2022-04-27T20:06:26.664083Z",
     "iopub.status.idle": "2022-04-27T20:06:26.674207Z",
     "shell.execute_reply": "2022-04-27T20:06:26.674207Z",
     "shell.execute_reply.started": "2022-04-27T20:06:26.664083Z"
    },
    "tags": []
   },
   "outputs": [],
   "source": [
    "n_eqs = 20\n",
    "n_vars = 25\n",
    "seed = 8#8 is triang#seed 10 is nice 42\n",
    "sparsity = 1.7#0.87#0.8 1.1 #1.7 1.3\n",
    "inputs=[]\n",
    "eqv, varinc, dout = generate_random_prob(n_eqs, n_vars, seed, sparsity)\n",
    "eqvd = {key:tuple(elt for elt in var if elt not in inputs) for key,var in eqv.items()}\n",
    "#eqv = eqvd\n",
    "eqs=direct_eqs(eqv, dout)\n",
    "output_set = {key:var-n_eqs for key,var in dout.items()}"
   ]
  },
  {
   "cell_type": "code",
   "execution_count": 252,
   "id": "a5ed8133-c38c-4629-941f-e0bd2ed48a1a",
   "metadata": {
    "execution": {
     "iopub.execute_input": "2022-04-27T20:06:27.074946Z",
     "iopub.status.busy": "2022-04-27T20:06:27.073961Z",
     "iopub.status.idle": "2022-04-27T20:06:27.080946Z",
     "shell.execute_reply": "2022-04-27T20:06:27.080946Z",
     "shell.execute_reply.started": "2022-04-27T20:06:27.074946Z"
    },
    "tags": []
   },
   "outputs": [],
   "source": [
    "edges, tree = eqv_to_edges_tree(eqv, output_set, n_eqs)"
   ]
  },
  {
   "cell_type": "code",
   "execution_count": 253,
   "id": "bdbaa16d-0496-4848-929e-6b54f0d996b5",
   "metadata": {
    "execution": {
     "iopub.execute_input": "2022-04-27T20:06:27.357567Z",
     "iopub.status.busy": "2022-04-27T20:06:27.357567Z",
     "iopub.status.idle": "2022-04-27T20:06:27.361999Z",
     "shell.execute_reply": "2022-04-27T20:06:27.361999Z",
     "shell.execute_reply.started": "2022-04-27T20:06:27.357567Z"
    },
    "tags": []
   },
   "outputs": [],
   "source": [
    "_, edges_original = bipartite_repr(eqv)\n",
    "avrs = getallvars(eqs, sympy=False)\n",
    "eqns = eqs.keys()\n",
    "graph_edges = invert_edges(edges_original)"
   ]
  },
  {
   "cell_type": "code",
   "execution_count": 254,
   "id": "7b22307f-c67a-406e-9780-affbd2987b27",
   "metadata": {
    "execution": {
     "iopub.execute_input": "2022-04-27T20:06:27.566662Z",
     "iopub.status.busy": "2022-04-27T20:06:27.566662Z",
     "iopub.status.idle": "2022-04-27T20:06:27.579613Z",
     "shell.execute_reply": "2022-04-27T20:06:27.578702Z",
     "shell.execute_reply.started": "2022-04-27T20:06:27.566662Z"
    },
    "tags": []
   },
   "outputs": [
    {
     "data": {
      "text/plain": [
       "EdgeView([(1, 2), (2, 3)])"
      ]
     },
     "execution_count": 254,
     "metadata": {},
     "output_type": "execute_result"
    }
   ],
   "source": [
    "nx.Graph(({1,2},{3,2})).edges()"
   ]
  },
  {
   "cell_type": "code",
   "execution_count": 259,
   "id": "efee099d-6e20-43d8-a0d1-16bce53a1ea8",
   "metadata": {
    "execution": {
     "iopub.execute_input": "2022-04-27T20:10:32.753379Z",
     "iopub.status.busy": "2022-04-27T20:10:32.752380Z",
     "iopub.status.idle": "2022-04-27T20:10:32.771565Z",
     "shell.execute_reply": "2022-04-27T20:10:32.771565Z",
     "shell.execute_reply.started": "2022-04-27T20:10:32.753379Z"
    },
    "tags": []
   },
   "outputs": [],
   "source": [
    "def dir_graph(undir_edges, rightset, selected):\n",
    "    # edge order independent\n",
    "    for node1, node2 in undir_edges:\n",
    "        if ((node1,node2) in selected or (node2,node1) in selected):\n",
    "            yield (node2,node1) if node2 in rightset else (node1, node2)\n",
    "        else:\n",
    "            yield (node1,node2) if node2 in rightset else (node2, node1)"
   ]
  },
  {
   "cell_type": "code",
   "execution_count": 256,
   "id": "c2f3a7b5-0c1c-4329-ba85-fdadc08e1837",
   "metadata": {
    "execution": {
     "iopub.execute_input": "2022-04-27T20:06:28.262743Z",
     "iopub.status.busy": "2022-04-27T20:06:28.262743Z",
     "iopub.status.idle": "2022-04-27T20:06:28.278240Z",
     "shell.execute_reply": "2022-04-27T20:06:28.278121Z",
     "shell.execute_reply.started": "2022-04-27T20:06:28.262743Z"
    },
    "tags": []
   },
   "outputs": [],
   "source": [
    "def heuristic_permute_tear(undir_edges, rightset):\n",
    "    # edge order independent\n",
    "    G = nx.Graph(undir_edges)\n",
    "    G_original = G.copy()\n",
    "    assignment = tuple()\n",
    "    vertexelim = set()\n",
    "    while G.nodes():\n",
    "        degree = dict(G.degree(rightset))\n",
    "        mindegarg = min(degree, key=degree.get)\n",
    "        argneighbors = list(G.neighbors(mindegarg))\n",
    "        G.remove_node(mindegarg)\n",
    "        if degree[mindegarg] != 0:\n",
    "            assignment += ((mindegarg,argneighbors[0]),)\n",
    "        else:\n",
    "            vertexelim.add((mindegarg, tuple(G_original.neighbors(mindegarg))))\n",
    "        for neighbor in argneighbors:\n",
    "            G.remove_node(neighbor)\n",
    "    return assignment, vertexelim"
   ]
  },
  {
   "cell_type": "code",
   "execution_count": 257,
   "id": "dde933b1-4bb5-4c85-bc4c-5ee96348666a",
   "metadata": {
    "execution": {
     "iopub.execute_input": "2022-04-27T20:06:29.110082Z",
     "iopub.status.busy": "2022-04-27T20:06:29.110082Z",
     "iopub.status.idle": "2022-04-27T20:06:29.121096Z",
     "shell.execute_reply": "2022-04-27T20:06:29.120983Z",
     "shell.execute_reply.started": "2022-04-27T20:06:29.110082Z"
    },
    "tags": []
   },
   "outputs": [],
   "source": [
    "rightset = range(n_eqs) #eqs\n",
    "asg, velim = heuristic_permute_tear(edges_original, rightset)"
   ]
  },
  {
   "cell_type": "code",
   "execution_count": 258,
   "id": "e75ddd88-36dc-49b1-873b-4b5fd4665155",
   "metadata": {
    "execution": {
     "iopub.execute_input": "2022-04-27T20:06:29.655252Z",
     "iopub.status.busy": "2022-04-27T20:06:29.655252Z",
     "iopub.status.idle": "2022-04-27T20:06:29.666481Z",
     "shell.execute_reply": "2022-04-27T20:06:29.666481Z",
     "shell.execute_reply.started": "2022-04-27T20:06:29.655252Z"
    },
    "tags": []
   },
   "outputs": [
    {
     "data": {
      "text/plain": [
       "{(8, (23, 30, 20, 44)),\n",
       " (11, (26, 23, 34, 20)),\n",
       " (17, (21, 25, 26, 23, 30, 38, 31, 35, 29))}"
      ]
     },
     "execution_count": 258,
     "metadata": {},
     "output_type": "execute_result"
    }
   ],
   "source": [
    "velim"
   ]
  },
  {
   "cell_type": "code",
   "execution_count": 231,
   "id": "535b7371-39be-4cc9-8323-d3613ab83e44",
   "metadata": {
    "execution": {
     "iopub.execute_input": "2022-04-27T18:36:55.920486Z",
     "iopub.status.busy": "2022-04-27T18:36:55.920486Z",
     "iopub.status.idle": "2022-04-27T18:36:55.928459Z",
     "shell.execute_reply": "2022-04-27T18:36:55.928459Z",
     "shell.execute_reply.started": "2022-04-27T18:36:55.920486Z"
    },
    "tags": []
   },
   "outputs": [],
   "source": [
    "dedges = dir_graph(graph_edges, asg)"
   ]
  },
  {
   "cell_type": "code",
   "execution_count": 181,
   "id": "8670fb72-c5c8-4334-93db-dac06c70ea23",
   "metadata": {
    "execution": {
     "iopub.execute_input": "2022-04-27T17:16:57.123379Z",
     "iopub.status.busy": "2022-04-27T17:16:57.123379Z",
     "iopub.status.idle": "2022-04-27T17:16:57.129270Z",
     "shell.execute_reply": "2022-04-27T17:16:57.129172Z",
     "shell.execute_reply.started": "2022-04-27T17:16:57.123379Z"
    },
    "tags": []
   },
   "outputs": [],
   "source": [
    "def generate_all_scc(dedges, velim):\n",
    "    scc_full = set() # make sure we don't run into repeated cycles\n",
    "    for v, neighbors in velim:\n",
    "        D = nx.DiGraph(dedges)\n",
    "        for u in neighbors:\n",
    "            D.remove_edge(u,v)\n",
    "            D.add_edge(v,u)\n",
    "            S = nx.strongly_connected_components(D)\n",
    "            scc_nonatomic = (elt for elt in S if len(elt)>1)\n",
    "            for scc in scc_nonatomic:\n",
    "                scc_full.add(tuple(scc))\n",
    "    return scc_full"
   ]
  },
  {
   "cell_type": "code",
   "execution_count": 183,
   "id": "7b12e6e9-0187-4026-b92b-e1978ad5a048",
   "metadata": {
    "execution": {
     "iopub.execute_input": "2022-04-27T17:16:58.833273Z",
     "iopub.status.busy": "2022-04-27T17:16:58.833273Z",
     "iopub.status.idle": "2022-04-27T17:16:58.853375Z",
     "shell.execute_reply": "2022-04-27T17:16:58.853375Z",
     "shell.execute_reply.started": "2022-04-27T17:16:58.833273Z"
    },
    "tags": []
   },
   "outputs": [],
   "source": [
    "c = generate_all_scc(dedges, velim)"
   ]
  },
  {
   "cell_type": "code",
   "execution_count": 221,
   "id": "fb382c78-d6a6-4856-8e05-2453ebb324a0",
   "metadata": {
    "execution": {
     "iopub.execute_input": "2022-04-27T18:33:23.863747Z",
     "iopub.status.busy": "2022-04-27T18:33:23.863747Z",
     "iopub.status.idle": "2022-04-27T18:33:23.875779Z",
     "shell.execute_reply": "2022-04-27T18:33:23.875542Z",
     "shell.execute_reply.started": "2022-04-27T18:33:23.863747Z"
    },
    "tags": []
   },
   "outputs": [],
   "source": [
    "# def generate_all_cycles(dedges, velim):\n",
    "#     cycles = set() # make sure we don't run into repeated cycles\n",
    "#     for v, neighbors in velim:\n",
    "#         D = nx.DiGraph(dedges)\n",
    "#         for u in neighbors:\n",
    "#             D.remove_edge(u,v)\n",
    "#             D.add_edge(v,u)\n",
    "#             for cycle in nx.simple_cycles(D):\n",
    "#                 cycles.add(tuple(cycle))\n",
    "#     return cycles"
   ]
  },
  {
   "cell_type": "code",
   "execution_count": 201,
   "id": "adfa0f6a-3a14-4653-8eae-2e3784b025e5",
   "metadata": {
    "execution": {
     "iopub.execute_input": "2022-04-27T18:11:26.419426Z",
     "iopub.status.busy": "2022-04-27T18:11:26.419426Z",
     "iopub.status.idle": "2022-04-27T18:11:26.428223Z",
     "shell.execute_reply": "2022-04-27T18:11:26.427938Z",
     "shell.execute_reply.started": "2022-04-27T18:11:26.419426Z"
    },
    "tags": []
   },
   "outputs": [
    {
     "data": {
      "text/plain": [
       "22"
      ]
     },
     "execution_count": 201,
     "metadata": {},
     "output_type": "execute_result"
    }
   ],
   "source": [
    "len(c)"
   ]
  },
  {
   "cell_type": "code",
   "execution_count": 75,
   "id": "6c322553-8309-494e-91b5-43f2eea35b82",
   "metadata": {
    "execution": {
     "iopub.execute_input": "2022-04-27T16:51:37.519810Z",
     "iopub.status.busy": "2022-04-27T16:51:37.519247Z",
     "iopub.status.idle": "2022-04-27T16:51:37.524045Z",
     "shell.execute_reply": "2022-04-27T16:51:37.523978Z",
     "shell.execute_reply.started": "2022-04-27T16:51:37.519810Z"
    }
   },
   "outputs": [
    {
     "data": {
      "text/plain": [
       "[(0, 3),\n",
       " (5, 0),\n",
       " (6, 0),\n",
       " (7, 0),\n",
       " (3, 1),\n",
       " (1, 4),\n",
       " (7, 1),\n",
       " (6, 1),\n",
       " (3, 2),\n",
       " (4, 2),\n",
       " (5, 2),\n",
       " (6, 2),\n",
       " (7, 2)]"
      ]
     },
     "execution_count": 75,
     "metadata": {},
     "output_type": "execute_result"
    }
   ],
   "source": [
    "dedges"
   ]
  },
  {
   "cell_type": "code",
   "execution_count": 124,
   "id": "ab891b6a-cd64-468c-978a-0e567063c55c",
   "metadata": {
    "execution": {
     "iopub.execute_input": "2022-04-27T16:58:51.948255Z",
     "iopub.status.busy": "2022-04-27T16:58:51.948255Z",
     "iopub.status.idle": "2022-04-27T16:58:51.959064Z",
     "shell.execute_reply": "2022-04-27T16:58:51.958826Z",
     "shell.execute_reply.started": "2022-04-27T16:58:51.948255Z"
    },
    "tags": []
   },
   "outputs": [],
   "source": [
    "dedges = dir_graph(graph_edges,asg.items())\n",
    "D = nx.DiGraph(dedges)"
   ]
  },
  {
   "cell_type": "code",
   "execution_count": 115,
   "id": "935d2718-5e95-43cd-991a-602652f7282e",
   "metadata": {
    "execution": {
     "iopub.execute_input": "2022-04-27T16:56:49.469076Z",
     "iopub.status.busy": "2022-04-27T16:56:49.469076Z",
     "iopub.status.idle": "2022-04-27T16:56:49.477225Z",
     "shell.execute_reply": "2022-04-27T16:56:49.477225Z",
     "shell.execute_reply.started": "2022-04-27T16:56:49.469076Z"
    },
    "tags": []
   },
   "outputs": [
    {
     "data": {
      "text/plain": [
       "[(0, 3),\n",
       " (5, 0),\n",
       " (6, 0),\n",
       " (7, 0),\n",
       " (3, 1),\n",
       " (1, 4),\n",
       " (7, 1),\n",
       " (6, 1),\n",
       " (3, 2),\n",
       " (4, 2),\n",
       " (5, 2),\n",
       " (6, 2),\n",
       " (7, 2)]"
      ]
     },
     "execution_count": 115,
     "metadata": {},
     "output_type": "execute_result"
    }
   ],
   "source": [
    "dedges"
   ]
  },
  {
   "cell_type": "code",
   "execution_count": 95,
   "id": "50b6b438-a826-45b4-b20e-6b9c36e937b8",
   "metadata": {
    "execution": {
     "iopub.execute_input": "2022-04-27T16:53:16.727653Z",
     "iopub.status.busy": "2022-04-27T16:53:16.727653Z",
     "iopub.status.idle": "2022-04-27T16:53:16.733465Z",
     "shell.execute_reply": "2022-04-27T16:53:16.733465Z",
     "shell.execute_reply.started": "2022-04-27T16:53:16.727653Z"
    },
    "tags": []
   },
   "outputs": [],
   "source": [
    "v,u = 2, 3\n",
    "D.remove_edge(u,v)\n",
    "D.add_edge(v,u)"
   ]
  },
  {
   "cell_type": "code",
   "execution_count": 96,
   "id": "58d9ac38-b663-4ccf-84f1-cf64822eecfd",
   "metadata": {
    "execution": {
     "iopub.execute_input": "2022-04-27T16:53:17.057717Z",
     "iopub.status.busy": "2022-04-27T16:53:17.057717Z",
     "iopub.status.idle": "2022-04-27T16:53:17.082355Z",
     "shell.execute_reply": "2022-04-27T16:53:17.082303Z",
     "shell.execute_reply.started": "2022-04-27T16:53:17.057717Z"
    },
    "tags": []
   },
   "outputs": [
    {
     "data": {
      "text/plain": [
       "[[1, 4, 2, 3]]"
      ]
     },
     "execution_count": 96,
     "metadata": {},
     "output_type": "execute_result"
    }
   ],
   "source": [
    "list(nx.simple_cycles(nx.DiGraph(D)))"
   ]
  },
  {
   "cell_type": "code",
   "execution_count": null,
   "id": "2e26f52c-eba5-4366-b457-b318b61cf23a",
   "metadata": {},
   "outputs": [],
   "source": [
    "for elt in asg:\n",
    "    D = nx.DiGraph(dir_edges)"
   ]
  },
  {
   "cell_type": "code",
   "execution_count": 21,
   "id": "7329e94b-d802-41b4-bc81-08e43d733f36",
   "metadata": {
    "execution": {
     "iopub.execute_input": "2022-04-27T16:34:07.846830Z",
     "iopub.status.busy": "2022-04-27T16:34:07.846830Z",
     "iopub.status.idle": "2022-04-27T16:34:07.870567Z",
     "shell.execute_reply": "2022-04-27T16:34:07.870567Z",
     "shell.execute_reply.started": "2022-04-27T16:34:07.846830Z"
    },
    "tags": []
   },
   "outputs": [
    {
     "data": {
      "text/plain": [
       "((5, 10),\n",
       " (0, 20),\n",
       " (1, 12),\n",
       " (7, 14),\n",
       " (9, 13),\n",
       " (2, 19),\n",
       " (4, 23),\n",
       " (3, 16),\n",
       " (6, 15))"
      ]
     },
     "execution_count": 21,
     "metadata": {},
     "output_type": "execute_result"
    }
   ],
   "source": [
    "tuple(asg.items())"
   ]
  },
  {
   "cell_type": "code",
   "execution_count": 14,
   "id": "8126068b-a48a-48de-a8c7-7b85c149109a",
   "metadata": {
    "execution": {
     "iopub.execute_input": "2022-04-27T16:32:04.772851Z",
     "iopub.status.busy": "2022-04-27T16:32:04.772851Z",
     "iopub.status.idle": "2022-04-27T16:32:04.787557Z",
     "shell.execute_reply": "2022-04-27T16:32:04.787349Z",
     "shell.execute_reply.started": "2022-04-27T16:32:04.772851Z"
    },
    "tags": []
   },
   "outputs": [],
   "source": [
    "G = nx.Graph(edges_original)\n",
    "cntr = 0\n",
    "new_out = dict()\n",
    "while G.nodes():\n",
    "    cntr+=1\n",
    "    d = dict(G.degree(range(n_eqs)))\n",
    "    mind = min(d, key=d.get)\n",
    "    ns = list(G.neighbors(mind))\n",
    "    G.remove_node(mind)\n",
    "    if d[mind] != 0:\n",
    "        first_elt = ns[0]\n",
    "        new_out[mind] = first_elt\n",
    "    for elt in ns:\n",
    "        G.remove_node(elt)"
   ]
  },
  {
   "cell_type": "code",
   "execution_count": 15,
   "id": "61e18a6c-cb74-4932-b204-85dab20aad54",
   "metadata": {
    "execution": {
     "iopub.execute_input": "2022-04-27T16:32:05.262280Z",
     "iopub.status.busy": "2022-04-27T16:32:05.262280Z",
     "iopub.status.idle": "2022-04-27T16:32:05.281274Z",
     "shell.execute_reply": "2022-04-27T16:32:05.281274Z",
     "shell.execute_reply.started": "2022-04-27T16:32:05.262280Z"
    },
    "tags": []
   },
   "outputs": [
    {
     "data": {
      "text/plain": [
       "{8}"
      ]
     },
     "execution_count": 15,
     "metadata": {},
     "output_type": "execute_result"
    }
   ],
   "source": [
    "set(range(n_eqs))-new_out.keys()"
   ]
  },
  {
   "cell_type": "code",
   "execution_count": 56,
   "id": "1fa255f5-2e15-40d8-bcfa-601314607aba",
   "metadata": {
    "execution": {
     "iopub.execute_input": "2022-04-21T16:24:05.234520Z",
     "iopub.status.busy": "2022-04-21T16:24:05.234520Z",
     "iopub.status.idle": "2022-04-21T16:24:05.253262Z",
     "shell.execute_reply": "2022-04-21T16:24:05.252759Z",
     "shell.execute_reply.started": "2022-04-21T16:24:05.234520Z"
    },
    "tags": []
   },
   "outputs": [],
   "source": [
    "def dir_graph(edges, selected):\n",
    "    dir_edges = [(r,j) if (r,j) in selected else (j,r) for (r,j) in edges]\n",
    "    return dir_edges"
   ]
  },
  {
   "cell_type": "code",
   "execution_count": 57,
   "id": "d53646ee-6cb2-4a78-bd45-61fb472742ab",
   "metadata": {
    "execution": {
     "iopub.execute_input": "2022-04-21T16:24:05.625025Z",
     "iopub.status.busy": "2022-04-21T16:24:05.625025Z",
     "iopub.status.idle": "2022-04-21T16:24:05.640937Z",
     "shell.execute_reply": "2022-04-21T16:24:05.640234Z",
     "shell.execute_reply.started": "2022-04-21T16:24:05.625025Z"
    },
    "tags": []
   },
   "outputs": [],
   "source": [
    "D = nx.DiGraph(dir_graph(graph_edges, new_out.items()))"
   ]
  },
  {
   "cell_type": "code",
   "execution_count": 58,
   "id": "5b55f479-6546-4671-a7e7-c4274488035f",
   "metadata": {
    "execution": {
     "iopub.execute_input": "2022-04-21T16:24:05.859200Z",
     "iopub.status.busy": "2022-04-21T16:24:05.859200Z",
     "iopub.status.idle": "2022-04-21T16:24:05.873079Z",
     "shell.execute_reply": "2022-04-21T16:24:05.873079Z",
     "shell.execute_reply.started": "2022-04-21T16:24:05.859200Z"
    },
    "tags": []
   },
   "outputs": [
    {
     "data": {
      "text/plain": [
       "True"
      ]
     },
     "execution_count": 58,
     "metadata": {},
     "output_type": "execute_result"
    }
   ],
   "source": [
    "nx.is_directed_acyclic_graph(D)"
   ]
  },
  {
   "cell_type": "code",
   "execution_count": 50,
   "id": "5a93fa8f-6516-4835-bf84-de8af4d94058",
   "metadata": {
    "execution": {
     "iopub.execute_input": "2022-04-21T15:27:45.562862Z",
     "iopub.status.busy": "2022-04-21T15:27:45.562862Z",
     "iopub.status.idle": "2022-04-21T15:27:45.577181Z",
     "shell.execute_reply": "2022-04-21T15:27:45.576910Z",
     "shell.execute_reply.started": "2022-04-21T15:27:45.562862Z"
    },
    "tags": []
   },
   "outputs": [],
   "source": [
    "mind = min(d, key=d.get)"
   ]
  },
  {
   "cell_type": "code",
   "execution_count": 51,
   "id": "a2ff68f4-70bd-4314-924c-50536d78083a",
   "metadata": {
    "execution": {
     "iopub.execute_input": "2022-04-21T15:27:48.437296Z",
     "iopub.status.busy": "2022-04-21T15:27:48.437296Z",
     "iopub.status.idle": "2022-04-21T15:27:48.457377Z",
     "shell.execute_reply": "2022-04-21T15:27:48.456875Z",
     "shell.execute_reply.started": "2022-04-21T15:27:48.437296Z"
    },
    "tags": []
   },
   "outputs": [],
   "source": [
    "ns = list(G.neighbors(mind))\n",
    "if d[mind] != 0:\n",
    "    first_elt = ns[0]\n",
    "    new_out = {mind: first_elt}\n",
    "for elt in ns:\n",
    "    G.remove_node(elt)"
   ]
  },
  {
   "cell_type": "code",
   "execution_count": 53,
   "id": "5be76425-2c85-4250-8459-48a7904a2408",
   "metadata": {
    "execution": {
     "iopub.execute_input": "2022-04-21T15:27:54.046467Z",
     "iopub.status.busy": "2022-04-21T15:27:54.046467Z",
     "iopub.status.idle": "2022-04-21T15:27:54.059981Z",
     "shell.execute_reply": "2022-04-21T15:27:54.059177Z",
     "shell.execute_reply.started": "2022-04-21T15:27:54.046467Z"
    },
    "tags": []
   },
   "outputs": [
    {
     "data": {
      "text/plain": [
       "{2: 22}"
      ]
     },
     "execution_count": 53,
     "metadata": {},
     "output_type": "execute_result"
    }
   ],
   "source": [
    "new_out"
   ]
  },
  {
   "cell_type": "code",
   "execution_count": 17,
   "id": "1ac13308-49c2-4661-9dde-d3586477e06c",
   "metadata": {
    "execution": {
     "iopub.execute_input": "2022-04-21T15:21:32.957752Z",
     "iopub.status.busy": "2022-04-21T15:21:32.957752Z",
     "iopub.status.idle": "2022-04-21T15:21:32.975792Z",
     "shell.execute_reply": "2022-04-21T15:21:32.975188Z",
     "shell.execute_reply.started": "2022-04-21T15:21:32.957752Z"
    },
    "tags": []
   },
   "outputs": [
    {
     "data": {
      "text/plain": [
       "2"
      ]
     },
     "execution_count": 17,
     "metadata": {},
     "output_type": "execute_result"
    }
   ],
   "source": [
    "min(d, key=d.get)"
   ]
  },
  {
   "cell_type": "code",
   "execution_count": 18,
   "id": "880d267a-7555-4f80-9d63-90b2a9f8df05",
   "metadata": {
    "execution": {
     "iopub.execute_input": "2022-04-21T15:21:37.570373Z",
     "iopub.status.busy": "2022-04-21T15:21:37.570373Z",
     "iopub.status.idle": "2022-04-21T15:21:37.580256Z",
     "shell.execute_reply": "2022-04-21T15:21:37.579592Z",
     "shell.execute_reply.started": "2022-04-21T15:21:37.570373Z"
    }
   },
   "outputs": [
    {
     "data": {
      "text/plain": [
       "{0: 4,\n",
       " 1: 3,\n",
       " 2: 1,\n",
       " 3: 7,\n",
       " 4: 7,\n",
       " 5: 5,\n",
       " 6: 3,\n",
       " 7: 6,\n",
       " 8: 4,\n",
       " 9: 4,\n",
       " 10: 4,\n",
       " 11: 4,\n",
       " 12: 6,\n",
       " 13: 5,\n",
       " 14: 2,\n",
       " 15: 8,\n",
       " 16: 3,\n",
       " 17: 9,\n",
       " 18: 5,\n",
       " 19: 3}"
      ]
     },
     "execution_count": 18,
     "metadata": {},
     "output_type": "execute_result"
    }
   ],
   "source": [
    "d"
   ]
  },
  {
   "cell_type": "code",
   "execution_count": null,
   "id": "4ae0d2a2-a834-4031-9489-cf0fc1f1217e",
   "metadata": {},
   "outputs": [],
   "source": []
  }
 ],
 "metadata": {
  "kernelspec": {
   "display_name": "Python [conda env:mdo]",
   "language": "python",
   "name": "conda-env-mdo-py"
  },
  "language_info": {
   "codemirror_mode": {
    "name": "ipython",
    "version": 3
   },
   "file_extension": ".py",
   "mimetype": "text/x-python",
   "name": "python",
   "nbconvert_exporter": "python",
   "pygments_lexer": "ipython3",
   "version": "3.9.13"
  }
 },
 "nbformat": 4,
 "nbformat_minor": 5
}
