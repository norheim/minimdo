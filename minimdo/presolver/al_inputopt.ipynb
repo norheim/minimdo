{
 "cells": [
  {
   "cell_type": "markdown",
   "id": "762b53b5",
   "metadata": {},
   "source": [
    "Formerly called minreverse"
   ]
  },
  {
   "cell_type": "code",
   "execution_count": 1,
   "id": "c8759526",
   "metadata": {},
   "outputs": [],
   "source": [
    "from modeling.compute import Var\n",
    "from modeling.gen1.compute import Evaluable\n",
    "a,b,c,d = Var('a'), Var('b'), Var('c'), Var('d')\n",
    "eqlist = [(b,c+1),(a,b-2),(a,2*d+3)]\n",
    "eqs = {idx: eq for idx, eq in enumerate(eqlist)}\n",
    "eq = eqlist[0]\n",
    "ev = Evaluable.fromsympy(eq[0]-eq[1])"
   ]
  },
  {
   "cell_type": "code",
   "execution_count": 2,
   "id": "4fad70b1",
   "metadata": {},
   "outputs": [],
   "source": [
    "import openmdao.api as om\n",
    "from problemgen.gen1.openmdao import Impcomp"
   ]
  },
  {
   "cell_type": "code",
   "execution_count": 3,
   "id": "46bcae7b",
   "metadata": {},
   "outputs": [
    {
     "name": "stdout",
     "output_type": "stream",
     "text": [
      "NL: Newton Converged in 1 iterations\n",
      "[4.]\n"
     ]
    }
   ],
   "source": [
    "prob = om.Problem()\n",
    "model = prob.model\n",
    "\n",
    "model.add_subsystem('comp', Impcomp(equation = ev, output_name='b'), promotes=['*'])\n",
    "model.nonlinear_solver = om.NewtonSolver(solve_subsystems=False)\n",
    "model.linear_solver = om.ScipyKrylov()\n",
    "\n",
    "prob.setup()\n",
    "prob.set_val('c', 3.)\n",
    "prob.run_model()\n",
    "\n",
    "print(prob.get_val('comp.b'))"
   ]
  },
  {
   "cell_type": "code",
   "execution_count": 4,
   "id": "f33c5119",
   "metadata": {},
   "outputs": [],
   "source": [
    "from trash.inputresolver import eqvars, default_out, getallvars, var_matched_cons, invert_edges\n",
    "from graph.graphview import bipartite_repr"
   ]
  },
  {
   "cell_type": "code",
   "execution_count": 5,
   "id": "dc86549a",
   "metadata": {},
   "outputs": [],
   "source": [
    "dout = default_out(eqs)\n",
    "vrs = getallvars(eqs)\n",
    "eqns = eqs.keys()\n",
    "eqv = eqvars(eqs)\n",
    "G, edges_original = bipartite_repr(eqv)\n",
    "edges = invert_edges(edges_original)"
   ]
  },
  {
   "cell_type": "code",
   "execution_count": 19,
   "id": "b2774380",
   "metadata": {},
   "outputs": [
    {
     "data": {
      "text/plain": [
       "{0: b, 1: a, 2: a}"
      ]
     },
     "execution_count": 19,
     "metadata": {},
     "output_type": "execute_result"
    }
   ],
   "source": [
    "dout"
   ]
  },
  {
   "cell_type": "code",
   "execution_count": 17,
   "id": "8ed1b55a",
   "metadata": {},
   "outputs": [
    {
     "data": {
      "text/plain": [
       "[(0, b), (0, c), (1, a), (1, b), (2, a), (2, d)]"
      ]
     },
     "execution_count": 17,
     "metadata": {},
     "output_type": "execute_result"
    }
   ],
   "source": [
    "edges = [(0, b), (0, c), (1, a), (1, b), (2, a), (2, d)]"
   ]
  },
  {
   "cell_type": "code",
   "execution_count": 7,
   "id": "5820d727",
   "metadata": {
    "execution": {
     "iopub.execute_input": "2021-07-28T09:53:12.115225Z",
     "iopub.status.busy": "2021-07-28T09:53:12.115225Z",
     "iopub.status.idle": "2021-07-28T09:53:12.165220Z",
     "shell.execute_reply": "2021-07-28T09:53:12.163219Z",
     "shell.execute_reply.started": "2021-07-28T09:53:12.115225Z"
    }
   },
   "outputs": [],
   "source": [
    "import gurobipy as gp\n",
    "from gurobipy import GRB"
   ]
  },
  {
   "cell_type": "code",
   "execution_count": 8,
   "id": "dc239eba",
   "metadata": {
    "execution": {
     "iopub.execute_input": "2021-07-26T13:42:19.664618Z",
     "iopub.status.busy": "2021-07-26T13:42:19.664618Z",
     "iopub.status.idle": "2021-07-26T13:42:19.679619Z",
     "shell.execute_reply": "2021-07-26T13:42:19.678620Z",
     "shell.execute_reply.started": "2021-07-26T13:42:19.664618Z"
    }
   },
   "outputs": [],
   "source": [
    "not_input = []\n",
    "n_eqs = len(eqns)"
   ]
  },
  {
   "cell_type": "code",
   "execution_count": 9,
   "id": "877f931f",
   "metadata": {
    "execution": {
     "iopub.execute_input": "2021-07-26T13:42:43.451451Z",
     "iopub.status.busy": "2021-07-26T13:42:43.451451Z",
     "iopub.status.idle": "2021-07-26T13:42:43.470426Z",
     "shell.execute_reply": "2021-07-26T13:42:43.469425Z",
     "shell.execute_reply.started": "2021-07-26T13:42:43.451451Z"
    }
   },
   "outputs": [
    {
     "name": "stdout",
     "output_type": "stream",
     "text": [
      "Set parameter WLSAccessID\n",
      "Set parameter WLSSecret\n",
      "Set parameter LicenseID to value 2527862\n",
      "Academic license 2527862 - for non-commercial use only - registered to no___@mit.edu\n"
     ]
    }
   ],
   "source": [
    "m = gp.Model('minrevassign')\n",
    "m.setParam('OutputFlag', False)\n",
    "x = m.addVars(edges, name=\"assign\", vtype=GRB.BINARY)"
   ]
  },
  {
   "cell_type": "code",
   "execution_count": 21,
   "id": "74dc8bac",
   "metadata": {},
   "outputs": [
    {
     "data": {
      "text/plain": [
       "[(0, b), (0, c), (1, a), (1, b), (2, a), (2, d)]"
      ]
     },
     "execution_count": 21,
     "metadata": {},
     "output_type": "execute_result"
    }
   ],
   "source": [
    "edges"
   ]
  },
  {
   "cell_type": "code",
   "execution_count": 11,
   "id": "5f7aa86c",
   "metadata": {
    "execution": {
     "iopub.execute_input": "2021-07-26T13:42:43.928005Z",
     "iopub.status.busy": "2021-07-26T13:42:43.925005Z",
     "iopub.status.idle": "2021-07-26T13:42:43.961545Z",
     "shell.execute_reply": "2021-07-26T13:42:43.958545Z",
     "shell.execute_reply.started": "2021-07-26T13:42:43.926998Z"
    }
   },
   "outputs": [],
   "source": [
    "# Matching eqs:\n",
    "fcons = m.addConstrs((x.sum(j,'*') == 1 for j in eqns), name='equations')\n",
    "varcons = m.addConstrs((var_matched_cons(x, j, not_input) for j in vrs), name='variables')\n",
    "m.setObjective(gp.quicksum([x[(key, var)] for key,var in dout.items()]), GRB.MAXIMIZE)\n",
    "# Elimination\n",
    "#m.addConstr(gp.quicksum(x[(r,j)] for r,j in sol)<= n_eqs-1) "
   ]
  },
  {
   "cell_type": "code",
   "execution_count": 12,
   "id": "09745433",
   "metadata": {
    "execution": {
     "iopub.execute_input": "2021-07-26T13:42:44.582144Z",
     "iopub.status.busy": "2021-07-26T13:42:44.581149Z",
     "iopub.status.idle": "2021-07-26T13:42:44.604139Z",
     "shell.execute_reply": "2021-07-26T13:42:44.603137Z",
     "shell.execute_reply.started": "2021-07-26T13:42:44.581149Z"
    }
   },
   "outputs": [],
   "source": [
    "m.optimize()"
   ]
  },
  {
   "cell_type": "code",
   "execution_count": 13,
   "id": "02a62a7f",
   "metadata": {
    "execution": {
     "iopub.execute_input": "2021-07-26T13:42:45.543058Z",
     "iopub.status.busy": "2021-07-26T13:42:45.543058Z",
     "iopub.status.idle": "2021-07-26T13:42:45.557645Z",
     "shell.execute_reply": "2021-07-26T13:42:45.556640Z",
     "shell.execute_reply.started": "2021-07-26T13:42:45.543058Z"
    }
   },
   "outputs": [
    {
     "data": {
      "text/plain": [
       "2.0"
      ]
     },
     "execution_count": 13,
     "metadata": {},
     "output_type": "execute_result"
    }
   ],
   "source": [
    "m.objVal"
   ]
  },
  {
   "cell_type": "code",
   "execution_count": 14,
   "id": "58d47e82",
   "metadata": {
    "execution": {
     "iopub.execute_input": "2021-07-26T13:42:47.147380Z",
     "iopub.status.busy": "2021-07-26T13:42:47.146374Z",
     "iopub.status.idle": "2021-07-26T13:42:47.167035Z",
     "shell.execute_reply": "2021-07-26T13:42:47.166060Z",
     "shell.execute_reply.started": "2021-07-26T13:42:47.147380Z"
    }
   },
   "outputs": [],
   "source": [
    "sol = [(r,j) for (r, j) in edges if x[r,j].x>1e-6]"
   ]
  },
  {
   "cell_type": "code",
   "execution_count": 15,
   "id": "e21b3dfa",
   "metadata": {
    "execution": {
     "iopub.execute_input": "2021-07-26T14:00:06.310747Z",
     "iopub.status.busy": "2021-07-26T14:00:06.310747Z",
     "iopub.status.idle": "2021-07-26T14:00:06.324748Z",
     "shell.execute_reply": "2021-07-26T14:00:06.323750Z",
     "shell.execute_reply.started": "2021-07-26T14:00:06.310747Z"
    }
   },
   "outputs": [],
   "source": [
    "sol_outset = {key:val for key,val in sol}"
   ]
  },
  {
   "cell_type": "code",
   "execution_count": 16,
   "id": "b709d7e3",
   "metadata": {
    "execution": {
     "iopub.execute_input": "2021-07-26T14:00:08.619756Z",
     "iopub.status.busy": "2021-07-26T14:00:08.619756Z",
     "iopub.status.idle": "2021-07-26T14:00:08.638752Z",
     "shell.execute_reply": "2021-07-26T14:00:08.637752Z",
     "shell.execute_reply.started": "2021-07-26T14:00:08.619756Z"
    }
   },
   "outputs": [
    {
     "data": {
      "text/plain": [
       "{0: b, 1: a, 2: d}"
      ]
     },
     "execution_count": 16,
     "metadata": {},
     "output_type": "execute_result"
    }
   ],
   "source": [
    "sol_outset"
   ]
  }
 ],
 "metadata": {
  "kernelspec": {
   "display_name": "minimdo",
   "language": "python",
   "name": "python3"
  },
  "language_info": {
   "codemirror_mode": {
    "name": "ipython",
    "version": 3
   },
   "file_extension": ".py",
   "mimetype": "text/x-python",
   "name": "python",
   "nbconvert_exporter": "python",
   "pygments_lexer": "ipython3",
   "version": "3.9.18"
  }
 },
 "nbformat": 4,
 "nbformat_minor": 5
}
