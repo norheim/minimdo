{
 "cells": [
  {
   "cell_type": "markdown",
   "id": "762b53b5",
   "metadata": {},
   "source": [
    "Formerly called minreverse\n",
    "\n",
    "checkout multioutvar.ipynb"
   ]
  },
  {
   "cell_type": "code",
   "execution_count": 1,
   "id": "5820d727",
   "metadata": {
    "execution": {
     "iopub.execute_input": "2021-07-28T09:53:12.115225Z",
     "iopub.status.busy": "2021-07-28T09:53:12.115225Z",
     "iopub.status.idle": "2021-07-28T09:53:12.165220Z",
     "shell.execute_reply": "2021-07-28T09:53:12.163219Z",
     "shell.execute_reply.started": "2021-07-28T09:53:12.115225Z"
    }
   },
   "outputs": [],
   "source": [
    "import gurobipy as gp\n",
    "from gurobipy import GRB"
   ]
  },
  {
   "cell_type": "code",
   "execution_count": 2,
   "id": "a077b393",
   "metadata": {
    "execution": {
     "iopub.execute_input": "2021-07-28T09:53:12.169222Z",
     "iopub.status.busy": "2021-07-28T09:53:12.169222Z",
     "iopub.status.idle": "2021-07-28T09:53:19.557231Z",
     "shell.execute_reply": "2021-07-28T09:53:19.556229Z",
     "shell.execute_reply.started": "2021-07-28T09:53:12.169222Z"
    }
   },
   "outputs": [
    {
     "name": "stdout",
     "output_type": "stream",
     "text": [
      "Unable to import mpi4py. Parallel processing unavailable.\n",
      "Unable to import petsc4py. Parallel processing unavailable.\n",
      "Unable to import petsc4py. Parallel processing unavailable.\n"
     ]
    }
   ],
   "source": [
    "from compute import Var, eqvar, Evaluable, ureg, coupled_run, buildidpvars, Impcomp\n",
    "from inputresolver import reassigneq, eqvars, eqsonly, default_out, mdf_order, getdofs, idx_eqlist, getallvars, invert_edges, var_matched_cons\n",
    "from inputresolver import reassign\n",
    "from compute_utils import get_outputs, check_eqs\n",
    "from representations import bipartite_repr, drawbipartite, digraph_repr\n",
    "import openmdao.api as om\n",
    "import sympy as sp\n",
    "import networkx as nx\n",
    "from functools import reduce"
   ]
  },
  {
   "cell_type": "code",
   "execution_count": 3,
   "id": "5546da58",
   "metadata": {
    "execution": {
     "iopub.execute_input": "2021-07-28T09:53:19.561235Z",
     "iopub.status.busy": "2021-07-28T09:53:19.560231Z",
     "iopub.status.idle": "2021-07-28T09:53:19.589228Z",
     "shell.execute_reply": "2021-07-28T09:53:19.587229Z",
     "shell.execute_reply.started": "2021-07-28T09:53:19.561235Z"
    }
   },
   "outputs": [],
   "source": [
    "class Impcomp(om.ImplicitComponent):\n",
    "    def initialize(self):\n",
    "        self.options.declare('equation')\n",
    "        self.options.declare('output_name')\n",
    "        \n",
    "    def setup(self):\n",
    "        equation = self.options['equation']\n",
    "        output_name = self.options['output_name']\n",
    "        self.add_output(output_name)\n",
    "        original_inputs = [inp for inp in equation.input_names if inp != output_name]\n",
    "        for name in original_inputs:\n",
    "            self.add_input(name, val=1.) # add them in the order we lambdify\n",
    "        self.declare_partials(output_name, equation.input_names)\n",
    "\n",
    "    def apply_nonlinear(self, inputs, outputs, residuals):\n",
    "        equation = self.options['equation']\n",
    "        output_name = self.options['output_name']\n",
    "        residuals[output_name] = equation.evaldict({**inputs, **outputs})\n",
    "        \n",
    "    def linearize(self, inputs, outputs, partials):\n",
    "        equation = self.options['equation']\n",
    "        output_name = self.options['output_name']\n",
    "        J = equation.graddict({**inputs, **outputs})\n",
    "        for idx, input_name in enumerate(equation.input_names):\n",
    "            partials[output_name, input_name] = J[idx]"
   ]
  },
  {
   "cell_type": "code",
   "execution_count": 71,
   "id": "8c904194",
   "metadata": {
    "execution": {
     "iopub.execute_input": "2021-07-26T14:44:48.047706Z",
     "iopub.status.busy": "2021-07-26T14:44:48.046704Z",
     "iopub.status.idle": "2021-07-26T14:44:48.090273Z",
     "shell.execute_reply": "2021-07-26T14:44:48.089273Z",
     "shell.execute_reply.started": "2021-07-26T14:44:48.047706Z"
    }
   },
   "outputs": [
    {
     "data": {
      "text/plain": [
       "(b, c + 1)"
      ]
     },
     "execution_count": 71,
     "metadata": {},
     "output_type": "execute_result"
    }
   ],
   "source": [
    "eq = eqlist[0]\n",
    "eq"
   ]
  },
  {
   "cell_type": "code",
   "execution_count": 72,
   "id": "983a13c2",
   "metadata": {
    "execution": {
     "iopub.execute_input": "2021-07-26T14:44:48.675278Z",
     "iopub.status.busy": "2021-07-26T14:44:48.675278Z",
     "iopub.status.idle": "2021-07-26T14:44:48.692276Z",
     "shell.execute_reply": "2021-07-26T14:44:48.691275Z",
     "shell.execute_reply.started": "2021-07-26T14:44:48.675278Z"
    }
   },
   "outputs": [],
   "source": [
    "ev = Evaluable.fromsympy(eq[0]-eq[1])"
   ]
  },
  {
   "cell_type": "code",
   "execution_count": 73,
   "id": "5629fa2c",
   "metadata": {
    "execution": {
     "iopub.execute_input": "2021-07-26T14:44:49.590404Z",
     "iopub.status.busy": "2021-07-26T14:44:49.590404Z",
     "iopub.status.idle": "2021-07-26T14:44:49.602931Z",
     "shell.execute_reply": "2021-07-26T14:44:49.601936Z",
     "shell.execute_reply.started": "2021-07-26T14:44:49.590404Z"
    }
   },
   "outputs": [
    {
     "data": {
      "text/plain": [
       "['c', 'b']"
      ]
     },
     "execution_count": 73,
     "metadata": {},
     "output_type": "execute_result"
    }
   ],
   "source": [
    "ev.input_names"
   ]
  },
  {
   "cell_type": "code",
   "execution_count": 75,
   "id": "60c3d1d1",
   "metadata": {
    "execution": {
     "iopub.execute_input": "2021-07-26T14:45:38.996114Z",
     "iopub.status.busy": "2021-07-26T14:45:38.995114Z",
     "iopub.status.idle": "2021-07-26T14:45:39.039637Z",
     "shell.execute_reply": "2021-07-26T14:45:39.038637Z",
     "shell.execute_reply.started": "2021-07-26T14:45:38.996114Z"
    }
   },
   "outputs": [
    {
     "name": "stdout",
     "output_type": "stream",
     "text": [
      "NL: Newton Converged in 1 iterations\n",
      "[4.]\n"
     ]
    }
   ],
   "source": [
    "prob = om.Problem()\n",
    "model = prob.model\n",
    "\n",
    "model.add_subsystem('comp', Impcomp(equation = ev, output_name='b'), promotes=['*'])\n",
    "model.nonlinear_solver = om.NewtonSolver(solve_subsystems=False)\n",
    "model.linear_solver = om.ScipyKrylov()\n",
    "\n",
    "prob.setup()\n",
    "prob.set_val('c', 3.)\n",
    "prob.run_model()\n",
    "\n",
    "print(prob.get_val('comp.b'))"
   ]
  },
  {
   "cell_type": "code",
   "execution_count": 3,
   "id": "b1fdabac",
   "metadata": {
    "execution": {
     "iopub.execute_input": "2021-07-26T13:21:16.772046Z",
     "iopub.status.busy": "2021-07-26T13:21:16.771048Z",
     "iopub.status.idle": "2021-07-26T13:21:16.793044Z",
     "shell.execute_reply": "2021-07-26T13:21:16.792044Z",
     "shell.execute_reply.started": "2021-07-26T13:21:16.772046Z"
    }
   },
   "outputs": [],
   "source": [
    "a = Var('a')\n",
    "b = Var('b')\n",
    "c = Var('c')\n",
    "d = Var('d')"
   ]
  },
  {
   "cell_type": "code",
   "execution_count": 4,
   "id": "5b03f47d",
   "metadata": {
    "execution": {
     "iopub.execute_input": "2021-07-26T13:21:18.149046Z",
     "iopub.status.busy": "2021-07-26T13:21:18.148045Z",
     "iopub.status.idle": "2021-07-26T13:21:18.408045Z",
     "shell.execute_reply": "2021-07-26T13:21:18.407042Z",
     "shell.execute_reply.started": "2021-07-26T13:21:18.149046Z"
    }
   },
   "outputs": [],
   "source": [
    "eqlist = [(b,c+1),(a,b-2),(a,2*d+3)]"
   ]
  },
  {
   "cell_type": "code",
   "execution_count": 5,
   "id": "660e1d73",
   "metadata": {
    "execution": {
     "iopub.execute_input": "2021-07-26T13:21:32.782514Z",
     "iopub.status.busy": "2021-07-26T13:21:32.781517Z",
     "iopub.status.idle": "2021-07-26T13:21:32.792515Z",
     "shell.execute_reply": "2021-07-26T13:21:32.791511Z",
     "shell.execute_reply.started": "2021-07-26T13:21:32.782514Z"
    }
   },
   "outputs": [],
   "source": [
    "eqs = idx_eqlist(eqlist)\n",
    "eqv = eqvars(eqs)"
   ]
  },
  {
   "cell_type": "code",
   "execution_count": 51,
   "id": "03eb5f79",
   "metadata": {
    "execution": {
     "iopub.execute_input": "2021-07-26T13:59:26.804939Z",
     "iopub.status.busy": "2021-07-26T13:59:26.804939Z",
     "iopub.status.idle": "2021-07-26T13:59:26.856936Z",
     "shell.execute_reply": "2021-07-26T13:59:26.855933Z",
     "shell.execute_reply.started": "2021-07-26T13:59:26.804939Z"
    }
   },
   "outputs": [
    {
     "data": {
      "text/plain": [
       "{0: (b, c + 1), 1: (a, b - 2), 2: (a, 2*d + 3)}"
      ]
     },
     "execution_count": 51,
     "metadata": {},
     "output_type": "execute_result"
    }
   ],
   "source": [
    "eqs"
   ]
  },
  {
   "cell_type": "code",
   "execution_count": 8,
   "id": "90994f1a",
   "metadata": {
    "execution": {
     "iopub.execute_input": "2021-07-26T13:21:49.496384Z",
     "iopub.status.busy": "2021-07-26T13:21:49.496384Z",
     "iopub.status.idle": "2021-07-26T13:21:49.509908Z",
     "shell.execute_reply": "2021-07-26T13:21:49.508913Z",
     "shell.execute_reply.started": "2021-07-26T13:21:49.496384Z"
    }
   },
   "outputs": [
    {
     "data": {
      "text/plain": [
       "{0: {b, c}, 1: {a, b}, 2: {a, d}}"
      ]
     },
     "execution_count": 8,
     "metadata": {},
     "output_type": "execute_result"
    }
   ],
   "source": [
    "eqv"
   ]
  },
  {
   "cell_type": "code",
   "execution_count": 9,
   "id": "c46accc1",
   "metadata": {
    "execution": {
     "iopub.execute_input": "2021-07-26T13:21:59.101212Z",
     "iopub.status.busy": "2021-07-26T13:21:59.101212Z",
     "iopub.status.idle": "2021-07-26T13:21:59.119744Z",
     "shell.execute_reply": "2021-07-26T13:21:59.118777Z",
     "shell.execute_reply.started": "2021-07-26T13:21:59.101212Z"
    }
   },
   "outputs": [],
   "source": [
    "dout = default_out(eqs)"
   ]
  },
  {
   "cell_type": "code",
   "execution_count": 10,
   "id": "042bbfc3",
   "metadata": {
    "execution": {
     "iopub.execute_input": "2021-07-26T13:22:02.987319Z",
     "iopub.status.busy": "2021-07-26T13:22:02.986323Z",
     "iopub.status.idle": "2021-07-26T13:22:02.995317Z",
     "shell.execute_reply": "2021-07-26T13:22:02.994319Z",
     "shell.execute_reply.started": "2021-07-26T13:22:02.987319Z"
    }
   },
   "outputs": [
    {
     "data": {
      "text/plain": [
       "{0: b, 1: a, 2: a}"
      ]
     },
     "execution_count": 10,
     "metadata": {},
     "output_type": "execute_result"
    }
   ],
   "source": [
    "dout"
   ]
  },
  {
   "cell_type": "code",
   "execution_count": 16,
   "id": "480954d5",
   "metadata": {
    "execution": {
     "iopub.execute_input": "2021-07-26T13:26:36.893583Z",
     "iopub.status.busy": "2021-07-26T13:26:36.893583Z",
     "iopub.status.idle": "2021-07-26T13:26:36.908587Z",
     "shell.execute_reply": "2021-07-26T13:26:36.907641Z",
     "shell.execute_reply.started": "2021-07-26T13:26:36.893583Z"
    }
   },
   "outputs": [],
   "source": [
    "G, edges_original = bipartite_repr(eqv)\n",
    "vrs = getallvars(eqs)\n",
    "eqns = eqs.keys()\n",
    "edges = invert_edges(edges_original)"
   ]
  },
  {
   "cell_type": "code",
   "execution_count": 40,
   "id": "dc239eba",
   "metadata": {
    "execution": {
     "iopub.execute_input": "2021-07-26T13:42:19.664618Z",
     "iopub.status.busy": "2021-07-26T13:42:19.664618Z",
     "iopub.status.idle": "2021-07-26T13:42:19.679619Z",
     "shell.execute_reply": "2021-07-26T13:42:19.678620Z",
     "shell.execute_reply.started": "2021-07-26T13:42:19.664618Z"
    }
   },
   "outputs": [],
   "source": [
    "not_input = []\n",
    "n_eqs = len(eqns)"
   ]
  },
  {
   "cell_type": "code",
   "execution_count": 45,
   "id": "877f931f",
   "metadata": {
    "execution": {
     "iopub.execute_input": "2021-07-26T13:42:43.451451Z",
     "iopub.status.busy": "2021-07-26T13:42:43.451451Z",
     "iopub.status.idle": "2021-07-26T13:42:43.470426Z",
     "shell.execute_reply": "2021-07-26T13:42:43.469425Z",
     "shell.execute_reply.started": "2021-07-26T13:42:43.451451Z"
    }
   },
   "outputs": [],
   "source": [
    "m = gp.Model('minrevassign')\n",
    "m.setParam('OutputFlag', False )\n",
    "x = m.addVars(edges, name=\"assign\", vtype=GRB.BINARY)"
   ]
  },
  {
   "cell_type": "code",
   "execution_count": 46,
   "id": "5f7aa86c",
   "metadata": {
    "execution": {
     "iopub.execute_input": "2021-07-26T13:42:43.928005Z",
     "iopub.status.busy": "2021-07-26T13:42:43.925005Z",
     "iopub.status.idle": "2021-07-26T13:42:43.961545Z",
     "shell.execute_reply": "2021-07-26T13:42:43.958545Z",
     "shell.execute_reply.started": "2021-07-26T13:42:43.926998Z"
    }
   },
   "outputs": [],
   "source": [
    "# Matching eqs:\n",
    "fcons = m.addConstrs((x.sum(j,'*') == 1 for j in eqns), name='equations')\n",
    "varcons = m.addConstrs((var_matched_cons(x, j, not_input) for j in vrs), name='variables')\n",
    "m.setObjective(gp.quicksum([x[(key, var)] for key,var in dout.items()]), GRB.MAXIMIZE)\n",
    "#m.addConstr(gp.quicksum(x[(r,j)] for r,j in sol)<= n_eqs-1) "
   ]
  },
  {
   "cell_type": "code",
   "execution_count": 47,
   "id": "09745433",
   "metadata": {
    "execution": {
     "iopub.execute_input": "2021-07-26T13:42:44.582144Z",
     "iopub.status.busy": "2021-07-26T13:42:44.581149Z",
     "iopub.status.idle": "2021-07-26T13:42:44.604139Z",
     "shell.execute_reply": "2021-07-26T13:42:44.603137Z",
     "shell.execute_reply.started": "2021-07-26T13:42:44.581149Z"
    }
   },
   "outputs": [],
   "source": [
    "m.optimize()"
   ]
  },
  {
   "cell_type": "code",
   "execution_count": 48,
   "id": "02a62a7f",
   "metadata": {
    "execution": {
     "iopub.execute_input": "2021-07-26T13:42:45.543058Z",
     "iopub.status.busy": "2021-07-26T13:42:45.543058Z",
     "iopub.status.idle": "2021-07-26T13:42:45.557645Z",
     "shell.execute_reply": "2021-07-26T13:42:45.556640Z",
     "shell.execute_reply.started": "2021-07-26T13:42:45.543058Z"
    }
   },
   "outputs": [
    {
     "data": {
      "text/plain": [
       "2.0"
      ]
     },
     "execution_count": 48,
     "metadata": {},
     "output_type": "execute_result"
    }
   ],
   "source": [
    "m.objVal"
   ]
  },
  {
   "cell_type": "code",
   "execution_count": 49,
   "id": "58d47e82",
   "metadata": {
    "execution": {
     "iopub.execute_input": "2021-07-26T13:42:47.147380Z",
     "iopub.status.busy": "2021-07-26T13:42:47.146374Z",
     "iopub.status.idle": "2021-07-26T13:42:47.167035Z",
     "shell.execute_reply": "2021-07-26T13:42:47.166060Z",
     "shell.execute_reply.started": "2021-07-26T13:42:47.147380Z"
    }
   },
   "outputs": [],
   "source": [
    "sol = [(r,j) for (r, j) in edges if x[r,j].x>1e-6]"
   ]
  },
  {
   "cell_type": "code",
   "execution_count": 52,
   "id": "e21b3dfa",
   "metadata": {
    "execution": {
     "iopub.execute_input": "2021-07-26T14:00:06.310747Z",
     "iopub.status.busy": "2021-07-26T14:00:06.310747Z",
     "iopub.status.idle": "2021-07-26T14:00:06.324748Z",
     "shell.execute_reply": "2021-07-26T14:00:06.323750Z",
     "shell.execute_reply.started": "2021-07-26T14:00:06.310747Z"
    }
   },
   "outputs": [],
   "source": [
    "sol_outset = {key:val for key,val in sol}"
   ]
  },
  {
   "cell_type": "code",
   "execution_count": 53,
   "id": "b709d7e3",
   "metadata": {
    "execution": {
     "iopub.execute_input": "2021-07-26T14:00:08.619756Z",
     "iopub.status.busy": "2021-07-26T14:00:08.619756Z",
     "iopub.status.idle": "2021-07-26T14:00:08.638752Z",
     "shell.execute_reply": "2021-07-26T14:00:08.637752Z",
     "shell.execute_reply.started": "2021-07-26T14:00:08.619756Z"
    }
   },
   "outputs": [
    {
     "data": {
      "text/plain": [
       "{0: b, 1: a, 2: d}"
      ]
     },
     "execution_count": 53,
     "metadata": {},
     "output_type": "execute_result"
    }
   ],
   "source": [
    "sol_outset"
   ]
  }
 ],
 "metadata": {
  "kernelspec": {
   "display_name": "Python [conda env:mdo]",
   "language": "python",
   "name": "conda-env-mdo-py"
  },
  "language_info": {
   "codemirror_mode": {
    "name": "ipython",
    "version": 3
   },
   "file_extension": ".py",
   "mimetype": "text/x-python",
   "name": "python",
   "nbconvert_exporter": "python",
   "pygments_lexer": "ipython3",
   "version": "3.9.7"
  }
 },
 "nbformat": 4,
 "nbformat_minor": 5
}
