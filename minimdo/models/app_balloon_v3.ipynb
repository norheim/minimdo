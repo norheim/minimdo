{
 "cells": [
  {
   "cell_type": "code",
   "execution_count": 1,
   "id": "bfc032ba-da25-4833-93ae-dbfd47985465",
   "metadata": {
    "execution": {
     "iopub.execute_input": "2022-06-06T21:39:29.709236Z",
     "iopub.status.busy": "2022-06-06T21:39:29.709236Z",
     "iopub.status.idle": "2022-06-06T21:39:34.735259Z",
     "shell.execute_reply": "2022-06-06T21:39:34.734382Z",
     "shell.execute_reply.started": "2022-06-06T21:39:29.709236Z"
    },
    "tags": []
   },
   "outputs": [],
   "source": [
    "from constants_balloon import ρinterp, Pinterp, Ginterp, Tinterp\n",
    "from scipy import interpolate\n",
    "import numpy as np"
   ]
  },
  {
   "cell_type": "code",
   "execution_count": 2,
   "id": "22f06cba-1b75-46d8-b037-9a2195d536fa",
   "metadata": {
    "execution": {
     "iopub.execute_input": "2022-06-06T21:39:35.393370Z",
     "iopub.status.busy": "2022-06-06T21:39:35.393110Z",
     "iopub.status.idle": "2022-06-06T21:39:36.114738Z",
     "shell.execute_reply": "2022-06-06T21:39:36.114738Z",
     "shell.execute_reply.started": "2022-06-06T21:39:35.393370Z"
    },
    "tags": []
   },
   "outputs": [],
   "source": [
    "from compute import Var, Par\n",
    "from api import Model, adda, addf, addsolver, setsolvefor\n",
    "from execution import edges_from_components\n",
    "from graphutils import namefromid, dfs_tree, SOLVER, VAR, COMP, nested_sources, sources, edges_to_Ein_Eout, flat_graph_formulation, root_solver\n",
    "from nestedgraph import root_sources\n",
    "from execution import generate_components_and_residuals\n",
    "from workflow import get_f, order_from_tree, default_solver_options, mdao_workflow, implicit_comp_name\n",
    "from workflow_mdao import mdao_workflow_with_args\n",
    "from operators import sort_scc, reorder_merge_solve\n",
    "from assembly import build_archi\n",
    "import openmdao.api as om"
   ]
  },
  {
   "cell_type": "code",
   "execution_count": 3,
   "id": "fb0f2787",
   "metadata": {
    "execution": {
     "iopub.execute_input": "2022-06-06T21:39:36.115714Z",
     "iopub.status.busy": "2022-06-06T21:39:36.115714Z",
     "iopub.status.idle": "2022-06-06T21:39:36.131713Z",
     "shell.execute_reply": "2022-06-06T21:39:36.130732Z",
     "shell.execute_reply.started": "2022-06-06T21:39:36.115714Z"
    },
    "tags": []
   },
   "outputs": [],
   "source": [
    "# from compute import Var, Par, Model, adda, addf, addsolver, geteqs, ureg, Evaluable, buildidpvars, RefNode\n",
    "# from compute import SOLVER, INTER, END, SolverNode\n",
    "# from datastructures import notation_from_tree, all_vars_from_incidence\n",
    "# from notation import generate_execution, sort_scc, graphs_from_incidence, solvers_bottom_up, make_acyclic, default_sequence\n",
    "# #from operators import standardize\n",
    "# from constants_balloon import ρinterp, Pinterp, Ginterp, Tinterp\n",
    "# from scipy import interpolate\n",
    "# import numpy as np\n",
    "# import openmdao.api as om\n",
    "# from representations import render_tree, digraph_repr, drawfull, tree_incidence, getpatchwindow\n",
    "# from utils import normalize_name\n",
    "# from anytree import Node, PreOrderIter,LevelOrderIter,RenderTree\n",
    "# from inputresolver import eqvars\n",
    "# import networkx as nx\n",
    "# import matplotlib.pyplot as plt"
   ]
  },
  {
   "cell_type": "code",
   "execution_count": 4,
   "id": "a6afa10b",
   "metadata": {
    "execution": {
     "iopub.execute_input": "2022-06-06T21:39:36.626144Z",
     "iopub.status.busy": "2022-06-06T21:39:36.626144Z",
     "iopub.status.idle": "2022-06-06T21:39:36.630098Z",
     "shell.execute_reply": "2022-06-06T21:39:36.629482Z",
     "shell.execute_reply.started": "2022-06-06T21:39:36.626144Z"
    },
    "tags": []
   },
   "outputs": [],
   "source": [
    "#from notationcompute import optsolver, solver, explicit"
   ]
  },
  {
   "cell_type": "code",
   "execution_count": 5,
   "id": "ce17828c",
   "metadata": {
    "execution": {
     "iopub.execute_input": "2022-06-06T21:39:37.038999Z",
     "iopub.status.busy": "2022-06-06T21:39:37.038999Z",
     "iopub.status.idle": "2022-06-06T21:39:37.149364Z",
     "shell.execute_reply": "2022-06-06T21:39:37.148477Z",
     "shell.execute_reply.started": "2022-06-06T21:39:37.038999Z"
    },
    "tags": []
   },
   "outputs": [],
   "source": [
    "model = Model()\n",
    "m = model.root\n",
    "#m = RefNode(name='/', ref=model)\n",
    "rho0 = Par('\\\\rho_0', ρinterp(0), 'kg/m^3')\n",
    "T0 = Par('T_0', Tinterp(0), 'K')\n",
    "P0 = Par('P_0', Pinterp(0), 'Pa')\n",
    "G0 = Par('G_0', Ginterp(0), 'm/s^2')\n",
    "\n",
    "k = Par('k', 1.38064852e-23, 'J/K')\n",
    "mm_He = Par('M_{He}', 6.64e-27, 'kg')\n",
    "mm_H2 = Par('M_{H2}', 1.66e-27, 'kg')\n",
    "C_D = Par('C_D', 0.47)\n",
    "\n",
    "m_parafoil = Par('m_p', 500., 'kg')\n",
    "m_vhc = Par('m_v', 4545, 'kg')\n",
    "m_lg = Var('m_l', unit='kg')\n",
    "m_b = Var('m_b', unit='kg')\n",
    "m_t = Var('m_t', unit='kg')\n",
    "adda(m, m_t, m_vhc+m_parafoil+m_lg+m_b)\n",
    "\n",
    "s1 = addsolver(m)\n",
    "alpha = Par('a', 0)\n",
    "v_rise = Par('v', 6, 'm/s')\n",
    "r0 = Var('r_0', unit='m')\n",
    "A0 = adda(s1, 'A_0', np.pi*r0**2)\n",
    "V0 = adda(s1, 'V_0', 4/3*np.pi*r0**3)\n",
    "rho_LG0 = adda(s1, '\\\\rho_{LG0}', P0*(alpha*mm_He+(1-alpha)*mm_H2)/(k*T0))\n",
    "adda(s1, m_lg, V0*rho_LG0)\n",
    "\n",
    "L0 = adda(s1, 'L_0', rho0*V0*G0)\n",
    "W0 = adda(s1, 'W_0', m_t*G0)\n",
    "D0 = adda(s1, 'D_0', 1/2*C_D*rho0*v_rise**2*A0)\n",
    "R1 = addf(s1, L0-D0-W0)\n",
    "setsolvefor(s1, [r0])"
   ]
  },
  {
   "cell_type": "code",
   "execution_count": 6,
   "id": "5a8d17ad-aa66-474b-a2f4-ebb403c3830d",
   "metadata": {
    "execution": {
     "iopub.execute_input": "2022-06-06T21:39:37.843584Z",
     "iopub.status.busy": "2022-06-06T21:39:37.843584Z",
     "iopub.status.idle": "2022-06-06T21:39:37.867268Z",
     "shell.execute_reply": "2022-06-06T21:39:37.866760Z",
     "shell.execute_reply.started": "2022-06-06T21:39:37.843584Z"
    },
    "tags": []
   },
   "outputs": [],
   "source": [
    "z = 30e3 # some reference altitude for the analysis\n",
    "rhoval = Par('rhoval', ρinterp(z), 'kg/m^3')\n",
    "pval = Par('pval', Pinterp(z), 'Pa')\n",
    "Tval = Par('Tval', Tinterp(z), 'K')\n",
    "gval = Par('gval', Ginterp(z), 'm/s^2')\n",
    "rz = Var('r_z', unit='m')\n",
    "s2 = addsolver(m)\n",
    "hz = adda(s2, 'h_z', 2*(3/2)*rz)\n",
    "Vz = adda(s2, 'V_z', 4/3*np.pi*rz**3)\n",
    "rho_LGz = adda(s2, 'rho_LGz', pval*(alpha*mm_He+(1-alpha)*mm_H2)/(k*Tval))\n",
    "R2 = addf(s2, m_lg-Vz*rho_LGz) #needs to have same mass as balloon at STP\n",
    "setsolvefor(s2, [rz])"
   ]
  },
  {
   "cell_type": "code",
   "execution_count": 7,
   "id": "75c09265-f4b3-485d-9d0f-ebb5bbcbf07d",
   "metadata": {
    "execution": {
     "iopub.execute_input": "2022-06-06T21:39:40.554272Z",
     "iopub.status.busy": "2022-06-06T21:39:40.554272Z",
     "iopub.status.idle": "2022-06-06T21:39:40.567533Z",
     "shell.execute_reply": "2022-06-06T21:39:40.567533Z",
     "shell.execute_reply.started": "2022-06-06T21:39:40.554272Z"
    },
    "tags": []
   },
   "outputs": [],
   "source": [
    "t_LLDPE = Par('tL', 25.4e-6*1, 'm')\n",
    "rho_LLDPE = Par('rhoL', 925, 'kg/m^3')\n",
    "p = Par('p', 1.6) #some parameter"
   ]
  },
  {
   "cell_type": "code",
   "execution_count": 8,
   "id": "b4c8ceb7-9f70-4e3a-aed2-0da6d3e2e0e0",
   "metadata": {
    "execution": {
     "iopub.execute_input": "2022-06-06T21:39:40.997259Z",
     "iopub.status.busy": "2022-06-06T21:39:40.996260Z",
     "iopub.status.idle": "2022-06-06T21:39:41.020044Z",
     "shell.execute_reply": "2022-06-06T21:39:41.019921Z",
     "shell.execute_reply.started": "2022-06-06T21:39:40.996260Z"
    },
    "tags": []
   },
   "outputs": [],
   "source": [
    "S = adda(m, 'S', 4*np.pi*(((rz**2)**p+2*abs(rz)**p*(abs(hz)/2)**p)/3)**(1/p))\n",
    "adda(m, m_b, 2*(3/2)*S*t_LLDPE*rho_LLDPE, 'kg');\n",
    "setsolvefor(m, [m_b])"
   ]
  },
  {
   "cell_type": "code",
   "execution_count": 9,
   "id": "c49522fb-7595-4a01-a90e-9551cdfe724a",
   "metadata": {
    "execution": {
     "iopub.execute_input": "2022-06-06T21:39:43.143670Z",
     "iopub.status.busy": "2022-06-06T21:39:43.142632Z",
     "iopub.status.idle": "2022-06-06T21:39:43.156560Z",
     "shell.execute_reply": "2022-06-06T21:39:43.155653Z",
     "shell.execute_reply.started": "2022-06-06T21:39:43.143670Z"
    },
    "tags": []
   },
   "outputs": [],
   "source": [
    "edges, tree = model.generate_formulation()"
   ]
  },
  {
   "cell_type": "code",
   "execution_count": 10,
   "id": "0a1d9911-2e26-47e1-a90e-4fe6a5151192",
   "metadata": {
    "execution": {
     "iopub.execute_input": "2022-06-06T21:39:43.564302Z",
     "iopub.status.busy": "2022-06-06T21:39:43.563306Z",
     "iopub.status.idle": "2022-06-06T21:39:43.579653Z",
     "shell.execute_reply": "2022-06-06T21:39:43.579428Z",
     "shell.execute_reply.started": "2022-06-06T21:39:43.564302Z"
    },
    "tags": []
   },
   "outputs": [],
   "source": [
    "G = flat_graph_formulation(*edges)\n",
    "merge_order = sort_scc(G)\n",
    "merge_parent = root_solver(tree) # all merged components will have this solver as the parent\n",
    "ordered_edges, ordered_tree = reorder_merge_solve(edges, tree, merge_order, merge_parent, True)"
   ]
  },
  {
   "cell_type": "code",
   "execution_count": 11,
   "id": "d5465c8c-24d3-4f76-8796-0ae961313259",
   "metadata": {
    "execution": {
     "iopub.execute_input": "2022-06-06T21:39:44.310848Z",
     "iopub.status.busy": "2022-06-06T21:39:44.309850Z",
     "iopub.status.idle": "2022-06-06T21:39:44.331844Z",
     "shell.execute_reply": "2022-06-06T21:39:44.330954Z",
     "shell.execute_reply.started": "2022-06-06T21:39:44.310848Z"
    },
    "tags": []
   },
   "outputs": [],
   "source": [
    "ordered_tree = tree\n",
    "ordered_edges = edges\n",
    "comp_options = model.comp_options\n",
    "var_options = model.var_options\n",
    "solvers_options = model.solvers_options\n",
    "solvers_options[1] = {'solver': 'N'}\n",
    "#solvers_options[2] = {'solver': 'N', 'maxiter':20}\n",
    "#solvers_options[3] = {'solver': 'N', 'maxiter':20}\n",
    "nodetyperepr = model.nametyperepr\n",
    "namingfunc = namefromid(nodetyperepr)\n",
    "sequence = order_from_tree(ordered_tree[0], ordered_tree[1], ordered_edges[1])\n",
    "solvers_options = default_solver_options(ordered_tree, solvers_options)\n",
    "wf = mdao_workflow(sequence, solvers_options, comp_options, var_options)"
   ]
  },
  {
   "cell_type": "code",
   "execution_count": 12,
   "id": "a898e8c8-fc61-422f-a3a8-2534dbb5bf5d",
   "metadata": {
    "execution": {
     "iopub.execute_input": "2022-06-06T21:39:46.919205Z",
     "iopub.status.busy": "2022-06-06T21:39:46.919205Z",
     "iopub.status.idle": "2022-06-06T21:39:46.934197Z",
     "shell.execute_reply": "2022-06-06T21:39:46.933197Z",
     "shell.execute_reply.started": "2022-06-06T21:39:46.919205Z"
    },
    "tags": []
   },
   "outputs": [],
   "source": [
    "components = model.components\n",
    "#all_components = generate_components_and_residuals(components, ordered_edges)"
   ]
  },
  {
   "cell_type": "code",
   "execution_count": 13,
   "id": "5b998754-88d6-4932-8a6f-ba0537ccf4ec",
   "metadata": {
    "execution": {
     "iopub.execute_input": "2022-06-06T21:39:49.343360Z",
     "iopub.status.busy": "2022-06-06T21:39:49.343360Z",
     "iopub.status.idle": "2022-06-06T21:39:49.360356Z",
     "shell.execute_reply": "2022-06-06T21:39:49.359358Z",
     "shell.execute_reply.started": "2022-06-06T21:39:49.343360Z"
    },
    "tags": []
   },
   "outputs": [],
   "source": [
    "lookup_f = get_f(components, ordered_edges)\n",
    "wfmdao = mdao_workflow_with_args(wf, lookup_f, namingfunc)\n",
    "prob, mdao_in, groups = build_archi(ordered_edges, ordered_tree, wfmdao, namingfunc, model.idmapping)"
   ]
  },
  {
   "cell_type": "code",
   "execution_count": 15,
   "id": "edb979af-23c8-4b85-bc9b-c91b64bed6ad",
   "metadata": {
    "execution": {
     "iopub.execute_input": "2022-06-06T21:39:55.677845Z",
     "iopub.status.busy": "2022-06-06T21:39:55.677845Z",
     "iopub.status.idle": "2022-06-06T21:39:55.695958Z",
     "shell.execute_reply": "2022-06-06T21:39:55.694958Z",
     "shell.execute_reply.started": "2022-06-06T21:39:55.677845Z"
    },
    "tags": []
   },
   "outputs": [],
   "source": [
    "#om.n2(prob)"
   ]
  },
  {
   "cell_type": "code",
   "execution_count": 16,
   "id": "461e4191-9324-4f34-84ea-a650fd2e7490",
   "metadata": {
    "execution": {
     "iopub.execute_input": "2022-06-06T21:40:01.049929Z",
     "iopub.status.busy": "2022-06-06T21:40:01.049929Z",
     "iopub.status.idle": "2022-06-06T21:40:01.408662Z",
     "shell.execute_reply": "2022-06-06T21:40:01.407750Z",
     "shell.execute_reply.started": "2022-06-06T21:40:01.049929Z"
    },
    "tags": []
   },
   "outputs": [
    {
     "name": "stdout",
     "output_type": "stream",
     "text": [
      "\n",
      "==\n",
      "s1\n",
      "==\n",
      "+  \n",
      "+  =====\n",
      "+  s1.s2\n",
      "+  =====\n",
      "+  NL: NewtonSolver 'NL: Newton' on system 's1.s2' failed to converge in 10 iterations.\n",
      "+  \n",
      "+  =====\n",
      "+  s1.s3\n",
      "+  =====\n",
      "+  NL: NewtonSolver 'NL: Newton' on system 's1.s3' failed to converge in 10 iterations.\n",
      "+  \n",
      "+  =====\n",
      "+  s1.s2\n",
      "+  =====\n",
      "+  NL: Newton Converged in 9 iterations\n",
      "+  \n",
      "+  =====\n",
      "+  s1.s3\n",
      "+  =====\n",
      "+  NL: Newton Converged in 8 iterations\n",
      "+  \n",
      "+  =====\n",
      "+  s1.s2\n",
      "+  =====\n",
      "+  NL: Newton Converged in 6 iterations\n",
      "+  \n",
      "+  =====\n",
      "+  s1.s3\n",
      "+  =====\n",
      "+  NL: Newton Converged in 6 iterations\n",
      "+  \n",
      "+  =====\n",
      "+  s1.s2\n",
      "+  =====\n",
      "+  NL: Newton Converged in 4 iterations\n",
      "+  \n",
      "+  =====\n",
      "+  s1.s3\n",
      "+  =====\n",
      "+  NL: Newton Converged in 4 iterations\n",
      "+  \n",
      "+  =====\n",
      "+  s1.s2\n",
      "+  =====\n",
      "+  NL: Newton Converged in 3 iterations\n",
      "+  \n",
      "+  =====\n",
      "+  s1.s3\n",
      "+  =====\n",
      "+  NL: Newton Converged in 3 iterations\n",
      "+  \n",
      "+  =====\n",
      "+  s1.s2\n",
      "+  =====\n",
      "+  NL: Newton Converged in 2 iterations\n",
      "+  \n",
      "+  =====\n",
      "+  s1.s3\n",
      "+  =====\n",
      "+  NL: Newton Converged in 1 iterations\n",
      "NL: Newton Converged in 5 iterations\n"
     ]
    }
   ],
   "source": [
    "prob.run_model()"
   ]
  },
  {
   "cell_type": "code",
   "execution_count": 17,
   "id": "4b0c0af5-dde6-430f-b4f5-87d70a5611f1",
   "metadata": {
    "execution": {
     "iopub.execute_input": "2022-06-06T21:40:03.895243Z",
     "iopub.status.busy": "2022-06-06T21:40:03.895243Z",
     "iopub.status.idle": "2022-06-06T21:40:03.907483Z",
     "shell.execute_reply": "2022-06-06T21:40:03.907483Z",
     "shell.execute_reply.started": "2022-06-06T21:40:03.895243Z"
    },
    "tags": []
   },
   "outputs": [
    {
     "name": "stdout",
     "output_type": "stream",
     "text": [
      "30 Explicit Output(s) in 'model'\n",
      "\n",
      "varname           val              \n",
      "----------------  -----------------\n",
      "inp\n",
      "  P_0             [101300.]        \n",
      "  p               [1.6]            \n",
      "  M_{H2}          [1.66e-27]       \n",
      "  pval            [1197.]          \n",
      "  k               [1.38064852e-23] \n",
      "  T_0             [288.15]         \n",
      "  a               [0.]             \n",
      "  m_v             [4545.]          \n",
      "  Tval            [226.51]         \n",
      "  C_D             [0.47]           \n",
      "  v               [6.]             \n",
      "  tL              [2.54e-05]       \n",
      "  M_{He}          [6.64e-27]       \n",
      "  \\rho_0          [1.225]          \n",
      "  rhoL            [925.]           \n",
      "  m_p             [500.]           \n",
      "  G_0             [9.807]          \n",
      "s1\n",
      "  f0\n",
      "    m_t           [8093.86771366]  \n",
      "  s2\n",
      "    f1\n",
      "      A_0         [441.92158472]   \n",
      "    f2\n",
      "      V_0         [6988.46221971]  \n",
      "    f3\n",
      "      \\rho_{LG0}  [0.0422684]      \n",
      "    f4\n",
      "      m_l         [295.3910955]    \n",
      "    f5\n",
      "      L_0         [83956.41501114] \n",
      "    f6\n",
      "      W_0         [79376.56066785] \n",
      "    f7\n",
      "      D_0         [4579.85434329]  \n",
      "  s3\n",
      "    f9\n",
      "      h_z         [144.17178512]   \n",
      "    f10\n",
      "      V_z         [464906.55840031]\n",
      "    f11\n",
      "      rho_LGz     [0.00063538]     \n",
      "  f13\n",
      "    S             [39064.70760926] \n",
      "  f14\n",
      "    m_b           [2753.47591584]  \n",
      "\n",
      "\n",
      "2 Implicit Output(s) in 'model'\n",
      "\n",
      "varname      val          \n",
      "-----------  -------------\n",
      "s1\n",
      "  s2\n",
      "    res_f8\n",
      "      r_0    [11.86035452]\n",
      "  s3\n",
      "    res_f12\n",
      "      r_z    [48.05726171]\n",
      "\n",
      "\n"
     ]
    }
   ],
   "source": [
    "prob.model.list_outputs();"
   ]
  },
  {
   "cell_type": "code",
   "execution_count": 305,
   "id": "03ab9d0d-dadb-4678-896a-267fa22b7073",
   "metadata": {
    "execution": {
     "iopub.execute_input": "2022-05-11T11:33:45.260067Z",
     "iopub.status.busy": "2022-05-11T11:33:45.260067Z",
     "iopub.status.idle": "2022-05-11T11:33:45.277356Z",
     "shell.execute_reply": "2022-05-11T11:33:45.276932Z",
     "shell.execute_reply.started": "2022-05-11T11:33:45.260067Z"
    },
    "tags": []
   },
   "outputs": [],
   "source": [
    "edges = edges_from_components(model.components)\n",
    "tree = model.Ftree, model.Stree, model.Vtree"
   ]
  },
  {
   "cell_type": "code",
   "execution_count": 43,
   "id": "c52fa1b6-7856-42fb-8dd0-2d5cfb9ac238",
   "metadata": {
    "execution": {
     "iopub.execute_input": "2022-04-19T00:29:59.902249Z",
     "iopub.status.busy": "2022-04-19T00:29:59.902249Z",
     "iopub.status.idle": "2022-04-19T00:29:59.922372Z",
     "shell.execute_reply": "2022-04-19T00:29:59.921440Z",
     "shell.execute_reply.started": "2022-04-19T00:29:59.902249Z"
    },
    "tags": []
   },
   "outputs": [
    {
     "data": {
      "text/plain": [
       "{'A_0',\n",
       " 'C_D',\n",
       " 'D_0',\n",
       " 'G_0',\n",
       " 'L_0',\n",
       " 'M_{H2}',\n",
       " 'M_{He}',\n",
       " 'P_0',\n",
       " 'T_0',\n",
       " 'V_0',\n",
       " 'W_0',\n",
       " '\\\\rho_0',\n",
       " '\\\\rho_{LG0}',\n",
       " 'a',\n",
       " 'k',\n",
       " 'm_l',\n",
       " 'm_p',\n",
       " 'm_t',\n",
       " 'm_v',\n",
       " 'r_0',\n",
       " 'v'}"
      ]
     },
     "execution_count": 43,
     "metadata": {},
     "output_type": "execute_result"
    }
   ],
   "source": [
    "all_variables(*edges_to_Ein_Eout(edges))"
   ]
  },
  {
   "cell_type": "code",
   "execution_count": 35,
   "id": "8c0bcaa8-d582-4ea9-aa6f-4933d54ff1e4",
   "metadata": {
    "execution": {
     "iopub.execute_input": "2022-04-19T00:26:04.613901Z",
     "iopub.status.busy": "2022-04-19T00:26:04.613901Z",
     "iopub.status.idle": "2022-04-19T00:26:04.623102Z",
     "shell.execute_reply": "2022-04-19T00:26:04.622980Z",
     "shell.execute_reply.started": "2022-04-19T00:26:04.613901Z"
    },
    "tags": []
   },
   "outputs": [],
   "source": [
    "lookup_f = get_f(model.components, edges)\n",
    "workflow = generate_workflow(lookup_f, edges, tree)"
   ]
  },
  {
   "cell_type": "code",
   "execution_count": 39,
   "id": "d3ed3eae-71ed-42e9-83b0-102c1a4cfe30",
   "metadata": {
    "execution": {
     "iopub.execute_input": "2022-04-19T00:27:36.423796Z",
     "iopub.status.busy": "2022-04-19T00:27:36.423796Z",
     "iopub.status.idle": "2022-04-19T00:27:36.438749Z",
     "shell.execute_reply": "2022-04-19T00:27:36.437839Z",
     "shell.execute_reply.started": "2022-04-19T00:27:36.423796Z"
    }
   },
   "outputs": [],
   "source": [
    "prob, mdao_in, groups = build_archi(edges, tree, workflow)"
   ]
  },
  {
   "cell_type": "code",
   "execution_count": 22,
   "id": "94a52770-6914-4b6d-a24c-f5ee0ee780d0",
   "metadata": {
    "execution": {
     "iopub.execute_input": "2022-04-19T00:23:18.296045Z",
     "iopub.status.busy": "2022-04-19T00:23:18.295044Z",
     "iopub.status.idle": "2022-04-19T00:23:18.302566Z",
     "shell.execute_reply": "2022-04-19T00:23:18.301557Z",
     "shell.execute_reply.started": "2022-04-19T00:23:18.295044Z"
    },
    "tags": []
   },
   "outputs": [],
   "source": [
    "nodetyperepr = {VAR: '{}', COMP: 'f_{}', SOLVER: 's_{}'}"
   ]
  },
  {
   "cell_type": "code",
   "execution_count": 24,
   "id": "b86533fc-d9fd-479e-9d9e-3fe4be340964",
   "metadata": {
    "execution": {
     "iopub.execute_input": "2022-04-19T00:23:25.968125Z",
     "iopub.status.busy": "2022-04-19T00:23:25.967140Z",
     "iopub.status.idle": "2022-04-19T00:23:25.987843Z",
     "shell.execute_reply": "2022-04-19T00:23:25.987634Z",
     "shell.execute_reply.started": "2022-04-19T00:23:25.968125Z"
    }
   },
   "outputs": [],
   "source": [
    "G = flat_graph_formulation(*edges, nodetyperepr=nodetyperepr)"
   ]
  },
  {
   "cell_type": "code",
   "execution_count": 28,
   "id": "926c1f4a-f212-46fc-8a6c-7b9b881833ba",
   "metadata": {
    "execution": {
     "iopub.execute_input": "2022-04-19T00:23:39.454325Z",
     "iopub.status.busy": "2022-04-19T00:23:39.454325Z",
     "iopub.status.idle": "2022-04-19T00:23:39.459425Z",
     "shell.execute_reply": "2022-04-19T00:23:39.459425Z",
     "shell.execute_reply.started": "2022-04-19T00:23:39.454325Z"
    },
    "tags": []
   },
   "outputs": [],
   "source": [
    "from operators import sort_scc"
   ]
  },
  {
   "cell_type": "code",
   "execution_count": 29,
   "id": "118df028-2c3d-49ef-939d-fabb9c73c629",
   "metadata": {
    "execution": {
     "iopub.execute_input": "2022-04-19T00:23:39.636672Z",
     "iopub.status.busy": "2022-04-19T00:23:39.636672Z",
     "iopub.status.idle": "2022-04-19T00:23:39.644856Z",
     "shell.execute_reply": "2022-04-19T00:23:39.644856Z",
     "shell.execute_reply.started": "2022-04-19T00:23:39.636672Z"
    },
    "tags": []
   },
   "outputs": [],
   "source": [
    "merge_order = sort_scc(G)"
   ]
  },
  {
   "cell_type": "code",
   "execution_count": 30,
   "id": "37dbf6af-0d44-46f8-9176-1c1e855092d8",
   "metadata": {
    "execution": {
     "iopub.execute_input": "2022-04-19T00:23:42.757036Z",
     "iopub.status.busy": "2022-04-19T00:23:42.757036Z",
     "iopub.status.idle": "2022-04-19T00:23:42.761177Z",
     "shell.execute_reply": "2022-04-19T00:23:42.761034Z",
     "shell.execute_reply.started": "2022-04-19T00:23:42.757036Z"
    }
   },
   "outputs": [
    {
     "data": {
      "text/plain": [
       "[{f_1}, {f_2}, {f_3}, {f_7}, {f_5}, {f_4}, {f_0}, {f_6}, {f_8}]"
      ]
     },
     "execution_count": 30,
     "metadata": {},
     "output_type": "execute_result"
    }
   ],
   "source": [
    "merge_order"
   ]
  },
  {
   "cell_type": "code",
   "execution_count": 5,
   "id": "451aea52-45d9-4a89-b291-f9ac43ffa760",
   "metadata": {
    "execution": {
     "iopub.execute_input": "2022-04-18T20:32:21.086309Z",
     "iopub.status.busy": "2022-04-18T20:32:21.085266Z",
     "iopub.status.idle": "2022-04-18T20:32:21.115814Z",
     "shell.execute_reply": "2022-04-18T20:32:21.115655Z",
     "shell.execute_reply.started": "2022-04-18T20:32:21.086309Z"
    },
    "tags": []
   },
   "outputs": [],
   "source": [
    "z = 30e3\n",
    "rhoval = Par('\\\\rho_z', ρinterp(z), 'kg/m^3')\n",
    "pval = Par('P_z', Pinterp(z), 'Pa')\n",
    "Tval = Par('T_z', Tinterp(z), 'K')\n",
    "gval = Par('G_z', Ginterp(z), 'm/s^2')\n",
    "rz = Var('r_z', unit='m')\n",
    "hz = adda(m, 'h_z', 2*(3/2)*rz)\n",
    "Vz = adda(m, 'V_z', 4/3*np.pi*rz**3)\n",
    "rho_LGz = adda(m, '\\\\rho_{LGz}', pval*(alpha*mm_He+(1-alpha)*mm_H2)/(k*Tval))\n",
    "R2 = addf(m, m_lg-Vz*rho_LGz, name='R_2') #needs to have same mass as balloon at STP\n",
    "s2 = addsolver(m, geteqs(m, [rz, hz, Vz, rho_LGz]), [(R2, rz)], name='s2')"
   ]
  },
  {
   "cell_type": "markdown",
   "id": "8fafa21d-83e3-4c84-829a-be23b059ee44",
   "metadata": {},
   "source": [
    "# Updated API"
   ]
  },
  {
   "cell_type": "code",
   "execution_count": 9,
   "id": "50ce2ec0-8fcd-4856-bb1b-85dc0455b263",
   "metadata": {
    "execution": {
     "iopub.execute_input": "2022-04-18T20:33:41.708852Z",
     "iopub.status.busy": "2022-04-18T20:33:41.708852Z",
     "iopub.status.idle": "2022-04-18T20:33:41.728428Z",
     "shell.execute_reply": "2022-04-18T20:33:41.728168Z",
     "shell.execute_reply.started": "2022-04-18T20:33:41.708852Z"
    },
    "tags": []
   },
   "outputs": [],
   "source": [
    "from graphutils import flat_graph_formulation, Node, COMP, merge_edges, all_varnodes, all_variables, sources\n",
    "from operators import sort_scc, reorder_merge_solve\n",
    "from execution import Component\n",
    "from workflow import get_f, generate_workflow, implicit_comp_name\n",
    "from assembly import build_archi\n",
    "from executeformulations import extractvals\n",
    "from polycasebuilder import eqv_to_edges_tree"
   ]
  },
  {
   "cell_type": "code",
   "execution_count": 10,
   "id": "568ea28e-f12c-44ee-8106-0e9bc90fb0de",
   "metadata": {
    "execution": {
     "iopub.execute_input": "2022-04-18T20:33:44.271262Z",
     "iopub.status.busy": "2022-04-18T20:33:44.271262Z",
     "iopub.status.idle": "2022-04-18T20:33:44.280260Z",
     "shell.execute_reply": "2022-04-18T20:33:44.279338Z",
     "shell.execute_reply.started": "2022-04-18T20:33:44.271262Z"
    }
   },
   "outputs": [],
   "source": [
    "eqs, eqv, dout, dins = model.data_structures()"
   ]
  },
  {
   "cell_type": "code",
   "execution_count": 11,
   "id": "602a0a01-0e61-4f56-8065-7829b93058d5",
   "metadata": {
    "execution": {
     "iopub.execute_input": "2022-04-18T20:33:48.799682Z",
     "iopub.status.busy": "2022-04-18T20:33:48.799682Z",
     "iopub.status.idle": "2022-04-18T20:33:48.817294Z",
     "shell.execute_reply": "2022-04-18T20:33:48.816655Z",
     "shell.execute_reply.started": "2022-04-18T20:33:48.799682Z"
    }
   },
   "outputs": [],
   "source": [
    "edges, tree = eqv_to_edges_tree(eqv, dout, len(eqv), offset=False)"
   ]
  },
  {
   "cell_type": "code",
   "execution_count": 12,
   "id": "c7abd1aa-9695-43ad-90af-a1f7d209ea16",
   "metadata": {
    "execution": {
     "iopub.execute_input": "2022-04-18T20:34:05.267681Z",
     "iopub.status.busy": "2022-04-18T20:34:05.267681Z",
     "iopub.status.idle": "2022-04-18T20:34:05.287221Z",
     "shell.execute_reply": "2022-04-18T20:34:05.286300Z",
     "shell.execute_reply.started": "2022-04-18T20:34:05.267681Z"
    }
   },
   "outputs": [],
   "source": [
    "DG = flat_graph_formulation(*edges)\n",
    "merge_order = sort_scc(DG)\n",
    "nedges, ntree = reorder_merge_solve(edges, tree, merge_order, 1, True)"
   ]
  },
  {
   "cell_type": "code",
   "execution_count": 15,
   "id": "220c23f7-53f1-4fdc-972f-b81e91a33438",
   "metadata": {
    "execution": {
     "iopub.execute_input": "2022-04-18T20:34:43.485083Z",
     "iopub.status.busy": "2022-04-18T20:34:43.485083Z",
     "iopub.status.idle": "2022-04-18T20:34:43.504488Z",
     "shell.execute_reply": "2022-04-18T20:34:43.504327Z",
     "shell.execute_reply.started": "2022-04-18T20:34:43.485083Z"
    },
    "tags": []
   },
   "outputs": [
    {
     "data": {
      "text/plain": [
       "(OrderedDict([(0, 1),\n",
       "              (1, 1),\n",
       "              (2, 1),\n",
       "              (3, 1),\n",
       "              (4, 1),\n",
       "              (5, 1),\n",
       "              (6, 1),\n",
       "              (7, 1),\n",
       "              (R_1, 1),\n",
       "              (9, 1),\n",
       "              (10, 1),\n",
       "              (11, 1),\n",
       "              (R_2, 1)]),\n",
       " {},\n",
       " {})"
      ]
     },
     "execution_count": 15,
     "metadata": {},
     "output_type": "execute_result"
    }
   ],
   "source": [
    "tree"
   ]
  },
  {
   "cell_type": "code",
   "execution_count": 13,
   "id": "846db845-efc3-46d1-af23-dd3d2f00585b",
   "metadata": {
    "execution": {
     "iopub.execute_input": "2022-04-18T20:34:08.850028Z",
     "iopub.status.busy": "2022-04-18T20:34:08.850028Z",
     "iopub.status.idle": "2022-04-18T20:34:08.871622Z",
     "shell.execute_reply": "2022-04-18T20:34:08.870608Z",
     "shell.execute_reply.started": "2022-04-18T20:34:08.850028Z"
    }
   },
   "outputs": [
    {
     "data": {
      "text/plain": [
       "({0: (m_l, m_v, m_p),\n",
       "  1: (r_0,),\n",
       "  2: (r_0,),\n",
       "  3: (M_{H2}, P_0, T_0, M_{He}, a, k),\n",
       "  4: (\\rho_{LG0}, V_0),\n",
       "  5: (G_0, \\rho_0, V_0),\n",
       "  6: (G_0, m_t),\n",
       "  7: (\\rho_0, v, A_0, C_D),\n",
       "  R_1: (L_0, D_0, W_0),\n",
       "  9: (r_z,),\n",
       "  10: (r_z,),\n",
       "  11: (M_{H2}, M_{He}, a, T_z, k, P_z),\n",
       "  R_2: (V_z, m_l, \\rho_{LGz})},\n",
       " {0: (m_t,),\n",
       "  1: (A_0,),\n",
       "  2: (V_0,),\n",
       "  3: (\\rho_{LG0},),\n",
       "  4: (m_l,),\n",
       "  5: (L_0,),\n",
       "  6: (W_0,),\n",
       "  7: (D_0,),\n",
       "  R_1: (None,),\n",
       "  9: (h_z,),\n",
       "  10: (V_z,),\n",
       "  11: (\\rho_{LGz},),\n",
       "  R_2: (None,)},\n",
       " {})"
      ]
     },
     "execution_count": 13,
     "metadata": {},
     "output_type": "execute_result"
    }
   ],
   "source": [
    "nedges"
   ]
  },
  {
   "cell_type": "code",
   "execution_count": 6,
   "id": "ce59a58b-e5a3-4668-af34-098570b52763",
   "metadata": {
    "execution": {
     "iopub.execute_input": "2022-04-18T20:32:22.131968Z",
     "iopub.status.busy": "2022-04-18T20:32:22.131968Z",
     "iopub.status.idle": "2022-04-18T20:32:22.160292Z",
     "shell.execute_reply": "2022-04-18T20:32:22.160081Z",
     "shell.execute_reply.started": "2022-04-18T20:32:22.131968Z"
    },
    "tags": []
   },
   "outputs": [],
   "source": [
    "G, graphs = graphs_from_incidence(m, from_root=True)"
   ]
  },
  {
   "cell_type": "code",
   "execution_count": 50,
   "id": "c01a71e2-1a2b-40f2-a0c2-a4aa7c9f1483",
   "metadata": {
    "execution": {
     "iopub.execute_input": "2022-02-02T02:05:59.749904Z",
     "iopub.status.busy": "2022-02-02T02:05:59.748905Z",
     "iopub.status.idle": "2022-02-02T02:05:59.760902Z",
     "shell.execute_reply": "2022-02-02T02:05:59.759903Z",
     "shell.execute_reply.started": "2022-02-02T02:05:59.749904Z"
    },
    "tags": []
   },
   "outputs": [],
   "source": [
    "m2 = make_acyclic(m, graphs)"
   ]
  },
  {
   "cell_type": "code",
   "execution_count": 51,
   "id": "dcef4ff5-aa6d-4192-93ea-de0c192f9097",
   "metadata": {
    "execution": {
     "iopub.execute_input": "2022-02-02T02:06:00.130701Z",
     "iopub.status.busy": "2022-02-02T02:06:00.129691Z",
     "iopub.status.idle": "2022-02-02T02:06:00.139688Z",
     "shell.execute_reply": "2022-02-02T02:06:00.136696Z",
     "shell.execute_reply.started": "2022-02-02T02:06:00.130701Z"
    },
    "tags": []
   },
   "outputs": [
    {
     "name": "stdout",
     "output_type": "stream",
     "text": [
      "/               \n",
      "├── ., SOLVER   \n",
      "│   ├── f_{1}, END\n",
      "│   ├── f_{2}, END\n",
      "│   ├── f_{3}, END\n",
      "│   ├── f_{6}, END\n",
      "│   ├── f_{7}, END\n",
      "│   ├── f_{5}, END\n",
      "│   ├── f_{4}, END\n",
      "│   ├── R_1, END\n",
      "│   └── f_{0}, END\n",
      "└── s2, SOLVER  \n",
      "    ├── f_{9}, INTER\n",
      "    ├── f_{10}, INTER\n",
      "    ├── f_{11}, INTER\n",
      "    └── R_2, END\n"
     ]
    }
   ],
   "source": [
    "render_tree(m2, display_type=True)"
   ]
  },
  {
   "cell_type": "code",
   "execution_count": 52,
   "id": "efb4efbe-6f54-41b2-989e-89ec3b1cedff",
   "metadata": {
    "execution": {
     "iopub.execute_input": "2022-02-02T02:06:00.473389Z",
     "iopub.status.busy": "2022-02-02T02:06:00.473389Z",
     "iopub.status.idle": "2022-02-02T02:06:00.485353Z",
     "shell.execute_reply": "2022-02-02T02:06:00.484354Z",
     "shell.execute_reply.started": "2022-02-02T02:06:00.473389Z"
    },
    "tags": []
   },
   "outputs": [],
   "source": [
    "sequence_m2 = default_sequence(m2)\n",
    "sequence_m = default_sequence(m)"
   ]
  },
  {
   "cell_type": "code",
   "execution_count": 98,
   "id": "4400f9a2-31a6-4760-b989-77a7550689ee",
   "metadata": {
    "execution": {
     "iopub.execute_input": "2022-02-02T03:53:25.834280Z",
     "iopub.status.busy": "2022-02-02T03:53:25.833281Z",
     "iopub.status.idle": "2022-02-02T03:53:30.004279Z",
     "shell.execute_reply": "2022-02-02T03:53:30.002276Z",
     "shell.execute_reply.started": "2022-02-02T03:53:25.834280Z"
    },
    "tags": []
   },
   "outputs": [
    {
     "data": {
      "image/png": "[encoded data removed]",
      "text/plain": [
       "<Figure size 720x720 with 1 Axes>"
      ]
     },
     "metadata": {
      "needs_background": "light"
     },
     "output_type": "display_data"
    }
   ],
   "source": [
    "fig, ax = tree_incidence(m, eqvars(model.eqs), model.outset, sequence_m, figsize=(10,10));\n",
    "plt.sca(ax)\n",
    "plt.savefig('figures/balloon_user.png', dpi=600, bbox_inches='tight')"
   ]
  },
  {
   "cell_type": "markdown",
   "id": "cd076877-474e-4235-bfef-63ecca1f042d",
   "metadata": {
    "jp-MarkdownHeadingCollapsed": true,
    "tags": []
   },
   "source": [
    "# Debugging"
   ]
  },
  {
   "cell_type": "code",
   "execution_count": 16,
   "id": "3483f8fa-2374-4337-9977-bfb55794f527",
   "metadata": {
    "execution": {
     "iopub.execute_input": "2022-02-01T16:22:31.208659Z",
     "iopub.status.busy": "2022-02-01T16:22:31.207646Z",
     "iopub.status.idle": "2022-02-01T16:22:31.338647Z",
     "shell.execute_reply": "2022-02-01T16:22:31.337647Z",
     "shell.execute_reply.started": "2022-02-01T16:22:31.208659Z"
    },
    "tags": []
   },
   "outputs": [],
   "source": [
    "branch_node = m"
   ]
  },
  {
   "cell_type": "code",
   "execution_count": 17,
   "id": "57d706fd-e4ca-4d93-b3c9-755a6d4b23e1",
   "metadata": {
    "execution": {
     "iopub.execute_input": "2022-02-01T16:22:31.348647Z",
     "iopub.status.busy": "2022-02-01T16:22:31.348647Z",
     "iopub.status.idle": "2022-02-01T16:22:31.370649Z",
     "shell.execute_reply": "2022-02-01T16:22:31.369647Z",
     "shell.execute_reply.started": "2022-02-01T16:22:31.348647Z"
    },
    "tags": []
   },
   "outputs": [],
   "source": [
    "#first copy all the leaves (from the m.tree)\n",
    "model = branch_node.ref\n",
    "m_new = RefNode(name='/', ref=model)"
   ]
  },
  {
   "cell_type": "code",
   "execution_count": 18,
   "id": "4f4f0c36-876e-4aaa-bafe-7bec18969062",
   "metadata": {
    "execution": {
     "iopub.execute_input": "2022-02-01T16:22:31.381646Z",
     "iopub.status.busy": "2022-02-01T16:22:31.381646Z",
     "iopub.status.idle": "2022-02-01T16:22:31.402646Z",
     "shell.execute_reply": "2022-02-01T16:22:31.401645Z",
     "shell.execute_reply.started": "2022-02-01T16:22:31.381646Z"
    },
    "tags": []
   },
   "outputs": [],
   "source": [
    "new_nodes = {elt: RefNode(elt.name, ref=elt.ref, node_type=elt.node_type) if elt.node_type !=SOLVER else SolverNode(elt.name, m_new, refonly=True) for elt in PreOrderIter(branch_node) if elt != branch_node}\n",
    "new_nodes[branch_node] = m_new"
   ]
  },
  {
   "cell_type": "code",
   "execution_count": 19,
   "id": "cbf66c30-85c3-462d-b7c4-211059f1850a",
   "metadata": {
    "execution": {
     "iopub.execute_input": "2022-02-01T16:22:31.411648Z",
     "iopub.status.busy": "2022-02-01T16:22:31.410649Z",
     "iopub.status.idle": "2022-02-01T16:22:31.435647Z",
     "shell.execute_reply": "2022-02-01T16:22:31.433650Z",
     "shell.execute_reply.started": "2022-02-01T16:22:31.411648Z"
    },
    "tags": []
   },
   "outputs": [],
   "source": [
    "from_root = True\n",
    "merge_order = solvers_bottom_up(branch_node, from_root)"
   ]
  },
  {
   "cell_type": "code",
   "execution_count": 28,
   "id": "a4f4c23c-e60a-49cd-9052-09c9cea9ce70",
   "metadata": {
    "execution": {
     "iopub.execute_input": "2022-02-01T16:22:47.390305Z",
     "iopub.status.busy": "2022-02-01T16:22:47.389312Z",
     "iopub.status.idle": "2022-02-01T16:22:47.398305Z",
     "shell.execute_reply": "2022-02-01T16:22:47.397303Z",
     "shell.execute_reply.started": "2022-02-01T16:22:47.390305Z"
    },
    "tags": []
   },
   "outputs": [],
   "source": [
    "solver_branch = merge_order[2]"
   ]
  },
  {
   "cell_type": "code",
   "execution_count": 29,
   "id": "b04a04dd-b766-4269-85a6-e4d727b9ed74",
   "metadata": {
    "execution": {
     "iopub.execute_input": "2022-02-01T16:22:47.837374Z",
     "iopub.status.busy": "2022-02-01T16:22:47.836370Z",
     "iopub.status.idle": "2022-02-01T16:22:47.857369Z",
     "shell.execute_reply": "2022-02-01T16:22:47.856370Z",
     "shell.execute_reply.started": "2022-02-01T16:22:47.837374Z"
    },
    "tags": []
   },
   "outputs": [],
   "source": [
    "mdf = True\n",
    "scc = sort_scc(graphs[solver_branch], [elt for elt in solver_branch.children])"
   ]
  },
  {
   "cell_type": "code",
   "execution_count": 30,
   "id": "903dc657-3ee8-4c59-abea-93769d9f00c4",
   "metadata": {
    "execution": {
     "iopub.execute_input": "2022-02-01T16:22:48.341252Z",
     "iopub.status.busy": "2022-02-01T16:22:48.340253Z",
     "iopub.status.idle": "2022-02-01T16:22:48.359252Z",
     "shell.execute_reply": "2022-02-01T16:22:48.358250Z",
     "shell.execute_reply.started": "2022-02-01T16:22:48.341252Z"
    },
    "tags": []
   },
   "outputs": [],
   "source": [
    "order = []\n",
    "for cc in scc:\n",
    "    if len(cc) == 1:\n",
    "        node = next(iter(cc))\n",
    "        new_nodes[node].parent = new_nodes[solver_branch]\n",
    "    else:\n",
    "        stcc = []\n",
    "        for node in cc:\n",
    "            stcc += standardize(new_nodes[node])\n",
    "            if node.node_type==SOLVER: #we \"delete' the solver node\n",
    "                new_nodes[node].parent = None\n",
    "        if mdf:\n",
    "            order += [addsolver(new_nodes[solver_branch], stcc)]\n",
    "        else:\n",
    "            order += stcc"
   ]
  },
  {
   "cell_type": "code",
   "execution_count": 31,
   "id": "f6ce8ec2-1300-4dfa-b9a3-53f9acc367a8",
   "metadata": {
    "execution": {
     "iopub.execute_input": "2022-02-01T16:22:48.717463Z",
     "iopub.status.busy": "2022-02-01T16:22:48.716454Z",
     "iopub.status.idle": "2022-02-01T16:22:48.733455Z",
     "shell.execute_reply": "2022-02-01T16:22:48.732459Z",
     "shell.execute_reply.started": "2022-02-01T16:22:48.717463Z"
    },
    "tags": []
   },
   "outputs": [
    {
     "name": "stdout",
     "output_type": "stream",
     "text": [
      "/               \n",
      "├── .           \n",
      "│   ├── f_0     \n",
      "│   ├── f_1     \n",
      "│   ├── f_2     \n",
      "│   ├── f_3     \n",
      "│   ├── f_6     \n",
      "│   ├── f_7     \n",
      "│   ├── f_5     \n",
      "│   └── f_4     \n",
      "└── s2          \n",
      "    ├── f_9     \n",
      "    ├── f_10    \n",
      "    ├── f_11    \n",
      "    └── r_12    \n"
     ]
    }
   ],
   "source": [
    "render_tree(m_new)"
   ]
  },
  {
   "cell_type": "code",
   "execution_count": 69,
   "id": "f628d49c-a446-4768-a9c1-f7f7c337877b",
   "metadata": {
    "execution": {
     "iopub.execute_input": "2022-01-27T22:05:37.768816Z",
     "iopub.status.busy": "2022-01-27T22:05:37.768816Z",
     "iopub.status.idle": "2022-01-27T22:05:37.782810Z",
     "shell.execute_reply": "2022-01-27T22:05:37.781809Z",
     "shell.execute_reply.started": "2022-01-27T22:05:37.768816Z"
    },
    "tags": []
   },
   "outputs": [
    {
     "name": "stdout",
     "output_type": "stream",
     "text": [
      "/None           \n",
      "└── s1NodeTypes.SOLVER\n",
      "    ├── f_1NodeTypes.INTER\n",
      "    ├── f_2NodeTypes.INTER\n",
      "    ├── f_3NodeTypes.INTER\n",
      "    ├── f_7NodeTypes.INTER\n",
      "    ├── f_5NodeTypes.INTER\n",
      "    ├── f_4NodeTypes.INTER\n",
      "    ├── f_0NodeTypes.INTER\n",
      "    ├── f_6NodeTypes.INTER\n",
      "    └── r_8NodeTypes.END\n"
     ]
    }
   ],
   "source": [
    "for pre, _, node in RenderTree(m2):\n",
    "        treestr = u\"{}{}{}\".format(pre, node.name, node.node_type)\n",
    "        print(treestr.ljust(16))"
   ]
  },
  {
   "cell_type": "markdown",
   "id": "aea25412-ed6e-473a-9606-30957b581ba2",
   "metadata": {},
   "source": [
    "# Execution order"
   ]
  },
  {
   "cell_type": "code",
   "execution_count": 54,
   "id": "4439a31e-d0b0-4f8b-bc10-212257529889",
   "metadata": {
    "execution": {
     "iopub.execute_input": "2022-02-02T02:06:05.151853Z",
     "iopub.status.busy": "2022-02-02T02:06:05.151853Z",
     "iopub.status.idle": "2022-02-02T02:06:05.165851Z",
     "shell.execute_reply": "2022-02-02T02:06:05.164853Z",
     "shell.execute_reply.started": "2022-02-02T02:06:05.151853Z"
    },
    "tags": []
   },
   "outputs": [],
   "source": [
    "notation = notation_from_tree(m, model.outset)"
   ]
  },
  {
   "cell_type": "code",
   "execution_count": 55,
   "id": "d31b4eed-887e-479d-b56a-948896ece812",
   "metadata": {
    "execution": {
     "iopub.execute_input": "2022-02-02T02:06:05.332851Z",
     "iopub.status.busy": "2022-02-02T02:06:05.331880Z",
     "iopub.status.idle": "2022-02-02T02:06:05.353854Z",
     "shell.execute_reply": "2022-02-02T02:06:05.352851Z",
     "shell.execute_reply.started": "2022-02-02T02:06:05.332851Z"
    },
    "tags": []
   },
   "outputs": [],
   "source": [
    "exec_instructions = generate_execution(notation)"
   ]
  },
  {
   "cell_type": "code",
   "execution_count": 56,
   "id": "4b7011b9-dce3-4628-b119-ce34d6bcffc9",
   "metadata": {
    "execution": {
     "iopub.execute_input": "2022-02-02T02:06:05.521854Z",
     "iopub.status.busy": "2022-02-02T02:06:05.520855Z",
     "iopub.status.idle": "2022-02-02T02:06:05.543857Z",
     "shell.execute_reply": "2022-02-02T02:06:05.542853Z",
     "shell.execute_reply.started": "2022-02-02T02:06:05.521854Z"
    },
    "tags": []
   },
   "outputs": [
    {
     "data": {
      "text/plain": [
       "[('exp', 0, m_t, f_{0}),\n",
       " ('solver', 0, 1, [r_0], [R_1]),\n",
       " ('exp', 1, A_0, f_{1}),\n",
       " ('exp', 1, V_0, f_{2}),\n",
       " ('exp', 1, \\rho_{LG0}, f_{3}),\n",
       " ('exp', 1, m_l, f_{4}),\n",
       " ('exp', 1, L_0, f_{5}),\n",
       " ('exp', 1, W_0, f_{6}),\n",
       " ('exp', 1, D_0, f_{7}),\n",
       " ('solver', 0, 2, [r_z], [R_2]),\n",
       " ('exp', 2, h_z, f_{9}),\n",
       " ('exp', 2, V_z, f_{10}),\n",
       " ('exp', 2, \\rho_{LGz}, f_{11})]"
      ]
     },
     "execution_count": 56,
     "metadata": {},
     "output_type": "execute_result"
    }
   ],
   "source": [
    "exec_instructions"
   ]
  },
  {
   "cell_type": "markdown",
   "id": "1e6e7fc0-f2e9-4533-9fc7-ecbb1725d629",
   "metadata": {},
   "source": [
    "# Execution"
   ]
  },
  {
   "cell_type": "code",
   "execution_count": 57,
   "id": "b3231eef-a016-4ab9-81d5-adf67b3b993a",
   "metadata": {
    "execution": {
     "iopub.execute_input": "2022-02-02T02:06:06.301237Z",
     "iopub.status.busy": "2022-02-02T02:06:06.301237Z",
     "iopub.status.idle": "2022-02-02T02:06:06.320190Z",
     "shell.execute_reply": "2022-02-02T02:06:06.319187Z",
     "shell.execute_reply.started": "2022-02-02T02:06:06.301237Z"
    },
    "tags": []
   },
   "outputs": [],
   "source": [
    "eqs, eqv, dout, dins = model.data_structures()"
   ]
  },
  {
   "cell_type": "code",
   "execution_count": 58,
   "id": "8488a306-680c-450c-9930-f1e6caa8defa",
   "metadata": {
    "execution": {
     "iopub.execute_input": "2022-02-02T02:06:06.644148Z",
     "iopub.status.busy": "2022-02-02T02:06:06.644148Z",
     "iopub.status.idle": "2022-02-02T02:06:06.653147Z",
     "shell.execute_reply": "2022-02-02T02:06:06.652147Z",
     "shell.execute_reply.started": "2022-02-02T02:06:06.644148Z"
    },
    "tags": []
   },
   "outputs": [],
   "source": [
    "for vr in all_vars_from_incidence(eqv, include_par=True):\n",
    "    vr.name = normalize_name(vr.name, keep_underscore=True)\n",
    "for fx in eqs.keys():\n",
    "    fx.name = normalize_name(fx.name, keep_underscore=False)"
   ]
  },
  {
   "cell_type": "code",
   "execution_count": 83,
   "id": "861038f6",
   "metadata": {
    "execution": {
     "iopub.execute_input": "2022-02-02T02:11:58.816155Z",
     "iopub.status.busy": "2022-02-02T02:11:58.816155Z",
     "iopub.status.idle": "2022-02-02T02:11:58.825165Z",
     "shell.execute_reply": "2022-02-02T02:11:58.824157Z",
     "shell.execute_reply.started": "2022-02-02T02:11:58.816155Z"
    },
    "tags": []
   },
   "outputs": [],
   "source": [
    "prob = om.Problem()\n",
    "opt_model = prob.model\n",
    "groups = {0:opt_model}"
   ]
  },
  {
   "cell_type": "code",
   "execution_count": 84,
   "id": "1135783d",
   "metadata": {
    "execution": {
     "iopub.execute_input": "2022-02-02T02:11:59.096159Z",
     "iopub.status.busy": "2022-02-02T02:11:59.096159Z",
     "iopub.status.idle": "2022-02-02T02:11:59.108157Z",
     "shell.execute_reply": "2022-02-02T02:11:59.106159Z",
     "shell.execute_reply.started": "2022-02-02T02:11:59.096159Z"
    },
    "tags": []
   },
   "outputs": [],
   "source": [
    "buildidpvars(dins, opt_model)"
   ]
  },
  {
   "cell_type": "code",
   "execution_count": 85,
   "id": "bf250603-44f2-440b-8926-8a22ff25a031",
   "metadata": {
    "execution": {
     "iopub.execute_input": "2022-02-02T02:11:59.309161Z",
     "iopub.status.busy": "2022-02-02T02:11:59.308157Z",
     "iopub.status.idle": "2022-02-02T02:11:59.324157Z",
     "shell.execute_reply": "2022-02-02T02:11:59.323159Z",
     "shell.execute_reply.started": "2022-02-02T02:11:59.309161Z"
    },
    "tags": []
   },
   "outputs": [],
   "source": [
    "inst_mapping = {\n",
    "    'exp': lambda *args: explicit(groups, eqs, *args),\n",
    "    'solver': lambda *args: solver(groups, eqs, *args)\n",
    "}"
   ]
  },
  {
   "cell_type": "code",
   "execution_count": 86,
   "id": "dea304c3-9cf3-4d4f-a299-018972a21c67",
   "metadata": {
    "execution": {
     "iopub.execute_input": "2022-02-02T02:11:59.526157Z",
     "iopub.status.busy": "2022-02-02T02:11:59.525156Z",
     "iopub.status.idle": "2022-02-02T02:11:59.578155Z",
     "shell.execute_reply": "2022-02-02T02:11:59.576154Z",
     "shell.execute_reply.started": "2022-02-02T02:11:59.526157Z"
    },
    "tags": []
   },
   "outputs": [],
   "source": [
    "for comp_type, *comp_args in exec_instructions:\n",
    "    inst_mapping[comp_type](*comp_args)"
   ]
  },
  {
   "cell_type": "code",
   "execution_count": 87,
   "id": "22383455-084c-4d40-9bcc-cfaa9bd2f3ec",
   "metadata": {
    "execution": {
     "iopub.execute_input": "2022-02-02T02:12:00.143164Z",
     "iopub.status.busy": "2022-02-02T02:12:00.143164Z",
     "iopub.status.idle": "2022-02-02T02:12:00.154158Z",
     "shell.execute_reply": "2022-02-02T02:12:00.152155Z",
     "shell.execute_reply.started": "2022-02-02T02:12:00.143164Z"
    },
    "tags": []
   },
   "outputs": [],
   "source": [
    "opt_model.linear_solver = om.DirectSolver()\n",
    "nlbgs = opt_model.nonlinear_solver = om.NewtonSolver(solve_subsystems=True)"
   ]
  },
  {
   "cell_type": "code",
   "execution_count": 88,
   "id": "cef5beb5",
   "metadata": {
    "execution": {
     "iopub.execute_input": "2022-02-02T02:12:00.883157Z",
     "iopub.status.busy": "2022-02-02T02:12:00.882158Z",
     "iopub.status.idle": "2022-02-02T02:12:00.914158Z",
     "shell.execute_reply": "2022-02-02T02:12:00.913153Z",
     "shell.execute_reply.started": "2022-02-02T02:12:00.883157Z"
    },
    "tags": []
   },
   "outputs": [],
   "source": [
    "prob.setup();"
   ]
  },
  {
   "cell_type": "code",
   "execution_count": 89,
   "id": "dadac10f",
   "metadata": {
    "execution": {
     "iopub.execute_input": "2022-02-02T02:12:03.233159Z",
     "iopub.status.busy": "2022-02-02T02:12:03.232157Z",
     "iopub.status.idle": "2022-02-02T02:12:03.241158Z",
     "shell.execute_reply": "2022-02-02T02:12:03.240156Z",
     "shell.execute_reply.started": "2022-02-02T02:12:03.233159Z"
    },
    "tags": []
   },
   "outputs": [
    {
     "data": {
      "text/plain": [
       "array([1.])"
      ]
     },
     "execution_count": 89,
     "metadata": {},
     "output_type": "execute_result"
    }
   ],
   "source": [
    "prob.get_val('r_0')"
   ]
  },
  {
   "cell_type": "code",
   "execution_count": 90,
   "id": "74c3b554-d50a-4d1c-9889-cb7b67a9c574",
   "metadata": {
    "execution": {
     "iopub.execute_input": "2022-02-02T02:12:06.188160Z",
     "iopub.status.busy": "2022-02-02T02:12:06.186159Z",
     "iopub.status.idle": "2022-02-02T02:12:06.441155Z",
     "shell.execute_reply": "2022-02-02T02:12:06.439158Z",
     "shell.execute_reply.started": "2022-02-02T02:12:06.188160Z"
    },
    "tags": []
   },
   "outputs": [
    {
     "data": {
      "text/html": [
       "\n",
       "        <iframe\n",
       "            width=\"100%\"\n",
       "            height=\"700\"\n",
       "            src=\"n2.html\"\n",
       "            frameborder=\"0\"\n",
       "            allowfullscreen\n",
       "            \n",
       "        ></iframe>\n",
       "        "
      ],
      "text/plain": [
       "<IPython.lib.display.IFrame at 0x15ed26842b0>"
      ]
     },
     "metadata": {},
     "output_type": "display_data"
    }
   ],
   "source": [
    "om.n2(prob)"
   ]
  },
  {
   "cell_type": "code",
   "execution_count": 91,
   "id": "ab973cf1",
   "metadata": {
    "execution": {
     "iopub.execute_input": "2022-02-02T02:12:09.746681Z",
     "iopub.status.busy": "2022-02-02T02:12:09.746681Z",
     "iopub.status.idle": "2022-02-02T02:12:10.174683Z",
     "shell.execute_reply": "2022-02-02T02:12:10.173685Z",
     "shell.execute_reply.started": "2022-02-02T02:12:09.746681Z"
    },
    "tags": []
   },
   "outputs": [
    {
     "name": "stdout",
     "output_type": "stream",
     "text": [
      "+  \n",
      "+  ======\n",
      "+  group1\n",
      "+  ======\n",
      "+  NL: Newton Converged in 15 iterations\n",
      "+  \n",
      "+  ======\n",
      "+  group2\n",
      "+  ======\n",
      "+  NL: NewtonSolver 'NL: Newton' on system 'group2' failed to converge in 20 iterations.\n",
      "+  \n",
      "+  ======\n",
      "+  group1\n",
      "+  ======\n",
      "+  NL: Newton Converged in 3 iterations\n",
      "+  \n",
      "+  ======\n",
      "+  group2\n",
      "+  ======\n",
      "+  NL: Newton Converged in 3 iterations\n",
      "+  \n",
      "+  ======\n",
      "+  group1\n",
      "+  ======\n",
      "+  NL: Newton Converged in 1 iterations\n",
      "+  \n",
      "+  ======\n",
      "+  group2\n",
      "+  ======\n",
      "+  NL: Newton Converged in 1 iterations\n",
      "NL: Newton Converged in 2 iterations\n"
     ]
    }
   ],
   "source": [
    "#prob.set_val('r0', 12)\n",
    "prob.run_model()"
   ]
  },
  {
   "cell_type": "code",
   "execution_count": 92,
   "id": "5c4cf216",
   "metadata": {
    "execution": {
     "iopub.execute_input": "2022-02-02T02:12:13.646893Z",
     "iopub.status.busy": "2022-02-02T02:12:13.644896Z",
     "iopub.status.idle": "2022-02-02T02:12:13.678894Z",
     "shell.execute_reply": "2022-02-02T02:12:13.677894Z",
     "shell.execute_reply.started": "2022-02-02T02:12:13.645897Z"
    },
    "tags": []
   },
   "outputs": [
    {
     "name": "stdout",
     "output_type": "stream",
     "text": [
      "25 Explicit Output(s) in 'model'\n",
      "\n",
      "varname     val              \n",
      "----------  -----------------\n",
      "inp\n",
      "  a         [1.]             \n",
      "  P_0       [101300.]        \n",
      "  v         [6.]             \n",
      "  T_0       [288.15]         \n",
      "  P_z       [1197.]          \n",
      "  rho_0     [1.225]          \n",
      "  MH2       [1.66e-27]       \n",
      "  m_v       [500.]           \n",
      "  T_z       [226.51]         \n",
      "  k         [1.38064852e-23] \n",
      "  m_p       [4624.]          \n",
      "  G_0       [9.807]          \n",
      "  C_D       [0.47]           \n",
      "  MHe       [6.64e-27]       \n",
      "eqf0\n",
      "  m_t       [6005.97898348]  \n",
      "group1\n",
      "  eqf1\n",
      "    A_0     [363.64624836]   \n",
      "  eqf2\n",
      "    V_0     [5216.53910562]  \n",
      "  eqf3\n",
      "    rhoLG0  [0.16907359]     \n",
      "  eqf4\n",
      "    m_l     [881.97898347]   \n",
      "  eqf5\n",
      "    L_0     [62669.28378583] \n",
      "  eqf6\n",
      "    W_0     [58900.63589097] \n",
      "  eqf7\n",
      "    D_0     [3768.64789486]  \n",
      "group2\n",
      "  eqf9\n",
      "    h_z     [130.78177411]   \n",
      "  eqf10\n",
      "    V_z     [347029.59908913]\n",
      "  eqf11\n",
      "    rhoLGz  [0.00254151]     \n",
      "\n",
      "\n",
      "2 Implicit Output(s) in 'model'\n",
      "\n",
      "varname  val          \n",
      "-------  -------------\n",
      "group1\n",
      "  resR1\n",
      "    r_0  [10.75881945]\n",
      "group2\n",
      "  resR2\n",
      "    r_z  [43.5939247] \n",
      "\n",
      "\n"
     ]
    }
   ],
   "source": [
    "opt_model.list_outputs();"
   ]
  },
  {
   "cell_type": "code",
   "execution_count": 93,
   "id": "9c84002d-8be0-4856-a01e-c11183897e36",
   "metadata": {
    "execution": {
     "iopub.execute_input": "2022-02-02T02:12:17.709887Z",
     "iopub.status.busy": "2022-02-02T02:12:17.708888Z",
     "iopub.status.idle": "2022-02-02T02:12:17.724889Z",
     "shell.execute_reply": "2022-02-02T02:12:17.723884Z",
     "shell.execute_reply.started": "2022-02-02T02:12:17.709887Z"
    },
    "tags": []
   },
   "outputs": [],
   "source": [
    "optres = {key.name: prob.get_val(key.name)[0] for key in \n",
    "          all_vars_from_incidence(eqv, include_par=True)}"
   ]
  },
  {
   "cell_type": "code",
   "execution_count": 94,
   "id": "21316742-8a36-4ac5-a676-d0d1a239b3c8",
   "metadata": {
    "execution": {
     "iopub.execute_input": "2022-02-02T02:12:19.878693Z",
     "iopub.status.busy": "2022-02-02T02:12:19.877683Z",
     "iopub.status.idle": "2022-02-02T02:12:19.893682Z",
     "shell.execute_reply": "2022-02-02T02:12:19.892682Z",
     "shell.execute_reply.started": "2022-02-02T02:12:19.878693Z"
    },
    "tags": []
   },
   "outputs": [
    {
     "data": {
      "text/plain": [
       "{f0: (m_t, m_p + m_v + m_l),\n",
       " f1: (A_0, 3.14159265358979*r_0**2),\n",
       " f2: (V_0, 4.18879020478639*r_0**3),\n",
       " f3: (rhoLG0, P_0*(MH2*(1 - a) + MHe*a)/(T_0*k)),\n",
       " f4: (m_l, V_0*rhoLG0),\n",
       " f5: (L_0, G_0*rho_0*V_0),\n",
       " f6: (W_0, G_0*m_t),\n",
       " f7: (D_0, 0.5*C_D*rho_0*v**2*A_0),\n",
       " R1: (None, -D_0 + L_0 - W_0),\n",
       " f9: (h_z, 3.0*r_z),\n",
       " f10: (V_z, 4.18879020478639*r_z**3),\n",
       " f11: (rhoLGz, P_z*(MH2*(1 - a) + MHe*a)/(T_z*k)),\n",
       " R2: (None, -V_z*rhoLGz + m_l)}"
      ]
     },
     "execution_count": 94,
     "metadata": {},
     "output_type": "execute_result"
    }
   ],
   "source": [
    "eqs"
   ]
  },
  {
   "cell_type": "code",
   "execution_count": 95,
   "id": "1e0c2e8a",
   "metadata": {
    "execution": {
     "iopub.execute_input": "2022-02-02T02:12:21.007902Z",
     "iopub.status.busy": "2022-02-02T02:12:21.007902Z",
     "iopub.status.idle": "2022-02-02T02:12:21.059895Z",
     "shell.execute_reply": "2022-02-02T02:12:21.058942Z",
     "shell.execute_reply.started": "2022-02-02T02:12:21.007902Z"
    },
    "tags": []
   },
   "outputs": [
    {
     "data": {
      "text/plain": [
       "[4.7339199227280915e-09,\n",
       " 0.0,\n",
       " 0.0,\n",
       " 0.0,\n",
       " 0.0,\n",
       " 0.0,\n",
       " 0.0,\n",
       " 0.0,\n",
       " -1.4551915228366852e-11,\n",
       " 0.0,\n",
       " 0.0,\n",
       " 0.0,\n",
       " 0.0]"
      ]
     },
     "execution_count": 95,
     "metadata": {},
     "output_type": "execute_result"
    }
   ],
   "source": [
    "[Evaluable.fromsympy(left-eq if left else eq).evaldict(optres) for left, eq in eqs.values()]"
   ]
  }
 ],
 "metadata": {
  "kernelspec": {
   "display_name": "Python [conda env:mdo]",
   "language": "python",
   "name": "conda-env-mdo-py"
  },
  "language_info": {
   "codemirror_mode": {
    "name": "ipython",
    "version": 3
   },
   "file_extension": ".py",
   "mimetype": "text/x-python",
   "name": "python",
   "nbconvert_exporter": "python",
   "pygments_lexer": "ipython3",
   "version": "3.9.7"
  }
 },
 "nbformat": 4,
 "nbformat_minor": 5
}
