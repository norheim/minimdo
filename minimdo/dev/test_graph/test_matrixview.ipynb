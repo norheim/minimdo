{
 "cells": [
  {
   "cell_type": "markdown",
   "id": "9c2d4505",
   "metadata": {},
   "source": [
    "# Demonstration of equation structure matrix visualization"
   ]
  },
  {
   "cell_type": "code",
   "execution_count": 1,
   "id": "065e52d1",
   "metadata": {},
   "outputs": [],
   "source": [
    "from graph.matrixview import render_incidence\n",
    "from graph.operators import eqv_to_edges_tree\n",
    "from graph.graphutils import VAR, COMP, SOLVER, namefromid"
   ]
  },
  {
   "cell_type": "code",
   "execution_count": 2,
   "id": "3870b0a2-4de9-40b2-896f-ce395201d29d",
   "metadata": {
    "execution": {
     "iopub.execute_input": "2022-01-17T19:37:14.116072Z",
     "iopub.status.busy": "2022-01-17T19:37:14.115067Z",
     "iopub.status.idle": "2022-01-17T19:37:14.124070Z",
     "shell.execute_reply": "2022-01-17T19:37:14.123069Z",
     "shell.execute_reply.started": "2022-01-17T19:37:14.116072Z"
    },
    "tags": []
   },
   "outputs": [],
   "source": [
    "incidence_structure = {\n",
    "    'f_0': ('x','y'),   \n",
    "    'f_1': ('a','c','y'),   # analysis f1(c, y)\n",
    "    'f_2': ('a','b'),       # analysis f2(a)\n",
    "    'r_1': ('b','d'),       # function \n",
    "    'f_3': ('e','c', 'b')\n",
    "         }\n",
    "solvefor = {\n",
    "    'f_0': 'y',     # should not be c, given that solvefor for r1 is c\n",
    "    'f_1': 'a',\n",
    "    'f_2': 'b',\n",
    "    'f_3': 'e',     # should not be c, given that solvefor for r1 is c\n",
    "}\n",
    "Vtree = {\n",
    "    'c': 2      #(? when not assigned) # for 'diagonalized' DSM should be 'd'\n",
    "    # note also that 'c' has to be an input upstream of 'r1', but if r1 is under a solver, then 'c' can not be an output of any node outside\n",
    "}"
   ]
  },
  {
   "cell_type": "code",
   "execution_count": 3,
   "id": "0a749521",
   "metadata": {},
   "outputs": [],
   "source": [
    "edges, tree, _ = eqv_to_edges_tree(incidence_structure, output_set=solvefor, offset=False)"
   ]
  },
  {
   "cell_type": "code",
   "execution_count": 4,
   "id": "dcd8ce01",
   "metadata": {},
   "outputs": [],
   "source": [
    "for elt in ['f_1', 'f_2', 'r_1']:\n",
    "    tree[0][elt] = 2\n",
    "tree = (tree[0], {2:1}, Vtree)"
   ]
  },
  {
   "cell_type": "code",
   "execution_count": 5,
   "id": "10ffc352",
   "metadata": {},
   "outputs": [],
   "source": [
    "nodetyperepr = {VAR: '{}', COMP: '{}', SOLVER: '{}'}\n",
    "namingfunc = namefromid(nodetyperepr)"
   ]
  },
  {
   "cell_type": "code",
   "execution_count": 6,
   "id": "5073bb48",
   "metadata": {},
   "outputs": [
    {
     "data": {
      "image/png": "[encoded data removed]",
      "text/plain": [
       "<Figure size 200x200 with 1 Axes>"
      ]
     },
     "metadata": {},
     "output_type": "display_data"
    }
   ],
   "source": [
    "render_incidence(edges, tree, rawvarname=True, namingfunc=namingfunc, indentsolver=False, hideticks=True, figsize=(2,2), fontsize=12, patchwidth=2);"
   ]
  }
 ],
 "metadata": {
  "kernelspec": {
   "display_name": "minimdo",
   "language": "python",
   "name": "python3"
  },
  "language_info": {
   "codemirror_mode": {
    "name": "ipython",
    "version": 3
   },
   "file_extension": ".py",
   "mimetype": "text/x-python",
   "name": "python",
   "nbconvert_exporter": "python",
   "pygments_lexer": "ipython3",
   "version": "3.9.18"
  }
 },
 "nbformat": 4,
 "nbformat_minor": 5
}
