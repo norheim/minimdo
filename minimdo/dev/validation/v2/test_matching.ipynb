{
 "cells": [
  {
   "cell_type": "code",
   "execution_count": null,
   "metadata": {},
   "outputs": [],
   "source": [
    "from src.v1.inputresolver import eqvars, default_out, getallvars, var_matched_cons, invert_edges\n",
    "from src.v1.presolver import var_matched_cons\n",
    "from graph.graphview import bipartite_repr\n",
    "from src.v1.symbolic import Var\n",
    "import gurobipy as gp\n",
    "from gurobipy import GRB"
   ]
  },
  {
   "cell_type": "markdown",
   "metadata": {},
   "source": [
    "### Test equations with same output"
   ]
  },
  {
   "cell_type": "code",
   "execution_count": 3,
   "metadata": {},
   "outputs": [],
   "source": [
    "a,b,c,d = Var('a'), Var('b'), Var('c'), Var('d')\n",
    "eqlist = [(b,c+1),(a,b-2),(a,2*d+3)]\n",
    "eqs = {idx: eq for idx, eq in enumerate(eqlist)}\n",
    "dout = default_out(eqs)\n",
    "vrs = getallvars(eqs)\n",
    "eqns = eqs.keys()\n",
    "eqv = eqvars(eqs)\n",
    "G, edges_original = bipartite_repr(eqv)\n",
    "edges = invert_edges(edges_original)"
   ]
  },
  {
   "cell_type": "code",
   "execution_count": 4,
   "metadata": {},
   "outputs": [],
   "source": [
    "not_input = []\n",
    "n_eqs = len(eqns)"
   ]
  },
  {
   "cell_type": "code",
   "execution_count": 5,
   "metadata": {},
   "outputs": [
    {
     "name": "stdout",
     "output_type": "stream",
     "text": [
      "Set parameter WLSAccessID\n",
      "Set parameter WLSSecret\n",
      "Set parameter LicenseID to value 2527862\n",
      "Academic license 2527862 - for non-commercial use only - registered to no___@mit.edu\n",
      "Set parameter WLSSecret\n",
      "Set parameter LicenseID to value 2527862\n",
      "Academic license 2527862 - for non-commercial use only - registered to no___@mit.edu\n"
     ]
    }
   ],
   "source": [
    "m = gp.Model('minrevassign')\n",
    "m.setParam('OutputFlag', False)\n",
    "x = m.addVars(edges, name=\"assign\", vtype=GRB.BINARY)"
   ]
  },
  {
   "cell_type": "code",
   "execution_count": 6,
   "metadata": {},
   "outputs": [],
   "source": [
    "# Matching eqs:\n",
    "fcons = m.addConstrs((x.sum(j,'*') == 1 for j in eqns), name='equations')\n",
    "varcons = m.addConstrs((var_matched_cons(x, j, not_input) for j in vrs), name='variables')\n",
    "m.setObjective(gp.quicksum([x[(key, var)] for key,var in dout.items()]), GRB.MAXIMIZE)\n",
    "# Elimination\n",
    "#m.addConstr(gp.quicksum(x[(r,j)] for r,j in sol)<= n_eqs-1) "
   ]
  },
  {
   "cell_type": "code",
   "execution_count": 7,
   "metadata": {},
   "outputs": [],
   "source": [
    "m.optimize()"
   ]
  },
  {
   "cell_type": "code",
   "execution_count": 8,
   "metadata": {},
   "outputs": [
    {
     "data": {
      "text/plain": [
       "2.0"
      ]
     },
     "execution_count": 8,
     "metadata": {},
     "output_type": "execute_result"
    }
   ],
   "source": [
    "m.objVal"
   ]
  },
  {
   "cell_type": "code",
   "execution_count": 9,
   "metadata": {},
   "outputs": [],
   "source": [
    "sol = [(r,j) for (r, j) in edges if x[r,j].x>1e-6]"
   ]
  },
  {
   "cell_type": "code",
   "execution_count": 10,
   "metadata": {},
   "outputs": [],
   "source": [
    "sol_outset = {key:val for key,val in sol}"
   ]
  },
  {
   "cell_type": "code",
   "execution_count": 11,
   "metadata": {},
   "outputs": [
    {
     "data": {
      "text/plain": [
       "{0: b, 1: a, 2: d}"
      ]
     },
     "execution_count": 11,
     "metadata": {},
     "output_type": "execute_result"
    }
   ],
   "source": [
    "sol_outset"
   ]
  },
  {
   "cell_type": "code",
   "execution_count": null,
   "metadata": {},
   "outputs": [],
   "source": []
  }
 ],
 "metadata": {
  "kernelspec": {
   "display_name": "minimdo",
   "language": "python",
   "name": "python3"
  },
  "language_info": {
   "codemirror_mode": {
    "name": "ipython",
    "version": 3
   },
   "file_extension": ".py",
   "mimetype": "text/x-python",
   "name": "python",
   "nbconvert_exporter": "python",
   "pygments_lexer": "ipython3",
   "version": "3.9.18"
  }
 },
 "nbformat": 4,
 "nbformat_minor": 2
}
