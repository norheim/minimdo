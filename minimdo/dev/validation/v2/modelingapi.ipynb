{
 "cells": [
  {
   "cell_type": "code",
   "execution_count": 1,
   "id": "1b2545f8",
   "metadata": {},
   "outputs": [],
   "source": [
    "from modeling.compute import Par, Var\n",
    "from modeling.gen2.nesting import RefNode, Model, adda, addf"
   ]
  },
  {
   "cell_type": "code",
   "execution_count": 2,
   "id": "26b182fe",
   "metadata": {},
   "outputs": [],
   "source": [
    "model = Model()\n",
    "m = RefNode(name='/', ref=model)\n",
    "a = Var('a')\n",
    "e = Var('e')\n",
    "p = Par('p', 0.1)\n",
    "x = adda(m, 'x', 0.5*a)\n",
    "b = adda(m, 'b', x+0.5)\n",
    "d = Var('d')\n",
    "c = adda(m, 'c', p*d+20+0.5*b)\n",
    "adda(m, d, c-10)\n",
    "addf(m, d+0.5*e, nameasidx=True);"
   ]
  },
  {
   "cell_type": "code",
   "execution_count": 3,
   "id": "fd845f67",
   "metadata": {},
   "outputs": [],
   "source": [
    "eqs, eqv, dout, dins = model.data_structures()"
   ]
  },
  {
   "cell_type": "code",
   "execution_count": null,
   "id": "2e41f9ba",
   "metadata": {},
   "outputs": [],
   "source": []
  }
 ],
 "metadata": {
  "kernelspec": {
   "display_name": "minimdo",
   "language": "python",
   "name": "python3"
  },
  "language_info": {
   "codemirror_mode": {
    "name": "ipython",
    "version": 3
   },
   "file_extension": ".py",
   "mimetype": "text/x-python",
   "name": "python",
   "nbconvert_exporter": "python",
   "pygments_lexer": "ipython3",
   "version": "3.9.18"
  }
 },
 "nbformat": 4,
 "nbformat_minor": 5
}
