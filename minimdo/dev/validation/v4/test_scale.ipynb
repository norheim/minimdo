{
 "cells": [
  {
   "cell_type": "code",
   "execution_count": 704,
   "metadata": {},
   "outputs": [],
   "source": [
    "import torch\n",
    "import numpy as np\n",
    "import string\n",
    "import random\n",
    "import sympy as sp\n",
    "\n",
    "def generate_systems(m_list, xlen=1):\n",
    "    systems = []\n",
    "    variables = list(string.ascii_lowercase)\n",
    "    xvars = variables[:xlen]\n",
    "    variables = variables[xlen:]\n",
    "    vars_used = xvars.copy()\n",
    "\n",
    "    for m in m_list:\n",
    "        A = torch.zeros((m, m))\n",
    "        while np.linalg.matrix_rank(A) != m:\n",
    "            A = torch.randint(-10, 11, size=(m, m), dtype=torch.float64)\n",
    "        x = torch.randint(-10, 11, size=(m,), dtype=torch.float64)\n",
    "        b = A @ x\n",
    "        #print(A)\n",
    "        #print(b)\n",
    "        unique_vars = variables[:m]\n",
    "        vars_used += unique_vars\n",
    "        variables = variables[m:]\n",
    "        systems.append((A, b, unique_vars))\n",
    "\n",
    "    updated_systems = []\n",
    "    for i in range(len(systems)):\n",
    "        A, b, unique_vars = systems[i]\n",
    "        other_vars_flat = [var for idx, (sys_A, sys_b, uv) in enumerate(systems) if idx != i for var in uv]\n",
    "        #random int between 0 and len(other_vars_flat), distribution significantly favors lower numbers\n",
    "        max_val = min(5, len(other_vars_flat))\n",
    "        num_shared_vars = int(max_val**random.random())\n",
    "        shared_vars = random.sample(other_vars_flat, num_shared_vars)\n",
    "        max_val_x = min(2, len(xvars))\n",
    "        num_xvars_picked = random.randint(0, max_val_x)\n",
    "        shared_vars += random.sample(xvars, num_xvars_picked)\n",
    "\n",
    "        # Extend A for shared variables\n",
    "        for shared_var in shared_vars:\n",
    "            if shared_var not in unique_vars:\n",
    "                new_col = torch.zeros((A.shape[0], 1), dtype=torch.float64)\n",
    "                # now set a random subset of the new column to be non-zero. Make sure at least one is non-zero\n",
    "                new_col[torch.randint(0, A.shape[0], (1,)), 0] = torch.randint(-10, 11, (1,), dtype=torch.float64)\n",
    "                A = torch.hstack((A, new_col))\n",
    "\n",
    "        #residual_lambda = lambda *x, A=A, b=b: (A @ torch.cat([t.unsqueeze(0) for t in x])).squeeze() - b\n",
    "        residual_lambda = lambda *x, A=A, b=b: ((sp.Matrix(A) @ sp.Matrix(x))- sp.Matrix(b))[0]\n",
    "        solve_lambda = lambda *y, A=A, b=b, unique_vars=unique_vars: torch.from_numpy(np.linalg.solve(A[:, :len(unique_vars)], b - A[:, len(unique_vars):] @ torch.tensor(y)))\n",
    "\n",
    "        updated_systems.append((shared_vars, unique_vars, residual_lambda, solve_lambda))\n",
    "\n",
    "    return updated_systems, vars_used"
   ]
  },
  {
   "cell_type": "code",
   "execution_count": null,
   "metadata": {},
   "outputs": [],
   "source": [
    "from src.v4.torchengine import AnalyticalSet, EliminateAnalysisMergeResiduals\n",
    "import torch\n",
    "# Set the print options\n",
    "np.set_printoptions(formatter={'float': lambda x: \"{:0.2f}\".format(x).rstrip('0').rstrip('.')})"
   ]
  },
  {
   "cell_type": "code",
   "execution_count": 709,
   "metadata": {},
   "outputs": [],
   "source": [
    "# Example usage\n",
    "n = 20  # Number of systems\n",
    "m_list = [1]*n  # Number of equations in each system\n",
    "\n",
    "systems, variables = generate_systems(m_list, xlen=2)"
   ]
  },
  {
   "cell_type": "code",
   "execution_count": 710,
   "metadata": {},
   "outputs": [],
   "source": [
    "indices = {var: torch.tensor([idx]) for idx, var in enumerate(variables)}"
   ]
  },
  {
   "cell_type": "code",
   "execution_count": null,
   "metadata": {},
   "outputs": [],
   "source": [
    "from sympy import symbols\n",
    "from src.v4.torchengine import reassigneq, AnalyticalSetSympy\n",
    "\n",
    "varn = len(variables)\n",
    "syms = symbols('x_1:%d' % (varn+1))\n",
    "sym_indices = {var: torch.tensor([idx]) for idx, var in enumerate(syms)}"
   ]
  },
  {
   "cell_type": "code",
   "execution_count": 746,
   "metadata": {},
   "outputs": [],
   "source": [
    "sets = {}\n",
    "functional_sets = []\n",
    "for idx, system in enumerate(systems):\n",
    "    shared_vars, unique_vars, residual_lambda, solve_lambda = system\n",
    "    set_original = AnalyticalSet((shared_vars, unique_vars, solve_lambda), indices,\n",
    "                               forceresidual=(unique_vars+shared_vars, residual_lambda))\n",
    "    sympy_residual = set_original.residual(syms)\n",
    "    new_outputvar = syms[indices[unique_vars[0]].item()]\n",
    "    sympy_analysis = reassigneq(None, sympy_residual, new_outputvar, rational=True)\n",
    "    functional_sets.append(\n",
    "        {'residual': str(sympy_residual), \n",
    "         'functionalvar': str(new_outputvar),\n",
    "         'analysis': str(sympy_analysis)})\n",
    "    sets[idx] = AnalyticalSetSympy(sympy_analysis, outputvar=new_outputvar, indices=sym_indices, forceresidual=sympy_residual)"
   ]
  },
  {
   "cell_type": "code",
   "execution_count": 747,
   "metadata": {},
   "outputs": [],
   "source": [
    "# save json data\n",
    "import json\n",
    "json_data = {'functional_sets': functional_sets}\n",
    "with open('../applications/data/linear_prob_size_20.json', 'w') as f:\n",
    "    json.dump(json_data, f, indent=4)"
   ]
  },
  {
   "cell_type": "code",
   "execution_count": 748,
   "metadata": {},
   "outputs": [
    {
     "data": {
      "text/latex": [
       "$\\displaystyle 10 - \\frac{3 x_{21}}{2}$"
      ],
      "text/plain": [
       "10 - 3*x_21/2"
      ]
     },
     "execution_count": 748,
     "metadata": {},
     "output_type": "execute_result"
    }
   ],
   "source": [
    "sets[7].expression"
   ]
  },
  {
   "cell_type": "code",
   "execution_count": 633,
   "metadata": {},
   "outputs": [],
   "source": [
    "# for set in sets.values():\n",
    "#     print(set.analysis.structure)"
   ]
  },
  {
   "cell_type": "code",
   "execution_count": 733,
   "metadata": {},
   "outputs": [],
   "source": [
    "x0 = torch.rand(len(variables), dtype=torch.float64)"
   ]
  },
  {
   "cell_type": "code",
   "execution_count": 734,
   "metadata": {},
   "outputs": [
    {
     "name": "stdout",
     "output_type": "stream",
     "text": [
      "  0.18\t  0.77\t  5.54\t  0.72\t  0.78\t  0.90\t  0.20\t  0.91\t  0.26\t  0.36\t  0.54\t  0.45\t  0.42\t  0.73\t  0.01\t  0.33\t  0.79\t  0.04\t  0.32\t  0.30\t  0.77\t  0.44\n",
      "  0.18\t  0.77\t  0.66\t  5.68\t  0.78\t  0.90\t  0.20\t  0.91\t  0.26\t  0.36\t  0.54\t  0.45\t  0.42\t  0.73\t  0.01\t  0.33\t  0.79\t  0.04\t  0.32\t  0.30\t  0.77\t  0.44\n",
      "  0.18\t  0.77\t  0.66\t  0.72\t -4.77\t  0.90\t  0.20\t  0.91\t  0.26\t  0.36\t  0.54\t  0.45\t  0.42\t  0.73\t  0.01\t  0.33\t  0.79\t  0.04\t  0.32\t  0.30\t  0.77\t  0.44\n",
      "  0.18\t  0.77\t  0.66\t  0.72\t  0.78\t -7.97\t  0.20\t  0.91\t  0.26\t  0.36\t  0.54\t  0.45\t  0.42\t  0.73\t  0.01\t  0.33\t  0.79\t  0.04\t  0.32\t  0.30\t  0.77\t  0.44\n",
      "  0.18\t  0.77\t  0.66\t  0.72\t  0.78\t  0.90\t  7.92\t  0.91\t  0.26\t  0.36\t  0.54\t  0.45\t  0.42\t  0.73\t  0.01\t  0.33\t  0.79\t  0.04\t  0.32\t  0.30\t  0.77\t  0.44\n",
      "  0.18\t  0.77\t  0.66\t  0.72\t  0.78\t  0.90\t  0.20\t  4.04\t  0.26\t  0.36\t  0.54\t  0.45\t  0.42\t  0.73\t  0.01\t  0.33\t  0.79\t  0.04\t  0.32\t  0.30\t  0.77\t  0.44\n",
      "  0.18\t  0.77\t  0.66\t  0.72\t  0.78\t  0.90\t  0.20\t  0.91\t  0.69\t  0.36\t  0.54\t  0.45\t  0.42\t  0.73\t  0.01\t  0.33\t  0.79\t  0.04\t  0.32\t  0.30\t  0.77\t  0.44\n",
      "  0.18\t  0.77\t  0.66\t  0.72\t  0.78\t  0.90\t  0.20\t  0.91\t  0.26\t  8.84\t  0.54\t  0.45\t  0.42\t  0.73\t  0.01\t  0.33\t  0.79\t  0.04\t  0.32\t  0.30\t  0.77\t  0.44\n",
      "  0.18\t  0.77\t  0.66\t  0.72\t  0.78\t  0.90\t  0.20\t  0.91\t  0.26\t  0.36\t  0.00\t  0.45\t  0.42\t  0.73\t  0.01\t  0.33\t  0.79\t  0.04\t  0.32\t  0.30\t  0.77\t  0.44\n",
      "  0.18\t  0.77\t  0.66\t  0.72\t  0.78\t  0.90\t  0.20\t  0.91\t  0.26\t  0.36\t  0.54\t -9.02\t  0.42\t  0.73\t  0.01\t  0.33\t  0.79\t  0.04\t  0.32\t  0.30\t  0.77\t  0.44\n",
      "  0.18\t  0.77\t  0.66\t  0.72\t  0.78\t  0.90\t  0.20\t  0.91\t  0.26\t  0.36\t  0.54\t  0.45\t  7.24\t  0.73\t  0.01\t  0.33\t  0.79\t  0.04\t  0.32\t  0.30\t  0.77\t  0.44\n",
      "  0.18\t  0.77\t  0.66\t  0.72\t  0.78\t  0.90\t  0.20\t  0.91\t  0.26\t  0.36\t  0.54\t  0.45\t  0.42\t -5.26\t  0.01\t  0.33\t  0.79\t  0.04\t  0.32\t  0.30\t  0.77\t  0.44\n",
      "  0.18\t  0.77\t  0.66\t  0.72\t  0.78\t  0.90\t  0.20\t  0.91\t  0.26\t  0.36\t  0.54\t  0.45\t  0.42\t  0.73\t -2.63\t  0.33\t  0.79\t  0.04\t  0.32\t  0.30\t  0.77\t  0.44\n",
      "  0.18\t  0.77\t  0.66\t  0.72\t  0.78\t  0.90\t  0.20\t  0.91\t  0.26\t  0.36\t  0.54\t  0.45\t  0.42\t  0.73\t  0.01\t  3.78\t  0.79\t  0.04\t  0.32\t  0.30\t  0.77\t  0.44\n",
      "  0.18\t  0.77\t  0.66\t  0.72\t  0.78\t  0.90\t  0.20\t  0.91\t  0.26\t  0.36\t  0.54\t  0.45\t  0.42\t  0.73\t  0.01\t  0.33\t  3.09\t  0.04\t  0.32\t  0.30\t  0.77\t  0.44\n",
      "  0.18\t  0.77\t  0.66\t  0.72\t  0.78\t  0.90\t  0.20\t  0.91\t  0.26\t  0.36\t  0.54\t  0.45\t  0.42\t  0.73\t  0.01\t  0.33\t  0.79\t  5.64\t  0.32\t  0.30\t  0.77\t  0.44\n",
      "  0.18\t  0.77\t  0.66\t  0.72\t  0.78\t  0.90\t  0.20\t  0.91\t  0.26\t  0.36\t  0.54\t  0.45\t  0.42\t  0.73\t  0.01\t  0.33\t  0.79\t  0.04\t -3.79\t  0.30\t  0.77\t  0.44\n",
      "  0.18\t  0.77\t  0.66\t  0.72\t  0.78\t  0.90\t  0.20\t  0.91\t  0.26\t  0.36\t  0.54\t  0.45\t  0.42\t  0.73\t  0.01\t  0.33\t  0.79\t  0.04\t  0.32\t  5.09\t  0.77\t  0.44\n",
      "  0.18\t  0.77\t  0.66\t  0.72\t  0.78\t  0.90\t  0.20\t  0.91\t  0.26\t  0.36\t  0.54\t  0.45\t  0.42\t  0.73\t  0.01\t  0.33\t  0.79\t  0.04\t  0.32\t  0.30\t -0.71\t  0.44\n",
      "  0.18\t  0.77\t  0.66\t  0.72\t  0.78\t  0.90\t  0.20\t  0.91\t  0.26\t  0.36\t  0.54\t  0.45\t  0.42\t  0.73\t  0.01\t  0.33\t  0.79\t  0.04\t  0.32\t  0.30\t  0.77\t -7.41\n"
     ]
    }
   ],
   "source": [
    "for set in sets.values():\n",
    "    arr = set.analysis(x0).numpy()\n",
    "    formatted_arr = ['{:>6.2f}'.format(x) for x in arr]\n",
    "    print('\\t'.join(formatted_arr))"
   ]
  },
  {
   "cell_type": "code",
   "execution_count": 735,
   "metadata": {},
   "outputs": [],
   "source": [
    "R = EliminateAnalysisMergeResiduals([], [s.residual for s in sets.values()])"
   ]
  },
  {
   "cell_type": "code",
   "execution_count": 736,
   "metadata": {},
   "outputs": [],
   "source": [
    "from torch.autograd.functional import jacobian\n",
    "\n",
    "xvar = torch.zeros(len(variables), dtype=torch.float64, requires_grad=True)\n",
    "J = jacobian(R, xvar)"
   ]
  },
  {
   "cell_type": "code",
   "execution_count": 737,
   "metadata": {},
   "outputs": [],
   "source": [
    "Asol = J[:,2:].numpy()\n",
    "bsol = -R(xvar).detach().numpy()"
   ]
  },
  {
   "cell_type": "code",
   "execution_count": 738,
   "metadata": {},
   "outputs": [
    {
     "data": {
      "image/png": "[encoded data removed]",
      "text/plain": [
       "<Figure size 640x480 with 1 Axes>"
      ]
     },
     "metadata": {},
     "output_type": "display_data"
    }
   ],
   "source": [
    "import numpy as np\n",
    "from matplotlib.colors import ListedColormap\n",
    "import matplotlib.pyplot as plt\n",
    "\n",
    "# Print the system\n",
    "A = Asol\n",
    "b = bsol\n",
    "\n",
    "# Create a figure and axis\n",
    "fig, ax = plt.subplots()\n",
    "\n",
    "# Create a custom color map\n",
    "cmap = ListedColormap(['white', 'lightblue'])\n",
    "\n",
    "# Flip A upside down\n",
    "A_flipped = np.flipud(A)\n",
    "\n",
    "# Use imshow to create a binary color map\n",
    "cax = ax.pcolormesh(np.where(A_flipped != 0, 1, 0), cmap=cmap, edgecolors='lightgray', linewidth=1)\n",
    "\n",
    "# Make cells square\n",
    "ax.set_aspect('equal')\n",
    "\n",
    "# Get the number of cells in x and y directions\n",
    "num_cells_x = A.shape[1]\n",
    "num_cells_y = A.shape[0]\n",
    "\n",
    "# Add text at the center of the cells\n",
    "for i in range(num_cells_y):\n",
    "    for j in range(num_cells_x):\n",
    "        if A[i, j] != 0:\n",
    "            ax.text(j+0.5, num_cells_y-i-0.5, \"{:0.2f}\".format(A[i,j]).rstrip('0').rstrip('.'), ha='center', va='center')\n",
    "            \n",
    "ax.set_xticklabels([])\n",
    "ax.set_yticklabels([])\n",
    "\n",
    "# Optionally, remove the ticks as well\n",
    "ax.set_xticks([])\n",
    "ax.set_yticks([])\n",
    "\n",
    "# Show the plot\n",
    "plt.show()"
   ]
  },
  {
   "cell_type": "code",
   "execution_count": 620,
   "metadata": {},
   "outputs": [
    {
     "name": "stdout",
     "output_type": "stream",
     "text": [
      "(tensor([12,  1]), tensor([2]))\n",
      "(tensor([14,  0]), tensor([3]))\n",
      "(tensor([13,  3,  0]), tensor([4]))\n",
      "(tensor([10, 13, 11,  1]), tensor([5]))\n",
      "(tensor([12,  4, 15,  1]), tensor([6]))\n",
      "(tensor([21,  0]), tensor([7]))\n",
      "(tensor([17, 11,  1,  0]), tensor([8]))\n",
      "(tensor([12,  0]), tensor([9]))\n",
      "(tensor([21,  0]), tensor([10]))\n",
      "(tensor([ 7, 13]), tensor([11]))\n",
      "(tensor([13,  0]), tensor([12]))\n",
      "(tensor([19, 11]), tensor([13]))\n",
      "(tensor([ 3, 11]), tensor([14]))\n",
      "(tensor([9, 5]), tensor([15]))\n",
      "(tensor([ 5, 21]), tensor([16]))\n",
      "(tensor([13,  0,  1]), tensor([17]))\n",
      "(tensor([ 9, 11,  1]), tensor([18]))\n",
      "(tensor([11]), tensor([19]))\n",
      "(tensor([4, 0, 1]), tensor([20]))\n",
      "(tensor([18, 13, 17]), tensor([21]))\n"
     ]
    }
   ],
   "source": [
    "edges = ({},{})\n",
    "for set in sets.values():\n",
    "    for elt in set.analysis.structure[1]:\n",
    "        edges[0][f'f{elt.item()}'] = tuple(set.analysis.structure[0].tolist())\n",
    "        edges[1][f'f{elt.item()}'] = (elt.item(),)\n",
    "    print(set.analysis.structure)"
   ]
  },
  {
   "cell_type": "code",
   "execution_count": 621,
   "metadata": {},
   "outputs": [],
   "source": [
    "from graph.graphutils import all_edges, all_variables, flat_graph_formulation\n",
    "from graph.matrixview import render_incidence\n",
    "from graph.operators import invert_edges, sort_scc, eqv_to_edges_tree\n",
    "from presolver.tearing import min_arc_set_assign, min_arc_set\n",
    "from collections import OrderedDict"
   ]
  },
  {
   "cell_type": "code",
   "execution_count": 622,
   "metadata": {},
   "outputs": [],
   "source": [
    "edges_for_solving = invert_edges(*edges)\n",
    "eqnidxs = list(edges[0].keys())\n",
    "varidxs = all_variables(*edges_for_solving)\n",
    "edges_left_right = all_edges(*edges_for_solving)\n",
    "dout = {key:val[0] for key,val in edges[1].items()}\n",
    "cycles, elimset,m = min_arc_set(edges_left_right, dout, varidxs, eqnidxs)"
   ]
  },
  {
   "cell_type": "code",
   "execution_count": 623,
   "metadata": {},
   "outputs": [],
   "source": [
    "outset_opt = {key:val for key,val in dout.items() if key not in elimset}"
   ]
  },
  {
   "cell_type": "code",
   "execution_count": 624,
   "metadata": {},
   "outputs": [],
   "source": [
    "edgesopt, _, _ = eqv_to_edges_tree(edges_for_solving[0], output_set=outset_opt, offset=False)\n",
    "G = flat_graph_formulation(*edgesopt)\n",
    "order = sort_scc(G)\n",
    "treeopt = (OrderedDict([(list(elt)[0].name,1) for elt in order]),{},{})"
   ]
  },
  {
   "cell_type": "code",
   "execution_count": 626,
   "metadata": {},
   "outputs": [
    {
     "data": {
      "image/png": "[encoded data removed]",
      "text/plain": [
       "<Figure size 600x600 with 1 Axes>"
      ]
     },
     "metadata": {},
     "output_type": "display_data"
    }
   ],
   "source": [
    "render_incidence(edgesopt, treeopt, rotation=0, hideticks=True, dispendcomp=True, figsize=((6,6)), fontsize=10);"
   ]
  },
  {
   "cell_type": "code",
   "execution_count": 481,
   "metadata": {},
   "outputs": [],
   "source": [
    "solvevars = []\n",
    "for s in sets.values():\n",
    "    solvevars += [s.analysis.structure[1]]\n",
    "solvevars = torch.cat(solvevars)"
   ]
  },
  {
   "cell_type": "code",
   "execution_count": 482,
   "metadata": {},
   "outputs": [],
   "source": [
    "xsol = torch.from_numpy(np.linalg.solve(Asol, bsol))"
   ]
  },
  {
   "cell_type": "code",
   "execution_count": 483,
   "metadata": {},
   "outputs": [
    {
     "data": {
      "text/plain": [
       "array([-7.58, -4.44, 6.43, -10.59, -15.72, -5.42, -9.51, 14.09, 11.82])"
      ]
     },
     "execution_count": 483,
     "metadata": {},
     "output_type": "execute_result"
    }
   ],
   "source": [
    "xsol.numpy()"
   ]
  },
  {
   "cell_type": "code",
   "execution_count": 484,
   "metadata": {},
   "outputs": [],
   "source": [
    "xfullsol = xvar.detach().clone()\n",
    "xfullsol[solvevars] = xsol"
   ]
  },
  {
   "cell_type": "code",
   "execution_count": 485,
   "metadata": {},
   "outputs": [
    {
     "name": "stdout",
     "output_type": "stream",
     "text": [
      "  0.00\t  0.00\t -7.58\t -4.44\t  6.43\t-10.59\t-15.72\t -5.42\t -9.51\t 14.09\t 11.82\n",
      "  0.00\t  0.00\t -7.58\t -4.44\t  6.43\t-10.59\t-15.72\t -5.42\t -9.51\t 14.09\t 11.82\n",
      "  0.00\t  0.00\t -7.58\t -4.44\t  6.43\t-10.59\t-15.72\t -5.42\t -9.51\t 14.09\t 11.82\n"
     ]
    }
   ],
   "source": [
    "for set in sets.values():\n",
    "    arr = set.analysis(xfullsol).numpy()\n",
    "    formatted_arr = ['{:>6.2f}'.format(x) for x in arr]\n",
    "    print('\\t'.join(formatted_arr))"
   ]
  }
 ],
 "metadata": {
  "kernelspec": {
   "display_name": "minimdo",
   "language": "python",
   "name": "python3"
  },
  "language_info": {
   "codemirror_mode": {
    "name": "ipython",
    "version": 3
   },
   "file_extension": ".py",
   "mimetype": "text/x-python",
   "name": "python",
   "nbconvert_exporter": "python",
   "pygments_lexer": "ipython3",
   "version": "3.9.18"
  }
 },
 "nbformat": 4,
 "nbformat_minor": 2
}
