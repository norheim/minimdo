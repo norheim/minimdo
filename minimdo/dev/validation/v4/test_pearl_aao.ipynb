{
 "cells": [
  {
   "cell_type": "code",
   "execution_count": null,
   "metadata": {},
   "outputs": [],
   "source": [
    "from src.v4.torchdata import load_file, process_expression, process_json, load_vals, generate_optim_functions\n",
    "from src.v4.torchengine import AnalyticalSetSympy, Function, EliminateAnalysis, EliminateAnalysisMergeResiduals\n",
    "from src.v4.torchdata import print_formatted_table, fmt\n",
    "from scipy.optimize import minimize\n",
    "import sympy as sp\n",
    "import torch\n",
    "import numpy as np\n",
    "np.set_printoptions(formatter={'float': lambda x: \"{:0.2f}\".format(x).rstrip('0').rstrip('.')})"
   ]
  },
  {
   "cell_type": "code",
   "execution_count": 2,
   "metadata": {},
   "outputs": [],
   "source": [
    "symb_str_mapping = {}\n",
    "all_analyses = {}\n",
    "disciplines = ['pearl_geom','pearl_hydro', \n",
    "               'pearl_mass','pearl_prop',\n",
    "               'pearl_comms','pearl_power', \n",
    "               'pearl_solar', 'pearl_battery',\n",
    "               'pearl_prob']\n",
    "flattened_output = []\n",
    "equality_constraints_sympy = []\n",
    "inequality_constraints_sympy = []\n",
    "for file_name in disciplines:\n",
    "    data = load_file(file_name)\n",
    "    equality_constraints_sympy += [\n",
    "        process_expression(elt, symb_str_mapping) \n",
    "        for elt in data.get('equality_constraints',[])]\n",
    "    inequality_constraints_sympy += [\n",
    "        process_expression(elt, symb_str_mapping) \n",
    "        for elt in data.get('inequality_constraints',[])]\n",
    "    objective = data.get('objective',None)\n",
    "    if objective is not None:\n",
    "        objective = process_expression(objective, symb_str_mapping)\n",
    "    functional_sets = data.get('functional_sets',[])\n",
    "    flattened_output += functional_sets\n",
    "    analysismap, symb_str_mapping = process_json(\n",
    "        functional_sets, symb_str_mapping)\n",
    "    all_analyses[file_name] = analysismap"
   ]
  },
  {
   "cell_type": "code",
   "execution_count": 3,
   "metadata": {},
   "outputs": [],
   "source": [
    "idxrev = {i: elt for i, elt in \n",
    "            enumerate(symb_str_mapping.values())}\n",
    "indices = {elt: torch.tensor([int(i)]) for i, elt in \n",
    "            idxrev.items()}"
   ]
  },
  {
   "cell_type": "code",
   "execution_count": 4,
   "metadata": {},
   "outputs": [],
   "source": [
    "sets ={}\n",
    "for file_name, analysismap in all_analyses.items():\n",
    "        sets[file_name] = {\n",
    "                idx:AnalyticalSetSympy(analysis, \n",
    "                outputvar=outputvar, indices=indices) \n",
    "                for idx,(analysis,outputvar,residual) in enumerate(analysismap)\n",
    "                }\n",
    "equality_constraints = EliminateAnalysisMergeResiduals(functions=[Function((\n",
    "        sorted(expr.free_symbols, key=lambda s: s.name),\n",
    "        sp.lambdify(sorted(expr.free_symbols, key=lambda s: s.name), expr, torch),  \n",
    "        ), indices=indices) \n",
    "        for expr in equality_constraints_sympy])\n",
    "inequality_constraints = EliminateAnalysisMergeResiduals(functions=[Function((\n",
    "        sorted(expr.free_symbols, key=lambda s: s.name),\n",
    "        sp.lambdify(sorted(expr.free_symbols, key=lambda s: s.name), expr, torch),  \n",
    "        ), indices=indices) \n",
    "        for expr in inequality_constraints_sympy])\n",
    "objective = Function((\n",
    "        sorted(objective.free_symbols, key=lambda s: s.name),\n",
    "        sp.lambdify(sorted(objective.free_symbols, key=lambda s: s.name), objective, torch),  \n",
    "        ), indices=indices)"
   ]
  },
  {
   "cell_type": "code",
   "execution_count": 6,
   "metadata": {},
   "outputs": [],
   "source": [
    "custom_partition_order = []\n",
    "flat_sets = {}\n",
    "for file_name, subsets in sets.items():\n",
    "    custom_partition_order.append(())\n",
    "    for elt in subsets.values():\n",
    "        flatidx = len(flat_sets)\n",
    "        flat_sets[flatidx] = elt\n",
    "        custom_partition_order[-1] += (flatidx,)"
   ]
  },
  {
   "cell_type": "code",
   "execution_count": 10,
   "metadata": {},
   "outputs": [],
   "source": [
    "sequential = {}\n",
    "for partidx, elt in enumerate(custom_partition_order):\n",
    "    if len(elt) ==1:\n",
    "        sequential[partidx] = flat_sets[next(iter(elt))].analysis\n",
    "    else:\n",
    "        sequential[partidx] = EliminateAnalysis([flat_sets[idx].analysis for idx in elt], [])"
   ]
  },
  {
   "cell_type": "code",
   "execution_count": 11,
   "metadata": {},
   "outputs": [],
   "source": [
    "all_res = EliminateAnalysisMergeResiduals(functions=[s.residual for s in flat_sets.values()]+[equality_constraints])"
   ]
  },
  {
   "cell_type": "code",
   "execution_count": 12,
   "metadata": {},
   "outputs": [],
   "source": [
    "aao_obj = EliminateAnalysis(functions=[\n",
    "    objective, inequality_constraints, all_res,\n",
    "    Function(((), lambda : torch.tensor([])), indices=indices)])"
   ]
  },
  {
   "cell_type": "code",
   "execution_count": 13,
   "metadata": {},
   "outputs": [],
   "source": [
    "x0 = load_vals('pearl_params', indices=indices)"
   ]
  },
  {
   "cell_type": "code",
   "execution_count": 14,
   "metadata": {},
   "outputs": [
    {
     "data": {
      "text/plain": [
       "(eta_s, 0.27)"
      ]
     },
     "execution_count": 14,
     "metadata": {},
     "output_type": "execute_result"
    }
   ],
   "source": [
    "test_idx = 78\n",
    "idxrev[test_idx], x0[test_idx].item()"
   ]
  },
  {
   "cell_type": "code",
   "execution_count": 15,
   "metadata": {},
   "outputs": [
    {
     "data": {
      "text/plain": [
       "[tensor([1.], dtype=torch.float64),\n",
       " tensor([-8.8818e-16,  1.1111e-01,  7.7778e-01, -1.0000e+00, -4.0000e+00],\n",
       "        dtype=torch.float64),\n",
       " tensor([-2.0000e-01,  7.3105e+00,  9.7990e+03,  0.0000e+00,  5.5814e-01,\n",
       "          5.8333e-01, -2.1460e-01,  0.0000e+00,  0.0000e+00,  3.0787e+04,\n",
       "          2.9601e+03, -7.5000e-01, -8.9796e-01,  9.0000e+00, -1.0200e+02,\n",
       "         -2.1590e+00,  1.5570e+01, -2.6667e-01, -8.6364e-01, -8.6014e-01,\n",
       "         -5.1145e-01,  1.5148e+02,  2.8308e+06, -9.9367e-01, -1.0000e+00,\n",
       "          3.5990e+03,  4.3200e+06,  3.5990e+03,  1.8990e+03, -9.9998e-01,\n",
       "          3.0000e+00,  0.0000e+00, -9.9998e-01, -9.9056e-01,  6.8067e-01,\n",
       "          4.0000e+00,  1.9845e+00], dtype=torch.float64),\n",
       " tensor([])]"
      ]
     },
     "execution_count": 15,
     "metadata": {},
     "output_type": "execute_result"
    }
   ],
   "source": [
    "aao_obj(x0)"
   ]
  },
  {
   "cell_type": "code",
   "execution_count": 16,
   "metadata": {},
   "outputs": [],
   "source": [
    "discipline_idxs = [s.analysis.structure[1][0].item() for s in flat_sets.values()]\n",
    "design_idxs = [1,4,5,7,8,15]"
   ]
  },
  {
   "cell_type": "code",
   "execution_count": 17,
   "metadata": {},
   "outputs": [
    {
     "data": {
      "text/plain": [
       "array([d, V_d, F_B, F_W, K_B, K_G, I, B_M, G_M, C_33, A_33, \\omega_0,\n",
       "       m_platform, m_solar, m_struct, t_d, S_w, P_move, l, L_pt, G_t, G_r,\n",
       "       S, L_s, P_comms, E_move, E_hotel, E_comms, E_service, P_service,\n",
       "       E_required, E_recharge, P_recharge, A_solar, C, m_batt],\n",
       "      dtype=object)"
      ]
     },
     "execution_count": 17,
     "metadata": {},
     "output_type": "execute_result"
    }
   ],
   "source": [
    "np.array([idxrev[elt] for elt in discipline_idxs])"
   ]
  },
  {
   "cell_type": "code",
   "execution_count": 18,
   "metadata": {},
   "outputs": [
    {
     "data": {
      "text/plain": [
       "array([D_f, D_d, D_s, t_d, t_s, t_f], dtype=object)"
      ]
     },
     "execution_count": 18,
     "metadata": {},
     "output_type": "execute_result"
    }
   ],
   "source": [
    "np.array([idxrev[elt] for elt in design_idxs])"
   ]
  },
  {
   "cell_type": "code",
   "execution_count": 19,
   "metadata": {},
   "outputs": [],
   "source": [
    "numerical_values = {'D_f': 3.7, 'D_d':1., 'D_s':0.15, 't_d':0.2, 'h_f':0.09, 't_s':0.2}\n",
    "bounds = {\n",
    "    'D_f': (0.1,10),\n",
    "    'D_d': (0.1,10),\n",
    "    'D_s': (0.1,10),\n",
    "    't_s': (0.1,10),\n",
    "    't_d': (0.1,10),\n",
    "    't_f': (0.1,10),\n",
    "}\n",
    "x0 = load_vals('pearl_params', indices=indices)\n",
    "x0.requires_grad_(False)\n",
    "for var, val in numerical_values.items():\n",
    "    x0[indices[sp.symbols(var)]] = val\n",
    "x0.requires_grad_(True)\n",
    "solver_indices = design_idxs + discipline_idxs\n",
    "# MAKE SURE TO SET INEQUALITY DIRECTION, it is different for scipy and ipopt\n",
    "xguess, obj_function, ineq_function, eq_function, dobj, dineq, deq = generate_optim_functions(aao_obj, solver_indices, x0, \n",
    "                                                                                              inequality_direction='negative-null')\n",
    "constraints = [{'type': 'eq', 'fun': eq_function, 'jac': deq}]\n",
    "constraints.append({'type': 'ineq', 'fun': ineq_function, 'jac': dineq})\n",
    "bnds_problem = [bounds.get(str(idxrev[elt]), (0, None)) for elt in solver_indices]"
   ]
  },
  {
   "cell_type": "code",
   "execution_count": 20,
   "metadata": {},
   "outputs": [
    {
     "data": {
      "text/plain": [
       "tensor([-0.8000, -0.9550, -0.8333, -1.0000, -1.0000], dtype=torch.float64)"
      ]
     },
     "execution_count": 20,
     "metadata": {},
     "output_type": "execute_result"
    }
   ],
   "source": [
    "ineq_function(xguess)"
   ]
  },
  {
   "cell_type": "code",
   "execution_count": 21,
   "metadata": {},
   "outputs": [
    {
     "name": "stdout",
     "output_type": "stream",
     "text": [
      "D_f D_d D_s  t_d t_s t_f d   V_d F_B F_W K_B K_G I B_M G_M C_33 A_33 \\omega_0 m_platform m_solar m_struct t_d S_w P_move l L_pt G_t G_r S L_s P_comms E_move E_hotel E_comms E_service P_service E_required E_recharge P_recharge A_solar C m_batt\n",
      "3.7 1   0.15 0.2 0.2 0.5 0.3 1   1   1   1   1   1 1   1   1    1    1        1          1       1        0.2 1.1 1      1 1    1   1   1 1   1       1      1       1       1         1         1          1          1          1       1 1     \n"
     ]
    }
   ],
   "source": [
    "print_formatted_table([x0], indices, idxrev, torch.tensor(solver_indices))"
   ]
  },
  {
   "cell_type": "code",
   "execution_count": 22,
   "metadata": {},
   "outputs": [],
   "source": [
    "# minimize(obj_function, xguess, bounds=bnds_problem, jac=dobj, \n",
    "#          constraints=constraints, method='SLSQP', options={'maxiter':1000})"
   ]
  },
  {
   "cell_type": "code",
   "execution_count": 23,
   "metadata": {},
   "outputs": [],
   "source": [
    "ineqlen = len(inequality_constraints_sympy)\n",
    "eqlen = len(equality_constraints_sympy)+len(flat_sets)"
   ]
  },
  {
   "cell_type": "code",
   "execution_count": 24,
   "metadata": {},
   "outputs": [],
   "source": [
    "def all_constraints(x):\n",
    "    return np.concatenate([ineq_function(x), eq_function(x)])\n",
    "\n",
    "def all_constraints_jac(x):\n",
    "    return np.concatenate([dineq(x), deq(x)], axis=0)"
   ]
  },
  {
   "cell_type": "code",
   "execution_count": 25,
   "metadata": {},
   "outputs": [],
   "source": [
    "from collections import namedtuple\n",
    "import cyipopt\n",
    "OptProblem = namedtuple('OptProblem', ['objective', 'constraints', 'gradient', 'jacobian', 'intermediate'])\n",
    "\n",
    "lb,ub = zip(*bnds_problem)\n",
    "cl = np.concatenate([-np.inf*np.ones(ineqlen), np.zeros(eqlen)])\n",
    "cu = np.concatenate([np.zeros(ineqlen), np.zeros(eqlen)])\n",
    "\n",
    "storeiter = [0]\n",
    "\n",
    "def logiter(alg_mod, iter_count, obj_value, inf_pr, inf_du, mu, d_norm, regularization_size, alpha_du, alpha_pr, ls_trials):\n",
    "    storeiter[0] = iter_count\n",
    "\n",
    "# define the problem\n",
    "probinfo = OptProblem(obj_function, all_constraints, dobj, all_constraints_jac, logiter)\n",
    "\n",
    "prob = cyipopt.Problem(n=len(xguess), m=len(cu), lb=lb, ub=ub, cl=cl, cu=cu, \n",
    "                       problem_obj=probinfo)"
   ]
  },
  {
   "cell_type": "code",
   "execution_count": 26,
   "metadata": {},
   "outputs": [],
   "source": [
    "xsol, optinfo = prob.solve(xguess)"
   ]
  },
  {
   "cell_type": "code",
   "execution_count": 27,
   "metadata": {},
   "outputs": [
    {
     "data": {
      "text/plain": [
       "{'x': array([1.31, 1.31, 1.18, 0.1, 1.02, 0.1, 0.07, 1.37, 13417.55, 13417.55,\n",
       "        0.6, 0.61, 0.14, 0.11, 0.1, 13221.28, 1013.21, 2.77, 1369.14,\n",
       "        12.82, 1237.63, 0.1, 6.42, 4.28, 0.14, 0.14, 0.18, 8200.06,\n",
       "        2830830.27, 0, 424.19, 15403.24, 4320000, 1527092.09, 1900, 0.04,\n",
       "        5864395.32, 5864395.32, 135.75, 1.28, 9856126.59, 18.69]),\n",
       " 'g': array([0, -0, -0, -4.28, -0, 0, 0, 0, 0, 0, 0, 0, 0, 0, 0, 0, 0, -0, 0, 0,\n",
       "        -0, 0, 0, 0, 0, 0, 0, 0, -0, 0, 0, 0, 0, 0, 0, 0, 0, 0, 0, 0, 0,\n",
       "        -0]),\n",
       " 'obj_val': 1369.1380300413548,\n",
       " 'mult_g': array([1.76, -0, -0, 0, 5.06, 8831.57, -10.92, -0, 0.05, 0, 0, 0, 0, 0,\n",
       "        -0, -0.01, 0, 0.97, 0.02, -0.02, -67.87, -0.63, -0.94, -4244.12,\n",
       "        2068.97, 1650.41, 0.04, -0, 19692771025473961984, -0.68, -0, -0,\n",
       "        -0, -0, -0, -0, -0, 2.1, 222.88, -0, 0.02, -285.35]),\n",
       " 'mult_x_L': array([0, 0, 0, 0, 0, 0, 0, 0, 0, 0, 0, 0, 0, 0, 0, 0, 0, 0, 0, 0, 0, 0,\n",
       "        0, 0, 0, 0, 0, 0, 0, 0, 0, 0, 0, 0, 0, 0, 0, 0, 0, 0, 0, 0]),\n",
       " 'mult_x_U': array([0, 0, 0, 0, 0, 0, 0, 0, 0, 0, 0, 0, 0, 0, 0, 0, 0, 0, 0, 0, 0, 0,\n",
       "        0, 0, 0, 0, 0, 0, 0, 0, 0, 0, 0, 0, 0, 0, 0, 0, 0, 0, 0, 0]),\n",
       " 'status': 0,\n",
       " 'status_msg': b'Algorithm terminated successfully at a locally optimal point, satisfying the convergence tolerances (can be specified by options).'}"
      ]
     },
     "execution_count": 27,
     "metadata": {},
     "output_type": "execute_result"
    }
   ],
   "source": [
    "optinfo"
   ]
  },
  {
   "cell_type": "code",
   "execution_count": 28,
   "metadata": {},
   "outputs": [
    {
     "data": {
      "text/plain": [
       "array([0, 0, 0, 0, 0, 0, 0, 0, 0, 0, 0, 0, -0, 0, 0, -0, 0, 0, 0, 0, 0, 0,\n",
       "       0, -0, 0, 0, 0, 0, 0, 0, 0, 0, 0, 0, 0, 0, -0])"
      ]
     },
     "execution_count": 28,
     "metadata": {},
     "output_type": "execute_result"
    }
   ],
   "source": [
    "all_res(x0).detach().numpy()"
   ]
  },
  {
   "cell_type": "code",
   "execution_count": 29,
   "metadata": {},
   "outputs": [
    {
     "name": "stdout",
     "output_type": "stream",
     "text": [
      "D_f   D_d   D_s   t_d t_s   t_f\n",
      "1.311 1.311 1.179 0.1 1.018 0.1\n"
     ]
    }
   ],
   "source": [
    "print_formatted_table([x0], \n",
    "                       indices,idxrev, \n",
    "                      torch.tensor(design_idxs))"
   ]
  },
  {
   "cell_type": "code",
   "execution_count": 27,
   "metadata": {},
   "outputs": [
    {
     "name": "stdout",
     "output_type": "stream",
     "text": [
      "d     V_d   F_B    F_W    K_B   K_G   I     B_M   G_M C_33   A_33     \\omega_0 m_platform m_solar m_struct t_d S_w   P_move l     L_pt G_t   G_r     S      L_s      P_comms E_move E_hotel E_comms E_service P_service E_required E_recharge P_recharge A_solar C      m_batt h_f \n",
      "0.066 1.369 1.34e4 1.34e4 0.604 0.609 0.145 0.106 0.1 1.32e4 1013.206 2.775    1369.138   12.817  1237.632 0.1 6.418 4.279  0.136 0.14 0.175 8200.06 2.83e6 1.47e-17 424.192 1.54e4 4.32e6  1.53e6  1900      0.044     5.86e6     5.86e6     135.75     1.282   9.86e6 18.689 0.09\n"
     ]
    }
   ],
   "source": [
    "print_formatted_table([x0],indices,idxrev, \n",
    "                      torch.tensor(discipline_idxs+[6]))"
   ]
  },
  {
   "cell_type": "code",
   "execution_count": 28,
   "metadata": {},
   "outputs": [
    {
     "name": "stdout",
     "output_type": "stream",
     "text": [
      "D_f   D_d   D_s   h_f  t_d t_s   rho_w C_d eta_m v   S_w   P_move\n",
      "1.311 1.311 1.179 0.09 0.1 1.018 1000  1   0.75  0.1 6.418 4.279 \n",
      "1.311 1.311 1.179 0.09 0.1 1.018 1000  1   0.75  0.1 6.418 4.279 \n"
     ]
    }
   ],
   "source": [
    "disciplineidx = 3\n",
    "print_formatted_table([x0, sequential[disciplineidx](x0)], \n",
    "                      indices, \n",
    "                      idxrev,\n",
    "                      torch.cat(sequential[disciplineidx].structure))"
   ]
  },
  {
   "cell_type": "code",
   "execution_count": 30,
   "metadata": {},
   "outputs": [
    {
     "data": {
      "text/latex": [
       "$\\displaystyle \\pi D_{s} t_{s} - S_{w} + \\pi \\left(\\frac{D_{d}^{2}}{2} + D_{d} t_{d} - \\frac{D_{s}^{2}}{4}\\right) + \\pi \\left(\\frac{D_{f}^{2}}{4} + D_{f} h_{f} - \\frac{D_{s}^{2}}{4}\\right)$"
      ],
      "text/plain": [
       "pi*D_s*t_s - S_w + pi*(D_d**2/2 + D_d*t_d - D_s**2/4) + pi*(D_f**2/4 + D_f*h_f - D_s**2/4)"
      ]
     },
     "execution_count": 30,
     "metadata": {},
     "output_type": "execute_result"
    }
   ],
   "source": [
    "flat_sets[16].residualexpr"
   ]
  },
  {
   "cell_type": "code",
   "execution_count": 31,
   "metadata": {},
   "outputs": [
    {
     "data": {
      "text/latex": [
       "$\\displaystyle \\pi D_{s} t_{s} - S_{w} + \\pi \\left(\\frac{D_{d}^{2}}{2} + D_{d} t_{d} - \\frac{D_{s}^{2}}{4}\\right) + \\pi \\left(\\frac{D_{f}^{2}}{4} + D_{f} h_{f} - \\frac{D_{s}^{2}}{4}\\right)$"
      ],
      "text/plain": [
       "pi*D_s*t_s - S_w + pi*(D_d**2/2 + D_d*t_d - D_s**2/4) + pi*(D_f**2/4 + D_f*h_f - D_s**2/4)"
      ]
     },
     "execution_count": 31,
     "metadata": {},
     "output_type": "execute_result"
    }
   ],
   "source": [
    "sets['pearl_prop'][0].residualexpr"
   ]
  },
  {
   "cell_type": "code",
   "execution_count": 37,
   "metadata": {},
   "outputs": [
    {
     "data": {
      "text/latex": [
       "$\\displaystyle 6.41801544648614$"
      ],
      "text/plain": [
       "6.41801544648614"
      ]
     },
     "execution_count": 37,
     "metadata": {},
     "output_type": "execute_result"
    }
   ],
   "source": [
    "sets['pearl_prop'][0].expression.subs({symbol: x0[idx] for symbol, idx in indices.items() \n",
    "                                       if idx in torch.cat(sequential[disciplineidx].structure)}).evalf()"
   ]
  },
  {
   "cell_type": "code",
   "execution_count": null,
   "metadata": {},
   "outputs": [],
   "source": []
  }
 ],
 "metadata": {
  "kernelspec": {
   "display_name": "minimdo",
   "language": "python",
   "name": "python3"
  },
  "language_info": {
   "codemirror_mode": {
    "name": "ipython",
    "version": 3
   },
   "file_extension": ".py",
   "mimetype": "text/x-python",
   "name": "python",
   "nbconvert_exporter": "python",
   "pygments_lexer": "ipython3",
   "version": "3.9.18"
  }
 },
 "nbformat": 4,
 "nbformat_minor": 2
}
