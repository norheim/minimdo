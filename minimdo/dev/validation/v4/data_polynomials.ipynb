{
 "cells": [
  {
   "cell_type": "code",
   "execution_count": null,
   "metadata": {},
   "outputs": [],
   "source": [
    "from utils.randomstructure import generate_random_prob\n",
    "from utils.polycasebuilder import generate_random_polynomials\n",
    "from graph.graphutils import edges_to_Ein_Eout, sources\n",
    "import numpy as np"
   ]
  },
  {
   "cell_type": "code",
   "execution_count": 2,
   "metadata": {},
   "outputs": [],
   "source": [
    "def generate_individual_problem(n_eqs, n_vars, sparsity, seed1, seed2):\n",
    "    eqv, varinc, dout = generate_random_prob(n_eqs, n_vars, seed1, sparsity)\n",
    "    xval = np.ones(n_vars)\n",
    "    polynomials, var_mapping, edges, tree = generate_random_polynomials(eqv, dout, n_eqs, seed=seed2, xval=xval)\n",
    "    symb_mapping = {key: elt[0] for key, elt in var_mapping.items()}\n",
    "    inputids = sorted(sources(*edges_to_Ein_Eout(edges)))\n",
    "    inputvars = [var_mapping[elt][0] for elt in inputids]\n",
    "    fobj = sum([(elt-1)**2 for elt in inputvars])\n",
    "    \n",
    "    # build string object\n",
    "    functional_sets = []\n",
    "    for key,expr in polynomials.items():\n",
    "        output = edges[1][key][0]\n",
    "        functional_sets.append(\n",
    "            {'residual':str(expr), \n",
    "             'functionalvar': var_mapping[output][1]})\n",
    "    output = {'functional_sets':functional_sets, \n",
    "              'equality_constraints': [], \n",
    "              'inequality_constraints':[], \n",
    "              'objective': str(fobj)}\n",
    "    return output"
   ]
  },
  {
   "cell_type": "markdown",
   "metadata": {},
   "source": [
    "# Generate one problem"
   ]
  },
  {
   "cell_type": "code",
   "execution_count": 3,
   "metadata": {},
   "outputs": [],
   "source": [
    "problem_params = (10, 15, 1, 4, 2) #10, 13, 1.1, 42, 12345 #1.7\n",
    "json_data = dict()\n",
    "json_data[str(problem_params)] = generate_individual_problem(*problem_params)"
   ]
  },
  {
   "cell_type": "code",
   "execution_count": 4,
   "metadata": {},
   "outputs": [
    {
     "data": {
      "text/plain": [
       "{'(10, 15, 1, 4, 2)': {'functional_sets': [{'residual': '-0.7*x_1*x_2*x_7 + 0.2*x_10*x_6 + 0.5*x_5',\n",
       "    'functionalvar': 'x_2'},\n",
       "   {'residual': '-0.5*x_0*x_9 + 0.5', 'functionalvar': 'x_0'},\n",
       "   {'residual': '-0.7*x_11*x_3 + 0.7*x_13*x_9', 'functionalvar': 'x_9'},\n",
       "   {'residual': '-0.7*x_10 - 0.2*x_3*x_5*x_6 + 0.9*x_7*x_8',\n",
       "    'functionalvar': 'x_6'},\n",
       "   {'residual': '-0.3*x_10*x_13 + 0.3', 'functionalvar': 'x_13'},\n",
       "   {'residual': '0.6*x_10*x_4*x_5 - 0.6', 'functionalvar': 'x_10'},\n",
       "   {'residual': '0.1*x_0*x_14 - 0.1*x_11*x_8*x_9', 'functionalvar': 'x_8'},\n",
       "   {'residual': '0.8*x_13*x_3*x_5 - 0.8', 'functionalvar': 'x_3'},\n",
       "   {'residual': '0.4*x_7*x_9 - 0.4', 'functionalvar': 'x_7'},\n",
       "   {'residual': '0.2*x_11*x_13 + 0.7*x_12*x_6 - 0.9*x_7',\n",
       "    'functionalvar': 'x_11'}],\n",
       "  'equality_constraints': [],\n",
       "  'inequality_constraints': [],\n",
       "  'objective': '(x_1 - 1)**2 + (x_12 - 1)**2 + (x_14 - 1)**2 + (x_4 - 1)**2 + (x_5 - 1)**2'}}"
      ]
     },
     "execution_count": 4,
     "metadata": {},
     "output_type": "execute_result"
    }
   ],
   "source": [
    "json_data"
   ]
  },
  {
   "cell_type": "markdown",
   "metadata": {},
   "source": [
    "# Generate combinatorially many problems"
   ]
  },
  {
   "cell_type": "code",
   "execution_count": 5,
   "metadata": {},
   "outputs": [],
   "source": [
    "from itertools import product\n",
    "import pandas as pd\n",
    "def generate_all_problems(*args, df=None):\n",
    "    data = []\n",
    "    colnames = [\"m\", \"ncoeff\", \"n\", \"sparsity\", \"seed\", \"seedpoly\"] \n",
    "    for m,ncoeff,sparsity,seed1, seed2 in product(*args):\n",
    "        n=m+int(ncoeff*m)\n",
    "        if df is None or ((m, ncoeff, n, sparsity, seed1, seed2) not in df[colnames].itertuples(index=False)):\n",
    "            data.append([m, ncoeff, n, sparsity, seed1, seed2])\n",
    "    df2 = pd.DataFrame(data, columns=colnames)\n",
    "    if df is not None:\n",
    "        df2 = pd.concat([df, df2], ignore_index=True)\n",
    "    return df2"
   ]
  },
  {
   "cell_type": "code",
   "execution_count": 10,
   "metadata": {},
   "outputs": [],
   "source": [
    "df = generate_all_problems((10,),(0.5,),(1,),range(10),range(10))"
   ]
  },
  {
   "cell_type": "code",
   "execution_count": 11,
   "metadata": {},
   "outputs": [],
   "source": [
    "json_data = dict()\n",
    "for row in df.itertuples():\n",
    "    problem_id = (row.m, row.n, row.sparsity, row.seed, row.seedpoly)\n",
    "    json_data[str(problem_id)] = generate_individual_problem(*problem_id)"
   ]
  },
  {
   "cell_type": "code",
   "execution_count": 12,
   "metadata": {},
   "outputs": [],
   "source": [
    "# save json data\n",
    "import json\n",
    "with open('../applications/data/polyproblems_v2_med.json', 'w') as f:\n",
    "    json.dump(json_data, f, indent=4)"
   ]
  },
  {
   "cell_type": "code",
   "execution_count": null,
   "metadata": {},
   "outputs": [],
   "source": []
  }
 ],
 "metadata": {
  "kernelspec": {
   "display_name": "minimdo",
   "language": "python",
   "name": "python3"
  },
  "language_info": {
   "codemirror_mode": {
    "name": "ipython",
    "version": 3
   },
   "file_extension": ".py",
   "mimetype": "text/x-python",
   "name": "python",
   "nbconvert_exporter": "python",
   "pygments_lexer": "ipython3",
   "version": "3.9.18"
  }
 },
 "nbformat": 4,
 "nbformat_minor": 2
}
