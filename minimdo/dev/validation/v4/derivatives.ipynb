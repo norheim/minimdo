{
 "cells": [
  {
   "cell_type": "code",
   "execution_count": 1,
   "metadata": {},
   "outputs": [],
   "source": [
    "from src.v1.symbolic import create_vars\n",
    "from src.v4.projectables import ResidualProjectable\n",
    "from src.v4.arghandling import var_encoding\n",
    "from src.v4.functionals import encode_sympy, EncodedFunction\n",
    "from src.v4.functional_noobj import concatenate_residuals\n",
    "from src.v4.arghandling import flatten_args, decode, unflatten_args"
   ]
  },
  {
   "cell_type": "code",
   "execution_count": 2,
   "metadata": {},
   "outputs": [],
   "source": [
    "x, y, z, a = create_vars('x y z a')\n",
    "h = encode_sympy(x + y**2 - z**2)\n",
    "h2 = encode_sympy(y-x*z+a)\n",
    "h3 = encode_sympy(y-2*a)\n",
    "H = concatenate_residuals([h, h2])"
   ]
  },
  {
   "cell_type": "code",
   "execution_count": 3,
   "metadata": {},
   "outputs": [],
   "source": [
    "#P1 = ResidualProjectable(h, solvevar_encoder=var_encoding(x))\n",
    "P2 = ResidualProjectable(H, solvevar_encoder=var_encoding(x,y))"
   ]
  },
  {
   "cell_type": "code",
   "execution_count": 4,
   "metadata": {},
   "outputs": [],
   "source": [
    "x_F = {z: 1, a: 0}\n",
    "sol = {x: -1., y: 1}"
   ]
  },
  {
   "cell_type": "code",
   "execution_count": 5,
   "metadata": {},
   "outputs": [
    {
     "data": {
      "text/plain": [
       "DeviceArray([-1.,  2.], dtype=float32, weak_type=True)"
      ]
     },
     "execution_count": 5,
     "metadata": {},
     "output_type": "execute_result"
    }
   ],
   "source": [
    "P2.residuals().dict_in_flat_out({**x_F, **sol})"
   ]
  },
  {
   "cell_type": "code",
   "execution_count": 6,
   "metadata": {},
   "outputs": [],
   "source": [
    "P2.solvepar(x_initial={x:0, y:0})"
   ]
  },
  {
   "cell_type": "code",
   "execution_count": 7,
   "metadata": {},
   "outputs": [],
   "source": [
    "F = P2.functional()\n",
    "sol = F.dict_in_dict_out(x_F, cleanup=True)"
   ]
  },
  {
   "cell_type": "code",
   "execution_count": 8,
   "metadata": {},
   "outputs": [
    {
     "data": {
      "text/plain": [
       "{x: 0.6180340051651001, y: 0.6180340051651001}"
      ]
     },
     "execution_count": 8,
     "metadata": {},
     "output_type": "execute_result"
    }
   ],
   "source": [
    "sol"
   ]
  },
  {
   "cell_type": "code",
   "execution_count": 9,
   "metadata": {},
   "outputs": [
    {
     "data": {
      "text/plain": [
       "DeviceArray([3.6705515e-08, 0.0000000e+00], dtype=float32, weak_type=True)"
      ]
     },
     "execution_count": 9,
     "metadata": {},
     "output_type": "execute_result"
    }
   ],
   "source": [
    "P2.residuals().dict_in_flat_out({**x_F, **sol})"
   ]
  },
  {
   "cell_type": "markdown",
   "metadata": {},
   "source": [
    "# Adjoint Gradients"
   ]
  },
  {
   "cell_type": "code",
   "execution_count": 10,
   "metadata": {},
   "outputs": [],
   "source": [
    "from jax import jacfwd, jacrev, grad, custom_jvp\n",
    "import jax.numpy as jnp\n",
    "import numpy as np"
   ]
  },
  {
   "cell_type": "code",
   "execution_count": 11,
   "metadata": {},
   "outputs": [],
   "source": [
    "def adjoints(projectable):\n",
    "    H = projectable.residuals()\n",
    "    F = projectable.functional()\n",
    "    g = jacfwd(H.flat_in_flat_out)\n",
    "    N = sum(map(sum, F.decoder.shapes))\n",
    "    def calculate(*args):\n",
    "        x_F =  F.encoder.decode(args)\n",
    "        x0 = {**x_F, **F.dict_out_only(*args)}\n",
    "        x0_np = H.encoder.encode(x0, flatten=True)\n",
    "        d = decode(flatten_args(g(x0_np).T), \n",
    "                   H.encoder.order, \n",
    "                   [(N,) for elt in H.encoder.order], unflatten=True)\n",
    "        grad_h_y = np.vstack(F.decoder.encode(d)).T\n",
    "        grad_h_x = np.vstack(F.encoder.encode(d)).T\n",
    "        inv_grad_h_y = np.linalg.inv(grad_h_y)\n",
    "        DJ = -np.dot(inv_grad_h_y, grad_h_x)\n",
    "        return unflatten_args(flatten_args(DJ), [(N,) for elt in F.encoder.order])\n",
    "    return EncodedFunction(calculate, F.encoder)"
   ]
  },
  {
   "cell_type": "code",
   "execution_count": 12,
   "metadata": {},
   "outputs": [
    {
     "data": {
      "text/plain": [
       "(x, y)"
      ]
     },
     "execution_count": 12,
     "metadata": {},
     "output_type": "execute_result"
    }
   ],
   "source": [
    "F.decoder.order"
   ]
  },
  {
   "cell_type": "code",
   "execution_count": 13,
   "metadata": {},
   "outputs": [],
   "source": [
    "A = adjoints(P2)"
   ]
  },
  {
   "cell_type": "code",
   "execution_count": 14,
   "metadata": {},
   "outputs": [
    {
     "data": {
      "text/plain": [
       "(DeviceArray([0.55278635, 0.5527864 ], dtype=float32),\n",
       " DeviceArray([ 1.1708204, -0.4472136], dtype=float32))"
      ]
     },
     "execution_count": 14,
     "metadata": {},
     "output_type": "execute_result"
    }
   ],
   "source": [
    "A.dict_in_only(x_F)"
   ]
  },
  {
   "cell_type": "code",
   "execution_count": 15,
   "metadata": {},
   "outputs": [
    {
     "data": {
      "text/plain": [
       "DeviceArray([1., 0.], dtype=float32, weak_type=True)"
      ]
     },
     "execution_count": 15,
     "metadata": {},
     "output_type": "execute_result"
    }
   ],
   "source": [
    "v = F.encoder.encode({z:1., a:0}, flatten=True)\n",
    "v"
   ]
  },
  {
   "cell_type": "code",
   "execution_count": 16,
   "metadata": {},
   "outputs": [
    {
     "data": {
      "text/plain": [
       "(DeviceArray([0.618034, 0.618034], dtype=float32),\n",
       " (DeviceArray([0.55278635, 0.5527864 ], dtype=float32),\n",
       "  DeviceArray([ 1.1708204, -0.4472136], dtype=float32)))"
      ]
     },
     "execution_count": 16,
     "metadata": {},
     "output_type": "execute_result"
    }
   ],
   "source": [
    "F.flat_in_flat_out(v), A.flat_in_only(v)"
   ]
  },
  {
   "cell_type": "code",
   "execution_count": 17,
   "metadata": {},
   "outputs": [],
   "source": [
    "@custom_jvp\n",
    "def f(x):\n",
    "  return F.flat_in_flat_out(x)\n",
    "\n",
    "@f.defjvp\n",
    "def f_jvp(primals, tangents):\n",
    "  v, = primals\n",
    "  x_dot,  = tangents\n",
    "  y = f(v)\n",
    "  dJ = A.flat_in_only(v)\n",
    "  tangent_out = sum([dj*x_dot[idx] for idx,dj in enumerate(dJ)])\n",
    "  return y, tangent_out"
   ]
  },
  {
   "cell_type": "code",
   "execution_count": 18,
   "metadata": {},
   "outputs": [
    {
     "data": {
      "text/plain": [
       "DeviceArray([[ 0.55278635,  1.1708204 ],\n",
       "             [ 0.5527864 , -0.4472136 ]], dtype=float32)"
      ]
     },
     "execution_count": 18,
     "metadata": {},
     "output_type": "execute_result"
    }
   ],
   "source": [
    "jacfwd(f)(np.array([1., 0]))"
   ]
  },
  {
   "cell_type": "code",
   "execution_count": 19,
   "metadata": {},
   "outputs": [],
   "source": [
    "def g(x):\n",
    "    return f(x)+jnp.sin(x[1])"
   ]
  },
  {
   "cell_type": "code",
   "execution_count": 20,
   "metadata": {},
   "outputs": [
    {
     "data": {
      "text/plain": [
       "DeviceArray([[0.55278635, 2.1708202 ],\n",
       "             [0.5527864 , 0.5527864 ]], dtype=float32)"
      ]
     },
     "execution_count": 20,
     "metadata": {},
     "output_type": "execute_result"
    }
   ],
   "source": [
    "jacfwd(g)(np.array([1., 0]))"
   ]
  },
  {
   "cell_type": "markdown",
   "metadata": {},
   "source": [
    "# Double check"
   ]
  },
  {
   "cell_type": "code",
   "execution_count": 21,
   "metadata": {},
   "outputs": [
    {
     "data": {
      "text/plain": [
       "(DeviceArray([0.55229664, 1.1708736 ], dtype=float32),\n",
       " DeviceArray([ 0.55265427, -0.44733283], dtype=float32))"
      ]
     },
     "execution_count": 21,
     "metadata": {},
     "output_type": "execute_result"
    }
   ],
   "source": [
    "eps = 1e-3\n",
    "((flatten_args(F.f(1+eps,0))-flatten_args(F.f(1.,0)))/eps,\n",
    "(flatten_args(F.f(1,0+eps))-flatten_args(F.f(1.,0)))/eps)"
   ]
  },
  {
   "cell_type": "code",
   "execution_count": null,
   "metadata": {},
   "outputs": [],
   "source": []
  }
 ],
 "metadata": {
  "kernelspec": {
   "display_name": "minimdo",
   "language": "python",
   "name": "python3"
  },
  "language_info": {
   "codemirror_mode": {
    "name": "ipython",
    "version": 3
   },
   "file_extension": ".py",
   "mimetype": "text/x-python",
   "name": "python",
   "nbconvert_exporter": "python",
   "pygments_lexer": "ipython3",
   "version": "3.9.18"
  }
 },
 "nbformat": 4,
 "nbformat_minor": 2
}
