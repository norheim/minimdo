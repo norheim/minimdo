{
 "cells": [
  {
   "cell_type": "code",
   "execution_count": 1,
   "metadata": {},
   "outputs": [],
   "source": [
    "using JSON\n",
    "using HomotopyContinuation\n",
    "using Pandas"
   ]
  },
  {
   "cell_type": "code",
   "execution_count": 3,
   "metadata": {},
   "outputs": [],
   "source": [
    "function read_and_parse_json(filename::String)\n",
    "    raw_content = read(filename, String)\n",
    "    parsed_content = JSON.parse(raw_content)\n",
    "    return parsed_content\n",
    "end;"
   ]
  },
  {
   "cell_type": "code",
   "execution_count": 4,
   "metadata": {},
   "outputs": [],
   "source": [
    "parse_polynomialstr = x -> begin\n",
    "    exprforparse = replace(x, \"**\"=> \"^\")  \n",
    "    exprforparse = replace(exprforparse, r\"x_(\\d+)\" => \n",
    "    m -> \"x[\" * string(parse(Int, match(r\"x_(\\d+)\", m).captures[1]) + 1) * \"]\")\n",
    "    return eval(Meta.parse(exprforparse))\n",
    "end;"
   ]
  },
  {
   "cell_type": "code",
   "execution_count": 5,
   "metadata": {},
   "outputs": [],
   "source": [
    "content = read_and_parse_json(\"../../applications/data/polyproblems_v2_small.json\");"
   ]
  },
  {
   "cell_type": "code",
   "execution_count": 9,
   "metadata": {},
   "outputs": [
    {
     "name": "stderr",
     "output_type": "stream",
     "text": [
      "\r\u001b[32mComputing mixed cells... 56    Time: 0:00:01\u001b[39m\r\n",
      "\u001b[34m  mixed_volume:  1100\u001b[39m\n"
     ]
    },
    {
     "ename": "LoadError",
     "evalue": "InexactError: trunc(Int32, 92945905954898239)",
     "output_type": "error",
     "traceback": [
      "InexactError: trunc(Int32, 92945905954898239)",
      "",
      "Stacktrace:",
      "  [1] throw_inexacterror(f::Symbol, ::Type{Int32}, val::Int64)",
      "    @ Core .\\boot.jl:634",
      "  [2] checked_trunc_sint",
      "    @ .\\boot.jl:656 [inlined]",
      "  [3] toInt32",
      "    @ .\\boot.jl:693 [inlined]",
      "  [4] Int32",
      "    @ .\\boot.jl:783 [inlined]",
      "  [5] convert",
      "    @ .\\number.jl:7 [inlined]",
      "  [6] cconvert",
      "    @ .\\essentials.jl:543 [inlined]",
      "  [7] set_si!",
      "    @ .\\gmp.jl:211 [inlined]",
      "  [8] _broadcast_getindex_evalf",
      "    @ .\\broadcast.jl:709 [inlined]",
      "  [9] _broadcast_getindex",
      "    @ .\\broadcast.jl:682 [inlined]",
      " [10] getindex",
      "    @ .\\broadcast.jl:636 [inlined]",
      " [11] macro expansion",
      "    @ .\\broadcast.jl:1004 [inlined]",
      " [12] macro expansion",
      "    @ .\\simdloop.jl:77 [inlined]",
      " [13] copyto!",
      "    @ .\\broadcast.jl:1003 [inlined]",
      " [14] copyto!",
      "    @ .\\broadcast.jl:956 [inlined]",
      " [15] copy",
      "    @ .\\broadcast.jl:928 [inlined]",
      " [16] materialize",
      "    @ .\\broadcast.jl:903 [inlined]",
      " [17] solve!(BSS::HomotopyContinuation.BinomialSystemSolver)",
      "    @ HomotopyContinuation C:\\Users\\johan\\.julia\\packages\\HomotopyContinuation\\zGEDd\\src\\binomial_system.jl:178",
      " [18] solve",
      "    @ C:\\Users\\johan\\.julia\\packages\\HomotopyContinuation\\zGEDd\\src\\binomial_system.jl:162 [inlined]",
      " [19] iterate(iter::PolyhedralStartSolutionsIterator, ::Tuple{Int64, Int64})",
      "    @ HomotopyContinuation C:\\Users\\johan\\.julia\\packages\\HomotopyContinuation\\zGEDd\\src\\polyhedral.jl:80",
      " [20] _collect(cont::UnitRange{Int64}, itr::PolyhedralStartSolutionsIterator, ::Base.HasEltype, isz::Base.SizeUnknown)",
      "    @ Base .\\array.jl:772",
      " [21] collect",
      "    @ .\\array.jl:759 [inlined]",
      " [22] #solve#279",
      "    @ C:\\Users\\johan\\.julia\\packages\\HomotopyContinuation\\zGEDd\\src\\solve.jl:501 [inlined]",
      " [23] solve(args::System; show_progress::Bool, threading::Bool, catch_interrupt::Bool, target_parameters::Nothing, stop_early_cb::Function, transform_result::Nothing, transform_parameters::typeof(identity), flatten::Nothing, target_subspaces::Nothing, kwargs::@Kwargs{})",
      "    @ HomotopyContinuation C:\\Users\\johan\\.julia\\packages\\HomotopyContinuation\\zGEDd\\src\\solve.jl:487",
      " [24] solve(args::System)",
      "    @ HomotopyContinuation C:\\Users\\johan\\.julia\\packages\\HomotopyContinuation\\zGEDd\\src\\solve.jl:432",
      " [25] top-level scope",
      "    @ In[9]:20"
     ]
    }
   ],
   "source": [
    "test = \"(10, 15, 1, 0, 0)\"\n",
    "str, data = test, content[test]\n",
    "idx = 0\n",
    "str = replace(str, \"(\" => \"\", \")\" => \"\")  # Remove parentheses\n",
    "strs = split(str, \",\")  # Split the string by commas\n",
    "probinfo = parse.(Int, strs)  # Parse each string into a number\n",
    "mlen,nlen,_,_,_ = probinfo\n",
    "functional_sets = data[\"functional_sets\"]\n",
    "objective = data[\"objective\"]\n",
    "eqs = [fset[\"residual\"] for fset in functional_sets]\n",
    "@var x[0:nlen-1];\n",
    "polynomials = [parse_polynomialstr(expr) for expr in eqs]\n",
    "obj = parse_polynomialstr(objective)\n",
    "J = differentiate(polynomials, x);\n",
    "dfdx = differentiate(obj, x);\n",
    "@var l[1:mlen];\n",
    "kkt = [dfdx + J'*l; polynomials];\n",
    "Opt = System(kkt, variables = [x; l]);\n",
    "# solver, starts = solver_startsolutions(Opt);\n",
    "solve(Opt)\n",
    "# real_sols = real_solutions(res);\n",
    "# println(\"Real solutions: \", probinfo, \" => \", length(real_sols))\n",
    "# if length(real_sols) > 0\n",
    "#     minarg = (real_sols .|> y->evaluate(obj, x=>y[1:nlen])) |> argmin |> y->real_sols[y];\n",
    "#     println(\"local opt ; min = \", evaluate(obj, x=>minarg[1:nlen]))\n",
    "# end\n",
    "# errir with probinfo\n",
    "#println(\"Error: \", probinfo)"
   ]
  },
  {
   "cell_type": "code",
   "execution_count": 16,
   "metadata": {},
   "outputs": [
    {
     "ename": "LoadError",
     "evalue": "UndefVarError: `res` not defined",
     "output_type": "error",
     "traceback": [
      "UndefVarError: `res` not defined",
      ""
     ]
    }
   ],
   "source": [
    "res"
   ]
  },
  {
   "cell_type": "code",
   "execution_count": 28,
   "metadata": {},
   "outputs": [],
   "source": [
    "real_sols = real_solutions(res);"
   ]
  },
  {
   "cell_type": "code",
   "execution_count": 32,
   "metadata": {},
   "outputs": [
    {
     "data": {
      "text/latex": [
       "$$ (-1 + x₁)^2 + (-1 + x₁₂)^2 + (-1 + x₁₄)^2 + (-1 + x₄)^2 + (-1 + x₅)^2 $$"
      ],
      "text/plain": [
       "(-1 + x₁)^2 + (-1 + x₁₂)^2 + (-1 + x₁₄)^2 + (-1 + x₄)^2 + (-1 + x₅)^2"
      ]
     },
     "execution_count": 32,
     "metadata": {},
     "output_type": "execute_result"
    }
   ],
   "source": [
    "obj"
   ]
  },
  {
   "cell_type": "code",
   "execution_count": 29,
   "metadata": {},
   "outputs": [
    {
     "data": {
      "text/html": [
       "<table border=\"1\" class=\"dataframe\">\n",
       "  <thead>\n",
       "    <tr style=\"text-align: right;\">\n",
       "      <th></th>\n",
       "      <th>0</th>\n",
       "      <th>1</th>\n",
       "      <th>2</th>\n",
       "      <th>3</th>\n",
       "      <th>4</th>\n",
       "      <th>5</th>\n",
       "    </tr>\n",
       "  </thead>\n",
       "  <tbody>\n",
       "    <tr>\n",
       "      <th>0</th>\n",
       "      <td>-9.371429e-01</td>\n",
       "      <td>-9.522963e-01</td>\n",
       "      <td>-9.081918e-01</td>\n",
       "      <td>-9.155556e-01</td>\n",
       "      <td>-8.977778e-01</td>\n",
       "      <td>-9.584749e-01</td>\n",
       "    </tr>\n",
       "    <tr>\n",
       "      <th>1</th>\n",
       "      <td>-3.111111e+00</td>\n",
       "      <td>-6.250000e-01</td>\n",
       "      <td>4.714045e-01</td>\n",
       "      <td>6.666667e-01</td>\n",
       "      <td>3.333333e-01</td>\n",
       "      <td>-4.714045e-01</td>\n",
       "    </tr>\n",
       "    <tr>\n",
       "      <th>2</th>\n",
       "      <td>0.000000e+00</td>\n",
       "      <td>1.000000e+00</td>\n",
       "      <td>1.000000e+00</td>\n",
       "      <td>1.000000e+00</td>\n",
       "      <td>1.000000e+00</td>\n",
       "      <td>1.000000e+00</td>\n",
       "    </tr>\n",
       "    <tr>\n",
       "      <th>3</th>\n",
       "      <td>-6.830000e+01</td>\n",
       "      <td>-1.855750e+01</td>\n",
       "      <td>1.553087e+01</td>\n",
       "      <td>2.010000e+01</td>\n",
       "      <td>1.230000e+01</td>\n",
       "      <td>-6.530866e+00</td>\n",
       "    </tr>\n",
       "    <tr>\n",
       "      <th>4</th>\n",
       "      <td>4.187692e+00</td>\n",
       "      <td>1.822613e+01</td>\n",
       "      <td>6.409132e+00</td>\n",
       "      <td>5.844103e+00</td>\n",
       "      <td>7.208205e+00</td>\n",
       "      <td>2.550868e+00</td>\n",
       "    </tr>\n",
       "    <tr>\n",
       "      <th>5</th>\n",
       "      <td>1.820000e+01</td>\n",
       "      <td>1.125000e+00</td>\n",
       "      <td>-2.757716e+00</td>\n",
       "      <td>-3.900000e+00</td>\n",
       "      <td>-1.950000e+00</td>\n",
       "      <td>2.757716e+00</td>\n",
       "    </tr>\n",
       "    <tr>\n",
       "      <th>6</th>\n",
       "      <td>-7.142857e-02</td>\n",
       "      <td>-3.555556e-01</td>\n",
       "      <td>4.714045e-01</td>\n",
       "      <td>3.333333e-01</td>\n",
       "      <td>6.666667e-01</td>\n",
       "      <td>-4.714045e-01</td>\n",
       "    </tr>\n",
       "    <tr>\n",
       "      <th>7</th>\n",
       "      <td>-5.952381e-01</td>\n",
       "      <td>-5.952381e-01</td>\n",
       "      <td>-5.952381e-01</td>\n",
       "      <td>-5.952381e-01</td>\n",
       "      <td>-5.952381e-01</td>\n",
       "      <td>-5.952381e-01</td>\n",
       "    </tr>\n",
       "    <tr>\n",
       "      <th>8</th>\n",
       "      <td>-2.857143e-01</td>\n",
       "      <td>-2.857143e-01</td>\n",
       "      <td>-2.857143e-01</td>\n",
       "      <td>-2.857143e-01</td>\n",
       "      <td>-2.857143e-01</td>\n",
       "      <td>-2.857143e-01</td>\n",
       "    </tr>\n",
       "    <tr>\n",
       "      <th>9</th>\n",
       "      <td>0.000000e+00</td>\n",
       "      <td>2.821186e-37</td>\n",
       "      <td>5.345529e-51</td>\n",
       "      <td>0.000000e+00</td>\n",
       "      <td>-7.174648e-43</td>\n",
       "      <td>-3.085099e-41</td>\n",
       "    </tr>\n",
       "    <tr>\n",
       "      <th>10</th>\n",
       "      <td>1.000000e+00</td>\n",
       "      <td>2.812803e-32</td>\n",
       "      <td>1.000000e+00</td>\n",
       "      <td>1.000000e+00</td>\n",
       "      <td>1.000000e+00</td>\n",
       "      <td>1.000000e+00</td>\n",
       "    </tr>\n",
       "    <tr>\n",
       "      <th>11</th>\n",
       "      <td>1.400000e+00</td>\n",
       "      <td>1.400000e+00</td>\n",
       "      <td>1.400000e+00</td>\n",
       "      <td>1.400000e+00</td>\n",
       "      <td>1.400000e+00</td>\n",
       "      <td>1.400000e+00</td>\n",
       "    </tr>\n",
       "    <tr>\n",
       "      <th>12</th>\n",
       "      <td>1.121039e-44</td>\n",
       "      <td>1.763242e-38</td>\n",
       "      <td>8.352390e-53</td>\n",
       "      <td>4.176195e-53</td>\n",
       "      <td>-8.968310e-44</td>\n",
       "      <td>-1.356457e-42</td>\n",
       "    </tr>\n",
       "    <tr>\n",
       "      <th>13</th>\n",
       "      <td>-2.891933e+02</td>\n",
       "      <td>-2.333333e+00</td>\n",
       "      <td>6.289630e+01</td>\n",
       "      <td>8.208667e+01</td>\n",
       "      <td>4.932667e+01</td>\n",
       "      <td>-2.976297e+01</td>\n",
       "    </tr>\n",
       "    <tr>\n",
       "      <th>14</th>\n",
       "      <td>8.989254e-02</td>\n",
       "      <td>-9.132653e-01</td>\n",
       "      <td>-1.316026e+00</td>\n",
       "      <td>-1.387755e+00</td>\n",
       "      <td>-1.265306e+00</td>\n",
       "      <td>-9.696881e-01</td>\n",
       "    </tr>\n",
       "    <tr>\n",
       "      <th>15</th>\n",
       "      <td>-7.653061e-01</td>\n",
       "      <td>-1.015625e+01</td>\n",
       "      <td>2.491823e+00</td>\n",
       "      <td>2.222222e+00</td>\n",
       "      <td>2.222222e+00</td>\n",
       "      <td>-6.936267e+00</td>\n",
       "    </tr>\n",
       "    <tr>\n",
       "      <th>16</th>\n",
       "      <td>2.655240e-44</td>\n",
       "      <td>4.868756e-38</td>\n",
       "      <td>0.000000e+00</td>\n",
       "      <td>1.105261e-61</td>\n",
       "      <td>-3.284293e-47</td>\n",
       "      <td>7.953464e-45</td>\n",
       "    </tr>\n",
       "    <tr>\n",
       "      <th>17</th>\n",
       "      <td>-1.477932e-46</td>\n",
       "      <td>3.123576e-33</td>\n",
       "      <td>2.480326e-47</td>\n",
       "      <td>4.166840e-48</td>\n",
       "      <td>-1.331615e-39</td>\n",
       "      <td>-1.226136e-45</td>\n",
       "    </tr>\n",
       "    <tr>\n",
       "      <th>18</th>\n",
       "      <td>1.271359e+02</td>\n",
       "      <td>6.717107e-39</td>\n",
       "      <td>-1.221835e-50</td>\n",
       "      <td>1.145471e-51</td>\n",
       "      <td>2.623871e-41</td>\n",
       "      <td>-1.000683e-46</td>\n",
       "    </tr>\n",
       "    <tr>\n",
       "      <th>19</th>\n",
       "      <td>0.000000e+00</td>\n",
       "      <td>4.574836e-32</td>\n",
       "      <td>-3.188501e-46</td>\n",
       "      <td>-6.788822e-47</td>\n",
       "      <td>1.120393e-38</td>\n",
       "      <td>0.000000e+00</td>\n",
       "    </tr>\n",
       "    <tr>\n",
       "      <th>20</th>\n",
       "      <td>0.000000e+00</td>\n",
       "      <td>-2.668248e+00</td>\n",
       "      <td>0.000000e+00</td>\n",
       "      <td>-2.189529e-47</td>\n",
       "      <td>-4.701977e-38</td>\n",
       "      <td>1.401298e-45</td>\n",
       "    </tr>\n",
       "    <tr>\n",
       "      <th>21</th>\n",
       "      <td>-3.178398e+01</td>\n",
       "      <td>-9.934738e-63</td>\n",
       "      <td>0.000000e+00</td>\n",
       "      <td>0.000000e+00</td>\n",
       "      <td>0.000000e+00</td>\n",
       "      <td>0.000000e+00</td>\n",
       "    </tr>\n",
       "    <tr>\n",
       "      <th>22</th>\n",
       "      <td>0.000000e+00</td>\n",
       "      <td>-1.185888e+00</td>\n",
       "      <td>1.443721e-46</td>\n",
       "      <td>1.558222e-47</td>\n",
       "      <td>-1.836710e-39</td>\n",
       "      <td>-1.226136e-45</td>\n",
       "    </tr>\n",
       "    <tr>\n",
       "      <th>23</th>\n",
       "      <td>0.000000e+00</td>\n",
       "      <td>0.000000e+00</td>\n",
       "      <td>-2.128427e-77</td>\n",
       "      <td>0.000000e+00</td>\n",
       "      <td>5.339149e-42</td>\n",
       "      <td>2.384061e-46</td>\n",
       "    </tr>\n",
       "    <tr>\n",
       "      <th>24</th>\n",
       "      <td>-1.600000e+00</td>\n",
       "      <td>-1.600000e+00</td>\n",
       "      <td>-1.600000e+00</td>\n",
       "      <td>-1.600000e+00</td>\n",
       "      <td>-1.600000e+00</td>\n",
       "      <td>-1.600000e+00</td>\n",
       "    </tr>\n",
       "    <tr>\n",
       "      <th>25</th>\n",
       "      <td>3.247309e+02</td>\n",
       "      <td>3.040564e+02</td>\n",
       "      <td>5.002254e+01</td>\n",
       "      <td>5.428782e+01</td>\n",
       "      <td>5.382037e+01</td>\n",
       "      <td>1.253946e+01</td>\n",
       "    </tr>\n",
       "  </tbody>\n",
       "</table>\n"
      ],
      "text/plain": [
       "               0             1  ...             4             5\n",
       "0  -9.371429e-01 -9.522963e-01  ... -8.977778e-01 -9.584749e-01\n",
       "1  -3.111111e+00 -6.250000e-01  ...  3.333333e-01 -4.714045e-01\n",
       "2   0.000000e+00  1.000000e+00  ...  1.000000e+00  1.000000e+00\n",
       "3  -6.830000e+01 -1.855750e+01  ...  1.230000e+01 -6.530866e+00\n",
       "4   4.187692e+00  1.822613e+01  ...  7.208205e+00  2.550868e+00\n",
       "5   1.820000e+01  1.125000e+00  ... -1.950000e+00  2.757716e+00\n",
       "6  -7.142857e-02 -3.555556e-01  ...  6.666667e-01 -4.714045e-01\n",
       "7  -5.952381e-01 -5.952381e-01  ... -5.952381e-01 -5.952381e-01\n",
       "8  -2.857143e-01 -2.857143e-01  ... -2.857143e-01 -2.857143e-01\n",
       "9   0.000000e+00  2.821186e-37  ... -7.174648e-43 -3.085099e-41\n",
       "10  1.000000e+00  2.812803e-32  ...  1.000000e+00  1.000000e+00\n",
       "11  1.400000e+00  1.400000e+00  ...  1.400000e+00  1.400000e+00\n",
       "12  1.121039e-44  1.763242e-38  ... -8.968310e-44 -1.356457e-42\n",
       "13 -2.891933e+02 -2.333333e+00  ...  4.932667e+01 -2.976297e+01\n",
       "14  8.989254e-02 -9.132653e-01  ... -1.265306e+00 -9.696881e-01\n",
       "15 -7.653061e-01 -1.015625e+01  ...  2.222222e+00 -6.936267e+00\n",
       "16  2.655240e-44  4.868756e-38  ... -3.284293e-47  7.953464e-45\n",
       "17 -1.477932e-46  3.123576e-33  ... -1.331615e-39 -1.226136e-45\n",
       "18  1.271359e+02  6.717107e-39  ...  2.623871e-41 -1.000683e-46\n",
       "19  0.000000e+00  4.574836e-32  ...  1.120393e-38  0.000000e+00\n",
       "20  0.000000e+00 -2.668248e+00  ... -4.701977e-38  1.401298e-45\n",
       "21 -3.178398e+01 -9.934738e-63  ...  0.000000e+00  0.000000e+00\n",
       "22  0.000000e+00 -1.185888e+00  ... -1.836710e-39 -1.226136e-45\n",
       "23  0.000000e+00  0.000000e+00  ...  5.339149e-42  2.384061e-46\n",
       "24 -1.600000e+00 -1.600000e+00  ... -1.600000e+00 -1.600000e+00\n",
       "25  3.247309e+02  3.040564e+02  ...  5.382037e+01  1.253946e+01\n",
       "\n",
       "[26 rows x 6 columns]\n"
      ]
     },
     "execution_count": 29,
     "metadata": {},
     "output_type": "execute_result"
    }
   ],
   "source": [
    "sols_and_obj = real_sols .|> y -> [y; evaluate(obj, x=>y[1:nlen])]\n",
    "DataFrame(permutedims(hcat(sols_and_obj...))')"
   ]
  },
  {
   "cell_type": "code",
   "execution_count": 30,
   "metadata": {},
   "outputs": [
    {
     "name": "stdout",
     "output_type": "stream",
     "text": [
      "Real solutions: [10, 15, 1, 4, 2] => 6; objval= 12.539460198869095\n"
     ]
    }
   ],
   "source": [
    "minarg = (real_sols .|> y->evaluate(obj, x=>y[1:nlen])) |> argmin |> y->real_sols[y];\n",
    "println(\"Real solutions: \", probinfo, \" => \", length(real_sols), \"; objval= \", evaluate(obj, x=>minarg[1:nlen]))"
   ]
  },
  {
   "cell_type": "code",
   "execution_count": 17,
   "metadata": {},
   "outputs": [
    {
     "name": "stderr",
     "output_type": "stream",
     "text": [
      "\r\u001b[32mComputing mixed cells... 1475    Time: 0:01:45\u001b[39m\r\n",
      "\u001b[34m  mixed_volume:  31245\u001b[39m\r\u001b[A"
     ]
    }
   ],
   "source": [
    "for (idx, (str, data)) in enumerate(content)\n",
    "    str = replace(str, \"(\" => \"\", \")\" => \"\")  # Remove parentheses\n",
    "    strs = split(str, \",\")  # Split the string by commas\n",
    "    probinfo = parse.(Int, strs)  # Parse each string into a number\n",
    "    mlen,nlen,_,_,_ = probinfo\n",
    "    if mlen == 10\n",
    "        functional_sets = data[\"functional_sets\"]\n",
    "        objective = data[\"objective\"]\n",
    "        eqs = [fset[\"residual\"] for fset in functional_sets]\n",
    "        @var x[1:nlen]\n",
    "        polynomials = [parse_polynomialstr(expr) for expr in eqs]\n",
    "        obj = parse_polynomialstr(objective)\n",
    "        J = differentiate(polynomials, x);\n",
    "        dfdx = differentiate(obj, x);\n",
    "        @var l[1:mlen];\n",
    "        println(mlen, nlen)\n",
    "        kkt = [dfdx + J'*l; polynomials];\n",
    "        try\n",
    "            Opt = System(kkt, variables = [x; l]);\n",
    "            res = solve(Opt)\n",
    "            real_sols = real_solutions(res);\n",
    "            minarg = (real_sols .|> y->evaluate(obj, x=>y[1:nlen])) |> argmin |> y->real_sols[y];\n",
    "            println(\"Real solutions: \", probinfo, \" => \", length(real_sols), \"local opt ; min = \", evaluate(obj, x=>minarg[1:nlen]))\n",
    "        catch e\n",
    "            # errir with probinfo\n",
    "            println(\"Error: \", probinfo)\n",
    "        end\n",
    "    end\n",
    "end"
   ]
  },
  {
   "cell_type": "code",
   "execution_count": 70,
   "metadata": {},
   "outputs": [],
   "source": [
    "content = read_and_parse_json(\"../../applications/data/testproblems.json\")\n",
    "key = \"(10, 15, 1, 2, 0)\"\n",
    "value = content[key]\n",
    "functional_sets = value[\"functional_sets\"]\n",
    "objective = value[\"objective\"]\n",
    "eqs = [fset[\"residual\"] for fset in functional_sets];"
   ]
  },
  {
   "cell_type": "code",
   "execution_count": 71,
   "metadata": {},
   "outputs": [],
   "source": [
    "nlen = 15\n",
    "mlen = 10;"
   ]
  },
  {
   "cell_type": "code",
   "execution_count": 72,
   "metadata": {},
   "outputs": [],
   "source": [
    "@var x[1:nlen];"
   ]
  },
  {
   "cell_type": "code",
   "execution_count": 73,
   "metadata": {},
   "outputs": [
    {
     "data": {
      "text/latex": [
       "$$ (-1 + x₁)^2 + (-1 + x₁₁)^2 + (-1 + x₁₂)^2 + (-1 + x₁₄)^2 + (-1 + x₃)^2 $$"
      ],
      "text/plain": [
       "(-1 + x₁)^2 + (-1 + x₁₁)^2 + (-1 + x₁₂)^2 + (-1 + x₁₄)^2 + (-1 + x₃)^2"
      ]
     },
     "execution_count": 73,
     "metadata": {},
     "output_type": "execute_result"
    }
   ],
   "source": [
    "polynomials = [parse_polynomialstr(expr) for expr in eqs]\n",
    "\n",
    "exprforparse = replace(objective, \"**\"=> \"^\")   \n",
    "exprforparse = replace(exprforparse, r\"x_(\\d+)\" => m -> \"x[\" * string(parse(Int, match(r\"x_(\\d+)\", m).captures[1]) + 1) * \"]\")\n",
    "obj = eval(Meta.parse(exprforparse))"
   ]
  },
  {
   "cell_type": "code",
   "execution_count": 74,
   "metadata": {},
   "outputs": [],
   "source": [
    "vars = x[1:nlen];"
   ]
  },
  {
   "cell_type": "code",
   "execution_count": 75,
   "metadata": {},
   "outputs": [],
   "source": [
    "J = differentiate(polynomials, vars);\n",
    "dfdx = differentiate(obj, vars);"
   ]
  },
  {
   "cell_type": "code",
   "execution_count": 76,
   "metadata": {},
   "outputs": [],
   "source": [
    "@var l[1:length(polynomials)];"
   ]
  },
  {
   "cell_type": "code",
   "execution_count": 77,
   "metadata": {},
   "outputs": [],
   "source": [
    "kkt = [dfdx + J'*l; polynomials];"
   ]
  },
  {
   "cell_type": "code",
   "execution_count": 78,
   "metadata": {},
   "outputs": [
    {
     "name": "stdout",
     "output_type": "stream",
     "text": [
      "\r\u001b[32mTracking 730 paths... 100%|█████████████████████████████| Time: 0:00:07\u001b[39m\r\n",
      "\u001b[34m  # paths tracked:                  730\u001b[39m\r\n",
      "\u001b[34m  # non-singular solutions (real):  0 (0)\u001b[39m\r\n",
      "\u001b[34m  # singular endpoints (real):      294 (0)\u001b[39m\r\n",
      "\u001b[34m  # total solutions (real):         294 (0)\u001b[39m\n"
     ]
    },
    {
     "data": {
      "text/plain": [
       "Result with 294 solutions\n",
       "=========================\n",
       "• 730 paths tracked\n",
       "• 0 non-singular solutions (0 real)\n",
       "• 294 singular solutions (0 real)\n",
       "• random_seed: 0xcbb7a012\n",
       "• start_system: :polyhedral\n",
       "• multiplicity table of singular solutions:\n",
       "\u001b[2m╭\u001b[0m\u001b[2m───────\u001b[0m\u001b[2m┬\u001b[0m\u001b[2m───────\u001b[0m\u001b[2m┬\u001b[0m\u001b[2m────────\u001b[0m\u001b[2m┬\u001b[0m\u001b[2m────────────\u001b[0m\u001b[2m╮\u001b[0m\n",
       "\u001b[2m│\u001b[0m\u001b[22m mult. \u001b[0m\u001b[2m│\u001b[0m\u001b[22m total \u001b[0m\u001b[2m│\u001b[0m\u001b[22m # real \u001b[0m\u001b[2m│\u001b[0m\u001b[22m # non-real \u001b[0m\u001b[2m│\u001b[0m\n",
       "\u001b[2m├\u001b[0m\u001b[2m───────\u001b[0m\u001b[2m┼\u001b[0m\u001b[2m───────\u001b[0m\u001b[2m┼\u001b[0m\u001b[2m────────\u001b[0m\u001b[2m┼\u001b[0m\u001b[2m────────────\u001b[0m\u001b[2m┤\u001b[0m\n",
       "\u001b[2m│\u001b[0m   1   \u001b[2m│\u001b[0m  294  \u001b[2m│\u001b[0m   0    \u001b[2m│\u001b[0m    294     \u001b[2m│\u001b[0m\n",
       "\u001b[2m╰\u001b[0m\u001b[2m───────\u001b[0m\u001b[2m┴\u001b[0m\u001b[2m───────\u001b[0m\u001b[2m┴\u001b[0m\u001b[2m────────\u001b[0m\u001b[2m┴\u001b[0m\u001b[2m────────────\u001b[0m\u001b[2m╯\u001b[0m\n"
      ]
     },
     "execution_count": 78,
     "metadata": {},
     "output_type": "execute_result"
    }
   ],
   "source": [
    "try\n",
    "    Opt = System(kkt, variables = [vars; l]);\n",
    "    res = solve(Opt)\n",
    "catch e\n",
    "    res = e\n",
    "end"
   ]
  },
  {
   "cell_type": "code",
   "execution_count": 79,
   "metadata": {},
   "outputs": [
    {
     "ename": "LoadError",
     "evalue": "MethodError: reducing over an empty collection is not allowed; consider supplying `init` to the reducer",
     "output_type": "error",
     "traceback": [
      "MethodError: reducing over an empty collection is not allowed; consider supplying `init` to the reducer",
      "",
      "Stacktrace:",
      "  [1] reduce_empty(op::Base.MappingRF{Base.var\"#318#319\"{typeof(identity)}, Base.BottomRF{typeof(Base._rf_findmin)}}, ::Type{Pair{Int64, Any}})",
      "    @ Base .\\reduce.jl:361",
      "  [2] reduce_empty_iter",
      "    @ .\\reduce.jl:384 [inlined]",
      "  [3] reduce_empty_iter",
      "    @ .\\reduce.jl:383 [inlined]",
      "  [4] foldl_impl",
      "    @ .\\reduce.jl:49 [inlined]",
      "  [5] mapfoldl_impl",
      "    @ .\\reduce.jl:44 [inlined]",
      "  [6] mapfoldl",
      "    @ .\\reduce.jl:175 [inlined]",
      "  [7] _findmin",
      "    @ .\\reduce.jl:968 [inlined]",
      "  [8] findmin",
      "    @ .\\reducedim.jl:1153 [inlined]",
      "  [9] _findmin",
      "    @ .\\reduce.jl:994 [inlined]",
      " [10] findmin",
      "    @ .\\reducedim.jl:1130 [inlined]",
      " [11] argmin",
      "    @ .\\reducedim.jl:1277 [inlined]",
      " [12] |>(x::Vector{Any}, f::typeof(argmin))",
      "    @ Base .\\operators.jl:917",
      " [13] top-level scope",
      "    @ In[79]:2"
     ]
    },
    {
     "name": "stderr",
     "output_type": "stream",
     "text": [
      "WARNING: both Pandas and HomotopyContinuation export \"to_dict\"; uses of it in module Main must be qualified\n"
     ]
    }
   ],
   "source": [
    "real_sols = real_solutions(res);\n",
    "sols_and_obj = real_sols .|> x -> [x[1:nlen]; evaluate(obj, vars=>x[1:nlen])]\n",
    "minarg = (real_sols .|> x->evaluate(obj, vars=>x[1:nlen])) |> argmin |> x->real_sols[x];"
   ]
  },
  {
   "cell_type": "code",
   "execution_count": null,
   "metadata": {},
   "outputs": [
    {
     "data": {
      "text/html": [
       "<table border=\"1\" class=\"dataframe\">\n",
       "  <thead>\n",
       "    <tr style=\"text-align: right;\">\n",
       "      <th></th>\n",
       "      <th>0</th>\n",
       "      <th>1</th>\n",
       "      <th>2</th>\n",
       "      <th>3</th>\n",
       "      <th>4</th>\n",
       "      <th>5</th>\n",
       "      <th>6</th>\n",
       "      <th>7</th>\n",
       "      <th>8</th>\n",
       "      <th>9</th>\n",
       "    </tr>\n",
       "  </thead>\n",
       "  <tbody>\n",
       "    <tr>\n",
       "      <th>0</th>\n",
       "      <td>-0.155826</td>\n",
       "      <td>0.283759</td>\n",
       "      <td>-0.841618</td>\n",
       "      <td>-0.569985</td>\n",
       "      <td>-4.031184</td>\n",
       "      <td>-6.697917</td>\n",
       "      <td>0.390150</td>\n",
       "      <td>-3.685179</td>\n",
       "      <td>1.024392</td>\n",
       "      <td>0.081983</td>\n",
       "    </tr>\n",
       "    <tr>\n",
       "      <th>1</th>\n",
       "      <td>1.000000</td>\n",
       "      <td>1.000000</td>\n",
       "      <td>1.000000</td>\n",
       "      <td>1.000000</td>\n",
       "      <td>1.000000</td>\n",
       "      <td>1.000000</td>\n",
       "      <td>1.000000</td>\n",
       "      <td>1.000000</td>\n",
       "      <td>1.000000</td>\n",
       "      <td>1.000000</td>\n",
       "    </tr>\n",
       "    <tr>\n",
       "      <th>2</th>\n",
       "      <td>-0.172620</td>\n",
       "      <td>20.257550</td>\n",
       "      <td>-0.181014</td>\n",
       "      <td>-0.682777</td>\n",
       "      <td>10.881048</td>\n",
       "      <td>12.384704</td>\n",
       "      <td>-15.405195</td>\n",
       "      <td>-16.079478</td>\n",
       "      <td>-0.783762</td>\n",
       "      <td>-0.157914</td>\n",
       "    </tr>\n",
       "    <tr>\n",
       "      <th>3</th>\n",
       "      <td>1.215208</td>\n",
       "      <td>0.820810</td>\n",
       "      <td>-0.387527</td>\n",
       "      <td>-0.336030</td>\n",
       "      <td>2.467960</td>\n",
       "      <td>-1.066667</td>\n",
       "      <td>0.933570</td>\n",
       "      <td>2.452419</td>\n",
       "      <td>-1.066667</td>\n",
       "      <td>1.207592</td>\n",
       "    </tr>\n",
       "    <tr>\n",
       "      <th>4</th>\n",
       "      <td>-0.707555</td>\n",
       "      <td>-0.597931</td>\n",
       "      <td>0.845351</td>\n",
       "      <td>0.653891</td>\n",
       "      <td>-0.555033</td>\n",
       "      <td>1.000000</td>\n",
       "      <td>-0.359274</td>\n",
       "      <td>-0.225784</td>\n",
       "      <td>1.000000</td>\n",
       "      <td>-0.350338</td>\n",
       "    </tr>\n",
       "    <tr>\n",
       "      <th>5</th>\n",
       "      <td>-1.113804</td>\n",
       "      <td>-1.474237</td>\n",
       "      <td>-1.804451</td>\n",
       "      <td>2.203295</td>\n",
       "      <td>-0.882442</td>\n",
       "      <td>1.000000</td>\n",
       "      <td>1.783315</td>\n",
       "      <td>1.387938</td>\n",
       "      <td>1.000000</td>\n",
       "      <td>1.587854</td>\n",
       "    </tr>\n",
       "    <tr>\n",
       "      <th>6</th>\n",
       "      <td>-0.157041</td>\n",
       "      <td>11.782274</td>\n",
       "      <td>0.314533</td>\n",
       "      <td>0.362158</td>\n",
       "      <td>1.137384</td>\n",
       "      <td>-3.789336</td>\n",
       "      <td>7.446773</td>\n",
       "      <td>1.061461</td>\n",
       "      <td>-0.537924</td>\n",
       "      <td>0.070726</td>\n",
       "    </tr>\n",
       "    <tr>\n",
       "      <th>7</th>\n",
       "      <td>0.350609</td>\n",
       "      <td>-0.638458</td>\n",
       "      <td>1.893642</td>\n",
       "      <td>1.282467</td>\n",
       "      <td>9.070164</td>\n",
       "      <td>15.070314</td>\n",
       "      <td>-0.877837</td>\n",
       "      <td>8.291653</td>\n",
       "      <td>-2.304882</td>\n",
       "      <td>-0.184461</td>\n",
       "    </tr>\n",
       "    <tr>\n",
       "      <th>8</th>\n",
       "      <td>0.428672</td>\n",
       "      <td>-67.095921</td>\n",
       "      <td>-9.225452</td>\n",
       "      <td>13.385162</td>\n",
       "      <td>-0.790790</td>\n",
       "      <td>0.543409</td>\n",
       "      <td>50.762521</td>\n",
       "      <td>0.560185</td>\n",
       "      <td>-3.553040</td>\n",
       "      <td>0.111620</td>\n",
       "    </tr>\n",
       "    <tr>\n",
       "      <th>9</th>\n",
       "      <td>4.278267</td>\n",
       "      <td>-2.349412</td>\n",
       "      <td>0.792125</td>\n",
       "      <td>1.169621</td>\n",
       "      <td>0.165377</td>\n",
       "      <td>0.099533</td>\n",
       "      <td>-1.708746</td>\n",
       "      <td>0.180905</td>\n",
       "      <td>-0.650793</td>\n",
       "      <td>-8.131807</td>\n",
       "    </tr>\n",
       "    <tr>\n",
       "      <th>10</th>\n",
       "      <td>-1.691879</td>\n",
       "      <td>-1.512586</td>\n",
       "      <td>0.874091</td>\n",
       "      <td>-0.925466</td>\n",
       "      <td>-2.722288</td>\n",
       "      <td>-1.333333</td>\n",
       "      <td>2.081062</td>\n",
       "      <td>4.254757</td>\n",
       "      <td>-1.333333</td>\n",
       "      <td>2.396850</td>\n",
       "    </tr>\n",
       "    <tr>\n",
       "      <th>11</th>\n",
       "      <td>-0.000668</td>\n",
       "      <td>-0.027125</td>\n",
       "      <td>-0.194644</td>\n",
       "      <td>0.135043</td>\n",
       "      <td>-2.319107</td>\n",
       "      <td>3.373766</td>\n",
       "      <td>0.036054</td>\n",
       "      <td>3.272891</td>\n",
       "      <td>-0.515990</td>\n",
       "      <td>-0.000249</td>\n",
       "    </tr>\n",
       "    <tr>\n",
       "      <th>12</th>\n",
       "      <td>-0.839155</td>\n",
       "      <td>1.394613</td>\n",
       "      <td>-2.299786</td>\n",
       "      <td>-1.823668</td>\n",
       "      <td>1.063333</td>\n",
       "      <td>1.000000</td>\n",
       "      <td>1.109584</td>\n",
       "      <td>1.023815</td>\n",
       "      <td>1.000000</td>\n",
       "      <td>-0.854008</td>\n",
       "    </tr>\n",
       "    <tr>\n",
       "      <th>13</th>\n",
       "      <td>-2.955293</td>\n",
       "      <td>-3.305597</td>\n",
       "      <td>5.720231</td>\n",
       "      <td>-5.402681</td>\n",
       "      <td>-1.836691</td>\n",
       "      <td>-3.750000</td>\n",
       "      <td>2.402619</td>\n",
       "      <td>1.175155</td>\n",
       "      <td>-3.750000</td>\n",
       "      <td>2.086072</td>\n",
       "    </tr>\n",
       "    <tr>\n",
       "      <th>14</th>\n",
       "      <td>12.001719</td>\n",
       "      <td>1.080004</td>\n",
       "      <td>1.225916</td>\n",
       "      <td>1.154548</td>\n",
       "      <td>0.996436</td>\n",
       "      <td>1.000000</td>\n",
       "      <td>1.018999</td>\n",
       "      <td>0.999448</td>\n",
       "      <td>1.000000</td>\n",
       "      <td>12.000167</td>\n",
       "    </tr>\n",
       "    <tr>\n",
       "      <th>15</th>\n",
       "      <td>131.804218</td>\n",
       "      <td>8.837354</td>\n",
       "      <td>18.828487</td>\n",
       "      <td>9.564696</td>\n",
       "      <td>5.965738</td>\n",
       "      <td>0.000000</td>\n",
       "      <td>2.473577</td>\n",
       "      <td>1.653611</td>\n",
       "      <td>0.000000</td>\n",
       "      <td>126.609995</td>\n",
       "    </tr>\n",
       "  </tbody>\n",
       "</table>\n"
      ],
      "text/plain": [
       "             0          1          2  ...          7         8           9\n",
       "0    -0.155826   0.283759  -0.841618  ...  -3.685179  1.024392    0.081983\n",
       "1     1.000000   1.000000   1.000000  ...   1.000000  1.000000    1.000000\n",
       "2    -0.172620  20.257550  -0.181014  ... -16.079478 -0.783762   -0.157914\n",
       "3     1.215208   0.820810  -0.387527  ...   2.452419 -1.066667    1.207592\n",
       "4    -0.707555  -0.597931   0.845351  ...  -0.225784  1.000000   -0.350338\n",
       "5    -1.113804  -1.474237  -1.804451  ...   1.387938  1.000000    1.587854\n",
       "6    -0.157041  11.782274   0.314533  ...   1.061461 -0.537924    0.070726\n",
       "7     0.350609  -0.638458   1.893642  ...   8.291653 -2.304882   -0.184461\n",
       "8     0.428672 -67.095921  -9.225452  ...   0.560185 -3.553040    0.111620\n",
       "9     4.278267  -2.349412   0.792125  ...   0.180905 -0.650793   -8.131807\n",
       "10   -1.691879  -1.512586   0.874091  ...   4.254757 -1.333333    2.396850\n",
       "11   -0.000668  -0.027125  -0.194644  ...   3.272891 -0.515990   -0.000249\n",
       "12   -0.839155   1.394613  -2.299786  ...   1.023815  1.000000   -0.854008\n",
       "13   -2.955293  -3.305597   5.720231  ...   1.175155 -3.750000    2.086072\n",
       "14   12.001719   1.080004   1.225916  ...   0.999448  1.000000   12.000167\n",
       "15  131.804218   8.837354  18.828487  ...   1.653611  0.000000  126.609995\n",
       "\n",
       "[16 rows x 10 columns]\n"
      ]
     },
     "execution_count": 51,
     "metadata": {},
     "output_type": "execute_result"
    }
   ],
   "source": [
    "DataFrame(permutedims(hcat(sols_and_obj...))')"
   ]
  },
  {
   "cell_type": "code",
   "execution_count": 39,
   "metadata": {},
   "outputs": [
    {
     "data": {
      "text/plain": [
       "10-element Vector{Float64}:\n",
       "  1.793662034335766e-42\n",
       "  1.9132431525062344e-42\n",
       "  8.609577764811676e-42\n",
       " -2.8698592549372254e-41\n",
       " -2.8698592549372254e-41\n",
       "  1.1479437019748901e-41\n",
       " -2.7369110631344083e-48\n",
       " -2.0089014784560578e-41\n",
       " -1.3684555315672042e-48\n",
       " -8.609577764811676e-42"
      ]
     },
     "execution_count": 39,
     "metadata": {},
     "output_type": "execute_result"
    }
   ],
   "source": [
    "minarg[nlen+1:end]"
   ]
  },
  {
   "cell_type": "code",
   "execution_count": 40,
   "metadata": {},
   "outputs": [
    {
     "data": {
      "text/plain": [
       "10-element Vector{Float64}:\n",
       "  0.0\n",
       "  0.0\n",
       " -4.440892098500626e-16\n",
       "  0.0\n",
       "  0.0\n",
       "  0.0\n",
       " -1.1102230246251565e-16\n",
       "  2.220446049250313e-16\n",
       "  0.0\n",
       "  4.440892098500626e-16"
      ]
     },
     "execution_count": 40,
     "metadata": {},
     "output_type": "execute_result"
    }
   ],
   "source": [
    "evaluate.(polynomials, vars=> minarg[1:nlen])"
   ]
  },
  {
   "cell_type": "markdown",
   "metadata": {},
   "source": [
    "# Groebner bases"
   ]
  },
  {
   "cell_type": "code",
   "execution_count": null,
   "metadata": {},
   "outputs": [],
   "source": [
    "using DynamicPolynomials\n",
    "using Groebner"
   ]
  },
  {
   "cell_type": "code",
   "execution_count": 4,
   "metadata": {},
   "outputs": [],
   "source": [
    "@polyvar x[0:15];"
   ]
  },
  {
   "cell_type": "code",
   "execution_count": 6,
   "metadata": {},
   "outputs": [],
   "source": [
    "polynomials = Vector{Polynomial{DynamicPolynomials.Commutative{DynamicPolynomials.CreationOrder}, Graded{LexOrder}, Int64}}()\n",
    "\n",
    "for expr in eqs\n",
    "    exprforparse = replace(expr, r\"0\\.\"=> \"\")  \n",
    "    exprforparse = replace(exprforparse, r\"x_(\\d+)\" => \n",
    "    m -> \"x[\" * string(parse(Int, match(r\"x_(\\d+)\", m).captures[1]) + 1) * \"]\")\n",
    "    # println(exprforparse)\n",
    "    poly = eval(Meta.parse(exprforparse))\n",
    "    # println([poly])\n",
    "    push!(polynomials, poly)\n",
    "end"
   ]
  },
  {
   "cell_type": "code",
   "execution_count": 7,
   "metadata": {},
   "outputs": [
    {
     "data": {
      "text/plain": [
       "10-element Vector{Polynomial{DynamicPolynomials.Commutative{DynamicPolynomials.CreationOrder}, Graded{LexOrder}, Int64}}:\n",
       " 8 + 6x₃x₁₀ - x₂x₉\n",
       " 7 - 9x₄x₈ - 6x₃x₁₄ + 5x₀x₉x₁₃\n",
       " -8 - 9x₄x₁₄ - 2x₀x₅\n",
       " 1 - 2x₀ + 2x₂x₈x₁₃\n",
       " 4 + 3x₁x₂x₁₀\n",
       " -4 + 4x₃x₈ + x₀x₇\n",
       " -3 + 9x₉x₁₀x₁₁\n",
       " -5 + 8x₈x₁₀x₁₂ - 3x₆x₉x₁₃\n",
       " -5 + 6x₈ + 7x₄x₁₀\n",
       " -1 - 3x₉x₁₄ - 7x₀x₆"
      ]
     },
     "execution_count": 7,
     "metadata": {},
     "output_type": "execute_result"
    }
   ],
   "source": [
    "polynomials"
   ]
  },
  {
   "cell_type": "code",
   "execution_count": 8,
   "metadata": {},
   "outputs": [],
   "source": [
    "groebner(polynomials)"
   ]
  },
  {
   "cell_type": "code",
   "execution_count": null,
   "metadata": {},
   "outputs": [],
   "source": []
  }
 ],
 "metadata": {
  "kernelspec": {
   "display_name": "Julia 1.10.2",
   "language": "julia",
   "name": "julia-1.10"
  },
  "language_info": {
   "file_extension": ".jl",
   "mimetype": "application/julia",
   "name": "julia",
   "version": "1.10.2"
  }
 },
 "nbformat": 4,
 "nbformat_minor": 2
}
