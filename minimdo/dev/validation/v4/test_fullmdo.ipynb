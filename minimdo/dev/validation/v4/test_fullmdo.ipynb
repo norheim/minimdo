{
 "cells": [
  {
   "cell_type": "code",
   "execution_count": 1,
   "metadata": {},
   "outputs": [],
   "source": [
    "from src.v4.torchengine import AnalyticalSetSympy, FunctionSympy, Function\n",
    "from src.v4.torchdata import print_formatted_table, load_multiple_files\n",
    "from scipy.optimize import minimize\n",
    "import numpy as np\n",
    "import torch\n",
    "np.set_printoptions(formatter={'float': lambda x: \n",
    "                                f\"{x:.3f}\".rstrip('0').rstrip('.')})"
   ]
  },
  {
   "cell_type": "markdown",
   "metadata": {},
   "source": [
    "## Load problem"
   ]
  },
  {
   "cell_type": "code",
   "execution_count": 2,
   "metadata": {},
   "outputs": [
    {
     "ename": "FileNotFoundError",
     "evalue": "[Errno 2] No such file or directory: '../../../applications/data/polyproblems_v2_med.json'",
     "output_type": "error",
     "traceback": [
      "\u001b[1;31m---------------------------------------------------------------------------\u001b[0m",
      "\u001b[1;31mFileNotFoundError\u001b[0m                         Traceback (most recent call last)",
      "Input \u001b[1;32mIn [2]\u001b[0m, in \u001b[0;36m<cell line: 4>\u001b[1;34m()\u001b[0m\n\u001b[0;32m      1\u001b[0m prob_encoding \u001b[38;5;241m=\u001b[39m (\u001b[38;5;241m10\u001b[39m, \u001b[38;5;241m15\u001b[39m, \u001b[38;5;241m1\u001b[39m, \u001b[38;5;241m3\u001b[39m, \u001b[38;5;241m0\u001b[39m)\n\u001b[0;32m      2\u001b[0m prob_name \u001b[38;5;241m=\u001b[39m \u001b[38;5;28mstr\u001b[39m(prob_encoding)\n\u001b[0;32m      3\u001b[0m setinfosympy, objective, _, _, symb_str_mapping \u001b[38;5;241m=\u001b[39m (\n\u001b[1;32m----> 4\u001b[0m     \u001b[43mload_multiple_files\u001b[49m\u001b[43m(\u001b[49m\u001b[43m[\u001b[49m\u001b[43mprob_name\u001b[49m\u001b[43m]\u001b[49m\u001b[43m,\u001b[49m\u001b[43m \u001b[49m\u001b[38;5;124;43m'\u001b[39;49m\u001b[38;5;124;43mpolyproblems_v2_med\u001b[39;49m\u001b[38;5;124;43m'\u001b[39;49m\u001b[43m)\u001b[49m)\n\u001b[0;32m      5\u001b[0m setinfosympy \u001b[38;5;241m=\u001b[39m setinfosympy[prob_name]\n",
      "File \u001b[1;32mc:\\Users\\johan\\github\\minimdo\\minimdo\\src\\v4\\torchdata.py:69\u001b[0m, in \u001b[0;36mload_multiple_files\u001b[1;34m(prob_names, file_name)\u001b[0m\n\u001b[0;32m     67\u001b[0m inequality_constraints_sympy \u001b[38;5;241m=\u001b[39m []\n\u001b[0;32m     68\u001b[0m \u001b[38;5;28;01mif\u001b[39;00m file_name \u001b[38;5;129;01mis\u001b[39;00m \u001b[38;5;129;01mnot\u001b[39;00m \u001b[38;5;28;01mNone\u001b[39;00m:\n\u001b[1;32m---> 69\u001b[0m     all_data \u001b[38;5;241m=\u001b[39m \u001b[43mload_file\u001b[49m\u001b[43m(\u001b[49m\u001b[43mfile_name\u001b[49m\u001b[43m,\u001b[49m\u001b[43m \u001b[49m\u001b[43mpath_to_file\u001b[49m\u001b[38;5;241;43m=\u001b[39;49m\u001b[38;5;124;43m'\u001b[39;49m\u001b[38;5;124;43m../../../applications/data/\u001b[39;49m\u001b[38;5;124;43m'\u001b[39;49m\u001b[43m)\u001b[49m\n\u001b[0;32m     70\u001b[0m \u001b[38;5;28;01mfor\u001b[39;00m prob_name \u001b[38;5;129;01min\u001b[39;00m prob_names:\n\u001b[0;32m     71\u001b[0m     data \u001b[38;5;241m=\u001b[39m all_data[prob_name] \u001b[38;5;28;01mif\u001b[39;00m file_name \u001b[38;5;129;01mis\u001b[39;00m \u001b[38;5;129;01mnot\u001b[39;00m \u001b[38;5;28;01mNone\u001b[39;00m \u001b[38;5;28;01melse\u001b[39;00m load_file(file_name)\n",
      "File \u001b[1;32mc:\\Users\\johan\\github\\minimdo\\minimdo\\src\\v4\\torchdata.py:26\u001b[0m, in \u001b[0;36mload_file\u001b[1;34m(file_name, path_to_file)\u001b[0m\n\u001b[0;32m     24\u001b[0m file_path \u001b[38;5;241m=\u001b[39m \u001b[38;5;124mf\u001b[39m\u001b[38;5;124m'\u001b[39m\u001b[38;5;132;01m{\u001b[39;00mpath_to_file\u001b[38;5;132;01m}\u001b[39;00m\u001b[38;5;132;01m{\u001b[39;00mfile_name\u001b[38;5;132;01m}\u001b[39;00m\u001b[38;5;124m.json\u001b[39m\u001b[38;5;124m'\u001b[39m\n\u001b[0;32m     25\u001b[0m os\u001b[38;5;241m.\u001b[39mpath\u001b[38;5;241m.\u001b[39misfile(file_path)\n\u001b[1;32m---> 26\u001b[0m \u001b[38;5;28;01mwith\u001b[39;00m \u001b[38;5;28;43mopen\u001b[39;49m\u001b[43m(\u001b[49m\u001b[43mfile_path\u001b[49m\u001b[43m,\u001b[49m\u001b[43m \u001b[49m\u001b[38;5;124;43m'\u001b[39;49m\u001b[38;5;124;43mr\u001b[39;49m\u001b[38;5;124;43m'\u001b[39;49m\u001b[43m)\u001b[49m \u001b[38;5;28;01mas\u001b[39;00m file:\n\u001b[0;32m     27\u001b[0m     json_str \u001b[38;5;241m=\u001b[39m file\u001b[38;5;241m.\u001b[39mread()\n\u001b[0;32m     28\u001b[0m data \u001b[38;5;241m=\u001b[39m json\u001b[38;5;241m.\u001b[39mloads(json_str)\n",
      "\u001b[1;31mFileNotFoundError\u001b[0m: [Errno 2] No such file or directory: '../../../applications/data/polyproblems_v2_med.json'"
     ]
    }
   ],
   "source": [
    "prob_encoding = (10, 15, 1, 3, 0)\n",
    "prob_name = str(prob_encoding)\n",
    "setinfosympy, objective, _, _, symb_str_mapping = (\n",
    "    load_multiple_files([prob_name], 'polyproblems_v2_med'))\n",
    "setinfosympy = setinfosympy[prob_name]"
   ]
  },
  {
   "cell_type": "code",
   "execution_count": null,
   "metadata": {},
   "outputs": [],
   "source": [
    "import re\n",
    "def extract_number(string):\n",
    "    return int(re.search(r'\\d+', string).group())\n",
    "\n",
    "# maps x_10 to 10 to simplify our lives a bit\n",
    "idxrev = {extract_number(str(elt)): elt for elt in \n",
    "            symb_str_mapping.values()}\n",
    "indices = {elt: torch.tensor([i]) for i, elt in \n",
    "            idxrev.items()}"
   ]
  },
  {
   "cell_type": "code",
   "execution_count": null,
   "metadata": {},
   "outputs": [],
   "source": [
    "sets = {idx:AnalyticalSetSympy(residual, indices=indices).reassign(outputvar, rational=True) \n",
    "        for idx,(_,outputvar,residual) in enumerate(setinfosympy)\n",
    "        }\n",
    "objective = FunctionSympy(objective, indices=indices)"
   ]
  },
  {
   "cell_type": "code",
   "execution_count": null,
   "metadata": {},
   "outputs": [
    {
     "data": {
      "text/plain": [
       "{(-3*x_1 + 5*x_9)/(2*x_6),\n",
       " (12*x_3 - 7*x_7)/(5*x_5),\n",
       " 1,\n",
       " 1/(x_10*x_5),\n",
       " 1/x_11,\n",
       " x_10/(x_11*x_3),\n",
       " x_2*x_8/x_1,\n",
       " x_4/(x_11*x_12),\n",
       " x_6/x_10,\n",
       " x_8/(x_6*x_7)}"
      ]
     },
     "execution_count": 15,
     "metadata": {},
     "output_type": "execute_result"
    }
   ],
   "source": [
    "{s.expression for s in sets.values()}"
   ]
  },
  {
   "cell_type": "code",
   "execution_count": 16,
   "metadata": {},
   "outputs": [],
   "source": [
    "x0 = torch.rand(15, dtype=torch.float64)"
   ]
  },
  {
   "cell_type": "code",
   "execution_count": 17,
   "metadata": {},
   "outputs": [
    {
     "name": "stdout",
     "output_type": "stream",
     "text": [
      "x_1   x_10  x_11  x_2   x_6   x_12  x_9   x_0   x_7   x_8   x_3   x_4   x_5   x_14  x_13 \n",
      "0.187 0.273 0.073 0.489 0.839 0.146 0.263 0.011 0.725 0.824 0.226 0.477 0.534 0.378 0.766\n"
     ]
    }
   ],
   "source": [
    "print_formatted_table([x0], indices, idxrev)"
   ]
  },
  {
   "cell_type": "code",
   "execution_count": 18,
   "metadata": {},
   "outputs": [],
   "source": [
    "edges = (dict(),dict(),dict())\n",
    "for idx,set in sets.items():\n",
    "    inputs, outputs = set.analysis.structure\n",
    "    edges[0][idx] = tuple(inputs.tolist())\n",
    "    edges[1][idx] = tuple(outputs.tolist())"
   ]
  },
  {
   "cell_type": "code",
   "execution_count": 105,
   "metadata": {},
   "outputs": [],
   "source": [
    "from graph.graphutils import flat_graph_formulation\n",
    "from graph.operators import sort_scc\n",
    "from collections import OrderedDict\n",
    "from graph.matrixview import render_incidence\n",
    "G = flat_graph_formulation(*edges)\n",
    "order = list(sort_scc(G, outputname=True))\n",
    "edges_out = edges[1]"
   ]
  },
  {
   "cell_type": "code",
   "execution_count": 92,
   "metadata": {},
   "outputs": [
    {
     "data": {
      "text/plain": [
       "[{3}, {4}, {5}, {6}, {1}, {7}, {2}, {8}, {0, 9}]"
      ]
     },
     "execution_count": 92,
     "metadata": {},
     "output_type": "execute_result"
    }
   ],
   "source": [
    "order"
   ]
  },
  {
   "cell_type": "code",
   "execution_count": 21,
   "metadata": {},
   "outputs": [],
   "source": [
    "import sympy as sp\n",
    "from sympy import Eq, solve"
   ]
  },
  {
   "cell_type": "code",
   "execution_count": 22,
   "metadata": {},
   "outputs": [],
   "source": [
    "sols = []\n",
    "for elt in order:\n",
    "    if len(elt)>1:\n",
    "        eqs = [Eq(sets[idx].residualexpr,0) for idx in elt]\n",
    "        solvevars = [sets[idx].outputvar for idx in elt]\n",
    "        sol = solve(eqs, solvevars, domain=sp.S.Reals)\n",
    "        sols.append((sol, eqs, solvevars))"
   ]
  },
  {
   "cell_type": "code",
   "execution_count": 24,
   "metadata": {},
   "outputs": [
    {
     "data": {
      "text/plain": [
       "[[[(-0.5*(1.5*x_1 - 0.5*sqrt(x_11*(9.0*x_1**2*x_11 + 40.0*x_4*x_6))/x_11)/x_6,\n",
       "    0.3*x_1 + 0.1*sqrt(x_11*(9.0*x_1**2*x_11 + 40.0*x_4*x_6))/x_11),\n",
       "   (-0.5*(1.5*x_1 + 0.5*sqrt(x_11*(9.0*x_1**2*x_11 + 40.0*x_4*x_6))/x_11)/x_6,\n",
       "    0.3*x_1 - 0.1*sqrt(x_11*(9.0*x_1**2*x_11 + 40.0*x_4*x_6))/x_11)],\n",
       "  [Eq(0.6*x_1 + 0.4*x_12*x_6 - 1.0*x_9, 0),\n",
       "   Eq(-0.4*x_11*x_12*x_9 + 0.4*x_4, 0)],\n",
       "  [x_12, x_9]]]"
      ]
     },
     "execution_count": 24,
     "metadata": {},
     "output_type": "execute_result"
    }
   ],
   "source": [
    "[[elt for elt in sol] for sol in sols]"
   ]
  },
  {
   "cell_type": "code",
   "execution_count": 25,
   "metadata": {},
   "outputs": [],
   "source": [
    "# [[elt.subs({s:sp.Symbol(s.name, real=True) for s in indices.keys()}) for elt in sol[0][0]] for sol in sols]"
   ]
  },
  {
   "cell_type": "code",
   "execution_count": 87,
   "metadata": {},
   "outputs": [],
   "source": [
    "from graph.graphutils import all_edges, all_variables\n",
    "from graph.operators import invert_edges, eqv_to_edges_tree\n",
    "from presolver.tearing import dir_graph, min_arc_set_assign "
   ]
  },
  {
   "cell_type": "code",
   "execution_count": 85,
   "metadata": {},
   "outputs": [],
   "source": [
    "edges_for_solving = invert_edges(edges[0], edges[1])\n",
    "eqnidxs = list(edges[0].keys())\n",
    "edges_idxforopt,_,_ = eqv_to_edges_tree(edges_for_solving[0], n_eqs=-len(eqnidxs)) #hack\n",
    "varidxs = all_variables(*edges_idxforopt[:2])\n",
    "edges_left_right = all_edges(*edges_idxforopt[:2])"
   ]
  },
  {
   "cell_type": "code",
   "execution_count": 97,
   "metadata": {},
   "outputs": [],
   "source": [
    "xsol,_ = min_arc_set_assign(edges_left_right, varidxs, eqnidxs, [], [])\n",
    "outset_opt = {right:left for left, right in edges_left_right \n",
    "            if (left,right) in edges_left_right and xsol[left, right] > 0.5}"
   ]
  },
  {
   "cell_type": "code",
   "execution_count": 106,
   "metadata": {},
   "outputs": [
    {
     "data": {
      "image/png": "[encoded data removed]",
      "text/plain": [
       "<Figure size 400x400 with 1 Axes>"
      ]
     },
     "metadata": {},
     "output_type": "display_data"
    }
   ],
   "source": [
    "edgesopt, _, _ = eqv_to_edges_tree(edges_idxforopt[0], output_set=outset_opt)\n",
    "Gopt = flat_graph_formulation(*edgesopt)\n",
    "orderopt = sort_scc(Gopt, outputname=True)\n",
    "treeopt = (OrderedDict([(elt,1) for scc in orderopt for elt in scc]),{},{})\n",
    "render_incidence(edgesopt, treeopt, rotation=0, hideticks=True, dispendcomp=True, figsize=((4,4)), fontsize=10);"
   ]
  },
  {
   "cell_type": "markdown",
   "metadata": {},
   "source": [
    "## Architectures"
   ]
  },
  {
   "cell_type": "code",
   "execution_count": 26,
   "metadata": {},
   "outputs": [],
   "source": [
    "from torchengine import EliminateAnalysisMergeResiduals, ElimResidual, EliminateAnalysis, ParallelAnalysis\n",
    "from torchdata import generate_optim_functions"
   ]
  },
  {
   "cell_type": "markdown",
   "metadata": {},
   "source": [
    "### 1) AAO"
   ]
  },
  {
   "cell_type": "code",
   "execution_count": 27,
   "metadata": {},
   "outputs": [],
   "source": [
    "eq = EliminateAnalysisMergeResiduals([], [s.residual for s in sets.values()])\n",
    "dummy_function = Function(((), lambda : torch.tensor([])), indices)\n",
    "ineq = res = dummy_function\n",
    "optim_funcs_AAO = EliminateAnalysis([], [objective, ineq, eq, res])"
   ]
  },
  {
   "cell_type": "code",
   "execution_count": 28,
   "metadata": {},
   "outputs": [],
   "source": [
    "solvefor_indices = optim_funcs_AAO.structure[0]\n",
    "torch.manual_seed(43)\n",
    "all_indices = torch.cat(list(indices.values()))\n",
    "x0 = torch.rand_like(all_indices, dtype=torch.float64)\n",
    "x0.requires_grad_(True)\n",
    "optim_data = generate_optim_functions(optim_funcs_AAO, solvefor_indices, \n",
    "                         x0, inequality_direction='negative-null')\n",
    "xguess, obj_function, _, eq_function, dobj, _, deq = optim_data\n",
    "constraints = [{'type': 'eq', 'fun': eq_function, 'jac': deq}]"
   ]
  },
  {
   "cell_type": "code",
   "execution_count": 29,
   "metadata": {},
   "outputs": [],
   "source": [
    "# eps = 10e-6\n",
    "# (eq_function(xguess + eps*np.eye(15)[1])-eq_function(xguess))/eps"
   ]
  },
  {
   "cell_type": "code",
   "execution_count": 30,
   "metadata": {},
   "outputs": [
    {
     "data": {
      "text/plain": [
       " message: Optimization terminated successfully\n",
       " success: True\n",
       "  status: 0\n",
       "     fun: 5.348424700615461e-08\n",
       "       x: [ 9.999e-01  9.998e-01 ...  1.000e+00  9.997e-01]\n",
       "     nit: 27\n",
       "     jac: [-4.409e-04 -1.058e-03 ...  0.000e+00  0.000e+00]\n",
       "    nfev: 33\n",
       "    njev: 27"
      ]
     },
     "execution_count": 30,
     "metadata": {},
     "output_type": "execute_result"
    }
   ],
   "source": [
    "minimize(obj_function, xguess, jac=dobj, constraints=constraints, \n",
    "         method='SLSQP', options={'maxiter':1000})"
   ]
  },
  {
   "cell_type": "code",
   "execution_count": 31,
   "metadata": {},
   "outputs": [
    {
     "name": "stdout",
     "output_type": "stream",
     "text": [
      "x_1 x_10 x_11 x_2 x_6 x_12 x_9 x_0 x_7 x_8 x_3 x_4 x_5 x_14 x_13\n",
      "1   1    1    1   1   1    1   1   1   1   1   1   1   1    1   \n"
     ]
    }
   ],
   "source": [
    "print_formatted_table([x0], indices, idxrev)"
   ]
  },
  {
   "cell_type": "code",
   "execution_count": 32,
   "metadata": {},
   "outputs": [],
   "source": [
    "n = len(solvefor_indices)\n",
    "m = len(sets)"
   ]
  },
  {
   "cell_type": "code",
   "execution_count": 33,
   "metadata": {},
   "outputs": [],
   "source": [
    "from collections import namedtuple\n",
    "import cyipopt\n",
    "OptProblem = namedtuple('OptProblem', ['objective', 'constraints', 'gradient', 'jacobian', 'intermediate'])\n",
    "\n",
    "lb,ub = -np.inf*np.ones(n), np.inf*np.ones(n)\n",
    "cl,cu = np.zeros(m), np.zeros(m)\n",
    "\n",
    "storeiter = [0]\n",
    "\n",
    "def logiter(alg_mod, iter_count, obj_value, inf_pr, inf_du, mu, d_norm, regularization_size, alpha_du, alpha_pr, ls_trials):\n",
    "    storeiter[0] = iter_count\n",
    "\n",
    "# define the problem\n",
    "probinfo = OptProblem(obj_function, eq_function, dobj, deq, logiter)\n",
    "\n",
    "prob = cyipopt.Problem(n=len(xguess), m=len(cu), lb=lb, ub=ub, cl=cl, cu=cu, \n",
    "                       problem_obj=probinfo)\n",
    "# prob.add_option('mu_strategy', 'adaptive')\n",
    "prob.add_option('tol', 1e-7)"
   ]
  },
  {
   "cell_type": "code",
   "execution_count": 35,
   "metadata": {},
   "outputs": [],
   "source": [
    "# prob.solve(xguess)"
   ]
  },
  {
   "cell_type": "code",
   "execution_count": 36,
   "metadata": {},
   "outputs": [
    {
     "data": {
      "text/plain": [
       "2454"
      ]
     },
     "execution_count": 36,
     "metadata": {},
     "output_type": "execute_result"
    }
   ],
   "source": [
    "storeiter[0]"
   ]
  },
  {
   "cell_type": "markdown",
   "metadata": {},
   "source": [
    "### 1b) Reduced AAO"
   ]
  },
  {
   "cell_type": "code",
   "execution_count": 137,
   "metadata": {},
   "outputs": [],
   "source": [
    "equations = []\n",
    "elimination = []\n",
    "coupling_residuals = []\n",
    "edges_out = edges[1]\n",
    "edges_out = edgesopt[1]\n",
    "useorder = orderopt\n",
    "for elt in useorder:\n",
    "    if len(elt) > 1: \n",
    "        groupsets = [sets[eqid] for eqid in elt]\n",
    "        residuals = [s.residual for s in groupsets]\n",
    "        equations += residuals\n",
    "    else:\n",
    "        eqid = next(iter(elt))\n",
    "        aset = sets[eqid].reassign(idxrev[edges_out[eqid][0]], rational=True)\n",
    "        if edges_out[eqid] == ():\n",
    "            equations.append(aset.residual)\n",
    "        else:\n",
    "            elimination.append(aset.analysis)  "
   ]
  },
  {
   "cell_type": "code",
   "execution_count": 146,
   "metadata": {},
   "outputs": [],
   "source": [
    "res = EliminateAnalysisMergeResiduals([], equations) if equations else dummy_function\n",
    "dummy_function = Function(((), lambda : torch.tensor([])), indices)\n",
    "optim_funcs_AAO_reduced = EliminateAnalysis(elimination, [objective, dummy_function, \n",
    "                                                          dummy_function, res])"
   ]
  },
  {
   "cell_type": "code",
   "execution_count": 147,
   "metadata": {},
   "outputs": [],
   "source": [
    "solvefor_indices = optim_funcs_AAO_reduced.structure[0]\n",
    "torch.manual_seed(43)\n",
    "all_indices = torch.cat(list(indices.values()))\n",
    "#x0 = 0.7*torch.ones_like(all_indices, dtype=torch.float64)\n",
    "x0 = torch.rand_like(all_indices, dtype=torch.float64)\n",
    "x0.requires_grad_(True)\n",
    "optim_data = generate_optim_functions(optim_funcs_AAO_reduced, solvefor_indices, \n",
    "                         x0)\n",
    "xguess, obj_function, _, eq_function, dobj, _, deq = optim_data\n",
    "constraints = [{'type': 'eq', 'fun': eq_function, 'jac': deq}] if equations else None"
   ]
  },
  {
   "cell_type": "code",
   "execution_count": 148,
   "metadata": {},
   "outputs": [
    {
     "data": {
      "text/plain": [
       "{8: [],\n",
       " 11: [12, 4, 9],\n",
       " 7: [12, 4, 9],\n",
       " 3: [4, 5, 12, 9],\n",
       " 10: [4, 5, 12, 9],\n",
       " 6: [4, 5, 12, 9],\n",
       " 13: [4, 5, 12, 9],\n",
       " 1: [12, 4, 5, 9],\n",
       " 0: [4, 5, 12, 9],\n",
       " 2: [12, 4, 5, 9, 14]}"
      ]
     },
     "execution_count": 148,
     "metadata": {},
     "output_type": "execute_result"
    }
   ],
   "source": [
    "EliminateAnalysis(elimination).structure_full"
   ]
  },
  {
   "cell_type": "code",
   "execution_count": 156,
   "metadata": {},
   "outputs": [
    {
     "data": {
      "text/plain": [
       "647.3764532370052"
      ]
     },
     "execution_count": 156,
     "metadata": {},
     "output_type": "execute_result"
    }
   ],
   "source": [
    "obj_function(xguess)"
   ]
  },
  {
   "cell_type": "code",
   "execution_count": 155,
   "metadata": {},
   "outputs": [
    {
     "data": {
      "text/plain": [
       " message: Optimization terminated successfully\n",
       " success: True\n",
       "  status: 0\n",
       "     fun: 1.6140543002281458\n",
       "       x: [ 2.134e+01  4.164e+01  2.104e-01  2.004e+00 -1.366e+02]\n",
       "     nit: 135\n",
       "     jac: [-3.143e-02  1.518e-02  2.628e+00  5.186e-01  1.207e-04]\n",
       "    nfev: 230\n",
       "    njev: 135"
      ]
     },
     "execution_count": 155,
     "metadata": {},
     "output_type": "execute_result"
    }
   ],
   "source": [
    "minimize(obj_function, xguess, jac=dobj, constraints=constraints, \n",
    "         method='SLSQP', options={'maxiter':1000})"
   ]
  },
  {
   "cell_type": "code",
   "execution_count": 158,
   "metadata": {},
   "outputs": [
    {
     "data": {
      "text/plain": [
       "(array([1, 1, 1, 1, 1]),\n",
       " {'x': array([1, 1, 1, 1, 1]),\n",
       "  'g': array([], dtype=float64),\n",
       "  'obj_val': 5.633725109689704e-12,\n",
       "  'mult_g': array([], dtype=float64),\n",
       "  'mult_x_L': array([0, 0, 0, 0, 0]),\n",
       "  'mult_x_U': array([0, 0, 0, 0, 0]),\n",
       "  'status': 0,\n",
       "  'status_msg': b'Algorithm terminated successfully at a locally optimal point, satisfying the convergence tolerances (can be specified by options).'})"
      ]
     },
     "execution_count": 158,
     "metadata": {},
     "output_type": "execute_result"
    }
   ],
   "source": [
    "from collections import namedtuple\n",
    "import cyipopt\n",
    "OptProblem = namedtuple('OptProblem', ['objective', 'constraints', 'gradient', 'jacobian', 'intermediate'])\n",
    "\n",
    "n = len(solvefor_indices)\n",
    "m = len(eq_function(xguess))\n",
    "lb,ub = -np.inf*np.ones(n), np.inf*np.ones(n)\n",
    "cl,cu = np.zeros(m), np.zeros(m)\n",
    "\n",
    "storeiter = [0]\n",
    "\n",
    "def logiter(alg_mod, iter_count, obj_value, inf_pr, inf_du, mu, d_norm, regularization_size, alpha_du, alpha_pr, ls_trials):\n",
    "    storeiter[0] = iter_count\n",
    "\n",
    "# define the problem\n",
    "probinfo = OptProblem(obj_function, eq_function, dobj, deq, logiter)\n",
    "\n",
    "prob = cyipopt.Problem(n=len(xguess), m=len(cu), lb=lb, ub=ub, cl=cl, cu=cu, \n",
    "                       problem_obj=probinfo)\n",
    "# prob.add_option('mu_strategy', 'adaptive')\n",
    "prob.add_option('tol', 1e-7)\n",
    "prob.solve(xguess)"
   ]
  },
  {
   "cell_type": "code",
   "execution_count": 159,
   "metadata": {},
   "outputs": [
    {
     "name": "stdout",
     "output_type": "stream",
     "text": [
      "86\n"
     ]
    }
   ],
   "source": [
    "print(storeiter[0])"
   ]
  },
  {
   "cell_type": "markdown",
   "metadata": {},
   "source": [
    "### 2) Reduced MDF with residuals"
   ]
  },
  {
   "cell_type": "code",
   "execution_count": 160,
   "metadata": {},
   "outputs": [],
   "source": [
    "from collections import OrderedDict\n",
    "from graph.matrixview import render_incidence"
   ]
  },
  {
   "cell_type": "code",
   "execution_count": 161,
   "metadata": {},
   "outputs": [
    {
     "data": {
      "image/png": "[encoded data removed]",
      "text/plain": [
       "<Figure size 400x400 with 1 Axes>"
      ]
     },
     "metadata": {},
     "output_type": "display_data"
    }
   ],
   "source": [
    "tree = (OrderedDict([(elt,1) for scc in order for elt in scc]),{},{})\n",
    "render_incidence(edges, tree, rotation=0, hideticks=True, dispendcomp=True, figsize=((4,4)), fontsize=10);"
   ]
  },
  {
   "cell_type": "code",
   "execution_count": 162,
   "metadata": {},
   "outputs": [],
   "source": [
    "equations = []\n",
    "elimination = []\n",
    "coupling_residuals = []\n",
    "edges_out = edges[1]\n",
    "edges_out = edgesopt[1]\n",
    "useorder = orderopt\n",
    "for elt in useorder:\n",
    "    if len(elt) > 1: # solve group\n",
    "        groupsets = [sets[eqid] for eqid in elt]\n",
    "        residuals = [s.residual for s in groupsets]\n",
    "        coupled = EliminateAnalysisMergeResiduals([], residuals)\n",
    "        coupling_residuals.append(coupled)\n",
    "        coupledvars = [s.outputvar for s in groupsets]\n",
    "        solver = ElimResidual(coupled, coupledvars, indices) #indices\n",
    "        elimination.append(solver)\n",
    "        # alterantively we could add them to elimination\n",
    "    else:\n",
    "        eqid = next(iter(elt))\n",
    "        aset = sets[eqid].reassign(idxrev[edges_out[eqid][0]], rational=True)\n",
    "        if edges_out[eqid] == ():\n",
    "            equations.append(aset.residual)\n",
    "        else:\n",
    "            elimination.append(aset.analysis)  "
   ]
  },
  {
   "cell_type": "code",
   "execution_count": 163,
   "metadata": {},
   "outputs": [],
   "source": [
    "x0 = torch.rand_like(all_indices, dtype=torch.float64)"
   ]
  },
  {
   "cell_type": "code",
   "execution_count": 164,
   "metadata": {},
   "outputs": [],
   "source": [
    "idx=2\n",
    "elimination[idx](x0);"
   ]
  },
  {
   "cell_type": "code",
   "execution_count": 165,
   "metadata": {},
   "outputs": [
    {
     "data": {
      "text/plain": [
       "(tensor([11]), tensor([7]))"
      ]
     },
     "execution_count": 165,
     "metadata": {},
     "output_type": "execute_result"
    }
   ],
   "source": [
    "elimination[idx].structure"
   ]
  },
  {
   "cell_type": "code",
   "execution_count": 166,
   "metadata": {},
   "outputs": [
    {
     "data": {
      "text/plain": [
       "tensor([0., 1., 0., 0., 0., 0., 0., 0., 0., 0., 0., 0., 0., 0., 0.])"
      ]
     },
     "execution_count": 166,
     "metadata": {},
     "output_type": "execute_result"
    }
   ],
   "source": [
    "x0.requires_grad_(True)\n",
    "torch.autograd.functional.jacobian(elimination[idx], torch.ones(15))[:,1]"
   ]
  },
  {
   "cell_type": "code",
   "execution_count": 167,
   "metadata": {},
   "outputs": [
    {
     "data": {
      "text/plain": [
       "tensor([0.0000, 1.0000, 0.0000, 0.0000, 0.0000, 0.0000, 0.0000, 0.0000, 0.0000,\n",
       "        0.0000, 0.0000, 0.0000, 0.0000, 0.0000, 0.0000])"
      ]
     },
     "execution_count": 167,
     "metadata": {},
     "output_type": "execute_result"
    }
   ],
   "source": [
    "eps = 10e-3\n",
    "(elimination[idx](torch.ones(15) + eps*torch.eye(15)[1])-elimination[idx](torch.ones(15)))/eps"
   ]
  },
  {
   "cell_type": "code",
   "execution_count": 168,
   "metadata": {},
   "outputs": [
    {
     "name": "stdout",
     "output_type": "stream",
     "text": [
      "(tensor([11]), tensor([7]))\n"
     ]
    }
   ],
   "source": [
    "idx = 2\n",
    "print(elimination[idx].structure)\n",
    "# print_formatted_table([x0, elimination[idx](x0)], indices, idxrev)"
   ]
  },
  {
   "cell_type": "code",
   "execution_count": 169,
   "metadata": {},
   "outputs": [
    {
     "name": "stdout",
     "output_type": "stream",
     "text": [
      "x_1   x_10  x_11 x_2   x_6   x_12  x_9   x_0   x_7   x_8   x_3      x_4   x_5   x_14 x_13 \n",
      "0.418 0.596 0.96 0.366 0.561 0.258 0.913 0.667 0.252 0.792 5.21e-03 0.924 0.627 0.2  0.311\n"
     ]
    }
   ],
   "source": [
    "print_formatted_table([x0], indices, idxrev)"
   ]
  },
  {
   "cell_type": "code",
   "execution_count": 170,
   "metadata": {},
   "outputs": [],
   "source": [
    "elimination[idx](x0);"
   ]
  },
  {
   "cell_type": "code",
   "execution_count": 171,
   "metadata": {},
   "outputs": [
    {
     "name": "stdout",
     "output_type": "stream",
     "text": [
      "x_1   x_10  x_11 x_2   x_6   x_12  x_9   x_0   x_7   x_8   x_3      x_4   x_5   x_14 x_13 \n",
      "0.418 0.596 0.96 0.366 0.561 0.258 0.913 0.667 0.252 0.792 5.21e-03 0.924 0.627 0.2  0.311\n"
     ]
    }
   ],
   "source": [
    "print_formatted_table([x0], indices, idxrev)"
   ]
  },
  {
   "cell_type": "code",
   "execution_count": 172,
   "metadata": {},
   "outputs": [],
   "source": [
    "MDAreduced = EliminateAnalysis(elimination, [])"
   ]
  },
  {
   "cell_type": "code",
   "execution_count": 173,
   "metadata": {},
   "outputs": [],
   "source": [
    "optim_funcs_reduced_MDF = EliminateAnalysis(elimination, [objective, dummy_function, dummy_function, dummy_function])"
   ]
  },
  {
   "cell_type": "code",
   "execution_count": 174,
   "metadata": {},
   "outputs": [],
   "source": [
    "x0 = torch.rand_like(all_indices, dtype=torch.float64)"
   ]
  },
  {
   "cell_type": "code",
   "execution_count": 175,
   "metadata": {},
   "outputs": [
    {
     "data": {
      "text/plain": [
       "tensor([0.7639, 0.2393, 0.1802, 0.6008, 0.3621, 0.9413, 1.6643, 0.7866, 1.0000,\n",
       "        0.5131, 1.7681, 1.2713, 0.5551, 2.3146, 0.7533], dtype=torch.float64)"
      ]
     },
     "execution_count": 175,
     "metadata": {},
     "output_type": "execute_result"
    }
   ],
   "source": [
    "MDAreduced(x0)"
   ]
  },
  {
   "cell_type": "code",
   "execution_count": 176,
   "metadata": {},
   "outputs": [],
   "source": [
    "solvefor_indices = optim_funcs_reduced_MDF.structure[0]\n",
    "torch.manual_seed(43)\n",
    "all_indices = torch.cat(list(indices.values()))\n",
    "x0 = torch.rand_like(all_indices, dtype=torch.float64)\n",
    "x0.requires_grad_(True)\n",
    "optim_data = generate_optim_functions(optim_funcs_reduced_MDF, solvefor_indices, x0)\n",
    "xguess, obj_function, _, _, dobj, _, _ = optim_data"
   ]
  },
  {
   "cell_type": "code",
   "execution_count": 177,
   "metadata": {},
   "outputs": [
    {
     "data": {
      "text/plain": [
       " message: Optimization terminated successfully\n",
       " success: True\n",
       "  status: 0\n",
       "     fun: 1.6140543002281458\n",
       "       x: [ 2.134e+01  4.164e+01  2.104e-01  2.004e+00 -1.366e+02]\n",
       "     nit: 135\n",
       "     jac: [-3.143e-02  1.518e-02  2.628e+00  5.186e-01  1.207e-04]\n",
       "    nfev: 230\n",
       "    njev: 135"
      ]
     },
     "execution_count": 177,
     "metadata": {},
     "output_type": "execute_result"
    }
   ],
   "source": [
    "minimize(obj_function, xguess, jac=dobj, \n",
    "         method='SLSQP', options={'maxiter':1000})"
   ]
  },
  {
   "cell_type": "code",
   "execution_count": 178,
   "metadata": {},
   "outputs": [
    {
     "name": "stdout",
     "output_type": "stream",
     "text": [
      "x_1       x_10  x_11  x_2   x_6   x_12   x_9   x_0   x_7   x_8  x_3   x_4    x_5  x_14     x_13\n",
      "0.368     0.858 0.592 0.185 0.153 21.337 2.004 0.632 0.3   0.42 0.728 41.636 0.21 -136.564 0.5 \n",
      "-7.26e-03 1.118 0.974 0.992 0.235 21.337 2.004 4.138 1.027 1    4.25  41.636 0.21 -136.564 0.27\n"
     ]
    }
   ],
   "source": [
    "print_formatted_table([x0, MDAreduced(x0)], indices, idxrev)"
   ]
  },
  {
   "cell_type": "markdown",
   "metadata": {},
   "source": [
    "### 3) Strict MDF"
   ]
  },
  {
   "cell_type": "code",
   "execution_count": 179,
   "metadata": {},
   "outputs": [],
   "source": [
    "from torchengine import ipoptsolver\n",
    "from functools import partial\n",
    "all_analysis = {idx: s.analysis for idx, s in sets.items()}\n",
    "coupledvars = torch.cat([a.structure[1] for a in all_analysis.values()])\n",
    "residual_eqs = ParallelAnalysis(all_analysis.values(), [], \n",
    "                           sharedvars=coupledvars) #Jacobi/Newton\n",
    "\n",
    "#bnds = [(None, None) for _ in coupledvars]\n",
    "#ipsolver = partial(ipoptsolver, bnds_problem=bnds, debug=True)\n",
    "MDAsolver = ElimResidual(residual_eqs, coupledvars, \n",
    "                         indices, solvefor_raw=True)\n",
    "optim_funcs_strict_MDF = EliminateAnalysis([MDAsolver], [objective, dummy_function, dummy_function, dummy_function])"
   ]
  },
  {
   "cell_type": "code",
   "execution_count": 180,
   "metadata": {},
   "outputs": [],
   "source": [
    "optim_indices = optim_funcs_strict_MDF.structure[0]\n",
    "torch.manual_seed(43)\n",
    "all_indices = torch.cat(list(indices.values()))\n",
    "#0 = torch.rand_like(all_indices, dtype=torch.float64)\n",
    "x0 = 0.7*torch.ones_like(all_indices, dtype=torch.float64)\n",
    "x0.requires_grad_(True)\n",
    "optim_data = generate_optim_functions(optim_funcs_strict_MDF, optim_indices, x0)\n",
    "xguess, obj_function, _, _, dobj, _, _ = optim_data"
   ]
  },
  {
   "cell_type": "code",
   "execution_count": 181,
   "metadata": {},
   "outputs": [
    {
     "data": {
      "text/plain": [
       " message: Optimization terminated successfully\n",
       " success: True\n",
       "  status: 0\n",
       "     fun: 0.0\n",
       "       x: [ 1.000e+00  1.000e+00  1.000e+00  1.000e+00  1.000e+00]\n",
       "     nit: 2\n",
       "     jac: [ 0.000e+00  0.000e+00  0.000e+00  0.000e+00  0.000e+00]\n",
       "    nfev: 3\n",
       "    njev: 2"
      ]
     },
     "execution_count": 181,
     "metadata": {},
     "output_type": "execute_result"
    }
   ],
   "source": [
    "minimize(obj_function, xguess, jac=dobj, \n",
    "         method='SLSQP', options={'maxiter':1000})"
   ]
  },
  {
   "cell_type": "code",
   "execution_count": 182,
   "metadata": {},
   "outputs": [
    {
     "data": {
      "text/plain": [
       "tensor([1., 1., 1., 1., 1., 1., 1., 1., 1., 1., 1., 1., 1., 1., 1.],\n",
       "       dtype=torch.float64, grad_fn=<ElimResidualFuncBackward>)"
      ]
     },
     "execution_count": 182,
     "metadata": {},
     "output_type": "execute_result"
    }
   ],
   "source": [
    "MDAsolver(x0)"
   ]
  },
  {
   "cell_type": "code",
   "execution_count": 183,
   "metadata": {},
   "outputs": [
    {
     "name": "stdout",
     "output_type": "stream",
     "text": [
      "x_12   x_0    x_4    x_8    x_7    x_5    x_14   x_3    x_13   x_9   \n",
      "0.00e0 0.00e0 0.00e0 0.00e0 0.00e0 0.00e0 0.00e0 0.00e0 0.00e0 0.00e0\n"
     ]
    }
   ],
   "source": [
    "print_formatted_table([residual_eqs(x0)], \n",
    "                      {idxrev[k.structure[1][0].item()]:torch.tensor([idx]) for idx,k in enumerate(all_analysis.values())}, \n",
    "                      {idx:idxrev[k.structure[1][0].item()] for idx, k in enumerate(all_analysis.values())})"
   ]
  },
  {
   "cell_type": "markdown",
   "metadata": {},
   "source": [
    "### 4) Strict IDF"
   ]
  },
  {
   "cell_type": "code",
   "execution_count": 71,
   "metadata": {},
   "outputs": [],
   "source": [
    "all_analysis = {idx: s.analysis for idx, s in sets.items()}\n",
    "coupledvars = torch.cat([a.structure[1] for a in all_analysis.values()])\n",
    "optim_funcs_strict_IDF = ParallelAnalysis(all_analysis.values(), [objective, dummy_function, dummy_function], \n",
    "                           sharedvars=coupledvars) \n"
   ]
  },
  {
   "cell_type": "code",
   "execution_count": 72,
   "metadata": {},
   "outputs": [],
   "source": [
    "solvefor_indices = optim_funcs_strict_IDF.structure[0]\n",
    "torch.manual_seed(43)\n",
    "all_indices = torch.cat(list(indices.values()))\n",
    "x0 = 0.7*torch.ones_like(all_indices, dtype=torch.float64)\n",
    "x0.requires_grad_(True)\n",
    "optim_data = generate_optim_functions(optim_funcs_strict_IDF, solvefor_indices, \n",
    "                         x0)\n",
    "xguess, obj_function, _, eq_function, dobj, _, deq = optim_data\n",
    "constraints = [{'type': 'eq', 'fun': eq_function, 'jac': deq}]"
   ]
  },
  {
   "cell_type": "code",
   "execution_count": 73,
   "metadata": {},
   "outputs": [
    {
     "data": {
      "text/plain": [
       " message: Optimization terminated successfully\n",
       " success: True\n",
       "  status: 0\n",
       "     fun: 2.440984528205472e-09\n",
       "       x: [ 1.000e+00  1.000e+00 ...  9.999e-01  1.000e+00]\n",
       "     nit: 12\n",
       "     jac: [ 1.902e-05 -1.240e-04 ...  0.000e+00  0.000e+00]\n",
       "    nfev: 13\n",
       "    njev: 12"
      ]
     },
     "execution_count": 73,
     "metadata": {},
     "output_type": "execute_result"
    }
   ],
   "source": [
    "minimize(obj_function, xguess, jac=dobj, constraints=constraints,\n",
    "         method='SLSQP', options={'maxiter':1000})"
   ]
  }
 ],
 "metadata": {
  "kernelspec": {
   "display_name": "minimdo",
   "language": "python",
   "name": "python3"
  },
  "language_info": {
   "codemirror_mode": {
    "name": "ipython",
    "version": 3
   },
   "file_extension": ".py",
   "mimetype": "text/x-python",
   "name": "python",
   "nbconvert_exporter": "python",
   "pygments_lexer": "ipython3",
   "version": "3.9.18"
  }
 },
 "nbformat": 4,
 "nbformat_minor": 2
}
