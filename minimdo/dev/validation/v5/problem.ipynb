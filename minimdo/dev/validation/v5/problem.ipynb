{
 "cells": [
  {
   "cell_type": "code",
   "execution_count": 1,
   "metadata": {},
   "outputs": [],
   "source": [
    "from src.v5.problem import ConstraintSystem, symbolic"
   ]
  },
  {
   "cell_type": "markdown",
   "metadata": {},
   "source": [
    "### Demo 1"
   ]
  },
  {
   "cell_type": "code",
   "execution_count": 2,
   "metadata": {},
   "outputs": [],
   "source": [
    "x, y, z, a, b = symbolic(\"x\", \"y\", \"z\", \"a\", \"b\")\n",
    "\n",
    "system = ConstraintSystem()\n",
    "system.add(\n",
    "    x + y == a,\n",
    "    b == x*y,\n",
    "    x <= 5,\n",
    "    y >= 2)"
   ]
  },
  {
   "cell_type": "code",
   "execution_count": 3,
   "metadata": {},
   "outputs": [],
   "source": [
    "x0struct = system.stategen({'x':1, 'y': -1})"
   ]
  },
  {
   "cell_type": "code",
   "execution_count": 4,
   "metadata": {},
   "outputs": [],
   "source": [
    "AS = system.interpretation(elimination_order=[a.expr,b.expr])"
   ]
  },
  {
   "cell_type": "code",
   "execution_count": 5,
   "metadata": {},
   "outputs": [
    {
     "data": {
      "text/plain": [
       "tensor([-1.,  0.,  1., -1.], dtype=torch.float64)"
      ]
     },
     "execution_count": 5,
     "metadata": {},
     "output_type": "execute_result"
    }
   ],
   "source": [
    "AS.analysis(x0struct)"
   ]
  },
  {
   "cell_type": "code",
   "execution_count": 6,
   "metadata": {},
   "outputs": [],
   "source": [
    "system2 = ConstraintSystem()\n",
    "system2.add(\n",
    "    system,\n",
    "    a == b**2 + x,\n",
    "    z == x - y\n",
    "    )"
   ]
  },
  {
   "cell_type": "code",
   "execution_count": 11,
   "metadata": {},
   "outputs": [
    {
     "ename": "AttributeError",
     "evalue": "'SymbolicExpression' object has no attribute 'analysis'",
     "output_type": "error",
     "traceback": [
      "\u001b[1;31m---------------------------------------------------------------------------\u001b[0m",
      "\u001b[1;31mAttributeError\u001b[0m                            Traceback (most recent call last)",
      "Input \u001b[1;32mIn [11]\u001b[0m, in \u001b[0;36m<cell line: 1>\u001b[1;34m()\u001b[0m\n\u001b[0;32m      1\u001b[0m system2\u001b[38;5;241m.\u001b[39minterpretation(elimination_order\u001b[38;5;241m=\u001b[39m[a, \n\u001b[1;32m----> 2\u001b[0m                                    \u001b[43msystem\u001b[49m\u001b[38;5;241;43m.\u001b[39;49m\u001b[43minterpretation\u001b[49m\u001b[43m(\u001b[49m\u001b[43melimination_order\u001b[49m\u001b[38;5;241;43m=\u001b[39;49m\u001b[43m[\u001b[49m\u001b[43ma\u001b[49m\u001b[43m,\u001b[49m\u001b[43m \u001b[49m\u001b[43mb\u001b[49m\u001b[43m]\u001b[49m\u001b[43m,\u001b[49m\u001b[43m \u001b[49m\u001b[43mdefault_solver\u001b[49m\u001b[38;5;241;43m=\u001b[39;49m\u001b[38;5;124;43m'\u001b[39;49m\u001b[38;5;124;43mscipy.fsolve\u001b[39;49m\u001b[38;5;124;43m'\u001b[39;49m\u001b[43m)\u001b[49m], parallel_analysis\u001b[38;5;241m=\u001b[39m[z], residuals\u001b[38;5;241m=\u001b[39m[a])\n",
      "File \u001b[1;32mc:\\Users\\johan\\github\\minimdo\\minimdo\\src\\v5\\problem.py:238\u001b[0m, in \u001b[0;36mConstraintSystem.interpretation\u001b[1;34m(self, elimination_order, parallel_analysis, residuals, default_solver)\u001b[0m\n\u001b[0;32m    236\u001b[0m elimination_order \u001b[38;5;241m=\u001b[39m elimination_order \u001b[38;5;28;01mif\u001b[39;00m elimination_order \u001b[38;5;129;01mis\u001b[39;00m \u001b[38;5;129;01mnot\u001b[39;00m \u001b[38;5;28;01mNone\u001b[39;00m \u001b[38;5;28;01melse\u001b[39;00m []\n\u001b[0;32m    237\u001b[0m sets, _, _, indices \u001b[38;5;241m=\u001b[39m \u001b[38;5;28mself\u001b[39m\u001b[38;5;241m.\u001b[39mformulate()\n\u001b[1;32m--> 238\u001b[0m EA, solvevars \u001b[38;5;241m=\u001b[39m \u001b[43mgather_residuals\u001b[49m\u001b[43m(\u001b[49m\u001b[43msets\u001b[49m\u001b[43m,\u001b[49m\u001b[43m \u001b[49m\u001b[43mindices\u001b[49m\u001b[43m,\u001b[49m\u001b[43m \u001b[49m\u001b[43mparallel_analysis\u001b[49m\u001b[43m,\u001b[49m\u001b[43m \u001b[49m\u001b[43mresiduals\u001b[49m\u001b[43m,\u001b[49m\u001b[43m \u001b[49m\u001b[43melimination_order\u001b[49m\u001b[43m)\u001b[49m\n\u001b[0;32m    240\u001b[0m all_residuals \u001b[38;5;241m=\u001b[39m EliminateAnalysisMergeResiduals(functions\u001b[38;5;241m=\u001b[39m[st\u001b[38;5;241m.\u001b[39mresidual \u001b[38;5;28;01mfor\u001b[39;00m st \u001b[38;5;129;01min\u001b[39;00m sets\u001b[38;5;241m.\u001b[39mvalues()])\n\u001b[0;32m    241\u001b[0m \u001b[38;5;28;01mif\u001b[39;00m \u001b[38;5;28mlen\u001b[39m(solvevars) \u001b[38;5;241m>\u001b[39m \u001b[38;5;241m0\u001b[39m: \u001b[38;5;66;03m# in case this is not a feedforward model\u001b[39;00m\n",
      "File \u001b[1;32mc:\\Users\\johan\\github\\minimdo\\minimdo\\src\\v5\\problem.py:200\u001b[0m, in \u001b[0;36mgather_residuals\u001b[1;34m(sets, indices, parallel_analysis, residuals, elimination_order)\u001b[0m\n\u001b[0;32m    198\u001b[0m solvevars \u001b[38;5;241m=\u001b[39m torch\u001b[38;5;241m.\u001b[39mcat([pres_solvevars, res_solvevars])\n\u001b[0;32m    199\u001b[0m res_functions \u001b[38;5;241m=\u001b[39m PA\u001b[38;5;241m+\u001b[39mres \u001b[38;5;28;01mif\u001b[39;00m \u001b[38;5;28mlen\u001b[39m(solvevars) \u001b[38;5;241m>\u001b[39m \u001b[38;5;241m0\u001b[39m \u001b[38;5;28;01melse\u001b[39;00m \u001b[38;5;28;01mNone\u001b[39;00m\n\u001b[1;32m--> 200\u001b[0m EA \u001b[38;5;241m=\u001b[39m EliminateAnalysisMergeResiduals(analyses\u001b[38;5;241m=\u001b[39m[lookup(idx, sets)\u001b[38;5;241m.\u001b[39manalysis \u001b[38;5;28;01mfor\u001b[39;00m idx \u001b[38;5;129;01min\u001b[39;00m elimination_order], functions\u001b[38;5;241m=\u001b[39mres_functions)\n\u001b[0;32m    201\u001b[0m \u001b[38;5;28;01mreturn\u001b[39;00m EA, solvevars\n",
      "File \u001b[1;32mc:\\Users\\johan\\github\\minimdo\\minimdo\\src\\v5\\problem.py:200\u001b[0m, in \u001b[0;36m<listcomp>\u001b[1;34m(.0)\u001b[0m\n\u001b[0;32m    198\u001b[0m solvevars \u001b[38;5;241m=\u001b[39m torch\u001b[38;5;241m.\u001b[39mcat([pres_solvevars, res_solvevars])\n\u001b[0;32m    199\u001b[0m res_functions \u001b[38;5;241m=\u001b[39m PA\u001b[38;5;241m+\u001b[39mres \u001b[38;5;28;01mif\u001b[39;00m \u001b[38;5;28mlen\u001b[39m(solvevars) \u001b[38;5;241m>\u001b[39m \u001b[38;5;241m0\u001b[39m \u001b[38;5;28;01melse\u001b[39;00m \u001b[38;5;28;01mNone\u001b[39;00m\n\u001b[1;32m--> 200\u001b[0m EA \u001b[38;5;241m=\u001b[39m EliminateAnalysisMergeResiduals(analyses\u001b[38;5;241m=\u001b[39m[\u001b[43mlookup\u001b[49m\u001b[43m(\u001b[49m\u001b[43midx\u001b[49m\u001b[43m,\u001b[49m\u001b[43m \u001b[49m\u001b[43msets\u001b[49m\u001b[43m)\u001b[49m\u001b[38;5;241;43m.\u001b[39;49m\u001b[43manalysis\u001b[49m \u001b[38;5;28;01mfor\u001b[39;00m idx \u001b[38;5;129;01min\u001b[39;00m elimination_order], functions\u001b[38;5;241m=\u001b[39mres_functions)\n\u001b[0;32m    201\u001b[0m \u001b[38;5;28;01mreturn\u001b[39;00m EA, solvevars\n",
      "\u001b[1;31mAttributeError\u001b[0m: 'SymbolicExpression' object has no attribute 'analysis'"
     ]
    }
   ],
   "source": [
    "system2.interpretation(elimination_order=[a, \n",
    "                                   system.interpretation(elimination_order=[a, b], default_solver='scipy.fsolve')], parallel_analysis=[z], residuals=[a]) #eliminate_order = [a,b]"
   ]
  },
  {
   "cell_type": "code",
   "execution_count": null,
   "metadata": {},
   "outputs": [],
   "source": [
    "#optimal_order(system)\n",
    "system.formulate(eliminate_order = None, parallel_analysis=system.statevars) #eliminate_order = [a,b]"
   ]
  },
  {
   "cell_type": "markdown",
   "metadata": {},
   "source": [
    "### Aero Mini"
   ]
  },
  {
   "cell_type": "code",
   "execution_count": 1,
   "metadata": {},
   "outputs": [],
   "source": [
    "from modeling.gen6.api import ConstraintSystem, symbolic\n",
    "from engine.torchengine import ipoptsolver\n",
    "from engine.torchdata import print_formatted_table\n",
    "import numpy as np\n",
    "np.set_printoptions(formatter={'float': lambda x: \"{:0.2f}\".format(x).rstrip('0').rstrip('.')})"
   ]
  },
  {
   "cell_type": "code",
   "execution_count": 2,
   "metadata": {},
   "outputs": [],
   "source": [
    "A,V,S,W,Ww,CL,Re,Cf,CD,D = symbolic('A','V','S','W','Ww','C_L','Re','C_f','C_D','D')\n",
    "rho,mu,k,t,e,CDA,SwetS,W0,pi = 1.23, 1.78e-5, 1.2, 0.12, 0.96, 0.0306, 2.05, 4940, 3.14\n",
    "\n",
    "Aero = ConstraintSystem([\n",
    "    CL == 2*W/(rho*V**2*S),\n",
    "    Re == rho*V/mu*(S/A)**(1/2),\n",
    "    Cf == 0.074/Re**0.2,\n",
    "    CD == CDA/S+k*Cf*SwetS+CL**2/(3.14*A*e),\n",
    "    D == 0.5*rho*V**2*CD*S\n",
    "])\n",
    "Struct = ConstraintSystem([\n",
    "    Ww == 45.42*S+8.71e-5*2.5/t*A**(3/2)*S**(1/2)*(W0*W)**(1/2),\n",
    "    W == W0+Ww\n",
    "])\n",
    "AeroStruct = ConstraintSystem([\n",
    "    Aero,\n",
    "    Struct\n",
    "]) #.minimize(D)"
   ]
  },
  {
   "cell_type": "code",
   "execution_count": null,
   "metadata": {},
   "outputs": [],
   "source": [
    "faero = Aero.interpretation(elimination_order=Aero.statevars)"
   ]
  },
  {
   "cell_type": "code",
   "execution_count": 22,
   "metadata": {},
   "outputs": [],
   "source": [
    "fstruct1 = Struct.interpretation(parallel_analysis=Struct.statevars)\n",
    "fstruct2 = Struct.interpretation(elimination_order=Struct.statevars)"
   ]
  },
  {
   "cell_type": "code",
   "execution_count": 30,
   "metadata": {},
   "outputs": [],
   "source": [
    "x0struct = Struct.stategen({'A': 10, 'V': 30, 'S': 1, 'W':1000, 'Ww': 100})"
   ]
  },
  {
   "cell_type": "code",
   "execution_count": 31,
   "metadata": {},
   "outputs": [
    {
     "data": {
      "text/plain": [
       "array([1, 172.96, 5112.96, 10])"
      ]
     },
     "execution_count": 31,
     "metadata": {},
     "output_type": "execute_result"
    }
   ],
   "source": [
    "fstruct2(x0struct).numpy()"
   ]
  },
  {
   "cell_type": "code",
   "execution_count": 32,
   "metadata": {},
   "outputs": [],
   "source": [
    "xsol = fstruct1(x0struct)"
   ]
  },
  {
   "cell_type": "code",
   "execution_count": 36,
   "metadata": {},
   "outputs": [
    {
     "name": "stdout",
     "output_type": "stream",
     "text": [
      "S Ww      W        A \n",
      "1 338.437 5278.437 10\n"
     ]
    }
   ],
   "source": [
    "print_formatted_table([xsol.numpy()], *Struct.indices)"
   ]
  },
  {
   "cell_type": "code",
   "execution_count": 33,
   "metadata": {},
   "outputs": [
    {
     "data": {
      "text/plain": [
       "(array([1, 338.44, 5278.44, 10]),\n",
       " array([1, 338.44, 5278.44, 10]),\n",
       " array([1, 338.44, 5278.44, 10]))"
      ]
     },
     "execution_count": 33,
     "metadata": {},
     "output_type": "execute_result"
    }
   ],
   "source": [
    "fstruct2(x0struct).numpy(), fstruct2(xsol).numpy(), xsol.numpy()"
   ]
  },
  {
   "cell_type": "code",
   "execution_count": 34,
   "metadata": {},
   "outputs": [],
   "source": [
    "x0 = Aero.stategen({'A': 10, 'V': 30, 'S': 1, 'W':1000})"
   ]
  },
  {
   "cell_type": "code",
   "execution_count": 35,
   "metadata": {},
   "outputs": [
    {
     "name": "stdout",
     "output_type": "stream",
     "text": [
      "S C_D   C_f      D     A  C_L   Re     V  W   \n",
      "1 0.151 5.08e-03 83.79 10 1.807 6.56e5 30 1000\n"
     ]
    }
   ],
   "source": [
    "indices, idxrev = Aero.indices\n",
    "print_formatted_table([faero(x0).numpy()], indices, idxrev)"
   ]
  },
  {
   "cell_type": "markdown",
   "metadata": {},
   "source": [
    "## MDO architectures"
   ]
  },
  {
   "cell_type": "markdown",
   "metadata": {},
   "source": [
    "### MDF"
   ]
  },
  {
   "cell_type": "code",
   "execution_count": null,
   "metadata": {},
   "outputs": [],
   "source": [
    "AeroStruct.formulate(elimination_order=[\n",
    "    Aero.interpretation(elimination_order=Aero.statevars), \n",
    "    Struct.interpretation(parallel_analysis=Struct.statevars)])"
   ]
  },
  {
   "cell_type": "markdown",
   "metadata": {},
   "source": [
    "### IDF"
   ]
  },
  {
   "cell_type": "code",
   "execution_count": null,
   "metadata": {},
   "outputs": [],
   "source": [
    "AeroStruct.formulate(parallel_analysis=[Aero, Struct], interpretations=[\n",
    "    Aero.interpretation(elimination_order=Aero.statevars), \n",
    "    Struct.interpretation(parallel_analysis=Struct.statevars)])"
   ]
  },
  {
   "cell_type": "markdown",
   "metadata": {},
   "source": [
    "### AAO"
   ]
  },
  {
   "cell_type": "code",
   "execution_count": null,
   "metadata": {},
   "outputs": [],
   "source": [
    "AeroStruct.formulate(residuals=AeroStruct.statevars)"
   ]
  },
  {
   "cell_type": "markdown",
   "metadata": {},
   "source": [
    "### Sellar"
   ]
  },
  {
   "cell_type": "code",
   "execution_count": null,
   "metadata": {},
   "outputs": [],
   "source": [
    "x, y1, y2, z1, z2 = symbolic(\"x\", \"y1\", \"y2\", \"z1\", \"z2\")\n",
    "D1 = ConstraintSystem([y1 == z1**2+z2+x-0.2*y2])\n",
    "D2 = ConstraintSystem([y2 == y1**0.5+z1+z2])\n",
    "C = ConstraintSystem([\n",
    "    D1,  # C subset D1\n",
    "    D2,  # C subset D2\n",
    "    3.16 <= y1,\n",
    "    y2 >= 24.0,\n",
    "    0 <= x <= 10,\n",
    "    0 <= z1 <= 10,\n",
    "    0 <= z2 <= 10\n",
    "]).minimize(x**2+z2+y1+sp.exp(-y2))\n",
    "# D1.formulate()\n",
    "# D2.formulate()\n",
    "# C.formulate(eliminate_order=[D1, D2])\n",
    "P = C.formulate(parallel_analysis=[D1, D2]) # -> formulation graph?\n",
    "P.solve(x0 = P.stategen())"
   ]
  }
 ],
 "metadata": {
  "kernelspec": {
   "display_name": "minimdo",
   "language": "python",
   "name": "python3"
  },
  "language_info": {
   "codemirror_mode": {
    "name": "ipython",
    "version": 3
   },
   "file_extension": ".py",
   "mimetype": "text/x-python",
   "name": "python",
   "nbconvert_exporter": "python",
   "pygments_lexer": "ipython3",
   "version": "3.9.18"
  }
 },
 "nbformat": 4,
 "nbformat_minor": 2
}
