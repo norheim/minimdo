{
 "cells": [
  {
   "cell_type": "code",
   "execution_count": null,
   "metadata": {},
   "outputs": [],
   "source": [
    "from src.v4.torchdata import load_vals, print_formatted_table\n",
    "from src.v5.problem import symbolic, FunctionSympy\n",
    "from src.v6.problem import MFunctionalSet, MFunctionalSetLeaf, build_leafs\n",
    "from graph.matrixview import render_incidence\n",
    "from graph.graphutils import default_tree, flat_graph_formulation\n",
    "from graph.operators import sort_scc\n",
    "from scipy import optimize\n",
    "import numpy as np"
   ]
  },
  {
   "cell_type": "code",
   "execution_count": 2,
   "metadata": {},
   "outputs": [],
   "source": [
    "x, m1, m2, mt = symbolic(\"x\", \"m1\", \"m2\", \"mt\")\n",
    "D1 = MFunctionalSetLeaf(m1 == x**2-2*x+3)\n",
    "D2 = MFunctionalSetLeaf(m2 == 0.5*mt) \n",
    "D3 = MFunctionalSetLeaf(mt == m1+m2)\n",
    "C = MFunctionalSet().functionalsubsetof(D1, D2, D3).subsetof(\n",
    "    0 <= x, x <= 10,\n",
    ").minimize(mt)\n",
    "# T = optimal_configuration_tree(C)\n",
    "# P = C.config_with_tree(T) # automatic\n",
    "D23 = MFunctionalSet().functionalsubsetof(D2, D3) \n",
    "P = C.config(elim=[D1, D23.config(residuals=[D2, D3])])"
   ]
  },
  {
   "cell_type": "code",
   "execution_count": 3,
   "metadata": {},
   "outputs": [],
   "source": [
    "sets, _,_,_, indices = C.gather_sets()"
   ]
  },
  {
   "cell_type": "code",
   "execution_count": 4,
   "metadata": {},
   "outputs": [
    {
     "data": {
      "image/png": "[encoded data removed]",
      "text/plain": [
       "<Figure size 100x100 with 1 Axes>"
      ]
     },
     "metadata": {},
     "output_type": "display_data"
    }
   ],
   "source": [
    "idxrev = {var.item():key for key,var in indices.items()}\n",
    "in_outs = {eqid: D.analysis.structure for eqid, D in sets.items()}\n",
    "Ein = {eqid: tuple(str(idxrev[idx.item()]) for idx in item[0]) for eqid, item in in_outs.items()}\n",
    "Eout = {eqid: tuple(str(idxrev[idx.item()]) for idx in item[1]) for eqid, item in in_outs.items()}\n",
    "edges = Ein, Eout, {}\n",
    "tree = default_tree(Ein.keys())\n",
    "render_incidence(edges, tree, rawvarname=True, dispendcomp=False, hideticks=True, patchwidth=4, figsize=((1,1)),diagonalgray=False);"
   ]
  },
  {
   "cell_type": "code",
   "execution_count": 5,
   "metadata": {},
   "outputs": [],
   "source": [
    "G = flat_graph_formulation(Ein, Eout)\n",
    "order_id = sort_scc(G)"
   ]
  },
  {
   "cell_type": "code",
   "execution_count": null,
   "metadata": {},
   "outputs": [],
   "source": [
    "# We build just the skeleton of the configuration\n",
    "sets_processed = []\n",
    "for elt in order_id:\n",
    "    supersets = [MFunctionalSetLeaf((elt_id.name, None), autoid=False) for elt_id in elt]\n",
    "    if len(supersets) == 1:\n",
    "        sets_processed.append(supersets[0])\n",
    "    else:\n",
    "        sets_processed.append(MFunctionalSet(*supersets).config(residuals=supersets))\n",
    "MDA_SCC = MFunctionalSet(*sets_processed).config(elim=sets_processed)"
   ]
  },
  {
   "cell_type": "code",
   "execution_count": 8,
   "metadata": {},
   "outputs": [],
   "source": [
    "f = MDA_SCC.build(sets=sets, indices=indices)"
   ]
  },
  {
   "cell_type": "code",
   "execution_count": 9,
   "metadata": {},
   "outputs": [],
   "source": [
    "x0 = {\"x\": 0, \"m1\": 0, \"m2\": 0, \"mt\": 0}\n",
    "xidxed = load_vals(x0, indices, isdict=True)"
   ]
  },
  {
   "cell_type": "code",
   "execution_count": 11,
   "metadata": {},
   "outputs": [
    {
     "data": {
      "text/plain": [
       "tensor([3., 0., 3., 6.], dtype=torch.float64)"
      ]
     },
     "execution_count": 11,
     "metadata": {},
     "output_type": "execute_result"
    }
   ],
   "source": [
    "f.analysis(xidxed)"
   ]
  },
  {
   "cell_type": "code",
   "execution_count": 4,
   "metadata": {},
   "outputs": [],
   "source": [
    "obj_function, dobj, xguess, constraints = P.build_opt(x0=xidxed)"
   ]
  },
  {
   "cell_type": "code",
   "execution_count": 5,
   "metadata": {},
   "outputs": [
    {
     "name": "stdout",
     "output_type": "stream",
     "text": [
      "Optimization terminated successfully    (Exit mode 0)\n",
      "            Current function value: 4.0\n",
      "            Iterations: 2\n",
      "            Function evaluations: 3\n",
      "            Gradient evaluations: 2\n"
     ]
    }
   ],
   "source": [
    "xsol = optimize.minimize(obj_function, xguess, jac=dobj, constraints=constraints, method=\"SLSQP\", options={\"disp\": True})"
   ]
  },
  {
   "cell_type": "code",
   "execution_count": 16,
   "metadata": {},
   "outputs": [],
   "source": [
    "f = P.build()"
   ]
  },
  {
   "cell_type": "code",
   "execution_count": 17,
   "metadata": {},
   "outputs": [
    {
     "name": "stdout",
     "output_type": "stream",
     "text": [
      "m2 mt x m1\n",
      "2  4  1 2 \n"
     ]
    }
   ],
   "source": [
    "idxrev = {var.item():key for key,var in indices.items()}\n",
    "xsolidxrev = {var.item():key for key,var in indices.items()}\n",
    "print_formatted_table([f.analysis(xidxed)], indices, idxrev)"
   ]
  },
  {
   "cell_type": "code",
   "execution_count": 6,
   "metadata": {},
   "outputs": [],
   "source": [
    "f = P.build()"
   ]
  },
  {
   "cell_type": "code",
   "execution_count": 9,
   "metadata": {},
   "outputs": [
    {
     "name": "stdout",
     "output_type": "stream",
     "text": [
      "x      mt m1 m2\n",
      "0.00e0 6  3  3 \n"
     ]
    }
   ],
   "source": [
    "idxrev = {var.item():key for key,var in indices.items()}\n",
    "print_formatted_table([f.analysis(xidxed)], indices, idxrev)"
   ]
  },
  {
   "cell_type": "code",
   "execution_count": 18,
   "metadata": {},
   "outputs": [
    {
     "data": {
      "text/plain": [
       "tensor([2.2500, 1.0000, 0.5000, 3.2500], dtype=torch.float64)"
      ]
     },
     "execution_count": 18,
     "metadata": {},
     "output_type": "execute_result"
    }
   ],
   "source": [
    "x0 = {\"x\": 0.5, \"m1\": 0.5, \"m2\": 1.5, \"mt\": 2}\n",
    "_, indices = P.gather_sets()\n",
    "xidxed = load_vals(x0, indices, isdict=True)\n",
    "f1.analysis(xidxed)\n",
    "#f1.analysis.structure"
   ]
  },
  {
   "cell_type": "code",
   "execution_count": null,
   "metadata": {},
   "outputs": [],
   "source": [
    "P.solve(x0 = {\"x\": 1, \"m1\": 1, \"m2\": 1, \"mt\": 1})"
   ]
  },
  {
   "cell_type": "code",
   "execution_count": 2,
   "metadata": {},
   "outputs": [],
   "source": [
    "n = 5\n",
    "A = np.random.rand(n, n)\n",
    "# Ensure the matrix is invertible (has a unique solution)\n",
    "while np.linalg.det(A) == 0:\n",
    "    A = np.random.rand(n, n)\n",
    "xval = np.random.rand(n)\n",
    "b = np.dot(A, xval)"
   ]
  },
  {
   "cell_type": "code",
   "execution_count": 3,
   "metadata": {},
   "outputs": [
    {
     "name": "stdout",
     "output_type": "stream",
     "text": [
      "-0.081045735310219*x2 - 0.935997496081404*x3 - 0.609905921352857*x4 - 0.58282534888973*x5 + 1.91444008000305\n",
      "-0.69843893517421*x1 - 1.14646784858583*x3 - 0.675464702408195*x4 - 1.44304260660306*x5 + 3.05349412927818\n",
      "-24.8692581114842*x1 - 2.16027798559865*x2 - 5.88099058398598*x4 - 13.8119347370602*x5 + 19.1963845585831\n",
      "-0.136176567340161*x1 - 0.26098762893159*x2 - 0.382661612683617*x3 - 0.904031506155156*x5 + 1.95851036688496\n",
      "-1.56838516799004*x1 - 1.26705846322546*x2 - 3.02901878589248*x3 - 1.24176493735535*x4 + 5.18142193175845\n"
     ]
    }
   ],
   "source": [
    "x1,x2,x3,x4,x5 = symbolic(\"x1\", \"x2\", \"x3\", \"x4\", \"x5\")\n",
    "vars = np.array([x1,x2,x3,x4,x5])\n",
    "sets = []\n",
    "for i in range(n):\n",
    "    rhs = ((np.hstack((A[i, :i], A[i, (i+1):],  [b[i]]))) / A[i, i])@np.hstack((-vars[:i], -vars[(i+1):], [1]))\n",
    "    print(rhs)\n",
    "    lhs = vars[i]\n",
    "    sets.append(MFunctionalSetLeaf(lhs == rhs))\n",
    "C = MFunctionalSet().functionalsubsetof(*sets)\n",
    "set_info = C.gather_sets()\n",
    "sets, indices = set_info\n",
    "D1, D2, D3, D4, D5 = C.supersets"
   ]
  },
  {
   "cell_type": "code",
   "execution_count": null,
   "metadata": {},
   "outputs": [],
   "source": [
    "r1 = C.config(elim=[D1,D2], parallel=[D3,D4,D5]).build(*set_info, return_residual=True)"
   ]
  },
  {
   "cell_type": "code",
   "execution_count": 7,
   "metadata": {},
   "outputs": [
    {
     "data": {
      "text/plain": [
       "tensor([-4.9629,  0.3645, -0.4044], dtype=torch.float64)"
      ]
     },
     "execution_count": 7,
     "metadata": {},
     "output_type": "execute_result"
    }
   ],
   "source": [
    "xguess = np.random.rand(n)\n",
    "x0 = {'x1': xguess[0], 'x2': xguess[1], 'x3': xguess[2], 'x4': xguess[3], 'x5': xguess[4]}\n",
    "xidxed = load_vals(x0, indices, isdict=True)\n",
    "# xsol = r1(xidxed)\n",
    "# idxrev = {var.item():key for key,var in indices.items()}\n",
    "# print_formatted_table([xsol], indices, idxrev, subset=None)\n",
    "r1(xidxed)"
   ]
  },
  {
   "cell_type": "code",
   "execution_count": 8,
   "metadata": {},
   "outputs": [
    {
     "data": {
      "text/plain": [
       "array([0.97677073, 0.62873461, 0.82866185, 0.02100109, 0.05768584])"
      ]
     },
     "execution_count": 8,
     "metadata": {},
     "output_type": "execute_result"
    }
   ],
   "source": [
    "xval"
   ]
  },
  {
   "cell_type": "code",
   "execution_count": 8,
   "metadata": {},
   "outputs": [],
   "source": [
    "idxrev = {var.item():key for key,var in indices.items()}\n",
    "in_outs = [D.analysis.structure for D in sets.values()]\n",
    "Ein = {i: tuple(str(idxrev[idx.item()]) for idx in item[0]) for i, item in enumerate(in_outs)}\n",
    "Eout = {i: tuple(str(idxrev[idx.item()]) for idx in item[1]) for i, item in enumerate(in_outs)}\n",
    "edges = Ein, Eout, {}\n",
    "tree = default_tree(Ein.keys())"
   ]
  },
  {
   "cell_type": "code",
   "execution_count": 10,
   "metadata": {},
   "outputs": [
    {
     "data": {
      "image/png": "[encoded data removed]",
      "text/plain": [
       "<Figure size 100x100 with 1 Axes>"
      ]
     },
     "metadata": {},
     "output_type": "display_data"
    }
   ],
   "source": [
    "render_incidence(edges, tree, rawvarname=True, dispendcomp=False, hideticks=True, patchwidth=4, figsize=((1,1)),diagonalgray=False);"
   ]
  },
  {
   "cell_type": "code",
   "execution_count": 29,
   "metadata": {},
   "outputs": [],
   "source": [
    "f1 = C.config(elim=[D2, D3], parallel=[D1]).build(*set_info, \n",
    "                                                  return_residual=False) \n",
    "r1 = C.config(residuals=[D1, D2, D3]).build(*set_info, \n",
    "                                            return_residual=True) "
   ]
  },
  {
   "cell_type": "code",
   "execution_count": 30,
   "metadata": {},
   "outputs": [],
   "source": [
    "x0 = {'x': 1, 'y': 2.8, 'z': 3}\n",
    "xval = load_vals(x0, indices, isdict=True)"
   ]
  },
  {
   "cell_type": "code",
   "execution_count": 31,
   "metadata": {},
   "outputs": [
    {
     "data": {
      "text/plain": [
       "tensor([0.0000e+00, 2.2204e-16, 0.0000e+00], dtype=torch.float64)"
      ]
     },
     "execution_count": 31,
     "metadata": {},
     "output_type": "execute_result"
    }
   ],
   "source": [
    "xsol = f1(xval)\n",
    "r1(xsol)"
   ]
  },
  {
   "cell_type": "code",
   "execution_count": 32,
   "metadata": {},
   "outputs": [
    {
     "data": {
      "text/plain": [
       "tensor([2.8000, 1.0000, 3.0000], dtype=torch.float64)"
      ]
     },
     "execution_count": 32,
     "metadata": {},
     "output_type": "execute_result"
    }
   ],
   "source": [
    "xval"
   ]
  },
  {
   "cell_type": "code",
   "execution_count": 7,
   "metadata": {},
   "outputs": [],
   "source": [
    "x, y1, y2, z1, z2 = symbolic(\"x\", \"y1\", \"y2\", \"z1\", \"z2\")\n",
    "D1 = MFunctionalSet(y1 == z1**2+z2+x-0.2*y2)\n",
    "D2 = MFunctionalSet(y2 == y1**0.5+z1+z2)\n",
    "C = MFunctionalSet().functionalsubsetof(D1, D2)\n",
    "set_info = C.gather_sets()\n",
    "sets, indices = set_info"
   ]
  },
  {
   "cell_type": "code",
   "execution_count": 5,
   "metadata": {},
   "outputs": [],
   "source": [
    "f1 = C.config(elim=[D1], residuals=[D2]).build(*set_info, return_residual=True) #residual\n",
    "f2 = C.config(elim=[D1, D2]).build(*set_info) # analysis, but invalid\n",
    "#f2 = C.config(parallel=[D1, D2]).build(*set_info) # analysis, but valid"
   ]
  },
  {
   "cell_type": "code",
   "execution_count": 6,
   "metadata": {},
   "outputs": [],
   "source": [
    "x0 = {'z1': 1, 'z2': 2, 'x': 3}\n",
    "xval = load_vals(x0, indices, isdict=True)"
   ]
  },
  {
   "cell_type": "code",
   "execution_count": null,
   "metadata": {},
   "outputs": [],
   "source": [
    "x, m1, m2, mt = symbolic(\"x\", \"m1\", \"m2\", \"mt\")\n",
    "D1 = MFunctionalSetLeaf(m1 == x**2-2*x+10)\n",
    "# Alternative 1\n",
    "D21 = MFunctionalSetLeaf(m2 == 0.1*mt) \n",
    "D22 = MFunctionalSetLeaf(mt == m1+m2)\n",
    "D2 = MFunctionalSet().functionalsubsetof(D21, D22)\n",
    "# Alternative 2\n",
    "D2 = MFunctionalSet(\n",
    "    m2 == 0.1*mt, \n",
    "    mt == m1+m2\n",
    ")\n",
    "[D21, D22] = D2.supersets\n",
    "C = MFunctionalSet().functionalsubsetof([D1, D2]).subsetof(\n",
    "    0 <= x <= 10,\n",
    ").minimize(mt)\n",
    "\n",
    "P = C.config(elim=[D1, D2.config(parallel=[D21, D22])]) # requires alternative 1\n",
    "P.solve(x0 = {\"x\": 1, \"m1\": 1, \"m2\": 1, \"mt\": 1})"
   ]
  },
  {
   "cell_type": "code",
   "execution_count": null,
   "metadata": {},
   "outputs": [],
   "source": [
    "x, y1, y2, z1, z2 = symbolic(\"x\", \"y1\", \"y2\", \"z1\", \"z2\")\n",
    "D1 = MFunctionalSetLeaf(y1 == z1**2+z2+x-0.2*y2)\n",
    "D2 = MFunctionalSetLeaf(y2 == y1**0.5+z1+z2)\n",
    "C = MFunctionalSet().functionalsubsetof(D1, D2).subsetof(\n",
    "    3.16 <= y1,\n",
    "    y2 >= 24.0,\n",
    "    0 <= x <= 10,\n",
    "    0 <= z1 <= 10,\n",
    "    0 <= z2 <= 10\n",
    ").minimize(x**2+z2+y1+sp.exp(-y2))\n",
    "\n",
    "P = C.config(elim=[D1], parallel=[D2]) \n",
    "P.solve(x0 = {\"x\": 1, \"z1\": 2, \"z2\": 3})"
   ]
  },
  {
   "cell_type": "code",
   "execution_count": null,
   "metadata": {},
   "outputs": [],
   "source": [
    "x, m1, m2, mt = symbolic(\"x\", \"m1\", \"m2\", \"mt\")\n",
    "D1 = MFunctionalSetLeaf(m1 == x**2-2*x+3)\n",
    "D2 = MFunctionalSetLeaf(m2 == 0.5*mt) \n",
    "D3 = MFunctionalSetLeaf(mt == m1+m2)\n",
    "C = MFunctionalSet().functionalsubsetof(D1, D2, D3).subsetof(\n",
    "    0 <= x <= 10,\n",
    ").minimize(mt)\n",
    "# T = optimal_configuration_tree(C)\n",
    "# P = C.config_with_tree(T) # automatic\n",
    "D23 = MFunctionalSet().functionalsubsetof([D2,D3]); \n",
    "P = C.config(elim=[D1, D23.config(parallel=[D2, D3])]) # manual\n",
    "P.solve(x0 = {\"x\": 1, \"m1\": 1, \"m2\": 1, \"mt\": 1})"
   ]
  },
  {
   "cell_type": "markdown",
   "metadata": {},
   "source": [
    "# Aero Example"
   ]
  },
  {
   "cell_type": "code",
   "execution_count": null,
   "metadata": {},
   "outputs": [],
   "source": [
    "A,V,S,W,Ww,CL,Re,Cf,CD,D = symbolic('A','V','S','W','Ww','C_L','Re','C_f','C_D','D')\n",
    "rho,mu,k,t,e,CDA,SwetS,W0,pi = 1.23, 1.78e-5, 1.2, 0.12, 0.96, 0.0306, 2.05, 4940, 3.14\n",
    "\n",
    "Aero = MFunctionalSet(\n",
    "    CL == 2*W/(rho*V**2*S),\n",
    "    Re == rho*V/mu*(S/A)**(1/2),\n",
    "    Cf == 0.074/Re**0.2,\n",
    "    CD == CDA/S+k*Cf*SwetS+CL**2/(3.14*A*e),\n",
    "    D == 0.5*rho*V**2*CD*S\n",
    ")\n",
    "Struct1 = MFunctionalSet(\n",
    "    Ww == 45.42*S+8.71e-5*2.5/t*A**(3/2)*S**(1/2)*(W0*W)**(1/2),\n",
    ")\n",
    "Struct2 = MFunctionalSet(\n",
    "    W == W0+Ww\n",
    ")\n",
    "\n",
    "Struct = MFunctionalSet().functionalsubsetof(Struct1, Struct2)\n",
    "AeroStruct = MFunctionalSet().functionalsubsetof(Aero, Struct)\n",
    "#AeroStruct = MFunctionalSet().functionalsubsetof(Aero, Struct1, Struct2) # also valid\n",
    "set_info = AeroStruct.gather_sets()\n",
    "sets, indices = set_info"
   ]
  },
  {
   "cell_type": "code",
   "execution_count": null,
   "metadata": {},
   "outputs": [],
   "source": [
    "AeroStruct.residuals(elim=[Aero.analysis()], Struct.residuals())"
   ]
  },
  {
   "cell_type": "markdown",
   "metadata": {},
   "source": [
    "## MDA 1"
   ]
  },
  {
   "cell_type": "code",
   "execution_count": null,
   "metadata": {},
   "outputs": [],
   "source": [
    "# Config 1\n",
    "C1 = AeroStruct.config(elim=[Struct.config(parallel=[Struct1, Struct2]), Aero]).build(*set_info)"
   ]
  },
  {
   "cell_type": "markdown",
   "metadata": {},
   "source": [
    "## MDA 2"
   ]
  },
  {
   "cell_type": "code",
   "execution_count": null,
   "metadata": {},
   "outputs": [],
   "source": [
    "# Config 2\n",
    "StructSolver = Struct.config(elim=[Struct1])\n",
    "C1 = AeroStruct.config(parallel=[StructSolver, Aero]).build(*set_info)"
   ]
  },
  {
   "cell_type": "markdown",
   "metadata": {},
   "source": [
    "## IDF"
   ]
  },
  {
   "cell_type": "code",
   "execution_count": null,
   "metadata": {},
   "outputs": [],
   "source": [
    "IDF = AeroStruct.config(constraints=Aero.constraints+Struct.constraints)"
   ]
  },
  {
   "cell_type": "markdown",
   "metadata": {},
   "source": [
    "## AAO"
   ]
  },
  {
   "cell_type": "code",
   "execution_count": null,
   "metadata": {},
   "outputs": [],
   "source": [
    "AAO = AeroStruct.config(constraints=Aero.constraints+Struct.constraints).residuals()"
   ]
  }
 ],
 "metadata": {
  "kernelspec": {
   "display_name": "minimdo",
   "language": "python",
   "name": "python3"
  },
  "language_info": {
   "codemirror_mode": {
    "name": "ipython",
    "version": 3
   },
   "file_extension": ".py",
   "mimetype": "text/x-python",
   "name": "python",
   "nbconvert_exporter": "python",
   "pygments_lexer": "ipython3",
   "version": "3.9.18"
  }
 },
 "nbformat": 4,
 "nbformat_minor": 2
}
