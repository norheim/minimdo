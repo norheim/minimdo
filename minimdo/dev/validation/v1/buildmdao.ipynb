{
 "cells": [
  {
   "cell_type": "code",
   "execution_count": 1,
   "id": "af24987b",
   "metadata": {},
   "outputs": [],
   "source": [
    "from src.v1.symbolic import Par, Var\n",
    "from src.v1.mdaobuild import optsolver, solver, explicit\n",
    "import openmdao.api as om\n",
    "import sympy as sp"
   ]
  },
  {
   "cell_type": "markdown",
   "id": "684b22a0",
   "metadata": {},
   "source": [
    "### OpenMDAO run 1"
   ]
  },
  {
   "cell_type": "code",
   "execution_count": 2,
   "id": "160324a9",
   "metadata": {},
   "outputs": [],
   "source": [
    "a,x = Var('a'), Var('x')\n",
    "eqs = {\n",
    "    0: (a, x**2-2*x),\n",
    "    1: (None, a+sp.sin(x)-1),\n",
    "    2: (None, -x+2)\n",
    "}"
   ]
  },
  {
   "cell_type": "code",
   "execution_count": 3,
   "id": "307345bc",
   "metadata": {},
   "outputs": [
    {
     "name": "stdout",
     "output_type": "stream",
     "text": [
      "\n",
      "======\n",
      "group1\n",
      "======\n",
      "NL: Newton Converged in 6 iterations\n"
     ]
    }
   ],
   "source": [
    "prob = om.Problem()\n",
    "model = prob.model\n",
    "groups = {0: model}\n",
    "solver(groups, eqs, 0, 1, [x], [1]) \n",
    "explicit(groups, eqs, 1, a, 0)\n",
    "prob.setup();\n",
    "prob.set_solver_print(level=1)\n",
    "prob.run_model()"
   ]
  },
  {
   "cell_type": "code",
   "execution_count": 4,
   "id": "5ca53c3c",
   "metadata": {},
   "outputs": [
    {
     "name": "stdout",
     "output_type": "stream",
     "text": [
      "1 Explicit Output(s) in 'model'\n",
      "\n",
      "varname  val         \n",
      "-------  ------------\n",
      "group1\n",
      "  eq0\n",
      "    a    [0.11550053]\n",
      "\n",
      "\n",
      "1 Implicit Output(s) in 'model'\n",
      "\n",
      "varname  val         \n",
      "-------  ------------\n",
      "group1\n",
      "  res1\n",
      "    x    [2.05617258]\n",
      "\n",
      "\n"
     ]
    }
   ],
   "source": [
    "model.list_outputs();"
   ]
  },
  {
   "cell_type": "markdown",
   "id": "0f14c694",
   "metadata": {},
   "source": [
    "## OpenMDAO run 2"
   ]
  },
  {
   "cell_type": "code",
   "execution_count": 5,
   "id": "3b9ac68b",
   "metadata": {},
   "outputs": [],
   "source": [
    "p = Par('p', 0.1)\n",
    "a,b,c,d,e,x = Var('a'), Var('b'), Var('c'), Var('d'), Var('e'), Var('x')\n",
    "eqsn = {\n",
    "    0: (a, 2.0*x),\n",
    "    1: (x, b - 0.5),\n",
    "    2: (b, 2.0*c - 0.2*d - 40.0),\n",
    "    3: (c, d + 10),\n",
    "    4: (d, -0.5*e)\n",
    "}"
   ]
  },
  {
   "cell_type": "code",
   "execution_count": 6,
   "id": "bf61d099",
   "metadata": {},
   "outputs": [],
   "source": [
    "prob = om.Problem()\n",
    "model = prob.model\n",
    "groups = {0:model}"
   ]
  },
  {
   "cell_type": "code",
   "execution_count": 7,
   "id": "4bc93862",
   "metadata": {},
   "outputs": [],
   "source": [
    "explicit(groups, eqsn, 0, d, 4)\n",
    "explicit(groups, eqsn, 0, c, 3)\n",
    "explicit(groups, eqsn, 0, b, 2)\n",
    "explicit(groups, eqsn, 0, x, 1)\n",
    "explicit(groups, eqsn, 0, a, 0)"
   ]
  },
  {
   "cell_type": "code",
   "execution_count": 8,
   "id": "fbd9d419",
   "metadata": {},
   "outputs": [],
   "source": [
    "optsolver(groups, {5: (None, a**2+d**2+b**2)}, \n",
    "          0, 1, [e], [[],[],[5]])"
   ]
  },
  {
   "cell_type": "code",
   "execution_count": 9,
   "id": "46eb07d3",
   "metadata": {},
   "outputs": [],
   "source": [
    "prob.setup();"
   ]
  },
  {
   "cell_type": "code",
   "execution_count": 10,
   "id": "0b12b9ee",
   "metadata": {},
   "outputs": [
    {
     "name": "stdout",
     "output_type": "stream",
     "text": [
      "Optimization terminated successfully    (Exit mode 0)\n",
      "            Current function value: 121.17674418604648\n",
      "            Iterations: 2\n",
      "            Function evaluations: 3\n",
      "            Gradient evaluations: 2\n",
      "Optimization Complete\n",
      "-----------------------------------\n"
     ]
    }
   ],
   "source": [
    "#prob.set_val('c', 100)\n",
    "prob.set_solver_print(level=1)\n",
    "prob.driver = om.ScipyOptimizeDriver()\n",
    "prob.run_driver();"
   ]
  },
  {
   "cell_type": "code",
   "execution_count": 11,
   "id": "c5ecfbe5",
   "metadata": {},
   "outputs": [
    {
     "name": "stdout",
     "output_type": "stream",
     "text": [
      "9 Input(s) in 'model'\n",
      "\n",
      "varname  val           \n",
      "-------  --------------\n",
      "eq4\n",
      "  e      [-21.34883721]\n",
      "eq3\n",
      "  d      [10.6744186]  \n",
      "eq2\n",
      "  d      [10.6744186]  \n",
      "  c      [20.6744186]  \n",
      "eq1\n",
      "  b      [-0.78604651] \n",
      "eq0\n",
      "  x      [-1.28604651] \n",
      "eq5\n",
      "  a      [-2.57209302] \n",
      "  d      [10.6744186]  \n",
      "  b      [-0.78604651] \n",
      "\n",
      "\n"
     ]
    }
   ],
   "source": [
    "model.list_inputs();"
   ]
  },
  {
   "cell_type": "code",
   "execution_count": 12,
   "id": "3c91d8ec",
   "metadata": {},
   "outputs": [
    {
     "data": {
      "text/plain": [
       "(array([121.17675]), array([-21.35]))"
      ]
     },
     "execution_count": 12,
     "metadata": {},
     "output_type": "execute_result"
    }
   ],
   "source": [
    "prob.set_val('e', -21.35)\n",
    "prob.run_model()\n",
    "prob.get_val('f05'), prob.get_val('e')"
   ]
  },
  {
   "cell_type": "markdown",
   "id": "dd79920a",
   "metadata": {},
   "source": [
    "## OpenMDAO run 3"
   ]
  },
  {
   "cell_type": "code",
   "execution_count": 13,
   "id": "14618223",
   "metadata": {},
   "outputs": [],
   "source": [
    "from src.v1.symbolic import Par, Var\n",
    "from src.v1.mdaobuild import optsolver, solver, explicit\n",
    "import openmdao.api as om"
   ]
  },
  {
   "cell_type": "code",
   "execution_count": 15,
   "id": "19a8c293",
   "metadata": {},
   "outputs": [],
   "source": [
    "p = Par('p', 0.1)\n",
    "a,b,c,d,e,x = Var('a'), Var('b'), Var('c'), Var('d'), Var('e'), Var('x')\n",
    "\n",
    "eqs = {\n",
    "    0: (x, 0.5*a),\n",
    "    1: (b, x + 0.5),\n",
    "    2: (c, p*d+20+0.5*b),\n",
    "    3: (d, c - 10),\n",
    "    4: (None, d + 0.5*e)\n",
    "}"
   ]
  },
  {
   "cell_type": "code",
   "execution_count": 32,
   "id": "899cc74b",
   "metadata": {},
   "outputs": [],
   "source": [
    "prob = om.Problem()\n",
    "model = prob.model\n",
    "groups = {0:model}"
   ]
  },
  {
   "cell_type": "code",
   "execution_count": 33,
   "id": "8a62a546",
   "metadata": {},
   "outputs": [],
   "source": [
    "solver(groups, eqs, 0, 1, [a], [4])\n",
    "explicit(groups, eqs, 1, x, 0)\n",
    "explicit(groups, eqs, 1, b, 1)\n",
    "solver(groups, eqs, 1, 2, [c,d], [2,3])\n",
    "optsolver(groups, {5: (None, a**2+d**2+b**2)}, 0, 1, [e], [[],[],[5]])"
   ]
  },
  {
   "cell_type": "code",
   "execution_count": 34,
   "id": "4f323b3f",
   "metadata": {},
   "outputs": [],
   "source": [
    "prob.setup();"
   ]
  },
  {
   "cell_type": "code",
   "execution_count": 35,
   "id": "10b91406",
   "metadata": {},
   "outputs": [
    {
     "name": "stdout",
     "output_type": "stream",
     "text": [
      "\n",
      "======\n",
      "group1\n",
      "======\n",
      "+  \n",
      "+  =============\n",
      "+  group1.group2\n",
      "+  =============\n",
      "+  NL: Newton Converged in 1 iterations\n",
      "+  \n",
      "+  =============\n",
      "+  group1.group2\n",
      "+  =============\n",
      "+  NL: Newton Converged in 0 iterations\n",
      "NL: Newton Converged in 1 iterations\n"
     ]
    }
   ],
   "source": [
    "prob.set_val('e', -21.35)\n",
    "prob.set_val('p', 0.1)\n",
    "prob.run_model()"
   ]
  },
  {
   "cell_type": "code",
   "execution_count": 36,
   "id": "d762caaf",
   "metadata": {},
   "outputs": [
    {
     "name": "stdout",
     "output_type": "stream",
     "text": [
      "\n",
      "======\n",
      "group1\n",
      "======\n",
      "+  \n",
      "+  =============\n",
      "+  group1.group2\n",
      "+  =============\n",
      "+  NL: Newton Converged in 0 iterations\n",
      "NL: Newton Converged in 0 iterations\n",
      "\n",
      "======\n",
      "group1\n",
      "======\n",
      "+  \n",
      "+  =============\n",
      "+  group1.group2\n",
      "+  =============\n",
      "+  NL: Newton Converged in 0 iterations\n",
      "NL: Newton Converged in 0 iterations\n",
      "\n",
      "======\n",
      "group1\n",
      "======\n",
      "+  \n",
      "+  =============\n",
      "+  group1.group2\n",
      "+  =============\n",
      "+  NL: Newton Converged in 0 iterations\n",
      "+  \n",
      "+  =============\n",
      "+  group1.group2\n",
      "+  =============\n",
      "+  NL: Newton Converged in 0 iterations\n",
      "NL: Newton Converged in 1 iterations\n",
      "\n",
      "======\n",
      "group1\n",
      "======\n",
      "+  \n",
      "+  =============\n",
      "+  group1.group2\n",
      "+  =============\n",
      "+  NL: Newton Converged in 0 iterations\n",
      "+  \n",
      "+  =============\n",
      "+  group1.group2\n",
      "+  =============\n",
      "+  NL: Newton Converged in 0 iterations\n",
      "NL: Newton Converged in 1 iterations\n",
      "Optimization terminated successfully    (Exit mode 0)\n",
      "            Current function value: 121.17674418604649\n",
      "            Iterations: 2\n",
      "            Function evaluations: 3\n",
      "            Gradient evaluations: 2\n",
      "Optimization Complete\n",
      "-----------------------------------\n"
     ]
    }
   ],
   "source": [
    "prob.set_solver_print(level=1)\n",
    "prob.driver = om.ScipyOptimizeDriver()\n",
    "prob.run_driver();"
   ]
  },
  {
   "cell_type": "code",
   "execution_count": 37,
   "id": "17a9ecc0",
   "metadata": {},
   "outputs": [
    {
     "name": "stdout",
     "output_type": "stream",
     "text": [
      "9 Input(s) in 'model'\n",
      "\n",
      "varname    val           \n",
      "---------  --------------\n",
      "group1\n",
      "  res4\n",
      "    e      [-21.34883721]\n",
      "    d      [10.6744186]  \n",
      "  eq0\n",
      "    a      [-2.57209302] \n",
      "  eq1\n",
      "    x      [-1.28604651] \n",
      "  group2\n",
      "    res23\n",
      "      b    [-0.78604651] \n",
      "      p    [0.1]         \n",
      "eq5\n",
      "  a        [-2.57209302] \n",
      "  d        [10.6744186]  \n",
      "  b        [-0.78604651] \n",
      "\n",
      "\n"
     ]
    }
   ],
   "source": [
    "model.list_inputs();"
   ]
  }
 ],
 "metadata": {
  "kernelspec": {
   "display_name": "minimdo",
   "language": "python",
   "name": "python3"
  },
  "language_info": {
   "codemirror_mode": {
    "name": "ipython",
    "version": 3
   },
   "file_extension": ".py",
   "mimetype": "text/x-python",
   "name": "python",
   "nbconvert_exporter": "python",
   "pygments_lexer": "ipython3",
   "version": "3.9.18"
  }
 },
 "nbformat": 4,
 "nbformat_minor": 5
}
