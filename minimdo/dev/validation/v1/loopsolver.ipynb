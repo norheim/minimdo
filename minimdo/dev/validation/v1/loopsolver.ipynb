{
 "cells": [
  {
   "cell_type": "code",
   "execution_count": null,
   "id": "8e84a7df",
   "metadata": {},
   "outputs": [],
   "source": [
    "import openmdao.api as om\n",
    "from src.v1.mdaobuild import Expcomp, Impcomp"
   ]
  },
  {
   "cell_type": "code",
   "execution_count": 2,
   "id": "d7bb17c7",
   "metadata": {},
   "outputs": [],
   "source": [
    "parent = om.Problem()"
   ]
  },
  {
   "cell_type": "code",
   "execution_count": null,
   "id": "aebf5abe",
   "metadata": {},
   "outputs": [],
   "source": [
    "eqs = {\n",
    "    0: (x, 0.5*a),\n",
    "    1: (b, x + 0.5),\n",
    "    2: (c, p*d+20+0.5*b),\n",
    "    3: (d, c - 10),\n",
    "    4: (None, d + 0.5*e)\n",
    "}"
   ]
  },
  {
   "cell_type": "code",
   "execution_count": null,
   "id": "03f460a5",
   "metadata": {},
   "outputs": [],
   "source": [
    "group = parent.add_subsystem('group{}'.format(counter), \n",
    "        om.Group(), promotes=['*'])\n",
    "cmp = Impcomp(output_names=['a','x'], equations=eqs(3,4))\n",
    "parent.add_subsystem(\"eq{}\".format(eqn), cmp)\n",
    "cmp = Expcomp(output_name='b', equations=eq(0))\n",
    "parent.add_subsystem(\"eq{}\".format(eqn), cmp)\n",
    "group = parent.add_subsystem('group{}'.format(counter), \n",
    "        om.Group(), promotes=['*'])\n",
    "cmp = Impcomp(output_names=['c','d'], equations=eqs(1,2))"
   ]
  },
  {
   "cell_type": "code",
   "execution_count": null,
   "id": "542ee456",
   "metadata": {},
   "outputs": [],
   "source": [
    "prob = om.Problem()\n",
    "g = prob.add\n",
    "bal = om.BalanceComp()\n",
    "\n",
    "bal.add_balance('c', val=1.0)\n",
    "bal.add_balance('d', val=1.0)\n",
    "prob.model.add_subsystem(name='balance', subsys=bal, promotes=['*'])\n",
    "\n",
    "for eqn in [2,3]:\n",
    "    parent.add_subsystem(\"eq{}\".format(eqn), Expcomp(\n",
    "                            output_name='r{}'.format(eqn),\n",
    "                            equation=equationcreator(right-left),\n",
    "                            debug=debug), \n",
    "                            promotes=['*'])\n",
    "prob.model.connect('exec.y', 'balance.lhs:x')\n",
    "prob.model.linear_solver = om.DirectSolver()\n",
    "prob.model.nonlinear_solver = om.NewtonSolver(solve_subsystems=False)\n",
    "prob.setup()\n",
    "prob.set_val('exec.x', 2)\n",
    "prob.run_model()"
   ]
  }
 ],
 "metadata": {
  "kernelspec": {
   "display_name": "minimdo",
   "language": "python",
   "name": "python3"
  },
  "language_info": {
   "codemirror_mode": {
    "name": "ipython",
    "version": 3
   },
   "file_extension": ".py",
   "mimetype": "text/x-python",
   "name": "python",
   "nbconvert_exporter": "python",
   "pygments_lexer": "ipython3",
   "version": "3.9.18"
  }
 },
 "nbformat": 4,
 "nbformat_minor": 5
}
