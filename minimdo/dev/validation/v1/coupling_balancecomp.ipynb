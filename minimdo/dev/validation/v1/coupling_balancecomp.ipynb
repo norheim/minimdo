{
 "cells": [
  {
   "cell_type": "code",
   "execution_count": 1,
   "id": "8e84a7df",
   "metadata": {},
   "outputs": [],
   "source": [
    "import openmdao.api as om\n",
    "from src.v1.symbolic import Var, Par\n",
    "from src.v1.execution import Evaluable\n",
    "from src.v1.mdaobuild import Expcomp"
   ]
  },
  {
   "cell_type": "code",
   "execution_count": 2,
   "id": "aebf5abe",
   "metadata": {},
   "outputs": [],
   "source": [
    "p = Par('p', 0.1)\n",
    "b,c,d = Var('b'), Var('c'), Var('d')\n",
    "eqs = {\n",
    "    2: (c, p*d+20+0.5*b), # c is an output that depends on d\n",
    "    3: (d, c - 10),       # d is an output that depends on c\n",
    "}"
   ]
  },
  {
   "cell_type": "code",
   "execution_count": 4,
   "id": "44d20d48",
   "metadata": {},
   "outputs": [
    {
     "name": "stdout",
     "output_type": "stream",
     "text": [
      "NL: Newton Converged in 1 iterations\n",
      "c = [20.44444444]\n",
      "d = [9.44444444]\n"
     ]
    }
   ],
   "source": [
    "prob = om.Problem()\n",
    "model = prob.model\n",
    "\n",
    "bal = om.BalanceComp()\n",
    "bal.add_balance('c', val=1.0, rhs_name=f'rhs_c')\n",
    "bal.add_balance('d', val=1.0, rhs_name=f'rhs_d')\n",
    "model.add_subsystem(name='balance', subsys=bal, promotes=['*'])\n",
    "\n",
    "# Add the equation components to the main model\n",
    "for eqn in [2,3]:\n",
    "    (var, rhs_expr) = eqs[eqn]\n",
    "    model.add_subsystem(\n",
    "        f'rhs_{var}_comp',\n",
    "        Expcomp(\n",
    "            output_name=f'rhs_{var}',\n",
    "            equation=Evaluable.fromsympy(rhs_expr-var),\n",
    "            debug=False\n",
    "        ),\n",
    "        promotes=['*']\n",
    "    )\n",
    "\n",
    "# Solvers\n",
    "model.nonlinear_solver = om.NewtonSolver(solve_subsystems=False)\n",
    "model.linear_solver = om.DirectSolver()\n",
    "prob.setup()\n",
    "\n",
    "# # Set parameter value\n",
    "prob.set_val('p', 0.1)\n",
    "\n",
    "prob.run_model()\n",
    "print(f\"c = {prob.get_val('c')}\")\n",
    "print(f\"d = {prob.get_val('d')}\")"
   ]
  },
  {
   "cell_type": "code",
   "execution_count": null,
   "id": "ff8bb9bd",
   "metadata": {},
   "outputs": [],
   "source": []
  }
 ],
 "metadata": {
  "kernelspec": {
   "display_name": "minimdo",
   "language": "python",
   "name": "python3"
  },
  "language_info": {
   "codemirror_mode": {
    "name": "ipython",
    "version": 3
   },
   "file_extension": ".py",
   "mimetype": "text/x-python",
   "name": "python",
   "nbconvert_exporter": "python",
   "pygments_lexer": "ipython3",
   "version": "3.9.18"
  }
 },
 "nbformat": 4,
 "nbformat_minor": 5
}
