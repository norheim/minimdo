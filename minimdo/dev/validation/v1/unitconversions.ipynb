{
 "cells": [
  {
   "cell_type": "code",
   "execution_count": null,
   "id": "046d570a",
   "metadata": {
    "execution": {
     "iopub.execute_input": "2021-09-22T18:22:44.773946Z",
     "iopub.status.busy": "2021-09-22T18:22:44.772946Z",
     "iopub.status.idle": "2021-09-22T18:22:44.797941Z",
     "shell.execute_reply": "2021-09-22T18:22:44.796937Z",
     "shell.execute_reply.started": "2021-09-22T18:22:44.773946Z"
    }
   },
   "outputs": [],
   "source": [
    "from src.v1.symbolic import Var, Par, ureg\n",
    "from src.v1.execution import Evaluable, eqvar, anp\n",
    "import sympy as sp\n",
    "import numpy as np"
   ]
  },
  {
   "cell_type": "code",
   "execution_count": null,
   "id": "2f2ee133",
   "metadata": {},
   "outputs": [
    {
     "data": {
      "text/plain": [
       "(1 <Unit('kilometer')>, None, p0 + p1)"
      ]
     },
     "execution_count": 3,
     "metadata": {},
     "output_type": "execute_result"
    }
   ],
   "source": [
    "p1, p2 = Par(1, 'km'), Par()\n",
    "p1.varunit, p2.varval, p1+p2"
   ]
  },
  {
   "cell_type": "markdown",
   "id": "2893a082",
   "metadata": {},
   "source": [
    "# Trig functions"
   ]
  },
  {
   "cell_type": "code",
   "execution_count": 3,
   "id": "4a87814f",
   "metadata": {
    "execution": {
     "iopub.execute_input": "2021-09-22T18:24:03.240466Z",
     "iopub.status.busy": "2021-09-22T18:24:03.240466Z",
     "iopub.status.idle": "2021-09-22T18:24:03.248468Z",
     "shell.execute_reply": "2021-09-22T18:24:03.247466Z",
     "shell.execute_reply.started": "2021-09-22T18:24:03.240466Z"
    }
   },
   "outputs": [],
   "source": [
    "t = Par('t', 10, unit='') \n",
    "R = Par('R', 10, unit='km')\n",
    "a = Par('a', 10, unit='km')\n",
    "g, eq2 = eqvar('g', 1/np.pi*sp.acos(R/a))"
   ]
  },
  {
   "cell_type": "markdown",
   "id": "d1284662",
   "metadata": {},
   "source": [
    "# units"
   ]
  },
  {
   "cell_type": "code",
   "execution_count": 4,
   "id": "555299df",
   "metadata": {
    "execution": {
     "iopub.execute_input": "2021-09-22T18:22:46.523216Z",
     "iopub.status.busy": "2021-09-22T18:22:46.523216Z",
     "iopub.status.idle": "2021-09-22T18:22:46.530214Z",
     "shell.execute_reply": "2021-09-22T18:22:46.529215Z",
     "shell.execute_reply.started": "2021-09-22T18:22:46.523216Z"
    }
   },
   "outputs": [],
   "source": [
    "g = Par('g', 10, unit='m/s**2') \n",
    "m = Var('m', 120, unit='kg') "
   ]
  },
  {
   "cell_type": "code",
   "execution_count": 5,
   "id": "aeb814f5",
   "metadata": {
    "execution": {
     "iopub.execute_input": "2021-09-22T18:22:47.612591Z",
     "iopub.status.busy": "2021-09-22T18:22:47.612591Z",
     "iopub.status.idle": "2021-09-22T18:22:47.655926Z",
     "shell.execute_reply": "2021-09-22T18:22:47.654966Z",
     "shell.execute_reply.started": "2021-09-22T18:22:47.612591Z"
    }
   },
   "outputs": [
    {
     "data": {
      "text/plain": [
       "98.10000000000001"
      ]
     },
     "execution_count": 5,
     "metadata": {},
     "output_type": "execute_result"
    }
   ],
   "source": [
    "sp.lambdify([m,g], m*g, anp)(10, 9.81)"
   ]
  },
  {
   "cell_type": "code",
   "execution_count": 6,
   "id": "0d91690f",
   "metadata": {},
   "outputs": [
    {
     "data": {
      "text/html": [
       "0.000130718954248366 meter<sup>3</sup>"
      ],
      "text/latex": [
       "$0.000130718954248366\\ \\mathrm{meter}^{3}$"
      ],
      "text/plain": [
       "0.000130718954248366 <Unit('meter ** 3')>"
      ]
     },
     "execution_count": 6,
     "metadata": {},
     "output_type": "execute_result"
    }
   ],
   "source": [
    "Cq = (20*ureg('W*hr')/(0.4*1*0.85)).to('kW*hr')\n",
    "Cq/(450*ureg('kW*hr/(m**3)'))"
   ]
  },
  {
   "cell_type": "markdown",
   "id": "0d7a0560",
   "metadata": {},
   "source": [
    "## Evaluable"
   ]
  },
  {
   "cell_type": "code",
   "execution_count": 7,
   "id": "ffbbae4e",
   "metadata": {
    "execution": {
     "iopub.execute_input": "2021-07-21T09:08:49.273568Z",
     "iopub.status.busy": "2021-07-21T09:08:49.272568Z",
     "iopub.status.idle": "2021-07-21T09:08:49.295564Z",
     "shell.execute_reply": "2021-07-21T09:08:49.294562Z",
     "shell.execute_reply.started": "2021-07-21T09:08:49.273568Z"
    }
   },
   "outputs": [],
   "source": [
    "ev = Evaluable.fromsympy(m*g)"
   ]
  },
  {
   "cell_type": "code",
   "execution_count": 8,
   "id": "bdb377ae",
   "metadata": {
    "execution": {
     "iopub.execute_input": "2021-07-21T09:08:49.679562Z",
     "iopub.status.busy": "2021-07-21T09:08:49.679562Z",
     "iopub.status.idle": "2021-07-21T09:08:49.693562Z",
     "shell.execute_reply": "2021-07-21T09:08:49.692567Z",
     "shell.execute_reply.started": "2021-07-21T09:08:49.679562Z"
    }
   },
   "outputs": [
    {
     "name": "stdout",
     "output_type": "stream",
     "text": [
      "981.0\n",
      "2000\n",
      "1200\n"
     ]
    }
   ],
   "source": [
    "print(ev.fx(100, 9.81)) # here we have to re-enter values for all numbers\n",
    "print(ev.fx(200, partial='always_input')) # it plugs in the values for variables with never_output = True\n",
    "print(ev.fx(partial='varval'))"
   ]
  },
  {
   "cell_type": "code",
   "execution_count": 9,
   "id": "57a4ebe9",
   "metadata": {
    "execution": {
     "iopub.execute_input": "2021-07-21T09:08:50.202568Z",
     "iopub.status.busy": "2021-07-21T09:08:50.201564Z",
     "iopub.status.idle": "2021-07-21T09:08:50.214564Z",
     "shell.execute_reply": "2021-07-21T09:08:50.212562Z",
     "shell.execute_reply.started": "2021-07-21T09:08:50.202568Z"
    }
   },
   "outputs": [],
   "source": [
    "F, eq1 = eqvar('F', m*g, 'mN')"
   ]
  }
 ],
 "metadata": {
  "kernelspec": {
   "display_name": "minimdo",
   "language": "python",
   "name": "python3"
  },
  "language_info": {
   "codemirror_mode": {
    "name": "ipython",
    "version": 3
   },
   "file_extension": ".py",
   "mimetype": "text/x-python",
   "name": "python",
   "nbconvert_exporter": "python",
   "pygments_lexer": "ipython3",
   "version": "3.9.18"
  }
 },
 "nbformat": 4,
 "nbformat_minor": 5
}
