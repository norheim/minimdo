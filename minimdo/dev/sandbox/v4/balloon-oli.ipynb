{
 "cells": [
  {
   "cell_type": "code",
   "execution_count": 1,
   "metadata": {},
   "outputs": [],
   "source": [
    "from foundations.projectables import SympyProjectable\n",
    "from foundations.projectables import ProjectableModel\n",
    "from modeling.arghandling import EncodedFunction, Encoder\n",
    "from modeling.compute import create_vars\n",
    "import numpy as np\n",
    "from pint import UnitRegistry"
   ]
  },
  {
   "cell_type": "code",
   "execution_count": 2,
   "metadata": {},
   "outputs": [],
   "source": [
    "ureg = UnitRegistry()\n",
    "z_table = np.array([0, 1, 2, 3, 4, 5, 6, 7, 8, 9, 10, 15, 20, 25, 30, 40])*1e3\n",
    "T_table_celsius = np.array([15, 8.5,2,-4.49,-10.98,-17.47,-23.96,-30.45,-36.94,-43.42,-49.9,-56.5,-56.5,-51.6,-46.64,-22.8])\n",
    "T_table = ureg.Quantity(T_table_celsius, 'degC').to('K').magnitude\n",
    "G_table = np.array([9.807,9.804,9.801,9.797,9.794,9.791,9.788,9.785,9.782,9.779,9.776,9.761,9.745,9.73,9.715,9.684])\n",
    "P_table = np.array([10.13,8.988,7.95,7.012,6.166,5.405,4.722,4.111,3.565,3.08,2.65,1.211,0.5529,0.2549,0.1197,0.0287])*1e4\n",
    "rho_table = np.array([1.225,1.112,1.007,0.9093,0.8194,0.7364,0.6601,0.59,0.5258,0.4671,0.4135,0.1948,0.08891,0.04008,0.01841,0.003996])\n",
    "\n",
    "Tinterp = lambda x: (np.interp(x, z_table, T_table),)\n",
    "Ginterp = lambda x: (np.interp(x, z_table, G_table),)\n",
    "Pinterp = lambda x: (np.interp(x, z_table, P_table),)\n",
    "rhointerp = lambda x: (np.interp(x, z_table, rho_table),)"
   ]
  },
  {
   "cell_type": "code",
   "execution_count": 3,
   "metadata": {},
   "outputs": [],
   "source": [
    "k, R, RHe, p, C_D, G0 = (1.38e-23, 8.314, 2077.1, 8/5, 0.47, 9.81)\n",
    "mm_He, mm_H2, rho_He, rho_H2 = (6.65e-27, 3.35e-27, 0.1786, 0.0899)\n",
    "rho0 = rhointerp(0)\n",
    "alpha, vr, m_vhc, m_parafoil = (1, 6, 4545, 500)\n",
    "z, m_b, Vc = create_vars('z m_b V_c')"
   ]
  },
  {
   "cell_type": "code",
   "execution_count": 4,
   "metadata": {},
   "outputs": [],
   "source": [
    "Balloon = ProjectableModel()\n",
    "pz = Balloon.VarRaw('p_z', EncodedFunction(Pinterp, Encoder((z,))))\n",
    "Tz = Balloon.VarRaw('T_z', EncodedFunction(Tinterp, Encoder((z,))))\n",
    "\n",
    "rhoz = Balloon.Var(r'\\rhoz', pz/(R*Tz))\n",
    "\n",
    "# density of lifting gas at max altitude z\n",
    "rho_LGz = Balloon.Var(r'\\rho_{LGz}', pz*(alpha*mm_He+(1-alpha)*mm_H2)/(k*Tz))\n",
    "m_t = Balloon.Var('m_t', m_vhc+m_parafoil+m_b)\n",
    "Vz = Balloon.Var('V_z', m_t/(rhoz-rho_LGz)) # how much can we fit?\n",
    "rz = Balloon.Var('r_z', (Vz/(2*np.pi))**(1/3)) # how big is the balloon?\n",
    "hz =  Balloon.Var('h_z', 2*(3/2)*rz) # how tall is the balloon?\n",
    "m_lg = Balloon.Var('m_{lg}', Vz*rho_LGz) # how much lifting gas do we need?\n",
    "\n",
    "rho_LG0 = Balloon.Var(r'\\rho_{LG0}', alpha*rho_He+(1-alpha)*rho_H2) # technically a parameter\n",
    "VLG = Balloon.Var('V_{LG}', m_lg/rho_LG0) #volume of lifting gas should be at sea level\n",
    "\n",
    "# V0 = Balloon.Var('V_0', m_t/rho0)  # based on buoyancy; should be m_t/(rho0-rho_LG0)\n",
    "# #r0 = Balloon.Var('r_0', (3*V0/(4*np.pi))**(1/3))\n",
    "\n",
    "# rc = Balloon.Var('r_c', (3*Vc/(4*np.pi))**(1/3))\n",
    "# ce = Balloon.Var('c_e', 3*C_D*vr**2/(8*rc*G0)) \n",
    "# Balloon.add_equation(Vc, m_t/(rho0*(1-ce)-rho_LG0)) # volume of LG required for raise speed vr\n",
    "\n",
    "\n",
    "\n",
    "# m_lg0 = Balloon.Var('m_{lg0}', Vc*rho_LG0)\n",
    "# S = Balloon.Var('S', 4*np.pi*(((rz**2)**p\n",
    "#                                +2*abs(rz)**p*(abs(hz)/2)**p)/3)**(1/p))\n",
    "\n",
    "# m_l = Balloon.VarRaw('m_l', EncodedFunction(\n",
    "#     lambda ml1, ml2: max(ml1,ml2), Encoder(m_lg,m_lg0)))\n",
    "# Vc2 = Balloon.Var('V_{c2}', 4/3*np.pi*rc**3) "
   ]
  },
  {
   "cell_type": "code",
   "execution_count": 5,
   "metadata": {},
   "outputs": [
    {
     "data": {
      "text/plain": [
       "{p_z: 26500.0,\n",
       " T_z: 223.24999999999997,\n",
       " \\rhoz: 14.277244147070741,\n",
       " \\rho_{LGz}: 0.05720012334258398,\n",
       " m_t: 5145,\n",
       " V_z: 361.81322585322795,\n",
       " r_z: 3.8616080392081633,\n",
       " h_z: 11.584824117624489,\n",
       " m_{lg}: 20.695761145782832,\n",
       " \\rho_{LG0}: 0.1786,\n",
       " V_{LG}: 115.87772198086691}"
      ]
     },
     "execution_count": 5,
     "metadata": {},
     "output_type": "execute_result"
    }
   ],
   "source": [
    "Balloon.functional().dict_in_dict_out({z: 10e3, m_b:100})"
   ]
  },
  {
   "cell_type": "code",
   "execution_count": null,
   "metadata": {},
   "outputs": [],
   "source": [
    "model = Model()\n",
    "m = model.root\n",
    "#m = addsolver(r)\n",
    "m_b = Var('m_b', unit='kg')\n",
    "m_t = Var('m_t', unit='kg')\n",
    "\n",
    "rho_He = Par('\\\\rho_{He}', 0.1786, 'kg/m^3')\n",
    "rho_H2 = Par('\\\\rho_{H2}', 0.08988, 'kg/m^3')\n",
    "rho_LG0 = adda(m, '\\\\rho_{LG0}', alpha*rho_He+(1-alpha)*rho_H2)\n",
    "VLG = adda(m, 'V_{LG}', m_lg/rho_LG0)\n",
    "RHe = Par('R_{He}', 2077.1, 'J/kg/K')\n",
    "T0 = Par('T_0', Tinterp(0), 'K')\n",
    "P0 = Par('P_0', Pinterp(0), 'Pa')\n",
    "rho0 = Par('\\\\rho_0', ρinterp(0), 'kg/m^3')\n",
    "V0 = adda(m, 'V_0', m_t/(rho0-rho_LG0)) #fixed from P0/(RHe*T0) which is used in the model\n",
    "r0 = adda(m, 'r_0', (3*V0/(4*np.pi))**(1/3), unit='m', forceunit=True)\n",
    "rc = Var('r_c', unit='m')\n",
    "C_D = Par('C_D', 0.47)\n",
    "vr = Par('v', 6, 'm/s')\n",
    "G0 = Par('G_0', Ginterp(0), 'm/s^2')\n",
    "ce = adda(m, 'c_e', 3*C_D*vr**2/(8*rc*G0)) \n",
    "Vc = adda(m, 'V_c', m_t/(rho0*(1-ce)-rho_LG0)) # this is where the loop gets introduced with respect to volume\n",
    "m_lg0 = adda(m, 'm_{lg0}', Vc*rho_LG0)\n",
    "m_l = adda(m, 'm_l', lambda ml1, ml2: max(ml1,ml2), (m_lg,m_lg0))\n",
    "Vc2 = adda(m, 'V_{c2}', 4/3*np.pi*rc**3) \n",
    "addf(m, Vc2-Vc)\n",
    "setsolvefor(m, [rc])\n",
    "t_LLDPE = Par('tL', 25.4e-6*1, 'm')\n",
    "rho_LLDPE = Par('rhoL', 925, 'kg/m^3')\n",
    "addf(m, m_b-2*(3/2)*S*t_LLDPE*rho_LLDPE)\n",
    "setsolvefor(m, [m_b])\n",
    "m_lgc = adda(m, 'm_lgc', m_lg*(Vc/VLG+m_b/m_t))\n",
    "adda(m, 'V_{LGc}', m_lg0/rho_LG0);"
   ]
  }
 ],
 "metadata": {
  "kernelspec": {
   "display_name": "minimdo",
   "language": "python",
   "name": "python3"
  },
  "language_info": {
   "codemirror_mode": {
    "name": "ipython",
    "version": 3
   },
   "file_extension": ".py",
   "mimetype": "text/x-python",
   "name": "python",
   "nbconvert_exporter": "python",
   "pygments_lexer": "ipython3",
   "version": "3.9.12"
  },
  "orig_nbformat": 4
 },
 "nbformat": 4,
 "nbformat_minor": 2
}
