{
 "cells": [
  {
   "cell_type": "markdown",
   "metadata": {},
   "source": [
    "# Projectable set"
   ]
  },
  {
   "cell_type": "code",
   "execution_count": null,
   "metadata": {},
   "outputs": [],
   "source": [
    "from src.v1.symbolic import Var\n",
    "from src.v2.transformations import flatten_component\n",
    "from src.v2.execution import Component\n",
    "from src.v4.problem import Subproblem, intersection\n",
    "from src.v4.functionalsets import ResidualSet\n",
    "from src.v4.functionalsets import EliminationSet\n",
    "from src.v4.functionalsets import EliminationKeepSet\n",
    "from src.v4.functionalsets import Functional\n",
    "from src.v4.functionalsets import DefaultResidualSolver\n",
    "from src.v4.functionalsets import FeedForwardSolver\n",
    "from src.v4.functionalsets import FunctionalComp\n",
    "import numpy as np"
   ]
  },
  {
   "cell_type": "code",
   "execution_count": 2,
   "metadata": {},
   "outputs": [],
   "source": [
    "x_1, x_2, x_3, x_4, x_5 = Var('x_1'), Var('x_2'), Var('x_3'), Var('x_4'), Var('x_5')\n",
    "# residuals:\n",
    "#x_1**3 + x_2**3 + x_3**3-3, x_1*x_2*x_3*x_5 - 1\n",
    "eq1 = Component.fromsympy(x_2**2 + x_3**2-2, arg_mapping=True) \n",
    "eq2 = Component.fromsympy(x_2*x_3*x_5 - 1, arg_mapping=True)\n",
    "S1 = ResidualSet([eq1, eq2])"
   ]
  },
  {
   "cell_type": "markdown",
   "metadata": {},
   "source": [
    "## Transform to functional"
   ]
  },
  {
   "cell_type": "code",
   "execution_count": 3,
   "metadata": {},
   "outputs": [],
   "source": [
    "projected = (x_5,)\n",
    "F1 = S1.project(projected)\n",
    "solver = F1.solver = DefaultResidualSolver(F1) # uses the residual representation\n",
    "\n",
    "# Alternative 1\n",
    "F_eq2_x2 = ResidualSet([eq2]).project((x_3, x_5))\n",
    "F_eq1_x3 = EliminationSet([eq1], eliminate=F_eq2_x2).project()\n",
    "F_elim = EliminationKeepSet([eq1], eliminate=F_eq2_x2).project((x_5,))\n",
    "# Alternative 2\n",
    "# Sometimes this will be equivalent to DefaultResidualSolver, but not always\n",
    "# F1.solver = CoupledSolver(F_eq1.solve, F_eq2.solve) "
   ]
  },
  {
   "cell_type": "code",
   "execution_count": 4,
   "metadata": {},
   "outputs": [
    {
     "data": {
      "text/plain": [
       "{x_2: 0.36602540378443865, x_3: 1.3660254037844386}"
      ]
     },
     "execution_count": 4,
     "metadata": {},
     "output_type": "execute_result"
    }
   ],
   "source": [
    "F_elim.solve({x_5: 2})"
   ]
  },
  {
   "cell_type": "code",
   "execution_count": 5,
   "metadata": {},
   "outputs": [],
   "source": [
    "F_eq2_x2.solve({x_3:1, x_5:2})\n",
    "# TODO : make this work\n",
    "out1 = F_eq1_x3.solve({x_5: 2})"
   ]
  },
  {
   "cell_type": "code",
   "execution_count": 6,
   "metadata": {},
   "outputs": [
    {
     "data": {
      "text/plain": [
       "{x_3: 0.366025403784429, x_2: 1.3660254037844746}"
      ]
     },
     "execution_count": 6,
     "metadata": {},
     "output_type": "execute_result"
    }
   ],
   "source": [
    "out2 = F_eq2_x2.solve({**out1, x_5:2})\n",
    "{**out1, **out2}"
   ]
  },
  {
   "cell_type": "code",
   "execution_count": 7,
   "metadata": {},
   "outputs": [
    {
     "data": {
      "text/plain": [
       "(x_2, x_3)"
      ]
     },
     "execution_count": 7,
     "metadata": {},
     "output_type": "execute_result"
    }
   ],
   "source": [
    "F1.independent"
   ]
  },
  {
   "cell_type": "code",
   "execution_count": 8,
   "metadata": {},
   "outputs": [
    {
     "data": {
      "text/plain": [
       "array([-2, -1])"
      ]
     },
     "execution_count": 8,
     "metadata": {},
     "output_type": "execute_result"
    }
   ],
   "source": [
    "y1 = {x_1:1, x_4:1, x_5:2}\n",
    "rescalc = solver.generate_residual_vector(y1) \n",
    "rescalc(np.array([0, 0]))"
   ]
  },
  {
   "cell_type": "code",
   "execution_count": 9,
   "metadata": {},
   "outputs": [],
   "source": [
    "out = solver.solve(y1)"
   ]
  },
  {
   "cell_type": "code",
   "execution_count": 10,
   "metadata": {},
   "outputs": [
    {
     "data": {
      "text/plain": [
       "{x_2: 0.3660254037843778, x_3: 1.3660254037845079}"
      ]
     },
     "execution_count": 10,
     "metadata": {},
     "output_type": "execute_result"
    }
   ],
   "source": [
    "out"
   ]
  },
  {
   "cell_type": "code",
   "execution_count": 11,
   "metadata": {},
   "outputs": [
    {
     "data": {
      "text/plain": [
       "array([ 1.44773082e-13, -1.15574217e-13])"
      ]
     },
     "execution_count": 11,
     "metadata": {},
     "output_type": "execute_result"
    }
   ],
   "source": [
    "solver.generate_residual(y1)(out)"
   ]
  },
  {
   "cell_type": "markdown",
   "metadata": {},
   "source": [
    "## And a raw functional"
   ]
  },
  {
   "cell_type": "code",
   "execution_count": 12,
   "metadata": {},
   "outputs": [],
   "source": [
    "def black_box(x3, x2,x5):\n",
    "    x1 = (x3**2+x2**2+1)**0.5\n",
    "    x4 = 10+x2+x3-x1-x5\n",
    "    return x1, x4\n",
    "eq3 = Component(black_box, (x_3,x_2,x_5), (x_1,x_4), arg_mapping=True)\n",
    "F2 = FunctionalComp(eq3)\n",
    "#F2.add_component(residual)"
   ]
  },
  {
   "cell_type": "code",
   "execution_count": 13,
   "metadata": {},
   "outputs": [],
   "source": [
    "y2 = {x_3: 1, x_2: 1, x_5:2}\n",
    "out = F2.solve(y2)"
   ]
  },
  {
   "cell_type": "code",
   "execution_count": 14,
   "metadata": {},
   "outputs": [
    {
     "data": {
      "text/plain": [
       "{x_1: 1.7320508075688772, x_4: 8.267949192431123}"
      ]
     },
     "execution_count": 14,
     "metadata": {},
     "output_type": "execute_result"
    }
   ],
   "source": [
    "out"
   ]
  },
  {
   "cell_type": "markdown",
   "metadata": {},
   "source": [
    "### What if we turned the black box into a residual and solve the residual?"
   ]
  },
  {
   "cell_type": "code",
   "execution_count": 15,
   "metadata": {},
   "outputs": [],
   "source": [
    "residual = flatten_component(eq3)\n",
    "projectable = ResidualSet([residual])"
   ]
  },
  {
   "cell_type": "code",
   "execution_count": 16,
   "metadata": {},
   "outputs": [
    {
     "data": {
      "text/plain": [
       "[DeviceArray([0., 0.], dtype=float64, weak_type=True)]"
      ]
     },
     "execution_count": 16,
     "metadata": {},
     "output_type": "execute_result"
    }
   ],
   "source": [
    "residual.evaldict({**out, **y2})"
   ]
  },
  {
   "cell_type": "code",
   "execution_count": 17,
   "metadata": {},
   "outputs": [],
   "source": [
    "F2worse_solve = projectable.project((x_3,x_2,x_5))"
   ]
  },
  {
   "cell_type": "code",
   "execution_count": 18,
   "metadata": {},
   "outputs": [
    {
     "data": {
      "text/plain": [
       "{x_1: 1.7320508075688772, x_4: 8.267949192431123}"
      ]
     },
     "execution_count": 18,
     "metadata": {},
     "output_type": "execute_result"
    }
   ],
   "source": [
    "F2worse_solve.solve({**y2, x_1:0.5, x_4:1.37})"
   ]
  },
  {
   "cell_type": "markdown",
   "metadata": {},
   "source": [
    "# Merging sets"
   ]
  },
  {
   "cell_type": "code",
   "execution_count": 19,
   "metadata": {},
   "outputs": [],
   "source": [
    "# Merging components:\n",
    "S3 = S1.merge(F2.projectable)\n",
    "F3 = S3.project((x_5,))"
   ]
  },
  {
   "cell_type": "code",
   "execution_count": 20,
   "metadata": {},
   "outputs": [],
   "source": [
    "y3 = {x_5:2}"
   ]
  },
  {
   "cell_type": "code",
   "execution_count": 21,
   "metadata": {},
   "outputs": [
    {
     "ename": "ValueError",
     "evalue": "all the input arrays must have same number of dimensions, but the array at index 0 has 1 dimension(s) and the array at index 2 has 2 dimension(s)",
     "output_type": "error",
     "traceback": [
      "\u001b[1;31m---------------------------------------------------------------------------\u001b[0m",
      "\u001b[1;31mValueError\u001b[0m                                Traceback (most recent call last)",
      "Input \u001b[1;32mIn [21]\u001b[0m, in \u001b[0;36m<cell line: 1>\u001b[1;34m()\u001b[0m\n\u001b[1;32m----> 1\u001b[0m out \u001b[38;5;241m=\u001b[39m \u001b[43mF3\u001b[49m\u001b[38;5;241;43m.\u001b[39;49m\u001b[43msolve\u001b[49m\u001b[43m(\u001b[49m\u001b[43my3\u001b[49m\u001b[43m)\u001b[49m\n",
      "File \u001b[1;32mc:\\Users\\johan\\github\\minimdo\\minimdo\\engine\\foundations\\functionalsets.py:93\u001b[0m, in \u001b[0;36mFunctional.solve\u001b[1;34m(self, local_dict)\u001b[0m\n\u001b[0;32m     91\u001b[0m input_dict \u001b[38;5;241m=\u001b[39m \u001b[38;5;28mself\u001b[39m\u001b[38;5;241m.\u001b[39mfilter_to_projected(local_dict)\n\u001b[0;32m     92\u001b[0m input_dict\u001b[38;5;241m.\u001b[39mupdate(\u001b[38;5;28mself\u001b[39m\u001b[38;5;241m.\u001b[39mprojected_fixed)\n\u001b[1;32m---> 93\u001b[0m out_dict \u001b[38;5;241m=\u001b[39m \u001b[38;5;28;43mself\u001b[39;49m\u001b[38;5;241;43m.\u001b[39;49m\u001b[43msolver\u001b[49m\u001b[38;5;241;43m.\u001b[39;49m\u001b[43msolve\u001b[49m\u001b[43m(\u001b[49m\u001b[43minput_dict\u001b[49m\u001b[43m)\u001b[49m \u001b[38;5;66;03m#returns a dictionary\u001b[39;00m\n\u001b[0;32m     94\u001b[0m \u001b[38;5;28;01mreturn\u001b[39;00m {var:out_dict[var] \u001b[38;5;28;01mfor\u001b[39;00m var \u001b[38;5;129;01min\u001b[39;00m \u001b[38;5;28mself\u001b[39m\u001b[38;5;241m.\u001b[39mindependent}\n",
      "File \u001b[1;32mc:\\Users\\johan\\github\\minimdo\\minimdo\\engine\\foundations\\functionalsets.py:57\u001b[0m, in \u001b[0;36mDefaultResidualSolver.solve\u001b[1;34m(self, input_dict)\u001b[0m\n\u001b[0;32m     55\u001b[0m x_initial \u001b[38;5;241m=\u001b[39m np\u001b[38;5;241m.\u001b[39mconcatenate(\u001b[38;5;28mlist\u001b[39m(x_init))\n\u001b[0;32m     56\u001b[0m res_function \u001b[38;5;241m=\u001b[39m \u001b[38;5;28mself\u001b[39m\u001b[38;5;241m.\u001b[39mgenerate_residual_vector(input_dict)\n\u001b[1;32m---> 57\u001b[0m x_root \u001b[38;5;241m=\u001b[39m \u001b[43mfsolve\u001b[49m\u001b[43m(\u001b[49m\u001b[43mres_function\u001b[49m\u001b[43m,\u001b[49m\u001b[43m \u001b[49m\u001b[43mx_initial\u001b[49m\u001b[43m)\u001b[49m\n\u001b[0;32m     58\u001b[0m \u001b[38;5;28;01mreturn\u001b[39;00m {var: x_root[idx] \u001b[38;5;28;01mfor\u001b[39;00m idx, var \u001b[38;5;129;01min\u001b[39;00m \n\u001b[0;32m     59\u001b[0m                     \u001b[38;5;28menumerate\u001b[39m(functional\u001b[38;5;241m.\u001b[39mindependent)}\n",
      "File \u001b[1;32mc:\\Users\\johan\\miniconda3\\envs\\minimdo\\lib\\site-packages\\scipy\\optimize\\_minpack_py.py:163\u001b[0m, in \u001b[0;36mfsolve\u001b[1;34m(func, x0, args, fprime, full_output, col_deriv, xtol, maxfev, band, epsfcn, factor, diag)\u001b[0m\n\u001b[0;32m     51\u001b[0m \u001b[38;5;250m\u001b[39m\u001b[38;5;124;03m\"\"\"\u001b[39;00m\n\u001b[0;32m     52\u001b[0m \u001b[38;5;124;03mFind the roots of a function.\u001b[39;00m\n\u001b[0;32m     53\u001b[0m \n\u001b[1;32m   (...)\u001b[0m\n\u001b[0;32m    153\u001b[0m \n\u001b[0;32m    154\u001b[0m \u001b[38;5;124;03m\"\"\"\u001b[39;00m\n\u001b[0;32m    155\u001b[0m options \u001b[38;5;241m=\u001b[39m {\u001b[38;5;124m'\u001b[39m\u001b[38;5;124mcol_deriv\u001b[39m\u001b[38;5;124m'\u001b[39m: col_deriv,\n\u001b[0;32m    156\u001b[0m            \u001b[38;5;124m'\u001b[39m\u001b[38;5;124mxtol\u001b[39m\u001b[38;5;124m'\u001b[39m: xtol,\n\u001b[0;32m    157\u001b[0m            \u001b[38;5;124m'\u001b[39m\u001b[38;5;124mmaxfev\u001b[39m\u001b[38;5;124m'\u001b[39m: maxfev,\n\u001b[1;32m   (...)\u001b[0m\n\u001b[0;32m    160\u001b[0m            \u001b[38;5;124m'\u001b[39m\u001b[38;5;124mfactor\u001b[39m\u001b[38;5;124m'\u001b[39m: factor,\n\u001b[0;32m    161\u001b[0m            \u001b[38;5;124m'\u001b[39m\u001b[38;5;124mdiag\u001b[39m\u001b[38;5;124m'\u001b[39m: diag}\n\u001b[1;32m--> 163\u001b[0m res \u001b[38;5;241m=\u001b[39m _root_hybr(func, x0, args, jac\u001b[38;5;241m=\u001b[39mfprime, \u001b[38;5;241m*\u001b[39m\u001b[38;5;241m*\u001b[39moptions)\n\u001b[0;32m    164\u001b[0m \u001b[38;5;28;01mif\u001b[39;00m full_output:\n\u001b[0;32m    165\u001b[0m     x \u001b[38;5;241m=\u001b[39m res[\u001b[38;5;124m'\u001b[39m\u001b[38;5;124mx\u001b[39m\u001b[38;5;124m'\u001b[39m]\n",
      "File \u001b[1;32mc:\\Users\\johan\\miniconda3\\envs\\minimdo\\lib\\site-packages\\scipy\\optimize\\_minpack_py.py:229\u001b[0m, in \u001b[0;36m_root_hybr\u001b[1;34m(func, x0, args, jac, col_deriv, xtol, maxfev, band, eps, factor, diag, **unknown_options)\u001b[0m\n\u001b[0;32m    227\u001b[0m \u001b[38;5;28;01mif\u001b[39;00m \u001b[38;5;129;01mnot\u001b[39;00m \u001b[38;5;28misinstance\u001b[39m(args, \u001b[38;5;28mtuple\u001b[39m):\n\u001b[0;32m    228\u001b[0m     args \u001b[38;5;241m=\u001b[39m (args,)\n\u001b[1;32m--> 229\u001b[0m shape, dtype \u001b[38;5;241m=\u001b[39m \u001b[43m_check_func\u001b[49m\u001b[43m(\u001b[49m\u001b[38;5;124;43m'\u001b[39;49m\u001b[38;5;124;43mfsolve\u001b[39;49m\u001b[38;5;124;43m'\u001b[39;49m\u001b[43m,\u001b[49m\u001b[43m \u001b[49m\u001b[38;5;124;43m'\u001b[39;49m\u001b[38;5;124;43mfunc\u001b[39;49m\u001b[38;5;124;43m'\u001b[39;49m\u001b[43m,\u001b[49m\u001b[43m \u001b[49m\u001b[43mfunc\u001b[49m\u001b[43m,\u001b[49m\u001b[43m \u001b[49m\u001b[43mx0\u001b[49m\u001b[43m,\u001b[49m\u001b[43m \u001b[49m\u001b[43margs\u001b[49m\u001b[43m,\u001b[49m\u001b[43m \u001b[49m\u001b[43mn\u001b[49m\u001b[43m,\u001b[49m\u001b[43m \u001b[49m\u001b[43m(\u001b[49m\u001b[43mn\u001b[49m\u001b[43m,\u001b[49m\u001b[43m)\u001b[49m\u001b[43m)\u001b[49m\n\u001b[0;32m    230\u001b[0m \u001b[38;5;28;01mif\u001b[39;00m epsfcn \u001b[38;5;129;01mis\u001b[39;00m \u001b[38;5;28;01mNone\u001b[39;00m:\n\u001b[0;32m    231\u001b[0m     epsfcn \u001b[38;5;241m=\u001b[39m finfo(dtype)\u001b[38;5;241m.\u001b[39meps\n",
      "File \u001b[1;32mc:\\Users\\johan\\miniconda3\\envs\\minimdo\\lib\\site-packages\\scipy\\optimize\\_minpack_py.py:26\u001b[0m, in \u001b[0;36m_check_func\u001b[1;34m(checker, argname, thefunc, x0, args, numinputs, output_shape)\u001b[0m\n\u001b[0;32m     24\u001b[0m \u001b[38;5;28;01mdef\u001b[39;00m \u001b[38;5;21m_check_func\u001b[39m(checker, argname, thefunc, x0, args, numinputs,\n\u001b[0;32m     25\u001b[0m                 output_shape\u001b[38;5;241m=\u001b[39m\u001b[38;5;28;01mNone\u001b[39;00m):\n\u001b[1;32m---> 26\u001b[0m     res \u001b[38;5;241m=\u001b[39m atleast_1d(\u001b[43mthefunc\u001b[49m\u001b[43m(\u001b[49m\u001b[38;5;241;43m*\u001b[39;49m\u001b[43m(\u001b[49m\u001b[43m(\u001b[49m\u001b[43mx0\u001b[49m\u001b[43m[\u001b[49m\u001b[43m:\u001b[49m\u001b[43mnuminputs\u001b[49m\u001b[43m]\u001b[49m\u001b[43m,\u001b[49m\u001b[43m)\u001b[49m\u001b[43m \u001b[49m\u001b[38;5;241;43m+\u001b[39;49m\u001b[43m \u001b[49m\u001b[43margs\u001b[49m\u001b[43m)\u001b[49m\u001b[43m)\u001b[49m)\n\u001b[0;32m     27\u001b[0m     \u001b[38;5;28;01mif\u001b[39;00m (output_shape \u001b[38;5;129;01mis\u001b[39;00m \u001b[38;5;129;01mnot\u001b[39;00m \u001b[38;5;28;01mNone\u001b[39;00m) \u001b[38;5;129;01mand\u001b[39;00m (shape(res) \u001b[38;5;241m!=\u001b[39m output_shape):\n\u001b[0;32m     28\u001b[0m         \u001b[38;5;28;01mif\u001b[39;00m (output_shape[\u001b[38;5;241m0\u001b[39m] \u001b[38;5;241m!=\u001b[39m \u001b[38;5;241m1\u001b[39m):\n",
      "File \u001b[1;32mc:\\Users\\johan\\github\\minimdo\\minimdo\\engine\\foundations\\functionalsets.py:48\u001b[0m, in \u001b[0;36mDefaultResidualSolver.generate_residual_vector.<locals>.local_residual\u001b[1;34m(x)\u001b[0m\n\u001b[0;32m     45\u001b[0m \u001b[38;5;28;01mdef\u001b[39;00m \u001b[38;5;21mlocal_residual\u001b[39m(x):\n\u001b[0;32m     46\u001b[0m     x_dict \u001b[38;5;241m=\u001b[39m {var: x[idx] \u001b[38;5;28;01mfor\u001b[39;00m idx, var \u001b[38;5;129;01min\u001b[39;00m \n\u001b[0;32m     47\u001b[0m                     \u001b[38;5;28menumerate\u001b[39m(functional\u001b[38;5;241m.\u001b[39mindependent)}\n\u001b[1;32m---> 48\u001b[0m     \u001b[38;5;28;01mreturn\u001b[39;00m \u001b[43mresidual_function_dict\u001b[49m\u001b[43m(\u001b[49m\u001b[43mx_dict\u001b[49m\u001b[43m)\u001b[49m\n",
      "File \u001b[1;32mc:\\Users\\johan\\github\\minimdo\\minimdo\\engine\\foundations\\functionalsets.py:38\u001b[0m, in \u001b[0;36mDefaultResidualSolver.generate_residual.<locals>.local_residual\u001b[1;34m(x_dict)\u001b[0m\n\u001b[0;32m     36\u001b[0m \u001b[38;5;28;01mdef\u001b[39;00m \u001b[38;5;21mlocal_residual\u001b[39m(x_dict):\n\u001b[0;32m     37\u001b[0m     local_dict\u001b[38;5;241m.\u001b[39mupdate(x_dict)\n\u001b[1;32m---> 38\u001b[0m     \u001b[38;5;28;01mreturn\u001b[39;00m \u001b[38;5;28;43mself\u001b[39;49m\u001b[38;5;241;43m.\u001b[39;49m\u001b[43mresiduals\u001b[49m\u001b[43m(\u001b[49m\u001b[43mlocal_dict\u001b[49m\u001b[43m)\u001b[49m\n",
      "File \u001b[1;32mc:\\Users\\johan\\github\\minimdo\\minimdo\\engine\\foundations\\functionalsets.py:31\u001b[0m, in \u001b[0;36mDefaultResidualSolver.residuals\u001b[1;34m(self, input_dict)\u001b[0m\n\u001b[0;32m     29\u001b[0m \u001b[38;5;28;01mdef\u001b[39;00m \u001b[38;5;21mresiduals\u001b[39m(\u001b[38;5;28mself\u001b[39m, input_dict\u001b[38;5;241m=\u001b[39m\u001b[38;5;28;01mNone\u001b[39;00m):\n\u001b[0;32m     30\u001b[0m     projectable \u001b[38;5;241m=\u001b[39m \u001b[38;5;28mself\u001b[39m\u001b[38;5;241m.\u001b[39mfunctional\u001b[38;5;241m.\u001b[39mprojectable\n\u001b[1;32m---> 31\u001b[0m     \u001b[38;5;28;01mreturn\u001b[39;00m \u001b[43mnp\u001b[49m\u001b[38;5;241;43m.\u001b[39;49m\u001b[43mhstack\u001b[49m\u001b[43m(\u001b[49m\u001b[43m[\u001b[49m\u001b[43mres\u001b[49m\u001b[38;5;241;43m.\u001b[39;49m\u001b[43mevaldict\u001b[49m\u001b[43m(\u001b[49m\u001b[43minput_dict\u001b[49m\u001b[43m)\u001b[49m\u001b[43m \u001b[49m\n\u001b[0;32m     32\u001b[0m \u001b[43m                      \u001b[49m\u001b[38;5;28;43;01mfor\u001b[39;49;00m\u001b[43m \u001b[49m\u001b[43mres\u001b[49m\u001b[43m \u001b[49m\u001b[38;5;129;43;01min\u001b[39;49;00m\u001b[43m \u001b[49m\u001b[43mprojectable\u001b[49m\u001b[38;5;241;43m.\u001b[39;49m\u001b[43mcomponents\u001b[49m\u001b[43m]\u001b[49m\u001b[43m)\u001b[49m\u001b[38;5;241m.\u001b[39mflatten()\n",
      "File \u001b[1;32m<__array_function__ internals>:180\u001b[0m, in \u001b[0;36mhstack\u001b[1;34m(*args, **kwargs)\u001b[0m\n",
      "File \u001b[1;32mc:\\Users\\johan\\miniconda3\\envs\\minimdo\\lib\\site-packages\\numpy\\core\\shape_base.py:343\u001b[0m, in \u001b[0;36mhstack\u001b[1;34m(tup)\u001b[0m\n\u001b[0;32m    341\u001b[0m \u001b[38;5;66;03m# As a special case, dimension 0 of 1-dimensional arrays is \"horizontal\"\u001b[39;00m\n\u001b[0;32m    342\u001b[0m \u001b[38;5;28;01mif\u001b[39;00m arrs \u001b[38;5;129;01mand\u001b[39;00m arrs[\u001b[38;5;241m0\u001b[39m]\u001b[38;5;241m.\u001b[39mndim \u001b[38;5;241m==\u001b[39m \u001b[38;5;241m1\u001b[39m:\n\u001b[1;32m--> 343\u001b[0m     \u001b[38;5;28;01mreturn\u001b[39;00m \u001b[43m_nx\u001b[49m\u001b[38;5;241;43m.\u001b[39;49m\u001b[43mconcatenate\u001b[49m\u001b[43m(\u001b[49m\u001b[43marrs\u001b[49m\u001b[43m,\u001b[49m\u001b[43m \u001b[49m\u001b[38;5;241;43m0\u001b[39;49m\u001b[43m)\u001b[49m\n\u001b[0;32m    344\u001b[0m \u001b[38;5;28;01melse\u001b[39;00m:\n\u001b[0;32m    345\u001b[0m     \u001b[38;5;28;01mreturn\u001b[39;00m _nx\u001b[38;5;241m.\u001b[39mconcatenate(arrs, \u001b[38;5;241m1\u001b[39m)\n",
      "File \u001b[1;32m<__array_function__ internals>:180\u001b[0m, in \u001b[0;36mconcatenate\u001b[1;34m(*args, **kwargs)\u001b[0m\n",
      "\u001b[1;31mValueError\u001b[0m: all the input arrays must have same number of dimensions, but the array at index 0 has 1 dimension(s) and the array at index 2 has 2 dimension(s)"
     ]
    }
   ],
   "source": [
    "out = F3.solve(y3)"
   ]
  },
  {
   "cell_type": "code",
   "execution_count": 22,
   "metadata": {},
   "outputs": [
    {
     "data": {
      "text/plain": [
       "{x_3: 0.36602540371954434,\n",
       " x_2: 1.3660254037891002,\n",
       " x_1: 1.7320508074965615,\n",
       " x_4: 8.000000000012083}"
      ]
     },
     "execution_count": 22,
     "metadata": {},
     "output_type": "execute_result"
    }
   ],
   "source": [
    "out"
   ]
  },
  {
   "cell_type": "markdown",
   "metadata": {},
   "source": [
    "### Validate results"
   ]
  },
  {
   "cell_type": "code",
   "execution_count": 23,
   "metadata": {},
   "outputs": [
    {
     "data": {
      "text/plain": [
       "({x_3: 0.36602540378444665, x_2: 1.3660254037844275},\n",
       " {x_1: 1.7320508075588399, x_4: 7.999999999949804})"
      ]
     },
     "execution_count": 23,
     "metadata": {},
     "output_type": "execute_result"
    }
   ],
   "source": [
    "F1.solve({**out, **y3}), F2.solve({**out, **y3}), "
   ]
  },
  {
   "cell_type": "markdown",
   "metadata": {},
   "source": [
    "### Feedforward because there is no coupling"
   ]
  },
  {
   "cell_type": "code",
   "execution_count": 22,
   "metadata": {},
   "outputs": [],
   "source": [
    "F3.solver = FeedForwardSolver([F1, F2])"
   ]
  },
  {
   "cell_type": "code",
   "execution_count": 23,
   "metadata": {},
   "outputs": [
    {
     "data": {
      "text/plain": [
       "{x_2: 0.36602540378442877,\n",
       " x_3: 1.3660254037844637,\n",
       " x_1: 1.732050807568895,\n",
       " x_4: 7.999999999999998}"
      ]
     },
     "execution_count": 23,
     "metadata": {},
     "output_type": "execute_result"
    }
   ],
   "source": [
    "F3.solve(y3)"
   ]
  },
  {
   "cell_type": "markdown",
   "metadata": {},
   "source": [
    "### Coupled solvers if there was coupling (but has to work in feed forward mode to)"
   ]
  },
  {
   "cell_type": "code",
   "execution_count": 24,
   "metadata": {},
   "outputs": [
    {
     "data": {
      "text/plain": [
       "[(('x_2', 'x_3'), None, (None,), 'x_2**2 + x_3**2 - 2'),\n",
       " (('x_5', 'x_2', 'x_3'), None, (None,), 'x_2*x_3*x_5 - 1'),\n",
       " (('x_3', 'x_2', 'x_5', 'x_1', 'x_4'), None, (None,), 'None')]"
      ]
     },
     "execution_count": 24,
     "metadata": {},
     "output_type": "execute_result"
    }
   ],
   "source": [
    "S3.components"
   ]
  }
 ],
 "metadata": {
  "kernelspec": {
   "display_name": "minimdo",
   "language": "python",
   "name": "python3"
  },
  "language_info": {
   "codemirror_mode": {
    "name": "ipython",
    "version": 3
   },
   "file_extension": ".py",
   "mimetype": "text/x-python",
   "name": "python",
   "nbconvert_exporter": "python",
   "pygments_lexer": "ipython3",
   "version": "3.9.18"
  },
  "orig_nbformat": 4
 },
 "nbformat": 4,
 "nbformat_minor": 2
}
