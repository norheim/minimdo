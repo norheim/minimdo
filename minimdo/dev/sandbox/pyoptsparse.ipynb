{
 "cells": [
  {
   "cell_type": "code",
   "execution_count": 1,
   "id": "88c552ed-3008-4c2b-87a3-59fcf63e2e2e",
   "metadata": {
    "execution": {
     "iopub.execute_input": "2022-07-09T01:29:06.581623Z",
     "iopub.status.busy": "2022-07-09T01:29:06.581623Z",
     "iopub.status.idle": "2022-07-09T01:29:06.784856Z",
     "shell.execute_reply": "2022-07-09T01:29:06.783856Z",
     "shell.execute_reply.started": "2022-07-09T01:29:06.581623Z"
    },
    "tags": []
   },
   "outputs": [
    {
     "ename": "ModuleNotFoundError",
     "evalue": "No module named 'pyoptsparse'",
     "output_type": "error",
     "traceback": [
      "\u001b[1;31m---------------------------------------------------------------------------\u001b[0m",
      "\u001b[1;31mModuleNotFoundError\u001b[0m                       Traceback (most recent call last)",
      "\u001b[1;32m~\\AppData\\Local\\Temp/ipykernel_28864/2456004822.py\u001b[0m in \u001b[0;36m<module>\u001b[1;34m\u001b[0m\n\u001b[1;32m----> 1\u001b[1;33m \u001b[1;32mfrom\u001b[0m \u001b[0mpyoptsparse\u001b[0m \u001b[1;32mimport\u001b[0m \u001b[0mSLSQP\u001b[0m\u001b[1;33m,\u001b[0m \u001b[0mOptimization\u001b[0m\u001b[1;33m\u001b[0m\u001b[1;33m\u001b[0m\u001b[0m\n\u001b[0m",
      "\u001b[1;31mModuleNotFoundError\u001b[0m: No module named 'pyoptsparse'"
     ]
    }
   ],
   "source": [
    "from pyoptsparse import SLSQP, Optimization"
   ]
  },
  {
   "cell_type": "code",
   "execution_count": null,
   "id": "9d2a0f50-bad8-4d21-9d08-e87ee8d43220",
   "metadata": {},
   "outputs": [],
   "source": [
    "from pyoptsparse import SLSQP, Optimization\n",
    "\n",
    "\n",
    "# rst begin objfunc\n",
    "def objfunc(xdict):\n",
    "    x = xdict[\"xvars\"]\n",
    "    funcs = {}\n",
    "    funcs[\"obj\"] = -x[0] * x[1] * x[2]\n",
    "    conval = [0] * 2\n",
    "    conval[0] = x[0] + 2.0 * x[1] + 2.0 * x[2] - 72.0\n",
    "    conval[1] = -x[0] - 2.0 * x[1] - 2.0 * x[2]\n",
    "    funcs[\"con\"] = conval\n",
    "    fail = False\n",
    "\n",
    "    return funcs, fail\n",
    "\n",
    "\n",
    "# rst begin optProb\n",
    "# Optimization Object\n",
    "optProb = Optimization(\"TP037 Constraint Problem\", objfunc)\n",
    "\n",
    "# rst begin addVar\n",
    "# Design Variables\n",
    "optProb.addVarGroup(\"xvars\", 3, \"c\", lower=[0, 0, 0], upper=[42, 42, 42], value=10)\n",
    "\n",
    "# rst begin addCon\n",
    "# Constraints\n",
    "optProb.addConGroup(\"con\", 2, lower=None, upper=0.0)\n",
    "\n",
    "# rst begin addObj\n",
    "# Objective\n",
    "optProb.addObj(\"obj\")\n",
    "\n",
    "# rst begin print\n",
    "# Check optimization problem\n",
    "print(optProb)\n",
    "\n",
    "# rst begin OPT\n",
    "# Optimizer\n",
    "optOptions = {\"IPRINT\": -1}\n",
    "opt = SLSQP(options=optOptions)\n",
    "\n",
    "# rst begin solve\n",
    "# Solve\n",
    "sol = opt(optProb, sens=\"FD\")\n",
    "\n",
    "# rst begin check\n",
    "# Check Solution\n",
    "print(sol)"
   ]
  }
 ],
 "metadata": {
  "kernelspec": {
   "display_name": "Python [conda env:mdo]",
   "language": "python",
   "name": "conda-env-mdo-py"
  },
  "language_info": {
   "codemirror_mode": {
    "name": "ipython",
    "version": 3
   },
   "file_extension": ".py",
   "mimetype": "text/x-python",
   "name": "python",
   "nbconvert_exporter": "python",
   "pygments_lexer": "ipython3",
   "version": "3.9.7"
  }
 },
 "nbformat": 4,
 "nbformat_minor": 5
}
