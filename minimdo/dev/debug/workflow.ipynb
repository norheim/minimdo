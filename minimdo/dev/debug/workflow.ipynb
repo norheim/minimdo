{
 "cells": [
  {
   "cell_type": "code",
   "execution_count": 1,
   "id": "ff4662d1-1200-4e4a-af1d-a97b4df558e3",
   "metadata": {
    "execution": {
     "iopub.execute_input": "2022-07-11T15:56:21.754234Z",
     "iopub.status.busy": "2022-07-11T15:56:21.754234Z",
     "iopub.status.idle": "2022-07-11T15:56:28.577176Z",
     "shell.execute_reply": "2022-07-11T15:56:28.576340Z",
     "shell.execute_reply.started": "2022-07-11T15:56:21.754234Z"
    },
    "tags": []
   },
   "outputs": [],
   "source": [
    "from datastructures.workflow import SOLVER, COMP, ENDCOMP, path, order_from_tree\n",
    "from datastructures.graphutils import end_components, solver_children\n",
    "from collections import OrderedDict, defaultdict"
   ]
  },
  {
   "cell_type": "markdown",
   "id": "1de1c073-6687-408e-86a2-2fc23fe32122",
   "metadata": {},
   "source": [
    "# Mock order from tree"
   ]
  },
  {
   "cell_type": "code",
   "execution_count": 2,
   "id": "f73aed7b-51bc-492b-a093-3471bc99fe1a",
   "metadata": {
    "execution": {
     "iopub.execute_input": "2022-07-11T15:56:31.123983Z",
     "iopub.status.busy": "2022-07-11T15:56:31.123104Z",
     "iopub.status.idle": "2022-07-11T15:56:31.136708Z",
     "shell.execute_reply": "2022-07-11T15:56:31.136122Z",
     "shell.execute_reply.started": "2022-07-11T15:56:31.123831Z"
    },
    "tags": []
   },
   "outputs": [],
   "source": [
    "Ftree = OrderedDict([(0,0), (1,1),(2,2),(3,2),(4,1,),(5,1),(6,1),(7,0),(8,0)])\n",
    "Stree = {2:1, 1:0}\n",
    "endcomponents = [0,2,5,7]\n",
    "Eout = {comp: (None,) if comp in [0,2,5,7] else (99,) for comp,_ in Ftree.items()}"
   ]
  },
  {
   "cell_type": "markdown",
   "id": "4bc0188f-2ec9-4faa-83ec-dad103754e77",
   "metadata": {},
   "source": [
    "### Test method from library"
   ]
  },
  {
   "cell_type": "code",
   "execution_count": 3,
   "id": "511e2cf0-af19-44e7-9a49-cf9ab8cf6257",
   "metadata": {
    "execution": {
     "iopub.execute_input": "2022-07-11T15:56:31.607593Z",
     "iopub.status.busy": "2022-07-11T15:56:31.607593Z",
     "iopub.status.idle": "2022-07-11T15:56:31.627155Z",
     "shell.execute_reply": "2022-07-11T15:56:31.625923Z",
     "shell.execute_reply.started": "2022-07-11T15:56:31.607593Z"
    },
    "tags": []
   },
   "outputs": [
    {
     "data": {
      "text/plain": [
       "[(SOLVER, 0, None),\n",
       " (SOLVER, 1, 0),\n",
       " (COMP, 1, 1),\n",
       " (SOLVER, 2, 1),\n",
       " (COMP, 3, 2),\n",
       " (ENDCOMP, 2, 2),\n",
       " (COMP, 4, 1),\n",
       " (COMP, 6, 1),\n",
       " (ENDCOMP, 5, 1),\n",
       " (COMP, 8, 0),\n",
       " (ENDCOMP, 0, 0),\n",
       " (ENDCOMP, 7, 0)]"
      ]
     },
     "execution_count": 3,
     "metadata": {},
     "output_type": "execute_result"
    }
   ],
   "source": [
    "order_from_tree(Ftree, Stree, Eout, mergeendcomp=False)"
   ]
  },
  {
   "cell_type": "markdown",
   "id": "289560f5-d97d-47f3-b891-04d37ba6e75b",
   "metadata": {},
   "source": [
    "### Debug method"
   ]
  },
  {
   "cell_type": "code",
   "execution_count": 4,
   "id": "0e18daba-3332-4ac0-8de0-652a71935883",
   "metadata": {
    "execution": {
     "iopub.execute_input": "2022-07-11T15:56:32.391881Z",
     "iopub.status.busy": "2022-07-11T15:56:32.391881Z",
     "iopub.status.idle": "2022-07-11T15:56:32.405932Z",
     "shell.execute_reply": "2022-07-11T15:56:32.405767Z",
     "shell.execute_reply.started": "2022-07-11T15:56:32.391881Z"
    },
    "tags": []
   },
   "outputs": [],
   "source": [
    "includesolver = True\n",
    "mergeendcomp = False"
   ]
  },
  {
   "cell_type": "code",
   "execution_count": 5,
   "id": "a3f2e803-1c56-4daf-be6e-60c520f2e86b",
   "metadata": {
    "execution": {
     "iopub.execute_input": "2022-07-11T15:56:32.661642Z",
     "iopub.status.busy": "2022-07-11T15:56:32.661642Z",
     "iopub.status.idle": "2022-07-11T15:56:32.688573Z",
     "shell.execute_reply": "2022-07-11T15:56:32.687032Z",
     "shell.execute_reply.started": "2022-07-11T15:56:32.661642Z"
    },
    "tags": []
   },
   "outputs": [],
   "source": [
    "endcomps = {key: None in var for key,var in Eout.items()}\n",
    "visited_solvers = set()\n",
    "sequence = []\n",
    "endcompqueue = defaultdict(list)\n",
    "queue = list(Ftree.items())\n",
    "while queue:\n",
    "    component, parent = queue.pop(0)\n",
    "    ancestors = path(Stree, parent, visited_solvers)\n",
    "    reverse_ancestors = ancestors[::-1]\n",
    "    visited_solvers = visited_solvers.union(reverse_ancestors)\n",
    "    if includesolver:\n",
    "        sequence += [(SOLVER, solver, Stree.get(solver,None)) for solver in reverse_ancestors]\n",
    "    if endcomps[component]:\n",
    "        endcompqueue[parent].append(component)\n",
    "    else:\n",
    "        sequence += [(COMP, component, parent)]\n",
    "    remainingcomps = len([elt for elt in solver_children(dict(queue), parent)])\n",
    "    lastchildcomp = remainingcomps==0\n",
    "    if lastchildcomp:\n",
    "        if mergeendcomp and endcompqueue.get(parent,False):\n",
    "            sequence += [(ENDCOMP, endcompqueue[parent], parent)]\n",
    "        else:\n",
    "            sequence += [(ENDCOMP, endcomp, parent) for endcomp in endcompqueue[parent]]"
   ]
  },
  {
   "cell_type": "code",
   "execution_count": 6,
   "id": "4e71e314-ba42-4a71-86d5-dc97417492f0",
   "metadata": {
    "execution": {
     "iopub.execute_input": "2022-07-11T15:56:33.342716Z",
     "iopub.status.busy": "2022-07-11T15:56:33.342716Z",
     "iopub.status.idle": "2022-07-11T15:56:33.363795Z",
     "shell.execute_reply": "2022-07-11T15:56:33.363146Z",
     "shell.execute_reply.started": "2022-07-11T15:56:33.342716Z"
    },
    "tags": []
   },
   "outputs": [
    {
     "data": {
      "text/plain": [
       "[(SOLVER, 0, None),\n",
       " (SOLVER, 1, 0),\n",
       " (COMP, 1, 1),\n",
       " (SOLVER, 2, 1),\n",
       " (COMP, 3, 2),\n",
       " (ENDCOMP, 2, 2),\n",
       " (COMP, 4, 1),\n",
       " (COMP, 6, 1),\n",
       " (ENDCOMP, 5, 1),\n",
       " (COMP, 8, 0),\n",
       " (ENDCOMP, 0, 0),\n",
       " (ENDCOMP, 7, 0)]"
      ]
     },
     "execution_count": 6,
     "metadata": {},
     "output_type": "execute_result"
    }
   ],
   "source": [
    "sequence"
   ]
  }
 ],
 "metadata": {
  "kernelspec": {
   "display_name": "Python [conda env:minimdo]",
   "language": "python",
   "name": "conda-env-minimdo-py"
  },
  "language_info": {
   "codemirror_mode": {
    "name": "ipython",
    "version": 3
   },
   "file_extension": ".py",
   "mimetype": "text/x-python",
   "name": "python",
   "nbconvert_exporter": "python",
   "pygments_lexer": "ipython3",
   "version": "3.9.12"
  }
 },
 "nbformat": 4,
 "nbformat_minor": 5
}
