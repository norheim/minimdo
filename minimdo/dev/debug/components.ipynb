{
 "cells": [
  {
   "cell_type": "code",
   "execution_count": 28,
   "id": "ebd7b293-ea5f-484d-8f7f-b69db7a802dd",
   "metadata": {
    "execution": {
     "iopub.execute_input": "2022-07-13T02:36:05.455131Z",
     "iopub.status.busy": "2022-07-13T02:36:05.455131Z",
     "iopub.status.idle": "2022-07-13T02:36:05.481325Z",
     "shell.execute_reply": "2022-07-13T02:36:05.481108Z",
     "shell.execute_reply.started": "2022-07-13T02:36:05.455131Z"
    },
    "tags": []
   },
   "outputs": [],
   "source": [
    "from datastructures.graphutils import draw_graph_graphical_props, flat_graph_formulation, Node, VAR, COMP, SOLVER, merge_edges, sources\n",
    "from datastructures.graphutils import nested_sources, all_variables, edges_to_Ein_Eout, namefromid\n",
    "from datastructures.nestedgraph import build_typedgraph\n",
    "from compute import Var\n",
    "from datastructures.api import Model, adda, addf, addsolver, setsolvefor, addobj, addineq\n",
    "from datastructures.execution import edges_from_components, generate_components_and_residuals, Component\n",
    "from datastructures.operators import sort_scc, reorder_merge_solve\n",
    "from datastructures.nestedgraph import build_typedgraph\n",
    "from datastructures.workflow import get_f, implicit_comp_name, SOLVE, OPT, EQ, NEQ, OBJ, IMPL, EXPL, order_from_tree, ENDCOMP, default_solver_options\n",
    "from datastructures.workflow import order_from_tree, default_solver_options, mdao_workflow\n",
    "from datastructures.workflow_mdao import mdao_workflow_with_args\n",
    "from datastructures.assembly import architecture_mappings, buildidpvars, build_archi, root_sources\n",
    "from datastructures.runpipeline import nestedform_to_mdao\n",
    "from datastructures.postprocess import print_outputs"
   ]
  },
  {
   "cell_type": "code",
   "execution_count": 2,
   "id": "6d843366-c73a-4ecb-b5c8-7867b791b175",
   "metadata": {
    "execution": {
     "iopub.execute_input": "2022-07-13T02:32:55.283835Z",
     "iopub.status.busy": "2022-07-13T02:32:55.283835Z",
     "iopub.status.idle": "2022-07-13T02:32:55.294310Z",
     "shell.execute_reply": "2022-07-13T02:32:55.292209Z",
     "shell.execute_reply.started": "2022-07-13T02:32:55.283835Z"
    },
    "tags": []
   },
   "outputs": [],
   "source": [
    "from datastructures.nestedgraph import flat_graph_formulation\n",
    "from datastructures.graphutils import root_solver"
   ]
  },
  {
   "cell_type": "code",
   "execution_count": 3,
   "id": "323008fa-9f0f-4c38-b4c0-651500c7d780",
   "metadata": {
    "execution": {
     "iopub.execute_input": "2022-07-13T02:32:55.886525Z",
     "iopub.status.busy": "2022-07-13T02:32:55.886525Z",
     "iopub.status.idle": "2022-07-13T02:32:55.907246Z",
     "shell.execute_reply": "2022-07-13T02:32:55.906970Z",
     "shell.execute_reply.started": "2022-07-13T02:32:55.886525Z"
    },
    "tags": []
   },
   "outputs": [],
   "source": [
    "import openmdao.api as om"
   ]
  },
  {
   "cell_type": "code",
   "execution_count": 16,
   "id": "c6dacddb-2870-432b-8bc2-219b520338c8",
   "metadata": {
    "execution": {
     "iopub.execute_input": "2022-07-13T02:35:18.996801Z",
     "iopub.status.busy": "2022-07-13T02:35:18.996801Z",
     "iopub.status.idle": "2022-07-13T02:35:19.110603Z",
     "shell.execute_reply": "2022-07-13T02:35:19.109281Z",
     "shell.execute_reply.started": "2022-07-13T02:35:18.996801Z"
    },
    "tags": []
   },
   "outputs": [],
   "source": [
    "model = Model()\n",
    "m = model.root\n",
    "x = Var('x')\n",
    "y = Var('y')\n",
    "a = adda(m, 'a', x+2+y)\n",
    "#a = Var('a', 1)\n",
    "adda(m, x, 3*a-10);"
   ]
  },
  {
   "cell_type": "code",
   "execution_count": 17,
   "id": "a16d8c5c-f50a-4808-a39f-f20450eb173e",
   "metadata": {
    "execution": {
     "iopub.execute_input": "2022-07-13T02:35:19.321850Z",
     "iopub.status.busy": "2022-07-13T02:35:19.321850Z",
     "iopub.status.idle": "2022-07-13T02:35:19.329692Z",
     "shell.execute_reply": "2022-07-13T02:35:19.328625Z",
     "shell.execute_reply.started": "2022-07-13T02:35:19.321850Z"
    },
    "tags": []
   },
   "outputs": [],
   "source": [
    "edges = edges_from_components(model.components)\n",
    "tree = model.Ftree, model.Stree, model.Vtree"
   ]
  },
  {
   "cell_type": "code",
   "execution_count": 18,
   "id": "c7176c0b-dcdf-4294-b427-17904942d609",
   "metadata": {
    "execution": {
     "iopub.execute_input": "2022-07-13T02:35:19.549565Z",
     "iopub.status.busy": "2022-07-13T02:35:19.549255Z",
     "iopub.status.idle": "2022-07-13T02:35:19.566374Z",
     "shell.execute_reply": "2022-07-13T02:35:19.565126Z",
     "shell.execute_reply.started": "2022-07-13T02:35:19.549565Z"
    },
    "tags": []
   },
   "outputs": [
    {
     "data": {
      "text/plain": [
       "({0: ('x', 'y'), 1: ('a',)}, {0: ('a',), 1: ('x',)}, {})"
      ]
     },
     "execution_count": 18,
     "metadata": {},
     "output_type": "execute_result"
    }
   ],
   "source": [
    "edges"
   ]
  },
  {
   "cell_type": "code",
   "execution_count": 19,
   "id": "c1bc9f15-7c24-4543-ab5e-6c3f9e40c904",
   "metadata": {
    "execution": {
     "iopub.execute_input": "2022-07-13T02:35:19.797798Z",
     "iopub.status.busy": "2022-07-13T02:35:19.797798Z",
     "iopub.status.idle": "2022-07-13T02:35:19.814909Z",
     "shell.execute_reply": "2022-07-13T02:35:19.813384Z",
     "shell.execute_reply.started": "2022-07-13T02:35:19.797798Z"
    },
    "tags": []
   },
   "outputs": [],
   "source": [
    "G = flat_graph_formulation(*edges)\n",
    "#merge_order = sort_scc(G)\n",
    "#merge_parent = root_solver(tree) # all merged components will have this solver as the parent\n",
    "#ordered_edges, ordered_tree = reorder_merge_solve(edges, tree, merge_order, merge_parent, True)"
   ]
  },
  {
   "cell_type": "code",
   "execution_count": 20,
   "id": "41beefd0-8cf1-47a6-a971-7121da40104a",
   "metadata": {
    "execution": {
     "iopub.execute_input": "2022-07-13T02:35:20.264138Z",
     "iopub.status.busy": "2022-07-13T02:35:20.264138Z",
     "iopub.status.idle": "2022-07-13T02:35:20.289366Z",
     "shell.execute_reply": "2022-07-13T02:35:20.288230Z",
     "shell.execute_reply.started": "2022-07-13T02:35:20.264138Z"
    },
    "tags": []
   },
   "outputs": [],
   "source": [
    "ordered_edges = edges\n",
    "ordered_tree = tree"
   ]
  },
  {
   "cell_type": "code",
   "execution_count": 21,
   "id": "a0427ade-f19a-4893-b96a-f31974e5541d",
   "metadata": {
    "execution": {
     "iopub.execute_input": "2022-07-13T02:35:20.492540Z",
     "iopub.status.busy": "2022-07-13T02:35:20.492540Z",
     "iopub.status.idle": "2022-07-13T02:35:20.509153Z",
     "shell.execute_reply": "2022-07-13T02:35:20.507627Z",
     "shell.execute_reply.started": "2022-07-13T02:35:20.492540Z"
    },
    "tags": []
   },
   "outputs": [],
   "source": [
    "comp_options = model.comp_options\n",
    "var_options = model.var_options\n",
    "solvers_options = model.solvers_options"
   ]
  },
  {
   "cell_type": "code",
   "execution_count": 22,
   "id": "4583453e-fbec-4edb-ac28-b217a6a9bf92",
   "metadata": {
    "execution": {
     "iopub.execute_input": "2022-07-13T02:35:20.674183Z",
     "iopub.status.busy": "2022-07-13T02:35:20.674183Z",
     "iopub.status.idle": "2022-07-13T02:35:20.691901Z",
     "shell.execute_reply": "2022-07-13T02:35:20.690662Z",
     "shell.execute_reply.started": "2022-07-13T02:35:20.674183Z"
    },
    "tags": []
   },
   "outputs": [
    {
     "data": {
      "text/plain": [
       "[(SOLVE, 1, None, {'designvars': ()}, {}), (EXPL, 0, 1), (EXPL, 1, 1)]"
      ]
     },
     "execution_count": 22,
     "metadata": {},
     "output_type": "execute_result"
    }
   ],
   "source": [
    "wf"
   ]
  },
  {
   "cell_type": "code",
   "execution_count": 23,
   "id": "8e1f4f19-31c9-43ec-b9d7-a39b0904716b",
   "metadata": {
    "execution": {
     "iopub.execute_input": "2022-07-13T02:35:20.860830Z",
     "iopub.status.busy": "2022-07-13T02:35:20.859824Z",
     "iopub.status.idle": "2022-07-13T02:35:20.880483Z",
     "shell.execute_reply": "2022-07-13T02:35:20.879474Z",
     "shell.execute_reply.started": "2022-07-13T02:35:20.859824Z"
    },
    "tags": []
   },
   "outputs": [],
   "source": [
    "nodetyperepr = {VAR: '{}', COMP: 'f_{}', SOLVER: 's_{}'}\n",
    "namingfunc = namefromid(nodetyperepr)\n",
    "sequence = order_from_tree(ordered_tree[0], ordered_tree[1], ordered_edges[1])\n",
    "solvers_options = default_solver_options(ordered_tree, solvers_options)\n",
    "wf = mdao_workflow(sequence, solvers_options, comp_options, var_options)\n",
    "components = model.components\n",
    "lookup_f = get_f(components, ordered_edges)\n",
    "wfmdao = mdao_workflow_with_args(wf, lookup_f, namingfunc)"
   ]
  },
  {
   "cell_type": "code",
   "execution_count": 24,
   "id": "130abb55-23ae-4834-bfab-379a60245d39",
   "metadata": {
    "execution": {
     "iopub.execute_input": "2022-07-13T02:35:21.146115Z",
     "iopub.status.busy": "2022-07-13T02:35:21.146115Z",
     "iopub.status.idle": "2022-07-13T02:35:21.163216Z",
     "shell.execute_reply": "2022-07-13T02:35:21.161990Z",
     "shell.execute_reply.started": "2022-07-13T02:35:21.146115Z"
    },
    "tags": []
   },
   "outputs": [],
   "source": [
    "from datastructures.nestedgraph import sources, edges_to_Ein_Eout"
   ]
  },
  {
   "cell_type": "code",
   "execution_count": 25,
   "id": "04f1804a-6723-4fed-925d-bf1fa41c051f",
   "metadata": {
    "execution": {
     "iopub.execute_input": "2022-07-13T02:35:21.666806Z",
     "iopub.status.busy": "2022-07-13T02:35:21.666806Z",
     "iopub.status.idle": "2022-07-13T02:35:21.682967Z",
     "shell.execute_reply": "2022-07-13T02:35:21.681725Z",
     "shell.execute_reply.started": "2022-07-13T02:35:21.666806Z"
    },
    "tags": []
   },
   "outputs": [],
   "source": [
    "prob, mdao_in, groups = build_archi(ordered_edges, ordered_tree, wfmdao, namingfunc, model.idmapping)"
   ]
  },
  {
   "cell_type": "code",
   "execution_count": 26,
   "id": "37bbd1f3-6a3c-41ba-b6f5-623c33cabdc5",
   "metadata": {
    "execution": {
     "iopub.execute_input": "2022-07-13T02:35:28.871779Z",
     "iopub.status.busy": "2022-07-13T02:35:28.871779Z",
     "iopub.status.idle": "2022-07-13T02:35:30.510566Z",
     "shell.execute_reply": "2022-07-13T02:35:30.508470Z",
     "shell.execute_reply.started": "2022-07-13T02:35:28.871779Z"
    },
    "tags": []
   },
   "outputs": [
    {
     "name": "stdout",
     "output_type": "stream",
     "text": [
      "\n",
      "===\n",
      "s_1\n",
      "===\n",
      "NL: Newton Converged in 1 iterations\n"
     ]
    }
   ],
   "source": [
    "prob.run_model();"
   ]
  },
  {
   "cell_type": "code",
   "execution_count": 29,
   "id": "1f175000-3f09-4dab-b8ff-ef038b266e23",
   "metadata": {
    "execution": {
     "iopub.execute_input": "2022-07-13T02:36:08.090218Z",
     "iopub.status.busy": "2022-07-13T02:36:08.090218Z",
     "iopub.status.idle": "2022-07-13T02:36:08.449686Z",
     "shell.execute_reply": "2022-07-13T02:36:08.448684Z",
     "shell.execute_reply.started": "2022-07-13T02:36:08.090218Z"
    },
    "tags": []
   },
   "outputs": [
    {
     "data": {
      "text/html": [
       "<style type=\"text/css\">\n",
       "</style>\n",
       "<table id=\"T_1940f\">\n",
       "  <thead>\n",
       "  </thead>\n",
       "  <tbody>\n",
       "    <tr>\n",
       "      <td id=\"T_1940f_row0_col0\" class=\"data row0 col0\" >$$a$$</td>\n",
       "      <td id=\"T_1940f_row0_col1\" class=\"data row0 col1\" >3.889</td>\n",
       "      <td id=\"T_1940f_row0_col2\" class=\"data row0 col2\" ></td>\n",
       "    </tr>\n",
       "    <tr>\n",
       "      <td id=\"T_1940f_row1_col0\" class=\"data row1 col0\" >$$x$$</td>\n",
       "      <td id=\"T_1940f_row1_col1\" class=\"data row1 col1\" >1.667</td>\n",
       "      <td id=\"T_1940f_row1_col2\" class=\"data row1 col2\" ></td>\n",
       "    </tr>\n",
       "  </tbody>\n",
       "</table>\n"
      ],
      "text/plain": [
       "<pandas.io.formats.style.Styler at 0x240daab64f0>"
      ]
     },
     "execution_count": 29,
     "metadata": {},
     "output_type": "execute_result"
    }
   ],
   "source": [
    "print_outputs(model, prob, namingfunc)"
   ]
  }
 ],
 "metadata": {
  "kernelspec": {
   "display_name": "Python [conda env:mdo]",
   "language": "python",
   "name": "conda-env-mdo-py"
  },
  "language_info": {
   "codemirror_mode": {
    "name": "ipython",
    "version": 3
   },
   "file_extension": ".py",
   "mimetype": "text/x-python",
   "name": "python",
   "nbconvert_exporter": "python",
   "pygments_lexer": "ipython3",
   "version": "3.9.13"
  }
 },
 "nbformat": 4,
 "nbformat_minor": 5
}
