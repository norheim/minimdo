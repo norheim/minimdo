{
 "cells": [
  {
   "cell_type": "code",
   "execution_count": 1,
   "id": "eebcf9b7-b16b-416b-a94a-066987cd372a",
   "metadata": {
    "execution": {
     "iopub.execute_input": "2022-08-11T16:56:04.090107Z",
     "iopub.status.busy": "2022-08-11T16:56:04.090107Z",
     "iopub.status.idle": "2022-08-11T16:56:07.107298Z",
     "shell.execute_reply": "2022-08-11T16:56:07.106441Z",
     "shell.execute_reply.started": "2022-08-11T16:56:04.090107Z"
    },
    "tags": []
   },
   "outputs": [],
   "source": [
    "from balloon_initial import *"
   ]
  },
  {
   "cell_type": "code",
   "execution_count": 24,
   "id": "a3103277-d747-49a7-9b16-838c64d259a1",
   "metadata": {
    "execution": {
     "iopub.execute_input": "2022-08-11T16:59:32.370181Z",
     "iopub.status.busy": "2022-08-11T16:59:32.370181Z",
     "iopub.status.idle": "2022-08-11T16:59:32.381087Z",
     "shell.execute_reply": "2022-08-11T16:59:32.380185Z",
     "shell.execute_reply.started": "2022-08-11T16:59:32.370181Z"
    },
    "tags": []
   },
   "outputs": [],
   "source": [
    "from datastructures.api import (edges_no_param, addobj, addineq, merge, \n",
    "setsolvefor, var_params, copy_dicts, OPT)\n",
    "from datastructures.graphutils import flatten_tree, all_variables, all_edges\n",
    "from datastructures.tearing import dir_graph, min_arc_set_assign\n",
    "from datastructures.operators import reformulate, invert_edges\n",
    "from datastructures.transformations import transform_components\n",
    "from datastructures.rendering import render_incidence\n",
    "from datastructures.runpipeline import model_to_problem\n",
    "from datastructures.postprocess import print_outputs"
   ]
  },
  {
   "cell_type": "code",
   "execution_count": 10,
   "id": "f95bf3db-1e84-4aa7-a0f9-5c60b95dfa57",
   "metadata": {
    "execution": {
     "iopub.execute_input": "2022-08-11T16:56:23.218766Z",
     "iopub.status.busy": "2022-08-11T16:56:23.217819Z",
     "iopub.status.idle": "2022-08-11T16:56:23.233151Z",
     "shell.execute_reply": "2022-08-11T16:56:23.232141Z",
     "shell.execute_reply.started": "2022-08-11T16:56:23.218766Z"
    },
    "tags": []
   },
   "outputs": [],
   "source": [
    "from ipywidgets import interact"
   ]
  },
  {
   "cell_type": "markdown",
   "id": "5cbf351f-1b61-415d-9ffd-23217bee21d2",
   "metadata": {},
   "source": [
    "### Configuration"
   ]
  },
  {
   "cell_type": "code",
   "execution_count": 11,
   "id": "455f4dfc-c11c-4f06-a775-9d35f4bac976",
   "metadata": {
    "execution": {
     "iopub.execute_input": "2022-08-11T16:56:23.692184Z",
     "iopub.status.busy": "2022-08-11T16:56:23.691285Z",
     "iopub.status.idle": "2022-08-11T16:56:23.707181Z",
     "shell.execute_reply": "2022-08-11T16:56:23.707181Z",
     "shell.execute_reply.started": "2022-08-11T16:56:23.692184Z"
    },
    "tags": []
   },
   "outputs": [
    {
     "data": {
      "application/vnd.jupyter.widget-view+json": {
       "model_id": "a5af12eada3941c2b470c2248bfd3e70",
       "version_major": 2,
       "version_minor": 0
      },
      "text/plain": [
       "interactive(children=(Checkbox(value=True, description='optimal_structure'), Output()), _dom_classes=('widget-…"
      ]
     },
     "metadata": {},
     "output_type": "display_data"
    }
   ],
   "source": [
    "global run_optimal_structure\n",
    "def f(optimal_structure):\n",
    "    global run_optimal_structure\n",
    "    run_optimal_structure=optimal_structure\n",
    "interact(f, optimal_structure=True);"
   ]
  },
  {
   "cell_type": "markdown",
   "id": "2fcf3626-4773-4556-a34f-9f39ad2af7fb",
   "metadata": {},
   "source": [
    "### Load structure of model"
   ]
  },
  {
   "cell_type": "code",
   "execution_count": 12,
   "id": "0f24047e-e8f9-45ec-8edf-73a0572fec93",
   "metadata": {
    "execution": {
     "iopub.execute_input": "2022-08-11T16:56:25.602841Z",
     "iopub.status.busy": "2022-08-11T16:56:25.602349Z",
     "iopub.status.idle": "2022-08-11T16:56:25.609762Z",
     "shell.execute_reply": "2022-08-11T16:56:25.608864Z",
     "shell.execute_reply.started": "2022-08-11T16:56:25.602841Z"
    },
    "tags": []
   },
   "outputs": [],
   "source": [
    "edges, tree = model.generate_formulation()\n",
    "edges_nopar =  edges_no_param(model, edges)\n",
    "outset_initial = {comp: var[0] for comp,var in edges[1].items()}"
   ]
  },
  {
   "cell_type": "markdown",
   "id": "42b9f548-0a94-47e7-ad19-6b1bd30fab9f",
   "metadata": {},
   "source": [
    "### Restructure design model"
   ]
  },
  {
   "cell_type": "markdown",
   "id": "4beb869b-bbc3-4916-95c9-bebb94b3d5d4",
   "metadata": {},
   "source": [
    "We force variables from the constraints to be inputs:"
   ]
  },
  {
   "cell_type": "code",
   "execution_count": 13,
   "id": "47c84f5a-4c8f-436f-8782-73d908d21802",
   "metadata": {
    "execution": {
     "iopub.execute_input": "2022-08-11T16:56:26.153020Z",
     "iopub.status.busy": "2022-08-11T16:56:26.153020Z",
     "iopub.status.idle": "2022-08-11T16:56:26.171613Z",
     "shell.execute_reply": "2022-08-11T16:56:26.171613Z",
     "shell.execute_reply.started": "2022-08-11T16:56:26.153020Z"
    },
    "tags": []
   },
   "outputs": [],
   "source": [
    "not_input = ['T_z','p_z','g_z',r'\\rho_z', r'm_{rz}', 'm_{r0}', 'h_z', 'r_z', 'V_z', 'L_z', 'W_z', 'W_0']\n",
    "not_output = []#[r'm_{rz}', 'm_{r0}']"
   ]
  },
  {
   "cell_type": "code",
   "execution_count": 14,
   "id": "cce57422-8810-4d1a-8a84-12cb7212fee2",
   "metadata": {
    "execution": {
     "iopub.execute_input": "2022-08-11T16:56:26.433995Z",
     "iopub.status.busy": "2022-08-11T16:56:26.433995Z",
     "iopub.status.idle": "2022-08-11T16:56:26.486218Z",
     "shell.execute_reply": "2022-08-11T16:56:26.485217Z",
     "shell.execute_reply.started": "2022-08-11T16:56:26.433995Z"
    },
    "tags": []
   },
   "outputs": [
    {
     "name": "stdout",
     "output_type": "stream",
     "text": [
      "Set parameter Username\n",
      "Academic license - for non-commercial use only - expires 2023-02-25\n"
     ]
    }
   ],
   "source": [
    "edges_for_solving = copy_dicts(edges_nopar)\n",
    "eqnidxs = list(edges_for_solving[1].keys())\n",
    "varidxs = all_variables(*edges_for_solving)\n",
    "graph_edges_minassign = all_edges(*edges_for_solving)\n",
    "edges_left_right = list(dir_graph(graph_edges_minassign, eqnidxs, {}))\n",
    "xsol,_ = min_arc_set_assign(edges_left_right, varidxs, eqnidxs, not_input, not_output)"
   ]
  },
  {
   "cell_type": "markdown",
   "id": "4b3e74e3-f213-4cc6-a464-b68341d4f21c",
   "metadata": {},
   "source": [
    "### Build structure of optimization model"
   ]
  },
  {
   "cell_type": "code",
   "execution_count": 15,
   "id": "b53da9e9-3c28-40fc-9b9f-3d371a877b63",
   "metadata": {
    "execution": {
     "iopub.execute_input": "2022-08-11T16:59:01.309747Z",
     "iopub.status.busy": "2022-08-11T16:59:01.308748Z",
     "iopub.status.idle": "2022-08-11T16:59:01.325247Z",
     "shell.execute_reply": "2022-08-11T16:59:01.324829Z",
     "shell.execute_reply.started": "2022-08-11T16:59:01.309747Z"
    },
    "tags": []
   },
   "outputs": [],
   "source": [
    "outset_opt = None\n",
    "if run_optimal_structure:\n",
    "    outset_opt = {right:left for left, right in edges_left_right \n",
    "                  if (left,right) in edges_left_right and xsol[left, right] > 0.5}"
   ]
  },
  {
   "cell_type": "code",
   "execution_count": 16,
   "id": "e6552eca-bde2-4cf4-a09b-f65000470386",
   "metadata": {
    "execution": {
     "iopub.execute_input": "2022-08-11T16:59:04.833709Z",
     "iopub.status.busy": "2022-08-11T16:59:04.832675Z",
     "iopub.status.idle": "2022-08-11T16:59:04.846203Z",
     "shell.execute_reply": "2022-08-11T16:59:04.846079Z",
     "shell.execute_reply.started": "2022-08-11T16:59:04.833709Z"
    },
    "tags": []
   },
   "outputs": [],
   "source": [
    "tree_for_reformulation = flatten_tree(tree, 'opt')\n",
    "not_outputs = var_params(model, edges)\n",
    "edges_minassign, tree_minassign = reformulate(edges, tree_for_reformulation, outset_initial, \n",
    "                                              outset_opt, root_solver_name='opt', solveforvars=False, mdf=True) # For OPT do not have subproblems so no need to set mdf=True/False\n",
    "edges_minassign_noparam = edges_no_param(model, edges_minassign)"
   ]
  },
  {
   "cell_type": "code",
   "execution_count": 17,
   "id": "258d7dfa-b8e5-4453-aa93-ca4e554b731d",
   "metadata": {
    "execution": {
     "iopub.execute_input": "2022-08-11T16:59:05.107377Z",
     "iopub.status.busy": "2022-08-11T16:59:05.106877Z",
     "iopub.status.idle": "2022-08-11T16:59:05.521927Z",
     "shell.execute_reply": "2022-08-11T16:59:05.520928Z",
     "shell.execute_reply.started": "2022-08-11T16:59:05.107377Z"
    },
    "tags": []
   },
   "outputs": [],
   "source": [
    "newcomps = transform_components(edges, edges_minassign, model.components, model.idmapping)"
   ]
  },
  {
   "cell_type": "code",
   "execution_count": 18,
   "id": "b64ef6a6-689a-47cf-b23a-78594299465f",
   "metadata": {
    "execution": {
     "iopub.execute_input": "2022-08-11T16:59:05.522912Z",
     "iopub.status.busy": "2022-08-11T16:59:05.522912Z",
     "iopub.status.idle": "2022-08-11T16:59:05.537931Z",
     "shell.execute_reply": "2022-08-11T16:59:05.536927Z",
     "shell.execute_reply.started": "2022-08-11T16:59:05.522912Z"
    },
    "tags": []
   },
   "outputs": [
    {
     "data": {
      "text/plain": [
       "[(('m_l',), 13, ('m_{r0}',), 'm_l'),\n",
       " (('m_p', 'm_b', 'm_t', 'm_v'), 14, ('m_l',), '-m_p - m_v - m_b + m_t'),\n",
       " (('D', 'A_0', 'C_D', '\\\\rho_0'), 18, ('v',), 'sqrt(2)*sqrt(D/(C_D*\\\\rho_0*A_0))'),\n",
       " (('r_0',), 19, ('A_0',), '9.86960440108934*r_0**2'),\n",
       " (('V_0',), 20, ('r_0',), '0.620350490899399*V_0**(1/3)'),\n",
       " (('\\\\rho_{LG0}', 'm_{r0}'), 22, ('V_0',), 'm_{r0}/\\\\rho_{LG0}')]"
      ]
     },
     "execution_count": 18,
     "metadata": {},
     "output_type": "execute_result"
    }
   ],
   "source": [
    "newcomps"
   ]
  },
  {
   "cell_type": "code",
   "execution_count": 19,
   "id": "f1cfed4b-6588-41f7-8012-061a7664e210",
   "metadata": {
    "execution": {
     "iopub.execute_input": "2022-08-11T16:59:09.065745Z",
     "iopub.status.busy": "2022-08-11T16:59:09.065250Z",
     "iopub.status.idle": "2022-08-11T16:59:09.614757Z",
     "shell.execute_reply": "2022-08-11T16:59:09.613759Z",
     "shell.execute_reply.started": "2022-08-11T16:59:09.065745Z"
    },
    "tags": []
   },
   "outputs": [
    {
     "data": {
      "image/png": "[encoded data removed]",
      "text/plain": [
       "<Figure size 648x648 with 1 Axes>"
      ]
     },
     "metadata": {
      "needs_background": "light"
     },
     "output_type": "display_data"
    }
   ],
   "source": [
    "_, ax = render_incidence(edges_minassign_noparam, tree_minassign, rawvarname=True, \n",
    "                         dispendcomp=False, hideticks=True, patchwidth=4, figsize=((9,9)))"
   ]
  },
  {
   "cell_type": "markdown",
   "id": "f77fcb85-efee-4397-8ff6-c7e57d77b60d",
   "metadata": {},
   "source": [
    "### Optimization formulation"
   ]
  },
  {
   "cell_type": "code",
   "execution_count": 20,
   "id": "d25332d4-34c9-44b3-b49a-b4215d53eb71",
   "metadata": {
    "execution": {
     "iopub.execute_input": "2022-08-11T16:59:12.263096Z",
     "iopub.status.busy": "2022-08-11T16:59:12.262084Z",
     "iopub.status.idle": "2022-08-11T16:59:12.274410Z",
     "shell.execute_reply": "2022-08-11T16:59:12.274410Z",
     "shell.execute_reply.started": "2022-08-11T16:59:12.263096Z"
    },
    "tags": []
   },
   "outputs": [],
   "source": [
    "opt = addsolver(m, name=\"opt\", idbyname=True)\n",
    "addobj(opt, m_t)\n",
    "if run_optimal_structure:\n",
    "    addineq(opt, 0.1-vr)"
   ]
  },
  {
   "cell_type": "code",
   "execution_count": 21,
   "id": "7997fc43-a155-4dc0-90fb-bbf6313c7675",
   "metadata": {
    "execution": {
     "iopub.execute_input": "2022-08-11T16:59:13.520425Z",
     "iopub.status.busy": "2022-08-11T16:59:13.520425Z",
     "iopub.status.idle": "2022-08-11T16:59:13.524959Z",
     "shell.execute_reply": "2022-08-11T16:59:13.524423Z",
     "shell.execute_reply.started": "2022-08-11T16:59:13.520425Z"
    },
    "tags": []
   },
   "outputs": [],
   "source": [
    "solvefor_init = [vr]\n",
    "varoptions_init = {vr:[0.1,10]}# Pcomms:[10,100]}"
   ]
  },
  {
   "cell_type": "code",
   "execution_count": 35,
   "id": "1080c582-25f2-44ea-afc2-c79c63494908",
   "metadata": {
    "execution": {
     "iopub.execute_input": "2022-08-11T17:01:39.598812Z",
     "iopub.status.busy": "2022-08-11T17:01:39.598311Z",
     "iopub.status.idle": "2022-08-11T17:01:39.616307Z",
     "shell.execute_reply": "2022-08-11T17:01:39.615311Z",
     "shell.execute_reply.started": "2022-08-11T17:01:39.598812Z"
    },
    "tags": []
   },
   "outputs": [],
   "source": [
    "solvefor_opt = [m_t]\n",
    "varoptions_opt = {m_t:[9000]}"
   ]
  },
  {
   "cell_type": "code",
   "execution_count": 25,
   "id": "36c2f505-98ed-41b7-b58c-3edd364951c7",
   "metadata": {
    "execution": {
     "iopub.execute_input": "2022-08-11T16:59:35.344560Z",
     "iopub.status.busy": "2022-08-11T16:59:35.343570Z",
     "iopub.status.idle": "2022-08-11T16:59:35.352068Z",
     "shell.execute_reply": "2022-08-11T16:59:35.351063Z",
     "shell.execute_reply.started": "2022-08-11T16:59:35.344560Z"
    },
    "tags": []
   },
   "outputs": [],
   "source": [
    "solvefor, varoptions = ((solvefor_init, varoptions_init), (solvefor_opt, varoptions_opt))[run_optimal_structure]\n",
    "setsolvefor(opt, solvefor, varoptions)\n",
    "model.solvers_options['opt'] = {'type': OPT}#, 'optimizer': 'IPOPT', 'driver': om.pyOptSparseDriver}"
   ]
  },
  {
   "cell_type": "code",
   "execution_count": 26,
   "id": "54e3e8cd-6b53-49ee-a883-6e2d9d7fdc1f",
   "metadata": {
    "execution": {
     "iopub.execute_input": "2022-08-11T16:59:36.744514Z",
     "iopub.status.busy": "2022-08-11T16:59:36.743520Z",
     "iopub.status.idle": "2022-08-11T16:59:36.764517Z",
     "shell.execute_reply": "2022-08-11T16:59:36.763248Z",
     "shell.execute_reply.started": "2022-08-11T16:59:36.744514Z"
    },
    "tags": []
   },
   "outputs": [],
   "source": [
    "formulation = model.generate_formulation()\n",
    "edges_ma_opt, tree_ma_opt = merge(formulation, edges_minassign, \n",
    "                                  tree_minassign, copysolvers=False)\n",
    "edges_ma_opt_noparam = edges_no_param(model, edges_ma_opt)"
   ]
  },
  {
   "cell_type": "code",
   "execution_count": 27,
   "id": "b549f6e2-9a7e-4f0d-b379-8c882787681e",
   "metadata": {
    "execution": {
     "iopub.execute_input": "2022-08-11T16:59:37.382964Z",
     "iopub.status.busy": "2022-08-11T16:59:37.382964Z",
     "iopub.status.idle": "2022-08-11T16:59:37.902982Z",
     "shell.execute_reply": "2022-08-11T16:59:37.902821Z",
     "shell.execute_reply.started": "2022-08-11T16:59:37.382964Z"
    },
    "tags": []
   },
   "outputs": [
    {
     "data": {
      "image/png": "[encoded data removed]",
      "text/plain": [
       "<Figure size 648x648 with 1 Axes>"
      ]
     },
     "metadata": {
      "needs_background": "light"
     },
     "output_type": "display_data"
    }
   ],
   "source": [
    "_, ax = render_incidence(edges_ma_opt_noparam, tree_ma_opt, rawvarname=True, \n",
    "                         dispendcomp=False, hideticks=True, patchwidth=4, figsize=((9,9)))"
   ]
  },
  {
   "cell_type": "code",
   "execution_count": 28,
   "id": "72d8d795-3dd7-40e7-9c84-135a8dc7936c",
   "metadata": {
    "execution": {
     "iopub.execute_input": "2022-08-11T16:59:42.438949Z",
     "iopub.status.busy": "2022-08-11T16:59:42.438949Z",
     "iopub.status.idle": "2022-08-11T16:59:42.466997Z",
     "shell.execute_reply": "2022-08-11T16:59:42.466997Z",
     "shell.execute_reply.started": "2022-08-11T16:59:42.438949Z"
    },
    "tags": []
   },
   "outputs": [],
   "source": [
    "prob, mdao_in, groups, namingfunc = model_to_problem(model, \n",
    "                        formulation=(edges_ma_opt, tree_ma_opt),\n",
    "                        components=model.components+newcomps)"
   ]
  },
  {
   "cell_type": "code",
   "execution_count": 44,
   "id": "6e3dad89-05de-4b5d-846a-36c666bee5d1",
   "metadata": {
    "execution": {
     "iopub.execute_input": "2022-08-11T17:03:18.883076Z",
     "iopub.status.busy": "2022-08-11T17:03:18.882576Z",
     "iopub.status.idle": "2022-08-11T17:03:18.908077Z",
     "shell.execute_reply": "2022-08-11T17:03:18.907576Z",
     "shell.execute_reply.started": "2022-08-11T17:03:18.883076Z"
    },
    "tags": []
   },
   "outputs": [],
   "source": [
    "prob.set_val('m_t', 9219)\n",
    "prob.run_model()"
   ]
  },
  {
   "cell_type": "code",
   "execution_count": 45,
   "id": "a6cf67ed-6d89-406a-b500-74137578b93e",
   "metadata": {
    "execution": {
     "iopub.execute_input": "2022-08-11T17:03:19.180160Z",
     "iopub.status.busy": "2022-08-11T17:03:19.180160Z",
     "iopub.status.idle": "2022-08-11T17:03:19.190251Z",
     "shell.execute_reply": "2022-08-11T17:03:19.190251Z",
     "shell.execute_reply.started": "2022-08-11T17:03:19.180160Z"
    },
    "tags": []
   },
   "outputs": [
    {
     "data": {
      "text/plain": [
       "array([0.])"
      ]
     },
     "execution_count": 45,
     "metadata": {},
     "output_type": "execute_result"
    }
   ],
   "source": [
    "prob.get_val('v')"
   ]
  },
  {
   "cell_type": "code",
   "execution_count": 31,
   "id": "4d1ede7e-b8cd-471c-bead-d23c08faa0af",
   "metadata": {
    "execution": {
     "iopub.execute_input": "2022-08-11T16:59:48.193386Z",
     "iopub.status.busy": "2022-08-11T16:59:48.192423Z",
     "iopub.status.idle": "2022-08-11T16:59:48.205660Z",
     "shell.execute_reply": "2022-08-11T16:59:48.205660Z",
     "shell.execute_reply.started": "2022-08-11T16:59:48.193386Z"
    },
    "tags": []
   },
   "outputs": [],
   "source": [
    "#print_outputs(model, prob, namingfunc, rounding=3)"
   ]
  },
  {
   "cell_type": "code",
   "execution_count": 38,
   "id": "f022659a-df4b-42c4-a83f-be83b7280630",
   "metadata": {
    "execution": {
     "iopub.execute_input": "2022-08-11T17:01:55.479363Z",
     "iopub.status.busy": "2022-08-11T17:01:55.479363Z",
     "iopub.status.idle": "2022-08-11T17:01:57.169926Z",
     "shell.execute_reply": "2022-08-11T17:01:57.169926Z",
     "shell.execute_reply.started": "2022-08-11T17:01:55.479363Z"
    },
    "tags": []
   },
   "outputs": [
    {
     "name": "stdout",
     "output_type": "stream",
     "text": [
      "Singular matrix E in LSQ subproblem    (Exit mode 5)\n",
      "            Current function value: [9219.]\n",
      "            Iterations: 6\n",
      "            Function evaluations: 6\n",
      "            Gradient evaluations: 6\n",
      "Optimization FAILED.\n",
      "Singular matrix E in LSQ subproblem\n",
      "-----------------------------------\n"
     ]
    },
    {
     "data": {
      "text/plain": [
       "True"
      ]
     },
     "execution_count": 38,
     "metadata": {},
     "output_type": "execute_result"
    }
   ],
   "source": [
    "prob.run_driver()"
   ]
  },
  {
   "cell_type": "code",
   "execution_count": 39,
   "id": "da80aaec-8927-4fb5-b57a-a7b7b5f24f2c",
   "metadata": {
    "execution": {
     "iopub.execute_input": "2022-08-11T17:02:03.408668Z",
     "iopub.status.busy": "2022-08-11T17:02:03.408668Z",
     "iopub.status.idle": "2022-08-11T17:02:03.430241Z",
     "shell.execute_reply": "2022-08-11T17:02:03.429269Z",
     "shell.execute_reply.started": "2022-08-11T17:02:03.408668Z"
    },
    "tags": []
   },
   "outputs": [
    {
     "name": "stdout",
     "output_type": "stream",
     "text": [
      "----------------\n",
      "Design Variables\n",
      "----------------\n",
      "name  val      size  lower   upper  \n",
      "----  -------  ----  ------  ----- \n",
      "m_t   [9219.]  1     9000.0  1e+30  \n",
      "\n",
      "-----------\n",
      "Constraints\n",
      "-----------\n",
      "name   val    size  lower   upper  equals  \n",
      "-----  -----  ----  ------  -----  ------ \n",
      "neq24  [0.1]  1     -1e+30  0.0    None    \n",
      "\n",
      "----------\n",
      "Objectives\n",
      "----------\n",
      "name   val      size  \n",
      "-----  -------  ---- \n",
      "obj23  [9219.]  1     \n",
      "\n"
     ]
    }
   ],
   "source": [
    "prob.list_problem_vars(desvar_opts=['lower','upper'], cons_opts=['lower', 'upper', 'equals']);"
   ]
  },
  {
   "cell_type": "code",
   "execution_count": 37,
   "id": "2769ef24-af03-49b6-823c-dbe2bb2dbc4f",
   "metadata": {
    "execution": {
     "iopub.execute_input": "2022-08-11T16:26:04.022332Z",
     "iopub.status.busy": "2022-08-11T16:26:04.021810Z",
     "iopub.status.idle": "2022-08-11T16:26:14.872055Z",
     "shell.execute_reply": "2022-08-11T16:26:14.871787Z",
     "shell.execute_reply.started": "2022-08-11T16:26:04.022332Z"
    }
   },
   "outputs": [
    {
     "name": "stdout",
     "output_type": "stream",
     "text": [
      "Singular matrix E in LSQ subproblem    (Exit mode 5)\n",
      "            Current function value: [9219.]\n",
      "            Iterations: 6\n",
      "            Function evaluations: 6\n",
      "            Gradient evaluations: 6\n",
      "Optimization FAILED.\n",
      "Singular matrix E in LSQ subproblem\n",
      "-----------------------------------\n"
     ]
    },
    {
     "data": {
      "text/plain": [
       "True"
      ]
     },
     "execution_count": 37,
     "metadata": {},
     "output_type": "execute_result"
    }
   ],
   "source": [
    "prob.run_driver()"
   ]
  },
  {
   "cell_type": "code",
   "execution_count": null,
   "id": "1ece472e-5030-4bd6-af48-e8725a241508",
   "metadata": {},
   "outputs": [],
   "source": []
  }
 ],
 "metadata": {
  "kernelspec": {
   "display_name": "Python [conda env:minimdo]",
   "language": "python",
   "name": "conda-env-minimdo-py"
  },
  "language_info": {
   "codemirror_mode": {
    "name": "ipython",
    "version": 3
   },
   "file_extension": ".py",
   "mimetype": "text/x-python",
   "name": "python",
   "nbconvert_exporter": "python",
   "pygments_lexer": "ipython3",
   "version": "3.9.12"
  }
 },
 "nbformat": 4,
 "nbformat_minor": 5
}
