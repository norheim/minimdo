{
 "cells": [
  {
   "cell_type": "code",
   "execution_count": 1,
   "id": "eebcf9b7-b16b-416b-a94a-066987cd372a",
   "metadata": {
    "execution": {
     "iopub.execute_input": "2022-08-11T21:52:15.369741Z",
     "iopub.status.busy": "2022-08-11T21:52:15.369741Z",
     "iopub.status.idle": "2022-08-11T21:52:18.230065Z",
     "shell.execute_reply": "2022-08-11T21:52:18.230065Z",
     "shell.execute_reply.started": "2022-08-11T21:52:15.369741Z"
    },
    "tags": []
   },
   "outputs": [],
   "source": [
    "from balloon_initial import *"
   ]
  },
  {
   "cell_type": "code",
   "execution_count": 2,
   "id": "a3103277-d747-49a7-9b16-838c64d259a1",
   "metadata": {
    "execution": {
     "iopub.execute_input": "2022-08-11T21:52:18.230065Z",
     "iopub.status.busy": "2022-08-11T21:52:18.230065Z",
     "iopub.status.idle": "2022-08-11T21:52:18.245736Z",
     "shell.execute_reply": "2022-08-11T21:52:18.244591Z",
     "shell.execute_reply.started": "2022-08-11T21:52:18.230065Z"
    },
    "tags": []
   },
   "outputs": [],
   "source": [
    "from datastructures.api import (edges_no_param, addobj, addineq, merge, \n",
    "setsolvefor, var_params, copy_dicts, OPT)\n",
    "from datastructures.graphutils import flatten_tree, all_variables, all_edges\n",
    "from datastructures.tearing import dir_graph, min_arc_set_assign, min_arc_set\n",
    "from datastructures.operators import reformulate, invert_edges\n",
    "from datastructures.transformations import transform_components\n",
    "from datastructures.rendering import render_incidence\n",
    "from datastructures.runpipeline import model_to_problem\n",
    "from datastructures.postprocess import print_outputs\n",
    "import openmdao.api as om"
   ]
  },
  {
   "cell_type": "code",
   "execution_count": 3,
   "id": "f95bf3db-1e84-4aa7-a0f9-5c60b95dfa57",
   "metadata": {
    "execution": {
     "iopub.execute_input": "2022-08-11T21:52:18.246944Z",
     "iopub.status.busy": "2022-08-11T21:52:18.246944Z",
     "iopub.status.idle": "2022-08-11T21:52:18.283770Z",
     "shell.execute_reply": "2022-08-11T21:52:18.283770Z",
     "shell.execute_reply.started": "2022-08-11T21:52:18.246944Z"
    },
    "tags": []
   },
   "outputs": [],
   "source": [
    "from ipywidgets import interact"
   ]
  },
  {
   "cell_type": "markdown",
   "id": "5cbf351f-1b61-415d-9ffd-23217bee21d2",
   "metadata": {},
   "source": [
    "### Configuration"
   ]
  },
  {
   "cell_type": "code",
   "execution_count": 4,
   "id": "455f4dfc-c11c-4f06-a775-9d35f4bac976",
   "metadata": {
    "execution": {
     "iopub.execute_input": "2022-08-11T21:52:18.286004Z",
     "iopub.status.busy": "2022-08-11T21:52:18.286004Z",
     "iopub.status.idle": "2022-08-11T21:52:18.318590Z",
     "shell.execute_reply": "2022-08-11T21:52:18.318092Z",
     "shell.execute_reply.started": "2022-08-11T21:52:18.286004Z"
    },
    "tags": []
   },
   "outputs": [
    {
     "data": {
      "application/vnd.jupyter.widget-view+json": {
       "model_id": "6482b10446bd442984d2b25861508c1c",
       "version_major": 2,
       "version_minor": 0
      },
      "text/plain": [
       "interactive(children=(Checkbox(value=True, description='optimal_structure'), Output()), _dom_classes=('widget-…"
      ]
     },
     "metadata": {},
     "output_type": "display_data"
    }
   ],
   "source": [
    "global run_optimal_structure\n",
    "def f(optimal_structure):\n",
    "    global run_optimal_structure\n",
    "    run_optimal_structure=optimal_structure\n",
    "interact(f, optimal_structure=True);"
   ]
  },
  {
   "cell_type": "markdown",
   "id": "2fcf3626-4773-4556-a34f-9f39ad2af7fb",
   "metadata": {},
   "source": [
    "### Load structure of model"
   ]
  },
  {
   "cell_type": "code",
   "execution_count": 5,
   "id": "0f24047e-e8f9-45ec-8edf-73a0572fec93",
   "metadata": {
    "execution": {
     "iopub.execute_input": "2022-08-11T21:52:19.745066Z",
     "iopub.status.busy": "2022-08-11T21:52:19.743929Z",
     "iopub.status.idle": "2022-08-11T21:52:19.758352Z",
     "shell.execute_reply": "2022-08-11T21:52:19.757338Z",
     "shell.execute_reply.started": "2022-08-11T21:52:19.745066Z"
    },
    "tags": []
   },
   "outputs": [],
   "source": [
    "edges, tree = model.generate_formulation()\n",
    "edges_nopar =  edges_no_param(model, edges)\n",
    "outset_initial = {comp: var[0] for comp,var in edges[1].items()}"
   ]
  },
  {
   "cell_type": "markdown",
   "id": "42b9f548-0a94-47e7-ad19-6b1bd30fab9f",
   "metadata": {},
   "source": [
    "### Restructure design model"
   ]
  },
  {
   "cell_type": "markdown",
   "id": "4beb869b-bbc3-4916-95c9-bebb94b3d5d4",
   "metadata": {},
   "source": [
    "We force variables from the constraints to be inputs:"
   ]
  },
  {
   "cell_type": "code",
   "execution_count": 6,
   "id": "47c84f5a-4c8f-436f-8782-73d908d21802",
   "metadata": {
    "execution": {
     "iopub.execute_input": "2022-08-11T21:52:20.359766Z",
     "iopub.status.busy": "2022-08-11T21:52:20.359766Z",
     "iopub.status.idle": "2022-08-11T21:52:20.365381Z",
     "shell.execute_reply": "2022-08-11T21:52:20.365230Z",
     "shell.execute_reply.started": "2022-08-11T21:52:20.359766Z"
    },
    "tags": []
   },
   "outputs": [],
   "source": [
    "not_input = ['T_z','p_z','g_z',r'\\rho_z', r'm_{rz}', 'm_{r0}', 'h_z', 'r_z', 'V_z', 'L_z', 'W_z', 'W_0']\n",
    "not_output = []#[r'm_{rz}', 'm_{r0}']"
   ]
  },
  {
   "cell_type": "code",
   "execution_count": 7,
   "id": "cce57422-8810-4d1a-8a84-12cb7212fee2",
   "metadata": {
    "execution": {
     "iopub.execute_input": "2022-08-11T21:52:20.609893Z",
     "iopub.status.busy": "2022-08-11T21:52:20.609893Z",
     "iopub.status.idle": "2022-08-11T21:52:20.685590Z",
     "shell.execute_reply": "2022-08-11T21:52:20.685074Z",
     "shell.execute_reply.started": "2022-08-11T21:52:20.609893Z"
    },
    "tags": []
   },
   "outputs": [
    {
     "name": "stdout",
     "output_type": "stream",
     "text": [
      "Set parameter Username\n",
      "Academic license - for non-commercial use only - expires 2023-02-25\n"
     ]
    }
   ],
   "source": [
    "edges_for_solving = copy_dicts(edges_nopar)\n",
    "eqnidxs = list(edges_for_solving[1].keys())\n",
    "varidxs = all_variables(*edges_for_solving)\n",
    "graph_edges_minassign = all_edges(*edges_for_solving)\n",
    "edges_left_right = list(dir_graph(graph_edges_minassign, eqnidxs, {}))\n",
    "xsol,_ = min_arc_set_assign(edges_left_right, varidxs, eqnidxs, not_input, not_output)"
   ]
  },
  {
   "cell_type": "code",
   "execution_count": 8,
   "id": "d4c2bb57-5889-4e58-b51e-db5776f420f3",
   "metadata": {
    "execution": {
     "iopub.execute_input": "2022-08-11T21:52:21.150058Z",
     "iopub.status.busy": "2022-08-11T21:52:21.150058Z",
     "iopub.status.idle": "2022-08-11T21:52:21.173974Z",
     "shell.execute_reply": "2022-08-11T21:52:21.173415Z",
     "shell.execute_reply.started": "2022-08-11T21:52:21.150058Z"
    },
    "tags": []
   },
   "outputs": [],
   "source": [
    "cycles, elimset, _ = min_arc_set(edges_left_right, outset_initial, varidxs, eqnidxs)\n",
    "outset_opt = {key:val for key,val in outset_initial.items() if key not in elimset}"
   ]
  },
  {
   "cell_type": "markdown",
   "id": "4b3e74e3-f213-4cc6-a464-b68341d4f21c",
   "metadata": {},
   "source": [
    "### Build structure of optimization model"
   ]
  },
  {
   "cell_type": "code",
   "execution_count": 9,
   "id": "b53da9e9-3c28-40fc-9b9f-3d371a877b63",
   "metadata": {
    "execution": {
     "iopub.execute_input": "2022-08-11T21:46:46.901802Z",
     "iopub.status.busy": "2022-08-11T21:46:46.901802Z",
     "iopub.status.idle": "2022-08-11T21:46:46.910894Z",
     "shell.execute_reply": "2022-08-11T21:46:46.910396Z",
     "shell.execute_reply.started": "2022-08-11T21:46:46.901802Z"
    },
    "tags": []
   },
   "outputs": [],
   "source": [
    "outset_opt = None\n",
    "if run_optimal_structure:\n",
    "    outset_opt = {right:left for left, right in edges_left_right \n",
    "                  if (left,right) in edges_left_right and xsol[left, right] > 0.5}"
   ]
  },
  {
   "cell_type": "code",
   "execution_count": 9,
   "id": "e6552eca-bde2-4cf4-a09b-f65000470386",
   "metadata": {
    "execution": {
     "iopub.execute_input": "2022-08-11T21:52:26.450122Z",
     "iopub.status.busy": "2022-08-11T21:52:26.450122Z",
     "iopub.status.idle": "2022-08-11T21:52:26.468487Z",
     "shell.execute_reply": "2022-08-11T21:52:26.467957Z",
     "shell.execute_reply.started": "2022-08-11T21:52:26.450122Z"
    },
    "tags": []
   },
   "outputs": [],
   "source": [
    "tree_for_reformulation = flatten_tree(tree, 'opt')\n",
    "not_outputs = var_params(model, edges)\n",
    "edges_minassign, tree_minassign = reformulate(edges, tree_for_reformulation, outset_initial, \n",
    "                                              outset_opt, root_solver_name='opt', not_outputs=not_outputs,\n",
    "                                              solveforvars=2, mdf=True) # For OPT do not have subproblems so no need to set mdf=True/False\n",
    "edges_minassign_noparam = edges_no_param(model, edges_minassign)"
   ]
  },
  {
   "cell_type": "code",
   "execution_count": 10,
   "id": "258d7dfa-b8e5-4453-aa93-ca4e554b731d",
   "metadata": {
    "execution": {
     "iopub.execute_input": "2022-08-11T21:52:27.567616Z",
     "iopub.status.busy": "2022-08-11T21:52:27.567616Z",
     "iopub.status.idle": "2022-08-11T21:52:27.597481Z",
     "shell.execute_reply": "2022-08-11T21:52:27.596359Z",
     "shell.execute_reply.started": "2022-08-11T21:52:27.567616Z"
    },
    "tags": []
   },
   "outputs": [],
   "source": [
    "newcomps = transform_components(edges, edges_minassign, model.components, model.idmapping)"
   ]
  },
  {
   "cell_type": "code",
   "execution_count": 11,
   "id": "db05bc50-2646-48a5-b1c9-10dc9ec5fb73",
   "metadata": {
    "execution": {
     "iopub.execute_input": "2022-08-11T21:52:28.450149Z",
     "iopub.status.busy": "2022-08-11T21:52:28.450149Z",
     "iopub.status.idle": "2022-08-11T21:52:28.460437Z",
     "shell.execute_reply": "2022-08-11T21:52:28.459765Z",
     "shell.execute_reply.started": "2022-08-11T21:52:28.450149Z"
    },
    "tags": []
   },
   "outputs": [],
   "source": [
    "#from datastructures.execution import Component\n",
    "#import sympy as sp\n",
    "#newcomps2 = newcomps[0:4]+[Component.fromsympy(0.620350490899399*abs(V_0)**(1/3), tovar=r_0, component=20)]+[newcomps[5]]"
   ]
  },
  {
   "cell_type": "code",
   "execution_count": 12,
   "id": "f1cfed4b-6588-41f7-8012-061a7664e210",
   "metadata": {
    "execution": {
     "iopub.execute_input": "2022-08-11T21:52:28.819862Z",
     "iopub.status.busy": "2022-08-11T21:52:28.819862Z",
     "iopub.status.idle": "2022-08-11T21:52:29.392520Z",
     "shell.execute_reply": "2022-08-11T21:52:29.392520Z",
     "shell.execute_reply.started": "2022-08-11T21:52:28.819862Z"
    },
    "tags": []
   },
   "outputs": [
    {
     "data": {
      "image/png": "[encoded data removed]",
      "text/plain": [
       "<Figure size 648x648 with 1 Axes>"
      ]
     },
     "metadata": {
      "needs_background": "light"
     },
     "output_type": "display_data"
    }
   ],
   "source": [
    "_, ax = render_incidence(edges_minassign_noparam, tree_minassign, rawvarname=True, \n",
    "                         dispendcomp=False, hideticks=True, patchwidth=4, figsize=((9,9)))"
   ]
  },
  {
   "cell_type": "markdown",
   "id": "f77fcb85-efee-4397-8ff6-c7e57d77b60d",
   "metadata": {},
   "source": [
    "### Optimization formulation"
   ]
  },
  {
   "cell_type": "code",
   "execution_count": 13,
   "id": "d25332d4-34c9-44b3-b49a-b4215d53eb71",
   "metadata": {
    "execution": {
     "iopub.execute_input": "2022-08-11T21:52:39.379668Z",
     "iopub.status.busy": "2022-08-11T21:52:39.379668Z",
     "iopub.status.idle": "2022-08-11T21:52:39.406612Z",
     "shell.execute_reply": "2022-08-11T21:52:39.405711Z",
     "shell.execute_reply.started": "2022-08-11T21:52:39.379668Z"
    },
    "tags": []
   },
   "outputs": [],
   "source": [
    "opt = addsolver(m, name=\"opt\", idbyname=True)\n",
    "addobj(opt, m_t)\n",
    "if run_optimal_structure:\n",
    "    addineq(opt, 0.1-vr)\n",
    "    addineq(opt, 0.1-D)"
   ]
  },
  {
   "cell_type": "code",
   "execution_count": 14,
   "id": "7997fc43-a155-4dc0-90fb-bbf6313c7675",
   "metadata": {
    "execution": {
     "iopub.execute_input": "2022-08-11T21:52:40.008770Z",
     "iopub.status.busy": "2022-08-11T21:52:40.007833Z",
     "iopub.status.idle": "2022-08-11T21:52:40.021268Z",
     "shell.execute_reply": "2022-08-11T21:52:40.020348Z",
     "shell.execute_reply.started": "2022-08-11T21:52:40.008360Z"
    },
    "tags": []
   },
   "outputs": [],
   "source": [
    "solvefor_init = [vr]\n",
    "varoptions_init = {vr:[0.1,10]}# Pcomms:[10,100]}"
   ]
  },
  {
   "cell_type": "code",
   "execution_count": 15,
   "id": "1080c582-25f2-44ea-afc2-c79c63494908",
   "metadata": {
    "execution": {
     "iopub.execute_input": "2022-08-11T21:52:42.944634Z",
     "iopub.status.busy": "2022-08-11T21:52:42.943478Z",
     "iopub.status.idle": "2022-08-11T21:52:42.961073Z",
     "shell.execute_reply": "2022-08-11T21:52:42.960075Z",
     "shell.execute_reply.started": "2022-08-11T21:52:42.944634Z"
    },
    "tags": []
   },
   "outputs": [],
   "source": [
    "solvefor_opt = [m_t]\n",
    "varoptions_opt = {m_t:[9000]}"
   ]
  },
  {
   "cell_type": "code",
   "execution_count": 16,
   "id": "36c2f505-98ed-41b7-b58c-3edd364951c7",
   "metadata": {
    "execution": {
     "iopub.execute_input": "2022-08-11T21:52:43.174959Z",
     "iopub.status.busy": "2022-08-11T21:52:43.174959Z",
     "iopub.status.idle": "2022-08-11T21:52:43.186370Z",
     "shell.execute_reply": "2022-08-11T21:52:43.186370Z",
     "shell.execute_reply.started": "2022-08-11T21:52:43.174959Z"
    },
    "tags": []
   },
   "outputs": [],
   "source": [
    "solvefor, varoptions = ((solvefor_init, varoptions_init), (solvefor_opt, varoptions_opt))[run_optimal_structure]\n",
    "setsolvefor(opt, solvefor, varoptions)\n",
    "model.solvers_options['opt'] = {'type': OPT} #'optimizer': 'IPOPT', 'driver': om.pyOptSparseDriver}"
   ]
  },
  {
   "cell_type": "code",
   "execution_count": 17,
   "id": "54e3e8cd-6b53-49ee-a883-6e2d9d7fdc1f",
   "metadata": {
    "execution": {
     "iopub.execute_input": "2022-08-11T21:52:43.952586Z",
     "iopub.status.busy": "2022-08-11T21:52:43.952586Z",
     "iopub.status.idle": "2022-08-11T21:52:43.968012Z",
     "shell.execute_reply": "2022-08-11T21:52:43.967858Z",
     "shell.execute_reply.started": "2022-08-11T21:52:43.952586Z"
    },
    "tags": []
   },
   "outputs": [],
   "source": [
    "formulation = model.generate_formulation()\n",
    "edges_ma_opt, tree_ma_opt = merge(formulation, edges_minassign, \n",
    "                                  tree_minassign, copysolvers=False)\n",
    "edges_ma_opt_noparam = edges_no_param(model, edges_ma_opt)"
   ]
  },
  {
   "cell_type": "code",
   "execution_count": 18,
   "id": "b549f6e2-9a7e-4f0d-b379-8c882787681e",
   "metadata": {
    "execution": {
     "iopub.execute_input": "2022-08-11T21:52:44.809952Z",
     "iopub.status.busy": "2022-08-11T21:52:44.809952Z",
     "iopub.status.idle": "2022-08-11T21:52:45.290152Z",
     "shell.execute_reply": "2022-08-11T21:52:45.289796Z",
     "shell.execute_reply.started": "2022-08-11T21:52:44.809952Z"
    },
    "tags": []
   },
   "outputs": [
    {
     "data": {
      "image/png": "[encoded data removed]",
      "text/plain": [
       "<Figure size 648x648 with 1 Axes>"
      ]
     },
     "metadata": {
      "needs_background": "light"
     },
     "output_type": "display_data"
    }
   ],
   "source": [
    "_, ax = render_incidence(edges_ma_opt_noparam, tree_ma_opt, rawvarname=True, \n",
    "                         dispendcomp=False, hideticks=True, patchwidth=4, figsize=((9,9)))"
   ]
  },
  {
   "cell_type": "code",
   "execution_count": 19,
   "id": "774fa45e-8087-4dc5-a0ba-522429b8d008",
   "metadata": {
    "execution": {
     "iopub.execute_input": "2022-08-11T21:02:43.105589Z",
     "iopub.status.busy": "2022-08-11T21:02:43.105589Z",
     "iopub.status.idle": "2022-08-11T21:02:43.109785Z",
     "shell.execute_reply": "2022-08-11T21:02:43.109785Z",
     "shell.execute_reply.started": "2022-08-11T21:02:43.105589Z"
    },
    "tags": []
   },
   "outputs": [],
   "source": [
    "from datastructures.workflow import get_f\n",
    "from datastructures.graphutils import all_component_nodes\n",
    "#[get_f(model.components+newcomps, edges_ma_opt)(elt) for elt in all_component_nodes(edges_ma_opt)]"
   ]
  },
  {
   "cell_type": "code",
   "execution_count": 22,
   "id": "72d8d795-3dd7-40e7-9c84-135a8dc7936c",
   "metadata": {
    "execution": {
     "iopub.execute_input": "2022-08-11T21:02:57.887698Z",
     "iopub.status.busy": "2022-08-11T21:02:57.887698Z",
     "iopub.status.idle": "2022-08-11T21:02:57.919278Z",
     "shell.execute_reply": "2022-08-11T21:02:57.919172Z",
     "shell.execute_reply.started": "2022-08-11T21:02:57.887698Z"
    },
    "tags": []
   },
   "outputs": [],
   "source": [
    "prob, mdao_in, groups, namingfunc = model_to_problem(model, \n",
    "                        formulation=(edges_ma_opt, tree_ma_opt),\n",
    "                        components=model.components+newcomps)"
   ]
  },
  {
   "cell_type": "code",
   "execution_count": 23,
   "id": "6e3dad89-05de-4b5d-846a-36c666bee5d1",
   "metadata": {
    "execution": {
     "iopub.execute_input": "2022-08-11T21:03:10.150709Z",
     "iopub.status.busy": "2022-08-11T21:03:10.150709Z",
     "iopub.status.idle": "2022-08-11T21:03:10.160165Z",
     "shell.execute_reply": "2022-08-11T21:03:10.160165Z",
     "shell.execute_reply.started": "2022-08-11T21:03:10.150709Z"
    },
    "tags": []
   },
   "outputs": [],
   "source": [
    "# vs = []\n",
    "# for mti in np.linspace(9000,10000):\n",
    "#     prob.set_val('m_t', mti)\n",
    "#     prob.run_model()\n",
    "#     vs.append(prob.get_val('v')[0])\n",
    "# import matplotlib.pyplot as plt\n",
    "# plt.plot(np.linspace(9000,10000), np.log(np.array(vs)+0.1))"
   ]
  },
  {
   "cell_type": "code",
   "execution_count": 24,
   "id": "a6cf67ed-6d89-406a-b500-74137578b93e",
   "metadata": {
    "execution": {
     "iopub.execute_input": "2022-08-11T21:03:16.204830Z",
     "iopub.status.busy": "2022-08-11T21:03:16.204326Z",
     "iopub.status.idle": "2022-08-11T21:03:16.209738Z",
     "shell.execute_reply": "2022-08-11T21:03:16.208776Z",
     "shell.execute_reply.started": "2022-08-11T21:03:16.204830Z"
    },
    "tags": []
   },
   "outputs": [],
   "source": [
    "# prob.set_val('m_t', 9000)\n",
    "# prob.run_model()\n",
    "# prob.get_val('v')"
   ]
  },
  {
   "cell_type": "code",
   "execution_count": 25,
   "id": "91d066c4-2605-457a-a9e5-659a720c90aa",
   "metadata": {
    "execution": {
     "iopub.execute_input": "2022-08-11T21:03:18.737423Z",
     "iopub.status.busy": "2022-08-11T21:03:18.737423Z",
     "iopub.status.idle": "2022-08-11T21:03:18.755292Z",
     "shell.execute_reply": "2022-08-11T21:03:18.754289Z",
     "shell.execute_reply.started": "2022-08-11T21:03:18.737423Z"
    },
    "tags": []
   },
   "outputs": [
    {
     "data": {
      "text/plain": [
       "array([6])"
      ]
     },
     "execution_count": 25,
     "metadata": {},
     "output_type": "execute_result"
    }
   ],
   "source": [
    "prob.get_val('v')"
   ]
  },
  {
   "cell_type": "code",
   "execution_count": 27,
   "id": "f022659a-df4b-42c4-a83f-be83b7280630",
   "metadata": {
    "execution": {
     "iopub.execute_input": "2022-08-11T21:03:29.598310Z",
     "iopub.status.busy": "2022-08-11T21:03:29.598310Z",
     "iopub.status.idle": "2022-08-11T21:03:37.456560Z",
     "shell.execute_reply": "2022-08-11T21:03:37.456560Z",
     "shell.execute_reply.started": "2022-08-11T21:03:29.598310Z"
    },
    "tags": []
   },
   "outputs": [
    {
     "name": "stdout",
     "output_type": "stream",
     "text": [
      "\n",
      "==\n",
      "s2\n",
      "==\n",
      "NL: NewtonSolver 'NL: Newton' on system 's2' failed to converge in 10 iterations.\n",
      "\n",
      "==\n",
      "s2\n",
      "==\n",
      "NL: NewtonSolver 'NL: Newton' on system 's2' failed to converge in 10 iterations.\n",
      "Inequality constraints incompatible    (Exit mode 4)\n",
      "            Current function value: 98299203.8263966\n",
      "            Iterations: 1\n",
      "            Function evaluations: 1\n",
      "            Gradient evaluations: 1\n",
      "Optimization FAILED.\n",
      "Inequality constraints incompatible\n",
      "-----------------------------------\n"
     ]
    },
    {
     "data": {
      "text/plain": [
       "True"
      ]
     },
     "execution_count": 27,
     "metadata": {},
     "output_type": "execute_result"
    }
   ],
   "source": [
    "prob.run_driver()"
   ]
  },
  {
   "cell_type": "code",
   "execution_count": 26,
   "id": "4d1ede7e-b8cd-471c-bead-d23c08faa0af",
   "metadata": {
    "execution": {
     "iopub.execute_input": "2022-08-11T21:03:26.037505Z",
     "iopub.status.busy": "2022-08-11T21:03:26.037505Z",
     "iopub.status.idle": "2022-08-11T21:03:26.047361Z",
     "shell.execute_reply": "2022-08-11T21:03:26.046715Z",
     "shell.execute_reply.started": "2022-08-11T21:03:26.037505Z"
    },
    "tags": []
   },
   "outputs": [],
   "source": [
    "#print_outputs(model, prob, namingfunc, rounding=3)"
   ]
  },
  {
   "cell_type": "code",
   "execution_count": 24,
   "id": "e2eee625",
   "metadata": {
    "execution": {
     "iopub.execute_input": "2022-08-11T19:55:08.536530Z",
     "iopub.status.busy": "2022-08-11T19:55:08.536530Z",
     "iopub.status.idle": "2022-08-11T19:55:08.553765Z",
     "shell.execute_reply": "2022-08-11T19:55:08.552765Z",
     "shell.execute_reply.started": "2022-08-11T19:55:08.536530Z"
    }
   },
   "outputs": [],
   "source": [
    "#prob.driver.pyopt_solution.optInform['value']"
   ]
  },
  {
   "cell_type": "code",
   "execution_count": 25,
   "id": "da80aaec-8927-4fb5-b57a-a7b7b5f24f2c",
   "metadata": {
    "execution": {
     "iopub.execute_input": "2022-08-11T20:57:25.806096Z",
     "iopub.status.busy": "2022-08-11T20:57:25.806096Z",
     "iopub.status.idle": "2022-08-11T20:57:25.817098Z",
     "shell.execute_reply": "2022-08-11T20:57:25.816097Z",
     "shell.execute_reply.started": "2022-08-11T20:57:25.806096Z"
    },
    "tags": []
   },
   "outputs": [
    {
     "name": "stdout",
     "output_type": "stream",
     "text": [
      "----------------\n",
      "Design Variables\n",
      "----------------\n",
      "name  val              size  lower   upper  \n",
      "----  ---------------  ----  ------  ----- \n",
      "m_t   [9317.23705048]  1     9000.0  1e+30  \n",
      "\n",
      "-----------\n",
      "Constraints\n",
      "-----------\n",
      "name   val                size  lower   upper  equals  \n",
      "-----  -----------------  ----  ------  -----  ------ \n",
      "neq24  [-1.65891828e-10]  1     -1e+30  0.0    None    \n",
      "\n",
      "----------\n",
      "Objectives\n",
      "----------\n",
      "name   val              size  \n",
      "-----  ---------------  ---- \n",
      "obj23  [9317.23705048]  1     \n",
      "\n"
     ]
    }
   ],
   "source": [
    "prob.list_problem_vars(desvar_opts=['lower','upper'], cons_opts=['lower', 'upper', 'equals']);"
   ]
  }
 ],
 "metadata": {
  "kernelspec": {
   "display_name": "Python [conda env:minimdo]",
   "language": "python",
   "name": "conda-env-minimdo-py"
  },
  "language_info": {
   "codemirror_mode": {
    "name": "ipython",
    "version": 3
   },
   "file_extension": ".py",
   "mimetype": "text/x-python",
   "name": "python",
   "nbconvert_exporter": "python",
   "pygments_lexer": "ipython3",
   "version": "3.9.12"
  },
  "vscode": {
   "interpreter": {
    "hash": "ddbffdfc6e576b5d36b4191f1f51800df280a911e81ff2615f408143452d1a9a"
   }
  }
 },
 "nbformat": 4,
 "nbformat_minor": 5
}
