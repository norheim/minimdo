{
 "cells": [
  {
   "cell_type": "markdown",
   "metadata": {},
   "source": [
    "# Propagate structure"
   ]
  },
  {
   "cell_type": "code",
   "execution_count": 1,
   "metadata": {},
   "outputs": [],
   "source": [
    "from utils.testproblems import generate_random_prob\n",
    "from utils.polycasebuilder import generate_random_polynomials\n",
    "from graph.graphutils import edges_to_Ein_Eout, sources, flat_graph_formulation\n",
    "from graph.operators import sort_scc\n",
    "from torchengine import AnalyticalSetSympy, AnalysisFunction, EliminateAnalysis, ParallelAnalysis, Function\n",
    "import torch"
   ]
  },
  {
   "cell_type": "code",
   "execution_count": 2,
   "metadata": {},
   "outputs": [],
   "source": [
    "indices = {\n",
    "    'x1': torch.tensor([0]), \n",
    "    'x2': torch.tensor([1]), \n",
    "    'x3': torch.tensor([2]),\n",
    "    'x4': torch.tensor([3,4]),\n",
    "    'x5': torch.tensor([5,6]),\n",
    "    'x6': torch.tensor([7])\n",
    "    }\n",
    "\n",
    "A1 = AnalysisFunction((('x1','x2','x3'), ('x5', 'x4'), lambda x1,x2,x3: (torch.tensor((x1,x2)), \n",
    "                                                                         torch.tensor((x3, x1*x2*x3)))), indices)\n",
    "A2 = AnalysisFunction((('x3','x1'), ('x6',), lambda x3,x1: x3+x1), indices)\n",
    "A3 = AnalysisFunction((('x6',), ('x1',), lambda x6: x6), indices)\n",
    "F = Function((('x6',), lambda x6: x6), indices)\n",
    "A123 = EliminateAnalysis([A1, A2, A3], [])"
   ]
  },
  {
   "cell_type": "code",
   "execution_count": 3,
   "metadata": {},
   "outputs": [
    {
     "data": {
      "text/plain": [
       "([7],)"
      ]
     },
     "execution_count": 3,
     "metadata": {},
     "output_type": "execute_result"
    }
   ],
   "source": [
    "F.structure_full"
   ]
  },
  {
   "cell_type": "code",
   "execution_count": 4,
   "metadata": {},
   "outputs": [],
   "source": [
    "residualvar = [0]\n",
    "A123res = ParallelAnalysis([A123], [F], sharedvars=residualvar)"
   ]
  },
  {
   "cell_type": "code",
   "execution_count": 5,
   "metadata": {},
   "outputs": [
    {
     "data": {
      "text/plain": [
       "(tensor([0, 1, 2]), tensor([]))"
      ]
     },
     "execution_count": 5,
     "metadata": {},
     "output_type": "execute_result"
    }
   ],
   "source": [
    "A123res.structure"
   ]
  },
  {
   "cell_type": "code",
   "execution_count": 6,
   "metadata": {},
   "outputs": [
    {
     "data": {
      "text/plain": [
       "tensor([8., 2., 3., 4., 5., 6., 7., 8.], dtype=torch.float64)"
      ]
     },
     "execution_count": 6,
     "metadata": {},
     "output_type": "execute_result"
    }
   ],
   "source": [
    "x0 = torch.tensor([1,2,3,4,5,6,7,8], dtype=torch.float64)\n",
    "A3(x0)"
   ]
  },
  {
   "cell_type": "code",
   "execution_count": 7,
   "metadata": {},
   "outputs": [],
   "source": [
    "n_eqs, n_vars, sparsity, seed1, seed2 = 10, 15, 1.5, 42, 12345 #1.7\n",
    "eqv, varinc, dout = generate_random_prob(n_eqs, n_vars, seed1, sparsity)\n",
    "polynomials, var_mapping, edges, tree = generate_random_polynomials(eqv, dout, n_eqs, seed=seed2)\n",
    "symb_mapping = {key: elt[0] for key, elt in var_mapping.items()}\n",
    "inputids = sorted(sources(*edges_to_Ein_Eout(edges)))\n",
    "inputvars = [var_mapping[elt][0] for elt in inputids]\n",
    "fobj = sum([(elt-1)**2 for elt in inputvars])\n",
    "indices = {elt: torch.tensor([int(i)]) for i, elt in symb_mapping.items()}"
   ]
  },
  {
   "cell_type": "code",
   "execution_count": 8,
   "metadata": {},
   "outputs": [],
   "source": [
    "sets = {idx:AnalyticalSetSympy(poly, indices=indices).reassign(symb_mapping[edges[1][idx][0]]) for idx,poly in polynomials.items()}"
   ]
  },
  {
   "cell_type": "code",
   "execution_count": 9,
   "metadata": {},
   "outputs": [
    {
     "data": {
      "text/plain": [
       "((tensor([12,  3,  7,  6]), tensor([4])), {4: [12, 3, 7, 6]})"
      ]
     },
     "execution_count": 9,
     "metadata": {},
     "output_type": "execute_result"
    }
   ],
   "source": [
    "sets[0].analysis.structure, sets[0].analysis.structure_full"
   ]
  },
  {
   "cell_type": "code",
   "execution_count": 10,
   "metadata": {},
   "outputs": [
    {
     "data": {
      "text/plain": [
       "{5: [3, 1, 2], 4: [1, 2, 3], 1: [1, 2, 3]}"
      ]
     },
     "execution_count": 10,
     "metadata": {},
     "output_type": "execute_result"
    }
   ],
   "source": [
    "import torch\n",
    "import itertools\n",
    "\n",
    "analysis_structures = (\n",
    "    {5: [1,2,3], 4: [1,2,3]},\n",
    "    {5: [3,4]},\n",
    "    {1: [5]}\n",
    "    )\n",
    "functional_structure = (\n",
    "    [4],\n",
    "    [5], \n",
    "    [6],\n",
    ")\n",
    "\n",
    "eliminated_output = {}\n",
    "full_structure = {}\n",
    "for structure in analysis_structures:\n",
    "    eliminated_output_buffer = {}\n",
    "    for struct_out, struct_in in structure.items():\n",
    "        full_structure[struct_out] = []\n",
    "        for i in struct_in:\n",
    "            extension = [i] if i not in eliminated_output else eliminated_output[i]\n",
    "            for elt in extension:\n",
    "                if elt not in full_structure[struct_out]:\n",
    "                    full_structure[struct_out] += [elt] # the last part is to avoid self reference\n",
    "        eliminated_output_buffer[struct_out] = eliminated_output.get(struct_out,[])+full_structure[struct_out]\n",
    "    eliminated_output.update(eliminated_output_buffer)\n",
    "\n",
    "full_structure"
   ]
  },
  {
   "cell_type": "code",
   "execution_count": 11,
   "metadata": {},
   "outputs": [
    {
     "ename": "NameError",
     "evalue": "name 'get_analysis_structure' is not defined",
     "output_type": "error",
     "traceback": [
      "\u001b[1;31m---------------------------------------------------------------------------\u001b[0m",
      "\u001b[1;31mNameError\u001b[0m                                 Traceback (most recent call last)",
      "Input \u001b[1;32mIn [11]\u001b[0m, in \u001b[0;36m<cell line: 1>\u001b[1;34m()\u001b[0m\n\u001b[1;32m----> 1\u001b[0m \u001b[43mget_analysis_structure\u001b[49m(analysis_structures)\n",
      "\u001b[1;31mNameError\u001b[0m: name 'get_analysis_structure' is not defined"
     ]
    }
   ],
   "source": [
    "get_analysis_structure(analysis_structures)"
   ]
  },
  {
   "cell_type": "code",
   "execution_count": 1,
   "metadata": {},
   "outputs": [],
   "source": [
    "from torchengine import AnalyticalSet, Function, EliminateAnalysis, EliminateAnalysisMergeResiduals, ElimResidual\n",
    "from torchengine import ParallelAnalysis\n",
    "from scipy.optimize import minimize\n",
    "import numpy as np\n",
    "import torch\n",
    "np.set_printoptions(formatter={'float': lambda x: \"{:0.2f}\".format(x).rstrip('0').rstrip('.')})"
   ]
  },
  {
   "cell_type": "code",
   "execution_count": 2,
   "metadata": {},
   "outputs": [],
   "source": [
    "from trash.inputresolver import reassigneq\n",
    "import sympy as sp\n",
    "# need a AnalyticalSetSympa that has a transformation function to generate an alternate AnaltyicalSetSympa with a different output set using reassingeq\n",
    "class AnalyticalSetSympy(AnalyticalSet):\n",
    "    def __init__(self, expression, outputvar=None, indices=None):\n",
    "        outputvars = (outputvar,) if outputvar is not None else ()\n",
    "        outputvar = 0 if outputvar is None else outputvar\n",
    "        self.indices = indices\n",
    "        self.expression = expression\n",
    "        self.outputvar = outputvar\n",
    "        self.variables = tuple(expression.free_symbols)\n",
    "        residual_variables =self.variables+outputvars\n",
    "        analysis_function = sp.lambdify(self.variables, expression, torch)\n",
    "        residual_function = sp.lambdify(residual_variables, expression-outputvar, torch)\n",
    "        triplet = (self.variables, outputvars, analysis_function)\n",
    "        tuplet = (residual_variables, residual_function)\n",
    "        super().__init__(triplet, indices, forceresidual=tuplet)\n",
    "\n",
    "    def reassign(self, new_outputvar):\n",
    "        outputvar = 0\n",
    "        if self.outputvar != 0:\n",
    "            outputvar = self.outputvar\n",
    "        newexpr = reassigneq(None, self.expression-outputvar, new_outputvar)\n",
    "        return AnalyticalSetSympy(newexpr, new_outputvar, self.indices)"
   ]
  },
  {
   "cell_type": "markdown",
   "metadata": {},
   "source": [
    "# Example"
   ]
  },
  {
   "cell_type": "code",
   "execution_count": 4,
   "metadata": {},
   "outputs": [],
   "source": [
    "n_eqs, n_vars, sparsity, seed1, seed2 = 10, 15, 1.5, 42, 12345 #1.7\n",
    "eqv, varinc, dout = generate_random_prob(n_eqs, n_vars, seed1, sparsity)\n",
    "polynomials, var_mapping, edges, tree = generate_random_polynomials(eqv, dout, n_eqs, seed=seed2)\n",
    "symb_mapping = {key: elt[0] for key, elt in var_mapping.items()}\n",
    "inputids = sorted(sources(*edges_to_Ein_Eout(edges)))\n",
    "inputvars = [var_mapping[elt][0] for elt in inputids]\n",
    "fobj = sum([(elt-1)**2 for elt in inputvars])\n",
    "G = flat_graph_formulation(*edges)\n",
    "indices = {elt: torch.tensor([int(i)]) for i, elt in symb_mapping.items()}\n",
    "sets = {idx:AnalyticalSetSympy(poly, indices=indices).reassign(symb_mapping[edges[1][idx][0]]) for idx,poly in polynomials.items()}"
   ]
  },
  {
   "cell_type": "code",
   "execution_count": 5,
   "metadata": {},
   "outputs": [],
   "source": [
    "indices = {elt: torch.tensor([int(i)]) for i, elt in symb_mapping.items()}"
   ]
  },
  {
   "cell_type": "code",
   "execution_count": 6,
   "metadata": {},
   "outputs": [],
   "source": [
    "sets = {idx:AnalyticalSetSympy(poly, indices=indices).reassign(symb_mapping[edges[1][idx][0]]) for idx,poly in polynomials.items()}"
   ]
  },
  {
   "cell_type": "code",
   "execution_count": 7,
   "metadata": {},
   "outputs": [],
   "source": [
    "order = sort_scc(G)\n",
    "eqconstraints = []\n",
    "elimination = []\n",
    "edges_out = edges[1]\n",
    "for elt in order:\n",
    "    if len(elt) > 1: # solve group\n",
    "        groupsets = [sets[eq.name] for eq in elt]\n",
    "        residuals = [s.residual for s in groupsets]\n",
    "        coupled = EliminateAnalysisMergeResiduals([], residuals)\n",
    "        coupledvars = [s.outputvar for s in groupsets]\n",
    "        solver = ElimResidual(coupled, coupledvars, indices) #indices\n",
    "        elimination.append(solver)\n",
    "        # alterantively we could add them to elimination\n",
    "    else:\n",
    "        eqid = elt.pop().name\n",
    "        aset = sets[eqid]\n",
    "        if edges_out[eqid] == ():\n",
    "            eqconstraints.append(aset.residual)\n",
    "        else:\n",
    "            elimination.append(aset.analysis) "
   ]
  },
  {
   "cell_type": "code",
   "execution_count": 8,
   "metadata": {},
   "outputs": [],
   "source": [
    "torch.manual_seed(43)\n",
    "x0 = torch.rand(n_vars, dtype=torch.float64)"
   ]
  },
  {
   "cell_type": "code",
   "execution_count": 16,
   "metadata": {},
   "outputs": [],
   "source": [
    "xsol = elimination[1](x0)"
   ]
  },
  {
   "cell_type": "markdown",
   "metadata": {},
   "source": [
    "# Testing Sympy standalone"
   ]
  },
  {
   "cell_type": "code",
   "execution_count": 49,
   "metadata": {},
   "outputs": [
    {
     "data": {
      "text/plain": [
       "array([1, 1, 9, 5])"
      ]
     },
     "execution_count": 49,
     "metadata": {},
     "output_type": "execute_result"
    }
   ],
   "source": [
    "# sellar2 = (('x1', 'x2', 'u1'), ('u2',), lambda x1, x2, u1: u1**0.5 + x1 + x2)\n",
    "# use AnalyticalSetSympy instead:\n",
    "x1, x2, u1, u2 = sp.symbols('x1 x2 u1 u2')\n",
    "varorder = [x1, x2, u1, u2]\n",
    "indices = {elt: torch.tensor([i]) for i, elt in enumerate(varorder)}\n",
    "sellar2 = AnalyticalSetSympy(u1**0.5 + x1 + x2, u2, indices)\n",
    "x0 = torch.tensor([1,1,9,5], dtype=torch.float64)\n",
    "sellar2.analysis(x0).numpy()"
   ]
  },
  {
   "cell_type": "code",
   "execution_count": 50,
   "metadata": {},
   "outputs": [
    {
     "data": {
      "text/plain": [
       "array([1, 1, 9, 5])"
      ]
     },
     "execution_count": 50,
     "metadata": {},
     "output_type": "execute_result"
    }
   ],
   "source": [
    "sellar2.reassign(x2).analysis(x0).numpy()"
   ]
  },
  {
   "cell_type": "code",
   "execution_count": null,
   "metadata": {},
   "outputs": [],
   "source": [
    "#order = [{1}, {2,3,4}, {5,6}]\n",
    "#eliminate = [{1}, {2,3,4}], eqcons = [{5,6}] <- residuals are used for these\n",
    "# in eliminate any single (e.g. {1}) component will be used to generate an analysis based on reassign eq\n",
    "order = [{0}, {1,2,3}, {4,5}, {6}]\n",
    "edges_in = {\n",
    "    0: ('x','u1','u2'),\n",
    "    1: ('x','u1','u2'),\n",
    "    2: ('x','u1','u2'),\n",
    "    3: ('x','u1','u2'),\n",
    "    4: ('x','u1','u2'),\n",
    "    5: ('x','u1','u2'),\n",
    "    6: ('x','u1','u2')\n",
    "}\n",
    "edges_out = {\n",
    "    0: ('u2',),\n",
    "    1: ('u2',),\n",
    "    2: ('u2',),\n",
    "    3: ('u2',),\n",
    "    4: ('u2',),\n",
    "    5: ('u2',),\n",
    "    6: ()\n",
    "}\n",
    "eqconstraints = []\n",
    "elimination = []\n",
    "for elt in order:\n",
    "    if len(elt) > 1: # solve group\n",
    "        residuals = [s.residual for s in elt]\n",
    "        coupled = EliminateAnalysisMergeResiduals([], residuals)\n",
    "        coupledvars = [s.outputvar for s in elt]\n",
    "        solver = ElimResidual(coupled, coupledvars, indices) #indices\n",
    "        elimination.append(solver)\n",
    "    elif edges_out[elt[0]] == ():\n",
    "        eqconstraints.append(elt[0].residual)\n",
    "    else:\n",
    "        elimination.append(elt[0].analysis)     "
   ]
  },
  {
   "cell_type": "code",
   "execution_count": 2,
   "metadata": {},
   "outputs": [],
   "source": [
    "sellarobj = (('x2', 'x3', 'u1', 'u2'), lambda x2, x3, u1, u2: x3**2 + x2 + u1 + np.exp(-u2))\n",
    "sellar1a = (('x1', 'x2'), ('u3',), lambda x1, x2: x1**2 + x2)\n",
    "sellar1b = (('x3', 'u2', 'u3'), ('u1',), lambda x3, u2, u3: u3 + x3 - 0.2*u2)\n",
    "sellar2 = (('x1', 'x2', 'u1'), ('u2',), lambda x1, x2, u1: u1**0.5 + x1 + x2)\n",
    "ineqcon1 = (('u1',), lambda u1: 1-u1/3.16)\n",
    "ineqcon2 = (('u2',), lambda u2: u2/24-1)\n",
    "\n",
    "varorder = ['x1','x2','x3','u1','u2','u3']\n",
    "indices = {elt: torch.tensor([i]) for i, elt in enumerate(varorder)}"
   ]
  },
  {
   "cell_type": "code",
   "execution_count": 3,
   "metadata": {},
   "outputs": [],
   "source": [
    "edges = (\n",
    "    {\n",
    "        'sellar1a': ('x1', 'x2'),\n",
    "        'sellar1b': ('x3', 'u2', 'u3'),\n",
    "        'sellar2': ('x1', 'x2', 'u1'),\n",
    "        'sellarobj': ('x2', 'x3', 'u1', 'u2'),\n",
    "        'ineqcon1': ('u1',),\n",
    "        'ineqcon2': ('u2',)\n",
    "    },\n",
    "    {\n",
    "        'sellar1a': ('u3',),\n",
    "        'sellar1b': ('u1',),\n",
    "        'sellar2': ('u2',),\n",
    "        'sellarobj': (),\n",
    "        'ineqcon1': (),\n",
    "        'ineqcon2': ()\n",
    "    }\n",
    ")"
   ]
  },
  {
   "cell_type": "code",
   "execution_count": null,
   "metadata": {},
   "outputs": [],
   "source": [
    "#order = [{1}, {2,3,4}, {5,6}] # filter out end comps to get\n",
    "#eliminate = [{1}, {2,3,4}], eqcons = [{5,6}] <- residuals are used for these\n",
    "# in eliminate any single (e.g. {1}) component will be used to generate an analysis based on reassign eq\n",
    "# when there are multiple components we use an ElimResidual"
   ]
  },
  {
   "cell_type": "code",
   "execution_count": 4,
   "metadata": {},
   "outputs": [],
   "source": [
    "set1a = AnalyticalSet(sellar1a, indices)\n",
    "set1b = AnalyticalSet(sellar1b, indices)\n",
    "set2 = AnalyticalSet(sellar2, indices)\n",
    "\n",
    "coupled = EliminateAnalysisMergeResiduals([],[set1a.residual, set1b.residual, set2.residual])\n",
    "coupledvars = ['u1','u2','u3']\n",
    "solver = ElimResidual(coupled, coupledvars, indices)\n",
    "\n",
    "con1 = Function(ineqcon1, indices)\n",
    "con2 = Function(ineqcon2, indices)\n",
    "ineqcons = EliminateAnalysisMergeResiduals([], [con1, con2])\n",
    "obj = Function(sellarobj, indices)"
   ]
  },
  {
   "cell_type": "code",
   "execution_count": 18,
   "metadata": {},
   "outputs": [],
   "source": [
    "empty_eq_cons = Function((tuple(), lambda : torch.tensor([])), indices)"
   ]
  },
  {
   "cell_type": "markdown",
   "metadata": {},
   "source": [
    "## Architectures"
   ]
  },
  {
   "cell_type": "code",
   "execution_count": 19,
   "metadata": {},
   "outputs": [],
   "source": [
    "MDF = EliminateAnalysis([solver], [obj, ineqcons, empty_eq_cons])"
   ]
  },
  {
   "cell_type": "code",
   "execution_count": 7,
   "metadata": {},
   "outputs": [],
   "source": [
    "set1 = EliminateAnalysis([set1a.analysis, set1b.analysis], [])"
   ]
  },
  {
   "cell_type": "code",
   "execution_count": 8,
   "metadata": {},
   "outputs": [
    {
     "data": {
      "text/plain": [
       "((tensor([0, 1, 2, 4]), tensor([5, 3])), (tensor([0, 1, 3]), tensor([4])))"
      ]
     },
     "execution_count": 8,
     "metadata": {},
     "output_type": "execute_result"
    }
   ],
   "source": [
    "set1.structure,  set2.analysis.structure"
   ]
  },
  {
   "cell_type": "code",
   "execution_count": 9,
   "metadata": {},
   "outputs": [],
   "source": [
    "IDF = ParallelAnalysis([set1, set2.analysis], \n",
    "                       [obj, ineqcons], sharedvars=['u1','u2'], indices=indices)"
   ]
  },
  {
   "cell_type": "code",
   "execution_count": 10,
   "metadata": {},
   "outputs": [
    {
     "data": {
      "text/plain": [
       "(tensor([0, 1, 2, 4, 3]), ())"
      ]
     },
     "execution_count": 10,
     "metadata": {},
     "output_type": "execute_result"
    }
   ],
   "source": [
    "IDF.structure"
   ]
  },
  {
   "cell_type": "code",
   "execution_count": 11,
   "metadata": {},
   "outputs": [],
   "source": [
    "AAO = EliminateAnalysis([], [obj, ineqcons, coupled])"
   ]
  },
  {
   "cell_type": "markdown",
   "metadata": {},
   "source": [
    "### Run it"
   ]
  },
  {
   "cell_type": "code",
   "execution_count": 12,
   "metadata": {},
   "outputs": [],
   "source": [
    "x0 = torch.tensor([0.5,.5,0.5,0.1,0.1,0.1], dtype=torch.float64)"
   ]
  },
  {
   "cell_type": "code",
   "execution_count": 13,
   "metadata": {},
   "outputs": [
    {
     "data": {
      "text/plain": [
       "[tensor([1.7548], dtype=torch.float64),\n",
       " tensor([ 0.9684, -0.9958], dtype=torch.float64),\n",
       " tensor([-0.6500, -0.4800, -1.2162], dtype=torch.float64)]"
      ]
     },
     "execution_count": 13,
     "metadata": {},
     "output_type": "execute_result"
    }
   ],
   "source": [
    "AAO(x0)"
   ]
  },
  {
   "cell_type": "code",
   "execution_count": 14,
   "metadata": {},
   "outputs": [
    {
     "data": {
      "text/plain": [
       "[tensor([2.2481], dtype=torch.float64),\n",
       " tensor([ 0.6108, -0.9452], dtype=torch.float64),\n",
       " tensor([1.1300, 1.2162], dtype=torch.float64)]"
      ]
     },
     "execution_count": 14,
     "metadata": {},
     "output_type": "execute_result"
    }
   ],
   "source": [
    "IDF(x0)"
   ]
  },
  {
   "cell_type": "code",
   "execution_count": 20,
   "metadata": {},
   "outputs": [
    {
     "data": {
      "text/plain": [
       "[tensor([1.7593], dtype=torch.float64),\n",
       " tensor([ 0.7266, -0.9196], dtype=torch.float64),\n",
       " tensor([])]"
      ]
     },
     "execution_count": 20,
     "metadata": {},
     "output_type": "execute_result"
    }
   ],
   "source": [
    "MDF(x0)"
   ]
  },
  {
   "cell_type": "code",
   "execution_count": 21,
   "metadata": {},
   "outputs": [
    {
     "data": {
      "text/plain": [
       "tensor([0.5000, 0.5000, 0.5000, 0.8641, 1.9296, 0.7500], dtype=torch.float64)"
      ]
     },
     "execution_count": 21,
     "metadata": {},
     "output_type": "execute_result"
    }
   ],
   "source": [
    "x0"
   ]
  }
 ],
 "metadata": {
  "kernelspec": {
   "display_name": "minimdo",
   "language": "python",
   "name": "python3"
  },
  "language_info": {
   "codemirror_mode": {
    "name": "ipython",
    "version": 3
   },
   "file_extension": ".py",
   "mimetype": "text/x-python",
   "name": "python",
   "nbconvert_exporter": "python",
   "pygments_lexer": "ipython3",
   "version": "3.9.18"
  }
 },
 "nbformat": 4,
 "nbformat_minor": 2
}
