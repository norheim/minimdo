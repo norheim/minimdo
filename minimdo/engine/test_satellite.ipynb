{
 "cells": [
  {
   "cell_type": "code",
   "execution_count": 31,
   "metadata": {},
   "outputs": [],
   "source": [
    "from torchengine import AnalyticalSet, Function, EliminateAnalysis, EliminateAnalysisMergeResiduals, ElimResidual, generate_eval_and_gradient\n",
    "from sympy.utilities.lambdify import implemented_function\n",
    "import torch\n",
    "import numpy as np\n",
    "import sympy as sp\n",
    "# Set the print options\n",
    "np.set_printoptions(formatter={'float': lambda x: \"{:0.2f}\".format(x).rstrip('0').rstrip('.')})"
   ]
  },
  {
   "cell_type": "code",
   "execution_count": 127,
   "metadata": {},
   "outputs": [],
   "source": [
    "       \n",
    "class AnalyticalSetRaw():\n",
    "    def __init__(self, analysis, residuals, outputs) -> None:\n",
    "        self.analysis = analysis\n",
    "        self.residual = residuals\n",
    "        self.outputs = outputs\n",
    "\n",
    "def initialize_tensor(dict, indices):\n",
    "    output = torch.tensor([0.]*len(torch.cat(tuple(indices.values()))))\n",
    "    for key,val in dict.items():\n",
    "        output[indices[key]] = val\n",
    "    return output"
   ]
  },
  {
   "cell_type": "code",
   "execution_count": 156,
   "metadata": {},
   "outputs": [],
   "source": [
    "indices1ex = {\n",
    "    'x': torch.tensor([0, 1, 2]),\n",
    "    'a1': torch.tensor([3, 4]),\n",
    "    'a2': torch.tensor([5])\n",
    "}\n",
    "indices2ex = {\n",
    "    'x': torch.tensor([0, 3, 4]),\n",
    "    'u1': torch.tensor([1, 2]),\n",
    "    'u2': torch.tensor([5, 6]),\n",
    "    'a1': torch.tensor([7, 8]),\n",
    "}\n",
    "indices2ex_len = len(torch.cat(tuple(indices2ex.values())))\n",
    "copy_over_indices = ['x']\n",
    "copy_indices_tuple = [(indices1ex[key], indices2ex[key]) for key in copy_over_indices]\n",
    "def transfer_value(xfrom, xto, copy_indices_tuple):\n",
    "    for indices_in,indices_out  in copy_indices_tuple:\n",
    "        xto[indices_out] = xfrom[indices_in]\n",
    "    return xto"
   ]
  },
  {
   "cell_type": "code",
   "execution_count": 161,
   "metadata": {},
   "outputs": [
    {
     "data": {
      "text/plain": [
       "tensor([1., 2., 3., 1., 2., 0.])"
      ]
     },
     "execution_count": 161,
     "metadata": {},
     "output_type": "execute_result"
    }
   ],
   "source": [
    "# xin = initialize_tensor({'x': torch.tensor([1.,2,3]), 'a1': torch.tensor([4.,5])}, indices1ex)\n",
    "# xzero = torch.empty(indices2ex_len)\n",
    "# xout = transfer_value(xin, xzero, copy_indices_tuple)\n",
    "# set1 = AnalyticalSet((('x',), ('a1',), lambda x: (x[:2],)), indices2ex)\n",
    "# results = set1.analysis(xout)"
   ]
  },
  {
   "cell_type": "code",
   "execution_count": 162,
   "metadata": {},
   "outputs": [],
   "source": [
    "mu = 3.986e14\n",
    "Rearth = 6378\n",
    "analysis1 = (('h',), ('a',), lambda h: (h+Rearth)*1e3)\n",
    "analysis2 = (('a',), ('T',), lambda a: 2*np.pi*(a**3/mu)**0.5)\n",
    "analysis3 = (('a',), ('g',), lambda a: 1/np.pi*np.arccos(Rearth*1e3/a))\n",
    "analysis4 = (('g',), ('d',), lambda g: g+0.5)\n",
    "analysis5 = (('h',), ('r',), lambda h: (h**2+2*Rearth*h)**0.5)\n",
    "\n",
    "varorder = ['h', 'x', 'R', 'a', 'y', 'T', 'g', 'd', 'r']\n",
    "indices = {elt: torch.tensor([i]) for i, elt in enumerate(varorder)}"
   ]
  },
  {
   "cell_type": "code",
   "execution_count": 188,
   "metadata": {},
   "outputs": [
    {
     "data": {
      "text/plain": [
       "array([200, 0, 0, 6578000, 0, 5309.48, 0.08, 0.58, 1609.72], dtype=float32)"
      ]
     },
     "execution_count": 188,
     "metadata": {},
     "output_type": "execute_result"
    }
   ],
   "source": [
    "x0 = initialize_tensor({'h': 200, 'a': 1.1*Rearth*1e3, 'g':0.1}, indices)\n",
    "set1 = AnalyticalSet(analysis1, indices)\n",
    "set2 = AnalyticalSet(analysis2, indices)\n",
    "set3 = AnalyticalSet(analysis3, indices)\n",
    "set4 = AnalyticalSet(analysis4, indices)\n",
    "set5 = AnalyticalSet(analysis5, indices)\n",
    "\n",
    "orbit_analysis = EliminateAnalysis([set1.analysis, set2.analysis, set3.analysis, set4.analysis, set5.analysis],[])\n",
    "orbit_residuals = EliminateAnalysis([], [set1.residual, set2.residual, set3.residual, set4.residual, set5.residual])\n",
    "all_outputs = [set1.outputs, set2.outputs, set3.outputs, set4.outputs, set5.outputs]\n",
    "Orbit = AnalyticalSetRaw(orbit_analysis, orbit_residuals, all_outputs) # Maybe should be indices too?\n",
    "output = Orbit.analysis(x0)\n",
    "\n",
    "output.numpy()"
   ]
  },
  {
   "cell_type": "code",
   "execution_count": 177,
   "metadata": {},
   "outputs": [],
   "source": [
    "obj = Function((('r',), lambda r: r), indices)"
   ]
  },
  {
   "cell_type": "code",
   "execution_count": 198,
   "metadata": {},
   "outputs": [],
   "source": [
    "# IDF for one shared variable for Orbit, say for g\n",
    "inputs = varorder\n",
    "input_indices = torch.cat([indices[i] for i in inputs]) #flatten\n",
    "\n",
    "def IDFres(analysis, functions, output_indices):\n",
    "    def forward(x):\n",
    "        y = x.clone()\n",
    "        r = []\n",
    "        for a in analysis:\n",
    "            y[output_indices] = a(x)[output_indices]\n",
    "            r.append(y[output_indices]-x[output_indices])\n",
    "        return y, torch.cat(r), tuple(f(y) for f in functions)\n",
    "    return forward\n",
    "\n",
    "outputs = ('g',)\n",
    "output_indices = torch.cat([indices[i] for i in outputs])\n",
    "\n",
    "idfdata = IDFres([Orbit.analysis], [obj], output_indices)\n",
    "\n",
    "def transfer_vars(indicesin, indicesout):\n",
    "    copy_over_indices = indicesin.keys()\n",
    "    copy_indices_tuple = [(indicesin[key], indicesout[key]) for key in copy_over_indices]\n",
    "    indicesout_len = len(torch.cat(tuple(indicesout.values())))\n",
    "    def forward(x):\n",
    "        xzero = torch.empty(indicesout_len)\n",
    "        output = transfer_value(x, xzero, copy_indices_tuple)\n",
    "        return output\n",
    "    return forward\n",
    "\n",
    "system_ins = ['h']\n",
    "indices_in = {elt: indices[elt] for elt in system_ins}\n",
    "mdf_eliminatedvars = transfer_vars(indices_in, indices)\n",
    "MDF = EliminateAnalysis([mdf_eliminatedvars, Orbit.analysis], [obj])\n"
   ]
  },
  {
   "cell_type": "code",
   "execution_count": 200,
   "metadata": {},
   "outputs": [
    {
     "data": {
      "text/plain": [
       "tensor([1609.7205])"
      ]
     },
     "execution_count": 200,
     "metadata": {},
     "output_type": "execute_result"
    }
   ],
   "source": [
    "MDF(torch.tensor([200.]))"
   ]
  },
  {
   "cell_type": "code",
   "execution_count": 197,
   "metadata": {},
   "outputs": [
    {
     "data": {
      "text/plain": [
       "(array([200, 0, 0, 7015800, 0, 0, 0.1, 0, 0], dtype=float32),\n",
       " array([200, 0, 0, 7015800, 0, 0, 0.08, 0, 0], dtype=float32))"
      ]
     },
     "execution_count": 197,
     "metadata": {},
     "output_type": "execute_result"
    }
   ],
   "source": [
    "y, eqval, objval = idfdata(x0)\n",
    "x0.numpy(), y.numpy()"
   ]
  },
  {
   "cell_type": "markdown",
   "metadata": {},
   "source": [
    "# Solving a system of equations"
   ]
  },
  {
   "cell_type": "code",
   "execution_count": 2,
   "metadata": {},
   "outputs": [
    {
     "ename": "AttributeError",
     "evalue": "'list' object has no attribute 'items'",
     "output_type": "error",
     "traceback": [
      "\u001b[1;31m---------------------------------------------------------------------------\u001b[0m",
      "\u001b[1;31mAttributeError\u001b[0m                            Traceback (most recent call last)",
      "Input \u001b[1;32mIn [2]\u001b[0m, in \u001b[0;36m<cell line: 18>\u001b[1;34m()\u001b[0m\n\u001b[0;32m     15\u001b[0m obj \u001b[38;5;241m=\u001b[39m Function(objfunc, indices)\n\u001b[0;32m     17\u001b[0m coupled \u001b[38;5;241m=\u001b[39m EliminateAnalysis([],[set6\u001b[38;5;241m.\u001b[39mresidual, set7\u001b[38;5;241m.\u001b[39mresidual])\n\u001b[1;32m---> 18\u001b[0m solver \u001b[38;5;241m=\u001b[39m \u001b[43mElimResidual\u001b[49m\u001b[43m(\u001b[49m\u001b[43mcoupled\u001b[49m\u001b[43m,\u001b[49m\u001b[43m \u001b[49m\u001b[43mtorch\u001b[49m\u001b[38;5;241;43m.\u001b[39;49m\u001b[43mtensor\u001b[49m\u001b[43m(\u001b[49m\u001b[43m[\u001b[49m\u001b[38;5;241;43m0\u001b[39;49m\u001b[43m,\u001b[49m\u001b[38;5;241;43m1\u001b[39;49m\u001b[43m]\u001b[49m\u001b[43m)\u001b[49m\u001b[43m,\u001b[49m\u001b[43m \u001b[49m\u001b[43m[\u001b[49m\u001b[38;5;241;43m2\u001b[39;49m\u001b[43m]\u001b[49m\u001b[43m)\u001b[49m\n",
      "File \u001b[1;32mc:\\Users\\johan\\github\\minimdo\\minimdo\\engine\\torchengine.py:112\u001b[0m, in \u001b[0;36mElimResidual.__init__\u001b[1;34m(self, function, solvefor, alL_indices)\u001b[0m\n\u001b[0;32m    110\u001b[0m \u001b[38;5;28msuper\u001b[39m(ElimResidual, \u001b[38;5;28mself\u001b[39m)\u001b[38;5;241m.\u001b[39m\u001b[38;5;21m__init__\u001b[39m()\n\u001b[0;32m    111\u001b[0m \u001b[38;5;28mself\u001b[39m\u001b[38;5;241m.\u001b[39mfunction \u001b[38;5;241m=\u001b[39m function\n\u001b[1;32m--> 112\u001b[0m solvefor_indices, input_indices \u001b[38;5;241m=\u001b[39m \u001b[43msplit_indices\u001b[49m\u001b[43m(\u001b[49m\u001b[43msolvefor\u001b[49m\u001b[43m,\u001b[49m\u001b[43m \u001b[49m\u001b[43malL_indices\u001b[49m\u001b[43m)\u001b[49m\n\u001b[0;32m    113\u001b[0m \u001b[38;5;28mself\u001b[39m\u001b[38;5;241m.\u001b[39msolvefor \u001b[38;5;241m=\u001b[39m solvefor_indices\n\u001b[0;32m    114\u001b[0m \u001b[38;5;28mself\u001b[39m\u001b[38;5;241m.\u001b[39minputs \u001b[38;5;241m=\u001b[39m input_indices\n",
      "File \u001b[1;32mc:\\Users\\johan\\github\\minimdo\\minimdo\\engine\\torchengine.py:99\u001b[0m, in \u001b[0;36msplit_indices\u001b[1;34m(solvefor, alL_indices)\u001b[0m\n\u001b[0;32m     97\u001b[0m solvefor_indices \u001b[38;5;241m=\u001b[39m []\n\u001b[0;32m     98\u001b[0m input_indices \u001b[38;5;241m=\u001b[39m []\n\u001b[1;32m---> 99\u001b[0m \u001b[38;5;28;01mfor\u001b[39;00m key,val \u001b[38;5;129;01min\u001b[39;00m \u001b[43malL_indices\u001b[49m\u001b[38;5;241;43m.\u001b[39;49m\u001b[43mitems\u001b[49m():\n\u001b[0;32m    100\u001b[0m     \u001b[38;5;28;01mif\u001b[39;00m key \u001b[38;5;129;01min\u001b[39;00m solvefor:\n\u001b[0;32m    101\u001b[0m         solvefor_indices\u001b[38;5;241m.\u001b[39mappend(val)\n",
      "\u001b[1;31mAttributeError\u001b[0m: 'list' object has no attribute 'items'"
     ]
    }
   ],
   "source": [
    "indices = {\n",
    "    'mt': torch.tensor([0]),\n",
    "    'ms': torch.tensor([1]),\n",
    "    'mp': torch.tensor([2])\n",
    "}\n",
    "\n",
    "analysis6 = (('mt',), ('ms',), lambda mt: 0.2*mt)\n",
    "analysis7 = (('ms','mp'), ('mt',), lambda ms, mp: 0.2*ms+mp)\n",
    "ineqcon1 = (('mp',), lambda mp: -mp/0.5+1)\n",
    "objfunc = (('mt',), lambda mt: mt)\n",
    "\n",
    "set6 = AnalyticalSet(analysis6, indices)\n",
    "set7 = AnalyticalSet(analysis7, indices)\n",
    "con1 = Function(ineqcon1, indices)\n",
    "obj = Function(objfunc, indices)\n",
    "\n",
    "coupled = EliminateAnalysis([],[set6.residual, set7.residual])\n",
    "solver = ElimResidual(coupled, torch.tensor([0,1]), [2])"
   ]
  },
  {
   "cell_type": "code",
   "execution_count": 248,
   "metadata": {},
   "outputs": [
    {
     "data": {
      "text/plain": [
       "tensor([0.7292])"
      ]
     },
     "execution_count": 248,
     "metadata": {},
     "output_type": "execute_result"
    }
   ],
   "source": [
    "obj_mp = EliminateAnalysis([solver], [obj])\n",
    "x = torch.tensor([1.,2.,0.7])\n",
    "obj_mp(x)"
   ]
  },
  {
   "cell_type": "code",
   "execution_count": 249,
   "metadata": {},
   "outputs": [
    {
     "data": {
      "text/plain": [
       "tensor([0.7292, 0.1458, 0.7000])"
      ]
     },
     "execution_count": 249,
     "metadata": {},
     "output_type": "execute_result"
    }
   ],
   "source": [
    "x"
   ]
  },
  {
   "cell_type": "markdown",
   "metadata": {},
   "source": [
    "### Sellar"
   ]
  },
  {
   "cell_type": "code",
   "execution_count": 1,
   "metadata": {},
   "outputs": [],
   "source": [
    "from torchengine import AnalyticalSet, Function, EliminateAnalysis, EliminateAnalysisMergeResiduals, ElimResidual\n",
    "from scipy.optimize import minimize\n",
    "import numpy as np\n",
    "import torch\n",
    "np.set_printoptions(formatter={'float': lambda x: \"{:0.2f}\".format(x).rstrip('0').rstrip('.')})"
   ]
  },
  {
   "cell_type": "code",
   "execution_count": 87,
   "metadata": {},
   "outputs": [],
   "source": [
    "sellarobj = (('x2', 'x3', 'u1', 'u2'), lambda x2, x3, u1, u2: x3**2 + x2 + u1 + np.exp(-u2))\n",
    "sellar1 = (('x1', 'x2', 'x3', 'u2'), ('u1',), lambda x1, x2, x3, u2: x1**2 + x2 + x3 - 0.2*u2)\n",
    "sellar2 = (('x1', 'x2', 'u1'), ('u2',), lambda x1, x2, u1: u1**0.5 + x1 + x2)\n",
    "ineqcon1 = (('u1',), lambda u1: 1-u1/3.16)\n",
    "ineqcon2 = (('u2',), lambda u2: u2/24-1)\n",
    "\n",
    "varorder = ['x1','x2','x3','u1','u2']\n",
    "indices = {elt: torch.tensor([i]) for i, elt in enumerate(varorder)}\n",
    "\n",
    "# Disciplines\n",
    "# pipelines\n",
    "# [{1},{2},{3,4,5},{6,7}], obj, eq, ineq\n",
    "# -> variant one: [1,2], [3,4,5,6,7] # 2 options: reduced AAO / reduced IDF\n",
    "# ## reduced AAO\n",
    "# neweq = EliminateAnalysisMergeResiduals([], [3.r,4.r,5.r,6.r,7.r,eq]) \n",
    "# ## reduced IDF\n",
    "# idf_eq = Parallel([3.a,4.a,5.a,6.a,7.a])\n",
    "# neweq = EliminateAnalysisMergeResiduals([], [idf_eq, eq]) \n",
    "# ##BOTH:\n",
    "# objf, eqf, ineqf = EliminateAnalysisMergeResiduals([1.a,2.a], [obj, neweq, ineq])\n",
    "# -> variant two: [1,2, ([3,4],5), (6,7)] # reduced MDF (tearing based)\n",
    "# block1 = EliminateAnalysisMergeResiduals([3.a,4.a], [5.r])\n",
    "# block2 = EliminateAnalysisMergeResiduals([], [6.r, 7.r])\n",
    "# objf, eqf, ineqf = EliminateAnalysisMergeResiduals([1,2, block1, block2], [ obj, eq, ineq])\n",
    "# -> variant three: (1,2,3,4,5,6,7) # baseline MDF\n",
    "# objf, eqf, ineqf = EliminateAnalysisMergeResiduals([1,2, 3, 4, 5, 6, 7], [ obj, eq, ineq])\n",
    "\n",
    "set1 = AnalyticalSet(sellar1, indices)\n",
    "set2 = AnalyticalSet(sellar2, indices)\n",
    "\n",
    "coupled = EliminateAnalysisMergeResiduals([],[set1.residual, set2.residual])\n",
    "coupledvars = ['u1','u2']\n",
    "solver = ElimResidual(coupled, coupledvars, indices)\n",
    "\n",
    "# Optimization problem\n",
    "con1 = Function(ineqcon1, indices)\n",
    "con2 = Function(ineqcon2, indices)\n",
    "ineqcons = EliminateAnalysisMergeResiduals([], [con1, con2])\n",
    "obj = Function(sellarobj, indices)"
   ]
  },
  {
   "cell_type": "markdown",
   "metadata": {},
   "source": [
    "### MDA"
   ]
  },
  {
   "cell_type": "code",
   "execution_count": 11,
   "metadata": {},
   "outputs": [
    {
     "data": {
      "text/plain": [
       "(array([2, 0, 0, 3.24, 3.8]), array([-0, 0]))"
      ]
     },
     "execution_count": 11,
     "metadata": {},
     "output_type": "execute_result"
    }
   ],
   "source": [
    "x0 = torch.tensor([2.,0.,0.,0.1,0.1], dtype=torch.float64) # Important for finite differences\n",
    "sol = solver(x0)\n",
    "sol.numpy(), coupled(sol).numpy()"
   ]
  },
  {
   "cell_type": "markdown",
   "metadata": {},
   "source": [
    "## Build optimization problem"
   ]
  },
  {
   "cell_type": "code",
   "execution_count": 56,
   "metadata": {},
   "outputs": [],
   "source": [
    "def generate_optim_functions(optim_funcs, solvefor_indices, x):\n",
    "    def eval_all(y):\n",
    "        x[solvefor_indices] = torch.from_numpy(y).to(x.dtype)\n",
    "        objval, ineqval, eqval = optim_funcs(x)\n",
    "        return objval.item(), -ineqval, -eqval\n",
    "    \n",
    "    def obj_function(y):\n",
    "        objval, _, _ = eval_all(y)\n",
    "        return objval\n",
    "\n",
    "    def ineq_function(y=None):\n",
    "        _, ineqval, _ = eval_all(y)\n",
    "        return ineqval\n",
    "    \n",
    "    def eq_function(y=None):\n",
    "        _, _, eqval = eval_all(y)\n",
    "        return eqval\n",
    "\n",
    "    xguess = x[solvefor_indices].numpy()\n",
    "    \n",
    "    return xguess, obj_function, ineq_function, eq_function"
   ]
  },
  {
   "cell_type": "markdown",
   "metadata": {},
   "source": [
    "## MDF"
   ]
  },
  {
   "cell_type": "code",
   "execution_count": 57,
   "metadata": {},
   "outputs": [],
   "source": [
    "bnds = [(0, 10), (0, 10), (0, 10), (3.16, None), (None, 24)]\n",
    "optim_vars = ['x1','x2','x3']\n",
    "optim_indices = torch.cat([indices[elt] for elt in optim_vars])\n",
    "bnds_problem = [bnds[elt] for elt in optim_indices]\n",
    "\n",
    "optim_funcs_MDF = EliminateAnalysis([solver], [obj, ineqcons, lambda x: torch.tensor([])])\n",
    "x0 = torch.tensor([0.5,.5,0.5,0.1,0.1], dtype=torch.float64) # needed for solver\n",
    "xguess, obj_function, ineq_function, eq_function = generate_optim_functions(optim_funcs_MDF, optim_indices, x0)\n",
    "constraints = [{'type': 'ineq', 'fun': ineq_function}]"
   ]
  },
  {
   "cell_type": "code",
   "execution_count": 58,
   "metadata": {},
   "outputs": [
    {
     "data": {
      "text/plain": [
       " message: Optimization terminated successfully\n",
       " success: True\n",
       "  status: 0\n",
       "     fun: 3.183393952217446\n",
       "       x: [ 1.978e+00  2.316e-15  2.031e-15]\n",
       "     nit: 6\n",
       "     jac: [ 3.508e+00  1.729e+00  9.405e-01]\n",
       "    nfev: 25\n",
       "    njev: 6"
      ]
     },
     "execution_count": 58,
     "metadata": {},
     "output_type": "execute_result"
    }
   ],
   "source": [
    "# Solve the optimization problem\n",
    "minimize(obj_function, xguess, bounds=bnds_problem, constraints=constraints, method='SLSQP')"
   ]
  },
  {
   "cell_type": "code",
   "execution_count": 59,
   "metadata": {},
   "outputs": [
    {
     "data": {
      "text/plain": [
       "(3.1833939662321673, array([-0, -0.84]), array([1.98, 0, 0, 3.16, 3.76]))"
      ]
     },
     "execution_count": 59,
     "metadata": {},
     "output_type": "execute_result"
    }
   ],
   "source": [
    "obj(x0).item(), ineqcons(x0).numpy(), x0.numpy()"
   ]
  },
  {
   "cell_type": "markdown",
   "metadata": {},
   "source": [
    "# IDF"
   ]
  },
  {
   "cell_type": "code",
   "execution_count": 60,
   "metadata": {},
   "outputs": [],
   "source": [
    "def IDFres(sets, functions, indices):\n",
    "    outputidx_and_analyses = [(torch.cat([indices[i] for i in s.outputs]),s.analysis) for s in sets]\n",
    "    def forward(x):\n",
    "        y = x.clone()\n",
    "        r = []\n",
    "        for output_indices, a in outputidx_and_analyses:\n",
    "            y[output_indices] = a(x)[output_indices]\n",
    "            r.append(y[output_indices]-x[output_indices])\n",
    "        obj, ineq, eq = [f(y) for f in functions]\n",
    "        return obj, ineq, torch.cat((eq, torch.cat(r)))\n",
    "    return forward"
   ]
  },
  {
   "cell_type": "code",
   "execution_count": 65,
   "metadata": {},
   "outputs": [],
   "source": [
    "optim_vars = ['x1','x2','x3', 'u1', 'u2']\n",
    "optim_indices = torch.cat([indices[elt] for elt in optim_vars])\n",
    "bnds_problem = [bnds[elt] for elt in optim_indices]\n",
    "\n",
    "optim_funcs_IDF = IDFres([set1, set2], [obj, ineqcons, lambda x: torch.tensor([])], indices)\n",
    "x0 = torch.tensor([0.5,.5,0.5,0.1,0.1], dtype=torch.float64) # needed for solver\n",
    "xguess, obj_function, ineq_function, eq_function = generate_optim_functions(optim_funcs_IDF, optim_indices, x0)\n",
    "constraints = [{'type': 'ineq', 'fun': ineq_function}, {'type': 'eq', 'fun': eq_function}]"
   ]
  },
  {
   "cell_type": "code",
   "execution_count": 66,
   "metadata": {},
   "outputs": [
    {
     "data": {
      "text/plain": [
       "tensor([-1.1300, -1.2162], dtype=torch.float64)"
      ]
     },
     "execution_count": 66,
     "metadata": {},
     "output_type": "execute_result"
    }
   ],
   "source": [
    "eq_function(xguess)"
   ]
  },
  {
   "cell_type": "code",
   "execution_count": 67,
   "metadata": {},
   "outputs": [
    {
     "data": {
      "text/plain": [
       " message: Optimization terminated successfully\n",
       " success: True\n",
       "  status: 0\n",
       "     fun: 3.183394101954299\n",
       "       x: [ 1.978e+00  0.000e+00  2.087e-15  3.160e+00  3.755e+00]\n",
       "     nit: 7\n",
       "     jac: [ 3.932e+00  1.977e+00  1.000e+00 -6.580e-03 -2.000e-01]\n",
       "    nfev: 42\n",
       "    njev: 7"
      ]
     },
     "execution_count": 67,
     "metadata": {},
     "output_type": "execute_result"
    }
   ],
   "source": [
    "# Solve the optimization problem\n",
    "minimize(obj_function, xguess, bounds=bnds_problem, constraints=constraints, method='SLSQP')"
   ]
  },
  {
   "cell_type": "code",
   "execution_count": 68,
   "metadata": {},
   "outputs": [
    {
     "data": {
      "text/plain": [
       "(3.18339395034975, array([0, -0.84]), array([1.98, 0, 0, 3.16, 3.76]))"
      ]
     },
     "execution_count": 68,
     "metadata": {},
     "output_type": "execute_result"
    }
   ],
   "source": [
    "obj(x0).item(), ineqcons(x0).numpy(), x0.numpy()"
   ]
  },
  {
   "cell_type": "markdown",
   "metadata": {},
   "source": [
    "## AAO"
   ]
  },
  {
   "cell_type": "code",
   "execution_count": 81,
   "metadata": {},
   "outputs": [],
   "source": [
    "optim_vars = ['x1','x2','x3', 'u1', 'u2']\n",
    "optim_indices = torch.cat([indices[elt] for elt in optim_vars])\n",
    "bnds_problem = [bnds[elt] for elt in optim_indices]\n",
    "\n",
    "optim_funcs_IDF = IDFres([set1, set2], [obj, ineqcons, lambda x: torch.tensor([])], indices)\n",
    "x0 = torch.tensor([0.5,.5,0.5,0.1,0.1], dtype=torch.float64) # needed for solver\n",
    "optim_funcs_AAO = lambda x: [obj(x), ineqcons(x), coupled(x)]\n",
    "xguess, obj_function, ineq_function, eq_function = generate_optim_functions(optim_funcs_AAO, optim_indices, x0)\n",
    "constraints = [{'type': 'ineq', 'fun': ineq_function}, {'type': 'eq', 'fun': eq_function}]"
   ]
  },
  {
   "cell_type": "code",
   "execution_count": 85,
   "metadata": {},
   "outputs": [
    {
     "data": {
      "text/plain": [
       " message: Optimization terminated successfully\n",
       " success: True\n",
       "  status: 0\n",
       "     fun: 3.1833939516406087\n",
       "       x: [ 1.978e+00  4.925e-16  3.788e-16  3.160e+00  3.755e+00]\n",
       "     nit: 6\n",
       "     jac: [ 0.000e+00  1.000e+00  2.980e-08  1.000e+00 -2.339e-02]\n",
       "    nfev: 37\n",
       "    njev: 6"
      ]
     },
     "execution_count": 85,
     "metadata": {},
     "output_type": "execute_result"
    }
   ],
   "source": [
    "# Solve the optimization problem\n",
    "minimize(obj_function, xguess, bounds=bnds_problem, constraints=constraints, method='SLSQP')"
   ]
  },
  {
   "cell_type": "code",
   "execution_count": 86,
   "metadata": {},
   "outputs": [
    {
     "data": {
      "text/plain": [
       "(3.1833939516406087, array([-0, -0.84]), array([1.98, 0, 0, 3.16, 3.76]))"
      ]
     },
     "execution_count": 86,
     "metadata": {},
     "output_type": "execute_result"
    }
   ],
   "source": [
    "obj(x0).item(), ineqcons(x0).numpy(), x0.numpy()"
   ]
  },
  {
   "cell_type": "code",
   "execution_count": 61,
   "metadata": {},
   "outputs": [],
   "source": [
    "# delta = 1e-7\n",
    "# (obj_function(xguess+np.eye(3)[2]*delta)-obj_function(xguess))/delta"
   ]
  },
  {
   "cell_type": "markdown",
   "metadata": {},
   "source": [
    "### Desired modeling syntax"
   ]
  },
  {
   "cell_type": "code",
   "execution_count": null,
   "metadata": {},
   "outputs": [],
   "source": [
    "Orbit = AnalysisIntersection() # we cannot know what the shared variables will be until all have sets have been added. This is why .analysis and .residual need to be calculated at runtime\n",
    "h = Var('h', 400e3) \n",
    "a = Orbit.Var('a', h + R, setid=1)\n",
    "T = Orbit.Var('T', 2*np.pi*(a**3/μ)**0.5, setid=2)\n",
    "g = Orbit.Var('g', 1/np.pi*sp.acos(R/a), setid=3)\n",
    "d = Orbit.Var('d', g+0.5, setid=4)\n",
    "r = Orbit.Var('r', (h**2+2*R*h)**0.5, setid=5)\n",
    "\n",
    "Power = AnalysisIntersection()\n",
    "eta_A = Par(r'\\eta_A', 0.3)\n",
    "rho_A = Par(r'\\rho_A', 10) \n",
    "rho_b = Par(r'\\rho_b', 0.002)\n",
    "P_l = Par('P_l', 12, 'W')\n",
    "A = Var('A', 0.05)\n",
    "m_A = Power.Var('m_A', rho_A*A, setid=6)\n",
    "P_c = Power.Var('P_c', d*A*Q*eta_A, setid=7)\n",
    "P_T = Power.Var('P_T', P_c-P_l, setid=8) \n",
    "E_b = Power.Var('E_b', P_c*T/d, setid=9)\n",
    "m_b = Power.Var('m_b', rho_b*E_b, setid=10)\n",
    "\n",
    "Payload = AnalysisIntersection()\n",
    "X_r = Var('X_r', 5)\n",
    "rho_p = Par(r'\\rho_p', 2) \n",
    "l_v = Par('l_v', 500, 'nm')\n",
    "B = Par('B', 8)\n",
    "N = Par('N', 2000)\n",
    "D_p = Payload.Var('D_p', 1.22*l_v*h/X_r, setid=11)\n",
    "D = Payload.Var('D', 2*np.pi*R*B*N/X_r, setid=12)\n",
    "m_p = Payload.Var('m_p', rho_p*D_p**1.5, setid=13)\n",
    "\n",
    "# Optimization relevant functions. These are needed for IDF/MDF\n",
    "ineq = [Xr - 5]\n",
    "obj = m_p + m_b\n",
    "\n",
    "# IDF would find shared variables accross all analyses and then generate\n",
    "# the equality constraints. The resulting form (when using information form one level below) would look like:\n",
    "([1,2,4,7,9,11,12], 3, 5, 6, 8, 10, 13)"
   ]
  },
  {
   "cell_type": "code",
   "execution_count": null,
   "metadata": {},
   "outputs": [],
   "source": []
  }
 ],
 "metadata": {
  "kernelspec": {
   "display_name": "minimdo",
   "language": "python",
   "name": "python3"
  },
  "language_info": {
   "codemirror_mode": {
    "name": "ipython",
    "version": 3
   },
   "file_extension": ".py",
   "mimetype": "text/x-python",
   "name": "python",
   "nbconvert_exporter": "python",
   "pygments_lexer": "ipython3",
   "version": "3.9.18"
  }
 },
 "nbformat": 4,
 "nbformat_minor": 2
}
