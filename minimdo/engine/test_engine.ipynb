{
 "cells": [
  {
   "cell_type": "code",
   "execution_count": 3,
   "metadata": {
    "metadata": {}
   },
   "outputs": [],
   "source": [
    "from engine.torchengine import AnalysisFunction, Function, EliminateAnalysisMergeResiduals, ElimResidual\n",
    "import torch\n",
    "torch.manual_seed(1);"
   ]
  },
  {
   "cell_type": "code",
   "execution_count": 4,
   "metadata": {},
   "outputs": [],
   "source": [
    "a1 = (('x2', 'x3'), ('x1','x4'), lambda a, b: (sum(a)+b, a[:2]+b))\n",
    "a2 = (('x1', 'x3'), ('x5',), lambda a, b: (a@b,))\n",
    "r = (('x4', 'x5'), lambda a, b: torch.cat((a, b)))\n",
    "indices = {\n",
    "    'x1': [0,1],\n",
    "    'x2': [2,3,4],\n",
    "    'x3': [5,6],\n",
    "    'x4': [7,8],\n",
    "    'x5': [9]\n",
    "}\n",
    "# update indices to have tensor entries instead of lists\n",
    "for k,v in indices.items():\n",
    "    indices[k] = torch.tensor(v)"
   ]
  },
  {
   "cell_type": "code",
   "execution_count": 5,
   "metadata": {},
   "outputs": [],
   "source": [
    "A1 = AnalysisFunction(a1, indices)\n",
    "A2 = AnalysisFunction(a2, indices)\n",
    "R = Function(r, indices)\n",
    "S = EliminateAnalysisMergeResiduals([A1, A2], [R])\n",
    "ER = ElimResidual(S, solvefor=['x2'], indices=indices)"
   ]
  },
  {
   "cell_type": "code",
   "execution_count": 6,
   "metadata": {},
   "outputs": [],
   "source": [
    "x0 = torch.rand(10, dtype=torch.float64) #Use 64 bit floats for better precision and gradients to work\n",
    "# Fix parameters (x3)\n",
    "x0[indices['x3']] = torch.tensor([1., 2], dtype=torch.float64)\n",
    "# Set initial values for solve vars (x2)\n",
    "x0[indices['x2']] = torch.tensor([1, 1, 1], dtype=torch.float64)"
   ]
  },
  {
   "cell_type": "code",
   "execution_count": 7,
   "metadata": {},
   "outputs": [
    {
     "data": {
      "text/plain": [
       "tensor([ 0.0611,  0.2246, -1.0000, -2.0000,  1.3333,  1.0000,  2.0000,  0.7084,\n",
       "         0.5798,  0.4967], dtype=torch.float64)"
      ]
     },
     "execution_count": 7,
     "metadata": {},
     "output_type": "execute_result"
    }
   ],
   "source": [
    "ER(x0)"
   ]
  },
  {
   "cell_type": "code",
   "execution_count": 8,
   "metadata": {},
   "outputs": [],
   "source": [
    "# Clone with requires grad for gradient calculations\n",
    "xvar = x0.clone()\n",
    "xvar.requires_grad_()\n",
    "xout = ER(xvar)\n",
    "backpass = torch.zeros_like(xvar)\n",
    "backpass[indices['x2'][2]] = 1\n",
    "xout.backward(backpass)"
   ]
  },
  {
   "cell_type": "code",
   "execution_count": 9,
   "metadata": {},
   "outputs": [
    {
     "data": {
      "text/plain": [
       "array([0.        , 0.        , 0.        , 0.        , 0.        ,\n",
       "       0.88888889, 0.22222222, 0.        , 0.        , 0.        ])"
      ]
     },
     "execution_count": 9,
     "metadata": {},
     "output_type": "execute_result"
    }
   ],
   "source": [
    "xvar.grad.numpy()"
   ]
  },
  {
   "cell_type": "markdown",
   "metadata": {},
   "source": [
    "## Sellar"
   ]
  },
  {
   "cell_type": "code",
   "execution_count": 12,
   "metadata": {},
   "outputs": [],
   "source": [
    "from engine.torchengine import AnalyticalSetSympy, FunctionSympy, EliminateAnalysisMergeResiduals, EliminateAnalysis, ElimResidual\n",
    "from engine.torchdata import generate_optim_functions, symbols\n",
    "import torch\n",
    "import sympy as sp\n",
    "torch.manual_seed(1);\n",
    "import numpy as np\n",
    "np.set_printoptions(formatter={'float': lambda x: \n",
    "                                f\"{x:.3f}\".rstrip('0').rstrip('.')})"
   ]
  },
  {
   "cell_type": "code",
   "execution_count": 13,
   "metadata": {},
   "outputs": [],
   "source": [
    "x1,x2,x3,u1,u2, indices = symbols('x1,x2,x3,u1,u2', dim='scalar')"
   ]
  },
  {
   "cell_type": "code",
   "execution_count": 14,
   "metadata": {},
   "outputs": [],
   "source": [
    "a1 = AnalyticalSetSympy(x1**2 + x2 + x3 - 0.2*u2, u1, indices)\n",
    "a2 = AnalyticalSetSympy(u1**0.5 + x1 + x2, u2, indices)\n",
    "objf = FunctionSympy(x3**2 + x2 + u1 + sp.exp(-u2), indices)\n",
    "g1 = FunctionSympy(3.16-u1, indices)\n",
    "g2 = FunctionSympy(u2-24, indices)\n",
    "g = EliminateAnalysisMergeResiduals(functions=[g1,g2])"
   ]
  },
  {
   "cell_type": "markdown",
   "metadata": {},
   "source": [
    "### MDF"
   ]
  },
  {
   "cell_type": "code",
   "execution_count": 15,
   "metadata": {},
   "outputs": [],
   "source": [
    "S1 = EliminateAnalysisMergeResiduals(functions=[a1.residual, a2.residual]) # Newton / Jacobi\n",
    "S2 = EliminateAnalysisMergeResiduals([a1.analysis], functions=[a2.residual]) # GS order 1\n",
    "S3 = EliminateAnalysisMergeResiduals([a2.analysis], functions=[a1.residual]) # GS order 2\n",
    "E1 = ElimResidual(S1, solvefor=[a1.outputvar, a2.outputvar], indices=indices)\n",
    "E2 = ElimResidual(S2, solvefor=[a2.outputvar], indices=indices)\n",
    "E3 = ElimResidual(S3, solvefor=[a1.outputvar], indices=indices)"
   ]
  },
  {
   "cell_type": "code",
   "execution_count": 16,
   "metadata": {},
   "outputs": [
    {
     "data": {
      "text/plain": [
       "tensor([0.0000, 0.0000, 1.0000, 0.8190, 0.1000])"
      ]
     },
     "execution_count": 16,
     "metadata": {},
     "output_type": "execute_result"
    }
   ],
   "source": [
    "x0 = torch.tensor([0,0,1,0.1,0.1])\n",
    "E3(x0)\n",
    "x0"
   ]
  },
  {
   "cell_type": "code",
   "execution_count": 17,
   "metadata": {},
   "outputs": [],
   "source": [
    "F1 = EliminateAnalysis([E1], [objf, g])\n",
    "F2 = EliminateAnalysis([E2, a1.analysis], [objf, g])\n",
    "F3 = EliminateAnalysis([E3, a2.analysis], [objf, g])"
   ]
  },
  {
   "cell_type": "code",
   "execution_count": 18,
   "metadata": {},
   "outputs": [],
   "source": [
    "x0 = torch.tensor([5.,2.,1.,1.,1.], dtype=torch.float64)\n",
    "solver_indices = F1.structure[0]\n",
    "xguess, obj, ineq, eq, dobj, dineq, deq = generate_optim_functions(\n",
    "    F1, solver_indices, x0, inequality_direction='positive-null', \n",
    "    residuals=False, equalities=False)\n",
    "constraints = [{'type': 'ineq', 'fun': ineq, 'jac': dineq}]"
   ]
  },
  {
   "cell_type": "code",
   "execution_count": 19,
   "metadata": {},
   "outputs": [
    {
     "data": {
      "text/plain": [
       " message: Optimization terminated successfully\n",
       " success: True\n",
       "  status: 0\n",
       "     fun: 3.1833939517268077\n",
       "       x: [ 1.978e+00  0.000e+00  4.227e-15]\n",
       "     nit: 6\n",
       "     jac: [ 3.508e+00  1.729e+00  9.405e-01]\n",
       "    nfev: 6\n",
       "    njev: 6"
      ]
     },
     "execution_count": 19,
     "metadata": {},
     "output_type": "execute_result"
    }
   ],
   "source": [
    "from scipy import optimize\n",
    "optimize.minimize(obj, xguess, jac=dobj, constraints=constraints,\n",
    "                  bounds=[(0,10), (0,10), (0,10)])"
   ]
  },
  {
   "cell_type": "code",
   "execution_count": 20,
   "metadata": {},
   "outputs": [
    {
     "data": {
      "text/plain": [
       "array([1.978, 0, 0, 3.16, 3.755])"
      ]
     },
     "execution_count": 20,
     "metadata": {},
     "output_type": "execute_result"
    }
   ],
   "source": [
    "x0.detach().numpy()"
   ]
  }
 ],
 "metadata": {
  "kernelspec": {
   "display_name": "minimdo",
   "language": "python",
   "name": "python3"
  },
  "language_info": {
   "codemirror_mode": {
    "name": "ipython",
    "version": 3
   },
   "file_extension": ".py",
   "mimetype": "text/x-python",
   "name": "python",
   "nbconvert_exporter": "python",
   "pygments_lexer": "ipython3",
   "version": "3.9.18"
  }
 },
 "nbformat": 4,
 "nbformat_minor": 2
}
