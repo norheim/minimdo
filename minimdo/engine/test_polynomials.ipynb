{
 "cells": [
  {
   "cell_type": "code",
   "execution_count": 99,
   "metadata": {},
   "outputs": [],
   "source": [
    "from utils.testproblems import generate_random_prob\n",
    "from utils.polycasebuilder import generate_random_polynomials, get_arg_mapping\n",
    "from trash.inputresolver import reassigneq\n",
    "from graph.graphutils import edges_to_Ein_Eout, sources\n",
    "from torchengine import AnalyticalSet, EliminateAnalysis, Function, EliminateAnalysisMergeResiduals\n",
    "from scipy.optimize import minimize\n",
    "import sympy as sp\n",
    "import numpy as np\n",
    "import torch\n",
    "np.set_printoptions(formatter={'float': lambda x: \"{:0.2f}\".format(x).rstrip('0').rstrip('.')})"
   ]
  },
  {
   "cell_type": "code",
   "execution_count": 90,
   "metadata": {},
   "outputs": [],
   "source": [
    "n_eqs, n_vars, sparsity, seed1, seed2 = 10, 13, 1.1, 42, 12345 #1.7\n",
    "eqv, varinc, dout = generate_random_prob(n_eqs, n_vars, seed1, sparsity)\n",
    "polynomials, var_mapping, edges, tree = generate_random_polynomials(eqv, dout, n_eqs)\n",
    "symb_mapping = get_arg_mapping(var_mapping, symbol_map=True)\n",
    "\n",
    "indices = {idx: torch.tensor([idx]) for idx in symb_mapping.keys()}\n",
    "sets = {}\n",
    "for polyidx, poly in polynomials.items():\n",
    "    outputvar = symb_mapping[edges[1][polyidx][0]]\n",
    "    inputvars = [symb_mapping[elt] for elt in edges[0][polyidx]]\n",
    "    analysis_function = sp.simplify(reassigneq(None, poly, outputvar))\n",
    "    if isinstance(analysis_function, sp.Float):\n",
    "        tensor = torch.tensor([float(analysis_function)], dtype=torch.float64)\n",
    "        f = lambda : tensor\n",
    "    else:\n",
    "        f = sp.lambdify(inputvars, analysis_function, torch) \n",
    "    residual = sp.lambdify(inputvars+[outputvar], poly, torch)   \n",
    "    tupl = (edges[0][polyidx]+edges[1][polyidx], residual)\n",
    "    triplet = (edges[0][polyidx], edges[1][polyidx], f)\n",
    "    sets[polyidx] = AnalyticalSet(triplet, indices, forceresidual=tupl)"
   ]
  },
  {
   "cell_type": "code",
   "execution_count": 91,
   "metadata": {},
   "outputs": [],
   "source": [
    "inputids = sorted(sources(*edges_to_Ein_Eout(edges)))\n",
    "inputvars = [var_mapping[elt][0] for elt in inputids]\n",
    "fobj = sum([(elt-1)**2 for elt in inputvars])\n",
    "objective = Function((inputids, sp.lambdify(inputvars, fobj, torch)), indices)"
   ]
  },
  {
   "cell_type": "code",
   "execution_count": 133,
   "metadata": {},
   "outputs": [],
   "source": [
    "optim_funcs_MDF = EliminateAnalysis([sets[k].analysis for k in sorted(sets.keys())],\n",
    "                                [objective, lambda x: torch.tensor([]), lambda x: torch.tensor([])])\n",
    "equality_constraints_AAO = EliminateAnalysisMergeResiduals([],[sets[k].residual for k in sorted(sets.keys())])\n",
    "optim_funcs_AAO = EliminateAnalysis([],\n",
    "                                [objective, lambda x: torch.tensor([]), equality_constraints_AAO])"
   ]
  },
  {
   "cell_type": "code",
   "execution_count": 134,
   "metadata": {},
   "outputs": [],
   "source": [
    "def generate_optim_functions(optim_funcs, solvefor_indices, x):\n",
    "    def eval_all(y):\n",
    "        x[solvefor_indices] = torch.from_numpy(y).to(x.dtype)\n",
    "        objval, ineqval, eqval = optim_funcs(x)\n",
    "        return objval.item(), -ineqval, -eqval\n",
    "    \n",
    "    def obj_function(y):\n",
    "        objval, _, _ = eval_all(y)\n",
    "        return objval\n",
    "\n",
    "    def ineq_function(y=None):\n",
    "        _, ineqval, _ = eval_all(y)\n",
    "        return ineqval\n",
    "    \n",
    "    def eq_function(y=None):\n",
    "        _, _, eqval = eval_all(y)\n",
    "        return eqval\n",
    "\n",
    "    xguess = x[solvefor_indices].numpy()\n",
    "    \n",
    "    return xguess, obj_function, ineq_function, eq_function"
   ]
  },
  {
   "cell_type": "code",
   "execution_count": 135,
   "metadata": {},
   "outputs": [],
   "source": [
    "optim_indices_MDF = torch.cat([indices[elt] for elt in inputids])\n",
    "bnds_problem_MDF = [(0,10) for elt in optim_indices_MDF]\n",
    "\n",
    "optim_indices_AAO = torch.cat([indices[k] for k in sorted(indices.keys())])\n",
    "bnds_problem_AAO = [(0,10) for elt in optim_indices_AAO]\n",
    "#set random seed to be reproducible\n",
    "torch.manual_seed(43)\n",
    "x0 = torch.rand(n_vars, dtype=torch.float64)\n",
    "xguess, obj_function, ineq_function, eq_function = generate_optim_functions(optim_funcs_AAO, optim_indices_AAO, x0)\n",
    "constraints = [{'type': 'eq', 'fun': eq_function}]"
   ]
  },
  {
   "cell_type": "code",
   "execution_count": 137,
   "metadata": {},
   "outputs": [
    {
     "data": {
      "text/plain": [
       " message: Optimization terminated successfully\n",
       " success: True\n",
       "  status: 0\n",
       "     fun: 962868.6890955853\n",
       "       x: [-2.521e-01  9.823e+02 ... -1.086e-07  7.929e+00]\n",
       "     nit: 93\n",
       "     jac: [-2.508e+00  1.963e+03 ...  0.000e+00  0.000e+00]\n",
       "    nfev: 1485\n",
       "    njev: 93"
      ]
     },
     "execution_count": 137,
     "metadata": {},
     "output_type": "execute_result"
    }
   ],
   "source": [
    "minimize(obj_function, xguess, constraints=constraints, method='SLSQP')"
   ]
  },
  {
   "cell_type": "code",
   "execution_count": 143,
   "metadata": {},
   "outputs": [
    {
     "data": {
      "text/plain": [
       "array([-0.25, 982.26, 356.97, 1.95, -0.2, -0, 8.66, 6851.16, -11.9, 0.03,\n",
       "       -8310.65, -0, 7.93])"
      ]
     },
     "execution_count": 143,
     "metadata": {},
     "output_type": "execute_result"
    }
   ],
   "source": [
    "x0.numpy()"
   ]
  },
  {
   "cell_type": "code",
   "execution_count": 153,
   "metadata": {},
   "outputs": [
    {
     "data": {
      "text/plain": [
       "array([0, 0, 0, 0, 0, 0, 0, 0, 0, 0, 0, 0, 0])"
      ]
     },
     "execution_count": 153,
     "metadata": {},
     "output_type": "execute_result"
    }
   ],
   "source": [
    "sets[9].analysis(x0).numpy()-x0.numpy()"
   ]
  }
 ],
 "metadata": {
  "kernelspec": {
   "display_name": "minimdo",
   "language": "python",
   "name": "python3"
  },
  "language_info": {
   "codemirror_mode": {
    "name": "ipython",
    "version": 3
   },
   "file_extension": ".py",
   "mimetype": "text/x-python",
   "name": "python",
   "nbconvert_exporter": "python",
   "pygments_lexer": "ipython3",
   "version": "3.9.18"
  }
 },
 "nbformat": 4,
 "nbformat_minor": 2
}
