{
 "cells": [
  {
   "cell_type": "code",
   "execution_count": 1,
   "metadata": {},
   "outputs": [],
   "source": [
    "from foundations.projectables import ResidualProjectable\n",
    "from modeling.gen4.arghandling import var_encoding\n",
    "from modeling.compute import create_vars\n",
    "from foundations.functionals import encode_sympy\n",
    "from foundations.functional_noobj import concatenate_residuals\n",
    "from modeling.arghandling import Encoding, flatten_args, decode, encode, unflatten_args, EncodedFunction"
   ]
  },
  {
   "cell_type": "code",
   "execution_count": 21,
   "metadata": {},
   "outputs": [],
   "source": [
    "x, y, z, a = create_vars('x y z a')\n",
    "h = encode_sympy(x + y**2 - z**2)\n",
    "h2 = encode_sympy(y-x*z+a)\n",
    "h3 = encode_sympy(y-2*a)\n",
    "H = concatenate_residuals([h, h2])"
   ]
  },
  {
   "cell_type": "code",
   "execution_count": 22,
   "metadata": {},
   "outputs": [],
   "source": [
    "#P1 = ResidualProjectable(h, solvevar_encoder=var_encoding(x))\n",
    "P2 = ResidualProjectable(H, solvevar_encoder=var_encoding(x,y))"
   ]
  },
  {
   "cell_type": "code",
   "execution_count": 24,
   "metadata": {},
   "outputs": [],
   "source": [
    "x_F = {z: 1, a: 0}\n",
    "sol = {x: -1., y: 1}"
   ]
  },
  {
   "cell_type": "code",
   "execution_count": 25,
   "metadata": {},
   "outputs": [
    {
     "data": {
      "text/plain": [
       "DeviceArray([-1.,  2.], dtype=float64, weak_type=True)"
      ]
     },
     "execution_count": 25,
     "metadata": {},
     "output_type": "execute_result"
    }
   ],
   "source": [
    "P2.residuals().dict_in_flat_out({**x_F, **sol})"
   ]
  },
  {
   "cell_type": "code",
   "execution_count": 26,
   "metadata": {},
   "outputs": [],
   "source": [
    "P2.solvepar(x_initial={x:0, y:0})"
   ]
  },
  {
   "cell_type": "code",
   "execution_count": 27,
   "metadata": {},
   "outputs": [],
   "source": [
    "F = P2.functional()\n",
    "sol = F.dict_in_dict_out(x_F, cleanup=True)"
   ]
  },
  {
   "cell_type": "code",
   "execution_count": 28,
   "metadata": {},
   "outputs": [
    {
     "data": {
      "text/plain": [
       "{x: 0.6180339887498949, y: 0.6180339887498949}"
      ]
     },
     "execution_count": 28,
     "metadata": {},
     "output_type": "execute_result"
    }
   ],
   "source": [
    "sol"
   ]
  },
  {
   "cell_type": "code",
   "execution_count": 29,
   "metadata": {},
   "outputs": [
    {
     "data": {
      "text/plain": [
       "DeviceArray([0., 0.], dtype=float64, weak_type=True)"
      ]
     },
     "execution_count": 29,
     "metadata": {},
     "output_type": "execute_result"
    }
   ],
   "source": [
    "P2.residuals().dict_in_flat_out({**x_F, **sol})"
   ]
  },
  {
   "cell_type": "markdown",
   "metadata": {},
   "source": [
    "# Adjoint Gradients"
   ]
  },
  {
   "cell_type": "code",
   "execution_count": 45,
   "metadata": {},
   "outputs": [],
   "source": [
    "from jax import jacfwd, jacrev, grad, custom_jvp\n",
    "import jax.numpy as jnp\n",
    "import numpy as np"
   ]
  },
  {
   "cell_type": "code",
   "execution_count": 31,
   "metadata": {},
   "outputs": [],
   "source": [
    "def adjoints(projectable):\n",
    "    H = projectable.residuals()\n",
    "    F = projectable.functional()\n",
    "    g = jacfwd(H.flat_in_flat_out)\n",
    "    N = sum(map(sum, F.decoder.shapes))\n",
    "    def calculate(*args):\n",
    "        x_F =  F.encoder.decode(args)\n",
    "        x0 = {**x_F, **F.dict_out_only(*args)}\n",
    "        x0_np = H.encoder.encode(x0, flatten=True)\n",
    "        d = decode(flatten_args(g(x0_np).T), \n",
    "                   H.encoder.order, \n",
    "                   [(N,) for elt in H.encoder.order], unflatten=True)\n",
    "        grad_h_y = np.vstack(F.decoder.encode(d)).T\n",
    "        grad_h_x = np.vstack(F.encoder.encode(d)).T\n",
    "        inv_grad_h_y = np.linalg.inv(grad_h_y)\n",
    "        DJ = -np.dot(inv_grad_h_y, grad_h_x)\n",
    "        return unflatten_args(flatten_args(DJ), [(N,) for elt in F.encoder.order])\n",
    "    return EncodedFunction(calculate, F.encoder)"
   ]
  },
  {
   "cell_type": "code",
   "execution_count": 32,
   "metadata": {},
   "outputs": [
    {
     "data": {
      "text/plain": [
       "(x, y)"
      ]
     },
     "execution_count": 32,
     "metadata": {},
     "output_type": "execute_result"
    }
   ],
   "source": [
    "F.decoder.order"
   ]
  },
  {
   "cell_type": "code",
   "execution_count": 33,
   "metadata": {},
   "outputs": [],
   "source": [
    "A = adjoints(P2)"
   ]
  },
  {
   "cell_type": "code",
   "execution_count": 34,
   "metadata": {},
   "outputs": [
    {
     "data": {
      "text/plain": [
       "(DeviceArray([0.5527864, 0.5527864], dtype=float64),\n",
       " DeviceArray([ 1.17082039, -0.4472136 ], dtype=float64))"
      ]
     },
     "execution_count": 34,
     "metadata": {},
     "output_type": "execute_result"
    }
   ],
   "source": [
    "A.dict_in_only(x_F)"
   ]
  },
  {
   "cell_type": "code",
   "execution_count": 35,
   "metadata": {},
   "outputs": [
    {
     "data": {
      "text/plain": [
       "DeviceArray([1., 0.], dtype=float64, weak_type=True)"
      ]
     },
     "execution_count": 35,
     "metadata": {},
     "output_type": "execute_result"
    }
   ],
   "source": [
    "v = F.encoder.encode({z:1., a:0}, flatten=True)\n",
    "v"
   ]
  },
  {
   "cell_type": "code",
   "execution_count": 36,
   "metadata": {},
   "outputs": [
    {
     "data": {
      "text/plain": [
       "(DeviceArray([0.61803399, 0.61803399], dtype=float64),\n",
       " (DeviceArray([0.5527864, 0.5527864], dtype=float64),\n",
       "  DeviceArray([ 1.17082039, -0.4472136 ], dtype=float64)))"
      ]
     },
     "execution_count": 36,
     "metadata": {},
     "output_type": "execute_result"
    }
   ],
   "source": [
    "F.flat_in_flat_out(v), A.flat_in_only(v)"
   ]
  },
  {
   "cell_type": "code",
   "execution_count": 42,
   "metadata": {},
   "outputs": [],
   "source": [
    "@custom_jvp\n",
    "def f(x):\n",
    "  return F.flat_in_flat_out(x)\n",
    "\n",
    "@f.defjvp\n",
    "def f_jvp(primals, tangents):\n",
    "  v, = primals\n",
    "  x_dot,  = tangents\n",
    "  y = f(v)\n",
    "  dJ = A.flat_in_only(v)\n",
    "  tangent_out = sum([dj*x_dot[idx] for idx,dj in enumerate(dJ)])\n",
    "  return y, tangent_out"
   ]
  },
  {
   "cell_type": "code",
   "execution_count": 38,
   "metadata": {},
   "outputs": [
    {
     "data": {
      "text/plain": [
       "DeviceArray([[ 0.5527864 ,  1.17082039],\n",
       "             [ 0.5527864 , -0.4472136 ]], dtype=float64)"
      ]
     },
     "execution_count": 38,
     "metadata": {},
     "output_type": "execute_result"
    }
   ],
   "source": [
    "jacfwd(f)(np.array([1., 0]))"
   ]
  },
  {
   "cell_type": "code",
   "execution_count": 46,
   "metadata": {},
   "outputs": [],
   "source": [
    "def g(x):\n",
    "    return f(x)+jnp.sin(x[1])"
   ]
  },
  {
   "cell_type": "code",
   "execution_count": 47,
   "metadata": {},
   "outputs": [
    {
     "data": {
      "text/plain": [
       "DeviceArray([[0.5527864 , 2.17082039],\n",
       "             [0.5527864 , 0.5527864 ]], dtype=float64)"
      ]
     },
     "execution_count": 47,
     "metadata": {},
     "output_type": "execute_result"
    }
   ],
   "source": [
    "jacfwd(g)(np.array([1., 0]))"
   ]
  },
  {
   "cell_type": "markdown",
   "metadata": {},
   "source": [
    "# Double check"
   ]
  },
  {
   "cell_type": "code",
   "execution_count": 39,
   "metadata": {},
   "outputs": [
    {
     "data": {
      "text/plain": [
       "(DeviceArray([0.55231517, 1.17090148], dtype=float64),\n",
       " DeviceArray([ 0.55269693, -0.44730307], dtype=float64))"
      ]
     },
     "execution_count": 39,
     "metadata": {},
     "output_type": "execute_result"
    }
   ],
   "source": [
    "eps = 1e-3\n",
    "((flatten_args(F.f(1+eps,0))-flatten_args(F.f(1.,0)))/eps,\n",
    "(flatten_args(F.f(1,0+eps))-flatten_args(F.f(1.,0)))/eps)"
   ]
  }
 ],
 "metadata": {
  "kernelspec": {
   "display_name": "minimdo",
   "language": "python",
   "name": "python3"
  },
  "language_info": {
   "codemirror_mode": {
    "name": "ipython",
    "version": 3
   },
   "file_extension": ".py",
   "mimetype": "text/x-python",
   "name": "python",
   "nbconvert_exporter": "python",
   "pygments_lexer": "ipython3",
   "version": "3.9.12"
  }
 },
 "nbformat": 4,
 "nbformat_minor": 2
}
