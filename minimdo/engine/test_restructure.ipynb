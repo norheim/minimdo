{
 "cells": [
  {
   "cell_type": "code",
   "execution_count": 1,
   "metadata": {},
   "outputs": [],
   "source": [
    "from engine.torchengine import AnalyticalSetSympy, FunctionSympy, EliminateAnalysisMergeResiduals, EliminateAnalysis, ElimResidual\n",
    "from engine.torchdata import symbols, generate_optim_functions\n",
    "import numpy as np\n",
    "import sympy as sp\n",
    "import torch\n",
    "np.set_printoptions(formatter={'float': lambda x: \n",
    "                                f\"{x:.3f}\".rstrip('0').rstrip('.')})"
   ]
  },
  {
   "cell_type": "code",
   "execution_count": 2,
   "metadata": {},
   "outputs": [],
   "source": [
    "Pt, Pbus, S, D, A, R, indices = symbols('P_t,P_bus,S,D,A,R', dim=1)\n",
    "eta_t, eta_a, alpha, th, W0, Re, mu, c1, c2, c3, c4 = 0.16, 0.5, 1e20, np.pi/4, 1367, 6378, 3.986005e14, 2500, 12000, 100, 12000"
   ]
  },
  {
   "cell_type": "code",
   "execution_count": null,
   "metadata": {},
   "outputs": [],
   "source": [
    "h = [\n",
    "    A*eta_a*W0*sp.cos(th)-Pbus == Pt,\n",
    "    10*abs(Pt)**0.5 == Pbus,\n",
    "    alpha*Pt*D**2*eta_t/(16*S**2)*1/(8e6) == R,\n",
    "    R == 1\n",
    "]\n",
    "newmodel = presolve(model, eliminate=[1])\n",
    "newmodel.solve()"
   ]
  },
  {
   "cell_type": "code",
   "execution_count": null,
   "metadata": {},
   "outputs": [],
   "source": [
    "h = [\n",
    "    A*eta_a*W0*sp.cos(th)-Pbus == Pt,\n",
    "    10*abs(Pt)**0.5 == Pbus,\n",
    "    alpha*Pt*D**2*eta_t/(16*S**2)*1/(8e6) == R,\n",
    "    R == 1\n",
    "]\n",
    "newmodel = presolve_merge(model, [1,2], [3,4], [5]) #groups statevars; transforms a_i\n",
    "newmodel = presolve(newmodel, eliminate=[1,4,5]) # eliminate state vars that are not shared; there might be a shared var for 2 and 3, so we don't eliminate these\n",
    "newmodel = presolve_merge(model, [2, 3]) # groups shared vars, \"MDF\"\n",
    "newmodel.solve() # this becomes and MDF solve"
   ]
  },
  {
   "cell_type": "code",
   "execution_count": null,
   "metadata": {},
   "outputs": [],
   "source": [
    "h = [\n",
    "    Discipline1(),\n",
    "    Discipline2(),\n",
    "    x == 1\n",
    "]\n",
    "newmodel, mdfconstraint = presolve_mdf(model)\n",
    "newmodel = presolve(newmodel, eliminate=[mdfconstraint])\n",
    "newmodel.solve()"
   ]
  },
  {
   "cell_type": "code",
   "execution_count": 3,
   "metadata": {},
   "outputs": [],
   "source": [
    "a1 = AnalyticalSetSympy(A*eta_a*W0*sp.cos(th)-Pbus, Pt, indices)\n",
    "a2 = AnalyticalSetSympy(10*abs(Pt)**0.5, Pbus, indices)\n",
    "a3 = AnalyticalSetSympy(alpha*Pt*D**2*eta_t/(16*S**2)*1/(8e6), R, indices)\n",
    "h1 = FunctionSympy(-R+1, indices)\n",
    "objf = FunctionSympy((c1*D**2+c2*A+c3*Pbus+c4)*1e-3, indices)"
   ]
  },
  {
   "cell_type": "markdown",
   "metadata": {},
   "source": [
    "### Elimination Manual"
   ]
  },
  {
   "cell_type": "code",
   "execution_count": 11,
   "metadata": {},
   "outputs": [],
   "source": [
    "S0 = EliminateAnalysisMergeResiduals(functions=[a2.residual, a3.residual])\n",
    "F0 = EliminateAnalysis([a1.analysis], [objf, S0, h1])"
   ]
  },
  {
   "cell_type": "code",
   "execution_count": 55,
   "metadata": {},
   "outputs": [],
   "source": [
    "x0 = torch.tensor([10,10,400e3,0.67,0.1,4.453],dtype=torch.float64)\n",
    "bounds = [(-np.inf,np.inf), (-np.inf,np.inf), (0,np.inf), (0.01, 10), (0.01, 10), (-np.inf,np.inf)]\n",
    "solver_indices = [1,2,4,5]\n",
    "xguess, obj, ineq, eq, dobj, dineq, deq = generate_optim_functions(\n",
    "    F0, solver_indices, x0, inequality_direction='positive-null', \n",
    "    residuals=True, inequalities=False)\n",
    "constraints = [{'type': 'eq', 'fun': eq, 'jac': deq}]"
   ]
  },
  {
   "cell_type": "code",
   "execution_count": 56,
   "metadata": {},
   "outputs": [
    {
     "data": {
      "text/plain": [
       "array([10, 400000, 0.1, 4.453])"
      ]
     },
     "execution_count": 56,
     "metadata": {},
     "output_type": "execute_result"
    }
   ],
   "source": [
    "xguess"
   ]
  },
  {
   "cell_type": "code",
   "execution_count": 57,
   "metadata": {},
   "outputs": [
    {
     "data": {
      "text/plain": [
       " message: Optimization terminated successfully\n",
       " success: True\n",
       "  status: 0\n",
       "     fun: 15.300925010403073\n",
       "       x: [ 1.689e+01  4.000e+05  4.084e-02  1.000e+00]\n",
       "     nit: 3\n",
       "     jac: [ 1.000e-01  0.000e+00  1.200e+01  0.000e+00]\n",
       "    nfev: 3\n",
       "    njev: 3"
      ]
     },
     "execution_count": 57,
     "metadata": {},
     "output_type": "execute_result"
    }
   ],
   "source": [
    "from scipy import optimize\n",
    "optimize.minimize(obj, xguess, jac=dobj, constraints=constraints,\n",
    "                  bounds=[bounds[idx] for idx in solver_indices])"
   ]
  },
  {
   "cell_type": "markdown",
   "metadata": {},
   "source": [
    "### MDF structure 1"
   ]
  },
  {
   "cell_type": "code",
   "execution_count": 4,
   "metadata": {},
   "outputs": [],
   "source": [
    "S1 = EliminateAnalysisMergeResiduals(functions=[a1.residual, a2.residual]) # Newton / Jacobi\n",
    "E1 = ElimResidual(S1, solvefor=[a1.outputvar, a2.outputvar], indices=indices)\n",
    "F1 = EliminateAnalysis([E1, a3.analysis], [objf, h1])"
   ]
  },
  {
   "cell_type": "code",
   "execution_count": 5,
   "metadata": {},
   "outputs": [],
   "source": [
    "x0 = torch.tensor([10,10,400e3,0.67,0.1,4.453],dtype=torch.float64)\n",
    "solver_indices = torch.tensor([3,4])\n",
    "xguess, obj, ineq, eq, dobj, dineq, deq = generate_optim_functions(\n",
    "    F1, solver_indices, x0, inequality_direction='positive-null', \n",
    "    residuals=True, inequalities=False)\n",
    "constraints = [{'type': 'eq', 'fun': eq, 'jac': deq}]"
   ]
  },
  {
   "cell_type": "code",
   "execution_count": 6,
   "metadata": {},
   "outputs": [
    {
     "name": "stderr",
     "output_type": "stream",
     "text": [
      "c:\\Users\\johan\\miniconda3\\envs\\minimdo\\lib\\site-packages\\scipy\\optimize\\_optimize.py:353: RuntimeWarning: Values in x were outside bounds during a minimize step, clipping to bounds\n",
      "  warnings.warn(\"Values in x were outside bounds during a \"\n"
     ]
    },
    {
     "data": {
      "text/plain": [
       " message: Optimization terminated successfully\n",
       " success: True\n",
       "  status: 0\n",
       "     fun: 15.30092320807752\n",
       "       x: [ 6.705e-01  4.080e-02]\n",
       "     nit: 9\n",
       "     jac: [ 3.352e+00  4.814e+01]\n",
       "    nfev: 9\n",
       "    njev: 9"
      ]
     },
     "execution_count": 6,
     "metadata": {},
     "output_type": "execute_result"
    }
   ],
   "source": [
    "from scipy import optimize\n",
    "optimize.minimize(obj, xguess, jac=dobj, constraints=constraints,\n",
    "                  bounds=[(0.01, 10), (0.01, 10)])"
   ]
  },
  {
   "cell_type": "code",
   "execution_count": 7,
   "metadata": {},
   "outputs": [
    {
     "data": {
      "text/plain": [
       "array([2.847, 16.874, 400000, 0.67, 0.041, 4.453])"
      ]
     },
     "execution_count": 7,
     "metadata": {},
     "output_type": "execute_result"
    }
   ],
   "source": [
    "x0.detach().numpy()"
   ]
  },
  {
   "cell_type": "code",
   "execution_count": 8,
   "metadata": {},
   "outputs": [
    {
     "data": {
      "text/plain": [
       "array([15.301])"
      ]
     },
     "execution_count": 8,
     "metadata": {},
     "output_type": "execute_result"
    }
   ],
   "source": [
    "objf(x0).detach().numpy()"
   ]
  },
  {
   "cell_type": "code",
   "execution_count": null,
   "metadata": {},
   "outputs": [],
   "source": []
  }
 ],
 "metadata": {
  "kernelspec": {
   "display_name": "minimdo",
   "language": "python",
   "name": "python3"
  },
  "language_info": {
   "codemirror_mode": {
    "name": "ipython",
    "version": 3
   },
   "file_extension": ".py",
   "mimetype": "text/x-python",
   "name": "python",
   "nbconvert_exporter": "python",
   "pygments_lexer": "ipython3",
   "version": "3.9.18"
  }
 },
 "nbformat": 4,
 "nbformat_minor": 2
}
