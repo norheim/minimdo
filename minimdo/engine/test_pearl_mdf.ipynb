{
 "cells": [
  {
   "cell_type": "code",
   "execution_count": 1,
   "metadata": {},
   "outputs": [],
   "source": [
    "from torchdata import load_file, process_expression, process_json, load_vals, generate_optim_functions\n",
    "from torchengine import AnalyticalSetSympy, Function, EliminateAnalysis, EliminateAnalysisMergeResiduals\n",
    "from torchengine import ElimResidual, FunctionSympy\n",
    "from torchdata import print_formatted_table, fmt\n",
    "from scipy.optimize import minimize\n",
    "import sympy as sp\n",
    "import torch\n",
    "import numpy as np\n",
    "np.set_printoptions(formatter={'float': lambda x: \"{:0.2f}\".format(x).rstrip('0').rstrip('.')})"
   ]
  },
  {
   "cell_type": "code",
   "execution_count": 2,
   "metadata": {},
   "outputs": [],
   "source": [
    "symb_str_mapping = {}\n",
    "all_analyses = {}\n",
    "disciplines = ['pearl_geom','pearl_hydro', \n",
    "               'pearl_mass','pearl_prop',\n",
    "               'pearl_comms','pearl_power', \n",
    "               'pearl_solar', 'pearl_battery',\n",
    "               'pearl_prob']\n",
    "flattened_output = []\n",
    "equality_constraints_sympy = []\n",
    "inequality_constraints_sympy = []\n",
    "for file_name in disciplines:\n",
    "    data = load_file(file_name)\n",
    "    equality_constraints_sympy += [\n",
    "        process_expression(elt, symb_str_mapping) \n",
    "        for elt in data.get('equality_constraints',[])]\n",
    "    inequality_constraints_sympy += [\n",
    "        process_expression(elt, symb_str_mapping) \n",
    "        for elt in data.get('inequality_constraints',[])]\n",
    "    objective = data.get('objective',None)\n",
    "    if objective is not None:\n",
    "        objective = process_expression(objective, symb_str_mapping)\n",
    "    functional_sets = data.get('functional_sets',[])\n",
    "    flattened_output += functional_sets\n",
    "    analysismap, symb_str_mapping = process_json(\n",
    "        functional_sets, symb_str_mapping)\n",
    "    all_analyses[file_name] = analysismap"
   ]
  },
  {
   "cell_type": "code",
   "execution_count": 3,
   "metadata": {},
   "outputs": [],
   "source": [
    "idxrev = {i: elt for i, elt in \n",
    "            enumerate(symb_str_mapping.values())}\n",
    "indices = {elt: torch.tensor([int(i)]) for i, elt in \n",
    "            idxrev.items()}"
   ]
  },
  {
   "cell_type": "code",
   "execution_count": 4,
   "metadata": {},
   "outputs": [],
   "source": [
    "sets ={}\n",
    "for file_name, analysismap in all_analyses.items():\n",
    "        sets[file_name] = {\n",
    "                idx:AnalyticalSetSympy(analysis, \n",
    "                outputvar=outputvar, indices=indices) \n",
    "                for idx,(analysis,outputvar) in enumerate(analysismap)\n",
    "                }\n",
    "equality_constraints = EliminateAnalysisMergeResiduals(functions=[Function((\n",
    "        sorted(expr.free_symbols, key=lambda s: s.name),\n",
    "        sp.lambdify(sorted(expr.free_symbols, key=lambda s: s.name), expr, torch),  \n",
    "        ), indices=indices) \n",
    "        for expr in equality_constraints_sympy])\n",
    "inequality_constraints = EliminateAnalysisMergeResiduals(functions=[Function((\n",
    "        sorted(expr.free_symbols, key=lambda s: s.name),\n",
    "        sp.lambdify(sorted(expr.free_symbols, key=lambda s: s.name), expr, torch),  \n",
    "        ), indices=indices) \n",
    "        for expr in inequality_constraints_sympy])\n",
    "objective = Function((\n",
    "        sorted(objective.free_symbols, key=lambda s: s.name),\n",
    "        sp.lambdify(sorted(objective.free_symbols, key=lambda s: s.name), objective, torch),  \n",
    "        ), indices=indices)"
   ]
  },
  {
   "cell_type": "code",
   "execution_count": 5,
   "metadata": {},
   "outputs": [],
   "source": [
    "custom_partition_order = []\n",
    "flat_sets = {}\n",
    "for file_name, subsets in sets.items():\n",
    "    custom_partition_order.append(())\n",
    "    for elt in subsets.values():\n",
    "        flatidx = len(flat_sets)\n",
    "        flat_sets[flatidx] = elt\n",
    "        custom_partition_order[-1] += (flatidx,)"
   ]
  },
  {
   "cell_type": "code",
   "execution_count": 6,
   "metadata": {},
   "outputs": [],
   "source": [
    "sequential = {}\n",
    "for partidx, elt in enumerate(custom_partition_order):\n",
    "    if len(elt) ==1:\n",
    "        sequential[partidx] = flat_sets[next(iter(elt))].analysis\n",
    "    else:\n",
    "        sequential[partidx] = EliminateAnalysis([flat_sets[idx].analysis for idx in elt], [])"
   ]
  },
  {
   "cell_type": "code",
   "execution_count": 7,
   "metadata": {},
   "outputs": [],
   "source": [
    "discipline_idxs = [s.analysis.structure[1][0].item() for s in flat_sets.values()]"
   ]
  },
  {
   "cell_type": "code",
   "execution_count": 8,
   "metadata": {},
   "outputs": [],
   "source": [
    "all_res = EliminateAnalysisMergeResiduals(functions=[s.residual for s in flat_sets.values()])"
   ]
  },
  {
   "cell_type": "code",
   "execution_count": 9,
   "metadata": {},
   "outputs": [],
   "source": [
    "solve_vars = [idxrev[elt] for elt in discipline_idxs]\n",
    "#solve_vars += [sp.symbols('D_f')]"
   ]
  },
  {
   "cell_type": "code",
   "execution_count": 10,
   "metadata": {},
   "outputs": [
    {
     "data": {
      "text/plain": [
       "array([d, V_d, F_B, F_W, K_B, K_G, I, B_M, G_M, C_33, A_33, \\omega_0,\n",
       "       m_platform, m_solar, m_struct, t_d, S_w, P_move, l, L_pt, G_t, G_r,\n",
       "       S, L_s, P_comms, E_move, E_hotel, E_comms, E_service, P_service,\n",
       "       E_required, E_recharge, P_recharge, A_solar, C, m_batt],\n",
       "      dtype=object)"
      ]
     },
     "execution_count": 10,
     "metadata": {},
     "output_type": "execute_result"
    }
   ],
   "source": [
    "np.array(solve_vars)"
   ]
  },
  {
   "cell_type": "code",
   "execution_count": 11,
   "metadata": {},
   "outputs": [],
   "source": [
    "from torchengine import ipoptsolver\n",
    "from functools import partial"
   ]
  },
  {
   "cell_type": "code",
   "execution_count": 12,
   "metadata": {},
   "outputs": [],
   "source": [
    "bnds = [(0, None) for _ in solve_vars]"
   ]
  },
  {
   "cell_type": "code",
   "execution_count": 13,
   "metadata": {},
   "outputs": [],
   "source": [
    "ipsolver = partial(ipoptsolver, bnds_problem=bnds)"
   ]
  },
  {
   "cell_type": "code",
   "execution_count": 24,
   "metadata": {},
   "outputs": [],
   "source": [
    "MDA = ElimResidual(all_res, solve_vars, indices)"
   ]
  },
  {
   "cell_type": "code",
   "execution_count": 25,
   "metadata": {},
   "outputs": [],
   "source": [
    "x0 = load_vals('pearl_params', indices=indices)\n",
    "# numerical_values = {'D_f': 0.3,\n",
    "#                     'D_s': 0.2,\n",
    "#                     'D_d': 0.3,\n",
    "#                     't_f': 0.1,\n",
    "#                     't_s': 0.2,\n",
    "#                     't_d': 0.1,\n",
    "#                     'v':0.1,\n",
    "#                     'alpha': 0.05,}\n",
    "# for var, val in numerical_values.items():\n",
    "#     x0[indices[sp.symbols(var)]] = val"
   ]
  },
  {
   "cell_type": "code",
   "execution_count": 26,
   "metadata": {},
   "outputs": [
    {
     "data": {
      "text/plain": [
       "tensor([ 1.0511e+01,  2.0000e+00,  5.0000e-02,  1.0000e-01,  1.2500e+00,\n",
       "         2.0000e+00,  4.5000e-01,  8.9959e-01,  2.0000e+00,  8.8009e+00,\n",
       "         9.8000e+00,  1.0000e+03,  8.6248e+04,  8.6248e+04,  1.8120e+00,\n",
       "         5.0000e-01,  1.8375e+00,  7.8540e-01,  8.9241e-02,  6.3727e-02,\n",
       "         3.0788e+04,  2.9611e+03,  8.8009e+03,  1.3088e+00,  1.0000e+01,\n",
       "         1.0511e+02,  1.1727e+02,  5.0000e+01,  5.0000e+01,  8.4785e+03,\n",
       "         7.0000e+02,  2.7000e+03,  1.8239e+01,  1.0000e+00,  7.5000e-01,\n",
       "         1.0000e+00,  1.2160e+04,  3.0000e+08,  2.2000e+09,  1.3636e-01,\n",
       "         2.7000e+01,  3.2000e+01,  1.3986e-01,  5.5000e-01,  4.0829e-01,\n",
       "         5.3000e+00,  8.2001e+03,  6.3780e+06,  6.0000e+05,  2.8308e+06,\n",
       "        -1.3671e-08,  3.8900e+01,  9.3300e-01,  7.9000e-01,  9.3300e-01,\n",
       "         8.5000e+07,  1.3500e+02,  1.3807e-23,  1.3884e-12,  3.6000e+03,\n",
       "         4.3774e+07,  5.0000e+01,  8.6400e+04,  4.3200e+06,  3.6000e+03,\n",
       "         4.9982e-09,  1.9000e+03,  1.0000e+00,  1.9000e+03,  4.3200e+04,\n",
       "         4.3981e-02,  4.8096e+07,  4.8096e+07,  4.3200e+04,  1.1133e+03,\n",
       "         9.0000e-01,  1.0000e+00,  5.0000e-02,  2.7000e-01,  8.0000e+02,\n",
       "         9.6000e-01,  7.0000e-01,  1.0000e+00,  8.5000e-01,  8.0834e+07,\n",
       "         5.0000e+00,  7.2000e+05], dtype=torch.float64)"
      ]
     },
     "execution_count": 26,
     "metadata": {},
     "output_type": "execute_result"
    }
   ],
   "source": [
    "MDA(x0)"
   ]
  },
  {
   "cell_type": "code",
   "execution_count": 27,
   "metadata": {},
   "outputs": [
    {
     "data": {
      "text/plain": [
       "array([0, -0, -0, 0, 0, 0, 0, -0, 0, 0, 0, -0, 0, 0, 0, -0, -0, -0, 0, 0,\n",
       "       0, -0, 0, 0, -0, 0, 0, 0, 0, 0, 0, 0, 0, -0, 0, 0])"
      ]
     },
     "execution_count": 27,
     "metadata": {},
     "output_type": "execute_result"
    }
   ],
   "source": [
    "all_res(x0).numpy()"
   ]
  },
  {
   "cell_type": "code",
   "execution_count": 28,
   "metadata": {},
   "outputs": [
    {
     "name": "stdout",
     "output_type": "stream",
     "text": [
      "P_move P_comms  t_move P_hotel t_mission t_comms E_AUV G t_service E_move E_hotel E_comms  E_service P_service E_required\n",
      "1.22e4 1.39e-12 3600   50      8.64e4    3600    1900  1 4.32e4    4.38e7 4.32e6  5.00e-09 1900      0.044     4.81e7    \n"
     ]
    }
   ],
   "source": [
    "disciplineidx = 5\n",
    "print_formatted_table([x0], \n",
    "                      indices, idxrev,  \n",
    "                      torch.cat(sequential[disciplineidx].structure))"
   ]
  },
  {
   "cell_type": "code",
   "execution_count": 51,
   "metadata": {},
   "outputs": [
    {
     "name": "stdout",
     "output_type": "stream",
     "text": [
      "d     c      f      e_t theta_t eta_parab D_r R_e    h      E_N  L_a   L_l  L_p   R      T_s k        l     L_pt G_t      G_r     S      L_s      P_comms  \n",
      "0.015 3.00e8 2.20e9 27  32      0.55      5.3 6.38e6 6.00e5 38.9 0.933 0.79 0.933 8.50e7 135 1.38e-23 0.136 0.14 9.19e-03 8200.06 2.83e6 2.98e-06 -4.56e-07\n",
      "0.015 3.00e8 2.20e9 27  32      0.55      5.3 6.38e6 6.00e5 38.9 0.933 0.79 0.933 8.50e7 135 1.38e-23 0.136 0.14 9.19e-03 8200.06 2.83e6 1.47e-17 8096.136 \n"
     ]
    }
   ],
   "source": [
    "disciplineidx = 4\n",
    "print_formatted_table([x0, sequential[disciplineidx](x0)], \n",
    "                      indices, idxrev,  \n",
    "                      torch.cat(sequential[disciplineidx].structure))"
   ]
  },
  {
   "cell_type": "code",
   "execution_count": 45,
   "metadata": {},
   "outputs": [],
   "source": [
    "F = FunctionSympy(sp.sympify('(4*A_solar/(pi*(1-alpha)))**0.5'), indices)"
   ]
  },
  {
   "cell_type": "code",
   "execution_count": 46,
   "metadata": {},
   "outputs": [
    {
     "data": {
      "text/plain": [
       "tensor([1.1251], dtype=torch.float64)"
      ]
     },
     "execution_count": 46,
     "metadata": {},
     "output_type": "execute_result"
    }
   ],
   "source": [
    "F(x0)"
   ]
  },
  {
   "cell_type": "code",
   "execution_count": null,
   "metadata": {},
   "outputs": [],
   "source": []
  }
 ],
 "metadata": {
  "kernelspec": {
   "display_name": "minimdo",
   "language": "python",
   "name": "python3"
  },
  "language_info": {
   "codemirror_mode": {
    "name": "ipython",
    "version": 3
   },
   "file_extension": ".py",
   "mimetype": "text/x-python",
   "name": "python",
   "nbconvert_exporter": "python",
   "pygments_lexer": "ipython3",
   "version": "3.9.18"
  }
 },
 "nbformat": 4,
 "nbformat_minor": 2
}
