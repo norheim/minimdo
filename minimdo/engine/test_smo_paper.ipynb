{
 "cells": [
  {
   "cell_type": "code",
   "execution_count": 1,
   "metadata": {},
   "outputs": [],
   "source": [
    "import torch\n",
    "import numpy as np\n",
    "from collections import OrderedDict\n",
    "from graph.matrixview import render_incidence\n",
    "from engine.torchengine import AnalyticalSetSympy, EliminateAnalysisMergeResiduals, EliminateAnalysis, FunctionSympy,get_analysis_structure, ElimResidual, ParallelResiduals, ParallelAnalysis, ipoptsolver\n",
    "from engine.torchdata import load_file, process_expression, process_json, load_vals, generate_optim_functions, print_formatted_table\n",
    "# from engine.loaddata import process_json\n",
    "# Set the print options\n",
    "np.set_printoptions(formatter={'float': lambda x: \"{:0.2f}\".format(x).rstrip('0').rstrip('.')})\n",
    "from functools import partial\n",
    "from scipy.optimize import minimize\n",
    "import sympy as sp\n",
    "import json\n",
    "from collections import namedtuple\n",
    "import cyipopt"
   ]
  },
  {
   "cell_type": "code",
   "execution_count": 3,
   "metadata": {},
   "outputs": [],
   "source": [
    "symb_str_mapping = {}\n",
    "all_analyses = {}\n",
    "disciplines = [\n",
    "    # 'pearl_geom',\n",
    "    # 'pearl_hydro',\n",
    "    # 'pearl_mass',\n",
    "    # 'pearl_prop',\n",
    "    # 'pearl_power',\n",
    "    # 'pearl_solar',\n",
    "    # 'pearl_battery',\n",
    "    'pearl_restructured',\n",
    "    'pearl_prob']\n",
    "flattened_output = []\n",
    "equality_constraints_sympy = []\n",
    "inequality_constraints_sympy = []\n",
    "for file_name in disciplines:\n",
    "    data = load_file(file_name)\n",
    "    equality_constraints_sympy += [\n",
    "        process_expression(elt, symb_str_mapping) \n",
    "        for elt in data.get('equality_constraints',[])]\n",
    "    inequality_constraints_sympy += [\n",
    "        process_expression(elt, symb_str_mapping) \n",
    "        for elt in data.get('inequality_constraints',[])]\n",
    "    objective = data.get('objective',None)\n",
    "    if objective is not None:\n",
    "        objective = process_expression(objective, symb_str_mapping)\n",
    "    functional_sets = data.get('functional_sets',[])\n",
    "    flattened_output += functional_sets\n",
    "    analysismap, symb_str_mapping = process_json(\n",
    "        functional_sets, symb_str_mapping)\n",
    "    all_analyses[file_name] = analysismap"
   ]
  },
  {
   "cell_type": "code",
   "execution_count": 4,
   "metadata": {},
   "outputs": [],
   "source": [
    "from graph.graphutils import edges_to_Ein_Eout, sources, all_edges, all_variables, flat_graph_formulation\n",
    "from graph.operators import invert_edges, sort_scc, eqv_to_edges_tree\n",
    "from presolver.tearing import dir_graph, min_arc_set_assign, min_arc_set"
   ]
  },
  {
   "cell_type": "markdown",
   "metadata": {},
   "source": [
    "### Load PEARL"
   ]
  },
  {
   "cell_type": "code",
   "execution_count": 5,
   "metadata": {},
   "outputs": [],
   "source": [
    "idxrev = {i: elt for i, elt in \n",
    "            enumerate(symb_str_mapping.values())}\n",
    "indices = {elt: torch.tensor([int(i)]) for i, elt in \n",
    "            idxrev.items()}\n",
    "sets ={}\n",
    "# flat sets:\n",
    "idx = 0\n",
    "for file_name, analysismap in all_analyses.items():\n",
    "        for _,(analysis,outputvar,residual) in enumerate(analysismap):\n",
    "                sets[idx] = AnalyticalSetSympy(analysis, \n",
    "                        outputvar=outputvar, indices=indices) \n",
    "                idx+=1\n",
    "equality_constraints = EliminateAnalysisMergeResiduals(functions=[FunctionSympy(expr, indices)\n",
    "        for expr in equality_constraints_sympy])\n",
    "inequality_constraints = EliminateAnalysisMergeResiduals(functions=[FunctionSympy(expr, indices)  \n",
    "        for expr in inequality_constraints_sympy])\n",
    "objective = FunctionSympy(objective, indices)"
   ]
  },
  {
   "cell_type": "markdown",
   "metadata": {},
   "source": [
    "## Original problem structure"
   ]
  },
  {
   "cell_type": "code",
   "execution_count": 6,
   "metadata": {},
   "outputs": [],
   "source": [
    "p = load_file('pearl_params')\n",
    "edges_in = {idx: tuple(str(idxrev[elt.item()]) for elt in s.analysis.structure[0] if str(idxrev[elt.item()]) not in p.keys()) for idx,s in sets.items()}\n",
    "edges_out = {idx: tuple(str(idxrev[elt.item()]) for elt in s.analysis.structure[1] if str(idxrev[elt.item()]) not in p.keys()) for idx,s in sets.items()}\n",
    "#edges_in_filter = {key:val for key,val in edges_in.items() if edges_in[key]}\n",
    "#edges_out_filter = {key:val for key,val in edges_out.items() if edges_in[key]}\n",
    "edges = (edges_in, edges_out)"
   ]
  },
  {
   "cell_type": "code",
   "execution_count": 7,
   "metadata": {},
   "outputs": [],
   "source": [
    "#A = EliminateAnalysis([S.analysis for S in sets.values()])\n",
    "# print_formatted_table([x0, A(x0).numpy()], indices, idxrev)"
   ]
  },
  {
   "cell_type": "markdown",
   "metadata": {},
   "source": [
    "### Load polynomials"
   ]
  },
  {
   "cell_type": "code",
   "execution_count": 8,
   "metadata": {},
   "outputs": [],
   "source": [
    "# data = load_file('testproblems')\n",
    "# problem_id = 0\n",
    "# fid, fdata = list(data.items())[problem_id]\n",
    "# polynomials, indices, edges, objective = process_json(fdata)\n",
    "# sets = {idx:AnalyticalSetSympy(poly, indices=indices).reassign(edges[1][idx][0],  rational=True) for idx,poly in polynomials.items()}\n",
    "# fobj = FunctionSympy(objective, indices)"
   ]
  },
  {
   "cell_type": "code",
   "execution_count": 9,
   "metadata": {},
   "outputs": [],
   "source": [
    "# revindices = {var.item():key for key,var in indices.items()}"
   ]
  },
  {
   "cell_type": "markdown",
   "metadata": {},
   "source": [
    "## Different ways to define orders"
   ]
  },
  {
   "cell_type": "markdown",
   "metadata": {},
   "source": [
    "### 1) Pure AAO/MDF/IDF"
   ]
  },
  {
   "cell_type": "code",
   "execution_count": 10,
   "metadata": {},
   "outputs": [],
   "source": [
    "order = list(sorted(sets.keys()))\n",
    "A = []\n",
    "B = [elt for elt in order if elt not in A]\n",
    "analyses = {key: s.analysis for key,s in sets.items()}\n",
    "residuals = {key: s.residual for key,s in sets.items()}"
   ]
  },
  {
   "cell_type": "markdown",
   "metadata": {},
   "source": [
    "### 2) User defined elimination"
   ]
  },
  {
   "cell_type": "code",
   "execution_count": 11,
   "metadata": {},
   "outputs": [],
   "source": [
    "order = list(sorted(sets.keys()))\n",
    "structure_in, structure_out, full_structure = get_analysis_structure(\n",
    "    [sets[idx].analysis.structure_full for idx in order])\n",
    "feedback = {int(elt) for elt in structure_in}.intersection({int(elt) for elt in structure_out})\n",
    "A = [elt for elt in order if int(sets[elt].analysis.structure[1]) not in feedback]\n",
    "B = [elt for elt in order if elt not in A]\n",
    "new_order = A+B\n",
    "analyses = {key: s.analysis for key,s in sets.items()}\n",
    "residuals = {key: s.residual for key,s in sets.items()}"
   ]
  },
  {
   "cell_type": "markdown",
   "metadata": {},
   "source": [
    "### 3) Minimum feedback elimination"
   ]
  },
  {
   "cell_type": "code",
   "execution_count": 12,
   "metadata": {},
   "outputs": [
    {
     "name": "stdout",
     "output_type": "stream",
     "text": [
      "Set parameter WLSAccessID\n",
      "Set parameter WLSSecret\n",
      "Set parameter LicenseID to value 2527862\n",
      "Academic license 2527862 - for non-commercial use only - registered to no___@mit.edu\n",
      "Set parameter WLSSecret\n",
      "Set parameter LicenseID to value 2527862\n",
      "Academic license 2527862 - for non-commercial use only - registered to no___@mit.edu\n"
     ]
    }
   ],
   "source": [
    "edges_for_solving = invert_edges(*edges)\n",
    "eqnidxs = list(edges[0].keys())\n",
    "varidxs = all_variables(*edges_for_solving)\n",
    "edges_left_right = all_edges(*edges_for_solving)\n",
    "#dout = {val[0]:key for key,val in edges[1].items()}\n",
    "dout = {key:val[0] for key,val in edges[1].items()}\n",
    "cycles, elimset, m = min_arc_set(edges_left_right, dout, varidxs, eqnidxs, timeout=100)"
   ]
  },
  {
   "cell_type": "code",
   "execution_count": 13,
   "metadata": {},
   "outputs": [],
   "source": [
    "edges_new = (edges[0],\n",
    "             {key:val for key,val in edges[1].items() if key not in elimset})\n",
    "G = flat_graph_formulation(edges_new[0], edges_new[1], {})\n",
    "A = [next(iter(elt)).name for elt in sort_scc(G) if next(iter(elt)).name not in elimset]\n",
    "B = list(elimset)\n",
    "order = A+B\n",
    "analyses = {key: s.analysis for key,s in sets.items()}\n",
    "residuals = {key: s.residual for key,s in sets.items()}"
   ]
  },
  {
   "cell_type": "markdown",
   "metadata": {},
   "source": [
    "### 4) SCC"
   ]
  },
  {
   "cell_type": "code",
   "execution_count": 282,
   "metadata": {},
   "outputs": [],
   "source": [
    "G = flat_graph_formulation(edges[0], edges[1], {})\n",
    "order_scc = sort_scc(G)\n",
    "analyses = {}\n",
    "residuals = {}\n",
    "A, B = [], []\n",
    "for idx, elt in enumerate(order_scc):\n",
    "    if len(elt) > 1:\n",
    "        merge_sets = [sets[f.name] for f in elt]\n",
    "        R = EliminateAnalysisMergeResiduals(functions=[s.residual for s in merge_sets])\n",
    "        solvefor = torch.tensor([s.analysis.structure[1] for s in merge_sets])\n",
    "        E = ElimResidual(R, solvefor, \n",
    "                        indices, solvefor_raw=True)\n",
    "        analyses[idx] = E\n",
    "        residuals[idx] = E\n",
    "    else:\n",
    "        S = sets[next(iter(elt)).name]\n",
    "        analyses[idx] = S.analysis\n",
    "        residuals[idx] = S.residual\n",
    "    A.append(idx)"
   ]
  },
  {
   "cell_type": "markdown",
   "metadata": {},
   "source": [
    "### 5) Min feedback restructure"
   ]
  },
  {
   "cell_type": "code",
   "execution_count": 92,
   "metadata": {},
   "outputs": [],
   "source": [
    "xsol, model = min_arc_set_assign(edges_left_right, varidxs, eqnidxs, not_output=['D_f','D_d','D_s', 'v'])\n",
    "outset_minassign = dict((right, left) for left, right in edges_left_right if xsol[left, right] > 0.5)"
   ]
  },
  {
   "cell_type": "code",
   "execution_count": 93,
   "metadata": {},
   "outputs": [
    {
     "data": {
      "text/plain": [
       "17"
      ]
     },
     "execution_count": 93,
     "metadata": {},
     "output_type": "execute_result"
    }
   ],
   "source": [
    "len(outset_minassign)"
   ]
  },
  {
   "cell_type": "code",
   "execution_count": 94,
   "metadata": {},
   "outputs": [],
   "source": [
    "sets_opt = {idx:s.reassign(sp.Symbol(outset_minassign.get(idx, None)), rational=True) for idx,s in sets.items()}"
   ]
  },
  {
   "cell_type": "code",
   "execution_count": 97,
   "metadata": {},
   "outputs": [],
   "source": [
    "functional_sets = []\n",
    "for idx, fset in sets_opt.items():\n",
    "    functional_sets.append(\n",
    "        {'residual':str(fset.residualexpr),\n",
    "         'analysis': str(fset.expression), \n",
    "        'functionalvar': str(fset.outputvar)})\n",
    "output = {'functional_sets':functional_sets}"
   ]
  },
  {
   "cell_type": "code",
   "execution_count": 98,
   "metadata": {},
   "outputs": [],
   "source": [
    "# save json data\n",
    "import json\n",
    "with open('../applications/data/pearl_restructured.json', 'w') as f:\n",
    "    json.dump(output, f, indent=4)"
   ]
  },
  {
   "cell_type": "markdown",
   "metadata": {},
   "source": [
    "### Option 1"
   ]
  },
  {
   "cell_type": "code",
   "execution_count": 14,
   "metadata": {},
   "outputs": [],
   "source": [
    "# Merge residuals only\n",
    "solvefor = torch.tensor([])\n",
    "R = EliminateAnalysisMergeResiduals(functions=[residuals[idx] for idx in B])\n",
    "P = EliminateAnalysis([analyses[idx] for idx in A], [objective,R,equality_constraints,inequality_constraints])\n",
    "objective_idx,residual_idx,equality_idx,inequality_idx = 0,1,2,3"
   ]
  },
  {
   "cell_type": "markdown",
   "metadata": {},
   "source": [
    "### Option 2"
   ]
  },
  {
   "cell_type": "code",
   "execution_count": 16,
   "metadata": {},
   "outputs": [],
   "source": [
    "elimset = [sets[idx].analysis for idx in A]\n",
    "R = EliminateAnalysisMergeResiduals(elimset, \n",
    "                                    [sets[idx].residual for idx in B])\n",
    "solvefor = torch.tensor([sets[idx].analysis.structure[1] for idx in B])\n",
    "bnds = [(None, None) for _ in solvefor]\n",
    "ipsolver = partial(ipoptsolver, bnds_problem=bnds)\n",
    "S = ElimResidual(R, solvefor, indices, \n",
    "                 solver=ipsolver,\n",
    "                 solvefor_raw=True)\n",
    "P = EliminateAnalysis([S]+ elimset, [objective,equality_constraints,inequality_constraints])\n",
    "objective_idx,residual_idx,equality_idx,inequality_idx = 0,None,1,2"
   ]
  },
  {
   "cell_type": "markdown",
   "metadata": {},
   "source": [
    "### Option 3"
   ]
  },
  {
   "cell_type": "code",
   "execution_count": 17,
   "metadata": {},
   "outputs": [],
   "source": [
    "T = ParallelResiduals([sets[idx].analysis for idx in B], [objective,equality_constraints,inequality_constraints])\n",
    "P = EliminateAnalysis([sets[idx].analysis for idx in A], [T], flatten=True)\n",
    "objective_idx,residual_idx,equality_idx,inequality_idx = 0,3,1,2"
   ]
  },
  {
   "cell_type": "markdown",
   "metadata": {},
   "source": [
    "###  Debug option"
   ]
  },
  {
   "cell_type": "code",
   "execution_count": 18,
   "metadata": {},
   "outputs": [],
   "source": [
    "R = EliminateAnalysisMergeResiduals(functions=[sets[idx].residual for idx in A])\n",
    "solvefor = torch.tensor([sets[idx].analysis.structure[1] for idx in A])\n",
    "bnds = [(None, None) for _ in solvefor]\n",
    "ipsolver = partial(ipoptsolver, bnds_problem=bnds)\n",
    "S = ElimResidual(R, solvefor, indices, \n",
    "                 solver=ipsolver,\n",
    "                 solvefor_raw=True)\n",
    "R2 = EliminateAnalysisMergeResiduals(functions= [sets[idx].residual for idx in B])\n",
    "P = EliminateAnalysis([S], [objective,R2, equality_constraints,inequality_constraints])\n",
    "objective_idx,residual_idx,equality_idx,inequality_idx = 0,1,2,3"
   ]
  },
  {
   "cell_type": "markdown",
   "metadata": {},
   "source": [
    "### Visualize model"
   ]
  },
  {
   "cell_type": "code",
   "execution_count": 145,
   "metadata": {},
   "outputs": [
    {
     "data": {
      "image/png": "[encoded data removed]",
      "text/plain": [
       "<Figure size 800x800 with 1 Axes>"
      ]
     },
     "metadata": {},
     "output_type": "display_data"
    }
   ],
   "source": [
    "def transform_dict_values(d):\n",
    "    return {k: tuple(f\"{x.split('_')[0]}_{{{x.split('_')[1]}}}\" if '_' in x else x for x in v) for k, v in d.items()}\n",
    "alledges = transform_dict_values(edges[0]), transform_dict_values(edges[1]), {}\n",
    "tree = (OrderedDict([(elt,1) for elt in order]),{},{})\n",
    "render_incidence(alledges, tree, rotation=60, hideticks=True, rawvarname=True,\n",
    "                 dispendcomp=True, figsize=((8,8)), fontsize=10, colsalignleft=True);"
   ]
  },
  {
   "cell_type": "markdown",
   "metadata": {},
   "source": [
    "### Initial guess"
   ]
  },
  {
   "cell_type": "code",
   "execution_count": 132,
   "metadata": {},
   "outputs": [],
   "source": [
    "# x0 = torch.ones(len(indices), dtype=torch.float64)\n",
    "# x0 = 100*x0\n",
    "# optimal answer\n",
    "center = [ 1.0000,  1.0000,  4.0000, -2.2670,  6.9916,  1.0000, -0.0420,  1.0000,\n",
    "         2.4799, -1.2697, -0.4501, -2.0834,  1.0000, -6.5000,  2.4820]"
   ]
  },
  {
   "cell_type": "code",
   "execution_count": 10,
   "metadata": {},
   "outputs": [],
   "source": [
    "N = 10\n",
    "Radius = 1\n",
    "n = len(center)\n",
    "np.random.seed(1)\n",
    "points = np.random.normal(size=(N, n))\n",
    "points /= np.linalg.norm(points, axis=1)[:, np.newaxis]\n",
    "\n",
    "# Scale points by a random radius within [0, R]\n",
    "scales = np.random.uniform(0, Radius, size=(N, 1))\n",
    "points *= scales"
   ]
  },
  {
   "cell_type": "code",
   "execution_count": 11,
   "metadata": {},
   "outputs": [],
   "source": [
    "x0 = torch.from_numpy(center+points[0])\n",
    "x0 = x0.to(torch.float64)"
   ]
  },
  {
   "cell_type": "markdown",
   "metadata": {},
   "source": [
    "## Optimization"
   ]
  },
  {
   "cell_type": "code",
   "execution_count": 15,
   "metadata": {},
   "outputs": [],
   "source": [
    "x0 = load_vals('pearl_params', indices=indices, default=1.0)\n",
    "x0 = load_vals('results', indices=indices, x0=x0)\n",
    "yout = x0.clone()"
   ]
  },
  {
   "cell_type": "code",
   "execution_count": 16,
   "metadata": {},
   "outputs": [
    {
     "data": {
      "text/plain": [
       "[tensor([528.0872], dtype=torch.float64),\n",
       " tensor([]),\n",
       " tensor([0.], dtype=torch.float64),\n",
       " tensor([ 9.9999e-09, -1.0894e+00,  9.9988e-09, -7.5170e+02,  9.9989e-09,\n",
       "          9.9968e-09], dtype=torch.float64)]"
      ]
     },
     "execution_count": 16,
     "metadata": {},
     "output_type": "execute_result"
    }
   ],
   "source": [
    "P(x0)"
   ]
  },
  {
   "cell_type": "code",
   "execution_count": 17,
   "metadata": {},
   "outputs": [],
   "source": [
    "# print_formatted_table([yout, x0], indices, idxrev)"
   ]
  },
  {
   "cell_type": "code",
   "execution_count": 18,
   "metadata": {},
   "outputs": [],
   "source": [
    "#print_formatted_table([yout, x0], indices, idxrev, subset=solvefor)"
   ]
  },
  {
   "cell_type": "code",
   "execution_count": 19,
   "metadata": {},
   "outputs": [],
   "source": [
    "PA = ParallelAnalysis([elt for elt in analyses.values()])"
   ]
  },
  {
   "cell_type": "code",
   "execution_count": 20,
   "metadata": {},
   "outputs": [],
   "source": [
    "# print_formatted_table([x0,PA(x0)], indices, idxrev, subset=nonpindices)"
   ]
  },
  {
   "cell_type": "code",
   "execution_count": 21,
   "metadata": {},
   "outputs": [],
   "source": [
    "pindices = [val for key,val in indices.items() if str(key) in p.keys()]\n",
    "dvindices = torch.tensor([elt for elt in P.structure[0] if elt not in solvefor and elt.item() not in pindices])"
   ]
  },
  {
   "cell_type": "code",
   "execution_count": 22,
   "metadata": {},
   "outputs": [
    {
     "name": "stdout",
     "output_type": "stream",
     "text": [
      "D_d   D_f   D_s   m_batt v   t_d t_s\n",
      "0.243 1.453 0.218 21.825 0.5 0.1 10 \n",
      "0.243 1.453 0.218 21.825 0.5 0.1 10 \n"
     ]
    }
   ],
   "source": [
    "print_formatted_table([yout, x0], indices, idxrev, subset=dvindices)"
   ]
  },
  {
   "cell_type": "code",
   "execution_count": 23,
   "metadata": {},
   "outputs": [],
   "source": [
    "N = 10\n",
    "delta = 0.5\n",
    "n = len(dvindices)\n",
    "rng = np.random.default_rng(seed=42)\n",
    "points = rng.normal(size=(N, n))\n",
    "points /= np.linalg.norm(points, axis=1)[:, np.newaxis]\n",
    "\n",
    "# Scale points by a random radius within [0, R]\n",
    "points *= delta\n",
    "points += 1\n",
    "\n",
    "#x_perturbed = x0[dvindices].detach().numpy() * points[0,:]\n",
    "x0.requires_grad_(False)\n",
    "for counter, idx in enumerate(dvindices):\n",
    "    x0[idx] = x0[idx]* points[1,counter]\n",
    "x0.requires_grad_(True);"
   ]
  },
  {
   "cell_type": "code",
   "execution_count": 24,
   "metadata": {},
   "outputs": [
    {
     "data": {
      "text/plain": [
       "[tensor([524.8333], dtype=torch.float64, grad_fn=<IndexBackward0>),\n",
       " tensor([]),\n",
       " tensor([-0.4957], dtype=torch.float64, grad_fn=<CatBackward0>),\n",
       " tensor([ 1.2461e-02, -1.1335e+00, -3.1400e-02, -1.3638e+03, -1.7695e-03,\n",
       "         -4.2300e-02], dtype=torch.float64, grad_fn=<CatBackward0>)]"
      ]
     },
     "execution_count": 24,
     "metadata": {},
     "output_type": "execute_result"
    }
   ],
   "source": [
    "P(x0)"
   ]
  },
  {
   "cell_type": "code",
   "execution_count": 25,
   "metadata": {},
   "outputs": [],
   "source": [
    "scaling = load_vals('pearl_scaling', indices=indices, default=1)"
   ]
  },
  {
   "cell_type": "markdown",
   "metadata": {},
   "source": [
    "### Update initial values"
   ]
  },
  {
   "cell_type": "code",
   "execution_count": 26,
   "metadata": {},
   "outputs": [],
   "source": [
    "numerical_values = {'D_f': 1.5, 'D_d':0.2, 'D_s':0.2, \n",
    "                    't_d':0.1, 't_f':0.1, 't_s':10,\n",
    "                    'h_f':0.09}# 'v':0.6}"
   ]
  },
  {
   "cell_type": "code",
   "execution_count": 201,
   "metadata": {},
   "outputs": [],
   "source": [
    "# # D_f   D_d   D_s   t_d t_f t_s h_f  v \n",
    "# # 1.549 0.242 0.218 0.1 0.1 10  0.09 0.5\n",
    "# numerical_values = {'D_f': 3.7, 'D_d':1., 'D_s':0.15, \n",
    "#                     't_d':0.2, 't_f':0.2, 't_s':0.2,\n",
    "#                     'h_f':0.09, 'v':0.6}\n",
    "# x0.requires_grad_(False)\n",
    "# for var, val in numerical_values.items():\n",
    "#     x0[indices[sp.symbols(var)]] = val\n",
    "# x0.requires_grad_(True);"
   ]
  },
  {
   "cell_type": "code",
   "execution_count": 202,
   "metadata": {},
   "outputs": [],
   "source": [
    "# x0.requires_grad_(False)\n",
    "# for idx, val in enumerate(yout):\n",
    "#     x0[idx] = val.item()\n",
    "# x0.requires_grad_(True);"
   ]
  },
  {
   "cell_type": "code",
   "execution_count": 203,
   "metadata": {},
   "outputs": [],
   "source": [
    "# x0 = load_vals('pearl_params', indices=indices, default=1.0)\n",
    "# x0 = load_vals('results', indices=indices, x0=x0)"
   ]
  },
  {
   "cell_type": "code",
   "execution_count": 27,
   "metadata": {},
   "outputs": [],
   "source": [
    "optim_indices = P.structure[0]"
   ]
  },
  {
   "cell_type": "code",
   "execution_count": 28,
   "metadata": {},
   "outputs": [],
   "source": [
    "p = load_file('pearl_params')\n",
    "pindices = [val for key,val in indices.items() if str(key) in p.keys()]\n",
    "optim_indices = torch.tensor([idx for idx in P.structure[0] if idx not in pindices])"
   ]
  },
  {
   "cell_type": "code",
   "execution_count": 29,
   "metadata": {},
   "outputs": [
    {
     "name": "stdout",
     "output_type": "stream",
     "text": [
      "D_d   D_f   D_s   m_batt v     t_d   t_s   \n",
      "0.222 1.446 0.168 26.969 0.604 0.102 13.021\n"
     ]
    }
   ],
   "source": [
    "print_formatted_table([x0], indices, idxrev, subset=optim_indices)"
   ]
  },
  {
   "cell_type": "code",
   "execution_count": 30,
   "metadata": {},
   "outputs": [],
   "source": [
    "# design_idxs = torch.tensor([indices[sp.Symbol(elt)] for elt in numerical_values.keys()])\n",
    "# discipline_idxs = torch.tensor([sets[elt].analysis.structure[1] for elt in B if sets[elt].analysis.structure[1] not in design_idxs])\n",
    "# optim_indices = torch.concat([discipline_idxs,design_idxs])"
   ]
  },
  {
   "cell_type": "code",
   "execution_count": 31,
   "metadata": {},
   "outputs": [],
   "source": [
    "# MAKE SURE TO SET INEQUALITY DIRECTION, it is different for scipy and ipopt\n",
    "xguess, obj_function, ineq_function, eq_function, dobj, dineq, deq, hobj = generate_optim_functions(P,\n",
    "    optim_indices, x0, inequality_direction='negative-null', \n",
    "    objective=objective_idx, residuals=residual_idx, equalities=equality_idx, inequalities=inequality_idx)\n",
    "ineqlen = len(ineq_function(xguess))\n",
    "eqlen = len(eq_function(xguess))\n",
    "constraints = [{'type': 'eq', 'fun': eq_function, 'jac': deq}] if eqlen >= 1 else []\n",
    "constraints.append({'type': 'ineq', 'fun': ineq_function, 'jac': dineq}) if ineqlen >= 1 else []\n",
    "#bnds = [(-1e3, 1e3) for _ in range(len(indices))] # can customize further\n",
    "bnds = [(0, 1e7) for _ in range(len(indices))] \n",
    "bnds_problem = [bnds[elt] for elt in optim_indices]"
   ]
  },
  {
   "cell_type": "code",
   "execution_count": 32,
   "metadata": {},
   "outputs": [],
   "source": [
    "Aelim = EliminateAnalysis([analyses[idx] for idx in A])\n",
    "yout = Aelim(x0)\n",
    "nonpindices = torch.tensor([elt for elt in indices.values() if elt.item() not in pindices])"
   ]
  },
  {
   "cell_type": "code",
   "execution_count": 33,
   "metadata": {},
   "outputs": [
    {
     "name": "stdout",
     "output_type": "stream",
     "text": [
      "A_solar D_f   d     D_d   D_s   h_f   t_d   t_s    V_d   F_B   F_W   m_platform m_solar m_batt m_struct t_f   S_w   P_move   v     E_move E_required E_recharge P_recharge C     \n",
      "2.057   1.446 0.072 0.222 0.168 0.141 0.102 13.021 0.525 5.143 5.143 524.833    20.569  26.969 377.296  0.142 9.274 1363.762 0.604 4.91   9.411      9.411      217.857    15.818\n",
      "1.575   1.446 0.073 0.222 0.168 0.09  0.102 13.021 0.528 5.175 5.175 528.087    15.753  26.969 390.509  0.1   9.02  751.701  0.604 2.706  7.208      7.208      166.852    12.114\n"
     ]
    }
   ],
   "source": [
    "print_formatted_table([yout, x0], indices, idxrev, subset=nonpindices)"
   ]
  },
  {
   "cell_type": "code",
   "execution_count": 34,
   "metadata": {},
   "outputs": [],
   "source": [
    "# eps = 1e-6\n",
    "# (ineq_function(xguess+eps*np.eye(len(xguess))[0])-ineq_function(xguess))/eps"
   ]
  },
  {
   "cell_type": "code",
   "execution_count": 35,
   "metadata": {},
   "outputs": [],
   "source": [
    "bounds = {\n",
    "    'D_f': (0.1,10),\n",
    "    'D_d': (0.1,10),\n",
    "    'D_s': (0.1,10),\n",
    "    't_s': (0.1,10),\n",
    "    't_d': (0.1,10),\n",
    "    't_f': (0.1,10),\n",
    "    'v': (0.5,None)\n",
    "}\n",
    "bnds_problem = [bounds.get(str(idxrev[elt.item()]), (0, None)) for elt in optim_indices]"
   ]
  },
  {
   "cell_type": "code",
   "execution_count": 36,
   "metadata": {},
   "outputs": [
    {
     "data": {
      "text/plain": [
       "[(D_d, 0.2219842912764704),\n",
       " (D_f, 1.4464903224167807),\n",
       " (D_s, 0.16838545565470467),\n",
       " (m_batt, 26.96881894651662),\n",
       " (v, 0.6042154426680094),\n",
       " (t_d, 0.10176946540251572),\n",
       " (t_s, 13.020755415300098)]"
      ]
     },
     "execution_count": 36,
     "metadata": {},
     "output_type": "execute_result"
    }
   ],
   "source": [
    "[(idxrev[elt.item()],xguess[idx]) for idx,elt in enumerate(optim_indices)]"
   ]
  },
  {
   "cell_type": "code",
   "execution_count": 37,
   "metadata": {},
   "outputs": [
    {
     "data": {
      "text/plain": [
       "(array([-0.5]),\n",
       " array([0.01, -1.13, -0.03, -1363.76, -0, -0.04]),\n",
       " 524.8332655264069)"
      ]
     },
     "execution_count": 37,
     "metadata": {},
     "output_type": "execute_result"
    }
   ],
   "source": [
    "eq_function(xguess).numpy(), ineq_function(xguess).numpy(), obj_function(xguess)"
   ]
  },
  {
   "cell_type": "code",
   "execution_count": 38,
   "metadata": {},
   "outputs": [
    {
     "data": {
      "text/plain": [
       "(array([-332.32, -662, -11157.22, 292.63, -16650.96, -213.49, -169.03]),\n",
       " array([[0.11, 0.1, 1.73, -0.05, 2.9, 0.1, 0.03],\n",
       "        [0, -0.9, 1, 0, 0, 0, 0],\n",
       "        [-0.9, 0, 1, 0, 0, 0, 0],\n",
       "        [0, 0, 0, -119, 0, 0, 0],\n",
       "        [0, 0, 0, 0, 0, -1, 0],\n",
       "        [0.37, 0.77, 11.79, -0.25, 14.48, 0.28, 0.16]]))"
      ]
     },
     "execution_count": 38,
     "metadata": {},
     "output_type": "execute_result"
    }
   ],
   "source": [
    "dobj(xguess), dineq(xguess), #deq(xguess),"
   ]
  },
  {
   "cell_type": "code",
   "execution_count": 39,
   "metadata": {},
   "outputs": [],
   "source": [
    "# np.round(np.linalg.cond(dobj(xguess)),3)"
   ]
  },
  {
   "cell_type": "code",
   "execution_count": 101,
   "metadata": {},
   "outputs": [],
   "source": [
    "trace = []\n",
    "def trace_points(xk):\n",
    "    trace.append(np.copy(xk))"
   ]
  },
  {
   "cell_type": "code",
   "execution_count": 102,
   "metadata": {},
   "outputs": [
    {
     "name": "stdout",
     "output_type": "stream",
     "text": [
      "Positive directional derivative for linesearch    (Exit mode 8)\n",
      "            Current function value: 532.7571750985691\n",
      "            Iterations: 10\n",
      "            Function evaluations: 6\n",
      "            Gradient evaluations: 6\n"
     ]
    }
   ],
   "source": [
    "# # Solve the optimization problem\n",
    "xsol = minimize(obj_function, xguess, bounds=bnds_problem, jac=dobj, constraints=constraints, options={'maxiter': 500, 'disp':True}, method='SLSQP', callback=trace_points)"
   ]
  },
  {
   "cell_type": "code",
   "execution_count": 585,
   "metadata": {},
   "outputs": [
    {
     "data": {
      "text/plain": [
       "(array([0, 0, 0, 720.03, -0]), array([], dtype=float32), 363.47854716583134)"
      ]
     },
     "execution_count": 585,
     "metadata": {},
     "output_type": "execute_result"
    }
   ],
   "source": [
    "tidx = 2\n",
    "ineq_function(trace[tidx]).numpy(), eq_function(trace[tidx]).numpy(), obj_function(trace[tidx])"
   ]
  },
  {
   "cell_type": "code",
   "execution_count": 586,
   "metadata": {},
   "outputs": [
    {
     "data": {
      "text/plain": [
       "(array([[0, 0, 0, -1, 0, 0, 0, 0.9, 0],\n",
       "        [0, 0.9, -1, 0, 0, 0, 0, 0, 0],\n",
       "        [0.9, 0, -1, 0, 0, 0, 0, 0, 0],\n",
       "        [0, 0, 0, 0, 0, 0, 0, 0, 1],\n",
       "        [-0.84, 0.1, 13.44, 0.59, 0.14, -0.13, -0.01, -0.41, 0]]),\n",
       " array([0, 37.77, 3929.8, 69.65, 41.78, -5.88, -0.59, -18.06, 0]))"
      ]
     },
     "execution_count": 586,
     "metadata": {},
     "output_type": "execute_result"
    }
   ],
   "source": [
    "dineq(trace[tidx]), dobj(trace[tidx])"
   ]
  },
  {
   "cell_type": "code",
   "execution_count": 588,
   "metadata": {},
   "outputs": [
    {
     "data": {
      "text/plain": [
       " message: Optimization terminated successfully\n",
       " success: True\n",
       "  status: 0\n",
       "     fun: 363.5835135402174\n",
       "       x: [ 2.363e-01  2.363e-01  2.127e-01  9.000e-02  1.000e+01\n",
       "            2.658e-10  2.658e-11  1.000e-01  7.200e+02]\n",
       "     nit: 13\n",
       "     jac: [ 3.162e-05  3.777e+01  3.930e+03  6.966e+01  4.179e+01\n",
       "           -5.882e+00 -5.882e-01 -1.806e+01  0.000e+00]\n",
       "    nfev: 45\n",
       "    njev: 9"
      ]
     },
     "execution_count": 588,
     "metadata": {},
     "output_type": "execute_result"
    }
   ],
   "source": [
    "xsol"
   ]
  },
  {
   "cell_type": "code",
   "execution_count": 589,
   "metadata": {},
   "outputs": [
    {
     "data": {
      "text/plain": [
       "array([0.24, 0.24, 0.21, 0.09, 10, 0, 0, 0.1, 720.03])"
      ]
     },
     "execution_count": 589,
     "metadata": {},
     "output_type": "execute_result"
    }
   ],
   "source": [
    "xsol.x"
   ]
  },
  {
   "cell_type": "code",
   "execution_count": 590,
   "metadata": {},
   "outputs": [
    {
     "data": {
      "image/png": "[encoded data removed]",
      "text/plain": [
       "<Figure size 640x480 with 1 Axes>"
      ]
     },
     "metadata": {},
     "output_type": "display_data"
    }
   ],
   "source": [
    "Am = dineq(xsol.x)\n",
    "from matplotlib.colors import ListedColormap\n",
    "import matplotlib.pyplot as plt\n",
    "\n",
    "\n",
    "# Create a figure and axis\n",
    "fig, ax = plt.subplots()\n",
    "\n",
    "# Create a custom color map\n",
    "cmap = ListedColormap(['white', 'lightblue'])\n",
    "\n",
    "# Flip A upside down\n",
    "A_flipped = np.flipud(Am)\n",
    "\n",
    "# Use imshow to create a binary color map\n",
    "cax = ax.pcolormesh(np.where(A_flipped != 0, 1, 0), cmap=cmap, edgecolors='lightgray', linewidth=1)\n",
    "\n",
    "# Make cells square\n",
    "ax.set_aspect('equal')\n",
    "\n",
    "# Get the number of cells in x and y directions\n",
    "num_cells_x = Am.shape[1]\n",
    "num_cells_y = Am.shape[0]\n",
    "\n",
    "# Add text at the center of the cells\n",
    "for i in range(num_cells_y):\n",
    "    for j in range(num_cells_x):\n",
    "        if Am[i, j] != 0:\n",
    "            ax.text(j+0.5, num_cells_y-i-0.5, \"{:0.2f}\".format(Am[i,j]).rstrip('0').rstrip('.'), ha='center', va='center')\n",
    "            \n",
    "ax.set_xticklabels([])\n",
    "ax.set_yticklabels([])\n",
    "\n",
    "# Optionally, remove the ticks as well\n",
    "ax.set_xticks([])\n",
    "ax.set_yticks([])\n",
    "\n",
    "# Show the plot\n",
    "plt.show()"
   ]
  },
  {
   "cell_type": "code",
   "execution_count": 40,
   "metadata": {},
   "outputs": [],
   "source": [
    "def all_constraints(x):\n",
    "    return np.concatenate([ineq_function(x), eq_function(x)])\n",
    "\n",
    "def all_constraints_jac(x):\n",
    "    if eqlen == 0:\n",
    "        return dineq(x)\n",
    "    return np.concatenate([dineq(x), deq(x)], axis=0)\n",
    "\n",
    "OptProblem = namedtuple('OptProblem', ['objective', 'constraints', 'gradient', 'jacobian', 'intermediate'])\n",
    "\n",
    "lb,ub = zip(*bnds_problem)\n",
    "cl = np.concatenate([-np.inf*np.ones(ineqlen), np.zeros(eqlen)])\n",
    "cu = np.concatenate([np.zeros(ineqlen), np.zeros(eqlen)])\n",
    "\n",
    "storeiter = [0]\n",
    "\n",
    "def logiter(alg_mod, iter_count, obj_value, inf_pr, inf_du, mu, d_norm, regularization_size, alpha_du, alpha_pr, ls_trials):\n",
    "    storeiter[0] = iter_count\n",
    "\n",
    "# define the problem\n",
    "probinfo = OptProblem(obj_function, all_constraints, dobj, all_constraints_jac, logiter)\n",
    "\n",
    "prob = cyipopt.Problem(n=len(xguess), m=len(cu), lb=lb, ub=ub, cl=cl, cu=cu, \n",
    "                       problem_obj=probinfo)\n",
    "prob.add_option('max_iter', 8000)\n",
    "#prob.add_option('acceptable_tol', 1e-6)"
   ]
  },
  {
   "cell_type": "code",
   "execution_count": 41,
   "metadata": {},
   "outputs": [],
   "source": [
    "xsol, optinfo = prob.solve(xguess)"
   ]
  },
  {
   "cell_type": "code",
   "execution_count": 42,
   "metadata": {},
   "outputs": [
    {
     "data": {
      "text/plain": [
       "{'x': array([0.24, 1.45, 0.22, 21.83, 0.5, 0.1, 10]),\n",
       " 'g': array([0, -1.09, 0, -751.7, 0, 0, 0]),\n",
       " 'obj_val': 528.0871870973763,\n",
       " 'mult_g': array([4695.03, 0, 327.29, 0, 176.81, 242.93, -21.54]),\n",
       " 'mult_x_L': array([0, 0, 0, 0, 358.94, 176.81, 0]),\n",
       " 'mult_x_U': array([0, 0, 0, 0, 0, 0, 1.25]),\n",
       " 'status': 0,\n",
       " 'status_msg': b'Algorithm terminated successfully at a locally optimal point, satisfying the convergence tolerances (can be specified by options).'}"
      ]
     },
     "execution_count": 42,
     "metadata": {},
     "output_type": "execute_result"
    }
   ],
   "source": [
    "optinfo"
   ]
  },
  {
   "cell_type": "code",
   "execution_count": 43,
   "metadata": {},
   "outputs": [
    {
     "data": {
      "text/plain": [
       "(array([-0]), array([0, -1.09, 0, -751.7, 0, 0]))"
      ]
     },
     "execution_count": 43,
     "metadata": {},
     "output_type": "execute_result"
    }
   ],
   "source": [
    "equality_constraints(x0).detach().numpy(), inequality_constraints(x0).detach().numpy()"
   ]
  },
  {
   "cell_type": "code",
   "execution_count": 44,
   "metadata": {},
   "outputs": [
    {
     "data": {
      "text/plain": [
       "tensor([ 4,  1,  5, 17, 28,  7,  8])"
      ]
     },
     "execution_count": 44,
     "metadata": {},
     "output_type": "execute_result"
    }
   ],
   "source": [
    "optim_indices"
   ]
  },
  {
   "cell_type": "code",
   "execution_count": 45,
   "metadata": {},
   "outputs": [
    {
     "data": {
      "text/plain": [
       "[tensor([528.0872], dtype=torch.float64, grad_fn=<IndexBackward0>),\n",
       " tensor([]),\n",
       " tensor([2.2204e-16], dtype=torch.float64, grad_fn=<CatBackward0>),\n",
       " tensor([ 9.9996e-09, -1.0894e+00,  9.9949e-09, -7.5170e+02,  9.9906e-09,\n",
       "          9.9931e-09], dtype=torch.float64, grad_fn=<CatBackward0>)]"
      ]
     },
     "execution_count": 45,
     "metadata": {},
     "output_type": "execute_result"
    }
   ],
   "source": [
    "P(x0)"
   ]
  },
  {
   "cell_type": "markdown",
   "metadata": {},
   "source": [
    "## Save results"
   ]
  },
  {
   "cell_type": "code",
   "execution_count": 46,
   "metadata": {},
   "outputs": [],
   "source": [
    "Aelim = EliminateAnalysis([analyses[idx] for idx in A])\n",
    "yout = Aelim(x0)"
   ]
  },
  {
   "cell_type": "code",
   "execution_count": 47,
   "metadata": {},
   "outputs": [],
   "source": [
    "nonpindices = torch.tensor([elt for elt in indices.values() if elt.item() not in pindices])"
   ]
  },
  {
   "cell_type": "code",
   "execution_count": 48,
   "metadata": {},
   "outputs": [],
   "source": [
    "# discipline_idxs = torch.tensor([sets[elt].analysis.structure[1] for elt in A+B])\n",
    "# design_idxs = torch.tensor([indices[sp.Symbol(elt)] for elt in numerical_values.keys()])\n",
    "# display_indices = torch.concat([discipline_idxs,design_idxs])"
   ]
  },
  {
   "cell_type": "code",
   "execution_count": 49,
   "metadata": {},
   "outputs": [
    {
     "name": "stdout",
     "output_type": "stream",
     "text": [
      "A_solar D_f   d     D_d   D_s   h_f  t_d t_s V_d   F_B   F_W   m_platform m_solar m_batt m_struct t_f S_w  P_move  v   E_move E_required E_recharge P_recharge C     \n",
      "1.575   1.453 0.073 0.243 0.218 0.09 0.1 10  0.528 5.175 5.175 528.087    15.753  21.825 390.509  0.1 9.02 751.701 0.5 2.706  7.208      7.208      166.852    12.114\n",
      "1.575   1.453 0.073 0.243 0.218 0.09 0.1 10  0.528 5.175 5.175 528.087    15.753  21.825 390.509  0.1 9.02 751.701 0.5 2.706  7.208      7.208      166.852    12.114\n"
     ]
    }
   ],
   "source": [
    "print_formatted_table([yout, x0], indices, idxrev, subset=nonpindices)"
   ]
  },
  {
   "cell_type": "code",
   "execution_count": 227,
   "metadata": {},
   "outputs": [],
   "source": [
    "results = {str(idxrev[elt.item()]): yout[elt].item() for elt in nonpindices}"
   ]
  },
  {
   "cell_type": "code",
   "execution_count": 228,
   "metadata": {},
   "outputs": [],
   "source": [
    "name = 'results.json'\n",
    "json_string = json.dumps(results, indent=4)\n",
    "with open('../applications/data/{}'.format(name), 'w') as file:\n",
    "    file.write(json_string)\n"
   ]
  },
  {
   "cell_type": "markdown",
   "metadata": {},
   "source": [
    "## Debugging result"
   ]
  },
  {
   "cell_type": "code",
   "execution_count": 230,
   "metadata": {},
   "outputs": [
    {
     "data": {
      "text/plain": [
       "tensor([5.9472e-06], dtype=torch.float64, grad_fn=<IndexBackward0>)"
      ]
     },
     "execution_count": 230,
     "metadata": {},
     "output_type": "execute_result"
    }
   ],
   "source": [
    "yout[indices[sp.Symbol(\"P_comms\")]]"
   ]
  },
  {
   "cell_type": "code",
   "execution_count": 49,
   "metadata": {},
   "outputs": [
    {
     "data": {
      "text/plain": [
       "[(x_11, 5*x_10*x_7/3 - 4/3),\n",
       " (x_8, 3*(-3*x_6 - 2)/(x_12*x_3)),\n",
       " (x_6, (5*x_0 - 6)/(9*x_11*x_9)),\n",
       " (x_13, -2*x_0*x_5 - 9/2),\n",
       " (x_4, (-x_8 - 2/3)/x_10),\n",
       " (x_14, 4*(-x_1*x_3*x_9 - 1)/(3*x_11)),\n",
       " (x_9, 4/(7*x_10)),\n",
       " (x_2, 4),\n",
       " (x_10, 3*(1 - 3*x_3)/(8*x_13)),\n",
       " (x_3, (3*x_14 + 2)/(2*x_11))]"
      ]
     },
     "execution_count": 49,
     "metadata": {},
     "output_type": "execute_result"
    }
   ],
   "source": [
    "[(sets[elt].outputvar, sets[elt].expression) for elt in B]"
   ]
  },
  {
   "cell_type": "code",
   "execution_count": 193,
   "metadata": {},
   "outputs": [
    {
     "data": {
      "text/plain": [
       "array([1, 1, 4, 0.12, -1335.04, 1, -0.01, 1, -50.39, -15.34, -0.04, -1.4,\n",
       "       1, -6.5, -0.78])"
      ]
     },
     "execution_count": 193,
     "metadata": {},
     "output_type": "execute_result"
    }
   ],
   "source": [
    "sets[9].analysis(yout).detach().numpy()"
   ]
  }
 ],
 "metadata": {
  "kernelspec": {
   "display_name": "minimdo",
   "language": "python",
   "name": "python3"
  },
  "language_info": {
   "codemirror_mode": {
    "name": "ipython",
    "version": 3
   },
   "file_extension": ".py",
   "mimetype": "text/x-python",
   "name": "python",
   "nbconvert_exporter": "python",
   "pygments_lexer": "ipython3",
   "version": "3.9.18"
  }
 },
 "nbformat": 4,
 "nbformat_minor": 2
}
