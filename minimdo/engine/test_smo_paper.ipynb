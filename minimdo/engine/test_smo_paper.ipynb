{
 "cells": [
  {
   "cell_type": "code",
   "execution_count": 1,
   "metadata": {},
   "outputs": [],
   "source": [
    "# Standard library imports\n",
    "from collections import OrderedDict, namedtuple\n",
    "from functools import partial\n",
    "\n",
    "# Third-party library imports\n",
    "from scipy.optimize import minimize\n",
    "import numpy as np\n",
    "import sympy as sp\n",
    "import torch\n",
    "import cyipopt\n",
    "\n",
    "# Local application imports\n",
    "from graph.matrixview import render_incidence\n",
    "from engine.torchengine import (\n",
    "    AnalyticalSetSympy, EliminateAnalysisMergeResiduals, EliminateAnalysis,\n",
    "    FunctionSympy, get_analysis_structure, ElimResidual, ParallelResiduals,\n",
    "    ipoptsolver\n",
    ")\n",
    "from engine.torchdata import (\n",
    "    load_file, process_expression, process_json, load_vals, perturb,\n",
    "    generate_optim_functions, print_formatted_table\n",
    ")\n",
    "\n",
    "# Set numpy print options\n",
    "np.set_printoptions(formatter={'float': lambda x: \"{:0.2f}\".format(x).rstrip('0').rstrip('.')})\n"
   ]
  },
  {
   "cell_type": "markdown",
   "metadata": {},
   "source": [
    "### Structure choice"
   ]
  },
  {
   "cell_type": "markdown",
   "metadata": {},
   "source": [
    "### 1) User defined"
   ]
  },
  {
   "cell_type": "code",
   "execution_count": 2,
   "metadata": {},
   "outputs": [],
   "source": [
    "disciplines = ['pearl_geom', 'pearl_hydro', 'pearl_mass', 'pearl_prop', 'pearl_power', 'pearl_solar', 'pearl_battery',\n",
    "'pearl_prob']"
   ]
  },
  {
   "cell_type": "markdown",
   "metadata": {},
   "source": [
    "### 2) Restructure"
   ]
  },
  {
   "cell_type": "code",
   "execution_count": 3,
   "metadata": {},
   "outputs": [],
   "source": [
    "disciplines = ['pearl_restructured','pearl_prob']"
   ]
  },
  {
   "cell_type": "markdown",
   "metadata": {},
   "source": [
    "### Import model"
   ]
  },
  {
   "cell_type": "code",
   "execution_count": 3,
   "metadata": {},
   "outputs": [],
   "source": [
    "symb_str_mapping = {}\n",
    "all_analyses = {}\n",
    "flattened_output = []\n",
    "equality_constraints_sympy = []\n",
    "inequality_constraints_sympy = []\n",
    "for file_name in disciplines:\n",
    "    data = load_file(file_name)\n",
    "    equality_constraints_sympy += [\n",
    "        process_expression(elt, symb_str_mapping) \n",
    "        for elt in data.get('equality_constraints',[])]\n",
    "    inequality_constraints_sympy += [\n",
    "        process_expression(elt, symb_str_mapping) \n",
    "        for elt in data.get('inequality_constraints',[])]\n",
    "    objective = data.get('objective',None)\n",
    "    if objective is not None:\n",
    "        objective = process_expression(objective, symb_str_mapping)\n",
    "    functional_sets = data.get('functional_sets',[])\n",
    "    flattened_output += functional_sets\n",
    "    analysismap, symb_str_mapping = process_json(\n",
    "        functional_sets, symb_str_mapping)\n",
    "    all_analyses[file_name] = analysismap"
   ]
  },
  {
   "cell_type": "code",
   "execution_count": 4,
   "metadata": {},
   "outputs": [],
   "source": [
    "from graph.graphutils import edges_to_Ein_Eout, sources, all_edges, all_variables, flat_graph_formulation\n",
    "from graph.operators import invert_edges, sort_scc, eqv_to_edges_tree\n",
    "from presolver.tearing import dir_graph, min_arc_set_assign, min_arc_set"
   ]
  },
  {
   "cell_type": "markdown",
   "metadata": {},
   "source": [
    "### Load optimization problem"
   ]
  },
  {
   "cell_type": "code",
   "execution_count": 5,
   "metadata": {},
   "outputs": [],
   "source": [
    "idxrev = {i: elt for i, elt in \n",
    "            enumerate(symb_str_mapping.values())}\n",
    "indices = {elt: torch.tensor([int(i)]) for i, elt in \n",
    "            idxrev.items()}\n",
    "sets ={}\n",
    "user_groups = {}\n",
    "# flat sets:\n",
    "idx = 0\n",
    "for file_name, analysismap in all_analyses.items():\n",
    "        user_groups[file_name] = list()\n",
    "        for _,(analysis,outputvar,residual) in enumerate(analysismap):\n",
    "                user_groups[file_name].append(idx)\n",
    "                sets[idx] = AnalyticalSetSympy(analysis, \n",
    "                        outputvar=outputvar, indices=indices) \n",
    "                idx+=1\n",
    "equality_constraints = EliminateAnalysisMergeResiduals(functions=[FunctionSympy(expr, indices)\n",
    "        for expr in equality_constraints_sympy])\n",
    "inequality_constraints = EliminateAnalysisMergeResiduals(functions=[FunctionSympy(expr, indices)  \n",
    "        for expr in inequality_constraints_sympy])\n",
    "objective = FunctionSympy(objective, indices)"
   ]
  },
  {
   "cell_type": "markdown",
   "metadata": {},
   "source": [
    "## Problem structure"
   ]
  },
  {
   "cell_type": "code",
   "execution_count": 6,
   "metadata": {},
   "outputs": [],
   "source": [
    "p = load_file('pearl_params')\n",
    "edges_in = {idx: tuple(str(idxrev[elt.item()]) for elt in s.analysis.structure[0] if str(idxrev[elt.item()]) not in p.keys()) for idx,s in sets.items()}\n",
    "edges_out = {idx: tuple(str(idxrev[elt.item()]) for elt in s.analysis.structure[1] if str(idxrev[elt.item()]) not in p.keys()) for idx,s in sets.items()}\n",
    "#edges_in_filter = {key:val for key,val in edges_in.items() if edges_in[key]}\n",
    "#edges_out_filter = {key:val for key,val in edges_out.items() if edges_in[key]}\n",
    "edges = (edges_in, edges_out)"
   ]
  },
  {
   "cell_type": "markdown",
   "metadata": {},
   "source": [
    "## Different ways to define orders"
   ]
  },
  {
   "cell_type": "markdown",
   "metadata": {},
   "source": [
    "### A) Individual"
   ]
  },
  {
   "cell_type": "code",
   "execution_count": 196,
   "metadata": {},
   "outputs": [],
   "source": [
    "analyses = {key: s.analysis for key,s in sets.items()}\n",
    "residuals = {key: s.residual for key,s in sets.items()}"
   ]
  },
  {
   "cell_type": "markdown",
   "metadata": {},
   "source": [
    "### B) Random group partition"
   ]
  },
  {
   "cell_type": "code",
   "execution_count": 197,
   "metadata": {},
   "outputs": [],
   "source": [
    "analyses, residuals = {}, {}\n",
    "for idx, values in enumerate(user_groups.values()):\n",
    "    if len(values) > 0:\n",
    "       analyses[idx] = EliminateAnalysis(analyses=[sets[sidx].analysis for sidx in values])\n",
    "       residuals[idx] = EliminateAnalysisMergeResiduals(functions=[sets[sidx].residual for sidx in values])"
   ]
  },
  {
   "cell_type": "markdown",
   "metadata": {},
   "source": [
    "### C) SCC group partition"
   ]
  },
  {
   "cell_type": "code",
   "execution_count": 9,
   "metadata": {},
   "outputs": [],
   "source": [
    "G = flat_graph_formulation(edges[0], edges[1], {})\n",
    "order_scc = sort_scc(G)\n",
    "analyses = {}\n",
    "residuals = {}\n",
    "for idx, elt in enumerate(order_scc):\n",
    "    if len(elt) > 1:\n",
    "        merge_sets = [sets[f.name] for f in elt]\n",
    "        R = EliminateAnalysisMergeResiduals(functions=[s.residual for s in merge_sets])\n",
    "        solvefor = torch.tensor([s.analysis.structure[1] for s in merge_sets])\n",
    "        E = ElimResidual(R, solvefor, \n",
    "                        indices, solvefor_raw=True)\n",
    "        analyses[idx] = E\n",
    "        residuals[idx] = E\n",
    "    else:\n",
    "        S = sets[next(iter(elt)).name]\n",
    "        analyses[idx] = S.analysis\n",
    "        residuals[idx] = S.residual"
   ]
  },
  {
   "cell_type": "markdown",
   "metadata": {},
   "source": [
    "### 1) Pure AAO/MDF/IDF"
   ]
  },
  {
   "cell_type": "code",
   "execution_count": 198,
   "metadata": {},
   "outputs": [],
   "source": [
    "order = list(sorted(analyses.keys()))\n",
    "A = []\n",
    "B = order"
   ]
  },
  {
   "cell_type": "markdown",
   "metadata": {},
   "source": [
    "### 2) User defined elimination"
   ]
  },
  {
   "cell_type": "code",
   "execution_count": 64,
   "metadata": {},
   "outputs": [],
   "source": [
    "order = list(sorted(analyses.keys()))\n",
    "structure_in, structure_out, full_structure = get_analysis_structure(\n",
    "    [analyses[idx].structure_full for idx in order])\n",
    "feedback = {int(elt) for elt in structure_in}.intersection({int(elt) for elt in structure_out})\n",
    "A = [elt for elt in order if len({elt.item() for elt in analyses[elt].structure[1]\n",
    "                                  }.intersection(feedback)) == 0]\n",
    "B = [elt for elt in order if elt not in A]\n",
    "new_order = A+B"
   ]
  },
  {
   "cell_type": "markdown",
   "metadata": {},
   "source": [
    "### 3) Minimum feedback elimination"
   ]
  },
  {
   "cell_type": "code",
   "execution_count": 193,
   "metadata": {},
   "outputs": [
    {
     "name": "stdout",
     "output_type": "stream",
     "text": [
      "Set parameter WLSAccessID\n",
      "Set parameter WLSSecret\n",
      "Set parameter WLSSecret\n",
      "Set parameter LicenseID to value 2527862\n",
      "Academic license 2527862 - for non-commercial use only - registered to no___@mit.edu\n"
     ]
    }
   ],
   "source": [
    "edges_for_solving = invert_edges(*edges)\n",
    "eqnidxs = list(edges[0].keys())\n",
    "varidxs = all_variables(*edges_for_solving)\n",
    "edges_left_right = all_edges(*edges_for_solving)\n",
    "#dout = {val[0]:key for key,val in edges[1].items()}\n",
    "dout = {key:val[0] for key,val in edges[1].items()}\n",
    "cycles, elimset, m = min_arc_set(edges_left_right, dout, varidxs, eqnidxs, timeout=100)"
   ]
  },
  {
   "cell_type": "code",
   "execution_count": 194,
   "metadata": {},
   "outputs": [],
   "source": [
    "edges_new = (edges[0],\n",
    "             {key:val for key,val in edges[1].items() if key not in elimset})\n",
    "G = flat_graph_formulation(edges_new[0], edges_new[1], {})\n",
    "A = [next(iter(elt)).name for elt in sort_scc(G) if next(iter(elt)).name not in elimset]\n",
    "B = list(elimset)\n",
    "order = A+B"
   ]
  },
  {
   "cell_type": "markdown",
   "metadata": {},
   "source": [
    "### 4) Min feedback restructure"
   ]
  },
  {
   "cell_type": "code",
   "execution_count": 65,
   "metadata": {},
   "outputs": [
    {
     "ename": "NameError",
     "evalue": "name 'edges_left_right' is not defined",
     "output_type": "error",
     "traceback": [
      "\u001b[1;31m---------------------------------------------------------------------------\u001b[0m",
      "\u001b[1;31mNameError\u001b[0m                                 Traceback (most recent call last)",
      "Input \u001b[1;32mIn [65]\u001b[0m, in \u001b[0;36m<cell line: 1>\u001b[1;34m()\u001b[0m\n\u001b[1;32m----> 1\u001b[0m xsol, model \u001b[38;5;241m=\u001b[39m min_arc_set_assign(\u001b[43medges_left_right\u001b[49m, varidxs, eqnidxs, not_output\u001b[38;5;241m=\u001b[39m[\u001b[38;5;124m'\u001b[39m\u001b[38;5;124mD_f\u001b[39m\u001b[38;5;124m'\u001b[39m,\u001b[38;5;124m'\u001b[39m\u001b[38;5;124mD_d\u001b[39m\u001b[38;5;124m'\u001b[39m,\u001b[38;5;124m'\u001b[39m\u001b[38;5;124mD_s\u001b[39m\u001b[38;5;124m'\u001b[39m, \u001b[38;5;124m'\u001b[39m\u001b[38;5;124mv\u001b[39m\u001b[38;5;124m'\u001b[39m])\n\u001b[0;32m      2\u001b[0m outset_minassign \u001b[38;5;241m=\u001b[39m \u001b[38;5;28mdict\u001b[39m((right, left) \u001b[38;5;28;01mfor\u001b[39;00m left, right \u001b[38;5;129;01min\u001b[39;00m edges_left_right \u001b[38;5;28;01mif\u001b[39;00m xsol[left, right] \u001b[38;5;241m>\u001b[39m \u001b[38;5;241m0.5\u001b[39m)\n",
      "\u001b[1;31mNameError\u001b[0m: name 'edges_left_right' is not defined"
     ]
    }
   ],
   "source": [
    "xsol, model = min_arc_set_assign(edges_left_right, varidxs, eqnidxs, not_output=['D_f','D_d','D_s', 'v'])\n",
    "outset_minassign = dict((right, left) for left, right in edges_left_right if xsol[left, right] > 0.5)"
   ]
  },
  {
   "cell_type": "code",
   "execution_count": 169,
   "metadata": {},
   "outputs": [
    {
     "data": {
      "text/plain": [
       "17"
      ]
     },
     "execution_count": 169,
     "metadata": {},
     "output_type": "execute_result"
    }
   ],
   "source": [
    "len(outset_minassign)"
   ]
  },
  {
   "cell_type": "code",
   "execution_count": 170,
   "metadata": {},
   "outputs": [],
   "source": [
    "sets_opt = {idx:s.reassign(sp.Symbol(outset_minassign.get(idx, None)), rational=True) for idx,s in sets.items()}"
   ]
  },
  {
   "cell_type": "code",
   "execution_count": 171,
   "metadata": {},
   "outputs": [],
   "source": [
    "functional_sets = []\n",
    "for idx, fset in sets_opt.items():\n",
    "    functional_sets.append(\n",
    "        {'residual':str(fset.residualexpr),\n",
    "         'analysis': str(fset.expression), \n",
    "        'functionalvar': str(fset.outputvar)})\n",
    "output = {'functional_sets':functional_sets}"
   ]
  },
  {
   "cell_type": "code",
   "execution_count": 98,
   "metadata": {},
   "outputs": [],
   "source": [
    "# save json data\n",
    "import json\n",
    "with open('../applications/data/pearl_restructured.json', 'w') as f:\n",
    "    json.dump(output, f, indent=4)"
   ]
  },
  {
   "cell_type": "markdown",
   "metadata": {},
   "source": [
    "### Option 1"
   ]
  },
  {
   "cell_type": "code",
   "execution_count": 66,
   "metadata": {},
   "outputs": [],
   "source": [
    "# Merge residuals only\n",
    "solvefor = torch.tensor([])\n",
    "R = EliminateAnalysisMergeResiduals(functions=[residuals[idx] for idx in B])\n",
    "P = EliminateAnalysis([analyses[idx] for idx in A], [objective,R,equality_constraints,inequality_constraints])\n",
    "objective_idx,residual_idx,equality_idx,inequality_idx = 0,1,2,3"
   ]
  },
  {
   "cell_type": "markdown",
   "metadata": {},
   "source": [
    "### Option 2"
   ]
  },
  {
   "cell_type": "code",
   "execution_count": 31,
   "metadata": {},
   "outputs": [],
   "source": [
    "elimset = [sets[idx].analysis for idx in A]\n",
    "R = EliminateAnalysisMergeResiduals(elimset, \n",
    "                                    [sets[idx].residual for idx in B])\n",
    "solvefor = torch.tensor([sets[idx].analysis.structure[1] for idx in B])\n",
    "bnds = [(None, None) for _ in solvefor]\n",
    "ipsolver = partial(ipoptsolver, bnds_problem=bnds)\n",
    "S = ElimResidual(R, solvefor, indices, \n",
    "                 solver=ipsolver,\n",
    "                 solvefor_raw=True)\n",
    "P = EliminateAnalysis([S]+ elimset, [objective,equality_constraints,inequality_constraints])\n",
    "objective_idx,residual_idx,equality_idx,inequality_idx = 0,None,1,2"
   ]
  },
  {
   "cell_type": "markdown",
   "metadata": {},
   "source": [
    "### Option 3"
   ]
  },
  {
   "cell_type": "code",
   "execution_count": 199,
   "metadata": {},
   "outputs": [],
   "source": [
    "solvefor = torch.tensor([])\n",
    "T = ParallelResiduals([sets[idx].analysis for idx in B], [objective,equality_constraints,inequality_constraints])\n",
    "P = EliminateAnalysis([sets[idx].analysis for idx in A], [T], flatten=True)\n",
    "objective_idx,residual_idx,equality_idx,inequality_idx = 0,3,1,2"
   ]
  },
  {
   "cell_type": "markdown",
   "metadata": {},
   "source": [
    "###  Debug option"
   ]
  },
  {
   "cell_type": "code",
   "execution_count": 18,
   "metadata": {},
   "outputs": [],
   "source": [
    "R = EliminateAnalysisMergeResiduals(functions=[sets[idx].residual for idx in A])\n",
    "solvefor = torch.tensor([sets[idx].analysis.structure[1] for idx in A])\n",
    "bnds = [(None, None) for _ in solvefor]\n",
    "ipsolver = partial(ipoptsolver, bnds_problem=bnds)\n",
    "S = ElimResidual(R, solvefor, indices, \n",
    "                 solver=ipsolver,\n",
    "                 solvefor_raw=True)\n",
    "R2 = EliminateAnalysisMergeResiduals(functions= [sets[idx].residual for idx in B])\n",
    "P = EliminateAnalysis([S], [objective,R2, equality_constraints,inequality_constraints])\n",
    "objective_idx,residual_idx,equality_idx,inequality_idx = 0,1,2,3"
   ]
  },
  {
   "cell_type": "markdown",
   "metadata": {},
   "source": [
    "### Visualize model"
   ]
  },
  {
   "cell_type": "code",
   "execution_count": 191,
   "metadata": {},
   "outputs": [
    {
     "data": {
      "image/png": "[encoded data removed]",
      "text/plain": [
       "<Figure size 800x800 with 1 Axes>"
      ]
     },
     "metadata": {},
     "output_type": "display_data"
    }
   ],
   "source": [
    "def transform_dict_values(d):\n",
    "    return {k: tuple(f\"{x.split('_')[0]}_{{{x.split('_')[1]}}}\" if '_' in x else x for x in v) for k, v in d.items()}\n",
    "alledges = transform_dict_values(edges[0]), transform_dict_values(edges[1]), {}\n",
    "tree = (OrderedDict([(elt,1) for elt in order]),{},{})\n",
    "render_incidence(alledges, tree, rotation=60, hideticks=True, rawvarname=True,\n",
    "                 dispendcomp=True, figsize=((8,8)), fontsize=10, colsalignleft=True);"
   ]
  },
  {
   "cell_type": "markdown",
   "metadata": {},
   "source": [
    "## Optimization"
   ]
  },
  {
   "cell_type": "code",
   "execution_count": 200,
   "metadata": {},
   "outputs": [],
   "source": [
    "pindices = [val for key,val in indices.items() if str(key) in p.keys()]\n",
    "optim_indices = torch.tensor([elt for elt in P.structure[0] if elt not in solvefor and elt.item() not in pindices])"
   ]
  },
  {
   "cell_type": "code",
   "execution_count": 201,
   "metadata": {},
   "outputs": [],
   "source": [
    "xp = load_vals('pearl_params', indices=indices, default=1.0)\n",
    "xs = load_vals('results', indices=indices, x0=xp)\n",
    "x0 = perturb(xs, 0.2, optim_indices, seed=42)"
   ]
  },
  {
   "cell_type": "code",
   "execution_count": 202,
   "metadata": {},
   "outputs": [
    {
     "name": "stdout",
     "output_type": "stream",
     "text": [
      "F_W   A_solar D_f   h_f   t_f   D_s   D_d   P_move  t_d   d     V_d   t_s   F_B   m_platform m_solar m_struct m_batt\n",
      "5.175 1.575   1.453 0.09  0.1   0.218 0.243 751.701 0.1   0.073 0.528 10    5.175 528.087    15.753  390.509  21.825\n",
      "6.342 1.671   1.151 0.092 0.097 0.161 0.148 813.751 0.094 0.086 0.438 9.966 5.244 577.464    16.915  376.071  17.64 \n"
     ]
    }
   ],
   "source": [
    "print_formatted_table([xs, x0], indices, idxrev, subset=optim_indices)"
   ]
  },
  {
   "cell_type": "code",
   "execution_count": 203,
   "metadata": {},
   "outputs": [
    {
     "data": {
      "text/plain": [
       "[tensor([647.1435], dtype=torch.float64, grad_fn=<IndexBackward0>),\n",
       " tensor([-0.6832], dtype=torch.float64, grad_fn=<CatBackward0>),\n",
       " tensor([ 5.0827e-03, -8.7429e-01,  2.8327e-02, -8.1375e+02,  6.3249e-03,\n",
       "          3.0906e-03], dtype=torch.float64, grad_fn=<CatBackward0>),\n",
       " tensor([-2.8778e-02, -1.3638e-01, -9.5129e-01, -1.0984e+00,  6.9679e+01,\n",
       "         -2.0174e-01,  6.6839e+01], dtype=torch.float64, grad_fn=<CatBackward0>)]"
      ]
     },
     "execution_count": 203,
     "metadata": {},
     "output_type": "execute_result"
    }
   ],
   "source": [
    "P(x0)"
   ]
  },
  {
   "cell_type": "code",
   "execution_count": 204,
   "metadata": {},
   "outputs": [],
   "source": [
    "# MAKE SURE TO SET INEQUALITY DIRECTION, it is different for scipy and ipopt\n",
    "xguess, obj_function, ineq_function, eq_function, dobj, dineq, deq, hobj = generate_optim_functions(P,\n",
    "    optim_indices, x0, inequality_direction='negative-null', \n",
    "    objective=objective_idx, residuals=residual_idx, equalities=equality_idx, inequalities=inequality_idx)\n",
    "ineqlen = len(ineq_function(xguess))\n",
    "eqlen = len(eq_function(xguess))\n",
    "constraints = [{'type': 'eq', 'fun': eq_function, 'jac': deq}] if eqlen >= 1 else []\n",
    "constraints.append({'type': 'ineq', 'fun': ineq_function, 'jac': dineq}) if ineqlen >= 1 else []\n",
    "\n",
    "bounds = {\n",
    "    'D_f': (0.1,10),\n",
    "    'D_d': (0.1,10),\n",
    "    'D_s': (0.1,10),\n",
    "    't_s': (0.1,10),\n",
    "    't_d': (0.1,10),\n",
    "    't_f': (0.1,10),\n",
    "    'v': (0.5,None)\n",
    "}\n",
    "bnds_problem = [bounds.get(str(idxrev[elt.item()]), (0, None)) for elt in optim_indices]"
   ]
  },
  {
   "cell_type": "code",
   "execution_count": 205,
   "metadata": {},
   "outputs": [],
   "source": [
    "# Debug derivatives\n",
    "# eps = 1e-6\n",
    "# (ineq_function(xguess+eps*np.eye(len(xguess))[0])-ineq_function(xguess))/eps"
   ]
  },
  {
   "cell_type": "code",
   "execution_count": 206,
   "metadata": {},
   "outputs": [
    {
     "data": {
      "text/plain": [
       "[(F_W, 6.342006444256304),\n",
       " (A_solar, 1.6713071948777336),\n",
       " (D_f, 1.1508062496585665),\n",
       " (h_f, 0.092301128285451),\n",
       " (t_f, 0.09690940067078734),\n",
       " (D_s, 0.16143546250642557),\n",
       " (D_d, 0.14789823803043753),\n",
       " (P_move, 813.7514552363706),\n",
       " (t_d, 0.09367513878664467),\n",
       " (d, 0.08631832782410749),\n",
       " (V_d, 0.43799087345340254),\n",
       " (t_s, 9.966397784344789),\n",
       " (F_B, 5.243599565526475),\n",
       " (m_platform, 577.4643257859351),\n",
       " (m_solar, 16.91481690359616),\n",
       " (m_struct, 376.0706329659263),\n",
       " (m_batt, 17.639843647738008)]"
      ]
     },
     "execution_count": 206,
     "metadata": {},
     "output_type": "execute_result"
    }
   ],
   "source": [
    "[(idxrev[elt.item()],xguess[idx]) for idx,elt in enumerate(optim_indices)]"
   ]
  },
  {
   "cell_type": "code",
   "execution_count": 207,
   "metadata": {},
   "outputs": [
    {
     "data": {
      "text/plain": [
       "(array([-0.68, -0.03, -0.14, -0.95, -1.1, 69.68, -0.2, 66.84]),\n",
       " array([0.01, -0.87, 0.03, -813.75, 0.01, 0]),\n",
       " 647.143514720031)"
      ]
     },
     "execution_count": 207,
     "metadata": {},
     "output_type": "execute_result"
    }
   ],
   "source": [
    "eq_function(xguess).numpy(), ineq_function(xguess).numpy(), obj_function(xguess)"
   ]
  },
  {
   "cell_type": "code",
   "execution_count": 208,
   "metadata": {},
   "outputs": [],
   "source": [
    "# dobj(xguess), dineq(xguess), deq(xguess)"
   ]
  },
  {
   "cell_type": "code",
   "execution_count": 209,
   "metadata": {},
   "outputs": [],
   "source": [
    "# np.round(np.linalg.cond(dobj(xguess)),3)"
   ]
  },
  {
   "cell_type": "markdown",
   "metadata": {},
   "source": [
    "### Solver: IPOPT"
   ]
  },
  {
   "cell_type": "code",
   "execution_count": 210,
   "metadata": {},
   "outputs": [],
   "source": [
    "def all_constraints(x):\n",
    "    return np.concatenate([ineq_function(x), eq_function(x)])\n",
    "\n",
    "def all_constraints_jac(x):\n",
    "    if eqlen == 0:\n",
    "        return dineq(x)\n",
    "    return np.concatenate([dineq(x), deq(x)], axis=0)\n",
    "\n",
    "OptProblem = namedtuple('OptProblem', ['objective', 'constraints', 'gradient', 'jacobian', 'intermediate'])\n",
    "\n",
    "lb,ub = zip(*bnds_problem)\n",
    "cl = np.concatenate([-np.inf*np.ones(ineqlen), np.zeros(eqlen)])\n",
    "cu = np.concatenate([np.zeros(ineqlen), np.zeros(eqlen)])\n",
    "\n",
    "storeiter = [0]\n",
    "\n",
    "def logiter(alg_mod, iter_count, obj_value, inf_pr, inf_du, mu, d_norm, regularization_size, alpha_du, alpha_pr, ls_trials):\n",
    "    storeiter[0] = iter_count\n",
    "\n",
    "# define the problem\n",
    "probinfo = OptProblem(obj_function, all_constraints, dobj, all_constraints_jac, logiter)\n",
    "\n",
    "prob = cyipopt.Problem(n=len(xguess), m=len(cu), lb=lb, ub=ub, cl=cl, cu=cu, \n",
    "                       problem_obj=probinfo)\n",
    "prob.add_option('max_iter', 8000)\n",
    "#prob.add_option('acceptable_tol', 1e-6)"
   ]
  },
  {
   "cell_type": "code",
   "execution_count": 211,
   "metadata": {},
   "outputs": [],
   "source": [
    "xsol, optinfo = prob.solve(xguess)"
   ]
  },
  {
   "cell_type": "code",
   "execution_count": 212,
   "metadata": {},
   "outputs": [
    {
     "data": {
      "text/plain": [
       "(array([0, 0, 0, 0, 0, 0, 0, 0]),\n",
       " array([-5.93, 0, -0.11, -862.15, -1.62, -7.48]),\n",
       " 100.09211454260581)"
      ]
     },
     "execution_count": 212,
     "metadata": {},
     "output_type": "execute_result"
    }
   ],
   "source": [
    "eq_function(xsol).numpy(), ineq_function(xsol).numpy(), obj_function(xsol)"
   ]
  },
  {
   "cell_type": "code",
   "execution_count": 213,
   "metadata": {},
   "outputs": [],
   "source": [
    "Aelim = EliminateAnalysis([analyses[idx] for idx in A])\n",
    "yout = Aelim(x0)"
   ]
  },
  {
   "cell_type": "code",
   "execution_count": 214,
   "metadata": {},
   "outputs": [
    {
     "data": {
      "text/plain": [
       "tensor([ 0.0000, 21.8255], dtype=torch.float64, grad_fn=<CatBackward0>)"
      ]
     },
     "execution_count": 214,
     "metadata": {},
     "output_type": "execute_result"
    }
   ],
   "source": [
    "residuals[6](yout)"
   ]
  },
  {
   "cell_type": "code",
   "execution_count": 215,
   "metadata": {},
   "outputs": [
    {
     "name": "stdout",
     "output_type": "stream",
     "text": [
      "A_solar  D_f   d        D_d  D_s h_f   t_d   t_s   V_d F_B   F_W   m_platform m_solar m_batt    m_struct  t_f   S_w  v   P_move  E_move E_required E_recharge P_recharge C     \n",
      "9.21e-03 0.111 5.56e-03 0.23 0.1 0.891 1.723 2.547 0.1 0.981 0.981 100.092    0.092   -9.99e-09 -9.99e-09 7.578 9.02 0.5 862.147 2.706  7.208      7.208      166.852    12.114\n",
      "1.575    0.111 5.56e-03 0.23 0.1 0.891 1.723 2.547 0.1 0.981 0.981 100.092    0.092   -9.99e-09 -9.99e-09 7.578 9.02 0.5 862.147 2.706  7.208      7.208      166.852    12.114\n"
     ]
    }
   ],
   "source": [
    "print_formatted_table([x0, analyses[5](x0)], indices, idxrev, subset=nonpindices)"
   ]
  },
  {
   "cell_type": "code",
   "execution_count": 161,
   "metadata": {},
   "outputs": [
    {
     "data": {
      "text/plain": [
       "[19]"
      ]
     },
     "execution_count": 161,
     "metadata": {},
     "output_type": "execute_result"
    }
   ],
   "source": [
    "storeiter"
   ]
  },
  {
   "cell_type": "code",
   "execution_count": 162,
   "metadata": {},
   "outputs": [
    {
     "data": {
      "text/plain": [
       "{'x': array([0.98, 0.01, 0.11, 0.45, 2.35, 0.1, 0.24, 819.63, 0.62, 8.75, 0.09,\n",
       "        -0, -0]),\n",
       " 'g': array([-1.67, 0, -0.11, -819.63, -0.52, -2.25, 0, -0, 0, 0]),\n",
       " 'obj_val': 100.0921145426058,\n",
       " 'mult_g': array([0, 1.84, -0, 0, -0, -0, 10, -0, 1, -1]),\n",
       " 'mult_x_L': array([0, 0, 0, 0, 0, 1.84, 0, 0, 0, 0, 0, 1, 1]),\n",
       " 'mult_x_U': array([0, 0, 0, 0, 0, 0, 0, 0, 0, 0, 0, 0, 0]),\n",
       " 'status': 0,\n",
       " 'status_msg': b'Algorithm terminated successfully at a locally optimal point, satisfying the convergence tolerances (can be specified by options).'}"
      ]
     },
     "execution_count": 162,
     "metadata": {},
     "output_type": "execute_result"
    }
   ],
   "source": [
    "optinfo"
   ]
  },
  {
   "cell_type": "markdown",
   "metadata": {},
   "source": [
    "### Solver: SLQSP"
   ]
  },
  {
   "cell_type": "code",
   "execution_count": 101,
   "metadata": {},
   "outputs": [],
   "source": [
    "trace = []\n",
    "def trace_points(xk):\n",
    "    trace.append(np.copy(xk))"
   ]
  },
  {
   "cell_type": "code",
   "execution_count": 102,
   "metadata": {},
   "outputs": [
    {
     "name": "stdout",
     "output_type": "stream",
     "text": [
      "Positive directional derivative for linesearch    (Exit mode 8)\n",
      "            Current function value: 532.7571750985691\n",
      "            Iterations: 10\n",
      "            Function evaluations: 6\n",
      "            Gradient evaluations: 6\n"
     ]
    }
   ],
   "source": [
    "# # Solve the optimization problem\n",
    "xsol = minimize(obj_function, xguess, bounds=bnds_problem, jac=dobj, constraints=constraints, options={'maxiter': 500, 'disp':True}, method='SLSQP', callback=trace_points)"
   ]
  },
  {
   "cell_type": "code",
   "execution_count": 585,
   "metadata": {},
   "outputs": [
    {
     "data": {
      "text/plain": [
       "(array([0, 0, 0, 720.03, -0]), array([], dtype=float32), 363.47854716583134)"
      ]
     },
     "execution_count": 585,
     "metadata": {},
     "output_type": "execute_result"
    }
   ],
   "source": [
    "tidx = 2\n",
    "ineq_function(trace[tidx]).numpy(), eq_function(trace[tidx]).numpy(), obj_function(trace[tidx])"
   ]
  },
  {
   "cell_type": "code",
   "execution_count": 586,
   "metadata": {},
   "outputs": [
    {
     "data": {
      "text/plain": [
       "(array([[0, 0, 0, -1, 0, 0, 0, 0.9, 0],\n",
       "        [0, 0.9, -1, 0, 0, 0, 0, 0, 0],\n",
       "        [0.9, 0, -1, 0, 0, 0, 0, 0, 0],\n",
       "        [0, 0, 0, 0, 0, 0, 0, 0, 1],\n",
       "        [-0.84, 0.1, 13.44, 0.59, 0.14, -0.13, -0.01, -0.41, 0]]),\n",
       " array([0, 37.77, 3929.8, 69.65, 41.78, -5.88, -0.59, -18.06, 0]))"
      ]
     },
     "execution_count": 586,
     "metadata": {},
     "output_type": "execute_result"
    }
   ],
   "source": [
    "dineq(trace[tidx]), dobj(trace[tidx])"
   ]
  },
  {
   "cell_type": "code",
   "execution_count": 588,
   "metadata": {},
   "outputs": [
    {
     "data": {
      "text/plain": [
       " message: Optimization terminated successfully\n",
       " success: True\n",
       "  status: 0\n",
       "     fun: 363.5835135402174\n",
       "       x: [ 2.363e-01  2.363e-01  2.127e-01  9.000e-02  1.000e+01\n",
       "            2.658e-10  2.658e-11  1.000e-01  7.200e+02]\n",
       "     nit: 13\n",
       "     jac: [ 3.162e-05  3.777e+01  3.930e+03  6.966e+01  4.179e+01\n",
       "           -5.882e+00 -5.882e-01 -1.806e+01  0.000e+00]\n",
       "    nfev: 45\n",
       "    njev: 9"
      ]
     },
     "execution_count": 588,
     "metadata": {},
     "output_type": "execute_result"
    }
   ],
   "source": [
    "xsol"
   ]
  },
  {
   "cell_type": "code",
   "execution_count": 589,
   "metadata": {},
   "outputs": [
    {
     "data": {
      "text/plain": [
       "array([0.24, 0.24, 0.21, 0.09, 10, 0, 0, 0.1, 720.03])"
      ]
     },
     "execution_count": 589,
     "metadata": {},
     "output_type": "execute_result"
    }
   ],
   "source": [
    "xsol.x"
   ]
  },
  {
   "cell_type": "code",
   "execution_count": 590,
   "metadata": {},
   "outputs": [
    {
     "data": {
      "image/png": "[encoded data removed]",
      "text/plain": [
       "<Figure size 640x480 with 1 Axes>"
      ]
     },
     "metadata": {},
     "output_type": "display_data"
    }
   ],
   "source": [
    "Am = dineq(xsol.x)\n",
    "from matplotlib.colors import ListedColormap\n",
    "import matplotlib.pyplot as plt\n",
    "\n",
    "\n",
    "# Create a figure and axis\n",
    "fig, ax = plt.subplots()\n",
    "\n",
    "# Create a custom color map\n",
    "cmap = ListedColormap(['white', 'lightblue'])\n",
    "\n",
    "# Flip A upside down\n",
    "A_flipped = np.flipud(Am)\n",
    "\n",
    "# Use imshow to create a binary color map\n",
    "cax = ax.pcolormesh(np.where(A_flipped != 0, 1, 0), cmap=cmap, edgecolors='lightgray', linewidth=1)\n",
    "\n",
    "# Make cells square\n",
    "ax.set_aspect('equal')\n",
    "\n",
    "# Get the number of cells in x and y directions\n",
    "num_cells_x = Am.shape[1]\n",
    "num_cells_y = Am.shape[0]\n",
    "\n",
    "# Add text at the center of the cells\n",
    "for i in range(num_cells_y):\n",
    "    for j in range(num_cells_x):\n",
    "        if Am[i, j] != 0:\n",
    "            ax.text(j+0.5, num_cells_y-i-0.5, \"{:0.2f}\".format(Am[i,j]).rstrip('0').rstrip('.'), ha='center', va='center')\n",
    "            \n",
    "ax.set_xticklabels([])\n",
    "ax.set_yticklabels([])\n",
    "\n",
    "# Optionally, remove the ticks as well\n",
    "ax.set_xticks([])\n",
    "ax.set_yticks([])\n",
    "\n",
    "# Show the plot\n",
    "plt.show()"
   ]
  },
  {
   "cell_type": "code",
   "execution_count": 43,
   "metadata": {},
   "outputs": [
    {
     "data": {
      "text/plain": [
       "(array([-0]), array([0, -1.09, 0, -751.7, 0, 0]))"
      ]
     },
     "execution_count": 43,
     "metadata": {},
     "output_type": "execute_result"
    }
   ],
   "source": [
    "equality_constraints(x0).detach().numpy(), inequality_constraints(x0).detach().numpy()"
   ]
  },
  {
   "cell_type": "code",
   "execution_count": 44,
   "metadata": {},
   "outputs": [
    {
     "data": {
      "text/plain": [
       "tensor([ 4,  1,  5, 17, 28,  7,  8])"
      ]
     },
     "execution_count": 44,
     "metadata": {},
     "output_type": "execute_result"
    }
   ],
   "source": [
    "optim_indices"
   ]
  },
  {
   "cell_type": "code",
   "execution_count": 45,
   "metadata": {},
   "outputs": [
    {
     "data": {
      "text/plain": [
       "[tensor([528.0872], dtype=torch.float64, grad_fn=<IndexBackward0>),\n",
       " tensor([]),\n",
       " tensor([2.2204e-16], dtype=torch.float64, grad_fn=<CatBackward0>),\n",
       " tensor([ 9.9996e-09, -1.0894e+00,  9.9949e-09, -7.5170e+02,  9.9906e-09,\n",
       "          9.9931e-09], dtype=torch.float64, grad_fn=<CatBackward0>)]"
      ]
     },
     "execution_count": 45,
     "metadata": {},
     "output_type": "execute_result"
    }
   ],
   "source": [
    "P(x0)"
   ]
  },
  {
   "cell_type": "markdown",
   "metadata": {},
   "source": [
    "## Check results"
   ]
  },
  {
   "cell_type": "code",
   "execution_count": 98,
   "metadata": {},
   "outputs": [],
   "source": [
    "Aelim = EliminateAnalysis([analyses[idx] for idx in A])\n",
    "yout = Aelim(x0)"
   ]
  },
  {
   "cell_type": "code",
   "execution_count": 164,
   "metadata": {},
   "outputs": [],
   "source": [
    "nonpindices = torch.tensor([elt for elt in indices.values() if elt.item() not in pindices])"
   ]
  },
  {
   "cell_type": "code",
   "execution_count": 100,
   "metadata": {},
   "outputs": [
    {
     "name": "stdout",
     "output_type": "stream",
     "text": [
      "A_solar  D_f   d        D_d   D_s h_f   t_d   t_s   V_d   F_B   F_W   m_platform m_solar m_batt    m_struct  t_f   S_w   v   P_move  E_move E_required E_recharge P_recharge C     \n",
      "9.21e-03 0.111 5.56e-03 0.236 0.1 0.449 0.616 8.747 0.1   0.981 0.981 528.087    0.092   -9.99e-09 -9.99e-09 2.351 3.444 0.5 287.003 1.033  5.535      7.208      166.852    12.114\n",
      "9.21e-03 0.111 0.073    0.236 0.1 0.449 0.616 8.747 0.528 0.981 5.175 528.087    0.092   -9.99e-09 -9.99e-09 2.351 9.02  0.5 819.634 2.706  7.208      7.208      166.852    12.114\n"
     ]
    }
   ],
   "source": [
    "print_formatted_table([yout, x0], indices, idxrev, subset=nonpindices)"
   ]
  },
  {
   "cell_type": "markdown",
   "metadata": {},
   "source": [
    "## Save results"
   ]
  },
  {
   "cell_type": "code",
   "execution_count": 33,
   "metadata": {},
   "outputs": [],
   "source": [
    "results = {str(idxrev[elt.item()]): yout[elt].item() for elt in nonpindices}"
   ]
  },
  {
   "cell_type": "code",
   "execution_count": 228,
   "metadata": {},
   "outputs": [],
   "source": [
    "name = 'results.json'\n",
    "json_string = json.dumps(results, indent=4)\n",
    "with open('../applications/data/{}'.format(name), 'w') as file:\n",
    "    file.write(json_string)\n"
   ]
  },
  {
   "cell_type": "markdown",
   "metadata": {},
   "source": [
    "## Debugging result"
   ]
  },
  {
   "cell_type": "code",
   "execution_count": 34,
   "metadata": {},
   "outputs": [
    {
     "data": {
      "text/plain": [
       "tensor([50.], dtype=torch.float64, grad_fn=<IndexBackward0>)"
      ]
     },
     "execution_count": 34,
     "metadata": {},
     "output_type": "execute_result"
    }
   ],
   "source": [
    "yout[indices[sp.Symbol(\"P_comms\")]]"
   ]
  }
 ],
 "metadata": {
  "kernelspec": {
   "display_name": "minimdo",
   "language": "python",
   "name": "python3"
  },
  "language_info": {
   "codemirror_mode": {
    "name": "ipython",
    "version": 3
   },
   "file_extension": ".py",
   "mimetype": "text/x-python",
   "name": "python",
   "nbconvert_exporter": "python",
   "pygments_lexer": "ipython3",
   "version": "3.9.18"
  }
 },
 "nbformat": 4,
 "nbformat_minor": 2
}
