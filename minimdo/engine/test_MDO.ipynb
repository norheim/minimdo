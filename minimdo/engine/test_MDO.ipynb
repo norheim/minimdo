{
 "cells": [
  {
   "cell_type": "code",
   "execution_count": 1,
   "metadata": {},
   "outputs": [],
   "source": [
    "import sys, os\n",
    "notebook_dir = os.path.dirname(os.path.abspath(\"__file__\"))\n",
    "sys.path+=[notebook_dir+'\\\\engine']"
   ]
  },
  {
   "cell_type": "code",
   "execution_count": 2,
   "metadata": {
    "metadata": {}
   },
   "outputs": [],
   "source": [
    "import sympy as sp\n",
    "import torch"
   ]
  },
  {
   "cell_type": "code",
   "execution_count": 3,
   "metadata": {
    "execution": {
     "iopub.execute_input": "2024-04-23T16:00:01.702451Z",
     "iopub.status.busy": "2024-04-23T16:00:01.694239Z",
     "iopub.status.idle": "2024-04-23T16:00:02.385477Z",
     "shell.execute_reply": "2024-04-23T16:00:02.384581Z",
     "shell.execute_reply.started": "2024-04-23T16:00:01.702451Z"
    },
    "metadata": {}
   },
   "outputs": [],
   "source": [
    "from torchengine import AnalyticalSetSympy, EliminateAnalysis, ParallelAnalysis\n",
    "from torchdata import symbols"
   ]
  },
  {
   "cell_type": "code",
   "execution_count": 4,
   "metadata": {},
   "outputs": [],
   "source": [
    "x,y1,y2,y3,y4,u1,u2, indices = symbols('x y1 y2 y3 y4 u1 u2', dim='scalar')\n",
    "analyses = {\n",
    "    1: (y1, x),\n",
    "    2: (u1, x+2-y3),\n",
    "    3: (y2, x**2+u1),\n",
    "    4: (u2, x**2-y1+y2),\n",
    "    5: (y3, x-u2),\n",
    "    6: (y4, x)\n",
    "}"
   ]
  },
  {
   "cell_type": "code",
   "execution_count": 5,
   "metadata": {},
   "outputs": [],
   "source": [
    "S = {idx: AnalyticalSetSympy(expr, outputvar=leftvar, indices=indices) for idx, (leftvar, expr) in analyses.items()}"
   ]
  },
  {
   "cell_type": "code",
   "execution_count": 6,
   "metadata": {},
   "outputs": [],
   "source": [
    "S1 = S[1].analysis\n",
    "S2 = EliminateAnalysis([S[2].analysis, S[3].analysis],[])\n",
    "S3 = EliminateAnalysis([S[4].analysis, S[5].analysis],[])\n",
    "S4 = S[6].analysis"
   ]
  },
  {
   "cell_type": "code",
   "execution_count": 7,
   "metadata": {},
   "outputs": [],
   "source": [
    "sequential = EliminateAnalysis([S1, S2, S3, S4], [])"
   ]
  },
  {
   "cell_type": "code",
   "execution_count": 8,
   "metadata": {},
   "outputs": [
    {
     "data": {
      "text/plain": [
       "[tensor(3)]"
      ]
     },
     "execution_count": 8,
     "metadata": {},
     "output_type": "execute_result"
    }
   ],
   "source": [
    "couplingvars = [elt for elt in sequential.structure[0] if elt in sequential.structure[1]]\n",
    "couplingvars"
   ]
  },
  {
   "cell_type": "code",
   "execution_count": 9,
   "metadata": {},
   "outputs": [],
   "source": [
    "residuals = ParallelAnalysis([sequential],[], sharedvars=couplingvars)"
   ]
  },
  {
   "cell_type": "code",
   "execution_count": 10,
   "metadata": {},
   "outputs": [],
   "source": [
    "x0 = torch.tensor([1,2,3,0,5,0,0], dtype=torch.float64)"
   ]
  },
  {
   "cell_type": "code",
   "execution_count": 11,
   "metadata": {},
   "outputs": [
    {
     "data": {
      "text/plain": [
       "tensor([ 1.,  1.,  4., -3.,  1.,  3.,  4.], dtype=torch.float64)"
      ]
     },
     "execution_count": 11,
     "metadata": {},
     "output_type": "execute_result"
    }
   ],
   "source": [
    "sequential(x0)"
   ]
  },
  {
   "cell_type": "code",
   "execution_count": 12,
   "metadata": {},
   "outputs": [
    {
     "data": {
      "text/plain": [
       "tensor([-3.], dtype=torch.float64)"
      ]
     },
     "execution_count": 12,
     "metadata": {},
     "output_type": "execute_result"
    }
   ],
   "source": [
    "residuals(x0)"
   ]
  },
  {
   "cell_type": "code",
   "execution_count": 13,
   "metadata": {},
   "outputs": [
    {
     "data": {
      "text/plain": [
       "tensor([0, 3])"
      ]
     },
     "execution_count": 13,
     "metadata": {},
     "output_type": "execute_result"
    }
   ],
   "source": [
    "sequential.structure[0]"
   ]
  }
 ],
 "metadata": {
  "kernelspec": {
   "display_name": "Python 3 (ipykernel)",
   "language": "python",
   "name": "python3"
  },
  "language_info": {
   "codemirror_mode": {
    "name": "ipython",
    "version": 3
   },
   "file_extension": ".py",
   "mimetype": "text/x-python",
   "name": "python",
   "nbconvert_exporter": "python",
   "pygments_lexer": "ipython3",
   "version": "3.9.18"
  }
 },
 "nbformat": 4,
 "nbformat_minor": 4
}
