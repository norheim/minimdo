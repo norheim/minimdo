{
 "cells": [
  {
   "cell_type": "code",
   "execution_count": 1,
   "metadata": {},
   "outputs": [],
   "source": [
    "import torch\n",
    "import numpy as np\n",
    "from graph.matrixview import render_incidence\n",
    "from engine.torchengine import AnalyticalSetSympy, EliminateAnalysisMergeResiduals, EliminateAnalysis, FunctionSympy,get_analysis_structure, ElimResidual, ParallelResiduals, ParallelAnalysis, ipoptsolvercon\n",
    "from engine.torchdata import load_file, process_expression, load_vals, generate_optim_functions, print_formatted_table, perturb\n",
    "from engine.loaddata import process_json\n",
    "import json\n",
    "# Set the print options\n",
    "np.set_printoptions(formatter={'float': lambda x: \"{:0.2f}\".format(x).rstrip('0').rstrip('.')})"
   ]
  },
  {
   "cell_type": "code",
   "execution_count": 2,
   "metadata": {},
   "outputs": [],
   "source": [
    "data = load_file('testproblems')\n",
    "problem_id = 0\n",
    "_, fdata = list(data.items())[problem_id]\n",
    "polynomials, indices, edges, objective = process_json(fdata)\n",
    "idxrev = {var.item():key for key,var in indices.items()}"
   ]
  },
  {
   "cell_type": "code",
   "execution_count": 3,
   "metadata": {},
   "outputs": [],
   "source": [
    "def runproblem(problem_id, xs=None, delta=0.1, seed=42):\n",
    "    _, fdata = list(data.items())[problem_id]\n",
    "    polynomials, indices, edges, objective = process_json(fdata)\n",
    "\n",
    "    sets = {idx:AnalyticalSetSympy(poly, indices=indices).reassign(edges[1][idx][0],  rational=True) for idx,poly in polynomials.items()}\n",
    "    objective = FunctionSympy(objective, indices)\n",
    "\n",
    "    analyses = {key: s.analysis for key,s in sets.items()}\n",
    "    residuals = {key: s.residual for key,s in sets.items()}\n",
    "    order = list(sorted(analyses.keys()))\n",
    "    A, B = [], order\n",
    "    # Merge residuals only\n",
    "    solvefor = torch.tensor([])\n",
    "    R = EliminateAnalysisMergeResiduals(functions=[residuals[idx] for idx in B])\n",
    "    P = EliminateAnalysis([analyses[idx] for idx in A], [objective,R])\n",
    "    objective_idx,residual_idx,equality_idx,inequality_idx = 0,1,None,None\n",
    "    optim_indices = P.structure[0]\n",
    "    x0 = perturb(xs, delta, optim_indices, seed=seed)\n",
    "    # MAKE SURE TO SET INEQUALITY DIRECTION, it is different for scipy and ipopt\n",
    "    xguess, obj_function, ineq_function, eq_function, dobj, dineq, deq, hobj = generate_optim_functions(P,\n",
    "        optim_indices, x0, inequality_direction='negative-null', \n",
    "        objective=objective_idx, residuals=residual_idx, equalities=equality_idx)\n",
    "    bnds_problem = [(None, None) for elt in optim_indices]\n",
    "    xsol, info,storeiter,elapsed_time = ipoptsolvercon(xguess, obj_function, ineq_function, eq_function, dobj, dineq, deq, bnds_problem)\n",
    "    return x0, storeiter,elapsed_time"
   ]
  },
  {
   "cell_type": "code",
   "execution_count": 4,
   "metadata": {},
   "outputs": [],
   "source": [
    "#x0 = 10*torch.rand(len(indices), dtype=torch.float64)\n",
    "name = 'results_polyid_{}'.format(str(problem_id))\n",
    "x0 = load_vals(name, indices)"
   ]
  },
  {
   "cell_type": "code",
   "execution_count": 27,
   "metadata": {},
   "outputs": [
    {
     "data": {
      "text/plain": [
       "[3.226907253265381,\n",
       " 4.210253477096558,\n",
       " 4.364189147949219,\n",
       " 1.0704982280731201,\n",
       " 6.143305063247681,\n",
       " 35.00159454345703,\n",
       " 1.4696159362792969,\n",
       " 2.564591407775879,\n",
       " 57.342629194259644,\n",
       " 6.060227155685425]"
      ]
     },
     "execution_count": 27,
     "metadata": {},
     "output_type": "execute_result"
    }
   ],
   "source": [
    "#seeds = np.random.randint(0,100,10)\n",
    "seeds = [59, 45, 22, 20, 28, 57,  2, 42, 27, 37]\n",
    "elapsed_times"
   ]
  },
  {
   "cell_type": "code",
   "execution_count": 29,
   "metadata": {},
   "outputs": [
    {
     "data": {
      "text/plain": [
       "[0.5990188121795654,\n",
       " 0.4559154510498047,\n",
       " 0.7027161121368408,\n",
       " 0.6225996017456055,\n",
       " 0.5252225399017334,\n",
       " 0.5669839382171631,\n",
       " 1.1671006679534912,\n",
       " 0.709972620010376,\n",
       " 0.9275097846984863,\n",
       " 1.0665693283081055]"
      ]
     },
     "execution_count": 29,
     "metadata": {},
     "output_type": "execute_result"
    }
   ],
   "source": [
    "elapsed_times"
   ]
  },
  {
   "cell_type": "code",
   "execution_count": 28,
   "metadata": {},
   "outputs": [],
   "source": [
    "iters, elapsed_times = [],[]\n",
    "for seed in seeds:\n",
    "    xsol, storeiter,elapsed_time = runproblem(0, x0, delta=1, seed=seed)\n",
    "    iters.append(storeiter)\n",
    "    elapsed_times.append(elapsed_time)"
   ]
  },
  {
   "cell_type": "code",
   "execution_count": 29,
   "metadata": {},
   "outputs": [
    {
     "name": "stdout",
     "output_type": "stream",
     "text": [
      "x_0 x_1 x_2 x_3    x_4   x_5 x_6    x_7 x_8  x_9   x_10  x_11   x_12 x_13 x_14 \n",
      "1   1   4   -2.267 6.992 1   -0.042 1   2.48 -1.27 -0.45 -2.083 1    -6.5 2.482\n"
     ]
    }
   ],
   "source": [
    "print_formatted_table([xsol], indices, idxrev)"
   ]
  },
  {
   "cell_type": "code",
   "execution_count": 21,
   "metadata": {},
   "outputs": [],
   "source": [
    "results = {str(key):xsol[val].item() for key,val in indices.items()}"
   ]
  },
  {
   "cell_type": "code",
   "execution_count": 22,
   "metadata": {},
   "outputs": [],
   "source": [
    "name = 'results_polyid_{}.json'.format(str(problem_id))\n",
    "json_string = json.dumps(results, indent=4)\n",
    "with open('../applications/data/{}'.format(name), 'w') as file:\n",
    "    file.write(json_string)\n"
   ]
  }
 ],
 "metadata": {
  "kernelspec": {
   "display_name": "minimdo",
   "language": "python",
   "name": "python3"
  },
  "language_info": {
   "codemirror_mode": {
    "name": "ipython",
    "version": 3
   },
   "file_extension": ".py",
   "mimetype": "text/x-python",
   "name": "python",
   "nbconvert_exporter": "python",
   "pygments_lexer": "ipython3",
   "version": "3.9.18"
  }
 },
 "nbformat": 4,
 "nbformat_minor": 2
}
