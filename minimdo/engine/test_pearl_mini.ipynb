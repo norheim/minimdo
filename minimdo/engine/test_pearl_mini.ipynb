{
 "cells": [
  {
   "cell_type": "code",
   "execution_count": 1,
   "metadata": {},
   "outputs": [],
   "source": [
    "from engine.torchengine import AnalyticalSetSympy, FunctionSympy, EliminateAnalysisMergeResiduals, EliminateAnalysis, get_analysis_structure\n",
    "from engine.torchdata import symbols, sp, load_vals, generate_optim_functions, load_file, print_formatted_table\n",
    "import torch\n",
    "from scipy.optimize import minimize\n",
    "import numpy as np\n",
    "from collections import namedtuple\n",
    "import cyipopt\n",
    "import json\n",
    "np.set_printoptions(formatter={'float': lambda x: \"{:0.2f}\".format(x).rstrip('0').rstrip('.')})"
   ]
  },
  {
   "cell_type": "code",
   "execution_count": 7,
   "metadata": {},
   "outputs": [],
   "source": [
    "alpha, d, A_solar, D_f, D_d, D_s, h_f, t_s, t_f, t_d, rho, rho_h, rho_w,V_d,g,F_B,F_W, m_platform,eta_solar, m_solar, m_struct, indices = symbols('alpha, d, A_solar, D_f, D_d, D_s, h_f, t_s, t_f, t_d, rho, rho_h, rho_w,V_d,g,F_B,F_W, m_platform,eta_solar, m_solar, m_struct')\n",
    "idxrev = {var.item():key for key,var in indices.items()}"
   ]
  },
  {
   "cell_type": "code",
   "execution_count": 46,
   "metadata": {},
   "outputs": [],
   "source": [
    "sets = {\n",
    "    0: AnalyticalSetSympy(alpha*D_f, d, indices),\n",
    "    1: AnalyticalSetSympy((1-alpha)*sp.pi*(D_f/2)**2, A_solar, indices),\n",
    "    2: AnalyticalSetSympy(sp.pi/4*(D_f**2*h_f+D_s**2*t_s+D_d**2*t_d), V_d, indices),\n",
    "    3: AnalyticalSetSympy(rho_w*V_d*g/1000, F_B, indices),\n",
    "    4: AnalyticalSetSympy(F_B, F_W, indices),\n",
    "    5: AnalyticalSetSympy(F_W*1000/g, m_platform, indices),\n",
    "    6: AnalyticalSetSympy(eta_solar*A_solar, m_solar, indices),\n",
    "    7: AnalyticalSetSympy(m_platform - m_solar, m_struct, indices),\n",
    "    8: AnalyticalSetSympy((4/sp.pi*m_struct - D_f**2*t_f*rho - D_s**2*t_s*rho)/(D_d**2*rho_h), t_d, indices)\n",
    "}"
   ]
  },
  {
   "cell_type": "code",
   "execution_count": 47,
   "metadata": {},
   "outputs": [],
   "source": [
    "equality_constraints = EliminateAnalysisMergeResiduals()\n",
    "inequality_constraints = EliminateAnalysisMergeResiduals(functions=[\n",
    "    FunctionSympy(h_f-0.9*t_f, indices),\n",
    "    FunctionSympy(D_s-0.9*D_f, indices),\n",
    "    FunctionSympy(D_s-0.9*D_d, indices)])\n",
    "objective = FunctionSympy(m_platform, indices)"
   ]
  },
  {
   "cell_type": "code",
   "execution_count": 48,
   "metadata": {},
   "outputs": [],
   "source": [
    "order = list(sorted(sets.keys()))\n",
    "A = []\n",
    "B = [elt for elt in order if elt not in A]\n",
    "analyses = {key: s.analysis for key,s in sets.items()}\n",
    "residuals = {key: s.residual for key,s in sets.items()}\n",
    "\n",
    "# # Elimination option\n",
    "# order = list(sorted(sets.keys()))\n",
    "# structure_in, structure_out, full_structure = get_analysis_structure(\n",
    "#     [sets[idx].analysis.structure_full for idx in order])\n",
    "# feedback = {int(elt) for elt in structure_in}.intersection({int(elt) for elt in structure_out})\n",
    "# A = [elt for elt in order if int(sets[elt].analysis.structure[1]) not in feedback]\n",
    "# B = [elt for elt in order if elt not in A]\n",
    "# new_order = A+B\n",
    "# analyses = {key: s.analysis for key,s in sets.items()}\n",
    "# residuals = {key: s.residual for key,s in sets.items()}"
   ]
  },
  {
   "cell_type": "code",
   "execution_count": 49,
   "metadata": {},
   "outputs": [],
   "source": [
    "# Merge residuals only\n",
    "R = EliminateAnalysisMergeResiduals(functions=[residuals[idx] for idx in B])\n",
    "P = EliminateAnalysis([analyses[idx] for idx in A], [objective,R,equality_constraints,inequality_constraints])\n",
    "objective_idx,residual_idx,equality_idx,inequality_idx = 0,1,2,3"
   ]
  },
  {
   "cell_type": "code",
   "execution_count": 50,
   "metadata": {},
   "outputs": [],
   "source": [
    "x0 = load_vals('pearl_params', indices=indices)\n",
    "x0 = load_vals('results', indices=indices, x0=x0)"
   ]
  },
  {
   "cell_type": "code",
   "execution_count": 51,
   "metadata": {},
   "outputs": [
    {
     "data": {
      "text/plain": [
       "[array([0]),\n",
       " array([0.01, 0.01, 0, 0, 0, 0, 0, 0, -0.31]),\n",
       " array([], dtype=float32),\n",
       " array([-0.56, -0.01, -0.01])]"
      ]
     },
     "execution_count": 51,
     "metadata": {},
     "output_type": "execute_result"
    }
   ],
   "source": [
    "[np.round(elt.numpy(),7) for elt in P(x0)]"
   ]
  },
  {
   "cell_type": "code",
   "execution_count": 52,
   "metadata": {},
   "outputs": [],
   "source": [
    "optim_indices = P.structure[0]\n",
    "p = load_file('pearl_params')\n",
    "pindices = [val for key,val in indices.items() if str(key) in p.keys()]\n",
    "optim_indices = torch.tensor([idx for idx in P.structure[0] if idx not in pindices])"
   ]
  },
  {
   "cell_type": "code",
   "execution_count": 57,
   "metadata": {},
   "outputs": [],
   "source": [
    "# MAKE SURE TO SET INEQUALITY DIRECTION, it is different for scipy and ipopt\n",
    "xguess, obj_function, ineq_function, eq_function, dobj, dineq, deq = generate_optim_functions(P,\n",
    "    optim_indices, x0, inequality_direction='negative-null', \n",
    "    objective=objective_idx, residuals=residual_idx, equalities=equality_idx, inequalities=inequality_idx)\n",
    "ineqlen = len(ineq_function(xguess))\n",
    "eqlen = len(eq_function(xguess))\n",
    "constraints = [{'type': 'eq', 'fun': eq_function, 'jac': deq}] if eqlen >= 1 else []\n",
    "constraints.append({'type': 'ineq', 'fun': ineq_function, 'jac': dineq}) if ineqlen >= 1 else []\n",
    "bounds = {\n",
    "    'D_f': (0.1,10),\n",
    "    'D_d': (0.1,10),\n",
    "    'D_s': (0.1,10),\n",
    "    't_s': (0.1,10),\n",
    "    't_d': (0.1,10),\n",
    "    't_f': (0.1,10),\n",
    "    'h_f': (0.1,10)\n",
    "}\n",
    "bnds_problem = [bounds.get(str(idxrev[elt.item()]), (0, None)) for elt in optim_indices]"
   ]
  },
  {
   "cell_type": "code",
   "execution_count": 58,
   "metadata": {},
   "outputs": [
    {
     "data": {
      "text/plain": [
       "[(m_platform, 7.022616011390322),\n",
       " (D_f, 0.11111111085640367),\n",
       " (d, 0.0055555555428201675),\n",
       " (A_solar, 0.009211459898849092),\n",
       " (D_d, 0.11111111112688439),\n",
       " (D_s, 0.1),\n",
       " (V_d, 0.0070226160113903285),\n",
       " (h_f, 0.1),\n",
       " (t_d, 0.10000000001439217),\n",
       " (t_s, 0.6472336623620831),\n",
       " (F_B, 0.06882163691162516),\n",
       " (F_W, 0.06882163691162516),\n",
       " (m_solar, 0.09211459898849092),\n",
       " (m_struct, 6.930501412401831),\n",
       " (t_f, 0.11111111372185745)]"
      ]
     },
     "execution_count": 58,
     "metadata": {},
     "output_type": "execute_result"
    }
   ],
   "source": [
    "[(idxrev[elt.item()],xguess[idx]) for idx,elt in enumerate(optim_indices)]"
   ]
  },
  {
   "cell_type": "code",
   "execution_count": 55,
   "metadata": {},
   "outputs": [],
   "source": [
    "# Solve the optimization problem\n",
    "xsol = minimize(obj_function, xguess, bounds=bnds_problem, jac=dobj, \n",
    "                constraints=constraints, options={'maxiter': 500}, method='SLSQP')"
   ]
  },
  {
   "cell_type": "code",
   "execution_count": 56,
   "metadata": {},
   "outputs": [
    {
     "data": {
      "text/plain": [
       " message: Optimization terminated successfully\n",
       " success: True\n",
       "  status: 0\n",
       "     fun: 7.022616011390322\n",
       "       x: [ 7.023e+00  1.111e-01 ...  6.931e+00  1.111e-01]\n",
       "     nit: 5\n",
       "     jac: [ 1.000e+00  0.000e+00 ...  0.000e+00  0.000e+00]\n",
       "    nfev: 5\n",
       "    njev: 5"
      ]
     },
     "execution_count": 56,
     "metadata": {},
     "output_type": "execute_result"
    }
   ],
   "source": [
    "xsol"
   ]
  },
  {
   "cell_type": "code",
   "execution_count": 59,
   "metadata": {},
   "outputs": [],
   "source": [
    "def all_constraints(x):\n",
    "    return np.concatenate([ineq_function(x), eq_function(x)])\n",
    "\n",
    "def all_constraints_jac(x):\n",
    "    if eqlen == 0:\n",
    "        return dineq(x)\n",
    "    return np.concatenate([dineq(x), deq(x)], axis=0)\n",
    "\n",
    "OptProblem = namedtuple('OptProblem', ['objective', 'constraints', 'gradient', 'jacobian', 'intermediate'])\n",
    "\n",
    "lb,ub = zip(*bnds_problem)\n",
    "cl = np.concatenate([-np.inf*np.ones(ineqlen), np.zeros(eqlen)])\n",
    "cu = np.concatenate([np.zeros(ineqlen), np.zeros(eqlen)])\n",
    "\n",
    "storeiter = [0]\n",
    "\n",
    "def logiter(alg_mod, iter_count, obj_value, inf_pr, inf_du, mu, d_norm, regularization_size, alpha_du, alpha_pr, ls_trials):\n",
    "    storeiter[0] = iter_count\n",
    "\n",
    "# define the problem\n",
    "probinfo = OptProblem(obj_function, all_constraints, dobj, all_constraints_jac, logiter)\n",
    "\n",
    "prob = cyipopt.Problem(n=len(xguess), m=len(cu), lb=lb, ub=ub, cl=cl, cu=cu, \n",
    "                       problem_obj=probinfo)\n",
    "prob.add_option('max_iter', 8000)"
   ]
  },
  {
   "cell_type": "code",
   "execution_count": 60,
   "metadata": {},
   "outputs": [],
   "source": [
    "xsol, optinfo = prob.solve(xguess)"
   ]
  },
  {
   "cell_type": "code",
   "execution_count": 61,
   "metadata": {},
   "outputs": [
    {
     "data": {
      "text/plain": [
       "{'x': array([7.02, 0.11, 0.01, 0.01, 0.11, 0.1, 0.01, 0.1, 0.1, 0.65, 0.07,\n",
       "        0.07, 0.09, 6.93, 0.11]),\n",
       " 'g': array([0, 0, 0, 0, 0, -0, 0, 0, 0, -0, 0, 0]),\n",
       " 'obj_val': 7.022612219255623,\n",
       " 'mult_g': array([25.14, 11.17, 129.28, -0, 33.33, -2333.33, -238.1, -238.1, -2.33,\n",
       "        3.33, -3.33, -87.27]),\n",
       " 'mult_x_L': array([0, 0, 0, 0, 0, 140.45, 0, 2.51, 64.64, 0, 0, 0, 0, 0, 0]),\n",
       " 'mult_x_U': array([0, 0, 0, 0, 0, 0, 0, 0, 0, 0, 0, 0, 0, 0, 0]),\n",
       " 'status': 0,\n",
       " 'status_msg': b'Algorithm terminated successfully at a locally optimal point, satisfying the convergence tolerances (can be specified by options).'}"
      ]
     },
     "execution_count": 61,
     "metadata": {},
     "output_type": "execute_result"
    }
   ],
   "source": [
    "optinfo"
   ]
  },
  {
   "cell_type": "code",
   "execution_count": 62,
   "metadata": {},
   "outputs": [],
   "source": [
    "Aelim = EliminateAnalysis([analyses[idx] for idx in A])\n",
    "yout = Aelim(x0)"
   ]
  },
  {
   "cell_type": "code",
   "execution_count": 63,
   "metadata": {},
   "outputs": [
    {
     "name": "stdout",
     "output_type": "stream",
     "text": [
      "m_platform D_f   d        A_solar  D_d   D_s V_d      h_f t_d t_s   F_B   F_W   m_solar m_struct t_f  \n",
      "7.023      0.111 5.56e-03 9.21e-03 0.111 0.1 7.02e-03 0.1 0.1 0.647 0.069 0.069 0.092   6.93     0.111\n",
      "7.023      0.111 5.56e-03 9.21e-03 0.111 0.1 7.02e-03 0.1 0.1 0.647 0.069 0.069 0.092   6.93     0.111\n"
     ]
    }
   ],
   "source": [
    "print_formatted_table([yout, x0], indices, idxrev, subset=optim_indices)"
   ]
  },
  {
   "cell_type": "code",
   "execution_count": 64,
   "metadata": {},
   "outputs": [],
   "source": [
    "results = {str(idxrev[elt.item()]): yout[elt].item() for elt in optim_indices}"
   ]
  },
  {
   "cell_type": "code",
   "execution_count": 38,
   "metadata": {},
   "outputs": [],
   "source": [
    "name = 'results.json'\n",
    "json_string = json.dumps(results, indent=4)\n",
    "with open('../applications/data/{}'.format(name), 'w') as file:\n",
    "    file.write(json_string)\n"
   ]
  },
  {
   "cell_type": "code",
   "execution_count": null,
   "metadata": {},
   "outputs": [],
   "source": []
  }
 ],
 "metadata": {
  "kernelspec": {
   "display_name": "minimdo",
   "language": "python",
   "name": "python3"
  },
  "language_info": {
   "codemirror_mode": {
    "name": "ipython",
    "version": 3
   },
   "file_extension": ".py",
   "mimetype": "text/x-python",
   "name": "python",
   "nbconvert_exporter": "python",
   "pygments_lexer": "ipython3",
   "version": "3.9.18"
  }
 },
 "nbformat": 4,
 "nbformat_minor": 2
}
