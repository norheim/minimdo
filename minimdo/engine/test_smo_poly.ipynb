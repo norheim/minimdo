{
 "cells": [
  {
   "cell_type": "code",
   "execution_count": 1,
   "metadata": {},
   "outputs": [],
   "source": [
    "import torch\n",
    "import numpy as np\n",
    "from collections import OrderedDict\n",
    "from graph.matrixview import render_incidence\n",
    "from engine.torchengine import AnalyticalSetSympy, EliminateAnalysisMergeResiduals, EliminateAnalysis, FunctionSympy,get_analysis_structure, ElimResidual, ParallelResiduals, ParallelAnalysis, ipoptsolver\n",
    "from engine.torchdata import load_file, process_expression, load_vals, generate_optim_functions, print_formatted_table, perturb\n",
    "from engine.loaddata import process_json\n",
    "from functools import partial\n",
    "from scipy.optimize import minimize\n",
    "from collections import namedtuple\n",
    "import sympy as sp\n",
    "import cyipopt\n",
    "# Set the print options\n",
    "np.set_printoptions(formatter={'float': lambda x: \"{:0.2f}\".format(x).rstrip('0').rstrip('.')})"
   ]
  },
  {
   "cell_type": "code",
   "execution_count": 2,
   "metadata": {},
   "outputs": [],
   "source": [
    "data = load_file('testproblems')\n",
    "problem_id = 0\n",
    "fid, fdata = list(data.items())[problem_id]\n",
    "polynomials, indices, edges, objective = process_json(fdata)\n",
    "idxrev = {var.item():key for key,var in indices.items()}\n",
    "\n",
    "sets = {idx:AnalyticalSetSympy(poly, indices=indices).reassign(edges[1][idx][0],  rational=True) for idx,poly in polynomials.items()}\n",
    "objective = FunctionSympy(objective, indices)"
   ]
  },
  {
   "cell_type": "markdown",
   "metadata": {},
   "source": [
    "## Different ways to define orders"
   ]
  },
  {
   "cell_type": "markdown",
   "metadata": {},
   "source": [
    "### A) Individual"
   ]
  },
  {
   "cell_type": "code",
   "execution_count": 3,
   "metadata": {},
   "outputs": [],
   "source": [
    "analyses = {key: s.analysis for key,s in sets.items()}\n",
    "residuals = {key: s.residual for key,s in sets.items()}"
   ]
  },
  {
   "cell_type": "markdown",
   "metadata": {},
   "source": [
    "### 1) Pure"
   ]
  },
  {
   "cell_type": "code",
   "execution_count": 4,
   "metadata": {},
   "outputs": [],
   "source": [
    "order = list(sorted(analyses.keys()))\n",
    "A, B = [], order"
   ]
  },
  {
   "cell_type": "markdown",
   "metadata": {},
   "source": [
    "### Option 1"
   ]
  },
  {
   "cell_type": "code",
   "execution_count": 50,
   "metadata": {},
   "outputs": [],
   "source": [
    "# Merge residuals only\n",
    "solvefor = torch.tensor([])\n",
    "R = EliminateAnalysisMergeResiduals(functions=[residuals[idx] for idx in B])\n",
    "P = EliminateAnalysis([analyses[idx] for idx in A], [objective,R])\n",
    "objective_idx,residual_idx,equality_idx,inequality_idx = 0,1,None,None"
   ]
  },
  {
   "cell_type": "markdown",
   "metadata": {},
   "source": [
    "### Option 3"
   ]
  },
  {
   "cell_type": "code",
   "execution_count": 17,
   "metadata": {},
   "outputs": [],
   "source": [
    "solvefor = torch.tensor([])\n",
    "T = ParallelResiduals([sets[idx].analysis for idx in B], [objective])\n",
    "P = EliminateAnalysis([sets[idx].analysis for idx in A], [T], flatten=True)\n",
    "objective_idx,residual_idx,equality_idx,inequality_idx = 0,None,1,None"
   ]
  },
  {
   "cell_type": "markdown",
   "metadata": {},
   "source": [
    "### Initial guess"
   ]
  },
  {
   "cell_type": "code",
   "execution_count": 51,
   "metadata": {},
   "outputs": [],
   "source": [
    "optim_indices = P.structure[0]"
   ]
  },
  {
   "cell_type": "code",
   "execution_count": 52,
   "metadata": {},
   "outputs": [],
   "source": [
    "xs = torch.tensor([ 1.0000,  1.0000,  4.0000, -2.2670,  6.9916,  1.0000, -0.0420,  1.0000, 2.4799, -1.2697, -0.4501, -2.0834,  1.0000, -6.5000,  2.4820], dtype=torch.float64)"
   ]
  },
  {
   "cell_type": "code",
   "execution_count": 70,
   "metadata": {},
   "outputs": [],
   "source": [
    "x0 = perturb(xs, 10, optim_indices, seed=12)"
   ]
  },
  {
   "cell_type": "code",
   "execution_count": 71,
   "metadata": {},
   "outputs": [
    {
     "name": "stdout",
     "output_type": "stream",
     "text": [
      "x_0   x_1    x_12    x_5     x_7     x_10   x_11    x_3     x_6    x_8    x_9     x_13    x_4    x_14    x_2   \n",
      "1     1      1       1       1       -0.45  -2.083  -2.267  -0.042 2.48   -1.27   -6.5    6.992  2.482   4     \n",
      "0.932 11.461 -18.108 -11.056 -12.207 -0.351 -12.415 -18.679 0.221  -0.192 -13.951 -16.059 120.17 -20.028 33.664\n"
     ]
    }
   ],
   "source": [
    "print_formatted_table([xs, x0], indices, idxrev, subset=optim_indices)"
   ]
  },
  {
   "cell_type": "markdown",
   "metadata": {},
   "source": [
    "### Optimization"
   ]
  },
  {
   "cell_type": "code",
   "execution_count": 72,
   "metadata": {},
   "outputs": [],
   "source": [
    "# MAKE SURE TO SET INEQUALITY DIRECTION, it is different for scipy and ipopt\n",
    "xguess, obj_function, ineq_function, eq_function, dobj, dineq, deq, hobj = generate_optim_functions(P,\n",
    "    optim_indices, x0, inequality_direction='negative-null', \n",
    "    objective=objective_idx, residuals=residual_idx, equalities=equality_idx)\n",
    "ineqlen, eqlen = len(ineq_function(xguess)), len(eq_function(xguess))\n",
    "constraints = [{'type': 'eq', 'fun': eq_function, 'jac': deq}] if eqlen >= 1 else []\n",
    "bnds_problem = [(None, None) for elt in optim_indices]"
   ]
  },
  {
   "cell_type": "code",
   "execution_count": 73,
   "metadata": {},
   "outputs": [
    {
     "data": {
      "text/plain": [
       "(array([-10.94, -5.7, -34.63, 6.43, -12.52, 1269.7, -3.03, 2.97, -12.6,\n",
       "        52.19]),\n",
       " array([], dtype=float32),\n",
       " 794.3021034745311)"
      ]
     },
     "execution_count": 73,
     "metadata": {},
     "output_type": "execute_result"
    }
   ],
   "source": [
    "eq_function(xguess).numpy(), ineq_function(xguess).numpy(), obj_function(xguess)"
   ]
  },
  {
   "cell_type": "markdown",
   "metadata": {},
   "source": [
    "# IPOPT"
   ]
  },
  {
   "cell_type": "code",
   "execution_count": 74,
   "metadata": {},
   "outputs": [],
   "source": [
    "def all_constraints(x):\n",
    "    return np.concatenate([ineq_function(x), eq_function(x)])\n",
    "\n",
    "def all_constraints_jac(x):\n",
    "    if eqlen == 0:\n",
    "        if ineqlen != 0:\n",
    "            return dineq(x)\n",
    "        else:\n",
    "            return np.tensor([])\n",
    "    elif ineqlen == 0:\n",
    "        return deq(x)\n",
    "    return np.concatenate([dineq(x), deq(x)], axis=0)\n",
    "\n",
    "OptProblem = namedtuple('OptProblem', ['objective', 'constraints', 'gradient', 'jacobian', 'intermediate'])\n",
    "\n",
    "lb,ub = zip(*bnds_problem)\n",
    "cl = np.concatenate([-np.inf*np.ones(ineqlen), np.zeros(eqlen)])\n",
    "cu = np.concatenate([np.zeros(ineqlen), np.zeros(eqlen)])\n",
    "\n",
    "storeiter = [0]\n",
    "\n",
    "def logiter(alg_mod, iter_count, obj_value, inf_pr, inf_du, mu, d_norm, regularization_size, alpha_du, alpha_pr, ls_trials):\n",
    "    storeiter[0] = iter_count\n",
    "\n",
    "# define the problem\n",
    "probinfo = OptProblem(obj_function, all_constraints, dobj, all_constraints_jac, logiter)\n",
    "\n",
    "prob = cyipopt.Problem(n=len(xguess), m=len(cu), lb=lb, ub=ub, cl=cl, cu=cu, \n",
    "                       problem_obj=probinfo)\n",
    "prob.add_option('max_iter', 8000)\n",
    "#prob.add_option('acceptable_tol', 1e-6)"
   ]
  },
  {
   "cell_type": "code",
   "execution_count": 75,
   "metadata": {},
   "outputs": [],
   "source": [
    "xsol, optinfo = prob.solve(xguess)"
   ]
  },
  {
   "cell_type": "code",
   "execution_count": 76,
   "metadata": {},
   "outputs": [
    {
     "data": {
      "text/plain": [
       "[75]"
      ]
     },
     "execution_count": 76,
     "metadata": {},
     "output_type": "execute_result"
    }
   ],
   "source": [
    "storeiter"
   ]
  },
  {
   "cell_type": "code",
   "execution_count": 77,
   "metadata": {},
   "outputs": [
    {
     "name": "stdout",
     "output_type": "stream",
     "text": [
      "x_0 x_1 x_12 x_5 x_7 x_10  x_11   x_3    x_6    x_8  x_9   x_13 x_4   x_14  x_2\n",
      "1   1   1    1   1   -0.45 -2.083 -2.267 -0.042 2.48 -1.27 -6.5 6.992 2.482 4  \n"
     ]
    }
   ],
   "source": [
    "print_formatted_table([x0], indices, idxrev, subset=optim_indices)"
   ]
  },
  {
   "cell_type": "code",
   "execution_count": 78,
   "metadata": {},
   "outputs": [
    {
     "data": {
      "text/plain": [
       "[(x_11, 5*x_10*x_7/3 - 4/3),\n",
       " (x_8, 3*(-3*x_6 - 2)/(x_12*x_3)),\n",
       " (x_6, (5*x_0 - 6)/(9*x_11*x_9)),\n",
       " (x_13, -2*x_0*x_5 - 9/2),\n",
       " (x_4, (-x_8 - 2/3)/x_10),\n",
       " (x_14, 4*(-x_1*x_3*x_9 - 1)/(3*x_11)),\n",
       " (x_9, 4/(7*x_10)),\n",
       " (x_2, 4),\n",
       " (x_10, 3*(1 - 3*x_3)/(8*x_13)),\n",
       " (x_3, (3*x_14 + 2)/(2*x_11))]"
      ]
     },
     "execution_count": 78,
     "metadata": {},
     "output_type": "execute_result"
    }
   ],
   "source": [
    "[(sets[elt].outputvar, sets[elt].expression) for elt in B]"
   ]
  },
  {
   "cell_type": "code",
   "execution_count": 79,
   "metadata": {},
   "outputs": [
    {
     "name": "stdout",
     "output_type": "stream",
     "text": [
      "x_0 x_1 x_12 x_5 x_7 x_10  x_11   x_3    x_6    x_8  x_9   x_13 x_4   x_14  x_2\n",
      "1   1   1    1   1   -0.45 -2.083 -2.267 -0.042 2.48 -1.27 -6.5 6.992 2.482 4  \n"
     ]
    }
   ],
   "source": [
    "print_formatted_table([sets[9].analysis(x0).detach().numpy()], indices, idxrev, subset=optim_indices)"
   ]
  },
  {
   "cell_type": "markdown",
   "metadata": {},
   "source": [
    "### Save results"
   ]
  },
  {
   "cell_type": "code",
   "execution_count": 82,
   "metadata": {},
   "outputs": [],
   "source": [
    "import json"
   ]
  },
  {
   "cell_type": "code",
   "execution_count": null,
   "metadata": {},
   "outputs": [],
   "source": [
    "name = 'results.json'\n",
    "json_string = json.dumps(results, indent=4)\n",
    "with open('../applications/data/{}'.format(name), 'w') as file:\n",
    "    file.write(json_string)\n"
   ]
  }
 ],
 "metadata": {
  "kernelspec": {
   "display_name": "minimdo",
   "language": "python",
   "name": "python3"
  },
  "language_info": {
   "codemirror_mode": {
    "name": "ipython",
    "version": 3
   },
   "file_extension": ".py",
   "mimetype": "text/x-python",
   "name": "python",
   "nbconvert_exporter": "python",
   "pygments_lexer": "ipython3",
   "version": "3.9.18"
  }
 },
 "nbformat": 4,
 "nbformat_minor": 2
}
