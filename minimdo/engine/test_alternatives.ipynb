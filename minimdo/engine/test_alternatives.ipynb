{
 "cells": [
  {
   "cell_type": "code",
   "execution_count": 1,
   "metadata": {},
   "outputs": [],
   "source": [
    "import sys, os\n",
    "notebook_dir = os.path.dirname(os.path.abspath(\"__file__\"))\n",
    "sys.path+=[notebook_dir+'\\\\engine']"
   ]
  },
  {
   "cell_type": "code",
   "execution_count": 35,
   "metadata": {},
   "outputs": [],
   "source": [
    "from torchengine import AnalyticalSet, EliminateAnalysis\n",
    "from torchdata import generate_indices\n",
    "import torch"
   ]
  },
  {
   "cell_type": "code",
   "execution_count": 5,
   "metadata": {},
   "outputs": [],
   "source": [
    "indices = generate_indices(['a','b','x','y','z'])"
   ]
  },
  {
   "cell_type": "code",
   "execution_count": 12,
   "metadata": {},
   "outputs": [],
   "source": [
    "x0 = torch.ones(5, dtype=torch.float64)"
   ]
  },
  {
   "cell_type": "markdown",
   "metadata": {},
   "source": [
    "### One n=3 discipline"
   ]
  },
  {
   "cell_type": "code",
   "execution_count": 47,
   "metadata": {},
   "outputs": [],
   "source": [
    "def full_discipline(a,b):\n",
    "    x = a+b     # a+b-x   =0\n",
    "    z = a-b     # a-b-z   =0\n",
    "    y = x**2+z  # x^2+z-y =0\n",
    "    return x,y,z\n",
    "\n",
    "S1 = AnalyticalSet((('a','b'), ('x','y','z'), full_discipline), indices)"
   ]
  },
  {
   "cell_type": "code",
   "execution_count": 48,
   "metadata": {},
   "outputs": [
    {
     "data": {
      "text/plain": [
       "tensor([1., 1., 2., 4., 0.], dtype=torch.float64)"
      ]
     },
     "execution_count": 48,
     "metadata": {},
     "output_type": "execute_result"
    }
   ],
   "source": [
    "S1.analysis(x0)"
   ]
  },
  {
   "cell_type": "markdown",
   "metadata": {},
   "source": [
    "### n=2 + n=1 discipline"
   ]
  },
  {
   "cell_type": "code",
   "execution_count": 49,
   "metadata": {},
   "outputs": [],
   "source": [
    "A2 = AnalyticalSet((('a','b'), ('x','z'), lambda a,b: [a+b,a-b]), indices)\n",
    "A1 = AnalyticalSet((('x','z'), ('y',), lambda x,z: x**2+z), indices)\n",
    "S2 = EliminateAnalysis([A2.analysis, A1.analysis])"
   ]
  },
  {
   "cell_type": "code",
   "execution_count": 50,
   "metadata": {},
   "outputs": [
    {
     "data": {
      "text/plain": [
       "tensor([1., 1., 2., 4., 0.], dtype=torch.float64)"
      ]
     },
     "execution_count": 50,
     "metadata": {},
     "output_type": "execute_result"
    }
   ],
   "source": [
    "S2(x0)"
   ]
  },
  {
   "cell_type": "markdown",
   "metadata": {},
   "source": [
    "### Three n=1 disciplines"
   ]
  },
  {
   "cell_type": "code",
   "execution_count": 51,
   "metadata": {},
   "outputs": [],
   "source": [
    "A1 = AnalyticalSet((('a','b'), ('x',), lambda a,b: a+b), indices)\n",
    "A2 = AnalyticalSet((('a','b'), ('z',), lambda a,b: a-b), indices)\n",
    "A3 = AnalyticalSet((('x','z'), ('y',), lambda x,z: x**2+z), indices)\n",
    "S3 = EliminateAnalysis([A1.analysis, A2.analysis, A3.analysis])"
   ]
  },
  {
   "cell_type": "code",
   "execution_count": 52,
   "metadata": {},
   "outputs": [
    {
     "data": {
      "text/plain": [
       "tensor([1., 1., 2., 4., 0.], dtype=torch.float64)"
      ]
     },
     "execution_count": 52,
     "metadata": {},
     "output_type": "execute_result"
    }
   ],
   "source": [
    "S3(x0)"
   ]
  }
 ],
 "metadata": {
  "kernelspec": {
   "display_name": "minimdo",
   "language": "python",
   "name": "python3"
  },
  "language_info": {
   "codemirror_mode": {
    "name": "ipython",
    "version": 3
   },
   "file_extension": ".py",
   "mimetype": "text/x-python",
   "name": "python",
   "nbconvert_exporter": "python",
   "pygments_lexer": "ipython3",
   "version": "3.9.18"
  }
 },
 "nbformat": 4,
 "nbformat_minor": 2
}
