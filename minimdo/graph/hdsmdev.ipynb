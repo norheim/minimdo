{
 "cells": [
  {
   "cell_type": "code",
   "execution_count": 1,
   "id": "5e780fe4-9e63-401a-91cc-70611eb6b255",
   "metadata": {
    "execution": {
     "iopub.execute_input": "2022-06-21T23:29:32.521805Z",
     "iopub.status.busy": "2022-06-21T23:29:32.521608Z",
     "iopub.status.idle": "2022-06-21T23:29:34.540868Z",
     "shell.execute_reply": "2022-06-21T23:29:34.540868Z",
     "shell.execute_reply.started": "2022-06-21T23:29:32.521805Z"
    },
    "tags": []
   },
   "outputs": [],
   "source": [
    "from utils.polycasebuilder import generate_random_polynomials, directed_poly_executables\n",
    "from utils.testproblems import generate_random_prob\n",
    "from graph.matrixview import render_incidence"
   ]
  },
  {
   "cell_type": "code",
   "execution_count": 2,
   "id": "6e29feb6-85ab-475a-a839-8435b79a3b6a",
   "metadata": {
    "execution": {
     "iopub.execute_input": "2022-06-21T23:29:34.540868Z",
     "iopub.status.busy": "2022-06-21T23:29:34.540868Z",
     "iopub.status.idle": "2022-06-21T23:29:34.981734Z",
     "shell.execute_reply": "2022-06-21T23:29:34.980758Z",
     "shell.execute_reply.started": "2022-06-21T23:29:34.540868Z"
    },
    "tags": []
   },
   "outputs": [
    {
     "ename": "KeyError",
     "evalue": "0",
     "output_type": "error",
     "traceback": [
      "\u001b[1;31m---------------------------------------------------------------------------\u001b[0m",
      "\u001b[1;31mKeyError\u001b[0m                                  Traceback (most recent call last)",
      "Input \u001b[1;32mIn [2]\u001b[0m, in \u001b[0;36m<cell line: 5>\u001b[1;34m()\u001b[0m\n\u001b[0;32m      1\u001b[0m n_eqs, n_vars, seed, sparsity \u001b[38;5;241m=\u001b[39m \u001b[38;5;241m6\u001b[39m, \u001b[38;5;241m8\u001b[39m, \u001b[38;5;241m8\u001b[39m, \u001b[38;5;241m0.8\u001b[39m\n\u001b[0;32m      2\u001b[0m \u001b[38;5;66;03m# add a slider for the seed\u001b[39;00m\n\u001b[0;32m      3\u001b[0m \u001b[38;5;66;03m#seed 8 is triang, 10 is nice 42\u001b[39;00m\n\u001b[0;32m      4\u001b[0m \u001b[38;5;66;03m#try sparsity 0.8 1.1 1.7 1.3\u001b[39;00m\n\u001b[1;32m----> 5\u001b[0m eqv, varinc, dout \u001b[38;5;241m=\u001b[39m \u001b[43mgenerate_random_prob\u001b[49m\u001b[43m(\u001b[49m\u001b[43mn_eqs\u001b[49m\u001b[43m,\u001b[49m\u001b[43m \u001b[49m\u001b[43mn_vars\u001b[49m\u001b[43m,\u001b[49m\u001b[43m \u001b[49m\u001b[43mseed\u001b[49m\u001b[43m,\u001b[49m\u001b[43m \u001b[49m\u001b[43msparsity\u001b[49m\u001b[43m)\u001b[49m\n\u001b[0;32m      6\u001b[0m polynomials, var_mapping, edges, tree \u001b[38;5;241m=\u001b[39m generate_random_polynomials(eqv, dout, n_eqs)\n\u001b[0;32m      7\u001b[0m \u001b[38;5;66;03m# components = directed_poly_executables(var_mapping, polynomials, dout)\u001b[39;00m\n",
      "File \u001b[1;32mc:\\Users\\johan\\github\\minimdo\\minimdo\\utils\\testproblems.py:37\u001b[0m, in \u001b[0;36mgenerate_random_prob\u001b[1;34m(n_eqs, n_vars, seed, sparsity, independent_of_n)\u001b[0m\n\u001b[0;32m     34\u001b[0m revMfull \u001b[38;5;241m=\u001b[39m {val: key \u001b[38;5;28;01mfor\u001b[39;00m key,val \u001b[38;5;129;01min\u001b[39;00m Mfull\u001b[38;5;241m.\u001b[39mitems()}\n\u001b[0;32m     36\u001b[0m eqv \u001b[38;5;241m=\u001b[39m {elt: \u001b[38;5;28mtuple\u001b[39m(\u001b[38;5;28mmap\u001b[39m(\u001b[38;5;28;01mlambda\u001b[39;00m key: revMfull[key], G[elt])) \u001b[38;5;28;01mfor\u001b[39;00m elt \u001b[38;5;129;01min\u001b[39;00m eqids}\n\u001b[1;32m---> 37\u001b[0m varinc \u001b[38;5;241m=\u001b[39m {elt: \u001b[38;5;28mtuple\u001b[39m(\u001b[38;5;28mmap\u001b[39m(\u001b[38;5;28;01mlambda\u001b[39;00m key: revMfull[key], G[elt])) \u001b[38;5;28;01mfor\u001b[39;00m elt \u001b[38;5;129;01min\u001b[39;00m bip_varids}\n\u001b[0;32m     38\u001b[0m \u001b[38;5;66;03m#allowed = copy.deepcopy(eqv)\u001b[39;00m\n\u001b[0;32m     39\u001b[0m \u001b[38;5;28;01mreturn\u001b[39;00m eqv, varinc, {key: key\u001b[38;5;241m+\u001b[39mn_eqs \u001b[38;5;28;01mfor\u001b[39;00m key \u001b[38;5;129;01min\u001b[39;00m M\u001b[38;5;241m.\u001b[39mkeys()}\n",
      "File \u001b[1;32mc:\\Users\\johan\\github\\minimdo\\minimdo\\utils\\testproblems.py:37\u001b[0m, in \u001b[0;36m<dictcomp>\u001b[1;34m(.0)\u001b[0m\n\u001b[0;32m     34\u001b[0m revMfull \u001b[38;5;241m=\u001b[39m {val: key \u001b[38;5;28;01mfor\u001b[39;00m key,val \u001b[38;5;129;01min\u001b[39;00m Mfull\u001b[38;5;241m.\u001b[39mitems()}\n\u001b[0;32m     36\u001b[0m eqv \u001b[38;5;241m=\u001b[39m {elt: \u001b[38;5;28mtuple\u001b[39m(\u001b[38;5;28mmap\u001b[39m(\u001b[38;5;28;01mlambda\u001b[39;00m key: revMfull[key], G[elt])) \u001b[38;5;28;01mfor\u001b[39;00m elt \u001b[38;5;129;01min\u001b[39;00m eqids}\n\u001b[1;32m---> 37\u001b[0m varinc \u001b[38;5;241m=\u001b[39m {elt: \u001b[38;5;28;43mtuple\u001b[39;49m\u001b[43m(\u001b[49m\u001b[38;5;28;43mmap\u001b[39;49m\u001b[43m(\u001b[49m\u001b[38;5;28;43;01mlambda\u001b[39;49;00m\u001b[43m \u001b[49m\u001b[43mkey\u001b[49m\u001b[43m:\u001b[49m\u001b[43m \u001b[49m\u001b[43mrevMfull\u001b[49m\u001b[43m[\u001b[49m\u001b[43mkey\u001b[49m\u001b[43m]\u001b[49m\u001b[43m,\u001b[49m\u001b[43m \u001b[49m\u001b[43mG\u001b[49m\u001b[43m[\u001b[49m\u001b[43melt\u001b[49m\u001b[43m]\u001b[49m\u001b[43m)\u001b[49m\u001b[43m)\u001b[49m \u001b[38;5;28;01mfor\u001b[39;00m elt \u001b[38;5;129;01min\u001b[39;00m bip_varids}\n\u001b[0;32m     38\u001b[0m \u001b[38;5;66;03m#allowed = copy.deepcopy(eqv)\u001b[39;00m\n\u001b[0;32m     39\u001b[0m \u001b[38;5;28;01mreturn\u001b[39;00m eqv, varinc, {key: key\u001b[38;5;241m+\u001b[39mn_eqs \u001b[38;5;28;01mfor\u001b[39;00m key \u001b[38;5;129;01min\u001b[39;00m M\u001b[38;5;241m.\u001b[39mkeys()}\n",
      "File \u001b[1;32mc:\\Users\\johan\\github\\minimdo\\minimdo\\utils\\testproblems.py:37\u001b[0m, in \u001b[0;36mgenerate_random_prob.<locals>.<lambda>\u001b[1;34m(key)\u001b[0m\n\u001b[0;32m     34\u001b[0m revMfull \u001b[38;5;241m=\u001b[39m {val: key \u001b[38;5;28;01mfor\u001b[39;00m key,val \u001b[38;5;129;01min\u001b[39;00m Mfull\u001b[38;5;241m.\u001b[39mitems()}\n\u001b[0;32m     36\u001b[0m eqv \u001b[38;5;241m=\u001b[39m {elt: \u001b[38;5;28mtuple\u001b[39m(\u001b[38;5;28mmap\u001b[39m(\u001b[38;5;28;01mlambda\u001b[39;00m key: revMfull[key], G[elt])) \u001b[38;5;28;01mfor\u001b[39;00m elt \u001b[38;5;129;01min\u001b[39;00m eqids}\n\u001b[1;32m---> 37\u001b[0m varinc \u001b[38;5;241m=\u001b[39m {elt: \u001b[38;5;28mtuple\u001b[39m(\u001b[38;5;28mmap\u001b[39m(\u001b[38;5;28;01mlambda\u001b[39;00m key: \u001b[43mrevMfull\u001b[49m\u001b[43m[\u001b[49m\u001b[43mkey\u001b[49m\u001b[43m]\u001b[49m, G[elt])) \u001b[38;5;28;01mfor\u001b[39;00m elt \u001b[38;5;129;01min\u001b[39;00m bip_varids}\n\u001b[0;32m     38\u001b[0m \u001b[38;5;66;03m#allowed = copy.deepcopy(eqv)\u001b[39;00m\n\u001b[0;32m     39\u001b[0m \u001b[38;5;28;01mreturn\u001b[39;00m eqv, varinc, {key: key\u001b[38;5;241m+\u001b[39mn_eqs \u001b[38;5;28;01mfor\u001b[39;00m key \u001b[38;5;129;01min\u001b[39;00m M\u001b[38;5;241m.\u001b[39mkeys()}\n",
      "\u001b[1;31mKeyError\u001b[0m: 0"
     ]
    }
   ],
   "source": [
    "n_eqs, n_vars, seed, sparsity = 6, 8, 8, 0.8\n",
    "# add a slider for the seed\n",
    "#seed 8 is triang, 10 is nice 42\n",
    "#try sparsity 0.8 1.1 1.7 1.3\n",
    "eqv, varinc, dout = generate_random_prob(n_eqs, n_vars, seed, sparsity)\n",
    "polynomials, var_mapping, edges, tree = generate_random_polynomials(eqv, dout, n_eqs)\n",
    "# components = directed_poly_executables(var_mapping, polynomials, dout)\n",
    "render_incidence(edges, tree, figsize=(3,3), fontsize=14);"
   ]
  },
  {
   "cell_type": "code",
   "execution_count": 3,
   "id": "23dc236b-f976-4beb-bca0-5a3de1ad5289",
   "metadata": {
    "execution": {
     "iopub.execute_input": "2022-06-21T23:29:34.982751Z",
     "iopub.status.busy": "2022-06-21T23:29:34.982751Z",
     "iopub.status.idle": "2022-06-21T23:29:34.996465Z",
     "shell.execute_reply": "2022-06-21T23:29:34.996465Z",
     "shell.execute_reply.started": "2022-06-21T23:29:34.982751Z"
    },
    "tags": []
   },
   "outputs": [],
   "source": [
    "from datastructures.graphutils import (edges_to_Ein_Eout, all_variables, all_components, dfs_tree, \n",
    "end_components, root_solver, solver_children)\n",
    "import numpy as np\n",
    "from datastructures.workflow import order_from_tree, ENDCOMP, COMP\n",
    "from representations import plot_incidence_matrix\n",
    "from collections import OrderedDict, defaultdict"
   ]
  },
  {
   "cell_type": "code",
   "execution_count": 19,
   "id": "d1eb0eb5-0a8e-4aa6-80cf-2959f966a1e4",
   "metadata": {
    "execution": {
     "iopub.execute_input": "2022-06-21T23:29:56.653119Z",
     "iopub.status.busy": "2022-06-21T23:29:56.653119Z",
     "iopub.status.idle": "2022-06-21T23:29:56.670875Z",
     "shell.execute_reply": "2022-06-21T23:29:56.670357Z",
     "shell.execute_reply.started": "2022-06-21T23:29:56.653119Z"
    },
    "tags": []
   },
   "outputs": [],
   "source": [
    "import matplotlib.patches as patches"
   ]
  },
  {
   "cell_type": "code",
   "execution_count": 4,
   "id": "27eb7f0d-b9a0-4212-8dc6-577b37e9dfa9",
   "metadata": {
    "execution": {
     "iopub.execute_input": "2022-06-21T23:29:34.998460Z",
     "iopub.status.busy": "2022-06-21T23:29:34.998460Z",
     "iopub.status.idle": "2022-06-21T23:29:35.012512Z",
     "shell.execute_reply": "2022-06-21T23:29:35.012021Z",
     "shell.execute_reply.started": "2022-06-21T23:29:34.998460Z"
    },
    "tags": []
   },
   "outputs": [],
   "source": [
    "Ein, Eout = edges_to_Ein_Eout(edges)"
   ]
  },
  {
   "cell_type": "code",
   "execution_count": 5,
   "id": "e8a18821-7dd7-46f5-87ee-5db5750649d9",
   "metadata": {
    "execution": {
     "iopub.execute_input": "2022-06-21T23:29:35.013371Z",
     "iopub.status.busy": "2022-06-21T23:29:35.013371Z",
     "iopub.status.idle": "2022-06-21T23:29:35.028383Z",
     "shell.execute_reply": "2022-06-21T23:29:35.028072Z",
     "shell.execute_reply.started": "2022-06-21T23:29:35.013371Z"
    },
    "tags": []
   },
   "outputs": [],
   "source": [
    "Ein[4] = (2,4)\n",
    "Eout[4] = (None,)"
   ]
  },
  {
   "cell_type": "code",
   "execution_count": 6,
   "id": "2653d2b4-1929-4dde-ae38-1801a385a449",
   "metadata": {
    "execution": {
     "iopub.execute_input": "2022-06-21T23:29:35.189991Z",
     "iopub.status.busy": "2022-06-21T23:29:35.189991Z",
     "iopub.status.idle": "2022-06-21T23:29:35.199325Z",
     "shell.execute_reply": "2022-06-21T23:29:35.199045Z",
     "shell.execute_reply.started": "2022-06-21T23:29:35.189991Z"
    },
    "tags": []
   },
   "outputs": [],
   "source": [
    "ntree = (\n",
    "    OrderedDict([(0,1),(1,2),(2,1),(3,2),(4,1),(5,3)]),\n",
    "    {1:3,2:3},\n",
    "    {3:1}\n",
    "     )"
   ]
  },
  {
   "cell_type": "code",
   "execution_count": 7,
   "id": "a2f6a1ab-8722-4f75-ba75-88889d84aac4",
   "metadata": {
    "execution": {
     "iopub.execute_input": "2022-06-21T23:29:35.528192Z",
     "iopub.status.busy": "2022-06-21T23:29:35.528192Z",
     "iopub.status.idle": "2022-06-21T23:29:35.541139Z",
     "shell.execute_reply": "2022-06-21T23:29:35.541139Z",
     "shell.execute_reply.started": "2022-06-21T23:29:35.528192Z"
    },
    "tags": []
   },
   "outputs": [],
   "source": [
    "def sequence_permutation_from_order(order, Ein, Eout, Vtree, Ftree):\n",
    "    Fend = end_components(Eout)\n",
    "    sequence = [fx for _,fx,s in order]\n",
    "    solvefor = Eout.copy() # assumes only one output\n",
    "    f_at_level = {}\n",
    "    for solvevar, solver in Vtree.items():\n",
    "        if solver not in f_at_level:\n",
    "            f_at_level[solver] = (elt for elt in solver_children(Ftree, solver) if elt in Fend)\n",
    "        fend = next(f_at_level[solver])\n",
    "        solvefor[fend] = (solvevar,)\n",
    "    permutation = [solvefor[s][0] for s in sequence if solvefor.get(s, False) and solvefor[s][0] is not None]\n",
    "    all_vars_random_order = all_variables(Ein, Eout)\n",
    "    permutation += [var for var in all_vars_random_order if var not in permutation]\n",
    "    return sequence, permutation"
   ]
  },
  {
   "cell_type": "code",
   "execution_count": 8,
   "id": "0e10b5bb-aa56-4a8b-94f1-4c06cb0bb788",
   "metadata": {
    "execution": {
     "iopub.execute_input": "2022-06-21T23:29:35.763624Z",
     "iopub.status.busy": "2022-06-21T23:29:35.762692Z",
     "iopub.status.idle": "2022-06-21T23:29:35.774563Z",
     "shell.execute_reply": "2022-06-21T23:29:35.774563Z",
     "shell.execute_reply.started": "2022-06-21T23:29:35.763624Z"
    },
    "tags": []
   },
   "outputs": [],
   "source": [
    "def all_comps_below(order, Stree, branch):\n",
    "    applicable_solvers = dfs_tree(Stree, branch)\n",
    "    allcomps = [(idx, end_or_inter==COMP) for idx, (end_or_inter, fx, solver) in enumerate(order) if solver in applicable_solvers]\n",
    "    allcompsout, inter, end = tuple(), tuple(), tuple()\n",
    "    for idx, inter_or_end in allcomps:\n",
    "        elt = (idx, False)\n",
    "        if inter_or_end:\n",
    "            inter += (elt,)\n",
    "        else:\n",
    "            end += (elt,)\n",
    "        allcompsout += (elt,)\n",
    "    return allcompsout, inter, end"
   ]
  },
  {
   "cell_type": "code",
   "execution_count": 9,
   "id": "36d07724-5353-4256-9ec0-39b9e49a797a",
   "metadata": {
    "execution": {
     "iopub.execute_input": "2022-06-21T23:29:37.112127Z",
     "iopub.status.busy": "2022-06-21T23:29:37.111135Z",
     "iopub.status.idle": "2022-06-21T23:29:37.130036Z",
     "shell.execute_reply": "2022-06-21T23:29:37.129129Z",
     "shell.execute_reply.started": "2022-06-21T23:29:37.112127Z"
    },
    "tags": []
   },
   "outputs": [],
   "source": [
    "def solver_artifact_iterator(tree, order):\n",
    "    _, Stree, _ = tree\n",
    "    for branch in dfs_tree(Stree, root_solver(tree)):\n",
    "        yield all_comps_below(order, Stree, branch)"
   ]
  },
  {
   "cell_type": "code",
   "execution_count": 29,
   "id": "c0793a90-8ac5-4938-b807-ee09ff82b6bb",
   "metadata": {
    "execution": {
     "iopub.execute_input": "2022-06-21T23:41:32.030372Z",
     "iopub.status.busy": "2022-06-21T23:41:32.029375Z",
     "iopub.status.idle": "2022-06-21T23:41:32.037372Z",
     "shell.execute_reply": "2022-06-21T23:41:32.037372Z",
     "shell.execute_reply.started": "2022-06-21T23:41:32.030372Z"
    },
    "tags": []
   },
   "outputs": [],
   "source": [
    "def incidence_artifacts(edges, tree, generatesolverstruct=False):\n",
    "    Ein, Eout = edges_to_Ein_Eout(edges)\n",
    "    Ftree, Stree, Vtree = tree\n",
    "    order = order_from_tree(Ftree, Stree, Eout, includesolver=False, mergeendcomp=False)\n",
    "    sequence, permutation = sequence_permutation_from_order(order, Ein, Eout, Vtree, Ftree)\n",
    "    solver_artifact = solver_artifact_iterator(tree, order) if generatesolverstruct else None\n",
    "    return sequence, permutation, solver_artifact"
   ]
  },
  {
   "cell_type": "code",
   "execution_count": 30,
   "id": "7a97b7cc-4d47-4234-907f-28c3b3738737",
   "metadata": {
    "execution": {
     "iopub.execute_input": "2022-06-21T23:41:32.332422Z",
     "iopub.status.busy": "2022-06-21T23:41:32.332422Z",
     "iopub.status.idle": "2022-06-21T23:41:32.352495Z",
     "shell.execute_reply": "2022-06-21T23:41:32.352495Z",
     "shell.execute_reply.started": "2022-06-21T23:41:32.332422Z"
    },
    "tags": []
   },
   "outputs": [],
   "source": [
    "def generate_incidence_matrix(Ein, Eout, sequence, permutation, diagonalgray=True):\n",
    "    A = np.zeros((len(sequence), len(permutation)))\n",
    "    for idx, fxid in enumerate(sequence):\n",
    "        varsineq = Ein[fxid]+tuple(elt for elt in Eout[fxid] if elt is not None)\n",
    "        for var in varsineq:\n",
    "            col = permutation.index(var)\n",
    "            color = 0.5 if (var in Eout[fxid] and diagonalgray) else 1.\n",
    "            A[idx,col] = color\n",
    "    return A"
   ]
  },
  {
   "cell_type": "code",
   "execution_count": 43,
   "id": "b9041485-bad4-48ef-9134-20422ab2c041",
   "metadata": {
    "execution": {
     "iopub.execute_input": "2022-06-21T23:42:35.834367Z",
     "iopub.status.busy": "2022-06-21T23:42:35.832988Z",
     "iopub.status.idle": "2022-06-21T23:42:35.848184Z",
     "shell.execute_reply": "2022-06-21T23:42:35.848184Z",
     "shell.execute_reply.started": "2022-06-21T23:42:35.834367Z"
    },
    "tags": []
   },
   "outputs": [],
   "source": [
    "def render_incidence(edges, tree, namingfunc, displaysolver=True):\n",
    "    sequence, permutation, solver_iterator = incidence_artifacts(edges, tree, displaysolver)\n",
    "    A = generate_incidence_matrix(Ein, Eout, sequence, permutation)\n",
    "    column_labels = ['${}$'.format(namingfunc(var, VAR).format(var)) for var in permutation]\n",
    "    row_labels = ['${}$'.format(namingfunc(fx, COMP).format(fx)) for fx in sequence]\n",
    "    fig, ax =plot_incidence_matrix(A, column_labels, row_labels)\n",
    "    if displaysolver:\n",
    "        allpatches=get_patches(solver_iterator)\n",
    "        return plot_patches(ax, allpatches)"
   ]
  },
  {
   "cell_type": "code",
   "execution_count": 44,
   "id": "abbc1100-0ff3-4d8d-935e-9d0d62d21add",
   "metadata": {
    "execution": {
     "iopub.execute_input": "2022-06-21T23:42:36.145111Z",
     "iopub.status.busy": "2022-06-21T23:42:36.144216Z",
     "iopub.status.idle": "2022-06-21T23:42:36.158705Z",
     "shell.execute_reply": "2022-06-21T23:42:36.158070Z",
     "shell.execute_reply.started": "2022-06-21T23:42:36.145111Z"
    },
    "tags": []
   },
   "outputs": [],
   "source": [
    "from datastructures.graphutils import namefromsympy, VAR, COMP, SOLVER, namefromid"
   ]
  },
  {
   "cell_type": "code",
   "execution_count": 45,
   "id": "2e02d577-c049-4530-bcef-3bbf84a529c4",
   "metadata": {
    "execution": {
     "iopub.execute_input": "2022-06-21T23:42:36.319795Z",
     "iopub.status.busy": "2022-06-21T23:42:36.319795Z",
     "iopub.status.idle": "2022-06-21T23:42:36.329355Z",
     "shell.execute_reply": "2022-06-21T23:42:36.329151Z",
     "shell.execute_reply.started": "2022-06-21T23:42:36.319795Z"
    },
    "tags": []
   },
   "outputs": [],
   "source": [
    "nodetyperepr = {VAR: 'x_{}', COMP: 'f_{}', SOLVER: '{}'}\n",
    "namingfunc = namefromid(nodetyperepr)"
   ]
  },
  {
   "cell_type": "code",
   "execution_count": 46,
   "id": "4b712a8a-6747-4c51-bb9a-475804e5fca6",
   "metadata": {
    "execution": {
     "iopub.execute_input": "2022-06-21T23:42:36.588849Z",
     "iopub.status.busy": "2022-06-21T23:42:36.588849Z",
     "iopub.status.idle": "2022-06-21T23:42:36.732936Z",
     "shell.execute_reply": "2022-06-21T23:42:36.732804Z",
     "shell.execute_reply.started": "2022-06-21T23:42:36.588849Z"
    },
    "tags": []
   },
   "outputs": [
    {
     "data": {
      "image/png": "[encoded data removed]",
      "text/plain": [
       "<Figure size 432x288 with 1 Axes>"
      ]
     },
     "metadata": {
      "needs_background": "light"
     },
     "output_type": "display_data"
    }
   ],
   "source": [
    "render_incidence(edges, tree, namingfunc, False)"
   ]
  },
  {
   "cell_type": "code",
   "execution_count": 12,
   "id": "b30afc03-8443-42ab-84cc-830a8b0a0a0d",
   "metadata": {
    "execution": {
     "iopub.execute_input": "2022-06-21T23:29:38.716454Z",
     "iopub.status.busy": "2022-06-21T23:29:38.715326Z",
     "iopub.status.idle": "2022-06-21T23:29:38.731009Z",
     "shell.execute_reply": "2022-06-21T23:29:38.730014Z",
     "shell.execute_reply.started": "2022-06-21T23:29:38.716454Z"
    },
    "tags": []
   },
   "outputs": [],
   "source": [
    "sequence, permutation, solver_iterator = incidence_artifacts(edges, ntree)"
   ]
  },
  {
   "cell_type": "code",
   "execution_count": 13,
   "id": "35e98418-422a-4859-a033-9ce56864e90b",
   "metadata": {
    "execution": {
     "iopub.execute_input": "2022-06-21T23:29:38.921216Z",
     "iopub.status.busy": "2022-06-21T23:29:38.921216Z",
     "iopub.status.idle": "2022-06-21T23:29:38.933862Z",
     "shell.execute_reply": "2022-06-21T23:29:38.933456Z",
     "shell.execute_reply.started": "2022-06-21T23:29:38.921216Z"
    },
    "tags": []
   },
   "outputs": [],
   "source": [
    "A = generate_incidence_matrix(Ein, Eout, sequence, permutation)"
   ]
  },
  {
   "cell_type": "code",
   "execution_count": 14,
   "id": "8c803204-0409-4904-a48b-166b85ce33f3",
   "metadata": {
    "execution": {
     "iopub.execute_input": "2022-06-21T23:29:39.100709Z",
     "iopub.status.busy": "2022-06-21T23:29:39.100709Z",
     "iopub.status.idle": "2022-06-21T23:29:39.106901Z",
     "shell.execute_reply": "2022-06-21T23:29:39.105651Z",
     "shell.execute_reply.started": "2022-06-21T23:29:39.100709Z"
    },
    "tags": []
   },
   "outputs": [],
   "source": [
    "column_labels = ['${}$'.format(namingfunc(var, VAR).format(var)) for var in permutation]\n",
    "row_labels = ['${}$'.format(namingfunc(var, COMP).format(fx)) for fx in sequence]"
   ]
  },
  {
   "cell_type": "code",
   "execution_count": 15,
   "id": "1e518c9a-8439-4aa6-8634-71e09cbdcb6f",
   "metadata": {
    "execution": {
     "iopub.execute_input": "2022-06-21T23:29:39.532259Z",
     "iopub.status.busy": "2022-06-21T23:29:39.531169Z",
     "iopub.status.idle": "2022-06-21T23:29:39.906938Z",
     "shell.execute_reply": "2022-06-21T23:29:39.905911Z",
     "shell.execute_reply.started": "2022-06-21T23:29:39.532259Z"
    },
    "tags": []
   },
   "outputs": [
    {
     "data": {
      "image/png": "[encoded data removed]",
      "text/plain": [
       "<Figure size 432x288 with 1 Axes>"
      ]
     },
     "metadata": {
      "needs_background": "light"
     },
     "output_type": "display_data"
    }
   ],
   "source": [
    "fig, ax =plot_incidence_matrix(A, column_labels, row_labels);"
   ]
  },
  {
   "cell_type": "markdown",
   "id": "434bb974-77dd-4345-bcab-ddbc70286cfa",
   "metadata": {
    "tags": []
   },
   "source": [
    "# Add groups"
   ]
  },
  {
   "cell_type": "code",
   "execution_count": null,
   "id": "cbbe2903-ba73-469f-a10e-15959ac84de0",
   "metadata": {},
   "outputs": [],
   "source": [
    "def generate_patches(order, Stree, Vtree, branch):\n",
    "    all_solvers_below = dfs_tree(Stree, branch)\n",
    "    row_inter,col_inter,row_total,col_total = 0,0,0,0\n",
    "    solvers_visited = set()\n",
    "    beginnig_flag = True\n",
    "    for comp_type,comp_idx,parent in order:\n",
    "        if parent in all_solvers_below and beginnig_flag:\n",
    "            upper_left_row, upper_left_col = row_total, col_total\n",
    "            row_inter,col_inter,row_total,col_total = 0,0,0,0 # reset counter\n",
    "            beginnig_flag = False\n",
    "        if parent not in all_solvers_below and not beginnig_flag:\n",
    "            break\n",
    "        row_total+=1\n",
    "        if comp_type == COMP:\n",
    "            row_inter+=1\n",
    "            col_inter+=1\n",
    "            col_total+=1\n",
    "        else:\n",
    "            if parent != branch:\n",
    "                row_inter+=1\n",
    "            if parent not in solvers_visited:\n",
    "                number_of_vars=len(list(solver_children(Vtree,parent)))\n",
    "                if parent != branch:\n",
    "                    col_inter+=number_of_vars\n",
    "                col_total+=number_of_vars\n",
    "                solvers_visited.add(parent)\n",
    "    row_end = row_total-row_inter\n",
    "    col_end = col_total-col_inter\n",
    "    rect_inter = ((upper_left_row,upper_left_col), (row_inter,col_inter))\n",
    "    rect_end = ((upper_left_row+row_inter,upper_left_col+col_inter), (row_end,col_end))\n",
    "    rect_full = ((upper_left_row,upper_left_col), (row_total,col_total))\n",
    "    return rect_inter, rect_end, rect_full"
   ]
  },
  {
   "cell_type": "code",
   "execution_count": 16,
   "id": "e4026c1a-bd59-45e5-b873-a5352b6a89bc",
   "metadata": {
    "execution": {
     "iopub.execute_input": "2022-06-21T23:29:42.049108Z",
     "iopub.status.busy": "2022-06-21T23:29:42.049108Z",
     "iopub.status.idle": "2022-06-21T23:29:42.065071Z",
     "shell.execute_reply": "2022-06-21T23:29:42.065071Z",
     "shell.execute_reply.started": "2022-06-21T23:29:42.049108Z"
    },
    "tags": []
   },
   "outputs": [],
   "source": [
    "def getpatchwindow(lst):\n",
    "    ulcorner = lst[0]\n",
    "    size = max(lst)-ulcorner+1\n",
    "    return ulcorner,size\n",
    "def getpatchwindow_end(lst):\n",
    "    equivalent_lst, matched_ends = zip(*lst)\n",
    "    ulcorner,size = getpatchwindow(equivalent_lst)\n",
    "    return ulcorner,size-sum(matched_ends)"
   ]
  },
  {
   "cell_type": "code",
   "execution_count": 17,
   "id": "dea210d3-5e8d-4b3a-8ba3-449e99f648a6",
   "metadata": {
    "execution": {
     "iopub.execute_input": "2022-06-21T23:29:45.055710Z",
     "iopub.status.busy": "2022-06-21T23:29:45.054669Z",
     "iopub.status.idle": "2022-06-21T23:29:45.076268Z",
     "shell.execute_reply": "2022-06-21T23:29:45.076268Z",
     "shell.execute_reply.started": "2022-06-21T23:29:45.055710Z"
    },
    "tags": []
   },
   "outputs": [],
   "source": [
    "def get_patches(solver_iterator):\n",
    "    allpatches=[]\n",
    "    for allcomps, inter, end in solver_iterator:\n",
    "        patchparam = getpatchwindow_end(allcomps)\n",
    "        patchparam_inter = [getpatchwindow_end(inter)] if inter else []\n",
    "        patchparam_end = [getpatchwindow_end(end)] if end else []\n",
    "        allpatches.append(patchparam)\n",
    "        allpatches += patchparam_inter\n",
    "        allpatches += patchparam_end\n",
    "    return allpatches"
   ]
  },
  {
   "cell_type": "code",
   "execution_count": 18,
   "id": "fe3fe48f-8bac-472c-a1a2-5beb435c3d05",
   "metadata": {
    "execution": {
     "iopub.execute_input": "2022-06-21T23:29:50.201740Z",
     "iopub.status.busy": "2022-06-21T23:29:50.201740Z",
     "iopub.status.idle": "2022-06-21T23:29:50.206324Z",
     "shell.execute_reply": "2022-06-21T23:29:50.206324Z",
     "shell.execute_reply.started": "2022-06-21T23:29:50.201740Z"
    },
    "tags": []
   },
   "outputs": [],
   "source": [
    "def plot_patches(ax, allpatches):\n",
    "    for ulcorner, size in allpatches:\n",
    "        rect = patches.Rectangle((ulcorner,ulcorner), size, size, linewidth=2, edgecolor='k', facecolor='none')\n",
    "        ax.add_patch(rect)"
   ]
  },
  {
   "cell_type": "code",
   "execution_count": 20,
   "id": "1ae21306-7f8e-4b1f-8e98-190716463b20",
   "metadata": {
    "execution": {
     "iopub.execute_input": "2022-06-21T23:30:00.891795Z",
     "iopub.status.busy": "2022-06-21T23:30:00.891795Z",
     "iopub.status.idle": "2022-06-21T23:30:00.896300Z",
     "shell.execute_reply": "2022-06-21T23:30:00.896300Z",
     "shell.execute_reply.started": "2022-06-21T23:30:00.891795Z"
    },
    "tags": []
   },
   "outputs": [],
   "source": [
    "allpatches=get_patches(solver_iterator)"
   ]
  },
  {
   "cell_type": "code",
   "execution_count": 21,
   "id": "924e6620-7e84-4a12-b48a-0393d394d4fa",
   "metadata": {
    "execution": {
     "iopub.execute_input": "2022-06-21T23:30:01.815425Z",
     "iopub.status.busy": "2022-06-21T23:30:01.815425Z",
     "iopub.status.idle": "2022-06-21T23:30:02.064975Z",
     "shell.execute_reply": "2022-06-21T23:30:02.064404Z",
     "shell.execute_reply.started": "2022-06-21T23:30:01.815425Z"
    },
    "tags": []
   },
   "outputs": [
    {
     "data": {
      "image/png": "[encoded data removed]",
      "text/plain": [
       "<Figure size 432x288 with 1 Axes>"
      ]
     },
     "metadata": {
      "needs_background": "light"
     },
     "output_type": "display_data"
    }
   ],
   "source": [
    "fig, ax =plot_incidence_matrix(A, column_labels, row_labels)\n",
    "plot_patches(ax, allpatches)"
   ]
  },
  {
   "cell_type": "code",
   "execution_count": null,
   "id": "d147d4b5-d9b7-4916-8b10-5dad02663a5e",
   "metadata": {},
   "outputs": [],
   "source": []
  }
 ],
 "metadata": {
  "kernelspec": {
   "display_name": "minimdo",
   "language": "python",
   "name": "python3"
  },
  "language_info": {
   "codemirror_mode": {
    "name": "ipython",
    "version": 3
   },
   "file_extension": ".py",
   "mimetype": "text/x-python",
   "name": "python",
   "nbconvert_exporter": "python",
   "pygments_lexer": "ipython3",
   "version": "3.9.18"
  }
 },
 "nbformat": 4,
 "nbformat_minor": 5
}
