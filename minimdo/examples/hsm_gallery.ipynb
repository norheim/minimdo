{
 "cells": [
  {
   "cell_type": "code",
   "execution_count": 1,
   "id": "09444b4f-bff1-4678-9e86-ea8937b709f8",
   "metadata": {
    "execution": {
     "iopub.execute_input": "2022-07-27T17:17:55.790172Z",
     "iopub.status.busy": "2022-07-27T17:17:55.790172Z",
     "iopub.status.idle": "2022-07-27T17:17:58.133064Z",
     "shell.execute_reply": "2022-07-27T17:17:58.132586Z",
     "shell.execute_reply.started": "2022-07-27T17:17:55.790172Z"
    },
    "tags": []
   },
   "outputs": [],
   "source": [
    "from testproblems import generate_random_prob, random_problem_with_artifacts\n",
    "from datastructures.operators import eqv_to_edges_tree\n",
    "from datastructures.rendering import render_incidence\n",
    "from datastructures.graphutils import all_variables\n",
    "import matplotlib.pyplot as plt\n",
    "import numpy as np\n",
    "plt.rcParams['text.usetex'] = True"
   ]
  },
  {
   "cell_type": "code",
   "execution_count": 93,
   "id": "0a78457e-75c9-4421-9a9e-c577b3faba2f",
   "metadata": {
    "execution": {
     "iopub.execute_input": "2022-07-27T17:34:19.256973Z",
     "iopub.status.busy": "2022-07-27T17:34:19.256023Z",
     "iopub.status.idle": "2022-07-27T17:34:19.263190Z",
     "shell.execute_reply": "2022-07-27T17:34:19.263061Z",
     "shell.execute_reply.started": "2022-07-27T17:34:19.256973Z"
    },
    "tags": []
   },
   "outputs": [],
   "source": [
    "# For presentation slides, (m,n,seed) = (4,5,221,1.0)\n",
    "m,n,seed,sparsity = (5,7,220,2.)  #0.5,1,1.5 --> rho=(3,4,5)"
   ]
  },
  {
   "cell_type": "code",
   "execution_count": 94,
   "id": "0720f5e6-f46b-46df-a75a-7379a24d3beb",
   "metadata": {
    "execution": {
     "iopub.execute_input": "2022-07-27T17:34:19.398901Z",
     "iopub.status.busy": "2022-07-27T17:34:19.398901Z",
     "iopub.status.idle": "2022-07-27T17:34:19.418182Z",
     "shell.execute_reply": "2022-07-27T17:34:19.417577Z",
     "shell.execute_reply.started": "2022-07-27T17:34:19.398901Z"
    },
    "tags": []
   },
   "outputs": [],
   "source": [
    "kwargs = random_problem_with_artifacts(m,n,seed,sparsity,independent_of_n=True)"
   ]
  },
  {
   "cell_type": "code",
   "execution_count": 95,
   "id": "f735f19f-282a-4394-aa07-f2e11f10ebe3",
   "metadata": {
    "execution": {
     "iopub.execute_input": "2022-07-27T17:34:19.543310Z",
     "iopub.status.busy": "2022-07-27T17:34:19.542282Z",
     "iopub.status.idle": "2022-07-27T17:34:19.557534Z",
     "shell.execute_reply": "2022-07-27T17:34:19.557534Z",
     "shell.execute_reply.started": "2022-07-27T17:34:19.543310Z"
    },
    "tags": []
   },
   "outputs": [],
   "source": [
    "eq_incidence,outset,eqnidxs,edges_varonleft,varidxs = map(kwargs.get, [\"eq_incidence\",\"outset\",\"eqnidxs\",\"edges_varonleft\",\"varidxs\"])"
   ]
  },
  {
   "cell_type": "code",
   "execution_count": 96,
   "id": "a1a3f0cb-b5cd-4da1-b745-6d0712258a12",
   "metadata": {
    "execution": {
     "iopub.execute_input": "2022-07-27T17:34:19.688711Z",
     "iopub.status.busy": "2022-07-27T17:34:19.688711Z",
     "iopub.status.idle": "2022-07-27T17:34:19.699306Z",
     "shell.execute_reply": "2022-07-27T17:34:19.698853Z",
     "shell.execute_reply.started": "2022-07-27T17:34:19.688711Z"
    },
    "tags": []
   },
   "outputs": [],
   "source": [
    "outset = {idx: idx+m for idx in range(m)}"
   ]
  },
  {
   "cell_type": "code",
   "execution_count": 97,
   "id": "81216310-79a7-404f-8bc2-6769e4e3503a",
   "metadata": {
    "execution": {
     "iopub.execute_input": "2022-07-27T17:34:19.840664Z",
     "iopub.status.busy": "2022-07-27T17:34:19.839664Z",
     "iopub.status.idle": "2022-07-27T17:34:19.854238Z",
     "shell.execute_reply": "2022-07-27T17:34:19.853736Z",
     "shell.execute_reply.started": "2022-07-27T17:34:19.840664Z"
    },
    "tags": []
   },
   "outputs": [],
   "source": [
    "edges_undir,tree_undir,_ = eqv_to_edges_tree(eq_incidence, n_eqs=m)\n",
    "edges_dir,tree_dir,outset_adj = eqv_to_edges_tree(eq_incidence, outset, n_eqs=m)\n",
    "tree_undir[2].update({val:1 for val in outset_adj.values()})"
   ]
  },
  {
   "cell_type": "code",
   "execution_count": 98,
   "id": "6247f995-9505-417a-b860-3652cb1a9a02",
   "metadata": {
    "execution": {
     "iopub.execute_input": "2022-07-27T17:34:20.183628Z",
     "iopub.status.busy": "2022-07-27T17:34:20.182606Z",
     "iopub.status.idle": "2022-07-27T17:34:20.197824Z",
     "shell.execute_reply": "2022-07-27T17:34:20.197623Z",
     "shell.execute_reply.started": "2022-07-27T17:34:20.183628Z"
    },
    "tags": []
   },
   "outputs": [
    {
     "data": {
      "text/plain": [
       "3.4"
      ]
     },
     "execution_count": 98,
     "metadata": {},
     "output_type": "execute_result"
    }
   ],
   "source": [
    "np.mean([len(val) for val in eq_incidence.values()])"
   ]
  },
  {
   "cell_type": "code",
   "execution_count": 102,
   "id": "b321bc31-427e-4609-a945-02b8e14d18de",
   "metadata": {
    "execution": {
     "iopub.execute_input": "2022-07-27T17:37:42.644395Z",
     "iopub.status.busy": "2022-07-27T17:37:42.644395Z",
     "iopub.status.idle": "2022-07-27T17:37:42.808930Z",
     "shell.execute_reply": "2022-07-27T17:37:42.808285Z",
     "shell.execute_reply.started": "2022-07-27T17:37:42.644395Z"
    },
    "tags": []
   },
   "outputs": [
    {
     "data": {
      "image/png": "[encoded data removed]",
      "text/plain": [
       "<Figure size 216x216 with 1 Axes>"
      ]
     },
     "metadata": {
      "needs_background": "light"
     },
     "output_type": "display_data"
    }
   ],
   "source": [
    "render_incidence(edges_undir, tree_undir, figname='sparsity_definition/defense_sparsity_ex.png', save=True, rotation=0, hideticks=True, dispendcomp=True, figsize=((3,3)), fontsize=22);"
   ]
  },
  {
   "cell_type": "code",
   "execution_count": null,
   "id": "1826f073-5150-4b3f-b102-371ff12a6aa4",
   "metadata": {},
   "outputs": [],
   "source": []
  }
 ],
 "metadata": {
  "kernelspec": {
   "display_name": "Python [conda env:minimdo]",
   "language": "python",
   "name": "conda-env-minimdo-py"
  },
  "language_info": {
   "codemirror_mode": {
    "name": "ipython",
    "version": 3
   },
   "file_extension": ".py",
   "mimetype": "text/x-python",
   "name": "python",
   "nbconvert_exporter": "python",
   "pygments_lexer": "ipython3",
   "version": "3.9.12"
  }
 },
 "nbformat": 4,
 "nbformat_minor": 5
}
