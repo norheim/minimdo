{
 "cells": [
  {
   "cell_type": "code",
   "execution_count": 60,
   "id": "4575b91f-0e15-4ebb-96e6-87861cb805d5",
   "metadata": {
    "execution": {
     "iopub.execute_input": "2022-08-09T20:35:16.052151Z",
     "iopub.status.busy": "2022-08-09T20:35:16.052151Z",
     "iopub.status.idle": "2022-08-09T20:35:16.073671Z",
     "shell.execute_reply": "2022-08-09T20:35:16.073169Z",
     "shell.execute_reply.started": "2022-08-09T20:35:16.052151Z"
    },
    "tags": []
   },
   "outputs": [],
   "source": [
    "from testproblems import generate_random_prob, random_problem_with_artifacts\n",
    "from itertools import product, chain\n",
    "import numpy as np\n",
    "import pandas as pd\n",
    "import seaborn as sns\n",
    "import matplotlib.pyplot as plt"
   ]
  },
  {
   "cell_type": "code",
   "execution_count": 109,
   "id": "e01ad9d2-4c6c-4246-b3b1-18d1b41ff2f3",
   "metadata": {
    "execution": {
     "iopub.execute_input": "2022-08-09T21:24:44.567505Z",
     "iopub.status.busy": "2022-08-09T21:24:44.567505Z",
     "iopub.status.idle": "2022-08-09T21:24:44.576128Z",
     "shell.execute_reply": "2022-08-09T21:24:44.575370Z",
     "shell.execute_reply.started": "2022-08-09T21:24:44.567505Z"
    },
    "tags": []
   },
   "outputs": [],
   "source": [
    "m,n,rndseed = 20,20,229"
   ]
  },
  {
   "cell_type": "markdown",
   "id": "9ef4bb78-9a41-49f9-b84f-e2bb021f757b",
   "metadata": {},
   "source": [
    "We can generate random problems with sparsity fraction $\\alpha$ through the following line of code "
   ]
  },
  {
   "cell_type": "code",
   "execution_count": 110,
   "id": "4d553c3d-9586-42c7-ab9f-318e72338124",
   "metadata": {
    "execution": {
     "iopub.execute_input": "2022-08-09T21:24:45.178441Z",
     "iopub.status.busy": "2022-08-09T21:24:45.177173Z",
     "iopub.status.idle": "2022-08-09T21:24:45.200861Z",
     "shell.execute_reply": "2022-08-09T21:24:45.199547Z",
     "shell.execute_reply.started": "2022-08-09T21:24:45.177940Z"
    },
    "tags": []
   },
   "outputs": [],
   "source": [
    "alpha = 1.5\n",
    "biadj,_,_ = generate_random_prob(m, n, rndseed, alpha)"
   ]
  },
  {
   "cell_type": "markdown",
   "id": "8d0444c1-39b4-416f-bbef-94c1918e5fcf",
   "metadata": {},
   "source": [
    "We can generate random problems with mean row-density $\\rho$ through the following line of code"
   ]
  },
  {
   "cell_type": "code",
   "execution_count": 111,
   "id": "58d47247-4f39-4c32-afc3-0b86086441c8",
   "metadata": {
    "execution": {
     "iopub.execute_input": "2022-08-09T21:24:45.712029Z",
     "iopub.status.busy": "2022-08-09T21:24:45.711447Z",
     "iopub.status.idle": "2022-08-09T21:24:45.729502Z",
     "shell.execute_reply": "2022-08-09T21:24:45.728630Z",
     "shell.execute_reply.started": "2022-08-09T21:24:45.712029Z"
    },
    "tags": []
   },
   "outputs": [],
   "source": [
    "rho = 3\n",
    "biadj,_,_ = generate_random_prob(m, n, rndseed, rho, independent_of_n=True)"
   ]
  },
  {
   "cell_type": "markdown",
   "id": "588661ad-1ea8-46de-ba63-0a51b4cfe86e",
   "metadata": {},
   "source": [
    "Next we compare them"
   ]
  },
  {
   "cell_type": "code",
   "execution_count": 200,
   "id": "b7176b5f-c755-4823-9e51-9bb199fe8ca5",
   "metadata": {
    "execution": {
     "iopub.execute_input": "2022-08-09T22:08:53.869325Z",
     "iopub.status.busy": "2022-08-09T22:08:53.868310Z",
     "iopub.status.idle": "2022-08-09T22:08:53.881385Z",
     "shell.execute_reply": "2022-08-09T22:08:53.880863Z",
     "shell.execute_reply.started": "2022-08-09T22:08:53.869325Z"
    },
    "tags": []
   },
   "outputs": [],
   "source": [
    "ms = (20,)\n",
    "ns = (24,30)\n",
    "rhos = (1,2,3,4)\n",
    "alphas = (0.5,1,1.5,2)"
   ]
  },
  {
   "cell_type": "code",
   "execution_count": 201,
   "id": "b767ff7b-24ad-432a-830a-92632fde8ec0",
   "metadata": {
    "execution": {
     "iopub.execute_input": "2022-08-09T22:08:54.438961Z",
     "iopub.status.busy": "2022-08-09T22:08:54.437961Z",
     "iopub.status.idle": "2022-08-09T22:08:54.461134Z",
     "shell.execute_reply": "2022-08-09T22:08:54.460477Z",
     "shell.execute_reply.started": "2022-08-09T22:08:54.438961Z"
    },
    "tags": []
   },
   "outputs": [],
   "source": [
    "cases = ((m,n,args[0],args[1]) for m,n,args in product(ms,ns,chain(product(rhos, (True,)),product(alphas, (False,)))))"
   ]
  },
  {
   "cell_type": "code",
   "execution_count": 202,
   "id": "a49019a6-7873-45b4-809f-a22a26acdecf",
   "metadata": {
    "execution": {
     "iopub.execute_input": "2022-08-09T22:08:54.671156Z",
     "iopub.status.busy": "2022-08-09T22:08:54.670103Z",
     "iopub.status.idle": "2022-08-09T22:09:03.171670Z",
     "shell.execute_reply": "2022-08-09T22:09:03.171612Z",
     "shell.execute_reply.started": "2022-08-09T22:08:54.671156Z"
    },
    "tags": []
   },
   "outputs": [],
   "source": [
    "stats = []\n",
    "nrndcases = 1000\n",
    "for m, n, sprmeasr, indepofn in cases:#[1, 2., 3, 4.]:\n",
    "    for seed in range(nrndcases):\n",
    "        biadj,_,_ = generate_random_prob(m,n,seed,sprmeasr,independent_of_n=indepofn)\n",
    "        nonzero_rowcount = [len(val) for val in biadj.values()]\n",
    "        true_alpha = np.sum(nonzero_rowcount)/(m*n) # from 0 to 1\n",
    "        true_rho = np.mean(nonzero_rowcount) # from 0 to m\n",
    "        stats.append((m,n,sprmeasr, indepofn, true_alpha, true_rho))"
   ]
  },
  {
   "cell_type": "code",
   "execution_count": 203,
   "id": "ee20564e-7dcd-4e05-809a-342daffe3016",
   "metadata": {
    "execution": {
     "iopub.execute_input": "2022-08-09T22:09:04.371900Z",
     "iopub.status.busy": "2022-08-09T22:09:04.371198Z",
     "iopub.status.idle": "2022-08-09T22:09:04.413921Z",
     "shell.execute_reply": "2022-08-09T22:09:04.413416Z",
     "shell.execute_reply.started": "2022-08-09T22:09:04.371900Z"
    },
    "tags": []
   },
   "outputs": [],
   "source": [
    "df = pd.DataFrame(stats, columns=['m', 'n', 'measure', 'msrtype', 'alpha', 'rho'])"
   ]
  },
  {
   "cell_type": "code",
   "execution_count": 221,
   "id": "f21f6108-79a2-4909-8454-294cf9a5d544",
   "metadata": {
    "execution": {
     "iopub.execute_input": "2022-08-09T22:15:03.924375Z",
     "iopub.status.busy": "2022-08-09T22:15:03.923648Z",
     "iopub.status.idle": "2022-08-09T22:15:03.942585Z",
     "shell.execute_reply": "2022-08-09T22:15:03.941242Z",
     "shell.execute_reply.started": "2022-08-09T22:15:03.924375Z"
    },
    "tags": []
   },
   "outputs": [],
   "source": [
    "n1 = df['n']==ns[0]\n",
    "n2 = ~n1\n",
    "# df_indep = df[df['msrtype']]\n",
    "# df_dep = df[~df['msrtype']]\n",
    "df_indep_n1 = df[df['msrtype'] & n1]\n",
    "df_dep_n1 = df[~df['msrtype'] & n1]\n",
    "df_indep_n2 = df[df['msrtype'] & n2]\n",
    "df_dep_n2 = df[~df['msrtype'] & n2]"
   ]
  },
  {
   "cell_type": "code",
   "execution_count": 220,
   "id": "dcc46a78-ce3f-4182-ac1b-ff572b7a8d41",
   "metadata": {
    "execution": {
     "iopub.execute_input": "2022-08-09T22:14:47.892471Z",
     "iopub.status.busy": "2022-08-09T22:14:47.891471Z",
     "iopub.status.idle": "2022-08-09T22:14:48.746439Z",
     "shell.execute_reply": "2022-08-09T22:14:48.745574Z",
     "shell.execute_reply.started": "2022-08-09T22:14:47.892471Z"
    },
    "tags": []
   },
   "outputs": [
    {
     "data": {
      "image/png": "[encoded data removed]",
      "text/plain": [
       "<Figure size 864x216 with 2 Axes>"
      ]
     },
     "metadata": {
      "needs_background": "light"
     },
     "output_type": "display_data"
    }
   ],
   "source": [
    "fig, (ax1, ax2) = plt.subplots(ncols=2, sharey=True, figsize=(12,3))\n",
    "sns.histplot(data=df_indep_n1, x='rho', hue='measure', palette='deep', bins=40, ax=ax1);\n",
    "sns.histplot(data=df_dep_n1, x='rho', hue='measure', palette='deep', bins=40, ax=ax2);"
   ]
  },
  {
   "cell_type": "code",
   "execution_count": 237,
   "id": "e6926096-b081-4c65-bbfc-4835d8796132",
   "metadata": {
    "execution": {
     "iopub.execute_input": "2022-08-09T22:24:36.447422Z",
     "iopub.status.busy": "2022-08-09T22:24:36.447422Z",
     "iopub.status.idle": "2022-08-09T22:24:36.848731Z",
     "shell.execute_reply": "2022-08-09T22:24:36.848230Z",
     "shell.execute_reply.started": "2022-08-09T22:24:36.447422Z"
    },
    "tags": []
   },
   "outputs": [
    {
     "data": {
      "image/png": "[encoded data removed]",
      "text/plain": [
       "<Figure size 432x288 with 1 Axes>"
      ]
     },
     "metadata": {
      "needs_background": "light"
     },
     "output_type": "display_data"
    }
   ],
   "source": [
    "sns.histplot(data=df.query(\"n==24 & ((measure==1 & msrtype)| (measure==.5 & not(msrtype)))\"), x='rho', hue='msrtype', bins=13, kde=True);"
   ]
  },
  {
   "cell_type": "code",
   "execution_count": 188,
   "id": "2e2beb2b-f87a-457c-a57d-a975b72b3374",
   "metadata": {
    "execution": {
     "iopub.execute_input": "2022-08-09T22:01:35.266400Z",
     "iopub.status.busy": "2022-08-09T22:01:35.265420Z",
     "iopub.status.idle": "2022-08-09T22:01:36.264223Z",
     "shell.execute_reply": "2022-08-09T22:01:36.263262Z",
     "shell.execute_reply.started": "2022-08-09T22:01:35.266400Z"
    },
    "tags": []
   },
   "outputs": [
    {
     "data": {
      "image/png": "[encoded data removed]",
      "text/plain": [
       "<Figure size 864x216 with 2 Axes>"
      ]
     },
     "metadata": {
      "needs_background": "light"
     },
     "output_type": "display_data"
    }
   ],
   "source": [
    "fig, (ax1, ax2) = plt.subplots(ncols=2, sharey=True, figsize=(12,3))\n",
    "sns.histplot(data=df_indep_n2, x='rho', hue='measure', palette='deep', bins=40, ax=ax1);\n",
    "sns.histplot(data=df_dep_n2, x='rho', hue='measure', palette='deep', bins=40, ax=ax2);"
   ]
  },
  {
   "cell_type": "code",
   "execution_count": null,
   "id": "5e2a158b-6950-4554-a4dd-409aa46348ac",
   "metadata": {},
   "outputs": [],
   "source": []
  }
 ],
 "metadata": {
  "kernelspec": {
   "display_name": "Python [conda env:minimdo]",
   "language": "python",
   "name": "conda-env-minimdo-py"
  },
  "language_info": {
   "codemirror_mode": {
    "name": "ipython",
    "version": 3
   },
   "file_extension": ".py",
   "mimetype": "text/x-python",
   "name": "python",
   "nbconvert_exporter": "python",
   "pygments_lexer": "ipython3",
   "version": "3.9.12"
  }
 },
 "nbformat": 4,
 "nbformat_minor": 5
}
