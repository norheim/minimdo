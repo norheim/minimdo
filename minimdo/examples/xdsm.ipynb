{
 "cells": [
  {
   "cell_type": "code",
   "execution_count": 1,
   "id": "56cb9607-6314-4e3f-ba5e-4bd5bd6f8a52",
   "metadata": {
    "execution": {
     "iopub.execute_input": "2022-09-01T16:45:56.756360Z",
     "iopub.status.busy": "2022-09-01T16:45:56.756360Z",
     "iopub.status.idle": "2022-09-01T16:45:57.137551Z",
     "shell.execute_reply": "2022-09-01T16:45:57.137114Z",
     "shell.execute_reply.started": "2022-09-01T16:45:56.756360Z"
    },
    "tags": []
   },
   "outputs": [],
   "source": [
    "from pyxdsm.XDSM import XDSM, OPT, SOLVER, FUNC, LEFT, RIGHT"
   ]
  },
  {
   "cell_type": "markdown",
   "id": "18702603-0117-40f8-829e-73b4ce08bcee",
   "metadata": {},
   "source": [
    "## Spacecraft"
   ]
  },
  {
   "cell_type": "code",
   "execution_count": 3,
   "id": "1786042a-74ee-4dec-84bb-3df1ebf3c04d",
   "metadata": {
    "execution": {
     "iopub.execute_input": "2022-08-13T21:27:15.183061Z",
     "iopub.status.busy": "2022-08-13T21:27:15.182062Z",
     "iopub.status.idle": "2022-08-13T21:27:16.672044Z",
     "shell.execute_reply": "2022-08-13T21:27:16.671020Z",
     "shell.execute_reply.started": "2022-08-13T21:27:15.182062Z"
    },
    "tags": []
   },
   "outputs": [],
   "source": [
    "x = XDSM(use_sfmath=False)\n",
    "#x.add_system(\"A0\", FUNC, r\"\\text{Input}\")\n",
    "x.add_system(\"A1\", FUNC, r\"\\text{Mission design}\")\n",
    "x.add_system(\"A2\", FUNC, r\"\\text{Power}\")\n",
    "x.add_system(\"A3\", FUNC, r\"\\text{Payload}\")\n",
    "x.add_system(\"A4\", FUNC, r\"\\text{Comms}\")\n",
    "x.add_system(\"A5\", FUNC, r\"\\text{Mass}\")\n",
    "x.add_system(\"A6\", FUNC, r\"\\text{Structure}\")\n",
    "x.add_system(\"A7\", FUNC, r\"\\text{Propulsion}\")\n",
    "#x.add_system(\"A8\", FUNC, r\"\\text{Output}\")\n",
    "\n",
    "x.add_input(\"A1\", \"h\")\n",
    "x.add_input(\"A2\", \"A\")\n",
    "x.add_input(\"A3\", r\"X_r\")\n",
    "x.add_input(\"A5\", r\"m_\\text{pr}\")\n",
    "x.add_input(\"A7\", r\"m_\\text{pr}\")\n",
    "\n",
    "x.connect(\"A1\", \"A2\", \"d, T\")\n",
    "x.connect(\"A1\", \"A4\", \"r, T,g\")\n",
    "x.connect(\"A2\", \"A5\", \"m_A, m_b\")\n",
    "x.connect(\"A3\", \"A4\", \"D\")\n",
    "x.connect(\"A3\", \"A5\", \"m_p\")\n",
    "x.connect(\"A4\", \"A5\", \"m_T\")\n",
    "x.connect(\"A5\", \"A6\", \"m_t\")\n",
    "x.connect(\"A5\", \"A7\", \"m_t\")\n",
    "x.connect(\"A6\", \"A5\", \"m_s\")\n",
    "\n",
    "x.add_output(\"A4\", \"E_b/N_o\", side=RIGHT)\n",
    "x.add_output(\"A7\", \"L_t\", side=RIGHT)\n",
    "\n",
    "x.write(\"spacecraft_xdsm\")"
   ]
  },
  {
   "cell_type": "markdown",
   "id": "4066ec0c-dcbb-4902-b58c-d4dac732c802",
   "metadata": {},
   "source": [
    "## Aircraft"
   ]
  },
  {
   "cell_type": "code",
   "execution_count": 13,
   "id": "ced9a99f-5014-47df-af6d-79ec33c571ac",
   "metadata": {
    "execution": {
     "iopub.execute_input": "2022-08-14T17:33:02.090891Z",
     "iopub.status.busy": "2022-08-14T17:33:02.089898Z",
     "iopub.status.idle": "2022-08-14T17:33:03.684082Z",
     "shell.execute_reply": "2022-08-14T17:33:03.683535Z",
     "shell.execute_reply.started": "2022-08-14T17:33:02.090891Z"
    },
    "tags": []
   },
   "outputs": [],
   "source": [
    "x = XDSM(use_sfmath=False)\n",
    "x.add_system(\"A3\", FUNC, r\"\\text{Apogee}\")\n",
    "x.add_system(\"A4\", FUNC, r\"\\text{Materials}\")\n",
    "x.add_system(\"A5\", FUNC, r\"\\text{Mass}\")\n",
    "x.add_system(\"A1\", FUNC, r\"\\text{Aerodynamics}\")\n",
    "x.add_system(\"A2\", FUNC, r\"\\text{Geometry}\")\n",
    "\n",
    "x.add_input(\"A3\", \"z\")\n",
    "x.add_input(\"A1\", \"v\")\n",
    "\n",
    "x.connect(\"A1\", \"A2\", \"A_0\")\n",
    "x.connect(\"A2\", \"A1\", \"V_0\")\n",
    "x.connect(\"A2\", \"A5\", \"m_{r0}\")\n",
    "x.connect(\"A3\", \"A4\", \"V_z\")\n",
    "x.connect(\"A4\", \"A5\", \"m_b\")\n",
    "x.connect(\"A5\", \"A3\", \"m_t\")\n",
    "x.connect(\"A5\", \"A1\", \"m_t\")\n",
    "\n",
    "x.add_output(\"A5\", \"m_t\", side=RIGHT)\n",
    "\n",
    "x.write(\"aircraft_xdsm\")"
   ]
  },
  {
   "cell_type": "markdown",
   "id": "e3b19d77-1488-41f5-934c-5c3eb80cd0c4",
   "metadata": {},
   "source": [
    "## Marine"
   ]
  },
  {
   "cell_type": "code",
   "execution_count": 12,
   "id": "ee6b60d2-8354-4674-8942-55790a809768",
   "metadata": {
    "execution": {
     "iopub.execute_input": "2022-08-14T17:32:10.900332Z",
     "iopub.status.busy": "2022-08-14T17:32:10.899828Z",
     "iopub.status.idle": "2022-08-14T17:32:12.667070Z",
     "shell.execute_reply": "2022-08-14T17:32:12.666487Z",
     "shell.execute_reply.started": "2022-08-14T17:32:10.900332Z"
    },
    "tags": []
   },
   "outputs": [],
   "source": [
    "x = XDSM(use_sfmath=False)\n",
    "x.add_system(\"A1\", FUNC, r\"\\text{Geometry}\")\n",
    "x.add_system(\"A2\", FUNC, r\"\\text{Hydrodynamics}\")\n",
    "x.add_system(\"A3\", FUNC, r\"\\text{Mass}\")\n",
    "x.add_system(\"A4\", FUNC, r\"\\text{Propulsion}\")\n",
    "x.add_system(\"A5\", FUNC, r\"\\text{Power}\")\n",
    "x.add_system(\"A6\", FUNC, r\"\\text{Communications}\")\n",
    "\n",
    "x.add_input(\"A2\", \"h_f, t_f, t_s, D_d, D_s\")\n",
    "x.add_input(\"A3\", r\"t_f, t_s, D_d, D_s, \\rho, \\rho_h\")\n",
    "x.add_input(\"A4\", \"h_f, t_s, D_d, D_s, v\")\n",
    "x.add_input(\"A5\", r\"R, E_b/N_o\")\n",
    "\n",
    "x.connect(\"A1\", \"A2\", \"d, D_f\")\n",
    "x.connect(\"A1\", \"A6\", \"d\")\n",
    "x.connect(\"A1\", \"A3\", \"D_f\")\n",
    "x.connect(\"A2\", \"A3\", \"F_W\")\n",
    "x.connect(\"A3\", \"A2\", \"t_d, m_{platform}\")\n",
    "x.connect(\"A2\", \"A4\", \"D\")\n",
    "x.connect(\"A4\", \"A5\", \"P_p\")\n",
    "x.connect(\"A6\", \"A5\", \"P_c\")\n",
    "x.connect(\"A6\", \"A1\", \"A_s\")\n",
    "\n",
    "x.add_output(\"A2\", \"G_M\", side=RIGHT)\n",
    "x.add_output(\"A3\", \"m_{platform}\", side=RIGHT)\n",
    "\n",
    "x.write(\"marine_xdsm\")"
   ]
  },
  {
   "cell_type": "code",
   "execution_count": 21,
   "id": "d9ea8f7e-0f83-40d0-8c37-1123b71dd71c",
   "metadata": {
    "execution": {
     "iopub.execute_input": "2022-07-14T22:19:55.160652Z",
     "iopub.status.busy": "2022-07-14T22:19:55.159652Z",
     "iopub.status.idle": "2022-07-14T22:19:56.720158Z",
     "shell.execute_reply": "2022-07-14T22:19:56.719655Z",
     "shell.execute_reply.started": "2022-07-14T22:19:55.160652Z"
    },
    "tags": []
   },
   "outputs": [],
   "source": [
    "from pyxdsm.XDSM import XDSM, OPT, SOLVER, FUNC, LEFT\n",
    "\n",
    "# Change `use_sfmath` to False to use computer modern\n",
    "x = XDSM(use_sfmath=False)\n",
    "\n",
    "#x.add_system(\"opt\", OPT, r\"\\text{Optimizer}\")\n",
    "x.add_system(\"MDA\", SOLVER, (r\"0,4 \\to 1:\", r\"\\text{MDA}\"))\n",
    "x.add_system(\"A1\", FUNC, (\"1:\", r\"\\text{Analysis 1}\"))\n",
    "x.add_system(\"A2\", FUNC, (\"2:\", r\"\\text{Analysis 2}\"))\n",
    "x.add_system(\"A3\", FUNC, (\"3:\", r\"\\text{Analysis 3}\"))\n",
    "\n",
    "x.connect(\"MDA\", \"A1\", \"y_2^t, y_3^t\")\n",
    "x.connect(\"MDA\", \"A2\", \"y_3^t\")\n",
    "x.connect(\"A1\", \"A2\", \"y_1\")\n",
    "x.connect(\"A1\", \"A3\", \"y_1\")\n",
    "x.connect(\"A2\", \"A3\", \"y_2\")\n",
    "x.connect(\"A1\", \"MDA\", \"y_1\")\n",
    "x.connect(\"A2\", \"MDA\", \"y_2\")\n",
    "x.connect(\"A3\", \"MDA\", \"y_3\")\n",
    "\n",
    "x.add_input(\"MDA\", \"y^t\")\n",
    "x.add_input(\"A1\", \"x_0, x_1\")\n",
    "x.add_input(\"A2\", \"x_0, x_2\")\n",
    "x.add_input(\"A3\", \"x_0, x_3\")\n",
    "\n",
    "x.add_output(\"MDA\", r\"\\text{(no data)}\", side=LEFT)\n",
    "x.add_output(\"A1\", \"y_1\", side=LEFT)\n",
    "x.add_output(\"A2\", \"y_2\", side=LEFT)\n",
    "x.add_output(\"A3\", \"y_2\", side=LEFT)\n",
    "\n",
    "x.add_process(\n",
    "    [\"MDA\", \"A1\", \"A2\", \"A3\", \"MDA\"],\n",
    "    arrow=False,\n",
    ")\n",
    "\n",
    "x.write(\"mdf\")"
   ]
  },
  {
   "cell_type": "code",
   "execution_count": 27,
   "id": "ac290ebe-ab52-42a7-94c3-80f778b11d9a",
   "metadata": {
    "execution": {
     "iopub.execute_input": "2022-07-14T22:50:04.128265Z",
     "iopub.status.busy": "2022-07-14T22:50:04.127264Z",
     "iopub.status.idle": "2022-07-14T22:50:05.485829Z",
     "shell.execute_reply": "2022-07-14T22:50:05.485327Z",
     "shell.execute_reply.started": "2022-07-14T22:50:04.128265Z"
    },
    "tags": []
   },
   "outputs": [],
   "source": [
    "x = XDSM(use_sfmath=False)\n",
    "\n",
    "#x.add_system(\"opt\", OPT, r\"\\text{Optimizer}\")\n",
    "x.add_system(\"In\", FUNC, r\"\\text{Input}\")\n",
    "x.add_system(\"A1\", FUNC, r\"\\text{Component 1}\")\n",
    "x.add_system(\"A2\", FUNC, r\"\\text{Component 2}\")\n",
    "x.add_system(\"A3\", FUNC, r\"\\text{Component 3}\")\n",
    "\n",
    "x.connect(\"In\", \"A1\", \"x\")\n",
    "x.connect(\"In\", \"A3\", \"x\")\n",
    "x.connect(\"A1\", \"A2\", \"y_{11}\")\n",
    "x.connect(\"A1\", \"A3\", \"y_{11}, y_{12}\")\n",
    "x.connect(\"A2\", \"A3\", \"y_{21}\")\n",
    "x.connect(\"A2\", \"A1\", \"y_{22}\")\n",
    "x.connect(\"A3\", \"A1\", \"y_3\")\n",
    "\n",
    "x.write(\"nsquare_ex\")"
   ]
  },
  {
   "cell_type": "markdown",
   "id": "2d885669-1a5a-4418-a2a9-8049d0a36335",
   "metadata": {},
   "source": [
    "# Minisat"
   ]
  },
  {
   "cell_type": "code",
   "execution_count": 3,
   "id": "80c20f47-4e6c-435e-b62c-d1da021c5771",
   "metadata": {
    "execution": {
     "iopub.execute_input": "2022-09-01T16:46:41.660347Z",
     "iopub.status.busy": "2022-09-01T16:46:41.660347Z",
     "iopub.status.idle": "2022-09-01T16:46:42.908534Z",
     "shell.execute_reply": "2022-09-01T16:46:42.908534Z",
     "shell.execute_reply.started": "2022-09-01T16:46:41.660347Z"
    },
    "tags": []
   },
   "outputs": [],
   "source": [
    "x = XDSM(use_sfmath=False)\n",
    "x.add_system(\"A1\", FUNC, r\"\\text{Comms}\")\n",
    "x.add_system(\"A2\", FUNC, r\"\\text{Bus}\")\n",
    "x.add_system(\"A3\", FUNC, r\"\\text{Solar}\")\n",
    "x.add_system(\"A4\", FUNC, r\"\\text{Cost}\")\n",
    "\n",
    "x.add_input(\"A1\", \"R,h,D\")\n",
    "x.add_input(\"A4\", \"D\")\n",
    "\n",
    "x.connect(\"A1\", \"A2\", r\"P_\\text{comms}\")\n",
    "x.connect(\"A1\", \"A3\", r\"P_\\text{comms}\")\n",
    "x.connect(\"A2\", \"A4\", r\"P_\\text{bus}\")\n",
    "x.connect(\"A2\", \"A3\", r\"P_\\text{bus}\")\n",
    "x.connect(\"A3\", \"A4\", \"A\")\n",
    "\n",
    "x.add_output(\"A4\", \"C\", side=RIGHT)\n",
    "\n",
    "x.write(\"minisat_xdsm\")"
   ]
  },
  {
   "cell_type": "code",
   "execution_count": null,
   "id": "2172097e-2512-4085-9dfb-f33d37b58ec6",
   "metadata": {},
   "outputs": [],
   "source": []
  }
 ],
 "metadata": {
  "kernelspec": {
   "display_name": "Python [conda env:minimdo]",
   "language": "python",
   "name": "conda-env-minimdo-py"
  },
  "language_info": {
   "codemirror_mode": {
    "name": "ipython",
    "version": 3
   },
   "file_extension": ".py",
   "mimetype": "text/x-python",
   "name": "python",
   "nbconvert_exporter": "python",
   "pygments_lexer": "ipython3",
   "version": "3.9.12"
  }
 },
 "nbformat": 4,
 "nbformat_minor": 5
}
