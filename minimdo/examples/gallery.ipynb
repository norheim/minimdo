{
 "cells": [
  {
   "cell_type": "code",
   "execution_count": 1,
   "id": "8f054005-45c7-4d12-9030-806283526b75",
   "metadata": {
    "execution": {
     "iopub.execute_input": "2022-07-25T02:02:58.010326Z",
     "iopub.status.busy": "2022-07-25T02:02:58.010326Z",
     "iopub.status.idle": "2022-07-25T02:03:00.070610Z",
     "shell.execute_reply": "2022-07-25T02:03:00.069593Z",
     "shell.execute_reply.started": "2022-07-25T02:02:58.010326Z"
    },
    "tags": []
   },
   "outputs": [],
   "source": [
    "from testproblems import generate_random_prob, random_problem_with_artifacts"
   ]
  },
  {
   "cell_type": "code",
   "execution_count": 2,
   "id": "88bd40ca-27e3-405f-9332-34f1aae4336b",
   "metadata": {
    "execution": {
     "iopub.execute_input": "2022-07-25T02:03:00.071442Z",
     "iopub.status.busy": "2022-07-25T02:03:00.071442Z",
     "iopub.status.idle": "2022-07-25T02:03:00.085192Z",
     "shell.execute_reply": "2022-07-25T02:03:00.084802Z",
     "shell.execute_reply.started": "2022-07-25T02:03:00.071442Z"
    },
    "tags": []
   },
   "outputs": [],
   "source": [
    "from datastructures.operators import eqv_to_edges_tree, reformulate, invert_edges\n",
    "from datastructures.graphutils import (default_tree, flat_graph_formulation, Node, COMP, VAR, sources, \n",
    "                                       draw_graph_graphical_props)\n",
    "from datastructures.rendering import render_incidence\n",
    "import networkx as nx\n",
    "from datastructures.tearing import min_max_scc2, min_arc_set_assign, min_arc_set"
   ]
  },
  {
   "cell_type": "code",
   "execution_count": 3,
   "id": "92d2f612-598e-47a1-9f7a-f6fc5425500a",
   "metadata": {
    "execution": {
     "iopub.execute_input": "2022-07-25T02:03:00.087300Z",
     "iopub.status.busy": "2022-07-25T02:03:00.086314Z",
     "iopub.status.idle": "2022-07-25T02:03:00.101173Z",
     "shell.execute_reply": "2022-07-25T02:03:00.100623Z",
     "shell.execute_reply.started": "2022-07-25T02:03:00.087300Z"
    },
    "tags": []
   },
   "outputs": [],
   "source": [
    "from ipywidgets import interact, interactive, fixed, interact_manual"
   ]
  },
  {
   "cell_type": "code",
   "execution_count": 4,
   "id": "548c13fc-6685-41fa-beac-7ba6d0663d33",
   "metadata": {
    "execution": {
     "iopub.execute_input": "2022-07-25T02:03:00.102185Z",
     "iopub.status.busy": "2022-07-25T02:03:00.102185Z",
     "iopub.status.idle": "2022-07-25T02:03:00.131719Z",
     "shell.execute_reply": "2022-07-25T02:03:00.131414Z",
     "shell.execute_reply.started": "2022-07-25T02:03:00.102185Z"
    },
    "tags": []
   },
   "outputs": [],
   "source": [
    "import seaborn as sns\n",
    "import numpy as np"
   ]
  },
  {
   "cell_type": "code",
   "execution_count": 6,
   "id": "038207b8-eb77-4369-8e1b-1819deb26ea9",
   "metadata": {
    "execution": {
     "iopub.execute_input": "2022-07-25T02:03:11.790126Z",
     "iopub.status.busy": "2022-07-25T02:03:11.790126Z",
     "iopub.status.idle": "2022-07-25T02:03:11.801539Z",
     "shell.execute_reply": "2022-07-25T02:03:11.801539Z",
     "shell.execute_reply.started": "2022-07-25T02:03:11.790126Z"
    },
    "tags": []
   },
   "outputs": [],
   "source": [
    "import matplotlib.pyplot as plt\n",
    "plt.rcParams['text.usetex'] = False"
   ]
  },
  {
   "cell_type": "markdown",
   "id": "0f614995-1ec1-4eff-bfa4-dcc14c826fbc",
   "metadata": {},
   "source": [
    "# Exploration"
   ]
  },
  {
   "cell_type": "code",
   "execution_count": 14,
   "id": "e9541802-2221-4856-ac08-c1cb09799443",
   "metadata": {
    "execution": {
     "iopub.execute_input": "2022-07-25T02:05:41.518605Z",
     "iopub.status.busy": "2022-07-25T02:05:41.518605Z",
     "iopub.status.idle": "2022-07-25T02:05:43.309603Z",
     "shell.execute_reply": "2022-07-25T02:05:43.309537Z",
     "shell.execute_reply.started": "2022-07-25T02:05:41.518605Z"
    },
    "tags": []
   },
   "outputs": [
    {
     "data": {
      "application/vnd.jupyter.widget-view+json": {
       "model_id": "c902146da65c44b8a557bf706d419c25",
       "version_major": 2,
       "version_minor": 0
      },
      "text/plain": [
       "interactive(children=(IntSlider(value=229, description='seed', max=300, min=200), Output()), _dom_classes=('wi…"
      ]
     },
     "metadata": {},
     "output_type": "display_data"
    }
   ],
   "source": [
    "m = 37\n",
    "n = 45\n",
    "#seed 229 does not behave correctly\n",
    "def func1(seed=229):\n",
    "    sparsity = 1.5#1.\n",
    "    kwargs = random_problem_with_artifacts(m,n,seed,sparsity)\n",
    "    eq_incidence,outset,eqnidxs,edges_varonleft,varidxs = map(kwargs.get, [\"eq_incidence\",\"outset\",\"eqnidxs\",\"edges_varonleft\",\"varidxs\"])\n",
    "    print(sum(len(elt) for elt in eq_incidence.values())/(m*n))\n",
    "    edges_dir,tree_dir,outset_adj = eqv_to_edges_tree(eq_incidence, outset, n_eqs=m)\n",
    "    edges_undir,tree_undir,_ = eqv_to_edges_tree(eq_incidence, n_eqs=m)\n",
    "    formulation_scc = reformulate(edges_dir, tree_dir, root_solver_name=1)\n",
    "    render_incidence(*formulation_scc, figsize=((10,10)), patchwidth=3);\n",
    "    # xsol, model = min_arc_set_assign(edges_varonleft, varidxs, eqnidxs)\n",
    "    # outset_minassign = dict((right, left-m) for left, right in edges_varonleft if xsol[left, right] > 0.5)\n",
    "    # edges_minassign=invert_edges(edges_undir[0], edges_undir[1], outset_minassign) \n",
    "    # formulation_minassign = reformulate(edges_undir, tree_dir, outset_adj, outset_minassign, root_solver_name=1)\n",
    "    # render_incidence(*formulation_minassign, figsize=((4,4)));\n",
    "    # xsol, model = min_max_scc2(edges_varonleft, varidxs, eqnidxs)\n",
    "    # outset_minscc = dict((right, left-m) for left, right in edges_varonleft if xsol[left, right] > 0.5)\n",
    "    # formulation_minscc = reformulate(edges_dir, tree_dir, outset_adj, outset_minscc, root_solver_name=1)\n",
    "    # render_incidence(*formulation_minscc, figsize=((4,4)));\n",
    "interact(func1, seed=(200,300)); # 20 looks good"
   ]
  },
  {
   "cell_type": "code",
   "execution_count": 7,
   "id": "5144d598-0edc-4366-a24d-b0cc658b8a37",
   "metadata": {
    "execution": {
     "iopub.execute_input": "2022-07-25T02:03:15.193947Z",
     "iopub.status.busy": "2022-07-25T02:03:15.193947Z",
     "iopub.status.idle": "2022-07-25T02:03:15.206089Z",
     "shell.execute_reply": "2022-07-25T02:03:15.205587Z",
     "shell.execute_reply.started": "2022-07-25T02:03:15.193947Z"
    },
    "tags": []
   },
   "outputs": [],
   "source": [
    "from networkx.algorithms.bipartite import random_graph as bipartite_random_graph"
   ]
  },
  {
   "cell_type": "code",
   "execution_count": 10,
   "id": "a627a1dc-d54b-46bc-ad49-b010ad4b8aa8",
   "metadata": {
    "execution": {
     "iopub.execute_input": "2022-07-25T02:03:35.941889Z",
     "iopub.status.busy": "2022-07-25T02:03:35.941889Z",
     "iopub.status.idle": "2022-07-25T02:03:36.369332Z",
     "shell.execute_reply": "2022-07-25T02:03:36.369332Z",
     "shell.execute_reply.started": "2022-07-25T02:03:35.941889Z"
    },
    "tags": []
   },
   "outputs": [],
   "source": [
    "sparsity = 0.5#1.\n",
    "stats = {}\n",
    "m = 50\n",
    "n = 50\n",
    "for sparsity in [0.5, 1., 1.5, 2.]:\n",
    "    stats[sparsity] = []\n",
    "    for seed in range(100):\n",
    "        kwargs = random_problem_with_artifacts(m,n,seed,sparsity)\n",
    "        p = (m+n)/(m*n)*sparsity\n",
    "        #p = min(p, 1.0 - 1.0e-6) \n",
    "        G = bipartite_random_graph(m, n, p, seed)\n",
    "        eq_incidence,outset,eqnidxs,edges_varonleft,varidxs = map(kwargs.get, [\"eq_incidence\",\"outset\",\"eqnidxs\",\"edges_varonleft\",\"varidxs\"])\n",
    "        stats[sparsity].append(np.mean([len(val) for val in eq_incidence.values()]))\n",
    "        #mn = np.mean([len(G[node]) for node in range(m)])\n",
    "        #stats[sparsity].append(mn)"
   ]
  },
  {
   "cell_type": "code",
   "execution_count": 11,
   "id": "e86a5bc8-108d-466c-9d4f-003098b2bd9c",
   "metadata": {
    "execution": {
     "iopub.execute_input": "2022-07-25T02:03:36.874524Z",
     "iopub.status.busy": "2022-07-25T02:03:36.874009Z",
     "iopub.status.idle": "2022-07-25T02:03:37.150953Z",
     "shell.execute_reply": "2022-07-25T02:03:37.150094Z",
     "shell.execute_reply.started": "2022-07-25T02:03:36.874524Z"
    },
    "tags": []
   },
   "outputs": [
    {
     "data": {
      "image/png": "[encoded data removed]",
      "text/plain": [
       "<Figure size 432x288 with 1 Axes>"
      ]
     },
     "metadata": {
      "needs_background": "light"
     },
     "output_type": "display_data"
    }
   ],
   "source": [
    "sns.histplot(data=stats, palette=\"deep\", bins=40);"
   ]
  },
  {
   "cell_type": "code",
   "execution_count": 29,
   "id": "f50dafc1-c860-46f9-8e6a-cdf04c6d9d5b",
   "metadata": {
    "execution": {
     "iopub.execute_input": "2022-07-25T16:14:40.958029Z",
     "iopub.status.busy": "2022-07-25T16:14:40.956088Z",
     "iopub.status.idle": "2022-07-25T16:14:40.989020Z",
     "shell.execute_reply": "2022-07-25T16:14:40.987647Z",
     "shell.execute_reply.started": "2022-07-25T16:14:40.957031Z"
    },
    "tags": []
   },
   "outputs": [],
   "source": [
    "# For presentation slides, (m,n,seed) = (4,5,221)\n",
    "m = 10#37,4\n",
    "n = 15#45,5\n",
    "seed = 221#257#23\n",
    "runs = (\n",
    "    (0.5, 'sparsity_half.png'),\n",
    "    (1., 'sparsity_one.png'),\n",
    "    (1.5, 'sparsity_one_and_half.png')\n",
    ")\n",
    "sparsity, figname = 1.5, ''"
   ]
  },
  {
   "cell_type": "code",
   "execution_count": 30,
   "id": "39aa590c-2b3b-495f-9c39-bc4af997ef5e",
   "metadata": {
    "execution": {
     "iopub.execute_input": "2022-07-25T16:14:42.231226Z",
     "iopub.status.busy": "2022-07-25T16:14:42.231226Z",
     "iopub.status.idle": "2022-07-25T16:14:42.249557Z",
     "shell.execute_reply": "2022-07-25T16:14:42.249056Z",
     "shell.execute_reply.started": "2022-07-25T16:14:42.231226Z"
    },
    "tags": []
   },
   "outputs": [],
   "source": [
    "kwargs = random_problem_with_artifacts(m,n,seed,sparsity)"
   ]
  },
  {
   "cell_type": "code",
   "execution_count": 31,
   "id": "4931a100-9484-475c-b2ac-6786db64e619",
   "metadata": {
    "execution": {
     "iopub.execute_input": "2022-07-25T16:14:42.689775Z",
     "iopub.status.busy": "2022-07-25T16:14:42.689775Z",
     "iopub.status.idle": "2022-07-25T16:14:42.703677Z",
     "shell.execute_reply": "2022-07-25T16:14:42.703677Z",
     "shell.execute_reply.started": "2022-07-25T16:14:42.689775Z"
    },
    "tags": []
   },
   "outputs": [],
   "source": [
    "eq_incidence,outset,eqnidxs,edges_varonleft,varidxs = map(kwargs.get, [\"eq_incidence\",\"outset\",\"eqnidxs\",\"edges_varonleft\",\"varidxs\"])"
   ]
  },
  {
   "cell_type": "code",
   "execution_count": 32,
   "id": "690b488f-07e9-405f-8035-b34de17558c5",
   "metadata": {
    "execution": {
     "iopub.execute_input": "2022-07-25T16:14:43.275375Z",
     "iopub.status.busy": "2022-07-25T16:14:43.274398Z",
     "iopub.status.idle": "2022-07-25T16:14:43.296147Z",
     "shell.execute_reply": "2022-07-25T16:14:43.295142Z",
     "shell.execute_reply.started": "2022-07-25T16:14:43.275375Z"
    },
    "tags": []
   },
   "outputs": [
    {
     "data": {
      "text/plain": [
       "4.4"
      ]
     },
     "execution_count": 32,
     "metadata": {},
     "output_type": "execute_result"
    }
   ],
   "source": [
    "np.mean([len(val) for val in eq_incidence.values()])"
   ]
  },
  {
   "cell_type": "markdown",
   "id": "16ea5943-027f-4b62-849c-2ccb0dea1c0f",
   "metadata": {},
   "source": [
    "## Undirected formulation"
   ]
  },
  {
   "cell_type": "code",
   "execution_count": 33,
   "id": "b3ec84d4-70dd-427c-aeaf-f2d23cc3c1cb",
   "metadata": {
    "execution": {
     "iopub.execute_input": "2022-07-25T16:14:44.984982Z",
     "iopub.status.busy": "2022-07-25T16:14:44.984982Z",
     "iopub.status.idle": "2022-07-25T16:14:44.994702Z",
     "shell.execute_reply": "2022-07-25T16:14:44.993706Z",
     "shell.execute_reply.started": "2022-07-25T16:14:44.984982Z"
    },
    "tags": []
   },
   "outputs": [],
   "source": [
    "edges_undir,tree_undir,_ = eqv_to_edges_tree(eq_incidence, n_eqs=m)\n",
    "edges_dir,tree_dir,outset_adj = eqv_to_edges_tree(eq_incidence, outset, n_eqs=m)\n",
    "tree_undir[2].update({val:1 for val in outset_adj.values()})"
   ]
  },
  {
   "cell_type": "code",
   "execution_count": 35,
   "id": "7d6799a9-8c4a-4fd3-9ec5-e810da435cec",
   "metadata": {
    "execution": {
     "iopub.execute_input": "2022-07-25T16:14:50.024108Z",
     "iopub.status.busy": "2022-07-25T16:14:50.024108Z",
     "iopub.status.idle": "2022-07-25T16:14:50.361940Z",
     "shell.execute_reply": "2022-07-25T16:14:50.361814Z",
     "shell.execute_reply.started": "2022-07-25T16:14:50.024108Z"
    },
    "tags": []
   },
   "outputs": [
    {
     "data": {
      "image/png": "[encoded data removed]",
      "text/plain": [
       "<Figure size 288x288 with 1 Axes>"
      ]
     },
     "metadata": {
      "needs_background": "light"
     },
     "output_type": "display_data"
    }
   ],
   "source": [
    "render_incidence(edges_undir, tree_undir, rotation=60, hideticks=True, figsize=((4,4)));"
   ]
  },
  {
   "cell_type": "code",
   "execution_count": 36,
   "id": "24a2fc0b-e2af-426a-b9a8-8ffafa033a0d",
   "metadata": {
    "execution": {
     "iopub.execute_input": "2022-07-25T16:14:52.107874Z",
     "iopub.status.busy": "2022-07-25T16:14:52.106851Z",
     "iopub.status.idle": "2022-07-25T16:14:52.121091Z",
     "shell.execute_reply": "2022-07-25T16:14:52.120548Z",
     "shell.execute_reply.started": "2022-07-25T16:14:52.107874Z"
    },
    "tags": []
   },
   "outputs": [],
   "source": [
    "# from scipy.sparse import csc_matrix\n",
    "# from scipy.sparse.linalg import splu\n",
    "# from datastructures.rendering import generate_incidence_matrix, plot_incidence_matrix\n",
    "# from scipy.sparse.csgraph import reverse_cuthill_mckee"
   ]
  },
  {
   "cell_type": "code",
   "execution_count": 37,
   "id": "d848a9ff-bd29-48d0-9eb1-1322e3c88312",
   "metadata": {
    "execution": {
     "iopub.execute_input": "2022-07-25T16:14:52.430887Z",
     "iopub.status.busy": "2022-07-25T16:14:52.430887Z",
     "iopub.status.idle": "2022-07-25T16:14:52.449801Z",
     "shell.execute_reply": "2022-07-25T16:14:52.449567Z",
     "shell.execute_reply.started": "2022-07-25T16:14:52.430887Z"
    },
    "tags": []
   },
   "outputs": [],
   "source": [
    "#A = generate_incidence_matrix(edges_dir[0], edges_dir[1], list(eqnidxs), [elt-m for elt in varidxs], diagonalgray=False)"
   ]
  },
  {
   "cell_type": "code",
   "execution_count": 38,
   "id": "618beda9-0a85-467f-aaf5-bad0e7d90dad",
   "metadata": {
    "execution": {
     "iopub.execute_input": "2022-07-25T16:14:52.738760Z",
     "iopub.status.busy": "2022-07-25T16:14:52.737751Z",
     "iopub.status.idle": "2022-07-25T16:14:52.744779Z",
     "shell.execute_reply": "2022-07-25T16:14:52.743950Z",
     "shell.execute_reply.started": "2022-07-25T16:14:52.738760Z"
    },
    "tags": []
   },
   "outputs": [],
   "source": [
    "# Asq = csc_matrix(A[:,list(outset_adj.values())], dtype=float)\n",
    "# p = reverse_cuthill_mckee(Asq)"
   ]
  },
  {
   "cell_type": "code",
   "execution_count": 39,
   "id": "e9bfbf1d-df9b-4857-bb43-f7c4b2d4ae70",
   "metadata": {
    "execution": {
     "iopub.execute_input": "2022-07-25T16:14:52.977855Z",
     "iopub.status.busy": "2022-07-25T16:14:52.977055Z",
     "iopub.status.idle": "2022-07-25T16:14:52.994063Z",
     "shell.execute_reply": "2022-07-25T16:14:52.993449Z",
     "shell.execute_reply.started": "2022-07-25T16:14:52.977855Z"
    },
    "tags": []
   },
   "outputs": [],
   "source": [
    "# Acm = (Asq.toarray()[p,:])[:,p]"
   ]
  },
  {
   "cell_type": "code",
   "execution_count": 40,
   "id": "ac56393d-d6b2-46d8-9631-e7bab6182014",
   "metadata": {
    "execution": {
     "iopub.execute_input": "2022-07-25T16:14:53.172238Z",
     "iopub.status.busy": "2022-07-25T16:14:53.172238Z",
     "iopub.status.idle": "2022-07-25T16:14:53.180853Z",
     "shell.execute_reply": "2022-07-25T16:14:53.180536Z",
     "shell.execute_reply.started": "2022-07-25T16:14:53.172238Z"
    },
    "tags": []
   },
   "outputs": [],
   "source": [
    "# column_labels = ['$x_{}$'.format(var) for var in p]\n",
    "# row_labels = ['$f_{}$'.format(fx) for fx in p]\n",
    "# plot_incidence_matrix(Acm, column_labels, row_labels, **kwargs);"
   ]
  },
  {
   "cell_type": "code",
   "execution_count": 41,
   "id": "a797a7d8-d683-4dd2-9120-b65beb4fc254",
   "metadata": {
    "execution": {
     "iopub.execute_input": "2022-07-25T16:14:53.350881Z",
     "iopub.status.busy": "2022-07-25T16:14:53.349878Z",
     "iopub.status.idle": "2022-07-25T16:14:53.367098Z",
     "shell.execute_reply": "2022-07-25T16:14:53.366499Z",
     "shell.execute_reply.started": "2022-07-25T16:14:53.350881Z"
    },
    "tags": []
   },
   "outputs": [],
   "source": [
    "# column_labels = ['$x_{}$'.format(var) for var in range(10)]\n",
    "# row_labels = ['$f_{}$'.format(fx) for fx in range(10)]\n",
    "# plot_incidence_matrix(Asq.toarray(), column_labels, row_labels, **kwargs);"
   ]
  },
  {
   "cell_type": "markdown",
   "id": "d27f0574-3bcd-451b-a85c-c0bc384c39ac",
   "metadata": {},
   "source": [
    "## Directed formulation\n",
    "Based on initial formulation"
   ]
  },
  {
   "cell_type": "code",
   "execution_count": 43,
   "id": "9a2b7754-7492-4e4b-b56f-7913d8fe0489",
   "metadata": {
    "execution": {
     "iopub.execute_input": "2022-07-25T16:15:11.328053Z",
     "iopub.status.busy": "2022-07-25T16:15:11.327120Z",
     "iopub.status.idle": "2022-07-25T16:15:12.099450Z",
     "shell.execute_reply": "2022-07-25T16:15:12.098979Z",
     "shell.execute_reply.started": "2022-07-25T16:15:11.328053Z"
    },
    "tags": []
   },
   "outputs": [
    {
     "data": {
      "image/png": "[encoded data removed]",
      "text/plain": [
       "<Figure size 288x288 with 1 Axes>"
      ]
     },
     "metadata": {
      "needs_background": "light"
     },
     "output_type": "display_data"
    }
   ],
   "source": [
    "render_incidence(edges_dir, tree_dir, figsize=((4,4)), figname=\"defense_fac_init.png\", save=True, rotation=60, hideticks=True, patchwidth=4);"
   ]
  },
  {
   "cell_type": "markdown",
   "id": "b4d05252-854b-4bde-9e31-32ffd75cd3e1",
   "metadata": {},
   "source": [
    "## Condensation"
   ]
  },
  {
   "cell_type": "code",
   "execution_count": 44,
   "id": "bc060feb-e154-460d-833d-e36a817d6806",
   "metadata": {
    "execution": {
     "iopub.execute_input": "2022-07-25T16:15:26.507761Z",
     "iopub.status.busy": "2022-07-25T16:15:26.507761Z",
     "iopub.status.idle": "2022-07-25T16:15:26.783131Z",
     "shell.execute_reply": "2022-07-25T16:15:26.782005Z",
     "shell.execute_reply.started": "2022-07-25T16:15:26.507761Z"
    },
    "tags": []
   },
   "outputs": [
    {
     "data": {
      "image/png": "[encoded data removed]",
      "text/plain": [
       "<Figure size 288x288 with 1 Axes>"
      ]
     },
     "metadata": {
      "needs_background": "light"
     },
     "output_type": "display_data"
    }
   ],
   "source": [
    "formulation_scc = reformulate(edges_dir, tree_dir, root_solver_name=1)\n",
    "render_incidence(*formulation_scc, figsize=((4,4)), rotation=60, hideticks=True,);"
   ]
  },
  {
   "cell_type": "code",
   "execution_count": 45,
   "id": "bdbba028-a126-4c0a-b580-29bf379bb871",
   "metadata": {
    "execution": {
     "iopub.execute_input": "2022-07-25T16:15:30.452776Z",
     "iopub.status.busy": "2022-07-25T16:15:30.452776Z",
     "iopub.status.idle": "2022-07-25T16:15:30.739995Z",
     "shell.execute_reply": "2022-07-25T16:15:30.739489Z",
     "shell.execute_reply.started": "2022-07-25T16:15:30.452776Z"
    },
    "tags": []
   },
   "outputs": [
    {
     "data": {
      "image/png": "[encoded data removed]",
      "text/plain": [
       "<Figure size 288x288 with 1 Axes>"
      ]
     },
     "metadata": {
      "needs_background": "light"
     },
     "output_type": "display_data"
    }
   ],
   "source": [
    "formulation_scc = reformulate(edges_dir, tree_dir, root_solver_name=1, mdf=False)\n",
    "render_incidence(*formulation_scc, figsize=((4,4)), rotation=0, hideticks=True,);"
   ]
  },
  {
   "cell_type": "markdown",
   "id": "33158b92-ff27-4ee7-a999-a383348f078b",
   "metadata": {},
   "source": [
    "## DM fine"
   ]
  },
  {
   "cell_type": "code",
   "execution_count": 98,
   "id": "b6644493-a5d5-4e3a-9858-b1e20bf4d7da",
   "metadata": {
    "execution": {
     "iopub.execute_input": "2022-07-22T15:00:04.817903Z",
     "iopub.status.busy": "2022-07-22T15:00:04.817903Z",
     "iopub.status.idle": "2022-07-22T15:00:04.827623Z",
     "shell.execute_reply": "2022-07-22T15:00:04.826339Z",
     "shell.execute_reply.started": "2022-07-22T15:00:04.817903Z"
    },
    "tags": []
   },
   "outputs": [],
   "source": [
    "#draw_graph_graphical_props(G, prog='neato', figsize=(11,4))"
   ]
  },
  {
   "cell_type": "code",
   "execution_count": 51,
   "id": "df3cf86d-6441-49a0-8cef-ff9f66fb1603",
   "metadata": {
    "execution": {
     "iopub.execute_input": "2022-07-25T16:34:07.620078Z",
     "iopub.status.busy": "2022-07-25T16:34:07.619081Z",
     "iopub.status.idle": "2022-07-25T16:34:07.629865Z",
     "shell.execute_reply": "2022-07-25T16:34:07.629681Z",
     "shell.execute_reply.started": "2022-07-25T16:34:07.620078Z"
    },
    "tags": []
   },
   "outputs": [],
   "source": [
    "Ein_no_source = {comp:tuple(var for var in allvars if var in outset.values()) for comp,allvars in eq_incidence.items()}\n",
    "G = flat_graph_formulation(Ein_no_source,{},{},{VAR: 'x_{{{}}}', COMP: 'f_{{{}}}'})\n",
    "matching = nx.bipartite.maximum_matching(G)\n",
    "m_out = {key: matching[Node(key, COMP)].name for key in eqnidxs}\n",
    "edges_dir_m,tree_dir_m,_ = eqv_to_edges_tree(eq_incidence, m_out, n_eqs=m)"
   ]
  },
  {
   "cell_type": "code",
   "execution_count": 52,
   "id": "84645a8e-beb7-4af4-8f3e-b23b88c1b387",
   "metadata": {
    "execution": {
     "iopub.execute_input": "2022-07-25T16:34:08.228690Z",
     "iopub.status.busy": "2022-07-25T16:34:08.228690Z",
     "iopub.status.idle": "2022-07-25T16:34:08.551205Z",
     "shell.execute_reply": "2022-07-25T16:34:08.550942Z",
     "shell.execute_reply.started": "2022-07-25T16:34:08.228690Z"
    },
    "tags": []
   },
   "outputs": [
    {
     "data": {
      "image/png": "[encoded data removed]",
      "text/plain": [
       "<Figure size 288x288 with 1 Axes>"
      ]
     },
     "metadata": {
      "needs_background": "light"
     },
     "output_type": "display_data"
    }
   ],
   "source": [
    "formulation_scc_m = reformulate(edges_dir_m, tree_dir_m, root_solver_name=1)\n",
    "render_incidence(*formulation_scc_m, figsize=((4,4)));"
   ]
  },
  {
   "cell_type": "code",
   "execution_count": 101,
   "id": "863c9f97-faea-4fca-b304-f4e15f558fc2",
   "metadata": {
    "execution": {
     "iopub.execute_input": "2022-07-22T15:00:06.360330Z",
     "iopub.status.busy": "2022-07-22T15:00:06.359332Z",
     "iopub.status.idle": "2022-07-22T15:00:06.471884Z",
     "shell.execute_reply": "2022-07-22T15:00:06.470760Z",
     "shell.execute_reply.started": "2022-07-22T15:00:06.360330Z"
    },
    "tags": []
   },
   "outputs": [
    {
     "data": {
      "image/png": "[encoded data removed]",
      "text/plain": [
       "<Figure size 288x288 with 1 Axes>"
      ]
     },
     "metadata": {
      "needs_background": "light"
     },
     "output_type": "display_data"
    }
   ],
   "source": [
    "formulation_scc_m = reformulate(edges_dir_m, tree_dir_m, root_solver_name=1, mdf=False)\n",
    "render_incidence(*formulation_scc_m, figsize=((4,4)));"
   ]
  },
  {
   "cell_type": "markdown",
   "id": "1ad5b558-5a0a-46db-bff9-084273f21b1d",
   "metadata": {},
   "source": [
    "## MFA"
   ]
  },
  {
   "cell_type": "code",
   "execution_count": 20,
   "id": "657ffa4b-e4c8-4baa-a5ea-6e43dd56e863",
   "metadata": {
    "execution": {
     "iopub.execute_input": "2022-07-25T02:07:36.518201Z",
     "iopub.status.busy": "2022-07-25T02:07:36.517171Z",
     "iopub.status.idle": "2022-07-25T02:07:37.390722Z",
     "shell.execute_reply": "2022-07-25T02:07:37.390429Z",
     "shell.execute_reply.started": "2022-07-25T02:07:36.518201Z"
    },
    "tags": []
   },
   "outputs": [
    {
     "name": "stdout",
     "output_type": "stream",
     "text": [
      "Set parameter Username\n",
      "Academic license - for non-commercial use only - expires 2023-02-25\n"
     ]
    }
   ],
   "source": [
    "cycles, elimset, model = min_arc_set(edges_varonleft, outset, varidxs, eqnidxs)"
   ]
  },
  {
   "cell_type": "code",
   "execution_count": 21,
   "id": "3d09447d-cfb6-4f71-9001-b2841d57ce09",
   "metadata": {
    "execution": {
     "iopub.execute_input": "2022-07-25T02:07:39.933702Z",
     "iopub.status.busy": "2022-07-25T02:07:39.933702Z",
     "iopub.status.idle": "2022-07-25T02:07:39.949908Z",
     "shell.execute_reply": "2022-07-25T02:07:39.949768Z",
     "shell.execute_reply.started": "2022-07-25T02:07:39.933702Z"
    },
    "tags": []
   },
   "outputs": [
    {
     "data": {
      "text/plain": [
       "({2, 12, 19, 27, 29, 32, 34}, {3, 11, 18, 20, 23, 25, 42})"
      ]
     },
     "execution_count": 21,
     "metadata": {},
     "output_type": "execute_result"
    }
   ],
   "source": [
    "elimset, {outset_adj[elt] for elt in elimset}"
   ]
  },
  {
   "cell_type": "code",
   "execution_count": 104,
   "id": "fc070d78-1a96-4f94-ae94-21ded2a5497a",
   "metadata": {
    "execution": {
     "iopub.execute_input": "2022-07-22T15:00:10.222397Z",
     "iopub.status.busy": "2022-07-22T15:00:10.221397Z",
     "iopub.status.idle": "2022-07-22T15:00:10.235957Z",
     "shell.execute_reply": "2022-07-22T15:00:10.234961Z",
     "shell.execute_reply.started": "2022-07-22T15:00:10.222397Z"
    },
    "tags": []
   },
   "outputs": [],
   "source": [
    "outset_mfa = {key:val for key,val in outset_adj.items() if key not in elimset}"
   ]
  },
  {
   "cell_type": "markdown",
   "id": "fc38a1b0-a247-49f3-8f51-5ec307007541",
   "metadata": {},
   "source": [
    "### There is no IDF/MDF"
   ]
  },
  {
   "cell_type": "code",
   "execution_count": 109,
   "id": "b22a0423-9463-4078-b763-7efa0c9dc330",
   "metadata": {
    "execution": {
     "iopub.execute_input": "2022-07-22T15:00:39.332318Z",
     "iopub.status.busy": "2022-07-22T15:00:39.332318Z",
     "iopub.status.idle": "2022-07-22T15:00:39.555906Z",
     "shell.execute_reply": "2022-07-22T15:00:39.555428Z",
     "shell.execute_reply.started": "2022-07-22T15:00:39.332318Z"
    },
    "tags": []
   },
   "outputs": [
    {
     "data": {
      "image/png": "[encoded data removed]",
      "text/plain": [
       "<Figure size 216x216 with 1 Axes>"
      ]
     },
     "metadata": {
      "needs_background": "light"
     },
     "output_type": "display_data"
    }
   ],
   "source": [
    "formulation_mfa = reformulate(edges_dir, tree_dir, outset_adj, outset_mfa, root_solver_name=1)\n",
    "render_incidence(*formulation_mfa, figsize=((3,3)), figname=\"defense_fac_opt.png\", save=True, fontsize=22, rotation=0, hideticks=True, patchwidth=4);"
   ]
  },
  {
   "cell_type": "markdown",
   "id": "533fc8eb-89f3-4210-9ecf-ad7bd9202ec5",
   "metadata": {},
   "source": [
    "## Tearing"
   ]
  },
  {
   "cell_type": "code",
   "execution_count": 22,
   "id": "1f7e8916-3654-4d88-90bc-8580938512fe",
   "metadata": {
    "execution": {
     "iopub.execute_input": "2022-07-25T02:07:47.548334Z",
     "iopub.status.busy": "2022-07-25T02:07:47.548334Z",
     "iopub.status.idle": "2022-07-25T02:07:47.562699Z",
     "shell.execute_reply": "2022-07-25T02:07:47.562385Z",
     "shell.execute_reply.started": "2022-07-25T02:07:47.548334Z"
    },
    "tags": []
   },
   "outputs": [],
   "source": [
    "fixed_inputs = set(varidxs)-set(outset.values())"
   ]
  },
  {
   "cell_type": "code",
   "execution_count": 24,
   "id": "389b7fd5-de5a-4bb6-9156-f077e91c8ab1",
   "metadata": {
    "execution": {
     "iopub.execute_input": "2022-07-25T02:10:26.028570Z",
     "iopub.status.busy": "2022-07-25T02:10:26.028570Z",
     "iopub.status.idle": "2022-07-25T02:10:26.040353Z",
     "shell.execute_reply": "2022-07-25T02:10:26.039357Z",
     "shell.execute_reply.started": "2022-07-25T02:10:26.028570Z"
    },
    "tags": []
   },
   "outputs": [],
   "source": [
    "xsol, model = min_arc_set_assign(edges_varonleft, varidxs, eqnidxs, not_output=fixed_inputs)\n",
    "outset_tear = dict((right, left-m) for left, right in edges_varonleft if xsol[left, right] > 0.5)\n",
    "formulation_tear = reformulate(edges_dir, tree_dir, outset_adj, outset_tear, \n",
    "                               not_outputs={elt-m for elt in fixed_inputs},\n",
    "                               root_solver_name=1)\n",
    "render_incidence(*formulation_tear, figsize=((3,3)), figname=\"defense_tear_opt.png\", save=True, fontsize=22, rotation=0, hideticks=True, patchwidth=4);"
   ]
  },
  {
   "cell_type": "code",
   "execution_count": 28,
   "id": "f900e21d-e503-4838-b564-7618aecc263f",
   "metadata": {
    "execution": {
     "iopub.execute_input": "2022-07-25T02:12:47.029762Z",
     "iopub.status.busy": "2022-07-25T02:12:47.029762Z",
     "iopub.status.idle": "2022-07-25T02:12:48.838354Z",
     "shell.execute_reply": "2022-07-25T02:12:48.838079Z",
     "shell.execute_reply.started": "2022-07-25T02:12:47.029762Z"
    },
    "tags": []
   },
   "outputs": [
    {
     "data": {
      "image/png": "[encoded data removed]",
      "text/plain": [
       "<Figure size 720x720 with 1 Axes>"
      ]
     },
     "metadata": {
      "needs_background": "light"
     },
     "output_type": "display_data"
    }
   ],
   "source": [
    "render_incidence(*formulation_tear, figsize=((10,10)));"
   ]
  },
  {
   "cell_type": "markdown",
   "id": "7b4ee40c-5606-46d2-8765-b8ce3528dc96",
   "metadata": {},
   "source": [
    "## Tearing with input"
   ]
  },
  {
   "cell_type": "code",
   "execution_count": 111,
   "id": "f9b4098f-272a-4245-b29f-362a5acc8198",
   "metadata": {
    "execution": {
     "iopub.execute_input": "2022-07-22T15:02:55.003646Z",
     "iopub.status.busy": "2022-07-22T15:02:55.002723Z",
     "iopub.status.idle": "2022-07-22T15:02:55.030374Z",
     "shell.execute_reply": "2022-07-22T15:02:55.029488Z",
     "shell.execute_reply.started": "2022-07-22T15:02:55.003646Z"
    },
    "tags": []
   },
   "outputs": [],
   "source": [
    "xsol, model = min_arc_set_assign(edges_varonleft, varidxs, eqnidxs)\n",
    "outset_minassign = dict((right, left-m) for left, right in edges_varonleft if xsol[left, right] > 0.5)"
   ]
  },
  {
   "cell_type": "code",
   "execution_count": 112,
   "id": "3917ec9e-9f05-4d79-9975-b707a73878a8",
   "metadata": {
    "execution": {
     "iopub.execute_input": "2022-07-22T15:02:55.208234Z",
     "iopub.status.busy": "2022-07-22T15:02:55.208234Z",
     "iopub.status.idle": "2022-07-22T15:02:55.216051Z",
     "shell.execute_reply": "2022-07-22T15:02:55.216051Z",
     "shell.execute_reply.started": "2022-07-22T15:02:55.208234Z"
    },
    "tags": []
   },
   "outputs": [],
   "source": [
    "edges_minassign=invert_edges(edges_undir[0], edges_undir[1], outset_minassign) "
   ]
  },
  {
   "cell_type": "code",
   "execution_count": 114,
   "id": "f7dd7e47-6bc0-4b73-bb20-6aa900933d41",
   "metadata": {
    "execution": {
     "iopub.execute_input": "2022-07-22T15:03:14.012288Z",
     "iopub.status.busy": "2022-07-22T15:03:14.012288Z",
     "iopub.status.idle": "2022-07-22T15:03:14.235297Z",
     "shell.execute_reply": "2022-07-22T15:03:14.234880Z",
     "shell.execute_reply.started": "2022-07-22T15:03:14.012288Z"
    },
    "tags": []
   },
   "outputs": [
    {
     "data": {
      "image/png": "[encoded data removed]",
      "text/plain": [
       "<Figure size 216x216 with 1 Axes>"
      ]
     },
     "metadata": {
      "needs_background": "light"
     },
     "output_type": "display_data"
    }
   ],
   "source": [
    "formulation_minassign = reformulate(edges_undir, tree_dir, outset_adj, outset_minassign, root_solver_name=1)\n",
    "render_incidence(*formulation_minassign, figsize=((3,3)), figname=\"defense_assign_opt.png\", save=True, fontsize=22, rotation=0, hideticks=True, patchwidth=4);"
   ]
  },
  {
   "cell_type": "markdown",
   "id": "290ee4e7-8cb7-4c4e-b265-0dee4a439c0e",
   "metadata": {},
   "source": [
    "## Min scc"
   ]
  },
  {
   "cell_type": "code",
   "execution_count": 30,
   "id": "6df80577-6240-4727-9a4a-e224dad41c50",
   "metadata": {
    "execution": {
     "iopub.execute_input": "2022-07-19T03:19:30.785960Z",
     "iopub.status.busy": "2022-07-19T03:19:30.785960Z",
     "iopub.status.idle": "2022-07-19T03:19:31.017882Z",
     "shell.execute_reply": "2022-07-19T03:19:31.016966Z",
     "shell.execute_reply.started": "2022-07-19T03:19:30.785960Z"
    },
    "tags": []
   },
   "outputs": [
    {
     "data": {
      "image/png": "[encoded data removed]",
      "text/plain": [
       "<Figure size 288x288 with 1 Axes>"
      ]
     },
     "metadata": {
      "needs_background": "light"
     },
     "output_type": "display_data"
    }
   ],
   "source": [
    "xsol, model = min_max_scc2(edges_varonleft, varidxs, eqnidxs)\n",
    "outset_minscc = dict((right, left-m) for left, right in edges_varonleft if xsol[left, right] > 0.5)\n",
    "formulation_minscc = reformulate(edges_dir, tree_dir, outset_adj, outset_minscc, root_solver_name=1)\n",
    "render_incidence(*formulation_minscc, figsize=((4,4)));"
   ]
  },
  {
   "cell_type": "code",
   "execution_count": null,
   "id": "c59fe9b7-3ab6-4a03-b606-980e33291e11",
   "metadata": {},
   "outputs": [],
   "source": []
  }
 ],
 "metadata": {
  "kernelspec": {
   "display_name": "Python [conda env:minimdo]",
   "language": "python",
   "name": "conda-env-minimdo-py"
  },
  "language_info": {
   "codemirror_mode": {
    "name": "ipython",
    "version": 3
   },
   "file_extension": ".py",
   "mimetype": "text/x-python",
   "name": "python",
   "nbconvert_exporter": "python",
   "pygments_lexer": "ipython3",
   "version": "3.9.12"
  }
 },
 "nbformat": 4,
 "nbformat_minor": 5
}
