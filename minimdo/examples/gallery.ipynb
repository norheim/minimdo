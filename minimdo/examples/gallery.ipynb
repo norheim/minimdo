{
 "cells": [
  {
   "cell_type": "code",
   "execution_count": 1,
   "id": "8f054005-45c7-4d12-9030-806283526b75",
   "metadata": {
    "execution": {
     "iopub.execute_input": "2022-08-09T22:47:53.745201Z",
     "iopub.status.busy": "2022-08-09T22:47:53.742201Z",
     "iopub.status.idle": "2022-08-09T22:48:00.114508Z",
     "shell.execute_reply": "2022-08-09T22:48:00.113850Z",
     "shell.execute_reply.started": "2022-08-09T22:47:53.743202Z"
    },
    "tags": []
   },
   "outputs": [],
   "source": [
    "from testproblems import generate_random_prob, random_problem_with_artifacts"
   ]
  },
  {
   "cell_type": "code",
   "execution_count": 3,
   "id": "88bd40ca-27e3-405f-9332-34f1aae4336b",
   "metadata": {
    "execution": {
     "iopub.execute_input": "2022-08-09T22:48:17.471696Z",
     "iopub.status.busy": "2022-08-09T22:48:17.471696Z",
     "iopub.status.idle": "2022-08-09T22:48:17.500481Z",
     "shell.execute_reply": "2022-08-09T22:48:17.499610Z",
     "shell.execute_reply.started": "2022-08-09T22:48:17.471696Z"
    },
    "tags": []
   },
   "outputs": [],
   "source": [
    "from datastructures.operators import eqv_to_edges_tree, reformulate, invert_edges\n",
    "from datastructures.graphutils import (default_tree, flat_graph_formulation, Node, COMP, VAR, sources, \n",
    "                                       draw_graph_graphical_props, copy_dicts)\n",
    "from datastructures.rendering import render_incidence\n",
    "import networkx as nx\n",
    "from datastructures.tearing import min_max_scc2, min_arc_set_assign, min_arc_set, feedbacks"
   ]
  },
  {
   "cell_type": "code",
   "execution_count": 2,
   "id": "92d2f612-598e-47a1-9f7a-f6fc5425500a",
   "metadata": {
    "execution": {
     "iopub.execute_input": "2022-08-09T22:48:15.724384Z",
     "iopub.status.busy": "2022-08-09T22:48:15.723386Z",
     "iopub.status.idle": "2022-08-09T22:48:15.738571Z",
     "shell.execute_reply": "2022-08-09T22:48:15.737264Z",
     "shell.execute_reply.started": "2022-08-09T22:48:15.724384Z"
    },
    "tags": []
   },
   "outputs": [],
   "source": [
    "from ipywidgets import interact, interactive, fixed, interact_manual\n",
    "import numpy as np\n",
    "import matplotlib.pyplot as plt\n",
    "plt.rcParams['text.usetex'] = False"
   ]
  },
  {
   "cell_type": "markdown",
   "id": "0f614995-1ec1-4eff-bfa4-dcc14c826fbc",
   "metadata": {},
   "source": [
    "# Exploration"
   ]
  },
  {
   "cell_type": "code",
   "execution_count": 4,
   "id": "e9541802-2221-4856-ac08-c1cb09799443",
   "metadata": {
    "execution": {
     "iopub.execute_input": "2022-08-09T22:48:26.776969Z",
     "iopub.status.busy": "2022-08-09T22:48:26.776969Z",
     "iopub.status.idle": "2022-08-09T22:48:28.473396Z",
     "shell.execute_reply": "2022-08-09T22:48:28.472286Z",
     "shell.execute_reply.started": "2022-08-09T22:48:26.776969Z"
    },
    "tags": []
   },
   "outputs": [
    {
     "data": {
      "application/vnd.jupyter.widget-view+json": {
       "model_id": "4d0068ec40e1417d8f162dd454376041",
       "version_major": 2,
       "version_minor": 0
      },
      "text/plain": [
       "interactive(children=(IntSlider(value=229, description='seed', max=300, min=200), Output()), _dom_classes=('wi…"
      ]
     },
     "metadata": {},
     "output_type": "display_data"
    }
   ],
   "source": [
    "m = 10\n",
    "n = 13\n",
    "#seed 229 does not behave correctly\n",
    "# (4,5,249,1.) is an interesting case\n",
    "def func1(seed=229):\n",
    "    sparsity = 1.#1.\n",
    "    kwargs = random_problem_with_artifacts(m,n,seed,sparsity)\n",
    "    eq_incidence,outset,eqnidxs,edges_varonleft,varidxs = map(kwargs.get, [\"eq_incidence\",\"outset\",\"eqnidxs\",\"edges_varonleft\",\"varidxs\"])\n",
    "    print(np.mean([len(val) for val in eq_incidence.values()]))\n",
    "    edges_dir,tree_dir,outset_adj = eqv_to_edges_tree(eq_incidence, outset, n_eqs=m)\n",
    "    edges_undir,tree_undir,_ = eqv_to_edges_tree(eq_incidence, n_eqs=m)\n",
    "    formulation_scc = reformulate(edges_dir, tree_dir, root_solver_name=1)\n",
    "    render_incidence(*formulation_scc, figsize=((4,4)), patchwidth=3);\n",
    "    xsol, model = min_arc_set_assign(edges_varonleft, varidxs, eqnidxs)\n",
    "    outset_minassign = dict((right, left-m) for left, right in edges_varonleft if xsol[left, right] > 0.5)\n",
    "    edges_minassign=invert_edges(edges_undir[0], edges_undir[1], outset_minassign) \n",
    "    formulation_minassign = reformulate(edges_undir, tree_dir, outset_adj, outset_minassign, root_solver_name=1)\n",
    "    render_incidence(*formulation_minassign, figsize=((4,4)));\n",
    "    xsol, model = min_max_scc2(edges_varonleft, varidxs, eqnidxs)\n",
    "    outset_minscc = dict((right, left-m) for left, right in edges_varonleft if xsol[left, right] > 0.5)\n",
    "    formulation_minscc = reformulate(edges_dir, tree_dir, outset_adj, outset_minscc, root_solver_name=1)\n",
    "    render_incidence(*formulation_minscc, figsize=((4,4)));\n",
    "interact(func1, seed=(200,300)); # 20 looks good"
   ]
  },
  {
   "cell_type": "code",
   "execution_count": 5,
   "id": "f50dafc1-c860-46f9-8e6a-cdf04c6d9d5b",
   "metadata": {
    "execution": {
     "iopub.execute_input": "2022-08-09T22:49:41.428470Z",
     "iopub.status.busy": "2022-08-09T22:49:41.427474Z",
     "iopub.status.idle": "2022-08-09T22:49:41.441913Z",
     "shell.execute_reply": "2022-08-09T22:49:41.440836Z",
     "shell.execute_reply.started": "2022-08-09T22:49:41.428470Z"
    },
    "tags": []
   },
   "outputs": [],
   "source": [
    "# For presentation slides, (m,n,seed) = (4,5,221,1.0)\n",
    "m = 4#37,4\n",
    "n = 5#45,5\n",
    "seed = 220#221#269#257#23\n",
    "runs = (\n",
    "    (0.5, 'sparsity_half.png'),\n",
    "    (1., 'sparsity_one.png'),\n",
    "    (1.5, 'sparsity_one_and_half.png')\n",
    ")\n",
    "sparsity, figname = 1., ''\n",
    "m,n,seed,sparsity = (4,5,221,1.0)\n",
    "#m,n,seed,sparsity = 20,24,8,1.5\n",
    "m,n,seed,sparsity = 10,13,227,1."
   ]
  },
  {
   "cell_type": "code",
   "execution_count": 6,
   "id": "39aa590c-2b3b-495f-9c39-bc4af997ef5e",
   "metadata": {
    "execution": {
     "iopub.execute_input": "2022-08-09T22:49:44.865322Z",
     "iopub.status.busy": "2022-08-09T22:49:44.864321Z",
     "iopub.status.idle": "2022-08-09T22:49:44.887816Z",
     "shell.execute_reply": "2022-08-09T22:49:44.885930Z",
     "shell.execute_reply.started": "2022-08-09T22:49:44.865322Z"
    },
    "tags": []
   },
   "outputs": [],
   "source": [
    "kwargs = random_problem_with_artifacts(m,n,seed,sparsity, independent_of_n=False)"
   ]
  },
  {
   "cell_type": "code",
   "execution_count": 7,
   "id": "4931a100-9484-475c-b2ac-6786db64e619",
   "metadata": {
    "execution": {
     "iopub.execute_input": "2022-08-09T22:49:49.515331Z",
     "iopub.status.busy": "2022-08-09T22:49:49.513334Z",
     "iopub.status.idle": "2022-08-09T22:49:49.526586Z",
     "shell.execute_reply": "2022-08-09T22:49:49.526118Z",
     "shell.execute_reply.started": "2022-08-09T22:49:49.515331Z"
    },
    "tags": []
   },
   "outputs": [],
   "source": [
    "eq_incidence,outset,eqnidxs,edges_varonleft,varidxs = map(kwargs.get, [\"eq_incidence\",\"outset\",\"eqnidxs\",\"edges_varonleft\",\"varidxs\"])"
   ]
  },
  {
   "cell_type": "code",
   "execution_count": 8,
   "id": "690b488f-07e9-405f-8035-b34de17558c5",
   "metadata": {
    "execution": {
     "iopub.execute_input": "2022-08-09T22:49:50.789714Z",
     "iopub.status.busy": "2022-08-09T22:49:50.788634Z",
     "iopub.status.idle": "2022-08-09T22:49:50.803398Z",
     "shell.execute_reply": "2022-08-09T22:49:50.802507Z",
     "shell.execute_reply.started": "2022-08-09T22:49:50.789714Z"
    },
    "tags": []
   },
   "outputs": [
    {
     "data": {
      "text/plain": [
       "3.5"
      ]
     },
     "execution_count": 8,
     "metadata": {},
     "output_type": "execute_result"
    }
   ],
   "source": [
    "np.mean([len(val) for val in eq_incidence.values()])"
   ]
  },
  {
   "cell_type": "markdown",
   "id": "16ea5943-027f-4b62-849c-2ccb0dea1c0f",
   "metadata": {},
   "source": [
    "## Undirected formulation"
   ]
  },
  {
   "cell_type": "code",
   "execution_count": 9,
   "id": "2214f0b2-e0fe-4c4d-83a1-7a406383e4b1",
   "metadata": {
    "execution": {
     "iopub.execute_input": "2022-08-09T22:54:27.336323Z",
     "iopub.status.busy": "2022-08-09T22:54:27.336323Z",
     "iopub.status.idle": "2022-08-09T22:54:27.350882Z",
     "shell.execute_reply": "2022-08-09T22:54:27.350341Z",
     "shell.execute_reply.started": "2022-08-09T22:54:27.336323Z"
    },
    "tags": []
   },
   "outputs": [],
   "source": [
    "#outset[3]=7"
   ]
  },
  {
   "cell_type": "code",
   "execution_count": 10,
   "id": "b3ec84d4-70dd-427c-aeaf-f2d23cc3c1cb",
   "metadata": {
    "execution": {
     "iopub.execute_input": "2022-08-09T22:54:28.037831Z",
     "iopub.status.busy": "2022-08-09T22:54:28.037831Z",
     "iopub.status.idle": "2022-08-09T22:54:28.050027Z",
     "shell.execute_reply": "2022-08-09T22:54:28.048822Z",
     "shell.execute_reply.started": "2022-08-09T22:54:28.037831Z"
    },
    "tags": []
   },
   "outputs": [],
   "source": [
    "edges_undir,tree_undir,_ = eqv_to_edges_tree(eq_incidence, n_eqs=m)\n",
    "edges_dir,tree_dir,outset_adj = eqv_to_edges_tree(eq_incidence, outset, n_eqs=m)\n",
    "tree_undir[2].update({val:1 for val in outset_adj.values()})"
   ]
  },
  {
   "cell_type": "code",
   "execution_count": 11,
   "id": "7d6799a9-8c4a-4fd3-9ec5-e810da435cec",
   "metadata": {
    "execution": {
     "iopub.execute_input": "2022-08-09T22:54:28.607320Z",
     "iopub.status.busy": "2022-08-09T22:54:28.606340Z",
     "iopub.status.idle": "2022-08-09T22:54:29.248897Z",
     "shell.execute_reply": "2022-08-09T22:54:29.248327Z",
     "shell.execute_reply.started": "2022-08-09T22:54:28.607320Z"
    },
    "tags": []
   },
   "outputs": [
    {
     "data": {
      "image/png": "[encoded data removed]",
      "text/plain": [
       "<Figure size 432x288 with 1 Axes>"
      ]
     },
     "metadata": {
      "needs_background": "light"
     },
     "output_type": "display_data"
    }
   ],
   "source": [
    "render_incidence(edges_undir, tree_undir, rotation=60, hideticks=True, save=False, fontsize=22, patchwidth=4);"
   ]
  },
  {
   "cell_type": "code",
   "execution_count": 12,
   "id": "24a2fc0b-e2af-426a-b9a8-8ffafa033a0d",
   "metadata": {
    "execution": {
     "iopub.execute_input": "2022-08-09T22:54:39.018006Z",
     "iopub.status.busy": "2022-08-09T22:54:39.017006Z",
     "iopub.status.idle": "2022-08-09T22:54:39.028406Z",
     "shell.execute_reply": "2022-08-09T22:54:39.027663Z",
     "shell.execute_reply.started": "2022-08-09T22:54:39.018006Z"
    },
    "tags": []
   },
   "outputs": [],
   "source": [
    "# from scipy.sparse import csc_matrix\n",
    "# from scipy.sparse.linalg import splu\n",
    "# from datastructures.rendering import generate_incidence_matrix, plot_incidence_matrix\n",
    "# from scipy.sparse.csgraph import reverse_cuthill_mckee"
   ]
  },
  {
   "cell_type": "code",
   "execution_count": 13,
   "id": "d848a9ff-bd29-48d0-9eb1-1322e3c88312",
   "metadata": {
    "execution": {
     "iopub.execute_input": "2022-08-09T22:54:39.262755Z",
     "iopub.status.busy": "2022-08-09T22:54:39.262755Z",
     "iopub.status.idle": "2022-08-09T22:54:39.277547Z",
     "shell.execute_reply": "2022-08-09T22:54:39.276581Z",
     "shell.execute_reply.started": "2022-08-09T22:54:39.262755Z"
    },
    "tags": []
   },
   "outputs": [],
   "source": [
    "#A = generate_incidence_matrix(edges_dir[0], edges_dir[1], list(eqnidxs), [elt-m for elt in varidxs], diagonalgray=False)"
   ]
  },
  {
   "cell_type": "code",
   "execution_count": 14,
   "id": "618beda9-0a85-467f-aaf5-bad0e7d90dad",
   "metadata": {
    "execution": {
     "iopub.execute_input": "2022-08-09T22:54:39.461387Z",
     "iopub.status.busy": "2022-08-09T22:54:39.460385Z",
     "iopub.status.idle": "2022-08-09T22:54:39.479548Z",
     "shell.execute_reply": "2022-08-09T22:54:39.478431Z",
     "shell.execute_reply.started": "2022-08-09T22:54:39.461387Z"
    },
    "tags": []
   },
   "outputs": [],
   "source": [
    "# Asq = csc_matrix(A[:,list(outset_adj.values())], dtype=float)\n",
    "# p = reverse_cuthill_mckee(Asq)"
   ]
  },
  {
   "cell_type": "code",
   "execution_count": 15,
   "id": "e9bfbf1d-df9b-4857-bb43-f7c4b2d4ae70",
   "metadata": {
    "execution": {
     "iopub.execute_input": "2022-08-09T22:54:39.599680Z",
     "iopub.status.busy": "2022-08-09T22:54:39.599680Z",
     "iopub.status.idle": "2022-08-09T22:54:39.603779Z",
     "shell.execute_reply": "2022-08-09T22:54:39.603585Z",
     "shell.execute_reply.started": "2022-08-09T22:54:39.599680Z"
    },
    "tags": []
   },
   "outputs": [],
   "source": [
    "# Acm = (Asq.toarray()[p,:])[:,p]"
   ]
  },
  {
   "cell_type": "code",
   "execution_count": 16,
   "id": "ac56393d-d6b2-46d8-9631-e7bab6182014",
   "metadata": {
    "execution": {
     "iopub.execute_input": "2022-08-09T22:54:39.778957Z",
     "iopub.status.busy": "2022-08-09T22:54:39.778266Z",
     "iopub.status.idle": "2022-08-09T22:54:39.790438Z",
     "shell.execute_reply": "2022-08-09T22:54:39.789347Z",
     "shell.execute_reply.started": "2022-08-09T22:54:39.778957Z"
    },
    "tags": []
   },
   "outputs": [],
   "source": [
    "# column_labels = ['$x_{}$'.format(var) for var in p]\n",
    "# row_labels = ['$f_{}$'.format(fx) for fx in p]\n",
    "# plot_incidence_matrix(Acm, column_labels, row_labels, **kwargs);"
   ]
  },
  {
   "cell_type": "code",
   "execution_count": 17,
   "id": "a797a7d8-d683-4dd2-9120-b65beb4fc254",
   "metadata": {
    "execution": {
     "iopub.execute_input": "2022-08-09T22:54:40.244200Z",
     "iopub.status.busy": "2022-08-09T22:54:40.244200Z",
     "iopub.status.idle": "2022-08-09T22:54:40.260147Z",
     "shell.execute_reply": "2022-08-09T22:54:40.259059Z",
     "shell.execute_reply.started": "2022-08-09T22:54:40.244200Z"
    },
    "tags": []
   },
   "outputs": [],
   "source": [
    "# column_labels = ['$x_{}$'.format(var) for var in range(10)]\n",
    "# row_labels = ['$f_{}$'.format(fx) for fx in range(10)]\n",
    "# plot_incidence_matrix(Asq.toarray(), column_labels, row_labels, **kwargs);"
   ]
  },
  {
   "cell_type": "markdown",
   "id": "d27f0574-3bcd-451b-a85c-c0bc384c39ac",
   "metadata": {},
   "source": [
    "## Directed formulation\n",
    "Baseline formulation"
   ]
  },
  {
   "cell_type": "code",
   "execution_count": 19,
   "id": "9a2b7754-7492-4e4b-b56f-7913d8fe0489",
   "metadata": {
    "execution": {
     "iopub.execute_input": "2022-08-09T22:54:52.717829Z",
     "iopub.status.busy": "2022-08-09T22:54:52.717829Z",
     "iopub.status.idle": "2022-08-09T22:54:53.152868Z",
     "shell.execute_reply": "2022-08-09T22:54:53.152660Z",
     "shell.execute_reply.started": "2022-08-09T22:54:52.717829Z"
    },
    "tags": []
   },
   "outputs": [
    {
     "data": {
      "image/png": "[encoded data removed]",
      "text/plain": [
       "<Figure size 288x288 with 1 Axes>"
      ]
     },
     "metadata": {
      "needs_background": "light"
     },
     "output_type": "display_data"
    }
   ],
   "source": [
    "render_incidence(edges_dir, tree_dir, figsize=((4,4)), figname=\"defense_scc_opt.png\", save=False, rotation=60, hideticks=True, patchwidth=4);"
   ]
  },
  {
   "cell_type": "markdown",
   "id": "570f28ff-c359-4145-a9bf-4946ad4b4f7b",
   "metadata": {},
   "source": [
    "### Reformulated based on feedback"
   ]
  },
  {
   "cell_type": "code",
   "execution_count": 20,
   "id": "f68b7dce-46a2-4670-b21b-2503e4b6a588",
   "metadata": {
    "execution": {
     "iopub.execute_input": "2022-08-09T23:34:00.225686Z",
     "iopub.status.busy": "2022-08-09T23:34:00.224682Z",
     "iopub.status.idle": "2022-08-09T23:34:00.247082Z",
     "shell.execute_reply": "2022-08-09T23:34:00.245700Z",
     "shell.execute_reply.started": "2022-08-09T23:34:00.225686Z"
    },
    "tags": []
   },
   "outputs": [],
   "source": [
    "D = flat_graph_formulation(*edges_dir)\n",
    "fvars, fcomps = feedbacks(D, [Node(idx,COMP) for idx in eqnidxs])\n",
    "outset_f = {comp:var for comp,var in outset.items() if Node(comp,COMP) not in fcomps}\n",
    "edges_fb,tree_fb,_ = eqv_to_edges_tree(eq_incidence, outset_f, n_eqs=m)\n",
    "tree_fb[2].update({v.name: 1 for v in sorted(fvars, key=lambda x: x.name)})"
   ]
  },
  {
   "cell_type": "code",
   "execution_count": 22,
   "id": "1dcd5294-b963-460c-b6f5-a0e1a807124f",
   "metadata": {
    "execution": {
     "iopub.execute_input": "2022-08-09T23:34:44.365586Z",
     "iopub.status.busy": "2022-08-09T23:34:44.365586Z",
     "iopub.status.idle": "2022-08-09T23:34:44.823361Z",
     "shell.execute_reply": "2022-08-09T23:34:44.822451Z",
     "shell.execute_reply.started": "2022-08-09T23:34:44.365586Z"
    },
    "tags": []
   },
   "outputs": [
    {
     "data": {
      "image/png": "[encoded data removed]",
      "text/plain": [
       "<Figure size 288x288 with 1 Axes>"
      ]
     },
     "metadata": {
      "needs_background": "light"
     },
     "output_type": "display_data"
    }
   ],
   "source": [
    "render_incidence(edges_fb, tree_fb, dispendcomp=True, figsize=((4,4)), \n",
    "                 figname=\"defense_feedback_equivalence_result.png\", save=False, hideticks=True, patchwidth=4);"
   ]
  },
  {
   "cell_type": "markdown",
   "id": "b4d05252-854b-4bde-9e31-32ffd75cd3e1",
   "metadata": {},
   "source": [
    "## Condensation"
   ]
  },
  {
   "cell_type": "code",
   "execution_count": 23,
   "id": "bc060feb-e154-460d-833d-e36a817d6806",
   "metadata": {
    "execution": {
     "iopub.execute_input": "2022-08-09T23:35:21.101181Z",
     "iopub.status.busy": "2022-08-09T23:35:21.101181Z",
     "iopub.status.idle": "2022-08-09T23:35:21.465126Z",
     "shell.execute_reply": "2022-08-09T23:35:21.465075Z",
     "shell.execute_reply.started": "2022-08-09T23:35:21.101181Z"
    },
    "tags": []
   },
   "outputs": [
    {
     "data": {
      "image/png": "[encoded data removed]",
      "text/plain": [
       "<Figure size 288x288 with 1 Axes>"
      ]
     },
     "metadata": {
      "needs_background": "light"
     },
     "output_type": "display_data"
    }
   ],
   "source": [
    "formulation_scc = reformulate(edges_dir, tree_dir, root_solver_name=1)\n",
    "render_incidence(*formulation_scc, figsize=((4,4)), rotation=60, hideticks=True,);"
   ]
  },
  {
   "cell_type": "code",
   "execution_count": 25,
   "id": "bdbba028-a126-4c0a-b580-29bf379bb871",
   "metadata": {
    "execution": {
     "iopub.execute_input": "2022-08-10T00:32:04.674294Z",
     "iopub.status.busy": "2022-08-10T00:32:04.673218Z",
     "iopub.status.idle": "2022-08-10T00:32:05.099452Z",
     "shell.execute_reply": "2022-08-10T00:32:05.098698Z",
     "shell.execute_reply.started": "2022-08-10T00:32:04.674294Z"
    },
    "tags": []
   },
   "outputs": [
    {
     "data": {
      "image/png": "[encoded data removed]",
      "text/plain": [
       "<Figure size 288x288 with 1 Axes>"
      ]
     },
     "metadata": {
      "needs_background": "light"
     },
     "output_type": "display_data"
    }
   ],
   "source": [
    "formulation_scc = reformulate(edges_dir, tree_dir, root_solver_name=1, mdf=False)\n",
    "render_incidence(*formulation_scc, figsize=((4,4)), rotation=60, hideticks=True,);"
   ]
  },
  {
   "cell_type": "markdown",
   "id": "33158b92-ff27-4ee7-a999-a383348f078b",
   "metadata": {},
   "source": [
    "## DM fine"
   ]
  },
  {
   "cell_type": "code",
   "execution_count": 215,
   "id": "b6644493-a5d5-4e3a-9858-b1e20bf4d7da",
   "metadata": {
    "execution": {
     "iopub.execute_input": "2022-07-26T12:00:55.322082Z",
     "iopub.status.busy": "2022-07-26T12:00:55.322082Z",
     "iopub.status.idle": "2022-07-26T12:00:55.332355Z",
     "shell.execute_reply": "2022-07-26T12:00:55.331845Z",
     "shell.execute_reply.started": "2022-07-26T12:00:55.322082Z"
    },
    "tags": []
   },
   "outputs": [],
   "source": [
    "#draw_graph_graphical_props(G, prog='neato', figsize=(11,4))"
   ]
  },
  {
   "cell_type": "code",
   "execution_count": 26,
   "id": "df3cf86d-6441-49a0-8cef-ff9f66fb1603",
   "metadata": {
    "execution": {
     "iopub.execute_input": "2022-08-10T00:32:23.293788Z",
     "iopub.status.busy": "2022-08-10T00:32:23.293788Z",
     "iopub.status.idle": "2022-08-10T00:32:23.316358Z",
     "shell.execute_reply": "2022-08-10T00:32:23.315434Z",
     "shell.execute_reply.started": "2022-08-10T00:32:23.293788Z"
    },
    "tags": []
   },
   "outputs": [],
   "source": [
    "Ein_no_source = {comp:tuple(var for var in allvars if var in outset.values()) for comp,allvars in eq_incidence.items()}\n",
    "G = flat_graph_formulation(Ein_no_source,{},{},{VAR: 'x_{{{}}}', COMP: 'f_{{{}}}'})\n",
    "matching = nx.bipartite.maximum_matching(G)\n",
    "m_out = {key: matching[Node(key, COMP)].name for key in eqnidxs}\n",
    "edges_dir_m,tree_dir_m,_ = eqv_to_edges_tree(eq_incidence, m_out, n_eqs=m)"
   ]
  },
  {
   "cell_type": "code",
   "execution_count": 40,
   "id": "84645a8e-beb7-4af4-8f3e-b23b88c1b387",
   "metadata": {
    "execution": {
     "iopub.execute_input": "2022-08-10T00:35:16.011097Z",
     "iopub.status.busy": "2022-08-10T00:35:16.011097Z",
     "iopub.status.idle": "2022-08-10T00:35:16.542320Z",
     "shell.execute_reply": "2022-08-10T00:35:16.541318Z",
     "shell.execute_reply.started": "2022-08-10T00:35:16.011097Z"
    },
    "tags": []
   },
   "outputs": [
    {
     "data": {
      "image/png": "[encoded data removed]",
      "text/plain": [
       "<Figure size 288x288 with 1 Axes>"
      ]
     },
     "metadata": {
      "needs_background": "light"
     },
     "output_type": "display_data"
    }
   ],
   "source": [
    "formulation_scc_m = reformulate(edges_dir_m, tree_dir_m, root_solver_name=1)\n",
    "render_incidence(*formulation_scc_m, figsize=((4,4)), hideticks=True);"
   ]
  },
  {
   "cell_type": "code",
   "execution_count": 39,
   "id": "863c9f97-faea-4fca-b304-f4e15f558fc2",
   "metadata": {
    "execution": {
     "iopub.execute_input": "2022-08-10T00:35:10.643595Z",
     "iopub.status.busy": "2022-08-10T00:35:10.642037Z",
     "iopub.status.idle": "2022-08-10T00:35:11.111838Z",
     "shell.execute_reply": "2022-08-10T00:35:11.111114Z",
     "shell.execute_reply.started": "2022-08-10T00:35:10.643096Z"
    },
    "tags": []
   },
   "outputs": [
    {
     "data": {
      "image/png": "[encoded data removed]",
      "text/plain": [
       "<Figure size 288x288 with 1 Axes>"
      ]
     },
     "metadata": {
      "needs_background": "light"
     },
     "output_type": "display_data"
    }
   ],
   "source": [
    "formulation_scc_m = reformulate(edges_dir_m, tree_dir_m, root_solver_name=1, mdf=False)\n",
    "render_incidence(*formulation_scc_m, figsize=((4,4)), hideticks=True);"
   ]
  },
  {
   "cell_type": "markdown",
   "id": "1ad5b558-5a0a-46db-bff9-084273f21b1d",
   "metadata": {},
   "source": [
    "## MFA"
   ]
  },
  {
   "cell_type": "code",
   "execution_count": 29,
   "id": "657ffa4b-e4c8-4baa-a5ea-6e43dd56e863",
   "metadata": {
    "execution": {
     "iopub.execute_input": "2022-08-10T00:33:02.290078Z",
     "iopub.status.busy": "2022-08-10T00:33:02.289079Z",
     "iopub.status.idle": "2022-08-10T00:33:02.309145Z",
     "shell.execute_reply": "2022-08-10T00:33:02.308649Z",
     "shell.execute_reply.started": "2022-08-10T00:33:02.290078Z"
    },
    "tags": []
   },
   "outputs": [],
   "source": [
    "cycles, elimset, model = min_arc_set(edges_varonleft, outset, varidxs, eqnidxs)"
   ]
  },
  {
   "cell_type": "code",
   "execution_count": 30,
   "id": "3d09447d-cfb6-4f71-9001-b2841d57ce09",
   "metadata": {
    "execution": {
     "iopub.execute_input": "2022-08-10T00:33:03.052408Z",
     "iopub.status.busy": "2022-08-10T00:33:03.052408Z",
     "iopub.status.idle": "2022-08-10T00:33:03.074006Z",
     "shell.execute_reply": "2022-08-10T00:33:03.073505Z",
     "shell.execute_reply.started": "2022-08-10T00:33:03.052408Z"
    },
    "tags": []
   },
   "outputs": [
    {
     "data": {
      "text/plain": [
       "({3}, {8})"
      ]
     },
     "execution_count": 30,
     "metadata": {},
     "output_type": "execute_result"
    }
   ],
   "source": [
    "elimset, {outset_adj[elt] for elt in elimset}"
   ]
  },
  {
   "cell_type": "code",
   "execution_count": 31,
   "id": "fc070d78-1a96-4f94-ae94-21ded2a5497a",
   "metadata": {
    "execution": {
     "iopub.execute_input": "2022-08-10T00:33:13.310526Z",
     "iopub.status.busy": "2022-08-10T00:33:13.310526Z",
     "iopub.status.idle": "2022-08-10T00:33:13.322324Z",
     "shell.execute_reply": "2022-08-10T00:33:13.321819Z",
     "shell.execute_reply.started": "2022-08-10T00:33:13.310526Z"
    },
    "tags": []
   },
   "outputs": [],
   "source": [
    "outset_mfa = {key:val for key,val in outset_adj.items() if key not in elimset}"
   ]
  },
  {
   "cell_type": "markdown",
   "id": "fc38a1b0-a247-49f3-8f51-5ec307007541",
   "metadata": {},
   "source": [
    "#### Note: There is no IDF/MDF"
   ]
  },
  {
   "cell_type": "code",
   "execution_count": 35,
   "id": "b22a0423-9463-4078-b763-7efa0c9dc330",
   "metadata": {
    "execution": {
     "iopub.execute_input": "2022-08-10T00:34:03.965450Z",
     "iopub.status.busy": "2022-08-10T00:34:03.965450Z",
     "iopub.status.idle": "2022-08-10T00:34:04.462096Z",
     "shell.execute_reply": "2022-08-10T00:34:04.461006Z",
     "shell.execute_reply.started": "2022-08-10T00:34:03.965450Z"
    },
    "tags": []
   },
   "outputs": [
    {
     "data": {
      "image/png": "[encoded data removed]",
      "text/plain": [
       "<Figure size 288x288 with 1 Axes>"
      ]
     },
     "metadata": {
      "needs_background": "light"
     },
     "output_type": "display_data"
    }
   ],
   "source": [
    "formulation_mfa = reformulate(edges_dir, tree_dir, outset_adj, outset_mfa, root_solver_name=1)\n",
    "render_incidence(*formulation_mfa, figsize=((4,4)), figname=\"defense_fac_opt.png\", save=False, dispendcomp=True, \n",
    "                 rotation=60, hideticks=True, patchwidth=4);"
   ]
  },
  {
   "cell_type": "markdown",
   "id": "533fc8eb-89f3-4210-9ecf-ad7bd9202ec5",
   "metadata": {},
   "source": [
    "## Tearing"
   ]
  },
  {
   "cell_type": "code",
   "execution_count": 36,
   "id": "1f7e8916-3654-4d88-90bc-8580938512fe",
   "metadata": {
    "execution": {
     "iopub.execute_input": "2022-08-10T00:34:16.967867Z",
     "iopub.status.busy": "2022-08-10T00:34:16.966867Z",
     "iopub.status.idle": "2022-08-10T00:34:16.986364Z",
     "shell.execute_reply": "2022-08-10T00:34:16.985335Z",
     "shell.execute_reply.started": "2022-08-10T00:34:16.967867Z"
    },
    "tags": []
   },
   "outputs": [],
   "source": [
    "fixed_inputs = set(varidxs)-set(outset.values())"
   ]
  },
  {
   "cell_type": "code",
   "execution_count": 38,
   "id": "389b7fd5-de5a-4bb6-9156-f077e91c8ab1",
   "metadata": {
    "execution": {
     "iopub.execute_input": "2022-08-10T00:34:40.746496Z",
     "iopub.status.busy": "2022-08-10T00:34:40.745786Z",
     "iopub.status.idle": "2022-08-10T00:34:41.392026Z",
     "shell.execute_reply": "2022-08-10T00:34:41.391495Z",
     "shell.execute_reply.started": "2022-08-10T00:34:40.746496Z"
    },
    "tags": []
   },
   "outputs": [
    {
     "data": {
      "image/png": "[encoded data removed]",
      "text/plain": [
       "<Figure size 288x288 with 1 Axes>"
      ]
     },
     "metadata": {
      "needs_background": "light"
     },
     "output_type": "display_data"
    }
   ],
   "source": [
    "xsol, model = min_arc_set_assign(edges_varonleft, varidxs, eqnidxs, not_output=fixed_inputs)\n",
    "outset_tear = dict((right, left-m) for left, right in edges_varonleft if xsol[left, right] > 0.5)\n",
    "formulation_tear = reformulate(edges_dir, tree_dir, outset_adj, outset_tear, \n",
    "                               not_outputs={elt-m for elt in fixed_inputs},\n",
    "                               root_solver_name=1)\n",
    "render_incidence(*formulation_tear, figsize=((4,4)), figname=\"defense_tear_opt.png\", save=False, \n",
    "                 rotation=60, hideticks=True, patchwidth=4);"
   ]
  },
  {
   "cell_type": "markdown",
   "id": "7b4ee40c-5606-46d2-8765-b8ce3528dc96",
   "metadata": {},
   "source": [
    "## Tearing with input"
   ]
  },
  {
   "cell_type": "code",
   "execution_count": 41,
   "id": "f9b4098f-272a-4245-b29f-362a5acc8198",
   "metadata": {
    "execution": {
     "iopub.execute_input": "2022-08-10T00:35:37.171434Z",
     "iopub.status.busy": "2022-08-10T00:35:37.170433Z",
     "iopub.status.idle": "2022-08-10T00:35:37.372142Z",
     "shell.execute_reply": "2022-08-10T00:35:37.371154Z",
     "shell.execute_reply.started": "2022-08-10T00:35:37.171434Z"
    },
    "tags": []
   },
   "outputs": [],
   "source": [
    "xsol, model = min_arc_set_assign(edges_varonleft, varidxs, eqnidxs)\n",
    "outset_minassign = dict((right, left-m) for left, right in edges_varonleft if xsol[left, right] > 0.5)"
   ]
  },
  {
   "cell_type": "code",
   "execution_count": 42,
   "id": "3917ec9e-9f05-4d79-9975-b707a73878a8",
   "metadata": {
    "execution": {
     "iopub.execute_input": "2022-08-10T00:35:37.568542Z",
     "iopub.status.busy": "2022-08-10T00:35:37.568542Z",
     "iopub.status.idle": "2022-08-10T00:35:37.591855Z",
     "shell.execute_reply": "2022-08-10T00:35:37.590117Z",
     "shell.execute_reply.started": "2022-08-10T00:35:37.568542Z"
    },
    "tags": []
   },
   "outputs": [],
   "source": [
    "edges_minassign=invert_edges(edges_undir[0], edges_undir[1], outset_minassign) "
   ]
  },
  {
   "cell_type": "code",
   "execution_count": 43,
   "id": "f7dd7e47-6bc0-4b73-bb20-6aa900933d41",
   "metadata": {
    "execution": {
     "iopub.execute_input": "2022-08-10T00:35:50.886990Z",
     "iopub.status.busy": "2022-08-10T00:35:50.886990Z",
     "iopub.status.idle": "2022-08-10T00:35:51.316407Z",
     "shell.execute_reply": "2022-08-10T00:35:51.315712Z",
     "shell.execute_reply.started": "2022-08-10T00:35:50.886990Z"
    },
    "tags": []
   },
   "outputs": [
    {
     "data": {
      "image/png": "[encoded data removed]",
      "text/plain": [
       "<Figure size 360x360 with 1 Axes>"
      ]
     },
     "metadata": {
      "needs_background": "light"
     },
     "output_type": "display_data"
    }
   ],
   "source": [
    "formulation_minassign = reformulate(edges_undir, tree_dir, outset_adj, outset_minassign, root_solver_name=1)\n",
    "render_incidence(*formulation_minassign, figsize=((5,5)), figname=\"defense_assign_opt.png\", save=False, \n",
    "                 rotation=60, hideticks=True, patchwidth=4);"
   ]
  },
  {
   "cell_type": "markdown",
   "id": "290ee4e7-8cb7-4c4e-b265-0dee4a439c0e",
   "metadata": {},
   "source": [
    "## Min scc"
   ]
  },
  {
   "cell_type": "code",
   "execution_count": 45,
   "id": "6df80577-6240-4727-9a4a-e224dad41c50",
   "metadata": {
    "execution": {
     "iopub.execute_input": "2022-08-10T00:36:11.693555Z",
     "iopub.status.busy": "2022-08-10T00:36:11.692844Z",
     "iopub.status.idle": "2022-08-10T00:36:12.305027Z",
     "shell.execute_reply": "2022-08-10T00:36:12.303912Z",
     "shell.execute_reply.started": "2022-08-10T00:36:11.693555Z"
    },
    "tags": []
   },
   "outputs": [
    {
     "data": {
      "image/png": "[encoded data removed]",
      "text/plain": [
       "<Figure size 288x288 with 1 Axes>"
      ]
     },
     "metadata": {
      "needs_background": "light"
     },
     "output_type": "display_data"
    }
   ],
   "source": [
    "xsol, model = min_max_scc2(edges_varonleft, varidxs, eqnidxs)\n",
    "outset_minscc = dict((right, left-m) for left, right in edges_varonleft if xsol[left, right] > 0.5)\n",
    "formulation_minscc = reformulate(edges_dir, tree_dir, outset_adj, outset_minscc, root_solver_name=1)\n",
    "render_incidence(*formulation_minscc, figsize=((4,4)), figname=\"defense_scc_opt.png\", save=False, \n",
    "                 rotation=60, hideticks=True, patchwidth=4);"
   ]
  }
 ],
 "metadata": {
  "kernelspec": {
   "display_name": "Python [conda env:minimdo]",
   "language": "python",
   "name": "conda-env-minimdo-py"
  },
  "language_info": {
   "codemirror_mode": {
    "name": "ipython",
    "version": 3
   },
   "file_extension": ".py",
   "mimetype": "text/x-python",
   "name": "python",
   "nbconvert_exporter": "python",
   "pygments_lexer": "ipython3",
   "version": "3.9.12"
  }
 },
 "nbformat": 4,
 "nbformat_minor": 5
}
