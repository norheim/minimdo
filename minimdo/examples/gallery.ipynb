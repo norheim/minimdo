{
 "cells": [
  {
   "cell_type": "code",
   "execution_count": 1,
   "id": "8f054005-45c7-4d12-9030-806283526b75",
   "metadata": {
    "execution": {
     "iopub.execute_input": "2022-07-28T16:51:49.926849Z",
     "iopub.status.busy": "2022-07-28T16:51:49.925867Z",
     "iopub.status.idle": "2022-07-28T16:51:55.181776Z",
     "shell.execute_reply": "2022-07-28T16:51:55.181271Z",
     "shell.execute_reply.started": "2022-07-28T16:51:49.926849Z"
    },
    "tags": []
   },
   "outputs": [],
   "source": [
    "from testproblems import generate_random_prob, random_problem_with_artifacts"
   ]
  },
  {
   "cell_type": "code",
   "execution_count": 2,
   "id": "88bd40ca-27e3-405f-9332-34f1aae4336b",
   "metadata": {
    "execution": {
     "iopub.execute_input": "2022-07-28T16:51:55.181776Z",
     "iopub.status.busy": "2022-07-28T16:51:55.181776Z",
     "iopub.status.idle": "2022-07-28T16:51:55.197770Z",
     "shell.execute_reply": "2022-07-28T16:51:55.196772Z",
     "shell.execute_reply.started": "2022-07-28T16:51:55.181776Z"
    },
    "tags": []
   },
   "outputs": [],
   "source": [
    "from datastructures.operators import eqv_to_edges_tree, reformulate, invert_edges\n",
    "from datastructures.graphutils import (default_tree, flat_graph_formulation, Node, COMP, VAR, sources, \n",
    "                                       draw_graph_graphical_props, copy_dicts)\n",
    "from datastructures.rendering import render_incidence\n",
    "import networkx as nx\n",
    "from datastructures.tearing import min_max_scc2, min_arc_set_assign, min_arc_set, feedbacks"
   ]
  },
  {
   "cell_type": "code",
   "execution_count": 3,
   "id": "92d2f612-598e-47a1-9f7a-f6fc5425500a",
   "metadata": {
    "execution": {
     "iopub.execute_input": "2022-07-28T16:51:55.200015Z",
     "iopub.status.busy": "2022-07-28T16:51:55.199154Z",
     "iopub.status.idle": "2022-07-28T16:51:55.215010Z",
     "shell.execute_reply": "2022-07-28T16:51:55.212010Z",
     "shell.execute_reply.started": "2022-07-28T16:51:55.200015Z"
    },
    "tags": []
   },
   "outputs": [],
   "source": [
    "from ipywidgets import interact, interactive, fixed, interact_manual"
   ]
  },
  {
   "cell_type": "code",
   "execution_count": 4,
   "id": "548c13fc-6685-41fa-beac-7ba6d0663d33",
   "metadata": {
    "execution": {
     "iopub.execute_input": "2022-07-28T16:51:55.218016Z",
     "iopub.status.busy": "2022-07-28T16:51:55.217013Z",
     "iopub.status.idle": "2022-07-28T16:51:55.323378Z",
     "shell.execute_reply": "2022-07-28T16:51:55.322378Z",
     "shell.execute_reply.started": "2022-07-28T16:51:55.218016Z"
    },
    "tags": []
   },
   "outputs": [],
   "source": [
    "import seaborn as sns\n",
    "import numpy as np"
   ]
  },
  {
   "cell_type": "code",
   "execution_count": 95,
   "id": "038207b8-eb77-4369-8e1b-1819deb26ea9",
   "metadata": {
    "execution": {
     "iopub.execute_input": "2022-07-28T21:58:12.502785Z",
     "iopub.status.busy": "2022-07-28T21:58:12.502785Z",
     "iopub.status.idle": "2022-07-28T21:58:12.529204Z",
     "shell.execute_reply": "2022-07-28T21:58:12.528148Z",
     "shell.execute_reply.started": "2022-07-28T21:58:12.502785Z"
    },
    "tags": []
   },
   "outputs": [],
   "source": [
    "import matplotlib.pyplot as plt\n",
    "plt.rcParams['text.usetex'] = True"
   ]
  },
  {
   "cell_type": "markdown",
   "id": "0f614995-1ec1-4eff-bfa4-dcc14c826fbc",
   "metadata": {},
   "source": [
    "# Exploration"
   ]
  },
  {
   "cell_type": "code",
   "execution_count": 74,
   "id": "e9541802-2221-4856-ac08-c1cb09799443",
   "metadata": {
    "execution": {
     "iopub.execute_input": "2022-07-28T21:54:45.275510Z",
     "iopub.status.busy": "2022-07-28T21:54:45.275510Z",
     "iopub.status.idle": "2022-07-28T21:54:46.543312Z",
     "shell.execute_reply": "2022-07-28T21:54:46.543312Z",
     "shell.execute_reply.started": "2022-07-28T21:54:45.275510Z"
    },
    "tags": []
   },
   "outputs": [
    {
     "data": {
      "application/vnd.jupyter.widget-view+json": {
       "model_id": "f14390fe7094446895556c33929b830a",
       "version_major": 2,
       "version_minor": 0
      },
      "text/plain": [
       "interactive(children=(IntSlider(value=229, description='seed', max=300, min=200), Output()), _dom_classes=('wi…"
      ]
     },
     "metadata": {},
     "output_type": "display_data"
    }
   ],
   "source": [
    "m = 10\n",
    "n = 13\n",
    "#seed 229 does not behave correctly\n",
    "# (4,5,249,1.) is an interesting case\n",
    "def func1(seed=229):\n",
    "    sparsity = 1.#1.\n",
    "    kwargs = random_problem_with_artifacts(m,n,seed,sparsity)\n",
    "    eq_incidence,outset,eqnidxs,edges_varonleft,varidxs = map(kwargs.get, [\"eq_incidence\",\"outset\",\"eqnidxs\",\"edges_varonleft\",\"varidxs\"])\n",
    "    print(np.mean([len(val) for val in eq_incidence.values()]))\n",
    "    edges_dir,tree_dir,outset_adj = eqv_to_edges_tree(eq_incidence, outset, n_eqs=m)\n",
    "    edges_undir,tree_undir,_ = eqv_to_edges_tree(eq_incidence, n_eqs=m)\n",
    "    formulation_scc = reformulate(edges_dir, tree_dir, root_solver_name=1)\n",
    "    render_incidence(*formulation_scc, figsize=((4,4)), patchwidth=3);\n",
    "    xsol, model = min_arc_set_assign(edges_varonleft, varidxs, eqnidxs)\n",
    "    outset_minassign = dict((right, left-m) for left, right in edges_varonleft if xsol[left, right] > 0.5)\n",
    "    edges_minassign=invert_edges(edges_undir[0], edges_undir[1], outset_minassign) \n",
    "    formulation_minassign = reformulate(edges_undir, tree_dir, outset_adj, outset_minassign, root_solver_name=1)\n",
    "    render_incidence(*formulation_minassign, figsize=((4,4)));\n",
    "    xsol, model = min_max_scc2(edges_varonleft, varidxs, eqnidxs)\n",
    "    outset_minscc = dict((right, left-m) for left, right in edges_varonleft if xsol[left, right] > 0.5)\n",
    "    formulation_minscc = reformulate(edges_dir, tree_dir, outset_adj, outset_minscc, root_solver_name=1)\n",
    "    render_incidence(*formulation_minscc, figsize=((4,4)));\n",
    "interact(func1, seed=(200,300)); # 20 looks good"
   ]
  },
  {
   "cell_type": "code",
   "execution_count": 46,
   "id": "5144d598-0edc-4366-a24d-b0cc658b8a37",
   "metadata": {
    "execution": {
     "iopub.execute_input": "2022-07-28T16:59:51.624796Z",
     "iopub.status.busy": "2022-07-28T16:59:51.624796Z",
     "iopub.status.idle": "2022-07-28T16:59:51.633797Z",
     "shell.execute_reply": "2022-07-28T16:59:51.633797Z",
     "shell.execute_reply.started": "2022-07-28T16:59:51.624796Z"
    },
    "tags": []
   },
   "outputs": [],
   "source": [
    "from networkx.algorithms.bipartite import random_graph as bipartite_random_graph"
   ]
  },
  {
   "cell_type": "code",
   "execution_count": 66,
   "id": "a627a1dc-d54b-46bc-ad49-b010ad4b8aa8",
   "metadata": {
    "execution": {
     "iopub.execute_input": "2022-07-28T17:02:46.447483Z",
     "iopub.status.busy": "2022-07-28T17:02:46.447483Z",
     "iopub.status.idle": "2022-07-28T17:02:48.239032Z",
     "shell.execute_reply": "2022-07-28T17:02:48.239032Z",
     "shell.execute_reply.started": "2022-07-28T17:02:46.447483Z"
    },
    "tags": []
   },
   "outputs": [],
   "source": [
    "sparsity = 0.5#1.\n",
    "stats = {}\n",
    "m = 20\n",
    "n = 24\n",
    "for sparsity,indepofn in [(3,True),(1.5,False)]:#[1, 2., 3, 4.]:\n",
    "    stats[sparsity] = []\n",
    "    for seed in range(1000):\n",
    "        kwargs = random_problem_with_artifacts(m,n,seed,sparsity,independent_of_n=indepofn)\n",
    "        p = (m+n)/(m*n)*sparsity\n",
    "        #p = min(p, 1.0 - 1.0e-6) \n",
    "        G = bipartite_random_graph(m, n, p, seed)\n",
    "        eq_incidence,outset,eqnidxs,edges_varonleft,varidxs = map(kwargs.get, [\"eq_incidence\",\"outset\",\"eqnidxs\",\"edges_varonleft\",\"varidxs\"])\n",
    "        stats[sparsity].append(np.mean([len(val) for val in eq_incidence.values()]))\n",
    "        #mn = np.mean([len(G[node]) for node in range(m)])\n",
    "        #stats[sparsity].append(mn)"
   ]
  },
  {
   "cell_type": "code",
   "execution_count": 67,
   "id": "e86a5bc8-108d-466c-9d4f-003098b2bd9c",
   "metadata": {
    "execution": {
     "iopub.execute_input": "2022-07-28T17:02:48.609913Z",
     "iopub.status.busy": "2022-07-28T17:02:48.609913Z",
     "iopub.status.idle": "2022-07-28T17:02:48.854360Z",
     "shell.execute_reply": "2022-07-28T17:02:48.854360Z",
     "shell.execute_reply.started": "2022-07-28T17:02:48.609913Z"
    },
    "tags": []
   },
   "outputs": [
    {
     "data": {
      "image/png": "[encoded data removed]",
      "text/plain": [
       "<Figure size 432x288 with 1 Axes>"
      ]
     },
     "metadata": {
      "needs_background": "light"
     },
     "output_type": "display_data"
    }
   ],
   "source": [
    "sns.histplot(data=stats, palette=\"deep\", bins=40);"
   ]
  },
  {
   "cell_type": "code",
   "execution_count": 76,
   "id": "f50dafc1-c860-46f9-8e6a-cdf04c6d9d5b",
   "metadata": {
    "execution": {
     "iopub.execute_input": "2022-07-28T21:55:31.458278Z",
     "iopub.status.busy": "2022-07-28T21:55:31.453520Z",
     "iopub.status.idle": "2022-07-28T21:55:31.463349Z",
     "shell.execute_reply": "2022-07-28T21:55:31.463349Z",
     "shell.execute_reply.started": "2022-07-28T21:55:31.453520Z"
    },
    "tags": []
   },
   "outputs": [],
   "source": [
    "# For presentation slides, (m,n,seed) = (4,5,221,1.0)\n",
    "m = 4#37,4\n",
    "n = 5#45,5\n",
    "seed = 220#221#269#257#23\n",
    "runs = (\n",
    "    (0.5, 'sparsity_half.png'),\n",
    "    (1., 'sparsity_one.png'),\n",
    "    (1.5, 'sparsity_one_and_half.png')\n",
    ")\n",
    "sparsity, figname = 1., ''\n",
    "m,n,seed,sparsity = (4,5,221,1.0)\n",
    "#m,n,seed,sparsity = 20,24,8,1.5\n",
    "m,n,seed,sparsity = 10,13,227,1."
   ]
  },
  {
   "cell_type": "code",
   "execution_count": 84,
   "id": "39aa590c-2b3b-495f-9c39-bc4af997ef5e",
   "metadata": {
    "execution": {
     "iopub.execute_input": "2022-07-28T21:55:47.313925Z",
     "iopub.status.busy": "2022-07-28T21:55:47.313925Z",
     "iopub.status.idle": "2022-07-28T21:55:47.337339Z",
     "shell.execute_reply": "2022-07-28T21:55:47.336797Z",
     "shell.execute_reply.started": "2022-07-28T21:55:47.313925Z"
    },
    "tags": []
   },
   "outputs": [],
   "source": [
    "kwargs = random_problem_with_artifacts(m,n,seed,sparsity, independent_of_n=False)"
   ]
  },
  {
   "cell_type": "code",
   "execution_count": 85,
   "id": "4931a100-9484-475c-b2ac-6786db64e619",
   "metadata": {
    "execution": {
     "iopub.execute_input": "2022-07-28T21:55:47.481289Z",
     "iopub.status.busy": "2022-07-28T21:55:47.480319Z",
     "iopub.status.idle": "2022-07-28T21:55:47.490180Z",
     "shell.execute_reply": "2022-07-28T21:55:47.489470Z",
     "shell.execute_reply.started": "2022-07-28T21:55:47.481289Z"
    },
    "tags": []
   },
   "outputs": [],
   "source": [
    "eq_incidence,outset,eqnidxs,edges_varonleft,varidxs = map(kwargs.get, [\"eq_incidence\",\"outset\",\"eqnidxs\",\"edges_varonleft\",\"varidxs\"])"
   ]
  },
  {
   "cell_type": "code",
   "execution_count": 86,
   "id": "690b488f-07e9-405f-8035-b34de17558c5",
   "metadata": {
    "execution": {
     "iopub.execute_input": "2022-07-28T21:55:47.611230Z",
     "iopub.status.busy": "2022-07-28T21:55:47.610496Z",
     "iopub.status.idle": "2022-07-28T21:55:47.623612Z",
     "shell.execute_reply": "2022-07-28T21:55:47.623115Z",
     "shell.execute_reply.started": "2022-07-28T21:55:47.611230Z"
    },
    "tags": []
   },
   "outputs": [
    {
     "data": {
      "text/plain": [
       "3.5"
      ]
     },
     "execution_count": 86,
     "metadata": {},
     "output_type": "execute_result"
    }
   ],
   "source": [
    "np.mean([len(val) for val in eq_incidence.values()])"
   ]
  },
  {
   "cell_type": "markdown",
   "id": "16ea5943-027f-4b62-849c-2ccb0dea1c0f",
   "metadata": {},
   "source": [
    "## Undirected formulation"
   ]
  },
  {
   "cell_type": "code",
   "execution_count": 83,
   "id": "2214f0b2-e0fe-4c4d-83a1-7a406383e4b1",
   "metadata": {
    "execution": {
     "iopub.execute_input": "2022-07-28T21:55:43.207625Z",
     "iopub.status.busy": "2022-07-28T21:55:43.203546Z",
     "iopub.status.idle": "2022-07-28T21:55:43.218186Z",
     "shell.execute_reply": "2022-07-28T21:55:43.217621Z",
     "shell.execute_reply.started": "2022-07-28T21:55:43.207625Z"
    },
    "tags": []
   },
   "outputs": [],
   "source": [
    "#outset[3]=7"
   ]
  },
  {
   "cell_type": "code",
   "execution_count": 87,
   "id": "b3ec84d4-70dd-427c-aeaf-f2d23cc3c1cb",
   "metadata": {
    "execution": {
     "iopub.execute_input": "2022-07-28T21:55:49.366357Z",
     "iopub.status.busy": "2022-07-28T21:55:49.366357Z",
     "iopub.status.idle": "2022-07-28T21:55:49.371590Z",
     "shell.execute_reply": "2022-07-28T21:55:49.371214Z",
     "shell.execute_reply.started": "2022-07-28T21:55:49.366357Z"
    },
    "tags": []
   },
   "outputs": [],
   "source": [
    "edges_undir,tree_undir,_ = eqv_to_edges_tree(eq_incidence, n_eqs=m)\n",
    "edges_dir,tree_dir,outset_adj = eqv_to_edges_tree(eq_incidence, outset, n_eqs=m)\n",
    "tree_undir[2].update({val:1 for val in outset_adj.values()})"
   ]
  },
  {
   "cell_type": "code",
   "execution_count": 98,
   "id": "7d6799a9-8c4a-4fd3-9ec5-e810da435cec",
   "metadata": {
    "execution": {
     "iopub.execute_input": "2022-07-28T21:59:50.344009Z",
     "iopub.status.busy": "2022-07-28T21:59:50.344009Z",
     "iopub.status.idle": "2022-07-28T21:59:50.587750Z",
     "shell.execute_reply": "2022-07-28T21:59:50.587249Z",
     "shell.execute_reply.started": "2022-07-28T21:59:50.344009Z"
    },
    "tags": []
   },
   "outputs": [
    {
     "data": {
      "image/png": "[encoded data removed]",
      "text/plain": [
       "<Figure size 432x288 with 1 Axes>"
      ]
     },
     "metadata": {
      "needs_background": "light"
     },
     "output_type": "display_data"
    }
   ],
   "source": [
    "render_incidence(edges_undir, tree_undir, rotation=60, hideticks=True, save=False, fontsize=22, patchwidth=4);"
   ]
  },
  {
   "cell_type": "code",
   "execution_count": 17,
   "id": "24a2fc0b-e2af-426a-b9a8-8ffafa033a0d",
   "metadata": {
    "execution": {
     "iopub.execute_input": "2022-07-26T16:31:17.798650Z",
     "iopub.status.busy": "2022-07-26T16:31:17.798650Z",
     "iopub.status.idle": "2022-07-26T16:31:17.812649Z",
     "shell.execute_reply": "2022-07-26T16:31:17.811651Z",
     "shell.execute_reply.started": "2022-07-26T16:31:17.798650Z"
    },
    "tags": []
   },
   "outputs": [],
   "source": [
    "# from scipy.sparse import csc_matrix\n",
    "# from scipy.sparse.linalg import splu\n",
    "# from datastructures.rendering import generate_incidence_matrix, plot_incidence_matrix\n",
    "# from scipy.sparse.csgraph import reverse_cuthill_mckee"
   ]
  },
  {
   "cell_type": "code",
   "execution_count": 18,
   "id": "d848a9ff-bd29-48d0-9eb1-1322e3c88312",
   "metadata": {
    "execution": {
     "iopub.execute_input": "2022-07-26T16:31:17.813164Z",
     "iopub.status.busy": "2022-07-26T16:31:17.813164Z",
     "iopub.status.idle": "2022-07-26T16:31:17.827370Z",
     "shell.execute_reply": "2022-07-26T16:31:17.827370Z",
     "shell.execute_reply.started": "2022-07-26T16:31:17.813164Z"
    },
    "tags": []
   },
   "outputs": [],
   "source": [
    "#A = generate_incidence_matrix(edges_dir[0], edges_dir[1], list(eqnidxs), [elt-m for elt in varidxs], diagonalgray=False)"
   ]
  },
  {
   "cell_type": "code",
   "execution_count": 19,
   "id": "618beda9-0a85-467f-aaf5-bad0e7d90dad",
   "metadata": {
    "execution": {
     "iopub.execute_input": "2022-07-26T16:31:17.828437Z",
     "iopub.status.busy": "2022-07-26T16:31:17.828437Z",
     "iopub.status.idle": "2022-07-26T16:31:17.843200Z",
     "shell.execute_reply": "2022-07-26T16:31:17.842583Z",
     "shell.execute_reply.started": "2022-07-26T16:31:17.828437Z"
    },
    "tags": []
   },
   "outputs": [],
   "source": [
    "# Asq = csc_matrix(A[:,list(outset_adj.values())], dtype=float)\n",
    "# p = reverse_cuthill_mckee(Asq)"
   ]
  },
  {
   "cell_type": "code",
   "execution_count": 20,
   "id": "e9bfbf1d-df9b-4857-bb43-f7c4b2d4ae70",
   "metadata": {
    "execution": {
     "iopub.execute_input": "2022-07-26T16:31:17.844135Z",
     "iopub.status.busy": "2022-07-26T16:31:17.844135Z",
     "iopub.status.idle": "2022-07-26T16:31:17.859282Z",
     "shell.execute_reply": "2022-07-26T16:31:17.858269Z",
     "shell.execute_reply.started": "2022-07-26T16:31:17.844135Z"
    },
    "tags": []
   },
   "outputs": [],
   "source": [
    "# Acm = (Asq.toarray()[p,:])[:,p]"
   ]
  },
  {
   "cell_type": "code",
   "execution_count": 21,
   "id": "ac56393d-d6b2-46d8-9631-e7bab6182014",
   "metadata": {
    "execution": {
     "iopub.execute_input": "2022-07-26T16:31:17.860720Z",
     "iopub.status.busy": "2022-07-26T16:31:17.860389Z",
     "iopub.status.idle": "2022-07-26T16:31:17.874191Z",
     "shell.execute_reply": "2022-07-26T16:31:17.874191Z",
     "shell.execute_reply.started": "2022-07-26T16:31:17.860720Z"
    },
    "tags": []
   },
   "outputs": [],
   "source": [
    "# column_labels = ['$x_{}$'.format(var) for var in p]\n",
    "# row_labels = ['$f_{}$'.format(fx) for fx in p]\n",
    "# plot_incidence_matrix(Acm, column_labels, row_labels, **kwargs);"
   ]
  },
  {
   "cell_type": "code",
   "execution_count": 22,
   "id": "a797a7d8-d683-4dd2-9120-b65beb4fc254",
   "metadata": {
    "execution": {
     "iopub.execute_input": "2022-07-26T16:31:17.876208Z",
     "iopub.status.busy": "2022-07-26T16:31:17.875207Z",
     "iopub.status.idle": "2022-07-26T16:31:17.890785Z",
     "shell.execute_reply": "2022-07-26T16:31:17.890259Z",
     "shell.execute_reply.started": "2022-07-26T16:31:17.876208Z"
    },
    "tags": []
   },
   "outputs": [],
   "source": [
    "# column_labels = ['$x_{}$'.format(var) for var in range(10)]\n",
    "# row_labels = ['$f_{}$'.format(fx) for fx in range(10)]\n",
    "# plot_incidence_matrix(Asq.toarray(), column_labels, row_labels, **kwargs);"
   ]
  },
  {
   "cell_type": "markdown",
   "id": "d27f0574-3bcd-451b-a85c-c0bc384c39ac",
   "metadata": {},
   "source": [
    "## Directed formulation\n",
    "Based on initial formulation"
   ]
  },
  {
   "cell_type": "code",
   "execution_count": null,
   "id": "9a2b7754-7492-4e4b-b56f-7913d8fe0489",
   "metadata": {
    "execution": {
     "iopub.execute_input": "2022-07-27T23:44:45.242942Z",
     "iopub.status.busy": "2022-07-27T23:44:45.242942Z",
     "iopub.status.idle": "2022-07-27T23:44:45.543556Z",
     "shell.execute_reply": "2022-07-27T23:44:45.543556Z",
     "shell.execute_reply.started": "2022-07-27T23:44:45.242942Z"
    },
    "tags": []
   },
   "outputs": [
    {
     "data": {
      "image/png": "[encoded data removed]",
      "text/plain": [
       "<Figure size 216x216 with 1 Axes>"
      ]
     },
     "metadata": {
      "needs_background": "light"
     },
     "output_type": "display_data"
    }
   ],
   "source": [
    "render_incidence(edges_dir, tree_dir, figsize=((4,4)), figname=\"defense_scc_opt.png\",, save=False, rotation=60, hideticks=True, patchwidth=4);"
   ]
  },
  {
   "cell_type": "code",
   "execution_count": 24,
   "id": "8e73cf9a-b834-4bbb-b60a-08c5591d7f78",
   "metadata": {
    "execution": {
     "iopub.execute_input": "2022-07-26T16:31:18.929466Z",
     "iopub.status.busy": "2022-07-26T16:31:18.928470Z",
     "iopub.status.idle": "2022-07-26T16:31:18.933127Z",
     "shell.execute_reply": "2022-07-26T16:31:18.932509Z",
     "shell.execute_reply.started": "2022-07-26T16:31:18.929466Z"
    },
    "tags": []
   },
   "outputs": [],
   "source": [
    "D = flat_graph_formulation(*edges_dir)"
   ]
  },
  {
   "cell_type": "code",
   "execution_count": 25,
   "id": "520cb520-6837-46fd-a89a-b1c43cbc3cef",
   "metadata": {
    "execution": {
     "iopub.execute_input": "2022-07-26T16:31:19.506940Z",
     "iopub.status.busy": "2022-07-26T16:31:19.505980Z",
     "iopub.status.idle": "2022-07-26T16:31:19.512207Z",
     "shell.execute_reply": "2022-07-26T16:31:19.511939Z",
     "shell.execute_reply.started": "2022-07-26T16:31:19.506940Z"
    },
    "tags": []
   },
   "outputs": [],
   "source": [
    "fvars, fcomps = feedbacks(D, [Node(idx,COMP) for idx in eqnidxs])"
   ]
  },
  {
   "cell_type": "code",
   "execution_count": 26,
   "id": "096c95f9-fb93-47d3-a40c-651e32ecf662",
   "metadata": {
    "execution": {
     "iopub.execute_input": "2022-07-26T16:31:19.718907Z",
     "iopub.status.busy": "2022-07-26T16:31:19.718907Z",
     "iopub.status.idle": "2022-07-26T16:31:19.730504Z",
     "shell.execute_reply": "2022-07-26T16:31:19.729850Z",
     "shell.execute_reply.started": "2022-07-26T16:31:19.718907Z"
    },
    "tags": []
   },
   "outputs": [],
   "source": [
    "outset_f = {comp:var for comp,var in outset.items() if Node(comp,COMP) not in fcomps}"
   ]
  },
  {
   "cell_type": "code",
   "execution_count": 27,
   "id": "f68b7dce-46a2-4670-b21b-2503e4b6a588",
   "metadata": {
    "execution": {
     "iopub.execute_input": "2022-07-26T16:31:19.982964Z",
     "iopub.status.busy": "2022-07-26T16:31:19.981966Z",
     "iopub.status.idle": "2022-07-26T16:31:19.992512Z",
     "shell.execute_reply": "2022-07-26T16:31:19.991964Z",
     "shell.execute_reply.started": "2022-07-26T16:31:19.982964Z"
    },
    "tags": []
   },
   "outputs": [
    {
     "data": {
      "text/plain": [
       "(OrderedDict([(0, 1), (1, 1), (2, 1), (3, 1)]), {}, {})"
      ]
     },
     "execution_count": 27,
     "metadata": {},
     "output_type": "execute_result"
    }
   ],
   "source": [
    "edges_fb,tree_fb,_ = eqv_to_edges_tree(eq_incidence, outset_f, n_eqs=m)\n",
    "tree_fb"
   ]
  },
  {
   "cell_type": "code",
   "execution_count": 28,
   "id": "0a602d35-8f45-4b91-8d55-ea9666efa802",
   "metadata": {
    "execution": {
     "iopub.execute_input": "2022-07-26T16:31:20.175064Z",
     "iopub.status.busy": "2022-07-26T16:31:20.174166Z",
     "iopub.status.idle": "2022-07-26T16:31:20.181272Z",
     "shell.execute_reply": "2022-07-26T16:31:20.181069Z",
     "shell.execute_reply.started": "2022-07-26T16:31:20.175064Z"
    },
    "tags": []
   },
   "outputs": [],
   "source": [
    "tree_fb[2].update({v.name: 1 for v in sorted(fvars, key=lambda x: x.name)})"
   ]
  },
  {
   "cell_type": "code",
   "execution_count": 29,
   "id": "ebf21e9d-ce77-4fae-9248-cdf1603361ff",
   "metadata": {
    "execution": {
     "iopub.execute_input": "2022-07-26T16:31:20.371159Z",
     "iopub.status.busy": "2022-07-26T16:31:20.371159Z",
     "iopub.status.idle": "2022-07-26T16:31:20.383483Z",
     "shell.execute_reply": "2022-07-26T16:31:20.382562Z",
     "shell.execute_reply.started": "2022-07-26T16:31:20.371159Z"
    },
    "tags": []
   },
   "outputs": [
    {
     "data": {
      "text/plain": [
       "(OrderedDict([(0, 1), (1, 1), (2, 1), (3, 1)]), {}, {2: 1, 3: 1})"
      ]
     },
     "execution_count": 29,
     "metadata": {},
     "output_type": "execute_result"
    }
   ],
   "source": [
    "tree_fb"
   ]
  },
  {
   "cell_type": "code",
   "execution_count": 30,
   "id": "1dcd5294-b963-460c-b6f5-a0e1a807124f",
   "metadata": {
    "execution": {
     "iopub.execute_input": "2022-07-26T16:31:21.191809Z",
     "iopub.status.busy": "2022-07-26T16:31:21.190818Z",
     "iopub.status.idle": "2022-07-26T16:31:21.336921Z",
     "shell.execute_reply": "2022-07-26T16:31:21.336854Z",
     "shell.execute_reply.started": "2022-07-26T16:31:21.191809Z"
    },
    "tags": []
   },
   "outputs": [
    {
     "data": {
      "image/png": "[encoded data removed]",
      "text/plain": [
       "<Figure size 216x216 with 1 Axes>"
      ]
     },
     "metadata": {
      "needs_background": "light"
     },
     "output_type": "display_data"
    }
   ],
   "source": [
    "render_incidence(edges_fb, tree_fb, dispendcomp=True, figsize=((3,3)), figname=\"defense_feedback_equivalence_result.png\", save=True, fontsize=22,rotation=0, hideticks=True, patchwidth=4);"
   ]
  },
  {
   "cell_type": "markdown",
   "id": "b4d05252-854b-4bde-9e31-32ffd75cd3e1",
   "metadata": {},
   "source": [
    "## Condensation"
   ]
  },
  {
   "cell_type": "code",
   "execution_count": 30,
   "id": "bc060feb-e154-460d-833d-e36a817d6806",
   "metadata": {
    "execution": {
     "iopub.execute_input": "2022-07-27T23:45:00.580050Z",
     "iopub.status.busy": "2022-07-27T23:45:00.579553Z",
     "iopub.status.idle": "2022-07-27T23:45:00.843587Z",
     "shell.execute_reply": "2022-07-27T23:45:00.842863Z",
     "shell.execute_reply.started": "2022-07-27T23:45:00.580050Z"
    },
    "tags": []
   },
   "outputs": [
    {
     "data": {
      "image/png": "[encoded data removed]",
      "text/plain": [
       "<Figure size 288x288 with 1 Axes>"
      ]
     },
     "metadata": {
      "needs_background": "light"
     },
     "output_type": "display_data"
    }
   ],
   "source": [
    "formulation_scc = reformulate(edges_dir, tree_dir, root_solver_name=1)\n",
    "render_incidence(*formulation_scc, figsize=((4,4)), rotation=60, hideticks=True,);"
   ]
  },
  {
   "cell_type": "code",
   "execution_count": 214,
   "id": "bdbba028-a126-4c0a-b580-29bf379bb871",
   "metadata": {
    "execution": {
     "iopub.execute_input": "2022-07-26T12:00:54.204348Z",
     "iopub.status.busy": "2022-07-26T12:00:54.204348Z",
     "iopub.status.idle": "2022-07-26T12:00:54.430566Z",
     "shell.execute_reply": "2022-07-26T12:00:54.430566Z",
     "shell.execute_reply.started": "2022-07-26T12:00:54.204348Z"
    },
    "tags": []
   },
   "outputs": [
    {
     "data": {
      "image/png": "[encoded data removed]",
      "text/plain": [
       "<Figure size 288x288 with 1 Axes>"
      ]
     },
     "metadata": {
      "needs_background": "light"
     },
     "output_type": "display_data"
    }
   ],
   "source": [
    "formulation_scc = reformulate(edges_dir, tree_dir, root_solver_name=1, mdf=False)\n",
    "render_incidence(*formulation_scc, figsize=((4,4)), rotation=0, hideticks=True,);"
   ]
  },
  {
   "cell_type": "markdown",
   "id": "33158b92-ff27-4ee7-a999-a383348f078b",
   "metadata": {},
   "source": [
    "## DM fine"
   ]
  },
  {
   "cell_type": "code",
   "execution_count": 215,
   "id": "b6644493-a5d5-4e3a-9858-b1e20bf4d7da",
   "metadata": {
    "execution": {
     "iopub.execute_input": "2022-07-26T12:00:55.322082Z",
     "iopub.status.busy": "2022-07-26T12:00:55.322082Z",
     "iopub.status.idle": "2022-07-26T12:00:55.332355Z",
     "shell.execute_reply": "2022-07-26T12:00:55.331845Z",
     "shell.execute_reply.started": "2022-07-26T12:00:55.322082Z"
    },
    "tags": []
   },
   "outputs": [],
   "source": [
    "#draw_graph_graphical_props(G, prog='neato', figsize=(11,4))"
   ]
  },
  {
   "cell_type": "code",
   "execution_count": 216,
   "id": "df3cf86d-6441-49a0-8cef-ff9f66fb1603",
   "metadata": {
    "execution": {
     "iopub.execute_input": "2022-07-26T12:00:55.626798Z",
     "iopub.status.busy": "2022-07-26T12:00:55.625798Z",
     "iopub.status.idle": "2022-07-26T12:00:56.029040Z",
     "shell.execute_reply": "2022-07-26T12:00:56.028541Z",
     "shell.execute_reply.started": "2022-07-26T12:00:55.625798Z"
    },
    "tags": []
   },
   "outputs": [
    {
     "ename": "AmbiguousSolution",
     "evalue": "Disconnected graph: Ambiguous solution for bipartite sets.",
     "output_type": "error",
     "traceback": [
      "\u001b[1;31m---------------------------------------------------------------------------\u001b[0m",
      "\u001b[1;31mAmbiguousSolution\u001b[0m                         Traceback (most recent call last)",
      "Input \u001b[1;32mIn [216]\u001b[0m, in \u001b[0;36m<cell line: 3>\u001b[1;34m()\u001b[0m\n\u001b[0;32m      1\u001b[0m Ein_no_source \u001b[38;5;241m=\u001b[39m {comp:\u001b[38;5;28mtuple\u001b[39m(var \u001b[38;5;28;01mfor\u001b[39;00m var \u001b[38;5;129;01min\u001b[39;00m allvars \u001b[38;5;28;01mif\u001b[39;00m var \u001b[38;5;129;01min\u001b[39;00m outset\u001b[38;5;241m.\u001b[39mvalues()) \u001b[38;5;28;01mfor\u001b[39;00m comp,allvars \u001b[38;5;129;01min\u001b[39;00m eq_incidence\u001b[38;5;241m.\u001b[39mitems()}\n\u001b[0;32m      2\u001b[0m G \u001b[38;5;241m=\u001b[39m flat_graph_formulation(Ein_no_source,{},{},{VAR: \u001b[38;5;124m'\u001b[39m\u001b[38;5;124mx_\u001b[39m\u001b[38;5;124m{{\u001b[39m\u001b[38;5;132;01m{}\u001b[39;00m\u001b[38;5;124m}}\u001b[39m\u001b[38;5;124m'\u001b[39m, COMP: \u001b[38;5;124m'\u001b[39m\u001b[38;5;124mf_\u001b[39m\u001b[38;5;124m{{\u001b[39m\u001b[38;5;132;01m{}\u001b[39;00m\u001b[38;5;124m}}\u001b[39m\u001b[38;5;124m'\u001b[39m})\n\u001b[1;32m----> 3\u001b[0m matching \u001b[38;5;241m=\u001b[39m \u001b[43mnx\u001b[49m\u001b[38;5;241;43m.\u001b[39;49m\u001b[43mbipartite\u001b[49m\u001b[38;5;241;43m.\u001b[39;49m\u001b[43mmaximum_matching\u001b[49m\u001b[43m(\u001b[49m\u001b[43mG\u001b[49m\u001b[43m)\u001b[49m\n\u001b[0;32m      4\u001b[0m m_out \u001b[38;5;241m=\u001b[39m {key: matching[Node(key, COMP)]\u001b[38;5;241m.\u001b[39mname \u001b[38;5;28;01mfor\u001b[39;00m key \u001b[38;5;129;01min\u001b[39;00m eqnidxs}\n\u001b[0;32m      5\u001b[0m edges_dir_m,tree_dir_m,_ \u001b[38;5;241m=\u001b[39m eqv_to_edges_tree(eq_incidence, m_out, n_eqs\u001b[38;5;241m=\u001b[39mm)\n",
      "File \u001b[1;32m~\\miniconda3\\envs\\minimdo\\lib\\site-packages\\networkx\\algorithms\\bipartite\\matching.py:154\u001b[0m, in \u001b[0;36mhopcroft_karp_matching\u001b[1;34m(G, top_nodes)\u001b[0m\n\u001b[0;32m    151\u001b[0m     \u001b[38;5;28;01mreturn\u001b[39;00m \u001b[38;5;28;01mTrue\u001b[39;00m\n\u001b[0;32m    153\u001b[0m \u001b[38;5;66;03m# Initialize the \"global\" variables that maintain state during the search.\u001b[39;00m\n\u001b[1;32m--> 154\u001b[0m left, right \u001b[38;5;241m=\u001b[39m \u001b[43mbipartite_sets\u001b[49m\u001b[43m(\u001b[49m\u001b[43mG\u001b[49m\u001b[43m,\u001b[49m\u001b[43m \u001b[49m\u001b[43mtop_nodes\u001b[49m\u001b[43m)\u001b[49m\n\u001b[0;32m    155\u001b[0m leftmatches \u001b[38;5;241m=\u001b[39m {v: \u001b[38;5;28;01mNone\u001b[39;00m \u001b[38;5;28;01mfor\u001b[39;00m v \u001b[38;5;129;01min\u001b[39;00m left}\n\u001b[0;32m    156\u001b[0m rightmatches \u001b[38;5;241m=\u001b[39m {v: \u001b[38;5;28;01mNone\u001b[39;00m \u001b[38;5;28;01mfor\u001b[39;00m v \u001b[38;5;129;01min\u001b[39;00m right}\n",
      "File \u001b[1;32m~\\miniconda3\\envs\\minimdo\\lib\\site-packages\\networkx\\algorithms\\bipartite\\basic.py:201\u001b[0m, in \u001b[0;36msets\u001b[1;34m(G, top_nodes)\u001b[0m\n\u001b[0;32m    199\u001b[0m \u001b[38;5;28;01mif\u001b[39;00m \u001b[38;5;129;01mnot\u001b[39;00m is_connected(G):\n\u001b[0;32m    200\u001b[0m     msg \u001b[38;5;241m=\u001b[39m \u001b[38;5;124m\"\u001b[39m\u001b[38;5;124mDisconnected graph: Ambiguous solution for bipartite sets.\u001b[39m\u001b[38;5;124m\"\u001b[39m\n\u001b[1;32m--> 201\u001b[0m     \u001b[38;5;28;01mraise\u001b[39;00m nx\u001b[38;5;241m.\u001b[39mAmbiguousSolution(msg)\n\u001b[0;32m    202\u001b[0m c \u001b[38;5;241m=\u001b[39m color(G)\n\u001b[0;32m    203\u001b[0m X \u001b[38;5;241m=\u001b[39m {n \u001b[38;5;28;01mfor\u001b[39;00m n, is_top \u001b[38;5;129;01min\u001b[39;00m c\u001b[38;5;241m.\u001b[39mitems() \u001b[38;5;28;01mif\u001b[39;00m is_top}\n",
      "\u001b[1;31mAmbiguousSolution\u001b[0m: Disconnected graph: Ambiguous solution for bipartite sets."
     ]
    }
   ],
   "source": [
    "Ein_no_source = {comp:tuple(var for var in allvars if var in outset.values()) for comp,allvars in eq_incidence.items()}\n",
    "G = flat_graph_formulation(Ein_no_source,{},{},{VAR: 'x_{{{}}}', COMP: 'f_{{{}}}'})\n",
    "matching = nx.bipartite.maximum_matching(G)\n",
    "m_out = {key: matching[Node(key, COMP)].name for key in eqnidxs}\n",
    "edges_dir_m,tree_dir_m,_ = eqv_to_edges_tree(eq_incidence, m_out, n_eqs=m)"
   ]
  },
  {
   "cell_type": "code",
   "execution_count": 217,
   "id": "84645a8e-beb7-4af4-8f3e-b23b88c1b387",
   "metadata": {
    "execution": {
     "iopub.execute_input": "2022-07-26T12:00:56.090501Z",
     "iopub.status.busy": "2022-07-26T12:00:56.089539Z",
     "iopub.status.idle": "2022-07-26T12:00:56.201950Z",
     "shell.execute_reply": "2022-07-26T12:00:56.201856Z",
     "shell.execute_reply.started": "2022-07-26T12:00:56.090501Z"
    },
    "tags": []
   },
   "outputs": [
    {
     "data": {
      "image/png": "[encoded data removed]",
      "text/plain": [
       "<Figure size 288x288 with 1 Axes>"
      ]
     },
     "metadata": {
      "needs_background": "light"
     },
     "output_type": "display_data"
    }
   ],
   "source": [
    "formulation_scc_m = reformulate(edges_dir_m, tree_dir_m, root_solver_name=1)\n",
    "render_incidence(*formulation_scc_m, figsize=((4,4)));"
   ]
  },
  {
   "cell_type": "code",
   "execution_count": 218,
   "id": "863c9f97-faea-4fca-b304-f4e15f558fc2",
   "metadata": {
    "execution": {
     "iopub.execute_input": "2022-07-26T12:00:58.654321Z",
     "iopub.status.busy": "2022-07-26T12:00:58.653316Z",
     "iopub.status.idle": "2022-07-26T12:00:58.776964Z",
     "shell.execute_reply": "2022-07-26T12:00:58.776964Z",
     "shell.execute_reply.started": "2022-07-26T12:00:58.654321Z"
    },
    "tags": []
   },
   "outputs": [
    {
     "data": {
      "image/png": "[encoded data removed]",
      "text/plain": [
       "<Figure size 288x288 with 1 Axes>"
      ]
     },
     "metadata": {
      "needs_background": "light"
     },
     "output_type": "display_data"
    }
   ],
   "source": [
    "formulation_scc_m = reformulate(edges_dir_m, tree_dir_m, root_solver_name=1, mdf=False)\n",
    "render_incidence(*formulation_scc_m, figsize=((4,4)));"
   ]
  },
  {
   "cell_type": "markdown",
   "id": "1ad5b558-5a0a-46db-bff9-084273f21b1d",
   "metadata": {},
   "source": [
    "## MFA"
   ]
  },
  {
   "cell_type": "code",
   "execution_count": 31,
   "id": "657ffa4b-e4c8-4baa-a5ea-6e43dd56e863",
   "metadata": {
    "execution": {
     "iopub.execute_input": "2022-07-27T23:45:08.610910Z",
     "iopub.status.busy": "2022-07-27T23:45:08.610414Z",
     "iopub.status.idle": "2022-07-27T23:45:08.654111Z",
     "shell.execute_reply": "2022-07-27T23:45:08.654111Z",
     "shell.execute_reply.started": "2022-07-27T23:45:08.610910Z"
    },
    "tags": []
   },
   "outputs": [
    {
     "name": "stdout",
     "output_type": "stream",
     "text": [
      "Set parameter Username\n",
      "Academic license - for non-commercial use only - expires 2023-02-25\n"
     ]
    }
   ],
   "source": [
    "cycles, elimset, model = min_arc_set(edges_varonleft, outset, varidxs, eqnidxs)"
   ]
  },
  {
   "cell_type": "code",
   "execution_count": 32,
   "id": "3d09447d-cfb6-4f71-9001-b2841d57ce09",
   "metadata": {
    "execution": {
     "iopub.execute_input": "2022-07-27T23:45:09.815255Z",
     "iopub.status.busy": "2022-07-27T23:45:09.814254Z",
     "iopub.status.idle": "2022-07-27T23:45:09.835466Z",
     "shell.execute_reply": "2022-07-27T23:45:09.834467Z",
     "shell.execute_reply.started": "2022-07-27T23:45:09.815255Z"
    },
    "tags": []
   },
   "outputs": [
    {
     "data": {
      "text/plain": [
       "({0, 1}, {1, 2})"
      ]
     },
     "execution_count": 32,
     "metadata": {},
     "output_type": "execute_result"
    }
   ],
   "source": [
    "elimset, {outset_adj[elt] for elt in elimset}"
   ]
  },
  {
   "cell_type": "code",
   "execution_count": 33,
   "id": "fc070d78-1a96-4f94-ae94-21ded2a5497a",
   "metadata": {
    "execution": {
     "iopub.execute_input": "2022-07-27T23:45:17.995467Z",
     "iopub.status.busy": "2022-07-27T23:45:17.994458Z",
     "iopub.status.idle": "2022-07-27T23:45:18.309857Z",
     "shell.execute_reply": "2022-07-27T23:45:18.309180Z",
     "shell.execute_reply.started": "2022-07-27T23:45:17.995467Z"
    },
    "tags": []
   },
   "outputs": [],
   "source": [
    "outset_mfa = {key:val for key,val in outset_adj.items() if key not in elimset}"
   ]
  },
  {
   "cell_type": "markdown",
   "id": "fc38a1b0-a247-49f3-8f51-5ec307007541",
   "metadata": {},
   "source": [
    "### There is no IDF/MDF"
   ]
  },
  {
   "cell_type": "code",
   "execution_count": 36,
   "id": "b22a0423-9463-4078-b763-7efa0c9dc330",
   "metadata": {
    "execution": {
     "iopub.execute_input": "2022-07-27T23:46:11.870929Z",
     "iopub.status.busy": "2022-07-27T23:46:11.869928Z",
     "iopub.status.idle": "2022-07-27T23:46:12.328844Z",
     "shell.execute_reply": "2022-07-27T23:46:12.326236Z",
     "shell.execute_reply.started": "2022-07-27T23:46:11.870929Z"
    },
    "tags": []
   },
   "outputs": [
    {
     "data": {
      "image/png": "[encoded data removed]",
      "text/plain": [
       "<Figure size 216x216 with 1 Axes>"
      ]
     },
     "metadata": {
      "needs_background": "light"
     },
     "output_type": "display_data"
    }
   ],
   "source": [
    "formulation_mfa = reformulate(edges_dir, tree_dir, outset_adj, outset_mfa, root_solver_name=1)\n",
    "render_incidence(*formulation_mfa, figsize=((3,3)), figname=\"defense_fac_opt.png\", save=True, dispendcomp=True, fontsize=22, rotation=0, hideticks=True, patchwidth=4);"
   ]
  },
  {
   "cell_type": "markdown",
   "id": "533fc8eb-89f3-4210-9ecf-ad7bd9202ec5",
   "metadata": {},
   "source": [
    "## Tearing"
   ]
  },
  {
   "cell_type": "code",
   "execution_count": 223,
   "id": "1f7e8916-3654-4d88-90bc-8580938512fe",
   "metadata": {
    "execution": {
     "iopub.execute_input": "2022-07-26T12:01:03.537700Z",
     "iopub.status.busy": "2022-07-26T12:01:03.537700Z",
     "iopub.status.idle": "2022-07-26T12:01:03.554438Z",
     "shell.execute_reply": "2022-07-26T12:01:03.553915Z",
     "shell.execute_reply.started": "2022-07-26T12:01:03.537700Z"
    },
    "tags": []
   },
   "outputs": [],
   "source": [
    "fixed_inputs = set(varidxs)-set(outset.values())"
   ]
  },
  {
   "cell_type": "code",
   "execution_count": 224,
   "id": "389b7fd5-de5a-4bb6-9156-f077e91c8ab1",
   "metadata": {
    "execution": {
     "iopub.execute_input": "2022-07-26T12:01:03.723615Z",
     "iopub.status.busy": "2022-07-26T12:01:03.722491Z",
     "iopub.status.idle": "2022-07-26T12:01:03.942254Z",
     "shell.execute_reply": "2022-07-26T12:01:03.941736Z",
     "shell.execute_reply.started": "2022-07-26T12:01:03.723615Z"
    },
    "tags": []
   },
   "outputs": [
    {
     "data": {
      "image/png": "[encoded data removed]",
      "text/plain": [
       "<Figure size 216x216 with 1 Axes>"
      ]
     },
     "metadata": {
      "needs_background": "light"
     },
     "output_type": "display_data"
    }
   ],
   "source": [
    "xsol, model = min_arc_set_assign(edges_varonleft, varidxs, eqnidxs, not_output=fixed_inputs)\n",
    "outset_tear = dict((right, left-m) for left, right in edges_varonleft if xsol[left, right] > 0.5)\n",
    "formulation_tear = reformulate(edges_dir, tree_dir, outset_adj, outset_tear, \n",
    "                               not_outputs={elt-m for elt in fixed_inputs},\n",
    "                               root_solver_name=1)\n",
    "render_incidence(*formulation_tear, figsize=((3,3)), figname=\"defense_tear_opt.png\", save=True, fontsize=22, rotation=0, hideticks=True, patchwidth=4);"
   ]
  },
  {
   "cell_type": "code",
   "execution_count": 225,
   "id": "f900e21d-e503-4838-b564-7618aecc263f",
   "metadata": {
    "execution": {
     "iopub.execute_input": "2022-07-26T12:01:04.147064Z",
     "iopub.status.busy": "2022-07-26T12:01:04.147064Z",
     "iopub.status.idle": "2022-07-26T12:01:04.330432Z",
     "shell.execute_reply": "2022-07-26T12:01:04.330293Z",
     "shell.execute_reply.started": "2022-07-26T12:01:04.147064Z"
    },
    "tags": []
   },
   "outputs": [
    {
     "data": {
      "image/png": "[encoded data removed]",
      "text/plain": [
       "<Figure size 216x216 with 1 Axes>"
      ]
     },
     "metadata": {
      "needs_background": "light"
     },
     "output_type": "display_data"
    }
   ],
   "source": [
    "render_incidence(*formulation_tear, figsize=((3,3)));"
   ]
  },
  {
   "cell_type": "markdown",
   "id": "7b4ee40c-5606-46d2-8765-b8ce3528dc96",
   "metadata": {},
   "source": [
    "## Tearing with input"
   ]
  },
  {
   "cell_type": "code",
   "execution_count": 89,
   "id": "f9b4098f-272a-4245-b29f-362a5acc8198",
   "metadata": {
    "execution": {
     "iopub.execute_input": "2022-07-28T21:57:37.729838Z",
     "iopub.status.busy": "2022-07-28T21:57:37.729838Z",
     "iopub.status.idle": "2022-07-28T21:57:37.973121Z",
     "shell.execute_reply": "2022-07-28T21:57:37.972090Z",
     "shell.execute_reply.started": "2022-07-28T21:57:37.729838Z"
    },
    "tags": []
   },
   "outputs": [],
   "source": [
    "xsol, model = min_arc_set_assign(edges_varonleft, varidxs, eqnidxs)\n",
    "outset_minassign = dict((right, left-m) for left, right in edges_varonleft if xsol[left, right] > 0.5)"
   ]
  },
  {
   "cell_type": "code",
   "execution_count": 90,
   "id": "3917ec9e-9f05-4d79-9975-b707a73878a8",
   "metadata": {
    "execution": {
     "iopub.execute_input": "2022-07-28T21:57:38.525150Z",
     "iopub.status.busy": "2022-07-28T21:57:38.524412Z",
     "iopub.status.idle": "2022-07-28T21:57:38.537938Z",
     "shell.execute_reply": "2022-07-28T21:57:38.536893Z",
     "shell.execute_reply.started": "2022-07-28T21:57:38.525150Z"
    },
    "tags": []
   },
   "outputs": [],
   "source": [
    "edges_minassign=invert_edges(edges_undir[0], edges_undir[1], outset_minassign) "
   ]
  },
  {
   "cell_type": "code",
   "execution_count": 96,
   "id": "f7dd7e47-6bc0-4b73-bb20-6aa900933d41",
   "metadata": {
    "execution": {
     "iopub.execute_input": "2022-07-28T21:58:18.202990Z",
     "iopub.status.busy": "2022-07-28T21:58:18.202990Z",
     "iopub.status.idle": "2022-07-28T21:58:19.416115Z",
     "shell.execute_reply": "2022-07-28T21:58:19.415310Z",
     "shell.execute_reply.started": "2022-07-28T21:58:18.202990Z"
    },
    "tags": []
   },
   "outputs": [
    {
     "data": {
      "image/png": "[encoded data removed]",
      "text/plain": [
       "<Figure size 360x360 with 1 Axes>"
      ]
     },
     "metadata": {
      "needs_background": "light"
     },
     "output_type": "display_data"
    }
   ],
   "source": [
    "formulation_minassign = reformulate(edges_undir, tree_dir, outset_adj, outset_minassign, root_solver_name=1)\n",
    "render_incidence(*formulation_minassign, figsize=((5,5)), figname=\"defense_assign_opt.png\", save=False, fontsize=22, rotation=60, hideticks=True, patchwidth=4);"
   ]
  },
  {
   "cell_type": "markdown",
   "id": "290ee4e7-8cb7-4c4e-b265-0dee4a439c0e",
   "metadata": {},
   "source": [
    "## Min scc"
   ]
  },
  {
   "cell_type": "code",
   "execution_count": 233,
   "id": "6df80577-6240-4727-9a4a-e224dad41c50",
   "metadata": {
    "execution": {
     "iopub.execute_input": "2022-07-26T12:03:22.005750Z",
     "iopub.status.busy": "2022-07-26T12:03:22.005750Z",
     "iopub.status.idle": "2022-07-26T12:03:22.208905Z",
     "shell.execute_reply": "2022-07-26T12:03:22.208405Z",
     "shell.execute_reply.started": "2022-07-26T12:03:22.005750Z"
    },
    "tags": []
   },
   "outputs": [
    {
     "data": {
      "image/png": "[encoded data removed]",
      "text/plain": [
       "<Figure size 216x216 with 1 Axes>"
      ]
     },
     "metadata": {
      "needs_background": "light"
     },
     "output_type": "display_data"
    }
   ],
   "source": [
    "xsol, model = min_max_scc2(edges_varonleft, varidxs, eqnidxs)\n",
    "outset_minscc = dict((right, left-m) for left, right in edges_varonleft if xsol[left, right] > 0.5)\n",
    "formulation_minscc = reformulate(edges_dir, tree_dir, outset_adj, outset_minscc, root_solver_name=1)\n",
    "render_incidence(*formulation_minscc, figsize=((3,3)), figname=\"defense_scc_opt.png\", save=True, fontsize=22, rotation=0, hideticks=True, patchwidth=4);"
   ]
  },
  {
   "cell_type": "code",
   "execution_count": null,
   "id": "c59fe9b7-3ab6-4a03-b606-980e33291e11",
   "metadata": {},
   "outputs": [],
   "source": []
  }
 ],
 "metadata": {
  "kernelspec": {
   "display_name": "Python [conda env:minimdo]",
   "language": "python",
   "name": "conda-env-minimdo-py"
  },
  "language_info": {
   "codemirror_mode": {
    "name": "ipython",
    "version": 3
   },
   "file_extension": ".py",
   "mimetype": "text/x-python",
   "name": "python",
   "nbconvert_exporter": "python",
   "pygments_lexer": "ipython3",
   "version": "3.9.12"
  }
 },
 "nbformat": 4,
 "nbformat_minor": 5
}
