{
 "cells": [
  {
   "cell_type": "markdown",
   "id": "9aac92eb-ee42-49f5-b830-06e9e2505881",
   "metadata": {},
   "source": [
    "Based on ds_tree.ipynb"
   ]
  },
  {
   "cell_type": "markdown",
   "id": "5a5b6670-3fd9-4958-b381-a49d9c3ff0c0",
   "metadata": {},
   "source": [
    "This is the data structure based on the theory section of the thesis, which tries to be as minimal as possible.\n",
    "We then have:\n",
    "- constructor functions that can build this data structure. E.g:\n",
    "    - random networks\n",
    "    - sympy equation builder\n",
    "    - manual solver structure builder\n",
    "- mapping functions that can associate additional information with each datastructure. E.g:\n",
    "    - openMDAO namer(or any other renamer)\n",
    "    - mapping to actualy functions(that need to have the correct data shape for input and output)\n",
    "- processing functions that extract useful information based on the datastructures. E.g:\n",
    "    - returning all variables\n",
    "    - get input variables\n",
    "    - get output variables"
   ]
  },
  {
   "cell_type": "markdown",
   "id": "a2ae8668-0c92-4ad6-8e44-0a62a38ed087",
   "metadata": {
    "tags": []
   },
   "source": [
    "# Example data structure\n",
    "## Directed Graph"
   ]
  },
  {
   "cell_type": "code",
   "execution_count": 1,
   "id": "7ba4d9d5-0b6b-4176-8c3b-221dc87d9675",
   "metadata": {
    "execution": {
     "iopub.execute_input": "2022-03-10T00:34:41.031505Z",
     "iopub.status.busy": "2022-03-10T00:34:41.031505Z",
     "iopub.status.idle": "2022-03-10T00:34:43.292370Z",
     "shell.execute_reply": "2022-03-10T00:34:43.292370Z",
     "shell.execute_reply.started": "2022-03-10T00:34:41.031505Z"
    },
    "tags": []
   },
   "outputs": [],
   "source": [
    "from graph.graphutils import all_variables, sources"
   ]
  },
  {
   "cell_type": "code",
   "execution_count": 2,
   "id": "f8976120-9e3b-4016-8da7-efd9a4d4fb99",
   "metadata": {
    "execution": {
     "iopub.execute_input": "2022-03-10T00:34:43.355995Z",
     "iopub.status.busy": "2022-03-10T00:34:43.355013Z",
     "iopub.status.idle": "2022-03-10T00:34:43.369014Z",
     "shell.execute_reply": "2022-03-10T00:34:43.369014Z",
     "shell.execute_reply.started": "2022-03-10T00:34:43.355995Z"
    },
    "tags": []
   },
   "outputs": [],
   "source": [
    "Ein = {\n",
    "    1: (7,),\n",
    "    2: (3,6),\n",
    "    3: (1,),\n",
    "    4: (2,4),\n",
    "    5: (3,2)\n",
    "}\n",
    "# IMPORTANT: Need to enforce that each output variable \n",
    "# can only be connected to one function\n",
    "Eout = {\n",
    "    1: (6,),\n",
    "    2: (1,),\n",
    "    3: (2,), \n",
    "    4: (None,), # this gives us the size of the outputs\n",
    "    5: (5,), # Use None to indicate the size of the output\n",
    "}\n",
    "\n",
    "Rin = {\n",
    "    #3: (2,) # in original model its 3: (2,), so we have x_2 = f3(x_1)\n",
    "}"
   ]
  },
  {
   "cell_type": "code",
   "execution_count": 3,
   "id": "c850ca0b-3961-4f1b-be26-3e26fb617122",
   "metadata": {
    "execution": {
     "iopub.execute_input": "2022-03-10T00:34:43.511511Z",
     "iopub.status.busy": "2022-03-10T00:34:43.511511Z",
     "iopub.status.idle": "2022-03-10T00:34:43.524872Z",
     "shell.execute_reply": "2022-03-10T00:34:43.524609Z",
     "shell.execute_reply.started": "2022-03-10T00:34:43.511511Z"
    },
    "tags": []
   },
   "outputs": [
    {
     "data": {
      "text/plain": [
       "{1, 2, 3, 4, 5, 6, 7}"
      ]
     },
     "execution_count": 3,
     "metadata": {},
     "output_type": "execute_result"
    }
   ],
   "source": [
    "all_variables(Ein, Eout)"
   ]
  },
  {
   "cell_type": "code",
   "execution_count": 4,
   "id": "928f627d-3f90-4553-b9c4-1d45a6f522a8",
   "metadata": {
    "execution": {
     "iopub.execute_input": "2022-03-10T00:34:43.525886Z",
     "iopub.status.busy": "2022-03-10T00:34:43.525886Z",
     "iopub.status.idle": "2022-03-10T00:34:43.540007Z",
     "shell.execute_reply": "2022-03-10T00:34:43.540007Z",
     "shell.execute_reply.started": "2022-03-10T00:34:43.525886Z"
    },
    "tags": []
   },
   "outputs": [
    {
     "data": {
      "text/plain": [
       "{3, 4, 7}"
      ]
     },
     "execution_count": 4,
     "metadata": {},
     "output_type": "execute_result"
    }
   ],
   "source": [
    "sources(Ein, Eout)"
   ]
  },
  {
   "cell_type": "markdown",
   "id": "91a67bf4-8fc4-4003-87bf-e3bfe516fe7f",
   "metadata": {},
   "source": [
    "# Typed graph"
   ]
  },
  {
   "cell_type": "code",
   "execution_count": 5,
   "id": "1b848362",
   "metadata": {},
   "outputs": [],
   "source": [
    "from graph.graphutils import all_edges, merge_edges, Node, transform_E, COMP, VAR\n",
    "from graph.graphview import draw\n",
    "from functools import partial\n",
    "import networkx as nx"
   ]
  },
  {
   "cell_type": "markdown",
   "id": "761eac4e-736b-4f5d-8461-e84b61e97f1e",
   "metadata": {},
   "source": [
    "## Flat graph\n",
    "This is the flat graph that doesn't use any information about the tree"
   ]
  },
  {
   "cell_type": "code",
   "execution_count": 6,
   "id": "052109ad-8f13-4abc-8743-b4b98dba81b4",
   "metadata": {
    "execution": {
     "iopub.execute_input": "2022-03-10T00:34:44.752192Z",
     "iopub.status.busy": "2022-03-10T00:34:44.752192Z",
     "iopub.status.idle": "2022-03-10T00:34:44.757295Z",
     "shell.execute_reply": "2022-03-10T00:34:44.757192Z",
     "shell.execute_reply.started": "2022-03-10T00:34:44.752192Z"
    }
   },
   "outputs": [],
   "source": [
    "edges = all_edges(merge_edges(Ein,Rin), Eout, partial(transform_E, tfx=lambda x: Node(x, COMP), tvar=lambda x: Node(x, VAR)))"
   ]
  },
  {
   "cell_type": "code",
   "execution_count": 7,
   "id": "af71a570-71bc-4e5a-b80b-1a7999e6f5ab",
   "metadata": {
    "execution": {
     "iopub.execute_input": "2022-03-10T00:34:45.388144Z",
     "iopub.status.busy": "2022-03-10T00:34:45.388144Z",
     "iopub.status.idle": "2022-03-10T00:34:45.397815Z",
     "shell.execute_reply": "2022-03-10T00:34:45.397643Z",
     "shell.execute_reply.started": "2022-03-10T00:34:45.388144Z"
    }
   },
   "outputs": [],
   "source": [
    "G = nx.DiGraph(edges)"
   ]
  },
  {
   "cell_type": "code",
   "execution_count": 8,
   "id": "651ae372-c017-478a-b9ff-c1be4580fd9f",
   "metadata": {
    "execution": {
     "iopub.execute_input": "2022-03-10T00:34:45.706038Z",
     "iopub.status.busy": "2022-03-10T00:34:45.706038Z",
     "iopub.status.idle": "2022-03-10T00:34:45.723421Z",
     "shell.execute_reply": "2022-03-10T00:34:45.723421Z",
     "shell.execute_reply.started": "2022-03-10T00:34:45.706038Z"
    },
    "tags": []
   },
   "outputs": [],
   "source": [
    "var_names = [Node(var, VAR) for var in all_variables(Ein, Eout)]"
   ]
  },
  {
   "cell_type": "code",
   "execution_count": 9,
   "id": "c4dec43c-7492-494c-8823-562e1b428c5a",
   "metadata": {
    "execution": {
     "iopub.execute_input": "2022-03-10T00:34:46.211076Z",
     "iopub.status.busy": "2022-03-10T00:34:46.210081Z",
     "iopub.status.idle": "2022-03-10T00:34:46.808025Z",
     "shell.execute_reply": "2022-03-10T00:34:46.807738Z",
     "shell.execute_reply.started": "2022-03-10T00:34:46.211076Z"
    }
   },
   "outputs": [
    {
     "data": {
      "image/png": "[encoded data removed]",
      "text/plain": [
       "<Figure size 1100x400 with 1 Axes>"
      ]
     },
     "metadata": {},
     "output_type": "display_data"
    }
   ],
   "source": [
    "node_shapes = {elt:'o' if elt in var_names else 's' for elt in G.nodes()}\n",
    "draw(G, node_shape=node_shapes, prog='sfdp', figsize=(11,4), latexlabels=False);"
   ]
  },
  {
   "cell_type": "markdown",
   "id": "28d6fea7-11f3-47f2-bf6d-ff54cc65583a",
   "metadata": {},
   "source": [
    "## Ordered tree"
   ]
  },
  {
   "cell_type": "code",
   "execution_count": 10,
   "id": "97cf26b7",
   "metadata": {},
   "outputs": [],
   "source": [
    "from collections import OrderedDict"
   ]
  },
  {
   "cell_type": "code",
   "execution_count": 11,
   "id": "6809beb2-839e-402e-96ad-85240accd6da",
   "metadata": {
    "execution": {
     "iopub.execute_input": "2022-03-10T00:34:50.566820Z",
     "iopub.status.busy": "2022-03-10T00:34:50.565815Z",
     "iopub.status.idle": "2022-03-10T00:34:50.588654Z",
     "shell.execute_reply": "2022-03-10T00:34:50.588584Z",
     "shell.execute_reply.started": "2022-03-10T00:34:50.566820Z"
    },
    "tags": []
   },
   "outputs": [],
   "source": [
    "Stree = {\n",
    "    2:1\n",
    "}\n",
    "Ftree = OrderedDict((\n",
    "    (1,1),\n",
    "    (2,2),\n",
    "    (3,2),\n",
    "    (4,2),\n",
    "    (5,1)\n",
    "))\n",
    "Vtree = {\n",
    "    3:2\n",
    "}"
   ]
  },
  {
   "cell_type": "markdown",
   "id": "91b96e5e-72da-4ed9-abf7-fcd3ccea2d06",
   "metadata": {},
   "source": [
    "## Functions"
   ]
  },
  {
   "cell_type": "code",
   "execution_count": 12,
   "id": "6c0c46d2-46b4-40c3-86e0-6c100949abf4",
   "metadata": {
    "execution": {
     "iopub.execute_input": "2022-03-10T00:34:51.216735Z",
     "iopub.status.busy": "2022-03-10T00:34:51.216735Z",
     "iopub.status.idle": "2022-03-10T00:34:51.227017Z",
     "shell.execute_reply": "2022-03-10T00:34:51.227017Z",
     "shell.execute_reply.started": "2022-03-10T00:34:51.216735Z"
    }
   },
   "outputs": [],
   "source": [
    "Ein = {\n",
    "    1: (7,),\n",
    "    2: (3,6),\n",
    "    3: (1,),\n",
    "    4: (2,4),\n",
    "    5: (3,2)\n",
    "}\n",
    "# IMPORTANT: Need to enforce that each output variable \n",
    "# can only be connected to one function\n",
    "Eout = {\n",
    "    1: (6,),\n",
    "    2: (1,),\n",
    "    3: (2,), \n",
    "    4: (None,), # this gives us the size of the outputs\n",
    "    5: (5,), # Use None to indicate the size of the output\n",
    "}\n",
    "\n",
    "Rin = {\n",
    "    #3: (2,) # in original model its 3: (2,), so we have x_2 = f3(x_1)\n",
    "}"
   ]
  },
  {
   "cell_type": "code",
   "execution_count": 13,
   "id": "65051017-8d7d-45c8-8933-323086ca71bd",
   "metadata": {
    "execution": {
     "iopub.execute_input": "2022-03-10T00:34:52.323872Z",
     "iopub.status.busy": "2022-03-10T00:34:52.323872Z",
     "iopub.status.idle": "2022-03-10T00:34:52.338705Z",
     "shell.execute_reply": "2022-03-10T00:34:52.338507Z",
     "shell.execute_reply.started": "2022-03-10T00:34:52.323872Z"
    },
    "tags": []
   },
   "outputs": [],
   "source": [
    "# lookup table for functions\n",
    "f = {\n",
    "    ((6,),(7,)): lambda x,y: (x+y,),\n",
    "    ((1,),(3,6)): lambda x,y,z: (x+y+z,),\n",
    "    ((2,),(1,)): lambda x: x**2,\n",
    "    ((None,),(2,4)): lambda x,y: (x+y,),\n",
    "    ((5,),(3,2)): lambda x,y,z: (x+y,)\n",
    "}"
   ]
  },
  {
   "cell_type": "markdown",
   "id": "c24e5433-b876-4473-8ca6-7f30325b9260",
   "metadata": {},
   "source": [
    "# Generating workflows"
   ]
  },
  {
   "cell_type": "markdown",
   "id": "d3d093d6-76cb-4c51-8fc4-b1fadd3c76e6",
   "metadata": {
    "tags": []
   },
   "source": [
    "## Merging"
   ]
  },
  {
   "cell_type": "code",
   "execution_count": 14,
   "id": "25723002-c442-45cf-a620-1b8c6354fa16",
   "metadata": {
    "tags": []
   },
   "outputs": [],
   "source": [
    "from graph.mergegraph import get_edges,merge_graph\n",
    "merge_comps = {2,3,4}"
   ]
  },
  {
   "cell_type": "markdown",
   "id": "157a2ec1-bd28-4824-9e45-d05a7c0a3d11",
   "metadata": {},
   "source": [
    "Need to operate on graphs"
   ]
  },
  {
   "cell_type": "code",
   "execution_count": 15,
   "id": "eb72135d-a069-498d-af7c-077e360a1c4d",
   "metadata": {},
   "outputs": [],
   "source": [
    "G_parent, G_child = merge_graph(G, {Node(2,COMP),Node(3,COMP)}, {Node(3, VAR)}, solver_idx=1)"
   ]
  },
  {
   "cell_type": "code",
   "execution_count": 16,
   "id": "f28e7e55-783c-438a-a537-f92e331e213e",
   "metadata": {},
   "outputs": [],
   "source": [
    "G_parent2, G_child2 = merge_graph(G_parent, {Node(4,COMP),Node(5,COMP), Node(1,COMP)}, set(), solver_idx=2)"
   ]
  },
  {
   "cell_type": "code",
   "execution_count": 17,
   "id": "af322283-4c59-4be7-bc3e-2375160fc997",
   "metadata": {},
   "outputs": [
    {
     "data": {
      "image/png": "[encoded data removed]",
      "text/plain": [
       "<Figure size 700x500 with 1 Axes>"
      ]
     },
     "metadata": {},
     "output_type": "display_data"
    }
   ],
   "source": [
    "node_shapes = {elt:'o' if elt in var_names else 's' for elt in G_parent.nodes()}\n",
    "draw(G_parent, node_shape=node_shapes, prog='sfdp',figsize=(7,5), latexlabels=False);"
   ]
  },
  {
   "cell_type": "code",
   "execution_count": 18,
   "id": "d9e4a815-367f-4f4e-880c-54155412b75c",
   "metadata": {},
   "outputs": [
    {
     "data": {
      "image/png": "[encoded data removed]",
      "text/plain": [
       "<Figure size 700x300 with 1 Axes>"
      ]
     },
     "metadata": {},
     "output_type": "display_data"
    }
   ],
   "source": [
    "node_shapes = {elt:'o' if elt in var_names else 's' for elt in G_parent2.nodes()}\n",
    "draw(G_parent2, node_shape=node_shapes, prog='sfdp',figsize=(7,3), latexlabels=False);"
   ]
  },
  {
   "cell_type": "markdown",
   "id": "dabd8159-56ef-429e-bed0-f13958fd2e9f",
   "metadata": {
    "tags": []
   },
   "source": [
    "# Build graphs"
   ]
  },
  {
   "cell_type": "code",
   "execution_count": 19,
   "id": "eaf77d8f",
   "metadata": {},
   "outputs": [],
   "source": [
    "from graph.nestedgraph import level_order_tree, build_typedgraph"
   ]
  },
  {
   "cell_type": "code",
   "execution_count": 20,
   "id": "8ce69f80-026c-4892-abba-c678ba922761",
   "metadata": {
    "execution": {
     "iopub.execute_input": "2022-03-10T00:34:55.120474Z",
     "iopub.status.busy": "2022-03-10T00:34:55.120474Z",
     "iopub.status.idle": "2022-03-10T00:34:55.131833Z",
     "shell.execute_reply": "2022-03-10T00:34:55.131142Z",
     "shell.execute_reply.started": "2022-03-10T00:34:55.120474Z"
    },
    "tags": []
   },
   "outputs": [],
   "source": [
    "tree = {\n",
    "    2:1,\n",
    "}"
   ]
  },
  {
   "cell_type": "code",
   "execution_count": 21,
   "id": "656d0d82-37bd-4279-8718-6c5cd3af2ca2",
   "metadata": {
    "execution": {
     "iopub.execute_input": "2022-03-10T00:34:55.775973Z",
     "iopub.status.busy": "2022-03-10T00:34:55.774891Z",
     "iopub.status.idle": "2022-03-10T00:34:55.787848Z",
     "shell.execute_reply": "2022-03-10T00:34:55.787848Z",
     "shell.execute_reply.started": "2022-03-10T00:34:55.775973Z"
    },
    "tags": []
   },
   "outputs": [
    {
     "data": {
      "text/plain": [
       "[1, 2]"
      ]
     },
     "execution_count": 21,
     "metadata": {},
     "output_type": "execute_result"
    }
   ],
   "source": [
    "level_order_tree(tree)"
   ]
  },
  {
   "cell_type": "code",
   "execution_count": 22,
   "id": "249c395c-5841-45b8-baaf-9b24febd47f9",
   "metadata": {},
   "outputs": [],
   "source": [
    "graphs = build_typedgraph((Ein, Eout, Rin), (Ftree, Stree, Vtree))"
   ]
  },
  {
   "cell_type": "code",
   "execution_count": 23,
   "id": "d713a7a7-73e5-4c73-8e48-759f72a1ba81",
   "metadata": {},
   "outputs": [
    {
     "data": {
      "image/png": "[encoded data removed]",
      "text/plain": [
       "<Figure size 700x300 with 1 Axes>"
      ]
     },
     "metadata": {},
     "output_type": "display_data"
    },
    {
     "data": {
      "image/png": "[encoded data removed]",
      "text/plain": [
       "<Figure size 700x300 with 1 Axes>"
      ]
     },
     "metadata": {},
     "output_type": "display_data"
    }
   ],
   "source": [
    "for key,graph in graphs.items():\n",
    "    node_shapes = {elt:'o' if elt in var_names else 's' for elt in graph.nodes()}\n",
    "    draw(graph, node_shape=node_shapes, prog='sfdp',figsize=(7,3), latexlabels=False);"
   ]
  },
  {
   "cell_type": "markdown",
   "id": "0ca5542a-8fee-4320-843e-6e385eebbd80",
   "metadata": {},
   "source": [
    "# Operations"
   ]
  },
  {
   "cell_type": "code",
   "execution_count": 24,
   "id": "4497eaa1",
   "metadata": {},
   "outputs": [],
   "source": [
    "from graph.operators import standardize_comp, standardize_solver"
   ]
  },
  {
   "cell_type": "code",
   "execution_count": 25,
   "id": "c1f4c2ed-9d2b-42b9-aaec-ef3d2acb7584",
   "metadata": {},
   "outputs": [],
   "source": [
    "Ein = {\n",
    "    1: (2,),\n",
    "    2: (1,),\n",
    "}\n",
    "Eout = {\n",
    "    1: (1,),\n",
    "    2: (2,)\n",
    "}\n",
    "Rin = {\n",
    "}\n",
    "Vtree=dict()\n",
    "Ftree=OrderedDict(((1,1),(2,1)))"
   ]
  },
  {
   "cell_type": "code",
   "execution_count": 26,
   "id": "9908af08-fa85-4824-9e7c-136590b121aa",
   "metadata": {},
   "outputs": [],
   "source": [
    "edges = (Ein, Eout, Rin)\n",
    "tree = (Vtree, Ftree)\n",
    "edges, Vtree = standardize_comp(edges, Vtree, Ftree, 1)\n",
    "edges, Vtree = standardize_comp(edges, Vtree, Ftree, 2)"
   ]
  },
  {
   "cell_type": "code",
   "execution_count": 27,
   "id": "f9071366-c20e-4738-8e08-bc28c21fed63",
   "metadata": {},
   "outputs": [],
   "source": [
    "stEin = merge_edges(edges[0], edges[2])\n",
    "stEout = edges[1]\n",
    "Gedges = all_edges(Ein, Eout, partial(transform_E, tfx=lambda x: Node(x, COMP), tvar=lambda x: Node(x, VAR)))"
   ]
  },
  {
   "cell_type": "code",
   "execution_count": 28,
   "id": "4130c43d-5a27-4d08-9472-338d809840aa",
   "metadata": {},
   "outputs": [],
   "source": [
    "G = nx.DiGraph(Gedges)"
   ]
  },
  {
   "cell_type": "code",
   "execution_count": 29,
   "id": "8e62bf40-3407-4ddb-85a8-ebfb564ee642",
   "metadata": {},
   "outputs": [
    {
     "data": {
      "image/png": "[encoded data removed]",
      "text/plain": [
       "<Figure size 1100x400 with 1 Axes>"
      ]
     },
     "metadata": {},
     "output_type": "display_data"
    }
   ],
   "source": [
    "node_shapes = {elt:'o' if elt in var_names else 's' for elt in G.nodes()}\n",
    "draw(G, node_shape=node_shapes, prog='sfdp', figsize=(11,4), latexlabels=False);"
   ]
  },
  {
   "cell_type": "markdown",
   "id": "8b916ab7-e9a5-43b3-8419-682a2be97a06",
   "metadata": {},
   "source": [
    "For solver we should just unmerge it (assumed that it is acyclic)"
   ]
  },
  {
   "cell_type": "code",
   "execution_count": 30,
   "id": "e51c18bf-f3d3-427d-8d87-773446d8dea8",
   "metadata": {},
   "outputs": [],
   "source": [
    "Ein = {\n",
    "    1: (1,2),\n",
    "    2: (2,1,3),\n",
    "    3: (2,),\n",
    "}\n",
    "Eout = {\n",
    "    1: (None,),\n",
    "    2: (None,),\n",
    "    3: (3,)\n",
    "}\n",
    "Rin = {\n",
    "}\n",
    "Vtree=dict()\n",
    "Ftree=OrderedDict(((1,2),(2,2),(3,1)))\n",
    "Stree={2:1}"
   ]
  },
  {
   "cell_type": "code",
   "execution_count": 31,
   "id": "63fa52d8-6593-4506-a98e-e6ba6b848c34",
   "metadata": {},
   "outputs": [
    {
     "data": {
      "text/plain": [
       "({1: 1, 2: 1, 3: 1}, {})"
      ]
     },
     "execution_count": 31,
     "metadata": {},
     "output_type": "execute_result"
    }
   ],
   "source": [
    "standardize_solver((Ftree, Stree), 2)"
   ]
  },
  {
   "cell_type": "markdown",
   "id": "51c9b4c8-649b-46cc-b1f7-e4bbd5ab0d62",
   "metadata": {},
   "source": [
    "# Make acyclic\n",
    "\n",
    "This operates on the DiGraph with class nodes structure"
   ]
  },
  {
   "cell_type": "code",
   "execution_count": 32,
   "id": "be4d6447",
   "metadata": {},
   "outputs": [],
   "source": [
    "from graph.operators import sort_scc"
   ]
  },
  {
   "cell_type": "code",
   "execution_count": 33,
   "id": "28798983-492b-4015-8f3b-03db8b0764c8",
   "metadata": {},
   "outputs": [],
   "source": [
    "newStree = dict(Stree)\n",
    "newFtree = OrderedDict()\n",
    "newVtree = dict(Vtree)"
   ]
  },
  {
   "cell_type": "code",
   "execution_count": 34,
   "id": "d411564a-872b-4f58-afe0-bc395701e982",
   "metadata": {},
   "outputs": [],
   "source": [
    "Ein = {\n",
    "    1: (2,),\n",
    "    2: (1,),\n",
    "    3: (2,3),\n",
    "}\n",
    "Eout = {\n",
    "    1: (1,),\n",
    "    2: (2,),\n",
    "    3: (None,)\n",
    "}\n",
    "Rin = {\n",
    "}\n",
    "Vtree={3:1}\n",
    "Ftree=OrderedDict(((1,1),(2,1),(3,1)))\n",
    "Stree=dict()"
   ]
  },
  {
   "cell_type": "code",
   "execution_count": 35,
   "id": "28fdf892-ce62-44ff-b6ea-2df7042a91bb",
   "metadata": {},
   "outputs": [],
   "source": [
    "Gedges = all_edges(merge_edges(Ein, Rin), Eout, partial(transform_E, tfx=lambda x: Node(x, COMP), tvar=lambda x: Node(x, VAR)))\n",
    "G = nx.DiGraph(Gedges)"
   ]
  },
  {
   "cell_type": "code",
   "execution_count": 36,
   "id": "107c382c-59fb-420a-a905-355bec522d76",
   "metadata": {},
   "outputs": [
    {
     "data": {
      "image/png": "[encoded data removed]",
      "text/plain": [
       "<Figure size 1100x400 with 1 Axes>"
      ]
     },
     "metadata": {},
     "output_type": "display_data"
    }
   ],
   "source": [
    "node_shapes = {elt:'o' if elt in var_names else 's' for elt in G.nodes()}\n",
    "draw(G, node_shape=node_shapes, prog='sfdp', figsize=(11,4), latexlabels=False);"
   ]
  },
  {
   "cell_type": "code",
   "execution_count": 37,
   "id": "736f1c88-58c7-4641-b41e-cbd133b7e582",
   "metadata": {},
   "outputs": [],
   "source": [
    "edges = Ein, Eout, Rin\n",
    "tree = Ftree,Stree,Vtree"
   ]
  },
  {
   "cell_type": "code",
   "execution_count": 38,
   "id": "a3606dbc-6091-48ea-ba36-90afd3642b98",
   "metadata": {},
   "outputs": [],
   "source": [
    "def merge_and_standardize(edges, tree, mergecomps, parentidx=1, newidx=2):\n",
    "    Ftree, Stree, Vtree = tree\n",
    "    Ftree = OrderedDict(Ftree)\n",
    "    Stree = dict(Stree)\n",
    "    Stree[newidx]=parentidx\n",
    "    for node in mergecomps:\n",
    "        if node.nodetype == COMP:\n",
    "            assert Ftree[node.name] == parentidx # can only merge nodes at the same level\n",
    "            Ftree[node.name] = newidx\n",
    "            edges, Vtree = standardize_comp(edges, Vtree, Ftree, \n",
    "                                            node.name, vrs=None)\n",
    "        else:\n",
    "            assert Stree[node.name] == parentidx\n",
    "            # we remove the solver and raise all children one level up\n",
    "            Ftree, Stree = standardize_solver(Ftree, Stree, node.name)\n",
    "    return edges, (Ftree, Stree, Vtree)"
   ]
  },
  {
   "cell_type": "code",
   "execution_count": 39,
   "id": "72bfd567-64ad-4116-83ea-dad014d426fe",
   "metadata": {},
   "outputs": [
    {
     "data": {
      "text/plain": [
       "(({1: (2,), 2: (1,), 3: (2, 3)}, {1: (1,), 2: (2,), 3: (None,)}, {}),\n",
       " (OrderedDict([(1, 1), (2, 1), (3, 1)]), {}, {3: 1}))"
      ]
     },
     "execution_count": 39,
     "metadata": {},
     "output_type": "execute_result"
    }
   ],
   "source": [
    "edges, tree"
   ]
  },
  {
   "cell_type": "code",
   "execution_count": 40,
   "id": "4a418ece-bbbc-4c9c-8baf-5738c18b88a1",
   "metadata": {},
   "outputs": [],
   "source": [
    "nedges, ntree = merge_and_standardize(edges, tree, {Node(1,COMP),Node(2,COMP)}, 1, 2)"
   ]
  },
  {
   "cell_type": "code",
   "execution_count": 55,
   "id": "6e911ce1-50bf-48a3-b7ff-addd91fa7196",
   "metadata": {},
   "outputs": [
    {
     "ename": "AssertionError",
     "evalue": "",
     "output_type": "error",
     "traceback": [
      "\u001b[1;31m---------------------------------------------------------------------------\u001b[0m",
      "\u001b[1;31mAssertionError\u001b[0m                            Traceback (most recent call last)",
      "Input \u001b[1;32mIn [55]\u001b[0m, in \u001b[0;36m<cell line: 3>\u001b[1;34m()\u001b[0m\n\u001b[0;32m      1\u001b[0m Gedges \u001b[38;5;241m=\u001b[39m all_edges(merge_edges(nedges[\u001b[38;5;241m0\u001b[39m], nedges[\u001b[38;5;241m2\u001b[39m]), nedges[\u001b[38;5;241m1\u001b[39m], partial(transform_E, tfx\u001b[38;5;241m=\u001b[39m\u001b[38;5;28;01mlambda\u001b[39;00m x: Node(x, COMP), tvar\u001b[38;5;241m=\u001b[39m\u001b[38;5;28;01mlambda\u001b[39;00m x: Node(x, VAR)))\n\u001b[0;32m      2\u001b[0m G \u001b[38;5;241m=\u001b[39m nx\u001b[38;5;241m.\u001b[39mDiGraph(Gedges)\n\u001b[1;32m----> 3\u001b[0m graphs \u001b[38;5;241m=\u001b[39m \u001b[43mbuild_typedgraph\u001b[49m\u001b[43m(\u001b[49m\u001b[43medges\u001b[49m\u001b[43m,\u001b[49m\u001b[43m \u001b[49m\u001b[43mntree\u001b[49m\u001b[43m)\u001b[49m\n\u001b[0;32m      4\u001b[0m \u001b[38;5;28;01mfor\u001b[39;00m key,graph \u001b[38;5;129;01min\u001b[39;00m graphs\u001b[38;5;241m.\u001b[39mitems():\n\u001b[0;32m      5\u001b[0m     node_shapes \u001b[38;5;241m=\u001b[39m {elt:\u001b[38;5;124m'\u001b[39m\u001b[38;5;124mo\u001b[39m\u001b[38;5;124m'\u001b[39m \u001b[38;5;28;01mif\u001b[39;00m elt \u001b[38;5;129;01min\u001b[39;00m var_names \u001b[38;5;28;01melse\u001b[39;00m \u001b[38;5;124m'\u001b[39m\u001b[38;5;124ms\u001b[39m\u001b[38;5;124m'\u001b[39m \u001b[38;5;28;01mfor\u001b[39;00m elt \u001b[38;5;129;01min\u001b[39;00m graph\u001b[38;5;241m.\u001b[39mnodes()}\n",
      "File \u001b[1;32mc:\\Users\\johan\\github\\minimdo\\minimdo\\graph\\nestedgraph.py:33\u001b[0m, in \u001b[0;36mbuild_typedgraph\u001b[1;34m(edges, tree, nodetyperepr, exclude_unique_sources)\u001b[0m\n\u001b[0;32m     31\u001b[0m     solver_nodes \u001b[38;5;241m=\u001b[39m typed_solver_children(Stree, solver_idx, SOLVER, nodetyperepr)\n\u001b[0;32m     32\u001b[0m     merge_comps \u001b[38;5;241m=\u001b[39m component_nodes\u001b[38;5;241m.\u001b[39munion(solver_nodes)\n\u001b[1;32m---> 33\u001b[0m     G_parent, graphs[solver_idx] \u001b[38;5;241m=\u001b[39m \u001b[43mmerge_graph\u001b[49m\u001b[43m(\u001b[49m\u001b[43mG_parent\u001b[49m\u001b[43m,\u001b[49m\u001b[43m \u001b[49m\u001b[43mmerge_comps\u001b[49m\u001b[43m,\u001b[49m\u001b[43m \u001b[49m\u001b[43msolve_vars\u001b[49m\u001b[43m,\u001b[49m\u001b[43m \u001b[49m\u001b[43msolver_idx\u001b[49m\u001b[43m,\u001b[49m\u001b[43m \u001b[49m\u001b[43mnodetyperepr\u001b[49m\u001b[43m,\u001b[49m\u001b[43m \u001b[49m\u001b[43mexclude_unique_sources\u001b[49m\u001b[43m)\u001b[49m\n\u001b[0;32m     34\u001b[0m \u001b[38;5;28;01mreturn\u001b[39;00m graphs\n",
      "File \u001b[1;32mc:\\Users\\johan\\github\\minimdo\\minimdo\\graph\\mergegraph.py:55\u001b[0m, in \u001b[0;36mmerge_graph\u001b[1;34m(G, typed_mergelts, typed_solve_vars, solver_idx, nodetyperepr, exclude_unique_sources)\u001b[0m\n\u001b[0;32m     53\u001b[0m \u001b[38;5;66;03m# Allow for any source except it if it an output from the parent graph\u001b[39;00m\n\u001b[0;32m     54\u001b[0m allowable_solvevars \u001b[38;5;241m=\u001b[39m sources(\u001b[38;5;241m*\u001b[39msubgraph)\u001b[38;5;241m-\u001b[39mall_varnodes(mergegraph[\u001b[38;5;241m1\u001b[39m])\n\u001b[1;32m---> 55\u001b[0m \u001b[38;5;28;01massert\u001b[39;00m \u001b[38;5;28mall\u001b[39m(var \u001b[38;5;129;01min\u001b[39;00m allowable_solvevars \u001b[38;5;28;01mfor\u001b[39;00m var \u001b[38;5;129;01min\u001b[39;00m typed_solve_vars)\n\u001b[0;32m     56\u001b[0m subgraph_edges \u001b[38;5;241m=\u001b[39m all_edges(\u001b[38;5;241m*\u001b[39msubgraph)\n\u001b[0;32m     57\u001b[0m subgraph_G \u001b[38;5;241m=\u001b[39m nx\u001b[38;5;241m.\u001b[39mDiGraph(subgraph_edges)\n",
      "\u001b[1;31mAssertionError\u001b[0m: "
     ]
    }
   ],
   "source": [
    "Gedges = all_edges(merge_edges(nedges[0], nedges[2]), nedges[1], partial(transform_E, tfx=lambda x: Node(x, COMP), tvar=lambda x: Node(x, VAR)))\n",
    "G = nx.DiGraph(Gedges)\n",
    "graphs = build_typedgraph(edges, ntree)\n",
    "for key,graph in graphs.items():\n",
    "    node_shapes = {elt:'o' if elt in var_names else 's' for elt in graph.nodes()}\n",
    "    draw(graph, node_shape=node_shapes, prog='sfdp',figsize=(4,2), latexlabels=False);"
   ]
  },
  {
   "cell_type": "code",
   "execution_count": 443,
   "id": "7a2aa8f8-15c5-45cb-9831-20daff32be76",
   "metadata": {},
   "outputs": [],
   "source": [
    "scc = [{Node(1,COMP),Node(2,COMP)},{Node(3,COMP)}]"
   ]
  },
  {
   "cell_type": "code",
   "execution_count": 444,
   "id": "f8913860-57ff-41fc-bede-c66bae0fb1de",
   "metadata": {},
   "outputs": [],
   "source": [
    "def reorder_merge_solve(edges, tree, merge_order, solver_idx, mdf=True):\n",
    "    tree = tuple((dict(d) if idx !=0 else OrderedDict(d)) for idx, d in enumerate(tree))\n",
    "    nFtree = OrderedDict()\n",
    "    for connected_components in scc:\n",
    "        if len(connected_components) > 1:\n",
    "            new_idx = max(chain(Stree.keys(),(1,)))+1\n",
    "            edges, tree = merge_and_standardize(edges, tree, connected_components, solver_idx, new_idx)\n",
    "        Ftree = tree[0]\n",
    "        for node in connected_components:\n",
    "                if node.nodetype == COMP:\n",
    "                    nFtree[node.name] = Ftree[node.name]\n",
    "    return edges, (nFtree, ntree[1], ntree[2])"
   ]
  },
  {
   "cell_type": "code",
   "execution_count": 445,
   "id": "308cb262-5022-46e2-86de-e1f5dffa8e70",
   "metadata": {},
   "outputs": [
    {
     "data": {
      "text/plain": [
       "(({1: (2,), 2: (1,), 3: (2, 3)}, {1: (1,), 2: (2,), 3: (None,)}, {}),\n",
       " (OrderedDict([(1, 1), (2, 1), (3, 1)]), {}, {3: 1}))"
      ]
     },
     "execution_count": 445,
     "metadata": {},
     "output_type": "execute_result"
    }
   ],
   "source": [
    "edges, tree"
   ]
  },
  {
   "cell_type": "code",
   "execution_count": 446,
   "id": "0333acdc-c16d-4daf-9c29-0fdf91bd7fa2",
   "metadata": {},
   "outputs": [],
   "source": [
    "nedges, ntree = reorder_merge_solve(edges, tree, scc, solver_idx)"
   ]
  },
  {
   "cell_type": "code",
   "execution_count": 447,
   "id": "a855b798-43e4-43e4-8b07-3ff3a857fda3",
   "metadata": {},
   "outputs": [
    {
     "data": {
      "text/plain": [
       "(({1: (2,), 2: (1,), 3: (2, 3)},\n",
       "  {1: (None,), 2: (None,), 3: (None,)},\n",
       "  {2: (2,), 1: (1,)}),\n",
       " (OrderedDict([(2, 2), (1, 2), (3, 1)]), {2: 1}, {3: 1, 2: 2, 1: 2}))"
      ]
     },
     "execution_count": 447,
     "metadata": {},
     "output_type": "execute_result"
    }
   ],
   "source": [
    "nedges, ntree"
   ]
  },
  {
   "cell_type": "code",
   "execution_count": 448,
   "id": "c24feb8b-52ad-42db-9ef6-8bcc98545e4f",
   "metadata": {},
   "outputs": [
    {
     "data": {
      "text/plain": [
       "odict_keys([2, 1, 3])"
      ]
     },
     "execution_count": 448,
     "metadata": {},
     "output_type": "execute_result"
    }
   ],
   "source": [
    "ntree[0].keys()"
   ]
  },
  {
   "cell_type": "code",
   "execution_count": 449,
   "id": "9180736c-edcf-450e-8182-3da70706e2df",
   "metadata": {},
   "outputs": [],
   "source": [
    "stEin = merge_edges(nedges[0], nedges[2])\n",
    "stEout = nedges[1]\n",
    "Gedges = all_edges(stEin, stEout, partial(transform_E, tfx=lambda x: Node(x, COMP), tvar=lambda x: Node(x, VAR)))"
   ]
  },
  {
   "cell_type": "code",
   "execution_count": 450,
   "id": "5f156119-e2db-4891-941a-9188f0abce69",
   "metadata": {},
   "outputs": [],
   "source": [
    "G = nx.DiGraph(Gedges)"
   ]
  },
  {
   "cell_type": "code",
   "execution_count": 451,
   "id": "31910441-3c2b-4806-b47f-fbb931c7faef",
   "metadata": {},
   "outputs": [
    {
     "data": {
      "image/png": "[encoded data removed]",
      "text/plain": [
       "<Figure size 792x288 with 1 Axes>"
      ]
     },
     "metadata": {},
     "output_type": "display_data"
    }
   ],
   "source": [
    "node_shapes = {elt:'o' if elt in var_names else 's' for elt in G.nodes()}\n",
    "draw(G, node_shape=node_shapes, prog='sfdp', figsize=(11,4), latexlabels=False);"
   ]
  },
  {
   "cell_type": "markdown",
   "id": "0d98abe7-ef3d-434c-b800-ed52f521331a",
   "metadata": {},
   "source": [
    "# Workflow generation based on tree"
   ]
  },
  {
   "cell_type": "code",
   "execution_count": 452,
   "id": "0f328dac-10a9-4443-bee5-1d0d5a834385",
   "metadata": {},
   "outputs": [],
   "source": [
    "Vtree=dict()\n",
    "Ftree=OrderedDict(((1,2),(2,2),(3,1)))\n",
    "Stree={2:1, 3:2, 4:3}"
   ]
  },
  {
   "cell_type": "code",
   "execution_count": 453,
   "id": "f72dff2d-942a-4148-bef7-3e592ba72183",
   "metadata": {},
   "outputs": [],
   "source": [
    "def path(Stree, s, visited=None):\n",
    "    visited = visited if visited else set()\n",
    "    out = []\n",
    "    q = {s} if s in chain(Stree.values(),Stree.keys()) else set()\n",
    "    while q:\n",
    "        s = q.pop()\n",
    "        if s not in visited:\n",
    "            out.append(s)\n",
    "            if s in Stree:\n",
    "                q.add(Stree[s])\n",
    "        visited.add(s)\n",
    "    return out"
   ]
  },
  {
   "cell_type": "code",
   "execution_count": 454,
   "id": "6dbf4e4c-b4e0-4b42-8566-3f36f317319a",
   "metadata": {},
   "outputs": [
    {
     "data": {
      "text/plain": [
       "[4]"
      ]
     },
     "execution_count": 454,
     "metadata": {},
     "output_type": "execute_result"
    }
   ],
   "source": [
    "path(Stree, 4, visited={3})"
   ]
  },
  {
   "cell_type": "code",
   "execution_count": 455,
   "id": "9d2af151-b287-4be3-8bc6-ddb6fae3c371",
   "metadata": {},
   "outputs": [
    {
     "data": {
      "text/plain": [
       "({1: (2,), 2: (1,), 3: (2, 3)},\n",
       " {1: (None,), 2: (None,), 3: (None,)},\n",
       " {2: (2,), 1: (1,)})"
      ]
     },
     "execution_count": 455,
     "metadata": {},
     "output_type": "execute_result"
    }
   ],
   "source": [
    "nedges"
   ]
  },
  {
   "cell_type": "code",
   "execution_count": 456,
   "id": "926785dd-799b-45b6-8fc5-43b9048b1f6c",
   "metadata": {},
   "outputs": [],
   "source": [
    "Fend = end_components(nedges[1])"
   ]
  },
  {
   "cell_type": "code",
   "execution_count": 457,
   "id": "3c740f24-44ad-41d0-9c81-5bbc26e958ce",
   "metadata": {},
   "outputs": [],
   "source": [
    "def generate_workflow(Ftree, Stree, Vtree):\n",
    "    visited = set()\n",
    "    workflow = []\n",
    "    for key,parentsolver in Ftree.items():\n",
    "        out = path(Stree, parentsolver, visited)\n",
    "        visited = visited.union(out) \n",
    "        workflow.extend([(\"solver\", s, Stree.get(s, None), solver_children(Vtree, s), solver_children({F:Ftree[F] for F in Fend}, s)) for s in out[::-1]])\n",
    "        workflow.append((\"exec\", key, parentsolver))\n",
    "    return workflow"
   ]
  },
  {
   "cell_type": "code",
   "execution_count": 458,
   "id": "eab638c9-08a0-4683-a76b-58b286cc797e",
   "metadata": {},
   "outputs": [
    {
     "data": {
      "text/plain": [
       "[('solver', 1, None, {3}, {3}),\n",
       " ('solver', 2, 1, {1, 2}, {1, 2}),\n",
       " ('exec', 2, 2),\n",
       " ('exec', 1, 2),\n",
       " ('exec', 3, 1)]"
      ]
     },
     "execution_count": 458,
     "metadata": {},
     "output_type": "execute_result"
    }
   ],
   "source": [
    "generate_workflow(*ntree)"
   ]
  },
  {
   "cell_type": "markdown",
   "id": "5bc69d03-9a61-48ce-97e3-e3818f5aa789",
   "metadata": {},
   "source": [
    "# Simplifications"
   ]
  },
  {
   "cell_type": "markdown",
   "id": "3035932c-7087-4f12-96cd-66c070040d80",
   "metadata": {},
   "source": [
    "Solver simplification and residual simplification can be merged under one idea\n",
    "\n",
    "This allows to override the solver creation, and instead replace the execs that would fall underneath with one function"
   ]
  },
  {
   "cell_type": "code",
   "execution_count": 22,
   "id": "57cd5011-f958-470e-85d2-830f8b4df855",
   "metadata": {
    "execution": {
     "iopub.execute_input": "2022-03-09T21:09:33.871830Z",
     "iopub.status.busy": "2022-03-09T21:09:33.871830Z",
     "iopub.status.idle": "2022-03-09T21:09:33.886110Z",
     "shell.execute_reply": "2022-03-09T21:09:33.885185Z",
     "shell.execute_reply.started": "2022-03-09T21:09:33.871830Z"
    },
    "tags": []
   },
   "outputs": [],
   "source": [
    "# The idea is that it replaces any solvers it sees with the following inputs and outputs with a new exec with the following function:\n",
    "sargmap = {\n",
    "    ((2,3),(1,2)): lambda x,y: (x+y,x*y), #for a solver for example\n",
    "    ((1,2),(None,)): lambda x,y: y-f[((1,),(2,))](x) # for a residualized example, for elements in Rin\n",
    "}"
   ]
  },
  {
   "cell_type": "code",
   "execution_count": 25,
   "id": "fe7adf44-542e-46e0-8315-3c5fcbc520fc",
   "metadata": {
    "execution": {
     "iopub.execute_input": "2022-03-09T21:09:41.740482Z",
     "iopub.status.busy": "2022-03-09T21:09:41.740482Z",
     "iopub.status.idle": "2022-03-09T21:09:41.747085Z",
     "shell.execute_reply": "2022-03-09T21:09:41.747085Z",
     "shell.execute_reply.started": "2022-03-09T21:09:41.740482Z"
    },
    "tags": []
   },
   "outputs": [
    {
     "data": {
      "text/plain": [
       "-21"
      ]
     },
     "execution_count": 25,
     "metadata": {},
     "output_type": "execute_result"
    }
   ],
   "source": [
    "sargmap[((1,2),(None,))](5,4)"
   ]
  },
  {
   "cell_type": "markdown",
   "id": "72f8b5db-10ea-489d-9abb-9e60db8a110e",
   "metadata": {},
   "source": [
    "## Automatic generation of residual functions\n",
    "Should also work with multivariable residuals"
   ]
  },
  {
   "cell_type": "code",
   "execution_count": 199,
   "id": "003a6ca2-6840-4007-9dc3-c071d390d0d7",
   "metadata": {
    "execution": {
     "iopub.execute_input": "2022-03-09T23:59:53.986715Z",
     "iopub.status.busy": "2022-03-09T23:59:53.986715Z",
     "iopub.status.idle": "2022-03-09T23:59:53.996312Z",
     "shell.execute_reply": "2022-03-09T23:59:53.995647Z",
     "shell.execute_reply.started": "2022-03-09T23:59:53.986715Z"
    },
    "tags": []
   },
   "outputs": [],
   "source": [
    "Ein = {\n",
    "    1: (2,),\n",
    "    2: (1,),\n",
    "}\n",
    "Eout = {\n",
    "    1: (None,),\n",
    "    2: (None,),\n",
    "}\n",
    "Rin = {\n",
    "    1: (1,),\n",
    "    2: (2,),\n",
    "}"
   ]
  },
  {
   "cell_type": "code",
   "execution_count": 137,
   "id": "9704ebf5-d0a8-4d8d-94d9-2fecacd1c2ae",
   "metadata": {
    "execution": {
     "iopub.execute_input": "2022-03-09T23:36:53.852613Z",
     "iopub.status.busy": "2022-03-09T23:36:53.851612Z",
     "iopub.status.idle": "2022-03-09T23:36:53.866874Z",
     "shell.execute_reply": "2022-03-09T23:36:53.866629Z",
     "shell.execute_reply.started": "2022-03-09T23:36:53.852613Z"
    },
    "tags": []
   },
   "outputs": [],
   "source": [
    "f = {\n",
    "    ((1,),(2,)): lambda x: x**2,\n",
    "    ((2,),(1,)): lambda x: x+200\n",
    "}"
   ]
  },
  {
   "cell_type": "code",
   "execution_count": 192,
   "id": "79d89a00-7af3-4dd8-9134-067aade84e35",
   "metadata": {
    "execution": {
     "iopub.execute_input": "2022-03-09T23:58:33.662085Z",
     "iopub.status.busy": "2022-03-09T23:58:33.662085Z",
     "iopub.status.idle": "2022-03-09T23:58:33.677509Z",
     "shell.execute_reply": "2022-03-09T23:58:33.677278Z",
     "shell.execute_reply.started": "2022-03-09T23:58:33.662085Z"
    },
    "tags": []
   },
   "outputs": [],
   "source": [
    "def bindFunction(function, n_reversed):\n",
    "    def residual(*x):\n",
    "        return np.array(x[n_reversed:])-function(*x[0:n_reversed]) \n",
    "    return residual"
   ]
  },
  {
   "cell_type": "code",
   "execution_count": 193,
   "id": "f77594bd-4f09-4826-983c-c8e93f1fe7f8",
   "metadata": {
    "execution": {
     "iopub.execute_input": "2022-03-09T23:58:40.261923Z",
     "iopub.status.busy": "2022-03-09T23:58:40.261923Z",
     "iopub.status.idle": "2022-03-09T23:58:40.273059Z",
     "shell.execute_reply": "2022-03-09T23:58:40.273059Z",
     "shell.execute_reply.started": "2022-03-09T23:58:40.261923Z"
    },
    "tags": []
   },
   "outputs": [],
   "source": [
    "def generate_residuals(Ein, Rin, f):\n",
    "    residuals = dict()\n",
    "    merged_edges = merge_edges(Ein,Rin) # this makes sure we get the same order as used during workflow generation\n",
    "    for fx,ins in Rin.items():\n",
    "        merged_ins = merged_edges[fx]\n",
    "        fkey = (Rin[fx], Ein[fx]) #Rin encodes the old outputs\n",
    "        function = f[fkey]\n",
    "        n_reversed = len(ins)\n",
    "        output_size = (None,)*n_reversed\n",
    "        # need to do some local binding for residual function\n",
    "        residuals[(merged_ins, output_size)] = bindFunction(function, n_reversed)\n",
    "    return residuals"
   ]
  },
  {
   "cell_type": "code",
   "execution_count": 194,
   "id": "0a737199-24e6-4204-971a-678eea2cedd6",
   "metadata": {
    "execution": {
     "iopub.execute_input": "2022-03-09T23:58:41.222475Z",
     "iopub.status.busy": "2022-03-09T23:58:41.221476Z",
     "iopub.status.idle": "2022-03-09T23:58:41.227606Z",
     "shell.execute_reply": "2022-03-09T23:58:41.227534Z",
     "shell.execute_reply.started": "2022-03-09T23:58:41.221476Z"
    },
    "tags": []
   },
   "outputs": [],
   "source": [
    "residuals = generate_residuals(Ein, Rin, f)"
   ]
  },
  {
   "cell_type": "code",
   "execution_count": 200,
   "id": "d5a1c565-e8b5-4a25-aa2e-6375a2de9f72",
   "metadata": {
    "execution": {
     "iopub.execute_input": "2022-03-10T00:02:17.799598Z",
     "iopub.status.busy": "2022-03-10T00:02:17.799598Z",
     "iopub.status.idle": "2022-03-10T00:02:17.805670Z",
     "shell.execute_reply": "2022-03-10T00:02:17.805670Z",
     "shell.execute_reply.started": "2022-03-10T00:02:17.799598Z"
    }
   },
   "outputs": [
    {
     "data": {
      "text/plain": [
       "{((1, 2), (None,)): <function __main__.bindFunction.<locals>.residual(*x)>,\n",
       " ((2, 1), (None,)): <function __main__.bindFunction.<locals>.residual(*x)>}"
      ]
     },
     "execution_count": 200,
     "metadata": {},
     "output_type": "execute_result"
    }
   ],
   "source": [
    "residuals"
   ]
  },
  {
   "cell_type": "code",
   "execution_count": 196,
   "id": "89520c8a-0c28-4d85-9a6b-0cc741d9220d",
   "metadata": {
    "execution": {
     "iopub.execute_input": "2022-03-09T23:58:41.954474Z",
     "iopub.status.busy": "2022-03-09T23:58:41.954474Z",
     "iopub.status.idle": "2022-03-09T23:58:41.971809Z",
     "shell.execute_reply": "2022-03-09T23:58:41.971403Z",
     "shell.execute_reply.started": "2022-03-09T23:58:41.954474Z"
    },
    "tags": []
   },
   "outputs": [
    {
     "data": {
      "text/plain": [
       "array([-99])"
      ]
     },
     "execution_count": 196,
     "metadata": {},
     "output_type": "execute_result"
    }
   ],
   "source": [
    "residuals[((2, 1), (None,))](10,1)"
   ]
  },
  {
   "cell_type": "code",
   "execution_count": 197,
   "id": "accbb0d0-bd24-4bcf-8799-5ef0faf275cc",
   "metadata": {
    "execution": {
     "iopub.execute_input": "2022-03-09T23:58:42.603112Z",
     "iopub.status.busy": "2022-03-09T23:58:42.603112Z",
     "iopub.status.idle": "2022-03-09T23:58:42.613163Z",
     "shell.execute_reply": "2022-03-09T23:58:42.613099Z",
     "shell.execute_reply.started": "2022-03-09T23:58:42.603112Z"
    },
    "tags": []
   },
   "outputs": [
    {
     "data": {
      "text/plain": [
       "array([-209])"
      ]
     },
     "execution_count": 197,
     "metadata": {},
     "output_type": "execute_result"
    }
   ],
   "source": [
    "residuals[((1, 2), (None,))](10,1)"
   ]
  },
  {
   "cell_type": "markdown",
   "id": "741489c4-b8ef-4ac6-906c-e57fad95d1c2",
   "metadata": {},
   "source": [
    "# Random problem demo"
   ]
  },
  {
   "cell_type": "code",
   "execution_count": 50,
   "id": "74f7b3dc-945e-497b-a3a6-b4d842cbbf9e",
   "metadata": {
    "execution": {
     "iopub.execute_input": "2022-03-10T00:40:30.574986Z",
     "iopub.status.busy": "2022-03-10T00:40:30.574986Z",
     "iopub.status.idle": "2022-03-10T00:40:30.589008Z",
     "shell.execute_reply": "2022-03-10T00:40:30.588798Z",
     "shell.execute_reply.started": "2022-03-10T00:40:30.574986Z"
    },
    "tags": []
   },
   "outputs": [],
   "source": [
    "from testproblems import generate_random_prob"
   ]
  },
  {
   "cell_type": "code",
   "execution_count": 57,
   "id": "5af3cef1-a7a3-4926-ae04-4a189a12ec60",
   "metadata": {
    "execution": {
     "iopub.execute_input": "2022-03-10T00:41:30.753167Z",
     "iopub.status.busy": "2022-03-10T00:41:30.752220Z",
     "iopub.status.idle": "2022-03-10T00:41:30.772850Z",
     "shell.execute_reply": "2022-03-10T00:41:30.772344Z",
     "shell.execute_reply.started": "2022-03-10T00:41:30.753167Z"
    },
    "tags": []
   },
   "outputs": [],
   "source": [
    "n_eqs = 4\n",
    "n_vars = 8\n",
    "seed = 42#8 is triang#seed 10 is nice\n",
    "sparsity = .8#1.1 #1.7\n",
    "eqv, varinc, dout = generate_random_prob(n_eqs, n_vars, seed, sparsity)\n",
    "Ein = {key: tuple(vr-n_eqs for vr in var if vr !=dout[key]) for key,var in eqv.items()}\n",
    "Eout = {key: (var-n_eqs,) for key,var in dout.items()}\n",
    "Rin = dict()\n",
    "Ftree=OrderedDict((idx,1) for idx in range(n_eqs))\n",
    "Stree=dict()\n",
    "Vtree=dict()"
   ]
  },
  {
   "cell_type": "code",
   "execution_count": 58,
   "id": "1202f225-70b3-4208-a856-27fced73964e",
   "metadata": {
    "execution": {
     "iopub.execute_input": "2022-03-10T00:41:31.278012Z",
     "iopub.status.busy": "2022-03-10T00:41:31.278012Z",
     "iopub.status.idle": "2022-03-10T00:41:31.285609Z",
     "shell.execute_reply": "2022-03-10T00:41:31.285103Z",
     "shell.execute_reply.started": "2022-03-10T00:41:31.278012Z"
    },
    "tags": []
   },
   "outputs": [
    {
     "data": {
      "text/plain": [
       "{0: (2, 3, 4, 5), 1: (1, 5), 2: (4, 5, 7), 3: (0, 1, 4, 5)}"
      ]
     },
     "execution_count": 58,
     "metadata": {},
     "output_type": "execute_result"
    }
   ],
   "source": [
    "Ein"
   ]
  },
  {
   "cell_type": "code",
   "execution_count": 59,
   "id": "c7a0d039-2be0-4b8e-8e37-877796b94f71",
   "metadata": {
    "execution": {
     "iopub.execute_input": "2022-03-10T00:41:31.850543Z",
     "iopub.status.busy": "2022-03-10T00:41:31.850543Z",
     "iopub.status.idle": "2022-03-10T00:41:32.268105Z",
     "shell.execute_reply": "2022-03-10T00:41:32.267103Z",
     "shell.execute_reply.started": "2022-03-10T00:41:31.850543Z"
    },
    "tags": []
   },
   "outputs": [
    {
     "data": {
      "image/png": "[encoded data removed]",
      "text/plain": [
       "<Figure size 360x360 with 1 Axes>"
      ]
     },
     "metadata": {},
     "output_type": "display_data"
    }
   ],
   "source": [
    "edges = all_edges(merge_edges(Ein,Rin), Eout, partial(transform_E, tfx=lambda x: Node(x, COMP), tvar=lambda x: Node(x, VAR)))\n",
    "G = nx.DiGraph(edges)\n",
    "var_names = [Node(var, VAR) for var in all_variables(Ein, Eout)]\n",
    "node_shapes = {elt:'o' if elt in var_names else 's' for elt in G.nodes()}\n",
    "draw(G, node_shape=node_shapes, prog='circo', figsize=(5,5), latexlabels=False);"
   ]
  },
  {
   "cell_type": "code",
   "execution_count": null,
   "id": "e9c22584-3839-4695-9696-da1c146e62f9",
   "metadata": {},
   "outputs": [],
   "source": []
  }
 ],
 "metadata": {
  "kernelspec": {
   "display_name": "minimdo",
   "language": "python",
   "name": "python3"
  },
  "language_info": {
   "codemirror_mode": {
    "name": "ipython",
    "version": 3
   },
   "file_extension": ".py",
   "mimetype": "text/x-python",
   "name": "python",
   "nbconvert_exporter": "python",
   "pygments_lexer": "ipython3",
   "version": "3.9.18"
  },
  "toc-autonumbering": true
 },
 "nbformat": 4,
 "nbformat_minor": 5
}
