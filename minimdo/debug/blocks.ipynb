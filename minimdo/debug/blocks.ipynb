{
 "cells": [
  {
   "cell_type": "code",
   "execution_count": 1,
   "id": "cbcef260-8c90-4512-a50f-b8264db3bbd8",
   "metadata": {
    "execution": {
     "iopub.execute_input": "2022-04-18T15:27:17.413554Z",
     "iopub.status.busy": "2022-04-18T15:27:17.413554Z",
     "iopub.status.idle": "2022-04-18T15:27:17.425796Z",
     "shell.execute_reply": "2022-04-18T15:27:17.425796Z",
     "shell.execute_reply.started": "2022-04-18T15:27:17.413554Z"
    },
    "tags": []
   },
   "outputs": [
    {
     "name": "stdout",
     "output_type": "stream",
     "text": [
      "C:\\Users\\johan\\github\\designresolver\n"
     ]
    }
   ],
   "source": [
    "cd .."
   ]
  },
  {
   "cell_type": "code",
   "execution_count": 2,
   "id": "7d1ac89a-b649-4d32-9804-54dc6354415a",
   "metadata": {
    "execution": {
     "iopub.execute_input": "2022-04-18T15:27:17.427859Z",
     "iopub.status.busy": "2022-04-18T15:27:17.427859Z",
     "iopub.status.idle": "2022-04-18T15:27:19.205734Z",
     "shell.execute_reply": "2022-04-18T15:27:19.204609Z",
     "shell.execute_reply.started": "2022-04-18T15:27:17.427859Z"
    },
    "tags": []
   },
   "outputs": [],
   "source": [
    "from collections import OrderedDict\n",
    "from graphutils import draw_graph_graphical_props, flat_graph_formulation, Node, COMP, VAR\n",
    "import matplotlib\n",
    "from execution import Component\n",
    "from workflow import get_f, generate_workflow\n",
    "from assembly import build_archi\n",
    "from executeformulations import extractvals"
   ]
  },
  {
   "cell_type": "code",
   "execution_count": 3,
   "id": "b6a13767-7b06-4515-aed2-4921cd6ea431",
   "metadata": {
    "execution": {
     "iopub.execute_input": "2022-04-18T14:43:16.288063Z",
     "iopub.status.busy": "2022-04-18T14:43:16.288063Z",
     "iopub.status.idle": "2022-04-18T14:43:16.301926Z",
     "shell.execute_reply": "2022-04-18T14:43:16.301926Z",
     "shell.execute_reply.started": "2022-04-18T14:43:16.288063Z"
    },
    "tags": []
   },
   "outputs": [],
   "source": [
    "Ein = {\n",
    "    1: (2,3),\n",
    "    2: (1,)\n",
    "}\n",
    "Eout = {\n",
    "    1: (None,),\n",
    "    2: (None,),\n",
    "}\n",
    "Rin = {\n",
    "    1: (1,),\n",
    "    2: (2,),\n",
    "}\n",
    "Ftree = OrderedDict((\n",
    "    (1,1),\n",
    "    (2,1)\n",
    "))\n",
    "Stree = {}\n",
    "Vtree = {1:1,2:1} #cannot have implicit components without solvefors\n",
    "edges = Ein, Eout, Rin\n",
    "tree = Ftree,Stree,Vtree"
   ]
  },
  {
   "cell_type": "code",
   "execution_count": 4,
   "id": "73c71284-6cd9-4cdc-97aa-8554d5eaa9d4",
   "metadata": {
    "execution": {
     "iopub.execute_input": "2022-04-18T02:53:36.732072Z",
     "iopub.status.busy": "2022-04-18T02:53:36.732072Z",
     "iopub.status.idle": "2022-04-18T02:53:36.770856Z",
     "shell.execute_reply": "2022-04-18T02:53:36.770263Z",
     "shell.execute_reply.started": "2022-04-18T02:53:36.732072Z"
    },
    "tags": []
   },
   "outputs": [],
   "source": [
    "G = flat_graph_formulation(Ein, Eout, Rin)"
   ]
  },
  {
   "cell_type": "code",
   "execution_count": 5,
   "id": "a9a7e802-4b5a-4195-b0a8-e4d481361e26",
   "metadata": {
    "execution": {
     "iopub.execute_input": "2022-04-18T02:53:36.772763Z",
     "iopub.status.busy": "2022-04-18T02:53:36.772263Z",
     "iopub.status.idle": "2022-04-18T02:53:37.228687Z",
     "shell.execute_reply": "2022-04-18T02:53:37.228171Z",
     "shell.execute_reply.started": "2022-04-18T02:53:36.772763Z"
    },
    "tags": []
   },
   "outputs": [
    {
     "data": {
      "image/png": "[encoded data removed]",
      "text/plain": [
       "<Figure size 216x144 with 1 Axes>"
      ]
     },
     "metadata": {},
     "output_type": "display_data"
    }
   ],
   "source": [
    "draw_graph_graphical_props(G, prog='sfdp', figsize=(3,2))"
   ]
  },
  {
   "cell_type": "code",
   "execution_count": 6,
   "id": "4658a9e9-9915-46e3-958c-47e4c52894e7",
   "metadata": {
    "execution": {
     "iopub.execute_input": "2022-04-18T02:53:37.229621Z",
     "iopub.status.busy": "2022-04-18T02:53:37.229621Z",
     "iopub.status.idle": "2022-04-18T02:53:37.252521Z",
     "shell.execute_reply": "2022-04-18T02:53:37.252016Z",
     "shell.execute_reply.started": "2022-04-18T02:53:37.229621Z"
    },
    "tags": []
   },
   "outputs": [],
   "source": [
    "arg_mapping={1:'x_1',2:'x_2',3:'x_3'}\n",
    "c1 = Component(lambda y,a: y**2+a, (2,3), (1,), 1, arg_mapping=arg_mapping)\n",
    "c2 = Component(lambda x: x-1, (1,), (2,), 2, arg_mapping=arg_mapping)\n",
    "c1r = Component(lambda x,y,a: -x+y**2+a, (1,2,3), None, 1, arg_mapping=arg_mapping)\n",
    "c2r = Component(lambda x,y: -y+x-1, (1,2), None, 2, arg_mapping=arg_mapping)\n",
    "components = [c1,c2,c1r,c2r]"
   ]
  },
  {
   "cell_type": "code",
   "execution_count": 7,
   "id": "00f45e3c-9e3a-4b6f-afc6-7e0c9f562b5f",
   "metadata": {
    "execution": {
     "iopub.execute_input": "2022-04-18T02:53:37.253429Z",
     "iopub.status.busy": "2022-04-18T02:53:37.253429Z",
     "iopub.status.idle": "2022-04-18T02:53:37.263383Z",
     "shell.execute_reply": "2022-04-18T02:53:37.262605Z",
     "shell.execute_reply.started": "2022-04-18T02:53:37.253429Z"
    },
    "tags": []
   },
   "outputs": [
    {
     "data": {
      "text/plain": [
       "{'x_1': array(-1.), 'x_2': array(4.), 'x_3': array(1.)}"
      ]
     },
     "execution_count": 7,
     "metadata": {},
     "output_type": "execute_result"
    }
   ],
   "source": [
    "c1r.graddict({'x_1':1, 'x_2':2, 'x_3':2})"
   ]
  },
  {
   "cell_type": "code",
   "execution_count": 8,
   "id": "8772a130-de35-44cc-a124-dc4bf34cd36b",
   "metadata": {
    "execution": {
     "iopub.execute_input": "2022-04-18T02:53:37.263383Z",
     "iopub.status.busy": "2022-04-18T02:53:37.263383Z",
     "iopub.status.idle": "2022-04-18T02:53:37.282936Z",
     "shell.execute_reply": "2022-04-18T02:53:37.282435Z",
     "shell.execute_reply.started": "2022-04-18T02:53:37.263383Z"
    },
    "tags": []
   },
   "outputs": [],
   "source": [
    "lookup_f = get_f(components, edges)\n",
    "workflow = generate_workflow(lookup_f, edges, tree, debug=False)"
   ]
  },
  {
   "cell_type": "code",
   "execution_count": 9,
   "id": "a85e45e9-7eca-47a8-ad36-7ec4f5d7c183",
   "metadata": {
    "execution": {
     "iopub.execute_input": "2022-04-18T02:53:39.694025Z",
     "iopub.status.busy": "2022-04-18T02:53:39.694025Z",
     "iopub.status.idle": "2022-04-18T02:53:39.706902Z",
     "shell.execute_reply": "2022-04-18T02:53:39.706902Z",
     "shell.execute_reply.started": "2022-04-18T02:53:39.694025Z"
    },
    "tags": []
   },
   "outputs": [
    {
     "data": {
      "text/plain": [
       "[(SOLVE, None, 's_1', {}),\n",
       " (IMPL,\n",
       "  's_1',\n",
       "  'res_f1_f2',\n",
       "  [(['x_1', 'x_2', 'x_3'],\n",
       "    ['x_1'],\n",
       "    <bound method Component.evaldict of ((1, 2, 3), 1, (None,), 'None')>,\n",
       "    <bound method Component.graddict of ((1, 2, 3), 1, (None,), 'None')>,\n",
       "    1.0),\n",
       "   (['x_1', 'x_2'],\n",
       "    ['x_2'],\n",
       "    <bound method Component.evaldict of ((1, 2), 2, (None,), 'None')>,\n",
       "    <bound method Component.graddict of ((1, 2), 2, (None,), 'None')>,\n",
       "    1.0)])]"
      ]
     },
     "execution_count": 9,
     "metadata": {},
     "output_type": "execute_result"
    }
   ],
   "source": [
    "workflow"
   ]
  },
  {
   "cell_type": "code",
   "execution_count": 10,
   "id": "f5298696-cf75-40ec-bd92-b8eccb190638",
   "metadata": {
    "execution": {
     "iopub.execute_input": "2022-04-18T02:53:40.232198Z",
     "iopub.status.busy": "2022-04-18T02:53:40.232198Z",
     "iopub.status.idle": "2022-04-18T02:53:40.256360Z",
     "shell.execute_reply": "2022-04-18T02:53:40.255880Z",
     "shell.execute_reply.started": "2022-04-18T02:53:40.232198Z"
    },
    "tags": []
   },
   "outputs": [],
   "source": [
    "prob, mdao_in, groups = build_archi(edges, tree, workflow)"
   ]
  },
  {
   "cell_type": "code",
   "execution_count": 11,
   "id": "362a2f12-ee84-4b9e-b0a7-56b4a27b0705",
   "metadata": {
    "execution": {
     "iopub.execute_input": "2022-04-18T02:53:41.393294Z",
     "iopub.status.busy": "2022-04-18T02:53:41.393294Z",
     "iopub.status.idle": "2022-04-18T02:53:41.410867Z",
     "shell.execute_reply": "2022-04-18T02:53:41.410450Z",
     "shell.execute_reply.started": "2022-04-18T02:53:41.393294Z"
    },
    "tags": []
   },
   "outputs": [
    {
     "data": {
      "text/plain": [
       "array([0.22199317])"
      ]
     },
     "execution_count": 11,
     "metadata": {},
     "output_type": "execute_result"
    }
   ],
   "source": [
    "prob.get_val('x_3')"
   ]
  },
  {
   "cell_type": "code",
   "execution_count": 12,
   "id": "ecdf0904-64b2-4a0d-a817-3294f98dd658",
   "metadata": {
    "execution": {
     "iopub.execute_input": "2022-04-18T02:53:43.025204Z",
     "iopub.status.busy": "2022-04-18T02:53:43.025204Z",
     "iopub.status.idle": "2022-04-18T02:53:43.041587Z",
     "shell.execute_reply": "2022-04-18T02:53:43.040998Z",
     "shell.execute_reply.started": "2022-04-18T02:53:43.025204Z"
    },
    "tags": []
   },
   "outputs": [],
   "source": [
    "#prob.set_val('x_1',2)\n",
    "#prob.set_val('x_1',2)\n",
    "prob.set_val('x_3',.1)"
   ]
  },
  {
   "cell_type": "code",
   "execution_count": 13,
   "id": "a27d6449-6937-4fca-8f15-148889a02e53",
   "metadata": {
    "execution": {
     "iopub.execute_input": "2022-04-18T02:53:43.515988Z",
     "iopub.status.busy": "2022-04-18T02:53:43.515988Z",
     "iopub.status.idle": "2022-04-18T02:53:43.593392Z",
     "shell.execute_reply": "2022-04-18T02:53:43.592882Z",
     "shell.execute_reply.started": "2022-04-18T02:53:43.515988Z"
    },
    "tags": []
   },
   "outputs": [
    {
     "name": "stdout",
     "output_type": "stream",
     "text": [
      "\n",
      "===\n",
      "s_1\n",
      "===\n",
      "NL: Newton Converged in 5 iterations\n"
     ]
    }
   ],
   "source": [
    "prob.run_model()"
   ]
  },
  {
   "cell_type": "code",
   "execution_count": 14,
   "id": "0f0457f5-40ce-4539-ab96-2b5f61c64d3c",
   "metadata": {
    "execution": {
     "iopub.execute_input": "2022-04-18T02:53:50.463943Z",
     "iopub.status.busy": "2022-04-18T02:53:50.463943Z",
     "iopub.status.idle": "2022-04-18T02:53:50.481399Z",
     "shell.execute_reply": "2022-04-18T02:53:50.480591Z",
     "shell.execute_reply.started": "2022-04-18T02:53:50.463943Z"
    },
    "tags": []
   },
   "outputs": [],
   "source": [
    "outs = extractvals(prob, {Node('x_1',VAR),Node('x_2',VAR),Node('x_3',VAR)})"
   ]
  },
  {
   "cell_type": "code",
   "execution_count": 15,
   "id": "19e9bcfc-cbfd-499f-8956-e32daff5546c",
   "metadata": {
    "execution": {
     "iopub.execute_input": "2022-04-18T02:53:54.224833Z",
     "iopub.status.busy": "2022-04-18T02:53:54.224833Z",
     "iopub.status.idle": "2022-04-18T02:53:54.232391Z",
     "shell.execute_reply": "2022-04-18T02:53:54.231373Z",
     "shell.execute_reply.started": "2022-04-18T02:53:54.224833Z"
    }
   },
   "outputs": [
    {
     "data": {
      "text/plain": [
       "{'x_1': 2.5723805294763804, 'x_3': 0.1, 'x_2': 1.5723805294763802}"
      ]
     },
     "execution_count": 15,
     "metadata": {},
     "output_type": "execute_result"
    }
   ],
   "source": [
    "outs"
   ]
  },
  {
   "cell_type": "code",
   "execution_count": 55,
   "id": "73816e56-f9e5-42fc-b5f4-bf3fd8bd6546",
   "metadata": {
    "execution": {
     "iopub.execute_input": "2022-04-14T03:29:05.302851Z",
     "iopub.status.busy": "2022-04-14T03:29:05.302851Z",
     "iopub.status.idle": "2022-04-14T03:29:05.316177Z",
     "shell.execute_reply": "2022-04-14T03:29:05.315842Z",
     "shell.execute_reply.started": "2022-04-14T03:29:05.302851Z"
    },
    "tags": []
   },
   "outputs": [
    {
     "data": {
      "text/plain": [
       "{'x_1': 0.42761947052363924, 'x_2': -0.5723805294763608, 'x_3': 0.1}"
      ]
     },
     "execution_count": 55,
     "metadata": {},
     "output_type": "execute_result"
    }
   ],
   "source": [
    "outs"
   ]
  },
  {
   "cell_type": "code",
   "execution_count": 56,
   "id": "e9dc03c7-445f-43fb-bc03-744fa21baa46",
   "metadata": {
    "execution": {
     "iopub.execute_input": "2022-04-14T03:29:08.183540Z",
     "iopub.status.busy": "2022-04-14T03:29:08.182617Z",
     "iopub.status.idle": "2022-04-14T03:29:08.203869Z",
     "shell.execute_reply": "2022-04-14T03:29:08.203298Z",
     "shell.execute_reply.started": "2022-04-14T03:29:08.183540Z"
    },
    "tags": []
   },
   "outputs": [
    {
     "data": {
      "text/plain": [
       "[0.42761947052363913, -0.5723805294763608]"
      ]
     },
     "execution_count": 56,
     "metadata": {},
     "output_type": "execute_result"
    }
   ],
   "source": [
    "[elt.evaldict(outs) for elt in components]"
   ]
  },
  {
   "cell_type": "code",
   "execution_count": 16,
   "id": "91e7c870-682c-4b18-ad32-fe8dc79e1d64",
   "metadata": {
    "execution": {
     "iopub.execute_input": "2022-04-18T02:54:12.674182Z",
     "iopub.status.busy": "2022-04-18T02:54:12.674182Z",
     "iopub.status.idle": "2022-04-18T02:54:12.682622Z",
     "shell.execute_reply": "2022-04-18T02:54:12.681064Z",
     "shell.execute_reply.started": "2022-04-18T02:54:12.674182Z"
    }
   },
   "outputs": [
    {
     "data": {
      "text/plain": [
       "[2.5723805294764217,\n",
       " 1.5723805294763804,\n",
       " 4.1217029789208937e-14,\n",
       " 2.220446049250313e-16]"
      ]
     },
     "execution_count": 16,
     "metadata": {},
     "output_type": "execute_result"
    }
   ],
   "source": [
    "[elt.evaldict(outs) for elt in components]"
   ]
  },
  {
   "cell_type": "markdown",
   "id": "293f5f59-609f-48e4-873c-2f1326769aa5",
   "metadata": {},
   "source": [
    "# Mini-polynomials"
   ]
  },
  {
   "cell_type": "code",
   "execution_count": 3,
   "id": "ab6654e6-0a5d-49f2-bf46-588dcc28e682",
   "metadata": {
    "execution": {
     "iopub.execute_input": "2022-04-18T15:27:22.854850Z",
     "iopub.status.busy": "2022-04-18T15:27:22.854850Z",
     "iopub.status.idle": "2022-04-18T15:27:22.871905Z",
     "shell.execute_reply": "2022-04-18T15:27:22.871823Z",
     "shell.execute_reply.started": "2022-04-18T15:27:22.854850Z"
    },
    "tags": []
   },
   "outputs": [],
   "source": [
    "from polycasebuilder import generate_random_prob, generate_random_polynomials, get_arg_mapping, eqv_to_edges_tree"
   ]
  },
  {
   "cell_type": "code",
   "execution_count": 26,
   "id": "98acce08-7789-46b6-a913-78e3b0b2cb93",
   "metadata": {
    "execution": {
     "iopub.execute_input": "2022-04-18T15:28:05.225830Z",
     "iopub.status.busy": "2022-04-18T15:28:05.225830Z",
     "iopub.status.idle": "2022-04-18T15:28:05.240587Z",
     "shell.execute_reply": "2022-04-18T15:28:05.239872Z",
     "shell.execute_reply.started": "2022-04-18T15:28:05.225830Z"
    },
    "tags": []
   },
   "outputs": [],
   "source": [
    "n_eqs = 4\n",
    "n_vars = 7\n",
    "seed = 40#8 is triang#seed 10 is nice\n",
    "sparsity = 1.1#0.8 1.1 #1.7\n",
    "eqv, varinc, dout = generate_random_prob(n_eqs, n_vars, seed, sparsity)\n",
    "#polynomials, var_mapping, edges, tree, components = generate_random_polynomials(eqv, dout, n_eqs)\n",
    "#symb_mapping = get_arg_mapping(var_mapping, symbol_map=True)"
   ]
  },
  {
   "cell_type": "code",
   "execution_count": 27,
   "id": "a7ccab0f-611a-4bd4-bd1e-db02f3eb930a",
   "metadata": {
    "execution": {
     "iopub.execute_input": "2022-04-18T15:28:05.722334Z",
     "iopub.status.busy": "2022-04-18T15:28:05.722334Z",
     "iopub.status.idle": "2022-04-18T15:28:05.849944Z",
     "shell.execute_reply": "2022-04-18T15:28:05.849406Z",
     "shell.execute_reply.started": "2022-04-18T15:28:05.722334Z"
    },
    "tags": []
   },
   "outputs": [],
   "source": [
    "polynomials, var_mapping, edges, tree, components = generate_random_polynomials(eqv, dout, n_eqs)"
   ]
  },
  {
   "cell_type": "code",
   "execution_count": 28,
   "id": "91d4e77e-721d-4702-9867-893e77d3a548",
   "metadata": {
    "execution": {
     "iopub.execute_input": "2022-04-18T15:28:05.963241Z",
     "iopub.status.busy": "2022-04-18T15:28:05.963241Z",
     "iopub.status.idle": "2022-04-18T15:28:05.975027Z",
     "shell.execute_reply": "2022-04-18T15:28:05.974370Z",
     "shell.execute_reply.started": "2022-04-18T15:28:05.963241Z"
    },
    "tags": []
   },
   "outputs": [],
   "source": [
    "output_set = dout\n",
    "output_set = {key:var-n_eqs for key,var in output_set.items()}\n",
    "edges, tree= eqv_to_edges_tree(eqv, output_set, n_eqs)"
   ]
  },
  {
   "cell_type": "markdown",
   "id": "ecf26f6c-64b1-4747-8431-f1f3255e832b",
   "metadata": {},
   "source": [
    "### Create an executable formulation"
   ]
  },
  {
   "cell_type": "code",
   "execution_count": 29,
   "id": "e2854798-b1ed-4f6d-9cd8-f7b6d624f5e8",
   "metadata": {
    "execution": {
     "iopub.execute_input": "2022-04-18T15:28:06.450422Z",
     "iopub.status.busy": "2022-04-18T15:28:06.449423Z",
     "iopub.status.idle": "2022-04-18T15:28:06.458995Z",
     "shell.execute_reply": "2022-04-18T15:28:06.457432Z",
     "shell.execute_reply.started": "2022-04-18T15:28:06.450422Z"
    },
    "tags": []
   },
   "outputs": [],
   "source": [
    "from operators import sort_scc, reorder_merge_solve"
   ]
  },
  {
   "cell_type": "code",
   "execution_count": 30,
   "id": "4609c260-bcad-470e-a93c-9b5123fc5739",
   "metadata": {
    "execution": {
     "iopub.execute_input": "2022-04-18T15:28:06.680512Z",
     "iopub.status.busy": "2022-04-18T15:28:06.680512Z",
     "iopub.status.idle": "2022-04-18T15:28:06.692920Z",
     "shell.execute_reply": "2022-04-18T15:28:06.692106Z",
     "shell.execute_reply.started": "2022-04-18T15:28:06.680512Z"
    },
    "tags": []
   },
   "outputs": [],
   "source": [
    "G = flat_graph_formulation(*edges)\n",
    "merge_order = sort_scc(G)\n",
    "nedges, ntree = reorder_merge_solve(edges, tree, merge_order, 1, True)"
   ]
  },
  {
   "cell_type": "code",
   "execution_count": 31,
   "id": "3f94b06f-3f42-46f6-8a8f-09e181034248",
   "metadata": {
    "execution": {
     "iopub.execute_input": "2022-04-18T15:28:07.144850Z",
     "iopub.status.busy": "2022-04-18T15:28:07.144451Z",
     "iopub.status.idle": "2022-04-18T15:28:07.159761Z",
     "shell.execute_reply": "2022-04-18T15:28:07.159761Z",
     "shell.execute_reply.started": "2022-04-18T15:28:07.144850Z"
    },
    "tags": []
   },
   "outputs": [
    {
     "data": {
      "text/plain": [
       "({0: (1, 5), 1: (0, 6), 2: (1, 2), 3: (2, 3)},\n",
       " {3: (None,), 1: (None,), 2: (None,), 0: (None,)},\n",
       " {3: (0,), 2: (3,), 0: (6,), 1: (1,)})"
      ]
     },
     "execution_count": 31,
     "metadata": {},
     "output_type": "execute_result"
    }
   ],
   "source": [
    "nedges"
   ]
  },
  {
   "cell_type": "code",
   "execution_count": 32,
   "id": "6ddee14a-3ea3-4ebc-b231-e4d635180439",
   "metadata": {
    "execution": {
     "iopub.execute_input": "2022-04-18T15:28:09.853391Z",
     "iopub.status.busy": "2022-04-18T15:28:09.853391Z",
     "iopub.status.idle": "2022-04-18T15:28:09.872930Z",
     "shell.execute_reply": "2022-04-18T15:28:09.872930Z",
     "shell.execute_reply.started": "2022-04-18T15:28:09.853391Z"
    },
    "tags": []
   },
   "outputs": [
    {
     "data": {
      "text/plain": [
       "(OrderedDict([(3, 2), (2, 2), (0, 2), (1, 2)]),\n",
       " {2: 1},\n",
       " {0: 2, 3: 2, 6: 2, 1: 2})"
      ]
     },
     "execution_count": 32,
     "metadata": {},
     "output_type": "execute_result"
    }
   ],
   "source": [
    "ntree"
   ]
  },
  {
   "cell_type": "code",
   "execution_count": 33,
   "id": "7d094b41-5c91-4b3c-9dec-fb4b815fb59f",
   "metadata": {
    "execution": {
     "iopub.execute_input": "2022-04-18T15:28:10.124898Z",
     "iopub.status.busy": "2022-04-18T15:28:10.124898Z",
     "iopub.status.idle": "2022-04-18T15:28:10.138110Z",
     "shell.execute_reply": "2022-04-18T15:28:10.137972Z",
     "shell.execute_reply.started": "2022-04-18T15:28:10.124898Z"
    },
    "tags": []
   },
   "outputs": [
    {
     "data": {
      "text/plain": [
       "[((6, 5, 1), 0, (None,), '0.6*x_1*x_5*x_6 + 0.4'),\n",
       " ((6, 0, 1), 1, (None,), '-0.3*x_0*x_1 + 0.2*x_6 - 0.6'),\n",
       " ((2, 3, 1), 2, (None,), '-0.5*x_1*x_2*x_3 + 0.9'),\n",
       " ((2, 0, 3), 3, (None,), '-0.8*x_0*x_2*x_3 - 0.1'),\n",
       " ((5, 1), 0, (6,), '-0.666666666666667/(x_1*x_5)'),\n",
       " ((6, 0), 1, (1,), '(0.666666666666667*x_6 - 2.0)/x_0'),\n",
       " ((2, 1), 2, (3,), '1.8/(x_1*x_2)'),\n",
       " ((2, 3), 3, (0,), '-0.125/(x_2*x_3)')]"
      ]
     },
     "execution_count": 33,
     "metadata": {},
     "output_type": "execute_result"
    }
   ],
   "source": [
    "components"
   ]
  },
  {
   "cell_type": "markdown",
   "id": "ac2a98bb-6b6d-4c4c-94b3-86717c3afdb1",
   "metadata": {},
   "source": [
    "### Build workflow"
   ]
  },
  {
   "cell_type": "code",
   "execution_count": 34,
   "id": "19729d29-d660-417f-a1bd-9aa34a3bbf69",
   "metadata": {
    "execution": {
     "iopub.execute_input": "2022-04-18T15:28:11.460893Z",
     "iopub.status.busy": "2022-04-18T15:28:11.460893Z",
     "iopub.status.idle": "2022-04-18T15:28:11.472964Z",
     "shell.execute_reply": "2022-04-18T15:28:11.472393Z",
     "shell.execute_reply.started": "2022-04-18T15:28:11.460893Z"
    },
    "tags": []
   },
   "outputs": [],
   "source": [
    "lookup_f = get_f(components, nedges) #interesting what happens if we put in the wrong edges\n",
    "workflow = generate_workflow(lookup_f, nedges, ntree, {2: {'maxiter':100}})"
   ]
  },
  {
   "cell_type": "code",
   "execution_count": 35,
   "id": "185d8f80-361d-42d1-8078-3c60245b5bfc",
   "metadata": {
    "execution": {
     "iopub.execute_input": "2022-04-18T15:28:12.068297Z",
     "iopub.status.busy": "2022-04-18T15:28:12.067298Z",
     "iopub.status.idle": "2022-04-18T15:28:12.079090Z",
     "shell.execute_reply": "2022-04-18T15:28:12.078441Z",
     "shell.execute_reply.started": "2022-04-18T15:28:12.068297Z"
    },
    "tags": []
   },
   "outputs": [
    {
     "data": {
      "text/plain": [
       "[(SOLVE, None, 's_1', {}),\n",
       " (SOLVE, 's_1', 's_2', {'maxiter': 100}),\n",
       " (IMPL,\n",
       "  's_2',\n",
       "  'res_f3_f2_f0_f1',\n",
       "  [(['x_2', 'x_0', 'x_3'],\n",
       "    ['x_0'],\n",
       "    <bound method Component.evaldict of ((2, 0, 3), 3, (None,), '-0.8*x_0*x_2*x_3 - 0.1')>,\n",
       "    <bound method Component.graddict of ((2, 0, 3), 3, (None,), '-0.8*x_0*x_2*x_3 - 0.1')>,\n",
       "    1.0),\n",
       "   (['x_2', 'x_3', 'x_1'],\n",
       "    ['x_3'],\n",
       "    <bound method Component.evaldict of ((2, 3, 1), 2, (None,), '-0.5*x_1*x_2*x_3 + 0.9')>,\n",
       "    <bound method Component.graddict of ((2, 3, 1), 2, (None,), '-0.5*x_1*x_2*x_3 + 0.9')>,\n",
       "    1.0),\n",
       "   (['x_6', 'x_5', 'x_1'],\n",
       "    ['x_6'],\n",
       "    <bound method Component.evaldict of ((6, 5, 1), 0, (None,), '0.6*x_1*x_5*x_6 + 0.4')>,\n",
       "    <bound method Component.graddict of ((6, 5, 1), 0, (None,), '0.6*x_1*x_5*x_6 + 0.4')>,\n",
       "    1.0),\n",
       "   (['x_6', 'x_0', 'x_1'],\n",
       "    ['x_1'],\n",
       "    <bound method Component.evaldict of ((6, 0, 1), 1, (None,), '-0.3*x_0*x_1 + 0.2*x_6 - 0.6')>,\n",
       "    <bound method Component.graddict of ((6, 0, 1), 1, (None,), '-0.3*x_0*x_1 + 0.2*x_6 - 0.6')>,\n",
       "    1.0)])]"
      ]
     },
     "execution_count": 35,
     "metadata": {},
     "output_type": "execute_result"
    }
   ],
   "source": [
    "workflow"
   ]
  },
  {
   "cell_type": "code",
   "execution_count": 36,
   "id": "445d1460-32e7-4b93-8fce-feece6d7e6ac",
   "metadata": {
    "execution": {
     "iopub.execute_input": "2022-04-18T15:28:12.582456Z",
     "iopub.status.busy": "2022-04-18T15:28:12.582456Z",
     "iopub.status.idle": "2022-04-18T15:28:12.595611Z",
     "shell.execute_reply": "2022-04-18T15:28:12.595611Z",
     "shell.execute_reply.started": "2022-04-18T15:28:12.582456Z"
    },
    "tags": []
   },
   "outputs": [],
   "source": [
    "prob, mdao_in, groups = build_archi(nedges, ntree, workflow)"
   ]
  },
  {
   "cell_type": "code",
   "execution_count": 37,
   "id": "958f05df-6181-4702-ba54-11eae6a184b5",
   "metadata": {
    "execution": {
     "iopub.execute_input": "2022-04-18T15:28:13.308624Z",
     "iopub.status.busy": "2022-04-18T15:28:13.308624Z",
     "iopub.status.idle": "2022-04-18T15:28:13.316785Z",
     "shell.execute_reply": "2022-04-18T15:28:13.316618Z",
     "shell.execute_reply.started": "2022-04-18T15:28:13.308624Z"
    },
    "tags": []
   },
   "outputs": [
    {
     "data": {
      "text/plain": [
       "{'x_2', 'x_5'}"
      ]
     },
     "execution_count": 37,
     "metadata": {},
     "output_type": "execute_result"
    }
   ],
   "source": [
    "mdao_in"
   ]
  },
  {
   "cell_type": "code",
   "execution_count": 38,
   "id": "c6a122a3-b509-4700-ab8b-7819e0e3046c",
   "metadata": {
    "execution": {
     "iopub.execute_input": "2022-04-18T15:28:13.493426Z",
     "iopub.status.busy": "2022-04-18T15:28:13.493426Z",
     "iopub.status.idle": "2022-04-18T15:28:13.504069Z",
     "shell.execute_reply": "2022-04-18T15:28:13.503452Z",
     "shell.execute_reply.started": "2022-04-18T15:28:13.493426Z"
    },
    "tags": []
   },
   "outputs": [],
   "source": [
    "prob.set_val('x_1',0.1)"
   ]
  },
  {
   "cell_type": "code",
   "execution_count": 39,
   "id": "f6ad7165-ab1b-463f-852b-b6c620d50c55",
   "metadata": {
    "execution": {
     "iopub.execute_input": "2022-04-18T15:28:14.018666Z",
     "iopub.status.busy": "2022-04-18T15:28:14.017667Z",
     "iopub.status.idle": "2022-04-18T15:28:14.067068Z",
     "shell.execute_reply": "2022-04-18T15:28:14.066942Z",
     "shell.execute_reply.started": "2022-04-18T15:28:14.018666Z"
    },
    "tags": []
   },
   "outputs": [
    {
     "name": "stdout",
     "output_type": "stream",
     "text": [
      "\n",
      "===\n",
      "s_1\n",
      "===\n",
      "+  \n",
      "+  =======\n",
      "+  s_1.s_2\n",
      "+  =======\n",
      "+  NL: Newton Converged in 15 iterations\n",
      "NL: Newton Converged in 0 iterations\n"
     ]
    }
   ],
   "source": [
    "prob.run_model()"
   ]
  },
  {
   "cell_type": "markdown",
   "id": "8938811d-1490-4f2c-8520-dbaa2ea6e427",
   "metadata": {},
   "source": [
    "# Check results"
   ]
  },
  {
   "cell_type": "code",
   "execution_count": 40,
   "id": "0456afe1-e604-407e-a778-db37daa016b8",
   "metadata": {
    "execution": {
     "iopub.execute_input": "2022-04-18T15:28:32.616323Z",
     "iopub.status.busy": "2022-04-18T15:28:32.616323Z",
     "iopub.status.idle": "2022-04-18T15:28:32.626758Z",
     "shell.execute_reply": "2022-04-18T15:28:32.626307Z",
     "shell.execute_reply.started": "2022-04-18T15:28:32.616323Z"
    },
    "tags": []
   },
   "outputs": [],
   "source": [
    "from graphutils import all_variables,edges_to_Ein_Eout"
   ]
  },
  {
   "cell_type": "code",
   "execution_count": 41,
   "id": "309931ef-0715-4442-9d70-1bc0d4019f85",
   "metadata": {
    "execution": {
     "iopub.execute_input": "2022-04-18T15:28:33.346811Z",
     "iopub.status.busy": "2022-04-18T15:28:33.346811Z",
     "iopub.status.idle": "2022-04-18T15:28:33.362852Z",
     "shell.execute_reply": "2022-04-18T15:28:33.362694Z",
     "shell.execute_reply.started": "2022-04-18T15:28:33.346811Z"
    },
    "tags": []
   },
   "outputs": [],
   "source": [
    "outs = extractvals(prob, {Node('x_{}'.format(elt),VAR) for elt in all_variables(*edges_to_Ein_Eout(edges))})"
   ]
  },
  {
   "cell_type": "code",
   "execution_count": 42,
   "id": "387c5c79-3665-4a6e-ad82-9eebf898014b",
   "metadata": {
    "execution": {
     "iopub.execute_input": "2022-04-18T15:28:34.034597Z",
     "iopub.status.busy": "2022-04-18T15:28:34.033601Z",
     "iopub.status.idle": "2022-04-18T15:28:34.051521Z",
     "shell.execute_reply": "2022-04-18T15:28:34.051251Z",
     "shell.execute_reply.started": "2022-04-18T15:28:34.034597Z"
    },
    "tags": []
   },
   "outputs": [
    {
     "data": {
      "text/plain": [
       "{'x_6': 0.6295297437474326,\n",
       " 'x_0': 0.33127630966502636,\n",
       " 'x_5': 0.22199317108973948,\n",
       " 'x_1': -4.770378859157984,\n",
       " 'x_2': 0.8707323061773764,\n",
       " 'x_3': -0.4333461827699808}"
      ]
     },
     "execution_count": 42,
     "metadata": {},
     "output_type": "execute_result"
    }
   ],
   "source": [
    "outs"
   ]
  },
  {
   "cell_type": "code",
   "execution_count": 35,
   "id": "ac9df31e-ee0a-4dbc-96ab-b431fc18b412",
   "metadata": {
    "execution": {
     "iopub.execute_input": "2022-04-18T15:00:32.995696Z",
     "iopub.status.busy": "2022-04-18T15:00:32.994702Z",
     "iopub.status.idle": "2022-04-18T15:00:33.018589Z",
     "shell.execute_reply": "2022-04-18T15:00:33.018037Z",
     "shell.execute_reply.started": "2022-04-18T15:00:32.994702Z"
    }
   },
   "outputs": [
    {
     "data": {
      "text/plain": [
       "[((2, 3, 4, 1), 0, (None,), '0.6*x_1*x_3 + 0.4*x_2*x_4 - 0.2'),\n",
       " ((2, 3), 1, (None,), '0.2*x_2*x_3 - 0.6'),\n",
       " ((0,), 2, (None,), '0.3*x_0 + 0.9'),\n",
       " ((2, 3, 1), 0, (4,), '(-1.5*x_1*x_3 + 0.5)/x_2'),\n",
       " ((2,), 1, (3,), '3.0/x_2'),\n",
       " ((), 2, (0,), '-3.00000000000000')]"
      ]
     },
     "execution_count": 35,
     "metadata": {},
     "output_type": "execute_result"
    }
   ],
   "source": [
    "components"
   ]
  },
  {
   "cell_type": "code",
   "execution_count": 43,
   "id": "0f74adfa-30fc-41b9-b2bf-23aca92e06a3",
   "metadata": {
    "execution": {
     "iopub.execute_input": "2022-04-18T15:28:43.911269Z",
     "iopub.status.busy": "2022-04-18T15:28:43.911269Z",
     "iopub.status.idle": "2022-04-18T15:28:43.919806Z",
     "shell.execute_reply": "2022-04-18T15:28:43.918908Z",
     "shell.execute_reply.started": "2022-04-18T15:28:43.911269Z"
    },
    "tags": []
   },
   "outputs": [
    {
     "data": {
      "text/plain": [
       "[9.00612917575927e-13,\n",
       " -7.388534228880417e-13,\n",
       " 2.0303758674344863e-12,\n",
       " 1.6005252678752413e-13,\n",
       " [0.6295297437488503],\n",
       " [-4.770378859165418],\n",
       " [-0.43334618277095843],\n",
       " [0.33127630966449617]]"
      ]
     },
     "execution_count": 43,
     "metadata": {},
     "output_type": "execute_result"
    }
   ],
   "source": [
    "[elt.evaldict(outs) for elt in components]"
   ]
  },
  {
   "cell_type": "code",
   "execution_count": null,
   "id": "ada82d04-1504-45d3-8711-c53e38f6e8cc",
   "metadata": {},
   "outputs": [],
   "source": []
  }
 ],
 "metadata": {
  "kernelspec": {
   "display_name": "Python [conda env:mdo]",
   "language": "python",
   "name": "conda-env-mdo-py"
  },
  "language_info": {
   "codemirror_mode": {
    "name": "ipython",
    "version": 3
   },
   "file_extension": ".py",
   "mimetype": "text/x-python",
   "name": "python",
   "nbconvert_exporter": "python",
   "pygments_lexer": "ipython3",
   "version": "3.9.7"
  }
 },
 "nbformat": 4,
 "nbformat_minor": 5
}
