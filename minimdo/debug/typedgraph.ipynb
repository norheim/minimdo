{
 "cells": [
  {
   "cell_type": "code",
   "execution_count": 1,
   "id": "43435e37-8ee0-4506-b905-3c6c033c4b80",
   "metadata": {
    "execution": {
     "iopub.execute_input": "2022-03-17T01:54:24.629973Z",
     "iopub.status.busy": "2022-03-17T01:54:24.629973Z",
     "iopub.status.idle": "2022-03-17T01:54:26.226228Z",
     "shell.execute_reply": "2022-03-17T01:54:26.226228Z",
     "shell.execute_reply.started": "2022-03-17T01:54:24.629973Z"
    },
    "tags": []
   },
   "outputs": [],
   "source": [
    "from new_examples.testgraph import Ein, Eout, Rin\n",
    "from graph.graphutils import draw_graph_graphical_props, flat_graph_formulation, sources"
   ]
  },
  {
   "cell_type": "markdown",
   "id": "53e00095-1eeb-46ad-b846-4a85b088a213",
   "metadata": {},
   "source": [
    "# Typed Graph (Flat Formulation graph)"
   ]
  },
  {
   "cell_type": "markdown",
   "id": "91c34653-723e-4927-9f71-f9dbdd2f3758",
   "metadata": {},
   "source": [
    "This is a graph where each node is assigned the type of variable, component or solver"
   ]
  },
  {
   "cell_type": "code",
   "execution_count": 2,
   "id": "41f74d36-3346-4d03-852c-7937a25759ab",
   "metadata": {
    "execution": {
     "iopub.execute_input": "2022-03-17T01:54:26.228115Z",
     "iopub.status.busy": "2022-03-17T01:54:26.228115Z",
     "iopub.status.idle": "2022-03-17T01:54:26.817758Z",
     "shell.execute_reply": "2022-03-17T01:54:26.817671Z",
     "shell.execute_reply.started": "2022-03-17T01:54:26.228115Z"
    },
    "tags": []
   },
   "outputs": [
    {
     "data": {
      "image/png": "[encoded data removed]",
      "text/plain": [
       "<Figure size 792x288 with 1 Axes>"
      ]
     },
     "metadata": {},
     "output_type": "display_data"
    }
   ],
   "source": [
    "G = flat_graph_formulation(Ein, Eout, Rin)\n",
    "draw_graph_graphical_props(G, prog='sfdp', figsize=(11,4))"
   ]
  },
  {
   "cell_type": "markdown",
   "id": "833e801a-8ace-4418-8989-7b0336244b8f",
   "metadata": {},
   "source": [
    "# From random example"
   ]
  },
  {
   "cell_type": "code",
   "execution_count": 4,
   "id": "32f1f439-4d69-4226-a8a9-2b35ccf6461e",
   "metadata": {
    "execution": {
     "iopub.execute_input": "2022-03-17T01:54:26.818819Z",
     "iopub.status.busy": "2022-03-17T01:54:26.818819Z",
     "iopub.status.idle": "2022-03-17T01:54:26.833312Z",
     "shell.execute_reply": "2022-03-17T01:54:26.833041Z",
     "shell.execute_reply.started": "2022-03-17T01:54:26.818819Z"
    },
    "tags": []
   },
   "outputs": [],
   "source": [
    "from testproblems import generate_random_prob\n",
    "from collections import OrderedDict\n",
    "from operators import sort_scc, reorder_merge_solve\n",
    "from nestedgraph import build_typedgraph\n",
    "from workflow import generate_workflow\n",
    "from graphutils import merge_edges"
   ]
  },
  {
   "cell_type": "code",
   "execution_count": 80,
   "id": "62a6399e-1724-41b8-b417-6060ac22fb48",
   "metadata": {
    "execution": {
     "iopub.execute_input": "2022-03-17T13:23:12.587275Z",
     "iopub.status.busy": "2022-03-17T13:23:12.587275Z",
     "iopub.status.idle": "2022-03-17T13:23:12.604648Z",
     "shell.execute_reply": "2022-03-17T13:23:12.603743Z",
     "shell.execute_reply.started": "2022-03-17T13:23:12.587275Z"
    },
    "tags": []
   },
   "outputs": [],
   "source": [
    "n_eqs = 7\n",
    "n_vars = 10\n",
    "seed = 42#8 is triang#seed 10 is nice\n",
    "sparsity = .8#1.1 #1.7\n",
    "eqv, varinc, dout = generate_random_prob(n_eqs, n_vars, seed, sparsity)\n",
    "Ein = {key: tuple(vr-n_eqs for vr in var if vr !=dout[key]) for key,var in eqv.items()}\n",
    "Eout = {key: (var-n_eqs,) for key,var in dout.items()}\n",
    "Rin = dict()\n",
    "Ftree=OrderedDict((idx,1) for idx in range(n_eqs))\n",
    "Stree=dict()\n",
    "Vtree=dict()\n",
    "edges = Ein, Eout, Rin\n",
    "tree = Ftree, Stree, Vtree"
   ]
  },
  {
   "cell_type": "code",
   "execution_count": 132,
   "id": "5750ad25-8296-4698-b72c-47dc413f720a",
   "metadata": {
    "execution": {
     "iopub.execute_input": "2022-03-17T13:43:51.494839Z",
     "iopub.status.busy": "2022-03-17T13:43:51.494839Z",
     "iopub.status.idle": "2022-03-17T13:43:51.502631Z",
     "shell.execute_reply": "2022-03-17T13:43:51.502631Z",
     "shell.execute_reply.started": "2022-03-17T13:43:51.494839Z"
    }
   },
   "outputs": [],
   "source": [
    "all_vars = all_variables(Ein,Eout)"
   ]
  },
  {
   "cell_type": "code",
   "execution_count": 81,
   "id": "f47b254f-5b6c-47e5-a6f2-067e5b50cdd9",
   "metadata": {
    "execution": {
     "iopub.execute_input": "2022-03-17T13:23:12.974595Z",
     "iopub.status.busy": "2022-03-17T13:23:12.974595Z",
     "iopub.status.idle": "2022-03-17T13:23:12.993689Z",
     "shell.execute_reply": "2022-03-17T13:23:12.993181Z",
     "shell.execute_reply.started": "2022-03-17T13:23:12.974595Z"
    },
    "tags": []
   },
   "outputs": [],
   "source": [
    "G = flat_graph_formulation(*edges)\n",
    "merge_order = sort_scc(G)"
   ]
  },
  {
   "cell_type": "code",
   "execution_count": 82,
   "id": "5fcce8a0-b90d-4dbc-a12c-ff2a7e839a40",
   "metadata": {
    "execution": {
     "iopub.execute_input": "2022-03-17T13:23:13.372177Z",
     "iopub.status.busy": "2022-03-17T13:23:13.372177Z",
     "iopub.status.idle": "2022-03-17T13:23:13.384796Z",
     "shell.execute_reply": "2022-03-17T13:23:13.384526Z",
     "shell.execute_reply.started": "2022-03-17T13:23:13.372177Z"
    },
    "tags": []
   },
   "outputs": [
    {
     "data": {
      "text/plain": [
       "[{f_1}, {f_2}, {f_5}, {f_0, f_3, f_4, f_6}]"
      ]
     },
     "execution_count": 82,
     "metadata": {},
     "output_type": "execute_result"
    }
   ],
   "source": [
    "merge_order"
   ]
  },
  {
   "cell_type": "code",
   "execution_count": 83,
   "id": "b80a6b1f-7884-42c6-aedf-e0e43bef1216",
   "metadata": {
    "execution": {
     "iopub.execute_input": "2022-03-17T13:23:13.846959Z",
     "iopub.status.busy": "2022-03-17T13:23:13.846959Z",
     "iopub.status.idle": "2022-03-17T13:23:13.863625Z",
     "shell.execute_reply": "2022-03-17T13:23:13.863625Z",
     "shell.execute_reply.started": "2022-03-17T13:23:13.846959Z"
    },
    "tags": []
   },
   "outputs": [],
   "source": [
    "nedges, ntree = reorder_merge_solve(edges, tree, merge_order, 1, True)"
   ]
  },
  {
   "cell_type": "code",
   "execution_count": 84,
   "id": "53367647-bb38-4abb-af4f-b0c2e488b9cb",
   "metadata": {
    "execution": {
     "iopub.execute_input": "2022-03-17T13:23:14.309760Z",
     "iopub.status.busy": "2022-03-17T13:23:14.308774Z",
     "iopub.status.idle": "2022-03-17T13:23:14.314302Z",
     "shell.execute_reply": "2022-03-17T13:23:14.313641Z",
     "shell.execute_reply.started": "2022-03-17T13:23:14.309760Z"
    },
    "tags": []
   },
   "outputs": [
    {
     "data": {
      "text/plain": [
       "(OrderedDict([(1, 1), (2, 1), (5, 1), (4, 2), (0, 2), (6, 2), (3, 2)]),\n",
       " {2: 1},\n",
       " {4: 2, 3: 2, 0: 2, 5: 2})"
      ]
     },
     "execution_count": 84,
     "metadata": {},
     "output_type": "execute_result"
    }
   ],
   "source": [
    "ntree"
   ]
  },
  {
   "cell_type": "code",
   "execution_count": 85,
   "id": "69161899-47ad-48c0-91e3-8e3f9a166798",
   "metadata": {
    "execution": {
     "iopub.execute_input": "2022-03-17T13:23:14.826172Z",
     "iopub.status.busy": "2022-03-17T13:23:14.826172Z",
     "iopub.status.idle": "2022-03-17T13:23:15.538993Z",
     "shell.execute_reply": "2022-03-17T13:23:15.538139Z",
     "shell.execute_reply.started": "2022-03-17T13:23:14.826172Z"
    },
    "tags": []
   },
   "outputs": [
    {
     "data": {
      "image/png": "[encoded data removed]",
      "text/plain": [
       "<Figure size 288x288 with 1 Axes>"
      ]
     },
     "metadata": {},
     "output_type": "display_data"
    },
    {
     "data": {
      "image/png": "[encoded data removed]",
      "text/plain": [
       "<Figure size 288x288 with 1 Axes>"
      ]
     },
     "metadata": {},
     "output_type": "display_data"
    }
   ],
   "source": [
    "graphs = build_typedgraph(nedges, ntree)\n",
    "for key,graph in graphs.items():\n",
    "    draw_graph_graphical_props(graph, {}, prog='circo', figsize=(4,4))"
   ]
  },
  {
   "cell_type": "markdown",
   "id": "e5e5e41f-16c9-456d-89ee-adf233e379c0",
   "metadata": {},
   "source": [
    "## Workflow resolve"
   ]
  },
  {
   "cell_type": "code",
   "execution_count": 86,
   "id": "ee0f9f3d-0c5d-4ff8-b8d7-b0107779b03d",
   "metadata": {
    "execution": {
     "iopub.execute_input": "2022-03-17T13:23:16.593732Z",
     "iopub.status.busy": "2022-03-17T13:23:16.593732Z",
     "iopub.status.idle": "2022-03-17T13:23:16.598347Z",
     "shell.execute_reply": "2022-03-17T13:23:16.597735Z",
     "shell.execute_reply.started": "2022-03-17T13:23:16.593732Z"
    },
    "tags": []
   },
   "outputs": [],
   "source": [
    "# Interface:\n",
    "# addsolver(mdao, parent, solver_name) # adds a group and attaches a solver to it\n",
    "# addimpcomp(mdao, parent, component_name, [(input_names, output_name, fx, gradfx, guess_vars)]) # adds an implicit solver for residuals\n",
    "# addexpcomp(mdao, parent, component_name, (input_names, output_name, fx, gradfx)) # adds an explicit solver"
   ]
  },
  {
   "cell_type": "code",
   "execution_count": 131,
   "id": "f6267b78-e54b-4eeb-abdb-66bcae78fe25",
   "metadata": {
    "execution": {
     "iopub.execute_input": "2022-03-17T13:42:26.529872Z",
     "iopub.status.busy": "2022-03-17T13:42:26.529872Z",
     "iopub.status.idle": "2022-03-17T13:42:26.537529Z",
     "shell.execute_reply": "2022-03-17T13:42:26.537022Z",
     "shell.execute_reply.started": "2022-03-17T13:42:26.529872Z"
    },
    "tags": []
   },
   "outputs": [],
   "source": [
    "from graphutils import all_components, end_components, Node, COMP, SOLVER, VAR, solver_children, make_nodetype, all_variables\n",
    "from workflow import path\n",
    "from enum import Enum\n",
    "from utils import normalize_name\n",
    "from collections import namedtuple"
   ]
  },
  {
   "cell_type": "code",
   "execution_count": 88,
   "id": "cdf7a82b-cd89-4b8e-bb3c-bad3fdfce080",
   "metadata": {
    "execution": {
     "iopub.execute_input": "2022-03-17T13:23:23.389395Z",
     "iopub.status.busy": "2022-03-17T13:23:23.389395Z",
     "iopub.status.idle": "2022-03-17T13:23:23.404575Z",
     "shell.execute_reply": "2022-03-17T13:23:23.403982Z",
     "shell.execute_reply.started": "2022-03-17T13:23:23.389395Z"
    },
    "tags": []
   },
   "outputs": [],
   "source": [
    "ExecutionTypes = Enum('ExecutionTypes', 'EXPL IMPL EQCST SOLVE OPT')\n",
    "ExecutionTypes.__repr__ = lambda x: x.name\n",
    "EXPL, IMPL, EQCST, SOLVE, OPT = ExecutionTypes.EXPL,ExecutionTypes.IMPL,ExecutionTypes.EQCST,ExecutionTypes.SOLVE,ExecutionTypes.OPT"
   ]
  },
  {
   "cell_type": "code",
   "execution_count": 89,
   "id": "dd7ec3ab-cd85-4413-ae8a-6c05d77b3c6e",
   "metadata": {
    "execution": {
     "iopub.execute_input": "2022-03-17T13:23:23.815931Z",
     "iopub.status.busy": "2022-03-17T13:23:23.815931Z",
     "iopub.status.idle": "2022-03-17T13:23:23.824684Z",
     "shell.execute_reply": "2022-03-17T13:23:23.824684Z",
     "shell.execute_reply.started": "2022-03-17T13:23:23.815931Z"
    },
    "tags": []
   },
   "outputs": [],
   "source": [
    "Component = namedtuple('COMPONENT', ['inputs', 'component', 'outputs', 'function']) "
   ]
  },
  {
   "cell_type": "code",
   "execution_count": 90,
   "id": "77ddb209-e1b3-4f52-bfdc-494adb51cd2d",
   "metadata": {
    "execution": {
     "iopub.execute_input": "2022-03-17T13:23:24.279336Z",
     "iopub.status.busy": "2022-03-17T13:23:24.279336Z",
     "iopub.status.idle": "2022-03-17T13:23:24.291794Z",
     "shell.execute_reply": "2022-03-17T13:23:24.291794Z",
     "shell.execute_reply.started": "2022-03-17T13:23:24.279336Z"
    },
    "tags": []
   },
   "outputs": [
    {
     "data": {
      "text/plain": [
       "{0: (11, 12, 14, 16, 10),\n",
       " 1: (13, 16),\n",
       " 2: (9, 15),\n",
       " 3: (10, 11, 14, 15, 12),\n",
       " 4: (7, 11, 12, 14),\n",
       " 5: (9, 13, 15, 14),\n",
       " 6: (10, 7)}"
      ]
     },
     "execution_count": 90,
     "metadata": {},
     "output_type": "execute_result"
    }
   ],
   "source": [
    "eqv"
   ]
  },
  {
   "cell_type": "code",
   "execution_count": 91,
   "id": "1a7024d6-b6e8-4ce3-b2f0-87176f1cf901",
   "metadata": {
    "execution": {
     "iopub.execute_input": "2022-03-17T13:23:26.147887Z",
     "iopub.status.busy": "2022-03-17T13:23:26.146835Z",
     "iopub.status.idle": "2022-03-17T13:23:26.162686Z",
     "shell.execute_reply": "2022-03-17T13:23:26.162489Z",
     "shell.execute_reply.started": "2022-03-17T13:23:26.147887Z"
    },
    "tags": []
   },
   "outputs": [],
   "source": [
    "from randompoly import random_bijective_polynomial\n",
    "from compute import Var, reassigneq\n",
    "import numpy as np\n",
    "import sympy as sp\n",
    "from execution import Component"
   ]
  },
  {
   "cell_type": "code",
   "execution_count": 137,
   "id": "d57d291c-3cf1-4c1c-9b30-cf281700da44",
   "metadata": {
    "execution": {
     "iopub.execute_input": "2022-03-17T13:45:03.858662Z",
     "iopub.status.busy": "2022-03-17T13:45:03.858662Z",
     "iopub.status.idle": "2022-03-17T13:45:03.870781Z",
     "shell.execute_reply": "2022-03-17T13:45:03.870781Z",
     "shell.execute_reply.started": "2022-03-17T13:45:03.858662Z"
    },
    "tags": []
   },
   "outputs": [],
   "source": [
    "varsympy = {idx: Var(str(Node(idx,VAR)), varid=idx) for idx in all_vars}"
   ]
  },
  {
   "cell_type": "code",
   "execution_count": 93,
   "id": "fc2e8599-9913-4ff0-8603-fa8309bc67fc",
   "metadata": {
    "execution": {
     "iopub.execute_input": "2022-03-17T13:23:27.288734Z",
     "iopub.status.busy": "2022-03-17T13:23:27.288019Z",
     "iopub.status.idle": "2022-03-17T13:23:27.307276Z",
     "shell.execute_reply": "2022-03-17T13:23:27.306776Z",
     "shell.execute_reply.started": "2022-03-17T13:23:27.288734Z"
    },
    "tags": []
   },
   "outputs": [],
   "source": [
    "rng = np.random.default_rng(12345)\n",
    "polynomials = {idx: random_bijective_polynomial(rng, (varsympy[elt-n_eqs] for elt in vrs)) for idx,vrs in eqv.items()}"
   ]
  },
  {
   "cell_type": "code",
   "execution_count": 94,
   "id": "88107c27-8d33-4d6c-87e7-6378edb03b36",
   "metadata": {
    "execution": {
     "iopub.execute_input": "2022-03-17T13:23:27.829390Z",
     "iopub.status.busy": "2022-03-17T13:23:27.828713Z",
     "iopub.status.idle": "2022-03-17T13:23:27.849131Z",
     "shell.execute_reply": "2022-03-17T13:23:27.848510Z",
     "shell.execute_reply.started": "2022-03-17T13:23:27.829390Z"
    },
    "tags": []
   },
   "outputs": [
    {
     "data": {
      "text/plain": [
       "{0: -0.3*x_3*x_4*x_9 + 0.2*x_5*x_7 - 0.6,\n",
       " 1: 0.3*x_6*x_9 + 0.9,\n",
       " 2: 0.9*x_2*x_8 + 0.3,\n",
       " 3: 0.8*x_3*x_7 + 0.5*x_4 - 0.3*x_5*x_8 - 0.6,\n",
       " 4: -0.1*x_0*x_7 - 0.3*x_4*x_5 - 0.5,\n",
       " 5: -0.7*x_2*x_8 - 0.8*x_6*x_7 + 0.2,\n",
       " 6: 0.2*x_0*x_3 + 0.9}"
      ]
     },
     "execution_count": 94,
     "metadata": {},
     "output_type": "execute_result"
    }
   ],
   "source": [
    "polynomials"
   ]
  },
  {
   "cell_type": "code",
   "execution_count": 133,
   "id": "0b813815-30b5-4955-9843-c30e5bf98b87",
   "metadata": {
    "execution": {
     "iopub.execute_input": "2022-03-17T13:44:19.896159Z",
     "iopub.status.busy": "2022-03-17T13:44:19.896159Z",
     "iopub.status.idle": "2022-03-17T13:44:19.901271Z",
     "shell.execute_reply": "2022-03-17T13:44:19.901178Z",
     "shell.execute_reply.started": "2022-03-17T13:44:19.896159Z"
    },
    "tags": []
   },
   "outputs": [],
   "source": [
    "arg_mapping = {idx:str(Node(idx,VAR)) for idx in all_vars}"
   ]
  },
  {
   "cell_type": "code",
   "execution_count": 96,
   "id": "b21b8110-15b5-46df-98b1-da4c5b578422",
   "metadata": {
    "execution": {
     "iopub.execute_input": "2022-03-17T13:23:30.883004Z",
     "iopub.status.busy": "2022-03-17T13:23:30.882006Z",
     "iopub.status.idle": "2022-03-17T13:23:30.910467Z",
     "shell.execute_reply": "2022-03-17T13:23:30.910467Z",
     "shell.execute_reply.started": "2022-03-17T13:23:30.883004Z"
    },
    "tags": []
   },
   "outputs": [],
   "source": [
    "fcomps = [Component.fromsympy(function, component=component, arg_mapping=arg_mapping) for component,function in polynomials.items()]"
   ]
  },
  {
   "cell_type": "code",
   "execution_count": 97,
   "id": "58e40a2d-9748-43fc-931d-bea4aa735586",
   "metadata": {
    "execution": {
     "iopub.execute_input": "2022-03-17T13:23:31.564736Z",
     "iopub.status.busy": "2022-03-17T13:23:31.564736Z",
     "iopub.status.idle": "2022-03-17T13:23:31.860145Z",
     "shell.execute_reply": "2022-03-17T13:23:31.859669Z",
     "shell.execute_reply.started": "2022-03-17T13:23:31.564736Z"
    },
    "tags": []
   },
   "outputs": [],
   "source": [
    "for idx, eq in polynomials.items():\n",
    "    left = dout[idx]-n_eqs\n",
    "    leftvar = varsympy[left]\n",
    "    function = sp.simplify(reassigneq(None, eq, leftvar))\n",
    "    new_comp = Component.fromsympy(function, leftvar, component=idx, arg_mapping=arg_mapping)\n",
    "    fcomps.append(new_comp)"
   ]
  },
  {
   "cell_type": "code",
   "execution_count": 98,
   "id": "e5ce39b6-23c5-474d-ab42-6d4987d25609",
   "metadata": {
    "execution": {
     "iopub.execute_input": "2022-03-17T13:23:32.529736Z",
     "iopub.status.busy": "2022-03-17T13:23:32.529736Z",
     "iopub.status.idle": "2022-03-17T13:23:32.546104Z",
     "shell.execute_reply": "2022-03-17T13:23:32.546017Z",
     "shell.execute_reply.started": "2022-03-17T13:23:32.529736Z"
    },
    "tags": []
   },
   "outputs": [
    {
     "data": {
      "text/plain": [
       "[((5, 3, 7, 9, 4), 0, (None,), '-0.3*x_3*x_4*x_9 + 0.2*x_5*x_7 - 0.6'),\n",
       " ((9, 6), 1, (None,), '0.3*x_6*x_9 + 0.9'),\n",
       " ((8, 2), 2, (None,), '0.9*x_2*x_8 + 0.3'),\n",
       " ((5, 8, 3, 7, 4), 3, (None,), '0.8*x_3*x_7 + 0.5*x_4 - 0.3*x_5*x_8 - 0.6'),\n",
       " ((0, 5, 7, 4), 4, (None,), '-0.1*x_0*x_7 - 0.3*x_4*x_5 - 0.5'),\n",
       " ((8, 7, 6, 2), 5, (None,), '-0.7*x_2*x_8 - 0.8*x_6*x_7 + 0.2'),\n",
       " ((0, 3), 6, (None,), '0.2*x_0*x_3 + 0.9'),\n",
       " ((5, 7, 9, 4), 0, (3,), '(0.666666666666667*x_5*x_7 - 2.0)/(x_4*x_9)'),\n",
       " ((6,), 1, (9,), '-3.0/x_6'),\n",
       " ((2,), 2, (8,), '-0.333333333333333/x_2'),\n",
       " ((3, 7, 8, 4), 3, (5,), '(2.66666666666667*x_3*x_7 + 1.66666666666667*x_4 - 2.0)/x_8'),\n",
       " ((0, 5, 7), 4, (4,), '-(0.333333333333333*x_0*x_7 + 1.66666666666667)/x_5'),\n",
       " ((6, 8, 2), 5, (7,), '(-0.875*x_2*x_8 + 0.25)/x_6'),\n",
       " ((3,), 6, (0,), '-4.5/x_3')]"
      ]
     },
     "execution_count": 98,
     "metadata": {},
     "output_type": "execute_result"
    }
   ],
   "source": [
    "fcomps"
   ]
  },
  {
   "cell_type": "code",
   "execution_count": 99,
   "id": "38421b66-5f78-42fc-bffa-f44883db965e",
   "metadata": {
    "execution": {
     "iopub.execute_input": "2022-03-17T13:23:42.790263Z",
     "iopub.status.busy": "2022-03-17T13:23:42.789264Z",
     "iopub.status.idle": "2022-03-17T13:23:42.795454Z",
     "shell.execute_reply": "2022-03-17T13:23:42.795454Z",
     "shell.execute_reply.started": "2022-03-17T13:23:42.790263Z"
    },
    "tags": []
   },
   "outputs": [],
   "source": [
    "# f = {\n",
    "#     ((1,2,3,4,5),0,(None,),'eq0'),\n",
    "#     ((0,1,3,4,5),3,(None,),'eq3'),\n",
    "#     ((1,5,),1,(6,),'eq1'),\n",
    "#     ((4,5,7),2,(0,),'eq2')\n",
    "# }\n",
    "# f = {Component(*comp) for comp in f}"
   ]
  },
  {
   "cell_type": "code",
   "execution_count": 101,
   "id": "fb4e0a2d-b356-4528-897c-55357088ff73",
   "metadata": {
    "execution": {
     "iopub.execute_input": "2022-03-17T13:23:44.964480Z",
     "iopub.status.busy": "2022-03-17T13:23:44.963484Z",
     "iopub.status.idle": "2022-03-17T13:23:44.976289Z",
     "shell.execute_reply": "2022-03-17T13:23:44.976044Z",
     "shell.execute_reply.started": "2022-03-17T13:23:44.964480Z"
    },
    "tags": []
   },
   "outputs": [],
   "source": [
    "Fend = end_components(nedges[1])\n",
    "nFtree, nStree, nVtree = ntree\n",
    "nEin, nEout, nRin = nedges\n",
    "nEin = merge_edges(nEin, nRin)"
   ]
  },
  {
   "cell_type": "code",
   "execution_count": 100,
   "id": "b575b59d-2473-498b-a788-24a1c6b8712f",
   "metadata": {
    "execution": {
     "iopub.execute_input": "2022-03-17T13:23:43.163643Z",
     "iopub.status.busy": "2022-03-17T13:23:43.162646Z",
     "iopub.status.idle": "2022-03-17T13:23:43.168795Z",
     "shell.execute_reply": "2022-03-17T13:23:43.168647Z",
     "shell.execute_reply.started": "2022-03-17T13:23:43.163643Z"
    },
    "tags": []
   },
   "outputs": [],
   "source": [
    "def get_f(f, edges):\n",
    "    f_lookup = {(frozenset(elt.inputs),elt.component,frozenset(elt.outputs)): elt for elt in f}\n",
    "    Ein = merge_edges(edges[0], edges[2])\n",
    "    Eout = edges[1]\n",
    "    def lookup(comp):\n",
    "        key = (frozenset(Ein[comp]),comp,frozenset(Eout[comp]))\n",
    "        return f_lookup[key] \n",
    "    return lookup"
   ]
  },
  {
   "cell_type": "code",
   "execution_count": 107,
   "id": "b5e9f070-f91e-41f5-b898-6dd52e73c952",
   "metadata": {
    "execution": {
     "iopub.execute_input": "2022-03-17T13:24:52.935935Z",
     "iopub.status.busy": "2022-03-17T13:24:52.935935Z",
     "iopub.status.idle": "2022-03-17T13:24:52.944945Z",
     "shell.execute_reply": "2022-03-17T13:24:52.944029Z",
     "shell.execute_reply.started": "2022-03-17T13:24:52.935935Z"
    }
   },
   "outputs": [],
   "source": [
    "lookup_f = get_f(fcomps, nedges)"
   ]
  },
  {
   "cell_type": "code",
   "execution_count": 102,
   "id": "f6fa92ce-e65e-48e0-959e-5781156af4f5",
   "metadata": {
    "execution": {
     "iopub.execute_input": "2022-03-17T13:24:08.899045Z",
     "iopub.status.busy": "2022-03-17T13:24:08.899045Z",
     "iopub.status.idle": "2022-03-17T13:24:08.916852Z",
     "shell.execute_reply": "2022-03-17T13:24:08.916852Z",
     "shell.execute_reply.started": "2022-03-17T13:24:08.899045Z"
    },
    "tags": []
   },
   "outputs": [],
   "source": [
    "# x_4,x_5,x_7 = [varsympy[idx] for idx in [4,5,7]]\n",
    "# right = -8.0*x_4*x_5*x_7 + 8.0\n",
    "# tovar = varsympy[0]\n",
    "# symb_order= list(right.free_symbols)\n",
    "# fx = sp.lambdify(symb_order, right)\n",
    "# from unitutils import unit_conversion_factors\n",
    "# convert, factor = unit_conversion_factors(right, tovar.varunit, symb_order)\n",
    "# fx(*convert*np.array([1,2,3]).flatten())/factor\n",
    "# lookup_f = get_f(fcomps, nedges)\n",
    "# lookup_f(2).evaldict({'x_4':1.,'x_5':1., 'x_7': 2.})"
   ]
  },
  {
   "cell_type": "code",
   "execution_count": 103,
   "id": "471a144d-0104-4b63-bc1b-bad5d7db8c3a",
   "metadata": {
    "execution": {
     "iopub.execute_input": "2022-03-17T13:24:09.397326Z",
     "iopub.status.busy": "2022-03-17T13:24:09.397326Z",
     "iopub.status.idle": "2022-03-17T13:24:09.411957Z",
     "shell.execute_reply": "2022-03-17T13:24:09.411422Z",
     "shell.execute_reply.started": "2022-03-17T13:24:09.397326Z"
    },
    "tags": []
   },
   "outputs": [],
   "source": [
    "def addexpcomp_args(lookup_f, parent_solver_node, key):\n",
    "    component = lookup_f(key)\n",
    "    input_names = [str(Node(inputvar,VAR)) for inputvar in component.inputs]\n",
    "    output_names = [str(Node(outputvar, VAR)) for outputvar in component.outputs]\n",
    "    args = (EXPL, str(parent_solver_node), str(Node(key, COMP)), input_names, output_names[0], component.evaldict, component.graddict)\n",
    "    return args"
   ]
  },
  {
   "cell_type": "code",
   "execution_count": 104,
   "id": "48db2bd0-981b-451a-bffc-ef8ba747a942",
   "metadata": {
    "execution": {
     "iopub.execute_input": "2022-03-17T13:24:10.083264Z",
     "iopub.status.busy": "2022-03-17T13:24:10.082332Z",
     "iopub.status.idle": "2022-03-17T13:24:10.096924Z",
     "shell.execute_reply": "2022-03-17T13:24:10.096414Z",
     "shell.execute_reply.started": "2022-03-17T13:24:10.082332Z"
    },
    "tags": []
   },
   "outputs": [],
   "source": [
    "def implicit_comp_name(comps):\n",
    "    return \"res_{}\".format('_'.join(map(lambda x: normalize_name(str(x)),comps)))"
   ]
  },
  {
   "cell_type": "code",
   "execution_count": 105,
   "id": "e9be1091-fc93-47fb-9412-de1c1ff1942e",
   "metadata": {
    "execution": {
     "iopub.execute_input": "2022-03-17T13:24:11.592523Z",
     "iopub.status.busy": "2022-03-17T13:24:11.591364Z",
     "iopub.status.idle": "2022-03-17T13:24:11.608200Z",
     "shell.execute_reply": "2022-03-17T13:24:11.608200Z",
     "shell.execute_reply.started": "2022-03-17T13:24:11.592523Z"
    },
    "tags": []
   },
   "outputs": [],
   "source": [
    "def addimpcomp_args(lookup_f, parent_solver_node, fends, output_names):\n",
    "    impl_components = []\n",
    "    comps = []\n",
    "    for idx, comp_node in enumerate(fends):\n",
    "        component = lookup_f(comp_node)\n",
    "        input_names = [str(Node(inputvar,VAR)) for inputvar in component.inputs]\n",
    "        output_name = str(Node(output_names[idx], VAR)) #TODO: THIS IS VERY HACKY BUT WILL WORK FOR NOW\n",
    "        impl_components.append((input_names, output_name, component.evaldict, component.graddict, 1.))\n",
    "        comps.append(Node(comp_node, COMP))\n",
    "    args = (str(parent_solver_node), implicit_comp_name(comps), impl_components)\n",
    "    return args"
   ]
  },
  {
   "cell_type": "code",
   "execution_count": 108,
   "id": "bf368eb1-307b-40f0-a45b-be761eafea20",
   "metadata": {
    "execution": {
     "iopub.execute_input": "2022-03-17T13:24:55.014393Z",
     "iopub.status.busy": "2022-03-17T13:24:55.014393Z",
     "iopub.status.idle": "2022-03-17T13:24:55.020664Z",
     "shell.execute_reply": "2022-03-17T13:24:55.020664Z",
     "shell.execute_reply.started": "2022-03-17T13:24:55.014393Z"
    },
    "tags": []
   },
   "outputs": [],
   "source": [
    "visited = set()\n",
    "workflow = []\n",
    "nFtree_copy = OrderedDict(nFtree)\n",
    "flag = False\n",
    "while nFtree_copy:\n",
    "    key, parentsolver = nFtree_copy.popitem(last=False)\n",
    "    parent_solver_node = Node(parentsolver,SOLVER)\n",
    "    out = path(nStree, parentsolver, visited)\n",
    "    out_rev = out[::-1]\n",
    "    visited = visited.union(out)\n",
    "    f = [elt for elt in solver_children(nFtree_copy, parentsolver) if elt in Fend]\n",
    "    for solver_idx in out_rev:\n",
    "        parent_solver = nStree.get(solver_idx, None)\n",
    "        parent_solver_name = str(Node(parent_solver,SOLVER)) if parent_solver else None\n",
    "        workflow.append((SOLVE, parent_solver_name, str(Node(solver_idx, SOLVER))))\n",
    "    if key in Fend and not f: #the last one\n",
    "        fends = [elt for elt in solver_children(nFtree, parentsolver) if elt in Fend]\n",
    "        args = addimpcomp_args(lookup_f, parent_solver_node, fends, list(solver_children(nVtree, parentsolver)))\n",
    "        if not flag:\n",
    "            workflow.append((IMPL, *args))\n",
    "        else:\n",
    "            workflow.append((EQCST, *args)) #this would add them as design variable\n",
    "    elif key not in Fend: \n",
    "        args = addexpcomp_args(lookup_f, parent_solver_node, key)\n",
    "        workflow.append(args)"
   ]
  },
  {
   "cell_type": "code",
   "execution_count": 109,
   "id": "cd4ba665-e5b8-4694-8baf-5ab175fe77a6",
   "metadata": {
    "execution": {
     "iopub.execute_input": "2022-03-17T13:24:56.457167Z",
     "iopub.status.busy": "2022-03-17T13:24:56.456168Z",
     "iopub.status.idle": "2022-03-17T13:24:56.483471Z",
     "shell.execute_reply": "2022-03-17T13:24:56.482473Z",
     "shell.execute_reply.started": "2022-03-17T13:24:56.457167Z"
    },
    "tags": []
   },
   "outputs": [
    {
     "data": {
      "text/plain": [
       "[(SOLVE, None, 's_1'),\n",
       " (EXPL,\n",
       "  's_1',\n",
       "  'f_1',\n",
       "  ['x_6'],\n",
       "  'x_9',\n",
       "  <bound method Component.evaldict of ((6,), 1, (9,), '-3.0/x_6')>,\n",
       "  <bound method Component.graddict of ((6,), 1, (9,), '-3.0/x_6')>),\n",
       " (EXPL,\n",
       "  's_1',\n",
       "  'f_2',\n",
       "  ['x_2'],\n",
       "  'x_8',\n",
       "  <bound method Component.evaldict of ((2,), 2, (8,), '-0.333333333333333/x_2')>,\n",
       "  <bound method Component.graddict of ((2,), 2, (8,), '-0.333333333333333/x_2')>),\n",
       " (EXPL,\n",
       "  's_1',\n",
       "  'f_5',\n",
       "  ['x_6', 'x_8', 'x_2'],\n",
       "  'x_7',\n",
       "  <bound method Component.evaldict of ((6, 8, 2), 5, (7,), '(-0.875*x_2*x_8 + 0.25)/x_6')>,\n",
       "  <bound method Component.graddict of ((6, 8, 2), 5, (7,), '(-0.875*x_2*x_8 + 0.25)/x_6')>),\n",
       " (SOLVE, 's_1', 's_2'),\n",
       " (IMPL,\n",
       "  's_2',\n",
       "  'res_f4_f0_f6_f3',\n",
       "  [(['x_0', 'x_5', 'x_7', 'x_4'],\n",
       "    'x_4',\n",
       "    <bound method Component.evaldict of ((0, 5, 7, 4), 4, (None,), '-0.1*x_0*x_7 - 0.3*x_4*x_5 - 0.5')>,\n",
       "    <bound method Component.graddict of ((0, 5, 7, 4), 4, (None,), '-0.1*x_0*x_7 - 0.3*x_4*x_5 - 0.5')>,\n",
       "    1.0),\n",
       "   (['x_5', 'x_3', 'x_7', 'x_9', 'x_4'],\n",
       "    'x_3',\n",
       "    <bound method Component.evaldict of ((5, 3, 7, 9, 4), 0, (None,), '-0.3*x_3*x_4*x_9 + 0.2*x_5*x_7 - 0.6')>,\n",
       "    <bound method Component.graddict of ((5, 3, 7, 9, 4), 0, (None,), '-0.3*x_3*x_4*x_9 + 0.2*x_5*x_7 - 0.6')>,\n",
       "    1.0),\n",
       "   (['x_0', 'x_3'],\n",
       "    'x_0',\n",
       "    <bound method Component.evaldict of ((0, 3), 6, (None,), '0.2*x_0*x_3 + 0.9')>,\n",
       "    <bound method Component.graddict of ((0, 3), 6, (None,), '0.2*x_0*x_3 + 0.9')>,\n",
       "    1.0),\n",
       "   (['x_5', 'x_8', 'x_3', 'x_7', 'x_4'],\n",
       "    'x_5',\n",
       "    <bound method Component.evaldict of ((5, 8, 3, 7, 4), 3, (None,), '0.8*x_3*x_7 + 0.5*x_4 - 0.3*x_5*x_8 - 0.6')>,\n",
       "    <bound method Component.graddict of ((5, 8, 3, 7, 4), 3, (None,), '0.8*x_3*x_7 + 0.5*x_4 - 0.3*x_5*x_8 - 0.6')>,\n",
       "    1.0)])]"
      ]
     },
     "execution_count": 109,
     "metadata": {},
     "output_type": "execute_result"
    }
   ],
   "source": [
    "workflow"
   ]
  },
  {
   "cell_type": "markdown",
   "id": "0e637ff4-3505-4f98-a6e8-57eb73ce7f52",
   "metadata": {},
   "source": [
    "# Build problem"
   ]
  },
  {
   "cell_type": "code",
   "execution_count": 110,
   "id": "cd10f753-1f80-49c6-97bb-96aa017d21ce",
   "metadata": {
    "execution": {
     "iopub.execute_input": "2022-03-17T13:25:13.218304Z",
     "iopub.status.busy": "2022-03-17T13:25:13.218304Z",
     "iopub.status.idle": "2022-03-17T13:25:13.233729Z",
     "shell.execute_reply": "2022-03-17T13:25:13.233599Z",
     "shell.execute_reply.started": "2022-03-17T13:25:13.218304Z"
    },
    "tags": []
   },
   "outputs": [],
   "source": [
    "from buildexecution import addexpcomp, addimpcomp, addsolver\n",
    "from compute import buildidpvars\n",
    "import openmdao.api as om"
   ]
  },
  {
   "cell_type": "code",
   "execution_count": 111,
   "id": "59434f7d-157d-4f5b-84a8-a1af1006e0c2",
   "metadata": {
    "execution": {
     "iopub.execute_input": "2022-03-17T13:25:14.700622Z",
     "iopub.status.busy": "2022-03-17T13:25:14.699561Z",
     "iopub.status.idle": "2022-03-17T13:25:14.714540Z",
     "shell.execute_reply": "2022-03-17T13:25:14.714063Z",
     "shell.execute_reply.started": "2022-03-17T13:25:14.700622Z"
    },
    "tags": []
   },
   "outputs": [],
   "source": [
    "architecture_mappings = {\n",
    "        EXPL: addexpcomp,\n",
    "        IMPL: addimpcomp,\n",
    "        SOLVE: addsolver\n",
    "    }"
   ]
  },
  {
   "cell_type": "code",
   "execution_count": 112,
   "id": "c17e43d1-b67f-4dbf-bd83-71ca1fd1b7f1",
   "metadata": {
    "execution": {
     "iopub.execute_input": "2022-03-17T13:25:15.113969Z",
     "iopub.status.busy": "2022-03-17T13:25:15.113969Z",
     "iopub.status.idle": "2022-03-17T13:25:15.120656Z",
     "shell.execute_reply": "2022-03-17T13:25:15.119961Z",
     "shell.execute_reply.started": "2022-03-17T13:25:15.113969Z"
    },
    "tags": []
   },
   "outputs": [],
   "source": [
    "prob = om.Problem()\n",
    "mdo_model = prob.model\n",
    "groups = {None:mdo_model}\n",
    "\n",
    "mdao_in = {Node(elt, VAR) for elt in sources(nEin, nEout)-nVtree.keys()}"
   ]
  },
  {
   "cell_type": "code",
   "execution_count": 113,
   "id": "e92fa6fa-62b3-4984-8ccf-8eff92bf0469",
   "metadata": {
    "execution": {
     "iopub.execute_input": "2022-03-17T13:25:15.895807Z",
     "iopub.status.busy": "2022-03-17T13:25:15.895807Z",
     "iopub.status.idle": "2022-03-17T13:25:15.913393Z",
     "shell.execute_reply": "2022-03-17T13:25:15.912213Z",
     "shell.execute_reply.started": "2022-03-17T13:25:15.895807Z"
    },
    "tags": []
   },
   "outputs": [],
   "source": [
    "buildidpvars(mdao_in, mdo_model)"
   ]
  },
  {
   "cell_type": "code",
   "execution_count": 114,
   "id": "20bdf3a6-571a-4c84-abca-558bf084f502",
   "metadata": {
    "execution": {
     "iopub.execute_input": "2022-03-17T13:25:16.995217Z",
     "iopub.status.busy": "2022-03-17T13:25:16.995217Z",
     "iopub.status.idle": "2022-03-17T13:25:17.015958Z",
     "shell.execute_reply": "2022-03-17T13:25:17.015958Z",
     "shell.execute_reply.started": "2022-03-17T13:25:16.995217Z"
    },
    "tags": []
   },
   "outputs": [],
   "source": [
    "# This next step actually builds all the openMDAO components\n",
    "for comp_type, *comp_args in workflow:\n",
    "    #print(comp_type, comp_args[:3])\n",
    "    architecture_mappings[comp_type](groups, *comp_args)"
   ]
  },
  {
   "cell_type": "code",
   "execution_count": 115,
   "id": "384ab559-d792-44c7-b5c5-166a694fda82",
   "metadata": {
    "execution": {
     "iopub.execute_input": "2022-03-17T13:25:17.847940Z",
     "iopub.status.busy": "2022-03-17T13:25:17.847940Z",
     "iopub.status.idle": "2022-03-17T13:25:17.859777Z",
     "shell.execute_reply": "2022-03-17T13:25:17.859695Z",
     "shell.execute_reply.started": "2022-03-17T13:25:17.847940Z"
    },
    "tags": []
   },
   "outputs": [],
   "source": [
    "prob.setup();"
   ]
  },
  {
   "cell_type": "code",
   "execution_count": 116,
   "id": "3fb6675c-83f1-43ed-8a03-8cce68f7e0c1",
   "metadata": {
    "execution": {
     "iopub.execute_input": "2022-03-17T13:25:18.527753Z",
     "iopub.status.busy": "2022-03-17T13:25:18.527753Z",
     "iopub.status.idle": "2022-03-17T13:25:18.531313Z",
     "shell.execute_reply": "2022-03-17T13:25:18.530809Z",
     "shell.execute_reply.started": "2022-03-17T13:25:18.527753Z"
    },
    "tags": []
   },
   "outputs": [],
   "source": [
    "#om.n2(mdo_model)"
   ]
  },
  {
   "cell_type": "code",
   "execution_count": 117,
   "id": "0791c480-6742-43de-b9ab-202094212b6c",
   "metadata": {
    "execution": {
     "iopub.execute_input": "2022-03-17T13:25:19.604358Z",
     "iopub.status.busy": "2022-03-17T13:25:19.604358Z",
     "iopub.status.idle": "2022-03-17T13:25:19.618432Z",
     "shell.execute_reply": "2022-03-17T13:25:19.618432Z",
     "shell.execute_reply.started": "2022-03-17T13:25:19.604358Z"
    },
    "tags": []
   },
   "outputs": [
    {
     "data": {
      "text/plain": [
       "array([0.22199317])"
      ]
     },
     "execution_count": 117,
     "metadata": {},
     "output_type": "execute_result"
    }
   ],
   "source": [
    "prob.get_val('x_2')"
   ]
  },
  {
   "cell_type": "code",
   "execution_count": 118,
   "id": "77936417-5f2d-4f3c-b2a1-ce017783ac5c",
   "metadata": {
    "execution": {
     "iopub.execute_input": "2022-03-17T13:25:21.002419Z",
     "iopub.status.busy": "2022-03-17T13:25:21.001308Z",
     "iopub.status.idle": "2022-03-17T13:25:21.038590Z",
     "shell.execute_reply": "2022-03-17T13:25:21.037989Z",
     "shell.execute_reply.started": "2022-03-17T13:25:21.001308Z"
    },
    "tags": []
   },
   "outputs": [
    {
     "name": "stdout",
     "output_type": "stream",
     "text": [
      "\n",
      "===\n",
      "s_1\n",
      "===\n",
      "+  \n",
      "+  =======\n",
      "+  s_1.s_2\n",
      "+  =======\n",
      "+  NL: Newton Converged in 5 iterations\n",
      "+  \n",
      "+  =======\n",
      "+  s_1.s_2\n",
      "+  =======\n",
      "+  NL: Newton Converged in 0 iterations\n",
      "NL: Newton Converged in 1 iterations\n"
     ]
    }
   ],
   "source": [
    "prob.run_model();"
   ]
  },
  {
   "cell_type": "markdown",
   "id": "0dd920f9-d9f0-4c43-94d9-f8a693cf0a68",
   "metadata": {},
   "source": [
    "## Validate answer"
   ]
  },
  {
   "cell_type": "code",
   "execution_count": 119,
   "id": "e0817a45-a41d-4ced-b941-81c1f9f0b4f3",
   "metadata": {
    "execution": {
     "iopub.execute_input": "2022-03-17T13:25:27.226506Z",
     "iopub.status.busy": "2022-03-17T13:25:27.226506Z",
     "iopub.status.idle": "2022-03-17T13:25:27.232041Z",
     "shell.execute_reply": "2022-03-17T13:25:27.231414Z",
     "shell.execute_reply.started": "2022-03-17T13:25:27.226506Z"
    },
    "tags": []
   },
   "outputs": [],
   "source": [
    "from executeformulations import extractvals"
   ]
  },
  {
   "cell_type": "code",
   "execution_count": 120,
   "id": "bf031f20-6acd-4396-ac96-886d83a78cf2",
   "metadata": {
    "execution": {
     "iopub.execute_input": "2022-03-17T13:25:27.703600Z",
     "iopub.status.busy": "2022-03-17T13:25:27.702606Z",
     "iopub.status.idle": "2022-03-17T13:25:27.716654Z",
     "shell.execute_reply": "2022-03-17T13:25:27.715527Z",
     "shell.execute_reply.started": "2022-03-17T13:25:27.703600Z"
    },
    "tags": []
   },
   "outputs": [],
   "source": [
    "fcomps_res = [comp for comp in fcomps if comp.outputs == (None,)]"
   ]
  },
  {
   "cell_type": "code",
   "execution_count": 127,
   "id": "c8f03cd8-da21-488f-80af-72a0d30a7bec",
   "metadata": {
    "execution": {
     "iopub.execute_input": "2022-03-17T13:30:11.593374Z",
     "iopub.status.busy": "2022-03-17T13:30:11.593374Z",
     "iopub.status.idle": "2022-03-17T13:30:11.599608Z",
     "shell.execute_reply": "2022-03-17T13:30:11.599409Z",
     "shell.execute_reply.started": "2022-03-17T13:30:11.593374Z"
    },
    "tags": []
   },
   "outputs": [],
   "source": [
    "#mdo_model.list_inputs()"
   ]
  },
  {
   "cell_type": "code",
   "execution_count": 136,
   "id": "66b89c13-4e59-4661-9ebe-36a1ab21d271",
   "metadata": {
    "execution": {
     "iopub.execute_input": "2022-03-17T13:44:38.662539Z",
     "iopub.status.busy": "2022-03-17T13:44:38.662539Z",
     "iopub.status.idle": "2022-03-17T13:44:38.682351Z",
     "shell.execute_reply": "2022-03-17T13:44:38.681719Z",
     "shell.execute_reply.started": "2022-03-17T13:44:38.662539Z"
    },
    "tags": []
   },
   "outputs": [
    {
     "data": {
      "text/plain": [
       "{0: x_0,\n",
       " 1: x_1,\n",
       " 2: x_2,\n",
       " 3: x_3,\n",
       " 4: x_4,\n",
       " 5: x_5,\n",
       " 6: x_6,\n",
       " 7: x_7,\n",
       " 8: x_8,\n",
       " 9: x_9}"
      ]
     },
     "execution_count": 136,
     "metadata": {},
     "output_type": "execute_result"
    }
   ],
   "source": [
    "varsympy"
   ]
  },
  {
   "cell_type": "code",
   "execution_count": 138,
   "id": "b2111670-3fb7-4618-aa88-574f2936d5d7",
   "metadata": {
    "execution": {
     "iopub.execute_input": "2022-03-17T13:45:07.964646Z",
     "iopub.status.busy": "2022-03-17T13:45:07.964646Z",
     "iopub.status.idle": "2022-03-17T13:45:07.981810Z",
     "shell.execute_reply": "2022-03-17T13:45:07.981632Z",
     "shell.execute_reply.started": "2022-03-17T13:45:07.964646Z"
    },
    "tags": []
   },
   "outputs": [],
   "source": [
    "outs = extractvals(prob, varsympy)"
   ]
  },
  {
   "cell_type": "code",
   "execution_count": 139,
   "id": "d75cc57d-a7cc-4739-b36d-6981db3ba22d",
   "metadata": {
    "execution": {
     "iopub.execute_input": "2022-03-17T13:45:09.366608Z",
     "iopub.status.busy": "2022-03-17T13:45:09.366608Z",
     "iopub.status.idle": "2022-03-17T13:45:09.384514Z",
     "shell.execute_reply": "2022-03-17T13:45:09.384514Z",
     "shell.execute_reply.started": "2022-03-17T13:45:09.366608Z"
    },
    "tags": []
   },
   "outputs": [
    {
     "data": {
      "text/plain": [
       "[2.220446049250313e-16,\n",
       " 1.1102230246251565e-16,\n",
       " 2.7755575615628914e-16,\n",
       " -1.1102230246251565e-16,\n",
       " 0.0,\n",
       " -2.7755575615628914e-17,\n",
       " -1.1102230246251565e-16]"
      ]
     },
     "execution_count": 139,
     "metadata": {},
     "output_type": "execute_result"
    }
   ],
   "source": [
    "[elt.evaldict(outs) for elt in fcomps_res]\n"
   ]
  }
 ],
 "metadata": {
  "kernelspec": {
   "display_name": "minimdo",
   "language": "python",
   "name": "python3"
  },
  "language_info": {
   "codemirror_mode": {
    "name": "ipython",
    "version": 3
   },
   "file_extension": ".py",
   "mimetype": "text/x-python",
   "name": "python",
   "nbconvert_exporter": "python",
   "pygments_lexer": "ipython3",
   "version": "3.9.12 (main, Apr  4 2022, 05:22:27) [MSC v.1916 64 bit (AMD64)]"
  },
  "vscode": {
   "interpreter": {
    "hash": "a694de6fda351b2e6abf6df342a83029ffd7840d5f4e2b018751ced956a6df2b"
   }
  }
 },
 "nbformat": 4,
 "nbformat_minor": 5
}
