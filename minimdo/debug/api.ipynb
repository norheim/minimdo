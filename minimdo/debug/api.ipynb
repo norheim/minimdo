{
 "cells": [
  {
   "cell_type": "code",
   "execution_count": 1,
   "id": "1e1bfc2d-179b-4e43-8c3b-3b8885de4a8d",
   "metadata": {
    "execution": {
     "iopub.execute_input": "2022-04-19T00:04:50.959983Z",
     "iopub.status.busy": "2022-04-19T00:04:50.959983Z",
     "iopub.status.idle": "2022-04-19T00:04:50.985353Z",
     "shell.execute_reply": "2022-04-19T00:04:50.985239Z",
     "shell.execute_reply.started": "2022-04-19T00:04:50.959983Z"
    },
    "tags": []
   },
   "outputs": [
    {
     "name": "stdout",
     "output_type": "stream",
     "text": [
      "C:\\Users\\johan\\github\\designresolver\n"
     ]
    }
   ],
   "source": [
    "cd .."
   ]
  },
  {
   "cell_type": "code",
   "execution_count": 2,
   "id": "9e205f4f-4620-48d3-837d-eaf375e78be0",
   "metadata": {
    "execution": {
     "iopub.execute_input": "2022-04-19T00:04:50.986599Z",
     "iopub.status.busy": "2022-04-19T00:04:50.986599Z",
     "iopub.status.idle": "2022-04-19T00:04:52.641924Z",
     "shell.execute_reply": "2022-04-19T00:04:52.640843Z",
     "shell.execute_reply.started": "2022-04-19T00:04:50.986599Z"
    },
    "tags": []
   },
   "outputs": [],
   "source": [
    "from graph.graphutils import draw_graph_graphical_props, flat_graph_formulation, Node, VAR, COMP, SOLVER\n",
    "from graph.nestedgraph import build_typedgraph\n",
    "from modeling.compute import Var, Par\n",
    "from unitutils import get_unit, ureg\n",
    "from execution import sympy_fx_inputs, Component, edges_from_components\n",
    "from collections import OrderedDict\n",
    "from itertools import chain"
   ]
  },
  {
   "cell_type": "code",
   "execution_count": 3,
   "id": "eb1014c6-5ebb-45e9-a81b-8dd1b119f7e7",
   "metadata": {
    "execution": {
     "iopub.execute_input": "2022-04-19T00:04:52.643920Z",
     "iopub.status.busy": "2022-04-19T00:04:52.643920Z",
     "iopub.status.idle": "2022-04-19T00:04:52.656920Z",
     "shell.execute_reply": "2022-04-19T00:04:52.655926Z",
     "shell.execute_reply.started": "2022-04-19T00:04:52.643920Z"
    },
    "tags": []
   },
   "outputs": [],
   "source": [
    "x,c,d,z = Var('x'), Var('c'), Var('d'), Var('z')"
   ]
  },
  {
   "cell_type": "code",
   "execution_count": 4,
   "id": "3f70b5a3-2f01-4e50-9409-7caf94395c57",
   "metadata": {
    "execution": {
     "iopub.execute_input": "2022-04-19T00:04:52.657916Z",
     "iopub.status.busy": "2022-04-19T00:04:52.657916Z",
     "iopub.status.idle": "2022-04-19T00:04:52.672175Z",
     "shell.execute_reply": "2022-04-19T00:04:52.672049Z",
     "shell.execute_reply.started": "2022-04-19T00:04:52.657916Z"
    },
    "tags": []
   },
   "outputs": [],
   "source": [
    "class SolverRef():\n",
    "    def __init__(self, idx, modelref):\n",
    "        self.model = modelref\n",
    "        self.idx = idx\n",
    "class Model():\n",
    "    def __init__(self):\n",
    "        self.components = []\n",
    "        self.Ftree = OrderedDict()\n",
    "        self.Stree = dict()\n",
    "        self.Vtree = dict()\n",
    "        self.root = SolverRef(1,self)\n",
    "        self.comp_by_var = dict()"
   ]
  },
  {
   "cell_type": "code",
   "execution_count": 5,
   "id": "c59bfe51-1c36-495a-8a9e-2d1005354dbc",
   "metadata": {
    "execution": {
     "iopub.execute_input": "2022-04-19T00:04:52.673516Z",
     "iopub.status.busy": "2022-04-19T00:04:52.673516Z",
     "iopub.status.idle": "2022-04-19T00:04:52.687326Z",
     "shell.execute_reply": "2022-04-19T00:04:52.686826Z",
     "shell.execute_reply.started": "2022-04-19T00:04:52.673516Z"
    },
    "tags": []
   },
   "outputs": [],
   "source": [
    "def var_from_expr(name, expr, unit=None, forceunit=False):\n",
    "    newvar = Var(name, unit=unit)\n",
    "    newvar.forceunit=forceunit # TODO: HACK for sympy function\n",
    "    if not forceunit:\n",
    "        fx, inputs, inpunitsflat = sympy_fx_inputs(expr)\n",
    "        rhs_unit = get_unit(fx, inpunitsflat)[0] #get_unit returns a vector output depending on fx\n",
    "        if unit != None:\n",
    "            assert ureg(unit).dimensionality == rhs_unit.dimensionality\n",
    "    if unit == None:\n",
    "        newvar.varunit = ureg.Quantity(1, rhs_unit.to_base_units().units)\n",
    "    return newvar"
   ]
  },
  {
   "cell_type": "code",
   "execution_count": 25,
   "id": "51d94368-096e-4423-8b3f-83182c91b87d",
   "metadata": {
    "execution": {
     "iopub.execute_input": "2022-04-19T00:14:10.264705Z",
     "iopub.status.busy": "2022-04-19T00:14:10.264705Z",
     "iopub.status.idle": "2022-04-19T00:14:10.275207Z",
     "shell.execute_reply": "2022-04-19T00:14:10.274207Z",
     "shell.execute_reply.started": "2022-04-19T00:14:10.264705Z"
    },
    "tags": []
   },
   "outputs": [],
   "source": [
    "def adda(solver, left, right, *args, **kwargs):\n",
    "    model = solver.model\n",
    "    comp_idx = len(model.Ftree)\n",
    "    if isinstance(left, str):\n",
    "        left = var_from_expr(left, right, *args, **kwargs)\n",
    "    comp = Component.fromsympy(right, left, component=comp_idx)\n",
    "    model.components.append(comp)\n",
    "    model.Ftree[comp_idx] = solver.idx\n",
    "    model.comp_by_var[left]=comp_idx\n",
    "    return left"
   ]
  },
  {
   "cell_type": "code",
   "execution_count": 26,
   "id": "f1a84e0e-11ab-4e1b-8116-04176372ef8b",
   "metadata": {
    "execution": {
     "iopub.execute_input": "2022-04-19T00:14:10.428588Z",
     "iopub.status.busy": "2022-04-19T00:14:10.427598Z",
     "iopub.status.idle": "2022-04-19T00:14:10.446500Z",
     "shell.execute_reply": "2022-04-19T00:14:10.445601Z",
     "shell.execute_reply.started": "2022-04-19T00:14:10.428588Z"
    },
    "tags": []
   },
   "outputs": [],
   "source": [
    "def addf(solver, right):\n",
    "    model = solver.model\n",
    "    comp_idx = len(model.Ftree)\n",
    "    comp = Component.fromsympy(right, component=comp_idx)\n",
    "    model.components.append(comp)\n",
    "    model.Ftree[comp_idx] = solver.idx\n",
    "    return comp_idx"
   ]
  },
  {
   "cell_type": "code",
   "execution_count": 27,
   "id": "e72cab2d-f1cf-49c9-98d7-b86f7bcb2275",
   "metadata": {
    "execution": {
     "iopub.execute_input": "2022-04-19T00:14:10.590797Z",
     "iopub.status.busy": "2022-04-19T00:14:10.590797Z",
     "iopub.status.idle": "2022-04-19T00:14:10.604405Z",
     "shell.execute_reply": "2022-04-19T00:14:10.603905Z",
     "shell.execute_reply.started": "2022-04-19T00:14:10.590797Z"
    },
    "tags": []
   },
   "outputs": [],
   "source": [
    "def addsolver(solver, comps=None, solvefor=None):\n",
    "    comps = comps if comps else []\n",
    "    solvefor = solvefor if solvefor else []\n",
    "    model = solver.model\n",
    "    next_solver_idx = max(chain(model.Stree.values(),[1]))+1\n",
    "    model.Stree[next_solver_idx] = solver.idx\n",
    "    for elt in comps:\n",
    "        model.Ftree[elt] = next_solver_idx\n",
    "    for elt in solvefor:\n",
    "        model.Vtree[elt] = next_solver_idx\n",
    "    return SolverRef(next_solver_idx, model)\n",
    "def setsolvefor(solver, solvefor):\n",
    "    model = solver.model\n",
    "    for elt in solvefor:\n",
    "        model.Vtree[elt.varid] = solver.idx"
   ]
  },
  {
   "cell_type": "code",
   "execution_count": 28,
   "id": "04a56ed5-64a1-49f5-a6d4-726c59762fcd",
   "metadata": {
    "execution": {
     "iopub.execute_input": "2022-04-19T00:14:10.941892Z",
     "iopub.status.busy": "2022-04-19T00:14:10.941892Z",
     "iopub.status.idle": "2022-04-19T00:14:10.957027Z",
     "shell.execute_reply": "2022-04-19T00:14:10.957027Z",
     "shell.execute_reply.started": "2022-04-19T00:14:10.941892Z"
    },
    "tags": []
   },
   "outputs": [],
   "source": [
    "model = Model()\n",
    "m = model.root\n",
    "y = adda(m, 'y', x)\n",
    "a = adda(m, 'a', c+y)\n",
    "b = adda(m, 'b', a)\n",
    "addf(m, b+d)\n",
    "solver = addsolver(m) \n",
    "addf(solver, a+d)\n",
    "setsolvefor(solver, [d]) \n",
    "e = adda(m, 'e', c+b)"
   ]
  },
  {
   "cell_type": "code",
   "execution_count": 29,
   "id": "5ea6f091-1db0-4b58-ba14-31fb39d89071",
   "metadata": {
    "execution": {
     "iopub.execute_input": "2022-04-19T00:14:11.607073Z",
     "iopub.status.busy": "2022-04-19T00:14:11.606043Z",
     "iopub.status.idle": "2022-04-19T00:14:11.613831Z",
     "shell.execute_reply": "2022-04-19T00:14:11.613831Z",
     "shell.execute_reply.started": "2022-04-19T00:14:11.606043Z"
    },
    "tags": []
   },
   "outputs": [
    {
     "data": {
      "text/plain": [
       "1"
      ]
     },
     "execution_count": 29,
     "metadata": {},
     "output_type": "execute_result"
    }
   ],
   "source": [
    "model.comp_by_var[a]"
   ]
  },
  {
   "cell_type": "code",
   "execution_count": 10,
   "id": "a3b08f90-2429-45b1-b6e5-e1e1261c17a3",
   "metadata": {
    "execution": {
     "iopub.execute_input": "2022-04-19T00:04:52.910747Z",
     "iopub.status.busy": "2022-04-19T00:04:52.910747Z",
     "iopub.status.idle": "2022-04-19T00:04:52.919764Z",
     "shell.execute_reply": "2022-04-19T00:04:52.919764Z",
     "shell.execute_reply.started": "2022-04-19T00:04:52.910747Z"
    },
    "tags": []
   },
   "outputs": [],
   "source": [
    "edges = edges_from_components(model.components)\n",
    "tree = model.Ftree, model.Stree, model.Vtree"
   ]
  },
  {
   "cell_type": "code",
   "execution_count": 11,
   "id": "a7f7acf3-4efc-4557-9f5a-f32c62db272e",
   "metadata": {
    "execution": {
     "iopub.execute_input": "2022-04-19T00:04:53.111359Z",
     "iopub.status.busy": "2022-04-19T00:04:53.111359Z",
     "iopub.status.idle": "2022-04-19T00:04:53.123535Z",
     "shell.execute_reply": "2022-04-19T00:04:53.123337Z",
     "shell.execute_reply.started": "2022-04-19T00:04:53.111359Z"
    },
    "tags": []
   },
   "outputs": [
    {
     "data": {
      "text/plain": [
       "(({0: ('x',),\n",
       "   1: ('y', 'c'),\n",
       "   2: ('a',),\n",
       "   3: ('b', 'd'),\n",
       "   4: ('a', 'd'),\n",
       "   5: ('b', 'c')},\n",
       "  {0: ('y',), 1: ('a',), 2: ('b',), 3: (None,), 4: (None,), 5: ('e',)},\n",
       "  {}),\n",
       " (OrderedDict([(0, 1), (1, 1), (2, 1), (3, 1), (4, 2), (5, 1)]),\n",
       "  {2: 1},\n",
       "  {'d': 2}))"
      ]
     },
     "execution_count": 11,
     "metadata": {},
     "output_type": "execute_result"
    }
   ],
   "source": [
    "edges, tree"
   ]
  },
  {
   "cell_type": "code",
   "execution_count": 12,
   "id": "53e38e89-3181-445a-8002-b120a9b6807d",
   "metadata": {
    "execution": {
     "iopub.execute_input": "2022-04-19T00:04:58.562407Z",
     "iopub.status.busy": "2022-04-19T00:04:58.561409Z",
     "iopub.status.idle": "2022-04-19T00:04:58.566409Z",
     "shell.execute_reply": "2022-04-19T00:04:58.566409Z",
     "shell.execute_reply.started": "2022-04-19T00:04:58.562407Z"
    },
    "tags": []
   },
   "outputs": [],
   "source": [
    "nodetyperepr = {VAR: '{}', COMP: 'f_{}', SOLVER: 's_{}'}"
   ]
  },
  {
   "cell_type": "code",
   "execution_count": 13,
   "id": "497cf757-5f72-44d5-8566-cf64b975fc9f",
   "metadata": {
    "execution": {
     "iopub.execute_input": "2022-04-19T00:05:01.548933Z",
     "iopub.status.busy": "2022-04-19T00:05:01.548933Z",
     "iopub.status.idle": "2022-04-19T00:05:01.559930Z",
     "shell.execute_reply": "2022-04-19T00:05:01.559930Z",
     "shell.execute_reply.started": "2022-04-19T00:05:01.548933Z"
    },
    "tags": []
   },
   "outputs": [],
   "source": [
    "graphs = build_typedgraph(edges, tree, nodetyperepr)"
   ]
  },
  {
   "cell_type": "code",
   "execution_count": 22,
   "id": "10e17630-07c1-4fae-9f6a-7d6dbab42a81",
   "metadata": {
    "execution": {
     "iopub.execute_input": "2022-04-19T00:06:42.852188Z",
     "iopub.status.busy": "2022-04-19T00:06:42.852188Z",
     "iopub.status.idle": "2022-04-19T00:06:43.365241Z",
     "shell.execute_reply": "2022-04-19T00:06:43.364708Z",
     "shell.execute_reply.started": "2022-04-19T00:06:42.852188Z"
    },
    "tags": []
   },
   "outputs": [
    {
     "data": {
      "image/png": "[encoded data removed]",
      "text/plain": [
       "<Figure size 432x432 with 1 Axes>"
      ]
     },
     "metadata": {},
     "output_type": "display_data"
    },
    {
     "data": {
      "image/png": "[encoded data removed]",
      "text/plain": [
       "<Figure size 432x432 with 1 Axes>"
      ]
     },
     "metadata": {},
     "output_type": "display_data"
    }
   ],
   "source": [
    "for key,graph in graphs.items():\n",
    "    draw_graph_graphical_props(graph, {}, prog='neato', figsize=(6,6))"
   ]
  },
  {
   "cell_type": "code",
   "execution_count": 16,
   "id": "0d3c8efa-b5dc-4b69-b6e9-c68cb15babb9",
   "metadata": {
    "execution": {
     "iopub.execute_input": "2022-04-18T22:54:49.227227Z",
     "iopub.status.busy": "2022-04-18T22:54:49.227227Z",
     "iopub.status.idle": "2022-04-18T22:54:49.237762Z",
     "shell.execute_reply": "2022-04-18T22:54:49.236835Z",
     "shell.execute_reply.started": "2022-04-18T22:54:49.227227Z"
    },
    "tags": []
   },
   "outputs": [],
   "source": [
    "G = flat_graph_formulation(*edges, nodetyperepr=nodetyperepr)"
   ]
  },
  {
   "cell_type": "code",
   "execution_count": 17,
   "id": "a8a0a34f-7e43-4bba-9f2d-46e8de48b3a5",
   "metadata": {
    "execution": {
     "iopub.execute_input": "2022-04-18T22:54:52.043921Z",
     "iopub.status.busy": "2022-04-18T22:54:52.043921Z",
     "iopub.status.idle": "2022-04-18T22:54:52.603384Z",
     "shell.execute_reply": "2022-04-18T22:54:52.603317Z",
     "shell.execute_reply.started": "2022-04-18T22:54:52.043921Z"
    },
    "tags": []
   },
   "outputs": [
    {
     "data": {
      "image/png": "[encoded data removed]",
      "text/plain": [
       "<Figure size 360x360 with 1 Axes>"
      ]
     },
     "metadata": {},
     "output_type": "display_data"
    }
   ],
   "source": [
    "draw_graph_graphical_props(G, {}, prog='sfdp', figsize=(5,5))"
   ]
  },
  {
   "cell_type": "code",
   "execution_count": 24,
   "id": "c20140fd-0836-48ed-9157-6852dba9b355",
   "metadata": {
    "execution": {
     "iopub.execute_input": "2022-04-18T22:56:24.498661Z",
     "iopub.status.busy": "2022-04-18T22:56:24.498661Z",
     "iopub.status.idle": "2022-04-18T22:56:24.516271Z",
     "shell.execute_reply": "2022-04-18T22:56:24.516271Z",
     "shell.execute_reply.started": "2022-04-18T22:56:24.498661Z"
    },
    "tags": []
   },
   "outputs": [],
   "source": [
    "from operators import sort_scc, reorder_merge_solve"
   ]
  },
  {
   "cell_type": "code",
   "execution_count": 20,
   "id": "b0b0db30-5bc1-4a66-bedc-5f6a9ed09a89",
   "metadata": {
    "execution": {
     "iopub.execute_input": "2022-04-18T22:55:22.047889Z",
     "iopub.status.busy": "2022-04-18T22:55:22.046702Z",
     "iopub.status.idle": "2022-04-18T22:55:22.062953Z",
     "shell.execute_reply": "2022-04-18T22:55:22.062953Z",
     "shell.execute_reply.started": "2022-04-18T22:55:22.047889Z"
    },
    "tags": []
   },
   "outputs": [],
   "source": [
    "merge_order = sort_scc(G)"
   ]
  },
  {
   "cell_type": "code",
   "execution_count": 21,
   "id": "2b1f5ff2-00dd-4dd0-a2c0-79cde2fba3dd",
   "metadata": {
    "execution": {
     "iopub.execute_input": "2022-04-18T22:55:25.606849Z",
     "iopub.status.busy": "2022-04-18T22:55:25.606849Z",
     "iopub.status.idle": "2022-04-18T22:55:25.616926Z",
     "shell.execute_reply": "2022-04-18T22:55:25.616926Z",
     "shell.execute_reply.started": "2022-04-18T22:55:25.606849Z"
    }
   },
   "outputs": [
    {
     "data": {
      "text/plain": [
       "[{f_0}, {f_1}, {f_2}, {f_4}, {f_3}, {f_5}]"
      ]
     },
     "execution_count": 21,
     "metadata": {},
     "output_type": "execute_result"
    }
   ],
   "source": [
    "merge_order"
   ]
  },
  {
   "cell_type": "code",
   "execution_count": 22,
   "id": "e59c88f6-4d0c-4067-ac44-2c2f2b99fad7",
   "metadata": {
    "execution": {
     "iopub.execute_input": "2022-04-18T22:56:16.099896Z",
     "iopub.status.busy": "2022-04-18T22:56:16.099896Z",
     "iopub.status.idle": "2022-04-18T22:56:16.114895Z",
     "shell.execute_reply": "2022-04-18T22:56:16.113970Z",
     "shell.execute_reply.started": "2022-04-18T22:56:16.099896Z"
    }
   },
   "outputs": [
    {
     "data": {
      "text/plain": [
       "(OrderedDict([(0, 1), (1, 1), (2, 1), (3, 1), (4, 2), (5, 1)]), {2: 1}, {d: 2})"
      ]
     },
     "execution_count": 22,
     "metadata": {},
     "output_type": "execute_result"
    }
   ],
   "source": [
    "tree"
   ]
  },
  {
   "cell_type": "code",
   "execution_count": 25,
   "id": "70b128e1-1ec7-4315-993f-fd9d8079099b",
   "metadata": {
    "execution": {
     "iopub.execute_input": "2022-04-18T22:56:26.120505Z",
     "iopub.status.busy": "2022-04-18T22:56:26.120505Z",
     "iopub.status.idle": "2022-04-18T22:56:26.130651Z",
     "shell.execute_reply": "2022-04-18T22:56:26.130511Z",
     "shell.execute_reply.started": "2022-04-18T22:56:26.120505Z"
    },
    "tags": []
   },
   "outputs": [],
   "source": [
    "nedges_opt, ntree_opt = reorder_merge_solve(edges, tree, merge_order, 1, True)"
   ]
  },
  {
   "cell_type": "code",
   "execution_count": 27,
   "id": "53406c78-98ad-4000-b8b5-1a3421bbebe8",
   "metadata": {
    "execution": {
     "iopub.execute_input": "2022-04-18T22:56:32.388564Z",
     "iopub.status.busy": "2022-04-18T22:56:32.388564Z",
     "iopub.status.idle": "2022-04-18T22:56:32.396655Z",
     "shell.execute_reply": "2022-04-18T22:56:32.396655Z",
     "shell.execute_reply.started": "2022-04-18T22:56:32.388564Z"
    },
    "tags": []
   },
   "outputs": [
    {
     "data": {
      "text/plain": [
       "(OrderedDict([(0, 1), (1, 1), (2, 1), (4, 2), (3, 1), (5, 1)]), {2: 1}, {d: 2})"
      ]
     },
     "execution_count": 27,
     "metadata": {},
     "output_type": "execute_result"
    }
   ],
   "source": [
    "ntree_opt"
   ]
  },
  {
   "cell_type": "code",
   "execution_count": null,
   "id": "052203f4-6c88-4a54-bf0f-5a05c780c687",
   "metadata": {},
   "outputs": [],
   "source": []
  }
 ],
 "metadata": {
  "kernelspec": {
   "display_name": "minimdo",
   "language": "python",
   "name": "python3"
  },
  "language_info": {
   "codemirror_mode": {
    "name": "ipython",
    "version": 3
   },
   "file_extension": ".py",
   "mimetype": "text/x-python",
   "name": "python",
   "nbconvert_exporter": "python",
   "pygments_lexer": "ipython3",
   "version": "3.9.12 (main, Apr  4 2022, 05:22:27) [MSC v.1916 64 bit (AMD64)]"
  },
  "vscode": {
   "interpreter": {
    "hash": "a694de6fda351b2e6abf6df342a83029ffd7840d5f4e2b018751ced956a6df2b"
   }
  }
 },
 "nbformat": 4,
 "nbformat_minor": 5
}
