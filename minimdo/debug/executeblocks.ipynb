{
 "cells": [
  {
   "cell_type": "code",
   "execution_count": 109,
   "id": "e36c7fa5-35ca-4f1c-bc0a-a0f1bfbf53d4",
   "metadata": {
    "execution": {
     "iopub.execute_input": "2022-06-10T18:42:07.567671Z",
     "iopub.status.busy": "2022-06-10T18:42:07.567671Z",
     "iopub.status.idle": "2022-06-10T18:42:07.575778Z",
     "shell.execute_reply": "2022-06-10T18:42:07.575778Z",
     "shell.execute_reply.started": "2022-06-10T18:42:07.567671Z"
    },
    "tags": []
   },
   "outputs": [],
   "source": [
    "from execution import Component\n",
    "from executionblocks import Expcomp, Impcomp\n",
    "import openmdao.api as om"
   ]
  },
  {
   "cell_type": "code",
   "execution_count": 98,
   "id": "47e47fd3-9798-4615-948e-63863e064b07",
   "metadata": {
    "execution": {
     "iopub.execute_input": "2022-06-10T01:23:10.034426Z",
     "iopub.status.busy": "2022-06-10T01:23:10.033261Z",
     "iopub.status.idle": "2022-06-10T01:23:10.041431Z",
     "shell.execute_reply": "2022-06-10T01:23:10.040412Z",
     "shell.execute_reply.started": "2022-06-10T01:23:10.034426Z"
    },
    "tags": []
   },
   "outputs": [],
   "source": [
    "c1 = Component(lambda b,x: b-3+x, ('b','x'), ('a',))"
   ]
  },
  {
   "cell_type": "code",
   "execution_count": 99,
   "id": "4a694171-0030-4b0c-827c-845fa4d60f43",
   "metadata": {
    "execution": {
     "iopub.execute_input": "2022-06-10T01:23:12.952244Z",
     "iopub.status.busy": "2022-06-10T01:23:12.951247Z",
     "iopub.status.idle": "2022-06-10T01:23:12.967739Z",
     "shell.execute_reply": "2022-06-10T01:23:12.967739Z",
     "shell.execute_reply.started": "2022-06-10T01:23:12.952244Z"
    },
    "tags": []
   },
   "outputs": [],
   "source": [
    "c2 = Component(lambda a,x: x**2-a*x+1, ('a','x',))"
   ]
  },
  {
   "cell_type": "code",
   "execution_count": 100,
   "id": "f32d5f84-5608-4c26-bee9-2e8d5b0702f2",
   "metadata": {
    "execution": {
     "iopub.execute_input": "2022-06-10T01:23:13.154709Z",
     "iopub.status.busy": "2022-06-10T01:23:13.153390Z",
     "iopub.status.idle": "2022-06-10T01:23:13.169933Z",
     "shell.execute_reply": "2022-06-10T01:23:13.169933Z",
     "shell.execute_reply.started": "2022-06-10T01:23:13.154709Z"
    },
    "tags": []
   },
   "outputs": [],
   "source": [
    "components = [(c2.inputs, 'x', c2.evaldict, c2.graddict, 0.5)]"
   ]
  },
  {
   "cell_type": "code",
   "execution_count": 101,
   "id": "0dd13c44-4a9a-4370-84bd-6dd48dc670aa",
   "metadata": {
    "execution": {
     "iopub.execute_input": "2022-06-10T01:23:13.308427Z",
     "iopub.status.busy": "2022-06-10T01:23:13.308427Z",
     "iopub.status.idle": "2022-06-10T01:23:13.326324Z",
     "shell.execute_reply": "2022-06-10T01:23:13.326164Z",
     "shell.execute_reply.started": "2022-06-10T01:23:13.308427Z"
    },
    "tags": []
   },
   "outputs": [],
   "source": [
    "explicit_component = Expcomp(component=(c1.inputs, c1.outputs, c1.evaldict, c1.graddict), debug=False)\n",
    "implicit_component = Impcomp(components=components)"
   ]
  },
  {
   "cell_type": "code",
   "execution_count": 102,
   "id": "8cbebb5f-d594-4a89-8d24-a3ae55ffffc8",
   "metadata": {
    "execution": {
     "iopub.execute_input": "2022-06-10T01:23:13.443973Z",
     "iopub.status.busy": "2022-06-10T01:23:13.443973Z",
     "iopub.status.idle": "2022-06-10T01:23:13.451010Z",
     "shell.execute_reply": "2022-06-10T01:23:13.451010Z",
     "shell.execute_reply.started": "2022-06-10T01:23:13.443973Z"
    },
    "tags": []
   },
   "outputs": [],
   "source": [
    "prob = om.Problem()\n",
    "mdo_model = prob.model\n",
    "s1 = mdo_model.add_subsystem('s1', om.Group(), promotes=['*'])\n",
    "s1.add_subsystem('f1', explicit_component, promotes=['*']);\n",
    "s1.add_subsystem('f2', implicit_component, promotes=['*']);\n",
    "s1.linear_solver = om.DirectSolver()\n",
    "s1.nonlinear_solver = om.NewtonSolver(solve_subsystems=True)\n",
    "s1.nonlinear_solver.options['maxiter'] = 20"
   ]
  },
  {
   "cell_type": "code",
   "execution_count": 103,
   "id": "71082ad3-4d53-48d9-bb6b-60599c0bc550",
   "metadata": {
    "execution": {
     "iopub.execute_input": "2022-06-10T01:23:13.594413Z",
     "iopub.status.busy": "2022-06-10T01:23:13.594413Z",
     "iopub.status.idle": "2022-06-10T01:23:13.605412Z",
     "shell.execute_reply": "2022-06-10T01:23:13.605412Z",
     "shell.execute_reply.started": "2022-06-10T01:23:13.594413Z"
    },
    "tags": []
   },
   "outputs": [],
   "source": [
    "prob.setup();"
   ]
  },
  {
   "cell_type": "code",
   "execution_count": 104,
   "id": "b91c9534-1b96-49bd-b0ad-07e27c431897",
   "metadata": {
    "execution": {
     "iopub.execute_input": "2022-06-10T01:23:13.747601Z",
     "iopub.status.busy": "2022-06-10T01:23:13.746600Z",
     "iopub.status.idle": "2022-06-10T01:23:13.762599Z",
     "shell.execute_reply": "2022-06-10T01:23:13.762599Z",
     "shell.execute_reply.started": "2022-06-10T01:23:13.747601Z"
    },
    "tags": []
   },
   "outputs": [],
   "source": [
    "prob.set_val('b',0)"
   ]
  },
  {
   "cell_type": "code",
   "execution_count": 105,
   "id": "3c0b5b04-dfc5-4fc0-ac78-3744095e21bd",
   "metadata": {
    "execution": {
     "iopub.execute_input": "2022-06-10T01:23:14.076465Z",
     "iopub.status.busy": "2022-06-10T01:23:14.075455Z",
     "iopub.status.idle": "2022-06-10T01:23:14.120248Z",
     "shell.execute_reply": "2022-06-10T01:23:14.120248Z",
     "shell.execute_reply.started": "2022-06-10T01:23:14.076465Z"
    },
    "tags": []
   },
   "outputs": [
    {
     "name": "stdout",
     "output_type": "stream",
     "text": [
      "\n",
      "==\n",
      "s1\n",
      "==\n",
      "NL: Newton Converged in 1 iterations\n"
     ]
    }
   ],
   "source": [
    "prob.run_model()"
   ]
  },
  {
   "cell_type": "code",
   "execution_count": 106,
   "id": "c2765240-3c30-430c-912e-61e7c741898e",
   "metadata": {
    "execution": {
     "iopub.execute_input": "2022-06-10T01:23:15.202984Z",
     "iopub.status.busy": "2022-06-10T01:23:15.202984Z",
     "iopub.status.idle": "2022-06-10T01:23:15.210119Z",
     "shell.execute_reply": "2022-06-10T01:23:15.209978Z",
     "shell.execute_reply.started": "2022-06-10T01:23:15.202984Z"
    },
    "tags": []
   },
   "outputs": [
    {
     "name": "stdout",
     "output_type": "stream",
     "text": [
      "1 Explicit Output(s) in 'model'\n",
      "\n",
      "varname  val          \n",
      "-------  -------------\n",
      "s1\n",
      "  f1\n",
      "    a    [-3.33333333]\n",
      "\n",
      "\n",
      "1 Implicit Output(s) in 'model'\n",
      "\n",
      "varname  val          \n",
      "-------  -------------\n",
      "s1\n",
      "  f2\n",
      "    x    [-0.33333333]\n",
      "\n",
      "\n"
     ]
    }
   ],
   "source": [
    "prob.model.list_outputs();"
   ]
  }
 ],
 "metadata": {
  "kernelspec": {
   "display_name": "Python [conda env:mdo]",
   "language": "python",
   "name": "conda-env-mdo-py"
  },
  "language_info": {
   "codemirror_mode": {
    "name": "ipython",
    "version": 3
   },
   "file_extension": ".py",
   "mimetype": "text/x-python",
   "name": "python",
   "nbconvert_exporter": "python",
   "pygments_lexer": "ipython3",
   "version": "3.9.7"
  }
 },
 "nbformat": 4,
 "nbformat_minor": 5
}
