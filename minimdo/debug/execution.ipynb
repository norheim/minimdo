{
 "cells": [
  {
   "cell_type": "code",
   "execution_count": 1,
   "id": "752e7676-c30e-45b9-9ff2-c963e68fceb4",
   "metadata": {
    "execution": {
     "iopub.execute_input": "2022-06-21T19:43:17.120293Z",
     "iopub.status.busy": "2022-06-21T19:43:17.120293Z",
     "iopub.status.idle": "2022-06-21T19:43:18.525417Z",
     "shell.execute_reply": "2022-06-21T19:43:18.524797Z",
     "shell.execute_reply.started": "2022-06-21T19:43:17.120293Z"
    },
    "tags": []
   },
   "outputs": [],
   "source": [
    "from autograd import jacobian, grad\n",
    "from compute import Var\n",
    "import autograd.numpy as anp\n",
    "import numpy as np\n",
    "from itertools import chain"
   ]
  },
  {
   "cell_type": "code",
   "execution_count": 12,
   "id": "159f00e2-9acd-490f-9dc9-3d9272d9503b",
   "metadata": {
    "execution": {
     "iopub.execute_input": "2022-06-21T19:47:39.927234Z",
     "iopub.status.busy": "2022-06-21T19:47:39.927234Z",
     "iopub.status.idle": "2022-06-21T19:47:39.998956Z",
     "shell.execute_reply": "2022-06-21T19:47:39.998956Z",
     "shell.execute_reply.started": "2022-06-21T19:47:39.927234Z"
    },
    "tags": []
   },
   "outputs": [],
   "source": [
    "from execution import Component\n",
    "import jax.numpy as jnp\n",
    "from constants_balloon import Pinterp"
   ]
  },
  {
   "cell_type": "markdown",
   "id": "122ae7ed-e10c-4802-9887-62a31f706dcf",
   "metadata": {},
   "source": [
    "### JAX Interp"
   ]
  },
  {
   "cell_type": "code",
   "execution_count": 6,
   "id": "d243fa37-dad8-4e71-aa24-17754ccbc1c7",
   "metadata": {
    "execution": {
     "iopub.execute_input": "2022-06-21T19:45:36.880262Z",
     "iopub.status.busy": "2022-06-21T19:45:36.880262Z",
     "iopub.status.idle": "2022-06-21T19:45:36.888400Z",
     "shell.execute_reply": "2022-06-21T19:45:36.888400Z",
     "shell.execute_reply.started": "2022-06-21T19:45:36.880262Z"
    }
   },
   "outputs": [],
   "source": [
    "interp = lambda x: jnp.interp(x, np.array([0,1,2,3,4]), np.array([0,2,4,9,16]))"
   ]
  },
  {
   "cell_type": "code",
   "execution_count": 20,
   "id": "f59adf92-3e7c-4aed-aa56-bea011dad637",
   "metadata": {
    "execution": {
     "iopub.execute_input": "2022-06-21T19:48:50.350960Z",
     "iopub.status.busy": "2022-06-21T19:48:50.350960Z",
     "iopub.status.idle": "2022-06-21T19:48:50.359409Z",
     "shell.execute_reply": "2022-06-21T19:48:50.359409Z",
     "shell.execute_reply.started": "2022-06-21T19:48:50.350960Z"
    },
    "tags": []
   },
   "outputs": [],
   "source": [
    "c = Component(Pinterp, (1,), (2,), component=0)"
   ]
  },
  {
   "cell_type": "code",
   "execution_count": 21,
   "id": "fc7c3ff5-484b-4f8e-8d4c-e957c734a27e",
   "metadata": {
    "execution": {
     "iopub.execute_input": "2022-06-21T19:48:50.758623Z",
     "iopub.status.busy": "2022-06-21T19:48:50.758623Z",
     "iopub.status.idle": "2022-06-21T19:48:50.774562Z",
     "shell.execute_reply": "2022-06-21T19:48:50.774358Z",
     "shell.execute_reply.started": "2022-06-21T19:48:50.758623Z"
    },
    "tags": []
   },
   "outputs": [
    {
     "data": {
      "text/plain": [
       "((1,), 0, (2,), 'None')"
      ]
     },
     "execution_count": 21,
     "metadata": {},
     "output_type": "execute_result"
    }
   ],
   "source": [
    "c"
   ]
  },
  {
   "cell_type": "code",
   "execution_count": 18,
   "id": "4b3762b3-1880-4962-a603-431b4c86017a",
   "metadata": {
    "execution": {
     "iopub.execute_input": "2022-06-21T19:48:13.145823Z",
     "iopub.status.busy": "2022-06-21T19:48:13.145823Z",
     "iopub.status.idle": "2022-06-21T19:48:13.164511Z",
     "shell.execute_reply": "2022-06-21T19:48:13.164511Z",
     "shell.execute_reply.started": "2022-06-21T19:48:13.145823Z"
    },
    "tags": []
   },
   "outputs": [
    {
     "data": {
      "text/plain": [
       "{(2, 1): DeviceArray(-11.42, dtype=float64)}"
      ]
     },
     "execution_count": 18,
     "metadata": {},
     "output_type": "execute_result"
    }
   ],
   "source": [
    "c.graddict({1:2})"
   ]
  },
  {
   "cell_type": "code",
   "execution_count": 3,
   "id": "1101f995-5f1e-456e-a14a-7ee17e35ef22",
   "metadata": {
    "execution": {
     "iopub.execute_input": "2022-06-09T23:06:05.798718Z",
     "iopub.status.busy": "2022-06-09T23:06:05.798718Z",
     "iopub.status.idle": "2022-06-09T23:06:05.803905Z",
     "shell.execute_reply": "2022-06-09T23:06:05.803715Z",
     "shell.execute_reply.started": "2022-06-09T23:06:05.798718Z"
    },
    "tags": []
   },
   "outputs": [],
   "source": [
    "A = np.random.rand(2,2)\n",
    "b = np.random.rand(2)\n",
    "def fx(x,y):\n",
    "    return [y**2, b*x]\n",
    "inputs = (1,2)\n",
    "indims = (1,1)\n",
    "outputs = (3,4)\n",
    "outdims = (1,2)"
   ]
  },
  {
   "cell_type": "code",
   "execution_count": 4,
   "id": "b6d555a5-6f25-4f08-b245-60f2af586972",
   "metadata": {
    "execution": {
     "iopub.execute_input": "2022-06-09T23:06:06.461138Z",
     "iopub.status.busy": "2022-06-09T23:06:06.461138Z",
     "iopub.status.idle": "2022-06-09T23:06:06.479074Z",
     "shell.execute_reply": "2022-06-09T23:06:06.478928Z",
     "shell.execute_reply.started": "2022-06-09T23:06:06.461138Z"
    },
    "tags": []
   },
   "outputs": [],
   "source": [
    "c = Component(fx, inputs, outputs, 1, indims, outdims)"
   ]
  },
  {
   "cell_type": "code",
   "execution_count": 8,
   "id": "58a4c21e-cf1f-408e-a1bd-44ff28930fd7",
   "metadata": {
    "execution": {
     "iopub.execute_input": "2022-06-15T15:44:56.165735Z",
     "iopub.status.busy": "2022-06-15T15:44:56.165735Z",
     "iopub.status.idle": "2022-06-15T15:44:56.175464Z",
     "shell.execute_reply": "2022-06-15T15:44:56.175353Z",
     "shell.execute_reply.started": "2022-06-15T15:44:56.165735Z"
    },
    "tags": []
   },
   "outputs": [],
   "source": [
    "x,y = Var('x'), Var('y')"
   ]
  },
  {
   "cell_type": "code",
   "execution_count": 9,
   "id": "c17ee546-78c8-4af7-a568-81e49ec547b6",
   "metadata": {
    "execution": {
     "iopub.execute_input": "2022-06-15T15:44:56.350148Z",
     "iopub.status.busy": "2022-06-15T15:44:56.349156Z",
     "iopub.status.idle": "2022-06-15T15:44:56.361501Z",
     "shell.execute_reply": "2022-06-15T15:44:56.361063Z",
     "shell.execute_reply.started": "2022-06-15T15:44:56.349156Z"
    },
    "tags": []
   },
   "outputs": [],
   "source": [
    "import sympy as sp"
   ]
  },
  {
   "cell_type": "code",
   "execution_count": 10,
   "id": "335c2e69-a56b-4378-bce7-0fb9b20a0d73",
   "metadata": {
    "execution": {
     "iopub.execute_input": "2022-06-15T15:44:56.521983Z",
     "iopub.status.busy": "2022-06-15T15:44:56.521983Z",
     "iopub.status.idle": "2022-06-15T15:44:56.531865Z",
     "shell.execute_reply": "2022-06-15T15:44:56.531051Z",
     "shell.execute_reply.started": "2022-06-15T15:44:56.521983Z"
    },
    "tags": []
   },
   "outputs": [],
   "source": [
    "from execution import sympy_fx_inputs, anp_math"
   ]
  },
  {
   "cell_type": "code",
   "execution_count": 11,
   "id": "4d1ad58e-d670-46d4-9674-a885ba806812",
   "metadata": {
    "execution": {
     "iopub.execute_input": "2022-06-15T15:44:56.885770Z",
     "iopub.status.busy": "2022-06-15T15:44:56.885770Z",
     "iopub.status.idle": "2022-06-15T15:44:56.934213Z",
     "shell.execute_reply": "2022-06-15T15:44:56.933859Z",
     "shell.execute_reply.started": "2022-06-15T15:44:56.885770Z"
    },
    "tags": []
   },
   "outputs": [],
   "source": [
    "fx, ins, _ = sympy_fx_inputs(sp.acos(x/y))"
   ]
  },
  {
   "cell_type": "code",
   "execution_count": 26,
   "id": "01bf1035-0564-4a4c-9b4a-0fc4968f36ed",
   "metadata": {
    "execution": {
     "iopub.execute_input": "2022-06-15T15:40:44.307376Z",
     "iopub.status.busy": "2022-06-15T15:40:44.307376Z",
     "iopub.status.idle": "2022-06-15T15:40:44.316163Z",
     "shell.execute_reply": "2022-06-15T15:40:44.315471Z",
     "shell.execute_reply.started": "2022-06-15T15:40:44.307376Z"
    }
   },
   "outputs": [],
   "source": [
    "fx = sp.lambdify([y,x], sp.acos(x/y), anp_math)"
   ]
  },
  {
   "cell_type": "code",
   "execution_count": 12,
   "id": "775abd62-76f2-41d2-89c0-bf345e4e9e4f",
   "metadata": {
    "execution": {
     "iopub.execute_input": "2022-06-15T15:45:03.510445Z",
     "iopub.status.busy": "2022-06-15T15:45:03.510445Z",
     "iopub.status.idle": "2022-06-15T15:45:03.529059Z",
     "shell.execute_reply": "2022-06-15T15:45:03.528900Z",
     "shell.execute_reply.started": "2022-06-15T15:45:03.510445Z"
    },
    "tags": []
   },
   "outputs": [],
   "source": [
    "c3 = Component(fx, (1,2), component=1)"
   ]
  },
  {
   "cell_type": "code",
   "execution_count": 13,
   "id": "c7578964-4d02-4dc5-a59e-0cd98a18d576",
   "metadata": {
    "execution": {
     "iopub.execute_input": "2022-06-15T15:45:04.083030Z",
     "iopub.status.busy": "2022-06-15T15:45:04.083030Z",
     "iopub.status.idle": "2022-06-15T15:45:04.106719Z",
     "shell.execute_reply": "2022-06-15T15:45:04.106216Z",
     "shell.execute_reply.started": "2022-06-15T15:45:04.083030Z"
    },
    "tags": []
   },
   "outputs": [
    {
     "name": "stderr",
     "output_type": "stream",
     "text": [
      "C:\\Users\\johan\\miniconda3\\envs\\mdo\\lib\\site-packages\\autograd\\tracer.py:48: RuntimeWarning: invalid value encountered in arccos\n",
      "  return f_raw(*args, **kwargs)\n",
      "C:\\Users\\johan\\miniconda3\\envs\\mdo\\lib\\site-packages\\autograd\\tracer.py:48: RuntimeWarning: invalid value encountered in sqrt\n",
      "  return f_raw(*args, **kwargs)\n"
     ]
    },
    {
     "data": {
      "text/plain": [
       "{1: array(nan), 2: array(nan)}"
      ]
     },
     "execution_count": 13,
     "metadata": {},
     "output_type": "execute_result"
    }
   ],
   "source": [
    "c3.gradient(2,1)"
   ]
  },
  {
   "cell_type": "code",
   "execution_count": 6,
   "id": "fda5f724-b507-4516-88d5-ead73602da27",
   "metadata": {
    "execution": {
     "iopub.execute_input": "2022-06-15T15:34:22.964125Z",
     "iopub.status.busy": "2022-06-15T15:34:22.963125Z",
     "iopub.status.idle": "2022-06-15T15:34:22.980332Z",
     "shell.execute_reply": "2022-06-15T15:34:22.980332Z",
     "shell.execute_reply.started": "2022-06-15T15:34:22.964125Z"
    },
    "tags": []
   },
   "outputs": [],
   "source": [
    "c2 = Component(lambda x,y: anp.arccos(x/y), (1,2), component=1)"
   ]
  },
  {
   "cell_type": "code",
   "execution_count": 14,
   "id": "1ffce299-747a-4d69-b7cc-9fd23a119c3b",
   "metadata": {
    "execution": {
     "iopub.execute_input": "2022-06-15T15:45:17.151942Z",
     "iopub.status.busy": "2022-06-15T15:45:17.151942Z",
     "iopub.status.idle": "2022-06-15T15:45:17.166211Z",
     "shell.execute_reply": "2022-06-15T15:45:17.165236Z",
     "shell.execute_reply.started": "2022-06-15T15:45:17.151942Z"
    },
    "tags": []
   },
   "outputs": [],
   "source": [
    "c1 = Component.fromsympy(sp.acos(x/y))"
   ]
  },
  {
   "cell_type": "code",
   "execution_count": 16,
   "id": "e735bff9-8580-45c6-8ec9-b2c93cadca2e",
   "metadata": {
    "execution": {
     "iopub.execute_input": "2022-06-15T15:45:18.842055Z",
     "iopub.status.busy": "2022-06-15T15:45:18.842055Z",
     "iopub.status.idle": "2022-06-15T15:45:18.848007Z",
     "shell.execute_reply": "2022-06-15T15:45:18.847931Z",
     "shell.execute_reply.started": "2022-06-15T15:45:18.842055Z"
    },
    "tags": []
   },
   "outputs": [
    {
     "data": {
      "text/plain": [
       "{'x': array(-0.57735027), 'y': array(0.28867513)}"
      ]
     },
     "execution_count": 16,
     "metadata": {},
     "output_type": "execute_result"
    }
   ],
   "source": [
    "c1.gradient(1,2)"
   ]
  },
  {
   "cell_type": "code",
   "execution_count": 8,
   "id": "d7623503-d8df-427b-893e-77469aa490bc",
   "metadata": {
    "execution": {
     "iopub.execute_input": "2022-06-15T15:34:23.758312Z",
     "iopub.status.busy": "2022-06-15T15:34:23.758312Z",
     "iopub.status.idle": "2022-06-15T15:34:23.777730Z",
     "shell.execute_reply": "2022-06-15T15:34:23.776826Z",
     "shell.execute_reply.started": "2022-06-15T15:34:23.758312Z"
    },
    "tags": []
   },
   "outputs": [
    {
     "data": {
      "text/plain": [
       "{1: array(-0.57735027), 2: array(0.28867513)}"
      ]
     },
     "execution_count": 8,
     "metadata": {},
     "output_type": "execute_result"
    }
   ],
   "source": [
    "c2.gradient(1,2)"
   ]
  },
  {
   "cell_type": "code",
   "execution_count": 8,
   "id": "7b726d0c-3f81-485d-abb3-2871249cca32",
   "metadata": {
    "execution": {
     "iopub.execute_input": "2022-06-09T23:06:09.450638Z",
     "iopub.status.busy": "2022-06-09T23:06:09.449716Z",
     "iopub.status.idle": "2022-06-09T23:06:09.461130Z",
     "shell.execute_reply": "2022-06-09T23:06:09.460563Z",
     "shell.execute_reply.started": "2022-06-09T23:06:09.450638Z"
    },
    "tags": []
   },
   "outputs": [
    {
     "data": {
      "text/plain": [
       "{(3, 1): array(0.),\n",
       " (3, 2): array(8.),\n",
       " (4, 1): array([0.31196224, 0.81263473]),\n",
       " (4, 2): array([0., 0.])}"
      ]
     },
     "execution_count": 8,
     "metadata": {},
     "output_type": "execute_result"
    }
   ],
   "source": [
    "c.graddict({1:3, 2:4})"
   ]
  },
  {
   "cell_type": "markdown",
   "id": "b4498b04-ef15-4def-89ae-5479d7001c6c",
   "metadata": {},
   "source": [
    "# Format of functions\n"
   ]
  },
  {
   "cell_type": "markdown",
   "id": "7341099c-b2a7-468f-b57c-a521379af7fe",
   "metadata": {},
   "source": [
    "Compliant"
   ]
  },
  {
   "cell_type": "markdown",
   "id": "20a0fb33-d1da-43b5-b338-05fbd3e0685a",
   "metadata": {},
   "source": [
    "Options for inputs and outputs:\n",
    "* List of arguments, where each argument has a size\n",
    "* A numpy array that flattens all arguments \n",
    "\n",
    "Based on option 1) "
   ]
  },
  {
   "cell_type": "code",
   "execution_count": 4,
   "id": "33150ab5-0d11-498d-aa8c-eb1e78dcfdfe",
   "metadata": {
    "execution": {
     "iopub.execute_input": "2022-04-07T01:01:57.898181Z",
     "iopub.status.busy": "2022-04-07T01:01:57.898181Z",
     "iopub.status.idle": "2022-04-07T01:01:57.909297Z",
     "shell.execute_reply": "2022-04-07T01:01:57.908711Z",
     "shell.execute_reply.started": "2022-04-07T01:01:57.898181Z"
    },
    "tags": []
   },
   "outputs": [],
   "source": [
    "def fx(*x: list) -> list:\n",
    "    return [sum(x)]"
   ]
  },
  {
   "cell_type": "code",
   "execution_count": 5,
   "id": "83312dd0-3693-48aa-a040-c707fa1747a9",
   "metadata": {
    "execution": {
     "iopub.execute_input": "2022-04-07T01:01:58.379359Z",
     "iopub.status.busy": "2022-04-07T01:01:58.378846Z",
     "iopub.status.idle": "2022-04-07T01:01:58.389262Z",
     "shell.execute_reply": "2022-04-07T01:01:58.389127Z",
     "shell.execute_reply.started": "2022-04-07T01:01:58.379359Z"
    },
    "tags": []
   },
   "outputs": [],
   "source": [
    "inputs = (1,2,3)\n",
    "indims = (1,1,4)\n",
    "outputs = (4,5)\n",
    "outdims = (4,2)"
   ]
  },
  {
   "cell_type": "code",
   "execution_count": 6,
   "id": "46856715-0b39-4836-8b72-43c76a2d0695",
   "metadata": {
    "execution": {
     "iopub.execute_input": "2022-04-07T01:01:58.657437Z",
     "iopub.status.busy": "2022-04-07T01:01:58.657437Z",
     "iopub.status.idle": "2022-04-07T01:01:58.670057Z",
     "shell.execute_reply": "2022-04-07T01:01:58.670057Z",
     "shell.execute_reply.started": "2022-04-07T01:01:58.657437Z"
    },
    "tags": []
   },
   "outputs": [],
   "source": [
    "def fx(a,b,c):\n",
    "    return [a+2*b+3*c] #np.array((1,2))"
   ]
  },
  {
   "cell_type": "code",
   "execution_count": 265,
   "id": "b4aa2408-6dc6-4650-a3a5-a108c1c38e66",
   "metadata": {
    "execution": {
     "iopub.execute_input": "2022-04-07T01:31:03.109766Z",
     "iopub.status.busy": "2022-04-07T01:31:03.109766Z",
     "iopub.status.idle": "2022-04-07T01:31:03.118827Z",
     "shell.execute_reply": "2022-04-07T01:31:03.117933Z",
     "shell.execute_reply.started": "2022-04-07T01:31:03.109766Z"
    },
    "tags": []
   },
   "outputs": [],
   "source": [
    "A = np.random.rand(2,2)\n",
    "b = np.random.rand(2)\n",
    "def fx(x):\n",
    "    return [x**2]\n",
    "inputs = (1,)\n",
    "indims = (1,)\n",
    "outputs = (2,)\n",
    "outdims = (1,)"
   ]
  },
  {
   "cell_type": "code",
   "execution_count": 273,
   "id": "8eecb421-4846-4e69-ae56-0a56410b2ad1",
   "metadata": {
    "execution": {
     "iopub.execute_input": "2022-04-07T01:31:16.951646Z",
     "iopub.status.busy": "2022-04-07T01:31:16.951646Z",
     "iopub.status.idle": "2022-04-07T01:31:16.968131Z",
     "shell.execute_reply": "2022-04-07T01:31:16.967904Z",
     "shell.execute_reply.started": "2022-04-07T01:31:16.951646Z"
    },
    "tags": []
   },
   "outputs": [],
   "source": [
    "xin = np.array((1.,2.))\n",
    "xin = 1."
   ]
  },
  {
   "cell_type": "code",
   "execution_count": 274,
   "id": "df90561b-64b6-4fac-8ba8-fb7e2094442b",
   "metadata": {
    "execution": {
     "iopub.execute_input": "2022-04-07T01:31:17.128751Z",
     "iopub.status.busy": "2022-04-07T01:31:17.128751Z",
     "iopub.status.idle": "2022-04-07T01:31:17.145363Z",
     "shell.execute_reply": "2022-04-07T01:31:17.144219Z",
     "shell.execute_reply.started": "2022-04-07T01:31:17.128751Z"
    },
    "tags": []
   },
   "outputs": [],
   "source": [
    "inargs = [xin]"
   ]
  },
  {
   "cell_type": "code",
   "execution_count": 275,
   "id": "cfcd282c-3329-4664-9d25-1e895a79ab54",
   "metadata": {
    "execution": {
     "iopub.execute_input": "2022-04-07T01:31:17.278150Z",
     "iopub.status.busy": "2022-04-07T01:31:17.278150Z",
     "iopub.status.idle": "2022-04-07T01:31:17.304212Z",
     "shell.execute_reply": "2022-04-07T01:31:17.303750Z",
     "shell.execute_reply.started": "2022-04-07T01:31:17.278150Z"
    },
    "tags": []
   },
   "outputs": [],
   "source": [
    "f = lambda x: anp.hstack(fx(*anp.split(x, anp.cumsum(indims[:-1]))))\n",
    "g = jacobian(f)"
   ]
  },
  {
   "cell_type": "code",
   "execution_count": 276,
   "id": "62133585-eed5-403c-a5a6-b5e89fdd8cd7",
   "metadata": {
    "execution": {
     "iopub.execute_input": "2022-04-07T01:31:17.447517Z",
     "iopub.status.busy": "2022-04-07T01:31:17.447517Z",
     "iopub.status.idle": "2022-04-07T01:31:17.459342Z",
     "shell.execute_reply": "2022-04-07T01:31:17.458343Z",
     "shell.execute_reply.started": "2022-04-07T01:31:17.447517Z"
    },
    "tags": []
   },
   "outputs": [
    {
     "data": {
      "text/plain": [
       "array([1., 2.])"
      ]
     },
     "execution_count": 276,
     "metadata": {},
     "output_type": "execute_result"
    }
   ],
   "source": [
    "ins"
   ]
  },
  {
   "cell_type": "code",
   "execution_count": 277,
   "id": "04a4cd9c-74ba-454c-9802-14cd165f20a7",
   "metadata": {
    "execution": {
     "iopub.execute_input": "2022-04-07T01:31:17.727021Z",
     "iopub.status.busy": "2022-04-07T01:31:17.726494Z",
     "iopub.status.idle": "2022-04-07T01:31:17.732260Z",
     "shell.execute_reply": "2022-04-07T01:31:17.730975Z",
     "shell.execute_reply.started": "2022-04-07T01:31:17.727021Z"
    },
    "tags": []
   },
   "outputs": [],
   "source": [
    "ins = np.hstack(inargs).astype(float)\n",
    "jout = g(ins)"
   ]
  },
  {
   "cell_type": "code",
   "execution_count": 278,
   "id": "a638f6c5-f06f-4fc5-ae5c-9416bb71e875",
   "metadata": {
    "execution": {
     "iopub.execute_input": "2022-04-07T01:31:17.972328Z",
     "iopub.status.busy": "2022-04-07T01:31:17.972328Z",
     "iopub.status.idle": "2022-04-07T01:31:17.997087Z",
     "shell.execute_reply": "2022-04-07T01:31:17.996433Z",
     "shell.execute_reply.started": "2022-04-07T01:31:17.972328Z"
    },
    "tags": []
   },
   "outputs": [
    {
     "data": {
      "text/plain": [
       "array([[2.]])"
      ]
     },
     "execution_count": 278,
     "metadata": {},
     "output_type": "execute_result"
    }
   ],
   "source": [
    "jout"
   ]
  },
  {
   "cell_type": "code",
   "execution_count": 279,
   "id": "edf5682f-a660-455d-a0df-3c928d8960c9",
   "metadata": {
    "execution": {
     "iopub.execute_input": "2022-04-07T01:31:18.257395Z",
     "iopub.status.busy": "2022-04-07T01:31:18.257395Z",
     "iopub.status.idle": "2022-04-07T01:31:18.282786Z",
     "shell.execute_reply": "2022-04-07T01:31:18.281767Z",
     "shell.execute_reply.started": "2022-04-07T01:31:18.257395Z"
    },
    "tags": []
   },
   "outputs": [
    {
     "data": {
      "text/plain": [
       "{(2, 1): array([[2.]])}"
      ]
     },
     "execution_count": 279,
     "metadata": {},
     "output_type": "execute_result"
    }
   ],
   "source": [
    "{(outvr, invr):grad for outvr,grads in zip(outputs, np.split(jout, outdims[:-1], axis=0)) for invr,grad in zip(inputs, np.split(grads, np.cumsum(indims[:-1]), axis=1))}"
   ]
  },
  {
   "cell_type": "code",
   "execution_count": 310,
   "id": "67df836f-0191-410a-b97f-bf5be2b2833b",
   "metadata": {
    "execution": {
     "iopub.execute_input": "2022-04-07T01:54:36.646960Z",
     "iopub.status.busy": "2022-04-07T01:54:36.646960Z",
     "iopub.status.idle": "2022-04-07T01:54:36.671778Z",
     "shell.execute_reply": "2022-04-07T01:54:36.671169Z",
     "shell.execute_reply.started": "2022-04-07T01:54:36.646960Z"
    }
   },
   "outputs": [
    {
     "data": {
      "text/plain": [
       "(0, 1, 2)"
      ]
     },
     "execution_count": 310,
     "metadata": {},
     "output_type": "execute_result"
    }
   ],
   "source": [
    "tuple(range(3))"
   ]
  },
  {
   "cell_type": "code",
   "execution_count": 6,
   "id": "d6704e8b-4921-46f2-9b79-3edde95b536a",
   "metadata": {
    "execution": {
     "iopub.execute_input": "2022-04-07T01:58:31.393170Z",
     "iopub.status.busy": "2022-04-07T01:58:31.391078Z",
     "iopub.status.idle": "2022-04-07T01:58:31.404361Z",
     "shell.execute_reply": "2022-04-07T01:58:31.402923Z",
     "shell.execute_reply.started": "2022-04-07T01:58:31.393170Z"
    },
    "tags": []
   },
   "outputs": [],
   "source": [
    "def generate_grad(fx, inputs, outputs, indims, outdims):\n",
    "    f = lambda x: anp.hstack(fx(*anp.split(x, anp.cumsum(indims[:-1]))))\n",
    "    g = jacobian(f)\n",
    "    def getgrad(*inargs):\n",
    "        ins = np.hstack(inargs).astype(float)\n",
    "        jout = g(ins)\n",
    "        outsplit = zip(outputs, np.split(jout, outdims[:-1], axis=0))\n",
    "        insplit = lambda grads: zip(inputs, np.split(grads, np.cumsum(indims[:-1]), axis=1))\n",
    "        return {(outvr, invr):np.squeeze(grad) for outvr,grads in outsplit for invr,grad in insplit(grads)}\n",
    "    return getgrad"
   ]
  },
  {
   "cell_type": "code",
   "execution_count": 5,
   "id": "67a45b80-3a77-47ab-8243-2d7141bfe786",
   "metadata": {
    "execution": {
     "iopub.execute_input": "2022-04-07T01:58:28.046231Z",
     "iopub.status.busy": "2022-04-07T01:58:28.046231Z",
     "iopub.status.idle": "2022-04-07T01:58:28.070197Z",
     "shell.execute_reply": "2022-04-07T01:58:28.069029Z",
     "shell.execute_reply.started": "2022-04-07T01:58:28.046231Z"
    },
    "tags": []
   },
   "outputs": [],
   "source": [
    "A = np.random.rand(2,2)\n",
    "b = np.random.rand(2)\n",
    "def fx(x):\n",
    "    return [x**2, b*x]\n",
    "inputs = (1,)\n",
    "indims = (1,)\n",
    "outputs = (2,3)\n",
    "outdims = (1,2)"
   ]
  },
  {
   "cell_type": "code",
   "execution_count": 306,
   "id": "13d4eed2-e13c-4d1e-b92d-0f988483ef1d",
   "metadata": {
    "execution": {
     "iopub.execute_input": "2022-04-07T01:33:58.232837Z",
     "iopub.status.busy": "2022-04-07T01:33:58.232837Z",
     "iopub.status.idle": "2022-04-07T01:33:58.249644Z",
     "shell.execute_reply": "2022-04-07T01:33:58.248492Z",
     "shell.execute_reply.started": "2022-04-07T01:33:58.232837Z"
    },
    "tags": []
   },
   "outputs": [],
   "source": [
    "gfx = generate_grad(fx, inputs, outputs, indims, outdims)"
   ]
  },
  {
   "cell_type": "code",
   "execution_count": 309,
   "id": "c67f9c30-56b2-42d8-ad62-1b62c59bf446",
   "metadata": {
    "execution": {
     "iopub.execute_input": "2022-04-07T01:38:43.973838Z",
     "iopub.status.busy": "2022-04-07T01:38:43.973838Z",
     "iopub.status.idle": "2022-04-07T01:38:43.992692Z",
     "shell.execute_reply": "2022-04-07T01:38:43.991686Z",
     "shell.execute_reply.started": "2022-04-07T01:38:43.973838Z"
    },
    "tags": []
   },
   "outputs": [
    {
     "data": {
      "text/plain": [
       "{(2, 1): array(2.), (3, 1): array([0.83731709, 0.85514987])}"
      ]
     },
     "execution_count": 309,
     "metadata": {},
     "output_type": "execute_result"
    }
   ],
   "source": [
    "gfx(1.0)"
   ]
  },
  {
   "cell_type": "code",
   "execution_count": 9,
   "id": "ca23cbf3-ab92-45c3-91ea-463d1448acea",
   "metadata": {
    "execution": {
     "iopub.execute_input": "2022-04-07T01:59:13.054701Z",
     "iopub.status.busy": "2022-04-07T01:59:13.054701Z",
     "iopub.status.idle": "2022-04-07T01:59:13.073200Z",
     "shell.execute_reply": "2022-04-07T01:59:13.073200Z",
     "shell.execute_reply.started": "2022-04-07T01:59:13.054701Z"
    },
    "tags": []
   },
   "outputs": [
    {
     "data": {
      "text/plain": [
       "[1.0, array([0.76388878, 0.09116283])]"
      ]
     },
     "execution_count": 9,
     "metadata": {},
     "output_type": "execute_result"
    }
   ],
   "source": [
    "c.function(1.0)"
   ]
  },
  {
   "cell_type": "code",
   "execution_count": 238,
   "id": "a855a2b1-2fec-4bf6-8f83-6aa1fd3f83c0",
   "metadata": {
    "execution": {
     "iopub.execute_input": "2022-04-07T00:02:41.200820Z",
     "iopub.status.busy": "2022-04-07T00:02:41.200820Z",
     "iopub.status.idle": "2022-04-07T00:02:41.215865Z",
     "shell.execute_reply": "2022-04-07T00:02:41.214825Z",
     "shell.execute_reply.started": "2022-04-07T00:02:41.200820Z"
    },
    "tags": []
   },
   "outputs": [],
   "source": [
    "inargs = (1,1,np.array((1,2,3,4)))"
   ]
  },
  {
   "cell_type": "code",
   "execution_count": 236,
   "id": "25aca277-3fed-43ba-b2c1-17b1a8ad3357",
   "metadata": {
    "execution": {
     "iopub.execute_input": "2022-04-07T00:02:11.548268Z",
     "iopub.status.busy": "2022-04-07T00:02:11.548268Z",
     "iopub.status.idle": "2022-04-07T00:02:11.567825Z",
     "shell.execute_reply": "2022-04-07T00:02:11.566131Z",
     "shell.execute_reply.started": "2022-04-07T00:02:11.548268Z"
    },
    "tags": []
   },
   "outputs": [
    {
     "data": {
      "text/plain": [
       "[array([3, 4, 5, 6]), array([1, 2])]"
      ]
     },
     "execution_count": 236,
     "metadata": {},
     "output_type": "execute_result"
    }
   ],
   "source": [
    "fx(1,1,np.array((1,2,3,4)))"
   ]
  },
  {
   "cell_type": "code",
   "execution_count": 212,
   "id": "f4abee82-930f-472b-8e9e-1ae3b55b8532",
   "metadata": {
    "execution": {
     "iopub.execute_input": "2022-04-06T18:40:28.724639Z",
     "iopub.status.busy": "2022-04-06T18:40:28.724639Z",
     "iopub.status.idle": "2022-04-06T18:40:28.736223Z",
     "shell.execute_reply": "2022-04-06T18:40:28.735591Z",
     "shell.execute_reply.started": "2022-04-06T18:40:28.724639Z"
    },
    "tags": []
   },
   "outputs": [],
   "source": [
    "fx1 = lambda a,b,c: [a+b+c]\n",
    "fx2 = lambda *x: [x[0]*x[1]]\n",
    "fx3 = lambda x: [x+1]"
   ]
  },
  {
   "cell_type": "code",
   "execution_count": 225,
   "id": "8fdfecde-9c67-4ebe-bf88-84da0fd449dc",
   "metadata": {
    "execution": {
     "iopub.execute_input": "2022-04-06T19:22:42.119072Z",
     "iopub.status.busy": "2022-04-06T19:22:42.119072Z",
     "iopub.status.idle": "2022-04-06T19:22:42.138498Z",
     "shell.execute_reply": "2022-04-06T19:22:42.138498Z",
     "shell.execute_reply.started": "2022-04-06T19:22:42.119072Z"
    },
    "tags": []
   },
   "outputs": [
    {
     "data": {
      "text/plain": [
       "array([1., 1.])"
      ]
     },
     "execution_count": 225,
     "metadata": {},
     "output_type": "execute_result"
    }
   ],
   "source": [
    "f = lambda x: x[0]+x[1]\n",
    "g = grad(f)\n",
    "g(anp.array([1.,2.]), 1.0)"
   ]
  },
  {
   "cell_type": "markdown",
   "id": "1947e605-0fd3-4480-987a-0f436d8cf973",
   "metadata": {},
   "source": [
    "Non compliant"
   ]
  },
  {
   "cell_type": "code",
   "execution_count": 213,
   "id": "a0a02a2a-ca88-4c9f-9ac5-62615e3211ee",
   "metadata": {
    "execution": {
     "iopub.execute_input": "2022-04-06T18:40:29.965180Z",
     "iopub.status.busy": "2022-04-06T18:40:29.964176Z",
     "iopub.status.idle": "2022-04-06T18:40:29.982294Z",
     "shell.execute_reply": "2022-04-06T18:40:29.981785Z",
     "shell.execute_reply.started": "2022-04-06T18:40:29.964176Z"
    },
    "tags": []
   },
   "outputs": [],
   "source": [
    "fx4 = lambda a,b,c: a+b+c # output is not list\n",
    "fx5 = lambda x: [x[0]*x[1]] # input would be a list"
   ]
  },
  {
   "cell_type": "code",
   "execution_count": 194,
   "id": "3e79ae25-1ed2-47e0-b6ca-4c59ba4d0182",
   "metadata": {
    "execution": {
     "iopub.execute_input": "2022-04-06T18:02:04.601970Z",
     "iopub.status.busy": "2022-04-06T18:02:04.601970Z",
     "iopub.status.idle": "2022-04-06T18:02:04.614324Z",
     "shell.execute_reply": "2022-04-06T18:02:04.614174Z",
     "shell.execute_reply.started": "2022-04-06T18:02:04.601970Z"
    },
    "tags": []
   },
   "outputs": [
    {
     "data": {
      "text/plain": [
       "array([2])"
      ]
     },
     "execution_count": 194,
     "metadata": {},
     "output_type": "execute_result"
    }
   ],
   "source": [
    "fx(np.array([1]))"
   ]
  },
  {
   "cell_type": "code",
   "execution_count": 14,
   "id": "60ed0233-e05b-4e82-adbc-feac6ea657b8",
   "metadata": {
    "execution": {
     "iopub.execute_input": "2022-04-06T15:52:12.987673Z",
     "iopub.status.busy": "2022-04-06T15:52:12.987673Z",
     "iopub.status.idle": "2022-04-06T15:52:12.994791Z",
     "shell.execute_reply": "2022-04-06T15:52:12.994234Z",
     "shell.execute_reply.started": "2022-04-06T15:52:12.987673Z"
    },
    "tags": []
   },
   "outputs": [],
   "source": [
    "from compute import ureg\n",
    "from unitutils import get_unit_multiplier"
   ]
  },
  {
   "cell_type": "code",
   "execution_count": 4,
   "id": "4520449e-68c3-4686-86bd-547a6914c3ce",
   "metadata": {
    "execution": {
     "iopub.execute_input": "2022-04-06T15:51:24.544066Z",
     "iopub.status.busy": "2022-04-06T15:51:24.544066Z",
     "iopub.status.idle": "2022-04-06T15:51:24.559062Z",
     "shell.execute_reply": "2022-04-06T15:51:24.559062Z",
     "shell.execute_reply.started": "2022-04-06T15:51:24.544066Z"
    },
    "tags": []
   },
   "outputs": [],
   "source": [
    "fx = lambda x: x[0]+x[1]+x[2]\n",
    "g = grad(fx)"
   ]
  },
  {
   "cell_type": "code",
   "execution_count": 5,
   "id": "d420a4c6-a98f-4541-bc0f-f85085139aa6",
   "metadata": {
    "execution": {
     "iopub.execute_input": "2022-04-06T15:51:24.560063Z",
     "iopub.status.busy": "2022-04-06T15:51:24.560063Z",
     "iopub.status.idle": "2022-04-06T15:51:24.575879Z",
     "shell.execute_reply": "2022-04-06T15:51:24.575061Z",
     "shell.execute_reply.started": "2022-04-06T15:51:24.560063Z"
    },
    "tags": []
   },
   "outputs": [],
   "source": [
    "vector_fun = lambda x: anp.array([x[0]+x[1]+x[2], x[0]+x[2]])\n",
    "\n",
    "x = np.random.randn(3)\n",
    "jac = jacobian(vector_fun)(x)"
   ]
  },
  {
   "cell_type": "code",
   "execution_count": 6,
   "id": "cdcbdc40-fbf0-4b55-835a-aed0550a17aa",
   "metadata": {
    "execution": {
     "iopub.execute_input": "2022-04-06T15:51:24.575879Z",
     "iopub.status.busy": "2022-04-06T15:51:24.575879Z",
     "iopub.status.idle": "2022-04-06T15:51:24.591066Z",
     "shell.execute_reply": "2022-04-06T15:51:24.590075Z",
     "shell.execute_reply.started": "2022-04-06T15:51:24.575879Z"
    },
    "tags": []
   },
   "outputs": [
    {
     "data": {
      "text/plain": [
       "array([[1., 1., 1.],\n",
       "       [1., 0., 1.]])"
      ]
     },
     "execution_count": 6,
     "metadata": {},
     "output_type": "execute_result"
    }
   ],
   "source": [
    "jac"
   ]
  },
  {
   "cell_type": "markdown",
   "id": "5ca1ec7c-bfa1-4e78-b5e3-2fd604c7af83",
   "metadata": {},
   "source": [
    "# Components\n",
    "Different examples of using components"
   ]
  },
  {
   "cell_type": "markdown",
   "id": "f4682de0-c0ba-4aa3-8fa3-1330a95f309e",
   "metadata": {},
   "source": [
    "## Plain"
   ]
  },
  {
   "cell_type": "code",
   "execution_count": 7,
   "id": "4bc948e3-9d42-4c7d-9cb8-a24b015ffe9d",
   "metadata": {
    "execution": {
     "iopub.execute_input": "2022-04-06T15:51:24.591066Z",
     "iopub.status.busy": "2022-04-06T15:51:24.591066Z",
     "iopub.status.idle": "2022-04-06T15:51:24.606667Z",
     "shell.execute_reply": "2022-04-06T15:51:24.606152Z",
     "shell.execute_reply.started": "2022-04-06T15:51:24.591066Z"
    },
    "tags": []
   },
   "outputs": [],
   "source": [
    "vector_fun = lambda *x: anp.array([(x[0]+x[1])*x[2], x[0]+x[1]])"
   ]
  },
  {
   "cell_type": "code",
   "execution_count": 8,
   "id": "c232ecfa-9877-4be6-8921-373245be7632",
   "metadata": {
    "execution": {
     "iopub.execute_input": "2022-04-06T15:51:24.607678Z",
     "iopub.status.busy": "2022-04-06T15:51:24.607678Z",
     "iopub.status.idle": "2022-04-06T15:51:24.621052Z",
     "shell.execute_reply": "2022-04-06T15:51:24.621052Z",
     "shell.execute_reply.started": "2022-04-06T15:51:24.607678Z"
    },
    "tags": []
   },
   "outputs": [],
   "source": [
    "# Inputs should not be same as outputs!\n",
    "inputs = (1,2,3)\n",
    "outputs = (4,5)\n",
    "c1 = Component(vector_fun, inputs, outputs, 1)"
   ]
  },
  {
   "cell_type": "code",
   "execution_count": 9,
   "id": "fa2f37bf-1364-41c4-b585-9dbde948fedd",
   "metadata": {
    "execution": {
     "iopub.execute_input": "2022-04-06T15:51:25.316010Z",
     "iopub.status.busy": "2022-04-06T15:51:25.316010Z",
     "iopub.status.idle": "2022-04-06T15:51:25.335534Z",
     "shell.execute_reply": "2022-04-06T15:51:25.334530Z",
     "shell.execute_reply.started": "2022-04-06T15:51:25.316010Z"
    },
    "tags": []
   },
   "outputs": [
    {
     "data": {
      "text/plain": [
       "array([[3., 3., 6.],\n",
       "       [1., 1., 0.]])"
      ]
     },
     "execution_count": 9,
     "metadata": {},
     "output_type": "execute_result"
    }
   ],
   "source": [
    "c1.jacobian(np.array([2.,4.,3.]))"
   ]
  },
  {
   "cell_type": "code",
   "execution_count": 10,
   "id": "82fbd138-af3a-44a3-b13a-a94f1151a537",
   "metadata": {
    "execution": {
     "iopub.execute_input": "2022-04-06T15:51:25.714773Z",
     "iopub.status.busy": "2022-04-06T15:51:25.713781Z",
     "iopub.status.idle": "2022-04-06T15:51:25.723848Z",
     "shell.execute_reply": "2022-04-06T15:51:25.723658Z",
     "shell.execute_reply.started": "2022-04-06T15:51:25.714773Z"
    },
    "tags": []
   },
   "outputs": [
    {
     "data": {
      "text/plain": [
       "array([18,  6])"
      ]
     },
     "execution_count": 10,
     "metadata": {},
     "output_type": "execute_result"
    }
   ],
   "source": [
    "c1.evaldict({1: 2, 2:4, 3:3})"
   ]
  },
  {
   "cell_type": "markdown",
   "id": "c1282fd1-9063-411c-9a77-195e881c1836",
   "metadata": {},
   "source": [
    "## Inputs and outputs with units"
   ]
  },
  {
   "cell_type": "code",
   "execution_count": 143,
   "id": "fd93557a-6fe6-4184-a193-4ba3513d3061",
   "metadata": {
    "execution": {
     "iopub.execute_input": "2022-04-06T17:28:01.389002Z",
     "iopub.status.busy": "2022-04-06T17:28:01.388010Z",
     "iopub.status.idle": "2022-04-06T17:28:01.398396Z",
     "shell.execute_reply": "2022-04-06T17:28:01.398396Z",
     "shell.execute_reply.started": "2022-04-06T17:28:01.389002Z"
    },
    "tags": []
   },
   "outputs": [],
   "source": [
    "inputs = (1,2,3) #The order is critical\n",
    "# we describe inunits as a dictionary to decouple from inputs\n",
    "inunits = {1:'kg', 2: 'g', 3:'m/s^2'}\n",
    "outputs = (4,5)\n",
    "outunits = {4:'N', 5:'g'}\n",
    "outputs = (4,)\n",
    "outunits = {4:'N'}"
   ]
  },
  {
   "cell_type": "code",
   "execution_count": 153,
   "id": "d30efde9-9004-453d-a032-636100d89eca",
   "metadata": {
    "execution": {
     "iopub.execute_input": "2022-04-06T17:29:00.102452Z",
     "iopub.status.busy": "2022-04-06T17:29:00.102452Z",
     "iopub.status.idle": "2022-04-06T17:29:00.112082Z",
     "shell.execute_reply": "2022-04-06T17:29:00.111600Z",
     "shell.execute_reply.started": "2022-04-06T17:29:00.102452Z"
    },
    "tags": []
   },
   "outputs": [],
   "source": [
    "vector_fun = lambda *x: [(x[0]+x[1])*x[2], x[0]+x[1]]\n",
    "vector_fun = lambda a,b,c: (a+b)*c"
   ]
  },
  {
   "cell_type": "code",
   "execution_count": 154,
   "id": "e299c1ea-2a40-4611-9bca-7695c0264c68",
   "metadata": {
    "execution": {
     "iopub.execute_input": "2022-04-06T17:29:00.505310Z",
     "iopub.status.busy": "2022-04-06T17:29:00.505310Z",
     "iopub.status.idle": "2022-04-06T17:29:00.518044Z",
     "shell.execute_reply": "2022-04-06T17:29:00.517760Z",
     "shell.execute_reply.started": "2022-04-06T17:29:00.505310Z"
    },
    "tags": []
   },
   "outputs": [],
   "source": [
    "inpunitsflat = tuple(ureg(inunits[inpvar]) for inpvar in inputs)\n",
    "outunitsflat = tuple(ureg(outunits[outvar]) for outvar in outputs)"
   ]
  },
  {
   "cell_type": "code",
   "execution_count": 155,
   "id": "ff29c82d-1717-4a8c-a1cc-8cced3ddde6b",
   "metadata": {
    "execution": {
     "iopub.execute_input": "2022-04-06T17:29:00.853126Z",
     "iopub.status.busy": "2022-04-06T17:29:00.853126Z",
     "iopub.status.idle": "2022-04-06T17:29:00.860837Z",
     "shell.execute_reply": "2022-04-06T17:29:00.860703Z",
     "shell.execute_reply.started": "2022-04-06T17:29:00.853126Z"
    },
    "tags": []
   },
   "outputs": [],
   "source": [
    "expr_units = get_unit(vector_fun, inpunitsflat)\n",
    "outunitpairs = tuple((outunit, outunitsflat[idx]) for idx, outunit in enumerate(expr_units))"
   ]
  },
  {
   "cell_type": "code",
   "execution_count": 156,
   "id": "240c6fe0-ce03-4a9c-b1b3-999837c6b9cc",
   "metadata": {
    "execution": {
     "iopub.execute_input": "2022-04-06T17:29:01.265892Z",
     "iopub.status.busy": "2022-04-06T17:29:01.265892Z",
     "iopub.status.idle": "2022-04-06T17:29:01.279167Z",
     "shell.execute_reply": "2022-04-06T17:29:01.278969Z",
     "shell.execute_reply.started": "2022-04-06T17:29:01.265892Z"
    },
    "tags": []
   },
   "outputs": [
    {
     "data": {
      "text/plain": [
       "[1.0 <Unit('kilogram * meter / second ** 2')>]"
      ]
     },
     "execution_count": 156,
     "metadata": {},
     "output_type": "execute_result"
    }
   ],
   "source": [
    "expr_units"
   ]
  },
  {
   "cell_type": "code",
   "execution_count": 157,
   "id": "5eb6b56f-c680-4405-8dfe-a8b586552a43",
   "metadata": {
    "execution": {
     "iopub.execute_input": "2022-04-06T17:29:02.338653Z",
     "iopub.status.busy": "2022-04-06T17:29:02.338653Z",
     "iopub.status.idle": "2022-04-06T17:29:02.353643Z",
     "shell.execute_reply": "2022-04-06T17:29:02.352728Z",
     "shell.execute_reply.started": "2022-04-06T17:29:02.338653Z"
    },
    "tags": []
   },
   "outputs": [
    {
     "data": {
      "text/plain": [
       "(array([1.   , 0.001, 1.   ]), [1.0])"
      ]
     },
     "execution_count": 157,
     "metadata": {},
     "output_type": "execute_result"
    }
   ],
   "source": [
    "convert, factors = unit_conversion_factors(outunitpairs, inpunitsflat)\n",
    "convert, factors"
   ]
  },
  {
   "cell_type": "code",
   "execution_count": 115,
   "id": "eef042be-b8c7-4823-bb5c-cc0a5a36abb4",
   "metadata": {
    "execution": {
     "iopub.execute_input": "2022-04-06T17:14:58.834335Z",
     "iopub.status.busy": "2022-04-06T17:14:58.834335Z",
     "iopub.status.idle": "2022-04-06T17:14:58.842113Z",
     "shell.execute_reply": "2022-04-06T17:14:58.841828Z",
     "shell.execute_reply.started": "2022-04-06T17:14:58.834335Z"
    }
   },
   "outputs": [],
   "source": [
    "def flatten_list(ls):\n",
    "    return ls if np.isscalar(ls)==1 else list(ls)"
   ]
  },
  {
   "cell_type": "code",
   "execution_count": 121,
   "id": "dfcbe1cb-581d-4153-b20c-d843d94fae9a",
   "metadata": {
    "execution": {
     "iopub.execute_input": "2022-04-06T17:15:30.958717Z",
     "iopub.status.busy": "2022-04-06T17:15:30.957656Z",
     "iopub.status.idle": "2022-04-06T17:15:30.960694Z",
     "shell.execute_reply": "2022-04-06T17:15:30.960694Z",
     "shell.execute_reply.started": "2022-04-06T17:15:30.958717Z"
    },
    "tags": []
   },
   "outputs": [],
   "source": [
    "out = vector_fun(*(convert*np.array((1.,1.,1.)).flatten()))"
   ]
  },
  {
   "cell_type": "code",
   "execution_count": 127,
   "id": "2867d2f0-9a23-4021-b3db-6a9d0e3e8e7a",
   "metadata": {
    "execution": {
     "iopub.execute_input": "2022-04-06T17:15:56.296350Z",
     "iopub.status.busy": "2022-04-06T17:15:56.296350Z",
     "iopub.status.idle": "2022-04-06T17:15:56.315243Z",
     "shell.execute_reply": "2022-04-06T17:15:56.315129Z",
     "shell.execute_reply.started": "2022-04-06T17:15:56.296350Z"
    },
    "tags": []
   },
   "outputs": [
    {
     "data": {
      "text/plain": [
       "1000.9999999999999"
      ]
     },
     "execution_count": 127,
     "metadata": {},
     "output_type": "execute_result"
    }
   ],
   "source": [
    "1.001/1e-3"
   ]
  },
  {
   "cell_type": "code",
   "execution_count": 125,
   "id": "e7a5f1ab-77c2-4286-b0b2-87dda69d119b",
   "metadata": {
    "execution": {
     "iopub.execute_input": "2022-04-06T17:15:43.228908Z",
     "iopub.status.busy": "2022-04-06T17:15:43.228908Z",
     "iopub.status.idle": "2022-04-06T17:15:43.241435Z",
     "shell.execute_reply": "2022-04-06T17:15:43.241139Z",
     "shell.execute_reply.started": "2022-04-06T17:15:43.228908Z"
    },
    "tags": []
   },
   "outputs": [
    {
     "data": {
      "text/plain": [
       "1000.9999999999999"
      ]
     },
     "execution_count": 125,
     "metadata": {},
     "output_type": "execute_result"
    }
   ],
   "source": [
    "out[1]/0.001"
   ]
  },
  {
   "cell_type": "code",
   "execution_count": 136,
   "id": "af913a05-dc2c-4ed9-a709-e0afc3893e33",
   "metadata": {
    "execution": {
     "iopub.execute_input": "2022-04-06T17:26:16.177538Z",
     "iopub.status.busy": "2022-04-06T17:26:16.177538Z",
     "iopub.status.idle": "2022-04-06T17:26:16.196677Z",
     "shell.execute_reply": "2022-04-06T17:26:16.196254Z",
     "shell.execute_reply.started": "2022-04-06T17:26:16.177538Z"
    }
   },
   "outputs": [],
   "source": [
    "vector_fun = lambda *x: [(x[0]+x[1])*x[2], x[0]+x[1]]"
   ]
  },
  {
   "cell_type": "code",
   "execution_count": 158,
   "id": "b0b37006-5fc9-441f-84e3-50f7e65d6979",
   "metadata": {
    "execution": {
     "iopub.execute_input": "2022-04-06T17:29:10.172363Z",
     "iopub.status.busy": "2022-04-06T17:29:10.172363Z",
     "iopub.status.idle": "2022-04-06T17:29:10.175407Z",
     "shell.execute_reply": "2022-04-06T17:29:10.175407Z",
     "shell.execute_reply.started": "2022-04-06T17:29:10.172363Z"
    },
    "tags": []
   },
   "outputs": [],
   "source": [
    "# What we want to make work\n",
    "c1 = Component.withunits(lambda a,b,c: (a+b)*c, inputs, (4,), inunits, {4:'N'}, 1)"
   ]
  },
  {
   "cell_type": "code",
   "execution_count": 167,
   "id": "ce059394-7627-4518-827c-6e32d58ec41f",
   "metadata": {
    "execution": {
     "iopub.execute_input": "2022-04-06T17:51:13.455290Z",
     "iopub.status.busy": "2022-04-06T17:51:13.455290Z",
     "iopub.status.idle": "2022-04-06T17:51:13.466775Z",
     "shell.execute_reply": "2022-04-06T17:51:13.466473Z",
     "shell.execute_reply.started": "2022-04-06T17:51:13.455290Z"
    },
    "tags": []
   },
   "outputs": [
    {
     "name": "stderr",
     "output_type": "stream",
     "text": [
      "C:\\Users\\johan\\miniconda3\\envs\\mdo\\lib\\site-packages\\autograd\\tracer.py:14: UserWarning: Output seems independent of input.\n",
      "  warnings.warn(\"Output seems independent of input.\")\n"
     ]
    },
    {
     "data": {
      "text/plain": [
       "array([0., 0., 0.])"
      ]
     },
     "execution_count": 167,
     "metadata": {},
     "output_type": "execute_result"
    }
   ],
   "source": [
    "c1.graddict({1: 2., 2:1., 3:2.5})"
   ]
  },
  {
   "cell_type": "code",
   "execution_count": 20,
   "id": "d9fd5ecd-a8fb-438c-b8e7-58ed1cee329e",
   "metadata": {
    "execution": {
     "iopub.execute_input": "2022-04-06T15:53:21.742900Z",
     "iopub.status.busy": "2022-04-06T15:53:21.742900Z",
     "iopub.status.idle": "2022-04-06T15:53:21.757360Z",
     "shell.execute_reply": "2022-04-06T15:53:21.757064Z",
     "shell.execute_reply.started": "2022-04-06T15:53:21.742900Z"
    },
    "tags": []
   },
   "outputs": [],
   "source": [
    "def expression_conversion_unit(expr_unit, tounit=None):\n",
    "    unit = tounit if tounit else ureg('')\n",
    "    if tounit:\n",
    "        assert(unit.dimensionality == expr_unit.dimensionality)\n",
    "        conversion_unit = unit\n",
    "    else: # tounit was not given\n",
    "        if not hasattr(expr_unit, 'units'):\n",
    "            conversion_unit = ureg('')\n",
    "        else:\n",
    "            # if we evaluate an expression and get some crazy unit \n",
    "            # we bring it back to it's base dimensionality\n",
    "            conversion_unit = ureg.Quantity(1, \n",
    "                expr_unit.to_base_units().units)\n",
    "    return conversion_unit"
   ]
  },
  {
   "cell_type": "code",
   "execution_count": 21,
   "id": "733bac3d-ab49-4a7a-897b-56073206340c",
   "metadata": {
    "execution": {
     "iopub.execute_input": "2022-04-06T15:53:21.947683Z",
     "iopub.status.busy": "2022-04-06T15:53:21.947683Z",
     "iopub.status.idle": "2022-04-06T15:53:21.959656Z",
     "shell.execute_reply": "2022-04-06T15:53:21.959656Z",
     "shell.execute_reply.started": "2022-04-06T15:53:21.947683Z"
    },
    "tags": []
   },
   "outputs": [],
   "source": [
    "def unit_conversion_factors(outunitpairs, inunits):\n",
    "    convert = np.array([get_unit_multiplier(inp) for \n",
    "            inp in inunits])\n",
    "    factors = []\n",
    "    for outunit, tounit in outunitpairs:\n",
    "        conversion_unit = expression_conversion_unit(outunit, tounit)\n",
    "        factor = get_unit_multiplier(conversion_unit)\n",
    "        factors.append(factor)\n",
    "    return convert, factors"
   ]
  },
  {
   "cell_type": "code",
   "execution_count": 22,
   "id": "84ca6ddc-9691-4060-93fd-ed68e8d84a3e",
   "metadata": {
    "execution": {
     "iopub.execute_input": "2022-04-06T15:53:22.117222Z",
     "iopub.status.busy": "2022-04-06T15:53:22.116204Z",
     "iopub.status.idle": "2022-04-06T15:53:22.131414Z",
     "shell.execute_reply": "2022-04-06T15:53:22.131237Z",
     "shell.execute_reply.started": "2022-04-06T15:53:22.117222Z"
    },
    "tags": []
   },
   "outputs": [
    {
     "data": {
      "text/html": [
       "1 meter"
      ],
      "text/latex": [
       "$1\\ \\mathrm{meter}$"
      ],
      "text/plain": [
       "1 <Unit('meter')>"
      ]
     },
     "execution_count": 22,
     "metadata": {},
     "output_type": "execute_result"
    }
   ],
   "source": [
    "expression_conversion_unit(ureg.Quantity(1, 'km'))"
   ]
  },
  {
   "cell_type": "code",
   "execution_count": 23,
   "id": "9bccd4cc-7b29-43a5-b943-2b8036261844",
   "metadata": {
    "execution": {
     "iopub.execute_input": "2022-04-06T15:53:22.289390Z",
     "iopub.status.busy": "2022-04-06T15:53:22.288382Z",
     "iopub.status.idle": "2022-04-06T15:53:22.302797Z",
     "shell.execute_reply": "2022-04-06T15:53:22.302448Z",
     "shell.execute_reply.started": "2022-04-06T15:53:22.289390Z"
    },
    "tags": []
   },
   "outputs": [
    {
     "data": {
      "text/plain": [
       "(array([1000.,    1.]), [0.001])"
      ]
     },
     "execution_count": 23,
     "metadata": {},
     "output_type": "execute_result"
    }
   ],
   "source": [
    "unit_conversion_factors([(ureg.Quantity(1, 'g*m/s^2'), ureg.Quantity(1, 'mN'))], [ureg.Quantity(1, 'km'), ureg.Quantity(1, 'kg')])"
   ]
  },
  {
   "cell_type": "code",
   "execution_count": 24,
   "id": "f3299f19-c1c3-47c0-b8d5-c1c03ef8efe4",
   "metadata": {
    "execution": {
     "iopub.execute_input": "2022-04-06T15:53:22.467848Z",
     "iopub.status.busy": "2022-04-06T15:53:22.467848Z",
     "iopub.status.idle": "2022-04-06T15:53:22.475039Z",
     "shell.execute_reply": "2022-04-06T15:53:22.474837Z",
     "shell.execute_reply.started": "2022-04-06T15:53:22.467848Z"
    },
    "tags": []
   },
   "outputs": [],
   "source": [
    "from unitutils import MockFloat\n",
    "import sympy as sp"
   ]
  },
  {
   "cell_type": "code",
   "execution_count": 25,
   "id": "fd3d2e89-1097-4ec7-8b3d-339587ac6354",
   "metadata": {
    "execution": {
     "iopub.execute_input": "2022-04-06T15:53:22.663317Z",
     "iopub.status.busy": "2022-04-06T15:53:22.662204Z",
     "iopub.status.idle": "2022-04-06T15:53:22.677404Z",
     "shell.execute_reply": "2022-04-06T15:53:22.677404Z",
     "shell.execute_reply.started": "2022-04-06T15:53:22.663317Z"
    },
    "tags": []
   },
   "outputs": [],
   "source": [
    "def listify(out):\n",
    "    return out if isinstance(out, list) else [out]"
   ]
  },
  {
   "cell_type": "code",
   "execution_count": 88,
   "id": "36cef5cb-3f2c-4525-aa72-e4d517936608",
   "metadata": {
    "execution": {
     "iopub.execute_input": "2022-04-06T17:06:35.489668Z",
     "iopub.status.busy": "2022-04-06T17:06:35.488668Z",
     "iopub.status.idle": "2022-04-06T17:06:35.498178Z",
     "shell.execute_reply": "2022-04-06T17:06:35.498178Z",
     "shell.execute_reply.started": "2022-04-06T17:06:35.489668Z"
    },
    "tags": []
   },
   "outputs": [],
   "source": [
    "def get_unit(fx, inputunits):\n",
    "    args = tuple(ureg.Quantity(MockFloat(1), inputunit) for inputunit in inputunits)\n",
    "    dim = fx(*args)\n",
    "    dims = listify(dim)\n",
    "    # need this case if output is a float, which can happen when we have powers, e.g. 10^x:\n",
    "    dims = [dim if isinstance(dim, ureg.Quantity) else ureg('') for dim in dims]\n",
    "    return dims"
   ]
  },
  {
   "cell_type": "code",
   "execution_count": 96,
   "id": "f73536cb-9d32-40c9-901a-c8d1b4dd330f",
   "metadata": {
    "execution": {
     "iopub.execute_input": "2022-04-06T17:07:54.944515Z",
     "iopub.status.busy": "2022-04-06T17:07:54.944515Z",
     "iopub.status.idle": "2022-04-06T17:07:54.962962Z",
     "shell.execute_reply": "2022-04-06T17:07:54.962836Z",
     "shell.execute_reply.started": "2022-04-06T17:07:54.944515Z"
    },
    "tags": []
   },
   "outputs": [
    {
     "data": {
      "text/plain": [
       "[1.0 <Unit('gram * meter / second ** 2')>, 1.0 <Unit('gram')>]"
      ]
     },
     "execution_count": 96,
     "metadata": {},
     "output_type": "execute_result"
    }
   ],
   "source": [
    "get_unit(vector_fun, ('g', 'kg', 'm/s^2'))"
   ]
  },
  {
   "cell_type": "code",
   "execution_count": 27,
   "id": "430c4aa5-54f8-46bb-a0c4-22e323b97633",
   "metadata": {
    "execution": {
     "iopub.execute_input": "2022-04-06T15:53:23.021939Z",
     "iopub.status.busy": "2022-04-06T15:53:23.021939Z",
     "iopub.status.idle": "2022-04-06T15:53:23.035334Z",
     "shell.execute_reply": "2022-04-06T15:53:23.035021Z",
     "shell.execute_reply.started": "2022-04-06T15:53:23.021939Z"
    },
    "tags": []
   },
   "outputs": [
    {
     "data": {
      "text/plain": [
       "[1.0 <Unit('gram * meter / second ** 2')>]"
      ]
     },
     "execution_count": 27,
     "metadata": {},
     "output_type": "execute_result"
    }
   ],
   "source": [
    "get_unit(lambda *x: (x[0]+x[1])*x[2], ('g', 'kg', 'm/s^2'))"
   ]
  },
  {
   "cell_type": "code",
   "execution_count": 28,
   "id": "6bdcacc2-7d97-4018-b0e0-97bb80aeed27",
   "metadata": {
    "execution": {
     "iopub.execute_input": "2022-04-06T15:53:23.222961Z",
     "iopub.status.busy": "2022-04-06T15:53:23.222961Z",
     "iopub.status.idle": "2022-04-06T15:53:23.237670Z",
     "shell.execute_reply": "2022-04-06T15:53:23.237052Z",
     "shell.execute_reply.started": "2022-04-06T15:53:23.222961Z"
    },
    "tags": []
   },
   "outputs": [],
   "source": [
    "def flatten_list(ls):\n",
    "    return ls if np.isscalar(ls)==1 else list(ls)"
   ]
  },
  {
   "cell_type": "code",
   "execution_count": 29,
   "id": "7ee2187f-9611-4d2b-8d42-ffd6d5e3747f",
   "metadata": {
    "execution": {
     "iopub.execute_input": "2022-04-06T15:53:23.405147Z",
     "iopub.status.busy": "2022-04-06T15:53:23.405147Z",
     "iopub.status.idle": "2022-04-06T15:53:23.423911Z",
     "shell.execute_reply": "2022-04-06T15:53:23.423911Z",
     "shell.execute_reply.started": "2022-04-06T15:53:23.405147Z"
    },
    "tags": []
   },
   "outputs": [],
   "source": [
    "def executable_with_conversion(convert, factors, fx):\n",
    "    def scaled_fx(*args):\n",
    "        return flatten_list(np.array(fx(*(convert*np.array(args).flatten())))/factors)\n",
    "    return scaled_fx"
   ]
  },
  {
   "cell_type": "code",
   "execution_count": 30,
   "id": "f81eabb3-b6e0-4042-894d-bc3e6d8983bb",
   "metadata": {
    "execution": {
     "iopub.execute_input": "2022-04-06T15:53:23.631285Z",
     "iopub.status.busy": "2022-04-06T15:53:23.630289Z",
     "iopub.status.idle": "2022-04-06T15:53:23.644357Z",
     "shell.execute_reply": "2022-04-06T15:53:23.643996Z",
     "shell.execute_reply.started": "2022-04-06T15:53:23.631285Z"
    },
    "tags": []
   },
   "outputs": [],
   "source": [
    "from compute import Var"
   ]
  },
  {
   "cell_type": "code",
   "execution_count": 31,
   "id": "14858253-ca56-40e5-b364-3ad84c1333b3",
   "metadata": {
    "execution": {
     "iopub.execute_input": "2022-04-06T15:53:23.830843Z",
     "iopub.status.busy": "2022-04-06T15:53:23.829685Z",
     "iopub.status.idle": "2022-04-06T15:53:23.844837Z",
     "shell.execute_reply": "2022-04-06T15:53:23.844837Z",
     "shell.execute_reply.started": "2022-04-06T15:53:23.830843Z"
    },
    "tags": []
   },
   "outputs": [],
   "source": [
    "a = Var('a', 1, 'g')\n",
    "b = Var('b', 2, 'kg')\n",
    "c = Var('c', 3, 'm/s^2')"
   ]
  },
  {
   "cell_type": "code",
   "execution_count": 32,
   "id": "e686501f-0d65-4511-8132-f781db8566e1",
   "metadata": {
    "execution": {
     "iopub.execute_input": "2022-04-06T15:53:24.033195Z",
     "iopub.status.busy": "2022-04-06T15:53:24.033195Z",
     "iopub.status.idle": "2022-04-06T15:53:24.095488Z",
     "shell.execute_reply": "2022-04-06T15:53:24.094972Z",
     "shell.execute_reply.started": "2022-04-06T15:53:24.033195Z"
    },
    "tags": []
   },
   "outputs": [],
   "source": [
    "expr1 = (a+b)*c\n",
    "expr2 = a-b"
   ]
  },
  {
   "cell_type": "code",
   "execution_count": 33,
   "id": "391375f5-110a-4588-8d4f-33fb5d40b15b",
   "metadata": {
    "execution": {
     "iopub.execute_input": "2022-04-06T15:53:24.211010Z",
     "iopub.status.busy": "2022-04-06T15:53:24.211010Z",
     "iopub.status.idle": "2022-04-06T15:53:24.233736Z",
     "shell.execute_reply": "2022-04-06T15:53:24.233736Z",
     "shell.execute_reply.started": "2022-04-06T15:53:24.211010Z"
    },
    "tags": []
   },
   "outputs": [],
   "source": [
    "inputs = (a,b,c)\n",
    "inpunitsflat = tuple(inpvar.varunit for inpvar in inputs)\n",
    "fx = sp.lambdify(inputs, [expr1, expr2], anp) #anp_math\n",
    "#outputs = (None,)\n",
    "outunitsflat = (ureg.Quantity('N'),None)"
   ]
  },
  {
   "cell_type": "code",
   "execution_count": 34,
   "id": "7149a378-e6f3-4a77-9bc3-c210f17877fd",
   "metadata": {
    "execution": {
     "iopub.execute_input": "2022-04-06T15:53:24.430959Z",
     "iopub.status.busy": "2022-04-06T15:53:24.430959Z",
     "iopub.status.idle": "2022-04-06T15:53:24.435304Z",
     "shell.execute_reply": "2022-04-06T15:53:24.434965Z",
     "shell.execute_reply.started": "2022-04-06T15:53:24.430959Z"
    },
    "tags": []
   },
   "outputs": [
    {
     "data": {
      "text/plain": [
       "(1 <Unit('gram')>, 1 <Unit('kilogram')>, 1.0 <Unit('meter / second ** 2')>)"
      ]
     },
     "execution_count": 34,
     "metadata": {},
     "output_type": "execute_result"
    }
   ],
   "source": [
    "inpunitsflat"
   ]
  },
  {
   "cell_type": "code",
   "execution_count": 35,
   "id": "4f258128-1f57-4f12-8489-91107ff29718",
   "metadata": {
    "execution": {
     "iopub.execute_input": "2022-04-06T15:53:24.630808Z",
     "iopub.status.busy": "2022-04-06T15:53:24.630808Z",
     "iopub.status.idle": "2022-04-06T15:53:24.636714Z",
     "shell.execute_reply": "2022-04-06T15:53:24.636714Z",
     "shell.execute_reply.started": "2022-04-06T15:53:24.630808Z"
    },
    "tags": []
   },
   "outputs": [],
   "source": [
    "def fx_with_units(fx, inunitsflat, outunitsflat):\n",
    "    expr_units = get_unit(fx, inunitsflat)\n",
    "    outunitpairs = tuple((outunit, outunitsflat[idx]) for idx, outunit in enumerate(expr_units))\n",
    "    convert, factors = unit_conversion_factors(outunitpairs, inunitsflat)\n",
    "    fx_scaled = executable_with_conversion(convert, factors, fx)\n",
    "    return fx_scaled"
   ]
  },
  {
   "cell_type": "code",
   "execution_count": 36,
   "id": "3d4a4ca1-a254-4ade-aa69-4f27496b8a30",
   "metadata": {
    "execution": {
     "iopub.execute_input": "2022-04-06T15:53:25.434564Z",
     "iopub.status.busy": "2022-04-06T15:53:25.433608Z",
     "iopub.status.idle": "2022-04-06T15:53:25.447577Z",
     "shell.execute_reply": "2022-04-06T15:53:25.447071Z",
     "shell.execute_reply.started": "2022-04-06T15:53:25.434564Z"
    },
    "tags": []
   },
   "outputs": [],
   "source": [
    "fx_scaled = fx_with_units(fx, inpunitsflat, outunitsflat)"
   ]
  },
  {
   "cell_type": "code",
   "execution_count": 37,
   "id": "18344e67-faa1-4b0d-89f4-55dc93896b48",
   "metadata": {
    "execution": {
     "iopub.execute_input": "2022-04-06T15:53:25.989656Z",
     "iopub.status.busy": "2022-04-06T15:53:25.988619Z",
     "iopub.status.idle": "2022-04-06T15:53:26.009326Z",
     "shell.execute_reply": "2022-04-06T15:53:26.009326Z",
     "shell.execute_reply.started": "2022-04-06T15:53:25.989656Z"
    },
    "tags": []
   },
   "outputs": [
    {
     "data": {
      "text/plain": [
       "[6.003, -1.999]"
      ]
     },
     "execution_count": 37,
     "metadata": {},
     "output_type": "execute_result"
    }
   ],
   "source": [
    "fx_scaled(1,2,3)"
   ]
  },
  {
   "cell_type": "code",
   "execution_count": null,
   "id": "afa48965-5187-469a-add5-6fa7a827ee71",
   "metadata": {},
   "outputs": [],
   "source": [
    "def fromsympy(expr, outputs, component):\n",
    "    inputs = list(expr.free_symbols)\n",
    "    inpunitsflat = tuple(inpvar.varunit for inpvar in inputs)\n",
    "    fx = sp.lambdify(inputs, [expr1, expr2], anp_math) #anp_math\n",
    "    outunitsflat = tuple(outvar.varunit for outvar in outputs)\n",
    "    fx_scaled = fx_with_units(fx, inpunitsflat, outunitsflat)"
   ]
  },
  {
   "cell_type": "code",
   "execution_count": null,
   "id": "f72cf7b1-1d1a-4151-8705-8c0161ecdb49",
   "metadata": {},
   "outputs": [],
   "source": [
    "def withunits(fx, inputs, inunitmap, outputs, outputs):\n",
    "    inpunitsflat = (inunitmap[inpvar] for inpvar in inputs)\n",
    "    outunitsflat = (outputs[outvar] for outvar in outputs)\n",
    "    fx_scaled = fx_with_units(fx, inpunitsflat, outunitsflat)"
   ]
  },
  {
   "cell_type": "code",
   "execution_count": null,
   "id": "cd798334-c708-4ec8-940c-5d7979c4e3cc",
   "metadata": {},
   "outputs": [],
   "source": []
  }
 ],
 "metadata": {
  "kernelspec": {
   "display_name": "Python [conda env:mdo]",
   "language": "python",
   "name": "conda-env-mdo-py"
  },
  "language_info": {
   "codemirror_mode": {
    "name": "ipython",
    "version": 3
   },
   "file_extension": ".py",
   "mimetype": "text/x-python",
   "name": "python",
   "nbconvert_exporter": "python",
   "pygments_lexer": "ipython3",
   "version": "3.9.7"
  }
 },
 "nbformat": 4,
 "nbformat_minor": 5
}
