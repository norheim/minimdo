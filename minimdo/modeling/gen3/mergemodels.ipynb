{
 "cells": [
  {
   "cell_type": "code",
   "execution_count": 2,
   "id": "fa33f852-d0d8-43bc-8c01-8cdd358c181d",
   "metadata": {
    "execution": {
     "iopub.execute_input": "2022-07-16T22:37:35.399954Z",
     "iopub.status.busy": "2022-07-16T22:37:35.399954Z",
     "iopub.status.idle": "2022-07-16T22:37:37.659528Z",
     "shell.execute_reply": "2022-07-16T22:37:37.659200Z",
     "shell.execute_reply.started": "2022-07-16T22:37:35.399954Z"
    },
    "tags": []
   },
   "outputs": [],
   "source": [
    "from modeling.gen3.nesting import Var, Model, adda, addobj, addsolver, merge"
   ]
  },
  {
   "cell_type": "code",
   "execution_count": null,
   "id": "6b549fa3-8f2f-46bb-bfbf-14a40eeaa7ad",
   "metadata": {
    "execution": {
     "iopub.execute_input": "2022-07-16T22:37:37.661549Z",
     "iopub.status.busy": "2022-07-16T22:37:37.660551Z",
     "iopub.status.idle": "2022-07-16T22:37:37.707175Z",
     "shell.execute_reply": "2022-07-16T22:37:37.706221Z",
     "shell.execute_reply.started": "2022-07-16T22:37:37.661549Z"
    },
    "tags": []
   },
   "outputs": [],
   "source": [
    "x = Var('x')\n",
    "y = Var('y')\n",
    "model = Model()\n",
    "m = model.root\n",
    "addobj(m, x+y)"
   ]
  },
  {
   "cell_type": "code",
   "execution_count": 4,
   "id": "9381985d-08fe-4baa-a72d-19bc1a1513d7",
   "metadata": {
    "execution": {
     "iopub.execute_input": "2022-07-16T22:37:38.152506Z",
     "iopub.status.busy": "2022-07-16T22:37:38.152506Z",
     "iopub.status.idle": "2022-07-16T22:37:38.266496Z",
     "shell.execute_reply": "2022-07-16T22:37:38.265657Z",
     "shell.execute_reply.started": "2022-07-16T22:37:38.152506Z"
    },
    "tags": []
   },
   "outputs": [
    {
     "data": {
      "text/latex": [
       "$a=2 \\ (y=1 ,x=1 )$"
      ],
      "text/plain": [
       "a"
      ]
     },
     "execution_count": 4,
     "metadata": {},
     "output_type": "execute_result"
    }
   ],
   "source": [
    "adda(m, 'a', x+y)"
   ]
  },
  {
   "cell_type": "code",
   "execution_count": 11,
   "id": "1be69e62",
   "metadata": {},
   "outputs": [
    {
     "data": {
      "text/plain": [
       "(({0: ('x',), 1: ('x', 'y'), 2: ('y', 'x')}, {0: (1,), 1: ('a',), 2: ('b',)}),\n",
       " (OrderedDict([(0, 1), (1, 1), (2, 2)]), {2: 1}, {}))"
      ]
     },
     "execution_count": 11,
     "metadata": {},
     "output_type": "execute_result"
    }
   ],
   "source": [
    "edges,tree = model.generate_formulation()\n",
    "edges_new = {0: ('x',), 1: ('x', 'y')}, {0:(1,),1:('a',)}\n",
    "\n",
    "merge((edges,tree), edges_new, tree)"
   ]
  },
  {
   "cell_type": "code",
   "execution_count": 7,
   "id": "93bf3897-6b5a-47aa-b35e-923273899295",
   "metadata": {
    "execution": {
     "iopub.execute_input": "2022-07-16T22:37:39.464260Z",
     "iopub.status.busy": "2022-07-16T22:37:39.464260Z",
     "iopub.status.idle": "2022-07-16T22:37:39.468699Z",
     "shell.execute_reply": "2022-07-16T22:37:39.468129Z",
     "shell.execute_reply.started": "2022-07-16T22:37:39.464260Z"
    },
    "tags": []
   },
   "outputs": [],
   "source": [
    "s1 = addsolver(m)"
   ]
  },
  {
   "cell_type": "code",
   "execution_count": 8,
   "id": "ade325fa-c3a3-40ee-b970-0be866929354",
   "metadata": {
    "execution": {
     "iopub.execute_input": "2022-07-16T22:37:39.952893Z",
     "iopub.status.busy": "2022-07-16T22:37:39.952893Z",
     "iopub.status.idle": "2022-07-16T22:37:39.981635Z",
     "shell.execute_reply": "2022-07-16T22:37:39.981635Z",
     "shell.execute_reply.started": "2022-07-16T22:37:39.952893Z"
    },
    "tags": []
   },
   "outputs": [
    {
     "data": {
      "text/latex": [
       "$b=1 \\ (y=1 ,x=1 )$"
      ],
      "text/plain": [
       "b"
      ]
     },
     "execution_count": 8,
     "metadata": {},
     "output_type": "execute_result"
    }
   ],
   "source": [
    "adda(s1, 'b', x*y)"
   ]
  },
  {
   "cell_type": "code",
   "execution_count": 9,
   "id": "2bade12a-b912-436e-94f8-487727bb7f2f",
   "metadata": {
    "execution": {
     "iopub.execute_input": "2022-07-16T22:37:40.261454Z",
     "iopub.status.busy": "2022-07-16T22:37:40.260317Z",
     "iopub.status.idle": "2022-07-16T22:37:40.276798Z",
     "shell.execute_reply": "2022-07-16T22:37:40.276493Z",
     "shell.execute_reply.started": "2022-07-16T22:37:40.261454Z"
    },
    "tags": []
   },
   "outputs": [
    {
     "data": {
      "text/plain": [
       "OrderedDict([(0, 1), (1, 1), (2, 2)])"
      ]
     },
     "execution_count": 9,
     "metadata": {},
     "output_type": "execute_result"
    }
   ],
   "source": [
    "model.Ftree"
   ]
  }
 ],
 "metadata": {
  "kernelspec": {
   "display_name": "minimdo",
   "language": "python",
   "name": "python3"
  },
  "language_info": {
   "codemirror_mode": {
    "name": "ipython",
    "version": 3
   },
   "file_extension": ".py",
   "mimetype": "text/x-python",
   "name": "python",
   "nbconvert_exporter": "python",
   "pygments_lexer": "ipython3",
   "version": "3.9.18"
  },
  "vscode": {
   "interpreter": {
    "hash": "a694de6fda351b2e6abf6df342a83029ffd7840d5f4e2b018751ced956a6df2b"
   }
  }
 },
 "nbformat": 4,
 "nbformat_minor": 5
}
