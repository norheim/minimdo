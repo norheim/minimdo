{
 "cells": [
  {
   "cell_type": "code",
   "execution_count": 990,
   "id": "c2842f25",
   "metadata": {
    "execution": {
     "iopub.execute_input": "2021-12-09T14:27:46.788124Z",
     "iopub.status.busy": "2021-12-09T14:27:46.787744Z",
     "iopub.status.idle": "2021-12-09T14:27:46.797460Z",
     "shell.execute_reply": "2021-12-09T14:27:46.795067Z",
     "shell.execute_reply.started": "2021-12-09T14:27:46.788124Z"
    }
   },
   "outputs": [],
   "source": [
    "from inputresolver import resolve, invert_edges, flatten_order, reassigneq, direct_eqs, flatten_and_transform_condensation, default_in_raw, eqvars, reassign, default_in\n",
    "from representations import digraph_repr, draw_dsm, drawbipartite, draw, bipartite_repr"
   ]
  },
  {
   "cell_type": "code",
   "execution_count": 913,
   "id": "b1b0cabe",
   "metadata": {
    "execution": {
     "iopub.execute_input": "2021-12-08T18:02:08.769918Z",
     "iopub.status.busy": "2021-12-08T18:02:08.768940Z",
     "iopub.status.idle": "2021-12-08T18:02:08.785914Z",
     "shell.execute_reply": "2021-12-08T18:02:08.784915Z",
     "shell.execute_reply.started": "2021-12-08T18:02:08.769918Z"
    }
   },
   "outputs": [],
   "source": [
    "import matplotlib.pyplot as plt\n",
    "import matplotlib.patches as patches"
   ]
  },
  {
   "cell_type": "code",
   "execution_count": 2,
   "id": "97264978",
   "metadata": {
    "execution": {
     "iopub.execute_input": "2021-12-01T20:42:54.923283Z",
     "iopub.status.busy": "2021-12-01T20:42:54.922283Z",
     "iopub.status.idle": "2021-12-01T20:42:54.947285Z",
     "shell.execute_reply": "2021-12-01T20:42:54.946285Z",
     "shell.execute_reply.started": "2021-12-01T20:42:54.923283Z"
    }
   },
   "outputs": [],
   "source": [
    "from notation import generate_execution, mapping"
   ]
  },
  {
   "cell_type": "code",
   "execution_count": 3,
   "id": "bbadde06",
   "metadata": {
    "execution": {
     "iopub.execute_input": "2021-12-01T20:42:54.963286Z",
     "iopub.status.busy": "2021-12-01T20:42:54.963286Z",
     "iopub.status.idle": "2021-12-01T20:42:54.979283Z",
     "shell.execute_reply": "2021-12-01T20:42:54.978288Z",
     "shell.execute_reply.started": "2021-12-01T20:42:54.963286Z"
    }
   },
   "outputs": [],
   "source": [
    "from testproblems import generate_random_prob"
   ]
  },
  {
   "cell_type": "code",
   "execution_count": 4,
   "id": "e7f11b9e",
   "metadata": {
    "execution": {
     "iopub.execute_input": "2021-12-01T20:42:54.982282Z",
     "iopub.status.busy": "2021-12-01T20:42:54.981282Z",
     "iopub.status.idle": "2021-12-01T20:42:54.994287Z",
     "shell.execute_reply": "2021-12-01T20:42:54.993284Z",
     "shell.execute_reply.started": "2021-12-01T20:42:54.982282Z"
    }
   },
   "outputs": [],
   "source": [
    "from random import Random, sample, randint\n",
    "import random\n",
    "import copy\n",
    "import sympy as sp\n",
    "import numpy as np\n",
    "from functools import reduce\n",
    "import networkx as nx"
   ]
  },
  {
   "cell_type": "code",
   "execution_count": 5,
   "id": "adf1d36c",
   "metadata": {
    "execution": {
     "iopub.execute_input": "2021-12-01T20:42:54.997285Z",
     "iopub.status.busy": "2021-12-01T20:42:54.996283Z",
     "iopub.status.idle": "2021-12-01T20:42:55.010284Z",
     "shell.execute_reply": "2021-12-01T20:42:55.009289Z",
     "shell.execute_reply.started": "2021-12-01T20:42:54.997285Z"
    }
   },
   "outputs": [],
   "source": [
    "n_eqs = 10\n",
    "n_vars = 13\n",
    "seed = 8#seed 10 is nice\n",
    "sparsity = 1.1 #1.7\n",
    "eqv, varinc, dout = generate_random_prob(n_eqs, n_vars, seed, sparsity)"
   ]
  },
  {
   "cell_type": "code",
   "execution_count": 924,
   "id": "a1f44a61",
   "metadata": {
    "execution": {
     "iopub.execute_input": "2021-12-08T18:15:48.007478Z",
     "iopub.status.busy": "2021-12-08T18:15:48.006477Z",
     "iopub.status.idle": "2021-12-08T18:15:48.025480Z",
     "shell.execute_reply": "2021-12-08T18:15:48.023484Z",
     "shell.execute_reply.started": "2021-12-08T18:15:48.007478Z"
    }
   },
   "outputs": [
    {
     "data": {
      "text/plain": [
       "{0: 19, 7: 15, 3: 10, 6: 17, 9: 20, 5: 13, 8: 18, 1: 11, 2: 14, 4: 12}"
      ]
     },
     "execution_count": 924,
     "metadata": {},
     "output_type": "execute_result"
    }
   ],
   "source": [
    "dout"
   ]
  },
  {
   "cell_type": "code",
   "execution_count": 6,
   "id": "acf23d8f",
   "metadata": {
    "execution": {
     "iopub.execute_input": "2021-12-01T20:42:55.013283Z",
     "iopub.status.busy": "2021-12-01T20:42:55.012289Z",
     "iopub.status.idle": "2021-12-01T20:42:55.047285Z",
     "shell.execute_reply": "2021-12-01T20:42:55.044283Z",
     "shell.execute_reply.started": "2021-12-01T20:42:55.013283Z"
    }
   },
   "outputs": [],
   "source": [
    "eqs=direct_eqs(eqv, dout)"
   ]
  },
  {
   "cell_type": "code",
   "execution_count": 7,
   "id": "75a630fe",
   "metadata": {
    "execution": {
     "iopub.execute_input": "2021-12-01T20:42:55.054283Z",
     "iopub.status.busy": "2021-12-01T20:42:55.053286Z",
     "iopub.status.idle": "2021-12-01T20:42:55.946283Z",
     "shell.execute_reply": "2021-12-01T20:42:55.945281Z",
     "shell.execute_reply.started": "2021-12-01T20:42:55.054283Z"
    }
   },
   "outputs": [
    {
     "name": "stdout",
     "output_type": "stream",
     "text": [
      "[{16}, {10}, {20}, {22}, {21}, {11, 12, 13, 14, 15, 17, 18, 19}]\n"
     ]
    }
   ],
   "source": [
    "D2, _ = digraph_repr(eqv, dout)\n",
    "C = nx.condensation(D2)\n",
    "order2 = [C.nodes[n]['members'] for n in nx.topological_sort(C)]\n",
    "print(order2)"
   ]
  },
  {
   "cell_type": "code",
   "execution_count": 921,
   "id": "d679f08a",
   "metadata": {
    "execution": {
     "iopub.execute_input": "2021-12-08T18:02:50.961975Z",
     "iopub.status.busy": "2021-12-08T18:02:50.960970Z",
     "iopub.status.idle": "2021-12-08T18:02:51.678160Z",
     "shell.execute_reply": "2021-12-08T18:02:51.677187Z",
     "shell.execute_reply.started": "2021-12-08T18:02:50.961975Z"
    }
   },
   "outputs": [
    {
     "data": {
      "text/plain": [
       "<matplotlib.patches.Rectangle at 0x22ea008d250>"
      ]
     },
     "execution_count": 921,
     "metadata": {},
     "output_type": "execute_result"
    },
    {
     "data": {
      "image/png": "[encoded data removed]",
      "text/plain": [
       "<Figure size 432x288 with 1 Axes>"
      ]
     },
     "metadata": {
      "needs_background": "light"
     },
     "output_type": "display_data"
    }
   ],
   "source": [
    "flattened_order = flatten_and_transform_condensation(order2, dout)\n",
    "ax = draw_dsm(D2, flattened_order, dout, addvar=True);\n",
    "rect1 = patches.Rectangle((2,2), 8, 8, linewidth=2, edgecolor='k', facecolor='none')\n",
    "ax.add_patch(rect1)"
   ]
  },
  {
   "cell_type": "code",
   "execution_count": 923,
   "id": "e687a1dd",
   "metadata": {
    "execution": {
     "iopub.execute_input": "2021-12-08T18:03:53.637642Z",
     "iopub.status.busy": "2021-12-08T18:03:53.637642Z",
     "iopub.status.idle": "2021-12-08T18:03:55.974167Z",
     "shell.execute_reply": "2021-12-08T18:03:55.972167Z",
     "shell.execute_reply.started": "2021-12-08T18:03:53.637642Z"
    }
   },
   "outputs": [
    {
     "data": {
      "image/png": "[encoded data removed]",
      "text/plain": [
       "<Figure size 432x288 with 1 Axes>"
      ]
     },
     "metadata": {
      "needs_background": "light"
     },
     "output_type": "display_data"
    }
   ],
   "source": [
    "plt.sca(ax)\n",
    "plt.savefig('figures/dsm_originalM.png', dpi=600, bbox_inches='tight')"
   ]
  },
  {
   "cell_type": "code",
   "execution_count": 994,
   "id": "e8cf017e",
   "metadata": {
    "execution": {
     "iopub.execute_input": "2021-12-09T14:30:47.498617Z",
     "iopub.status.busy": "2021-12-09T14:30:47.498617Z",
     "iopub.status.idle": "2021-12-09T14:30:47.509592Z",
     "shell.execute_reply": "2021-12-09T14:30:47.508637Z",
     "shell.execute_reply.started": "2021-12-09T14:30:47.498617Z"
    }
   },
   "outputs": [],
   "source": [
    "from collections import OrderedDict"
   ]
  },
  {
   "cell_type": "code",
   "execution_count": 9,
   "id": "e8fdba2b",
   "metadata": {
    "execution": {
     "iopub.execute_input": "2021-12-01T20:42:57.876281Z",
     "iopub.status.busy": "2021-12-01T20:42:57.876281Z",
     "iopub.status.idle": "2021-12-01T20:42:57.889284Z",
     "shell.execute_reply": "2021-12-01T20:42:57.888280Z",
     "shell.execute_reply.started": "2021-12-01T20:42:57.876281Z"
    }
   },
   "outputs": [
    {
     "data": {
      "text/plain": [
       "{16, 21, 22}"
      ]
     },
     "execution_count": 9,
     "metadata": {},
     "output_type": "execute_result"
    }
   ],
   "source": [
    "din = default_in_raw(eqs)\n",
    "din"
   ]
  },
  {
   "cell_type": "code",
   "execution_count": 10,
   "id": "7821a8fc",
   "metadata": {
    "execution": {
     "iopub.execute_input": "2021-12-01T20:42:57.892282Z",
     "iopub.status.busy": "2021-12-01T20:42:57.891282Z",
     "iopub.status.idle": "2021-12-01T20:42:57.905281Z",
     "shell.execute_reply": "2021-12-01T20:42:57.904285Z",
     "shell.execute_reply.started": "2021-12-01T20:42:57.892282Z"
    }
   },
   "outputs": [
    {
     "data": {
      "text/plain": [
       "{0: (11, 19),\n",
       " 1: (14, 15, 21, 22, 11),\n",
       " 2: (11, 14),\n",
       " 3: (10,),\n",
       " 4: (18, 20, 12),\n",
       " 5: (12, 15, 18, 22, 13),\n",
       " 6: (10, 19, 20, 22, 17),\n",
       " 7: (10, 12, 15),\n",
       " 8: (13, 16, 17, 19, 18),\n",
       " 9: (20,)}"
      ]
     },
     "execution_count": 10,
     "metadata": {},
     "output_type": "execute_result"
    }
   ],
   "source": [
    "eqv"
   ]
  },
  {
   "cell_type": "markdown",
   "id": "b8bb696b",
   "metadata": {},
   "source": [
    "# Generate test problem equations"
   ]
  },
  {
   "cell_type": "code",
   "execution_count": 375,
   "id": "6226c90e",
   "metadata": {
    "execution": {
     "iopub.execute_input": "2021-12-06T18:40:32.562831Z",
     "iopub.status.busy": "2021-12-06T18:40:32.562831Z",
     "iopub.status.idle": "2021-12-06T18:40:32.567828Z",
     "shell.execute_reply": "2021-12-06T18:40:32.566832Z",
     "shell.execute_reply.started": "2021-12-06T18:40:32.562831Z"
    }
   },
   "outputs": [],
   "source": [
    "vrs = varinc.keys()"
   ]
  },
  {
   "cell_type": "code",
   "execution_count": 13,
   "id": "8853c472",
   "metadata": {
    "execution": {
     "iopub.execute_input": "2021-12-01T20:42:57.941290Z",
     "iopub.status.busy": "2021-12-01T20:42:57.941290Z",
     "iopub.status.idle": "2021-12-01T20:42:57.953283Z",
     "shell.execute_reply": "2021-12-01T20:42:57.952289Z",
     "shell.execute_reply.started": "2021-12-01T20:42:57.941290Z"
    }
   },
   "outputs": [],
   "source": [
    "sdict = {elt:sp.Symbol('x_{}'.format(elt)) for elt in vrs}"
   ]
  },
  {
   "cell_type": "code",
   "execution_count": 366,
   "id": "e222d317",
   "metadata": {
    "execution": {
     "iopub.execute_input": "2021-12-06T18:36:36.940529Z",
     "iopub.status.busy": "2021-12-06T18:36:36.940529Z",
     "iopub.status.idle": "2021-12-06T18:36:36.950526Z",
     "shell.execute_reply": "2021-12-06T18:36:36.949527Z",
     "shell.execute_reply.started": "2021-12-06T18:36:36.940529Z"
    }
   },
   "outputs": [],
   "source": [
    "from functools import reduce\n",
    "import operator"
   ]
  },
  {
   "cell_type": "code",
   "execution_count": 11,
   "id": "4629665b",
   "metadata": {
    "execution": {
     "iopub.execute_input": "2021-12-01T20:42:57.908281Z",
     "iopub.status.busy": "2021-12-01T20:42:57.907282Z",
     "iopub.status.idle": "2021-12-01T20:42:57.922280Z",
     "shell.execute_reply": "2021-12-01T20:42:57.920283Z",
     "shell.execute_reply.started": "2021-12-01T20:42:57.908281Z"
    }
   },
   "outputs": [],
   "source": [
    "rng = np.random.default_rng(12345)\n",
    "def smallrand(n=1):\n",
    "    newn = np.round(rng.uniform(low=-1, high=1),n)\n",
    "    if newn == 0.:\n",
    "        return smallrand()\n",
    "    return newn"
   ]
  },
  {
   "cell_type": "code",
   "execution_count": 362,
   "id": "ad0024b9",
   "metadata": {
    "execution": {
     "iopub.execute_input": "2021-12-06T18:33:36.284347Z",
     "iopub.status.busy": "2021-12-06T18:33:36.283345Z",
     "iopub.status.idle": "2021-12-06T18:33:36.299342Z",
     "shell.execute_reply": "2021-12-06T18:33:36.298342Z",
     "shell.execute_reply.started": "2021-12-06T18:33:36.284347Z"
    }
   },
   "outputs": [],
   "source": [
    "def generate_partitions(vrs):\n",
    "    rvrs = copy.copy(list(vrs))\n",
    "    rng.shuffle(rvrs)\n",
    "    p = []\n",
    "    while len(rvrs) >= 3:\n",
    "        ri = rng.integers(2,4)\n",
    "        p.append((smallrand(), rvrs[:ri]))\n",
    "        rvrs = rvrs[ri:]\n",
    "    if rvrs:\n",
    "        p.append((smallrand(), rvrs))\n",
    "    return p"
   ]
  },
  {
   "cell_type": "code",
   "execution_count": 371,
   "id": "9e1b1d32",
   "metadata": {
    "execution": {
     "iopub.execute_input": "2021-12-06T18:39:45.037122Z",
     "iopub.status.busy": "2021-12-06T18:39:45.037122Z",
     "iopub.status.idle": "2021-12-06T18:39:45.060115Z",
     "shell.execute_reply": "2021-12-06T18:39:45.059115Z",
     "shell.execute_reply.started": "2021-12-06T18:39:45.037122Z"
    }
   },
   "outputs": [],
   "source": [
    "partitions = {idx:generate_partitions(eqvars) for idx,eqvars in eqv.items()}"
   ]
  },
  {
   "cell_type": "code",
   "execution_count": 381,
   "id": "aa20cb7d",
   "metadata": {
    "execution": {
     "iopub.execute_input": "2021-12-06T18:44:56.933037Z",
     "iopub.status.busy": "2021-12-06T18:44:56.933037Z",
     "iopub.status.idle": "2021-12-06T18:44:56.961998Z",
     "shell.execute_reply": "2021-12-06T18:44:56.961016Z",
     "shell.execute_reply.started": "2021-12-06T18:44:56.933037Z"
    }
   },
   "outputs": [],
   "source": [
    "reseqs = {idx: sum([key*reduce(operator.mul, (sdict[var] for var in val)) for key, val in partitions[idx]])+smallrand() for idx,eqvars in eqv.items()}"
   ]
  },
  {
   "cell_type": "code",
   "execution_count": 382,
   "id": "54bf5771",
   "metadata": {
    "execution": {
     "iopub.execute_input": "2021-12-06T18:44:57.879310Z",
     "iopub.status.busy": "2021-12-06T18:44:57.879310Z",
     "iopub.status.idle": "2021-12-06T18:44:57.908305Z",
     "shell.execute_reply": "2021-12-06T18:44:57.907302Z",
     "shell.execute_reply.started": "2021-12-06T18:44:57.879310Z"
    }
   },
   "outputs": [
    {
     "data": {
      "text/plain": [
       "{0: 0.3*x_11*x_19 + 0.5,\n",
       " 1: -0.1*x_11*x_21*x_22 - 0.1*x_14*x_15 + 1.0,\n",
       " 2: -1.0*x_11*x_14 + 0.1,\n",
       " 3: 0.6*x_10 + 0.9,\n",
       " 4: 0.2*x_12*x_18 + 0.6*x_20 + 0.9,\n",
       " 5: 0.1*x_12*x_13*x_22 + 0.5*x_15*x_18 - 0.6,\n",
       " 6: -0.8*x_10*x_17 - 0.1*x_19*x_20*x_22 - 0.9,\n",
       " 7: 0.5*x_10*x_15 - 0.8*x_12 - 0.7,\n",
       " 8: -0.2*x_13*x_17 - 0.1*x_16*x_19 - 0.9*x_18 + 0.5,\n",
       " 9: 0.2*x_20 - 0.5}"
      ]
     },
     "execution_count": 382,
     "metadata": {},
     "output_type": "execute_result"
    }
   ],
   "source": [
    "reseqs"
   ]
  },
  {
   "cell_type": "markdown",
   "id": "c9f3a7b7",
   "metadata": {},
   "source": [
    "## Old code for generation"
   ]
  },
  {
   "cell_type": "code",
   "execution_count": 376,
   "id": "d1539241",
   "metadata": {
    "execution": {
     "iopub.execute_input": "2021-12-06T18:40:50.960432Z",
     "iopub.status.busy": "2021-12-06T18:40:50.960432Z",
     "iopub.status.idle": "2021-12-06T18:40:50.983425Z",
     "shell.execute_reply": "2021-12-06T18:40:50.982423Z",
     "shell.execute_reply.started": "2021-12-06T18:40:50.960432Z"
    }
   },
   "outputs": [],
   "source": [
    "def use_inputs(vrs, din):\n",
    "    dins = din.intersection(vrs)\n",
    "    others = set(vrs)-dins\n",
    "    dins = [None]+list(dins)\n",
    "    for elt in vrs:\n",
    "        if dins:\n",
    "            yield (smallrand(), dins.pop())\n",
    "        else:\n",
    "            yield (smallrand(), None)  #sample(others-{elt}, 1)[0] if len(others)>1 else None  "
   ]
  },
  {
   "cell_type": "code",
   "execution_count": 377,
   "id": "4f05b9d4",
   "metadata": {
    "execution": {
     "iopub.execute_input": "2021-12-06T18:40:57.682341Z",
     "iopub.status.busy": "2021-12-06T18:40:57.682341Z",
     "iopub.status.idle": "2021-12-06T18:40:57.690331Z",
     "shell.execute_reply": "2021-12-06T18:40:57.689329Z",
     "shell.execute_reply.started": "2021-12-06T18:40:57.682341Z"
    }
   },
   "outputs": [],
   "source": [
    "#list(use_inputs((14, 15, 21, 22, 11), din))"
   ]
  },
  {
   "cell_type": "code",
   "execution_count": 378,
   "id": "1181b14d",
   "metadata": {
    "execution": {
     "iopub.execute_input": "2021-12-06T18:40:59.890569Z",
     "iopub.status.busy": "2021-12-06T18:40:59.890569Z",
     "iopub.status.idle": "2021-12-06T18:40:59.902528Z",
     "shell.execute_reply": "2021-12-06T18:40:59.901553Z",
     "shell.execute_reply.started": "2021-12-06T18:40:59.890569Z"
    }
   },
   "outputs": [],
   "source": [
    "#data = {idx:list(use_inputs(eqvars,din)) for idx,eqvars in eqv.items()}"
   ]
  },
  {
   "cell_type": "code",
   "execution_count": 379,
   "id": "747da2c8",
   "metadata": {
    "execution": {
     "iopub.execute_input": "2021-12-06T18:41:03.899340Z",
     "iopub.status.busy": "2021-12-06T18:41:03.898338Z",
     "iopub.status.idle": "2021-12-06T18:41:03.916346Z",
     "shell.execute_reply": "2021-12-06T18:41:03.915342Z",
     "shell.execute_reply.started": "2021-12-06T18:41:03.899340Z"
    }
   },
   "outputs": [],
   "source": [
    "#reseqs = {key: sum([data[key][idx][0]*(sdict[var]-1)*(sdict[data[key][idx][1]] if data[key][idx][1] in sdict else 1) for idx,var in enumerate(eqvars) if var not in din]) for key,eqvars in eqv.items()}"
   ]
  },
  {
   "cell_type": "markdown",
   "id": "f2a7494a",
   "metadata": {},
   "source": [
    "### For polynomial testing eqs"
   ]
  },
  {
   "cell_type": "code",
   "execution_count": 495,
   "id": "22071b72",
   "metadata": {
    "execution": {
     "iopub.execute_input": "2021-12-06T20:22:36.036140Z",
     "iopub.status.busy": "2021-12-06T20:22:36.035142Z",
     "iopub.status.idle": "2021-12-06T20:22:36.080136Z",
     "shell.execute_reply": "2021-12-06T20:22:36.079136Z",
     "shell.execute_reply.started": "2021-12-06T20:22:36.036140Z"
    }
   },
   "outputs": [
    {
     "name": "stdout",
     "output_type": "stream",
     "text": [
      "@var x_10, x_11, x_12, x_13, x_14, x_15, x_16, x_17, x_18, x_19, x_20, x_21, x_22\n",
      "@var λ[1:10];\n",
      "h0=0.3*x_11*x_19 + 0.5;\n",
      "h1=-0.1*x_11*x_21*x_22 - 0.1*x_14*x_15 + 1.0;\n",
      "h2=-1.0*x_11*x_14 + 0.1;\n",
      "h3=0.6*x_10 + 0.9;\n",
      "h4=0.2*x_12*x_18 + 0.6*x_20 + 0.9;\n",
      "h5=0.1*x_12*x_13*x_22 + 0.5*x_15*x_18 - 0.6;\n",
      "h6=-0.8*x_10*x_17 - 0.1*x_19*x_20*x_22 - 0.9;\n",
      "h7=0.5*x_10*x_15 - 0.8*x_12 - 0.7;\n",
      "h8=-0.2*x_13*x_17 - 0.1*x_16*x_19 - 0.9*x_18 + 0.5;\n",
      "h9=0.2*x_20 - 0.5;\n",
      "vars=[x_10, x_11, x_12, x_13, x_14, x_15, x_16, x_17, x_18, x_19, x_20, x_21, x_22]\n",
      "dfdx=[0, 0, 0, 0, 0, 0, x_16, 0, 0, 0, 0, x_21, x_22]\n",
      "h=[h0, h1, h2, h3, h4, h5, h6, h7, h8, h9];\n"
     ]
    }
   ],
   "source": [
    "print('@var {}'.format(\", \".join(['x_{}'.format(vr) for vr in vrs])))\n",
    "print('@var λ[1:{}];'.format(n_eqs))\n",
    "for key, var in reseqs.items():\n",
    "    print('h{}={};'.format(key, var))\n",
    "print('vars=[{}]'.format(\", \".join(['x_{}'.format(vr) for vr in vrs])))\n",
    "print('dfdx=[{}]'.format(\", \".join([str(0) if vr not in [16, 22, 21] else 'x_{}'.format(vr) for vr in vrs])))\n",
    "print('h=[{}];'.format(\", \".join(['h{}'.format(eq) for eq in reseqs.keys()])))"
   ]
  },
  {
   "cell_type": "code",
   "execution_count": 447,
   "id": "93919954",
   "metadata": {
    "execution": {
     "iopub.execute_input": "2021-12-06T18:57:31.338399Z",
     "iopub.status.busy": "2021-12-06T18:57:31.338399Z",
     "iopub.status.idle": "2021-12-06T18:57:31.352392Z",
     "shell.execute_reply": "2021-12-06T18:57:31.351400Z",
     "shell.execute_reply.started": "2021-12-06T18:57:31.338399Z"
    }
   },
   "outputs": [],
   "source": [
    "rev_lookup = {var:key for key,var in dout.items()}"
   ]
  },
  {
   "cell_type": "code",
   "execution_count": 448,
   "id": "54955ce2",
   "metadata": {
    "execution": {
     "iopub.execute_input": "2021-12-06T18:57:31.837349Z",
     "iopub.status.busy": "2021-12-06T18:57:31.836347Z",
     "iopub.status.idle": "2021-12-06T18:57:32.779345Z",
     "shell.execute_reply": "2021-12-06T18:57:32.778342Z",
     "shell.execute_reply.started": "2021-12-06T18:57:31.837349Z"
    }
   },
   "outputs": [],
   "source": [
    "eqsfull = {idx: (sdict[dout[idx]], sp.simplify(reassigneq(None, eq, sdict[dout[idx]]))) for idx,eq in reseqs.items()}\n"
   ]
  },
  {
   "cell_type": "code",
   "execution_count": 449,
   "id": "79fddc46",
   "metadata": {
    "execution": {
     "iopub.execute_input": "2021-12-06T18:57:32.781346Z",
     "iopub.status.busy": "2021-12-06T18:57:32.780347Z",
     "iopub.status.idle": "2021-12-06T18:57:32.811346Z",
     "shell.execute_reply": "2021-12-06T18:57:32.810344Z",
     "shell.execute_reply.started": "2021-12-06T18:57:32.781346Z"
    }
   },
   "outputs": [
    {
     "data": {
      "text/plain": [
       "{0: (x_19, -1.66666666666667/x_11),\n",
       " 1: (x_11, (-x_14*x_15 + 10.0)/(x_21*x_22)),\n",
       " 2: (x_14, 0.1/x_11),\n",
       " 3: (x_10, -1.50000000000000),\n",
       " 4: (x_12, -(3.0*x_20 + 4.5)/x_18),\n",
       " 5: (x_13, (-5.0*x_15*x_18 + 6.0)/(x_12*x_22)),\n",
       " 6: (x_17, -(0.125*x_19*x_20*x_22 + 1.125)/x_10),\n",
       " 7: (x_15, (1.6*x_12 + 1.4)/x_10),\n",
       " 8: (x_18,\n",
       "  -0.222222222222222*x_13*x_17 - 0.111111111111111*x_16*x_19 + 0.555555555555556),\n",
       " 9: (x_20, 2.50000000000000)}"
      ]
     },
     "execution_count": 449,
     "metadata": {},
     "output_type": "execute_result"
    }
   ],
   "source": [
    "eqsfull"
   ]
  },
  {
   "cell_type": "markdown",
   "id": "64a3c371",
   "metadata": {},
   "source": [
    "## Workflow 1"
   ]
  },
  {
   "cell_type": "code",
   "execution_count": 675,
   "id": "2d261594",
   "metadata": {
    "execution": {
     "iopub.execute_input": "2021-12-07T00:03:15.012051Z",
     "iopub.status.busy": "2021-12-07T00:03:15.012051Z",
     "iopub.status.idle": "2021-12-07T00:03:15.031041Z",
     "shell.execute_reply": "2021-12-07T00:03:15.030044Z",
     "shell.execute_reply.started": "2021-12-07T00:03:15.012051Z"
    }
   },
   "outputs": [],
   "source": [
    "import openmdao.api as om\n",
    "from notationcompute import optsolver, solver, explicit\n",
    "from compute import buildidpvars, Expcomp, Evaluable"
   ]
  },
  {
   "cell_type": "code",
   "execution_count": 676,
   "id": "0ce65cf9",
   "metadata": {
    "execution": {
     "iopub.execute_input": "2021-12-07T00:03:16.191630Z",
     "iopub.status.busy": "2021-12-07T00:03:16.191630Z",
     "iopub.status.idle": "2021-12-07T00:03:16.240626Z",
     "shell.execute_reply": "2021-12-07T00:03:16.239626Z",
     "shell.execute_reply.started": "2021-12-07T00:03:16.191630Z"
    }
   },
   "outputs": [
    {
     "data": {
      "text/plain": [
       "[{16}, {10}, {20}, {22}, {21}, {11, 12, 13, 14, 15, 17, 18, 19}]"
      ]
     },
     "execution_count": 676,
     "metadata": {},
     "output_type": "execute_result"
    }
   ],
   "source": [
    "order2"
   ]
  },
  {
   "cell_type": "code",
   "execution_count": 677,
   "id": "97936b10",
   "metadata": {
    "execution": {
     "iopub.execute_input": "2021-12-07T00:03:16.640269Z",
     "iopub.status.busy": "2021-12-07T00:03:16.640269Z",
     "iopub.status.idle": "2021-12-07T00:03:16.651269Z",
     "shell.execute_reply": "2021-12-07T00:03:16.650271Z",
     "shell.execute_reply.started": "2021-12-07T00:03:16.640269Z"
    }
   },
   "outputs": [],
   "source": [
    "def scc_workflow(order, rev_lookup, sdict):\n",
    "    for sccelt in order:\n",
    "        if len(sccelt) == 1:\n",
    "            var = next(iter(sccelt))\n",
    "            if var in rev_lookup:\n",
    "                yield (sdict[var], rev_lookup[var])\n",
    "        else:\n",
    "            yield tuple(list(elt) for elt in zip(*[(sdict[var],rev_lookup[var]) for var in sccelt]))"
   ]
  },
  {
   "cell_type": "code",
   "execution_count": 678,
   "id": "37baeb60",
   "metadata": {
    "execution": {
     "iopub.execute_input": "2021-12-07T00:03:16.910489Z",
     "iopub.status.busy": "2021-12-07T00:03:16.910489Z",
     "iopub.status.idle": "2021-12-07T00:03:16.920470Z",
     "shell.execute_reply": "2021-12-07T00:03:16.919472Z",
     "shell.execute_reply.started": "2021-12-07T00:03:16.910489Z"
    }
   },
   "outputs": [],
   "source": [
    "notation = list(scc_workflow(order2, rev_lookup, sdict))"
   ]
  },
  {
   "cell_type": "code",
   "execution_count": 679,
   "id": "06672197",
   "metadata": {
    "execution": {
     "iopub.execute_input": "2021-12-07T00:03:17.404867Z",
     "iopub.status.busy": "2021-12-07T00:03:17.404867Z",
     "iopub.status.idle": "2021-12-07T00:03:17.423840Z",
     "shell.execute_reply": "2021-12-07T00:03:17.422839Z",
     "shell.execute_reply.started": "2021-12-07T00:03:17.404867Z"
    }
   },
   "outputs": [],
   "source": [
    "order = generate_execution(notation)"
   ]
  },
  {
   "cell_type": "code",
   "execution_count": 680,
   "id": "da84445e",
   "metadata": {
    "execution": {
     "iopub.execute_input": "2021-12-07T00:03:17.696079Z",
     "iopub.status.busy": "2021-12-07T00:03:17.696079Z",
     "iopub.status.idle": "2021-12-07T00:03:17.709079Z",
     "shell.execute_reply": "2021-12-07T00:03:17.708077Z",
     "shell.execute_reply.started": "2021-12-07T00:03:17.696079Z"
    }
   },
   "outputs": [
    {
     "data": {
      "text/plain": [
       "[('exp', 0, x_10, 3),\n",
       " ('exp', 0, x_20, 9),\n",
       " ('solver',\n",
       "  0,\n",
       "  1,\n",
       "  [x_11, x_12, x_13, x_14, x_15, x_17, x_18, x_19],\n",
       "  [1, 4, 5, 2, 7, 6, 8, 0])]"
      ]
     },
     "execution_count": 680,
     "metadata": {},
     "output_type": "execute_result"
    }
   ],
   "source": [
    "order"
   ]
  },
  {
   "cell_type": "code",
   "execution_count": 681,
   "id": "0567b510",
   "metadata": {
    "execution": {
     "iopub.execute_input": "2021-12-07T00:03:18.196438Z",
     "iopub.status.busy": "2021-12-07T00:03:18.195401Z",
     "iopub.status.idle": "2021-12-07T00:03:18.212400Z",
     "shell.execute_reply": "2021-12-07T00:03:18.211398Z",
     "shell.execute_reply.started": "2021-12-07T00:03:18.196438Z"
    }
   },
   "outputs": [],
   "source": [
    "optin = {key:(None, val) for key,val in reseqs.items()}\n",
    "optin['f'] = (None, (sdict[12]-1)**2+(sdict[17]-1)**2+(sdict[19]-1)**2)"
   ]
  },
  {
   "cell_type": "code",
   "execution_count": 964,
   "id": "e5cbffec",
   "metadata": {
    "execution": {
     "iopub.execute_input": "2021-12-09T14:09:44.855924Z",
     "iopub.status.busy": "2021-12-09T14:09:44.855924Z",
     "iopub.status.idle": "2021-12-09T14:09:44.876735Z",
     "shell.execute_reply": "2021-12-09T14:09:44.874734Z",
     "shell.execute_reply.started": "2021-12-09T14:09:44.855924Z"
    }
   },
   "outputs": [],
   "source": [
    "prob = om.Problem()\n",
    "model = prob.model\n",
    "groups = {0:model}"
   ]
  },
  {
   "cell_type": "code",
   "execution_count": 965,
   "id": "fc4c27d9",
   "metadata": {
    "execution": {
     "iopub.execute_input": "2021-12-09T14:09:45.452724Z",
     "iopub.status.busy": "2021-12-09T14:09:45.451742Z",
     "iopub.status.idle": "2021-12-09T14:09:45.488012Z",
     "shell.execute_reply": "2021-12-09T14:09:45.469046Z",
     "shell.execute_reply.started": "2021-12-09T14:09:45.452724Z"
    }
   },
   "outputs": [],
   "source": [
    "buildidpvars(['x_{}'.format(elt) for elt in din], model)\n",
    "#buildidpvars(['x_11', 'x_12', 'x_13', 'x_14', 'x_15', 'x_17', 'x_18', 'x_19']+['x_{}'.format(elt) for elt in din], model)"
   ]
  },
  {
   "cell_type": "code",
   "execution_count": 966,
   "id": "ab17abfb",
   "metadata": {
    "execution": {
     "iopub.execute_input": "2021-12-09T14:09:45.822475Z",
     "iopub.status.busy": "2021-12-09T14:09:45.821307Z",
     "iopub.status.idle": "2021-12-09T14:09:45.879375Z",
     "shell.execute_reply": "2021-12-09T14:09:45.877627Z",
     "shell.execute_reply.started": "2021-12-09T14:09:45.822475Z"
    }
   },
   "outputs": [],
   "source": [
    "for elt in order:\n",
    "    if elt[0] == 'exp':\n",
    "        _,parent_id, vout, eqid = elt\n",
    "        explicit(groups, eqsfull, parent_id, vout, eqid)\n",
    "    if elt[0] == 'solver':\n",
    "        _,parent_id, child_id, solvevars, res = elt\n",
    "        solver(groups, optin, parent_id, parent_id, solvevars, res)\n",
    "        #optsolver(groups, optin, parent_id, parent_id, solvevars+['x_{}'.format(elt) for elt in din], ([],res,['f']))\n",
    "optsolver(groups, optin, 0, 0, ['x_{}'.format(elt) for elt in din], ([],[],['f']))"
   ]
  },
  {
   "cell_type": "code",
   "execution_count": 979,
   "id": "5b74301d",
   "metadata": {
    "execution": {
     "iopub.execute_input": "2021-12-09T14:18:30.667832Z",
     "iopub.status.busy": "2021-12-09T14:18:30.666320Z",
     "iopub.status.idle": "2021-12-09T14:18:30.691219Z",
     "shell.execute_reply": "2021-12-09T14:18:30.689447Z",
     "shell.execute_reply.started": "2021-12-09T14:18:30.667832Z"
    }
   },
   "outputs": [],
   "source": [
    "prob.setup();"
   ]
  },
  {
   "cell_type": "code",
   "execution_count": 980,
   "id": "f61acc2f",
   "metadata": {
    "execution": {
     "iopub.execute_input": "2021-12-09T14:18:31.157112Z",
     "iopub.status.busy": "2021-12-09T14:18:31.157112Z",
     "iopub.status.idle": "2021-12-09T14:18:31.166588Z",
     "shell.execute_reply": "2021-12-09T14:18:31.165278Z",
     "shell.execute_reply.started": "2021-12-09T14:18:31.157112Z"
    }
   },
   "outputs": [],
   "source": [
    "# for elt in ['x_11', 'x_12', 'x_13', 'x_14', 'x_15', 'x_17', 'x_18', 'x_19']:\n",
    "#     prob.set_val(elt,np.random.randint(-10,10))"
   ]
  },
  {
   "cell_type": "code",
   "execution_count": 981,
   "id": "cda259b0",
   "metadata": {
    "execution": {
     "iopub.execute_input": "2021-12-09T14:18:32.130628Z",
     "iopub.status.busy": "2021-12-09T14:18:32.130628Z",
     "iopub.status.idle": "2021-12-09T14:18:32.151376Z",
     "shell.execute_reply": "2021-12-09T14:18:32.150509Z",
     "shell.execute_reply.started": "2021-12-09T14:18:32.130628Z"
    }
   },
   "outputs": [],
   "source": [
    "for elt in ['x_11', 'x_12', 'x_13', 'x_14', 'x_15', 'x_17', 'x_18', 'x_19', 'x_16', 'x_21', 'x_22']:\n",
    "    prob.set_val(elt,10*optres[elt])"
   ]
  },
  {
   "cell_type": "code",
   "execution_count": 982,
   "id": "0896ec93",
   "metadata": {
    "execution": {
     "iopub.execute_input": "2021-12-09T14:18:32.781249Z",
     "iopub.status.busy": "2021-12-09T14:18:32.781249Z",
     "iopub.status.idle": "2021-12-09T14:18:38.285122Z",
     "shell.execute_reply": "2021-12-09T14:18:38.284124Z",
     "shell.execute_reply.started": "2021-12-09T14:18:32.781249Z"
    }
   },
   "outputs": [
    {
     "name": "stdout",
     "output_type": "stream",
     "text": [
      "\n",
      "======\n",
      "group0\n",
      "======\n",
      "NL: NewtonSolver 'NL: Newton' on system 'group0' failed to converge in 20 iterations.\n",
      "\n",
      "======\n",
      "group0\n",
      "======\n",
      "NL: NewtonSolver 'NL: Newton' on system 'group0' failed to converge in 20 iterations.\n",
      "\n",
      "======\n",
      "group0\n",
      "======\n",
      "NL: NewtonSolver 'NL: Newton' on system 'group0' failed to converge in 20 iterations.\n",
      "\n",
      "======\n",
      "group0\n",
      "======\n",
      "NL: NewtonSolver 'NL: Newton' on system 'group0' failed to converge in 20 iterations.\n",
      "\n",
      "======\n",
      "group0\n",
      "======\n",
      "NL: Newton Converged in 5 iterations\n",
      "\n",
      "======\n",
      "group0\n",
      "======\n",
      "NL: NewtonSolver 'NL: Newton' on system 'group0' failed to converge in 20 iterations.\n",
      "\n",
      "======\n",
      "group0\n",
      "======\n",
      "NL: Newton Converged in 13 iterations\n",
      "\n",
      "======\n",
      "group0\n",
      "======\n",
      "NL: NewtonSolver 'NL: Newton' on system 'group0' failed to converge in 20 iterations.\n",
      "\n",
      "======\n",
      "group0\n",
      "======\n",
      "NL: NewtonSolver 'NL: Newton' on system 'group0' failed to converge in 20 iterations.\n",
      "\n",
      "======\n",
      "group0\n",
      "======\n",
      "NL: NewtonSolver 'NL: Newton' on system 'group0' failed to converge in 20 iterations.\n",
      "\n",
      "======\n",
      "group0\n",
      "======\n",
      "NL: NewtonSolver 'NL: Newton' on system 'group0' failed to converge in 20 iterations.\n",
      "\n",
      "======\n",
      "group0\n",
      "======\n",
      "NL: NewtonSolver 'NL: Newton' on system 'group0' failed to converge in 20 iterations.\n",
      "\n",
      "======\n",
      "group0\n",
      "======\n",
      "NL: NewtonSolver 'NL: Newton' on system 'group0' failed to converge in 20 iterations.\n",
      "\n",
      "======\n",
      "group0\n",
      "======\n",
      "NL: NewtonSolver 'NL: Newton' on system 'group0' failed to converge in 20 iterations.\n",
      "\n",
      "======\n",
      "group0\n",
      "======\n",
      "NL: NewtonSolver 'NL: Newton' on system 'group0' failed to converge in 20 iterations.\n",
      "\n",
      "======\n",
      "group0\n",
      "======\n",
      "NL: NewtonSolver 'NL: Newton' on system 'group0' failed to converge in 20 iterations.\n",
      "\n",
      "======\n",
      "group0\n",
      "======\n",
      "NL: NewtonSolver 'NL: Newton' on system 'group0' failed to converge in 20 iterations.\n",
      "Inequality constraints incompatible    (Exit mode 4)\n",
      "            Current function value: [-1.70701507e+74]\n",
      "            Iterations: 4\n",
      "            Function evaluations: 16\n",
      "            Gradient evaluations: 4\n",
      "Optimization FAILED.\n",
      "Inequality constraints incompatible\n",
      "-----------------------------------\n"
     ]
    }
   ],
   "source": [
    "prob.set_solver_print(level=1)\n",
    "prob.driver = om.ScipyOptimizeDriver()\n",
    "# prob.driver.options['optimizer'] = 'differential_evolution'\n",
    "prob.driver.options['maxiter'] = 300 \n",
    "prob.run_driver();"
   ]
  },
  {
   "cell_type": "code",
   "execution_count": 974,
   "id": "1b1add9c",
   "metadata": {
    "execution": {
     "iopub.execute_input": "2021-12-09T14:10:56.584582Z",
     "iopub.status.busy": "2021-12-09T14:10:56.584031Z",
     "iopub.status.idle": "2021-12-09T14:10:56.617087Z",
     "shell.execute_reply": "2021-12-09T14:10:56.616220Z",
     "shell.execute_reply.started": "2021-12-09T14:10:56.584582Z"
    }
   },
   "outputs": [
    {
     "name": "stdout",
     "output_type": "stream",
     "text": [
      "6 Explicit Output(s) in 'model'\n",
      "\n",
      "varname  val             \n",
      "-------  ----------------\n",
      "inp\n",
      "  x_16   [306.02994936]  \n",
      "  x_21   [-4.98485971]   \n",
      "  x_22   [1.1874655]     \n",
      "eq3\n",
      "  x_10   [-1.5]          \n",
      "eq9\n",
      "  x_20   [2.5]           \n",
      "group0\n",
      "  eqf\n",
      "    f0f  [1.94470283e-05]\n",
      "\n",
      "\n",
      "8 Implicit Output(s) in 'model'\n",
      "\n",
      "varname        val           \n",
      "-------------  --------------\n",
      "group0\n",
      "  res14527680\n",
      "    x_11       [-1.66916396] \n",
      "    x_12       [0.99711567]  \n",
      "    x_13       [-96.41730568]\n",
      "    x_14       [-0.05991023] \n",
      "    x_15       [-1.99692338] \n",
      "    x_17       [0.99701852]  \n",
      "    x_18       [-12.03471212]\n",
      "    x_19       [0.99850387]  \n",
      "\n",
      "\n"
     ]
    }
   ],
   "source": [
    "model.list_outputs();"
   ]
  },
  {
   "cell_type": "markdown",
   "id": "2aa8c9e3",
   "metadata": {},
   "source": [
    "# Workflow 2"
   ]
  },
  {
   "cell_type": "code",
   "execution_count": 645,
   "id": "2661aafa",
   "metadata": {
    "execution": {
     "iopub.execute_input": "2021-12-07T00:00:25.283734Z",
     "iopub.status.busy": "2021-12-07T00:00:25.282731Z",
     "iopub.status.idle": "2021-12-07T00:00:25.300734Z",
     "shell.execute_reply": "2021-12-07T00:00:25.299730Z",
     "shell.execute_reply.started": "2021-12-07T00:00:25.283734Z"
    }
   },
   "outputs": [],
   "source": [
    "newdout = {0: 11, 1: 21, 2: 14, 3: 10, 4: 18, 5: 13, 6: 22, 7: 15, 8: 16, 9: 20}\n",
    "nrev_lookup = {var:key for key,var in newdout.items()}"
   ]
  },
  {
   "cell_type": "code",
   "execution_count": 646,
   "id": "c9f42822",
   "metadata": {
    "execution": {
     "iopub.execute_input": "2021-12-07T00:00:25.503923Z",
     "iopub.status.busy": "2021-12-07T00:00:25.503923Z",
     "iopub.status.idle": "2021-12-07T00:00:25.535920Z",
     "shell.execute_reply": "2021-12-07T00:00:25.534923Z",
     "shell.execute_reply.started": "2021-12-07T00:00:25.503923Z"
    }
   },
   "outputs": [
    {
     "data": {
      "text/plain": [
       "{0: 11, 1: 21, 2: 14, 3: 10, 4: 18, 5: 13, 6: 22, 7: 15, 8: 16, 9: 20}"
      ]
     },
     "execution_count": 646,
     "metadata": {},
     "output_type": "execute_result"
    }
   ],
   "source": [
    "newdout"
   ]
  },
  {
   "cell_type": "code",
   "execution_count": 647,
   "id": "90d1b4d0",
   "metadata": {
    "execution": {
     "iopub.execute_input": "2021-12-07T00:00:25.706926Z",
     "iopub.status.busy": "2021-12-07T00:00:25.705924Z",
     "iopub.status.idle": "2021-12-07T00:00:26.777056Z",
     "shell.execute_reply": "2021-12-07T00:00:26.776095Z",
     "shell.execute_reply.started": "2021-12-07T00:00:25.706926Z"
    }
   },
   "outputs": [],
   "source": [
    "neqsfull = {idx: (sdict[newdout[idx]], sp.simplify(reassigneq(None, eq, sdict[newdout[idx]]))) for idx,eq in reseqs.items()}"
   ]
  },
  {
   "cell_type": "code",
   "execution_count": 648,
   "id": "5525dd35",
   "metadata": {
    "execution": {
     "iopub.execute_input": "2021-12-07T00:00:26.780056Z",
     "iopub.status.busy": "2021-12-07T00:00:26.780056Z",
     "iopub.status.idle": "2021-12-07T00:00:26.873058Z",
     "shell.execute_reply": "2021-12-07T00:00:26.871055Z",
     "shell.execute_reply.started": "2021-12-07T00:00:26.780056Z"
    }
   },
   "outputs": [
    {
     "data": {
      "text/plain": [
       "{0: (x_11, -1.66666666666667/x_19),\n",
       " 1: (x_21, (-x_14*x_15 + 10.0)/(x_11*x_22)),\n",
       " 2: (x_14, 0.1/x_11),\n",
       " 3: (x_10, -1.50000000000000),\n",
       " 4: (x_18, -(3.0*x_20 + 4.5)/x_12),\n",
       " 5: (x_13, (-5.0*x_15*x_18 + 6.0)/(x_12*x_22)),\n",
       " 6: (x_22, -(8.0*x_10*x_17 + 9.0)/(x_19*x_20)),\n",
       " 7: (x_15, (1.6*x_12 + 1.4)/x_10),\n",
       " 8: (x_16, (-2.0*x_13*x_17 - 9.0*x_18 + 5.0)/x_19),\n",
       " 9: (x_20, 2.50000000000000)}"
      ]
     },
     "execution_count": 648,
     "metadata": {},
     "output_type": "execute_result"
    }
   ],
   "source": [
    "neqsfull"
   ]
  },
  {
   "cell_type": "code",
   "execution_count": 649,
   "id": "4ae292d4",
   "metadata": {
    "execution": {
     "iopub.execute_input": "2021-12-07T00:00:26.876057Z",
     "iopub.status.busy": "2021-12-07T00:00:26.876057Z",
     "iopub.status.idle": "2021-12-07T00:00:26.889056Z",
     "shell.execute_reply": "2021-12-07T00:00:26.887056Z",
     "shell.execute_reply.started": "2021-12-07T00:00:26.876057Z"
    }
   },
   "outputs": [
    {
     "data": {
      "text/plain": [
       "{12, 17, 19}"
      ]
     },
     "execution_count": 649,
     "metadata": {},
     "output_type": "execute_result"
    }
   ],
   "source": [
    "nraweqs=direct_eqs(eqv, newdout)\n",
    "default_in_raw(nraweqs)"
   ]
  },
  {
   "cell_type": "code",
   "execution_count": 650,
   "id": "f2891bb2",
   "metadata": {
    "execution": {
     "iopub.execute_input": "2021-12-07T00:00:27.332061Z",
     "iopub.status.busy": "2021-12-07T00:00:27.332061Z",
     "iopub.status.idle": "2021-12-07T00:00:27.375060Z",
     "shell.execute_reply": "2021-12-07T00:00:27.374057Z",
     "shell.execute_reply.started": "2021-12-07T00:00:27.332061Z"
    }
   },
   "outputs": [
    {
     "name": "stdout",
     "output_type": "stream",
     "text": [
      "[{17}, {10}, {12}, {15}, {20}, {18}, {19}, {22}, {13}, {16}, {11}, {14}, {21}]\n"
     ]
    }
   ],
   "source": [
    "D3, _ = digraph_repr(eqv, newdout)\n",
    "C3 = nx.condensation(D3)\n",
    "order3 = [C3.nodes[n]['members'] for n in nx.topological_sort(C3)]\n",
    "print(order3)"
   ]
  },
  {
   "cell_type": "code",
   "execution_count": 947,
   "id": "fd3ea8ab",
   "metadata": {
    "execution": {
     "iopub.execute_input": "2021-12-09T14:04:16.444116Z",
     "iopub.status.busy": "2021-12-09T14:04:16.443361Z",
     "iopub.status.idle": "2021-12-09T14:04:19.482338Z",
     "shell.execute_reply": "2021-12-09T14:04:19.481481Z",
     "shell.execute_reply.started": "2021-12-09T14:04:16.444116Z"
    }
   },
   "outputs": [
    {
     "data": {
      "image/png": "[encoded data removed]",
      "text/plain": [
       "<Figure size 432x288 with 1 Axes>"
      ]
     },
     "metadata": {
      "needs_background": "light"
     },
     "output_type": "display_data"
    }
   ],
   "source": [
    "rlookup = {var:key for key,var in newdout.items()}\n",
    "flattenorder = [rlookup[elt] for s in order3 for elt in s if elt in rlookup]\n",
    "ax = draw_dsm(D3, flattenorder, newdout, addvar=True);\n",
    "plt.sca(ax)\n",
    "plt.savefig('figures/dsm_optimstructM.png', dpi=600, bbox_inches='tight')"
   ]
  },
  {
   "cell_type": "code",
   "execution_count": 651,
   "id": "f8e85bce",
   "metadata": {
    "execution": {
     "iopub.execute_input": "2021-12-07T00:00:27.737059Z",
     "iopub.status.busy": "2021-12-07T00:00:27.737059Z",
     "iopub.status.idle": "2021-12-07T00:00:27.781064Z",
     "shell.execute_reply": "2021-12-07T00:00:27.780057Z",
     "shell.execute_reply.started": "2021-12-07T00:00:27.737059Z"
    }
   },
   "outputs": [],
   "source": [
    "class Expcomp(om.ExplicitComponent):\n",
    "    def initialize(self):\n",
    "        self.options.declare('equation')\n",
    "        self.options.declare('output_name')\n",
    "        self.options.declare('debug')\n",
    "\n",
    "    def setup(self):\n",
    "        equation = self.options['equation']\n",
    "        output_name = self.options['output_name']\n",
    "        self.add_output(output_name, val=0.1)\n",
    "        for name in equation.input_names:\n",
    "            self.add_input(name, val=0.1) # add them in the order we lambdify\n",
    "        self.declare_partials(output_name, equation.input_names)\n",
    "            \n",
    "    def compute(self, inputs, outputs):\n",
    "        equation = self.options['equation']\n",
    "        output_name = self.options['output_name']\n",
    "        debug = self.options['debug']\n",
    "        outputs[output_name] = equation.evaldict(inputs)\n",
    "        if debug:\n",
    "            print(output_name, outputs[output_name])\n",
    "\n",
    "    def compute_partials(self, inputs, partials, discrete_inputs=None):\n",
    "        equation = self.options['equation']\n",
    "        output_name = self.options['output_name']\n",
    "        J = equation.graddict(inputs)\n",
    "        for idx, input_name in enumerate(equation.input_names):\n",
    "            partials[output_name,input_name] = J[idx]"
   ]
  },
  {
   "cell_type": "code",
   "execution_count": 652,
   "id": "50ae1130",
   "metadata": {
    "execution": {
     "iopub.execute_input": "2021-12-07T00:00:28.400062Z",
     "iopub.status.busy": "2021-12-07T00:00:28.400062Z",
     "iopub.status.idle": "2021-12-07T00:00:28.423058Z",
     "shell.execute_reply": "2021-12-07T00:00:28.422056Z",
     "shell.execute_reply.started": "2021-12-07T00:00:28.400062Z"
    }
   },
   "outputs": [],
   "source": [
    "def explicit(groups, eqs, parentid, var, eqn):\n",
    "    cmp = Expcomp(output_name=str(var), equation=Evaluable.fromsympy(eqs[eqn][1]), debug=False)\n",
    "    parent = groups[parentid]\n",
    "    parent.add_subsystem(\"eq{}\".format(eqn), cmp, promotes=['*'])"
   ]
  },
  {
   "cell_type": "code",
   "execution_count": 653,
   "id": "14ab35cb",
   "metadata": {
    "execution": {
     "iopub.execute_input": "2021-12-07T00:00:28.713058Z",
     "iopub.status.busy": "2021-12-07T00:00:28.713058Z",
     "iopub.status.idle": "2021-12-07T00:00:28.736064Z",
     "shell.execute_reply": "2021-12-07T00:00:28.735056Z",
     "shell.execute_reply.started": "2021-12-07T00:00:28.713058Z"
    }
   },
   "outputs": [],
   "source": [
    "def optsolver(groups, eqs, parentid, childid, solvevars, res):\n",
    "    parent = groups[parentid]\n",
    "    childid= 0\n",
    "    child = groups[childid]# = parent.add_subsystem('group{}'.format(childid), \n",
    "        #om.Group(), promotes=['*'])\n",
    "    for vr in solvevars:\n",
    "        child.add_design_var(str(vr))\n",
    "    ineqlts, eqlts, obj = res\n",
    "    constraintnames = {\n",
    "        'g{}'.format(childid): (ineqlts, {'upper':0.}),\n",
    "        'h{}'.format(childid): (eqlts, {'upper':0., 'lower':0.}),\n",
    "        'f{}'.format(childid): (obj, 'obj'),\n",
    "    }\n",
    "    for constraintname, (equations, bnd) in constraintnames.items():\n",
    "        for eqn in equations:\n",
    "            outname = constraintname+str(eqn)\n",
    "            cmp = Expcomp(output_name=outname, equation=Evaluable.fromsympy(eqs[eqn][1]), debug=False)\n",
    "            child.add_subsystem(\"eq{}\".format(eqn), cmp, promotes=['*'])\n",
    "            if bnd != 'obj':\n",
    "                print('adding constraint')\n",
    "                child.add_constraint('{}{}'.format(constraintname, eqn), **bnd)\n",
    "            else:\n",
    "                child.add_objective(outname)"
   ]
  },
  {
   "cell_type": "code",
   "execution_count": 937,
   "id": "3bd7c18c",
   "metadata": {
    "execution": {
     "iopub.execute_input": "2021-12-08T18:42:07.315567Z",
     "iopub.status.busy": "2021-12-08T18:42:07.314567Z",
     "iopub.status.idle": "2021-12-08T18:42:07.346566Z",
     "shell.execute_reply": "2021-12-08T18:42:07.345568Z",
     "shell.execute_reply.started": "2021-12-08T18:42:07.315567Z"
    }
   },
   "outputs": [],
   "source": [
    "prob = om.Problem()\n",
    "model = prob.model\n",
    "groups = {0:model}"
   ]
  },
  {
   "cell_type": "code",
   "execution_count": 938,
   "id": "693aec01",
   "metadata": {
    "execution": {
     "iopub.execute_input": "2021-12-08T18:42:07.663504Z",
     "iopub.status.busy": "2021-12-08T18:42:07.663504Z",
     "iopub.status.idle": "2021-12-08T18:42:07.961975Z",
     "shell.execute_reply": "2021-12-08T18:42:07.959981Z",
     "shell.execute_reply.started": "2021-12-08T18:42:07.663504Z"
    }
   },
   "outputs": [],
   "source": [
    "solvefor = ['x_12', 'x_17', 'x_19']\n",
    "scceqs = [3, 7, 9, 4, 6, 5, 8, 0, 2, 1]\n",
    "buildidpvars(solvefor, model)\n",
    "for idx in scceqs:\n",
    "    explicit(groups, neqsfull, 0, neqsfull[idx][0], idx)\n",
    "optsolver(groups, optin, 0, 1, solvefor, ([],[],['f']))"
   ]
  },
  {
   "cell_type": "code",
   "execution_count": 939,
   "id": "6a55e295",
   "metadata": {
    "execution": {
     "iopub.execute_input": "2021-12-08T18:42:08.094973Z",
     "iopub.status.busy": "2021-12-08T18:42:08.094973Z",
     "iopub.status.idle": "2021-12-08T18:42:08.120977Z",
     "shell.execute_reply": "2021-12-08T18:42:08.118973Z",
     "shell.execute_reply.started": "2021-12-08T18:42:08.094973Z"
    }
   },
   "outputs": [],
   "source": [
    "prob.setup();"
   ]
  },
  {
   "cell_type": "code",
   "execution_count": 940,
   "id": "a01873e2",
   "metadata": {
    "execution": {
     "iopub.execute_input": "2021-12-08T18:42:12.888820Z",
     "iopub.status.busy": "2021-12-08T18:42:12.887820Z",
     "iopub.status.idle": "2021-12-08T18:42:12.900821Z",
     "shell.execute_reply": "2021-12-08T18:42:12.899822Z",
     "shell.execute_reply.started": "2021-12-08T18:42:12.888820Z"
    }
   },
   "outputs": [],
   "source": [
    "for elt in ['x_11', 'x_12', 'x_13', 'x_14', 'x_15', 'x_17', 'x_18', 'x_19', 'x_16', 'x_21', 'x_22']:\n",
    "    prob.set_val(elt,100*optres[elt])"
   ]
  },
  {
   "cell_type": "code",
   "execution_count": 740,
   "id": "d08dcdec",
   "metadata": {
    "execution": {
     "iopub.execute_input": "2021-12-07T00:06:31.822546Z",
     "iopub.status.busy": "2021-12-07T00:06:31.821549Z",
     "iopub.status.idle": "2021-12-07T00:06:31.839546Z",
     "shell.execute_reply": "2021-12-07T00:06:31.837546Z",
     "shell.execute_reply.started": "2021-12-07T00:06:31.822546Z"
    }
   },
   "outputs": [],
   "source": [
    "for elt in ['x_12', 'x_17','x_19']:\n",
    "    prob.set_val(elt,np.random.randint(-500,500))"
   ]
  },
  {
   "cell_type": "code",
   "execution_count": 741,
   "id": "da5cd832",
   "metadata": {
    "execution": {
     "iopub.execute_input": "2021-12-07T00:06:32.800551Z",
     "iopub.status.busy": "2021-12-07T00:06:32.800551Z",
     "iopub.status.idle": "2021-12-07T00:06:32.822546Z",
     "shell.execute_reply": "2021-12-07T00:06:32.820547Z",
     "shell.execute_reply.started": "2021-12-07T00:06:32.800551Z"
    }
   },
   "outputs": [],
   "source": [
    "for elt in ['x_21','x_16','x_22','x_11', 'x_13', 'x_14', 'x_15', 'x_18']:\n",
    "    prob.set_val(elt,np.random.randint(-100,100))"
   ]
  },
  {
   "cell_type": "code",
   "execution_count": 742,
   "id": "8e06dea4",
   "metadata": {
    "execution": {
     "iopub.execute_input": "2021-12-07T00:06:34.398711Z",
     "iopub.status.busy": "2021-12-07T00:06:34.398711Z",
     "iopub.status.idle": "2021-12-07T00:06:34.409706Z",
     "shell.execute_reply": "2021-12-07T00:06:34.408701Z",
     "shell.execute_reply.started": "2021-12-07T00:06:34.398711Z"
    }
   },
   "outputs": [],
   "source": [
    "# prob.set_val('x_12', -42.7)\n",
    "# prob.set_val('x_17', 0.7499595596608876)\n",
    "# prob.set_val('x_19', -0.0002)"
   ]
  },
  {
   "cell_type": "code",
   "execution_count": 743,
   "id": "3728fefc",
   "metadata": {
    "execution": {
     "iopub.execute_input": "2021-12-07T00:06:34.582703Z",
     "iopub.status.busy": "2021-12-07T00:06:34.582703Z",
     "iopub.status.idle": "2021-12-07T00:06:34.614704Z",
     "shell.execute_reply": "2021-12-07T00:06:34.613702Z",
     "shell.execute_reply.started": "2021-12-07T00:06:34.582703Z"
    }
   },
   "outputs": [
    {
     "name": "stdout",
     "output_type": "stream",
     "text": [
      "14 Explicit Output(s) in 'model'\n",
      "\n",
      "varname  val         \n",
      "-------  ------------\n",
      "inp\n",
      "  x_12   [0.22199317]\n",
      "  x_17   [0.87073231]\n",
      "  x_19   [0.20671916]\n",
      "eq3\n",
      "  x_10   [1.]        \n",
      "eq7\n",
      "  x_15   [1.]        \n",
      "eq9\n",
      "  x_20   [1.]        \n",
      "eq4\n",
      "  x_18   [1.]        \n",
      "eq6\n",
      "  x_22   [1.]        \n",
      "eq5\n",
      "  x_13   [1.]        \n",
      "eq8\n",
      "  x_16   [1.]        \n",
      "eq0\n",
      "  x_11   [1.]        \n",
      "eq2\n",
      "  x_14   [1.]        \n",
      "eq1\n",
      "  x_21   [1.]        \n",
      "eqf\n",
      "  f0f    [1.]        \n",
      "\n",
      "\n",
      "0 Implicit Output(s) in 'model'\n",
      "\n",
      "\n"
     ]
    }
   ],
   "source": [
    "model.list_outputs();"
   ]
  },
  {
   "cell_type": "code",
   "execution_count": 744,
   "id": "b2d4b1c5",
   "metadata": {
    "execution": {
     "iopub.execute_input": "2021-12-07T00:06:36.261732Z",
     "iopub.status.busy": "2021-12-07T00:06:36.261732Z",
     "iopub.status.idle": "2021-12-07T00:06:36.303732Z",
     "shell.execute_reply": "2021-12-07T00:06:36.302729Z",
     "shell.execute_reply.started": "2021-12-07T00:06:36.261732Z"
    }
   },
   "outputs": [],
   "source": [
    "prob.run_model()"
   ]
  },
  {
   "cell_type": "code",
   "execution_count": 941,
   "id": "7281074d",
   "metadata": {
    "execution": {
     "iopub.execute_input": "2021-12-08T18:42:20.026729Z",
     "iopub.status.busy": "2021-12-08T18:42:20.026729Z",
     "iopub.status.idle": "2021-12-08T18:42:20.094722Z",
     "shell.execute_reply": "2021-12-08T18:42:20.093718Z",
     "shell.execute_reply.started": "2021-12-08T18:42:20.026729Z"
    }
   },
   "outputs": [
    {
     "name": "stdout",
     "output_type": "stream",
     "text": [
      "Optimization terminated successfully    (Exit mode 0)\n",
      "            Current function value: [0.]\n",
      "            Iterations: 2\n",
      "            Function evaluations: 3\n",
      "            Gradient evaluations: 2\n",
      "Optimization Complete\n",
      "-----------------------------------\n"
     ]
    }
   ],
   "source": [
    "prob.set_solver_print(level=1)\n",
    "prob.driver = om.ScipyOptimizeDriver()\n",
    "prob.driver.options['maxiter'] = 300 \n",
    "prob.run_driver();"
   ]
  },
  {
   "cell_type": "code",
   "execution_count": 746,
   "id": "a54971c6",
   "metadata": {
    "execution": {
     "iopub.execute_input": "2021-12-07T00:06:39.798791Z",
     "iopub.status.busy": "2021-12-07T00:06:39.797788Z",
     "iopub.status.idle": "2021-12-07T00:06:39.807781Z",
     "shell.execute_reply": "2021-12-07T00:06:39.806785Z",
     "shell.execute_reply.started": "2021-12-07T00:06:39.798791Z"
    }
   },
   "outputs": [],
   "source": [
    "optres = {key: prob.get_val(key)[0] for key in ['x_11', 'x_12', 'x_13', 'x_14', 'x_15', 'x_17', 'x_18', 'x_19', 'x_16', 'x_21', 'x_22']}"
   ]
  },
  {
   "cell_type": "code",
   "execution_count": 747,
   "id": "3676676a",
   "metadata": {
    "execution": {
     "iopub.execute_input": "2021-12-07T00:06:39.963781Z",
     "iopub.status.busy": "2021-12-07T00:06:39.962782Z",
     "iopub.status.idle": "2021-12-07T00:06:40.097786Z",
     "shell.execute_reply": "2021-12-07T00:06:40.091794Z",
     "shell.execute_reply.started": "2021-12-07T00:06:39.963781Z"
    }
   },
   "outputs": [
    {
     "data": {
      "text/plain": [
       "{'x_11': -1.66666666666667,\n",
       " 'x_12': 1.0,\n",
       " 'x_13': -95.0,\n",
       " 'x_14': -0.05999999999999988,\n",
       " 'x_15': -2.0,\n",
       " 'x_17': 1.0,\n",
       " 'x_18': -12.0,\n",
       " 'x_19': 1.0,\n",
       " 'x_16': 303.0,\n",
       " 'x_21': -4.939999999999991,\n",
       " 'x_22': 1.2}"
      ]
     },
     "execution_count": 747,
     "metadata": {},
     "output_type": "execute_result"
    }
   ],
   "source": [
    "optres"
   ]
  },
  {
   "cell_type": "code",
   "execution_count": null,
   "id": "0489f99f",
   "metadata": {},
   "outputs": [],
   "source": []
  }
 ],
 "metadata": {
  "kernelspec": {
   "display_name": "minimdo",
   "language": "python",
   "name": "python3"
  },
  "language_info": {
   "codemirror_mode": {
    "name": "ipython",
    "version": 3
   },
   "file_extension": ".py",
   "mimetype": "text/x-python",
   "name": "python",
   "nbconvert_exporter": "python",
   "pygments_lexer": "ipython3",
   "version": "3.9.12"
  },
  "vscode": {
   "interpreter": {
    "hash": "a694de6fda351b2e6abf6df342a83029ffd7840d5f4e2b018751ced956a6df2b"
   }
  }
 },
 "nbformat": 4,
 "nbformat_minor": 5
}
