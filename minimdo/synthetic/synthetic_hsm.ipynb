{
 "cells": [
  {
   "cell_type": "markdown",
   "id": "5da80463-40ab-4ef7-bb74-7102cbf74940",
   "metadata": {},
   "source": [
    "# Synthetic problem example"
   ]
  },
  {
   "cell_type": "code",
   "execution_count": 1,
   "id": "b7eec287-101d-4518-b1ca-ac9dc8b01450",
   "metadata": {
    "execution": {
     "iopub.execute_input": "2022-08-15T19:21:17.950861Z",
     "iopub.status.busy": "2022-08-15T19:21:17.950861Z",
     "iopub.status.idle": "2022-08-15T19:21:19.951474Z",
     "shell.execute_reply": "2022-08-15T19:21:19.951474Z",
     "shell.execute_reply.started": "2022-08-15T19:21:17.950861Z"
    },
    "tags": []
   },
   "outputs": [],
   "source": [
    "from testproblems import generate_random_prob, random_problem_with_artifacts\n",
    "from datastructures.operators import invert_edges, sort_scc, reformulate\n",
    "from datastructures.rendering import render_incidence\n",
    "from datastructures.tearing import min_arc_set_assign,dir_graph\n",
    "from datastructures.graphutils import edges_to_Ein_Eout, sources\n",
    "from datastructures.polycasebuilder import eqv_to_edges_tree\n",
    "import networkx as nx\n",
    "import numpy as np\n",
    "from itertools import chain"
   ]
  },
  {
   "cell_type": "code",
   "execution_count": 2,
   "id": "ff94a44e-da36-4451-9ae5-7bdedfda4a00",
   "metadata": {
    "execution": {
     "iopub.execute_input": "2022-08-15T19:21:19.951474Z",
     "iopub.status.busy": "2022-08-15T19:21:19.951474Z",
     "iopub.status.idle": "2022-08-15T19:21:19.968263Z",
     "shell.execute_reply": "2022-08-15T19:21:19.967292Z",
     "shell.execute_reply.started": "2022-08-15T19:21:19.951474Z"
    },
    "tags": []
   },
   "outputs": [],
   "source": [
    "import matplotlib.pyplot as plt\n",
    "plt.rcParams['text.usetex'] = True"
   ]
  },
  {
   "cell_type": "code",
   "execution_count": 3,
   "id": "2ec2d369-316b-41f7-b6df-0c8fa604b1f9",
   "metadata": {
    "execution": {
     "iopub.execute_input": "2022-08-15T19:21:19.969202Z",
     "iopub.status.busy": "2022-08-15T19:21:19.969202Z",
     "iopub.status.idle": "2022-08-15T19:21:19.984190Z",
     "shell.execute_reply": "2022-08-15T19:21:19.983189Z",
     "shell.execute_reply.started": "2022-08-15T19:21:19.969202Z"
    },
    "tags": []
   },
   "outputs": [],
   "source": [
    "m,n,seed,sparsity = 3,5,10,1."
   ]
  },
  {
   "cell_type": "code",
   "execution_count": 4,
   "id": "b63f2f42-6573-4700-99bb-3bbab3d40262",
   "metadata": {
    "execution": {
     "iopub.execute_input": "2022-08-15T19:21:19.985188Z",
     "iopub.status.busy": "2022-08-15T19:21:19.985188Z",
     "iopub.status.idle": "2022-08-15T19:21:19.999190Z",
     "shell.execute_reply": "2022-08-15T19:21:19.999190Z",
     "shell.execute_reply.started": "2022-08-15T19:21:19.985188Z"
    },
    "tags": []
   },
   "outputs": [],
   "source": [
    "kwargs = random_problem_with_artifacts(m,n,seed,sparsity)\n",
    "eq_incidence,outset,eqnidxs,edges_varonleft,varidxs = map(kwargs.get, [\"eq_incidence\",\"outset\",\"eqnidxs\",\"edges_varonleft\",\"varidxs\"])"
   ]
  },
  {
   "cell_type": "code",
   "execution_count": 5,
   "id": "35ece373-e7d6-4e90-9a07-ff00ed0a2a5a",
   "metadata": {
    "execution": {
     "iopub.execute_input": "2022-08-15T19:21:20.001190Z",
     "iopub.status.busy": "2022-08-15T19:21:20.000189Z",
     "iopub.status.idle": "2022-08-15T19:21:20.014834Z",
     "shell.execute_reply": "2022-08-15T19:21:20.014834Z",
     "shell.execute_reply.started": "2022-08-15T19:21:20.001190Z"
    },
    "tags": []
   },
   "outputs": [],
   "source": [
    "edges_default,tree_default,new_outset = eqv_to_edges_tree(eq_incidence, outset, len(eqnidxs))"
   ]
  },
  {
   "cell_type": "markdown",
   "id": "06d31c7f-f236-47d1-92bd-c8b74739288f",
   "metadata": {},
   "source": [
    "### Arguments for HSM"
   ]
  },
  {
   "cell_type": "code",
   "execution_count": 6,
   "id": "81b573f8-0cd4-4151-817e-26db2f2f09f2",
   "metadata": {
    "execution": {
     "iopub.execute_input": "2022-08-15T19:21:20.015834Z",
     "iopub.status.busy": "2022-08-15T19:21:20.015834Z",
     "iopub.status.idle": "2022-08-15T19:21:20.030914Z",
     "shell.execute_reply": "2022-08-15T19:21:20.030774Z",
     "shell.execute_reply.started": "2022-08-15T19:21:20.015834Z"
    },
    "tags": []
   },
   "outputs": [],
   "source": [
    "vizargs = {'save':False, 'figsize':((3,3)), 'fontsize':22, 'rotation':0, 'hideticks':True, 'patchwidth':4}"
   ]
  },
  {
   "cell_type": "markdown",
   "id": "122fe373-ee1b-453e-a846-c00ffb4a3a73",
   "metadata": {},
   "source": [
    "## Starting incidence"
   ]
  },
  {
   "cell_type": "code",
   "execution_count": 7,
   "id": "ac7d36b1-f701-4c64-b2c4-7a268e92cd72",
   "metadata": {
    "execution": {
     "iopub.execute_input": "2022-08-15T19:21:20.032953Z",
     "iopub.status.busy": "2022-08-15T19:21:20.032953Z",
     "iopub.status.idle": "2022-08-15T19:21:20.046951Z",
     "shell.execute_reply": "2022-08-15T19:21:20.045947Z",
     "shell.execute_reply.started": "2022-08-15T19:21:20.032953Z"
    },
    "tags": []
   },
   "outputs": [],
   "source": [
    "edges_undir,tree_undir,_ = eqv_to_edges_tree(eq_incidence, n_eqs=m)\n",
    "edges_dir,tree_dir,outset_adj = eqv_to_edges_tree(eq_incidence, outset, n_eqs=m)\n",
    "tree_undir[2].update({val:1 for val in outset_adj.values()})"
   ]
  },
  {
   "cell_type": "code",
   "execution_count": 8,
   "id": "aba138fd-ddd8-4939-867c-b6ecd0a246ea",
   "metadata": {
    "execution": {
     "iopub.execute_input": "2022-08-15T19:21:20.047950Z",
     "iopub.status.busy": "2022-08-15T19:21:20.047950Z",
     "iopub.status.idle": "2022-08-15T19:21:20.515183Z",
     "shell.execute_reply": "2022-08-15T19:21:20.515022Z",
     "shell.execute_reply.started": "2022-08-15T19:21:20.047950Z"
    },
    "tags": []
   },
   "outputs": [
    {
     "data": {
      "image/png": "[encoded data removed]",
      "text/plain": [
       "<Figure size 216x216 with 1 Axes>"
      ]
     },
     "metadata": {
      "needs_background": "light"
     },
     "output_type": "display_data"
    }
   ],
   "source": [
    "render_incidence(edges_undir, tree_undir, **vizargs);"
   ]
  },
  {
   "cell_type": "markdown",
   "id": "9cc0d593-d741-4836-a20d-6067099a0020",
   "metadata": {},
   "source": [
    "## Incidence of objective function"
   ]
  },
  {
   "cell_type": "code",
   "execution_count": 9,
   "id": "8c43c93e-2c80-4b2c-b893-a14a1238de65",
   "metadata": {
    "execution": {
     "iopub.execute_input": "2022-08-15T19:21:20.516201Z",
     "iopub.status.busy": "2022-08-15T19:21:20.516201Z",
     "iopub.status.idle": "2022-08-15T19:21:20.530309Z",
     "shell.execute_reply": "2022-08-15T19:21:20.530309Z",
     "shell.execute_reply.started": "2022-08-15T19:21:20.516201Z"
    },
    "tags": []
   },
   "outputs": [
    {
     "name": "stdout",
     "output_type": "stream",
     "text": [
      "Set parameter Username\n",
      "Academic license - for non-commercial use only - expires 2023-02-25\n"
     ]
    }
   ],
   "source": [
    "xsol, m = min_arc_set_assign(edges_varonleft, varidxs, eqnidxs)\n",
    "outset_opt = dict((right, left) for left, right in edges_varonleft if xsol[left, right] > 0.5)"
   ]
  },
  {
   "cell_type": "code",
   "execution_count": 10,
   "id": "910c2719-a589-4722-89dc-8df270f4b5fb",
   "metadata": {
    "execution": {
     "iopub.execute_input": "2022-08-15T19:21:20.532331Z",
     "iopub.status.busy": "2022-08-15T19:21:20.531331Z",
     "iopub.status.idle": "2022-08-15T19:21:20.545984Z",
     "shell.execute_reply": "2022-08-15T19:21:20.545449Z",
     "shell.execute_reply.started": "2022-08-15T19:21:20.532331Z"
    },
    "tags": []
   },
   "outputs": [],
   "source": [
    "edges_opt, tree_opt, new_outset_opt = eqv_to_edges_tree(eq_incidence, outset_opt, len(eqnidxs))"
   ]
  },
  {
   "cell_type": "markdown",
   "id": "9c456fc1-15b0-48e5-8ee6-0dbd2a2bd07a",
   "metadata": {},
   "source": [
    "First we find input variables of the reformulated problem"
   ]
  },
  {
   "cell_type": "code",
   "execution_count": 11,
   "id": "88f8fde1-961d-47ca-8f6b-dda9d6b2776d",
   "metadata": {
    "execution": {
     "iopub.execute_input": "2022-08-15T19:21:20.546984Z",
     "iopub.status.busy": "2022-08-15T19:21:20.546984Z",
     "iopub.status.idle": "2022-08-15T19:21:20.561483Z",
     "shell.execute_reply": "2022-08-15T19:21:20.560483Z",
     "shell.execute_reply.started": "2022-08-15T19:21:20.546984Z"
    },
    "tags": []
   },
   "outputs": [],
   "source": [
    "inputids = sources(*edges_to_Ein_Eout(edges_opt))"
   ]
  },
  {
   "cell_type": "code",
   "execution_count": 12,
   "id": "2136afba-7111-4f53-8063-93d2bb96d2a8",
   "metadata": {
    "execution": {
     "iopub.execute_input": "2022-08-15T19:21:20.562983Z",
     "iopub.status.busy": "2022-08-15T19:21:20.562983Z",
     "iopub.status.idle": "2022-08-15T19:21:20.576484Z",
     "shell.execute_reply": "2022-08-15T19:21:20.576003Z",
     "shell.execute_reply.started": "2022-08-15T19:21:20.562983Z"
    },
    "tags": []
   },
   "outputs": [],
   "source": [
    "D = nx.DiGraph(dir_graph(edges_varonleft, eqnidxs, outset.items()))\n",
    "tree_opt = [{elt:2 for elt in chain(*sort_scc(D, lambda x: x in eqnidxs))},{2:1},{v:2 for v in inputids}]"
   ]
  },
  {
   "cell_type": "markdown",
   "id": "7c5505fc-bdb6-4f4d-90e1-cbf618eb2b49",
   "metadata": {},
   "source": [
    "### Add incidence of objective function to new formulation"
   ]
  },
  {
   "cell_type": "code",
   "execution_count": 13,
   "id": "3258ad16-2e42-4364-b197-71d7fe2495cb",
   "metadata": {
    "execution": {
     "iopub.execute_input": "2022-08-15T19:21:20.577984Z",
     "iopub.status.busy": "2022-08-15T19:21:20.577484Z",
     "iopub.status.idle": "2022-08-15T19:21:20.591363Z",
     "shell.execute_reply": "2022-08-15T19:21:20.591363Z",
     "shell.execute_reply.started": "2022-08-15T19:21:20.577984Z"
    },
    "tags": []
   },
   "outputs": [],
   "source": [
    "newidx = 'obj'\n",
    "edges_opt[0][newidx] = tuple(inputids)\n",
    "edges_opt[1][newidx] = (None,)\n",
    "tree_opt[0][newidx] = 2"
   ]
  },
  {
   "cell_type": "code",
   "execution_count": 14,
   "id": "d694c447-295a-485e-b741-2a037415ce32",
   "metadata": {
    "execution": {
     "iopub.execute_input": "2022-08-15T19:21:20.593683Z",
     "iopub.status.busy": "2022-08-15T19:21:20.592688Z",
     "iopub.status.idle": "2022-08-15T19:21:20.607903Z",
     "shell.execute_reply": "2022-08-15T19:21:20.606700Z",
     "shell.execute_reply.started": "2022-08-15T19:21:20.593683Z"
    },
    "tags": []
   },
   "outputs": [
    {
     "data": {
      "text/plain": [
       "[{0: 2, 1: 2, 2: 2, 'obj': 2}, {2: 1}, {2: 2, 4: 2}]"
      ]
     },
     "execution_count": 14,
     "metadata": {},
     "output_type": "execute_result"
    }
   ],
   "source": [
    "tree_opt"
   ]
  },
  {
   "cell_type": "code",
   "execution_count": 15,
   "id": "e58896a7-0006-41fa-945a-e7e21c199564",
   "metadata": {
    "execution": {
     "iopub.execute_input": "2022-08-15T19:21:20.609900Z",
     "iopub.status.busy": "2022-08-15T19:21:20.609401Z",
     "iopub.status.idle": "2022-08-15T19:21:20.621901Z",
     "shell.execute_reply": "2022-08-15T19:21:20.621901Z",
     "shell.execute_reply.started": "2022-08-15T19:21:20.609900Z"
    },
    "tags": []
   },
   "outputs": [],
   "source": [
    "formulation_opt = reformulate(edges_opt, tree_opt, root_solver_name=1)"
   ]
  },
  {
   "cell_type": "code",
   "execution_count": 16,
   "id": "ac39b3f3-497b-413d-a66a-76cc5caec260",
   "metadata": {
    "execution": {
     "iopub.execute_input": "2022-08-15T19:21:20.623127Z",
     "iopub.status.busy": "2022-08-15T19:21:20.623127Z",
     "iopub.status.idle": "2022-08-15T19:21:20.699415Z",
     "shell.execute_reply": "2022-08-15T19:21:20.699415Z",
     "shell.execute_reply.started": "2022-08-15T19:21:20.623127Z"
    },
    "tags": []
   },
   "outputs": [
    {
     "data": {
      "image/png": "[encoded data removed]",
      "text/plain": [
       "<Figure size 216x216 with 1 Axes>"
      ]
     },
     "metadata": {
      "needs_background": "light"
     },
     "output_type": "display_data"
    }
   ],
   "source": [
    "render_incidence(*formulation_opt, figname=\"defense_synthetic_opt.png\", **vizargs);"
   ]
  },
  {
   "cell_type": "markdown",
   "id": "f81b6220-7282-40d8-8da0-11638705b3fb",
   "metadata": {},
   "source": [
    "### Add incidence of objective function to original formulation"
   ]
  },
  {
   "cell_type": "code",
   "execution_count": 17,
   "id": "52b784b2-cb8f-4be1-9b39-6c683b1282e8",
   "metadata": {
    "execution": {
     "iopub.execute_input": "2022-08-15T19:21:20.700419Z",
     "iopub.status.busy": "2022-08-15T19:21:20.700419Z",
     "iopub.status.idle": "2022-08-15T19:21:20.715596Z",
     "shell.execute_reply": "2022-08-15T19:21:20.715509Z",
     "shell.execute_reply.started": "2022-08-15T19:21:20.700419Z"
    },
    "tags": []
   },
   "outputs": [],
   "source": [
    "inputids_default = {v:1 for v in sources(*edges_to_Ein_Eout(edges_dir))}\n",
    "undir_vars = {val:2 for val in outset_adj.values()}\n",
    "tree_default = ({elt:2 for elt in eqnidxs},{2:1},undir_vars | inputids_default)\n",
    "edges_undir[0][newidx] = tuple(inputids)\n",
    "edges_undir[1][newidx] = (None,)\n",
    "tree_default[0][newidx] = 1"
   ]
  },
  {
   "cell_type": "code",
   "execution_count": 18,
   "id": "88224bc1-b999-483f-8b1b-2ad3725209bf",
   "metadata": {
    "execution": {
     "iopub.execute_input": "2022-08-15T19:21:20.716647Z",
     "iopub.status.busy": "2022-08-15T19:21:20.716647Z",
     "iopub.status.idle": "2022-08-15T19:21:20.730887Z",
     "shell.execute_reply": "2022-08-15T19:21:20.730674Z",
     "shell.execute_reply.started": "2022-08-15T19:21:20.716647Z"
    },
    "tags": []
   },
   "outputs": [
    {
     "data": {
      "text/plain": [
       "({0: 2, 1: 2, 2: 2, 'obj': 1}, {2: 1}, {3: 2, 4: 2, 1: 2, 0: 1, 2: 1})"
      ]
     },
     "execution_count": 18,
     "metadata": {},
     "output_type": "execute_result"
    }
   ],
   "source": [
    "tree_default"
   ]
  },
  {
   "cell_type": "code",
   "execution_count": 19,
   "id": "a88cb0b1-97a9-4b7d-b4dc-484815b4dda0",
   "metadata": {
    "execution": {
     "iopub.execute_input": "2022-08-15T19:21:20.731914Z",
     "iopub.status.busy": "2022-08-15T19:21:20.731914Z",
     "iopub.status.idle": "2022-08-15T19:21:20.807739Z",
     "shell.execute_reply": "2022-08-15T19:21:20.806821Z",
     "shell.execute_reply.started": "2022-08-15T19:21:20.731914Z"
    },
    "tags": []
   },
   "outputs": [
    {
     "data": {
      "image/png": "[encoded data removed]",
      "text/plain": [
       "<Figure size 216x216 with 1 Axes>"
      ]
     },
     "metadata": {
      "needs_background": "light"
     },
     "output_type": "display_data"
    }
   ],
   "source": [
    "render_incidence(edges_undir, tree_default, figname=\"defense_synthetic_init.png\", **vizargs);"
   ]
  }
 ],
 "metadata": {
  "kernelspec": {
   "display_name": "Python [conda env:minimdo]",
   "language": "python",
   "name": "conda-env-minimdo-py"
  },
  "language_info": {
   "codemirror_mode": {
    "name": "ipython",
    "version": 3
   },
   "file_extension": ".py",
   "mimetype": "text/x-python",
   "name": "python",
   "nbconvert_exporter": "python",
   "pygments_lexer": "ipython3",
   "version": "3.9.12"
  }
 },
 "nbformat": 4,
 "nbformat_minor": 5
}
