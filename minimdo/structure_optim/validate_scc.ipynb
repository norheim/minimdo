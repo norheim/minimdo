{
 "cells": [
  {
   "cell_type": "code",
   "execution_count": 52,
   "id": "bd1a20c2-461c-4f4b-b93b-7167cca88546",
   "metadata": {
    "execution": {
     "iopub.execute_input": "2022-07-25T16:26:43.142411Z",
     "iopub.status.busy": "2022-07-25T16:26:43.142411Z",
     "iopub.status.idle": "2022-07-25T16:26:43.158619Z",
     "shell.execute_reply": "2022-07-25T16:26:43.157980Z",
     "shell.execute_reply.started": "2022-07-25T16:26:43.142411Z"
    },
    "tags": []
   },
   "outputs": [],
   "source": [
    "from testproblems import generate_random_prob, random_problem_with_artifacts\n",
    "from datastructures.operators import invert_edges, sort_scc, reformulate\n",
    "from datastructures.rendering import render_incidence\n",
    "from datastructures.tearing import min_arc_set_assign,dir_graph,min_max_scc2\n",
    "from datastructures.graphutils import (edges_to_Ein_Eout, sources, flat_graph_formulation, \n",
    "    VAR, COMP, Node, all_edges)\n",
    "from datastructures.polycasebuilder import eqv_to_edges_tree\n",
    "import networkx as nx\n",
    "import numpy as np\n",
    "from itertools import chain, combinations"
   ]
  },
  {
   "cell_type": "code",
   "execution_count": 206,
   "id": "03e0968e-c64e-46a1-b2ba-2f75867118e2",
   "metadata": {
    "execution": {
     "iopub.execute_input": "2022-07-25T16:52:56.923945Z",
     "iopub.status.busy": "2022-07-25T16:52:56.923945Z",
     "iopub.status.idle": "2022-07-25T16:52:56.938004Z",
     "shell.execute_reply": "2022-07-25T16:52:56.938004Z",
     "shell.execute_reply.started": "2022-07-25T16:52:56.923945Z"
    },
    "tags": []
   },
   "outputs": [],
   "source": [
    "m = 10#4\n",
    "n = 15#5\n",
    "seed = 220#257#23\n",
    "sparsity = 1."
   ]
  },
  {
   "cell_type": "code",
   "execution_count": 207,
   "id": "f84c0c16-3748-46e1-83c8-ba1fe5710b57",
   "metadata": {
    "execution": {
     "iopub.execute_input": "2022-07-25T16:52:58.482320Z",
     "iopub.status.busy": "2022-07-25T16:52:58.481342Z",
     "iopub.status.idle": "2022-07-25T16:52:58.488021Z",
     "shell.execute_reply": "2022-07-25T16:52:58.487420Z",
     "shell.execute_reply.started": "2022-07-25T16:52:58.482320Z"
    },
    "tags": []
   },
   "outputs": [],
   "source": [
    "kwargs = random_problem_with_artifacts(m,n,seed,sparsity)"
   ]
  },
  {
   "cell_type": "code",
   "execution_count": 208,
   "id": "97746172-2236-46df-8aed-233bfbc8ce63",
   "metadata": {
    "execution": {
     "iopub.execute_input": "2022-07-25T16:52:58.821398Z",
     "iopub.status.busy": "2022-07-25T16:52:58.821398Z",
     "iopub.status.idle": "2022-07-25T16:52:58.830819Z",
     "shell.execute_reply": "2022-07-25T16:52:58.830491Z",
     "shell.execute_reply.started": "2022-07-25T16:52:58.821398Z"
    },
    "tags": []
   },
   "outputs": [],
   "source": [
    "eq_incidence,outset,eqnidxs,edges_varonleft,varidxs = map(kwargs.get, [\"eq_incidence\",\"outset\",\"eqnidxs\",\"edges_varonleft\",\"varidxs\"])"
   ]
  },
  {
   "cell_type": "code",
   "execution_count": 201,
   "id": "cd5fd749-5b7d-4b47-a9f8-4978b3ffd536",
   "metadata": {
    "execution": {
     "iopub.execute_input": "2022-07-25T16:52:31.383060Z",
     "iopub.status.busy": "2022-07-25T16:52:31.383060Z",
     "iopub.status.idle": "2022-07-25T16:52:31.389233Z",
     "shell.execute_reply": "2022-07-25T16:52:31.389233Z",
     "shell.execute_reply.started": "2022-07-25T16:52:31.383060Z"
    },
    "tags": []
   },
   "outputs": [],
   "source": [
    "fixed_inputs = set(range(m,m+n))-set(outset.values())"
   ]
  },
  {
   "cell_type": "code",
   "execution_count": 176,
   "id": "271561cd-5bb8-4e39-8419-d75fa492a491",
   "metadata": {
    "execution": {
     "iopub.execute_input": "2022-07-25T16:48:19.044697Z",
     "iopub.status.busy": "2022-07-25T16:48:19.043587Z",
     "iopub.status.idle": "2022-07-25T16:48:19.060234Z",
     "shell.execute_reply": "2022-07-25T16:48:19.059944Z",
     "shell.execute_reply.started": "2022-07-25T16:48:19.044697Z"
    },
    "tags": []
   },
   "outputs": [],
   "source": [
    "fixed_inputs = list(combinations(range(n), n-m))[330]"
   ]
  },
  {
   "cell_type": "code",
   "execution_count": 155,
   "id": "5f2583fd-395b-4175-a9c2-1eee115bdceb",
   "metadata": {
    "execution": {
     "iopub.execute_input": "2022-07-25T16:42:12.928390Z",
     "iopub.status.busy": "2022-07-25T16:42:12.928390Z",
     "iopub.status.idle": "2022-07-25T16:42:12.942607Z",
     "shell.execute_reply": "2022-07-25T16:42:12.942384Z",
     "shell.execute_reply.started": "2022-07-25T16:42:12.928390Z"
    },
    "tags": []
   },
   "outputs": [],
   "source": [
    "fixed_inputs = tuple(elt+m for elt in fixed_inputs)"
   ]
  },
  {
   "cell_type": "code",
   "execution_count": 164,
   "id": "30044054-5731-41db-a5f8-701600e33376",
   "metadata": {
    "execution": {
     "iopub.execute_input": "2022-07-25T16:45:28.149980Z",
     "iopub.status.busy": "2022-07-25T16:45:28.149980Z",
     "iopub.status.idle": "2022-07-25T16:45:28.154953Z",
     "shell.execute_reply": "2022-07-25T16:45:28.154861Z",
     "shell.execute_reply.started": "2022-07-25T16:45:28.149980Z"
    },
    "tags": []
   },
   "outputs": [],
   "source": [
    "fixed_inputs = {10,14,21,23,24}"
   ]
  },
  {
   "cell_type": "code",
   "execution_count": 212,
   "id": "605af9e5-64b5-4c0b-8b78-5aa477940057",
   "metadata": {
    "execution": {
     "iopub.execute_input": "2022-07-25T16:53:10.177365Z",
     "iopub.status.busy": "2022-07-25T16:53:10.177365Z",
     "iopub.status.idle": "2022-07-25T16:53:11.408913Z",
     "shell.execute_reply": "2022-07-25T16:53:11.408610Z",
     "shell.execute_reply.started": "2022-07-25T16:53:10.177365Z"
    },
    "tags": []
   },
   "outputs": [],
   "source": [
    "maxscc = []\n",
    "for fixed_inputs in combinations(range(n), n-m):\n",
    "    fixed_inputs = tuple(elt+m for elt in fixed_inputs)\n",
    "    Ein_no_source = {comp:tuple(var for var in allvars if var not in fixed_inputs) for comp,allvars in eq_incidence.items()}\n",
    "    G = flat_graph_formulation(Ein_no_source,{},{},{VAR: 'x_{{{}}}', COMP: 'f_{{{}}}'})\n",
    "    top_nodes = {Node(idx, VAR) for idx in varidxs if idx not in fixed_inputs}\n",
    "    matching = nx.bipartite.maximum_matching(G, top_nodes=top_nodes)\n",
    "    if len(matching) == 2*m:\n",
    "        m_out = {key: matching[Node(key, COMP)].name for key in eqnidxs}\n",
    "        edges_dir_m = invert_edges(eq_incidence, newout=m_out)\n",
    "        dir_edges = all_edges(*edges_dir_m)\n",
    "        maxscc_idx = max(len(elt) for elt in nx.strongly_connected_components(nx.DiGraph(dir_edges)))//2\n",
    "        maxscc.append(maxscc_idx)"
   ]
  },
  {
   "cell_type": "code",
   "execution_count": 214,
   "id": "f39b23db-1b8d-49b2-9e1b-f0e075da52a7",
   "metadata": {
    "execution": {
     "iopub.execute_input": "2022-07-25T16:53:15.619588Z",
     "iopub.status.busy": "2022-07-25T16:53:15.619588Z",
     "iopub.status.idle": "2022-07-25T16:53:15.623760Z",
     "shell.execute_reply": "2022-07-25T16:53:15.623584Z",
     "shell.execute_reply.started": "2022-07-25T16:53:15.619588Z"
    },
    "tags": []
   },
   "outputs": [
    {
     "data": {
      "text/plain": [
       "224"
      ]
     },
     "execution_count": 214,
     "metadata": {},
     "output_type": "execute_result"
    }
   ],
   "source": [
    "len(np.argwhere(np.array(maxscc)==0))"
   ]
  },
  {
   "cell_type": "code",
   "execution_count": 209,
   "id": "66451ff9-2f9d-46e0-a09a-e44008e59195",
   "metadata": {
    "execution": {
     "iopub.execute_input": "2022-07-25T16:53:03.206789Z",
     "iopub.status.busy": "2022-07-25T16:53:03.206789Z",
     "iopub.status.idle": "2022-07-25T16:53:03.218335Z",
     "shell.execute_reply": "2022-07-25T16:53:03.218335Z",
     "shell.execute_reply.started": "2022-07-25T16:53:03.206789Z"
    },
    "tags": []
   },
   "outputs": [],
   "source": [
    "edges_undir,tree_undir,_ = eqv_to_edges_tree(eq_incidence, n_eqs=m)\n",
    "edges_dir,tree_dir,outset_adj = eqv_to_edges_tree(eq_incidence, outset, n_eqs=m)\n",
    "tree_undir[2].update({val:1 for val in outset_adj.values()})"
   ]
  },
  {
   "cell_type": "code",
   "execution_count": 210,
   "id": "66da1203-fc08-4f40-b5ea-f25bd31874ef",
   "metadata": {
    "execution": {
     "iopub.execute_input": "2022-07-25T16:53:03.583394Z",
     "iopub.status.busy": "2022-07-25T16:53:03.582363Z",
     "iopub.status.idle": "2022-07-25T16:53:03.978908Z",
     "shell.execute_reply": "2022-07-25T16:53:03.978697Z",
     "shell.execute_reply.started": "2022-07-25T16:53:03.583394Z"
    },
    "tags": []
   },
   "outputs": [
    {
     "data": {
      "image/png": "[encoded data removed]",
      "text/plain": [
       "<Figure size 288x288 with 1 Axes>"
      ]
     },
     "metadata": {
      "needs_background": "light"
     },
     "output_type": "display_data"
    }
   ],
   "source": [
    "formulation_scc = reformulate(edges_dir, tree_dir, root_solver_name=1, mdf=True)\n",
    "render_incidence(*formulation_scc, figsize=((4,4)), rotation=60, hideticks=True,);"
   ]
  },
  {
   "cell_type": "code",
   "execution_count": 211,
   "id": "fc4b3e00-2d27-4747-bf73-50c0979fda56",
   "metadata": {
    "execution": {
     "iopub.execute_input": "2022-07-25T16:53:05.265408Z",
     "iopub.status.busy": "2022-07-25T16:53:05.264360Z",
     "iopub.status.idle": "2022-07-25T16:53:05.503516Z",
     "shell.execute_reply": "2022-07-25T16:53:05.503516Z",
     "shell.execute_reply.started": "2022-07-25T16:53:05.265408Z"
    },
    "tags": []
   },
   "outputs": [
    {
     "data": {
      "image/png": "[encoded data removed]",
      "text/plain": [
       "<Figure size 288x288 with 1 Axes>"
      ]
     },
     "metadata": {
      "needs_background": "light"
     },
     "output_type": "display_data"
    }
   ],
   "source": [
    "xsol, model = min_max_scc2(edges_varonleft, varidxs, eqnidxs)\n",
    "outset_minscc = dict((right, left-m) for left, right in edges_varonleft if xsol[left, right] > 0.5)\n",
    "formulation_minscc = reformulate(edges_dir, tree_dir, outset_adj, outset_minscc, root_solver_name=1)\n",
    "render_incidence(*formulation_minscc, figsize=((4,4)), hideticks=True);"
   ]
  },
  {
   "cell_type": "code",
   "execution_count": null,
   "id": "e04b6d18-66a1-411d-a823-217508d27280",
   "metadata": {},
   "outputs": [],
   "source": []
  }
 ],
 "metadata": {
  "kernelspec": {
   "display_name": "Python [conda env:minimdo]",
   "language": "python",
   "name": "conda-env-minimdo-py"
  },
  "language_info": {
   "codemirror_mode": {
    "name": "ipython",
    "version": 3
   },
   "file_extension": ".py",
   "mimetype": "text/x-python",
   "name": "python",
   "nbconvert_exporter": "python",
   "pygments_lexer": "ipython3",
   "version": "3.9.12"
  }
 },
 "nbformat": 4,
 "nbformat_minor": 5
}
