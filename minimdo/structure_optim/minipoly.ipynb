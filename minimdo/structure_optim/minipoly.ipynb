{
 "cells": [
  {
   "cell_type": "code",
   "execution_count": 1,
   "id": "9b45856e-2b84-49e0-8105-78ea6c9034da",
   "metadata": {
    "execution": {
     "iopub.execute_input": "2022-06-29T20:39:53.574984Z",
     "iopub.status.busy": "2022-06-29T20:39:53.574582Z",
     "iopub.status.idle": "2022-06-29T20:39:59.382700Z",
     "shell.execute_reply": "2022-06-29T20:39:59.382700Z",
     "shell.execute_reply.started": "2022-06-29T20:39:53.574984Z"
    },
    "tags": []
   },
   "outputs": [
    {
     "name": "stderr",
     "output_type": "stream",
     "text": [
      "/home/johan/miniconda3/envs/pyoptsparse/lib/python3.9/site-packages/pyoptsparse/pyOpt_MPI.py:68: UserWarning: mpi4py could not be imported. mpi4py is required to use the parallel gradient analysis and parallel objective analysis for non-gradient based optimizers. Continuing using a dummy MPI module from pyOptSparse.\n",
      "  warnings.warn(warn)\n"
     ]
    }
   ],
   "source": [
    "from datastructures.polycasebuilder import generate_random_polynomials, get_arg_mapping, directed_poly_executables, eqv_to_edges_tree\n",
    "from testproblems import generate_random_prob, random_problem_with_artifacts\n",
    "from datastructures.graphutils import VAR, COMP, SOLVER, edges_to_Ein_Eout, sinks, sources, namefromid, all_components, nested_sources, path\n",
    "from datastructures.nestedgraph import root_sources\n",
    "from datastructures.workflow import OBJ, NEQ, EQ, OPT\n",
    "from datastructures.runpipeline import nestedform_to_mdao\n",
    "import numpy as np\n",
    "from datastructures.execution import Component\n",
    "from datastructures.operators import sort_scc, reorder_merge_solve\n",
    "from representations import bipartite_repr\n",
    "from inputresolver import getallvars, direct_eqs, invert_edges\n",
    "from datastructures.tearing import min_max_scc2, outset_from_solution,dir_graph\n",
    "from experimentutils import run_calculations\n",
    "from compute import Var\n",
    "import openmdao.api as om\n",
    "import pandas as pd\n",
    "from functools import partial\n",
    "from collections import defaultdict\n",
    "import time\n",
    "from ipywidgets import IntProgress\n",
    "from IPython.display import display\n",
    "import networkx as nx"
   ]
  },
  {
   "cell_type": "code",
   "execution_count": 2,
   "id": "ff870d0a-9e45-48b1-8aba-8e5aa07df908",
   "metadata": {
    "execution": {
     "iopub.execute_input": "2022-06-29T20:39:59.385800Z",
     "iopub.status.busy": "2022-06-29T20:39:59.385219Z",
     "iopub.status.idle": "2022-06-29T20:39:59.398651Z",
     "shell.execute_reply": "2022-06-29T20:39:59.398651Z",
     "shell.execute_reply.started": "2022-06-29T20:39:59.385745Z"
    },
    "tags": []
   },
   "outputs": [],
   "source": [
    "from numpy import random"
   ]
  },
  {
   "cell_type": "code",
   "execution_count": 3,
   "id": "263ffb2b-3f5e-4973-97a0-4d7a6204502f",
   "metadata": {
    "execution": {
     "iopub.execute_input": "2022-06-29T20:39:59.399652Z",
     "iopub.status.busy": "2022-06-29T20:39:59.399652Z",
     "iopub.status.idle": "2022-06-29T20:39:59.414997Z",
     "shell.execute_reply": "2022-06-29T20:39:59.414766Z",
     "shell.execute_reply.started": "2022-06-29T20:39:59.399652Z"
    },
    "tags": []
   },
   "outputs": [],
   "source": [
    "nodetyperepr = {VAR: 'x_{{{}}}', COMP: 'f_{}', SOLVER: 's_{}'}\n",
    "namefunc = namefromid(nodetyperepr)"
   ]
  },
  {
   "cell_type": "code",
   "execution_count": 4,
   "id": "f544aa80-1da7-4d2c-a2d0-358c2c4dce96",
   "metadata": {
    "execution": {
     "iopub.execute_input": "2022-06-29T20:39:59.417012Z",
     "iopub.status.busy": "2022-06-29T20:39:59.416014Z",
     "iopub.status.idle": "2022-06-29T20:39:59.430869Z",
     "shell.execute_reply": "2022-06-29T20:39:59.430184Z",
     "shell.execute_reply.started": "2022-06-29T20:39:59.417012Z"
    },
    "tags": []
   },
   "outputs": [],
   "source": [
    "def generate_var(varids):\n",
    "    return [Var(namefunc(varid, VAR)) for varid in varids]"
   ]
  },
  {
   "cell_type": "code",
   "execution_count": 5,
   "id": "0b5c3be0-53f1-4f09-ba05-cae88a4f06c6",
   "metadata": {
    "execution": {
     "iopub.execute_input": "2022-06-29T20:39:59.431876Z",
     "iopub.status.busy": "2022-06-29T20:39:59.431876Z",
     "iopub.status.idle": "2022-06-29T20:39:59.446164Z",
     "shell.execute_reply": "2022-06-29T20:39:59.445763Z",
     "shell.execute_reply.started": "2022-06-29T20:39:59.431876Z"
    },
    "tags": []
   },
   "outputs": [],
   "source": [
    "#(5,10,7,1.7 no numerical issues)\n",
    "n_eqs = 5\n",
    "n_vars = 10\n",
    "seed = 9#8 is triang#seed 10 is nice 42 \n",
    "sparsity = 1.7#0.8 1.1 #1.7 1.3\n",
    "eqv, varinc, output_set = generate_random_prob(n_eqs, n_vars, seed, sparsity)\n",
    "#polynomials, var_mapping, edges, tree, components = generate_random_polynomials(eqv, output_set, n_eqs)"
   ]
  },
  {
   "cell_type": "code",
   "execution_count": 6,
   "id": "8f6515d9-7e89-4d8c-857d-0c9cf528075c",
   "metadata": {
    "execution": {
     "iopub.execute_input": "2022-06-29T20:39:59.447357Z",
     "iopub.status.busy": "2022-06-29T20:39:59.447357Z",
     "iopub.status.idle": "2022-06-29T20:39:59.461280Z",
     "shell.execute_reply": "2022-06-29T20:39:59.461280Z",
     "shell.execute_reply.started": "2022-06-29T20:39:59.447357Z"
    },
    "tags": []
   },
   "outputs": [
    {
     "data": {
      "text/plain": [
       "{0: (5, 6, 7, 10, 11, 12),\n",
       " 1: (6, 7, 9, 11, 12, 13, 5),\n",
       " 2: (5, 6, 8, 9, 10, 11, 12),\n",
       " 3: (6, 8, 11, 12, 14),\n",
       " 4: (5, 6, 8, 10, 11, 12, 13, 14, 7)}"
      ]
     },
     "execution_count": 6,
     "metadata": {},
     "output_type": "execute_result"
    }
   ],
   "source": [
    "eqv"
   ]
  },
  {
   "cell_type": "code",
   "execution_count": 7,
   "id": "fe09cfef-33e1-47c9-8eeb-8a952182ecee",
   "metadata": {
    "execution": {
     "iopub.execute_input": "2022-06-29T20:39:59.463469Z",
     "iopub.status.busy": "2022-06-29T20:39:59.463187Z",
     "iopub.status.idle": "2022-06-29T20:39:59.478020Z",
     "shell.execute_reply": "2022-06-29T20:39:59.477331Z",
     "shell.execute_reply.started": "2022-06-29T20:39:59.463469Z"
    },
    "tags": []
   },
   "outputs": [],
   "source": [
    "def optimal_formulation(eqv, output_set):\n",
    "    n_eqs = len(eqv)\n",
    "    _, edges_varonleft = bipartite_repr(eqv)\n",
    "    eqs=direct_eqs(eqv, output_set)\n",
    "    avrs = getallvars(eqs, sympy=False)\n",
    "    eqns = eqs.keys()\n",
    "    #graph_edges = invert_edges(edges_original)\n",
    "    xsol, m = min_max_scc2(edges_varonleft, avrs, eqns)\n",
    "    best_outset= dict((right, left) for left, right in edges_varonleft if xsol[left, right] > 0.5)\n",
    "    return best_outset"
   ]
  },
  {
   "cell_type": "code",
   "execution_count": 8,
   "id": "599f89e8-14cc-4e0e-b58a-01b9cde3b7d4",
   "metadata": {
    "execution": {
     "iopub.execute_input": "2022-06-29T20:39:59.480031Z",
     "iopub.status.busy": "2022-06-29T20:39:59.478864Z",
     "iopub.status.idle": "2022-06-29T20:39:59.491988Z",
     "shell.execute_reply": "2022-06-29T20:39:59.491988Z",
     "shell.execute_reply.started": "2022-06-29T20:39:59.480031Z"
    },
    "tags": []
   },
   "outputs": [],
   "source": [
    "def generate(g, limit=2):\n",
    "    def generator(*args):\n",
    "        for i in range(limit):\n",
    "            for elt in g(*args):\n",
    "                yield elt\n",
    "    return generator"
   ]
  },
  {
   "cell_type": "code",
   "execution_count": 9,
   "id": "c269ddfc-effd-48c3-9ec2-6f37cc1ec81b",
   "metadata": {
    "execution": {
     "iopub.execute_input": "2022-06-29T20:39:59.492902Z",
     "iopub.status.busy": "2022-06-29T20:39:59.492902Z",
     "iopub.status.idle": "2022-06-29T20:39:59.508533Z",
     "shell.execute_reply": "2022-06-29T20:39:59.507629Z",
     "shell.execute_reply.started": "2022-06-29T20:39:59.492902Z"
    },
    "tags": []
   },
   "outputs": [],
   "source": [
    "rng1 = np.random.default_rng(0);\n",
    "rng2 = np.random.default_rng(1);"
   ]
  },
  {
   "cell_type": "code",
   "execution_count": 10,
   "id": "7d3fbf90-81d4-4ca7-8609-ea481af4080c",
   "metadata": {
    "execution": {
     "iopub.execute_input": "2022-06-29T20:39:59.511132Z",
     "iopub.status.busy": "2022-06-29T20:39:59.510979Z",
     "iopub.status.idle": "2022-06-29T20:39:59.523082Z",
     "shell.execute_reply": "2022-06-29T20:39:59.523082Z",
     "shell.execute_reply.started": "2022-06-29T20:39:59.511132Z"
    },
    "tags": []
   },
   "outputs": [],
   "source": [
    "def g1(m,n,c,eqvs=None,outsets=None,randstruct=None):\n",
    "    s = int(rng1.integers(0, 2**16))\n",
    "    randstruct[(m,n,c)].append(s)\n",
    "    eqv, _, output_set = generate_random_prob(m, n, s, c)\n",
    "    output_set_opt = optimal_formulation(eqv, output_set)\n",
    "    eqvs[(m,n,c,s)] = eqv\n",
    "    outsets[(m,n,c,s,1)] = output_set\n",
    "    outsets[(m,n,c,s,2)] = output_set_opt\n",
    "    yield (m, n, c, s)"
   ]
  },
  {
   "cell_type": "code",
   "execution_count": 11,
   "id": "7e54318d-20a3-46fc-aaf3-9b3cf747113d",
   "metadata": {
    "execution": {
     "iopub.execute_input": "2022-06-29T20:39:59.525081Z",
     "iopub.status.busy": "2022-06-29T20:39:59.524081Z",
     "iopub.status.idle": "2022-06-29T20:39:59.538928Z",
     "shell.execute_reply": "2022-06-29T20:39:59.538081Z",
     "shell.execute_reply.started": "2022-06-29T20:39:59.525081Z"
    },
    "tags": []
   },
   "outputs": [],
   "source": [
    "def g2(m, n, c, s, randpoly=None):\n",
    "    r = int(rng2.integers(0, 2**31)) \n",
    "    randpoly[(m,n,c,s)].append(r)\n",
    "    yield (m, n, c, s, 1, r)\n",
    "    yield (m, n, c, s, 2, r)"
   ]
  },
  {
   "cell_type": "code",
   "execution_count": 12,
   "id": "ae9d5177-49a0-499a-90c2-6fca47eb36c5",
   "metadata": {
    "execution": {
     "iopub.execute_input": "2022-06-29T20:39:59.539832Z",
     "iopub.status.busy": "2022-06-29T20:39:59.539832Z",
     "iopub.status.idle": "2022-06-29T20:39:59.553254Z",
     "shell.execute_reply": "2022-06-29T20:39:59.553254Z",
     "shell.execute_reply.started": "2022-06-29T20:39:59.539832Z"
    },
    "tags": []
   },
   "outputs": [],
   "source": [
    "def g3(*args):\n",
    "    yield tuple(args) + (True,)\n",
    "    yield tuple(args) + (False,)"
   ]
  },
  {
   "cell_type": "code",
   "execution_count": 13,
   "id": "bab7882e-5c4d-49a9-9bd6-6d78c5d109c5",
   "metadata": {
    "execution": {
     "iopub.execute_input": "2022-06-29T20:39:59.555258Z",
     "iopub.status.busy": "2022-06-29T20:39:59.555258Z",
     "iopub.status.idle": "2022-06-29T20:39:59.569279Z",
     "shell.execute_reply": "2022-06-29T20:39:59.569279Z",
     "shell.execute_reply.started": "2022-06-29T20:39:59.555258Z"
    },
    "tags": []
   },
   "outputs": [],
   "source": [
    "outsets = dict()\n",
    "eqvs = dict()\n",
    "randstruct = defaultdict(list)\n",
    "randpoly = defaultdict(list)"
   ]
  },
  {
   "cell_type": "code",
   "execution_count": 14,
   "id": "120900d5-2727-4602-9779-a9bba792c60e",
   "metadata": {
    "execution": {
     "iopub.execute_input": "2022-06-29T20:39:59.570253Z",
     "iopub.status.busy": "2022-06-29T20:39:59.570253Z",
     "iopub.status.idle": "2022-06-29T20:39:59.586257Z",
     "shell.execute_reply": "2022-06-29T20:39:59.585334Z",
     "shell.execute_reply.started": "2022-06-29T20:39:59.570253Z"
    },
    "tags": []
   },
   "outputs": [],
   "source": [
    "funtable = {\n",
    "    1: (generate(partial(g1, eqvs=eqvs,outsets=outsets, randstruct=randstruct), limit=10), 2),\n",
    "    2: (generate(partial(g2, randpoly=randpoly), limit=10), 3),\n",
    "    3: (g3, None)\n",
    "}"
   ]
  },
  {
   "cell_type": "code",
   "execution_count": 15,
   "id": "91256279-04a5-4e17-9ef3-fde3ab43ae1d",
   "metadata": {
    "execution": {
     "iopub.execute_input": "2022-06-29T20:40:00.226454Z",
     "iopub.status.busy": "2022-06-29T20:40:00.225454Z",
     "iopub.status.idle": "2022-06-29T20:40:00.373478Z",
     "shell.execute_reply": "2022-06-29T20:40:00.373478Z",
     "shell.execute_reply.started": "2022-06-29T20:40:00.226454Z"
    },
    "tags": []
   },
   "outputs": [
    {
     "name": "stdout",
     "output_type": "stream",
     "text": [
      "Set parameter Username\n",
      "Academic license - for non-commercial use only - expires 2023-07-16\n"
     ]
    }
   ],
   "source": [
    "q = [(1, (10, 15, 1))]\n",
    "output = []\n",
    "while q:\n",
    "    fid, args = q.pop()\n",
    "    if fid:\n",
    "        f, nextfid  = funtable[fid]\n",
    "        for elt in f(*args):\n",
    "            q.append((nextfid,elt))\n",
    "    else:\n",
    "        output.append(args)"
   ]
  },
  {
   "cell_type": "code",
   "execution_count": 16,
   "id": "69c55d41-604c-4013-bb98-fb95ab8bdd66",
   "metadata": {
    "execution": {
     "iopub.execute_input": "2022-06-29T20:40:00.647865Z",
     "iopub.status.busy": "2022-06-29T20:40:00.647865Z",
     "iopub.status.idle": "2022-06-29T20:40:00.656863Z",
     "shell.execute_reply": "2022-06-29T20:40:00.656863Z",
     "shell.execute_reply.started": "2022-06-29T20:40:00.647865Z"
    },
    "tags": []
   },
   "outputs": [],
   "source": [
    "def add_obj(inputids, var_mapping, edges, tree, components):\n",
    "    inputvars = [var_mapping[elt][0] for elt in inputids]\n",
    "    fobj = sum([(elt-1)**2 for elt in inputvars])\n",
    "    newidx = 'obj'#len(edges[1])\n",
    "    c = Component.fromsympy(fobj, component=newidx, arg_mapping=var_mapping)\n",
    "    edges[0][newidx] = c.inputs\n",
    "    edges[1][newidx] = c.outputs\n",
    "    tree[0][newidx] = 1\n",
    "    return components+[c], newidx"
   ]
  },
  {
   "cell_type": "code",
   "execution_count": 42,
   "id": "0feeadfc-707a-4fdd-94cf-eeef8ee64378",
   "metadata": {
    "execution": {
     "iopub.execute_input": "2022-06-29T20:40:01.032157Z",
     "iopub.status.busy": "2022-06-29T20:40:01.032157Z",
     "iopub.status.idle": "2022-06-29T20:40:01.045584Z",
     "shell.execute_reply": "2022-06-29T20:40:01.045584Z",
     "shell.execute_reply.started": "2022-06-29T20:40:01.032157Z"
    },
    "tags": []
   },
   "outputs": [],
   "source": [
    "def generate_mdao_prob(inputids, var_mapping, edges, tree, components, mdf=True):\n",
    "    components, newidx = add_obj(inputids, var_mapping, edges, tree, components)\n",
    "    #solvers_options = {1: {'type': OPT, 'disp':False}}\n",
    "    solvers_options = {1:{'type': OPT, 'optimizer': 'IPOPT', 'driver': om.pyOptSparseDriver, 'print_results':False}}\n",
    "    solvers_options.update({2:{'maxiter':200}})\n",
    "    comp_options = {newidx:OBJ}\n",
    "    dv = root_sources(edges, tree)\n",
    "    for elt in dv:\n",
    "        tree[2][elt] = 1\n",
    "    var_options = {}\n",
    "    nodetyperepr = {VAR: 'x_{}', COMP: 'f_{}', SOLVER: 's_{}'}\n",
    "    prob, mdao_in, groups, formulation,merge_order = nestedform_to_mdao(edges, tree, components, solvers_options, comp_options, var_options, nodetyperepr, mdf)\n",
    "    return prob, groups, formulation, merge_order"
   ]
  },
  {
   "cell_type": "code",
   "execution_count": 43,
   "id": "269e5f50-8e0b-42b3-9ed4-63a64da65cda",
   "metadata": {
    "execution": {
     "iopub.execute_input": "2022-06-29T20:40:01.464512Z",
     "iopub.status.busy": "2022-06-29T20:40:01.463515Z",
     "iopub.status.idle": "2022-06-29T20:40:01.479858Z",
     "shell.execute_reply": "2022-06-29T20:40:01.479858Z",
     "shell.execute_reply.started": "2022-06-29T20:40:01.464512Z"
    },
    "tags": []
   },
   "outputs": [],
   "source": [
    "def get_mdaoprobargs(outsets, eqvs, m, n, c, r1, M, r2, mdf):\n",
    "    outset = outsets[(m,n,c,r1,M)]\n",
    "    eqv = eqvs[(m,n,c,r1)]\n",
    "    n_eqs = len(eqv)\n",
    "    rng = np.random.default_rng(r2)\n",
    "    _, var_mapping, edges, tree, components = generate_random_polynomials(eqv, outset, n_eqs, rng)\n",
    "    inputids = sources(*edges_to_Ein_Eout(edges))\n",
    "    return inputids, var_mapping, edges, tree, components"
   ]
  },
  {
   "cell_type": "code",
   "execution_count": 47,
   "id": "67d11d99-4bf4-44c6-9b5d-bd5815cf79a1",
   "metadata": {
    "execution": {
     "iopub.execute_input": "2022-06-29T20:40:01.703512Z",
     "iopub.status.busy": "2022-06-29T20:40:01.703512Z",
     "iopub.status.idle": "2022-06-29T20:40:01.716508Z",
     "shell.execute_reply": "2022-06-29T20:40:01.715604Z",
     "shell.execute_reply.started": "2022-06-29T20:40:01.703512Z"
    },
    "tags": []
   },
   "outputs": [],
   "source": [
    "def generate_prob(outsets, eqvs, m, n, c, r1, M, r2, mdf):\n",
    "    inputids, var_mapping, edges, tree, components = get_mdaoprobargs(outsets, eqvs, m, n, c, r1, M, r2, mdf)\n",
    "    prob, groups, formulation,merge_order = generate_mdao_prob(inputids, var_mapping, edges, tree, components, mdf)\n",
    "    scc = [len(elt) for elt in merge_order if len(elt)>1]\n",
    "    try:\n",
    "        prob.set_solver_print(-1)\n",
    "        tic = time.perf_counter()\n",
    "        prob.run_driver()\n",
    "        toc = time.perf_counter()\n",
    "        Stree=formulation[1][1]\n",
    "        total_iters = 0\n",
    "        for key,var in Stree.items():\n",
    "            parent = groups['s_{}'.format(var)]\n",
    "            total_iters += getattr(parent, 's_{}'.format(key)).iter_count_apply\n",
    "        objiter = groups['s_1'].f_obj.iter_count\n",
    "        return prob.get_val('objobj'), total_iters, objiter, scc, toc-tic\n",
    "    except:\n",
    "        return 9999, None, None, scc, None"
   ]
  },
  {
   "cell_type": "code",
   "execution_count": 45,
   "id": "be587f87-2e55-45cc-84ba-37b2f7489d30",
   "metadata": {},
   "outputs": [],
   "source": [
    "def measure_optimization(prob, groups, Stree):\n",
    "    try:\n",
    "        prob.set_solver_print(-1)\n",
    "        tic = time.perf_counter()\n",
    "        prob.run_driver()\n",
    "        toc = time.perf_counter()\n",
    "        total_iters = 0\n",
    "        for key,var in Stree.items():\n",
    "            parent = groups['s_{}'.format(var)]\n",
    "            total_iters += getattr(parent, 's_{}'.format(key)).iter_count_apply\n",
    "        objiter = groups['s_1'].f_obj.iter_count\n",
    "        return prob.get_val('objobj'), total_iters, objiter, scc, toc-tic\n",
    "    except:\n",
    "        return 9999, None, None, scc, None"
   ]
  },
  {
   "cell_type": "code",
   "execution_count": 46,
   "id": "5e91d675-124c-4c6e-83b5-590a85daff11",
   "metadata": {},
   "outputs": [],
   "source": [
    "def min_max_scc_calculations(eq_incidence=None, edges_varonleft=None, varidxs=None, eqnidxs=None, outset=None, probtype=None, seed_poly=None, mdf=None, **kwargs):\n",
    "    if probtype == 2:\n",
    "        xsol, m = min_max_scc2(edges_varonleft, varidxs, eqnidxs, timeout=100)\n",
    "        if xsol:\n",
    "            output_set_opt = tuple((right, left) for left, right in edges_varonleft if xsol[left, right] > 0.5)\n",
    "            D = nx.DiGraph(dir_graph(edges_varonleft, eqnidxs, output_set_opt))\n",
    "            minssc = max(len(elt) for elt in nx.strongly_connected_components(D))//2\n",
    "            minssc = max(minssc,0)\n",
    "        else:\n",
    "            minssc = 999\n",
    "    rng = np.random.default_rng(seed_poly)\n",
    "    _, var_mapping, edges, tree, components = generate_random_polynomials(eq_incidence, outset, len(eqnidxs), rng)\n",
    "    inputids = sources(*edges_to_Ein_Eout(edges))\n",
    "    prob, groups, formulation,merge_order = generate_mdao_prob(inputids, var_mapping, edges, tree, components, mdf)\n",
    "    return measure_optimization(prob, groups, formulation[1][1])"
   ]
  },
  {
   "cell_type": "code",
   "execution_count": 32,
   "id": "f5299e0c-9a43-4149-95cf-96b53b7834ee",
   "metadata": {},
   "outputs": [],
   "source": [
    "def generate_artifacts(m,n,sparsity,seed,probtype,seed_poly,mdf):\n",
    "    kwargs = random_problem_with_artifacts(m,n,seed,sparsity)\n",
    "    kwargs.update({\n",
    "        \"seed_poly\": seed_poly,\n",
    "        \"probtype\": probtype,\n",
    "        \"mdf\": mdf\n",
    "    })\n",
    "    return kwargs"
   ]
  },
  {
   "cell_type": "code",
   "execution_count": 33,
   "id": "01a5f939-df5c-4391-b295-f130452335dd",
   "metadata": {},
   "outputs": [],
   "source": [
    "fxs = {('fobj', 'solveriter', 'optiter', 'maxscc', 'time'): min_max_scc_calculations}"
   ]
  },
  {
   "cell_type": "code",
   "execution_count": 35,
   "id": "53ed197c-1235-44b9-98e1-f1f9c70d74e0",
   "metadata": {},
   "outputs": [],
   "source": [
    "# run_calculations(df, fxs, iter_cycles=None, filename=None, \n",
    "#                  commonartifacts=generate_artifacts, argnames=[\"m\", \"n\", \"sparsity\", \"seed\", \"probtype\", \"seed_poly\", \"mdf\"])"
   ]
  },
  {
   "cell_type": "code",
   "execution_count": 40,
   "id": "817e8a88-4fdb-49e3-aaad-4c5affb3285e",
   "metadata": {
    "execution": {
     "iopub.execute_input": "2022-06-29T20:40:02.080352Z",
     "iopub.status.busy": "2022-06-29T20:40:02.080352Z",
     "iopub.status.idle": "2022-06-29T20:40:02.106541Z",
     "shell.execute_reply": "2022-06-29T20:40:02.105630Z",
     "shell.execute_reply.started": "2022-06-29T20:40:02.080352Z"
    },
    "tags": []
   },
   "outputs": [],
   "source": [
    "df = pd.DataFrame(output)\n",
    "df.set_axis(['m', 'n', 'c', 'r1', 'M', 'r2', 'mdf'], axis=1, inplace=True)"
   ]
  },
  {
   "cell_type": "code",
   "execution_count": 53,
   "id": "e3a49224-1ece-4bc3-9852-b6752c509c93",
   "metadata": {
    "execution": {
     "iopub.execute_input": "2022-06-29T20:40:02.509114Z",
     "iopub.status.busy": "2022-06-29T20:40:02.509114Z",
     "iopub.status.idle": "2022-06-29T20:40:02.524422Z",
     "shell.execute_reply": "2022-06-29T20:40:02.523424Z",
     "shell.execute_reply.started": "2022-06-29T20:40:02.509114Z"
    },
    "tags": []
   },
   "outputs": [
    {
     "data": {
      "text/plain": [
       "400"
      ]
     },
     "execution_count": 53,
     "metadata": {},
     "output_type": "execute_result"
    }
   ],
   "source": [
    "len(df)"
   ]
  },
  {
   "cell_type": "markdown",
   "id": "a502de0c-b281-4a1c-9ac3-daceef5ab801",
   "metadata": {
    "tags": []
   },
   "source": [
    "# Debuging"
   ]
  },
  {
   "cell_type": "code",
   "execution_count": 25,
   "id": "33055eaa-c318-4d80-9e95-0a262ece6626",
   "metadata": {
    "execution": {
     "iopub.execute_input": "2022-06-29T19:08:22.721506Z",
     "iopub.status.busy": "2022-06-29T19:08:22.721506Z",
     "iopub.status.idle": "2022-06-29T19:08:22.737536Z",
     "shell.execute_reply": "2022-06-29T19:08:22.737035Z",
     "shell.execute_reply.started": "2022-06-29T19:08:22.721506Z"
    },
    "tags": []
   },
   "outputs": [],
   "source": [
    "elt = df.iloc[104]\n",
    "kwargs = {key:var for key,var in elt.items() if key not in ['fobj', 'niter', 'scc']}"
   ]
  },
  {
   "cell_type": "code",
   "execution_count": 26,
   "id": "8da06cd6",
   "metadata": {},
   "outputs": [
    {
     "data": {
      "text/plain": [
       "{'m': 10, 'n': 15, 'c': 1, 'r1': 1083, 'M': 2, 'r2': 1155653965, 'mdf': False}"
      ]
     },
     "execution_count": 26,
     "metadata": {},
     "output_type": "execute_result"
    }
   ],
   "source": [
    "kwargs"
   ]
  },
  {
   "cell_type": "code",
   "execution_count": 37,
   "id": "880a81a0-9e88-4308-adc3-4d7d923ec96f",
   "metadata": {
    "execution": {
     "iopub.execute_input": "2022-06-29T19:05:48.001799Z",
     "iopub.status.busy": "2022-06-29T19:05:48.001799Z",
     "iopub.status.idle": "2022-06-29T19:05:48.358531Z",
     "shell.execute_reply": "2022-06-29T19:05:48.357121Z",
     "shell.execute_reply.started": "2022-06-29T19:05:48.001799Z"
    },
    "tags": []
   },
   "outputs": [],
   "source": [
    "inputids, var_mapping, edges, tree, components = get_mdaoprobargs(outsets, eqvs, **kwargs)\n",
    "mdf = kwargs['mdf']"
   ]
  },
  {
   "cell_type": "code",
   "execution_count": 38,
   "id": "43186241-2536-4baf-a7d6-2c61647a1e4e",
   "metadata": {
    "execution": {
     "iopub.execute_input": "2022-06-29T19:05:48.360082Z",
     "iopub.status.busy": "2022-06-29T19:05:48.359530Z",
     "iopub.status.idle": "2022-06-29T19:05:48.372719Z",
     "shell.execute_reply": "2022-06-29T19:05:48.372526Z",
     "shell.execute_reply.started": "2022-06-29T19:05:48.360082Z"
    },
    "tags": []
   },
   "outputs": [],
   "source": [
    "components, newidx = add_obj(inputids, var_mapping, edges, tree, components)\n",
    "solvers_options = {1: {'type': OPT, 'optimizer': 'IPOPT', 'driver': om.pyOptSparseDriver, 'print_results':True}, 2:{'maxiter':200}}\n",
    "comp_options = {newidx:OBJ}\n",
    "dv = root_sources(edges, tree)\n",
    "for elt in dv:\n",
    "    tree[2][elt] = 1\n",
    "var_options = {}\n",
    "nodetyperepr = {VAR: 'x_{}', COMP: 'f_{}', SOLVER: 's_{}'}"
   ]
  },
  {
   "cell_type": "code",
   "execution_count": 29,
   "id": "268f05e2-b15a-4f0a-a8fe-d03969f91725",
   "metadata": {
    "execution": {
     "iopub.execute_input": "2022-06-29T19:05:48.374753Z",
     "iopub.status.busy": "2022-06-29T19:05:48.374753Z",
     "iopub.status.idle": "2022-06-29T19:05:48.388006Z",
     "shell.execute_reply": "2022-06-29T19:05:48.388006Z",
     "shell.execute_reply.started": "2022-06-29T19:05:48.374753Z"
    },
    "tags": []
   },
   "outputs": [],
   "source": [
    "from datastructures.nestedgraph import flat_graph_formulation\n",
    "from datastructures.graphutils import root_solver"
   ]
  },
  {
   "cell_type": "code",
   "execution_count": 39,
   "id": "a2f865d4-05ef-46e2-943e-0fbb00b7782b",
   "metadata": {
    "execution": {
     "iopub.execute_input": "2022-06-29T19:05:48.421692Z",
     "iopub.status.busy": "2022-06-29T19:05:48.421692Z",
     "iopub.status.idle": "2022-06-29T19:05:48.436696Z",
     "shell.execute_reply": "2022-06-29T19:05:48.435690Z",
     "shell.execute_reply.started": "2022-06-29T19:05:48.421692Z"
    },
    "tags": []
   },
   "outputs": [],
   "source": [
    "G = flat_graph_formulation(*edges)\n",
    "merge_order = sort_scc(G)\n",
    "merge_parent = root_solver(tree) # all merged components will have this solver as the parent\n",
    "ordered_edges, ordered_tree = reorder_merge_solve(edges, tree, merge_order, merge_parent, mdf)"
   ]
  },
  {
   "cell_type": "code",
   "execution_count": 31,
   "id": "968291a6-d841-42e9-b6f8-ec839b3f0527",
   "metadata": {
    "execution": {
     "iopub.execute_input": "2022-06-29T19:05:48.566112Z",
     "iopub.status.busy": "2022-06-29T19:05:48.565612Z",
     "iopub.status.idle": "2022-06-29T19:05:48.579109Z",
     "shell.execute_reply": "2022-06-29T19:05:48.578108Z",
     "shell.execute_reply.started": "2022-06-29T19:05:48.566112Z"
    },
    "tags": []
   },
   "outputs": [],
   "source": [
    "from datastructures.workflow import order_from_tree, default_solver_options, mdao_workflow, get_f\n",
    "from datastructures.execution import generate_components_and_residuals\n",
    "from datastructures.workflow_mdao import mdao_workflow_with_args\n",
    "from datastructures.assembly import build_archi"
   ]
  },
  {
   "cell_type": "code",
   "execution_count": 40,
   "id": "b9f7eaa5-5fb2-4bba-8009-19c518940d19",
   "metadata": {
    "execution": {
     "iopub.execute_input": "2022-06-29T19:05:48.722999Z",
     "iopub.status.busy": "2022-06-29T19:05:48.722501Z",
     "iopub.status.idle": "2022-06-29T19:05:48.732503Z",
     "shell.execute_reply": "2022-06-29T19:05:48.732003Z",
     "shell.execute_reply.started": "2022-06-29T19:05:48.722999Z"
    },
    "tags": []
   },
   "outputs": [],
   "source": [
    "namingfunc = namefromid(nodetyperepr)\n",
    "sequence = order_from_tree(ordered_tree[0], ordered_tree[1], ordered_edges[1])\n",
    "solvers_options = default_solver_options(ordered_tree, solvers_options)\n",
    "wf = mdao_workflow(sequence, solvers_options, comp_options, var_options)\n",
    "all_components = generate_components_and_residuals(components, ordered_edges)\n",
    "lookup_f = get_f(all_components, ordered_edges)"
   ]
  },
  {
   "cell_type": "code",
   "execution_count": 41,
   "id": "ae303a17-9f48-4674-b888-85d6f18f6079",
   "metadata": {
    "execution": {
     "iopub.execute_input": "2022-06-29T19:05:48.953656Z",
     "iopub.status.busy": "2022-06-29T19:05:48.952658Z",
     "iopub.status.idle": "2022-06-29T19:05:48.962799Z",
     "shell.execute_reply": "2022-06-29T19:05:48.962655Z",
     "shell.execute_reply.started": "2022-06-29T19:05:48.953656Z"
    },
    "tags": []
   },
   "outputs": [],
   "source": [
    "wfmdao = mdao_workflow_with_args(wf, lookup_f, namingfunc)"
   ]
  },
  {
   "cell_type": "code",
   "execution_count": 42,
   "id": "f19db0f5-d17e-4d29-a847-8d553a5bee40",
   "metadata": {
    "execution": {
     "iopub.execute_input": "2022-06-29T19:05:49.209018Z",
     "iopub.status.busy": "2022-06-29T19:05:49.209018Z",
     "iopub.status.idle": "2022-06-29T19:05:49.227015Z",
     "shell.execute_reply": "2022-06-29T19:05:49.226015Z",
     "shell.execute_reply.started": "2022-06-29T19:05:49.209018Z"
    },
    "tags": []
   },
   "outputs": [],
   "source": [
    "prob, mdao_in, groups = build_archi(ordered_edges, ordered_tree, wfmdao, namingfunc)"
   ]
  },
  {
   "cell_type": "code",
   "execution_count": 43,
   "id": "5a803c90-ab15-4579-b0aa-fc41a35828f6",
   "metadata": {
    "execution": {
     "iopub.execute_input": "2022-06-29T19:05:49.963079Z",
     "iopub.status.busy": "2022-06-29T19:05:49.962581Z",
     "iopub.status.idle": "2022-06-29T19:05:50.316836Z",
     "shell.execute_reply": "2022-06-29T19:05:50.316266Z",
     "shell.execute_reply.started": "2022-06-29T19:05:49.962581Z"
    },
    "tags": []
   },
   "outputs": [
    {
     "name": "stderr",
     "output_type": "stream",
     "text": [
      "/home/johan/miniconda3/envs/pyoptsparse/lib/python3.9/site-packages/pyoptsparse/pyOpt_optimization.py:234: UserWarning: The argument `type=` is deprecated. Use `varType` in the future.\n",
      "  warnings.warn(\"The argument `type=` is deprecated. Use `varType` in the future.\")\n"
     ]
    },
    {
     "name": "stdout",
     "output_type": "stream",
     "text": [
      "\n",
      "\n",
      "Optimization Problem -- Optimization using pyOpt_sparse\n",
      "================================================================================\n",
      "    Objective Function: _objfunc\n",
      "\n",
      "    Solution: \n",
      "--------------------------------------------------------------------------------\n",
      "    Total Time:                    0.3637\n",
      "       User Objective Time :       0.0155\n",
      "       User Sensitivity Time :     0.3408\n",
      "       Interface Time :            0.0014\n",
      "       Opt Solver Time:            0.0060\n",
      "    Calls to Objective Function :       3\n",
      "    Calls to Sens Function :            2\n",
      "\n",
      "\n",
      "   Objectives\n",
      "      Index  Name                    Value\n",
      "          0  f_obj.objobj     0.000000E+00\n",
      "\n",
      "   Variables (c - continuous, i - integer, d - discrete)\n",
      "      Index  Name         Type      Lower Bound            Value      Upper Bound     Status\n",
      "          0  inp.x_1_0       c    -1.000000E+30     1.000000E+00     1.000000E+30           \n",
      "          1  inp.x_4_0       c    -1.000000E+30     1.000000E+00     1.000000E+30           \n",
      "          2  inp.x_6_0       c    -1.000000E+30     1.000000E+00     1.000000E+30           \n",
      "          3  inp.x_12_0      c    -1.000000E+30     1.000000E+00     1.000000E+30           \n",
      "          4  inp.x_13_0      c    -1.000000E+30     1.000000E+00     1.000000E+30           \n",
      "\n",
      "--------------------------------------------------------------------------------\n",
      "\n"
     ]
    }
   ],
   "source": [
    "prob.run_driver();"
   ]
  },
  {
   "cell_type": "code",
   "execution_count": 44,
   "id": "7d8537bb-9e92-4108-8811-38a5fbe4cddd",
   "metadata": {
    "execution": {
     "iopub.execute_input": "2022-06-29T19:06:28.837749Z",
     "iopub.status.busy": "2022-06-29T19:06:28.837749Z",
     "iopub.status.idle": "2022-06-29T19:06:28.852625Z",
     "shell.execute_reply": "2022-06-29T19:06:28.851625Z",
     "shell.execute_reply.started": "2022-06-29T19:06:28.837749Z"
    },
    "tags": []
   },
   "outputs": [
    {
     "data": {
      "text/plain": [
       "4"
      ]
     },
     "execution_count": 44,
     "metadata": {},
     "output_type": "execute_result"
    }
   ],
   "source": [
    "groups['s_1'].f_obj.iter_count"
   ]
  },
  {
   "cell_type": "markdown",
   "id": "b6d04cee-9568-4c76-ae26-2ff25ef77f79",
   "metadata": {},
   "source": [
    "# Run"
   ]
  },
  {
   "cell_type": "code",
   "execution_count": 48,
   "id": "ece45303-cb55-4403-9c34-b8df3b13c7ed",
   "metadata": {
    "execution": {
     "iopub.execute_input": "2022-06-29T21:27:14.095360Z",
     "iopub.status.busy": "2022-06-29T21:27:14.094298Z",
     "iopub.status.idle": "2022-06-30T00:00:17.452316Z",
     "shell.execute_reply": "2022-06-30T00:00:17.452316Z",
     "shell.execute_reply.started": "2022-06-29T21:27:14.095360Z"
    },
    "tags": []
   },
   "outputs": [
    {
     "data": {
      "application/vnd.jupyter.widget-view+json": {
       "model_id": "3cf424ff4d3241d9bbe01dcd7b0228da",
       "version_major": 2,
       "version_minor": 0
      },
      "text/plain": [
       "IntProgress(value=0, max=1)"
      ]
     },
     "metadata": {},
     "output_type": "display_data"
    },
    {
     "name": "stdout",
     "output_type": "stream",
     "text": [
      "\n",
      "\n",
      "Optimization Problem -- Optimization using pyOpt_sparse\n",
      "================================================================================\n",
      "    Objective Function: _objfunc\n",
      "\n",
      "    Solution: \n",
      "--------------------------------------------------------------------------------\n",
      "    Total Time:                    0.7910\n",
      "       User Objective Time :       0.0181\n",
      "       User Sensitivity Time :     0.7650\n",
      "       Interface Time :            0.0019\n",
      "       Opt Solver Time:            0.0058\n",
      "    Calls to Objective Function :       3\n",
      "    Calls to Sens Function :            2\n",
      "\n",
      "\n",
      "   Objectives\n",
      "      Index  Name                    Value\n",
      "          0  f_obj.objobj     0.000000E+00\n",
      "\n",
      "   Variables (c - continuous, i - integer, d - discrete)\n",
      "      Index  Name         Type      Lower Bound            Value      Upper Bound     Status\n",
      "          0  inp.x_0_0       c    -1.000000E+30     1.000000E+00     1.000000E+30           \n",
      "          1  inp.x_2_0       c    -1.000000E+30     1.000000E+00     1.000000E+30           \n",
      "          2  inp.x_7_0       c    -1.000000E+30     1.000000E+00     1.000000E+30           \n",
      "          3  inp.x_8_0       c    -1.000000E+30     1.000000E+00     1.000000E+30           \n",
      "          4  inp.x_14_0      c    -1.000000E+30     1.000000E+00     1.000000E+30           \n",
      "\n",
      "--------------------------------------------------------------------------------\n",
      "\n",
      "\n",
      "\n",
      "Optimization Problem -- Optimization using pyOpt_sparse\n",
      "================================================================================\n",
      "    Objective Function: _objfunc\n",
      "\n",
      "    Solution: \n",
      "--------------------------------------------------------------------------------\n",
      "    Total Time:                    0.6012\n",
      "       User Objective Time :       0.0176\n",
      "       User Sensitivity Time :     0.5773\n",
      "       Interface Time :            0.0016\n",
      "       Opt Solver Time:            0.0048\n",
      "    Calls to Objective Function :       3\n",
      "    Calls to Sens Function :            2\n",
      "\n",
      "\n",
      "   Objectives\n",
      "      Index  Name                    Value\n",
      "          0  f_obj.objobj     0.000000E+00\n",
      "\n",
      "   Variables (c - continuous, i - integer, d - discrete)\n",
      "      Index  Name         Type      Lower Bound            Value      Upper Bound     Status\n",
      "          0  inp.x_0_0       c    -1.000000E+30     1.000000E+00     1.000000E+30           \n",
      "          1  inp.x_2_0       c    -1.000000E+30     1.000000E+00     1.000000E+30           \n",
      "          2  inp.x_7_0       c    -1.000000E+30     1.000000E+00     1.000000E+30           \n",
      "          3  inp.x_8_0       c    -1.000000E+30     1.000000E+00     1.000000E+30           \n",
      "          4  inp.x_14_0      c    -1.000000E+30     1.000000E+00     1.000000E+30           \n",
      "\n",
      "--------------------------------------------------------------------------------\n",
      "\n"
     ]
    }
   ],
   "source": [
    "import warnings\n",
    "warnings.simplefilter(\"ignore\", UserWarning)\n",
    "max_count = 24\n",
    "f = IntProgress(min=0, max=max_count) # instantiate the bar\n",
    "display(f)\n",
    "for idx,elt in enumerate(df.iloc):\n",
    "    if idx <= max_count and np.isnan(df.loc[idx,'fobj']):\n",
    "        kwargs = {key:var for key,var in elt.items() if key not in ['fobj', 'optiter', 'solveriter', 'scc', 'time']}\n",
    "        fobj, niter, objiter, scc, elapsed_time = generate_prob(outsets, eqvs, **kwargs)\n",
    "        df.loc[idx, 'fobj'] = np.round(fobj,2)\n",
    "        df.loc[idx, 'optiter'] = objiter\n",
    "        df.loc[idx, 'solveriter'] = niter\n",
    "        df.loc[idx, 'time'] = elapsed_time\n",
    "        df.loc[idx, 'scc'] = str(scc)\n",
    "    f.value += 1\n",
    "    df.to_csv('experimental_results_ipopt.csv')"
   ]
  },
  {
   "cell_type": "code",
   "execution_count": 52,
   "id": "466ca379",
   "metadata": {},
   "outputs": [
    {
     "data": {
      "text/plain": [
       "True"
      ]
     },
     "execution_count": 52,
     "metadata": {},
     "output_type": "execute_result"
    }
   ],
   "source": [
    "np.isnan(df.loc[4,'fobj'])"
   ]
  },
  {
   "cell_type": "code",
   "execution_count": 66,
   "id": "b217fc2a-728d-44f5-96cb-70e21225f4c6",
   "metadata": {
    "execution": {
     "iopub.execute_input": "2022-07-09T20:08:33.300851Z",
     "iopub.status.busy": "2022-07-09T20:08:33.299847Z",
     "iopub.status.idle": "2022-07-09T20:08:33.359229Z",
     "shell.execute_reply": "2022-07-09T20:08:33.358725Z",
     "shell.execute_reply.started": "2022-07-09T20:08:33.300851Z"
    },
    "tags": []
   },
   "outputs": [],
   "source": [
    "df.to_csv('experimental_results.csv')"
   ]
  },
  {
   "cell_type": "code",
   "execution_count": 92,
   "id": "419c5e68-c558-405b-9591-d9c33ee4b18e",
   "metadata": {
    "execution": {
     "iopub.execute_input": "2022-06-29T19:27:52.585677Z",
     "iopub.status.busy": "2022-06-29T19:27:52.585677Z",
     "iopub.status.idle": "2022-06-29T19:27:52.603677Z",
     "shell.execute_reply": "2022-06-29T19:27:52.602677Z",
     "shell.execute_reply.started": "2022-06-29T19:27:52.585677Z"
    },
    "tags": []
   },
   "outputs": [
    {
     "data": {
      "text/html": [
       "<div>\n",
       "<style scoped>\n",
       "    .dataframe tbody tr th:only-of-type {\n",
       "        vertical-align: middle;\n",
       "    }\n",
       "\n",
       "    .dataframe tbody tr th {\n",
       "        vertical-align: top;\n",
       "    }\n",
       "\n",
       "    .dataframe thead th {\n",
       "        text-align: right;\n",
       "    }\n",
       "</style>\n",
       "<table border=\"1\" class=\"dataframe\">\n",
       "  <thead>\n",
       "    <tr style=\"text-align: right;\">\n",
       "      <th></th>\n",
       "      <th>m</th>\n",
       "      <th>n</th>\n",
       "      <th>c</th>\n",
       "      <th>r1</th>\n",
       "      <th>M</th>\n",
       "      <th>r2</th>\n",
       "      <th>mdf</th>\n",
       "      <th>fobj</th>\n",
       "      <th>optiter</th>\n",
       "      <th>solveriter</th>\n",
       "      <th>time</th>\n",
       "      <th>scc</th>\n",
       "    </tr>\n",
       "  </thead>\n",
       "  <tbody>\n",
       "    <tr>\n",
       "      <th>0</th>\n",
       "      <td>10</td>\n",
       "      <td>15</td>\n",
       "      <td>1</td>\n",
       "      <td>53298</td>\n",
       "      <td>2</td>\n",
       "      <td>669652944</td>\n",
       "      <td>False</td>\n",
       "      <td>2.500000e+01</td>\n",
       "      <td>56.0</td>\n",
       "      <td>0.0</td>\n",
       "      <td>3.378072</td>\n",
       "      <td>[2]</td>\n",
       "    </tr>\n",
       "    <tr>\n",
       "      <th>4</th>\n",
       "      <td>10</td>\n",
       "      <td>15</td>\n",
       "      <td>1</td>\n",
       "      <td>53298</td>\n",
       "      <td>2</td>\n",
       "      <td>535214420</td>\n",
       "      <td>False</td>\n",
       "      <td>0.000000e+00</td>\n",
       "      <td>9.0</td>\n",
       "      <td>0.0</td>\n",
       "      <td>0.923307</td>\n",
       "      <td>[2]</td>\n",
       "    </tr>\n",
       "    <tr>\n",
       "      <th>8</th>\n",
       "      <td>10</td>\n",
       "      <td>15</td>\n",
       "      <td>1</td>\n",
       "      <td>53298</td>\n",
       "      <td>2</td>\n",
       "      <td>2037209175</td>\n",
       "      <td>False</td>\n",
       "      <td>8.869529e+12</td>\n",
       "      <td>74.0</td>\n",
       "      <td>0.0</td>\n",
       "      <td>6.597935</td>\n",
       "      <td>[2]</td>\n",
       "    </tr>\n",
       "    <tr>\n",
       "      <th>12</th>\n",
       "      <td>10</td>\n",
       "      <td>15</td>\n",
       "      <td>1</td>\n",
       "      <td>53298</td>\n",
       "      <td>2</td>\n",
       "      <td>1767258089</td>\n",
       "      <td>False</td>\n",
       "      <td>1.100000e-01</td>\n",
       "      <td>55.0</td>\n",
       "      <td>0.0</td>\n",
       "      <td>4.790229</td>\n",
       "      <td>[2]</td>\n",
       "    </tr>\n",
       "    <tr>\n",
       "      <th>16</th>\n",
       "      <td>10</td>\n",
       "      <td>15</td>\n",
       "      <td>1</td>\n",
       "      <td>53298</td>\n",
       "      <td>2</td>\n",
       "      <td>309580411</td>\n",
       "      <td>False</td>\n",
       "      <td>2.500000e-01</td>\n",
       "      <td>70.0</td>\n",
       "      <td>0.0</td>\n",
       "      <td>7.061961</td>\n",
       "      <td>[2]</td>\n",
       "    </tr>\n",
       "    <tr>\n",
       "      <th>20</th>\n",
       "      <td>10</td>\n",
       "      <td>15</td>\n",
       "      <td>1</td>\n",
       "      <td>53298</td>\n",
       "      <td>2</td>\n",
       "      <td>74845286</td>\n",
       "      <td>False</td>\n",
       "      <td>0.000000e+00</td>\n",
       "      <td>13.0</td>\n",
       "      <td>0.0</td>\n",
       "      <td>1.862629</td>\n",
       "      <td>[2]</td>\n",
       "    </tr>\n",
       "    <tr>\n",
       "      <th>24</th>\n",
       "      <td>10</td>\n",
       "      <td>15</td>\n",
       "      <td>1</td>\n",
       "      <td>53298</td>\n",
       "      <td>2</td>\n",
       "      <td>2041105245</td>\n",
       "      <td>False</td>\n",
       "      <td>2.900000e-01</td>\n",
       "      <td>21.0</td>\n",
       "      <td>0.0</td>\n",
       "      <td>3.028012</td>\n",
       "      <td>[2]</td>\n",
       "    </tr>\n",
       "    <tr>\n",
       "      <th>28</th>\n",
       "      <td>10</td>\n",
       "      <td>15</td>\n",
       "      <td>1</td>\n",
       "      <td>53298</td>\n",
       "      <td>2</td>\n",
       "      <td>1621709875</td>\n",
       "      <td>False</td>\n",
       "      <td>2.416257e+13</td>\n",
       "      <td>119.0</td>\n",
       "      <td>0.0</td>\n",
       "      <td>11.560690</td>\n",
       "      <td>[2]</td>\n",
       "    </tr>\n",
       "    <tr>\n",
       "      <th>32</th>\n",
       "      <td>10</td>\n",
       "      <td>15</td>\n",
       "      <td>1</td>\n",
       "      <td>53298</td>\n",
       "      <td>2</td>\n",
       "      <td>1099128569</td>\n",
       "      <td>False</td>\n",
       "      <td>4.732360e+05</td>\n",
       "      <td>57.0</td>\n",
       "      <td>0.0</td>\n",
       "      <td>6.626296</td>\n",
       "      <td>[2]</td>\n",
       "    </tr>\n",
       "    <tr>\n",
       "      <th>36</th>\n",
       "      <td>10</td>\n",
       "      <td>15</td>\n",
       "      <td>1</td>\n",
       "      <td>53298</td>\n",
       "      <td>2</td>\n",
       "      <td>1016164991</td>\n",
       "      <td>False</td>\n",
       "      <td>1.805940e+03</td>\n",
       "      <td>122.0</td>\n",
       "      <td>0.0</td>\n",
       "      <td>10.510467</td>\n",
       "      <td>[2]</td>\n",
       "    </tr>\n",
       "  </tbody>\n",
       "</table>\n",
       "</div>"
      ],
      "text/plain": [
       "     m   n  c     r1  M          r2    mdf          fobj  optiter  solveriter  \\\n",
       "0   10  15  1  53298  2   669652944  False  2.500000e+01     56.0         0.0   \n",
       "4   10  15  1  53298  2   535214420  False  0.000000e+00      9.0         0.0   \n",
       "8   10  15  1  53298  2  2037209175  False  8.869529e+12     74.0         0.0   \n",
       "12  10  15  1  53298  2  1767258089  False  1.100000e-01     55.0         0.0   \n",
       "16  10  15  1  53298  2   309580411  False  2.500000e-01     70.0         0.0   \n",
       "20  10  15  1  53298  2    74845286  False  0.000000e+00     13.0         0.0   \n",
       "24  10  15  1  53298  2  2041105245  False  2.900000e-01     21.0         0.0   \n",
       "28  10  15  1  53298  2  1621709875  False  2.416257e+13    119.0         0.0   \n",
       "32  10  15  1  53298  2  1099128569  False  4.732360e+05     57.0         0.0   \n",
       "36  10  15  1  53298  2  1016164991  False  1.805940e+03    122.0         0.0   \n",
       "\n",
       "         time  scc  \n",
       "0    3.378072  [2]  \n",
       "4    0.923307  [2]  \n",
       "8    6.597935  [2]  \n",
       "12   4.790229  [2]  \n",
       "16   7.061961  [2]  \n",
       "20   1.862629  [2]  \n",
       "24   3.028012  [2]  \n",
       "28  11.560690  [2]  \n",
       "32   6.626296  [2]  \n",
       "36  10.510467  [2]  "
      ]
     },
     "execution_count": 92,
     "metadata": {},
     "output_type": "execute_result"
    }
   ],
   "source": [
    "df[(df[\"M\"]==2) & (df[\"r1\"]==53298)& (df[\"mdf\"]==False)]"
   ]
  },
  {
   "cell_type": "code",
   "execution_count": 27,
   "id": "7c9fcca2-7862-4492-b408-9a3c51ad4094",
   "metadata": {
    "execution": {
     "iopub.execute_input": "2022-06-30T19:03:08.731660Z",
     "iopub.status.busy": "2022-06-30T19:03:08.723650Z",
     "iopub.status.idle": "2022-06-30T19:03:08.747778Z",
     "shell.execute_reply": "2022-06-30T19:03:08.747203Z",
     "shell.execute_reply.started": "2022-06-30T19:03:08.731660Z"
    }
   },
   "outputs": [
    {
     "data": {
      "text/plain": [
       "{(10, 15, 1, 55746): {0: (22, 23, 24, 10),\n",
       "  1: (10, 11, 12, 13, 19, 22),\n",
       "  2: (12, 20, 21),\n",
       "  3: (15, 24),\n",
       "  4: (14, 16, 20, 11),\n",
       "  5: (11, 18, 19),\n",
       "  6: (20, 23),\n",
       "  7: (10, 17, 18, 19, 24, 14),\n",
       "  8: (10, 15, 18),\n",
       "  9: (11, 14, 19, 21, 20)},\n",
       " (10, 15, 1, 41743): {0: (15, 17, 23),\n",
       "  1: (15, 10),\n",
       "  2: (10, 14, 15, 21, 13),\n",
       "  3: (13, 15, 21, 24),\n",
       "  4: (16, 18, 20, 12),\n",
       "  5: (13, 18, 20, 11),\n",
       "  6: (15, 16, 19, 20, 18),\n",
       "  7: (17,),\n",
       "  8: (10, 19, 24, 14),\n",
       "  9: (12, 22, 16)},\n",
       " (10, 15, 1, 33497): {0: (10, 24, 13),\n",
       "  1: (12, 14, 16, 18, 20, 19),\n",
       "  2: (16, 19, 22, 23, 20),\n",
       "  3: (10, 11, 18, 23, 24),\n",
       "  4: (21, 22, 14),\n",
       "  5: (12, 21),\n",
       "  6: (10, 16, 17, 18),\n",
       "  7: (12, 11),\n",
       "  8: (15, 20, 21),\n",
       "  9: (18, 15)},\n",
       " (10, 15, 1, 17680): {0: (12, 15, 18, 19, 17),\n",
       "  1: (13, 23),\n",
       "  2: (15, 17, 24),\n",
       "  3: (13, 15, 21),\n",
       "  4: (11, 14, 21, 22, 20),\n",
       "  5: (11, 21, 23, 19, 10),\n",
       "  6: (13, 14, 19, 21, 24),\n",
       "  7: (11, 16, 21, 12),\n",
       "  8: (12, 14, 17, 13),\n",
       "  9: (22,)},\n",
       " (10, 15, 1, 20173): {0: (24, 18),\n",
       "  1: (10, 20, 11),\n",
       "  2: (11, 15, 16, 10),\n",
       "  3: (11, 12, 17, 13),\n",
       "  4: (12, 14, 16, 19),\n",
       "  5: (11, 16, 15),\n",
       "  6: (18, 20, 22, 23, 14),\n",
       "  7: (13, 18, 20),\n",
       "  8: (14, 21),\n",
       "  9: (10, 17, 21, 22)},\n",
       " (10, 15, 1, 2685): {0: (23, 11),\n",
       "  1: (12, 13),\n",
       "  2: (12, 13, 16),\n",
       "  3: (11, 13, 20, 22, 14),\n",
       "  4: (18, 24),\n",
       "  5: (13, 15, 18),\n",
       "  6: (13, 20, 19),\n",
       "  7: (11, 20, 23, 16),\n",
       "  8: (17, 10),\n",
       "  9: (20, 24, 21)},\n",
       " (10, 15, 1, 4930): {0: (15, 17),\n",
       "  1: (19, 23, 15),\n",
       "  2: (10, 13, 22, 11),\n",
       "  3: (18, 21, 13),\n",
       "  4: (10, 11, 12, 15, 16, 18, 20, 19),\n",
       "  5: (14,),\n",
       "  6: (11, 24),\n",
       "  7: (12, 22, 24, 10),\n",
       "  8: (16, 20, 21, 22, 23, 12),\n",
       "  9: (12, 14, 16)},\n",
       " (10, 15, 1, 1083): {0: (11, 15, 24, 21),\n",
       "  1: (11, 13, 17, 19),\n",
       "  2: (13, 23, 24, 15),\n",
       "  3: (11, 15, 22, 12),\n",
       "  4: (13, 14, 17, 21),\n",
       "  5: (13, 15, 16, 17, 21, 22, 10),\n",
       "  6: (13, 14),\n",
       "  7: (16, 24),\n",
       "  8: (18,),\n",
       "  9: (14, 15, 23, 20)},\n",
       " (10, 15, 1, 11486): {0: (15, 17, 21, 22, 24),\n",
       "  1: (10, 20, 21, 19),\n",
       "  2: (14, 21, 23, 16),\n",
       "  3: (12, 20),\n",
       "  4: (18, 19, 14),\n",
       "  5: (12, 18, 15),\n",
       "  6: (22,),\n",
       "  7: (11, 12, 17, 18, 21),\n",
       "  8: (17, 22, 23, 13),\n",
       "  9: (12, 13, 14, 15, 23, 24)},\n",
       " (10, 15, 1, 53298): {0: (10, 21),\n",
       "  1: (13, 15, 18, 20, 24),\n",
       "  2: (12, 16),\n",
       "  3: (14, 21, 22, 23),\n",
       "  4: (21, 22, 10),\n",
       "  5: (18, 21, 23, 17, 11),\n",
       "  6: (14, 13),\n",
       "  7: (10, 14, 17, 18, 20),\n",
       "  8: (17, 19),\n",
       "  9: (10, 14, 21, 22)}}"
      ]
     },
     "execution_count": 27,
     "metadata": {},
     "output_type": "execute_result"
    }
   ],
   "source": [
    "eqvs"
   ]
  },
  {
   "cell_type": "code",
   "execution_count": 35,
   "id": "3b9a379c-8942-4753-b679-31673dd3219c",
   "metadata": {
    "execution": {
     "iopub.execute_input": "2022-07-07T03:00:34.841847Z",
     "iopub.status.busy": "2022-07-07T03:00:34.841847Z",
     "iopub.status.idle": "2022-07-07T03:00:34.873415Z",
     "shell.execute_reply": "2022-07-07T03:00:34.873283Z",
     "shell.execute_reply.started": "2022-07-07T03:00:34.841847Z"
    },
    "tags": []
   },
   "outputs": [
    {
     "data": {
      "text/html": [
       "<div>\n",
       "<style scoped>\n",
       "    .dataframe tbody tr th:only-of-type {\n",
       "        vertical-align: middle;\n",
       "    }\n",
       "\n",
       "    .dataframe tbody tr th {\n",
       "        vertical-align: top;\n",
       "    }\n",
       "\n",
       "    .dataframe thead th {\n",
       "        text-align: right;\n",
       "    }\n",
       "</style>\n",
       "<table border=\"1\" class=\"dataframe\">\n",
       "  <thead>\n",
       "    <tr style=\"text-align: right;\">\n",
       "      <th></th>\n",
       "      <th>m</th>\n",
       "      <th>n</th>\n",
       "      <th>c</th>\n",
       "      <th>r1</th>\n",
       "      <th>M</th>\n",
       "      <th>r2</th>\n",
       "      <th>mdf</th>\n",
       "      <th>fobj</th>\n",
       "      <th>optiter</th>\n",
       "      <th>solveriter</th>\n",
       "      <th>time</th>\n",
       "      <th>scc</th>\n",
       "    </tr>\n",
       "  </thead>\n",
       "  <tbody>\n",
       "    <tr>\n",
       "      <th>360</th>\n",
       "      <td>10</td>\n",
       "      <td>15</td>\n",
       "      <td>1</td>\n",
       "      <td>55746</td>\n",
       "      <td>2</td>\n",
       "      <td>1760134976</td>\n",
       "      <td>False</td>\n",
       "      <td>0.0</td>\n",
       "      <td>4.0</td>\n",
       "      <td>0.0</td>\n",
       "      <td>0.319757</td>\n",
       "      <td>[]</td>\n",
       "    </tr>\n",
       "    <tr>\n",
       "      <th>364</th>\n",
       "      <td>10</td>\n",
       "      <td>15</td>\n",
       "      <td>1</td>\n",
       "      <td>55746</td>\n",
       "      <td>2</td>\n",
       "      <td>1170534942</td>\n",
       "      <td>False</td>\n",
       "      <td>0.0</td>\n",
       "      <td>4.0</td>\n",
       "      <td>0.0</td>\n",
       "      <td>0.322681</td>\n",
       "      <td>[]</td>\n",
       "    </tr>\n",
       "    <tr>\n",
       "      <th>368</th>\n",
       "      <td>10</td>\n",
       "      <td>15</td>\n",
       "      <td>1</td>\n",
       "      <td>55746</td>\n",
       "      <td>2</td>\n",
       "      <td>317660153</td>\n",
       "      <td>False</td>\n",
       "      <td>0.0</td>\n",
       "      <td>4.0</td>\n",
       "      <td>0.0</td>\n",
       "      <td>0.580329</td>\n",
       "      <td>[]</td>\n",
       "    </tr>\n",
       "    <tr>\n",
       "      <th>372</th>\n",
       "      <td>10</td>\n",
       "      <td>15</td>\n",
       "      <td>1</td>\n",
       "      <td>55746</td>\n",
       "      <td>2</td>\n",
       "      <td>116244473</td>\n",
       "      <td>False</td>\n",
       "      <td>0.0</td>\n",
       "      <td>4.0</td>\n",
       "      <td>0.0</td>\n",
       "      <td>0.326095</td>\n",
       "      <td>[]</td>\n",
       "    </tr>\n",
       "    <tr>\n",
       "      <th>376</th>\n",
       "      <td>10</td>\n",
       "      <td>15</td>\n",
       "      <td>1</td>\n",
       "      <td>55746</td>\n",
       "      <td>2</td>\n",
       "      <td>1617120057</td>\n",
       "      <td>False</td>\n",
       "      <td>0.0</td>\n",
       "      <td>4.0</td>\n",
       "      <td>0.0</td>\n",
       "      <td>0.343226</td>\n",
       "      <td>[]</td>\n",
       "    </tr>\n",
       "    <tr>\n",
       "      <th>380</th>\n",
       "      <td>10</td>\n",
       "      <td>15</td>\n",
       "      <td>1</td>\n",
       "      <td>55746</td>\n",
       "      <td>2</td>\n",
       "      <td>2106555451</td>\n",
       "      <td>False</td>\n",
       "      <td>0.0</td>\n",
       "      <td>4.0</td>\n",
       "      <td>0.0</td>\n",
       "      <td>0.331742</td>\n",
       "      <td>[]</td>\n",
       "    </tr>\n",
       "    <tr>\n",
       "      <th>384</th>\n",
       "      <td>10</td>\n",
       "      <td>15</td>\n",
       "      <td>1</td>\n",
       "      <td>55746</td>\n",
       "      <td>2</td>\n",
       "      <td>1097125525</td>\n",
       "      <td>False</td>\n",
       "      <td>0.0</td>\n",
       "      <td>4.0</td>\n",
       "      <td>0.0</td>\n",
       "      <td>0.320243</td>\n",
       "      <td>[]</td>\n",
       "    </tr>\n",
       "    <tr>\n",
       "      <th>388</th>\n",
       "      <td>10</td>\n",
       "      <td>15</td>\n",
       "      <td>1</td>\n",
       "      <td>55746</td>\n",
       "      <td>2</td>\n",
       "      <td>1446720800</td>\n",
       "      <td>False</td>\n",
       "      <td>0.0</td>\n",
       "      <td>4.0</td>\n",
       "      <td>0.0</td>\n",
       "      <td>0.327661</td>\n",
       "      <td>[]</td>\n",
       "    </tr>\n",
       "    <tr>\n",
       "      <th>392</th>\n",
       "      <td>10</td>\n",
       "      <td>15</td>\n",
       "      <td>1</td>\n",
       "      <td>55746</td>\n",
       "      <td>2</td>\n",
       "      <td>1094134074</td>\n",
       "      <td>False</td>\n",
       "      <td>0.0</td>\n",
       "      <td>4.0</td>\n",
       "      <td>0.0</td>\n",
       "      <td>0.348947</td>\n",
       "      <td>[]</td>\n",
       "    </tr>\n",
       "    <tr>\n",
       "      <th>396</th>\n",
       "      <td>10</td>\n",
       "      <td>15</td>\n",
       "      <td>1</td>\n",
       "      <td>55746</td>\n",
       "      <td>2</td>\n",
       "      <td>1248920238</td>\n",
       "      <td>False</td>\n",
       "      <td>0.0</td>\n",
       "      <td>4.0</td>\n",
       "      <td>0.0</td>\n",
       "      <td>0.330491</td>\n",
       "      <td>[]</td>\n",
       "    </tr>\n",
       "  </tbody>\n",
       "</table>\n",
       "</div>"
      ],
      "text/plain": [
       "      m   n  c     r1  M          r2    mdf  fobj  optiter  solveriter  \\\n",
       "360  10  15  1  55746  2  1760134976  False   0.0      4.0         0.0   \n",
       "364  10  15  1  55746  2  1170534942  False   0.0      4.0         0.0   \n",
       "368  10  15  1  55746  2   317660153  False   0.0      4.0         0.0   \n",
       "372  10  15  1  55746  2   116244473  False   0.0      4.0         0.0   \n",
       "376  10  15  1  55746  2  1617120057  False   0.0      4.0         0.0   \n",
       "380  10  15  1  55746  2  2106555451  False   0.0      4.0         0.0   \n",
       "384  10  15  1  55746  2  1097125525  False   0.0      4.0         0.0   \n",
       "388  10  15  1  55746  2  1446720800  False   0.0      4.0         0.0   \n",
       "392  10  15  1  55746  2  1094134074  False   0.0      4.0         0.0   \n",
       "396  10  15  1  55746  2  1248920238  False   0.0      4.0         0.0   \n",
       "\n",
       "         time scc  \n",
       "360  0.319757  []  \n",
       "364  0.322681  []  \n",
       "368  0.580329  []  \n",
       "372  0.326095  []  \n",
       "376  0.343226  []  \n",
       "380  0.331742  []  \n",
       "384  0.320243  []  \n",
       "388  0.327661  []  \n",
       "392  0.348947  []  \n",
       "396  0.330491  []  "
      ]
     },
     "execution_count": 35,
     "metadata": {},
     "output_type": "execute_result"
    }
   ],
   "source": [
    "df[(df[\"M\"]==2) & (df[\"r1\"]==55746)& (df[\"mdf\"]==False)]"
   ]
  },
  {
   "cell_type": "code",
   "execution_count": 50,
   "id": "cd013954-cc05-4ed3-bfa1-d9131845ffd6",
   "metadata": {
    "execution": {
     "iopub.execute_input": "2022-07-07T03:08:24.601650Z",
     "iopub.status.busy": "2022-07-07T03:08:24.601650Z",
     "iopub.status.idle": "2022-07-07T03:08:24.626457Z",
     "shell.execute_reply": "2022-07-07T03:08:24.625422Z",
     "shell.execute_reply.started": "2022-07-07T03:08:24.601650Z"
    },
    "tags": []
   },
   "outputs": [],
   "source": [
    "x1,x2,y1,y2,e1,e2 = [],[],[],[],[],[]\n",
    "mdf_setting = False\n",
    "for idx,(_,_,_,struct_id) in enumerate(eqvs.keys()):\n",
    "    results1 = df[(df[\"M\"]==1) & (df[\"r1\"]==struct_id)& (df[\"mdf\"]==mdf_setting)]\n",
    "    results2 = df[(df[\"M\"]==2) & (df[\"r1\"]==struct_id)& (df[\"mdf\"]==mdf_setting)]\n",
    "    y1.append(results1['time'].mean())\n",
    "    e1.append(results1['time'].std())\n",
    "    y2.append(results2['time'].mean())\n",
    "    e2.append(results2['time'].std())\n",
    "    x1.append(idx)\n",
    "    x2.append(idx)"
   ]
  },
  {
   "cell_type": "code",
   "execution_count": 51,
   "id": "552c57ed-d472-4e02-8ad2-d9718ff8b5a2",
   "metadata": {
    "execution": {
     "iopub.execute_input": "2022-07-07T03:08:25.398431Z",
     "iopub.status.busy": "2022-07-07T03:08:25.398431Z",
     "iopub.status.idle": "2022-07-07T03:08:25.415473Z",
     "shell.execute_reply": "2022-07-07T03:08:25.414250Z",
     "shell.execute_reply.started": "2022-07-07T03:08:25.398431Z"
    },
    "tags": []
   },
   "outputs": [],
   "source": [
    "import matplotlib.pyplot as plt"
   ]
  },
  {
   "cell_type": "code",
   "execution_count": 64,
   "id": "ea3b3a2f-a814-4061-af0e-39786a73aa95",
   "metadata": {
    "execution": {
     "iopub.execute_input": "2022-07-07T03:31:04.728234Z",
     "iopub.status.busy": "2022-07-07T03:31:04.728234Z",
     "iopub.status.idle": "2022-07-07T03:31:04.842824Z",
     "shell.execute_reply": "2022-07-07T03:31:04.842617Z",
     "shell.execute_reply.started": "2022-07-07T03:31:04.728234Z"
    },
    "tags": []
   },
   "outputs": [
    {
     "data": {
      "image/png": "[encoded data removed]",
      "text/plain": [
       "<Figure size 432x288 with 1 Axes>"
      ]
     },
     "metadata": {
      "needs_background": "light"
     },
     "output_type": "display_data"
    }
   ],
   "source": [
    "plt.errorbar(x1, y1, e1, linestyle='None', marker='o')\n",
    "plt.errorbar(x2, y2, e2, linestyle='None', marker='*')\n",
    "plt.savefig('synthetic_problem.png')"
   ]
  },
  {
   "cell_type": "code",
   "execution_count": 36,
   "id": "e528f9c2-efdd-47ff-8597-223027a30551",
   "metadata": {
    "execution": {
     "iopub.execute_input": "2022-07-07T03:00:36.293995Z",
     "iopub.status.busy": "2022-07-07T03:00:36.293995Z",
     "iopub.status.idle": "2022-07-07T03:00:36.318145Z",
     "shell.execute_reply": "2022-07-07T03:00:36.318145Z",
     "shell.execute_reply.started": "2022-07-07T03:00:36.293995Z"
    },
    "tags": []
   },
   "outputs": [
    {
     "data": {
      "text/html": [
       "<div>\n",
       "<style scoped>\n",
       "    .dataframe tbody tr th:only-of-type {\n",
       "        vertical-align: middle;\n",
       "    }\n",
       "\n",
       "    .dataframe tbody tr th {\n",
       "        vertical-align: top;\n",
       "    }\n",
       "\n",
       "    .dataframe thead th {\n",
       "        text-align: right;\n",
       "    }\n",
       "</style>\n",
       "<table border=\"1\" class=\"dataframe\">\n",
       "  <thead>\n",
       "    <tr style=\"text-align: right;\">\n",
       "      <th></th>\n",
       "      <th>m</th>\n",
       "      <th>n</th>\n",
       "      <th>c</th>\n",
       "      <th>r1</th>\n",
       "      <th>M</th>\n",
       "      <th>r2</th>\n",
       "      <th>mdf</th>\n",
       "      <th>fobj</th>\n",
       "      <th>optiter</th>\n",
       "      <th>solveriter</th>\n",
       "      <th>time</th>\n",
       "      <th>scc</th>\n",
       "    </tr>\n",
       "  </thead>\n",
       "  <tbody>\n",
       "    <tr>\n",
       "      <th>362</th>\n",
       "      <td>10</td>\n",
       "      <td>15</td>\n",
       "      <td>1</td>\n",
       "      <td>55746</td>\n",
       "      <td>1</td>\n",
       "      <td>1760134976</td>\n",
       "      <td>False</td>\n",
       "      <td>0.17</td>\n",
       "      <td>67.0</td>\n",
       "      <td>0.0</td>\n",
       "      <td>8.746915</td>\n",
       "      <td>[9]</td>\n",
       "    </tr>\n",
       "    <tr>\n",
       "      <th>366</th>\n",
       "      <td>10</td>\n",
       "      <td>15</td>\n",
       "      <td>1</td>\n",
       "      <td>55746</td>\n",
       "      <td>1</td>\n",
       "      <td>1170534942</td>\n",
       "      <td>False</td>\n",
       "      <td>3490.48</td>\n",
       "      <td>165.0</td>\n",
       "      <td>0.0</td>\n",
       "      <td>12.108873</td>\n",
       "      <td>[9]</td>\n",
       "    </tr>\n",
       "    <tr>\n",
       "      <th>370</th>\n",
       "      <td>10</td>\n",
       "      <td>15</td>\n",
       "      <td>1</td>\n",
       "      <td>55746</td>\n",
       "      <td>1</td>\n",
       "      <td>317660153</td>\n",
       "      <td>False</td>\n",
       "      <td>1.11</td>\n",
       "      <td>89.0</td>\n",
       "      <td>0.0</td>\n",
       "      <td>12.902382</td>\n",
       "      <td>[9]</td>\n",
       "    </tr>\n",
       "    <tr>\n",
       "      <th>374</th>\n",
       "      <td>10</td>\n",
       "      <td>15</td>\n",
       "      <td>1</td>\n",
       "      <td>55746</td>\n",
       "      <td>1</td>\n",
       "      <td>116244473</td>\n",
       "      <td>False</td>\n",
       "      <td>5.02</td>\n",
       "      <td>28.0</td>\n",
       "      <td>0.0</td>\n",
       "      <td>4.209495</td>\n",
       "      <td>[9]</td>\n",
       "    </tr>\n",
       "    <tr>\n",
       "      <th>378</th>\n",
       "      <td>10</td>\n",
       "      <td>15</td>\n",
       "      <td>1</td>\n",
       "      <td>55746</td>\n",
       "      <td>1</td>\n",
       "      <td>1617120057</td>\n",
       "      <td>False</td>\n",
       "      <td>1.17</td>\n",
       "      <td>328.0</td>\n",
       "      <td>0.0</td>\n",
       "      <td>36.794137</td>\n",
       "      <td>[9]</td>\n",
       "    </tr>\n",
       "    <tr>\n",
       "      <th>382</th>\n",
       "      <td>10</td>\n",
       "      <td>15</td>\n",
       "      <td>1</td>\n",
       "      <td>55746</td>\n",
       "      <td>1</td>\n",
       "      <td>2106555451</td>\n",
       "      <td>False</td>\n",
       "      <td>0.99</td>\n",
       "      <td>81.0</td>\n",
       "      <td>0.0</td>\n",
       "      <td>11.854745</td>\n",
       "      <td>[9]</td>\n",
       "    </tr>\n",
       "    <tr>\n",
       "      <th>386</th>\n",
       "      <td>10</td>\n",
       "      <td>15</td>\n",
       "      <td>1</td>\n",
       "      <td>55746</td>\n",
       "      <td>1</td>\n",
       "      <td>1097125525</td>\n",
       "      <td>False</td>\n",
       "      <td>949.85</td>\n",
       "      <td>188.0</td>\n",
       "      <td>0.0</td>\n",
       "      <td>10.611798</td>\n",
       "      <td>[9]</td>\n",
       "    </tr>\n",
       "    <tr>\n",
       "      <th>390</th>\n",
       "      <td>10</td>\n",
       "      <td>15</td>\n",
       "      <td>1</td>\n",
       "      <td>55746</td>\n",
       "      <td>1</td>\n",
       "      <td>1446720800</td>\n",
       "      <td>False</td>\n",
       "      <td>0.00</td>\n",
       "      <td>47.0</td>\n",
       "      <td>0.0</td>\n",
       "      <td>6.195764</td>\n",
       "      <td>[9]</td>\n",
       "    </tr>\n",
       "    <tr>\n",
       "      <th>394</th>\n",
       "      <td>10</td>\n",
       "      <td>15</td>\n",
       "      <td>1</td>\n",
       "      <td>55746</td>\n",
       "      <td>1</td>\n",
       "      <td>1094134074</td>\n",
       "      <td>False</td>\n",
       "      <td>0.15</td>\n",
       "      <td>75.0</td>\n",
       "      <td>0.0</td>\n",
       "      <td>10.883196</td>\n",
       "      <td>[9]</td>\n",
       "    </tr>\n",
       "    <tr>\n",
       "      <th>398</th>\n",
       "      <td>10</td>\n",
       "      <td>15</td>\n",
       "      <td>1</td>\n",
       "      <td>55746</td>\n",
       "      <td>1</td>\n",
       "      <td>1248920238</td>\n",
       "      <td>False</td>\n",
       "      <td>1.00</td>\n",
       "      <td>181.0</td>\n",
       "      <td>0.0</td>\n",
       "      <td>20.326621</td>\n",
       "      <td>[9]</td>\n",
       "    </tr>\n",
       "  </tbody>\n",
       "</table>\n",
       "</div>"
      ],
      "text/plain": [
       "      m   n  c     r1  M          r2    mdf     fobj  optiter  solveriter  \\\n",
       "362  10  15  1  55746  1  1760134976  False     0.17     67.0         0.0   \n",
       "366  10  15  1  55746  1  1170534942  False  3490.48    165.0         0.0   \n",
       "370  10  15  1  55746  1   317660153  False     1.11     89.0         0.0   \n",
       "374  10  15  1  55746  1   116244473  False     5.02     28.0         0.0   \n",
       "378  10  15  1  55746  1  1617120057  False     1.17    328.0         0.0   \n",
       "382  10  15  1  55746  1  2106555451  False     0.99     81.0         0.0   \n",
       "386  10  15  1  55746  1  1097125525  False   949.85    188.0         0.0   \n",
       "390  10  15  1  55746  1  1446720800  False     0.00     47.0         0.0   \n",
       "394  10  15  1  55746  1  1094134074  False     0.15     75.0         0.0   \n",
       "398  10  15  1  55746  1  1248920238  False     1.00    181.0         0.0   \n",
       "\n",
       "          time  scc  \n",
       "362   8.746915  [9]  \n",
       "366  12.108873  [9]  \n",
       "370  12.902382  [9]  \n",
       "374   4.209495  [9]  \n",
       "378  36.794137  [9]  \n",
       "382  11.854745  [9]  \n",
       "386  10.611798  [9]  \n",
       "390   6.195764  [9]  \n",
       "394  10.883196  [9]  \n",
       "398  20.326621  [9]  "
      ]
     },
     "execution_count": 36,
     "metadata": {},
     "output_type": "execute_result"
    }
   ],
   "source": [
    "df[(df[\"M\"]==1) & (df[\"r1\"]==55746)& (df[\"mdf\"]==False)]"
   ]
  },
  {
   "cell_type": "code",
   "execution_count": 31,
   "id": "5232be47-a287-4c0e-bb6d-c812c9e00772",
   "metadata": {
    "execution": {
     "iopub.execute_input": "2022-06-30T19:04:15.045545Z",
     "iopub.status.busy": "2022-06-30T19:04:15.045545Z",
     "iopub.status.idle": "2022-06-30T19:04:15.058671Z",
     "shell.execute_reply": "2022-06-30T19:04:15.058173Z",
     "shell.execute_reply.started": "2022-06-30T19:04:15.045545Z"
    }
   },
   "outputs": [
    {
     "data": {
      "text/html": [
       "<div>\n",
       "<style scoped>\n",
       "    .dataframe tbody tr th:only-of-type {\n",
       "        vertical-align: middle;\n",
       "    }\n",
       "\n",
       "    .dataframe tbody tr th {\n",
       "        vertical-align: top;\n",
       "    }\n",
       "\n",
       "    .dataframe thead th {\n",
       "        text-align: right;\n",
       "    }\n",
       "</style>\n",
       "<table border=\"1\" class=\"dataframe\">\n",
       "  <thead>\n",
       "    <tr style=\"text-align: right;\">\n",
       "      <th></th>\n",
       "      <th>m</th>\n",
       "      <th>n</th>\n",
       "      <th>c</th>\n",
       "      <th>r1</th>\n",
       "      <th>M</th>\n",
       "      <th>r2</th>\n",
       "      <th>mdf</th>\n",
       "      <th>fobj</th>\n",
       "      <th>optiter</th>\n",
       "      <th>solveriter</th>\n",
       "      <th>time</th>\n",
       "      <th>scc</th>\n",
       "    </tr>\n",
       "  </thead>\n",
       "  <tbody>\n",
       "    <tr>\n",
       "      <th>2</th>\n",
       "      <td>10</td>\n",
       "      <td>15</td>\n",
       "      <td>1</td>\n",
       "      <td>53298</td>\n",
       "      <td>1</td>\n",
       "      <td>669652944</td>\n",
       "      <td>False</td>\n",
       "      <td>3.610644e+06</td>\n",
       "      <td>110.0</td>\n",
       "      <td>0.0</td>\n",
       "      <td>6.300456</td>\n",
       "      <td>[6]</td>\n",
       "    </tr>\n",
       "    <tr>\n",
       "      <th>6</th>\n",
       "      <td>10</td>\n",
       "      <td>15</td>\n",
       "      <td>1</td>\n",
       "      <td>53298</td>\n",
       "      <td>1</td>\n",
       "      <td>535214420</td>\n",
       "      <td>False</td>\n",
       "      <td>3.330000e+00</td>\n",
       "      <td>95.0</td>\n",
       "      <td>0.0</td>\n",
       "      <td>11.421888</td>\n",
       "      <td>[6]</td>\n",
       "    </tr>\n",
       "    <tr>\n",
       "      <th>10</th>\n",
       "      <td>10</td>\n",
       "      <td>15</td>\n",
       "      <td>1</td>\n",
       "      <td>53298</td>\n",
       "      <td>1</td>\n",
       "      <td>2037209175</td>\n",
       "      <td>False</td>\n",
       "      <td>2.201920e+03</td>\n",
       "      <td>170.0</td>\n",
       "      <td>0.0</td>\n",
       "      <td>12.335021</td>\n",
       "      <td>[6]</td>\n",
       "    </tr>\n",
       "    <tr>\n",
       "      <th>14</th>\n",
       "      <td>10</td>\n",
       "      <td>15</td>\n",
       "      <td>1</td>\n",
       "      <td>53298</td>\n",
       "      <td>1</td>\n",
       "      <td>1767258089</td>\n",
       "      <td>False</td>\n",
       "      <td>2.230540e+03</td>\n",
       "      <td>333.0</td>\n",
       "      <td>0.0</td>\n",
       "      <td>19.995749</td>\n",
       "      <td>[6]</td>\n",
       "    </tr>\n",
       "    <tr>\n",
       "      <th>18</th>\n",
       "      <td>10</td>\n",
       "      <td>15</td>\n",
       "      <td>1</td>\n",
       "      <td>53298</td>\n",
       "      <td>1</td>\n",
       "      <td>309580411</td>\n",
       "      <td>False</td>\n",
       "      <td>1.000000e+00</td>\n",
       "      <td>308.0</td>\n",
       "      <td>0.0</td>\n",
       "      <td>31.906136</td>\n",
       "      <td>[6]</td>\n",
       "    </tr>\n",
       "    <tr>\n",
       "      <th>22</th>\n",
       "      <td>10</td>\n",
       "      <td>15</td>\n",
       "      <td>1</td>\n",
       "      <td>53298</td>\n",
       "      <td>1</td>\n",
       "      <td>74845286</td>\n",
       "      <td>False</td>\n",
       "      <td>8.800000e-01</td>\n",
       "      <td>72.0</td>\n",
       "      <td>0.0</td>\n",
       "      <td>7.781133</td>\n",
       "      <td>[6]</td>\n",
       "    </tr>\n",
       "    <tr>\n",
       "      <th>26</th>\n",
       "      <td>10</td>\n",
       "      <td>15</td>\n",
       "      <td>1</td>\n",
       "      <td>53298</td>\n",
       "      <td>1</td>\n",
       "      <td>2041105245</td>\n",
       "      <td>False</td>\n",
       "      <td>0.000000e+00</td>\n",
       "      <td>163.0</td>\n",
       "      <td>0.0</td>\n",
       "      <td>16.160997</td>\n",
       "      <td>[6]</td>\n",
       "    </tr>\n",
       "    <tr>\n",
       "      <th>30</th>\n",
       "      <td>10</td>\n",
       "      <td>15</td>\n",
       "      <td>1</td>\n",
       "      <td>53298</td>\n",
       "      <td>1</td>\n",
       "      <td>1621709875</td>\n",
       "      <td>False</td>\n",
       "      <td>9.344526e+04</td>\n",
       "      <td>58.0</td>\n",
       "      <td>0.0</td>\n",
       "      <td>5.275213</td>\n",
       "      <td>[6]</td>\n",
       "    </tr>\n",
       "    <tr>\n",
       "      <th>34</th>\n",
       "      <td>10</td>\n",
       "      <td>15</td>\n",
       "      <td>1</td>\n",
       "      <td>53298</td>\n",
       "      <td>1</td>\n",
       "      <td>1099128569</td>\n",
       "      <td>False</td>\n",
       "      <td>1.052980e+04</td>\n",
       "      <td>31.0</td>\n",
       "      <td>0.0</td>\n",
       "      <td>2.560941</td>\n",
       "      <td>[6]</td>\n",
       "    </tr>\n",
       "    <tr>\n",
       "      <th>38</th>\n",
       "      <td>10</td>\n",
       "      <td>15</td>\n",
       "      <td>1</td>\n",
       "      <td>53298</td>\n",
       "      <td>1</td>\n",
       "      <td>1016164991</td>\n",
       "      <td>False</td>\n",
       "      <td>4.596900e+15</td>\n",
       "      <td>169.0</td>\n",
       "      <td>0.0</td>\n",
       "      <td>8.555681</td>\n",
       "      <td>[6]</td>\n",
       "    </tr>\n",
       "  </tbody>\n",
       "</table>\n",
       "</div>"
      ],
      "text/plain": [
       "     m   n  c     r1  M          r2    mdf          fobj  optiter  solveriter  \\\n",
       "2   10  15  1  53298  1   669652944  False  3.610644e+06    110.0         0.0   \n",
       "6   10  15  1  53298  1   535214420  False  3.330000e+00     95.0         0.0   \n",
       "10  10  15  1  53298  1  2037209175  False  2.201920e+03    170.0         0.0   \n",
       "14  10  15  1  53298  1  1767258089  False  2.230540e+03    333.0         0.0   \n",
       "18  10  15  1  53298  1   309580411  False  1.000000e+00    308.0         0.0   \n",
       "22  10  15  1  53298  1    74845286  False  8.800000e-01     72.0         0.0   \n",
       "26  10  15  1  53298  1  2041105245  False  0.000000e+00    163.0         0.0   \n",
       "30  10  15  1  53298  1  1621709875  False  9.344526e+04     58.0         0.0   \n",
       "34  10  15  1  53298  1  1099128569  False  1.052980e+04     31.0         0.0   \n",
       "38  10  15  1  53298  1  1016164991  False  4.596900e+15    169.0         0.0   \n",
       "\n",
       "         time  scc  \n",
       "2    6.300456  [6]  \n",
       "6   11.421888  [6]  \n",
       "10  12.335021  [6]  \n",
       "14  19.995749  [6]  \n",
       "18  31.906136  [6]  \n",
       "22   7.781133  [6]  \n",
       "26  16.160997  [6]  \n",
       "30   5.275213  [6]  \n",
       "34   2.560941  [6]  \n",
       "38   8.555681  [6]  "
      ]
     },
     "execution_count": 31,
     "metadata": {},
     "output_type": "execute_result"
    }
   ],
   "source": [
    "df[(df[\"M\"]==1) & (df[\"r1\"]==53298)& (df[\"mdf\"]==False)]"
   ]
  },
  {
   "cell_type": "code",
   "execution_count": 33,
   "id": "1d00248a-74ce-45d3-9e36-00b024f2a03f",
   "metadata": {
    "execution": {
     "iopub.execute_input": "2022-06-30T19:04:23.918343Z",
     "iopub.status.busy": "2022-06-30T19:04:23.918343Z",
     "iopub.status.idle": "2022-06-30T19:04:23.934937Z",
     "shell.execute_reply": "2022-06-30T19:04:23.934815Z",
     "shell.execute_reply.started": "2022-06-30T19:04:23.918343Z"
    },
    "tags": []
   },
   "outputs": [
    {
     "data": {
      "text/html": [
       "<div>\n",
       "<style scoped>\n",
       "    .dataframe tbody tr th:only-of-type {\n",
       "        vertical-align: middle;\n",
       "    }\n",
       "\n",
       "    .dataframe tbody tr th {\n",
       "        vertical-align: top;\n",
       "    }\n",
       "\n",
       "    .dataframe thead th {\n",
       "        text-align: right;\n",
       "    }\n",
       "</style>\n",
       "<table border=\"1\" class=\"dataframe\">\n",
       "  <thead>\n",
       "    <tr style=\"text-align: right;\">\n",
       "      <th></th>\n",
       "      <th>m</th>\n",
       "      <th>n</th>\n",
       "      <th>c</th>\n",
       "      <th>r1</th>\n",
       "      <th>M</th>\n",
       "      <th>r2</th>\n",
       "      <th>mdf</th>\n",
       "      <th>fobj</th>\n",
       "      <th>optiter</th>\n",
       "      <th>solveriter</th>\n",
       "      <th>time</th>\n",
       "      <th>scc</th>\n",
       "    </tr>\n",
       "  </thead>\n",
       "  <tbody>\n",
       "    <tr>\n",
       "      <th>0</th>\n",
       "      <td>10</td>\n",
       "      <td>15</td>\n",
       "      <td>1</td>\n",
       "      <td>53298</td>\n",
       "      <td>2</td>\n",
       "      <td>669652944</td>\n",
       "      <td>False</td>\n",
       "      <td>2.500000e+01</td>\n",
       "      <td>46.0</td>\n",
       "      <td>0.0</td>\n",
       "      <td>3.160977</td>\n",
       "      <td>[2]</td>\n",
       "    </tr>\n",
       "    <tr>\n",
       "      <th>4</th>\n",
       "      <td>10</td>\n",
       "      <td>15</td>\n",
       "      <td>1</td>\n",
       "      <td>53298</td>\n",
       "      <td>2</td>\n",
       "      <td>535214420</td>\n",
       "      <td>False</td>\n",
       "      <td>0.000000e+00</td>\n",
       "      <td>9.0</td>\n",
       "      <td>0.0</td>\n",
       "      <td>0.907574</td>\n",
       "      <td>[2]</td>\n",
       "    </tr>\n",
       "    <tr>\n",
       "      <th>8</th>\n",
       "      <td>10</td>\n",
       "      <td>15</td>\n",
       "      <td>1</td>\n",
       "      <td>53298</td>\n",
       "      <td>2</td>\n",
       "      <td>2037209175</td>\n",
       "      <td>False</td>\n",
       "      <td>4.825698e+11</td>\n",
       "      <td>114.0</td>\n",
       "      <td>0.0</td>\n",
       "      <td>7.680080</td>\n",
       "      <td>[2]</td>\n",
       "    </tr>\n",
       "    <tr>\n",
       "      <th>12</th>\n",
       "      <td>10</td>\n",
       "      <td>15</td>\n",
       "      <td>1</td>\n",
       "      <td>53298</td>\n",
       "      <td>2</td>\n",
       "      <td>1767258089</td>\n",
       "      <td>False</td>\n",
       "      <td>1.100000e-01</td>\n",
       "      <td>55.0</td>\n",
       "      <td>0.0</td>\n",
       "      <td>4.521861</td>\n",
       "      <td>[2]</td>\n",
       "    </tr>\n",
       "    <tr>\n",
       "      <th>16</th>\n",
       "      <td>10</td>\n",
       "      <td>15</td>\n",
       "      <td>1</td>\n",
       "      <td>53298</td>\n",
       "      <td>2</td>\n",
       "      <td>309580411</td>\n",
       "      <td>False</td>\n",
       "      <td>2.500000e-01</td>\n",
       "      <td>70.0</td>\n",
       "      <td>0.0</td>\n",
       "      <td>5.907766</td>\n",
       "      <td>[2]</td>\n",
       "    </tr>\n",
       "    <tr>\n",
       "      <th>20</th>\n",
       "      <td>10</td>\n",
       "      <td>15</td>\n",
       "      <td>1</td>\n",
       "      <td>53298</td>\n",
       "      <td>2</td>\n",
       "      <td>74845286</td>\n",
       "      <td>False</td>\n",
       "      <td>0.000000e+00</td>\n",
       "      <td>13.0</td>\n",
       "      <td>0.0</td>\n",
       "      <td>1.691943</td>\n",
       "      <td>[2]</td>\n",
       "    </tr>\n",
       "    <tr>\n",
       "      <th>24</th>\n",
       "      <td>10</td>\n",
       "      <td>15</td>\n",
       "      <td>1</td>\n",
       "      <td>53298</td>\n",
       "      <td>2</td>\n",
       "      <td>2041105245</td>\n",
       "      <td>False</td>\n",
       "      <td>2.900000e-01</td>\n",
       "      <td>21.0</td>\n",
       "      <td>0.0</td>\n",
       "      <td>2.660893</td>\n",
       "      <td>[2]</td>\n",
       "    </tr>\n",
       "    <tr>\n",
       "      <th>28</th>\n",
       "      <td>10</td>\n",
       "      <td>15</td>\n",
       "      <td>1</td>\n",
       "      <td>53298</td>\n",
       "      <td>2</td>\n",
       "      <td>1621709875</td>\n",
       "      <td>False</td>\n",
       "      <td>2.238350e+06</td>\n",
       "      <td>208.0</td>\n",
       "      <td>0.0</td>\n",
       "      <td>18.202569</td>\n",
       "      <td>[2]</td>\n",
       "    </tr>\n",
       "    <tr>\n",
       "      <th>32</th>\n",
       "      <td>10</td>\n",
       "      <td>15</td>\n",
       "      <td>1</td>\n",
       "      <td>53298</td>\n",
       "      <td>2</td>\n",
       "      <td>1099128569</td>\n",
       "      <td>False</td>\n",
       "      <td>1.444000e+01</td>\n",
       "      <td>165.0</td>\n",
       "      <td>0.0</td>\n",
       "      <td>15.413010</td>\n",
       "      <td>[2]</td>\n",
       "    </tr>\n",
       "    <tr>\n",
       "      <th>36</th>\n",
       "      <td>10</td>\n",
       "      <td>15</td>\n",
       "      <td>1</td>\n",
       "      <td>53298</td>\n",
       "      <td>2</td>\n",
       "      <td>1016164991</td>\n",
       "      <td>False</td>\n",
       "      <td>5.864375e+12</td>\n",
       "      <td>86.0</td>\n",
       "      <td>0.0</td>\n",
       "      <td>7.591239</td>\n",
       "      <td>[2]</td>\n",
       "    </tr>\n",
       "  </tbody>\n",
       "</table>\n",
       "</div>"
      ],
      "text/plain": [
       "     m   n  c     r1  M          r2    mdf          fobj  optiter  solveriter  \\\n",
       "0   10  15  1  53298  2   669652944  False  2.500000e+01     46.0         0.0   \n",
       "4   10  15  1  53298  2   535214420  False  0.000000e+00      9.0         0.0   \n",
       "8   10  15  1  53298  2  2037209175  False  4.825698e+11    114.0         0.0   \n",
       "12  10  15  1  53298  2  1767258089  False  1.100000e-01     55.0         0.0   \n",
       "16  10  15  1  53298  2   309580411  False  2.500000e-01     70.0         0.0   \n",
       "20  10  15  1  53298  2    74845286  False  0.000000e+00     13.0         0.0   \n",
       "24  10  15  1  53298  2  2041105245  False  2.900000e-01     21.0         0.0   \n",
       "28  10  15  1  53298  2  1621709875  False  2.238350e+06    208.0         0.0   \n",
       "32  10  15  1  53298  2  1099128569  False  1.444000e+01    165.0         0.0   \n",
       "36  10  15  1  53298  2  1016164991  False  5.864375e+12     86.0         0.0   \n",
       "\n",
       "         time  scc  \n",
       "0    3.160977  [2]  \n",
       "4    0.907574  [2]  \n",
       "8    7.680080  [2]  \n",
       "12   4.521861  [2]  \n",
       "16   5.907766  [2]  \n",
       "20   1.691943  [2]  \n",
       "24   2.660893  [2]  \n",
       "28  18.202569  [2]  \n",
       "32  15.413010  [2]  \n",
       "36   7.591239  [2]  "
      ]
     },
     "execution_count": 33,
     "metadata": {},
     "output_type": "execute_result"
    }
   ],
   "source": [
    "df[(df[\"M\"]==2) & (df[\"r1\"]==53298)& (df[\"mdf\"]==False)]"
   ]
  },
  {
   "cell_type": "code",
   "execution_count": 89,
   "id": "2c1622c8-1155-4119-9c09-807fdb41e747",
   "metadata": {
    "execution": {
     "iopub.execute_input": "2022-06-29T19:25:35.986566Z",
     "iopub.status.busy": "2022-06-29T19:25:35.986566Z",
     "iopub.status.idle": "2022-06-29T19:25:36.014095Z",
     "shell.execute_reply": "2022-06-29T19:25:36.013593Z",
     "shell.execute_reply.started": "2022-06-29T19:25:35.986566Z"
    },
    "tags": []
   },
   "outputs": [
    {
     "data": {
      "text/html": [
       "<div>\n",
       "<style scoped>\n",
       "    .dataframe tbody tr th:only-of-type {\n",
       "        vertical-align: middle;\n",
       "    }\n",
       "\n",
       "    .dataframe tbody tr th {\n",
       "        vertical-align: top;\n",
       "    }\n",
       "\n",
       "    .dataframe thead th {\n",
       "        text-align: right;\n",
       "    }\n",
       "</style>\n",
       "<table border=\"1\" class=\"dataframe\">\n",
       "  <thead>\n",
       "    <tr style=\"text-align: right;\">\n",
       "      <th></th>\n",
       "      <th>m</th>\n",
       "      <th>n</th>\n",
       "      <th>c</th>\n",
       "      <th>r1</th>\n",
       "      <th>M</th>\n",
       "      <th>r2</th>\n",
       "      <th>mdf</th>\n",
       "      <th>fobj</th>\n",
       "      <th>optiter</th>\n",
       "      <th>solveriter</th>\n",
       "      <th>time</th>\n",
       "      <th>scc</th>\n",
       "    </tr>\n",
       "  </thead>\n",
       "  <tbody>\n",
       "    <tr>\n",
       "      <th>0</th>\n",
       "      <td>10</td>\n",
       "      <td>15</td>\n",
       "      <td>1</td>\n",
       "      <td>53298</td>\n",
       "      <td>2</td>\n",
       "      <td>669652944</td>\n",
       "      <td>False</td>\n",
       "      <td>2.500000e+01</td>\n",
       "      <td>56.0</td>\n",
       "      <td>0.0</td>\n",
       "      <td>3.378072</td>\n",
       "      <td>[2]</td>\n",
       "    </tr>\n",
       "    <tr>\n",
       "      <th>1</th>\n",
       "      <td>10</td>\n",
       "      <td>15</td>\n",
       "      <td>1</td>\n",
       "      <td>53298</td>\n",
       "      <td>2</td>\n",
       "      <td>669652944</td>\n",
       "      <td>True</td>\n",
       "      <td>0.000000e+00</td>\n",
       "      <td>4.0</td>\n",
       "      <td>804.0</td>\n",
       "      <td>20.975636</td>\n",
       "      <td>[2]</td>\n",
       "    </tr>\n",
       "    <tr>\n",
       "      <th>2</th>\n",
       "      <td>10</td>\n",
       "      <td>15</td>\n",
       "      <td>1</td>\n",
       "      <td>53298</td>\n",
       "      <td>1</td>\n",
       "      <td>669652944</td>\n",
       "      <td>False</td>\n",
       "      <td>2.386299e+04</td>\n",
       "      <td>74.0</td>\n",
       "      <td>0.0</td>\n",
       "      <td>6.074229</td>\n",
       "      <td>[6]</td>\n",
       "    </tr>\n",
       "    <tr>\n",
       "      <th>3</th>\n",
       "      <td>10</td>\n",
       "      <td>15</td>\n",
       "      <td>1</td>\n",
       "      <td>53298</td>\n",
       "      <td>1</td>\n",
       "      <td>669652944</td>\n",
       "      <td>True</td>\n",
       "      <td>0.000000e+00</td>\n",
       "      <td>4.0</td>\n",
       "      <td>804.0</td>\n",
       "      <td>86.731645</td>\n",
       "      <td>[6]</td>\n",
       "    </tr>\n",
       "    <tr>\n",
       "      <th>4</th>\n",
       "      <td>10</td>\n",
       "      <td>15</td>\n",
       "      <td>1</td>\n",
       "      <td>53298</td>\n",
       "      <td>2</td>\n",
       "      <td>535214420</td>\n",
       "      <td>False</td>\n",
       "      <td>0.000000e+00</td>\n",
       "      <td>9.0</td>\n",
       "      <td>0.0</td>\n",
       "      <td>0.923307</td>\n",
       "      <td>[2]</td>\n",
       "    </tr>\n",
       "    <tr>\n",
       "      <th>5</th>\n",
       "      <td>10</td>\n",
       "      <td>15</td>\n",
       "      <td>1</td>\n",
       "      <td>53298</td>\n",
       "      <td>2</td>\n",
       "      <td>535214420</td>\n",
       "      <td>True</td>\n",
       "      <td>0.000000e+00</td>\n",
       "      <td>4.0</td>\n",
       "      <td>14.0</td>\n",
       "      <td>0.591746</td>\n",
       "      <td>[2]</td>\n",
       "    </tr>\n",
       "    <tr>\n",
       "      <th>6</th>\n",
       "      <td>10</td>\n",
       "      <td>15</td>\n",
       "      <td>1</td>\n",
       "      <td>53298</td>\n",
       "      <td>1</td>\n",
       "      <td>535214420</td>\n",
       "      <td>False</td>\n",
       "      <td>3.330000e+00</td>\n",
       "      <td>101.0</td>\n",
       "      <td>0.0</td>\n",
       "      <td>12.000775</td>\n",
       "      <td>[6]</td>\n",
       "    </tr>\n",
       "    <tr>\n",
       "      <th>7</th>\n",
       "      <td>10</td>\n",
       "      <td>15</td>\n",
       "      <td>1</td>\n",
       "      <td>53298</td>\n",
       "      <td>1</td>\n",
       "      <td>535214420</td>\n",
       "      <td>True</td>\n",
       "      <td>0.000000e+00</td>\n",
       "      <td>4.0</td>\n",
       "      <td>538.0</td>\n",
       "      <td>56.705762</td>\n",
       "      <td>[6]</td>\n",
       "    </tr>\n",
       "    <tr>\n",
       "      <th>8</th>\n",
       "      <td>10</td>\n",
       "      <td>15</td>\n",
       "      <td>1</td>\n",
       "      <td>53298</td>\n",
       "      <td>2</td>\n",
       "      <td>2037209175</td>\n",
       "      <td>False</td>\n",
       "      <td>8.869529e+12</td>\n",
       "      <td>74.0</td>\n",
       "      <td>0.0</td>\n",
       "      <td>6.597935</td>\n",
       "      <td>[2]</td>\n",
       "    </tr>\n",
       "    <tr>\n",
       "      <th>9</th>\n",
       "      <td>10</td>\n",
       "      <td>15</td>\n",
       "      <td>1</td>\n",
       "      <td>53298</td>\n",
       "      <td>2</td>\n",
       "      <td>2037209175</td>\n",
       "      <td>True</td>\n",
       "      <td>9.999000e+03</td>\n",
       "      <td>NaN</td>\n",
       "      <td>NaN</td>\n",
       "      <td>NaN</td>\n",
       "      <td>[2]</td>\n",
       "    </tr>\n",
       "    <tr>\n",
       "      <th>10</th>\n",
       "      <td>10</td>\n",
       "      <td>15</td>\n",
       "      <td>1</td>\n",
       "      <td>53298</td>\n",
       "      <td>1</td>\n",
       "      <td>2037209175</td>\n",
       "      <td>False</td>\n",
       "      <td>9.551505e+04</td>\n",
       "      <td>84.0</td>\n",
       "      <td>0.0</td>\n",
       "      <td>4.314692</td>\n",
       "      <td>[6]</td>\n",
       "    </tr>\n",
       "    <tr>\n",
       "      <th>11</th>\n",
       "      <td>10</td>\n",
       "      <td>15</td>\n",
       "      <td>1</td>\n",
       "      <td>53298</td>\n",
       "      <td>1</td>\n",
       "      <td>2037209175</td>\n",
       "      <td>True</td>\n",
       "      <td>0.000000e+00</td>\n",
       "      <td>4.0</td>\n",
       "      <td>204.0</td>\n",
       "      <td>24.672656</td>\n",
       "      <td>[6]</td>\n",
       "    </tr>\n",
       "    <tr>\n",
       "      <th>12</th>\n",
       "      <td>10</td>\n",
       "      <td>15</td>\n",
       "      <td>1</td>\n",
       "      <td>53298</td>\n",
       "      <td>2</td>\n",
       "      <td>1767258089</td>\n",
       "      <td>False</td>\n",
       "      <td>1.100000e-01</td>\n",
       "      <td>55.0</td>\n",
       "      <td>0.0</td>\n",
       "      <td>4.790229</td>\n",
       "      <td>[2]</td>\n",
       "    </tr>\n",
       "    <tr>\n",
       "      <th>13</th>\n",
       "      <td>10</td>\n",
       "      <td>15</td>\n",
       "      <td>1</td>\n",
       "      <td>53298</td>\n",
       "      <td>2</td>\n",
       "      <td>1767258089</td>\n",
       "      <td>True</td>\n",
       "      <td>0.000000e+00</td>\n",
       "      <td>4.0</td>\n",
       "      <td>804.0</td>\n",
       "      <td>23.674130</td>\n",
       "      <td>[2]</td>\n",
       "    </tr>\n",
       "    <tr>\n",
       "      <th>14</th>\n",
       "      <td>10</td>\n",
       "      <td>15</td>\n",
       "      <td>1</td>\n",
       "      <td>53298</td>\n",
       "      <td>1</td>\n",
       "      <td>1767258089</td>\n",
       "      <td>False</td>\n",
       "      <td>1.646428e+13</td>\n",
       "      <td>259.0</td>\n",
       "      <td>0.0</td>\n",
       "      <td>16.443781</td>\n",
       "      <td>[6]</td>\n",
       "    </tr>\n",
       "    <tr>\n",
       "      <th>15</th>\n",
       "      <td>10</td>\n",
       "      <td>15</td>\n",
       "      <td>1</td>\n",
       "      <td>53298</td>\n",
       "      <td>1</td>\n",
       "      <td>1767258089</td>\n",
       "      <td>True</td>\n",
       "      <td>9.999000e+03</td>\n",
       "      <td>NaN</td>\n",
       "      <td>NaN</td>\n",
       "      <td>NaN</td>\n",
       "      <td>[6]</td>\n",
       "    </tr>\n",
       "    <tr>\n",
       "      <th>16</th>\n",
       "      <td>10</td>\n",
       "      <td>15</td>\n",
       "      <td>1</td>\n",
       "      <td>53298</td>\n",
       "      <td>2</td>\n",
       "      <td>309580411</td>\n",
       "      <td>False</td>\n",
       "      <td>2.500000e-01</td>\n",
       "      <td>70.0</td>\n",
       "      <td>0.0</td>\n",
       "      <td>7.061961</td>\n",
       "      <td>[2]</td>\n",
       "    </tr>\n",
       "    <tr>\n",
       "      <th>17</th>\n",
       "      <td>10</td>\n",
       "      <td>15</td>\n",
       "      <td>1</td>\n",
       "      <td>53298</td>\n",
       "      <td>2</td>\n",
       "      <td>309580411</td>\n",
       "      <td>True</td>\n",
       "      <td>0.000000e+00</td>\n",
       "      <td>4.0</td>\n",
       "      <td>804.0</td>\n",
       "      <td>21.559257</td>\n",
       "      <td>[2]</td>\n",
       "    </tr>\n",
       "    <tr>\n",
       "      <th>18</th>\n",
       "      <td>10</td>\n",
       "      <td>15</td>\n",
       "      <td>1</td>\n",
       "      <td>53298</td>\n",
       "      <td>1</td>\n",
       "      <td>309580411</td>\n",
       "      <td>False</td>\n",
       "      <td>1.000000e+00</td>\n",
       "      <td>203.0</td>\n",
       "      <td>0.0</td>\n",
       "      <td>24.715443</td>\n",
       "      <td>[6]</td>\n",
       "    </tr>\n",
       "    <tr>\n",
       "      <th>19</th>\n",
       "      <td>10</td>\n",
       "      <td>15</td>\n",
       "      <td>1</td>\n",
       "      <td>53298</td>\n",
       "      <td>1</td>\n",
       "      <td>309580411</td>\n",
       "      <td>True</td>\n",
       "      <td>0.000000e+00</td>\n",
       "      <td>4.0</td>\n",
       "      <td>350.0</td>\n",
       "      <td>39.581185</td>\n",
       "      <td>[6]</td>\n",
       "    </tr>\n",
       "    <tr>\n",
       "      <th>20</th>\n",
       "      <td>10</td>\n",
       "      <td>15</td>\n",
       "      <td>1</td>\n",
       "      <td>53298</td>\n",
       "      <td>2</td>\n",
       "      <td>74845286</td>\n",
       "      <td>False</td>\n",
       "      <td>0.000000e+00</td>\n",
       "      <td>13.0</td>\n",
       "      <td>0.0</td>\n",
       "      <td>1.862629</td>\n",
       "      <td>[2]</td>\n",
       "    </tr>\n",
       "    <tr>\n",
       "      <th>21</th>\n",
       "      <td>10</td>\n",
       "      <td>15</td>\n",
       "      <td>1</td>\n",
       "      <td>53298</td>\n",
       "      <td>2</td>\n",
       "      <td>74845286</td>\n",
       "      <td>True</td>\n",
       "      <td>0.000000e+00</td>\n",
       "      <td>4.0</td>\n",
       "      <td>16.0</td>\n",
       "      <td>0.635804</td>\n",
       "      <td>[2]</td>\n",
       "    </tr>\n",
       "    <tr>\n",
       "      <th>22</th>\n",
       "      <td>10</td>\n",
       "      <td>15</td>\n",
       "      <td>1</td>\n",
       "      <td>53298</td>\n",
       "      <td>1</td>\n",
       "      <td>74845286</td>\n",
       "      <td>False</td>\n",
       "      <td>8.800000e-01</td>\n",
       "      <td>108.0</td>\n",
       "      <td>0.0</td>\n",
       "      <td>10.862438</td>\n",
       "      <td>[6]</td>\n",
       "    </tr>\n",
       "    <tr>\n",
       "      <th>23</th>\n",
       "      <td>10</td>\n",
       "      <td>15</td>\n",
       "      <td>1</td>\n",
       "      <td>53298</td>\n",
       "      <td>1</td>\n",
       "      <td>74845286</td>\n",
       "      <td>True</td>\n",
       "      <td>0.000000e+00</td>\n",
       "      <td>4.0</td>\n",
       "      <td>90.0</td>\n",
       "      <td>10.782031</td>\n",
       "      <td>[6]</td>\n",
       "    </tr>\n",
       "    <tr>\n",
       "      <th>24</th>\n",
       "      <td>10</td>\n",
       "      <td>15</td>\n",
       "      <td>1</td>\n",
       "      <td>53298</td>\n",
       "      <td>2</td>\n",
       "      <td>2041105245</td>\n",
       "      <td>False</td>\n",
       "      <td>2.900000e-01</td>\n",
       "      <td>21.0</td>\n",
       "      <td>0.0</td>\n",
       "      <td>3.028012</td>\n",
       "      <td>[2]</td>\n",
       "    </tr>\n",
       "    <tr>\n",
       "      <th>25</th>\n",
       "      <td>10</td>\n",
       "      <td>15</td>\n",
       "      <td>1</td>\n",
       "      <td>53298</td>\n",
       "      <td>2</td>\n",
       "      <td>2041105245</td>\n",
       "      <td>True</td>\n",
       "      <td>0.000000e+00</td>\n",
       "      <td>4.0</td>\n",
       "      <td>804.0</td>\n",
       "      <td>22.391066</td>\n",
       "      <td>[2]</td>\n",
       "    </tr>\n",
       "    <tr>\n",
       "      <th>26</th>\n",
       "      <td>10</td>\n",
       "      <td>15</td>\n",
       "      <td>1</td>\n",
       "      <td>53298</td>\n",
       "      <td>1</td>\n",
       "      <td>2041105245</td>\n",
       "      <td>False</td>\n",
       "      <td>0.000000e+00</td>\n",
       "      <td>132.0</td>\n",
       "      <td>0.0</td>\n",
       "      <td>14.660422</td>\n",
       "      <td>[6]</td>\n",
       "    </tr>\n",
       "    <tr>\n",
       "      <th>27</th>\n",
       "      <td>10</td>\n",
       "      <td>15</td>\n",
       "      <td>1</td>\n",
       "      <td>53298</td>\n",
       "      <td>1</td>\n",
       "      <td>2041105245</td>\n",
       "      <td>True</td>\n",
       "      <td>9.999000e+03</td>\n",
       "      <td>NaN</td>\n",
       "      <td>NaN</td>\n",
       "      <td>NaN</td>\n",
       "      <td>[6]</td>\n",
       "    </tr>\n",
       "    <tr>\n",
       "      <th>28</th>\n",
       "      <td>10</td>\n",
       "      <td>15</td>\n",
       "      <td>1</td>\n",
       "      <td>53298</td>\n",
       "      <td>2</td>\n",
       "      <td>1621709875</td>\n",
       "      <td>False</td>\n",
       "      <td>2.416257e+13</td>\n",
       "      <td>119.0</td>\n",
       "      <td>0.0</td>\n",
       "      <td>11.560690</td>\n",
       "      <td>[2]</td>\n",
       "    </tr>\n",
       "    <tr>\n",
       "      <th>29</th>\n",
       "      <td>10</td>\n",
       "      <td>15</td>\n",
       "      <td>1</td>\n",
       "      <td>53298</td>\n",
       "      <td>2</td>\n",
       "      <td>1621709875</td>\n",
       "      <td>True</td>\n",
       "      <td>9.999000e+03</td>\n",
       "      <td>NaN</td>\n",
       "      <td>NaN</td>\n",
       "      <td>NaN</td>\n",
       "      <td>[2]</td>\n",
       "    </tr>\n",
       "    <tr>\n",
       "      <th>30</th>\n",
       "      <td>10</td>\n",
       "      <td>15</td>\n",
       "      <td>1</td>\n",
       "      <td>53298</td>\n",
       "      <td>1</td>\n",
       "      <td>1621709875</td>\n",
       "      <td>False</td>\n",
       "      <td>3.627330e+03</td>\n",
       "      <td>88.0</td>\n",
       "      <td>0.0</td>\n",
       "      <td>7.915512</td>\n",
       "      <td>[6]</td>\n",
       "    </tr>\n",
       "    <tr>\n",
       "      <th>31</th>\n",
       "      <td>10</td>\n",
       "      <td>15</td>\n",
       "      <td>1</td>\n",
       "      <td>53298</td>\n",
       "      <td>1</td>\n",
       "      <td>1621709875</td>\n",
       "      <td>True</td>\n",
       "      <td>9.999000e+03</td>\n",
       "      <td>NaN</td>\n",
       "      <td>NaN</td>\n",
       "      <td>NaN</td>\n",
       "      <td>[6]</td>\n",
       "    </tr>\n",
       "    <tr>\n",
       "      <th>32</th>\n",
       "      <td>10</td>\n",
       "      <td>15</td>\n",
       "      <td>1</td>\n",
       "      <td>53298</td>\n",
       "      <td>2</td>\n",
       "      <td>1099128569</td>\n",
       "      <td>False</td>\n",
       "      <td>4.732360e+05</td>\n",
       "      <td>57.0</td>\n",
       "      <td>0.0</td>\n",
       "      <td>6.626296</td>\n",
       "      <td>[2]</td>\n",
       "    </tr>\n",
       "    <tr>\n",
       "      <th>33</th>\n",
       "      <td>10</td>\n",
       "      <td>15</td>\n",
       "      <td>1</td>\n",
       "      <td>53298</td>\n",
       "      <td>2</td>\n",
       "      <td>1099128569</td>\n",
       "      <td>True</td>\n",
       "      <td>9.999000e+03</td>\n",
       "      <td>NaN</td>\n",
       "      <td>NaN</td>\n",
       "      <td>NaN</td>\n",
       "      <td>[2]</td>\n",
       "    </tr>\n",
       "    <tr>\n",
       "      <th>34</th>\n",
       "      <td>10</td>\n",
       "      <td>15</td>\n",
       "      <td>1</td>\n",
       "      <td>53298</td>\n",
       "      <td>1</td>\n",
       "      <td>1099128569</td>\n",
       "      <td>False</td>\n",
       "      <td>2.848886e+06</td>\n",
       "      <td>44.0</td>\n",
       "      <td>0.0</td>\n",
       "      <td>3.595211</td>\n",
       "      <td>[6]</td>\n",
       "    </tr>\n",
       "    <tr>\n",
       "      <th>35</th>\n",
       "      <td>10</td>\n",
       "      <td>15</td>\n",
       "      <td>1</td>\n",
       "      <td>53298</td>\n",
       "      <td>1</td>\n",
       "      <td>1099128569</td>\n",
       "      <td>True</td>\n",
       "      <td>9.999000e+03</td>\n",
       "      <td>NaN</td>\n",
       "      <td>NaN</td>\n",
       "      <td>NaN</td>\n",
       "      <td>[6]</td>\n",
       "    </tr>\n",
       "    <tr>\n",
       "      <th>36</th>\n",
       "      <td>10</td>\n",
       "      <td>15</td>\n",
       "      <td>1</td>\n",
       "      <td>53298</td>\n",
       "      <td>2</td>\n",
       "      <td>1016164991</td>\n",
       "      <td>False</td>\n",
       "      <td>1.805940e+03</td>\n",
       "      <td>122.0</td>\n",
       "      <td>0.0</td>\n",
       "      <td>10.510467</td>\n",
       "      <td>[2]</td>\n",
       "    </tr>\n",
       "    <tr>\n",
       "      <th>37</th>\n",
       "      <td>10</td>\n",
       "      <td>15</td>\n",
       "      <td>1</td>\n",
       "      <td>53298</td>\n",
       "      <td>2</td>\n",
       "      <td>1016164991</td>\n",
       "      <td>True</td>\n",
       "      <td>0.000000e+00</td>\n",
       "      <td>4.0</td>\n",
       "      <td>476.0</td>\n",
       "      <td>13.494814</td>\n",
       "      <td>[2]</td>\n",
       "    </tr>\n",
       "    <tr>\n",
       "      <th>38</th>\n",
       "      <td>10</td>\n",
       "      <td>15</td>\n",
       "      <td>1</td>\n",
       "      <td>53298</td>\n",
       "      <td>1</td>\n",
       "      <td>1016164991</td>\n",
       "      <td>False</td>\n",
       "      <td>5.154200e+02</td>\n",
       "      <td>180.0</td>\n",
       "      <td>0.0</td>\n",
       "      <td>12.496079</td>\n",
       "      <td>[6]</td>\n",
       "    </tr>\n",
       "    <tr>\n",
       "      <th>39</th>\n",
       "      <td>10</td>\n",
       "      <td>15</td>\n",
       "      <td>1</td>\n",
       "      <td>53298</td>\n",
       "      <td>1</td>\n",
       "      <td>1016164991</td>\n",
       "      <td>True</td>\n",
       "      <td>9.999000e+03</td>\n",
       "      <td>NaN</td>\n",
       "      <td>NaN</td>\n",
       "      <td>NaN</td>\n",
       "      <td>[6]</td>\n",
       "    </tr>\n",
       "    <tr>\n",
       "      <th>40</th>\n",
       "      <td>10</td>\n",
       "      <td>15</td>\n",
       "      <td>1</td>\n",
       "      <td>11486</td>\n",
       "      <td>2</td>\n",
       "      <td>59182745</td>\n",
       "      <td>False</td>\n",
       "      <td>0.000000e+00</td>\n",
       "      <td>4.0</td>\n",
       "      <td>0.0</td>\n",
       "      <td>0.650723</td>\n",
       "      <td>[]</td>\n",
       "    </tr>\n",
       "    <tr>\n",
       "      <th>41</th>\n",
       "      <td>10</td>\n",
       "      <td>15</td>\n",
       "      <td>1</td>\n",
       "      <td>11486</td>\n",
       "      <td>2</td>\n",
       "      <td>59182745</td>\n",
       "      <td>True</td>\n",
       "      <td>0.000000e+00</td>\n",
       "      <td>4.0</td>\n",
       "      <td>0.0</td>\n",
       "      <td>0.371530</td>\n",
       "      <td>[]</td>\n",
       "    </tr>\n",
       "    <tr>\n",
       "      <th>42</th>\n",
       "      <td>10</td>\n",
       "      <td>15</td>\n",
       "      <td>1</td>\n",
       "      <td>11486</td>\n",
       "      <td>1</td>\n",
       "      <td>59182745</td>\n",
       "      <td>False</td>\n",
       "      <td>1.405000e+01</td>\n",
       "      <td>34.0</td>\n",
       "      <td>0.0</td>\n",
       "      <td>4.587146</td>\n",
       "      <td>[2]</td>\n",
       "    </tr>\n",
       "    <tr>\n",
       "      <th>43</th>\n",
       "      <td>10</td>\n",
       "      <td>15</td>\n",
       "      <td>1</td>\n",
       "      <td>11486</td>\n",
       "      <td>1</td>\n",
       "      <td>59182745</td>\n",
       "      <td>True</td>\n",
       "      <td>9.999000e+03</td>\n",
       "      <td>NaN</td>\n",
       "      <td>NaN</td>\n",
       "      <td>NaN</td>\n",
       "      <td>[2]</td>\n",
       "    </tr>\n",
       "    <tr>\n",
       "      <th>44</th>\n",
       "      <td>10</td>\n",
       "      <td>15</td>\n",
       "      <td>1</td>\n",
       "      <td>11486</td>\n",
       "      <td>2</td>\n",
       "      <td>184123697</td>\n",
       "      <td>False</td>\n",
       "      <td>0.000000e+00</td>\n",
       "      <td>4.0</td>\n",
       "      <td>0.0</td>\n",
       "      <td>0.365031</td>\n",
       "      <td>[]</td>\n",
       "    </tr>\n",
       "    <tr>\n",
       "      <th>45</th>\n",
       "      <td>10</td>\n",
       "      <td>15</td>\n",
       "      <td>1</td>\n",
       "      <td>11486</td>\n",
       "      <td>2</td>\n",
       "      <td>184123697</td>\n",
       "      <td>True</td>\n",
       "      <td>0.000000e+00</td>\n",
       "      <td>4.0</td>\n",
       "      <td>0.0</td>\n",
       "      <td>0.390288</td>\n",
       "      <td>[]</td>\n",
       "    </tr>\n",
       "    <tr>\n",
       "      <th>46</th>\n",
       "      <td>10</td>\n",
       "      <td>15</td>\n",
       "      <td>1</td>\n",
       "      <td>11486</td>\n",
       "      <td>1</td>\n",
       "      <td>184123697</td>\n",
       "      <td>False</td>\n",
       "      <td>0.000000e+00</td>\n",
       "      <td>15.0</td>\n",
       "      <td>0.0</td>\n",
       "      <td>2.322470</td>\n",
       "      <td>[2]</td>\n",
       "    </tr>\n",
       "    <tr>\n",
       "      <th>47</th>\n",
       "      <td>10</td>\n",
       "      <td>15</td>\n",
       "      <td>1</td>\n",
       "      <td>11486</td>\n",
       "      <td>1</td>\n",
       "      <td>184123697</td>\n",
       "      <td>True</td>\n",
       "      <td>0.000000e+00</td>\n",
       "      <td>4.0</td>\n",
       "      <td>7.0</td>\n",
       "      <td>0.544026</td>\n",
       "      <td>[2]</td>\n",
       "    </tr>\n",
       "    <tr>\n",
       "      <th>48</th>\n",
       "      <td>10</td>\n",
       "      <td>15</td>\n",
       "      <td>1</td>\n",
       "      <td>11486</td>\n",
       "      <td>2</td>\n",
       "      <td>1180243457</td>\n",
       "      <td>False</td>\n",
       "      <td>0.000000e+00</td>\n",
       "      <td>4.0</td>\n",
       "      <td>0.0</td>\n",
       "      <td>0.391907</td>\n",
       "      <td>[]</td>\n",
       "    </tr>\n",
       "    <tr>\n",
       "      <th>49</th>\n",
       "      <td>10</td>\n",
       "      <td>15</td>\n",
       "      <td>1</td>\n",
       "      <td>11486</td>\n",
       "      <td>2</td>\n",
       "      <td>1180243457</td>\n",
       "      <td>True</td>\n",
       "      <td>0.000000e+00</td>\n",
       "      <td>4.0</td>\n",
       "      <td>0.0</td>\n",
       "      <td>0.398317</td>\n",
       "      <td>[]</td>\n",
       "    </tr>\n",
       "  </tbody>\n",
       "</table>\n",
       "</div>"
      ],
      "text/plain": [
       "     m   n  c     r1  M          r2    mdf          fobj  optiter  solveriter  \\\n",
       "0   10  15  1  53298  2   669652944  False  2.500000e+01     56.0         0.0   \n",
       "1   10  15  1  53298  2   669652944   True  0.000000e+00      4.0       804.0   \n",
       "2   10  15  1  53298  1   669652944  False  2.386299e+04     74.0         0.0   \n",
       "3   10  15  1  53298  1   669652944   True  0.000000e+00      4.0       804.0   \n",
       "4   10  15  1  53298  2   535214420  False  0.000000e+00      9.0         0.0   \n",
       "5   10  15  1  53298  2   535214420   True  0.000000e+00      4.0        14.0   \n",
       "6   10  15  1  53298  1   535214420  False  3.330000e+00    101.0         0.0   \n",
       "7   10  15  1  53298  1   535214420   True  0.000000e+00      4.0       538.0   \n",
       "8   10  15  1  53298  2  2037209175  False  8.869529e+12     74.0         0.0   \n",
       "9   10  15  1  53298  2  2037209175   True  9.999000e+03      NaN         NaN   \n",
       "10  10  15  1  53298  1  2037209175  False  9.551505e+04     84.0         0.0   \n",
       "11  10  15  1  53298  1  2037209175   True  0.000000e+00      4.0       204.0   \n",
       "12  10  15  1  53298  2  1767258089  False  1.100000e-01     55.0         0.0   \n",
       "13  10  15  1  53298  2  1767258089   True  0.000000e+00      4.0       804.0   \n",
       "14  10  15  1  53298  1  1767258089  False  1.646428e+13    259.0         0.0   \n",
       "15  10  15  1  53298  1  1767258089   True  9.999000e+03      NaN         NaN   \n",
       "16  10  15  1  53298  2   309580411  False  2.500000e-01     70.0         0.0   \n",
       "17  10  15  1  53298  2   309580411   True  0.000000e+00      4.0       804.0   \n",
       "18  10  15  1  53298  1   309580411  False  1.000000e+00    203.0         0.0   \n",
       "19  10  15  1  53298  1   309580411   True  0.000000e+00      4.0       350.0   \n",
       "20  10  15  1  53298  2    74845286  False  0.000000e+00     13.0         0.0   \n",
       "21  10  15  1  53298  2    74845286   True  0.000000e+00      4.0        16.0   \n",
       "22  10  15  1  53298  1    74845286  False  8.800000e-01    108.0         0.0   \n",
       "23  10  15  1  53298  1    74845286   True  0.000000e+00      4.0        90.0   \n",
       "24  10  15  1  53298  2  2041105245  False  2.900000e-01     21.0         0.0   \n",
       "25  10  15  1  53298  2  2041105245   True  0.000000e+00      4.0       804.0   \n",
       "26  10  15  1  53298  1  2041105245  False  0.000000e+00    132.0         0.0   \n",
       "27  10  15  1  53298  1  2041105245   True  9.999000e+03      NaN         NaN   \n",
       "28  10  15  1  53298  2  1621709875  False  2.416257e+13    119.0         0.0   \n",
       "29  10  15  1  53298  2  1621709875   True  9.999000e+03      NaN         NaN   \n",
       "30  10  15  1  53298  1  1621709875  False  3.627330e+03     88.0         0.0   \n",
       "31  10  15  1  53298  1  1621709875   True  9.999000e+03      NaN         NaN   \n",
       "32  10  15  1  53298  2  1099128569  False  4.732360e+05     57.0         0.0   \n",
       "33  10  15  1  53298  2  1099128569   True  9.999000e+03      NaN         NaN   \n",
       "34  10  15  1  53298  1  1099128569  False  2.848886e+06     44.0         0.0   \n",
       "35  10  15  1  53298  1  1099128569   True  9.999000e+03      NaN         NaN   \n",
       "36  10  15  1  53298  2  1016164991  False  1.805940e+03    122.0         0.0   \n",
       "37  10  15  1  53298  2  1016164991   True  0.000000e+00      4.0       476.0   \n",
       "38  10  15  1  53298  1  1016164991  False  5.154200e+02    180.0         0.0   \n",
       "39  10  15  1  53298  1  1016164991   True  9.999000e+03      NaN         NaN   \n",
       "40  10  15  1  11486  2    59182745  False  0.000000e+00      4.0         0.0   \n",
       "41  10  15  1  11486  2    59182745   True  0.000000e+00      4.0         0.0   \n",
       "42  10  15  1  11486  1    59182745  False  1.405000e+01     34.0         0.0   \n",
       "43  10  15  1  11486  1    59182745   True  9.999000e+03      NaN         NaN   \n",
       "44  10  15  1  11486  2   184123697  False  0.000000e+00      4.0         0.0   \n",
       "45  10  15  1  11486  2   184123697   True  0.000000e+00      4.0         0.0   \n",
       "46  10  15  1  11486  1   184123697  False  0.000000e+00     15.0         0.0   \n",
       "47  10  15  1  11486  1   184123697   True  0.000000e+00      4.0         7.0   \n",
       "48  10  15  1  11486  2  1180243457  False  0.000000e+00      4.0         0.0   \n",
       "49  10  15  1  11486  2  1180243457   True  0.000000e+00      4.0         0.0   \n",
       "\n",
       "         time  scc  \n",
       "0    3.378072  [2]  \n",
       "1   20.975636  [2]  \n",
       "2    6.074229  [6]  \n",
       "3   86.731645  [6]  \n",
       "4    0.923307  [2]  \n",
       "5    0.591746  [2]  \n",
       "6   12.000775  [6]  \n",
       "7   56.705762  [6]  \n",
       "8    6.597935  [2]  \n",
       "9         NaN  [2]  \n",
       "10   4.314692  [6]  \n",
       "11  24.672656  [6]  \n",
       "12   4.790229  [2]  \n",
       "13  23.674130  [2]  \n",
       "14  16.443781  [6]  \n",
       "15        NaN  [6]  \n",
       "16   7.061961  [2]  \n",
       "17  21.559257  [2]  \n",
       "18  24.715443  [6]  \n",
       "19  39.581185  [6]  \n",
       "20   1.862629  [2]  \n",
       "21   0.635804  [2]  \n",
       "22  10.862438  [6]  \n",
       "23  10.782031  [6]  \n",
       "24   3.028012  [2]  \n",
       "25  22.391066  [2]  \n",
       "26  14.660422  [6]  \n",
       "27        NaN  [6]  \n",
       "28  11.560690  [2]  \n",
       "29        NaN  [2]  \n",
       "30   7.915512  [6]  \n",
       "31        NaN  [6]  \n",
       "32   6.626296  [2]  \n",
       "33        NaN  [2]  \n",
       "34   3.595211  [6]  \n",
       "35        NaN  [6]  \n",
       "36  10.510467  [2]  \n",
       "37  13.494814  [2]  \n",
       "38  12.496079  [6]  \n",
       "39        NaN  [6]  \n",
       "40   0.650723   []  \n",
       "41   0.371530   []  \n",
       "42   4.587146  [2]  \n",
       "43        NaN  [2]  \n",
       "44   0.365031   []  \n",
       "45   0.390288   []  \n",
       "46   2.322470  [2]  \n",
       "47   0.544026  [2]  \n",
       "48   0.391907   []  \n",
       "49   0.398317   []  "
      ]
     },
     "execution_count": 89,
     "metadata": {},
     "output_type": "execute_result"
    }
   ],
   "source": [
    "df.iloc[0:50]"
   ]
  },
  {
   "cell_type": "code",
   "execution_count": 46,
   "id": "9b070f83-cd32-4207-8866-7412ab01d936",
   "metadata": {
    "execution": {
     "iopub.execute_input": "2022-06-29T18:34:49.047899Z",
     "iopub.status.busy": "2022-06-29T18:34:49.046886Z",
     "iopub.status.idle": "2022-06-29T18:34:49.062552Z",
     "shell.execute_reply": "2022-06-29T18:34:49.062472Z",
     "shell.execute_reply.started": "2022-06-29T18:34:49.047899Z"
    },
    "tags": []
   },
   "outputs": [
    {
     "data": {
      "text/html": [
       "<div>\n",
       "<style scoped>\n",
       "    .dataframe tbody tr th:only-of-type {\n",
       "        vertical-align: middle;\n",
       "    }\n",
       "\n",
       "    .dataframe tbody tr th {\n",
       "        vertical-align: top;\n",
       "    }\n",
       "\n",
       "    .dataframe thead th {\n",
       "        text-align: right;\n",
       "    }\n",
       "</style>\n",
       "<table border=\"1\" class=\"dataframe\">\n",
       "  <thead>\n",
       "    <tr style=\"text-align: right;\">\n",
       "      <th></th>\n",
       "      <th>m</th>\n",
       "      <th>n</th>\n",
       "      <th>c</th>\n",
       "      <th>r1</th>\n",
       "      <th>M</th>\n",
       "      <th>r2</th>\n",
       "      <th>mdf</th>\n",
       "      <th>fobj</th>\n",
       "      <th>niter</th>\n",
       "      <th>scc</th>\n",
       "    </tr>\n",
       "  </thead>\n",
       "  <tbody>\n",
       "    <tr>\n",
       "      <th>0</th>\n",
       "      <td>10</td>\n",
       "      <td>15</td>\n",
       "      <td>1</td>\n",
       "      <td>53298</td>\n",
       "      <td>2</td>\n",
       "      <td>669652944</td>\n",
       "      <td>False</td>\n",
       "      <td>2.500000e+01</td>\n",
       "      <td>0.0</td>\n",
       "      <td>[2]</td>\n",
       "    </tr>\n",
       "    <tr>\n",
       "      <th>1</th>\n",
       "      <td>10</td>\n",
       "      <td>15</td>\n",
       "      <td>1</td>\n",
       "      <td>53298</td>\n",
       "      <td>2</td>\n",
       "      <td>669652944</td>\n",
       "      <td>True</td>\n",
       "      <td>0.000000e+00</td>\n",
       "      <td>804.0</td>\n",
       "      <td>[2]</td>\n",
       "    </tr>\n",
       "    <tr>\n",
       "      <th>2</th>\n",
       "      <td>10</td>\n",
       "      <td>15</td>\n",
       "      <td>1</td>\n",
       "      <td>53298</td>\n",
       "      <td>1</td>\n",
       "      <td>669652944</td>\n",
       "      <td>False</td>\n",
       "      <td>3.723109e+05</td>\n",
       "      <td>0.0</td>\n",
       "      <td>[6]</td>\n",
       "    </tr>\n",
       "    <tr>\n",
       "      <th>3</th>\n",
       "      <td>10</td>\n",
       "      <td>15</td>\n",
       "      <td>1</td>\n",
       "      <td>53298</td>\n",
       "      <td>1</td>\n",
       "      <td>669652944</td>\n",
       "      <td>True</td>\n",
       "      <td>0.000000e+00</td>\n",
       "      <td>804.0</td>\n",
       "      <td>[6]</td>\n",
       "    </tr>\n",
       "    <tr>\n",
       "      <th>4</th>\n",
       "      <td>10</td>\n",
       "      <td>15</td>\n",
       "      <td>1</td>\n",
       "      <td>53298</td>\n",
       "      <td>2</td>\n",
       "      <td>535214420</td>\n",
       "      <td>False</td>\n",
       "      <td>0.000000e+00</td>\n",
       "      <td>0.0</td>\n",
       "      <td>[2]</td>\n",
       "    </tr>\n",
       "    <tr>\n",
       "      <th>5</th>\n",
       "      <td>10</td>\n",
       "      <td>15</td>\n",
       "      <td>1</td>\n",
       "      <td>53298</td>\n",
       "      <td>2</td>\n",
       "      <td>535214420</td>\n",
       "      <td>True</td>\n",
       "      <td>0.000000e+00</td>\n",
       "      <td>14.0</td>\n",
       "      <td>[2]</td>\n",
       "    </tr>\n",
       "    <tr>\n",
       "      <th>6</th>\n",
       "      <td>10</td>\n",
       "      <td>15</td>\n",
       "      <td>1</td>\n",
       "      <td>53298</td>\n",
       "      <td>1</td>\n",
       "      <td>535214420</td>\n",
       "      <td>False</td>\n",
       "      <td>3.330000e+00</td>\n",
       "      <td>0.0</td>\n",
       "      <td>[6]</td>\n",
       "    </tr>\n",
       "    <tr>\n",
       "      <th>7</th>\n",
       "      <td>10</td>\n",
       "      <td>15</td>\n",
       "      <td>1</td>\n",
       "      <td>53298</td>\n",
       "      <td>1</td>\n",
       "      <td>535214420</td>\n",
       "      <td>True</td>\n",
       "      <td>0.000000e+00</td>\n",
       "      <td>428.0</td>\n",
       "      <td>[6]</td>\n",
       "    </tr>\n",
       "    <tr>\n",
       "      <th>8</th>\n",
       "      <td>10</td>\n",
       "      <td>15</td>\n",
       "      <td>1</td>\n",
       "      <td>53298</td>\n",
       "      <td>2</td>\n",
       "      <td>2037209175</td>\n",
       "      <td>False</td>\n",
       "      <td>8.869529e+12</td>\n",
       "      <td>0.0</td>\n",
       "      <td>[2]</td>\n",
       "    </tr>\n",
       "    <tr>\n",
       "      <th>9</th>\n",
       "      <td>10</td>\n",
       "      <td>15</td>\n",
       "      <td>1</td>\n",
       "      <td>53298</td>\n",
       "      <td>2</td>\n",
       "      <td>2037209175</td>\n",
       "      <td>True</td>\n",
       "      <td>9.999000e+03</td>\n",
       "      <td>True</td>\n",
       "      <td>[2]</td>\n",
       "    </tr>\n",
       "  </tbody>\n",
       "</table>\n",
       "</div>"
      ],
      "text/plain": [
       "    m   n  c     r1  M          r2    mdf          fobj  niter  scc\n",
       "0  10  15  1  53298  2   669652944  False  2.500000e+01    0.0  [2]\n",
       "1  10  15  1  53298  2   669652944   True  0.000000e+00  804.0  [2]\n",
       "2  10  15  1  53298  1   669652944  False  3.723109e+05    0.0  [6]\n",
       "3  10  15  1  53298  1   669652944   True  0.000000e+00  804.0  [6]\n",
       "4  10  15  1  53298  2   535214420  False  0.000000e+00    0.0  [2]\n",
       "5  10  15  1  53298  2   535214420   True  0.000000e+00   14.0  [2]\n",
       "6  10  15  1  53298  1   535214420  False  3.330000e+00    0.0  [6]\n",
       "7  10  15  1  53298  1   535214420   True  0.000000e+00  428.0  [6]\n",
       "8  10  15  1  53298  2  2037209175  False  8.869529e+12    0.0  [2]\n",
       "9  10  15  1  53298  2  2037209175   True  9.999000e+03   True  [2]"
      ]
     },
     "execution_count": 46,
     "metadata": {},
     "output_type": "execute_result"
    }
   ],
   "source": [
    "df.iloc[0:10]"
   ]
  },
  {
   "cell_type": "code",
   "execution_count": 24,
   "id": "84bc8e15-baff-4a10-afcf-f71790bb6cb9",
   "metadata": {
    "execution": {
     "iopub.execute_input": "2022-06-29T12:53:04.957951Z",
     "iopub.status.busy": "2022-06-29T12:53:04.957005Z",
     "iopub.status.idle": "2022-06-29T12:53:04.968467Z",
     "shell.execute_reply": "2022-06-29T12:53:04.968467Z",
     "shell.execute_reply.started": "2022-06-29T12:53:04.957951Z"
    },
    "tags": []
   },
   "outputs": [
    {
     "data": {
      "text/html": [
       "<div>\n",
       "<style scoped>\n",
       "    .dataframe tbody tr th:only-of-type {\n",
       "        vertical-align: middle;\n",
       "    }\n",
       "\n",
       "    .dataframe tbody tr th {\n",
       "        vertical-align: top;\n",
       "    }\n",
       "\n",
       "    .dataframe thead th {\n",
       "        text-align: right;\n",
       "    }\n",
       "</style>\n",
       "<table border=\"1\" class=\"dataframe\">\n",
       "  <thead>\n",
       "    <tr style=\"text-align: right;\">\n",
       "      <th></th>\n",
       "      <th>m</th>\n",
       "      <th>n</th>\n",
       "      <th>c</th>\n",
       "      <th>r1</th>\n",
       "      <th>M</th>\n",
       "      <th>r2</th>\n",
       "      <th>mdf</th>\n",
       "      <th>fobj</th>\n",
       "      <th>niter</th>\n",
       "      <th>scc</th>\n",
       "    </tr>\n",
       "  </thead>\n",
       "  <tbody>\n",
       "    <tr>\n",
       "      <th>0</th>\n",
       "      <td>10</td>\n",
       "      <td>15</td>\n",
       "      <td>1</td>\n",
       "      <td>53298</td>\n",
       "      <td>2</td>\n",
       "      <td>669652944</td>\n",
       "      <td>False</td>\n",
       "      <td>1.26</td>\n",
       "      <td>0.0</td>\n",
       "      <td>[2]</td>\n",
       "    </tr>\n",
       "    <tr>\n",
       "      <th>1</th>\n",
       "      <td>10</td>\n",
       "      <td>15</td>\n",
       "      <td>1</td>\n",
       "      <td>53298</td>\n",
       "      <td>2</td>\n",
       "      <td>669652944</td>\n",
       "      <td>True</td>\n",
       "      <td>9999.00</td>\n",
       "      <td>True</td>\n",
       "      <td>[2]</td>\n",
       "    </tr>\n",
       "    <tr>\n",
       "      <th>2</th>\n",
       "      <td>10</td>\n",
       "      <td>15</td>\n",
       "      <td>1</td>\n",
       "      <td>53298</td>\n",
       "      <td>1</td>\n",
       "      <td>669652944</td>\n",
       "      <td>False</td>\n",
       "      <td>1.26</td>\n",
       "      <td>0</td>\n",
       "      <td>[6]</td>\n",
       "    </tr>\n",
       "    <tr>\n",
       "      <th>3</th>\n",
       "      <td>10</td>\n",
       "      <td>15</td>\n",
       "      <td>1</td>\n",
       "      <td>53298</td>\n",
       "      <td>1</td>\n",
       "      <td>669652944</td>\n",
       "      <td>True</td>\n",
       "      <td>9999.00</td>\n",
       "      <td>True</td>\n",
       "      <td>[6]</td>\n",
       "    </tr>\n",
       "    <tr>\n",
       "      <th>4</th>\n",
       "      <td>10</td>\n",
       "      <td>15</td>\n",
       "      <td>1</td>\n",
       "      <td>53298</td>\n",
       "      <td>2</td>\n",
       "      <td>535214420</td>\n",
       "      <td>False</td>\n",
       "      <td>1.26</td>\n",
       "      <td>0</td>\n",
       "      <td>[2]</td>\n",
       "    </tr>\n",
       "    <tr>\n",
       "      <th>5</th>\n",
       "      <td>10</td>\n",
       "      <td>15</td>\n",
       "      <td>1</td>\n",
       "      <td>53298</td>\n",
       "      <td>2</td>\n",
       "      <td>535214420</td>\n",
       "      <td>True</td>\n",
       "      <td>9999.00</td>\n",
       "      <td>True</td>\n",
       "      <td>[2]</td>\n",
       "    </tr>\n",
       "    <tr>\n",
       "      <th>6</th>\n",
       "      <td>10</td>\n",
       "      <td>15</td>\n",
       "      <td>1</td>\n",
       "      <td>53298</td>\n",
       "      <td>1</td>\n",
       "      <td>535214420</td>\n",
       "      <td>False</td>\n",
       "      <td>1.26</td>\n",
       "      <td>0</td>\n",
       "      <td>[6]</td>\n",
       "    </tr>\n",
       "    <tr>\n",
       "      <th>7</th>\n",
       "      <td>10</td>\n",
       "      <td>15</td>\n",
       "      <td>1</td>\n",
       "      <td>53298</td>\n",
       "      <td>1</td>\n",
       "      <td>535214420</td>\n",
       "      <td>True</td>\n",
       "      <td>9999.00</td>\n",
       "      <td>True</td>\n",
       "      <td>[6]</td>\n",
       "    </tr>\n",
       "    <tr>\n",
       "      <th>8</th>\n",
       "      <td>10</td>\n",
       "      <td>15</td>\n",
       "      <td>1</td>\n",
       "      <td>53298</td>\n",
       "      <td>2</td>\n",
       "      <td>2037209175</td>\n",
       "      <td>False</td>\n",
       "      <td>1.26</td>\n",
       "      <td>0</td>\n",
       "      <td>[2]</td>\n",
       "    </tr>\n",
       "    <tr>\n",
       "      <th>9</th>\n",
       "      <td>10</td>\n",
       "      <td>15</td>\n",
       "      <td>1</td>\n",
       "      <td>53298</td>\n",
       "      <td>2</td>\n",
       "      <td>2037209175</td>\n",
       "      <td>True</td>\n",
       "      <td>9999.00</td>\n",
       "      <td>True</td>\n",
       "      <td>[2]</td>\n",
       "    </tr>\n",
       "  </tbody>\n",
       "</table>\n",
       "</div>"
      ],
      "text/plain": [
       "    m   n  c     r1  M          r2    mdf     fobj niter  scc\n",
       "0  10  15  1  53298  2   669652944  False     1.26   0.0  [2]\n",
       "1  10  15  1  53298  2   669652944   True  9999.00  True  [2]\n",
       "2  10  15  1  53298  1   669652944  False     1.26     0  [6]\n",
       "3  10  15  1  53298  1   669652944   True  9999.00  True  [6]\n",
       "4  10  15  1  53298  2   535214420  False     1.26     0  [2]\n",
       "5  10  15  1  53298  2   535214420   True  9999.00  True  [2]\n",
       "6  10  15  1  53298  1   535214420  False     1.26     0  [6]\n",
       "7  10  15  1  53298  1   535214420   True  9999.00  True  [6]\n",
       "8  10  15  1  53298  2  2037209175  False     1.26     0  [2]\n",
       "9  10  15  1  53298  2  2037209175   True  9999.00  True  [2]"
      ]
     },
     "execution_count": 24,
     "metadata": {},
     "output_type": "execute_result"
    }
   ],
   "source": [
    "df.iloc[0:10]"
   ]
  },
  {
   "cell_type": "code",
   "execution_count": 31,
   "id": "d8104fee-f00d-4ffa-8855-63a0db4f676c",
   "metadata": {
    "execution": {
     "iopub.execute_input": "2022-05-04T03:58:27.564821Z",
     "iopub.status.busy": "2022-05-04T03:58:27.564821Z",
     "iopub.status.idle": "2022-05-04T03:58:27.586347Z",
     "shell.execute_reply": "2022-05-04T03:58:27.585932Z",
     "shell.execute_reply.started": "2022-05-04T03:58:27.564821Z"
    },
    "tags": []
   },
   "outputs": [
    {
     "data": {
      "text/plain": [
       "10"
      ]
     },
     "execution_count": 31,
     "metadata": {},
     "output_type": "execute_result"
    }
   ],
   "source": [
    "sum(df[(df[\"M\"]==1) & (df[\"r1\"]==53298) & (df[\"mdf\"]==True)]['niter']>=0.1)"
   ]
  },
  {
   "cell_type": "code",
   "execution_count": 34,
   "id": "85513750-293a-4aee-96c8-62dfa994e7c7",
   "metadata": {
    "execution": {
     "iopub.execute_input": "2022-05-04T03:59:29.646304Z",
     "iopub.status.busy": "2022-05-04T03:59:29.646304Z",
     "iopub.status.idle": "2022-05-04T03:59:29.666268Z",
     "shell.execute_reply": "2022-05-04T03:59:29.666268Z",
     "shell.execute_reply.started": "2022-05-04T03:59:29.646304Z"
    }
   },
   "outputs": [
    {
     "data": {
      "text/plain": [
       "defaultdict(list,\n",
       "            {(10, 15, 1): [55746,\n",
       "              41743,\n",
       "              33497,\n",
       "              17680,\n",
       "              20173,\n",
       "              2685,\n",
       "              4930,\n",
       "              1083,\n",
       "              11486,\n",
       "              53298]})"
      ]
     },
     "execution_count": 34,
     "metadata": {},
     "output_type": "execute_result"
    }
   ],
   "source": [
    "randstruct"
   ]
  },
  {
   "cell_type": "code",
   "execution_count": 61,
   "id": "2b37818f-4a4f-46d5-bc03-03e92d82f039",
   "metadata": {
    "execution": {
     "iopub.execute_input": "2022-05-04T12:50:42.376617Z",
     "iopub.status.busy": "2022-05-04T12:50:42.376617Z",
     "iopub.status.idle": "2022-05-04T12:50:42.399847Z",
     "shell.execute_reply": "2022-05-04T12:50:42.399847Z",
     "shell.execute_reply.started": "2022-05-04T12:50:42.376617Z"
    },
    "tags": []
   },
   "outputs": [
    {
     "data": {
      "text/html": [
       "<div>\n",
       "<style scoped>\n",
       "    .dataframe tbody tr th:only-of-type {\n",
       "        vertical-align: middle;\n",
       "    }\n",
       "\n",
       "    .dataframe tbody tr th {\n",
       "        vertical-align: top;\n",
       "    }\n",
       "\n",
       "    .dataframe thead th {\n",
       "        text-align: right;\n",
       "    }\n",
       "</style>\n",
       "<table border=\"1\" class=\"dataframe\">\n",
       "  <thead>\n",
       "    <tr style=\"text-align: right;\">\n",
       "      <th></th>\n",
       "      <th>m</th>\n",
       "      <th>n</th>\n",
       "      <th>c</th>\n",
       "      <th>r1</th>\n",
       "      <th>M</th>\n",
       "      <th>r2</th>\n",
       "      <th>mdf</th>\n",
       "      <th>fobj</th>\n",
       "      <th>niter</th>\n",
       "      <th>scc</th>\n",
       "    </tr>\n",
       "  </thead>\n",
       "  <tbody>\n",
       "    <tr>\n",
       "      <th>201</th>\n",
       "      <td>10</td>\n",
       "      <td>15</td>\n",
       "      <td>1</td>\n",
       "      <td>20173</td>\n",
       "      <td>2</td>\n",
       "      <td>2082898964</td>\n",
       "      <td>True</td>\n",
       "      <td>0.0</td>\n",
       "      <td>15</td>\n",
       "      <td>[2]</td>\n",
       "    </tr>\n",
       "    <tr>\n",
       "      <th>205</th>\n",
       "      <td>10</td>\n",
       "      <td>15</td>\n",
       "      <td>1</td>\n",
       "      <td>20173</td>\n",
       "      <td>2</td>\n",
       "      <td>692725761</td>\n",
       "      <td>True</td>\n",
       "      <td>0.0</td>\n",
       "      <td>21</td>\n",
       "      <td>[2]</td>\n",
       "    </tr>\n",
       "    <tr>\n",
       "      <th>209</th>\n",
       "      <td>10</td>\n",
       "      <td>15</td>\n",
       "      <td>1</td>\n",
       "      <td>20173</td>\n",
       "      <td>2</td>\n",
       "      <td>344997561</td>\n",
       "      <td>True</td>\n",
       "      <td>9999.0</td>\n",
       "      <td>True</td>\n",
       "      <td>[2]</td>\n",
       "    </tr>\n",
       "    <tr>\n",
       "      <th>213</th>\n",
       "      <td>10</td>\n",
       "      <td>15</td>\n",
       "      <td>1</td>\n",
       "      <td>20173</td>\n",
       "      <td>2</td>\n",
       "      <td>1558804748</td>\n",
       "      <td>True</td>\n",
       "      <td>0.0</td>\n",
       "      <td>804</td>\n",
       "      <td>[2]</td>\n",
       "    </tr>\n",
       "    <tr>\n",
       "      <th>217</th>\n",
       "      <td>10</td>\n",
       "      <td>15</td>\n",
       "      <td>1</td>\n",
       "      <td>20173</td>\n",
       "      <td>2</td>\n",
       "      <td>594619332</td>\n",
       "      <td>True</td>\n",
       "      <td>0.0</td>\n",
       "      <td>7</td>\n",
       "      <td>[2]</td>\n",
       "    </tr>\n",
       "    <tr>\n",
       "      <th>221</th>\n",
       "      <td>10</td>\n",
       "      <td>15</td>\n",
       "      <td>1</td>\n",
       "      <td>20173</td>\n",
       "      <td>2</td>\n",
       "      <td>1986274268</td>\n",
       "      <td>True</td>\n",
       "      <td>0.0</td>\n",
       "      <td>725</td>\n",
       "      <td>[2]</td>\n",
       "    </tr>\n",
       "    <tr>\n",
       "      <th>225</th>\n",
       "      <td>10</td>\n",
       "      <td>15</td>\n",
       "      <td>1</td>\n",
       "      <td>20173</td>\n",
       "      <td>2</td>\n",
       "      <td>1162275822</td>\n",
       "      <td>True</td>\n",
       "      <td>0.0</td>\n",
       "      <td>804</td>\n",
       "      <td>[2]</td>\n",
       "    </tr>\n",
       "    <tr>\n",
       "      <th>229</th>\n",
       "      <td>10</td>\n",
       "      <td>15</td>\n",
       "      <td>1</td>\n",
       "      <td>20173</td>\n",
       "      <td>2</td>\n",
       "      <td>629526661</td>\n",
       "      <td>True</td>\n",
       "      <td>0.0</td>\n",
       "      <td>475</td>\n",
       "      <td>[2]</td>\n",
       "    </tr>\n",
       "    <tr>\n",
       "      <th>233</th>\n",
       "      <td>10</td>\n",
       "      <td>15</td>\n",
       "      <td>1</td>\n",
       "      <td>20173</td>\n",
       "      <td>2</td>\n",
       "      <td>1556474546</td>\n",
       "      <td>True</td>\n",
       "      <td>0.0</td>\n",
       "      <td>15</td>\n",
       "      <td>[2]</td>\n",
       "    </tr>\n",
       "    <tr>\n",
       "      <th>237</th>\n",
       "      <td>10</td>\n",
       "      <td>15</td>\n",
       "      <td>1</td>\n",
       "      <td>20173</td>\n",
       "      <td>2</td>\n",
       "      <td>197792239</td>\n",
       "      <td>True</td>\n",
       "      <td>0.0</td>\n",
       "      <td>217</td>\n",
       "      <td>[2]</td>\n",
       "    </tr>\n",
       "  </tbody>\n",
       "</table>\n",
       "</div>"
      ],
      "text/plain": [
       "      m   n  c     r1  M          r2   mdf    fobj niter  scc\n",
       "201  10  15  1  20173  2  2082898964  True     0.0    15  [2]\n",
       "205  10  15  1  20173  2   692725761  True     0.0    21  [2]\n",
       "209  10  15  1  20173  2   344997561  True  9999.0  True  [2]\n",
       "213  10  15  1  20173  2  1558804748  True     0.0   804  [2]\n",
       "217  10  15  1  20173  2   594619332  True     0.0     7  [2]\n",
       "221  10  15  1  20173  2  1986274268  True     0.0   725  [2]\n",
       "225  10  15  1  20173  2  1162275822  True     0.0   804  [2]\n",
       "229  10  15  1  20173  2   629526661  True     0.0   475  [2]\n",
       "233  10  15  1  20173  2  1556474546  True     0.0    15  [2]\n",
       "237  10  15  1  20173  2   197792239  True     0.0   217  [2]"
      ]
     },
     "execution_count": 61,
     "metadata": {},
     "output_type": "execute_result"
    }
   ],
   "source": [
    "df[(df[\"M\"]==2) & (df[\"r1\"]==20173)& (df[\"mdf\"]==True)]"
   ]
  },
  {
   "cell_type": "code",
   "execution_count": 50,
   "id": "01d8f50e-3617-4268-bbf0-90ff831a95a5",
   "metadata": {
    "execution": {
     "iopub.execute_input": "2022-05-04T04:12:24.803296Z",
     "iopub.status.busy": "2022-05-04T04:12:24.803296Z",
     "iopub.status.idle": "2022-05-04T04:12:24.823461Z",
     "shell.execute_reply": "2022-05-04T04:12:24.822550Z",
     "shell.execute_reply.started": "2022-05-04T04:12:24.803296Z"
    }
   },
   "outputs": [
    {
     "data": {
      "text/html": [
       "<div>\n",
       "<style scoped>\n",
       "    .dataframe tbody tr th:only-of-type {\n",
       "        vertical-align: middle;\n",
       "    }\n",
       "\n",
       "    .dataframe tbody tr th {\n",
       "        vertical-align: top;\n",
       "    }\n",
       "\n",
       "    .dataframe thead th {\n",
       "        text-align: right;\n",
       "    }\n",
       "</style>\n",
       "<table border=\"1\" class=\"dataframe\">\n",
       "  <thead>\n",
       "    <tr style=\"text-align: right;\">\n",
       "      <th></th>\n",
       "      <th>m</th>\n",
       "      <th>n</th>\n",
       "      <th>c</th>\n",
       "      <th>r1</th>\n",
       "      <th>M</th>\n",
       "      <th>r2</th>\n",
       "      <th>mdf</th>\n",
       "      <th>fobj</th>\n",
       "      <th>niter</th>\n",
       "      <th>scc</th>\n",
       "    </tr>\n",
       "  </thead>\n",
       "  <tbody>\n",
       "    <tr>\n",
       "      <th>0</th>\n",
       "      <td>10</td>\n",
       "      <td>15</td>\n",
       "      <td>1</td>\n",
       "      <td>53298</td>\n",
       "      <td>2</td>\n",
       "      <td>669652944</td>\n",
       "      <td>False</td>\n",
       "      <td>0.0</td>\n",
       "      <td>0.0</td>\n",
       "      <td>[2]</td>\n",
       "    </tr>\n",
       "    <tr>\n",
       "      <th>1</th>\n",
       "      <td>10</td>\n",
       "      <td>15</td>\n",
       "      <td>1</td>\n",
       "      <td>53298</td>\n",
       "      <td>2</td>\n",
       "      <td>669652944</td>\n",
       "      <td>True</td>\n",
       "      <td>0.0</td>\n",
       "      <td>804.0</td>\n",
       "      <td>[2]</td>\n",
       "    </tr>\n",
       "    <tr>\n",
       "      <th>2</th>\n",
       "      <td>10</td>\n",
       "      <td>15</td>\n",
       "      <td>1</td>\n",
       "      <td>53298</td>\n",
       "      <td>1</td>\n",
       "      <td>669652944</td>\n",
       "      <td>False</td>\n",
       "      <td>0.0</td>\n",
       "      <td>0.0</td>\n",
       "      <td>[6]</td>\n",
       "    </tr>\n",
       "    <tr>\n",
       "      <th>3</th>\n",
       "      <td>10</td>\n",
       "      <td>15</td>\n",
       "      <td>1</td>\n",
       "      <td>53298</td>\n",
       "      <td>1</td>\n",
       "      <td>669652944</td>\n",
       "      <td>True</td>\n",
       "      <td>9999.0</td>\n",
       "      <td>True</td>\n",
       "      <td>[6]</td>\n",
       "    </tr>\n",
       "    <tr>\n",
       "      <th>4</th>\n",
       "      <td>10</td>\n",
       "      <td>15</td>\n",
       "      <td>1</td>\n",
       "      <td>53298</td>\n",
       "      <td>2</td>\n",
       "      <td>535214420</td>\n",
       "      <td>False</td>\n",
       "      <td>0.0</td>\n",
       "      <td>0</td>\n",
       "      <td>[2]</td>\n",
       "    </tr>\n",
       "    <tr>\n",
       "      <th>...</th>\n",
       "      <td>...</td>\n",
       "      <td>...</td>\n",
       "      <td>...</td>\n",
       "      <td>...</td>\n",
       "      <td>...</td>\n",
       "      <td>...</td>\n",
       "      <td>...</td>\n",
       "      <td>...</td>\n",
       "      <td>...</td>\n",
       "      <td>...</td>\n",
       "    </tr>\n",
       "    <tr>\n",
       "      <th>395</th>\n",
       "      <td>10</td>\n",
       "      <td>15</td>\n",
       "      <td>1</td>\n",
       "      <td>55746</td>\n",
       "      <td>1</td>\n",
       "      <td>1094134074</td>\n",
       "      <td>True</td>\n",
       "      <td>0.0</td>\n",
       "      <td>264</td>\n",
       "      <td>[9]</td>\n",
       "    </tr>\n",
       "    <tr>\n",
       "      <th>396</th>\n",
       "      <td>10</td>\n",
       "      <td>15</td>\n",
       "      <td>1</td>\n",
       "      <td>55746</td>\n",
       "      <td>2</td>\n",
       "      <td>1248920238</td>\n",
       "      <td>False</td>\n",
       "      <td>0.0</td>\n",
       "      <td>0</td>\n",
       "      <td>[]</td>\n",
       "    </tr>\n",
       "    <tr>\n",
       "      <th>397</th>\n",
       "      <td>10</td>\n",
       "      <td>15</td>\n",
       "      <td>1</td>\n",
       "      <td>55746</td>\n",
       "      <td>2</td>\n",
       "      <td>1248920238</td>\n",
       "      <td>True</td>\n",
       "      <td>0.0</td>\n",
       "      <td>0</td>\n",
       "      <td>[]</td>\n",
       "    </tr>\n",
       "    <tr>\n",
       "      <th>398</th>\n",
       "      <td>10</td>\n",
       "      <td>15</td>\n",
       "      <td>1</td>\n",
       "      <td>55746</td>\n",
       "      <td>1</td>\n",
       "      <td>1248920238</td>\n",
       "      <td>False</td>\n",
       "      <td>0.0</td>\n",
       "      <td>0</td>\n",
       "      <td>[9]</td>\n",
       "    </tr>\n",
       "    <tr>\n",
       "      <th>399</th>\n",
       "      <td>10</td>\n",
       "      <td>15</td>\n",
       "      <td>1</td>\n",
       "      <td>55746</td>\n",
       "      <td>1</td>\n",
       "      <td>1248920238</td>\n",
       "      <td>True</td>\n",
       "      <td>0.0</td>\n",
       "      <td>404</td>\n",
       "      <td>[9]</td>\n",
       "    </tr>\n",
       "  </tbody>\n",
       "</table>\n",
       "<p>400 rows × 10 columns</p>\n",
       "</div>"
      ],
      "text/plain": [
       "      m   n  c     r1  M          r2    mdf    fobj  niter  scc\n",
       "0    10  15  1  53298  2   669652944  False     0.0    0.0  [2]\n",
       "1    10  15  1  53298  2   669652944   True     0.0  804.0  [2]\n",
       "2    10  15  1  53298  1   669652944  False     0.0    0.0  [6]\n",
       "3    10  15  1  53298  1   669652944   True  9999.0   True  [6]\n",
       "4    10  15  1  53298  2   535214420  False     0.0      0  [2]\n",
       "..   ..  .. ..    ... ..         ...    ...     ...    ...  ...\n",
       "395  10  15  1  55746  1  1094134074   True     0.0    264  [9]\n",
       "396  10  15  1  55746  2  1248920238  False     0.0      0   []\n",
       "397  10  15  1  55746  2  1248920238   True     0.0      0   []\n",
       "398  10  15  1  55746  1  1248920238  False     0.0      0  [9]\n",
       "399  10  15  1  55746  1  1248920238   True     0.0    404  [9]\n",
       "\n",
       "[400 rows x 10 columns]"
      ]
     },
     "execution_count": 50,
     "metadata": {},
     "output_type": "execute_result"
    }
   ],
   "source": [
    "df"
   ]
  },
  {
   "cell_type": "code",
   "execution_count": 44,
   "id": "9e90dff1-b58b-426a-9296-97614a65a8a0",
   "metadata": {
    "execution": {
     "iopub.execute_input": "2022-05-04T04:03:29.243970Z",
     "iopub.status.busy": "2022-05-04T04:03:29.243970Z",
     "iopub.status.idle": "2022-05-04T04:03:29.560693Z",
     "shell.execute_reply": "2022-05-04T04:03:29.560693Z",
     "shell.execute_reply.started": "2022-05-04T04:03:29.243970Z"
    },
    "tags": []
   },
   "outputs": [],
   "source": [
    "elt = df.iloc[10]\n",
    "kwargs = {key:var for key,var in elt.items() if key not in ['fobj', 'niter', 'scc']}\n",
    "inputids, var_mapping, edges, tree, components = get_mdaoprobargs(outsets, eqvs, **kwargs)"
   ]
  },
  {
   "cell_type": "code",
   "execution_count": 45,
   "id": "ac2dcb10-8459-407b-a345-7e9bed6d2ba3",
   "metadata": {
    "execution": {
     "iopub.execute_input": "2022-05-04T04:03:32.289239Z",
     "iopub.status.busy": "2022-05-04T04:03:32.288739Z",
     "iopub.status.idle": "2022-05-04T04:03:32.307240Z",
     "shell.execute_reply": "2022-05-04T04:03:32.306337Z",
     "shell.execute_reply.started": "2022-05-04T04:03:32.289239Z"
    }
   },
   "outputs": [
    {
     "data": {
      "text/plain": [
       "[((11, 0), 0, (None,), '-0.1*x_0*x_11 + 0.3'),\n",
       " ((3, 14, 8, 5, 10), 1, (None,), '-0.6*x_10*x_3*x_5 - 0.4*x_14*x_8 - 0.4'),\n",
       " ((2, 6), 2, (None,), '-0.9*x_2*x_6 + 0.2'),\n",
       " ((11, 13, 4, 12), 3, (None,), '-0.2*x_11*x_13 - 0.5*x_12*x_4 - 0.3'),\n",
       " ((11, 0, 12), 4, (None,), '0.3*x_0*x_11*x_12 + 0.8'),\n",
       " ((11, 7, 8, 13), 5, (None,), '0.7*x_11*x_13*x_8 - 0.1*x_7 - 0.2'),\n",
       " ((3, 4), 6, (None,), '-0.4*x_3*x_4 - 0.9'),\n",
       " ((0, 4, 7, 8, 10), 7, (None,), '0.4*x_0*x_10*x_8 - 0.2*x_4*x_7 + 0.8'),\n",
       " ((7, 9), 8, (None,), '0.9*x_7*x_9 - 0.9'),\n",
       " ((11, 0, 4, 12), 9, (None,), '-0.5*x_0*x_12 + 0.3*x_11*x_4 - 0.6'),\n",
       " ((0,), 0, (11,), '3.0/x_0'),\n",
       " ((3, 8, 5, 10), 1, (14,), '-(1.5*x_10*x_3*x_5 + 1.0)/x_8'),\n",
       " ((2,), 2, (6,), '0.222222222222222/x_2'),\n",
       " ((11, 4, 12), 3, (13,), '-(2.5*x_12*x_4 + 1.5)/x_11'),\n",
       " ((11, 12), 4, (0,), '-2.66666666666667/(x_11*x_12)'),\n",
       " ((11, 8, 13), 5, (7,), '7.0*x_11*x_13*x_8 - 2.0'),\n",
       " ((4,), 6, (3,), '-2.25/x_4'),\n",
       " ((7, 8, 10, 0), 7, (4,), '(2.0*x_0*x_10*x_8 + 4.0)/x_7'),\n",
       " ((7,), 8, (9,), '1/x_7'),\n",
       " ((11, 0, 4), 9, (12,), '(0.6*x_11*x_4 - 1.2)/x_0')]"
      ]
     },
     "execution_count": 45,
     "metadata": {},
     "output_type": "execute_result"
    }
   ],
   "source": [
    "components"
   ]
  },
  {
   "cell_type": "code",
   "execution_count": 95,
   "id": "c2fcaed5-4b04-4dc8-b178-7b7ff764cd78",
   "metadata": {
    "execution": {
     "iopub.execute_input": "2022-05-04T02:57:38.553523Z",
     "iopub.status.busy": "2022-05-04T02:57:38.553523Z",
     "iopub.status.idle": "2022-05-04T02:57:38.792939Z",
     "shell.execute_reply": "2022-05-04T02:57:38.792939Z",
     "shell.execute_reply.started": "2022-05-04T02:57:38.553523Z"
    },
    "tags": []
   },
   "outputs": [],
   "source": [
    "inputids, var_mapping, edges, tree, components = generate_prob(outsets, eqvs, **df.iloc[10])\n",
    "prob,formulation = generate_mdao_prob(inputids, var_mapping, edges, tree, components)"
   ]
  },
  {
   "cell_type": "code",
   "execution_count": 96,
   "id": "9e259927-8237-422a-9d3d-9d1a26f8cc67",
   "metadata": {
    "execution": {
     "iopub.execute_input": "2022-05-04T02:57:38.948535Z",
     "iopub.status.busy": "2022-05-04T02:57:38.948535Z",
     "iopub.status.idle": "2022-05-04T02:57:38.966524Z",
     "shell.execute_reply": "2022-05-04T02:57:38.966524Z",
     "shell.execute_reply.started": "2022-05-04T02:57:38.948535Z"
    },
    "tags": []
   },
   "outputs": [
    {
     "data": {
      "text/plain": [
       "(OrderedDict([(3, 2), (1, 2), ('obj', 1), (0, 1), (2, 1), (4, 1)]),\n",
       " {2: 1},\n",
       " {8: 1, 1: 1, 3: 1, 6: 1, 7: 2, 5: 2})"
      ]
     },
     "execution_count": 96,
     "metadata": {},
     "output_type": "execute_result"
    }
   ],
   "source": [
    "formulation[1]"
   ]
  },
  {
   "cell_type": "code",
   "execution_count": 97,
   "id": "db92bf21-1d4a-4741-956f-4beedf3be990",
   "metadata": {
    "execution": {
     "iopub.execute_input": "2022-05-04T02:57:40.770993Z",
     "iopub.status.busy": "2022-05-04T02:57:40.770495Z",
     "iopub.status.idle": "2022-05-04T02:57:40.783490Z",
     "shell.execute_reply": "2022-05-04T02:57:40.782495Z",
     "shell.execute_reply.started": "2022-05-04T02:57:40.770993Z"
    },
    "tags": []
   },
   "outputs": [],
   "source": [
    "#prob.set_solver_print(-1)"
   ]
  },
  {
   "cell_type": "code",
   "execution_count": 98,
   "id": "ec50e80d-e7c7-4af9-836b-c717d6950db2",
   "metadata": {
    "execution": {
     "iopub.execute_input": "2022-05-04T02:57:41.104218Z",
     "iopub.status.busy": "2022-05-04T02:57:41.104218Z",
     "iopub.status.idle": "2022-05-04T02:57:41.234326Z",
     "shell.execute_reply": "2022-05-04T02:57:41.234146Z",
     "shell.execute_reply.started": "2022-05-04T02:57:41.104218Z"
    },
    "tags": []
   },
   "outputs": [
    {
     "name": "stdout",
     "output_type": "stream",
     "text": [
      "\n",
      "=======\n",
      "s_1.s_2\n",
      "=======\n",
      "NL: Newton Converged in 7 iterations\n",
      "\n",
      "=======\n",
      "s_1.s_2\n",
      "=======\n",
      "NL: Newton Converged in 1 iterations\n",
      "\n",
      "=======\n",
      "s_1.s_2\n",
      "=======\n",
      "NL: Newton Converged in 5 iterations\n",
      "\n",
      "=======\n",
      "s_1.s_2\n",
      "=======\n",
      "NL: Newton Converged in 4 iterations\n"
     ]
    }
   ],
   "source": [
    "prob.run_driver();"
   ]
  },
  {
   "cell_type": "code",
   "execution_count": 99,
   "id": "a6635c43-731d-4faa-aa1a-8e49f43c0bdf",
   "metadata": {
    "execution": {
     "iopub.execute_input": "2022-05-04T02:57:46.190360Z",
     "iopub.status.busy": "2022-05-04T02:57:46.190360Z",
     "iopub.status.idle": "2022-05-04T02:57:46.205936Z",
     "shell.execute_reply": "2022-05-04T02:57:46.205463Z",
     "shell.execute_reply.started": "2022-05-04T02:57:46.190360Z"
    },
    "tags": []
   },
   "outputs": [],
   "source": [
    "#prob.model.s_1.s_2.iter_count_apply"
   ]
  },
  {
   "cell_type": "code",
   "execution_count": 100,
   "id": "15261ec0-6f03-47da-9f14-bed4711620e9",
   "metadata": {
    "execution": {
     "iopub.execute_input": "2022-05-04T02:57:46.325167Z",
     "iopub.status.busy": "2022-05-04T02:57:46.325167Z",
     "iopub.status.idle": "2022-05-04T02:57:46.344233Z",
     "shell.execute_reply": "2022-05-04T02:57:46.344233Z",
     "shell.execute_reply.started": "2022-05-04T02:57:46.325167Z"
    },
    "tags": []
   },
   "outputs": [
    {
     "data": {
      "text/plain": [
       "array([0.])"
      ]
     },
     "execution_count": 100,
     "metadata": {},
     "output_type": "execute_result"
    }
   ],
   "source": [
    "prob.driver.result.fun"
   ]
  },
  {
   "cell_type": "code",
   "execution_count": 212,
   "id": "1ad6b9d2-e415-485a-a22d-8a5522cb805b",
   "metadata": {
    "execution": {
     "iopub.execute_input": "2022-05-04T02:13:05.203311Z",
     "iopub.status.busy": "2022-05-04T02:13:05.203311Z",
     "iopub.status.idle": "2022-05-04T02:13:05.213255Z",
     "shell.execute_reply": "2022-05-04T02:13:05.213090Z",
     "shell.execute_reply.started": "2022-05-04T02:13:05.203311Z"
    },
    "tags": []
   },
   "outputs": [],
   "source": [
    "components, newidx = add_obj(inputids, var_mapping, edges, tree, components)\n",
    "solvers_options = {1: {'type': OPT}, 2:{'maxiter':100}}\n",
    "comp_options = {newidx:OBJ}\n",
    "var_options = {}\n",
    "nodetyperepr = {VAR: 'x{}', COMP: 'f_{}', SOLVER: 's_{}'}\n",
    "#prob, mdao_in, groups = nestedform_to_mdao(edges, tree, components, solvers_options, comp_options, var_options, nodetyperepr, mdf=True)"
   ]
  },
  {
   "cell_type": "code",
   "execution_count": 171,
   "id": "3c5f74a4-db13-4f90-b29e-7de46a83b1ec",
   "metadata": {
    "execution": {
     "iopub.execute_input": "2022-05-04T02:07:48.510491Z",
     "iopub.status.busy": "2022-05-04T02:07:48.509991Z",
     "iopub.status.idle": "2022-05-04T02:07:48.528487Z",
     "shell.execute_reply": "2022-05-04T02:07:48.528487Z",
     "shell.execute_reply.started": "2022-05-04T02:07:48.510491Z"
    },
    "tags": []
   },
   "outputs": [
    {
     "data": {
      "text/plain": [
       "[((1, 5, 0, 6, 2), 0, (None,), '0.4*x_0*x_2*x_6 - 0.5*x_1*x_5 + 0.1'),\n",
       " ((8, 5), 1, (None,), '0.6*x_5*x_8 + 0.5'),\n",
       " ((8, 6, 5, 0), 2, (None,), '0.3*x_0*x_6 + 0.8*x_5*x_8 - 0.2'),\n",
       " ((6, 4), 3, (None,), '-0.2*x_4*x_6 - 0.3'),\n",
       " ((1, 2), 4, (None,), '1.0*x_1*x_2 + 0.4'),\n",
       " ((5, 1, 2, 0), 0, (6,), '(1.25*x_1*x_5 - 0.25)/(x_0*x_2)'),\n",
       " ((5,), 1, (8,), '-0.833333333333333/x_5'),\n",
       " ((8, 6, 5), 2, (0,), '(-2.66666666666667*x_5*x_8 + 0.666666666666667)/x_6'),\n",
       " ((6,), 3, (4,), '-1.5/x_6'),\n",
       " ((1,), 4, (2,), '-0.4/x_1'),\n",
       " ((1, 5), 'obj', (None,), '(x_1 - 1)**2 + (x_5 - 1)**2')]"
      ]
     },
     "execution_count": 171,
     "metadata": {},
     "output_type": "execute_result"
    }
   ],
   "source": [
    "components"
   ]
  },
  {
   "cell_type": "code",
   "execution_count": 57,
   "id": "71da62ae-83c0-425a-86e2-92695205dc17",
   "metadata": {
    "execution": {
     "iopub.execute_input": "2022-05-04T01:44:25.387325Z",
     "iopub.status.busy": "2022-05-04T01:44:25.387325Z",
     "iopub.status.idle": "2022-05-04T01:44:25.404424Z",
     "shell.execute_reply": "2022-05-04T01:44:25.404424Z",
     "shell.execute_reply.started": "2022-05-04T01:44:25.387325Z"
    },
    "tags": []
   },
   "outputs": [],
   "source": [
    "eqv = eqvs[(5,10,1,5546)]"
   ]
  },
  {
   "cell_type": "code",
   "execution_count": 58,
   "id": "2f03c673-a520-4289-ae76-7c6e7f0a4ac6",
   "metadata": {
    "execution": {
     "iopub.execute_input": "2022-05-04T01:44:26.892184Z",
     "iopub.status.busy": "2022-05-04T01:44:26.891181Z",
     "iopub.status.idle": "2022-05-04T01:44:26.911238Z",
     "shell.execute_reply": "2022-05-04T01:44:26.910240Z",
     "shell.execute_reply.started": "2022-05-04T01:44:26.891181Z"
    },
    "tags": []
   },
   "outputs": [
    {
     "data": {
      "text/plain": [
       "{0: (6, 12, 13, 7), 1: (6, 10, 8), 2: (9, 13, 14, 5), 3: (6, 9, 13), 4: (12,)}"
      ]
     },
     "execution_count": 58,
     "metadata": {},
     "output_type": "execute_result"
    }
   ],
   "source": [
    "eqv"
   ]
  },
  {
   "cell_type": "code",
   "execution_count": 59,
   "id": "b6a56081-6af4-4085-a5f4-de504c95c715",
   "metadata": {
    "execution": {
     "iopub.execute_input": "2022-05-04T01:44:32.137152Z",
     "iopub.status.busy": "2022-05-04T01:44:32.136153Z",
     "iopub.status.idle": "2022-05-04T01:44:32.149191Z",
     "shell.execute_reply": "2022-05-04T01:44:32.149191Z",
     "shell.execute_reply.started": "2022-05-04T01:44:32.137152Z"
    },
    "tags": []
   },
   "outputs": [],
   "source": [
    "outset = outsets[(5,10,1,5546,2)]"
   ]
  },
  {
   "cell_type": "code",
   "execution_count": 60,
   "id": "cd10b1a2-a090-47ea-85d0-bae5b4e58907",
   "metadata": {
    "execution": {
     "iopub.execute_input": "2022-05-04T01:44:32.947866Z",
     "iopub.status.busy": "2022-05-04T01:44:32.947866Z",
     "iopub.status.idle": "2022-05-04T01:44:32.959361Z",
     "shell.execute_reply": "2022-05-04T01:44:32.958859Z",
     "shell.execute_reply.started": "2022-05-04T01:44:32.947866Z"
    },
    "tags": []
   },
   "outputs": [
    {
     "data": {
      "text/plain": [
       "{0: 2, 1: 3, 2: 0, 3: 8, 4: 7}"
      ]
     },
     "execution_count": 60,
     "metadata": {},
     "output_type": "execute_result"
    }
   ],
   "source": [
    "outset"
   ]
  },
  {
   "cell_type": "code",
   "execution_count": 56,
   "id": "d379c49a-c783-4e9d-8e00-4dae13702af8",
   "metadata": {
    "execution": {
     "iopub.execute_input": "2022-05-04T01:44:18.738248Z",
     "iopub.status.busy": "2022-05-04T01:44:18.737248Z",
     "iopub.status.idle": "2022-05-04T01:44:18.754334Z",
     "shell.execute_reply": "2022-05-04T01:44:18.754334Z",
     "shell.execute_reply.started": "2022-05-04T01:44:18.738248Z"
    },
    "tags": []
   },
   "outputs": [
    {
     "data": {
      "text/html": [
       "<div>\n",
       "<style scoped>\n",
       "    .dataframe tbody tr th:only-of-type {\n",
       "        vertical-align: middle;\n",
       "    }\n",
       "\n",
       "    .dataframe tbody tr th {\n",
       "        vertical-align: top;\n",
       "    }\n",
       "\n",
       "    .dataframe thead th {\n",
       "        text-align: right;\n",
       "    }\n",
       "</style>\n",
       "<table border=\"1\" class=\"dataframe\">\n",
       "  <thead>\n",
       "    <tr style=\"text-align: right;\">\n",
       "      <th></th>\n",
       "      <th>m</th>\n",
       "      <th>n</th>\n",
       "      <th>c</th>\n",
       "      <th>r1</th>\n",
       "      <th>M</th>\n",
       "      <th>r2</th>\n",
       "      <th>mdf</th>\n",
       "    </tr>\n",
       "  </thead>\n",
       "  <tbody>\n",
       "    <tr>\n",
       "      <th>0</th>\n",
       "      <td>5</td>\n",
       "      <td>10</td>\n",
       "      <td>1</td>\n",
       "      <td>5546</td>\n",
       "      <td>2</td>\n",
       "      <td>74845286</td>\n",
       "      <td>False</td>\n",
       "    </tr>\n",
       "    <tr>\n",
       "      <th>1</th>\n",
       "      <td>5</td>\n",
       "      <td>10</td>\n",
       "      <td>1</td>\n",
       "      <td>5546</td>\n",
       "      <td>2</td>\n",
       "      <td>74845286</td>\n",
       "      <td>True</td>\n",
       "    </tr>\n",
       "  </tbody>\n",
       "</table>\n",
       "</div>"
      ],
      "text/plain": [
       "   m   n  c    r1  M        r2    mdf\n",
       "0  5  10  1  5546  2  74845286  False\n",
       "1  5  10  1  5546  2  74845286   True"
      ]
     },
     "execution_count": 56,
     "metadata": {},
     "output_type": "execute_result"
    }
   ],
   "source": [
    "args=df.iloc[0:2]\n",
    "args"
   ]
  },
  {
   "cell_type": "markdown",
   "id": "bf515917-5f68-4534-8e4f-9f6edcae6ccd",
   "metadata": {},
   "source": [
    "# -----"
   ]
  },
  {
   "cell_type": "code",
   "execution_count": null,
   "id": "26a2ecef-a2dc-4eed-83c4-a62610c8f65d",
   "metadata": {},
   "outputs": [],
   "source": [
    "def run_incidence_case(eqv, output_set, n_eqs, inputids):\n",
    "    polynomials, var_mapping, edges, tree, components = generate_random_polynomials(eqv, output_set, n_eqs)\n",
    "    optimal_formulation(eqv, output_set)\n",
    "    generate_mdao_prob(inputids, var_mapping, edges, tree, components):"
   ]
  },
  {
   "cell_type": "code",
   "execution_count": 143,
   "id": "8176c24b-bab6-4db7-b15d-fe3eb2ab5f7d",
   "metadata": {
    "execution": {
     "iopub.execute_input": "2022-05-03T02:21:44.559042Z",
     "iopub.status.busy": "2022-05-03T02:21:44.559042Z",
     "iopub.status.idle": "2022-05-03T02:21:44.573976Z",
     "shell.execute_reply": "2022-05-03T02:21:44.572975Z",
     "shell.execute_reply.started": "2022-05-03T02:21:44.559042Z"
    },
    "tags": []
   },
   "outputs": [],
   "source": [
    "_, edges_original = bipartite_repr(eqv)\n",
    "eqs=direct_eqs(eqv, output_set)\n",
    "avrs = getallvars(eqs, sympy=False)\n",
    "eqns = eqs.keys()\n",
    "graph_edges = invert_edges(edges_original)"
   ]
  },
  {
   "cell_type": "code",
   "execution_count": 144,
   "id": "349307b2-1bc9-4ca4-9113-cd2475802646",
   "metadata": {
    "execution": {
     "iopub.execute_input": "2022-05-03T02:21:44.637196Z",
     "iopub.status.busy": "2022-05-03T02:21:44.637196Z",
     "iopub.status.idle": "2022-05-03T02:21:44.684245Z",
     "shell.execute_reply": "2022-05-03T02:21:44.683278Z",
     "shell.execute_reply.started": "2022-05-03T02:21:44.637196Z"
    },
    "tags": []
   },
   "outputs": [],
   "source": [
    "maxl, m = min_max_scc(graph_edges, avrs, eqns, len(eqns))"
   ]
  },
  {
   "cell_type": "code",
   "execution_count": 145,
   "id": "901a1049-c54b-45a5-8caa-722e3464e1bc",
   "metadata": {
    "execution": {
     "iopub.execute_input": "2022-05-03T02:21:44.792643Z",
     "iopub.status.busy": "2022-05-03T02:21:44.792643Z",
     "iopub.status.idle": "2022-05-03T02:21:44.809644Z",
     "shell.execute_reply": "2022-05-03T02:21:44.808717Z",
     "shell.execute_reply.started": "2022-05-03T02:21:44.792643Z"
    },
    "tags": []
   },
   "outputs": [
    {
     "data": {
      "text/plain": [
       "3.0"
      ]
     },
     "execution_count": 145,
     "metadata": {},
     "output_type": "execute_result"
    }
   ],
   "source": [
    "maxl"
   ]
  },
  {
   "cell_type": "code",
   "execution_count": 146,
   "id": "4decc64b-a05a-44d6-8968-01ae3ad305ff",
   "metadata": {
    "execution": {
     "iopub.execute_input": "2022-05-03T02:21:46.432629Z",
     "iopub.status.busy": "2022-05-03T02:21:46.432629Z",
     "iopub.status.idle": "2022-05-03T02:21:46.449894Z",
     "shell.execute_reply": "2022-05-03T02:21:46.448967Z",
     "shell.execute_reply.started": "2022-05-03T02:21:46.432629Z"
    },
    "tags": []
   },
   "outputs": [],
   "source": [
    "output_set2 = dict(outset_from_solution(m))"
   ]
  },
  {
   "cell_type": "code",
   "execution_count": 147,
   "id": "3dbe3845-9f95-43ba-a9df-da42a8e95a11",
   "metadata": {
    "execution": {
     "iopub.execute_input": "2022-05-03T02:21:46.878849Z",
     "iopub.status.busy": "2022-05-03T02:21:46.877851Z",
     "iopub.status.idle": "2022-05-03T02:21:46.887364Z",
     "shell.execute_reply": "2022-05-03T02:21:46.887364Z",
     "shell.execute_reply.started": "2022-05-03T02:21:46.878849Z"
    },
    "tags": []
   },
   "outputs": [],
   "source": [
    "output_set2 = {key:var-n_eqs for key,var in output_set2.items()}"
   ]
  },
  {
   "cell_type": "code",
   "execution_count": 148,
   "id": "b7e89dc3-5a05-4f1d-8bdc-494b7b8814eb",
   "metadata": {
    "execution": {
     "iopub.execute_input": "2022-05-03T02:21:47.091428Z",
     "iopub.status.busy": "2022-05-03T02:21:47.091428Z",
     "iopub.status.idle": "2022-05-03T02:21:47.418179Z",
     "shell.execute_reply": "2022-05-03T02:21:47.418179Z",
     "shell.execute_reply.started": "2022-05-03T02:21:47.091428Z"
    },
    "tags": []
   },
   "outputs": [],
   "source": [
    "components2 = directed_poly_executables(var_mapping, polynomials, output_set2)"
   ]
  },
  {
   "cell_type": "code",
   "execution_count": 149,
   "id": "4a7f628e-de15-4385-be2f-bd424d8cc389",
   "metadata": {
    "execution": {
     "iopub.execute_input": "2022-05-03T02:21:47.519270Z",
     "iopub.status.busy": "2022-05-03T02:21:47.519270Z",
     "iopub.status.idle": "2022-05-03T02:21:47.529267Z",
     "shell.execute_reply": "2022-05-03T02:21:47.528268Z",
     "shell.execute_reply.started": "2022-05-03T02:21:47.519270Z"
    },
    "tags": []
   },
   "outputs": [],
   "source": [
    "edges2, tree2 = eqv_to_edges_tree(eqv, output_set2, n_eqs)"
   ]
  },
  {
   "cell_type": "code",
   "execution_count": 150,
   "id": "f012d553-c63f-48d4-a209-b70fd27e4bed",
   "metadata": {
    "execution": {
     "iopub.execute_input": "2022-05-03T02:21:47.817269Z",
     "iopub.status.busy": "2022-05-03T02:21:47.817269Z",
     "iopub.status.idle": "2022-05-03T02:21:47.837682Z",
     "shell.execute_reply": "2022-05-03T02:21:47.836680Z",
     "shell.execute_reply.started": "2022-05-03T02:21:47.817269Z"
    },
    "tags": []
   },
   "outputs": [
    {
     "data": {
      "text/plain": [
       "{0, 1, 6, 8, 9}"
      ]
     },
     "execution_count": 150,
     "metadata": {},
     "output_type": "execute_result"
    }
   ],
   "source": [
    "sources(*edges_to_Ein_Eout(edges2))"
   ]
  },
  {
   "cell_type": "code",
   "execution_count": 151,
   "id": "4190ac06-6afe-4d7e-b01b-57a4b1ad4d94",
   "metadata": {
    "execution": {
     "iopub.execute_input": "2022-05-03T02:21:48.426112Z",
     "iopub.status.busy": "2022-05-03T02:21:48.426112Z",
     "iopub.status.idle": "2022-05-03T02:21:48.445214Z",
     "shell.execute_reply": "2022-05-03T02:21:48.445214Z",
     "shell.execute_reply.started": "2022-05-03T02:21:48.426112Z"
    },
    "tags": []
   },
   "outputs": [],
   "source": [
    "inputids = sources(*edges_to_Ein_Eout(edges2))"
   ]
  },
  {
   "cell_type": "code",
   "execution_count": 153,
   "id": "90797960-ebef-4643-94a5-82eb5fadc692",
   "metadata": {
    "execution": {
     "iopub.execute_input": "2022-05-03T02:21:49.272985Z",
     "iopub.status.busy": "2022-05-03T02:21:49.272985Z",
     "iopub.status.idle": "2022-05-03T02:21:49.286330Z",
     "shell.execute_reply": "2022-05-03T02:21:49.285711Z",
     "shell.execute_reply.started": "2022-05-03T02:21:49.272985Z"
    },
    "tags": []
   },
   "outputs": [],
   "source": [
    "components1 = add_obj(inputids, var_mapping, edges, tree, components)"
   ]
  },
  {
   "cell_type": "code",
   "execution_count": 154,
   "id": "effa4f96-3a56-44e4-9af5-b60ea5f11637",
   "metadata": {
    "execution": {
     "iopub.execute_input": "2022-05-03T02:21:49.536878Z",
     "iopub.status.busy": "2022-05-03T02:21:49.536878Z",
     "iopub.status.idle": "2022-05-03T02:21:49.551771Z",
     "shell.execute_reply": "2022-05-03T02:21:49.551266Z",
     "shell.execute_reply.started": "2022-05-03T02:21:49.536878Z"
    },
    "tags": []
   },
   "outputs": [],
   "source": [
    "dv = nested_sources(edges, tree, 1)\n",
    "for elt in dv:\n",
    "    tree[2][elt] = 1"
   ]
  },
  {
   "cell_type": "code",
   "execution_count": 155,
   "id": "426d5139-c30b-4b6d-916a-24d1da529e3e",
   "metadata": {
    "execution": {
     "iopub.execute_input": "2022-05-03T02:21:49.774453Z",
     "iopub.status.busy": "2022-05-03T02:21:49.774453Z",
     "iopub.status.idle": "2022-05-03T02:21:49.784172Z",
     "shell.execute_reply": "2022-05-03T02:21:49.784172Z",
     "shell.execute_reply.started": "2022-05-03T02:21:49.774453Z"
    },
    "tags": []
   },
   "outputs": [],
   "source": [
    "components22 = add_obj(inputids, var_mapping, edges2, tree2, components2)"
   ]
  },
  {
   "cell_type": "code",
   "execution_count": 156,
   "id": "7b9aab8d-707e-447e-9318-060773ba5a3f",
   "metadata": {
    "execution": {
     "iopub.execute_input": "2022-05-03T02:21:50.225797Z",
     "iopub.status.busy": "2022-05-03T02:21:50.225797Z",
     "iopub.status.idle": "2022-05-03T02:21:50.237706Z",
     "shell.execute_reply": "2022-05-03T02:21:50.236827Z",
     "shell.execute_reply.started": "2022-05-03T02:21:50.225797Z"
    },
    "tags": []
   },
   "outputs": [],
   "source": [
    "dv = nested_sources(edges2, tree2, 1)\n",
    "for elt in dv:\n",
    "    tree2[2][elt] = 1"
   ]
  },
  {
   "cell_type": "code",
   "execution_count": 157,
   "id": "84ed5745-dc3f-4ead-b7a3-331ae64160f9",
   "metadata": {
    "execution": {
     "iopub.execute_input": "2022-05-03T02:21:50.681687Z",
     "iopub.status.busy": "2022-05-03T02:21:50.680687Z",
     "iopub.status.idle": "2022-05-03T02:21:50.689681Z",
     "shell.execute_reply": "2022-05-03T02:21:50.689681Z",
     "shell.execute_reply.started": "2022-05-03T02:21:50.681687Z"
    },
    "tags": []
   },
   "outputs": [
    {
     "data": {
      "text/plain": [
       "{0, 1, 6, 8, 9}"
      ]
     },
     "execution_count": 157,
     "metadata": {},
     "output_type": "execute_result"
    }
   ],
   "source": [
    "dv"
   ]
  },
  {
   "cell_type": "code",
   "execution_count": 158,
   "id": "7233a71a-9b61-4ebf-aa35-25c062eb33e3",
   "metadata": {
    "execution": {
     "iopub.execute_input": "2022-05-03T02:21:53.144582Z",
     "iopub.status.busy": "2022-05-03T02:21:53.143586Z",
     "iopub.status.idle": "2022-05-03T02:21:53.150390Z",
     "shell.execute_reply": "2022-05-03T02:21:53.149573Z",
     "shell.execute_reply.started": "2022-05-03T02:21:53.144582Z"
    },
    "tags": []
   },
   "outputs": [],
   "source": [
    "# from graphutils import flat_graph_formulation, root_solver\n",
    "# from operators import sort_scc, reorder_merge_solve\n",
    "# from workflow import order_from_tree, mdao_workflow, default_solver_options\n",
    "# G = flat_graph_formulation(*edges)\n",
    "# merge_order = sort_scc(G)\n",
    "# merge_parent = root_solver(tree) # all merged components will have this solver as the parent\n",
    "# ordered_edges, ordered_tree = reorder_merge_solve(edges, tree, merge_order, merge_parent, False)\n",
    "# sequence = order_from_tree(ordered_tree[0], ordered_tree[1], ordered_edges[1])\n",
    "# solvers_options = default_solver_options(ordered_tree, solvers_options)\n",
    "# wf = mdao_workflow(sequence, solvers_options, comp_options, var_options)"
   ]
  },
  {
   "cell_type": "code",
   "execution_count": 159,
   "id": "709ec0af-b84f-416b-89b3-6a41c7c88e81",
   "metadata": {
    "execution": {
     "iopub.execute_input": "2022-05-03T02:21:53.498442Z",
     "iopub.status.busy": "2022-05-03T02:21:53.498442Z",
     "iopub.status.idle": "2022-05-03T02:21:53.511640Z",
     "shell.execute_reply": "2022-05-03T02:21:53.510718Z",
     "shell.execute_reply.started": "2022-05-03T02:21:53.498442Z"
    },
    "tags": []
   },
   "outputs": [],
   "source": [
    "solvers_options = {1: {'type': OPT}, 2:{'maxiter':100}}\n",
    "comp_options = {newidx:OBJ}\n",
    "var_options = {}"
   ]
  },
  {
   "cell_type": "code",
   "execution_count": 164,
   "id": "aedf37cd-1bff-4d32-8675-50e1ce17310a",
   "metadata": {
    "execution": {
     "iopub.execute_input": "2022-05-03T02:22:17.057450Z",
     "iopub.status.busy": "2022-05-03T02:22:17.056949Z",
     "iopub.status.idle": "2022-05-03T02:22:17.067947Z",
     "shell.execute_reply": "2022-05-03T02:22:17.067446Z",
     "shell.execute_reply.started": "2022-05-03T02:22:17.057450Z"
    },
    "tags": []
   },
   "outputs": [],
   "source": [
    "nodetyperepr = {VAR: 'x{}', COMP: 'f_{}', SOLVER: 's_{}'}\n",
    "prob, mdao_in, groups = nestedform_to_mdao(edges2, tree2, components22, solvers_options, comp_options, var_options, nodetyperepr, mdf=True)"
   ]
  },
  {
   "cell_type": "code",
   "execution_count": 165,
   "id": "96d90bde-9aa7-4d0e-83c8-ea6f529bb1a9",
   "metadata": {
    "execution": {
     "iopub.execute_input": "2022-05-03T02:22:17.877154Z",
     "iopub.status.busy": "2022-05-03T02:22:17.877154Z",
     "iopub.status.idle": "2022-05-03T02:22:17.924235Z",
     "shell.execute_reply": "2022-05-03T02:22:17.923235Z",
     "shell.execute_reply.started": "2022-05-03T02:22:17.877154Z"
    },
    "tags": []
   },
   "outputs": [
    {
     "data": {
      "text/html": [
       "\n",
       "        <iframe\n",
       "            width=\"100%\"\n",
       "            height=\"700\"\n",
       "            src=\"n2.html\"\n",
       "            frameborder=\"0\"\n",
       "            allowfullscreen\n",
       "            \n",
       "        ></iframe>\n",
       "        "
      ],
      "text/plain": [
       "<IPython.lib.display.IFrame at 0x1d95c1feca0>"
      ]
     },
     "metadata": {},
     "output_type": "display_data"
    }
   ],
   "source": [
    "om.n2(prob.model)"
   ]
  },
  {
   "cell_type": "code",
   "execution_count": 166,
   "id": "4ec3b47f-41a4-4a9b-9e7b-c2e311c33545",
   "metadata": {
    "execution": {
     "iopub.execute_input": "2022-05-03T02:22:20.385011Z",
     "iopub.status.busy": "2022-05-03T02:22:20.385011Z",
     "iopub.status.idle": "2022-05-03T02:22:20.405091Z",
     "shell.execute_reply": "2022-05-03T02:22:20.404067Z",
     "shell.execute_reply.started": "2022-05-03T02:22:20.385011Z"
    },
    "tags": []
   },
   "outputs": [],
   "source": [
    "for elt in mdao_in:\n",
    "    prob.set_val(elt, 0.1)"
   ]
  },
  {
   "cell_type": "code",
   "execution_count": 167,
   "id": "a46e297f-3298-4a4d-ace1-686b303083a8",
   "metadata": {
    "execution": {
     "iopub.execute_input": "2022-05-03T02:22:21.172493Z",
     "iopub.status.busy": "2022-05-03T02:22:21.172493Z",
     "iopub.status.idle": "2022-05-03T02:22:21.215839Z",
     "shell.execute_reply": "2022-05-03T02:22:21.215839Z",
     "shell.execute_reply.started": "2022-05-03T02:22:21.172493Z"
    },
    "tags": []
   },
   "outputs": [
    {
     "name": "stdout",
     "output_type": "stream",
     "text": [
      "\n",
      "=======\n",
      "s_1.s_2\n",
      "=======\n",
      "NL: Newton Converged in 1 iterations\n",
      "\n",
      "=======\n",
      "s_1.s_2\n",
      "=======\n",
      "NL: Newton Converged in 0 iterations\n",
      "\n",
      "=======\n",
      "s_1.s_2\n",
      "=======\n",
      "NL: Newton Converged in 1 iterations\n",
      "\n",
      "=======\n",
      "s_1.s_2\n",
      "=======\n",
      "NL: Newton Converged in 1 iterations\n",
      "Optimization terminated successfully    (Exit mode 0)\n",
      "            Current function value: [0.]\n",
      "            Iterations: 2\n",
      "            Function evaluations: 3\n",
      "            Gradient evaluations: 2\n",
      "Optimization Complete\n",
      "-----------------------------------\n"
     ]
    }
   ],
   "source": [
    "prob.run_driver();"
   ]
  },
  {
   "cell_type": "code",
   "execution_count": null,
   "id": "61eb45ef-599d-4e83-8400-21078e3a8b05",
   "metadata": {},
   "outputs": [],
   "source": []
  },
  {
   "cell_type": "code",
   "execution_count": 27,
   "id": "73391b04-6b8a-4468-a43e-fc3fd496f3aa",
   "metadata": {
    "execution": {
     "iopub.execute_input": "2022-05-03T01:20:19.449552Z",
     "iopub.status.busy": "2022-05-03T01:20:19.449552Z",
     "iopub.status.idle": "2022-05-03T01:20:19.456829Z",
     "shell.execute_reply": "2022-05-03T01:20:19.456550Z",
     "shell.execute_reply.started": "2022-05-03T01:20:19.449552Z"
    },
    "tags": []
   },
   "outputs": [
    {
     "name": "stdout",
     "output_type": "stream",
     "text": [
      "11 Explicit Output(s) in 'model'\n",
      "\n",
      "varname   val          \n",
      "--------  -------------\n",
      "inp\n",
      "  x3      [1.]         \n",
      "  x5      [1.]         \n",
      "  x6      [1.]         \n",
      "  x7      [1.]         \n",
      "  x9      [1.]         \n",
      "s_1\n",
      "  f_2\n",
      "    x2    [-0.33333333]\n",
      "  f_5\n",
      "    obj5  [0.]         \n",
      "  f_1\n",
      "    x4    [-1.66666667]\n",
      "  f_3\n",
      "    x0    [1.26666667] \n",
      "  f_0\n",
      "    x8    [-0.24444444]\n",
      "  f_4\n",
      "    x1    [7.07792208] \n",
      "\n",
      "\n",
      "0 Implicit Output(s) in 'model'\n",
      "\n",
      "\n"
     ]
    }
   ],
   "source": [
    "prob.model.list_outputs();"
   ]
  },
  {
   "cell_type": "code",
   "execution_count": 39,
   "id": "76762be6-1616-4c76-980c-d7cca373163b",
   "metadata": {
    "execution": {
     "iopub.execute_input": "2022-05-02T19:26:51.281793Z",
     "iopub.status.busy": "2022-05-02T19:26:51.280795Z",
     "iopub.status.idle": "2022-05-02T19:26:51.301894Z",
     "shell.execute_reply": "2022-05-02T19:26:51.301894Z",
     "shell.execute_reply.started": "2022-05-02T19:26:51.281793Z"
    },
    "tags": []
   },
   "outputs": [
    {
     "data": {
      "text/plain": [
       "[{f_0}, {f_3}, {f_1}, {f_2, f_4}]"
      ]
     },
     "execution_count": 39,
     "metadata": {},
     "output_type": "execute_result"
    }
   ],
   "source": [
    "merge_order"
   ]
  },
  {
   "cell_type": "code",
   "execution_count": 42,
   "id": "81a6ee94-748f-4a5c-9f24-a830998090ce",
   "metadata": {
    "execution": {
     "iopub.execute_input": "2022-05-02T19:27:42.498991Z",
     "iopub.status.busy": "2022-05-02T19:27:42.498470Z",
     "iopub.status.idle": "2022-05-02T19:27:42.513991Z",
     "shell.execute_reply": "2022-05-02T19:27:42.513490Z",
     "shell.execute_reply.started": "2022-05-02T19:27:42.498991Z"
    }
   },
   "outputs": [
    {
     "data": {
      "text/plain": [
       "{1, 4, 5, 6}"
      ]
     },
     "execution_count": 42,
     "metadata": {},
     "output_type": "execute_result"
    }
   ],
   "source": [
    "sources(*edges_to_Ein_Eout(edges))"
   ]
  },
  {
   "cell_type": "code",
   "execution_count": 10,
   "id": "46601f42-0c02-4d77-9927-5bcdd8cf93a3",
   "metadata": {
    "execution": {
     "iopub.execute_input": "2022-05-02T19:16:28.528612Z",
     "iopub.status.busy": "2022-05-02T19:16:28.528612Z",
     "iopub.status.idle": "2022-05-02T19:16:28.536689Z",
     "shell.execute_reply": "2022-05-02T19:16:28.535726Z",
     "shell.execute_reply.started": "2022-05-02T19:16:28.528612Z"
    },
    "tags": []
   },
   "outputs": [
    {
     "data": {
      "text/plain": [
       "{0: 9, 1: 6, 2: 10, 3: 13, 4: 12}"
      ]
     },
     "execution_count": 10,
     "metadata": {},
     "output_type": "execute_result"
    }
   ],
   "source": [
    "output_set2"
   ]
  },
  {
   "cell_type": "code",
   "execution_count": 27,
   "id": "e1a640d9-0119-4079-b756-362423d07870",
   "metadata": {
    "execution": {
     "iopub.execute_input": "2022-05-02T19:23:32.128908Z",
     "iopub.status.busy": "2022-05-02T19:23:32.127910Z",
     "iopub.status.idle": "2022-05-02T19:23:32.145957Z",
     "shell.execute_reply": "2022-05-02T19:23:32.145957Z",
     "shell.execute_reply.started": "2022-05-02T19:23:32.128908Z"
    },
    "tags": []
   },
   "outputs": [
    {
     "data": {
      "text/plain": [
       "2.0"
      ]
     },
     "execution_count": 27,
     "metadata": {},
     "output_type": "execute_result"
    }
   ],
   "source": [
    "maxl"
   ]
  },
  {
   "cell_type": "code",
   "execution_count": 26,
   "id": "9e202716-b222-4667-807b-16a7392df10c",
   "metadata": {
    "execution": {
     "iopub.execute_input": "2022-05-02T19:22:16.738601Z",
     "iopub.status.busy": "2022-05-02T19:22:16.738601Z",
     "iopub.status.idle": "2022-05-02T19:22:17.213017Z",
     "shell.execute_reply": "2022-05-02T19:22:17.212017Z",
     "shell.execute_reply.started": "2022-05-02T19:22:16.738601Z"
    },
    "tags": []
   },
   "outputs": [
    {
     "data": {
      "image/png": "[encoded data removed]",
      "text/plain": [
       "<Figure size 432x432 with 1 Axes>"
      ]
     },
     "metadata": {},
     "output_type": "display_data"
    }
   ],
   "source": [
    "from graphutils import flat_graph_formulation, draw_graph_graphical_props\n",
    "G = flat_graph_formulation(*edges2, nodetyperepr=default_nodetyperepr)\n",
    "draw_graph_graphical_props(G, {}, prog='neato', figsize=(6,6))"
   ]
  },
  {
   "cell_type": "code",
   "execution_count": 16,
   "id": "a6909dfb-e4d4-489c-b9f1-6aa555cfcaf8",
   "metadata": {
    "execution": {
     "iopub.execute_input": "2022-05-02T18:45:50.087738Z",
     "iopub.status.busy": "2022-05-02T18:45:50.087738Z",
     "iopub.status.idle": "2022-05-02T18:45:50.093836Z",
     "shell.execute_reply": "2022-05-02T18:45:50.093836Z",
     "shell.execute_reply.started": "2022-05-02T18:45:50.087738Z"
    }
   },
   "outputs": [
    {
     "data": {
      "text/plain": [
       "{0: 0.6*x_1*x_3*x_4 + 0.4,\n",
       " 1: -0.5*x_0 + 0.9*x_1*x_3 + 0.3*x_2*x_4 + 0.9,\n",
       " 2: 0.4*x_0*x_2 - 0.3*x_1*x_3*x_4 + 0.5}"
      ]
     },
     "execution_count": 16,
     "metadata": {},
     "output_type": "execute_result"
    }
   ],
   "source": [
    "polynomials"
   ]
  },
  {
   "cell_type": "code",
   "execution_count": 11,
   "id": "059d5690-7ba2-417f-b80a-a18ce1ff844b",
   "metadata": {
    "execution": {
     "iopub.execute_input": "2022-05-02T18:44:05.682058Z",
     "iopub.status.busy": "2022-05-02T18:44:05.682058Z",
     "iopub.status.idle": "2022-05-02T18:44:05.689054Z",
     "shell.execute_reply": "2022-05-02T18:44:05.688057Z",
     "shell.execute_reply.started": "2022-05-02T18:44:05.682058Z"
    },
    "tags": []
   },
   "outputs": [],
   "source": [
    "output_set = {key:var-n_eqs for key,var in output_set.items()}\n",
    "edges, tree= eqv_to_edges_tree(eqv, output_set, n_eqs)"
   ]
  },
  {
   "cell_type": "code",
   "execution_count": 12,
   "id": "80915926-f38e-4977-aa85-9859cd817b74",
   "metadata": {
    "execution": {
     "iopub.execute_input": "2022-05-02T18:44:05.946951Z",
     "iopub.status.busy": "2022-05-02T18:44:05.946951Z",
     "iopub.status.idle": "2022-05-02T18:44:05.965874Z",
     "shell.execute_reply": "2022-05-02T18:44:05.964878Z",
     "shell.execute_reply.started": "2022-05-02T18:44:05.946951Z"
    },
    "tags": []
   },
   "outputs": [],
   "source": [
    "rng = np.random.default_rng(12345)"
   ]
  },
  {
   "cell_type": "code",
   "execution_count": 13,
   "id": "a53d950c-c6da-4b8e-9650-47b04c153136",
   "metadata": {
    "execution": {
     "iopub.execute_input": "2022-05-02T18:44:06.365424Z",
     "iopub.status.busy": "2022-05-02T18:44:06.365424Z",
     "iopub.status.idle": "2022-05-02T18:44:06.382846Z",
     "shell.execute_reply": "2022-05-02T18:44:06.381929Z",
     "shell.execute_reply.started": "2022-05-02T18:44:06.365424Z"
    },
    "tags": []
   },
   "outputs": [],
   "source": [
    "nodetyperepr = {VAR: '{}', COMP: 'f_{}', SOLVER: 's_{}'}\n",
    "solvers_options = {1: {'type': OPT}}\n",
    "comp_options = {3:OBJ, 4:NEQ, 5:NEQ}\n",
    "var_options = {}"
   ]
  },
  {
   "cell_type": "code",
   "execution_count": null,
   "id": "50b024da-f21b-4a6c-92fa-57f43416fee3",
   "metadata": {},
   "outputs": [],
   "source": [
    "prob, mdao_in, groups = nestedform_to_mdao(edges, tree, components, solvers_options, comp_options, var_options, nodetyperepr, mdf=True)"
   ]
  }
 ],
 "metadata": {
  "kernelspec": {
   "display_name": "Python 3.9.12 ('pyoptsparse': conda)",
   "language": "python",
   "name": "python3"
  },
  "language_info": {
   "codemirror_mode": {
    "name": "ipython",
    "version": 3
   },
   "file_extension": ".py",
   "mimetype": "text/x-python",
   "name": "python",
   "nbconvert_exporter": "python",
   "pygments_lexer": "ipython3",
   "version": "3.9.12"
  },
  "vscode": {
   "interpreter": {
    "hash": "ddbffdfc6e576b5d36b4191f1f51800df280a911e81ff2615f408143452d1a9a"
   }
  }
 },
 "nbformat": 4,
 "nbformat_minor": 5
}
