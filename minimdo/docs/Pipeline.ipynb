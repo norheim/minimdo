{
 "cells": [
  {
   "cell_type": "markdown",
   "id": "3d86c596-038e-40cd-88bf-cf02524b0103",
   "metadata": {},
   "source": [
    "### Starting model"
   ]
  },
  {
   "cell_type": "code",
   "execution_count": 1,
   "id": "1d2b75d9-ffb6-4f38-ac60-6db98c0836ae",
   "metadata": {
    "execution": {
     "iopub.execute_input": "2022-08-12T14:02:40.917032Z",
     "iopub.status.busy": "2022-08-12T14:02:40.917032Z",
     "iopub.status.idle": "2022-08-12T14:02:43.154885Z",
     "shell.execute_reply": "2022-08-12T14:02:43.154885Z",
     "shell.execute_reply.started": "2022-08-12T14:02:40.917032Z"
    },
    "tags": []
   },
   "outputs": [],
   "source": [
    "from modeling.compute import Var\n",
    "from modeling.gen3.nesting import Model, adda, addeq,addineq, addobj, setsolvefor, merge, OPT"
   ]
  },
  {
   "cell_type": "code",
   "execution_count": 2,
   "id": "871b4471-1811-47fc-a33a-353c304e0fad",
   "metadata": {
    "execution": {
     "iopub.execute_input": "2022-08-12T14:52:43.144793Z",
     "iopub.status.busy": "2022-08-12T14:52:43.143813Z",
     "iopub.status.idle": "2022-08-12T14:52:43.171749Z",
     "shell.execute_reply": "2022-08-12T14:52:43.171534Z",
     "shell.execute_reply.started": "2022-08-12T14:52:43.144793Z"
    },
    "tags": []
   },
   "outputs": [],
   "source": [
    "model = Model()\n",
    "m = model.root\n",
    "Pbus = Var('P_{bus}')\n",
    "A = Var('A', 0.5)\n",
    "Pcomms = adda(m, 'P_{comms}', 483.3*A-Pbus)\n",
    "adda(m, Pbus, 10*abs(Pcomms)**0.5)\n",
    "h = Var('h', 400e3)\n",
    "D = Var('D', 0.1)\n",
    "R = adda(m, 'R', Pcomms*D**2/h**2*1e18/(8e6))\n",
    "C = adda(m, 'C', 2.5*D**2+12*(A+1)+0.1*Pbus)"
   ]
  },
  {
   "cell_type": "markdown",
   "id": "7773abfb-8704-4328-8b3c-cffa4d3d8705",
   "metadata": {},
   "source": [
    "### Reduce size of problem through condensation strategy"
   ]
  },
  {
   "cell_type": "code",
   "execution_count": 3,
   "id": "ef1afa96-9995-45fa-b905-0c6a7cb77e11",
   "metadata": {
    "execution": {
     "iopub.execute_input": "2022-08-12T14:52:45.134006Z",
     "iopub.status.busy": "2022-08-12T14:52:45.134006Z",
     "iopub.status.idle": "2022-08-12T14:52:45.150764Z",
     "shell.execute_reply": "2022-08-12T14:52:45.149673Z",
     "shell.execute_reply.started": "2022-08-12T14:52:45.134006Z"
    },
    "tags": []
   },
   "outputs": [],
   "source": [
    "formulation = model.generate_formulation()"
   ]
  },
  {
   "cell_type": "code",
   "execution_count": 4,
   "id": "e4e9f8d2-6e3b-45f4-bb07-69c1d48a1501",
   "metadata": {
    "execution": {
     "iopub.execute_input": "2022-08-12T14:52:45.291329Z",
     "iopub.status.busy": "2022-08-12T14:52:45.290315Z",
     "iopub.status.idle": "2022-08-12T14:52:45.306670Z",
     "shell.execute_reply": "2022-08-12T14:52:45.305855Z",
     "shell.execute_reply.started": "2022-08-12T14:52:45.291329Z"
    },
    "tags": []
   },
   "outputs": [],
   "source": [
    "from graph.operators import reformulate\n",
    "from graph.matrixview import render_incidence"
   ]
  },
  {
   "cell_type": "code",
   "execution_count": 7,
   "id": "616294e5-a16e-41ca-a7c0-594a79e6a8ea",
   "metadata": {
    "execution": {
     "iopub.execute_input": "2022-08-12T14:52:45.537441Z",
     "iopub.status.busy": "2022-08-12T14:52:45.537441Z",
     "iopub.status.idle": "2022-08-12T14:52:45.682481Z",
     "shell.execute_reply": "2022-08-12T14:52:45.682481Z",
     "shell.execute_reply.started": "2022-08-12T14:52:45.537441Z"
    },
    "tags": []
   },
   "outputs": [
    {
     "data": {
      "image/png": "[encoded data removed]",
      "text/plain": [
       "<Figure size 300x300 with 1 Axes>"
      ]
     },
     "metadata": {},
     "output_type": "display_data"
    }
   ],
   "source": [
    "_,new_tree = reformulate(*formulation, root_solver_name=1)\n",
    "formulation_scc = formulation[0], new_tree\n",
    "render_incidence(*formulation_scc, rawvarname=True, figsize=((3,3)), rotation=60, hideticks=True, patchwidth=2, fontsize=14);"
   ]
  },
  {
   "cell_type": "markdown",
   "id": "07253bbd-b74e-42c1-9cf0-7c2a0d69f1d1",
   "metadata": {
    "tags": []
   },
   "source": [
    "### Transform components based on new formulation graph"
   ]
  },
  {
   "cell_type": "code",
   "execution_count": 8,
   "id": "38678f5f-6ba9-4cd2-b917-fabbfe9ba4fb",
   "metadata": {
    "execution": {
     "iopub.execute_input": "2022-08-12T14:52:46.365431Z",
     "iopub.status.busy": "2022-08-12T14:52:46.364445Z",
     "iopub.status.idle": "2022-08-12T14:52:46.383639Z",
     "shell.execute_reply": "2022-08-12T14:52:46.383474Z",
     "shell.execute_reply.started": "2022-08-12T14:52:46.365431Z"
    },
    "tags": []
   },
   "outputs": [],
   "source": [
    "from modeling.gen2.transformations import transform_components"
   ]
  },
  {
   "cell_type": "code",
   "execution_count": 60,
   "id": "090fed48-332e-4b30-b27e-bd54f99b6fba",
   "metadata": {
    "execution": {
     "iopub.execute_input": "2022-08-12T14:52:46.740567Z",
     "iopub.status.busy": "2022-08-12T14:52:46.739576Z",
     "iopub.status.idle": "2022-08-12T14:52:46.761012Z",
     "shell.execute_reply": "2022-08-12T14:52:46.760101Z",
     "shell.execute_reply.started": "2022-08-12T14:52:46.740567Z"
    },
    "tags": []
   },
   "outputs": [],
   "source": [
    "edges = formulation[0]\n",
    "new_edges = formulation_scc[0]\n",
    "new_comps = transform_components(edges, new_edges, model.components, model.idmapping)"
   ]
  },
  {
   "cell_type": "markdown",
   "id": "cf01c070-2aa5-478b-9305-2c5da25cc658",
   "metadata": {},
   "source": [
    "### Generate optimization problem"
   ]
  },
  {
   "cell_type": "code",
   "execution_count": 61,
   "id": "872dd4e6-feb7-48bf-9088-4677dfc117bf",
   "metadata": {
    "execution": {
     "iopub.execute_input": "2022-08-12T14:52:47.975927Z",
     "iopub.status.busy": "2022-08-12T14:52:47.975927Z",
     "iopub.status.idle": "2022-08-12T14:52:47.996244Z",
     "shell.execute_reply": "2022-08-12T14:52:47.995349Z",
     "shell.execute_reply.started": "2022-08-12T14:52:47.975927Z"
    },
    "tags": []
   },
   "outputs": [],
   "source": [
    "addobj(m, C)\n",
    "addeq(m, -R+1)\n",
    "setsolvefor(m, [D,A], {D:[0.5,10], A:[0.04,1]}) # we pick only optimize over a subset of the input variables "
   ]
  },
  {
   "cell_type": "code",
   "execution_count": 62,
   "id": "d6094d94-4dba-4b7a-9cb3-5be4eff06868",
   "metadata": {
    "execution": {
     "iopub.execute_input": "2022-08-12T14:52:48.287268Z",
     "iopub.status.busy": "2022-08-12T14:52:48.287268Z",
     "iopub.status.idle": "2022-08-12T14:52:48.291427Z",
     "shell.execute_reply": "2022-08-12T14:52:48.291267Z",
     "shell.execute_reply.started": "2022-08-12T14:52:48.287268Z"
    },
    "tags": []
   },
   "outputs": [],
   "source": [
    "# we need to merge the reformulation with the added information\n",
    "formulation_scc_opt = merge(model.generate_formulation(), *formulation_scc, copysolvers=False)"
   ]
  },
  {
   "cell_type": "code",
   "execution_count": 63,
   "id": "487a2e17-bdc3-47b3-9fc1-ddae427d476e",
   "metadata": {
    "execution": {
     "iopub.execute_input": "2022-08-12T14:52:48.809068Z",
     "iopub.status.busy": "2022-08-12T14:52:48.809068Z",
     "iopub.status.idle": "2022-08-12T14:52:48.959854Z",
     "shell.execute_reply": "2022-08-12T14:52:48.958963Z",
     "shell.execute_reply.started": "2022-08-12T14:52:48.809068Z"
    },
    "tags": []
   },
   "outputs": [
    {
     "data": {
      "image/png": "[encoded data removed]",
      "text/plain": [
       "<Figure size 288x288 with 1 Axes>"
      ]
     },
     "metadata": {
      "needs_background": "light"
     },
     "output_type": "display_data"
    }
   ],
   "source": [
    "render_incidence(*formulation_scc_opt, rawvarname=True, figsize=((4,4)), rotation=60, hideticks=True, patchwidth=4);"
   ]
  },
  {
   "cell_type": "markdown",
   "id": "ec39c7f2-da4f-4e55-a3eb-e8935dd4022f",
   "metadata": {},
   "source": [
    "# Generate workflow"
   ]
  },
  {
   "cell_type": "code",
   "execution_count": 64,
   "id": "821cc97a-270c-42f4-95e3-ce3b8cb79479",
   "metadata": {
    "execution": {
     "iopub.execute_input": "2022-08-12T14:52:49.476318Z",
     "iopub.status.busy": "2022-08-12T14:52:49.476318Z",
     "iopub.status.idle": "2022-08-12T14:52:49.487296Z",
     "shell.execute_reply": "2022-08-12T14:52:49.486607Z",
     "shell.execute_reply.started": "2022-08-12T14:52:49.476318Z"
    },
    "tags": []
   },
   "outputs": [],
   "source": [
    "comp_options = model.comp_options\n",
    "var_options = model.var_options\n",
    "solvers_options = model.solvers_options\n",
    "idmapping = model.idmapping\n",
    "nodetyperepr = model.nametyperepr\n",
    "components = model.components+new_comps"
   ]
  },
  {
   "cell_type": "code",
   "execution_count": 65,
   "id": "4cdfe1c8-6c05-45c7-985e-ed83ab5b6ae5",
   "metadata": {
    "execution": {
     "iopub.execute_input": "2022-08-12T14:52:49.876549Z",
     "iopub.status.busy": "2022-08-12T14:52:49.875550Z",
     "iopub.status.idle": "2022-08-12T14:52:49.892251Z",
     "shell.execute_reply": "2022-08-12T14:52:49.891335Z",
     "shell.execute_reply.started": "2022-08-12T14:52:49.876549Z"
    },
    "tags": []
   },
   "outputs": [],
   "source": [
    "solvers_options[1] = {'type': OPT, 'optimizer': 'SLSQP'}\n",
    "solvers_options[2] = {'solver': 'N', 'maxiter':20}"
   ]
  },
  {
   "cell_type": "markdown",
   "id": "4152eb10-c08b-42e4-84a0-89961d980037",
   "metadata": {},
   "source": [
    "### Workflow generation"
   ]
  },
  {
   "cell_type": "code",
   "execution_count": 66,
   "id": "cca14add-b9f9-4044-b701-d1f7fd54ee80",
   "metadata": {
    "execution": {
     "iopub.execute_input": "2022-08-12T14:52:50.321971Z",
     "iopub.status.busy": "2022-08-12T14:52:50.320982Z",
     "iopub.status.idle": "2022-08-12T14:52:50.329253Z",
     "shell.execute_reply": "2022-08-12T14:52:50.328958Z",
     "shell.execute_reply.started": "2022-08-12T14:52:50.321971Z"
    },
    "tags": []
   },
   "outputs": [],
   "source": [
    "from datastructures.workflow import order_from_tree"
   ]
  },
  {
   "cell_type": "code",
   "execution_count": 67,
   "id": "07a9b60b-d65e-4b8f-9c02-f00678b0acc1",
   "metadata": {
    "execution": {
     "iopub.execute_input": "2022-08-12T14:52:50.660572Z",
     "iopub.status.busy": "2022-08-12T14:52:50.660572Z",
     "iopub.status.idle": "2022-08-12T14:52:50.673148Z",
     "shell.execute_reply": "2022-08-12T14:52:50.672095Z",
     "shell.execute_reply.started": "2022-08-12T14:52:50.660572Z"
    },
    "tags": []
   },
   "outputs": [],
   "source": [
    "edges, tree = formulation_scc_opt\n",
    "sequence = order_from_tree(tree[0], tree[1], edges[1])"
   ]
  },
  {
   "cell_type": "code",
   "execution_count": 68,
   "id": "858c9720-7d10-4399-a6b7-f5b865dc7e44",
   "metadata": {
    "execution": {
     "iopub.execute_input": "2022-08-12T14:52:51.100662Z",
     "iopub.status.busy": "2022-08-12T14:52:51.100154Z",
     "iopub.status.idle": "2022-08-12T14:52:51.109062Z",
     "shell.execute_reply": "2022-08-12T14:52:51.108197Z",
     "shell.execute_reply.started": "2022-08-12T14:52:51.100662Z"
    },
    "tags": []
   },
   "outputs": [
    {
     "data": {
      "text/plain": [
       "[(SOLVER, 1, None),\n",
       " (SOLVER, 2, 1),\n",
       " (COMP, 0, 2),\n",
       " (COMP, 1, 2),\n",
       " (COMP, 3, 1),\n",
       " (COMP, 2, 1),\n",
       " (ENDCOMP, [4, 5], 1)]"
      ]
     },
     "execution_count": 68,
     "metadata": {},
     "output_type": "execute_result"
    }
   ],
   "source": [
    "sequence"
   ]
  },
  {
   "cell_type": "markdown",
   "id": "7c715e78-9d57-4e95-a8f3-fb114f4808dd",
   "metadata": {},
   "source": [
    "### Solver Options\n",
    "Populate the solvers with default values if not set, based on graph formulation"
   ]
  },
  {
   "cell_type": "code",
   "execution_count": 69,
   "id": "f401ca0f-7609-4071-a418-d2e52482ec70",
   "metadata": {
    "execution": {
     "iopub.execute_input": "2022-08-12T14:52:53.602324Z",
     "iopub.status.busy": "2022-08-12T14:52:53.602324Z",
     "iopub.status.idle": "2022-08-12T14:52:53.615322Z",
     "shell.execute_reply": "2022-08-12T14:52:53.615322Z",
     "shell.execute_reply.started": "2022-08-12T14:52:53.602324Z"
    },
    "tags": []
   },
   "outputs": [],
   "source": [
    "from datastructures.workflow import default_solver_options"
   ]
  },
  {
   "cell_type": "code",
   "execution_count": 70,
   "id": "7f786a4e-ad8b-474a-aa58-35fa20e88d66",
   "metadata": {
    "execution": {
     "iopub.execute_input": "2022-08-12T14:52:53.813234Z",
     "iopub.status.busy": "2022-08-12T14:52:53.812764Z",
     "iopub.status.idle": "2022-08-12T14:52:53.819684Z",
     "shell.execute_reply": "2022-08-12T14:52:53.819223Z",
     "shell.execute_reply.started": "2022-08-12T14:52:53.813234Z"
    },
    "tags": []
   },
   "outputs": [],
   "source": [
    "solvers_options = default_solver_options(tree, solvers_options)"
   ]
  },
  {
   "cell_type": "code",
   "execution_count": 71,
   "id": "2a1f6e89-a0e9-493e-affd-0a9839d405b0",
   "metadata": {
    "execution": {
     "iopub.execute_input": "2022-08-12T14:52:53.990788Z",
     "iopub.status.busy": "2022-08-12T14:52:53.990566Z",
     "iopub.status.idle": "2022-08-12T14:52:54.006859Z",
     "shell.execute_reply": "2022-08-12T14:52:54.005964Z",
     "shell.execute_reply.started": "2022-08-12T14:52:53.990788Z"
    },
    "tags": []
   },
   "outputs": [
    {
     "data": {
      "text/plain": [
       "{1: {'type': OPT, 'optimizer': 'SLSQP', 'designvars': ('D', 'A')},\n",
       " 2: {'solver': 'N',\n",
       "  'maxiter': 20,\n",
       "  'type': SOLVE,\n",
       "  'designvars': ('P_{comms}', 'P_{bus}')}}"
      ]
     },
     "execution_count": 71,
     "metadata": {},
     "output_type": "execute_result"
    }
   ],
   "source": [
    "solvers_options"
   ]
  },
  {
   "cell_type": "markdown",
   "id": "544d4e5e-503b-4f33-98de-404e71a7ffa3",
   "metadata": {},
   "source": [
    "### openMDAO specific workflow\n",
    "Based on solver options generate openMDAO specific workflow"
   ]
  },
  {
   "cell_type": "code",
   "execution_count": 72,
   "id": "bc871e3f-e812-4673-ba52-86efc0824176",
   "metadata": {
    "execution": {
     "iopub.execute_input": "2022-08-12T14:52:54.429818Z",
     "iopub.status.busy": "2022-08-12T14:52:54.429321Z",
     "iopub.status.idle": "2022-08-12T14:52:54.441777Z",
     "shell.execute_reply": "2022-08-12T14:52:54.441777Z",
     "shell.execute_reply.started": "2022-08-12T14:52:54.429818Z"
    },
    "tags": []
   },
   "outputs": [],
   "source": [
    "from datastructures.workflow import mdao_workflow"
   ]
  },
  {
   "cell_type": "code",
   "execution_count": 73,
   "id": "887aa543-0aab-4a6e-bdf6-07c1b9d56d86",
   "metadata": {
    "execution": {
     "iopub.execute_input": "2022-08-12T14:52:54.701291Z",
     "iopub.status.busy": "2022-08-12T14:52:54.700907Z",
     "iopub.status.idle": "2022-08-12T14:52:54.707791Z",
     "shell.execute_reply": "2022-08-12T14:52:54.706811Z",
     "shell.execute_reply.started": "2022-08-12T14:52:54.700907Z"
    },
    "tags": []
   },
   "outputs": [],
   "source": [
    "wf = mdao_workflow(sequence, solvers_options, comp_options, var_options)"
   ]
  },
  {
   "cell_type": "code",
   "execution_count": 74,
   "id": "9ac28936-3e85-4a5a-bc85-c5c5cbb5e41d",
   "metadata": {
    "execution": {
     "iopub.execute_input": "2022-08-12T14:52:54.960969Z",
     "iopub.status.busy": "2022-08-12T14:52:54.960969Z",
     "iopub.status.idle": "2022-08-12T14:52:54.975414Z",
     "shell.execute_reply": "2022-08-12T14:52:54.974414Z",
     "shell.execute_reply.started": "2022-08-12T14:52:54.960969Z"
    },
    "tags": []
   },
   "outputs": [
    {
     "data": {
      "text/plain": [
       "[(OPT,\n",
       "  1,\n",
       "  None,\n",
       "  {'optimizer': 'SLSQP', 'designvars': ('D', 'A')},\n",
       "  {'D': [0.5, 10], 'A': [0.04, 1]}),\n",
       " (SOLVE,\n",
       "  2,\n",
       "  1,\n",
       "  {'solver': 'N', 'maxiter': 20, 'designvars': ('P_{comms}', 'P_{bus}')},\n",
       "  {}),\n",
       " (EXPL, 0, 2),\n",
       " (EXPL, 1, 2),\n",
       " (EXPL, 3, 1),\n",
       " (EXPL, 2, 1),\n",
       " (OBJ, 4, 1),\n",
       " (EQ, 5, 1)]"
      ]
     },
     "execution_count": 74,
     "metadata": {},
     "output_type": "execute_result"
    }
   ],
   "source": [
    "wf"
   ]
  },
  {
   "cell_type": "markdown",
   "id": "77e6ca4b-10b3-48c2-a663-ff2f73b228d0",
   "metadata": {},
   "source": [
    "- OPT = specifies design variables to be declared in openMDAO\n",
    "- SOLVE = groups with nonlinear solvers in openMDAO\n",
    "- IMPL = implicit component in openMDAO\n",
    "- EXPL = explicit component in openMDAO\n",
    "- OBJ = objective function for optimization"
   ]
  },
  {
   "cell_type": "markdown",
   "id": "7ab8814f-b809-4224-a7a0-615480bc5950",
   "metadata": {},
   "source": [
    "### Detailed openMDAO workflow\n",
    "This contains the actual functions, and the explicit gradients that will be given to openMDAO"
   ]
  },
  {
   "cell_type": "code",
   "execution_count": 75,
   "id": "b100f081-dfcd-4df4-8f75-927d4c413f86",
   "metadata": {
    "execution": {
     "iopub.execute_input": "2022-08-12T14:52:57.629195Z",
     "iopub.status.busy": "2022-08-12T14:52:57.628696Z",
     "iopub.status.idle": "2022-08-12T14:52:57.642739Z",
     "shell.execute_reply": "2022-08-12T14:52:57.642191Z",
     "shell.execute_reply.started": "2022-08-12T14:52:57.629195Z"
    },
    "tags": []
   },
   "outputs": [],
   "source": [
    "from datastructures.workflow import get_f\n",
    "from datastructures.graphutils import namefromsympy\n",
    "from datastructures.workflow_mdao import mdao_workflow_with_args"
   ]
  },
  {
   "cell_type": "code",
   "execution_count": 76,
   "id": "7fc3590f-84b3-47bb-8376-901a59223609",
   "metadata": {
    "execution": {
     "iopub.execute_input": "2022-08-12T14:52:57.976696Z",
     "iopub.status.busy": "2022-08-12T14:52:57.976212Z",
     "iopub.status.idle": "2022-08-12T14:52:57.985699Z",
     "shell.execute_reply": "2022-08-12T14:52:57.984699Z",
     "shell.execute_reply.started": "2022-08-12T14:52:57.976696Z"
    },
    "tags": []
   },
   "outputs": [],
   "source": [
    "lookup_f = get_f(components, edges)\n",
    "namingfunc = namefromsympy(nodetyperepr)\n",
    "wfmdao = mdao_workflow_with_args(wf, lookup_f, namingfunc)"
   ]
  },
  {
   "cell_type": "code",
   "execution_count": 77,
   "id": "8c708be6-5ebe-4f70-8bda-e95aa4cf0611",
   "metadata": {
    "execution": {
     "iopub.execute_input": "2022-08-12T14:52:58.216514Z",
     "iopub.status.busy": "2022-08-12T14:52:58.216019Z",
     "iopub.status.idle": "2022-08-12T14:52:58.233095Z",
     "shell.execute_reply": "2022-08-12T14:52:58.232099Z",
     "shell.execute_reply.started": "2022-08-12T14:52:58.216514Z"
    },
    "tags": []
   },
   "outputs": [
    {
     "data": {
      "text/plain": [
       "[(OPT,\n",
       "  None,\n",
       "  's1',\n",
       "  ('D', 'A'),\n",
       "  {'optimizer': 'SLSQP'},\n",
       "  {'D': [0.5, 10], 'A': [0.04, 1]}),\n",
       " (SOLVE, 's1', 's2', {'solver': 'N', 'maxiter': 20}, {}),\n",
       " (EXPL,\n",
       "  's2',\n",
       "  'f0',\n",
       "  ('A', 'P_bus'),\n",
       "  ('P_comms',),\n",
       "  <bound method Component.evaldict of (('A', 'P_bus'), 0, ('P_comms',), 'None')>,\n",
       "  <bound method Component.graddict of (('A', 'P_bus'), 0, ('P_comms',), 'None')>),\n",
       " (EXPL,\n",
       "  's2',\n",
       "  'f1',\n",
       "  ('P_comms',),\n",
       "  ('P_bus',),\n",
       "  <bound method Component.evaldict of (('P_comms',), 1, ('P_bus',), 'None')>,\n",
       "  <bound method Component.graddict of (('P_comms',), 1, ('P_bus',), 'None')>),\n",
       " (EXPL,\n",
       "  's1',\n",
       "  'f3',\n",
       "  ('A', 'D', 'P_bus'),\n",
       "  ('C',),\n",
       "  <bound method Component.evaldict of (('A', 'D', 'P_bus'), 3, ('C',), 'None')>,\n",
       "  <bound method Component.graddict of (('A', 'D', 'P_bus'), 3, ('C',), 'None')>),\n",
       " (EXPL,\n",
       "  's1',\n",
       "  'f2',\n",
       "  ('h', 'P_comms', 'D'),\n",
       "  ('R',),\n",
       "  <bound method Component.evaldict of (('h', 'P_comms', 'D'), 2, ('R',), 'None')>,\n",
       "  <bound method Component.graddict of (('h', 'P_comms', 'D'), 2, ('R',), 'None')>),\n",
       " (OBJ,\n",
       "  's1',\n",
       "  'f4',\n",
       "  ('C',),\n",
       "  'obj4',\n",
       "  <bound method Component.evaldict of (('C',), 4, ('obj4',), 'None')>,\n",
       "  <bound method Component.graddict of (('C',), 4, ('obj4',), 'None')>),\n",
       " (EQ,\n",
       "  's1',\n",
       "  'f5',\n",
       "  ('R',),\n",
       "  'eq5',\n",
       "  <bound method Component.evaldict of (('R',), 5, ('eq5',), 'None')>,\n",
       "  <bound method Component.graddict of (('R',), 5, ('eq5',), 'None')>)]"
      ]
     },
     "execution_count": 77,
     "metadata": {},
     "output_type": "execute_result"
    }
   ],
   "source": [
    "wfmdao"
   ]
  },
  {
   "cell_type": "markdown",
   "id": "4ad859ab-b667-4715-940c-577ea0ac9a82",
   "metadata": {},
   "source": [
    "### Assemble the formulation in openMDAO"
   ]
  },
  {
   "cell_type": "code",
   "execution_count": 78,
   "id": "77cc7f78-abfa-4342-962c-73167e481c1c",
   "metadata": {
    "execution": {
     "iopub.execute_input": "2022-08-12T14:53:00.892357Z",
     "iopub.status.busy": "2022-08-12T14:53:00.891793Z",
     "iopub.status.idle": "2022-08-12T14:53:00.906769Z",
     "shell.execute_reply": "2022-08-12T14:53:00.905773Z",
     "shell.execute_reply.started": "2022-08-12T14:53:00.892357Z"
    },
    "tags": []
   },
   "outputs": [],
   "source": [
    "from datastructures.assembly import build_archi"
   ]
  },
  {
   "cell_type": "code",
   "execution_count": 91,
   "id": "bacea0b3-4127-42b3-bb53-f91e6d959998",
   "metadata": {
    "execution": {
     "iopub.execute_input": "2022-08-12T14:54:50.823283Z",
     "iopub.status.busy": "2022-08-12T14:54:50.823283Z",
     "iopub.status.idle": "2022-08-12T14:54:50.831481Z",
     "shell.execute_reply": "2022-08-12T14:54:50.831318Z",
     "shell.execute_reply.started": "2022-08-12T14:54:50.823283Z"
    },
    "tags": []
   },
   "outputs": [],
   "source": [
    "prob, mdao_in, groups = build_archi(edges, tree, wfmdao, namingfunc, idmapping)"
   ]
  },
  {
   "cell_type": "markdown",
   "id": "0e748958-7b70-47bb-a74b-bcf52cd53a34",
   "metadata": {},
   "source": [
    "# Execute model without running optimization"
   ]
  },
  {
   "cell_type": "code",
   "execution_count": 92,
   "id": "eef09bf3-7e22-499f-bc22-a63205bd2738",
   "metadata": {
    "execution": {
     "iopub.execute_input": "2022-08-12T14:54:51.228949Z",
     "iopub.status.busy": "2022-08-12T14:54:51.228949Z",
     "iopub.status.idle": "2022-08-12T14:54:51.249077Z",
     "shell.execute_reply": "2022-08-12T14:54:51.248846Z",
     "shell.execute_reply.started": "2022-08-12T14:54:51.228949Z"
    },
    "tags": []
   },
   "outputs": [
    {
     "data": {
      "text/plain": [
       "[(('A', 'P_{bus}'), 0, ('P_{comms}',), '483.3*A - P_{bus}'),\n",
       " (('P_{comms}',), 1, ('P_{bus}',), '10*Abs(P_{comms})**0.5'),\n",
       " (('h', 'P_{comms}', 'D'), 2, ('R',), '125000000000.0*D**2*P_{comms}/h**2'),\n",
       " (('A', 'D', 'P_{bus}'), 3, ('C',), '12*A + 2.5*D**2 + 0.1*P_{bus} + 12'),\n",
       " (('C',), 4, (None,), 'C'),\n",
       " (('R',), 5, (None,), '1 - R')]"
      ]
     },
     "execution_count": 92,
     "metadata": {},
     "output_type": "execute_result"
    }
   ],
   "source": [
    "components"
   ]
  },
  {
   "cell_type": "code",
   "execution_count": 93,
   "id": "5f473dd9-d5e5-473d-955d-2c65949c005d",
   "metadata": {
    "execution": {
     "iopub.execute_input": "2022-08-12T14:54:51.388468Z",
     "iopub.status.busy": "2022-08-12T14:54:51.387471Z",
     "iopub.status.idle": "2022-08-12T14:54:51.420392Z",
     "shell.execute_reply": "2022-08-12T14:54:51.419455Z",
     "shell.execute_reply.started": "2022-08-12T14:54:51.388468Z"
    },
    "tags": []
   },
   "outputs": [
    {
     "data": {
      "text/plain": [
       "{('P_{comms}', 'A'): DeviceArray(483.3, dtype=float64),\n",
       " ('P_{comms}', 'P_{bus}'): DeviceArray(-1., dtype=float64)}"
      ]
     },
     "execution_count": 93,
     "metadata": {},
     "output_type": "execute_result"
    }
   ],
   "source": [
    "components[0].graddict({'A':10, 'P_{bus}':10})"
   ]
  },
  {
   "cell_type": "code",
   "execution_count": 94,
   "id": "91135315-b608-4fc7-ba54-0d3cc03afc1a",
   "metadata": {
    "execution": {
     "iopub.execute_input": "2022-08-12T14:54:51.590108Z",
     "iopub.status.busy": "2022-08-12T14:54:51.590108Z",
     "iopub.status.idle": "2022-08-12T14:54:51.623104Z",
     "shell.execute_reply": "2022-08-12T14:54:51.622106Z",
     "shell.execute_reply.started": "2022-08-12T14:54:51.590108Z"
    },
    "tags": []
   },
   "outputs": [
    {
     "data": {
      "text/plain": [
       "{('R', 'h'): DeviceArray(-0.00390625, dtype=float64),\n",
       " ('R', 'P_{comms}'): DeviceArray(78.125, dtype=float64),\n",
       " ('R', 'D'): DeviceArray(156.25, dtype=float64)}"
      ]
     },
     "execution_count": 94,
     "metadata": {},
     "output_type": "execute_result"
    }
   ],
   "source": [
    "components[2].graddict({'h':h.varval, 'P_{comms}':10, 'D':10})"
   ]
  },
  {
   "cell_type": "code",
   "execution_count": 95,
   "id": "c5b8a416-2e02-47f1-bbe6-3416428fd8bf",
   "metadata": {
    "execution": {
     "iopub.execute_input": "2022-08-12T14:54:51.915625Z",
     "iopub.status.busy": "2022-08-12T14:54:51.915625Z",
     "iopub.status.idle": "2022-08-12T14:54:51.950990Z",
     "shell.execute_reply": "2022-08-12T14:54:51.949983Z",
     "shell.execute_reply.started": "2022-08-12T14:54:51.915625Z"
    },
    "tags": []
   },
   "outputs": [
    {
     "data": {
      "text/plain": [
       "{('C', 'A'): DeviceArray(12., dtype=float64),\n",
       " ('C', 'D'): DeviceArray(50., dtype=float64),\n",
       " ('C', 'P_{bus}'): DeviceArray(0.1, dtype=float64)}"
      ]
     },
     "execution_count": 95,
     "metadata": {},
     "output_type": "execute_result"
    }
   ],
   "source": [
    "components[3].graddict({'D':10, 'P_{bus}':10, 'A':10})"
   ]
  },
  {
   "cell_type": "code",
   "execution_count": 117,
   "id": "0c816b62-da70-44b4-851d-d53f33b10744",
   "metadata": {
    "execution": {
     "iopub.execute_input": "2022-08-12T14:59:07.301456Z",
     "iopub.status.busy": "2022-08-12T14:59:07.301456Z",
     "iopub.status.idle": "2022-08-12T14:59:07.424150Z",
     "shell.execute_reply": "2022-08-12T14:59:07.423681Z",
     "shell.execute_reply.started": "2022-08-12T14:59:07.301456Z"
    },
    "tags": []
   },
   "outputs": [
    {
     "name": "stdout",
     "output_type": "stream",
     "text": [
      "\n",
      "==\n",
      "s2\n",
      "==\n",
      "NL: Newton Converged in 4 iterations\n"
     ]
    }
   ],
   "source": [
    "prob.set_val('D', 0.67)\n",
    "prob.set_val('A', 0.1)\n",
    "prob.run_model()"
   ]
  },
  {
   "cell_type": "markdown",
   "id": "553a859a-ad12-463d-b691-67920dfcd33d",
   "metadata": {},
   "source": [
    "### Display results"
   ]
  },
  {
   "cell_type": "code",
   "execution_count": 115,
   "id": "99068dd3-9613-46a0-bb05-50f636acd11a",
   "metadata": {
    "execution": {
     "iopub.execute_input": "2022-08-12T14:58:50.874159Z",
     "iopub.status.busy": "2022-08-12T14:58:50.873160Z",
     "iopub.status.idle": "2022-08-12T14:58:50.888150Z",
     "shell.execute_reply": "2022-08-12T14:58:50.887149Z",
     "shell.execute_reply.started": "2022-08-12T14:58:50.874159Z"
    },
    "tags": []
   },
   "outputs": [
    {
     "data": {
      "text/html": [
       "<style type=\"text/css\">\n",
       "</style>\n",
       "<table id=\"T_44a96\">\n",
       "  <thead>\n",
       "  </thead>\n",
       "  <tbody>\n",
       "    <tr>\n",
       "      <td id=\"T_44a96_row0_col0\" class=\"data row0 col0\" >$$P_{comms}$$</td>\n",
       "      <td id=\"T_44a96_row0_col1\" class=\"data row0 col1\" >12.697</td>\n",
       "      <td id=\"T_44a96_row0_col2\" class=\"data row0 col2\" ></td>\n",
       "    </tr>\n",
       "    <tr>\n",
       "      <td id=\"T_44a96_row1_col0\" class=\"data row1 col0\" >$$P_{bus}$$</td>\n",
       "      <td id=\"T_44a96_row1_col1\" class=\"data row1 col1\" >35.633</td>\n",
       "      <td id=\"T_44a96_row1_col2\" class=\"data row1 col2\" ></td>\n",
       "    </tr>\n",
       "    <tr>\n",
       "      <td id=\"T_44a96_row2_col0\" class=\"data row2 col0\" >$$R$$</td>\n",
       "      <td id=\"T_44a96_row2_col1\" class=\"data row2 col1\" >4.453</td>\n",
       "      <td id=\"T_44a96_row2_col2\" class=\"data row2 col2\" ></td>\n",
       "    </tr>\n",
       "    <tr>\n",
       "      <td id=\"T_44a96_row3_col0\" class=\"data row3 col0\" >$$C$$</td>\n",
       "      <td id=\"T_44a96_row3_col1\" class=\"data row3 col1\" >17.886</td>\n",
       "      <td id=\"T_44a96_row3_col2\" class=\"data row3 col2\" ></td>\n",
       "    </tr>\n",
       "  </tbody>\n",
       "</table>\n"
      ],
      "text/plain": [
       "<pandas.io.formats.style.Styler at 0x28b44477f70>"
      ]
     },
     "execution_count": 115,
     "metadata": {},
     "output_type": "execute_result"
    }
   ],
   "source": [
    "from datastructures.postprocess import print_outputs\n",
    "print_outputs(model, prob, namingfunc, rounding=3)"
   ]
  },
  {
   "cell_type": "markdown",
   "id": "37805c57-b0d8-436e-8b23-e9f9e1bccb8f",
   "metadata": {},
   "source": [
    "# Optimize model"
   ]
  },
  {
   "cell_type": "code",
   "execution_count": 116,
   "id": "e41eeb69-09e4-4b60-b234-a1126a592f33",
   "metadata": {
    "execution": {
     "iopub.execute_input": "2022-08-12T14:58:52.083355Z",
     "iopub.status.busy": "2022-08-12T14:58:52.082357Z",
     "iopub.status.idle": "2022-08-12T14:58:53.126724Z",
     "shell.execute_reply": "2022-08-12T14:58:53.126724Z",
     "shell.execute_reply.started": "2022-08-12T14:58:52.083355Z"
    },
    "tags": []
   },
   "outputs": [
    {
     "name": "stdout",
     "output_type": "stream",
     "text": [
      "\n",
      "==\n",
      "s2\n",
      "==\n",
      "NL: Newton Converged in 0 iterations\n",
      "\n",
      "==\n",
      "s2\n",
      "==\n",
      "NL: Newton Converged in 0 iterations\n",
      "\n",
      "==\n",
      "s2\n",
      "==\n",
      "NL: Newton Converged in 5 iterations\n",
      "\n",
      "==\n",
      "s2\n",
      "==\n",
      "NL: Newton Converged in 4 iterations\n",
      "\n",
      "==\n",
      "s2\n",
      "==\n",
      "NL: Newton Converged in 4 iterations\n",
      "\n",
      "==\n",
      "s2\n",
      "==\n",
      "NL: Newton Converged in 2 iterations\n",
      "\n",
      "==\n",
      "s2\n",
      "==\n",
      "NL: Newton Converged in 3 iterations\n",
      "\n",
      "==\n",
      "s2\n",
      "==\n",
      "NL: Newton Converged in 3 iterations\n",
      "\n",
      "==\n",
      "s2\n",
      "==\n",
      "NL: Newton Converged in 3 iterations\n",
      "\n",
      "==\n",
      "s2\n",
      "==\n",
      "NL: Newton Converged in 2 iterations\n",
      "Optimization terminated successfully    (Exit mode 0)\n",
      "            Current function value: [15.30093085]\n",
      "            Iterations: 8\n",
      "            Function evaluations: 9\n",
      "            Gradient evaluations: 7\n",
      "Optimization Complete\n",
      "-----------------------------------\n"
     ]
    }
   ],
   "source": [
    "prob.run_driver();"
   ]
  }
 ],
 "metadata": {
  "kernelspec": {
   "display_name": "minimdo",
   "language": "python",
   "name": "python3"
  },
  "language_info": {
   "codemirror_mode": {
    "name": "ipython",
    "version": 3
   },
   "file_extension": ".py",
   "mimetype": "text/x-python",
   "name": "python",
   "nbconvert_exporter": "python",
   "pygments_lexer": "ipython3",
   "version": "3.9.18"
  }
 },
 "nbformat": 4,
 "nbformat_minor": 5
}
