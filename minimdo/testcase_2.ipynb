{
 "cells": [
  {
   "cell_type": "code",
   "execution_count": 1,
   "metadata": {},
   "outputs": [],
   "source": [
    "from utils.polycasebuilder import generate_random_prob, generate_random_polynomials\n",
    "from graph.operators import eqv_to_edges_tree, reformulate, dsm_reformulate\n",
    "from graph.matrixview import render_incidence, incidence_artifacts\n",
    "from modeling.transformations import transform_components\n",
    "from solver.runpipeline import run_valid_formulation\n",
    "from solver.postprocess import print_vars_in_order\n",
    "from utils.executeformulations import extractvals, perturb, partial_perturb\n",
    "from graph.graphutils import default_nodetyperepr\n",
    "import numpy as np\n",
    "import pandas as pd"
   ]
  },
  {
   "attachments": {},
   "cell_type": "markdown",
   "metadata": {},
   "source": [
    "# Generate variable incidence"
   ]
  },
  {
   "cell_type": "code",
   "execution_count": 2,
   "metadata": {},
   "outputs": [],
   "source": [
    "#seed 10 is nice, sparasity 1.7\n",
    "n_eqs, n_vars, seed, sparsity = 10, 13, 8, 1.1\n",
    "eq_incidence, var_incidence, outset = generate_random_prob(n_eqs, n_vars, seed, sparsity)"
   ]
  },
  {
   "cell_type": "code",
   "execution_count": 3,
   "metadata": {},
   "outputs": [],
   "source": [
    "edges,tree,outset_1 = eqv_to_edges_tree(eq_incidence, outset, n_eqs=n_eqs)\n",
    "formulation_scc = dsm_reformulate(edges, tree, outset)"
   ]
  },
  {
   "cell_type": "code",
   "execution_count": 4,
   "metadata": {},
   "outputs": [
    {
     "data": {
      "image/png": "[encoded data removed]",
      "text/plain": [
       "<Figure size 432x288 with 1 Axes>"
      ]
     },
     "metadata": {
      "needs_background": "light"
     },
     "output_type": "display_data"
    }
   ],
   "source": [
    "render_incidence(*formulation_scc, dsm=True);"
   ]
  },
  {
   "attachments": {},
   "cell_type": "markdown",
   "metadata": {},
   "source": [
    "# Generate polynomials "
   ]
  },
  {
   "cell_type": "code",
   "execution_count": 5,
   "metadata": {},
   "outputs": [],
   "source": [
    "rng = np.random.default_rng(12345)\n",
    "polynomials, var_mapping, edges, tree, comps = generate_random_polynomials(eq_incidence, outset, n_eqs, rng)"
   ]
  },
  {
   "cell_type": "code",
   "execution_count": 6,
   "metadata": {},
   "outputs": [
    {
     "data": {
      "text/plain": [
       "{0: -0.4*x_1*x_9 + 0.6,\n",
       " 1: 0.2*x_1*x_12*x_5 - 0.6*x_11*x_4 + 0.3,\n",
       " 2: 0.9*x_1*x_4 - 0.5,\n",
       " 3: 0.9*x_0 + 0.3,\n",
       " 4: 0.4*x_10 + 0.8*x_2*x_8 - 0.3,\n",
       " 5: -0.3*x_12*x_8 - 0.7*x_2*x_3*x_5 - 0.1,\n",
       " 6: -0.7*x_0*x_10 + 0.7*x_12 + 0.2*x_7*x_9 + 0.2,\n",
       " 7: 0.4*x_0*x_2*x_5 + 0.7,\n",
       " 8: -0.1*x_3*x_6 - 0.5*x_7*x_8*x_9 + 0.3,\n",
       " 9: 0.8 - 0.3*x_10}"
      ]
     },
     "execution_count": 6,
     "metadata": {},
     "output_type": "execute_result"
    }
   ],
   "source": [
    "polynomials"
   ]
  },
  {
   "cell_type": "code",
   "execution_count": 7,
   "metadata": {},
   "outputs": [],
   "source": [
    "edges_dsm, tree_dsm = formulation_scc\n",
    "prob_original, mdao_in_original, groups_original = run_valid_formulation(edges_dsm, tree_dsm, comps, dict(), dict(), dict(), default_nodetyperepr)"
   ]
  },
  {
   "cell_type": "code",
   "execution_count": 8,
   "metadata": {},
   "outputs": [],
   "source": [
    "#initvals = [-55.082920, -9.000000, -1.460317]\n",
    "for idx, invar in enumerate(mdao_in_original):\n",
    "    prob_original.set_val(var_mapping[invar][1], 1.)"
   ]
  },
  {
   "cell_type": "code",
   "execution_count": 9,
   "metadata": {},
   "outputs": [
    {
     "name": "stdout",
     "output_type": "stream",
     "text": [
      "\n",
      "===\n",
      "s_1\n",
      "===\n",
      "+  \n",
      "+  =======\n",
      "+  s_1.s_2\n",
      "+  =======\n",
      "+  NL: NewtonSolver 'NL: Newton' on system 's_1.s_2' failed to converge in 10 iterations.\n",
      "+  \n",
      "+  =======\n",
      "+  s_1.s_2\n",
      "+  =======\n",
      "+  NL: NewtonSolver 'NL: Newton' on system 's_1.s_2' failed to converge in 10 iterations.\n",
      "+  \n",
      "+  =======\n",
      "+  s_1.s_2\n",
      "+  =======\n",
      "+  NL: Newton Converged in 4 iterations\n",
      "NL: Newton Converged in 2 iterations\n"
     ]
    }
   ],
   "source": [
    "prob_original.run_model()"
   ]
  },
  {
   "cell_type": "code",
   "execution_count": 10,
   "metadata": {},
   "outputs": [],
   "source": [
    "xsol = extractvals(prob_original, [var for var,varname in var_mapping.values()])"
   ]
  },
  {
   "cell_type": "code",
   "execution_count": 11,
   "metadata": {},
   "outputs": [
    {
     "data": {
      "text/html": [
       "<div>\n",
       "<style scoped>\n",
       "    .dataframe tbody tr th:only-of-type {\n",
       "        vertical-align: middle;\n",
       "    }\n",
       "\n",
       "    .dataframe tbody tr th {\n",
       "        vertical-align: top;\n",
       "    }\n",
       "\n",
       "    .dataframe thead th {\n",
       "        text-align: right;\n",
       "    }\n",
       "</style>\n",
       "<table border=\"1\" class=\"dataframe\">\n",
       "  <thead>\n",
       "    <tr style=\"text-align: right;\">\n",
       "      <th></th>\n",
       "      <th>0</th>\n",
       "    </tr>\n",
       "  </thead>\n",
       "  <tbody>\n",
       "    <tr>\n",
       "      <th>x_12</th>\n",
       "      <td>1.000000</td>\n",
       "    </tr>\n",
       "    <tr>\n",
       "      <th>x_11</th>\n",
       "      <td>1.000000</td>\n",
       "    </tr>\n",
       "    <tr>\n",
       "      <th>x_6</th>\n",
       "      <td>1.000000</td>\n",
       "    </tr>\n",
       "    <tr>\n",
       "      <th>x_9</th>\n",
       "      <td>1.696112</td>\n",
       "    </tr>\n",
       "    <tr>\n",
       "      <th>x_8</th>\n",
       "      <td>-0.079377</td>\n",
       "    </tr>\n",
       "    <tr>\n",
       "      <th>x_7</th>\n",
       "      <td>-4.487388</td>\n",
       "    </tr>\n",
       "    <tr>\n",
       "      <th>x_5</th>\n",
       "      <td>0.434847</td>\n",
       "    </tr>\n",
       "    <tr>\n",
       "      <th>x_4</th>\n",
       "      <td>0.628189</td>\n",
       "    </tr>\n",
       "    <tr>\n",
       "      <th>x_3</th>\n",
       "      <td>-0.020731</td>\n",
       "    </tr>\n",
       "    <tr>\n",
       "      <th>x_2</th>\n",
       "      <td>12.073205</td>\n",
       "    </tr>\n",
       "    <tr>\n",
       "      <th>x_1</th>\n",
       "      <td>0.884376</td>\n",
       "    </tr>\n",
       "    <tr>\n",
       "      <th>x_10</th>\n",
       "      <td>2.666667</td>\n",
       "    </tr>\n",
       "    <tr>\n",
       "      <th>x_0</th>\n",
       "      <td>-0.333333</td>\n",
       "    </tr>\n",
       "  </tbody>\n",
       "</table>\n",
       "</div>"
      ],
      "text/plain": [
       "              0\n",
       "x_12   1.000000\n",
       "x_11   1.000000\n",
       "x_6    1.000000\n",
       "x_9    1.696112\n",
       "x_8   -0.079377\n",
       "x_7   -4.487388\n",
       "x_5    0.434847\n",
       "x_4    0.628189\n",
       "x_3   -0.020731\n",
       "x_2   12.073205\n",
       "x_1    0.884376\n",
       "x_10   2.666667\n",
       "x_0   -0.333333"
      ]
     },
     "execution_count": 11,
     "metadata": {},
     "output_type": "execute_result"
    }
   ],
   "source": [
    "print_vars_in_order(prob_original, edges_dsm, tree_dsm, var_mapping)"
   ]
  },
  {
   "attachments": {},
   "cell_type": "markdown",
   "metadata": {},
   "source": [
    "# Restructure"
   ]
  },
  {
   "cell_type": "code",
   "execution_count": 18,
   "metadata": {},
   "outputs": [],
   "source": [
    "new_outset = {0: 11, 1: 21, 2: 14, 3: 10, 4: 18, 5: 13, 6: 22, 7: 15, 8: 16, 9: 20}\n",
    "edges_r,tree_r,outset_2 = eqv_to_edges_tree(eq_incidence, new_outset, n_eqs=n_eqs)\n",
    "formulation_scc_r = reformulate(edges_r, tree_r)"
   ]
  },
  {
   "cell_type": "code",
   "execution_count": 15,
   "metadata": {},
   "outputs": [
    {
     "data": {
      "image/png": "[encoded data removed]",
      "text/plain": [
       "<Figure size 432x288 with 1 Axes>"
      ]
     },
     "metadata": {
      "needs_background": "light"
     },
     "output_type": "display_data"
    }
   ],
   "source": [
    "render_incidence(*formulation_scc_r, dsm=True);"
   ]
  },
  {
   "cell_type": "code",
   "execution_count": 16,
   "metadata": {},
   "outputs": [],
   "source": [
    "ordered_edges, ordered_tree = formulation_scc_r\n",
    "id_mapping = {var[0].varid: var[0] for key,var in var_mapping.items()}\n",
    "newcomps = transform_components(edges, ordered_edges, comps, id_mapping)"
   ]
  },
  {
   "attachments": {},
   "cell_type": "markdown",
   "metadata": {},
   "source": [
    "# Run new structure"
   ]
  },
  {
   "cell_type": "code",
   "execution_count": 17,
   "metadata": {},
   "outputs": [],
   "source": [
    "prob, mdao_in, groups = run_valid_formulation(ordered_edges, ordered_tree, comps+newcomps, dict(), dict(), dict(), default_nodetyperepr)"
   ]
  },
  {
   "cell_type": "code",
   "execution_count": 37,
   "metadata": {},
   "outputs": [],
   "source": [
    "outvar_names = [var_mapping[val][1] for val in outset_2.values()]\n",
    "x_perturbed = partial_perturb(xsol, outvar_names, rand_range=(1,1))\n",
    "for key,val in x_perturbed.items():\n",
    "    prob.set_val(key, val)"
   ]
  },
  {
   "cell_type": "code",
   "execution_count": 38,
   "metadata": {},
   "outputs": [
    {
     "name": "stdout",
     "output_type": "stream",
     "text": [
      "\n",
      "===\n",
      "s_1\n",
      "===\n",
      "NL: Newton Converged in 0 iterations\n"
     ]
    }
   ],
   "source": [
    "prob.run_model()"
   ]
  },
  {
   "attachments": {},
   "cell_type": "markdown",
   "metadata": {},
   "source": [
    "# Comparison"
   ]
  },
  {
   "cell_type": "code",
   "execution_count": 39,
   "metadata": {},
   "outputs": [
    {
     "data": {
      "text/html": [
       "<div>\n",
       "<style scoped>\n",
       "    .dataframe tbody tr th:only-of-type {\n",
       "        vertical-align: middle;\n",
       "    }\n",
       "\n",
       "    .dataframe tbody tr th {\n",
       "        vertical-align: top;\n",
       "    }\n",
       "\n",
       "    .dataframe thead th {\n",
       "        text-align: right;\n",
       "    }\n",
       "</style>\n",
       "<table border=\"1\" class=\"dataframe\">\n",
       "  <thead>\n",
       "    <tr style=\"text-align: right;\">\n",
       "      <th></th>\n",
       "      <th>0</th>\n",
       "      <th>1</th>\n",
       "    </tr>\n",
       "  </thead>\n",
       "  <tbody>\n",
       "    <tr>\n",
       "      <th>x_0</th>\n",
       "      <td>-0.333333</td>\n",
       "      <td>-0.333333</td>\n",
       "    </tr>\n",
       "    <tr>\n",
       "      <th>x_1</th>\n",
       "      <td>0.884376</td>\n",
       "      <td>0.884376</td>\n",
       "    </tr>\n",
       "    <tr>\n",
       "      <th>x_2</th>\n",
       "      <td>12.073205</td>\n",
       "      <td>12.073205</td>\n",
       "    </tr>\n",
       "    <tr>\n",
       "      <th>x_3</th>\n",
       "      <td>-0.020731</td>\n",
       "      <td>-0.020731</td>\n",
       "    </tr>\n",
       "    <tr>\n",
       "      <th>x_4</th>\n",
       "      <td>0.628189</td>\n",
       "      <td>0.628189</td>\n",
       "    </tr>\n",
       "    <tr>\n",
       "      <th>x_5</th>\n",
       "      <td>0.434847</td>\n",
       "      <td>0.434847</td>\n",
       "    </tr>\n",
       "    <tr>\n",
       "      <th>x_6</th>\n",
       "      <td>1.000000</td>\n",
       "      <td>1.000000</td>\n",
       "    </tr>\n",
       "    <tr>\n",
       "      <th>x_7</th>\n",
       "      <td>-4.487388</td>\n",
       "      <td>-4.487388</td>\n",
       "    </tr>\n",
       "    <tr>\n",
       "      <th>x_8</th>\n",
       "      <td>-0.079377</td>\n",
       "      <td>-0.079377</td>\n",
       "    </tr>\n",
       "    <tr>\n",
       "      <th>x_9</th>\n",
       "      <td>1.696112</td>\n",
       "      <td>1.696112</td>\n",
       "    </tr>\n",
       "    <tr>\n",
       "      <th>x_10</th>\n",
       "      <td>2.666667</td>\n",
       "      <td>2.666667</td>\n",
       "    </tr>\n",
       "    <tr>\n",
       "      <th>x_11</th>\n",
       "      <td>1.000000</td>\n",
       "      <td>1.000000</td>\n",
       "    </tr>\n",
       "    <tr>\n",
       "      <th>x_12</th>\n",
       "      <td>1.000000</td>\n",
       "      <td>1.000000</td>\n",
       "    </tr>\n",
       "  </tbody>\n",
       "</table>\n",
       "</div>"
      ],
      "text/plain": [
       "              0          1\n",
       "x_0   -0.333333  -0.333333\n",
       "x_1    0.884376   0.884376\n",
       "x_2   12.073205  12.073205\n",
       "x_3   -0.020731  -0.020731\n",
       "x_4    0.628189   0.628189\n",
       "x_5    0.434847   0.434847\n",
       "x_6    1.000000   1.000000\n",
       "x_7   -4.487388  -4.487388\n",
       "x_8   -0.079377  -0.079377\n",
       "x_9    1.696112   1.696112\n",
       "x_10   2.666667   2.666667\n",
       "x_11   1.000000   1.000000\n",
       "x_12   1.000000   1.000000"
      ]
     },
     "execution_count": 39,
     "metadata": {},
     "output_type": "execute_result"
    }
   ],
   "source": [
    "xsol_new = extractvals(prob_original, [var for var,varname in var_mapping.values()])\n",
    "pd.DataFrame([xsol, xsol_new]).T"
   ]
  }
 ],
 "metadata": {
  "kernelspec": {
   "display_name": "minimdo",
   "language": "python",
   "name": "python3"
  },
  "language_info": {
   "codemirror_mode": {
    "name": "ipython",
    "version": 3
   },
   "file_extension": ".py",
   "mimetype": "text/x-python",
   "name": "python",
   "nbconvert_exporter": "python",
   "pygments_lexer": "ipython3",
   "version": "3.9.12"
  },
  "orig_nbformat": 4,
  "vscode": {
   "interpreter": {
    "hash": "a694de6fda351b2e6abf6df342a83029ffd7840d5f4e2b018751ced956a6df2b"
   }
  }
 },
 "nbformat": 4,
 "nbformat_minor": 2
}
