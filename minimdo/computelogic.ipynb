{
 "cells": [
  {
   "cell_type": "code",
   "execution_count": 1,
   "id": "158e9b0e",
   "metadata": {},
   "outputs": [],
   "source": [
    "from collections import OrderedDict\n",
    "from graph.workflow import order_from_tree\n",
    "Ftree = OrderedDict([\n",
    "        (1,1),\n",
    "        (2,1),\n",
    "        (3,2),\n",
    "        (4,4),\n",
    "        (5,4),\n",
    "        (6,4),\n",
    "        (7,3),\n",
    "        (8,2)\n",
    "    ])\n",
    "Stree = {\n",
    "    1: 2,\n",
    "    3: 2,\n",
    "    4: 3\n",
    "}"
   ]
  },
  {
   "cell_type": "code",
   "execution_count": 6,
   "id": "2115b718",
   "metadata": {},
   "outputs": [
    {
     "data": {
      "text/plain": [
       "[(SOLVER, 2, None),\n",
       " (SOLVER, 1, 2),\n",
       " (ENDCOMP, [1, 2], 1),\n",
       " (COMP, 3, 2),\n",
       " (SOLVER, 3, 2),\n",
       " (SOLVER, 4, 3),\n",
       " (ENDCOMP, [4, 5, 6], 4),\n",
       " (ENDCOMP, [7], 3),\n",
       " (ENDCOMP, [8], 2)]"
      ]
     },
     "execution_count": 6,
     "metadata": {},
     "output_type": "execute_result"
    }
   ],
   "source": [
    "order_from_tree(Ftree, Stree, {3: (True,)}, mergeendcomp=True)"
   ]
  },
  {
   "cell_type": "code",
   "execution_count": 9,
   "id": "e5de268e",
   "metadata": {
    "execution": {
     "iopub.execute_input": "2021-07-22T09:33:19.958617Z",
     "iopub.status.busy": "2021-07-22T09:33:19.957615Z",
     "iopub.status.idle": "2021-07-22T09:33:19.973616Z",
     "shell.execute_reply": "2021-07-22T09:33:19.972619Z",
     "shell.execute_reply.started": "2021-07-22T09:33:19.958617Z"
    }
   },
   "outputs": [],
   "source": [
    "test = [(1,2),3,([4,5,6],7),8]"
   ]
  },
  {
   "cell_type": "code",
   "execution_count": 9,
   "id": "91a31a39",
   "metadata": {
    "execution": {
     "iopub.execute_input": "2021-07-22T09:37:41.814387Z",
     "iopub.status.busy": "2021-07-22T09:37:41.814387Z",
     "iopub.status.idle": "2021-07-22T09:37:41.838889Z",
     "shell.execute_reply": "2021-07-22T09:37:41.837888Z",
     "shell.execute_reply.started": "2021-07-22T09:37:41.814387Z"
    }
   },
   "outputs": [],
   "source": [
    "def compute_order(seq_order, solve_order, parent=0, counter=0):\n",
    "    counter+=1\n",
    "    group = '{}.{}'.format(parent, counter)\n",
    "    print(' '*len(group), 'create group: ', group)\n",
    "    if solve_order:\n",
    "        order = solve_order\n",
    "        print(' '*len(group),'create system solver for ',group)\n",
    "        if seq_order:\n",
    "            compute_order(seq_order, (), group, counter)\n",
    "    else:\n",
    "        print(' '*len(group),'default sequential solver for ', group)\n",
    "        order = seq_order\n",
    "    for idx, eqnelt in enumerate(order):\n",
    "        if isinstance(eqnelt, list):\n",
    "            counter = compute_order(eqnelt, (), group, counter)\n",
    "        elif isinstance(eqnelt, tuple):\n",
    "            if isinstance(eqnelt[0], list):\n",
    "                ordered = eqnelt[0]\n",
    "                unordered = eqnelt[1:]\n",
    "            else:\n",
    "                ordered = []\n",
    "                unordered = eqnelt\n",
    "            counter = compute_order(ordered, unordered, group, counter)\n",
    "        else:\n",
    "            print(' '*(len(group)+2),'add to ', group, ' eq: ', eqnelt)\n",
    "    return counter"
   ]
  },
  {
   "cell_type": "code",
   "execution_count": 11,
   "id": "59b9534d",
   "metadata": {},
   "outputs": [
    {
     "name": "stdout",
     "output_type": "stream",
     "text": [
      "    create group:  0.1\n",
      "    create system solver for  0.1\n",
      "      create group:  0.1.2\n",
      "      create system solver for  0.1.2\n",
      "        add to  0.1.2  eq:  1\n",
      "        add to  0.1.2  eq:  2\n",
      "      add to  0.1  eq:  3\n",
      "      create group:  0.1.3\n",
      "      create system solver for  0.1.3\n",
      "        create group:  0.1.3.4\n",
      "        default sequential solver for  0.1.3.4\n",
      "          add to  0.1.3.4  eq:  4\n",
      "          add to  0.1.3.4  eq:  5\n",
      "          add to  0.1.3.4  eq:  6\n",
      "        add to  0.1.3  eq:  7\n",
      "      add to  0.1  eq:  8\n"
     ]
    },
    {
     "data": {
      "text/plain": [
       "3"
      ]
     },
     "execution_count": 11,
     "metadata": {},
     "output_type": "execute_result"
    }
   ],
   "source": [
    "compute_order([],test)"
   ]
  },
  {
   "cell_type": "code",
   "execution_count": 2,
   "id": "e2b90ad9",
   "metadata": {
    "execution": {
     "iopub.execute_input": "2021-07-26T13:02:43.328362Z",
     "iopub.status.busy": "2021-07-26T13:02:43.328362Z",
     "iopub.status.idle": "2021-07-26T13:02:51.746353Z",
     "shell.execute_reply": "2021-07-26T13:02:51.745361Z",
     "shell.execute_reply.started": "2021-07-26T13:02:43.328362Z"
    }
   },
   "outputs": [
    {
     "name": "stdout",
     "output_type": "stream",
     "text": [
      "Unable to import mpi4py. Parallel processing unavailable.\n",
      "Unable to import petsc4py. Parallel processing unavailable.\n",
      "Unable to import petsc4py. Parallel processing unavailable.\n"
     ]
    }
   ],
   "source": [
    "from compute import Evaluable, anp_math, evaluable_with_unit, Var, get_unit, ureg, coupled_run, buildidpvars, eqvar, unit_conversion_factors\n",
    "from inputresolver import reassigneq, eqvars, eqsonly, default_out, mdf_order, getdofs, idx_eqlist\n",
    "from compute_utils import get_outputs, check_eqs\n",
    "from representations import bipartite_repr, drawbipartite, digraph_repr\n",
    "from utils import invmap\n",
    "import sympy as sp\n",
    "import openmdao.api as om\n",
    "import numpy as np\n",
    "import networkx as nx"
   ]
  },
  {
   "cell_type": "code",
   "execution_count": 54,
   "id": "19398799",
   "metadata": {},
   "outputs": [],
   "source": [
    "from modeling.compute import Var\n",
    "from modeling.execution import Component, edges_from_components\n",
    "from graph.operators import invert_edges, sort_scc\n",
    "from graph.graphutils import flat_graph_formulation\n",
    "from graph.graphview import draw"
   ]
  },
  {
   "cell_type": "code",
   "execution_count": 47,
   "id": "ee6f43ac",
   "metadata": {
    "execution": {
     "iopub.execute_input": "2021-07-22T17:09:18.327906Z",
     "iopub.status.busy": "2021-07-22T17:09:18.326908Z",
     "iopub.status.idle": "2021-07-22T17:09:18.347908Z",
     "shell.execute_reply": "2021-07-22T17:09:18.346920Z",
     "shell.execute_reply.started": "2021-07-22T17:09:18.327906Z"
    }
   },
   "outputs": [],
   "source": [
    "a = Var('a')\n",
    "b = Var('b')\n",
    "c = Var('c', 10)\n",
    "d = Var('d', 20)"
   ]
  },
  {
   "cell_type": "code",
   "execution_count": 48,
   "id": "28e9c962",
   "metadata": {},
   "outputs": [],
   "source": [
    "eqlist = [(b, c+1), (a, b-2), (a, 2*d+3)]"
   ]
  },
  {
   "cell_type": "code",
   "execution_count": 49,
   "id": "0997892c",
   "metadata": {},
   "outputs": [],
   "source": [
    "edges = edges_from_components([Component.fromsympy(\n",
    "    right, left, component=idx) for idx, (left, right) in enumerate(eqlist)])"
   ]
  },
  {
   "cell_type": "code",
   "execution_count": 50,
   "id": "e9506be8",
   "metadata": {},
   "outputs": [
    {
     "data": {
      "text/plain": [
       "({0: ('c', 'b'), 1: ('b', 'a'), 2: ('d', 'a')},\n",
       " {0: (None,), 1: (None,), 2: (None,)},\n",
       " {})"
      ]
     },
     "execution_count": 50,
     "metadata": {},
     "output_type": "execute_result"
    }
   ],
   "source": [
    "invert_edges(edges[0], edges[1])"
   ]
  },
  {
   "cell_type": "code",
   "execution_count": 51,
   "id": "858125de",
   "metadata": {},
   "outputs": [],
   "source": [
    "G = flat_graph_formulation(*edges)\n",
    "merge_order = sort_scc(G)"
   ]
  },
  {
   "cell_type": "code",
   "execution_count": 56,
   "id": "e4c85bad",
   "metadata": {},
   "outputs": [
    {
     "data": {
      "image/png": "[encoded data removed]",
      "text/plain": [
       "<Figure size 432x432 with 1 Axes>"
      ]
     },
     "metadata": {},
     "output_type": "display_data"
    }
   ],
   "source": [
    "draw(G);"
   ]
  },
  {
   "cell_type": "code",
   "execution_count": 42,
   "id": "a7cb369f",
   "metadata": {},
   "outputs": [],
   "source": [
    "from trash.inputresolver import idx_eqlist, eqvars, default_out"
   ]
  },
  {
   "cell_type": "code",
   "execution_count": 40,
   "id": "de29f51b",
   "metadata": {
    "execution": {
     "iopub.execute_input": "2021-07-22T17:09:26.617865Z",
     "iopub.status.busy": "2021-07-22T17:09:26.617865Z",
     "iopub.status.idle": "2021-07-22T17:09:26.628377Z",
     "shell.execute_reply": "2021-07-22T17:09:26.627378Z",
     "shell.execute_reply.started": "2021-07-22T17:09:26.617865Z"
    }
   },
   "outputs": [],
   "source": [
    "eqs = idx_eqlist(eqlist)\n",
    "eqv = eqvars(eqs)"
   ]
  },
  {
   "cell_type": "code",
   "execution_count": 43,
   "id": "581405cb",
   "metadata": {
    "execution": {
     "iopub.execute_input": "2021-07-22T17:10:37.103553Z",
     "iopub.status.busy": "2021-07-22T17:10:37.103553Z",
     "iopub.status.idle": "2021-07-22T17:10:37.122553Z",
     "shell.execute_reply": "2021-07-22T17:10:37.121597Z",
     "shell.execute_reply.started": "2021-07-22T17:10:37.103553Z"
    }
   },
   "outputs": [],
   "source": [
    "dout = default_out(eqs)"
   ]
  },
  {
   "cell_type": "code",
   "execution_count": 195,
   "id": "7a0f6752",
   "metadata": {
    "execution": {
     "iopub.execute_input": "2021-07-22T17:09:39.414675Z",
     "iopub.status.busy": "2021-07-22T17:09:39.414675Z",
     "iopub.status.idle": "2021-07-22T17:09:39.424678Z",
     "shell.execute_reply": "2021-07-22T17:09:39.423701Z",
     "shell.execute_reply.started": "2021-07-22T17:09:39.414675Z"
    }
   },
   "outputs": [
    {
     "data": {
      "text/plain": [
       "{c, d}"
      ]
     },
     "execution_count": 195,
     "metadata": {},
     "output_type": "execute_result"
    }
   ],
   "source": [
    "ins = getdofs(eqs)\n",
    "ins"
   ]
  },
  {
   "cell_type": "code",
   "execution_count": 196,
   "id": "fd821272",
   "metadata": {
    "execution": {
     "iopub.execute_input": "2021-07-22T17:09:43.153602Z",
     "iopub.status.busy": "2021-07-22T17:09:43.152603Z",
     "iopub.status.idle": "2021-07-22T17:09:43.168605Z",
     "shell.execute_reply": "2021-07-22T17:09:43.167598Z",
     "shell.execute_reply.started": "2021-07-22T17:09:43.153602Z"
    }
   },
   "outputs": [],
   "source": [
    "B, edge = bipartite_repr(eqv)"
   ]
  },
  {
   "cell_type": "code",
   "execution_count": 197,
   "id": "0a529297",
   "metadata": {
    "execution": {
     "iopub.execute_input": "2021-07-22T17:09:44.023618Z",
     "iopub.status.busy": "2021-07-22T17:09:44.023618Z",
     "iopub.status.idle": "2021-07-22T17:09:44.032632Z",
     "shell.execute_reply": "2021-07-22T17:09:44.031617Z",
     "shell.execute_reply.started": "2021-07-22T17:09:44.023618Z"
    }
   },
   "outputs": [],
   "source": [
    "M = nx.bipartite.maximum_matching(B)"
   ]
  },
  {
   "cell_type": "code",
   "execution_count": 204,
   "id": "d0254c0d",
   "metadata": {
    "execution": {
     "iopub.execute_input": "2021-07-22T17:10:45.394529Z",
     "iopub.status.busy": "2021-07-22T17:10:45.393511Z",
     "iopub.status.idle": "2021-07-22T17:10:45.403404Z",
     "shell.execute_reply": "2021-07-22T17:10:45.402405Z",
     "shell.execute_reply.started": "2021-07-22T17:10:45.394529Z"
    }
   },
   "outputs": [],
   "source": [
    "order = mdf_order(eqv, M)"
   ]
  },
  {
   "cell_type": "code",
   "execution_count": 205,
   "id": "c6eeeef4",
   "metadata": {
    "execution": {
     "iopub.execute_input": "2021-07-22T17:10:45.569413Z",
     "iopub.status.busy": "2021-07-22T17:10:45.568406Z",
     "iopub.status.idle": "2021-07-22T17:10:45.592405Z",
     "shell.execute_reply": "2021-07-22T17:10:45.591404Z",
     "shell.execute_reply.started": "2021-07-22T17:10:45.569413Z"
    }
   },
   "outputs": [
    {
     "data": {
      "text/plain": [
       "[1, 2, 0]"
      ]
     },
     "execution_count": 205,
     "metadata": {},
     "output_type": "execute_result"
    }
   ],
   "source": [
    "order"
   ]
  },
  {
   "cell_type": "code",
   "execution_count": 7,
   "id": "964fa5f0",
   "metadata": {
    "execution": {
     "iopub.execute_input": "2021-07-22T10:33:39.564527Z",
     "iopub.status.busy": "2021-07-22T10:33:39.563523Z",
     "iopub.status.idle": "2021-07-22T10:33:39.575524Z",
     "shell.execute_reply": "2021-07-22T10:33:39.574524Z",
     "shell.execute_reply.started": "2021-07-22T10:33:39.564527Z"
    }
   },
   "outputs": [],
   "source": [
    "solve_order = ([0,1],2)"
   ]
  },
  {
   "cell_type": "code",
   "execution_count": 10,
   "id": "1ef78ab4",
   "metadata": {},
   "outputs": [
    {
     "name": "stdout",
     "output_type": "stream",
     "text": [
      "    create group:  0.1\n",
      "    create system solver for  0.1\n",
      "      create group:  0.1.2\n",
      "      default sequential solver for  0.1.2\n",
      "        add to  0.1.2  eq:  0\n",
      "        add to  0.1.2  eq:  1\n",
      "      add to  0.1  eq:  2\n"
     ]
    }
   ],
   "source": [
    "compute_order([],solve_order);"
   ]
  },
  {
   "cell_type": "code",
   "execution_count": 69,
   "id": "b245b864",
   "metadata": {
    "execution": {
     "iopub.execute_input": "2021-07-22T10:33:40.341536Z",
     "iopub.status.busy": "2021-07-22T10:33:40.340527Z",
     "iopub.status.idle": "2021-07-22T10:33:40.686523Z",
     "shell.execute_reply": "2021-07-22T10:33:40.683520Z",
     "shell.execute_reply.started": "2021-07-22T10:33:40.341536Z"
    }
   },
   "outputs": [
    {
     "ename": "RuntimeError",
     "evalue": "'group1' <class Group>: Output name 'a' refers to multiple outputs: ['group1.eq2.a', 'group1.group2.eq1.a'].",
     "output_type": "error",
     "traceback": [
      "\u001b[1;31m---------------------------------------------------------------------------\u001b[0m",
      "\u001b[1;31mRuntimeError\u001b[0m                              Traceback (most recent call last)",
      "\u001b[1;32m<ipython-input-69-06604474d83b>\u001b[0m in \u001b[0;36m<module>\u001b[1;34m\u001b[0m\n\u001b[0;32m      3\u001b[0m \u001b[0mcounter\u001b[0m \u001b[1;33m=\u001b[0m \u001b[0mcoupled_run\u001b[0m\u001b[1;33m(\u001b[0m\u001b[0meqs\u001b[0m\u001b[1;33m,\u001b[0m \u001b[1;33m[\u001b[0m\u001b[1;33m]\u001b[0m\u001b[1;33m,\u001b[0m \u001b[0msolve_order\u001b[0m\u001b[1;33m,\u001b[0m \u001b[0mmodel\u001b[0m\u001b[1;33m,\u001b[0m \u001b[0mmodel\u001b[0m\u001b[1;33m,\u001b[0m \u001b[1;36m0\u001b[0m\u001b[1;33m)\u001b[0m\u001b[1;33m\u001b[0m\u001b[1;33m\u001b[0m\u001b[0m\n\u001b[0;32m      4\u001b[0m \u001b[0mbuildidpvars\u001b[0m\u001b[1;33m(\u001b[0m\u001b[0mins\u001b[0m\u001b[1;33m,\u001b[0m \u001b[0mmodel\u001b[0m\u001b[1;33m)\u001b[0m\u001b[1;33m\u001b[0m\u001b[1;33m\u001b[0m\u001b[0m\n\u001b[1;32m----> 5\u001b[1;33m \u001b[0mprob\u001b[0m\u001b[1;33m.\u001b[0m\u001b[0msetup\u001b[0m\u001b[1;33m(\u001b[0m\u001b[1;33m)\u001b[0m\u001b[1;33m\u001b[0m\u001b[1;33m\u001b[0m\u001b[0m\n\u001b[0m\u001b[0;32m      6\u001b[0m \u001b[0mprob\u001b[0m\u001b[1;33m.\u001b[0m\u001b[0mrun_model\u001b[0m\u001b[1;33m(\u001b[0m\u001b[1;33m)\u001b[0m\u001b[1;33m\u001b[0m\u001b[1;33m\u001b[0m\u001b[0m\n",
      "\u001b[1;32m~\\Miniconda2\\envs\\mdo\\lib\\site-packages\\openmdao\\core\\problem.py\u001b[0m in \u001b[0;36msetup\u001b[1;34m(self, check, logger, mode, force_alloc_complex, distributed_vector_class, local_vector_class, derivatives)\u001b[0m\n\u001b[0;32m    911\u001b[0m                                               \u001b[1;31m# src data for inputs)\u001b[0m\u001b[1;33m\u001b[0m\u001b[1;33m\u001b[0m\u001b[1;33m\u001b[0m\u001b[0m\n\u001b[0;32m    912\u001b[0m         }\n\u001b[1;32m--> 913\u001b[1;33m         \u001b[0mmodel\u001b[0m\u001b[1;33m.\u001b[0m\u001b[0m_setup\u001b[0m\u001b[1;33m(\u001b[0m\u001b[0mmodel_comm\u001b[0m\u001b[1;33m,\u001b[0m \u001b[0mmode\u001b[0m\u001b[1;33m,\u001b[0m \u001b[0mself\u001b[0m\u001b[1;33m.\u001b[0m\u001b[0m_metadata\u001b[0m\u001b[1;33m)\u001b[0m\u001b[1;33m\u001b[0m\u001b[1;33m\u001b[0m\u001b[0m\n\u001b[0m\u001b[0;32m    914\u001b[0m \u001b[1;33m\u001b[0m\u001b[0m\n\u001b[0;32m    915\u001b[0m         \u001b[1;31m# set static mode back to True in all systems in this Problem\u001b[0m\u001b[1;33m\u001b[0m\u001b[1;33m\u001b[0m\u001b[1;33m\u001b[0m\u001b[0m\n",
      "\u001b[1;32m~\\Miniconda2\\envs\\mdo\\lib\\site-packages\\openmdao\\core\\system.py\u001b[0m in \u001b[0;36m_setup\u001b[1;34m(self, comm, mode, prob_meta)\u001b[0m\n\u001b[0;32m    722\u001b[0m         \u001b[1;32mtry\u001b[0m\u001b[1;33m:\u001b[0m\u001b[1;33m\u001b[0m\u001b[1;33m\u001b[0m\u001b[0m\n\u001b[0;32m    723\u001b[0m             \u001b[1;31m# Recurse model from the bottom to the top for configuring.\u001b[0m\u001b[1;33m\u001b[0m\u001b[1;33m\u001b[0m\u001b[1;33m\u001b[0m\u001b[0m\n\u001b[1;32m--> 724\u001b[1;33m             \u001b[0mself\u001b[0m\u001b[1;33m.\u001b[0m\u001b[0m_configure\u001b[0m\u001b[1;33m(\u001b[0m\u001b[1;33m)\u001b[0m\u001b[1;33m\u001b[0m\u001b[1;33m\u001b[0m\u001b[0m\n\u001b[0m\u001b[0;32m    725\u001b[0m         \u001b[1;32mfinally\u001b[0m\u001b[1;33m:\u001b[0m\u001b[1;33m\u001b[0m\u001b[1;33m\u001b[0m\u001b[0m\n\u001b[0;32m    726\u001b[0m             \u001b[0mprob_meta\u001b[0m\u001b[1;33m[\u001b[0m\u001b[1;34m'config_info'\u001b[0m\u001b[1;33m]\u001b[0m \u001b[1;33m=\u001b[0m \u001b[1;32mNone\u001b[0m\u001b[1;33m\u001b[0m\u001b[1;33m\u001b[0m\u001b[0m\n",
      "\u001b[1;32m~\\Miniconda2\\envs\\mdo\\lib\\site-packages\\openmdao\\core\\group.py\u001b[0m in \u001b[0;36m_configure\u001b[1;34m(self)\u001b[0m\n\u001b[0;32m    470\u001b[0m         \u001b[1;32mfor\u001b[0m \u001b[0msubsys\u001b[0m \u001b[1;32min\u001b[0m \u001b[0mself\u001b[0m\u001b[1;33m.\u001b[0m\u001b[0m_subsystems_myproc\u001b[0m\u001b[1;33m:\u001b[0m\u001b[1;33m\u001b[0m\u001b[1;33m\u001b[0m\u001b[0m\n\u001b[0;32m    471\u001b[0m             \u001b[0msubsys\u001b[0m\u001b[1;33m.\u001b[0m\u001b[0m_configure\u001b[0m\u001b[1;33m(\u001b[0m\u001b[1;33m)\u001b[0m\u001b[1;33m\u001b[0m\u001b[1;33m\u001b[0m\u001b[0m\n\u001b[1;32m--> 472\u001b[1;33m             \u001b[0msubsys\u001b[0m\u001b[1;33m.\u001b[0m\u001b[0m_setup_var_data\u001b[0m\u001b[1;33m(\u001b[0m\u001b[1;33m)\u001b[0m\u001b[1;33m\u001b[0m\u001b[1;33m\u001b[0m\u001b[0m\n\u001b[0m\u001b[0;32m    473\u001b[0m \u001b[1;33m\u001b[0m\u001b[0m\n\u001b[0;32m    474\u001b[0m             \u001b[0mself\u001b[0m\u001b[1;33m.\u001b[0m\u001b[0m_has_guess\u001b[0m \u001b[1;33m|=\u001b[0m \u001b[0msubsys\u001b[0m\u001b[1;33m.\u001b[0m\u001b[0m_has_guess\u001b[0m\u001b[1;33m\u001b[0m\u001b[1;33m\u001b[0m\u001b[0m\n",
      "\u001b[1;32m~\\Miniconda2\\envs\\mdo\\lib\\site-packages\\openmdao\\core\\group.py\u001b[0m in \u001b[0;36m_setup_var_data\u001b[1;34m(self)\u001b[0m\n\u001b[0;32m   1087\u001b[0m         \u001b[1;32mfor\u001b[0m \u001b[0mprom_name\u001b[0m\u001b[1;33m,\u001b[0m \u001b[0mabs_list\u001b[0m \u001b[1;32min\u001b[0m \u001b[0mallprocs_prom2abs_list\u001b[0m\u001b[1;33m[\u001b[0m\u001b[1;34m'output'\u001b[0m\u001b[1;33m]\u001b[0m\u001b[1;33m.\u001b[0m\u001b[0mitems\u001b[0m\u001b[1;33m(\u001b[0m\u001b[1;33m)\u001b[0m\u001b[1;33m:\u001b[0m\u001b[1;33m\u001b[0m\u001b[1;33m\u001b[0m\u001b[0m\n\u001b[0;32m   1088\u001b[0m             \u001b[1;32mif\u001b[0m \u001b[0mlen\u001b[0m\u001b[1;33m(\u001b[0m\u001b[0mabs_list\u001b[0m\u001b[1;33m)\u001b[0m \u001b[1;33m>\u001b[0m \u001b[1;36m1\u001b[0m\u001b[1;33m:\u001b[0m\u001b[1;33m\u001b[0m\u001b[1;33m\u001b[0m\u001b[0m\n\u001b[1;32m-> 1089\u001b[1;33m                 raise RuntimeError(\"{}: Output name '{}' refers to \"\n\u001b[0m\u001b[0;32m   1090\u001b[0m                                    \"multiple outputs: {}.\".format(self.msginfo, prom_name,\n\u001b[0;32m   1091\u001b[0m                                                                   sorted(abs_list)))\n",
      "\u001b[1;31mRuntimeError\u001b[0m: 'group1' <class Group>: Output name 'a' refers to multiple outputs: ['group1.eq2.a', 'group1.group2.eq1.a']."
     ]
    }
   ],
   "source": [
    "prob = om.Problem()\n",
    "model = prob.model\n",
    "counter = coupled_run(eqs, [], solve_order, model, model, 0)\n",
    "buildidpvars(ins, model)\n",
    "prob.setup()\n",
    "prob.run_model()"
   ]
  },
  {
   "cell_type": "code",
   "execution_count": 112,
   "id": "3a77da27",
   "metadata": {
    "execution": {
     "iopub.execute_input": "2021-07-22T16:13:07.897752Z",
     "iopub.status.busy": "2021-07-22T16:13:07.896755Z",
     "iopub.status.idle": "2021-07-22T16:13:07.934714Z",
     "shell.execute_reply": "2021-07-22T16:13:07.933712Z",
     "shell.execute_reply.started": "2021-07-22T16:13:07.897752Z"
    }
   },
   "outputs": [
    {
     "data": {
      "text/latex": [
       "$\\displaystyle b - c - 1$"
      ],
      "text/plain": [
       "b - c - 1"
      ]
     },
     "execution_count": 112,
     "metadata": {},
     "output_type": "execute_result"
    }
   ],
   "source": [
    "(b-(c+1))"
   ]
  },
  {
   "cell_type": "code",
   "execution_count": 114,
   "id": "9c6c832b",
   "metadata": {
    "execution": {
     "iopub.execute_input": "2021-07-22T16:14:42.163840Z",
     "iopub.status.busy": "2021-07-22T16:14:42.163840Z",
     "iopub.status.idle": "2021-07-22T16:14:42.174839Z",
     "shell.execute_reply": "2021-07-22T16:14:42.173842Z",
     "shell.execute_reply.started": "2021-07-22T16:14:42.163840Z"
    }
   },
   "outputs": [],
   "source": [
    "ev = Evaluable.fromsympy(b-(c+1))"
   ]
  },
  {
   "cell_type": "code",
   "execution_count": 116,
   "id": "812b2e8d",
   "metadata": {
    "execution": {
     "iopub.execute_input": "2021-07-22T16:15:07.537731Z",
     "iopub.status.busy": "2021-07-22T16:15:07.536731Z",
     "iopub.status.idle": "2021-07-22T16:15:07.550733Z",
     "shell.execute_reply": "2021-07-22T16:15:07.548737Z",
     "shell.execute_reply.started": "2021-07-22T16:15:07.537731Z"
    }
   },
   "outputs": [
    {
     "data": {
      "text/plain": [
       "-2"
      ]
     },
     "execution_count": 116,
     "metadata": {},
     "output_type": "execute_result"
    }
   ],
   "source": [
    "ev.evaldict({'b':1,'c':2})"
   ]
  },
  {
   "cell_type": "code",
   "execution_count": 96,
   "id": "09829cbb",
   "metadata": {
    "execution": {
     "iopub.execute_input": "2021-07-22T14:13:10.012583Z",
     "iopub.status.busy": "2021-07-22T14:13:10.011580Z",
     "iopub.status.idle": "2021-07-22T14:13:10.039578Z",
     "shell.execute_reply": "2021-07-22T14:13:10.038604Z",
     "shell.execute_reply.started": "2021-07-22T14:13:10.012583Z"
    }
   },
   "outputs": [
    {
     "data": {
      "text/plain": [
       "array([-5., -3., -4.])"
      ]
     },
     "execution_count": 96,
     "metadata": {},
     "output_type": "execute_result"
    }
   ],
   "source": [
    "A = np.array([[0, 1, -1],[1, -1, 0],[1, 0, -2]])\n",
    "B = np.array([1, -2, 3])\n",
    "np.linalg.solve(A, B)"
   ]
  },
  {
   "cell_type": "code",
   "execution_count": 160,
   "id": "ae42b436",
   "metadata": {
    "execution": {
     "iopub.execute_input": "2021-07-22T16:47:20.391336Z",
     "iopub.status.busy": "2021-07-22T16:47:20.391336Z",
     "iopub.status.idle": "2021-07-22T16:47:20.415328Z",
     "shell.execute_reply": "2021-07-22T16:47:20.414325Z",
     "shell.execute_reply.started": "2021-07-22T16:47:20.391336Z"
    }
   },
   "outputs": [],
   "source": [
    "residuals = [Evaluable.fromsympy(left-right) for key,(left,right) in eqs.items()]\n",
    "vrs = [str(elt) for elt in set().union(*eqvars(eqs).values())]"
   ]
  },
  {
   "cell_type": "code",
   "execution_count": null,
   "id": "9277dd96",
   "metadata": {},
   "outputs": [],
   "source": [
    "# create a group that only promotes the input/output variables and keep x hidden"
   ]
  },
  {
   "cell_type": "code",
   "execution_count": 164,
   "id": "f01c7030",
   "metadata": {
    "execution": {
     "iopub.execute_input": "2021-07-22T16:47:58.467647Z",
     "iopub.status.busy": "2021-07-22T16:47:58.466650Z",
     "iopub.status.idle": "2021-07-22T16:47:58.516648Z",
     "shell.execute_reply": "2021-07-22T16:47:58.514652Z",
     "shell.execute_reply.started": "2021-07-22T16:47:58.467647Z"
    }
   },
   "outputs": [
    {
     "name": "stdout",
     "output_type": "stream",
     "text": [
      "NL: Newton Converged in 1 iterations\n",
      "[-4. -3. -5.]\n"
     ]
    }
   ],
   "source": [
    "class ImpWithInitial(om.ImplicitComponent):\n",
    "    def initialize(self):\n",
    "        self.options.declare('equations')\n",
    "        self.options.declare('vrs')\n",
    "        \n",
    "    def setup(self):\n",
    "        eqs = self.options[\"equations\"]\n",
    "        vrs = self.options[\"vrs\"]\n",
    "        self.add_output('x', val=0.1*np.ones(len(eqs)))\n",
    "        self.declare_partials(of='*', wrt='*')\n",
    "\n",
    "    def apply_nonlinear(self, inputs, outputs, residuals):\n",
    "        eqs = self.options[\"equations\"]\n",
    "        vrs = self.options[\"vrs\"]\n",
    "        d = {elt: outputs['x'][idx] for idx,elt in enumerate(vrs)}\n",
    "        residuals['x'] = np.array([eq.evaldict(d) for eq in eqs])\n",
    "        \n",
    "    def linearize(self, inputs, outputs, partials):\n",
    "        eqs = self.options[\"equations\"]\n",
    "        vrs = self.options[\"vrs\"]\n",
    "        d = {elt: outputs['x'][idx] for idx,elt in enumerate(vrs)}\n",
    "        n = len(vrs)\n",
    "        p = np.zeros((n, n))\n",
    "        for eqidx, eq in enumerate(eqs):\n",
    "            J = eq.graddict(d)\n",
    "            for i,var in enumerate(J):\n",
    "                idx = vrs.index(eq.input_names[i])\n",
    "                p[eqidx, idx] = var\n",
    "        partials['x', 'x'] = p\n",
    "\n",
    "        #self.inv_jac = 1.0 / (2 * a * x + b)\n",
    "        \n",
    "class Demux(om.ExplicitComponent):\n",
    "    def setup(self):\n",
    "        self.add_input('x', val=np.array([0.0,0.0,0.0]))\n",
    "        self.add_output('a', val=0.0)\n",
    "        self.add_output('b', val=0.0)\n",
    "        self.add_output('c', val=0.0)\n",
    "\n",
    "    def setup_partials(self):\n",
    "        # Finite difference all partials.\n",
    "        self.declare_partials('*', '*', method='fd')\n",
    "\n",
    "    def compute(self, inputs, outputs):\n",
    "        outputs['a'],outputs['b'],outputs['c'] = inputs['x']\n",
    "\n",
    "prob = om.Problem()\n",
    "model = prob.model\n",
    "\n",
    "model.add_subsystem('comp', ImpWithInitial(equations = residuals, vrs=vrs), promotes=['*'])\n",
    "model.nonlinear_solver = om.NewtonSolver(solve_subsystems=False)\n",
    "model.linear_solver = om.ScipyKrylov()\n",
    "\n",
    "prob.setup()\n",
    "prob.run_model()\n",
    "\n",
    "print(prob.get_val('comp.x'))"
   ]
  },
  {
   "cell_type": "code",
   "execution_count": 1,
   "id": "e79b35dc",
   "metadata": {
    "execution": {
     "iopub.execute_input": "2021-07-26T13:02:32.799652Z",
     "iopub.status.busy": "2021-07-26T13:02:32.786651Z",
     "iopub.status.idle": "2021-07-26T13:02:33.508653Z",
     "shell.execute_reply": "2021-07-26T13:02:33.505651Z",
     "shell.execute_reply.started": "2021-07-26T13:02:32.792651Z"
    }
   },
   "outputs": [
    {
     "ename": "NameError",
     "evalue": "name 'model' is not defined",
     "output_type": "error",
     "traceback": [
      "\u001b[1;31m---------------------------------------------------------------------------\u001b[0m",
      "\u001b[1;31mNameError\u001b[0m                                 Traceback (most recent call last)",
      "\u001b[1;32m<ipython-input-1-35d37e8e6cb1>\u001b[0m in \u001b[0;36m<module>\u001b[1;34m\u001b[0m\n\u001b[1;32m----> 1\u001b[1;33m \u001b[0mmodel\u001b[0m\u001b[1;33m.\u001b[0m\u001b[0mlist_outputs\u001b[0m\u001b[1;33m(\u001b[0m\u001b[1;33m)\u001b[0m\u001b[1;33m\u001b[0m\u001b[1;33m\u001b[0m\u001b[0m\n\u001b[0m",
      "\u001b[1;31mNameError\u001b[0m: name 'model' is not defined"
     ]
    }
   ],
   "source": [
    "model.list_outputs()"
   ]
  },
  {
   "cell_type": "code",
   "execution_count": null,
   "id": "89b0c71c",
   "metadata": {},
   "outputs": [],
   "source": []
  }
 ],
 "metadata": {
  "kernelspec": {
   "display_name": "minimdo",
   "language": "python",
   "name": "python3"
  },
  "language_info": {
   "codemirror_mode": {
    "name": "ipython",
    "version": 3
   },
   "file_extension": ".py",
   "mimetype": "text/x-python",
   "name": "python",
   "nbconvert_exporter": "python",
   "pygments_lexer": "ipython3",
   "version": "3.9.12"
  }
 },
 "nbformat": 4,
 "nbformat_minor": 5
}
