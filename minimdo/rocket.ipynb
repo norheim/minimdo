{
 "cells": [
  {
   "cell_type": "code",
   "execution_count": 44,
   "id": "8d1667a2",
   "metadata": {
    "execution": {
     "iopub.execute_input": "2022-03-31T23:50:32.625718Z",
     "iopub.status.busy": "2022-03-31T23:50:32.625718Z",
     "iopub.status.idle": "2022-03-31T23:50:32.637035Z",
     "shell.execute_reply": "2022-03-31T23:50:32.636644Z",
     "shell.execute_reply.started": "2022-03-31T23:50:32.625718Z"
    },
    "tags": []
   },
   "outputs": [],
   "source": [
    "from compute import Model, Var, Par, RefNode, adda, addsolver, ureg, get_unit, buildidpvars, coupled_run, Evaluable, args_in_order, fill_args, unit_conversion_factors, evaluable_with_unit\n",
    "from compute import geteqs\n",
    "from inputresolver import reassigneq, eqvars, eqsonly, default_out, mdf_order, default_in, idx_eqlist\n",
    "from inputresolver import getallvars, invert_edges, resolve, reassign, flatten_order\n",
    "from notation import graphs_from_incidence, make_acyclic, solvers_bottom_up, generate_execution, default_sequence\n",
    "from representations import bipartite_repr, drawbipartite, digraph_repr, draw, draw_dsm, render_tree, tree_incidence\n",
    "from compute_utils import get_outputs, check_eqs, print_out\n",
    "from partitioner import default_out_condensation, merge\n",
    "from pprint import pprint\n",
    "import networkx as nx\n",
    "import sympy as sp\n",
    "from sympy.utilities.lambdify import implemented_function\n",
    "import numpy as np\n",
    "from scipy import interpolate\n",
    "import openmdao.api as om\n",
    "#import gpkit as gp\n",
    "#import cvxpy as cp\n",
    "import matplotlib.patches as patches\n",
    "import matplotlib.pyplot as plt"
   ]
  },
  {
   "cell_type": "code",
   "execution_count": 49,
   "id": "07b02879-8c4a-4ee1-9fde-ed117488d158",
   "metadata": {
    "execution": {
     "iopub.execute_input": "2022-03-31T23:53:18.552755Z",
     "iopub.status.busy": "2022-03-31T23:53:18.552755Z",
     "iopub.status.idle": "2022-03-31T23:53:18.556401Z",
     "shell.execute_reply": "2022-03-31T23:53:18.555756Z",
     "shell.execute_reply.started": "2022-03-31T23:53:18.552755Z"
    },
    "tags": []
   },
   "outputs": [],
   "source": [
    "model = Model()\n",
    "m = RefNode(name='/', ref=model)\n",
    "loop = addsolver(m, [], [], name='loop')"
   ]
  },
  {
   "cell_type": "code",
   "execution_count": 50,
   "id": "eea9e213",
   "metadata": {
    "execution": {
     "iopub.execute_input": "2022-03-31T23:53:33.860730Z",
     "iopub.status.busy": "2022-03-31T23:53:33.860730Z",
     "iopub.status.idle": "2022-03-31T23:53:33.894885Z",
     "shell.execute_reply": "2022-03-31T23:53:33.893932Z",
     "shell.execute_reply.started": "2022-03-31T23:53:33.860730Z"
    },
    "tags": []
   },
   "outputs": [],
   "source": [
    "m_l1 = Par('m_l1', 100, 'kg')\n",
    "m_l2 = Par('m_l2', 100, 'kg')\n",
    "m_l3 = Par('m_l3', 100, 'kg')\n",
    "m_s1 = Par('m_s1', 10, 'kg')\n",
    "m_s2 = Par('m_s2', 10, 'kg')\n",
    "m_t = Var('m_t', unit='kg')\n",
    "v_exh = Par('v_e', 4000, 'm/s')\n",
    "alpha = Par('alpha', 0.1)\n",
    "m_s3 = adda(loop, 'm_s3', alpha*m_t)\n",
    "adda(loop, m_t, m_l1+m_s1+m_l2+m_s2+m_l3+m_s3)\n",
    "m_i1 = adda(m, 'm_i1', m_t)\n",
    "m_f1 = adda(m, 'm_f1', m_i1-m_l1)\n",
    "dv1 = adda(m, '\\\\Delta v_1', v_exh*sp.log(m_i1/m_f1))\n",
    "m_i2 = adda(m, 'm_i2', m_f1-m_s1)\n",
    "m_f2 = adda(m, 'm_f2', m_i2-m_l2)\n",
    "dv2 = adda(m, '\\\\Delta v_2', v_exh*sp.log(m_i2/m_f2))\n",
    "m_i3 = adda(m, 'm_i3', m_f2-m_s2)\n",
    "m_f3 = adda(m, 'm_f3', m_i3-m_l3)\n",
    "dv3 = adda(m, '\\\\Delta v_3', v_exh*sp.log(m_i3/m_f3))\n",
    "dvtot = adda(m, 'Delta_v', dv1+dv2+dv3)"
   ]
  },
  {
   "cell_type": "code",
   "execution_count": 51,
   "id": "d8f19e12-84c6-4dc3-a835-ee03e35b08a4",
   "metadata": {
    "execution": {
     "iopub.execute_input": "2022-03-31T23:53:37.442891Z",
     "iopub.status.busy": "2022-03-31T23:53:37.441892Z",
     "iopub.status.idle": "2022-03-31T23:53:37.464352Z",
     "shell.execute_reply": "2022-03-31T23:53:37.463852Z",
     "shell.execute_reply.started": "2022-03-31T23:53:37.442891Z"
    },
    "tags": []
   },
   "outputs": [
    {
     "name": "stdout",
     "output_type": "stream",
     "text": [
      "/               \n",
      "├── loop        \n",
      "│   ├── f_{0}   \n",
      "│   └── f_{1}   \n",
      "├── f_{2}       \n",
      "├── f_{3}       \n",
      "├── f_{4}       \n",
      "├── f_{5}       \n",
      "├── f_{6}       \n",
      "├── f_{7}       \n",
      "├── f_{8}       \n",
      "├── f_{9}       \n",
      "├── f_{10}      \n",
      "└── f_{11}      \n"
     ]
    }
   ],
   "source": [
    "render_tree(m)"
   ]
  },
  {
   "cell_type": "code",
   "execution_count": 52,
   "id": "9975900b",
   "metadata": {
    "execution": {
     "iopub.execute_input": "2022-03-31T23:53:40.207026Z",
     "iopub.status.busy": "2022-03-31T23:53:40.207026Z",
     "iopub.status.idle": "2022-03-31T23:53:40.221743Z",
     "shell.execute_reply": "2022-03-31T23:53:40.221129Z",
     "shell.execute_reply.started": "2022-03-31T23:53:40.207026Z"
    },
    "tags": []
   },
   "outputs": [],
   "source": [
    "eqs, eqv, dout, dins = model.data_structures()\n",
    "sequence_m = default_sequence(m)"
   ]
  },
  {
   "cell_type": "code",
   "execution_count": 53,
   "id": "f2bba857-c6c7-4954-a7b2-f21bfc91c284",
   "metadata": {
    "execution": {
     "iopub.execute_input": "2022-03-31T23:53:40.897743Z",
     "iopub.status.busy": "2022-03-31T23:53:40.896744Z",
     "iopub.status.idle": "2022-03-31T23:53:42.166766Z",
     "shell.execute_reply": "2022-03-31T23:53:42.166280Z",
     "shell.execute_reply.started": "2022-03-31T23:53:40.897743Z"
    },
    "tags": []
   },
   "outputs": [
    {
     "data": {
      "image/png": "[encoded data removed]",
      "text/plain": [
       "<Figure size 432x432 with 1 Axes>"
      ]
     },
     "metadata": {
      "needs_background": "light"
     },
     "output_type": "display_data"
    }
   ],
   "source": [
    "fig, ax = tree_incidence(m, eqv, model.outset, sequence_m, figsize=(6,6), showtree=False, pad=0);\n",
    "plt.sca(ax)\n",
    "plt.savefig('figures/rocket.png', dpi=600, bbox_inches='tight')"
   ]
  },
  {
   "cell_type": "code",
   "execution_count": 4,
   "id": "871ca723",
   "metadata": {
    "execution": {
     "iopub.execute_input": "2021-10-20T16:59:18.843641Z",
     "iopub.status.busy": "2021-10-20T16:59:18.842640Z",
     "iopub.status.idle": "2021-10-20T16:59:18.854640Z",
     "shell.execute_reply": "2021-10-20T16:59:18.853640Z",
     "shell.execute_reply.started": "2021-10-20T16:59:18.843641Z"
    }
   },
   "outputs": [],
   "source": [
    "eqs = idx_eqlist(alleqs)\n",
    "eqv = eqvars(eqs)\n",
    "dout = default_out(eqs)\n",
    "dins = default_in(eqs, count_never_output=False)"
   ]
  },
  {
   "cell_type": "code",
   "execution_count": 5,
   "id": "f976c3c9",
   "metadata": {
    "execution": {
     "iopub.execute_input": "2021-10-20T16:59:18.857652Z",
     "iopub.status.busy": "2021-10-20T16:59:18.857652Z",
     "iopub.status.idle": "2021-10-20T16:59:18.871645Z",
     "shell.execute_reply": "2021-10-20T16:59:18.869642Z",
     "shell.execute_reply.started": "2021-10-20T16:59:18.857652Z"
    }
   },
   "outputs": [],
   "source": [
    "eqv_noparams = {elt:{key for key in keys if not key.never_output} for elt,keys in eqv.items()}\n",
    "DG, edges = digraph_repr(eqv_noparams, dout, intermediary=False)"
   ]
  },
  {
   "cell_type": "code",
   "execution_count": 9,
   "id": "21723202",
   "metadata": {
    "execution": {
     "iopub.execute_input": "2021-10-20T17:00:39.040251Z",
     "iopub.status.busy": "2021-10-20T17:00:39.039244Z",
     "iopub.status.idle": "2021-10-20T17:00:45.906244Z",
     "shell.execute_reply": "2021-10-20T17:00:45.905245Z",
     "shell.execute_reply.started": "2021-10-20T17:00:39.040251Z"
    }
   },
   "outputs": [
    {
     "data": {
      "image/png": "[encoded data removed]",
      "text/plain": [
       "<Figure size 504x504 with 1 Axes>"
      ]
     },
     "metadata": {
      "needs_background": "light"
     },
     "output_type": "display_data"
    }
   ],
   "source": [
    "order = mdf_order(eqv, dout)\n",
    "plt.figure(figsize=(7,7))\n",
    "ax = draw_dsm(DG, flatten_order(order), dout,  fontsize=22)\n",
    "#rect2 = patches.Rectangle((22, 22), 2, 2, linewidth=2, edgecolor='k', facecolor='none')\n",
    "# Add the patch to the Axes\n",
    "#ax.add_patch(rect2);\n",
    "plt.savefig('rocket.png', dpi=600)"
   ]
  },
  {
   "cell_type": "code",
   "execution_count": 81,
   "id": "11168264",
   "metadata": {
    "execution": {
     "iopub.execute_input": "2021-10-20T16:39:59.549730Z",
     "iopub.status.busy": "2021-10-20T16:39:59.549730Z",
     "iopub.status.idle": "2021-10-20T16:39:59.733731Z",
     "shell.execute_reply": "2021-10-20T16:39:59.731734Z",
     "shell.execute_reply.started": "2021-10-20T16:39:59.549730Z"
    }
   },
   "outputs": [
    {
     "name": "stdout",
     "output_type": "stream",
     "text": [
      "eq0 m_s3 alpha*m_t None\n",
      "eq1 m_t m_l1 + m_l2 + m_l3 + m_s1 + m_s2 + m_s3 None\n",
      "eq2 m_i1 m_t None\n",
      "eq3 m_f1 m_i1 - m_l1 None\n",
      "eq5 m_i2 m_f1 - m_s1 None\n",
      "eq6 m_f2 m_i2 - m_l2 None\n",
      "eq8 m_i3 m_f2 - m_s2 None\n",
      "eq9 m_f3 m_i3 - m_l3 None\n",
      "eq10 Delta_3 v_e*log(m_i3/m_f3) None\n",
      "eq7 Delta_2 v_e*log(m_i2/m_f2) None\n",
      "eq4 Delta_1 v_e*log(m_i1/m_f1) None\n",
      "eq11 Delta_v Delta_1 + Delta_2 + Delta_3 None\n",
      "m_s3 [0.6]\n",
      "m_t [320.6]\n",
      "m_s3 [192.36]\n",
      "m_t [320.6]\n",
      "m_s3 [480.]\n",
      "m_t [800.]\n",
      "m_s3 [480.]\n",
      "m_t [800.]\n",
      "m_i1 [800.]\n",
      "m_f1 [700.]\n",
      "m_i2 [690.]\n",
      "m_f2 [590.]\n",
      "m_i3 [580.]\n",
      "m_f3 [480.]\n",
      "Delta_3 [756.96799855]\n",
      "Delta_2 [626.27624277]\n",
      "Delta_1 [534.1255705]\n",
      "Delta_v [1917.36981182]\n"
     ]
    }
   ],
   "source": [
    "prob = om.Problem()\n",
    "model = prob.model\n",
    "dins = default_in(eqs)\n",
    "buildidpvars(dins, model)\n",
    "counter = coupled_run(eqs, order, (), model, model, debug=True)\n",
    "prob.setup()\n",
    "prob.set_solver_print(level=0)\n",
    "prob.set_val('alpha', 0.6)\n",
    "prob.run_model()"
   ]
  },
  {
   "cell_type": "code",
   "execution_count": 74,
   "id": "1f3a35f6",
   "metadata": {
    "execution": {
     "iopub.execute_input": "2021-10-20T16:36:16.000551Z",
     "iopub.status.busy": "2021-10-20T16:36:16.000551Z",
     "iopub.status.idle": "2021-10-20T16:36:16.029542Z",
     "shell.execute_reply": "2021-10-20T16:36:16.028539Z",
     "shell.execute_reply.started": "2021-10-20T16:36:16.000551Z"
    }
   },
   "outputs": [
    {
     "name": "stdout",
     "output_type": "stream",
     "text": [
      "18 Explicit Output(s) in 'model'\n",
      "\n",
      "varname      val            \n",
      "-----------  ---------------\n",
      "inp\n",
      "  m_s1       [10.]          \n",
      "  m_s2       [10.]          \n",
      "  v_e        [4000.]        \n",
      "  m_l2       [100.]         \n",
      "  m_l3       [100.]         \n",
      "  m_l1       [100.]         \n",
      "group1\n",
      "  group2\n",
      "    eq0\n",
      "      m_s3   [35.55555556]  \n",
      "    eq1\n",
      "      m_t    [355.55555556] \n",
      "  eq2\n",
      "    m_i1     [355.55555556] \n",
      "  eq3\n",
      "    m_f1     [255.55555556] \n",
      "  eq5\n",
      "    m_i2     [245.55555556] \n",
      "  eq6\n",
      "    m_f2     [145.55555556] \n",
      "  eq8\n",
      "    m_i3     [135.55555556] \n",
      "  eq9\n",
      "    m_f3     [35.55555556]  \n",
      "  eq10\n",
      "    Delta_3  [5353.14056773]\n",
      "  eq7\n",
      "    Delta_2  [2091.86151327]\n",
      "  eq4\n",
      "    Delta_1  [1320.96674748]\n",
      "  eq11\n",
      "    Delta_v  [8765.96882848]\n",
      "\n",
      "\n",
      "0 Implicit Output(s) in 'model'\n",
      "\n",
      "\n"
     ]
    }
   ],
   "source": [
    "model.list_outputs();"
   ]
  },
  {
   "cell_type": "code",
   "execution_count": null,
   "id": "11e466f9",
   "metadata": {},
   "outputs": [],
   "source": []
  }
 ],
 "metadata": {
  "kernelspec": {
   "display_name": "Python [conda env:mdo]",
   "language": "python",
   "name": "conda-env-mdo-py"
  },
  "language_info": {
   "codemirror_mode": {
    "name": "ipython",
    "version": 3
   },
   "file_extension": ".py",
   "mimetype": "text/x-python",
   "name": "python",
   "nbconvert_exporter": "python",
   "pygments_lexer": "ipython3",
   "version": "3.9.13"
  }
 },
 "nbformat": 4,
 "nbformat_minor": 5
}
