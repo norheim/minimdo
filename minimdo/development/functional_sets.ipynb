{
 "cells": [
  {
   "cell_type": "markdown",
   "metadata": {},
   "source": [
    "# Projectable set"
   ]
  },
  {
   "cell_type": "code",
   "execution_count": 1,
   "metadata": {},
   "outputs": [],
   "source": [
    "from modeling.execution import Component\n",
    "from modeling.api import Var\n",
    "from modeling.couplingapi import Subproblem, intersection\n",
    "from foundations.functionalsets import ResidualSet\n",
    "from foundations.functionalsets import EliminationSet\n",
    "from foundations.functionalsets import EliminationKeepSet\n",
    "from foundations.functionalsets import Functional\n",
    "from foundations.functionalsets import DefaultResidualSolver\n",
    "from foundations.functionalsets import FeedForwardSolver\n",
    "from foundations.functionalsets import FunctionalComp\n",
    "from modeling.transformations import flatten_component\n",
    "import numpy as np"
   ]
  },
  {
   "cell_type": "code",
   "execution_count": 2,
   "metadata": {},
   "outputs": [],
   "source": [
    "x_1, x_2, x_3, x_4, x_5 = Var('x_1'), Var('x_2'), Var('x_3'), Var('x_4'), Var('x_5')\n",
    "# residuals:\n",
    "#x_1**3 + x_2**3 + x_3**3-3, x_1*x_2*x_3*x_5 - 1\n",
    "eq1 = Component.fromsympy(x_2**2 + x_3**2-2, arg_mapping=True) \n",
    "eq2 = Component.fromsympy(x_2*x_3*x_5 - 1, arg_mapping=True)\n",
    "S1 = ResidualSet([eq1, eq2])"
   ]
  },
  {
   "cell_type": "markdown",
   "metadata": {},
   "source": [
    "## Transform to functional"
   ]
  },
  {
   "cell_type": "code",
   "execution_count": 3,
   "metadata": {},
   "outputs": [],
   "source": [
    "projected = (x_5,)\n",
    "F1 = S1.project(projected)\n",
    "solver = F1.solver = DefaultResidualSolver(F1) # uses the residual representation\n",
    "\n",
    "# Alternative 1\n",
    "F_eq2_x2 = ResidualSet([eq2]).project((x_3, x_5))\n",
    "F_eq1_x3 = EliminationSet([eq1], eliminate=F_eq2_x2).project()\n",
    "F_elim = EliminationKeepSet([eq1], eliminate=F_eq2_x2).project((x_5,))\n",
    "# Alternative 2\n",
    "# Sometimes this will be equivalent to DefaultResidualSolver, but not always\n",
    "# F1.solver = CoupledSolver(F_eq1.solve, F_eq2.solve) "
   ]
  },
  {
   "cell_type": "code",
   "execution_count": 4,
   "metadata": {},
   "outputs": [
    {
     "data": {
      "text/plain": [
       "{x_3: 1.3660254037844386, x_2: 0.36602540378443865}"
      ]
     },
     "execution_count": 4,
     "metadata": {},
     "output_type": "execute_result"
    }
   ],
   "source": [
    "F_elim.solve({x_5: 2})"
   ]
  },
  {
   "cell_type": "code",
   "execution_count": 5,
   "metadata": {},
   "outputs": [],
   "source": [
    "F_eq2_x2.solve({x_3:1, x_5:2})\n",
    "# TODO : make this work\n",
    "out1 = F_eq1_x3.solve({x_5: 2})"
   ]
  },
  {
   "cell_type": "code",
   "execution_count": 6,
   "metadata": {},
   "outputs": [
    {
     "data": {
      "text/plain": [
       "{x_3: 1.3660254037844382, x_2: 0.36602540378443876}"
      ]
     },
     "execution_count": 6,
     "metadata": {},
     "output_type": "execute_result"
    }
   ],
   "source": [
    "out2 = F_eq2_x2.solve({**out1, x_5:2})\n",
    "{**out1, **out2}"
   ]
  },
  {
   "cell_type": "code",
   "execution_count": 7,
   "metadata": {},
   "outputs": [
    {
     "data": {
      "text/plain": [
       "(x_3, x_2)"
      ]
     },
     "execution_count": 7,
     "metadata": {},
     "output_type": "execute_result"
    }
   ],
   "source": [
    "F1.independent"
   ]
  },
  {
   "cell_type": "code",
   "execution_count": 8,
   "metadata": {},
   "outputs": [
    {
     "data": {
      "text/plain": [
       "array([-2, -1])"
      ]
     },
     "execution_count": 8,
     "metadata": {},
     "output_type": "execute_result"
    }
   ],
   "source": [
    "y1 = {x_1:1, x_4:1, x_5:2}\n",
    "rescalc = solver.generate_residual_vector(y1) \n",
    "rescalc(np.array([0, 0]))"
   ]
  },
  {
   "cell_type": "code",
   "execution_count": 9,
   "metadata": {},
   "outputs": [],
   "source": [
    "out = solver.solve(y1)"
   ]
  },
  {
   "cell_type": "code",
   "execution_count": 10,
   "metadata": {},
   "outputs": [
    {
     "data": {
      "text/plain": [
       "{x_3: 1.3660254037844388, x_2: 0.3660254037844391}"
      ]
     },
     "execution_count": 10,
     "metadata": {},
     "output_type": "execute_result"
    }
   ],
   "source": [
    "out"
   ]
  },
  {
   "cell_type": "code",
   "execution_count": 11,
   "metadata": {},
   "outputs": [
    {
     "data": {
      "text/plain": [
       "array([8.88178420e-16, 1.33226763e-15])"
      ]
     },
     "execution_count": 11,
     "metadata": {},
     "output_type": "execute_result"
    }
   ],
   "source": [
    "solver.generate_residual(y1)(out)"
   ]
  },
  {
   "cell_type": "markdown",
   "metadata": {},
   "source": [
    "## And a raw functional"
   ]
  },
  {
   "cell_type": "code",
   "execution_count": 12,
   "metadata": {},
   "outputs": [],
   "source": [
    "def black_box(x3, x2,x5):\n",
    "    x1 = (x3**2+x2**2+1)**0.5\n",
    "    x4 = 10+x2+x3-x1-x5\n",
    "    return x1, x4\n",
    "eq3 = Component(black_box, (x_3,x_2,x_5), (x_1,x_4), arg_mapping=True)\n",
    "F2 = FunctionalComp(eq3)\n",
    "#F2.add_component(residual)"
   ]
  },
  {
   "cell_type": "code",
   "execution_count": 13,
   "metadata": {},
   "outputs": [],
   "source": [
    "y2 = {x_3: 1, x_2: 1, x_5:2}\n",
    "out = F2.solve(y2)"
   ]
  },
  {
   "cell_type": "code",
   "execution_count": 14,
   "metadata": {},
   "outputs": [
    {
     "data": {
      "text/plain": [
       "{x_1: 1.7320508075688772, x_4: 8.267949192431123}"
      ]
     },
     "execution_count": 14,
     "metadata": {},
     "output_type": "execute_result"
    }
   ],
   "source": [
    "out"
   ]
  },
  {
   "cell_type": "markdown",
   "metadata": {},
   "source": [
    "### What if we turned the black box into a residual and solve the residual?"
   ]
  },
  {
   "cell_type": "code",
   "execution_count": 15,
   "metadata": {},
   "outputs": [],
   "source": [
    "residual = flatten_component(eq3)\n",
    "projectable = ResidualSet([residual])"
   ]
  },
  {
   "cell_type": "code",
   "execution_count": 16,
   "metadata": {},
   "outputs": [
    {
     "data": {
      "text/plain": [
       "array([0., 0.])"
      ]
     },
     "execution_count": 16,
     "metadata": {},
     "output_type": "execute_result"
    }
   ],
   "source": [
    "residual.evaldict({**out, **y2})"
   ]
  },
  {
   "cell_type": "code",
   "execution_count": 17,
   "metadata": {},
   "outputs": [],
   "source": [
    "F2worse_solve = projectable.project((x_3,x_2,x_5))"
   ]
  },
  {
   "cell_type": "code",
   "execution_count": 18,
   "metadata": {},
   "outputs": [
    {
     "data": {
      "text/plain": [
       "{x_1: 1.7320508075688772, x_4: 8.267949192431123}"
      ]
     },
     "execution_count": 18,
     "metadata": {},
     "output_type": "execute_result"
    }
   ],
   "source": [
    "F2worse_solve.solve({**y2, x_1:0.5, x_4:1.37})"
   ]
  },
  {
   "cell_type": "markdown",
   "metadata": {},
   "source": [
    "# Merging sets"
   ]
  },
  {
   "cell_type": "code",
   "execution_count": 19,
   "metadata": {},
   "outputs": [],
   "source": [
    "# Merging components:\n",
    "S3 = S1.merge(F2.projectable)\n",
    "F3 = S3.project((x_5,))"
   ]
  },
  {
   "cell_type": "code",
   "execution_count": 20,
   "metadata": {},
   "outputs": [],
   "source": [
    "y3 = {x_5:2}"
   ]
  },
  {
   "cell_type": "code",
   "execution_count": 21,
   "metadata": {},
   "outputs": [],
   "source": [
    "out = F3.solve(y3)"
   ]
  },
  {
   "cell_type": "code",
   "execution_count": 22,
   "metadata": {},
   "outputs": [
    {
     "data": {
      "text/plain": [
       "{x_3: 0.36602540371954434,\n",
       " x_2: 1.3660254037891002,\n",
       " x_1: 1.7320508074965615,\n",
       " x_4: 8.000000000012083}"
      ]
     },
     "execution_count": 22,
     "metadata": {},
     "output_type": "execute_result"
    }
   ],
   "source": [
    "out"
   ]
  },
  {
   "cell_type": "markdown",
   "metadata": {},
   "source": [
    "### Validate results"
   ]
  },
  {
   "cell_type": "code",
   "execution_count": 23,
   "metadata": {},
   "outputs": [
    {
     "data": {
      "text/plain": [
       "({x_3: 0.36602540378444665, x_2: 1.3660254037844275},\n",
       " {x_1: 1.7320508075588399, x_4: 7.999999999949804})"
      ]
     },
     "execution_count": 23,
     "metadata": {},
     "output_type": "execute_result"
    }
   ],
   "source": [
    "F1.solve({**out, **y3}), F2.solve({**out, **y3}), "
   ]
  },
  {
   "cell_type": "markdown",
   "metadata": {},
   "source": [
    "### Feedforward because there is no coupling"
   ]
  },
  {
   "cell_type": "code",
   "execution_count": 24,
   "metadata": {},
   "outputs": [],
   "source": [
    "F3.solver = FeedForwardSolver([F1, F2])"
   ]
  },
  {
   "cell_type": "code",
   "execution_count": 25,
   "metadata": {},
   "outputs": [
    {
     "data": {
      "text/plain": [
       "{x_3: 1.3660254037844388,\n",
       " x_2: 0.36602540378443854,\n",
       " x_1: 1.7320508075688774,\n",
       " x_4: 8.000000000000002}"
      ]
     },
     "execution_count": 25,
     "metadata": {},
     "output_type": "execute_result"
    }
   ],
   "source": [
    "F3.solve(y3)"
   ]
  },
  {
   "cell_type": "markdown",
   "metadata": {},
   "source": [
    "### Coupled solvers if there was coupling (but has to work in feed forward mode to)"
   ]
  },
  {
   "cell_type": "code",
   "execution_count": 25,
   "metadata": {},
   "outputs": [
    {
     "data": {
      "text/plain": [
       "[(('x_2', 'x_3'), None, (None,), 'x_2**3 + x_3**3 - 2'),\n",
       " (('x_2', 'x_3', 'x_5'), None, (None,), 'x_2*x_3*x_5 - 1'),\n",
       " (('x_3', 'x_2', 'x_5', 'x_1', 'x_4'), None, (None,), 'None')]"
      ]
     },
     "execution_count": 25,
     "metadata": {},
     "output_type": "execute_result"
    }
   ],
   "source": [
    "S3.components"
   ]
  },
  {
   "cell_type": "code",
   "execution_count": null,
   "metadata": {},
   "outputs": [],
   "source": [
    "F3.solver = CoupledSolver([F1, F2])"
   ]
  }
 ],
 "metadata": {
  "kernelspec": {
   "display_name": "minimdo",
   "language": "python",
   "name": "python3"
  },
  "language_info": {
   "codemirror_mode": {
    "name": "ipython",
    "version": 3
   },
   "file_extension": ".py",
   "mimetype": "text/x-python",
   "name": "python",
   "nbconvert_exporter": "python",
   "pygments_lexer": "ipython3",
   "version": "3.9.12"
  },
  "orig_nbformat": 4
 },
 "nbformat": 4,
 "nbformat_minor": 2
}
