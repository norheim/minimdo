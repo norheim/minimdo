{
 "cells": [
  {
   "cell_type": "code",
   "execution_count": 1,
   "metadata": {},
   "outputs": [],
   "source": [
    "from foundations.projectables import ProjectableModel, ProjectableIntersection\n",
    "from foundations.projectables import merge_with_coupling, feedback,feed_forward\n",
    "from modeling.compute import create_vars\n",
    "import numpy as np\n",
    "from numpy import pi"
   ]
  },
  {
   "cell_type": "code",
   "execution_count": 2,
   "metadata": {},
   "outputs": [],
   "source": [
    "A,V,S,W,Ww,CL,Re,Cf,CD,D = create_vars('A V S W W_w C_L Re C_f C_D D')\n",
    "rho,mu,k,t,e,CDA,SwetS,W0 = 1.23, 1.78e-5, 1.2, 0.12, 0.96, 0.0306, 2.05, 4940\n",
    "\n",
    "Aero = ProjectableModel()\n",
    "CL = Aero.Var('C_L', 2*W/(rho*V**2*S))\n",
    "Re = Aero.Var('Re', rho*V/mu*(S/A)**(1/2))\n",
    "Cf = Aero.Var('C_f', 0.074/Re**0.2)\n",
    "CD = Aero.Var('C_D', CDA/S+k*Cf*SwetS+CL**2/(pi*A*e))\n",
    "D  = Aero.Var('D', 0.5*rho*V**2*CD*S)\n",
    "Struct = ProjectableModel()\n",
    "Ww = Struct.Var('Ww', 45.42*S+8.71e-5*2.5/t*A**(3/2)*S**(1/2)*(W0*W)**(1/2))\n",
    "Struct.add_equation(W, W0+Ww)\n",
    "Struct.solvepar(x_initial={W:1000})\n",
    "AeroStruct = merge_with_coupling(Struct, Aero)"
   ]
  },
  {
   "cell_type": "markdown",
   "metadata": {},
   "source": [
    "# Test single discipline"
   ]
  },
  {
   "cell_type": "markdown",
   "metadata": {},
   "source": [
    "### Structures"
   ]
  },
  {
   "cell_type": "code",
   "execution_count": 3,
   "metadata": {},
   "outputs": [
    {
     "data": {
      "text/plain": [
       "{W: 6415.76, Ww: 1475.76}"
      ]
     },
     "execution_count": 3,
     "metadata": {},
     "output_type": "execute_result"
    }
   ],
   "source": [
    "F_S = Struct.functional()\n",
    "y = {A:10, S:10}\n",
    "z = F_S.dict_in_dict_out(y, cleanup=True)\n",
    "{key: np.round(value, 2) for key, value in z.items()}"
   ]
  },
  {
   "cell_type": "markdown",
   "metadata": {},
   "source": [
    "### Aero"
   ]
  },
  {
   "cell_type": "code",
   "execution_count": 4,
   "metadata": {},
   "outputs": [
    {
     "data": {
      "text/plain": [
       "{C_L: 10.406504065040641,\n",
       " Re: 691011.235955056,\n",
       " C_f: 0.005027298793072368,\n",
       " C_D: 3.6062056097889377,\n",
       " D: 2217.8164500201965}"
      ]
     },
     "execution_count": 4,
     "metadata": {},
     "output_type": "execute_result"
    }
   ],
   "source": [
    "F_A = Aero.functional()\n",
    "y = {A:10, S:10, V:10, W:6400}\n",
    "F_A.dict_in_dict_out(y, cleanup=True)"
   ]
  },
  {
   "cell_type": "markdown",
   "metadata": {},
   "source": [
    "# Test multiple disciplines"
   ]
  },
  {
   "cell_type": "markdown",
   "metadata": {},
   "source": [
    "### Based on shared variable couplings"
   ]
  },
  {
   "cell_type": "code",
   "execution_count": 6,
   "metadata": {},
   "outputs": [
    {
     "data": {
      "text/plain": [
       "{W: 6415.7614501678045}"
      ]
     },
     "execution_count": 6,
     "metadata": {},
     "output_type": "execute_result"
    }
   ],
   "source": [
    "F_coupling = AeroStruct.functional(x_initial={W:1000})\n",
    "y = {A:10, S:10, V:10}\n",
    "F_coupling.dict_in_dict_out(y, cleanup=True)"
   ]
  },
  {
   "cell_type": "markdown",
   "metadata": {},
   "source": [
    "### Based on feedback"
   ]
  },
  {
   "cell_type": "code",
   "execution_count": 24,
   "metadata": {},
   "outputs": [
    {
     "data": {
      "text/plain": [
       "{W: 6415.7614501678045,\n",
       " Ww: 1475.761450167805,\n",
       " C_L: 10.432132439297233,\n",
       " Re: 691011.235955056,\n",
       " C_f: 0.005027298793072368,\n",
       " C_D: 3.6239135990896294,\n",
       " D: 2228.706863440122}"
      ]
     },
     "execution_count": 24,
     "metadata": {},
     "output_type": "execute_result"
    }
   ],
   "source": [
    "AeroStruct_default = ProjectableIntersection(Struct, Aero)\n",
    "F_feedback = AeroStruct_default.functional()\n",
    "F_feedback.dict_in_dict_out(y, cleanup=True)"
   ]
  }
 ],
 "metadata": {
  "kernelspec": {
   "display_name": "minimdo",
   "language": "python",
   "name": "python3"
  },
  "language_info": {
   "codemirror_mode": {
    "name": "ipython",
    "version": 3
   },
   "file_extension": ".py",
   "mimetype": "text/x-python",
   "name": "python",
   "nbconvert_exporter": "python",
   "pygments_lexer": "ipython3",
   "version": "3.9.12"
  },
  "orig_nbformat": 4
 },
 "nbformat": 4,
 "nbformat_minor": 2
}
