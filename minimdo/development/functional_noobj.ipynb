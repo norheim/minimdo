{
 "cells": [
  {
   "cell_type": "code",
   "execution_count": 1,
   "metadata": {},
   "outputs": [],
   "source": [
    "from modeling.compute import Var, create_vars\n",
    "from modeling.arghandling import Encoder, encode\n",
    "from foundations.functionals import encode_sympy\n",
    "from foundations.functional_noobj import eliminate_vars\n",
    "from foundations.functional_noobj import feed_forward\n",
    "from foundations.functional_noobj import partial_function\n",
    "from foundations.functional_noobj import residual_computer\n",
    "from foundations.functional_noobj import residual_solver_determined\n",
    "from foundations.functional_noobj import residual_solver\n",
    "from foundations.functional_noobj import concatenate_residuals\n",
    "from foundations.functional_noobj import optimizer_solver\n",
    "from foundations.functional_noobj import external_encoder\n",
    "from sympy import exp\n",
    "import numpy as np"
   ]
  },
  {
   "cell_type": "markdown",
   "metadata": {},
   "source": [
    "# Aircraft"
   ]
  },
  {
   "cell_type": "code",
   "execution_count": 2,
   "metadata": {},
   "outputs": [],
   "source": [
    "A,V,S,W,Ww,CL,Re,Cf,CD,D = create_vars('A V S W W_w C_L Re C_f C_D D')\n",
    "rho,mu,k,t,e,CDA,SwetS,W0 = 1.23, 1.78e-5, 1.2, 0.12, 0.96, 0.0306, 2.05, 4940\n",
    "\n",
    "F1 = encode_sympy(2*W/(rho*V**2*S), CL)\n",
    "F2 = encode_sympy(rho*V/mu*(S/A)**(1/2), Re)\n",
    "F3 = encode_sympy(0.074/Re**0.2, Cf)\n",
    "F4 = encode_sympy(CDA/S+k*Cf*SwetS+CL**2/(np.pi*A*e), CD)\n",
    "F5 = encode_sympy(0.5*rho*V**2*CD*S, D)\n",
    "F6 = encode_sympy(45.42*S+8.71e-5*2.5/t*A**(3/2)*S**(1/2)*(W0*W)**(1/2), Ww)\n",
    "R1 = encode_sympy(W0+Ww-W)\n",
    "\n",
    "xin = {A:18.16, S: 5.255, V: 49.18}"
   ]
  },
  {
   "cell_type": "code",
   "execution_count": 3,
   "metadata": {},
   "outputs": [],
   "source": [
    "F = feed_forward([F1, F2, F3, F4, F5, F6])\n",
    "R2 = eliminate_vars(R1, F)\n",
    "#R = concatenate_residuals([R1, R2])\n",
    "RS = residual_solver(R2, Encoder((W,)), x_initial={W:7000})"
   ]
  },
  {
   "cell_type": "code",
   "execution_count": 4,
   "metadata": {},
   "outputs": [
    {
     "data": {
      "text/plain": [
       "{W: 7082.846459912354,\n",
       " C_L: 0.906114212539708,\n",
       " Re: 1828108.936362036,\n",
       " C_f: 0.004138388946405071,\n",
       " C_D: 0.03099440488006809,\n",
       " D: 242.27476828398164,\n",
       " W_w: 2142.8464599123567}"
      ]
     },
     "execution_count": 4,
     "metadata": {},
     "output_type": "execute_result"
    }
   ],
   "source": [
    "MDF = feed_forward([RS, F])\n",
    "MDF.dict_in_dict_out(xin, cleanup=True)"
   ]
  },
  {
   "cell_type": "code",
   "execution_count": 18,
   "metadata": {},
   "outputs": [
    {
     "data": {
      "text/plain": [
       "{W: 7083.575373937885,\n",
       " C_L: 0.90600653382041,\n",
       " Re: 1828150.8796346504,\n",
       " C_f: 0.004138369956816118,\n",
       " C_D: 0.030987531620324762,\n",
       " D: 242.27476038088258,\n",
       " W_w: 2143.575373937888}"
      ]
     },
     "execution_count": 18,
     "metadata": {},
     "output_type": "execute_result"
    }
   ],
   "source": [
    "MDF.dict_in_dict_out(xopt,cleanup=True)"
   ]
  },
  {
   "cell_type": "code",
   "execution_count": 5,
   "metadata": {},
   "outputs": [],
   "source": [
    "obj = eliminate_vars(encode_sympy(D), MDF)"
   ]
  },
  {
   "cell_type": "code",
   "execution_count": 7,
   "metadata": {},
   "outputs": [
    {
     "data": {
      "text/plain": [
       "array([-538.738611])"
      ]
     },
     "execution_count": 7,
     "metadata": {},
     "output_type": "execute_result"
    }
   ],
   "source": [
    "xin = {A:10,S:10,V:10,W:7000}\n",
    "external_encoder(obj, Encoder((A,S,V,W)))(np.array([10,10,10,7000]))\n",
    "external_encoder(R2, Encoder((A,S,V,W)))(np.array([10,10,10,7000]))"
   ]
  },
  {
   "cell_type": "code",
   "execution_count": 31,
   "metadata": {},
   "outputs": [
    {
     "data": {
      "text/plain": [
       "array([-538.738611])"
      ]
     },
     "execution_count": 31,
     "metadata": {},
     "output_type": "execute_result"
    }
   ],
   "source": [
    "R2.flat_in_only(encode(xin, R2.encoder.order, flatten=True))"
   ]
  },
  {
   "cell_type": "code",
   "execution_count": 22,
   "metadata": {},
   "outputs": [
    {
     "data": {
      "text/plain": [
       "array([], dtype=float64)"
      ]
     },
     "execution_count": 22,
     "metadata": {},
     "output_type": "execute_result"
    }
   ],
   "source": [
    "obj.flat_in_only(encode(xin, obj.encoder.order, flatten=True)),\n"
   ]
  },
  {
   "cell_type": "code",
   "execution_count": 8,
   "metadata": {},
   "outputs": [],
   "source": [
    "OPT = optimizer_solver(obj, eqs=(R2,), bounds={\n",
    "    A:(0.1, 100),S:(0.1, 100),V:(0.1, 100),W:(0.1, 1e6)})"
   ]
  },
  {
   "cell_type": "code",
   "execution_count": 10,
   "metadata": {},
   "outputs": [
    {
     "name": "stderr",
     "output_type": "stream",
     "text": [
      "c:\\Users\\johan\\miniconda3\\envs\\minimdo\\lib\\site-packages\\scipy\\optimize\\optimize.py:282: RuntimeWarning: Values in x were outside bounds during a minimize step, clipping to bounds\n",
      "  warnings.warn(\"Values in x were outside bounds during a \"\n"
     ]
    }
   ],
   "source": [
    "xopt = OPT.dict_in_dict_out(x0={A:10,S:10,V:10,W:1000})"
   ]
  },
  {
   "cell_type": "code",
   "execution_count": 27,
   "metadata": {},
   "outputs": [],
   "source": [
    "xin = {A:18.16, S: 5.255, V: 49.18}\n",
    "y = RS.dict_in_dict_out(xin, \n",
    "                    x_initial={W:1000})"
   ]
  },
  {
   "cell_type": "code",
   "execution_count": 30,
   "metadata": {},
   "outputs": [
    {
     "data": {
      "text/plain": [
       "{C_L: 0.9061142125397086,\n",
       " Re: 1828108.936362036,\n",
       " C_f: 0.004138388946405071,\n",
       " C_D: 0.030994404880068112,\n",
       " D: 242.27476828398179,\n",
       " W_w: 2142.846459912357}"
      ]
     },
     "execution_count": 30,
     "metadata": {},
     "output_type": "execute_result"
    }
   ],
   "source": [
    "F.dict_in_dict_out({**xin, **y}, \n",
    "                   cleanup=True)"
   ]
  },
  {
   "cell_type": "markdown",
   "metadata": {},
   "source": [
    "# Sellar"
   ]
  },
  {
   "cell_type": "code",
   "execution_count": 2,
   "metadata": {},
   "outputs": [],
   "source": [
    "z1,z2,x,y2 = Var('z_1'), Var('z_2'), Var('x'), Var('y_2')\n",
    "a = Var('a')\n",
    "y1 = Var('y_1')"
   ]
  },
  {
   "cell_type": "code",
   "execution_count": 3,
   "metadata": {},
   "outputs": [],
   "source": [
    "F1 = encode_sympy(z1+z2-0.2*y2, a)\n",
    "F2 = encode_sympy(x**2+a, y1)"
   ]
  },
  {
   "cell_type": "code",
   "execution_count": 4,
   "metadata": {},
   "outputs": [],
   "source": [
    "Fnew = eliminate_vars(F2, F1)"
   ]
  },
  {
   "cell_type": "code",
   "execution_count": 5,
   "metadata": {},
   "outputs": [
    {
     "data": {
      "text/plain": [
       "{y_1: 2.8}"
      ]
     },
     "execution_count": 5,
     "metadata": {},
     "output_type": "execute_result"
    }
   ],
   "source": [
    "Fnew.dict_in_dict_out({z1:1, z2:1, y2:1, x:1})"
   ]
  },
  {
   "cell_type": "code",
   "execution_count": 6,
   "metadata": {},
   "outputs": [],
   "source": [
    "F = feed_forward([F2, F1])"
   ]
  },
  {
   "cell_type": "code",
   "execution_count": 7,
   "metadata": {},
   "outputs": [
    {
     "data": {
      "text/plain": [
       "{y_1: 2.8, a: 1.8}"
      ]
     },
     "execution_count": 7,
     "metadata": {},
     "output_type": "execute_result"
    }
   ],
   "source": [
    "F.dict_in_dict_out({z1:1, z2:1, y2:1, x:1, a:1.8})"
   ]
  },
  {
   "cell_type": "code",
   "execution_count": 8,
   "metadata": {},
   "outputs": [],
   "source": [
    "P = partial_function(F1, Encoder([z1,z2]))\n",
    "PF = P.dict_in_only({z1:1, z2:1})"
   ]
  },
  {
   "cell_type": "code",
   "execution_count": 9,
   "metadata": {},
   "outputs": [
    {
     "data": {
      "text/plain": [
       "{a: 1.8}"
      ]
     },
     "execution_count": 9,
     "metadata": {},
     "output_type": "execute_result"
    }
   ],
   "source": [
    "PF.dict_in_dict_out({y2:1})"
   ]
  },
  {
   "cell_type": "code",
   "execution_count": 10,
   "metadata": {},
   "outputs": [],
   "source": [
    "R1 = encode_sympy(z1+z2-0.2*y2-a)\n",
    "R2 = encode_sympy(x**2+a-y1)"
   ]
  },
  {
   "cell_type": "code",
   "execution_count": 11,
   "metadata": {},
   "outputs": [],
   "source": [
    "RS = residual_solver(R1, Encoder((z1,)))"
   ]
  },
  {
   "cell_type": "code",
   "execution_count": 12,
   "metadata": {},
   "outputs": [
    {
     "data": {
      "text/plain": [
       "(z_1,) <- (y_2, a, z_2)"
      ]
     },
     "execution_count": 12,
     "metadata": {},
     "output_type": "execute_result"
    }
   ],
   "source": [
    "RS"
   ]
  },
  {
   "cell_type": "code",
   "execution_count": 13,
   "metadata": {},
   "outputs": [
    {
     "data": {
      "text/plain": [
       "{z_1: 0.1999999999999999}"
      ]
     },
     "execution_count": 13,
     "metadata": {},
     "output_type": "execute_result"
    }
   ],
   "source": [
    "random_generator = np.random.default_rng(seed=2023).random\n",
    "RS.dict_in_dict_out({y2:1, z2:1, a:1},\n",
    "                    random_generator=random_generator)"
   ]
  },
  {
   "cell_type": "code",
   "execution_count": 14,
   "metadata": {},
   "outputs": [
    {
     "data": {
      "text/plain": [
       "{a: 1.0}"
      ]
     },
     "execution_count": 14,
     "metadata": {},
     "output_type": "execute_result"
    }
   ],
   "source": [
    "F1.dict_in_dict_out({z1:0.2, z2:1, y2:1})"
   ]
  },
  {
   "cell_type": "code",
   "execution_count": 7,
   "metadata": {},
   "outputs": [
    {
     "data": {
      "text/plain": [
       "{C_L: 0.906217010065799,\n",
       " Re: 1828108.936362036,\n",
       " C_f: 0.004138388946405071,\n",
       " C_D: 0.030997806480403657,\n",
       " D: 242.3013576615252,\n",
       " W_w: 2142.95446938366}"
      ]
     },
     "execution_count": 7,
     "metadata": {},
     "output_type": "execute_result"
    }
   ],
   "source": [
    "F.dict_in_dict_out({A:18.16, S: 5.255, V: 49.18, W:7083.65}, cleanup=True)"
   ]
  },
  {
   "cell_type": "code",
   "execution_count": null,
   "metadata": {},
   "outputs": [],
   "source": []
  }
 ],
 "metadata": {
  "kernelspec": {
   "display_name": "minimdo",
   "language": "python",
   "name": "python3"
  },
  "language_info": {
   "codemirror_mode": {
    "name": "ipython",
    "version": 3
   },
   "file_extension": ".py",
   "mimetype": "text/x-python",
   "name": "python",
   "nbconvert_exporter": "python",
   "pygments_lexer": "ipython3",
   "version": "3.9.12"
  },
  "orig_nbformat": 4
 },
 "nbformat": 4,
 "nbformat_minor": 2
}
