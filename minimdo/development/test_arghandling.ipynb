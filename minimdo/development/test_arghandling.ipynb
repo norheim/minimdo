{
 "cells": [
  {
   "cell_type": "code",
   "execution_count": 11,
   "metadata": {},
   "outputs": [],
   "source": [
    "from modeling.arghandling import flatten_args, unflatten_args\n",
    "from modeling.arghandling import encode, decode\n",
    "import numpy as np"
   ]
  },
  {
   "cell_type": "code",
   "execution_count": 12,
   "metadata": {},
   "outputs": [],
   "source": [
    "x = [np.array(1), np.array([1,2]), np.array([[4,5],[6,7]])]"
   ]
  },
  {
   "cell_type": "code",
   "execution_count": 13,
   "metadata": {},
   "outputs": [
    {
     "data": {
      "text/plain": [
       "(1,\n",
       " array([1, 2]),\n",
       " array([[4, 5],\n",
       "        [6, 7]]))"
      ]
     },
     "execution_count": 13,
     "metadata": {},
     "output_type": "execute_result"
    }
   ],
   "source": [
    "v = flatten_args(x)\n",
    "unflatten_args(v, shapes=((1,), (2,), (2,2)), cleanup=True)"
   ]
  },
  {
   "cell_type": "code",
   "execution_count": 4,
   "metadata": {},
   "outputs": [],
   "source": [
    "w = encode({'a': 1, 'b': np.array([[4,5],[6,7]]), 'c': 3}, \n",
    "        ('c', 'b', 'a'), flatten=True)"
   ]
  },
  {
   "cell_type": "code",
   "execution_count": 5,
   "metadata": {},
   "outputs": [
    {
     "data": {
      "text/plain": [
       "{'c': 3,\n",
       " 'b': array([[4, 5],\n",
       "        [6, 7]]),\n",
       " 'a': 1}"
      ]
     },
     "execution_count": 5,
     "metadata": {},
     "output_type": "execute_result"
    }
   ],
   "source": [
    "decode(w, order=['c', 'b', 'a'], shapes=((1,), (2,2), (1,)), \n",
    "       unflatten=True, cleanup=True)"
   ]
  },
  {
   "cell_type": "code",
   "execution_count": 6,
   "metadata": {},
   "outputs": [],
   "source": [
    "f = lambda x, y, z: (x**2+z+y+np.exp(-y), np.array([x,y,z]))"
   ]
  },
  {
   "cell_type": "code",
   "execution_count": 7,
   "metadata": {},
   "outputs": [],
   "source": [
    "dict_in_dict_out = lambda d: decode(f(*encode(d, ('x','y','z'))), \n",
    "                                      ('a','b'), shapes=((1,),(3,)))\n",
    "dict_in_flat_out = lambda d: flatten_args(f(*encode(d, ('x','y','z'))))"
   ]
  },
  {
   "cell_type": "code",
   "execution_count": 8,
   "metadata": {},
   "outputs": [
    {
     "data": {
      "text/plain": [
       "{'a': 6.135335283236612, 'b': array([1, 2, 3])}"
      ]
     },
     "execution_count": 8,
     "metadata": {},
     "output_type": "execute_result"
    }
   ],
   "source": [
    "dict_in_dict_out({'x': 1, 'y': 2, 'z': 3})"
   ]
  },
  {
   "cell_type": "code",
   "execution_count": 9,
   "metadata": {},
   "outputs": [
    {
     "data": {
      "text/plain": [
       "array([6.13533528, 1.        , 2.        , 3.        ])"
      ]
     },
     "execution_count": 9,
     "metadata": {},
     "output_type": "execute_result"
    }
   ],
   "source": [
    "residuals = dict_in_flat_out({'x': 1, 'y': 2, 'z': 3})\n",
    "residuals"
   ]
  },
  {
   "cell_type": "code",
   "execution_count": 10,
   "metadata": {},
   "outputs": [
    {
     "data": {
      "text/plain": [
       "{'a': 6.135335283236612, 'b': array([1., 2., 3.])}"
      ]
     },
     "execution_count": 10,
     "metadata": {},
     "output_type": "execute_result"
    }
   ],
   "source": [
    "decode(residuals, ('a','b'), shapes=((1,),(3,)), unflatten=True, cleanup=True)"
   ]
  },
  {
   "cell_type": "code",
   "execution_count": 16,
   "metadata": {},
   "outputs": [],
   "source": [
    "class Encoder():\n",
    "    def __init__(self, order, parent=None, shapes=None):\n",
    "        self.order = order\n",
    "        self.parent = parent\n",
    "        self.shapes = shapes"
   ]
  },
  {
   "cell_type": "code",
   "execution_count": 17,
   "metadata": {},
   "outputs": [],
   "source": [
    "class EncodedFunction():\n",
    "    def __init__(self, f, encoder=None, decoder=None):\n",
    "        self.f = f\n",
    "        self.encoder = encoder\n",
    "        self.decoder = decoder\n",
    "\n",
    "    def dict_out_only(self,*args):\n",
    "        return decode(self.f(*args), \n",
    "                      self.decoder.order, shapes=self.decoder.shapes)\n",
    "\n",
    "    def dict_in_only(self, d):\n",
    "        return f(*encode(d, self.encoder.order))\n",
    "    \n",
    "    def dict_in_flat_out(self, d):\n",
    "        return flatten_args(self.dict_in_only(d))\n",
    "    \n",
    "    def dict_in_dict_out(self, d):\n",
    "        return decode(self.dict_in_only(d), \n",
    "                      self.decoder.order, shapes=self.decoder.shapes)\n",
    "    \n",
    "    "
   ]
  },
  {
   "cell_type": "code",
   "execution_count": 50,
   "metadata": {},
   "outputs": [],
   "source": [
    "def reverse_encoding(encoder):\n",
    "    mapping = dict()\n",
    "    parent = encoder.parent\n",
    "    while parent is not None:\n",
    "        mapping = dict(zip(encoder.order, parent.order))\n",
    "        parent = parent.parent\n",
    "    return mapping"
   ]
  },
  {
   "cell_type": "code",
   "execution_count": 51,
   "metadata": {},
   "outputs": [],
   "source": [
    "E1 = Encoder((1,2,3), Encoder(('x','y','z'), Encoder(('A','B','C'))))"
   ]
  },
  {
   "cell_type": "code",
   "execution_count": 52,
   "metadata": {},
   "outputs": [
    {
     "data": {
      "text/plain": [
       "{1: 'A', 2: 'B', 3: 'C'}"
      ]
     },
     "execution_count": 52,
     "metadata": {},
     "output_type": "execute_result"
    }
   ],
   "source": [
    "reverse_encoding(E1)"
   ]
  },
  {
   "cell_type": "code",
   "execution_count": 57,
   "metadata": {},
   "outputs": [],
   "source": [
    "def compose(f, g=None, mapping=None, reverse=False):\n",
    "    mapping = mapping if mapping is not None else dict()\n",
    "    new_decoder = g.decoder if g is not None else f.decoder\n",
    "    if reverse:\n",
    "        mapping = reverse_encoding(f.encoder)\n",
    "        mapping.update(reverse_encoding(new_decoder))\n",
    "    func = f.f\n",
    "    if g is not None:\n",
    "        inter_order_out = tuple(mapping.get(key,key) for key in f.decoder.order)\n",
    "        inter_order_in= tuple(mapping.get(key,key) for key in g.encoder.order)\n",
    "        F = EncodedFunction(f, f.encoder, inter_order_in)\n",
    "        G = EncodedFunction(g, inter_order_out, g.decoder)\n",
    "        func = lambda *args: G.dict_in_only(F.dict_out_only(*args))   \n",
    "    new_encoder_order = tuple(mapping.get(key,key) for key in f.encoder.order)\n",
    "    new_encoder = Encoder(new_encoder_order, parent=f.encoder)\n",
    "    new_decoder_order = tuple(mapping.get(key,key) for key in new_decoder.order)\n",
    "    new_decoder = Encoder(new_decoder_order, parent=new_decoder)\n",
    "    return EncodedFunction(func, new_encoder, new_decoder)"
   ]
  },
  {
   "cell_type": "code",
   "execution_count": 58,
   "metadata": {},
   "outputs": [],
   "source": [
    "F = EncodedFunction(f, \n",
    "                    Encoder(('x','z','y')), \n",
    "                    Encoder(('a','b'), shapes=((1,),(3,))))"
   ]
  },
  {
   "cell_type": "code",
   "execution_count": 59,
   "metadata": {},
   "outputs": [],
   "source": [
    "G = compose(F, mapping={'x':1, 'y':2, 'z':3, 'a':4})"
   ]
  },
  {
   "cell_type": "code",
   "execution_count": 60,
   "metadata": {},
   "outputs": [
    {
     "data": {
      "text/plain": [
       "{4: 6.049787068367864, 'b': array([1, 3, 2])}"
      ]
     },
     "execution_count": 60,
     "metadata": {},
     "output_type": "execute_result"
    }
   ],
   "source": [
    "G.dict_in_dict_out({1: 1, 2: 2, 3: 3})"
   ]
  },
  {
   "cell_type": "code",
   "execution_count": 61,
   "metadata": {},
   "outputs": [],
   "source": [
    "H = compose(G, reverse=True)"
   ]
  },
  {
   "cell_type": "code",
   "execution_count": 66,
   "metadata": {},
   "outputs": [
    {
     "data": {
      "text/plain": [
       "{'a': 6.049787068367864, 'b': array([1, 3, 2])}"
      ]
     },
     "execution_count": 66,
     "metadata": {},
     "output_type": "execute_result"
    }
   ],
   "source": [
    "H.dict_in_dict_out({'x': 1, 'y': 2, 'z': 3})"
   ]
  },
  {
   "cell_type": "code",
   "execution_count": 21,
   "metadata": {},
   "outputs": [
    {
     "data": {
      "text/plain": [
       "{'a': 6.135335283236612, 'b': array([1, 2, 3])}"
      ]
     },
     "execution_count": 21,
     "metadata": {},
     "output_type": "execute_result"
    }
   ],
   "source": [
    "F.dict_in_dict_out({'x': 1, 'y': 2, 'z': 3})"
   ]
  }
 ],
 "metadata": {
  "kernelspec": {
   "display_name": "minimdo",
   "language": "python",
   "name": "python3"
  },
  "language_info": {
   "codemirror_mode": {
    "name": "ipython",
    "version": 3
   },
   "file_extension": ".py",
   "mimetype": "text/x-python",
   "name": "python",
   "nbconvert_exporter": "python",
   "pygments_lexer": "ipython3",
   "version": "3.9.12"
  },
  "orig_nbformat": 4
 },
 "nbformat": 4,
 "nbformat_minor": 2
}
