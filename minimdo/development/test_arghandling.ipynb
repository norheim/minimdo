{
 "cells": [
  {
   "cell_type": "code",
   "execution_count": 1,
   "metadata": {},
   "outputs": [],
   "source": [
    "from modeling.arghandling import flatten_args, unflatten_args\n",
    "from modeling.arghandling import encode, decode, Encoding, EncodedFunction\n",
    "import numpy as np"
   ]
  },
  {
   "cell_type": "code",
   "execution_count": 2,
   "metadata": {},
   "outputs": [],
   "source": [
    "x = [1, np.array([1,2]), np.array([[4.,5],[6,7]])]"
   ]
  },
  {
   "cell_type": "code",
   "execution_count": 3,
   "metadata": {},
   "outputs": [
    {
     "data": {
      "text/plain": [
       "{'a': array([1., 2., 3.])}"
      ]
     },
     "execution_count": 3,
     "metadata": {},
     "output_type": "execute_result"
    }
   ],
   "source": [
    "{'a': np.array([1,2,3.])}"
   ]
  },
  {
   "cell_type": "code",
   "execution_count": 4,
   "metadata": {},
   "outputs": [
    {
     "data": {
      "text/plain": [
       "dtype('float64')"
      ]
     },
     "execution_count": 4,
     "metadata": {},
     "output_type": "execute_result"
    }
   ],
   "source": [
    "np.array([1,2,3.]).dtype"
   ]
  },
  {
   "cell_type": "code",
   "execution_count": 5,
   "metadata": {},
   "outputs": [
    {
     "data": {
      "text/plain": [
       "DeviceArray([1., 1., 2., 4., 5., 6., 7.], dtype=float32)"
      ]
     },
     "execution_count": 5,
     "metadata": {},
     "output_type": "execute_result"
    }
   ],
   "source": [
    "v = flatten_args(x)\n",
    "v"
   ]
  },
  {
   "cell_type": "code",
   "execution_count": 6,
   "metadata": {},
   "outputs": [
    {
     "data": {
      "text/plain": [
       "(1.0,\n",
       " array([1., 2.]),\n",
       " array([[4., 5.],\n",
       "        [6., 7.]]))"
      ]
     },
     "execution_count": 6,
     "metadata": {},
     "output_type": "execute_result"
    }
   ],
   "source": [
    "unflatten_args(v, shapes=((1,), (2,), (2,2)), convertscalars=True, tonumpy=True)"
   ]
  },
  {
   "cell_type": "code",
   "execution_count": 7,
   "metadata": {},
   "outputs": [
    {
     "data": {
      "text/plain": [
       "DeviceArray([3, 4, 5, 6, 7, 1], dtype=int32)"
      ]
     },
     "execution_count": 7,
     "metadata": {},
     "output_type": "execute_result"
    }
   ],
   "source": [
    "w = encode({'a': 1, 'b': np.array([[4,5],[6,7]]), 'c': 3}, \n",
    "        ('c', 'b', 'a'), flatten=True)\n",
    "w"
   ]
  },
  {
   "cell_type": "code",
   "execution_count": 10,
   "metadata": {},
   "outputs": [
    {
     "data": {
      "text/plain": [
       "{'c': 3.0,\n",
       " 'b': array([[4., 5.],\n",
       "        [6., 7.]]),\n",
       " 'a': 1.0}"
      ]
     },
     "execution_count": 10,
     "metadata": {},
     "output_type": "execute_result"
    }
   ],
   "source": [
    "decode(w, order=['c', 'b', 'a'], shapes=((1,), (2,2), (1,)), \n",
    "       unflatten=True, cleanup=True, tonumpy=True)"
   ]
  },
  {
   "cell_type": "code",
   "execution_count": 9,
   "metadata": {},
   "outputs": [],
   "source": [
    "f = lambda x, y, z: (x**2+z+y+np.exp(-y), np.array([x,y,z]))"
   ]
  },
  {
   "cell_type": "markdown",
   "metadata": {},
   "source": [
    "## Encoded Functions"
   ]
  },
  {
   "cell_type": "code",
   "execution_count": 10,
   "metadata": {},
   "outputs": [],
   "source": [
    "Ein = Encoding(('x','y','z'))\n",
    "Eout = Encoding(('a','b'), shapes=((1,), (3,)))"
   ]
  },
  {
   "cell_type": "code",
   "execution_count": 11,
   "metadata": {},
   "outputs": [
    {
     "data": {
      "text/plain": [
       "(1, 2, 3)"
      ]
     },
     "execution_count": 11,
     "metadata": {},
     "output_type": "execute_result"
    }
   ],
   "source": [
    "Ein.encode({'x': 1, 'y': 2, 'z': 3})"
   ]
  },
  {
   "cell_type": "code",
   "execution_count": 12,
   "metadata": {},
   "outputs": [],
   "source": [
    "dict_in_dict_out = lambda d: Eout.decode(f(*Ein.encode(d)))\n",
    "dict_in_flat_out = lambda d: flatten_args(f(*Ein.encode(d)))"
   ]
  },
  {
   "cell_type": "code",
   "execution_count": 13,
   "metadata": {},
   "outputs": [
    {
     "data": {
      "text/plain": [
       "(6.135335283236612, array([1, 2, 3]))"
      ]
     },
     "execution_count": 13,
     "metadata": {},
     "output_type": "execute_result"
    }
   ],
   "source": [
    "f(*Ein.encode({'x': 1, 'y': 2, 'z': 3}))"
   ]
  },
  {
   "cell_type": "code",
   "execution_count": 14,
   "metadata": {},
   "outputs": [
    {
     "data": {
      "text/plain": [
       "{'a': 6.135335283236612, 'b': array([1, 2, 3])}"
      ]
     },
     "execution_count": 14,
     "metadata": {},
     "output_type": "execute_result"
    }
   ],
   "source": [
    "dict_in_dict_out({'x': 1, 'y': 2, 'z': 3})"
   ]
  },
  {
   "cell_type": "code",
   "execution_count": 15,
   "metadata": {},
   "outputs": [
    {
     "data": {
      "text/plain": [
       "DeviceArray([6.1353354, 1.       , 2.       , 3.       ], dtype=float32)"
      ]
     },
     "execution_count": 15,
     "metadata": {},
     "output_type": "execute_result"
    }
   ],
   "source": [
    "residuals = dict_in_flat_out({'x': 1, 'y': 2, 'z': 3})\n",
    "residuals"
   ]
  },
  {
   "cell_type": "code",
   "execution_count": 16,
   "metadata": {},
   "outputs": [
    {
     "data": {
      "text/plain": [
       "{'a': 6.135335445404053, 'b': array([1., 2., 3.])}"
      ]
     },
     "execution_count": 16,
     "metadata": {},
     "output_type": "execute_result"
    }
   ],
   "source": [
    "Eout.decode(residuals, unflatten=True, cleanup=True, tonumpy=True)"
   ]
  },
  {
   "cell_type": "markdown",
   "metadata": {},
   "source": [
    "## Operate with encoders"
   ]
  },
  {
   "cell_type": "code",
   "execution_count": 17,
   "metadata": {},
   "outputs": [],
   "source": [
    "def reverse_encoding(encoder):\n",
    "    mapping = dict()\n",
    "    parent = encoder.parent\n",
    "    while parent is not None:\n",
    "        mapping = dict(zip(encoder.order, parent.order))\n",
    "        parent = parent.parent\n",
    "    return mapping"
   ]
  },
  {
   "cell_type": "code",
   "execution_count": 19,
   "metadata": {},
   "outputs": [],
   "source": [
    "E1 = Encoding(('A','B','C'))\n",
    "E2 = Encoding(('x','y','z'), parent=E1)\n",
    "E3 = Encoding((1,2,3), parent=E2)"
   ]
  },
  {
   "cell_type": "code",
   "execution_count": 21,
   "metadata": {},
   "outputs": [
    {
     "data": {
      "text/plain": [
       "{1: 'A', 2: 'B', 3: 'C'}"
      ]
     },
     "execution_count": 21,
     "metadata": {},
     "output_type": "execute_result"
    }
   ],
   "source": [
    "reverse_encoding(E3)"
   ]
  },
  {
   "cell_type": "code",
   "execution_count": 58,
   "metadata": {},
   "outputs": [],
   "source": [
    "def compose(f, g=None, mapping=None, parent_encoder=False):\n",
    "    mapping = mapping if mapping is not None else dict()\n",
    "    new_decoder = g.decoder if g is not None else f.decoder\n",
    "    if parent_encoder:\n",
    "        mapping = reverse_encoding(f.encoder)\n",
    "        mapping.update(reverse_encoding(new_decoder))\n",
    "        mapping = mapping.get\n",
    "    func = f.f\n",
    "    if g is not None:\n",
    "        inter_order_out = tuple(mapping(key,key) for key in f.decoder.order)\n",
    "        inter_order_in= tuple(mapping(key,key) for key in g.encoder.order)\n",
    "        F = EncodedFunction(f, f.encoder, inter_order_in)\n",
    "        G = EncodedFunction(g, inter_order_out, g.decoder)\n",
    "        func = lambda *args: G.dict_in_only(F.dict_out_only(*args))   \n",
    "    new_encoder_order = tuple(mapping(key,key) for key in f.encoder.order)\n",
    "    new_encoder = Encoding(new_encoder_order, parent=f.encoder)\n",
    "    new_decoder_order = tuple(mapping(key,key) for key in new_decoder.order)\n",
    "    new_decoder = Encoding(new_decoder_order, parent=new_decoder)\n",
    "    return EncodedFunction(func, new_encoder, new_decoder)"
   ]
  },
  {
   "cell_type": "code",
   "execution_count": 59,
   "metadata": {},
   "outputs": [],
   "source": [
    "F = EncodedFunction(f, Ein, Eout)"
   ]
  },
  {
   "cell_type": "code",
   "execution_count": 60,
   "metadata": {},
   "outputs": [
    {
     "data": {
      "text/plain": [
       "{'a': 6.135335283236612, 'b': array([1, 2, 3])}"
      ]
     },
     "execution_count": 60,
     "metadata": {},
     "output_type": "execute_result"
    }
   ],
   "source": [
    "F.dict_in_dict_out({'x': 1, 'y': 2, 'z': 3})"
   ]
  },
  {
   "cell_type": "code",
   "execution_count": 61,
   "metadata": {},
   "outputs": [],
   "source": [
    "#G = compose(F, mapping={'x':1, 'y':2, 'z':3, 'a':4}.get)\n",
    "G = compose(F, mapping=lambda x,_: 'x_{}'.format(['x','y','z','a','b'].index(x)))"
   ]
  },
  {
   "cell_type": "code",
   "execution_count": 62,
   "metadata": {},
   "outputs": [
    {
     "data": {
      "text/plain": [
       "{'x_3': 6.135335283236612, 'x_4': array([1, 2, 3])}"
      ]
     },
     "execution_count": 62,
     "metadata": {},
     "output_type": "execute_result"
    }
   ],
   "source": [
    "G.dict_in_dict_out({'x_0': 1, 'x_1': 2, 'x_2': 3})"
   ]
  },
  {
   "cell_type": "code",
   "execution_count": 63,
   "metadata": {},
   "outputs": [],
   "source": [
    "H = compose(G, parent_encoder=True)"
   ]
  },
  {
   "cell_type": "code",
   "execution_count": 64,
   "metadata": {},
   "outputs": [
    {
     "data": {
      "text/plain": [
       "{'a': 6.135335283236612, 'b': array([1, 2, 3])}"
      ]
     },
     "execution_count": 64,
     "metadata": {},
     "output_type": "execute_result"
    }
   ],
   "source": [
    "H.dict_in_dict_out({'x': 1, 'y': 2, 'z': 3})"
   ]
  }
 ],
 "metadata": {
  "kernelspec": {
   "display_name": "minimdo",
   "language": "python",
   "name": "python3"
  },
  "language_info": {
   "codemirror_mode": {
    "name": "ipython",
    "version": 3
   },
   "file_extension": ".py",
   "mimetype": "text/x-python",
   "name": "python",
   "nbconvert_exporter": "python",
   "pygments_lexer": "ipython3",
   "version": "3.9.12"
  },
  "orig_nbformat": 4
 },
 "nbformat": 4,
 "nbformat_minor": 2
}
