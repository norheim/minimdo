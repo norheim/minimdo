{
 "cells": [
  {
   "cell_type": "code",
   "execution_count": 1,
   "metadata": {},
   "outputs": [
    {
     "ename": "ModuleNotFoundError",
     "evalue": "No module named 'foundations'",
     "output_type": "error",
     "traceback": [
      "\u001b[1;31m---------------------------------------------------------------------------\u001b[0m",
      "\u001b[1;31mModuleNotFoundError\u001b[0m                       Traceback (most recent call last)",
      "\u001b[1;32mc:\\Users\\johan\\github\\minimdo\\minimdo\\development\\pearl.ipynb Cell 1\u001b[0m line \u001b[0;36m<cell line: 1>\u001b[1;34m()\u001b[0m\n\u001b[1;32m----> <a href='vscode-notebook-cell:/c%3A/Users/johan/github/minimdo/minimdo/development/pearl.ipynb#W0sZmlsZQ%3D%3D?line=0'>1</a>\u001b[0m \u001b[39mfrom\u001b[39;00m \u001b[39mfoundations\u001b[39;00m\u001b[39m.\u001b[39;00m\u001b[39mprojectables\u001b[39;00m \u001b[39mimport\u001b[39;00m SympyProjectable\n\u001b[0;32m      <a href='vscode-notebook-cell:/c%3A/Users/johan/github/minimdo/minimdo/development/pearl.ipynb#W0sZmlsZQ%3D%3D?line=1'>2</a>\u001b[0m \u001b[39mfrom\u001b[39;00m \u001b[39mfoundations\u001b[39;00m\u001b[39m.\u001b[39;00m\u001b[39mprojectables\u001b[39;00m \u001b[39mimport\u001b[39;00m ProjectableModel,ProjectableIntersection\n\u001b[0;32m      <a href='vscode-notebook-cell:/c%3A/Users/johan/github/minimdo/minimdo/development/pearl.ipynb#W0sZmlsZQ%3D%3D?line=2'>3</a>\u001b[0m \u001b[39mfrom\u001b[39;00m \u001b[39mfoundations\u001b[39;00m\u001b[39m.\u001b[39;00m\u001b[39mprojectables\u001b[39;00m \u001b[39mimport\u001b[39;00m restructure\n",
      "\u001b[1;31mModuleNotFoundError\u001b[0m: No module named 'foundations'"
     ]
    }
   ],
   "source": [
    "from foundations.projectables import SympyProjectable\n",
    "from foundations.projectables import ProjectableModel,ProjectableIntersection\n",
    "from foundations.projectables import restructure\n",
    "from foundations.projectables import merge_with_coupling\n",
    "from foundations.projectables import strategy_eliminate_feedfwd\n",
    "from modeling.compute import create_vars, Par, Var\n",
    "from foundations.functional_noobj import eliminate_vars\n",
    "from foundations.functional_noobj import concatenate_residuals\n",
    "from foundations.functional_noobj import optimizer_solver\n",
    "from foundations.functionals import encode_sympy\n",
    "from modeling.execution import sympy_to_edges\n",
    "from graph.graphutils import default_tree\n",
    "from presolver.tearprepare import execute_tearing\n",
    "from graph.operators import reformulate\n",
    "from numpy import pi"
   ]
  },
  {
   "cell_type": "markdown",
   "metadata": {},
   "source": [
    "# Disciplines"
   ]
  },
  {
   "cell_type": "markdown",
   "metadata": {},
   "source": [
    "### Hydro"
   ]
  },
  {
   "cell_type": "code",
   "execution_count": 2,
   "metadata": {},
   "outputs": [],
   "source": [
    "Df, Ds, Dd, tf, ts, td, hf, mtot = create_vars('Df Ds Dd tf ts td hf m_{platform}')\n",
    "g, rhow = 9.81, 1023.6\n",
    "\n",
    "Hydro = ProjectableModel()\n",
    "Vd = Hydro.Var('Vd', pi/4*(Df**2*hf+Ds**2*ts+Dd**2*td))\n",
    "FB = Hydro.Var('F_B', rhow*Vd*g)\n",
    "FW = Hydro.Var('F_W', FB)\n",
    "# center of buoyancy above the keel calculations\n",
    "xd,xs = td/2,td+ts/2\n",
    "xf1,xf2 = td+ts+hf/2, td+ts+tf/2\n",
    "totA1, totA2 = hf*Df+ts*Ds+td*Dd, tf*Df+ts*Ds+td*Dd\n",
    "KB = Hydro.Var('K_B', (hf*Df*xf1+ts*Ds*xs+td*Dd*xd)/totA1) \n",
    "KG = Hydro.Var('K_G', (tf*Df*xf2+ts*Ds*xs+td*Dd*xd)/totA2) \n",
    "I = Hydro.Var('I', pi/64*Df**4)\n",
    "BM = Hydro.Var('B_M', I/Vd)\n",
    "#should be 3-5% according to http://web.mit.edu/13.012/www/handouts/Reading3.pdf\n",
    "GM = Hydro.Var('G_M', KB+BM-KG) \n",
    "C33 = Hydro.Var('C_{33}', pi*rhow*g/4*Df**2)\n",
    "A33 = Hydro.Var('A_{33}', 0.0525*pi*rhow*(Dd**3+Ds**3+Df**3))\n",
    "omega0 = Hydro.Var('\\omega_0', (C33/(A33+mtot))**1/2)"
   ]
  },
  {
   "cell_type": "code",
   "execution_count": 7,
   "metadata": {},
   "outputs": [
    {
     "data": {
      "text/plain": [
       "({Vd: 1.4765485471872024,\n",
       "  F_B: 14826.785861357048,\n",
       "  F_W: 14826.785861357048,\n",
       "  K_B: 0.23500000000000007,\n",
       "  K_G: 0.15,\n",
       "  I: 0.785398163397448,\n",
       "  B_M: 0.5319148936170212,\n",
       "  G_M: 0.6169148936170212,\n",
       "  C_{33}: 31546.35289650436,\n",
       "  A_{33}: 4051.825142670288,\n",
       "  \\omega_0: 3.2509779277765007},\n",
       " '53.19 %')"
      ]
     },
     "execution_count": 7,
     "metadata": {},
     "output_type": "execute_result"
    }
   ],
   "source": [
    "yH = {Df:2, Ds:2, Dd:2, tf:0.1, ts:0.1, td:0.1, hf:0.9*0.3, mtot:800}\n",
    "HF = Hydro.functional()\n",
    "HF.dict_in_dict_out(yH, cleanup=True), '{:.2f} %'.format(HF.dict_in_dict_out(yH, cleanup=True)[BM]*100)"
   ]
  },
  {
   "cell_type": "markdown",
   "metadata": {},
   "source": [
    "### Mass"
   ]
  },
  {
   "cell_type": "code",
   "execution_count": 8,
   "metadata": {},
   "outputs": [],
   "source": [
    "mbatt, A_s = create_vars('m_{batt} A_s')\n",
    "mprop, mcomms, eta_solar, rho, rhoh = 20, 20, 10, 700, 2700\n",
    "Mass = ProjectableModel()\n",
    "Mass.add_equation(mtot, FW/g)\n",
    "msolar = Mass.Var('m_{solar}', eta_solar*A_s)\n",
    "mstruct = Mass.Var('m_{struct}', mtot-mbatt-msolar-mcomms-mprop) \n",
    "Mass.add_equation(td, (4/pi*mstruct-Df**2*tf*rho-Ds**2*ts*rho)/(Dd**2*rhoh))"
   ]
  },
  {
   "cell_type": "code",
   "execution_count": 9,
   "metadata": {},
   "outputs": [
    {
     "data": {
      "text/plain": [
       "{m_{platform}: 3682.976554536202,\n",
       " m_{solar}: 5.0,\n",
       " m_{struct}: 3537.976554536202,\n",
       " td: 0.3652492275538281}"
      ]
     },
     "execution_count": 9,
     "metadata": {},
     "output_type": "execute_result"
    }
   ],
   "source": [
    "yM = {mbatt:100, A_s:0.5, FW:36130}\n",
    "MF = Mass.functional()\n",
    "MF.dict_in_dict_out({**yH, **yM}, cleanup=True)"
   ]
  },
  {
   "cell_type": "markdown",
   "metadata": {},
   "source": [
    "### Combined"
   ]
  },
  {
   "cell_type": "code",
   "execution_count": 10,
   "metadata": {},
   "outputs": [],
   "source": [
    "combined_projectables = Hydro.projectables+Mass.projectables\n",
    "HydroMass = ProjectableIntersection(*combined_projectables)\n",
    "HydroMass.solvepar(x_initial={mtot:500, td:0.01})"
   ]
  },
  {
   "cell_type": "code",
   "execution_count": 12,
   "metadata": {},
   "outputs": [
    {
     "data": {
      "text/plain": [
       "{m_{platform}: 4883.212631203285,\n",
       " td: 0.5185373748041826,\n",
       " Vd: 4.770625860886348,\n",
       " F_B: 47904.31591210404,\n",
       " F_W: 47904.31591210404,\n",
       " K_B: 0.7592686874020914,\n",
       " K_G: 0.35926868740209134,\n",
       " I: 0.785398163397448,\n",
       " B_M: 0.16463210201345083,\n",
       " G_M: 0.5646321020134508,\n",
       " C_{33}: 31546.35289650436,\n",
       " A_{33}: 4051.825142670288,\n",
       " \\omega_0: 1.7653172652916602,\n",
       " m_{solar}: 5.0,\n",
       " m_{struct}: 4838.212631203285}"
      ]
     },
     "execution_count": 12,
     "metadata": {},
     "output_type": "execute_result"
    }
   ],
   "source": [
    "y = {Df:2, Ds:2, Dd:2, tf:0.1, ts:0.1, hf:0.9, mbatt:0, A_s:0.5}\n",
    "HMF = HydroMass.functional()\n",
    "z = HMF.dict_in_dict_out(y, cleanup=True)\n",
    "z"
   ]
  },
  {
   "cell_type": "code",
   "execution_count": 34,
   "metadata": {},
   "outputs": [],
   "source": [
    "HMcoupling = merge_with_coupling(Hydro, Mass)\n",
    "HMcoupling.solvepar(x_initial={mtot:500, td:0.01, FW:10000})\n",
    "HMcouplingF = HydroMass.functional()\n",
    "z = HMcouplingF.dict_in_dict_out(y, cleanup=True)"
   ]
  },
  {
   "cell_type": "code",
   "execution_count": 58,
   "metadata": {},
   "outputs": [
    {
     "data": {
      "text/plain": [
       "{m_{platform}: 4883.212631203285,\n",
       " td: 0.5185373748041826,\n",
       " Vd: 4.770625860886348,\n",
       " F_B: 47904.31591210404,\n",
       " F_W: 47904.31591210404,\n",
       " K_B: 0.7592686874020914,\n",
       " K_G: 0.35926868740209134,\n",
       " I: 0.785398163397448,\n",
       " B_M: 0.16463210201345083,\n",
       " G_M: 0.5646321020134508,\n",
       " C_{33}: 31546.35289650436,\n",
       " A_{33}: 4051.825142670288,\n",
       " \\omega_0: 1.7653172652916602,\n",
       " m_{solar}: 5.0,\n",
       " m_{struct}: 4838.212631203285}"
      ]
     },
     "execution_count": 58,
     "metadata": {},
     "output_type": "execute_result"
    }
   ],
   "source": [
    "z"
   ]
  },
  {
   "cell_type": "code",
   "execution_count": 36,
   "metadata": {},
   "outputs": [],
   "source": [
    "HMR = HMcoupling.residuals()"
   ]
  },
  {
   "cell_type": "code",
   "execution_count": 37,
   "metadata": {},
   "outputs": [
    {
     "data": {
      "text/plain": [
       "(F_W, m_{platform}, td)"
      ]
     },
     "execution_count": 37,
     "metadata": {},
     "output_type": "execute_result"
    }
   ],
   "source": [
    "HMcoupling.required_solvevars()"
   ]
  },
  {
   "cell_type": "code",
   "execution_count": 38,
   "metadata": {},
   "outputs": [],
   "source": [
    "from jax import jacfwd\n",
    "g = jacfwd(HMR.flat_in_flat_out)"
   ]
  },
  {
   "cell_type": "code",
   "execution_count": 47,
   "metadata": {},
   "outputs": [],
   "source": [
    "from modeling.arghandling import decode, flatten_args, unflatten_args, EncodedFunction\n",
    "import numpy as np\n",
    "def adjoints(projectable):\n",
    "    H = projectable.residuals()\n",
    "    F = projectable.functional()\n",
    "    g = jacfwd(H.flat_in_flat_out)\n",
    "    N = sum(map(sum, F.decoder.shapes))\n",
    "    def calculate(*args):\n",
    "        x_F =  F.encoder.decode(args)\n",
    "        x0 = {**x_F, **F.dict_out_only(*args)}\n",
    "        x0_np = H.encoder.encode(x0, flatten=True)\n",
    "        d = decode(flatten_args(g(x0_np).T), \n",
    "                   H.encoder.order, \n",
    "                   [(N,) for elt in H.encoder.order], unflatten=True)\n",
    "        grad_h_y = np.vstack(F.decoder.encode(d)).T\n",
    "        grad_h_x = np.vstack(F.encoder.encode(d)).T\n",
    "        inv_grad_h_y = np.linalg.inv(grad_h_y)\n",
    "        DJ = -np.dot(inv_grad_h_y, grad_h_x)\n",
    "        return unflatten_args(flatten_args(DJ), [(N,) for elt in F.encoder.order])\n",
    "    return EncodedFunction(calculate, F.encoder)"
   ]
  },
  {
   "cell_type": "code",
   "execution_count": 48,
   "metadata": {},
   "outputs": [],
   "source": [
    "HMcouplingA = adjoints(HMcoupling)"
   ]
  },
  {
   "cell_type": "code",
   "execution_count": 57,
   "metadata": {},
   "outputs": [],
   "source": [
    "# import cProfile\n",
    "# import re\n",
    "# cProfile.run('HMcouplingA.dict_in_flat_out(y)')"
   ]
  },
  {
   "cell_type": "code",
   "execution_count": 56,
   "metadata": {},
   "outputs": [
    {
     "data": {
      "text/plain": [
       "DeviceArray([ 3.76358302e+03,  3.76358302e+04,  5.08083708e+04,\n",
       "              4.44102797e+04,  7.27595761e-12, -1.31725406e+04,\n",
       "             -5.98992842e+01, -5.98992842e+00,  3.83647607e+02,\n",
       "              3.83647607e+03,  5.17924269e+03,  4.52704176e+03,\n",
       "              9.09494702e-13, -1.34276662e+03, -6.10594130e+00,\n",
       "             -6.10594130e-01,  1.93032689e-02,  1.93032689e-01,\n",
       "              6.10594130e-01,  5.07778573e-01, -5.18537375e-01,\n",
       "             -4.17561441e-01, -1.89877050e-03, -1.89877050e-04],            dtype=float64)"
      ]
     },
     "execution_count": 56,
     "metadata": {},
     "output_type": "execute_result"
    }
   ],
   "source": [
    "HMcouplingA.dict_in_flat_out(y)"
   ]
  },
  {
   "cell_type": "code",
   "execution_count": 39,
   "metadata": {},
   "outputs": [],
   "source": [
    "x0 = HMR.encoder.encode({**z, **y}, flatten=True)"
   ]
  },
  {
   "cell_type": "code",
   "execution_count": 40,
   "metadata": {},
   "outputs": [
    {
     "data": {
      "text/plain": [
       "DeviceArray([0.00000000e+00, 0.00000000e+00, 1.11022302e-16],            dtype=float64, weak_type=True)"
      ]
     },
     "execution_count": 40,
     "metadata": {},
     "output_type": "execute_result"
    }
   ],
   "source": [
    "HMR.flat_in_flat_out(x0)"
   ]
  },
  {
   "cell_type": "code",
   "execution_count": 45,
   "metadata": {},
   "outputs": [
    {
     "data": {
      "text/plain": [
       "DeviceArray([[ 1.00000000e+00,  0.00000000e+00, -3.15463529e+04,\n",
       "              -3.15463529e+03, -3.15463529e+04, -3.15463529e+04,\n",
       "              -2.83917176e+04, -1.63579630e+04,  0.00000000e+00,\n",
       "               0.00000000e+00,  0.00000000e+00],\n",
       "             [-1.01936799e-01,  1.00000000e+00,  0.00000000e+00,\n",
       "               0.00000000e+00,  0.00000000e+00,  0.00000000e+00,\n",
       "               0.00000000e+00,  0.00000000e+00,  0.00000000e+00,\n",
       "               0.00000000e+00,  0.00000000e+00],\n",
       "             [-1.20175892e-05,  0.00000000e+00,  1.00000000e+00,\n",
       "               2.59259259e-02,  2.59259259e-01,  0.00000000e+00,\n",
       "               2.59259259e-02,  5.18537375e-01,  2.59259259e-01,\n",
       "               1.17892550e-03,  1.17892550e-04]],            dtype=float64, weak_type=True)"
      ]
     },
     "execution_count": 45,
     "metadata": {},
     "output_type": "execute_result"
    }
   ],
   "source": [
    "g(x0)"
   ]
  },
  {
   "cell_type": "markdown",
   "metadata": {},
   "source": [
    "# Restructuring"
   ]
  },
  {
   "cell_type": "code",
   "execution_count": 8,
   "metadata": {},
   "outputs": [],
   "source": [
    "merged_eqs = [(eq.right, eq.var) for eq in combined_projectables]"
   ]
  },
  {
   "cell_type": "code",
   "execution_count": 9,
   "metadata": {},
   "outputs": [],
   "source": [
    "edges = sympy_to_edges(merged_eqs, tvar=None,\n",
    "                       filterto=lambda x: not x.always_input)"
   ]
  },
  {
   "cell_type": "code",
   "execution_count": 10,
   "metadata": {},
   "outputs": [],
   "source": [
    "not_input = [omega0, A33, BM, KG, I, mstruct, KB, msolar]\n",
    "not_output = [Df, Dd, Ds, ts, tf, td, mbatt, A_s]"
   ]
  },
  {
   "cell_type": "code",
   "execution_count": 11,
   "metadata": {},
   "outputs": [
    {
     "name": "stdout",
     "output_type": "stream",
     "text": [
      "Set parameter Username\n",
      "Academic license - for non-commercial use only - expires 2024-04-07\n"
     ]
    }
   ],
   "source": [
    "xout = execute_tearing(edges, not_input=not_input, not_output=not_output)"
   ]
  },
  {
   "cell_type": "code",
   "execution_count": 12,
   "metadata": {},
   "outputs": [],
   "source": [
    "outset_initial = {key:val[0] for key,val in edges[1].items()}\n",
    "_, new_tree = reformulate(edges, default_tree(edges[0].keys()), edges[1], xout)"
   ]
  },
  {
   "cell_type": "code",
   "execution_count": 13,
   "metadata": {},
   "outputs": [],
   "source": [
    "new_eqs = restructure(merged_eqs, xout)"
   ]
  },
  {
   "cell_type": "code",
   "execution_count": 14,
   "metadata": {},
   "outputs": [],
   "source": [
    "new_eqs_order = [new_eqs[idx] for idx in new_tree[0].keys()]"
   ]
  },
  {
   "cell_type": "markdown",
   "metadata": {},
   "source": [
    "### Restructured system"
   ]
  },
  {
   "cell_type": "code",
   "execution_count": 15,
   "metadata": {},
   "outputs": [],
   "source": [
    "RS = ProjectableIntersection(*(SympyProjectable(right, var)\n",
    "                        for var, right in new_eqs_order))"
   ]
  },
  {
   "cell_type": "code",
   "execution_count": 16,
   "metadata": {},
   "outputs": [],
   "source": [
    "RSF = RS.functional()"
   ]
  },
  {
   "cell_type": "code",
   "execution_count": 17,
   "metadata": {},
   "outputs": [
    {
     "data": {
      "text/plain": [
       "False"
      ]
     },
     "execution_count": 17,
     "metadata": {},
     "output_type": "execute_result"
    }
   ],
   "source": [
    "RSF.encoder.order[3] == list(y.keys())[3]"
   ]
  },
  {
   "cell_type": "code",
   "execution_count": 18,
   "metadata": {},
   "outputs": [
    {
     "data": {
      "text/plain": [
       "{I: 0.785398163397448,\n",
       " C_{33}: 31546.35289650436,\n",
       " A_{33}: 4051.825142670288,\n",
       " K_G: 0.15,\n",
       " m_{struct}: 1288.0529879718201,\n",
       " m_{solar}: 5.0,\n",
       " m_{platform}: 1333.0529879718201,\n",
       " \\omega_0: 2.9291612670854152,\n",
       " F_W: 13077.249812003556,\n",
       " F_B: 13077.249812003556,\n",
       " Vd: 1.3023182766430443,\n",
       " hf: 0.21454078241331698,\n",
       " B_M: 0.6030769724141095,\n",
       " K_B: 0.20727039120665852,\n",
       " G_M: 0.6603473636207681}"
      ]
     },
     "execution_count": 18,
     "metadata": {},
     "output_type": "execute_result"
    }
   ],
   "source": [
    "y = {Df:2, Ds:2, Dd:2, tf:0.1, ts:0.1, td:0.1, mbatt:0, A_s:0.5}\n",
    "RSF.dict_in_dict_out(y)"
   ]
  },
  {
   "cell_type": "code",
   "execution_count": 19,
   "metadata": {},
   "outputs": [],
   "source": [
    "#F,R,solvervars = feedback_residuals(new_eqs_order)\n",
    "#Rsys = concatenate_residuals((Hydro.residuals(), \n",
    "#                             Mass.residuals()))"
   ]
  },
  {
   "cell_type": "markdown",
   "metadata": {},
   "source": [
    "# Optimization"
   ]
  },
  {
   "cell_type": "markdown",
   "metadata": {},
   "source": [
    "### Multidisciplinary Feasible with original equations"
   ]
  },
  {
   "cell_type": "code",
   "execution_count": 22,
   "metadata": {},
   "outputs": [
    {
     "data": {
      "text/plain": [
       "(Df, Ds, Dd, td, tf, ts, A_s, m_{batt})"
      ]
     },
     "execution_count": 22,
     "metadata": {},
     "output_type": "execute_result"
    }
   ],
   "source": [
    "RSF.encoder.order"
   ]
  },
  {
   "cell_type": "code",
   "execution_count": 23,
   "metadata": {},
   "outputs": [],
   "source": [
    "x0 = {Df:2, Ds:1.5, Dd:2, tf:0.15, ts:5, td:0.2, A_s:0.1, mbatt:100}\n",
    "#x0 = z\n",
    "x0_all = {**RSF.dict_in_dict_out(x0), **x0} # Initial guesses for all variables"
   ]
  },
  {
   "cell_type": "code",
   "execution_count": 24,
   "metadata": {},
   "outputs": [],
   "source": [
    "obj  = encode_sympy(mtot)\n",
    "ineq = concatenate_residuals((\n",
    "    #encode_sympy(-hf),\n",
    "    encode_sympy(hf-0.9*tf),\n",
    "    encode_sympy(Ds-0.9*Df),\n",
    "    encode_sympy(Ds-0.9*Dd),\n",
    "    encode_sympy(GM-0.05),\n",
    "    encode_sympy(0.03-GM),\n",
    "    encode_sympy(0.1-td)))"
   ]
  },
  {
   "cell_type": "code",
   "execution_count": 25,
   "metadata": {},
   "outputs": [],
   "source": [
    "HydroMass.solvepar(x_initial={mtot:100, td:0.1})\n",
    "HMF = HydroMass.functional()\n",
    "obj_mdf, ineq_mdf = (eliminate_vars(obj, HMF), \n",
    "                    eliminate_vars(ineq, HMF))"
   ]
  },
  {
   "cell_type": "code",
   "execution_count": 26,
   "metadata": {},
   "outputs": [],
   "source": [
    "OPT_MDF = optimizer_solver(obj_mdf, ineqs=(ineq_mdf,), bounds={\n",
    "    Df:(.1,10), Ds:(.1,10), Dd:(.1,10), \n",
    "    tf:(.1,10), ts:(.1,.5), td:(.1,10), A_s:(.1,10), mbatt:(.1,1000)})"
   ]
  },
  {
   "cell_type": "code",
   "execution_count": 27,
   "metadata": {},
   "outputs": [],
   "source": [
    "x0_mdf = {key:val for (key,val) in x0_all.items() if key in OPT_MDF.decoder.order}\n",
    "x0_mdf[Df] = x0_mdf[Df]"
   ]
  },
  {
   "cell_type": "code",
   "execution_count": 28,
   "metadata": {},
   "outputs": [
    {
     "data": {
      "text/plain": [
       "DeviceArray([8352.33779832], dtype=float64)"
      ]
     },
     "execution_count": 28,
     "metadata": {},
     "output_type": "execute_result"
    }
   ],
   "source": [
    "obj_mdf.dict_in_only(x0_mdf)"
   ]
  },
  {
   "cell_type": "code",
   "execution_count": 136,
   "metadata": {},
   "outputs": [
    {
     "name": "stdout",
     "output_type": "stream",
     "text": [
      "Optimization terminated successfully\n"
     ]
    }
   ],
   "source": [
    "z1 = OPT_MDF.dict_in_dict_out(x0=x0_mdf)"
   ]
  },
  {
   "cell_type": "markdown",
   "metadata": {},
   "source": [
    "### Multidisciplinary Feasible with restructured equations"
   ]
  },
  {
   "cell_type": "code",
   "execution_count": 29,
   "metadata": {},
   "outputs": [],
   "source": [
    "x0 = {Df:2, Ds:1.5, Dd:2, tf:0.15, ts:5, td:0.2, A_s:0.1, mbatt:100}"
   ]
  },
  {
   "cell_type": "code",
   "execution_count": 30,
   "metadata": {},
   "outputs": [
    {
     "data": {
      "text/plain": [
       "DeviceArray([8352.33779832], dtype=float64, weak_type=True)"
      ]
     },
     "execution_count": 30,
     "metadata": {},
     "output_type": "execute_result"
    }
   ],
   "source": [
    "eliminate_vars(obj, RSF).dict_in_flat_out(x0)#, eliminate_vars(ineq, RSF).dict_in_flat_out(x0)"
   ]
  },
  {
   "cell_type": "code",
   "execution_count": 31,
   "metadata": {},
   "outputs": [],
   "source": [
    "obj_el, ineq_el = (eliminate_vars(obj, RSF), \n",
    "                    eliminate_vars(ineq, RSF))"
   ]
  },
  {
   "cell_type": "code",
   "execution_count": 32,
   "metadata": {},
   "outputs": [],
   "source": [
    "OPT = optimizer_solver(obj_el, ineqs=(ineq_el,), bounds={\n",
    "    Df:(.1,10), Ds:(.1,10), Dd:(.1,10), \n",
    "    tf:(.1,10), ts:(.1,.5), td:(.1,10), A_s:(.1,10), mbatt:(.1,1000)})"
   ]
  },
  {
   "cell_type": "code",
   "execution_count": 33,
   "metadata": {},
   "outputs": [
    {
     "name": "stdout",
     "output_type": "stream",
     "text": [
      "Optimization terminated successfully\n"
     ]
    }
   ],
   "source": [
    "z = OPT.dict_in_dict_out(x0=x0)"
   ]
  },
  {
   "cell_type": "code",
   "execution_count": 36,
   "metadata": {},
   "outputs": [
    {
     "data": {
      "text/plain": [
       "({Df: 0.7133636651119954,\n",
       "  Ds: 0.1,\n",
       "  Dd: 0.11111111101233184,\n",
       "  td: 0.1,\n",
       "  tf: 0.46881162270138726,\n",
       "  ts: 0.5,\n",
       "  A_s: 0.1,\n",
       "  m_{batt}: 0.1},\n",
       " DeviceArray([177.62895723], dtype=float64),\n",
       " DeviceArray([ 1.22509003e-10, -5.42027299e-01,  8.89013446e-11,\n",
       "              -3.92121908e-03, -1.60787809e-02,  0.00000000e+00],            dtype=float64))"
      ]
     },
     "execution_count": 36,
     "metadata": {},
     "output_type": "execute_result"
    }
   ],
   "source": [
    "z, obj_el.dict_in_only(z), ineq_el.dict_in_only(z)"
   ]
  },
  {
   "cell_type": "markdown",
   "metadata": {},
   "source": [
    "### All At Once"
   ]
  },
  {
   "cell_type": "code",
   "execution_count": 36,
   "metadata": {},
   "outputs": [],
   "source": [
    "R_AAO = HydroMass.residuals()"
   ]
  },
  {
   "cell_type": "code",
   "execution_count": 37,
   "metadata": {},
   "outputs": [],
   "source": [
    "OPT_AAO = optimizer_solver(obj, ineqs=(ineq,), eqs=(R_AAO,), bounds={\n",
    "    Df:(.1,10), Ds:(.1,10), Dd:(.1,10), \n",
    "    tf:(.1,10), ts:(.1,.5), td:(.1,10), A_s:(.1,10), mbatt:(.1,1000)})"
   ]
  },
  {
   "cell_type": "code",
   "execution_count": 38,
   "metadata": {},
   "outputs": [
    {
     "data": {
      "text/plain": [
       "(array([6312.81849399]),\n",
       " array([-3.53458681,  0.6       ,  1.41      , -0.75845784,  0.73845784,\n",
       "        -0.1       ]),\n",
       " array([ 1.59872116e-14,  7.27595761e-12,  0.00000000e+00,  4.44089210e-16,\n",
       "         0.00000000e+00,  0.00000000e+00,  0.00000000e+00,  0.00000000e+00,\n",
       "         0.00000000e+00,  1.13686838e-13,  0.00000000e+00, -2.45563569e-11,\n",
       "         0.00000000e+00,  0.00000000e+00, -2.01505479e-14]))"
      ]
     },
     "execution_count": 38,
     "metadata": {},
     "output_type": "execute_result"
    }
   ],
   "source": [
    "x0 = {Df:1, Ds:1.5, Dd:0.1, tf:0.15, ts:5, td:0.2, A_s:0.1, mbatt:0.1}\n",
    "x1 = {**RSF.dict_in_dict_out(x0), **x0}\n",
    "x1 = {key:val for (key,val) in x1.items() if key in OPT_AAO.decoder.order}\n",
    "obj.dict_in_flat_out(x1), ineq.dict_in_only(x1), R_AAO.dict_in_only(x1)"
   ]
  },
  {
   "cell_type": "code",
   "execution_count": 39,
   "metadata": {},
   "outputs": [
    {
     "name": "stdout",
     "output_type": "stream",
     "text": [
      "Optimization terminated successfully\n"
     ]
    }
   ],
   "source": [
    "z1 = OPT_AAO.dict_in_dict_out(x0=x1)"
   ]
  },
  {
   "cell_type": "code",
   "execution_count": 40,
   "metadata": {},
   "outputs": [
    {
     "data": {
      "text/plain": [
       "array([177.62895769])"
      ]
     },
     "execution_count": 40,
     "metadata": {},
     "output_type": "execute_result"
    }
   ],
   "source": [
    "obj.dict_in_flat_out(z1)"
   ]
  },
  {
   "cell_type": "markdown",
   "metadata": {},
   "source": [
    "### Individual Discipline Feasible"
   ]
  },
  {
   "cell_type": "code",
   "execution_count": 41,
   "metadata": {},
   "outputs": [],
   "source": [
    "F, R, solvevars = HydroMass.functional_parts()\n",
    "Relim = eliminate_vars(R, F)"
   ]
  },
  {
   "cell_type": "code",
   "execution_count": 42,
   "metadata": {},
   "outputs": [],
   "source": [
    "obj_idf_el, ineq_idf_el, eq_idf_el = (eliminate_vars(obj, F), \n",
    "                          eliminate_vars(ineq, F),\n",
    "                          eliminate_vars(R, F))"
   ]
  },
  {
   "cell_type": "code",
   "execution_count": 43,
   "metadata": {},
   "outputs": [],
   "source": [
    "OPT_IDF = optimizer_solver(obj_idf_el, ineqs=(ineq_idf_el,), eqs=(eq_idf_el,), bounds={\n",
    "    Df:(.1,10), Ds:(.1,10), Dd:(.1,10), \n",
    "    tf:(.1,10), ts:(.1,.5), td:(.1,10), A_s:(.1,10), mbatt:(.1,1000)})"
   ]
  },
  {
   "cell_type": "code",
   "execution_count": 44,
   "metadata": {},
   "outputs": [
    {
     "data": {
      "text/plain": [
       "(array([6312.81849399]),\n",
       " array([-3.53458681,  0.6       ,  1.41      , -0.75845784,  0.73845784,\n",
       "        -0.1       ]),\n",
       " array([-7.27595761e-12, -2.01505479e-14]))"
      ]
     },
     "execution_count": 44,
     "metadata": {},
     "output_type": "execute_result"
    }
   ],
   "source": [
    "x0 = {Df:1, Ds:1.5, Dd:0.1, tf:0.15, ts:5, td:0.2, A_s:0.1, mbatt:0.1}\n",
    "x2 = {**RSF.dict_in_dict_out(x0), **x0}\n",
    "x2 = {key:val for (key,val) in x2.items() if key in OPT_IDF.decoder.order}\n",
    "(eliminate_vars(obj, F).dict_in_flat_out(x2), \n",
    "eliminate_vars(ineq, F).dict_in_flat_out(x2),\n",
    "eliminate_vars(R, F).dict_in_flat_out(x2))"
   ]
  },
  {
   "cell_type": "code",
   "execution_count": 45,
   "metadata": {},
   "outputs": [
    {
     "name": "stdout",
     "output_type": "stream",
     "text": [
      "Optimization terminated successfully\n"
     ]
    }
   ],
   "source": [
    "z2 = OPT_IDF.dict_in_dict_out(x0=x2)"
   ]
  },
  {
   "cell_type": "code",
   "execution_count": 46,
   "metadata": {},
   "outputs": [
    {
     "data": {
      "text/plain": [
       "array([177.62895833])"
      ]
     },
     "execution_count": 46,
     "metadata": {},
     "output_type": "execute_result"
    }
   ],
   "source": [
    "obj.dict_in_flat_out(z2)"
   ]
  }
 ],
 "metadata": {
  "kernelspec": {
   "display_name": "minimdo",
   "language": "python",
   "name": "python3"
  },
  "language_info": {
   "codemirror_mode": {
    "name": "ipython",
    "version": 3
   },
   "file_extension": ".py",
   "mimetype": "text/x-python",
   "name": "python",
   "nbconvert_exporter": "python",
   "pygments_lexer": "ipython3",
   "version": "3.9.18"
  }
 },
 "nbformat": 4,
 "nbformat_minor": 4
}
