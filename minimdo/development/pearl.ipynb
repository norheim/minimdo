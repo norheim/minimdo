{
 "cells": [
  {
   "cell_type": "code",
   "execution_count": 102,
   "metadata": {},
   "outputs": [],
   "source": [
    "from foundations.projectables import Projectable\n",
    "from foundations.projectables import restructure\n",
    "from foundations.projectables import feedback_residuals\n",
    "from foundations.projectables import strategy_eliminate_feedfwd\n",
    "from modeling.compute import create_vars, Par, Var\n",
    "from foundations.functional_noobj import eliminate_vars\n",
    "from foundations.functional_noobj import concatenate_residuals\n",
    "from foundations.functional_noobj import optimizer_solver\n",
    "from foundations.functionals import encode_sympy\n",
    "from modeling.execution import sympy_to_edges\n",
    "from graph.graphutils import default_tree\n",
    "from presolver.tearprepare import execute_tearing\n",
    "from graph.operators import reformulate\n",
    "from numpy import pi"
   ]
  },
  {
   "cell_type": "code",
   "execution_count": 7,
   "metadata": {},
   "outputs": [
    {
     "data": {
      "text/plain": [
       "{W: 6415.7614501678045, Ww: 1475.761450167805}"
      ]
     },
     "execution_count": 7,
     "metadata": {},
     "output_type": "execute_result"
    }
   ],
   "source": [
    "A,V,S,W = create_vars('A V S W')\n",
    "t, W0 = 0.12, 4940\n",
    "Struct = Projectable()\n",
    "Ww = Struct.Var('Ww', 45.42*S+8.71e-5*2.5/t*A**(3/2)*S**(1/2)*(W0*W)**(1/2))\n",
    "Struct.add_equation(W, W0+Ww)\n",
    "functional = Struct.functional(x_initial={W:1000})\n",
    "functional.dict_in_dict_out({A:10, S:10}, cleanup=True)"
   ]
  },
  {
   "cell_type": "code",
   "execution_count": 8,
   "metadata": {},
   "outputs": [],
   "source": [
    "Df, Ds, Dd, tf, ts, td, hf, mtot = create_vars('Df Ds Dd tf ts td hf m_{platform}')\n",
    "g, rhow = 9.81, 1023.6\n",
    "\n",
    "Hydro = Projectable()\n",
    "Vd = Hydro.Var('Vd', pi/4*(Df**2*hf+Ds**2*ts+Dd**2*td))\n",
    "FB = Hydro.Var('F_B', rhow*Vd*g)\n",
    "FW = Hydro.Var('F_W', FB)\n",
    "xd,xs = td/2,td+ts/2\n",
    "xf1,xf2 = td+ts+hf/2, td+ts+tf/2\n",
    "totA1, totA2 = hf*Df+ts*Ds+td*Dd, tf*Df+ts*Ds+td*Dd\n",
    "KB = Hydro.Var('K_B', (hf*Df*xf1+ts*Ds*xs+td*Dd*xd)/totA1) \n",
    "KG = Hydro.Var('K_G', (tf*Df*xf2+ts*Ds*xs+td*Dd*xd)/totA2) \n",
    "I = Hydro.Var('I', pi/64*Df**4)\n",
    "BM = Hydro.Var('B_M', I/Vd)\n",
    "#should be 3-5% according to http://web.mit.edu/13.012/www/handouts/Reading3.pdf\n",
    "GM = Hydro.Var('G_M', KB+BM-KG) \n",
    "C33 = Hydro.Var('C_{33}', pi*rhow*g/4*Df**2)\n",
    "A33 = Hydro.Var('A_{33}', 0.0525*pi*rhow*(Dd**3+Ds**3+Df**3))\n",
    "omega0 = Hydro.Var('\\omega_0', (C33/(A33+mtot))**1/2)"
   ]
  },
  {
   "cell_type": "code",
   "execution_count": 9,
   "metadata": {},
   "outputs": [],
   "source": [
    "mbatt, A_s = create_vars('m_{batt} A_s')\n",
    "mprop, mcomms, eta_solar, rho, rhoh = 50, 50, 10, 700, 2700\n",
    "Mass = Projectable()\n",
    "Mass.add_equation(mtot, FW/g)\n",
    "msolar = Mass.Var('m_{solar}', eta_solar*A_s)\n",
    "mstruct = Mass.Var('m_{struct}', mtot-mbatt-msolar-mcomms-mprop) \n",
    "Mass.add_equation(td, (4/pi*mstruct-Df**2*tf*rho-Ds**2*ts*rho)/(Dd**2*rhoh))"
   ]
  },
  {
   "cell_type": "code",
   "execution_count": 79,
   "metadata": {},
   "outputs": [],
   "source": [
    "yH = {Df:2, Ds:2, Dd:2, tf:0.1, ts:0.1, td:0.1, hf:0.9*0.3, mtot:800}\n",
    "HF = Hydro.functional()\n",
    "yM = {mbatt:100, A_s:0.5, FW:36130}\n",
    "MF = Mass.functional()"
   ]
  },
  {
   "cell_type": "code",
   "execution_count": 88,
   "metadata": {},
   "outputs": [],
   "source": [
    "merged_eqs = Hydro.sympy_equations+Mass.sympy_equations\n",
    "F, R, solvevars = feedback_residuals(merged_eqs)"
   ]
  },
  {
   "cell_type": "code",
   "execution_count": 103,
   "metadata": {},
   "outputs": [],
   "source": [
    "combined = strategy_eliminate_feedfwd(R,F,solvevars, \n",
    "                           x_initial={mtot:1000, td:0.01})"
   ]
  },
  {
   "cell_type": "code",
   "execution_count": 112,
   "metadata": {},
   "outputs": [
    {
     "data": {
      "text/plain": [
       "(Df, tf, Dd, Ds, ts, hf, A_s, m_{batt})"
      ]
     },
     "execution_count": 112,
     "metadata": {},
     "output_type": "execute_result"
    }
   ],
   "source": [
    "combined.encoder.order"
   ]
  },
  {
   "cell_type": "code",
   "execution_count": 123,
   "metadata": {},
   "outputs": [],
   "source": [
    "yH = {Df:2, Ds:2, Dd:2, tf:0.1, ts:0.1, hf:0.9, mbatt:0, A_s:0.5}"
   ]
  },
  {
   "cell_type": "code",
   "execution_count": 124,
   "metadata": {},
   "outputs": [
    {
     "data": {
      "text/plain": [
       "{m_{platform}: 4785.5175703586165,\n",
       " td: 0.48815704684581535,\n",
       " Vd: 4.675183245758693,\n",
       " F_B: 46945.927365217845,\n",
       " F_W: 46945.927365217845,\n",
       " K_B: 0.7440785234229077,\n",
       " K_G: 0.3440785234229077,\n",
       " I: 0.785398163397448,\n",
       " B_M: 0.16799302232911575,\n",
       " G_M: 0.5679930223291157,\n",
       " C_{33}: 31546.35289650436,\n",
       " A_{33}: 4051.825142670288,\n",
       " \\omega_0: 1.7848324955190167,\n",
       " m_{solar}: 5.0,\n",
       " m_{struct}: 4580.5175703586165}"
      ]
     },
     "execution_count": 124,
     "metadata": {},
     "output_type": "execute_result"
    }
   ],
   "source": [
    "combined.dict_in_dict_out({**yH, **yM})"
   ]
  },
  {
   "cell_type": "code",
   "execution_count": 98,
   "metadata": {},
   "outputs": [],
   "source": [
    "Relim = eliminate_vars(R, F)"
   ]
  },
  {
   "cell_type": "code",
   "execution_count": 100,
   "metadata": {},
   "outputs": [
    {
     "data": {
      "text/plain": [
       "array([-7.11395093e+02,  8.17057843e-02])"
      ]
     },
     "execution_count": 100,
     "metadata": {},
     "output_type": "execute_result"
    }
   ],
   "source": [
    "Relim.dict_in_flat_out({**yH, **yM})"
   ]
  },
  {
   "cell_type": "code",
   "execution_count": 86,
   "metadata": {},
   "outputs": [
    {
     "data": {
      "text/plain": [
       "'53.19 %'"
      ]
     },
     "execution_count": 86,
     "metadata": {},
     "output_type": "execute_result"
    }
   ],
   "source": [
    "'{:.2f} %'.format(HF.dict_in_dict_out(yH)[BM]*100)\n",
    "#MF.dict_in_dict_out({**yM, **yH})"
   ]
  },
  {
   "cell_type": "code",
   "execution_count": 13,
   "metadata": {},
   "outputs": [],
   "source": [
    "edges = sympy_to_edges(merged_eqs, tvar=None,\n",
    "                       filterto=lambda x: not x.always_input)"
   ]
  },
  {
   "cell_type": "code",
   "execution_count": 32,
   "metadata": {},
   "outputs": [],
   "source": [
    "not_input = [omega0, A33, BM, KG, I, mstruct, KB, msolar]\n",
    "not_output = [Df, Dd, Ds, ts, tf, td]"
   ]
  },
  {
   "cell_type": "code",
   "execution_count": 33,
   "metadata": {},
   "outputs": [],
   "source": [
    "xout = execute_tearing(edges, not_input=not_input, not_output=not_output)"
   ]
  },
  {
   "cell_type": "code",
   "execution_count": 34,
   "metadata": {},
   "outputs": [],
   "source": [
    "outset_initial = {key:val[0] for key,val in edges[1].items()}\n",
    "_, new_tree = reformulate(edges, default_tree(edges[0].keys()), edges[1], xout)"
   ]
  },
  {
   "cell_type": "code",
   "execution_count": 35,
   "metadata": {},
   "outputs": [],
   "source": [
    "new_eqs = restructure(merged_eqs, xout)"
   ]
  },
  {
   "cell_type": "code",
   "execution_count": 36,
   "metadata": {},
   "outputs": [],
   "source": [
    "new_eqs_order = [new_eqs[idx] for idx in new_tree[0].keys()]"
   ]
  },
  {
   "cell_type": "code",
   "execution_count": 37,
   "metadata": {},
   "outputs": [],
   "source": [
    "F,R,solvervars = feedback_residuals(new_eqs_order)"
   ]
  },
  {
   "cell_type": "code",
   "execution_count": 43,
   "metadata": {},
   "outputs": [],
   "source": [
    "Rsys = concatenate_residuals((Hydro.residuals(), \n",
    "                             Mass.residuals()))"
   ]
  },
  {
   "cell_type": "code",
   "execution_count": 47,
   "metadata": {},
   "outputs": [
    {
     "data": {
      "text/plain": [
       "(Df, Ds, Dd, tf, td, ts, A_s, m_{batt})"
      ]
     },
     "execution_count": 47,
     "metadata": {},
     "output_type": "execute_result"
    }
   ],
   "source": [
    "F.encoder.order"
   ]
  },
  {
   "cell_type": "code",
   "execution_count": 59,
   "metadata": {},
   "outputs": [],
   "source": [
    "y = {Df:2, Ds:1, Dd:1.25, tf:0.5, ts:2, td:0.5, A_s:0.5, mbatt:100}"
   ]
  },
  {
   "cell_type": "code",
   "execution_count": 62,
   "metadata": {},
   "outputs": [
    {
     "data": {
      "text/plain": [
       "array([4060.81410843])"
      ]
     },
     "execution_count": 62,
     "metadata": {},
     "output_type": "execute_result"
    }
   ],
   "source": [
    "eliminate_vars(obj, F).dict_in_flat_out(y)"
   ]
  },
  {
   "cell_type": "code",
   "execution_count": 48,
   "metadata": {},
   "outputs": [],
   "source": [
    "obj  = encode_sympy(mtot)\n",
    "ineq = concatenate_residuals((\n",
    "    encode_sympy(hf-0.9*tf),\n",
    "    encode_sympy(Ds-0.9*Df),\n",
    "    encode_sympy(Ds-0.9*Dd),\n",
    "    encode_sympy(0.1-td)))\n",
    "eq = R"
   ]
  },
  {
   "cell_type": "code",
   "execution_count": 53,
   "metadata": {},
   "outputs": [
    {
     "data": {
      "text/plain": [
       "() <- (Df, Ds, Dd, tf, td, ts, A_s, m_{batt})"
      ]
     },
     "execution_count": 53,
     "metadata": {},
     "output_type": "execute_result"
    }
   ],
   "source": [
    "eliminate_vars(obj, F)"
   ]
  },
  {
   "cell_type": "code",
   "execution_count": 63,
   "metadata": {},
   "outputs": [],
   "source": [
    "obj_el, ineq_el = (eliminate_vars(obj, F), \n",
    "                    eliminate_vars(ineq, F))"
   ]
  },
  {
   "cell_type": "code",
   "execution_count": 69,
   "metadata": {},
   "outputs": [],
   "source": [
    "OPT = optimizer_solver(obj_el, ineqs=(ineq_el,), bounds={\n",
    "    Df:(.1,10), Ds:(.1,10), Dd:(.1,10), \n",
    "    tf:(.1,10), ts:(.1,10), td:(.1,10), A_s:(.1,10), mbatt:(.1,1000)})"
   ]
  },
  {
   "cell_type": "code",
   "execution_count": 70,
   "metadata": {},
   "outputs": [
    {
     "name": "stderr",
     "output_type": "stream",
     "text": [
      "c:\\Users\\johan\\miniconda3\\envs\\minimdo\\lib\\site-packages\\scipy\\optimize\\optimize.py:282: RuntimeWarning: Values in x were outside bounds during a minimize step, clipping to bounds\n",
      "  warnings.warn(\"Values in x were outside bounds during a \"\n"
     ]
    },
    {
     "data": {
      "text/plain": [
       "{Df: 0.22802724650406425,\n",
       " Ds: 0.20522431714601252,\n",
       " Dd: 0.22802713886610262,\n",
       " tf: 0.10000000039645938,\n",
       " td: 0.10000000214464105,\n",
       " ts: 9.999999998247896,\n",
       " A_s: 0.10000000068502242,\n",
       " m_{batt}: 0.10000000005000768}"
      ]
     },
     "execution_count": 70,
     "metadata": {},
     "output_type": "execute_result"
    }
   ],
   "source": [
    "OPT.dict_in_dict_out(x0=y)"
   ]
  },
  {
   "cell_type": "code",
   "execution_count": null,
   "metadata": {},
   "outputs": [],
   "source": []
  }
 ],
 "metadata": {
  "kernelspec": {
   "display_name": "minimdo",
   "language": "python",
   "name": "python3"
  },
  "language_info": {
   "codemirror_mode": {
    "name": "ipython",
    "version": 3
   },
   "file_extension": ".py",
   "mimetype": "text/x-python",
   "name": "python",
   "nbconvert_exporter": "python",
   "pygments_lexer": "ipython3",
   "version": "3.9.12"
  },
  "orig_nbformat": 4
 },
 "nbformat": 4,
 "nbformat_minor": 2
}
