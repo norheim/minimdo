{
 "cells": [
  {
   "cell_type": "code",
   "execution_count": 1,
   "metadata": {},
   "outputs": [],
   "source": [
    "from modeling.compute import Var\n",
    "from foundations.functionals import Functional\n",
    "from foundations.functionals import Projectable\n",
    "from foundations.functionals import Problem\n",
    "from foundations.functionals import intersection\n",
    "from foundations.functionals import residual_solver\n",
    "from foundations.functionals import generate_opt_objects\n",
    "import numpy as np\n",
    "from sympy import exp"
   ]
  },
  {
   "cell_type": "code",
   "execution_count": 2,
   "metadata": {},
   "outputs": [],
   "source": [
    "z1,z2,x,y2 = Var('z_1'), Var('z_2'), Var('x'), Var('y_2')"
   ]
  },
  {
   "cell_type": "code",
   "execution_count": 3,
   "metadata": {},
   "outputs": [],
   "source": [
    "F1 = Functional()\n",
    "a = F1.Var('a', z1+z2-0.2*y2) # intermediate variable for demonstration purposes\n",
    "y1 = F1.Var('y_1', x**2+a)\n",
    "F2 = Functional(y2, abs(y1)**.5+z1+z2)\n",
    "\n",
    "F = intersection(F1, F2) # eliminates 'a', 'y_1' and 'y_2'\n",
    "\n",
    "obj = x**2+z2+y1+exp(-y2)\n",
    "ineq = [3.16-y1, y2-24] # technically represent residual sets\n",
    "# eq = F.projectable # using residuals for F1 and F2\n",
    "problem = Problem(obj, ineq, eliminate=F, \n",
    "                bounds={x:(0,10), z1:(0,10), z2:(0,10)})\n",
    "\n",
    "xopt = problem.dict_in_dict_out(x0={x:1, z1:1, z2:1})"
   ]
  },
  {
   "cell_type": "markdown",
   "metadata": {},
   "source": [
    "# All at once formulation"
   ]
  },
  {
   "cell_type": "code",
   "execution_count": 4,
   "metadata": {},
   "outputs": [],
   "source": [
    "problem = Problem(obj, ineq, F.projectable,\n",
    "                  bounds={x:(0,10), z1:(0,10), z2:(0,10)})\n",
    "xopt_aao = problem.dict_in_dict_out(x0={x:1, z1:1, z2:1, \n",
    "                             a:1, y1:1, y2:1})"
   ]
  },
  {
   "cell_type": "code",
   "execution_count": 10,
   "metadata": {},
   "outputs": [
    {
     "data": {
      "text/plain": [
       "() <- (z_2, y_1, x, y_2)"
      ]
     },
     "execution_count": 10,
     "metadata": {},
     "output_type": "execute_result"
    }
   ],
   "source": [
    "problem.obj.dict_in_only(xopt)"
   ]
  },
  {
   "cell_type": "code",
   "execution_count": 7,
   "metadata": {},
   "outputs": [
    {
     "data": {
      "text/plain": [
       "{z_2: 0.0,\n",
       " y_1: 3.1599999999999997,\n",
       " x: 2.0816681711721685e-16,\n",
       " y_2: 6.172048611587837,\n",
       " a: 3.1599999999999997,\n",
       " z_1: 4.394409728124719}"
      ]
     },
     "execution_count": 7,
     "metadata": {},
     "output_type": "execute_result"
    }
   ],
   "source": [
    "xopt_aao"
   ]
  },
  {
   "cell_type": "code",
   "execution_count": null,
   "metadata": {},
   "outputs": [],
   "source": []
  }
 ],
 "metadata": {
  "kernelspec": {
   "display_name": "minimdo",
   "language": "python",
   "name": "python3"
  },
  "language_info": {
   "codemirror_mode": {
    "name": "ipython",
    "version": 3
   },
   "file_extension": ".py",
   "mimetype": "text/x-python",
   "name": "python",
   "nbconvert_exporter": "python",
   "pygments_lexer": "ipython3",
   "version": "3.9.12"
  },
  "orig_nbformat": 4
 },
 "nbformat": 4,
 "nbformat_minor": 2
}
