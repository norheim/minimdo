{
 "cells": [
  {
   "cell_type": "code",
   "execution_count": 1,
   "metadata": {},
   "outputs": [],
   "source": [
    "from modeling.compute import Var\n",
    "from foundations.functionals import Functional\n",
    "from foundations.functionals import Projectable\n",
    "from foundations.functionals import Problem\n",
    "from foundations.functionals import intersection\n",
    "from foundations.functionals import residual_solver\n",
    "from foundations.functionals import generate_opt_objects\n",
    "import numpy as np\n",
    "from sympy import exp"
   ]
  },
  {
   "cell_type": "code",
   "execution_count": 2,
   "metadata": {},
   "outputs": [],
   "source": [
    "z1,z2,x,y2 = Var('z_1'), Var('z_2'), Var('x'), Var('y_2')"
   ]
  },
  {
   "cell_type": "code",
   "execution_count": 3,
   "metadata": {},
   "outputs": [],
   "source": [
    "F1 = Functional()\n",
    "a = F1.Var('a', z1+z2-0.2*y2) # intermediate variable for demonstration purposes\n",
    "y1 = F1.Var('y_1', x**2+a)\n",
    "F2 = Functional(y2, abs(y1)**.5+z1+z2)\n",
    "\n",
    "F = intersection(F1, F2) # eliminates 'a', 'y_1' and 'y_2'\n",
    "\n",
    "obj = x**2+z2+y1+exp(-y2)\n",
    "ineq = [3.16-y1, y2-24] # technically represent residual sets\n",
    "# eq = [F1.set, F2.set] # using residuals for F1 and F2\n",
    "problem = Problem(obj, ineq, eliminate=F, \n",
    "                bounds = {x:(0,10), z1:(0,10), z2:(0,10)})\n",
    "\n",
    "xopt = problem.dict_in_dict_out(x0={x:1, z1:1, z2:1})"
   ]
  },
  {
   "cell_type": "code",
   "execution_count": 4,
   "metadata": {},
   "outputs": [],
   "source": [
    "problem = Problem(obj, ineq, F.projectable,\n",
    "                  bounds = {x:(0,10), z1:(0,10), z2:(0,10)})"
   ]
  },
  {
   "cell_type": "code",
   "execution_count": 5,
   "metadata": {},
   "outputs": [
    {
     "ename": "TypeError",
     "evalue": "'NoneType' object is not callable",
     "output_type": "error",
     "traceback": [
      "\u001b[1;31m---------------------------------------------------------------------------\u001b[0m",
      "\u001b[1;31mTypeError\u001b[0m                                 Traceback (most recent call last)",
      "\u001b[1;32mc:\\Users\\johan\\github\\designresolver\\minimdo\\development\\sellar.ipynb Cell 5\u001b[0m in \u001b[0;36m<cell line: 1>\u001b[1;34m()\u001b[0m\n\u001b[1;32m----> <a href='vscode-notebook-cell:/c%3A/Users/johan/github/designresolver/minimdo/development/sellar.ipynb#X65sZmlsZQ%3D%3D?line=0'>1</a>\u001b[0m problem\u001b[39m.\u001b[39;49mdict_in_dict_out(x0\u001b[39m=\u001b[39;49m{x:\u001b[39m1\u001b[39;49m, z1:\u001b[39m1\u001b[39;49m, z2:\u001b[39m1\u001b[39;49m, \n\u001b[0;32m      <a href='vscode-notebook-cell:/c%3A/Users/johan/github/designresolver/minimdo/development/sellar.ipynb#X65sZmlsZQ%3D%3D?line=1'>2</a>\u001b[0m                              a:\u001b[39m1\u001b[39;49m, y1:\u001b[39m1\u001b[39;49m, y2:\u001b[39m1\u001b[39;49m})\n",
      "File \u001b[1;32mc:\\users\\johan\\github\\designresolver\\minimdo\\modeling\\arghandling.py:81\u001b[0m, in \u001b[0;36mEncodedFunction.dict_in_dict_out\u001b[1;34m(self, d, **kwargs)\u001b[0m\n\u001b[0;32m     79\u001b[0m \u001b[39mdef\u001b[39;00m \u001b[39mdict_in_dict_out\u001b[39m(\u001b[39mself\u001b[39m, d\u001b[39m=\u001b[39m\u001b[39mNone\u001b[39;00m, \u001b[39m*\u001b[39m\u001b[39m*\u001b[39mkwargs):\n\u001b[0;32m     80\u001b[0m     d \u001b[39m=\u001b[39m d \u001b[39mif\u001b[39;00m d \u001b[39mis\u001b[39;00m \u001b[39mnot\u001b[39;00m \u001b[39mNone\u001b[39;00m \u001b[39melse\u001b[39;00m \u001b[39mdict\u001b[39m()\n\u001b[1;32m---> 81\u001b[0m     \u001b[39mreturn\u001b[39;00m decode(\u001b[39mself\u001b[39m\u001b[39m.\u001b[39mdict_in_only(d, \u001b[39m*\u001b[39m\u001b[39m*\u001b[39m{\u001b[39m*\u001b[39m\u001b[39m*\u001b[39m\u001b[39mself\u001b[39m\u001b[39m.\u001b[39mkwargs, \u001b[39m*\u001b[39m\u001b[39m*\u001b[39mkwargs}), \n\u001b[0;32m     82\u001b[0m                   \u001b[39mself\u001b[39m\u001b[39m.\u001b[39mdecoder\u001b[39m.\u001b[39morder, shapes\u001b[39m=\u001b[39m\u001b[39mself\u001b[39m\u001b[39m.\u001b[39mdecoder\u001b[39m.\u001b[39mshapes)\n",
      "File \u001b[1;32mc:\\users\\johan\\github\\designresolver\\minimdo\\modeling\\arghandling.py:73\u001b[0m, in \u001b[0;36mEncodedFunction.dict_in_only\u001b[1;34m(self, d, **kwargs)\u001b[0m\n\u001b[0;32m     71\u001b[0m \u001b[39mdef\u001b[39;00m \u001b[39mdict_in_only\u001b[39m(\u001b[39mself\u001b[39m, d\u001b[39m=\u001b[39m\u001b[39mNone\u001b[39;00m, \u001b[39m*\u001b[39m\u001b[39m*\u001b[39mkwargs):\n\u001b[0;32m     72\u001b[0m     d \u001b[39m=\u001b[39m d \u001b[39mif\u001b[39;00m d \u001b[39mis\u001b[39;00m \u001b[39mnot\u001b[39;00m \u001b[39mNone\u001b[39;00m \u001b[39melse\u001b[39;00m \u001b[39mdict\u001b[39m()\n\u001b[1;32m---> 73\u001b[0m     \u001b[39mreturn\u001b[39;00m \u001b[39mself\u001b[39m\u001b[39m.\u001b[39mf(\u001b[39m*\u001b[39mencode(d, \u001b[39mself\u001b[39m\u001b[39m.\u001b[39mencoder\u001b[39m.\u001b[39morder), \u001b[39m*\u001b[39m\u001b[39m*\u001b[39m{\u001b[39m*\u001b[39m\u001b[39m*\u001b[39m\u001b[39mself\u001b[39m\u001b[39m.\u001b[39mkwargs, \u001b[39m*\u001b[39m\u001b[39m*\u001b[39mkwargs})\n",
      "File \u001b[1;32mc:\\users\\johan\\github\\designresolver\\minimdo\\foundations\\functionals.py:143\u001b[0m, in \u001b[0;36moptimizer_solver.<locals>.optimizer_function\u001b[1;34m(x0, random_generator, *args)\u001b[0m\n\u001b[0;32m    141\u001b[0m constraints \u001b[39m=\u001b[39m eq_constraints\u001b[39m+\u001b[39mineq_constraints\n\u001b[0;32m    142\u001b[0m obj_function \u001b[39m=\u001b[39m \u001b[39mlambda\u001b[39;00m x: eval_obj_constraints(x)[\u001b[39m0\u001b[39m]\n\u001b[1;32m--> 143\u001b[0m obj_function(x0)\n\u001b[0;32m    144\u001b[0m solution_obj \u001b[39m=\u001b[39m minimize(obj_function, x0, \n\u001b[0;32m    145\u001b[0m                   constraints\u001b[39m=\u001b[39mconstraints, bounds\u001b[39m=\u001b[39mbounds)\n\u001b[0;32m    146\u001b[0m \u001b[39mreturn\u001b[39;00m solution_obj\u001b[39m.\u001b[39mx\n",
      "File \u001b[1;32mc:\\users\\johan\\github\\designresolver\\minimdo\\foundations\\functionals.py:142\u001b[0m, in \u001b[0;36moptimizer_solver.<locals>.optimizer_function.<locals>.<lambda>\u001b[1;34m(x)\u001b[0m\n\u001b[0;32m    140\u001b[0m     eq_constraints \u001b[39m=\u001b[39m (NonlinearConstraint(eq_function, \u001b[39m0\u001b[39m, \u001b[39m0\u001b[39m),)\n\u001b[0;32m    141\u001b[0m constraints \u001b[39m=\u001b[39m eq_constraints\u001b[39m+\u001b[39mineq_constraints\n\u001b[1;32m--> 142\u001b[0m obj_function \u001b[39m=\u001b[39m \u001b[39mlambda\u001b[39;00m x: eval_obj_constraints(x)[\u001b[39m0\u001b[39m]\n\u001b[0;32m    143\u001b[0m obj_function(x0)\n\u001b[0;32m    144\u001b[0m solution_obj \u001b[39m=\u001b[39m minimize(obj_function, x0, \n\u001b[0;32m    145\u001b[0m                   constraints\u001b[39m=\u001b[39mconstraints, bounds\u001b[39m=\u001b[39mbounds)\n",
      "File \u001b[1;32mc:\\users\\johan\\github\\designresolver\\minimdo\\foundations\\functionals.py:22\u001b[0m, in \u001b[0;36mnp_cache.<locals>.wrapper\u001b[1;34m(array)\u001b[0m\n\u001b[0;32m     20\u001b[0m \u001b[39m@wraps\u001b[39m(function)\n\u001b[0;32m     21\u001b[0m \u001b[39mdef\u001b[39;00m \u001b[39mwrapper\u001b[39m(array):\n\u001b[1;32m---> 22\u001b[0m     \u001b[39mreturn\u001b[39;00m cached_wrapper(\u001b[39mtuple\u001b[39;49m(array))\n",
      "File \u001b[1;32mc:\\users\\johan\\github\\designresolver\\minimdo\\foundations\\functionals.py:18\u001b[0m, in \u001b[0;36mnp_cache.<locals>.cached_wrapper\u001b[1;34m(hashable_array)\u001b[0m\n\u001b[0;32m     15\u001b[0m \u001b[39m@lru_cache\u001b[39m()\n\u001b[0;32m     16\u001b[0m \u001b[39mdef\u001b[39;00m \u001b[39mcached_wrapper\u001b[39m(hashable_array):\n\u001b[0;32m     17\u001b[0m     array \u001b[39m=\u001b[39m np\u001b[39m.\u001b[39marray(hashable_array)\n\u001b[1;32m---> 18\u001b[0m     \u001b[39mreturn\u001b[39;00m function(array)\n",
      "File \u001b[1;32mc:\\users\\johan\\github\\designresolver\\minimdo\\foundations\\functionals.py:115\u001b[0m, in \u001b[0;36mgenerate_opt_objects.<locals>.optimizer_function.<locals>.eval_obj_constraints\u001b[1;34m(x)\u001b[0m\n\u001b[0;32m    113\u001b[0m local_dict\u001b[39m.\u001b[39mupdate(parameters_dict)\n\u001b[0;32m    114\u001b[0m \u001b[39mif\u001b[39;00m eliminate \u001b[39mis\u001b[39;00m \u001b[39mnot\u001b[39;00m \u001b[39mNone\u001b[39;00m:\n\u001b[1;32m--> 115\u001b[0m     inter_dict \u001b[39m=\u001b[39m eliminate\u001b[39m.\u001b[39;49mdict_in_dict_out(\n\u001b[0;32m    116\u001b[0m         local_dict)\n\u001b[0;32m    117\u001b[0m     local_dict\u001b[39m.\u001b[39mupdate(inter_dict)\n\u001b[0;32m    118\u001b[0m objval \u001b[39m=\u001b[39m \u001b[39mfloat\u001b[39m(obj\u001b[39m.\u001b[39mdict_in_only(local_dict))\n",
      "File \u001b[1;32mc:\\users\\johan\\github\\designresolver\\minimdo\\modeling\\arghandling.py:81\u001b[0m, in \u001b[0;36mEncodedFunction.dict_in_dict_out\u001b[1;34m(self, d, **kwargs)\u001b[0m\n\u001b[0;32m     79\u001b[0m \u001b[39mdef\u001b[39;00m \u001b[39mdict_in_dict_out\u001b[39m(\u001b[39mself\u001b[39m, d\u001b[39m=\u001b[39m\u001b[39mNone\u001b[39;00m, \u001b[39m*\u001b[39m\u001b[39m*\u001b[39mkwargs):\n\u001b[0;32m     80\u001b[0m     d \u001b[39m=\u001b[39m d \u001b[39mif\u001b[39;00m d \u001b[39mis\u001b[39;00m \u001b[39mnot\u001b[39;00m \u001b[39mNone\u001b[39;00m \u001b[39melse\u001b[39;00m \u001b[39mdict\u001b[39m()\n\u001b[1;32m---> 81\u001b[0m     \u001b[39mreturn\u001b[39;00m decode(\u001b[39mself\u001b[39m\u001b[39m.\u001b[39mdict_in_only(d, \u001b[39m*\u001b[39m\u001b[39m*\u001b[39m{\u001b[39m*\u001b[39m\u001b[39m*\u001b[39m\u001b[39mself\u001b[39m\u001b[39m.\u001b[39mkwargs, \u001b[39m*\u001b[39m\u001b[39m*\u001b[39mkwargs}), \n\u001b[0;32m     82\u001b[0m                   \u001b[39mself\u001b[39m\u001b[39m.\u001b[39mdecoder\u001b[39m.\u001b[39morder, shapes\u001b[39m=\u001b[39m\u001b[39mself\u001b[39m\u001b[39m.\u001b[39mdecoder\u001b[39m.\u001b[39mshapes)\n",
      "File \u001b[1;32mc:\\users\\johan\\github\\designresolver\\minimdo\\modeling\\arghandling.py:73\u001b[0m, in \u001b[0;36mEncodedFunction.dict_in_only\u001b[1;34m(self, d, **kwargs)\u001b[0m\n\u001b[0;32m     71\u001b[0m \u001b[39mdef\u001b[39;00m \u001b[39mdict_in_only\u001b[39m(\u001b[39mself\u001b[39m, d\u001b[39m=\u001b[39m\u001b[39mNone\u001b[39;00m, \u001b[39m*\u001b[39m\u001b[39m*\u001b[39mkwargs):\n\u001b[0;32m     72\u001b[0m     d \u001b[39m=\u001b[39m d \u001b[39mif\u001b[39;00m d \u001b[39mis\u001b[39;00m \u001b[39mnot\u001b[39;00m \u001b[39mNone\u001b[39;00m \u001b[39melse\u001b[39;00m \u001b[39mdict\u001b[39m()\n\u001b[1;32m---> 73\u001b[0m     \u001b[39mreturn\u001b[39;00m \u001b[39mself\u001b[39m\u001b[39m.\u001b[39mf(\u001b[39m*\u001b[39mencode(d, \u001b[39mself\u001b[39m\u001b[39m.\u001b[39mencoder\u001b[39m.\u001b[39morder), \u001b[39m*\u001b[39m\u001b[39m*\u001b[39m{\u001b[39m*\u001b[39m\u001b[39m*\u001b[39m\u001b[39mself\u001b[39m\u001b[39m.\u001b[39mkwargs, \u001b[39m*\u001b[39m\u001b[39m*\u001b[39mkwargs})\n",
      "\u001b[1;31mTypeError\u001b[0m: 'NoneType' object is not callable"
     ]
    }
   ],
   "source": [
    "problem.dict_in_dict_out(x0={x:1, z1:1, z2:1, \n",
    "                             a:1, y1:1, y2:1})"
   ]
  },
  {
   "cell_type": "code",
   "execution_count": 4,
   "metadata": {},
   "outputs": [
    {
     "data": {
      "text/plain": [
       "{z_2: 0.0, x: 0.0, z_1: 4.394409720868504}"
      ]
     },
     "execution_count": 4,
     "metadata": {},
     "output_type": "execute_result"
    }
   ],
   "source": [
    "xopt"
   ]
  },
  {
   "cell_type": "code",
   "execution_count": null,
   "metadata": {},
   "outputs": [],
   "source": []
  }
 ],
 "metadata": {
  "kernelspec": {
   "display_name": "minimdo",
   "language": "python",
   "name": "python3"
  },
  "language_info": {
   "codemirror_mode": {
    "name": "ipython",
    "version": 3
   },
   "file_extension": ".py",
   "mimetype": "text/x-python",
   "name": "python",
   "nbconvert_exporter": "python",
   "pygments_lexer": "ipython3",
   "version": "3.9.12"
  },
  "orig_nbformat": 4
 },
 "nbformat": 4,
 "nbformat_minor": 2
}
