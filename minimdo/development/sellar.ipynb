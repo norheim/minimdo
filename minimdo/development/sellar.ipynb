{
 "cells": [
  {
   "cell_type": "code",
   "execution_count": 5,
   "metadata": {},
   "outputs": [],
   "source": [
    "from modeling.compute import Var\n",
    "from modeling.execution import Component\n",
    "from foundations.functionalsets import FunctionalComp\n",
    "from foundations.functionalsets import ResidualSet\n",
    "from modeling.api import create_component\n",
    "from modeling.couplingapi import Subproblem\n",
    "from sympy import exp"
   ]
  },
  {
   "cell_type": "code",
   "execution_count": 2,
   "metadata": {},
   "outputs": [],
   "source": [
    "z1,z2,x,y2 = Var('z_1'), Var('z_2'), Var('x'), Var('y_2')\n",
    "a, y1 = Var('a'), Var('y_1')"
   ]
  },
  {
   "cell_type": "code",
   "execution_count": 4,
   "metadata": {},
   "outputs": [],
   "source": [
    "F1 = FunctionalComp(Component.fromsympy(\n",
    "    z2+x-0.2*y2, a, arg_mapping=True))\n",
    "F2 = FunctionalComp(Component.fromsympy(\n",
    "    z1**2+a, y1, arg_mapping=True))\n",
    "F3 = FunctionalComp(Component.fromsympy(\n",
    "    y1**0.5+z1+z2, y2, arg_mapping=True))\n",
    "obj = Component.fromsympy(\n",
    "    x**2+z2+y1+exp(-y2), arg_mapping=True)\n",
    "ineq1 = Component.fromsympy(\n",
    "    3.16-y1, arg_mapping=True)\n",
    "ineq1 = Component.fromsympy(\n",
    "    y2-24, arg_mapping=True)"
   ]
  },
  {
   "cell_type": "code",
   "execution_count": 27,
   "metadata": {},
   "outputs": [],
   "source": [
    "functionals = [F1, F2, F3]\n",
    "S = ResidualSet(sum([functional.projectable.components \n",
    "                     for functional in functionals], []))\n",
    "independents = sum([functional.independent for functional in functionals],())\n",
    "projectto = tuple(set(elt for functional in functionals \n",
    "               for elt in functional.projected if elt not in independents))"
   ]
  },
  {
   "cell_type": "code",
   "execution_count": 29,
   "metadata": {},
   "outputs": [],
   "source": [
    "y = {x:1, z2:1, z1:1}"
   ]
  },
  {
   "cell_type": "code",
   "execution_count": 30,
   "metadata": {},
   "outputs": [],
   "source": [
    "F = S.project(projectto)\n",
    "sol = F.solve(y)"
   ]
  },
  {
   "cell_type": "code",
   "execution_count": 34,
   "metadata": {},
   "outputs": [
    {
     "data": {
      "text/plain": [
       "({a: DeviceArray(1.29689011, dtype=float64)},\n",
       " {y_1: DeviceArray(2.29689011, dtype=float64)},\n",
       " {y_2: DeviceArray(3.51554944, dtype=float64)})"
      ]
     },
     "execution_count": 34,
     "metadata": {},
     "output_type": "execute_result"
    }
   ],
   "source": [
    "F1.solve({**y, **sol}), F2.solve({**y, **sol}), F3.solve({**y, **sol})"
   ]
  }
 ],
 "metadata": {
  "kernelspec": {
   "display_name": "minimdo",
   "language": "python",
   "name": "python3"
  },
  "language_info": {
   "codemirror_mode": {
    "name": "ipython",
    "version": 3
   },
   "file_extension": ".py",
   "mimetype": "text/x-python",
   "name": "python",
   "nbconvert_exporter": "python",
   "pygments_lexer": "ipython3",
   "version": "3.9.12"
  },
  "orig_nbformat": 4
 },
 "nbformat": 4,
 "nbformat_minor": 2
}
