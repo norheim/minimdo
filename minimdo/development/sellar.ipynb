{
 "cells": [
  {
   "cell_type": "code",
   "execution_count": 1,
   "metadata": {},
   "outputs": [],
   "source": [
    "from modeling.compute import Var\n",
    "from foundations.functionals import Functional\n",
    "from foundations.functionals import Projectable\n",
    "from foundations.functionals import Problem\n",
    "from foundations.functionals import residual_solver\n",
    "from foundations.functionals import generate_opt_objects\n",
    "import numpy as np\n",
    "from sympy import exp"
   ]
  },
  {
   "cell_type": "code",
   "execution_count": 2,
   "metadata": {},
   "outputs": [],
   "source": [
    "z1,z2,x,y2 = Var('z_1'), Var('z_2'), Var('x'), Var('y_2')"
   ]
  },
  {
   "cell_type": "code",
   "execution_count": 3,
   "metadata": {},
   "outputs": [],
   "source": [
    "F1 = Functional()\n",
    "a = F1.Var('a', z1+z2-0.2*y2) # intermediate variable for demonstration purposes\n",
    "y1 = F1.Var('y_1', x**2+a)\n",
    "F2 = Functional(y2, abs(y1)**.5+z1+z2)"
   ]
  },
  {
   "cell_type": "code",
   "execution_count": 4,
   "metadata": {},
   "outputs": [],
   "source": [
    "F = Functional()\n",
    "F.add_encoded_functions(F1, F2)\n",
    "F.projectable = Projectable(\n",
    "    F1.projectable.encoded_functions\n",
    "    +F2.projectable.encoded_functions)\n",
    "F.f = residual_solver(F)"
   ]
  },
  {
   "cell_type": "code",
   "execution_count": 5,
   "metadata": {},
   "outputs": [],
   "source": [
    "random_generator = np.random.default_rng(seed=41).random"
   ]
  },
  {
   "cell_type": "code",
   "execution_count": 6,
   "metadata": {},
   "outputs": [],
   "source": [
    "xin = {x:0, z1:0, z2:0}\n",
    "y = F.dict_in_dict_out(xin, \n",
    "               random_generator=random_generator)"
   ]
  },
  {
   "cell_type": "code",
   "execution_count": 7,
   "metadata": {},
   "outputs": [
    {
     "data": {
      "text/plain": [
       "{a: -0.04000000000000001, y_1: -0.04000000000000001, y_2: 0.2}"
      ]
     },
     "execution_count": 7,
     "metadata": {},
     "output_type": "execute_result"
    }
   ],
   "source": [
    "y"
   ]
  },
  {
   "cell_type": "code",
   "execution_count": 8,
   "metadata": {},
   "outputs": [
    {
     "data": {
      "text/plain": [
       "{a: -0.04000000000000001, y_1: -0.04000000000000001}"
      ]
     },
     "execution_count": 8,
     "metadata": {},
     "output_type": "execute_result"
    }
   ],
   "source": [
    "F1.dict_in_dict_out({**xin, **y})"
   ]
  },
  {
   "cell_type": "code",
   "execution_count": 9,
   "metadata": {},
   "outputs": [
    {
     "data": {
      "text/plain": [
       "{y_2: DeviceArray(0.2, dtype=float64)}"
      ]
     },
     "execution_count": 9,
     "metadata": {},
     "output_type": "execute_result"
    }
   ],
   "source": [
    "F2.dict_in_dict_out({**xin, **y})"
   ]
  },
  {
   "cell_type": "code",
   "execution_count": 10,
   "metadata": {},
   "outputs": [],
   "source": [
    "obj = x**2+z2+y1+exp(-y2)\n",
    "ineq = [3.16-y1, y2-24] # technically represent residual sets\n",
    "# eq = [F1.set, F2.set] # using residuals for F1 and F2\n",
    "problem = Problem(obj, ineq, eliminate=F, \n",
    "                bounds = {x:[0,10], z1:[0,10], z2:[0,10]}) "
   ]
  },
  {
   "cell_type": "code",
   "execution_count": 11,
   "metadata": {},
   "outputs": [],
   "source": [
    "opt_func = generate_opt_objects(problem, problem.obj, \n",
    "                     problem.ineqs, problem.eqs, problem.eliminate)"
   ]
  },
  {
   "cell_type": "code",
   "execution_count": 12,
   "metadata": {},
   "outputs": [],
   "source": [
    "xin = {x:1, z1:1, z2:1}\n",
    "constant_generator = lambda : 1\n",
    "y = F.dict_in_dict_out(xin, \n",
    "               random_generator=constant_generator)"
   ]
  },
  {
   "cell_type": "code",
   "execution_count": 13,
   "metadata": {},
   "outputs": [],
   "source": [
    "constant_generator = lambda : .2\n",
    "eval_obj_constraints, x0 = opt_func(\n",
    "    x_initial=xin, \n",
    "    random_generator=random_generator)"
   ]
  },
  {
   "cell_type": "code",
   "execution_count": 14,
   "metadata": {},
   "outputs": [],
   "source": [
    "from scipy.optimize import minimize, NonlinearConstraint"
   ]
  },
  {
   "cell_type": "code",
   "execution_count": 15,
   "metadata": {},
   "outputs": [],
   "source": [
    "obj_function = lambda x: eval_obj_constraints(x)[0]\n",
    "ineq_function = lambda x: eval_obj_constraints(x)[1][:]\n",
    "constraints = (NonlinearConstraint(ineq_function, \n",
    "                                   -np.inf,0),)"
   ]
  },
  {
   "cell_type": "code",
   "execution_count": 16,
   "metadata": {},
   "outputs": [
    {
     "data": {
      "text/plain": [
       "0.7787307530779818"
      ]
     },
     "execution_count": 16,
     "metadata": {},
     "output_type": "execute_result"
    }
   ],
   "source": [
    "obj_function(np.array([0,0,0]))"
   ]
  },
  {
   "cell_type": "code",
   "execution_count": 17,
   "metadata": {},
   "outputs": [
    {
     "data": {
      "text/plain": [
       "(0.7787307530779818, array([  3.2, -23.8]), array([], dtype=float64))"
      ]
     },
     "execution_count": 17,
     "metadata": {},
     "output_type": "execute_result"
    }
   ],
   "source": [
    "eval_obj_constraints(np.array([0,0,0]))"
   ]
  },
  {
   "cell_type": "code",
   "execution_count": 20,
   "metadata": {},
   "outputs": [
    {
     "data": {
      "text/plain": [
       "     fun: 3.1620869562729936\n",
       "     jac: array([1.75486168e+00, 5.96046448e-08, 7.54861712e-01])\n",
       " message: 'Optimization terminated successfully'\n",
       "    nfev: 32\n",
       "     nit: 8\n",
       "    njev: 8\n",
       "  status: 0\n",
       " success: True\n",
       "       x: array([0.00000000e+00, 2.25490970e-16, 4.39440972e+00])"
      ]
     },
     "execution_count": 20,
     "metadata": {},
     "output_type": "execute_result"
    }
   ],
   "source": [
    "minimize(obj_function, x0, constraints=constraints, bounds=(\n",
    "    (0,10),(0,10),(0,10)))"
   ]
  },
  {
   "cell_type": "code",
   "execution_count": 21,
   "metadata": {},
   "outputs": [
    {
     "data": {
      "text/plain": [
       "(DeviceArray([3.16630697], dtype=float64),\n",
       " array([-4.23411544e-03, -1.78211706e+01]),\n",
       " array([], dtype=float64))"
      ]
     },
     "execution_count": 21,
     "metadata": {},
     "output_type": "execute_result"
    }
   ],
   "source": [
    "eval_obj_constraints(x0)"
   ]
  },
  {
   "cell_type": "code",
   "execution_count": 50,
   "metadata": {},
   "outputs": [
    {
     "data": {
      "text/plain": [
       "DeviceArray(2.86504457, dtype=float64)"
      ]
     },
     "execution_count": 50,
     "metadata": {},
     "output_type": "execute_result"
    }
   ],
   "source": [
    "problem.obj.dict_in_only({**xin,**y})"
   ]
  },
  {
   "cell_type": "code",
   "execution_count": 48,
   "metadata": {},
   "outputs": [
    {
     "data": {
      "text/plain": [
       "(3.1559999999999997, 3.1559999999999997)"
      ]
     },
     "execution_count": 48,
     "metadata": {},
     "output_type": "execute_result"
    }
   ],
   "source": [
    "F1.dict_in_only({x:0., z1:4.39, z2:0, \n",
    "                          y1:3.16, y2:6.17})"
   ]
  },
  {
   "cell_type": "code",
   "execution_count": 28,
   "metadata": {},
   "outputs": [
    {
     "data": {
      "text/plain": [
       "(DeviceArray(6.16763888, dtype=float64, weak_type=True),)"
      ]
     },
     "execution_count": 28,
     "metadata": {},
     "output_type": "execute_result"
    }
   ],
   "source": [
    "F2.dict_in_only({x:0., z1:4.39, z2:0, \n",
    "                          y1:3.16, y2:6.17})"
   ]
  },
  {
   "cell_type": "code",
   "execution_count": 51,
   "metadata": {},
   "outputs": [
    {
     "data": {
      "text/plain": [
       "{x: 1.0, z_2: 1.0, z_1: 1.0}"
      ]
     },
     "execution_count": 51,
     "metadata": {},
     "output_type": "execute_result"
    }
   ],
   "source": [
    "problem.dict_in_dict_out({}, \n",
    "                         x_initial={x: 1, z1: 1, z2: 1},\n",
    "                         random_generator=random_generator)"
   ]
  },
  {
   "cell_type": "code",
   "execution_count": 11,
   "metadata": {},
   "outputs": [
    {
     "data": {
      "text/plain": [
       "{z_2: 1.0, x: 1.0, z_1: 1.0}"
      ]
     },
     "execution_count": 11,
     "metadata": {},
     "output_type": "execute_result"
    }
   ],
   "source": [
    "problem.dict_in_dict_out({}, \n",
    "                         x_initial={x: 1, z1: 1, z2: 1},\n",
    "                         random_generator=random_generator)"
   ]
  },
  {
   "cell_type": "code",
   "execution_count": 15,
   "metadata": {},
   "outputs": [
    {
     "data": {
      "text/plain": [
       "(DeviceArray(6., dtype=float64, weak_type=True),)"
      ]
     },
     "execution_count": 15,
     "metadata": {},
     "output_type": "execute_result"
    }
   ],
   "source": [
    "F.dict_in_only({x:1, z1:2, z2:3, y1:1, y2:0})"
   ]
  },
  {
   "cell_type": "code",
   "execution_count": 6,
   "metadata": {},
   "outputs": [
    {
     "data": {
      "text/plain": [
       "() <- (a, y_2, x, z_2)\n",
       "() <- (y_1, a, z_1)\n",
       "() <- (y_1, y_2, z_1, z_2)"
      ]
     },
     "execution_count": 6,
     "metadata": {},
     "output_type": "execute_result"
    }
   ],
   "source": [
    "F.projectable"
   ]
  },
  {
   "cell_type": "code",
   "execution_count": 8,
   "metadata": {},
   "outputs": [],
   "source": [
    "random_generator = np.random.default_rng(seed=42).random\n",
    "outdict = F.dict_in_dict_out({x:1, z1:1, z2:1}, \n",
    "                   x_initial={y1:1, y2:1},\n",
    "                   random_generator=random_generator)"
   ]
  },
  {
   "cell_type": "code",
   "execution_count": 13,
   "metadata": {},
   "outputs": [
    {
     "data": {
      "text/plain": [
       "{a: 1.3, y_1: 2.3, y_2: 3.52}"
      ]
     },
     "execution_count": 13,
     "metadata": {},
     "output_type": "execute_result"
    }
   ],
   "source": [
    "dict(map(lambda x: (x[0],round(x[1],2)), outdict.items()))"
   ]
  },
  {
   "cell_type": "code",
   "execution_count": 4,
   "metadata": {},
   "outputs": [
    {
     "data": {
      "text/plain": [
       "array([ 1.8, -2. ])"
      ]
     },
     "execution_count": 4,
     "metadata": {},
     "output_type": "execute_result"
    }
   ],
   "source": [
    "F1.projectable.dict_in_flat_out({z1:1, z2:2, x:3, y2:4, y1:5, a:6})"
   ]
  },
  {
   "cell_type": "code",
   "execution_count": 6,
   "metadata": {},
   "outputs": [
    {
     "data": {
      "text/plain": [
       "{a: 6.2, y_1: 7.2}"
      ]
     },
     "execution_count": 6,
     "metadata": {},
     "output_type": "execute_result"
    }
   ],
   "source": [
    "F1.dict_in_dict_out({z1:1, z2:2, y1:3, y2:4, x:5})"
   ]
  },
  {
   "cell_type": "code",
   "execution_count": null,
   "metadata": {},
   "outputs": [],
   "source": [
    "F1 = Functional()\n",
    "a = F1.Var('a', z2+x-0.2*y2) # intermediate variable for demonstration purposes\n",
    "y1 = F1.Var('y_1', z1**2+a)\n",
    "F2 = Functional(y2, y1**.5+z1+z2)\n",
    "\n",
    "#F = F2.eliminate(F1) # eliminates 'a' and 'y_1'\n",
    "F = intersection(F1, F2) # eliminates 'y_1' and 'y_2'\n",
    "\n",
    "obj = x**2+z2+y1+exp(-y2)\n",
    "ineq = [3.16-y1, y2-24] # technically represent residual sets\n",
    "# eq = [F1.set, F2.set] # using residuals for F1 and F2\n",
    "problem = Problem(obj, ineq, eliminate=F, \n",
    "                {'x':[0,10], 'z_1':[0,10], 'z_2':[0,10]}) # bounds\n",
    "\n",
    "problem.solve(x0={x:1, z1:5, z2:2}) # or seed=10 for random guess"
   ]
  },
  {
   "cell_type": "code",
   "execution_count": 3,
   "metadata": {},
   "outputs": [],
   "source": [
    "F1 = FunctionalComp(Component.fromsympy(\n",
    "    z2+x-0.2*y2, a, arg_mapping=True))\n",
    "F2 = FunctionalComp(Component.fromsympy(\n",
    "    z1**2+a, y1, arg_mapping=True))\n",
    "F3 = FunctionalComp(Component.fromsympy(\n",
    "    y1**0.5+z1+z2, y2, arg_mapping=True))\n",
    "obj = Component.fromsympy(\n",
    "    x**2+z2+y1+exp(-y2), arg_mapping=True)\n",
    "ineq1 = Component.fromsympy(\n",
    "    3.16-y1, arg_mapping=True)\n",
    "ineq2 = Component.fromsympy(\n",
    "    y2-24, arg_mapping=True)"
   ]
  },
  {
   "cell_type": "code",
   "execution_count": 4,
   "metadata": {},
   "outputs": [],
   "source": [
    "functionals = [F1, F2, F3]\n",
    "S = ResidualSet(sum([functional.projectable.components \n",
    "                     for functional in functionals], []))\n",
    "independents = sum([functional.independent for functional in functionals],())\n",
    "projectto = tuple(set(elt for functional in functionals \n",
    "               for elt in functional.projected if elt not in independents))"
   ]
  },
  {
   "cell_type": "code",
   "execution_count": 5,
   "metadata": {},
   "outputs": [],
   "source": [
    "y = {x:1, z2:1, z1:1}"
   ]
  },
  {
   "cell_type": "code",
   "execution_count": 6,
   "metadata": {},
   "outputs": [],
   "source": [
    "F = S.project(projectto)\n",
    "sol = F.solve(y)"
   ]
  },
  {
   "cell_type": "code",
   "execution_count": 7,
   "metadata": {},
   "outputs": [],
   "source": [
    "J = lambda y: obj.evaldict({**y, **F.solve(y)})"
   ]
  },
  {
   "cell_type": "code",
   "execution_count": 8,
   "metadata": {},
   "outputs": [
    {
     "data": {
      "text/plain": [
       "DeviceArray(24.32798941, dtype=float64)"
      ]
     },
     "execution_count": 8,
     "metadata": {},
     "output_type": "execute_result"
    }
   ],
   "source": [
    "J({x:4, z2:2, z1:-1})"
   ]
  },
  {
   "cell_type": "code",
   "execution_count": 9,
   "metadata": {},
   "outputs": [],
   "source": [
    "z = {**y, **sol}"
   ]
  },
  {
   "cell_type": "code",
   "execution_count": 10,
   "metadata": {},
   "outputs": [
    {
     "data": {
      "text/plain": [
       "({a: DeviceArray(1.29689011, dtype=float64)},\n",
       " {y_1: DeviceArray(2.29689011, dtype=float64)},\n",
       " {y_2: DeviceArray(3.51554944, dtype=float64)})"
      ]
     },
     "execution_count": 10,
     "metadata": {},
     "output_type": "execute_result"
    }
   ],
   "source": [
    "F1.solve(z), F2.solve(z), F3.solve(z)"
   ]
  },
  {
   "cell_type": "code",
   "execution_count": 11,
   "metadata": {},
   "outputs": [
    {
     "data": {
      "text/plain": [
       "(DeviceArray(4.32662157, dtype=float64),\n",
       " 0.8631098884280703,\n",
       " -20.48445055785965)"
      ]
     },
     "execution_count": 11,
     "metadata": {},
     "output_type": "execute_result"
    }
   ],
   "source": [
    "obj.evaldict(z), ineq1.evaldict(z), ineq2.evaldict(z)"
   ]
  }
 ],
 "metadata": {
  "kernelspec": {
   "display_name": "minimdo",
   "language": "python",
   "name": "python3"
  },
  "language_info": {
   "codemirror_mode": {
    "name": "ipython",
    "version": 3
   },
   "file_extension": ".py",
   "mimetype": "text/x-python",
   "name": "python",
   "nbconvert_exporter": "python",
   "pygments_lexer": "ipython3",
   "version": "3.9.12"
  },
  "orig_nbformat": 4
 },
 "nbformat": 4,
 "nbformat_minor": 2
}
