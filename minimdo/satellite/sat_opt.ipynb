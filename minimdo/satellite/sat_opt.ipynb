{
 "cells": [
  {
   "cell_type": "code",
   "execution_count": 1,
   "id": "1f975768-4be7-4dac-8281-18c051ceb1da",
   "metadata": {
    "execution": {
     "iopub.execute_input": "2022-08-15T20:58:49.559032Z",
     "iopub.status.busy": "2022-08-15T20:58:49.559032Z",
     "iopub.status.idle": "2022-08-15T20:58:52.430678Z",
     "shell.execute_reply": "2022-08-15T20:58:52.430678Z",
     "shell.execute_reply.started": "2022-08-15T20:58:49.559032Z"
    },
    "tags": []
   },
   "outputs": [],
   "source": [
    "from sat_initial import *"
   ]
  },
  {
   "cell_type": "code",
   "execution_count": 2,
   "id": "d88cf5f8-652d-4d98-9d91-16d161ea5bfc",
   "metadata": {
    "execution": {
     "iopub.execute_input": "2022-08-15T20:58:52.432678Z",
     "iopub.status.busy": "2022-08-15T20:58:52.431677Z",
     "iopub.status.idle": "2022-08-15T20:58:52.446352Z",
     "shell.execute_reply": "2022-08-15T20:58:52.446352Z",
     "shell.execute_reply.started": "2022-08-15T20:58:52.432678Z"
    },
    "tags": []
   },
   "outputs": [],
   "source": [
    "from datastructures.api import (edges_no_param, addobj, addineq, OPT, SolverRef, merge, \n",
    "copy_dicts, setsolvefor, var_params)\n",
    "from datastructures.graphutils import flatten_tree, all_variables, all_edges\n",
    "from datastructures.tearing import dir_graph, min_arc_set_assign\n",
    "from datastructures.operators import reformulate, invert_edges\n",
    "from datastructures.rendering import render_incidence\n",
    "from datastructures.runpipeline import (model_to_problem, order_from_tree, \n",
    "    default_solver_options, mdao_workflow)\n",
    "from datastructures.postprocess import print_outputs, print_inputs, update_varval\n",
    "from datastructures.transformations import transform_components\n",
    "import openmdao.api as om\n",
    "import numpy as np\n",
    "from ipywidgets import interact, interactive, fixed, interact_manual\n",
    "import ipywidgets as widgets"
   ]
  },
  {
   "cell_type": "code",
   "execution_count": 3,
   "id": "fbe9a0b0-732c-4fef-a0ae-ec2fa6573a3b",
   "metadata": {
    "execution": {
     "iopub.execute_input": "2022-08-15T20:58:52.448320Z",
     "iopub.status.busy": "2022-08-15T20:58:52.448320Z",
     "iopub.status.idle": "2022-08-15T20:58:52.462346Z",
     "shell.execute_reply": "2022-08-15T20:58:52.462346Z",
     "shell.execute_reply.started": "2022-08-15T20:58:52.448320Z"
    },
    "tags": []
   },
   "outputs": [],
   "source": [
    "import matplotlib.pyplot as plt\n",
    "plt.rcParams['text.usetex'] = True"
   ]
  },
  {
   "cell_type": "markdown",
   "id": "73060a1f-56e2-41a4-bcb3-fcb6b063d513",
   "metadata": {},
   "source": [
    "### Configuration"
   ]
  },
  {
   "cell_type": "code",
   "execution_count": 4,
   "id": "6d3675e8-23d2-4d26-adb9-262ec5450484",
   "metadata": {
    "execution": {
     "iopub.execute_input": "2022-08-15T20:58:52.464321Z",
     "iopub.status.busy": "2022-08-15T20:58:52.463322Z",
     "iopub.status.idle": "2022-08-15T20:58:52.494319Z",
     "shell.execute_reply": "2022-08-15T20:58:52.493322Z",
     "shell.execute_reply.started": "2022-08-15T20:58:52.464321Z"
    },
    "tags": []
   },
   "outputs": [
    {
     "data": {
      "application/vnd.jupyter.widget-view+json": {
       "model_id": "6414ae365bee40e097362b9ee01057f6",
       "version_major": 2,
       "version_minor": 0
      },
      "text/plain": [
       "interactive(children=(Checkbox(value=True, description='optimal_structure'), Output()), _dom_classes=('widget-…"
      ]
     },
     "metadata": {},
     "output_type": "display_data"
    }
   ],
   "source": [
    "global run_optimal_structure\n",
    "def f(optimal_structure):\n",
    "    global run_optimal_structure\n",
    "    run_optimal_structure=optimal_structure\n",
    "interact(f, optimal_structure=True);"
   ]
  },
  {
   "cell_type": "markdown",
   "id": "e5f59c17-b2c1-4286-b250-6319bd6f8a85",
   "metadata": {},
   "source": [
    "### Load structure of model"
   ]
  },
  {
   "cell_type": "code",
   "execution_count": 5,
   "id": "77dc42d5-0565-4503-9697-7b8ef7c9f9d8",
   "metadata": {
    "execution": {
     "iopub.execute_input": "2022-08-15T20:58:54.810479Z",
     "iopub.status.busy": "2022-08-15T20:58:54.810479Z",
     "iopub.status.idle": "2022-08-15T20:58:54.827482Z",
     "shell.execute_reply": "2022-08-15T20:58:54.826479Z",
     "shell.execute_reply.started": "2022-08-15T20:58:54.810479Z"
    },
    "tags": []
   },
   "outputs": [],
   "source": [
    "edges, tree = model.generate_formulation()\n",
    "edges_nopar =  edges_no_param(model, edges)\n",
    "outset_initial = {comp: var[0] for comp,var in edges[1].items()}"
   ]
  },
  {
   "cell_type": "markdown",
   "id": "05c4a310-eac3-4bf7-bd00-806989e3005f",
   "metadata": {},
   "source": [
    "### Restructure design model"
   ]
  },
  {
   "cell_type": "markdown",
   "id": "0fffe425-88fa-49d3-9043-1507fbd7c42b",
   "metadata": {},
   "source": [
    "We force variables from the constraints to be inputs: $L_t, X_r, EN, h, m_s$"
   ]
  },
  {
   "cell_type": "code",
   "execution_count": 6,
   "id": "c3f28cb5-71cd-454e-b874-382f3da3eae1",
   "metadata": {
    "execution": {
     "iopub.execute_input": "2022-08-15T20:58:55.482190Z",
     "iopub.status.busy": "2022-08-15T20:58:55.482190Z",
     "iopub.status.idle": "2022-08-15T20:58:55.529280Z",
     "shell.execute_reply": "2022-08-15T20:58:55.528279Z",
     "shell.execute_reply.started": "2022-08-15T20:58:55.482190Z"
    },
    "tags": []
   },
   "outputs": [
    {
     "name": "stdout",
     "output_type": "stream",
     "text": [
      "Set parameter Username\n",
      "Academic license - for non-commercial use only - expires 2023-02-25\n"
     ]
    }
   ],
   "source": [
    "not_input = {'H_{val}', r'\\rho_{val}', 'm_p'}#['m_p']#'d', r'\\rho_{val}', 'L_p', 'H_{val}']\n",
    "not_output = {'L_t','X_r','EN', 'h', 'm_s'}#['h']#[r'm_{rz}', 'm_{r0}']\n",
    "edges_for_solving = copy_dicts(edges_nopar)\n",
    "eqnidxs = list(edges_for_solving[1].keys())\n",
    "varidxs = all_variables(*edges_for_solving)\n",
    "graph_edges_minassign = all_edges(*edges_for_solving)\n",
    "edges_left_right = list(dir_graph(graph_edges_minassign, eqnidxs, {}))\n",
    "xsol,_ = min_arc_set_assign(edges_left_right, varidxs, eqnidxs, not_input, not_output)"
   ]
  },
  {
   "cell_type": "markdown",
   "id": "fb1b3bbc-4014-4353-9cf8-1a692b493ccd",
   "metadata": {},
   "source": [
    "### Build structure of optimization model"
   ]
  },
  {
   "cell_type": "code",
   "execution_count": 7,
   "id": "70747b45-e5eb-42b5-b68f-445050f7cdb0",
   "metadata": {
    "execution": {
     "iopub.execute_input": "2022-08-15T20:58:55.923184Z",
     "iopub.status.busy": "2022-08-15T20:58:55.923184Z",
     "iopub.status.idle": "2022-08-15T20:58:55.934576Z",
     "shell.execute_reply": "2022-08-15T20:58:55.933662Z",
     "shell.execute_reply.started": "2022-08-15T20:58:55.923184Z"
    },
    "tags": []
   },
   "outputs": [],
   "source": [
    "outset_opt = None\n",
    "if run_optimal_structure:\n",
    "    outset_opt = {right:left for left, right in edges_left_right if (left,right) in edges_left_right and xsol[left, right] > 0.5}"
   ]
  },
  {
   "cell_type": "code",
   "execution_count": 8,
   "id": "289a28ee-1060-41b0-91aa-a34a096f3a81",
   "metadata": {
    "execution": {
     "iopub.execute_input": "2022-08-15T20:58:56.197367Z",
     "iopub.status.busy": "2022-08-15T20:58:56.197367Z",
     "iopub.status.idle": "2022-08-15T20:58:56.214765Z",
     "shell.execute_reply": "2022-08-15T20:58:56.213767Z",
     "shell.execute_reply.started": "2022-08-15T20:58:56.197367Z"
    },
    "tags": []
   },
   "outputs": [],
   "source": [
    "tree_for_reformulation = flatten_tree(tree, 'opt')\n",
    "not_outputs = var_params(model, edges)\n",
    "edges_minassign, tree_minassign = reformulate(edges, tree_for_reformulation, outset_initial, \n",
    "                                              outset_opt, root_solver_name='opt', solveforvars=False, mdf=True) # For OPT do not have subproblems so no need to set mdf=True/False\n",
    "edges_minassign_noparam = edges_no_param(model, edges_minassign)"
   ]
  },
  {
   "cell_type": "code",
   "execution_count": 9,
   "id": "9599ac54-354e-46a3-a7c2-919a9bb85745",
   "metadata": {
    "execution": {
     "iopub.execute_input": "2022-08-15T20:58:56.546627Z",
     "iopub.status.busy": "2022-08-15T20:58:56.546627Z",
     "iopub.status.idle": "2022-08-15T20:58:56.576497Z",
     "shell.execute_reply": "2022-08-15T20:58:56.575589Z",
     "shell.execute_reply.started": "2022-08-15T20:58:56.546627Z"
    },
    "tags": []
   },
   "outputs": [],
   "source": [
    "newcomps = transform_components(edges, edges_minassign, model.components, model.idmapping)"
   ]
  },
  {
   "cell_type": "code",
   "execution_count": 10,
   "id": "1f3b893c-ef2c-485e-a6db-69e76442b541",
   "metadata": {
    "execution": {
     "iopub.execute_input": "2022-08-15T20:58:56.853584Z",
     "iopub.status.busy": "2022-08-15T20:58:56.853584Z",
     "iopub.status.idle": "2022-08-15T20:58:56.872730Z",
     "shell.execute_reply": "2022-08-15T20:58:56.871503Z",
     "shell.execute_reply.started": "2022-08-15T20:58:56.853584Z"
    },
    "tags": []
   },
   "outputs": [
    {
     "data": {
      "text/plain": [
       "[(('m_t', 'm_s', '\\\\eta_S'), 19, (None,), '-\\\\eta_S*m_t + m_s'),\n",
       " (('m_T', 'm_t', 'm_b', 'm_{pr}', 'm_p', 'm_A', 'm_s'), 20, (None,), '-m_A - m_T - m_b - m_p - m_s + m_t - m_{pr}')]"
      ]
     },
     "execution_count": 10,
     "metadata": {},
     "output_type": "execute_result"
    }
   ],
   "source": [
    "newcomps"
   ]
  },
  {
   "cell_type": "code",
   "execution_count": 11,
   "id": "7a68b388-3b11-4d68-a070-b7f4860a7a7e",
   "metadata": {
    "execution": {
     "iopub.execute_input": "2022-08-15T20:58:57.385545Z",
     "iopub.status.busy": "2022-08-15T20:58:57.385545Z",
     "iopub.status.idle": "2022-08-15T20:58:58.145470Z",
     "shell.execute_reply": "2022-08-15T20:58:58.145402Z",
     "shell.execute_reply.started": "2022-08-15T20:58:57.385545Z"
    },
    "tags": []
   },
   "outputs": [
    {
     "data": {
      "image/png": "[encoded data removed]",
      "text/plain": [
       "<Figure size 648x648 with 1 Axes>"
      ]
     },
     "metadata": {
      "needs_background": "light"
     },
     "output_type": "display_data"
    }
   ],
   "source": [
    "_, ax = render_incidence(edges_minassign_noparam, tree_minassign, rawvarname=True, \n",
    "                         dispendcomp=False, hideticks=True, patchwidth=4, figsize=((9,9)))"
   ]
  },
  {
   "cell_type": "markdown",
   "id": "91c4d5d7-392a-4b24-8ee1-de7a7ed9ffe7",
   "metadata": {},
   "source": [
    "### Optimization formulation"
   ]
  },
  {
   "cell_type": "code",
   "execution_count": 12,
   "id": "6383acfd-ab94-496f-a769-7e5e20ddb766",
   "metadata": {
    "execution": {
     "iopub.execute_input": "2022-08-15T20:58:59.485690Z",
     "iopub.status.busy": "2022-08-15T20:58:59.485690Z",
     "iopub.status.idle": "2022-08-15T20:58:59.499231Z",
     "shell.execute_reply": "2022-08-15T20:58:59.499004Z",
     "shell.execute_reply.started": "2022-08-15T20:58:59.485690Z"
    },
    "tags": []
   },
   "outputs": [],
   "source": [
    "opt = addsolver(m, name=\"opt\", idbyname=True)"
   ]
  },
  {
   "cell_type": "code",
   "execution_count": 13,
   "id": "9a98af11-9b69-43f6-acae-3e1fc9cdedcb",
   "metadata": {
    "execution": {
     "iopub.execute_input": "2022-08-15T20:58:59.969869Z",
     "iopub.status.busy": "2022-08-15T20:58:59.969266Z",
     "iopub.status.idle": "2022-08-15T20:59:00.000260Z",
     "shell.execute_reply": "2022-08-15T20:58:59.999261Z",
     "shell.execute_reply.started": "2022-08-15T20:58:59.969869Z"
    },
    "tags": []
   },
   "outputs": [],
   "source": [
    "ENreq = Par('EN_r', 14.125)\n",
    "addineq(opt, -Lt+L_min)\n",
    "addineq(opt, -EN+ENreq)\n",
    "addobj(opt, mt)"
   ]
  },
  {
   "cell_type": "code",
   "execution_count": 14,
   "id": "f855e202-359d-4868-a8d3-85603ef5f67a",
   "metadata": {
    "execution": {
     "iopub.execute_input": "2022-08-15T20:59:00.249133Z",
     "iopub.status.busy": "2022-08-15T20:59:00.249133Z",
     "iopub.status.idle": "2022-08-15T20:59:00.265370Z",
     "shell.execute_reply": "2022-08-15T20:59:00.264149Z",
     "shell.execute_reply.started": "2022-08-15T20:59:00.249133Z"
    },
    "tags": []
   },
   "outputs": [],
   "source": [
    "solvefor_init = [A,m_pr]\n",
    "varoptions_init = {A:[0,10], m_pr:[0,10]}"
   ]
  },
  {
   "cell_type": "code",
   "execution_count": 15,
   "id": "8b991e4e-81d5-4806-adde-331d23cf1d6a",
   "metadata": {
    "execution": {
     "iopub.execute_input": "2022-08-15T20:59:00.612458Z",
     "iopub.status.busy": "2022-08-15T20:59:00.612458Z",
     "iopub.status.idle": "2022-08-15T20:59:00.620803Z",
     "shell.execute_reply": "2022-08-15T20:59:00.619880Z",
     "shell.execute_reply.started": "2022-08-15T20:59:00.612458Z"
    },
    "tags": []
   },
   "outputs": [],
   "source": [
    "solvefor_opt = [m_s, Lt, EN]\n",
    "varoptions_opt = {}"
   ]
  },
  {
   "cell_type": "code",
   "execution_count": 16,
   "id": "a4612f5d-5d7d-4909-bdda-c1fe85edf74c",
   "metadata": {
    "execution": {
     "iopub.execute_input": "2022-08-15T20:59:00.919653Z",
     "iopub.status.busy": "2022-08-15T20:59:00.918741Z",
     "iopub.status.idle": "2022-08-15T20:59:00.931597Z",
     "shell.execute_reply": "2022-08-15T20:59:00.930565Z",
     "shell.execute_reply.started": "2022-08-15T20:59:00.919653Z"
    },
    "tags": []
   },
   "outputs": [],
   "source": [
    "solvefor, varoptions = ((solvefor_init, varoptions_init), (solvefor_opt, varoptions_opt))[run_optimal_structure]\n",
    "setsolvefor(opt, solvefor, varoptions)\n",
    "model.solvers_options['opt'] = {'type': OPT}#, 'optimizer': 'IPOPT', 'driver': om.pyOptSparseDriver}"
   ]
  },
  {
   "cell_type": "code",
   "execution_count": 17,
   "id": "7782f10e-e960-46b3-ade9-cbcb65ac1659",
   "metadata": {
    "execution": {
     "iopub.execute_input": "2022-08-15T20:59:01.614515Z",
     "iopub.status.busy": "2022-08-15T20:59:01.614515Z",
     "iopub.status.idle": "2022-08-15T20:59:01.628502Z",
     "shell.execute_reply": "2022-08-15T20:59:01.627431Z",
     "shell.execute_reply.started": "2022-08-15T20:59:01.614515Z"
    },
    "tags": []
   },
   "outputs": [],
   "source": [
    "formulation = model.generate_formulation()\n",
    "edges_ma_opt, tree_ma_opt = merge(formulation, edges_minassign, \n",
    "                                  tree_minassign, copysolvers=False)\n",
    "edges_ma_opt_noparam = edges_no_param(model, edges_ma_opt)"
   ]
  },
  {
   "cell_type": "code",
   "execution_count": 18,
   "id": "4932c08d-75a3-4671-9ad5-4b5c70b3b6d2",
   "metadata": {
    "execution": {
     "iopub.execute_input": "2022-08-15T20:59:02.083401Z",
     "iopub.status.busy": "2022-08-15T20:59:02.083401Z",
     "iopub.status.idle": "2022-08-15T20:59:02.460215Z",
     "shell.execute_reply": "2022-08-15T20:59:02.459301Z",
     "shell.execute_reply.started": "2022-08-15T20:59:02.083401Z"
    },
    "tags": []
   },
   "outputs": [
    {
     "data": {
      "image/png": "[encoded data removed]",
      "text/plain": [
       "<Figure size 648x648 with 1 Axes>"
      ]
     },
     "metadata": {
      "needs_background": "light"
     },
     "output_type": "display_data"
    }
   ],
   "source": [
    "_, ax = render_incidence(edges_ma_opt_noparam, tree_ma_opt, rawvarname=True, \n",
    "                         dispendcomp=False, hideticks=True, patchwidth=4, figsize=((9,9)))"
   ]
  },
  {
   "cell_type": "code",
   "execution_count": 19,
   "id": "a8e69adb-5454-46ad-ae4d-5927d2306ce6",
   "metadata": {
    "execution": {
     "iopub.execute_input": "2022-08-15T20:59:05.784041Z",
     "iopub.status.busy": "2022-08-15T20:59:05.783047Z",
     "iopub.status.idle": "2022-08-15T20:59:05.814151Z",
     "shell.execute_reply": "2022-08-15T20:59:05.813694Z",
     "shell.execute_reply.started": "2022-08-15T20:59:05.784041Z"
    },
    "tags": []
   },
   "outputs": [],
   "source": [
    "prob, mdao_in, groups, namingfunc = model_to_problem(model, \n",
    "                        formulation=(edges_ma_opt, tree_ma_opt),\n",
    "                        components=model.components+newcomps)"
   ]
  },
  {
   "cell_type": "code",
   "execution_count": 20,
   "id": "547b5a40-d3a2-4b48-bb0f-0cc904eace37",
   "metadata": {
    "execution": {
     "iopub.execute_input": "2022-08-15T20:59:06.138289Z",
     "iopub.status.busy": "2022-08-15T20:59:06.137325Z",
     "iopub.status.idle": "2022-08-15T20:59:06.157398Z",
     "shell.execute_reply": "2022-08-15T20:59:06.156469Z",
     "shell.execute_reply.started": "2022-08-15T20:59:06.138289Z"
    },
    "tags": []
   },
   "outputs": [],
   "source": [
    "#prob.set_val('L_t', 10)\n",
    "prob.set_val('h', 400)\n",
    "#prob.set_val('EN', 14.125)\n",
    "prob.set_val('X_r', 5)"
   ]
  },
  {
   "cell_type": "code",
   "execution_count": 21,
   "id": "6d4f067b-9ef1-46ba-bf1b-c602eddee720",
   "metadata": {
    "execution": {
     "iopub.execute_input": "2022-08-15T20:59:06.565896Z",
     "iopub.status.busy": "2022-08-15T20:59:06.565896Z",
     "iopub.status.idle": "2022-08-15T20:59:07.859125Z",
     "shell.execute_reply": "2022-08-15T20:59:07.858122Z",
     "shell.execute_reply.started": "2022-08-15T20:59:06.565896Z"
    },
    "tags": []
   },
   "outputs": [
    {
     "name": "stdout",
     "output_type": "stream",
     "text": [
      "\n",
      "==\n",
      "s2\n",
      "==\n",
      "NL: Newton Converged in 1 iterations\n"
     ]
    }
   ],
   "source": [
    "prob.run_model()"
   ]
  },
  {
   "cell_type": "code",
   "execution_count": 22,
   "id": "d0dbbdf2-d8c5-492f-b9fe-59224e1e6a37",
   "metadata": {
    "execution": {
     "iopub.execute_input": "2022-08-15T20:59:09.552688Z",
     "iopub.status.busy": "2022-08-15T20:59:09.551684Z",
     "iopub.status.idle": "2022-08-15T20:59:13.074499Z",
     "shell.execute_reply": "2022-08-15T20:59:13.073605Z",
     "shell.execute_reply.started": "2022-08-15T20:59:09.551684Z"
    },
    "tags": []
   },
   "outputs": [
    {
     "name": "stdout",
     "output_type": "stream",
     "text": [
      "\n",
      "==\n",
      "s2\n",
      "==\n",
      "NL: Newton Converged in 0 iterations\n",
      "\n",
      "==\n",
      "s2\n",
      "==\n",
      "NL: Newton Converged in 0 iterations\n",
      "\n",
      "==\n",
      "s2\n",
      "==\n",
      "NL: Newton Converged in 1 iterations\n",
      "\n",
      "==\n",
      "s2\n",
      "==\n",
      "NL: Newton Converged in 1 iterations\n",
      "\n",
      "==\n",
      "s2\n",
      "==\n",
      "NL: Newton Converged in 1 iterations\n",
      "\n",
      "==\n",
      "s2\n",
      "==\n",
      "NL: Newton Converged in 1 iterations\n",
      "\n",
      "==\n",
      "s2\n",
      "==\n",
      "NL: Newton Converged in 1 iterations\n",
      "\n",
      "==\n",
      "s2\n",
      "==\n",
      "NL: Newton Converged in 1 iterations\n",
      "Optimization terminated successfully    (Exit mode 0)\n",
      "            Current function value: [8.4486165]\n",
      "            Iterations: 3\n",
      "            Function evaluations: 7\n",
      "            Gradient evaluations: 3\n",
      "Optimization Complete\n",
      "-----------------------------------\n"
     ]
    },
    {
     "data": {
      "text/plain": [
       "False"
      ]
     },
     "execution_count": 22,
     "metadata": {},
     "output_type": "execute_result"
    }
   ],
   "source": [
    "prob.run_driver()"
   ]
  },
  {
   "cell_type": "code",
   "execution_count": 23,
   "id": "9ef9bed3-e2e6-4d32-b82e-63e0bf53ab03",
   "metadata": {
    "execution": {
     "iopub.execute_input": "2022-08-15T20:59:28.973017Z",
     "iopub.status.busy": "2022-08-15T20:59:28.973017Z",
     "iopub.status.idle": "2022-08-15T20:59:29.031426Z",
     "shell.execute_reply": "2022-08-15T20:59:29.031426Z",
     "shell.execute_reply.started": "2022-08-15T20:59:28.973017Z"
    },
    "tags": []
   },
   "outputs": [
    {
     "data": {
      "text/html": [
       "<style type=\"text/css\">\n",
       "</style>\n",
       "<table id=\"T_2bf5f\">\n",
       "  <thead>\n",
       "  </thead>\n",
       "  <tbody>\n",
       "    <tr>\n",
       "      <td id=\"T_2bf5f_row0_col0\" class=\"data row0 col0\" >$$L_t$$</td>\n",
       "      <td id=\"T_2bf5f_row0_col1\" class=\"data row0 col1\" >10</td>\n",
       "      <td id=\"T_2bf5f_row0_col2\" class=\"data row0 col2\" >yr</td>\n",
       "    </tr>\n",
       "    <tr>\n",
       "      <td id=\"T_2bf5f_row1_col0\" class=\"data row1 col0\" >$$m_t$$</td>\n",
       "      <td id=\"T_2bf5f_row1_col1\" class=\"data row1 col1\" >8.449</td>\n",
       "      <td id=\"T_2bf5f_row1_col2\" class=\"data row1 col2\" >kg</td>\n",
       "    </tr>\n",
       "    <tr>\n",
       "      <td id=\"T_2bf5f_row2_col0\" class=\"data row2 col0\" >$$EN$$</td>\n",
       "      <td id=\"T_2bf5f_row2_col1\" class=\"data row2 col1\" >14.125</td>\n",
       "      <td id=\"T_2bf5f_row2_col2\" class=\"data row2 col2\" ></td>\n",
       "    </tr>\n",
       "  </tbody>\n",
       "</table>\n"
      ],
      "text/plain": [
       "<pandas.io.formats.style.Styler at 0x1c562d8cd00>"
      ]
     },
     "execution_count": 23,
     "metadata": {},
     "output_type": "execute_result"
    }
   ],
   "source": [
    "print_inputs(model, prob, namingfunc, ['m_t','EN', 'L_t'])"
   ]
  },
  {
   "cell_type": "code",
   "execution_count": 24,
   "id": "eaf8041a-255d-4adb-b8c7-69f31bda17f5",
   "metadata": {
    "execution": {
     "iopub.execute_input": "2022-08-15T20:59:29.972026Z",
     "iopub.status.busy": "2022-08-15T20:59:29.971062Z",
     "iopub.status.idle": "2022-08-15T20:59:29.996093Z",
     "shell.execute_reply": "2022-08-15T20:59:29.995090Z",
     "shell.execute_reply.started": "2022-08-15T20:59:29.972026Z"
    },
    "tags": []
   },
   "outputs": [
    {
     "name": "stdout",
     "output_type": "stream",
     "text": [
      "----------------\n",
      "Design Variables\n",
      "----------------\n",
      "name  val           size  lower  upper  \n",
      "----  ------------  ----  -----  ----- \n",
      "A     [0.0743458]   1     0.0    10.0   \n",
      "m_pr  [5.60654751]  1     0.0    10.0   \n",
      "\n",
      "-----------\n",
      "Constraints\n",
      "-----------\n",
      "name   val              size  lower   upper  equals  \n",
      "-----  ---------------  ----  ------  -----  ------ \n",
      "neq26  [4.1333287e-08]  1     -1e+30  0.0    None    \n",
      "neq27  [4.0699252e-08]  1     -1e+30  0.0    None    \n",
      "\n",
      "----------\n",
      "Objectives\n",
      "----------\n",
      "name   val          size  \n",
      "-----  -----------  ---- \n",
      "obj28  [8.4486165]  1     \n",
      "\n"
     ]
    }
   ],
   "source": [
    "prob.list_problem_vars(desvar_opts=['lower','upper'], cons_opts=['lower', 'upper', 'equals']);"
   ]
  },
  {
   "cell_type": "code",
   "execution_count": null,
   "id": "8b40026b-64d4-4ee7-9d3e-b24430c0ea56",
   "metadata": {},
   "outputs": [],
   "source": []
  }
 ],
 "metadata": {
  "kernelspec": {
   "display_name": "Python [conda env:minimdo]",
   "language": "python",
   "name": "conda-env-minimdo-py"
  },
  "language_info": {
   "codemirror_mode": {
    "name": "ipython",
    "version": 3
   },
   "file_extension": ".py",
   "mimetype": "text/x-python",
   "name": "python",
   "nbconvert_exporter": "python",
   "pygments_lexer": "ipython3",
   "version": "3.9.12"
  }
 },
 "nbformat": 4,
 "nbformat_minor": 5
}
