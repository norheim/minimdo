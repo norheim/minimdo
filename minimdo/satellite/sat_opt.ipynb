{
 "cells": [
  {
   "cell_type": "code",
   "execution_count": 1,
   "id": "1f975768-4be7-4dac-8281-18c051ceb1da",
   "metadata": {
    "execution": {
     "iopub.execute_input": "2022-08-11T00:40:03.027259Z",
     "iopub.status.busy": "2022-08-11T00:40:03.027259Z",
     "iopub.status.idle": "2022-08-11T00:40:05.815641Z",
     "shell.execute_reply": "2022-08-11T00:40:05.814762Z",
     "shell.execute_reply.started": "2022-08-11T00:40:03.027259Z"
    },
    "tags": []
   },
   "outputs": [],
   "source": [
    "from sat_initial import *"
   ]
  },
  {
   "cell_type": "code",
   "execution_count": 2,
   "id": "d88cf5f8-652d-4d98-9d91-16d161ea5bfc",
   "metadata": {
    "execution": {
     "iopub.execute_input": "2022-08-11T00:40:05.816634Z",
     "iopub.status.busy": "2022-08-11T00:40:05.816634Z",
     "iopub.status.idle": "2022-08-11T00:40:05.830968Z",
     "shell.execute_reply": "2022-08-11T00:40:05.830705Z",
     "shell.execute_reply.started": "2022-08-11T00:40:05.816634Z"
    },
    "tags": []
   },
   "outputs": [],
   "source": [
    "from datastructures.api import (edges_no_param, addobj, addineq, OPT, SolverRef, merge, \n",
    "copy_dicts, setsolvefor, var_params)\n",
    "from datastructures.graphutils import flatten_tree, all_variables, all_edges\n",
    "from datastructures.tearing import dir_graph, min_arc_set_assign\n",
    "from datastructures.operators import reformulate, invert_edges\n",
    "from datastructures.rendering import render_incidence\n",
    "from datastructures.runpipeline import (model_to_problem, order_from_tree, \n",
    "    default_solver_options, mdao_workflow)\n",
    "from datastructures.postprocess import print_outputs, print_inputs, update_varval\n",
    "from datastructures.transformations import transform_components\n",
    "import openmdao.api as om\n",
    "import numpy as np\n",
    "from ipywidgets import interact, interactive, fixed, interact_manual\n",
    "import ipywidgets as widgets"
   ]
  },
  {
   "cell_type": "markdown",
   "id": "73060a1f-56e2-41a4-bcb3-fcb6b063d513",
   "metadata": {},
   "source": [
    "### Configuration"
   ]
  },
  {
   "cell_type": "code",
   "execution_count": 3,
   "id": "6d3675e8-23d2-4d26-adb9-262ec5450484",
   "metadata": {
    "execution": {
     "iopub.execute_input": "2022-08-11T00:40:05.833033Z",
     "iopub.status.busy": "2022-08-11T00:40:05.832035Z",
     "iopub.status.idle": "2022-08-11T00:40:05.863117Z",
     "shell.execute_reply": "2022-08-11T00:40:05.862843Z",
     "shell.execute_reply.started": "2022-08-11T00:40:05.833033Z"
    },
    "tags": []
   },
   "outputs": [
    {
     "data": {
      "application/vnd.jupyter.widget-view+json": {
       "model_id": "52f0a6bb3c4948d1a987998f0f19055e",
       "version_major": 2,
       "version_minor": 0
      },
      "text/plain": [
       "interactive(children=(Checkbox(value=True, description='optimal_structure'), Output()), _dom_classes=('widget-…"
      ]
     },
     "metadata": {},
     "output_type": "display_data"
    }
   ],
   "source": [
    "global run_optimal_structure\n",
    "def f(optimal_structure):\n",
    "    global run_optimal_structure\n",
    "    run_optimal_structure=optimal_structure\n",
    "interact(f, optimal_structure=True);"
   ]
  },
  {
   "cell_type": "markdown",
   "id": "e5f59c17-b2c1-4286-b250-6319bd6f8a85",
   "metadata": {},
   "source": [
    "### Load structure of model"
   ]
  },
  {
   "cell_type": "code",
   "execution_count": 4,
   "id": "77dc42d5-0565-4503-9697-7b8ef7c9f9d8",
   "metadata": {
    "execution": {
     "iopub.execute_input": "2022-08-11T00:40:05.864159Z",
     "iopub.status.busy": "2022-08-11T00:40:05.864159Z",
     "iopub.status.idle": "2022-08-11T00:40:05.878159Z",
     "shell.execute_reply": "2022-08-11T00:40:05.878159Z",
     "shell.execute_reply.started": "2022-08-11T00:40:05.864159Z"
    },
    "tags": []
   },
   "outputs": [],
   "source": [
    "edges, tree = model.generate_formulation()\n",
    "edges_nopar =  edges_no_param(model, edges)\n",
    "outset_initial = {comp: var[0] for comp,var in edges[1].items()}"
   ]
  },
  {
   "cell_type": "markdown",
   "id": "05c4a310-eac3-4bf7-bd00-806989e3005f",
   "metadata": {},
   "source": [
    "### Restructure design model"
   ]
  },
  {
   "cell_type": "markdown",
   "id": "0fffe425-88fa-49d3-9043-1507fbd7c42b",
   "metadata": {},
   "source": [
    "We force variables from the constraints to be inputs: $L_t, X_r, EN, h, m_s$"
   ]
  },
  {
   "cell_type": "code",
   "execution_count": 5,
   "id": "c3f28cb5-71cd-454e-b874-382f3da3eae1",
   "metadata": {
    "execution": {
     "iopub.execute_input": "2022-08-11T00:40:05.880162Z",
     "iopub.status.busy": "2022-08-11T00:40:05.879166Z",
     "iopub.status.idle": "2022-08-11T00:40:05.924692Z",
     "shell.execute_reply": "2022-08-11T00:40:05.924533Z",
     "shell.execute_reply.started": "2022-08-11T00:40:05.879166Z"
    },
    "tags": []
   },
   "outputs": [
    {
     "name": "stdout",
     "output_type": "stream",
     "text": [
      "Set parameter Username\n",
      "Academic license - for non-commercial use only - expires 2023-02-25\n"
     ]
    }
   ],
   "source": [
    "not_input = {'H_{val}', r'\\rho_{val}', 'm_p'}#['m_p']#'d', r'\\rho_{val}', 'L_p', 'H_{val}']\n",
    "not_output = {'L_t','X_r','EN', 'h', 'm_s'}#['h']#[r'm_{rz}', 'm_{r0}']\n",
    "edges_for_solving = copy_dicts(edges_nopar)\n",
    "eqnidxs = list(edges_for_solving[1].keys())\n",
    "varidxs = all_variables(*edges_for_solving)\n",
    "graph_edges_minassign = all_edges(*edges_for_solving)\n",
    "edges_left_right = list(dir_graph(graph_edges_minassign, eqnidxs, {}))\n",
    "xsol,_ = min_arc_set_assign(edges_left_right, varidxs, eqnidxs, not_input, not_output)"
   ]
  },
  {
   "cell_type": "markdown",
   "id": "fb1b3bbc-4014-4353-9cf8-1a692b493ccd",
   "metadata": {},
   "source": [
    "### Build structure of optimization model"
   ]
  },
  {
   "cell_type": "code",
   "execution_count": 6,
   "id": "70747b45-e5eb-42b5-b68f-445050f7cdb0",
   "metadata": {
    "execution": {
     "iopub.execute_input": "2022-08-11T00:40:05.926714Z",
     "iopub.status.busy": "2022-08-11T00:40:05.925714Z",
     "iopub.status.idle": "2022-08-11T00:40:05.940714Z",
     "shell.execute_reply": "2022-08-11T00:40:05.939714Z",
     "shell.execute_reply.started": "2022-08-11T00:40:05.926714Z"
    },
    "tags": []
   },
   "outputs": [],
   "source": [
    "outset_opt = None\n",
    "if run_optimal_structure:\n",
    "    outset_opt = {right:left for left, right in edges_left_right if (left,right) in edges_left_right and xsol[left, right] > 0.5}"
   ]
  },
  {
   "cell_type": "code",
   "execution_count": 7,
   "id": "289a28ee-1060-41b0-91aa-a34a096f3a81",
   "metadata": {
    "execution": {
     "iopub.execute_input": "2022-08-11T00:40:05.940714Z",
     "iopub.status.busy": "2022-08-11T00:40:05.940714Z",
     "iopub.status.idle": "2022-08-11T00:40:05.955761Z",
     "shell.execute_reply": "2022-08-11T00:40:05.954908Z",
     "shell.execute_reply.started": "2022-08-11T00:40:05.940714Z"
    },
    "tags": []
   },
   "outputs": [],
   "source": [
    "tree_for_reformulation = flatten_tree(tree, 'opt')\n",
    "not_outputs = var_params(model, edges)\n",
    "edges_minassign, tree_minassign = reformulate(edges, tree_for_reformulation, outset_initial, \n",
    "                                              outset_opt, root_solver_name='opt', solveforvars=False, mdf=True) # For OPT do not have subproblems so no need to set mdf=True/False\n",
    "edges_minassign_noparam = edges_no_param(model, edges_minassign)"
   ]
  },
  {
   "cell_type": "code",
   "execution_count": 8,
   "id": "9599ac54-354e-46a3-a7c2-919a9bb85745",
   "metadata": {
    "execution": {
     "iopub.execute_input": "2022-08-11T00:40:05.956575Z",
     "iopub.status.busy": "2022-08-11T00:40:05.956575Z",
     "iopub.status.idle": "2022-08-11T00:40:06.251020Z",
     "shell.execute_reply": "2022-08-11T00:40:06.250202Z",
     "shell.execute_reply.started": "2022-08-11T00:40:05.956575Z"
    },
    "tags": []
   },
   "outputs": [],
   "source": [
    "newcomps = transform_components(edges, edges_minassign, model.components, model.idmapping)"
   ]
  },
  {
   "cell_type": "code",
   "execution_count": 9,
   "id": "1f3b893c-ef2c-485e-a6db-69e76442b541",
   "metadata": {
    "execution": {
     "iopub.execute_input": "2022-08-11T00:40:06.252027Z",
     "iopub.status.busy": "2022-08-11T00:40:06.252027Z",
     "iopub.status.idle": "2022-08-11T00:40:06.267190Z",
     "shell.execute_reply": "2022-08-11T00:40:06.266152Z",
     "shell.execute_reply.started": "2022-08-11T00:40:06.252027Z"
    },
    "tags": []
   },
   "outputs": [
    {
     "data": {
      "text/plain": [
       "[(('Q', '\\\\eta_A', 'P_c', 'd'), 6, ('A',), 'P_c/(Q*\\\\eta_A*d)'),\n",
       " (('P_T', 'P_l'), 7, ('P_c',), 'P_l + P_T'),\n",
       " (('T', 'E_b', 'P_c', 'd'), 8, (None,), 'E_b - P_c*T/d'),\n",
       " (('m_b', '\\\\rho_b'), 9, ('E_b',), 'm_b/\\\\rho_b'),\n",
       " (('r', 'EN', 'G_T', '\\\\lambda_c', 'b', 'G_r', 'k', 'T_s', 'L'), 18, ('P_T',), '157.91367041743*L*T_s*k*EN*b*r**2/(G_T*G_r*\\\\lambda_c**2)'),\n",
       " (('m_s', '\\\\eta_S'), 19, ('m_t',), 'm_s/\\\\eta_S'),\n",
       " (('m_t', 'm_p', 'm_{pr}', 'm_s', 'm_T', 'm_A'), 20, ('m_b',), '-m_A - m_T - m_p - m_s + m_t - m_{pr}'),\n",
       " (('L_p', '\\\\rho_{val}', 'a', 'G', '\\\\mu', 'C_D', 'Isp', 'A'), 24, ('m_{pr}',), '0.5*C_D*\\\\mu*A*L_p*\\\\rho_{val}/(G*Isp*a)'),\n",
       " (('L_n', 'L_t'), 25, ('L_p',), '-L_n + L_t')]"
      ]
     },
     "execution_count": 9,
     "metadata": {},
     "output_type": "execute_result"
    }
   ],
   "source": [
    "newcomps"
   ]
  },
  {
   "cell_type": "code",
   "execution_count": 10,
   "id": "7a68b388-3b11-4d68-a070-b7f4860a7a7e",
   "metadata": {
    "execution": {
     "iopub.execute_input": "2022-08-11T00:40:06.268227Z",
     "iopub.status.busy": "2022-08-11T00:40:06.268227Z",
     "iopub.status.idle": "2022-08-11T00:40:07.450431Z",
     "shell.execute_reply": "2022-08-11T00:40:07.449874Z",
     "shell.execute_reply.started": "2022-08-11T00:40:06.268227Z"
    },
    "tags": []
   },
   "outputs": [
    {
     "data": {
      "image/png": "[encoded data removed]",
      "text/plain": [
       "<Figure size 648x648 with 1 Axes>"
      ]
     },
     "metadata": {
      "needs_background": "light"
     },
     "output_type": "display_data"
    }
   ],
   "source": [
    "_, ax = render_incidence(edges_minassign_noparam, tree_minassign, rawvarname=True, \n",
    "                         dispendcomp=False, hideticks=True, patchwidth=4, figsize=((9,9)))"
   ]
  },
  {
   "cell_type": "markdown",
   "id": "91c4d5d7-392a-4b24-8ee1-de7a7ed9ffe7",
   "metadata": {},
   "source": [
    "### Optimization formulation"
   ]
  },
  {
   "cell_type": "code",
   "execution_count": 11,
   "id": "6383acfd-ab94-496f-a769-7e5e20ddb766",
   "metadata": {
    "execution": {
     "iopub.execute_input": "2022-08-11T00:40:07.452509Z",
     "iopub.status.busy": "2022-08-11T00:40:07.452509Z",
     "iopub.status.idle": "2022-08-11T00:40:07.465652Z",
     "shell.execute_reply": "2022-08-11T00:40:07.464641Z",
     "shell.execute_reply.started": "2022-08-11T00:40:07.452509Z"
    },
    "tags": []
   },
   "outputs": [],
   "source": [
    "opt = addsolver(m, name=\"opt\", idbyname=True)"
   ]
  },
  {
   "cell_type": "code",
   "execution_count": 12,
   "id": "9a98af11-9b69-43f6-acae-3e1fc9cdedcb",
   "metadata": {
    "execution": {
     "iopub.execute_input": "2022-08-11T00:40:07.466652Z",
     "iopub.status.busy": "2022-08-11T00:40:07.466652Z",
     "iopub.status.idle": "2022-08-11T00:40:07.495599Z",
     "shell.execute_reply": "2022-08-11T00:40:07.495464Z",
     "shell.execute_reply.started": "2022-08-11T00:40:07.466652Z"
    },
    "tags": []
   },
   "outputs": [],
   "source": [
    "ENreq = Par('EN_r', 14.125)\n",
    "addineq(opt, -Lt+L_min)\n",
    "addineq(opt, -EN+ENreq)\n",
    "addobj(opt, mt)"
   ]
  },
  {
   "cell_type": "code",
   "execution_count": 13,
   "id": "f855e202-359d-4868-a8d3-85603ef5f67a",
   "metadata": {
    "execution": {
     "iopub.execute_input": "2022-08-11T00:40:10.845846Z",
     "iopub.status.busy": "2022-08-11T00:40:10.845846Z",
     "iopub.status.idle": "2022-08-11T00:40:10.849845Z",
     "shell.execute_reply": "2022-08-11T00:40:10.849845Z",
     "shell.execute_reply.started": "2022-08-11T00:40:10.845846Z"
    },
    "tags": []
   },
   "outputs": [],
   "source": [
    "solvefor_init = [A,m_pr]\n",
    "varoptions_init = {A:[0,10], m_pr:[0,10]}"
   ]
  },
  {
   "cell_type": "code",
   "execution_count": 14,
   "id": "8b991e4e-81d5-4806-adde-331d23cf1d6a",
   "metadata": {
    "execution": {
     "iopub.execute_input": "2022-08-11T00:40:15.492998Z",
     "iopub.status.busy": "2022-08-11T00:40:15.492098Z",
     "iopub.status.idle": "2022-08-11T00:40:15.506851Z",
     "shell.execute_reply": "2022-08-11T00:40:15.505876Z",
     "shell.execute_reply.started": "2022-08-11T00:40:15.492998Z"
    },
    "tags": []
   },
   "outputs": [],
   "source": [
    "solvefor_opt = [m_s, Lt, EN]\n",
    "varoptions_opt = {}"
   ]
  },
  {
   "cell_type": "code",
   "execution_count": 15,
   "id": "a4612f5d-5d7d-4909-bdda-c1fe85edf74c",
   "metadata": {
    "execution": {
     "iopub.execute_input": "2022-08-11T00:40:16.981138Z",
     "iopub.status.busy": "2022-08-11T00:40:16.981027Z",
     "iopub.status.idle": "2022-08-11T00:40:16.996765Z",
     "shell.execute_reply": "2022-08-11T00:40:16.996492Z",
     "shell.execute_reply.started": "2022-08-11T00:40:16.981138Z"
    },
    "tags": []
   },
   "outputs": [],
   "source": [
    "solvefor, varoptions = ((solvefor_init, varoptions_init), (solvefor_opt, varoptions_opt))[run_optimal_structure]\n",
    "setsolvefor(opt, solvefor, varoptions)\n",
    "model.solvers_options['opt'] = {'type': OPT}#, 'optimizer': 'IPOPT', 'driver': om.pyOptSparseDriver}"
   ]
  },
  {
   "cell_type": "code",
   "execution_count": 16,
   "id": "7782f10e-e960-46b3-ade9-cbcb65ac1659",
   "metadata": {
    "execution": {
     "iopub.execute_input": "2022-08-11T00:40:17.422288Z",
     "iopub.status.busy": "2022-08-11T00:40:17.422288Z",
     "iopub.status.idle": "2022-08-11T00:40:17.435375Z",
     "shell.execute_reply": "2022-08-11T00:40:17.434364Z",
     "shell.execute_reply.started": "2022-08-11T00:40:17.422288Z"
    },
    "tags": []
   },
   "outputs": [],
   "source": [
    "formulation = model.generate_formulation()\n",
    "edges_ma_opt, tree_ma_opt = merge(formulation, edges_minassign, \n",
    "                                  tree_minassign, copysolvers=False)\n",
    "edges_ma_opt_noparam = edges_no_param(model, edges_ma_opt)"
   ]
  },
  {
   "cell_type": "code",
   "execution_count": 17,
   "id": "4932c08d-75a3-4671-9ad5-4b5c70b3b6d2",
   "metadata": {
    "execution": {
     "iopub.execute_input": "2022-08-11T00:40:17.915789Z",
     "iopub.status.busy": "2022-08-11T00:40:17.915789Z",
     "iopub.status.idle": "2022-08-11T00:40:18.950736Z",
     "shell.execute_reply": "2022-08-11T00:40:18.950670Z",
     "shell.execute_reply.started": "2022-08-11T00:40:17.915789Z"
    },
    "tags": []
   },
   "outputs": [
    {
     "data": {
      "image/png": "[encoded data removed]",
      "text/plain": [
       "<Figure size 648x648 with 1 Axes>"
      ]
     },
     "metadata": {
      "needs_background": "light"
     },
     "output_type": "display_data"
    }
   ],
   "source": [
    "_, ax = render_incidence(edges_ma_opt_noparam, tree_ma_opt, rawvarname=True, \n",
    "                         dispendcomp=False, hideticks=True, patchwidth=4, figsize=((9,9)))"
   ]
  },
  {
   "cell_type": "code",
   "execution_count": 18,
   "id": "a8e69adb-5454-46ad-ae4d-5927d2306ce6",
   "metadata": {
    "execution": {
     "iopub.execute_input": "2022-08-11T00:40:31.825961Z",
     "iopub.status.busy": "2022-08-11T00:40:31.825961Z",
     "iopub.status.idle": "2022-08-11T00:40:31.859681Z",
     "shell.execute_reply": "2022-08-11T00:40:31.858679Z",
     "shell.execute_reply.started": "2022-08-11T00:40:31.825961Z"
    },
    "tags": []
   },
   "outputs": [],
   "source": [
    "prob, mdao_in, groups, namingfunc = model_to_problem(model, \n",
    "                        formulation=(edges_ma_opt, tree_ma_opt),\n",
    "                        components=model.components+newcomps)"
   ]
  },
  {
   "cell_type": "code",
   "execution_count": 19,
   "id": "547b5a40-d3a2-4b48-bb0f-0cc904eace37",
   "metadata": {
    "execution": {
     "iopub.execute_input": "2022-08-11T00:40:32.367780Z",
     "iopub.status.busy": "2022-08-11T00:40:32.367780Z",
     "iopub.status.idle": "2022-08-11T00:40:32.389724Z",
     "shell.execute_reply": "2022-08-11T00:40:32.388810Z",
     "shell.execute_reply.started": "2022-08-11T00:40:32.367780Z"
    },
    "tags": []
   },
   "outputs": [],
   "source": [
    "prob.set_val('L_t', 10)\n",
    "prob.set_val('h', 400)\n",
    "prob.set_val('EN', 14.125)\n",
    "prob.set_val('X_r', 5)"
   ]
  },
  {
   "cell_type": "code",
   "execution_count": 20,
   "id": "d0dbbdf2-d8c5-492f-b9fe-59224e1e6a37",
   "metadata": {
    "execution": {
     "iopub.execute_input": "2022-08-11T00:40:33.288599Z",
     "iopub.status.busy": "2022-08-11T00:40:33.288599Z",
     "iopub.status.idle": "2022-08-11T00:40:38.026127Z",
     "shell.execute_reply": "2022-08-11T00:40:38.025078Z",
     "shell.execute_reply.started": "2022-08-11T00:40:33.288599Z"
    },
    "tags": []
   },
   "outputs": [
    {
     "name": "stdout",
     "output_type": "stream",
     "text": [
      "Optimization terminated successfully    (Exit mode 0)\n",
      "            Current function value: [5.80754331]\n",
      "            Iterations: 2\n",
      "            Function evaluations: 2\n",
      "            Gradient evaluations: 2\n",
      "Optimization Complete\n",
      "-----------------------------------\n"
     ]
    },
    {
     "data": {
      "text/plain": [
       "False"
      ]
     },
     "execution_count": 20,
     "metadata": {},
     "output_type": "execute_result"
    }
   ],
   "source": [
    "prob.run_driver()"
   ]
  },
  {
   "cell_type": "code",
   "execution_count": 29,
   "id": "9ef9bed3-e2e6-4d32-b82e-63e0bf53ab03",
   "metadata": {
    "execution": {
     "iopub.execute_input": "2022-08-11T00:35:27.278812Z",
     "iopub.status.busy": "2022-08-11T00:35:27.278812Z",
     "iopub.status.idle": "2022-08-11T00:35:27.345151Z",
     "shell.execute_reply": "2022-08-11T00:35:27.345151Z",
     "shell.execute_reply.started": "2022-08-11T00:35:27.278812Z"
    }
   },
   "outputs": [
    {
     "data": {
      "text/html": [
       "<style type=\"text/css\">\n",
       "</style>\n",
       "<table id=\"T_ae5a7\">\n",
       "  <thead>\n",
       "  </thead>\n",
       "  <tbody>\n",
       "    <tr>\n",
       "      <td id=\"T_ae5a7_row0_col0\" class=\"data row0 col0\" >$$a$$</td>\n",
       "      <td id=\"T_ae5a7_row0_col1\" class=\"data row0 col1\" >6778</td>\n",
       "      <td id=\"T_ae5a7_row0_col2\" class=\"data row0 col2\" >km</td>\n",
       "    </tr>\n",
       "    <tr>\n",
       "      <td id=\"T_ae5a7_row1_col0\" class=\"data row1 col0\" >$$T$$</td>\n",
       "      <td id=\"T_ae5a7_row1_col1\" class=\"data row1 col1\" >92.558</td>\n",
       "      <td id=\"T_ae5a7_row1_col2\" class=\"data row1 col2\" >min</td>\n",
       "    </tr>\n",
       "    <tr>\n",
       "      <td id=\"T_ae5a7_row2_col0\" class=\"data row2 col0\" >$$g$$</td>\n",
       "      <td id=\"T_ae5a7_row2_col1\" class=\"data row2 col1\" >0.11</td>\n",
       "      <td id=\"T_ae5a7_row2_col2\" class=\"data row2 col2\" ></td>\n",
       "    </tr>\n",
       "    <tr>\n",
       "      <td id=\"T_ae5a7_row3_col0\" class=\"data row3 col0\" >$$d$$</td>\n",
       "      <td id=\"T_ae5a7_row3_col1\" class=\"data row3 col1\" >0.61</td>\n",
       "      <td id=\"T_ae5a7_row3_col2\" class=\"data row3 col2\" ></td>\n",
       "    </tr>\n",
       "    <tr>\n",
       "      <td id=\"T_ae5a7_row4_col0\" class=\"data row4 col0\" >$$r$$</td>\n",
       "      <td id=\"T_ae5a7_row4_col1\" class=\"data row4 col1\" >2293.992</td>\n",
       "      <td id=\"T_ae5a7_row4_col2\" class=\"data row4 col2\" >km</td>\n",
       "    </tr>\n",
       "    <tr>\n",
       "      <td id=\"T_ae5a7_row5_col0\" class=\"data row5 col0\" >$$m_A$$</td>\n",
       "      <td id=\"T_ae5a7_row5_col1\" class=\"data row5 col1\" >0.509</td>\n",
       "      <td id=\"T_ae5a7_row5_col2\" class=\"data row5 col2\" >kg</td>\n",
       "    </tr>\n",
       "    <tr>\n",
       "      <td id=\"T_ae5a7_row6_col0\" class=\"data row6 col0\" >$$P_c$$</td>\n",
       "      <td id=\"T_ae5a7_row6_col1\" class=\"data row6 col1\" >12.725</td>\n",
       "      <td id=\"T_ae5a7_row6_col2\" class=\"data row6 col2\" >W</td>\n",
       "    </tr>\n",
       "    <tr>\n",
       "      <td id=\"T_ae5a7_row7_col0\" class=\"data row7 col0\" >$$P_T$$</td>\n",
       "      <td id=\"T_ae5a7_row7_col1\" class=\"data row7 col1\" >0.725</td>\n",
       "      <td id=\"T_ae5a7_row7_col2\" class=\"data row7 col2\" >W</td>\n",
       "    </tr>\n",
       "    <tr>\n",
       "      <td id=\"T_ae5a7_row8_col0\" class=\"data row8 col0\" >$$E_b$$</td>\n",
       "      <td id=\"T_ae5a7_row8_col1\" class=\"data row8 col1\" >115.866</td>\n",
       "      <td id=\"T_ae5a7_row8_col2\" class=\"data row8 col2\" >kJ</td>\n",
       "    </tr>\n",
       "    <tr>\n",
       "      <td id=\"T_ae5a7_row9_col0\" class=\"data row9 col0\" >$$m_b$$</td>\n",
       "      <td id=\"T_ae5a7_row9_col1\" class=\"data row9 col1\" >0.232</td>\n",
       "      <td id=\"T_ae5a7_row9_col2\" class=\"data row9 col2\" >kg</td>\n",
       "    </tr>\n",
       "    <tr>\n",
       "      <td id=\"T_ae5a7_row10_col0\" class=\"data row10 col0\" >$$D_p$$</td>\n",
       "      <td id=\"T_ae5a7_row10_col1\" class=\"data row10 col1\" >0.049</td>\n",
       "      <td id=\"T_ae5a7_row10_col2\" class=\"data row10 col2\" >m</td>\n",
       "    </tr>\n",
       "    <tr>\n",
       "      <td id=\"T_ae5a7_row11_col0\" class=\"data row11 col0\" >$$D$$</td>\n",
       "      <td id=\"T_ae5a7_row11_col1\" class=\"data row11 col1\" >16.03</td>\n",
       "      <td id=\"T_ae5a7_row11_col2\" class=\"data row11 col2\" >GB</td>\n",
       "    </tr>\n",
       "    <tr>\n",
       "      <td id=\"T_ae5a7_row12_col0\" class=\"data row12 col0\" >$$m_p$$</td>\n",
       "      <td id=\"T_ae5a7_row12_col1\" class=\"data row12 col1\" >0.022</td>\n",
       "      <td id=\"T_ae5a7_row12_col2\" class=\"data row12 col2\" >kg</td>\n",
       "    </tr>\n",
       "    <tr>\n",
       "      <td id=\"T_ae5a7_row13_col0\" class=\"data row13 col0\" >$$b$$</td>\n",
       "      <td id=\"T_ae5a7_row13_col1\" class=\"data row13 col1\" >2.886</td>\n",
       "      <td id=\"T_ae5a7_row13_col2\" class=\"data row13 col2\" >MB/s</td>\n",
       "    </tr>\n",
       "    <tr>\n",
       "      <td id=\"T_ae5a7_row14_col0\" class=\"data row14 col0\" >$$\\lambda_c$$</td>\n",
       "      <td id=\"T_ae5a7_row14_col1\" class=\"data row14 col1\" >13.591</td>\n",
       "      <td id=\"T_ae5a7_row14_col2\" class=\"data row14 col2\" >cm</td>\n",
       "    </tr>\n",
       "    <tr>\n",
       "      <td id=\"T_ae5a7_row15_col0\" class=\"data row15 col0\" >$$D_T$$</td>\n",
       "      <td id=\"T_ae5a7_row15_col1\" class=\"data row15 col1\" >0.39</td>\n",
       "      <td id=\"T_ae5a7_row15_col2\" class=\"data row15 col2\" >m</td>\n",
       "    </tr>\n",
       "    <tr>\n",
       "      <td id=\"T_ae5a7_row16_col0\" class=\"data row16 col0\" >$$m_T$$</td>\n",
       "      <td id=\"T_ae5a7_row16_col1\" class=\"data row16 col1\" >0.049</td>\n",
       "      <td id=\"T_ae5a7_row16_col2\" class=\"data row16 col2\" >kg</td>\n",
       "    </tr>\n",
       "    <tr>\n",
       "      <td id=\"T_ae5a7_row17_col0\" class=\"data row17 col0\" >$$G_r$$</td>\n",
       "      <td id=\"T_ae5a7_row17_col1\" class=\"data row17 col1\" >8255.002</td>\n",
       "      <td id=\"T_ae5a7_row17_col2\" class=\"data row17 col2\" ></td>\n",
       "    </tr>\n",
       "    <tr>\n",
       "      <td id=\"T_ae5a7_row18_col0\" class=\"data row18 col0\" >$$EN$$</td>\n",
       "      <td id=\"T_ae5a7_row18_col1\" class=\"data row18 col1\" >14.125</td>\n",
       "      <td id=\"T_ae5a7_row18_col2\" class=\"data row18 col2\" ></td>\n",
       "    </tr>\n",
       "    <tr>\n",
       "      <td id=\"T_ae5a7_row19_col0\" class=\"data row19 col0\" >$$m_s$$</td>\n",
       "      <td id=\"T_ae5a7_row19_col1\" class=\"data row19 col1\" >1.162</td>\n",
       "      <td id=\"T_ae5a7_row19_col2\" class=\"data row19 col2\" >kg</td>\n",
       "    </tr>\n",
       "    <tr>\n",
       "      <td id=\"T_ae5a7_row20_col0\" class=\"data row20 col0\" >$$m_t$$</td>\n",
       "      <td id=\"T_ae5a7_row20_col1\" class=\"data row20 col1\" >5.808</td>\n",
       "      <td id=\"T_ae5a7_row20_col2\" class=\"data row20 col2\" >kg</td>\n",
       "    </tr>\n",
       "    <tr>\n",
       "      <td id=\"T_ae5a7_row21_col0\" class=\"data row21 col0\" >$$H_{val}$$</td>\n",
       "      <td id=\"T_ae5a7_row21_col1\" class=\"data row21 col1\" >5.820×10⁴</td>\n",
       "      <td id=\"T_ae5a7_row21_col2\" class=\"data row21 col2\" >m</td>\n",
       "    </tr>\n",
       "    <tr>\n",
       "      <td id=\"T_ae5a7_row22_col0\" class=\"data row22 col0\" >$$\\rho_{val}$$</td>\n",
       "      <td id=\"T_ae5a7_row22_col1\" class=\"data row22 col1\" >2.720×10⁻¹²</td>\n",
       "      <td id=\"T_ae5a7_row22_col2\" class=\"data row22 col2\" >kg/m³</td>\n",
       "    </tr>\n",
       "    <tr>\n",
       "      <td id=\"T_ae5a7_row23_col0\" class=\"data row23 col0\" >$$L_n$$</td>\n",
       "      <td id=\"T_ae5a7_row23_col1\" class=\"data row23 col1\" >0.677</td>\n",
       "      <td id=\"T_ae5a7_row23_col2\" class=\"data row23 col2\" >yr</td>\n",
       "    </tr>\n",
       "    <tr>\n",
       "      <td id=\"T_ae5a7_row24_col0\" class=\"data row24 col0\" >$$L_p$$</td>\n",
       "      <td id=\"T_ae5a7_row24_col1\" class=\"data row24 col1\" >9.323</td>\n",
       "      <td id=\"T_ae5a7_row24_col2\" class=\"data row24 col2\" >yr</td>\n",
       "    </tr>\n",
       "    <tr>\n",
       "      <td id=\"T_ae5a7_row25_col0\" class=\"data row25 col0\" >$$L_t$$</td>\n",
       "      <td id=\"T_ae5a7_row25_col1\" class=\"data row25 col1\" >10</td>\n",
       "      <td id=\"T_ae5a7_row25_col2\" class=\"data row25 col2\" >yr</td>\n",
       "    </tr>\n",
       "  </tbody>\n",
       "</table>\n"
      ],
      "text/plain": [
       "<pandas.io.formats.style.Styler at 0x19287a7bd90>"
      ]
     },
     "execution_count": 29,
     "metadata": {},
     "output_type": "execute_result"
    }
   ],
   "source": [
    "print_outputs(model, prob, namingfunc, rounding=3)"
   ]
  },
  {
   "cell_type": "code",
   "execution_count": null,
   "id": "ba60c192-3adf-47f1-aa12-7e18b2ee6632",
   "metadata": {},
   "outputs": [],
   "source": []
  }
 ],
 "metadata": {
  "kernelspec": {
   "display_name": "Python [conda env:minimdo]",
   "language": "python",
   "name": "conda-env-minimdo-py"
  },
  "language_info": {
   "codemirror_mode": {
    "name": "ipython",
    "version": 3
   },
   "file_extension": ".py",
   "mimetype": "text/x-python",
   "name": "python",
   "nbconvert_exporter": "python",
   "pygments_lexer": "ipython3",
   "version": "3.9.12"
  }
 },
 "nbformat": 4,
 "nbformat_minor": 5
}
