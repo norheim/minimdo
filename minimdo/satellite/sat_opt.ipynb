{
 "cells": [
  {
   "cell_type": "code",
   "execution_count": 1,
   "id": "1f975768-4be7-4dac-8281-18c051ceb1da",
   "metadata": {
    "execution": {
     "iopub.execute_input": "2022-08-15T21:40:01.377369Z",
     "iopub.status.busy": "2022-08-15T21:40:01.377369Z",
     "iopub.status.idle": "2022-08-15T21:40:04.271367Z",
     "shell.execute_reply": "2022-08-15T21:40:04.271367Z",
     "shell.execute_reply.started": "2022-08-15T21:40:01.377369Z"
    },
    "tags": []
   },
   "outputs": [],
   "source": [
    "from sat_initial import *"
   ]
  },
  {
   "cell_type": "code",
   "execution_count": 2,
   "id": "d88cf5f8-652d-4d98-9d91-16d161ea5bfc",
   "metadata": {
    "execution": {
     "iopub.execute_input": "2022-08-15T21:40:04.271367Z",
     "iopub.status.busy": "2022-08-15T21:40:04.271367Z",
     "iopub.status.idle": "2022-08-15T21:40:04.287549Z",
     "shell.execute_reply": "2022-08-15T21:40:04.286541Z",
     "shell.execute_reply.started": "2022-08-15T21:40:04.271367Z"
    },
    "tags": []
   },
   "outputs": [],
   "source": [
    "from datastructures.api import (edges_no_param, addobj, addineq, OPT, SolverRef, merge, \n",
    "copy_dicts, setsolvefor, var_params)\n",
    "from datastructures.graphutils import flatten_tree, all_variables, all_edges\n",
    "from datastructures.tearing import dir_graph, min_arc_set_assign\n",
    "from datastructures.operators import reformulate, invert_edges\n",
    "from datastructures.rendering import render_incidence\n",
    "from datastructures.runpipeline import (model_to_problem, order_from_tree, \n",
    "    default_solver_options, mdao_workflow)\n",
    "from datastructures.postprocess import print_outputs, print_inputs, update_varval\n",
    "from datastructures.transformations import transform_components\n",
    "import openmdao.api as om\n",
    "import numpy as np\n",
    "from ipywidgets import interact, interactive, fixed, interact_manual\n",
    "import ipywidgets as widgets"
   ]
  },
  {
   "cell_type": "code",
   "execution_count": 3,
   "id": "fbe9a0b0-732c-4fef-a0ae-ec2fa6573a3b",
   "metadata": {
    "execution": {
     "iopub.execute_input": "2022-08-15T21:40:04.288549Z",
     "iopub.status.busy": "2022-08-15T21:40:04.288549Z",
     "iopub.status.idle": "2022-08-15T21:40:04.302689Z",
     "shell.execute_reply": "2022-08-15T21:40:04.302549Z",
     "shell.execute_reply.started": "2022-08-15T21:40:04.288549Z"
    },
    "tags": []
   },
   "outputs": [],
   "source": [
    "import matplotlib.pyplot as plt\n",
    "plt.rcParams['text.usetex'] = True"
   ]
  },
  {
   "cell_type": "markdown",
   "id": "73060a1f-56e2-41a4-bcb3-fcb6b063d513",
   "metadata": {},
   "source": [
    "### Configuration"
   ]
  },
  {
   "cell_type": "code",
   "execution_count": 4,
   "id": "6d3675e8-23d2-4d26-adb9-262ec5450484",
   "metadata": {
    "execution": {
     "iopub.execute_input": "2022-08-15T21:40:04.304700Z",
     "iopub.status.busy": "2022-08-15T21:40:04.303701Z",
     "iopub.status.idle": "2022-08-15T21:40:04.318709Z",
     "shell.execute_reply": "2022-08-15T21:40:04.317703Z",
     "shell.execute_reply.started": "2022-08-15T21:40:04.304700Z"
    },
    "tags": []
   },
   "outputs": [],
   "source": [
    "run_optimal_structure = False\n",
    "# global run_optimal_structure\n",
    "# def f(optimal_structure):\n",
    "#     global run_optimal_structure\n",
    "#     run_optimal_structure=optimal_structure\n",
    "# interact(f, optimal_structure=True);"
   ]
  },
  {
   "cell_type": "markdown",
   "id": "e5f59c17-b2c1-4286-b250-6319bd6f8a85",
   "metadata": {},
   "source": [
    "### Load structure of model"
   ]
  },
  {
   "cell_type": "code",
   "execution_count": 5,
   "id": "77dc42d5-0565-4503-9697-7b8ef7c9f9d8",
   "metadata": {
    "execution": {
     "iopub.execute_input": "2022-08-15T21:40:04.846925Z",
     "iopub.status.busy": "2022-08-15T21:40:04.846925Z",
     "iopub.status.idle": "2022-08-15T21:40:04.864007Z",
     "shell.execute_reply": "2022-08-15T21:40:04.863001Z",
     "shell.execute_reply.started": "2022-08-15T21:40:04.846925Z"
    },
    "tags": []
   },
   "outputs": [],
   "source": [
    "edges, tree = model.generate_formulation()\n",
    "edges_nopar =  edges_no_param(model, edges)\n",
    "outset_initial = {comp: var[0] for comp,var in edges[1].items()}"
   ]
  },
  {
   "cell_type": "markdown",
   "id": "05c4a310-eac3-4bf7-bd00-806989e3005f",
   "metadata": {},
   "source": [
    "### Restructure design model"
   ]
  },
  {
   "cell_type": "markdown",
   "id": "0fffe425-88fa-49d3-9043-1507fbd7c42b",
   "metadata": {},
   "source": [
    "We force variables from the constraints to be inputs: $L_t, X_r, EN, h, m_s$"
   ]
  },
  {
   "cell_type": "code",
   "execution_count": 6,
   "id": "c3f28cb5-71cd-454e-b874-382f3da3eae1",
   "metadata": {
    "execution": {
     "iopub.execute_input": "2022-08-15T21:40:05.534067Z",
     "iopub.status.busy": "2022-08-15T21:40:05.534067Z",
     "iopub.status.idle": "2022-08-15T21:40:05.581762Z",
     "shell.execute_reply": "2022-08-15T21:40:05.581762Z",
     "shell.execute_reply.started": "2022-08-15T21:40:05.534067Z"
    },
    "tags": []
   },
   "outputs": [
    {
     "name": "stdout",
     "output_type": "stream",
     "text": [
      "Set parameter Username\n",
      "Academic license - for non-commercial use only - expires 2023-02-25\n"
     ]
    }
   ],
   "source": [
    "not_input = {'H_{val}', r'\\rho_{val}', 'm_p'}#['m_p']#'d', r'\\rho_{val}', 'L_p', 'H_{val}']\n",
    "not_output = {'L_t','X_r','EN', 'h', 'm_s'}#['h']#[r'm_{rz}', 'm_{r0}']\n",
    "edges_for_solving = copy_dicts(edges_nopar)\n",
    "eqnidxs = list(edges_for_solving[1].keys())\n",
    "varidxs = all_variables(*edges_for_solving)\n",
    "graph_edges_minassign = all_edges(*edges_for_solving)\n",
    "edges_left_right = list(dir_graph(graph_edges_minassign, eqnidxs, {}))\n",
    "xsol,_ = min_arc_set_assign(edges_left_right, varidxs, eqnidxs, not_input, not_output)"
   ]
  },
  {
   "cell_type": "markdown",
   "id": "fb1b3bbc-4014-4353-9cf8-1a692b493ccd",
   "metadata": {},
   "source": [
    "### Build structure of optimization model"
   ]
  },
  {
   "cell_type": "code",
   "execution_count": 7,
   "id": "70747b45-e5eb-42b5-b68f-445050f7cdb0",
   "metadata": {
    "execution": {
     "iopub.execute_input": "2022-08-15T21:40:06.132072Z",
     "iopub.status.busy": "2022-08-15T21:40:06.132072Z",
     "iopub.status.idle": "2022-08-15T21:40:06.138070Z",
     "shell.execute_reply": "2022-08-15T21:40:06.138070Z",
     "shell.execute_reply.started": "2022-08-15T21:40:06.132072Z"
    },
    "tags": []
   },
   "outputs": [],
   "source": [
    "outset_opt = None\n",
    "if run_optimal_structure:\n",
    "    outset_opt = {right:left for left, right in edges_left_right if (left,right) in edges_left_right and xsol[left, right] > 0.5}"
   ]
  },
  {
   "cell_type": "code",
   "execution_count": 8,
   "id": "289a28ee-1060-41b0-91aa-a34a096f3a81",
   "metadata": {
    "execution": {
     "iopub.execute_input": "2022-08-15T21:40:06.509096Z",
     "iopub.status.busy": "2022-08-15T21:40:06.508098Z",
     "iopub.status.idle": "2022-08-15T21:40:06.529049Z",
     "shell.execute_reply": "2022-08-15T21:40:06.529049Z",
     "shell.execute_reply.started": "2022-08-15T21:40:06.509096Z"
    },
    "tags": []
   },
   "outputs": [],
   "source": [
    "tree_for_reformulation = flatten_tree(tree, 'opt')\n",
    "not_outputs = var_params(model, edges)\n",
    "edges_minassign, tree_minassign = reformulate(edges, tree_for_reformulation, outset_initial, \n",
    "                                              outset_opt, root_solver_name='opt', solveforvars=False, mdf=True) # For OPT do not have subproblems so no need to set mdf=True/False\n",
    "edges_minassign_noparam = edges_no_param(model, edges_minassign)"
   ]
  },
  {
   "cell_type": "code",
   "execution_count": 9,
   "id": "9599ac54-354e-46a3-a7c2-919a9bb85745",
   "metadata": {
    "execution": {
     "iopub.execute_input": "2022-08-15T21:40:06.989962Z",
     "iopub.status.busy": "2022-08-15T21:40:06.988966Z",
     "iopub.status.idle": "2022-08-15T21:40:07.012610Z",
     "shell.execute_reply": "2022-08-15T21:40:07.011692Z",
     "shell.execute_reply.started": "2022-08-15T21:40:06.989962Z"
    },
    "tags": []
   },
   "outputs": [],
   "source": [
    "newcomps = transform_components(edges, edges_minassign, model.components, model.idmapping)"
   ]
  },
  {
   "cell_type": "code",
   "execution_count": 10,
   "id": "1f3b893c-ef2c-485e-a6db-69e76442b541",
   "metadata": {
    "execution": {
     "iopub.execute_input": "2022-08-15T21:40:07.217140Z",
     "iopub.status.busy": "2022-08-15T21:40:07.216647Z",
     "iopub.status.idle": "2022-08-15T21:40:07.230138Z",
     "shell.execute_reply": "2022-08-15T21:40:07.229218Z",
     "shell.execute_reply.started": "2022-08-15T21:40:07.217140Z"
    },
    "tags": []
   },
   "outputs": [
    {
     "data": {
      "text/plain": [
       "[(('\\\\eta_S', 'm_t', 'm_s'), 19, (None,), '-\\\\eta_S*m_t + m_s'),\n",
       " (('m_t', 'm_s', 'm_A', 'm_T', 'm_{pr}', 'm_p', 'm_b'), 20, (None,), '-m_A - m_T - m_b - m_p - m_s + m_t - m_{pr}')]"
      ]
     },
     "execution_count": 10,
     "metadata": {},
     "output_type": "execute_result"
    }
   ],
   "source": [
    "newcomps"
   ]
  },
  {
   "cell_type": "code",
   "execution_count": 11,
   "id": "7a68b388-3b11-4d68-a070-b7f4860a7a7e",
   "metadata": {
    "execution": {
     "iopub.execute_input": "2022-08-15T21:40:07.443984Z",
     "iopub.status.busy": "2022-08-15T21:40:07.442951Z",
     "iopub.status.idle": "2022-08-15T21:40:08.196385Z",
     "shell.execute_reply": "2022-08-15T21:40:08.196142Z",
     "shell.execute_reply.started": "2022-08-15T21:40:07.443984Z"
    },
    "tags": []
   },
   "outputs": [
    {
     "data": {
      "image/png": "[encoded data removed]",
      "text/plain": [
       "<Figure size 648x648 with 1 Axes>"
      ]
     },
     "metadata": {
      "needs_background": "light"
     },
     "output_type": "display_data"
    }
   ],
   "source": [
    "_, ax = render_incidence(edges_minassign_noparam, tree_minassign, rawvarname=True, \n",
    "                         dispendcomp=False, hideticks=True, patchwidth=4, figsize=((9,9)))"
   ]
  },
  {
   "cell_type": "markdown",
   "id": "91c4d5d7-392a-4b24-8ee1-de7a7ed9ffe7",
   "metadata": {},
   "source": [
    "### Optimization formulation"
   ]
  },
  {
   "cell_type": "code",
   "execution_count": 12,
   "id": "6383acfd-ab94-496f-a769-7e5e20ddb766",
   "metadata": {
    "execution": {
     "iopub.execute_input": "2022-08-15T21:40:08.198431Z",
     "iopub.status.busy": "2022-08-15T21:40:08.198431Z",
     "iopub.status.idle": "2022-08-15T21:40:08.211892Z",
     "shell.execute_reply": "2022-08-15T21:40:08.211483Z",
     "shell.execute_reply.started": "2022-08-15T21:40:08.198431Z"
    },
    "tags": []
   },
   "outputs": [],
   "source": [
    "opt = addsolver(m, name=\"opt\", idbyname=True)"
   ]
  },
  {
   "cell_type": "code",
   "execution_count": 13,
   "id": "9a98af11-9b69-43f6-acae-3e1fc9cdedcb",
   "metadata": {
    "execution": {
     "iopub.execute_input": "2022-08-15T21:40:08.531479Z",
     "iopub.status.busy": "2022-08-15T21:40:08.530985Z",
     "iopub.status.idle": "2022-08-15T21:40:08.553972Z",
     "shell.execute_reply": "2022-08-15T21:40:08.553474Z",
     "shell.execute_reply.started": "2022-08-15T21:40:08.531479Z"
    },
    "tags": []
   },
   "outputs": [],
   "source": [
    "ENreq = Par('EN_r', 14.125)\n",
    "addineq(opt, -Lt+L_min)\n",
    "addineq(opt, -EN+ENreq)\n",
    "addobj(opt, mt)"
   ]
  },
  {
   "cell_type": "code",
   "execution_count": 14,
   "id": "f855e202-359d-4868-a8d3-85603ef5f67a",
   "metadata": {
    "execution": {
     "iopub.execute_input": "2022-08-15T21:40:08.816405Z",
     "iopub.status.busy": "2022-08-15T21:40:08.815408Z",
     "iopub.status.idle": "2022-08-15T21:40:08.833891Z",
     "shell.execute_reply": "2022-08-15T21:40:08.832971Z",
     "shell.execute_reply.started": "2022-08-15T21:40:08.816405Z"
    },
    "tags": []
   },
   "outputs": [],
   "source": [
    "solvefor_init = [A,m_pr]\n",
    "varoptions_init = {A:[0,10], m_pr:[0,10]}"
   ]
  },
  {
   "cell_type": "code",
   "execution_count": 15,
   "id": "8b991e4e-81d5-4806-adde-331d23cf1d6a",
   "metadata": {
    "execution": {
     "iopub.execute_input": "2022-08-15T21:40:09.089010Z",
     "iopub.status.busy": "2022-08-15T21:40:09.089010Z",
     "iopub.status.idle": "2022-08-15T21:40:09.100808Z",
     "shell.execute_reply": "2022-08-15T21:40:09.099798Z",
     "shell.execute_reply.started": "2022-08-15T21:40:09.089010Z"
    },
    "tags": []
   },
   "outputs": [],
   "source": [
    "solvefor_opt = [m_s, Lt, EN]\n",
    "varoptions_opt = {}"
   ]
  },
  {
   "cell_type": "code",
   "execution_count": 16,
   "id": "a4612f5d-5d7d-4909-bdda-c1fe85edf74c",
   "metadata": {
    "execution": {
     "iopub.execute_input": "2022-08-15T21:40:09.321665Z",
     "iopub.status.busy": "2022-08-15T21:40:09.320575Z",
     "iopub.status.idle": "2022-08-15T21:40:09.337057Z",
     "shell.execute_reply": "2022-08-15T21:40:09.336154Z",
     "shell.execute_reply.started": "2022-08-15T21:40:09.321665Z"
    },
    "tags": []
   },
   "outputs": [],
   "source": [
    "solvefor, varoptions = ((solvefor_init, varoptions_init), (solvefor_opt, varoptions_opt))[run_optimal_structure]\n",
    "setsolvefor(opt, solvefor, varoptions)\n",
    "model.solvers_options['opt'] = {'type': OPT}#, 'optimizer': 'IPOPT', 'driver': om.pyOptSparseDriver}"
   ]
  },
  {
   "cell_type": "code",
   "execution_count": 17,
   "id": "7782f10e-e960-46b3-ade9-cbcb65ac1659",
   "metadata": {
    "execution": {
     "iopub.execute_input": "2022-08-15T21:40:09.543820Z",
     "iopub.status.busy": "2022-08-15T21:40:09.543820Z",
     "iopub.status.idle": "2022-08-15T21:40:09.556817Z",
     "shell.execute_reply": "2022-08-15T21:40:09.555900Z",
     "shell.execute_reply.started": "2022-08-15T21:40:09.543820Z"
    },
    "tags": []
   },
   "outputs": [],
   "source": [
    "formulation = model.generate_formulation()\n",
    "edges_ma_opt, tree_ma_opt = merge(formulation, edges_minassign, \n",
    "                                  tree_minassign, copysolvers=False)\n",
    "edges_ma_opt_noparam = edges_no_param(model, edges_ma_opt)"
   ]
  },
  {
   "cell_type": "code",
   "execution_count": 18,
   "id": "4932c08d-75a3-4671-9ad5-4b5c70b3b6d2",
   "metadata": {
    "execution": {
     "iopub.execute_input": "2022-08-15T21:40:09.946136Z",
     "iopub.status.busy": "2022-08-15T21:40:09.945139Z",
     "iopub.status.idle": "2022-08-15T21:40:10.346391Z",
     "shell.execute_reply": "2022-08-15T21:40:10.345393Z",
     "shell.execute_reply.started": "2022-08-15T21:40:09.946136Z"
    },
    "tags": []
   },
   "outputs": [
    {
     "data": {
      "image/png": "[encoded data removed]",
      "text/plain": [
       "<Figure size 648x648 with 1 Axes>"
      ]
     },
     "metadata": {
      "needs_background": "light"
     },
     "output_type": "display_data"
    }
   ],
   "source": [
    "_, ax = render_incidence(edges_ma_opt_noparam, tree_ma_opt, rawvarname=True, \n",
    "                         dispendcomp=False, hideticks=True, patchwidth=4, figsize=((9,9)))"
   ]
  },
  {
   "cell_type": "code",
   "execution_count": 35,
   "id": "a8e69adb-5454-46ad-ae4d-5927d2306ce6",
   "metadata": {
    "execution": {
     "iopub.execute_input": "2022-08-15T21:40:36.053411Z",
     "iopub.status.busy": "2022-08-15T21:40:36.053411Z",
     "iopub.status.idle": "2022-08-15T21:40:36.072899Z",
     "shell.execute_reply": "2022-08-15T21:40:36.072899Z",
     "shell.execute_reply.started": "2022-08-15T21:40:36.053411Z"
    },
    "tags": []
   },
   "outputs": [],
   "source": [
    "prob, mdao_in, groups, namingfunc = model_to_problem(model, \n",
    "                        formulation=(edges_ma_opt, tree_ma_opt),\n",
    "                        components=model.components+newcomps)"
   ]
  },
  {
   "cell_type": "code",
   "execution_count": 36,
   "id": "547b5a40-d3a2-4b48-bb0f-0cc904eace37",
   "metadata": {
    "execution": {
     "iopub.execute_input": "2022-08-15T21:40:36.227527Z",
     "iopub.status.busy": "2022-08-15T21:40:36.227527Z",
     "iopub.status.idle": "2022-08-15T21:40:36.246526Z",
     "shell.execute_reply": "2022-08-15T21:40:36.245524Z",
     "shell.execute_reply.started": "2022-08-15T21:40:36.227527Z"
    },
    "tags": []
   },
   "outputs": [],
   "source": [
    "#prob.set_val('L_t', 10)\n",
    "prob.set_val('h', 400)\n",
    "#prob.set_val('EN', 14.125)\n",
    "prob.set_val('X_r', 5)"
   ]
  },
  {
   "cell_type": "code",
   "execution_count": 37,
   "id": "6d4f067b-9ef1-46ba-bf1b-c602eddee720",
   "metadata": {
    "execution": {
     "iopub.execute_input": "2022-08-15T21:40:36.379639Z",
     "iopub.status.busy": "2022-08-15T21:40:36.379639Z",
     "iopub.status.idle": "2022-08-15T21:40:36.385633Z",
     "shell.execute_reply": "2022-08-15T21:40:36.384636Z",
     "shell.execute_reply.started": "2022-08-15T21:40:36.379639Z"
    },
    "tags": []
   },
   "outputs": [],
   "source": [
    "#prob.run_model()"
   ]
  },
  {
   "cell_type": "code",
   "execution_count": 38,
   "id": "d0dbbdf2-d8c5-492f-b9fe-59224e1e6a37",
   "metadata": {
    "execution": {
     "iopub.execute_input": "2022-08-15T21:40:36.645729Z",
     "iopub.status.busy": "2022-08-15T21:40:36.645729Z",
     "iopub.status.idle": "2022-08-15T21:40:38.324032Z",
     "shell.execute_reply": "2022-08-15T21:40:38.324032Z",
     "shell.execute_reply.started": "2022-08-15T21:40:36.645729Z"
    },
    "tags": []
   },
   "outputs": [
    {
     "name": "stdout",
     "output_type": "stream",
     "text": [
      "\n",
      "==\n",
      "s2\n",
      "==\n",
      "NL: Newton Converged in 1 iterations\n",
      "\n",
      "==\n",
      "s2\n",
      "==\n",
      "NL: Newton Converged in 0 iterations\n",
      "\n",
      "==\n",
      "s2\n",
      "==\n",
      "NL: Newton Converged in 1 iterations\n",
      "\n",
      "==\n",
      "s2\n",
      "==\n",
      "NL: Newton Converged in 1 iterations\n",
      "\n",
      "==\n",
      "s2\n",
      "==\n",
      "NL: Newton Converged in 1 iterations\n",
      "\n",
      "==\n",
      "s2\n",
      "==\n",
      "NL: Newton Converged in 1 iterations\n",
      "\n",
      "==\n",
      "s2\n",
      "==\n",
      "NL: Newton Converged in 1 iterations\n",
      "\n",
      "==\n",
      "s2\n",
      "==\n",
      "NL: Newton Converged in 1 iterations\n",
      "Optimization terminated successfully    (Exit mode 0)\n",
      "            Current function value: [8.4486165]\n",
      "            Iterations: 3\n",
      "            Function evaluations: 7\n",
      "            Gradient evaluations: 3\n",
      "Optimization Complete\n",
      "-----------------------------------\n"
     ]
    },
    {
     "data": {
      "text/plain": [
       "False"
      ]
     },
     "execution_count": 38,
     "metadata": {},
     "output_type": "execute_result"
    }
   ],
   "source": [
    "prob.run_driver()"
   ]
  },
  {
   "cell_type": "code",
   "execution_count": 27,
   "id": "9ef9bed3-e2e6-4d32-b82e-63e0bf53ab03",
   "metadata": {
    "execution": {
     "iopub.execute_input": "2022-08-15T21:28:46.796016Z",
     "iopub.status.busy": "2022-08-15T21:28:46.796016Z",
     "iopub.status.idle": "2022-08-15T21:28:46.803161Z",
     "shell.execute_reply": "2022-08-15T21:28:46.803038Z",
     "shell.execute_reply.started": "2022-08-15T21:28:46.796016Z"
    },
    "tags": []
   },
   "outputs": [
    {
     "data": {
      "text/html": [
       "<style type=\"text/css\">\n",
       "</style>\n",
       "<table id=\"T_1285f\">\n",
       "  <thead>\n",
       "  </thead>\n",
       "  <tbody>\n",
       "    <tr>\n",
       "      <td id=\"T_1285f_row0_col0\" class=\"data row0 col0\" >$$m_T$$</td>\n",
       "      <td id=\"T_1285f_row0_col1\" class=\"data row0 col1\" >0.049</td>\n",
       "      <td id=\"T_1285f_row0_col2\" class=\"data row0 col2\" >kg</td>\n",
       "    </tr>\n",
       "    <tr>\n",
       "      <td id=\"T_1285f_row1_col0\" class=\"data row1 col0\" >$$m_p$$</td>\n",
       "      <td id=\"T_1285f_row1_col1\" class=\"data row1 col1\" >0.022</td>\n",
       "      <td id=\"T_1285f_row1_col2\" class=\"data row1 col2\" >kg</td>\n",
       "    </tr>\n",
       "    <tr>\n",
       "      <td id=\"T_1285f_row2_col0\" class=\"data row2 col0\" >$$m_s$$</td>\n",
       "      <td id=\"T_1285f_row2_col1\" class=\"data row2 col1\" >1.69</td>\n",
       "      <td id=\"T_1285f_row2_col2\" class=\"data row2 col2\" >kg</td>\n",
       "    </tr>\n",
       "    <tr>\n",
       "      <td id=\"T_1285f_row3_col0\" class=\"data row3 col0\" >$$m_b$$</td>\n",
       "      <td id=\"T_1285f_row3_col1\" class=\"data row3 col1\" >0.339</td>\n",
       "      <td id=\"T_1285f_row3_col2\" class=\"data row3 col2\" >kg</td>\n",
       "    </tr>\n",
       "    <tr>\n",
       "      <td id=\"T_1285f_row4_col0\" class=\"data row4 col0\" >$$m_{pr}$$</td>\n",
       "      <td id=\"T_1285f_row4_col1\" class=\"data row4 col1\" >5.607</td>\n",
       "      <td id=\"T_1285f_row4_col2\" class=\"data row4 col2\" >kg</td>\n",
       "    </tr>\n",
       "    <tr>\n",
       "      <td id=\"T_1285f_row5_col0\" class=\"data row5 col0\" >$$m_A$$</td>\n",
       "      <td id=\"T_1285f_row5_col1\" class=\"data row5 col1\" >0.743</td>\n",
       "      <td id=\"T_1285f_row5_col2\" class=\"data row5 col2\" >kg</td>\n",
       "    </tr>\n",
       "  </tbody>\n",
       "</table>\n"
      ],
      "text/plain": [
       "<pandas.io.formats.style.Styler at 0x283d4429460>"
      ]
     },
     "execution_count": 27,
     "metadata": {},
     "output_type": "execute_result"
    }
   ],
   "source": [
    "#print_inputs(model, prob, namingfunc, ['m_t','EN', 'L_t'])\n",
    "print_inputs(model, prob, namingfunc, ['m_A','m_p', 'm_T', 'm_b', 'm_s','m_{pr}'])"
   ]
  },
  {
   "cell_type": "code",
   "execution_count": 29,
   "id": "eaf8041a-255d-4adb-b8c7-69f31bda17f5",
   "metadata": {
    "execution": {
     "iopub.execute_input": "2022-08-15T21:29:45.662560Z",
     "iopub.status.busy": "2022-08-15T21:29:45.662560Z",
     "iopub.status.idle": "2022-08-15T21:29:45.681948Z",
     "shell.execute_reply": "2022-08-15T21:29:45.681053Z",
     "shell.execute_reply.started": "2022-08-15T21:29:45.662560Z"
    },
    "tags": []
   },
   "outputs": [
    {
     "name": "stdout",
     "output_type": "stream",
     "text": [
      "----------------\n",
      "Design Variables\n",
      "----------------\n",
      "name  val           size  lower   upper  \n",
      "----  ------------  ----  ------  ----- \n",
      "m_s   [1.68972331]  1     -1e+30  1e+30  \n",
      "m_t   [8.44861656]  1     -1e+30  1e+30  \n",
      "A     [0.0743458]   1     0.0     10.0   \n",
      "m_pr  [5.60654755]  1     0.0     10.0   \n",
      "\n",
      "-----------\n",
      "Constraints\n",
      "-----------\n",
      "name   val                size  lower   upper  equals  \n",
      "-----  -----------------  ----  ------  -----  ------ \n",
      "eq19   [3.52111673e-10]   1     0.0     0.0    None    \n",
      "eq20   [3.4994132e-09]    1     0.0     0.0    None    \n",
      "neq26  [-4.26893276e-08]  1     -1e+30  0.0    None    \n",
      "neq27  [8.31252471e-08]   1     -1e+30  0.0    None    \n",
      "\n",
      "----------\n",
      "Objectives\n",
      "----------\n",
      "name   val           size  \n",
      "-----  ------------  ---- \n",
      "obj28  [8.44861656]  1     \n",
      "\n"
     ]
    }
   ],
   "source": [
    "prob.list_problem_vars(desvar_opts=['lower','upper'], cons_opts=['lower', 'upper', 'equals']);"
   ]
  },
  {
   "cell_type": "code",
   "execution_count": null,
   "id": "8b40026b-64d4-4ee7-9d3e-b24430c0ea56",
   "metadata": {},
   "outputs": [],
   "source": []
  }
 ],
 "metadata": {
  "kernelspec": {
   "display_name": "Python [conda env:minimdo]",
   "language": "python",
   "name": "conda-env-minimdo-py"
  },
  "language_info": {
   "codemirror_mode": {
    "name": "ipython",
    "version": 3
   },
   "file_extension": ".py",
   "mimetype": "text/x-python",
   "name": "python",
   "nbconvert_exporter": "python",
   "pygments_lexer": "ipython3",
   "version": "3.9.12"
  }
 },
 "nbformat": 4,
 "nbformat_minor": 5
}
