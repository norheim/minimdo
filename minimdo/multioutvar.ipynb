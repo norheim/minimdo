{
 "cells": [
  {
   "cell_type": "code",
   "execution_count": 6,
   "id": "19398799",
   "metadata": {},
   "outputs": [],
   "source": [
    "from modeling.compute import Var\n",
    "from modeling.execution import Component, edges_from_components\n",
    "from graph.operators import invert_edges, sort_scc\n",
    "from graph.graphutils import flat_graph_formulation\n",
    "from graph.graphutils import edges_E, all_edges\n",
    "from graph.graphutils import all_variables\n",
    "from graph.graphview import draw\n",
    "from graph.matrixview import render_incidence\n",
    "from graph.operators import eqv_to_edges_tree\n",
    "from collections import OrderedDict\n",
    "import numpy as np"
   ]
  },
  {
   "cell_type": "code",
   "execution_count": 7,
   "id": "ee6f43ac",
   "metadata": {
    "execution": {
     "iopub.execute_input": "2021-07-22T17:09:18.327906Z",
     "iopub.status.busy": "2021-07-22T17:09:18.326908Z",
     "iopub.status.idle": "2021-07-22T17:09:18.347908Z",
     "shell.execute_reply": "2021-07-22T17:09:18.346920Z",
     "shell.execute_reply.started": "2021-07-22T17:09:18.327906Z"
    }
   },
   "outputs": [],
   "source": [
    "a = Var('a')\n",
    "b = Var('b')\n",
    "c = Var('c', 10)\n",
    "d = Var('d', 20)"
   ]
  },
  {
   "cell_type": "code",
   "execution_count": 8,
   "id": "28e9c962",
   "metadata": {},
   "outputs": [],
   "source": [
    "eqlist = [(b, c+1), (a, b-2), (a, 2*d+3)]"
   ]
  },
  {
   "cell_type": "code",
   "execution_count": 9,
   "id": "0997892c",
   "metadata": {},
   "outputs": [],
   "source": [
    "components = [Component.fromsympy(\n",
    "    right, left, component=idx) for idx, (left, right) in enumerate(eqlist)]\n",
    "edges = edges_from_components(components)"
   ]
  },
  {
   "cell_type": "code",
   "execution_count": 10,
   "id": "ee75acad",
   "metadata": {},
   "outputs": [
    {
     "data": {
      "text/plain": [
       "[(('c', 'b'), 0, (None,), 'b-(c + 1)'),\n",
       " (('b', 'a'), 1, (None,), 'a-(b - 2)'),\n",
       " (('d', 'a'), 2, (None,), 'a-(2*d + 3)')]"
      ]
     },
     "execution_count": 10,
     "metadata": {},
     "output_type": "execute_result"
    }
   ],
   "source": [
    "from modeling.transformations import flatten_component\n",
    "rescomps = list(map(flatten_component, components))\n",
    "rescomps"
   ]
  },
  {
   "cell_type": "code",
   "execution_count": 11,
   "id": "851b0e2b",
   "metadata": {},
   "outputs": [
    {
     "data": {
      "text/plain": [
       "[DeviceArray(12., dtype=float64)]"
      ]
     },
     "execution_count": 11,
     "metadata": {},
     "output_type": "execute_result"
    }
   ],
   "source": [
    "components[0].function(11)"
   ]
  },
  {
   "cell_type": "code",
   "execution_count": 12,
   "id": "6a8956e6",
   "metadata": {},
   "outputs": [
    {
     "data": {
      "text/plain": [
       "{'d': DeviceArray(-2., dtype=float64), 'a': DeviceArray(1., dtype=float64)}"
      ]
     },
     "execution_count": 12,
     "metadata": {},
     "output_type": "execute_result"
    }
   ],
   "source": [
    "rescomps[2].graddict({'a':1,'d':1})"
   ]
  },
  {
   "cell_type": "code",
   "execution_count": 13,
   "id": "119b130a",
   "metadata": {},
   "outputs": [],
   "source": [
    "residuals = invert_edges(edges[0], edges[1]) #{0: 'b', 1:'a'}"
   ]
  },
  {
   "cell_type": "code",
   "execution_count": 14,
   "id": "f17e332a",
   "metadata": {},
   "outputs": [],
   "source": [
    "edges_left_right = all_edges(edges[0], edges[1])\n",
    "edges_varonleft = edges_E(residuals[0])\n",
    "outset = {key:var[0] for key,var in edges[1].items()}\n",
    "eqnidxs= outset.keys()\n",
    "varidxs = all_variables(edges[0], edges[1])"
   ]
  },
  {
   "cell_type": "code",
   "execution_count": 15,
   "id": "bd566422",
   "metadata": {},
   "outputs": [],
   "source": [
    "from presolver.tearing import min_arc_set_assign"
   ]
  },
  {
   "cell_type": "code",
   "execution_count": 16,
   "id": "8932586d",
   "metadata": {},
   "outputs": [
    {
     "name": "stdout",
     "output_type": "stream",
     "text": [
      "Set parameter Username\n",
      "Academic license - for non-commercial use only - expires 2024-04-07\n"
     ]
    }
   ],
   "source": [
    "fixed_inputs = set(varidxs)-set(outset.values())\n",
    "xsol, model  = min_arc_set_assign(edges_varonleft, varidxs, eqnidxs, not_output=fixed_inputs)\n",
    "outset_minassign = dict((right, left) for left, right in edges_varonleft if xsol[left, right] > 0.5)"
   ]
  },
  {
   "cell_type": "code",
   "execution_count": 17,
   "id": "872c1157",
   "metadata": {},
   "outputs": [],
   "source": [
    "edges_minassign=invert_edges(edges[0], edges[1], outset_minassign) "
   ]
  },
  {
   "cell_type": "code",
   "execution_count": 18,
   "id": "df6cd3dc",
   "metadata": {},
   "outputs": [
    {
     "data": {
      "text/plain": [
       "({0: ('c',), 1: ('b',), 2: ('d', 'a')}, {0: ('b',), 1: ('a',), 2: (None,)}, {})"
      ]
     },
     "execution_count": 18,
     "metadata": {},
     "output_type": "execute_result"
    }
   ],
   "source": [
    "edges_minassign"
   ]
  },
  {
   "cell_type": "code",
   "execution_count": 19,
   "id": "ff8e7e83",
   "metadata": {},
   "outputs": [],
   "source": [
    "tree = (OrderedDict([(0,1),(1,1),(2,1)]),{},{})"
   ]
  },
  {
   "cell_type": "code",
   "execution_count": 20,
   "id": "ac79be7c",
   "metadata": {},
   "outputs": [
    {
     "data": {
      "image/png": "[encoded data removed]",
      "text/plain": [
       "<Figure size 144x144 with 1 Axes>"
      ]
     },
     "metadata": {
      "needs_background": "light"
     },
     "output_type": "display_data"
    }
   ],
   "source": [
    "render_incidence(edges, tree, \n",
    "                 rawvarname=True, \n",
    "                 figsize=(2,2),\n",
    "                 diagonalgray=False);"
   ]
  },
  {
   "cell_type": "code",
   "execution_count": 21,
   "id": "e9506be8",
   "metadata": {},
   "outputs": [
    {
     "data": {
      "image/png": "[encoded data removed]",
      "text/plain": [
       "<Figure size 144x144 with 1 Axes>"
      ]
     },
     "metadata": {
      "needs_background": "light"
     },
     "output_type": "display_data"
    }
   ],
   "source": [
    "render_incidence(edges_minassign, tree, \n",
    "                 rawvarname=True, \n",
    "                 figsize=(2,2),\n",
    "                 diagonalgray=False, patchwidth=3);"
   ]
  },
  {
   "cell_type": "code",
   "execution_count": 22,
   "id": "858125de",
   "metadata": {},
   "outputs": [],
   "source": [
    "from graph.graphutils import Node, COMP\n",
    "import networkx as nx\n",
    "G = flat_graph_formulation(*edges)\n",
    "matching = nx.bipartite.maximum_matching(G)\n",
    "m_out = {key: matching[Node(key, COMP)].name for key in eqnidxs}\n",
    "merge_order = sort_scc(G)"
   ]
  },
  {
   "cell_type": "code",
   "execution_count": 23,
   "id": "5eea1bf1",
   "metadata": {},
   "outputs": [
    {
     "data": {
      "text/plain": [
       "({0: ('b',), 1: ('a',), 2: ('a',)}, {0: ('c',), 1: ('b',), 2: ('d',)}, {})"
      ]
     },
     "execution_count": 23,
     "metadata": {},
     "output_type": "execute_result"
    }
   ],
   "source": [
    "invert_edges(edges[0], edges[1], m_out) "
   ]
  },
  {
   "cell_type": "code",
   "execution_count": 24,
   "id": "a7cb369f",
   "metadata": {},
   "outputs": [],
   "source": [
    "from trash.inputresolver import idx_eqlist, eqvars\n",
    "from trash.inputresolver import default_in, default_out\n",
    "from trash.inputresolver import mdf_order\n",
    "from graph.graphview import bipartite_repr"
   ]
  },
  {
   "cell_type": "code",
   "execution_count": 25,
   "id": "de29f51b",
   "metadata": {
    "execution": {
     "iopub.execute_input": "2021-07-22T17:09:26.617865Z",
     "iopub.status.busy": "2021-07-22T17:09:26.617865Z",
     "iopub.status.idle": "2021-07-22T17:09:26.628377Z",
     "shell.execute_reply": "2021-07-22T17:09:26.627378Z",
     "shell.execute_reply.started": "2021-07-22T17:09:26.617865Z"
    }
   },
   "outputs": [],
   "source": [
    "eqs = idx_eqlist(eqlist)\n",
    "eqv = eqvars(eqs)"
   ]
  },
  {
   "cell_type": "code",
   "execution_count": 26,
   "id": "581405cb",
   "metadata": {
    "execution": {
     "iopub.execute_input": "2021-07-22T17:10:37.103553Z",
     "iopub.status.busy": "2021-07-22T17:10:37.103553Z",
     "iopub.status.idle": "2021-07-22T17:10:37.122553Z",
     "shell.execute_reply": "2021-07-22T17:10:37.121597Z",
     "shell.execute_reply.started": "2021-07-22T17:10:37.103553Z"
    }
   },
   "outputs": [],
   "source": [
    "dout = default_out(eqs)"
   ]
  },
  {
   "cell_type": "code",
   "execution_count": 27,
   "id": "7a0f6752",
   "metadata": {
    "execution": {
     "iopub.execute_input": "2021-07-22T17:09:39.414675Z",
     "iopub.status.busy": "2021-07-22T17:09:39.414675Z",
     "iopub.status.idle": "2021-07-22T17:09:39.424678Z",
     "shell.execute_reply": "2021-07-22T17:09:39.423701Z",
     "shell.execute_reply.started": "2021-07-22T17:09:39.414675Z"
    }
   },
   "outputs": [
    {
     "data": {
      "text/plain": [
       "{c, d}"
      ]
     },
     "execution_count": 27,
     "metadata": {},
     "output_type": "execute_result"
    }
   ],
   "source": [
    "ins = default_in(eqs)\n",
    "ins"
   ]
  },
  {
   "cell_type": "code",
   "execution_count": 28,
   "id": "fd821272",
   "metadata": {
    "execution": {
     "iopub.execute_input": "2021-07-22T17:09:43.153602Z",
     "iopub.status.busy": "2021-07-22T17:09:43.152603Z",
     "iopub.status.idle": "2021-07-22T17:09:43.168605Z",
     "shell.execute_reply": "2021-07-22T17:09:43.167598Z",
     "shell.execute_reply.started": "2021-07-22T17:09:43.153602Z"
    }
   },
   "outputs": [],
   "source": [
    "B, edge = bipartite_repr(eqv)"
   ]
  },
  {
   "cell_type": "code",
   "execution_count": 29,
   "id": "0a529297",
   "metadata": {
    "execution": {
     "iopub.execute_input": "2021-07-22T17:09:44.023618Z",
     "iopub.status.busy": "2021-07-22T17:09:44.023618Z",
     "iopub.status.idle": "2021-07-22T17:09:44.032632Z",
     "shell.execute_reply": "2021-07-22T17:09:44.031617Z",
     "shell.execute_reply.started": "2021-07-22T17:09:44.023618Z"
    }
   },
   "outputs": [],
   "source": [
    "M = nx.bipartite.maximum_matching(B)"
   ]
  },
  {
   "cell_type": "code",
   "execution_count": 30,
   "id": "f44c4897",
   "metadata": {},
   "outputs": [
    {
     "data": {
      "text/plain": [
       "{d: 2, c: 0, a: 1, 0: c, 1: a, 2: d}"
      ]
     },
     "execution_count": 30,
     "metadata": {},
     "output_type": "execute_result"
    }
   ],
   "source": [
    "M"
   ]
  },
  {
   "cell_type": "code",
   "execution_count": 31,
   "id": "d0254c0d",
   "metadata": {
    "execution": {
     "iopub.execute_input": "2021-07-22T17:10:45.394529Z",
     "iopub.status.busy": "2021-07-22T17:10:45.393511Z",
     "iopub.status.idle": "2021-07-22T17:10:45.403404Z",
     "shell.execute_reply": "2021-07-22T17:10:45.402405Z",
     "shell.execute_reply.started": "2021-07-22T17:10:45.394529Z"
    }
   },
   "outputs": [],
   "source": [
    "order = mdf_order(eqv, M)"
   ]
  },
  {
   "cell_type": "code",
   "execution_count": 32,
   "id": "c6eeeef4",
   "metadata": {
    "execution": {
     "iopub.execute_input": "2021-07-22T17:10:45.569413Z",
     "iopub.status.busy": "2021-07-22T17:10:45.568406Z",
     "iopub.status.idle": "2021-07-22T17:10:45.592405Z",
     "shell.execute_reply": "2021-07-22T17:10:45.591404Z",
     "shell.execute_reply.started": "2021-07-22T17:10:45.569413Z"
    }
   },
   "outputs": [
    {
     "data": {
      "text/plain": [
       "[0, 1, 2]"
      ]
     },
     "execution_count": 32,
     "metadata": {},
     "output_type": "execute_result"
    }
   ],
   "source": [
    "order"
   ]
  },
  {
   "cell_type": "code",
   "execution_count": 33,
   "id": "964fa5f0",
   "metadata": {
    "execution": {
     "iopub.execute_input": "2021-07-22T10:33:39.564527Z",
     "iopub.status.busy": "2021-07-22T10:33:39.563523Z",
     "iopub.status.idle": "2021-07-22T10:33:39.575524Z",
     "shell.execute_reply": "2021-07-22T10:33:39.574524Z",
     "shell.execute_reply.started": "2021-07-22T10:33:39.564527Z"
    }
   },
   "outputs": [],
   "source": [
    "solve_order = ([0,1],2)"
   ]
  },
  {
   "cell_type": "code",
   "execution_count": 34,
   "id": "1ef78ab4",
   "metadata": {},
   "outputs": [
    {
     "name": "stdout",
     "output_type": "stream",
     "text": [
      "    create group:  0.1\n",
      "    create system solver for  0.1\n",
      "      create group:  0.1.2\n",
      "      default sequential solver for  0.1.2\n",
      "        add to  0.1.2  eq:  0\n",
      "        add to  0.1.2  eq:  1\n",
      "      add to  0.1  eq:  2\n"
     ]
    }
   ],
   "source": [
    "compute_order([],solve_order);"
   ]
  },
  {
   "cell_type": "code",
   "execution_count": 35,
   "id": "b245b864",
   "metadata": {
    "execution": {
     "iopub.execute_input": "2021-07-22T10:33:40.341536Z",
     "iopub.status.busy": "2021-07-22T10:33:40.340527Z",
     "iopub.status.idle": "2021-07-22T10:33:40.686523Z",
     "shell.execute_reply": "2021-07-22T10:33:40.683520Z",
     "shell.execute_reply.started": "2021-07-22T10:33:40.341536Z"
    }
   },
   "outputs": [],
   "source": [
    "# prob = om.Problem()\n",
    "# model = prob.model\n",
    "# counter = coupled_run(eqs, [], solve_order, model, model, 0)\n",
    "# buildidpvars(ins, model)\n",
    "# prob.setup()\n",
    "# prob.run_model()"
   ]
  },
  {
   "cell_type": "code",
   "execution_count": 36,
   "id": "3a77da27",
   "metadata": {
    "execution": {
     "iopub.execute_input": "2021-07-22T16:13:07.897752Z",
     "iopub.status.busy": "2021-07-22T16:13:07.896755Z",
     "iopub.status.idle": "2021-07-22T16:13:07.934714Z",
     "shell.execute_reply": "2021-07-22T16:13:07.933712Z",
     "shell.execute_reply.started": "2021-07-22T16:13:07.897752Z"
    }
   },
   "outputs": [
    {
     "data": {
      "text/latex": [
       "$\\displaystyle b - c - 1$"
      ],
      "text/plain": [
       "b - c - 1"
      ]
     },
     "execution_count": 36,
     "metadata": {},
     "output_type": "execute_result"
    }
   ],
   "source": [
    "(b-(c+1))"
   ]
  },
  {
   "cell_type": "code",
   "execution_count": 37,
   "id": "9c6c832b",
   "metadata": {
    "execution": {
     "iopub.execute_input": "2021-07-22T16:14:42.163840Z",
     "iopub.status.busy": "2021-07-22T16:14:42.163840Z",
     "iopub.status.idle": "2021-07-22T16:14:42.174839Z",
     "shell.execute_reply": "2021-07-22T16:14:42.173842Z",
     "shell.execute_reply.started": "2021-07-22T16:14:42.163840Z"
    }
   },
   "outputs": [],
   "source": [
    "ev = Component.fromsympy(b-(c+1))"
   ]
  },
  {
   "cell_type": "code",
   "execution_count": 38,
   "id": "812b2e8d",
   "metadata": {
    "execution": {
     "iopub.execute_input": "2021-07-22T16:15:07.537731Z",
     "iopub.status.busy": "2021-07-22T16:15:07.536731Z",
     "iopub.status.idle": "2021-07-22T16:15:07.550733Z",
     "shell.execute_reply": "2021-07-22T16:15:07.548737Z",
     "shell.execute_reply.started": "2021-07-22T16:15:07.537731Z"
    }
   },
   "outputs": [
    {
     "data": {
      "text/plain": [
       "-2"
      ]
     },
     "execution_count": 38,
     "metadata": {},
     "output_type": "execute_result"
    }
   ],
   "source": [
    "ev.evaldict({'b':1,'c':2})"
   ]
  },
  {
   "cell_type": "code",
   "execution_count": 39,
   "id": "09829cbb",
   "metadata": {
    "execution": {
     "iopub.execute_input": "2021-07-22T14:13:10.012583Z",
     "iopub.status.busy": "2021-07-22T14:13:10.011580Z",
     "iopub.status.idle": "2021-07-22T14:13:10.039578Z",
     "shell.execute_reply": "2021-07-22T14:13:10.038604Z",
     "shell.execute_reply.started": "2021-07-22T14:13:10.012583Z"
    }
   },
   "outputs": [
    {
     "data": {
      "text/plain": [
       "array([5., 7., 6.])"
      ]
     },
     "execution_count": 39,
     "metadata": {},
     "output_type": "execute_result"
    }
   ],
   "source": [
    "A = np.array([[0, 1, -1],[1, -1, 0],[1, 0, 0]])\n",
    "B = np.array([1, -2, 5])\n",
    "np.linalg.solve(A, B)"
   ]
  },
  {
   "cell_type": "code",
   "execution_count": 40,
   "id": "ba301aaf",
   "metadata": {},
   "outputs": [
    {
     "data": {
      "text/plain": [
       "[[DeviceArray([0.], dtype=float64)],\n",
       " [DeviceArray([0.], dtype=float64)],\n",
       " [DeviceArray([0.], dtype=float64)]]"
      ]
     },
     "execution_count": 40,
     "metadata": {},
     "output_type": "execute_result"
    }
   ],
   "source": [
    "[rescomp.evaldict({'a':5,'b':7,'c':6,'d':1}) for rescomp in rescomps]"
   ]
  },
  {
   "cell_type": "code",
   "execution_count": 41,
   "id": "ae42b436",
   "metadata": {
    "execution": {
     "iopub.execute_input": "2021-07-22T16:47:20.391336Z",
     "iopub.status.busy": "2021-07-22T16:47:20.391336Z",
     "iopub.status.idle": "2021-07-22T16:47:20.415328Z",
     "shell.execute_reply": "2021-07-22T16:47:20.414325Z",
     "shell.execute_reply.started": "2021-07-22T16:47:20.391336Z"
    }
   },
   "outputs": [],
   "source": [
    "vrs = all_variables(edges[0], edges[1])"
   ]
  },
  {
   "cell_type": "code",
   "execution_count": 42,
   "id": "b7650318",
   "metadata": {},
   "outputs": [],
   "source": [
    "from foundations.functionalsets import ResidualSet\n",
    "from foundations.functionalsets import FunctionalComp\n",
    "from foundations.functionalsets import DefaultResidualSolver\n",
    "components = [Component.fromsympy(right, left, \n",
    "                                  component=idx, arg_mapping=True) \n",
    "                                  for idx, (left, right) in enumerate(eqlist)]\n",
    "functionals = [FunctionalComp(comp) for comp in components]\n",
    "S = ResidualSet(sum([functional.projectable.components for functional in functionals], []))\n",
    "F = S.project([d])"
   ]
  },
  {
   "cell_type": "code",
   "execution_count": 43,
   "id": "9ec8741a",
   "metadata": {},
   "outputs": [
    {
     "data": {
      "text/plain": [
       "{c: 6.0, b: 7.0, a: 5.0}"
      ]
     },
     "execution_count": 43,
     "metadata": {},
     "output_type": "execute_result"
    }
   ],
   "source": [
    "F.solve({d: 1})"
   ]
  },
  {
   "cell_type": "code",
   "execution_count": 44,
   "id": "086e81d9",
   "metadata": {},
   "outputs": [],
   "source": [
    "import openmdao.api as om\n",
    "from solver.postprocess import print_output_mdao"
   ]
  },
  {
   "cell_type": "code",
   "execution_count": 45,
   "id": "f01c7030",
   "metadata": {
    "execution": {
     "iopub.execute_input": "2021-07-22T16:47:58.467647Z",
     "iopub.status.busy": "2021-07-22T16:47:58.466650Z",
     "iopub.status.idle": "2021-07-22T16:47:58.516648Z",
     "shell.execute_reply": "2021-07-22T16:47:58.514652Z",
     "shell.execute_reply.started": "2021-07-22T16:47:58.467647Z"
    }
   },
   "outputs": [
    {
     "name": "stdout",
     "output_type": "stream",
     "text": [
      "NL: Newton Converged in 1 iterations\n"
     ]
    }
   ],
   "source": [
    "class ImpWithInitial(om.ImplicitComponent):\n",
    "    def initialize(self):\n",
    "        self.options.declare('residuals')\n",
    "        self.options.declare('solvefor')\n",
    "        self.options.declare('inputs')\n",
    "        \n",
    "    def setup(self):\n",
    "        solvefor = self.options['solvefor']\n",
    "        inputs = self.options['inputs']\n",
    "        for input in inputs:\n",
    "            self.add_input(input)\n",
    "        for output in solvefor:\n",
    "            self.add_output(output, val=0.1)\n",
    "        self.declare_partials(of='*', wrt='*')\n",
    "\n",
    "    def apply_nonlinear(self, inputs, outputs, residuals):\n",
    "        solvefor_vars = self.options['solvefor']\n",
    "        input_vars = self.options['inputs']\n",
    "        rescomps = self.options['residuals']\n",
    "        d = {elt: inputs[elt] for elt in input_vars}\n",
    "        d.update({elt: outputs[elt] for elt in solvefor_vars})\n",
    "        for solve_var,rescomp in zip(solvefor_vars, rescomps):\n",
    "            residuals[solve_var] = rescomp.evaldict(d)\n",
    "        \n",
    "    def linearize(self, inputs, outputs, partials):\n",
    "        solvefor_vars = self.options['solvefor']\n",
    "        input_vars = self.options['inputs']\n",
    "        rescomps = self.options['residuals']\n",
    "        d = {elt: inputs[elt] for elt in input_vars}\n",
    "        d.update({elt: outputs[elt] for elt in solvefor_vars})\n",
    "        for solve_var,rescomp in zip(solvefor_vars, rescomps):\n",
    "            J = rescomp.graddict(d)\n",
    "            partials[solve_var, solve_var] = 0\n",
    "            for varname in solvefor_vars:\n",
    "                partials[solve_var, varname] = J.get(varname, 0)\n",
    "        \n",
    "prob = om.Problem()\n",
    "model = prob.model\n",
    "\n",
    "model.add_subsystem('comp', ImpWithInitial(\n",
    "    residuals=rescomps, solvefor={'a','b','c'}, inputs={'d'}), promotes=['*'])\n",
    "model.nonlinear_solver = om.NewtonSolver(solve_subsystems=False)\n",
    "model.linear_solver = om.ScipyKrylov()\n",
    "\n",
    "prob.setup()\n",
    "prob.run_model()"
   ]
  },
  {
   "cell_type": "code",
   "execution_count": 46,
   "id": "d800c023",
   "metadata": {},
   "outputs": [
    {
     "name": "stderr",
     "output_type": "stream",
     "text": [
      "c:\\Users\\johan\\miniconda3\\envs\\minimdo\\lib\\site-packages\\openmdao\\core\\system.py:136: OMDeprecationWarning:The metadata key 'value' will be deprecated in 4.0. Please use 'val'.\n"
     ]
    },
    {
     "data": {
      "text/plain": [
       "{'c': 6.0, 'a': 5.0, 'b': 7.0}"
      ]
     },
     "execution_count": 46,
     "metadata": {},
     "output_type": "execute_result"
    }
   ],
   "source": [
    "print_output_mdao(prob)"
   ]
  }
 ],
 "metadata": {
  "kernelspec": {
   "display_name": "minimdo",
   "language": "python",
   "name": "python3"
  },
  "language_info": {
   "codemirror_mode": {
    "name": "ipython",
    "version": 3
   },
   "file_extension": ".py",
   "mimetype": "text/x-python",
   "name": "python",
   "nbconvert_exporter": "python",
   "pygments_lexer": "ipython3",
   "version": "3.9.12"
  }
 },
 "nbformat": 4,
 "nbformat_minor": 5
}
