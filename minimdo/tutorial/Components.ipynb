{
 "cells": [
  {
   "cell_type": "markdown",
   "id": "f7c3e323-f7d6-4f13-9d1d-b89e11fb6c24",
   "metadata": {},
   "source": [
    "# Syntax for computing with components"
   ]
  },
  {
   "cell_type": "code",
   "execution_count": 38,
   "id": "4f70485b-2960-4c2c-a028-630d6885469b",
   "metadata": {
    "execution": {
     "iopub.execute_input": "2022-08-15T18:47:47.710203Z",
     "iopub.status.busy": "2022-08-15T18:47:47.708201Z",
     "iopub.status.idle": "2022-08-15T18:47:47.734288Z",
     "shell.execute_reply": "2022-08-15T18:47:47.733724Z",
     "shell.execute_reply.started": "2022-08-15T18:47:47.710203Z"
    },
    "tags": []
   },
   "outputs": [],
   "source": [
    "from compute import Var\n",
    "from datastructures.execution import Component"
   ]
  },
  {
   "cell_type": "markdown",
   "id": "a853953b-f357-4aaa-883c-36e4f174f1c1",
   "metadata": {
    "tags": []
   },
   "source": [
    "## Component handles unit conversions"
   ]
  },
  {
   "cell_type": "code",
   "execution_count": 2,
   "id": "0b080bd7-0856-4233-91b3-78e5e9134837",
   "metadata": {
    "execution": {
     "iopub.execute_input": "2022-08-12T18:24:45.682385Z",
     "iopub.status.busy": "2022-08-12T18:24:45.681386Z",
     "iopub.status.idle": "2022-08-12T18:24:45.839133Z",
     "shell.execute_reply": "2022-08-12T18:24:45.838409Z",
     "shell.execute_reply.started": "2022-08-12T18:24:45.682385Z"
    },
    "tags": []
   },
   "outputs": [],
   "source": [
    "Pcomms = Var('P_{comms}', unit='W')\n",
    "D = Var('D', unit='m')\n",
    "h = Var('h', unit='km')\n",
    "R = Var('R', unit='kW')\n",
    "sizing_relationship = Pcomms*D**2/h**2*1e18/(8e6)"
   ]
  },
  {
   "cell_type": "code",
   "execution_count": 3,
   "id": "cd19e462-7a57-4365-ac56-59b92b3f8c82",
   "metadata": {
    "execution": {
     "iopub.execute_input": "2022-08-12T18:24:45.840839Z",
     "iopub.status.busy": "2022-08-12T18:24:45.840839Z",
     "iopub.status.idle": "2022-08-12T18:24:46.055560Z",
     "shell.execute_reply": "2022-08-12T18:24:46.055560Z",
     "shell.execute_reply.started": "2022-08-12T18:24:45.840839Z"
    },
    "tags": []
   },
   "outputs": [
    {
     "data": {
      "text/latex": [
       "$\\displaystyle \\frac{125000000000.0 D^{2} P_{comms}}{h^{2}}$"
      ],
      "text/plain": [
       "125000000000.0*D**2*P_{comms}/h**2"
      ]
     },
     "execution_count": 3,
     "metadata": {},
     "output_type": "execute_result"
    }
   ],
   "source": [
    "sizing_relationship"
   ]
  },
  {
   "cell_type": "code",
   "execution_count": 4,
   "id": "47f0ceb0-062c-4305-9ed9-ba2e19ee3105",
   "metadata": {
    "execution": {
     "iopub.execute_input": "2022-08-12T18:24:46.057696Z",
     "iopub.status.busy": "2022-08-12T18:24:46.056697Z",
     "iopub.status.idle": "2022-08-12T18:24:46.087079Z",
     "shell.execute_reply": "2022-08-12T18:24:46.086673Z",
     "shell.execute_reply.started": "2022-08-12T18:24:46.057696Z"
    },
    "tags": []
   },
   "outputs": [],
   "source": [
    "component = Component.fromsympy(sizing_relationship, tovar=R)"
   ]
  },
  {
   "cell_type": "markdown",
   "id": "a2dd877b-2144-4b14-9bbd-2fed1bb1eefb",
   "metadata": {},
   "source": [
    "## Component attributes"
   ]
  },
  {
   "cell_type": "code",
   "execution_count": 5,
   "id": "703dcf0a-2f2b-441f-a8d5-534b9670499a",
   "metadata": {
    "execution": {
     "iopub.execute_input": "2022-08-12T18:24:46.927629Z",
     "iopub.status.busy": "2022-08-12T18:24:46.926633Z",
     "iopub.status.idle": "2022-08-12T18:24:46.942564Z",
     "shell.execute_reply": "2022-08-12T18:24:46.941645Z",
     "shell.execute_reply.started": "2022-08-12T18:24:46.927629Z"
    },
    "tags": []
   },
   "outputs": [
    {
     "data": {
      "text/plain": [
       "(('h', 'P_{comms}', 'D'), (1, 1, 1))"
      ]
     },
     "execution_count": 5,
     "metadata": {},
     "output_type": "execute_result"
    }
   ],
   "source": [
    "component.inputs, component.indims"
   ]
  },
  {
   "cell_type": "code",
   "execution_count": 6,
   "id": "e3123b46-c388-4af2-b80d-43e9ce20c22a",
   "metadata": {
    "execution": {
     "iopub.execute_input": "2022-08-12T18:24:47.475863Z",
     "iopub.status.busy": "2022-08-12T18:24:47.474857Z",
     "iopub.status.idle": "2022-08-12T18:24:47.484857Z",
     "shell.execute_reply": "2022-08-12T18:24:47.484857Z",
     "shell.execute_reply.started": "2022-08-12T18:24:47.475863Z"
    },
    "tags": []
   },
   "outputs": [
    {
     "data": {
      "text/plain": [
       "(('R',), (1,))"
      ]
     },
     "execution_count": 6,
     "metadata": {},
     "output_type": "execute_result"
    }
   ],
   "source": [
    "component.outputs, component.outdims"
   ]
  },
  {
   "cell_type": "markdown",
   "id": "24828ae4-b380-4534-b1d1-f251a1feeb35",
   "metadata": {},
   "source": [
    "## Evaluate components"
   ]
  },
  {
   "cell_type": "code",
   "execution_count": 7,
   "id": "7a9d4217-07e3-4d05-91d8-d09a08af5322",
   "metadata": {
    "execution": {
     "iopub.execute_input": "2022-08-12T18:24:49.601100Z",
     "iopub.status.busy": "2022-08-12T18:24:49.601100Z",
     "iopub.status.idle": "2022-08-12T18:24:49.751303Z",
     "shell.execute_reply": "2022-08-12T18:24:49.750318Z",
     "shell.execute_reply.started": "2022-08-12T18:24:49.601100Z"
    },
    "tags": []
   },
   "outputs": [
    {
     "data": {
      "text/plain": [
       "[DeviceArray(0.78125, dtype=float64)]"
      ]
     },
     "execution_count": 7,
     "metadata": {},
     "output_type": "execute_result"
    }
   ],
   "source": [
    "component.evaldict({'h':400, 'P_{comms}':10, 'D':10})"
   ]
  },
  {
   "cell_type": "markdown",
   "id": "39d983fd-1b1f-49b0-8d47-225f420897bd",
   "metadata": {},
   "source": [
    "## Evaluate gradients through automatic differentiation"
   ]
  },
  {
   "cell_type": "code",
   "execution_count": 8,
   "id": "49ec2174-2739-4e46-a979-534eb9d3e69c",
   "metadata": {
    "execution": {
     "iopub.execute_input": "2022-08-12T18:24:50.635311Z",
     "iopub.status.busy": "2022-08-12T18:24:50.634306Z",
     "iopub.status.idle": "2022-08-12T18:24:51.264717Z",
     "shell.execute_reply": "2022-08-12T18:24:51.263823Z",
     "shell.execute_reply.started": "2022-08-12T18:24:50.635311Z"
    },
    "tags": []
   },
   "outputs": [
    {
     "data": {
      "text/plain": [
       "{('R', 'h'): DeviceArray(-0.00390625, dtype=float64),\n",
       " ('R', 'P_{comms}'): DeviceArray(0.078125, dtype=float64),\n",
       " ('R', 'D'): DeviceArray(0.15625, dtype=float64)}"
      ]
     },
     "execution_count": 8,
     "metadata": {},
     "output_type": "execute_result"
    }
   ],
   "source": [
    "component.graddict({'h':400, 'P_{comms}':10, 'D':10})"
   ]
  },
  {
   "cell_type": "markdown",
   "id": "c030dfcc-e0a4-412c-88e5-efbca0be7ba1",
   "metadata": {},
   "source": [
    "## Component manual creation\n",
    "Demonstration with matrix/vector quantities"
   ]
  },
  {
   "cell_type": "code",
   "execution_count": 27,
   "id": "d44315a1-60bc-458f-a29a-901d583d6028",
   "metadata": {
    "execution": {
     "iopub.execute_input": "2022-08-12T18:27:18.615588Z",
     "iopub.status.busy": "2022-08-12T18:27:18.615588Z",
     "iopub.status.idle": "2022-08-12T18:27:18.626115Z",
     "shell.execute_reply": "2022-08-12T18:27:18.626115Z",
     "shell.execute_reply.started": "2022-08-12T18:27:18.615588Z"
    },
    "tags": []
   },
   "outputs": [],
   "source": [
    "import numpy as np\n",
    "A = np.random.rand(10,10)\n",
    "b0 = np.random.rand(10)\n",
    "x0 = np.random.rand(10)\n",
    "fx = lambda x,b: (b@(A@x-b),) # The @ is numpys matrix multiplication\n",
    "component = Component(fx, inputs=('x','b'), outputs=('y',), indims=(10,10), outdims=(1,))"
   ]
  },
  {
   "cell_type": "code",
   "execution_count": 28,
   "id": "a781d566-f41e-4a68-9727-983d06157ec4",
   "metadata": {
    "execution": {
     "iopub.execute_input": "2022-08-12T18:27:18.841536Z",
     "iopub.status.busy": "2022-08-12T18:27:18.840535Z",
     "iopub.status.idle": "2022-08-12T18:27:18.845875Z",
     "shell.execute_reply": "2022-08-12T18:27:18.845533Z",
     "shell.execute_reply.started": "2022-08-12T18:27:18.841536Z"
    },
    "tags": []
   },
   "outputs": [
    {
     "data": {
      "text/plain": [
       "(4.391333423109129,)"
      ]
     },
     "execution_count": 28,
     "metadata": {},
     "output_type": "execute_result"
    }
   ],
   "source": [
    "component.evaldict({'x':x0, 'b':b0})"
   ]
  },
  {
   "cell_type": "code",
   "execution_count": 29,
   "id": "2f5903f1-7528-4362-ba09-f61875f14ff9",
   "metadata": {
    "execution": {
     "iopub.execute_input": "2022-08-12T18:27:19.549000Z",
     "iopub.status.busy": "2022-08-12T18:27:19.547566Z",
     "iopub.status.idle": "2022-08-12T18:27:19.592704Z",
     "shell.execute_reply": "2022-08-12T18:27:19.591703Z",
     "shell.execute_reply.started": "2022-08-12T18:27:19.549000Z"
    },
    "tags": []
   },
   "outputs": [
    {
     "data": {
      "text/plain": [
       "{('y',\n",
       "  'x'): DeviceArray([2.18488828, 1.43761381, 2.01779949, 1.61428775, 2.76793662,\n",
       "              1.87935127, 2.02227283, 0.88950607, 1.8922517 , 2.036412  ],            dtype=float64),\n",
       " ('y',\n",
       "  'b'): DeviceArray([1.0146121 , 1.13650587, 0.33435548, 1.81286402, 1.94674412,\n",
       "              1.05914187, 1.0388783 , 0.71057041, 0.0901676 , 1.00682255],            dtype=float64)}"
      ]
     },
     "execution_count": 29,
     "metadata": {},
     "output_type": "execute_result"
    }
   ],
   "source": [
    "component.graddict({'x':x0, 'b':b0})"
   ]
  },
  {
   "cell_type": "markdown",
   "id": "7e7b7220-7510-4c8f-ac62-807c8feb50d4",
   "metadata": {},
   "source": [
    "### Check against analytical derivatives"
   ]
  },
  {
   "cell_type": "code",
   "execution_count": 39,
   "id": "087e4ae1-737d-43bf-9e67-e1699b1e9f62",
   "metadata": {
    "execution": {
     "iopub.execute_input": "2022-08-15T18:48:32.007829Z",
     "iopub.status.busy": "2022-08-15T18:48:32.007829Z",
     "iopub.status.idle": "2022-08-15T18:48:32.028825Z",
     "shell.execute_reply": "2022-08-15T18:48:32.027906Z",
     "shell.execute_reply.started": "2022-08-15T18:48:32.007829Z"
    },
    "tags": []
   },
   "outputs": [
    {
     "data": {
      "text/plain": [
       "array([2.18488828, 1.43761381, 2.01779949, 1.61428775, 2.76793662,\n",
       "       1.87935127, 2.02227283, 0.88950607, 1.8922517 , 2.036412  ])"
      ]
     },
     "execution_count": 39,
     "metadata": {},
     "output_type": "execute_result"
    }
   ],
   "source": [
    "b0@A # dy/dx"
   ]
  },
  {
   "cell_type": "code",
   "execution_count": 40,
   "id": "df14eb33-5f55-484c-baae-403a10fc6635",
   "metadata": {
    "execution": {
     "iopub.execute_input": "2022-08-15T18:48:32.558528Z",
     "iopub.status.busy": "2022-08-15T18:48:32.558528Z",
     "iopub.status.idle": "2022-08-15T18:48:32.573158Z",
     "shell.execute_reply": "2022-08-15T18:48:32.573158Z",
     "shell.execute_reply.started": "2022-08-15T18:48:32.558528Z"
    },
    "tags": []
   },
   "outputs": [
    {
     "data": {
      "text/plain": [
       "array([1.0146121 , 1.13650587, 0.33435548, 1.81286402, 1.94674412,\n",
       "       1.05914187, 1.0388783 , 0.71057041, 0.0901676 , 1.00682255])"
      ]
     },
     "execution_count": 40,
     "metadata": {},
     "output_type": "execute_result"
    }
   ],
   "source": [
    "A@x0-2*b0 # dy/db"
   ]
  }
 ],
 "metadata": {
  "kernelspec": {
   "display_name": "Python [conda env:minimdo]",
   "language": "python",
   "name": "conda-env-minimdo-py"
  },
  "language_info": {
   "codemirror_mode": {
    "name": "ipython",
    "version": 3
   },
   "file_extension": ".py",
   "mimetype": "text/x-python",
   "name": "python",
   "nbconvert_exporter": "python",
   "pygments_lexer": "ipython3",
   "version": "3.9.12"
  }
 },
 "nbformat": 4,
 "nbformat_minor": 5
}
