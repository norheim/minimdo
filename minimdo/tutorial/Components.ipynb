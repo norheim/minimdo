{
 "cells": [
  {
   "cell_type": "markdown",
   "id": "f7c3e323-f7d6-4f13-9d1d-b89e11fb6c24",
   "metadata": {},
   "source": [
    "# Syntax for computing with components"
   ]
  },
  {
   "cell_type": "code",
   "execution_count": 1,
   "id": "4f70485b-2960-4c2c-a028-630d6885469b",
   "metadata": {
    "execution": {
     "iopub.execute_input": "2022-08-15T18:47:47.710203Z",
     "iopub.status.busy": "2022-08-15T18:47:47.708201Z",
     "iopub.status.idle": "2022-08-15T18:47:47.734288Z",
     "shell.execute_reply": "2022-08-15T18:47:47.733724Z",
     "shell.execute_reply.started": "2022-08-15T18:47:47.710203Z"
    },
    "tags": []
   },
   "outputs": [],
   "source": [
    "from modeling.compute import Var\n",
    "from modeling.gen2.execution import Component"
   ]
  },
  {
   "cell_type": "markdown",
   "id": "a853953b-f357-4aaa-883c-36e4f174f1c1",
   "metadata": {
    "tags": []
   },
   "source": [
    "## Component handles unit conversions"
   ]
  },
  {
   "cell_type": "code",
   "execution_count": 2,
   "id": "0b080bd7-0856-4233-91b3-78e5e9134837",
   "metadata": {
    "execution": {
     "iopub.execute_input": "2022-08-12T18:24:45.682385Z",
     "iopub.status.busy": "2022-08-12T18:24:45.681386Z",
     "iopub.status.idle": "2022-08-12T18:24:45.839133Z",
     "shell.execute_reply": "2022-08-12T18:24:45.838409Z",
     "shell.execute_reply.started": "2022-08-12T18:24:45.682385Z"
    },
    "tags": []
   },
   "outputs": [],
   "source": [
    "Pcomms = Var('P_{comms}', unit='W')\n",
    "D = Var('D', unit='m')\n",
    "h = Var('h', unit='km')\n",
    "R = Var('R', unit='kW')\n",
    "sizing_relationship = Pcomms*D**2/h**2*1e18/(8e6)"
   ]
  },
  {
   "cell_type": "code",
   "execution_count": 3,
   "id": "cd19e462-7a57-4365-ac56-59b92b3f8c82",
   "metadata": {
    "execution": {
     "iopub.execute_input": "2022-08-12T18:24:45.840839Z",
     "iopub.status.busy": "2022-08-12T18:24:45.840839Z",
     "iopub.status.idle": "2022-08-12T18:24:46.055560Z",
     "shell.execute_reply": "2022-08-12T18:24:46.055560Z",
     "shell.execute_reply.started": "2022-08-12T18:24:45.840839Z"
    },
    "tags": []
   },
   "outputs": [
    {
     "data": {
      "text/latex": [
       "$\\displaystyle \\frac{125000000000.0 D^{2} P_{comms}}{h^{2}}$"
      ],
      "text/plain": [
       "125000000000.0*D**2*P_{comms}/h**2"
      ]
     },
     "execution_count": 3,
     "metadata": {},
     "output_type": "execute_result"
    }
   ],
   "source": [
    "sizing_relationship"
   ]
  },
  {
   "cell_type": "code",
   "execution_count": 4,
   "id": "47f0ceb0-062c-4305-9ed9-ba2e19ee3105",
   "metadata": {
    "execution": {
     "iopub.execute_input": "2022-08-12T18:24:46.057696Z",
     "iopub.status.busy": "2022-08-12T18:24:46.056697Z",
     "iopub.status.idle": "2022-08-12T18:24:46.087079Z",
     "shell.execute_reply": "2022-08-12T18:24:46.086673Z",
     "shell.execute_reply.started": "2022-08-12T18:24:46.057696Z"
    },
    "tags": []
   },
   "outputs": [],
   "source": [
    "component = Component.fromsympy(sizing_relationship, tovar=R)"
   ]
  },
  {
   "cell_type": "markdown",
   "id": "a2dd877b-2144-4b14-9bbd-2fed1bb1eefb",
   "metadata": {},
   "source": [
    "## Component attributes"
   ]
  },
  {
   "cell_type": "code",
   "execution_count": 5,
   "id": "703dcf0a-2f2b-441f-a8d5-534b9670499a",
   "metadata": {
    "execution": {
     "iopub.execute_input": "2022-08-12T18:24:46.927629Z",
     "iopub.status.busy": "2022-08-12T18:24:46.926633Z",
     "iopub.status.idle": "2022-08-12T18:24:46.942564Z",
     "shell.execute_reply": "2022-08-12T18:24:46.941645Z",
     "shell.execute_reply.started": "2022-08-12T18:24:46.927629Z"
    },
    "tags": []
   },
   "outputs": [
    {
     "data": {
      "text/plain": [
       "(('h', 'P_{comms}', 'D'), (1, 1, 1))"
      ]
     },
     "execution_count": 5,
     "metadata": {},
     "output_type": "execute_result"
    }
   ],
   "source": [
    "component.inputs, component.indims"
   ]
  },
  {
   "cell_type": "code",
   "execution_count": 6,
   "id": "e3123b46-c388-4af2-b80d-43e9ce20c22a",
   "metadata": {
    "execution": {
     "iopub.execute_input": "2022-08-12T18:24:47.475863Z",
     "iopub.status.busy": "2022-08-12T18:24:47.474857Z",
     "iopub.status.idle": "2022-08-12T18:24:47.484857Z",
     "shell.execute_reply": "2022-08-12T18:24:47.484857Z",
     "shell.execute_reply.started": "2022-08-12T18:24:47.475863Z"
    },
    "tags": []
   },
   "outputs": [
    {
     "data": {
      "text/plain": [
       "(('R',), (1,))"
      ]
     },
     "execution_count": 6,
     "metadata": {},
     "output_type": "execute_result"
    }
   ],
   "source": [
    "component.outputs, component.outdims"
   ]
  },
  {
   "cell_type": "markdown",
   "id": "24828ae4-b380-4534-b1d1-f251a1feeb35",
   "metadata": {},
   "source": [
    "## Evaluate components"
   ]
  },
  {
   "cell_type": "code",
   "execution_count": 7,
   "id": "7a9d4217-07e3-4d05-91d8-d09a08af5322",
   "metadata": {
    "execution": {
     "iopub.execute_input": "2022-08-12T18:24:49.601100Z",
     "iopub.status.busy": "2022-08-12T18:24:49.601100Z",
     "iopub.status.idle": "2022-08-12T18:24:49.751303Z",
     "shell.execute_reply": "2022-08-12T18:24:49.750318Z",
     "shell.execute_reply.started": "2022-08-12T18:24:49.601100Z"
    },
    "tags": []
   },
   "outputs": [
    {
     "data": {
      "text/plain": [
       "[DeviceArray(0.78125, dtype=float32)]"
      ]
     },
     "execution_count": 7,
     "metadata": {},
     "output_type": "execute_result"
    }
   ],
   "source": [
    "component.evaldict({'h':400, 'P_{comms}':10, 'D':10})"
   ]
  },
  {
   "cell_type": "markdown",
   "id": "39d983fd-1b1f-49b0-8d47-225f420897bd",
   "metadata": {},
   "source": [
    "## Evaluate gradients through automatic differentiation"
   ]
  },
  {
   "cell_type": "code",
   "execution_count": 8,
   "id": "49ec2174-2739-4e46-a979-534eb9d3e69c",
   "metadata": {
    "execution": {
     "iopub.execute_input": "2022-08-12T18:24:50.635311Z",
     "iopub.status.busy": "2022-08-12T18:24:50.634306Z",
     "iopub.status.idle": "2022-08-12T18:24:51.264717Z",
     "shell.execute_reply": "2022-08-12T18:24:51.263823Z",
     "shell.execute_reply.started": "2022-08-12T18:24:50.635311Z"
    },
    "tags": []
   },
   "outputs": [
    {
     "data": {
      "text/plain": [
       "{('R', 'h'): DeviceArray(-0.00390625, dtype=float32),\n",
       " ('R', 'P_{comms}'): DeviceArray(0.07812501, dtype=float32),\n",
       " ('R', 'D'): DeviceArray(0.15625, dtype=float32)}"
      ]
     },
     "execution_count": 8,
     "metadata": {},
     "output_type": "execute_result"
    }
   ],
   "source": [
    "component.graddict({'h':400, 'P_{comms}':10, 'D':10})"
   ]
  },
  {
   "cell_type": "markdown",
   "id": "c030dfcc-e0a4-412c-88e5-efbca0be7ba1",
   "metadata": {},
   "source": [
    "## Component manual creation\n",
    "Demonstration with matrix/vector quantities"
   ]
  },
  {
   "cell_type": "code",
   "execution_count": 11,
   "id": "d44315a1-60bc-458f-a29a-901d583d6028",
   "metadata": {
    "execution": {
     "iopub.execute_input": "2022-08-12T18:27:18.615588Z",
     "iopub.status.busy": "2022-08-12T18:27:18.615588Z",
     "iopub.status.idle": "2022-08-12T18:27:18.626115Z",
     "shell.execute_reply": "2022-08-12T18:27:18.626115Z",
     "shell.execute_reply.started": "2022-08-12T18:27:18.615588Z"
    },
    "tags": []
   },
   "outputs": [],
   "source": [
    "import numpy as np\n",
    "# fix numpy seed for reproducibility\n",
    "np.random.seed(0)\n",
    "A = np.random.rand(10,10)\n",
    "b0 = np.random.rand(10)\n",
    "x0 = np.random.rand(10)\n",
    "fx = lambda x,b: (b@(A@x-b),) # The @ is numpys matrix multiplication\n",
    "component = Component(fx, inputs=('x','b'), outputs=('y',), indims=(10,10), outdims=(1,))"
   ]
  },
  {
   "cell_type": "code",
   "execution_count": 12,
   "id": "a781d566-f41e-4a68-9727-983d06157ec4",
   "metadata": {
    "execution": {
     "iopub.execute_input": "2022-08-12T18:27:18.841536Z",
     "iopub.status.busy": "2022-08-12T18:27:18.840535Z",
     "iopub.status.idle": "2022-08-12T18:27:18.845875Z",
     "shell.execute_reply": "2022-08-12T18:27:18.845533Z",
     "shell.execute_reply.started": "2022-08-12T18:27:18.841536Z"
    },
    "tags": []
   },
   "outputs": [
    {
     "data": {
      "text/plain": [
       "(14.399744393772462,)"
      ]
     },
     "execution_count": 12,
     "metadata": {},
     "output_type": "execute_result"
    }
   ],
   "source": [
    "component.evaldict({'x':x0, 'b':b0})"
   ]
  },
  {
   "cell_type": "code",
   "execution_count": 13,
   "id": "2f5903f1-7528-4362-ba09-f61875f14ff9",
   "metadata": {
    "execution": {
     "iopub.execute_input": "2022-08-12T18:27:19.549000Z",
     "iopub.status.busy": "2022-08-12T18:27:19.547566Z",
     "iopub.status.idle": "2022-08-12T18:27:19.592704Z",
     "shell.execute_reply": "2022-08-12T18:27:19.591703Z",
     "shell.execute_reply.started": "2022-08-12T18:27:19.549000Z"
    },
    "tags": []
   },
   "outputs": [
    {
     "data": {
      "text/plain": [
       "{('y',\n",
       "  'x'): DeviceArray([3.005095 , 3.383307 , 3.1705244, 3.0786974, 1.6391404,\n",
       "              2.260299 , 2.7484593, 2.4617856, 4.085971 , 2.0236309],            dtype=float32),\n",
       " ('y',\n",
       "  'b'): DeviceArray([2.698821  , 2.8170767 , 1.9712472 , 1.7998033 , 2.137879  ,\n",
       "              1.732636  , 1.3720064 , 1.8314322 , 2.5308552 , 0.67787457],            dtype=float32)}"
      ]
     },
     "execution_count": 13,
     "metadata": {},
     "output_type": "execute_result"
    }
   ],
   "source": [
    "component.graddict({'x':x0, 'b':b0})"
   ]
  },
  {
   "cell_type": "markdown",
   "id": "7e7b7220-7510-4c8f-ac62-807c8feb50d4",
   "metadata": {},
   "source": [
    "### Check against analytical derivatives"
   ]
  },
  {
   "cell_type": "code",
   "execution_count": 14,
   "id": "087e4ae1-737d-43bf-9e67-e1699b1e9f62",
   "metadata": {
    "execution": {
     "iopub.execute_input": "2022-08-15T18:48:32.007829Z",
     "iopub.status.busy": "2022-08-15T18:48:32.007829Z",
     "iopub.status.idle": "2022-08-15T18:48:32.028825Z",
     "shell.execute_reply": "2022-08-15T18:48:32.027906Z",
     "shell.execute_reply.started": "2022-08-15T18:48:32.007829Z"
    },
    "tags": []
   },
   "outputs": [
    {
     "data": {
      "text/plain": [
       "array([3.00509536, 3.38330726, 3.17052427, 3.07869741, 1.63914044,\n",
       "       2.26029913, 2.74845931, 2.46178547, 4.0859708 , 2.02363065])"
      ]
     },
     "execution_count": 14,
     "metadata": {},
     "output_type": "execute_result"
    }
   ],
   "source": [
    "b0@A # dy/dx"
   ]
  },
  {
   "cell_type": "code",
   "execution_count": 15,
   "id": "df14eb33-5f55-484c-baae-403a10fc6635",
   "metadata": {
    "execution": {
     "iopub.execute_input": "2022-08-15T18:48:32.558528Z",
     "iopub.status.busy": "2022-08-15T18:48:32.558528Z",
     "iopub.status.idle": "2022-08-15T18:48:32.573158Z",
     "shell.execute_reply": "2022-08-15T18:48:32.573158Z",
     "shell.execute_reply.started": "2022-08-15T18:48:32.558528Z"
    },
    "tags": []
   },
   "outputs": [
    {
     "data": {
      "text/plain": [
       "array([2.69882065, 2.817077  , 1.97124716, 1.79980327, 2.137879  ,\n",
       "       1.73263593, 1.37200649, 1.83143236, 2.53085497, 0.6778746 ])"
      ]
     },
     "execution_count": 15,
     "metadata": {},
     "output_type": "execute_result"
    }
   ],
   "source": [
    "A@x0-2*b0 # dy/db"
   ]
  }
 ],
 "metadata": {
  "kernelspec": {
   "display_name": "minimdo",
   "language": "python",
   "name": "python3"
  },
  "language_info": {
   "codemirror_mode": {
    "name": "ipython",
    "version": 3
   },
   "file_extension": ".py",
   "mimetype": "text/x-python",
   "name": "python",
   "nbconvert_exporter": "python",
   "pygments_lexer": "ipython3",
   "version": "3.9.18"
  }
 },
 "nbformat": 4,
 "nbformat_minor": 5
}
