{
 "cells": [
  {
   "cell_type": "markdown",
   "id": "bc39673f-2f4b-4136-ab9d-acf88d437a64",
   "metadata": {},
   "source": [
    "# Syntax for specify sizing relationships"
   ]
  },
  {
   "cell_type": "code",
   "execution_count": 16,
   "id": "2ded1189-7f09-4bdf-9a86-d35de77a6e5d",
   "metadata": {
    "execution": {
     "iopub.execute_input": "2022-08-13T18:44:08.081354Z",
     "iopub.status.busy": "2022-08-13T18:44:08.080348Z",
     "iopub.status.idle": "2022-08-13T18:44:08.100675Z",
     "shell.execute_reply": "2022-08-13T18:44:08.100504Z",
     "shell.execute_reply.started": "2022-08-13T18:44:08.081354Z"
    },
    "tags": []
   },
   "outputs": [],
   "source": [
    "from compute import Var, Par\n",
    "from datastructures.api import Model, adda"
   ]
  },
  {
   "cell_type": "code",
   "execution_count": 17,
   "id": "15116f17-149f-454a-828d-5dcde107e4fd",
   "metadata": {
    "execution": {
     "iopub.execute_input": "2022-08-13T18:44:09.667230Z",
     "iopub.status.busy": "2022-08-13T18:44:09.667230Z",
     "iopub.status.idle": "2022-08-13T18:44:09.685145Z",
     "shell.execute_reply": "2022-08-13T18:44:09.684146Z",
     "shell.execute_reply.started": "2022-08-13T18:44:09.667230Z"
    },
    "tags": []
   },
   "outputs": [],
   "source": [
    "m = Var('m', unit='kg')\n",
    "# no need to specify values for variables declared with Var\n",
    "# if specified it will be treated as a guessing variable for solver\n",
    "# unit field can also be left empty\n",
    "g = Par('g', 9.81, unit='m/s^2')"
   ]
  },
  {
   "cell_type": "markdown",
   "id": "3aafbb9e-3434-4f11-aa35-a4d156227f1d",
   "metadata": {},
   "source": [
    "We store all sizing relationships in a Model object"
   ]
  },
  {
   "cell_type": "code",
   "execution_count": 20,
   "id": "707f1cf4-b68e-4f82-92c9-3eb4d6ccb42e",
   "metadata": {
    "execution": {
     "iopub.execute_input": "2022-08-13T18:47:40.064636Z",
     "iopub.status.busy": "2022-08-13T18:47:40.063590Z",
     "iopub.status.idle": "2022-08-13T18:47:40.073361Z",
     "shell.execute_reply": "2022-08-13T18:47:40.073361Z",
     "shell.execute_reply.started": "2022-08-13T18:47:40.064636Z"
    },
    "tags": []
   },
   "outputs": [
    {
     "data": {
      "text/latex": [
       "$F=9.81\\ \\mathrm{kg} \\cdot \\mathrm{m}/\\mathrm{s}^{2}\\ (m=1 )$"
      ],
      "text/plain": [
       "F"
      ]
     },
     "execution_count": 20,
     "metadata": {},
     "output_type": "execute_result"
    }
   ],
   "source": [
    "model = Model()\n",
    "# model.root is used to access the nesting level\n",
    "F = adda(model.root, 'F', m*g); F"
   ]
  },
  {
   "cell_type": "markdown",
   "id": "57f2670d-6b3e-45b1-9ca4-86e004658ffa",
   "metadata": {
    "execution": {
     "iopub.execute_input": "2022-07-16T22:49:16.883757Z",
     "iopub.status.busy": "2022-07-16T22:49:16.883362Z",
     "iopub.status.idle": "2022-07-16T22:49:16.896603Z",
     "shell.execute_reply": "2022-07-16T22:49:16.896136Z",
     "shell.execute_reply.started": "2022-07-16T22:49:16.883757Z"
    },
    "tags": []
   },
   "source": [
    "Note that if we update the value of m, the value of F does not change automatically; think of variables as temporary storage. This means that we could have out of synch information like below, if we manually set the value of F."
   ]
  },
  {
   "cell_type": "code",
   "execution_count": 21,
   "id": "02e68c00-701b-401a-8623-ac8a9dc23fd0",
   "metadata": {
    "execution": {
     "iopub.execute_input": "2022-08-13T18:47:52.699386Z",
     "iopub.status.busy": "2022-08-13T18:47:52.699386Z",
     "iopub.status.idle": "2022-08-13T18:47:52.718578Z",
     "shell.execute_reply": "2022-08-13T18:47:52.718274Z",
     "shell.execute_reply.started": "2022-08-13T18:47:52.699386Z"
    },
    "tags": []
   },
   "outputs": [
    {
     "data": {
      "text/latex": [
       "$F=20\\ \\mathrm{kg} \\cdot \\mathrm{m}/\\mathrm{s}^{2}\\ (m=1 )$"
      ],
      "text/plain": [
       "F"
      ]
     },
     "execution_count": 21,
     "metadata": {},
     "output_type": "execute_result"
    }
   ],
   "source": [
    "F.varval = 20; F"
   ]
  },
  {
   "cell_type": "markdown",
   "id": "d77346c9-46f6-433a-a904-85a8fdc05769",
   "metadata": {},
   "source": [
    "# Data structure for storing the formulation"
   ]
  },
  {
   "cell_type": "code",
   "execution_count": 39,
   "id": "f5466afb-c822-4b53-9576-ba49b2b97ef0",
   "metadata": {
    "execution": {
     "iopub.execute_input": "2022-08-15T17:51:23.450366Z",
     "iopub.status.busy": "2022-08-15T17:51:23.450366Z",
     "iopub.status.idle": "2022-08-15T17:51:23.459905Z",
     "shell.execute_reply": "2022-08-15T17:51:23.459905Z",
     "shell.execute_reply.started": "2022-08-15T17:51:23.450366Z"
    },
    "tags": []
   },
   "outputs": [],
   "source": [
    "from datastructures.api import addf, addsolver, setsolvefor"
   ]
  },
  {
   "cell_type": "code",
   "execution_count": 40,
   "id": "b8e3919d-433e-43c9-9f65-527b0481d102",
   "metadata": {
    "execution": {
     "iopub.execute_input": "2022-08-15T17:52:25.419467Z",
     "iopub.status.busy": "2022-08-15T17:52:25.419467Z",
     "iopub.status.idle": "2022-08-15T17:52:25.459902Z",
     "shell.execute_reply": "2022-08-15T17:52:25.459902Z",
     "shell.execute_reply.started": "2022-08-15T17:52:25.419467Z"
    },
    "tags": []
   },
   "outputs": [],
   "source": [
    "model = Model()\n",
    "m = model.root\n",
    "Pbus = Var('P_{bus}')\n",
    "A = Var('A', 0.5)\n",
    "solver = addsolver(m)\n",
    "Pcomms = adda(solver, 'P_{comms}', 483.3*A-Pbus)\n",
    "addf(solver, Pbus-10*Pcomms**0.5)\n",
    "setsolvefor(solver, [Pbus]) \n",
    "h = Var('h', 400e3)\n",
    "D = Var('D', 0.1)\n",
    "R = adda(m, 'R', Pcomms*D**2/h**2*1e18/(8e6))\n",
    "C = adda(m, 'C', 2500*D**2+12000*(A+1)+100*Pbus);"
   ]
  },
  {
   "cell_type": "markdown",
   "id": "9f5d43e4-4c09-40ab-80f6-da1f402b4214",
   "metadata": {},
   "source": [
    "Once we have built a model through the syntax above we can recover the structure of the model and the nested formulation as follows:"
   ]
  },
  {
   "cell_type": "code",
   "execution_count": 41,
   "id": "dff742c5-3a5f-4ce6-a068-6d0c6e2d8c68",
   "metadata": {
    "execution": {
     "iopub.execute_input": "2022-08-15T17:52:26.411563Z",
     "iopub.status.busy": "2022-08-15T17:52:26.411563Z",
     "iopub.status.idle": "2022-08-15T17:52:26.427830Z",
     "shell.execute_reply": "2022-08-15T17:52:26.427830Z",
     "shell.execute_reply.started": "2022-08-15T17:52:26.411563Z"
    },
    "tags": []
   },
   "outputs": [],
   "source": [
    "edges, tree = model.generate_formulation()"
   ]
  },
  {
   "cell_type": "markdown",
   "id": "a1a04a64-688a-470f-9193-885d0b1c4eca",
   "metadata": {},
   "source": [
    "### Input edges:"
   ]
  },
  {
   "cell_type": "code",
   "execution_count": 42,
   "id": "b5154c9e-a7b6-4f34-a721-8290287192d9",
   "metadata": {
    "execution": {
     "iopub.execute_input": "2022-08-15T17:52:26.879000Z",
     "iopub.status.busy": "2022-08-15T17:52:26.879000Z",
     "iopub.status.idle": "2022-08-15T17:52:26.895529Z",
     "shell.execute_reply": "2022-08-15T17:52:26.894471Z",
     "shell.execute_reply.started": "2022-08-15T17:52:26.879000Z"
    },
    "tags": []
   },
   "outputs": [
    {
     "data": {
      "text/plain": [
       "{0: ('A', 'P_{bus}'),\n",
       " 1: ('P_{comms}', 'P_{bus}'),\n",
       " 2: ('D', 'P_{comms}', 'h'),\n",
       " 3: ('A', 'D', 'P_{bus}')}"
      ]
     },
     "execution_count": 42,
     "metadata": {},
     "output_type": "execute_result"
    }
   ],
   "source": [
    "edges[0]"
   ]
  },
  {
   "cell_type": "markdown",
   "id": "9fdb6d0e-fad7-47ff-a5ea-aa69e6192e68",
   "metadata": {
    "execution": {
     "iopub.execute_input": "2022-08-15T17:47:15.200876Z",
     "iopub.status.busy": "2022-08-15T17:47:15.200876Z",
     "iopub.status.idle": "2022-08-15T17:47:15.263143Z",
     "shell.execute_reply": "2022-08-15T17:47:15.260504Z",
     "shell.execute_reply.started": "2022-08-15T17:47:15.200876Z"
    }
   },
   "source": [
    "### Output edges:"
   ]
  },
  {
   "cell_type": "code",
   "execution_count": 43,
   "id": "d7ed51bd-3981-48a8-a913-cb896f9be2b9",
   "metadata": {
    "execution": {
     "iopub.execute_input": "2022-08-15T17:52:27.649663Z",
     "iopub.status.busy": "2022-08-15T17:52:27.640179Z",
     "iopub.status.idle": "2022-08-15T17:52:27.665393Z",
     "shell.execute_reply": "2022-08-15T17:52:27.665048Z",
     "shell.execute_reply.started": "2022-08-15T17:52:27.649663Z"
    },
    "tags": []
   },
   "outputs": [
    {
     "data": {
      "text/plain": [
       "{0: ('P_{comms}',), 1: (None,), 2: ('R',), 3: ('C',)}"
      ]
     },
     "execution_count": 43,
     "metadata": {},
     "output_type": "execute_result"
    }
   ],
   "source": [
    "edges[1]"
   ]
  },
  {
   "cell_type": "markdown",
   "id": "8addc78b-c3e3-4ae0-a1f1-919d788da804",
   "metadata": {},
   "source": [
    "### Component tree (ordered)"
   ]
  },
  {
   "cell_type": "code",
   "execution_count": 44,
   "id": "0fac16e6-cddb-4cc4-8162-1fcffc7674b1",
   "metadata": {
    "execution": {
     "iopub.execute_input": "2022-08-15T17:52:28.194704Z",
     "iopub.status.busy": "2022-08-15T17:52:28.193648Z",
     "iopub.status.idle": "2022-08-15T17:52:28.209480Z",
     "shell.execute_reply": "2022-08-15T17:52:28.209480Z",
     "shell.execute_reply.started": "2022-08-15T17:52:28.194704Z"
    },
    "tags": []
   },
   "outputs": [
    {
     "data": {
      "text/plain": [
       "OrderedDict([(0, 2), (1, 2), (2, 1), (3, 1)])"
      ]
     },
     "execution_count": 44,
     "metadata": {},
     "output_type": "execute_result"
    }
   ],
   "source": [
    "tree[0]"
   ]
  },
  {
   "cell_type": "markdown",
   "id": "9f91eb25-8bbc-42c9-b840-d12a258541b8",
   "metadata": {
    "tags": []
   },
   "source": [
    "### Solver tree (unordered)\n",
    "Order is determined based on order of component"
   ]
  },
  {
   "cell_type": "code",
   "execution_count": 45,
   "id": "68998df2-6c39-40be-9b2a-7525746997de",
   "metadata": {
    "execution": {
     "iopub.execute_input": "2022-08-15T17:52:29.145789Z",
     "iopub.status.busy": "2022-08-15T17:52:29.145789Z",
     "iopub.status.idle": "2022-08-15T17:52:29.162205Z",
     "shell.execute_reply": "2022-08-15T17:52:29.160876Z",
     "shell.execute_reply.started": "2022-08-15T17:52:29.145789Z"
    },
    "tags": []
   },
   "outputs": [
    {
     "data": {
      "text/plain": [
       "{2: 1}"
      ]
     },
     "execution_count": 45,
     "metadata": {},
     "output_type": "execute_result"
    }
   ],
   "source": [
    "tree[1]"
   ]
  },
  {
   "cell_type": "markdown",
   "id": "0fd154f9-5755-466e-9883-4ad3e176a64d",
   "metadata": {},
   "source": [
    "### Variable tree (unordered)\n",
    "Order is determined based on order of component"
   ]
  },
  {
   "cell_type": "code",
   "execution_count": 46,
   "id": "ee5188c7-a861-43e2-8758-25af26570e40",
   "metadata": {
    "execution": {
     "iopub.execute_input": "2022-08-15T17:52:29.910033Z",
     "iopub.status.busy": "2022-08-15T17:52:29.899531Z",
     "iopub.status.idle": "2022-08-15T17:52:29.927255Z",
     "shell.execute_reply": "2022-08-15T17:52:29.925715Z",
     "shell.execute_reply.started": "2022-08-15T17:52:29.910033Z"
    },
    "tags": []
   },
   "outputs": [
    {
     "data": {
      "text/plain": [
       "{'P_{bus}': 2}"
      ]
     },
     "execution_count": 46,
     "metadata": {},
     "output_type": "execute_result"
    }
   ],
   "source": [
    "tree[2]"
   ]
  },
  {
   "cell_type": "markdown",
   "id": "3b2478a2-2222-4f55-961c-c8c923e29954",
   "metadata": {},
   "source": [
    "# Visualizing the hierarchical structure matrix"
   ]
  },
  {
   "cell_type": "code",
   "execution_count": 47,
   "id": "6a33596f-8258-4701-a3e6-c6905581d766",
   "metadata": {
    "execution": {
     "iopub.execute_input": "2022-08-15T17:52:40.073033Z",
     "iopub.status.busy": "2022-08-15T17:52:40.073033Z",
     "iopub.status.idle": "2022-08-15T17:52:40.094890Z",
     "shell.execute_reply": "2022-08-15T17:52:40.094890Z",
     "shell.execute_reply.started": "2022-08-15T17:52:40.073033Z"
    }
   },
   "outputs": [],
   "source": [
    "from datastructures.rendering import render_incidence"
   ]
  },
  {
   "cell_type": "code",
   "execution_count": 49,
   "id": "eb73d144-e312-4b02-b2c5-5836610c1b4a",
   "metadata": {
    "execution": {
     "iopub.execute_input": "2022-08-15T17:52:43.039568Z",
     "iopub.status.busy": "2022-08-15T17:52:43.039568Z",
     "iopub.status.idle": "2022-08-15T17:52:43.259596Z",
     "shell.execute_reply": "2022-08-15T17:52:43.259596Z",
     "shell.execute_reply.started": "2022-08-15T17:52:43.039568Z"
    },
    "tags": []
   },
   "outputs": [
    {
     "data": {
      "image/png": "[encoded data removed]",
      "text/plain": [
       "<Figure size 432x288 with 1 Axes>"
      ]
     },
     "metadata": {
      "needs_background": "light"
     },
     "output_type": "display_data"
    }
   ],
   "source": [
    "render_incidence(edges, tree, hideticks=True, rawvarname=True, patchwidth=4, fontsize=22);"
   ]
  },
  {
   "cell_type": "markdown",
   "id": "8f8949dd-5919-4cca-9d03-99cae9d546d9",
   "metadata": {
    "execution": {
     "iopub.execute_input": "2022-08-15T17:52:40.765732Z",
     "iopub.status.busy": "2022-08-15T17:52:40.765234Z",
     "iopub.status.idle": "2022-08-15T17:52:40.777234Z",
     "shell.execute_reply": "2022-08-15T17:52:40.776235Z",
     "shell.execute_reply.started": "2022-08-15T17:52:40.765732Z"
    }
   },
   "source": [
    "Order visualized in HSM is based on order in which sizing relationships were added\n",
    "this can be modified by changing the tree. Below we flip $f_2$ and $f_3$ in the matrix"
   ]
  },
  {
   "cell_type": "code",
   "execution_count": 58,
   "id": "119c00e8-d028-4f9c-b9c6-15e5a9310ce9",
   "metadata": {
    "execution": {
     "iopub.execute_input": "2022-08-15T17:59:07.787577Z",
     "iopub.status.busy": "2022-08-15T17:59:07.787372Z",
     "iopub.status.idle": "2022-08-15T17:59:07.804231Z",
     "shell.execute_reply": "2022-08-15T17:59:07.803165Z",
     "shell.execute_reply.started": "2022-08-15T17:59:07.787577Z"
    },
    "tags": []
   },
   "outputs": [],
   "source": [
    "new_tree = {0:2,1:2,3:1,2:1},tree[1],tree[2]"
   ]
  },
  {
   "cell_type": "code",
   "execution_count": 59,
   "id": "4e77123f-c36f-424e-9e3f-6cf4a0c14cca",
   "metadata": {
    "execution": {
     "iopub.execute_input": "2022-08-15T17:59:08.053388Z",
     "iopub.status.busy": "2022-08-15T17:59:08.053388Z",
     "iopub.status.idle": "2022-08-15T17:59:08.188092Z",
     "shell.execute_reply": "2022-08-15T17:59:08.187499Z",
     "shell.execute_reply.started": "2022-08-15T17:59:08.053388Z"
    },
    "tags": []
   },
   "outputs": [
    {
     "data": {
      "image/png": "[encoded data removed]",
      "text/plain": [
       "<Figure size 432x288 with 1 Axes>"
      ]
     },
     "metadata": {
      "needs_background": "light"
     },
     "output_type": "display_data"
    }
   ],
   "source": [
    "render_incidence(edges, new_tree, hideticks=True, rawvarname=True, patchwidth=4, fontsize=22);"
   ]
  }
 ],
 "metadata": {
  "kernelspec": {
   "display_name": "Python [conda env:minimdo]",
   "language": "python",
   "name": "conda-env-minimdo-py"
  },
  "language_info": {
   "codemirror_mode": {
    "name": "ipython",
    "version": 3
   },
   "file_extension": ".py",
   "mimetype": "text/x-python",
   "name": "python",
   "nbconvert_exporter": "python",
   "pygments_lexer": "ipython3",
   "version": "3.9.12"
  }
 },
 "nbformat": 4,
 "nbformat_minor": 5
}
