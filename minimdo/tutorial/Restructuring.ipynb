{
 "cells": [
  {
   "cell_type": "markdown",
   "id": "b2e8f94b-9bae-4e09-82f7-c3f0a517224c",
   "metadata": {},
   "source": [
    "# Restructuring introduction"
   ]
  },
  {
   "cell_type": "markdown",
   "id": "73c514fc-cbbd-4a4f-a9fb-1e44fd3d13f8",
   "metadata": {},
   "source": [
    "## Starting model"
   ]
  },
  {
   "cell_type": "code",
   "execution_count": 1,
   "id": "10606aa5-4b89-4c88-a0a8-ab90315015b6",
   "metadata": {
    "execution": {
     "iopub.execute_input": "2022-08-15T17:53:57.008730Z",
     "iopub.status.busy": "2022-08-15T17:53:57.007957Z",
     "iopub.status.idle": "2022-08-15T17:54:02.022997Z",
     "shell.execute_reply": "2022-08-15T17:54:02.022997Z",
     "shell.execute_reply.started": "2022-08-15T17:53:57.008730Z"
    }
   },
   "outputs": [],
   "source": [
    "from compute import Var\n",
    "from datastructures.api import Model, adda"
   ]
  },
  {
   "cell_type": "code",
   "execution_count": 2,
   "id": "0b308993-d8c9-4aa8-8985-a7f7626f9ca7",
   "metadata": {
    "execution": {
     "iopub.execute_input": "2022-08-15T17:54:02.022997Z",
     "iopub.status.busy": "2022-08-15T17:54:02.022997Z",
     "iopub.status.idle": "2022-08-15T17:54:02.319248Z",
     "shell.execute_reply": "2022-08-15T17:54:02.318748Z",
     "shell.execute_reply.started": "2022-08-15T17:54:02.022997Z"
    }
   },
   "outputs": [],
   "source": [
    "model = Model()\n",
    "m = model.root\n",
    "Pbus = Var('P_{bus}')\n",
    "A = Var('A', 0.5)\n",
    "Pcomms = adda(m, 'P_{comms}', 483.3*A-Pbus)\n",
    "adda(m, Pbus, 10*abs(Pcomms)**0.5)\n",
    "h = Var('h', 400e3)\n",
    "D = Var('D', 0.1)\n",
    "R = adda(m, 'R', Pcomms*D**2/h**2*1e18/(8e6))\n",
    "C = adda(m, 'C', 2.5*D**2+12*(A+1)+0.1*Pbus)"
   ]
  },
  {
   "cell_type": "markdown",
   "id": "4e8629cf-df3a-4bf3-9b5c-6c741402200c",
   "metadata": {},
   "source": [
    "We restructure with extended tearing"
   ]
  },
  {
   "cell_type": "markdown",
   "id": "bb31a986-3bfe-4c57-8123-6a60acfdf220",
   "metadata": {},
   "source": [
    "## Restructuring interface"
   ]
  },
  {
   "cell_type": "code",
   "execution_count": 3,
   "id": "96d16a39-f513-4b79-9059-a540fb07151c",
   "metadata": {
    "execution": {
     "iopub.execute_input": "2022-08-15T17:54:36.939283Z",
     "iopub.status.busy": "2022-08-15T17:54:36.939223Z",
     "iopub.status.idle": "2022-08-15T17:54:36.945847Z",
     "shell.execute_reply": "2022-08-15T17:54:36.945847Z",
     "shell.execute_reply.started": "2022-08-15T17:54:36.939283Z"
    }
   },
   "outputs": [],
   "source": [
    "from datastructures.graphutils import all_variables, all_edges\n",
    "from datastructures.tearing import dir_graph, min_arc_set_assign\n",
    "from datastructures.operators import reformulate"
   ]
  },
  {
   "cell_type": "code",
   "execution_count": 8,
   "id": "87460364-018d-4d54-8606-c146425924ff",
   "metadata": {
    "execution": {
     "iopub.execute_input": "2022-08-15T17:55:20.683514Z",
     "iopub.status.busy": "2022-08-15T17:55:20.683514Z",
     "iopub.status.idle": "2022-08-15T17:55:20.698849Z",
     "shell.execute_reply": "2022-08-15T17:55:20.698849Z",
     "shell.execute_reply.started": "2022-08-15T17:55:20.683514Z"
    },
    "tags": []
   },
   "outputs": [],
   "source": [
    "edges, tree = model.generate_formulation()\n",
    "not_output = ['h', 'D', 'R'] # This forces the solution from the thesis to come out\n",
    "eqnidxs = list(edges[1].keys())\n",
    "varidxs = all_variables(*edges)\n",
    "graph_edges_minassign = all_edges(*edges)\n",
    "edges_left_right = list(dir_graph(graph_edges_minassign, eqnidxs, {}))\n",
    "xsol,_ = min_arc_set_assign(edges_left_right, varidxs, eqnidxs, not_output=not_output)"
   ]
  },
  {
   "cell_type": "code",
   "execution_count": 9,
   "id": "d9d0b854-af1d-47ee-b316-ce1e5717d25a",
   "metadata": {
    "execution": {
     "iopub.execute_input": "2022-08-15T17:55:20.848375Z",
     "iopub.status.busy": "2022-08-15T17:55:20.848375Z",
     "iopub.status.idle": "2022-08-15T17:55:20.869248Z",
     "shell.execute_reply": "2022-08-15T17:55:20.868333Z",
     "shell.execute_reply.started": "2022-08-15T17:55:20.848375Z"
    },
    "tags": []
   },
   "outputs": [],
   "source": [
    "outset_initial = {comp: var[0] for comp,var in edges[1].items()}\n",
    "outset_opt = {right:left for left, right in edges_left_right \n",
    "                  if (left,right) in edges_left_right and xsol[left, right] > 0.5}"
   ]
  },
  {
   "cell_type": "code",
   "execution_count": 10,
   "id": "32f77562-e735-49fa-97d5-1fe38056843a",
   "metadata": {
    "execution": {
     "iopub.execute_input": "2022-08-15T17:55:21.016092Z",
     "iopub.status.busy": "2022-08-15T17:55:21.016092Z",
     "iopub.status.idle": "2022-08-15T17:55:21.029077Z",
     "shell.execute_reply": "2022-08-15T17:55:21.028918Z",
     "shell.execute_reply.started": "2022-08-15T17:55:21.016092Z"
    },
    "tags": []
   },
   "outputs": [],
   "source": [
    "edges_minassign, tree_minassign = reformulate(edges, tree, outset_initial, \n",
    "                                              outset_opt, solveforvars=False)"
   ]
  },
  {
   "cell_type": "markdown",
   "id": "70e684de-9bd4-4e11-ac79-db2c3ae53627",
   "metadata": {},
   "source": [
    "## Visualize HSM"
   ]
  },
  {
   "cell_type": "code",
   "execution_count": 12,
   "id": "1a9ff654-2e27-4aa2-9998-c73281be2204",
   "metadata": {
    "execution": {
     "iopub.execute_input": "2022-08-15T17:55:51.018682Z",
     "iopub.status.busy": "2022-08-15T17:55:51.018682Z",
     "iopub.status.idle": "2022-08-15T17:55:51.076760Z",
     "shell.execute_reply": "2022-08-15T17:55:51.075992Z",
     "shell.execute_reply.started": "2022-08-15T17:55:51.018682Z"
    }
   },
   "outputs": [],
   "source": [
    "from datastructures.rendering import render_incidence"
   ]
  },
  {
   "cell_type": "code",
   "execution_count": 14,
   "id": "1d837a48-8be7-4386-b57b-35d72d408798",
   "metadata": {
    "execution": {
     "iopub.execute_input": "2022-08-15T17:56:12.375607Z",
     "iopub.status.busy": "2022-08-15T17:56:12.375607Z",
     "iopub.status.idle": "2022-08-15T17:56:12.498638Z",
     "shell.execute_reply": "2022-08-15T17:56:12.498638Z",
     "shell.execute_reply.started": "2022-08-15T17:56:12.375607Z"
    }
   },
   "outputs": [
    {
     "data": {
      "image/png": "[encoded data removed]",
      "text/plain": [
       "<Figure size 432x288 with 1 Axes>"
      ]
     },
     "metadata": {
      "needs_background": "light"
     },
     "output_type": "display_data"
    }
   ],
   "source": [
    "render_incidence(edges, tree, hideticks=True, rawvarname=True, patchwidth=4, fontsize=22);"
   ]
  },
  {
   "cell_type": "code",
   "execution_count": 13,
   "id": "5ecdfa7b-38e0-420f-b821-8cde0e730ee2",
   "metadata": {
    "execution": {
     "iopub.execute_input": "2022-08-15T17:55:51.559532Z",
     "iopub.status.busy": "2022-08-15T17:55:51.559532Z",
     "iopub.status.idle": "2022-08-15T17:55:51.930705Z",
     "shell.execute_reply": "2022-08-15T17:55:51.930705Z",
     "shell.execute_reply.started": "2022-08-15T17:55:51.559532Z"
    },
    "tags": []
   },
   "outputs": [
    {
     "data": {
      "image/png": "[encoded data removed]",
      "text/plain": [
       "<Figure size 432x288 with 1 Axes>"
      ]
     },
     "metadata": {
      "needs_background": "light"
     },
     "output_type": "display_data"
    }
   ],
   "source": [
    "render_incidence(edges_minassign, tree_minassign, hideticks=True, rawvarname=True, patchwidth=4, fontsize=22);"
   ]
  }
 ],
 "metadata": {
  "kernelspec": {
   "display_name": "Python [conda env:minimdo]",
   "language": "python",
   "name": "conda-env-minimdo-py"
  },
  "language_info": {
   "codemirror_mode": {
    "name": "ipython",
    "version": 3
   },
   "file_extension": ".py",
   "mimetype": "text/x-python",
   "name": "python",
   "nbconvert_exporter": "python",
   "pygments_lexer": "ipython3",
   "version": "3.9.12"
  }
 },
 "nbformat": 4,
 "nbformat_minor": 5
}
