{
 "cells": [
  {
   "cell_type": "markdown",
   "id": "b2e8f94b-9bae-4e09-82f7-c3f0a517224c",
   "metadata": {},
   "source": [
    "# Restructuring introduction"
   ]
  },
  {
   "cell_type": "markdown",
   "id": "73c514fc-cbbd-4a4f-a9fb-1e44fd3d13f8",
   "metadata": {},
   "source": [
    "## Starting model"
   ]
  },
  {
   "cell_type": "code",
   "execution_count": 1,
   "id": "10606aa5-4b89-4c88-a0a8-ab90315015b6",
   "metadata": {
    "execution": {
     "iopub.execute_input": "2022-10-24T16:26:02.751077Z",
     "iopub.status.busy": "2022-10-24T16:26:02.749981Z",
     "iopub.status.idle": "2022-10-24T16:26:08.546763Z",
     "shell.execute_reply": "2022-10-24T16:26:08.546097Z",
     "shell.execute_reply.started": "2022-10-24T16:26:02.751077Z"
    },
    "tags": []
   },
   "outputs": [],
   "source": [
    "from compute import Var\n",
    "from datastructures.api import Model, adda"
   ]
  },
  {
   "cell_type": "code",
   "execution_count": 2,
   "id": "0b308993-d8c9-4aa8-8985-a7f7626f9ca7",
   "metadata": {
    "execution": {
     "iopub.execute_input": "2022-08-15T17:54:02.022997Z",
     "iopub.status.busy": "2022-08-15T17:54:02.022997Z",
     "iopub.status.idle": "2022-08-15T17:54:02.319248Z",
     "shell.execute_reply": "2022-08-15T17:54:02.318748Z",
     "shell.execute_reply.started": "2022-08-15T17:54:02.022997Z"
    }
   },
   "outputs": [],
   "source": [
    "model = Model()\n",
    "m = model.root\n",
    "Pbus = Var('P_{bus}')\n",
    "A = Var('A', 0.5)\n",
    "Pcomms = adda(m, 'P_{comms}', 483.3*A-Pbus)\n",
    "adda(m, Pbus, 10*abs(Pcomms)**0.5)\n",
    "h = Var('h', 400e3)\n",
    "D = Var('D', 0.1)\n",
    "R = adda(m, 'R', Pcomms*D**2/h**2*1e18/(8e6))\n",
    "C = adda(m, 'C', 2.5*D**2+12*(A+1)+0.1*Pbus)"
   ]
  },
  {
   "cell_type": "code",
   "execution_count": 6,
   "id": "ea77864c-079c-4cd9-a398-bea747fe1e18",
   "metadata": {
    "execution": {
     "iopub.execute_input": "2022-10-24T16:33:07.841255Z",
     "iopub.status.busy": "2022-10-24T16:33:07.841255Z",
     "iopub.status.idle": "2022-10-24T16:33:07.845361Z",
     "shell.execute_reply": "2022-10-24T16:33:07.845361Z",
     "shell.execute_reply.started": "2022-10-24T16:33:07.841255Z"
    },
    "tags": []
   },
   "outputs": [],
   "source": [
    "import sympy as sp\n",
    "from compute import Par"
   ]
  },
  {
   "cell_type": "code",
   "execution_count": 31,
   "id": "64c3fbef-2433-4eef-8127-98c569614391",
   "metadata": {
    "execution": {
     "iopub.execute_input": "2022-10-24T16:40:38.422344Z",
     "iopub.status.busy": "2022-10-24T16:40:38.422344Z",
     "iopub.status.idle": "2022-10-24T16:40:38.476693Z",
     "shell.execute_reply": "2022-10-24T16:40:38.476483Z",
     "shell.execute_reply.started": "2022-10-24T16:40:38.422344Z"
    },
    "tags": []
   },
   "outputs": [
    {
     "data": {
      "text/latex": [
       "$C_D=998.166 \\ (m_i=1.577 )$"
      ],
      "text/plain": [
       "C_D"
      ]
     },
     "execution_count": 31,
     "metadata": {},
     "output_type": "execute_result"
    }
   ],
   "source": [
    "model = Model()\n",
    "m = model.root\n",
    "alpha = Par(r'\\alpha',50)\n",
    "ct = Par('c_t', 1.163)\n",
    "ms = Par('m_s', 1.175)\n",
    "dV = Par(r'\\Delta v', 12800)\n",
    "v = Par('v', 9.8*450)\n",
    "CT = Par('C_T', 1000)\n",
    "CD = Var('C_D')\n",
    "D = adda(m, 'D', (CD/alpha)**(1/3))\n",
    "mt = adda(m, 'm_t', ms*D**2)\n",
    "mi = adda(m, 'm_i', sp.exp(dV/v)*mt)\n",
    "adda(m, CD, CT-ct*mi)"
   ]
  },
  {
   "cell_type": "code",
   "execution_count": 33,
   "id": "3d4cc1d0-40b4-46fc-be32-a5057f459bc1",
   "metadata": {
    "execution": {
     "iopub.execute_input": "2022-10-24T16:40:44.706561Z",
     "iopub.status.busy": "2022-10-24T16:40:44.706561Z",
     "iopub.status.idle": "2022-10-24T16:40:44.717637Z",
     "shell.execute_reply": "2022-10-24T16:40:44.716658Z",
     "shell.execute_reply.started": "2022-10-24T16:40:44.706561Z"
    },
    "tags": []
   },
   "outputs": [],
   "source": [
    "edges, tree = model.generate_formulation()\n",
    "from datastructures.rendering import render_incidence"
   ]
  },
  {
   "cell_type": "code",
   "execution_count": 39,
   "id": "6410d783-4333-41bf-b9af-a2e9b0258542",
   "metadata": {
    "execution": {
     "iopub.execute_input": "2022-10-24T16:55:16.800986Z",
     "iopub.status.busy": "2022-10-24T16:55:16.799983Z",
     "iopub.status.idle": "2022-10-24T16:55:16.819996Z",
     "shell.execute_reply": "2022-10-24T16:55:16.819012Z",
     "shell.execute_reply.started": "2022-10-24T16:55:16.800986Z"
    },
    "tags": []
   },
   "outputs": [],
   "source": [
    "tree = ({0:1,3:1,2:1,1:1},{},{})"
   ]
  },
  {
   "cell_type": "code",
   "execution_count": 40,
   "id": "cb054ab0-9b0e-486f-9aa8-d781813ae307",
   "metadata": {
    "execution": {
     "iopub.execute_input": "2022-10-24T16:55:17.228475Z",
     "iopub.status.busy": "2022-10-24T16:55:17.227521Z",
     "iopub.status.idle": "2022-10-24T16:55:17.362406Z",
     "shell.execute_reply": "2022-10-24T16:55:17.361441Z",
     "shell.execute_reply.started": "2022-10-24T16:55:17.227521Z"
    },
    "tags": []
   },
   "outputs": [
    {
     "data": {
      "image/png": "[encoded data removed]",
      "text/plain": [
       "<Figure size 432x288 with 1 Axes>"
      ]
     },
     "metadata": {
      "needs_background": "light"
     },
     "output_type": "display_data"
    }
   ],
   "source": [
    "render_incidence(edges, tree, hideticks=True, rawvarname=True, patchwidth=4, fontsize=22);"
   ]
  },
  {
   "cell_type": "code",
   "execution_count": 48,
   "id": "5ab92536-1bd9-44b3-bfbf-c5781bd814e3",
   "metadata": {
    "execution": {
     "iopub.execute_input": "2022-10-26T22:16:16.913912Z",
     "iopub.status.busy": "2022-10-26T22:16:16.913912Z",
     "iopub.status.idle": "2022-10-26T22:16:16.930822Z",
     "shell.execute_reply": "2022-10-26T22:16:16.929307Z",
     "shell.execute_reply.started": "2022-10-26T22:16:16.913912Z"
    },
    "tags": []
   },
   "outputs": [
    {
     "data": {
      "text/plain": [
       "array([[ 1., -5.],\n",
       "       [ 1.,  1.]])"
      ]
     },
     "execution_count": 48,
     "metadata": {},
     "output_type": "execute_result"
    }
   ],
   "source": [
    "np.array([[1., -5/np.sqrt(1.)], [1.,1.]])"
   ]
  },
  {
   "cell_type": "code",
   "execution_count": 58,
   "id": "71310f53-bc42-4a4d-a3b1-d4d4afdf864c",
   "metadata": {
    "execution": {
     "iopub.execute_input": "2022-10-26T23:30:16.330845Z",
     "iopub.status.busy": "2022-10-26T23:30:16.330845Z",
     "iopub.status.idle": "2022-10-26T23:30:16.858559Z",
     "shell.execute_reply": "2022-10-26T23:30:16.858559Z",
     "shell.execute_reply.started": "2022-10-26T23:30:16.330845Z"
    },
    "tags": []
   },
   "outputs": [
    {
     "data": {
      "image/png": "[encoded data removed]",
      "text/plain": [
       "<Figure size 432x288 with 2 Axes>"
      ]
     },
     "metadata": {
      "needs_background": "light"
     },
     "output_type": "display_data"
    }
   ],
   "source": [
    "S = 10\n",
    "a = 10\n",
    "import numpy as np\n",
    "import matplotlib.pyplot as plt\n",
    "x = np.linspace(-5, 15, 100)\n",
    "y = np.linspace(0.001, 10, 100)\n",
    "xx, yy = np.meshgrid(x, y)\n",
    "@np.vectorize\n",
    "def f(x, y):\n",
    "    return np.linalg.solve(np.array([[1., -a/(2*np.sqrt(y))], [1.,1.]]),np.array([x-a*np.sqrt(y),x+y-S]))[1]\n",
    "zz = f(xx, yy)\n",
    "plt.contourf(xx, yy, zz)\n",
    "plt.colorbar()\n",
    "CS = plt.contour(xx, yy, zz, levels=[0,2,4], colors=('r',));\n",
    "plt.gca().clabel(CS, inline=1, fontsize=10)\n",
    "plt.gca().set_aspect(\"equal\")\n",
    "plt.show()"
   ]
  },
  {
   "cell_type": "code",
   "execution_count": 55,
   "id": "60098846-0098-4f74-b08d-a6adae20ba48",
   "metadata": {
    "execution": {
     "iopub.execute_input": "2022-10-26T22:58:44.928791Z",
     "iopub.status.busy": "2022-10-26T22:58:44.928791Z",
     "iopub.status.idle": "2022-10-26T22:58:44.943156Z",
     "shell.execute_reply": "2022-10-26T22:58:44.941823Z",
     "shell.execute_reply.started": "2022-10-26T22:58:44.928791Z"
    },
    "tags": []
   },
   "outputs": [
    {
     "data": {
      "text/plain": [
       "array(0.15621318)"
      ]
     },
     "execution_count": 55,
     "metadata": {},
     "output_type": "execute_result"
    }
   ],
   "source": [
    "f(0,730)"
   ]
  },
  {
   "cell_type": "code",
   "execution_count": 45,
   "id": "9d0ac8cf-2549-45d2-b3b3-3c6173abdb40",
   "metadata": {
    "execution": {
     "iopub.execute_input": "2022-10-26T22:47:28.256943Z",
     "iopub.status.busy": "2022-10-26T22:47:28.254342Z",
     "iopub.status.idle": "2022-10-26T22:47:28.279178Z",
     "shell.execute_reply": "2022-10-26T22:47:28.277488Z",
     "shell.execute_reply.started": "2022-10-26T22:47:28.256943Z"
    },
    "tags": []
   },
   "outputs": [
    {
     "data": {
      "text/plain": [
       "126.66666666666667"
      ]
     },
     "execution_count": 45,
     "metadata": {},
     "output_type": "execute_result"
    }
   ],
   "source": [
    "(-10+100+100)/(1+5/10)"
   ]
  },
  {
   "cell_type": "code",
   "execution_count": 52,
   "id": "524e939d-de5b-44bf-b9bd-3243c133c51a",
   "metadata": {
    "execution": {
     "iopub.execute_input": "2022-10-26T22:57:16.008578Z",
     "iopub.status.busy": "2022-10-26T22:57:16.008578Z",
     "iopub.status.idle": "2022-10-26T22:57:16.034622Z",
     "shell.execute_reply": "2022-10-26T22:57:16.033111Z",
     "shell.execute_reply.started": "2022-10-26T22:57:16.008578Z"
    },
    "tags": []
   },
   "outputs": [
    {
     "data": {
      "text/plain": [
       "729.8437881283576"
      ]
     },
     "execution_count": 52,
     "metadata": {},
     "output_type": "execute_result"
    }
   ],
   "source": [
    "S = 1000\n",
    "a = 10\n",
    "(np.sqrt(a**2+4*S)/2-a/2)**2"
   ]
  },
  {
   "cell_type": "markdown",
   "id": "4e8629cf-df3a-4bf3-9b5c-6c741402200c",
   "metadata": {},
   "source": [
    "We restructure with extended tearing"
   ]
  },
  {
   "cell_type": "markdown",
   "id": "bb31a986-3bfe-4c57-8123-6a60acfdf220",
   "metadata": {},
   "source": [
    "## Restructuring interface"
   ]
  },
  {
   "cell_type": "code",
   "execution_count": 10,
   "id": "96d16a39-f513-4b79-9059-a540fb07151c",
   "metadata": {
    "execution": {
     "iopub.execute_input": "2022-10-24T16:35:22.084821Z",
     "iopub.status.busy": "2022-10-24T16:35:22.084821Z",
     "iopub.status.idle": "2022-10-24T16:35:22.096293Z",
     "shell.execute_reply": "2022-10-24T16:35:22.096293Z",
     "shell.execute_reply.started": "2022-10-24T16:35:22.084821Z"
    },
    "tags": []
   },
   "outputs": [],
   "source": [
    "from datastructures.graphutils import all_variables, all_edges\n",
    "from datastructures.tearing import dir_graph, min_arc_set_assign\n",
    "from datastructures.operators import reformulate"
   ]
  },
  {
   "cell_type": "code",
   "execution_count": 8,
   "id": "87460364-018d-4d54-8606-c146425924ff",
   "metadata": {
    "execution": {
     "iopub.execute_input": "2022-08-15T17:55:20.683514Z",
     "iopub.status.busy": "2022-08-15T17:55:20.683514Z",
     "iopub.status.idle": "2022-08-15T17:55:20.698849Z",
     "shell.execute_reply": "2022-08-15T17:55:20.698849Z",
     "shell.execute_reply.started": "2022-08-15T17:55:20.683514Z"
    },
    "tags": []
   },
   "outputs": [],
   "source": [
    "edges, tree = model.generate_formulation()\n",
    "not_output = ['h', 'D', 'R'] # This forces the solution from the thesis to come out\n",
    "eqnidxs = list(edges[1].keys())\n",
    "varidxs = all_variables(*edges)\n",
    "graph_edges_minassign = all_edges(*edges)\n",
    "edges_left_right = list(dir_graph(graph_edges_minassign, eqnidxs, {}))\n",
    "xsol,_ = min_arc_set_assign(edges_left_right, varidxs, eqnidxs, not_output=not_output)"
   ]
  },
  {
   "cell_type": "code",
   "execution_count": 9,
   "id": "d9d0b854-af1d-47ee-b316-ce1e5717d25a",
   "metadata": {
    "execution": {
     "iopub.execute_input": "2022-08-15T17:55:20.848375Z",
     "iopub.status.busy": "2022-08-15T17:55:20.848375Z",
     "iopub.status.idle": "2022-08-15T17:55:20.869248Z",
     "shell.execute_reply": "2022-08-15T17:55:20.868333Z",
     "shell.execute_reply.started": "2022-08-15T17:55:20.848375Z"
    },
    "tags": []
   },
   "outputs": [],
   "source": [
    "outset_initial = {comp: var[0] for comp,var in edges[1].items()}\n",
    "outset_opt = {right:left for left, right in edges_left_right \n",
    "                  if (left,right) in edges_left_right and xsol[left, right] > 0.5}"
   ]
  },
  {
   "cell_type": "code",
   "execution_count": 10,
   "id": "32f77562-e735-49fa-97d5-1fe38056843a",
   "metadata": {
    "execution": {
     "iopub.execute_input": "2022-08-15T17:55:21.016092Z",
     "iopub.status.busy": "2022-08-15T17:55:21.016092Z",
     "iopub.status.idle": "2022-08-15T17:55:21.029077Z",
     "shell.execute_reply": "2022-08-15T17:55:21.028918Z",
     "shell.execute_reply.started": "2022-08-15T17:55:21.016092Z"
    },
    "tags": []
   },
   "outputs": [],
   "source": [
    "edges_minassign, tree_minassign = reformulate(edges, tree, outset_initial, \n",
    "                                              outset_opt, solveforvars=False)"
   ]
  },
  {
   "cell_type": "markdown",
   "id": "70e684de-9bd4-4e11-ac79-db2c3ae53627",
   "metadata": {},
   "source": [
    "## Visualize HSM"
   ]
  },
  {
   "cell_type": "code",
   "execution_count": 12,
   "id": "1a9ff654-2e27-4aa2-9998-c73281be2204",
   "metadata": {
    "execution": {
     "iopub.execute_input": "2022-08-15T17:55:51.018682Z",
     "iopub.status.busy": "2022-08-15T17:55:51.018682Z",
     "iopub.status.idle": "2022-08-15T17:55:51.076760Z",
     "shell.execute_reply": "2022-08-15T17:55:51.075992Z",
     "shell.execute_reply.started": "2022-08-15T17:55:51.018682Z"
    }
   },
   "outputs": [],
   "source": [
    "from datastructures.rendering import render_incidence"
   ]
  },
  {
   "cell_type": "code",
   "execution_count": 14,
   "id": "1d837a48-8be7-4386-b57b-35d72d408798",
   "metadata": {
    "execution": {
     "iopub.execute_input": "2022-08-15T17:56:12.375607Z",
     "iopub.status.busy": "2022-08-15T17:56:12.375607Z",
     "iopub.status.idle": "2022-08-15T17:56:12.498638Z",
     "shell.execute_reply": "2022-08-15T17:56:12.498638Z",
     "shell.execute_reply.started": "2022-08-15T17:56:12.375607Z"
    }
   },
   "outputs": [
    {
     "data": {
      "image/png": "[encoded data removed]",
      "text/plain": [
       "<Figure size 432x288 with 1 Axes>"
      ]
     },
     "metadata": {
      "needs_background": "light"
     },
     "output_type": "display_data"
    }
   ],
   "source": [
    "render_incidence(edges, tree, hideticks=True, rawvarname=True, patchwidth=4, fontsize=22);"
   ]
  },
  {
   "cell_type": "code",
   "execution_count": 13,
   "id": "5ecdfa7b-38e0-420f-b821-8cde0e730ee2",
   "metadata": {
    "execution": {
     "iopub.execute_input": "2022-08-15T17:55:51.559532Z",
     "iopub.status.busy": "2022-08-15T17:55:51.559532Z",
     "iopub.status.idle": "2022-08-15T17:55:51.930705Z",
     "shell.execute_reply": "2022-08-15T17:55:51.930705Z",
     "shell.execute_reply.started": "2022-08-15T17:55:51.559532Z"
    },
    "tags": []
   },
   "outputs": [
    {
     "data": {
      "image/png": "[encoded data removed]",
      "text/plain": [
       "<Figure size 432x288 with 1 Axes>"
      ]
     },
     "metadata": {
      "needs_background": "light"
     },
     "output_type": "display_data"
    }
   ],
   "source": [
    "render_incidence(edges_minassign, tree_minassign, hideticks=True, rawvarname=True, patchwidth=4, fontsize=22);"
   ]
  }
 ],
 "metadata": {
  "kernelspec": {
   "display_name": "Python [conda env:minimdo]",
   "language": "python",
   "name": "conda-env-minimdo-py"
  },
  "language_info": {
   "codemirror_mode": {
    "name": "ipython",
    "version": 3
   },
   "file_extension": ".py",
   "mimetype": "text/x-python",
   "name": "python",
   "nbconvert_exporter": "python",
   "pygments_lexer": "ipython3",
   "version": "3.9.12"
  }
 },
 "nbformat": 4,
 "nbformat_minor": 5
}
