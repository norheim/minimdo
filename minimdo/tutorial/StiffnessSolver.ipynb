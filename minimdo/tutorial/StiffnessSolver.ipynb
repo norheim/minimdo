{
 "cells": [
  {
   "cell_type": "markdown",
   "id": "343f0b6e-62f5-4407-a149-293d16e21bba",
   "metadata": {},
   "source": [
    "# Rewriting example from openMDAO\n",
    "https://openmdao.org/newdocs/versions/latest/examples/beam_optimization_example.html"
   ]
  },
  {
   "cell_type": "code",
   "execution_count": 1,
   "id": "6ac48354-9e56-4fc6-844f-9752466d5db5",
   "metadata": {
    "execution": {
     "iopub.execute_input": "2022-10-07T18:46:25.297362Z",
     "iopub.status.busy": "2022-10-07T18:46:25.297362Z",
     "iopub.status.idle": "2022-10-07T18:46:25.418323Z",
     "shell.execute_reply": "2022-10-07T18:46:25.417991Z",
     "shell.execute_reply.started": "2022-10-07T18:46:25.297362Z"
    },
    "tags": []
   },
   "outputs": [],
   "source": [
    "import numpy as np"
   ]
  },
  {
   "cell_type": "code",
   "execution_count": 2,
   "id": "5956049e-713f-4365-bb7a-bce5bda7723c",
   "metadata": {
    "execution": {
     "iopub.execute_input": "2022-10-07T18:46:25.418323Z",
     "iopub.status.busy": "2022-10-07T18:46:25.418323Z",
     "iopub.status.idle": "2022-10-07T18:46:27.603083Z",
     "shell.execute_reply": "2022-10-07T18:46:27.602937Z",
     "shell.execute_reply.started": "2022-10-07T18:46:25.418323Z"
    },
    "tags": []
   },
   "outputs": [],
   "source": [
    "from compute import Var\n",
    "from datastructures.execution import Component"
   ]
  },
  {
   "cell_type": "code",
   "execution_count": 3,
   "id": "5e3f29e2-422e-4c39-b4ce-194b3b3531c4",
   "metadata": {
    "execution": {
     "iopub.execute_input": "2022-10-07T18:46:27.605009Z",
     "iopub.status.busy": "2022-10-07T18:46:27.605009Z",
     "iopub.status.idle": "2022-10-07T18:46:27.613108Z",
     "shell.execute_reply": "2022-10-07T18:46:27.612605Z",
     "shell.execute_reply.started": "2022-10-07T18:46:27.605009Z"
    },
    "tags": []
   },
   "outputs": [],
   "source": [
    "import numpy as np"
   ]
  },
  {
   "cell_type": "code",
   "execution_count": 21,
   "id": "474d1b2f-ae05-459b-9534-da4b48616ba9",
   "metadata": {
    "execution": {
     "iopub.execute_input": "2022-10-07T18:48:12.732655Z",
     "iopub.status.busy": "2022-10-07T18:48:12.732655Z",
     "iopub.status.idle": "2022-10-07T18:48:12.741971Z",
     "shell.execute_reply": "2022-10-07T18:48:12.740862Z",
     "shell.execute_reply.started": "2022-10-07T18:48:12.732655Z"
    },
    "tags": []
   },
   "outputs": [],
   "source": [
    "T = np.random.random((10,4,4))"
   ]
  },
  {
   "cell_type": "code",
   "execution_count": 5,
   "id": "5ef39338-436e-4256-a824-9b5b9aa6ec75",
   "metadata": {
    "execution": {
     "iopub.execute_input": "2022-10-07T18:46:27.623331Z",
     "iopub.status.busy": "2022-10-07T18:46:27.623331Z",
     "iopub.status.idle": "2022-10-07T18:46:27.712987Z",
     "shell.execute_reply": "2022-10-07T18:46:27.712793Z",
     "shell.execute_reply.started": "2022-10-07T18:46:27.623331Z"
    },
    "tags": []
   },
   "outputs": [],
   "source": [
    "E = 1.\n",
    "L = 1.\n",
    "b = 0.1\n",
    "volume = 0.01\n",
    "num_elements = 10"
   ]
  },
  {
   "cell_type": "code",
   "execution_count": 6,
   "id": "9817ebe8-2d27-4233-89d5-4253bd76f87b",
   "metadata": {
    "execution": {
     "iopub.execute_input": "2022-10-07T18:46:27.712987Z",
     "iopub.status.busy": "2022-10-07T18:46:27.712987Z",
     "iopub.status.idle": "2022-10-07T18:46:27.721726Z",
     "shell.execute_reply": "2022-10-07T18:46:27.721225Z",
     "shell.execute_reply.started": "2022-10-07T18:46:27.712987Z"
    },
    "tags": []
   },
   "outputs": [],
   "source": [
    "fx = lambda b,h: 1./12.*b*h**3\n",
    "Icomp = Component(fx, inputs=('b','h'), outputs=('I',), indims=(1,num_elements), outdims=(num_elements,))"
   ]
  },
  {
   "cell_type": "code",
   "execution_count": 7,
   "id": "556fbca1-c96e-4550-95e1-f275e829f327",
   "metadata": {
    "execution": {
     "iopub.execute_input": "2022-10-07T18:46:27.724126Z",
     "iopub.status.busy": "2022-10-07T18:46:27.722795Z",
     "iopub.status.idle": "2022-10-07T18:46:27.733607Z",
     "shell.execute_reply": "2022-10-07T18:46:27.733012Z",
     "shell.execute_reply.started": "2022-10-07T18:46:27.724126Z"
    },
    "tags": []
   },
   "outputs": [],
   "source": [
    "fx = lambda b,h,L: b*sum(h)*L\n",
    "Vcomp = Component(fx, inputs=('b','h','L'), outputs=('V',), indims=(1,num_elements,1), outdims=(1,))"
   ]
  },
  {
   "cell_type": "code",
   "execution_count": 42,
   "id": "eebc799b-ee02-4b5a-9cd9-f88e462e5cdd",
   "metadata": {
    "execution": {
     "iopub.execute_input": "2022-10-07T18:51:39.762569Z",
     "iopub.status.busy": "2022-10-07T18:51:39.755520Z",
     "iopub.status.idle": "2022-10-07T18:51:39.779429Z",
     "shell.execute_reply": "2022-10-07T18:51:39.779429Z",
     "shell.execute_reply.started": "2022-10-07T18:51:39.762569Z"
    },
    "tags": []
   },
   "outputs": [],
   "source": [
    "Ival = Icomp.evaldict({'b':12, 'h':np.linspace(1, 1, num_elements)})"
   ]
  },
  {
   "cell_type": "code",
   "execution_count": 43,
   "id": "a591f2db-4161-4c02-a669-f53c30314ac4",
   "metadata": {
    "execution": {
     "iopub.execute_input": "2022-10-07T18:51:39.997970Z",
     "iopub.status.busy": "2022-10-07T18:51:39.997970Z",
     "iopub.status.idle": "2022-10-07T18:51:40.015594Z",
     "shell.execute_reply": "2022-10-07T18:51:40.014449Z",
     "shell.execute_reply.started": "2022-10-07T18:51:39.997970Z"
    },
    "tags": []
   },
   "outputs": [
    {
     "data": {
      "text/plain": [
       "array([1., 1., 1., 1., 1., 1., 1., 1., 1., 1.])"
      ]
     },
     "execution_count": 43,
     "metadata": {},
     "output_type": "execute_result"
    }
   ],
   "source": [
    "Ival"
   ]
  },
  {
   "cell_type": "code",
   "execution_count": 44,
   "id": "4ba3c284-574e-4a94-b8bc-fdbb7966e715",
   "metadata": {
    "execution": {
     "iopub.execute_input": "2022-10-07T18:51:40.250761Z",
     "iopub.status.busy": "2022-10-07T18:51:40.250761Z",
     "iopub.status.idle": "2022-10-07T18:51:40.260133Z",
     "shell.execute_reply": "2022-10-07T18:51:40.259257Z",
     "shell.execute_reply.started": "2022-10-07T18:51:40.250761Z"
    },
    "tags": []
   },
   "outputs": [],
   "source": [
    "def compute_K_local(I):\n",
    "    L0 = L / num_elements\n",
    "    coeffs = np.empty((4, 4))\n",
    "    coeffs[0, :] = [12, 6 * L0, -12, 6 * L0]\n",
    "    coeffs[1, :] = [6 * L0, 4 * L0 ** 2, -6 * L0, 2 * L0 ** 2]\n",
    "    coeffs[2, :] = [-12, -6 * L0, 12, -6 * L0]\n",
    "    coeffs[3, :] = [6 * L0, 2 * L0 ** 2, -6 * L0, 4 * L0 ** 2]\n",
    "    coeffs *= E / L0 ** 3\n",
    "    print(coeffs)\n",
    "    return np.concatenate([(coeffs * i).flat for i in Ival])"
   ]
  },
  {
   "cell_type": "code",
   "execution_count": 45,
   "id": "cf2ac450-ecc8-489a-8f28-0bed4ec8c233",
   "metadata": {
    "execution": {
     "iopub.execute_input": "2022-10-07T18:51:40.584230Z",
     "iopub.status.busy": "2022-10-07T18:51:40.583265Z",
     "iopub.status.idle": "2022-10-07T18:51:40.592264Z",
     "shell.execute_reply": "2022-10-07T18:51:40.590993Z",
     "shell.execute_reply.started": "2022-10-07T18:51:40.584230Z"
    },
    "tags": []
   },
   "outputs": [],
   "source": [
    "Kcomp = Component(compute_K_local, inputs=('I',), outputs=('K_local',), indims=(10,), outdims=(num_elements*16,))"
   ]
  },
  {
   "cell_type": "code",
   "execution_count": 46,
   "id": "cef41bf2-e7b8-419f-bb7d-c7a03bb60326",
   "metadata": {
    "execution": {
     "iopub.execute_input": "2022-10-07T18:51:40.802294Z",
     "iopub.status.busy": "2022-10-07T18:51:40.793252Z",
     "iopub.status.idle": "2022-10-07T18:51:40.819497Z",
     "shell.execute_reply": "2022-10-07T18:51:40.818281Z",
     "shell.execute_reply.started": "2022-10-07T18:51:40.802294Z"
    },
    "tags": []
   },
   "outputs": [
    {
     "name": "stdout",
     "output_type": "stream",
     "text": [
      "[[ 12000.    600. -12000.    600.]\n",
      " [   600.     40.   -600.     20.]\n",
      " [-12000.   -600.  12000.   -600.]\n",
      " [   600.     20.   -600.     40.]]\n"
     ]
    }
   ],
   "source": [
    "K_local_flat = Kcomp.evaldict({'I':Ival})\n",
    "K_local = K_local_flat.reshape(num_elements, 4, 4)"
   ]
  },
  {
   "cell_type": "code",
   "execution_count": 48,
   "id": "a6e16420-7872-41d6-a86c-dc722300f1d5",
   "metadata": {
    "execution": {
     "iopub.execute_input": "2022-10-07T18:52:05.021463Z",
     "iopub.status.busy": "2022-10-07T18:52:05.020437Z",
     "iopub.status.idle": "2022-10-07T18:52:05.045088Z",
     "shell.execute_reply": "2022-10-07T18:52:05.043977Z",
     "shell.execute_reply.started": "2022-10-07T18:52:05.021463Z"
    },
    "tags": []
   },
   "outputs": [],
   "source": [
    "#def compute_K_augmented(K_local)\n",
    "#K_local = K_local.reshape(num_elements, 4, 4)\n",
    "num_nodes = num_elements + 1\n",
    "num_entry = num_elements * 12 + 4\n",
    "ndim = num_entry + 4\n",
    "\n",
    "data = np.zeros((ndim, ))\n",
    "cols = np.empty((ndim, ))\n",
    "rows = np.empty((ndim, ))\n",
    "\n",
    "# First element.\n",
    "data[:16] = K_local[0,:,:].flat\n",
    "cols[:16] = np.tile(np.arange(4), 4)\n",
    "rows[:16] = np.repeat(np.arange(4), 4)\n",
    "\n",
    "j = 16\n",
    "for ind in range(1, num_elements):\n",
    "    ind1 = 2 * ind\n",
    "    K = K_local[ind, :, :]\n",
    "\n",
    "    # NW quadrant gets summed with previous connected element.\n",
    "    data[j-6:j-4] += K[0, :2]\n",
    "    data[j-2:j] += K[1, :2]\n",
    "\n",
    "    # NE quadrant\n",
    "    data[j:j+4] = K[:2, 2:].flat\n",
    "    rows[j:j+4] = np.array([ind1, ind1, ind1 + 1, ind1 + 1])\n",
    "    cols[j:j+4] = np.array([ind1 + 2, ind1 + 3, ind1 + 2, ind1 + 3])\n",
    "\n",
    "    # SE and SW quadrants together\n",
    "    data[j+4:j+12] = K[2:, :].flat\n",
    "    rows[j+4:j+12] = np.repeat(np.arange(ind1 + 2, ind1 + 4), 4)\n",
    "    cols[j+4:j+12] = np.tile(np.arange(ind1, ind1 + 4), 2)\n",
    "\n",
    "    j += 12\n",
    "\n",
    "data[-4:] = 1.0\n",
    "rows[-4] = 2 * num_nodes\n",
    "rows[-3] = 2 * num_nodes + 1\n",
    "rows[-2] = 0.0\n",
    "rows[-1] = 1.0\n",
    "cols[-4] = 0.0\n",
    "cols[-3] = 1.0\n",
    "cols[-2] = 2 * num_nodes\n",
    "cols[-1] = 2 * num_nodes + 1\n",
    "\n",
    "n_K = 2 * num_nodes + 2"
   ]
  },
  {
   "cell_type": "code",
   "execution_count": 50,
   "id": "ba340a94-c3d9-477a-b789-b0a91dd95628",
   "metadata": {
    "execution": {
     "iopub.execute_input": "2022-10-07T18:52:20.022804Z",
     "iopub.status.busy": "2022-10-07T18:52:20.022804Z",
     "iopub.status.idle": "2022-10-07T18:52:20.071211Z",
     "shell.execute_reply": "2022-10-07T18:52:20.071061Z",
     "shell.execute_reply.started": "2022-10-07T18:52:20.022804Z"
    },
    "tags": []
   },
   "outputs": [],
   "source": [
    "from scipy.sparse import coo_matrix\n",
    "from scipy.sparse.linalg import splu\n",
    "Ksp = coo_matrix((data, (rows, cols)), shape=(n_K, n_K)).tocsc()"
   ]
  },
  {
   "cell_type": "code",
   "execution_count": 59,
   "id": "7c3e8d95-b435-4002-a291-02d7c1e085af",
   "metadata": {
    "execution": {
     "iopub.execute_input": "2022-10-07T19:08:46.963963Z",
     "iopub.status.busy": "2022-10-07T19:08:46.963963Z",
     "iopub.status.idle": "2022-10-07T19:08:46.988983Z",
     "shell.execute_reply": "2022-10-07T19:08:46.987965Z",
     "shell.execute_reply.started": "2022-10-07T19:08:46.963963Z"
    },
    "tags": []
   },
   "outputs": [
    {
     "data": {
      "text/plain": [
       "matrix([[ 1.2e+04,  6.0e+02, -1.2e+04,  6.0e+02,  0.0e+00,  0.0e+00,\n",
       "          0.0e+00,  0.0e+00,  0.0e+00,  0.0e+00,  0.0e+00,  0.0e+00,\n",
       "          0.0e+00,  0.0e+00,  0.0e+00,  0.0e+00,  0.0e+00,  0.0e+00,\n",
       "          0.0e+00,  0.0e+00,  0.0e+00,  0.0e+00,  1.0e+00,  0.0e+00],\n",
       "        [ 6.0e+02,  4.0e+01, -6.0e+02,  2.0e+01,  0.0e+00,  0.0e+00,\n",
       "          0.0e+00,  0.0e+00,  0.0e+00,  0.0e+00,  0.0e+00,  0.0e+00,\n",
       "          0.0e+00,  0.0e+00,  0.0e+00,  0.0e+00,  0.0e+00,  0.0e+00,\n",
       "          0.0e+00,  0.0e+00,  0.0e+00,  0.0e+00,  0.0e+00,  1.0e+00],\n",
       "        [-1.2e+04, -6.0e+02,  2.4e+04,  0.0e+00, -1.2e+04,  6.0e+02,\n",
       "          0.0e+00,  0.0e+00,  0.0e+00,  0.0e+00,  0.0e+00,  0.0e+00,\n",
       "          0.0e+00,  0.0e+00,  0.0e+00,  0.0e+00,  0.0e+00,  0.0e+00,\n",
       "          0.0e+00,  0.0e+00,  0.0e+00,  0.0e+00,  0.0e+00,  0.0e+00],\n",
       "        [ 6.0e+02,  2.0e+01,  0.0e+00,  8.0e+01, -6.0e+02,  2.0e+01,\n",
       "          0.0e+00,  0.0e+00,  0.0e+00,  0.0e+00,  0.0e+00,  0.0e+00,\n",
       "          0.0e+00,  0.0e+00,  0.0e+00,  0.0e+00,  0.0e+00,  0.0e+00,\n",
       "          0.0e+00,  0.0e+00,  0.0e+00,  0.0e+00,  0.0e+00,  0.0e+00],\n",
       "        [ 0.0e+00,  0.0e+00, -1.2e+04, -6.0e+02,  2.4e+04,  0.0e+00,\n",
       "         -1.2e+04,  6.0e+02,  0.0e+00,  0.0e+00,  0.0e+00,  0.0e+00,\n",
       "          0.0e+00,  0.0e+00,  0.0e+00,  0.0e+00,  0.0e+00,  0.0e+00,\n",
       "          0.0e+00,  0.0e+00,  0.0e+00,  0.0e+00,  0.0e+00,  0.0e+00],\n",
       "        [ 0.0e+00,  0.0e+00,  6.0e+02,  2.0e+01,  0.0e+00,  8.0e+01,\n",
       "         -6.0e+02,  2.0e+01,  0.0e+00,  0.0e+00,  0.0e+00,  0.0e+00,\n",
       "          0.0e+00,  0.0e+00,  0.0e+00,  0.0e+00,  0.0e+00,  0.0e+00,\n",
       "          0.0e+00,  0.0e+00,  0.0e+00,  0.0e+00,  0.0e+00,  0.0e+00],\n",
       "        [ 0.0e+00,  0.0e+00,  0.0e+00,  0.0e+00, -1.2e+04, -6.0e+02,\n",
       "          2.4e+04,  0.0e+00, -1.2e+04,  6.0e+02,  0.0e+00,  0.0e+00,\n",
       "          0.0e+00,  0.0e+00,  0.0e+00,  0.0e+00,  0.0e+00,  0.0e+00,\n",
       "          0.0e+00,  0.0e+00,  0.0e+00,  0.0e+00,  0.0e+00,  0.0e+00],\n",
       "        [ 0.0e+00,  0.0e+00,  0.0e+00,  0.0e+00,  6.0e+02,  2.0e+01,\n",
       "          0.0e+00,  8.0e+01, -6.0e+02,  2.0e+01,  0.0e+00,  0.0e+00,\n",
       "          0.0e+00,  0.0e+00,  0.0e+00,  0.0e+00,  0.0e+00,  0.0e+00,\n",
       "          0.0e+00,  0.0e+00,  0.0e+00,  0.0e+00,  0.0e+00,  0.0e+00],\n",
       "        [ 0.0e+00,  0.0e+00,  0.0e+00,  0.0e+00,  0.0e+00,  0.0e+00,\n",
       "         -1.2e+04, -6.0e+02,  2.4e+04,  0.0e+00, -1.2e+04,  6.0e+02,\n",
       "          0.0e+00,  0.0e+00,  0.0e+00,  0.0e+00,  0.0e+00,  0.0e+00,\n",
       "          0.0e+00,  0.0e+00,  0.0e+00,  0.0e+00,  0.0e+00,  0.0e+00],\n",
       "        [ 0.0e+00,  0.0e+00,  0.0e+00,  0.0e+00,  0.0e+00,  0.0e+00,\n",
       "          6.0e+02,  2.0e+01,  0.0e+00,  8.0e+01, -6.0e+02,  2.0e+01,\n",
       "          0.0e+00,  0.0e+00,  0.0e+00,  0.0e+00,  0.0e+00,  0.0e+00,\n",
       "          0.0e+00,  0.0e+00,  0.0e+00,  0.0e+00,  0.0e+00,  0.0e+00],\n",
       "        [ 0.0e+00,  0.0e+00,  0.0e+00,  0.0e+00,  0.0e+00,  0.0e+00,\n",
       "          0.0e+00,  0.0e+00, -1.2e+04, -6.0e+02,  2.4e+04,  0.0e+00,\n",
       "         -1.2e+04,  6.0e+02,  0.0e+00,  0.0e+00,  0.0e+00,  0.0e+00,\n",
       "          0.0e+00,  0.0e+00,  0.0e+00,  0.0e+00,  0.0e+00,  0.0e+00],\n",
       "        [ 0.0e+00,  0.0e+00,  0.0e+00,  0.0e+00,  0.0e+00,  0.0e+00,\n",
       "          0.0e+00,  0.0e+00,  6.0e+02,  2.0e+01,  0.0e+00,  8.0e+01,\n",
       "         -6.0e+02,  2.0e+01,  0.0e+00,  0.0e+00,  0.0e+00,  0.0e+00,\n",
       "          0.0e+00,  0.0e+00,  0.0e+00,  0.0e+00,  0.0e+00,  0.0e+00],\n",
       "        [ 0.0e+00,  0.0e+00,  0.0e+00,  0.0e+00,  0.0e+00,  0.0e+00,\n",
       "          0.0e+00,  0.0e+00,  0.0e+00,  0.0e+00, -1.2e+04, -6.0e+02,\n",
       "          2.4e+04,  0.0e+00, -1.2e+04,  6.0e+02,  0.0e+00,  0.0e+00,\n",
       "          0.0e+00,  0.0e+00,  0.0e+00,  0.0e+00,  0.0e+00,  0.0e+00],\n",
       "        [ 0.0e+00,  0.0e+00,  0.0e+00,  0.0e+00,  0.0e+00,  0.0e+00,\n",
       "          0.0e+00,  0.0e+00,  0.0e+00,  0.0e+00,  6.0e+02,  2.0e+01,\n",
       "          0.0e+00,  8.0e+01, -6.0e+02,  2.0e+01,  0.0e+00,  0.0e+00,\n",
       "          0.0e+00,  0.0e+00,  0.0e+00,  0.0e+00,  0.0e+00,  0.0e+00],\n",
       "        [ 0.0e+00,  0.0e+00,  0.0e+00,  0.0e+00,  0.0e+00,  0.0e+00,\n",
       "          0.0e+00,  0.0e+00,  0.0e+00,  0.0e+00,  0.0e+00,  0.0e+00,\n",
       "         -1.2e+04, -6.0e+02,  2.4e+04,  0.0e+00, -1.2e+04,  6.0e+02,\n",
       "          0.0e+00,  0.0e+00,  0.0e+00,  0.0e+00,  0.0e+00,  0.0e+00],\n",
       "        [ 0.0e+00,  0.0e+00,  0.0e+00,  0.0e+00,  0.0e+00,  0.0e+00,\n",
       "          0.0e+00,  0.0e+00,  0.0e+00,  0.0e+00,  0.0e+00,  0.0e+00,\n",
       "          6.0e+02,  2.0e+01,  0.0e+00,  8.0e+01, -6.0e+02,  2.0e+01,\n",
       "          0.0e+00,  0.0e+00,  0.0e+00,  0.0e+00,  0.0e+00,  0.0e+00],\n",
       "        [ 0.0e+00,  0.0e+00,  0.0e+00,  0.0e+00,  0.0e+00,  0.0e+00,\n",
       "          0.0e+00,  0.0e+00,  0.0e+00,  0.0e+00,  0.0e+00,  0.0e+00,\n",
       "          0.0e+00,  0.0e+00, -1.2e+04, -6.0e+02,  2.4e+04,  0.0e+00,\n",
       "         -1.2e+04,  6.0e+02,  0.0e+00,  0.0e+00,  0.0e+00,  0.0e+00],\n",
       "        [ 0.0e+00,  0.0e+00,  0.0e+00,  0.0e+00,  0.0e+00,  0.0e+00,\n",
       "          0.0e+00,  0.0e+00,  0.0e+00,  0.0e+00,  0.0e+00,  0.0e+00,\n",
       "          0.0e+00,  0.0e+00,  6.0e+02,  2.0e+01,  0.0e+00,  8.0e+01,\n",
       "         -6.0e+02,  2.0e+01,  0.0e+00,  0.0e+00,  0.0e+00,  0.0e+00],\n",
       "        [ 0.0e+00,  0.0e+00,  0.0e+00,  0.0e+00,  0.0e+00,  0.0e+00,\n",
       "          0.0e+00,  0.0e+00,  0.0e+00,  0.0e+00,  0.0e+00,  0.0e+00,\n",
       "          0.0e+00,  0.0e+00,  0.0e+00,  0.0e+00, -1.2e+04, -6.0e+02,\n",
       "          2.4e+04,  0.0e+00, -1.2e+04,  6.0e+02,  0.0e+00,  0.0e+00],\n",
       "        [ 0.0e+00,  0.0e+00,  0.0e+00,  0.0e+00,  0.0e+00,  0.0e+00,\n",
       "          0.0e+00,  0.0e+00,  0.0e+00,  0.0e+00,  0.0e+00,  0.0e+00,\n",
       "          0.0e+00,  0.0e+00,  0.0e+00,  0.0e+00,  6.0e+02,  2.0e+01,\n",
       "          0.0e+00,  8.0e+01, -6.0e+02,  2.0e+01,  0.0e+00,  0.0e+00],\n",
       "        [ 0.0e+00,  0.0e+00,  0.0e+00,  0.0e+00,  0.0e+00,  0.0e+00,\n",
       "          0.0e+00,  0.0e+00,  0.0e+00,  0.0e+00,  0.0e+00,  0.0e+00,\n",
       "          0.0e+00,  0.0e+00,  0.0e+00,  0.0e+00,  0.0e+00,  0.0e+00,\n",
       "         -1.2e+04, -6.0e+02,  1.2e+04, -6.0e+02,  0.0e+00,  0.0e+00],\n",
       "        [ 0.0e+00,  0.0e+00,  0.0e+00,  0.0e+00,  0.0e+00,  0.0e+00,\n",
       "          0.0e+00,  0.0e+00,  0.0e+00,  0.0e+00,  0.0e+00,  0.0e+00,\n",
       "          0.0e+00,  0.0e+00,  0.0e+00,  0.0e+00,  0.0e+00,  0.0e+00,\n",
       "          6.0e+02,  2.0e+01, -6.0e+02,  4.0e+01,  0.0e+00,  0.0e+00],\n",
       "        [ 1.0e+00,  0.0e+00,  0.0e+00,  0.0e+00,  0.0e+00,  0.0e+00,\n",
       "          0.0e+00,  0.0e+00,  0.0e+00,  0.0e+00,  0.0e+00,  0.0e+00,\n",
       "          0.0e+00,  0.0e+00,  0.0e+00,  0.0e+00,  0.0e+00,  0.0e+00,\n",
       "          0.0e+00,  0.0e+00,  0.0e+00,  0.0e+00,  0.0e+00,  0.0e+00],\n",
       "        [ 0.0e+00,  1.0e+00,  0.0e+00,  0.0e+00,  0.0e+00,  0.0e+00,\n",
       "          0.0e+00,  0.0e+00,  0.0e+00,  0.0e+00,  0.0e+00,  0.0e+00,\n",
       "          0.0e+00,  0.0e+00,  0.0e+00,  0.0e+00,  0.0e+00,  0.0e+00,\n",
       "          0.0e+00,  0.0e+00,  0.0e+00,  0.0e+00,  0.0e+00,  0.0e+00]])"
      ]
     },
     "execution_count": 59,
     "metadata": {},
     "output_type": "execute_result"
    }
   ],
   "source": [
    "Ksp.todense() # 24x24 (2(10+1)+2"
   ]
  },
  {
   "cell_type": "code",
   "execution_count": 22,
   "id": "e0f0016e-6433-4853-aa67-b213a0022d45",
   "metadata": {
    "execution": {
     "iopub.execute_input": "2022-09-14T18:04:50.389584Z",
     "iopub.status.busy": "2022-09-14T18:04:50.388551Z",
     "iopub.status.idle": "2022-09-14T18:04:50.407456Z",
     "shell.execute_reply": "2022-09-14T18:04:50.407456Z",
     "shell.execute_reply.started": "2022-09-14T18:04:50.389584Z"
    }
   },
   "outputs": [
    {
     "data": {
      "text/plain": [
       "array([[ 12000.,    600., -12000.,    600.],\n",
       "       [   600.,     40.,   -600.,     20.],\n",
       "       [-12000.,   -600.,  12000.,   -600.],\n",
       "       [   600.,     20.,   -600.,     40.]])"
      ]
     },
     "execution_count": 22,
     "metadata": {},
     "output_type": "execute_result"
    }
   ],
   "source": [
    "KLcomp = Component(compute_K_augmented, inputs=('K_local',), outputs=('K_aug',), \n",
    "                   indims=(num_elements*16,), outdims=(num_elements*16,))"
   ]
  },
  {
   "cell_type": "code",
   "execution_count": null,
   "id": "bdf3ab4a-4e31-4ef8-a642-67111aaf0fce",
   "metadata": {},
   "outputs": [],
   "source": []
  }
 ],
 "metadata": {
  "kernelspec": {
   "display_name": "Python [conda env:minimdo]",
   "language": "python",
   "name": "conda-env-minimdo-py"
  },
  "language_info": {
   "codemirror_mode": {
    "name": "ipython",
    "version": 3
   },
   "file_extension": ".py",
   "mimetype": "text/x-python",
   "name": "python",
   "nbconvert_exporter": "python",
   "pygments_lexer": "ipython3",
   "version": "3.9.12"
  }
 },
 "nbformat": 4,
 "nbformat_minor": 5
}
