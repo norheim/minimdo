{
 "cells": [
  {
   "cell_type": "markdown",
   "id": "343f0b6e-62f5-4407-a149-293d16e21bba",
   "metadata": {},
   "source": [
    "# Rewriting example from openMDAO\n",
    "https://openmdao.org/newdocs/versions/latest/examples/beam_optimization_example.html"
   ]
  },
  {
   "cell_type": "code",
   "execution_count": 1,
   "id": "6ac48354-9e56-4fc6-844f-9752466d5db5",
   "metadata": {
    "execution": {
     "iopub.execute_input": "2022-10-07T17:52:19.980597Z",
     "iopub.status.busy": "2022-10-07T17:52:19.979539Z",
     "iopub.status.idle": "2022-10-07T17:52:20.817945Z",
     "shell.execute_reply": "2022-10-07T17:52:20.817444Z",
     "shell.execute_reply.started": "2022-10-07T17:52:19.980597Z"
    },
    "tags": []
   },
   "outputs": [],
   "source": [
    "import numpy as np"
   ]
  },
  {
   "cell_type": "code",
   "execution_count": 2,
   "id": "5956049e-713f-4365-bb7a-bce5bda7723c",
   "metadata": {
    "execution": {
     "iopub.execute_input": "2022-10-07T17:52:22.222733Z",
     "iopub.status.busy": "2022-10-07T17:52:22.222733Z",
     "iopub.status.idle": "2022-10-07T17:52:33.718374Z",
     "shell.execute_reply": "2022-10-07T17:52:33.718374Z",
     "shell.execute_reply.started": "2022-10-07T17:52:22.222733Z"
    },
    "tags": []
   },
   "outputs": [],
   "source": [
    "from compute import Var\n",
    "from datastructures.execution import Component"
   ]
  },
  {
   "cell_type": "code",
   "execution_count": 20,
   "id": "5ef39338-436e-4256-a824-9b5b9aa6ec75",
   "metadata": {
    "execution": {
     "iopub.execute_input": "2022-09-14T18:04:36.503713Z",
     "iopub.status.busy": "2022-09-14T18:04:36.503713Z",
     "iopub.status.idle": "2022-09-14T18:04:36.510094Z",
     "shell.execute_reply": "2022-09-14T18:04:36.509571Z",
     "shell.execute_reply.started": "2022-09-14T18:04:36.503713Z"
    }
   },
   "outputs": [],
   "source": [
    "E = 1.\n",
    "L = 1.\n",
    "b = 0.1\n",
    "volume = 0.01\n",
    "num_elements = 10"
   ]
  },
  {
   "cell_type": "code",
   "execution_count": 49,
   "id": "9817ebe8-2d27-4233-89d5-4253bd76f87b",
   "metadata": {
    "execution": {
     "iopub.execute_input": "2022-09-14T18:57:44.261024Z",
     "iopub.status.busy": "2022-09-14T18:57:44.261024Z",
     "iopub.status.idle": "2022-09-14T18:57:44.267378Z",
     "shell.execute_reply": "2022-09-14T18:57:44.267021Z",
     "shell.execute_reply.started": "2022-09-14T18:57:44.261024Z"
    },
    "tags": []
   },
   "outputs": [],
   "source": [
    "fx = lambda b,h: 1./12.*b*h**3\n",
    "Icomp = Component(fx, inputs=('b','h'), outputs=('I',), indims=(1,num_elements), outdims=(num_elements,))"
   ]
  },
  {
   "cell_type": "code",
   "execution_count": 50,
   "id": "556fbca1-c96e-4550-95e1-f275e829f327",
   "metadata": {
    "execution": {
     "iopub.execute_input": "2022-09-14T18:57:44.443708Z",
     "iopub.status.busy": "2022-09-14T18:57:44.442754Z",
     "iopub.status.idle": "2022-09-14T18:57:44.454839Z",
     "shell.execute_reply": "2022-09-14T18:57:44.454711Z",
     "shell.execute_reply.started": "2022-09-14T18:57:44.443708Z"
    },
    "tags": []
   },
   "outputs": [],
   "source": [
    "fx = lambda b,h,L: b*sum(h)*L\n",
    "Vcomp = Component(fx, inputs=('b','h','L'), outputs=('V',), indims=(1,num_elements,1), outdims=(1,))"
   ]
  },
  {
   "cell_type": "code",
   "execution_count": 26,
   "id": "eebc799b-ee02-4b5a-9cd9-f88e462e5cdd",
   "metadata": {
    "execution": {
     "iopub.execute_input": "2022-09-14T18:15:39.862971Z",
     "iopub.status.busy": "2022-09-14T18:15:39.861970Z",
     "iopub.status.idle": "2022-09-14T18:15:39.879450Z",
     "shell.execute_reply": "2022-09-14T18:15:39.879154Z",
     "shell.execute_reply.started": "2022-09-14T18:15:39.862971Z"
    },
    "tags": []
   },
   "outputs": [],
   "source": [
    "Ival = Icomp.evaldict({'b':0.1, 'h':np.linspace(0.5, 0.1, num_elements)})"
   ]
  },
  {
   "cell_type": "code",
   "execution_count": 31,
   "id": "4ba3c284-574e-4a94-b8bc-fdbb7966e715",
   "metadata": {
    "execution": {
     "iopub.execute_input": "2022-09-14T18:17:03.424940Z",
     "iopub.status.busy": "2022-09-14T18:17:03.424940Z",
     "iopub.status.idle": "2022-09-14T18:17:03.438584Z",
     "shell.execute_reply": "2022-09-14T18:17:03.438442Z",
     "shell.execute_reply.started": "2022-09-14T18:17:03.424940Z"
    }
   },
   "outputs": [],
   "source": [
    "def compute_K_local(I):\n",
    "    L0 = L / num_elements\n",
    "    coeffs = np.empty((4, 4))\n",
    "    coeffs[0, :] = [12, 6 * L0, -12, 6 * L0]\n",
    "    coeffs[1, :] = [6 * L0, 4 * L0 ** 2, -6 * L0, 2 * L0 ** 2]\n",
    "    coeffs[2, :] = [-12, -6 * L0, 12, -6 * L0]\n",
    "    coeffs[3, :] = [6 * L0, 2 * L0 ** 2, -6 * L0, 4 * L0 ** 2]\n",
    "    coeffs *= E / L0 ** 3\n",
    "    return np.concatenate([(coeffs * i).flat for i in Ival])"
   ]
  },
  {
   "cell_type": "code",
   "execution_count": 37,
   "id": "cf2ac450-ecc8-489a-8f28-0bed4ec8c233",
   "metadata": {
    "execution": {
     "iopub.execute_input": "2022-09-14T18:18:55.206750Z",
     "iopub.status.busy": "2022-09-14T18:18:55.206750Z",
     "iopub.status.idle": "2022-09-14T18:18:55.226222Z",
     "shell.execute_reply": "2022-09-14T18:18:55.225907Z",
     "shell.execute_reply.started": "2022-09-14T18:18:55.206750Z"
    },
    "tags": []
   },
   "outputs": [],
   "source": [
    "Kcomp = Component(compute_K_local, inputs=('I',), outputs=('K_local',), indims=(10,), outdims=(num_elements*16,))"
   ]
  },
  {
   "cell_type": "code",
   "execution_count": 43,
   "id": "cef41bf2-e7b8-419f-bb7d-c7a03bb60326",
   "metadata": {
    "execution": {
     "iopub.execute_input": "2022-09-14T18:43:02.461149Z",
     "iopub.status.busy": "2022-09-14T18:43:02.461149Z",
     "iopub.status.idle": "2022-09-14T18:43:02.467675Z",
     "shell.execute_reply": "2022-09-14T18:43:02.467104Z",
     "shell.execute_reply.started": "2022-09-14T18:43:02.461149Z"
    },
    "tags": []
   },
   "outputs": [],
   "source": [
    "K_local = Kcomp.evaldict({'I':Ival})"
   ]
  },
  {
   "cell_type": "code",
   "execution_count": 44,
   "id": "a6e16420-7872-41d6-a86c-dc722300f1d5",
   "metadata": {
    "execution": {
     "iopub.execute_input": "2022-09-14T18:43:12.545973Z",
     "iopub.status.busy": "2022-09-14T18:43:12.545973Z",
     "iopub.status.idle": "2022-09-14T18:43:12.559171Z",
     "shell.execute_reply": "2022-09-14T18:43:12.558971Z",
     "shell.execute_reply.started": "2022-09-14T18:43:12.545973Z"
    },
    "tags": []
   },
   "outputs": [],
   "source": [
    "#def compute_K_augmented(K_local)\n",
    "K_local = K_local.reshape(num_elements, 4, 4)\n",
    "num_nodes = num_elements + 1\n",
    "num_entry = num_elements * 12 + 4\n",
    "ndim = num_entry + 4\n",
    "\n",
    "data = np.zeros((ndim, ))\n",
    "cols = np.empty((ndim, ))\n",
    "rows = np.empty((ndim, ))\n",
    "\n",
    "# First element.\n",
    "data[:16] = K_local[0,:,:].flat\n",
    "cols[:16] = np.tile(np.arange(4), 4)\n",
    "rows[:16] = np.repeat(np.arange(4), 4)\n",
    "\n",
    "j = 16\n",
    "for ind in range(1, num_elements):\n",
    "    ind1 = 2 * ind\n",
    "    K = K_local[ind, :, :]\n",
    "\n",
    "    # NW quadrant gets summed with previous connected element.\n",
    "    data[j-6:j-4] += K[0, :2]\n",
    "    data[j-2:j] += K[1, :2]\n",
    "\n",
    "    # NE quadrant\n",
    "    data[j:j+4] = K[:2, 2:].flat\n",
    "    rows[j:j+4] = np.array([ind1, ind1, ind1 + 1, ind1 + 1])\n",
    "    cols[j:j+4] = np.array([ind1 + 2, ind1 + 3, ind1 + 2, ind1 + 3])\n",
    "\n",
    "    # SE and SW quadrants together\n",
    "    data[j+4:j+12] = K[2:, :].flat\n",
    "    rows[j+4:j+12] = np.repeat(np.arange(ind1 + 2, ind1 + 4), 4)\n",
    "    cols[j+4:j+12] = np.tile(np.arange(ind1, ind1 + 4), 2)\n",
    "\n",
    "    j += 12\n",
    "\n",
    "data[-4:] = 1.0\n",
    "rows[-4] = 2 * num_nodes\n",
    "rows[-3] = 2 * num_nodes + 1\n",
    "rows[-2] = 0.0\n",
    "rows[-1] = 1.0\n",
    "cols[-4] = 0.0\n",
    "cols[-3] = 1.0\n",
    "cols[-2] = 2 * num_nodes\n",
    "cols[-1] = 2 * num_nodes + 1\n",
    "\n",
    "n_K = 2 * num_nodes + 2"
   ]
  },
  {
   "cell_type": "code",
   "execution_count": 45,
   "id": "ba340a94-c3d9-477a-b789-b0a91dd95628",
   "metadata": {
    "execution": {
     "iopub.execute_input": "2022-09-14T18:43:18.729076Z",
     "iopub.status.busy": "2022-09-14T18:43:18.728075Z",
     "iopub.status.idle": "2022-09-14T18:43:18.747055Z",
     "shell.execute_reply": "2022-09-14T18:43:18.746055Z",
     "shell.execute_reply.started": "2022-09-14T18:43:18.729076Z"
    },
    "tags": []
   },
   "outputs": [],
   "source": [
    "from scipy.sparse import coo_matrix\n",
    "from scipy.sparse.linalg import splu\n",
    "Ksp = coo_matrix((data, (rows, cols)), shape=(n_K, n_K)).tocsc()"
   ]
  },
  {
   "cell_type": "code",
   "execution_count": 47,
   "id": "7c3e8d95-b435-4002-a291-02d7c1e085af",
   "metadata": {
    "execution": {
     "iopub.execute_input": "2022-09-14T18:43:46.784086Z",
     "iopub.status.busy": "2022-09-14T18:43:46.784086Z",
     "iopub.status.idle": "2022-09-14T18:43:46.799327Z",
     "shell.execute_reply": "2022-09-14T18:43:46.799202Z",
     "shell.execute_reply.started": "2022-09-14T18:43:46.784086Z"
    },
    "tags": []
   },
   "outputs": [],
   "source": [
    "#Ksp.todense()"
   ]
  },
  {
   "cell_type": "code",
   "execution_count": 22,
   "id": "e0f0016e-6433-4853-aa67-b213a0022d45",
   "metadata": {
    "execution": {
     "iopub.execute_input": "2022-09-14T18:04:50.389584Z",
     "iopub.status.busy": "2022-09-14T18:04:50.388551Z",
     "iopub.status.idle": "2022-09-14T18:04:50.407456Z",
     "shell.execute_reply": "2022-09-14T18:04:50.407456Z",
     "shell.execute_reply.started": "2022-09-14T18:04:50.389584Z"
    }
   },
   "outputs": [
    {
     "data": {
      "text/plain": [
       "array([[ 12000.,    600., -12000.,    600.],\n",
       "       [   600.,     40.,   -600.,     20.],\n",
       "       [-12000.,   -600.,  12000.,   -600.],\n",
       "       [   600.,     20.,   -600.,     40.]])"
      ]
     },
     "execution_count": 22,
     "metadata": {},
     "output_type": "execute_result"
    }
   ],
   "source": [
    "KLcomp = Component(compute_K_augmented, inputs=('K_local',), outputs=('K_aug',), \n",
    "                   indims=(num_elements*16,), outdims=(num_elements*16,))"
   ]
  },
  {
   "cell_type": "code",
   "execution_count": null,
   "id": "bdf3ab4a-4e31-4ef8-a642-67111aaf0fce",
   "metadata": {},
   "outputs": [],
   "source": []
  }
 ],
 "metadata": {
  "kernelspec": {
   "display_name": "Python [conda env:minimdo]",
   "language": "python",
   "name": "conda-env-minimdo-py"
  },
  "language_info": {
   "codemirror_mode": {
    "name": "ipython",
    "version": 3
   },
   "file_extension": ".py",
   "mimetype": "text/x-python",
   "name": "python",
   "nbconvert_exporter": "python",
   "pygments_lexer": "ipython3",
   "version": "3.9.12"
  }
 },
 "nbformat": 4,
 "nbformat_minor": 5
}
