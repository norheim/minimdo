{
 "cells": [
  {
   "cell_type": "code",
   "execution_count": 1,
   "id": "8f054005-45c7-4d12-9030-806283526b75",
   "metadata": {
    "execution": {
     "iopub.execute_input": "2022-08-30T09:25:39.716556Z",
     "iopub.status.busy": "2022-08-30T09:25:39.716021Z",
     "iopub.status.idle": "2022-08-30T09:25:46.984689Z",
     "shell.execute_reply": "2022-08-30T09:25:46.984180Z",
     "shell.execute_reply.started": "2022-08-30T09:25:39.716556Z"
    },
    "tags": []
   },
   "outputs": [],
   "source": [
    "from testproblems import random_problem_with_artifacts\n",
    "from datastructures.operators import eqv_to_edges_tree, reformulate, invert_edges\n",
    "from datastructures.graphutils import flat_graph_formulation, Node, COMP, VAR\n",
    "from datastructures.rendering import render_incidence\n",
    "from datastructures.tearing import min_max_scc2, min_arc_set_assign, min_arc_set, feedbacks\n",
    "import numpy as np\n",
    "import networkx as nx\n",
    "import matplotlib.pyplot as plt\n",
    "plt.rcParams['text.usetex'] = True"
   ]
  },
  {
   "cell_type": "markdown",
   "id": "0f614995-1ec1-4eff-bfa4-dcc14c826fbc",
   "metadata": {},
   "source": [
    "# Restructuring algorithms"
   ]
  },
  {
   "cell_type": "code",
   "execution_count": 2,
   "id": "f50dafc1-c860-46f9-8e6a-cdf04c6d9d5b",
   "metadata": {
    "execution": {
     "iopub.execute_input": "2022-08-30T09:25:47.973799Z",
     "iopub.status.busy": "2022-08-30T09:25:47.973799Z",
     "iopub.status.idle": "2022-08-30T09:25:47.995440Z",
     "shell.execute_reply": "2022-08-30T09:25:47.994668Z",
     "shell.execute_reply.started": "2022-08-30T09:25:47.973799Z"
    },
    "tags": []
   },
   "outputs": [],
   "source": [
    "m,n,seed,sparsity = 10, 12, 229, 4. \n",
    "kwargs = random_problem_with_artifacts(m,n,seed,sparsity, independent_of_n=True)"
   ]
  },
  {
   "cell_type": "code",
   "execution_count": 3,
   "id": "4931a100-9484-475c-b2ac-6786db64e619",
   "metadata": {
    "execution": {
     "iopub.execute_input": "2022-08-30T09:25:48.484975Z",
     "iopub.status.busy": "2022-08-30T09:25:48.484975Z",
     "iopub.status.idle": "2022-08-30T09:25:48.498941Z",
     "shell.execute_reply": "2022-08-30T09:25:48.498295Z",
     "shell.execute_reply.started": "2022-08-30T09:25:48.484975Z"
    },
    "tags": []
   },
   "outputs": [],
   "source": [
    "eq_incidence,outset,eqnidxs,edges_varonleft,varidxs = map(kwargs.get, [\"eq_incidence\",\"outset\",\"eqnidxs\",\"edges_varonleft\",\"varidxs\"])"
   ]
  },
  {
   "cell_type": "markdown",
   "id": "2fd11a67-99b3-4b5d-9627-b41e322eb26a",
   "metadata": {},
   "source": [
    "## Calculated row density"
   ]
  },
  {
   "cell_type": "code",
   "execution_count": 4,
   "id": "690b488f-07e9-405f-8035-b34de17558c5",
   "metadata": {
    "execution": {
     "iopub.execute_input": "2022-08-30T09:25:49.231653Z",
     "iopub.status.busy": "2022-08-30T09:25:49.231653Z",
     "iopub.status.idle": "2022-08-30T09:25:49.253852Z",
     "shell.execute_reply": "2022-08-30T09:25:49.253350Z",
     "shell.execute_reply.started": "2022-08-30T09:25:49.231653Z"
    },
    "tags": []
   },
   "outputs": [
    {
     "data": {
      "text/plain": [
       "4.0"
      ]
     },
     "execution_count": 4,
     "metadata": {},
     "output_type": "execute_result"
    }
   ],
   "source": [
    "np.mean([len(val) for val in eq_incidence.values()])"
   ]
  },
  {
   "cell_type": "code",
   "execution_count": 5,
   "id": "f14f4990-edf6-4afc-9368-58c71138c790",
   "metadata": {
    "execution": {
     "iopub.execute_input": "2022-08-30T09:25:49.710164Z",
     "iopub.status.busy": "2022-08-30T09:25:49.709165Z",
     "iopub.status.idle": "2022-08-30T09:25:49.727146Z",
     "shell.execute_reply": "2022-08-30T09:25:49.727146Z",
     "shell.execute_reply.started": "2022-08-30T09:25:49.710164Z"
    },
    "tags": []
   },
   "outputs": [],
   "source": [
    "vizargs = {'figsize':(4,4), 'rotation':60, 'hideticks':True, 'fontsize':22, 'patchwidth':4}"
   ]
  },
  {
   "cell_type": "markdown",
   "id": "16ea5943-027f-4b62-849c-2ccb0dea1c0f",
   "metadata": {},
   "source": [
    "## Undirected formulation"
   ]
  },
  {
   "cell_type": "markdown",
   "id": "6d6beee0-f399-46f9-ab7b-3eb2c8f309bf",
   "metadata": {},
   "source": [
    "We see all sizing relationships as \"equality constraints\""
   ]
  },
  {
   "cell_type": "code",
   "execution_count": 6,
   "id": "b3ec84d4-70dd-427c-aeaf-f2d23cc3c1cb",
   "metadata": {
    "execution": {
     "iopub.execute_input": "2022-08-30T09:25:51.127414Z",
     "iopub.status.busy": "2022-08-30T09:25:51.127414Z",
     "iopub.status.idle": "2022-08-30T09:25:51.146329Z",
     "shell.execute_reply": "2022-08-30T09:25:51.145887Z",
     "shell.execute_reply.started": "2022-08-30T09:25:51.127414Z"
    },
    "tags": []
   },
   "outputs": [],
   "source": [
    "edges_undir,tree_undir,_ = eqv_to_edges_tree(eq_incidence, n_eqs=m)\n",
    "edges_dir,tree_dir,outset_adj = eqv_to_edges_tree(eq_incidence, outset, n_eqs=m)\n",
    "tree_undir[2].update({val:1 for val in outset_adj.values()})"
   ]
  },
  {
   "cell_type": "code",
   "execution_count": 7,
   "id": "7d6799a9-8c4a-4fd3-9ec5-e810da435cec",
   "metadata": {
    "execution": {
     "iopub.execute_input": "2022-08-30T09:25:55.276374Z",
     "iopub.status.busy": "2022-08-30T09:25:55.276374Z",
     "iopub.status.idle": "2022-08-30T09:25:56.260637Z",
     "shell.execute_reply": "2022-08-30T09:25:56.259986Z",
     "shell.execute_reply.started": "2022-08-30T09:25:55.276374Z"
    },
    "tags": []
   },
   "outputs": [
    {
     "data": {
      "image/png": "[encoded data removed]",
      "text/plain": [
       "<Figure size 288x288 with 1 Axes>"
      ]
     },
     "metadata": {
      "needs_background": "light"
     },
     "output_type": "display_data"
    }
   ],
   "source": [
    "render_incidence(edges_undir, tree_undir, **vizargs);"
   ]
  },
  {
   "cell_type": "markdown",
   "id": "d27f0574-3bcd-451b-a85c-c0bc384c39ac",
   "metadata": {},
   "source": [
    "## Directed formulation\n",
    "Unstructured based on randomness"
   ]
  },
  {
   "cell_type": "code",
   "execution_count": 8,
   "id": "9a2b7754-7492-4e4b-b56f-7913d8fe0489",
   "metadata": {
    "execution": {
     "iopub.execute_input": "2022-08-30T09:26:05.388968Z",
     "iopub.status.busy": "2022-08-30T09:26:05.388968Z",
     "iopub.status.idle": "2022-08-30T09:26:05.568608Z",
     "shell.execute_reply": "2022-08-30T09:26:05.568608Z",
     "shell.execute_reply.started": "2022-08-30T09:26:05.388968Z"
    },
    "tags": []
   },
   "outputs": [
    {
     "data": {
      "image/png": "[encoded data removed]",
      "text/plain": [
       "<Figure size 288x288 with 1 Axes>"
      ]
     },
     "metadata": {
      "needs_background": "light"
     },
     "output_type": "display_data"
    }
   ],
   "source": [
    "render_incidence(edges_dir, tree_dir, **vizargs);"
   ]
  },
  {
   "cell_type": "markdown",
   "id": "09584255-4392-479b-aeeb-630c5e222a1b",
   "metadata": {},
   "source": [
    "## Polynomial restructuring algorithms"
   ]
  },
  {
   "cell_type": "markdown",
   "id": "570f28ff-c359-4145-a9bf-4946ad4b4f7b",
   "metadata": {},
   "source": [
    "### Reformulated based on feedback from unstructured"
   ]
  },
  {
   "cell_type": "code",
   "execution_count": 9,
   "id": "f68b7dce-46a2-4670-b21b-2503e4b6a588",
   "metadata": {
    "execution": {
     "iopub.execute_input": "2022-08-30T09:26:29.235592Z",
     "iopub.status.busy": "2022-08-30T09:26:29.235592Z",
     "iopub.status.idle": "2022-08-30T09:26:29.261202Z",
     "shell.execute_reply": "2022-08-30T09:26:29.261202Z",
     "shell.execute_reply.started": "2022-08-30T09:26:29.235592Z"
    },
    "tags": []
   },
   "outputs": [],
   "source": [
    "D = flat_graph_formulation(*edges_dir)\n",
    "fvars, fcomps = feedbacks(D, [Node(idx,COMP) for idx in eqnidxs])\n",
    "outset_f = {comp:var for comp,var in outset.items() if Node(comp,COMP) not in fcomps}\n",
    "edges_fb,tree_fb,_ = eqv_to_edges_tree(eq_incidence, outset_f, n_eqs=m)\n",
    "tree_fb[2].update({v.name: 1 for v in sorted(fvars, key=lambda x: x.name)})"
   ]
  },
  {
   "cell_type": "code",
   "execution_count": 10,
   "id": "1dcd5294-b963-460c-b6f5-a0e1a807124f",
   "metadata": {
    "execution": {
     "iopub.execute_input": "2022-08-30T09:26:30.109535Z",
     "iopub.status.busy": "2022-08-30T09:26:30.108539Z",
     "iopub.status.idle": "2022-08-30T09:26:30.259265Z",
     "shell.execute_reply": "2022-08-30T09:26:30.259057Z",
     "shell.execute_reply.started": "2022-08-30T09:26:30.109535Z"
    },
    "tags": []
   },
   "outputs": [
    {
     "data": {
      "image/png": "[encoded data removed]",
      "text/plain": [
       "<Figure size 288x288 with 1 Axes>"
      ]
     },
     "metadata": {
      "needs_background": "light"
     },
     "output_type": "display_data"
    }
   ],
   "source": [
    "render_incidence(edges_fb, tree_fb, **vizargs);"
   ]
  },
  {
   "cell_type": "markdown",
   "id": "b4d05252-854b-4bde-9e31-32ffd75cd3e1",
   "metadata": {},
   "source": [
    "### Condensation (Tarjan's algorithm)\n",
    "Gives a topological sorting of the strongly connected components"
   ]
  },
  {
   "cell_type": "markdown",
   "id": "fb884c65-e58e-47e3-b557-f4cb414be837",
   "metadata": {},
   "source": [
    "#### Block reduce (subproblems)"
   ]
  },
  {
   "cell_type": "code",
   "execution_count": 11,
   "id": "bc060feb-e154-460d-833d-e36a817d6806",
   "metadata": {
    "execution": {
     "iopub.execute_input": "2022-08-30T09:26:47.702669Z",
     "iopub.status.busy": "2022-08-30T09:26:47.701669Z",
     "iopub.status.idle": "2022-08-30T09:26:47.887513Z",
     "shell.execute_reply": "2022-08-30T09:26:47.886581Z",
     "shell.execute_reply.started": "2022-08-30T09:26:47.701669Z"
    },
    "tags": []
   },
   "outputs": [
    {
     "data": {
      "image/png": "[encoded data removed]",
      "text/plain": [
       "<Figure size 288x288 with 1 Axes>"
      ]
     },
     "metadata": {
      "needs_background": "light"
     },
     "output_type": "display_data"
    }
   ],
   "source": [
    "formulation_scc = reformulate(edges_dir, tree_dir, root_solver_name=1)\n",
    "render_incidence(*formulation_scc, **vizargs);"
   ]
  },
  {
   "cell_type": "markdown",
   "id": "67af2f28-5c9d-48c3-afa5-95155438ef8c",
   "metadata": {},
   "source": [
    "#### Border reduce (no-subproblem)"
   ]
  },
  {
   "cell_type": "code",
   "execution_count": 12,
   "id": "bdbba028-a126-4c0a-b580-29bf379bb871",
   "metadata": {
    "execution": {
     "iopub.execute_input": "2022-08-30T09:26:52.033416Z",
     "iopub.status.busy": "2022-08-30T09:26:52.032430Z",
     "iopub.status.idle": "2022-08-30T09:26:52.190760Z",
     "shell.execute_reply": "2022-08-30T09:26:52.190214Z",
     "shell.execute_reply.started": "2022-08-30T09:26:52.033416Z"
    },
    "tags": []
   },
   "outputs": [
    {
     "data": {
      "image/png": "[encoded data removed]",
      "text/plain": [
       "<Figure size 288x288 with 1 Axes>"
      ]
     },
     "metadata": {
      "needs_background": "light"
     },
     "output_type": "display_data"
    }
   ],
   "source": [
    "formulation_scc = reformulate(edges_dir, tree_dir, root_solver_name=1, mdf=False)\n",
    "render_incidence(*formulation_scc, **vizargs);"
   ]
  },
  {
   "cell_type": "markdown",
   "id": "33158b92-ff27-4ee7-a999-a383348f078b",
   "metadata": {},
   "source": [
    "### Fine Dumlage-Menelsohn decomposition"
   ]
  },
  {
   "cell_type": "markdown",
   "id": "ba46a1c1-069a-4b6f-a551-cb0b735eb305",
   "metadata": {},
   "source": [
    "Returns the same formulation as Tarjan's algorithm"
   ]
  },
  {
   "cell_type": "code",
   "execution_count": 13,
   "id": "df3cf86d-6441-49a0-8cef-ff9f66fb1603",
   "metadata": {
    "execution": {
     "iopub.execute_input": "2022-08-30T09:26:55.154081Z",
     "iopub.status.busy": "2022-08-30T09:26:55.153081Z",
     "iopub.status.idle": "2022-08-30T09:26:55.175831Z",
     "shell.execute_reply": "2022-08-30T09:26:55.174641Z",
     "shell.execute_reply.started": "2022-08-30T09:26:55.154081Z"
    },
    "tags": []
   },
   "outputs": [],
   "source": [
    "Ein_no_source = {comp:tuple(var for var in allvars if var in outset.values()) for comp,allvars in eq_incidence.items()}\n",
    "G = flat_graph_formulation(Ein_no_source,{},{},{VAR: 'x_{{{}}}', COMP: 'f_{{{}}}'})\n",
    "matching = nx.bipartite.maximum_matching(G)\n",
    "m_out = {key: matching[Node(key, COMP)].name for key in eqnidxs}\n",
    "edges_dir_m,tree_dir_m,_ = eqv_to_edges_tree(eq_incidence, m_out, n_eqs=m)"
   ]
  },
  {
   "cell_type": "markdown",
   "id": "19a9f774-9739-4768-8a6e-7b0d92459d47",
   "metadata": {},
   "source": [
    "#### Block reduce (subproblems)"
   ]
  },
  {
   "cell_type": "code",
   "execution_count": 14,
   "id": "84645a8e-beb7-4af4-8f3e-b23b88c1b387",
   "metadata": {
    "execution": {
     "iopub.execute_input": "2022-08-30T09:26:57.875488Z",
     "iopub.status.busy": "2022-08-30T09:26:57.873488Z",
     "iopub.status.idle": "2022-08-30T09:26:58.061808Z",
     "shell.execute_reply": "2022-08-30T09:26:58.061076Z",
     "shell.execute_reply.started": "2022-08-30T09:26:57.875488Z"
    },
    "tags": []
   },
   "outputs": [
    {
     "data": {
      "image/png": "[encoded data removed]",
      "text/plain": [
       "<Figure size 288x288 with 1 Axes>"
      ]
     },
     "metadata": {
      "needs_background": "light"
     },
     "output_type": "display_data"
    }
   ],
   "source": [
    "formulation_scc_m = reformulate(edges_dir_m, tree_dir_m, root_solver_name=1)\n",
    "render_incidence(*formulation_scc_m, **vizargs);"
   ]
  },
  {
   "cell_type": "markdown",
   "id": "50096749-5c60-4bd6-a284-b5d91ca25555",
   "metadata": {},
   "source": [
    "#### Border reduce (no-subproblem)"
   ]
  },
  {
   "cell_type": "code",
   "execution_count": 16,
   "id": "863c9f97-faea-4fca-b304-f4e15f558fc2",
   "metadata": {
    "execution": {
     "iopub.execute_input": "2022-08-30T09:27:13.028273Z",
     "iopub.status.busy": "2022-08-30T09:27:13.028273Z",
     "iopub.status.idle": "2022-08-30T09:27:13.250640Z",
     "shell.execute_reply": "2022-08-30T09:27:13.249927Z",
     "shell.execute_reply.started": "2022-08-30T09:27:13.028273Z"
    },
    "tags": []
   },
   "outputs": [
    {
     "data": {
      "image/png": "[encoded data removed]",
      "text/plain": [
       "<Figure size 288x288 with 1 Axes>"
      ]
     },
     "metadata": {
      "needs_background": "light"
     },
     "output_type": "display_data"
    }
   ],
   "source": [
    "formulation_scc_m = reformulate(edges_dir_m, tree_dir_m, root_solver_name=1, mdf=False)\n",
    "render_incidence(*formulation_scc_m, **vizargs);"
   ]
  },
  {
   "cell_type": "markdown",
   "id": "1ad5b558-5a0a-46db-bff9-084273f21b1d",
   "metadata": {},
   "source": [
    "## Optimization-based algorithms (NP-complete)"
   ]
  },
  {
   "cell_type": "markdown",
   "id": "2a9746b2-a7f6-4a3b-836f-6fc6954254de",
   "metadata": {},
   "source": [
    "### Minimum Feedback Arc Set (FAS)"
   ]
  },
  {
   "cell_type": "code",
   "execution_count": 17,
   "id": "657ffa4b-e4c8-4baa-a5ea-6e43dd56e863",
   "metadata": {
    "execution": {
     "iopub.execute_input": "2022-08-30T09:27:16.271398Z",
     "iopub.status.busy": "2022-08-30T09:27:16.270390Z",
     "iopub.status.idle": "2022-08-30T09:27:16.339498Z",
     "shell.execute_reply": "2022-08-30T09:27:16.339498Z",
     "shell.execute_reply.started": "2022-08-30T09:27:16.271398Z"
    },
    "tags": []
   },
   "outputs": [
    {
     "name": "stdout",
     "output_type": "stream",
     "text": [
      "Set parameter Username\n",
      "Academic license - for non-commercial use only - expires 2023-02-25\n"
     ]
    }
   ],
   "source": [
    "cycles, elimset, model = min_arc_set(edges_varonleft, outset, varidxs, eqnidxs)"
   ]
  },
  {
   "cell_type": "code",
   "execution_count": 18,
   "id": "3d09447d-cfb6-4f71-9001-b2841d57ce09",
   "metadata": {
    "execution": {
     "iopub.execute_input": "2022-08-30T09:27:16.643937Z",
     "iopub.status.busy": "2022-08-30T09:27:16.643937Z",
     "iopub.status.idle": "2022-08-30T09:27:16.653219Z",
     "shell.execute_reply": "2022-08-30T09:27:16.652688Z",
     "shell.execute_reply.started": "2022-08-30T09:27:16.643937Z"
    },
    "tags": []
   },
   "outputs": [
    {
     "data": {
      "text/plain": [
       "({0, 1}, {7, 9})"
      ]
     },
     "execution_count": 18,
     "metadata": {},
     "output_type": "execute_result"
    }
   ],
   "source": [
    "elimset, {outset_adj[elt] for elt in elimset}"
   ]
  },
  {
   "cell_type": "code",
   "execution_count": 19,
   "id": "fc070d78-1a96-4f94-ae94-21ded2a5497a",
   "metadata": {
    "execution": {
     "iopub.execute_input": "2022-08-30T09:27:16.959294Z",
     "iopub.status.busy": "2022-08-30T09:27:16.959294Z",
     "iopub.status.idle": "2022-08-30T09:27:16.979926Z",
     "shell.execute_reply": "2022-08-30T09:27:16.979926Z",
     "shell.execute_reply.started": "2022-08-30T09:27:16.959294Z"
    },
    "tags": []
   },
   "outputs": [],
   "source": [
    "outset_mfs = {key:val for key,val in outset_adj.items() if key not in elimset}"
   ]
  },
  {
   "cell_type": "markdown",
   "id": "5aaf9afc-a602-4aad-bfc7-73d7fc8aa307",
   "metadata": {},
   "source": [
    "Compare to condensation (Tarjan's algorithm) results. Size of problem is reduced to 2."
   ]
  },
  {
   "cell_type": "code",
   "execution_count": 20,
   "id": "b22a0423-9463-4078-b763-7efa0c9dc330",
   "metadata": {
    "execution": {
     "iopub.execute_input": "2022-08-30T09:27:17.727043Z",
     "iopub.status.busy": "2022-08-30T09:27:17.726043Z",
     "iopub.status.idle": "2022-08-30T09:27:17.904401Z",
     "shell.execute_reply": "2022-08-30T09:27:17.903813Z",
     "shell.execute_reply.started": "2022-08-30T09:27:17.727043Z"
    },
    "tags": []
   },
   "outputs": [
    {
     "data": {
      "image/png": "[encoded data removed]",
      "text/plain": [
       "<Figure size 288x288 with 1 Axes>"
      ]
     },
     "metadata": {
      "needs_background": "light"
     },
     "output_type": "display_data"
    }
   ],
   "source": [
    "formulation_mfs = reformulate(edges_dir, tree_dir, outset_adj, outset_mfs, root_solver_name=1, solveforvars=2)\n",
    "render_incidence(*formulation_mfs, **vizargs);"
   ]
  },
  {
   "cell_type": "markdown",
   "id": "533fc8eb-89f3-4210-9ecf-ad7bd9202ec5",
   "metadata": {},
   "source": [
    "### Regular tearing"
   ]
  },
  {
   "cell_type": "markdown",
   "id": "9470d59e-4d30-45c6-8716-f7675002b819",
   "metadata": {},
   "source": [
    "In this problem regular tearing does not do any better than FAS"
   ]
  },
  {
   "cell_type": "code",
   "execution_count": 21,
   "id": "1f7e8916-3654-4d88-90bc-8580938512fe",
   "metadata": {
    "execution": {
     "iopub.execute_input": "2022-08-30T09:27:21.058537Z",
     "iopub.status.busy": "2022-08-30T09:27:21.057522Z",
     "iopub.status.idle": "2022-08-30T09:27:21.068147Z",
     "shell.execute_reply": "2022-08-30T09:27:21.068147Z",
     "shell.execute_reply.started": "2022-08-30T09:27:21.058537Z"
    },
    "tags": []
   },
   "outputs": [],
   "source": [
    "fixed_inputs = set(varidxs)-set(outset.values())"
   ]
  },
  {
   "cell_type": "code",
   "execution_count": 22,
   "id": "389b7fd5-de5a-4bb6-9156-f077e91c8ab1",
   "metadata": {
    "execution": {
     "iopub.execute_input": "2022-08-30T09:27:21.660430Z",
     "iopub.status.busy": "2022-08-30T09:27:21.659433Z",
     "iopub.status.idle": "2022-08-30T09:27:22.363899Z",
     "shell.execute_reply": "2022-08-30T09:27:22.363899Z",
     "shell.execute_reply.started": "2022-08-30T09:27:21.660430Z"
    },
    "tags": []
   },
   "outputs": [
    {
     "data": {
      "image/png": "[encoded data removed]",
      "text/plain": [
       "<Figure size 288x288 with 1 Axes>"
      ]
     },
     "metadata": {
      "needs_background": "light"
     },
     "output_type": "display_data"
    }
   ],
   "source": [
    "xsol, model = min_arc_set_assign(edges_varonleft, varidxs, eqnidxs, not_output=fixed_inputs)\n",
    "outset_tear = dict((right, left-m) for left, right in edges_varonleft if xsol[left, right] > 0.5)\n",
    "formulation_tear = reformulate(edges_dir, tree_dir, outset_adj, outset_tear, \n",
    "                               not_outputs={elt-m for elt in fixed_inputs},\n",
    "                               root_solver_name=1)\n",
    "render_incidence(*formulation_tear, **vizargs);"
   ]
  },
  {
   "cell_type": "markdown",
   "id": "7b4ee40c-5606-46d2-8765-b8ce3528dc96",
   "metadata": {},
   "source": [
    "### Extended tearing"
   ]
  },
  {
   "cell_type": "markdown",
   "id": "254b3928-0b6c-4b7f-acb1-c7b71e512d0c",
   "metadata": {},
   "source": [
    "We change the inputs to be $x_8$ and $x_9$ and reduce the problem size further to 1"
   ]
  },
  {
   "cell_type": "code",
   "execution_count": 23,
   "id": "f9b4098f-272a-4245-b29f-362a5acc8198",
   "metadata": {
    "execution": {
     "iopub.execute_input": "2022-08-30T09:27:25.009115Z",
     "iopub.status.busy": "2022-08-30T09:27:25.009115Z",
     "iopub.status.idle": "2022-08-30T09:27:25.514898Z",
     "shell.execute_reply": "2022-08-30T09:27:25.514898Z",
     "shell.execute_reply.started": "2022-08-30T09:27:25.009115Z"
    },
    "tags": []
   },
   "outputs": [],
   "source": [
    "xsol, model = min_arc_set_assign(edges_varonleft, varidxs, eqnidxs)\n",
    "outset_minassign = dict((right, left-m) for left, right in edges_varonleft if xsol[left, right] > 0.5)"
   ]
  },
  {
   "cell_type": "code",
   "execution_count": 24,
   "id": "3917ec9e-9f05-4d79-9975-b707a73878a8",
   "metadata": {
    "execution": {
     "iopub.execute_input": "2022-08-30T09:27:25.676401Z",
     "iopub.status.busy": "2022-08-30T09:27:25.675402Z",
     "iopub.status.idle": "2022-08-30T09:27:25.688955Z",
     "shell.execute_reply": "2022-08-30T09:27:25.687955Z",
     "shell.execute_reply.started": "2022-08-30T09:27:25.675402Z"
    },
    "tags": []
   },
   "outputs": [],
   "source": [
    "edges_minassign=invert_edges(edges_undir[0], edges_undir[1], outset_minassign) "
   ]
  },
  {
   "cell_type": "code",
   "execution_count": 25,
   "id": "f7dd7e47-6bc0-4b73-bb20-6aa900933d41",
   "metadata": {
    "execution": {
     "iopub.execute_input": "2022-08-30T09:27:26.179791Z",
     "iopub.status.busy": "2022-08-30T09:27:26.178816Z",
     "iopub.status.idle": "2022-08-30T09:27:26.347148Z",
     "shell.execute_reply": "2022-08-30T09:27:26.346063Z",
     "shell.execute_reply.started": "2022-08-30T09:27:26.179791Z"
    },
    "tags": []
   },
   "outputs": [
    {
     "data": {
      "image/png": "[encoded data removed]",
      "text/plain": [
       "<Figure size 288x288 with 1 Axes>"
      ]
     },
     "metadata": {
      "needs_background": "light"
     },
     "output_type": "display_data"
    }
   ],
   "source": [
    "formulation_minassign = reformulate(edges_undir, tree_dir, outset_adj, outset_minassign, root_solver_name=1)\n",
    "render_incidence(*formulation_minassign, **vizargs);"
   ]
  },
  {
   "cell_type": "markdown",
   "id": "290ee4e7-8cb7-4c4e-b265-0dee4a439c0e",
   "metadata": {},
   "source": [
    "### Reduced subproblems"
   ]
  },
  {
   "cell_type": "markdown",
   "id": "aac492cc-2189-4cc5-b7b6-faa053e19f5d",
   "metadata": {},
   "source": [
    "Compare results to condensation (Tarjan's algorithm) results with block reduce "
   ]
  },
  {
   "cell_type": "code",
   "execution_count": 26,
   "id": "6df80577-6240-4727-9a4a-e224dad41c50",
   "metadata": {
    "execution": {
     "iopub.execute_input": "2022-08-30T09:27:30.607097Z",
     "iopub.status.busy": "2022-08-30T09:27:30.606167Z",
     "iopub.status.idle": "2022-08-30T09:27:30.898099Z",
     "shell.execute_reply": "2022-08-30T09:27:30.897587Z",
     "shell.execute_reply.started": "2022-08-30T09:27:30.607097Z"
    },
    "tags": []
   },
   "outputs": [
    {
     "data": {
      "image/png": "[encoded data removed]",
      "text/plain": [
       "<Figure size 288x288 with 1 Axes>"
      ]
     },
     "metadata": {
      "needs_background": "light"
     },
     "output_type": "display_data"
    }
   ],
   "source": [
    "xsol, model = min_max_scc2(edges_varonleft, varidxs, eqnidxs)\n",
    "outset_minscc = dict((right, left-m) for left, right in edges_varonleft if xsol[left, right] > 0.5)\n",
    "formulation_minscc = reformulate(edges_dir, tree_dir, outset_adj, outset_minscc, root_solver_name=1)\n",
    "render_incidence(*formulation_minscc, **vizargs);"
   ]
  }
 ],
 "metadata": {
  "kernelspec": {
   "display_name": "Python [conda env:minimdo]",
   "language": "python",
   "name": "conda-env-minimdo-py"
  },
  "language_info": {
   "codemirror_mode": {
    "name": "ipython",
    "version": 3
   },
   "file_extension": ".py",
   "mimetype": "text/x-python",
   "name": "python",
   "nbconvert_exporter": "python",
   "pygments_lexer": "ipython3",
   "version": "3.9.12"
  }
 },
 "nbformat": 4,
 "nbformat_minor": 5
}
