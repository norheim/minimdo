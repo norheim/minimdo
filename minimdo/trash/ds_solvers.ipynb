{
 "cells": [
  {
   "cell_type": "code",
   "execution_count": 1,
   "id": "bb5bb14a-1f33-4cc7-9473-173fc9ccf756",
   "metadata": {
    "execution": {
     "iopub.execute_input": "2022-02-02T04:00:45.777051Z",
     "iopub.status.busy": "2022-02-02T04:00:45.776046Z",
     "iopub.status.idle": "2022-02-02T04:00:52.668684Z",
     "shell.execute_reply": "2022-02-02T04:00:52.667692Z",
     "shell.execute_reply.started": "2022-02-02T04:00:45.776046Z"
    },
    "tags": []
   },
   "outputs": [],
   "source": [
    "from compute import Model, Var, adda, addf, addsolver, geteqs\n",
    "from compute import INTER, END, SOLVER, RefNode\n",
    "from representations import render_tree, digraph_repr, drawfull, draw, tree_incidence\n",
    "from operators import merge_pure\n",
    "from anytree import LevelOrderIter\n",
    "from notation import generate_execution, graphs_from_incidence, make_acyclic, default_sequence\n",
    "from datastructures import notation_from_tree, all_vars_from_incidence\n",
    "import networkx as nx"
   ]
  },
  {
   "cell_type": "code",
   "execution_count": 11,
   "id": "8af24d22-0ed9-4ea8-942e-ca874ef8d6e0",
   "metadata": {
    "execution": {
     "iopub.execute_input": "2022-02-02T04:01:43.123277Z",
     "iopub.status.busy": "2022-02-02T04:01:43.122278Z",
     "iopub.status.idle": "2022-02-02T04:01:43.144281Z",
     "shell.execute_reply": "2022-02-02T04:01:43.143276Z",
     "shell.execute_reply.started": "2022-02-02T04:01:43.123277Z"
    },
    "tags": []
   },
   "outputs": [],
   "source": [
    "x,c,d,z = Var('x'), Var('c'), Var('d'), Var('z')"
   ]
  },
  {
   "cell_type": "markdown",
   "id": "4bc3650f-00b4-4d17-a734-8bcab04c55df",
   "metadata": {
    "tags": []
   },
   "source": [
    "### a) Top-down: we build up the tree as we go"
   ]
  },
  {
   "cell_type": "code",
   "execution_count": 12,
   "id": "dc293085-3ccd-4fa2-b3ca-3e1d9c47850c",
   "metadata": {
    "execution": {
     "iopub.execute_input": "2022-02-02T04:01:44.789222Z",
     "iopub.status.busy": "2022-02-02T04:01:44.788221Z",
     "iopub.status.idle": "2022-02-02T04:01:44.809799Z",
     "shell.execute_reply": "2022-02-02T04:01:44.808242Z",
     "shell.execute_reply.started": "2022-02-02T04:01:44.789222Z"
    },
    "tags": []
   },
   "outputs": [],
   "source": [
    "model = Model()\n",
    "m = RefNode(name='/', ref=model)\n",
    "y = adda(m, 'y', x)\n",
    "a = adda(m, 'a', c+y)\n",
    "b = adda(m, 'b', a)\n",
    "addf(m, b+d)\n",
    "solver = addsolver(m) \n",
    "addf(solver, a+d)\n",
    "solver.setsolvefor([d]) \n",
    "e = adda(m, 'e', c+b)"
   ]
  },
  {
   "cell_type": "markdown",
   "id": "93ff859e-f0f0-4ae1-896c-049a8a15bb9c",
   "metadata": {},
   "source": [
    "### b) Bottom-up: we create all the leaves and then merge them"
   ]
  },
  {
   "cell_type": "code",
   "execution_count": 13,
   "id": "39f0b94f-4f71-4efb-96fb-87e43b83995f",
   "metadata": {
    "execution": {
     "iopub.execute_input": "2022-02-02T04:01:45.665924Z",
     "iopub.status.busy": "2022-02-02T04:01:45.665924Z",
     "iopub.status.idle": "2022-02-02T04:01:45.689923Z",
     "shell.execute_reply": "2022-02-02T04:01:45.688922Z",
     "shell.execute_reply.started": "2022-02-02T04:01:45.665924Z"
    },
    "tags": []
   },
   "outputs": [],
   "source": [
    "model = Model()\n",
    "m = RefNode(name='/', ref=model)\n",
    "y = adda(m, 'y', x)\n",
    "a = adda(m, 'a', c+y)\n",
    "b = adda(m, 'b', a+z)\n",
    "r_3 = addf(m, b+d)\n",
    "r_4 = addf(m, a+d)\n",
    "s2 = addsolver(m, [], [(r_4, d)], name='s2')\n",
    "e = adda(m, 'e', c+b)"
   ]
  },
  {
   "cell_type": "markdown",
   "id": "d9fcdd62-256c-4a9e-8244-536222285dba",
   "metadata": {},
   "source": [
    "$r_3$ has multiple \"true\" inputs: c and d (since b is an elimination variable), and we pick with respect to which one we solve for projected feasability"
   ]
  },
  {
   "cell_type": "markdown",
   "id": "c2673777-d644-4890-9be2-c39459933ded",
   "metadata": {},
   "source": [
    "### c) bottom-up reset"
   ]
  },
  {
   "cell_type": "code",
   "execution_count": 14,
   "id": "274803c9-2d4f-43b5-911f-208119402a5c",
   "metadata": {
    "execution": {
     "iopub.execute_input": "2022-02-02T04:01:46.870400Z",
     "iopub.status.busy": "2022-02-02T04:01:46.869406Z",
     "iopub.status.idle": "2022-02-02T04:01:46.890400Z",
     "shell.execute_reply": "2022-02-02T04:01:46.887398Z",
     "shell.execute_reply.started": "2022-02-02T04:01:46.870400Z"
    },
    "tags": []
   },
   "outputs": [],
   "source": [
    "f_0, f_1, f_2 = geteqs(m, [y,a,b])"
   ]
  },
  {
   "cell_type": "code",
   "execution_count": 15,
   "id": "df4f80ea-249e-4d0b-ad0b-d3775565f92c",
   "metadata": {
    "execution": {
     "iopub.execute_input": "2022-02-02T04:01:47.270408Z",
     "iopub.status.busy": "2022-02-02T04:01:47.270408Z",
     "iopub.status.idle": "2022-02-02T04:01:47.280395Z",
     "shell.execute_reply": "2022-02-02T04:01:47.279393Z",
     "shell.execute_reply.started": "2022-02-02T04:01:47.270408Z"
    },
    "tags": []
   },
   "outputs": [],
   "source": [
    "s1 = addsolver(m, [f_0, f_1, f_2, s2], [(r_3, c)], name='s1') # could still be cyclic at this point"
   ]
  },
  {
   "cell_type": "markdown",
   "id": "0a360472-cd43-4ec7-b942-ea8a9f85e512",
   "metadata": {},
   "source": [
    "## Generate graphs from incidence structure"
   ]
  },
  {
   "cell_type": "code",
   "execution_count": 16,
   "id": "5b810327-aba3-4ec5-a9e1-22b9828b687f",
   "metadata": {
    "execution": {
     "iopub.execute_input": "2022-02-02T04:01:47.903487Z",
     "iopub.status.busy": "2022-02-02T04:01:47.903487Z",
     "iopub.status.idle": "2022-02-02T04:01:47.909444Z",
     "shell.execute_reply": "2022-02-02T04:01:47.908443Z",
     "shell.execute_reply.started": "2022-02-02T04:01:47.903487Z"
    },
    "tags": []
   },
   "outputs": [],
   "source": [
    "eqs,sparsity,dout,_ = model.data_structures()"
   ]
  },
  {
   "cell_type": "code",
   "execution_count": 17,
   "id": "76b1bdc7-a168-49c9-a01d-24f21a4f3ecf",
   "metadata": {
    "execution": {
     "iopub.execute_input": "2022-02-02T04:01:48.338449Z",
     "iopub.status.busy": "2022-02-02T04:01:48.337441Z",
     "iopub.status.idle": "2022-02-02T04:01:48.350440Z",
     "shell.execute_reply": "2022-02-02T04:01:48.349438Z",
     "shell.execute_reply.started": "2022-02-02T04:01:48.338449Z"
    },
    "tags": []
   },
   "outputs": [],
   "source": [
    "sequence_m = default_sequence(m)"
   ]
  },
  {
   "cell_type": "code",
   "execution_count": 18,
   "id": "c2a78d8e-e593-48c7-85ac-408748febfd3",
   "metadata": {
    "execution": {
     "iopub.execute_input": "2022-02-02T04:01:49.126442Z",
     "iopub.status.busy": "2022-02-02T04:01:49.126442Z",
     "iopub.status.idle": "2022-02-02T04:01:50.012440Z",
     "shell.execute_reply": "2022-02-02T04:01:50.009439Z",
     "shell.execute_reply.started": "2022-02-02T04:01:49.126442Z"
    },
    "tags": []
   },
   "outputs": [
    {
     "data": {
      "image/png": "[encoded data removed]",
      "text/plain": [
       "<Figure size 720x720 with 1 Axes>"
      ]
     },
     "metadata": {
      "needs_background": "light"
     },
     "output_type": "display_data"
    }
   ],
   "source": [
    "fig, ax = tree_incidence(m, sparsity, model.outset, sequence_m, figsize=(10,10));\n",
    "#plt.sca(ax)\n",
    "#plt.savefig('figures/balloon_user.png', dpi=600, bbox_inches='tight')"
   ]
  },
  {
   "cell_type": "code",
   "execution_count": 17,
   "id": "056f7a5f-64f1-4913-b199-99c8d7ce4776",
   "metadata": {
    "execution": {
     "iopub.execute_input": "2022-01-25T22:05:47.097356Z",
     "iopub.status.busy": "2022-01-25T22:05:47.096357Z",
     "iopub.status.idle": "2022-01-25T22:05:47.115351Z",
     "shell.execute_reply": "2022-01-25T22:05:47.114353Z",
     "shell.execute_reply.started": "2022-01-25T22:05:47.097356Z"
    },
    "tags": []
   },
   "outputs": [],
   "source": [
    "G, _ = digraph_repr(sparsity, dout, intermediary=True)"
   ]
  },
  {
   "cell_type": "code",
   "execution_count": 31,
   "id": "602b1817-f9c7-4d4d-b240-fcbd61798d5f",
   "metadata": {
    "execution": {
     "iopub.execute_input": "2022-01-25T22:07:46.449431Z",
     "iopub.status.busy": "2022-01-25T22:07:46.449431Z",
     "iopub.status.idle": "2022-01-25T22:07:46.461440Z",
     "shell.execute_reply": "2022-01-25T22:07:46.460434Z",
     "shell.execute_reply.started": "2022-01-25T22:07:46.449431Z"
    },
    "tags": []
   },
   "outputs": [],
   "source": [
    "merge_order = [node for node in LevelOrderIter(s1.node) if node.node_type==SOLVER][::-1]"
   ]
  },
  {
   "cell_type": "code",
   "execution_count": 19,
   "id": "4588ab0b-a139-4675-bccd-5af52c0232b5",
   "metadata": {
    "execution": {
     "iopub.execute_input": "2022-01-25T22:05:47.813440Z",
     "iopub.status.busy": "2022-01-25T22:05:47.813440Z",
     "iopub.status.idle": "2022-01-25T22:05:47.827437Z",
     "shell.execute_reply": "2022-01-25T22:05:47.826441Z",
     "shell.execute_reply.started": "2022-01-25T22:05:47.813440Z"
    },
    "tags": []
   },
   "outputs": [
    {
     "data": {
      "text/plain": [
       "{f_0: y, f_1: a, f_2: b, r_4: d, f_5: e, r_3: c}"
      ]
     },
     "execution_count": 19,
     "metadata": {},
     "output_type": "execute_result"
    }
   ],
   "source": [
    "m.outset"
   ]
  },
  {
   "cell_type": "code",
   "execution_count": 20,
   "id": "9dbdf47f-4076-4e39-852f-b5253b44a696",
   "metadata": {
    "execution": {
     "iopub.execute_input": "2022-01-25T22:05:49.253060Z",
     "iopub.status.busy": "2022-01-25T22:05:49.252061Z",
     "iopub.status.idle": "2022-01-25T22:05:49.272052Z",
     "shell.execute_reply": "2022-01-25T22:05:49.271051Z",
     "shell.execute_reply.started": "2022-01-25T22:05:49.253060Z"
    },
    "tags": []
   },
   "outputs": [
    {
     "name": "stdout",
     "output_type": "stream",
     "text": [
      "(r_4,)\n",
      "(f_0, f_1, f_2, s2, r_3)\n"
     ]
    }
   ],
   "source": [
    "newG = G\n",
    "graphs = dict()\n",
    "for elt in merge_order:\n",
    "    print(elt.children)\n",
    "    newG, graphs = merge_pure(newG, elt.children, elt, graphs=graphs, solvefor=m.outset)"
   ]
  },
  {
   "cell_type": "code",
   "execution_count": 21,
   "id": "9fdb84ab-6cf1-4e76-b24e-b1232f426f4c",
   "metadata": {
    "execution": {
     "iopub.execute_input": "2022-01-25T22:05:49.659266Z",
     "iopub.status.busy": "2022-01-25T22:05:49.659266Z",
     "iopub.status.idle": "2022-01-25T22:05:51.210625Z",
     "shell.execute_reply": "2022-01-25T22:05:51.209617Z",
     "shell.execute_reply.started": "2022-01-25T22:05:49.659266Z"
    },
    "tags": []
   },
   "outputs": [
    {
     "data": {
      "image/png": "[encoded data removed]",
      "text/plain": [
       "<Figure size 432x432 with 1 Axes>"
      ]
     },
     "metadata": {},
     "output_type": "display_data"
    }
   ],
   "source": [
    "drawfull(graphs[s1], eqs)"
   ]
  },
  {
   "cell_type": "code",
   "execution_count": 22,
   "id": "721bf0d4-da0e-464d-923d-8881779762c3",
   "metadata": {
    "execution": {
     "iopub.execute_input": "2022-01-25T22:05:52.514973Z",
     "iopub.status.busy": "2022-01-25T22:05:52.514973Z",
     "iopub.status.idle": "2022-01-25T22:05:53.025971Z",
     "shell.execute_reply": "2022-01-25T22:05:53.024971Z",
     "shell.execute_reply.started": "2022-01-25T22:05:52.514973Z"
    },
    "tags": []
   },
   "outputs": [
    {
     "data": {
      "image/png": "[encoded data removed]",
      "text/plain": [
       "<Figure size 432x432 with 1 Axes>"
      ]
     },
     "metadata": {},
     "output_type": "display_data"
    }
   ],
   "source": [
    "drawfull(newG, eqs)"
   ]
  },
  {
   "cell_type": "markdown",
   "id": "651720bf-5148-411b-a49e-0acdac6af690",
   "metadata": {
    "tags": []
   },
   "source": [
    "## Fixing cyclic graphs"
   ]
  },
  {
   "cell_type": "code",
   "execution_count": 23,
   "id": "f338c0be-83f2-4648-9aa5-c36649b4b528",
   "metadata": {
    "execution": {
     "iopub.execute_input": "2022-01-25T22:05:57.044680Z",
     "iopub.status.busy": "2022-01-25T22:05:57.044680Z",
     "iopub.status.idle": "2022-01-25T22:05:57.059674Z",
     "shell.execute_reply": "2022-01-25T22:05:57.058688Z",
     "shell.execute_reply.started": "2022-01-25T22:05:57.044680Z"
    },
    "tags": []
   },
   "outputs": [],
   "source": [
    "def standardize(elt):\n",
    "    if elt.children:\n",
    "        return elt.children\n",
    "    else:\n",
    "        assert elt.node_type == INTER\n",
    "        elt.node_type = END\n",
    "        return [elt]"
   ]
  },
  {
   "cell_type": "code",
   "execution_count": 24,
   "id": "df1239f8-44e7-4161-9141-de6a1f6b4dba",
   "metadata": {
    "execution": {
     "iopub.execute_input": "2022-01-25T22:05:57.930306Z",
     "iopub.status.busy": "2022-01-25T22:05:57.929313Z",
     "iopub.status.idle": "2022-01-25T22:05:57.939306Z",
     "shell.execute_reply": "2022-01-25T22:05:57.938304Z",
     "shell.execute_reply.started": "2022-01-25T22:05:57.930306Z"
    },
    "tags": []
   },
   "outputs": [],
   "source": [
    "scc = sort_mdf(graphs[s1], eqs)"
   ]
  },
  {
   "cell_type": "code",
   "execution_count": 25,
   "id": "b5512834-38ab-4ec7-825f-f1abe5123fd8",
   "metadata": {
    "execution": {
     "iopub.execute_input": "2022-01-25T22:05:58.334307Z",
     "iopub.status.busy": "2022-01-25T22:05:58.334307Z",
     "iopub.status.idle": "2022-01-25T22:05:58.349307Z",
     "shell.execute_reply": "2022-01-25T22:05:58.348302Z",
     "shell.execute_reply.started": "2022-01-25T22:05:58.334307Z"
    },
    "tags": []
   },
   "outputs": [],
   "source": [
    "mdf = False\n",
    "for solver in merge_order:\n",
    "    scc = sort_mdf(graphs[solver], eqs)\n",
    "    order = []\n",
    "    for cc in scc:\n",
    "        if len(cc) == 1:\n",
    "            order += [next(iter(cc))]\n",
    "        else:\n",
    "            stcc = [elt for node in cc for elt in standardize(cc)]\n",
    "            if mdf:\n",
    "                order += [addsolver(solver, stcc)]\n",
    "            else:\n",
    "                order += stcc\n",
    "                for node in stcc:\n",
    "                    node.parent = solver"
   ]
  },
  {
   "cell_type": "code",
   "execution_count": 26,
   "id": "051d3b47-b051-404e-8458-8b6bf777451b",
   "metadata": {
    "execution": {
     "iopub.execute_input": "2022-01-25T22:05:58.819306Z",
     "iopub.status.busy": "2022-01-25T22:05:58.819306Z",
     "iopub.status.idle": "2022-01-25T22:05:58.835304Z",
     "shell.execute_reply": "2022-01-25T22:05:58.834303Z",
     "shell.execute_reply.started": "2022-01-25T22:05:58.819306Z"
    },
    "tags": []
   },
   "outputs": [
    {
     "name": "stdout",
     "output_type": "stream",
     "text": [
      "s1              \n",
      "├── s2          \n",
      "│   └── r_4     \n",
      "├── f_0         \n",
      "├── f_1         \n",
      "├── f_2         \n",
      "└── r_3         \n"
     ]
    }
   ],
   "source": [
    "render_tree(s1)"
   ]
  },
  {
   "cell_type": "markdown",
   "id": "b21cae86-74d0-48ee-8679-3de5fad2f6fa",
   "metadata": {},
   "source": [
    "# Draw tree"
   ]
  },
  {
   "cell_type": "code",
   "execution_count": 32,
   "id": "90732445-dcb6-4eba-94f6-039e19478b22",
   "metadata": {
    "execution": {
     "iopub.execute_input": "2022-01-25T22:08:25.405350Z",
     "iopub.status.busy": "2022-01-25T22:08:25.404350Z",
     "iopub.status.idle": "2022-01-25T22:08:25.425349Z",
     "shell.execute_reply": "2022-01-25T22:08:25.424346Z",
     "shell.execute_reply.started": "2022-01-25T22:08:25.405350Z"
    },
    "tags": []
   },
   "outputs": [],
   "source": [
    "edges = [(node.parent, node) for node in LevelOrderIter(s1.node) if node.parent]"
   ]
  },
  {
   "cell_type": "code",
   "execution_count": 37,
   "id": "c3ec624e-2612-4e50-baa7-26f8510867ca",
   "metadata": {
    "execution": {
     "iopub.execute_input": "2022-01-25T22:09:18.729591Z",
     "iopub.status.busy": "2022-01-25T22:09:18.728592Z",
     "iopub.status.idle": "2022-01-25T22:09:19.284590Z",
     "shell.execute_reply": "2022-01-25T22:09:19.283584Z",
     "shell.execute_reply.started": "2022-01-25T22:09:18.729591Z"
    },
    "tags": []
   },
   "outputs": [
    {
     "data": {
      "image/png": "[encoded data removed]",
      "text/plain": [
       "<Figure size 432x432 with 1 Axes>"
      ]
     },
     "metadata": {},
     "output_type": "display_data"
    }
   ],
   "source": [
    "draw(nx.DiGraph(edges), prog='dot', latexlabels=False);"
   ]
  },
  {
   "cell_type": "code",
   "execution_count": null,
   "id": "6ca52ba0-77a7-4244-bbbd-b1ba8aceae08",
   "metadata": {},
   "outputs": [],
   "source": []
  }
 ],
 "metadata": {
  "kernelspec": {
   "display_name": "Python [conda env:mdo]",
   "language": "python",
   "name": "conda-env-mdo-py"
  },
  "language_info": {
   "codemirror_mode": {
    "name": "ipython",
    "version": 3
   },
   "file_extension": ".py",
   "mimetype": "text/x-python",
   "name": "python",
   "nbconvert_exporter": "python",
   "pygments_lexer": "ipython3",
   "version": "3.9.7"
  }
 },
 "nbformat": 4,
 "nbformat_minor": 5
}
