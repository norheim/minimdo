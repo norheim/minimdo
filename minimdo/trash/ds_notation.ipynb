{
 "cells": [
  {
   "cell_type": "markdown",
   "id": "3c10df14",
   "metadata": {},
   "source": [
    "### Restructuring"
   ]
  },
  {
   "cell_type": "code",
   "execution_count": 5,
   "id": "59b326f6",
   "metadata": {},
   "outputs": [],
   "source": [
    "from modeling.compute import Par, Var\n",
    "from modeling.gen2.nesting import Model, RefNode, adda, addf"
   ]
  },
  {
   "cell_type": "code",
   "execution_count": 6,
   "id": "71de62be",
   "metadata": {
    "execution": {
     "iopub.execute_input": "2021-11-23T16:02:24.460161Z",
     "iopub.status.busy": "2021-11-23T16:02:24.460161Z",
     "iopub.status.idle": "2021-11-23T16:02:24.651161Z",
     "shell.execute_reply": "2021-11-23T16:02:24.650162Z",
     "shell.execute_reply.started": "2021-11-23T16:02:24.460161Z"
    }
   },
   "outputs": [],
   "source": [
    "model = Model()\n",
    "m = RefNode(name='/', ref=model)\n",
    "a = Var('a')\n",
    "e = Var('e')\n",
    "p = Par('p', 0.1)\n",
    "x = adda(m, 'x', 0.5*a)\n",
    "b = adda(m, 'b', x+0.5)\n",
    "d = Var('d')\n",
    "c = adda(m, 'c', p*d+20+0.5*b)\n",
    "adda(m, d, c-10)\n",
    "addf(m, d+0.5*e, nameasidx=True);"
   ]
  },
  {
   "cell_type": "code",
   "execution_count": 7,
   "id": "6526fb90",
   "metadata": {},
   "outputs": [],
   "source": [
    "eqs, eqv, dout, dins = model.data_structures()"
   ]
  },
  {
   "cell_type": "code",
   "execution_count": 8,
   "id": "187c6ef4",
   "metadata": {},
   "outputs": [],
   "source": [
    "from graph.operators import eqv_to_edges_tree\n",
    "from graph.matrixview import render_incidence"
   ]
  },
  {
   "cell_type": "code",
   "execution_count": 9,
   "id": "6f3d9ef6",
   "metadata": {},
   "outputs": [
    {
     "data": {
      "image/png": "[encoded data removed]",
      "text/plain": [
       "<Figure size 200x200 with 1 Axes>"
      ]
     },
     "metadata": {},
     "output_type": "display_data"
    }
   ],
   "source": [
    "edges, tree, _ = eqv_to_edges_tree(eqv, output_set=dout, offset=False) \n",
    "render_incidence(edges, tree, rawvarname=True,\n",
    "                 hideticks=True, figsize=(2,2), diagonalgray=False);"
   ]
  },
  {
   "cell_type": "markdown",
   "id": "e00db5a2",
   "metadata": {},
   "source": [
    "### Restructure by matching"
   ]
  },
  {
   "cell_type": "code",
   "execution_count": 10,
   "id": "52f3e0f7",
   "metadata": {},
   "outputs": [],
   "source": [
    "from graph.graphview import bipartite_repr\n",
    "from trash.inputresolver import mdf_order\n",
    "import networkx as nx"
   ]
  },
  {
   "cell_type": "code",
   "execution_count": 11,
   "id": "206a25de",
   "metadata": {
    "execution": {
     "iopub.execute_input": "2021-11-19T15:02:45.690183Z",
     "iopub.status.busy": "2021-11-19T15:02:45.689184Z",
     "iopub.status.idle": "2021-11-19T15:02:45.695183Z",
     "shell.execute_reply": "2021-11-19T15:02:45.694185Z",
     "shell.execute_reply.started": "2021-11-19T15:02:45.689184Z"
    }
   },
   "outputs": [],
   "source": [
    "B, edges_B = bipartite_repr(eqv)\n",
    "M = nx.bipartite.maximum_matching(B)"
   ]
  },
  {
   "cell_type": "code",
   "execution_count": 12,
   "id": "279fa87a",
   "metadata": {
    "execution": {
     "iopub.execute_input": "2021-11-19T15:02:46.287190Z",
     "iopub.status.busy": "2021-11-19T15:02:46.287190Z",
     "iopub.status.idle": "2021-11-19T15:02:46.298183Z",
     "shell.execute_reply": "2021-11-19T15:02:46.297184Z",
     "shell.execute_reply.started": "2021-11-19T15:02:46.287190Z"
    }
   },
   "outputs": [],
   "source": [
    "doutM = {key:M[key] for key in dout.keys()} \n",
    "#doutM = {0: x, 1: b, 2: d, 3: c, 4: e} hard coded solution"
   ]
  },
  {
   "cell_type": "code",
   "execution_count": 13,
   "id": "45675f19",
   "metadata": {},
   "outputs": [
    {
     "data": {
      "image/png": "[encoded data removed]",
      "text/plain": [
       "<Figure size 200x200 with 1 Axes>"
      ]
     },
     "metadata": {},
     "output_type": "display_data"
    }
   ],
   "source": [
    "edges, tree, _ = eqv_to_edges_tree(eqv, output_set=doutM, offset=False) \n",
    "render_incidence(edges, tree, rawvarname=True,\n",
    "                 hideticks=True, figsize=(2,2), diagonalgray=False);"
   ]
  },
  {
   "cell_type": "code",
   "execution_count": 14,
   "id": "aa83a35c",
   "metadata": {},
   "outputs": [
    {
     "data": {
      "text/plain": [
       "[0, 1, (3, 2)]"
      ]
     },
     "execution_count": 14,
     "metadata": {},
     "output_type": "execute_result"
    }
   ],
   "source": [
    "mdf_order(eqv, dout) # should get [0, 1, (3, 2), 4]"
   ]
  },
  {
   "cell_type": "markdown",
   "id": "83a0ae3b",
   "metadata": {},
   "source": [
    "### Extended tearing result"
   ]
  },
  {
   "cell_type": "code",
   "execution_count": 10,
   "id": "29a369e5",
   "metadata": {
    "execution": {
     "iopub.execute_input": "2021-11-19T15:02:48.051190Z",
     "iopub.status.busy": "2021-11-19T15:02:48.050188Z",
     "iopub.status.idle": "2021-11-19T15:02:48.066183Z",
     "shell.execute_reply": "2021-11-19T15:02:48.065181Z",
     "shell.execute_reply.started": "2021-11-19T15:02:48.051190Z"
    }
   },
   "outputs": [
    {
     "data": {
      "text/plain": [
       "[0, 1, (3, 2), 4]"
      ]
     },
     "execution_count": 10,
     "metadata": {},
     "output_type": "execute_result"
    }
   ],
   "source": [
    "mdf_order(eqv, dout)"
   ]
  },
  {
   "cell_type": "markdown",
   "id": "a7ecfcc3",
   "metadata": {},
   "source": [
    "### Let's try to avoid loop"
   ]
  },
  {
   "cell_type": "markdown",
   "id": "b69f6413",
   "metadata": {},
   "source": [
    "### New library"
   ]
  },
  {
   "cell_type": "code",
   "execution_count": 15,
   "id": "fee184be",
   "metadata": {},
   "outputs": [],
   "source": [
    "from presolver.tearing import min_arc_set_assign\n",
    "from graph.operators import invert_edges,default_tree\n",
    "from graph.graphutils import all_variables, all_edges"
   ]
  },
  {
   "cell_type": "code",
   "execution_count": 16,
   "id": "15c1080b",
   "metadata": {},
   "outputs": [],
   "source": [
    "edges_for_solving = invert_edges(*edges)\n",
    "eqnidxs = list(edges[0].keys())\n",
    "varidxs = all_variables(*edges_for_solving)\n",
    "edges_left_right = all_edges(*edges_for_solving)"
   ]
  },
  {
   "cell_type": "code",
   "execution_count": 17,
   "id": "d9d1ebec",
   "metadata": {},
   "outputs": [
    {
     "name": "stdout",
     "output_type": "stream",
     "text": [
      "Set parameter Username\n",
      "Academic license - for non-commercial use only - expires 2026-05-13\n"
     ]
    }
   ],
   "source": [
    "xsol, model = min_arc_set_assign(edges_left_right, varidxs, eqnidxs)\n",
    "outset_minassign = dict((right, left) for left, right in edges_left_right if xsol[left, right] > 0.5)"
   ]
  },
  {
   "cell_type": "code",
   "execution_count": 18,
   "id": "da1b1662",
   "metadata": {},
   "outputs": [
    {
     "data": {
      "image/png": "[encoded data removed]",
      "text/plain": [
       "<Figure size 200x200 with 1 Axes>"
      ]
     },
     "metadata": {},
     "output_type": "display_data"
    }
   ],
   "source": [
    "edges = invert_edges(eqv, newout=outset_minassign)\n",
    "tree = default_tree(mdf_order(eqv, outset_minassign))\n",
    "render_incidence(edges, tree, rawvarname=True,\n",
    "                 hideticks=True, figsize=(2,2), diagonalgray=False);"
   ]
  },
  {
   "cell_type": "markdown",
   "id": "e99d0d40",
   "metadata": {},
   "source": [
    "### Old library"
   ]
  },
  {
   "cell_type": "code",
   "execution_count": 19,
   "id": "42e0e122",
   "metadata": {},
   "outputs": [],
   "source": [
    "from trash.inputresolver import getallvars, invert_edges, resolve, reassign"
   ]
  },
  {
   "cell_type": "code",
   "execution_count": 20,
   "id": "3be55401",
   "metadata": {
    "execution": {
     "iopub.execute_input": "2021-11-19T15:02:48.658183Z",
     "iopub.status.busy": "2021-11-19T15:02:48.657184Z",
     "iopub.status.idle": "2021-11-19T15:02:48.665184Z",
     "shell.execute_reply": "2021-11-19T15:02:48.664182Z",
     "shell.execute_reply.started": "2021-11-19T15:02:48.657184Z"
    }
   },
   "outputs": [],
   "source": [
    "vrs =getallvars(eqs)-{None}"
   ]
  },
  {
   "cell_type": "code",
   "execution_count": 21,
   "id": "03887d9a",
   "metadata": {
    "execution": {
     "iopub.execute_input": "2021-11-19T15:02:48.893189Z",
     "iopub.status.busy": "2021-11-19T15:02:48.892183Z",
     "iopub.status.idle": "2021-11-19T15:02:48.932186Z",
     "shell.execute_reply": "2021-11-19T15:02:48.930185Z",
     "shell.execute_reply.started": "2021-11-19T15:02:48.893189Z"
    }
   },
   "outputs": [],
   "source": [
    "sol = resolve(eqs, vrs, invert_edges(edges_B), maxiter=2, not_input=[d, b, x, c])\n",
    "newdout = dict(sol[-1]['SOL'])\n",
    "# possible solution newdout = {0: a, 1: x, 2: b, 3: c, 4: d}"
   ]
  },
  {
   "cell_type": "code",
   "execution_count": 22,
   "id": "e7d9123b",
   "metadata": {
    "execution": {
     "iopub.execute_input": "2021-11-19T15:02:51.834361Z",
     "iopub.status.busy": "2021-11-19T15:02:51.834361Z",
     "iopub.status.idle": "2021-11-19T15:02:51.849355Z",
     "shell.execute_reply": "2021-11-19T15:02:51.848357Z",
     "shell.execute_reply.started": "2021-11-19T15:02:51.834361Z"
    }
   },
   "outputs": [
    {
     "data": {
      "text/plain": [
       "({0: a, 1: x, 2: b, 3: c, 4: d}, {0: x, 1: b, 2: c, 3: d, 4: None})"
      ]
     },
     "execution_count": 22,
     "metadata": {},
     "output_type": "execute_result"
    }
   ],
   "source": [
    "newdout, dout"
   ]
  },
  {
   "cell_type": "code",
   "execution_count": 23,
   "id": "a6a77844",
   "metadata": {
    "execution": {
     "iopub.execute_input": "2021-11-19T15:02:52.205359Z",
     "iopub.status.busy": "2021-11-19T15:02:52.205359Z",
     "iopub.status.idle": "2021-11-19T15:02:52.224356Z",
     "shell.execute_reply": "2021-11-19T15:02:52.223355Z",
     "shell.execute_reply.started": "2021-11-19T15:02:52.205359Z"
    }
   },
   "outputs": [
    {
     "data": {
      "text/plain": [
       "[4, 3, 2, 1, 0]"
      ]
     },
     "execution_count": 23,
     "metadata": {},
     "output_type": "execute_result"
    }
   ],
   "source": [
    "mdf_order(eqv, newdout)"
   ]
  },
  {
   "cell_type": "code",
   "execution_count": 24,
   "id": "53d29e6c",
   "metadata": {
    "execution": {
     "iopub.execute_input": "2021-11-19T15:02:52.698468Z",
     "iopub.status.busy": "2021-11-19T15:02:52.698468Z",
     "iopub.status.idle": "2021-11-19T15:02:53.246460Z",
     "shell.execute_reply": "2021-11-19T15:02:53.245457Z",
     "shell.execute_reply.started": "2021-11-19T15:02:52.698468Z"
    }
   },
   "outputs": [],
   "source": [
    "eqsn = reassign(eqs, newdout)"
   ]
  },
  {
   "cell_type": "code",
   "execution_count": 25,
   "id": "c2eb7688",
   "metadata": {
    "execution": {
     "iopub.execute_input": "2021-11-19T15:02:53.249462Z",
     "iopub.status.busy": "2021-11-19T15:02:53.248463Z",
     "iopub.status.idle": "2021-11-19T15:02:53.278460Z",
     "shell.execute_reply": "2021-11-19T15:02:53.277459Z",
     "shell.execute_reply.started": "2021-11-19T15:02:53.249462Z"
    }
   },
   "outputs": [
    {
     "data": {
      "text/plain": [
       "{0: (a, 2.0*x),\n",
       " 1: (x, b - 0.5),\n",
       " 2: (b, -2.0*p*d + 2.0*c - 40.0),\n",
       " 3: (c, d + 10),\n",
       " 4: (d, -0.5*e)}"
      ]
     },
     "execution_count": 25,
     "metadata": {},
     "output_type": "execute_result"
    }
   ],
   "source": [
    "eqsn"
   ]
  },
  {
   "cell_type": "markdown",
   "id": "50ed9bde",
   "metadata": {},
   "source": [
    "# 2. Execution workflow 1"
   ]
  },
  {
   "cell_type": "code",
   "execution_count": 26,
   "id": "111973a7",
   "metadata": {},
   "outputs": [],
   "source": [
    "import openmdao.api as om\n",
    "from modeling.gen1.notationcompute import solver, explicit, optsolver"
   ]
  },
  {
   "cell_type": "markdown",
   "id": "cdf4e329",
   "metadata": {},
   "source": [
    "### Execution workflow 2"
   ]
  },
  {
   "cell_type": "code",
   "execution_count": 27,
   "id": "e441195a",
   "metadata": {
    "execution": {
     "iopub.execute_input": "2021-11-19T15:03:22.411385Z",
     "iopub.status.busy": "2021-11-19T15:03:22.411385Z",
     "iopub.status.idle": "2021-11-19T15:03:22.425383Z",
     "shell.execute_reply": "2021-11-19T15:03:22.424385Z",
     "shell.execute_reply.started": "2021-11-19T15:03:22.411385Z"
    }
   },
   "outputs": [],
   "source": [
    "prob = om.Problem()\n",
    "model = prob.model\n",
    "groups = {0:model}"
   ]
  },
  {
   "cell_type": "markdown",
   "id": "e1d04d92",
   "metadata": {},
   "source": [
    "## TODO\n",
    "Need to exchange the numbers with the expressions probably to make the interface cleaner and independent of passing in the eqs var"
   ]
  },
  {
   "cell_type": "code",
   "execution_count": 28,
   "id": "0543249f",
   "metadata": {
    "execution": {
     "iopub.execute_input": "2021-11-19T15:03:22.990793Z",
     "iopub.status.busy": "2021-11-19T15:03:22.990793Z",
     "iopub.status.idle": "2021-11-19T15:03:23.020787Z",
     "shell.execute_reply": "2021-11-19T15:03:23.019787Z",
     "shell.execute_reply.started": "2021-11-19T15:03:22.990793Z"
    }
   },
   "outputs": [
    {
     "ename": "KeyError",
     "evalue": "4",
     "output_type": "error",
     "traceback": [
      "\u001b[1;31m---------------------------------------------------------------------------\u001b[0m",
      "\u001b[1;31mKeyError\u001b[0m                                  Traceback (most recent call last)",
      "Input \u001b[1;32mIn [28]\u001b[0m, in \u001b[0;36m<cell line: 1>\u001b[1;34m()\u001b[0m\n\u001b[1;32m----> 1\u001b[0m \u001b[43msolver\u001b[49m\u001b[43m(\u001b[49m\u001b[43mgroups\u001b[49m\u001b[43m,\u001b[49m\u001b[43m \u001b[49m\u001b[43meqs\u001b[49m\u001b[43m,\u001b[49m\u001b[43m \u001b[49m\u001b[38;5;241;43m0\u001b[39;49m\u001b[43m,\u001b[49m\u001b[43m \u001b[49m\u001b[38;5;241;43m1\u001b[39;49m\u001b[43m,\u001b[49m\u001b[43m \u001b[49m\u001b[43m[\u001b[49m\u001b[43ma\u001b[49m\u001b[43m]\u001b[49m\u001b[43m,\u001b[49m\u001b[43m \u001b[49m\u001b[43m[\u001b[49m\u001b[38;5;241;43m4\u001b[39;49m\u001b[43m]\u001b[49m\u001b[43m)\u001b[49m\n\u001b[0;32m      2\u001b[0m explicit(groups, eqs, \u001b[38;5;241m1\u001b[39m, x, \u001b[38;5;241m0\u001b[39m)\n\u001b[0;32m      3\u001b[0m explicit(groups, eqs, \u001b[38;5;241m1\u001b[39m, b, \u001b[38;5;241m1\u001b[39m)\n",
      "File \u001b[1;32mc:\\Users\\johan\\github\\minimdo\\minimdo\\modeling\\gen1\\notationcompute.py:67\u001b[0m, in \u001b[0;36msolver\u001b[1;34m(groups, eqs, parentid, childid, solvevars, res, maxiter)\u001b[0m\n\u001b[0;32m     65\u001b[0m nlbgs\u001b[38;5;241m.\u001b[39moptions[\u001b[38;5;124m'\u001b[39m\u001b[38;5;124mmaxiter\u001b[39m\u001b[38;5;124m'\u001b[39m] \u001b[38;5;241m=\u001b[39m maxiter\n\u001b[0;32m     66\u001b[0m solvevarnames \u001b[38;5;241m=\u001b[39m [\u001b[38;5;28mstr\u001b[39m(vr) \u001b[38;5;28;01mfor\u001b[39;00m vr \u001b[38;5;129;01min\u001b[39;00m solvevars]\n\u001b[1;32m---> 67\u001b[0m reseqs \u001b[38;5;241m=\u001b[39m [eqs[r] \u001b[38;5;28;01mfor\u001b[39;00m r \u001b[38;5;129;01min\u001b[39;00m res]\n\u001b[0;32m     68\u001b[0m diffs \u001b[38;5;241m=\u001b[39m [left\u001b[38;5;241m-\u001b[39mright \u001b[38;5;28;01mif\u001b[39;00m left \u001b[38;5;241m!=\u001b[39m \u001b[38;5;28;01mNone\u001b[39;00m \u001b[38;5;28;01melse\u001b[39;00m right \u001b[38;5;28;01mfor\u001b[39;00m left,right \u001b[38;5;129;01min\u001b[39;00m reseqs]\n\u001b[0;32m     69\u001b[0m equations \u001b[38;5;241m=\u001b[39m [Evaluable\u001b[38;5;241m.\u001b[39mfromsympy(diff) \u001b[38;5;28;01mfor\u001b[39;00m diff \u001b[38;5;129;01min\u001b[39;00m diffs]\n",
      "File \u001b[1;32mc:\\Users\\johan\\github\\minimdo\\minimdo\\modeling\\gen1\\notationcompute.py:67\u001b[0m, in \u001b[0;36m<listcomp>\u001b[1;34m(.0)\u001b[0m\n\u001b[0;32m     65\u001b[0m nlbgs\u001b[38;5;241m.\u001b[39moptions[\u001b[38;5;124m'\u001b[39m\u001b[38;5;124mmaxiter\u001b[39m\u001b[38;5;124m'\u001b[39m] \u001b[38;5;241m=\u001b[39m maxiter\n\u001b[0;32m     66\u001b[0m solvevarnames \u001b[38;5;241m=\u001b[39m [\u001b[38;5;28mstr\u001b[39m(vr) \u001b[38;5;28;01mfor\u001b[39;00m vr \u001b[38;5;129;01min\u001b[39;00m solvevars]\n\u001b[1;32m---> 67\u001b[0m reseqs \u001b[38;5;241m=\u001b[39m [\u001b[43meqs\u001b[49m\u001b[43m[\u001b[49m\u001b[43mr\u001b[49m\u001b[43m]\u001b[49m \u001b[38;5;28;01mfor\u001b[39;00m r \u001b[38;5;129;01min\u001b[39;00m res]\n\u001b[0;32m     68\u001b[0m diffs \u001b[38;5;241m=\u001b[39m [left\u001b[38;5;241m-\u001b[39mright \u001b[38;5;28;01mif\u001b[39;00m left \u001b[38;5;241m!=\u001b[39m \u001b[38;5;28;01mNone\u001b[39;00m \u001b[38;5;28;01melse\u001b[39;00m right \u001b[38;5;28;01mfor\u001b[39;00m left,right \u001b[38;5;129;01min\u001b[39;00m reseqs]\n\u001b[0;32m     69\u001b[0m equations \u001b[38;5;241m=\u001b[39m [Evaluable\u001b[38;5;241m.\u001b[39mfromsympy(diff) \u001b[38;5;28;01mfor\u001b[39;00m diff \u001b[38;5;129;01min\u001b[39;00m diffs]\n",
      "\u001b[1;31mKeyError\u001b[0m: 4"
     ]
    }
   ],
   "source": [
    "solver(groups, eqs, 0, 1, [a], [4])\n",
    "explicit(groups, eqs, 1, x, 0)\n",
    "explicit(groups, eqs, 1, b, 1)\n",
    "solver(groups, eqs, 1, 2, [c,d], [2,3])\n",
    "optsolver(groups, {5: (None, a**2+d**2+b**2)}, 0, 1, [e], [[],[],[5]])"
   ]
  },
  {
   "cell_type": "code",
   "execution_count": 35,
   "id": "55cb60e1",
   "metadata": {
    "execution": {
     "iopub.execute_input": "2021-11-19T15:03:26.719874Z",
     "iopub.status.busy": "2021-11-19T15:03:26.718871Z",
     "iopub.status.idle": "2021-11-19T15:03:26.728869Z",
     "shell.execute_reply": "2021-11-19T15:03:26.727873Z",
     "shell.execute_reply.started": "2021-11-19T15:03:26.719874Z"
    }
   },
   "outputs": [],
   "source": [
    "prob.setup();"
   ]
  },
  {
   "cell_type": "code",
   "execution_count": 37,
   "id": "c118a375",
   "metadata": {
    "execution": {
     "iopub.execute_input": "2021-11-19T15:03:38.610983Z",
     "iopub.status.busy": "2021-11-19T15:03:38.609991Z",
     "iopub.status.idle": "2021-11-19T15:03:38.713981Z",
     "shell.execute_reply": "2021-11-19T15:03:38.712982Z",
     "shell.execute_reply.started": "2021-11-19T15:03:38.610983Z"
    }
   },
   "outputs": [
    {
     "name": "stdout",
     "output_type": "stream",
     "text": [
      "\n",
      "======\n",
      "group1\n",
      "======\n",
      "+  \n",
      "+  =============\n",
      "+  group1.group2\n",
      "+  =============\n",
      "+  NL: Newton Converged in 1 iterations\n",
      "+  \n",
      "+  =============\n",
      "+  group1.group2\n",
      "+  =============\n",
      "+  NL: Newton Converged in 0 iterations\n",
      "NL: Newton Converged in 1 iterations\n",
      "\n",
      "======\n",
      "group1\n",
      "======\n",
      "+  \n",
      "+  =============\n",
      "+  group1.group2\n",
      "+  =============\n",
      "+  NL: Newton Converged in 0 iterations\n",
      "NL: Newton Converged in 0 iterations\n",
      "\n",
      "======\n",
      "group1\n",
      "======\n",
      "+  \n",
      "+  =============\n",
      "+  group1.group2\n",
      "+  =============\n",
      "+  NL: Newton Converged in 0 iterations\n",
      "+  \n",
      "+  =============\n",
      "+  group1.group2\n",
      "+  =============\n",
      "+  NL: Newton Converged in 0 iterations\n",
      "NL: Newton Converged in 1 iterations\n",
      "\n",
      "======\n",
      "group1\n",
      "======\n",
      "+  \n",
      "+  =============\n",
      "+  group1.group2\n",
      "+  =============\n",
      "+  NL: Newton Converged in 0 iterations\n",
      "+  \n",
      "+  =============\n",
      "+  group1.group2\n",
      "+  =============\n",
      "+  NL: Newton Converged in 0 iterations\n",
      "NL: Newton Converged in 1 iterations\n",
      "Optimization terminated successfully    (Exit mode 0)\n",
      "            Current function value: [121.17674419]\n",
      "            Iterations: 2\n",
      "            Function evaluations: 3\n",
      "            Gradient evaluations: 2\n",
      "Optimization Complete\n",
      "-----------------------------------\n"
     ]
    }
   ],
   "source": [
    "prob.set_solver_print(level=1)\n",
    "prob.driver = om.ScipyOptimizeDriver()\n",
    "prob.run_driver();"
   ]
  },
  {
   "cell_type": "code",
   "execution_count": 36,
   "id": "b8e6b642",
   "metadata": {
    "execution": {
     "iopub.execute_input": "2021-11-19T15:03:29.391433Z",
     "iopub.status.busy": "2021-11-19T15:03:29.391433Z",
     "iopub.status.idle": "2021-11-19T15:03:29.411402Z",
     "shell.execute_reply": "2021-11-19T15:03:29.410443Z",
     "shell.execute_reply.started": "2021-11-19T15:03:29.391433Z"
    }
   },
   "outputs": [],
   "source": [
    "# prob.set_val('e', -21.35)\n",
    "# prob.run_model()\n",
    "# prob.get_val('f05')"
   ]
  }
 ],
 "metadata": {
  "kernelspec": {
   "display_name": "minimdo",
   "language": "python",
   "name": "python3"
  },
  "language_info": {
   "codemirror_mode": {
    "name": "ipython",
    "version": 3
   },
   "file_extension": ".py",
   "mimetype": "text/x-python",
   "name": "python",
   "nbconvert_exporter": "python",
   "pygments_lexer": "ipython3",
   "version": "3.9.18"
  }
 },
 "nbformat": 4,
 "nbformat_minor": 5
}
