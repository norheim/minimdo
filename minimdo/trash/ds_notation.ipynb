{
 "cells": [
  {
   "cell_type": "code",
   "execution_count": 1,
   "id": "261c7a89",
   "metadata": {
    "execution": {
     "iopub.status.idle": "2021-11-23T16:10:21.244011Z",
     "shell.execute_reply": "2021-11-23T16:10:21.243105Z",
     "shell.execute_reply.started": "2021-11-23T16:10:16.251737Z"
    }
   },
   "outputs": [],
   "source": [
    "from compute import Par, Var, Model, adda, addf, Expcomp, Evaluable\n",
    "from inputresolver import idx_eqlist, mdf_order, resolve, getallvars, invert_edges, reassign\n",
    "from representations import bipartite_repr, digraph_repr\n",
    "from notationcompute import optsolver, solver, explicit"
   ]
  },
  {
   "cell_type": "code",
   "execution_count": 2,
   "id": "4673ac89",
   "metadata": {
    "execution": {
     "iopub.execute_input": "2021-11-23T16:10:27.508233Z",
     "iopub.status.busy": "2021-11-23T16:10:27.508233Z",
     "iopub.status.idle": "2021-11-23T16:10:27.517193Z",
     "shell.execute_reply": "2021-11-23T16:10:27.516217Z",
     "shell.execute_reply.started": "2021-11-23T16:10:27.508233Z"
    }
   },
   "outputs": [],
   "source": [
    "p = Par(1, 'km')"
   ]
  },
  {
   "cell_type": "code",
   "execution_count": 3,
   "id": "7d19b9d4",
   "metadata": {
    "execution": {
     "iopub.execute_input": "2021-11-23T16:10:31.439617Z",
     "iopub.status.busy": "2021-11-23T16:10:31.439617Z",
     "iopub.status.idle": "2021-11-23T16:10:31.450619Z",
     "shell.execute_reply": "2021-11-23T16:10:31.449616Z",
     "shell.execute_reply.started": "2021-11-23T16:10:31.439617Z"
    }
   },
   "outputs": [
    {
     "data": {
      "text/html": [
       "1 kilometer"
      ],
      "text/latex": [
       "$1\\ \\mathrm{kilometer}$"
      ],
      "text/plain": [
       "1 <Unit('kilometer')>"
      ]
     },
     "execution_count": 3,
     "metadata": {},
     "output_type": "execute_result"
    }
   ],
   "source": [
    "p.varunit"
   ]
  },
  {
   "cell_type": "code",
   "execution_count": 8,
   "id": "2f0181b1",
   "metadata": {
    "execution": {
     "iopub.execute_input": "2021-11-23T16:09:30.419619Z",
     "iopub.status.busy": "2021-11-23T16:09:30.418623Z",
     "iopub.status.idle": "2021-11-23T16:09:30.425624Z",
     "shell.execute_reply": "2021-11-23T16:09:30.424622Z",
     "shell.execute_reply.started": "2021-11-23T16:09:30.419619Z"
    }
   },
   "outputs": [],
   "source": [
    "p2 = Par()"
   ]
  },
  {
   "cell_type": "code",
   "execution_count": 9,
   "id": "635eb308",
   "metadata": {
    "execution": {
     "iopub.execute_input": "2021-11-23T16:09:32.099507Z",
     "iopub.status.busy": "2021-11-23T16:09:32.099507Z",
     "iopub.status.idle": "2021-11-23T16:09:32.112507Z",
     "shell.execute_reply": "2021-11-23T16:09:32.111503Z",
     "shell.execute_reply.started": "2021-11-23T16:09:32.099507Z"
    }
   },
   "outputs": [],
   "source": [
    "p2.varval"
   ]
  },
  {
   "cell_type": "code",
   "execution_count": 10,
   "id": "711635b2",
   "metadata": {
    "execution": {
     "iopub.execute_input": "2021-11-23T16:09:33.172727Z",
     "iopub.status.busy": "2021-11-23T16:09:33.172727Z",
     "iopub.status.idle": "2021-11-23T16:09:33.188727Z",
     "shell.execute_reply": "2021-11-23T16:09:33.187725Z",
     "shell.execute_reply.started": "2021-11-23T16:09:33.172727Z"
    }
   },
   "outputs": [
    {
     "data": {
      "text/latex": [
       "$\\displaystyle p_{0} + p_{2}$"
      ],
      "text/plain": [
       "p0 + p2"
      ]
     },
     "execution_count": 10,
     "metadata": {},
     "output_type": "execute_result"
    }
   ],
   "source": [
    "p+p2"
   ]
  },
  {
   "cell_type": "code",
   "execution_count": 44,
   "id": "23a37298",
   "metadata": {
    "execution": {
     "iopub.execute_input": "2021-11-23T16:01:27.845107Z",
     "iopub.status.busy": "2021-11-23T16:01:27.845107Z",
     "iopub.status.idle": "2021-11-23T16:01:27.862103Z",
     "shell.execute_reply": "2021-11-23T16:01:27.861101Z",
     "shell.execute_reply.started": "2021-11-23T16:01:27.845107Z"
    }
   },
   "outputs": [
    {
     "data": {
      "text/latex": [
       "$\\displaystyle 0.1d+20+0.5b$"
      ],
      "text/plain": [
       "<IPython.core.display.Math object>"
      ]
     },
     "execution_count": 44,
     "metadata": {},
     "output_type": "execute_result"
    }
   ],
   "source": [
    "from IPython.display import Math\n",
    "Math(rf'0.1d+20+0.5b')"
   ]
  },
  {
   "cell_type": "code",
   "execution_count": 2,
   "id": "87d7dc77",
   "metadata": {
    "execution": {
     "iopub.execute_input": "2021-11-19T15:02:44.190185Z",
     "iopub.status.busy": "2021-11-19T15:02:44.190185Z",
     "iopub.status.idle": "2021-11-19T15:02:44.197185Z",
     "shell.execute_reply": "2021-11-19T15:02:44.195187Z",
     "shell.execute_reply.started": "2021-11-19T15:02:44.190185Z"
    }
   },
   "outputs": [],
   "source": [
    "import openmdao.api as om\n",
    "import networkx as nx\n",
    "import sympy as sp"
   ]
  },
  {
   "cell_type": "code",
   "execution_count": 47,
   "id": "71de62be",
   "metadata": {
    "execution": {
     "iopub.execute_input": "2021-11-23T16:02:24.460161Z",
     "iopub.status.busy": "2021-11-23T16:02:24.460161Z",
     "iopub.status.idle": "2021-11-23T16:02:24.651161Z",
     "shell.execute_reply": "2021-11-23T16:02:24.650162Z",
     "shell.execute_reply.started": "2021-11-23T16:02:24.460161Z"
    }
   },
   "outputs": [],
   "source": [
    "m = Model()\n",
    "a = Var('a')\n",
    "e = Var('e')\n",
    "p = Par('p', 0.1)\n",
    "x = adda(m, 'x', 0.5*a)\n",
    "b = adda(m, 'b', x+0.5)\n",
    "d = Var('d')\n",
    "c = adda(m, 'c', p*d+20+0.5*b)\n",
    "adda(m, d, c-10)\n",
    "addf(m, d+0.5*e)"
   ]
  },
  {
   "cell_type": "code",
   "execution_count": 48,
   "id": "f32fb63f",
   "metadata": {
    "execution": {
     "iopub.execute_input": "2021-11-23T16:02:31.329149Z",
     "iopub.status.busy": "2021-11-23T16:02:31.329149Z",
     "iopub.status.idle": "2021-11-23T16:02:31.339149Z",
     "shell.execute_reply": "2021-11-23T16:02:31.338151Z",
     "shell.execute_reply.started": "2021-11-23T16:02:31.329149Z"
    }
   },
   "outputs": [
    {
     "data": {
      "text/plain": [
       "\"Add(Mul(Par('p'), Var('d')), Mul(Float('0.5', precision=53), Var('b')), Integer(20))\""
      ]
     },
     "execution_count": 48,
     "metadata": {},
     "output_type": "execute_result"
    }
   ],
   "source": []
  },
  {
   "cell_type": "code",
   "execution_count": 4,
   "id": "bbcbc268",
   "metadata": {
    "execution": {
     "iopub.execute_input": "2021-11-19T15:02:44.439196Z",
     "iopub.status.busy": "2021-11-19T15:02:44.438184Z",
     "iopub.status.idle": "2021-11-19T15:02:44.453185Z",
     "shell.execute_reply": "2021-11-19T15:02:44.452188Z",
     "shell.execute_reply.started": "2021-11-19T15:02:44.439196Z"
    }
   },
   "outputs": [],
   "source": [
    "eqs, eqv, dout, dins = m.data_structures()"
   ]
  },
  {
   "cell_type": "markdown",
   "id": "83a0ae3b",
   "metadata": {},
   "source": [
    "### Let's try to reassign all"
   ]
  },
  {
   "cell_type": "code",
   "execution_count": 5,
   "id": "206a25de",
   "metadata": {
    "execution": {
     "iopub.execute_input": "2021-11-19T15:02:45.690183Z",
     "iopub.status.busy": "2021-11-19T15:02:45.689184Z",
     "iopub.status.idle": "2021-11-19T15:02:45.695183Z",
     "shell.execute_reply": "2021-11-19T15:02:45.694185Z",
     "shell.execute_reply.started": "2021-11-19T15:02:45.689184Z"
    }
   },
   "outputs": [],
   "source": [
    "B, edges = bipartite_repr(eqv)"
   ]
  },
  {
   "cell_type": "code",
   "execution_count": 6,
   "id": "ce67d4be",
   "metadata": {
    "execution": {
     "iopub.execute_input": "2021-11-19T15:02:46.000194Z",
     "iopub.status.busy": "2021-11-19T15:02:46.000194Z",
     "iopub.status.idle": "2021-11-19T15:02:46.012183Z",
     "shell.execute_reply": "2021-11-19T15:02:46.011185Z",
     "shell.execute_reply.started": "2021-11-19T15:02:46.000194Z"
    }
   },
   "outputs": [],
   "source": [
    "M = nx.bipartite.maximum_matching(B)"
   ]
  },
  {
   "cell_type": "code",
   "execution_count": 7,
   "id": "279fa87a",
   "metadata": {
    "execution": {
     "iopub.execute_input": "2021-11-19T15:02:46.287190Z",
     "iopub.status.busy": "2021-11-19T15:02:46.287190Z",
     "iopub.status.idle": "2021-11-19T15:02:46.298183Z",
     "shell.execute_reply": "2021-11-19T15:02:46.297184Z",
     "shell.execute_reply.started": "2021-11-19T15:02:46.287190Z"
    }
   },
   "outputs": [],
   "source": [
    "doutM = {key:M[key] for key in dout.keys()}"
   ]
  },
  {
   "cell_type": "code",
   "execution_count": 8,
   "id": "9c1265e9",
   "metadata": {
    "execution": {
     "iopub.execute_input": "2021-11-19T15:02:46.500190Z",
     "iopub.status.busy": "2021-11-19T15:02:46.499184Z",
     "iopub.status.idle": "2021-11-19T15:02:46.519184Z",
     "shell.execute_reply": "2021-11-19T15:02:46.518183Z",
     "shell.execute_reply.started": "2021-11-19T15:02:46.500190Z"
    }
   },
   "outputs": [],
   "source": [
    "doutM = {0: x, 1: b, 2: d, 3: c, 4: e}"
   ]
  },
  {
   "cell_type": "code",
   "execution_count": 9,
   "id": "f1c2c8da",
   "metadata": {
    "execution": {
     "iopub.execute_input": "2021-11-19T15:02:46.722183Z",
     "iopub.status.busy": "2021-11-19T15:02:46.721185Z",
     "iopub.status.idle": "2021-11-19T15:02:46.740182Z",
     "shell.execute_reply": "2021-11-19T15:02:46.739182Z",
     "shell.execute_reply.started": "2021-11-19T15:02:46.722183Z"
    }
   },
   "outputs": [
    {
     "data": {
      "text/plain": [
       "({0: x, 1: b, 2: d, 3: c, 4: e}, {0: x, 1: b, 2: c, 3: d, 4: None})"
      ]
     },
     "execution_count": 9,
     "metadata": {},
     "output_type": "execute_result"
    }
   ],
   "source": [
    "doutM, dout"
   ]
  },
  {
   "cell_type": "code",
   "execution_count": 10,
   "id": "29a369e5",
   "metadata": {
    "execution": {
     "iopub.execute_input": "2021-11-19T15:02:48.051190Z",
     "iopub.status.busy": "2021-11-19T15:02:48.050188Z",
     "iopub.status.idle": "2021-11-19T15:02:48.066183Z",
     "shell.execute_reply": "2021-11-19T15:02:48.065181Z",
     "shell.execute_reply.started": "2021-11-19T15:02:48.051190Z"
    }
   },
   "outputs": [
    {
     "data": {
      "text/plain": [
       "[0, 1, (3, 2), 4]"
      ]
     },
     "execution_count": 10,
     "metadata": {},
     "output_type": "execute_result"
    }
   ],
   "source": [
    "mdf_order(eqv, dout)"
   ]
  },
  {
   "cell_type": "markdown",
   "id": "a7ecfcc3",
   "metadata": {},
   "source": [
    "### Let's try to avoid loop"
   ]
  },
  {
   "cell_type": "code",
   "execution_count": 11,
   "id": "3be55401",
   "metadata": {
    "execution": {
     "iopub.execute_input": "2021-11-19T15:02:48.658183Z",
     "iopub.status.busy": "2021-11-19T15:02:48.657184Z",
     "iopub.status.idle": "2021-11-19T15:02:48.665184Z",
     "shell.execute_reply": "2021-11-19T15:02:48.664182Z",
     "shell.execute_reply.started": "2021-11-19T15:02:48.657184Z"
    }
   },
   "outputs": [],
   "source": [
    "vrs =getallvars(eqs)-{None}"
   ]
  },
  {
   "cell_type": "code",
   "execution_count": 12,
   "id": "03887d9a",
   "metadata": {
    "execution": {
     "iopub.execute_input": "2021-11-19T15:02:48.893189Z",
     "iopub.status.busy": "2021-11-19T15:02:48.892183Z",
     "iopub.status.idle": "2021-11-19T15:02:48.932186Z",
     "shell.execute_reply": "2021-11-19T15:02:48.930185Z",
     "shell.execute_reply.started": "2021-11-19T15:02:48.893189Z"
    }
   },
   "outputs": [
    {
     "name": "stdout",
     "output_type": "stream",
     "text": [
      "Using license file C:\\Users\\johan\\gurobi.lic\n",
      "Academic license - for non-commercial use only - expires 2022-09-25\n",
      "Warning: Gurobi version mismatch between Python 9.1.1 and C library 9.1.0\n",
      "C []\n",
      "1 0.0 []\n",
      "C []\n",
      "2 0.0 []\n"
     ]
    }
   ],
   "source": [
    "newdout = resolve(eqs, vrs, invert_edges(edges), maxiter=2, not_input=None)\n",
    "newdout = dict(newdout)"
   ]
  },
  {
   "cell_type": "code",
   "execution_count": 13,
   "id": "eb514766",
   "metadata": {
    "execution": {
     "iopub.execute_input": "2021-11-19T15:02:49.698186Z",
     "iopub.status.busy": "2021-11-19T15:02:49.697189Z",
     "iopub.status.idle": "2021-11-19T15:02:49.718182Z",
     "shell.execute_reply": "2021-11-19T15:02:49.717180Z",
     "shell.execute_reply.started": "2021-11-19T15:02:49.697189Z"
    }
   },
   "outputs": [],
   "source": [
    "newdout = {0: a, 1: x, 2: b, 3: c, 4: d}"
   ]
  },
  {
   "cell_type": "code",
   "execution_count": 14,
   "id": "e7d9123b",
   "metadata": {
    "execution": {
     "iopub.execute_input": "2021-11-19T15:02:51.834361Z",
     "iopub.status.busy": "2021-11-19T15:02:51.834361Z",
     "iopub.status.idle": "2021-11-19T15:02:51.849355Z",
     "shell.execute_reply": "2021-11-19T15:02:51.848357Z",
     "shell.execute_reply.started": "2021-11-19T15:02:51.834361Z"
    }
   },
   "outputs": [
    {
     "data": {
      "text/plain": [
       "({0: a, 1: x, 2: b, 3: c, 4: d}, {0: x, 1: b, 2: c, 3: d, 4: None})"
      ]
     },
     "execution_count": 14,
     "metadata": {},
     "output_type": "execute_result"
    }
   ],
   "source": [
    "newdout, dout"
   ]
  },
  {
   "cell_type": "code",
   "execution_count": 15,
   "id": "a6a77844",
   "metadata": {
    "execution": {
     "iopub.execute_input": "2021-11-19T15:02:52.205359Z",
     "iopub.status.busy": "2021-11-19T15:02:52.205359Z",
     "iopub.status.idle": "2021-11-19T15:02:52.224356Z",
     "shell.execute_reply": "2021-11-19T15:02:52.223355Z",
     "shell.execute_reply.started": "2021-11-19T15:02:52.205359Z"
    }
   },
   "outputs": [
    {
     "data": {
      "text/plain": [
       "[4, 3, 2, 1, 0]"
      ]
     },
     "execution_count": 15,
     "metadata": {},
     "output_type": "execute_result"
    }
   ],
   "source": [
    "mdf_order(eqs, newdout)"
   ]
  },
  {
   "cell_type": "code",
   "execution_count": 16,
   "id": "53d29e6c",
   "metadata": {
    "execution": {
     "iopub.execute_input": "2021-11-19T15:02:52.698468Z",
     "iopub.status.busy": "2021-11-19T15:02:52.698468Z",
     "iopub.status.idle": "2021-11-19T15:02:53.246460Z",
     "shell.execute_reply": "2021-11-19T15:02:53.245457Z",
     "shell.execute_reply.started": "2021-11-19T15:02:52.698468Z"
    }
   },
   "outputs": [],
   "source": [
    "eqsn = reassign(eqs, newdout)"
   ]
  },
  {
   "cell_type": "code",
   "execution_count": 17,
   "id": "c2eb7688",
   "metadata": {
    "execution": {
     "iopub.execute_input": "2021-11-19T15:02:53.249462Z",
     "iopub.status.busy": "2021-11-19T15:02:53.248463Z",
     "iopub.status.idle": "2021-11-19T15:02:53.278460Z",
     "shell.execute_reply": "2021-11-19T15:02:53.277459Z",
     "shell.execute_reply.started": "2021-11-19T15:02:53.249462Z"
    }
   },
   "outputs": [
    {
     "data": {
      "text/plain": [
       "{0: (a, 2.0*x),\n",
       " 1: (x, b - 0.5),\n",
       " 2: (b, 2.0*c - 0.2*d - 40.0),\n",
       " 3: (c, d + 10),\n",
       " 4: (d, -0.5*e)}"
      ]
     },
     "execution_count": 17,
     "metadata": {},
     "output_type": "execute_result"
    }
   ],
   "source": [
    "eqsn"
   ]
  },
  {
   "cell_type": "markdown",
   "id": "50ed9bde",
   "metadata": {},
   "source": [
    "### Execution workflow 1"
   ]
  },
  {
   "cell_type": "code",
   "execution_count": 18,
   "id": "195e374a",
   "metadata": {
    "execution": {
     "iopub.execute_input": "2021-11-19T15:02:53.786460Z",
     "iopub.status.busy": "2021-11-19T15:02:53.785461Z",
     "iopub.status.idle": "2021-11-19T15:02:53.802461Z",
     "shell.execute_reply": "2021-11-19T15:02:53.801459Z",
     "shell.execute_reply.started": "2021-11-19T15:02:53.786460Z"
    }
   },
   "outputs": [],
   "source": [
    "#mapping = {'solver':solver, 'exp':explicit}"
   ]
  },
  {
   "cell_type": "code",
   "execution_count": 19,
   "id": "949489e3",
   "metadata": {
    "execution": {
     "iopub.execute_input": "2021-11-19T15:02:54.033465Z",
     "iopub.status.busy": "2021-11-19T15:02:54.033465Z",
     "iopub.status.idle": "2021-11-19T15:02:54.053460Z",
     "shell.execute_reply": "2021-11-19T15:02:54.052460Z",
     "shell.execute_reply.started": "2021-11-19T15:02:54.033465Z"
    }
   },
   "outputs": [],
   "source": [
    "prob = om.Problem()\n",
    "model = prob.model\n",
    "groups = {0:model}"
   ]
  },
  {
   "cell_type": "code",
   "execution_count": 20,
   "id": "d07a1c7f",
   "metadata": {
    "execution": {
     "iopub.execute_input": "2021-11-19T15:02:54.497465Z",
     "iopub.status.busy": "2021-11-19T15:02:54.497465Z",
     "iopub.status.idle": "2021-11-19T15:02:54.527458Z",
     "shell.execute_reply": "2021-11-19T15:02:54.525459Z",
     "shell.execute_reply.started": "2021-11-19T15:02:54.497465Z"
    }
   },
   "outputs": [],
   "source": [
    "explicit(groups, eqsn, 0, d, 4)\n",
    "explicit(groups, eqsn, 0, c, 3)\n",
    "explicit(groups, eqsn, 0, b, 2)\n",
    "explicit(groups, eqsn, 0, x, 1)\n",
    "explicit(groups, eqsn, 0, a, 0)"
   ]
  },
  {
   "cell_type": "code",
   "execution_count": 21,
   "id": "f8ae1f80",
   "metadata": {
    "execution": {
     "iopub.execute_input": "2021-11-19T15:02:54.918459Z",
     "iopub.status.busy": "2021-11-19T15:02:54.917461Z",
     "iopub.status.idle": "2021-11-19T15:02:54.937461Z",
     "shell.execute_reply": "2021-11-19T15:02:54.936458Z",
     "shell.execute_reply.started": "2021-11-19T15:02:54.918459Z"
    }
   },
   "outputs": [],
   "source": [
    "f = Var('f')\n",
    "#explicit(groups, {5: (None, a**2+d**2)}, 0, f, 5)"
   ]
  },
  {
   "cell_type": "code",
   "execution_count": 22,
   "id": "469c6368",
   "metadata": {
    "execution": {
     "iopub.execute_input": "2021-11-19T15:02:55.326463Z",
     "iopub.status.busy": "2021-11-19T15:02:55.325463Z",
     "iopub.status.idle": "2021-11-19T15:02:55.348460Z",
     "shell.execute_reply": "2021-11-19T15:02:55.347459Z",
     "shell.execute_reply.started": "2021-11-19T15:02:55.326463Z"
    }
   },
   "outputs": [],
   "source": [
    "optsolver(groups, {5: (None, a**2+d**2+b**2)}, 0, 1, [e], [[],[],[5]])"
   ]
  },
  {
   "cell_type": "code",
   "execution_count": 23,
   "id": "48d52d38",
   "metadata": {
    "execution": {
     "iopub.execute_input": "2021-11-19T15:02:55.784461Z",
     "iopub.status.busy": "2021-11-19T15:02:55.784461Z",
     "iopub.status.idle": "2021-11-19T15:02:55.804459Z",
     "shell.execute_reply": "2021-11-19T15:02:55.803462Z",
     "shell.execute_reply.started": "2021-11-19T15:02:55.784461Z"
    }
   },
   "outputs": [],
   "source": [
    "prob.setup();"
   ]
  },
  {
   "cell_type": "code",
   "execution_count": 24,
   "id": "0baad5a8",
   "metadata": {
    "execution": {
     "iopub.execute_input": "2021-11-19T15:02:56.343467Z",
     "iopub.status.busy": "2021-11-19T15:02:56.343467Z",
     "iopub.status.idle": "2021-11-19T15:02:56.359462Z",
     "shell.execute_reply": "2021-11-19T15:02:56.358458Z",
     "shell.execute_reply.started": "2021-11-19T15:02:56.343467Z"
    }
   },
   "outputs": [],
   "source": [
    "#om.n2(model)"
   ]
  },
  {
   "cell_type": "code",
   "execution_count": 25,
   "id": "cca2d243",
   "metadata": {
    "execution": {
     "iopub.execute_input": "2021-11-19T15:02:56.729460Z",
     "iopub.status.busy": "2021-11-19T15:02:56.728462Z",
     "iopub.status.idle": "2021-11-19T15:02:56.751461Z",
     "shell.execute_reply": "2021-11-19T15:02:56.750458Z",
     "shell.execute_reply.started": "2021-11-19T15:02:56.729460Z"
    }
   },
   "outputs": [
    {
     "data": {
      "text/plain": [
       "{0: (a, 2.0*x),\n",
       " 1: (x, b - 0.5),\n",
       " 2: (b, 2.0*c - 0.2*d - 40.0),\n",
       " 3: (c, d + 10),\n",
       " 4: (d, -0.5*e)}"
      ]
     },
     "execution_count": 25,
     "metadata": {},
     "output_type": "execute_result"
    }
   ],
   "source": [
    "eqsn"
   ]
  },
  {
   "cell_type": "code",
   "execution_count": 26,
   "id": "0c53d971",
   "metadata": {
    "execution": {
     "iopub.execute_input": "2021-11-19T15:02:57.435462Z",
     "iopub.status.busy": "2021-11-19T15:02:57.435462Z",
     "iopub.status.idle": "2021-11-19T15:02:57.474460Z",
     "shell.execute_reply": "2021-11-19T15:02:57.473456Z",
     "shell.execute_reply.started": "2021-11-19T15:02:57.435462Z"
    }
   },
   "outputs": [
    {
     "name": "stdout",
     "output_type": "stream",
     "text": [
      "Optimization terminated successfully    (Exit mode 0)\n",
      "            Current function value: [121.17674419]\n",
      "            Iterations: 2\n",
      "            Function evaluations: 3\n",
      "            Gradient evaluations: 2\n",
      "Optimization Complete\n",
      "-----------------------------------\n"
     ]
    }
   ],
   "source": [
    "#prob.set_val('c', 100)\n",
    "prob.set_solver_print(level=1)\n",
    "prob.driver = om.ScipyOptimizeDriver()\n",
    "prob.run_driver();"
   ]
  },
  {
   "cell_type": "code",
   "execution_count": 27,
   "id": "1a1efdf7",
   "metadata": {
    "execution": {
     "iopub.execute_input": "2021-11-19T15:03:00.705424Z",
     "iopub.status.busy": "2021-11-19T15:03:00.705424Z",
     "iopub.status.idle": "2021-11-19T15:03:00.720420Z",
     "shell.execute_reply": "2021-11-19T15:03:00.719419Z",
     "shell.execute_reply.started": "2021-11-19T15:03:00.705424Z"
    }
   },
   "outputs": [
    {
     "name": "stdout",
     "output_type": "stream",
     "text": [
      "9 Input(s) in 'model'\n",
      "\n",
      "varname  val           \n",
      "-------  --------------\n",
      "eq4\n",
      "  e      [-21.34883721]\n",
      "eq3\n",
      "  d      [10.6744186]  \n",
      "eq2\n",
      "  d      [10.6744186]  \n",
      "  c      [20.6744186]  \n",
      "eq1\n",
      "  b      [-0.78604651] \n",
      "eq0\n",
      "  x      [-1.28604651] \n",
      "eq5\n",
      "  b      [-0.78604651] \n",
      "  d      [10.6744186]  \n",
      "  a      [-2.57209302] \n",
      "\n",
      "\n"
     ]
    }
   ],
   "source": [
    "model.list_inputs();"
   ]
  },
  {
   "cell_type": "code",
   "execution_count": 28,
   "id": "72825526",
   "metadata": {
    "execution": {
     "iopub.execute_input": "2021-11-19T15:03:02.976787Z",
     "iopub.status.busy": "2021-11-19T15:03:02.976787Z",
     "iopub.status.idle": "2021-11-19T15:03:02.996233Z",
     "shell.execute_reply": "2021-11-19T15:03:02.994289Z",
     "shell.execute_reply.started": "2021-11-19T15:03:02.976787Z"
    }
   },
   "outputs": [
    {
     "data": {
      "text/plain": [
       "(array([121.17675]), array([-21.35]))"
      ]
     },
     "execution_count": 28,
     "metadata": {},
     "output_type": "execute_result"
    }
   ],
   "source": [
    "prob.set_val('e', -21.35)\n",
    "prob.run_model()\n",
    "prob.get_val('f05'), prob.get_val('e')"
   ]
  },
  {
   "cell_type": "markdown",
   "id": "cdf4e329",
   "metadata": {},
   "source": [
    "### Execution workflow 2"
   ]
  },
  {
   "cell_type": "code",
   "execution_count": 33,
   "id": "e441195a",
   "metadata": {
    "execution": {
     "iopub.execute_input": "2021-11-19T15:03:22.411385Z",
     "iopub.status.busy": "2021-11-19T15:03:22.411385Z",
     "iopub.status.idle": "2021-11-19T15:03:22.425383Z",
     "shell.execute_reply": "2021-11-19T15:03:22.424385Z",
     "shell.execute_reply.started": "2021-11-19T15:03:22.411385Z"
    }
   },
   "outputs": [],
   "source": [
    "prob = om.Problem()\n",
    "model = prob.model\n",
    "groups = {0:model}"
   ]
  },
  {
   "cell_type": "markdown",
   "id": "e1d04d92",
   "metadata": {},
   "source": [
    "## TODO\n",
    "Need to exchange the numbers with the expressions probably to make the interface cleaner and independent of passing in the eqs var"
   ]
  },
  {
   "cell_type": "code",
   "execution_count": 34,
   "id": "0543249f",
   "metadata": {
    "execution": {
     "iopub.execute_input": "2021-11-19T15:03:22.990793Z",
     "iopub.status.busy": "2021-11-19T15:03:22.990793Z",
     "iopub.status.idle": "2021-11-19T15:03:23.020787Z",
     "shell.execute_reply": "2021-11-19T15:03:23.019787Z",
     "shell.execute_reply.started": "2021-11-19T15:03:22.990793Z"
    }
   },
   "outputs": [],
   "source": [
    "solver(groups, eqs, 0, 1, [a], [4])\n",
    "explicit(groups, eqs, 1, x, 0)\n",
    "explicit(groups, eqs, 1, b, 1)\n",
    "solver(groups, eqs, 1, 2, [c,d], [2,3])\n",
    "optsolver(groups, {5: (None, a**2+d**2+b**2)}, 0, 1, [e], [[],[],[5]])"
   ]
  },
  {
   "cell_type": "code",
   "execution_count": 35,
   "id": "55cb60e1",
   "metadata": {
    "execution": {
     "iopub.execute_input": "2021-11-19T15:03:26.719874Z",
     "iopub.status.busy": "2021-11-19T15:03:26.718871Z",
     "iopub.status.idle": "2021-11-19T15:03:26.728869Z",
     "shell.execute_reply": "2021-11-19T15:03:26.727873Z",
     "shell.execute_reply.started": "2021-11-19T15:03:26.719874Z"
    }
   },
   "outputs": [],
   "source": [
    "prob.setup();"
   ]
  },
  {
   "cell_type": "code",
   "execution_count": 37,
   "id": "c118a375",
   "metadata": {
    "execution": {
     "iopub.execute_input": "2021-11-19T15:03:38.610983Z",
     "iopub.status.busy": "2021-11-19T15:03:38.609991Z",
     "iopub.status.idle": "2021-11-19T15:03:38.713981Z",
     "shell.execute_reply": "2021-11-19T15:03:38.712982Z",
     "shell.execute_reply.started": "2021-11-19T15:03:38.610983Z"
    }
   },
   "outputs": [
    {
     "name": "stdout",
     "output_type": "stream",
     "text": [
      "\n",
      "======\n",
      "group1\n",
      "======\n",
      "+  \n",
      "+  =============\n",
      "+  group1.group2\n",
      "+  =============\n",
      "+  NL: Newton Converged in 1 iterations\n",
      "+  \n",
      "+  =============\n",
      "+  group1.group2\n",
      "+  =============\n",
      "+  NL: Newton Converged in 0 iterations\n",
      "NL: Newton Converged in 1 iterations\n",
      "\n",
      "======\n",
      "group1\n",
      "======\n",
      "+  \n",
      "+  =============\n",
      "+  group1.group2\n",
      "+  =============\n",
      "+  NL: Newton Converged in 0 iterations\n",
      "NL: Newton Converged in 0 iterations\n",
      "\n",
      "======\n",
      "group1\n",
      "======\n",
      "+  \n",
      "+  =============\n",
      "+  group1.group2\n",
      "+  =============\n",
      "+  NL: Newton Converged in 0 iterations\n",
      "+  \n",
      "+  =============\n",
      "+  group1.group2\n",
      "+  =============\n",
      "+  NL: Newton Converged in 0 iterations\n",
      "NL: Newton Converged in 1 iterations\n",
      "\n",
      "======\n",
      "group1\n",
      "======\n",
      "+  \n",
      "+  =============\n",
      "+  group1.group2\n",
      "+  =============\n",
      "+  NL: Newton Converged in 0 iterations\n",
      "+  \n",
      "+  =============\n",
      "+  group1.group2\n",
      "+  =============\n",
      "+  NL: Newton Converged in 0 iterations\n",
      "NL: Newton Converged in 1 iterations\n",
      "Optimization terminated successfully    (Exit mode 0)\n",
      "            Current function value: [121.17674419]\n",
      "            Iterations: 2\n",
      "            Function evaluations: 3\n",
      "            Gradient evaluations: 2\n",
      "Optimization Complete\n",
      "-----------------------------------\n"
     ]
    }
   ],
   "source": [
    "prob.set_solver_print(level=1)\n",
    "prob.driver = om.ScipyOptimizeDriver()\n",
    "prob.run_driver();"
   ]
  },
  {
   "cell_type": "code",
   "execution_count": 36,
   "id": "b8e6b642",
   "metadata": {
    "execution": {
     "iopub.execute_input": "2021-11-19T15:03:29.391433Z",
     "iopub.status.busy": "2021-11-19T15:03:29.391433Z",
     "iopub.status.idle": "2021-11-19T15:03:29.411402Z",
     "shell.execute_reply": "2021-11-19T15:03:29.410443Z",
     "shell.execute_reply.started": "2021-11-19T15:03:29.391433Z"
    }
   },
   "outputs": [],
   "source": [
    "# prob.set_val('e', -21.35)\n",
    "# prob.run_model()\n",
    "# prob.get_val('f05')"
   ]
  },
  {
   "cell_type": "code",
   "execution_count": 453,
   "id": "6a8190af",
   "metadata": {
    "execution": {
     "iopub.execute_input": "2021-11-13T02:17:32.237795Z",
     "iopub.status.busy": "2021-11-13T02:17:32.237795Z",
     "iopub.status.idle": "2021-11-13T02:17:32.251793Z",
     "shell.execute_reply": "2021-11-13T02:17:32.250791Z",
     "shell.execute_reply.started": "2021-11-13T02:17:32.237795Z"
    }
   },
   "outputs": [],
   "source": [
    "eqs = {\n",
    "    0: (a, x**2-2*x),\n",
    "    1: (None, a+sp.sin(x)-1),\n",
    "    2: (None, -x+2)\n",
    "}"
   ]
  },
  {
   "cell_type": "code",
   "execution_count": 454,
   "id": "d72d4f96",
   "metadata": {
    "execution": {
     "iopub.execute_input": "2021-11-13T02:17:32.646795Z",
     "iopub.status.busy": "2021-11-13T02:17:32.645792Z",
     "iopub.status.idle": "2021-11-13T02:17:32.660793Z",
     "shell.execute_reply": "2021-11-13T02:17:32.659792Z",
     "shell.execute_reply.started": "2021-11-13T02:17:32.646795Z"
    }
   },
   "outputs": [],
   "source": [
    "groups = {}"
   ]
  },
  {
   "cell_type": "code",
   "execution_count": 459,
   "id": "61508efd",
   "metadata": {
    "execution": {
     "iopub.execute_input": "2021-11-13T02:17:33.918794Z",
     "iopub.status.busy": "2021-11-13T02:17:33.917791Z",
     "iopub.status.idle": "2021-11-13T02:17:33.939792Z",
     "shell.execute_reply": "2021-11-13T02:17:33.938789Z",
     "shell.execute_reply.started": "2021-11-13T02:17:33.917791Z"
    }
   },
   "outputs": [],
   "source": [
    "prob = om.Problem()\n",
    "model = prob.model\n",
    "groups[0] = model"
   ]
  },
  {
   "cell_type": "code",
   "execution_count": 460,
   "id": "2d426cd8",
   "metadata": {
    "execution": {
     "iopub.execute_input": "2021-11-13T02:17:34.303795Z",
     "iopub.status.busy": "2021-11-13T02:17:34.303795Z",
     "iopub.status.idle": "2021-11-13T02:17:34.315791Z",
     "shell.execute_reply": "2021-11-13T02:17:34.314791Z",
     "shell.execute_reply.started": "2021-11-13T02:17:34.303795Z"
    }
   },
   "outputs": [],
   "source": [
    "solver(0, 1, [x], [1])\n",
    "explicit(1, a, 0)\n",
    "#optsolver(0, 1, [x], [[2],[],[1]])"
   ]
  },
  {
   "cell_type": "code",
   "execution_count": 461,
   "id": "667c030b",
   "metadata": {
    "execution": {
     "iopub.execute_input": "2021-11-13T02:17:34.716796Z",
     "iopub.status.busy": "2021-11-13T02:17:34.715792Z",
     "iopub.status.idle": "2021-11-13T02:17:34.727791Z",
     "shell.execute_reply": "2021-11-13T02:17:34.726791Z",
     "shell.execute_reply.started": "2021-11-13T02:17:34.716796Z"
    }
   },
   "outputs": [],
   "source": [
    "# for fx, *args in order:\n",
    "#     mapping[fx](*args)"
   ]
  },
  {
   "cell_type": "code",
   "execution_count": 462,
   "id": "35246ada",
   "metadata": {
    "execution": {
     "iopub.execute_input": "2021-11-13T02:17:35.175791Z",
     "iopub.status.busy": "2021-11-13T02:17:35.174790Z",
     "iopub.status.idle": "2021-11-13T02:17:35.182791Z",
     "shell.execute_reply": "2021-11-13T02:17:35.181793Z",
     "shell.execute_reply.started": "2021-11-13T02:17:35.175791Z"
    }
   },
   "outputs": [],
   "source": [
    "prob.setup();"
   ]
  },
  {
   "cell_type": "code",
   "execution_count": 463,
   "id": "30fd7520",
   "metadata": {
    "execution": {
     "iopub.execute_input": "2021-11-13T02:17:35.548807Z",
     "iopub.status.busy": "2021-11-13T02:17:35.547793Z",
     "iopub.status.idle": "2021-11-13T02:17:35.565789Z",
     "shell.execute_reply": "2021-11-13T02:17:35.564789Z",
     "shell.execute_reply.started": "2021-11-13T02:17:35.548807Z"
    }
   },
   "outputs": [],
   "source": [
    "#prob.driver = om.ScipyOptimizeDriver()"
   ]
  },
  {
   "cell_type": "code",
   "execution_count": 464,
   "id": "c9c7115b",
   "metadata": {
    "execution": {
     "iopub.execute_input": "2021-11-13T02:17:35.759795Z",
     "iopub.status.busy": "2021-11-13T02:17:35.759795Z",
     "iopub.status.idle": "2021-11-13T02:17:35.771793Z",
     "shell.execute_reply": "2021-11-13T02:17:35.770795Z",
     "shell.execute_reply.started": "2021-11-13T02:17:35.759795Z"
    }
   },
   "outputs": [],
   "source": [
    "#prob.run_driver();"
   ]
  },
  {
   "cell_type": "code",
   "execution_count": 465,
   "id": "ac0dfed4",
   "metadata": {
    "execution": {
     "iopub.execute_input": "2021-11-13T02:17:36.244794Z",
     "iopub.status.busy": "2021-11-13T02:17:36.243792Z",
     "iopub.status.idle": "2021-11-13T02:17:36.275806Z",
     "shell.execute_reply": "2021-11-13T02:17:36.274793Z",
     "shell.execute_reply.started": "2021-11-13T02:17:36.244794Z"
    }
   },
   "outputs": [
    {
     "name": "stdout",
     "output_type": "stream",
     "text": [
      "\n",
      "======\n",
      "group1\n",
      "======\n",
      "NL: Newton Converged in 6 iterations\n"
     ]
    }
   ],
   "source": [
    "prob.set_solver_print(level=1)\n",
    "prob.run_model()"
   ]
  },
  {
   "cell_type": "code",
   "execution_count": 466,
   "id": "dc14e79a",
   "metadata": {
    "execution": {
     "iopub.execute_input": "2021-11-13T02:17:37.002793Z",
     "iopub.status.busy": "2021-11-13T02:17:37.002793Z",
     "iopub.status.idle": "2021-11-13T02:17:37.016792Z",
     "shell.execute_reply": "2021-11-13T02:17:37.015790Z",
     "shell.execute_reply.started": "2021-11-13T02:17:37.002793Z"
    }
   },
   "outputs": [
    {
     "name": "stdout",
     "output_type": "stream",
     "text": [
      "1 Explicit Output(s) in 'model'\n",
      "\n",
      "varname  val         \n",
      "-------  ------------\n",
      "group1\n",
      "  eq0\n",
      "    a    [0.11550053]\n",
      "\n",
      "\n",
      "1 Implicit Output(s) in 'model'\n",
      "\n",
      "varname  val         \n",
      "-------  ------------\n",
      "group1\n",
      "  res1\n",
      "    x    [2.05617258]\n",
      "\n",
      "\n"
     ]
    }
   ],
   "source": [
    "model.list_outputs();"
   ]
  },
  {
   "cell_type": "code",
   "execution_count": 408,
   "id": "c8396f6d",
   "metadata": {
    "execution": {
     "iopub.execute_input": "2021-11-13T02:14:35.909384Z",
     "iopub.status.busy": "2021-11-13T02:14:35.909384Z",
     "iopub.status.idle": "2021-11-13T02:14:36.002373Z",
     "shell.execute_reply": "2021-11-13T02:14:36.001361Z",
     "shell.execute_reply.started": "2021-11-13T02:14:35.909384Z"
    }
   },
   "outputs": [
    {
     "data": {
      "text/html": [
       "\n",
       "        <iframe\n",
       "            width=\"100%\"\n",
       "            height=\"700\"\n",
       "            src=\"n2.html\"\n",
       "            frameborder=\"0\"\n",
       "            allowfullscreen\n",
       "        ></iframe>\n",
       "        "
      ],
      "text/plain": [
       "<IPython.lib.display.IFrame at 0x21006f6d1c0>"
      ]
     },
     "metadata": {},
     "output_type": "display_data"
    }
   ],
   "source": [
    "om.n2(prob)"
   ]
  },
  {
   "cell_type": "code",
   "execution_count": null,
   "id": "bc3773aa",
   "metadata": {},
   "outputs": [],
   "source": [
    "group = parent.add_subsystem('group{}'.format(counter), \n",
    "        om.Group(), promotes=['*'])\n",
    "cmp = Impcomp(output_names=['a','x'], equations=eqs(3,4))\n",
    "parent.add_subsystem(\"eq{}\".format(eqn), cmp)\n",
    "cmp = Expcomp(output_name='b', equations=eq(0))\n",
    "parent.add_subsystem(\"eq{}\".format(eqn), cmp)\n",
    "group = parent.add_subsystem('group{}'.format(counter), \n",
    "        om.Group(), promotes=['*'])\n",
    "cmp = Impcomp(output_names=['c','d'], equations=eqs(1,2))"
   ]
  },
  {
   "cell_type": "code",
   "execution_count": null,
   "id": "2bdfe719",
   "metadata": {},
   "outputs": [],
   "source": [
    "g = prob.add\n",
    "bal = BalanceComp()\n",
    "\n",
    "bal.add_balance('c', val=1.0)\n",
    "bal.add_balance('d', val=1.0)\n",
    "prob.model.add_subsystem(name='balance', subsys=bal, promotes=['*'])\n",
    "\n",
    "for eqn in [2,3]:\n",
    "    parent.add_subsystem(\"eq{}\".format(eqn), Expcomp(\n",
    "                            output_name='r{}'.format(eqn),\n",
    "                            equation=equationcreator(right-left),\n",
    "                            debug=debug), \n",
    "                            promotes=['*'])\n",
    "prob.model.connect('exec.y', 'balance.lhs:x')\n",
    "prob.model.linear_solver = DirectSolver()\n",
    "prob.model.nonlinear_solver = NewtonSolver(solve_subsystems=False)\n",
    "prob.setup()\n",
    "prob.set_val('exec.x', 2)\n",
    "prob.run_model()"
   ]
  }
 ],
 "metadata": {
  "kernelspec": {
   "display_name": "mdo",
   "language": "python",
   "name": "mdo"
  },
  "language_info": {
   "codemirror_mode": {
    "name": "ipython",
    "version": 3
   },
   "file_extension": ".py",
   "mimetype": "text/x-python",
   "name": "python",
   "nbconvert_exporter": "python",
   "pygments_lexer": "ipython3",
   "version": "3.8.12"
  }
 },
 "nbformat": 4,
 "nbformat_minor": 5
}
