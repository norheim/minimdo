{
 "cells": [
  {
   "cell_type": "markdown",
   "id": "9aac92eb-ee42-49f5-b830-06e9e2505881",
   "metadata": {},
   "source": [
    "Based on ds_tree.ipynb"
   ]
  },
  {
   "cell_type": "markdown",
   "id": "5a5b6670-3fd9-4958-b381-a49d9c3ff0c0",
   "metadata": {},
   "source": [
    "This is the data structure based on the theory section of the thesis, which tries to be as minimal as possible.\n",
    "We then have:\n",
    "- constructor functions that can build this data structure. E.g:\n",
    "    - random networks\n",
    "    - sympy equation builder\n",
    "    - manual solver structure builder\n",
    "- mapping functions that can associate additional information with each datastructure. E.g:\n",
    "    - openMDAO namer(or any other renamer)\n",
    "    - mapping to actualy functions(that need to have the correct data shape for input and output)\n",
    "- processing functions that extract useful information based on the datastructures. E.g:\n",
    "    - returning all variables\n",
    "    - get input variables\n",
    "    - get output variables"
   ]
  },
  {
   "cell_type": "markdown",
   "id": "a2ae8668-0c92-4ad6-8e44-0a62a38ed087",
   "metadata": {
    "tags": []
   },
   "source": [
    "# Example data structure\n",
    "## Directed Graph"
   ]
  },
  {
   "cell_type": "code",
   "execution_count": 1,
   "id": "7ba4d9d5-0b6b-4176-8c3b-221dc87d9675",
   "metadata": {
    "execution": {
     "iopub.execute_input": "2022-03-10T00:34:41.031505Z",
     "iopub.status.busy": "2022-03-10T00:34:41.031505Z",
     "iopub.status.idle": "2022-03-10T00:34:43.292370Z",
     "shell.execute_reply": "2022-03-10T00:34:43.292370Z",
     "shell.execute_reply.started": "2022-03-10T00:34:41.031505Z"
    },
    "tags": []
   },
   "outputs": [],
   "source": [
    "from collections import OrderedDict, defaultdict, namedtuple\n",
    "from functools import partial\n",
    "import itertools\n",
    "import networkx as nx\n",
    "from representations import draw\n",
    "from itertools import chain\n",
    "from enum import Enum\n",
    "from copy import copy\n",
    "import numpy as np"
   ]
  },
  {
   "cell_type": "code",
   "execution_count": 2,
   "id": "9ec7adcb-5b5f-420b-a2a9-6ab9ba18df8d",
   "metadata": {
    "execution": {
     "iopub.execute_input": "2022-03-10T00:34:43.292370Z",
     "iopub.status.busy": "2022-03-10T00:34:43.292370Z",
     "iopub.status.idle": "2022-03-10T00:34:43.307866Z",
     "shell.execute_reply": "2022-03-10T00:34:43.307866Z",
     "shell.execute_reply.started": "2022-03-10T00:34:43.292370Z"
    },
    "tags": []
   },
   "outputs": [],
   "source": [
    "NodeTypes = Enum('NodeTypes', 'VAR COMP SOLVER')\n",
    "VAR, COMP, SOLVER = NodeTypes.VAR,NodeTypes.COMP,NodeTypes.SOLVER"
   ]
  },
  {
   "cell_type": "code",
   "execution_count": 3,
   "id": "d96d7964-dd9d-4fbe-8322-3b0e031e536e",
   "metadata": {
    "execution": {
     "iopub.execute_input": "2022-03-10T00:34:43.309797Z",
     "iopub.status.busy": "2022-03-10T00:34:43.309797Z",
     "iopub.status.idle": "2022-03-10T00:34:43.355013Z",
     "shell.execute_reply": "2022-03-10T00:34:43.354080Z",
     "shell.execute_reply.started": "2022-03-10T00:34:43.309797Z"
    },
    "tags": []
   },
   "outputs": [],
   "source": [
    "nodetyperepr = {VAR: 'x_{}', COMP: 'f_{}', SOLVER: 's_{}'}\n",
    "Node = namedtuple('NODE', ['name', 'nodetype'])\n",
    "Node.__repr__ = lambda x: nodetyperepr[x.nodetype].format(x.name)\n",
    "Node.__str__ = Node.__repr__"
   ]
  },
  {
   "cell_type": "code",
   "execution_count": 4,
   "id": "f8976120-9e3b-4016-8da7-efd9a4d4fb99",
   "metadata": {
    "execution": {
     "iopub.execute_input": "2022-03-10T00:34:43.355995Z",
     "iopub.status.busy": "2022-03-10T00:34:43.355013Z",
     "iopub.status.idle": "2022-03-10T00:34:43.369014Z",
     "shell.execute_reply": "2022-03-10T00:34:43.369014Z",
     "shell.execute_reply.started": "2022-03-10T00:34:43.355995Z"
    },
    "tags": []
   },
   "outputs": [],
   "source": [
    "Ein = {\n",
    "    1: (7,),\n",
    "    2: (3,6),\n",
    "    3: (1,),\n",
    "    4: (2,4),\n",
    "    5: (3,2)\n",
    "}\n",
    "# IMPORTANT: Need to enforce that each output variable \n",
    "# can only be connected to one function\n",
    "Eout = {\n",
    "    1: (6,),\n",
    "    2: (1,),\n",
    "    3: (2,), \n",
    "    4: (None,), # this gives us the size of the outputs\n",
    "    5: (5,), # Use None to indicate the size of the output\n",
    "}\n",
    "\n",
    "Rin = {\n",
    "    #3: (2,) # in original model its 3: (2,), so we have x_2 = f3(x_1)\n",
    "}"
   ]
  },
  {
   "cell_type": "code",
   "execution_count": 5,
   "id": "ae7605ce-f943-4d88-8c58-316291a6a7b9",
   "metadata": {
    "execution": {
     "iopub.execute_input": "2022-03-10T00:34:43.370994Z",
     "iopub.status.busy": "2022-03-10T00:34:43.369994Z",
     "iopub.status.idle": "2022-03-10T00:34:43.385082Z",
     "shell.execute_reply": "2022-03-10T00:34:43.385082Z",
     "shell.execute_reply.started": "2022-03-10T00:34:43.370994Z"
    },
    "tags": []
   },
   "outputs": [],
   "source": [
    "def filter_comps(E, filterto=None):\n",
    "    return ((key,val) for key,val in E.items() if not filterto or key in filterto)"
   ]
  },
  {
   "cell_type": "code",
   "execution_count": 49,
   "id": "a5836316-5cdf-41b3-9677-3685f8ef6dec",
   "metadata": {
    "execution": {
     "iopub.execute_input": "2022-03-10T00:40:17.783973Z",
     "iopub.status.busy": "2022-03-10T00:40:17.783973Z",
     "iopub.status.idle": "2022-03-10T00:40:17.789971Z",
     "shell.execute_reply": "2022-03-10T00:40:17.789867Z",
     "shell.execute_reply.started": "2022-03-10T00:40:17.783973Z"
    },
    "tags": []
   },
   "outputs": [],
   "source": [
    "def transform_E(E, tfx=None, tvar=None):\n",
    "    tfx = tfx if tfx else lambda fx: fx\n",
    "    tvar = tvar if tvar else lambda var: var\n",
    "    return {tfx(fx): tuple(tvar(var) if var!=None else None for var in vrs) for fx, vrs in E.items()} \n",
    "def edges_E(E, reverse=True, transform=None, filterto=None):\n",
    "    E = dict(filter_comps(E, filterto))\n",
    "    E = transform(E) if transform else E\n",
    "    return [(var,fx) if reverse else (fx,var) for fx,vrs in E.items() for var in vrs if var]\n",
    "def all_edges(Ein, Eout, transform=None, filterto=None):\n",
    "    return edges_E(Ein, True, transform, filterto)+edges_E(Eout, False, transform, filterto)"
   ]
  },
  {
   "cell_type": "code",
   "execution_count": 7,
   "id": "cf29f250-c432-4102-8da0-f3eaa768c905",
   "metadata": {
    "execution": {
     "iopub.execute_input": "2022-03-10T00:34:43.402520Z",
     "iopub.status.busy": "2022-03-10T00:34:43.401525Z",
     "iopub.status.idle": "2022-03-10T00:34:43.416519Z",
     "shell.execute_reply": "2022-03-10T00:34:43.416519Z",
     "shell.execute_reply.started": "2022-03-10T00:34:43.402520Z"
    },
    "tags": []
   },
   "outputs": [],
   "source": [
    "def merge_edges(Ein, Rin):\n",
    "    return {key: var+Rin.get(key, tuple()) for key,var in Ein.items()}"
   ]
  },
  {
   "cell_type": "markdown",
   "id": "ace693b7-257a-46c3-8a93-5ef1e4501836",
   "metadata": {},
   "source": [
    "# Processing functions"
   ]
  },
  {
   "cell_type": "code",
   "execution_count": 8,
   "id": "3d0948b8-c383-4bc9-8861-3292bd1dfa12",
   "metadata": {
    "execution": {
     "iopub.execute_input": "2022-03-10T00:34:43.418520Z",
     "iopub.status.busy": "2022-03-10T00:34:43.417520Z",
     "iopub.status.idle": "2022-03-10T00:34:43.432606Z",
     "shell.execute_reply": "2022-03-10T00:34:43.432606Z",
     "shell.execute_reply.started": "2022-03-10T00:34:43.418520Z"
    }
   },
   "outputs": [],
   "source": [
    "def all_components(E):\n",
    "    return set(E.keys())"
   ]
  },
  {
   "cell_type": "code",
   "execution_count": 9,
   "id": "7ae1aa30-e450-4238-b3c9-e5a79606bf8d",
   "metadata": {
    "execution": {
     "iopub.execute_input": "2022-03-10T00:34:43.433837Z",
     "iopub.status.busy": "2022-03-10T00:34:43.433837Z",
     "iopub.status.idle": "2022-03-10T00:34:43.447952Z",
     "shell.execute_reply": "2022-03-10T00:34:43.447952Z",
     "shell.execute_reply.started": "2022-03-10T00:34:43.433837Z"
    }
   },
   "outputs": [],
   "source": [
    "def end_components(E):\n",
    "    return [key for key,var in E.items() if None in var]"
   ]
  },
  {
   "cell_type": "code",
   "execution_count": 10,
   "id": "a25eadc7-8e75-482d-afb6-bbcc480d2f57",
   "metadata": {
    "execution": {
     "iopub.execute_input": "2022-03-10T00:34:43.448998Z",
     "iopub.status.busy": "2022-03-10T00:34:43.448998Z",
     "iopub.status.idle": "2022-03-10T00:34:43.463092Z",
     "shell.execute_reply": "2022-03-10T00:34:43.462994Z",
     "shell.execute_reply.started": "2022-03-10T00:34:43.448998Z"
    },
    "tags": []
   },
   "outputs": [],
   "source": [
    "def all_varnodes(E, filterto=None):\n",
    "    return {var for key,val in filter_comps(E, filterto) for var in val}"
   ]
  },
  {
   "cell_type": "code",
   "execution_count": 11,
   "id": "e6353272-5d71-45ff-a57c-8fc50cfb9c11",
   "metadata": {
    "execution": {
     "iopub.execute_input": "2022-03-10T00:34:43.464100Z",
     "iopub.status.busy": "2022-03-10T00:34:43.464100Z",
     "iopub.status.idle": "2022-03-10T00:34:43.478183Z",
     "shell.execute_reply": "2022-03-10T00:34:43.478183Z",
     "shell.execute_reply.started": "2022-03-10T00:34:43.464100Z"
    },
    "tags": []
   },
   "outputs": [],
   "source": [
    "def all_variables(Ein, Eout, filterto=None):\n",
    "    return all_varnodes(Ein, filterto).union(all_varnodes(Eout, filterto)-{None})"
   ]
  },
  {
   "cell_type": "code",
   "execution_count": 12,
   "id": "04766c18-b48e-45d8-9176-f598c27cd013",
   "metadata": {
    "execution": {
     "iopub.execute_input": "2022-03-10T00:34:43.481102Z",
     "iopub.status.busy": "2022-03-10T00:34:43.481102Z",
     "iopub.status.idle": "2022-03-10T00:34:43.494959Z",
     "shell.execute_reply": "2022-03-10T00:34:43.494211Z",
     "shell.execute_reply.started": "2022-03-10T00:34:43.481102Z"
    },
    "tags": []
   },
   "outputs": [],
   "source": [
    "def sources(Ein, Eout, filterto=None):\n",
    "    return all_varnodes(Ein, filterto)-all_varnodes(Eout, filterto)"
   ]
  },
  {
   "cell_type": "code",
   "execution_count": 13,
   "id": "ef23d407-5a0a-4e52-aae7-37bc1edf3b76",
   "metadata": {
    "execution": {
     "iopub.execute_input": "2022-03-10T00:34:43.496276Z",
     "iopub.status.busy": "2022-03-10T00:34:43.494959Z",
     "iopub.status.idle": "2022-03-10T00:34:43.509473Z",
     "shell.execute_reply": "2022-03-10T00:34:43.509351Z",
     "shell.execute_reply.started": "2022-03-10T00:34:43.496276Z"
    },
    "tags": []
   },
   "outputs": [],
   "source": [
    "def sinks(Ein, Eout, filterto=None):\n",
    "    return all_varnodes(Eout, filterto)-all_varnodes(Ein, filterto)"
   ]
  },
  {
   "cell_type": "code",
   "execution_count": 14,
   "id": "c850ca0b-3961-4f1b-be26-3e26fb617122",
   "metadata": {
    "execution": {
     "iopub.execute_input": "2022-03-10T00:34:43.511511Z",
     "iopub.status.busy": "2022-03-10T00:34:43.511511Z",
     "iopub.status.idle": "2022-03-10T00:34:43.524872Z",
     "shell.execute_reply": "2022-03-10T00:34:43.524609Z",
     "shell.execute_reply.started": "2022-03-10T00:34:43.511511Z"
    },
    "tags": []
   },
   "outputs": [
    {
     "data": {
      "text/plain": [
       "{1, 2, 3, 4, 5, 6, 7}"
      ]
     },
     "execution_count": 14,
     "metadata": {},
     "output_type": "execute_result"
    }
   ],
   "source": [
    "all_variables(Ein, Eout)"
   ]
  },
  {
   "cell_type": "code",
   "execution_count": 15,
   "id": "928f627d-3f90-4553-b9c4-1d45a6f522a8",
   "metadata": {
    "execution": {
     "iopub.execute_input": "2022-03-10T00:34:43.525886Z",
     "iopub.status.busy": "2022-03-10T00:34:43.525886Z",
     "iopub.status.idle": "2022-03-10T00:34:43.540007Z",
     "shell.execute_reply": "2022-03-10T00:34:43.540007Z",
     "shell.execute_reply.started": "2022-03-10T00:34:43.525886Z"
    },
    "tags": []
   },
   "outputs": [
    {
     "data": {
      "text/plain": [
       "{3, 4, 7}"
      ]
     },
     "execution_count": 15,
     "metadata": {},
     "output_type": "execute_result"
    }
   ],
   "source": [
    "sources(Ein, Eout)"
   ]
  },
  {
   "cell_type": "markdown",
   "id": "91a67bf4-8fc4-4003-87bf-e3bfe516fe7f",
   "metadata": {},
   "source": [
    "# Typed graph"
   ]
  },
  {
   "cell_type": "markdown",
   "id": "761eac4e-736b-4f5d-8461-e84b61e97f1e",
   "metadata": {},
   "source": [
    "## Flat graph\n",
    "This is the flat graph that doesn't use any information about the tree"
   ]
  },
  {
   "cell_type": "code",
   "execution_count": 16,
   "id": "052109ad-8f13-4abc-8743-b4b98dba81b4",
   "metadata": {
    "execution": {
     "iopub.execute_input": "2022-03-10T00:34:44.752192Z",
     "iopub.status.busy": "2022-03-10T00:34:44.752192Z",
     "iopub.status.idle": "2022-03-10T00:34:44.757295Z",
     "shell.execute_reply": "2022-03-10T00:34:44.757192Z",
     "shell.execute_reply.started": "2022-03-10T00:34:44.752192Z"
    }
   },
   "outputs": [],
   "source": [
    "edges = all_edges(merge_edges(Ein,Rin), Eout, partial(transform_E, tfx=lambda x: Node(x, COMP), tvar=lambda x: Node(x, VAR)))"
   ]
  },
  {
   "cell_type": "code",
   "execution_count": 17,
   "id": "af71a570-71bc-4e5a-b80b-1a7999e6f5ab",
   "metadata": {
    "execution": {
     "iopub.execute_input": "2022-03-10T00:34:45.388144Z",
     "iopub.status.busy": "2022-03-10T00:34:45.388144Z",
     "iopub.status.idle": "2022-03-10T00:34:45.397815Z",
     "shell.execute_reply": "2022-03-10T00:34:45.397643Z",
     "shell.execute_reply.started": "2022-03-10T00:34:45.388144Z"
    }
   },
   "outputs": [],
   "source": [
    "G = nx.DiGraph(edges)"
   ]
  },
  {
   "cell_type": "code",
   "execution_count": 18,
   "id": "651ae372-c017-478a-b9ff-c1be4580fd9f",
   "metadata": {
    "execution": {
     "iopub.execute_input": "2022-03-10T00:34:45.706038Z",
     "iopub.status.busy": "2022-03-10T00:34:45.706038Z",
     "iopub.status.idle": "2022-03-10T00:34:45.723421Z",
     "shell.execute_reply": "2022-03-10T00:34:45.723421Z",
     "shell.execute_reply.started": "2022-03-10T00:34:45.706038Z"
    },
    "tags": []
   },
   "outputs": [],
   "source": [
    "var_names = [Node(var, VAR) for var in all_variables(Ein, Eout)]"
   ]
  },
  {
   "cell_type": "code",
   "execution_count": 19,
   "id": "c4dec43c-7492-494c-8823-562e1b428c5a",
   "metadata": {
    "execution": {
     "iopub.execute_input": "2022-03-10T00:34:46.211076Z",
     "iopub.status.busy": "2022-03-10T00:34:46.210081Z",
     "iopub.status.idle": "2022-03-10T00:34:46.808025Z",
     "shell.execute_reply": "2022-03-10T00:34:46.807738Z",
     "shell.execute_reply.started": "2022-03-10T00:34:46.211076Z"
    }
   },
   "outputs": [
    {
     "data": {
      "image/png": "[encoded data removed]",
      "text/plain": [
       "<Figure size 792x288 with 1 Axes>"
      ]
     },
     "metadata": {},
     "output_type": "display_data"
    }
   ],
   "source": [
    "node_shapes = {elt:'o' if elt in var_names else 's' for elt in G.nodes()}\n",
    "draw(G, node_shape=node_shapes, prog='sfdp', figsize=(11,4), latexlabels=False);"
   ]
  },
  {
   "cell_type": "markdown",
   "id": "28d6fea7-11f3-47f2-bf6d-ff54cc65583a",
   "metadata": {},
   "source": [
    "## Ordered tree"
   ]
  },
  {
   "cell_type": "code",
   "execution_count": 20,
   "id": "6809beb2-839e-402e-96ad-85240accd6da",
   "metadata": {
    "execution": {
     "iopub.execute_input": "2022-03-10T00:34:50.566820Z",
     "iopub.status.busy": "2022-03-10T00:34:50.565815Z",
     "iopub.status.idle": "2022-03-10T00:34:50.588654Z",
     "shell.execute_reply": "2022-03-10T00:34:50.588584Z",
     "shell.execute_reply.started": "2022-03-10T00:34:50.566820Z"
    },
    "tags": []
   },
   "outputs": [],
   "source": [
    "Stree = {\n",
    "    2:1\n",
    "}\n",
    "Ftree = OrderedDict((\n",
    "    (1,1),\n",
    "    (2,2),\n",
    "    (3,2),\n",
    "    (4,2),\n",
    "    (5,1)\n",
    "))\n",
    "Vtree = {\n",
    "    3:2\n",
    "}"
   ]
  },
  {
   "cell_type": "markdown",
   "id": "91b96e5e-72da-4ed9-abf7-fcd3ccea2d06",
   "metadata": {},
   "source": [
    "## Functions"
   ]
  },
  {
   "cell_type": "code",
   "execution_count": 21,
   "id": "6c0c46d2-46b4-40c3-86e0-6c100949abf4",
   "metadata": {
    "execution": {
     "iopub.execute_input": "2022-03-10T00:34:51.216735Z",
     "iopub.status.busy": "2022-03-10T00:34:51.216735Z",
     "iopub.status.idle": "2022-03-10T00:34:51.227017Z",
     "shell.execute_reply": "2022-03-10T00:34:51.227017Z",
     "shell.execute_reply.started": "2022-03-10T00:34:51.216735Z"
    }
   },
   "outputs": [],
   "source": [
    "Ein = {\n",
    "    1: (7,),\n",
    "    2: (3,6),\n",
    "    3: (1,),\n",
    "    4: (2,4),\n",
    "    5: (3,2)\n",
    "}\n",
    "# IMPORTANT: Need to enforce that each output variable \n",
    "# can only be connected to one function\n",
    "Eout = {\n",
    "    1: (6,),\n",
    "    2: (1,),\n",
    "    3: (2,), \n",
    "    4: (None,), # this gives us the size of the outputs\n",
    "    5: (5,), # Use None to indicate the size of the output\n",
    "}\n",
    "\n",
    "Rin = {\n",
    "    #3: (2,) # in original model its 3: (2,), so we have x_2 = f3(x_1)\n",
    "}"
   ]
  },
  {
   "cell_type": "code",
   "execution_count": 22,
   "id": "65051017-8d7d-45c8-8933-323086ca71bd",
   "metadata": {
    "execution": {
     "iopub.execute_input": "2022-03-10T00:34:52.323872Z",
     "iopub.status.busy": "2022-03-10T00:34:52.323872Z",
     "iopub.status.idle": "2022-03-10T00:34:52.338705Z",
     "shell.execute_reply": "2022-03-10T00:34:52.338507Z",
     "shell.execute_reply.started": "2022-03-10T00:34:52.323872Z"
    },
    "tags": []
   },
   "outputs": [],
   "source": [
    "# lookup table for functions\n",
    "f = {\n",
    "    ((6,),(7,)): lambda x,y: (x+y,),\n",
    "    ((1,),(3,6)): lambda x,y,z: (x+y+z,),\n",
    "    ((2,),(1,)): lambda x: x**2,\n",
    "    ((None,),(2,4)): lambda x,y: (x+y,),\n",
    "    ((5,),(3,2)): lambda x,y,z: (x+y,)\n",
    "}"
   ]
  },
  {
   "cell_type": "markdown",
   "id": "c24e5433-b876-4473-8ca6-7f30325b9260",
   "metadata": {},
   "source": [
    "# Generating workflows"
   ]
  },
  {
   "cell_type": "markdown",
   "id": "d3d093d6-76cb-4c51-8fc4-b1fadd3c76e6",
   "metadata": {
    "tags": []
   },
   "source": [
    "## Merging"
   ]
  },
  {
   "cell_type": "code",
   "execution_count": 35,
   "id": "25723002-c442-45cf-a620-1b8c6354fa16",
   "metadata": {
    "tags": []
   },
   "outputs": [],
   "source": [
    "merge_comps = {2,3,4}"
   ]
  },
  {
   "cell_type": "markdown",
   "id": "157a2ec1-bd28-4824-9e45-d05a7c0a3d11",
   "metadata": {},
   "source": [
    "Need to operate on graphs"
   ]
  },
  {
   "cell_type": "code",
   "execution_count": 36,
   "id": "6bc9439e-6f03-4a17-86c7-0d49c909baf3",
   "metadata": {},
   "outputs": [],
   "source": [
    "def get_edges(G):\n",
    "    Ein, Eout = dict(), dict()\n",
    "    for node in filter(lambda x: x.nodetype!=VAR, G.nodes()):\n",
    "        Ein[node] = set(G.predecessors(node))\n",
    "        Eout[node] = set(G.successors(node))\n",
    "    return Ein, Eout"
   ]
  },
  {
   "cell_type": "code",
   "execution_count": 369,
   "id": "88a97891-c2c6-4df5-b073-f83042eb3925",
   "metadata": {},
   "outputs": [],
   "source": [
    "def merge_graph(G, typed_mergelts, solve_vars, solver_idx=0):\n",
    "    graph_Ein, graph_Eout = get_edges(G)\n",
    "    typed_nonmergelts = {elt for elt in G.nodes() if elt.nodetype!=VAR and elt not in typed_mergelts}\n",
    "    graph_Ein_merge = dict(filter_comps(graph_Ein, typed_mergelts))\n",
    "    graph_Eout_merge= dict(filter_comps(graph_Eout, typed_mergelts))\n",
    "    \n",
    "    # Merge children components\n",
    "    child_edges = all_edges(graph_Ein_merge, graph_Eout_merge)\n",
    "    G_child = nx.DiGraph(child_edges)\n",
    "    \n",
    "    # Update parent components\n",
    "    typed_solve_vars = {Node(var, VAR) for var in solve_vars}\n",
    "    srcs = sources(graph_Ein_merge, graph_Eout_merge)\n",
    "    allowable_solvevars = srcs.intersection(sources(graph_Ein,graph_Eout))\n",
    "    assert all(var in allowable_solvevars for var in typed_solve_vars)\n",
    "    mergecomp_ins = srcs-typed_solve_vars\n",
    "    mergecomp_outs = all_varnodes(graph_Eout_merge).intersection(\n",
    "        all_varnodes(graph_Ein, typed_nonmergelts)).union(typed_solve_vars)\n",
    "    new_Ein = chain(\n",
    "        filter_comps(graph_Ein, filterto=typed_nonmergelts),\n",
    "        ((Node(solver_idx, SOLVER), mergecomp_ins),)\n",
    "    )\n",
    "    new_Eout = chain(\n",
    "        filter_comps(graph_Eout, filterto=typed_nonmergelts), \n",
    "        ((Node(solver_idx, SOLVER),mergecomp_outs),)\n",
    "    )\n",
    "    parent_edges=all_edges(dict(new_Ein), dict(new_Eout))\n",
    "    G_parent = nx.DiGraph(parent_edges)\n",
    "    return G_parent, G_child"
   ]
  },
  {
   "cell_type": "code",
   "execution_count": 38,
   "id": "eb72135d-a069-498d-af7c-077e360a1c4d",
   "metadata": {},
   "outputs": [],
   "source": [
    "G_parent, G_child = merge_graph(G, {Node(2,COMP),Node(3,COMP)}, {3}, solver_idx=1)"
   ]
  },
  {
   "cell_type": "code",
   "execution_count": 39,
   "id": "f28e7e55-783c-438a-a537-f92e331e213e",
   "metadata": {},
   "outputs": [],
   "source": [
    "G_parent2, G_child2 = merge_graph(G_parent, {Node(4,COMP),Node(5,COMP), Node(1,COMP)}, {}, solver_idx=2)"
   ]
  },
  {
   "cell_type": "code",
   "execution_count": 40,
   "id": "af322283-4c59-4be7-bc3e-2375160fc997",
   "metadata": {},
   "outputs": [
    {
     "data": {
      "image/png": "[encoded data removed]",
      "text/plain": [
       "<Figure size 504x360 with 1 Axes>"
      ]
     },
     "metadata": {},
     "output_type": "display_data"
    }
   ],
   "source": [
    "node_shapes = {elt:'o' if elt in var_names else 's' for elt in G_parent.nodes()}\n",
    "draw(G_parent, node_shape=node_shapes, prog='sfdp',figsize=(7,5), latexlabels=False);"
   ]
  },
  {
   "cell_type": "code",
   "execution_count": 41,
   "id": "d9e4a815-367f-4f4e-880c-54155412b75c",
   "metadata": {},
   "outputs": [
    {
     "data": {
      "image/png": "[encoded data removed]",
      "text/plain": [
       "<Figure size 504x216 with 1 Axes>"
      ]
     },
     "metadata": {},
     "output_type": "display_data"
    }
   ],
   "source": [
    "node_shapes = {elt:'o' if elt in var_names else 's' for elt in G_parent2.nodes()}\n",
    "draw(G_parent2, node_shape=node_shapes, prog='sfdp',figsize=(7,3), latexlabels=False);"
   ]
  },
  {
   "cell_type": "markdown",
   "id": "dabd8159-56ef-429e-bed0-f13958fd2e9f",
   "metadata": {
    "tags": []
   },
   "source": [
    "# Build graphs"
   ]
  },
  {
   "cell_type": "code",
   "execution_count": 23,
   "id": "8ce69f80-026c-4892-abba-c678ba922761",
   "metadata": {
    "execution": {
     "iopub.execute_input": "2022-03-10T00:34:55.120474Z",
     "iopub.status.busy": "2022-03-10T00:34:55.120474Z",
     "iopub.status.idle": "2022-03-10T00:34:55.131833Z",
     "shell.execute_reply": "2022-03-10T00:34:55.131142Z",
     "shell.execute_reply.started": "2022-03-10T00:34:55.120474Z"
    },
    "tags": []
   },
   "outputs": [],
   "source": [
    "tree = {\n",
    "    2:1,\n",
    "}"
   ]
  },
  {
   "cell_type": "code",
   "execution_count": 24,
   "id": "ead8c36b-ef68-4bcf-ab18-8f523ab9b769",
   "metadata": {
    "execution": {
     "iopub.execute_input": "2022-03-10T00:34:55.433624Z",
     "iopub.status.busy": "2022-03-10T00:34:55.432629Z",
     "iopub.status.idle": "2022-03-10T00:34:55.445989Z",
     "shell.execute_reply": "2022-03-10T00:34:55.445712Z",
     "shell.execute_reply.started": "2022-03-10T00:34:55.433624Z"
    },
    "tags": []
   },
   "outputs": [],
   "source": [
    "def level_order_tree(tree, root=1):\n",
    "    level_order = [root]\n",
    "    next_dict = defaultdict(list)\n",
    "    for key,val in tree.items():\n",
    "        next_dict[val].append(key) \n",
    "    q = [root]\n",
    "    while q:\n",
    "        idx = q.pop()\n",
    "        elts = next_dict[idx]\n",
    "        level_order+=elts\n",
    "        q+=elts\n",
    "    return level_order"
   ]
  },
  {
   "cell_type": "code",
   "execution_count": 25,
   "id": "656d0d82-37bd-4279-8718-6c5cd3af2ca2",
   "metadata": {
    "execution": {
     "iopub.execute_input": "2022-03-10T00:34:55.775973Z",
     "iopub.status.busy": "2022-03-10T00:34:55.774891Z",
     "iopub.status.idle": "2022-03-10T00:34:55.787848Z",
     "shell.execute_reply": "2022-03-10T00:34:55.787848Z",
     "shell.execute_reply.started": "2022-03-10T00:34:55.775973Z"
    },
    "tags": []
   },
   "outputs": [
    {
     "data": {
      "text/plain": [
       "[1, 2]"
      ]
     },
     "execution_count": 25,
     "metadata": {},
     "output_type": "execute_result"
    }
   ],
   "source": [
    "level_order_tree(tree)"
   ]
  },
  {
   "cell_type": "code",
   "execution_count": 43,
   "id": "0646036c-21c1-45b9-83f4-7e81f01e829d",
   "metadata": {},
   "outputs": [],
   "source": [
    "def solver_children(tree, solver_idx):\n",
    "    return {comp for comp,parent_solver in tree.items() if parent_solver==solver_idx}"
   ]
  },
  {
   "cell_type": "code",
   "execution_count": 44,
   "id": "dca60654-46ec-45a5-a134-b8b8d2944b25",
   "metadata": {},
   "outputs": [
    {
     "data": {
      "text/plain": [
       "{2}"
      ]
     },
     "execution_count": 44,
     "metadata": {},
     "output_type": "execute_result"
    }
   ],
   "source": [
    "solver_children(Stree, 1)"
   ]
  },
  {
   "cell_type": "code",
   "execution_count": 67,
   "id": "ac0515c2-70da-406b-94d5-2e15682e16b4",
   "metadata": {},
   "outputs": [],
   "source": [
    "def build_typedgraph(G, Ftree, Stree, Vtree):\n",
    "    graphs = dict()\n",
    "    G_parent = G\n",
    "    merge_order = level_order_tree(Stree)[::-1]\n",
    "    for solver_idx in merge_order:\n",
    "        merge_comps = {Node(comp, COMP) for comp in solver_children(Ftree, solver_idx)}.union(\n",
    "                    {Node(solver, SOLVER) for solver in solver_children(Stree, solver_idx)})\n",
    "        solve_vars = {var for var in solver_children(Vtree, solver_idx)}\n",
    "        G_parent, graphs[solver_idx] = merge_graph(G_parent, merge_comps, solve_vars, solver_idx)\n",
    "    return graphs"
   ]
  },
  {
   "cell_type": "code",
   "execution_count": null,
   "id": "249c395c-5841-45b8-baaf-9b24febd47f9",
   "metadata": {},
   "outputs": [],
   "source": [
    "graphs = build_typedgraph(G)"
   ]
  },
  {
   "cell_type": "code",
   "execution_count": 46,
   "id": "d713a7a7-73e5-4c73-8e48-759f72a1ba81",
   "metadata": {},
   "outputs": [
    {
     "data": {
      "image/png": "[encoded data removed]",
      "text/plain": [
       "<Figure size 504x216 with 1 Axes>"
      ]
     },
     "metadata": {},
     "output_type": "display_data"
    },
    {
     "data": {
      "image/png": "[encoded data removed]",
      "text/plain": [
       "<Figure size 504x216 with 1 Axes>"
      ]
     },
     "metadata": {},
     "output_type": "display_data"
    }
   ],
   "source": [
    "for key,graph in graphs.items():\n",
    "    node_shapes = {elt:'o' if elt in var_names else 's' for elt in graph.nodes()}\n",
    "    draw(graph, node_shape=node_shapes, prog='sfdp',figsize=(7,3), latexlabels=False);"
   ]
  },
  {
   "cell_type": "markdown",
   "id": "0ca5542a-8fee-4320-843e-6e385eebbd80",
   "metadata": {},
   "source": [
    "# Operations"
   ]
  },
  {
   "cell_type": "code",
   "execution_count": 47,
   "id": "c24ee5f5-c1ae-4836-a9f7-1954121fa07f",
   "metadata": {},
   "outputs": [],
   "source": [
    "def copy_dicts(dicts):\n",
    "    return tuple(dict(d) for d in dicts)"
   ]
  },
  {
   "cell_type": "markdown",
   "id": "bde60296-30bb-4173-b427-b625280cd8c4",
   "metadata": {},
   "source": [
    "### standardize"
   ]
  },
  {
   "cell_type": "code",
   "execution_count": 387,
   "id": "f5f6a899-fa90-479f-b161-8e7e31559b5f",
   "metadata": {},
   "outputs": [],
   "source": [
    "def standardize_comp(edges, Vtree, Ftree, comp, vrs=None):\n",
    "    Ein, Eout, Rin = copy_dicts(edges)\n",
    "    if vrs:\n",
    "        updated_outs = tuple(elt for elt in Eout[comp] if elt not in vrs)\n",
    "    else:\n",
    "        vrs, updated_outs = zip(*((elt,None) for elt in Eout[comp])) \n",
    "    Eout[comp] = updated_outs\n",
    "    Rin[comp] = vrs\n",
    "    Vtree = dict(Vtree)\n",
    "    parent = Ftree[comp]\n",
    "    Vtree.update({vr:parent for vr in vrs})\n",
    "    return (Ein, Eout, Rin), Vtree"
   ]
  },
  {
   "cell_type": "code",
   "execution_count": 49,
   "id": "c1f4c2ed-9d2b-42b9-aaec-ef3d2acb7584",
   "metadata": {},
   "outputs": [],
   "source": [
    "Ein = {\n",
    "    1: (2,),\n",
    "    2: (1,),\n",
    "}\n",
    "Eout = {\n",
    "    1: (1,),\n",
    "    2: (2,)\n",
    "}\n",
    "Rin = {\n",
    "}\n",
    "Vtree=dict()\n",
    "Ftree=OrderedDict(((1,1),(2,1)))"
   ]
  },
  {
   "cell_type": "code",
   "execution_count": 50,
   "id": "9908af08-fa85-4824-9e7c-136590b121aa",
   "metadata": {},
   "outputs": [],
   "source": [
    "edges = (Ein, Eout, Rin)\n",
    "tree = (Vtree, Ftree)\n",
    "edges, Vtree = standardize_comp(edges, Vtree, Ftree, 1)\n",
    "edges, Vtree = standardize_comp(edges, Vtree, Ftree, 2)"
   ]
  },
  {
   "cell_type": "code",
   "execution_count": 52,
   "id": "f9071366-c20e-4738-8e08-bc28c21fed63",
   "metadata": {},
   "outputs": [],
   "source": [
    "stEin = merge_edges(edges[0], edges[2])\n",
    "stEout = edges[1]\n",
    "Gedges = all_edges(Ein, Eout, partial(transform_E, tfx=lambda x: Node(x, COMP), tvar=lambda x: Node(x, VAR)))"
   ]
  },
  {
   "cell_type": "code",
   "execution_count": 53,
   "id": "4130c43d-5a27-4d08-9472-338d809840aa",
   "metadata": {},
   "outputs": [],
   "source": [
    "G = nx.DiGraph(Gedges)"
   ]
  },
  {
   "cell_type": "code",
   "execution_count": 54,
   "id": "8e62bf40-3407-4ddb-85a8-ebfb564ee642",
   "metadata": {},
   "outputs": [
    {
     "data": {
      "image/png": "[encoded data removed]",
      "text/plain": [
       "<Figure size 792x288 with 1 Axes>"
      ]
     },
     "metadata": {},
     "output_type": "display_data"
    }
   ],
   "source": [
    "node_shapes = {elt:'o' if elt in var_names else 's' for elt in G.nodes()}\n",
    "draw(G, node_shape=node_shapes, prog='sfdp', figsize=(11,4), latexlabels=False);"
   ]
  },
  {
   "cell_type": "markdown",
   "id": "8b916ab7-e9a5-43b3-8419-682a2be97a06",
   "metadata": {},
   "source": [
    "For solver we should just unmerge it (assumed that it is acyclic)"
   ]
  },
  {
   "cell_type": "code",
   "execution_count": 55,
   "id": "9acacf3e-2abe-4e57-a856-720be343e66a",
   "metadata": {},
   "outputs": [],
   "source": [
    "def standardize_solver(tree, solver_idx):\n",
    "    Ftree, Stree = copy_dicts(tree)\n",
    "    parent_solver = Stree[solver_idx]\n",
    "    comp_children = solver_children(Ftree, solver_idx)\n",
    "    for comp in comp_children:\n",
    "        Ftree[comp] = parent_solver\n",
    "    subsolvers = solver_children(Stree, solver_idx)\n",
    "    for subsolver in subsolvers:\n",
    "        Stree[subsolver] = parent_solver\n",
    "    Stree.pop(solver_idx)\n",
    "    return Ftree, Stree"
   ]
  },
  {
   "cell_type": "code",
   "execution_count": 56,
   "id": "e51c18bf-f3d3-427d-8d87-773446d8dea8",
   "metadata": {},
   "outputs": [],
   "source": [
    "Ein = {\n",
    "    1: (1,2),\n",
    "    2: (2,1,3),\n",
    "    3: (2,),\n",
    "}\n",
    "Eout = {\n",
    "    1: (None,),\n",
    "    2: (None,),\n",
    "    3: (3,)\n",
    "}\n",
    "Rin = {\n",
    "}\n",
    "Vtree=dict()\n",
    "Ftree=OrderedDict(((1,2),(2,2),(3,1)))\n",
    "Stree={2:1}"
   ]
  },
  {
   "cell_type": "code",
   "execution_count": 57,
   "id": "63fa52d8-6593-4506-a98e-e6ba6b848c34",
   "metadata": {},
   "outputs": [
    {
     "data": {
      "text/plain": [
       "({1: 1, 2: 1, 3: 1}, {})"
      ]
     },
     "execution_count": 57,
     "metadata": {},
     "output_type": "execute_result"
    }
   ],
   "source": [
    "standardize_solver((Ftree, Stree), 2)"
   ]
  },
  {
   "cell_type": "markdown",
   "id": "51c9b4c8-649b-46cc-b1f7-e4bbd5ab0d62",
   "metadata": {},
   "source": [
    "# Make acyclic\n",
    "\n",
    "This operates on the DiGraph with class nodes structure"
   ]
  },
  {
   "cell_type": "code",
   "execution_count": 58,
   "id": "e3ed6c89-d2fb-4961-a06f-7b8a7699a8b8",
   "metadata": {},
   "outputs": [],
   "source": [
    "def sort_scc(G, filterfx):\n",
    "    C = nx.condensation(G)\n",
    "    order = []\n",
    "    for n in nx.topological_sort(C):\n",
    "        filtereqs = {elt for elt in C.nodes[n]['members'] if filterfx(elt)}\n",
    "        if filtereqs:\n",
    "            order.append(filtereqs)\n",
    "    return order"
   ]
  },
  {
   "cell_type": "code",
   "execution_count": null,
   "id": "28798983-492b-4015-8f3b-03db8b0764c8",
   "metadata": {},
   "outputs": [],
   "source": [
    "newStree = dict(Stree)\n",
    "newFtree = OrderedDict()\n",
    "newVtree = dict("
   ]
  },
  {
   "cell_type": "code",
   "execution_count": 434,
   "id": "d411564a-872b-4f58-afe0-bc395701e982",
   "metadata": {},
   "outputs": [],
   "source": [
    "Ein = {\n",
    "    1: (2,),\n",
    "    2: (1,),\n",
    "    3: (2,3),\n",
    "}\n",
    "Eout = {\n",
    "    1: (1,),\n",
    "    2: (2,),\n",
    "    3: (None,)\n",
    "}\n",
    "Rin = {\n",
    "}\n",
    "Vtree={3:1}\n",
    "Ftree=OrderedDict(((1,1),(2,1),(3,1)))\n",
    "Stree=dict()"
   ]
  },
  {
   "cell_type": "code",
   "execution_count": 435,
   "id": "28fdf892-ce62-44ff-b6ea-2df7042a91bb",
   "metadata": {},
   "outputs": [],
   "source": [
    "Gedges = all_edges(merge_edges(Ein, Rin), Eout, partial(transform_E, tfx=lambda x: Node(x, COMP), tvar=lambda x: Node(x, VAR)))\n",
    "G = nx.DiGraph(Gedges)"
   ]
  },
  {
   "cell_type": "code",
   "execution_count": 436,
   "id": "107c382c-59fb-420a-a905-355bec522d76",
   "metadata": {},
   "outputs": [
    {
     "data": {
      "image/png": "[encoded data removed]",
      "text/plain": [
       "<Figure size 792x288 with 1 Axes>"
      ]
     },
     "metadata": {},
     "output_type": "display_data"
    }
   ],
   "source": [
    "node_shapes = {elt:'o' if elt in var_names else 's' for elt in G.nodes()}\n",
    "draw(G, node_shape=node_shapes, prog='sfdp', figsize=(11,4), latexlabels=False);"
   ]
  },
  {
   "cell_type": "code",
   "execution_count": 437,
   "id": "a4dd1ac9-abd9-451a-b2e7-2958e3fe9feb",
   "metadata": {},
   "outputs": [],
   "source": [
    "#graphs = build_typedgraph(G, Ftree, Stree, Vtree)\n",
    "# for key,graph in graphs.items():\n",
    "#     node_shapes = {elt:'o' if elt in var_names else 's' for elt in graph.nodes()}\n",
    "#     draw(graph, node_shape=node_shapes, prog='sfdp',figsize=(7,3), latexlabels=False);"
   ]
  },
  {
   "cell_type": "code",
   "execution_count": 438,
   "id": "736f1c88-58c7-4641-b41e-cbd133b7e582",
   "metadata": {},
   "outputs": [],
   "source": [
    "edges = Ein, Eout, Rin\n",
    "tree = Ftree,Stree,Vtree"
   ]
  },
  {
   "cell_type": "code",
   "execution_count": 439,
   "id": "a3606dbc-6091-48ea-ba36-90afd3642b98",
   "metadata": {},
   "outputs": [],
   "source": [
    "def merge_and_standardize(edges, tree, mergecomps, parentidx=1, newidx=2):\n",
    "    Ftree, Stree, Vtree = tree\n",
    "    Ftree = OrderedDict(Ftree)\n",
    "    Stree = dict(Stree)\n",
    "    Stree[newidx]=parentidx\n",
    "    for node in mergecomps:\n",
    "        if node.nodetype == COMP:\n",
    "            assert Ftree[node.name] == parentidx # can only merge nodes at the same level\n",
    "            Ftree[node.name] = newidx\n",
    "            edges, Vtree = standardize_comp(edges, Vtree, Ftree, \n",
    "                                            node.name, vrs=None)\n",
    "        else:\n",
    "            assert Stree[node.name] == parentidx\n",
    "            # we remove the solver and raise all children one level up\n",
    "            Ftree, Stree = standardize_solver(Ftree, Stree, node.name)\n",
    "    return edges, (Ftree, Stree, Vtree)"
   ]
  },
  {
   "cell_type": "code",
   "execution_count": 440,
   "id": "72bfd567-64ad-4116-83ea-dad014d426fe",
   "metadata": {},
   "outputs": [
    {
     "data": {
      "text/plain": [
       "(({1: (2,), 2: (1,), 3: (2, 3)}, {1: (1,), 2: (2,), 3: (None,)}, {}),\n",
       " (OrderedDict([(1, 1), (2, 1), (3, 1)]), {}, {3: 1}))"
      ]
     },
     "execution_count": 440,
     "metadata": {},
     "output_type": "execute_result"
    }
   ],
   "source": [
    "edges, tree"
   ]
  },
  {
   "cell_type": "code",
   "execution_count": 441,
   "id": "4a418ece-bbbc-4c9c-8baf-5738c18b88a1",
   "metadata": {},
   "outputs": [],
   "source": [
    "nedges, ntree = merge_and_standardize(edges, tree, {Node(1,COMP),Node(2,COMP)}, 1, 2)"
   ]
  },
  {
   "cell_type": "code",
   "execution_count": 442,
   "id": "6e911ce1-50bf-48a3-b7ff-addd91fa7196",
   "metadata": {},
   "outputs": [
    {
     "data": {
      "image/png": "[encoded data removed]",
      "text/plain": [
       "<Figure size 288x144 with 1 Axes>"
      ]
     },
     "metadata": {},
     "output_type": "display_data"
    },
    {
     "data": {
      "image/png": "[encoded data removed]",
      "text/plain": [
       "<Figure size 288x144 with 1 Axes>"
      ]
     },
     "metadata": {},
     "output_type": "display_data"
    }
   ],
   "source": [
    "Gedges = all_edges(merge_edges(nedges[0], nedges[2]), nedges[1], partial(transform_E, tfx=lambda x: Node(x, COMP), tvar=lambda x: Node(x, VAR)))\n",
    "G = nx.DiGraph(Gedges)\n",
    "graphs = build_typedgraph(G, *ntree)\n",
    "for key,graph in graphs.items():\n",
    "    node_shapes = {elt:'o' if elt in var_names else 's' for elt in graph.nodes()}\n",
    "    draw(graph, node_shape=node_shapes, prog='sfdp',figsize=(4,2), latexlabels=False);"
   ]
  },
  {
   "cell_type": "code",
   "execution_count": 443,
   "id": "7a2aa8f8-15c5-45cb-9831-20daff32be76",
   "metadata": {},
   "outputs": [],
   "source": [
    "scc = [{Node(1,COMP),Node(2,COMP)},{Node(3,COMP)}]"
   ]
  },
  {
   "cell_type": "code",
   "execution_count": 444,
   "id": "f8913860-57ff-41fc-bede-c66bae0fb1de",
   "metadata": {},
   "outputs": [],
   "source": [
    "def reorder_merge_solve(edges, tree, merge_order, solver_idx, mdf=True):\n",
    "    tree = tuple((dict(d) if idx !=0 else OrderedDict(d)) for idx, d in enumerate(tree))\n",
    "    nFtree = OrderedDict()\n",
    "    for connected_components in scc:\n",
    "        if len(connected_components) > 1:\n",
    "            new_idx = max(chain(Stree.keys(),(1,)))+1\n",
    "            edges, tree = merge_and_standardize(edges, tree, connected_components, solver_idx, new_idx)\n",
    "        Ftree = tree[0]\n",
    "        for node in connected_components:\n",
    "                if node.nodetype == COMP:\n",
    "                    nFtree[node.name] = Ftree[node.name]\n",
    "    return edges, (nFtree, ntree[1], ntree[2])"
   ]
  },
  {
   "cell_type": "code",
   "execution_count": 445,
   "id": "308cb262-5022-46e2-86de-e1f5dffa8e70",
   "metadata": {},
   "outputs": [
    {
     "data": {
      "text/plain": [
       "(({1: (2,), 2: (1,), 3: (2, 3)}, {1: (1,), 2: (2,), 3: (None,)}, {}),\n",
       " (OrderedDict([(1, 1), (2, 1), (3, 1)]), {}, {3: 1}))"
      ]
     },
     "execution_count": 445,
     "metadata": {},
     "output_type": "execute_result"
    }
   ],
   "source": [
    "edges, tree"
   ]
  },
  {
   "cell_type": "code",
   "execution_count": 446,
   "id": "0333acdc-c16d-4daf-9c29-0fdf91bd7fa2",
   "metadata": {},
   "outputs": [],
   "source": [
    "nedges, ntree = reorder_merge_solve(edges, tree, scc, solver_idx)"
   ]
  },
  {
   "cell_type": "code",
   "execution_count": 447,
   "id": "a855b798-43e4-43e4-8b07-3ff3a857fda3",
   "metadata": {},
   "outputs": [
    {
     "data": {
      "text/plain": [
       "(({1: (2,), 2: (1,), 3: (2, 3)},\n",
       "  {1: (None,), 2: (None,), 3: (None,)},\n",
       "  {2: (2,), 1: (1,)}),\n",
       " (OrderedDict([(2, 2), (1, 2), (3, 1)]), {2: 1}, {3: 1, 2: 2, 1: 2}))"
      ]
     },
     "execution_count": 447,
     "metadata": {},
     "output_type": "execute_result"
    }
   ],
   "source": [
    "nedges, ntree"
   ]
  },
  {
   "cell_type": "code",
   "execution_count": 448,
   "id": "c24feb8b-52ad-42db-9ef6-8bcc98545e4f",
   "metadata": {},
   "outputs": [
    {
     "data": {
      "text/plain": [
       "odict_keys([2, 1, 3])"
      ]
     },
     "execution_count": 448,
     "metadata": {},
     "output_type": "execute_result"
    }
   ],
   "source": [
    "ntree[0].keys()"
   ]
  },
  {
   "cell_type": "code",
   "execution_count": 449,
   "id": "9180736c-edcf-450e-8182-3da70706e2df",
   "metadata": {},
   "outputs": [],
   "source": [
    "stEin = merge_edges(nedges[0], nedges[2])\n",
    "stEout = nedges[1]\n",
    "Gedges = all_edges(stEin, stEout, partial(transform_E, tfx=lambda x: Node(x, COMP), tvar=lambda x: Node(x, VAR)))"
   ]
  },
  {
   "cell_type": "code",
   "execution_count": 450,
   "id": "5f156119-e2db-4891-941a-9188f0abce69",
   "metadata": {},
   "outputs": [],
   "source": [
    "G = nx.DiGraph(Gedges)"
   ]
  },
  {
   "cell_type": "code",
   "execution_count": 451,
   "id": "31910441-3c2b-4806-b47f-fbb931c7faef",
   "metadata": {},
   "outputs": [
    {
     "data": {
      "image/png": "[encoded data removed]",
      "text/plain": [
       "<Figure size 792x288 with 1 Axes>"
      ]
     },
     "metadata": {},
     "output_type": "display_data"
    }
   ],
   "source": [
    "node_shapes = {elt:'o' if elt in var_names else 's' for elt in G.nodes()}\n",
    "draw(G, node_shape=node_shapes, prog='sfdp', figsize=(11,4), latexlabels=False);"
   ]
  },
  {
   "cell_type": "markdown",
   "id": "0d98abe7-ef3d-434c-b800-ed52f521331a",
   "metadata": {},
   "source": [
    "# Workflow generation based on tree"
   ]
  },
  {
   "cell_type": "code",
   "execution_count": 452,
   "id": "0f328dac-10a9-4443-bee5-1d0d5a834385",
   "metadata": {},
   "outputs": [],
   "source": [
    "Vtree=dict()\n",
    "Ftree=OrderedDict(((1,2),(2,2),(3,1)))\n",
    "Stree={2:1, 3:2, 4:3}"
   ]
  },
  {
   "cell_type": "code",
   "execution_count": 453,
   "id": "f72dff2d-942a-4148-bef7-3e592ba72183",
   "metadata": {},
   "outputs": [],
   "source": [
    "def path(Stree, s, visited=None):\n",
    "    visited = visited if visited else set()\n",
    "    out = []\n",
    "    q = {s} if s in chain(Stree.values(),Stree.keys()) else set()\n",
    "    while q:\n",
    "        s = q.pop()\n",
    "        if s not in visited:\n",
    "            out.append(s)\n",
    "            if s in Stree:\n",
    "                q.add(Stree[s])\n",
    "        visited.add(s)\n",
    "    return out"
   ]
  },
  {
   "cell_type": "code",
   "execution_count": 454,
   "id": "6dbf4e4c-b4e0-4b42-8566-3f36f317319a",
   "metadata": {},
   "outputs": [
    {
     "data": {
      "text/plain": [
       "[4]"
      ]
     },
     "execution_count": 454,
     "metadata": {},
     "output_type": "execute_result"
    }
   ],
   "source": [
    "path(Stree, 4, visited={3})"
   ]
  },
  {
   "cell_type": "code",
   "execution_count": 455,
   "id": "9d2af151-b287-4be3-8bc6-ddb6fae3c371",
   "metadata": {},
   "outputs": [
    {
     "data": {
      "text/plain": [
       "({1: (2,), 2: (1,), 3: (2, 3)},\n",
       " {1: (None,), 2: (None,), 3: (None,)},\n",
       " {2: (2,), 1: (1,)})"
      ]
     },
     "execution_count": 455,
     "metadata": {},
     "output_type": "execute_result"
    }
   ],
   "source": [
    "nedges"
   ]
  },
  {
   "cell_type": "code",
   "execution_count": 456,
   "id": "926785dd-799b-45b6-8fc5-43b9048b1f6c",
   "metadata": {},
   "outputs": [],
   "source": [
    "Fend = end_components(nedges[1])"
   ]
  },
  {
   "cell_type": "code",
   "execution_count": 457,
   "id": "3c740f24-44ad-41d0-9c81-5bbc26e958ce",
   "metadata": {},
   "outputs": [],
   "source": [
    "def generate_workflow(Ftree, Stree, Vtree):\n",
    "    visited = set()\n",
    "    workflow = []\n",
    "    for key,parentsolver in Ftree.items():\n",
    "        out = path(Stree, parentsolver, visited)\n",
    "        visited = visited.union(out) \n",
    "        workflow.extend([(\"solver\", s, Stree.get(s, None), solver_children(Vtree, s), solver_children({F:Ftree[F] for F in Fend}, s)) for s in out[::-1]])\n",
    "        workflow.append((\"exec\", key, parentsolver))\n",
    "    return workflow"
   ]
  },
  {
   "cell_type": "code",
   "execution_count": 458,
   "id": "eab638c9-08a0-4683-a76b-58b286cc797e",
   "metadata": {},
   "outputs": [
    {
     "data": {
      "text/plain": [
       "[('solver', 1, None, {3}, {3}),\n",
       " ('solver', 2, 1, {1, 2}, {1, 2}),\n",
       " ('exec', 2, 2),\n",
       " ('exec', 1, 2),\n",
       " ('exec', 3, 1)]"
      ]
     },
     "execution_count": 458,
     "metadata": {},
     "output_type": "execute_result"
    }
   ],
   "source": [
    "generate_workflow(*ntree)"
   ]
  },
  {
   "cell_type": "markdown",
   "id": "5bc69d03-9a61-48ce-97e3-e3818f5aa789",
   "metadata": {},
   "source": [
    "# Simplifications"
   ]
  },
  {
   "cell_type": "markdown",
   "id": "3035932c-7087-4f12-96cd-66c070040d80",
   "metadata": {},
   "source": [
    "Solver simplification and residual simplification can be merged under one idea\n",
    "\n",
    "This allows to override the solver creation, and instead replace the execs that would fall underneath with one function"
   ]
  },
  {
   "cell_type": "code",
   "execution_count": 22,
   "id": "57cd5011-f958-470e-85d2-830f8b4df855",
   "metadata": {
    "execution": {
     "iopub.execute_input": "2022-03-09T21:09:33.871830Z",
     "iopub.status.busy": "2022-03-09T21:09:33.871830Z",
     "iopub.status.idle": "2022-03-09T21:09:33.886110Z",
     "shell.execute_reply": "2022-03-09T21:09:33.885185Z",
     "shell.execute_reply.started": "2022-03-09T21:09:33.871830Z"
    },
    "tags": []
   },
   "outputs": [],
   "source": [
    "# The idea is that it replaces any solvers it sees with the following inputs and outputs with a new exec with the following function:\n",
    "sargmap = {\n",
    "    ((2,3),(1,2)): lambda x,y: (x+y,x*y), #for a solver for example\n",
    "    ((1,2),(None,)): lambda x,y: y-f[((1,),(2,))](x) # for a residualized example, for elements in Rin\n",
    "}"
   ]
  },
  {
   "cell_type": "code",
   "execution_count": 25,
   "id": "fe7adf44-542e-46e0-8315-3c5fcbc520fc",
   "metadata": {
    "execution": {
     "iopub.execute_input": "2022-03-09T21:09:41.740482Z",
     "iopub.status.busy": "2022-03-09T21:09:41.740482Z",
     "iopub.status.idle": "2022-03-09T21:09:41.747085Z",
     "shell.execute_reply": "2022-03-09T21:09:41.747085Z",
     "shell.execute_reply.started": "2022-03-09T21:09:41.740482Z"
    },
    "tags": []
   },
   "outputs": [
    {
     "data": {
      "text/plain": [
       "-21"
      ]
     },
     "execution_count": 25,
     "metadata": {},
     "output_type": "execute_result"
    }
   ],
   "source": [
    "sargmap[((1,2),(None,))](5,4)"
   ]
  },
  {
   "cell_type": "markdown",
   "id": "72f8b5db-10ea-489d-9abb-9e60db8a110e",
   "metadata": {},
   "source": [
    "## Automatic generation of residual functions\n",
    "Should also work with multivariable residuals"
   ]
  },
  {
   "cell_type": "code",
   "execution_count": 199,
   "id": "003a6ca2-6840-4007-9dc3-c071d390d0d7",
   "metadata": {
    "execution": {
     "iopub.execute_input": "2022-03-09T23:59:53.986715Z",
     "iopub.status.busy": "2022-03-09T23:59:53.986715Z",
     "iopub.status.idle": "2022-03-09T23:59:53.996312Z",
     "shell.execute_reply": "2022-03-09T23:59:53.995647Z",
     "shell.execute_reply.started": "2022-03-09T23:59:53.986715Z"
    },
    "tags": []
   },
   "outputs": [],
   "source": [
    "Ein = {\n",
    "    1: (2,),\n",
    "    2: (1,),\n",
    "}\n",
    "Eout = {\n",
    "    1: (None,),\n",
    "    2: (None,),\n",
    "}\n",
    "Rin = {\n",
    "    1: (1,),\n",
    "    2: (2,),\n",
    "}"
   ]
  },
  {
   "cell_type": "code",
   "execution_count": 137,
   "id": "9704ebf5-d0a8-4d8d-94d9-2fecacd1c2ae",
   "metadata": {
    "execution": {
     "iopub.execute_input": "2022-03-09T23:36:53.852613Z",
     "iopub.status.busy": "2022-03-09T23:36:53.851612Z",
     "iopub.status.idle": "2022-03-09T23:36:53.866874Z",
     "shell.execute_reply": "2022-03-09T23:36:53.866629Z",
     "shell.execute_reply.started": "2022-03-09T23:36:53.852613Z"
    },
    "tags": []
   },
   "outputs": [],
   "source": [
    "f = {\n",
    "    ((1,),(2,)): lambda x: x**2,\n",
    "    ((2,),(1,)): lambda x: x+200\n",
    "}"
   ]
  },
  {
   "cell_type": "code",
   "execution_count": 192,
   "id": "79d89a00-7af3-4dd8-9134-067aade84e35",
   "metadata": {
    "execution": {
     "iopub.execute_input": "2022-03-09T23:58:33.662085Z",
     "iopub.status.busy": "2022-03-09T23:58:33.662085Z",
     "iopub.status.idle": "2022-03-09T23:58:33.677509Z",
     "shell.execute_reply": "2022-03-09T23:58:33.677278Z",
     "shell.execute_reply.started": "2022-03-09T23:58:33.662085Z"
    },
    "tags": []
   },
   "outputs": [],
   "source": [
    "def bindFunction(function, n_reversed):\n",
    "    def residual(*x):\n",
    "        return np.array(x[n_reversed:])-function(*x[0:n_reversed]) \n",
    "    return residual"
   ]
  },
  {
   "cell_type": "code",
   "execution_count": 193,
   "id": "f77594bd-4f09-4826-983c-c8e93f1fe7f8",
   "metadata": {
    "execution": {
     "iopub.execute_input": "2022-03-09T23:58:40.261923Z",
     "iopub.status.busy": "2022-03-09T23:58:40.261923Z",
     "iopub.status.idle": "2022-03-09T23:58:40.273059Z",
     "shell.execute_reply": "2022-03-09T23:58:40.273059Z",
     "shell.execute_reply.started": "2022-03-09T23:58:40.261923Z"
    },
    "tags": []
   },
   "outputs": [],
   "source": [
    "def generate_residuals(Ein, Rin, f):\n",
    "    residuals = dict()\n",
    "    merged_edges = merge_edges(Ein,Rin) # this makes sure we get the same order as used during workflow generation\n",
    "    for fx,ins in Rin.items():\n",
    "        merged_ins = merged_edges[fx]\n",
    "        fkey = (Rin[fx], Ein[fx]) #Rin encodes the old outputs\n",
    "        function = f[fkey]\n",
    "        n_reversed = len(ins)\n",
    "        output_size = (None,)*n_reversed\n",
    "        # need to do some local binding for residual function\n",
    "        residuals[(merged_ins, output_size)] = bindFunction(function, n_reversed)\n",
    "    return residuals"
   ]
  },
  {
   "cell_type": "code",
   "execution_count": 194,
   "id": "0a737199-24e6-4204-971a-678eea2cedd6",
   "metadata": {
    "execution": {
     "iopub.execute_input": "2022-03-09T23:58:41.222475Z",
     "iopub.status.busy": "2022-03-09T23:58:41.221476Z",
     "iopub.status.idle": "2022-03-09T23:58:41.227606Z",
     "shell.execute_reply": "2022-03-09T23:58:41.227534Z",
     "shell.execute_reply.started": "2022-03-09T23:58:41.221476Z"
    },
    "tags": []
   },
   "outputs": [],
   "source": [
    "residuals = generate_residuals(Ein, Rin, f)"
   ]
  },
  {
   "cell_type": "code",
   "execution_count": 200,
   "id": "d5a1c565-e8b5-4a25-aa2e-6375a2de9f72",
   "metadata": {
    "execution": {
     "iopub.execute_input": "2022-03-10T00:02:17.799598Z",
     "iopub.status.busy": "2022-03-10T00:02:17.799598Z",
     "iopub.status.idle": "2022-03-10T00:02:17.805670Z",
     "shell.execute_reply": "2022-03-10T00:02:17.805670Z",
     "shell.execute_reply.started": "2022-03-10T00:02:17.799598Z"
    }
   },
   "outputs": [
    {
     "data": {
      "text/plain": [
       "{((1, 2), (None,)): <function __main__.bindFunction.<locals>.residual(*x)>,\n",
       " ((2, 1), (None,)): <function __main__.bindFunction.<locals>.residual(*x)>}"
      ]
     },
     "execution_count": 200,
     "metadata": {},
     "output_type": "execute_result"
    }
   ],
   "source": [
    "residuals"
   ]
  },
  {
   "cell_type": "code",
   "execution_count": 196,
   "id": "89520c8a-0c28-4d85-9a6b-0cc741d9220d",
   "metadata": {
    "execution": {
     "iopub.execute_input": "2022-03-09T23:58:41.954474Z",
     "iopub.status.busy": "2022-03-09T23:58:41.954474Z",
     "iopub.status.idle": "2022-03-09T23:58:41.971809Z",
     "shell.execute_reply": "2022-03-09T23:58:41.971403Z",
     "shell.execute_reply.started": "2022-03-09T23:58:41.954474Z"
    },
    "tags": []
   },
   "outputs": [
    {
     "data": {
      "text/plain": [
       "array([-99])"
      ]
     },
     "execution_count": 196,
     "metadata": {},
     "output_type": "execute_result"
    }
   ],
   "source": [
    "residuals[((2, 1), (None,))](10,1)"
   ]
  },
  {
   "cell_type": "code",
   "execution_count": 197,
   "id": "accbb0d0-bd24-4bcf-8799-5ef0faf275cc",
   "metadata": {
    "execution": {
     "iopub.execute_input": "2022-03-09T23:58:42.603112Z",
     "iopub.status.busy": "2022-03-09T23:58:42.603112Z",
     "iopub.status.idle": "2022-03-09T23:58:42.613163Z",
     "shell.execute_reply": "2022-03-09T23:58:42.613099Z",
     "shell.execute_reply.started": "2022-03-09T23:58:42.603112Z"
    },
    "tags": []
   },
   "outputs": [
    {
     "data": {
      "text/plain": [
       "array([-209])"
      ]
     },
     "execution_count": 197,
     "metadata": {},
     "output_type": "execute_result"
    }
   ],
   "source": [
    "residuals[((1, 2), (None,))](10,1)"
   ]
  },
  {
   "cell_type": "markdown",
   "id": "741489c4-b8ef-4ac6-906c-e57fad95d1c2",
   "metadata": {},
   "source": [
    "# Random problem demo"
   ]
  },
  {
   "cell_type": "code",
   "execution_count": 50,
   "id": "74f7b3dc-945e-497b-a3a6-b4d842cbbf9e",
   "metadata": {
    "execution": {
     "iopub.execute_input": "2022-03-10T00:40:30.574986Z",
     "iopub.status.busy": "2022-03-10T00:40:30.574986Z",
     "iopub.status.idle": "2022-03-10T00:40:30.589008Z",
     "shell.execute_reply": "2022-03-10T00:40:30.588798Z",
     "shell.execute_reply.started": "2022-03-10T00:40:30.574986Z"
    },
    "tags": []
   },
   "outputs": [],
   "source": [
    "from testproblems import generate_random_prob"
   ]
  },
  {
   "cell_type": "code",
   "execution_count": 57,
   "id": "5af3cef1-a7a3-4926-ae04-4a189a12ec60",
   "metadata": {
    "execution": {
     "iopub.execute_input": "2022-03-10T00:41:30.753167Z",
     "iopub.status.busy": "2022-03-10T00:41:30.752220Z",
     "iopub.status.idle": "2022-03-10T00:41:30.772850Z",
     "shell.execute_reply": "2022-03-10T00:41:30.772344Z",
     "shell.execute_reply.started": "2022-03-10T00:41:30.753167Z"
    },
    "tags": []
   },
   "outputs": [],
   "source": [
    "n_eqs = 4\n",
    "n_vars = 8\n",
    "seed = 42#8 is triang#seed 10 is nice\n",
    "sparsity = .8#1.1 #1.7\n",
    "eqv, varinc, dout = generate_random_prob(n_eqs, n_vars, seed, sparsity)\n",
    "Ein = {key: tuple(vr-n_eqs for vr in var if vr !=dout[key]) for key,var in eqv.items()}\n",
    "Eout = {key: (var-n_eqs,) for key,var in dout.items()}\n",
    "Rin = dict()\n",
    "Ftree=OrderedDict((idx,1) for idx in range(n_eqs))\n",
    "Stree=dict()\n",
    "Vtree=dict()"
   ]
  },
  {
   "cell_type": "code",
   "execution_count": 58,
   "id": "1202f225-70b3-4208-a856-27fced73964e",
   "metadata": {
    "execution": {
     "iopub.execute_input": "2022-03-10T00:41:31.278012Z",
     "iopub.status.busy": "2022-03-10T00:41:31.278012Z",
     "iopub.status.idle": "2022-03-10T00:41:31.285609Z",
     "shell.execute_reply": "2022-03-10T00:41:31.285103Z",
     "shell.execute_reply.started": "2022-03-10T00:41:31.278012Z"
    },
    "tags": []
   },
   "outputs": [
    {
     "data": {
      "text/plain": [
       "{0: (2, 3, 4, 5), 1: (1, 5), 2: (4, 5, 7), 3: (0, 1, 4, 5)}"
      ]
     },
     "execution_count": 58,
     "metadata": {},
     "output_type": "execute_result"
    }
   ],
   "source": [
    "Ein"
   ]
  },
  {
   "cell_type": "code",
   "execution_count": 59,
   "id": "c7a0d039-2be0-4b8e-8e37-877796b94f71",
   "metadata": {
    "execution": {
     "iopub.execute_input": "2022-03-10T00:41:31.850543Z",
     "iopub.status.busy": "2022-03-10T00:41:31.850543Z",
     "iopub.status.idle": "2022-03-10T00:41:32.268105Z",
     "shell.execute_reply": "2022-03-10T00:41:32.267103Z",
     "shell.execute_reply.started": "2022-03-10T00:41:31.850543Z"
    },
    "tags": []
   },
   "outputs": [
    {
     "data": {
      "image/png": "[encoded data removed]",
      "text/plain": [
       "<Figure size 360x360 with 1 Axes>"
      ]
     },
     "metadata": {},
     "output_type": "display_data"
    }
   ],
   "source": [
    "edges = all_edges(merge_edges(Ein,Rin), Eout, partial(transform_E, tfx=lambda x: Node(x, COMP), tvar=lambda x: Node(x, VAR)))\n",
    "G = nx.DiGraph(edges)\n",
    "var_names = [Node(var, VAR) for var in all_variables(Ein, Eout)]\n",
    "node_shapes = {elt:'o' if elt in var_names else 's' for elt in G.nodes()}\n",
    "draw(G, node_shape=node_shapes, prog='circo', figsize=(5,5), latexlabels=False);"
   ]
  },
  {
   "cell_type": "code",
   "execution_count": null,
   "id": "e9c22584-3839-4695-9696-da1c146e62f9",
   "metadata": {},
   "outputs": [],
   "source": []
  }
 ],
 "metadata": {
  "kernelspec": {
   "display_name": "Python [conda env:mdo]",
   "language": "python",
   "name": "conda-env-mdo-py"
  },
  "language_info": {
   "codemirror_mode": {
    "name": "ipython",
    "version": 3
   },
   "file_extension": ".py",
   "mimetype": "text/x-python",
   "name": "python",
   "nbconvert_exporter": "python",
   "pygments_lexer": "ipython3",
   "version": "3.9.7"
  },
  "toc-autonumbering": true
 },
 "nbformat": 4,
 "nbformat_minor": 5
}
