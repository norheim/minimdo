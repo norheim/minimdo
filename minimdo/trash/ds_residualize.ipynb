{
 "cells": [
  {
   "cell_type": "code",
   "execution_count": 43,
   "id": "aa408ed3-6b61-4775-9766-192f0b921c52",
   "metadata": {
    "execution": {
     "iopub.execute_input": "2022-01-18T22:07:33.184943Z",
     "iopub.status.busy": "2022-01-18T22:07:33.183940Z",
     "iopub.status.idle": "2022-01-18T22:07:33.200943Z",
     "shell.execute_reply": "2022-01-18T22:07:33.199941Z",
     "shell.execute_reply.started": "2022-01-18T22:07:33.184943Z"
    },
    "tags": []
   },
   "outputs": [],
   "source": [
    "import networkx as nx\n",
    "from anytree import Node, RenderTree, PreOrderIter, PostOrderIter, findall\n",
    "from operators import merge\n",
    "from representations import digraph_repr, draw\n",
    "from copy import deepcopy\n",
    "from enum import Enum, auto"
   ]
  },
  {
   "cell_type": "code",
   "execution_count": 46,
   "id": "b686f1c7-2d16-46ba-9986-51c9666e0965",
   "metadata": {
    "execution": {
     "iopub.execute_input": "2022-01-18T22:12:03.120123Z",
     "iopub.status.busy": "2022-01-18T22:12:03.119113Z",
     "iopub.status.idle": "2022-01-18T22:12:03.137108Z",
     "shell.execute_reply": "2022-01-18T22:12:03.136141Z",
     "shell.execute_reply.started": "2022-01-18T22:12:03.120123Z"
    },
    "tags": []
   },
   "outputs": [],
   "source": [
    "NodeTypes = Enum('NodeTypes', 'INTER END')\n",
    "INTER = NodeTypes.INTER\n",
    "END = NodeTypes.END"
   ]
  },
  {
   "cell_type": "code",
   "execution_count": 2,
   "id": "b1f4f5ed-daca-4097-978a-c05ff55dd81b",
   "metadata": {
    "execution": {
     "iopub.execute_input": "2022-01-18T21:51:19.179069Z",
     "iopub.status.busy": "2022-01-18T21:51:19.179069Z",
     "iopub.status.idle": "2022-01-18T21:51:20.111797Z",
     "shell.execute_reply": "2022-01-18T21:51:20.110774Z",
     "shell.execute_reply.started": "2022-01-18T21:51:19.179069Z"
    },
    "tags": []
   },
   "outputs": [],
   "source": [
    "root = nx.DiGraph([('x_0', 'f_1'), ('f_1', 'x_2'), ('x_1', 'f_1'), ('x_2', 'f_2'), ('x_3', 'f_2'), ('x_3', 'f_1'), ('x_5', 'f_3'), \n",
    "                   ('x_1', 'f_3'), ('f_3', 'x_3'), ('x_3', 'r_1'), ('x_4', 'r_1'), ('x_1', 'f_4'), ('f_4', 'x_6')])"
   ]
  },
  {
   "cell_type": "code",
   "execution_count": 47,
   "id": "5f0cb533-edc2-42dc-bb44-01fb889f75be",
   "metadata": {
    "execution": {
     "iopub.execute_input": "2022-01-18T22:12:37.557253Z",
     "iopub.status.busy": "2022-01-18T22:12:37.557253Z",
     "iopub.status.idle": "2022-01-18T22:12:37.574253Z",
     "shell.execute_reply": "2022-01-18T22:12:37.573254Z",
     "shell.execute_reply.started": "2022-01-18T22:12:37.557253Z"
    },
    "tags": []
   },
   "outputs": [],
   "source": [
    "# only leafs are explicit\n",
    "treeroot = Node('root')\n",
    "f0 = Node('f_0', node_type=INTER, parent=treeroot)\n",
    "f1 = Node('f_1', node_type=INTER, parent=treeroot)\n",
    "f2 = Node('f_2', node_type=INTER, parent=treeroot)\n",
    "f3 = Node('f_3', node_type=INTER, parent=treeroot)\n",
    "f4 = Node('f_4', node_type=INTER, parent=treeroot)\n",
    "r1 = Node('r_1', node_type=END, parent=treeroot)"
   ]
  },
  {
   "cell_type": "code",
   "execution_count": 4,
   "id": "f77f2942-3271-439a-97c8-b59c2d0307e3",
   "metadata": {
    "execution": {
     "iopub.execute_input": "2022-01-18T21:51:21.735021Z",
     "iopub.status.busy": "2022-01-18T21:51:21.734022Z",
     "iopub.status.idle": "2022-01-18T21:51:21.749021Z",
     "shell.execute_reply": "2022-01-18T21:51:21.748018Z",
     "shell.execute_reply.started": "2022-01-18T21:51:21.735021Z"
    },
    "tags": []
   },
   "outputs": [],
   "source": [
    "ch1, ch2, treerootn, solvefortable = merge(root, treeroot, ['f_1','f_2'], 'm1', solvefor=[('x_1', 'r_1')])"
   ]
  },
  {
   "cell_type": "code",
   "execution_count": 42,
   "id": "d0f1d656-8da0-428b-9a6a-2ebc61a8833a",
   "metadata": {
    "execution": {
     "iopub.execute_input": "2022-01-18T22:03:40.443827Z",
     "iopub.status.busy": "2022-01-18T22:03:40.442826Z",
     "iopub.status.idle": "2022-01-18T22:03:40.460825Z",
     "shell.execute_reply": "2022-01-18T22:03:40.459834Z",
     "shell.execute_reply.started": "2022-01-18T22:03:40.443827Z"
    },
    "tags": []
   },
   "outputs": [
    {
     "name": "stdout",
     "output_type": "stream",
     "text": [
      "root            \n",
      "├── f_0         \n",
      "├── f_3         \n",
      "├── f_4         \n",
      "└── m1          \n",
      "    ├── f_1     \n",
      "    ├── f_2     \n",
      "    └── r_1     \n"
     ]
    }
   ],
   "source": [
    "for pre, _, node in RenderTree(treerootn):\n",
    "    treestr = u\"%s%s\" % (pre, node.name)\n",
    "    print(treestr.ljust(16))"
   ]
  },
  {
   "cell_type": "code",
   "execution_count": 48,
   "id": "0b2da929-4a76-4563-8f43-3d094ce65de4",
   "metadata": {
    "execution": {
     "iopub.execute_input": "2022-01-18T22:25:13.831916Z",
     "iopub.status.busy": "2022-01-18T22:25:13.830919Z",
     "iopub.status.idle": "2022-01-18T22:25:13.856917Z",
     "shell.execute_reply": "2022-01-18T22:25:13.855915Z",
     "shell.execute_reply.started": "2022-01-18T22:25:13.831916Z"
    }
   },
   "outputs": [],
   "source": [
    "def residualizecomp(treeroot, name):\n",
    "    treeroot = deepcopy(treeroot)\n",
    "    node_to_res = list(findall(treeroot, filter_=lambda node: node.name ==name))[0]\n",
    "    node_to_res.node_type=END\n",
    "    return treeroot"
   ]
  },
  {
   "cell_type": "code",
   "execution_count": 39,
   "id": "f457933f-c83f-441d-b56e-9ccd5485d563",
   "metadata": {
    "execution": {
     "iopub.execute_input": "2022-01-18T22:03:29.260741Z",
     "iopub.status.busy": "2022-01-18T22:03:29.259736Z",
     "iopub.status.idle": "2022-01-18T22:03:29.276739Z",
     "shell.execute_reply": "2022-01-18T22:03:29.275741Z",
     "shell.execute_reply.started": "2022-01-18T22:03:29.260741Z"
    },
    "tags": []
   },
   "outputs": [],
   "source": [
    "def residualize(ch1, ch2, treeroot, name):\n",
    "    edges = [(fr,to) for (fr,to) in ch1.edges() if to != name and fr != name]\n",
    "    edges += ch2.edges()\n",
    "    treeroot = deepcopy(treeroot)\n",
    "    removednode = list(findall(treeroot, filter_=lambda node: node.name ==name))[0]\n",
    "    parent = removednode.parent\n",
    "    parent.children = [elt for child in parent.children for elt in (\n",
    "        [child] if child != removednode else child.children)]\n",
    "    return nx.DiGraph(edges), treeroot"
   ]
  },
  {
   "cell_type": "code",
   "execution_count": 40,
   "id": "08e4c232-5470-426c-9b3c-1654581a598d",
   "metadata": {
    "execution": {
     "iopub.execute_input": "2022-01-18T22:03:29.568154Z",
     "iopub.status.busy": "2022-01-18T22:03:29.568154Z",
     "iopub.status.idle": "2022-01-18T22:03:29.576152Z",
     "shell.execute_reply": "2022-01-18T22:03:29.575155Z",
     "shell.execute_reply.started": "2022-01-18T22:03:29.568154Z"
    },
    "tags": []
   },
   "outputs": [],
   "source": [
    "ch3, treerootn2 = residualize(ch1, ch2, treerootn, 'm1')"
   ]
  },
  {
   "cell_type": "code",
   "execution_count": 25,
   "id": "0dd0d180-d298-4488-84ef-7b460c9a3d88",
   "metadata": {
    "execution": {
     "iopub.execute_input": "2022-01-18T21:57:48.633696Z",
     "iopub.status.busy": "2022-01-18T21:57:48.633696Z",
     "iopub.status.idle": "2022-01-18T21:57:48.641694Z",
     "shell.execute_reply": "2022-01-18T21:57:48.640695Z",
     "shell.execute_reply.started": "2022-01-18T21:57:48.633696Z"
    },
    "tags": []
   },
   "outputs": [],
   "source": [
    "gfinal = nx.DiGraph(edges)"
   ]
  },
  {
   "cell_type": "code",
   "execution_count": 11,
   "id": "9bcb589f-20f8-4025-9aee-3701b8a80c80",
   "metadata": {
    "execution": {
     "iopub.execute_input": "2022-01-18T21:55:38.946238Z",
     "iopub.status.busy": "2022-01-18T21:55:38.946238Z",
     "iopub.status.idle": "2022-01-18T21:55:38.957239Z",
     "shell.execute_reply": "2022-01-18T21:55:38.955243Z",
     "shell.execute_reply.started": "2022-01-18T21:55:38.946238Z"
    }
   },
   "outputs": [],
   "source": [
    "def circular_vars(graph):\n",
    "    return {elt:'o' if elt in ['x_0','x_1','x_2','x_3','x_4','x_5', 'x_6'] else 's' for elt in graph.nodes()}"
   ]
  },
  {
   "cell_type": "code",
   "execution_count": 12,
   "id": "31b9cafd-c070-4037-89b8-7bb43f0d688e",
   "metadata": {
    "execution": {
     "iopub.execute_input": "2022-01-18T21:55:44.668449Z",
     "iopub.status.busy": "2022-01-18T21:55:44.667445Z",
     "iopub.status.idle": "2022-01-18T21:55:44.689450Z",
     "shell.execute_reply": "2022-01-18T21:55:44.687450Z",
     "shell.execute_reply.started": "2022-01-18T21:55:44.668449Z"
    }
   },
   "outputs": [],
   "source": [
    "def drawfull(graph, prog='neato'):\n",
    "    draw(graph, node_shape=circular_vars(graph), arc=0.1, prog=prog);"
   ]
  },
  {
   "cell_type": "code",
   "execution_count": 34,
   "id": "9cee0ff5-357f-41f6-a295-00ec30e37960",
   "metadata": {
    "execution": {
     "iopub.execute_input": "2022-01-18T21:58:37.361853Z",
     "iopub.status.busy": "2022-01-18T21:58:37.360852Z",
     "iopub.status.idle": "2022-01-18T21:58:37.379853Z",
     "shell.execute_reply": "2022-01-18T21:58:37.378847Z",
     "shell.execute_reply.started": "2022-01-18T21:58:37.361853Z"
    },
    "tags": []
   },
   "outputs": [
    {
     "data": {
      "text/plain": [
       "True"
      ]
     },
     "execution_count": 34,
     "metadata": {},
     "output_type": "execute_result"
    }
   ],
   "source": [
    "set(root.edges()) == set(edges)"
   ]
  },
  {
   "cell_type": "code",
   "execution_count": null,
   "id": "ea314b96-c6a9-408e-9851-63770ff7c881",
   "metadata": {},
   "outputs": [],
   "source": []
  }
 ],
 "metadata": {
  "kernelspec": {
   "display_name": "mdo",
   "language": "python",
   "name": "mdo"
  },
  "language_info": {
   "codemirror_mode": {
    "name": "ipython",
    "version": 3
   },
   "file_extension": ".py",
   "mimetype": "text/x-python",
   "name": "python",
   "nbconvert_exporter": "python",
   "pygments_lexer": "ipython3",
   "version": "3.8.12"
  }
 },
 "nbformat": 4,
 "nbformat_minor": 5
}
