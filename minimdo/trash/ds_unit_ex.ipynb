{
 "cells": [
  {
   "cell_type": "code",
   "execution_count": 2,
   "id": "046d570a",
   "metadata": {
    "execution": {
     "iopub.execute_input": "2021-09-22T18:22:44.773946Z",
     "iopub.status.busy": "2021-09-22T18:22:44.772946Z",
     "iopub.status.idle": "2021-09-22T18:22:44.797941Z",
     "shell.execute_reply": "2021-09-22T18:22:44.796937Z",
     "shell.execute_reply.started": "2021-09-22T18:22:44.773946Z"
    }
   },
   "outputs": [],
   "source": [
    "from compute import Evaluable, anp_math, evaluable_with_unit, Var, get_unit, ureg, coupled_run, buildidpvars, eqvar, unit_conversion_factors\n",
    "from inputresolver import reassigneq, eqvars, eqsonly, default_out, mdf_order, idx_eqlist\n",
    "from compute_utils import get_outputs, check_eqs\n",
    "from utils import invmap\n",
    "import sympy as sp\n",
    "import openmdao.api as om\n",
    "import numpy as np"
   ]
  },
  {
   "cell_type": "markdown",
   "id": "2893a082",
   "metadata": {},
   "source": [
    "# trig functions"
   ]
  },
  {
   "cell_type": "code",
   "execution_count": 8,
   "id": "4a87814f",
   "metadata": {
    "execution": {
     "iopub.execute_input": "2021-09-22T18:24:03.240466Z",
     "iopub.status.busy": "2021-09-22T18:24:03.240466Z",
     "iopub.status.idle": "2021-09-22T18:24:03.248468Z",
     "shell.execute_reply": "2021-09-22T18:24:03.247466Z",
     "shell.execute_reply.started": "2021-09-22T18:24:03.240466Z"
    }
   },
   "outputs": [],
   "source": [
    "t = Var('t', 10, unit='', never_output=True) \n",
    "g, eq2 = eqvar('g', 1/np.pi*sp.acos(R/a))"
   ]
  },
  {
   "cell_type": "markdown",
   "id": "d1284662",
   "metadata": {},
   "source": [
    "# units"
   ]
  },
  {
   "cell_type": "code",
   "execution_count": 3,
   "id": "71437a81",
   "metadata": {
    "execution": {
     "iopub.execute_input": "2021-09-22T18:22:45.593214Z",
     "iopub.status.busy": "2021-09-22T18:22:45.593214Z",
     "iopub.status.idle": "2021-09-22T18:22:45.599219Z",
     "shell.execute_reply": "2021-09-22T18:22:45.598436Z",
     "shell.execute_reply.started": "2021-09-22T18:22:45.593214Z"
    }
   },
   "outputs": [],
   "source": [
    "from inputresolver import idf_order"
   ]
  },
  {
   "cell_type": "code",
   "execution_count": 4,
   "id": "555299df",
   "metadata": {
    "execution": {
     "iopub.execute_input": "2021-09-22T18:22:46.523216Z",
     "iopub.status.busy": "2021-09-22T18:22:46.523216Z",
     "iopub.status.idle": "2021-09-22T18:22:46.530214Z",
     "shell.execute_reply": "2021-09-22T18:22:46.529215Z",
     "shell.execute_reply.started": "2021-09-22T18:22:46.523216Z"
    }
   },
   "outputs": [],
   "source": [
    "g = Var('g', 10, unit='m/s**2', never_output=True) \n",
    "m = Var('m', 120, unit='kg') "
   ]
  },
  {
   "cell_type": "code",
   "execution_count": 5,
   "id": "aeb814f5",
   "metadata": {
    "execution": {
     "iopub.execute_input": "2021-09-22T18:22:47.612591Z",
     "iopub.status.busy": "2021-09-22T18:22:47.612591Z",
     "iopub.status.idle": "2021-09-22T18:22:47.655926Z",
     "shell.execute_reply": "2021-09-22T18:22:47.654966Z",
     "shell.execute_reply.started": "2021-09-22T18:22:47.612591Z"
    }
   },
   "outputs": [
    {
     "data": {
      "text/plain": [
       "98.10000000000001"
      ]
     },
     "execution_count": 5,
     "metadata": {},
     "output_type": "execute_result"
    }
   ],
   "source": [
    "sp.lambdify([m,g], m*g, anp_math)(10, 9.81)"
   ]
  },
  {
   "cell_type": "code",
   "execution_count": 5,
   "id": "ffbbae4e",
   "metadata": {
    "execution": {
     "iopub.execute_input": "2021-07-21T09:08:49.273568Z",
     "iopub.status.busy": "2021-07-21T09:08:49.272568Z",
     "iopub.status.idle": "2021-07-21T09:08:49.295564Z",
     "shell.execute_reply": "2021-07-21T09:08:49.294562Z",
     "shell.execute_reply.started": "2021-07-21T09:08:49.273568Z"
    }
   },
   "outputs": [],
   "source": [
    "ev = Evaluable.fromsympy(m*g)"
   ]
  },
  {
   "cell_type": "code",
   "execution_count": 6,
   "id": "bdb377ae",
   "metadata": {
    "execution": {
     "iopub.execute_input": "2021-07-21T09:08:49.679562Z",
     "iopub.status.busy": "2021-07-21T09:08:49.679562Z",
     "iopub.status.idle": "2021-07-21T09:08:49.693562Z",
     "shell.execute_reply": "2021-07-21T09:08:49.692567Z",
     "shell.execute_reply.started": "2021-07-21T09:08:49.679562Z"
    }
   },
   "outputs": [
    {
     "name": "stdout",
     "output_type": "stream",
     "text": [
      "981.0\n",
      "2000\n",
      "1200\n"
     ]
    }
   ],
   "source": [
    "print(ev.fx(100, 9.81)) # here we have to re-enter values for all numbers\n",
    "print(ev.fx(200, partial='never_output')) # it plugs in the values for variables with never_output = True\n",
    "print(ev.fx(partial='varval'))"
   ]
  },
  {
   "cell_type": "code",
   "execution_count": 7,
   "id": "57a4ebe9",
   "metadata": {
    "execution": {
     "iopub.execute_input": "2021-07-21T09:08:50.202568Z",
     "iopub.status.busy": "2021-07-21T09:08:50.201564Z",
     "iopub.status.idle": "2021-07-21T09:08:50.214564Z",
     "shell.execute_reply": "2021-07-21T09:08:50.212562Z",
     "shell.execute_reply.started": "2021-07-21T09:08:50.202568Z"
    }
   },
   "outputs": [],
   "source": [
    "F, eq1 = eqvar('F', m*g, 'mN')"
   ]
  },
  {
   "cell_type": "code",
   "execution_count": 8,
   "id": "77eeae19",
   "metadata": {
    "execution": {
     "iopub.execute_input": "2021-07-21T09:08:50.653566Z",
     "iopub.status.busy": "2021-07-21T09:08:50.653566Z",
     "iopub.status.idle": "2021-07-21T09:08:50.669565Z",
     "shell.execute_reply": "2021-07-21T09:08:50.668562Z",
     "shell.execute_reply.started": "2021-07-21T09:08:50.653566Z"
    }
   },
   "outputs": [],
   "source": [
    "F = Var('F', unit='mN')\n",
    "eqs = [(F, m*g)]"
   ]
  },
  {
   "cell_type": "markdown",
   "id": "ab46a9d9",
   "metadata": {},
   "source": [
    "## More complex"
   ]
  },
  {
   "cell_type": "code",
   "execution_count": 9,
   "id": "2fdcff5d",
   "metadata": {
    "execution": {
     "iopub.execute_input": "2021-07-21T09:08:52.782563Z",
     "iopub.status.busy": "2021-07-21T09:08:52.782563Z",
     "iopub.status.idle": "2021-07-21T09:08:53.271576Z",
     "shell.execute_reply": "2021-07-21T09:08:53.270562Z",
     "shell.execute_reply.started": "2021-07-21T09:08:52.782563Z"
    }
   },
   "outputs": [],
   "source": [
    "# From outside\n",
    "E_service = Var('E_service', 20, unit='W*hr')\n",
    "# From inside\n",
    "mu_batt = Var('mu_batt', 30, unit='W*hr/kg')\n",
    "DOD = Var('DOD', 0.4)\n",
    "eta_trans = Var('eta_trans', 0.85)\n",
    "nu_batt = Var('nu_batt', 450, unit='kW*hr/(m**3)')\n",
    "N = Var('N', 1)\n",
    "C, eq1 = eqvar('C', E_service/(DOD*N*eta_trans), unit='kW*hr')\n",
    "m_batt_zero = Var('m_batt_zero', 5, 'kg')\n",
    "m_batt, eq2 = eqvar('m_batt', C/mu_batt + m_batt_zero, 'kg')\n",
    "Vol_batt, eq3 = eqvar('Vol_batt', C/nu_batt, 'm**3')"
   ]
  },
  {
   "cell_type": "code",
   "execution_count": 10,
   "id": "0b78dc22",
   "metadata": {
    "execution": {
     "iopub.execute_input": "2021-07-21T09:08:53.792570Z",
     "iopub.status.busy": "2021-07-21T09:08:53.792570Z",
     "iopub.status.idle": "2021-07-21T09:08:53.812565Z",
     "shell.execute_reply": "2021-07-21T09:08:53.811561Z",
     "shell.execute_reply.started": "2021-07-21T09:08:53.792570Z"
    }
   },
   "outputs": [],
   "source": [
    "Cq = (20*ureg('W*hr')/(0.4*1*0.85)).to('kW*hr')"
   ]
  },
  {
   "cell_type": "code",
   "execution_count": 11,
   "id": "89580f05",
   "metadata": {
    "execution": {
     "iopub.execute_input": "2021-07-21T09:08:54.448562Z",
     "iopub.status.busy": "2021-07-21T09:08:54.448562Z",
     "iopub.status.idle": "2021-07-21T09:08:54.464564Z",
     "shell.execute_reply": "2021-07-21T09:08:54.462564Z",
     "shell.execute_reply.started": "2021-07-21T09:08:54.448562Z"
    }
   },
   "outputs": [
    {
     "data": {
      "text/html": [
       "0.000130718954248366 meter<sup>3</sup>"
      ],
      "text/latex": [
       "$0.000130718954248366\\ \\mathrm{meter}^{3}$"
      ],
      "text/plain": [
       "0.000130718954248366 <Unit('meter ** 3')>"
      ]
     },
     "execution_count": 11,
     "metadata": {},
     "output_type": "execute_result"
    }
   ],
   "source": [
    "Cq/(450*ureg('kW*hr/(m**3)'))"
   ]
  },
  {
   "cell_type": "code",
   "execution_count": 12,
   "id": "fdf9d602",
   "metadata": {
    "execution": {
     "iopub.execute_input": "2021-07-21T09:08:55.295563Z",
     "iopub.status.busy": "2021-07-21T09:08:55.295563Z",
     "iopub.status.idle": "2021-07-21T09:08:55.313563Z",
     "shell.execute_reply": "2021-07-21T09:08:55.312565Z",
     "shell.execute_reply.started": "2021-07-21T09:08:55.295563Z"
    }
   },
   "outputs": [
    {
     "data": {
      "text/plain": [
       "[(C, E_service/(DOD*N*eta_trans)),\n",
       " (m_batt, C/mu_batt + m_batt_zero),\n",
       " (Vol_batt, C/nu_batt)]"
      ]
     },
     "execution_count": 12,
     "metadata": {},
     "output_type": "execute_result"
    }
   ],
   "source": [
    "eq_list=[eq1, eq2, eq3]\n",
    "eq_list"
   ]
  },
  {
   "cell_type": "code",
   "execution_count": 13,
   "id": "17093d3c",
   "metadata": {
    "execution": {
     "iopub.execute_input": "2021-07-21T09:08:57.882100Z",
     "iopub.status.busy": "2021-07-21T09:08:57.882100Z",
     "iopub.status.idle": "2021-07-21T09:08:57.893667Z",
     "shell.execute_reply": "2021-07-21T09:08:57.893667Z",
     "shell.execute_reply.started": "2021-07-21T09:08:57.882100Z"
    }
   },
   "outputs": [],
   "source": [
    "eqs = idx_eqlist(eq_list)"
   ]
  },
  {
   "cell_type": "code",
   "execution_count": 14,
   "id": "8a41005b",
   "metadata": {
    "execution": {
     "iopub.execute_input": "2021-07-21T09:08:58.401382Z",
     "iopub.status.busy": "2021-07-21T09:08:58.401382Z",
     "iopub.status.idle": "2021-07-21T09:08:58.415204Z",
     "shell.execute_reply": "2021-07-21T09:08:58.413931Z",
     "shell.execute_reply.started": "2021-07-21T09:08:58.401382Z"
    }
   },
   "outputs": [],
   "source": [
    "ins = getdofs(eqs)"
   ]
  },
  {
   "cell_type": "code",
   "execution_count": 15,
   "id": "7e9d62fb",
   "metadata": {
    "execution": {
     "iopub.execute_input": "2021-07-21T09:08:58.830163Z",
     "iopub.status.busy": "2021-07-21T09:08:58.830163Z",
     "iopub.status.idle": "2021-07-21T09:08:58.854162Z",
     "shell.execute_reply": "2021-07-21T09:08:58.853162Z",
     "shell.execute_reply.started": "2021-07-21T09:08:58.830163Z"
    }
   },
   "outputs": [
    {
     "data": {
      "text/plain": [
       "{DOD, E_service, N, eta_trans, m_batt_zero, mu_batt, nu_batt}"
      ]
     },
     "execution_count": 15,
     "metadata": {},
     "output_type": "execute_result"
    }
   ],
   "source": [
    "ins"
   ]
  },
  {
   "cell_type": "code",
   "execution_count": 16,
   "id": "84bc7d40",
   "metadata": {
    "execution": {
     "iopub.execute_input": "2021-07-21T09:09:00.911474Z",
     "iopub.status.busy": "2021-07-21T09:09:00.911474Z",
     "iopub.status.idle": "2021-07-21T09:09:00.926493Z",
     "shell.execute_reply": "2021-07-21T09:09:00.925503Z",
     "shell.execute_reply.started": "2021-07-21T09:09:00.911474Z"
    }
   },
   "outputs": [],
   "source": [
    "eqv = eqvars(eqs)"
   ]
  },
  {
   "cell_type": "code",
   "execution_count": 17,
   "id": "806470ba",
   "metadata": {
    "execution": {
     "iopub.execute_input": "2021-07-21T09:09:01.254564Z",
     "iopub.status.busy": "2021-07-21T09:09:01.253548Z",
     "iopub.status.idle": "2021-07-21T09:09:01.273548Z",
     "shell.execute_reply": "2021-07-21T09:09:01.272546Z",
     "shell.execute_reply.started": "2021-07-21T09:09:01.254564Z"
    }
   },
   "outputs": [],
   "source": [
    "dout = default_out(eqs)"
   ]
  },
  {
   "cell_type": "code",
   "execution_count": 18,
   "id": "90e5f17b",
   "metadata": {
    "execution": {
     "iopub.execute_input": "2021-07-21T09:09:01.722552Z",
     "iopub.status.busy": "2021-07-21T09:09:01.722552Z",
     "iopub.status.idle": "2021-07-21T09:09:01.743546Z",
     "shell.execute_reply": "2021-07-21T09:09:01.742544Z",
     "shell.execute_reply.started": "2021-07-21T09:09:01.722552Z"
    }
   },
   "outputs": [],
   "source": [
    "order = mdf_order(eqv, dout)"
   ]
  },
  {
   "cell_type": "code",
   "execution_count": 21,
   "id": "6425ef80",
   "metadata": {
    "execution": {
     "iopub.execute_input": "2021-07-21T09:09:08.817996Z",
     "iopub.status.busy": "2021-07-21T09:09:08.817996Z",
     "iopub.status.idle": "2021-07-21T09:09:08.839992Z",
     "shell.execute_reply": "2021-07-21T09:09:08.839031Z",
     "shell.execute_reply.started": "2021-07-21T09:09:08.817996Z"
    }
   },
   "outputs": [
    {
     "data": {
      "text/plain": [
       "[0, 2, 1]"
      ]
     },
     "execution_count": 21,
     "metadata": {},
     "output_type": "execute_result"
    }
   ],
   "source": [
    "order"
   ]
  },
  {
   "cell_type": "code",
   "execution_count": 19,
   "id": "3d520d18",
   "metadata": {
    "execution": {
     "iopub.execute_input": "2021-07-21T09:09:02.805550Z",
     "iopub.status.busy": "2021-07-21T09:09:02.805550Z",
     "iopub.status.idle": "2021-07-21T09:09:02.823544Z",
     "shell.execute_reply": "2021-07-21T09:09:02.822543Z",
     "shell.execute_reply.started": "2021-07-21T09:09:02.805550Z"
    }
   },
   "outputs": [
    {
     "data": {
      "text/plain": [
       "{0: C, 1: m_batt, 2: Vol_batt}"
      ]
     },
     "execution_count": 19,
     "metadata": {},
     "output_type": "execute_result"
    }
   ],
   "source": [
    "dout"
   ]
  },
  {
   "cell_type": "code",
   "execution_count": 20,
   "id": "553428bd",
   "metadata": {
    "execution": {
     "iopub.execute_input": "2021-07-21T09:09:04.217810Z",
     "iopub.status.busy": "2021-07-21T09:09:04.217810Z",
     "iopub.status.idle": "2021-07-21T09:09:04.240381Z",
     "shell.execute_reply": "2021-07-21T09:09:04.239426Z",
     "shell.execute_reply.started": "2021-07-21T09:09:04.217810Z"
    }
   },
   "outputs": [
    {
     "data": {
      "text/plain": [
       "[0, 2, 1]"
      ]
     },
     "execution_count": 20,
     "metadata": {},
     "output_type": "execute_result"
    }
   ],
   "source": [
    "idf_order(eqv, dout)"
   ]
  },
  {
   "cell_type": "code",
   "execution_count": 22,
   "id": "e05e0f39",
   "metadata": {
    "execution": {
     "iopub.execute_input": "2021-07-22T09:44:03.716559Z",
     "iopub.status.busy": "2021-07-22T09:44:03.705558Z",
     "iopub.status.idle": "2021-07-22T09:44:03.970561Z",
     "shell.execute_reply": "2021-07-22T09:44:03.966560Z",
     "shell.execute_reply.started": "2021-07-22T09:44:03.716559Z"
    }
   },
   "outputs": [
    {
     "data": {
      "text/plain": [
       "{0: (C, E_service/(DOD*N*eta_trans)),\n",
       " 1: (m_batt, C/mu_batt + m_batt_zero),\n",
       " 2: (Vol_batt, C/nu_batt)}"
      ]
     },
     "execution_count": 22,
     "metadata": {},
     "output_type": "execute_result"
    }
   ],
   "source": [
    "eqs"
   ]
  },
  {
   "cell_type": "code",
   "execution_count": 19,
   "id": "01f5ab7a",
   "metadata": {
    "execution": {
     "iopub.execute_input": "2021-07-20T09:33:20.939634Z",
     "iopub.status.busy": "2021-07-20T09:33:20.939634Z",
     "iopub.status.idle": "2021-07-20T09:33:20.996603Z",
     "shell.execute_reply": "2021-07-20T09:33:20.995647Z",
     "shell.execute_reply.started": "2021-07-20T09:33:20.939634Z"
    }
   },
   "outputs": [],
   "source": [
    "prob = om.Problem()\n",
    "model = prob.model\n",
    "counter = coupled_run(eqs, order, (), model, model, 0)\n",
    "buildidpvars(ins, model)\n",
    "prob.setup()\n",
    "prob.run_model()"
   ]
  },
  {
   "cell_type": "code",
   "execution_count": 20,
   "id": "30df82d9",
   "metadata": {
    "execution": {
     "iopub.execute_input": "2021-07-20T09:33:26.696575Z",
     "iopub.status.busy": "2021-07-20T09:33:26.696575Z",
     "iopub.status.idle": "2021-07-20T09:33:26.717098Z",
     "shell.execute_reply": "2021-07-20T09:33:26.716096Z",
     "shell.execute_reply.started": "2021-07-20T09:33:26.696575Z"
    }
   },
   "outputs": [],
   "source": [
    "prob.set_val('N', 1)\n",
    "prob.run_model()"
   ]
  },
  {
   "cell_type": "code",
   "execution_count": 22,
   "id": "2a30159f",
   "metadata": {
    "execution": {
     "iopub.execute_input": "2021-07-20T09:33:37.168118Z",
     "iopub.status.busy": "2021-07-20T09:33:37.167114Z",
     "iopub.status.idle": "2021-07-20T09:33:37.180114Z",
     "shell.execute_reply": "2021-07-20T09:33:37.179117Z",
     "shell.execute_reply.started": "2021-07-20T09:33:37.168118Z"
    }
   },
   "outputs": [
    {
     "data": {
      "text/plain": [
       "{E_service: 20.0,\n",
       " DOD: 0.4,\n",
       " Vol_batt: 0.000130718954248366,\n",
       " m_batt: 6.96078431372549,\n",
       " eta_trans: 0.85,\n",
       " C: 0.0588235294117647,\n",
       " N: 1.0,\n",
       " mu_batt: 30.0,\n",
       " m_batt_zero: 5.0,\n",
       " nu_batt: 450.0}"
      ]
     },
     "execution_count": 22,
     "metadata": {},
     "output_type": "execute_result"
    }
   ],
   "source": [
    "out = get_outputs(eqs, model)\n",
    "out"
   ]
  },
  {
   "cell_type": "code",
   "execution_count": 31,
   "id": "23fde995",
   "metadata": {
    "execution": {
     "iopub.execute_input": "2021-07-20T09:35:54.394782Z",
     "iopub.status.busy": "2021-07-20T09:35:54.394782Z",
     "iopub.status.idle": "2021-07-20T09:35:54.402784Z",
     "shell.execute_reply": "2021-07-20T09:35:54.401790Z",
     "shell.execute_reply.started": "2021-07-20T09:35:54.394782Z"
    }
   },
   "outputs": [
    {
     "data": {
      "text/html": [
       "20.0 hour watt"
      ],
      "text/latex": [
       "$20.0\\ \\mathrm{hour} \\cdot \\mathrm{watt}$"
      ],
      "text/plain": [
       "20.0 <Unit('hour * watt')>"
      ]
     },
     "execution_count": 31,
     "metadata": {},
     "output_type": "execute_result"
    }
   ],
   "source": [
    "20.0*E_service.varunit"
   ]
  },
  {
   "cell_type": "code",
   "execution_count": 51,
   "id": "1ca286e1",
   "metadata": {
    "execution": {
     "iopub.execute_input": "2021-07-20T09:49:31.063200Z",
     "iopub.status.busy": "2021-07-20T09:49:31.063200Z",
     "iopub.status.idle": "2021-07-20T09:49:31.086178Z",
     "shell.execute_reply": "2021-07-20T09:49:31.085218Z",
     "shell.execute_reply.started": "2021-07-20T09:49:31.063200Z"
    }
   },
   "outputs": [
    {
     "data": {
      "text/plain": [
       "{E_service: '20.00 W * hr',\n",
       " DOD: '0.40',\n",
       " Vol_batt: '130718.95 mm ** 3',\n",
       " m_batt: '6.96 kg',\n",
       " eta_trans: '0.85',\n",
       " C: '58.82 W * hr',\n",
       " N: '1.00',\n",
       " mu_batt: '30.00 hr * mW / g',\n",
       " m_batt_zero: '5.00 kg',\n",
       " nu_batt: '450.00 hr * kW / m ** 3'}"
      ]
     },
     "execution_count": 51,
     "metadata": {},
     "output_type": "execute_result"
    }
   ],
   "source": [
    "{key: '{:.2f~}'.format((val*key.varunit).to_compact()) for key,val in out.items()}"
   ]
  },
  {
   "cell_type": "code",
   "execution_count": null,
   "id": "c8d3c42b",
   "metadata": {},
   "outputs": [],
   "source": []
  }
 ],
 "metadata": {
  "kernelspec": {
   "display_name": "mdo",
   "language": "python",
   "name": "mdo"
  },
  "language_info": {
   "codemirror_mode": {
    "name": "ipython",
    "version": 3
   },
   "file_extension": ".py",
   "mimetype": "text/x-python",
   "name": "python",
   "nbconvert_exporter": "python",
   "pygments_lexer": "ipython3",
   "version": "3.8.10"
  }
 },
 "nbformat": 4,
 "nbformat_minor": 5
}
