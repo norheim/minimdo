{
 "cells": [
  {
   "cell_type": "code",
   "execution_count": 1,
   "id": "fb8ea25e",
   "metadata": {
    "execution": {
     "iopub.execute_input": "2022-01-21T01:15:59.071762Z",
     "iopub.status.busy": "2022-01-21T01:15:59.070762Z",
     "iopub.status.idle": "2022-01-21T01:16:05.358081Z",
     "shell.execute_reply": "2022-01-21T01:16:05.355106Z",
     "shell.execute_reply.started": "2022-01-21T01:15:59.071762Z"
    },
    "tags": []
   },
   "outputs": [],
   "source": [
    "import sympy as sp\n",
    "from sympy.abc import a\n",
    "import autograd.numpy as np\n",
    "import numpy as np2\n",
    "from pint import UnitRegistry\n",
    "ureg = UnitRegistry()\n",
    "\n",
    "from compute import Var"
   ]
  },
  {
   "cell_type": "code",
   "execution_count": 2,
   "id": "8ecc58b8-4b47-4e1a-90b2-0e7dcddff2a4",
   "metadata": {
    "execution": {
     "iopub.execute_input": "2022-01-21T01:16:05.374080Z",
     "iopub.status.busy": "2022-01-21T01:16:05.373078Z",
     "iopub.status.idle": "2022-01-21T01:16:07.617186Z",
     "shell.execute_reply": "2022-01-21T01:16:07.616203Z",
     "shell.execute_reply.started": "2022-01-21T01:16:05.374080Z"
    }
   },
   "outputs": [],
   "source": [
    "from astropy import units as u"
   ]
  },
  {
   "cell_type": "code",
   "execution_count": 11,
   "id": "5628a9cb-62dd-4e1b-9427-020b42814c9b",
   "metadata": {
    "execution": {
     "iopub.execute_input": "2022-01-21T01:19:46.010902Z",
     "iopub.status.busy": "2022-01-21T01:19:46.009900Z",
     "iopub.status.idle": "2022-01-21T01:19:46.031900Z",
     "shell.execute_reply": "2022-01-21T01:19:46.030898Z",
     "shell.execute_reply.started": "2022-01-21T01:19:46.010902Z"
    },
    "tags": []
   },
   "outputs": [
    {
     "data": {
      "text/latex": [
       "$1.0471976 \\; \\mathrm{rad}$"
      ],
      "text/plain": [
       "<Quantity 1.04719755 rad>"
      ]
     },
     "execution_count": 11,
     "metadata": {},
     "output_type": "execute_result"
    }
   ],
   "source": [
    "np2.arccos(1*u.m / (2*u.m))"
   ]
  },
  {
   "cell_type": "code",
   "execution_count": 5,
   "id": "a1b52606",
   "metadata": {
    "execution": {
     "iopub.execute_input": "2022-01-21T00:38:42.982845Z",
     "iopub.status.busy": "2022-01-21T00:38:42.981841Z",
     "iopub.status.idle": "2022-01-21T00:38:42.998851Z",
     "shell.execute_reply": "2022-01-21T00:38:42.997838Z",
     "shell.execute_reply.started": "2022-01-21T00:38:42.982845Z"
    },
    "tags": []
   },
   "outputs": [],
   "source": [
    "from compute import Evaluable, get_unit"
   ]
  },
  {
   "cell_type": "code",
   "execution_count": 6,
   "id": "1618e959-42b4-46c5-94c7-3838658bd932",
   "metadata": {
    "execution": {
     "iopub.execute_input": "2022-01-21T00:39:05.395675Z",
     "iopub.status.busy": "2022-01-21T00:39:05.395675Z",
     "iopub.status.idle": "2022-01-21T00:39:05.413675Z",
     "shell.execute_reply": "2022-01-21T00:39:05.412674Z",
     "shell.execute_reply.started": "2022-01-21T00:39:05.395675Z"
    }
   },
   "outputs": [],
   "source": [
    "x1 = Var('a', unit='m')\n",
    "x2 = Var('h', unit='m')"
   ]
  },
  {
   "cell_type": "code",
   "execution_count": 15,
   "id": "b8e22dd2-40a0-43e4-a173-b17cbd8d869a",
   "metadata": {
    "execution": {
     "iopub.execute_input": "2022-01-21T01:53:16.645040Z",
     "iopub.status.busy": "2022-01-21T01:53:16.644041Z",
     "iopub.status.idle": "2022-01-21T01:53:17.344041Z",
     "shell.execute_reply": "2022-01-21T01:53:17.342038Z",
     "shell.execute_reply.started": "2022-01-21T01:53:16.645040Z"
    }
   },
   "outputs": [
    {
     "ename": "TypeError",
     "evalue": "unsupported operand type(s) for -: 'Unit' and 'Unit'",
     "output_type": "error",
     "traceback": [
      "\u001b[1;31m---------------------------------------------------------------------------\u001b[0m",
      "\u001b[1;31mTypeError\u001b[0m                                 Traceback (most recent call last)",
      "\u001b[1;32m~\\AppData\\Local\\Temp/ipykernel_31468/2013524003.py\u001b[0m in \u001b[0;36m<module>\u001b[1;34m\u001b[0m\n\u001b[1;32m----> 1\u001b[1;33m \u001b[0mureg\u001b[0m\u001b[1;33m.\u001b[0m\u001b[0mmeter\u001b[0m\u001b[1;33m/\u001b[0m\u001b[1;33m(\u001b[0m\u001b[0mureg\u001b[0m\u001b[1;33m.\u001b[0m\u001b[0mmeter\u001b[0m\u001b[1;33m-\u001b[0m\u001b[0mureg\u001b[0m\u001b[1;33m.\u001b[0m\u001b[0mmeter\u001b[0m\u001b[1;33m)\u001b[0m\u001b[1;33m\u001b[0m\u001b[1;33m\u001b[0m\u001b[0m\n\u001b[0m",
      "\u001b[1;31mTypeError\u001b[0m: unsupported operand type(s) for -: 'Unit' and 'Unit'"
     ]
    }
   ],
   "source": [
    "ureg.meter/(ureg.meter-ureg.meter)"
   ]
  },
  {
   "cell_type": "code",
   "execution_count": 20,
   "id": "9344504b-4df9-4617-8437-c636fc34268e",
   "metadata": {
    "execution": {
     "iopub.execute_input": "2022-01-21T01:58:22.560803Z",
     "iopub.status.busy": "2022-01-21T01:58:22.560803Z",
     "iopub.status.idle": "2022-01-21T01:58:22.579803Z",
     "shell.execute_reply": "2022-01-21T01:58:22.578802Z",
     "shell.execute_reply.started": "2022-01-21T01:58:22.560803Z"
    },
    "tags": []
   },
   "outputs": [
    {
     "data": {
      "text/html": [
       "dimensionless"
      ],
      "text/latex": [
       "$dimensionless$"
      ],
      "text/plain": [
       "<Unit('dimensionless')>"
      ]
     },
     "execution_count": 20,
     "metadata": {},
     "output_type": "execute_result"
    }
   ],
   "source": [
    "ureg.dimensionless"
   ]
  },
  {
   "cell_type": "code",
   "execution_count": 33,
   "id": "3587001d-bbb7-41df-a5f7-f33a5a4fb4ac",
   "metadata": {
    "execution": {
     "iopub.execute_input": "2022-01-21T02:00:37.958277Z",
     "iopub.status.busy": "2022-01-21T02:00:37.957284Z",
     "iopub.status.idle": "2022-01-21T02:00:37.969274Z",
     "shell.execute_reply": "2022-01-21T02:00:37.968300Z",
     "shell.execute_reply.started": "2022-01-21T02:00:37.958277Z"
    },
    "tags": []
   },
   "outputs": [],
   "source": [
    "mypp = ureg.wraps(ureg.meter, (ureg.meter,ureg.meter))(lambda x,y: x*y*np2.arccos(x/y))"
   ]
  },
  {
   "cell_type": "code",
   "execution_count": 37,
   "id": "e8606272-4220-4bad-8f71-db2200b5b7fc",
   "metadata": {
    "execution": {
     "iopub.execute_input": "2022-01-21T02:16:46.584236Z",
     "iopub.status.busy": "2022-01-21T02:16:46.584236Z",
     "iopub.status.idle": "2022-01-21T02:16:46.606232Z",
     "shell.execute_reply": "2022-01-21T02:16:46.605263Z",
     "shell.execute_reply.started": "2022-01-21T02:16:46.584236Z"
    },
    "tags": []
   },
   "outputs": [],
   "source": [
    "class MockFloat(float):\n",
    "    def __new__(self, value):\n",
    "        return float.__new__(self, value)\n",
    "    def __init__(self, value):\n",
    "        float.__init__(value)\n",
    "    def __add__(self, other):\n",
    "        return self\n",
    "    def __sub__(self, other):\n",
    "        return self\n",
    "    def __mul__(self, other):\n",
    "        return self\n",
    "    def __truediv__(self, other):\n",
    "        return self\n",
    "    def __floordiv__(self, other):\n",
    "        return self\n",
    "    def __mod__(self, other):\n",
    "        return self\n",
    "    def __pow__(self, other):\n",
    "        return self\n",
    "    def __rshift__(self, other):\n",
    "        return self\n",
    "    def __lshift__(self, other):\n",
    "        return self\n",
    "    def __and__(self, other):\n",
    "        return self\n",
    "    def __or__(self, other):\n",
    "        return self\n",
    "    def __xor__(self, other):\n",
    "        return self"
   ]
  },
  {
   "cell_type": "code",
   "execution_count": 47,
   "id": "5190f025-2ec0-48a6-8025-77c888cf296b",
   "metadata": {
    "execution": {
     "iopub.execute_input": "2022-01-21T02:28:55.764583Z",
     "iopub.status.busy": "2022-01-21T02:28:55.764583Z",
     "iopub.status.idle": "2022-01-21T02:28:55.788583Z",
     "shell.execute_reply": "2022-01-21T02:28:55.787579Z",
     "shell.execute_reply.started": "2022-01-21T02:28:55.764583Z"
    },
    "tags": []
   },
   "outputs": [],
   "source": [
    "f = Foo(10)\n",
    "f2 = Foo(2)"
   ]
  },
  {
   "cell_type": "code",
   "execution_count": 48,
   "id": "1389c8f7-5e73-4d6e-ae69-c68d789479c2",
   "metadata": {
    "execution": {
     "iopub.execute_input": "2022-01-21T02:28:56.367676Z",
     "iopub.status.busy": "2022-01-21T02:28:56.366677Z",
     "iopub.status.idle": "2022-01-21T02:28:56.387675Z",
     "shell.execute_reply": "2022-01-21T02:28:56.386671Z",
     "shell.execute_reply.started": "2022-01-21T02:28:56.367676Z"
    },
    "tags": []
   },
   "outputs": [
    {
     "data": {
      "text/html": [
       "10.0 meter"
      ],
      "text/latex": [
       "$10.0\\ \\mathrm{meter}$"
      ],
      "text/plain": [
       "10.0 <Unit('meter')>"
      ]
     },
     "execution_count": 48,
     "metadata": {},
     "output_type": "execute_result"
    }
   ],
   "source": [
    "ureg.Quantity(f, 'm')"
   ]
  },
  {
   "cell_type": "code",
   "execution_count": 49,
   "id": "94f6cae8-8778-4d49-9cde-b72170b3a578",
   "metadata": {
    "execution": {
     "iopub.execute_input": "2022-01-21T02:28:57.670604Z",
     "iopub.status.busy": "2022-01-21T02:28:57.669602Z",
     "iopub.status.idle": "2022-01-21T02:28:57.685601Z",
     "shell.execute_reply": "2022-01-21T02:28:57.684602Z",
     "shell.execute_reply.started": "2022-01-21T02:28:57.670604Z"
    },
    "tags": []
   },
   "outputs": [
    {
     "data": {
      "text/html": [
       "3.1622776601683795 meter"
      ],
      "text/latex": [
       "$3.1622776601683795\\ \\mathrm{meter}$"
      ],
      "text/plain": [
       "3.1622776601683795 <Unit('meter')>"
      ]
     },
     "execution_count": 49,
     "metadata": {},
     "output_type": "execute_result"
    }
   ],
   "source": [
    "np2.sqrt(ureg.Quantity(f, 'm**2'))"
   ]
  },
  {
   "cell_type": "code",
   "execution_count": 56,
   "id": "99eef1fd-d711-4119-9796-9e2d15d86f57",
   "metadata": {
    "execution": {
     "iopub.execute_input": "2022-01-21T02:30:05.898216Z",
     "iopub.status.busy": "2022-01-21T02:30:05.897222Z",
     "iopub.status.idle": "2022-01-21T02:30:05.917218Z",
     "shell.execute_reply": "2022-01-21T02:30:05.916249Z",
     "shell.execute_reply.started": "2022-01-21T02:30:05.898216Z"
    },
    "tags": []
   },
   "outputs": [
    {
     "data": {
      "text/html": [
       "10.0 meter/centimeter"
      ],
      "text/latex": [
       "$10.0\\ \\frac{\\mathrm{meter}}{\\mathrm{centimeter}}$"
      ],
      "text/plain": [
       "10.0 <Unit('meter / centimeter')>"
      ]
     },
     "execution_count": 56,
     "metadata": {},
     "output_type": "execute_result"
    }
   ],
   "source": [
    "(ureg.Quantity(f, 'm')/(ureg.Quantity(f2, 'cm')-ureg.Quantity(f2, 'm')))"
   ]
  },
  {
   "cell_type": "code",
   "execution_count": 8,
   "id": "29d1e8bf-a269-4ce8-a98b-bb6dd02a87a3",
   "metadata": {
    "execution": {
     "iopub.execute_input": "2022-01-21T00:39:17.113582Z",
     "iopub.status.busy": "2022-01-21T00:39:17.112579Z",
     "iopub.status.idle": "2022-01-21T00:39:17.142579Z",
     "shell.execute_reply": "2022-01-21T00:39:17.141579Z",
     "shell.execute_reply.started": "2022-01-21T00:39:17.113582Z"
    },
    "tags": []
   },
   "outputs": [
    {
     "name": "stderr",
     "output_type": "stream",
     "text": [
      "C:\\Users\\johan\\Miniconda2\\envs\\mdo\\lib\\site-packages\\pint\\numpy_func.py:303: RuntimeWarning: invalid value encountered in arccos\n",
      "  result_magnitude = func(*stripped_args, **stripped_kwargs)\n"
     ]
    },
    {
     "data": {
      "text/html": [
       "nan radian"
      ],
      "text/latex": [
       "$nan\\ \\mathrm{radian}$"
      ],
      "text/plain": [
       "nan <Unit('radian')>"
      ]
     },
     "execution_count": 8,
     "metadata": {},
     "output_type": "execute_result"
    }
   ],
   "source": [
    "get_unit(sp.acos(x1/x2))"
   ]
  },
  {
   "cell_type": "code",
   "execution_count": 15,
   "id": "ef3a648a",
   "metadata": {
    "execution": {
     "iopub.execute_input": "2021-06-20T02:41:17.524804Z",
     "iopub.status.busy": "2021-06-20T02:41:17.524804Z",
     "iopub.status.idle": "2021-06-20T02:41:17.538801Z",
     "shell.execute_reply": "2021-06-20T02:41:17.537800Z",
     "shell.execute_reply.started": "2021-06-20T02:41:17.524804Z"
    }
   },
   "outputs": [],
   "source": [
    "x1 = Var('a', unit=ureg('m/s**2'))\n",
    "x2 = Var('m', unit=ureg('g'))\n",
    "value = Var('F', unit=ureg('N'))"
   ]
  },
  {
   "cell_type": "code",
   "execution_count": 16,
   "id": "6b830bba",
   "metadata": {
    "execution": {
     "iopub.execute_input": "2021-06-20T02:41:17.825805Z",
     "iopub.status.busy": "2021-06-20T02:41:17.824802Z",
     "iopub.status.idle": "2021-06-20T02:41:17.833800Z",
     "shell.execute_reply": "2021-06-20T02:41:17.832804Z",
     "shell.execute_reply.started": "2021-06-20T02:41:17.825805Z"
    }
   },
   "outputs": [],
   "source": [
    "eq = equation_with_unit(value, x1*x2)"
   ]
  },
  {
   "cell_type": "code",
   "execution_count": 19,
   "id": "f0324f9d",
   "metadata": {
    "execution": {
     "iopub.execute_input": "2021-06-20T02:41:45.562080Z",
     "iopub.status.busy": "2021-06-20T02:41:45.562080Z",
     "iopub.status.idle": "2021-06-20T02:41:45.585078Z",
     "shell.execute_reply": "2021-06-20T02:41:45.584078Z",
     "shell.execute_reply.started": "2021-06-20T02:41:45.562080Z"
    }
   },
   "outputs": [
    {
     "data": {
      "text/plain": [
       "array([0.001, 0.001])"
      ]
     },
     "execution_count": 19,
     "metadata": {},
     "output_type": "execute_result"
    }
   ],
   "source": [
    "eq.jfx(np.array([1.,1.]))"
   ]
  },
  {
   "cell_type": "code",
   "execution_count": 27,
   "id": "e6f0f0e8",
   "metadata": {
    "execution": {
     "iopub.execute_input": "2021-06-20T02:01:57.459883Z",
     "iopub.status.busy": "2021-06-20T02:01:57.458886Z",
     "iopub.status.idle": "2021-06-20T02:01:57.475409Z",
     "shell.execute_reply": "2021-06-20T02:01:57.474394Z",
     "shell.execute_reply.started": "2021-06-20T02:01:57.459883Z"
    }
   },
   "outputs": [],
   "source": [
    "def get_unit(expr):\n",
    "    if isinstance(expr, Var):\n",
    "        return expr.varunit\n",
    "    else:\n",
    "        free_symbols = list(expr.free_symbols)\n",
    "        fx = sp.lambdify(free_symbols, expr, anp_math)\n",
    "        return fx(*(free_symbol.varunit for free_symbol in free_symbols))"
   ]
  },
  {
   "cell_type": "code",
   "execution_count": 12,
   "id": "4b9c5d32",
   "metadata": {
    "execution": {
     "iopub.execute_input": "2021-06-20T01:59:15.002431Z",
     "iopub.status.busy": "2021-06-20T01:59:15.002431Z",
     "iopub.status.idle": "2021-06-20T01:59:15.017429Z",
     "shell.execute_reply": "2021-06-20T01:59:15.016428Z",
     "shell.execute_reply.started": "2021-06-20T01:59:15.002431Z"
    }
   },
   "outputs": [],
   "source": [
    "def get_unit_multiplier(unit):\n",
    "    return unit.to_base_units().magnitude"
   ]
  },
  {
   "cell_type": "code",
   "execution_count": 15,
   "id": "802e7a5c",
   "metadata": {
    "execution": {
     "iopub.execute_input": "2021-06-20T01:59:26.747858Z",
     "iopub.status.busy": "2021-06-20T01:59:26.746861Z",
     "iopub.status.idle": "2021-06-20T01:59:26.770859Z",
     "shell.execute_reply": "2021-06-20T01:59:26.769854Z",
     "shell.execute_reply.started": "2021-06-20T01:59:26.746861Z"
    }
   },
   "outputs": [],
   "source": [
    "def equation_with_unit(left, right):\n",
    "        orig_unit = get_unit(left) # could be None\n",
    "        unit = orig_unit if orig_unit else ureg('')\n",
    "        rhs_unit = get_unit(right)\n",
    "        convert = np.array([get_unit_multiplier(free_symbol.varunit) for \n",
    "                free_symbol in list(right.free_symbols)])\n",
    "        if orig_unit:\n",
    "            assert(unit.dimensionality == rhs_unit.dimensionality)\n",
    "            conversion_unit = unit\n",
    "        else: # left was not declared with a unit\n",
    "            if not hasattr(rhs_unit, 'units'):\n",
    "                conversion_unit = ureg('')\n",
    "            else:\n",
    "                conversion_unit = ureg.Quantity(1, \n",
    "                    rhs_unit.to_base_units().units)\n",
    "            if isinstance(left, sp.Symbol):\n",
    "                left.varunit = conversion_unit\n",
    "\n",
    "        factor = get_unit_multiplier(conversion_unit)\n",
    "\n",
    "        def correction(fx):\n",
    "            def rhsfx_corrected(*args):\n",
    "                return fx(*(convert*np.array(args).flatten()))/factor\n",
    "            return rhsfx_corrected\n",
    "\n",
    "        return Equation(left, right, decorator=correction)"
   ]
  },
  {
   "cell_type": "code",
   "execution_count": 28,
   "id": "f55ef87e",
   "metadata": {
    "execution": {
     "iopub.execute_input": "2021-06-20T02:02:02.154540Z",
     "iopub.status.busy": "2021-06-20T02:02:02.154540Z",
     "iopub.status.idle": "2021-06-20T02:02:02.174058Z",
     "shell.execute_reply": "2021-06-20T02:02:02.173057Z",
     "shell.execute_reply.started": "2021-06-20T02:02:02.154540Z"
    }
   },
   "outputs": [],
   "source": [
    "eq = equation_with_unit(value, x1*x2)"
   ]
  },
  {
   "cell_type": "code",
   "execution_count": 29,
   "id": "07e3fd5b",
   "metadata": {
    "execution": {
     "iopub.execute_input": "2021-06-20T02:02:02.857538Z",
     "iopub.status.busy": "2021-06-20T02:02:02.856543Z",
     "iopub.status.idle": "2021-06-20T02:02:02.877066Z",
     "shell.execute_reply": "2021-06-20T02:02:02.876106Z",
     "shell.execute_reply.started": "2021-06-20T02:02:02.856543Z"
    }
   },
   "outputs": [
    {
     "data": {
      "text/plain": [
       "1.0"
      ]
     },
     "execution_count": 29,
     "metadata": {},
     "output_type": "execute_result"
    }
   ],
   "source": [
    "eq.fx(np.array([100., 1000.]))"
   ]
  },
  {
   "cell_type": "code",
   "execution_count": 15,
   "id": "dd330ed4",
   "metadata": {
    "execution": {
     "iopub.execute_input": "2021-06-15T21:22:45.697046Z",
     "iopub.status.busy": "2021-06-15T21:22:45.696056Z",
     "iopub.status.idle": "2021-06-15T21:22:45.707046Z",
     "shell.execute_reply": "2021-06-15T21:22:45.706047Z",
     "shell.execute_reply.started": "2021-06-15T21:22:45.697046Z"
    }
   },
   "outputs": [],
   "source": [
    "expr = x1+x2\n",
    "eq = Equation(value, expr)"
   ]
  },
  {
   "cell_type": "code",
   "execution_count": 33,
   "id": "6e362847",
   "metadata": {
    "execution": {
     "iopub.execute_input": "2021-06-20T01:10:41.127791Z",
     "iopub.status.busy": "2021-06-20T01:10:41.127791Z",
     "iopub.status.idle": "2021-06-20T01:10:41.155793Z",
     "shell.execute_reply": "2021-06-20T01:10:41.154801Z",
     "shell.execute_reply.started": "2021-06-20T01:10:41.127791Z"
    }
   },
   "outputs": [],
   "source": [
    "unit = 'mm' # or None\n",
    "orig_unit = unit\n",
    "unit = ureg(unit) if unit else ureg('')\n",
    "rhs = value\n",
    "rhs_unit = eq.fx(*(free_symbol.varunit \n",
    "                for free_symbol in expr.free_symbols))"
   ]
  },
  {
   "cell_type": "code",
   "execution_count": 35,
   "id": "90dc25ff",
   "metadata": {
    "execution": {
     "iopub.execute_input": "2021-06-20T01:10:42.053507Z",
     "iopub.status.busy": "2021-06-20T01:10:42.052507Z",
     "iopub.status.idle": "2021-06-20T01:10:42.074498Z",
     "shell.execute_reply": "2021-06-20T01:10:42.073499Z",
     "shell.execute_reply.started": "2021-06-20T01:10:42.053507Z"
    }
   },
   "outputs": [],
   "source": [
    "if orig_unit:\n",
    "    assert(unit.dimensionality == rhs_unit.dimensionality)\n",
    "    conversion_unit = unit\n",
    "else:\n",
    "    if not hasattr(rhs_unit, 'units'):\n",
    "        conversion_unit = ureg('')\n",
    "    else:\n",
    "        conversion_unit = ureg.Quantity(1, \n",
    "            rhs_unit.to_base_units().units)"
   ]
  },
  {
   "cell_type": "code",
   "execution_count": 36,
   "id": "2afa432e",
   "metadata": {
    "execution": {
     "iopub.execute_input": "2021-06-20T01:10:42.526500Z",
     "iopub.status.busy": "2021-06-20T01:10:42.525505Z",
     "iopub.status.idle": "2021-06-20T01:10:42.545502Z",
     "shell.execute_reply": "2021-06-20T01:10:42.544499Z",
     "shell.execute_reply.started": "2021-06-20T01:10:42.525505Z"
    }
   },
   "outputs": [
    {
     "data": {
      "text/html": [
       "1 millimeter"
      ],
      "text/latex": [
       "$1\\ \\mathrm{millimeter}$"
      ],
      "text/plain": [
       "1 <Unit('millimeter')>"
      ]
     },
     "execution_count": 36,
     "metadata": {},
     "output_type": "execute_result"
    }
   ],
   "source": [
    "conversion_unit"
   ]
  },
  {
   "cell_type": "code",
   "execution_count": 37,
   "id": "8d115bcb",
   "metadata": {
    "execution": {
     "iopub.execute_input": "2021-06-20T01:10:43.758007Z",
     "iopub.status.busy": "2021-06-20T01:10:43.758007Z",
     "iopub.status.idle": "2021-06-20T01:10:43.779000Z",
     "shell.execute_reply": "2021-06-20T01:10:43.775059Z",
     "shell.execute_reply.started": "2021-06-20T01:10:43.758007Z"
    }
   },
   "outputs": [],
   "source": [
    "factor = get_unit_multi(conversion_unit)"
   ]
  },
  {
   "cell_type": "code",
   "execution_count": 38,
   "id": "55f831b1",
   "metadata": {
    "execution": {
     "iopub.execute_input": "2021-06-20T01:10:44.234843Z",
     "iopub.status.busy": "2021-06-20T01:10:44.233859Z",
     "iopub.status.idle": "2021-06-20T01:10:44.256833Z",
     "shell.execute_reply": "2021-06-20T01:10:44.255831Z",
     "shell.execute_reply.started": "2021-06-20T01:10:44.234843Z"
    }
   },
   "outputs": [
    {
     "data": {
      "text/plain": [
       "0.001"
      ]
     },
     "execution_count": 38,
     "metadata": {},
     "output_type": "execute_result"
    }
   ],
   "source": [
    "factor"
   ]
  },
  {
   "cell_type": "code",
   "execution_count": 39,
   "id": "07d3b9ee",
   "metadata": {
    "execution": {
     "iopub.execute_input": "2021-06-20T01:13:08.201642Z",
     "iopub.status.busy": "2021-06-20T01:13:08.201642Z",
     "iopub.status.idle": "2021-06-20T01:13:08.244642Z",
     "shell.execute_reply": "2021-06-20T01:13:08.243641Z",
     "shell.execute_reply.started": "2021-06-20T01:13:08.201642Z"
    }
   },
   "outputs": [],
   "source": [
    "free_symbols = list(expr.free_symbols)\n",
    "convert = np.array([get_unit_multi(free_symbol.varunit) for \n",
    "                    free_symbol in free_symbols])"
   ]
  },
  {
   "cell_type": "code",
   "execution_count": 40,
   "id": "4d2de015",
   "metadata": {
    "execution": {
     "iopub.execute_input": "2021-06-20T01:13:12.853640Z",
     "iopub.status.busy": "2021-06-20T01:13:12.852642Z",
     "iopub.status.idle": "2021-06-20T01:13:12.911640Z",
     "shell.execute_reply": "2021-06-20T01:13:12.910639Z",
     "shell.execute_reply.started": "2021-06-20T01:13:12.853640Z"
    }
   },
   "outputs": [
    {
     "data": {
      "text/plain": [
       "array([0.01, 1.  ])"
      ]
     },
     "execution_count": 40,
     "metadata": {},
     "output_type": "execute_result"
    }
   ],
   "source": [
    "convert"
   ]
  },
  {
   "cell_type": "code",
   "execution_count": null,
   "id": "c7ba3eba",
   "metadata": {},
   "outputs": [],
   "source": [
    "def rhsfx_corrected(*args):\n",
    "    return rhsfx(*(convert*np.array(args).flatten()))/factor"
   ]
  },
  {
   "cell_type": "code",
   "execution_count": 48,
   "id": "944ed3ed",
   "metadata": {
    "execution": {
     "iopub.execute_input": "2021-06-20T01:49:07.079479Z",
     "iopub.status.busy": "2021-06-20T01:49:07.078479Z",
     "iopub.status.idle": "2021-06-20T01:49:07.092477Z",
     "shell.execute_reply": "2021-06-20T01:49:07.091475Z",
     "shell.execute_reply.started": "2021-06-20T01:49:07.079479Z"
    }
   },
   "outputs": [],
   "source": [
    "import autograd.numpy as anp\n",
    "math_functions = ['cos', 'sin', 'tan', 'arccos', 'arcsin', 'arctan', 'sqrt', \n",
    "'exp', 'log', 'log2', 'log10']\n",
    "\n",
    "anp_math = {elt: getattr(anp, elt) for elt in math_functions}"
   ]
  },
  {
   "cell_type": "code",
   "execution_count": 51,
   "id": "f65a0539",
   "metadata": {
    "execution": {
     "iopub.execute_input": "2021-06-20T01:49:14.857353Z",
     "iopub.status.busy": "2021-06-20T01:49:14.856352Z",
     "iopub.status.idle": "2021-06-20T01:49:14.900364Z",
     "shell.execute_reply": "2021-06-20T01:49:14.899358Z",
     "shell.execute_reply.started": "2021-06-20T01:49:14.857353Z"
    }
   },
   "outputs": [
    {
     "data": {
      "text/html": [
       "1 centimeter meter"
      ],
      "text/latex": [
       "$1\\ \\mathrm{centimeter} \\cdot \\mathrm{meter}$"
      ],
      "text/plain": [
       "1 <Unit('centimeter * meter')>"
      ]
     },
     "execution_count": 51,
     "metadata": {},
     "output_type": "execute_result"
    }
   ],
   "source": [
    "get_unit(x1*x2)"
   ]
  },
  {
   "cell_type": "code",
   "execution_count": null,
   "id": "6737ec3b",
   "metadata": {},
   "outputs": [],
   "source": []
  }
 ],
 "metadata": {
  "kernelspec": {
   "display_name": "mdo",
   "language": "python",
   "name": "mdo"
  },
  "language_info": {
   "codemirror_mode": {
    "name": "ipython",
    "version": 3
   },
   "file_extension": ".py",
   "mimetype": "text/x-python",
   "name": "python",
   "nbconvert_exporter": "python",
   "pygments_lexer": "ipython3",
   "version": "3.8.12"
  }
 },
 "nbformat": 4,
 "nbformat_minor": 5
}
