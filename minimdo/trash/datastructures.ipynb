{
 "cells": [
  {
   "cell_type": "code",
   "execution_count": 1,
   "id": "ca010b9f",
   "metadata": {
    "execution": {
     "iopub.execute_input": "2021-12-16T17:06:24.033743Z",
     "iopub.status.busy": "2021-12-16T17:06:24.033743Z",
     "iopub.status.idle": "2021-12-16T17:06:26.584749Z",
     "shell.execute_reply": "2021-12-16T17:06:26.580749Z",
     "shell.execute_reply.started": "2021-12-16T17:06:24.033743Z"
    }
   },
   "outputs": [],
   "source": [
    "import networkx as nx\n",
    "from testproblems import generate_random_prob\n",
    "from representations import digraph_repr, draw"
   ]
  },
  {
   "cell_type": "markdown",
   "id": "38237005",
   "metadata": {},
   "source": [
    "Incidence structure (i.e. which variable appears in an analysis - including the output or function)"
   ]
  },
  {
   "cell_type": "code",
   "execution_count": 10,
   "id": "3b0c22b1",
   "metadata": {
    "execution": {
     "iopub.execute_input": "2021-12-09T16:57:31.866696Z",
     "iopub.status.busy": "2021-12-09T16:57:31.865656Z",
     "iopub.status.idle": "2021-12-09T16:57:31.887658Z",
     "shell.execute_reply": "2021-12-09T16:57:31.885653Z",
     "shell.execute_reply.started": "2021-12-09T16:57:31.866696Z"
    }
   },
   "outputs": [],
   "source": [
    "incstr = {1: (10,11,12), # analysis a(x1,x2)\n",
    "          2: (10,13),    # function f(x1,x2)\n",
    "          3: (11,13)     # function\n",
    "         }"
   ]
  },
  {
   "cell_type": "markdown",
   "id": "37fad30f",
   "metadata": {},
   "source": [
    "Guaranteed inversions"
   ]
  },
  {
   "cell_type": "code",
   "execution_count": 8,
   "id": "b4a4aee0",
   "metadata": {
    "execution": {
     "iopub.execute_input": "2021-12-09T16:56:54.465424Z",
     "iopub.status.busy": "2021-12-09T16:56:54.465424Z",
     "iopub.status.idle": "2021-12-09T16:56:54.477425Z",
     "shell.execute_reply": "2021-12-09T16:56:54.476418Z",
     "shell.execute_reply.started": "2021-12-09T16:56:54.465424Z"
    }
   },
   "outputs": [],
   "source": [
    "guarinv = {\n",
    "    1: (10,11,12),\n",
    "    2: (13,),\n",
    "    3: (), # None\n",
    "}"
   ]
  },
  {
   "cell_type": "markdown",
   "id": "af425665",
   "metadata": {},
   "source": [
    "User specified output set"
   ]
  },
  {
   "cell_type": "code",
   "execution_count": 11,
   "id": "955d1ca7",
   "metadata": {
    "execution": {
     "iopub.execute_input": "2021-12-09T16:58:09.077125Z",
     "iopub.status.busy": "2021-12-09T16:58:09.076124Z",
     "iopub.status.idle": "2021-12-09T16:58:09.084126Z",
     "shell.execute_reply": "2021-12-09T16:58:09.083126Z",
     "shell.execute_reply.started": "2021-12-09T16:58:09.077125Z"
    }
   },
   "outputs": [],
   "source": [
    "outset = {\n",
    "    1: 10,\n",
    "    2: 13,\n",
    "    3: None,\n",
    "}"
   ]
  },
  {
   "cell_type": "markdown",
   "id": "3d9d85e1",
   "metadata": {},
   "source": [
    "We can now get the digraph"
   ]
  },
  {
   "cell_type": "markdown",
   "id": "624fe187",
   "metadata": {},
   "source": [
    "10->11, 10->12; 10->13;"
   ]
  },
  {
   "cell_type": "code",
   "execution_count": 12,
   "id": "83f40d9e",
   "metadata": {
    "execution": {
     "iopub.execute_input": "2021-12-09T17:00:59.510038Z",
     "iopub.status.busy": "2021-12-09T17:00:59.510038Z",
     "iopub.status.idle": "2021-12-09T17:00:59.522030Z",
     "shell.execute_reply": "2021-12-09T17:00:59.520029Z",
     "shell.execute_reply.started": "2021-12-09T17:00:59.510038Z"
    }
   },
   "outputs": [],
   "source": [
    "userstr = {\n",
    "    1: (10, (11,12)), # 10 <- a(11,12)\n",
    "    2: (13, (10)) # 13 <- f(13,10)=0\n",
    "}"
   ]
  },
  {
   "cell_type": "markdown",
   "id": "94dae460",
   "metadata": {},
   "source": [
    "Functions"
   ]
  },
  {
   "cell_type": "code",
   "execution_count": null,
   "id": "840f91f9",
   "metadata": {},
   "outputs": [],
   "source": [
    "f = {\n",
    "    lambda a,b: a+b,\n",
    "    lambda a,b: a+b\n",
    "}"
   ]
  },
  {
   "cell_type": "markdown",
   "id": "0ea5af60",
   "metadata": {},
   "source": [
    "### General purpose Mergers\n",
    "(induced by the users choice)"
   ]
  },
  {
   "cell_type": "markdown",
   "id": "cd7f8ba4",
   "metadata": {},
   "source": [
    "We put in nodes, and then specify for which inputs we are solving at the end (i.e, residuals and 'tearing variables') </br>\n",
    "\\# of inputs solved for = \\# of residuals. </br>\n",
    "We can filter variables not used outside the merger to keep it cleaner. </br>\n",
    "The trivial case with one residual function is an \"implicit component\", for which no filter is needed. </br>\n",
    "(a merger can be seen as an MDA) </br>\n",
    "if the merger is not compact (i.e. there are cycles) we have have to pick a strategy to resolve it: MDF(induces other merges guaranteed to not have any deeper layer of mergers) or IDF(allows for tearing to reduce system of equations) </br>\n",
    "Mergers are therefore hierarchical, where any leaf is an IDF with elimination order, e.g. a compact merge. </br>\n",
    "A pure IDF would have no elimination orders. </br>\n",
    "These strategies involve having to transform analysis->residuals or copy variables + additional residual eq"
   ]
  },
  {
   "cell_type": "code",
   "execution_count": null,
   "id": "25b49e5d",
   "metadata": {},
   "outputs": [],
   "source": [
    "notationout = merge([1,2,3,4], solvefor=['a','b'], resolvecycles=MDF_pureIDF) # we could have MDF_tearIDF, or tearIDF or pureIDF"
   ]
  },
  {
   "cell_type": "markdown",
   "id": "be8d63a0",
   "metadata": {},
   "source": [
    "We can technically simply merge all the equations in the system by passing in all the equation indices."
   ]
  },
  {
   "cell_type": "markdown",
   "id": "df771c9c",
   "metadata": {},
   "source": [
    "Idea:\n",
    "should we perhaps have a resolvecycles function instead?"
   ]
  },
  {
   "cell_type": "code",
   "execution_count": 32,
   "id": "f17424a1",
   "metadata": {
    "execution": {
     "iopub.execute_input": "2021-12-10T22:14:09.134053Z",
     "iopub.status.busy": "2021-12-10T22:14:09.134053Z",
     "iopub.status.idle": "2021-12-10T22:14:09.149962Z",
     "shell.execute_reply": "2021-12-10T22:14:09.148999Z",
     "shell.execute_reply.started": "2021-12-10T22:14:09.134053Z"
    }
   },
   "outputs": [],
   "source": [
    "notationsmap = {\n",
    "    3: None,\n",
    "    4: None,\n",
    "    'group': ('c', [('b', 1), 2])\n",
    "}"
   ]
  },
  {
   "cell_type": "markdown",
   "id": "174bac22",
   "metadata": {},
   "source": [
    "Based on a graph, we generate a notation, and create a new node"
   ]
  },
  {
   "cell_type": "code",
   "execution_count": 35,
   "id": "8d6dd353",
   "metadata": {
    "execution": {
     "iopub.execute_input": "2021-12-16T10:25:45.679550Z",
     "iopub.status.busy": "2021-12-16T10:25:45.678553Z",
     "iopub.status.idle": "2021-12-16T10:25:46.940550Z",
     "shell.execute_reply": "2021-12-16T10:25:46.938550Z",
     "shell.execute_reply.started": "2021-12-16T10:25:45.679550Z"
    }
   },
   "outputs": [],
   "source": [
    "neq = 5\n",
    "nvar = 7\n",
    "eqv, varinc, dout = generate_random_prob(neq, nvar, 8, 1.)\n",
    "D2, _ = digraph_repr(eqv, dout, True)\n",
    "alleqs = list(range(neq))"
   ]
  },
  {
   "cell_type": "code",
   "execution_count": 3,
   "id": "6261b593",
   "metadata": {
    "execution": {
     "iopub.execute_input": "2021-12-15T10:08:02.993750Z",
     "iopub.status.busy": "2021-12-15T10:08:02.992739Z",
     "iopub.status.idle": "2021-12-15T10:08:04.138381Z",
     "shell.execute_reply": "2021-12-15T10:08:04.137375Z",
     "shell.execute_reply.started": "2021-12-15T10:08:02.993750Z"
    }
   },
   "outputs": [
    {
     "data": {
      "image/png": "[encoded data removed]",
      "text/plain": [
       "<Figure size 432x432 with 1 Axes>"
      ]
     },
     "metadata": {},
     "output_type": "display_data"
    }
   ],
   "source": [
    "draw(D2, latexlabels=False, node_shape='b', prog='fdp');"
   ]
  },
  {
   "cell_type": "code",
   "execution_count": 4,
   "id": "e015361e",
   "metadata": {
    "execution": {
     "iopub.execute_input": "2021-12-15T10:08:05.459188Z",
     "iopub.status.busy": "2021-12-15T10:08:05.458187Z",
     "iopub.status.idle": "2021-12-15T10:08:05.473183Z",
     "shell.execute_reply": "2021-12-15T10:08:05.472212Z",
     "shell.execute_reply.started": "2021-12-15T10:08:05.459188Z"
    }
   },
   "outputs": [
    {
     "data": {
      "text/plain": [
       "{3: 8, 0: 11, 1: 5, 2: 6, 4: 7}"
      ]
     },
     "execution_count": 4,
     "metadata": {},
     "output_type": "execute_result"
    }
   ],
   "source": [
    "dout"
   ]
  },
  {
   "cell_type": "code",
   "execution_count": 5,
   "id": "cf1ef39e",
   "metadata": {
    "execution": {
     "iopub.execute_input": "2021-12-15T10:08:09.530816Z",
     "iopub.status.busy": "2021-12-15T10:08:09.529820Z",
     "iopub.status.idle": "2021-12-15T10:08:09.544817Z",
     "shell.execute_reply": "2021-12-15T10:08:09.543815Z",
     "shell.execute_reply.started": "2021-12-15T10:08:09.530816Z"
    }
   },
   "outputs": [],
   "source": [
    "def sort_mdf(G, eqsn):\n",
    "    C = nx.condensation(G)\n",
    "    order = []\n",
    "    for n in nx.topological_sort(C):\n",
    "        filtereqs = {elt for elt in C.nodes[n]['members'] if elt in eqsn}\n",
    "        if filtereqs:\n",
    "            order.append(filtereqs)\n",
    "    return order"
   ]
  },
  {
   "cell_type": "code",
   "execution_count": 6,
   "id": "8357ee51",
   "metadata": {
    "execution": {
     "iopub.execute_input": "2021-12-15T10:08:10.155097Z",
     "iopub.status.busy": "2021-12-15T10:08:10.154092Z",
     "iopub.status.idle": "2021-12-15T10:08:10.175090Z",
     "shell.execute_reply": "2021-12-15T10:08:10.174118Z",
     "shell.execute_reply.started": "2021-12-15T10:08:10.155097Z"
    }
   },
   "outputs": [
    {
     "data": {
      "text/plain": [
       "[{3}, {4}, {0, 1, 2}]"
      ]
     },
     "execution_count": 6,
     "metadata": {},
     "output_type": "execute_result"
    }
   ],
   "source": [
    "order = sort_mdf(D2, alleqs)\n",
    "order"
   ]
  },
  {
   "cell_type": "markdown",
   "id": "ba9c6c58",
   "metadata": {},
   "source": [
    "MDF_IDF"
   ]
  },
  {
   "cell_type": "code",
   "execution_count": 7,
   "id": "1701fd98",
   "metadata": {
    "execution": {
     "iopub.execute_input": "2021-12-15T10:08:13.001186Z",
     "iopub.status.busy": "2021-12-15T10:08:13.001186Z",
     "iopub.status.idle": "2021-12-15T10:08:13.008185Z",
     "shell.execute_reply": "2021-12-15T10:08:13.007185Z",
     "shell.execute_reply.started": "2021-12-15T10:08:13.001186Z"
    }
   },
   "outputs": [],
   "source": [
    "def simplify_ordered(notation):\n",
    "    if len(notation)==2 and isinstance(notation[0],list):\n",
    "        return notation\n",
    "    else:\n",
    "        return [eq for out,eq in notation]"
   ]
  },
  {
   "cell_type": "code",
   "execution_count": 8,
   "id": "b7c020cb",
   "metadata": {
    "execution": {
     "iopub.execute_input": "2021-12-15T10:08:13.626356Z",
     "iopub.status.busy": "2021-12-15T10:08:13.625317Z",
     "iopub.status.idle": "2021-12-15T10:08:13.649313Z",
     "shell.execute_reply": "2021-12-15T10:08:13.648312Z",
     "shell.execute_reply.started": "2021-12-15T10:08:13.626356Z"
    }
   },
   "outputs": [],
   "source": [
    "def notation_mdf_idf(order, dout, notation=None, mergers=None):\n",
    "    mergers = mergers if mergers != None else []\n",
    "    merged_notation = []\n",
    "    for elt in order:\n",
    "        if len(elt)==1:\n",
    "            eqn = next(iter(elt))\n",
    "            merged_notation.append(notation[eqn])\n",
    "        else: # we hit a 'component'\n",
    "            # TODO: need to work this one out for notation\n",
    "            # This is where the IDF part kicks in, otherwise would have to tear here\n",
    "            outs = [out for eqn in elt for out in dout[eqn]]\n",
    "            # Need to simplify ordered \n",
    "            eqs = [nt for comp in elt for nt in (notation[comp] if comp in mergers else [comp])]\n",
    "            eqs += ['ceq{}'.format(out) for comp in elt for out in dout[comp] if comp in mergers]\n",
    "            merged_notation.append((outs, eqs))\n",
    "    if len(merged_notation)==1:\n",
    "        return merged_notation[0]\n",
    "    else:\n",
    "        return merged_notation"
   ]
  },
  {
   "cell_type": "code",
   "execution_count": 9,
   "id": "fa29aa9a",
   "metadata": {
    "execution": {
     "iopub.execute_input": "2021-12-15T10:08:14.740693Z",
     "iopub.status.busy": "2021-12-15T10:08:14.740693Z",
     "iopub.status.idle": "2021-12-15T10:08:14.750693Z",
     "shell.execute_reply": "2021-12-15T10:08:14.749690Z",
     "shell.execute_reply.started": "2021-12-15T10:08:14.740693Z"
    }
   },
   "outputs": [
    {
     "data": {
      "text/plain": [
       "{3: 8, 0: 11, 1: 5, 2: 6, 4: 7}"
      ]
     },
     "execution_count": 9,
     "metadata": {},
     "output_type": "execute_result"
    }
   ],
   "source": [
    "dout"
   ]
  },
  {
   "cell_type": "code",
   "execution_count": 89,
   "id": "ebcbc62b",
   "metadata": {
    "execution": {
     "iopub.execute_input": "2021-12-16T11:16:14.097793Z",
     "iopub.status.busy": "2021-12-16T11:16:14.096792Z",
     "iopub.status.idle": "2021-12-16T11:16:14.116803Z",
     "shell.execute_reply": "2021-12-16T11:16:14.115818Z",
     "shell.execute_reply.started": "2021-12-16T11:16:14.097793Z"
    }
   },
   "outputs": [],
   "source": [
    "doutnot = {key: (var,key) for key,var in dout.items()}"
   ]
  },
  {
   "cell_type": "code",
   "execution_count": 11,
   "id": "727d62f4",
   "metadata": {
    "execution": {
     "iopub.execute_input": "2021-12-15T10:08:17.063330Z",
     "iopub.status.busy": "2021-12-15T10:08:17.062324Z",
     "iopub.status.idle": "2021-12-15T10:08:17.079326Z",
     "shell.execute_reply": "2021-12-15T10:08:17.078322Z",
     "shell.execute_reply.started": "2021-12-15T10:08:17.063330Z"
    }
   },
   "outputs": [],
   "source": [
    "doutls = {key: [var] for key,var in dout.items()}"
   ]
  },
  {
   "cell_type": "markdown",
   "id": "a590df77",
   "metadata": {},
   "source": [
    "Merge"
   ]
  },
  {
   "cell_type": "code",
   "execution_count": 12,
   "id": "935caf06",
   "metadata": {
    "execution": {
     "iopub.execute_input": "2021-12-15T10:08:18.367221Z",
     "iopub.status.busy": "2021-12-15T10:08:18.366222Z",
     "iopub.status.idle": "2021-12-15T10:08:18.372220Z",
     "shell.execute_reply": "2021-12-15T10:08:18.371220Z",
     "shell.execute_reply.started": "2021-12-15T10:08:18.367221Z"
    }
   },
   "outputs": [],
   "source": [
    "#D2 = nx.DiGraph([(1,4), (4,2), (2,5), (5,1), (3,6), (6,1)])"
   ]
  },
  {
   "cell_type": "code",
   "execution_count": 16,
   "id": "527e48be",
   "metadata": {
    "execution": {
     "iopub.execute_input": "2021-12-16T17:11:32.166754Z",
     "iopub.status.busy": "2021-12-16T17:11:32.166754Z",
     "iopub.status.idle": "2021-12-16T17:11:32.190714Z",
     "shell.execute_reply": "2021-12-16T17:11:32.189710Z",
     "shell.execute_reply.started": "2021-12-16T17:11:32.166754Z"
    }
   },
   "outputs": [],
   "source": [
    "def merge(G, mergelts, mgroupname, mergewithold=True, solvefor=None):\n",
    "    solvefor = [] if solvefor == None else solvefor\n",
    "    edges = G.edges()\n",
    "    mergededges = [(fr,to) for fr,to in edges if fr in mergelts or to in mergelts]\n",
    "    outs = {to for fr,to in edges if fr in mergelts and not all([elt in mergelts for elt in D2.successors(to)])}\n",
    "    outs.union({elt for elt in solvefor}) # for every terminal node can have one solvefor\n",
    "    ins = {fr for fr,to in edges if to in mergelts and not any([elt in mergelts for elt in D2.predecessors(fr)])}\n",
    "    newedges = [(fr, mgroupname) for fr in ins]+[(mgroupname, to) for to in outs]\n",
    "    if mergewithold:\n",
    "        oldedges = [(fr, to) for fr,to in edges if fr not in mergelts and to not in mergelts]\n",
    "        newedges += oldedges\n",
    "    return nx.DiGraph(newedges),nx.DiGraph(mergededges), outs"
   ]
  },
  {
   "cell_type": "code",
   "execution_count": 59,
   "id": "5a2755b5",
   "metadata": {
    "execution": {
     "iopub.execute_input": "2021-12-16T10:59:33.524523Z",
     "iopub.status.busy": "2021-12-16T10:59:33.524523Z",
     "iopub.status.idle": "2021-12-16T10:59:33.542491Z",
     "shell.execute_reply": "2021-12-16T10:59:33.541490Z",
     "shell.execute_reply.started": "2021-12-16T10:59:33.524523Z"
    }
   },
   "outputs": [
    {
     "ename": "NameError",
     "evalue": "name 'sort_mdf' is not defined",
     "output_type": "error",
     "traceback": [
      "\u001b[1;31m---------------------------------------------------------------------------\u001b[0m",
      "\u001b[1;31mNameError\u001b[0m                                 Traceback (most recent call last)",
      "\u001b[1;32m<ipython-input-59-185b5cb89dc2>\u001b[0m in \u001b[0;36m<module>\u001b[1;34m\u001b[0m\n\u001b[1;32m----> 1\u001b[1;33m \u001b[0morder\u001b[0m \u001b[1;33m=\u001b[0m \u001b[0msort_mdf\u001b[0m\u001b[1;33m(\u001b[0m\u001b[0mD2\u001b[0m\u001b[1;33m,\u001b[0m \u001b[0malleqs\u001b[0m\u001b[1;33m)\u001b[0m\u001b[1;33m\u001b[0m\u001b[1;33m\u001b[0m\u001b[0m\n\u001b[0m\u001b[0;32m      2\u001b[0m \u001b[0mnotation_mdf_idf\u001b[0m\u001b[1;33m(\u001b[0m\u001b[0morder\u001b[0m\u001b[1;33m,\u001b[0m \u001b[0mdoutls\u001b[0m\u001b[1;33m,\u001b[0m \u001b[0mdoutnot\u001b[0m\u001b[1;33m)\u001b[0m\u001b[1;33m\u001b[0m\u001b[1;33m\u001b[0m\u001b[0m\n",
      "\u001b[1;31mNameError\u001b[0m: name 'sort_mdf' is not defined"
     ]
    }
   ],
   "source": [
    "order = sort_mdf(D2, alleqs)\n",
    "notation_mdf_idf(order, doutls, doutnot)"
   ]
  },
  {
   "cell_type": "code",
   "execution_count": 15,
   "id": "3c9cbffa",
   "metadata": {
    "execution": {
     "iopub.execute_input": "2021-12-15T10:08:23.457233Z",
     "iopub.status.busy": "2021-12-15T10:08:23.456223Z",
     "iopub.status.idle": "2021-12-15T10:08:23.475226Z",
     "shell.execute_reply": "2021-12-15T10:08:23.474263Z",
     "shell.execute_reply.started": "2021-12-15T10:08:23.457233Z"
    }
   },
   "outputs": [],
   "source": [
    "mergelts = [4,0,1]\n",
    "otherelts = [elt for elt in alleqs if elt not in mergelts]\n",
    "order = sort_mdf(D2, mergelts)\n",
    "notation_m1 = notation_mdf_idf(order, doutls, doutnot)\n",
    "newdout = {key:var for key,var in doutls.items() if key in otherelts}\n",
    "newdoutnot = {key:var for key,var in doutnot.items() if key in otherelts}"
   ]
  },
  {
   "cell_type": "code",
   "execution_count": 16,
   "id": "b5d046dd",
   "metadata": {
    "execution": {
     "iopub.execute_input": "2021-12-15T10:08:24.642158Z",
     "iopub.status.busy": "2021-12-15T10:08:24.641158Z",
     "iopub.status.idle": "2021-12-15T10:08:24.657156Z",
     "shell.execute_reply": "2021-12-15T10:08:24.656159Z",
     "shell.execute_reply.started": "2021-12-15T10:08:24.642158Z"
    }
   },
   "outputs": [
    {
     "data": {
      "text/plain": [
       "[(7, 4), ([11, 5], [0, 1])]"
      ]
     },
     "execution_count": 16,
     "metadata": {},
     "output_type": "execute_result"
    }
   ],
   "source": [
    "notation_m1"
   ]
  },
  {
   "cell_type": "code",
   "execution_count": 17,
   "id": "f0276414",
   "metadata": {
    "execution": {
     "iopub.execute_input": "2021-12-15T10:08:25.593012Z",
     "iopub.status.busy": "2021-12-15T10:08:25.591971Z",
     "iopub.status.idle": "2021-12-15T10:08:25.600972Z",
     "shell.execute_reply": "2021-12-15T10:08:25.599970Z",
     "shell.execute_reply.started": "2021-12-15T10:08:25.593012Z"
    }
   },
   "outputs": [
    {
     "data": {
      "text/plain": [
       "{3: [8], 2: [6]}"
      ]
     },
     "execution_count": 17,
     "metadata": {},
     "output_type": "execute_result"
    }
   ],
   "source": [
    "newdout"
   ]
  },
  {
   "cell_type": "code",
   "execution_count": 18,
   "id": "e761285c",
   "metadata": {
    "execution": {
     "iopub.execute_input": "2021-12-15T10:08:27.743663Z",
     "iopub.status.busy": "2021-12-15T10:08:27.742662Z",
     "iopub.status.idle": "2021-12-15T10:08:27.760654Z",
     "shell.execute_reply": "2021-12-15T10:08:27.759654Z",
     "shell.execute_reply.started": "2021-12-15T10:08:27.743663Z"
    }
   },
   "outputs": [],
   "source": [
    "D3, outs = merge(D2, mergelts, 'm1')\n",
    "newdout.update({'m1': ['cp{}'.format(elt) for elt in  outs]})\n",
    "newdoutnot.update({'m1': notation_m1})"
   ]
  },
  {
   "cell_type": "code",
   "execution_count": 19,
   "id": "4528c03d",
   "metadata": {
    "execution": {
     "iopub.execute_input": "2021-12-15T10:08:28.350481Z",
     "iopub.status.busy": "2021-12-15T10:08:28.350481Z",
     "iopub.status.idle": "2021-12-15T10:08:28.361479Z",
     "shell.execute_reply": "2021-12-15T10:08:28.360478Z",
     "shell.execute_reply.started": "2021-12-15T10:08:28.350481Z"
    }
   },
   "outputs": [],
   "source": [
    "order = sort_mdf(D3, [2,3,'m1'])"
   ]
  },
  {
   "cell_type": "code",
   "execution_count": 20,
   "id": "93e5c297",
   "metadata": {
    "execution": {
     "iopub.execute_input": "2021-12-15T10:08:28.793721Z",
     "iopub.status.busy": "2021-12-15T10:08:28.793721Z",
     "iopub.status.idle": "2021-12-15T10:08:28.802720Z",
     "shell.execute_reply": "2021-12-15T10:08:28.801744Z",
     "shell.execute_reply.started": "2021-12-15T10:08:28.793721Z"
    }
   },
   "outputs": [
    {
     "data": {
      "text/plain": [
       "[{3}, {2, 'm1'}]"
      ]
     },
     "execution_count": 20,
     "metadata": {},
     "output_type": "execute_result"
    }
   ],
   "source": [
    "order"
   ]
  },
  {
   "cell_type": "code",
   "execution_count": 21,
   "id": "fce0e8ad",
   "metadata": {
    "execution": {
     "iopub.execute_input": "2021-12-15T10:08:30.386369Z",
     "iopub.status.busy": "2021-12-15T10:08:30.386369Z",
     "iopub.status.idle": "2021-12-15T10:08:30.400801Z",
     "shell.execute_reply": "2021-12-15T10:08:30.399833Z",
     "shell.execute_reply.started": "2021-12-15T10:08:30.386369Z"
    }
   },
   "outputs": [
    {
     "data": {
      "text/plain": [
       "({3: [8], 2: [6], 'm1': ['cp5']},\n",
       " {3: (8, 3), 2: (6, 2), 'm1': [(7, 4), ([11, 5], [0, 1])]})"
      ]
     },
     "execution_count": 21,
     "metadata": {},
     "output_type": "execute_result"
    }
   ],
   "source": [
    "newdout, newdoutnot"
   ]
  },
  {
   "cell_type": "code",
   "execution_count": 22,
   "id": "e2d9d707",
   "metadata": {
    "execution": {
     "iopub.execute_input": "2021-12-15T10:08:31.111909Z",
     "iopub.status.busy": "2021-12-15T10:08:31.111909Z",
     "iopub.status.idle": "2021-12-15T10:08:31.130903Z",
     "shell.execute_reply": "2021-12-15T10:08:31.129946Z",
     "shell.execute_reply.started": "2021-12-15T10:08:31.111909Z"
    }
   },
   "outputs": [
    {
     "data": {
      "text/plain": [
       "[(8, 3), ([6, 'cp5'], [2, (7, 4), ([11, 5], [0, 1]), 'ceqcp5'])]"
      ]
     },
     "execution_count": 22,
     "metadata": {},
     "output_type": "execute_result"
    }
   ],
   "source": [
    "notation_mdf_idf(order, newdout, newdoutnot, ['m1'])"
   ]
  },
  {
   "cell_type": "code",
   "execution_count": 308,
   "id": "06bbc766",
   "metadata": {
    "execution": {
     "iopub.execute_input": "2021-12-11T02:04:32.453289Z",
     "iopub.status.busy": "2021-12-11T02:04:32.453289Z",
     "iopub.status.idle": "2021-12-11T02:04:32.468705Z",
     "shell.execute_reply": "2021-12-11T02:04:32.466706Z",
     "shell.execute_reply.started": "2021-12-11T02:04:32.453289Z"
    }
   },
   "outputs": [],
   "source": [
    "D4 = merge(D3, [0,2], 'm2')"
   ]
  },
  {
   "cell_type": "markdown",
   "id": "f2c8829d",
   "metadata": {},
   "source": [
    "## Next step\n",
    "Assume we have a graph with no cycles; </br>\n",
    "then we can execute each node, for example through IDF(i.e. residualize), but this might require copy variables in some cases </br>\n",
    "if there is a cycle, we can either tear it, or merge it and make it a problem for the layer below </br>\n",
    "technically we can merge elements of a cycle into multiple different merges but that wouldn't remove the cycle"
   ]
  },
  {
   "cell_type": "markdown",
   "id": "a834e1d8",
   "metadata": {},
   "source": [
    "### Residualize (aka idf)\n",
    "Only associated with notation or both"
   ]
  },
  {
   "cell_type": "markdown",
   "id": "5a2d499d",
   "metadata": {},
   "source": [
    "## Merge demo"
   ]
  },
  {
   "cell_type": "code",
   "execution_count": 82,
   "id": "d7b5d145",
   "metadata": {
    "execution": {
     "iopub.execute_input": "2021-12-16T11:12:36.476625Z",
     "iopub.status.busy": "2021-12-16T11:12:36.475621Z",
     "iopub.status.idle": "2021-12-16T11:12:36.494618Z",
     "shell.execute_reply": "2021-12-16T11:12:36.493661Z",
     "shell.execute_reply.started": "2021-12-16T11:12:36.476625Z"
    }
   },
   "outputs": [],
   "source": [
    "mergelts1 = [0,1,4]\n",
    "mergelts2 = [2,3]\n",
    "compGraph, newcomp, outs = merge(D2, mergelts1, 'm1', False)"
   ]
  },
  {
   "cell_type": "code",
   "execution_count": 83,
   "id": "7972bf1a",
   "metadata": {
    "execution": {
     "iopub.execute_input": "2021-12-16T11:12:36.867319Z",
     "iopub.status.busy": "2021-12-16T11:12:36.867319Z",
     "iopub.status.idle": "2021-12-16T11:12:36.887292Z",
     "shell.execute_reply": "2021-12-16T11:12:36.886286Z",
     "shell.execute_reply.started": "2021-12-16T11:12:36.867319Z"
    }
   },
   "outputs": [
    {
     "data": {
      "text/plain": [
       "OutEdgeView([(5, 0), (0, 11), (11, 1), (6, 1), (1, 5), (7, 1), (10, 1), (8, 4), (4, 7), (9, 4)])"
      ]
     },
     "execution_count": 83,
     "metadata": {},
     "output_type": "execute_result"
    }
   ],
   "source": [
    "newcomp.edges()"
   ]
  },
  {
   "cell_type": "code",
   "execution_count": 86,
   "id": "577678a1",
   "metadata": {
    "execution": {
     "iopub.execute_input": "2021-12-16T11:14:05.213700Z",
     "iopub.status.busy": "2021-12-16T11:14:05.212711Z",
     "iopub.status.idle": "2021-12-16T11:14:06.104699Z",
     "shell.execute_reply": "2021-12-16T11:14:06.103697Z",
     "shell.execute_reply.started": "2021-12-16T11:14:05.213700Z"
    }
   },
   "outputs": [
    {
     "data": {
      "image/png": "[encoded data removed]",
      "text/plain": [
       "<Figure size 432x432 with 1 Axes>"
      ]
     },
     "metadata": {},
     "output_type": "display_data"
    },
    {
     "data": {
      "image/png": "[encoded data removed]",
      "text/plain": [
       "<Figure size 432x432 with 1 Axes>"
      ]
     },
     "metadata": {},
     "output_type": "display_data"
    }
   ],
   "source": [
    "draw(newcomp, latexlabels=False, node_shape='b', prog='fdp')\n",
    "draw(compGraph, latexlabels=False, node_shape='b', prog='fdp');"
   ]
  },
  {
   "cell_type": "code",
   "execution_count": 85,
   "id": "882cad6a",
   "metadata": {
    "execution": {
     "iopub.execute_input": "2021-12-16T11:13:49.945293Z",
     "iopub.status.busy": "2021-12-16T11:13:49.945293Z",
     "iopub.status.idle": "2021-12-16T11:13:49.966289Z",
     "shell.execute_reply": "2021-12-16T11:13:49.965286Z",
     "shell.execute_reply.started": "2021-12-16T11:13:49.945293Z"
    }
   },
   "outputs": [
    {
     "data": {
      "text/plain": [
       "{5}"
      ]
     },
     "execution_count": 85,
     "metadata": {},
     "output_type": "execute_result"
    }
   ],
   "source": [
    "outs"
   ]
  },
  {
   "cell_type": "code",
   "execution_count": 119,
   "id": "cbf04141",
   "metadata": {
    "execution": {
     "iopub.execute_input": "2021-12-16T11:27:17.470531Z",
     "iopub.status.busy": "2021-12-16T11:27:17.469528Z",
     "iopub.status.idle": "2021-12-16T11:27:17.484526Z",
     "shell.execute_reply": "2021-12-16T11:27:17.483532Z",
     "shell.execute_reply.started": "2021-12-16T11:27:17.470531Z"
    }
   },
   "outputs": [],
   "source": [
    "newGraph, m1comp,_ = merge(D2, mergelts1, 'm1')\n",
    "newGraph, m2comp,_ = merge(newGraph, mergelts2, 'm2')"
   ]
  },
  {
   "cell_type": "code",
   "execution_count": 115,
   "id": "99a371d1",
   "metadata": {
    "execution": {
     "iopub.execute_input": "2021-12-16T11:25:57.507740Z",
     "iopub.status.busy": "2021-12-16T11:25:57.507740Z",
     "iopub.status.idle": "2021-12-16T11:25:58.055738Z",
     "shell.execute_reply": "2021-12-16T11:25:58.054785Z",
     "shell.execute_reply.started": "2021-12-16T11:25:57.507740Z"
    }
   },
   "outputs": [
    {
     "data": {
      "image/png": "[encoded data removed]",
      "text/plain": [
       "<Figure size 432x432 with 1 Axes>"
      ]
     },
     "metadata": {},
     "output_type": "display_data"
    }
   ],
   "source": [
    "draw(newGraph, latexlabels=False, node_shape='b', prog='fdp');"
   ]
  },
  {
   "cell_type": "markdown",
   "id": "b977d878",
   "metadata": {},
   "source": [
    "## Sequencing"
   ]
  },
  {
   "cell_type": "code",
   "execution_count": 203,
   "id": "d08ef295",
   "metadata": {
    "execution": {
     "iopub.execute_input": "2021-12-16T11:54:55.070426Z",
     "iopub.status.busy": "2021-12-16T11:54:55.069423Z",
     "iopub.status.idle": "2021-12-16T11:54:55.088422Z",
     "shell.execute_reply": "2021-12-16T11:54:55.087420Z",
     "shell.execute_reply.started": "2021-12-16T11:54:55.069423Z"
    }
   },
   "outputs": [],
   "source": [
    "def forcetolist(obj):\n",
    "    return [obj] if not isinstance(obj, list) else obj\n",
    "def flatten(lst):\n",
    "    [elt for interm in lst for elt in forcetolist(interm)]"
   ]
  },
  {
   "cell_type": "code",
   "execution_count": 204,
   "id": "34ca9769",
   "metadata": {
    "execution": {
     "iopub.execute_input": "2021-12-16T11:55:13.064065Z",
     "iopub.status.busy": "2021-12-16T11:55:13.063109Z",
     "iopub.status.idle": "2021-12-16T11:55:13.086064Z",
     "shell.execute_reply": "2021-12-16T11:55:13.085092Z",
     "shell.execute_reply.started": "2021-12-16T11:55:13.064065Z"
    }
   },
   "outputs": [],
   "source": [
    "def notation_seq(order, residuals, node_notation):\n",
    "    notation_out = [elt for node in order for elt in forcetolist(node_notation[node])]\n",
    "    if residuals:\n",
    "        allsolvefor, residuals_only = zip(*residuals)\n",
    "        notation_out += residuals_only\n",
    "        return (list(allsolvefor), notation_out)\n",
    "    else:\n",
    "        return notation_out"
   ]
  },
  {
   "cell_type": "code",
   "execution_count": 149,
   "id": "3a7c9dbd",
   "metadata": {
    "execution": {
     "iopub.execute_input": "2021-12-16T11:37:40.466387Z",
     "iopub.status.busy": "2021-12-16T11:37:40.466387Z",
     "iopub.status.idle": "2021-12-16T11:37:40.483386Z",
     "shell.execute_reply": "2021-12-16T11:37:40.482410Z",
     "shell.execute_reply.started": "2021-12-16T11:37:40.466387Z"
    }
   },
   "outputs": [
    {
     "data": {
      "text/plain": [
       "(['cpa'], ['x', 1, 'y', 2, ['a'], [3], 'ceq'])"
      ]
     },
     "execution_count": 149,
     "metadata": {},
     "output_type": "execute_result"
    }
   ],
   "source": [
    "notation_seq([1, 2, 'm1'], [('cpa', 'ceq')], {1:('x',1), 2:('y',2), 'm1': (['a'],[3]), 'ceq':'ceq'})"
   ]
  },
  {
   "cell_type": "code",
   "execution_count": 211,
   "id": "c682d959",
   "metadata": {
    "execution": {
     "iopub.execute_input": "2021-12-16T11:57:19.254916Z",
     "iopub.status.busy": "2021-12-16T11:57:19.253911Z",
     "iopub.status.idle": "2021-12-16T11:57:19.267910Z",
     "shell.execute_reply": "2021-12-16T11:57:19.266907Z",
     "shell.execute_reply.started": "2021-12-16T11:57:19.254916Z"
    }
   },
   "outputs": [],
   "source": [
    "def residualize(G, nodes, merged_nodes, node_notation):\n",
    "    edges = G.edges()\n",
    "    new_edges = []\n",
    "    new_notation = node_notation.copy()\n",
    "    counter = 0\n",
    "    res = []\n",
    "    order = []\n",
    "    for fr,to in edges:\n",
    "        if fr in nodes:\n",
    "            new_edges.append((to, fr))\n",
    "            new_notation[fr] = fr\n",
    "            res.append((to, fr))\n",
    "        elif fr in merged_nodes:\n",
    "            copyvarname = 'cp{}'.format(to)\n",
    "            eqname = 'ceq_{}'.format(fr)\n",
    "            new_edges.append((fr, copyvarname))\n",
    "            new_edges.append((copyvarname, eqname))\n",
    "            new_edges.append((to, eqname))\n",
    "            new_notation[eqname]=eqname\n",
    "            order.append((fr))\n",
    "            res.append((to, eqname))\n",
    "            counter+=1\n",
    "        else:\n",
    "            new_edges.append((fr,to))\n",
    "    return new_edges, new_notation, order, res"
   ]
  },
  {
   "cell_type": "code",
   "execution_count": 121,
   "id": "2d56597c",
   "metadata": {
    "execution": {
     "iopub.execute_input": "2021-12-16T11:27:43.863083Z",
     "iopub.status.busy": "2021-12-16T11:27:43.862085Z",
     "iopub.status.idle": "2021-12-16T11:27:44.415085Z",
     "shell.execute_reply": "2021-12-16T11:27:44.414083Z",
     "shell.execute_reply.started": "2021-12-16T11:27:43.863083Z"
    }
   },
   "outputs": [
    {
     "data": {
      "image/png": "[encoded data removed]",
      "text/plain": [
       "<Figure size 432x432 with 1 Axes>"
      ]
     },
     "metadata": {},
     "output_type": "display_data"
    }
   ],
   "source": [
    "draw(m2comp, latexlabels=False, node_shape='b', prog='fdp');"
   ]
  },
  {
   "cell_type": "code",
   "execution_count": 212,
   "id": "d5fd7252",
   "metadata": {
    "execution": {
     "iopub.execute_input": "2021-12-16T11:57:22.914337Z",
     "iopub.status.busy": "2021-12-16T11:57:22.913338Z",
     "iopub.status.idle": "2021-12-16T11:57:22.921339Z",
     "shell.execute_reply": "2021-12-16T11:57:22.920339Z",
     "shell.execute_reply.started": "2021-12-16T11:57:22.914337Z"
    }
   },
   "outputs": [],
   "source": [
    "def tear_notation(comp, order, teareq, teareqmerged, notation):\n",
    "    D2res, notation_new, orderres, res = residualize(comp, teareq, teareqmerged, notation)\n",
    "    return notation_seq(order+orderres, res, notation_new), notation_new"
   ]
  },
  {
   "cell_type": "code",
   "execution_count": 213,
   "id": "8ed61ebf",
   "metadata": {
    "execution": {
     "iopub.execute_input": "2021-12-16T11:57:23.145664Z",
     "iopub.status.busy": "2021-12-16T11:57:23.145664Z",
     "iopub.status.idle": "2021-12-16T11:57:23.157660Z",
     "shell.execute_reply": "2021-12-16T11:57:23.156659Z",
     "shell.execute_reply.started": "2021-12-16T11:57:23.145664Z"
    }
   },
   "outputs": [],
   "source": [
    "notn0 = {key: (var,key) for key,var in dout.items()}"
   ]
  },
  {
   "cell_type": "code",
   "execution_count": 214,
   "id": "1bc575f5",
   "metadata": {
    "execution": {
     "iopub.execute_input": "2021-12-16T11:57:23.373660Z",
     "iopub.status.busy": "2021-12-16T11:57:23.373660Z",
     "iopub.status.idle": "2021-12-16T11:57:23.394660Z",
     "shell.execute_reply": "2021-12-16T11:57:23.393676Z",
     "shell.execute_reply.started": "2021-12-16T11:57:23.373660Z"
    }
   },
   "outputs": [],
   "source": [
    "m1not, notn1 = tear_notation(m1comp, [4,1], [0], [], notn0)\n",
    "notn1['m1'] = m1not\n",
    "m2not, notn2 = tear_notation(m2comp, [2,3], [], [], notn1)\n",
    "notn2['m2'] = m2not"
   ]
  },
  {
   "cell_type": "code",
   "execution_count": 215,
   "id": "0f387e1e",
   "metadata": {
    "execution": {
     "iopub.execute_input": "2021-12-16T11:57:23.700943Z",
     "iopub.status.busy": "2021-12-16T11:57:23.699945Z",
     "iopub.status.idle": "2021-12-16T11:57:23.710942Z",
     "shell.execute_reply": "2021-12-16T11:57:23.709941Z",
     "shell.execute_reply.started": "2021-12-16T11:57:23.700943Z"
    }
   },
   "outputs": [
    {
     "data": {
      "text/plain": [
       "([11], [(7, 4), (5, 1), 0])"
      ]
     },
     "execution_count": 215,
     "metadata": {},
     "output_type": "execute_result"
    }
   ],
   "source": [
    "m1not"
   ]
  },
  {
   "cell_type": "code",
   "execution_count": 216,
   "id": "a3dee9ee",
   "metadata": {
    "execution": {
     "iopub.execute_input": "2021-12-16T11:57:24.348969Z",
     "iopub.status.busy": "2021-12-16T11:57:24.348969Z",
     "iopub.status.idle": "2021-12-16T11:57:24.357969Z",
     "shell.execute_reply": "2021-12-16T11:57:24.356970Z",
     "shell.execute_reply.started": "2021-12-16T11:57:24.348969Z"
    }
   },
   "outputs": [
    {
     "data": {
      "text/plain": [
       "[(6, 2), (8, 3)]"
      ]
     },
     "execution_count": 216,
     "metadata": {},
     "output_type": "execute_result"
    }
   ],
   "source": [
    "m2not"
   ]
  },
  {
   "cell_type": "code",
   "execution_count": 217,
   "id": "d9ea6773",
   "metadata": {
    "execution": {
     "iopub.execute_input": "2021-12-16T11:57:24.944617Z",
     "iopub.status.busy": "2021-12-16T11:57:24.943621Z",
     "iopub.status.idle": "2021-12-16T11:57:24.966619Z",
     "shell.execute_reply": "2021-12-16T11:57:24.965616Z",
     "shell.execute_reply.started": "2021-12-16T11:57:24.944617Z"
    }
   },
   "outputs": [
    {
     "data": {
      "text/plain": [
       "(([5], [(6, 2), (8, 3), ([11], [(7, 4), (5, 1), 0]), 'ceq_m1']),\n",
       " {3: (8, 3),\n",
       "  0: 0,\n",
       "  1: (5, 1),\n",
       "  2: (6, 2),\n",
       "  4: (7, 4),\n",
       "  'm1': ([11], [(7, 4), (5, 1), 0]),\n",
       "  'm2': [(6, 2), (8, 3)],\n",
       "  'ceq_m1': 'ceq_m1'})"
      ]
     },
     "execution_count": 217,
     "metadata": {},
     "output_type": "execute_result"
    }
   ],
   "source": [
    "tear_notation(newGraph, ['m2'], [], ['m1'], notn2)"
   ]
  },
  {
   "cell_type": "code",
   "execution_count": 99,
   "id": "e95e3a13",
   "metadata": {
    "execution": {
     "iopub.execute_input": "2021-12-16T11:18:40.439065Z",
     "iopub.status.busy": "2021-12-16T11:18:40.438024Z",
     "iopub.status.idle": "2021-12-16T11:18:40.459023Z",
     "shell.execute_reply": "2021-12-16T11:18:40.458023Z",
     "shell.execute_reply.started": "2021-12-16T11:18:40.439065Z"
    }
   },
   "outputs": [],
   "source": [
    "D2res, notat2, res = residualize(newcomp, [0], [], doutnot)"
   ]
  },
  {
   "cell_type": "code",
   "execution_count": 108,
   "id": "b3df9306",
   "metadata": {
    "execution": {
     "iopub.execute_input": "2021-12-16T11:20:53.938505Z",
     "iopub.status.busy": "2021-12-16T11:20:53.937506Z",
     "iopub.status.idle": "2021-12-16T11:20:53.955502Z",
     "shell.execute_reply": "2021-12-16T11:20:53.954502Z",
     "shell.execute_reply.started": "2021-12-16T11:20:53.938505Z"
    }
   },
   "outputs": [
    {
     "data": {
      "text/plain": [
       "([11], [(7, 4), (5, 1), 0])"
      ]
     },
     "execution_count": 108,
     "metadata": {},
     "output_type": "execute_result"
    }
   ],
   "source": [
    "notation_seq([4,1], res, notat2)"
   ]
  },
  {
   "cell_type": "code",
   "execution_count": 100,
   "id": "1b20b7b5",
   "metadata": {
    "execution": {
     "iopub.execute_input": "2021-12-16T11:18:41.228239Z",
     "iopub.status.busy": "2021-12-16T11:18:41.227231Z",
     "iopub.status.idle": "2021-12-16T11:18:41.891233Z",
     "shell.execute_reply": "2021-12-16T11:18:41.890230Z",
     "shell.execute_reply.started": "2021-12-16T11:18:41.228239Z"
    }
   },
   "outputs": [
    {
     "data": {
      "image/png": "[encoded data removed]",
      "text/plain": [
       "<Figure size 432x432 with 1 Axes>"
      ]
     },
     "metadata": {},
     "output_type": "display_data"
    }
   ],
   "source": [
    "draw(nx.DiGraph(D2res), latexlabels=False, node_shape='b', prog='neato');"
   ]
  },
  {
   "cell_type": "code",
   "execution_count": 54,
   "id": "0f9be517",
   "metadata": {
    "execution": {
     "iopub.execute_input": "2021-12-16T10:51:36.918279Z",
     "iopub.status.busy": "2021-12-16T10:51:36.918279Z",
     "iopub.status.idle": "2021-12-16T10:51:36.950279Z",
     "shell.execute_reply": "2021-12-16T10:51:36.949277Z",
     "shell.execute_reply.started": "2021-12-16T10:51:36.918279Z"
    }
   },
   "outputs": [
    {
     "ename": "NameError",
     "evalue": "name 'tear' is not defined",
     "output_type": "error",
     "traceback": [
      "\u001b[1;31m---------------------------------------------------------------------------\u001b[0m",
      "\u001b[1;31mNameError\u001b[0m                                 Traceback (most recent call last)",
      "\u001b[1;32m<ipython-input-54-3c5cb9f5accf>\u001b[0m in \u001b[0;36m<module>\u001b[1;34m\u001b[0m\n\u001b[1;32m----> 1\u001b[1;33m \u001b[0mtear\u001b[0m\u001b[1;33m(\u001b[0m\u001b[1;33m(\u001b[0m\u001b[1;34m'm1'\u001b[0m\u001b[1;33m,\u001b[0m \u001b[0mx1\u001b[0m\u001b[1;33m)\u001b[0m\u001b[1;33m)\u001b[0m\u001b[1;33m\u001b[0m\u001b[1;33m\u001b[0m\u001b[0m\n\u001b[0m\u001b[0;32m      2\u001b[0m \u001b[1;31m# residualize m1, notation_seq(order, ('x',ceq))\u001b[0m\u001b[1;33m\u001b[0m\u001b[1;33m\u001b[0m\u001b[1;33m\u001b[0m\u001b[0m\n",
      "\u001b[1;31mNameError\u001b[0m: name 'tear' is not defined"
     ]
    }
   ],
   "source": [
    "tear(('m1', x1))\n",
    "# residualize m1 --res--> notation_seq(order, ('x',ceq))"
   ]
  },
  {
   "cell_type": "code",
   "execution_count": 55,
   "id": "27cb45ec",
   "metadata": {
    "execution": {
     "iopub.execute_input": "2021-12-16T10:51:37.171280Z",
     "iopub.status.busy": "2021-12-16T10:51:37.170280Z",
     "iopub.status.idle": "2021-12-16T10:51:37.187279Z",
     "shell.execute_reply": "2021-12-16T10:51:37.186279Z",
     "shell.execute_reply.started": "2021-12-16T10:51:37.171280Z"
    }
   },
   "outputs": [
    {
     "data": {
      "text/plain": [
       "([(5, 0),\n",
       "  (5, 2),\n",
       "  (0, 11),\n",
       "  (6, 1),\n",
       "  (1, 5),\n",
       "  (7, 1),\n",
       "  (10, 1),\n",
       "  (11, 1),\n",
       "  (6, 2),\n",
       "  (8, 4),\n",
       "  (4, 7),\n",
       "  (9, 4),\n",
       "  (3, 'cp8'),\n",
       "  ('cp8', 'ceq0'),\n",
       "  (8, 'ceq0')],\n",
       " {3: (8, 3), 0: (11, 0), 1: (5, 1), 2: 2, 4: (7, 4), 'ceq0': 'ceq0'},\n",
       " [(6, 2), (8, 'ceq0')])"
      ]
     },
     "execution_count": 55,
     "metadata": {},
     "output_type": "execute_result"
    }
   ],
   "source": [
    "residualize(D2, [2], [3], doutnot)"
   ]
  },
  {
   "cell_type": "code",
   "execution_count": 112,
   "id": "d1902429",
   "metadata": {
    "execution": {
     "iopub.execute_input": "2021-12-15T11:20:01.843632Z",
     "iopub.status.busy": "2021-12-15T11:20:01.843632Z",
     "iopub.status.idle": "2021-12-15T11:20:01.850583Z",
     "shell.execute_reply": "2021-12-15T11:20:01.849583Z",
     "shell.execute_reply.started": "2021-12-15T11:20:01.843632Z"
    }
   },
   "outputs": [],
   "source": [
    "merger_nodes = ['m1']"
   ]
  },
  {
   "cell_type": "code",
   "execution_count": null,
   "id": "896989fc",
   "metadata": {},
   "outputs": [],
   "source": [
    "newdout.update({'m1': ['cp{}'.format(elt) for elt in  outs]})"
   ]
  },
  {
   "cell_type": "code",
   "execution_count": 117,
   "id": "aacec8c7",
   "metadata": {
    "execution": {
     "iopub.execute_input": "2021-12-15T11:38:57.467361Z",
     "iopub.status.busy": "2021-12-15T11:38:57.467361Z",
     "iopub.status.idle": "2021-12-15T11:38:57.481337Z",
     "shell.execute_reply": "2021-12-15T11:38:57.480334Z",
     "shell.execute_reply.started": "2021-12-15T11:38:57.467361Z"
    }
   },
   "outputs": [],
   "source": [
    "def residualize(order, nodes, mergednodes, notation, dout):\n",
    "    # assume order is topologically sorted\n",
    "    merged_notation = [notation[eqn] for eqn in order]\n",
    "    outs = [out for eqn in nodes for out in dout[eqn]]\n",
    "    # Need to simplify ordered \n",
    "    for elt in nodes:\n",
    "        eqs = [nt for comp in elt for nt in (notation[comp] if comp in mergednodes else [comp])]\n",
    "        eqs += ['ceq{}'.format(out) for comp in elt for out in dout[comp] if comp in mergednodes]\n",
    "    merged_notation.append((outs, eqs))"
   ]
  },
  {
   "cell_type": "code",
   "execution_count": null,
   "id": "b2bb876a",
   "metadata": {},
   "outputs": [],
   "source": [
    "residualize"
   ]
  },
  {
   "cell_type": "code",
   "execution_count": 79,
   "id": "e24a290e",
   "metadata": {
    "execution": {
     "iopub.execute_input": "2021-12-15T10:35:52.472746Z",
     "iopub.status.busy": "2021-12-15T10:35:52.472746Z",
     "iopub.status.idle": "2021-12-15T10:35:52.482750Z",
     "shell.execute_reply": "2021-12-15T10:35:52.481747Z",
     "shell.execute_reply.started": "2021-12-15T10:35:52.472746Z"
    }
   },
   "outputs": [],
   "source": [
    "scc = filter(lambda x: len(x)>1, nx.strongly_connected_components(D2))"
   ]
  },
  {
   "cell_type": "code",
   "execution_count": 81,
   "id": "5b3e5d4a",
   "metadata": {
    "execution": {
     "iopub.execute_input": "2021-12-15T10:36:01.798136Z",
     "iopub.status.busy": "2021-12-15T10:36:01.798136Z",
     "iopub.status.idle": "2021-12-15T10:36:01.815121Z",
     "shell.execute_reply": "2021-12-15T10:36:01.814146Z",
     "shell.execute_reply.started": "2021-12-15T10:36:01.798136Z"
    }
   },
   "outputs": [],
   "source": [
    "m1 = list(scc)[0]"
   ]
  },
  {
   "cell_type": "code",
   "execution_count": 82,
   "id": "e172b716",
   "metadata": {
    "execution": {
     "iopub.execute_input": "2021-12-15T10:36:04.623689Z",
     "iopub.status.busy": "2021-12-15T10:36:04.623689Z",
     "iopub.status.idle": "2021-12-15T10:36:04.642688Z",
     "shell.execute_reply": "2021-12-15T10:36:04.641687Z",
     "shell.execute_reply.started": "2021-12-15T10:36:04.623689Z"
    }
   },
   "outputs": [
    {
     "data": {
      "text/plain": [
       "{0, 1, 2, 5, 6, 11}"
      ]
     },
     "execution_count": 82,
     "metadata": {},
     "output_type": "execute_result"
    }
   ],
   "source": [
    "m1"
   ]
  },
  {
   "cell_type": "code",
   "execution_count": 86,
   "id": "bcd9608c",
   "metadata": {
    "execution": {
     "iopub.execute_input": "2021-12-15T10:36:38.509746Z",
     "iopub.status.busy": "2021-12-15T10:36:38.509746Z",
     "iopub.status.idle": "2021-12-15T10:36:38.524740Z",
     "shell.execute_reply": "2021-12-15T10:36:38.522740Z",
     "shell.execute_reply.started": "2021-12-15T10:36:38.509746Z"
    }
   },
   "outputs": [],
   "source": [
    "newGraph, newComp, _ = merge(D2, m1, 'm1')"
   ]
  },
  {
   "cell_type": "code",
   "execution_count": 91,
   "id": "061df751",
   "metadata": {
    "execution": {
     "iopub.execute_input": "2021-12-15T10:45:05.344340Z",
     "iopub.status.busy": "2021-12-15T10:45:05.344340Z",
     "iopub.status.idle": "2021-12-15T10:45:05.353340Z",
     "shell.execute_reply": "2021-12-15T10:45:05.352340Z",
     "shell.execute_reply.started": "2021-12-15T10:45:05.344340Z"
    }
   },
   "outputs": [],
   "source": [
    "eqs = [node for node in m1 if node in alleqs]\n",
    "solvefor = [dout[eqn] for eqn in eqs]"
   ]
  },
  {
   "cell_type": "code",
   "execution_count": 102,
   "id": "5b77519b",
   "metadata": {
    "execution": {
     "iopub.execute_input": "2021-12-15T10:49:18.568370Z",
     "iopub.status.busy": "2021-12-15T10:49:18.567372Z",
     "iopub.status.idle": "2021-12-15T10:49:18.578373Z",
     "shell.execute_reply": "2021-12-15T10:49:18.577365Z",
     "shell.execute_reply.started": "2021-12-15T10:49:18.568370Z"
    }
   },
   "outputs": [],
   "source": [
    "mergednodes = [elt for elt in newGraph.nodes() if elt in alleqs+['m1']]"
   ]
  },
  {
   "cell_type": "code",
   "execution_count": 103,
   "id": "3f1aebaa",
   "metadata": {
    "execution": {
     "iopub.execute_input": "2021-12-15T10:49:43.655286Z",
     "iopub.status.busy": "2021-12-15T10:49:43.654284Z",
     "iopub.status.idle": "2021-12-15T10:49:43.667283Z",
     "shell.execute_reply": "2021-12-15T10:49:43.666280Z",
     "shell.execute_reply.started": "2021-12-15T10:49:43.655286Z"
    }
   },
   "outputs": [],
   "source": [
    "doutnotnew = {key:val for key,val in doutnot.items() if key in mergednodes}\n",
    "doutnotnew['m1'] = (solvefor, eqs)"
   ]
  },
  {
   "cell_type": "code",
   "execution_count": 104,
   "id": "7dd302d4",
   "metadata": {
    "execution": {
     "iopub.execute_input": "2021-12-15T10:49:44.883356Z",
     "iopub.status.busy": "2021-12-15T10:49:44.882315Z",
     "iopub.status.idle": "2021-12-15T10:49:44.900313Z",
     "shell.execute_reply": "2021-12-15T10:49:44.899309Z",
     "shell.execute_reply.started": "2021-12-15T10:49:44.883356Z"
    }
   },
   "outputs": [
    {
     "data": {
      "text/plain": [
       "{3: (8, 3), 4: (7, 4), 'm1': ([11, 5, 6], [0, 1, 2])}"
      ]
     },
     "execution_count": 104,
     "metadata": {},
     "output_type": "execute_result"
    }
   ],
   "source": [
    "doutnotnew"
   ]
  },
  {
   "cell_type": "code",
   "execution_count": 109,
   "id": "6dea57fc",
   "metadata": {
    "execution": {
     "iopub.execute_input": "2021-12-15T10:50:17.547986Z",
     "iopub.status.busy": "2021-12-15T10:50:17.546986Z",
     "iopub.status.idle": "2021-12-15T10:50:17.568958Z",
     "shell.execute_reply": "2021-12-15T10:50:17.567958Z",
     "shell.execute_reply.started": "2021-12-15T10:50:17.547986Z"
    }
   },
   "outputs": [
    {
     "data": {
      "text/plain": [
       "[(8, 3), (7, 4), ([11, 5, 6], [0, 1, 2])]"
      ]
     },
     "execution_count": 109,
     "metadata": {},
     "output_type": "execute_result"
    }
   ],
   "source": [
    "order = [node for node in nx.topological_sort(newGraph) if node in alleqs+['m1']] #filter out variables\n",
    "notation_seq(order, doutnotnew)"
   ]
  },
  {
   "cell_type": "code",
   "execution_count": 110,
   "id": "70b90287",
   "metadata": {
    "execution": {
     "iopub.execute_input": "2021-12-15T10:50:40.600432Z",
     "iopub.status.busy": "2021-12-15T10:50:40.600432Z",
     "iopub.status.idle": "2021-12-15T10:50:40.609426Z",
     "shell.execute_reply": "2021-12-15T10:50:40.608425Z",
     "shell.execute_reply.started": "2021-12-15T10:50:40.600432Z"
    }
   },
   "outputs": [
    {
     "data": {
      "text/plain": [
       "[3, 4, 'm1']"
      ]
     },
     "execution_count": 110,
     "metadata": {},
     "output_type": "execute_result"
    }
   ],
   "source": [
    "order"
   ]
  },
  {
   "cell_type": "code",
   "execution_count": null,
   "id": "c5eba69a",
   "metadata": {},
   "outputs": [],
   "source": []
  },
  {
   "cell_type": "markdown",
   "id": "85aef9d8",
   "metadata": {},
   "source": [
    "## Merge function build up"
   ]
  },
  {
   "cell_type": "code",
   "execution_count": 72,
   "id": "c7d9feb6",
   "metadata": {
    "execution": {
     "iopub.execute_input": "2021-12-11T00:52:47.541452Z",
     "iopub.status.busy": "2021-12-11T00:52:47.541452Z",
     "iopub.status.idle": "2021-12-11T00:52:47.547443Z",
     "shell.execute_reply": "2021-12-11T00:52:47.546444Z",
     "shell.execute_reply.started": "2021-12-11T00:52:47.541452Z"
    }
   },
   "outputs": [],
   "source": [
    "outs = {to for fr,to in D2.edges() if fr in mergelts and not any([elt in mergelts for elt in D2.successors(to)])}\n",
    "ins = {fr for fr,to in D2.edges() if to in mergelts and not any([elt in mergelts for elt in D2.predecessors(fr)])}"
   ]
  },
  {
   "cell_type": "code",
   "execution_count": 79,
   "id": "511cf57e",
   "metadata": {
    "execution": {
     "iopub.execute_input": "2021-12-11T00:56:55.106630Z",
     "iopub.status.busy": "2021-12-11T00:56:55.106630Z",
     "iopub.status.idle": "2021-12-11T00:56:55.114593Z",
     "shell.execute_reply": "2021-12-11T00:56:55.113590Z",
     "shell.execute_reply.started": "2021-12-11T00:56:55.106630Z"
    }
   },
   "outputs": [],
   "source": [
    "mgroup = 'm1'\n",
    "newedges = [(fr, mgroup) for fr in ins]+[(mgroup, to) for to in ins]"
   ]
  },
  {
   "cell_type": "code",
   "execution_count": 81,
   "id": "c6451883",
   "metadata": {
    "execution": {
     "iopub.execute_input": "2021-12-11T01:02:01.802506Z",
     "iopub.status.busy": "2021-12-11T01:02:01.802506Z",
     "iopub.status.idle": "2021-12-11T01:02:01.834424Z",
     "shell.execute_reply": "2021-12-11T01:02:01.833423Z",
     "shell.execute_reply.started": "2021-12-11T01:02:01.802506Z"
    }
   },
   "outputs": [],
   "source": [
    "oldedges = [(fr, to) for fr,to in D2.edges() if fr not in mergelts and to not in mergelts]"
   ]
  },
  {
   "cell_type": "code",
   "execution_count": 83,
   "id": "2ddafaff",
   "metadata": {
    "execution": {
     "iopub.execute_input": "2021-12-11T01:02:18.938427Z",
     "iopub.status.busy": "2021-12-11T01:02:18.938427Z",
     "iopub.status.idle": "2021-12-11T01:02:18.953313Z",
     "shell.execute_reply": "2021-12-11T01:02:18.951307Z",
     "shell.execute_reply.started": "2021-12-11T01:02:18.938427Z"
    }
   },
   "outputs": [
    {
     "data": {
      "text/plain": [
       "[(4, 0),\n",
       " (4, 2),\n",
       " (0, 9),\n",
       " (8, 0),\n",
       " (6, 2),\n",
       " (2, 7),\n",
       " (9, 2),\n",
       " (8, 'm1'),\n",
       " (9, 'm1'),\n",
       " (6, 'm1'),\n",
       " ('m1', 8),\n",
       " ('m1', 9),\n",
       " ('m1', 6)]"
      ]
     },
     "execution_count": 83,
     "metadata": {},
     "output_type": "execute_result"
    }
   ],
   "source": [
    "oldedges+newedges"
   ]
  },
  {
   "cell_type": "code",
   "execution_count": 80,
   "id": "cf2be078",
   "metadata": {
    "execution": {
     "iopub.execute_input": "2021-12-11T00:56:58.848966Z",
     "iopub.status.busy": "2021-12-11T00:56:58.848966Z",
     "iopub.status.idle": "2021-12-11T00:56:58.862926Z",
     "shell.execute_reply": "2021-12-11T00:56:58.861969Z",
     "shell.execute_reply.started": "2021-12-11T00:56:58.848966Z"
    }
   },
   "outputs": [
    {
     "data": {
      "text/plain": [
       "[(8, 'm1'), (9, 'm1'), (6, 'm1'), ('m1', 8), ('m1', 9), ('m1', 6)]"
      ]
     },
     "execution_count": 80,
     "metadata": {},
     "output_type": "execute_result"
    }
   ],
   "source": [
    "newedges"
   ]
  },
  {
   "cell_type": "markdown",
   "id": "da8a8e5e",
   "metadata": {},
   "source": [
    "### Partitions (i.e. modules)"
   ]
  },
  {
   "cell_type": "code",
   "execution_count": 14,
   "id": "ca7a3de4",
   "metadata": {
    "execution": {
     "iopub.execute_input": "2021-12-09T18:07:20.246245Z",
     "iopub.status.busy": "2021-12-09T18:07:20.246245Z",
     "iopub.status.idle": "2021-12-09T18:07:20.323241Z",
     "shell.execute_reply": "2021-12-09T18:07:20.321240Z",
     "shell.execute_reply.started": "2021-12-09T18:07:20.246245Z"
    }
   },
   "outputs": [],
   "source": [
    "from notation import generate_execution"
   ]
  },
  {
   "cell_type": "markdown",
   "id": "c28890b6",
   "metadata": {},
   "source": [
    "Copy variable not needed when we only have one discipline in an implicit mode"
   ]
  },
  {
   "cell_type": "code",
   "execution_count": 25,
   "id": "3ac15124",
   "metadata": {
    "execution": {
     "iopub.execute_input": "2021-12-09T18:09:52.931211Z",
     "iopub.status.busy": "2021-12-09T18:09:52.930212Z",
     "iopub.status.idle": "2021-12-09T18:09:52.950215Z",
     "shell.execute_reply": "2021-12-09T18:09:52.949210Z",
     "shell.execute_reply.started": "2021-12-09T18:09:52.931211Z"
    }
   },
   "outputs": [],
   "source": [
    "ex1 = [('acopy', [('c', [('b', 1), 2]), (['a'], [3]), -1])] \n",
    "# ends up being equivalent to \n",
    "ex1_simple = [('aregular', [('c', [('b',1), 2]), 3])] "
   ]
  },
  {
   "cell_type": "code",
   "execution_count": 26,
   "id": "640326d4",
   "metadata": {
    "execution": {
     "iopub.execute_input": "2021-12-09T18:09:53.285214Z",
     "iopub.status.busy": "2021-12-09T18:09:53.285214Z",
     "iopub.status.idle": "2021-12-09T18:09:53.294205Z",
     "shell.execute_reply": "2021-12-09T18:09:53.293208Z",
     "shell.execute_reply.started": "2021-12-09T18:09:53.285214Z"
    }
   },
   "outputs": [
    {
     "data": {
      "text/plain": [
       "[('solver', 0, 1, 'acopy', [-1]),\n",
       " ('solver', 1, 2, 'c', [2]),\n",
       " ('exp', 2, 'b', 1),\n",
       " ('solver', 1, 3, ['a'], [3])]"
      ]
     },
     "execution_count": 26,
     "metadata": {},
     "output_type": "execute_result"
    }
   ],
   "source": [
    "generate_execution(ex1)"
   ]
  },
  {
   "cell_type": "code",
   "execution_count": 27,
   "id": "a894391f",
   "metadata": {
    "execution": {
     "iopub.execute_input": "2021-12-09T18:09:53.517211Z",
     "iopub.status.busy": "2021-12-09T18:09:53.516209Z",
     "iopub.status.idle": "2021-12-09T18:09:53.527207Z",
     "shell.execute_reply": "2021-12-09T18:09:53.526207Z",
     "shell.execute_reply.started": "2021-12-09T18:09:53.517211Z"
    }
   },
   "outputs": [
    {
     "data": {
      "text/plain": [
       "[('solver', 0, 1, 'aregular', [3]),\n",
       " ('solver', 1, 2, 'c', [2]),\n",
       " ('exp', 2, 'b', 1)]"
      ]
     },
     "execution_count": 27,
     "metadata": {},
     "output_type": "execute_result"
    }
   ],
   "source": [
    "generate_execution(ex1_simple)"
   ]
  },
  {
   "cell_type": "markdown",
   "id": "3ec9fb97",
   "metadata": {},
   "source": [
    "But with more than two disciplines on the tearing variable we need it <-- some tearings might lead to fewer copy variables?"
   ]
  },
  {
   "cell_type": "code",
   "execution_count": 29,
   "id": "a4765869",
   "metadata": {
    "execution": {
     "iopub.execute_input": "2021-12-09T18:11:50.510811Z",
     "iopub.status.busy": "2021-12-09T18:11:50.510811Z",
     "iopub.status.idle": "2021-12-09T18:11:50.523805Z",
     "shell.execute_reply": "2021-12-09T18:11:50.522805Z",
     "shell.execute_reply.started": "2021-12-09T18:11:50.510811Z"
    }
   },
   "outputs": [],
   "source": [
    "ex2 = [('acopy', [('c', [('b', 1), 2]), (['a', 'x'], [3, 4]), -1])] # two levels, with multiple siblings with solvers at lower level"
   ]
  },
  {
   "cell_type": "code",
   "execution_count": 30,
   "id": "8daeb334",
   "metadata": {
    "execution": {
     "iopub.execute_input": "2021-12-09T18:11:55.433378Z",
     "iopub.status.busy": "2021-12-09T18:11:55.433378Z",
     "iopub.status.idle": "2021-12-09T18:11:55.442019Z",
     "shell.execute_reply": "2021-12-09T18:11:55.441058Z",
     "shell.execute_reply.started": "2021-12-09T18:11:55.433378Z"
    }
   },
   "outputs": [
    {
     "data": {
      "text/plain": [
       "[('solver', 0, 1, 'acopy', [-1]),\n",
       " ('solver', 1, 2, 'c', [2]),\n",
       " ('exp', 2, 'b', 1),\n",
       " ('solver', 1, 3, ['a', 'x'], [3, 4])]"
      ]
     },
     "execution_count": 30,
     "metadata": {},
     "output_type": "execute_result"
    }
   ],
   "source": [
    "generate_execution(ex2)"
   ]
  },
  {
   "cell_type": "markdown",
   "id": "4208fb61",
   "metadata": {},
   "source": [
    "## Demo"
   ]
  },
  {
   "attachments": {
    "d32c3f80-c2a7-45ba-8563-59065629e8ba.png": {
     "image/png": "[encoded data removed]"
    }
   },
   "cell_type": "markdown",
   "id": "a3ccc95b",
   "metadata": {},
   "source": [
    "<img src=\"attachment:d32c3f80-c2a7-45ba-8563-59065629e8ba.png\" alt=\"drawing\" width=\"800\"/>"
   ]
  },
  {
   "cell_type": "code",
   "execution_count": 82,
   "id": "fec2bf79",
   "metadata": {
    "execution": {
     "iopub.execute_input": "2021-12-16T18:47:19.986108Z",
     "iopub.status.busy": "2021-12-16T18:47:19.986108Z",
     "iopub.status.idle": "2021-12-16T18:47:20.009107Z",
     "shell.execute_reply": "2021-12-16T18:47:20.008101Z",
     "shell.execute_reply.started": "2021-12-16T18:47:19.986108Z"
    }
   },
   "outputs": [],
   "source": [
    "root = nx.DiGraph([('x_0', 'f_1'), ('f_1', 'x_2'), ('x_1', 'f_1'), ('x_2', 'f_2'), ('f_2', 'x_3'), ('x_3', 'f_1'), ('x_3', 'f_3'), \n",
    "                   ('x_1', 'f_3'), ('f_3', 'x_5'), ('x_3', 'r_1'), ('x_4', 'r_1')])"
   ]
  },
  {
   "cell_type": "code",
   "execution_count": 3,
   "id": "b9349a2e",
   "metadata": {
    "execution": {
     "iopub.execute_input": "2021-12-16T17:06:39.752602Z",
     "iopub.status.busy": "2021-12-16T17:06:39.751619Z",
     "iopub.status.idle": "2021-12-16T17:06:39.762601Z",
     "shell.execute_reply": "2021-12-16T17:06:39.761601Z",
     "shell.execute_reply.started": "2021-12-16T17:06:39.752602Z"
    }
   },
   "outputs": [],
   "source": [
    "def circular_vars(graph):\n",
    "    return {elt:'o' if elt in ['x_0','x_1','x_2','x_3','x_4','x_5'] else 's' for elt in graph.nodes()}"
   ]
  },
  {
   "cell_type": "code",
   "execution_count": 32,
   "id": "20e19339",
   "metadata": {
    "execution": {
     "iopub.execute_input": "2021-12-16T17:19:42.075534Z",
     "iopub.status.busy": "2021-12-16T17:19:42.074532Z",
     "iopub.status.idle": "2021-12-16T17:19:42.080532Z",
     "shell.execute_reply": "2021-12-16T17:19:42.079530Z",
     "shell.execute_reply.started": "2021-12-16T17:19:42.074532Z"
    }
   },
   "outputs": [],
   "source": [
    "def drawfull(graph, prog='neato'):\n",
    "    draw(graph, node_shape=circular_vars(graph), arc=0.1, prog=prog);"
   ]
  },
  {
   "cell_type": "code",
   "execution_count": 4,
   "id": "964dad27",
   "metadata": {
    "execution": {
     "iopub.execute_input": "2021-12-16T17:06:40.619606Z",
     "iopub.status.busy": "2021-12-16T17:06:40.619606Z",
     "iopub.status.idle": "2021-12-16T17:06:40.632606Z",
     "shell.execute_reply": "2021-12-16T17:06:40.631605Z",
     "shell.execute_reply.started": "2021-12-16T17:06:40.619606Z"
    }
   },
   "outputs": [],
   "source": [
    "#draw(root, node_shape=node_shapes, arc=0.1, prog='neato');"
   ]
  },
  {
   "cell_type": "code",
   "execution_count": 47,
   "id": "48bb2ecd",
   "metadata": {
    "execution": {
     "iopub.execute_input": "2021-12-16T17:25:19.389519Z",
     "iopub.status.busy": "2021-12-16T17:25:19.389519Z",
     "iopub.status.idle": "2021-12-16T17:25:19.416514Z",
     "shell.execute_reply": "2021-12-16T17:25:19.415517Z",
     "shell.execute_reply.started": "2021-12-16T17:25:19.389519Z"
    }
   },
   "outputs": [],
   "source": [
    "def merge(G, mergelts, mgroupname, mergewithold=True, solvefor=None, solvefortable=None):\n",
    "    solvefor = [] if solvefor == None else solvefor\n",
    "    solvefortable = dict() if solvefortable == None else solvefortable\n",
    "    allsolvevars = set()\n",
    "    for solvevar, res in solvefor:\n",
    "        mergelts.append(res)\n",
    "        allsolvevars.add(solvevar)\n",
    "    edges = G.edges()\n",
    "    mergededges = [(fr,to) for fr,to in edges if fr in mergelts or to in mergelts]\n",
    "    outs = {to for fr,to in edges if fr in mergelts and not all([elt in mergelts for elt in G.successors(to)])}\n",
    "    outs = outs.union(allsolvevars) # for every terminal node can have one solvefor\n",
    "    ins = {fr for fr,to in edges if (\n",
    "        to in mergelts \n",
    "        and not any([elt in mergelts for elt in G.predecessors(fr)]) \n",
    "        and fr not in allsolvevars)}\n",
    "    newedges = [(fr, mgroupname) for fr in ins]+[(mgroupname, to) for to in outs]\n",
    "    if mergewithold:\n",
    "        oldedges = [(fr, to) for fr,to in edges if fr not in mergelts and to not in mergelts]\n",
    "        newedges += oldedges\n",
    "    solvefortable = solvefortable.copy()\n",
    "    solvefortable[mgroupname] = solvefor\n",
    "    return nx.DiGraph(newedges),nx.DiGraph(mergededges), solvefortable"
   ]
  },
  {
   "cell_type": "code",
   "execution_count": 83,
   "id": "ed4e3d45",
   "metadata": {
    "execution": {
     "iopub.execute_input": "2021-12-16T18:47:33.030077Z",
     "iopub.status.busy": "2021-12-16T18:47:33.029083Z",
     "iopub.status.idle": "2021-12-16T18:47:33.042080Z",
     "shell.execute_reply": "2021-12-16T18:47:33.041080Z",
     "shell.execute_reply.started": "2021-12-16T18:47:33.029083Z"
    }
   },
   "outputs": [],
   "source": [
    "ch1, ch2, solvefortable = merge(root, ['f_1','f_2'], 'm1', solvefor=[('x_1', 'r_1')])"
   ]
  },
  {
   "attachments": {
    "878b3c99-7cf1-4b31-84ea-740568569882.png": {
     "image/png": "[encoded data removed]"
    }
   },
   "cell_type": "markdown",
   "id": "3c0ccd5d",
   "metadata": {},
   "source": [
    "![image.png](attachment:878b3c99-7cf1-4b31-84ea-740568569882.png)"
   ]
  },
  {
   "cell_type": "code",
   "execution_count": 73,
   "id": "bedfa657",
   "metadata": {
    "execution": {
     "iopub.execute_input": "2021-12-16T18:41:56.994851Z",
     "iopub.status.busy": "2021-12-16T18:41:56.994851Z",
     "iopub.status.idle": "2021-12-16T18:41:57.008842Z",
     "shell.execute_reply": "2021-12-16T18:41:57.007840Z",
     "shell.execute_reply.started": "2021-12-16T18:41:56.994851Z"
    }
   },
   "outputs": [],
   "source": [
    "# old implmentation:\n",
    "# def standardize(G, nodes, notation):\n",
    "#     new_notation = notation.copy()\n",
    "#     edges = [(to,fr) if fr in nodes else (fr,to) for fr,to in G.edges()]\n",
    "#     for elt in nodes:\n",
    "#         new_notation[nodes] = notation[nodes][1]\n",
    "#     return nx.DiGraph(edges), new_notation"
   ]
  },
  {
   "cell_type": "code",
   "execution_count": null,
   "id": "415bbfb6",
   "metadata": {},
   "outputs": [],
   "source": [
    "def standardize(graph_map, solvefor, external_res, graph_name, comp_name, var):\n",
    "    graph_map = graph_map.copy()\n",
    "    graph = graph_map[graph_name]\n",
    "    # invert direction\n",
    "    edges = [(to,fr) if fr==comp_name else (fr,to) for fr,to in graph.edges()]\n",
    "    graph_map[comp_name] = nx.DiGraph(edges)\n",
    "    comp_graph = graph_map[comp_name]\n",
    "    # test for which case\n",
    "    pred = comp_graph.predecessors(var)\n",
    "    if pred: # case 1 - the 'trivial' case\n",
    "        if comp_name in graph_map:\n",
    "            standardize(graph_map, solvefor, external_res, comp_name, str(pred[1]), var)\n",
    "        else: # if we have a leaf node\n",
    "            pass\n",
    "    else: # case 2 - the interesting case\n",
    "        res = solvefor[comp_name][var]\n",
    "        solvefor[comp_name].pop(var)\n",
    "        external_res[comp_name].append(res)\n",
    "        # update solvefor of merged\n",
    "        solvefor[graph_name][var] = comp_name\n",
    "    # update notation ?\n",
    "    \n",
    "    return graph_map, solvefor, external_res"
   ]
  },
  {
   "cell_type": "code",
   "execution_count": 84,
   "id": "57648fcd",
   "metadata": {
    "execution": {
     "iopub.execute_input": "2021-12-16T18:47:35.347083Z",
     "iopub.status.busy": "2021-12-16T18:47:35.346080Z",
     "iopub.status.idle": "2021-12-16T18:47:36.357077Z",
     "shell.execute_reply": "2021-12-16T18:47:36.356075Z",
     "shell.execute_reply.started": "2021-12-16T18:47:35.347083Z"
    }
   },
   "outputs": [
    {
     "data": {
      "image/png": "[encoded data removed]",
      "text/plain": [
       "<Figure size 432x432 with 1 Axes>"
      ]
     },
     "metadata": {},
     "output_type": "display_data"
    }
   ],
   "source": [
    "drawfull(ch1)"
   ]
  },
  {
   "cell_type": "code",
   "execution_count": 77,
   "id": "5c388533",
   "metadata": {
    "execution": {
     "iopub.execute_input": "2021-12-16T18:43:31.930427Z",
     "iopub.status.busy": "2021-12-16T18:43:31.929426Z",
     "iopub.status.idle": "2021-12-16T18:43:31.940423Z",
     "shell.execute_reply": "2021-12-16T18:43:31.939423Z",
     "shell.execute_reply.started": "2021-12-16T18:43:31.930427Z"
    }
   },
   "outputs": [],
   "source": [
    "notation = {'m1': (['x_1', 'x_3'], [('x_2', 'f_1'), ('x_2', 'f_5'), 'r_1', 'f_2'])}"
   ]
  },
  {
   "cell_type": "code",
   "execution_count": 87,
   "id": "760160bf",
   "metadata": {
    "execution": {
     "iopub.execute_input": "2021-12-16T18:48:19.775115Z",
     "iopub.status.busy": "2021-12-16T18:48:19.775115Z",
     "iopub.status.idle": "2021-12-16T18:48:19.782107Z",
     "shell.execute_reply": "2021-12-16T18:48:19.781111Z",
     "shell.execute_reply.started": "2021-12-16T18:48:19.775115Z"
    }
   },
   "outputs": [],
   "source": [
    "st, newnotation = standardize(ch1, 'm1', notation)"
   ]
  },
  {
   "cell_type": "code",
   "execution_count": 88,
   "id": "acb42628",
   "metadata": {
    "execution": {
     "iopub.execute_input": "2021-12-16T18:48:24.135040Z",
     "iopub.status.busy": "2021-12-16T18:48:24.135040Z",
     "iopub.status.idle": "2021-12-16T18:48:24.148038Z",
     "shell.execute_reply": "2021-12-16T18:48:24.147037Z",
     "shell.execute_reply.started": "2021-12-16T18:48:24.135040Z"
    }
   },
   "outputs": [
    {
     "data": {
      "text/plain": [
       "{'m1': [('x_2', 'f_1'), ('x_2', 'f_5'), 'r_1', 'f_2']}"
      ]
     },
     "execution_count": 88,
     "metadata": {},
     "output_type": "execute_result"
    }
   ],
   "source": [
    "newnotation"
   ]
  },
  {
   "cell_type": "code",
   "execution_count": 58,
   "id": "a4c28322",
   "metadata": {
    "execution": {
     "iopub.execute_input": "2021-12-16T17:32:47.164193Z",
     "iopub.status.busy": "2021-12-16T17:32:47.164193Z",
     "iopub.status.idle": "2021-12-16T17:32:47.183188Z",
     "shell.execute_reply": "2021-12-16T17:32:47.182209Z",
     "shell.execute_reply.started": "2021-12-16T17:32:47.164193Z"
    }
   },
   "outputs": [],
   "source": [
    "def tear(G, mgroupname, solvefor, solvefortable):\n",
    "    edges = [(to,fr) if (to,fr) in solvefor else (fr,to) for fr,to in G.edges()]\n",
    "    solvefortable = solvefortable.copy()\n",
    "    solvefortable[mgroupname].extend(solvefor)\n",
    "    notation[mgroupname] = \n",
    "    return nx.DiGraph(edges), solvefortable"
   ]
  },
  {
   "cell_type": "code",
   "execution_count": 66,
   "id": "c91f8dea",
   "metadata": {
    "execution": {
     "iopub.execute_input": "2021-12-16T17:38:38.034731Z",
     "iopub.status.busy": "2021-12-16T17:38:38.034731Z",
     "iopub.status.idle": "2021-12-16T17:38:38.054727Z",
     "shell.execute_reply": "2021-12-16T17:38:38.053726Z",
     "shell.execute_reply.started": "2021-12-16T17:38:38.034731Z"
    }
   },
   "outputs": [],
   "source": [
    "def forcetolist(obj):\n",
    "    return [obj] if not isinstance(obj, list) else obj\n",
    "def flatten(lst):\n",
    "    [elt for interm in lst for elt in forcetolist(interm)]"
   ]
  },
  {
   "cell_type": "code",
   "execution_count": 69,
   "id": "12d82eea",
   "metadata": {
    "execution": {
     "iopub.execute_input": "2021-12-16T17:38:49.677325Z",
     "iopub.status.busy": "2021-12-16T17:38:49.676327Z",
     "iopub.status.idle": "2021-12-16T17:38:49.687325Z",
     "shell.execute_reply": "2021-12-16T17:38:49.686327Z",
     "shell.execute_reply.started": "2021-12-16T17:38:49.677325Z"
    }
   },
   "outputs": [],
   "source": [
    "def executable(order, solvefor, node_notation):\n",
    "    notation_out = [elt for node in order for elt in forcetolist(node_notation[node])]\n",
    "    if solvefor:\n",
    "        allsolvefor, residuals_only = zip(*solvefor)\n",
    "        notation_out += residuals_only\n",
    "        return (list(allsolvefor), notation_out)\n",
    "    else:\n",
    "        return notation_out"
   ]
  },
  {
   "cell_type": "code",
   "execution_count": 60,
   "id": "deee6e64",
   "metadata": {
    "execution": {
     "iopub.execute_input": "2021-12-16T17:32:47.926889Z",
     "iopub.status.busy": "2021-12-16T17:32:47.926889Z",
     "iopub.status.idle": "2021-12-16T17:32:47.936889Z",
     "shell.execute_reply": "2021-12-16T17:32:47.935885Z",
     "shell.execute_reply.started": "2021-12-16T17:32:47.926889Z"
    }
   },
   "outputs": [],
   "source": [
    "ch11, solvefor2 = tear(root, 'm1', [('x_3', 'f_2')], solvefortable)"
   ]
  },
  {
   "cell_type": "code",
   "execution_count": 76,
   "id": "4de4b604",
   "metadata": {
    "execution": {
     "iopub.execute_input": "2021-12-16T18:43:03.186319Z",
     "iopub.status.busy": "2021-12-16T18:43:03.185319Z",
     "iopub.status.idle": "2021-12-16T18:43:03.204319Z",
     "shell.execute_reply": "2021-12-16T18:43:03.203317Z",
     "shell.execute_reply.started": "2021-12-16T18:43:03.186319Z"
    }
   },
   "outputs": [
    {
     "data": {
      "text/plain": [
       "{'m1': [('x_1', 'r_1'), ('x_3', 'f_2')]}"
      ]
     },
     "execution_count": 76,
     "metadata": {},
     "output_type": "execute_result"
    }
   ],
   "source": [
    "solvefor2"
   ]
  },
  {
   "cell_type": "code",
   "execution_count": 64,
   "id": "470bd7cd",
   "metadata": {
    "execution": {
     "iopub.execute_input": "2021-12-16T17:37:52.147027Z",
     "iopub.status.busy": "2021-12-16T17:37:52.147027Z",
     "iopub.status.idle": "2021-12-16T17:37:52.159029Z",
     "shell.execute_reply": "2021-12-16T17:37:52.158028Z",
     "shell.execute_reply.started": "2021-12-16T17:37:52.147027Z"
    }
   },
   "outputs": [],
   "source": [
    "notation_out ={\n",
    "    'f_1': ('x_2','f_1'),\n",
    "    'f_3': ('x_2','f_5')\n",
    "}"
   ]
  },
  {
   "cell_type": "code",
   "execution_count": 72,
   "id": "91d46c53",
   "metadata": {
    "execution": {
     "iopub.execute_input": "2021-12-16T17:39:04.150286Z",
     "iopub.status.busy": "2021-12-16T17:39:04.149282Z",
     "iopub.status.idle": "2021-12-16T17:39:04.164279Z",
     "shell.execute_reply": "2021-12-16T17:39:04.163279Z",
     "shell.execute_reply.started": "2021-12-16T17:39:04.150286Z"
    }
   },
   "outputs": [
    {
     "data": {
      "text/plain": [
       "(['x_1', 'x_3'], [('x_2', 'f_1'), ('x_2', 'f_5'), 'r_1', 'f_2'])"
      ]
     },
     "execution_count": 72,
     "metadata": {},
     "output_type": "execute_result"
    }
   ],
   "source": [
    "executable(['f_1', 'f_3'], solvefor2['m1'], notation_out)"
   ]
  },
  {
   "cell_type": "code",
   "execution_count": 38,
   "id": "cc4be433",
   "metadata": {
    "execution": {
     "iopub.execute_input": "2021-12-16T17:20:07.869911Z",
     "iopub.status.busy": "2021-12-16T17:20:07.868916Z",
     "iopub.status.idle": "2021-12-16T17:20:09.216910Z",
     "shell.execute_reply": "2021-12-16T17:20:09.215909Z",
     "shell.execute_reply.started": "2021-12-16T17:20:07.869911Z"
    }
   },
   "outputs": [
    {
     "data": {
      "image/png": "[encoded data removed]",
      "text/plain": [
       "<Figure size 432x432 with 1 Axes>"
      ]
     },
     "metadata": {},
     "output_type": "display_data"
    }
   ],
   "source": [
    "drawfull(ch11)"
   ]
  },
  {
   "cell_type": "code",
   "execution_count": null,
   "id": "475a66c7",
   "metadata": {},
   "outputs": [],
   "source": []
  }
 ],
 "metadata": {
  "kernelspec": {
   "display_name": "mdo",
   "language": "python",
   "name": "mdo"
  },
  "language_info": {
   "codemirror_mode": {
    "name": "ipython",
    "version": 3
   },
   "file_extension": ".py",
   "mimetype": "text/x-python",
   "name": "python",
   "nbconvert_exporter": "python",
   "pygments_lexer": "ipython3",
   "version": "3.8.12"
  }
 },
 "nbformat": 4,
 "nbformat_minor": 5
}
