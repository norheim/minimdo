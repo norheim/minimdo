{
 "cells": [
  {
   "cell_type": "code",
   "execution_count": 1,
   "id": "efe87208",
   "metadata": {
    "execution": {
     "iopub.execute_input": "2022-02-28T01:05:21.319934Z",
     "iopub.status.busy": "2022-02-28T01:05:21.319934Z",
     "iopub.status.idle": "2022-02-28T01:05:22.002234Z",
     "shell.execute_reply": "2022-02-28T01:05:22.001234Z",
     "shell.execute_reply.started": "2022-02-28T01:05:21.319934Z"
    },
    "tags": []
   },
   "outputs": [],
   "source": [
    "import networkx as nx\n",
    "from anytree import Node, RenderTree, PreOrderIter, PostOrderIter, findall"
   ]
  },
  {
   "cell_type": "code",
   "execution_count": 2,
   "id": "6e373cc6-6f6b-4d5b-b436-76a5486a6b44",
   "metadata": {
    "execution": {
     "iopub.execute_input": "2022-02-28T01:05:22.629931Z",
     "iopub.status.busy": "2022-02-28T01:05:22.629931Z",
     "iopub.status.idle": "2022-02-28T01:05:28.608272Z",
     "shell.execute_reply": "2022-02-28T01:05:28.607437Z",
     "shell.execute_reply.started": "2022-02-28T01:05:22.629931Z"
    },
    "tags": []
   },
   "outputs": [],
   "source": [
    "import networkx as nx\n",
    "from utils.testproblems import generate_random_prob\n",
    "from graph.graphview import digraph_repr, draw\n",
    "from copy import deepcopy"
   ]
  },
  {
   "cell_type": "code",
   "execution_count": 3,
   "id": "4d984565",
   "metadata": {
    "execution": {
     "iopub.execute_input": "2022-02-28T01:05:32.240082Z",
     "iopub.status.busy": "2022-02-28T01:05:32.239085Z",
     "iopub.status.idle": "2022-02-28T01:05:32.257095Z",
     "shell.execute_reply": "2022-02-28T01:05:32.256081Z",
     "shell.execute_reply.started": "2022-02-28T01:05:32.240082Z"
    },
    "tags": []
   },
   "outputs": [],
   "source": [
    "# only leafs are explicit\n",
    "root = Node('root')\n",
    "f0 = Node('f0', parent=root)\n",
    "s1 = Node('solver1', parent=root)\n",
    "f3 = Node('f3', parent=root)\n",
    "f1 = Node('f1', parent=s1)\n",
    "f2 = Node('f2', parent=s1)\n",
    "r1 = Node('r1', end=True, parent=s1)"
   ]
  },
  {
   "cell_type": "markdown",
   "id": "201ca172",
   "metadata": {},
   "source": [
    "Storyline for conceptual design model starting bottoms up\n",
    "- top-down: we can create an implicit tree node from scratch where we must specify for which variables we are solving each end component (function) \n",
    "- OR bottoms-up: we can create it from merging existing nodes in an already existing structure (manipulating an existing tree)\n",
    "    - this now becomes a node we can operate on: it can be standardized"
   ]
  },
  {
   "cell_type": "code",
   "execution_count": 4,
   "id": "6d4143df",
   "metadata": {
    "execution": {
     "iopub.execute_input": "2022-02-28T01:05:37.215450Z",
     "iopub.status.busy": "2022-02-28T01:05:37.214448Z",
     "iopub.status.idle": "2022-02-28T01:05:37.240456Z",
     "shell.execute_reply": "2022-02-28T01:05:37.239446Z",
     "shell.execute_reply.started": "2022-02-28T01:05:37.215450Z"
    },
    "tags": []
   },
   "outputs": [],
   "source": [
    "incstr = {\n",
    "    'f0': ('x','y'),   \n",
    "    'f1': ('a','c','y'),    # analysis f1(c, y)\n",
    "    'f2': ('a','b'),    # analysis f2(a)\n",
    "    'r1': ('b','d'),     # function \n",
    "    'f3': ('e','c', 'b')\n",
    "         }\n",
    "\n",
    "solvefor = {\n",
    "    'f0': 'y',   # should not be c, given that solvefor for r1 is c\n",
    "    'f1': 'a',\n",
    "    'f2': 'b',\n",
    "    'f3': 'e',    # should not be c, given that solvefor for r1 is c\n",
    "    'r1': 'c' #(? when not assigned) # for 'diagonalized' DSM should be 'd'\n",
    "    # note also that 'c' has to be an input upstream of 'r1', but if r1 is under a solver, then 'c' can not be an output of any node outside\n",
    "}"
   ]
  },
  {
   "cell_type": "code",
   "execution_count": 5,
   "id": "ecb2e4ce",
   "metadata": {
    "execution": {
     "iopub.execute_input": "2022-01-15T17:54:42.305972Z",
     "iopub.status.busy": "2022-01-15T17:54:42.304971Z",
     "iopub.status.idle": "2022-01-15T17:54:42.314973Z",
     "shell.execute_reply": "2022-01-15T17:54:42.313974Z",
     "shell.execute_reply.started": "2022-01-15T17:54:42.305972Z"
    },
    "tags": []
   },
   "outputs": [],
   "source": [
    "def solvef(fname):\n",
    "    if fname in solvefor:\n",
    "        sfor = solvefor[fname] \n",
    "        return (sfor, [elt for elt in incstr[fname] if elt != sfor])\n",
    "    return \"\""
   ]
  },
  {
   "cell_type": "markdown",
   "id": "6096c1aa-433e-4aa6-b09d-319d34053278",
   "metadata": {},
   "source": [
    "# Generate notation"
   ]
  },
  {
   "cell_type": "code",
   "execution_count": 6,
   "id": "438ac014",
   "metadata": {
    "execution": {
     "iopub.execute_input": "2022-01-17T00:08:16.268099Z",
     "iopub.status.busy": "2022-01-17T00:08:16.267129Z",
     "iopub.status.idle": "2022-01-17T00:08:16.284100Z",
     "shell.execute_reply": "2022-01-17T00:08:16.283100Z",
     "shell.execute_reply.started": "2022-01-17T00:08:16.268099Z"
    },
    "tags": []
   },
   "outputs": [
    {
     "name": "stdout",
     "output_type": "stream",
     "text": [
      "root             \n",
      "├── f0           ('y', ['x'])\n",
      "├── solver1      \n",
      "│   ├── f1       ('a', ['c', 'y'])\n",
      "│   ├── f2       ('b', ['a'])\n",
      "│   └── r1       ('c', ['b', 'd'])\n",
      "└── f3           ('e', ['c', 'b'])\n"
     ]
    }
   ],
   "source": [
    "for pre, _, node in RenderTree(root):\n",
    "    treestr = u\"%s%s\" % (pre, node.name)\n",
    "    print(treestr.ljust(16), solvef(node.name))"
   ]
  },
  {
   "cell_type": "code",
   "execution_count": 7,
   "id": "32d9f8a9-47bf-4af5-bd4e-1b96198d9e2a",
   "metadata": {
    "execution": {
     "iopub.execute_input": "2022-01-17T00:40:49.771712Z",
     "iopub.status.busy": "2022-01-17T00:40:49.771712Z",
     "iopub.status.idle": "2022-01-17T00:40:49.782716Z",
     "shell.execute_reply": "2022-01-17T00:40:49.781710Z",
     "shell.execute_reply.started": "2022-01-17T00:40:49.771712Z"
    },
    "tags": []
   },
   "outputs": [],
   "source": [
    "# in datastructures.py\n",
    "def notation(x):\n",
    "    nt = []\n",
    "    endcomps = []\n",
    "    solvefr = []\n",
    "    for elt in x.children:\n",
    "        if elt.is_leaf:\n",
    "            if hasattr(elt, 'end'):\n",
    "                endcomps.append(elt.name)\n",
    "                solvefr.append(solvefor[elt.name])\n",
    "            else:\n",
    "                nt.append((solvefor[elt.name], elt.name))\n",
    "        else:\n",
    "            nt.append(notation(elt))\n",
    "    nt.extend(endcomps)\n",
    "    if solvefr:\n",
    "        return (solvefr, nt)\n",
    "    else:\n",
    "        return nt"
   ]
  },
  {
   "cell_type": "code",
   "execution_count": 8,
   "id": "f2fb789b-6a13-48f2-83c2-1b6abce14f74",
   "metadata": {
    "execution": {
     "iopub.execute_input": "2022-01-17T00:40:50.132711Z",
     "iopub.status.busy": "2022-01-17T00:40:50.132711Z",
     "iopub.status.idle": "2022-01-17T00:40:50.142716Z",
     "shell.execute_reply": "2022-01-17T00:40:50.141714Z",
     "shell.execute_reply.started": "2022-01-17T00:40:50.132711Z"
    },
    "tags": []
   },
   "outputs": [
    {
     "data": {
      "text/plain": [
       "[('y', 'f0'), (['c'], [('a', 'f1'), ('b', 'f2'), 'r1']), ('e', 'f3')]"
      ]
     },
     "execution_count": 8,
     "metadata": {},
     "output_type": "execute_result"
    }
   ],
   "source": [
    "notation(root)"
   ]
  },
  {
   "cell_type": "markdown",
   "id": "3e95ba2a-2407-401c-8e6b-1b150118157d",
   "metadata": {
    "tags": []
   },
   "source": [
    "# Standardize:"
   ]
  },
  {
   "cell_type": "code",
   "execution_count": 9,
   "id": "10464f12",
   "metadata": {
    "execution": {
     "iopub.execute_input": "2022-01-17T00:40:54.760204Z",
     "iopub.status.busy": "2022-01-17T00:40:54.759167Z",
     "iopub.status.idle": "2022-01-17T00:40:54.780168Z",
     "shell.execute_reply": "2022-01-17T00:40:54.779168Z",
     "shell.execute_reply.started": "2022-01-17T00:40:54.760204Z"
    },
    "tags": []
   },
   "outputs": [],
   "source": [
    "root.children = [elt for child in root.children for elt in ([child] if child != s1 else child.children)]"
   ]
  },
  {
   "cell_type": "code",
   "execution_count": 10,
   "id": "2290ced3-3679-4005-8115-b99a34ec57a0",
   "metadata": {
    "execution": {
     "iopub.execute_input": "2022-01-17T00:40:55.216661Z",
     "iopub.status.busy": "2022-01-17T00:40:55.216661Z",
     "iopub.status.idle": "2022-01-17T00:40:55.237629Z",
     "shell.execute_reply": "2022-01-17T00:40:55.236628Z",
     "shell.execute_reply.started": "2022-01-17T00:40:55.216661Z"
    },
    "tags": []
   },
   "outputs": [
    {
     "name": "stdout",
     "output_type": "stream",
     "text": [
      "root             \n",
      "├── f0           ('y', ['x'])\n",
      "├── f1           ('a', ['c', 'y'])\n",
      "├── f2           ('b', ['a'])\n",
      "├── r1           ('c', ['b', 'd'])\n",
      "└── f3           ('e', ['c', 'b'])\n"
     ]
    }
   ],
   "source": [
    "for pre, _, node in RenderTree(root):\n",
    "    treestr = u\"%s%s\" % (pre, node.name)\n",
    "    print(treestr.ljust(16), solvef(node.name))"
   ]
  },
  {
   "cell_type": "code",
   "execution_count": 11,
   "id": "afeaaa79-0e1f-4b7d-b3d4-42bba6bc6b58",
   "metadata": {
    "execution": {
     "iopub.execute_input": "2022-01-17T00:40:55.953898Z",
     "iopub.status.busy": "2022-01-17T00:40:55.952860Z",
     "iopub.status.idle": "2022-01-17T00:40:55.978859Z",
     "shell.execute_reply": "2022-01-17T00:40:55.976888Z",
     "shell.execute_reply.started": "2022-01-17T00:40:55.953898Z"
    },
    "tags": []
   },
   "outputs": [
    {
     "data": {
      "text/plain": [
       "(['c'], [('y', 'f0'), ('a', 'f1'), ('b', 'f2'), ('e', 'f3'), 'r1'])"
      ]
     },
     "execution_count": 11,
     "metadata": {},
     "output_type": "execute_result"
    }
   ],
   "source": [
    "notation(root)"
   ]
  },
  {
   "cell_type": "markdown",
   "id": "3ea53b13-f3d1-4f6b-b043-773aa23cc984",
   "metadata": {},
   "source": [
    "# Merge"
   ]
  },
  {
   "cell_type": "code",
   "execution_count": 12,
   "id": "3ffd4214-df4e-4785-8ef2-7a116861091e",
   "metadata": {
    "execution": {
     "iopub.execute_input": "2022-01-17T01:07:32.183166Z",
     "iopub.status.busy": "2022-01-17T01:07:32.183166Z",
     "iopub.status.idle": "2022-01-17T01:07:32.201448Z",
     "shell.execute_reply": "2022-01-17T01:07:32.200189Z",
     "shell.execute_reply.started": "2022-01-17T01:07:32.183166Z"
    },
    "tags": []
   },
   "outputs": [],
   "source": [
    "# only leafs are explicit\n",
    "treeroot = Node('root')\n",
    "f0 = Node('f_0', parent=treeroot)\n",
    "f1 = Node('f_1', parent=treeroot)\n",
    "f2 = Node('f_2', parent=treeroot)\n",
    "f3 = Node('f_3', parent=treeroot)\n",
    "f4 = Node('f_4', parent=treeroot)\n",
    "r1 = Node('r_1', end=True, parent=treeroot)"
   ]
  },
  {
   "cell_type": "code",
   "execution_count": 13,
   "id": "91114844-a7a3-4ae3-89b9-3998a91b1492",
   "metadata": {
    "execution": {
     "iopub.execute_input": "2022-01-17T01:07:32.395585Z",
     "iopub.status.busy": "2022-01-17T01:07:32.394605Z",
     "iopub.status.idle": "2022-01-17T01:07:32.405575Z",
     "shell.execute_reply": "2022-01-17T01:07:32.404578Z",
     "shell.execute_reply.started": "2022-01-17T01:07:32.395585Z"
    },
    "tags": []
   },
   "outputs": [],
   "source": [
    "root = nx.DiGraph([('x_0', 'f_1'), ('f_1', 'x_2'), ('x_1', 'f_1'), ('x_2', 'f_2'), ('x_3', 'f_2'), ('x_3', 'f_1'), ('x_5', 'f_3'), \n",
    "                   ('x_1', 'f_3'), ('f_3', 'x_3'), ('x_3', 'r_1'), ('x_4', 'r_1'), ('x_1', 'f_4'), ('f_4', 'x_6')])"
   ]
  },
  {
   "cell_type": "code",
   "execution_count": 14,
   "id": "a4296de5-5c5f-4844-a56d-abf41227405e",
   "metadata": {
    "execution": {
     "iopub.execute_input": "2022-01-17T01:07:48.396525Z",
     "iopub.status.busy": "2022-01-17T01:07:48.396525Z",
     "iopub.status.idle": "2022-01-17T01:07:48.408527Z",
     "shell.execute_reply": "2022-01-17T01:07:48.407527Z",
     "shell.execute_reply.started": "2022-01-17T01:07:48.396525Z"
    },
    "tags": []
   },
   "outputs": [],
   "source": [
    "def circular_vars(graph):\n",
    "    return {elt:'o' if elt in ['x_0','x_1','x_2','x_3','x_4','x_5', 'x_6'] else 's' for elt in graph.nodes()}"
   ]
  },
  {
   "cell_type": "code",
   "execution_count": 15,
   "id": "cc1f2405-7a97-469f-b657-6b65dee86ea1",
   "metadata": {
    "execution": {
     "iopub.execute_input": "2022-01-17T01:07:33.617084Z",
     "iopub.status.busy": "2022-01-17T01:07:33.617084Z",
     "iopub.status.idle": "2022-01-17T01:07:33.627048Z",
     "shell.execute_reply": "2022-01-17T01:07:33.626047Z",
     "shell.execute_reply.started": "2022-01-17T01:07:33.617084Z"
    },
    "tags": []
   },
   "outputs": [],
   "source": [
    "def drawfull(graph, prog='neato'):\n",
    "    draw(graph, node_shape=circular_vars(graph), arc=0.1, prog=prog);"
   ]
  },
  {
   "cell_type": "code",
   "execution_count": 16,
   "id": "57833dfb-1bf1-460d-8eb0-af8158d4cdfb",
   "metadata": {
    "execution": {
     "iopub.execute_input": "2022-01-17T01:07:52.441490Z",
     "iopub.status.busy": "2022-01-17T01:07:52.441490Z",
     "iopub.status.idle": "2022-01-17T01:07:52.470485Z",
     "shell.execute_reply": "2022-01-17T01:07:52.469483Z",
     "shell.execute_reply.started": "2022-01-17T01:07:52.441490Z"
    },
    "tags": []
   },
   "outputs": [],
   "source": [
    "def merge(G, treeroot, mergelts, mgroupname, mergewithold=True, solvefor=None, solvefortable=None):\n",
    "    #Graph\n",
    "    solvefor = [] if solvefor == None else solvefor\n",
    "    solvefortable = dict() if solvefortable == None else solvefortable\n",
    "    allsolvevars = set()\n",
    "    for solvevar, res in solvefor:\n",
    "        mergelts.append(res)\n",
    "        allsolvevars.add(solvevar)\n",
    "    edges = G.edges()\n",
    "    mergededges = [(fr,to) for fr,to in edges if fr in mergelts or to in mergelts]\n",
    "    outs = {to for fr,to in edges if fr in mergelts and not all([elt in mergelts for elt in G.successors(to)])}\n",
    "    outs = outs.union(allsolvevars) # for every terminal node can have one solvefor\n",
    "    ins = {fr for fr,to in edges if (\n",
    "        to in mergelts \n",
    "        and not any([elt in mergelts for elt in G.predecessors(fr)]) \n",
    "        and fr not in allsolvevars)}\n",
    "    newedges = [(fr, mgroupname) for fr in ins]+[(mgroupname, to) for to in outs]\n",
    "    if mergewithold:\n",
    "        oldedges = [(fr, to) for fr,to in edges if fr not in mergelts and to not in mergelts]\n",
    "        newedges += oldedges\n",
    "    # Tree\n",
    "    treeroot = deepcopy(treeroot)\n",
    "    solvefortable = solvefortable.copy()\n",
    "    solvefortable[mgroupname] = solvefor\n",
    "    newsolver = Node(mgroupname, parent=treeroot)\n",
    "    for elt in findall(treeroot, filter_=lambda node: node.name in mergelts):\n",
    "        elt.parent = newsolver\n",
    "    return nx.DiGraph(newedges), nx.DiGraph(mergededges), treeroot, solvefortable"
   ]
  },
  {
   "cell_type": "code",
   "execution_count": 17,
   "id": "402b9b18-347e-4c1b-84ab-76150ba10194",
   "metadata": {
    "execution": {
     "iopub.execute_input": "2022-01-17T01:07:52.590507Z",
     "iopub.status.busy": "2022-01-17T01:07:52.590507Z",
     "iopub.status.idle": "2022-01-17T01:07:52.612308Z",
     "shell.execute_reply": "2022-01-17T01:07:52.611305Z",
     "shell.execute_reply.started": "2022-01-17T01:07:52.590507Z"
    },
    "tags": []
   },
   "outputs": [],
   "source": [
    "ch1, ch2, treerootn, solvefortable = merge(root, treeroot, ['f_1','f_2'], 'm1', solvefor=[('x_1', 'r_1')])"
   ]
  },
  {
   "cell_type": "code",
   "execution_count": 18,
   "id": "9c4455b5-8482-4228-9916-389c851109b3",
   "metadata": {
    "execution": {
     "iopub.execute_input": "2022-01-17T01:07:52.817338Z",
     "iopub.status.busy": "2022-01-17T01:07:52.817338Z",
     "iopub.status.idle": "2022-01-17T01:07:52.828331Z",
     "shell.execute_reply": "2022-01-17T01:07:52.827330Z",
     "shell.execute_reply.started": "2022-01-17T01:07:52.817338Z"
    },
    "tags": []
   },
   "outputs": [
    {
     "name": "stdout",
     "output_type": "stream",
     "text": [
      "root            \n",
      "├── f_0         \n",
      "├── f_3         \n",
      "├── f_4         \n",
      "└── m1          \n",
      "    ├── f_1     \n",
      "    ├── f_2     \n",
      "    └── r_1     \n"
     ]
    }
   ],
   "source": [
    "for pre, _, node in RenderTree(treerootn):\n",
    "    treestr = u\"%s%s\" % (pre, node.name)\n",
    "    print(treestr.ljust(16))"
   ]
  },
  {
   "cell_type": "code",
   "execution_count": 19,
   "id": "ebde5216-5588-4dc1-ad21-ae2aaca32047",
   "metadata": {
    "execution": {
     "iopub.execute_input": "2022-01-17T01:07:53.301062Z",
     "iopub.status.busy": "2022-01-17T01:07:53.300062Z",
     "iopub.status.idle": "2022-01-17T01:07:54.126679Z",
     "shell.execute_reply": "2022-01-17T01:07:54.124676Z",
     "shell.execute_reply.started": "2022-01-17T01:07:53.301062Z"
    },
    "tags": []
   },
   "outputs": [
    {
     "data": {
      "image/png": "[encoded data removed]",
      "text/plain": [
       "<Figure size 600x600 with 1 Axes>"
      ]
     },
     "metadata": {},
     "output_type": "display_data"
    }
   ],
   "source": [
    "drawfull(ch1)"
   ]
  },
  {
   "cell_type": "code",
   "execution_count": 20,
   "id": "26899092-598c-48b9-b4e2-5580f20f7f5f",
   "metadata": {
    "execution": {
     "iopub.execute_input": "2022-01-17T01:07:57.827110Z",
     "iopub.status.busy": "2022-01-17T01:07:57.826106Z",
     "iopub.status.idle": "2022-01-17T01:07:57.848048Z",
     "shell.execute_reply": "2022-01-17T01:07:57.847049Z",
     "shell.execute_reply.started": "2022-01-17T01:07:57.827110Z"
    },
    "tags": []
   },
   "outputs": [],
   "source": [
    "eqsn = [node.name for node in PreOrderIter(treerootn)]\n",
    "C = nx.condensation(ch1)\n",
    "order = []\n",
    "for n in nx.topological_sort(C):\n",
    "    filtereqs = {elt for elt in C.nodes[n]['members'] if elt in eqsn}\n",
    "    if filtereqs:\n",
    "        order.append(filtereqs)"
   ]
  },
  {
   "cell_type": "code",
   "execution_count": 21,
   "id": "106d31ab-4a21-4c37-a078-ca5c1f8fd332",
   "metadata": {
    "execution": {
     "iopub.execute_input": "2022-01-17T01:07:58.000755Z",
     "iopub.status.busy": "2022-01-17T01:07:57.999750Z",
     "iopub.status.idle": "2022-01-17T01:07:58.021802Z",
     "shell.execute_reply": "2022-01-17T01:07:58.020750Z",
     "shell.execute_reply.started": "2022-01-17T01:07:58.000755Z"
    },
    "tags": []
   },
   "outputs": [
    {
     "data": {
      "text/plain": [
       "[{'f_3', 'm1'}, {'f_4'}]"
      ]
     },
     "execution_count": 21,
     "metadata": {},
     "output_type": "execute_result"
    }
   ],
   "source": [
    "order"
   ]
  }
 ],
 "metadata": {
  "kernelspec": {
   "display_name": "Python 3 (ipykernel)",
   "language": "python",
   "name": "python3"
  },
  "language_info": {
   "codemirror_mode": {
    "name": "ipython",
    "version": 3
   },
   "file_extension": ".py",
   "mimetype": "text/x-python",
   "name": "python",
   "nbconvert_exporter": "python",
   "pygments_lexer": "ipython3",
   "version": "3.9.18"
  }
 },
 "nbformat": 4,
 "nbformat_minor": 5
}
