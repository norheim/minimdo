{
 "cells": [
  {
   "cell_type": "code",
   "execution_count": 1,
   "id": "4b96be8b",
   "metadata": {
    "execution": {
     "iopub.execute_input": "2021-11-19T10:32:01.382696Z",
     "iopub.status.busy": "2021-11-19T10:32:01.381692Z",
     "iopub.status.idle": "2021-11-19T10:32:02.866691Z",
     "shell.execute_reply": "2021-11-19T10:32:02.865702Z",
     "shell.execute_reply.started": "2021-11-19T10:32:01.382696Z"
    }
   },
   "outputs": [],
   "source": [
    "import sympy as sp\n",
    "from notation import generate_execution, mapping"
   ]
  },
  {
   "cell_type": "code",
   "execution_count": 2,
   "id": "fbc86f05",
   "metadata": {
    "execution": {
     "iopub.execute_input": "2021-11-19T10:32:03.891695Z",
     "iopub.status.busy": "2021-11-19T10:32:03.891695Z",
     "iopub.status.idle": "2021-11-19T10:32:03.902692Z",
     "shell.execute_reply": "2021-11-19T10:32:03.901692Z",
     "shell.execute_reply.started": "2021-11-19T10:32:03.891695Z"
    }
   },
   "outputs": [],
   "source": [
    "x, a,b,c,d,e = sp.symbols('x a b c d e')"
   ]
  },
  {
   "cell_type": "code",
   "execution_count": 7,
   "id": "89765404",
   "metadata": {
    "execution": {
     "iopub.execute_input": "2021-11-19T10:33:05.149460Z",
     "iopub.status.busy": "2021-11-19T10:33:05.149460Z",
     "iopub.status.idle": "2021-11-19T10:33:05.164464Z",
     "shell.execute_reply": "2021-11-19T10:33:05.163486Z",
     "shell.execute_reply.started": "2021-11-19T10:33:05.149460Z"
    }
   },
   "outputs": [],
   "source": [
    "ex1 = [([a, x], [(b, 1), ([c, d], [2, 3]), 4, 5])] # simple example\n",
    "ex2 = [(d, [([a, x], [0,1]), ([b, e], [2,3]), (c, 4), 5])] # two levels, with multiple siblings with solvers at lower level\n",
    "ex3 = [(d, [(a, [([b, e], [2,3]), 1]), (c, 4), 5])] # 3 levels of nesting\n",
    "ex4 = [([a], [(x, 0), (b, 1), ([c, d], [2, 3]), 4])]"
   ]
  },
  {
   "cell_type": "code",
   "execution_count": 8,
   "id": "621865a0",
   "metadata": {
    "execution": {
     "iopub.execute_input": "2021-11-19T10:33:07.488371Z",
     "iopub.status.busy": "2021-11-19T10:33:07.487370Z",
     "iopub.status.idle": "2021-11-19T10:33:07.499380Z",
     "shell.execute_reply": "2021-11-19T10:33:07.498366Z",
     "shell.execute_reply.started": "2021-11-19T10:33:07.488371Z"
    }
   },
   "outputs": [],
   "source": [
    "order = generate_execution(ex1)"
   ]
  },
  {
   "cell_type": "code",
   "execution_count": 9,
   "id": "82eae874",
   "metadata": {
    "execution": {
     "iopub.execute_input": "2021-11-19T10:33:08.045238Z",
     "iopub.status.busy": "2021-11-19T10:33:08.045238Z",
     "iopub.status.idle": "2021-11-19T10:33:08.068230Z",
     "shell.execute_reply": "2021-11-19T10:33:08.067232Z",
     "shell.execute_reply.started": "2021-11-19T10:33:08.045238Z"
    }
   },
   "outputs": [
    {
     "data": {
      "text/plain": [
       "[('solver', 0, 1, [a, x], [4, 5]),\n",
       " ('exp', 1, b, 1),\n",
       " ('solver', 1, 2, [c, d], [2, 3])]"
      ]
     },
     "execution_count": 9,
     "metadata": {},
     "output_type": "execute_result"
    }
   ],
   "source": [
    "order"
   ]
  },
  {
   "cell_type": "code",
   "execution_count": 10,
   "id": "eb3a6495",
   "metadata": {
    "execution": {
     "iopub.execute_input": "2021-11-19T10:33:09.406373Z",
     "iopub.status.busy": "2021-11-19T10:33:09.405374Z",
     "iopub.status.idle": "2021-11-19T10:33:09.428380Z",
     "shell.execute_reply": "2021-11-19T10:33:09.427365Z",
     "shell.execute_reply.started": "2021-11-19T10:33:09.406373Z"
    }
   },
   "outputs": [
    {
     "name": "stdout",
     "output_type": "stream",
     "text": [
      "solver, 0 child 1 solver for [a, x], res=[4, 5]\n",
      "add exp b <- 1 to group 1\n",
      "solver, 1 child 2 solver for [c, d], res=[2, 3]\n"
     ]
    }
   ],
   "source": [
    "for fx, *args in order:\n",
    "    mapping[fx](*args)"
   ]
  },
  {
   "cell_type": "code",
   "execution_count": null,
   "id": "00dd949e",
   "metadata": {},
   "outputs": [],
   "source": []
  }
 ],
 "metadata": {
  "kernelspec": {
   "display_name": "Python [conda env:mdo]",
   "language": "python",
   "name": "conda-env-mdo-py"
  },
  "language_info": {
   "codemirror_mode": {
    "name": "ipython",
    "version": 3
   },
   "file_extension": ".py",
   "mimetype": "text/x-python",
   "name": "python",
   "nbconvert_exporter": "python",
   "pygments_lexer": "ipython3",
   "version": "3.9.7"
  }
 },
 "nbformat": 4,
 "nbformat_minor": 5
}
