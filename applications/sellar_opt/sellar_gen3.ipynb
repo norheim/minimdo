{
 "cells": [
  {
   "cell_type": "code",
   "execution_count": 1,
   "id": "e336401a-88b1-4773-9224-8b53e59c4b13",
   "metadata": {
    "execution": {
     "iopub.execute_input": "2022-05-04T13:50:47.797795Z",
     "iopub.status.busy": "2022-05-04T13:50:47.797795Z",
     "iopub.status.idle": "2022-05-04T13:50:47.815843Z",
     "shell.execute_reply": "2022-05-04T13:50:47.815843Z",
     "shell.execute_reply.started": "2022-05-04T13:50:47.797795Z"
    },
    "tags": []
   },
   "outputs": [],
   "source": [
    "from graph.graphutils import flat_graph_formulation, VAR, COMP, SOLVER\n",
    "from graph.graphutils import all_variables, edges_to_Ein_Eout, namefromid\n",
    "from src.v1.symbolic import Var\n",
    "from src.v2.execution import edges_from_components\n",
    "from src.v2.transformations import generate_components_and_residuals\n",
    "from graph.operators import sort_scc, reorder_merge_solve\n",
    "from graph.workflow import get_f, OPT, NEQ, OBJ, order_from_tree, default_solver_options, mdao_workflow\n",
    "from src.v2.workflow_mdao import mdao_workflow_with_args\n",
    "from src.v2.mdaobuild import build_archi\n",
    "from src.v2.runpipeline import nestedform_to_mdao\n",
    "from src.v3.nesting import Model, adda, addf, setsolvefor\n",
    "import openmdao.api as om\n",
    "from sympy import exp"
   ]
  },
  {
   "cell_type": "code",
   "execution_count": 2,
   "id": "9a1938cd-7ad2-4748-ad60-5c9ab95573c9",
   "metadata": {
    "execution": {
     "iopub.execute_input": "2022-05-02T17:37:09.353150Z",
     "iopub.status.busy": "2022-05-02T17:37:09.353150Z",
     "iopub.status.idle": "2022-05-02T17:37:09.367650Z",
     "shell.execute_reply": "2022-05-02T17:37:09.367150Z",
     "shell.execute_reply.started": "2022-05-02T17:37:09.353150Z"
    },
    "tags": []
   },
   "outputs": [],
   "source": [
    "z1,z2,x,y2 = Var('z1'), Var('z2'), Var('x'), Var('y2')"
   ]
  },
  {
   "cell_type": "code",
   "execution_count": 3,
   "id": "2cf5f6bd-ebbb-46de-98c2-43070bda5371",
   "metadata": {
    "execution": {
     "iopub.execute_input": "2022-05-02T17:43:57.876187Z",
     "iopub.status.busy": "2022-05-02T17:43:57.876187Z",
     "iopub.status.idle": "2022-05-02T17:43:57.895915Z",
     "shell.execute_reply": "2022-05-02T17:43:57.895915Z",
     "shell.execute_reply.started": "2022-05-02T17:43:57.876187Z"
    },
    "tags": []
   },
   "outputs": [],
   "source": [
    "model = Model(solver=OPT)\n",
    "m = model.root\n",
    "a = adda(m, 'a', z2+x-0.2*y2)\n",
    "y1 = adda(m, 'y1', z1**2+a)\n",
    "adda(m, y2, y1**0.5+z1+z2)\n",
    "addf(m, x**2+z2+y1+exp(-y2)) #addobj\n",
    "addf(m, 3.16-y1) #addineq\n",
    "addf(m, y2-24) #addineq\n",
    "setsolvefor(m, [x,z1,z2])"
   ]
  },
  {
   "cell_type": "code",
   "execution_count": 4,
   "id": "781d6bce-28c9-482b-94c6-b8299a0765b7",
   "metadata": {
    "execution": {
     "iopub.execute_input": "2022-05-02T17:43:58.376020Z",
     "iopub.status.busy": "2022-05-02T17:43:58.376020Z",
     "iopub.status.idle": "2022-05-02T17:43:58.386019Z",
     "shell.execute_reply": "2022-05-02T17:43:58.385018Z",
     "shell.execute_reply.started": "2022-05-02T17:43:58.376020Z"
    },
    "tags": []
   },
   "outputs": [],
   "source": [
    "edges = edges_from_components(model.components)\n",
    "tree = model.Ftree, model.Stree, model.Vtree"
   ]
  },
  {
   "cell_type": "code",
   "execution_count": 5,
   "id": "4fddaf2e-b411-46d4-838a-21270e2a8ba0",
   "metadata": {
    "execution": {
     "iopub.execute_input": "2022-05-02T17:43:58.550800Z",
     "iopub.status.busy": "2022-05-02T17:43:58.550800Z",
     "iopub.status.idle": "2022-05-02T17:43:58.556789Z",
     "shell.execute_reply": "2022-05-02T17:43:58.555796Z",
     "shell.execute_reply.started": "2022-05-02T17:43:58.550800Z"
    },
    "tags": []
   },
   "outputs": [],
   "source": [
    "nodetyperepr = {VAR: '{}', COMP: 'f_{}', SOLVER: 's_{}'}"
   ]
  },
  {
   "cell_type": "markdown",
   "id": "ce65328a",
   "metadata": {},
   "source": [
    "### OpenMDAO prob structure 1)"
   ]
  },
  {
   "cell_type": "code",
   "execution_count": 6,
   "id": "2ef307b1-a099-4fae-a7b9-9103ca8681ca",
   "metadata": {
    "execution": {
     "iopub.execute_input": "2022-05-02T17:43:58.852632Z",
     "iopub.status.busy": "2022-05-02T17:43:58.851641Z",
     "iopub.status.idle": "2022-05-02T17:43:58.868003Z",
     "shell.execute_reply": "2022-05-02T17:43:58.866997Z",
     "shell.execute_reply.started": "2022-05-02T17:43:58.852632Z"
    },
    "tags": []
   },
   "outputs": [],
   "source": [
    "solvers_options = {1: {'type': OPT}}\n",
    "comp_options = {3:OBJ, 4:NEQ, 5:NEQ}\n",
    "var_options = {'x': [0,10], 'z1': [0,10], 'z2': [0,10]}"
   ]
  },
  {
   "cell_type": "code",
   "execution_count": 7,
   "id": "a7afc56a-06fb-410a-9236-6a8d21c8c50f",
   "metadata": {
    "execution": {
     "iopub.execute_input": "2022-05-02T17:43:59.236170Z",
     "iopub.status.busy": "2022-05-02T17:43:59.235674Z",
     "iopub.status.idle": "2022-05-02T17:43:59.256717Z",
     "shell.execute_reply": "2022-05-02T17:43:59.256217Z",
     "shell.execute_reply.started": "2022-05-02T17:43:59.236170Z"
    },
    "tags": []
   },
   "outputs": [],
   "source": [
    "prob, mdao_in, groups, _,_ = nestedform_to_mdao(edges, tree, model.components, solvers_options, comp_options, var_options, nodetyperepr, mdf=True)"
   ]
  },
  {
   "cell_type": "markdown",
   "id": "b8532c46",
   "metadata": {},
   "source": [
    "### OpenMDAO prob structure 2)"
   ]
  },
  {
   "cell_type": "code",
   "execution_count": 8,
   "id": "7c9e4f85-a1ed-43b0-9989-19e1948f925e",
   "metadata": {
    "execution": {
     "iopub.execute_input": "2022-05-02T17:38:34.104256Z",
     "iopub.status.busy": "2022-05-02T17:38:34.103255Z",
     "iopub.status.idle": "2022-05-02T17:38:34.121256Z",
     "shell.execute_reply": "2022-05-02T17:38:34.120344Z",
     "shell.execute_reply.started": "2022-05-02T17:38:34.104256Z"
    },
    "tags": []
   },
   "outputs": [],
   "source": [
    "G = flat_graph_formulation(*edges)\n",
    "merge_order = sort_scc(G)"
   ]
  },
  {
   "cell_type": "code",
   "execution_count": 9,
   "id": "ab96a685",
   "metadata": {},
   "outputs": [
    {
     "data": {
      "text/plain": [
       "[(SOLVER, 1, None),\n",
       " (SOLVER, 2, 1),\n",
       " (ENDCOMP, [2, 0, 1], 2),\n",
       " (ENDCOMP, [3, 5, 4], 1)]"
      ]
     },
     "execution_count": 9,
     "metadata": {},
     "output_type": "execute_result"
    }
   ],
   "source": [
    "nedges, ntree = reorder_merge_solve(edges, tree, merge_order, 1, True)\n",
    "sequence = order_from_tree(ntree[0], ntree[1], nedges[1])\n",
    "sequence"
   ]
  },
  {
   "cell_type": "code",
   "execution_count": 10,
   "id": "9be05c12-27e5-422c-9a69-fea46f1db6fd",
   "metadata": {
    "execution": {
     "iopub.execute_input": "2022-05-02T17:38:34.764347Z",
     "iopub.status.busy": "2022-05-02T17:38:34.763349Z",
     "iopub.status.idle": "2022-05-02T17:38:34.778342Z",
     "shell.execute_reply": "2022-05-02T17:38:34.777342Z",
     "shell.execute_reply.started": "2022-05-02T17:38:34.764347Z"
    },
    "tags": []
   },
   "outputs": [],
   "source": [
    "solvers_options = default_solver_options(ntree, solvers_options)"
   ]
  },
  {
   "cell_type": "code",
   "execution_count": 11,
   "id": "bfb3d25c-f879-473c-9625-25c9c773f652",
   "metadata": {
    "execution": {
     "iopub.execute_input": "2022-05-02T17:38:34.929035Z",
     "iopub.status.busy": "2022-05-02T17:38:34.928040Z",
     "iopub.status.idle": "2022-05-02T17:38:34.936967Z",
     "shell.execute_reply": "2022-05-02T17:38:34.936044Z",
     "shell.execute_reply.started": "2022-05-02T17:38:34.928040Z"
    },
    "tags": []
   },
   "outputs": [],
   "source": [
    "wf = mdao_workflow(sequence, solvers_options, comp_options, var_options)"
   ]
  },
  {
   "cell_type": "code",
   "execution_count": 12,
   "id": "fb9db907-74d5-45bd-9451-7ebae1239e07",
   "metadata": {
    "execution": {
     "iopub.execute_input": "2022-05-02T17:38:35.158909Z",
     "iopub.status.busy": "2022-05-02T17:38:35.158909Z",
     "iopub.status.idle": "2022-05-02T17:38:35.168908Z",
     "shell.execute_reply": "2022-05-02T17:38:35.168007Z",
     "shell.execute_reply.started": "2022-05-02T17:38:35.158909Z"
    },
    "tags": []
   },
   "outputs": [],
   "source": [
    "components = generate_components_and_residuals(model.components, nedges)"
   ]
  },
  {
   "cell_type": "code",
   "execution_count": 13,
   "id": "7e3ce34c-0197-46c5-8daf-41dfc1b53aad",
   "metadata": {
    "execution": {
     "iopub.execute_input": "2022-05-02T17:38:35.349716Z",
     "iopub.status.busy": "2022-05-02T17:38:35.348708Z",
     "iopub.status.idle": "2022-05-02T17:38:35.354627Z",
     "shell.execute_reply": "2022-05-02T17:38:35.353629Z",
     "shell.execute_reply.started": "2022-05-02T17:38:35.349716Z"
    },
    "tags": []
   },
   "outputs": [],
   "source": [
    "lookup_f = get_f(components, nedges)"
   ]
  },
  {
   "cell_type": "code",
   "execution_count": 14,
   "id": "6bf98729-20a5-450e-b77f-3e5b3a240cdb",
   "metadata": {
    "execution": {
     "iopub.execute_input": "2022-05-02T17:38:33.906837Z",
     "iopub.status.busy": "2022-05-02T17:38:33.905840Z",
     "iopub.status.idle": "2022-05-02T17:38:33.913921Z",
     "shell.execute_reply": "2022-05-02T17:38:33.913921Z",
     "shell.execute_reply.started": "2022-05-02T17:38:33.906837Z"
    },
    "tags": []
   },
   "outputs": [],
   "source": [
    "namingfunc = namefromid(nodetyperepr)"
   ]
  },
  {
   "cell_type": "code",
   "execution_count": 15,
   "id": "f16fa355-e2f8-44e9-9df8-9fefa417cec4",
   "metadata": {
    "execution": {
     "iopub.execute_input": "2022-05-02T17:38:35.507529Z",
     "iopub.status.busy": "2022-05-02T17:38:35.507529Z",
     "iopub.status.idle": "2022-05-02T17:38:35.525617Z",
     "shell.execute_reply": "2022-05-02T17:38:35.525617Z",
     "shell.execute_reply.started": "2022-05-02T17:38:35.507529Z"
    },
    "tags": []
   },
   "outputs": [],
   "source": [
    "wfmdao = mdao_workflow_with_args(wf, lookup_f, namingfunc)"
   ]
  },
  {
   "cell_type": "code",
   "execution_count": 16,
   "id": "0b35b693-e64e-488c-8daf-c86074184443",
   "metadata": {
    "execution": {
     "iopub.execute_input": "2022-05-02T17:38:35.658061Z",
     "iopub.status.busy": "2022-05-02T17:38:35.658061Z",
     "iopub.status.idle": "2022-05-02T17:38:35.682060Z",
     "shell.execute_reply": "2022-05-02T17:38:35.682060Z",
     "shell.execute_reply.started": "2022-05-02T17:38:35.658061Z"
    },
    "tags": []
   },
   "outputs": [],
   "source": [
    "prob, mdao_in, groups = build_archi(nedges, ntree, wfmdao, namingfunc)"
   ]
  },
  {
   "cell_type": "code",
   "execution_count": 17,
   "id": "bd64a9a1-cccb-4260-b8a6-05cb9a415b39",
   "metadata": {
    "execution": {
     "iopub.execute_input": "2022-05-02T17:38:35.821760Z",
     "iopub.status.busy": "2022-05-02T17:38:35.821760Z",
     "iopub.status.idle": "2022-05-02T17:38:35.839716Z",
     "shell.execute_reply": "2022-05-02T17:38:35.839716Z",
     "shell.execute_reply.started": "2022-05-02T17:38:35.821760Z"
    },
    "tags": []
   },
   "outputs": [],
   "source": [
    "# prob.set_val('x', 1.0)\n",
    "# prob.set_val('z1', 1.0)\n",
    "# prob.set_val('z2', 1.0)"
   ]
  },
  {
   "cell_type": "code",
   "execution_count": 18,
   "id": "07c72eaf-c23e-42c3-bf58-674cad75ce04",
   "metadata": {
    "execution": {
     "iopub.execute_input": "2022-05-02T17:38:36.024892Z",
     "iopub.status.busy": "2022-05-02T17:38:36.023854Z",
     "iopub.status.idle": "2022-05-02T17:38:36.028529Z",
     "shell.execute_reply": "2022-05-02T17:38:36.027851Z",
     "shell.execute_reply.started": "2022-05-02T17:38:36.024892Z"
    },
    "tags": []
   },
   "outputs": [],
   "source": [
    "#prob.run_model()"
   ]
  },
  {
   "cell_type": "code",
   "execution_count": 19,
   "id": "65e093bd-ca4a-4081-ae4d-3b3bbd906365",
   "metadata": {
    "execution": {
     "iopub.execute_input": "2022-05-02T17:44:01.555327Z",
     "iopub.status.busy": "2022-05-02T17:44:01.555327Z",
     "iopub.status.idle": "2022-05-02T17:44:01.684510Z",
     "shell.execute_reply": "2022-05-02T17:44:01.684510Z",
     "shell.execute_reply.started": "2022-05-02T17:44:01.555327Z"
    },
    "tags": []
   },
   "outputs": [
    {
     "name": "stdout",
     "output_type": "stream",
     "text": [
      "\n",
      "===\n",
      "s_2\n",
      "===\n",
      "NL: Newton Converged in 3 iterations\n",
      "\n",
      "===\n",
      "s_2\n",
      "===\n",
      "NL: Newton Converged in 0 iterations\n",
      "\n",
      "===\n",
      "s_2\n",
      "===\n",
      "NL: Newton Converged in 3 iterations\n",
      "\n",
      "===\n",
      "s_2\n",
      "===\n",
      "NL: Newton Converged in 3 iterations\n",
      "\n",
      "===\n",
      "s_2\n",
      "===\n",
      "NL: Newton Converged in 3 iterations\n",
      "\n",
      "===\n",
      "s_2\n",
      "===\n",
      "NL: Newton Converged in 3 iterations\n",
      "\n",
      "===\n",
      "s_2\n",
      "===\n",
      "NL: Newton Converged in 2 iterations\n",
      "\n",
      "===\n",
      "s_2\n",
      "===\n",
      "NL: Newton Converged in 1 iterations\n",
      "Optimization terminated successfully    (Exit mode 0)\n",
      "            Current function value: 3.183393951639923\n",
      "            Iterations: 5\n",
      "            Function evaluations: 7\n",
      "            Gradient evaluations: 5\n",
      "Optimization Complete\n",
      "-----------------------------------\n"
     ]
    }
   ],
   "source": [
    "prob.run_driver();"
   ]
  },
  {
   "cell_type": "code",
   "execution_count": 20,
   "id": "b3300006-16af-4db2-8b0e-6d93a33e6009",
   "metadata": {
    "execution": {
     "iopub.execute_input": "2022-05-02T05:02:09.695007Z",
     "iopub.status.busy": "2022-05-02T05:02:09.694064Z",
     "iopub.status.idle": "2022-05-02T05:02:09.710972Z",
     "shell.execute_reply": "2022-05-02T05:02:09.709972Z",
     "shell.execute_reply.started": "2022-05-02T05:02:09.695007Z"
    },
    "tags": []
   },
   "outputs": [],
   "source": [
    "allvars = all_variables(*edges_to_Ein_Eout(edges))"
   ]
  },
  {
   "cell_type": "code",
   "execution_count": 21,
   "id": "c5270da9",
   "metadata": {},
   "outputs": [],
   "source": [
    "import numpy as np"
   ]
  },
  {
   "cell_type": "code",
   "execution_count": 33,
   "id": "dc74ebb8-19e0-444e-bdc1-d4e98ac0d026",
   "metadata": {
    "execution": {
     "iopub.execute_input": "2022-05-02T05:03:14.414850Z",
     "iopub.status.busy": "2022-05-02T05:03:14.414850Z",
     "iopub.status.idle": "2022-05-02T05:03:14.427030Z",
     "shell.execute_reply": "2022-05-02T05:03:14.426850Z",
     "shell.execute_reply.started": "2022-05-02T05:03:14.414850Z"
    },
    "tags": []
   },
   "outputs": [],
   "source": [
    "xopt = {model.idmapping[key]: prob.get_val(namingfunc(key, VAR))[0] for key in allvars}"
   ]
  },
  {
   "cell_type": "code",
   "execution_count": 34,
   "id": "c93bd683-3ac1-432a-9852-2eedc0c1a457",
   "metadata": {
    "execution": {
     "iopub.execute_input": "2022-05-02T05:03:14.812181Z",
     "iopub.status.busy": "2022-05-02T05:03:14.812181Z",
     "iopub.status.idle": "2022-05-02T05:03:14.829529Z",
     "shell.execute_reply": "2022-05-02T05:03:14.829529Z",
     "shell.execute_reply.started": "2022-05-02T05:03:14.812181Z"
    },
    "tags": []
   },
   "outputs": [
    {
     "data": {
      "text/plain": [
       "{z1: 1.9776388834629222,\n",
       " z2: 0.0,\n",
       " y1: 3.1599999999993003,\n",
       " y2: 3.7552777669258646,\n",
       " a: -0.7510555533851729,\n",
       " x: 0.0}"
      ]
     },
     "execution_count": 34,
     "metadata": {},
     "output_type": "execute_result"
    }
   ],
   "source": [
    "xopt"
   ]
  },
  {
   "cell_type": "code",
   "execution_count": 36,
   "id": "95caac8f-926b-4b9d-aca5-5cc341a911b6",
   "metadata": {
    "execution": {
     "iopub.execute_input": "2022-05-02T05:03:16.894607Z",
     "iopub.status.busy": "2022-05-02T05:03:16.893608Z",
     "iopub.status.idle": "2022-05-02T05:03:16.905192Z",
     "shell.execute_reply": "2022-05-02T05:03:16.904600Z",
     "shell.execute_reply.started": "2022-05-02T05:03:16.894607Z"
    },
    "tags": []
   },
   "outputs": [
    {
     "data": {
      "text/plain": [
       "[[DeviceArray(-0.75105555, dtype=float64)],\n",
       " [DeviceArray(3.16, dtype=float64)],\n",
       " [DeviceArray(3.75527777, dtype=float64)],\n",
       " DeviceArray(3.18339395, dtype=float64),\n",
       " 6.998845947236987e-13,\n",
       " -20.244722233074135]"
      ]
     },
     "execution_count": 36,
     "metadata": {},
     "output_type": "execute_result"
    }
   ],
   "source": [
    "[comp.evaldict(xopt) for comp in components[0:6]]"
   ]
  }
 ],
 "metadata": {
  "kernelspec": {
   "display_name": "minimdo",
   "language": "python",
   "name": "python3"
  },
  "language_info": {
   "codemirror_mode": {
    "name": "ipython",
    "version": 3
   },
   "file_extension": ".py",
   "mimetype": "text/x-python",
   "name": "python",
   "nbconvert_exporter": "python",
   "pygments_lexer": "ipython3",
   "version": "3.9.18"
  }
 },
 "nbformat": 4,
 "nbformat_minor": 5
}
