{
 "cells": [
  {
   "cell_type": "code",
   "execution_count": 1,
   "metadata": {},
   "outputs": [],
   "source": [
    "from src.v1.symbolic import Var\n",
    "from src.v4.functionals import Functional\n",
    "from src.v4.functionals import Projectable\n",
    "from src.v4.functionals import Problem\n",
    "from src.v4.functionals import intersection\n",
    "from src.v4.functionals import residual_solver\n",
    "from src.v4.functionals import generate_opt_objects\n",
    "from src.v4.functionals import eliminate\n",
    "import numpy as np\n",
    "from sympy import exp"
   ]
  },
  {
   "cell_type": "code",
   "execution_count": 2,
   "metadata": {},
   "outputs": [],
   "source": [
    "z1,z2,x,y2 = Var('z_1'), Var('z_2'), Var('x'), Var('y_2')"
   ]
  },
  {
   "cell_type": "code",
   "execution_count": 3,
   "metadata": {},
   "outputs": [],
   "source": [
    "F1 = Functional()\n",
    "a = F1.Var('a', z1+z2-0.2*y2) # intermediate variable for demonstration purposes\n",
    "y1 = F1.Var('y_1', x**2+a)\n",
    "F2 = Functional(y2, abs(y1)**.5+z1+z2)\n",
    "\n",
    "F = intersection(F1, F2) # eliminates 'a', 'y_1' and 'y_2'\n",
    "\n",
    "obj = x**2+z2+y1+exp(-y2)\n",
    "ineq = [3.16-y1, y2-24] # technically represent residual sets\n",
    "# eq = F.projectable # using residuals for F1 and F2\n",
    "problem = Problem(obj, ineq, eliminate=F, \n",
    "                bounds={x:(0,10), z1:(0,10), z2:(0,10)})\n",
    "\n",
    "xopt = problem.dict_in_dict_out(x0={x:1, z1:5, z2:2})"
   ]
  },
  {
   "cell_type": "code",
   "execution_count": 4,
   "metadata": {},
   "outputs": [],
   "source": [
    "Felim = eliminate(F1, F2)"
   ]
  },
  {
   "cell_type": "code",
   "execution_count": 5,
   "metadata": {},
   "outputs": [
    {
     "data": {
      "text/plain": [
       "{a: DeviceArray([1.2968901], dtype=float32),\n",
       " y_1: DeviceArray([2.29689], dtype=float32)}"
      ]
     },
     "execution_count": 5,
     "metadata": {},
     "output_type": "execute_result"
    }
   ],
   "source": [
    "Felim.dict_in_dict_out({z1:1, z2:1, x:1})"
   ]
  },
  {
   "cell_type": "markdown",
   "metadata": {},
   "source": [
    "# All at once formulation"
   ]
  },
  {
   "cell_type": "code",
   "execution_count": 6,
   "metadata": {},
   "outputs": [],
   "source": [
    "problem = Problem(obj, ineq, eliminate=F.projectable,\n",
    "                  bounds={x:(0,10), z1:(0,10), z2:(0,10)})\n",
    "xopt_aao = problem.dict_in_dict_out(x0={x:1, z1:1, z2:1, \n",
    "                             a:1, y1:1, y2:1})"
   ]
  },
  {
   "cell_type": "code",
   "execution_count": 7,
   "metadata": {},
   "outputs": [
    {
     "ename": "TypeError",
     "evalue": "unsupported operand type(s) for +: 'DeviceArray' and 'NoneType'",
     "output_type": "error",
     "traceback": [
      "\u001b[1;31m---------------------------------------------------------------------------\u001b[0m",
      "\u001b[1;31mTypeError\u001b[0m                                 Traceback (most recent call last)",
      "Input \u001b[1;32mIn [7]\u001b[0m, in \u001b[0;36m<cell line: 1>\u001b[1;34m()\u001b[0m\n\u001b[1;32m----> 1\u001b[0m \u001b[43mproblem\u001b[49m\u001b[38;5;241;43m.\u001b[39;49m\u001b[43mobj\u001b[49m\u001b[38;5;241;43m.\u001b[39;49m\u001b[43mdict_in_only\u001b[49m\u001b[43m(\u001b[49m\u001b[43mxopt\u001b[49m\u001b[43m)\u001b[49m\n",
      "File \u001b[1;32mc:\\Users\\johan\\github\\minimdo\\minimdo\\src\\v4\\execution.py:29\u001b[0m, in \u001b[0;36mEncodedFunction.dict_in_only\u001b[1;34m(self, d, **kwargs)\u001b[0m\n\u001b[0;32m     27\u001b[0m \u001b[38;5;28;01mdef\u001b[39;00m \u001b[38;5;21mdict_in_only\u001b[39m(\u001b[38;5;28mself\u001b[39m, d\u001b[38;5;241m=\u001b[39m\u001b[38;5;28;01mNone\u001b[39;00m, \u001b[38;5;241m*\u001b[39m\u001b[38;5;241m*\u001b[39mkwargs):\n\u001b[0;32m     28\u001b[0m     d \u001b[38;5;241m=\u001b[39m d \u001b[38;5;28;01mif\u001b[39;00m d \u001b[38;5;129;01mis\u001b[39;00m \u001b[38;5;129;01mnot\u001b[39;00m \u001b[38;5;28;01mNone\u001b[39;00m \u001b[38;5;28;01melse\u001b[39;00m \u001b[38;5;28mdict\u001b[39m()\n\u001b[1;32m---> 29\u001b[0m     \u001b[38;5;28;01mreturn\u001b[39;00m \u001b[38;5;28mself\u001b[39m\u001b[38;5;241m.\u001b[39mf(\u001b[38;5;241m*\u001b[39m\u001b[38;5;28mself\u001b[39m\u001b[38;5;241m.\u001b[39mencoder\u001b[38;5;241m.\u001b[39mencode(d), \u001b[38;5;241m*\u001b[39m\u001b[38;5;241m*\u001b[39m{\u001b[38;5;241m*\u001b[39m\u001b[38;5;241m*\u001b[39m\u001b[38;5;28mself\u001b[39m\u001b[38;5;241m.\u001b[39mkwargs, \u001b[38;5;241m*\u001b[39m\u001b[38;5;241m*\u001b[39mkwargs})\n",
      "File \u001b[1;32m<lambdifygenerated-10>:2\u001b[0m, in \u001b[0;36m_lambdifygenerated\u001b[1;34m(y_1, y_2, z_2, x)\u001b[0m\n\u001b[0;32m      1\u001b[0m \u001b[38;5;28;01mdef\u001b[39;00m \u001b[38;5;21m_lambdifygenerated\u001b[39m(y_1, y_2, z_2, x):\n\u001b[1;32m----> 2\u001b[0m     \u001b[38;5;28;01mreturn\u001b[39;00m \u001b[43mx\u001b[49m\u001b[38;5;241;43m*\u001b[39;49m\u001b[38;5;241;43m*\u001b[39;49m\u001b[38;5;241;43m2\u001b[39;49m\u001b[43m \u001b[49m\u001b[38;5;241;43m+\u001b[39;49m\u001b[43m \u001b[49m\u001b[43my_1\u001b[49m \u001b[38;5;241m+\u001b[39m z_2 \u001b[38;5;241m+\u001b[39m exp(\u001b[38;5;241m-\u001b[39my_2)\n",
      "\u001b[1;31mTypeError\u001b[0m: unsupported operand type(s) for +: 'DeviceArray' and 'NoneType'"
     ]
    }
   ],
   "source": [
    "problem.obj.dict_in_only(xopt)"
   ]
  },
  {
   "cell_type": "code",
   "execution_count": 7,
   "metadata": {},
   "outputs": [
    {
     "data": {
      "text/plain": [
       "{z_2: 0.0,\n",
       " y_1: 3.1599999999999997,\n",
       " x: 2.0816681711721685e-16,\n",
       " y_2: 6.172048611587837,\n",
       " a: 3.1599999999999997,\n",
       " z_1: 4.394409728124719}"
      ]
     },
     "execution_count": 7,
     "metadata": {},
     "output_type": "execute_result"
    }
   ],
   "source": [
    "xopt_aao"
   ]
  },
  {
   "cell_type": "code",
   "execution_count": null,
   "metadata": {},
   "outputs": [],
   "source": []
  }
 ],
 "metadata": {
  "kernelspec": {
   "display_name": "minimdo",
   "language": "python",
   "name": "python3"
  },
  "language_info": {
   "codemirror_mode": {
    "name": "ipython",
    "version": 3
   },
   "file_extension": ".py",
   "mimetype": "text/x-python",
   "name": "python",
   "nbconvert_exporter": "python",
   "pygments_lexer": "ipython3",
   "version": "3.9.18"
  },
  "orig_nbformat": 4
 },
 "nbformat": 4,
 "nbformat_minor": 2
}
