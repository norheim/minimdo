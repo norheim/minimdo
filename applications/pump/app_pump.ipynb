{
 "cells": [
  {
   "cell_type": "code",
   "execution_count": 9,
   "id": "fe4c79fd",
   "metadata": {
    "execution": {
     "iopub.execute_input": "2021-09-08T19:07:51.916714Z",
     "iopub.status.busy": "2021-09-08T19:07:51.915713Z",
     "iopub.status.idle": "2021-09-08T19:07:51.931712Z",
     "shell.execute_reply": "2021-09-08T19:07:51.930714Z",
     "shell.execute_reply.started": "2021-09-08T19:07:51.916714Z"
    }
   },
   "outputs": [],
   "source": [
    "from compute import Var, eqvar\n",
    "from inputresolver import reassigneq, eqvars, eqsonly, default_out, mdf_order, default_in, idx_eqlist\n",
    "from inputresolver import getallvars, invert_edges, resolve, reassign\n",
    "from representations import bipartite_repr\n",
    "from compute_utils import get_outputs, check_eqs, print_out\n",
    "from pprint import pprint\n",
    "import networkx as nx\n",
    "import sympy as sp\n",
    "import numpy as np\n",
    "import openmdao.api as om"
   ]
  },
  {
   "cell_type": "code",
   "execution_count": 10,
   "id": "a9834cb8",
   "metadata": {
    "execution": {
     "iopub.execute_input": "2021-09-08T19:07:52.117713Z",
     "iopub.status.busy": "2021-09-08T19:07:52.117713Z",
     "iopub.status.idle": "2021-09-08T19:07:52.136712Z",
     "shell.execute_reply": "2021-09-08T19:07:52.135711Z",
     "shell.execute_reply.started": "2021-09-08T19:07:52.117713Z"
    }
   },
   "outputs": [],
   "source": [
    "from compute import Var, eqvar, ureg, buildidpvars, coupled_run\n",
    "from compute_utils import get_outputs, print_out\n",
    "from inputresolver import idx_eqlist, eqvars, default_in, default_out, mdf_order\n",
    "import sympy as sp\n",
    "import openmdao.api as om"
   ]
  },
  {
   "cell_type": "code",
   "execution_count": 36,
   "id": "f3250312",
   "metadata": {
    "execution": {
     "iopub.execute_input": "2021-09-08T19:20:47.978523Z",
     "iopub.status.busy": "2021-09-08T19:20:47.978523Z",
     "iopub.status.idle": "2021-09-08T19:20:48.015034Z",
     "shell.execute_reply": "2021-09-08T19:20:48.014020Z",
     "shell.execute_reply.started": "2021-09-08T19:20:47.978523Z"
    }
   },
   "outputs": [],
   "source": [
    "da = Var('da', 0.002, 'm')\n",
    "dh = Var('dh', 0.01, 'm')\n",
    "dl = Var('dl', 0.008, 'm')\n",
    "g = Var('g', 9.81, 'm/s^2')\n",
    "Tinf = Var('Tinf', 350, 'K')\n",
    "na = Var('na', 1.5)\n",
    "p = Var('p', 4)\n",
    "n_p = Var('np', 0.55133)\n",
    "mu0 = Var('mu0', 18.27e-6, 'Pa*s')\n",
    "T0 = Var('T0', 291.15, 'K')\n",
    "C = Var('C', 120, 'K')\n",
    "Cp = Var('Cp', 1.009, 'kJ/kg*K')\n",
    "Br = Var('Br', 0.1, 'T')\n",
    "V = Var('V', 14.4, 'V')\n",
    "Ds = Var('Ds', 0, 'm')\n",
    "D1 = Var('D1', 0.02, 'm')\n",
    "D2 = Var('D2', 0.15, 'm')\n",
    "D3 = Var('D3', 0.032, 'm')\n",
    "d1 = Var('d1', unit='m')\n",
    "d2 = Var('d2', unit='m')\n",
    "d3 = Var('d3', unit='m')\n",
    "L = Var('L', unit='m')\n",
    "d = Var('d', unit='m')\n",
    "T = Var('T', unit='K')"
   ]
  },
  {
   "cell_type": "code",
   "execution_count": 41,
   "id": "9bebd81b",
   "metadata": {
    "execution": {
     "iopub.execute_input": "2021-09-08T19:21:27.739341Z",
     "iopub.status.busy": "2021-09-08T19:21:27.738347Z",
     "iopub.status.idle": "2021-09-08T19:21:27.803341Z",
     "shell.execute_reply": "2021-09-08T19:21:27.801338Z",
     "shell.execute_reply.started": "2021-09-08T19:21:27.739341Z"
    }
   },
   "outputs": [],
   "source": [
    "ths, eq1 = eqvar('ths', np.pi/p*(1+1/na), 'rad')\n",
    "tht, eq2 = eqvar('tht', ths/na, 'rad')\n",
    "thp, eq3 = eqvar('thp', ths+tht, 'rad')\n",
    "As, eq4 = eqvar('As', ths*(d3**2-d2**2), 'm^2')\n",
    "Vs, eq5 = eqvar('Vs', n_p*As*L, 'm^3')\n",
    "Aw, eq6 = eqvar('Aw', np.pi*d**2/4, 'm^2')\n",
    "ls, eq7 = eqvar('ls', Vs/Aw, 'm')\n",
    "nt, eq8 = eqvar('nt', ls/(2*L))\n",
    "le, eq9 = eqvar('le', ths*(1/na+np.pi/4)*(d2+d3)/4)\n",
    "l, eq10 = eqvar('l', ls+2*le*nt)\n",
    "c1 = Var('c1', 0.00393, 'ohm*m/K')\n",
    "c2 = Var('c2', 1, 'ohm*m')\n",
    "c3 = Var('c3', 293, 'K')\n",
    "rho, eq11 = eqvar('rho',  1.72e-8*(c2+c1*(T-c3)), 'ohm*m')"
   ]
  },
  {
   "cell_type": "code",
   "execution_count": null,
   "id": "1b743ec8",
   "metadata": {},
   "outputs": [],
   "source": []
  }
 ],
 "metadata": {
  "kernelspec": {
   "display_name": "mdo",
   "language": "python",
   "name": "mdo"
  },
  "language_info": {
   "codemirror_mode": {
    "name": "ipython",
    "version": 3
   },
   "file_extension": ".py",
   "mimetype": "text/x-python",
   "name": "python",
   "nbconvert_exporter": "python",
   "pygments_lexer": "ipython3",
   "version": "3.8.10"
  }
 },
 "nbformat": 4,
 "nbformat_minor": 5
}
