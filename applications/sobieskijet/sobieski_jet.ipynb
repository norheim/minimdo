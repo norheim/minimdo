{
 "cells": [
  {
   "cell_type": "code",
   "execution_count": 21,
   "metadata": {},
   "outputs": [],
   "source": [
    "from modeling.compute import Var\n",
    "from modeling.gen3.nesting import Model, adda, addsolver, evalexpr\n",
    "import sympy as sp\n",
    "import numpy as np"
   ]
  },
  {
   "cell_type": "code",
   "execution_count": 2,
   "metadata": {},
   "outputs": [],
   "source": [
    "def PFi(idx, *args):\n",
    "    Aij = np.array(((0, 0.3970, 0.8152, 0.9230, 0.1108),\n",
    "                 (0.4252, 0, 0.6357, 0.7435, 0.1138),\n",
    "                 (0.0329, 0.8856, 0, 0.3657, 0.0019),\n",
    "                 (0.0878, 0.7248, 0.1978, 0, 0.0169),\n",
    "                 (0.8955, 0.4568, 0.8075, 0.9239, 0)))\n",
    "    Aoff = {\n",
    "        'theta': (1, np.array((0.3,-0.3,-0.3,-0.2)), \n",
    "            np.array((0.4,-0.4,-0.4,0))),\n",
    "        'Fo1': (1,6.25,0),\n",
    "        'sigma1': (1, np.array((-0.75,0.5,-0.75,0.5)), \n",
    "            np.array((-2.5,0,-2.5,0,0))),\n",
    "        'sigma2': (1, np.array((-0.5,0.333,-0.5,0.333,0.333)), \n",
    "            np.array((-1.111,0,-1.111,0,0))),\n",
    "        'sigma3': (1, np.array((-0.375,0.25,-0.375,0.25,0.25)), \n",
    "            np.array((-0.625,0,-0.625,0,0))),\n",
    "        'sigma4': (1, np.array((-0.3,0.2,-0.3,0.2, 0.2)), \n",
    "            np.array((-0.4,0,-0.4,0,0))),\n",
    "        'sigma5': (1, np.array((-0.25,0.1667,-0.25,0.1667, 0.1667)), \n",
    "            np.array((-0.2778, 0, -0.2778,0,0))),\n",
    "        'Fo2': (1, np.array((0.2,0.2)), np.array((0,0))),\n",
    "        'Fo3': (1, 0, 0.04),\n",
    "        'dpdx': (1,0.2,0),\n",
    "        'temp': (1, np.array((0.3,-0.3,0.3)), \n",
    "            np.array((0.4,-0.4,0.4)))\n",
    "    }\n",
    "    Nargs = len(args)\n",
    "    Aoff_sel = Aoff[idx]\n",
    "    npargs = np.array(args)\n",
    "    Aii = np.diag(Aoff_sel[2]) if Nargs>1 else Aoff_sel[2]\n",
    "    A = Aij[0:Nargs,0:Nargs] + Aii\n",
    "    total = Aoff_sel[0]+np.dot(Aoff_sel[1],npargs)+0.5*npargs@A@npargs.T\n",
    "    return total"
   ]
  },
  {
   "cell_type": "code",
   "execution_count": 3,
   "metadata": {},
   "outputs": [
    {
     "data": {
      "text/plain": [
       "3.83321"
      ]
     },
     "execution_count": 3,
     "metadata": {},
     "output_type": "execute_result"
    }
   ],
   "source": [
    "PFi('theta',1.2,1,1,1)"
   ]
  },
  {
   "cell_type": "code",
   "execution_count": 28,
   "metadata": {},
   "outputs": [],
   "source": [
    "model = Model(rootname='root')\n",
    "m = model.root\n",
    "tc = Var('t_c', unit='')\n",
    "Sref = Var(r'S_{ref}', unit='m^2')\n",
    "AR = Var('AR', unit='')\n",
    "l = Var(r'\\lambda', unit='')\n",
    "L = Var('L', unit='')\n",
    "WT = Var('W_T', unit='N')\n",
    "WW = Var('W_W', unit='N')\n",
    "x = Var('x', unit='')\n",
    "struct = addsolver(m, name='struct', idbyname=True)\n",
    "# external\n",
    "WFO = Var(r'W_{FO}', unit='N')\n",
    "WO = Var(r'W_O', unit='N')\n",
    "WE = Var(r'W_E', unit='N')\n",
    "NZ = Var(r'N_Z', unit='N')\n",
    "t = adda(struct, 't', tc*Sref/sp.sqrt(Sref*AR))\n",
    "b = adda(struct, 'b', sp.sqrt(Sref*AR/2))\n",
    "R = adda(struct, 'R', (1+2*l)/(3*(1+l)))\n",
    "adda(struct, '\\\\theta', lambda *args: PFi('theta', *args), (x, b, R, L))\n",
    "Fo1 = adda(struct, 'Fo1', lambda *args: PFi('Fo1', *args), (x,))\n",
    "WFW = adda(struct, 'WFW', 5*Sref/18*2/3*t, unit='N', forceunit=True)\n",
    "WF = adda(struct, 'W_F', WFW+WFO, unit='N')\n",
    "WT = adda(struct, 'W_T', WO+WW+WF+WE, unit='N')\n",
    "WW = adda(struct, 'W_W', 0.0051*(WT*NZ)**0.557*Sref**0.649*\n",
    "    AR**0.5*tc**-0.4*(1+L)**0.1*(0.1875*Sref)**0.1/sp.cos(L)*Fo1, unit='N', forceunit=True)"
   ]
  }
 ],
 "metadata": {
  "kernelspec": {
   "display_name": "minimdo",
   "language": "python",
   "name": "python3"
  },
  "language_info": {
   "codemirror_mode": {
    "name": "ipython",
    "version": 3
   },
   "file_extension": ".py",
   "mimetype": "text/x-python",
   "name": "python",
   "nbconvert_exporter": "python",
   "pygments_lexer": "ipython3",
   "version": "3.9.18"
  },
  "orig_nbformat": 4,
  "vscode": {
   "interpreter": {
    "hash": "a694de6fda351b2e6abf6df342a83029ffd7840d5f4e2b018751ced956a6df2b"
   }
  }
 },
 "nbformat": 4,
 "nbformat_minor": 2
}
