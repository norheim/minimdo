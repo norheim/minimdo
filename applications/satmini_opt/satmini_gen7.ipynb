{
 "cells": [
  {
   "cell_type": "code",
   "execution_count": 1,
   "id": "88625a42",
   "metadata": {},
   "outputs": [],
   "source": [
    "from src.v4.torchdata import print_formatted_table, load_vals, unload_vals\n",
    "from src.v5.problem import symbolic, sqrt\n",
    "from src.v6.problem import MFunctionalSet, MFunctionalSetLeaf\n",
    "from graph.matrixview import render_incidence\n",
    "from graph.graphutils import default_tree, all_edges, all_variables\n",
    "from graph.operators import reformulate\n",
    "from graph.workflow import order_from_tree\n",
    "from src.v2.tearing import dir_graph, min_arc_set_assign\n",
    "from scipy import optimize\n",
    "import numpy as np"
   ]
  },
  {
   "cell_type": "markdown",
   "id": "4ce7bf15",
   "metadata": {},
   "source": [
    "### Chapter 1 thesis"
   ]
  },
  {
   "cell_type": "markdown",
   "id": "0a60130a",
   "metadata": {},
   "source": [
    "## 1) Initial formulation"
   ]
  },
  {
   "cell_type": "code",
   "execution_count": 2,
   "id": "fa836bee",
   "metadata": {},
   "outputs": [],
   "source": [
    "A, Pbus, Pcomms, D, h, R, C = symbolic('A', 'P_{bus}', 'P_{comms}', 'D', 'h', 'R', 'C')\n",
    "D1 = MFunctionalSetLeaf(Pcomms == 483.3*A-Pbus, idvals=[0]) \n",
    "D2 = MFunctionalSetLeaf(Pbus == 10*sqrt(Pcomms), idvals=[1]) \n",
    "D3 = MFunctionalSetLeaf(R == Pcomms*D**2/h**2*0.125e6, idvals=[2]) \n",
    "D4 = MFunctionalSetLeaf(C == 2.5*D**2+12*(A+1)+0.1*Pbus, idvals=[3])\n",
    "FPF_init = MFunctionalSet(D1,D2,D3,D4).subsetof(R>=1, h>=400).minimize(C)\n",
    "FPF_init_MDA = FPF_init.config(elim=[\n",
    "    MFunctionalSet(D1,D2).config(residuals=[D1,D2]), \n",
    "    D3, D4])"
   ]
  },
  {
   "cell_type": "markdown",
   "id": "7304f8f0",
   "metadata": {},
   "source": [
    "### 1.1) Design"
   ]
  },
  {
   "cell_type": "code",
   "execution_count": 3,
   "id": "32dddfdc",
   "metadata": {},
   "outputs": [
    {
     "name": "stdout",
     "output_type": "stream",
     "text": [
      "P_{comms} P_{bus} A   \n",
      "4.047     20.118  0.05\n",
      "P_{bus} P_{comms}\n",
      "20.118  4.047    \n",
      "R     D   h   P_{comms}\n",
      "0.032 0.1 400 4.047    \n",
      "C      D   P_{bus} A   \n",
      "14.637 0.1 20.118  0.05\n"
     ]
    }
   ],
   "source": [
    "f_MDF = FPF_init_MDA.build()\n",
    "x0 = {\"h\": 400, \"A\": 0.05, \"D\": 0.1}\n",
    "x0_MDA = f_MDF.analysis(load_vals(x0, f_MDF.indices, isdict=True, default=1))\n",
    "for elt in FPF_init.supersets:\n",
    "    fP = elt.build()\n",
    "    xP = load_vals(unload_vals(x0_MDA, f_MDF.indices), fP.indices, isdict=True)\n",
    "    print_formatted_table([xP], fP.indices)"
   ]
  },
  {
   "cell_type": "markdown",
   "id": "01c8681c",
   "metadata": {},
   "source": [
    "### 2.2) Optimization\n",
    "Turns out that for SLSQP, MDF with coupled solver is ill-conditioned; the gradient of the constraint with respect to A and to D becomes zero as A and D go to zero in the infeasible part of the design (R<1)."
   ]
  },
  {
   "cell_type": "code",
   "execution_count": 4,
   "id": "2ef4975a",
   "metadata": {},
   "outputs": [],
   "source": [
    "x0_full = {'A': 1, 'P_{bus}': 1, 'P_{comms}': 1, 'D': 1, 'h': 1, 'R': 1e-3} # Found a pretty bad error, which is if we initialize the wrong names\n",
    "obj, dobj, xguess, cons, idxs, solidxs = FPF_init_MDA.build_opt(x0=x0_full)"
   ]
  },
  {
   "cell_type": "code",
   "execution_count": 5,
   "id": "70b6fa14",
   "metadata": {},
   "outputs": [
    {
     "name": "stderr",
     "output_type": "stream",
     "text": [
      "c:\\Users\\johan\\miniconda3\\envs\\minimdo\\lib\\site-packages\\scipy\\optimize\\_optimize.py:353: RuntimeWarning: Values in x were outside bounds during a minimize step, clipping to bounds\n",
      "  warnings.warn(\"Values in x were outside bounds during a \"\n"
     ]
    },
    {
     "data": {
      "text/plain": [
       " message: Optimization terminated successfully\n",
       " success: True\n",
       "  status: 0\n",
       "     fun: 15.300930694311447\n",
       "       x: [ 4.081e-02  6.705e-01  4.000e+02]\n",
       "     nit: 32\n",
       "     jac: [ 4.814e+01  3.352e+00  0.000e+00]\n",
       "    nfev: 35\n",
       "    njev: 29"
      ]
     },
     "execution_count": 5,
     "metadata": {},
     "output_type": "execute_result"
    }
   ],
   "source": [
    "xsol = optimize.minimize(obj, xguess, jac=dobj, \n",
    "                         constraints=cons, method='SLSQP', bounds=[(1e-3,1000),(1e-3,1000),(1e-3,1000)])#, options={'maxiter':20})\n",
    "xsol"
   ]
  },
  {
   "cell_type": "markdown",
   "id": "6b4c44ce",
   "metadata": {},
   "source": [
    "## 2) Reparametrized formulation"
   ]
  },
  {
   "cell_type": "code",
   "execution_count": 6,
   "id": "bba8e10f",
   "metadata": {},
   "outputs": [],
   "source": [
    "D1 = MFunctionalSetLeaf(A == (Pbus+Pcomms)/483.3, idvals=[0]) \n",
    "D2 = MFunctionalSetLeaf(Pbus == 10*sqrt(Pcomms), idvals=[1]) \n",
    "D3 = MFunctionalSetLeaf(Pcomms == R*h**2/D**2*8e-6, idvals=[2])\n",
    "D4 = MFunctionalSetLeaf(C == 2.5*D**2+12*(A+1)+0.1*Pbus, idvals=[4])\n",
    "FPF_repar = MFunctionalSet(D1,D2,D3,D4).subsetof(R>=1, h>=400, D>=0).minimize(C)\n",
    "FPF_repar_MDA = FPF_repar.config(elim=[D3, D2, D1, D4])"
   ]
  },
  {
   "cell_type": "markdown",
   "id": "03603bf5",
   "metadata": {},
   "source": [
    "### 2.1) Design"
   ]
  },
  {
   "cell_type": "code",
   "execution_count": 7,
   "id": "c1e998a9",
   "metadata": {},
   "outputs": [
    {
     "name": "stdout",
     "output_type": "stream",
     "text": [
      "P_{comms} P_{bus} A    \n",
      "128       113.137 0.499\n",
      "P_{bus} P_{comms}\n",
      "113.137 128      \n",
      "R D   h   P_{comms}\n",
      "1 0.1 400 128      \n",
      "C      D   P_{bus} A    \n",
      "29.326 0.1 113.137 0.499\n"
     ]
    }
   ],
   "source": [
    "f_MDF = FPF_repar_MDA.build()\n",
    "x0 = {\"h\": 400, \"R\": 1, \"D\": 0.1}\n",
    "x0_MDA = f_MDF.analysis(load_vals(x0, f_MDF.indices, isdict=True, default=1))\n",
    "for elt in FPF_init.supersets:\n",
    "    fP = elt.build()\n",
    "    xP = load_vals(unload_vals(x0_MDA, f_MDF.indices), fP.indices, isdict=True)\n",
    "    print_formatted_table([xP], fP.indices)"
   ]
  },
  {
   "cell_type": "markdown",
   "id": "c38773b0",
   "metadata": {},
   "source": [
    "### 2.2) Optimization"
   ]
  },
  {
   "cell_type": "code",
   "execution_count": 8,
   "id": "063f0d8a",
   "metadata": {},
   "outputs": [],
   "source": [
    "x0_full = {'A': 1, 'Pb': 1, 'Pc': 1, 'D': 1, 'h': 1, 'R': 1e-3}\n",
    "obj, dobj, xguess, cons, idxs, solidxs = FPF_repar_MDA.build_opt(x0=x0_full)"
   ]
  },
  {
   "cell_type": "code",
   "execution_count": 9,
   "id": "274bcc75",
   "metadata": {},
   "outputs": [
    {
     "data": {
      "text/plain": [
       " message: Optimization terminated successfully\n",
       " success: True\n",
       "  status: 0\n",
       "     fun: 15.300931267672876\n",
       "       x: [ 6.703e-01  1.000e+00  4.000e+02]\n",
       "     nit: 9\n",
       "     jac: [-3.599e-03  1.124e+00  5.621e-03]\n",
       "    nfev: 12\n",
       "    njev: 9"
      ]
     },
     "execution_count": 9,
     "metadata": {},
     "output_type": "execute_result"
    }
   ],
   "source": [
    "xsol = optimize.minimize(obj, xguess, jac=dobj, \n",
    "                         constraints=cons, method='SLSQP')\n",
    "xsol"
   ]
  },
  {
   "cell_type": "code",
   "execution_count": 10,
   "id": "09dc28de",
   "metadata": {},
   "outputs": [
    {
     "name": "stdout",
     "output_type": "stream",
     "text": [
      "R h   D    C      P_{bus} A     P_{comms}\n",
      "1 400 0.67 15.301 16.88   0.041 2.849    \n"
     ]
    }
   ],
   "source": [
    "idxrev = {var.item():key for key,var in idxs.items()}\n",
    "xsoldict = {str(idxrev[key.item()]): xsol.x[idx] for idx,key in enumerate(solidxs)}\n",
    "xidxed = load_vals(xsoldict, f_MDF.indices, isdict=True, default=1)\n",
    "xsolvalall = f_MDF.analysis(xidxed)\n",
    "print_formatted_table([xsolvalall], idxs)"
   ]
  },
  {
   "cell_type": "markdown",
   "id": "9b6a1e0d",
   "metadata": {},
   "source": [
    "## 3) Structure information"
   ]
  },
  {
   "cell_type": "code",
   "execution_count": 96,
   "id": "5be6d427",
   "metadata": {},
   "outputs": [
    {
     "data": {
      "image/png": "[encoded data removed]",
      "text/plain": [
       "<Figure size 300x300 with 1 Axes>"
      ]
     },
     "metadata": {},
     "output_type": "display_data"
    }
   ],
   "source": [
    "idxrev = {var.item():key for key,var in f_MDF.indices.items()}\n",
    "in_outs = {elt.supersets[0][0]: elt.build(indices=f_MDF.indices).analysis.structure for elt in FPF_repar_MDA.elim}\n",
    "Ein = {eqid: tuple(str(idxrev[idx.item()]) for idx in item[0]) for eqid, item in in_outs.items()}\n",
    "Eout = {eqid: tuple(str(idxrev[idx.item()]) for idx in item[1]) for eqid, item in in_outs.items()}\n",
    "edges = Ein, Eout, {}\n",
    "sorted_keys = sorted(Ein.keys())\n",
    "tree = default_tree(Ein.keys())\n",
    "render_incidence(edges, tree, rawvarname=True, dispendcomp=False, hideticks=True, patchwidth=4, figsize=((3,3)),diagonalgray=False);"
   ]
  },
  {
   "cell_type": "code",
   "execution_count": 4,
   "id": "61fb4f01",
   "metadata": {},
   "outputs": [],
   "source": [
    "graph_edges_minassign = all_edges(*edges)\n",
    "varidxs = all_variables(*edges)\n",
    "eqnidxs = list(edges[1].keys())\n",
    "edges_left_right = list(dir_graph(graph_edges_minassign, eqnidxs, {}))"
   ]
  },
  {
   "cell_type": "code",
   "execution_count": 5,
   "id": "75e9a832",
   "metadata": {},
   "outputs": [
    {
     "name": "stdout",
     "output_type": "stream",
     "text": [
      "Set parameter Username\n",
      "Academic license - for non-commercial use only - expires 2026-05-13\n"
     ]
    }
   ],
   "source": [
    "xsol,_ = min_arc_set_assign(edges_left_right, varidxs, eqnidxs, not_output=['D'])\n",
    "outset_initial = {comp: var[0] for comp,var in edges[1].items()}\n",
    "outset_opt = {right:left for left, right in edges_left_right \n",
    "                  if (left,right) in edges_left_right and xsol[left, right] > 0.5}"
   ]
  },
  {
   "cell_type": "code",
   "execution_count": 6,
   "id": "5545aedc",
   "metadata": {},
   "outputs": [],
   "source": [
    "str2symb = {str(key):key for key in indices.keys()}\n",
    "outset_symb = {key:symbolic(str2symb[val])[0] for key,val in outset_opt.items()}\n",
    "edges_new, tree_new = reformulate(edges, tree, outset_initial, outset_opt, root_solver_name=1)\n",
    "workflow_order = order_from_tree(tree_new[0], tree_new[1], Eout=edges_new[1])"
   ]
  },
  {
   "cell_type": "markdown",
   "id": "127599cf",
   "metadata": {},
   "source": [
    "### 2) Reconfigure original formulation based on presolver or manual specify"
   ]
  },
  {
   "cell_type": "code",
   "execution_count": 7,
   "id": "026d586f",
   "metadata": {},
   "outputs": [],
   "source": [
    "FPFr1 = FPF.reconfigure(outset_symb).config_from_order([{2}, {1}, {0}])\n",
    "FPFr2 = FPF.reconfigure(outset_symb).config_from_workflow(workflow_order)\n",
    "FPF_MDF = FPF.config(elim=[D3, D2, D1]) # Manual configuration\n",
    "formulation_of_choice = FPFr2"
   ]
  }
 ],
 "metadata": {
  "kernelspec": {
   "display_name": "minimdo",
   "language": "python",
   "name": "python3"
  },
  "language_info": {
   "codemirror_mode": {
    "name": "ipython",
    "version": 3
   },
   "file_extension": ".py",
   "mimetype": "text/x-python",
   "name": "python",
   "nbconvert_exporter": "python",
   "pygments_lexer": "ipython3",
   "version": "3.9.18"
  }
 },
 "nbformat": 4,
 "nbformat_minor": 5
}
