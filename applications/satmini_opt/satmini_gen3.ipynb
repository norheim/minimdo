{
 "cells": [
  {
   "cell_type": "code",
   "execution_count": null,
   "id": "84eababc",
   "metadata": {},
   "outputs": [],
   "source": [
    "from src.v1.symbolic import Var, Par\n",
    "from src.v2.units import ureg\n",
    "from graph.graphutils import namefromsympy\n",
    "from src.v3.nesting import Model, adda, addsolver, addobj, addeq, OPT, setsolvefor, evalexpr\n",
    "from graph.workflow import get_f, order_from_tree, default_solver_options, mdao_workflow, implicit_comp_name\n",
    "from src.v2.workflow_mdao import mdao_workflow_with_args\n",
    "from src.v2.mdaobuild import build_archi\n",
    "from src.v2.postprocess import print_outputs, print_inputs, update_varval\n",
    "import openmdao.api as om\n",
    "import numpy as np\n",
    "import sympy as sp"
   ]
  },
  {
   "cell_type": "code",
   "execution_count": 2,
   "id": "fdf5345d",
   "metadata": {},
   "outputs": [],
   "source": [
    "ureg.define('USD = [currency] ')"
   ]
  },
  {
   "cell_type": "markdown",
   "id": "3ba11fda-d9e0-4300-ab11-b234fe382f34",
   "metadata": {},
   "source": [
    "# Variables and parameters \n",
    "They are shared accross models"
   ]
  },
  {
   "cell_type": "code",
   "execution_count": 3,
   "id": "84115034-3775-45c3-b226-d17deea6e62d",
   "metadata": {
    "execution": {
     "iopub.execute_input": "2022-08-12T00:39:24.087543Z",
     "iopub.status.busy": "2022-08-12T00:39:24.087543Z",
     "iopub.status.idle": "2022-08-12T00:39:24.101572Z",
     "shell.execute_reply": "2022-08-12T00:39:24.100555Z",
     "shell.execute_reply.started": "2022-08-12T00:39:24.087543Z"
    },
    "tags": []
   },
   "outputs": [],
   "source": [
    "P_t = Var('P_c', unit='W', forceunit=True)\n",
    "Pbus = Var('P_b', unit='W', forceunit=True)\n",
    "S = Var('h', 400, unit='km')\n",
    "D = Var('D', 0.1, unit='m')\n",
    "A = Var('A', 0.5, unit='m^2')\n",
    "eta_t = Par(r'\\eta_t', 0.16)\n",
    "eta_a = Par(r'\\eta', 0.5)\n",
    "alpha = Par(r'\\alpha', 1e20, 'bits/W')\n",
    "th = Par(r'\\theta', np.pi/4)\n",
    "W0 = Par('W_0', 1367, 'W/m^2')\n",
    "Re = Par('Re', 6378, 'km')\n",
    "μ = Par('mu', 3.986005e14, 'm^3/s^2')\n",
    "c1 = Par('c_1', 2500, 'USD/m^2')\n",
    "c2 = Par('c_2', 12000, 'USD/m^2')\n",
    "c3 = Par('c_3', 100, 'USD/W')\n",
    "c4 = Par('c_4', 12000, 'USD')"
   ]
  },
  {
   "cell_type": "markdown",
   "id": "a6c08d02-545f-49a1-afc1-8d7e814fadb1",
   "metadata": {},
   "source": [
    "# Formulation 1"
   ]
  },
  {
   "cell_type": "code",
   "execution_count": 4,
   "id": "2fa59afd-a0cc-4371-b0d4-33f12ea3cf18",
   "metadata": {
    "execution": {
     "iopub.execute_input": "2022-08-12T00:39:24.103541Z",
     "iopub.status.busy": "2022-08-12T00:39:24.103541Z",
     "iopub.status.idle": "2022-08-12T00:39:24.694686Z",
     "shell.execute_reply": "2022-08-12T00:39:24.694686Z",
     "shell.execute_reply.started": "2022-08-12T00:39:24.103541Z"
    },
    "tags": []
   },
   "outputs": [],
   "source": [
    "model = Model(solver=OPT)\n",
    "m = model.root\n",
    "s2 = addsolver(m)#, solvefor=['Pbus', 'P_t'])\n",
    "adda(s2, P_t, A*eta_a*W0*sp.cos(th)-Pbus)\n",
    "adda(s2, Pbus, 10*abs(P_t)**0.5)\n",
    "R = adda(m, 'R', alpha*P_t*D**2*eta_t/(16*S**2), unit='MB/s', forceunit=True)\n",
    "C = adda(m, 'C', c1*D**2+c2*A+c3*Pbus+c4, unit='kUSD')\n",
    "addeq(m, -R+1) # == 0\n",
    "addobj(m, C)"
   ]
  },
  {
   "cell_type": "code",
   "execution_count": 5,
   "id": "0154e5e1-3362-4807-884f-396a8174bae6",
   "metadata": {
    "execution": {
     "iopub.execute_input": "2022-08-12T14:04:41.317137Z",
     "iopub.status.busy": "2022-08-12T14:04:41.317137Z",
     "iopub.status.idle": "2022-08-12T14:04:41.391351Z",
     "shell.execute_reply": "2022-08-12T14:04:41.390351Z",
     "shell.execute_reply.started": "2022-08-12T14:04:41.317137Z"
    },
    "tags": []
   },
   "outputs": [
    {
     "data": {
      "text/plain": [
       "(array(1.e+18), array(483.30748494))"
      ]
     },
     "execution_count": 5,
     "metadata": {},
     "output_type": "execute_result"
    }
   ],
   "source": [
    "evalexpr(alpha*eta_t/(16)).varval, evalexpr(eta_a*W0*sp.cos(th)).varval"
   ]
  },
  {
   "cell_type": "code",
   "execution_count": 6,
   "id": "516883b8-495b-40ce-b5f2-d3de5d18f498",
   "metadata": {
    "execution": {
     "iopub.execute_input": "2022-08-12T00:39:24.775951Z",
     "iopub.status.busy": "2022-08-12T00:39:24.775951Z",
     "iopub.status.idle": "2022-08-12T00:39:24.790255Z",
     "shell.execute_reply": "2022-08-12T00:39:24.789951Z",
     "shell.execute_reply.started": "2022-08-12T00:39:24.775951Z"
    },
    "tags": []
   },
   "outputs": [],
   "source": [
    "setsolvefor(m, [D,A], {D:[0.5,10], A:[0.04,1]})"
   ]
  },
  {
   "cell_type": "code",
   "execution_count": 7,
   "id": "bdf0b7a9-9483-4c86-8aea-fc0b7dc1fe41",
   "metadata": {
    "execution": {
     "iopub.execute_input": "2022-08-12T00:39:24.792262Z",
     "iopub.status.busy": "2022-08-12T00:39:24.791265Z",
     "iopub.status.idle": "2022-08-12T00:39:24.806263Z",
     "shell.execute_reply": "2022-08-12T00:39:24.805278Z",
     "shell.execute_reply.started": "2022-08-12T00:39:24.792262Z"
    },
    "tags": []
   },
   "outputs": [],
   "source": [
    "edges, tree = model.generate_formulation()"
   ]
  },
  {
   "cell_type": "code",
   "execution_count": 8,
   "id": "5697883f-455d-4276-b16d-eb1ed7fcd649",
   "metadata": {
    "execution": {
     "iopub.execute_input": "2022-08-12T00:39:24.807266Z",
     "iopub.status.busy": "2022-08-12T00:39:24.806263Z",
     "iopub.status.idle": "2022-08-12T00:39:24.822283Z",
     "shell.execute_reply": "2022-08-12T00:39:24.821284Z",
     "shell.execute_reply.started": "2022-08-12T00:39:24.807266Z"
    },
    "tags": []
   },
   "outputs": [],
   "source": [
    "Ein, Eout, Rin = edges"
   ]
  },
  {
   "cell_type": "code",
   "execution_count": 9,
   "id": "b25b152c",
   "metadata": {},
   "outputs": [],
   "source": [
    "from graph.matrixview import render_incidence"
   ]
  },
  {
   "cell_type": "code",
   "execution_count": 10,
   "id": "52ee1659-8020-4077-935c-619e616578f7",
   "metadata": {
    "execution": {
     "iopub.execute_input": "2022-08-12T00:39:25.432654Z",
     "iopub.status.busy": "2022-08-12T00:39:25.432654Z",
     "iopub.status.idle": "2022-08-12T00:39:25.444153Z",
     "shell.execute_reply": "2022-08-12T00:39:25.443738Z",
     "shell.execute_reply.started": "2022-08-12T00:39:25.432654Z"
    },
    "tags": []
   },
   "outputs": [
    {
     "data": {
      "image/png": "[encoded data removed]",
      "text/plain": [
       "<Figure size 300x300 with 1 Axes>"
      ]
     },
     "metadata": {},
     "output_type": "display_data"
    }
   ],
   "source": [
    "Ein_noparam = {comp:tuple(var for var in compvars if not model.idmapping[var].always_input) for comp,compvars in Ein.items()}\n",
    "edges_noparam = Ein_noparam, Eout, Rin\n",
    "_, ax = render_incidence(edges_noparam, tree, rawvarname=True, figsize=(3,3))"
   ]
  },
  {
   "cell_type": "markdown",
   "id": "7f34cc44",
   "metadata": {},
   "source": [
    "### Build openMDAO model"
   ]
  },
  {
   "cell_type": "code",
   "execution_count": 11,
   "id": "c2b1eeda-135d-4d3d-af17-ac5627f52573",
   "metadata": {
    "execution": {
     "iopub.execute_input": "2022-08-12T00:39:25.684226Z",
     "iopub.status.busy": "2022-08-12T00:39:25.683224Z",
     "iopub.status.idle": "2022-08-12T00:39:25.692226Z",
     "shell.execute_reply": "2022-08-12T00:39:25.691315Z",
     "shell.execute_reply.started": "2022-08-12T00:39:25.684226Z"
    },
    "tags": []
   },
   "outputs": [],
   "source": [
    "ordered_tree, ordered_edges = tree, edges\n",
    "comp_options, var_options, solvers_options = model.comp_options, model.var_options, model.solvers_options\n",
    "solvers_options[1].update({'optimizer': 'SLSQP'})\n",
    "solvers_options[2] = {'solver': 'N', 'maxiter':20}\n",
    "nodetyperepr = model.nametyperepr\n",
    "namingfunc = namefromsympy(nodetyperepr)\n",
    "sequence = order_from_tree(ordered_tree[0], ordered_tree[1], ordered_edges[1])\n",
    "solvers_options = default_solver_options(ordered_tree, solvers_options)\n",
    "wf = mdao_workflow(sequence, solvers_options, comp_options, var_options)\n",
    "components = model.components\n",
    "lookup_f = get_f(components, ordered_edges)\n",
    "wfmdao = mdao_workflow_with_args(wf, lookup_f, namingfunc)"
   ]
  },
  {
   "cell_type": "code",
   "execution_count": 12,
   "id": "05444af9-5c86-4e1a-81cd-3eda5bbecebb",
   "metadata": {
    "execution": {
     "iopub.execute_input": "2022-08-12T14:10:54.127169Z",
     "iopub.status.busy": "2022-08-12T14:10:54.127169Z",
     "iopub.status.idle": "2022-08-12T14:10:54.142871Z",
     "shell.execute_reply": "2022-08-12T14:10:54.142871Z",
     "shell.execute_reply.started": "2022-08-12T14:10:54.127169Z"
    }
   },
   "outputs": [
    {
     "data": {
      "text/plain": [
       "[(('A', 'W_0', 'P_b', '\\\\theta', '\\\\eta'), 0, ('P_c',), 'W_0*\\\\eta*A*cos(\\\\theta) - P_b'),\n",
       " (('P_c',), 1, ('P_b',), '10*Abs(P_c)**0.5'),\n",
       " (('\\\\alpha', 'P_c', 'h', '\\\\eta_t', 'D'), 2, ('R',), '\\\\alpha*\\\\eta_t*D**2*P_c/(16*h**2)'),\n",
       " (('A', 'c_4', 'c_2', 'P_b', 'c_1', 'c_3', 'D'), 3, ('C',), 'c_1*D**2 + c_2*A + c_3*P_b + c_4'),\n",
       " (('R',), 4, (None,), '1 - R'),\n",
       " (('C',), 5, (None,), 'C')]"
      ]
     },
     "execution_count": 12,
     "metadata": {},
     "output_type": "execute_result"
    }
   ],
   "source": [
    "components"
   ]
  },
  {
   "cell_type": "code",
   "execution_count": 13,
   "id": "bb0f9861-1e0a-4a3d-a019-1eb50f331a85",
   "metadata": {
    "execution": {
     "iopub.execute_input": "2022-08-12T14:13:38.163382Z",
     "iopub.status.busy": "2022-08-12T14:13:38.163382Z",
     "iopub.status.idle": "2022-08-12T14:13:38.467305Z",
     "shell.execute_reply": "2022-08-12T14:13:38.466818Z",
     "shell.execute_reply.started": "2022-08-12T14:13:38.163382Z"
    },
    "tags": []
   },
   "outputs": [
    {
     "data": {
      "text/plain": [
       "{(P_c, A): DeviceArray(483.30748494, dtype=float64),\n",
       " (P_c, W_0): DeviceArray(3.53553391, dtype=float64),\n",
       " (P_c, P_b): DeviceArray(-1., dtype=float64),\n",
       " (P_c, \\theta): DeviceArray(-4833.07484941, dtype=float64),\n",
       " (P_c, \\eta): DeviceArray(9666.14969882, dtype=float64)}"
      ]
     },
     "execution_count": 13,
     "metadata": {},
     "output_type": "execute_result"
    }
   ],
   "source": [
    "components[0].graddict({th:th.varval, Pbus:10, eta_a:eta_a.varval, A:10, W0:W0.varval})"
   ]
  },
  {
   "cell_type": "code",
   "execution_count": 14,
   "id": "eaddccda-aff4-41bd-8e8d-3cf6d951caf2",
   "metadata": {
    "execution": {
     "iopub.execute_input": "2022-08-12T14:13:58.645806Z",
     "iopub.status.busy": "2022-08-12T14:13:58.645806Z",
     "iopub.status.idle": "2022-08-12T14:13:58.691300Z",
     "shell.execute_reply": "2022-08-12T14:13:58.690303Z",
     "shell.execute_reply.started": "2022-08-12T14:13:58.645806Z"
    },
    "tags": []
   },
   "outputs": [
    {
     "data": {
      "text/plain": [
       "{(R, \\alpha): DeviceArray(7.8125e-18, dtype=float64),\n",
       " (R, P_c): DeviceArray(78.125, dtype=float64),\n",
       " (R, h): DeviceArray(-3.90625, dtype=float64),\n",
       " (R, \\eta_t): DeviceArray(4882.8125, dtype=float64),\n",
       " (R, D): DeviceArray(156.25, dtype=float64)}"
      ]
     },
     "execution_count": 14,
     "metadata": {},
     "output_type": "execute_result"
    }
   ],
   "source": [
    "components[2].graddict({eta_t:eta_t.varval, alpha:alpha.varval, D:10, P_t:10, S:S.varval})"
   ]
  },
  {
   "cell_type": "code",
   "execution_count": 15,
   "id": "a19172b4-95ee-4d2c-8728-6d1dbc800146",
   "metadata": {
    "execution": {
     "iopub.execute_input": "2022-08-12T14:51:34.710864Z",
     "iopub.status.busy": "2022-08-12T14:51:34.709867Z",
     "iopub.status.idle": "2022-08-12T14:51:34.773144Z",
     "shell.execute_reply": "2022-08-12T14:51:34.771925Z",
     "shell.execute_reply.started": "2022-08-12T14:51:34.710864Z"
    },
    "tags": []
   },
   "outputs": [
    {
     "data": {
      "text/plain": [
       "{(C, A): DeviceArray(12., dtype=float64),\n",
       " (C, c_4): DeviceArray(0.001, dtype=float64),\n",
       " (C, c_2): DeviceArray(0.01, dtype=float64),\n",
       " (C, P_b): DeviceArray(0.1, dtype=float64),\n",
       " (C, c_1): DeviceArray(0.1, dtype=float64),\n",
       " (C, c_3): DeviceArray(0.01, dtype=float64),\n",
       " (C, D): DeviceArray(50., dtype=float64)}"
      ]
     },
     "execution_count": 15,
     "metadata": {},
     "output_type": "execute_result"
    }
   ],
   "source": [
    "components[3].graddict({c1:c1.varval, D:10, c3:c3.varval, Pbus:10, c4:c4.varval, A:10, c2:c2.varval})"
   ]
  },
  {
   "cell_type": "code",
   "execution_count": 16,
   "id": "8f1ff29a-c5bd-4014-b1cb-973544523574",
   "metadata": {
    "execution": {
     "iopub.execute_input": "2022-08-12T14:54:20.891641Z",
     "iopub.status.busy": "2022-08-12T14:54:20.890637Z",
     "iopub.status.idle": "2022-08-12T14:54:20.914988Z",
     "shell.execute_reply": "2022-08-12T14:54:20.913992Z",
     "shell.execute_reply.started": "2022-08-12T14:54:20.891641Z"
    },
    "tags": []
   },
   "outputs": [],
   "source": [
    "prob, mdao_in, groups = build_archi(ordered_edges, ordered_tree, wfmdao, namingfunc, model.idmapping)"
   ]
  },
  {
   "cell_type": "code",
   "execution_count": 17,
   "id": "8efd2af9-31e2-4bdc-a4af-fba1d4165f20",
   "metadata": {
    "execution": {
     "iopub.execute_input": "2022-08-12T14:59:13.283163Z",
     "iopub.status.busy": "2022-08-12T14:59:13.282160Z",
     "iopub.status.idle": "2022-08-12T14:59:13.301159Z",
     "shell.execute_reply": "2022-08-12T14:59:13.300158Z",
     "shell.execute_reply.started": "2022-08-12T14:59:13.283163Z"
    },
    "tags": []
   },
   "outputs": [],
   "source": [
    "prob.set_val('D', 0.67)\n",
    "prob.set_val('A', 0.1)"
   ]
  },
  {
   "cell_type": "code",
   "execution_count": 18,
   "id": "bed64e3e-ab5d-4f0d-b2a0-4224f4a4945a",
   "metadata": {
    "execution": {
     "iopub.execute_input": "2022-08-12T14:59:13.879296Z",
     "iopub.status.busy": "2022-08-12T14:59:13.879296Z",
     "iopub.status.idle": "2022-08-12T14:59:14.048116Z",
     "shell.execute_reply": "2022-08-12T14:59:14.047208Z",
     "shell.execute_reply.started": "2022-08-12T14:59:13.879296Z"
    },
    "tags": []
   },
   "outputs": [
    {
     "name": "stdout",
     "output_type": "stream",
     "text": [
      "\n",
      "==\n",
      "s2\n",
      "==\n",
      "NL: Newton Converged in 5 iterations\n"
     ]
    }
   ],
   "source": [
    "prob.run_model();"
   ]
  },
  {
   "cell_type": "code",
   "execution_count": 19,
   "id": "64c45d3c-2051-4a62-8251-9429e577664c",
   "metadata": {
    "execution": {
     "iopub.execute_input": "2022-08-12T14:59:15.653644Z",
     "iopub.status.busy": "2022-08-12T14:59:15.652556Z",
     "iopub.status.idle": "2022-08-12T14:59:15.667653Z",
     "shell.execute_reply": "2022-08-12T14:59:15.666657Z",
     "shell.execute_reply.started": "2022-08-12T14:59:15.653644Z"
    },
    "tags": []
   },
   "outputs": [
    {
     "data": {
      "text/html": [
       "<style type=\"text/css\">\n",
       "</style>\n",
       "<table id=\"T_42a75\">\n",
       "  <thead>\n",
       "  </thead>\n",
       "  <tbody>\n",
       "    <tr>\n",
       "      <td id=\"T_42a75_row0_col0\" class=\"data row0 col0\" >$$P_c$$</td>\n",
       "      <td id=\"T_42a75_row0_col1\" class=\"data row0 col1\" >12.697</td>\n",
       "      <td id=\"T_42a75_row0_col2\" class=\"data row0 col2\" >W</td>\n",
       "    </tr>\n",
       "    <tr>\n",
       "      <td id=\"T_42a75_row1_col0\" class=\"data row1 col0\" >$$P_b$$</td>\n",
       "      <td id=\"T_42a75_row1_col1\" class=\"data row1 col1\" >35.633</td>\n",
       "      <td id=\"T_42a75_row1_col2\" class=\"data row1 col2\" >W</td>\n",
       "    </tr>\n",
       "    <tr>\n",
       "      <td id=\"T_42a75_row2_col0\" class=\"data row2 col0\" >$$R$$</td>\n",
       "      <td id=\"T_42a75_row2_col1\" class=\"data row2 col1\" >4.453</td>\n",
       "      <td id=\"T_42a75_row2_col2\" class=\"data row2 col2\" >MB/s</td>\n",
       "    </tr>\n",
       "    <tr>\n",
       "      <td id=\"T_42a75_row3_col0\" class=\"data row3 col0\" >$$C$$</td>\n",
       "      <td id=\"T_42a75_row3_col1\" class=\"data row3 col1\" >17.886</td>\n",
       "      <td id=\"T_42a75_row3_col2\" class=\"data row3 col2\" >kUSD</td>\n",
       "    </tr>\n",
       "  </tbody>\n",
       "</table>\n"
      ],
      "text/plain": [
       "<pandas.io.formats.style.Styler at 0x287684ee5e0>"
      ]
     },
     "execution_count": 19,
     "metadata": {},
     "output_type": "execute_result"
    }
   ],
   "source": [
    "print_outputs(model, prob, namingfunc, rounding=3)"
   ]
  },
  {
   "cell_type": "code",
   "execution_count": 20,
   "id": "9b0c4618-eb8e-40ea-8e8b-4cdb4417475b",
   "metadata": {
    "execution": {
     "iopub.execute_input": "2022-08-12T14:59:17.176249Z",
     "iopub.status.busy": "2022-08-12T14:59:17.175262Z",
     "iopub.status.idle": "2022-08-12T14:59:17.195585Z",
     "shell.execute_reply": "2022-08-12T14:59:17.194681Z",
     "shell.execute_reply.started": "2022-08-12T14:59:17.176249Z"
    },
    "tags": []
   },
   "outputs": [
    {
     "data": {
      "text/html": [
       "<style type=\"text/css\">\n",
       "</style>\n",
       "<table id=\"T_c67ee\">\n",
       "  <thead>\n",
       "  </thead>\n",
       "  <tbody>\n",
       "    <tr>\n",
       "      <td id=\"T_c67ee_row0_col0\" class=\"data row0 col0\" >$$A$$</td>\n",
       "      <td id=\"T_c67ee_row0_col1\" class=\"data row0 col1\" >0.1</td>\n",
       "      <td id=\"T_c67ee_row0_col2\" class=\"data row0 col2\" >m²</td>\n",
       "    </tr>\n",
       "    <tr>\n",
       "      <td id=\"T_c67ee_row1_col0\" class=\"data row1 col0\" >$$h$$</td>\n",
       "      <td id=\"T_c67ee_row1_col1\" class=\"data row1 col1\" >400</td>\n",
       "      <td id=\"T_c67ee_row1_col2\" class=\"data row1 col2\" >km</td>\n",
       "    </tr>\n",
       "    <tr>\n",
       "      <td id=\"T_c67ee_row2_col0\" class=\"data row2 col0\" >$$D$$</td>\n",
       "      <td id=\"T_c67ee_row2_col1\" class=\"data row2 col1\" >0.67</td>\n",
       "      <td id=\"T_c67ee_row2_col2\" class=\"data row2 col2\" >m</td>\n",
       "    </tr>\n",
       "  </tbody>\n",
       "</table>\n"
      ],
      "text/plain": [
       "<pandas.io.formats.style.Styler at 0x28769b491c0>"
      ]
     },
     "execution_count": 20,
     "metadata": {},
     "output_type": "execute_result"
    }
   ],
   "source": [
    "print_inputs(model, prob, namingfunc, mdao_in)"
   ]
  },
  {
   "cell_type": "code",
   "execution_count": 21,
   "id": "1da1a248-c8e0-4851-ae93-16e35010ad4d",
   "metadata": {
    "execution": {
     "iopub.execute_input": "2022-08-12T14:59:17.765890Z",
     "iopub.status.busy": "2022-08-12T14:59:17.765890Z",
     "iopub.status.idle": "2022-08-12T14:59:19.470831Z",
     "shell.execute_reply": "2022-08-12T14:59:19.469908Z",
     "shell.execute_reply.started": "2022-08-12T14:59:17.765890Z"
    },
    "tags": []
   },
   "outputs": [
    {
     "name": "stdout",
     "output_type": "stream",
     "text": [
      "\n",
      "==\n",
      "s2\n",
      "==\n",
      "NL: Newton Converged in 0 iterations\n",
      "\n",
      "==\n",
      "s2\n",
      "==\n",
      "NL: Newton Converged in 0 iterations\n",
      "\n",
      "==\n",
      "s2\n",
      "==\n",
      "NL: Newton Converged in 0 iterations\n",
      "\n",
      "==\n",
      "s2\n",
      "==\n",
      "NL: Newton Converged in 5 iterations\n",
      "\n",
      "==\n",
      "s2\n",
      "==\n",
      "NL: Newton Converged in 4 iterations\n",
      "\n",
      "==\n",
      "s2\n",
      "==\n",
      "NL: Newton Converged in 4 iterations\n",
      "\n",
      "==\n",
      "s2\n",
      "==\n",
      "NL: Newton Converged in 2 iterations\n",
      "\n",
      "==\n",
      "s2\n",
      "==\n",
      "NL: Newton Converged in 3 iterations\n",
      "\n",
      "==\n",
      "s2\n",
      "==\n",
      "NL: Newton Converged in 3 iterations\n",
      "\n",
      "==\n",
      "s2\n",
      "==\n",
      "NL: Newton Converged in 3 iterations\n",
      "\n",
      "==\n",
      "s2\n",
      "==\n",
      "NL: Newton Converged in 2 iterations\n",
      "Optimization terminated successfully    (Exit mode 0)\n",
      "            Current function value: 15.300923260384632\n",
      "            Iterations: 8\n",
      "            Function evaluations: 9\n",
      "            Gradient evaluations: 7\n",
      "Optimization Complete\n",
      "-----------------------------------\n"
     ]
    }
   ],
   "source": [
    "prob.run_driver();"
   ]
  },
  {
   "cell_type": "code",
   "execution_count": 22,
   "id": "f31d484e-c2b3-4697-a850-968ecab68a09",
   "metadata": {
    "execution": {
     "iopub.execute_input": "2022-08-12T14:05:07.237553Z",
     "iopub.status.busy": "2022-08-12T14:05:07.237553Z",
     "iopub.status.idle": "2022-08-12T14:05:07.401582Z",
     "shell.execute_reply": "2022-08-12T14:05:07.400581Z",
     "shell.execute_reply.started": "2022-08-12T14:05:07.237553Z"
    },
    "tags": []
   },
   "outputs": [
    {
     "data": {
      "text/html": [
       "<style type=\"text/css\">\n",
       "</style>\n",
       "<table id=\"T_8d43b\">\n",
       "  <thead>\n",
       "  </thead>\n",
       "  <tbody>\n",
       "    <tr>\n",
       "      <td id=\"T_8d43b_row0_col0\" class=\"data row0 col0\" >$$A$$</td>\n",
       "      <td id=\"T_8d43b_row0_col1\" class=\"data row0 col1\" >0.041</td>\n",
       "      <td id=\"T_8d43b_row0_col2\" class=\"data row0 col2\" >m²</td>\n",
       "    </tr>\n",
       "    <tr>\n",
       "      <td id=\"T_8d43b_row1_col0\" class=\"data row1 col0\" >$$h$$</td>\n",
       "      <td id=\"T_8d43b_row1_col1\" class=\"data row1 col1\" >400</td>\n",
       "      <td id=\"T_8d43b_row1_col2\" class=\"data row1 col2\" >km</td>\n",
       "    </tr>\n",
       "    <tr>\n",
       "      <td id=\"T_8d43b_row2_col0\" class=\"data row2 col0\" >$$D$$</td>\n",
       "      <td id=\"T_8d43b_row2_col1\" class=\"data row2 col1\" >0.67</td>\n",
       "      <td id=\"T_8d43b_row2_col2\" class=\"data row2 col2\" >m</td>\n",
       "    </tr>\n",
       "  </tbody>\n",
       "</table>\n"
      ],
      "text/plain": [
       "<pandas.io.formats.style.Styler at 0x28769e30ca0>"
      ]
     },
     "execution_count": 22,
     "metadata": {},
     "output_type": "execute_result"
    }
   ],
   "source": [
    "print_inputs(model, prob, namingfunc, mdao_in)"
   ]
  },
  {
   "cell_type": "code",
   "execution_count": 23,
   "id": "77f27f94-d295-4d0c-a7d1-4e44db20e6ad",
   "metadata": {
    "execution": {
     "iopub.execute_input": "2022-08-12T14:05:10.268418Z",
     "iopub.status.busy": "2022-08-12T14:05:10.268418Z",
     "iopub.status.idle": "2022-08-12T14:05:10.278537Z",
     "shell.execute_reply": "2022-08-12T14:05:10.277608Z",
     "shell.execute_reply.started": "2022-08-12T14:05:10.268418Z"
    },
    "tags": []
   },
   "outputs": [
    {
     "data": {
      "text/html": [
       "<style type=\"text/css\">\n",
       "</style>\n",
       "<table id=\"T_bf58e\">\n",
       "  <thead>\n",
       "  </thead>\n",
       "  <tbody>\n",
       "    <tr>\n",
       "      <td id=\"T_bf58e_row0_col0\" class=\"data row0 col0\" >$$P_c$$</td>\n",
       "      <td id=\"T_bf58e_row0_col1\" class=\"data row0 col1\" >2.8</td>\n",
       "      <td id=\"T_bf58e_row0_col2\" class=\"data row0 col2\" >W</td>\n",
       "    </tr>\n",
       "    <tr>\n",
       "      <td id=\"T_bf58e_row1_col0\" class=\"data row1 col0\" >$$P_b$$</td>\n",
       "      <td id=\"T_bf58e_row1_col1\" class=\"data row1 col1\" >16.9</td>\n",
       "      <td id=\"T_bf58e_row1_col2\" class=\"data row1 col2\" >W</td>\n",
       "    </tr>\n",
       "    <tr>\n",
       "      <td id=\"T_bf58e_row2_col0\" class=\"data row2 col0\" >$$R$$</td>\n",
       "      <td id=\"T_bf58e_row2_col1\" class=\"data row2 col1\" >1</td>\n",
       "      <td id=\"T_bf58e_row2_col2\" class=\"data row2 col2\" >MB/s</td>\n",
       "    </tr>\n",
       "    <tr>\n",
       "      <td id=\"T_bf58e_row3_col0\" class=\"data row3 col0\" >$$C$$</td>\n",
       "      <td id=\"T_bf58e_row3_col1\" class=\"data row3 col1\" >15.3</td>\n",
       "      <td id=\"T_bf58e_row3_col2\" class=\"data row3 col2\" >kUSD</td>\n",
       "    </tr>\n",
       "  </tbody>\n",
       "</table>\n"
      ],
      "text/plain": [
       "<pandas.io.formats.style.Styler at 0x28769e12670>"
      ]
     },
     "execution_count": 23,
     "metadata": {},
     "output_type": "execute_result"
    }
   ],
   "source": [
    "print_outputs(model, prob, namingfunc, rounding=1)"
   ]
  },
  {
   "cell_type": "code",
   "execution_count": 18,
   "id": "76472d77-0c4c-4c50-82be-118f7171b833",
   "metadata": {
    "execution": {
     "iopub.execute_input": "2022-06-30T01:26:50.969124Z",
     "iopub.status.busy": "2022-06-30T01:26:50.969124Z",
     "iopub.status.idle": "2022-06-30T01:26:50.972832Z",
     "shell.execute_reply": "2022-06-30T01:26:50.972714Z",
     "shell.execute_reply.started": "2022-06-30T01:26:50.969124Z"
    },
    "tags": []
   },
   "outputs": [],
   "source": [
    "recorder = om.SqliteRecorder('cases2.sqlite')"
   ]
  },
  {
   "cell_type": "code",
   "execution_count": 19,
   "id": "e41c0154-32b5-4df7-b8c5-d89c4ba7369e",
   "metadata": {
    "execution": {
     "iopub.execute_input": "2022-06-30T01:26:53.534981Z",
     "iopub.status.busy": "2022-06-30T01:26:53.534981Z",
     "iopub.status.idle": "2022-06-30T01:26:53.545753Z",
     "shell.execute_reply": "2022-06-30T01:26:53.545753Z",
     "shell.execute_reply.started": "2022-06-30T01:26:53.534981Z"
    },
    "tags": []
   },
   "outputs": [],
   "source": [
    "prob.model.s2.add_recorder(recorder)\n",
    "for key,val in ordered_tree[0].items():\n",
    "    s = groups[namingfunc(val, SOLVER)]\n",
    "    f = getattr(s, namingfunc(key, COMP))\n",
    "    f.recording_options['options_excludes'] = ['component']"
   ]
  },
  {
   "cell_type": "code",
   "execution_count": 21,
   "id": "4bf3a934-d032-4ea3-8671-3792dac0f22e",
   "metadata": {
    "execution": {
     "iopub.execute_input": "2022-06-30T01:27:02.962617Z",
     "iopub.status.busy": "2022-06-30T01:27:02.962617Z",
     "iopub.status.idle": "2022-06-30T01:27:03.040655Z",
     "shell.execute_reply": "2022-06-30T01:27:03.040655Z",
     "shell.execute_reply.started": "2022-06-30T01:27:02.962617Z"
    },
    "tags": []
   },
   "outputs": [],
   "source": [
    "prob.cleanup();"
   ]
  },
  {
   "cell_type": "code",
   "execution_count": 30,
   "id": "76d258d1-a4d0-4746-abee-a0ca52d04e58",
   "metadata": {
    "execution": {
     "iopub.execute_input": "2022-06-24T03:27:04.041535Z",
     "iopub.status.busy": "2022-06-24T03:27:04.041535Z",
     "iopub.status.idle": "2022-06-24T03:27:04.056535Z",
     "shell.execute_reply": "2022-06-24T03:27:04.055118Z",
     "shell.execute_reply.started": "2022-06-24T03:27:04.041535Z"
    }
   },
   "outputs": [],
   "source": [
    "update_varval(model, prob, namingfunc)"
   ]
  },
  {
   "cell_type": "code",
   "execution_count": 31,
   "id": "567ff902-1bea-4fa5-945d-78f5d8d511af",
   "metadata": {
    "execution": {
     "iopub.execute_input": "2022-06-24T03:27:05.196793Z",
     "iopub.status.busy": "2022-06-24T03:27:05.196793Z",
     "iopub.status.idle": "2022-06-24T03:27:05.256440Z",
     "shell.execute_reply": "2022-06-24T03:27:05.256440Z",
     "shell.execute_reply.started": "2022-06-24T03:27:05.196793Z"
    },
    "tags": []
   },
   "outputs": [
    {
     "data": {
      "text/latex": [
       "$16.874 \\ (P_c=2.847 )$"
      ],
      "text/plain": [
       "dummy"
      ]
     },
     "execution_count": 31,
     "metadata": {},
     "output_type": "execute_result"
    }
   ],
   "source": [
    "evalexpr(10*P_t**0.5)"
   ]
  },
  {
   "cell_type": "markdown",
   "id": "f11d28b4-f3ce-423d-8e23-f2c340b10ae4",
   "metadata": {},
   "source": [
    "# Formulation 2: restructured"
   ]
  },
  {
   "cell_type": "code",
   "execution_count": 32,
   "id": "f9c69df3-660d-4396-8a51-d1f749580080",
   "metadata": {
    "execution": {
     "iopub.execute_input": "2022-07-04T17:39:49.558109Z",
     "iopub.status.busy": "2022-07-04T17:39:49.558109Z",
     "iopub.status.idle": "2022-07-04T17:39:49.608607Z",
     "shell.execute_reply": "2022-07-04T17:39:49.607690Z",
     "shell.execute_reply.started": "2022-07-04T17:39:49.558109Z"
    },
    "tags": []
   },
   "outputs": [],
   "source": [
    "modelrstr = Model(solver=OPT)\n",
    "mrstr = modelrstr.root\n",
    "R = Var('R', unit='MB/s')\n",
    "adda(mrstr, P_t, R/(alpha*D**2*eta_t)*(16*S**2))\n",
    "adda(mrstr, Pbus, 10*P_t**0.5)\n",
    "adda(mrstr, A, (Pbus+P_t)/(eta_a*W0*sp.cos(th)))\n",
    "C = adda(mrstr, 'C', c1*D**2+c2*A+c3*Pbus+c4, unit='kUSD')\n",
    "addobj(mrstr, C)"
   ]
  },
  {
   "cell_type": "code",
   "execution_count": 33,
   "id": "216f2356-3d55-40f8-a794-f53159bd249e",
   "metadata": {
    "execution": {
     "iopub.execute_input": "2022-07-04T17:39:55.328544Z",
     "iopub.status.busy": "2022-07-04T17:39:55.328544Z",
     "iopub.status.idle": "2022-07-04T17:39:55.338824Z",
     "shell.execute_reply": "2022-07-04T17:39:55.338049Z",
     "shell.execute_reply.started": "2022-07-04T17:39:55.328544Z"
    },
    "tags": []
   },
   "outputs": [],
   "source": [
    "setsolvefor(mrstr, [D], {D:[0,10]})"
   ]
  },
  {
   "cell_type": "code",
   "execution_count": 34,
   "id": "16337481-a192-42c0-bc52-f24687832b74",
   "metadata": {
    "execution": {
     "iopub.execute_input": "2022-07-04T17:39:55.707264Z",
     "iopub.status.busy": "2022-07-04T17:39:55.707264Z",
     "iopub.status.idle": "2022-07-04T17:39:55.716067Z",
     "shell.execute_reply": "2022-07-04T17:39:55.715844Z",
     "shell.execute_reply.started": "2022-07-04T17:39:55.707264Z"
    },
    "tags": []
   },
   "outputs": [],
   "source": [
    "edges, tree = modelrstr.generate_formulation()"
   ]
  },
  {
   "cell_type": "code",
   "execution_count": 35,
   "id": "5f262cb7-4bf3-4e56-801e-0ee7e69867da",
   "metadata": {
    "execution": {
     "iopub.execute_input": "2022-07-04T17:39:56.097279Z",
     "iopub.status.busy": "2022-07-04T17:39:56.097279Z",
     "iopub.status.idle": "2022-07-04T17:39:56.113507Z",
     "shell.execute_reply": "2022-07-04T17:39:56.113374Z",
     "shell.execute_reply.started": "2022-07-04T17:39:56.097279Z"
    },
    "tags": []
   },
   "outputs": [],
   "source": [
    "ordered_tree, ordered_edges = tree, edges\n",
    "comp_options,var_options,solvers_options = modelrstr.comp_options, modelrstr.var_options, modelrstr.solvers_options\n",
    "nodetyperepr = modelrstr.nametyperepr\n",
    "namingfunc = namefromsympy(nodetyperepr)\n",
    "sequence = order_from_tree(ordered_tree[0], ordered_tree[1], ordered_edges[1])\n",
    "solvers_options = default_solver_options(ordered_tree, solvers_options)\n",
    "wf = mdao_workflow(sequence, solvers_options, comp_options, var_options)\n",
    "components = modelrstr.components\n",
    "lookup_f = get_f(components, ordered_edges)\n",
    "wfmdao = mdao_workflow_with_args(wf, lookup_f, namingfunc)"
   ]
  },
  {
   "cell_type": "code",
   "execution_count": 36,
   "id": "868901c4-b7ab-4af7-acf0-33c73c88d1bc",
   "metadata": {
    "execution": {
     "iopub.execute_input": "2022-07-04T17:46:54.388829Z",
     "iopub.status.busy": "2022-07-04T17:46:54.388829Z",
     "iopub.status.idle": "2022-07-04T17:46:54.413186Z",
     "shell.execute_reply": "2022-07-04T17:46:54.413186Z",
     "shell.execute_reply.started": "2022-07-04T17:46:54.388829Z"
    },
    "tags": []
   },
   "outputs": [],
   "source": [
    "prob, mdao_in, groups = build_archi(ordered_edges, ordered_tree, wfmdao, namingfunc, modelrstr.idmapping)"
   ]
  },
  {
   "cell_type": "code",
   "execution_count": 37,
   "id": "6fb4987c-07b3-46a1-91c7-082b03c702d1",
   "metadata": {
    "execution": {
     "iopub.execute_input": "2022-07-04T17:46:54.710722Z",
     "iopub.status.busy": "2022-07-04T17:46:54.710722Z",
     "iopub.status.idle": "2022-07-04T17:46:54.719427Z",
     "shell.execute_reply": "2022-07-04T17:46:54.718838Z",
     "shell.execute_reply.started": "2022-07-04T17:46:54.710722Z"
    },
    "tags": []
   },
   "outputs": [],
   "source": [
    "R.varval = 1\n",
    "prob.set_val('R', 1.003)\n",
    "#D.varval = 0.001\n",
    "#prob.set_val('D', 0.43057)"
   ]
  },
  {
   "cell_type": "code",
   "execution_count": 38,
   "id": "47c1b5c1-fe35-411c-bd47-c380ce8423c0",
   "metadata": {
    "execution": {
     "iopub.execute_input": "2022-07-04T17:46:55.250775Z",
     "iopub.status.busy": "2022-07-04T17:46:55.250775Z",
     "iopub.status.idle": "2022-07-04T17:46:55.271830Z",
     "shell.execute_reply": "2022-07-04T17:46:55.271142Z",
     "shell.execute_reply.started": "2022-07-04T17:46:55.250775Z"
    },
    "tags": []
   },
   "outputs": [],
   "source": [
    "prob.run_model()"
   ]
  },
  {
   "cell_type": "code",
   "execution_count": 39,
   "id": "260c92e5-8e9e-4f14-92a9-cd411ad1c0c5",
   "metadata": {
    "execution": {
     "iopub.execute_input": "2022-07-04T17:46:49.617772Z",
     "iopub.status.busy": "2022-07-04T17:46:49.617772Z",
     "iopub.status.idle": "2022-07-04T17:46:50.717125Z",
     "shell.execute_reply": "2022-07-04T17:46:50.717125Z",
     "shell.execute_reply.started": "2022-07-04T17:46:49.617772Z"
    },
    "tags": []
   },
   "outputs": [
    {
     "name": "stdout",
     "output_type": "stream",
     "text": [
      "Optimization terminated successfully    (Exit mode 0)\n",
      "            Current function value: 15.304291583353413\n",
      "            Iterations: 5\n",
      "            Function evaluations: 9\n",
      "            Gradient evaluations: 5\n",
      "Optimization Complete\n",
      "-----------------------------------\n"
     ]
    }
   ],
   "source": [
    "prob.run_driver();"
   ]
  },
  {
   "cell_type": "code",
   "execution_count": 41,
   "id": "c630390c-8d59-4468-b1dd-f914c73ac8c2",
   "metadata": {
    "execution": {
     "iopub.execute_input": "2022-07-04T17:46:58.408056Z",
     "iopub.status.busy": "2022-07-04T17:46:58.408056Z",
     "iopub.status.idle": "2022-07-04T17:46:58.432883Z",
     "shell.execute_reply": "2022-07-04T17:46:58.432883Z",
     "shell.execute_reply.started": "2022-07-04T17:46:58.408056Z"
    },
    "tags": []
   },
   "outputs": [
    {
     "data": {
      "text/html": [
       "<style type=\"text/css\">\n",
       "</style>\n",
       "<table id=\"T_c1034\">\n",
       "  <thead>\n",
       "  </thead>\n",
       "  <tbody>\n",
       "    <tr>\n",
       "      <td id=\"T_c1034_row0_col0\" class=\"data row0 col0\" >$$R$$</td>\n",
       "      <td id=\"T_c1034_row0_col1\" class=\"data row0 col1\" >1.003</td>\n",
       "      <td id=\"T_c1034_row0_col2\" class=\"data row0 col2\" >MB/s</td>\n",
       "    </tr>\n",
       "    <tr>\n",
       "      <td id=\"T_c1034_row1_col0\" class=\"data row1 col0\" >$$h$$</td>\n",
       "      <td id=\"T_c1034_row1_col1\" class=\"data row1 col1\" >400</td>\n",
       "      <td id=\"T_c1034_row1_col2\" class=\"data row1 col2\" >km</td>\n",
       "    </tr>\n",
       "    <tr>\n",
       "      <td id=\"T_c1034_row2_col0\" class=\"data row2 col0\" >$$D$$</td>\n",
       "      <td id=\"T_c1034_row2_col1\" class=\"data row2 col1\" >0.671</td>\n",
       "      <td id=\"T_c1034_row2_col2\" class=\"data row2 col2\" >m</td>\n",
       "    </tr>\n",
       "  </tbody>\n",
       "</table>\n"
      ],
      "text/plain": [
       "<pandas.io.formats.style.Styler at 0x2876837f130>"
      ]
     },
     "execution_count": 41,
     "metadata": {},
     "output_type": "execute_result"
    }
   ],
   "source": [
    "print_inputs(modelrstr, prob, namingfunc, mdao_in)"
   ]
  },
  {
   "cell_type": "code",
   "execution_count": 43,
   "id": "937ab032-af4d-4243-9d5b-71ceb04f4101",
   "metadata": {
    "execution": {
     "iopub.execute_input": "2022-07-04T17:47:00.283168Z",
     "iopub.status.busy": "2022-07-04T17:47:00.283168Z",
     "iopub.status.idle": "2022-07-04T17:47:00.299209Z",
     "shell.execute_reply": "2022-07-04T17:47:00.298367Z",
     "shell.execute_reply.started": "2022-07-04T17:47:00.283168Z"
    },
    "tags": []
   },
   "outputs": [
    {
     "data": {
      "text/html": [
       "<style type=\"text/css\">\n",
       "</style>\n",
       "<table id=\"T_b8a4f\">\n",
       "  <thead>\n",
       "  </thead>\n",
       "  <tbody>\n",
       "    <tr>\n",
       "      <td id=\"T_b8a4f_row0_col0\" class=\"data row0 col0\" >$$P_c$$</td>\n",
       "      <td id=\"T_b8a4f_row0_col1\" class=\"data row0 col1\" >2.853</td>\n",
       "      <td id=\"T_b8a4f_row0_col2\" class=\"data row0 col2\" >W</td>\n",
       "    </tr>\n",
       "    <tr>\n",
       "      <td id=\"T_b8a4f_row1_col0\" class=\"data row1 col0\" >$$P_b$$</td>\n",
       "      <td id=\"T_b8a4f_row1_col1\" class=\"data row1 col1\" >16.891</td>\n",
       "      <td id=\"T_b8a4f_row1_col2\" class=\"data row1 col2\" >W</td>\n",
       "    </tr>\n",
       "    <tr>\n",
       "      <td id=\"T_b8a4f_row2_col0\" class=\"data row2 col0\" >$$A$$</td>\n",
       "      <td id=\"T_b8a4f_row2_col1\" class=\"data row2 col1\" >0.041</td>\n",
       "      <td id=\"T_b8a4f_row2_col2\" class=\"data row2 col2\" >m²</td>\n",
       "    </tr>\n",
       "    <tr>\n",
       "      <td id=\"T_b8a4f_row3_col0\" class=\"data row3 col0\" >$$C$$</td>\n",
       "      <td id=\"T_b8a4f_row3_col1\" class=\"data row3 col1\" >15.304</td>\n",
       "      <td id=\"T_b8a4f_row3_col2\" class=\"data row3 col2\" >kUSD</td>\n",
       "    </tr>\n",
       "  </tbody>\n",
       "</table>\n"
      ],
      "text/plain": [
       "<pandas.io.formats.style.Styler at 0x2876850d6a0>"
      ]
     },
     "execution_count": 43,
     "metadata": {},
     "output_type": "execute_result"
    }
   ],
   "source": [
    "print_outputs(modelrstr, prob, namingfunc, rounding=3)"
   ]
  }
 ],
 "metadata": {
  "kernelspec": {
   "display_name": "minimdo",
   "language": "python",
   "name": "python3"
  },
  "language_info": {
   "codemirror_mode": {
    "name": "ipython",
    "version": 3
   },
   "file_extension": ".py",
   "mimetype": "text/x-python",
   "name": "python",
   "nbconvert_exporter": "python",
   "pygments_lexer": "ipython3",
   "version": "3.9.18"
  }
 },
 "nbformat": 4,
 "nbformat_minor": 5
}
