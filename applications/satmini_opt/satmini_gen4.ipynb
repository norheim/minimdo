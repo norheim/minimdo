{
 "cells": [
  {
   "cell_type": "code",
   "execution_count": 1,
   "metadata": {},
   "outputs": [],
   "source": [
    "from src.v1.symbolic import Var, Par\n",
    "from src.v3.nesting import edges_no_param\n",
    "from src.v4.problem import Subproblem, intersection\n",
    "from dev.sandbox.v4.constants import μ, R, Q, c, k\n",
    "import numpy as np\n",
    "import sympy as sp"
   ]
  },
  {
   "cell_type": "code",
   "execution_count": 2,
   "metadata": {},
   "outputs": [
    {
     "data": {
      "text/latex": [
       "$m_t=1.449\\ \\mathrm{kg}\\ (m_s=0.2 )$"
      ],
      "text/plain": [
       "m_t"
      ]
     },
     "execution_count": 2,
     "metadata": {},
     "output_type": "execute_result"
    }
   ],
   "source": [
    "P1 = Subproblem('orbit')\n",
    "h = Var('h', 400, 'km') #\n",
    "a = P1.Var('a', h + R, unit='km')\n",
    "T = P1.Var('T', 2*np.pi*(a**3/μ)**0.5, unit='min')\n",
    "g = P1.Var('g', 1/np.pi*sp.acos(R/a), unit='')\n",
    "d = P1.Var('d', g+0.5)\n",
    "r = P1.Var('r', (h**2+2*R*h)**0.5, unit='km')\n",
    "\n",
    "P2 = Subproblem('power')\n",
    "eta_A = Par(r'\\eta_A', 0.3)\n",
    "rho_A = Par(r'\\rho_A', 10, 'kg/m^2')   # Solar array surface density\n",
    "rho_b = Par(r'\\rho_b', 0.002, 'kg/kJ') # Battery energy density\n",
    "P_l = Par('P_l', 12, 'W')\n",
    "A = Var('A', 0.05, unit='m^2')\n",
    "m_A = P2.Var('m_A', rho_A*A, unit='kg') #mass solar array\n",
    "P_c = P2.Var('P_c', d*A*Q*eta_A, unit='W')\n",
    "P_T = P2.Var('P_T', P_c-P_l, unit='W') #hack\n",
    "E_b = P2.Var('E_b', P_c*T/d, unit='kJ')\n",
    "m_b = P2.Var('m_b', rho_b*E_b, unit='kg')\n",
    "\n",
    "P3 = Subproblem('payload')\n",
    "l_v = Par('l_v', 500, 'nm')\n",
    "N = Par('N', 2e3, '')\n",
    "B = Par('B', 8, 'bit')\n",
    "rho_p = Par(r'\\rho_p', 2, 'kg/m^1.5') \n",
    "X_r = Var('X_r', 5, 'm')\n",
    "D_p = P3.Var('D_p', 1.22*l_v*h/X_r)\n",
    "D = P3.Var('D', 2*np.pi*R*B*N/X_r, unit='GB')\n",
    "m_p = P3.Var('m_p', rho_p*D_p**1.5, unit='kg')\n",
    "\n",
    "P4 = Subproblem('comms')\n",
    "dBtoLinear = lambda db: 10**(db/10)\n",
    "f = Par('f', 2.2, 'GHz')\n",
    "D_r = Par('D_r', 5.3, 'm')\n",
    "eta = Par(r'\\eta_c', 0.55)\n",
    "G_T = Par('G_T', dBtoLinear(16.5), '')\n",
    "L = Par('L', dBtoLinear(1+8.5+0.3+0.1))\n",
    "T_s = Par('T_s', 135, 'K')\n",
    "rho_T = Par(r'\\rho_T', 0.2, 'kg/m^1.5')\n",
    "b = P4.Var('b', D/(g*T), unit='MB/s')\n",
    "λ_c = P4.Var(r'\\lambda_c', c/f, unit='cm')\n",
    "D_T = P4.Var('D_T', λ_c*(G_T/eta)**0.5/np.pi, unit='m')\n",
    "m_T = P4.Var('m_T', rho_T*D_T**1.5, unit='kg')\n",
    "G_r = P4.Var('G_r', eta*(np.pi*D_r/λ_c)**2)\n",
    "EN = P4.Var('EN', P_T*G_r*G_T/(L*k*T_s*b)*(λ_c/(4*np.pi*r))**2, unit='')\n",
    "\n",
    "P5 = Subproblem('struct')\n",
    "mt = Var('m_t', unit='kg')\n",
    "eta_S = Par(r'\\eta_S', 0.2)\n",
    "m_s = P5.Var('m_s', eta_S*mt, unit='kg')\n",
    "\n",
    "P6 = Subproblem('mass')\n",
    "m_pr = Var('m_{pr}', 0.5, unit='kg')\n",
    "P6.add_equation(mt, m_p+m_b+m_A+m_s+m_pr)"
   ]
  },
  {
   "cell_type": "code",
   "execution_count": 3,
   "metadata": {},
   "outputs": [
    {
     "data": {
      "text/plain": [
       "([D, g, T, P_T, r], [b, \\lambda_c, D_T, m_T, G_r, EN])"
      ]
     },
     "execution_count": 3,
     "metadata": {},
     "output_type": "execute_result"
    }
   ],
   "source": [
    "[vr for vr in P4.projected if not vr.always_input], P4.independent"
   ]
  },
  {
   "cell_type": "code",
   "execution_count": 4,
   "metadata": {},
   "outputs": [],
   "source": [
    "# P2.solve(lookup_projected=True) # plug in for Var and Par values that have already been set\n",
    "# P2.solve({A: 0.1}, lookup_projected=True) # plug in for Var and Par values that have already been set, override any values in the dictionary\n",
    "# P2.solve({A: 0.5}, lookup_projected=True, save_projected=True) # plug in for Var and Par values that have already been set, override any values in the dictionary, and save these values to the existing Var"
   ]
  },
  {
   "cell_type": "code",
   "execution_count": 5,
   "metadata": {},
   "outputs": [],
   "source": [
    "subproblems = [P1, P2, P3, P4, P5, P6]\n",
    "P = intersection(*subproblems, mergesets=False)"
   ]
  },
  {
   "cell_type": "code",
   "execution_count": 6,
   "metadata": {},
   "outputs": [],
   "source": [
    "from src.v2.execution import edges_from_components\n",
    "from graph.matrixview import render_incidence"
   ]
  },
  {
   "cell_type": "code",
   "execution_count": 7,
   "metadata": {},
   "outputs": [],
   "source": [
    "subproblem = P\n",
    "edges = edges_from_components(subproblem.components)\n",
    "tree = subproblem.Ftree, subproblem.Stree, subproblem.Vtree"
   ]
  },
  {
   "cell_type": "code",
   "execution_count": 8,
   "metadata": {},
   "outputs": [],
   "source": [
    "from src.v2.runpipeline import run_valid_formulation\n",
    "from graph.graphutils import VAR, COMP, SOLVER"
   ]
  },
  {
   "cell_type": "code",
   "execution_count": 9,
   "metadata": {},
   "outputs": [],
   "source": [
    "solver_options = {P.id: {'solver':'N', 'iprint': True}}\n",
    "solver_options.update({P.id: {'solver':'N', 'iprint': False } for P in subproblems})\n",
    "comp_options = {}\n",
    "var_options = {}\n",
    "nametyperepr = {VAR: '{}', COMP: 'f{}', SOLVER: 's{}'}\n",
    "prob, mdao_in, groups = run_valid_formulation(edges, tree, P.components, solver_options, comp_options, var_options, nametyperepr)\n",
    "P.prob = prob"
   ]
  },
  {
   "cell_type": "code",
   "execution_count": 10,
   "metadata": {},
   "outputs": [
    {
     "name": "stdout",
     "output_type": "stream",
     "text": [
      "\n",
      "==\n",
      "s6\n",
      "==\n",
      "+  \n",
      "+  =====\n",
      "+  s6.s0\n",
      "+  =====\n",
      "+  NL: Newton Converged in 0 iterations\n",
      "+  \n",
      "+  =====\n",
      "+  s6.s2\n",
      "+  =====\n",
      "+  NL: Newton Converged in 0 iterations\n",
      "+  \n",
      "+  =====\n",
      "+  s6.s3\n",
      "+  =====\n",
      "+  NL: Newton Converged in 0 iterations\n",
      "+  \n",
      "+  =====\n",
      "+  s6.s4\n",
      "+  =====\n",
      "+  NL: Newton Converged in 0 iterations\n",
      "+  \n",
      "+  =====\n",
      "+  s6.s5\n",
      "+  =====\n",
      "+  NL: Newton Converged in 0 iterations\n",
      "+  \n",
      "+  =====\n",
      "+  s6.s0\n",
      "+  =====\n",
      "+  NL: Newton Converged in 0 iterations\n",
      "+  \n",
      "+  =====\n",
      "+  s6.s2\n",
      "+  =====\n",
      "+  NL: Newton Converged in 0 iterations\n",
      "+  \n",
      "+  =====\n",
      "+  s6.s3\n",
      "+  =====\n",
      "+  NL: Newton Converged in 0 iterations\n",
      "+  \n",
      "+  =====\n",
      "+  s6.s4\n",
      "+  =====\n",
      "+  NL: Newton Converged in 0 iterations\n",
      "+  \n",
      "+  =====\n",
      "+  s6.s5\n",
      "+  =====\n",
      "+  NL: Newton Converged in 0 iterations\n",
      "NL: Newton Converged in 1 iterations\n"
     ]
    }
   ],
   "source": [
    "coupled_sol = P.solve_with_engine({h:400, A:0.07})"
   ]
  },
  {
   "cell_type": "code",
   "execution_count": 11,
   "metadata": {},
   "outputs": [
    {
     "data": {
      "text/plain": [
       "{b: array(26.26379288),\n",
       " \\lambda_c: array(13.59090909),\n",
       " D_T: array(0.38986773),\n",
       " m_T: array(0.04868621),\n",
       " G_r: array(8255.00154877),\n",
       " EN: array(11.79709497)}"
      ]
     },
     "execution_count": 11,
     "metadata": {},
     "output_type": "execute_result"
    }
   ],
   "source": [
    "P4.solve(coupled_sol)"
   ]
  },
  {
   "cell_type": "code",
   "execution_count": 12,
   "metadata": {},
   "outputs": [
    {
     "data": {
      "image/png": "[encoded data removed]",
      "text/plain": [
       "<Figure size 1000x1000 with 1 Axes>"
      ]
     },
     "metadata": {},
     "output_type": "display_data"
    }
   ],
   "source": [
    "from collections import namedtuple\n",
    "from itertools import chain\n",
    "Model = namedtuple('Model', 'idmapping')\n",
    "render_incidence(edges_no_param(Model({str(v): v for v in chain(P.projected, P.independent)}), edges), tree, rawvarname=True, figsize=(10, 10), diagonalgray=False, hideticks=True);"
   ]
  },
  {
   "cell_type": "code",
   "execution_count": 13,
   "metadata": {},
   "outputs": [],
   "source": [
    "from src.v4.problem import problem"
   ]
  },
  {
   "cell_type": "code",
   "execution_count": 15,
   "metadata": {},
   "outputs": [],
   "source": [
    "objective_function = mt\n",
    "EbNoreq = Par('EN_r', 14.125)\n",
    "inequalities = [-EN+EbNoreq]\n",
    "discipline_set = [P1, P2, P3, P4, P5, P6]\n",
    "merged_discipline = intersection(*discipline_set, mergesets=False)\n",
    "P = problem(mt, inequalities, [merged_discipline], flatten=False) # IDF strategy"
   ]
  },
  {
   "cell_type": "code",
   "execution_count": 16,
   "metadata": {},
   "outputs": [
    {
     "data": {
      "text/plain": [
       "({7: {'type': OPT}}, {21: OBJ, 22: NEQ})"
      ]
     },
     "execution_count": 16,
     "metadata": {},
     "output_type": "execute_result"
    }
   ],
   "source": [
    "P.solver_options, P.comp_options"
   ]
  },
  {
   "cell_type": "code",
   "execution_count": 17,
   "metadata": {},
   "outputs": [],
   "source": [
    "edges = edges_from_components(P.components)\n",
    "# edges_no_par = edges_no_param(Model({str(v): v for v in chain(P.projected, P.independent)}), edges)\n",
    "tree = P.Ftree, P.Stree, {'h': 1, 'A':1}\n",
    "solver_options = P.solver_options\n",
    "comp_options = P.comp_options\n",
    "var_options = {}"
   ]
  },
  {
   "cell_type": "code",
   "execution_count": 18,
   "metadata": {},
   "outputs": [],
   "source": [
    "nametyperepr = {VAR: '{}', COMP: 'f{}', SOLVER: 's{}'}\n",
    "prob, mdao_in, groups = run_valid_formulation(edges, tree, P.components, solver_options, comp_options, var_options, nametyperepr)"
   ]
  },
  {
   "cell_type": "code",
   "execution_count": 19,
   "metadata": {},
   "outputs": [
    {
     "name": "stdout",
     "output_type": "stream",
     "text": [
      "\n",
      "==\n",
      "s6\n",
      "==\n",
      "+  \n",
      "+  =====\n",
      "+  s6.s0\n",
      "+  =====\n",
      "+  NL: Newton Converged in 0 iterations\n",
      "+  \n",
      "+  =====\n",
      "+  s6.s1\n",
      "+  =====\n",
      "+  NL: Newton Converged in 0 iterations\n",
      "+  \n",
      "+  =====\n",
      "+  s6.s2\n",
      "+  =====\n",
      "+  NL: Newton Converged in 0 iterations\n",
      "+  \n",
      "+  =====\n",
      "+  s6.s3\n",
      "+  =====\n",
      "+  NL: Newton Converged in 0 iterations\n",
      "+  \n",
      "+  =====\n",
      "+  s6.s4\n",
      "+  =====\n",
      "+  NL: Newton Converged in 0 iterations\n",
      "+  \n",
      "+  =====\n",
      "+  s6.s5\n",
      "+  =====\n",
      "+  NL: Newton Converged in 0 iterations\n",
      "+  \n",
      "+  =====\n",
      "+  s6.s0\n",
      "+  =====\n",
      "+  NL: Newton Converged in 0 iterations\n",
      "+  \n",
      "+  =====\n",
      "+  s6.s1\n",
      "+  =====\n",
      "+  NL: Newton Converged in 0 iterations\n",
      "+  \n",
      "+  =====\n",
      "+  s6.s2\n",
      "+  =====\n",
      "+  NL: Newton Converged in 0 iterations\n",
      "+  \n",
      "+  =====\n",
      "+  s6.s3\n",
      "+  =====\n",
      "+  NL: Newton Converged in 0 iterations\n",
      "+  \n",
      "+  =====\n",
      "+  s6.s4\n",
      "+  =====\n",
      "+  NL: Newton Converged in 0 iterations\n",
      "+  \n",
      "+  =====\n",
      "+  s6.s5\n",
      "+  =====\n",
      "+  NL: Newton Converged in 0 iterations\n",
      "NL: Newton Converged in 1 iterations\n"
     ]
    },
    {
     "data": {
      "text/plain": [
       "{a: array([6778.]),\n",
       " T: array([92.55759153]),\n",
       " g: array([0.1099015]),\n",
       " d: array([0.6099015]),\n",
       " r: array([2293.99215343]),\n",
       " m_A: array([0.7]),\n",
       " P_c: array([17.50844246]),\n",
       " P_T: array([5.50844246]),\n",
       " E_b: array([159.4230468]),\n",
       " m_b: array([0.31884609]),\n",
       " D_p: array([0.0488]),\n",
       " D: array([16.02966236]),\n",
       " m_p: array([0.02156054]),\n",
       " b: array([26.26379288]),\n",
       " \\lambda_c: array([13.59090909]),\n",
       " D_T: array([0.38986773]),\n",
       " m_T: array([0.04868621]),\n",
       " G_r: array([8255.00154877]),\n",
       " EN: array([11.79709497]),\n",
       " m_s: array([0.38510166]),\n",
       " m_t: array([1.9255083])}"
      ]
     },
     "execution_count": 19,
     "metadata": {},
     "output_type": "execute_result"
    }
   ],
   "source": [
    "P.prob = prob\n",
    "P.solve_with_engine({h:400, A:0.07})"
   ]
  },
  {
   "cell_type": "code",
   "execution_count": 20,
   "metadata": {},
   "outputs": [
    {
     "name": "stdout",
     "output_type": "stream",
     "text": [
      "\n",
      "==\n",
      "s6\n",
      "==\n",
      "+  \n",
      "+  =====\n",
      "+  s6.s0\n",
      "+  =====\n",
      "+  NL: Newton Converged in 0 iterations\n",
      "+  \n",
      "+  =====\n",
      "+  s6.s1\n",
      "+  =====\n",
      "+  NL: Newton Converged in 0 iterations\n",
      "+  \n",
      "+  =====\n",
      "+  s6.s2\n",
      "+  =====\n",
      "+  NL: Newton Converged in 0 iterations\n",
      "+  \n",
      "+  =====\n",
      "+  s6.s3\n",
      "+  =====\n",
      "+  NL: Newton Converged in 0 iterations\n",
      "+  \n",
      "+  =====\n",
      "+  s6.s4\n",
      "+  =====\n",
      "+  NL: Newton Converged in 0 iterations\n",
      "+  \n",
      "+  =====\n",
      "+  s6.s5\n",
      "+  =====\n",
      "+  NL: Newton Converged in 0 iterations\n",
      "NL: Newton Converged in 0 iterations\n"
     ]
    },
    {
     "ename": "ValueError",
     "evalue": "not enough values to unpack (expected 2, got 0)",
     "output_type": "error",
     "traceback": [
      "\u001b[1;31m---------------------------------------------------------------------------\u001b[0m",
      "\u001b[1;31mValueError\u001b[0m                                Traceback (most recent call last)",
      "Input \u001b[1;32mIn [20]\u001b[0m, in \u001b[0;36m<cell line: 1>\u001b[1;34m()\u001b[0m\n\u001b[1;32m----> 1\u001b[0m \u001b[43mprob\u001b[49m\u001b[38;5;241;43m.\u001b[39;49m\u001b[43mrun_driver\u001b[49m\u001b[43m(\u001b[49m\u001b[43m)\u001b[49m\n",
      "File \u001b[1;32mc:\\Users\\johan\\miniconda3\\envs\\minimdo\\lib\\site-packages\\openmdao\\core\\problem.py:811\u001b[0m, in \u001b[0;36mProblem.run_driver\u001b[1;34m(self, case_prefix, reset_iter_counts)\u001b[0m\n\u001b[0;32m    808\u001b[0m     record_model_options(\u001b[38;5;28mself\u001b[39m, \u001b[38;5;28mself\u001b[39m\u001b[38;5;241m.\u001b[39m_run_counter)\n\u001b[0;32m    810\u001b[0m     \u001b[38;5;28mself\u001b[39m\u001b[38;5;241m.\u001b[39mmodel\u001b[38;5;241m.\u001b[39m_clear_iprint()\n\u001b[1;32m--> 811\u001b[0m     \u001b[38;5;28;01mreturn\u001b[39;00m \u001b[38;5;28;43mself\u001b[39;49m\u001b[38;5;241;43m.\u001b[39;49m\u001b[43mdriver\u001b[49m\u001b[38;5;241;43m.\u001b[39;49m\u001b[43mrun\u001b[49m\u001b[43m(\u001b[49m\u001b[43m)\u001b[49m\n\u001b[0;32m    812\u001b[0m \u001b[38;5;28;01mfinally\u001b[39;00m:\n\u001b[0;32m    813\u001b[0m     \u001b[38;5;28mself\u001b[39m\u001b[38;5;241m.\u001b[39m_recording_iter\u001b[38;5;241m.\u001b[39mprefix \u001b[38;5;241m=\u001b[39m old_prefix\n",
      "File \u001b[1;32mc:\\Users\\johan\\miniconda3\\envs\\minimdo\\lib\\site-packages\\openmdao\\drivers\\scipy_optimizer.py:434\u001b[0m, in \u001b[0;36mScipyOptimizeDriver.run\u001b[1;34m(self)\u001b[0m\n\u001b[0;32m    431\u001b[0m     \u001b[38;5;28;01mif\u001b[39;00m \u001b[38;5;28mself\u001b[39m\u001b[38;5;241m.\u001b[39m_problem()\u001b[38;5;241m.\u001b[39mcomm\u001b[38;5;241m.\u001b[39mrank \u001b[38;5;241m!=\u001b[39m \u001b[38;5;241m0\u001b[39m:\n\u001b[0;32m    432\u001b[0m         \u001b[38;5;28mself\u001b[39m\u001b[38;5;241m.\u001b[39mopt_settings[\u001b[38;5;124m'\u001b[39m\u001b[38;5;124mdisp\u001b[39m\u001b[38;5;124m'\u001b[39m] \u001b[38;5;241m=\u001b[39m \u001b[38;5;28;01mFalse\u001b[39;00m\n\u001b[1;32m--> 434\u001b[0m     result \u001b[38;5;241m=\u001b[39m \u001b[43mminimize\u001b[49m\u001b[43m(\u001b[49m\u001b[38;5;28;43mself\u001b[39;49m\u001b[38;5;241;43m.\u001b[39;49m\u001b[43m_objfunc\u001b[49m\u001b[43m,\u001b[49m\u001b[43m \u001b[49m\u001b[43mx_init\u001b[49m\u001b[43m,\u001b[49m\n\u001b[0;32m    435\u001b[0m \u001b[43m                      \u001b[49m\u001b[38;5;66;43;03m# args=(),\u001b[39;49;00m\n\u001b[0;32m    436\u001b[0m \u001b[43m                      \u001b[49m\u001b[43mmethod\u001b[49m\u001b[38;5;241;43m=\u001b[39;49m\u001b[43mopt\u001b[49m\u001b[43m,\u001b[49m\n\u001b[0;32m    437\u001b[0m \u001b[43m                      \u001b[49m\u001b[43mjac\u001b[49m\u001b[38;5;241;43m=\u001b[39;49m\u001b[43mjac\u001b[49m\u001b[43m,\u001b[49m\n\u001b[0;32m    438\u001b[0m \u001b[43m                      \u001b[49m\u001b[43mhess\u001b[49m\u001b[38;5;241;43m=\u001b[39;49m\u001b[43mhess\u001b[49m\u001b[43m,\u001b[49m\n\u001b[0;32m    439\u001b[0m \u001b[43m                      \u001b[49m\u001b[38;5;66;43;03m# hessp=None,\u001b[39;49;00m\n\u001b[0;32m    440\u001b[0m \u001b[43m                      \u001b[49m\u001b[43mbounds\u001b[49m\u001b[38;5;241;43m=\u001b[39;49m\u001b[43mbounds\u001b[49m\u001b[43m,\u001b[49m\n\u001b[0;32m    441\u001b[0m \u001b[43m                      \u001b[49m\u001b[43mconstraints\u001b[49m\u001b[38;5;241;43m=\u001b[39;49m\u001b[43mconstraints\u001b[49m\u001b[43m,\u001b[49m\n\u001b[0;32m    442\u001b[0m \u001b[43m                      \u001b[49m\u001b[43mtol\u001b[49m\u001b[38;5;241;43m=\u001b[39;49m\u001b[38;5;28;43mself\u001b[39;49m\u001b[38;5;241;43m.\u001b[39;49m\u001b[43moptions\u001b[49m\u001b[43m[\u001b[49m\u001b[38;5;124;43m'\u001b[39;49m\u001b[38;5;124;43mtol\u001b[39;49m\u001b[38;5;124;43m'\u001b[39;49m\u001b[43m]\u001b[49m\u001b[43m,\u001b[49m\n\u001b[0;32m    443\u001b[0m \u001b[43m                      \u001b[49m\u001b[38;5;66;43;03m# callback=None,\u001b[39;49;00m\n\u001b[0;32m    444\u001b[0m \u001b[43m                      \u001b[49m\u001b[43moptions\u001b[49m\u001b[38;5;241;43m=\u001b[39;49m\u001b[38;5;28;43mself\u001b[39;49m\u001b[38;5;241;43m.\u001b[39;49m\u001b[43mopt_settings\u001b[49m\u001b[43m)\u001b[49m\n\u001b[0;32m    445\u001b[0m \u001b[38;5;28;01melif\u001b[39;00m opt \u001b[38;5;241m==\u001b[39m \u001b[38;5;124m'\u001b[39m\u001b[38;5;124mbasinhopping\u001b[39m\u001b[38;5;124m'\u001b[39m:\n\u001b[0;32m    446\u001b[0m     \u001b[38;5;28;01mfrom\u001b[39;00m \u001b[38;5;21;01mscipy\u001b[39;00m\u001b[38;5;21;01m.\u001b[39;00m\u001b[38;5;21;01moptimize\u001b[39;00m \u001b[38;5;28;01mimport\u001b[39;00m basinhopping\n",
      "File \u001b[1;32mc:\\Users\\johan\\miniconda3\\envs\\minimdo\\lib\\site-packages\\scipy\\optimize\\_minimize.py:639\u001b[0m, in \u001b[0;36mminimize\u001b[1;34m(fun, x0, args, method, jac, hess, hessp, bounds, constraints, tol, callback, options)\u001b[0m\n\u001b[0;32m    629\u001b[0m \u001b[38;5;28;01mif\u001b[39;00m bounds \u001b[38;5;129;01mis\u001b[39;00m \u001b[38;5;129;01mnot\u001b[39;00m \u001b[38;5;28;01mNone\u001b[39;00m:\n\u001b[0;32m    630\u001b[0m     \u001b[38;5;28;01mif\u001b[39;00m meth \u001b[38;5;129;01min\u001b[39;00m {\u001b[38;5;124m\"\u001b[39m\u001b[38;5;124mtnc\u001b[39m\u001b[38;5;124m\"\u001b[39m, \u001b[38;5;124m\"\u001b[39m\u001b[38;5;124mslsqp\u001b[39m\u001b[38;5;124m\"\u001b[39m, \u001b[38;5;124m\"\u001b[39m\u001b[38;5;124ml-bfgs-b\u001b[39m\u001b[38;5;124m\"\u001b[39m}:\n\u001b[0;32m    631\u001b[0m         \u001b[38;5;66;03m# These methods can't take the finite-difference derivatives they\u001b[39;00m\n\u001b[0;32m    632\u001b[0m         \u001b[38;5;66;03m# need when a variable is fixed by the bounds. To avoid this issue,\u001b[39;00m\n\u001b[1;32m   (...)\u001b[0m\n\u001b[0;32m    637\u001b[0m \n\u001b[0;32m    638\u001b[0m         \u001b[38;5;66;03m# convert to new-style bounds so we only have to consider one case\u001b[39;00m\n\u001b[1;32m--> 639\u001b[0m         bounds \u001b[38;5;241m=\u001b[39m \u001b[43mstandardize_bounds\u001b[49m\u001b[43m(\u001b[49m\u001b[43mbounds\u001b[49m\u001b[43m,\u001b[49m\u001b[43m \u001b[49m\u001b[43mx0\u001b[49m\u001b[43m,\u001b[49m\u001b[43m \u001b[49m\u001b[38;5;124;43m'\u001b[39;49m\u001b[38;5;124;43mnew\u001b[39;49m\u001b[38;5;124;43m'\u001b[39;49m\u001b[43m)\u001b[49m\n\u001b[0;32m    641\u001b[0m         \u001b[38;5;66;03m# determine whether any variables are fixed\u001b[39;00m\n\u001b[0;32m    642\u001b[0m         i_fixed \u001b[38;5;241m=\u001b[39m (bounds\u001b[38;5;241m.\u001b[39mlb \u001b[38;5;241m==\u001b[39m bounds\u001b[38;5;241m.\u001b[39mub)\n",
      "File \u001b[1;32mc:\\Users\\johan\\miniconda3\\envs\\minimdo\\lib\\site-packages\\scipy\\optimize\\_minimize.py:965\u001b[0m, in \u001b[0;36mstandardize_bounds\u001b[1;34m(bounds, x0, meth)\u001b[0m\n\u001b[0;32m    963\u001b[0m \u001b[38;5;28;01mif\u001b[39;00m meth \u001b[38;5;129;01min\u001b[39;00m {\u001b[38;5;124m'\u001b[39m\u001b[38;5;124mtrust-constr\u001b[39m\u001b[38;5;124m'\u001b[39m, \u001b[38;5;124m'\u001b[39m\u001b[38;5;124mpowell\u001b[39m\u001b[38;5;124m'\u001b[39m, \u001b[38;5;124m'\u001b[39m\u001b[38;5;124mnelder-mead\u001b[39m\u001b[38;5;124m'\u001b[39m, \u001b[38;5;124m'\u001b[39m\u001b[38;5;124mnew\u001b[39m\u001b[38;5;124m'\u001b[39m}:\n\u001b[0;32m    964\u001b[0m     \u001b[38;5;28;01mif\u001b[39;00m \u001b[38;5;129;01mnot\u001b[39;00m \u001b[38;5;28misinstance\u001b[39m(bounds, Bounds):\n\u001b[1;32m--> 965\u001b[0m         lb, ub \u001b[38;5;241m=\u001b[39m \u001b[43mold_bound_to_new\u001b[49m\u001b[43m(\u001b[49m\u001b[43mbounds\u001b[49m\u001b[43m)\u001b[49m\n\u001b[0;32m    966\u001b[0m         bounds \u001b[38;5;241m=\u001b[39m Bounds(lb, ub)\n\u001b[0;32m    967\u001b[0m \u001b[38;5;28;01melif\u001b[39;00m meth \u001b[38;5;129;01min\u001b[39;00m (\u001b[38;5;124m'\u001b[39m\u001b[38;5;124ml-bfgs-b\u001b[39m\u001b[38;5;124m'\u001b[39m, \u001b[38;5;124m'\u001b[39m\u001b[38;5;124mtnc\u001b[39m\u001b[38;5;124m'\u001b[39m, \u001b[38;5;124m'\u001b[39m\u001b[38;5;124mslsqp\u001b[39m\u001b[38;5;124m'\u001b[39m, \u001b[38;5;124m'\u001b[39m\u001b[38;5;124mold\u001b[39m\u001b[38;5;124m'\u001b[39m):\n",
      "File \u001b[1;32mc:\\Users\\johan\\miniconda3\\envs\\minimdo\\lib\\site-packages\\scipy\\optimize\\_constraints.py:416\u001b[0m, in \u001b[0;36mold_bound_to_new\u001b[1;34m(bounds)\u001b[0m\n\u001b[0;32m    407\u001b[0m \u001b[38;5;28;01mdef\u001b[39;00m \u001b[38;5;21mold_bound_to_new\u001b[39m(bounds):\n\u001b[0;32m    408\u001b[0m \u001b[38;5;250m    \u001b[39m\u001b[38;5;124;03m\"\"\"Convert the old bounds representation to the new one.\u001b[39;00m\n\u001b[0;32m    409\u001b[0m \n\u001b[0;32m    410\u001b[0m \u001b[38;5;124;03m    The new representation is a tuple (lb, ub) and the old one is a list\u001b[39;00m\n\u001b[1;32m   (...)\u001b[0m\n\u001b[0;32m    414\u001b[0m \u001b[38;5;124;03m    -np.inf/np.inf.\u001b[39;00m\n\u001b[0;32m    415\u001b[0m \u001b[38;5;124;03m    \"\"\"\u001b[39;00m\n\u001b[1;32m--> 416\u001b[0m     lb, ub \u001b[38;5;241m=\u001b[39m \u001b[38;5;28mzip\u001b[39m(\u001b[38;5;241m*\u001b[39mbounds)\n\u001b[0;32m    418\u001b[0m     \u001b[38;5;66;03m# Convert occurrences of None to -inf or inf, and replace occurrences of\u001b[39;00m\n\u001b[0;32m    419\u001b[0m     \u001b[38;5;66;03m# any numpy array x with x.item(). Then wrap the results in numpy arrays.\u001b[39;00m\n\u001b[0;32m    420\u001b[0m     lb \u001b[38;5;241m=\u001b[39m np\u001b[38;5;241m.\u001b[39marray([\u001b[38;5;28mfloat\u001b[39m(_arr_to_scalar(x)) \u001b[38;5;28;01mif\u001b[39;00m x \u001b[38;5;129;01mis\u001b[39;00m \u001b[38;5;129;01mnot\u001b[39;00m \u001b[38;5;28;01mNone\u001b[39;00m \u001b[38;5;28;01melse\u001b[39;00m \u001b[38;5;241m-\u001b[39mnp\u001b[38;5;241m.\u001b[39minf\n\u001b[0;32m    421\u001b[0m                    \u001b[38;5;28;01mfor\u001b[39;00m x \u001b[38;5;129;01min\u001b[39;00m lb])\n",
      "\u001b[1;31mValueError\u001b[0m: not enough values to unpack (expected 2, got 0)"
     ]
    }
   ],
   "source": [
    "prob.run_driver()"
   ]
  },
  {
   "cell_type": "code",
   "execution_count": 21,
   "metadata": {},
   "outputs": [
    {
     "name": "stdout",
     "output_type": "stream",
     "text": [
      "----------------\n",
      "Design Variables\n",
      "----------------\n",
      "name  val  size  \n",
      "----  ---  ---- \n",
      "\n",
      "-----------\n",
      "Constraints\n",
      "-----------\n",
      "name   val           size  \n",
      "-----  ------------  ---- \n",
      "neq22  [2.32790503]  1     \n",
      "\n",
      "----------\n",
      "Objectives\n",
      "----------\n",
      "name   val          size  \n",
      "-----  -----------  ---- \n",
      "obj21  [1.9255083]  1     \n",
      "\n"
     ]
    }
   ],
   "source": [
    "prob.list_problem_vars()"
   ]
  },
  {
   "cell_type": "code",
   "execution_count": 22,
   "metadata": {},
   "outputs": [],
   "source": [
    "output = {var:np.array(prob.get_val(str(var))) for var in P.independent}"
   ]
  },
  {
   "cell_type": "code",
   "execution_count": 23,
   "metadata": {},
   "outputs": [
    {
     "data": {
      "text/plain": [
       "{a: array([6778.]),\n",
       " T: array([92.55759153]),\n",
       " g: array([0.1099015]),\n",
       " d: array([0.6099015]),\n",
       " r: array([2293.99215343]),\n",
       " m_A: array([0.7]),\n",
       " P_c: array([17.50844246]),\n",
       " P_T: array([5.50844246]),\n",
       " E_b: array([159.4230468]),\n",
       " m_b: array([0.31884609]),\n",
       " D_p: array([0.0488]),\n",
       " D: array([16.02966236]),\n",
       " m_p: array([0.02156054]),\n",
       " b: array([26.26379288]),\n",
       " \\lambda_c: array([13.59090909]),\n",
       " D_T: array([0.38986773]),\n",
       " m_T: array([0.04868621]),\n",
       " G_r: array([8255.00154877]),\n",
       " EN: array([11.79709497]),\n",
       " m_s: array([0.38510166]),\n",
       " m_t: array([1.9255083])}"
      ]
     },
     "execution_count": 23,
     "metadata": {},
     "output_type": "execute_result"
    }
   ],
   "source": [
    "output"
   ]
  },
  {
   "cell_type": "code",
   "execution_count": 24,
   "metadata": {},
   "outputs": [
    {
     "data": {
      "text/plain": [
       "{m_t: array(1.9255083)}"
      ]
     },
     "execution_count": 24,
     "metadata": {},
     "output_type": "execute_result"
    }
   ],
   "source": [
    "P6.solve(output)"
   ]
  },
  {
   "cell_type": "code",
   "execution_count": null,
   "metadata": {},
   "outputs": [],
   "source": [
    "# intersection(P1, P2) is the same as P2.eliminate(P1) when it is already feedforward\n",
    "# P6.eliminate(P5)"
   ]
  }
 ],
 "metadata": {
  "kernelspec": {
   "display_name": "minimdo",
   "language": "python",
   "name": "python3"
  },
  "language_info": {
   "codemirror_mode": {
    "name": "ipython",
    "version": 3
   },
   "file_extension": ".py",
   "mimetype": "text/x-python",
   "name": "python",
   "nbconvert_exporter": "python",
   "pygments_lexer": "ipython3",
   "version": "3.9.18"
  },
  "orig_nbformat": 4
 },
 "nbformat": 4,
 "nbformat_minor": 2
}
