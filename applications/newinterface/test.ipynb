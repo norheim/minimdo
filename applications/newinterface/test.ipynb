{
 "cells": [
  {
   "cell_type": "code",
   "execution_count": 1,
   "metadata": {},
   "outputs": [],
   "source": [
    "from modeling.couplingapi import Subproblem\n",
    "from modeling.api import Var\n",
    "import openmdao.api as om\n",
    "from modeling.ipoptsolver import setup_ipopt\n",
    "import numpy as np\n",
    "import jax.numpy as anp"
   ]
  },
  {
   "attachments": {},
   "cell_type": "markdown",
   "metadata": {},
   "source": [
    "### Explicit equations *with* coupling"
   ]
  },
  {
   "cell_type": "code",
   "execution_count": 21,
   "metadata": {},
   "outputs": [
    {
     "data": {
      "text/plain": [
       "array([ 2., -1., -1.,  1.], dtype=float32)"
      ]
     },
     "execution_count": 21,
     "metadata": {},
     "output_type": "execute_result"
    }
   ],
   "source": [
    "P1 = Subproblem()\n",
    "x3 = Var('x_3')\n",
    "a = Var('a')\n",
    "x1 = P1.add_equation('x_1', x3**2-a)\n",
    "x2 = P1.add_equation('x_2', x1*x3)\n",
    "P1.add_equation(x3, x1*x2)\n",
    "P1.variable_order = ['a','x_1','x_2','x_3']\n",
    "y = np.array([2, -1, -1, 1], dtype=np.float32)\n",
    "P1.solve(y)"
   ]
  },
  {
   "cell_type": "code",
   "execution_count": 22,
   "metadata": {},
   "outputs": [],
   "source": [
    "x1.shape = (1,)\n",
    "x2.shape = (1,)\n",
    "x3.shape = (1,)\n",
    "a.shape = (1,)\n",
    "Pipopt, indep_order = setup_ipopt(P1.components, [a, x1, x2, x3], y)"
   ]
  },
  {
   "cell_type": "code",
   "execution_count": 23,
   "metadata": {},
   "outputs": [
    {
     "data": {
      "text/plain": [
       "[x_3, x_1, x_2]"
      ]
     },
     "execution_count": 23,
     "metadata": {},
     "output_type": "execute_result"
    }
   ],
   "source": [
    "indep_order"
   ]
  },
  {
   "cell_type": "code",
   "execution_count": 24,
   "metadata": {},
   "outputs": [
    {
     "data": {
      "text/plain": [
       "DeviceArray([0., 0., 0.], dtype=float32)"
      ]
     },
     "execution_count": 24,
     "metadata": {},
     "output_type": "execute_result"
    }
   ],
   "source": [
    "Pipopt.constraints(anp.array([1,-1,-1], dtype=np.float32))"
   ]
  },
  {
   "cell_type": "code",
   "execution_count": 26,
   "metadata": {},
   "outputs": [
    {
     "data": {
      "text/plain": [
       "DeviceArray([[-2.,  0.,  1.],\n",
       "             [ 1.,  1., -1.],\n",
       "             [ 1.,  1.,  1.]], dtype=float32)"
      ]
     },
     "execution_count": 26,
     "metadata": {},
     "output_type": "execute_result"
    }
   ],
   "source": [
    "Pipopt.jacobian(anp.array([1,-1,-1], dtype=np.float32))"
   ]
  },
  {
   "attachments": {},
   "cell_type": "markdown",
   "metadata": {},
   "source": [
    "### Explicit equations without coupling"
   ]
  },
  {
   "cell_type": "code",
   "execution_count": 7,
   "metadata": {},
   "outputs": [
    {
     "data": {
      "text/plain": [
       "array([1., 0., 0., 1.], dtype=float32)"
      ]
     },
     "execution_count": 7,
     "metadata": {},
     "output_type": "execute_result"
    }
   ],
   "source": [
    "P1 = Subproblem()\n",
    "x3 = Var('x_3')\n",
    "a = Var('a')\n",
    "x1 = P1.add_equation('x_1', x3**2-a)\n",
    "x2 = P1.add_equation('x_2', x1*x3)\n",
    "P1.variable_order = ['a','x_1','x_2','x_3']\n",
    "y = np.array([1, 0, 0, 1], dtype=np.float32)\n",
    "P1.solve(y)"
   ]
  },
  {
   "attachments": {},
   "cell_type": "markdown",
   "metadata": {},
   "source": [
    "### Implicit/residual equations"
   ]
  },
  {
   "cell_type": "code",
   "execution_count": 18,
   "metadata": {},
   "outputs": [
    {
     "data": {
      "text/latex": [
       "$x_3=0 \\ (x_1=0 ,x_2=0 )$"
      ],
      "text/plain": [
       "x_3"
      ]
     },
     "execution_count": 18,
     "metadata": {},
     "output_type": "execute_result"
    }
   ],
   "source": [
    "P1 = Subproblem()\n",
    "x = Var('x')\n",
    "b = Var('b')\n",
    "a = Var('a')\n",
    "x1 = P1.add_equation(x**2+a*x+b)\n",
    "P1.projected = ['a','b']\n",
    "P1.projection_order = ['a','b','x']"
   ]
  },
  {
   "attachments": {},
   "cell_type": "markdown",
   "metadata": {},
   "source": [
    "## Merge"
   ]
  },
  {
   "cell_type": "code",
   "execution_count": null,
   "metadata": {},
   "outputs": [],
   "source": [
    "MA = M1.elminate(M2)\n",
    "MB = merge_solvers(M1, M2)"
   ]
  },
  {
   "cell_type": "code",
   "execution_count": 30,
   "metadata": {},
   "outputs": [],
   "source": [
    "import numpy as np\n",
    "from modeling.execution import Component\n",
    "A = np.random.rand(10,10)\n",
    "b0 = np.random.rand(10)\n",
    "x0 = np.random.rand(10) \n",
    "c = 1\n",
    "fx = lambda x,b: (b@(A@x-b),) # The @ is numpys matrix multiplication\n",
    "component = Component(fx, inputs=('x','b'), outputs=('y',), indims=(10,10), outdims=(1,))\n",
    "component2 = Component(lambda x,c: (sum(x),x[0]-c), inputs=('x','c'), outputs=('z',), indims=(10,1), outdims=(2,))"
   ]
  },
  {
   "cell_type": "code",
   "execution_count": 31,
   "metadata": {},
   "outputs": [],
   "source": [
    "components = (component, component2)\n",
    "outdims_merge = 0\n",
    "inps = dict()\n",
    "for c in components:\n",
    "    inps.update({inp: c.indims[idx] for idx, inp in enumerate(c.inputs)})\n",
    "    outdims_merge+= sum(c.outdims)\n",
    "indims_merge = sum(inps.values())"
   ]
  },
  {
   "cell_type": "code",
   "execution_count": null,
   "metadata": {},
   "outputs": [],
   "source": [
    "from modeling.couplingapi import find_indices"
   ]
  },
  {
   "cell_type": "code",
   "execution_count": 32,
   "metadata": {},
   "outputs": [
    {
     "data": {
      "text/plain": [
       "3"
      ]
     },
     "execution_count": 32,
     "metadata": {},
     "output_type": "execute_result"
    }
   ],
   "source": [
    "idxs = [find_indices(P1.projection_order, \n",
    "                             c.inputs) for c in components]\n",
    "output = []\n",
    "for idx, c in enumerate(self.components):\n",
    "    xidxs = x[idxs[idx]]\n",
    "    fxval = c.function(*xidxs)\n",
    "    outval = x[sum(c.indims):]\n",
    "    out = [outval[idx]-elt for idx,elt in enumerate(fxval)]\n",
    "    output.extend([elt for vector in out for elt in vector])"
   ]
  },
  {
   "cell_type": "code",
   "execution_count": 33,
   "metadata": {},
   "outputs": [
    {
     "data": {
      "text/plain": [
       "21"
      ]
     },
     "execution_count": 33,
     "metadata": {},
     "output_type": "execute_result"
    }
   ],
   "source": [
    "indims_merge"
   ]
  },
  {
   "cell_type": "code",
   "execution_count": 3,
   "metadata": {},
   "outputs": [],
   "source": [
    "P1.projection_order = ['a','x_1','x_2','x_3']"
   ]
  },
  {
   "cell_type": "code",
   "execution_count": 4,
   "metadata": {},
   "outputs": [
    {
     "data": {
      "text/plain": [
       "{'a', 'x_1', 'x_2', 'x_3'}"
      ]
     },
     "execution_count": 4,
     "metadata": {},
     "output_type": "execute_result"
    }
   ],
   "source": [
    "P1.projected"
   ]
  },
  {
   "cell_type": "code",
   "execution_count": 5,
   "metadata": {},
   "outputs": [
    {
     "data": {
      "text/plain": [
       "array([ 3.        , -1.        ,  1.41421356, -1.41421356])"
      ]
     },
     "execution_count": 5,
     "metadata": {},
     "output_type": "execute_result"
    }
   ],
   "source": [
    "y = [3,-1,2**0.5,-2**0.5]\n",
    "P1.solve(y)"
   ]
  },
  {
   "cell_type": "code",
   "execution_count": 6,
   "metadata": {},
   "outputs": [
    {
     "data": {
      "text/plain": [
       "array([ 3, -3,  0,  0])"
      ]
     },
     "execution_count": 6,
     "metadata": {},
     "output_type": "execute_result"
    }
   ],
   "source": [
    "y = [3, -3,  0,  0]\n",
    "P1.solve(y)"
   ]
  },
  {
   "cell_type": "code",
   "execution_count": 7,
   "metadata": {},
   "outputs": [],
   "source": [
    "P1.Vtree = {'x_1':1, 'x_2':1, 'x_3':1}"
   ]
  },
  {
   "cell_type": "code",
   "execution_count": 8,
   "metadata": {},
   "outputs": [],
   "source": [
    "P1.setup()"
   ]
  },
  {
   "cell_type": "code",
   "execution_count": 9,
   "metadata": {},
   "outputs": [
    {
     "data": {
      "text/plain": [
       "<openmdao.core.problem.Problem at 0x1f0b7421b80>"
      ]
     },
     "execution_count": 9,
     "metadata": {},
     "output_type": "execute_result"
    }
   ],
   "source": [
    "P1.prob.model.s1.linear_solver = om.DirectSolver()\n",
    "newton = P1.prob.model.s1.nonlinear_solver #= om.NewtonSolver()\n",
    "newton.linesearch = om.BoundsEnforceLS()\n",
    "newton.linesearch.options['iprint'] = 2\n",
    "#P1.prob.model.s1.nonlinear_solver = om.NonlinearRunOnce()\n",
    "P1.prob.setup()"
   ]
  },
  {
   "cell_type": "code",
   "execution_count": 10,
   "metadata": {},
   "outputs": [],
   "source": [
    "yi = [3, -1, 1.2,-1.2]"
   ]
  },
  {
   "cell_type": "code",
   "execution_count": 11,
   "metadata": {},
   "outputs": [
    {
     "name": "stdout",
     "output_type": "stream",
     "text": [
      "\n",
      "==\n",
      "s1\n",
      "==\n",
      "|  LS: BCHK 0 ; 1.3928781 0.183773963\n",
      "|  LS: BCHK 0 ; 3.53448385 1.11929885\n",
      "|  LS: BCHK 0 ; 4.26067927 0.217249187\n",
      "|  LS: BCHK 0 ; 55.4870334 0.245470305\n",
      "|  LS: BCHK 0 ; 1000422.45 0.00163147941\n",
      "|  LS: BCHK 0 ; 1733781.13 1.73380193e-24\n",
      "|  LS: BCHK 0 ; 1733781.13 1.73380193e-24\n",
      "|  LS: BCHK 0 ; 1733781.13 1.73380193e-24\n",
      "|  LS: BCHK 0 ; 1733781.13 1.73380193e-24\n",
      "|  LS: BCHK 0 ; 1733781.13 1.73380193e-24\n",
      "NL: NewtonSolver 'NL: Newton' on system 's1' failed to converge in 10 iterations.\n"
     ]
    },
    {
     "data": {
      "text/plain": [
       "array([3.00000000e+00, 0.00000000e+00, 9.99948288e+08, 9.99994000e+14])"
      ]
     },
     "execution_count": 11,
     "metadata": {},
     "output_type": "execute_result"
    }
   ],
   "source": [
    "yi = P1.solve_with_engine(yi)\n",
    "yi"
   ]
  },
  {
   "cell_type": "code",
   "execution_count": 14,
   "metadata": {},
   "outputs": [
    {
     "name": "stdout",
     "output_type": "stream",
     "text": [
      "6 Input(s) in 'model'\n",
      "\n",
      "varname  val  \n",
      "-------  -----\n",
      "s1\n",
      "  f0\n",
      "    x_3  [0.] \n",
      "    a    [3.] \n",
      "  f1\n",
      "    x_1  [-3.]\n",
      "    x_3  [0.] \n",
      "  f2\n",
      "    x_1  [-3.]\n",
      "    x_2  [-0.]\n",
      "\n",
      "\n"
     ]
    },
    {
     "data": {
      "text/plain": [
       "[('s1.f0.x_3', {'val': array([0.])}),\n",
       " ('s1.f1.x_3', {'val': array([0.])}),\n",
       " ('s1.f0.a', {'val': array([3.])}),\n",
       " ('s1.f1.x_1', {'val': array([-3.])}),\n",
       " ('s1.f2.x_1', {'val': array([-3.])}),\n",
       " ('s1.f2.x_2', {'val': array([-0.])})]"
      ]
     },
     "execution_count": 14,
     "metadata": {},
     "output_type": "execute_result"
    }
   ],
   "source": [
    "P1.prob.model.list_inputs()"
   ]
  },
  {
   "cell_type": "code",
   "execution_count": null,
   "metadata": {},
   "outputs": [],
   "source": []
  },
  {
   "cell_type": "code",
   "execution_count": 9,
   "metadata": {},
   "outputs": [],
   "source": [
    "for elt in P1.mdao_in:\n",
    "    idx = P1.projection_order.index(elt)\n",
    "    P1.prob.set_val(elt, y[idx])"
   ]
  },
  {
   "cell_type": "code",
   "execution_count": 17,
   "metadata": {},
   "outputs": [],
   "source": [
    "P1.prob['a']=3\n",
    "P1.prob['x_1']=0\n",
    "P1.prob['x_2']=0\n",
    "P1.prob['x_3']=0"
   ]
  },
  {
   "cell_type": "code",
   "execution_count": 18,
   "metadata": {},
   "outputs": [],
   "source": [
    "P1.prob.run_model()"
   ]
  },
  {
   "cell_type": "code",
   "execution_count": 57,
   "metadata": {},
   "outputs": [],
   "source": [
    "P1.prob.model.s1.f2._inputs"
   ]
  },
  {
   "cell_type": "code",
   "execution_count": 46,
   "metadata": {},
   "outputs": [
    {
     "data": {
      "text/plain": [
       "{'val': array([1000]),\n",
       " 'shape': (1,),\n",
       " 'size': 1,\n",
       " 'src_indices': None,\n",
       " 'flat_src_indices': None,\n",
       " 'add_input_src_indices': False,\n",
       " 'units': None,\n",
       " 'desc': '',\n",
       " 'distributed': False,\n",
       " 'tags': set(),\n",
       " 'shape_by_conn': False,\n",
       " 'copy_shape': None,\n",
       " 'global_shape': (1,),\n",
       " 'global_size': 1}"
      ]
     },
     "execution_count": 46,
     "metadata": {},
     "output_type": "execute_result"
    }
   ],
   "source": [
    "P1.prob.model.s1.f1._var_rel2meta['x_1']"
   ]
  },
  {
   "cell_type": "code",
   "execution_count": 38,
   "metadata": {},
   "outputs": [
    {
     "data": {
      "text/plain": [
       "{'x_3': {'val': array([1.]),\n",
       "  'shape': (1,),\n",
       "  'size': 1,\n",
       "  'units': None,\n",
       "  'res_units': None,\n",
       "  'desc': '',\n",
       "  'distributed': False,\n",
       "  'tags': set(),\n",
       "  'ref': 1.0,\n",
       "  'ref0': 0.0,\n",
       "  'res_ref': 1.0,\n",
       "  'lower': None,\n",
       "  'upper': None,\n",
       "  'shape_by_conn': False,\n",
       "  'copy_shape': None,\n",
       "  'global_shape': (1,),\n",
       "  'global_size': 1},\n",
       " 'x_1': {'val': array([1.]),\n",
       "  'shape': (1,),\n",
       "  'size': 1,\n",
       "  'src_indices': None,\n",
       "  'flat_src_indices': None,\n",
       "  'add_input_src_indices': False,\n",
       "  'units': None,\n",
       "  'desc': '',\n",
       "  'distributed': False,\n",
       "  'tags': set(),\n",
       "  'shape_by_conn': False,\n",
       "  'copy_shape': None,\n",
       "  'global_shape': (1,),\n",
       "  'global_size': 1},\n",
       " 'x_2': {'val': array([1.]),\n",
       "  'shape': (1,),\n",
       "  'size': 1,\n",
       "  'src_indices': None,\n",
       "  'flat_src_indices': None,\n",
       "  'add_input_src_indices': False,\n",
       "  'units': None,\n",
       "  'desc': '',\n",
       "  'distributed': False,\n",
       "  'tags': set(),\n",
       "  'shape_by_conn': False,\n",
       "  'copy_shape': None,\n",
       "  'global_shape': (1,),\n",
       "  'global_size': 1}}"
      ]
     },
     "execution_count": 38,
     "metadata": {},
     "output_type": "execute_result"
    }
   ],
   "source": [
    "P1.prob.model.s1.f2._var_rel2meta"
   ]
  },
  {
   "cell_type": "code",
   "execution_count": 10,
   "metadata": {},
   "outputs": [
    {
     "name": "stdout",
     "output_type": "stream",
     "text": [
      "\n",
      "==\n",
      "s1\n",
      "==\n",
      "NL: NLBGSSolver 'NL: NLBGS' on system 's1': residuals contain 'inf' or 'NaN' after 6 iterations.\n"
     ]
    },
    {
     "name": "stderr",
     "output_type": "stream",
     "text": [
      "c:\\Users\\johan\\miniconda3\\envs\\minimdo\\lib\\site-packages\\openmdao\\solvers\\nonlinear\\nonlinear_block_gs.py:206: RuntimeWarning: invalid value encountered in subtract\n",
      "  residuals.set_val(outputs.asarray() - outputs_n)\n"
     ]
    },
    {
     "data": {
      "text/plain": [
       "array([[ 3.],\n",
       "       [inf],\n",
       "       [inf],\n",
       "       [inf]])"
      ]
     },
     "execution_count": 10,
     "metadata": {},
     "output_type": "execute_result"
    }
   ],
   "source": [
    "P1.solve_with_engine([3,-1,2**0.5,-2**0.5])"
   ]
  },
  {
   "cell_type": "code",
   "execution_count": 11,
   "metadata": {},
   "outputs": [
    {
     "name": "stdout",
     "output_type": "stream",
     "text": [
      "4 Explicit Output(s) in 'model'\n",
      "\n",
      "varname  val  \n",
      "-------  -----\n",
      "inp\n",
      "  a      [3.] \n",
      "s1\n",
      "  f0\n",
      "    x_1  [nan]\n",
      "  f1\n",
      "    x_2  [nan]\n",
      "  f2\n",
      "    x_3  [nan]\n",
      "\n",
      "\n",
      "0 Implicit Output(s) in 'model'\n",
      "\n",
      "\n"
     ]
    },
    {
     "data": {
      "text/plain": [
       "[('inp.a', {'val': array([3.])}),\n",
       " ('s1.f0.x_1', {'val': array([nan])}),\n",
       " ('s1.f1.x_2', {'val': array([nan])}),\n",
       " ('s1.f2.x_3', {'val': array([nan])})]"
      ]
     },
     "execution_count": 11,
     "metadata": {},
     "output_type": "execute_result"
    }
   ],
   "source": [
    "P1.prob.model.list_outputs()"
   ]
  },
  {
   "cell_type": "code",
   "execution_count": 11,
   "metadata": {},
   "outputs": [
    {
     "name": "stdout",
     "output_type": "stream",
     "text": [
      "[{x1: -3, x2: 0, x3: 0}, {x1: -1, x2: -sqrt(2), x3: sqrt(2)}, {x1: -1, x2: sqrt(2), x3: -sqrt(2)}, {x1: 1, x2: -2, x3: -2}, {x1: 1, x2: 2, x3: 2}]\n"
     ]
    }
   ],
   "source": [
    "import sympy as sp\n",
    "\n",
    "x1, x2, x3 = sp.symbols('x1 x2 x3')\n",
    "\n",
    "# Define the equations\n",
    "eq1 = sp.Eq(x1, x3**2-3)\n",
    "eq2 = sp.Eq(x2, x1 * x3)\n",
    "eq3 = sp.Eq(x3, x1 * x2)\n",
    "\n",
    "# Solve the system of equations\n",
    "solution = sp.solve((eq1, eq2, eq3), (x1, x2, x3), dict=True)\n",
    "print(solution)\n"
   ]
  },
  {
   "cell_type": "code",
   "execution_count": null,
   "metadata": {},
   "outputs": [],
   "source": []
  }
 ],
 "metadata": {
  "kernelspec": {
   "display_name": "minimdo",
   "language": "python",
   "name": "python3"
  },
  "language_info": {
   "codemirror_mode": {
    "name": "ipython",
    "version": 3
   },
   "file_extension": ".py",
   "mimetype": "text/x-python",
   "name": "python",
   "nbconvert_exporter": "python",
   "pygments_lexer": "ipython3",
   "version": "3.9.12"
  },
  "orig_nbformat": 4
 },
 "nbformat": 4,
 "nbformat_minor": 2
}
