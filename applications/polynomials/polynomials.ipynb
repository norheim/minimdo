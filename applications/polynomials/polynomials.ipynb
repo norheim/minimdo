{
 "cells": [
  {
   "cell_type": "code",
   "execution_count": 154,
   "id": "f31959b4",
   "metadata": {
    "execution": {
     "iopub.execute_input": "2021-11-25T10:49:25.425766Z",
     "iopub.status.busy": "2021-11-25T10:49:25.425766Z",
     "iopub.status.idle": "2021-11-25T10:49:25.459762Z",
     "shell.execute_reply": "2021-11-25T10:49:25.458761Z",
     "shell.execute_reply.started": "2021-11-25T10:49:25.425766Z"
    }
   },
   "outputs": [],
   "source": [
    "from networkx.algorithms.bipartite import random_graph as bipartite_random_graph\n",
    "from inputresolver import resolve, invert_edges, flatten_order, reassigneq\n",
    "from representations import digraph_repr, draw_dsm"
   ]
  },
  {
   "cell_type": "code",
   "execution_count": 2,
   "id": "0fdef3f8",
   "metadata": {
    "execution": {
     "iopub.execute_input": "2021-11-24T16:19:08.217969Z",
     "iopub.status.busy": "2021-11-24T16:19:08.217969Z",
     "iopub.status.idle": "2021-11-24T16:19:08.229970Z",
     "shell.execute_reply": "2021-11-24T16:19:08.228971Z",
     "shell.execute_reply.started": "2021-11-24T16:19:08.217969Z"
    }
   },
   "outputs": [],
   "source": [
    "from random import Random, sample, randint\n",
    "import random\n",
    "import copy\n",
    "import sympy as sp\n",
    "import numpy as np\n",
    "from functools import reduce\n",
    "import networkx as nx"
   ]
  },
  {
   "cell_type": "code",
   "execution_count": 128,
   "id": "cd95659b",
   "metadata": {
    "execution": {
     "iopub.execute_input": "2021-11-24T16:39:26.595395Z",
     "iopub.status.busy": "2021-11-24T16:39:26.595395Z",
     "iopub.status.idle": "2021-11-24T16:39:26.607394Z",
     "shell.execute_reply": "2021-11-24T16:39:26.606391Z",
     "shell.execute_reply.started": "2021-11-24T16:39:26.595395Z"
    }
   },
   "outputs": [],
   "source": [
    "n_eqs = 10\n",
    "n_vars = 13\n",
    "seed = 8#seed 10 is nice\n",
    "c = 1.1 #1.7\n",
    "n_nodes = n_eqs + n_vars\n",
    "p = n_nodes/(n_eqs*n_vars + 1.0e-17)*c\n",
    "p = min(p, 1.0 - 1.0e-6) \n",
    "G = bipartite_random_graph(n_eqs, n_vars, p, seed)\n",
    "#G = nx.bipartite.gnmk_random_graph(n_eqs, n_vars, int(0.2*n_vars*n_eqs), seed)"
   ]
  },
  {
   "cell_type": "markdown",
   "id": "93eebed8",
   "metadata": {
    "execution": {
     "iopub.execute_input": "2021-11-24T12:53:53.432470Z",
     "iopub.status.busy": "2021-11-24T12:53:53.432470Z",
     "iopub.status.idle": "2021-11-24T12:53:53.440469Z",
     "shell.execute_reply": "2021-11-24T12:53:53.439469Z",
     "shell.execute_reply.started": "2021-11-24T12:53:53.432470Z"
    }
   },
   "source": [
    "## Complete a potentially incomplete bipartite network\n",
    "Create first a possible matching for all eqs, to make sure a matching is possible"
   ]
  },
  {
   "cell_type": "code",
   "execution_count": 129,
   "id": "f37e80eb",
   "metadata": {
    "execution": {
     "iopub.execute_input": "2021-11-24T16:39:27.072961Z",
     "iopub.status.busy": "2021-11-24T16:39:27.071964Z",
     "iopub.status.idle": "2021-11-24T16:39:27.091960Z",
     "shell.execute_reply": "2021-11-24T16:39:27.090958Z",
     "shell.execute_reply.started": "2021-11-24T16:39:27.072961Z"
    }
   },
   "outputs": [],
   "source": [
    "eqs = list(range(n_eqs))\n",
    "vrs = list(range(n_eqs, n_eqs+n_vars))"
   ]
  },
  {
   "cell_type": "code",
   "execution_count": 130,
   "id": "d05048b7",
   "metadata": {
    "execution": {
     "iopub.execute_input": "2021-11-24T16:39:27.275968Z",
     "iopub.status.busy": "2021-11-24T16:39:27.274961Z",
     "iopub.status.idle": "2021-11-24T16:39:27.295961Z",
     "shell.execute_reply": "2021-11-24T16:39:27.294958Z",
     "shell.execute_reply.started": "2021-11-24T16:39:27.274961Z"
    }
   },
   "outputs": [],
   "source": [
    "rng = np.random.default_rng(8)\n",
    "M = dict(zip(rng.permutation(eqs), rng.permutation(vrs)))"
   ]
  },
  {
   "cell_type": "code",
   "execution_count": 131,
   "id": "e82fe048",
   "metadata": {
    "execution": {
     "iopub.execute_input": "2021-11-24T16:39:27.433990Z",
     "iopub.status.busy": "2021-11-24T16:39:27.432960Z",
     "iopub.status.idle": "2021-11-24T16:39:27.450960Z",
     "shell.execute_reply": "2021-11-24T16:39:27.449959Z",
     "shell.execute_reply.started": "2021-11-24T16:39:27.433990Z"
    }
   },
   "outputs": [],
   "source": [
    "for node in eqs:\n",
    "    G.add_edge(node, M[node])"
   ]
  },
  {
   "cell_type": "code",
   "execution_count": 132,
   "id": "3854ee90",
   "metadata": {
    "execution": {
     "iopub.execute_input": "2021-11-24T16:39:27.593965Z",
     "iopub.status.busy": "2021-11-24T16:39:27.592962Z",
     "iopub.status.idle": "2021-11-24T16:39:27.609960Z",
     "shell.execute_reply": "2021-11-24T16:39:27.609001Z",
     "shell.execute_reply.started": "2021-11-24T16:39:27.593965Z"
    }
   },
   "outputs": [],
   "source": [
    "eqv = {elt: tuple(G[elt]) for elt in eqs}\n",
    "varinc = {elt: tuple(G[elt]) for elt in vrs}\n",
    "allowed = copy.deepcopy(eqv)"
   ]
  },
  {
   "cell_type": "code",
   "execution_count": 133,
   "id": "f8592f3d",
   "metadata": {
    "execution": {
     "iopub.execute_input": "2021-11-24T16:39:27.821004Z",
     "iopub.status.busy": "2021-11-24T16:39:27.821004Z",
     "iopub.status.idle": "2021-11-24T16:39:27.831961Z",
     "shell.execute_reply": "2021-11-24T16:39:27.830964Z",
     "shell.execute_reply.started": "2021-11-24T16:39:27.821004Z"
    }
   },
   "outputs": [
    {
     "data": {
      "text/plain": [
       "{0: (11, 19),\n",
       " 1: (14, 15, 21, 22, 11),\n",
       " 2: (11, 14),\n",
       " 3: (10,),\n",
       " 4: (18, 20, 12),\n",
       " 5: (12, 15, 18, 22, 13),\n",
       " 6: (10, 19, 20, 22, 17),\n",
       " 7: (10, 12, 15),\n",
       " 8: (13, 16, 17, 19, 18),\n",
       " 9: (20,)}"
      ]
     },
     "execution_count": 133,
     "metadata": {},
     "output_type": "execute_result"
    }
   ],
   "source": [
    "eqv"
   ]
  },
  {
   "cell_type": "code",
   "execution_count": 134,
   "id": "e9d5d8a3",
   "metadata": {
    "execution": {
     "iopub.execute_input": "2021-11-24T16:39:29.417817Z",
     "iopub.status.busy": "2021-11-24T16:39:29.417817Z",
     "iopub.status.idle": "2021-11-24T16:39:29.423810Z",
     "shell.execute_reply": "2021-11-24T16:39:29.422808Z",
     "shell.execute_reply.started": "2021-11-24T16:39:29.417817Z"
    }
   },
   "outputs": [],
   "source": [
    "edges = G.edges()"
   ]
  },
  {
   "cell_type": "markdown",
   "id": "d2bbf86b",
   "metadata": {},
   "source": [
    "## Let's try to find a solution without cycles"
   ]
  },
  {
   "cell_type": "code",
   "execution_count": 151,
   "id": "08ad1dc0",
   "metadata": {
    "execution": {
     "iopub.execute_input": "2021-11-24T17:45:25.461062Z",
     "iopub.status.busy": "2021-11-24T17:45:25.453059Z",
     "iopub.status.idle": "2021-11-24T17:45:25.526991Z",
     "shell.execute_reply": "2021-11-24T17:45:25.524989Z",
     "shell.execute_reply.started": "2021-11-24T17:45:25.461062Z"
    }
   },
   "outputs": [],
   "source": [
    "#newdout = resolve(eqv, vrs, edges, maxiter=50, not_input=None)\n",
    "#newdout = dict(newdout)"
   ]
  },
  {
   "cell_type": "code",
   "execution_count": 136,
   "id": "aaada6d7",
   "metadata": {
    "execution": {
     "iopub.execute_input": "2021-11-24T16:39:35.419576Z",
     "iopub.status.busy": "2021-11-24T16:39:35.418561Z",
     "iopub.status.idle": "2021-11-24T16:39:35.437562Z",
     "shell.execute_reply": "2021-11-24T16:39:35.436587Z",
     "shell.execute_reply.started": "2021-11-24T16:39:35.419576Z"
    }
   },
   "outputs": [
    {
     "data": {
      "text/plain": [
       "{0: 11, 1: 21, 2: 14, 3: 10, 4: 18, 5: 13, 6: 22, 7: 15, 8: 16, 9: 20}"
      ]
     },
     "execution_count": 136,
     "metadata": {},
     "output_type": "execute_result"
    }
   ],
   "source": [
    "newdout"
   ]
  },
  {
   "cell_type": "code",
   "execution_count": 137,
   "id": "b9c29ec1",
   "metadata": {
    "execution": {
     "iopub.execute_input": "2021-11-24T16:39:35.657302Z",
     "iopub.status.busy": "2021-11-24T16:39:35.657302Z",
     "iopub.status.idle": "2021-11-24T16:39:35.674262Z",
     "shell.execute_reply": "2021-11-24T16:39:35.673310Z",
     "shell.execute_reply.started": "2021-11-24T16:39:35.657302Z"
    }
   },
   "outputs": [],
   "source": [
    "def make_pure(eqv, dout):\n",
    "    return {idx: (dout[idx], tuple(elt for elt in val if elt != dout[idx])) for idx,val in eqv.items()}"
   ]
  },
  {
   "cell_type": "code",
   "execution_count": 138,
   "id": "d8b605c4",
   "metadata": {
    "execution": {
     "iopub.execute_input": "2021-11-24T16:39:35.868263Z",
     "iopub.status.busy": "2021-11-24T16:39:35.867267Z",
     "iopub.status.idle": "2021-11-24T16:39:35.880262Z",
     "shell.execute_reply": "2021-11-24T16:39:35.879260Z",
     "shell.execute_reply.started": "2021-11-24T16:39:35.867267Z"
    }
   },
   "outputs": [],
   "source": [
    "def default_in(eqlist, eqdictin=True):\n",
    "    if eqdictin:\n",
    "        eqlist = eqlist.values()\n",
    "    ins = set()\n",
    "    outvrs = set()\n",
    "    for left, _ in eqlist:\n",
    "        if left:\n",
    "            outvrs = outvrs.union({left})\n",
    "    for _, right in eqlist:\n",
    "        ins = ins.union({elt for elt in right \n",
    "            if elt not in outvrs}) \n",
    "    return ins"
   ]
  },
  {
   "cell_type": "code",
   "execution_count": 139,
   "id": "934258db",
   "metadata": {
    "execution": {
     "iopub.execute_input": "2021-11-24T16:39:36.083273Z",
     "iopub.status.busy": "2021-11-24T16:39:36.082264Z",
     "iopub.status.idle": "2021-11-24T16:39:36.101261Z",
     "shell.execute_reply": "2021-11-24T16:39:36.100265Z",
     "shell.execute_reply.started": "2021-11-24T16:39:36.083273Z"
    }
   },
   "outputs": [
    {
     "name": "stdout",
     "output_type": "stream",
     "text": [
      "[{17}, {10}, {12}, {15}, {20}, {18}, {19}, {22}, {13}, {16}, {11}, {14}, {21}]\n"
     ]
    }
   ],
   "source": [
    "D1, _ = digraph_repr(eqv, newdout)\n",
    "C = nx.condensation(D1)\n",
    "order = [C.nodes[n]['members'] for n in nx.topological_sort(C)]\n",
    "print(order)"
   ]
  },
  {
   "cell_type": "code",
   "execution_count": 140,
   "id": "0f5886eb",
   "metadata": {
    "execution": {
     "iopub.execute_input": "2021-11-24T16:39:36.364270Z",
     "iopub.status.busy": "2021-11-24T16:39:36.364270Z",
     "iopub.status.idle": "2021-11-24T16:39:37.222261Z",
     "shell.execute_reply": "2021-11-24T16:39:37.221306Z",
     "shell.execute_reply.started": "2021-11-24T16:39:36.364270Z"
    }
   },
   "outputs": [
    {
     "data": {
      "image/png": "[encoded data removed]",
      "text/plain": [
       "<Figure size 432x288 with 1 Axes>"
      ]
     },
     "metadata": {
      "needs_background": "light"
     },
     "output_type": "display_data"
    }
   ],
   "source": [
    "rlookup = {var:key for key,var in newdout.items()}\n",
    "flattenorder = [rlookup[elt] for s in order for elt in s if elt in rlookup]\n",
    "draw_dsm(D1, flattenorder, newdout, addvar=True);"
   ]
  },
  {
   "cell_type": "code",
   "execution_count": 141,
   "id": "e6c5e96c",
   "metadata": {
    "execution": {
     "iopub.execute_input": "2021-11-24T16:39:37.224274Z",
     "iopub.status.busy": "2021-11-24T16:39:37.224274Z",
     "iopub.status.idle": "2021-11-24T16:39:37.254264Z",
     "shell.execute_reply": "2021-11-24T16:39:37.253265Z",
     "shell.execute_reply.started": "2021-11-24T16:39:37.224274Z"
    }
   },
   "outputs": [
    {
     "data": {
      "text/plain": [
       "{12, 17, 19}"
      ]
     },
     "execution_count": 141,
     "metadata": {},
     "output_type": "execute_result"
    }
   ],
   "source": [
    "eqsnew = make_pure(eqv, newdout)\n",
    "default_in(eqsnew)"
   ]
  },
  {
   "cell_type": "code",
   "execution_count": 142,
   "id": "358dbe5f",
   "metadata": {
    "execution": {
     "iopub.execute_input": "2021-11-24T16:39:37.716265Z",
     "iopub.status.busy": "2021-11-24T16:39:37.716265Z",
     "iopub.status.idle": "2021-11-24T16:39:37.728262Z",
     "shell.execute_reply": "2021-11-24T16:39:37.727266Z",
     "shell.execute_reply.started": "2021-11-24T16:39:37.716265Z"
    }
   },
   "outputs": [
    {
     "name": "stdout",
     "output_type": "stream",
     "text": [
      "[{16}, {10}, {20}, {22}, {21}, {11, 12, 13, 14, 15, 17, 18, 19}]\n"
     ]
    }
   ],
   "source": [
    "D2, _ = digraph_repr(eqv, M)\n",
    "C = nx.condensation(D2)\n",
    "order2 = [C.nodes[n]['members'] for n in nx.topological_sort(C)]\n",
    "print(order2)"
   ]
  },
  {
   "cell_type": "code",
   "execution_count": 259,
   "id": "508927cd",
   "metadata": {
    "execution": {
     "iopub.execute_input": "2021-11-25T14:10:08.563501Z",
     "iopub.status.busy": "2021-11-25T14:10:08.562499Z",
     "iopub.status.idle": "2021-11-25T14:10:09.795286Z",
     "shell.execute_reply": "2021-11-25T14:10:09.794299Z",
     "shell.execute_reply.started": "2021-11-25T14:10:08.563501Z"
    }
   },
   "outputs": [
    {
     "data": {
      "image/png": "[encoded data removed]",
      "text/plain": [
       "<Figure size 432x288 with 1 Axes>"
      ]
     },
     "metadata": {
      "needs_background": "light"
     },
     "output_type": "display_data"
    }
   ],
   "source": [
    "rlookup2 = {var:key for key,var in M.items()}\n",
    "flattenorder2 = [rlookup2[elt] for s in order2 for elt in s if elt in rlookup2]\n",
    "draw_dsm(D2, flattenorder2, M, addvar=True);"
   ]
  },
  {
   "cell_type": "code",
   "execution_count": 144,
   "id": "8b9aae73",
   "metadata": {
    "execution": {
     "iopub.execute_input": "2021-11-24T16:39:43.123989Z",
     "iopub.status.busy": "2021-11-24T16:39:43.123989Z",
     "iopub.status.idle": "2021-11-24T16:39:43.137985Z",
     "shell.execute_reply": "2021-11-24T16:39:43.136981Z",
     "shell.execute_reply.started": "2021-11-24T16:39:43.123989Z"
    }
   },
   "outputs": [
    {
     "data": {
      "text/plain": [
       "{16, 21, 22}"
      ]
     },
     "execution_count": 144,
     "metadata": {},
     "output_type": "execute_result"
    }
   ],
   "source": [
    "eqsold = make_pure(eqv, M)\n",
    "default_in(eqsold)"
   ]
  },
  {
   "cell_type": "markdown",
   "id": "562e92a5",
   "metadata": {},
   "source": [
    "# Generate eqs"
   ]
  },
  {
   "cell_type": "code",
   "execution_count": 145,
   "id": "3c2ad7f8",
   "metadata": {
    "execution": {
     "iopub.execute_input": "2021-11-24T16:39:48.129649Z",
     "iopub.status.busy": "2021-11-24T16:39:48.128645Z",
     "iopub.status.idle": "2021-11-24T16:39:48.152641Z",
     "shell.execute_reply": "2021-11-24T16:39:48.151639Z",
     "shell.execute_reply.started": "2021-11-24T16:39:48.129649Z"
    }
   },
   "outputs": [],
   "source": [
    "rng = np.random.default_rng(12345)\n",
    "smallrand = lambda n=1: np.round(rng.uniform(low=-1, high=1),n)\n",
    "def gen_eqsdata(l):\n",
    "    size = len(l)\n",
    "    sall = []\n",
    "    calcs = []\n",
    "    for s in sample(l, size):\n",
    "        q = {s}\n",
    "        if q not in sall:\n",
    "            sall.append(q)\n",
    "            calcs.append((smallrand(), [s]))\n",
    "    for elt in range(2,min(4,size+1)):\n",
    "        s = sample(l, elt)\n",
    "        if set(s) not in sall:\n",
    "            sall.append(set(s))\n",
    "            calcs.append((smallrand(), s))\n",
    "    return calcs\n",
    "\n",
    "def gen_speqs(eqs, sdict):\n",
    "    calcs = gen_eqsdata(eqs)\n",
    "    adder = smallrand()\n",
    "    return sum([c*reduce(lambda a, b: a*sdict[b], [1]+r) for c,r in calcs])+adder\n",
    "\n",
    "def gen_alleqs(eqv, sdict):\n",
    "    return {idx: gen_speqs(vrs, sdict) for idx,vrs in eqv.items()}"
   ]
  },
  {
   "cell_type": "code",
   "execution_count": 146,
   "id": "6b4fca65",
   "metadata": {
    "execution": {
     "iopub.execute_input": "2021-11-24T16:39:49.384709Z",
     "iopub.status.busy": "2021-11-24T16:39:49.384709Z",
     "iopub.status.idle": "2021-11-24T16:39:49.395712Z",
     "shell.execute_reply": "2021-11-24T16:39:49.394706Z",
     "shell.execute_reply.started": "2021-11-24T16:39:49.384709Z"
    }
   },
   "outputs": [],
   "source": [
    "sdict = {elt:sp.Symbol('x_{}'.format(elt)) for elt in vrs}"
   ]
  },
  {
   "cell_type": "code",
   "execution_count": 147,
   "id": "e3fc02b3",
   "metadata": {
    "execution": {
     "iopub.execute_input": "2021-11-24T16:39:50.173616Z",
     "iopub.status.busy": "2021-11-24T16:39:50.173616Z",
     "iopub.status.idle": "2021-11-24T16:39:50.191579Z",
     "shell.execute_reply": "2021-11-24T16:39:50.190615Z",
     "shell.execute_reply.started": "2021-11-24T16:39:50.173616Z"
    }
   },
   "outputs": [
    {
     "data": {
      "text/plain": [
       "{0: (11, 19),\n",
       " 1: (14, 15, 21, 22, 11),\n",
       " 2: (11, 14),\n",
       " 3: (10,),\n",
       " 4: (18, 20, 12),\n",
       " 5: (12, 15, 18, 22, 13),\n",
       " 6: (10, 19, 20, 22, 17),\n",
       " 7: (10, 12, 15),\n",
       " 8: (13, 16, 17, 19, 18),\n",
       " 9: (20,)}"
      ]
     },
     "execution_count": 147,
     "metadata": {},
     "output_type": "execute_result"
    }
   ],
   "source": [
    "eqv"
   ]
  },
  {
   "cell_type": "code",
   "execution_count": 148,
   "id": "89ae8fea",
   "metadata": {
    "execution": {
     "iopub.execute_input": "2021-11-24T16:39:51.546881Z",
     "iopub.status.busy": "2021-11-24T16:39:51.545883Z",
     "iopub.status.idle": "2021-11-24T16:39:51.593884Z",
     "shell.execute_reply": "2021-11-24T16:39:51.592893Z",
     "shell.execute_reply.started": "2021-11-24T16:39:51.546881Z"
    }
   },
   "outputs": [],
   "source": [
    "seqs = gen_alleqs(eqv, sdict)"
   ]
  },
  {
   "cell_type": "code",
   "execution_count": 155,
   "id": "b1e97a91",
   "metadata": {
    "execution": {
     "iopub.execute_input": "2021-11-25T10:49:56.248711Z",
     "iopub.status.busy": "2021-11-25T10:49:56.248711Z",
     "iopub.status.idle": "2021-11-25T10:49:56.285711Z",
     "shell.execute_reply": "2021-11-25T10:49:56.283708Z",
     "shell.execute_reply.started": "2021-11-25T10:49:56.248711Z"
    }
   },
   "outputs": [
    {
     "data": {
      "text/plain": [
       "{0: (11, (19,)),\n",
       " 1: (21, (14, 15, 22, 11)),\n",
       " 2: (14, (11,)),\n",
       " 3: (10, ()),\n",
       " 4: (18, (20, 12)),\n",
       " 5: (13, (12, 15, 18, 22)),\n",
       " 6: (22, (10, 19, 20, 17)),\n",
       " 7: (15, (10, 12)),\n",
       " 8: (16, (13, 17, 19, 18)),\n",
       " 9: (20, ())}"
      ]
     },
     "execution_count": 155,
     "metadata": {},
     "output_type": "execute_result"
    }
   ],
   "source": [
    "eqsnew"
   ]
  },
  {
   "cell_type": "code",
   "execution_count": 150,
   "id": "e873c6c9",
   "metadata": {
    "execution": {
     "iopub.execute_input": "2021-11-24T16:40:12.027189Z",
     "iopub.status.busy": "2021-11-24T16:40:12.027189Z",
     "iopub.status.idle": "2021-11-24T16:40:12.068145Z",
     "shell.execute_reply": "2021-11-24T16:40:12.067192Z",
     "shell.execute_reply.started": "2021-11-24T16:40:12.027189Z"
    }
   },
   "outputs": [
    {
     "name": "stdout",
     "output_type": "stream",
     "text": [
      "@var x_10, x_11, x_12, x_13, x_14, x_15, x_16, x_17, x_18, x_19, x_20, x_21, x_22\n",
      "@var λ[1:10];\n",
      "h0=0.6*x_11*x_19 - 0.5*x_11 - 0.4*x_19 + 0.4;\n",
      "h1=-0.5*x_11*x_14*x_22 - 0.3*x_11 + 0.9*x_14*x_22 - 0.6*x_14 + 0.3*x_15 + 0.2*x_21 - 0.2*x_22 + 0.9;\n",
      "h2=-0.1*x_11*x_14 + 0.3*x_11 - 0.8*x_14 + 0.8;\n",
      "h3=0.4*x_10 - 0.3;\n",
      "h4=-0.3*x_12*x_18*x_20 - 0.7*x_12*x_20 - 0.6*x_12 - 0.8*x_18 + 0.5*x_20 - 0.1;\n",
      "h5=0.7*x_12*x_13*x_18 - 0.5*x_12 - 0.7*x_13 - 0.8*x_15 + 0.2*x_18*x_22 - 0.6*x_18 + 0.6*x_22 + 0.2;\n",
      "h6=0.9*x_10*x_17 + 0.9*x_10 + 0.7*x_17 + 0.9*x_19 + 0.4*x_20 + 0.1*x_22 - 0.5;\n",
      "h7=-0.5*x_10*x_12*x_15 - 0.1*x_10 + 0.8*x_12*x_15 + 0.3*x_12 - 0.3*x_15 - 0.3;\n",
      "h8=0.2*x_13*x_16*x_18 - 0.3*x_13 - 0.9*x_16*x_19 - 0.4*x_16 + 0.3*x_17 - 1.0*x_18 - 0.5*x_19 - 0.6;\n",
      "h9=-0.4*x_20 - 0.1;\n",
      "vars=[x_10, x_11, x_12, x_13, x_14, x_15, x_16, x_17, x_18, x_19, x_20, x_21, x_22]\n",
      "dfdx=[0, 0, 0, 0, 0, 0, 0, 0, 0, 0, 0, x_21, 0]\n",
      "h=[h0, h1, h2, h3, h4, h5, h6, h7, h8, h9];\n"
     ]
    }
   ],
   "source": [
    "print('@var {}'.format(\", \".join(['x_{}'.format(vr) for vr in vrs])))\n",
    "print('@var λ[1:{}];'.format(n_eqs))\n",
    "for key, var in seqs.items():\n",
    "    print('h{}={};'.format(key, var))\n",
    "print('vars=[{}]'.format(\", \".join(['x_{}'.format(vr) for vr in vrs])))\n",
    "print('dfdx=[{}]'.format(\", \".join([str(0) if vr!=21 else 'x_{}'.format(vr) for vr in vrs])))\n",
    "print('h=[{}];'.format(\", \".join(['h{}'.format(eq) for eq in seqs.keys()])))"
   ]
  },
  {
   "cell_type": "markdown",
   "id": "00939574",
   "metadata": {},
   "source": [
    "# Generate compute workflows\n",
    "One where we have first set as input, and the other where we have second set as input with equality constraints (i.e. AAO/IDF) and one with MDF, although MDF might be really tricky"
   ]
  },
  {
   "cell_type": "code",
   "execution_count": 234,
   "id": "a6bdc381",
   "metadata": {
    "execution": {
     "iopub.execute_input": "2021-11-25T13:27:26.835762Z",
     "iopub.status.busy": "2021-11-25T13:27:26.835762Z",
     "iopub.status.idle": "2021-11-25T13:27:26.840761Z",
     "shell.execute_reply": "2021-11-25T13:27:26.839762Z",
     "shell.execute_reply.started": "2021-11-25T13:27:26.835762Z"
    }
   },
   "outputs": [],
   "source": [
    "import openmdao.api as om\n",
    "from notationcompute import optsolver, solver, explicit\n",
    "from compute import buildidpvars, Expcomp, Evaluable"
   ]
  },
  {
   "cell_type": "code",
   "execution_count": 260,
   "id": "03948d7e",
   "metadata": {
    "execution": {
     "iopub.execute_input": "2021-11-25T14:10:24.216703Z",
     "iopub.status.busy": "2021-11-25T14:10:24.215703Z",
     "iopub.status.idle": "2021-11-25T14:10:24.229701Z",
     "shell.execute_reply": "2021-11-25T14:10:24.228705Z",
     "shell.execute_reply.started": "2021-11-25T14:10:24.216703Z"
    }
   },
   "outputs": [
    {
     "name": "stdout",
     "output_type": "stream",
     "text": [
      "[3, 9, 1, 4, 5, 2, 7, 6, 8, 0] [{16}, {10}, {20}, {22}, {21}, {11, 12, 13, 14, 15, 17, 18, 19}]\n"
     ]
    }
   ],
   "source": [
    "print(flattenorder2, order2)"
   ]
  },
  {
   "cell_type": "code",
   "execution_count": 176,
   "id": "4c0652ed",
   "metadata": {
    "execution": {
     "iopub.execute_input": "2021-11-25T13:11:27.160915Z",
     "iopub.status.busy": "2021-11-25T13:11:27.160915Z",
     "iopub.status.idle": "2021-11-25T13:11:27.179395Z",
     "shell.execute_reply": "2021-11-25T13:11:27.178430Z",
     "shell.execute_reply.started": "2021-11-25T13:11:27.160915Z"
    }
   },
   "outputs": [
    {
     "data": {
      "text/plain": [
       "{16, 21, 22}"
      ]
     },
     "execution_count": 176,
     "metadata": {},
     "output_type": "execute_result"
    }
   ],
   "source": [
    "default_in(eqsold)"
   ]
  },
  {
   "cell_type": "code",
   "execution_count": 250,
   "id": "cd7d6faf",
   "metadata": {
    "execution": {
     "iopub.execute_input": "2021-11-25T14:09:11.930466Z",
     "iopub.status.busy": "2021-11-25T14:09:11.930466Z",
     "iopub.status.idle": "2021-11-25T14:09:12.955925Z",
     "shell.execute_reply": "2021-11-25T14:09:12.951920Z",
     "shell.execute_reply.started": "2021-11-25T14:09:11.930466Z"
    }
   },
   "outputs": [],
   "source": [
    "eqsfull = {idx: (sdict[eqsold[idx][0]], reassigneq(None, eq, sdict[eqsold[idx][0]])) for idx, eq in seqs.items()}\n"
   ]
  },
  {
   "cell_type": "code",
   "execution_count": 253,
   "id": "9a9d9470",
   "metadata": {
    "execution": {
     "iopub.execute_input": "2021-11-25T14:09:22.085723Z",
     "iopub.status.busy": "2021-11-25T14:09:22.084722Z",
     "iopub.status.idle": "2021-11-25T14:09:22.106720Z",
     "shell.execute_reply": "2021-11-25T14:09:22.105719Z",
     "shell.execute_reply.started": "2021-11-25T14:09:22.085723Z"
    }
   },
   "outputs": [],
   "source": [
    "optin = {key:(None, val) for key,val in seqs.items()}\n",
    "optin['f'] = (None, sdict[16]**2+sdict[21]**2)"
   ]
  },
  {
   "cell_type": "code",
   "execution_count": 254,
   "id": "fe61e7a7",
   "metadata": {
    "execution": {
     "iopub.execute_input": "2021-11-25T14:09:22.810801Z",
     "iopub.status.busy": "2021-11-25T14:09:22.810801Z",
     "iopub.status.idle": "2021-11-25T14:09:22.827794Z",
     "shell.execute_reply": "2021-11-25T14:09:22.826797Z",
     "shell.execute_reply.started": "2021-11-25T14:09:22.810801Z"
    }
   },
   "outputs": [],
   "source": [
    "def optsolver(groups, eqs, parentid, childid, solvevars, res):\n",
    "    parent = groups[parentid]\n",
    "    childid= 0\n",
    "    child = groups[childid]# = parent.add_subsystem('group{}'.format(childid), \n",
    "        #om.Group(), promotes=['*'])\n",
    "    for vr in solvevars:\n",
    "        child.add_design_var(str(vr))\n",
    "    ineqlts, eqlts, obj = res\n",
    "    constraintnames = {\n",
    "        'g{}'.format(childid): (ineqlts, {'upper':0.}),\n",
    "        'h{}'.format(childid): (eqlts, {'upper':0., 'lower':0.}),\n",
    "        'f{}'.format(childid): (obj, 'obj'),\n",
    "    }\n",
    "    for constraintname, (equations, bnd) in constraintnames.items():\n",
    "        for eqn in equations:\n",
    "            outname = constraintname+str(eqn)\n",
    "            cmp = Expcomp(output_name=outname, equation=Evaluable.fromsympy(eqs[eqn][1]), debug=False)\n",
    "            child.add_subsystem(\"eq{}\".format(eqn), cmp, promotes=['*'])\n",
    "            if bnd != 'obj':\n",
    "                child.add_constraint('{}{}'.format(constraintname, eqn), **bnd)\n",
    "            else:\n",
    "                child.add_objective(outname)"
   ]
  },
  {
   "cell_type": "code",
   "execution_count": 255,
   "id": "4f4a19ad",
   "metadata": {
    "execution": {
     "iopub.execute_input": "2021-11-25T14:09:23.551226Z",
     "iopub.status.busy": "2021-11-25T14:09:23.551226Z",
     "iopub.status.idle": "2021-11-25T14:09:23.569221Z",
     "shell.execute_reply": "2021-11-25T14:09:23.568223Z",
     "shell.execute_reply.started": "2021-11-25T14:09:23.551226Z"
    }
   },
   "outputs": [],
   "source": [
    "prob = om.Problem()\n",
    "model = prob.model\n",
    "groups = {0:model}"
   ]
  },
  {
   "cell_type": "code",
   "execution_count": 256,
   "id": "52a79b2f",
   "metadata": {
    "execution": {
     "iopub.execute_input": "2021-11-25T14:09:25.827862Z",
     "iopub.status.busy": "2021-11-25T14:09:25.826858Z",
     "iopub.status.idle": "2021-11-25T14:09:25.932860Z",
     "shell.execute_reply": "2021-11-25T14:09:25.931109Z",
     "shell.execute_reply.started": "2021-11-25T14:09:25.827862Z"
    }
   },
   "outputs": [],
   "source": [
    "solvefor = ['x_16', 'x_21', 'x_22', 'x_11', 'x_12', 'x_13', 'x_14', 'x_15', 'x_17', 'x_18', 'x_19']\n",
    "scceqs = [1, 4, 5, 2, 7, 6, 8, 0]\n",
    "buildidpvars(solvefor, model)\n",
    "explicit(groups, eqsfull, 0, 'x_10', 3)\n",
    "explicit(groups, eqsfull, 0, 'x_20', 9)\n",
    "optsolver(groups, optin, 0, 1, solvefor, ([],scceqs,['f']))"
   ]
  },
  {
   "cell_type": "code",
   "execution_count": 257,
   "id": "899bcde0",
   "metadata": {
    "execution": {
     "iopub.execute_input": "2021-11-25T14:09:27.281774Z",
     "iopub.status.busy": "2021-11-25T14:09:27.280789Z",
     "iopub.status.idle": "2021-11-25T14:09:27.347749Z",
     "shell.execute_reply": "2021-11-25T14:09:27.346758Z",
     "shell.execute_reply.started": "2021-11-25T14:09:27.281774Z"
    }
   },
   "outputs": [],
   "source": [
    "prob.setup();"
   ]
  },
  {
   "cell_type": "code",
   "execution_count": 258,
   "id": "01e8ef83",
   "metadata": {
    "execution": {
     "iopub.execute_input": "2021-11-25T14:09:32.890677Z",
     "iopub.status.busy": "2021-11-25T14:09:32.890677Z",
     "iopub.status.idle": "2021-11-25T14:09:33.079676Z",
     "shell.execute_reply": "2021-11-25T14:09:33.078671Z",
     "shell.execute_reply.started": "2021-11-25T14:09:32.890677Z"
    }
   },
   "outputs": [
    {
     "data": {
      "text/html": [
       "\n",
       "        <iframe\n",
       "            width=\"100%\"\n",
       "            height=\"700\"\n",
       "            src=\"n2.html\"\n",
       "            frameborder=\"0\"\n",
       "            allowfullscreen\n",
       "        ></iframe>\n",
       "        "
      ],
      "text/plain": [
       "<IPython.lib.display.IFrame at 0x1fa791791f0>"
      ]
     },
     "metadata": {},
     "output_type": "display_data"
    }
   ],
   "source": [
    "om.n2(model)"
   ]
  },
  {
   "cell_type": "code",
   "execution_count": 245,
   "id": "cf8ef43a",
   "metadata": {
    "execution": {
     "iopub.execute_input": "2021-11-25T13:32:14.681907Z",
     "iopub.status.busy": "2021-11-25T13:32:14.680908Z",
     "iopub.status.idle": "2021-11-25T13:32:14.895424Z",
     "shell.execute_reply": "2021-11-25T13:32:14.893423Z",
     "shell.execute_reply.started": "2021-11-25T13:32:14.681907Z"
    }
   },
   "outputs": [
    {
     "name": "stdout",
     "output_type": "stream",
     "text": [
      "Optimization terminated successfully    (Exit mode 0)\n",
      "            Current function value: [1.16658383e-09]\n",
      "            Iterations: 9\n",
      "            Function evaluations: 10\n",
      "            Gradient evaluations: 9\n",
      "Optimization Complete\n",
      "-----------------------------------\n"
     ]
    }
   ],
   "source": [
    "prob.set_solver_print(level=1)\n",
    "prob.driver = om.ScipyOptimizeDriver()\n",
    "prob.run_driver();"
   ]
  },
  {
   "cell_type": "code",
   "execution_count": 246,
   "id": "25fa1ef7",
   "metadata": {
    "execution": {
     "iopub.execute_input": "2021-11-25T13:32:16.712485Z",
     "iopub.status.busy": "2021-11-25T13:32:16.711482Z",
     "iopub.status.idle": "2021-11-25T13:32:16.734487Z",
     "shell.execute_reply": "2021-11-25T13:32:16.733482Z",
     "shell.execute_reply.started": "2021-11-25T13:32:16.712485Z"
    }
   },
   "outputs": [
    {
     "name": "stdout",
     "output_type": "stream",
     "text": [
      "22 Explicit Output(s) in 'model'\n",
      "\n",
      "varname  val              \n",
      "-------  -----------------\n",
      "inp\n",
      "  x_16   [-2.89382005e-05]\n",
      "  x_21   [-1.81428878e-05]\n",
      "  x_22   [0.47946865]     \n",
      "  x_11   [1.01782076]     \n",
      "  x_12   [1.23297297]     \n",
      "  x_13   [0.23958623]     \n",
      "  x_14   [1.22573542]     \n",
      "  x_15   [0.02280266]     \n",
      "  x_17   [-0.42776117]    \n",
      "  x_18   [-1.0586359]     \n",
      "  x_19   [0.51691638]     \n",
      "eq3\n",
      "  x_10   [0.75]           \n",
      "eq9\n",
      "  x_20   [-0.25]          \n",
      "eq1\n",
      "  h01    [-3.0293279e-09] \n",
      "eq4\n",
      "  h04    [-2.6117622e-10] \n",
      "eq5\n",
      "  h05    [2.12592671e-09] \n",
      "eq2\n",
      "  h02    [-2.4103608e-11] \n",
      "eq7\n",
      "  h07    [-2.80375118e-09]\n",
      "eq6\n",
      "  h06    [0.]             \n",
      "eq8\n",
      "  h08    [2.8628383e-09]  \n",
      "eq0\n",
      "  h00    [7.36539274e-10] \n",
      "eqf\n",
      "  f0f    [1.16658383e-09] \n",
      "\n",
      "\n",
      "0 Implicit Output(s) in 'model'\n",
      "\n",
      "\n"
     ]
    }
   ],
   "source": [
    "model.list_outputs();"
   ]
  },
  {
   "cell_type": "markdown",
   "id": "0e2f221e",
   "metadata": {},
   "source": [
    "## Workflow 2"
   ]
  },
  {
   "cell_type": "code",
   "execution_count": 249,
   "id": "1a064da6",
   "metadata": {
    "execution": {
     "iopub.execute_input": "2021-11-25T14:08:38.290606Z",
     "iopub.status.busy": "2021-11-25T14:08:38.290606Z",
     "iopub.status.idle": "2021-11-25T14:08:39.300297Z",
     "shell.execute_reply": "2021-11-25T14:08:39.298551Z",
     "shell.execute_reply.started": "2021-11-25T14:08:38.290606Z"
    }
   },
   "outputs": [],
   "source": [
    "eqsfull2 = {idx: (sdict[eqsnew[idx][0]], reassigneq(None, eq, sdict[eqsnew[idx][0]])) for idx, eq in seqs.items()}"
   ]
  },
  {
   "cell_type": "code",
   "execution_count": 269,
   "id": "0a7d9172",
   "metadata": {
    "execution": {
     "iopub.execute_input": "2021-11-25T14:13:51.511572Z",
     "iopub.status.busy": "2021-11-25T14:13:51.511572Z",
     "iopub.status.idle": "2021-11-25T14:13:51.549569Z",
     "shell.execute_reply": "2021-11-25T14:13:51.548566Z",
     "shell.execute_reply.started": "2021-11-25T14:13:51.511572Z"
    }
   },
   "outputs": [
    {
     "data": {
      "text/plain": [
       "{0: (x_11, 4.0*(x_19 - 1.0)/(6.0*x_19 - 5.0)),\n",
       " 1: (x_21,\n",
       "  2.5*x_11*x_14*x_22 + 1.5*x_11 - 4.5*x_14*x_22 + 3.0*x_14 - 1.5*x_15 + x_22 - 4.5),\n",
       " 2: (x_14, (3.0*x_11 + 8.0)/(x_11 + 8.0)),\n",
       " 3: (x_10, 0.750000000000000),\n",
       " 4: (x_18, (-7.0*x_12*x_20 - 6.0*x_12 + 5.0*x_20 - 1.0)/(3.0*x_12*x_20 + 8.0)),\n",
       " 5: (x_13,\n",
       "  0.142857142857143*(5.0*x_12 + 8.0*x_15 - 2.0*x_18*x_22 + 6.0*x_18 - 6.0*x_22 - 2.0)/(x_12*x_18 - 1.0)),\n",
       " 6: (x_22, -9.0*x_10*x_17 - 9.0*x_10 - 7.0*x_17 - 9.0*x_19 - 4.0*x_20 + 5.0),\n",
       " 7: (x_15, (-x_10 + 3.0*x_12 - 3.0)/(5.0*x_10*x_12 - 8.0*x_12 + 3.0)),\n",
       " 8: (x_16,\n",
       "  (-3.0*x_13 + 3.0*x_17 - 10.0*x_18 - 5.0*x_19 - 6.0)/(-2.0*x_13*x_18 + 9.0*x_19 + 4.0)),\n",
       " 9: (x_20, -0.250000000000000)}"
      ]
     },
     "execution_count": 269,
     "metadata": {},
     "output_type": "execute_result"
    }
   ],
   "source": [
    "eqsfull2"
   ]
  },
  {
   "cell_type": "code",
   "execution_count": 261,
   "id": "65a28463",
   "metadata": {
    "execution": {
     "iopub.execute_input": "2021-11-25T14:11:01.148660Z",
     "iopub.status.busy": "2021-11-25T14:11:01.148660Z",
     "iopub.status.idle": "2021-11-25T14:11:01.171664Z",
     "shell.execute_reply": "2021-11-25T14:11:01.170657Z",
     "shell.execute_reply.started": "2021-11-25T14:11:01.148660Z"
    }
   },
   "outputs": [
    {
     "data": {
      "text/plain": [
       "[3, 7, 9, 4, 6, 5, 8, 0, 2, 1]"
      ]
     },
     "execution_count": 261,
     "metadata": {},
     "output_type": "execute_result"
    }
   ],
   "source": [
    "flattenorder"
   ]
  },
  {
   "cell_type": "code",
   "execution_count": 281,
   "id": "f1aec3a3",
   "metadata": {
    "execution": {
     "iopub.execute_input": "2021-11-25T14:15:32.272097Z",
     "iopub.status.busy": "2021-11-25T14:15:32.271098Z",
     "iopub.status.idle": "2021-11-25T14:15:32.282097Z",
     "shell.execute_reply": "2021-11-25T14:15:32.281097Z",
     "shell.execute_reply.started": "2021-11-25T14:15:32.272097Z"
    }
   },
   "outputs": [],
   "source": [
    "prob = om.Problem()\n",
    "model = prob.model\n",
    "groups = {0:model}"
   ]
  },
  {
   "cell_type": "code",
   "execution_count": 282,
   "id": "a116aed2",
   "metadata": {
    "execution": {
     "iopub.execute_input": "2021-11-25T14:15:32.514137Z",
     "iopub.status.busy": "2021-11-25T14:15:32.513104Z",
     "iopub.status.idle": "2021-11-25T14:15:32.566156Z",
     "shell.execute_reply": "2021-11-25T14:15:32.565196Z",
     "shell.execute_reply.started": "2021-11-25T14:15:32.514137Z"
    }
   },
   "outputs": [],
   "source": [
    "solvefor = ['x_12', 'x_17', 'x_19']\n",
    "scceqs = [3, 7, 9, 4, 6, 5, 8, 0, 2, 1]\n",
    "buildidpvars(solvefor, model)\n",
    "for idx in scceqs:\n",
    "    explicit(groups, eqsfull2, 0, eqsfull2[idx][0], idx)\n",
    "optsolver(groups, optin, 0, 1, solvefor, ([],[],['f']))"
   ]
  },
  {
   "cell_type": "code",
   "execution_count": 283,
   "id": "d548a06b",
   "metadata": {
    "execution": {
     "iopub.execute_input": "2021-11-25T14:15:32.961223Z",
     "iopub.status.busy": "2021-11-25T14:15:32.960216Z",
     "iopub.status.idle": "2021-11-25T14:15:32.972217Z",
     "shell.execute_reply": "2021-11-25T14:15:32.971217Z",
     "shell.execute_reply.started": "2021-11-25T14:15:32.961223Z"
    }
   },
   "outputs": [],
   "source": [
    "prob.setup();"
   ]
  },
  {
   "cell_type": "code",
   "execution_count": 285,
   "id": "2f9e5198",
   "metadata": {
    "execution": {
     "iopub.execute_input": "2021-11-25T14:15:52.648617Z",
     "iopub.status.busy": "2021-11-25T14:15:52.648617Z",
     "iopub.status.idle": "2021-11-25T14:15:53.198617Z",
     "shell.execute_reply": "2021-11-25T14:15:53.196620Z",
     "shell.execute_reply.started": "2021-11-25T14:15:52.648617Z"
    }
   },
   "outputs": [
    {
     "name": "stdout",
     "output_type": "stream",
     "text": [
      "Optimization terminated successfully    (Exit mode 0)\n",
      "            Current function value: [2.72715856e-07]\n",
      "            Iterations: 22\n",
      "            Function evaluations: 44\n",
      "            Gradient evaluations: 22\n",
      "Optimization Complete\n",
      "-----------------------------------\n"
     ]
    }
   ],
   "source": [
    "prob.set_solver_print(level=1)\n",
    "prob.driver = om.ScipyOptimizeDriver()\n",
    "prob.run_driver();"
   ]
  },
  {
   "cell_type": "code",
   "execution_count": 286,
   "id": "9827deab",
   "metadata": {
    "execution": {
     "iopub.execute_input": "2021-11-25T14:16:03.358279Z",
     "iopub.status.busy": "2021-11-25T14:16:03.358279Z",
     "iopub.status.idle": "2021-11-25T14:16:03.383269Z",
     "shell.execute_reply": "2021-11-25T14:16:03.382269Z",
     "shell.execute_reply.started": "2021-11-25T14:16:03.358279Z"
    }
   },
   "outputs": [
    {
     "name": "stdout",
     "output_type": "stream",
     "text": [
      "14 Explicit Output(s) in 'model'\n",
      "\n",
      "varname  val             \n",
      "-------  ----------------\n",
      "inp\n",
      "  x_12   [-7.08793947]   \n",
      "  x_17   [2.55704489]    \n",
      "  x_19   [-4.04718639]   \n",
      "eq3\n",
      "  x_10   [0.75]          \n",
      "eq7\n",
      "  x_15   [-0.7551628]    \n",
      "eq9\n",
      "  x_20   [-0.25]         \n",
      "eq4\n",
      "  x_18   [2.09325907]    \n",
      "eq6\n",
      "  x_22   [0.51531025]    \n",
      "eq5\n",
      "  x_13   [0.32627848]    \n",
      "eq8\n",
      "  x_16   [0.00012901]    \n",
      "eq0\n",
      "  x_11   [0.68943291]    \n",
      "eq2\n",
      "  x_14   [1.15868306]    \n",
      "eq1\n",
      "  x_21   [0.00050603]    \n",
      "eqf\n",
      "  f0f    [2.72715856e-07]\n",
      "\n",
      "\n",
      "0 Implicit Output(s) in 'model'\n",
      "\n",
      "\n"
     ]
    }
   ],
   "source": [
    "model.list_outputs();"
   ]
  },
  {
   "cell_type": "code",
   "execution_count": null,
   "id": "f1346b90",
   "metadata": {},
   "outputs": [],
   "source": []
  }
 ],
 "metadata": {
  "kernelspec": {
   "display_name": "mdo",
   "language": "python",
   "name": "mdo"
  },
  "language_info": {
   "codemirror_mode": {
    "name": "ipython",
    "version": 3
   },
   "file_extension": ".py",
   "mimetype": "text/x-python",
   "name": "python",
   "nbconvert_exporter": "python",
   "pygments_lexer": "ipython3",
   "version": "3.8.10"
  }
 },
 "nbformat": 4,
 "nbformat_minor": 5
}
