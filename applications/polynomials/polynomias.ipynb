{
 "cells": [
  {
   "cell_type": "code",
   "execution_count": 2,
   "id": "a03ed024-e5b5-4f0b-9635-d10bf4dc6037",
   "metadata": {
    "execution": {
     "iopub.execute_input": "2022-04-18T19:13:28.957047Z",
     "iopub.status.busy": "2022-04-18T19:13:28.957047Z",
     "iopub.status.idle": "2022-04-18T19:13:30.609114Z",
     "shell.execute_reply": "2022-04-18T19:13:30.609024Z",
     "shell.execute_reply.started": "2022-04-18T19:13:28.957047Z"
    },
    "tags": []
   },
   "outputs": [],
   "source": [
    "from polycasebuilder import generate_random_polynomials, get_arg_mapping, directed_poly_executables, eqv_to_edges_tree\n",
    "from testproblems import generate_random_prob\n",
    "from graphutils import flat_graph_formulation, draw_graph_graphical_props, intermediary_variables, edges_to_Ein_Eout, Node, VAR, COMP, SOLVER, solver_children\n",
    "from nestedgraph import build_typedgraph\n",
    "from operators import sort_scc, reorder_merge_solve\n",
    "from workflow import get_f, generate_workflow, implicit_comp_name\n",
    "from assembly import build_archi\n",
    "from executeformulations import extractvals, generate_x0, perturb_inputs, run_and_save_archi\n",
    "import pandas as pd\n",
    "from representations import bipartite_repr\n",
    "from inputresolver import resolve,invert_edges,getallvars,direct_eqs"
   ]
  },
  {
   "cell_type": "code",
   "execution_count": 3,
   "id": "d5ce63c8-53eb-4049-8e47-7713b159e4df",
   "metadata": {
    "execution": {
     "iopub.execute_input": "2022-04-18T19:13:30.610156Z",
     "iopub.status.busy": "2022-04-18T19:13:30.610156Z",
     "iopub.status.idle": "2022-04-18T19:13:30.625344Z",
     "shell.execute_reply": "2022-04-18T19:13:30.624860Z",
     "shell.execute_reply.started": "2022-04-18T19:13:30.610156Z"
    },
    "tags": []
   },
   "outputs": [],
   "source": [
    "import openmdao.api as om"
   ]
  },
  {
   "cell_type": "code",
   "execution_count": 185,
   "id": "868dafef-3e6b-4729-8d85-1cc53a74ba47",
   "metadata": {
    "execution": {
     "iopub.execute_input": "2022-04-19T17:51:47.113783Z",
     "iopub.status.busy": "2022-04-19T17:51:47.112784Z",
     "iopub.status.idle": "2022-04-19T17:51:49.469414Z",
     "shell.execute_reply": "2022-04-19T17:51:49.469030Z",
     "shell.execute_reply.started": "2022-04-19T17:51:47.113783Z"
    },
    "tags": []
   },
   "outputs": [],
   "source": [
    "n_eqs = 50\n",
    "n_vars = 60\n",
    "seed = 2#8 is triang#seed 10 is nice 42\n",
    "sparsity = 1.7#0.8 1.1 #1.7 1.3\n",
    "eqv, varinc, dout = generate_random_prob(n_eqs, n_vars, seed, sparsity)\n",
    "polynomials, var_mapping, edges, tree, components = generate_random_polynomials(eqv, dout, n_eqs)\n",
    "symb_mapping = get_arg_mapping(var_mapping, symbol_map=True)"
   ]
  },
  {
   "cell_type": "code",
   "execution_count": 184,
   "id": "92bcbda7-205c-4573-b1da-bd74b42c8548",
   "metadata": {
    "execution": {
     "iopub.execute_input": "2022-04-19T17:51:28.204405Z",
     "iopub.status.busy": "2022-04-19T17:51:28.204405Z",
     "iopub.status.idle": "2022-04-19T17:51:28.213605Z",
     "shell.execute_reply": "2022-04-19T17:51:28.213605Z",
     "shell.execute_reply.started": "2022-04-19T17:51:28.204405Z"
    },
    "tags": []
   },
   "outputs": [],
   "source": [
    "# from utils import normalize_name\n",
    "# inputs = {'x_11', 'x_23', 'x_25', 'x_29', 'x_32', 'x_33', 'x_45', 'x_48', 'x_56'}\n",
    "# print('@var {}'.format(\", \".join(['x_{}'.format(vr) for vr in range(n_vars)])))\n",
    "# print('@var λ[1:{}];'.format(n_eqs))\n",
    "# for key, var in polynomials.items():\n",
    "#     print('h{}={};'.format(key, normalize_name(str(var), keep_underscore=True)))\n",
    "# print('@var u[1:{}]'.format(len(inputs)))\n",
    "# for idx,key in enumerate(inputs):\n",
    "#     print('h{}={}-u{}'.format(idx+len(polynomials), key, idx))\n",
    "# print('vars=[{}]'.format(\", \".join(['x_{}'.format(vr) for vr in range(n_vars)])))\n",
    "# #print('dfdx=[{}]'.format(\", \".join([str(0) if vr not in [16, 22, 21] else 'x_{}'.format(vr) for vr in vrs])))\n",
    "# print('h=[{}];'.format(\", \".join(['h{}'.format(eq) for eq in polynomials.keys()])))"
   ]
  },
  {
   "cell_type": "code",
   "execution_count": 186,
   "id": "52ad93fa-bcd7-4ee3-bebe-29b313d21ebf",
   "metadata": {
    "execution": {
     "iopub.execute_input": "2022-04-19T17:51:55.519035Z",
     "iopub.status.busy": "2022-04-19T17:51:55.519035Z",
     "iopub.status.idle": "2022-04-19T17:51:55.529768Z",
     "shell.execute_reply": "2022-04-19T17:51:55.529187Z",
     "shell.execute_reply.started": "2022-04-19T17:51:55.519035Z"
    },
    "tags": []
   },
   "outputs": [],
   "source": [
    "from graphutils import all_variables\n",
    "from compute import Var\n",
    "import numpy as np\n",
    "output_set = dout\n",
    "output_set = {key:var-n_eqs for key,var in output_set.items()}\n",
    "edges, tree= eqv_to_edges_tree(eqv, output_set, n_eqs)\n",
    "Ein, Eout, _ = edges\n",
    "all_vars = all_variables(Ein,Eout)\n",
    "var_mapping = {idx: (Var(str(Node(idx,VAR)), varid=idx), str(Node(idx,VAR))) for idx in all_vars}\n",
    "rng = np.random.default_rng(12345)\n",
    "arg_mapping = get_arg_mapping(var_mapping)"
   ]
  },
  {
   "cell_type": "markdown",
   "id": "1cabcc8e-5ca4-46bf-862e-79ae540e8a92",
   "metadata": {},
   "source": [
    "Optimize/presolve structure"
   ]
  },
  {
   "cell_type": "code",
   "execution_count": 187,
   "id": "d4ec0923-2e18-4622-9553-921c72c33bea",
   "metadata": {
    "execution": {
     "iopub.execute_input": "2022-04-19T17:51:56.106355Z",
     "iopub.status.busy": "2022-04-19T17:51:56.106355Z",
     "iopub.status.idle": "2022-04-19T17:51:56.121002Z",
     "shell.execute_reply": "2022-04-19T17:51:56.120501Z",
     "shell.execute_reply.started": "2022-04-19T17:51:56.106355Z"
    },
    "tags": []
   },
   "outputs": [],
   "source": [
    "eqs=direct_eqs(eqv, dout)\n",
    "_, edges_original = bipartite_repr(eqv)\n",
    "avrs = getallvars(eqs, sympy=False)\n",
    "eqns = eqs.keys()\n",
    "graph_edges = invert_edges(edges_original)"
   ]
  },
  {
   "cell_type": "code",
   "execution_count": 188,
   "id": "908587e7-43cc-4d7c-a929-865c69d78f71",
   "metadata": {
    "execution": {
     "iopub.execute_input": "2022-04-19T17:51:57.273901Z",
     "iopub.status.busy": "2022-04-19T17:51:57.272900Z",
     "iopub.status.idle": "2022-04-19T17:51:57.970783Z",
     "shell.execute_reply": "2022-04-19T17:51:57.970783Z",
     "shell.execute_reply.started": "2022-04-19T17:51:57.272900Z"
    },
    "tags": []
   },
   "outputs": [],
   "source": [
    "output = resolve(eqns, avrs, graph_edges, 50)"
   ]
  },
  {
   "cell_type": "code",
   "execution_count": 189,
   "id": "4085a2d3-4392-46ab-8b2f-26f17e5ae0de",
   "metadata": {
    "execution": {
     "iopub.execute_input": "2022-04-19T17:51:58.377562Z",
     "iopub.status.busy": "2022-04-19T17:51:58.377562Z",
     "iopub.status.idle": "2022-04-19T17:51:58.391119Z",
     "shell.execute_reply": "2022-04-19T17:51:58.390851Z",
     "shell.execute_reply.started": "2022-04-19T17:51:58.377562Z"
    },
    "tags": []
   },
   "outputs": [],
   "source": [
    "soutput = sorted(output, key=lambda x: x['CLEN'])"
   ]
  },
  {
   "cell_type": "code",
   "execution_count": 190,
   "id": "34b7f512-8f28-467c-a2ea-e2522f4e67e3",
   "metadata": {
    "execution": {
     "iopub.execute_input": "2022-04-19T17:51:58.828819Z",
     "iopub.status.busy": "2022-04-19T17:51:58.828819Z",
     "iopub.status.idle": "2022-04-19T17:51:58.840895Z",
     "shell.execute_reply": "2022-04-19T17:51:58.840710Z",
     "shell.execute_reply.started": "2022-04-19T17:51:58.828819Z"
    },
    "tags": []
   },
   "outputs": [
    {
     "data": {
      "text/plain": [
       "[36.0]"
      ]
     },
     "execution_count": 190,
     "metadata": {},
     "output_type": "execute_result"
    }
   ],
   "source": [
    "soutput[0]['CLEN']"
   ]
  },
  {
   "cell_type": "code",
   "execution_count": 158,
   "id": "29d417a5-1f88-4a0b-a452-bd35fd3a45e1",
   "metadata": {
    "execution": {
     "iopub.execute_input": "2022-04-19T17:42:30.049525Z",
     "iopub.status.busy": "2022-04-19T17:42:30.048510Z",
     "iopub.status.idle": "2022-04-19T17:42:30.066826Z",
     "shell.execute_reply": "2022-04-19T17:42:30.066336Z",
     "shell.execute_reply.started": "2022-04-19T17:42:30.049525Z"
    },
    "tags": []
   },
   "outputs": [],
   "source": [
    "out_opt = {eq:var-n_eqs for eq,var in soutput[0]['SOL']}"
   ]
  },
  {
   "cell_type": "code",
   "execution_count": 159,
   "id": "d73b8be9-1580-40b6-99d0-5b4f650aaaaf",
   "metadata": {
    "execution": {
     "iopub.execute_input": "2022-04-19T17:42:30.596645Z",
     "iopub.status.busy": "2022-04-19T17:42:30.595588Z",
     "iopub.status.idle": "2022-04-19T17:42:30.612613Z",
     "shell.execute_reply": "2022-04-19T17:42:30.611679Z",
     "shell.execute_reply.started": "2022-04-19T17:42:30.596645Z"
    },
    "tags": []
   },
   "outputs": [],
   "source": [
    "edges_opt, tree_opt = eqv_to_edges_tree(eqv, out_opt, n_eqs)"
   ]
  },
  {
   "cell_type": "code",
   "execution_count": 160,
   "id": "f6104dc9-3fa2-4d91-9b6c-6e035301c8f3",
   "metadata": {
    "execution": {
     "iopub.execute_input": "2022-04-19T17:42:32.129960Z",
     "iopub.status.busy": "2022-04-19T17:42:32.129960Z",
     "iopub.status.idle": "2022-04-19T17:42:33.616076Z",
     "shell.execute_reply": "2022-04-19T17:42:33.615740Z",
     "shell.execute_reply.started": "2022-04-19T17:42:32.129960Z"
    },
    "tags": []
   },
   "outputs": [],
   "source": [
    "new_components = directed_poly_executables(var_mapping, polynomials, out_opt)"
   ]
  },
  {
   "cell_type": "code",
   "execution_count": 161,
   "id": "788c784f-8808-460b-b698-1fa70aba5b77",
   "metadata": {
    "execution": {
     "iopub.execute_input": "2022-04-19T17:42:34.943706Z",
     "iopub.status.busy": "2022-04-19T17:42:34.943706Z",
     "iopub.status.idle": "2022-04-19T17:42:34.955637Z",
     "shell.execute_reply": "2022-04-19T17:42:34.955637Z",
     "shell.execute_reply.started": "2022-04-19T17:42:34.943706Z"
    },
    "tags": []
   },
   "outputs": [],
   "source": [
    "components += new_components"
   ]
  },
  {
   "cell_type": "code",
   "execution_count": 176,
   "id": "9efbd093-251a-46f9-ae07-1dc42649173c",
   "metadata": {
    "execution": {
     "iopub.execute_input": "2022-04-19T17:50:00.576233Z",
     "iopub.status.busy": "2022-04-19T17:50:00.575145Z",
     "iopub.status.idle": "2022-04-19T17:50:00.581792Z",
     "shell.execute_reply": "2022-04-19T17:50:00.581315Z",
     "shell.execute_reply.started": "2022-04-19T17:50:00.576233Z"
    },
    "tags": []
   },
   "outputs": [],
   "source": [
    "#components"
   ]
  },
  {
   "cell_type": "markdown",
   "id": "a964482a-c6d2-472b-a8f5-1291a74bc568",
   "metadata": {},
   "source": [
    "# MDF formulations"
   ]
  },
  {
   "cell_type": "code",
   "execution_count": 137,
   "id": "a5781728-c774-418e-9061-7c9ba09dcdf6",
   "metadata": {
    "execution": {
     "iopub.execute_input": "2022-04-18T20:01:13.733227Z",
     "iopub.status.busy": "2022-04-18T20:01:13.733227Z",
     "iopub.status.idle": "2022-04-18T20:01:13.750932Z",
     "shell.execute_reply": "2022-04-18T20:01:13.750932Z",
     "shell.execute_reply.started": "2022-04-18T20:01:13.733227Z"
    },
    "tags": []
   },
   "outputs": [],
   "source": [
    "G = flat_graph_formulation(*edges)\n",
    "merge_order = sort_scc(G)\n",
    "nedges, ntree = reorder_merge_solve(edges, tree, merge_order, 1, True)"
   ]
  },
  {
   "cell_type": "markdown",
   "id": "bc858aa1-a3f0-4e5d-914c-0f471fca3c8c",
   "metadata": {},
   "source": [
    "## Preprocessed"
   ]
  },
  {
   "cell_type": "code",
   "execution_count": 138,
   "id": "1239e678-26d8-4660-b233-666bdbdcee4f",
   "metadata": {
    "execution": {
     "iopub.execute_input": "2022-04-18T20:01:14.399851Z",
     "iopub.status.busy": "2022-04-18T20:01:14.398868Z",
     "iopub.status.idle": "2022-04-18T20:01:14.404970Z",
     "shell.execute_reply": "2022-04-18T20:01:14.404833Z",
     "shell.execute_reply.started": "2022-04-18T20:01:14.399851Z"
    },
    "tags": []
   },
   "outputs": [],
   "source": [
    "from runpipeline import get_solver_implicit_system"
   ]
  },
  {
   "cell_type": "code",
   "execution_count": 168,
   "id": "7d1ac7c4-bc5c-4a1d-826a-2479ac3fb428",
   "metadata": {
    "execution": {
     "iopub.execute_input": "2022-04-19T17:45:51.464536Z",
     "iopub.status.busy": "2022-04-19T17:45:51.464536Z",
     "iopub.status.idle": "2022-04-19T17:45:51.567427Z",
     "shell.execute_reply": "2022-04-19T17:45:51.567090Z",
     "shell.execute_reply.started": "2022-04-19T17:45:51.464536Z"
    },
    "tags": []
   },
   "outputs": [],
   "source": [
    "G2 = flat_graph_formulation(*edges_opt)\n",
    "merge_order2 = sort_scc(G2)\n",
    "nedges_opt, ntree_opt = reorder_merge_solve(edges_opt, tree_opt, merge_order2, 1, True)\n",
    "lookup_f = get_f(components, nedges_opt)\n",
    "workflow2 = generate_workflow(lookup_f, nedges_opt, ntree_opt, {2:{'maxiter':100}})"
   ]
  },
  {
   "cell_type": "code",
   "execution_count": 169,
   "id": "4cfd790d-ead2-4a96-aad7-476217ee93e6",
   "metadata": {
    "execution": {
     "iopub.execute_input": "2022-04-19T17:45:55.174298Z",
     "iopub.status.busy": "2022-04-19T17:45:55.174298Z",
     "iopub.status.idle": "2022-04-19T17:45:55.197720Z",
     "shell.execute_reply": "2022-04-19T17:45:55.197720Z",
     "shell.execute_reply.started": "2022-04-19T17:45:55.174298Z"
    },
    "tags": []
   },
   "outputs": [],
   "source": [
    "prob, mdao_in, groups = build_archi(nedges_opt, ntree_opt, workflow2)"
   ]
  },
  {
   "cell_type": "code",
   "execution_count": 141,
   "id": "f44c39a2-3142-4751-93b6-51b02b631423",
   "metadata": {
    "execution": {
     "iopub.execute_input": "2022-04-18T20:01:26.798153Z",
     "iopub.status.busy": "2022-04-18T20:01:26.798153Z",
     "iopub.status.idle": "2022-04-18T20:01:26.804907Z",
     "shell.execute_reply": "2022-04-18T20:01:26.804138Z",
     "shell.execute_reply.started": "2022-04-18T20:01:26.798153Z"
    },
    "tags": []
   },
   "outputs": [],
   "source": [
    "solver_idx = 2\n",
    "impl_system = get_solver_implicit_system(groups, ntree_opt, solver_idx) # we use this for counting"
   ]
  },
  {
   "cell_type": "code",
   "execution_count": 142,
   "id": "d595391d-a970-4f4e-8966-6fa5590482de",
   "metadata": {
    "execution": {
     "iopub.execute_input": "2022-04-18T20:01:28.781681Z",
     "iopub.status.busy": "2022-04-18T20:01:28.780677Z",
     "iopub.status.idle": "2022-04-18T20:01:28.797099Z",
     "shell.execute_reply": "2022-04-18T20:01:28.796831Z",
     "shell.execute_reply.started": "2022-04-18T20:01:28.781681Z"
    },
    "tags": []
   },
   "outputs": [],
   "source": [
    "rng = np.random.default_rng(1234)"
   ]
  },
  {
   "cell_type": "code",
   "execution_count": 143,
   "id": "02b1bf09-7bc4-4311-8701-e0b73c66b428",
   "metadata": {
    "execution": {
     "iopub.execute_input": "2022-04-18T20:01:37.603984Z",
     "iopub.status.busy": "2022-04-18T20:01:37.603984Z",
     "iopub.status.idle": "2022-04-18T20:01:37.619662Z",
     "shell.execute_reply": "2022-04-18T20:01:37.619078Z",
     "shell.execute_reply.started": "2022-04-18T20:01:37.603984Z"
    },
    "tags": []
   },
   "outputs": [
    {
     "name": "stdout",
     "output_type": "stream",
     "text": [
      "['x_6', 'x_3']\n"
     ]
    }
   ],
   "source": [
    "#xref=optres\n",
    "scc_guess_vars = [str(Node(vr, VAR)) for vr in solver_children(ntree_opt[2], solver_idx)]\n",
    "#scc_guess_vars = []\n",
    "root_rand_range = (0,0)\n",
    "solver_rand_range = (0,0.01)\n",
    "print(scc_guess_vars)\n",
    "x0_in = perturb_inputs(mdao_in, root_rand_range, scc_guess_vars, solver_rand_range, rng=rng)"
   ]
  },
  {
   "cell_type": "code",
   "execution_count": 144,
   "id": "d46a46b8-79a4-4ef7-b2c5-f3c946aae161",
   "metadata": {
    "execution": {
     "iopub.execute_input": "2022-04-18T20:01:43.232743Z",
     "iopub.status.busy": "2022-04-18T20:01:43.232743Z",
     "iopub.status.idle": "2022-04-18T20:01:43.235843Z",
     "shell.execute_reply": "2022-04-18T20:01:43.235682Z",
     "shell.execute_reply.started": "2022-04-18T20:01:43.232743Z"
    },
    "tags": []
   },
   "outputs": [],
   "source": [
    "#x0_in = {'x_1':0.279144, 'x_5':-0.278548, 'x_7':13.190141}"
   ]
  },
  {
   "cell_type": "code",
   "execution_count": 145,
   "id": "3519f90b-d051-4da2-bd8d-096db221aa02",
   "metadata": {
    "execution": {
     "iopub.execute_input": "2022-04-18T20:01:43.904906Z",
     "iopub.status.busy": "2022-04-18T20:01:43.903988Z",
     "iopub.status.idle": "2022-04-18T20:01:43.920576Z",
     "shell.execute_reply": "2022-04-18T20:01:43.920392Z",
     "shell.execute_reply.started": "2022-04-18T20:01:43.904906Z"
    },
    "tags": []
   },
   "outputs": [
    {
     "name": "stdout",
     "output_type": "stream",
     "text": [
      "\n",
      "===\n",
      "s_1\n",
      "===\n",
      "+  \n",
      "+  =======\n",
      "+  s_1.s_2\n",
      "+  =======\n",
      "+  NL: Newton Converged in 1 iterations\n",
      "NL: Newton Converged in 0 iterations\n"
     ]
    }
   ],
   "source": [
    "for key,val in x0_in.items():\n",
    "    prob.set_val(key,val)\n",
    "prob.run_model()"
   ]
  },
  {
   "cell_type": "code",
   "execution_count": 146,
   "id": "c410921b-b907-4404-9e5d-a10302453aef",
   "metadata": {
    "execution": {
     "iopub.execute_input": "2022-04-18T20:01:46.599465Z",
     "iopub.status.busy": "2022-04-18T20:01:46.599465Z",
     "iopub.status.idle": "2022-04-18T20:01:46.623120Z",
     "shell.execute_reply": "2022-04-18T20:01:46.622476Z",
     "shell.execute_reply.started": "2022-04-18T20:01:46.599465Z"
    },
    "tags": []
   },
   "outputs": [
    {
     "name": "stdout",
     "output_type": "stream",
     "text": [
      "7 Explicit Output(s) in 'model'\n",
      "\n",
      "varname   val          \n",
      "--------  -------------\n",
      "inp\n",
      "  x_0     [0.1]        \n",
      "  x_10    [0.1]        \n",
      "  x_4     [0.1]        \n",
      "s_1\n",
      "  f_6\n",
      "    x_7   [-1.14285714]\n",
      "  f_0\n",
      "    x_9   [15.]        \n",
      "  f_2\n",
      "    x_12  [5.55555556] \n",
      "  f_3\n",
      "    x_1   [-12.5]      \n",
      "\n",
      "\n",
      "2 Implicit Output(s) in 'model'\n",
      "\n",
      "varname        val          \n",
      "-------------  -------------\n",
      "s_1\n",
      "  s_2\n",
      "    res_f9_f5\n",
      "      x_6      [17.89285714]\n",
      "      x_3      [2.49107143] \n",
      "\n",
      "\n"
     ]
    }
   ],
   "source": [
    "prob.model.list_outputs();"
   ]
  },
  {
   "cell_type": "markdown",
   "id": "af57ba40-650a-4805-a140-14c5a9f9dc7b",
   "metadata": {},
   "source": [
    "# Build workflow"
   ]
  },
  {
   "cell_type": "code",
   "execution_count": 26,
   "id": "7564207f-c809-45b8-bc13-504b399cce6e",
   "metadata": {
    "execution": {
     "iopub.execute_input": "2022-04-18T17:46:57.801375Z",
     "iopub.status.busy": "2022-04-18T17:46:57.801375Z",
     "iopub.status.idle": "2022-04-18T17:46:57.808614Z",
     "shell.execute_reply": "2022-04-18T17:46:57.808395Z",
     "shell.execute_reply.started": "2022-04-18T17:46:57.801375Z"
    },
    "tags": []
   },
   "outputs": [],
   "source": [
    "def get_solver_implicit_system(groups, tree, solver_idx):\n",
    "    s = groups[str(Node(solver_idx, SOLVER))]\n",
    "    name = implicit_comp_name((Node(idx, COMP) for idx in solver_children(tree[0], solver_idx)))\n",
    "    return getattr(s, name)"
   ]
  },
  {
   "cell_type": "code",
   "execution_count": 17,
   "id": "889949e1-720a-4d86-b7f1-c18866b79d11",
   "metadata": {
    "execution": {
     "iopub.execute_input": "2022-04-18T16:23:30.464274Z",
     "iopub.status.busy": "2022-04-18T16:23:30.464274Z",
     "iopub.status.idle": "2022-04-18T16:23:30.485582Z",
     "shell.execute_reply": "2022-04-18T16:23:30.485582Z",
     "shell.execute_reply.started": "2022-04-18T16:23:30.464274Z"
    },
    "tags": []
   },
   "outputs": [],
   "source": [
    "G = flat_graph_formulation(*edges)\n",
    "merge_order = sort_scc(G)\n",
    "nedges, ntree = reorder_merge_solve(edges, tree, merge_order, 1, True)\n",
    "lookup_f = get_f(components, nedges)\n",
    "workflow = generate_workflow(lookup_f, nedges, ntree, {2: {'maxiter':100}})\n",
    "prob, mdao_in, groups = build_archi(nedges, ntree, workflow)\n",
    "solver_idx = 2\n",
    "impl_system = get_solver_implicit_system(groups, ntree, solver_idx) # we use this for counting\n",
    "scc_guess_vars = [str(Node(vr, VAR)) for vr in solver_children(ntree[2], solver_idx)]"
   ]
  },
  {
   "cell_type": "code",
   "execution_count": 18,
   "id": "a52f7ef2-d996-4475-bc33-41d980b7ea90",
   "metadata": {
    "execution": {
     "iopub.execute_input": "2022-04-18T16:23:31.243323Z",
     "iopub.status.busy": "2022-04-18T16:23:31.243323Z",
     "iopub.status.idle": "2022-04-18T16:23:31.248721Z",
     "shell.execute_reply": "2022-04-18T16:23:31.248332Z",
     "shell.execute_reply.started": "2022-04-18T16:23:31.243323Z"
    },
    "tags": []
   },
   "outputs": [
    {
     "data": {
      "text/plain": [
       "['x_3', 'x_7', 'x_1', 'x_10', 'x_2', 'x_9', 'x_5', 'x_4', 'x_8', 'x_0']"
      ]
     },
     "execution_count": 18,
     "metadata": {},
     "output_type": "execute_result"
    }
   ],
   "source": [
    "scc_guess_vars"
   ]
  },
  {
   "cell_type": "markdown",
   "id": "7fea4107-a8db-4e4f-8ec7-534d3382a92b",
   "metadata": {},
   "source": [
    "# Automate runflow"
   ]
  },
  {
   "cell_type": "code",
   "execution_count": 163,
   "id": "014a3bc2-f9e3-4c7f-97d7-d21cbb81189a",
   "metadata": {
    "execution": {
     "iopub.execute_input": "2022-04-19T17:43:00.112185Z",
     "iopub.status.busy": "2022-04-19T17:43:00.111161Z",
     "iopub.status.idle": "2022-04-19T17:43:00.118857Z",
     "shell.execute_reply": "2022-04-19T17:43:00.118058Z",
     "shell.execute_reply.started": "2022-04-19T17:43:00.112185Z"
    },
    "tags": []
   },
   "outputs": [],
   "source": [
    "def run_full(edges, tree, components, xref=None, solver_rand_range=(0,1)):\n",
    "    optres_all = []\n",
    "    solver_idx = 2\n",
    "    G = flat_graph_formulation(*edges)\n",
    "    merge_order = sort_scc(G)\n",
    "    nedges, ntree = reorder_merge_solve(edges, tree, merge_order, 1, True)\n",
    "    print(ntree)\n",
    "    lookup_f = get_f(components, nedges)\n",
    "    workflow = generate_workflow(lookup_f, nedges, ntree, {2:{'maxiter':100}})\n",
    "    prob, mdao_in, groups = build_archi(nedges, ntree, workflow)\n",
    "    print(mdao_in)\n",
    "    impl_system = get_solver_implicit_system(groups, ntree, solver_idx) # we use this for counting\n",
    "    scc_guess_vars = [str(Node(vr, VAR)) for vr in solver_children(ntree[2], solver_idx)]\n",
    "    rng = np.random.default_rng(1234)\n",
    "    root_rand_range = (0,0)\n",
    "    print(scc_guess_vars)\n",
    "    x0_in = perturb_inputs(mdao_in, root_rand_range, scc_guess_vars, solver_rand_range, xref, rng)\n",
    "    print(x0_in)\n",
    "    optres, optres_save = run_and_save_archi(prob, x0_in, symb_mapping)\n",
    "    optres_save.update({'count': impl_system.iter_count_apply}) \n",
    "    optres_all.append(optres_save)\n",
    "    return optres, x0_in, prob,workflow"
   ]
  },
  {
   "cell_type": "code",
   "execution_count": 164,
   "id": "a3383b78-baf7-4ee5-ac46-95e29583431c",
   "metadata": {
    "execution": {
     "iopub.execute_input": "2022-04-19T17:43:01.715672Z",
     "iopub.status.busy": "2022-04-19T17:43:01.714671Z",
     "iopub.status.idle": "2022-04-19T17:43:04.386980Z",
     "shell.execute_reply": "2022-04-19T17:43:04.386980Z",
     "shell.execute_reply.started": "2022-04-19T17:43:01.715672Z"
    },
    "tags": []
   },
   "outputs": [
    {
     "name": "stdout",
     "output_type": "stream",
     "text": [
      "(OrderedDict([(13, 1), (30, 1), (17, 1), (28, 1), (46, 1), (14, 1), (20, 1), (48, 1), (23, 2), (12, 2), (45, 2), (34, 2), (3, 2), (47, 2), (36, 2), (5, 2), (25, 2), (16, 2), (49, 2), (18, 2), (40, 2), (29, 2), (7, 2), (31, 2), (42, 2), (11, 2), (0, 2), (44, 2), (24, 2), (35, 2), (26, 2), (15, 2), (6, 2), (39, 2), (37, 2), (8, 2), (19, 2), (41, 2), (10, 2), (32, 2), (1, 2), (21, 2), (9, 1), (2, 1), (4, 3), (27, 3), (33, 1), (38, 1), (22, 1), (43, 1)]), {2: 1, 3: 1}, {23: 2, 6: 2, 40: 2, 38: 2, 10: 2, 15: 2, 50: 2, 20: 2, 19: 2, 36: 2, 4: 2, 25: 2, 13: 2, 42: 2, 47: 2, 35: 2, 29: 2, 43: 2, 34: 2, 57: 2, 22: 2, 31: 2, 44: 2, 32: 2, 3: 2, 58: 2, 52: 2, 59: 2, 26: 2, 12: 2, 33: 2, 5: 2, 2: 2, 1: 2, 21: 3, 46: 3})\n",
      "{'x_45', 'x_0', 'x_48', 'x_39', 'x_51', 'x_11', 'x_18', 'x_56', 'x_41'}\n",
      "['x_23', 'x_6', 'x_40', 'x_38', 'x_10', 'x_15', 'x_50', 'x_20', 'x_19', 'x_36', 'x_4', 'x_25', 'x_13', 'x_42', 'x_47', 'x_35', 'x_29', 'x_43', 'x_34', 'x_57', 'x_22', 'x_31', 'x_44', 'x_32', 'x_3', 'x_58', 'x_52', 'x_59', 'x_26', 'x_12', 'x_33', 'x_5', 'x_2', 'x_1']\n",
      "{'x_45': 0.1, 'x_0': 0.1, 'x_48': 0.1, 'x_39': 0.1, 'x_51': 0.1, 'x_11': 0.1, 'x_18': 0.1, 'x_56': 0.1, 'x_41': 0.1, 'x_23': 0.774881313349695, 'x_6': -0.5598743479594311, 'x_40': 0.32275365813138723, 'x_38': 0.2720661846611385, 'x_10': 0.16013865780151507, 'x_15': -0.5836889090860107, 'x_50': 0.7110179811110102, 'x_20': 0.03986268724577083, 'x_19': 0.538951626746782, 'x_36': -0.43259502152290386, 'x_4': -0.15126710549130426, 'x_25': -0.7584904374223306, 'x_13': -0.6358189940396671, 'x_42': 1.0220432168103057, 'x_47': -0.8922592294876192, 'x_35': 0.2823317828489533, 'x_29': 0.1868830552731864, 'x_43': -0.36821071507385095, 'x_34': 0.38105226296587635, 'x_57': 0.9690915111825115, 'x_22': 0.9417136574465669, 'x_31': 0.5488736003230438, 'x_44': -0.38266943701385003, 'x_32': 0.19218154684827984, 'x_3': -0.43656623675131223, 'x_58': -0.6332316511708389, 'x_52': -0.20550076965751193, 'x_59': -0.8473596032886419, 'x_26': 0.572048459872236, 'x_12': 0.5572758795949079, 'x_33': 0.9553998778375781, 'x_5': -0.1935015581362097, 'x_2': 0.9088307025622911, 'x_1': -0.7870869741717365}\n",
      "\n",
      "===\n",
      "s_1\n",
      "===\n",
      "+  \n",
      "+  =======\n",
      "+  s_1.s_2\n",
      "+  =======\n",
      "+  NL: NewtonSolver 'NL: Newton' on system 's_1.s_2' failed to converge in 100 iterations.\n",
      "+  \n",
      "+  =======\n",
      "+  s_1.s_3\n",
      "+  =======\n",
      "+  NL: NewtonSolver 'NL: Newton' on system 's_1.s_3' failed to converge in 10 iterations.\n",
      "+  \n",
      "+  =======\n",
      "+  s_1.s_2\n",
      "+  =======\n"
     ]
    },
    {
     "name": "stderr",
     "output_type": "stream",
     "text": [
      "C:\\Users\\johan\\miniconda3\\envs\\mdo\\lib\\site-packages\\autograd\\tracer.py:14: UserWarning: Output seems independent of input.\n",
      "  warnings.warn(\"Output seems independent of input.\")\n"
     ]
    },
    {
     "name": "stdout",
     "output_type": "stream",
     "text": [
      "+  NL: NewtonSolver 'NL: Newton' on system 's_1.s_2': residuals contain 'inf' or 'NaN' after 36 iterations.\n",
      "+  \n",
      "+  =======\n",
      "+  s_1.s_3\n",
      "+  =======\n",
      "+  NL: NewtonSolver 'NL: Newton' on system 's_1.s_3': residuals contain 'inf' or 'NaN' after 0 iterations.\n",
      "NL: NewtonSolver 'NL: Newton' on system 's_1': residuals contain 'inf' or 'NaN' after 1 iterations.\n"
     ]
    },
    {
     "name": "stderr",
     "output_type": "stream",
     "text": [
      "<lambdifygenerated-303>:2: RuntimeWarning: overflow encountered in multiply\n",
      "  return -0.7*x_12*x_31*x_5 + 0.1\n",
      "C:\\Users\\johan\\miniconda3\\envs\\mdo\\lib\\site-packages\\openmdao\\solvers\\solver.py:599: RuntimeWarning: invalid value encountered in double_scalars\n",
      "  self._mpi_print(self._iter_count, norm, norm / norm0)\n",
      "C:\\Users\\johan\\miniconda3\\envs\\mdo\\lib\\site-packages\\openmdao\\solvers\\solver.py:606: RuntimeWarning: invalid value encountered in double_scalars\n",
      "  while self._iter_count < maxiter and norm > atol and norm / norm0 > rtol and not stalled:\n"
     ]
    }
   ],
   "source": [
    "optres, x0_in, prob,_ = run_full(edges, tree, components)"
   ]
  },
  {
   "cell_type": "markdown",
   "id": "34096ea7-e88f-4e10-ba76-bd1f9fa1ebde",
   "metadata": {},
   "source": [
    "# Checking results"
   ]
  },
  {
   "cell_type": "code",
   "execution_count": 22,
   "id": "c761aac5-fb3e-42a6-aedb-0c9e4c2eae06",
   "metadata": {
    "execution": {
     "iopub.execute_input": "2022-04-18T18:42:44.581128Z",
     "iopub.status.busy": "2022-04-18T18:42:44.581128Z",
     "iopub.status.idle": "2022-04-18T18:42:44.599671Z",
     "shell.execute_reply": "2022-04-18T18:42:44.599671Z",
     "shell.execute_reply.started": "2022-04-18T18:42:44.581128Z"
    },
    "tags": []
   },
   "outputs": [],
   "source": [
    "outs = extractvals(prob, get_arg_mapping(var_mapping, symbol_map=True).values())"
   ]
  },
  {
   "cell_type": "code",
   "execution_count": 23,
   "id": "ce2b209b-ad57-4572-906d-742458ae0924",
   "metadata": {
    "execution": {
     "iopub.execute_input": "2022-04-18T18:42:44.764126Z",
     "iopub.status.busy": "2022-04-18T18:42:44.763130Z",
     "iopub.status.idle": "2022-04-18T18:42:44.770951Z",
     "shell.execute_reply": "2022-04-18T18:42:44.770232Z",
     "shell.execute_reply.started": "2022-04-18T18:42:44.764126Z"
    },
    "tags": []
   },
   "outputs": [],
   "source": [
    "comps_res = [comp for comp in components if comp.outputs == (None,)]"
   ]
  },
  {
   "cell_type": "code",
   "execution_count": 24,
   "id": "28c64854-09e5-47ab-aff8-463e26c2900f",
   "metadata": {
    "execution": {
     "iopub.execute_input": "2022-04-18T18:42:44.957866Z",
     "iopub.status.busy": "2022-04-18T18:42:44.957866Z",
     "iopub.status.idle": "2022-04-18T18:42:44.971866Z",
     "shell.execute_reply": "2022-04-18T18:42:44.971866Z",
     "shell.execute_reply.started": "2022-04-18T18:42:44.957866Z"
    },
    "tags": []
   },
   "outputs": [
    {
     "data": {
      "text/plain": [
       "[1.1102230246251565e-16,\n",
       " 2.220446049250313e-16,\n",
       " -1.6653345369377348e-16,\n",
       " -1.1102230246251565e-16,\n",
       " -3.3306690738754696e-16,\n",
       " -5.551115123125783e-17,\n",
       " 1.1102230246251565e-16,\n",
       " 2.220446049250313e-16,\n",
       " 0.0,\n",
       " 0.0]"
      ]
     },
     "execution_count": 24,
     "metadata": {},
     "output_type": "execute_result"
    }
   ],
   "source": [
    "[elt.evaldict(outs) for elt in comps_res]"
   ]
  },
  {
   "cell_type": "code",
   "execution_count": 25,
   "id": "b2c0e084-c58e-4bdc-8d83-8ef951414e25",
   "metadata": {
    "execution": {
     "iopub.execute_input": "2022-04-18T18:42:46.822658Z",
     "iopub.status.busy": "2022-04-18T18:42:46.821558Z",
     "iopub.status.idle": "2022-04-18T18:42:46.829661Z",
     "shell.execute_reply": "2022-04-18T18:42:46.829544Z",
     "shell.execute_reply.started": "2022-04-18T18:42:46.822658Z"
    },
    "tags": []
   },
   "outputs": [
    {
     "data": {
      "text/plain": [
       "{'x_12': 0.1,\n",
       " 'x_11': 0.1,\n",
       " 'x_6': 0.1,\n",
       " 'x_4': -0.018091232966642806,\n",
       " 'x_8': 0.34176629325278507,\n",
       " 'x_0': -0.8640792451783763,\n",
       " 'x_3': 0.36364980427509375,\n",
       " 'x_7': -0.5098708094225075,\n",
       " 'x_1': 0.9636212965699608,\n",
       " 'x_10': 0.774881313349695,\n",
       " 'x_2': -0.5598743479594311,\n",
       " 'x_9': 0.32275365813138723,\n",
       " 'x_5': 0.2720661846611385}"
      ]
     },
     "execution_count": 25,
     "metadata": {},
     "output_type": "execute_result"
    }
   ],
   "source": [
    "x0_in"
   ]
  },
  {
   "cell_type": "code",
   "execution_count": 26,
   "id": "c3dfa948-1510-478a-999e-04197612ca8b",
   "metadata": {
    "execution": {
     "iopub.execute_input": "2022-04-18T18:42:48.031268Z",
     "iopub.status.busy": "2022-04-18T18:42:48.031268Z",
     "iopub.status.idle": "2022-04-18T18:42:48.051052Z",
     "shell.execute_reply": "2022-04-18T18:42:48.051052Z",
     "shell.execute_reply.started": "2022-04-18T18:42:48.031268Z"
    },
    "tags": []
   },
   "outputs": [
    {
     "data": {
      "text/plain": [
       "{'x_0': -7.14496195261011,\n",
       " 'x_1': 0.27914388981534266,\n",
       " 'x_2': 29.62989894048818,\n",
       " 'x_3': 0.017925643076510026,\n",
       " 'x_4': 30.117299373280968,\n",
       " 'x_5': -0.2785476176509625,\n",
       " 'x_6': 0.1,\n",
       " 'x_7': 13.19014100182846,\n",
       " 'x_8': 0.023874438126960634,\n",
       " 'x_9': 0.033073507098491065,\n",
       " 'x_10': 2.0217120243801827,\n",
       " 'x_11': 0.1,\n",
       " 'x_12': 0.1}"
      ]
     },
     "execution_count": 26,
     "metadata": {},
     "output_type": "execute_result"
    }
   ],
   "source": [
    "optres"
   ]
  },
  {
   "cell_type": "code",
   "execution_count": 62,
   "id": "770eac22-9cdf-42e2-b366-d969a936943c",
   "metadata": {
    "execution": {
     "iopub.execute_input": "2022-04-18T18:14:04.498470Z",
     "iopub.status.busy": "2022-04-18T18:14:04.498470Z",
     "iopub.status.idle": "2022-04-18T18:14:04.542234Z",
     "shell.execute_reply": "2022-04-18T18:14:04.541238Z",
     "shell.execute_reply.started": "2022-04-18T18:14:04.498470Z"
    },
    "tags": []
   },
   "outputs": [
    {
     "data": {
      "text/html": [
       "\n",
       "        <iframe\n",
       "            width=\"100%\"\n",
       "            height=\"700\"\n",
       "            src=\"n2.html\"\n",
       "            frameborder=\"0\"\n",
       "            allowfullscreen\n",
       "            \n",
       "        ></iframe>\n",
       "        "
      ],
      "text/plain": [
       "<IPython.lib.display.IFrame at 0x13e800c7910>"
      ]
     },
     "metadata": {},
     "output_type": "display_data"
    }
   ],
   "source": [
    "import openmdao.api as om\n",
    "om.n2(prob2)"
   ]
  },
  {
   "cell_type": "code",
   "execution_count": 166,
   "id": "1f53c5a9-47fa-4ac1-bd53-80a7d3a7c1a0",
   "metadata": {
    "execution": {
     "iopub.execute_input": "2022-04-19T17:44:29.476206Z",
     "iopub.status.busy": "2022-04-19T17:44:29.476206Z",
     "iopub.status.idle": "2022-04-19T17:44:29.766580Z",
     "shell.execute_reply": "2022-04-19T17:44:29.766081Z",
     "shell.execute_reply.started": "2022-04-19T17:44:29.476206Z"
    },
    "tags": []
   },
   "outputs": [
    {
     "name": "stdout",
     "output_type": "stream",
     "text": [
      "(OrderedDict([(13, 1), (17, 1), (28, 1), (30, 1), (1, 2), (36, 2), (39, 1), (14, 1), (20, 1), (34, 1), (18, 1), (42, 1), (8, 1), (24, 1), (16, 1), (15, 1), (31, 1), (23, 3), (47, 3), (38, 1), (21, 1), (22, 1), (29, 4), (35, 4), (19, 4), (41, 4), (5, 4), (32, 4), (6, 4), (25, 4), (37, 4), (0, 4), (45, 1), (2, 1), (10, 1), (43, 1), (49, 1), (46, 1), (48, 1), (11, 1), (3, 1), (12, 5), (7, 5), (40, 5), (26, 5), (4, 6), (27, 6), (9, 1), (33, 1), (44, 1)]), {2: 1, 3: 1, 4: 1, 5: 1, 6: 1}, {2: 2, 50: 2, 15: 3, 20: 3, 42: 4, 31: 4, 26: 4, 12: 4, 41: 4, 5: 4, 3: 4, 19: 4, 52: 4, 34: 4, 6: 5, 51: 5, 47: 5, 44: 5, 46: 6, 21: 6})\n",
      "{'x_45', 'x_48', 'x_29', 'x_11', 'x_25', 'x_23', 'x_33', 'x_56', 'x_32'}\n",
      "['x_2', 'x_50']\n",
      "{'x_45': 0.1, 'x_48': 0.1, 'x_29': 0.1, 'x_11': 0.1, 'x_25': 0.1, 'x_23': 0.1, 'x_33': 0.1, 'x_56': 0.1, 'x_32': 0.1, 'x_2': 0.774881313349695, 'x_50': -0.5598743479594311}\n",
      "\n",
      "===\n",
      "s_1\n",
      "===\n",
      "+  \n",
      "+  =======\n",
      "+  s_1.s_2\n",
      "+  =======\n",
      "+  NL: NewtonSolver 'NL: Newton' on system 's_1.s_2' failed to converge in 100 iterations.\n",
      "+  \n",
      "+  =======\n",
      "+  s_1.s_3\n",
      "+  =======\n",
      "+  NL: Newton Converged in 1 iterations\n",
      "+  \n",
      "+  =======\n",
      "+  s_1.s_4\n",
      "+  =======\n",
      "+  NL: NewtonSolver 'NL: Newton' on system 's_1.s_4' failed to converge in 10 iterations.\n",
      "+  \n",
      "+  =======\n",
      "+  s_1.s_5\n",
      "+  =======\n",
      "+  NL: Newton Converged in 1 iterations\n",
      "+  \n",
      "+  =======\n",
      "+  s_1.s_6\n",
      "+  =======\n",
      "+  NL: NewtonSolver 'NL: Newton' on system 's_1.s_6' failed to converge in 10 iterations.\n",
      "NL: NewtonSolver 'NL: Newton' on system 's_1': residuals contain 'inf' or 'NaN' after 0 iterations.\n"
     ]
    },
    {
     "name": "stderr",
     "output_type": "stream",
     "text": [
      "<lambdifygenerated-415>:2: RuntimeWarning: divide by zero encountered in double_scalars\n",
      "  return -1.5/(x_15*x_57)\n",
      "C:\\Users\\johan\\miniconda3\\envs\\mdo\\lib\\site-packages\\openmdao\\vectors\\default_vector.py:423: RuntimeWarning: invalid value encountered in add\n",
      "  data[idxs] += val\n"
     ]
    }
   ],
   "source": [
    "optres2, x0_in2, prob2, wf = run_full(edges_opt, tree_opt, components, solver_rand_range=(0,1))"
   ]
  },
  {
   "cell_type": "code",
   "execution_count": 59,
   "id": "637e5389-72b1-4c80-b73b-4a0178607c8c",
   "metadata": {
    "execution": {
     "iopub.execute_input": "2022-04-18T18:13:32.735616Z",
     "iopub.status.busy": "2022-04-18T18:13:32.733180Z",
     "iopub.status.idle": "2022-04-18T18:13:32.762962Z",
     "shell.execute_reply": "2022-04-18T18:13:32.762877Z",
     "shell.execute_reply.started": "2022-04-18T18:13:32.735616Z"
    },
    "tags": []
   },
   "outputs": [
    {
     "data": {
      "text/plain": [
       "[(SOLVE, None, 's_1', {}),\n",
       " (EXPL,\n",
       "  's_1',\n",
       "  'f_1',\n",
       "  ['x_1', 'x_5'],\n",
       "  ['x_0'],\n",
       "  <bound method Component.evaldict of ((1, 5), 1, (0,), '0.555555555555556/(x_1*x_5)')>,\n",
       "  <bound method Component.graddict of ((1, 5), 1, (0,), '0.555555555555556/(x_1*x_5)')>,\n",
       "  False),\n",
       " (EXPL,\n",
       "  's_1',\n",
       "  'f_7',\n",
       "  ['x_0', 'x_1', 'x_5'],\n",
       "  ['x_9'],\n",
       "  <bound method Component.evaldict of ((0, 1, 5), 7, (9,), '-(1.66666666666667*x_0*x_1 + 3.33333333333333)/x_5')>,\n",
       "  <bound method Component.graddict of ((0, 1, 5), 7, (9,), '-(1.66666666666667*x_0*x_1 + 3.33333333333333)/x_5')>,\n",
       "  False),\n",
       " (EXPL,\n",
       "  's_1',\n",
       "  'f_8',\n",
       "  ['x_7', 'x_0'],\n",
       "  ['x_8'],\n",
       "  <bound method Component.evaldict of ((7, 0), 8, (8,), '-2.25/(x_0*x_7)')>,\n",
       "  <bound method Component.graddict of ((7, 0), 8, (8,), '-2.25/(x_0*x_7)')>,\n",
       "  False),\n",
       " (EXPL,\n",
       "  's_1',\n",
       "  'f_3',\n",
       "  ['x_8', 'x_0', 'x_9'],\n",
       "  ['x_4'],\n",
       "  <bound method Component.evaldict of ((8, 0, 9), 3, (4,), '(x_0*x_8 + 1.16666666666667)/x_9')>,\n",
       "  <bound method Component.graddict of ((8, 0, 9), 3, (4,), '(x_0*x_8 + 1.16666666666667)/x_9')>,\n",
       "  False),\n",
       " (EXPL,\n",
       "  's_1',\n",
       "  'f_4',\n",
       "  ['x_8', 'x_7', 'x_0'],\n",
       "  ['x_2'],\n",
       "  <bound method Component.evaldict of ((8, 7, 0), 4, (2,), '-(0.285714285714286*x_7 + 1.28571428571429)/(x_0*x_8)')>,\n",
       "  <bound method Component.graddict of ((8, 7, 0), 4, (2,), '-(0.285714285714286*x_7 + 1.28571428571429)/(x_0*x_8)')>,\n",
       "  False),\n",
       " (SOLVE, 's_1', 's_2', {'maxiter': 100}),\n",
       " (IMPL,\n",
       "  's_2',\n",
       "  'res_f9_f5',\n",
       "  [(['x_3', 'x_0', 'x_10'],\n",
       "    ['x_10'],\n",
       "    <bound method Component.evaldict of ((3, 0, 10), 9, (None,), '-0.1*x_0 - 0.4*x_10*x_3 - 0.7')>,\n",
       "    <bound method Component.graddict of ((3, 0, 10), 9, (None,), '-0.1*x_0 - 0.4*x_10*x_3 - 0.7')>,\n",
       "    1.0),\n",
       "   (['x_10', 'x_2', 'x_3', 'x_7', 'x_9'],\n",
       "    ['x_3'],\n",
       "    <bound method Component.evaldict of ((10, 2, 3, 7, 9), 5, (None,), '0.1*x_10*x_2*x_3 + 0.9*x_7*x_9 - 0.5')>,\n",
       "    <bound method Component.graddict of ((10, 2, 3, 7, 9), 5, (None,), '0.1*x_10*x_2*x_3 + 0.9*x_7*x_9 - 0.5')>,\n",
       "    1.0)]),\n",
       " (EXPL,\n",
       "  's_1',\n",
       "  'f_0',\n",
       "  ['x_4', 'x_3', 'x_7', 'x_9'],\n",
       "  ['x_6'],\n",
       "  <bound method Component.evaldict of ((4, 3, 7, 9), 0, (6,), '(1.5*x_3*x_7*x_9 + 3.0)/x_4')>,\n",
       "  <bound method Component.graddict of ((4, 3, 7, 9), 0, (6,), '(1.5*x_3*x_7*x_9 + 3.0)/x_4')>,\n",
       "  False),\n",
       " (EXPL,\n",
       "  's_1',\n",
       "  'f_6',\n",
       "  ['x_7', 'x_10'],\n",
       "  ['x_12'],\n",
       "  <bound method Component.evaldict of ((7, 10), 6, (12,), '2.66666666666667/(x_10*x_7)')>,\n",
       "  <bound method Component.graddict of ((7, 10), 6, (12,), '2.66666666666667/(x_10*x_7)')>,\n",
       "  False),\n",
       " (EXPL,\n",
       "  's_1',\n",
       "  'f_2',\n",
       "  ['x_4', 'x_12', 'x_5', 'x_10', 'x_6', 'x_1', 'x_2', 'x_7'],\n",
       "  ['x_11'],\n",
       "  <bound method Component.evaldict of ((4, 12, 5, 10, 6, 1, 2, 7), 2, (11,), '-(2.33333333333333*x_10 + 2.66666666666667*x_12*x_2*x_6 + 2.0*x_5*x_7 + 1.0)/(x_1*x_4)')>,\n",
       "  <bound method Component.graddict of ((4, 12, 5, 10, 6, 1, 2, 7), 2, (11,), '-(2.33333333333333*x_10 + 2.66666666666667*x_12*x_2*x_6 + 2.0*x_5*x_7 + 1.0)/(x_1*x_4)')>,\n",
       "  False)]"
      ]
     },
     "execution_count": 59,
     "metadata": {},
     "output_type": "execute_result"
    }
   ],
   "source": [
    "wf"
   ]
  },
  {
   "cell_type": "code",
   "execution_count": 64,
   "id": "e8967044-794e-4677-8280-14191ad7164d",
   "metadata": {
    "execution": {
     "iopub.execute_input": "2022-03-17T17:39:51.225396Z",
     "iopub.status.busy": "2022-03-17T17:39:51.224394Z",
     "iopub.status.idle": "2022-03-17T17:39:51.231951Z",
     "shell.execute_reply": "2022-03-17T17:39:51.231448Z",
     "shell.execute_reply.started": "2022-03-17T17:39:51.225396Z"
    },
    "tags": []
   },
   "outputs": [],
   "source": [
    "def run_full(edges, tree, components, x0_in=None):\n",
    "    optres_all = []\n",
    "    solver_idx = 2\n",
    "    G = flat_graph_formulation(*edges)\n",
    "    merge_order = sort_scc(G)\n",
    "    nedges, ntree = reorder_merge_solve(edges, tree, merge_order, 1, True)\n",
    "    lookup_f = get_f(components, nedges)\n",
    "    workflow = generate_workflow(lookup_f, nedges, ntree, {2:{'maxiter':100}})\n",
    "    prob, mdao_in, groups = build_archi(nedges, ntree, workflow)\n",
    "    impl_system = get_solver_implicit_system(groups, ntree, solver_idx) # we use this for counting\n",
    "    scc_guess_vars = [str(Node(vr, VAR)) for vr in solver_children(ntree[2], solver_idx)]\n",
    "    prob.setup();\n",
    "    rand_range = (0,1)\n",
    "    if not x0_in:\n",
    "        x0_in = generate_x0(mdao_in, rand_range=(0,0))\n",
    "    for i in range(5):\n",
    "        x0 = dict(x0_in)\n",
    "        #x0_scc = generate_x0(scc_guess_vars, rand_range=rand_range)\n",
    "        #x0.update(x0_scc) # this could override x0 ins from scc but thats ok\n",
    "        #print(x0)\n",
    "        optres, optres_save = run_and_save_archi(prob, x0, symb_mapping)\n",
    "        optres_save.update({'count': impl_system.iter_count_apply}) \n",
    "        optres_all.append(optres_save)\n",
    "    return optres_all"
   ]
  },
  {
   "cell_type": "code",
   "execution_count": 62,
   "id": "91a629ec-e983-4125-a4da-911ee77e4c5c",
   "metadata": {
    "execution": {
     "iopub.execute_input": "2022-03-17T17:38:58.741100Z",
     "iopub.status.busy": "2022-03-17T17:38:58.740978Z",
     "iopub.status.idle": "2022-03-17T17:38:58.772800Z",
     "shell.execute_reply": "2022-03-17T17:38:58.772077Z",
     "shell.execute_reply.started": "2022-03-17T17:38:58.741100Z"
    },
    "tags": []
   },
   "outputs": [
    {
     "data": {
      "text/html": [
       "<div>\n",
       "<style scoped>\n",
       "    .dataframe tbody tr th:only-of-type {\n",
       "        vertical-align: middle;\n",
       "    }\n",
       "\n",
       "    .dataframe tbody tr th {\n",
       "        vertical-align: top;\n",
       "    }\n",
       "\n",
       "    .dataframe thead th {\n",
       "        text-align: right;\n",
       "    }\n",
       "</style>\n",
       "<table border=\"1\" class=\"dataframe\">\n",
       "  <thead>\n",
       "    <tr style=\"text-align: right;\">\n",
       "      <th></th>\n",
       "      <th>x_0</th>\n",
       "      <th>x_1</th>\n",
       "      <th>x_2</th>\n",
       "      <th>x_3</th>\n",
       "      <th>x_4</th>\n",
       "      <th>x_5</th>\n",
       "      <th>x_6</th>\n",
       "      <th>x_7</th>\n",
       "      <th>x_8</th>\n",
       "      <th>x_9</th>\n",
       "      <th>x_10</th>\n",
       "      <th>x_11</th>\n",
       "      <th>x_12</th>\n",
       "      <th>count</th>\n",
       "    </tr>\n",
       "  </thead>\n",
       "  <tbody>\n",
       "    <tr>\n",
       "      <th>0</th>\n",
       "      <td>-13.226201</td>\n",
       "      <td>0.150677</td>\n",
       "      <td>5.475009</td>\n",
       "      <td>-0.536488</td>\n",
       "      <td>33.149296</td>\n",
       "      <td>-0.278770</td>\n",
       "      <td>0.1</td>\n",
       "      <td>-9.191052</td>\n",
       "      <td>-0.018509</td>\n",
       "      <td>0.042579</td>\n",
       "      <td>-2.901373</td>\n",
       "      <td>0.1</td>\n",
       "      <td>0.1</td>\n",
       "      <td>262</td>\n",
       "    </tr>\n",
       "    <tr>\n",
       "      <th>1</th>\n",
       "      <td>-13.226205</td>\n",
       "      <td>0.150677</td>\n",
       "      <td>5.475003</td>\n",
       "      <td>-0.536488</td>\n",
       "      <td>33.149298</td>\n",
       "      <td>-0.278770</td>\n",
       "      <td>0.1</td>\n",
       "      <td>-9.191051</td>\n",
       "      <td>-0.018509</td>\n",
       "      <td>0.042579</td>\n",
       "      <td>-2.901373</td>\n",
       "      <td>0.1</td>\n",
       "      <td>0.1</td>\n",
       "      <td>181</td>\n",
       "    </tr>\n",
       "    <tr>\n",
       "      <th>2</th>\n",
       "      <td>46.392218</td>\n",
       "      <td>-0.000417</td>\n",
       "      <td>-0.454694</td>\n",
       "      <td>0.516928</td>\n",
       "      <td>29.078760</td>\n",
       "      <td>-28.693481</td>\n",
       "      <td>0.1</td>\n",
       "      <td>-1.032716</td>\n",
       "      <td>0.046963</td>\n",
       "      <td>0.115046</td>\n",
       "      <td>-25.821888</td>\n",
       "      <td>0.1</td>\n",
       "      <td>0.1</td>\n",
       "      <td>119</td>\n",
       "    </tr>\n",
       "    <tr>\n",
       "      <th>3</th>\n",
       "      <td>0.113836</td>\n",
       "      <td>-16.977890</td>\n",
       "      <td>13.821738</td>\n",
       "      <td>-0.561735</td>\n",
       "      <td>2.305145</td>\n",
       "      <td>-0.287451</td>\n",
       "      <td>0.1</td>\n",
       "      <td>8.422801</td>\n",
       "      <td>-2.346637</td>\n",
       "      <td>0.390229</td>\n",
       "      <td>3.166009</td>\n",
       "      <td>0.1</td>\n",
       "      <td>0.1</td>\n",
       "      <td>125</td>\n",
       "    </tr>\n",
       "    <tr>\n",
       "      <th>4</th>\n",
       "      <td>0.113836</td>\n",
       "      <td>-16.977890</td>\n",
       "      <td>13.821738</td>\n",
       "      <td>-0.561735</td>\n",
       "      <td>2.305145</td>\n",
       "      <td>-0.287451</td>\n",
       "      <td>0.1</td>\n",
       "      <td>8.422801</td>\n",
       "      <td>-2.346637</td>\n",
       "      <td>0.390229</td>\n",
       "      <td>3.166009</td>\n",
       "      <td>0.1</td>\n",
       "      <td>0.1</td>\n",
       "      <td>34</td>\n",
       "    </tr>\n",
       "  </tbody>\n",
       "</table>\n",
       "</div>"
      ],
      "text/plain": [
       "         x_0        x_1        x_2       x_3        x_4        x_5  x_6  \\\n",
       "0 -13.226201   0.150677   5.475009 -0.536488  33.149296  -0.278770  0.1   \n",
       "1 -13.226205   0.150677   5.475003 -0.536488  33.149298  -0.278770  0.1   \n",
       "2  46.392218  -0.000417  -0.454694  0.516928  29.078760 -28.693481  0.1   \n",
       "3   0.113836 -16.977890  13.821738 -0.561735   2.305145  -0.287451  0.1   \n",
       "4   0.113836 -16.977890  13.821738 -0.561735   2.305145  -0.287451  0.1   \n",
       "\n",
       "        x_7       x_8       x_9       x_10  x_11  x_12  count  \n",
       "0 -9.191052 -0.018509  0.042579  -2.901373   0.1   0.1    262  \n",
       "1 -9.191051 -0.018509  0.042579  -2.901373   0.1   0.1    181  \n",
       "2 -1.032716  0.046963  0.115046 -25.821888   0.1   0.1    119  \n",
       "3  8.422801 -2.346637  0.390229   3.166009   0.1   0.1    125  \n",
       "4  8.422801 -2.346637  0.390229   3.166009   0.1   0.1     34  "
      ]
     },
     "execution_count": 62,
     "metadata": {},
     "output_type": "execute_result"
    }
   ],
   "source": [
    "pd.DataFrame.from_dict(results_default_case)"
   ]
  },
  {
   "cell_type": "code",
   "execution_count": 61,
   "id": "fbba4a68-f32f-4fe5-b628-90c71c9cdcf2",
   "metadata": {
    "execution": {
     "iopub.execute_input": "2022-03-17T17:38:48.883205Z",
     "iopub.status.busy": "2022-03-17T17:38:48.883205Z",
     "iopub.status.idle": "2022-03-17T17:38:52.772028Z",
     "shell.execute_reply": "2022-03-17T17:38:52.771128Z",
     "shell.execute_reply.started": "2022-03-17T17:38:48.883205Z"
    },
    "tags": []
   },
   "outputs": [
    {
     "name": "stdout",
     "output_type": "stream",
     "text": [
      "{'x_12': 0.1, 'x_11': 0.1, 'x_6': 0.1, 'x_10': -0.3866379968583621, 'x_2': 0.2877212286612516, 'x_9': 0.7494588832440994, 'x_5': 0.5413092228959531, 'x_4': -0.6643726086611824, 'x_8': 0.3740864619922246, 'x_0': 0.2190953574782604, 'x_3': 0.7287879088794833, 'x_7': 0.5921359986061542, 'x_1': -0.16581911753550724}\n",
      "\n",
      "===\n",
      "s_1\n",
      "===\n",
      "+  \n",
      "+  =======\n",
      "+  s_1.s_2\n",
      "+  =======\n",
      "+  NL: NewtonSolver 'NL: Newton' on system 's_1.s_2' failed to converge in 100 iterations.\n",
      "+  \n",
      "+  =======\n",
      "+  s_1.s_2\n",
      "+  =======\n",
      "+  NL: NewtonSolver 'NL: Newton' on system 's_1.s_2' failed to converge in 100 iterations.\n",
      "+  \n",
      "+  =======\n",
      "+  s_1.s_2\n",
      "+  =======\n",
      "+  NL: Newton Converged in 56 iterations\n",
      "NL: Newton Converged in 2 iterations\n",
      "{'x_12': 0.1, 'x_11': 0.1, 'x_6': 0.1, 'x_10': 0.006636966365663716, 'x_2': -0.2275639476887341, 'x_9': 0.9924110171617034, 'x_5': 1.063930529067942, 'x_4': 0.009451304462442939, 'x_8': 0.12430656162948697, 'x_0': 0.784915607421425, 'x_3': -0.6795145855555298, 'x_7': -0.46318750662850483, 'x_1': 0.10164217271604528}\n",
      "\n",
      "===\n",
      "s_1\n",
      "===\n",
      "+  \n",
      "+  =======\n",
      "+  s_1.s_2\n",
      "+  =======\n",
      "+  NL: NewtonSolver 'NL: Newton' on system 's_1.s_2' failed to converge in 100 iterations.\n",
      "+  \n",
      "+  =======\n",
      "+  s_1.s_2\n",
      "+  =======\n",
      "+  NL: Newton Converged in 77 iterations\n",
      "NL: Newton Converged in 1 iterations\n",
      "{'x_12': 0.1, 'x_11': 0.1, 'x_6': 0.1, 'x_10': 0.9161676797255514, 'x_2': -0.8856244028041889, 'x_9': 0.8205595731921261, 'x_5': 0.9704830870014831, 'x_4': -0.5966649294064508, 'x_8': 0.5694883717575773, 'x_0': 0.035493101187461656, 'x_3': 0.9137324775869181, 'x_7': 0.7087025833938575, 'x_1': -0.384931074988458}\n",
      "\n",
      "===\n",
      "s_1\n",
      "===\n",
      "+  \n",
      "+  =======\n",
      "+  s_1.s_2\n",
      "+  =======\n",
      "+  NL: NewtonSolver 'NL: Newton' on system 's_1.s_2' failed to converge in 100 iterations.\n",
      "+  \n",
      "+  =======\n",
      "+  s_1.s_2\n",
      "+  =======\n",
      "+  NL: Newton Converged in 15 iterations\n",
      "NL: Newton Converged in 1 iterations\n",
      "{'x_12': 0.1, 'x_11': 0.1, 'x_6': 0.1, 'x_10': -0.8346795088538951, 'x_2': -0.011453812378023315, 'x_9': 0.03778844203863077, 'x_5': 0.7317660527377454, 'x_4': -0.8430535328841358, 'x_8': -0.5353562055818931, 'x_0': 0.402001967479904, 'x_3': 1.0126267637037831, 'x_7': -0.8273020557627285, 'x_1': -0.2610484184638091}\n",
      "\n",
      "===\n",
      "s_1\n",
      "===\n",
      "+  \n",
      "+  =======\n",
      "+  s_1.s_2\n",
      "+  =======\n",
      "+  NL: NewtonSolver 'NL: Newton' on system 's_1.s_2' failed to converge in 100 iterations.\n",
      "+  \n",
      "+  =======\n",
      "+  s_1.s_2\n",
      "+  =======\n",
      "+  NL: Newton Converged in 21 iterations\n",
      "NL: Newton Converged in 1 iterations\n",
      "{'x_12': 0.1, 'x_11': 0.1, 'x_6': 0.1, 'x_10': -0.46635137309401, 'x_2': -0.6961427208560043, 'x_9': 0.9358141644944826, 'x_5': 0.4654777679121648, 'x_4': -0.034240744971390596, 'x_8': -0.25209493576636854, 'x_0': -0.8560486040518809, 'x_3': -0.48349974372005655, 'x_7': -0.8325947310294217, 'x_1': 0.21169242718357142}\n",
      "\n",
      "===\n",
      "s_1\n",
      "===\n",
      "+  \n",
      "+  =======\n",
      "+  s_1.s_2\n",
      "+  =======\n",
      "+  NL: Newton Converged in 32 iterations\n",
      "NL: Newton Converged in 0 iterations\n"
     ]
    }
   ],
   "source": [
    "results_default_case = run_full(edges, tree, components)\n",
    "x0 = {key:var for key,var in results_default_case[0].items() if key != 'count'}"
   ]
  },
  {
   "cell_type": "code",
   "execution_count": 65,
   "id": "1e64c43a-0b93-4821-bc0f-20e0b3e8829b",
   "metadata": {
    "execution": {
     "iopub.execute_input": "2022-03-17T17:39:57.111117Z",
     "iopub.status.busy": "2022-03-17T17:39:57.111117Z",
     "iopub.status.idle": "2022-03-17T17:39:58.345216Z",
     "shell.execute_reply": "2022-03-17T17:39:58.344613Z",
     "shell.execute_reply.started": "2022-03-17T17:39:57.111117Z"
    },
    "tags": []
   },
   "outputs": [
    {
     "name": "stdout",
     "output_type": "stream",
     "text": [
      "\n",
      "===\n",
      "s_1\n",
      "===\n",
      "+  \n",
      "+  =======\n",
      "+  s_1.s_2\n",
      "+  =======\n",
      "+  NL: NewtonSolver 'NL: Newton' on system 's_1.s_2' failed to converge in 100 iterations.\n",
      "+  \n",
      "+  =======\n",
      "+  s_1.s_2\n",
      "+  =======\n",
      "+  NL: Newton Converged in 64 iterations\n",
      "NL: Newton Converged in 1 iterations\n",
      "\n",
      "===\n",
      "s_1\n",
      "===\n",
      "+  \n",
      "+  =======\n",
      "+  s_1.s_2\n",
      "+  =======\n",
      "+  NL: NewtonSolver 'NL: Newton' on system 's_1.s_2' failed to converge in 100 iterations.\n",
      "+  \n",
      "+  =======\n",
      "+  s_1.s_2\n",
      "+  =======\n",
      "+  NL: Newton Converged in 64 iterations\n",
      "NL: Newton Converged in 1 iterations\n",
      "\n",
      "===\n",
      "s_1\n",
      "===\n",
      "+  \n",
      "+  =======\n",
      "+  s_1.s_2\n",
      "+  =======\n",
      "+  NL: NewtonSolver 'NL: Newton' on system 's_1.s_2' failed to converge in 100 iterations.\n",
      "+  \n",
      "+  =======\n",
      "+  s_1.s_2\n",
      "+  =======\n",
      "+  NL: Newton Converged in 64 iterations\n",
      "NL: Newton Converged in 1 iterations\n",
      "\n",
      "===\n",
      "s_1\n",
      "===\n",
      "+  \n",
      "+  =======\n",
      "+  s_1.s_2\n",
      "+  =======\n",
      "+  NL: NewtonSolver 'NL: Newton' on system 's_1.s_2' failed to converge in 100 iterations.\n",
      "+  \n",
      "+  =======\n",
      "+  s_1.s_2\n",
      "+  =======\n",
      "+  NL: Newton Converged in 64 iterations\n",
      "NL: Newton Converged in 1 iterations\n",
      "\n",
      "===\n",
      "s_1\n",
      "===\n",
      "+  \n",
      "+  =======\n",
      "+  s_1.s_2\n",
      "+  =======\n",
      "+  NL: NewtonSolver 'NL: Newton' on system 's_1.s_2' failed to converge in 100 iterations.\n",
      "+  \n",
      "+  =======\n",
      "+  s_1.s_2\n",
      "+  =======\n",
      "+  NL: Newton Converged in 64 iterations\n",
      "NL: Newton Converged in 1 iterations\n"
     ]
    }
   ],
   "source": [
    "results_opt_case = run_full(edges_opt, tree_opt, components, x0_in=x0)"
   ]
  },
  {
   "cell_type": "code",
   "execution_count": 43,
   "id": "a688c791-e421-4b51-9a99-57ed9d6186c9",
   "metadata": {
    "execution": {
     "iopub.execute_input": "2022-03-17T17:25:20.481708Z",
     "iopub.status.busy": "2022-03-17T17:25:20.480708Z",
     "iopub.status.idle": "2022-03-17T17:25:20.493805Z",
     "shell.execute_reply": "2022-03-17T17:25:20.493805Z",
     "shell.execute_reply.started": "2022-03-17T17:25:20.481708Z"
    }
   },
   "outputs": [
    {
     "data": {
      "text/plain": [
       "{'x_0': 0.008958106779525476,\n",
       " 'x_1': -13.145086033480357,\n",
       " 'x_2': 0.7424238083735113,\n",
       " 'x_3': 12.148139891511779,\n",
       " 'x_4': -1.4592582797318507,\n",
       " 'x_5': -4.717890176820716,\n",
       " 'x_6': -10.79821037737607,\n",
       " 'x_7': 1.0528907779309629,\n",
       " 'x_8': -238.5519447614448,\n",
       " 'x_9': 0.6649317262384284,\n",
       " 'x_10': -0.14423932736560077,\n",
       " 'x_11': -19.086109079379213,\n",
       " 'x_12': -17.559078564803155,\n",
       " 'count': 106}"
      ]
     },
     "execution_count": 43,
     "metadata": {},
     "output_type": "execute_result"
    }
   ],
   "source": [
    "results_default_case[0]"
   ]
  },
  {
   "cell_type": "code",
   "execution_count": 41,
   "id": "c429e09f-308e-44ec-844d-e578f1889984",
   "metadata": {
    "execution": {
     "iopub.execute_input": "2022-03-17T17:24:59.201458Z",
     "iopub.status.busy": "2022-03-17T17:24:59.199448Z",
     "iopub.status.idle": "2022-03-17T17:24:59.219758Z",
     "shell.execute_reply": "2022-03-17T17:24:59.219533Z",
     "shell.execute_reply.started": "2022-03-17T17:24:59.200456Z"
    },
    "tags": []
   },
   "outputs": [
    {
     "data": {
      "text/html": [
       "<div>\n",
       "<style scoped>\n",
       "    .dataframe tbody tr th:only-of-type {\n",
       "        vertical-align: middle;\n",
       "    }\n",
       "\n",
       "    .dataframe tbody tr th {\n",
       "        vertical-align: top;\n",
       "    }\n",
       "\n",
       "    .dataframe thead th {\n",
       "        text-align: right;\n",
       "    }\n",
       "</style>\n",
       "<table border=\"1\" class=\"dataframe\">\n",
       "  <thead>\n",
       "    <tr style=\"text-align: right;\">\n",
       "      <th></th>\n",
       "      <th>x_0</th>\n",
       "      <th>x_1</th>\n",
       "      <th>x_2</th>\n",
       "      <th>x_3</th>\n",
       "      <th>x_4</th>\n",
       "      <th>x_5</th>\n",
       "      <th>x_6</th>\n",
       "      <th>x_7</th>\n",
       "      <th>x_8</th>\n",
       "      <th>x_9</th>\n",
       "      <th>x_10</th>\n",
       "      <th>x_11</th>\n",
       "      <th>x_12</th>\n",
       "      <th>count</th>\n",
       "    </tr>\n",
       "  </thead>\n",
       "  <tbody>\n",
       "    <tr>\n",
       "      <th>0</th>\n",
       "      <td>0.008958</td>\n",
       "      <td>-13.145086</td>\n",
       "      <td>0.742424</td>\n",
       "      <td>12.14814</td>\n",
       "      <td>-1.459258</td>\n",
       "      <td>-4.71789</td>\n",
       "      <td>-10.79821</td>\n",
       "      <td>1.052891</td>\n",
       "      <td>-238.551945</td>\n",
       "      <td>0.664932</td>\n",
       "      <td>-0.144239</td>\n",
       "      <td>-19.086109</td>\n",
       "      <td>-17.559079</td>\n",
       "      <td>106</td>\n",
       "    </tr>\n",
       "    <tr>\n",
       "      <th>1</th>\n",
       "      <td>0.008958</td>\n",
       "      <td>-13.145086</td>\n",
       "      <td>0.742424</td>\n",
       "      <td>12.14814</td>\n",
       "      <td>-1.459258</td>\n",
       "      <td>-4.71789</td>\n",
       "      <td>-10.79821</td>\n",
       "      <td>1.052891</td>\n",
       "      <td>-238.551945</td>\n",
       "      <td>0.664932</td>\n",
       "      <td>-0.144239</td>\n",
       "      <td>-19.086109</td>\n",
       "      <td>-17.559079</td>\n",
       "      <td>2</td>\n",
       "    </tr>\n",
       "    <tr>\n",
       "      <th>2</th>\n",
       "      <td>0.008958</td>\n",
       "      <td>-13.145086</td>\n",
       "      <td>0.742424</td>\n",
       "      <td>12.14814</td>\n",
       "      <td>-1.459258</td>\n",
       "      <td>-4.71789</td>\n",
       "      <td>-10.79821</td>\n",
       "      <td>1.052891</td>\n",
       "      <td>-238.551945</td>\n",
       "      <td>0.664932</td>\n",
       "      <td>-0.144239</td>\n",
       "      <td>-19.086109</td>\n",
       "      <td>-17.559079</td>\n",
       "      <td>2</td>\n",
       "    </tr>\n",
       "    <tr>\n",
       "      <th>3</th>\n",
       "      <td>0.008958</td>\n",
       "      <td>-13.145086</td>\n",
       "      <td>0.742424</td>\n",
       "      <td>12.14814</td>\n",
       "      <td>-1.459258</td>\n",
       "      <td>-4.71789</td>\n",
       "      <td>-10.79821</td>\n",
       "      <td>1.052891</td>\n",
       "      <td>-238.551945</td>\n",
       "      <td>0.664932</td>\n",
       "      <td>-0.144239</td>\n",
       "      <td>-19.086109</td>\n",
       "      <td>-17.559079</td>\n",
       "      <td>2</td>\n",
       "    </tr>\n",
       "    <tr>\n",
       "      <th>4</th>\n",
       "      <td>0.008958</td>\n",
       "      <td>-13.145086</td>\n",
       "      <td>0.742424</td>\n",
       "      <td>12.14814</td>\n",
       "      <td>-1.459258</td>\n",
       "      <td>-4.71789</td>\n",
       "      <td>-10.79821</td>\n",
       "      <td>1.052891</td>\n",
       "      <td>-238.551945</td>\n",
       "      <td>0.664932</td>\n",
       "      <td>-0.144239</td>\n",
       "      <td>-19.086109</td>\n",
       "      <td>-17.559079</td>\n",
       "      <td>2</td>\n",
       "    </tr>\n",
       "  </tbody>\n",
       "</table>\n",
       "</div>"
      ],
      "text/plain": [
       "        x_0        x_1       x_2       x_3       x_4      x_5       x_6  \\\n",
       "0  0.008958 -13.145086  0.742424  12.14814 -1.459258 -4.71789 -10.79821   \n",
       "1  0.008958 -13.145086  0.742424  12.14814 -1.459258 -4.71789 -10.79821   \n",
       "2  0.008958 -13.145086  0.742424  12.14814 -1.459258 -4.71789 -10.79821   \n",
       "3  0.008958 -13.145086  0.742424  12.14814 -1.459258 -4.71789 -10.79821   \n",
       "4  0.008958 -13.145086  0.742424  12.14814 -1.459258 -4.71789 -10.79821   \n",
       "\n",
       "        x_7         x_8       x_9      x_10       x_11       x_12  count  \n",
       "0  1.052891 -238.551945  0.664932 -0.144239 -19.086109 -17.559079    106  \n",
       "1  1.052891 -238.551945  0.664932 -0.144239 -19.086109 -17.559079      2  \n",
       "2  1.052891 -238.551945  0.664932 -0.144239 -19.086109 -17.559079      2  \n",
       "3  1.052891 -238.551945  0.664932 -0.144239 -19.086109 -17.559079      2  \n",
       "4  1.052891 -238.551945  0.664932 -0.144239 -19.086109 -17.559079      2  "
      ]
     },
     "execution_count": 41,
     "metadata": {},
     "output_type": "execute_result"
    }
   ],
   "source": [
    "pd.DataFrame.from_dict(results_default_case)"
   ]
  },
  {
   "cell_type": "code",
   "execution_count": 16,
   "id": "4e762cae-be82-4a40-a658-5bd63335f1c2",
   "metadata": {
    "execution": {
     "iopub.execute_input": "2022-03-17T16:55:15.781660Z",
     "iopub.status.busy": "2022-03-17T16:55:15.781660Z",
     "iopub.status.idle": "2022-03-17T16:55:15.795178Z",
     "shell.execute_reply": "2022-03-17T16:55:15.794245Z",
     "shell.execute_reply.started": "2022-03-17T16:55:15.781660Z"
    },
    "tags": []
   },
   "outputs": [],
   "source": [
    "G = flat_graph_formulation(*edges)\n",
    "merge_order = sort_scc(G)"
   ]
  },
  {
   "cell_type": "code",
   "execution_count": 17,
   "id": "75c40816-c001-420a-8664-36563e01783c",
   "metadata": {
    "execution": {
     "iopub.execute_input": "2022-03-17T16:55:16.243069Z",
     "iopub.status.busy": "2022-03-17T16:55:16.243069Z",
     "iopub.status.idle": "2022-03-17T16:55:16.261210Z",
     "shell.execute_reply": "2022-03-17T16:55:16.261210Z",
     "shell.execute_reply.started": "2022-03-17T16:55:16.243069Z"
    },
    "tags": []
   },
   "outputs": [
    {
     "data": {
      "text/plain": [
       "[{f_1, f_3, f_4, f_7, f_8, f_9}, {f_5}, {f_2}, {f_6}, {f_0}]"
      ]
     },
     "execution_count": 17,
     "metadata": {},
     "output_type": "execute_result"
    }
   ],
   "source": [
    "merge_order"
   ]
  },
  {
   "cell_type": "code",
   "execution_count": 6,
   "id": "76e91e6a-14d0-49ce-9e94-c067284d8778",
   "metadata": {
    "execution": {
     "iopub.execute_input": "2022-03-17T16:21:37.834970Z",
     "iopub.status.busy": "2022-03-17T16:21:37.834970Z",
     "iopub.status.idle": "2022-03-17T16:21:37.845706Z",
     "shell.execute_reply": "2022-03-17T16:21:37.845142Z",
     "shell.execute_reply.started": "2022-03-17T16:21:37.834970Z"
    },
    "tags": []
   },
   "outputs": [],
   "source": [
    "nedges, ntree = reorder_merge_solve(edges, tree, merge_order, 1, True)"
   ]
  },
  {
   "cell_type": "code",
   "execution_count": 7,
   "id": "360ebc7d-8a9f-4b88-9cb6-5d45efb0449f",
   "metadata": {
    "execution": {
     "iopub.execute_input": "2022-03-17T16:21:39.559929Z",
     "iopub.status.busy": "2022-03-17T16:21:39.558914Z",
     "iopub.status.idle": "2022-03-17T16:21:39.576054Z",
     "shell.execute_reply": "2022-03-17T16:21:39.576054Z",
     "shell.execute_reply.started": "2022-03-17T16:21:39.559929Z"
    },
    "tags": []
   },
   "outputs": [],
   "source": [
    "lookup_f = get_f(components, nedges)"
   ]
  },
  {
   "cell_type": "code",
   "execution_count": 8,
   "id": "c8e78998-b93b-40e5-b721-6b7d5e856d74",
   "metadata": {
    "execution": {
     "iopub.execute_input": "2022-03-17T16:21:39.887120Z",
     "iopub.status.busy": "2022-03-17T16:21:39.887120Z",
     "iopub.status.idle": "2022-03-17T16:21:39.902409Z",
     "shell.execute_reply": "2022-03-17T16:21:39.902138Z",
     "shell.execute_reply.started": "2022-03-17T16:21:39.887120Z"
    },
    "tags": []
   },
   "outputs": [],
   "source": [
    "workflow = generate_workflow(lookup_f, nedges, ntree, {2:{'maxiter':100}})"
   ]
  },
  {
   "cell_type": "code",
   "execution_count": 9,
   "id": "c20cd333-455b-4c17-a362-1c172fc247cf",
   "metadata": {
    "execution": {
     "iopub.execute_input": "2022-03-17T16:21:40.174386Z",
     "iopub.status.busy": "2022-03-17T16:21:40.174386Z",
     "iopub.status.idle": "2022-03-17T16:21:40.198861Z",
     "shell.execute_reply": "2022-03-17T16:21:40.198398Z",
     "shell.execute_reply.started": "2022-03-17T16:21:40.174386Z"
    },
    "tags": []
   },
   "outputs": [],
   "source": [
    "prob, mdao_in, groups = build_archi(nedges, ntree, workflow)"
   ]
  },
  {
   "cell_type": "code",
   "execution_count": 10,
   "id": "cdb6e8de-8f1b-4bb7-ab3b-260daf3ec03e",
   "metadata": {
    "execution": {
     "iopub.execute_input": "2022-03-17T16:21:40.404215Z",
     "iopub.status.busy": "2022-03-17T16:21:40.404215Z",
     "iopub.status.idle": "2022-03-17T16:21:40.416621Z",
     "shell.execute_reply": "2022-03-17T16:21:40.416023Z",
     "shell.execute_reply.started": "2022-03-17T16:21:40.404215Z"
    },
    "tags": []
   },
   "outputs": [],
   "source": [
    "prob.setup();"
   ]
  },
  {
   "cell_type": "code",
   "execution_count": 11,
   "id": "d837479e-f38b-42b9-abec-79892e811562",
   "metadata": {
    "execution": {
     "iopub.execute_input": "2022-03-17T16:21:40.606794Z",
     "iopub.status.busy": "2022-03-17T16:21:40.605743Z",
     "iopub.status.idle": "2022-03-17T16:21:40.616980Z",
     "shell.execute_reply": "2022-03-17T16:21:40.616383Z",
     "shell.execute_reply.started": "2022-03-17T16:21:40.606794Z"
    },
    "tags": []
   },
   "outputs": [],
   "source": [
    "symb_mapping = get_arg_mapping(var_mapping, symbol_map=True)"
   ]
  },
  {
   "cell_type": "code",
   "execution_count": 12,
   "id": "4ee29742-a82b-4ff9-8dcf-ed5418aba450",
   "metadata": {
    "execution": {
     "iopub.execute_input": "2022-03-17T16:21:40.901324Z",
     "iopub.status.busy": "2022-03-17T16:21:40.901324Z",
     "iopub.status.idle": "2022-03-17T16:21:40.910961Z",
     "shell.execute_reply": "2022-03-17T16:21:40.910031Z",
     "shell.execute_reply.started": "2022-03-17T16:21:40.901324Z"
    },
    "tags": []
   },
   "outputs": [],
   "source": [
    "scc_guess_vars = [str(Node(vr, VAR)) for vr in ntree[2].keys()]"
   ]
  },
  {
   "cell_type": "code",
   "execution_count": 43,
   "id": "f5b76612-f302-4193-95a8-9760116977d8",
   "metadata": {
    "execution": {
     "iopub.execute_input": "2022-03-17T16:28:48.682661Z",
     "iopub.status.busy": "2022-03-17T16:28:48.682661Z",
     "iopub.status.idle": "2022-03-17T16:28:48.700678Z",
     "shell.execute_reply": "2022-03-17T16:28:48.700678Z",
     "shell.execute_reply.started": "2022-03-17T16:28:48.682661Z"
    },
    "tags": []
   },
   "outputs": [],
   "source": [
    "x0_in = generate_x0(mdao_in, rand_range=(10,20))"
   ]
  },
  {
   "cell_type": "code",
   "execution_count": 48,
   "id": "f35822d1-7fd8-4c40-85e6-a79308aae7d7",
   "metadata": {
    "execution": {
     "iopub.execute_input": "2022-03-17T16:29:16.110607Z",
     "iopub.status.busy": "2022-03-17T16:29:16.110607Z",
     "iopub.status.idle": "2022-03-17T16:29:16.578800Z",
     "shell.execute_reply": "2022-03-17T16:29:16.578200Z",
     "shell.execute_reply.started": "2022-03-17T16:29:16.110607Z"
    },
    "tags": []
   },
   "outputs": [
    {
     "name": "stdout",
     "output_type": "stream",
     "text": [
      "\n",
      "===\n",
      "s_1\n",
      "===\n",
      "+  \n",
      "+  =======\n",
      "+  s_1.s_2\n",
      "+  =======\n",
      "+  NL: Newton Converged in 8 iterations\n",
      "+  \n",
      "+  =======\n",
      "+  s_1.s_2\n",
      "+  =======\n",
      "+  NL: Newton Converged in 0 iterations\n",
      "NL: Newton Converged in 1 iterations\n",
      "\n",
      "===\n",
      "s_1\n",
      "===\n",
      "+  \n",
      "+  =======\n",
      "+  s_1.s_2\n",
      "+  =======\n",
      "+  NL: Newton Converged in 32 iterations\n",
      "NL: Newton Converged in 0 iterations\n",
      "\n",
      "===\n",
      "s_1\n",
      "===\n",
      "+  \n",
      "+  =======\n",
      "+  s_1.s_2\n",
      "+  =======\n",
      "+  NL: Newton Converged in 38 iterations\n",
      "+  \n",
      "+  =======\n",
      "+  s_1.s_2\n",
      "+  =======\n",
      "+  NL: Newton Converged in 0 iterations\n",
      "NL: Newton Converged in 1 iterations\n",
      "\n",
      "===\n",
      "s_1\n",
      "===\n",
      "+  \n",
      "+  =======\n",
      "+  s_1.s_2\n",
      "+  =======\n",
      "+  NL: Newton Converged in 26 iterations\n",
      "+  \n",
      "+  =======\n",
      "+  s_1.s_2\n",
      "+  =======\n",
      "+  NL: Newton Converged in 0 iterations\n",
      "NL: Newton Converged in 1 iterations\n",
      "\n",
      "===\n",
      "s_1\n",
      "===\n",
      "+  \n",
      "+  =======\n",
      "+  s_1.s_2\n",
      "+  =======\n",
      "+  NL: Newton Converged in 50 iterations\n",
      "NL: Newton Converged in 0 iterations\n"
     ]
    }
   ],
   "source": [
    "rand_range = (100,200)\n",
    "optres_all=[]\n",
    "for i in range(5):\n",
    "    x0_scc = generate_x0(scc_guess_vars, rand_range=rand_range)\n",
    "    optres, optres_save = run_and_save_archi(prob, {**x0_in, **x0_scc}, symb_mapping)\n",
    "    optres_save.update({'count': impl_system.iter_count_apply}) \n",
    "    optres_all.append(optres_save)\n",
    "        #x0 = generate_x0(optres=optres, rand_range=rand_range)"
   ]
  }
 ],
 "metadata": {
  "kernelspec": {
   "display_name": "minimdo",
   "language": "python",
   "name": "python3"
  },
  "language_info": {
   "codemirror_mode": {
    "name": "ipython",
    "version": 3
   },
   "file_extension": ".py",
   "mimetype": "text/x-python",
   "name": "python",
   "nbconvert_exporter": "python",
   "pygments_lexer": "ipython3",
   "version": "3.9.12 (main, Apr  4 2022, 05:22:27) [MSC v.1916 64 bit (AMD64)]"
  },
  "vscode": {
   "interpreter": {
    "hash": "a694de6fda351b2e6abf6df342a83029ffd7840d5f4e2b018751ced956a6df2b"
   }
  }
 },
 "nbformat": 4,
 "nbformat_minor": 5
}
