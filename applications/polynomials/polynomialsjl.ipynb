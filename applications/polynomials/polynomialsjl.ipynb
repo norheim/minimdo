{
 "cells": [
  {
   "cell_type": "code",
   "execution_count": 1,
   "id": "334adbd7",
   "metadata": {
    "execution": {
     "iopub.execute_input": "2022-08-16T11:36:26.365000-04:00",
     "iopub.status.busy": "2022-08-16T11:36:26.365000-04:00",
     "iopub.status.idle": "2022-08-16T11:36:41.938000-04:00",
     "shell.execute_reply": "2022-08-16T11:36:41.891000-04:00"
    },
    "tags": []
   },
   "outputs": [],
   "source": [
    "# load the package\n",
    "using HomotopyContinuation\n",
    "using Plots\n",
    "# using Distributions\n",
    "using Pandas\n",
    "using LinearAlgebra"
   ]
  },
  {
   "cell_type": "markdown",
   "id": "ca303ca6-c3da-4b79-8da0-7c6baef91786",
   "metadata": {},
   "source": [
    "## Allisons problem"
   ]
  },
  {
   "cell_type": "code",
   "execution_count": 2,
   "id": "3563b0ce-3a41-4e36-a1ab-efe7adc730d4",
   "metadata": {
    "execution": {
     "iopub.execute_input": "2022-05-04T11:36:47.309000-04:00",
     "iopub.status.busy": "2022-05-04T11:36:47.309000-04:00",
     "iopub.status.idle": "2022-05-04T11:36:47.325000-04:00",
     "shell.execute_reply": "2022-05-04T11:36:47.325000-04:00"
    },
    "tags": []
   },
   "outputs": [
    {
     "data": {
      "text/plain": [
       "0.2"
      ]
     },
     "execution_count": 2,
     "metadata": {},
     "output_type": "execute_result"
    }
   ],
   "source": [
    "b = [2; 2.5; 3]\n",
    "w = [1.3; 1.5; 1.2]\n",
    "a1e = 0.2"
   ]
  },
  {
   "cell_type": "code",
   "execution_count": 8,
   "id": "5ecce9e4-c63d-4030-8063-8cb50cb52830",
   "metadata": {
    "execution": {
     "iopub.execute_input": "2022-05-04T12:20:12.868000-04:00",
     "iopub.status.busy": "2022-05-04T12:20:12.867000-04:00",
     "iopub.status.idle": "2022-05-04T12:20:12.872000-04:00",
     "shell.execute_reply": "2022-05-04T12:20:12.871000-04:00"
    },
    "tags": []
   },
   "outputs": [
    {
     "data": {
      "text/plain": [
       "3-element Vector{Expression}:\n",
       " 2.0 - a₁ + 0.1*a₂*x₁ + 0.8*a₃*x₁\n",
       "                 2.5 - a₂ + a₃*x₂\n",
       " 3.0 - a₃ + 0.1*a₁*x₃ + 0.8*a₂*x₃"
      ]
     },
     "execution_count": 8,
     "metadata": {},
     "output_type": "execute_result"
    }
   ],
   "source": [
    "@var x[1:3], a[1:3]\n",
    "@var l[1:3];\n",
    "h1 = 0.1x[1]*a[2]+0.8x[1]*a[3]+b[1]-a[1]\n",
    "h2 = x[2]*a[3]+b[2]-a[2]\n",
    "h3 = 0.1x[3]*a[1]+0.8x[3]*a[2]+b[3]-a[3]\n",
    "f = (a[1]-a1e)^2+([x[1]^2 x[2]^2 x[3]^2]*w.^2)[1];\n",
    "vars = [x; a]\n",
    "h = [h1, h2, h3]"
   ]
  },
  {
   "cell_type": "code",
   "execution_count": 56,
   "id": "a9d0f3ed",
   "metadata": {},
   "outputs": [
    {
     "data": {
      "text/plain": [
       "3-element Vector{Expression}:\n",
       " 2.0 - a₁ + 0.1*a₂*x₁ + 0.8*a₃*x₁\n",
       "                 2.5 - a₂ + a₃*x₂\n",
       " 3.0 - a₃ + 0.1*a₁*x₃ + 0.8*a₂*x₃"
      ]
     },
     "execution_count": 56,
     "metadata": {},
     "output_type": "execute_result"
    }
   ],
   "source": [
    "h"
   ]
  },
  {
   "cell_type": "code",
   "execution_count": 10,
   "id": "0b0618d8-5022-41be-983b-44d0b9594ded",
   "metadata": {
    "execution": {
     "iopub.execute_input": "2022-05-04T12:20:13.621000-04:00",
     "iopub.status.busy": "2022-05-04T12:20:13.621000-04:00",
     "iopub.status.idle": "2022-05-04T12:20:13.622000-04:00",
     "shell.execute_reply": "2022-05-04T12:20:13.622000-04:00"
    },
    "tags": []
   },
   "outputs": [],
   "source": [
    "J = differentiate(h, vars);\n",
    "dfdx = differentiate(f, vars);"
   ]
  },
  {
   "cell_type": "code",
   "execution_count": 11,
   "id": "c62d33ba-8a03-4bf5-ae9e-2d9d3eb05cf9",
   "metadata": {
    "execution": {
     "iopub.execute_input": "2022-05-04T12:20:14.410000-04:00",
     "iopub.status.busy": "2022-05-04T12:20:14.410000-04:00",
     "iopub.status.idle": "2022-05-04T12:20:14.412000-04:00",
     "shell.execute_reply": "2022-05-04T12:20:14.411000-04:00"
    },
    "tags": []
   },
   "outputs": [],
   "source": [
    "kkt = [dfdx - J'*l; h];"
   ]
  },
  {
   "cell_type": "code",
   "execution_count": 12,
   "id": "ccecc959-529a-4432-af11-5f37059d52fa",
   "metadata": {
    "execution": {
     "iopub.execute_input": "2022-05-04T12:20:14.799000-04:00",
     "iopub.status.busy": "2022-05-04T12:20:14.799000-04:00",
     "iopub.status.idle": "2022-05-04T12:20:14.802000-04:00",
     "shell.execute_reply": "2022-05-04T12:20:14.802000-04:00"
    },
    "tags": []
   },
   "outputs": [],
   "source": [
    "Opt = System(kkt, variables = [vars; l]);"
   ]
  },
  {
   "cell_type": "code",
   "execution_count": 13,
   "id": "dc4758cc-80cd-4a5a-a1fe-5bc190dd3753",
   "metadata": {
    "execution": {
     "iopub.execute_input": "2022-05-04T12:20:15.362000-04:00",
     "iopub.status.busy": "2022-05-04T12:20:15.362000-04:00",
     "iopub.status.idle": "2022-05-04T12:20:18.735000-04:00",
     "shell.execute_reply": "2022-05-04T12:20:18.735000-04:00"
    },
    "tags": []
   },
   "outputs": [
    {
     "name": "stdout",
     "output_type": "stream",
     "text": [
      "\r\u001b[32mTracking 68 paths... 100%|██████████████████████████████| Time: 0:00:08\u001b[39m\r\n",
      "\u001b[34m  # paths tracked:                  68\u001b[39m\r\n",
      "\u001b[34m  # non-singular solutions (real):  52 (6)\u001b[39m\r\n",
      "\u001b[34m  # singular endpoints (real):      0 (0)\u001b[39m\r\n",
      "\u001b[34m  # total solutions (real):         52 (6)\u001b[39m\n"
     ]
    },
    {
     "data": {
      "text/plain": [
       "Result with 52 solutions\n",
       "========================\n",
       "• 68 paths tracked\n",
       "• 52 non-singular solutions (6 real)\n",
       "• random_seed: 0xa9db2224\n",
       "• start_system: :polyhedral\n"
      ]
     },
     "execution_count": 13,
     "metadata": {},
     "output_type": "execute_result"
    }
   ],
   "source": [
    "res = solve(Opt)"
   ]
  },
  {
   "cell_type": "code",
   "execution_count": 45,
   "id": "69b8aa33-912e-4823-bb57-b463ec5970fc",
   "metadata": {
    "execution": {
     "iopub.execute_input": "2022-05-04T12:20:21.555000-04:00",
     "iopub.status.busy": "2022-05-04T12:20:21.554000-04:00",
     "iopub.status.idle": "2022-05-04T12:20:21.555000-04:00",
     "shell.execute_reply": "2022-05-04T12:20:21.555000-04:00"
    },
    "tags": []
   },
   "outputs": [
    {
     "data": {
      "text/plain": [
       "6-element Vector{Vector{Float64}}:\n",
       " [-103.43463884546874, -50.18445693671601, -21.532808574867246, 41.01766328850924, -4.96168637778993, 0.14868520719870146, 926.8030375592098, -1518.8468339922006, -468.3264427071819]\n",
       " [0.3739904475761244, -0.42427126829027106, -1.5637825851059706, 1.8424971295626027, 2.8758661828251446, -0.8859100554694891, -3.0015753247886927, 2.1550954247769836, -1.8123934684776306]\n",
       " [-199.94735230111021, -14.113429764528798, -0.15654761814249213, 318.72226341913324, -39.840274633097415, 2.9999989612383935, 426.64771406011283, -21.170151977040224, -67946.88118028022]\n",
       " [-0.2562781539152825, -7.999987102963897, -0.15727589809371736, 1.9360641484503358, 3238.2632022919174, -404.47105234621023, -3.472125547220079, 0.08900498998510058, -0.00017483165731362274]\n",
       " [-86.26527444524132, -110.15227359082984, -68.58498880914202, 2.8054005227348853, -0.29646107438837604, 0.0253872297250629, 31230.34700607084, -19524.983092951712, -4554.284887913078]\n",
       " [-0.5071253944274235, 0.047480163853524944, 0.17885518902212438, 0.4899359590452504, 2.6609340270408377, 3.389500245561811, -0.5756414406277239, 0.06303605896492505, 0.236530876510019]"
      ]
     },
     "execution_count": 45,
     "metadata": {},
     "output_type": "execute_result"
    }
   ],
   "source": [
    "real_sols = real_solutions(res)\n",
    "#real_sols = permutedims(hcat(real_solutions(res)...))"
   ]
  },
  {
   "cell_type": "code",
   "execution_count": 46,
   "id": "5256e3e0-fef3-49b7-b67c-45143f0fc262",
   "metadata": {
    "execution": {
     "iopub.execute_input": "2022-05-04T12:20:54.155000-04:00",
     "iopub.status.busy": "2022-05-04T12:20:54.155000-04:00",
     "iopub.status.idle": "2022-05-04T12:20:54.165000-04:00",
     "shell.execute_reply": "2022-05-04T12:20:54.165000-04:00"
    },
    "tags": []
   },
   "outputs": [
    {
     "data": {
      "text/html": [
       "<table border=\"1\" class=\"dataframe\">\n",
       "  <thead>\n",
       "    <tr style=\"text-align: right;\">\n",
       "      <th></th>\n",
       "      <th>0</th>\n",
       "      <th>1</th>\n",
       "      <th>2</th>\n",
       "      <th>3</th>\n",
       "      <th>4</th>\n",
       "      <th>5</th>\n",
       "      <th>6</th>\n",
       "      <th>7</th>\n",
       "      <th>8</th>\n",
       "    </tr>\n",
       "  </thead>\n",
       "  <tbody>\n",
       "    <tr>\n",
       "      <th>0</th>\n",
       "      <td>-103.434639</td>\n",
       "      <td>-50.184457</td>\n",
       "      <td>-21.532809</td>\n",
       "      <td>41.017663</td>\n",
       "      <td>-4.961686</td>\n",
       "      <td>0.148685</td>\n",
       "      <td>926.803038</td>\n",
       "      <td>-1518.846834</td>\n",
       "      <td>-468.326443</td>\n",
       "    </tr>\n",
       "    <tr>\n",
       "      <th>1</th>\n",
       "      <td>0.373990</td>\n",
       "      <td>-0.424271</td>\n",
       "      <td>-1.563783</td>\n",
       "      <td>1.842497</td>\n",
       "      <td>2.875866</td>\n",
       "      <td>-0.885910</td>\n",
       "      <td>-3.001575</td>\n",
       "      <td>2.155095</td>\n",
       "      <td>-1.812393</td>\n",
       "    </tr>\n",
       "    <tr>\n",
       "      <th>2</th>\n",
       "      <td>-199.947352</td>\n",
       "      <td>-14.113430</td>\n",
       "      <td>-0.156548</td>\n",
       "      <td>318.722263</td>\n",
       "      <td>-39.840275</td>\n",
       "      <td>2.999999</td>\n",
       "      <td>426.647714</td>\n",
       "      <td>-21.170152</td>\n",
       "      <td>-67946.881180</td>\n",
       "    </tr>\n",
       "    <tr>\n",
       "      <th>3</th>\n",
       "      <td>-0.256278</td>\n",
       "      <td>-7.999987</td>\n",
       "      <td>-0.157276</td>\n",
       "      <td>1.936064</td>\n",
       "      <td>3238.263202</td>\n",
       "      <td>-404.471052</td>\n",
       "      <td>-3.472126</td>\n",
       "      <td>0.089005</td>\n",
       "      <td>-0.000175</td>\n",
       "    </tr>\n",
       "    <tr>\n",
       "      <th>4</th>\n",
       "      <td>-86.265274</td>\n",
       "      <td>-110.152274</td>\n",
       "      <td>-68.584989</td>\n",
       "      <td>2.805401</td>\n",
       "      <td>-0.296461</td>\n",
       "      <td>0.025387</td>\n",
       "      <td>31230.347006</td>\n",
       "      <td>-19524.983093</td>\n",
       "      <td>-4554.284888</td>\n",
       "    </tr>\n",
       "    <tr>\n",
       "      <th>5</th>\n",
       "      <td>-0.507125</td>\n",
       "      <td>0.047480</td>\n",
       "      <td>0.178855</td>\n",
       "      <td>0.489936</td>\n",
       "      <td>2.660934</td>\n",
       "      <td>3.389500</td>\n",
       "      <td>-0.575641</td>\n",
       "      <td>0.063036</td>\n",
       "      <td>0.236531</td>\n",
       "    </tr>\n",
       "  </tbody>\n",
       "</table>\n"
      ],
      "text/plain": [
       "            0           1          2  ...             6             7             8\n",
       "0 -103.434639  -50.184457 -21.532809  ...    926.803038  -1518.846834   -468.326443\n",
       "1    0.373990   -0.424271  -1.563783  ...     -3.001575      2.155095     -1.812393\n",
       "2 -199.947352  -14.113430  -0.156548  ...    426.647714    -21.170152 -67946.881180\n",
       "3   -0.256278   -7.999987  -0.157276  ...     -3.472126      0.089005     -0.000175\n",
       "4  -86.265274 -110.152274 -68.584989  ...  31230.347006 -19524.983093  -4554.284888\n",
       "5   -0.507125    0.047480   0.178855  ...     -0.575641      0.063036      0.236531\n",
       "\n",
       "[6 rows x 9 columns]\n"
      ]
     },
     "execution_count": 46,
     "metadata": {},
     "output_type": "execute_result"
    }
   ],
   "source": [
    "DataFrame(real_sols)"
   ]
  },
  {
   "cell_type": "code",
   "execution_count": 54,
   "id": "425ff164",
   "metadata": {},
   "outputs": [],
   "source": [
    "minarg = (real_sols .|> x->evaluate(f, vars=>x[1:6])) |> argmin |> x->real_sols[x];"
   ]
  },
  {
   "cell_type": "code",
   "execution_count": 55,
   "id": "a5ee7250-651f-45fb-a71d-3e630565f489",
   "metadata": {
    "execution": {
     "iopub.execute_input": "2022-05-04T12:20:30.401000-04:00",
     "iopub.status.busy": "2022-05-04T12:20:30.401000-04:00",
     "iopub.status.idle": "2022-05-04T12:20:30.403000-04:00",
     "shell.execute_reply": "2022-05-04T12:20:30.403000-04:00"
    },
    "tags": []
   },
   "outputs": [
    {
     "data": {
      "text/plain": [
       "3-element Vector{Float64}:\n",
       " -8.326672684688674e-17\n",
       "  1.1102230246251565e-16\n",
       " -4.5102810375396984e-17"
      ]
     },
     "execution_count": 55,
     "metadata": {},
     "output_type": "execute_result"
    }
   ],
   "source": [
    "evaluate.(h, vars=>minarg[1:6])"
   ]
  },
  {
   "cell_type": "markdown",
   "id": "ff491e89-bd9f-45fc-88f0-2ea49647ddef",
   "metadata": {},
   "source": [
    "## Synthetic problem"
   ]
  },
  {
   "cell_type": "code",
   "execution_count": 54,
   "id": "ad566a33",
   "metadata": {
    "execution": {
     "iopub.execute_input": "2022-08-16T13:21:51.941000-04:00",
     "iopub.status.busy": "2022-08-16T13:21:51.928000-04:00",
     "iopub.status.idle": "2022-08-16T13:21:52.032000-04:00",
     "shell.execute_reply": "2022-08-16T13:21:52.031000-04:00"
    },
    "tags": []
   },
   "outputs": [],
   "source": [
    "@var x_0, x_1, x_2, x_3, x_4, x_5, x_6, x_7, x_8, x_9, x_10, x_11, x_12, x_13, x_14\n",
    "@var λ[1:10];\n",
    "h0=0.6*x_12*x_6 + 0.8*x_3*x_7 + 0.2*x_4 + 0.5;\n",
    "h1=0.5*x_1*x_13*x_9 - 0.9*x_10*x_12 - 0.6*x_14 + 0.7;\n",
    "h2=0.3*x_11*x_12 + 0.2*x_2*x_3*x_5 - 0.8*x_4*x_8 - 0.2;\n",
    "h3=0.4*x_1*x_14*x_7 + 0.3*x_11*x_8 + 0.4;\n",
    "h4=0.1*x_14*x_4 + 0.4*x_6*x_7 - 0.4;\n",
    "h5=-0.3*x_14*x_6*x_7 + 0.1*x_3*x_5 - 0.4;\n",
    "h6=0.8*x_13*x_9 - 0.2*x_14*x_3 - 0.5;\n",
    "h7=0.2*x_2 - 0.8;\n",
    "h8=0.8*x_0*x_5 - 0.3*x_12*x_2 - 0.7*x_9 - 0.1;\n",
    "h9=-0.5*x_1*x_11*x_8 - 0.9;\n",
    "vars=[x_0, x_1, x_2, x_3, x_4, x_5, x_6, x_7, x_8, x_9, x_10, x_11, x_12, x_13, x_14]\n",
    "dfdx=[0, 0, 0, 0, 0, 0, 0, 2x_7-2, 0, 2x_9-2, 0, 0, 2x_12-2, 2x_13-2, 2x_14-2]\n",
    "h=[h0, h1, h2, h3, h4, h5, h6, h7, h8, h9, 2x_7-2, 2x_9-2, 2x_12-2, 2x_13-2, 2x_14-2];"
   ]
  },
  {
   "cell_type": "code",
   "execution_count": 22,
   "id": "c81f1cc5-1ba3-484b-8897-4724a87ad8d9",
   "metadata": {
    "execution": {
     "iopub.execute_input": "2022-08-16T11:49:37.118000-04:00",
     "iopub.status.busy": "2022-08-16T11:49:37.118000-04:00",
     "iopub.status.idle": "2022-08-16T11:49:37.119000-04:00",
     "shell.execute_reply": "2022-08-16T11:49:37.119000-04:00"
    },
    "tags": []
   },
   "outputs": [],
   "source": [
    "#differentiate((x_8-1)^2+(x_10-1)^2+(x_12-1)^2, vars)"
   ]
  },
  {
   "cell_type": "code",
   "execution_count": 23,
   "id": "1f21b059-636c-4ebb-b511-383ab613d7d0",
   "metadata": {
    "execution": {
     "iopub.execute_input": "2022-08-16T11:49:37.492000-04:00",
     "iopub.status.busy": "2022-08-16T11:49:37.492000-04:00",
     "iopub.status.idle": "2022-08-16T11:49:37.493000-04:00",
     "shell.execute_reply": "2022-08-16T11:49:37.493000-04:00"
    },
    "tags": []
   },
   "outputs": [],
   "source": [
    "J = jacobian(System(h));"
   ]
  },
  {
   "cell_type": "code",
   "execution_count": 24,
   "id": "8ff44c65-b291-4db2-8a9c-13236041d667",
   "metadata": {
    "execution": {
     "iopub.execute_input": "2022-08-16T11:49:37.698000-04:00",
     "iopub.status.busy": "2022-08-16T11:49:37.698000-04:00",
     "iopub.status.idle": "2022-08-16T11:49:37.699000-04:00",
     "shell.execute_reply": "2022-08-16T11:49:37.699000-04:00"
    },
    "tags": []
   },
   "outputs": [],
   "source": [
    "#Jval = round.(to_number.(subs(J.+eps(Float64), vars=>sol)),digits=15)\n",
    "#b = evaluate(dfdx,vars=>sol);"
   ]
  },
  {
   "cell_type": "code",
   "execution_count": 25,
   "id": "ac6c18c7-8fb8-4870-8f35-2230994a5463",
   "metadata": {
    "execution": {
     "iopub.execute_input": "2022-08-16T11:49:37.874000-04:00",
     "iopub.status.busy": "2022-08-16T11:49:37.874000-04:00",
     "iopub.status.idle": "2022-08-16T11:49:37.875000-04:00",
     "shell.execute_reply": "2022-08-16T11:49:37.875000-04:00"
    },
    "tags": []
   },
   "outputs": [],
   "source": [
    "# A2 = Jval[:,2:end].-Jval[:,1]*l0[1]\n",
    "# l2 = nullspace(A2)*[1 1]' \n",
    "# A3 = A2[:,2:end].-A2[:,1]*l2[1]\n",
    "# l3 = nullspace(A3) \n",
    "# A4 = A3[:,2:end].-A3[:,1]*l3[1]"
   ]
  },
  {
   "cell_type": "code",
   "execution_count": 26,
   "id": "bd7dd5f3-c73f-42aa-b418-f72476be38a7",
   "metadata": {
    "execution": {
     "iopub.execute_input": "2022-08-16T11:49:38.057000-04:00",
     "iopub.status.busy": "2022-08-16T11:49:38.057000-04:00",
     "iopub.status.idle": "2022-08-16T11:49:38.058000-04:00",
     "shell.execute_reply": "2022-08-16T11:49:38.058000-04:00"
    },
    "tags": []
   },
   "outputs": [],
   "source": [
    "#l0 = nullspace(Jval)*[1 1 1]' "
   ]
  },
  {
   "cell_type": "code",
   "execution_count": 27,
   "id": "3118d8dd-fb4a-478b-8479-96f525da9f7c",
   "metadata": {
    "execution": {
     "iopub.execute_input": "2022-08-16T11:49:38.403000-04:00",
     "iopub.status.busy": "2022-08-16T11:49:38.403000-04:00",
     "iopub.status.idle": "2022-08-16T11:49:38.404000-04:00",
     "shell.execute_reply": "2022-08-16T11:49:38.404000-04:00"
    },
    "tags": []
   },
   "outputs": [],
   "source": [
    "#[b + Jval'*λ; subs(h, vars=>sol)]"
   ]
  },
  {
   "cell_type": "code",
   "execution_count": 28,
   "id": "b8356e16-e5db-4e7f-bf76-2da6c4ebefa6",
   "metadata": {
    "execution": {
     "iopub.execute_input": "2022-08-16T11:49:38.580000-04:00",
     "iopub.status.busy": "2022-08-16T11:49:38.580000-04:00",
     "iopub.status.idle": "2022-08-16T11:49:38.580000-04:00",
     "shell.execute_reply": "2022-08-16T11:49:38.580000-04:00"
    },
    "tags": []
   },
   "outputs": [],
   "source": [
    "kkt = [dfdx + J'*λ; h];"
   ]
  },
  {
   "cell_type": "code",
   "execution_count": 29,
   "id": "dac9c9e4-a1c0-459e-b873-84cceaee57fe",
   "metadata": {
    "execution": {
     "iopub.execute_input": "2022-08-16T11:49:38.901000-04:00",
     "iopub.status.busy": "2022-08-16T11:49:38.901000-04:00",
     "iopub.status.idle": "2022-08-16T11:49:38.905000-04:00",
     "shell.execute_reply": "2022-08-16T11:49:38.904000-04:00"
    },
    "tags": []
   },
   "outputs": [],
   "source": [
    "Opt = System(kkt, variables = [vars; λ]);"
   ]
  },
  {
   "cell_type": "code",
   "execution_count": 55,
   "id": "8bf4df5a-7de0-401d-994e-fb3ac9b4ba86",
   "metadata": {
    "execution": {
     "iopub.execute_input": "2022-08-16T13:21:55.278000-04:00",
     "iopub.status.busy": "2022-08-16T13:21:55.277000-04:00",
     "iopub.status.idle": "2022-08-16T13:21:55.296000-04:00",
     "shell.execute_reply": "2022-08-16T13:21:55.296000-04:00"
    },
    "tags": []
   },
   "outputs": [],
   "source": [
    "Solv = System(h, variables = vars);"
   ]
  },
  {
   "cell_type": "code",
   "execution_count": 56,
   "id": "ed45b2a6-43f9-4488-9831-cb3a42fee1f3",
   "metadata": {
    "execution": {
     "iopub.execute_input": "2022-08-16T13:21:55.716000-04:00",
     "iopub.status.busy": "2022-08-16T13:21:55.716000-04:00",
     "iopub.status.idle": "2022-08-16T13:21:59.907000-04:00",
     "shell.execute_reply": "2022-08-16T13:21:59.907000-04:00"
    },
    "tags": []
   },
   "outputs": [
    {
     "name": "stdout",
     "output_type": "stream",
     "text": [
      "\u001b[32mTracking 4 paths... 100%|███████████████████████████████| Time: 0:00:02\u001b[39m\n",
      "\u001b[34m  # paths tracked:                  4\u001b[39m\n",
      "\u001b[34m  # non-singular solutions (real):  4 (4)\u001b[39m\n",
      "\u001b[34m  # singular endpoints (real):      0 (0)\u001b[39m\n",
      "\u001b[34m  # total solutions (real):         4 (4)\u001b[39m\n"
     ]
    },
    {
     "data": {
      "text/plain": [
       "Result with 4 solutions\n",
       "=======================\n",
       "• 4 paths tracked\n",
       "• 4 non-singular solutions (4 real)\n",
       "• random_seed: 0xbd8d173e\n",
       "• start_system: :polyhedral\n"
      ]
     },
     "execution_count": 56,
     "metadata": {},
     "output_type": "execute_result"
    }
   ],
   "source": [
    "res = solve(Solv) #16 hours for 45 variables"
   ]
  },
  {
   "cell_type": "code",
   "execution_count": 57,
   "id": "cc3c861b-3edd-406b-b20f-c17c194dedb2",
   "metadata": {
    "execution": {
     "iopub.execute_input": "2022-08-16T13:22:03.144000-04:00",
     "iopub.status.busy": "2022-08-16T13:22:03.144000-04:00",
     "iopub.status.idle": "2022-08-16T13:22:03.145000-04:00",
     "shell.execute_reply": "2022-08-16T13:22:03.145000-04:00"
    },
    "tags": []
   },
   "outputs": [],
   "source": [
    "real_sols = real_solutions(res);"
   ]
  },
  {
   "cell_type": "code",
   "execution_count": 58,
   "id": "8721e59d-94c2-473a-9aaa-e08e649b6ee2",
   "metadata": {
    "execution": {
     "iopub.execute_input": "2022-08-16T13:22:03.299000-04:00",
     "iopub.status.busy": "2022-08-16T13:22:03.299000-04:00",
     "iopub.status.idle": "2022-08-16T13:22:03.305000-04:00",
     "shell.execute_reply": "2022-08-16T13:22:03.305000-04:00"
    },
    "tags": []
   },
   "outputs": [
    {
     "data": {
      "text/plain": [
       "4-element Vector{Vector{Float64}}:\n",
       " [0.09036144578313254, 0.7649110640673518, 4.0, 1.5, -45.999999999999986, 27.66666666666666, 12.499999999999996, 1.0, 0.020905495836366465, 1.0, 0.5360617022596398, -112.56440748926092, 1.0, 1.0, 1.0]\n",
       " [0.09036144578313259, -1.7649110640673518, 4.0, 1.5, -45.99999999999998, 27.66666666666665, 12.499999999999995, 1.0, -0.00936954663328207, 1.0, -0.8693950355929732, -108.85066894631736, 1.0, 1.0, 1.0]\n",
       " [0.09036144578313257, 0.7649110640673518, 4.0, 1.5, -45.999999999999986, 27.666666666666657, 12.499999999999998, 1.0, -0.9176446262711492, 1.0, 0.5360617022596399, 2.5644074892609523, 1.0, 1.0, 1.0]\n",
       " [0.0903614457831326, -1.7649110640673518, 4.0, 1.5, -45.99999999999998, 27.66666666666665, 12.499999999999995, 1.0, -0.8873695838015002, 1.0, -0.8693950355929732, -1.1493310536826005, 1.0, 1.0, 1.0]"
      ]
     },
     "execution_count": 58,
     "metadata": {},
     "output_type": "execute_result"
    }
   ],
   "source": [
    "real_sols"
   ]
  },
  {
   "cell_type": "code",
   "execution_count": 8,
   "id": "1d2e43d2-ad66-484e-b870-f8566d6df275",
   "metadata": {
    "execution": {
     "iopub.execute_input": "2022-07-12T19:01:38.374000-04:00",
     "iopub.status.busy": "2022-07-12T19:01:38.374000-04:00",
     "iopub.status.idle": "2022-07-12T19:01:38.375000-04:00",
     "shell.execute_reply": "2022-07-12T19:01:38.375000-04:00"
    },
    "tags": []
   },
   "outputs": [],
   "source": [
    "sol = real_sols[1];"
   ]
  },
  {
   "cell_type": "code",
   "execution_count": 255,
   "id": "eb6039d9-04f1-45b3-b277-48fb94cb2416",
   "metadata": {
    "execution": {
     "iopub.execute_input": "2022-07-12T20:26:56.635000-04:00",
     "iopub.status.busy": "2022-07-12T20:26:56.635000-04:00",
     "iopub.status.idle": "2022-07-12T20:26:56.638000-04:00",
     "shell.execute_reply": "2022-07-12T20:26:56.638000-04:00"
    },
    "tags": []
   },
   "outputs": [
    {
     "data": {
      "text/plain": [
       "13-element Vector{Float64}:\n",
       "  1.1584362139917694\n",
       "  1.0\n",
       " -3.0000000000000004\n",
       "  1.0\n",
       "  1.0\n",
       "  0.03703703703703702\n",
       " -1.3333333333333335\n",
       " -1.8662551440329218\n",
       " -0.07792207792207792\n",
       " -1.0\n",
       " -1.5538188277087035\n",
       " -4.277777777777778\n",
       " -2.851851851851851"
      ]
     },
     "execution_count": 255,
     "metadata": {},
     "output_type": "execute_result"
    }
   ],
   "source": [
    "sol"
   ]
  },
  {
   "cell_type": "code",
   "execution_count": 28,
   "id": "06f36915-88c0-469b-b160-b2abee92259f",
   "metadata": {
    "execution": {
     "iopub.execute_input": "2022-07-12T17:17:38.984000-04:00",
     "iopub.status.busy": "2022-07-12T17:17:38.984000-04:00",
     "iopub.status.idle": "2022-07-12T17:17:39.214000-04:00",
     "shell.execute_reply": "2022-07-12T17:17:39.213000-04:00"
    },
    "tags": []
   },
   "outputs": [
    {
     "data": {
      "text/plain": [
       "0.0"
      ]
     },
     "execution_count": 28,
     "metadata": {},
     "output_type": "execute_result"
    }
   ],
   "source": [
    "sum((sol[2]-1)^2+(sol[4]-1)^2+(sol[5]-1)^2)"
   ]
  },
  {
   "cell_type": "code",
   "execution_count": 22,
   "id": "f5d160e0-5130-49d9-aff8-e995ac943230",
   "metadata": {
    "execution": {
     "iopub.execute_input": "2022-07-12T17:15:00.526000-04:00",
     "iopub.status.busy": "2022-07-12T17:15:00.526000-04:00",
     "iopub.status.idle": "2022-07-12T17:15:00.724000-04:00",
     "shell.execute_reply": "2022-07-12T17:15:00.723000-04:00"
    },
    "tags": []
   },
   "outputs": [
    {
     "data": {
      "text/plain": [
       "1-element Vector{Vector{Float64}}:\n",
       " [1.1584362139917694, 1.0, -3.0000000000000004, 1.0, 1.0, 0.03703703703703702, -1.3333333333333335, -1.866255144032922, -0.07792207792207792, -1.0, -1.5538188277087035, -4.277777777777778, -2.851851851851851]"
      ]
     },
     "execution_count": 22,
     "metadata": {},
     "output_type": "execute_result"
    }
   ],
   "source": [
    "objs = [(idx, sum([elt[idx-9]^2 for idx in [11,12,13,14,15,17,18,19]]), valid[idx]) for (idx,elt) in enumerate(real_sols[0])]"
   ]
  },
  {
   "cell_type": "code",
   "execution_count": 84,
   "id": "376ca63d-759b-4aac-b812-f4f19abd34e3",
   "metadata": {
    "execution": {
     "iopub.execute_input": "2022-04-18T15:53:39.040000-04:00",
     "iopub.status.busy": "2022-04-18T15:53:39.039000-04:00",
     "iopub.status.idle": "2022-04-18T15:53:39.041000-04:00",
     "shell.execute_reply": "2022-04-18T15:53:39.041000-04:00"
    },
    "tags": []
   },
   "outputs": [
    {
     "data": {
      "text/plain": [
       "11.2783235488464"
      ]
     },
     "execution_count": 84,
     "metadata": {},
     "output_type": "execute_result"
    }
   ],
   "source": [
    "0.1/real_sols[5][4]*real_sols[5][11]"
   ]
  },
  {
   "cell_type": "code",
   "execution_count": 85,
   "id": "41325cfe-32e6-4499-ac82-8d07bf5c7549",
   "metadata": {
    "execution": {
     "iopub.execute_input": "2022-04-18T15:57:19.368000-04:00",
     "iopub.status.busy": "2022-04-18T15:57:19.368000-04:00",
     "iopub.status.idle": "2022-04-18T15:57:19.370000-04:00",
     "shell.execute_reply": "2022-04-18T15:57:19.370000-04:00"
    },
    "tags": []
   },
   "outputs": [
    {
     "data": {
      "text/latex": [
       "$$ 0.553148927062142 - 0.4*x_3*x_10 $$"
      ],
      "text/plain": [
       "0.553148927062142 - 0.4*x_3*x_10"
      ]
     },
     "execution_count": 85,
     "metadata": {},
     "output_type": "execute_result"
    }
   ],
   "source": [
    "h_1 = subs(h9, [x_0]=>[real_sols[4][1]])"
   ]
  },
  {
   "cell_type": "code",
   "execution_count": 86,
   "id": "e664aa3d-5f99-4695-86ea-3b2a14f47fe0",
   "metadata": {
    "execution": {
     "iopub.execute_input": "2022-04-18T15:57:22.974000-04:00",
     "iopub.status.busy": "2022-04-18T15:57:22.974000-04:00",
     "iopub.status.idle": "2022-04-18T15:57:22.975000-04:00",
     "shell.execute_reply": "2022-04-18T15:57:22.975000-04:00"
    },
    "tags": []
   },
   "outputs": [
    {
     "data": {
      "text/latex": [
       "$$ -3.6421064850287 + 2.63372578836768*x_3*x_10 $$"
      ],
      "text/plain": [
       "-3.6421064850287 + 2.63372578836768*x_3*x_10"
      ]
     },
     "execution_count": 86,
     "metadata": {},
     "output_type": "execute_result"
    }
   ],
   "source": [
    "h_2 = subs(h5, [x_2,x_7,x_9]=>real_sols[4][[3,8,10]])"
   ]
  },
  {
   "cell_type": "code",
   "execution_count": 63,
   "id": "116e2395-5e3a-4335-b6f1-ae488376d700",
   "metadata": {
    "execution": {
     "iopub.execute_input": "2022-04-18T15:33:24.567000-04:00",
     "iopub.status.busy": "2022-04-18T15:33:24.566000-04:00",
     "iopub.status.idle": "2022-04-18T15:33:24.568000-04:00",
     "shell.execute_reply": "2022-04-18T15:33:24.567000-04:00"
    }
   },
   "outputs": [
    {
     "data": {
      "text/latex": [
       "$$ -0.0928781489093999 + 2.5629899*x_3*x_10 $$"
      ],
      "text/plain": [
       "-0.0928781489093999 + 2.5629899*x_3*x_10"
      ]
     },
     "execution_count": 63,
     "metadata": {},
     "output_type": "execute_result"
    }
   ],
   "source": [
    "h11+h12"
   ]
  },
  {
   "cell_type": "code",
   "execution_count": 61,
   "id": "b39c4ab8",
   "metadata": {
    "execution": {
     "iopub.execute_input": "2022-04-18T15:32:57.710000-04:00",
     "iopub.status.busy": "2022-04-18T15:32:57.709000-04:00",
     "iopub.status.idle": "2022-04-18T15:32:57.712000-04:00",
     "shell.execute_reply": "2022-04-18T15:32:57.711000-04:00"
    },
    "tags": []
   },
   "outputs": [],
   "source": [
    "C1 = System(h, variables = vars,parameters = u);"
   ]
  },
  {
   "cell_type": "code",
   "execution_count": 95,
   "id": "8d937a83",
   "metadata": {
    "execution": {
     "iopub.execute_input": "2022-04-18T16:06:25.945000-04:00",
     "iopub.status.busy": "2022-04-18T16:06:25.945000-04:00",
     "iopub.status.idle": "2022-04-18T16:06:26.006000-04:00",
     "shell.execute_reply": "2022-04-18T16:06:26.006000-04:00"
    },
    "tags": []
   },
   "outputs": [
    {
     "data": {
      "text/plain": [
       "Result with 30 solutions\n",
       "========================\n",
       "• 30 paths tracked\n",
       "• 30 non-singular solutions (8 real)\n",
       "• random_seed: 0xfa7c2987\n",
       "• start_system: :polyhedral\n"
      ]
     },
     "execution_count": 95,
     "metadata": {},
     "output_type": "execute_result"
    }
   ],
   "source": [
    "res = solve(C1, target_parameters =[0.3,0.1,0.1]) "
   ]
  },
  {
   "cell_type": "code",
   "execution_count": 91,
   "id": "48a6a99c",
   "metadata": {
    "execution": {
     "iopub.execute_input": "2022-04-18T16:06:04.875000-04:00",
     "iopub.status.busy": "2022-04-18T16:06:04.875000-04:00",
     "iopub.status.idle": "2022-04-18T16:06:04.877000-04:00",
     "shell.execute_reply": "2022-04-18T16:06:04.876000-04:00"
    },
    "tags": []
   },
   "outputs": [],
   "source": [
    "real_sols = real_solutions(res);"
   ]
  },
  {
   "cell_type": "code",
   "execution_count": 92,
   "id": "9961b14b-2def-4e88-b5b3-dc6596dac5ce",
   "metadata": {
    "execution": {
     "iopub.execute_input": "2022-04-18T16:06:05.082000-04:00",
     "iopub.status.busy": "2022-04-18T16:06:05.082000-04:00",
     "iopub.status.idle": "2022-04-18T16:06:05.100000-04:00",
     "shell.execute_reply": "2022-04-18T16:06:05.100000-04:00"
    },
    "tags": []
   },
   "outputs": [
    {
     "data": {
      "text/html": [
       "<table border=\"1\" class=\"dataframe\">\n",
       "  <thead>\n",
       "    <tr style=\"text-align: right;\">\n",
       "      <th></th>\n",
       "      <th>0</th>\n",
       "      <th>1</th>\n",
       "      <th>2</th>\n",
       "      <th>3</th>\n",
       "      <th>4</th>\n",
       "      <th>5</th>\n",
       "      <th>6</th>\n",
       "      <th>7</th>\n",
       "      <th>8</th>\n",
       "      <th>9</th>\n",
       "      <th>10</th>\n",
       "      <th>11</th>\n",
       "      <th>12</th>\n",
       "    </tr>\n",
       "  </thead>\n",
       "  <tbody>\n",
       "    <tr>\n",
       "      <th>0</th>\n",
       "      <td>-0.000127</td>\n",
       "      <td>493.850296</td>\n",
       "      <td>10.559465</td>\n",
       "      <td>-0.468715</td>\n",
       "      <td>2.331720</td>\n",
       "      <td>-8.839504</td>\n",
       "      <td>0.5</td>\n",
       "      <td>7.142459</td>\n",
       "      <td>2475.315047</td>\n",
       "      <td>0.365245</td>\n",
       "      <td>3.733541</td>\n",
       "      <td>0.1</td>\n",
       "      <td>0.1</td>\n",
       "    </tr>\n",
       "    <tr>\n",
       "      <th>1</th>\n",
       "      <td>0.063350</td>\n",
       "      <td>-30.572741</td>\n",
       "      <td>10.474827</td>\n",
       "      <td>-0.470612</td>\n",
       "      <td>2.314037</td>\n",
       "      <td>-0.286846</td>\n",
       "      <td>0.5</td>\n",
       "      <td>7.106910</td>\n",
       "      <td>-4.997546</td>\n",
       "      <td>0.367355</td>\n",
       "      <td>3.752217</td>\n",
       "      <td>0.1</td>\n",
       "      <td>0.1</td>\n",
       "    </tr>\n",
       "    <tr>\n",
       "      <th>2</th>\n",
       "      <td>18.096732</td>\n",
       "      <td>-0.008478</td>\n",
       "      <td>2.895012</td>\n",
       "      <td>-0.712510</td>\n",
       "      <td>0.498511</td>\n",
       "      <td>-3.621196</td>\n",
       "      <td>0.5</td>\n",
       "      <td>3.028326</td>\n",
       "      <td>-0.041056</td>\n",
       "      <td>0.849895</td>\n",
       "      <td>8.805746</td>\n",
       "      <td>0.1</td>\n",
       "      <td>0.1</td>\n",
       "    </tr>\n",
       "    <tr>\n",
       "      <th>3</th>\n",
       "      <td>-19.603931</td>\n",
       "      <td>0.100811</td>\n",
       "      <td>5.216189</td>\n",
       "      <td>-1.068495</td>\n",
       "      <td>10.073148</td>\n",
       "      <td>-0.281109</td>\n",
       "      <td>0.5</td>\n",
       "      <td>-9.042642</td>\n",
       "      <td>-0.012692</td>\n",
       "      <td>0.140521</td>\n",
       "      <td>-2.948991</td>\n",
       "      <td>0.1</td>\n",
       "      <td>0.1</td>\n",
       "    </tr>\n",
       "  </tbody>\n",
       "</table>\n"
      ],
      "text/plain": [
       "          0           1          2         3   ...        9         10   11   12\n",
       "0  -0.000127  493.850296  10.559465 -0.468715  ...  0.365245  3.733541  0.1  0.1\n",
       "1   0.063350  -30.572741  10.474827 -0.470612  ...  0.367355  3.752217  0.1  0.1\n",
       "2  18.096732   -0.008478   2.895012 -0.712510  ...  0.849895  8.805746  0.1  0.1\n",
       "3 -19.603931    0.100811   5.216189 -1.068495  ...  0.140521 -2.948991  0.1  0.1\n",
       "\n",
       "[4 rows x 13 columns]\n"
      ]
     },
     "execution_count": 92,
     "metadata": {},
     "output_type": "execute_result"
    }
   ],
   "source": [
    "DataFrame(real_sols)"
   ]
  },
  {
   "cell_type": "markdown",
   "id": "d47723f4",
   "metadata": {},
   "source": [
    "## Optimization"
   ]
  },
  {
   "cell_type": "code",
   "execution_count": 5,
   "id": "f29017f5",
   "metadata": {
    "execution": {
     "iopub.execute_input": "2022-01-15T11:54:15.723000-05:00",
     "iopub.status.busy": "2022-01-15T11:54:15.723000-05:00",
     "iopub.status.idle": "2022-01-15T11:54:15.901000-05:00",
     "shell.execute_reply": "2022-01-15T11:54:15.900000-05:00"
    },
    "tags": []
   },
   "outputs": [],
   "source": [
    "J = differentiate(h, vars);"
   ]
  },
  {
   "cell_type": "code",
   "execution_count": 6,
   "id": "4d60351e",
   "metadata": {
    "execution": {
     "iopub.execute_input": "2022-01-15T11:54:16.433000-05:00",
     "iopub.status.busy": "2022-01-15T11:54:16.433000-05:00",
     "iopub.status.idle": "2022-01-15T11:54:16.847000-05:00",
     "shell.execute_reply": "2022-01-15T11:54:16.847000-05:00"
    },
    "tags": []
   },
   "outputs": [],
   "source": [
    "kkt = [dfdx - J'*λ; h];"
   ]
  },
  {
   "cell_type": "code",
   "execution_count": 7,
   "id": "c94ab685",
   "metadata": {
    "execution": {
     "iopub.execute_input": "2022-01-15T11:54:17.307000-05:00",
     "iopub.status.busy": "2022-01-15T11:54:17.307000-05:00",
     "iopub.status.idle": "2022-01-15T11:54:17.622000-05:00",
     "shell.execute_reply": "2022-01-15T11:54:17.620000-05:00"
    },
    "tags": []
   },
   "outputs": [],
   "source": [
    "Opt = System(kkt, variables = [vars; λ]);"
   ]
  },
  {
   "cell_type": "code",
   "execution_count": 8,
   "id": "5d7b2d96",
   "metadata": {
    "execution": {
     "iopub.execute_input": "2022-01-15T11:54:21.694000-05:00",
     "iopub.status.busy": "2022-01-15T11:54:21.694000-05:00",
     "iopub.status.idle": "2022-01-15T11:55:42.542000-05:00",
     "shell.execute_reply": "2022-01-15T11:55:42.541000-05:00"
    },
    "tags": []
   },
   "outputs": [
    {
     "name": "stdout",
     "output_type": "stream",
     "text": [
      "\u001b[32mTracking 105 paths... 100%|█████████████████████████████| Time: 0:00:19\u001b[39m\n",
      "\u001b[34m  # paths tracked:                  105\u001b[39m\n",
      "\u001b[34m  # non-singular solutions (real):  77 (11)\u001b[39m\n",
      "\u001b[34m  # singular endpoints (real):      0 (0)\u001b[39m\n",
      "\u001b[34m  # total solutions (real):         77 (11)\u001b[39m\n"
     ]
    },
    {
     "data": {
      "text/plain": [
       "Result with 77 solutions\n",
       "========================\n",
       "• 105 paths tracked\n",
       "• 77 non-singular solutions (11 real)\n",
       "• random_seed: 0xe2abfb2a\n",
       "• start_system: :polyhedral\n"
      ]
     },
     "execution_count": 8,
     "metadata": {},
     "output_type": "execute_result"
    }
   ],
   "source": [
    "opt = solve(Opt)"
   ]
  },
  {
   "cell_type": "code",
   "execution_count": 80,
   "id": "d73fa75c",
   "metadata": {
    "execution": {
     "iopub.execute_input": "2021-12-08T11:50:31.711000-05:00",
     "iopub.status.busy": "2021-12-08T11:50:31.711000-05:00",
     "iopub.status.idle": "2021-12-08T11:50:31.712000-05:00",
     "shell.execute_reply": "2021-12-08T11:50:31.712000-05:00"
    }
   },
   "outputs": [],
   "source": [
    "real_sols = real_solutions(opt);"
   ]
  },
  {
   "cell_type": "code",
   "execution_count": 93,
   "id": "bd838933",
   "metadata": {
    "execution": {
     "iopub.execute_input": "2021-12-08T11:52:19.434000-05:00",
     "iopub.status.busy": "2021-12-08T11:52:19.433000-05:00",
     "iopub.status.idle": "2021-12-08T11:52:19.437000-05:00",
     "shell.execute_reply": "2021-12-08T11:52:19.436000-05:00"
    }
   },
   "outputs": [
    {
     "data": {
      "text/plain": [
       "10-element Array{Float64,1}:\n",
       " -8.070065164468728\n",
       "  0.0\n",
       " -0.6702017313781344\n",
       " 10.56294540001432\n",
       " -7.3095397502722275\n",
       " -1.028448275698785\n",
       " -1.7702757088371428\n",
       " -4.385502221807738\n",
       "  8.026313043233805e-32\n",
       " 29.89201695117508"
      ]
     },
     "execution_count": 93,
     "metadata": {},
     "output_type": "execute_result"
    }
   ],
   "source": [
    "real_sols[8][14:end]"
   ]
  },
  {
   "cell_type": "code",
   "execution_count": 82,
   "id": "13a4b761",
   "metadata": {
    "execution": {
     "iopub.execute_input": "2021-12-08T11:50:33.874000-05:00",
     "iopub.status.busy": "2021-12-08T11:50:33.874000-05:00",
     "iopub.status.idle": "2021-12-08T11:50:33.940000-05:00",
     "shell.execute_reply": "2021-12-08T11:50:33.940000-05:00"
    }
   },
   "outputs": [],
   "source": [
    "xs = map(p -> p[1:13], real_sols);"
   ]
  },
  {
   "cell_type": "code",
   "execution_count": 84,
   "id": "ffd82a60",
   "metadata": {
    "execution": {
     "iopub.execute_input": "2021-12-08T11:50:38.794000-05:00",
     "iopub.status.busy": "2021-12-08T11:50:38.794000-05:00",
     "iopub.status.idle": "2021-12-08T11:50:38.795000-05:00",
     "shell.execute_reply": "2021-12-08T11:50:38.794000-05:00"
    }
   },
   "outputs": [],
   "source": [
    "xs;"
   ]
  },
  {
   "cell_type": "code",
   "execution_count": 88,
   "id": "81ac4bfa",
   "metadata": {
    "execution": {
     "iopub.execute_input": "2021-12-08T11:51:13.535000-05:00",
     "iopub.status.busy": "2021-12-08T11:51:13.535000-05:00",
     "iopub.status.idle": "2021-12-08T11:51:13.744000-05:00",
     "shell.execute_reply": "2021-12-08T11:51:13.744000-05:00"
    }
   },
   "outputs": [],
   "source": [
    "valid = [all(abs.(elt) .> 0.01) for elt in xs];"
   ]
  },
  {
   "cell_type": "code",
   "execution_count": 91,
   "id": "96d2c6f8",
   "metadata": {
    "execution": {
     "iopub.execute_input": "2021-12-08T11:51:52.158000-05:00",
     "iopub.status.busy": "2021-12-08T11:51:52.158000-05:00",
     "iopub.status.idle": "2021-12-08T11:51:52.351000-05:00",
     "shell.execute_reply": "2021-12-08T11:51:52.350000-05:00"
    }
   },
   "outputs": [
    {
     "data": {
      "text/plain": [
       "11-element Array{Tuple{Int64,Float64,Bool},1}:\n",
       " (1, 160.41630040592673, 1)\n",
       " (2, 54.76560267575184, 1)\n",
       " (3, 59.10746811184429, 1)\n",
       " (4, 60.70890042689245, 1)\n",
       " (5, 54.666471431212024, 1)\n",
       " (6, 44.16618337054458, 1)\n",
       " (7, 2.9906175743414955e6, 0)\n",
       " (8, 37.505405294327296, 1)\n",
       " (9, 159.79450875202195, 1)\n",
       " (10, 39.44023437378726, 1)\n",
       " (11, 43.89506639058234, 1)"
      ]
     },
     "execution_count": 91,
     "metadata": {},
     "output_type": "execute_result"
    }
   ],
   "source": [
    "objs = [(idx, sum([elt[idx-9]^2 for idx in [11,12,13,14,15,17,18,19]]), valid[idx]) for (idx,elt) in enumerate(xs)]"
   ]
  },
  {
   "cell_type": "code",
   "execution_count": 92,
   "id": "662c61ac",
   "metadata": {
    "execution": {
     "iopub.execute_input": "2021-12-08T11:52:13.767000-05:00",
     "iopub.status.busy": "2021-12-08T11:52:13.767000-05:00",
     "iopub.status.idle": "2021-12-08T11:52:13.770000-05:00",
     "shell.execute_reply": "2021-12-08T11:52:13.770000-05:00"
    }
   },
   "outputs": [
    {
     "data": {
      "text/plain": [
       "13-element Array{Float64,1}:\n",
       "  -1.5000000000000002\n",
       "  -1.5861574138526022\n",
       "  -2.9039010778487695\n",
       "  -1.557109343272545\n",
       "  -0.06304544500227817\n",
       "   2.1641611497053543\n",
       " -33.96860313514649\n",
       "  -1.1243308506045717\n",
       "   4.1323721705044045\n",
       "   1.050757416704636\n",
       "   2.5\n",
       "   0.7463699802115709\n",
       "  -8.562193271133395"
      ]
     },
     "execution_count": 92,
     "metadata": {},
     "output_type": "execute_result"
    }
   ],
   "source": [
    "xs[8]"
   ]
  },
  {
   "cell_type": "code",
   "execution_count": 41,
   "id": "ce2bae38",
   "metadata": {
    "execution": {
     "iopub.execute_input": "2021-11-24T17:53:49.510000+01:00",
     "iopub.status.busy": "2021-11-24T17:53:49.510000+01:00",
     "iopub.status.idle": "2021-11-24T17:53:49.631000+01:00",
     "shell.execute_reply": "2021-11-24T17:53:49.631000+01:00"
    }
   },
   "outputs": [],
   "source": [
    "objs = [elt[9]^2 for elt in xs if elt[9]^2<=1];"
   ]
  },
  {
   "cell_type": "code",
   "execution_count": 84,
   "id": "7e4d6623",
   "metadata": {
    "execution": {
     "iopub.execute_input": "2021-11-24T18:18:21.239000+01:00",
     "iopub.status.busy": "2021-11-24T18:18:21.239000+01:00",
     "iopub.status.idle": "2021-11-24T18:18:21.519000+01:00",
     "shell.execute_reply": "2021-11-24T18:18:21.505000+01:00"
    }
   },
   "outputs": [
    {
     "data": {
      "text/plain": [
       "3×41 Array{Float64,2}:\n",
       "  1.08771   -2.77318   -0.145443  …  0.482864  -2.42381   -0.543099\n",
       " -0.63979   -2.05364   -0.607108     1.34852   -2.17316   -0.695442\n",
       "  0.960985   0.688615   0.842597     0.707536   0.912763   0.859671"
      ]
     },
     "execution_count": 84,
     "metadata": {},
     "output_type": "execute_result"
    }
   ],
   "source": [
    "res = hcat([elt[[3,8,10]] for elt in xs if elt[9]^2<=1]...)"
   ]
  },
  {
   "cell_type": "code",
   "execution_count": 87,
   "id": "193f12f4",
   "metadata": {
    "execution": {
     "iopub.execute_input": "2021-11-24T18:19:05.421000+01:00",
     "iopub.status.busy": "2021-11-24T18:19:05.421000+01:00",
     "iopub.status.idle": "2021-11-24T18:19:06.061000+01:00",
     "shell.execute_reply": "2021-11-24T18:19:06.060000+01:00"
    }
   },
   "outputs": [
    {
     "data": {
      "text/plain": [
       "(4.787341467137889e-5, 41)"
      ]
     },
     "execution_count": 87,
     "metadata": {},
     "output_type": "execute_result"
    }
   ],
   "source": [
    "dist, idx = findmin(objs)"
   ]
  },
  {
   "cell_type": "code",
   "execution_count": 88,
   "id": "020b0f2c",
   "metadata": {
    "execution": {
     "iopub.execute_input": "2021-11-24T18:20:16.091000+01:00",
     "iopub.status.busy": "2021-11-24T18:20:16.090000+01:00",
     "iopub.status.idle": "2021-11-24T18:20:16.137000+01:00",
     "shell.execute_reply": "2021-11-24T18:20:16.135000+01:00"
    }
   },
   "outputs": [
    {
     "data": {
      "text/plain": [
       "3-element Array{Float64,1}:\n",
       " -0.5430990106328428\n",
       " -0.6954415160549715\n",
       "  0.8596714170233678"
      ]
     },
     "execution_count": 88,
     "metadata": {},
     "output_type": "execute_result"
    }
   ],
   "source": [
    "res[:, idx]"
   ]
  },
  {
   "cell_type": "code",
   "execution_count": 85,
   "id": "ba4fb8c2",
   "metadata": {
    "execution": {
     "iopub.execute_input": "2021-11-24T18:18:22.931000+01:00",
     "iopub.status.busy": "2021-11-24T18:18:22.930000+01:00",
     "iopub.status.idle": "2021-11-24T18:18:22.936000+01:00",
     "shell.execute_reply": "2021-11-24T18:18:22.935000+01:00"
    }
   },
   "outputs": [
    {
     "data": {
      "text/plain": [
       "3×2 Array{Float64,2}:\n",
       " -2.77826  1.08771\n",
       " -8.4735   1.43142\n",
       " -1.23403  1.16269"
      ]
     },
     "execution_count": 85,
     "metadata": {},
     "output_type": "execute_result"
    }
   ],
   "source": [
    "[minimum.(eachrow(res)) maximum.(eachrow(res))]"
   ]
  },
  {
   "cell_type": "code",
   "execution_count": 86,
   "id": "f1bf0d06",
   "metadata": {
    "execution": {
     "iopub.execute_input": "2021-11-24T18:18:23.889000+01:00",
     "iopub.status.busy": "2021-11-24T18:18:23.889000+01:00",
     "iopub.status.idle": "2021-11-24T18:18:23.929000+01:00",
     "shell.execute_reply": "2021-11-24T18:18:23.928000+01:00"
    }
   },
   "outputs": [
    {
     "data": {
      "image/svg+xml": [
       "<?xml version=\"1.0\" encoding=\"utf-8\"?>\n",
       "<svg xmlns=\"http://www.w3.org/2000/svg\" xmlns:xlink=\"http://www.w3.org/1999/xlink\" width=\"600\" height=\"400\" viewBox=\"0 0 2400 1600\">\n",
       "<defs>\n",
       "  <clipPath id=\"clip950\">\n",
       "    <rect x=\"0\" y=\"0\" width=\"2400\" height=\"1600\"/>\n",
       "  </clipPath>\n",
       "</defs>\n",
       "<path clip-path=\"url(#clip950)\" d=\"\n",
       "M0 1600 L2400 1600 L2400 0 L0 0  Z\n",
       "  \" fill=\"#ffffff\" fill-rule=\"evenodd\" fill-opacity=\"1\"/>\n",
       "<defs>\n",
       "  <clipPath id=\"clip951\">\n",
       "    <rect x=\"480\" y=\"0\" width=\"1681\" height=\"1600\"/>\n",
       "  </clipPath>\n",
       "</defs>\n",
       "<path clip-path=\"url(#clip950)\" d=\"\n",
       "M149.191 1486.45 L2352.76 1486.45 L2352.76 47.2441 L149.191 47.2441  Z\n",
       "  \" fill=\"#ffffff\" fill-rule=\"evenodd\" fill-opacity=\"1\"/>\n",
       "<defs>\n",
       "  <clipPath id=\"clip952\">\n",
       "    <rect x=\"149\" y=\"47\" width=\"2205\" height=\"1440\"/>\n",
       "  </clipPath>\n",
       "</defs>\n",
       "<polyline clip-path=\"url(#clip952)\" style=\"stroke:#000000; stroke-linecap:butt; stroke-linejoin:round; stroke-width:2; stroke-opacity:0.1; fill:none\" points=\"\n",
       "  630.048,1486.45 630.048,47.2441 \n",
       "  \"/>\n",
       "<polyline clip-path=\"url(#clip952)\" style=\"stroke:#000000; stroke-linecap:butt; stroke-linejoin:round; stroke-width:2; stroke-opacity:0.1; fill:none\" points=\"\n",
       "  1167.78,1486.45 1167.78,47.2441 \n",
       "  \"/>\n",
       "<polyline clip-path=\"url(#clip952)\" style=\"stroke:#000000; stroke-linecap:butt; stroke-linejoin:round; stroke-width:2; stroke-opacity:0.1; fill:none\" points=\"\n",
       "  1705.5,1486.45 1705.5,47.2441 \n",
       "  \"/>\n",
       "<polyline clip-path=\"url(#clip952)\" style=\"stroke:#000000; stroke-linecap:butt; stroke-linejoin:round; stroke-width:2; stroke-opacity:0.1; fill:none\" points=\"\n",
       "  2243.23,1486.45 2243.23,47.2441 \n",
       "  \"/>\n",
       "<polyline clip-path=\"url(#clip950)\" style=\"stroke:#000000; stroke-linecap:butt; stroke-linejoin:round; stroke-width:4; stroke-opacity:1; fill:none\" points=\"\n",
       "  149.191,1486.45 2352.76,1486.45 \n",
       "  \"/>\n",
       "<polyline clip-path=\"url(#clip950)\" style=\"stroke:#000000; stroke-linecap:butt; stroke-linejoin:round; stroke-width:4; stroke-opacity:1; fill:none\" points=\"\n",
       "  630.048,1486.45 630.048,1467.55 \n",
       "  \"/>\n",
       "<polyline clip-path=\"url(#clip950)\" style=\"stroke:#000000; stroke-linecap:butt; stroke-linejoin:round; stroke-width:4; stroke-opacity:1; fill:none\" points=\"\n",
       "  1167.78,1486.45 1167.78,1467.55 \n",
       "  \"/>\n",
       "<polyline clip-path=\"url(#clip950)\" style=\"stroke:#000000; stroke-linecap:butt; stroke-linejoin:round; stroke-width:4; stroke-opacity:1; fill:none\" points=\"\n",
       "  1705.5,1486.45 1705.5,1467.55 \n",
       "  \"/>\n",
       "<polyline clip-path=\"url(#clip950)\" style=\"stroke:#000000; stroke-linecap:butt; stroke-linejoin:round; stroke-width:4; stroke-opacity:1; fill:none\" points=\"\n",
       "  2243.23,1486.45 2243.23,1467.55 \n",
       "  \"/>\n",
       "<path clip-path=\"url(#clip950)\" d=\"M599.991 1530.29 L629.666 1530.29 L629.666 1534.23 L599.991 1534.23 L599.991 1530.29 Z\" fill=\"#000000\" fill-rule=\"evenodd\" fill-opacity=\"1\" /><path clip-path=\"url(#clip950)\" d=\"M643.787 1543.18 L660.106 1543.18 L660.106 1547.12 L638.162 1547.12 L638.162 1543.18 Q640.824 1540.43 645.407 1535.8 Q650.014 1531.15 651.194 1529.81 Q653.439 1527.28 654.319 1525.55 Q655.222 1523.79 655.222 1522.1 Q655.222 1519.34 653.277 1517.61 Q651.356 1515.87 648.254 1515.87 Q646.055 1515.87 643.602 1516.63 Q641.171 1517.4 638.393 1518.95 L638.393 1514.23 Q641.217 1513.09 643.671 1512.51 Q646.125 1511.93 648.162 1511.93 Q653.532 1511.93 656.727 1514.62 Q659.921 1517.31 659.921 1521.8 Q659.921 1523.93 659.111 1525.85 Q658.324 1527.74 656.217 1530.34 Q655.639 1531.01 652.537 1534.23 Q649.435 1537.42 643.787 1543.18 Z\" fill=\"#000000\" fill-rule=\"evenodd\" fill-opacity=\"1\" /><path clip-path=\"url(#clip950)\" d=\"M1137.53 1530.29 L1167.21 1530.29 L1167.21 1534.23 L1137.53 1534.23 L1137.53 1530.29 Z\" fill=\"#000000\" fill-rule=\"evenodd\" fill-opacity=\"1\" /><path clip-path=\"url(#clip950)\" d=\"M1178.11 1543.18 L1185.75 1543.18 L1185.75 1516.82 L1177.44 1518.49 L1177.44 1514.23 L1185.7 1512.56 L1190.38 1512.56 L1190.38 1543.18 L1198.02 1543.18 L1198.02 1547.12 L1178.11 1547.12 L1178.11 1543.18 Z\" fill=\"#000000\" fill-rule=\"evenodd\" fill-opacity=\"1\" /><path clip-path=\"url(#clip950)\" d=\"M1705.5 1515.64 Q1701.89 1515.64 1700.06 1519.2 Q1698.26 1522.75 1698.26 1529.87 Q1698.26 1536.98 1700.06 1540.55 Q1701.89 1544.09 1705.5 1544.09 Q1709.14 1544.09 1710.94 1540.55 Q1712.77 1536.98 1712.77 1529.87 Q1712.77 1522.75 1710.94 1519.2 Q1709.14 1515.64 1705.5 1515.64 M1705.5 1511.93 Q1711.31 1511.93 1714.37 1516.54 Q1717.45 1521.12 1717.45 1529.87 Q1717.45 1538.6 1714.37 1543.21 Q1711.31 1547.79 1705.5 1547.79 Q1699.69 1547.79 1696.61 1543.21 Q1693.56 1538.6 1693.56 1529.87 Q1693.56 1521.12 1696.61 1516.54 Q1699.69 1511.93 1705.5 1511.93 Z\" fill=\"#000000\" fill-rule=\"evenodd\" fill-opacity=\"1\" /><path clip-path=\"url(#clip950)\" d=\"M2233.61 1543.18 L2241.25 1543.18 L2241.25 1516.82 L2232.94 1518.49 L2232.94 1514.23 L2241.2 1512.56 L2245.88 1512.56 L2245.88 1543.18 L2253.52 1543.18 L2253.52 1547.12 L2233.61 1547.12 L2233.61 1543.18 Z\" fill=\"#000000\" fill-rule=\"evenodd\" fill-opacity=\"1\" /><polyline clip-path=\"url(#clip952)\" style=\"stroke:#000000; stroke-linecap:butt; stroke-linejoin:round; stroke-width:2; stroke-opacity:0.1; fill:none\" points=\"\n",
       "  149.191,1380.81 2352.76,1380.81 \n",
       "  \"/>\n",
       "<polyline clip-path=\"url(#clip952)\" style=\"stroke:#000000; stroke-linecap:butt; stroke-linejoin:round; stroke-width:2; stroke-opacity:0.1; fill:none\" points=\"\n",
       "  149.191,1106.65 2352.76,1106.65 \n",
       "  \"/>\n",
       "<polyline clip-path=\"url(#clip952)\" style=\"stroke:#000000; stroke-linecap:butt; stroke-linejoin:round; stroke-width:2; stroke-opacity:0.1; fill:none\" points=\"\n",
       "  149.191,832.5 2352.76,832.5 \n",
       "  \"/>\n",
       "<polyline clip-path=\"url(#clip952)\" style=\"stroke:#000000; stroke-linecap:butt; stroke-linejoin:round; stroke-width:2; stroke-opacity:0.1; fill:none\" points=\"\n",
       "  149.191,558.346 2352.76,558.346 \n",
       "  \"/>\n",
       "<polyline clip-path=\"url(#clip952)\" style=\"stroke:#000000; stroke-linecap:butt; stroke-linejoin:round; stroke-width:2; stroke-opacity:0.1; fill:none\" points=\"\n",
       "  149.191,284.191 2352.76,284.191 \n",
       "  \"/>\n",
       "<polyline clip-path=\"url(#clip950)\" style=\"stroke:#000000; stroke-linecap:butt; stroke-linejoin:round; stroke-width:4; stroke-opacity:1; fill:none\" points=\"\n",
       "  149.191,1486.45 149.191,47.2441 \n",
       "  \"/>\n",
       "<polyline clip-path=\"url(#clip950)\" style=\"stroke:#000000; stroke-linecap:butt; stroke-linejoin:round; stroke-width:4; stroke-opacity:1; fill:none\" points=\"\n",
       "  149.191,1380.81 168.089,1380.81 \n",
       "  \"/>\n",
       "<polyline clip-path=\"url(#clip950)\" style=\"stroke:#000000; stroke-linecap:butt; stroke-linejoin:round; stroke-width:4; stroke-opacity:1; fill:none\" points=\"\n",
       "  149.191,1106.65 168.089,1106.65 \n",
       "  \"/>\n",
       "<polyline clip-path=\"url(#clip950)\" style=\"stroke:#000000; stroke-linecap:butt; stroke-linejoin:round; stroke-width:4; stroke-opacity:1; fill:none\" points=\"\n",
       "  149.191,832.5 168.089,832.5 \n",
       "  \"/>\n",
       "<polyline clip-path=\"url(#clip950)\" style=\"stroke:#000000; stroke-linecap:butt; stroke-linejoin:round; stroke-width:4; stroke-opacity:1; fill:none\" points=\"\n",
       "  149.191,558.346 168.089,558.346 \n",
       "  \"/>\n",
       "<polyline clip-path=\"url(#clip950)\" style=\"stroke:#000000; stroke-linecap:butt; stroke-linejoin:round; stroke-width:4; stroke-opacity:1; fill:none\" points=\"\n",
       "  149.191,284.191 168.089,284.191 \n",
       "  \"/>\n",
       "<path clip-path=\"url(#clip950)\" d=\"M51.5708 1381.26 L81.2466 1381.26 L81.2466 1385.2 L51.5708 1385.2 L51.5708 1381.26 Z\" fill=\"#000000\" fill-rule=\"evenodd\" fill-opacity=\"1\" /><path clip-path=\"url(#clip950)\" d=\"M101.339 1381.68 Q98.0058 1381.68 96.0845 1383.46 Q94.1863 1385.24 94.1863 1388.37 Q94.1863 1391.49 96.0845 1393.27 Q98.0058 1395.06 101.339 1395.06 Q104.672 1395.06 106.594 1393.27 Q108.515 1391.47 108.515 1388.37 Q108.515 1385.24 106.594 1383.46 Q104.696 1381.68 101.339 1381.68 M96.6632 1379.69 Q93.6539 1378.95 91.9641 1376.89 Q90.2975 1374.83 90.2975 1371.86 Q90.2975 1367.72 93.2373 1365.31 Q96.2002 1362.9 101.339 1362.9 Q106.501 1362.9 109.441 1365.31 Q112.381 1367.72 112.381 1371.86 Q112.381 1374.83 110.691 1376.89 Q109.024 1378.95 106.038 1379.69 Q109.418 1380.47 111.293 1382.77 Q113.191 1385.06 113.191 1388.37 Q113.191 1393.39 110.112 1396.08 Q107.057 1398.76 101.339 1398.76 Q95.6215 1398.76 92.5428 1396.08 Q89.4873 1393.39 89.4873 1388.37 Q89.4873 1385.06 91.3854 1382.77 Q93.2836 1380.47 96.6632 1379.69 M94.9502 1372.3 Q94.9502 1374.99 96.6169 1376.49 Q98.3067 1378 101.339 1378 Q104.348 1378 106.038 1376.49 Q107.751 1374.99 107.751 1372.3 Q107.751 1369.62 106.038 1368.11 Q104.348 1366.61 101.339 1366.61 Q98.3067 1366.61 96.6169 1368.11 Q94.9502 1369.62 94.9502 1372.3 Z\" fill=\"#000000\" fill-rule=\"evenodd\" fill-opacity=\"1\" /><path clip-path=\"url(#clip950)\" d=\"M51.3162 1107.11 L80.992 1107.11 L80.992 1111.04 L51.3162 1111.04 L51.3162 1107.11 Z\" fill=\"#000000\" fill-rule=\"evenodd\" fill-opacity=\"1\" /><path clip-path=\"url(#clip950)\" d=\"M101.663 1104.79 Q98.515 1104.79 96.6632 1106.94 Q94.8345 1109.1 94.8345 1112.85 Q94.8345 1116.57 96.6632 1118.75 Q98.515 1120.9 101.663 1120.9 Q104.811 1120.9 106.64 1118.75 Q108.492 1116.57 108.492 1112.85 Q108.492 1109.1 106.64 1106.94 Q104.811 1104.79 101.663 1104.79 M110.946 1090.14 L110.946 1094.4 Q109.186 1093.56 107.381 1093.12 Q105.598 1092.68 103.839 1092.68 Q99.2095 1092.68 96.7558 1095.81 Q94.3252 1098.93 93.978 1105.25 Q95.3437 1103.24 97.4039 1102.18 Q99.4641 1101.09 101.941 1101.09 Q107.149 1101.09 110.158 1104.26 Q113.191 1107.41 113.191 1112.85 Q113.191 1118.17 110.043 1121.39 Q106.895 1124.61 101.663 1124.61 Q95.6678 1124.61 92.4965 1120.02 Q89.3253 1115.42 89.3253 1106.69 Q89.3253 1098.5 93.2141 1093.63 Q97.103 1088.75 103.654 1088.75 Q105.413 1088.75 107.196 1089.1 Q109.001 1089.44 110.946 1090.14 Z\" fill=\"#000000\" fill-rule=\"evenodd\" fill-opacity=\"1\" /><path clip-path=\"url(#clip950)\" d=\"M50.9921 832.952 L80.6679 832.952 L80.6679 836.887 L50.9921 836.887 L50.9921 832.952 Z\" fill=\"#000000\" fill-rule=\"evenodd\" fill-opacity=\"1\" /><path clip-path=\"url(#clip950)\" d=\"M103.608 819.294 L91.8021 837.743 L103.608 837.743 L103.608 819.294 M102.381 815.22 L108.26 815.22 L108.26 837.743 L113.191 837.743 L113.191 841.632 L108.26 841.632 L108.26 849.78 L103.608 849.78 L103.608 841.632 L88.0058 841.632 L88.0058 837.118 L102.381 815.22 Z\" fill=\"#000000\" fill-rule=\"evenodd\" fill-opacity=\"1\" /><path clip-path=\"url(#clip950)\" d=\"M53.0754 558.797 L82.7512 558.797 L82.7512 562.732 L53.0754 562.732 L53.0754 558.797 Z\" fill=\"#000000\" fill-rule=\"evenodd\" fill-opacity=\"1\" /><path clip-path=\"url(#clip950)\" d=\"M96.8715 571.691 L113.191 571.691 L113.191 575.626 L91.2465 575.626 L91.2465 571.691 Q93.9086 568.936 98.4919 564.306 Q103.098 559.654 104.279 558.311 Q106.524 555.788 107.404 554.052 Q108.307 552.292 108.307 550.603 Q108.307 547.848 106.362 546.112 Q104.441 544.376 101.339 544.376 Q99.14 544.376 96.6863 545.14 Q94.2558 545.904 91.478 547.455 L91.478 542.732 Q94.3021 541.598 96.7558 541.019 Q99.2095 540.441 101.246 540.441 Q106.617 540.441 109.811 543.126 Q113.006 545.811 113.006 550.302 Q113.006 552.431 112.196 554.353 Q111.408 556.251 109.302 558.843 Q108.723 559.515 105.621 562.732 Q102.52 565.927 96.8715 571.691 Z\" fill=\"#000000\" fill-rule=\"evenodd\" fill-opacity=\"1\" /><path clip-path=\"url(#clip950)\" d=\"M101.246 269.99 Q97.6354 269.99 95.8067 273.555 Q94.0012 277.096 94.0012 284.226 Q94.0012 291.332 95.8067 294.897 Q97.6354 298.439 101.246 298.439 Q104.881 298.439 106.686 294.897 Q108.515 291.332 108.515 284.226 Q108.515 277.096 106.686 273.555 Q104.881 269.99 101.246 269.99 M101.246 266.286 Q107.057 266.286 110.112 270.893 Q113.191 275.476 113.191 284.226 Q113.191 292.953 110.112 297.559 Q107.057 302.142 101.246 302.142 Q95.4363 302.142 92.3576 297.559 Q89.3021 292.953 89.3021 284.226 Q89.3021 275.476 92.3576 270.893 Q95.4363 266.286 101.246 266.286 Z\" fill=\"#000000\" fill-rule=\"evenodd\" fill-opacity=\"1\" /><circle clip-path=\"url(#clip952)\" cx=\"2290.39\" cy=\"371.892\" r=\"14\" fill=\"#009af9\" fill-rule=\"evenodd\" fill-opacity=\"1\" stroke=\"#000000\" stroke-opacity=\"1\" stroke-width=\"3.2\"/>\n",
       "<circle clip-path=\"url(#clip952)\" cx=\"214.287\" cy=\"565.699\" r=\"14\" fill=\"#009af9\" fill-rule=\"evenodd\" fill-opacity=\"1\" stroke=\"#000000\" stroke-opacity=\"1\" stroke-width=\"3.2\"/>\n",
       "<circle clip-path=\"url(#clip952)\" cx=\"1627.29\" cy=\"367.412\" r=\"14\" fill=\"#009af9\" fill-rule=\"evenodd\" fill-opacity=\"1\" stroke=\"#000000\" stroke-opacity=\"1\" stroke-width=\"3.2\"/>\n",
       "<circle clip-path=\"url(#clip952)\" cx=\"2265.91\" cy=\"367.32\" r=\"14\" fill=\"#009af9\" fill-rule=\"evenodd\" fill-opacity=\"1\" stroke=\"#000000\" stroke-opacity=\"1\" stroke-width=\"3.2\"/>\n",
       "<circle clip-path=\"url(#clip952)\" cx=\"2274.79\" cy=\"309.864\" r=\"14\" fill=\"#009af9\" fill-rule=\"evenodd\" fill-opacity=\"1\" stroke=\"#000000\" stroke-opacity=\"1\" stroke-width=\"3.2\"/>\n",
       "<circle clip-path=\"url(#clip952)\" cx=\"2103.21\" cy=\"306.102\" r=\"14\" fill=\"#009af9\" fill-rule=\"evenodd\" fill-opacity=\"1\" stroke=\"#000000\" stroke-opacity=\"1\" stroke-width=\"3.2\"/>\n",
       "<circle clip-path=\"url(#clip952)\" cx=\"2284.66\" cy=\"385.133\" r=\"14\" fill=\"#009af9\" fill-rule=\"evenodd\" fill-opacity=\"1\" stroke=\"#000000\" stroke-opacity=\"1\" stroke-width=\"3.2\"/>\n",
       "<circle clip-path=\"url(#clip952)\" cx=\"1052.72\" cy=\"190.089\" r=\"14\" fill=\"#009af9\" fill-rule=\"evenodd\" fill-opacity=\"1\" stroke=\"#000000\" stroke-opacity=\"1\" stroke-width=\"3.2\"/>\n",
       "<circle clip-path=\"url(#clip952)\" cx=\"2088.19\" cy=\"1311.07\" r=\"14\" fill=\"#009af9\" fill-rule=\"evenodd\" fill-opacity=\"1\" stroke=\"#000000\" stroke-opacity=\"1\" stroke-width=\"3.2\"/>\n",
       "<circle clip-path=\"url(#clip952)\" cx=\"457.452\" cy=\"540.482\" r=\"14\" fill=\"#009af9\" fill-rule=\"evenodd\" fill-opacity=\"1\" stroke=\"#000000\" stroke-opacity=\"1\" stroke-width=\"3.2\"/>\n",
       "<circle clip-path=\"url(#clip952)\" cx=\"1992.83\" cy=\"375.92\" r=\"14\" fill=\"#009af9\" fill-rule=\"evenodd\" fill-opacity=\"1\" stroke=\"#000000\" stroke-opacity=\"1\" stroke-width=\"3.2\"/>\n",
       "<circle clip-path=\"url(#clip952)\" cx=\"2088.34\" cy=\"1262.45\" r=\"14\" fill=\"#009af9\" fill-rule=\"evenodd\" fill-opacity=\"1\" stroke=\"#000000\" stroke-opacity=\"1\" stroke-width=\"3.2\"/>\n",
       "<circle clip-path=\"url(#clip952)\" cx=\"2100.99\" cy=\"358.604\" r=\"14\" fill=\"#009af9\" fill-rule=\"evenodd\" fill-opacity=\"1\" stroke=\"#000000\" stroke-opacity=\"1\" stroke-width=\"3.2\"/>\n",
       "<circle clip-path=\"url(#clip952)\" cx=\"1912.67\" cy=\"137.624\" r=\"14\" fill=\"#009af9\" fill-rule=\"evenodd\" fill-opacity=\"1\" stroke=\"#000000\" stroke-opacity=\"1\" stroke-width=\"3.2\"/>\n",
       "<circle clip-path=\"url(#clip952)\" cx=\"2197.82\" cy=\"292.171\" r=\"14\" fill=\"#009af9\" fill-rule=\"evenodd\" fill-opacity=\"1\" stroke=\"#000000\" stroke-opacity=\"1\" stroke-width=\"3.2\"/>\n",
       "<circle clip-path=\"url(#clip952)\" cx=\"2099.71\" cy=\"374.236\" r=\"14\" fill=\"#009af9\" fill-rule=\"evenodd\" fill-opacity=\"1\" stroke=\"#000000\" stroke-opacity=\"1\" stroke-width=\"3.2\"/>\n",
       "<circle clip-path=\"url(#clip952)\" cx=\"2087.84\" cy=\"1445.72\" r=\"14\" fill=\"#009af9\" fill-rule=\"evenodd\" fill-opacity=\"1\" stroke=\"#000000\" stroke-opacity=\"1\" stroke-width=\"3.2\"/>\n",
       "<circle clip-path=\"url(#clip952)\" cx=\"1502.93\" cy=\"341.978\" r=\"14\" fill=\"#009af9\" fill-rule=\"evenodd\" fill-opacity=\"1\" stroke=\"#000000\" stroke-opacity=\"1\" stroke-width=\"3.2\"/>\n",
       "<circle clip-path=\"url(#clip952)\" cx=\"2088.28\" cy=\"1279.34\" r=\"14\" fill=\"#009af9\" fill-rule=\"evenodd\" fill-opacity=\"1\" stroke=\"#000000\" stroke-opacity=\"1\" stroke-width=\"3.2\"/>\n",
       "<circle clip-path=\"url(#clip952)\" cx=\"1834.79\" cy=\"226.951\" r=\"14\" fill=\"#009af9\" fill-rule=\"evenodd\" fill-opacity=\"1\" stroke=\"#000000\" stroke-opacity=\"1\" stroke-width=\"3.2\"/>\n",
       "<circle clip-path=\"url(#clip952)\" cx=\"1496.18\" cy=\"367.23\" r=\"14\" fill=\"#009af9\" fill-rule=\"evenodd\" fill-opacity=\"1\" stroke=\"#000000\" stroke-opacity=\"1\" stroke-width=\"3.2\"/>\n",
       "<circle clip-path=\"url(#clip952)\" cx=\"2099.37\" cy=\"366.525\" r=\"14\" fill=\"#009af9\" fill-rule=\"evenodd\" fill-opacity=\"1\" stroke=\"#000000\" stroke-opacity=\"1\" stroke-width=\"3.2\"/>\n",
       "<circle clip-path=\"url(#clip952)\" cx=\"2088.57\" cy=\"1194.29\" r=\"14\" fill=\"#009af9\" fill-rule=\"evenodd\" fill-opacity=\"1\" stroke=\"#000000\" stroke-opacity=\"1\" stroke-width=\"3.2\"/>\n",
       "<circle clip-path=\"url(#clip952)\" cx=\"1685.98\" cy=\"314.489\" r=\"14\" fill=\"#009af9\" fill-rule=\"evenodd\" fill-opacity=\"1\" stroke=\"#000000\" stroke-opacity=\"1\" stroke-width=\"3.2\"/>\n",
       "<circle clip-path=\"url(#clip952)\" cx=\"211.556\" cy=\"610.839\" r=\"14\" fill=\"#009af9\" fill-rule=\"evenodd\" fill-opacity=\"1\" stroke=\"#000000\" stroke-opacity=\"1\" stroke-width=\"3.2\"/>\n",
       "<circle clip-path=\"url(#clip952)\" cx=\"1970.27\" cy=\"87.9763\" r=\"14\" fill=\"#009af9\" fill-rule=\"evenodd\" fill-opacity=\"1\" stroke=\"#000000\" stroke-opacity=\"1\" stroke-width=\"3.2\"/>\n",
       "<circle clip-path=\"url(#clip952)\" cx=\"2259.63\" cy=\"178.784\" r=\"14\" fill=\"#009af9\" fill-rule=\"evenodd\" fill-opacity=\"1\" stroke=\"#000000\" stroke-opacity=\"1\" stroke-width=\"3.2\"/>\n",
       "<circle clip-path=\"url(#clip952)\" cx=\"1919.89\" cy=\"132.6\" r=\"14\" fill=\"#009af9\" fill-rule=\"evenodd\" fill-opacity=\"1\" stroke=\"#000000\" stroke-opacity=\"1\" stroke-width=\"3.2\"/>\n",
       "<circle clip-path=\"url(#clip952)\" cx=\"999.798\" cy=\"380.535\" r=\"14\" fill=\"#009af9\" fill-rule=\"evenodd\" fill-opacity=\"1\" stroke=\"#000000\" stroke-opacity=\"1\" stroke-width=\"3.2\"/>\n",
       "<circle clip-path=\"url(#clip952)\" cx=\"1795.98\" cy=\"380.068\" r=\"14\" fill=\"#009af9\" fill-rule=\"evenodd\" fill-opacity=\"1\" stroke=\"#000000\" stroke-opacity=\"1\" stroke-width=\"3.2\"/>\n",
       "<circle clip-path=\"url(#clip952)\" cx=\"2098.71\" cy=\"379.24\" r=\"14\" fill=\"#009af9\" fill-rule=\"evenodd\" fill-opacity=\"1\" stroke=\"#000000\" stroke-opacity=\"1\" stroke-width=\"3.2\"/>\n",
       "<circle clip-path=\"url(#clip952)\" cx=\"322.306\" cy=\"497.915\" r=\"14\" fill=\"#009af9\" fill-rule=\"evenodd\" fill-opacity=\"1\" stroke=\"#000000\" stroke-opacity=\"1\" stroke-width=\"3.2\"/>\n",
       "<circle clip-path=\"url(#clip952)\" cx=\"2089.28\" cy=\"1035.48\" r=\"14\" fill=\"#009af9\" fill-rule=\"evenodd\" fill-opacity=\"1\" stroke=\"#000000\" stroke-opacity=\"1\" stroke-width=\"3.2\"/>\n",
       "<circle clip-path=\"url(#clip952)\" cx=\"388.395\" cy=\"642.303\" r=\"14\" fill=\"#009af9\" fill-rule=\"evenodd\" fill-opacity=\"1\" stroke=\"#000000\" stroke-opacity=\"1\" stroke-width=\"3.2\"/>\n",
       "<circle clip-path=\"url(#clip952)\" cx=\"1933.22\" cy=\"95.587\" r=\"14\" fill=\"#009af9\" fill-rule=\"evenodd\" fill-opacity=\"1\" stroke=\"#000000\" stroke-opacity=\"1\" stroke-width=\"3.2\"/>\n",
       "<circle clip-path=\"url(#clip952)\" cx=\"2099.12\" cy=\"375.472\" r=\"14\" fill=\"#009af9\" fill-rule=\"evenodd\" fill-opacity=\"1\" stroke=\"#000000\" stroke-opacity=\"1\" stroke-width=\"3.2\"/>\n",
       "<circle clip-path=\"url(#clip952)\" cx=\"1925.08\" cy=\"114.769\" r=\"14\" fill=\"#009af9\" fill-rule=\"evenodd\" fill-opacity=\"1\" stroke=\"#000000\" stroke-opacity=\"1\" stroke-width=\"3.2\"/>\n",
       "<circle clip-path=\"url(#clip952)\" cx=\"1302.95\" cy=\"345.424\" r=\"14\" fill=\"#009af9\" fill-rule=\"evenodd\" fill-opacity=\"1\" stroke=\"#000000\" stroke-opacity=\"1\" stroke-width=\"3.2\"/>\n",
       "<circle clip-path=\"url(#clip952)\" cx=\"1965.15\" cy=\"99.3403\" r=\"14\" fill=\"#009af9\" fill-rule=\"evenodd\" fill-opacity=\"1\" stroke=\"#000000\" stroke-opacity=\"1\" stroke-width=\"3.2\"/>\n",
       "<circle clip-path=\"url(#clip952)\" cx=\"402.155\" cy=\"582.081\" r=\"14\" fill=\"#009af9\" fill-rule=\"evenodd\" fill-opacity=\"1\" stroke=\"#000000\" stroke-opacity=\"1\" stroke-width=\"3.2\"/>\n",
       "<circle clip-path=\"url(#clip952)\" cx=\"1413.46\" cy=\"379.52\" r=\"14\" fill=\"#009af9\" fill-rule=\"evenodd\" fill-opacity=\"1\" stroke=\"#000000\" stroke-opacity=\"1\" stroke-width=\"3.2\"/>\n",
       "<path clip-path=\"url(#clip950)\" d=\"\n",
       "M1982.03 198.898 L2279.3 198.898 L2279.3 95.2176 L1982.03 95.2176  Z\n",
       "  \" fill=\"#ffffff\" fill-rule=\"evenodd\" fill-opacity=\"1\"/>\n",
       "<polyline clip-path=\"url(#clip950)\" style=\"stroke:#000000; stroke-linecap:butt; stroke-linejoin:round; stroke-width:4; stroke-opacity:1; fill:none\" points=\"\n",
       "  1982.03,198.898 2279.3,198.898 2279.3,95.2176 1982.03,95.2176 1982.03,198.898 \n",
       "  \"/>\n",
       "<circle clip-path=\"url(#clip950)\" cx=\"2079.97\" cy=\"147.058\" r=\"23\" fill=\"#009af9\" fill-rule=\"evenodd\" fill-opacity=\"1\" stroke=\"#000000\" stroke-opacity=\"1\" stroke-width=\"5.12\"/>\n",
       "<path clip-path=\"url(#clip950)\" d=\"M2191.75 166.745 Q2189.94 171.375 2188.23 172.787 Q2186.52 174.199 2183.65 174.199 L2180.24 174.199 L2180.24 170.634 L2182.74 170.634 Q2184.5 170.634 2185.47 169.8 Q2186.45 168.967 2187.63 165.865 L2188.39 163.921 L2177.91 138.412 L2182.42 138.412 L2190.52 158.689 L2198.62 138.412 L2203.14 138.412 L2191.75 166.745 Z\" fill=\"#000000\" fill-rule=\"evenodd\" fill-opacity=\"1\" /><path clip-path=\"url(#clip950)\" d=\"M2210.43 160.402 L2218.07 160.402 L2218.07 134.037 L2209.76 135.703 L2209.76 131.444 L2218.02 129.778 L2222.7 129.778 L2222.7 160.402 L2230.34 160.402 L2230.34 164.338 L2210.43 164.338 L2210.43 160.402 Z\" fill=\"#000000\" fill-rule=\"evenodd\" fill-opacity=\"1\" /></svg>\n"
      ]
     },
     "execution_count": 86,
     "metadata": {},
     "output_type": "execute_result"
    }
   ],
   "source": [
    "scatter(res[1,:], res[2,:])"
   ]
  },
  {
   "cell_type": "code",
   "execution_count": 43,
   "id": "14bad003",
   "metadata": {
    "execution": {
     "iopub.execute_input": "2021-11-24T17:53:51.058000+01:00",
     "iopub.status.busy": "2021-11-24T17:53:51.058000+01:00",
     "iopub.status.idle": "2021-11-24T17:53:51.125000+01:00",
     "shell.execute_reply": "2021-11-24T17:53:51.124000+01:00"
    }
   },
   "outputs": [
    {
     "data": {
      "image/svg+xml": [
       "<?xml version=\"1.0\" encoding=\"utf-8\"?>\n",
       "<svg xmlns=\"http://www.w3.org/2000/svg\" xmlns:xlink=\"http://www.w3.org/1999/xlink\" width=\"600\" height=\"400\" viewBox=\"0 0 2400 1600\">\n",
       "<defs>\n",
       "  <clipPath id=\"clip830\">\n",
       "    <rect x=\"0\" y=\"0\" width=\"2400\" height=\"1600\"/>\n",
       "  </clipPath>\n",
       "</defs>\n",
       "<path clip-path=\"url(#clip830)\" d=\"\n",
       "M0 1600 L2400 1600 L2400 0 L0 0  Z\n",
       "  \" fill=\"#ffffff\" fill-rule=\"evenodd\" fill-opacity=\"1\"/>\n",
       "<defs>\n",
       "  <clipPath id=\"clip831\">\n",
       "    <rect x=\"480\" y=\"0\" width=\"1681\" height=\"1600\"/>\n",
       "  </clipPath>\n",
       "</defs>\n",
       "<path clip-path=\"url(#clip830)\" d=\"\n",
       "M112.177 1486.45 L2352.76 1486.45 L2352.76 47.2441 L112.177 47.2441  Z\n",
       "  \" fill=\"#ffffff\" fill-rule=\"evenodd\" fill-opacity=\"1\"/>\n",
       "<defs>\n",
       "  <clipPath id=\"clip832\">\n",
       "    <rect x=\"112\" y=\"47\" width=\"2242\" height=\"1440\"/>\n",
       "  </clipPath>\n",
       "</defs>\n",
       "<polyline clip-path=\"url(#clip832)\" style=\"stroke:#000000; stroke-linecap:butt; stroke-linejoin:round; stroke-width:2; stroke-opacity:0.1; fill:none\" points=\"\n",
       "  235.413,1486.45 235.413,47.2441 \n",
       "  \"/>\n",
       "<polyline clip-path=\"url(#clip832)\" style=\"stroke:#000000; stroke-linecap:butt; stroke-linejoin:round; stroke-width:2; stroke-opacity:0.1; fill:none\" points=\"\n",
       "  733.94,1486.45 733.94,47.2441 \n",
       "  \"/>\n",
       "<polyline clip-path=\"url(#clip832)\" style=\"stroke:#000000; stroke-linecap:butt; stroke-linejoin:round; stroke-width:2; stroke-opacity:0.1; fill:none\" points=\"\n",
       "  1232.47,1486.45 1232.47,47.2441 \n",
       "  \"/>\n",
       "<polyline clip-path=\"url(#clip832)\" style=\"stroke:#000000; stroke-linecap:butt; stroke-linejoin:round; stroke-width:2; stroke-opacity:0.1; fill:none\" points=\"\n",
       "  1730.99,1486.45 1730.99,47.2441 \n",
       "  \"/>\n",
       "<polyline clip-path=\"url(#clip832)\" style=\"stroke:#000000; stroke-linecap:butt; stroke-linejoin:round; stroke-width:2; stroke-opacity:0.1; fill:none\" points=\"\n",
       "  2229.52,1486.45 2229.52,47.2441 \n",
       "  \"/>\n",
       "<polyline clip-path=\"url(#clip830)\" style=\"stroke:#000000; stroke-linecap:butt; stroke-linejoin:round; stroke-width:4; stroke-opacity:1; fill:none\" points=\"\n",
       "  112.177,1486.45 2352.76,1486.45 \n",
       "  \"/>\n",
       "<polyline clip-path=\"url(#clip830)\" style=\"stroke:#000000; stroke-linecap:butt; stroke-linejoin:round; stroke-width:4; stroke-opacity:1; fill:none\" points=\"\n",
       "  235.413,1486.45 235.413,1467.55 \n",
       "  \"/>\n",
       "<polyline clip-path=\"url(#clip830)\" style=\"stroke:#000000; stroke-linecap:butt; stroke-linejoin:round; stroke-width:4; stroke-opacity:1; fill:none\" points=\"\n",
       "  733.94,1486.45 733.94,1467.55 \n",
       "  \"/>\n",
       "<polyline clip-path=\"url(#clip830)\" style=\"stroke:#000000; stroke-linecap:butt; stroke-linejoin:round; stroke-width:4; stroke-opacity:1; fill:none\" points=\"\n",
       "  1232.47,1486.45 1232.47,1467.55 \n",
       "  \"/>\n",
       "<polyline clip-path=\"url(#clip830)\" style=\"stroke:#000000; stroke-linecap:butt; stroke-linejoin:round; stroke-width:4; stroke-opacity:1; fill:none\" points=\"\n",
       "  1730.99,1486.45 1730.99,1467.55 \n",
       "  \"/>\n",
       "<polyline clip-path=\"url(#clip830)\" style=\"stroke:#000000; stroke-linecap:butt; stroke-linejoin:round; stroke-width:4; stroke-opacity:1; fill:none\" points=\"\n",
       "  2229.52,1486.45 2229.52,1467.55 \n",
       "  \"/>\n",
       "<path clip-path=\"url(#clip830)\" d=\"M197.716 1515.64 Q194.105 1515.64 192.277 1519.2 Q190.471 1522.75 190.471 1529.87 Q190.471 1536.98 192.277 1540.55 Q194.105 1544.09 197.716 1544.09 Q201.351 1544.09 203.156 1540.55 Q204.985 1536.98 204.985 1529.87 Q204.985 1522.75 203.156 1519.2 Q201.351 1515.64 197.716 1515.64 M197.716 1511.93 Q203.527 1511.93 206.582 1516.54 Q209.661 1521.12 209.661 1529.87 Q209.661 1538.6 206.582 1543.21 Q203.527 1547.79 197.716 1547.79 Q191.906 1547.79 188.828 1543.21 Q185.772 1538.6 185.772 1529.87 Q185.772 1521.12 188.828 1516.54 Q191.906 1511.93 197.716 1511.93 Z\" fill=\"#000000\" fill-rule=\"evenodd\" fill-opacity=\"1\" /><path clip-path=\"url(#clip830)\" d=\"M217.878 1541.24 L222.763 1541.24 L222.763 1547.12 L217.878 1547.12 L217.878 1541.24 Z\" fill=\"#000000\" fill-rule=\"evenodd\" fill-opacity=\"1\" /><path clip-path=\"url(#clip830)\" d=\"M242.948 1515.64 Q239.337 1515.64 237.508 1519.2 Q235.702 1522.75 235.702 1529.87 Q235.702 1536.98 237.508 1540.55 Q239.337 1544.09 242.948 1544.09 Q246.582 1544.09 248.387 1540.55 Q250.216 1536.98 250.216 1529.87 Q250.216 1522.75 248.387 1519.2 Q246.582 1515.64 242.948 1515.64 M242.948 1511.93 Q248.758 1511.93 251.813 1516.54 Q254.892 1521.12 254.892 1529.87 Q254.892 1538.6 251.813 1543.21 Q248.758 1547.79 242.948 1547.79 Q237.138 1547.79 234.059 1543.21 Q231.003 1538.6 231.003 1529.87 Q231.003 1521.12 234.059 1516.54 Q237.138 1511.93 242.948 1511.93 Z\" fill=\"#000000\" fill-rule=\"evenodd\" fill-opacity=\"1\" /><path clip-path=\"url(#clip830)\" d=\"M273.11 1515.64 Q269.498 1515.64 267.67 1519.2 Q265.864 1522.75 265.864 1529.87 Q265.864 1536.98 267.67 1540.55 Q269.498 1544.09 273.11 1544.09 Q276.744 1544.09 278.549 1540.55 Q280.378 1536.98 280.378 1529.87 Q280.378 1522.75 278.549 1519.2 Q276.744 1515.64 273.11 1515.64 M273.11 1511.93 Q278.92 1511.93 281.975 1516.54 Q285.054 1521.12 285.054 1529.87 Q285.054 1538.6 281.975 1543.21 Q278.92 1547.79 273.11 1547.79 Q267.299 1547.79 264.221 1543.21 Q261.165 1538.6 261.165 1529.87 Q261.165 1521.12 264.221 1516.54 Q267.299 1511.93 273.11 1511.93 Z\" fill=\"#000000\" fill-rule=\"evenodd\" fill-opacity=\"1\" /><path clip-path=\"url(#clip830)\" d=\"M696.741 1515.64 Q693.13 1515.64 691.301 1519.2 Q689.496 1522.75 689.496 1529.87 Q689.496 1536.98 691.301 1540.55 Q693.13 1544.09 696.741 1544.09 Q700.375 1544.09 702.181 1540.55 Q704.009 1536.98 704.009 1529.87 Q704.009 1522.75 702.181 1519.2 Q700.375 1515.64 696.741 1515.64 M696.741 1511.93 Q702.551 1511.93 705.607 1516.54 Q708.685 1521.12 708.685 1529.87 Q708.685 1538.6 705.607 1543.21 Q702.551 1547.79 696.741 1547.79 Q690.931 1547.79 687.852 1543.21 Q684.797 1538.6 684.797 1529.87 Q684.797 1521.12 687.852 1516.54 Q690.931 1511.93 696.741 1511.93 Z\" fill=\"#000000\" fill-rule=\"evenodd\" fill-opacity=\"1\" /><path clip-path=\"url(#clip830)\" d=\"M716.903 1541.24 L721.787 1541.24 L721.787 1547.12 L716.903 1547.12 L716.903 1541.24 Z\" fill=\"#000000\" fill-rule=\"evenodd\" fill-opacity=\"1\" /><path clip-path=\"url(#clip830)\" d=\"M736 1543.18 L752.319 1543.18 L752.319 1547.12 L730.375 1547.12 L730.375 1543.18 Q733.037 1540.43 737.62 1535.8 Q742.227 1531.15 743.407 1529.81 Q745.653 1527.28 746.532 1525.55 Q747.435 1523.79 747.435 1522.1 Q747.435 1519.34 745.491 1517.61 Q743.569 1515.87 740.468 1515.87 Q738.268 1515.87 735.815 1516.63 Q733.384 1517.4 730.606 1518.95 L730.606 1514.23 Q733.431 1513.09 735.884 1512.51 Q738.338 1511.93 740.375 1511.93 Q745.745 1511.93 748.94 1514.62 Q752.134 1517.31 752.134 1521.8 Q752.134 1523.93 751.324 1525.85 Q750.537 1527.74 748.43 1530.34 Q747.852 1531.01 744.75 1534.23 Q741.648 1537.42 736 1543.18 Z\" fill=\"#000000\" fill-rule=\"evenodd\" fill-opacity=\"1\" /><path clip-path=\"url(#clip830)\" d=\"M762.18 1512.56 L780.537 1512.56 L780.537 1516.5 L766.463 1516.5 L766.463 1524.97 Q767.481 1524.62 768.5 1524.46 Q769.518 1524.27 770.537 1524.27 Q776.324 1524.27 779.703 1527.44 Q783.083 1530.62 783.083 1536.03 Q783.083 1541.61 779.611 1544.71 Q776.139 1547.79 769.819 1547.79 Q767.643 1547.79 765.375 1547.42 Q763.129 1547.05 760.722 1546.31 L760.722 1541.61 Q762.805 1542.74 765.028 1543.3 Q767.25 1543.86 769.727 1543.86 Q773.731 1543.86 776.069 1541.75 Q778.407 1539.64 778.407 1536.03 Q778.407 1532.42 776.069 1530.31 Q773.731 1528.21 769.727 1528.21 Q767.852 1528.21 765.977 1528.62 Q764.125 1529.04 762.18 1529.92 L762.18 1512.56 Z\" fill=\"#000000\" fill-rule=\"evenodd\" fill-opacity=\"1\" /><path clip-path=\"url(#clip830)\" d=\"M1194.77 1515.64 Q1191.16 1515.64 1189.33 1519.2 Q1187.52 1522.75 1187.52 1529.87 Q1187.52 1536.98 1189.33 1540.55 Q1191.16 1544.09 1194.77 1544.09 Q1198.4 1544.09 1200.21 1540.55 Q1202.04 1536.98 1202.04 1529.87 Q1202.04 1522.75 1200.21 1519.2 Q1198.4 1515.64 1194.77 1515.64 M1194.77 1511.93 Q1200.58 1511.93 1203.64 1516.54 Q1206.71 1521.12 1206.71 1529.87 Q1206.71 1538.6 1203.64 1543.21 Q1200.58 1547.79 1194.77 1547.79 Q1188.96 1547.79 1185.88 1543.21 Q1182.83 1538.6 1182.83 1529.87 Q1182.83 1521.12 1185.88 1516.54 Q1188.96 1511.93 1194.77 1511.93 Z\" fill=\"#000000\" fill-rule=\"evenodd\" fill-opacity=\"1\" /><path clip-path=\"url(#clip830)\" d=\"M1214.93 1541.24 L1219.82 1541.24 L1219.82 1547.12 L1214.93 1547.12 L1214.93 1541.24 Z\" fill=\"#000000\" fill-rule=\"evenodd\" fill-opacity=\"1\" /><path clip-path=\"url(#clip830)\" d=\"M1230.05 1512.56 L1248.4 1512.56 L1248.4 1516.5 L1234.33 1516.5 L1234.33 1524.97 Q1235.35 1524.62 1236.37 1524.46 Q1237.39 1524.27 1238.4 1524.27 Q1244.19 1524.27 1247.57 1527.44 Q1250.95 1530.62 1250.95 1536.03 Q1250.95 1541.61 1247.48 1544.71 Q1244.01 1547.79 1237.69 1547.79 Q1235.51 1547.79 1233.24 1547.42 Q1231 1547.05 1228.59 1546.31 L1228.59 1541.61 Q1230.67 1542.74 1232.89 1543.3 Q1235.12 1543.86 1237.59 1543.86 Q1241.6 1543.86 1243.94 1541.75 Q1246.27 1539.64 1246.27 1536.03 Q1246.27 1532.42 1243.94 1530.31 Q1241.6 1528.21 1237.59 1528.21 Q1235.72 1528.21 1233.84 1528.62 Q1231.99 1529.04 1230.05 1529.92 L1230.05 1512.56 Z\" fill=\"#000000\" fill-rule=\"evenodd\" fill-opacity=\"1\" /><path clip-path=\"url(#clip830)\" d=\"M1270.16 1515.64 Q1266.55 1515.64 1264.72 1519.2 Q1262.92 1522.75 1262.92 1529.87 Q1262.92 1536.98 1264.72 1540.55 Q1266.55 1544.09 1270.16 1544.09 Q1273.8 1544.09 1275.6 1540.55 Q1277.43 1536.98 1277.43 1529.87 Q1277.43 1522.75 1275.6 1519.2 Q1273.8 1515.64 1270.16 1515.64 M1270.16 1511.93 Q1275.97 1511.93 1279.03 1516.54 Q1282.11 1521.12 1282.11 1529.87 Q1282.11 1538.6 1279.03 1543.21 Q1275.97 1547.79 1270.16 1547.79 Q1264.35 1547.79 1261.27 1543.21 Q1258.22 1538.6 1258.22 1529.87 Q1258.22 1521.12 1261.27 1516.54 Q1264.35 1511.93 1270.16 1511.93 Z\" fill=\"#000000\" fill-rule=\"evenodd\" fill-opacity=\"1\" /><path clip-path=\"url(#clip830)\" d=\"M1693.79 1515.64 Q1690.18 1515.64 1688.35 1519.2 Q1686.55 1522.75 1686.55 1529.87 Q1686.55 1536.98 1688.35 1540.55 Q1690.18 1544.09 1693.79 1544.09 Q1697.43 1544.09 1699.23 1540.55 Q1701.06 1536.98 1701.06 1529.87 Q1701.06 1522.75 1699.23 1519.2 Q1697.43 1515.64 1693.79 1515.64 M1693.79 1511.93 Q1699.6 1511.93 1702.66 1516.54 Q1705.74 1521.12 1705.74 1529.87 Q1705.74 1538.6 1702.66 1543.21 Q1699.6 1547.79 1693.79 1547.79 Q1687.98 1547.79 1684.91 1543.21 Q1681.85 1538.6 1681.85 1529.87 Q1681.85 1521.12 1684.91 1516.54 Q1687.98 1511.93 1693.79 1511.93 Z\" fill=\"#000000\" fill-rule=\"evenodd\" fill-opacity=\"1\" /><path clip-path=\"url(#clip830)\" d=\"M1713.96 1541.24 L1718.84 1541.24 L1718.84 1547.12 L1713.96 1547.12 L1713.96 1541.24 Z\" fill=\"#000000\" fill-rule=\"evenodd\" fill-opacity=\"1\" /><path clip-path=\"url(#clip830)\" d=\"M1727.85 1512.56 L1750.07 1512.56 L1750.07 1514.55 L1737.52 1547.12 L1732.64 1547.12 L1744.44 1516.5 L1727.85 1516.5 L1727.85 1512.56 Z\" fill=\"#000000\" fill-rule=\"evenodd\" fill-opacity=\"1\" /><path clip-path=\"url(#clip830)\" d=\"M1759.23 1512.56 L1777.59 1512.56 L1777.59 1516.5 L1763.52 1516.5 L1763.52 1524.97 Q1764.53 1524.62 1765.55 1524.46 Q1766.57 1524.27 1767.59 1524.27 Q1773.38 1524.27 1776.76 1527.44 Q1780.14 1530.62 1780.14 1536.03 Q1780.14 1541.61 1776.66 1544.71 Q1773.19 1547.79 1766.87 1547.79 Q1764.7 1547.79 1762.43 1547.42 Q1760.18 1547.05 1757.78 1546.31 L1757.78 1541.61 Q1759.86 1542.74 1762.08 1543.3 Q1764.3 1543.86 1766.78 1543.86 Q1770.78 1543.86 1773.12 1541.75 Q1775.46 1539.64 1775.46 1536.03 Q1775.46 1532.42 1773.12 1530.31 Q1770.78 1528.21 1766.78 1528.21 Q1764.91 1528.21 1763.03 1528.62 Q1761.18 1529.04 1759.23 1529.92 L1759.23 1512.56 Z\" fill=\"#000000\" fill-rule=\"evenodd\" fill-opacity=\"1\" /><path clip-path=\"url(#clip830)\" d=\"M2181.59 1543.18 L2189.23 1543.18 L2189.23 1516.82 L2180.92 1518.49 L2180.92 1514.23 L2189.18 1512.56 L2193.86 1512.56 L2193.86 1543.18 L2201.5 1543.18 L2201.5 1547.12 L2181.59 1547.12 L2181.59 1543.18 Z\" fill=\"#000000\" fill-rule=\"evenodd\" fill-opacity=\"1\" /><path clip-path=\"url(#clip830)\" d=\"M2210.94 1541.24 L2215.83 1541.24 L2215.83 1547.12 L2210.94 1547.12 L2210.94 1541.24 Z\" fill=\"#000000\" fill-rule=\"evenodd\" fill-opacity=\"1\" /><path clip-path=\"url(#clip830)\" d=\"M2236.01 1515.64 Q2232.4 1515.64 2230.57 1519.2 Q2228.77 1522.75 2228.77 1529.87 Q2228.77 1536.98 2230.57 1540.55 Q2232.4 1544.09 2236.01 1544.09 Q2239.65 1544.09 2241.45 1540.55 Q2243.28 1536.98 2243.28 1529.87 Q2243.28 1522.75 2241.45 1519.2 Q2239.65 1515.64 2236.01 1515.64 M2236.01 1511.93 Q2241.82 1511.93 2244.88 1516.54 Q2247.96 1521.12 2247.96 1529.87 Q2247.96 1538.6 2244.88 1543.21 Q2241.82 1547.79 2236.01 1547.79 Q2230.2 1547.79 2227.12 1543.21 Q2224.07 1538.6 2224.07 1529.87 Q2224.07 1521.12 2227.12 1516.54 Q2230.2 1511.93 2236.01 1511.93 Z\" fill=\"#000000\" fill-rule=\"evenodd\" fill-opacity=\"1\" /><path clip-path=\"url(#clip830)\" d=\"M2266.17 1515.64 Q2262.56 1515.64 2260.74 1519.2 Q2258.93 1522.75 2258.93 1529.87 Q2258.93 1536.98 2260.74 1540.55 Q2262.56 1544.09 2266.17 1544.09 Q2269.81 1544.09 2271.61 1540.55 Q2273.44 1536.98 2273.44 1529.87 Q2273.44 1522.75 2271.61 1519.2 Q2269.81 1515.64 2266.17 1515.64 M2266.17 1511.93 Q2271.99 1511.93 2275.04 1516.54 Q2278.12 1521.12 2278.12 1529.87 Q2278.12 1538.6 2275.04 1543.21 Q2271.99 1547.79 2266.17 1547.79 Q2260.36 1547.79 2257.29 1543.21 Q2254.23 1538.6 2254.23 1529.87 Q2254.23 1521.12 2257.29 1516.54 Q2260.36 1511.93 2266.17 1511.93 Z\" fill=\"#000000\" fill-rule=\"evenodd\" fill-opacity=\"1\" /><polyline clip-path=\"url(#clip832)\" style=\"stroke:#000000; stroke-linecap:butt; stroke-linejoin:round; stroke-width:2; stroke-opacity:0.1; fill:none\" points=\"\n",
       "  112.177,1445.72 2352.76,1445.72 \n",
       "  \"/>\n",
       "<polyline clip-path=\"url(#clip832)\" style=\"stroke:#000000; stroke-linecap:butt; stroke-linejoin:round; stroke-width:2; stroke-opacity:0.1; fill:none\" points=\"\n",
       "  112.177,1057.79 2352.76,1057.79 \n",
       "  \"/>\n",
       "<polyline clip-path=\"url(#clip832)\" style=\"stroke:#000000; stroke-linecap:butt; stroke-linejoin:round; stroke-width:2; stroke-opacity:0.1; fill:none\" points=\"\n",
       "  112.177,669.865 2352.76,669.865 \n",
       "  \"/>\n",
       "<polyline clip-path=\"url(#clip832)\" style=\"stroke:#000000; stroke-linecap:butt; stroke-linejoin:round; stroke-width:2; stroke-opacity:0.1; fill:none\" points=\"\n",
       "  112.177,281.939 2352.76,281.939 \n",
       "  \"/>\n",
       "<polyline clip-path=\"url(#clip830)\" style=\"stroke:#000000; stroke-linecap:butt; stroke-linejoin:round; stroke-width:4; stroke-opacity:1; fill:none\" points=\"\n",
       "  112.177,1486.45 112.177,47.2441 \n",
       "  \"/>\n",
       "<polyline clip-path=\"url(#clip830)\" style=\"stroke:#000000; stroke-linecap:butt; stroke-linejoin:round; stroke-width:4; stroke-opacity:1; fill:none\" points=\"\n",
       "  112.177,1445.72 131.075,1445.72 \n",
       "  \"/>\n",
       "<polyline clip-path=\"url(#clip830)\" style=\"stroke:#000000; stroke-linecap:butt; stroke-linejoin:round; stroke-width:4; stroke-opacity:1; fill:none\" points=\"\n",
       "  112.177,1057.79 131.075,1057.79 \n",
       "  \"/>\n",
       "<polyline clip-path=\"url(#clip830)\" style=\"stroke:#000000; stroke-linecap:butt; stroke-linejoin:round; stroke-width:4; stroke-opacity:1; fill:none\" points=\"\n",
       "  112.177,669.865 131.075,669.865 \n",
       "  \"/>\n",
       "<polyline clip-path=\"url(#clip830)\" style=\"stroke:#000000; stroke-linecap:butt; stroke-linejoin:round; stroke-width:4; stroke-opacity:1; fill:none\" points=\"\n",
       "  112.177,281.939 131.075,281.939 \n",
       "  \"/>\n",
       "<path clip-path=\"url(#clip830)\" d=\"M64.2328 1431.51 Q60.6217 1431.51 58.793 1435.08 Q56.9875 1438.62 56.9875 1445.75 Q56.9875 1452.86 58.793 1456.42 Q60.6217 1459.96 64.2328 1459.96 Q67.867 1459.96 69.6726 1456.42 Q71.5013 1452.86 71.5013 1445.75 Q71.5013 1438.62 69.6726 1435.08 Q67.867 1431.51 64.2328 1431.51 M64.2328 1427.81 Q70.0429 1427.81 73.0985 1432.42 Q76.1772 1437 76.1772 1445.75 Q76.1772 1454.48 73.0985 1459.08 Q70.0429 1463.67 64.2328 1463.67 Q58.4226 1463.67 55.344 1459.08 Q52.2884 1454.48 52.2884 1445.75 Q52.2884 1437 55.344 1432.42 Q58.4226 1427.81 64.2328 1427.81 Z\" fill=\"#000000\" fill-rule=\"evenodd\" fill-opacity=\"1\" /><path clip-path=\"url(#clip830)\" d=\"M59.8578 1071.13 L76.1772 1071.13 L76.1772 1075.07 L54.2328 1075.07 L54.2328 1071.13 Q56.8949 1068.38 61.4782 1063.75 Q66.0846 1059.1 67.2652 1057.76 Q69.5105 1055.23 70.3902 1053.5 Q71.2929 1051.74 71.2929 1050.05 Q71.2929 1047.29 69.3485 1045.56 Q67.4272 1043.82 64.3254 1043.82 Q62.1263 1043.82 59.6726 1044.58 Q57.2421 1045.35 54.4643 1046.9 L54.4643 1042.18 Q57.2884 1041.04 59.7421 1040.46 Q62.1958 1039.89 64.2328 1039.89 Q69.6031 1039.89 72.7976 1042.57 Q75.992 1045.26 75.992 1049.75 Q75.992 1051.88 75.1818 1053.8 Q74.3948 1055.7 72.2883 1058.29 Q71.7096 1058.96 68.6078 1062.18 Q65.5059 1065.37 59.8578 1071.13 Z\" fill=\"#000000\" fill-rule=\"evenodd\" fill-opacity=\"1\" /><path clip-path=\"url(#clip830)\" d=\"M66.5939 656.659 L54.7884 675.108 L66.5939 675.108 L66.5939 656.659 M65.367 652.585 L71.2466 652.585 L71.2466 675.108 L76.1772 675.108 L76.1772 678.996 L71.2466 678.996 L71.2466 687.145 L66.5939 687.145 L66.5939 678.996 L50.9921 678.996 L50.9921 674.483 L65.367 652.585 Z\" fill=\"#000000\" fill-rule=\"evenodd\" fill-opacity=\"1\" /><path clip-path=\"url(#clip830)\" d=\"M64.6495 280.076 Q61.5013 280.076 59.6495 282.228 Q57.8208 284.381 57.8208 288.131 Q57.8208 291.858 59.6495 294.034 Q61.5013 296.187 64.6495 296.187 Q67.7976 296.187 69.6263 294.034 Q71.4781 291.858 71.4781 288.131 Q71.4781 284.381 69.6263 282.228 Q67.7976 280.076 64.6495 280.076 M73.9318 265.423 L73.9318 269.682 Q72.1726 268.849 70.367 268.409 Q68.5846 267.969 66.8254 267.969 Q62.1958 267.969 59.7421 271.094 Q57.3115 274.219 56.9643 280.539 Q58.33 278.525 60.3902 277.46 Q62.4504 276.372 64.9272 276.372 Q70.1355 276.372 73.1448 279.543 Q76.1772 282.691 76.1772 288.131 Q76.1772 293.455 73.029 296.673 Q69.8809 299.89 64.6495 299.89 Q58.6541 299.89 55.4828 295.307 Q52.3116 290.701 52.3116 281.974 Q52.3116 273.779 56.2004 268.918 Q60.0893 264.034 66.6402 264.034 Q68.3994 264.034 70.1818 264.381 Q71.9874 264.728 73.9318 265.423 Z\" fill=\"#000000\" fill-rule=\"evenodd\" fill-opacity=\"1\" /><path clip-path=\"url(#clip832)\" d=\"\n",
       "M235.413 281.939 L235.413 1445.72 L434.824 1445.72 L434.824 281.939 L235.413 281.939 L235.413 281.939  Z\n",
       "  \" fill=\"#009af9\" fill-rule=\"evenodd\" fill-opacity=\"1\"/>\n",
       "<polyline clip-path=\"url(#clip832)\" style=\"stroke:#000000; stroke-linecap:butt; stroke-linejoin:round; stroke-width:4; stroke-opacity:1; fill:none\" points=\"\n",
       "  235.413,281.939 235.413,1445.72 434.824,1445.72 434.824,281.939 235.413,281.939 \n",
       "  \"/>\n",
       "<path clip-path=\"url(#clip832)\" d=\"\n",
       "M434.824 669.865 L434.824 1445.72 L634.234 1445.72 L634.234 669.865 L434.824 669.865 L434.824 669.865  Z\n",
       "  \" fill=\"#009af9\" fill-rule=\"evenodd\" fill-opacity=\"1\"/>\n",
       "<polyline clip-path=\"url(#clip832)\" style=\"stroke:#000000; stroke-linecap:butt; stroke-linejoin:round; stroke-width:4; stroke-opacity:1; fill:none\" points=\"\n",
       "  434.824,669.865 434.824,1445.72 634.234,1445.72 634.234,669.865 434.824,669.865 \n",
       "  \"/>\n",
       "<path clip-path=\"url(#clip832)\" d=\"\n",
       "M634.234 669.865 L634.234 1445.72 L833.645 1445.72 L833.645 669.865 L634.234 669.865 L634.234 669.865  Z\n",
       "  \" fill=\"#009af9\" fill-rule=\"evenodd\" fill-opacity=\"1\"/>\n",
       "<polyline clip-path=\"url(#clip832)\" style=\"stroke:#000000; stroke-linecap:butt; stroke-linejoin:round; stroke-width:4; stroke-opacity:1; fill:none\" points=\"\n",
       "  634.234,669.865 634.234,1445.72 833.645,1445.72 833.645,669.865 634.234,669.865 \n",
       "  \"/>\n",
       "<path clip-path=\"url(#clip832)\" d=\"\n",
       "M833.645 863.827 L833.645 1445.72 L1033.06 1445.72 L1033.06 863.827 L833.645 863.827 L833.645 863.827  Z\n",
       "  \" fill=\"#009af9\" fill-rule=\"evenodd\" fill-opacity=\"1\"/>\n",
       "<polyline clip-path=\"url(#clip832)\" style=\"stroke:#000000; stroke-linecap:butt; stroke-linejoin:round; stroke-width:4; stroke-opacity:1; fill:none\" points=\"\n",
       "  833.645,863.827 833.645,1445.72 1033.06,1445.72 1033.06,863.827 833.645,863.827 \n",
       "  \"/>\n",
       "<path clip-path=\"url(#clip832)\" d=\"\n",
       "M1033.06 475.902 L1033.06 1445.72 L1232.47 1445.72 L1232.47 475.902 L1033.06 475.902 L1033.06 475.902  Z\n",
       "  \" fill=\"#009af9\" fill-rule=\"evenodd\" fill-opacity=\"1\"/>\n",
       "<polyline clip-path=\"url(#clip832)\" style=\"stroke:#000000; stroke-linecap:butt; stroke-linejoin:round; stroke-width:4; stroke-opacity:1; fill:none\" points=\"\n",
       "  1033.06,475.902 1033.06,1445.72 1232.47,1445.72 1232.47,475.902 1033.06,475.902 \n",
       "  \"/>\n",
       "<path clip-path=\"url(#clip832)\" d=\"\n",
       "M1232.47 87.9763 L1232.47 1445.72 L1431.88 1445.72 L1431.88 87.9763 L1232.47 87.9763 L1232.47 87.9763  Z\n",
       "  \" fill=\"#009af9\" fill-rule=\"evenodd\" fill-opacity=\"1\"/>\n",
       "<polyline clip-path=\"url(#clip832)\" style=\"stroke:#000000; stroke-linecap:butt; stroke-linejoin:round; stroke-width:4; stroke-opacity:1; fill:none\" points=\"\n",
       "  1232.47,87.9763 1232.47,1445.72 1431.88,1445.72 1431.88,87.9763 1232.47,87.9763 \n",
       "  \"/>\n",
       "<path clip-path=\"url(#clip832)\" d=\"\n",
       "M1431.88 863.827 L1431.88 1445.72 L1631.29 1445.72 L1631.29 863.827 L1431.88 863.827 L1431.88 863.827  Z\n",
       "  \" fill=\"#009af9\" fill-rule=\"evenodd\" fill-opacity=\"1\"/>\n",
       "<polyline clip-path=\"url(#clip832)\" style=\"stroke:#000000; stroke-linecap:butt; stroke-linejoin:round; stroke-width:4; stroke-opacity:1; fill:none\" points=\"\n",
       "  1431.88,863.827 1431.88,1445.72 1631.29,1445.72 1631.29,863.827 1431.88,863.827 \n",
       "  \"/>\n",
       "<path clip-path=\"url(#clip832)\" d=\"\n",
       "M1631.29 1057.79 L1631.29 1445.72 L1830.7 1445.72 L1830.7 1057.79 L1631.29 1057.79 L1631.29 1057.79  Z\n",
       "  \" fill=\"#009af9\" fill-rule=\"evenodd\" fill-opacity=\"1\"/>\n",
       "<polyline clip-path=\"url(#clip832)\" style=\"stroke:#000000; stroke-linecap:butt; stroke-linejoin:round; stroke-width:4; stroke-opacity:1; fill:none\" points=\"\n",
       "  1631.29,1057.79 1631.29,1445.72 1830.7,1445.72 1830.7,1057.79 1631.29,1057.79 \n",
       "  \"/>\n",
       "<path clip-path=\"url(#clip832)\" d=\"\n",
       "M1830.7 475.902 L1830.7 1445.72 L2030.11 1445.72 L2030.11 475.902 L1830.7 475.902 L1830.7 475.902  Z\n",
       "  \" fill=\"#009af9\" fill-rule=\"evenodd\" fill-opacity=\"1\"/>\n",
       "<polyline clip-path=\"url(#clip832)\" style=\"stroke:#000000; stroke-linecap:butt; stroke-linejoin:round; stroke-width:4; stroke-opacity:1; fill:none\" points=\"\n",
       "  1830.7,475.902 1830.7,1445.72 2030.11,1445.72 2030.11,475.902 1830.7,475.902 \n",
       "  \"/>\n",
       "<path clip-path=\"url(#clip832)\" d=\"\n",
       "M2030.11 1057.79 L2030.11 1445.72 L2229.52 1445.72 L2229.52 1057.79 L2030.11 1057.79 L2030.11 1057.79  Z\n",
       "  \" fill=\"#009af9\" fill-rule=\"evenodd\" fill-opacity=\"1\"/>\n",
       "<polyline clip-path=\"url(#clip832)\" style=\"stroke:#000000; stroke-linecap:butt; stroke-linejoin:round; stroke-width:4; stroke-opacity:1; fill:none\" points=\"\n",
       "  2030.11,1057.79 2030.11,1445.72 2229.52,1445.72 2229.52,1057.79 2030.11,1057.79 \n",
       "  \"/>\n",
       "<path clip-path=\"url(#clip830)\" d=\"\n",
       "M1976.69 198.898 L2278.07 198.898 L2278.07 95.2176 L1976.69 95.2176  Z\n",
       "  \" fill=\"#ffffff\" fill-rule=\"evenodd\" fill-opacity=\"1\"/>\n",
       "<polyline clip-path=\"url(#clip830)\" style=\"stroke:#000000; stroke-linecap:butt; stroke-linejoin:round; stroke-width:4; stroke-opacity:1; fill:none\" points=\"\n",
       "  1976.69,198.898 2278.07,198.898 2278.07,95.2176 1976.69,95.2176 1976.69,198.898 \n",
       "  \"/>\n",
       "<path clip-path=\"url(#clip830)\" d=\"\n",
       "M2001.58 167.794 L2150.95 167.794 L2150.95 126.322 L2001.58 126.322 L2001.58 167.794  Z\n",
       "  \" fill=\"#009af9\" fill-rule=\"evenodd\" fill-opacity=\"1\"/>\n",
       "<polyline clip-path=\"url(#clip830)\" style=\"stroke:#000000; stroke-linecap:butt; stroke-linejoin:round; stroke-width:4; stroke-opacity:1; fill:none\" points=\"\n",
       "  2001.58,167.794 2150.95,167.794 2150.95,126.322 2001.58,126.322 2001.58,167.794 \n",
       "  \"/>\n",
       "<path clip-path=\"url(#clip830)\" d=\"M2189.69 166.745 Q2187.89 171.375 2186.17 172.787 Q2184.46 174.199 2181.59 174.199 L2178.19 174.199 L2178.19 170.634 L2180.69 170.634 Q2182.45 170.634 2183.42 169.8 Q2184.39 168.967 2185.57 165.865 L2186.34 163.921 L2175.85 138.412 L2180.36 138.412 L2188.46 158.689 L2196.57 138.412 L2201.08 138.412 L2189.69 166.745 Z\" fill=\"#000000\" fill-rule=\"evenodd\" fill-opacity=\"1\" /><path clip-path=\"url(#clip830)\" d=\"M2208.37 160.402 L2216.01 160.402 L2216.01 134.037 L2207.7 135.703 L2207.7 131.444 L2215.96 129.778 L2220.64 129.778 L2220.64 160.402 L2228.28 160.402 L2228.28 164.338 L2208.37 164.338 L2208.37 160.402 Z\" fill=\"#000000\" fill-rule=\"evenodd\" fill-opacity=\"1\" /></svg>\n"
      ]
     },
     "execution_count": 43,
     "metadata": {},
     "output_type": "execute_result"
    }
   ],
   "source": [
    "histogram(objs, nbins=10)"
   ]
  },
  {
   "cell_type": "code",
   "execution_count": 178,
   "id": "861f0c71",
   "metadata": {
    "execution": {
     "iopub.execute_input": "2021-11-25T14:51:18.286000+01:00",
     "iopub.status.busy": "2021-11-25T14:51:18.286000+01:00",
     "iopub.status.idle": "2021-11-25T14:51:18.462000+01:00",
     "shell.execute_reply": "2021-11-25T14:51:18.459000+01:00"
    }
   },
   "outputs": [],
   "source": [
    "dfdx2=[0, 0, 0, 0, 0, 0, x_16, 0, 0, 0, 0, x_21, 0]\n",
    "kkt2 = [dfdx2 + J'*λ; h];"
   ]
  },
  {
   "cell_type": "code",
   "execution_count": 179,
   "id": "2c22a6c3",
   "metadata": {
    "execution": {
     "iopub.execute_input": "2021-11-25T14:51:19.008000+01:00",
     "iopub.status.busy": "2021-11-25T14:51:19.008000+01:00",
     "iopub.status.idle": "2021-11-25T14:51:19.013000+01:00",
     "shell.execute_reply": "2021-11-25T14:51:19.013000+01:00"
    }
   },
   "outputs": [],
   "source": [
    "C2 = System(kkt2, variables = [vars;λ]);"
   ]
  },
  {
   "cell_type": "code",
   "execution_count": 180,
   "id": "35b2f558",
   "metadata": {
    "execution": {
     "iopub.execute_input": "2021-11-25T14:51:19.569000+01:00",
     "iopub.status.busy": "2021-11-25T14:51:19.569000+01:00",
     "iopub.status.idle": "2021-11-25T14:51:39.507000+01:00",
     "shell.execute_reply": "2021-11-25T14:51:39.507000+01:00"
    }
   },
   "outputs": [
    {
     "name": "stdout",
     "output_type": "stream",
     "text": [
      "\u001b[32mTracking 439 paths... 100%|█████████████████████████████| Time: 0:00:12\u001b[39m\n",
      "\u001b[34m  # paths tracked:                  439\u001b[39m\n",
      "\u001b[34m  # non-singular solutions (real):  173 (39)\u001b[39m\n",
      "\u001b[34m  # singular endpoints (real):      56 (0)\u001b[39m\n",
      "\u001b[34m  # total solutions (real):         229 (39)\u001b[39m\n"
     ]
    },
    {
     "data": {
      "text/plain": [
       "Result with 229 solutions\n",
       "=========================\n",
       "• 439 paths tracked\n",
       "• 173 non-singular solutions (39 real)\n",
       "• 56 singular solutions (0 real)\n",
       "• random_seed: 0xbee6112d\n",
       "• start_system: :polyhedral\n",
       "• multiplicity table of singular solutions:\n",
       "\u001b[2m╭\u001b[0m\u001b[2m───────\u001b[0m\u001b[2m┬\u001b[0m\u001b[2m───────\u001b[0m\u001b[2m┬\u001b[0m\u001b[2m────────\u001b[0m\u001b[2m┬\u001b[0m\u001b[2m────────────\u001b[0m\u001b[2m╮\u001b[0m\n",
       "\u001b[2m│\u001b[0m\u001b[22m mult. \u001b[0m\u001b[2m│\u001b[0m\u001b[22m total \u001b[0m\u001b[2m│\u001b[0m\u001b[22m # real \u001b[0m\u001b[2m│\u001b[0m\u001b[22m # non-real \u001b[0m\u001b[2m│\u001b[0m\n",
       "\u001b[2m├\u001b[0m\u001b[2m───────\u001b[0m\u001b[2m┼\u001b[0m\u001b[2m───────\u001b[0m\u001b[2m┼\u001b[0m\u001b[2m────────\u001b[0m\u001b[2m┼\u001b[0m\u001b[2m────────────\u001b[0m\u001b[2m┤\u001b[0m\n",
       "\u001b[2m│\u001b[0m   1   \u001b[2m│\u001b[0m  56   \u001b[2m│\u001b[0m   0    \u001b[2m│\u001b[0m     56     \u001b[2m│\u001b[0m\n",
       "\u001b[2m╰\u001b[0m\u001b[2m───────\u001b[0m\u001b[2m┴\u001b[0m\u001b[2m───────\u001b[0m\u001b[2m┴\u001b[0m\u001b[2m────────\u001b[0m\u001b[2m┴\u001b[0m\u001b[2m────────────\u001b[0m\u001b[2m╯\u001b[0m\n"
      ]
     },
     "execution_count": 180,
     "metadata": {},
     "output_type": "execute_result"
    }
   ],
   "source": [
    "res = solve(C2) "
   ]
  },
  {
   "cell_type": "code",
   "execution_count": 181,
   "id": "d682821b",
   "metadata": {
    "execution": {
     "iopub.execute_input": "2021-11-25T14:51:40.359000+01:00",
     "iopub.status.busy": "2021-11-25T14:51:40.359000+01:00",
     "iopub.status.idle": "2021-11-25T14:51:40.361000+01:00",
     "shell.execute_reply": "2021-11-25T14:51:40.360000+01:00"
    }
   },
   "outputs": [],
   "source": [
    "real_sols = real_solutions(res);"
   ]
  },
  {
   "cell_type": "code",
   "execution_count": 182,
   "id": "9439e319",
   "metadata": {
    "execution": {
     "iopub.execute_input": "2021-11-25T14:51:41.170000+01:00",
     "iopub.status.busy": "2021-11-25T14:51:41.170000+01:00",
     "iopub.status.idle": "2021-11-25T14:51:41.249000+01:00",
     "shell.execute_reply": "2021-11-25T14:51:41.249000+01:00"
    }
   },
   "outputs": [
    {
     "data": {
      "text/plain": [
       "39-element Array{Float64,1}:\n",
       "      3.9798409406126463e8\n",
       "   1477.972979487994\n",
       " 340324.0457878663\n",
       " 301175.34191074246\n",
       "      1.0016789074413521\n",
       " 995960.8625076213\n",
       "      0.0039051512233756807\n",
       "   6456.586059233902\n",
       "    927.0238111397424\n",
       "      5.822119577871414e9\n",
       "      8.812508691929475e8\n",
       "     44.614786171692444\n",
       "    957.4075748176444\n",
       "      ⋮\n",
       "      1.2647285915415956\n",
       "      2.592165752192883e7\n",
       "   8577.062992018235\n",
       "      1.6678075485219068\n",
       "      5.006444008461111\n",
       "      6.129213854597762\n",
       "    357.63354154388736\n",
       "     66.55817634126215\n",
       "      3.7845127497033504\n",
       " 116408.55872691056\n",
       "     50.08551769421408\n",
       "   9238.691256075599"
      ]
     },
     "execution_count": 182,
     "metadata": {},
     "output_type": "execute_result"
    }
   ],
   "source": [
    "xs = map(p -> p[1:13], real_sols);\n",
    "xsA = hcat(xs...)\n",
    "objs = xsA[7,:].^2+xsA[12,:].^2"
   ]
  },
  {
   "cell_type": "code",
   "execution_count": 184,
   "id": "b65875ce",
   "metadata": {
    "execution": {
     "iopub.execute_input": "2021-11-25T14:51:45.125000+01:00",
     "iopub.status.busy": "2021-11-25T14:51:45.125000+01:00",
     "iopub.status.idle": "2021-11-25T14:51:45.255000+01:00",
     "shell.execute_reply": "2021-11-25T14:51:45.255000+01:00"
    }
   },
   "outputs": [
    {
     "data": {
      "text/plain": [
       "3×16 Array{Float64,2}:\n",
       " 0.377306   0.443338   0.898804  -2.42246  …   0.470309   0.73501   3.87402\n",
       " 1.10114   -0.845152  -0.509445  -2.67582     -0.535965  -0.520315  1.94902\n",
       " 0.408425   1.12216    0.742456   1.16716      0.449941   0.730407  0.868881"
      ]
     },
     "execution_count": 184,
     "metadata": {},
     "output_type": "execute_result"
    }
   ],
   "source": [
    "res = hcat([elt[[3,8,10]] for elt in xs if norm(elt)<=100]...)"
   ]
  },
  {
   "cell_type": "code",
   "execution_count": 185,
   "id": "235da04b",
   "metadata": {
    "execution": {
     "iopub.execute_input": "2021-11-25T14:51:45.809000+01:00",
     "iopub.status.busy": "2021-11-25T14:51:45.809000+01:00",
     "iopub.status.idle": "2021-11-25T14:51:45.838000+01:00",
     "shell.execute_reply": "2021-11-25T14:51:45.838000+01:00"
    }
   },
   "outputs": [
    {
     "data": {
      "image/svg+xml": [
       "<?xml version=\"1.0\" encoding=\"utf-8\"?>\n",
       "<svg xmlns=\"http://www.w3.org/2000/svg\" xmlns:xlink=\"http://www.w3.org/1999/xlink\" width=\"600\" height=\"400\" viewBox=\"0 0 2400 1600\">\n",
       "<defs>\n",
       "  <clipPath id=\"clip190\">\n",
       "    <rect x=\"0\" y=\"0\" width=\"2400\" height=\"1600\"/>\n",
       "  </clipPath>\n",
       "</defs>\n",
       "<path clip-path=\"url(#clip190)\" d=\"\n",
       "M0 1600 L2400 1600 L2400 0 L0 0  Z\n",
       "  \" fill=\"#ffffff\" fill-rule=\"evenodd\" fill-opacity=\"1\"/>\n",
       "<defs>\n",
       "  <clipPath id=\"clip191\">\n",
       "    <rect x=\"480\" y=\"0\" width=\"1681\" height=\"1600\"/>\n",
       "  </clipPath>\n",
       "</defs>\n",
       "<path clip-path=\"url(#clip190)\" d=\"\n",
       "M147.478 1486.45 L2352.76 1486.45 L2352.76 47.2441 L147.478 47.2441  Z\n",
       "  \" fill=\"#ffffff\" fill-rule=\"evenodd\" fill-opacity=\"1\"/>\n",
       "<defs>\n",
       "  <clipPath id=\"clip192\">\n",
       "    <rect x=\"147\" y=\"47\" width=\"2206\" height=\"1440\"/>\n",
       "  </clipPath>\n",
       "</defs>\n",
       "<polyline clip-path=\"url(#clip192)\" style=\"stroke:#000000; stroke-linecap:butt; stroke-linejoin:round; stroke-width:2; stroke-opacity:0.1; fill:none\" points=\"\n",
       "  373.638,1486.45 373.638,47.2441 \n",
       "  \"/>\n",
       "<polyline clip-path=\"url(#clip192)\" style=\"stroke:#000000; stroke-linecap:butt; stroke-linejoin:round; stroke-width:2; stroke-opacity:0.1; fill:none\" points=\"\n",
       "  699.94,1486.45 699.94,47.2441 \n",
       "  \"/>\n",
       "<polyline clip-path=\"url(#clip192)\" style=\"stroke:#000000; stroke-linecap:butt; stroke-linejoin:round; stroke-width:2; stroke-opacity:0.1; fill:none\" points=\"\n",
       "  1026.24,1486.45 1026.24,47.2441 \n",
       "  \"/>\n",
       "<polyline clip-path=\"url(#clip192)\" style=\"stroke:#000000; stroke-linecap:butt; stroke-linejoin:round; stroke-width:2; stroke-opacity:0.1; fill:none\" points=\"\n",
       "  1352.54,1486.45 1352.54,47.2441 \n",
       "  \"/>\n",
       "<polyline clip-path=\"url(#clip192)\" style=\"stroke:#000000; stroke-linecap:butt; stroke-linejoin:round; stroke-width:2; stroke-opacity:0.1; fill:none\" points=\"\n",
       "  1678.85,1486.45 1678.85,47.2441 \n",
       "  \"/>\n",
       "<polyline clip-path=\"url(#clip192)\" style=\"stroke:#000000; stroke-linecap:butt; stroke-linejoin:round; stroke-width:2; stroke-opacity:0.1; fill:none\" points=\"\n",
       "  2005.15,1486.45 2005.15,47.2441 \n",
       "  \"/>\n",
       "<polyline clip-path=\"url(#clip192)\" style=\"stroke:#000000; stroke-linecap:butt; stroke-linejoin:round; stroke-width:2; stroke-opacity:0.1; fill:none\" points=\"\n",
       "  2331.45,1486.45 2331.45,47.2441 \n",
       "  \"/>\n",
       "<polyline clip-path=\"url(#clip190)\" style=\"stroke:#000000; stroke-linecap:butt; stroke-linejoin:round; stroke-width:4; stroke-opacity:1; fill:none\" points=\"\n",
       "  147.478,1486.45 2352.76,1486.45 \n",
       "  \"/>\n",
       "<polyline clip-path=\"url(#clip190)\" style=\"stroke:#000000; stroke-linecap:butt; stroke-linejoin:round; stroke-width:4; stroke-opacity:1; fill:none\" points=\"\n",
       "  373.638,1486.45 373.638,1467.55 \n",
       "  \"/>\n",
       "<polyline clip-path=\"url(#clip190)\" style=\"stroke:#000000; stroke-linecap:butt; stroke-linejoin:round; stroke-width:4; stroke-opacity:1; fill:none\" points=\"\n",
       "  699.94,1486.45 699.94,1467.55 \n",
       "  \"/>\n",
       "<polyline clip-path=\"url(#clip190)\" style=\"stroke:#000000; stroke-linecap:butt; stroke-linejoin:round; stroke-width:4; stroke-opacity:1; fill:none\" points=\"\n",
       "  1026.24,1486.45 1026.24,1467.55 \n",
       "  \"/>\n",
       "<polyline clip-path=\"url(#clip190)\" style=\"stroke:#000000; stroke-linecap:butt; stroke-linejoin:round; stroke-width:4; stroke-opacity:1; fill:none\" points=\"\n",
       "  1352.54,1486.45 1352.54,1467.55 \n",
       "  \"/>\n",
       "<polyline clip-path=\"url(#clip190)\" style=\"stroke:#000000; stroke-linecap:butt; stroke-linejoin:round; stroke-width:4; stroke-opacity:1; fill:none\" points=\"\n",
       "  1678.85,1486.45 1678.85,1467.55 \n",
       "  \"/>\n",
       "<polyline clip-path=\"url(#clip190)\" style=\"stroke:#000000; stroke-linecap:butt; stroke-linejoin:round; stroke-width:4; stroke-opacity:1; fill:none\" points=\"\n",
       "  2005.15,1486.45 2005.15,1467.55 \n",
       "  \"/>\n",
       "<polyline clip-path=\"url(#clip190)\" style=\"stroke:#000000; stroke-linecap:butt; stroke-linejoin:round; stroke-width:4; stroke-opacity:1; fill:none\" points=\"\n",
       "  2331.45,1486.45 2331.45,1467.55 \n",
       "  \"/>\n",
       "<path clip-path=\"url(#clip190)\" d=\"M343.58 1530.29 L373.256 1530.29 L373.256 1534.23 L343.58 1534.23 L343.58 1530.29 Z\" fill=\"#000000\" fill-rule=\"evenodd\" fill-opacity=\"1\" /><path clip-path=\"url(#clip190)\" d=\"M387.376 1543.18 L403.696 1543.18 L403.696 1547.12 L381.751 1547.12 L381.751 1543.18 Q384.413 1540.43 388.997 1535.8 Q393.603 1531.15 394.784 1529.81 Q397.029 1527.28 397.909 1525.55 Q398.811 1523.79 398.811 1522.1 Q398.811 1519.34 396.867 1517.61 Q394.946 1515.87 391.844 1515.87 Q389.645 1515.87 387.191 1516.63 Q384.761 1517.4 381.983 1518.95 L381.983 1514.23 Q384.807 1513.09 387.261 1512.51 Q389.714 1511.93 391.751 1511.93 Q397.122 1511.93 400.316 1514.62 Q403.511 1517.31 403.511 1521.8 Q403.511 1523.93 402.7 1525.85 Q401.913 1527.74 399.807 1530.34 Q399.228 1531.01 396.126 1534.23 Q393.024 1537.42 387.376 1543.18 Z\" fill=\"#000000\" fill-rule=\"evenodd\" fill-opacity=\"1\" /><path clip-path=\"url(#clip190)\" d=\"M669.697 1530.29 L699.373 1530.29 L699.373 1534.23 L669.697 1534.23 L669.697 1530.29 Z\" fill=\"#000000\" fill-rule=\"evenodd\" fill-opacity=\"1\" /><path clip-path=\"url(#clip190)\" d=\"M710.276 1543.18 L717.915 1543.18 L717.915 1516.82 L709.604 1518.49 L709.604 1514.23 L717.868 1512.56 L722.544 1512.56 L722.544 1543.18 L730.183 1543.18 L730.183 1547.12 L710.276 1547.12 L710.276 1543.18 Z\" fill=\"#000000\" fill-rule=\"evenodd\" fill-opacity=\"1\" /><path clip-path=\"url(#clip190)\" d=\"M1026.24 1515.64 Q1022.63 1515.64 1020.8 1519.2 Q1019 1522.75 1019 1529.87 Q1019 1536.98 1020.8 1540.55 Q1022.63 1544.09 1026.24 1544.09 Q1029.88 1544.09 1031.68 1540.55 Q1033.51 1536.98 1033.51 1529.87 Q1033.51 1522.75 1031.68 1519.2 Q1029.88 1515.64 1026.24 1515.64 M1026.24 1511.93 Q1032.05 1511.93 1035.11 1516.54 Q1038.19 1521.12 1038.19 1529.87 Q1038.19 1538.6 1035.11 1543.21 Q1032.05 1547.79 1026.24 1547.79 Q1020.43 1547.79 1017.35 1543.21 Q1014.3 1538.6 1014.3 1529.87 Q1014.3 1521.12 1017.35 1516.54 Q1020.43 1511.93 1026.24 1511.93 Z\" fill=\"#000000\" fill-rule=\"evenodd\" fill-opacity=\"1\" /><path clip-path=\"url(#clip190)\" d=\"M1342.93 1543.18 L1350.57 1543.18 L1350.57 1516.82 L1342.26 1518.49 L1342.26 1514.23 L1350.52 1512.56 L1355.19 1512.56 L1355.19 1543.18 L1362.83 1543.18 L1362.83 1547.12 L1342.93 1547.12 L1342.93 1543.18 Z\" fill=\"#000000\" fill-rule=\"evenodd\" fill-opacity=\"1\" /><path clip-path=\"url(#clip190)\" d=\"M1673.5 1543.18 L1689.82 1543.18 L1689.82 1547.12 L1667.87 1547.12 L1667.87 1543.18 Q1670.54 1540.43 1675.12 1535.8 Q1679.73 1531.15 1680.91 1529.81 Q1683.15 1527.28 1684.03 1525.55 Q1684.93 1523.79 1684.93 1522.1 Q1684.93 1519.34 1682.99 1517.61 Q1681.07 1515.87 1677.97 1515.87 Q1675.77 1515.87 1673.31 1516.63 Q1670.88 1517.4 1668.11 1518.95 L1668.11 1514.23 Q1670.93 1513.09 1673.38 1512.51 Q1675.84 1511.93 1677.87 1511.93 Q1683.24 1511.93 1686.44 1514.62 Q1689.63 1517.31 1689.63 1521.8 Q1689.63 1523.93 1688.82 1525.85 Q1688.04 1527.74 1685.93 1530.34 Q1685.35 1531.01 1682.25 1534.23 Q1679.15 1537.42 1673.5 1543.18 Z\" fill=\"#000000\" fill-rule=\"evenodd\" fill-opacity=\"1\" /><path clip-path=\"url(#clip190)\" d=\"M2009.4 1528.49 Q2012.75 1529.2 2014.63 1531.47 Q2016.53 1533.74 2016.53 1537.07 Q2016.53 1542.19 2013.01 1544.99 Q2009.49 1547.79 2003.01 1547.79 Q2000.83 1547.79 1998.52 1547.35 Q1996.23 1546.93 1993.77 1546.08 L1993.77 1541.56 Q1995.72 1542.7 1998.03 1543.28 Q2000.35 1543.86 2002.87 1543.86 Q2007.27 1543.86 2009.56 1542.12 Q2011.87 1540.38 2011.87 1537.07 Q2011.87 1534.02 2009.72 1532.31 Q2007.59 1530.57 2003.77 1530.57 L1999.74 1530.57 L1999.74 1526.73 L2003.96 1526.73 Q2007.41 1526.73 2009.23 1525.36 Q2011.06 1523.97 2011.06 1521.38 Q2011.06 1518.72 2009.17 1517.31 Q2007.29 1515.87 2003.77 1515.87 Q2001.85 1515.87 1999.65 1516.29 Q1997.45 1516.7 1994.81 1517.58 L1994.81 1513.42 Q1997.48 1512.68 1999.79 1512.31 Q2002.13 1511.93 2004.19 1511.93 Q2009.51 1511.93 2012.61 1514.37 Q2015.72 1516.77 2015.72 1520.89 Q2015.72 1523.76 2014.07 1525.75 Q2012.43 1527.72 2009.4 1528.49 Z\" fill=\"#000000\" fill-rule=\"evenodd\" fill-opacity=\"1\" /><path clip-path=\"url(#clip190)\" d=\"M2334.46 1516.63 L2322.65 1535.08 L2334.46 1535.08 L2334.46 1516.63 M2333.23 1512.56 L2339.11 1512.56 L2339.11 1535.08 L2344.04 1535.08 L2344.04 1538.97 L2339.11 1538.97 L2339.11 1547.12 L2334.46 1547.12 L2334.46 1538.97 L2318.86 1538.97 L2318.86 1534.46 L2333.23 1512.56 Z\" fill=\"#000000\" fill-rule=\"evenodd\" fill-opacity=\"1\" /><polyline clip-path=\"url(#clip192)\" style=\"stroke:#000000; stroke-linecap:butt; stroke-linejoin:round; stroke-width:2; stroke-opacity:0.1; fill:none\" points=\"\n",
       "  147.478,1247.31 2352.76,1247.31 \n",
       "  \"/>\n",
       "<polyline clip-path=\"url(#clip192)\" style=\"stroke:#000000; stroke-linecap:butt; stroke-linejoin:round; stroke-width:2; stroke-opacity:0.1; fill:none\" points=\"\n",
       "  147.478,953.736 2352.76,953.736 \n",
       "  \"/>\n",
       "<polyline clip-path=\"url(#clip192)\" style=\"stroke:#000000; stroke-linecap:butt; stroke-linejoin:round; stroke-width:2; stroke-opacity:0.1; fill:none\" points=\"\n",
       "  147.478,660.161 2352.76,660.161 \n",
       "  \"/>\n",
       "<polyline clip-path=\"url(#clip192)\" style=\"stroke:#000000; stroke-linecap:butt; stroke-linejoin:round; stroke-width:2; stroke-opacity:0.1; fill:none\" points=\"\n",
       "  147.478,366.585 2352.76,366.585 \n",
       "  \"/>\n",
       "<polyline clip-path=\"url(#clip192)\" style=\"stroke:#000000; stroke-linecap:butt; stroke-linejoin:round; stroke-width:2; stroke-opacity:0.1; fill:none\" points=\"\n",
       "  147.478,73.0095 2352.76,73.0095 \n",
       "  \"/>\n",
       "<polyline clip-path=\"url(#clip190)\" style=\"stroke:#000000; stroke-linecap:butt; stroke-linejoin:round; stroke-width:4; stroke-opacity:1; fill:none\" points=\"\n",
       "  147.478,1486.45 147.478,47.2441 \n",
       "  \"/>\n",
       "<polyline clip-path=\"url(#clip190)\" style=\"stroke:#000000; stroke-linecap:butt; stroke-linejoin:round; stroke-width:4; stroke-opacity:1; fill:none\" points=\"\n",
       "  147.478,1247.31 166.376,1247.31 \n",
       "  \"/>\n",
       "<polyline clip-path=\"url(#clip190)\" style=\"stroke:#000000; stroke-linecap:butt; stroke-linejoin:round; stroke-width:4; stroke-opacity:1; fill:none\" points=\"\n",
       "  147.478,953.736 166.376,953.736 \n",
       "  \"/>\n",
       "<polyline clip-path=\"url(#clip190)\" style=\"stroke:#000000; stroke-linecap:butt; stroke-linejoin:round; stroke-width:4; stroke-opacity:1; fill:none\" points=\"\n",
       "  147.478,660.161 166.376,660.161 \n",
       "  \"/>\n",
       "<polyline clip-path=\"url(#clip190)\" style=\"stroke:#000000; stroke-linecap:butt; stroke-linejoin:round; stroke-width:4; stroke-opacity:1; fill:none\" points=\"\n",
       "  147.478,366.585 166.376,366.585 \n",
       "  \"/>\n",
       "<polyline clip-path=\"url(#clip190)\" style=\"stroke:#000000; stroke-linecap:butt; stroke-linejoin:round; stroke-width:4; stroke-opacity:1; fill:none\" points=\"\n",
       "  147.478,73.0095 166.376,73.0095 \n",
       "  \"/>\n",
       "<path clip-path=\"url(#clip190)\" d=\"M51.3625 1247.76 L81.0383 1247.76 L81.0383 1251.7 L51.3625 1251.7 L51.3625 1247.76 Z\" fill=\"#000000\" fill-rule=\"evenodd\" fill-opacity=\"1\" /><path clip-path=\"url(#clip190)\" d=\"M95.1586 1260.66 L111.478 1260.66 L111.478 1264.59 L89.5336 1264.59 L89.5336 1260.66 Q92.1956 1257.9 96.7789 1253.27 Q101.385 1248.62 102.566 1247.28 Q104.811 1244.75 105.691 1243.02 Q106.594 1241.26 106.594 1239.57 Q106.594 1236.81 104.649 1235.08 Q102.728 1233.34 99.6261 1233.34 Q97.4271 1233.34 94.9734 1234.11 Q92.5428 1234.87 89.7651 1236.42 L89.7651 1231.7 Q92.5891 1230.56 95.0428 1229.99 Q97.4965 1229.41 99.5335 1229.41 Q104.904 1229.41 108.098 1232.09 Q111.293 1234.78 111.293 1239.27 Q111.293 1241.4 110.483 1243.32 Q109.696 1245.22 107.589 1247.81 Q107.01 1248.48 103.909 1251.7 Q100.807 1254.89 95.1586 1260.66 Z\" fill=\"#000000\" fill-rule=\"evenodd\" fill-opacity=\"1\" /><path clip-path=\"url(#clip190)\" d=\"M50.9921 954.188 L80.6679 954.188 L80.6679 958.123 L50.9921 958.123 L50.9921 954.188 Z\" fill=\"#000000\" fill-rule=\"evenodd\" fill-opacity=\"1\" /><path clip-path=\"url(#clip190)\" d=\"M91.5706 967.081 L99.2095 967.081 L99.2095 940.716 L90.8993 942.382 L90.8993 938.123 L99.1632 936.456 L103.839 936.456 L103.839 967.081 L111.478 967.081 L111.478 971.016 L91.5706 971.016 L91.5706 967.081 Z\" fill=\"#000000\" fill-rule=\"evenodd\" fill-opacity=\"1\" /><path clip-path=\"url(#clip190)\" d=\"M99.5335 645.959 Q95.9224 645.959 94.0937 649.524 Q92.2882 653.066 92.2882 660.195 Q92.2882 667.302 94.0937 670.867 Q95.9224 674.408 99.5335 674.408 Q103.168 674.408 104.973 670.867 Q106.802 667.302 106.802 660.195 Q106.802 653.066 104.973 649.524 Q103.168 645.959 99.5335 645.959 M99.5335 642.256 Q105.344 642.256 108.399 646.862 Q111.478 651.445 111.478 660.195 Q111.478 668.922 108.399 673.529 Q105.344 678.112 99.5335 678.112 Q93.7234 678.112 90.6447 673.529 Q87.5892 668.922 87.5892 660.195 Q87.5892 651.445 90.6447 646.862 Q93.7234 642.256 99.5335 642.256 Z\" fill=\"#000000\" fill-rule=\"evenodd\" fill-opacity=\"1\" /><path clip-path=\"url(#clip190)\" d=\"M91.5706 379.93 L99.2095 379.93 L99.2095 353.564 L90.8993 355.231 L90.8993 350.972 L99.1632 349.305 L103.839 349.305 L103.839 379.93 L111.478 379.93 L111.478 383.865 L91.5706 383.865 L91.5706 379.93 Z\" fill=\"#000000\" fill-rule=\"evenodd\" fill-opacity=\"1\" /><path clip-path=\"url(#clip190)\" d=\"M95.1586 86.3543 L111.478 86.3543 L111.478 90.2895 L89.5336 90.2895 L89.5336 86.3543 Q92.1956 83.5997 96.7789 78.9701 Q101.385 74.3173 102.566 72.9747 Q104.811 70.4516 105.691 68.7155 Q106.594 66.9563 106.594 65.2664 Q106.594 62.5118 104.649 60.7757 Q102.728 59.0396 99.6261 59.0396 Q97.4271 59.0396 94.9734 59.8035 Q92.5428 60.5674 89.7651 62.1183 L89.7651 57.3961 Q92.5891 56.2619 95.0428 55.6832 Q97.4965 55.1045 99.5335 55.1045 Q104.904 55.1045 108.098 57.7896 Q111.293 60.4748 111.293 64.9655 Q111.293 67.0951 110.483 69.0164 Q109.696 70.9146 107.589 73.5071 Q107.01 74.1784 103.909 77.396 Q100.807 80.5904 95.1586 86.3543 Z\" fill=\"#000000\" fill-rule=\"evenodd\" fill-opacity=\"1\" /><circle clip-path=\"url(#clip192)\" cx=\"1149.36\" cy=\"336.892\" r=\"14\" fill=\"#009af9\" fill-rule=\"evenodd\" fill-opacity=\"1\" stroke=\"#000000\" stroke-opacity=\"1\" stroke-width=\"3.2\"/>\n",
       "<circle clip-path=\"url(#clip192)\" cx=\"1170.9\" cy=\"908.277\" r=\"14\" fill=\"#009af9\" fill-rule=\"evenodd\" fill-opacity=\"1\" stroke=\"#000000\" stroke-opacity=\"1\" stroke-width=\"3.2\"/>\n",
       "<circle clip-path=\"url(#clip192)\" cx=\"1319.52\" cy=\"809.721\" r=\"14\" fill=\"#009af9\" fill-rule=\"evenodd\" fill-opacity=\"1\" stroke=\"#000000\" stroke-opacity=\"1\" stroke-width=\"3.2\"/>\n",
       "<circle clip-path=\"url(#clip192)\" cx=\"235.79\" cy=\"1445.72\" r=\"14\" fill=\"#009af9\" fill-rule=\"evenodd\" fill-opacity=\"1\" stroke=\"#000000\" stroke-opacity=\"1\" stroke-width=\"3.2\"/>\n",
       "<circle clip-path=\"url(#clip192)\" cx=\"1265.28\" cy=\"853.279\" r=\"14\" fill=\"#009af9\" fill-rule=\"evenodd\" fill-opacity=\"1\" stroke=\"#000000\" stroke-opacity=\"1\" stroke-width=\"3.2\"/>\n",
       "<circle clip-path=\"url(#clip192)\" cx=\"1110.61\" cy=\"537.162\" r=\"14\" fill=\"#009af9\" fill-rule=\"evenodd\" fill-opacity=\"1\" stroke=\"#000000\" stroke-opacity=\"1\" stroke-width=\"3.2\"/>\n",
       "<circle clip-path=\"url(#clip192)\" cx=\"209.891\" cy=\"1096.27\" r=\"14\" fill=\"#009af9\" fill-rule=\"evenodd\" fill-opacity=\"1\" stroke=\"#000000\" stroke-opacity=\"1\" stroke-width=\"3.2\"/>\n",
       "<circle clip-path=\"url(#clip192)\" cx=\"2272.64\" cy=\"161.946\" r=\"14\" fill=\"#009af9\" fill-rule=\"evenodd\" fill-opacity=\"1\" stroke=\"#000000\" stroke-opacity=\"1\" stroke-width=\"3.2\"/>\n",
       "<circle clip-path=\"url(#clip192)\" cx=\"754.047\" cy=\"795.393\" r=\"14\" fill=\"#009af9\" fill-rule=\"evenodd\" fill-opacity=\"1\" stroke=\"#000000\" stroke-opacity=\"1\" stroke-width=\"3.2\"/>\n",
       "<circle clip-path=\"url(#clip192)\" cx=\"1972.2\" cy=\"855.18\" r=\"14\" fill=\"#009af9\" fill-rule=\"evenodd\" fill-opacity=\"1\" stroke=\"#000000\" stroke-opacity=\"1\" stroke-width=\"3.2\"/>\n",
       "<circle clip-path=\"url(#clip192)\" cx=\"1326.66\" cy=\"676.584\" r=\"14\" fill=\"#009af9\" fill-rule=\"evenodd\" fill-opacity=\"1\" stroke=\"#000000\" stroke-opacity=\"1\" stroke-width=\"3.2\"/>\n",
       "<circle clip-path=\"url(#clip192)\" cx=\"1229.4\" cy=\"852.97\" r=\"14\" fill=\"#009af9\" fill-rule=\"evenodd\" fill-opacity=\"1\" stroke=\"#000000\" stroke-opacity=\"1\" stroke-width=\"3.2\"/>\n",
       "<circle clip-path=\"url(#clip192)\" cx=\"240.593\" cy=\"1299.1\" r=\"14\" fill=\"#009af9\" fill-rule=\"evenodd\" fill-opacity=\"1\" stroke=\"#000000\" stroke-opacity=\"1\" stroke-width=\"3.2\"/>\n",
       "<circle clip-path=\"url(#clip192)\" cx=\"1179.71\" cy=\"817.507\" r=\"14\" fill=\"#009af9\" fill-rule=\"evenodd\" fill-opacity=\"1\" stroke=\"#000000\" stroke-opacity=\"1\" stroke-width=\"3.2\"/>\n",
       "<circle clip-path=\"url(#clip192)\" cx=\"1266.08\" cy=\"812.912\" r=\"14\" fill=\"#009af9\" fill-rule=\"evenodd\" fill-opacity=\"1\" stroke=\"#000000\" stroke-opacity=\"1\" stroke-width=\"3.2\"/>\n",
       "<circle clip-path=\"url(#clip192)\" cx=\"2290.34\" cy=\"87.9763\" r=\"14\" fill=\"#009af9\" fill-rule=\"evenodd\" fill-opacity=\"1\" stroke=\"#000000\" stroke-opacity=\"1\" stroke-width=\"3.2\"/>\n",
       "<path clip-path=\"url(#clip190)\" d=\"\n",
       "M1981.79 198.898 L2279.25 198.898 L2279.25 95.2176 L1981.79 95.2176  Z\n",
       "  \" fill=\"#ffffff\" fill-rule=\"evenodd\" fill-opacity=\"1\"/>\n",
       "<polyline clip-path=\"url(#clip190)\" style=\"stroke:#000000; stroke-linecap:butt; stroke-linejoin:round; stroke-width:4; stroke-opacity:1; fill:none\" points=\"\n",
       "  1981.79,198.898 2279.25,198.898 2279.25,95.2176 1981.79,95.2176 1981.79,198.898 \n",
       "  \"/>\n",
       "<circle clip-path=\"url(#clip190)\" cx=\"2079.8\" cy=\"147.058\" r=\"23\" fill=\"#009af9\" fill-rule=\"evenodd\" fill-opacity=\"1\" stroke=\"#000000\" stroke-opacity=\"1\" stroke-width=\"5.12\"/>\n",
       "<path clip-path=\"url(#clip190)\" d=\"M2191.65 166.745 Q2189.85 171.375 2188.13 172.787 Q2186.42 174.199 2183.55 174.199 L2180.15 174.199 L2180.15 170.634 L2182.65 170.634 Q2184.41 170.634 2185.38 169.8 Q2186.35 168.967 2187.53 165.865 L2188.3 163.921 L2177.81 138.412 L2182.32 138.412 L2190.43 158.689 L2198.53 138.412 L2203.04 138.412 L2191.65 166.745 Z\" fill=\"#000000\" fill-rule=\"evenodd\" fill-opacity=\"1\" /><path clip-path=\"url(#clip190)\" d=\"M2210.33 160.402 L2217.97 160.402 L2217.97 134.037 L2209.66 135.703 L2209.66 131.444 L2217.93 129.778 L2222.6 129.778 L2222.6 160.402 L2230.24 160.402 L2230.24 164.338 L2210.33 164.338 L2210.33 160.402 Z\" fill=\"#000000\" fill-rule=\"evenodd\" fill-opacity=\"1\" /></svg>\n"
      ]
     },
     "execution_count": 185,
     "metadata": {},
     "output_type": "execute_result"
    }
   ],
   "source": [
    "scatter(res[1,:], res[2,:])"
   ]
  },
  {
   "cell_type": "code",
   "execution_count": 186,
   "id": "a4402a21",
   "metadata": {
    "execution": {
     "iopub.execute_input": "2021-11-25T14:51:46.472000+01:00",
     "iopub.status.busy": "2021-11-25T14:51:46.472000+01:00",
     "iopub.status.idle": "2021-11-25T14:51:46.476000+01:00",
     "shell.execute_reply": "2021-11-25T14:51:46.475000+01:00"
    }
   },
   "outputs": [
    {
     "data": {
      "text/plain": [
       "(0.0039051512233756807, 7)"
      ]
     },
     "execution_count": 186,
     "metadata": {},
     "output_type": "execute_result"
    }
   ],
   "source": [
    "dist, idx = findmin(objs)"
   ]
  },
  {
   "cell_type": "code",
   "execution_count": 187,
   "id": "b9220cdc",
   "metadata": {
    "execution": {
     "iopub.execute_input": "2021-11-25T14:51:49.081000+01:00",
     "iopub.status.busy": "2021-11-25T14:51:49.081000+01:00",
     "iopub.status.idle": "2021-11-25T14:51:49.183000+01:00",
     "shell.execute_reply": "2021-11-25T14:51:49.182000+01:00"
    }
   },
   "outputs": [
    {
     "data": {
      "text/plain": [
       "13-element Array{Float64,1}:\n",
       "  0.7499999999999999\n",
       "  1.889313115646144\n",
       "  0.898804098120615\n",
       " -0.7908051221220493\n",
       "  1.3820918790925956\n",
       "  1.2849924684816705\n",
       " -0.062169954668825904\n",
       " -0.5094445235767231\n",
       " -0.8285562133874456\n",
       "  0.7424557855321242\n",
       " -0.25\n",
       " -0.0063283457437005594\n",
       " -0.42723987060917573"
      ]
     },
     "execution_count": 187,
     "metadata": {},
     "output_type": "execute_result"
    }
   ],
   "source": [
    "resall = hcat([elt[[3,8,10]] for elt in xs]...)\n",
    "xsA[:, idx]"
   ]
  },
  {
   "cell_type": "code",
   "execution_count": 188,
   "id": "e675448e",
   "metadata": {
    "execution": {
     "iopub.execute_input": "2021-11-25T14:51:59.115000+01:00",
     "iopub.status.busy": "2021-11-25T14:51:59.115000+01:00",
     "iopub.status.idle": "2021-11-25T14:51:59.118000+01:00",
     "shell.execute_reply": "2021-11-25T14:51:59.118000+01:00"
    }
   },
   "outputs": [
    {
     "data": {
      "text/plain": [
       "2-element Array{Float64,1}:\n",
       " -0.062169954668825904\n",
       " -0.0063283457437005594"
      ]
     },
     "execution_count": 188,
     "metadata": {},
     "output_type": "execute_result"
    }
   ],
   "source": [
    "xs[idx][[7,12]]"
   ]
  },
  {
   "cell_type": "markdown",
   "id": "07d9cf48",
   "metadata": {},
   "source": [
    "## Compare to openmdao results"
   ]
  },
  {
   "cell_type": "code",
   "execution_count": 199,
   "id": "ea9ddaf7",
   "metadata": {
    "execution": {
     "iopub.execute_input": "2021-11-25T14:58:39.717000+01:00",
     "iopub.status.busy": "2021-11-25T14:58:39.717000+01:00",
     "iopub.status.idle": "2021-11-25T14:58:39.720000+01:00",
     "shell.execute_reply": "2021-11-25T14:58:39.720000+01:00"
    }
   },
   "outputs": [],
   "source": [
    "C3 = System([h; x_22-0.6; x_16; x_21], variables = vars);"
   ]
  },
  {
   "cell_type": "code",
   "execution_count": 200,
   "id": "c49e4c86",
   "metadata": {
    "execution": {
     "iopub.execute_input": "2021-11-25T14:58:40.152000+01:00",
     "iopub.status.busy": "2021-11-25T14:58:40.152000+01:00",
     "iopub.status.idle": "2021-11-25T14:58:40.221000+01:00",
     "shell.execute_reply": "2021-11-25T14:58:40.220000+01:00"
    }
   },
   "outputs": [
    {
     "data": {
      "text/plain": [
       "Result with 9 solutions\n",
       "=======================\n",
       "• 9 paths tracked\n",
       "• 9 non-singular solutions (5 real)\n",
       "• random_seed: 0xede1a667\n",
       "• start_system: :polyhedral\n"
      ]
     },
     "execution_count": 200,
     "metadata": {},
     "output_type": "execute_result"
    }
   ],
   "source": [
    "res3 = solve(C3) "
   ]
  },
  {
   "cell_type": "code",
   "execution_count": 201,
   "id": "523316b7",
   "metadata": {
    "execution": {
     "iopub.execute_input": "2021-11-25T14:58:40.719000+01:00",
     "iopub.status.busy": "2021-11-25T14:58:40.718000+01:00",
     "iopub.status.idle": "2021-11-25T14:58:40.720000+01:00",
     "shell.execute_reply": "2021-11-25T14:58:40.719000+01:00"
    }
   },
   "outputs": [],
   "source": [
    "real_sols3 = real_solutions(res3);"
   ]
  },
  {
   "cell_type": "code",
   "execution_count": 202,
   "id": "4f77e965",
   "metadata": {
    "execution": {
     "iopub.execute_input": "2021-11-25T14:58:41.069000+01:00",
     "iopub.status.busy": "2021-11-25T14:58:41.069000+01:00",
     "iopub.status.idle": "2021-11-25T14:58:41.077000+01:00",
     "shell.execute_reply": "2021-11-25T14:58:41.076000+01:00"
    }
   },
   "outputs": [
    {
     "data": {
      "text/plain": [
       "13-element Array{Float64,1}:\n",
       "  0.7499999999999999\n",
       "  1.04205527917924\n",
       "  1.273821307101235\n",
       "  0.2808073763760084\n",
       "  1.230490800377816\n",
       " -0.029607126230005523\n",
       "  0.0\n",
       " -0.44989774103806396\n",
       " -1.0878834207394095\n",
       "  0.5373437710303754\n",
       " -0.25\n",
       "  0.0\n",
       "  0.6"
      ]
     },
     "execution_count": 202,
     "metadata": {},
     "output_type": "execute_result"
    }
   ],
   "source": [
    "real_sols3[2]"
   ]
  },
  {
   "cell_type": "code",
   "execution_count": null,
   "id": "dc333f09",
   "metadata": {},
   "outputs": [],
   "source": []
  }
 ],
 "metadata": {
  "kernelspec": {
   "display_name": "Julia 1.10.2",
   "language": "julia",
   "name": "julia-1.10"
  },
  "language_info": {
   "file_extension": ".jl",
   "mimetype": "application/julia",
   "name": "julia",
   "version": "1.10.2"
  }
 },
 "nbformat": 4,
 "nbformat_minor": 5
}
