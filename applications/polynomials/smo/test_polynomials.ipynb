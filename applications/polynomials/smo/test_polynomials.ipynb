{
 "cells": [
  {
   "cell_type": "code",
   "execution_count": 7,
   "metadata": {},
   "outputs": [],
   "source": [
    "from utils.randomstructure import generate_random_prob\n",
    "from utils.polycasebuilder import generate_random_polynomials, get_arg_mapping\n",
    "from trash.inputresolver import reassigneq\n",
    "from graph.graphutils import edges_to_Ein_Eout, sources\n",
    "from engine.torchengine import AnalyticalSet, EliminateAnalysis, Function, EliminateAnalysisMergeResiduals\n",
    "from engine.torchdata import generate_optim_functions\n",
    "from scipy.optimize import minimize\n",
    "import sympy as sp\n",
    "import numpy as np\n",
    "import torch\n",
    "np.set_printoptions(formatter={'float': lambda x: \"{:0.2f}\".format(x).rstrip('0').rstrip('.')})"
   ]
  },
  {
   "cell_type": "code",
   "execution_count": 3,
   "metadata": {},
   "outputs": [],
   "source": [
    "n_eqs, n_vars, sparsity, seed1, seed2 = 10, 13, 1.1, 42, 12345 #1.7\n",
    "eqv, varinc, dout = generate_random_prob(n_eqs, n_vars, seed1, sparsity)\n",
    "polynomials, var_mapping, edges, tree, output_set = generate_random_polynomials(eqv, dout, n_eqs)\n",
    "symb_mapping = get_arg_mapping(var_mapping, symbol_map=True)\n",
    "\n",
    "indices = {idx: torch.tensor([idx]) for idx in symb_mapping.keys()}\n",
    "sets = {}\n",
    "for polyidx, poly in polynomials.items():\n",
    "    outputvar = symb_mapping[edges[1][polyidx][0]]\n",
    "    inputvars = [symb_mapping[elt] for elt in edges[0][polyidx]]\n",
    "    analysis_function = sp.simplify(reassigneq(None, poly, outputvar))\n",
    "    if isinstance(analysis_function, sp.Float):\n",
    "        tensor = torch.tensor([float(analysis_function)], dtype=torch.float64)\n",
    "        f = lambda : tensor\n",
    "    else:\n",
    "        f = sp.lambdify(inputvars, analysis_function, torch) \n",
    "    residual = sp.lambdify(inputvars+[outputvar], poly, torch)   \n",
    "    tupl = (edges[0][polyidx]+edges[1][polyidx], residual)\n",
    "    triplet = (edges[0][polyidx], edges[1][polyidx], f)\n",
    "    sets[polyidx] = AnalyticalSet(triplet, indices, forceresidual=tupl)"
   ]
  },
  {
   "cell_type": "code",
   "execution_count": 5,
   "metadata": {},
   "outputs": [],
   "source": [
    "inputids = sorted(sources(*edges_to_Ein_Eout(edges)))\n",
    "inputvars = [var_mapping[elt][0] for elt in inputids]\n",
    "fobj = sum([(elt-1)**2 for elt in inputvars])\n",
    "objective = Function((inputids, sp.lambdify(inputvars, fobj, torch)), indices)"
   ]
  },
  {
   "cell_type": "code",
   "execution_count": 10,
   "metadata": {},
   "outputs": [],
   "source": [
    "# optim_funcs_MDF = EliminateAnalysis([sets[k].analysis for k in sorted(sets.keys())],\n",
    "#                                 [objective, lambda x: torch.tensor([]), lambda x: torch.tensor([])])\n",
    "equality_constraints_AAO = EliminateAnalysisMergeResiduals([],[sets[k].residual for k in sorted(sets.keys())])\n",
    "optim_funcs_AAO = EliminateAnalysis(functions=[objective, equality_constraints_AAO])"
   ]
  },
  {
   "cell_type": "code",
   "execution_count": 11,
   "metadata": {},
   "outputs": [],
   "source": [
    "optim_indices_MDF = torch.cat([indices[elt] for elt in inputids])\n",
    "bnds_problem_MDF = [(0,10) for elt in optim_indices_MDF]\n",
    "\n",
    "optim_indices_AAO = torch.cat([indices[k] for k in sorted(indices.keys())])\n",
    "bnds_problem_AAO = [(0,10) for elt in optim_indices_AAO]\n",
    "#set random seed to be reproducible\n",
    "torch.manual_seed(43)\n",
    "x0 = torch.rand(n_vars, dtype=torch.float64)"
   ]
  },
  {
   "cell_type": "code",
   "execution_count": 13,
   "metadata": {},
   "outputs": [],
   "source": [
    "xguess, obj_function, ineq_function, eq_function, dobj, dineq, deq, hobj = generate_optim_functions(optim_funcs_AAO, optim_indices_AAO, x0, inequality_direction='positive-null', objective=0, equalities=1)"
   ]
  },
  {
   "cell_type": "code",
   "execution_count": 137,
   "metadata": {},
   "outputs": [
    {
     "data": {
      "text/plain": [
       " message: Optimization terminated successfully\n",
       " success: True\n",
       "  status: 0\n",
       "     fun: 962868.6890955853\n",
       "       x: [-2.521e-01  9.823e+02 ... -1.086e-07  7.929e+00]\n",
       "     nit: 93\n",
       "     jac: [-2.508e+00  1.963e+03 ...  0.000e+00  0.000e+00]\n",
       "    nfev: 1485\n",
       "    njev: 93"
      ]
     },
     "execution_count": 137,
     "metadata": {},
     "output_type": "execute_result"
    }
   ],
   "source": [
    "minimize(obj_function, xguess, constraints=constraints, method='SLSQP')"
   ]
  },
  {
   "cell_type": "code",
   "execution_count": 14,
   "metadata": {},
   "outputs": [
    {
     "data": {
      "text/plain": [
       "array([0.63, 0.37, 0.18, 0.73, 0.98, 0.51, 0.15, 0.3, 0.42, 0.72, 0.86,\n",
       "       0.59, 0.05])"
      ]
     },
     "execution_count": 14,
     "metadata": {},
     "output_type": "execute_result"
    }
   ],
   "source": [
    "x0.numpy()"
   ]
  },
  {
   "cell_type": "code",
   "execution_count": 153,
   "metadata": {},
   "outputs": [
    {
     "data": {
      "text/plain": [
       "array([0, 0, 0, 0, 0, 0, 0, 0, 0, 0, 0, 0, 0])"
      ]
     },
     "execution_count": 153,
     "metadata": {},
     "output_type": "execute_result"
    }
   ],
   "source": [
    "sets[9].analysis(x0).numpy()-x0.numpy()"
   ]
  }
 ],
 "metadata": {
  "kernelspec": {
   "display_name": "minimdo",
   "language": "python",
   "name": "python3"
  },
  "language_info": {
   "codemirror_mode": {
    "name": "ipython",
    "version": 3
   },
   "file_extension": ".py",
   "mimetype": "text/x-python",
   "name": "python",
   "nbconvert_exporter": "python",
   "pygments_lexer": "ipython3",
   "version": "3.9.18"
  }
 },
 "nbformat": 4,
 "nbformat_minor": 2
}
