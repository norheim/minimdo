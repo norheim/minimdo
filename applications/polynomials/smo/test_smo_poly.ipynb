{
 "cells": [
  {
   "cell_type": "code",
   "execution_count": 1,
   "metadata": {},
   "outputs": [],
   "source": [
    "import torch\n",
    "import numpy as np\n",
    "from collections import OrderedDict\n",
    "from graph.matrixview import render_incidence\n",
    "from engine.torchengine import AnalyticalSetSympy, EliminateAnalysisMergeResiduals, EliminateAnalysis, FunctionSympy,get_analysis_structure, ElimResidual, ParallelResiduals, ParallelAnalysis, ipoptsolvercon\n",
    "from engine.torchdata import load_file, process_expression, load_vals, generate_optim_functions, print_formatted_table, perturb\n",
    "from engine.loaddata import process_json\n",
    "from functools import partial\n",
    "from collections import namedtuple\n",
    "# Set the print options\n",
    "np.set_printoptions(formatter={'float': lambda x: \"{:0.2f}\".format(x).rstrip('0').rstrip('.')})"
   ]
  },
  {
   "cell_type": "code",
   "execution_count": 2,
   "metadata": {},
   "outputs": [],
   "source": [
    "data = load_file('testproblems')\n",
    "problem_id = 2\n",
    "_, fdata = list(data.items())[problem_id]\n",
    "polynomials, indices, edges, objective = process_json(fdata)\n",
    "idxrev = {var.item():key for key,var in indices.items()}\n",
    "\n",
    "sets = {idx:AnalyticalSetSympy(poly, indices=indices).reassign(edges[1][idx][0],  rational=True) for idx,poly in polynomials.items()}\n",
    "objective = FunctionSympy(objective, indices)"
   ]
  },
  {
   "cell_type": "markdown",
   "metadata": {},
   "source": [
    "## Different ways to define orders"
   ]
  },
  {
   "cell_type": "markdown",
   "metadata": {},
   "source": [
    "### A) Individual"
   ]
  },
  {
   "cell_type": "code",
   "execution_count": 3,
   "metadata": {},
   "outputs": [],
   "source": [
    "analyses = {key: s.analysis for key,s in sets.items()}\n",
    "residuals = {key: s.residual for key,s in sets.items()}"
   ]
  },
  {
   "cell_type": "markdown",
   "metadata": {},
   "source": [
    "### 1) Pure"
   ]
  },
  {
   "cell_type": "code",
   "execution_count": 4,
   "metadata": {},
   "outputs": [],
   "source": [
    "order = list(sorted(analyses.keys()))\n",
    "A, B = [], order"
   ]
  },
  {
   "cell_type": "markdown",
   "metadata": {},
   "source": [
    "### Option 1"
   ]
  },
  {
   "cell_type": "code",
   "execution_count": 5,
   "metadata": {},
   "outputs": [],
   "source": [
    "# Merge residuals only\n",
    "solvefor = torch.tensor([])\n",
    "R = EliminateAnalysisMergeResiduals(functions=[residuals[idx] for idx in B])\n",
    "P = EliminateAnalysis([analyses[idx] for idx in A], [objective,R])\n",
    "objective_idx,residual_idx,equality_idx,inequality_idx = 0,1,None,None"
   ]
  },
  {
   "cell_type": "markdown",
   "metadata": {},
   "source": [
    "### Option 3"
   ]
  },
  {
   "cell_type": "code",
   "execution_count": 17,
   "metadata": {},
   "outputs": [],
   "source": [
    "solvefor = torch.tensor([])\n",
    "T = ParallelResiduals([sets[idx].analysis for idx in B], [objective])\n",
    "P = EliminateAnalysis([sets[idx].analysis for idx in A], [T], flatten=True)\n",
    "objective_idx,residual_idx,equality_idx,inequality_idx = 0,None,1,None"
   ]
  },
  {
   "cell_type": "markdown",
   "metadata": {},
   "source": [
    "### Initial guess"
   ]
  },
  {
   "cell_type": "code",
   "execution_count": 6,
   "metadata": {},
   "outputs": [],
   "source": [
    "problem_id = 2 \n",
    "n = len(indices)\n",
    "torch.manual_seed(2)\n",
    "xs = torch.rand(n, dtype=torch.float64)"
   ]
  },
  {
   "cell_type": "code",
   "execution_count": 7,
   "metadata": {},
   "outputs": [],
   "source": [
    "optim_indices = P.structure[0]"
   ]
  },
  {
   "cell_type": "code",
   "execution_count": 8,
   "metadata": {},
   "outputs": [
    {
     "name": "stdout",
     "output_type": "stream",
     "text": [
      "x_0   x_10  x_11  x_13  x_2   x_3  x_9   x_4   x_5   x_6  x_8   x_1   x_14  x_7   x_12\n",
      "0.918 0.082 0.683 0.808 0.709 0.54 0.462 0.913 0.526 0.12 0.693 0.097 0.733 0.267 0.62\n",
      "0.918 0.082 0.683 0.808 0.709 0.54 0.462 0.913 0.526 0.12 0.693 0.097 0.733 0.267 0.62\n"
     ]
    }
   ],
   "source": [
    "x0 = perturb(xs, 0, optim_indices, seed=12)\n",
    "print_formatted_table([xs, x0], indices, idxrev, subset=optim_indices)"
   ]
  },
  {
   "cell_type": "markdown",
   "metadata": {},
   "source": [
    "### Optimization"
   ]
  },
  {
   "cell_type": "code",
   "execution_count": 9,
   "metadata": {},
   "outputs": [],
   "source": [
    "# MAKE SURE TO SET INEQUALITY DIRECTION, it is different for scipy and ipopt\n",
    "xguess, obj_function, ineq_function, eq_function, dobj, dineq, deq, hobj = generate_optim_functions(P,\n",
    "        optim_indices, x0, inequality_direction='negative-null', \n",
    "        objective=objective_idx, residuals=residual_idx, equalities=equality_idx)\n",
    "bnds_problem = [(None, None) for elt in optim_indices]"
   ]
  },
  {
   "cell_type": "code",
   "execution_count": 10,
   "metadata": {},
   "outputs": [
    {
     "data": {
      "text/plain": [
       "(array([-0.34, 0.27, 1.2, -0.9, 0.7, 0.08, 0.96, 0.93, -0.17, -0.08]),\n",
       " array([], dtype=float32),\n",
       " 1.0715371477653555)"
      ]
     },
     "execution_count": 10,
     "metadata": {},
     "output_type": "execute_result"
    }
   ],
   "source": [
    "eq_function(xguess).numpy(), ineq_function(xguess).numpy(), obj_function(xguess)"
   ]
  },
  {
   "cell_type": "markdown",
   "metadata": {},
   "source": [
    "# IPOPT"
   ]
  },
  {
   "cell_type": "code",
   "execution_count": 11,
   "metadata": {},
   "outputs": [],
   "source": [
    "xsol, info,storeiter,elapsed_time = ipoptsolvercon(xguess, obj_function, ineq_function, eq_function, dobj, dineq, deq, bnds_problem)"
   ]
  },
  {
   "cell_type": "code",
   "execution_count": 12,
   "metadata": {},
   "outputs": [
    {
     "data": {
      "text/plain": [
       "0.9691691803346383"
      ]
     },
     "execution_count": 12,
     "metadata": {},
     "output_type": "execute_result"
    }
   ],
   "source": [
    "obj_function(xsol)"
   ]
  },
  {
   "cell_type": "code",
   "execution_count": 13,
   "metadata": {},
   "outputs": [
    {
     "data": {
      "text/latex": [
       "$\\displaystyle \\left(x_{0} - 1\\right)^{2} + \\left(x_{10} - 1\\right)^{2} + \\left(x_{11} - 1\\right)^{2} + \\left(x_{13} - 1\\right)^{2} + \\left(x_{2} - 1\\right)^{2}$"
      ],
      "text/plain": [
       "(x_0 - 1)**2 + (x_10 - 1)**2 + (x_11 - 1)**2 + (x_13 - 1)**2 + (x_2 - 1)**2"
      ]
     },
     "execution_count": 13,
     "metadata": {},
     "output_type": "execute_result"
    }
   ],
   "source": [
    "objective.expression"
   ]
  },
  {
   "cell_type": "code",
   "execution_count": 14,
   "metadata": {},
   "outputs": [
    {
     "data": {
      "text/plain": [
       "[100]"
      ]
     },
     "execution_count": 14,
     "metadata": {},
     "output_type": "execute_result"
    }
   ],
   "source": [
    "storeiter"
   ]
  },
  {
   "cell_type": "code",
   "execution_count": 15,
   "metadata": {},
   "outputs": [
    {
     "name": "stdout",
     "output_type": "stream",
     "text": [
      "x_0   x_10  x_11  x_13  x_2 x_3   x_9 x_4   x_5  x_6   x_8    x_1    x_14  x_7   x_12 \n",
      "1.003 0.016 1.015 0.997 1   1.667 0.6 5.333 -0.4 0.153 -0.334 13.965 2.104 2.377 3.258\n"
     ]
    }
   ],
   "source": [
    "print_formatted_table([x0], indices, idxrev, subset=optim_indices)"
   ]
  },
  {
   "cell_type": "code",
   "execution_count": 16,
   "metadata": {},
   "outputs": [
    {
     "data": {
      "text/plain": [
       "[(x_3, 5/3),\n",
       " (x_9, 3/(5*x_2)),\n",
       " (x_8, (-x_5*x_6 - 9)/(5*x_0*x_4)),\n",
       " (x_6, 9/(7*x_1*x_9)),\n",
       " (x_1, 7/(6*x_10*x_4)),\n",
       " (x_7, (3*x_1*x_11 + 3*x_6 + 2)/(9*x_14)),\n",
       " (x_14, 5/x_7),\n",
       " (x_5, -2/5),\n",
       " (x_12, 1/(2*x_6)),\n",
       " (x_4, -4*x_13*x_8 + 4)]"
      ]
     },
     "execution_count": 16,
     "metadata": {},
     "output_type": "execute_result"
    }
   ],
   "source": [
    "[(sets[elt].outputvar, sets[elt].expression) for elt in B]"
   ]
  },
  {
   "cell_type": "code",
   "execution_count": 17,
   "metadata": {},
   "outputs": [
    {
     "name": "stdout",
     "output_type": "stream",
     "text": [
      "x_0   x_10  x_11  x_13  x_2 x_3   x_9 x_4   x_5  x_6   x_8    x_1    x_14  x_7   x_12 \n",
      "1.003 0.016 1.015 0.997 1   1.667 0.6 5.333 -0.4 0.153 -0.334 13.965 2.104 2.377 3.258\n"
     ]
    }
   ],
   "source": [
    "print_formatted_table([sets[9].analysis(x0).detach().numpy()], indices, idxrev, subset=optim_indices)"
   ]
  },
  {
   "cell_type": "markdown",
   "metadata": {},
   "source": [
    "### Save results"
   ]
  },
  {
   "cell_type": "code",
   "execution_count": 82,
   "metadata": {},
   "outputs": [],
   "source": [
    "import json"
   ]
  },
  {
   "cell_type": "code",
   "execution_count": null,
   "metadata": {},
   "outputs": [],
   "source": [
    "name = 'results.json'\n",
    "json_string = json.dumps(results, indent=4)\n",
    "with open('../applications/data/{}'.format(name), 'w') as file:\n",
    "    file.write(json_string)\n"
   ]
  }
 ],
 "metadata": {
  "kernelspec": {
   "display_name": "minimdo",
   "language": "python",
   "name": "python3"
  },
  "language_info": {
   "codemirror_mode": {
    "name": "ipython",
    "version": 3
   },
   "file_extension": ".py",
   "mimetype": "text/x-python",
   "name": "python",
   "nbconvert_exporter": "python",
   "pygments_lexer": "ipython3",
   "version": "3.9.18"
  }
 },
 "nbformat": 4,
 "nbformat_minor": 2
}
