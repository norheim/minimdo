{
 "cells": [
  {
   "cell_type": "code",
   "execution_count": 1,
   "metadata": {},
   "outputs": [],
   "source": [
    "import torch\n",
    "import numpy as np\n",
    "from engine.torchengine import AnalyticalSetSympy, EliminateAnalysisMergeResiduals, EliminateAnalysis, FunctionSympy, ipoptsolvercon\n",
    "from engine.torchdata import load_file, load_vals, generate_optim_functions, print_formatted_table, perturb\n",
    "from engine.loaddata import process_json\n",
    "import json\n",
    "# Set the print options\n",
    "np.set_printoptions(formatter={'float': lambda x: \"{:0.2f}\".format(x).rstrip('0').rstrip('.')})"
   ]
  },
  {
   "cell_type": "code",
   "execution_count": 2,
   "metadata": {},
   "outputs": [],
   "source": [
    "data = load_file('testproblems')\n",
    "problem_id = 0\n",
    "_, fdata = list(data.items())[problem_id]\n",
    "polynomials, indices, edges, objective = process_json(fdata)\n",
    "idxrev = {var.item():key for key,var in indices.items()}"
   ]
  },
  {
   "cell_type": "code",
   "execution_count": 128,
   "metadata": {},
   "outputs": [],
   "source": [
    "def runproblem(problem_id, xs=None, delta=0.1, seed=42):\n",
    "    _, fdata = list(data.items())[problem_id]\n",
    "    polynomials, indices, edges, objective = process_json(fdata)\n",
    "\n",
    "    sets = {idx:AnalyticalSetSympy(poly, indices=indices).reassign(edges[1][idx][0],  rational=True) for idx,poly in polynomials.items()}\n",
    "    objective = FunctionSympy(objective, indices)\n",
    "\n",
    "    analyses = {key: s.analysis for key,s in sets.items()}\n",
    "    residuals = {key: s.residual for key,s in sets.items()}\n",
    "    order = list(sorted(analyses.keys()))\n",
    "    A, B = [], order\n",
    "    # Merge residuals only\n",
    "    solvefor = torch.tensor([])\n",
    "    R = EliminateAnalysisMergeResiduals(functions=[residuals[idx] for idx in B])\n",
    "    P = EliminateAnalysis([analyses[idx] for idx in A], [objective,R])\n",
    "    objective_idx,residual_idx,equality_idx,inequality_idx = 0,1,None,None\n",
    "    optim_indices = P.structure[0]\n",
    "    x0 = perturb(xs, delta, optim_indices, seed=seed)\n",
    "    # MAKE SURE TO SET INEQUALITY DIRECTION, it is different for scipy and ipopt\n",
    "    xguess, obj_function, ineq_function, eq_function, dobj, dineq, deq, hobj = generate_optim_functions(P,\n",
    "        optim_indices, x0, inequality_direction='negative-null', \n",
    "        objective=objective_idx, residuals=residual_idx, equalities=equality_idx)\n",
    "    bnds_problem = [(None, None) for elt in optim_indices]\n",
    "    xsol, info,storeiter,elapsed_time = ipoptsolvercon(xguess, obj_function, ineq_function, eq_function, dobj, dineq, deq, bnds_problem)\n",
    "    return x0, storeiter,elapsed_time,info,optim_indices"
   ]
  },
  {
   "cell_type": "code",
   "execution_count": 109,
   "metadata": {},
   "outputs": [
    {
     "name": "stdout",
     "output_type": "stream",
     "text": [
      "4.6420309235691347e-17 Iteration number: 23\n"
     ]
    }
   ],
   "source": [
    "problem_id = 3 # (0,6), (1, infeas), (3,23)\n",
    "n = len(indices)\n",
    "objs = []\n",
    "for i in range(23, 24):\n",
    "    torch.manual_seed(i)\n",
    "    x0 = torch.rand(n, dtype=torch.float64)\n",
    "    # x0 = torch.ones(n, dtype=torch.float64)\n",
    "    xsol, storeiter,elapsed_time,info,_ = runproblem(problem_id, x0, delta=0)\n",
    "    results = {str(key):xsol[val].item() for key,val in indices.items()}\n",
    "    print(info['obj_val'], 'Iteration number:', i)\n",
    "    objs.append(info['obj_val'])"
   ]
  },
  {
   "cell_type": "code",
   "execution_count": 111,
   "metadata": {},
   "outputs": [],
   "source": [
    "name = 'results_polyid_{}.json'.format(str(problem_id))\n",
    "json_string = json.dumps(results, indent=4)\n",
    "with open('../applications/data/{}'.format(name), 'w') as file:\n",
    "    file.write(json_string)"
   ]
  },
  {
   "cell_type": "code",
   "execution_count": 133,
   "metadata": {},
   "outputs": [],
   "source": [
    "name = 'results_polyid_{}'.format(str(problem_id))\n",
    "xs = load_vals(name, indices)"
   ]
  },
  {
   "cell_type": "code",
   "execution_count": 134,
   "metadata": {},
   "outputs": [],
   "source": [
    "xsol, storeiter,elapsed_time,info,optim_indices = runproblem(problem_id, xs, delta=10, seed=37)"
   ]
  },
  {
   "cell_type": "code",
   "execution_count": 139,
   "metadata": {},
   "outputs": [
    {
     "data": {
      "text/plain": [
       "{'x': array([1, 1, -0, 1, 1, 5.33, 4, 0, 1733448.23, -0.14, -3.17, 0, -1.67,\n",
       "        12.25, -1516598.89]),\n",
       " 'g': array([0, -0, 0, 0, 0, -0, 0, 0, -0, 0]),\n",
       " 'obj_val': 1.0000052034951856,\n",
       " 'mult_g': array([-0, 0, -0, -0, 0, 0, 0, 0, -0, 0]),\n",
       " 'mult_x_L': array([0, 0, 0, 0, 0, 0, 0, 0, 0, 0, 0, 0, 0, 0, 0]),\n",
       " 'mult_x_U': array([0, 0, 0, 0, 0, 0, 0, 0, 0, 0, 0, 0, 0, 0, 0]),\n",
       " 'status': 0,\n",
       " 'status_msg': b'Algorithm terminated successfully at a locally optimal point, satisfying the convergence tolerances (can be specified by options).'}"
      ]
     },
     "execution_count": 139,
     "metadata": {},
     "output_type": "execute_result"
    }
   ],
   "source": [
    "info"
   ]
  },
  {
   "cell_type": "code",
   "execution_count": 135,
   "metadata": {},
   "outputs": [
    {
     "name": "stdout",
     "output_type": "stream",
     "text": [
      "x_0      x_1    x_2     x_3     x_4    x_5     x_6     x_7   x_8    x_9     x_10    x_11   x_12    x_13  x_14    \n",
      "-23.333  1      1       -3.167  -0.323 -1.667  1       -4.5  -0.143 17.523  1       1      27.871  3.937 12.25   \n",
      "-233.311 -3.584 -12.141 -24.025 -3.414 -10.411 -24.583 64.59 -1.019 279.374 -13.946 10.703 339.771 4.623 -151.794\n"
     ]
    }
   ],
   "source": [
    "x0 = perturb(xs, 10, optim_indices, seed=37)\n",
    "print_formatted_table([xs, x0], indices, idxrev)"
   ]
  },
  {
   "cell_type": "markdown",
   "metadata": {},
   "source": [
    "### Test robustness of the solution"
   ]
  },
  {
   "cell_type": "code",
   "execution_count": 120,
   "metadata": {},
   "outputs": [],
   "source": [
    "seeds = [59, 45, 22, 20, 28, 57,  2, 42, 27, 37]\n",
    "iters, elapsed_times = [],[]\n",
    "for seed in seeds:\n",
    "    x0 = load_vals(name, indices)\n",
    "    xsol, storeiter,elapsed_time,info = runproblem(problem_id, x0, delta=0.01, seed=seed)\n",
    "    iters.append(storeiter)\n",
    "    elapsed_times.append(elapsed_time)"
   ]
  },
  {
   "cell_type": "code",
   "execution_count": 121,
   "metadata": {},
   "outputs": [
    {
     "data": {
      "text/plain": [
       "[3.424323797225952,\n",
       " 1.1146697998046875,\n",
       " 3.6352338790893555,\n",
       " 1.1356408596038818,\n",
       " 7.380082130432129,\n",
       " 9.535183429718018,\n",
       " 1.466709852218628,\n",
       " 0.7223019599914551,\n",
       " 3.9251134395599365,\n",
       " 18.45064640045166]"
      ]
     },
     "execution_count": 121,
     "metadata": {},
     "output_type": "execute_result"
    }
   ],
   "source": [
    "elapsed_times"
   ]
  },
  {
   "cell_type": "code",
   "execution_count": 116,
   "metadata": {},
   "outputs": [
    {
     "data": {
      "text/plain": [
       "[7.621184587478638,\n",
       " 3.782424211502075,\n",
       " 5.565443992614746,\n",
       " 8.332407474517822,\n",
       " 4.566037178039551,\n",
       " 4.883890628814697,\n",
       " 9.666556358337402,\n",
       " 5.170992851257324,\n",
       " 3.8253605365753174,\n",
       " 3.8964433670043945]"
      ]
     },
     "execution_count": 116,
     "metadata": {},
     "output_type": "execute_result"
    }
   ],
   "source": [
    "elapsed_times"
   ]
  }
 ],
 "metadata": {
  "kernelspec": {
   "display_name": "minimdo",
   "language": "python",
   "name": "python3"
  },
  "language_info": {
   "codemirror_mode": {
    "name": "ipython",
    "version": 3
   },
   "file_extension": ".py",
   "mimetype": "text/x-python",
   "name": "python",
   "nbconvert_exporter": "python",
   "pygments_lexer": "ipython3",
   "version": "3.9.18"
  }
 },
 "nbformat": 4,
 "nbformat_minor": 2
}
