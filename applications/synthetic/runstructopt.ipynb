{
 "cells": [
  {
   "cell_type": "code",
   "execution_count": 1,
   "id": "4ffe5287-95e9-4228-b3d2-fff430d1e4a8",
   "metadata": {
    "execution": {
     "iopub.execute_input": "2022-08-16T17:05:41.716609Z",
     "iopub.status.busy": "2022-08-16T17:05:41.716609Z",
     "iopub.status.idle": "2022-08-16T17:05:43.781086Z",
     "shell.execute_reply": "2022-08-16T17:05:43.780455Z",
     "shell.execute_reply.started": "2022-08-16T17:05:41.716609Z"
    },
    "tags": []
   },
   "outputs": [],
   "source": [
    "from testproblems import random_problem_with_artifacts\n",
    "from datastructures.api import OPT, VAR, COMP, SOLVER, OBJ\n",
    "from datastructures.graphutils import edges_E, all_components, all_variables, sources, edges_to_Ein_Eout, flat_graph_formulation, root_solver, namefromid\n",
    "from datastructures.operators import sort_scc, reorder_merge_solve\n",
    "from datastructures.workflow import get_f, order_from_tree, default_solver_options, mdao_workflow, implicit_comp_name\n",
    "from datastructures.workflow_mdao import mdao_workflow_with_args\n",
    "from datastructures.assembly import build_archi\n",
    "from datastructures.assembly import root_sources\n",
    "from datastructures.execution import Component\n",
    "from datastructures.runpipeline import nestedform_to_mdao\n",
    "from datastructures.tearing import min_max_scc2, dir_graph\n",
    "from datastructures.polycasebuilder import generate_random_polynomials, eqv_to_edges_tree\n",
    "import networkx as nx\n",
    "import numpy as np\n",
    "from datastructures.rendering import render_incidence\n",
    "import time\n",
    "import openmdao.api as om"
   ]
  },
  {
   "cell_type": "code",
   "execution_count": 2,
   "id": "4537b99d-a5ee-4214-927e-44528f8326e8",
   "metadata": {
    "execution": {
     "iopub.execute_input": "2022-08-16T17:05:43.782887Z",
     "iopub.status.busy": "2022-08-16T17:05:43.781774Z",
     "iopub.status.idle": "2022-08-16T17:05:43.796998Z",
     "shell.execute_reply": "2022-08-16T17:05:43.795996Z",
     "shell.execute_reply.started": "2022-08-16T17:05:43.782887Z"
    },
    "tags": []
   },
   "outputs": [],
   "source": [
    "import matplotlib.pyplot as plt\n",
    "plt.rcParams['text.usetex'] = True"
   ]
  },
  {
   "cell_type": "code",
   "execution_count": 3,
   "id": "b7cc90ba-0891-4d41-a993-09d90ac1f945",
   "metadata": {
    "execution": {
     "iopub.execute_input": "2022-08-16T17:05:43.798004Z",
     "iopub.status.busy": "2022-08-16T17:05:43.798004Z",
     "iopub.status.idle": "2022-08-16T17:05:43.812654Z",
     "shell.execute_reply": "2022-08-16T17:05:43.812098Z",
     "shell.execute_reply.started": "2022-08-16T17:05:43.798004Z"
    },
    "tags": []
   },
   "outputs": [],
   "source": [
    "def add_obj(inputids, var_mapping, edges, tree, components):\n",
    "    inputvars = [var_mapping[elt][0] for elt in inputids]\n",
    "    fobj = sum([(elt-1)**2 for elt in inputvars])\n",
    "    newidx = 'obj'#len(edges[1])\n",
    "    arg_mapping={key:v2 for key,(_,v2) in var_mapping.items()}\n",
    "    c = Component.fromsympy(fobj, component=newidx, arg_mapping=arg_mapping)\n",
    "    edges[0][newidx] = c.inputs\n",
    "    edges[1][newidx] = c.outputs\n",
    "    tree[0][newidx] = 1\n",
    "    return components+[c], newidx"
   ]
  },
  {
   "cell_type": "code",
   "execution_count": 4,
   "id": "999a706e-debd-451b-b895-83b2498e9271",
   "metadata": {
    "execution": {
     "iopub.execute_input": "2022-08-16T17:05:43.813829Z",
     "iopub.status.busy": "2022-08-16T17:05:43.813829Z",
     "iopub.status.idle": "2022-08-16T17:05:43.828950Z",
     "shell.execute_reply": "2022-08-16T17:05:43.827869Z",
     "shell.execute_reply.started": "2022-08-16T17:05:43.813829Z"
    },
    "tags": []
   },
   "outputs": [],
   "source": [
    "def generate_mdao_prob(inputids, var_mapping, edges, tree, components, mdf=True):\n",
    "    components, newidx = add_obj(inputids, var_mapping, edges, tree, components) # mutates edges and tree aswell\n",
    "    solvers_options = {1: {'type': OPT, 'disp':False}, 2:{'maxiter':200}}\n",
    "    comp_options = {newidx:OBJ}\n",
    "    dv = root_sources(edges, tree)\n",
    "    for elt in dv:\n",
    "        tree[2][elt] = 1\n",
    "    var_options = {}\n",
    "    nodetyperepr = {VAR: 'x_{}', COMP: 'f_{}', SOLVER: 's_{}'}\n",
    "    prob, mdao_in, groups, formulation,merge_order = nestedform_to_mdao(edges, tree, components, solvers_options, comp_options, var_options, nodetyperepr, mdf)\n",
    "    return prob, groups, formulation, merge_order"
   ]
  },
  {
   "cell_type": "code",
   "execution_count": 5,
   "id": "fb09bae0-8e31-44a7-9cd7-76fed82d77ed",
   "metadata": {
    "execution": {
     "iopub.execute_input": "2022-08-16T17:05:43.829964Z",
     "iopub.status.busy": "2022-08-16T17:05:43.829964Z",
     "iopub.status.idle": "2022-08-16T17:05:43.844961Z",
     "shell.execute_reply": "2022-08-16T17:05:43.843960Z",
     "shell.execute_reply.started": "2022-08-16T17:05:43.829964Z"
    },
    "tags": []
   },
   "outputs": [],
   "source": [
    "def measure_optimization(prob, groups, Stree):\n",
    "    try:\n",
    "        prob.set_solver_print(-1)\n",
    "        tic = time.perf_counter()\n",
    "        prob.run_driver()\n",
    "        toc = time.perf_counter()\n",
    "        total_iters = 0\n",
    "        for key,var in Stree.items():\n",
    "            parent = groups['s_{}'.format(var)]\n",
    "            total_iters += getattr(parent, 's_{}'.format(key)).iter_count_apply\n",
    "        objiter = groups['s_1'].f_obj.iter_count\n",
    "        return prob.driver.result.fun, total_iters, objiter, toc-tic\n",
    "    except:\n",
    "        return 999, None, None, None"
   ]
  },
  {
   "cell_type": "code",
   "execution_count": 6,
   "id": "2cf6f900-d11d-4b5a-9ad3-5f3441b6a614",
   "metadata": {
    "execution": {
     "iopub.execute_input": "2022-08-16T17:05:43.845961Z",
     "iopub.status.busy": "2022-08-16T17:05:43.845961Z",
     "iopub.status.idle": "2022-08-16T17:05:43.860144Z",
     "shell.execute_reply": "2022-08-16T17:05:43.859142Z",
     "shell.execute_reply.started": "2022-08-16T17:05:43.845961Z"
    },
    "tags": []
   },
   "outputs": [],
   "source": [
    "inputids_store = {}"
   ]
  },
  {
   "cell_type": "code",
   "execution_count": 7,
   "id": "e910201d-bba6-4fb3-af9b-508909c155d1",
   "metadata": {
    "execution": {
     "iopub.execute_input": "2022-08-16T17:05:43.861145Z",
     "iopub.status.busy": "2022-08-16T17:05:43.860144Z",
     "iopub.status.idle": "2022-08-16T17:05:43.875855Z",
     "shell.execute_reply": "2022-08-16T17:05:43.875225Z",
     "shell.execute_reply.started": "2022-08-16T17:05:43.861145Z"
    },
    "tags": []
   },
   "outputs": [],
   "source": [
    "def min_max_scc_calculations(eq_incidence=None, edges_varonleft=None, varidxs=None, eqnidxs=None, outset=None, probtype=None, seed_poly=None, mdf=None, **kwargs):\n",
    "    if probtype == 2:\n",
    "        xsol, m = min_max_scc2(edges_varonleft, varidxs, eqnidxs, timeout=100)\n",
    "        if xsol:\n",
    "            outset = dict((right, left) for left, right in edges_varonleft if xsol[left, right] > 0.5)\n",
    "        else:\n",
    "            return 999, 999, None, None, None\n",
    "    D = nx.DiGraph(dir_graph(edges_varonleft, eqnidxs, outset.items()))\n",
    "    sccsize = max(len(elt) for elt in nx.strongly_connected_components(D))//2\n",
    "    rng = np.random.default_rng(seed_poly)\n",
    "    _, var_mapping, edges, tree, components = generate_random_polynomials(eq_incidence, outset, len(eqnidxs), rng)\n",
    "    identifier = (kwargs['m'], kwargs['n'], kwargs['sparsity'], kwargs['seed'])\n",
    "    if probtype == 2:\n",
    "        inputids = sources(*edges_to_Ein_Eout(edges))\n",
    "        inputids_store[identifier] = inputids\n",
    "    else:\n",
    "        inputids = inputids_store[identifier]\n",
    "    prob, groups, formulation,_ = generate_mdao_prob(inputids, var_mapping, edges, tree, components, mdf)\n",
    "    optim_results = measure_optimization(prob, groups, formulation[1][1])\n",
    "    return (sccsize,)+optim_results"
   ]
  },
  {
   "cell_type": "code",
   "execution_count": 8,
   "id": "5f52acf1-038a-48ed-b86b-66b0e99709c0",
   "metadata": {
    "execution": {
     "iopub.execute_input": "2022-08-16T17:05:43.877356Z",
     "iopub.status.busy": "2022-08-16T17:05:43.876855Z",
     "iopub.status.idle": "2022-08-16T17:05:43.890692Z",
     "shell.execute_reply": "2022-08-16T17:05:43.890354Z",
     "shell.execute_reply.started": "2022-08-16T17:05:43.877356Z"
    },
    "tags": []
   },
   "outputs": [],
   "source": [
    "def generate_artifacts(m,n,sparsity,seed,probtype,seed_poly,mdf):\n",
    "    kwargs = random_problem_with_artifacts(m,n,seed,sparsity)\n",
    "    kwargs.update({\n",
    "        \"seed_poly\": seed_poly,\n",
    "        \"probtype\": probtype,\n",
    "        \"mdf\": mdf\n",
    "    })\n",
    "    return kwargs"
   ]
  },
  {
   "cell_type": "markdown",
   "id": "177cc12b-beca-4fc0-b27f-8cef1b4d3287",
   "metadata": {},
   "source": [
    "## Chapter example"
   ]
  },
  {
   "cell_type": "code",
   "execution_count": 162,
   "id": "3f92a07e-4240-4885-80ba-63b368d4e285",
   "metadata": {
    "execution": {
     "iopub.execute_input": "2022-08-16T17:24:15.236863Z",
     "iopub.status.busy": "2022-08-16T17:24:15.236863Z",
     "iopub.status.idle": "2022-08-16T17:24:15.250844Z",
     "shell.execute_reply": "2022-08-16T17:24:15.250441Z",
     "shell.execute_reply.started": "2022-08-16T17:24:15.236863Z"
    },
    "tags": []
   },
   "outputs": [],
   "source": [
    "kwargs = generate_artifacts(10,15,1.5,42,1,0,False) # 42 fails, need to debug"
   ]
  },
  {
   "cell_type": "code",
   "execution_count": 163,
   "id": "1359169b-411e-43a9-8399-30c50e204db2",
   "metadata": {
    "execution": {
     "iopub.execute_input": "2022-08-16T17:24:15.463246Z",
     "iopub.status.busy": "2022-08-16T17:24:15.462253Z",
     "iopub.status.idle": "2022-08-16T17:24:15.470477Z",
     "shell.execute_reply": "2022-08-16T17:24:15.469554Z",
     "shell.execute_reply.started": "2022-08-16T17:24:15.463246Z"
    },
    "tags": []
   },
   "outputs": [],
   "source": [
    "#inputids_store"
   ]
  },
  {
   "cell_type": "code",
   "execution_count": 164,
   "id": "12e58255-06e1-4288-8fac-7b0cbc779df5",
   "metadata": {
    "execution": {
     "iopub.execute_input": "2022-08-16T17:24:15.647666Z",
     "iopub.status.busy": "2022-08-16T17:24:15.647666Z",
     "iopub.status.idle": "2022-08-16T17:24:15.656771Z",
     "shell.execute_reply": "2022-08-16T17:24:15.655659Z",
     "shell.execute_reply.started": "2022-08-16T17:24:15.647666Z"
    },
    "tags": []
   },
   "outputs": [],
   "source": [
    "#min_max_scc_calculations(**kwargs)"
   ]
  },
  {
   "cell_type": "code",
   "execution_count": 165,
   "id": "6ae0787a-508b-46db-8add-950f8b5460ad",
   "metadata": {
    "execution": {
     "iopub.execute_input": "2022-08-16T17:24:15.876546Z",
     "iopub.status.busy": "2022-08-16T17:24:15.875576Z",
     "iopub.status.idle": "2022-08-16T17:24:15.890042Z",
     "shell.execute_reply": "2022-08-16T17:24:15.889099Z",
     "shell.execute_reply.started": "2022-08-16T17:24:15.876546Z"
    },
    "tags": []
   },
   "outputs": [],
   "source": [
    "edges_varonleft, varidxs, eqnidxs = (kwargs[key] for key in ['edges_varonleft','varidxs','eqnidxs'])"
   ]
  },
  {
   "cell_type": "code",
   "execution_count": 279,
   "id": "2a1e2ee6-6113-4d9f-b985-41257234aab5",
   "metadata": {
    "execution": {
     "iopub.execute_input": "2022-08-16T17:48:46.837440Z",
     "iopub.status.busy": "2022-08-16T17:48:46.836440Z",
     "iopub.status.idle": "2022-08-16T17:48:46.994426Z",
     "shell.execute_reply": "2022-08-16T17:48:46.993809Z",
     "shell.execute_reply.started": "2022-08-16T17:48:46.837440Z"
    },
    "tags": []
   },
   "outputs": [],
   "source": [
    "xsol, m = min_max_scc2(edges_varonleft, varidxs, eqnidxs, timeout=100)\n",
    "outset = dict((right, left) for left, right in edges_varonleft if xsol[left, right] > 0.5)"
   ]
  },
  {
   "cell_type": "code",
   "execution_count": 280,
   "id": "db5c54a6-8af8-4da9-bdb6-77c839d9c59d",
   "metadata": {
    "execution": {
     "iopub.execute_input": "2022-08-16T17:48:47.179914Z",
     "iopub.status.busy": "2022-08-16T17:48:47.178900Z",
     "iopub.status.idle": "2022-08-16T17:48:47.200810Z",
     "shell.execute_reply": "2022-08-16T17:48:47.198804Z",
     "shell.execute_reply.started": "2022-08-16T17:48:47.179914Z"
    },
    "tags": []
   },
   "outputs": [],
   "source": [
    "#outset = kwargs['outset']"
   ]
  },
  {
   "cell_type": "code",
   "execution_count": 341,
   "id": "1fe27390-993d-4188-a5a3-f513ccbdb4f0",
   "metadata": {
    "execution": {
     "iopub.execute_input": "2022-08-16T17:57:36.442529Z",
     "iopub.status.busy": "2022-08-16T17:57:36.442529Z",
     "iopub.status.idle": "2022-08-16T17:57:36.451516Z",
     "shell.execute_reply": "2022-08-16T17:57:36.450520Z",
     "shell.execute_reply.started": "2022-08-16T17:57:36.442529Z"
    },
    "tags": []
   },
   "outputs": [],
   "source": [
    "D = nx.DiGraph(dir_graph(edges_varonleft, eqnidxs, outset.items()))\n",
    "minssc = max(len(elt) for elt in nx.strongly_connected_components(D))//2"
   ]
  },
  {
   "cell_type": "code",
   "execution_count": 342,
   "id": "87766882-1ccd-4532-aea4-1ace8847949e",
   "metadata": {
    "execution": {
     "iopub.execute_input": "2022-08-16T17:57:36.619244Z",
     "iopub.status.busy": "2022-08-16T17:57:36.619244Z",
     "iopub.status.idle": "2022-08-16T17:57:36.638618Z",
     "shell.execute_reply": "2022-08-16T17:57:36.637620Z",
     "shell.execute_reply.started": "2022-08-16T17:57:36.619244Z"
    },
    "tags": []
   },
   "outputs": [
    {
     "data": {
      "text/plain": [
       "6"
      ]
     },
     "execution_count": 342,
     "metadata": {},
     "output_type": "execute_result"
    }
   ],
   "source": [
    "minssc"
   ]
  },
  {
   "cell_type": "code",
   "execution_count": 343,
   "id": "8476feba-f519-4dd1-8f69-7a0eddb9f41d",
   "metadata": {
    "execution": {
     "iopub.execute_input": "2022-08-16T17:57:37.544551Z",
     "iopub.status.busy": "2022-08-16T17:57:37.544551Z",
     "iopub.status.idle": "2022-08-16T17:57:37.552252Z",
     "shell.execute_reply": "2022-08-16T17:57:37.551339Z",
     "shell.execute_reply.started": "2022-08-16T17:57:37.544551Z"
    },
    "tags": []
   },
   "outputs": [],
   "source": [
    "outset=kwargs[\"outset\"]"
   ]
  },
  {
   "cell_type": "code",
   "execution_count": 355,
   "id": "5f64db1b-0cff-4ef9-9c47-990e2eac9054",
   "metadata": {
    "execution": {
     "iopub.execute_input": "2022-08-16T18:01:06.255819Z",
     "iopub.status.busy": "2022-08-16T18:01:06.254818Z",
     "iopub.status.idle": "2022-08-16T18:01:06.272586Z",
     "shell.execute_reply": "2022-08-16T18:01:06.271836Z",
     "shell.execute_reply.started": "2022-08-16T18:01:06.255819Z"
    },
    "tags": []
   },
   "outputs": [],
   "source": [
    "mdf = True"
   ]
  },
  {
   "cell_type": "code",
   "execution_count": 356,
   "id": "6d0dec37-3cdb-42e4-9f20-a5aa21d765ea",
   "metadata": {
    "execution": {
     "iopub.execute_input": "2022-08-16T18:01:06.651878Z",
     "iopub.status.busy": "2022-08-16T18:01:06.651878Z",
     "iopub.status.idle": "2022-08-16T18:01:06.663267Z",
     "shell.execute_reply": "2022-08-16T18:01:06.662652Z",
     "shell.execute_reply.started": "2022-08-16T18:01:06.651878Z"
    },
    "tags": []
   },
   "outputs": [],
   "source": [
    "eq_incidence = kwargs[\"eq_incidence\"]"
   ]
  },
  {
   "cell_type": "code",
   "execution_count": 357,
   "id": "347a6f34-2a40-4c3d-8056-947a6793139f",
   "metadata": {
    "execution": {
     "iopub.execute_input": "2022-08-16T18:01:06.855140Z",
     "iopub.status.busy": "2022-08-16T18:01:06.855140Z",
     "iopub.status.idle": "2022-08-16T18:01:07.286111Z",
     "shell.execute_reply": "2022-08-16T18:01:07.285017Z",
     "shell.execute_reply.started": "2022-08-16T18:01:06.855140Z"
    },
    "tags": []
   },
   "outputs": [],
   "source": [
    "rng = np.random.default_rng(kwargs[\"seed_poly\"])\n",
    "polys, var_mapping, edges, tree, components = generate_random_polynomials(eq_incidence, outset, len(kwargs[\"eqnidxs\"]), rng)\n",
    "#inputids = sources(*edges_to_Ein_Eout(edges))\n",
    "identifier = (kwargs['m'], kwargs['n'], kwargs['sparsity'], kwargs['seed'])\n",
    "inputids_store[identifier] = inputids\n",
    "inputids = inputids_store[identifier]"
   ]
  },
  {
   "cell_type": "code",
   "execution_count": 358,
   "id": "0fe736a1-b75f-4e17-9893-ead992aac240",
   "metadata": {
    "execution": {
     "iopub.execute_input": "2022-08-16T18:01:07.287117Z",
     "iopub.status.busy": "2022-08-16T18:01:07.287117Z",
     "iopub.status.idle": "2022-08-16T18:01:07.300331Z",
     "shell.execute_reply": "2022-08-16T18:01:07.300158Z",
     "shell.execute_reply.started": "2022-08-16T18:01:07.287117Z"
    },
    "tags": []
   },
   "outputs": [
    {
     "data": {
      "text/plain": [
       "{(10, 15, 1.0, 2): {0, 2, 10, 11, 13},\n",
       " (10, 15, 1.0, 42): {0, 1, 3, 6, 12},\n",
       " (10, 15, 1.5, 42): {7, 9, 12, 13, 14}}"
      ]
     },
     "execution_count": 358,
     "metadata": {},
     "output_type": "execute_result"
    }
   ],
   "source": [
    "inputids_store"
   ]
  },
  {
   "cell_type": "code",
   "execution_count": 359,
   "id": "9784d0c4-2c28-4aa1-8bdf-7ec8a402c45c",
   "metadata": {
    "execution": {
     "iopub.execute_input": "2022-08-16T18:01:08.585269Z",
     "iopub.status.busy": "2022-08-16T18:01:08.585269Z",
     "iopub.status.idle": "2022-08-16T18:01:08.601427Z",
     "shell.execute_reply": "2022-08-16T18:01:08.600467Z",
     "shell.execute_reply.started": "2022-08-16T18:01:08.585269Z"
    },
    "tags": []
   },
   "outputs": [],
   "source": [
    "edges_sand = ({comp:tuple(var-10 for var in compvars) for comp, compvars in eq_incidence.items()}, {comp: (None,) for comp in eq_incidence.keys()},{})\n",
    "tree_sand = (tree[0],{},{var:1 for var in range(len(varidxs))})\n",
    "#edges = edges_sand\n",
    "#tree = tree_sand"
   ]
  },
  {
   "cell_type": "code",
   "execution_count": 360,
   "id": "1cec7b54-6ba1-4e3f-ad8d-a4a1e849f38b",
   "metadata": {
    "execution": {
     "iopub.execute_input": "2022-08-16T18:01:08.760360Z",
     "iopub.status.busy": "2022-08-16T18:01:08.760360Z",
     "iopub.status.idle": "2022-08-16T18:01:08.772353Z",
     "shell.execute_reply": "2022-08-16T18:01:08.771355Z",
     "shell.execute_reply.started": "2022-08-16T18:01:08.760360Z"
    },
    "tags": []
   },
   "outputs": [],
   "source": [
    "components, newidx = add_obj(inputids, var_mapping, edges, tree, components) # mutates edges and tree aswell\n",
    "solvers_options = {1: {'type': OPT, 'disp':True}, 2:{'maxiter':30}}\n",
    "comp_options = {newidx:OBJ}\n",
    "dv = root_sources(edges, tree)\n",
    "for elt in dv:\n",
    "    tree[2][elt] = 1\n",
    "var_options = {}\n",
    "nodetyperepr = {VAR: 'x_{}', COMP: 'f_{}', SOLVER: 's_{}'}"
   ]
  },
  {
   "cell_type": "code",
   "execution_count": 361,
   "id": "25660b85-782a-48f8-b97f-68428693253f",
   "metadata": {
    "execution": {
     "iopub.execute_input": "2022-08-16T18:01:08.910468Z",
     "iopub.status.busy": "2022-08-16T18:01:08.910468Z",
     "iopub.status.idle": "2022-08-16T18:01:08.927466Z",
     "shell.execute_reply": "2022-08-16T18:01:08.926561Z",
     "shell.execute_reply.started": "2022-08-16T18:01:08.910468Z"
    },
    "tags": []
   },
   "outputs": [],
   "source": [
    "G = flat_graph_formulation(*edges)\n",
    "merge_order = sort_scc(G)\n",
    "merge_parent = root_solver(tree) # all merged components will have this solver as the parent\n",
    "ordered_edges, ordered_tree = reorder_merge_solve(edges, tree, merge_order, merge_parent, mdf)"
   ]
  },
  {
   "cell_type": "code",
   "execution_count": 362,
   "id": "6f6fda21-1d7e-4e5d-bfd7-9c1ecc58e12e",
   "metadata": {
    "execution": {
     "iopub.execute_input": "2022-08-16T18:01:09.559681Z",
     "iopub.status.busy": "2022-08-16T18:01:09.559681Z",
     "iopub.status.idle": "2022-08-16T18:01:09.580671Z",
     "shell.execute_reply": "2022-08-16T18:01:09.579760Z",
     "shell.execute_reply.started": "2022-08-16T18:01:09.559681Z"
    },
    "tags": []
   },
   "outputs": [],
   "source": [
    "namingfunc = namefromid(nodetyperepr)\n",
    "sequence = order_from_tree(ordered_tree[0], ordered_tree[1], ordered_edges[1])\n",
    "solvers_options = default_solver_options(ordered_tree, solvers_options)\n",
    "wf = mdao_workflow(sequence, solvers_options, comp_options, var_options)\n",
    "lookup_f = get_f(components, ordered_edges)\n",
    "wfmdao = mdao_workflow_with_args(wf, lookup_f, namingfunc)\n",
    "prob, mdao_in, groups = build_archi(ordered_edges, ordered_tree, wfmdao, namingfunc)"
   ]
  },
  {
   "cell_type": "code",
   "execution_count": 363,
   "id": "4f6a1f2a-56cc-4d1f-bff3-eb915a7e77a8",
   "metadata": {
    "execution": {
     "iopub.execute_input": "2022-08-16T18:01:13.644476Z",
     "iopub.status.busy": "2022-08-16T18:01:13.644476Z",
     "iopub.status.idle": "2022-08-16T18:01:13.657061Z",
     "shell.execute_reply": "2022-08-16T18:01:13.656101Z",
     "shell.execute_reply.started": "2022-08-16T18:01:13.644476Z"
    },
    "tags": []
   },
   "outputs": [],
   "source": [
    "#From Homotopy method\n",
    "sol = 0.09036144578313257, 0.7649110640673518, 4.0, 1.5, -45.999999999999986, 27.666666666666657, 12.499999999999998, 1.0, -0.9176446262711492, 1.0, 0.5360617022596399, 2.5644074892609523, 1.0, 1.0, 1.0\n",
    "for idx,elt in enumerate(sol):\n",
    "    prob.set_val('x_{}'.format(idx), 1.01*elt)"
   ]
  },
  {
   "cell_type": "code",
   "execution_count": 364,
   "id": "82d0548f-00ea-4cf0-a3ba-c769dbf3c682",
   "metadata": {
    "execution": {
     "iopub.execute_input": "2022-08-16T18:01:14.205626Z",
     "iopub.status.busy": "2022-08-16T18:01:14.205626Z",
     "iopub.status.idle": "2022-08-16T18:01:18.225550Z",
     "shell.execute_reply": "2022-08-16T18:01:18.224640Z",
     "shell.execute_reply.started": "2022-08-16T18:01:14.205626Z"
    },
    "tags": []
   },
   "outputs": [
    {
     "name": "stdout",
     "output_type": "stream",
     "text": [
      "\n",
      "===\n",
      "s_2\n",
      "===\n",
      "NL: Newton Converged in 3 iterations\n",
      "\n",
      "===\n",
      "s_2\n",
      "===\n",
      "NL: Newton Converged in 0 iterations\n",
      "\n",
      "===\n",
      "s_2\n",
      "===\n",
      "NL: Newton Converged in 4 iterations\n",
      "\n",
      "===\n",
      "s_2\n",
      "===\n",
      "NL: Newton Converged in 6 iterations\n",
      "\n",
      "===\n",
      "s_2\n",
      "===\n",
      "NL: Newton Converged in 5 iterations\n",
      "\n",
      "===\n",
      "s_2\n",
      "===\n",
      "NL: Newton Converged in 3 iterations\n",
      "\n",
      "===\n",
      "s_2\n",
      "===\n",
      "NL: Newton Converged in 3 iterations\n",
      "\n",
      "===\n",
      "s_2\n",
      "===\n",
      "NL: Newton Converged in 4 iterations\n",
      "\n",
      "===\n",
      "s_2\n",
      "===\n",
      "NL: Newton Converged in 4 iterations\n",
      "\n",
      "===\n",
      "s_2\n",
      "===\n",
      "NL: Newton Converged in 3 iterations\n",
      "\n",
      "===\n",
      "s_2\n",
      "===\n",
      "NL: Newton Converged in 3 iterations\n",
      "\n",
      "===\n",
      "s_2\n",
      "===\n",
      "NL: Newton Converged in 3 iterations\n",
      "\n",
      "===\n",
      "s_2\n",
      "===\n",
      "NL: Newton Converged in 3 iterations\n",
      "Optimization terminated successfully    (Exit mode 0)\n",
      "            Current function value: [6.52881494e-06]\n",
      "            Iterations: 6\n",
      "            Function evaluations: 12\n",
      "            Gradient evaluations: 6\n",
      "Optimization Complete\n",
      "-----------------------------------\n"
     ]
    }
   ],
   "source": [
    "prob.run_driver();"
   ]
  },
  {
   "cell_type": "code",
   "execution_count": 294,
   "id": "5c0502c9-6104-4265-97c3-a700b825aed5",
   "metadata": {
    "execution": {
     "iopub.execute_input": "2022-08-16T17:49:03.986966Z",
     "iopub.status.busy": "2022-08-16T17:49:03.985954Z",
     "iopub.status.idle": "2022-08-16T17:49:03.994259Z",
     "shell.execute_reply": "2022-08-16T17:49:03.993262Z",
     "shell.execute_reply.started": "2022-08-16T17:49:03.986966Z"
    },
    "tags": []
   },
   "outputs": [
    {
     "data": {
      "text/plain": [
       "4"
      ]
     },
     "execution_count": 294,
     "metadata": {},
     "output_type": "execute_result"
    }
   ],
   "source": [
    "groups['s_2'].iter_count"
   ]
  },
  {
   "cell_type": "code",
   "execution_count": 218,
   "id": "4a852a12-ce08-4d12-87cc-d0d920677a42",
   "metadata": {
    "execution": {
     "iopub.execute_input": "2022-08-16T17:32:41.597589Z",
     "iopub.status.busy": "2022-08-16T17:32:41.596572Z",
     "iopub.status.idle": "2022-08-16T17:32:41.604494Z",
     "shell.execute_reply": "2022-08-16T17:32:41.604494Z",
     "shell.execute_reply.started": "2022-08-16T17:32:41.597589Z"
    },
    "tags": []
   },
   "outputs": [],
   "source": [
    "from utils import normalize_name\n",
    "from sympy import latex"
   ]
  },
  {
   "cell_type": "code",
   "execution_count": 222,
   "id": "00c9f776-c043-42a5-b886-39f25904297c",
   "metadata": {
    "execution": {
     "iopub.execute_input": "2022-08-16T17:34:54.283414Z",
     "iopub.status.busy": "2022-08-16T17:34:54.283414Z",
     "iopub.status.idle": "2022-08-16T17:34:54.294913Z",
     "shell.execute_reply": "2022-08-16T17:34:54.294007Z",
     "shell.execute_reply.started": "2022-08-16T17:34:54.283414Z"
    },
    "tags": []
   },
   "outputs": [
    {
     "name": "stdout",
     "output_type": "stream",
     "text": [
      "& 0.6 x_{12} x_{6} + 0.8 x_{3} x_{7} + 0.2 x_{4} + 0.5=0 \\\\\n",
      "& 0.5 x_{1} x_{13} x_{9} - 0.9 x_{10} x_{12} - 0.6 x_{14} + 0.7=0 \\\\\n",
      "& 0.3 x_{11} x_{12} + 0.2 x_{2} x_{3} x_{5} - 0.8 x_{4} x_{8} - 0.2=0 \\\\\n",
      "& 0.4 x_{1} x_{14} x_{7} + 0.3 x_{11} x_{8} + 0.4=0 \\\\\n",
      "& 0.1 x_{14} x_{4} + 0.4 x_{6} x_{7} - 0.4=0 \\\\\n",
      "& - 0.3 x_{14} x_{6} x_{7} + 0.1 x_{3} x_{5} - 0.4=0 \\\\\n",
      "& 0.8 x_{13} x_{9} - 0.2 x_{14} x_{3} - 0.5=0 \\\\\n",
      "& 0.2 x_{2} - 0.8=0 \\\\\n",
      "& 0.8 x_{0} x_{5} - 0.3 x_{12} x_{2} - 0.7 x_{9} - 0.1=0 \\\\\n",
      "& - 0.5 x_{1} x_{11} x_{8} - 0.9=0 \\\\\n"
     ]
    }
   ],
   "source": [
    "for key, var in polys.items():\n",
    "    print('& '+latex(var)+r'=0 \\\\')"
   ]
  },
  {
   "cell_type": "code",
   "execution_count": 151,
   "id": "02062d11-f813-41a4-92b5-0ea4c19b6ff3",
   "metadata": {
    "execution": {
     "iopub.execute_input": "2022-08-16T17:21:19.497479Z",
     "iopub.status.busy": "2022-08-16T17:21:19.496564Z",
     "iopub.status.idle": "2022-08-16T17:21:19.515032Z",
     "shell.execute_reply": "2022-08-16T17:21:19.514830Z",
     "shell.execute_reply.started": "2022-08-16T17:21:19.497479Z"
    },
    "tags": []
   },
   "outputs": [
    {
     "name": "stdout",
     "output_type": "stream",
     "text": [
      "@var x_0, x_1, x_2, x_3, x_4, x_5, x_6, x_7, x_8, x_9, x_10, x_11, x_12, x_13, x_14\n",
      "@var λ[1:10];\n",
      "h0=0.6*x_12*x_6 + 0.8*x_3*x_7 + 0.2*x_4 + 0.5;\n",
      "h1=0.5*x_1*x_13*x_9 - 0.9*x_10*x_12 - 0.6*x_14 + 0.7;\n",
      "h2=0.3*x_11*x_12 + 0.2*x_2*x_3*x_5 - 0.8*x_4*x_8 - 0.2;\n",
      "h3=0.4*x_1*x_14*x_7 + 0.3*x_11*x_8 + 0.4;\n",
      "h4=0.1*x_14*x_4 + 0.4*x_6*x_7 - 0.4;\n",
      "h5=-0.3*x_14*x_6*x_7 + 0.1*x_3*x_5 - 0.4;\n",
      "h6=0.8*x_13*x_9 - 0.2*x_14*x_3 - 0.5;\n",
      "h7=0.2*x_2 - 0.8;\n",
      "h8=0.8*x_0*x_5 - 0.3*x_12*x_2 - 0.7*x_9 - 0.1;\n",
      "h9=-0.5*x_1*x_11*x_8 - 0.9;\n",
      "vars=[x_0, x_1, x_2, x_3, x_4, x_5, x_6, x_7, x_8, x_9, x_10, x_11, x_12, x_13, x_14]\n",
      "dfdx=[0, 0, 0, 0, 0, 0, 0, 2x_7-2, 0, 2x_9-2, 0, 0, 2x_12-2, 2x_13-2, 2x_14-2]\n",
      "h=[h0, h1, h2, h3, h4, h5, h6, h7, h8, h9];\n"
     ]
    }
   ],
   "source": [
    "vrs = list(range(len(kwargs[\"varidxs\"])))\n",
    "reqeqs = kwargs[\"eq_incidence\"]\n",
    "n_eqs = len(kwargs[\"eqnidxs\"])\n",
    "print('@var {}'.format(\", \".join(['x_{}'.format(vr) for vr in vrs])))\n",
    "print('@var λ[1:{}];'.format(n_eqs))\n",
    "for key, var in polys.items():\n",
    "    print('h{}={};'.format(key, normalize_name(str(var), keep_underscore=True)))\n",
    "print('vars=[{}]'.format(\", \".join(['x_{}'.format(vr) for vr in vrs])))\n",
    "print('dfdx=[{}]'.format(\", \".join([str(0) if vr not in inputids else '2x_{}-2'.format(vr) for vr in vrs])))\n",
    "print('h=[{}];'.format(\", \".join(['h{}'.format(eq) for eq in polys.keys()])))"
   ]
  },
  {
   "cell_type": "code",
   "execution_count": 353,
   "id": "e49b3c0c-f343-49d7-8d37-60a078c58ada",
   "metadata": {
    "execution": {
     "iopub.execute_input": "2022-08-16T17:57:56.534696Z",
     "iopub.status.busy": "2022-08-16T17:57:56.534696Z",
     "iopub.status.idle": "2022-08-16T17:57:56.543292Z",
     "shell.execute_reply": "2022-08-16T17:57:56.542685Z",
     "shell.execute_reply.started": "2022-08-16T17:57:56.534696Z"
    },
    "tags": []
   },
   "outputs": [],
   "source": [
    "#prob.list_problem_vars(cons_opts=['lower', 'upper', 'equals'])"
   ]
  },
  {
   "cell_type": "code",
   "execution_count": 354,
   "id": "761b89a7-c330-45ec-bc70-5bb257de6b4d",
   "metadata": {
    "execution": {
     "iopub.execute_input": "2022-08-16T17:57:56.938285Z",
     "iopub.status.busy": "2022-08-16T17:57:56.938285Z",
     "iopub.status.idle": "2022-08-16T17:57:57.264857Z",
     "shell.execute_reply": "2022-08-16T17:57:57.264384Z",
     "shell.execute_reply.started": "2022-08-16T17:57:56.938285Z"
    },
    "tags": []
   },
   "outputs": [
    {
     "data": {
      "image/png": "[encoded data removed]",
      "text/plain": [
       "<Figure size 360x360 with 1 Axes>"
      ]
     },
     "metadata": {
      "needs_background": "light"
     },
     "output_type": "display_data"
    }
   ],
   "source": [
    "#synthetic_initial_blockmdf.png\n",
    "save_img = True\n",
    "vizargs_latex_largematrix = {'figsize':(5,5), 'rotation':60, 'hideticks':True, 'save':save_img, 'fontsize':22, 'patchwidth':4}\n",
    "render_incidence(ordered_edges, ordered_tree, figname=\"synthetic_initial_blockidf.png\", **vizargs_latex_largematrix);"
   ]
  },
  {
   "cell_type": "code",
   "execution_count": null,
   "id": "23babdb3-4cd9-4add-b491-16af27228923",
   "metadata": {},
   "outputs": [],
   "source": []
  },
  {
   "cell_type": "code",
   "execution_count": 37,
   "id": "61fcca8b-e2c7-4f9d-9ae9-6afbe9cc34e7",
   "metadata": {
    "execution": {
     "iopub.execute_input": "2022-08-16T15:30:03.738057Z",
     "iopub.status.busy": "2022-08-16T15:30:03.738057Z",
     "iopub.status.idle": "2022-08-16T15:30:03.750485Z",
     "shell.execute_reply": "2022-08-16T15:30:03.750256Z",
     "shell.execute_reply.started": "2022-08-16T15:30:03.738057Z"
    },
    "tags": []
   },
   "outputs": [],
   "source": [
    "ordered_tree = {i:1 for i in range(10)} | {'obj':1}, ordered_tree[1], ordered_tree[1]"
   ]
  },
  {
   "cell_type": "code",
   "execution_count": 39,
   "id": "84237dd8-d51e-4311-936d-b802336608bc",
   "metadata": {
    "execution": {
     "iopub.execute_input": "2022-08-16T15:30:32.371735Z",
     "iopub.status.busy": "2022-08-16T15:30:32.371735Z",
     "iopub.status.idle": "2022-08-16T15:30:32.751111Z",
     "shell.execute_reply": "2022-08-16T15:30:32.750191Z",
     "shell.execute_reply.started": "2022-08-16T15:30:32.371735Z"
    },
    "tags": []
   },
   "outputs": [
    {
     "data": {
      "image/png": "[encoded data removed]",
      "text/plain": [
       "<Figure size 360x360 with 1 Axes>"
      ]
     },
     "metadata": {
      "needs_background": "light"
     },
     "output_type": "display_data"
    }
   ],
   "source": [
    "#synthetic_initial_blockmdf.png\n",
    "save_img = True\n",
    "vizargs_latex_largematrix = {'figsize':(5,5), 'rotation':60, 'hideticks':True, 'save':save_img, 'fontsize':22, 'patchwidth':4}\n",
    "render_incidence(ordered_edges, ordered_tree, figname='synthetic_opt_sand.png', **vizargs_latex_largematrix);"
   ]
  },
  {
   "cell_type": "markdown",
   "id": "c56fd270-3fab-4fa6-ab49-c551c7cb0aa4",
   "metadata": {},
   "source": [
    "## Full scale"
   ]
  },
  {
   "cell_type": "code",
   "execution_count": 135,
   "id": "290d5791-ff66-47b6-a54b-0277caf5267a",
   "metadata": {
    "execution": {
     "iopub.execute_input": "2022-07-12T04:20:03.784367Z",
     "iopub.status.busy": "2022-07-12T04:20:03.783791Z",
     "iopub.status.idle": "2022-07-12T04:20:03.793769Z",
     "shell.execute_reply": "2022-07-12T04:20:03.792592Z",
     "shell.execute_reply.started": "2022-07-12T04:20:03.784367Z"
    },
    "tags": []
   },
   "outputs": [],
   "source": [
    "from experimentutils import run_calculations\n",
    "from itertools import product\n",
    "import pandas as pd"
   ]
  },
  {
   "cell_type": "code",
   "execution_count": 136,
   "id": "59473d4f-35dc-4d77-bdc0-e6c42e5f6336",
   "metadata": {
    "execution": {
     "iopub.execute_input": "2022-07-12T04:20:06.172129Z",
     "iopub.status.busy": "2022-07-12T04:20:06.172129Z",
     "iopub.status.idle": "2022-07-12T04:20:06.196115Z",
     "shell.execute_reply": "2022-07-12T04:20:06.195114Z",
     "shell.execute_reply.started": "2022-07-12T04:20:06.172129Z"
    },
    "tags": []
   },
   "outputs": [],
   "source": [
    "def generate_problem(*args, df=None):\n",
    "    data = []\n",
    "    colnames = [\"m\", \"ncoeff\", \"n\", \"sparsity\", \"seed\", \"poly_seed\", \"prob_type\",\"mdf\"]\n",
    "    for m,ncoeff,sparsity,seed,poly_seed,prob_type,mdf in product(*args):\n",
    "        n=m+int(ncoeff*m)\n",
    "        if df is None or ((m, ncoeff, n, sparsity, seed, poly_seed, prob_type,mdf) not in df[colnames].itertuples(index=False)):\n",
    "            data.append([m, ncoeff, n, sparsity, seed, poly_seed, prob_type,mdf])\n",
    "    df2 = pd.DataFrame(data, columns=colnames)\n",
    "    if df is not None:\n",
    "        df2 = pd.concat([df, df2], ignore_index=True)\n",
    "    return df2"
   ]
  },
  {
   "cell_type": "code",
   "execution_count": 137,
   "id": "3db9ea78-4a71-49b4-88d6-261ffb78f33b",
   "metadata": {
    "execution": {
     "iopub.execute_input": "2022-07-12T04:20:20.512162Z",
     "iopub.status.busy": "2022-07-12T04:20:20.512162Z",
     "iopub.status.idle": "2022-07-12T04:20:20.528471Z",
     "shell.execute_reply": "2022-07-12T04:20:20.527421Z",
     "shell.execute_reply.started": "2022-07-12T04:20:20.512162Z"
    },
    "tags": []
   },
   "outputs": [],
   "source": [
    "df = generate_problem((10,),(0.5,),(1.,),range(10),range(10),(2,1),(True,False)) #df"
   ]
  },
  {
   "cell_type": "code",
   "execution_count": 149,
   "id": "16f0cf30-d4fb-4e29-bbc6-424f05611724",
   "metadata": {
    "execution": {
     "iopub.execute_input": "2022-07-12T18:41:30.028569Z",
     "iopub.status.busy": "2022-07-12T18:41:30.027570Z",
     "iopub.status.idle": "2022-07-12T18:41:30.090540Z",
     "shell.execute_reply": "2022-07-12T18:41:30.089304Z",
     "shell.execute_reply.started": "2022-07-12T18:41:30.028569Z"
    },
    "tags": []
   },
   "outputs": [],
   "source": [
    "df.to_csv('results_10x15_sparsity_1.csv')"
   ]
  },
  {
   "cell_type": "code",
   "execution_count": 139,
   "id": "c39f9707-cd44-4459-b270-bff294f181f1",
   "metadata": {
    "execution": {
     "iopub.execute_input": "2022-07-12T04:20:36.924767Z",
     "iopub.status.busy": "2022-07-12T04:20:36.924767Z",
     "iopub.status.idle": "2022-07-12T04:20:36.940797Z",
     "shell.execute_reply": "2022-07-12T04:20:36.939293Z",
     "shell.execute_reply.started": "2022-07-12T04:20:36.924767Z"
    },
    "tags": []
   },
   "outputs": [],
   "source": [
    "fxs = {('maxscc', 'fobj', 'solveriter', 'optiter', 'time'): min_max_scc_calculations}"
   ]
  },
  {
   "cell_type": "code",
   "execution_count": 148,
   "id": "a019b9c3-9f23-4168-8d29-923049018235",
   "metadata": {
    "execution": {
     "iopub.execute_input": "2022-07-12T14:30:57.510071Z",
     "iopub.status.busy": "2022-07-12T14:30:57.510071Z",
     "iopub.status.idle": "2022-07-12T17:56:02.348421Z",
     "shell.execute_reply": "2022-07-12T17:56:02.348421Z",
     "shell.execute_reply.started": "2022-07-12T14:30:57.510071Z"
    },
    "tags": []
   },
   "outputs": [
    {
     "data": {
      "application/vnd.jupyter.widget-view+json": {
       "model_id": "33fca352d1e44f619fc6467f362f1822",
       "version_major": 2,
       "version_minor": 0
      },
      "text/plain": [
       "IntProgress(value=0, max=400)"
      ]
     },
     "metadata": {},
     "output_type": "display_data"
    },
    {
     "name": "stderr",
     "output_type": "stream",
     "text": [
      "C:\\Users\\johan\\miniconda3\\envs\\minimdo\\lib\\site-packages\\openmdao\\solvers\\nonlinear\\newton.py:209: RuntimeWarning: invalid value encountered in double_scalars\n",
      "  rec.rel = norm / norm0\n",
      "C:\\Users\\johan\\miniconda3\\envs\\minimdo\\lib\\site-packages\\openmdao\\solvers\\solver.py:605: RuntimeWarning: invalid value encountered in double_scalars\n",
      "  self._mpi_print(self._iter_count, norm, norm / norm0)\n",
      "C:\\Users\\johan\\miniconda3\\envs\\minimdo\\lib\\site-packages\\openmdao\\solvers\\solver.py:612: RuntimeWarning: invalid value encountered in double_scalars\n",
      "  while self._iter_count < maxiter and norm > atol and norm / norm0 > rtol and not stalled:\n"
     ]
    },
    {
     "name": "stdout",
     "output_type": "stream",
     "text": [
      "Optimization FAILED.\n",
      "Inequality constraints incompatible\n",
      "-----------------------------------\n",
      "Optimization FAILED.\n",
      "Positive directional derivative for linesearch\n",
      "-----------------------------------\n",
      "Optimization FAILED.\n",
      "Iteration limit reached\n",
      "-----------------------------------\n",
      "Optimization FAILED.\n",
      "Positive directional derivative for linesearch\n",
      "-----------------------------------\n",
      "Optimization FAILED.\n",
      "Iteration limit reached\n",
      "-----------------------------------\n",
      "Optimization FAILED.\n",
      "Positive directional derivative for linesearch\n",
      "-----------------------------------\n",
      "Optimization FAILED.\n",
      "Inequality constraints incompatible\n",
      "-----------------------------------\n"
     ]
    },
    {
     "name": "stderr",
     "output_type": "stream",
     "text": [
      "C:\\Users\\johan\\miniconda3\\envs\\minimdo\\lib\\site-packages\\openmdao\\core\\total_jac.py:1596: DerivativesWarning:Design variables [('inp.x_4', inds=[0])] have no impact on the constraints or objective.\n"
     ]
    },
    {
     "name": "stdout",
     "output_type": "stream",
     "text": [
      "Optimization FAILED.\n",
      "Inequality constraints incompatible\n",
      "-----------------------------------\n",
      "Optimization FAILED.\n",
      "Inequality constraints incompatible\n",
      "-----------------------------------\n",
      "Optimization FAILED.\n",
      "Iteration limit reached\n",
      "-----------------------------------\n",
      "Optimization FAILED.\n",
      "Inequality constraints incompatible\n",
      "-----------------------------------\n",
      "Optimization FAILED.\n",
      "Positive directional derivative for linesearch\n",
      "-----------------------------------\n",
      "Optimization FAILED.\n",
      "Positive directional derivative for linesearch\n",
      "-----------------------------------\n",
      "Optimization FAILED.\n",
      "Inequality constraints incompatible\n",
      "-----------------------------------\n",
      "Optimization FAILED.\n",
      "Iteration limit reached\n",
      "-----------------------------------\n",
      "Optimization FAILED.\n",
      "Positive directional derivative for linesearch\n",
      "-----------------------------------\n"
     ]
    },
    {
     "name": "stderr",
     "output_type": "stream",
     "text": [
      "C:\\Users\\johan\\miniconda3\\envs\\minimdo\\lib\\site-packages\\openmdao\\core\\total_jac.py:1596: DerivativesWarning:Design variables [('inp.x_6', inds=[0]), ('inp.x_10', inds=[0])] have no impact on the constraints or objective.\n"
     ]
    },
    {
     "name": "stdout",
     "output_type": "stream",
     "text": [
      "Optimization FAILED.\n",
      "Inequality constraints incompatible\n",
      "-----------------------------------\n",
      "Optimization FAILED.\n",
      "Singular matrix E in LSQ subproblem\n",
      "-----------------------------------\n",
      "Optimization FAILED.\n",
      "Positive directional derivative for linesearch\n",
      "-----------------------------------\n",
      "Optimization FAILED.\n",
      "Iteration limit reached\n",
      "-----------------------------------\n",
      "Optimization FAILED.\n",
      "Positive directional derivative for linesearch\n",
      "-----------------------------------\n",
      "Optimization FAILED.\n",
      "Iteration limit reached\n",
      "-----------------------------------\n",
      "Optimization FAILED.\n",
      "Positive directional derivative for linesearch\n",
      "-----------------------------------\n",
      "Optimization FAILED.\n",
      "Positive directional derivative for linesearch\n",
      "-----------------------------------\n",
      "Optimization FAILED.\n",
      "Iteration limit reached\n",
      "-----------------------------------\n"
     ]
    },
    {
     "name": "stderr",
     "output_type": "stream",
     "text": [
      "C:\\Users\\johan\\miniconda3\\envs\\minimdo\\lib\\site-packages\\openmdao\\core\\total_jac.py:1596: DerivativesWarning:Design variables [('inp.x_4', inds=[0]), ('inp.x_5', inds=[0]), ('inp.x_14', inds=[0])] have no impact on the constraints or objective.\n"
     ]
    },
    {
     "name": "stdout",
     "output_type": "stream",
     "text": [
      "Optimization FAILED.\n",
      "Inequality constraints incompatible\n",
      "-----------------------------------\n",
      "Optimization FAILED.\n",
      "Iteration limit reached\n",
      "-----------------------------------\n",
      "Optimization FAILED.\n",
      "Positive directional derivative for linesearch\n",
      "-----------------------------------\n",
      "Optimization FAILED.\n",
      "Iteration limit reached\n",
      "-----------------------------------\n",
      "Optimization FAILED.\n",
      "Inequality constraints incompatible\n",
      "-----------------------------------\n"
     ]
    },
    {
     "name": "stderr",
     "output_type": "stream",
     "text": [
      "C:\\Users\\johan\\miniconda3\\envs\\minimdo\\lib\\site-packages\\openmdao\\core\\total_jac.py:1596: DerivativesWarning:Design variables [('inp.x_0', inds=[0])] have no impact on the constraints or objective.\n"
     ]
    },
    {
     "name": "stdout",
     "output_type": "stream",
     "text": [
      "Optimization FAILED.\n",
      "Positive directional derivative for linesearch\n",
      "-----------------------------------\n",
      "Optimization FAILED.\n",
      "Inequality constraints incompatible\n",
      "-----------------------------------\n",
      "Optimization FAILED.\n",
      "Iteration limit reached\n",
      "-----------------------------------\n"
     ]
    },
    {
     "name": "stderr",
     "output_type": "stream",
     "text": [
      "C:\\Users\\johan\\miniconda3\\envs\\minimdo\\lib\\site-packages\\openmdao\\core\\total_jac.py:1596: DerivativesWarning:Design variables [('inp.x_0', inds=[0])] have no impact on the constraints or objective.\n"
     ]
    },
    {
     "name": "stdout",
     "output_type": "stream",
     "text": [
      "Optimization FAILED.\n",
      "Inequality constraints incompatible\n",
      "-----------------------------------\n",
      "Optimization FAILED.\n",
      "Inequality constraints incompatible\n",
      "-----------------------------------\n"
     ]
    },
    {
     "name": "stderr",
     "output_type": "stream",
     "text": [
      "C:\\Users\\johan\\miniconda3\\envs\\minimdo\\lib\\site-packages\\openmdao\\core\\total_jac.py:1596: DerivativesWarning:Design variables [('inp.x_0', inds=[0])] have no impact on the constraints or objective.\n"
     ]
    },
    {
     "name": "stdout",
     "output_type": "stream",
     "text": [
      "Optimization FAILED.\n",
      "Inequality constraints incompatible\n",
      "-----------------------------------\n",
      "Optimization FAILED.\n",
      "Inequality constraints incompatible\n",
      "-----------------------------------\n",
      "Optimization FAILED.\n",
      "Inequality constraints incompatible\n",
      "-----------------------------------\n",
      "Optimization FAILED.\n",
      "Iteration limit reached\n",
      "-----------------------------------\n"
     ]
    },
    {
     "name": "stderr",
     "output_type": "stream",
     "text": [
      "C:\\Users\\johan\\miniconda3\\envs\\minimdo\\lib\\site-packages\\openmdao\\core\\total_jac.py:1596: DerivativesWarning:Design variables [('inp.x_12', inds=[0]), ('inp.x_14', inds=[0])] have no impact on the constraints or objective.\n"
     ]
    },
    {
     "name": "stdout",
     "output_type": "stream",
     "text": [
      "Optimization FAILED.\n",
      "Inequality constraints incompatible\n",
      "-----------------------------------\n",
      "Optimization FAILED.\n",
      "Inequality constraints incompatible\n",
      "-----------------------------------\n",
      "Optimization FAILED.\n",
      "Iteration limit reached\n",
      "-----------------------------------\n"
     ]
    },
    {
     "name": "stderr",
     "output_type": "stream",
     "text": [
      "C:\\Users\\johan\\miniconda3\\envs\\minimdo\\lib\\site-packages\\openmdao\\core\\total_jac.py:1596: DerivativesWarning:Design variables [('inp.x_13', inds=[0])] have no impact on the constraints or objective.\n"
     ]
    },
    {
     "name": "stdout",
     "output_type": "stream",
     "text": [
      "Optimization FAILED.\n",
      "Positive directional derivative for linesearch\n",
      "-----------------------------------\n",
      "Optimization FAILED.\n",
      "Positive directional derivative for linesearch\n",
      "-----------------------------------\n",
      "Optimization FAILED.\n",
      "Iteration limit reached\n",
      "-----------------------------------\n",
      "Optimization FAILED.\n",
      "Positive directional derivative for linesearch\n",
      "-----------------------------------\n"
     ]
    },
    {
     "name": "stderr",
     "output_type": "stream",
     "text": [
      "<lambdifygenerated-10247>:2: RuntimeWarning: overflow encountered in square\n",
      "  return (x_0 - 1)**2 + (x_10 - 1)**2 + (x_13 - 1)**2 + (x_3 - 1)**2 + (x_9 - 1)**2\n",
      "C:\\Users\\johan\\miniconda3\\envs\\minimdo\\lib\\site-packages\\openmdao\\core\\total_jac.py:1596: DerivativesWarning:Design variables [('inp.x_1', inds=[0]), ('inp.x_6', inds=[0]), ('inp.x_7', inds=[0])] have no impact on the constraints or objective.\n"
     ]
    },
    {
     "name": "stdout",
     "output_type": "stream",
     "text": [
      "Optimization FAILED.\n",
      "Iteration limit reached\n",
      "-----------------------------------\n",
      "Optimization FAILED.\n",
      "Singular matrix E in LSQ subproblem\n",
      "-----------------------------------\n",
      "Optimization FAILED.\n",
      "Inequality constraints incompatible\n",
      "-----------------------------------\n",
      "Optimization FAILED.\n",
      "Positive directional derivative for linesearch\n",
      "-----------------------------------\n"
     ]
    },
    {
     "name": "stderr",
     "output_type": "stream",
     "text": [
      "<lambdifygenerated-10991>:2: RuntimeWarning: overflow encountered in square\n",
      "  return (x_0 - 1)**2 + (x_10 - 1)**2 + (x_13 - 1)**2 + (x_3 - 1)**2 + (x_9 - 1)**2\n"
     ]
    },
    {
     "name": "stdout",
     "output_type": "stream",
     "text": [
      "Optimization FAILED.\n",
      "Iteration limit reached\n",
      "-----------------------------------\n",
      "Optimization FAILED.\n",
      "Inequality constraints incompatible\n",
      "-----------------------------------\n",
      "Optimization FAILED.\n",
      "Iteration limit reached\n",
      "-----------------------------------\n",
      "Optimization FAILED.\n",
      "Singular matrix E in LSQ subproblem\n",
      "-----------------------------------\n"
     ]
    },
    {
     "name": "stderr",
     "output_type": "stream",
     "text": [
      "<lambdifygenerated-12355>:2: RuntimeWarning: overflow encountered in square\n",
      "  return (x_1 - 1)**2 + (x_10 - 1)**2 + (x_13 - 1)**2 + (x_2 - 1)**2 + (x_5 - 1)**2\n",
      "C:\\Users\\johan\\miniconda3\\envs\\minimdo\\lib\\site-packages\\openmdao\\core\\total_jac.py:1567: DerivativesWarning:Constraints or objectives [('f_obj.objobj', inds=[0])] cannot be impacted by the design variables of the problem.\n",
      "C:\\Users\\johan\\miniconda3\\envs\\minimdo\\lib\\site-packages\\openmdao\\core\\total_jac.py:1596: DerivativesWarning:Design variables [('inp.x_2', inds=[0]), ('inp.x_4', inds=[0]), ('inp.x_6', inds=[0]), ('inp.x_12', inds=[0]), ('inp.x_13', inds=[0])] have no impact on the constraints or objective.\n"
     ]
    },
    {
     "name": "stdout",
     "output_type": "stream",
     "text": [
      "Optimization FAILED.\n",
      "Inequality constraints incompatible\n",
      "-----------------------------------\n",
      "Optimization FAILED.\n",
      "Singular matrix E in LSQ subproblem\n",
      "-----------------------------------\n",
      "Optimization FAILED.\n",
      "Iteration limit reached\n",
      "-----------------------------------\n",
      "Optimization FAILED.\n",
      "Positive directional derivative for linesearch\n",
      "-----------------------------------\n",
      "Optimization FAILED.\n",
      "Iteration limit reached\n",
      "-----------------------------------\n",
      "Optimization FAILED.\n",
      "Positive directional derivative for linesearch\n",
      "-----------------------------------\n",
      "Optimization FAILED.\n",
      "Iteration limit reached\n",
      "-----------------------------------\n",
      "Optimization FAILED.\n",
      "Iteration limit reached\n",
      "-----------------------------------\n",
      "Optimization FAILED.\n",
      "Positive directional derivative for linesearch\n",
      "-----------------------------------\n"
     ]
    },
    {
     "name": "stderr",
     "output_type": "stream",
     "text": [
      "C:\\Users\\johan\\miniconda3\\envs\\minimdo\\lib\\site-packages\\openmdao\\core\\total_jac.py:1596: DerivativesWarning:Design variables [('inp.x_7', inds=[0]), ('inp.x_8', inds=[0]), ('inp.x_14', inds=[0])] have no impact on the constraints or objective.\n"
     ]
    },
    {
     "name": "stdout",
     "output_type": "stream",
     "text": [
      "Optimization FAILED.\n",
      "Positive directional derivative for linesearch\n",
      "-----------------------------------\n",
      "Optimization FAILED.\n",
      "Positive directional derivative for linesearch\n",
      "-----------------------------------\n"
     ]
    }
   ],
   "source": [
    "run_calculations(df, fxs, iter_cycles=400, filename=None, commonartifacts=generate_artifacts, \n",
    "                 argnames=[\"m\", \"n\", \"sparsity\", \"seed\", \"prob_type\", \"poly_seed\", \"mdf\"])"
   ]
  },
  {
   "cell_type": "code",
   "execution_count": null,
   "id": "14efd546-3bf5-48c7-9b3b-67491d49aafd",
   "metadata": {},
   "outputs": [],
   "source": []
  }
 ],
 "metadata": {
  "kernelspec": {
   "display_name": "Python [conda env:minimdo]",
   "language": "python",
   "name": "conda-env-minimdo-py"
  },
  "language_info": {
   "codemirror_mode": {
    "name": "ipython",
    "version": 3
   },
   "file_extension": ".py",
   "mimetype": "text/x-python",
   "name": "python",
   "nbconvert_exporter": "python",
   "pygments_lexer": "ipython3",
   "version": "3.9.12"
  }
 },
 "nbformat": 4,
 "nbformat_minor": 5
}
