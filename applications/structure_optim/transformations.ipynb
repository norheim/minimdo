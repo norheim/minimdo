{
 "cells": [
  {
   "cell_type": "code",
   "execution_count": 1,
   "id": "56406eec-348a-4f2e-ae78-4d72b86393ac",
   "metadata": {
    "execution": {
     "iopub.execute_input": "2022-07-02T23:44:36.003244Z",
     "iopub.status.busy": "2022-07-02T23:44:36.003244Z",
     "iopub.status.idle": "2022-07-02T23:44:38.278901Z",
     "shell.execute_reply": "2022-07-02T23:44:38.277937Z",
     "shell.execute_reply.started": "2022-07-02T23:44:36.003244Z"
    },
    "tags": []
   },
   "outputs": [],
   "source": [
    "from testproblems import generate_random_prob\n",
    "from inputresolver import getallvars, direct_eqs, invert_edges\n",
    "from datastructures.polycasebuilder import generate_random_polynomials, get_arg_mapping, directed_poly_executables, eqv_to_edges_tree"
   ]
  },
  {
   "cell_type": "code",
   "execution_count": 2,
   "id": "4a9464a3-c6ff-4a54-aece-b5443f4253cd",
   "metadata": {
    "execution": {
     "iopub.execute_input": "2022-07-02T23:44:38.280165Z",
     "iopub.status.busy": "2022-07-02T23:44:38.280165Z",
     "iopub.status.idle": "2022-07-02T23:44:38.293353Z",
     "shell.execute_reply": "2022-07-02T23:44:38.293353Z",
     "shell.execute_reply.started": "2022-07-02T23:44:38.280165Z"
    },
    "tags": []
   },
   "outputs": [],
   "source": [
    "from datastructures.graphutils import all_variables, all_edges, edges_to_Ein_Eout, flat_graph_formulation\n",
    "from datastructures.tearing import dir_graph"
   ]
  },
  {
   "cell_type": "code",
   "execution_count": 3,
   "id": "240ce98c-1db7-432e-b8e7-c4e08dbc86bb",
   "metadata": {
    "execution": {
     "iopub.execute_input": "2022-07-02T23:44:38.295380Z",
     "iopub.status.busy": "2022-07-02T23:44:38.295380Z",
     "iopub.status.idle": "2022-07-02T23:44:38.310508Z",
     "shell.execute_reply": "2022-07-02T23:44:38.309351Z",
     "shell.execute_reply.started": "2022-07-02T23:44:38.295380Z"
    },
    "tags": []
   },
   "outputs": [],
   "source": [
    "from datastructures.transformations import partial_inversion\n",
    "from datastructures.execution import Component"
   ]
  },
  {
   "cell_type": "code",
   "execution_count": 4,
   "id": "5cf25c07-7762-4f81-b8e9-dd5b4a290d8c",
   "metadata": {
    "execution": {
     "iopub.execute_input": "2022-07-02T23:44:38.311508Z",
     "iopub.status.busy": "2022-07-02T23:44:38.311508Z",
     "iopub.status.idle": "2022-07-02T23:44:38.325699Z",
     "shell.execute_reply": "2022-07-02T23:44:38.325199Z",
     "shell.execute_reply.started": "2022-07-02T23:44:38.311508Z"
    },
    "tags": []
   },
   "outputs": [],
   "source": [
    "import numpy as np\n",
    "import networkx as nx\n",
    "import sympy as sp"
   ]
  },
  {
   "cell_type": "code",
   "execution_count": 5,
   "id": "a2490d55-b77c-4874-8750-5d5a32fec431",
   "metadata": {
    "execution": {
     "iopub.execute_input": "2022-07-02T23:44:38.327387Z",
     "iopub.status.busy": "2022-07-02T23:44:38.327387Z",
     "iopub.status.idle": "2022-07-02T23:44:38.340818Z",
     "shell.execute_reply": "2022-07-02T23:44:38.340289Z",
     "shell.execute_reply.started": "2022-07-02T23:44:38.327387Z"
    },
    "tags": []
   },
   "outputs": [],
   "source": [
    "from compute import Var"
   ]
  },
  {
   "cell_type": "code",
   "execution_count": 6,
   "id": "79554912-6c58-4a04-accd-0372209bb36a",
   "metadata": {
    "execution": {
     "iopub.execute_input": "2022-07-02T23:44:38.341844Z",
     "iopub.status.busy": "2022-07-02T23:44:38.341844Z",
     "iopub.status.idle": "2022-07-02T23:44:38.356014Z",
     "shell.execute_reply": "2022-07-02T23:44:38.356014Z",
     "shell.execute_reply.started": "2022-07-02T23:44:38.341844Z"
    },
    "tags": []
   },
   "outputs": [],
   "source": [
    "x,y,a = Var('x'), Var('y'), Var('a')"
   ]
  },
  {
   "cell_type": "markdown",
   "id": "ba99e010-f177-44c0-8f57-3ca77033696a",
   "metadata": {},
   "source": [
    "### Test that we end up with the same expression"
   ]
  },
  {
   "cell_type": "code",
   "execution_count": 7,
   "id": "d49f734e-27e6-4b80-907e-f772bfff9659",
   "metadata": {
    "execution": {
     "iopub.execute_input": "2022-07-02T23:44:38.910425Z",
     "iopub.status.busy": "2022-07-02T23:44:38.910425Z",
     "iopub.status.idle": "2022-07-02T23:44:39.025991Z",
     "shell.execute_reply": "2022-07-02T23:44:39.025535Z",
     "shell.execute_reply.started": "2022-07-02T23:44:38.910425Z"
    },
    "tags": []
   },
   "outputs": [],
   "source": [
    "old_output = a\n",
    "old_expression = x/y+1\n",
    "new_output = None"
   ]
  },
  {
   "cell_type": "code",
   "execution_count": 8,
   "id": "cede4637-f0c7-438b-9378-6e8d3f0225cf",
   "metadata": {
    "execution": {
     "iopub.execute_input": "2022-07-02T23:44:39.321047Z",
     "iopub.status.busy": "2022-07-02T23:44:39.320089Z",
     "iopub.status.idle": "2022-07-02T23:44:39.338292Z",
     "shell.execute_reply": "2022-07-02T23:44:39.337553Z",
     "shell.execute_reply.started": "2022-07-02T23:44:39.321047Z"
    },
    "tags": []
   },
   "outputs": [],
   "source": [
    "new_expression = partial_inversion(old_expression, old_output, new_output)"
   ]
  },
  {
   "cell_type": "code",
   "execution_count": 9,
   "id": "4ef0331e-fe3a-4963-bef7-d9cdae741c7d",
   "metadata": {
    "execution": {
     "iopub.execute_input": "2022-07-02T23:44:39.979768Z",
     "iopub.status.busy": "2022-07-02T23:44:39.978808Z",
     "iopub.status.idle": "2022-07-02T23:44:40.117036Z",
     "shell.execute_reply": "2022-07-02T23:44:40.116035Z",
     "shell.execute_reply.started": "2022-07-02T23:44:39.979768Z"
    },
    "tags": []
   },
   "outputs": [
    {
     "data": {
      "text/latex": [
       "$\\displaystyle a y - x - y$"
      ],
      "text/plain": [
       "a*y - x - y"
      ]
     },
     "execution_count": 9,
     "metadata": {},
     "output_type": "execute_result"
    }
   ],
   "source": [
    "new_expression"
   ]
  },
  {
   "cell_type": "code",
   "execution_count": 152,
   "id": "404bf82b-aec0-43a2-a8aa-39e6d7b52504",
   "metadata": {
    "execution": {
     "iopub.execute_input": "2022-07-02T23:40:29.468391Z",
     "iopub.status.busy": "2022-07-02T23:40:29.468391Z",
     "iopub.status.idle": "2022-07-02T23:40:29.489749Z",
     "shell.execute_reply": "2022-07-02T23:40:29.488837Z",
     "shell.execute_reply.started": "2022-07-02T23:40:29.468391Z"
    },
    "tags": []
   },
   "outputs": [
    {
     "data": {
      "text/latex": [
       "$\\displaystyle \\frac{x}{y} + 1$"
      ],
      "text/plain": [
       "x/y + 1"
      ]
     },
     "execution_count": 152,
     "metadata": {},
     "output_type": "execute_result"
    }
   ],
   "source": [
    "partial_inversion(new_expression, None, a)"
   ]
  },
  {
   "cell_type": "markdown",
   "id": "318d6ea7-085b-41b7-9020-0748df8dee35",
   "metadata": {},
   "source": [
    "### Test on small example"
   ]
  },
  {
   "cell_type": "code",
   "execution_count": 13,
   "id": "348a5034-2064-418c-9d1e-799c08765f2a",
   "metadata": {
    "execution": {
     "iopub.execute_input": "2022-07-02T22:32:58.815589Z",
     "iopub.status.busy": "2022-07-02T22:32:58.815589Z",
     "iopub.status.idle": "2022-07-02T22:32:58.908322Z",
     "shell.execute_reply": "2022-07-02T22:32:58.907600Z",
     "shell.execute_reply.started": "2022-07-02T22:32:58.815589Z"
    },
    "tags": []
   },
   "outputs": [],
   "source": [
    "#(5,10,7,1.7 no numerical issues)\n",
    "n_eqs = 2\n",
    "n_vars = 3\n",
    "seed = 9#8 is triang#seed 10 is nice 42 \n",
    "sparsity = 1.7#0.8 1.1 #1.7 1.3\n",
    "eqv, varinc, output_set = generate_random_prob(n_eqs, n_vars, seed, sparsity)\n",
    "rng = np.random.default_rng(seed)\n",
    "polynomials, var_mapping, edges, tree, components = generate_random_polynomials(eqv, output_set, n_eqs, rng)"
   ]
  },
  {
   "cell_type": "code",
   "execution_count": 14,
   "id": "13c1fbf2-d5c2-4050-8292-7f920ed8063a",
   "metadata": {
    "execution": {
     "iopub.execute_input": "2022-07-02T22:32:59.341007Z",
     "iopub.status.busy": "2022-07-02T22:32:59.341007Z",
     "iopub.status.idle": "2022-07-02T22:32:59.345650Z",
     "shell.execute_reply": "2022-07-02T22:32:59.344965Z",
     "shell.execute_reply.started": "2022-07-02T22:32:59.341007Z"
    },
    "tags": []
   },
   "outputs": [],
   "source": [
    "components = [comp for comp in components if comp.outputs != (None,)]"
   ]
  },
  {
   "cell_type": "code",
   "execution_count": 15,
   "id": "d2ad40e3-381c-4d7e-baad-54bb29628fe4",
   "metadata": {
    "execution": {
     "iopub.execute_input": "2022-07-02T22:32:59.842832Z",
     "iopub.status.busy": "2022-07-02T22:32:59.841818Z",
     "iopub.status.idle": "2022-07-02T22:32:59.857514Z",
     "shell.execute_reply": "2022-07-02T22:32:59.856885Z",
     "shell.execute_reply.started": "2022-07-02T22:32:59.842832Z"
    },
    "tags": []
   },
   "outputs": [
    {
     "data": {
      "text/plain": [
       "({0: (0, 2), 1: (1, 2)}, {0: (1,), 1: (0,)}, {})"
      ]
     },
     "execution_count": 15,
     "metadata": {},
     "output_type": "execute_result"
    }
   ],
   "source": [
    "edges"
   ]
  },
  {
   "cell_type": "code",
   "execution_count": 56,
   "id": "3f644171-17e2-48f0-9f2d-ca28bd7034e8",
   "metadata": {
    "execution": {
     "iopub.execute_input": "2022-07-02T22:47:10.219361Z",
     "iopub.status.busy": "2022-07-02T22:47:10.219361Z",
     "iopub.status.idle": "2022-07-02T22:47:10.237358Z",
     "shell.execute_reply": "2022-07-02T22:47:10.236856Z",
     "shell.execute_reply.started": "2022-07-02T22:47:10.219361Z"
    },
    "tags": []
   },
   "outputs": [],
   "source": [
    "def var_from_mapping(arg_mapping, Eout, comp):\n",
    "    if Eout[comp][0] is not None:\n",
    "        return arg_mapping[Eout[comp][0]]\n",
    "    else:\n",
    "        return None"
   ]
  },
  {
   "cell_type": "code",
   "execution_count": 75,
   "id": "bf5bc510-c2e2-4011-a66f-af2a2ad92ca4",
   "metadata": {
    "execution": {
     "iopub.execute_input": "2022-07-02T22:53:44.426970Z",
     "iopub.status.busy": "2022-07-02T22:53:44.425969Z",
     "iopub.status.idle": "2022-07-02T22:53:44.442519Z",
     "shell.execute_reply": "2022-07-02T22:53:44.442021Z",
     "shell.execute_reply.started": "2022-07-02T22:53:44.425969Z"
    },
    "tags": []
   },
   "outputs": [],
   "source": [
    "nedges = ({\n",
    "    0: (0,1),\n",
    "    1: (1,2),\n",
    "},{\n",
    "    0: (2,),\n",
    "    1: (None,)\n",
    "}, {1: (0,)})"
   ]
  },
  {
   "cell_type": "code",
   "execution_count": 70,
   "id": "00e152aa-420f-4a39-ba14-925a0037eea9",
   "metadata": {
    "execution": {
     "iopub.execute_input": "2022-07-02T22:52:57.445226Z",
     "iopub.status.busy": "2022-07-02T22:52:57.445226Z",
     "iopub.status.idle": "2022-07-02T22:52:57.460261Z",
     "shell.execute_reply": "2022-07-02T22:52:57.459239Z",
     "shell.execute_reply.started": "2022-07-02T22:52:57.445226Z"
    },
    "tags": []
   },
   "outputs": [],
   "source": [
    "oldedges = edges\n",
    "newedges = nedges\n",
    "arg_mapping = get_arg_mapping(var_mapping, True)"
   ]
  },
  {
   "cell_type": "code",
   "execution_count": 76,
   "id": "13c9ebc6-e7bf-4ea6-a5bb-9d9d2e8c9810",
   "metadata": {
    "execution": {
     "iopub.execute_input": "2022-07-02T22:54:12.931214Z",
     "iopub.status.busy": "2022-07-02T22:54:12.931214Z",
     "iopub.status.idle": "2022-07-02T22:54:12.952480Z",
     "shell.execute_reply": "2022-07-02T22:54:12.951978Z",
     "shell.execute_reply.started": "2022-07-02T22:54:12.931214Z"
    },
    "tags": []
   },
   "outputs": [],
   "source": [
    "def transform_components(oldedges, newedges, components, arg_mapping):\n",
    "    Ein, Eout = edges_to_Ein_Eout(oldedges)\n",
    "    old_edges = flat_graph_formulation(*oldedges).to_undirected()\n",
    "    new_edges = flat_graph_formulation(*newedges).to_undirected()\n",
    "    assert nx.is_isomorphic(old_edges, new_edges)\n",
    "    newEin, newEout = edges_to_Ein_Eout(nedges)\n",
    "    new_components = []\n",
    "    for idx,comp in enumerate(components):\n",
    "        compid = comp.component\n",
    "        newcompid = len(components)+idx\n",
    "        old_out = var_from_mapping(arg_mapping, Eout, compid)\n",
    "        new_out = var_from_mapping(arg_mapping, newEout, compid) \n",
    "        new_function_expression = partial_inversion(comp.fxdisp, old_out, new_out)\n",
    "        newcomponent = Component.fromsympy(new_function_expression, new_out, component=newcompid, arg_mapping=arg_mapping)\n",
    "        new_components.append(newcomponent)\n",
    "    return new_components"
   ]
  },
  {
   "cell_type": "code",
   "execution_count": 74,
   "id": "b0ed10f1-b173-479e-84f6-d47d87941a7f",
   "metadata": {
    "execution": {
     "iopub.execute_input": "2022-07-02T22:53:16.001767Z",
     "iopub.status.busy": "2022-07-02T22:53:16.001767Z",
     "iopub.status.idle": "2022-07-02T22:53:16.013959Z",
     "shell.execute_reply": "2022-07-02T22:53:16.013765Z",
     "shell.execute_reply.started": "2022-07-02T22:53:16.001767Z"
    },
    "tags": []
   },
   "outputs": [
    {
     "data": {
      "text/plain": [
       "[((0, 2), 0, (1,), '-3.0/(x_0*x_2)'), ((2, 1), 1, (0,), '-0.875/(x_1*x_2)')]"
      ]
     },
     "execution_count": 74,
     "metadata": {},
     "output_type": "execute_result"
    }
   ],
   "source": [
    "components"
   ]
  },
  {
   "cell_type": "code",
   "execution_count": 71,
   "id": "c518ddb1-9cf2-4e49-b026-bc5cf9961cb2",
   "metadata": {
    "execution": {
     "iopub.execute_input": "2022-07-02T22:53:02.471049Z",
     "iopub.status.busy": "2022-07-02T22:53:02.471049Z",
     "iopub.status.idle": "2022-07-02T22:53:02.497971Z",
     "shell.execute_reply": "2022-07-02T22:53:02.497558Z",
     "shell.execute_reply.started": "2022-07-02T22:53:02.471049Z"
    },
    "tags": []
   },
   "outputs": [
    {
     "data": {
      "text/plain": [
       "[((0, 1), 2, (2,), '-3.0/(x_0*x_1)'),\n",
       " ((0, 2, 1), 3, (None,), 'x_0*x_1*x_2 + 0.875')]"
      ]
     },
     "execution_count": 71,
     "metadata": {},
     "output_type": "execute_result"
    }
   ],
   "source": [
    "transform_components(edges, nedges, components, arg_mapping)"
   ]
  }
 ],
 "metadata": {
  "kernelspec": {
   "display_name": "Python [conda env:mdo]",
   "language": "python",
   "name": "conda-env-mdo-py"
  },
  "language_info": {
   "codemirror_mode": {
    "name": "ipython",
    "version": 3
   },
   "file_extension": ".py",
   "mimetype": "text/x-python",
   "name": "python",
   "nbconvert_exporter": "python",
   "pygments_lexer": "ipython3",
   "version": "3.9.7"
  }
 },
 "nbformat": 4,
 "nbformat_minor": 5
}
