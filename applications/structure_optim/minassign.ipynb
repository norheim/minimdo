{
 "cells": [
  {
   "cell_type": "code",
   "execution_count": 1,
   "id": "e5cbcb1f-912f-49ef-bec6-d9bb128a2bbf",
   "metadata": {
    "execution": {
     "iopub.execute_input": "2022-06-28T17:14:02.619366Z",
     "iopub.status.busy": "2022-06-28T17:14:02.619366Z",
     "iopub.status.idle": "2022-06-28T17:14:04.529338Z",
     "shell.execute_reply": "2022-06-28T17:14:04.528713Z",
     "shell.execute_reply.started": "2022-06-28T17:14:02.619366Z"
    },
    "tags": []
   },
   "outputs": [],
   "source": [
    "from testproblems import generate_random_prob\n",
    "from representations import bipartite_repr\n",
    "from inputresolver import resolve,invert_edges,getallvars,direct_eqs\n",
    "from datastructures.polycasebuilder import eqv_to_edges_tree\n",
    "from datastructures.graphutils import flat_graph_formulation, draw_graph_graphical_props, VAR, COMP, SOLVER, Node, namefromid, copy_dicts\n",
    "from datastructures.operators import sort_scc\n",
    "#from networkx.algorithms.bipartite import random_graph as bipartite_random_graph"
   ]
  },
  {
   "cell_type": "code",
   "execution_count": 2,
   "id": "ce1ba023-8903-4ad4-9154-0c1cba9ac742",
   "metadata": {
    "execution": {
     "iopub.execute_input": "2022-06-28T17:14:04.530839Z",
     "iopub.status.busy": "2022-06-28T17:14:04.530339Z",
     "iopub.status.idle": "2022-06-28T17:14:04.544338Z",
     "shell.execute_reply": "2022-06-28T17:14:04.543923Z",
     "shell.execute_reply.started": "2022-06-28T17:14:04.530839Z"
    },
    "tags": []
   },
   "outputs": [],
   "source": [
    "from datastructures.tearing import min_arc_set_assign, dir_graph\n",
    "from datastructures.rendering import render_incidence\n",
    "from datastructures.graphutils import all_edges, edges_to_Ein_Eout\n",
    "from collections import OrderedDict\n",
    "import matplotlib.pyplot as plt\n",
    "from itertools import chain"
   ]
  },
  {
   "cell_type": "code",
   "execution_count": 3,
   "id": "053e7782-4745-44e7-b352-a9b13f34c6d3",
   "metadata": {
    "execution": {
     "iopub.execute_input": "2022-06-28T17:14:04.548333Z",
     "iopub.status.busy": "2022-06-28T17:14:04.546415Z",
     "iopub.status.idle": "2022-06-28T17:14:04.559306Z",
     "shell.execute_reply": "2022-06-28T17:14:04.559306Z",
     "shell.execute_reply.started": "2022-06-28T17:14:04.548333Z"
    },
    "tags": []
   },
   "outputs": [],
   "source": [
    "import networkx as nx"
   ]
  },
  {
   "cell_type": "markdown",
   "id": "0dc01770-2b7b-49bd-99e4-52ce6dde35c8",
   "metadata": {},
   "source": [
    "# Parameters"
   ]
  },
  {
   "cell_type": "code",
   "execution_count": 4,
   "id": "54556648-8ab0-487d-b8a7-9099a6c952be",
   "metadata": {
    "execution": {
     "iopub.execute_input": "2022-06-28T17:14:04.560283Z",
     "iopub.status.busy": "2022-06-28T17:14:04.560283Z",
     "iopub.status.idle": "2022-06-28T17:14:04.575727Z",
     "shell.execute_reply": "2022-06-28T17:14:04.574814Z",
     "shell.execute_reply.started": "2022-06-28T17:14:04.560283Z"
    },
    "tags": []
   },
   "outputs": [],
   "source": [
    "n_eqs = 10\n",
    "n_vars = 13\n",
    "seed = 10#8 is triang#seed 10 is nice 42\n",
    "sparsity = 1.7#0.87#0.8 1.1 #1.7 1.3"
   ]
  },
  {
   "cell_type": "markdown",
   "id": "b18d1b27-6562-40a1-be1a-b1c6d1b9fb72",
   "metadata": {},
   "source": [
    "# Setup"
   ]
  },
  {
   "cell_type": "code",
   "execution_count": 5,
   "id": "1376bac4-fd3a-460d-b6f6-acf2d4c1182b",
   "metadata": {
    "execution": {
     "iopub.execute_input": "2022-06-28T17:14:04.577243Z",
     "iopub.status.busy": "2022-06-28T17:14:04.577243Z",
     "iopub.status.idle": "2022-06-28T17:14:04.591098Z",
     "shell.execute_reply": "2022-06-28T17:14:04.590180Z",
     "shell.execute_reply.started": "2022-06-28T17:14:04.577243Z"
    },
    "tags": []
   },
   "outputs": [],
   "source": [
    "nodetyperepr = {VAR: 'x_{{{}}}', COMP: 'f_{{{}}}', SOLVER: '{}'}"
   ]
  },
  {
   "cell_type": "code",
   "execution_count": 6,
   "id": "0b051f62-63d7-4dfc-bddc-c49b23186216",
   "metadata": {
    "execution": {
     "iopub.execute_input": "2022-06-28T17:14:04.592097Z",
     "iopub.status.busy": "2022-06-28T17:14:04.591098Z",
     "iopub.status.idle": "2022-06-28T17:14:04.606098Z",
     "shell.execute_reply": "2022-06-28T17:14:04.606098Z",
     "shell.execute_reply.started": "2022-06-28T17:14:04.591098Z"
    },
    "tags": []
   },
   "outputs": [],
   "source": [
    "namingfunc = namefromid(nodetyperepr)"
   ]
  },
  {
   "cell_type": "markdown",
   "id": "9f8b980f-7d79-43e9-b894-0095f26cf27b",
   "metadata": {},
   "source": [
    "# Original indexation"
   ]
  },
  {
   "cell_type": "code",
   "execution_count": 7,
   "id": "8372de0d-7305-4176-b4a1-1409b9262bfe",
   "metadata": {
    "execution": {
     "iopub.execute_input": "2022-06-28T17:14:04.608098Z",
     "iopub.status.busy": "2022-06-28T17:14:04.607098Z",
     "iopub.status.idle": "2022-06-28T17:14:04.622308Z",
     "shell.execute_reply": "2022-06-28T17:14:04.621398Z",
     "shell.execute_reply.started": "2022-06-28T17:14:04.608098Z"
    },
    "tags": []
   },
   "outputs": [],
   "source": [
    "eqv, varinc, output_idx = generate_random_prob(n_eqs, n_vars, seed, sparsity)\n",
    "_, edges_original = bipartite_repr(eqv)\n",
    "eqs = direct_eqs(eqv, output_idx)\n",
    "varidxs = getallvars(eqs, sympy=False)\n",
    "eqnidxs = set(eqs.keys())"
   ]
  },
  {
   "cell_type": "markdown",
   "id": "410d30ad-d7e8-4723-aa24-89794f0a24b2",
   "metadata": {},
   "source": [
    "# Display indexation"
   ]
  },
  {
   "cell_type": "code",
   "execution_count": 8,
   "id": "13b418ed-f866-4a4f-8ca1-d96488c65839",
   "metadata": {
    "execution": {
     "iopub.execute_input": "2022-06-28T17:14:04.622308Z",
     "iopub.status.busy": "2022-06-28T17:14:04.622308Z",
     "iopub.status.idle": "2022-06-28T17:14:04.638187Z",
     "shell.execute_reply": "2022-06-28T17:14:04.637414Z",
     "shell.execute_reply.started": "2022-06-28T17:14:04.622308Z"
    },
    "tags": []
   },
   "outputs": [],
   "source": [
    "output_reidx = {key:var-n_eqs for key,var in output_idx.items()}\n",
    "edges, tree = eqv_to_edges_tree(eqv, output_reidx, n_eqs)"
   ]
  },
  {
   "cell_type": "markdown",
   "id": "af938b2e-d1b9-4306-b33c-30a95dbd8400",
   "metadata": {},
   "source": [
    "# Original"
   ]
  },
  {
   "cell_type": "code",
   "execution_count": 60,
   "id": "02f3d5e3-bcf2-47eb-b8f1-ef587b93fd1f",
   "metadata": {
    "execution": {
     "iopub.execute_input": "2022-06-28T16:54:07.862381Z",
     "iopub.status.busy": "2022-06-28T16:54:07.861383Z",
     "iopub.status.idle": "2022-06-28T16:54:07.880377Z",
     "shell.execute_reply": "2022-06-28T16:54:07.879463Z",
     "shell.execute_reply.started": "2022-06-28T16:54:07.862381Z"
    },
    "tags": []
   },
   "outputs": [],
   "source": [
    "G = flat_graph_formulation(*edges)\n",
    "merge_order = sort_scc(G)\n",
    "maxscc = max([len(elt) for elt in merge_order])"
   ]
  },
  {
   "cell_type": "code",
   "execution_count": 61,
   "id": "f1b19ea1-a8da-4b7a-a70b-a52115939a1a",
   "metadata": {
    "execution": {
     "iopub.execute_input": "2022-06-28T16:54:08.209222Z",
     "iopub.status.busy": "2022-06-28T16:54:08.208176Z",
     "iopub.status.idle": "2022-06-28T16:54:08.218835Z",
     "shell.execute_reply": "2022-06-28T16:54:08.217897Z",
     "shell.execute_reply.started": "2022-06-28T16:54:08.209222Z"
    },
    "tags": []
   },
   "outputs": [],
   "source": [
    "elim_edges_default = [comp.name for elt in merge_order for comp in elt if len(elt)>1]"
   ]
  },
  {
   "cell_type": "code",
   "execution_count": 62,
   "id": "091c73ff-409f-4249-add1-c6c374f7ceee",
   "metadata": {
    "execution": {
     "iopub.execute_input": "2022-06-28T16:54:09.180946Z",
     "iopub.status.busy": "2022-06-28T16:54:09.179898Z",
     "iopub.status.idle": "2022-06-28T16:54:09.197070Z",
     "shell.execute_reply": "2022-06-28T16:54:09.196886Z",
     "shell.execute_reply.started": "2022-06-28T16:54:09.180946Z"
    },
    "tags": []
   },
   "outputs": [],
   "source": [
    "G1 = flat_graph_formulation(*edges, nodetyperepr=nodetyperepr)\n",
    "elimedges1 = [(Node(int(elt),COMP,nodetyperepr), Node(output_reidx[elt], VAR,nodetyperepr)) for elt in elim_edges_default]\n",
    "Ftree_default = OrderedDict([(elt.name,'solver') for comp in merge_order for elt in comp])\n",
    "Einn, Eoutn, Rinn = copy_dicts(edges)\n",
    "_, Stree, Vtree = copy_dicts(tree)\n",
    "for comp,out in elimedges1:\n",
    "    Eoutn[comp.name] = (None,) \n",
    "    Rinn[comp.name] = (out.name,)\n",
    "    Vtree[out.name] = 'solver'\n",
    "    Stree = {'solver':'root'}\n",
    "edges_default = Einn, Eoutn, Rinn\n",
    "tree_default = Ftree_default, Stree, Vtree"
   ]
  },
  {
   "cell_type": "code",
   "execution_count": 63,
   "id": "0372f548-c96b-4ba0-a831-a5fe2592214b",
   "metadata": {
    "execution": {
     "iopub.execute_input": "2022-06-28T16:54:09.373725Z",
     "iopub.status.busy": "2022-06-28T16:54:09.373725Z",
     "iopub.status.idle": "2022-06-28T16:54:09.891032Z",
     "shell.execute_reply": "2022-06-28T16:54:09.891032Z",
     "shell.execute_reply.started": "2022-06-28T16:54:09.373725Z"
    },
    "tags": []
   },
   "outputs": [
    {
     "data": {
      "image/png": "[encoded data removed]",
      "text/plain": [
       "<Figure size 432x288 with 1 Axes>"
      ]
     },
     "metadata": {
      "needs_background": "light"
     },
     "output_type": "display_data"
    }
   ],
   "source": [
    "_, ax = render_incidence(edges_default, tree_default, namingfunc, displaysolver=True)\n",
    "plt.sca(ax)\n",
    "plt.savefig(r'orig_10x13.png', dpi=300, bbox_inches='tight')"
   ]
  },
  {
   "cell_type": "markdown",
   "id": "77b097bb-44ab-4005-9497-47424079268a",
   "metadata": {},
   "source": [
    "# Optimize"
   ]
  },
  {
   "cell_type": "code",
   "execution_count": 9,
   "id": "f60fc545-d5d9-4bc8-bbf8-bfc084196f0c",
   "metadata": {
    "execution": {
     "iopub.execute_input": "2022-06-28T17:14:06.694944Z",
     "iopub.status.busy": "2022-06-28T17:14:06.694944Z",
     "iopub.status.idle": "2022-06-28T17:14:06.781356Z",
     "shell.execute_reply": "2022-06-28T17:14:06.780968Z",
     "shell.execute_reply.started": "2022-06-28T17:14:06.694944Z"
    },
    "tags": []
   },
   "outputs": [
    {
     "name": "stdout",
     "output_type": "stream",
     "text": [
      "Set parameter Username\n",
      "Academic license - for non-commercial use only - expires 2023-02-25\n"
     ]
    }
   ],
   "source": [
    "xsol, _ = min_arc_set_assign(edges_original, varidxs, eqnidxs)"
   ]
  },
  {
   "cell_type": "code",
   "execution_count": 10,
   "id": "c0ad187b-f624-4bcf-94e3-1eecd9e35148",
   "metadata": {
    "execution": {
     "iopub.execute_input": "2022-06-28T17:14:06.877358Z",
     "iopub.status.busy": "2022-06-28T17:14:06.876858Z",
     "iopub.status.idle": "2022-06-28T17:14:06.891292Z",
     "shell.execute_reply": "2022-06-28T17:14:06.890817Z",
     "shell.execute_reply.started": "2022-06-28T17:14:06.877358Z"
    },
    "tags": []
   },
   "outputs": [],
   "source": [
    "selected = dict((right, left-n_eqs) for left, right in edges_original if xsol[left, right] > 0.5)"
   ]
  },
  {
   "cell_type": "code",
   "execution_count": 11,
   "id": "c4eb9ae8-d442-4b36-8082-bed41bbaa79f",
   "metadata": {
    "execution": {
     "iopub.execute_input": "2022-06-28T17:14:07.020970Z",
     "iopub.status.busy": "2022-06-28T17:14:07.020970Z",
     "iopub.status.idle": "2022-06-28T17:14:07.041465Z",
     "shell.execute_reply": "2022-06-28T17:14:07.040981Z",
     "shell.execute_reply.started": "2022-06-28T17:14:07.020970Z"
    },
    "tags": []
   },
   "outputs": [
    {
     "data": {
      "text/plain": [
       "{0: 2, 1: 0, 2: 1, 3: 5, 5: 6, 6: 3, 7: 11, 8: 4, 9: 7}"
      ]
     },
     "execution_count": 11,
     "metadata": {},
     "output_type": "execute_result"
    }
   ],
   "source": [
    "selected"
   ]
  },
  {
   "cell_type": "code",
   "execution_count": 65,
   "id": "fa908f70-963f-45db-8775-4706e8c5e6d0",
   "metadata": {
    "execution": {
     "iopub.execute_input": "2022-06-28T17:34:30.620453Z",
     "iopub.status.busy": "2022-06-28T17:34:30.620453Z",
     "iopub.status.idle": "2022-06-28T17:34:30.640447Z",
     "shell.execute_reply": "2022-06-28T17:34:30.639445Z",
     "shell.execute_reply.started": "2022-06-28T17:34:30.620453Z"
    },
    "tags": []
   },
   "outputs": [],
   "source": [
    "Ein_minassign, Eout_minassign, Rin_minassign = dict(), dict(), dict()\n",
    "Ein_old, Eout_old, _ = edges\n",
    "_, Stree, Vtree = copy_dicts(tree)\n",
    "Stree = {'solver':'root'}\n",
    "for comp in Eout_old.keys():\n",
    "    if comp in selected:\n",
    "        var = selected[comp]\n",
    "        Eout_minassign[comp] = (var,)\n",
    "        Ein_minassign[comp] = tuple(elt for elt in chain(Ein_old[comp],Eout_old[comp]) if elt!=var)\n",
    "    else:\n",
    "        old_out_var = Eout_old[comp][0]\n",
    "        Eout_minassign[comp] = (None,)\n",
    "        Rin_minassign[comp] = Eout_old[comp]\n",
    "        Ein_minassign[comp] = Ein_old[comp]\n",
    "        solve_var = next(elt for elt in chain(Ein_old[comp],Eout_old[comp]) if elt not in selected.values() and elt not in Vtree.keys()) \n",
    "        Vtree[solve_var] = 'solver'"
   ]
  },
  {
   "cell_type": "code",
   "execution_count": 66,
   "id": "cb48d5c2-602b-46b4-8cda-26508cfeec95",
   "metadata": {
    "execution": {
     "iopub.execute_input": "2022-06-28T17:34:35.809023Z",
     "iopub.status.busy": "2022-06-28T17:34:35.809023Z",
     "iopub.status.idle": "2022-06-28T17:34:35.814022Z",
     "shell.execute_reply": "2022-06-28T17:34:35.814022Z",
     "shell.execute_reply.started": "2022-06-28T17:34:35.809023Z"
    },
    "tags": []
   },
   "outputs": [],
   "source": [
    "nodetyperepr = {VAR: 'x_{{{}}}', COMP: 'f_{{{}}}', SOLVER: '{}'}\n",
    "edges_minassign = Ein_minassign, Eout_minassign, Rin_minassign\n",
    "G2 = flat_graph_formulation(*edges_minassign, nodetyperepr=nodetyperepr)"
   ]
  },
  {
   "cell_type": "code",
   "execution_count": 67,
   "id": "c23f4b8f-b76e-44ef-b26d-7e2c5fa1f913",
   "metadata": {
    "execution": {
     "iopub.execute_input": "2022-06-28T17:34:36.163694Z",
     "iopub.status.busy": "2022-06-28T17:34:36.162689Z",
     "iopub.status.idle": "2022-06-28T17:34:36.184098Z",
     "shell.execute_reply": "2022-06-28T17:34:36.184098Z",
     "shell.execute_reply.started": "2022-06-28T17:34:36.163694Z"
    },
    "tags": []
   },
   "outputs": [],
   "source": [
    "minassign_order = sort_scc(G2)"
   ]
  },
  {
   "cell_type": "code",
   "execution_count": 68,
   "id": "2f857b24-2d3f-4b10-b966-d7b017d7fbad",
   "metadata": {
    "execution": {
     "iopub.execute_input": "2022-06-28T17:34:36.388700Z",
     "iopub.status.busy": "2022-06-28T17:34:36.388700Z",
     "iopub.status.idle": "2022-06-28T17:34:36.403709Z",
     "shell.execute_reply": "2022-06-28T17:34:36.403709Z",
     "shell.execute_reply.started": "2022-06-28T17:34:36.388700Z"
    },
    "tags": []
   },
   "outputs": [],
   "source": [
    "Ftree_mina = OrderedDict([(next(iter(comp)).name,'solver') for comp in minassign_order])"
   ]
  },
  {
   "cell_type": "code",
   "execution_count": 69,
   "id": "adc391fb-94dc-4a53-8b90-91b6ba8d3800",
   "metadata": {
    "execution": {
     "iopub.execute_input": "2022-06-28T17:34:36.923770Z",
     "iopub.status.busy": "2022-06-28T17:34:36.923770Z",
     "iopub.status.idle": "2022-06-28T17:34:36.936573Z",
     "shell.execute_reply": "2022-06-28T17:34:36.935768Z",
     "shell.execute_reply.started": "2022-06-28T17:34:36.923770Z"
    },
    "tags": []
   },
   "outputs": [],
   "source": [
    "tree_minassign = Ftree_mina, Stree, Vtree"
   ]
  },
  {
   "cell_type": "code",
   "execution_count": 70,
   "id": "aa8f92e0-a832-49f1-9b80-c67fa1ca8cb3",
   "metadata": {
    "execution": {
     "iopub.execute_input": "2022-06-28T17:34:37.549166Z",
     "iopub.status.busy": "2022-06-28T17:34:37.548171Z",
     "iopub.status.idle": "2022-06-28T17:34:38.115415Z",
     "shell.execute_reply": "2022-06-28T17:34:38.115415Z",
     "shell.execute_reply.started": "2022-06-28T17:34:37.549166Z"
    },
    "tags": []
   },
   "outputs": [
    {
     "data": {
      "image/png": "[encoded data removed]",
      "text/plain": [
       "<Figure size 432x288 with 1 Axes>"
      ]
     },
     "metadata": {
      "needs_background": "light"
     },
     "output_type": "display_data"
    }
   ],
   "source": [
    "_, ax = render_incidence(edges_minassign, tree_minassign, namingfunc, displaysolver=True)\n",
    "plt.sca(ax)\n",
    "plt.savefig(r'minmatch_10x13.png', dpi=300, bbox_inches='tight')"
   ]
  },
  {
   "cell_type": "markdown",
   "id": "eff73b2d-2b5a-4d99-96ff-5c626aaf31f4",
   "metadata": {},
   "source": [
    "# Validation"
   ]
  },
  {
   "cell_type": "code",
   "execution_count": 73,
   "id": "bee7ad2b-94db-4578-b43f-1e6f0e2f494d",
   "metadata": {
    "execution": {
     "iopub.execute_input": "2022-06-28T16:54:44.007375Z",
     "iopub.status.busy": "2022-06-28T16:54:44.007375Z",
     "iopub.status.idle": "2022-06-28T16:54:44.018375Z",
     "shell.execute_reply": "2022-06-28T16:54:44.018375Z",
     "shell.execute_reply.started": "2022-06-28T16:54:44.007375Z"
    },
    "tags": []
   },
   "outputs": [
    {
     "name": "stdout",
     "output_type": "stream",
     "text": [
      "[2, 4, 7, 8]\n",
      "[0, 5, 8, 9, 12]\n",
      "[1, 2, 8, 11]\n",
      "[5]\n",
      "[1, 2, 8, 11]\n",
      "[0, 1, 5, 6, 7, 11]\n",
      "[1, 2, 3, 8]\n",
      "[7, 11]\n",
      "[4, 7, 8, 9, 10, 12]\n",
      "[5, 7, 9]\n"
     ]
    }
   ],
   "source": [
    "for key,var in Ein.items():\n",
    "    print(sorted(var+ Eout[key]))"
   ]
  },
  {
   "cell_type": "code",
   "execution_count": 74,
   "id": "1f2ab0d1-5e39-4c87-821e-87ae6d8b79f8",
   "metadata": {
    "execution": {
     "iopub.execute_input": "2022-06-28T16:54:44.598754Z",
     "iopub.status.busy": "2022-06-28T16:54:44.597753Z",
     "iopub.status.idle": "2022-06-28T16:54:44.609734Z",
     "shell.execute_reply": "2022-06-28T16:54:44.608837Z",
     "shell.execute_reply.started": "2022-06-28T16:54:44.598754Z"
    },
    "tags": []
   },
   "outputs": [
    {
     "name": "stdout",
     "output_type": "stream",
     "text": [
      "[2, 4, 7, 8]\n",
      "[0, 5, 8, 9, 12]\n",
      "[1, 2, 8, 11]\n",
      "[5]\n",
      "[1, 2, 8, 11]\n",
      "[0, 1, 5, 6, 7, 11]\n",
      "[1, 2, 3, 8]\n",
      "[7, 11]\n",
      "[4, 7, 8, 9, 10, 12]\n",
      "[5, 7, 9]\n"
     ]
    }
   ],
   "source": [
    "for key,var in Ein_minassign.items():\n",
    "    outvar = Eout_minassign[key]\n",
    "    print(sorted(var+ (outvar if outvar[0] is not None else tuple())))"
   ]
  },
  {
   "cell_type": "code",
   "execution_count": null,
   "id": "270f3b22-2785-4164-9e34-fbd8878e13d2",
   "metadata": {},
   "outputs": [],
   "source": []
  }
 ],
 "metadata": {
  "kernelspec": {
   "display_name": "Python [conda env:mdo]",
   "language": "python",
   "name": "conda-env-mdo-py"
  },
  "language_info": {
   "codemirror_mode": {
    "name": "ipython",
    "version": 3
   },
   "file_extension": ".py",
   "mimetype": "text/x-python",
   "name": "python",
   "nbconvert_exporter": "python",
   "pygments_lexer": "ipython3",
   "version": "3.9.13"
  }
 },
 "nbformat": 4,
 "nbformat_minor": 5
}
