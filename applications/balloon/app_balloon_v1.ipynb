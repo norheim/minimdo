{
 "cells": [
  {
   "cell_type": "code",
   "execution_count": 1,
   "id": "3cda70fa",
   "metadata": {
    "execution": {
     "iopub.execute_input": "2021-10-07T03:37:14.618046Z",
     "iopub.status.busy": "2021-10-07T03:37:14.618046Z",
     "iopub.status.idle": "2021-10-07T03:37:21.288316Z",
     "shell.execute_reply": "2021-10-07T03:37:21.287300Z",
     "shell.execute_reply.started": "2021-10-07T03:37:14.618046Z"
    }
   },
   "outputs": [
    {
     "name": "stdout",
     "output_type": "stream",
     "text": [
      "Unable to import petsc4py. Parallel processing unavailable.\n",
      "Unable to import petsc4py. Parallel processing unavailable.\n"
     ]
    }
   ],
   "source": [
    "from compute import Var, eqvar, ureg, get_unit, buildidpvars, coupled_run, Evaluable, args_in_order, fill_args\n",
    "from inputresolver import reassigneq, eqvars, eqsonly, default_out, mdf_order, default_in, idx_eqlist\n",
    "from inputresolver import getallvars, invert_edges, resolve, reassign\n",
    "from representations import bipartite_repr, drawbipartite, digraph_repr, draw\n",
    "from compute_utils import get_outputs, check_eqs, print_out\n",
    "from pprint import pprint\n",
    "import networkx as nx\n",
    "import sympy as sp\n",
    "from sympy.utilities.lambdify import implemented_function\n",
    "import numpy as np\n",
    "from scipy import interpolate\n",
    "import openmdao.api as om"
   ]
  },
  {
   "cell_type": "code",
   "execution_count": 2,
   "id": "b0a3accf",
   "metadata": {
    "execution": {
     "iopub.execute_input": "2021-10-07T03:37:21.290304Z",
     "iopub.status.busy": "2021-10-07T03:37:21.290304Z",
     "iopub.status.idle": "2021-10-07T03:37:21.305307Z",
     "shell.execute_reply": "2021-10-07T03:37:21.303305Z",
     "shell.execute_reply.started": "2021-10-07T03:37:21.290304Z"
    }
   },
   "outputs": [],
   "source": [
    "from functools import reduce\n",
    "from itertools import chain\n",
    "from collections import OrderedDict\n",
    "import matplotlib.pyplot as plt"
   ]
  },
  {
   "cell_type": "code",
   "execution_count": 3,
   "id": "238bbc53",
   "metadata": {
    "execution": {
     "iopub.execute_input": "2021-10-07T03:37:21.309309Z",
     "iopub.status.busy": "2021-10-07T03:37:21.309309Z",
     "iopub.status.idle": "2021-10-07T03:37:21.320307Z",
     "shell.execute_reply": "2021-10-07T03:37:21.319304Z",
     "shell.execute_reply.started": "2021-10-07T03:37:21.309309Z"
    }
   },
   "outputs": [],
   "source": [
    "ureg.define('USD = [currency] ')"
   ]
  },
  {
   "cell_type": "code",
   "execution_count": 4,
   "id": "b0980378",
   "metadata": {
    "execution": {
     "iopub.execute_input": "2021-10-07T03:37:21.323306Z",
     "iopub.status.busy": "2021-10-07T03:37:21.323306Z",
     "iopub.status.idle": "2021-10-07T03:37:21.351306Z",
     "shell.execute_reply": "2021-10-07T03:37:21.350304Z",
     "shell.execute_reply.started": "2021-10-07T03:37:21.323306Z"
    }
   },
   "outputs": [],
   "source": [
    "z_table = np.array([0, 1, 2, 3, 4, 5, 6, 7, 8, 9, 10, 15, 20, 25, 30, 40])*1e3\n",
    "T_table_celsius = np.array([15, 8.5,2,-4.49,-10.98,-17.47,-23.96,-30.45,-36.94,-43.42,-49.9,-56.5,-56.5,-51.6,-46.64,-22.8])\n",
    "T_table = ureg.Quantity(T_table_celsius, 'degC').to('K').magnitude\n",
    "G_table = np.array([9.807,9.804,9.801,9.797,9.794,9.791,9.788,9.785,9.782,9.779,9.776,9.761,9.745,9.73,9.715,9.684])\n",
    "P_table = np.array([10.13,8.988,7.95,7.012,6.166,5.405,4.722,4.111,3.565,3.08,2.65,1.211,0.5529,0.2549,0.1197,0.0287])*1e4\n",
    "ρ_table = np.array([1.225,1.112,1.007,0.9093,0.8194,0.7364,0.6601,0.59,0.5258,0.4671,0.4135,0.1948,0.08891,0.04008,0.01841,0.003996])"
   ]
  },
  {
   "cell_type": "code",
   "execution_count": 5,
   "id": "7cde2124",
   "metadata": {
    "execution": {
     "iopub.execute_input": "2021-10-07T03:37:21.356306Z",
     "iopub.status.busy": "2021-10-07T03:37:21.355306Z",
     "iopub.status.idle": "2021-10-07T03:37:21.383308Z",
     "shell.execute_reply": "2021-10-07T03:37:21.381340Z",
     "shell.execute_reply.started": "2021-10-07T03:37:21.356306Z"
    }
   },
   "outputs": [],
   "source": [
    "Tinterp = interpolate.interp1d(z_table, T_table)\n",
    "Ginterp = interpolate.interp1d(z_table, G_table)\n",
    "Pinterp = interpolate.interp1d(z_table, P_table)\n",
    "ρinterp = interpolate.interp1d(z_table, ρ_table)\n",
    "T_int = Tinterp\n",
    "G_int = Ginterp\n",
    "P_int = Pinterp\n",
    "ρ_int = ρinterp"
   ]
  },
  {
   "cell_type": "code",
   "execution_count": 6,
   "id": "932a1301",
   "metadata": {
    "execution": {
     "iopub.execute_input": "2021-10-07T03:37:21.388305Z",
     "iopub.status.busy": "2021-10-07T03:37:21.387312Z",
     "iopub.status.idle": "2021-10-07T03:37:21.416304Z",
     "shell.execute_reply": "2021-10-07T03:37:21.413304Z",
     "shell.execute_reply.started": "2021-10-07T03:37:21.388305Z"
    }
   },
   "outputs": [],
   "source": [
    "def wrapper(f):\n",
    "    def wrappedf(h):\n",
    "        if isinstance(h, ureg.Quantity):\n",
    "            h = h.to('m').magnitude\n",
    "            print(h)\n",
    "        return f(h)\n",
    "    return wrappedf"
   ]
  },
  {
   "cell_type": "code",
   "execution_count": 7,
   "id": "2226ed85",
   "metadata": {
    "execution": {
     "iopub.execute_input": "2021-10-07T03:37:21.418303Z",
     "iopub.status.busy": "2021-10-07T03:37:21.418303Z",
     "iopub.status.idle": "2021-10-07T03:37:21.445304Z",
     "shell.execute_reply": "2021-10-07T03:37:21.444301Z",
     "shell.execute_reply.started": "2021-10-07T03:37:21.418303Z"
    }
   },
   "outputs": [],
   "source": [
    "rho = implemented_function(sp.Function('rho'),  wrapper(ρ_int))\n",
    "T = implemented_function(sp.Function('T'),  wrapper(T_int))\n",
    "P = implemented_function(sp.Function('P'),  wrapper(Pinterp))\n",
    "G = implemented_function(sp.Function('G'),  wrapper(Ginterp))\n",
    "rho0 = Var('rho0', ρ_int(0.01e3), 'kg/m^3', never_output=True)\n",
    "T0 = Var('T0', T_int(0.01e3), 'K', never_output=True)\n",
    "P0 = Var('P0', P_int(0.01e3), 'Pa', never_output=True)\n",
    "G0 = Var('G0', G_int(0.01e3), 'm/s^2', never_output=True)\n",
    "k = Var('k', 1.38064852e-23, 'J/K', never_output=True)\n",
    "mm_He = Var('mm_He', 6.64e-27, 'kg', never_output=True)\n",
    "mm_H2 = Var('mm_H2', 1.66e-27, 'kg', never_output=True)\n",
    "#rho_He0 = Var('rho_He0', 0.1786, 'kg/m^3') perhaps useful\n",
    "#rho_H0 = Var('rho_He0', 0.08988, 'kg/m^3')\n",
    "C_D = Var('C_D', 0.47, never_output=True)"
   ]
  },
  {
   "cell_type": "code",
   "execution_count": 8,
   "id": "5d08e180",
   "metadata": {
    "execution": {
     "iopub.execute_input": "2021-10-07T03:37:21.449308Z",
     "iopub.status.busy": "2021-10-07T03:37:21.449308Z",
     "iopub.status.idle": "2021-10-07T03:37:21.668305Z",
     "shell.execute_reply": "2021-10-07T03:37:21.667299Z",
     "shell.execute_reply.started": "2021-10-07T03:37:21.449308Z"
    }
   },
   "outputs": [],
   "source": [
    "m_parafoil = Var('mv', 500., 'kg',never_output=True)\n",
    "m_vhc = Var('mp', 4545., 'kg',never_output=True)\n",
    "m_lg = Var('ml', unit='kg')\n",
    "m_b = Var('mb', unit='kg')\n",
    "m_tot, eq0 = eqvar('m_t', m_vhc+m_parafoil+m_lg+m_b, 'kg')\n",
    "n_pax = Var('np', 8)\n",
    "n_crew = Var('nc', 2)\n",
    "mpp = Var('mpp', 100, 'kg')\n",
    "#cpm_vhc = Var('c_rho', 2236, 'USD/kg')\n",
    "#C_vhc, eq0b = eqvar('C_vhc', (m_vhc-(n_crew+n_pax)*mpp)*cpm_vhc)"
   ]
  },
  {
   "cell_type": "code",
   "execution_count": 9,
   "id": "fdd0408d",
   "metadata": {
    "execution": {
     "iopub.execute_input": "2021-10-07T03:37:21.671311Z",
     "iopub.status.busy": "2021-10-07T03:37:21.670311Z",
     "iopub.status.idle": "2021-10-07T03:37:21.684305Z",
     "shell.execute_reply": "2021-10-07T03:37:21.683300Z",
     "shell.execute_reply.started": "2021-10-07T03:37:21.671311Z"
    }
   },
   "outputs": [],
   "source": [
    "z = Var('z', 30480, unit='m', never_output=True) \n",
    "rhoval, eq1 = eqvar('rhoval', rho(z), 'kg/m^3', forceunit=True)\n",
    "pval, eq2 = eqvar('pval', P(z), 'Pa', forceunit=True)\n",
    "Tval, eq3 = eqvar('Tval', T(z), 'K', forceunit=True)\n",
    "gval, eq4 = eqvar('gval', G(z), 'm/s^2', forceunit=True)"
   ]
  },
  {
   "cell_type": "code",
   "execution_count": 10,
   "id": "eddb2459",
   "metadata": {
    "execution": {
     "iopub.execute_input": "2021-10-07T00:00:27.085868Z",
     "iopub.status.busy": "2021-10-07T00:00:27.084868Z",
     "iopub.status.idle": "2021-10-07T00:00:27.097869Z",
     "shell.execute_reply": "2021-10-07T00:00:27.096866Z",
     "shell.execute_reply.started": "2021-10-07T00:00:27.085868Z"
    }
   },
   "outputs": [],
   "source": [
    "alpha = Var('a', 1, never_output=True)\n",
    "v_rise = Var('v', 6, 'm/s', never_output=True)"
   ]
  },
  {
   "cell_type": "code",
   "execution_count": null,
   "id": "baa741c6",
   "metadata": {},
   "outputs": [],
   "source": []
  },
  {
   "cell_type": "markdown",
   "id": "c3d53aad",
   "metadata": {},
   "source": [
    "## Balloon Geometry at STP"
   ]
  },
  {
   "cell_type": "code",
   "execution_count": 11,
   "id": "5ddf551e",
   "metadata": {
    "execution": {
     "iopub.execute_input": "2021-10-07T00:00:27.100871Z",
     "iopub.status.busy": "2021-10-07T00:00:27.100871Z",
     "iopub.status.idle": "2021-10-07T00:00:27.145869Z",
     "shell.execute_reply": "2021-10-07T00:00:27.144866Z",
     "shell.execute_reply.started": "2021-10-07T00:00:27.100871Z"
    }
   },
   "outputs": [],
   "source": [
    "r0 = Var('r0', unit='m')\n",
    "A0, eq5 = eqvar('A0', np.pi*r0**2)\n",
    "V0, eq6 = eqvar('V0', 4/3*np.pi*r0**3)\n",
    "rho_LG0, eq7 = eqvar('rhoLG0', P0*(alpha*mm_He+(1-alpha)*mm_H2)/(k*T0))\n",
    "eq8 = (m_lg, V0*rho_LG0)"
   ]
  },
  {
   "cell_type": "markdown",
   "id": "e9f3b240",
   "metadata": {},
   "source": [
    "Converge radius based on desired rise velocity"
   ]
  },
  {
   "cell_type": "code",
   "execution_count": 12,
   "id": "eddf506f",
   "metadata": {
    "execution": {
     "iopub.execute_input": "2021-10-07T00:00:27.147869Z",
     "iopub.status.busy": "2021-10-07T00:00:27.147869Z",
     "iopub.status.idle": "2021-10-07T00:00:27.176870Z",
     "shell.execute_reply": "2021-10-07T00:00:27.175867Z",
     "shell.execute_reply.started": "2021-10-07T00:00:27.147869Z"
    }
   },
   "outputs": [],
   "source": [
    "L0, eq9 = eqvar('L0', rho0*V0*G0)\n",
    "W0, eq10 = eqvar('W0', m_tot*G0)\n",
    "D0, eq11 = eqvar('D0', 1/2*C_D*rho0*v_rise**2*A0)\n",
    "eq12 = (sp.S(0), L0-D0-W0)"
   ]
  },
  {
   "cell_type": "markdown",
   "id": "15832068",
   "metadata": {},
   "source": [
    "### End of model"
   ]
  },
  {
   "cell_type": "code",
   "execution_count": 13,
   "id": "f75697b8",
   "metadata": {
    "execution": {
     "iopub.execute_input": "2021-10-07T00:00:27.185875Z",
     "iopub.status.busy": "2021-10-07T00:00:27.185875Z",
     "iopub.status.idle": "2021-10-07T00:00:27.206867Z",
     "shell.execute_reply": "2021-10-07T00:00:27.205869Z",
     "shell.execute_reply.started": "2021-10-07T00:00:27.185875Z"
    }
   },
   "outputs": [],
   "source": [
    "eq_list = [eq0,eq1,eq2,eq3,eq4,eq5,eq6,eq7,eq8,eq9,eq10,eq11,eq12]"
   ]
  },
  {
   "cell_type": "code",
   "execution_count": 14,
   "id": "e2c778e3",
   "metadata": {
    "execution": {
     "iopub.execute_input": "2021-10-07T00:00:27.673869Z",
     "iopub.status.busy": "2021-10-07T00:00:27.673869Z",
     "iopub.status.idle": "2021-10-07T00:00:27.681870Z",
     "shell.execute_reply": "2021-10-07T00:00:27.680881Z",
     "shell.execute_reply.started": "2021-10-07T00:00:27.673869Z"
    }
   },
   "outputs": [],
   "source": [
    "eqs = idx_eqlist(eq_list)\n",
    "eqv = eqvars(eqs)\n",
    "dins = default_in(eqs)\n",
    "dout = default_out(eqs)"
   ]
  },
  {
   "cell_type": "code",
   "execution_count": 15,
   "id": "a3582f8f",
   "metadata": {
    "execution": {
     "iopub.execute_input": "2021-10-07T00:00:28.317875Z",
     "iopub.status.busy": "2021-10-07T00:00:28.317875Z",
     "iopub.status.idle": "2021-10-07T00:00:28.341868Z",
     "shell.execute_reply": "2021-10-07T00:00:28.340865Z",
     "shell.execute_reply.started": "2021-10-07T00:00:28.317875Z"
    }
   },
   "outputs": [
    {
     "data": {
      "text/plain": [
       "{0: (m_t, mb + ml + mp + mv),\n",
       " 1: (rhoval, rho(z)),\n",
       " 2: (pval, P(z)),\n",
       " 3: (Tval, T(z)),\n",
       " 4: (gval, G(z)),\n",
       " 5: (A0, 3.14159265358979*r0**2),\n",
       " 6: (V0, 4.18879020478639*r0**3),\n",
       " 7: (rhoLG0, P0*(a*mm_He + mm_H2*(1 - a))/(T0*k)),\n",
       " 8: (ml, V0*rhoLG0),\n",
       " 9: (L0, G0*V0*rho0),\n",
       " 10: (W0, G0*m_t),\n",
       " 11: (D0, 0.5*A0*C_D*rho0*v**2),\n",
       " 12: (0, -D0 + L0 - W0)}"
      ]
     },
     "execution_count": 15,
     "metadata": {},
     "output_type": "execute_result"
    }
   ],
   "source": [
    "eqs"
   ]
  },
  {
   "cell_type": "code",
   "execution_count": 16,
   "id": "6ca3b75f",
   "metadata": {
    "execution": {
     "iopub.execute_input": "2021-10-07T00:00:29.084269Z",
     "iopub.status.busy": "2021-10-07T00:00:29.084269Z",
     "iopub.status.idle": "2021-10-07T00:00:29.095270Z",
     "shell.execute_reply": "2021-10-07T00:00:29.094310Z",
     "shell.execute_reply.started": "2021-10-07T00:00:29.084269Z"
    }
   },
   "outputs": [],
   "source": [
    "new_ins = dins#.union(force_input) - set(not_input)\n",
    "new_eqv = {key: {elt for elt in outsetposs if not elt.never_output}\n",
    "        for key, outsetposs in eqv.items()}"
   ]
  },
  {
   "cell_type": "code",
   "execution_count": 242,
   "id": "2f4b077b",
   "metadata": {
    "execution": {
     "iopub.execute_input": "2021-09-26T19:59:02.270057Z",
     "iopub.status.busy": "2021-09-26T19:59:02.270057Z",
     "iopub.status.idle": "2021-09-26T19:59:02.339063Z",
     "shell.execute_reply": "2021-09-26T19:59:02.337063Z",
     "shell.execute_reply.started": "2021-09-26T19:59:02.270057Z"
    }
   },
   "outputs": [
    {
     "ename": "AmbiguousSolution",
     "evalue": "Disconnected graph: Ambiguous solution for bipartite sets.",
     "output_type": "error",
     "traceback": [
      "\u001b[1;31m---------------------------------------------------------------------------\u001b[0m",
      "\u001b[1;31mAmbiguousSolution\u001b[0m                         Traceback (most recent call last)",
      "\u001b[1;32m<ipython-input-242-5c19230efe61>\u001b[0m in \u001b[0;36m<module>\u001b[1;34m\u001b[0m\n\u001b[0;32m      1\u001b[0m \u001b[0mBG\u001b[0m\u001b[1;33m,\u001b[0m \u001b[0medges_original\u001b[0m \u001b[1;33m=\u001b[0m \u001b[0mbipartite_repr\u001b[0m\u001b[1;33m(\u001b[0m\u001b[0mnew_eqv\u001b[0m\u001b[1;33m)\u001b[0m\u001b[1;33m\u001b[0m\u001b[1;33m\u001b[0m\u001b[0m\n\u001b[1;32m----> 2\u001b[1;33m \u001b[0mM\u001b[0m \u001b[1;33m=\u001b[0m \u001b[0mnx\u001b[0m\u001b[1;33m.\u001b[0m\u001b[0mbipartite\u001b[0m\u001b[1;33m.\u001b[0m\u001b[0mmaximum_matching\u001b[0m\u001b[1;33m(\u001b[0m\u001b[0mBG\u001b[0m\u001b[1;33m)\u001b[0m\u001b[1;33m\u001b[0m\u001b[1;33m\u001b[0m\u001b[0m\n\u001b[0m\u001b[0;32m      3\u001b[0m \u001b[0mnewdout\u001b[0m \u001b[1;33m=\u001b[0m \u001b[1;33m{\u001b[0m\u001b[0mkey\u001b[0m\u001b[1;33m:\u001b[0m\u001b[0mM\u001b[0m\u001b[1;33m[\u001b[0m\u001b[0mkey\u001b[0m\u001b[1;33m]\u001b[0m \u001b[1;32mfor\u001b[0m \u001b[0mkey\u001b[0m \u001b[1;32min\u001b[0m \u001b[0mdout\u001b[0m\u001b[1;33m.\u001b[0m\u001b[0mkeys\u001b[0m\u001b[1;33m(\u001b[0m\u001b[1;33m)\u001b[0m\u001b[1;33m}\u001b[0m\u001b[1;33m\u001b[0m\u001b[1;33m\u001b[0m\u001b[0m\n",
      "\u001b[1;32m~\\Miniconda2\\envs\\mdo\\lib\\site-packages\\networkx\\algorithms\\bipartite\\matching.py\u001b[0m in \u001b[0;36mhopcroft_karp_matching\u001b[1;34m(G, top_nodes)\u001b[0m\n\u001b[0;32m    152\u001b[0m \u001b[1;33m\u001b[0m\u001b[0m\n\u001b[0;32m    153\u001b[0m     \u001b[1;31m# Initialize the \"global\" variables that maintain state during the search.\u001b[0m\u001b[1;33m\u001b[0m\u001b[1;33m\u001b[0m\u001b[1;33m\u001b[0m\u001b[0m\n\u001b[1;32m--> 154\u001b[1;33m     \u001b[0mleft\u001b[0m\u001b[1;33m,\u001b[0m \u001b[0mright\u001b[0m \u001b[1;33m=\u001b[0m \u001b[0mbipartite_sets\u001b[0m\u001b[1;33m(\u001b[0m\u001b[0mG\u001b[0m\u001b[1;33m,\u001b[0m \u001b[0mtop_nodes\u001b[0m\u001b[1;33m)\u001b[0m\u001b[1;33m\u001b[0m\u001b[1;33m\u001b[0m\u001b[0m\n\u001b[0m\u001b[0;32m    155\u001b[0m     \u001b[0mleftmatches\u001b[0m \u001b[1;33m=\u001b[0m \u001b[1;33m{\u001b[0m\u001b[0mv\u001b[0m\u001b[1;33m:\u001b[0m \u001b[1;32mNone\u001b[0m \u001b[1;32mfor\u001b[0m \u001b[0mv\u001b[0m \u001b[1;32min\u001b[0m \u001b[0mleft\u001b[0m\u001b[1;33m}\u001b[0m\u001b[1;33m\u001b[0m\u001b[1;33m\u001b[0m\u001b[0m\n\u001b[0;32m    156\u001b[0m     \u001b[0mrightmatches\u001b[0m \u001b[1;33m=\u001b[0m \u001b[1;33m{\u001b[0m\u001b[0mv\u001b[0m\u001b[1;33m:\u001b[0m \u001b[1;32mNone\u001b[0m \u001b[1;32mfor\u001b[0m \u001b[0mv\u001b[0m \u001b[1;32min\u001b[0m \u001b[0mright\u001b[0m\u001b[1;33m}\u001b[0m\u001b[1;33m\u001b[0m\u001b[1;33m\u001b[0m\u001b[0m\n",
      "\u001b[1;32m~\\Miniconda2\\envs\\mdo\\lib\\site-packages\\networkx\\algorithms\\bipartite\\basic.py\u001b[0m in \u001b[0;36msets\u001b[1;34m(G, top_nodes)\u001b[0m\n\u001b[0;32m    199\u001b[0m         \u001b[1;32mif\u001b[0m \u001b[1;32mnot\u001b[0m \u001b[0mis_connected\u001b[0m\u001b[1;33m(\u001b[0m\u001b[0mG\u001b[0m\u001b[1;33m)\u001b[0m\u001b[1;33m:\u001b[0m\u001b[1;33m\u001b[0m\u001b[1;33m\u001b[0m\u001b[0m\n\u001b[0;32m    200\u001b[0m             \u001b[0mmsg\u001b[0m \u001b[1;33m=\u001b[0m \u001b[1;34m\"Disconnected graph: Ambiguous solution for bipartite sets.\"\u001b[0m\u001b[1;33m\u001b[0m\u001b[1;33m\u001b[0m\u001b[0m\n\u001b[1;32m--> 201\u001b[1;33m             \u001b[1;32mraise\u001b[0m \u001b[0mnx\u001b[0m\u001b[1;33m.\u001b[0m\u001b[0mAmbiguousSolution\u001b[0m\u001b[1;33m(\u001b[0m\u001b[0mmsg\u001b[0m\u001b[1;33m)\u001b[0m\u001b[1;33m\u001b[0m\u001b[1;33m\u001b[0m\u001b[0m\n\u001b[0m\u001b[0;32m    202\u001b[0m         \u001b[0mc\u001b[0m \u001b[1;33m=\u001b[0m \u001b[0mcolor\u001b[0m\u001b[1;33m(\u001b[0m\u001b[0mG\u001b[0m\u001b[1;33m)\u001b[0m\u001b[1;33m\u001b[0m\u001b[1;33m\u001b[0m\u001b[0m\n\u001b[0;32m    203\u001b[0m         \u001b[0mX\u001b[0m \u001b[1;33m=\u001b[0m \u001b[1;33m{\u001b[0m\u001b[0mn\u001b[0m \u001b[1;32mfor\u001b[0m \u001b[0mn\u001b[0m\u001b[1;33m,\u001b[0m \u001b[0mis_top\u001b[0m \u001b[1;32min\u001b[0m \u001b[0mc\u001b[0m\u001b[1;33m.\u001b[0m\u001b[0mitems\u001b[0m\u001b[1;33m(\u001b[0m\u001b[1;33m)\u001b[0m \u001b[1;32mif\u001b[0m \u001b[0mis_top\u001b[0m\u001b[1;33m}\u001b[0m\u001b[1;33m\u001b[0m\u001b[1;33m\u001b[0m\u001b[0m\n",
      "\u001b[1;31mAmbiguousSolution\u001b[0m: Disconnected graph: Ambiguous solution for bipartite sets."
     ]
    }
   ],
   "source": [
    "BG, edges_original = bipartite_repr(new_eqv)\n",
    "M = nx.bipartite.maximum_matching(BG)\n",
    "newdout = {key:M[key] for key in dout.keys()}"
   ]
  },
  {
   "cell_type": "markdown",
   "id": "beb920d8",
   "metadata": {},
   "source": [
    "## Balloon Geometry at target altitude"
   ]
  },
  {
   "cell_type": "code",
   "execution_count": 196,
   "id": "87d7b007",
   "metadata": {
    "execution": {
     "iopub.execute_input": "2021-09-26T17:52:00.321452Z",
     "iopub.status.busy": "2021-09-26T17:52:00.320412Z",
     "iopub.status.idle": "2021-09-26T17:52:00.363407Z",
     "shell.execute_reply": "2021-09-26T17:52:00.361471Z",
     "shell.execute_reply.started": "2021-09-26T17:52:00.321452Z"
    }
   },
   "outputs": [],
   "source": [
    "rz = Var('rz', unit='m')\n",
    "hz, eq13 = eqvar('hz', 2*(3/2)*rz)\n",
    "Vz, eq14 = eqvar('Vz', 4/3*np.pi*rz**3)\n",
    "rho_LGz, eq15 = eqvar('rhoLGz', pval*(alpha*mm_He+(1-alpha)*mm_H2)/(k*Tval))"
   ]
  },
  {
   "cell_type": "markdown",
   "id": "9fbe115e",
   "metadata": {
    "execution": {
     "iopub.execute_input": "2021-09-24T18:03:40.895519Z",
     "iopub.status.busy": "2021-09-24T18:03:40.895519Z",
     "iopub.status.idle": "2021-09-24T18:03:40.904048Z",
     "shell.execute_reply": "2021-09-24T18:03:40.902519Z",
     "shell.execute_reply.started": "2021-09-24T18:03:40.895519Z"
    }
   },
   "source": [
    "Converge radius based on mass constraint"
   ]
  },
  {
   "cell_type": "code",
   "execution_count": 197,
   "id": "d4cc9fcf",
   "metadata": {
    "execution": {
     "iopub.execute_input": "2021-09-26T17:52:02.443933Z",
     "iopub.status.busy": "2021-09-26T17:52:02.443933Z",
     "iopub.status.idle": "2021-09-26T17:52:02.451928Z",
     "shell.execute_reply": "2021-09-26T17:52:02.450928Z",
     "shell.execute_reply.started": "2021-09-26T17:52:02.443933Z"
    }
   },
   "outputs": [],
   "source": [
    "eq16 = (sp.S(0), m_lg-Vz*rho_LGz) #needs to have same mass as balloon at STP"
   ]
  },
  {
   "cell_type": "markdown",
   "id": "87c3765e",
   "metadata": {},
   "source": [
    "Converge altitude based on steady state"
   ]
  },
  {
   "cell_type": "code",
   "execution_count": 198,
   "id": "55d64afd",
   "metadata": {
    "execution": {
     "iopub.execute_input": "2021-09-26T17:52:03.560171Z",
     "iopub.status.busy": "2021-09-26T17:52:03.559183Z",
     "iopub.status.idle": "2021-09-26T17:52:03.580164Z",
     "shell.execute_reply": "2021-09-26T17:52:03.579167Z",
     "shell.execute_reply.started": "2021-09-26T17:52:03.560171Z"
    }
   },
   "outputs": [],
   "source": [
    "Lz, eq17 = eqvar('Lz', rhoval*Vz*gval)\n",
    "Wz, eq18 = eqvar('Wz', m_tot*gval)\n",
    "eq19 = (sp.S(0), Lz-Wz) # "
   ]
  },
  {
   "cell_type": "markdown",
   "id": "7fa38e70",
   "metadata": {},
   "source": [
    "Mass calculations"
   ]
  },
  {
   "cell_type": "code",
   "execution_count": 199,
   "id": "2355c49c",
   "metadata": {
    "execution": {
     "iopub.execute_input": "2021-09-26T17:52:04.125570Z",
     "iopub.status.busy": "2021-09-26T17:52:04.124570Z",
     "iopub.status.idle": "2021-09-26T17:52:04.163569Z",
     "shell.execute_reply": "2021-09-26T17:52:04.162593Z",
     "shell.execute_reply.started": "2021-09-26T17:52:04.125570Z"
    }
   },
   "outputs": [],
   "source": [
    "t_LLDPE = Var('tL', 5.4*10e-6*1, 'm', never_output=True)\n",
    "rho_LLDPE = Var('rhoL', 925, 'kg/m^3', never_output=True)\n",
    "p = Var('p', 1.6, never_output=True) #some parameter\n",
    "S, eq20 = eqvar('S', 4*np.pi*((rz**(2*p)+2*rz**p*(hz/2)**p)/3)**(1/p))\n",
    "eq21 = (m_b, 2*(3/2)*S*t_LLDPE*rho_LLDPE)"
   ]
  },
  {
   "cell_type": "markdown",
   "id": "4be8550c",
   "metadata": {},
   "source": [
    "# Visualization"
   ]
  },
  {
   "cell_type": "code",
   "execution_count": 200,
   "id": "f21fbbe0",
   "metadata": {
    "execution": {
     "iopub.execute_input": "2021-09-26T17:52:04.478570Z",
     "iopub.status.busy": "2021-09-26T17:52:04.477567Z",
     "iopub.status.idle": "2021-09-26T17:52:04.496578Z",
     "shell.execute_reply": "2021-09-26T17:52:04.495562Z",
     "shell.execute_reply.started": "2021-09-26T17:52:04.478570Z"
    }
   },
   "outputs": [],
   "source": [
    "eq_list = [eq0, eq1,eq2,eq3,eq4,eq5,eq6,eq7,eq8,eq9,eq10,eq11,eq12,eq13,eq14,eq15,eq16,eq17,eq18,eq19,eq20,eq21]"
   ]
  },
  {
   "cell_type": "code",
   "execution_count": 201,
   "id": "2349a413",
   "metadata": {
    "execution": {
     "iopub.execute_input": "2021-09-26T17:52:04.664571Z",
     "iopub.status.busy": "2021-09-26T17:52:04.664571Z",
     "iopub.status.idle": "2021-09-26T17:52:04.670573Z",
     "shell.execute_reply": "2021-09-26T17:52:04.668600Z",
     "shell.execute_reply.started": "2021-09-26T17:52:04.664571Z"
    }
   },
   "outputs": [],
   "source": [
    "eqs = idx_eqlist(eq_list)\n",
    "eqv = eqvars(eqs)"
   ]
  },
  {
   "cell_type": "code",
   "execution_count": 202,
   "id": "13639ddb",
   "metadata": {
    "execution": {
     "iopub.execute_input": "2021-09-26T17:52:04.903571Z",
     "iopub.status.busy": "2021-09-26T17:52:04.902574Z",
     "iopub.status.idle": "2021-09-26T17:52:04.922566Z",
     "shell.execute_reply": "2021-09-26T17:52:04.921563Z",
     "shell.execute_reply.started": "2021-09-26T17:52:04.903571Z"
    }
   },
   "outputs": [],
   "source": [
    "dins = default_in(eqs)\n",
    "dout = default_out(eqs)"
   ]
  },
  {
   "cell_type": "code",
   "execution_count": 203,
   "id": "3aad1308",
   "metadata": {
    "execution": {
     "iopub.execute_input": "2021-09-26T17:52:05.119579Z",
     "iopub.status.busy": "2021-09-26T17:52:05.118570Z",
     "iopub.status.idle": "2021-09-26T17:52:05.140566Z",
     "shell.execute_reply": "2021-09-26T17:52:05.139565Z",
     "shell.execute_reply.started": "2021-09-26T17:52:05.119579Z"
    }
   },
   "outputs": [],
   "source": [
    "new_ins = dins#.union(force_input) - set(not_input)\n",
    "new_eqv = {key: {elt for elt in outsetposs if not elt.never_output}\n",
    "        for key, outsetposs in eqv.items()}"
   ]
  },
  {
   "cell_type": "code",
   "execution_count": 204,
   "id": "54c82fc1",
   "metadata": {
    "execution": {
     "iopub.execute_input": "2021-09-26T17:52:05.343567Z",
     "iopub.status.busy": "2021-09-26T17:52:05.342571Z",
     "iopub.status.idle": "2021-09-26T17:52:05.376565Z",
     "shell.execute_reply": "2021-09-26T17:52:05.375563Z",
     "shell.execute_reply.started": "2021-09-26T17:52:05.342571Z"
    }
   },
   "outputs": [
    {
     "data": {
      "text/plain": [
       "{0: {m_t, mb, ml},\n",
       " 1: {rhoval},\n",
       " 2: {pval},\n",
       " 3: {Tval},\n",
       " 4: {gval},\n",
       " 5: {A0, r0},\n",
       " 6: {V0, r0},\n",
       " 7: {rhoLG0},\n",
       " 8: {V0, ml, rhoLG0},\n",
       " 9: {L0, V0},\n",
       " 10: {W0, m_t},\n",
       " 11: {A0, D0},\n",
       " 12: {D0, Fe, L0, W0},\n",
       " 13: {hz, rz},\n",
       " 14: {Vz, rz},\n",
       " 15: {Tval, pval, rhoLGz},\n",
       " 16: {Vz, ml, rhoLGz},\n",
       " 17: {Lz, Vz, gval, rhoval},\n",
       " 18: {Wz, gval, m_t},\n",
       " 19: {Lz, Wz},\n",
       " 20: {S, hz, rz},\n",
       " 21: {S, mb}}"
      ]
     },
     "execution_count": 204,
     "metadata": {},
     "output_type": "execute_result"
    }
   ],
   "source": [
    "new_eqv"
   ]
  },
  {
   "cell_type": "code",
   "execution_count": 205,
   "id": "1a3c9811",
   "metadata": {
    "execution": {
     "iopub.execute_input": "2021-09-26T17:52:05.604578Z",
     "iopub.status.busy": "2021-09-26T17:52:05.604578Z",
     "iopub.status.idle": "2021-09-26T17:52:05.629096Z",
     "shell.execute_reply": "2021-09-26T17:52:05.628094Z",
     "shell.execute_reply.started": "2021-09-26T17:52:05.604578Z"
    }
   },
   "outputs": [],
   "source": [
    "BG, edges_original = bipartite_repr(new_eqv)\n",
    "M = nx.bipartite.maximum_matching(BG)\n",
    "newdout = {key:M[key] for key in dout.keys()}"
   ]
  },
  {
   "cell_type": "code",
   "execution_count": 206,
   "id": "fb480ee8",
   "metadata": {
    "execution": {
     "iopub.execute_input": "2021-09-26T17:52:06.536102Z",
     "iopub.status.busy": "2021-09-26T17:52:06.535097Z",
     "iopub.status.idle": "2021-09-26T17:52:06.573153Z",
     "shell.execute_reply": "2021-09-26T17:52:06.572151Z",
     "shell.execute_reply.started": "2021-09-26T17:52:06.536102Z"
    }
   },
   "outputs": [
    {
     "data": {
      "text/plain": [
       "{C_D, G0, P0, T0, a, k, mm_H2, mm_He, mp, mv, p, rho0, rhoL, tL, v, z}"
      ]
     },
     "execution_count": 206,
     "metadata": {},
     "output_type": "execute_result"
    }
   ],
   "source": [
    "getallvars(eqs)-set(newdout.values())-{0}"
   ]
  },
  {
   "cell_type": "code",
   "execution_count": 207,
   "id": "25a49a3d",
   "metadata": {
    "execution": {
     "iopub.execute_input": "2021-09-26T17:52:06.990163Z",
     "iopub.status.busy": "2021-09-26T17:52:06.989158Z",
     "iopub.status.idle": "2021-09-26T17:52:07.000155Z",
     "shell.execute_reply": "2021-09-26T17:52:06.998152Z",
     "shell.execute_reply.started": "2021-09-26T17:52:06.990163Z"
    }
   },
   "outputs": [],
   "source": [
    "DG, edges = digraph_repr(new_eqv, newdout, intermediary=False)"
   ]
  },
  {
   "cell_type": "code",
   "execution_count": 208,
   "id": "68d0b93a",
   "metadata": {
    "execution": {
     "iopub.execute_input": "2021-09-26T17:52:07.230159Z",
     "iopub.status.busy": "2021-09-26T17:52:07.229157Z",
     "iopub.status.idle": "2021-09-26T17:52:07.251151Z",
     "shell.execute_reply": "2021-09-26T17:52:07.250151Z",
     "shell.execute_reply.started": "2021-09-26T17:52:07.230159Z"
    }
   },
   "outputs": [
    {
     "data": {
      "text/plain": [
       "[{Fe},\n",
       " {D0},\n",
       " {A0},\n",
       " {r0},\n",
       " {L0},\n",
       " {V0},\n",
       " {W0},\n",
       " {Lz, S, Vz, Wz, hz, m_t, mb, ml, rz},\n",
       " {rhoLG0},\n",
       " {rhoLGz},\n",
       " {Tval},\n",
       " {pval},\n",
       " {gval},\n",
       " {rhoval}]"
      ]
     },
     "execution_count": 208,
     "metadata": {},
     "output_type": "execute_result"
    }
   ],
   "source": [
    "list(nx.strongly_connected_components(DG))"
   ]
  },
  {
   "cell_type": "code",
   "execution_count": 209,
   "id": "13921615",
   "metadata": {
    "execution": {
     "iopub.execute_input": "2021-09-26T17:52:07.856309Z",
     "iopub.status.busy": "2021-09-26T17:52:07.855313Z",
     "iopub.status.idle": "2021-09-26T17:52:07.870301Z",
     "shell.execute_reply": "2021-09-26T17:52:07.867306Z",
     "shell.execute_reply.started": "2021-09-26T17:52:07.855313Z"
    }
   },
   "outputs": [],
   "source": [
    "dgin = {n for n in DG.nodes if len(list(DG.predecessors(n)))==0}"
   ]
  },
  {
   "cell_type": "code",
   "execution_count": 220,
   "id": "e81f23f9",
   "metadata": {
    "execution": {
     "iopub.execute_input": "2021-09-26T17:59:54.662371Z",
     "iopub.status.busy": "2021-09-26T17:59:54.662371Z",
     "iopub.status.idle": "2021-09-26T17:59:54.679343Z",
     "shell.execute_reply": "2021-09-26T17:59:54.678342Z",
     "shell.execute_reply.started": "2021-09-26T17:59:54.662371Z"
    }
   },
   "outputs": [],
   "source": [
    "# #draw(DG, figsize=(15,15), node_shape='o', prog='neato')\n",
    "# prog='dot'\n",
    "# node_shape='o'\n",
    "# edge_color='k'\n",
    "# width=2\n",
    "# arc=False\n",
    "# figsize=(15,15)\n",
    "# node_size=1000\n",
    "# labels = OrderedDict([(elt,r'${}$'.format(str(elt))) for elt in DG.nodes])\n",
    "# pos = nx.drawing.nx_pydot.graphviz_layout(DG, prog=prog)\n",
    "# plt.figure(figsize=figsize)\n",
    "# plt.margins(0.15)\n",
    "# nx.draw_networkx_nodes(DG, pos=pos, node_size=node_size, node_color='lightgreen', \n",
    "#     linewidths=2, edgecolors='k', node_shape=node_shape, nodelist=list(dgin))\n",
    "# nx.draw_networkx_nodes(DG, pos=pos, node_size=node_size, node_color='w', \n",
    "#     linewidths=2, edgecolors='k', node_shape=node_shape, nodelist =set(DG.nodes)-dgin)\n",
    "# #https://stackoverflow.com/questions/22785849/drawing-multiple-edges-between-two-nodes-with-networkx\n",
    "# connectionstyle = 'arc3, rad = 0.1' if arc else None\n",
    "# nx.draw_networkx_edges(DG, pos=pos, arrowsize=20, width=width, \n",
    "#     edge_color=edge_color, connectionstyle=connectionstyle)\n",
    "# nx.draw_networkx_labels(DG, pos, labels, font_size=20)\n",
    "# plt.gca().axis(\"off\");"
   ]
  },
  {
   "cell_type": "code",
   "execution_count": 221,
   "id": "1a49e572",
   "metadata": {
    "execution": {
     "iopub.execute_input": "2021-09-26T18:00:14.415249Z",
     "iopub.status.busy": "2021-09-26T18:00:14.415249Z",
     "iopub.status.idle": "2021-09-26T18:00:14.424768Z",
     "shell.execute_reply": "2021-09-26T18:00:14.423243Z",
     "shell.execute_reply.started": "2021-09-26T18:00:14.415249Z"
    }
   },
   "outputs": [],
   "source": [
    "new_order = mdf_order(new_eqv, newdout)"
   ]
  },
  {
   "cell_type": "code",
   "execution_count": 227,
   "id": "48767ee2",
   "metadata": {
    "execution": {
     "iopub.execute_input": "2021-09-26T18:06:55.607816Z",
     "iopub.status.busy": "2021-09-26T18:06:55.606824Z",
     "iopub.status.idle": "2021-09-26T18:06:55.622350Z",
     "shell.execute_reply": "2021-09-26T18:06:55.621349Z",
     "shell.execute_reply.started": "2021-09-26T18:06:55.607816Z"
    }
   },
   "outputs": [],
   "source": [
    "order_flattened = []\n",
    "for elt in new_order:\n",
    "    if type(elt)==tuple:\n",
    "        order_flattened.extend(elt)\n",
    "    else:\n",
    "        order_flattened.append(elt)"
   ]
  },
  {
   "cell_type": "code",
   "execution_count": 234,
   "id": "027504c3",
   "metadata": {
    "execution": {
     "iopub.execute_input": "2021-09-26T19:49:22.059899Z",
     "iopub.status.busy": "2021-09-26T19:49:22.048834Z",
     "iopub.status.idle": "2021-09-26T19:49:22.155569Z",
     "shell.execute_reply": "2021-09-26T19:49:22.151565Z",
     "shell.execute_reply.started": "2021-09-26T19:49:22.058847Z"
    }
   },
   "outputs": [
    {
     "data": {
      "text/plain": [
       "[1, 4, 2, 3, 15, 20, 17, 14, 13, 21, 19, 0, 18, 16, 10, 7, 8, 9, 6, 5, 11, 12]"
      ]
     },
     "execution_count": 234,
     "metadata": {},
     "output_type": "execute_result"
    }
   ],
   "source": [
    "order_flattened"
   ]
  },
  {
   "cell_type": "code",
   "execution_count": 229,
   "id": "5e8705a5",
   "metadata": {
    "execution": {
     "iopub.execute_input": "2021-09-26T18:07:07.277595Z",
     "iopub.status.busy": "2021-09-26T18:07:07.276595Z",
     "iopub.status.idle": "2021-09-26T18:07:07.292592Z",
     "shell.execute_reply": "2021-09-26T18:07:07.291592Z",
     "shell.execute_reply.started": "2021-09-26T18:07:07.276595Z"
    }
   },
   "outputs": [],
   "source": [
    "m = nx.adjacency_matrix(DG)"
   ]
  },
  {
   "cell_type": "code",
   "execution_count": 232,
   "id": "c3b9e213",
   "metadata": {
    "execution": {
     "iopub.execute_input": "2021-09-26T18:08:04.016963Z",
     "iopub.status.busy": "2021-09-26T18:08:04.016963Z",
     "iopub.status.idle": "2021-09-26T18:08:04.041937Z",
     "shell.execute_reply": "2021-09-26T18:08:04.040973Z",
     "shell.execute_reply.started": "2021-09-26T18:08:04.016963Z"
    }
   },
   "outputs": [],
   "source": [
    "eqorder = order_flattened #2,1,3,4\n",
    "labels = OrderedDict([(elt,r'${}$'.format(str(elt))) for elt in DG.nodes])\n",
    "dsm_labels = [labels[newdout[elt]] for elt in eqorder]\n",
    "node_order = list(DG.nodes())\n",
    "index_order = [node_order.index(newdout[elt]) for elt in eqorder]\n",
    "#https://stackoverflow.com/questions/22927181/selecting-specific-rows-and-columns-from-numpy-array\n",
    "dsm = m.todense()[np.ix_(index_order,index_order)].astype(np.float32)\n",
    "dsm[np.diag_indices(len(dsm))]=0.5"
   ]
  },
  {
   "cell_type": "code",
   "execution_count": 236,
   "id": "51349624",
   "metadata": {
    "execution": {
     "iopub.execute_input": "2021-09-26T19:51:11.282924Z",
     "iopub.status.busy": "2021-09-26T19:51:11.282924Z",
     "iopub.status.idle": "2021-09-26T19:51:12.615492Z",
     "shell.execute_reply": "2021-09-26T19:51:12.613488Z",
     "shell.execute_reply.started": "2021-09-26T19:51:11.282924Z"
    }
   },
   "outputs": [
    {
     "data": {
      "image/png": "[encoded data removed]",
      "text/plain": [
       "<Figure size 432x288 with 1 Axes>"
      ]
     },
     "metadata": {
      "needs_background": "light"
     },
     "output_type": "display_data"
    }
   ],
   "source": [
    "#plt.matshow(dsm.T, cmap='Greys',  interpolation='nearest');\n",
    "fig = plt.pcolormesh(dsm.T, cmap='Greys', edgecolors='lightgray', linewidth=1, vmin=0, vmax=1)\n",
    "ax = plt.gca()\n",
    "ax.invert_yaxis()\n",
    "ax.set_aspect('equal')\n",
    "a,b = zip(*enumerate(dsm_labels))\n",
    "plt.xticks(np.array(a)+0.5,b, rotation = 60);\n",
    "plt.yticks(np.array(a)+0.5,b);\n",
    "ax.xaxis.tick_top()"
   ]
  },
  {
   "cell_type": "code",
   "execution_count": 223,
   "id": "80160e2c",
   "metadata": {
    "execution": {
     "iopub.execute_input": "2021-09-26T18:00:44.068387Z",
     "iopub.status.busy": "2021-09-26T18:00:44.068387Z",
     "iopub.status.idle": "2021-09-26T18:00:44.088384Z",
     "shell.execute_reply": "2021-09-26T18:00:44.087383Z",
     "shell.execute_reply.started": "2021-09-26T18:00:44.068387Z"
    }
   },
   "outputs": [
    {
     "data": {
      "text/plain": [
       "{0: {m_t, mb, ml},\n",
       " 1: {rhoval},\n",
       " 2: {pval},\n",
       " 3: {Tval},\n",
       " 4: {gval},\n",
       " 5: {A0, r0},\n",
       " 6: {V0, r0},\n",
       " 7: {rhoLG0},\n",
       " 8: {V0, ml, rhoLG0},\n",
       " 9: {L0, V0},\n",
       " 10: {W0, m_t},\n",
       " 11: {A0, D0},\n",
       " 12: {D0, Fe, L0, W0},\n",
       " 13: {hz, rz},\n",
       " 14: {Vz, rz},\n",
       " 15: {Tval, pval, rhoLGz},\n",
       " 16: {Vz, ml, rhoLGz},\n",
       " 17: {Lz, Vz, gval, rhoval},\n",
       " 18: {Wz, gval, m_t},\n",
       " 19: {Lz, Wz},\n",
       " 20: {S, hz, rz},\n",
       " 21: {S, mb}}"
      ]
     },
     "execution_count": 223,
     "metadata": {},
     "output_type": "execute_result"
    }
   ],
   "source": [
    "new_eqv"
   ]
  },
  {
   "cell_type": "markdown",
   "id": "9b4a20b1",
   "metadata": {},
   "source": [
    "## Calculations"
   ]
  },
  {
   "cell_type": "code",
   "execution_count": 212,
   "id": "e1f52741",
   "metadata": {
    "execution": {
     "iopub.execute_input": "2021-09-26T17:52:12.057245Z",
     "iopub.status.busy": "2021-09-26T17:52:12.056248Z",
     "iopub.status.idle": "2021-09-26T17:52:12.944313Z",
     "shell.execute_reply": "2021-09-26T17:52:12.943309Z",
     "shell.execute_reply.started": "2021-09-26T17:52:12.057245Z"
    }
   },
   "outputs": [],
   "source": [
    "new_eqs = reassign(eqs, newdout)"
   ]
  },
  {
   "cell_type": "code",
   "execution_count": 213,
   "id": "794efe7c",
   "metadata": {
    "execution": {
     "iopub.execute_input": "2021-09-26T17:52:12.946315Z",
     "iopub.status.busy": "2021-09-26T17:52:12.946315Z",
     "iopub.status.idle": "2021-09-26T17:52:12.975312Z",
     "shell.execute_reply": "2021-09-26T17:52:12.974310Z",
     "shell.execute_reply.started": "2021-09-26T17:52:12.946315Z"
    }
   },
   "outputs": [
    {
     "data": {
      "text/plain": [
       "{0: (ml, m_t - mb - mp - mv),\n",
       " 1: (rhoval, rho(z)),\n",
       " 2: (pval, P(z)),\n",
       " 3: (Tval, T(z)),\n",
       " 4: (gval, G(z)),\n",
       " 5: (A0, 3.14159265358979*r0**2),\n",
       " 6: (r0, 0.620350490899399*V0**(1/3)),\n",
       " 7: (rhoLG0, P0*(-a*mm_H2 + a*mm_He + mm_H2)/(T0*k)),\n",
       " 8: (V0, ml/rhoLG0),\n",
       " 9: (L0, G0*V0*rho0),\n",
       " 10: (W0, G0*m_t),\n",
       " 11: (D0, 0.5*A0*C_D*rho0*v**2),\n",
       " 12: (Fe, -D0 + L0 - W0),\n",
       " 13: (hz, 3.0*rz),\n",
       " 14: (rz, 0.620350490899399*Vz**(1/3)),\n",
       " 15: (rhoLGz, pval*(-a*mm_H2 + a*mm_He + mm_H2)/(Tval*k)),\n",
       " 16: (Vz, ml/rhoLGz),\n",
       " 17: (Lz, Vz*gval*rhoval),\n",
       " 18: (m_t, Wz/gval),\n",
       " 19: (Wz, Lz),\n",
       " 20: (S,\n",
       "  12.5663706143592*(0.333333333333333*2.0**(-p)*rz**p*(2.0**p*rz**p + 2.0*hz**p))**(1/p)),\n",
       " 21: (mb, 3.0*S*rhoL*tL)}"
      ]
     },
     "execution_count": 213,
     "metadata": {},
     "output_type": "execute_result"
    }
   ],
   "source": [
    "new_eqs"
   ]
  },
  {
   "cell_type": "code",
   "execution_count": 214,
   "id": "42d2a483",
   "metadata": {
    "execution": {
     "iopub.execute_input": "2021-09-26T17:52:13.434322Z",
     "iopub.status.busy": "2021-09-26T17:52:13.433322Z",
     "iopub.status.idle": "2021-09-26T17:52:13.448371Z",
     "shell.execute_reply": "2021-09-26T17:52:13.447372Z",
     "shell.execute_reply.started": "2021-09-26T17:52:13.434322Z"
    }
   },
   "outputs": [],
   "source": [
    "new_ins = default_in(new_eqs)"
   ]
  },
  {
   "cell_type": "code",
   "execution_count": 215,
   "id": "8bf9a1a8",
   "metadata": {
    "execution": {
     "iopub.execute_input": "2021-09-26T17:52:14.390004Z",
     "iopub.status.busy": "2021-09-26T17:52:14.389006Z",
     "iopub.status.idle": "2021-09-26T17:52:14.412559Z",
     "shell.execute_reply": "2021-09-26T17:52:14.409595Z",
     "shell.execute_reply.started": "2021-09-26T17:52:14.390004Z"
    }
   },
   "outputs": [],
   "source": [
    "dins;"
   ]
  },
  {
   "cell_type": "code",
   "execution_count": 216,
   "id": "1dc8c1d9",
   "metadata": {
    "execution": {
     "iopub.execute_input": "2021-09-26T17:52:14.905095Z",
     "iopub.status.busy": "2021-09-26T17:52:14.904091Z",
     "iopub.status.idle": "2021-09-26T17:52:14.917620Z",
     "shell.execute_reply": "2021-09-26T17:52:14.915620Z",
     "shell.execute_reply.started": "2021-09-26T17:52:14.905095Z"
    }
   },
   "outputs": [
    {
     "data": {
      "text/plain": [
       "[1,\n",
       " 4,\n",
       " 2,\n",
       " 3,\n",
       " 15,\n",
       " (20, 17, 14, 13, 21, 19, 0, 18, 16),\n",
       " 10,\n",
       " 7,\n",
       " 8,\n",
       " 9,\n",
       " 6,\n",
       " 5,\n",
       " 11,\n",
       " 12]"
      ]
     },
     "execution_count": 216,
     "metadata": {},
     "output_type": "execute_result"
    }
   ],
   "source": [
    "new_order"
   ]
  },
  {
   "cell_type": "code",
   "execution_count": 217,
   "id": "2ad48e24",
   "metadata": {
    "execution": {
     "iopub.execute_input": "2021-09-26T17:52:15.582200Z",
     "iopub.status.busy": "2021-09-26T17:52:15.581204Z",
     "iopub.status.idle": "2021-09-26T17:52:15.598204Z",
     "shell.execute_reply": "2021-09-26T17:52:15.597206Z",
     "shell.execute_reply.started": "2021-09-26T17:52:15.582200Z"
    }
   },
   "outputs": [
    {
     "data": {
      "text/plain": [
       "30480"
      ]
     },
     "execution_count": 217,
     "metadata": {},
     "output_type": "execute_result"
    }
   ],
   "source": [
    "z.varval"
   ]
  },
  {
   "cell_type": "code",
   "execution_count": 218,
   "id": "ffd157cf",
   "metadata": {
    "execution": {
     "iopub.execute_input": "2021-09-26T17:52:16.386055Z",
     "iopub.status.busy": "2021-09-26T17:52:16.386055Z",
     "iopub.status.idle": "2021-09-26T17:52:16.524588Z",
     "shell.execute_reply": "2021-09-26T17:52:16.521593Z",
     "shell.execute_reply.started": "2021-09-26T17:52:16.386055Z"
    }
   },
   "outputs": [
    {
     "name": "stdout",
     "output_type": "stream",
     "text": [
      "eq1 rhoval rho(z) None\n",
      "eq4 gval G(z) None\n",
      "eq2 pval P(z) None\n",
      "eq3 Tval T(z) None\n",
      "eq15 rhoLGz pval*(-a*mm_H2 + a*mm_He + mm_H2)/(Tval*k) None\n",
      "eq20 S 12.5663706143592*(0.333333333333333*2.0**(-p)*rz**p*(2.0**p*rz**p + 2.0*hz**p))**(1/p) None\n",
      "eq17 Lz Vz*gval*rhoval None\n",
      "eq14 rz 0.620350490899399*Vz**(1/3) None\n",
      "eq13 hz 3.0*rz None\n",
      "eq21 mb 3.0*S*rhoL*tL None\n",
      "eq19 Wz Lz None\n",
      "eq0 ml m_t - mb - mp - mv None\n",
      "eq18 m_t Wz/gval None\n",
      "eq16 Vz ml/rhoLGz None\n",
      "eq10 W0 G0*m_t None\n",
      "eq7 rhoLG0 P0*(-a*mm_H2 + a*mm_He + mm_H2)/(T0*k) None\n",
      "eq8 V0 ml/rhoLG0 None\n",
      "eq9 L0 G0*V0*rho0 None\n",
      "eq6 r0 0.620350490899399*V0**(1/3) None\n",
      "eq5 A0 3.14159265358979*r0**2 None\n",
      "eq11 D0 0.5*A0*C_D*rho0*v**2 None\n",
      "eq12 Fe -D0 + L0 - W0 None\n",
      "\n",
      "=============\n",
      "group1.group2\n",
      "=============\n",
      "NL: NewtonSolver 'NL: Newton' on system 'group1.group2': residuals contain 'inf' or 'NaN' after 1 iterations.\n"
     ]
    },
    {
     "name": "stderr",
     "output_type": "stream",
     "text": [
      "<lambdifygenerated-188>:2: RuntimeWarning: invalid value encountered in power\n",
      "  return (12.5663706143592*(0.333333333333333*2.0**(-p)*rz**p*(2.0**p*rz**p + 2.0*hz**p))**(p**(-1)))\n",
      "<lambdifygenerated-190>:2: RuntimeWarning: invalid value encountered in power\n",
      "  return (0.620350490899399*Vz**(1/3))\n",
      "<lambdifygenerated-201>:2: RuntimeWarning: invalid value encountered in power\n",
      "  return (0.620350490899399*V0**(1/3))\n"
     ]
    }
   ],
   "source": [
    "prob = om.Problem()\n",
    "model = prob.model\n",
    "buildidpvars(new_ins, model)\n",
    "counter = coupled_run(new_eqs, new_order, (), model, model)\n",
    "prob.setup()\n",
    "prob.run_model()"
   ]
  },
  {
   "cell_type": "code",
   "execution_count": 219,
   "id": "8ac4c359",
   "metadata": {
    "execution": {
     "iopub.execute_input": "2021-09-26T17:52:20.668745Z",
     "iopub.status.busy": "2021-09-26T17:52:20.668745Z",
     "iopub.status.idle": "2021-09-26T17:52:20.694746Z",
     "shell.execute_reply": "2021-09-26T17:52:20.693753Z",
     "shell.execute_reply.started": "2021-09-26T17:52:20.668745Z"
    }
   },
   "outputs": [
    {
     "name": "stdout",
     "output_type": "stream",
     "text": [
      "38 Explicit Output(s) in 'model'\n",
      "\n",
      "varname     value           \n",
      "----------  ----------------\n",
      "inp\n",
      "  T0        [288.085]       \n",
      "  mv        [500.]          \n",
      "  z         [30480.]        \n",
      "  p         [1.6]           \n",
      "  tL        [5.4e-05]       \n",
      "  mp        [4545.]         \n",
      "  mm_H2     [1.66e-27]      \n",
      "  G0        [9.80697]       \n",
      "  mm_He     [6.64e-27]      \n",
      "  rho0      [1.22387]       \n",
      "  v         [6.]            \n",
      "  C_D       [0.47]          \n",
      "  P0        [101185.8]      \n",
      "  a         [1.]            \n",
      "  rhoL      [925.]          \n",
      "  k         [1.38064852e-23]\n",
      "group1\n",
      "  eq1\n",
      "    rhoval  [0.01771813]    \n",
      "  eq4\n",
      "    gval    [9.713512]      \n",
      "  eq2\n",
      "    pval    [1153.32]       \n",
      "  eq3\n",
      "    Tval    [227.65432]     \n",
      "  eq15\n",
      "    rhoLGz  [0.00243646]    \n",
      "  group2\n",
      "    eq20\n",
      "      S     [nan]           \n",
      "    eq17\n",
      "      Lz    [-1178.96408194]\n",
      "    eq14\n",
      "      rz    [nan]           \n",
      "    eq13\n",
      "      hz    [-4248.31561101]\n",
      "    eq21\n",
      "      mb    [-5149.68327092]\n",
      "    eq19\n",
      "      Wz    [-1178.96408194]\n",
      "    eq0\n",
      "      ml    [-16.69034575]  \n",
      "    eq18\n",
      "      m_t   [-121.37361666] \n",
      "    eq16\n",
      "      Vz    [-6850.25058308]\n",
      "  eq10\n",
      "    W0      [-1190.30741741]\n",
      "  eq7\n",
      "    rhoLG0  [0.16892109]    \n",
      "  eq8\n",
      "    V0      [-98.80557777]  \n",
      "  eq9\n",
      "    L0      [-1185.90963663]\n",
      "  eq6\n",
      "    r0      [nan]           \n",
      "  eq5\n",
      "    A0      [nan]           \n",
      "  eq11\n",
      "    D0      [nan]           \n",
      "  eq12\n",
      "    Fe      [nan]           \n",
      "\n",
      "\n",
      "0 Implicit Output(s) in 'model'\n",
      "\n",
      "\n"
     ]
    }
   ],
   "source": [
    "model.list_outputs();"
   ]
  },
  {
   "cell_type": "markdown",
   "id": "7b29fca2",
   "metadata": {},
   "source": [
    "# For later"
   ]
  },
  {
   "cell_type": "code",
   "execution_count": 35,
   "id": "a7ee60dc",
   "metadata": {
    "execution": {
     "iopub.execute_input": "2021-09-24T18:11:53.074481Z",
     "iopub.status.busy": "2021-09-24T18:11:53.074481Z",
     "iopub.status.idle": "2021-09-24T18:11:53.088542Z",
     "shell.execute_reply": "2021-09-24T18:11:53.087578Z",
     "shell.execute_reply.started": "2021-09-24T18:11:53.074481Z"
    }
   },
   "outputs": [],
   "source": [
    "# w_LLDPE = Var('wL', 9, 'ft')\n",
    "# n_LLDPE, eq18 = eqvar('n_LLDPE', 2*sp.ceil(2*np.pi*r/w_LLDPE))\n",
    "# TOF = Var('TOF', 8, 'hr')"
   ]
  },
  {
   "cell_type": "code",
   "execution_count": 36,
   "id": "b77c4198",
   "metadata": {
    "execution": {
     "iopub.execute_input": "2021-09-24T18:11:54.531452Z",
     "iopub.status.busy": "2021-09-24T18:11:54.530453Z",
     "iopub.status.idle": "2021-09-24T18:11:54.554007Z",
     "shell.execute_reply": "2021-09-24T18:11:54.552013Z",
     "shell.execute_reply.started": "2021-09-24T18:11:54.531452Z"
    }
   },
   "outputs": [],
   "source": [
    "# # Construction\n",
    "# h_LLDPE = Var('hL', 18, 'hr')\n",
    "# H_LLDPE, eq19 = eqvar('H_LLDPE', n_LLDPE*h_LLDPE)\n",
    "# # d, eq21 = eqvar('d', d_drive/d_crow)      "
   ]
  },
  {
   "cell_type": "code",
   "execution_count": null,
   "id": "bc744e55",
   "metadata": {},
   "outputs": [],
   "source": []
  }
 ],
 "metadata": {
  "kernelspec": {
   "display_name": "mdo",
   "language": "python",
   "name": "mdo"
  },
  "language_info": {
   "codemirror_mode": {
    "name": "ipython",
    "version": 3
   },
   "file_extension": ".py",
   "mimetype": "text/x-python",
   "name": "python",
   "nbconvert_exporter": "python",
   "pygments_lexer": "ipython3",
   "version": "3.8.10"
  }
 },
 "nbformat": 4,
 "nbformat_minor": 5
}
