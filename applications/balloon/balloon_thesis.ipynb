{
 "cells": [
  {
   "cell_type": "code",
   "execution_count": 1,
   "id": "c76e502f-e0e9-4ee3-b59d-836f459eeacc",
   "metadata": {
    "execution": {
     "iopub.execute_input": "2022-07-29T01:14:27.901238Z",
     "iopub.status.busy": "2022-07-29T01:14:27.901238Z",
     "iopub.status.idle": "2022-07-29T01:14:30.401801Z",
     "shell.execute_reply": "2022-07-29T01:14:30.401287Z",
     "shell.execute_reply.started": "2022-07-29T01:14:27.901238Z"
    },
    "tags": []
   },
   "outputs": [],
   "source": [
    "from compute import Var, Par\n",
    "from datastructures.api import Model, adda, addf, addsolver, setsolvefor, edges_no_param, addobj, addineq, OPT\n",
    "from datastructures.execution import edges_from_components\n",
    "from datastructures.graphutils import (namefromsympy, namefromid, dfs_tree, SOLVER, VAR, COMP, \n",
    "nested_sources, sources, edges_to_Ein_Eout, flat_graph_formulation, root_solver, \n",
    "all_edges, all_variables, copy_dicts, Node)\n",
    "from datastructures.nestedgraph import build_typedgraph, root_sources\n",
    "from datastructures.mergegraph import get_edges\n",
    "from datastructures.execution import generate_components_and_residuals\n",
    "from datastructures.workflow import get_f, order_from_tree, default_solver_options, mdao_workflow, implicit_comp_name\n",
    "from datastructures.workflow_mdao import mdao_workflow_with_args\n",
    "from datastructures.operators import sort_scc, reorder_merge_solve, invert_edges\n",
    "from datastructures.assembly import build_archi\n",
    "from datastructures.rendering import render_incidence\n",
    "import openmdao.api as om\n",
    "from datastructures.api import evalexpr\n",
    "from constants_balloon import ρinterp, Pinterp, Ginterp, Tinterp\n",
    "import numpy as np\n",
    "from datastructures.postprocess import print_values_static, print_inputs, print_outputs\n",
    "from datastructures.tearing import dir_graph, min_arc_set_assign, min_arc_set, min_max_scc, min_max_scc2, feedbacks\n",
    "from itertools import chain\n",
    "from collections import OrderedDict\n",
    "import networkx as nx"
   ]
  },
  {
   "attachments": {
    "ce1cab48-84ab-44b5-b327-90f0dbce4791.png": {
     "image/png": "[encoded data removed]"
    }
   },
   "cell_type": "markdown",
   "id": "37dac2c3-8637-454b-bcd5-2cce224fa7cb",
   "metadata": {},
   "source": [
    "![phdthesis - balloon.png](attachment:ce1cab48-84ab-44b5-b327-90f0dbce4791.png)"
   ]
  },
  {
   "cell_type": "markdown",
   "id": "96ff78ec-77be-4e8d-84e9-aa10cba2a2a7",
   "metadata": {},
   "source": [
    "# General"
   ]
  },
  {
   "cell_type": "code",
   "execution_count": 2,
   "id": "1a59d5d6-05f6-49af-a0e5-c8e89b5120f9",
   "metadata": {
    "execution": {
     "iopub.execute_input": "2022-07-29T01:14:30.403808Z",
     "iopub.status.busy": "2022-07-29T01:14:30.402814Z",
     "iopub.status.idle": "2022-07-29T01:14:30.417779Z",
     "shell.execute_reply": "2022-07-29T01:14:30.416869Z",
     "shell.execute_reply.started": "2022-07-29T01:14:30.403808Z"
    },
    "tags": []
   },
   "outputs": [],
   "source": [
    "model = Model(rootname='root')\n",
    "m = model.root\n",
    "idbyname = True\n",
    "#m = addsolver(r)\n",
    "z = Var('z', 30, unit='km')\n",
    "R = Par('R', 287.05, 'J/kg/K')\n",
    "alpha = Par(r'\\alpha', 1)"
   ]
  },
  {
   "cell_type": "markdown",
   "id": "c8600ee3-0e73-4a54-b722-c5b460de614c",
   "metadata": {},
   "source": [
    "# Apogee"
   ]
  },
  {
   "cell_type": "code",
   "execution_count": 3,
   "id": "d7be3196-1c06-4ba4-ba84-b3659449a580",
   "metadata": {
    "execution": {
     "iopub.execute_input": "2022-07-29T01:14:30.418776Z",
     "iopub.status.busy": "2022-07-29T01:14:30.417779Z",
     "iopub.status.idle": "2022-07-29T01:14:30.857778Z",
     "shell.execute_reply": "2022-07-29T01:14:30.856672Z",
     "shell.execute_reply.started": "2022-07-29T01:14:30.418776Z"
    },
    "tags": []
   },
   "outputs": [],
   "source": [
    "apogee = addsolver(m, name='apogee', idbyname=idbyname)\n",
    "pz = adda(apogee, 'p_z', lambda z: Pinterp(z), (z,), unit='Pa') # input assumed to be SI base (i.e. meter)\n",
    "Tz = adda(apogee, 'T_z', lambda z: Tinterp(z), (z,), unit='K') # is in Kelvin already\n",
    "gz = adda(apogee, 'g_z', lambda z: Ginterp(z), (z,), unit='m/s^2') # is in Kelvin already\n",
    "rhoz = adda(apogee, r'\\rho_z', pz/(R*Tz))\n",
    "k = Par('k', 1.38064852e-23, 'J/K')\n",
    "mm_He = Par('M_{He}', 6.64e-27, 'kg')\n",
    "mm_H2 = Par('M_{H2}', 1.66e-27, 'kg')\n",
    "rho_LGz = adda(apogee, r'\\rho_{LGz}', pz*(alpha*mm_He+(1-alpha)*mm_H2)/(k*Tz))\n",
    "m_t = Var('m_t', unit='kg')\n",
    "W_z = adda(apogee, 'W_z', gz*m_t, unit='N')\n",
    "L_z = adda(apogee, 'L_z', W_z, unit='N')\n",
    "V_z = adda(apogee, 'V_z', L_z/(gz*rhoz))\n",
    "mrz = adda(apogee, 'm_{rz}', V_z*rho_LGz)"
   ]
  },
  {
   "cell_type": "markdown",
   "id": "4a6f627e-104f-4e21-a8ba-0744726949f4",
   "metadata": {},
   "source": [
    "# Materials"
   ]
  },
  {
   "cell_type": "code",
   "execution_count": 4,
   "id": "601a193c-5b10-4b73-ad55-be10c7e44599",
   "metadata": {
    "execution": {
     "iopub.execute_input": "2022-07-29T01:14:30.858699Z",
     "iopub.status.busy": "2022-07-29T01:14:30.858699Z",
     "iopub.status.idle": "2022-07-29T01:14:31.000315Z",
     "shell.execute_reply": "2022-07-29T01:14:30.999312Z",
     "shell.execute_reply.started": "2022-07-29T01:14:30.858699Z"
    },
    "tags": []
   },
   "outputs": [],
   "source": [
    "materials = addsolver(m, name='materials', idbyname=idbyname)\n",
    "rz = adda(materials, 'r_z', (3*abs(V_z)/(4*np.pi))**(1/3), unit='m', forceunit=True)\n",
    "hz = adda(materials, 'h_z', 2*(3/2)*rz)\n",
    "p = Par('p', 8/5) #some parameter\n",
    "S = adda(materials, 'S', 4*np.pi*(((rz**2)**p+2*abs(rz)**p*(abs(hz)/2)**p)/3)**(1/p))\n",
    "t_LLDPE = Par('t_S', 25.4e-6*1, 'm')\n",
    "rho_LLDPE = Par(r'\\rho_S', 925, 'kg/m^3')\n",
    "m_b = adda(materials, 'm_b', 2*(3/2)*S*t_LLDPE*rho_LLDPE)"
   ]
  },
  {
   "cell_type": "markdown",
   "id": "1923ee22-f6d6-45bd-9f55-559c52b8afb5",
   "metadata": {},
   "source": [
    "# Mass budget"
   ]
  },
  {
   "cell_type": "code",
   "execution_count": 5,
   "id": "6474cb28-7f49-496e-88a8-16024c059e97",
   "metadata": {
    "execution": {
     "iopub.execute_input": "2022-07-29T01:14:31.001313Z",
     "iopub.status.busy": "2022-07-29T01:14:31.001313Z",
     "iopub.status.idle": "2022-07-29T01:14:31.015097Z",
     "shell.execute_reply": "2022-07-29T01:14:31.014596Z",
     "shell.execute_reply.started": "2022-07-29T01:14:31.001313Z"
    },
    "tags": []
   },
   "outputs": [],
   "source": [
    "m_b = Var('m_b', unit='kg')"
   ]
  },
  {
   "cell_type": "code",
   "execution_count": 6,
   "id": "f33fb5ba-ba7e-4f62-8ce4-5d6c501b0f78",
   "metadata": {
    "execution": {
     "iopub.execute_input": "2022-07-29T01:14:31.016117Z",
     "iopub.status.busy": "2022-07-29T01:14:31.016117Z",
     "iopub.status.idle": "2022-07-29T01:14:31.060713Z",
     "shell.execute_reply": "2022-07-29T01:14:31.060713Z",
     "shell.execute_reply.started": "2022-07-29T01:14:31.016117Z"
    },
    "tags": []
   },
   "outputs": [],
   "source": [
    "mass = addsolver(m, name='mass', idbyname=idbyname)\n",
    "m_vhc = Par('m_v', 4545, 'kg')\n",
    "m_parafoil = Par('m_p', 500., 'kg')\n",
    "mr0 = Var('m_{r0}', unit='kg')\n",
    "#m_l = adda(mass, 'm_l', lambda m1,m2: max(m1,m2), (mrz, mr0), unit='kg')\n",
    "m_l = adda(mass, 'm_l', mr0, unit='kg')\n",
    "adda(mass, m_t, m_vhc+m_parafoil+m_l+m_b);"
   ]
  },
  {
   "cell_type": "markdown",
   "id": "1d830def-2b9e-48e0-9bb2-82d4fdac2a82",
   "metadata": {},
   "source": [
    "# Balloon at STP"
   ]
  },
  {
   "cell_type": "markdown",
   "id": "d0e69347-7a40-4b86-a844-7e455cde1cf6",
   "metadata": {},
   "source": [
    "## Aerodynamics"
   ]
  },
  {
   "cell_type": "code",
   "execution_count": 7,
   "id": "18d3d3ae-2541-496e-ad25-2ebbcb18a837",
   "metadata": {
    "execution": {
     "iopub.execute_input": "2022-07-29T01:14:31.062714Z",
     "iopub.status.busy": "2022-07-29T01:14:31.061716Z",
     "iopub.status.idle": "2022-07-29T01:14:31.325702Z",
     "shell.execute_reply": "2022-07-29T01:14:31.325417Z",
     "shell.execute_reply.started": "2022-07-29T01:14:31.062714Z"
    },
    "tags": []
   },
   "outputs": [],
   "source": [
    "aero = addsolver(m, name='aerodynamics', idbyname=idbyname)\n",
    "V_0 = Var('V_0', unit='m^3')\n",
    "g = Par('g', Ginterp(0), unit='m/s^2')\n",
    "rho_0 = Par(r'\\rho_0', ρinterp(0), 'kg/m^3')\n",
    "W_0 = adda(aero, 'W_0', g*m_t, unit='N')\n",
    "L_0 = adda(aero, 'L_0', g*rho_0*V_0, unit='N')\n",
    "D = adda(aero, 'D', lambda L_0, W_0: max(L_0-W_0,0), (L_0,W_0), unit='N') #adda(aero, 'D', L_0-W_0, unit='N')\n",
    "C_D = Par('C_D', 0.47)\n",
    "vr = Var('v', 6, 'm/s')\n",
    "A_0 = adda(aero, 'A_0', 2*D/(C_D*rho_0*vr**2))"
   ]
  },
  {
   "cell_type": "markdown",
   "id": "9d4b1340-bee6-4987-a83a-a20fb5f401ae",
   "metadata": {},
   "source": [
    "## Geometry"
   ]
  },
  {
   "cell_type": "code",
   "execution_count": 8,
   "id": "ae21b598-c6ba-4fcc-a996-e34fcc2d2c9a",
   "metadata": {
    "execution": {
     "iopub.execute_input": "2022-07-29T01:14:31.327721Z",
     "iopub.status.busy": "2022-07-29T01:14:31.327721Z",
     "iopub.status.idle": "2022-07-29T01:14:31.388447Z",
     "shell.execute_reply": "2022-07-29T01:14:31.387536Z",
     "shell.execute_reply.started": "2022-07-29T01:14:31.327721Z"
    },
    "tags": []
   },
   "outputs": [
    {
     "data": {
      "text/latex": [
       "$m_{r0}=0\\ \\mathrm{kg}\\ (V_0=0 )$"
      ],
      "text/plain": [
       "m_{r0}"
      ]
     },
     "execution_count": 8,
     "metadata": {},
     "output_type": "execute_result"
    }
   ],
   "source": [
    "geom = addsolver(m, name='geometry', idbyname=idbyname)\n",
    "r_0 = adda(geom, 'r_0', 1/np.pi*abs(A_0)**0.5, unit='m')\n",
    "adda(geom, V_0, 4/3*np.pi*r_0**3, unit='m^3')\n",
    "rho_He = Par(r'\\rho_{He}', 0.1786, 'kg/m^3')\n",
    "rho_H2 = Par(r'\\rho_{H2}', 0.08988, 'kg/m^3')\n",
    "rho_LG0 = adda(geom, r'\\rho_{LG0}', alpha*rho_He+(1-alpha)*rho_H2)\n",
    "adda(geom, mr0, V_0*rho_LG0)           "
   ]
  },
  {
   "cell_type": "markdown",
   "id": "d800e912-76b3-44a2-8f2b-af15e7911501",
   "metadata": {},
   "source": [
    "# Visualize model"
   ]
  },
  {
   "cell_type": "code",
   "execution_count": 9,
   "id": "f7bd1c11-2d2c-4277-bac7-34389f6c9e1d",
   "metadata": {
    "execution": {
     "iopub.execute_input": "2022-07-29T01:14:31.549831Z",
     "iopub.status.busy": "2022-07-29T01:14:31.548831Z",
     "iopub.status.idle": "2022-07-29T01:14:31.559730Z",
     "shell.execute_reply": "2022-07-29T01:14:31.559730Z",
     "shell.execute_reply.started": "2022-07-29T01:14:31.549831Z"
    },
    "tags": []
   },
   "outputs": [],
   "source": [
    "nodetyperepr = {VAR: '{}', COMP: 'f_{{{}}}', SOLVER: '{}'}\n",
    "edges, tree = model.generate_formulation()\n",
    "edges_nopar = edges_no_param(model, edges) # filter out variables that are parameters"
   ]
  },
  {
   "cell_type": "code",
   "execution_count": 14,
   "id": "845f48f7-45af-45a1-826f-292c14ba5e24",
   "metadata": {
    "execution": {
     "iopub.execute_input": "2022-07-29T01:16:00.753453Z",
     "iopub.status.busy": "2022-07-29T01:16:00.753453Z",
     "iopub.status.idle": "2022-07-29T01:16:00.772074Z",
     "shell.execute_reply": "2022-07-29T01:16:00.771073Z",
     "shell.execute_reply.started": "2022-07-29T01:16:00.753453Z"
    },
    "tags": []
   },
   "outputs": [
    {
     "data": {
      "text/plain": [
       "23"
      ]
     },
     "execution_count": 14,
     "metadata": {},
     "output_type": "execute_result"
    }
   ],
   "source": [
    "len(incidence)"
   ]
  },
  {
   "cell_type": "code",
   "execution_count": 11,
   "id": "7782adea-9def-4a39-9b30-907a270d7b3d",
   "metadata": {
    "execution": {
     "iopub.execute_input": "2022-07-29T01:14:36.546951Z",
     "iopub.status.busy": "2022-07-29T01:14:36.546951Z",
     "iopub.status.idle": "2022-07-29T01:14:36.557846Z",
     "shell.execute_reply": "2022-07-29T01:14:36.557846Z",
     "shell.execute_reply.started": "2022-07-29T01:14:36.546951Z"
    }
   },
   "outputs": [],
   "source": [
    "incidence,_,_ = invert_edges(edges[0], edges[1], None)"
   ]
  },
  {
   "cell_type": "code",
   "execution_count": 12,
   "id": "d51508f7-77ba-41f1-ba25-33adb2362130",
   "metadata": {
    "execution": {
     "iopub.execute_input": "2022-07-29T01:14:50.053512Z",
     "iopub.status.busy": "2022-07-29T01:14:50.052564Z",
     "iopub.status.idle": "2022-07-29T01:14:50.057836Z",
     "shell.execute_reply": "2022-07-29T01:14:50.057836Z",
     "shell.execute_reply.started": "2022-07-29T01:14:50.053512Z"
    }
   },
   "outputs": [
    {
     "data": {
      "text/plain": [
       "3.217391304347826"
      ]
     },
     "execution_count": 12,
     "metadata": {},
     "output_type": "execute_result"
    }
   ],
   "source": [
    "np.mean([len(val) for val in incidence.values()])"
   ]
  },
  {
   "cell_type": "markdown",
   "id": "79a3fb25-0f15-4092-9e8f-b73a0514b0d1",
   "metadata": {},
   "source": [
    "## HSM with modules"
   ]
  },
  {
   "cell_type": "code",
   "execution_count": 10,
   "id": "d9387a83-298d-4bdf-8bc5-69a2146ee3fa",
   "metadata": {
    "execution": {
     "iopub.execute_input": "2022-07-29T01:14:31.945674Z",
     "iopub.status.busy": "2022-07-29T01:14:31.945674Z",
     "iopub.status.idle": "2022-07-29T01:14:31.963845Z",
     "shell.execute_reply": "2022-07-29T01:14:31.962832Z",
     "shell.execute_reply.started": "2022-07-29T01:14:31.945674Z"
    },
    "tags": []
   },
   "outputs": [],
   "source": [
    "nodetyperepr_hsm = {VAR: '{}', COMP: 'f_{{{}}}', SOLVER: '{}'}\n",
    "namingfunc_hsm = namefromid(nodetyperepr_hsm)"
   ]
  },
  {
   "cell_type": "code",
   "execution_count": 11,
   "id": "b555fce1-a6a1-4f34-a176-97f7795d3d0b",
   "metadata": {
    "execution": {
     "iopub.execute_input": "2022-07-13T23:41:09.507693Z",
     "iopub.status.busy": "2022-07-13T23:41:09.507693Z",
     "iopub.status.idle": "2022-07-13T23:41:10.583201Z",
     "shell.execute_reply": "2022-07-13T23:41:10.581995Z",
     "shell.execute_reply.started": "2022-07-13T23:41:09.507693Z"
    },
    "tags": []
   },
   "outputs": [
    {
     "data": {
      "image/png": "[encoded data removed]",
      "text/plain": [
       "<Figure size 504x504 with 1 Axes>"
      ]
     },
     "metadata": {
      "needs_background": "light"
     },
     "output_type": "display_data"
    }
   ],
   "source": [
    "render_incidence(edges_nopar, tree, namingfunc_hsm, figname=\"balloon_hsm_init_modules.png\", save=True, figsize=(7,7));"
   ]
  },
  {
   "cell_type": "markdown",
   "id": "6df64e19-8558-4063-9b9b-6e32c37f4006",
   "metadata": {},
   "source": [
    "## HSM without modules"
   ]
  },
  {
   "cell_type": "code",
   "execution_count": 19,
   "id": "f99e6714-854f-4a63-9202-540a09c40d29",
   "metadata": {
    "execution": {
     "iopub.execute_input": "2022-07-13T23:41:38.357804Z",
     "iopub.status.busy": "2022-07-13T23:41:38.357804Z",
     "iopub.status.idle": "2022-07-13T23:41:38.371393Z",
     "shell.execute_reply": "2022-07-13T23:41:38.370888Z",
     "shell.execute_reply.started": "2022-07-13T23:41:38.357804Z"
    },
    "tags": []
   },
   "outputs": [],
   "source": [
    "tree_nomod = ({key:'root' for key,val in tree[0].items()}, {},{})"
   ]
  },
  {
   "cell_type": "code",
   "execution_count": 24,
   "id": "65ec2860-7fa7-48d5-82a0-546c81e5e6a3",
   "metadata": {
    "execution": {
     "iopub.execute_input": "2022-07-13T22:40:00.487577Z",
     "iopub.status.busy": "2022-07-13T22:40:00.487577Z",
     "iopub.status.idle": "2022-07-13T22:40:01.258854Z",
     "shell.execute_reply": "2022-07-13T22:40:01.258714Z",
     "shell.execute_reply.started": "2022-07-13T22:40:00.487577Z"
    },
    "tags": []
   },
   "outputs": [
    {
     "data": {
      "image/png": "[encoded data removed]",
      "text/plain": [
       "<Figure size 504x504 with 1 Axes>"
      ]
     },
     "metadata": {
      "needs_background": "light"
     },
     "output_type": "display_data"
    }
   ],
   "source": [
    "render_incidence(edges_nopar, tree_nomod, namingfunc_hsm, figname=\"balloon_hsm_init.png\", save=True, figsize=(7,7));"
   ]
  },
  {
   "cell_type": "markdown",
   "id": "6fd92daa-9820-40c5-87bd-82d4c8fc48f8",
   "metadata": {
    "jp-MarkdownHeadingCollapsed": true,
    "tags": []
   },
   "source": [
    "## Graph of partitions (level 1) "
   ]
  },
  {
   "cell_type": "code",
   "execution_count": 12,
   "id": "0941a1ae-e4fc-4cd7-95e5-2ae67bb05333",
   "metadata": {
    "execution": {
     "iopub.execute_input": "2022-07-08T03:20:21.827774Z",
     "iopub.status.busy": "2022-07-08T03:20:21.827774Z",
     "iopub.status.idle": "2022-07-08T03:20:21.841778Z",
     "shell.execute_reply": "2022-07-08T03:20:21.841778Z",
     "shell.execute_reply.started": "2022-07-08T03:20:21.827774Z"
    },
    "tags": []
   },
   "outputs": [],
   "source": [
    "from representations import draw"
   ]
  },
  {
   "cell_type": "code",
   "execution_count": 13,
   "id": "687ca5b4-5e22-4591-81f4-5d4d88fdfc7a",
   "metadata": {
    "execution": {
     "iopub.execute_input": "2022-07-03T01:06:15.501215Z",
     "iopub.status.busy": "2022-07-03T01:06:15.500803Z",
     "iopub.status.idle": "2022-07-03T01:06:15.515079Z",
     "shell.execute_reply": "2022-07-03T01:06:15.514063Z",
     "shell.execute_reply.started": "2022-07-03T01:06:15.501215Z"
    },
    "tags": []
   },
   "outputs": [],
   "source": [
    "graphs = build_typedgraph(edges_nopar, tree, nodetyperepr, exclude_unique_sources=False)"
   ]
  },
  {
   "cell_type": "code",
   "execution_count": 14,
   "id": "7d9a672f-75b5-45ce-930b-d4bd8641d0cb",
   "metadata": {
    "execution": {
     "iopub.execute_input": "2022-07-03T01:06:15.515079Z",
     "iopub.status.busy": "2022-07-03T01:06:15.515079Z",
     "iopub.status.idle": "2022-07-03T01:06:16.057549Z",
     "shell.execute_reply": "2022-07-03T01:06:16.056963Z",
     "shell.execute_reply.started": "2022-07-03T01:06:15.515079Z"
    },
    "tags": []
   },
   "outputs": [
    {
     "data": {
      "image/png": "[encoded data removed]",
      "text/plain": [
       "<Figure size 576x576 with 1 Axes>"
      ]
     },
     "metadata": {},
     "output_type": "display_data"
    }
   ],
   "source": [
    "level = 'root'\n",
    "G = graphs[level]\n",
    "var_names = [elt for elt in G.nodes() if elt.nodetype==VAR]\n",
    "node_shapes = {elt:'o' if elt in var_names else 's' for elt in G.nodes()}\n",
    "draw(G, node_shape='b', prog='neato', latexlabels=False, figsize=(8,8));"
   ]
  },
  {
   "cell_type": "markdown",
   "id": "98b3b5c3-52cd-4922-9c17-8703d8a484f5",
   "metadata": {},
   "source": [
    "# Rearrange for feasability"
   ]
  },
  {
   "cell_type": "code",
   "execution_count": 13,
   "id": "11a7354a-a325-47bd-8a80-f0aa0b81a450",
   "metadata": {
    "execution": {
     "iopub.execute_input": "2022-07-08T03:20:34.611166Z",
     "iopub.status.busy": "2022-07-08T03:20:34.611166Z",
     "iopub.status.idle": "2022-07-08T03:20:34.627218Z",
     "shell.execute_reply": "2022-07-08T03:20:34.626274Z",
     "shell.execute_reply.started": "2022-07-08T03:20:34.611166Z"
    },
    "tags": []
   },
   "outputs": [],
   "source": [
    "#l1_edges = get_edges(graphs['root'])"
   ]
  },
  {
   "cell_type": "code",
   "execution_count": 12,
   "id": "0ba9342e-8d21-4198-ad24-e94ef8fbdfbf",
   "metadata": {
    "execution": {
     "iopub.execute_input": "2022-07-13T23:41:20.729954Z",
     "iopub.status.busy": "2022-07-13T23:41:20.729954Z",
     "iopub.status.idle": "2022-07-13T23:41:20.737527Z",
     "shell.execute_reply": "2022-07-13T23:41:20.737527Z",
     "shell.execute_reply.started": "2022-07-13T23:41:20.729954Z"
    },
    "tags": []
   },
   "outputs": [],
   "source": [
    "edges_for_solving = copy_dicts(edges_nopar)\n",
    "eqnidxs = list(edges_for_solving[1].keys())\n",
    "varidxs = all_variables(*edges_for_solving)\n",
    "graph_edges_minassign = all_edges(*edges_for_solving)"
   ]
  },
  {
   "cell_type": "code",
   "execution_count": 13,
   "id": "26017544-c844-48fd-89a8-2daf929c2d07",
   "metadata": {
    "execution": {
     "iopub.execute_input": "2022-07-13T23:41:21.238237Z",
     "iopub.status.busy": "2022-07-13T23:41:21.237253Z",
     "iopub.status.idle": "2022-07-13T23:41:21.254786Z",
     "shell.execute_reply": "2022-07-13T23:41:21.254786Z",
     "shell.execute_reply.started": "2022-07-13T23:41:21.238237Z"
    },
    "tags": []
   },
   "outputs": [],
   "source": [
    "edges_left_right = list(dir_graph(graph_edges_minassign, eqnidxs, {}))\n",
    "outset_initial = {comp: var[0] for comp,var in edges[1].items()}"
   ]
  },
  {
   "cell_type": "markdown",
   "id": "9c96cf97-d037-44a7-8401-c2b2a3391ed8",
   "metadata": {},
   "source": [
    "### HSM based on original order and feedback"
   ]
  },
  {
   "cell_type": "code",
   "execution_count": 27,
   "id": "3a48146b-2ef3-4c45-9c2c-fd0eb632e616",
   "metadata": {
    "execution": {
     "iopub.execute_input": "2022-07-13T22:40:15.551718Z",
     "iopub.status.busy": "2022-07-13T22:40:15.551718Z",
     "iopub.status.idle": "2022-07-13T22:40:15.573000Z",
     "shell.execute_reply": "2022-07-13T22:40:15.572886Z",
     "shell.execute_reply.started": "2022-07-13T22:40:15.551718Z"
    },
    "tags": []
   },
   "outputs": [],
   "source": [
    "def reformulate(edges, tree, outset_initial, new_outset=None, root_solver_name='root', mdf=True, based_on_original2=True):\n",
    "    if new_outset:\n",
    "        edges_new = invert_edges(edges[0], edges[1], newout=new_outset)\n",
    "        tree_new = tree[0], {}, {outvar: root_solver_name for comp,outvar in outset_initial.items() if comp not in new_outset}\n",
    "    else:\n",
    "        edges_new = edges\n",
    "        tree_new = tree\n",
    "    G = flat_graph_formulation(*edges_new)\n",
    "    order = sort_scc(G)\n",
    "    original_comp_order = tree[0].keys()\n",
    "    # This is n^2 should fix for efficiency in the future\n",
    "    order_based_on_original = ([Node(comp, COMP) for comp in original_comp_order if Node(comp, COMP) in partition] for partition in order)\n",
    "    order_based_on_original_2 = sorted(order_based_on_original, key=lambda x: min(idx for idx,comp in enumerate(tree[0].keys()) if Node(comp,COMP) in x))\n",
    "    edges_tear_ordered, tree_tear_ordered = reorder_merge_solve(edges_new, tree_new, order_based_on_original_2, root_solver_name, mdf=mdf)\n",
    "    return edges_tear_ordered, tree_tear_ordered"
   ]
  },
  {
   "cell_type": "code",
   "execution_count": 28,
   "id": "08abb637-14f6-4e72-aac6-7b8238ffd02f",
   "metadata": {
    "execution": {
     "iopub.execute_input": "2022-07-13T22:40:16.011280Z",
     "iopub.status.busy": "2022-07-13T22:40:16.011280Z",
     "iopub.status.idle": "2022-07-13T22:40:16.026282Z",
     "shell.execute_reply": "2022-07-13T22:40:16.026176Z",
     "shell.execute_reply.started": "2022-07-13T22:40:16.011280Z"
    },
    "tags": []
   },
   "outputs": [],
   "source": [
    "G = flat_graph_formulation(*edges_nopar, raw=True)\n",
    "elimvars, elimcomps = feedbacks(G, tree_nomod[0].keys())\n",
    "outset_feedbacks = {comp:outvar for comp,outvar in outset_initial.items() if comp not in elimcomps}"
   ]
  },
  {
   "cell_type": "code",
   "execution_count": 29,
   "id": "a8441eef-bd78-4e49-8ae7-84809193b2be",
   "metadata": {
    "execution": {
     "iopub.execute_input": "2022-07-13T22:40:20.161577Z",
     "iopub.status.busy": "2022-07-13T22:40:20.160601Z",
     "iopub.status.idle": "2022-07-13T22:40:20.188967Z",
     "shell.execute_reply": "2022-07-13T22:40:20.188967Z",
     "shell.execute_reply.started": "2022-07-13T22:40:20.161577Z"
    },
    "tags": []
   },
   "outputs": [],
   "source": [
    "edges_feedback, tree_feedback = reformulate(edges, tree_nomod, outset_initial, mdf=True)\n",
    "edges_feedback_noparam = edges_no_param(model, edges_feedback)"
   ]
  },
  {
   "cell_type": "code",
   "execution_count": 30,
   "id": "6701a8fc-29ea-4e86-96a2-ef88369ba395",
   "metadata": {
    "execution": {
     "iopub.execute_input": "2022-07-13T22:40:20.683819Z",
     "iopub.status.busy": "2022-07-13T22:40:20.683819Z",
     "iopub.status.idle": "2022-07-13T22:40:21.589017Z",
     "shell.execute_reply": "2022-07-13T22:40:21.589017Z",
     "shell.execute_reply.started": "2022-07-13T22:40:20.683819Z"
    },
    "tags": []
   },
   "outputs": [
    {
     "data": {
      "image/png": "[encoded data removed]",
      "text/plain": [
       "<Figure size 576x576 with 1 Axes>"
      ]
     },
     "metadata": {
      "needs_background": "light"
     },
     "output_type": "display_data"
    }
   ],
   "source": [
    "render_incidence(edges_feedback_noparam, tree_feedback, namingfunc_hsm, figname=\"balloon_hsm_minmdf.png\", save=True, figsize=(8,8));"
   ]
  },
  {
   "cell_type": "markdown",
   "id": "b8858d61-c6d0-4609-9f6c-17dba407a485",
   "metadata": {
    "tags": []
   },
   "source": [
    "## Conventional tearing"
   ]
  },
  {
   "cell_type": "code",
   "execution_count": 31,
   "id": "2c645da0-ff0e-4bae-9dd8-8b3d814333b6",
   "metadata": {
    "execution": {
     "iopub.execute_input": "2022-07-13T22:40:28.284842Z",
     "iopub.status.busy": "2022-07-13T22:40:28.284842Z",
     "iopub.status.idle": "2022-07-13T22:40:28.315846Z",
     "shell.execute_reply": "2022-07-13T22:40:28.314843Z",
     "shell.execute_reply.started": "2022-07-13T22:40:28.284842Z"
    },
    "tags": []
   },
   "outputs": [
    {
     "name": "stdout",
     "output_type": "stream",
     "text": [
      "Set parameter Username\n",
      "Academic license - for non-commercial use only - expires 2023-02-25\n"
     ]
    }
   ],
   "source": [
    "cycles, elimset, m = min_arc_set(edges_left_right, outset_initial, varidxs, eqnidxs)"
   ]
  },
  {
   "cell_type": "code",
   "execution_count": 32,
   "id": "a73724cf-adeb-4e1b-a40b-2bee857f3869",
   "metadata": {
    "execution": {
     "iopub.execute_input": "2022-07-13T22:40:30.543608Z",
     "iopub.status.busy": "2022-07-13T22:40:30.542615Z",
     "iopub.status.idle": "2022-07-13T22:40:30.551179Z",
     "shell.execute_reply": "2022-07-13T22:40:30.550603Z",
     "shell.execute_reply.started": "2022-07-13T22:40:30.543608Z"
    },
    "tags": []
   },
   "outputs": [],
   "source": [
    "new_outset = {comp:outvar for comp,outvar in outset_initial.items() if comp not in elimset}"
   ]
  },
  {
   "cell_type": "code",
   "execution_count": 33,
   "id": "e11d7bb4-6c1e-46ed-bc96-e405ec0b9387",
   "metadata": {
    "execution": {
     "iopub.execute_input": "2022-07-13T22:40:30.985585Z",
     "iopub.status.busy": "2022-07-13T22:40:30.984670Z",
     "iopub.status.idle": "2022-07-13T22:40:31.004262Z",
     "shell.execute_reply": "2022-07-13T22:40:31.004262Z",
     "shell.execute_reply.started": "2022-07-13T22:40:30.985585Z"
    },
    "tags": []
   },
   "outputs": [],
   "source": [
    "edges_tear = invert_edges(edges[0], edges[1], newout=new_outset)\n",
    "tree_tear = tree_nomod[0], {}, {outvar: 'root' for comp,outvar in outset_initial.items() if comp in elimset} "
   ]
  },
  {
   "cell_type": "code",
   "execution_count": 34,
   "id": "1d984a3c-5c4d-405c-af75-5bbb104ed730",
   "metadata": {
    "execution": {
     "iopub.execute_input": "2022-07-13T22:40:31.271532Z",
     "iopub.status.busy": "2022-07-13T22:40:31.271532Z",
     "iopub.status.idle": "2022-07-13T22:40:31.284135Z",
     "shell.execute_reply": "2022-07-13T22:40:31.284135Z",
     "shell.execute_reply.started": "2022-07-13T22:40:31.271532Z"
    },
    "tags": []
   },
   "outputs": [],
   "source": [
    "G = flat_graph_formulation(*edges_tear)\n",
    "tear_order = sort_scc(G)"
   ]
  },
  {
   "cell_type": "code",
   "execution_count": 35,
   "id": "4052b282-f978-4d92-b20f-4d04b3234a0a",
   "metadata": {
    "execution": {
     "iopub.execute_input": "2022-07-13T22:40:31.616039Z",
     "iopub.status.busy": "2022-07-13T22:40:31.616039Z",
     "iopub.status.idle": "2022-07-13T22:40:31.626246Z",
     "shell.execute_reply": "2022-07-13T22:40:31.626035Z",
     "shell.execute_reply.started": "2022-07-13T22:40:31.616039Z"
    },
    "tags": []
   },
   "outputs": [],
   "source": [
    "edges_tear_ordered, tree_tear_ordered = reorder_merge_solve(edges_tear, tree_tear, tear_order, 'root', mdf=True)\n",
    "edges_tear_noparam = edges_no_param(model, edges_tear_ordered)"
   ]
  },
  {
   "cell_type": "code",
   "execution_count": 36,
   "id": "87ecd153-5d49-4868-8a79-96766cca27ce",
   "metadata": {
    "execution": {
     "iopub.execute_input": "2022-07-13T22:40:32.906219Z",
     "iopub.status.busy": "2022-07-13T22:40:32.905213Z",
     "iopub.status.idle": "2022-07-13T22:40:33.711715Z",
     "shell.execute_reply": "2022-07-13T22:40:33.710732Z",
     "shell.execute_reply.started": "2022-07-13T22:40:32.906219Z"
    },
    "tags": []
   },
   "outputs": [
    {
     "data": {
      "image/png": "[encoded data removed]",
      "text/plain": [
       "<Figure size 576x576 with 1 Axes>"
      ]
     },
     "metadata": {
      "needs_background": "light"
     },
     "output_type": "display_data"
    }
   ],
   "source": [
    "render_incidence(edges_tear_noparam, tree_tear_ordered, namingfunc_hsm, figname=\"balloon_hsm_tear.png\", save=True, figsize=(8,8));"
   ]
  },
  {
   "cell_type": "markdown",
   "id": "af10edbb-11bc-4558-bcff-23b9cc030000",
   "metadata": {},
   "source": [
    "## Min tear assign"
   ]
  },
  {
   "cell_type": "code",
   "execution_count": 14,
   "id": "ee017f27-68f6-4748-b6c5-1c13a51711be",
   "metadata": {
    "execution": {
     "iopub.execute_input": "2022-07-13T23:41:25.828334Z",
     "iopub.status.busy": "2022-07-13T23:41:25.827221Z",
     "iopub.status.idle": "2022-07-13T23:41:25.841519Z",
     "shell.execute_reply": "2022-07-13T23:41:25.841270Z",
     "shell.execute_reply.started": "2022-07-13T23:41:25.828334Z"
    },
    "tags": []
   },
   "outputs": [],
   "source": [
    "not_input = ['T_z','p_z','g_z',r'\\rho_z', r'm_{rz}', 'm_{r0}', 'h_z', 'r_z', 'V_z', 'L_z', 'W_z', 'W_0']\n",
    "not_output = []#[r'm_{rz}', 'm_{r0}']"
   ]
  },
  {
   "cell_type": "code",
   "execution_count": 15,
   "id": "2ef71f0c-4c39-4eff-aedf-65cc8e0f1bec",
   "metadata": {
    "execution": {
     "iopub.execute_input": "2022-07-13T23:41:26.100569Z",
     "iopub.status.busy": "2022-07-13T23:41:26.100569Z",
     "iopub.status.idle": "2022-07-13T23:41:26.106542Z",
     "shell.execute_reply": "2022-07-13T23:41:26.105583Z",
     "shell.execute_reply.started": "2022-07-13T23:41:26.100569Z"
    },
    "tags": []
   },
   "outputs": [],
   "source": [
    "min_assign_edges = edges_left_right #[(left,right) for left,right in edges_left_right if left not in varexclude and right not in compexclude]"
   ]
  },
  {
   "cell_type": "code",
   "execution_count": 16,
   "id": "3d8a01d7-aa9d-420e-ae18-8f75ebf3a515",
   "metadata": {
    "execution": {
     "iopub.execute_input": "2022-07-13T23:41:26.318725Z",
     "iopub.status.busy": "2022-07-13T23:41:26.317725Z",
     "iopub.status.idle": "2022-07-13T23:41:26.353860Z",
     "shell.execute_reply": "2022-07-13T23:41:26.353101Z",
     "shell.execute_reply.started": "2022-07-13T23:41:26.318725Z"
    },
    "tags": []
   },
   "outputs": [
    {
     "name": "stdout",
     "output_type": "stream",
     "text": [
      "Set parameter Username\n",
      "Academic license - for non-commercial use only - expires 2023-02-25\n"
     ]
    }
   ],
   "source": [
    "xsol,mgpy = min_arc_set_assign(min_assign_edges, varidxs, eqnidxs, not_input, not_output)"
   ]
  },
  {
   "cell_type": "code",
   "execution_count": 17,
   "id": "ab3e2a8f-46c1-49b2-9ae7-ef36f0259ae6",
   "metadata": {
    "execution": {
     "iopub.execute_input": "2022-07-13T23:41:26.548768Z",
     "iopub.status.busy": "2022-07-13T23:41:26.548768Z",
     "iopub.status.idle": "2022-07-13T23:41:26.555766Z",
     "shell.execute_reply": "2022-07-13T23:41:26.555766Z",
     "shell.execute_reply.started": "2022-07-13T23:41:26.548768Z"
    },
    "tags": []
   },
   "outputs": [],
   "source": [
    "outset_minassign = dict((right, left) for left, right in edges_left_right if (left,right) in min_assign_edges and xsol[left, right] > 0.5)"
   ]
  },
  {
   "cell_type": "code",
   "execution_count": 20,
   "id": "afbc3c31-a4b2-42c6-9c4b-62016e21d923",
   "metadata": {
    "execution": {
     "iopub.execute_input": "2022-07-13T23:41:42.656166Z",
     "iopub.status.busy": "2022-07-13T23:41:42.656166Z",
     "iopub.status.idle": "2022-07-13T23:41:42.663789Z",
     "shell.execute_reply": "2022-07-13T23:41:42.663789Z",
     "shell.execute_reply.started": "2022-07-13T23:41:42.656166Z"
    },
    "tags": []
   },
   "outputs": [],
   "source": [
    "edges_minassign = invert_edges(edges[0], edges[1], newout=outset_minassign)\n",
    "tree_minassign = tree_nomod[0], {}, {outvar: 'root' for comp,outvar in outset_initial.items() if comp not in outset_minassign} "
   ]
  },
  {
   "cell_type": "code",
   "execution_count": 21,
   "id": "7c8b80ac-151d-42bd-a396-fac0244422c3",
   "metadata": {
    "execution": {
     "iopub.execute_input": "2022-07-13T23:41:44.364889Z",
     "iopub.status.busy": "2022-07-13T23:41:44.364610Z",
     "iopub.status.idle": "2022-07-13T23:41:44.379916Z",
     "shell.execute_reply": "2022-07-13T23:41:44.379916Z",
     "shell.execute_reply.started": "2022-07-13T23:41:44.364889Z"
    },
    "tags": []
   },
   "outputs": [],
   "source": [
    "G = flat_graph_formulation(*edges_minassign)\n",
    "minassign_order = sort_scc(G)\n",
    "edges_minassign_ordered, tree_minassign_ordered = reorder_merge_solve(edges_minassign, tree_minassign, minassign_order, 'root', mdf=True)\n",
    "edges_minassign_noparam = edges_no_param(model, edges_minassign_ordered)"
   ]
  },
  {
   "cell_type": "code",
   "execution_count": 22,
   "id": "cb7c06da-3642-45c1-9708-cb1df6e68aa2",
   "metadata": {
    "execution": {
     "iopub.execute_input": "2022-07-13T23:41:46.718670Z",
     "iopub.status.busy": "2022-07-13T23:41:46.702907Z",
     "iopub.status.idle": "2022-07-13T23:41:47.474355Z",
     "shell.execute_reply": "2022-07-13T23:41:47.474355Z",
     "shell.execute_reply.started": "2022-07-13T23:41:46.702907Z"
    },
    "tags": []
   },
   "outputs": [
    {
     "data": {
      "image/png": "[encoded data removed]",
      "text/plain": [
       "<Figure size 504x504 with 1 Axes>"
      ]
     },
     "metadata": {
      "needs_background": "light"
     },
     "output_type": "display_data"
    }
   ],
   "source": [
    "render_incidence(edges_minassign_noparam, tree_minassign_ordered, namingfunc_hsm, figname=\"balloon_hsm_minassign.png\", save=True, figsize=(7,7));"
   ]
  },
  {
   "cell_type": "markdown",
   "id": "e9618dcd-14a7-4355-b494-b26e4ef18c24",
   "metadata": {},
   "source": [
    "### Execute"
   ]
  },
  {
   "cell_type": "code",
   "execution_count": 23,
   "id": "0d49cce1-405f-4d0f-9d66-ab3b1051b2bf",
   "metadata": {
    "execution": {
     "iopub.execute_input": "2022-07-13T23:41:50.050502Z",
     "iopub.status.busy": "2022-07-13T23:41:50.050502Z",
     "iopub.status.idle": "2022-07-13T23:41:50.071157Z",
     "shell.execute_reply": "2022-07-13T23:41:50.070224Z",
     "shell.execute_reply.started": "2022-07-13T23:41:50.050502Z"
    },
    "tags": []
   },
   "outputs": [],
   "source": [
    "from datastructures.transformations import transform_components, partial_inversion, Component, var_from_mapping"
   ]
  },
  {
   "cell_type": "code",
   "execution_count": 24,
   "id": "b99a33a0-4d60-4e7e-bce3-97f0ad9fdb53",
   "metadata": {
    "execution": {
     "iopub.execute_input": "2022-07-13T23:42:25.617592Z",
     "iopub.status.busy": "2022-07-13T23:42:25.616600Z",
     "iopub.status.idle": "2022-07-13T23:42:25.637279Z",
     "shell.execute_reply": "2022-07-13T23:42:25.637279Z",
     "shell.execute_reply.started": "2022-07-13T23:42:25.617592Z"
    },
    "tags": []
   },
   "outputs": [],
   "source": [
    "components = model.components"
   ]
  },
  {
   "cell_type": "code",
   "execution_count": 25,
   "id": "71a46b33-b09a-4284-9560-a3c2611351b5",
   "metadata": {
    "execution": {
     "iopub.execute_input": "2022-07-13T23:42:26.160327Z",
     "iopub.status.busy": "2022-07-13T23:42:26.159327Z",
     "iopub.status.idle": "2022-07-13T23:42:26.579531Z",
     "shell.execute_reply": "2022-07-13T23:42:26.578526Z",
     "shell.execute_reply.started": "2022-07-13T23:42:26.160327Z"
    },
    "tags": []
   },
   "outputs": [],
   "source": [
    "newcomps = transform_components(edges, edges_minassign_ordered, components, model.idmapping)"
   ]
  },
  {
   "cell_type": "code",
   "execution_count": 26,
   "id": "87cc0e5c-107a-47c5-af2e-f997b99c2e91",
   "metadata": {
    "execution": {
     "iopub.execute_input": "2022-07-13T23:42:28.434430Z",
     "iopub.status.busy": "2022-07-13T23:42:28.433517Z",
     "iopub.status.idle": "2022-07-13T23:42:28.444620Z",
     "shell.execute_reply": "2022-07-13T23:42:28.444620Z",
     "shell.execute_reply.started": "2022-07-13T23:42:28.434430Z"
    },
    "tags": []
   },
   "outputs": [],
   "source": [
    "ordered_tree = tree_minassign_ordered\n",
    "ordered_edges = edges_minassign_ordered\n",
    "comp_options = model.comp_options\n",
    "var_options = model.var_options\n",
    "solvers_options = model.solvers_options\n",
    "#solvers_options['root'] = {'solver': 'GS', 'maxiter':20}\n",
    "sequence = order_from_tree(ordered_tree[0], ordered_tree[1], ordered_edges[1])\n",
    "solvers_options = default_solver_options(ordered_tree, solvers_options)\n",
    "wf = mdao_workflow(sequence, solvers_options, comp_options, var_options)"
   ]
  },
  {
   "cell_type": "code",
   "execution_count": 27,
   "id": "d4880faa-f9ad-450f-b019-1d1457eec85a",
   "metadata": {
    "execution": {
     "iopub.execute_input": "2022-07-13T23:42:28.928602Z",
     "iopub.status.busy": "2022-07-13T23:42:28.928602Z",
     "iopub.status.idle": "2022-07-13T23:42:28.941034Z",
     "shell.execute_reply": "2022-07-13T23:42:28.941034Z",
     "shell.execute_reply.started": "2022-07-13T23:42:28.928602Z"
    },
    "tags": []
   },
   "outputs": [],
   "source": [
    "nodetyperepr = model.nametyperepr\n",
    "nodetyperepr[SOLVER] = '{}'\n",
    "namingfunc = namefromsympy(nodetyperepr)"
   ]
  },
  {
   "cell_type": "code",
   "execution_count": 28,
   "id": "9c71de23-16c9-4fab-a3da-aa2728c8e321",
   "metadata": {
    "execution": {
     "iopub.execute_input": "2022-07-13T23:42:29.318001Z",
     "iopub.status.busy": "2022-07-13T23:42:29.316931Z",
     "iopub.status.idle": "2022-07-13T23:42:29.329925Z",
     "shell.execute_reply": "2022-07-13T23:42:29.329005Z",
     "shell.execute_reply.started": "2022-07-13T23:42:29.318001Z"
    },
    "tags": []
   },
   "outputs": [
    {
     "data": {
      "text/plain": [
       "[(('m_l',), 13, ('m_{r0}',), 'm_l'),\n",
       " (('m_b', 'm_v', 'm_t', 'm_p'), 14, ('m_l',), '-m_p - m_v - m_b + m_t'),\n",
       " (('A_0', 'C_D', 'D', '\\\\rho_0'), 18, ('v',), 'sqrt(2)*sqrt(D/(C_D*\\\\rho_0*A_0))'),\n",
       " (('r_0',), 19, ('A_0',), '9.86960440108934*r_0**2'),\n",
       " (('V_0',), 20, ('r_0',), '0.620350490899399*V_0**(1/3)'),\n",
       " (('\\\\rho_{LG0}', 'm_{r0}'), 22, ('V_0',), 'm_{r0}/\\\\rho_{LG0}')]"
      ]
     },
     "execution_count": 28,
     "metadata": {},
     "output_type": "execute_result"
    }
   ],
   "source": [
    "newcomps"
   ]
  },
  {
   "cell_type": "code",
   "execution_count": 29,
   "id": "4778821a-4e6b-423b-8cd0-97e4a7018a50",
   "metadata": {
    "execution": {
     "iopub.execute_input": "2022-07-13T23:42:32.249569Z",
     "iopub.status.busy": "2022-07-13T23:42:32.249569Z",
     "iopub.status.idle": "2022-07-13T23:42:32.266131Z",
     "shell.execute_reply": "2022-07-13T23:42:32.265773Z",
     "shell.execute_reply.started": "2022-07-13T23:42:32.249569Z"
    },
    "tags": []
   },
   "outputs": [],
   "source": [
    "mina_components = components+newcomps\n",
    "lookup_f = get_f(mina_components, ordered_edges)\n",
    "wfmdao = mdao_workflow_with_args(wf, lookup_f, namingfunc)"
   ]
  },
  {
   "cell_type": "code",
   "execution_count": 30,
   "id": "34198436-6ceb-42c0-863d-2d44862e5536",
   "metadata": {
    "execution": {
     "iopub.execute_input": "2022-07-13T23:42:32.777861Z",
     "iopub.status.busy": "2022-07-13T23:42:32.776865Z",
     "iopub.status.idle": "2022-07-13T23:42:32.810286Z",
     "shell.execute_reply": "2022-07-13T23:42:32.809885Z",
     "shell.execute_reply.started": "2022-07-13T23:42:32.777861Z"
    },
    "tags": []
   },
   "outputs": [],
   "source": [
    "prob, mdao_in, groups = build_archi(ordered_edges, ordered_tree, wfmdao, namingfunc, model.idmapping)"
   ]
  },
  {
   "cell_type": "code",
   "execution_count": 31,
   "id": "f6821222-13cd-4a75-9636-cf6c9502a8c2",
   "metadata": {
    "execution": {
     "iopub.execute_input": "2022-07-13T23:42:33.424946Z",
     "iopub.status.busy": "2022-07-13T23:42:33.424023Z",
     "iopub.status.idle": "2022-07-13T23:42:33.435256Z",
     "shell.execute_reply": "2022-07-13T23:42:33.435032Z",
     "shell.execute_reply.started": "2022-07-13T23:42:33.424946Z"
    },
    "tags": []
   },
   "outputs": [],
   "source": [
    "prob.set_val('m_t', 10000)"
   ]
  },
  {
   "cell_type": "code",
   "execution_count": 32,
   "id": "7e261839-8276-4c0f-aa52-e21e698869f0",
   "metadata": {
    "execution": {
     "iopub.execute_input": "2022-07-13T23:42:33.889175Z",
     "iopub.status.busy": "2022-07-13T23:42:33.889175Z",
     "iopub.status.idle": "2022-07-13T23:42:34.058670Z",
     "shell.execute_reply": "2022-07-13T23:42:34.057784Z",
     "shell.execute_reply.started": "2022-07-13T23:42:33.889175Z"
    },
    "tags": []
   },
   "outputs": [
    {
     "name": "stdout",
     "output_type": "stream",
     "text": [
      "\n",
      "====\n",
      "root\n",
      "====\n",
      "NL: Newton Converged in 0 iterations\n"
     ]
    }
   ],
   "source": [
    "prob.run_model()"
   ]
  },
  {
   "cell_type": "code",
   "execution_count": 139,
   "id": "a27d71ea-0133-4530-b0d8-ef86cfb607a3",
   "metadata": {
    "execution": {
     "iopub.execute_input": "2022-07-13T23:14:05.546098Z",
     "iopub.status.busy": "2022-07-13T23:14:05.545026Z",
     "iopub.status.idle": "2022-07-13T23:14:05.563477Z",
     "shell.execute_reply": "2022-07-13T23:14:05.563477Z",
     "shell.execute_reply.started": "2022-07-13T23:14:05.546098Z"
    },
    "tags": []
   },
   "outputs": [],
   "source": [
    "allvars = all_variables(*edges_minassign)"
   ]
  },
  {
   "cell_type": "code",
   "execution_count": 144,
   "id": "e5df6fb3-9848-4006-85eb-4609535dcb51",
   "metadata": {
    "execution": {
     "iopub.execute_input": "2022-07-13T23:14:55.205229Z",
     "iopub.status.busy": "2022-07-13T23:14:55.205229Z",
     "iopub.status.idle": "2022-07-13T23:14:55.227126Z",
     "shell.execute_reply": "2022-07-13T23:14:55.226965Z",
     "shell.execute_reply.started": "2022-07-13T23:14:55.205229Z"
    },
    "tags": []
   },
   "outputs": [
    {
     "data": {
      "text/html": [
       "<style type=\"text/css\">\n",
       "</style>\n",
       "<table id=\"T_17aa6\">\n",
       "  <thead>\n",
       "  </thead>\n",
       "  <tbody>\n",
       "    <tr>\n",
       "      <td id=\"T_17aa6_row0_col0\" class=\"data row0 col0\" >$$\\rho_S$$</td>\n",
       "      <td id=\"T_17aa6_row0_col1\" class=\"data row0 col1\" >925</td>\n",
       "      <td id=\"T_17aa6_row0_col2\" class=\"data row0 col2\" >kg/m³</td>\n",
       "    </tr>\n",
       "    <tr>\n",
       "      <td id=\"T_17aa6_row1_col0\" class=\"data row1 col0\" >$$C_D$$</td>\n",
       "      <td id=\"T_17aa6_row1_col1\" class=\"data row1 col1\" >0.47</td>\n",
       "      <td id=\"T_17aa6_row1_col2\" class=\"data row1 col2\" ></td>\n",
       "    </tr>\n",
       "    <tr>\n",
       "      <td id=\"T_17aa6_row2_col0\" class=\"data row2 col0\" >$$A_0$$</td>\n",
       "      <td id=\"T_17aa6_row2_col1\" class=\"data row2 col1\" >1837.528</td>\n",
       "      <td id=\"T_17aa6_row2_col2\" class=\"data row2 col2\" >m²</td>\n",
       "    </tr>\n",
       "    <tr>\n",
       "      <td id=\"T_17aa6_row3_col0\" class=\"data row3 col0\" >$$M_{He}$$</td>\n",
       "      <td id=\"T_17aa6_row3_col1\" class=\"data row3 col1\" >6.640×10⁻²⁷</td>\n",
       "      <td id=\"T_17aa6_row3_col2\" class=\"data row3 col2\" >kg</td>\n",
       "    </tr>\n",
       "    <tr>\n",
       "      <td id=\"T_17aa6_row4_col0\" class=\"data row4 col0\" >$$v$$</td>\n",
       "      <td id=\"T_17aa6_row4_col1\" class=\"data row4 col1\" >7.502</td>\n",
       "      <td id=\"T_17aa6_row4_col2\" class=\"data row4 col2\" >m/s</td>\n",
       "    </tr>\n",
       "    <tr>\n",
       "      <td id=\"T_17aa6_row5_col0\" class=\"data row5 col0\" >$$g$$</td>\n",
       "      <td id=\"T_17aa6_row5_col1\" class=\"data row5 col1\" >9.807</td>\n",
       "      <td id=\"T_17aa6_row5_col2\" class=\"data row5 col2\" >m/s²</td>\n",
       "    </tr>\n",
       "    <tr>\n",
       "      <td id=\"T_17aa6_row6_col0\" class=\"data row6 col0\" >$$\\rho_{He}$$</td>\n",
       "      <td id=\"T_17aa6_row6_col1\" class=\"data row6 col1\" >0.179</td>\n",
       "      <td id=\"T_17aa6_row6_col2\" class=\"data row6 col2\" >kg/m³</td>\n",
       "    </tr>\n",
       "    <tr>\n",
       "      <td id=\"T_17aa6_row7_col0\" class=\"data row7 col0\" >$$m_{r0}$$</td>\n",
       "      <td id=\"T_17aa6_row7_col1\" class=\"data row7 col1\" >1900.515</td>\n",
       "      <td id=\"T_17aa6_row7_col2\" class=\"data row7 col2\" >kg</td>\n",
       "    </tr>\n",
       "    <tr>\n",
       "      <td id=\"T_17aa6_row8_col0\" class=\"data row8 col0\" >$$L_z$$</td>\n",
       "      <td id=\"T_17aa6_row8_col1\" class=\"data row8 col1\" >9.715×10⁴</td>\n",
       "      <td id=\"T_17aa6_row8_col2\" class=\"data row8 col2\" >N</td>\n",
       "    </tr>\n",
       "    <tr>\n",
       "      <td id=\"T_17aa6_row9_col0\" class=\"data row9 col0\" >$$t_S$$</td>\n",
       "      <td id=\"T_17aa6_row9_col1\" class=\"data row9 col1\" >2.540×10⁻⁵</td>\n",
       "      <td id=\"T_17aa6_row9_col2\" class=\"data row9 col2\" >m</td>\n",
       "    </tr>\n",
       "    <tr>\n",
       "      <td id=\"T_17aa6_row10_col0\" class=\"data row10 col0\" >$$T_z$$</td>\n",
       "      <td id=\"T_17aa6_row10_col1\" class=\"data row10 col1\" >226.51</td>\n",
       "      <td id=\"T_17aa6_row10_col2\" class=\"data row10 col2\" >K</td>\n",
       "    </tr>\n",
       "    <tr>\n",
       "      <td id=\"T_17aa6_row11_col0\" class=\"data row11 col0\" >$$m_t$$</td>\n",
       "      <td id=\"T_17aa6_row11_col1\" class=\"data row11 col1\" >10000</td>\n",
       "      <td id=\"T_17aa6_row11_col2\" class=\"data row11 col2\" >kg</td>\n",
       "    </tr>\n",
       "    <tr>\n",
       "      <td id=\"T_17aa6_row12_col0\" class=\"data row12 col0\" >$$r_0$$</td>\n",
       "      <td id=\"T_17aa6_row12_col1\" class=\"data row12 col1\" >13.645</td>\n",
       "      <td id=\"T_17aa6_row12_col2\" class=\"data row12 col2\" >m</td>\n",
       "    </tr>\n",
       "    <tr>\n",
       "      <td id=\"T_17aa6_row13_col0\" class=\"data row13 col0\" >$$k$$</td>\n",
       "      <td id=\"T_17aa6_row13_col1\" class=\"data row13 col1\" >1.381×10⁻²³</td>\n",
       "      <td id=\"T_17aa6_row13_col2\" class=\"data row13 col2\" >J/K</td>\n",
       "    </tr>\n",
       "    <tr>\n",
       "      <td id=\"T_17aa6_row14_col0\" class=\"data row14 col0\" >$$V_0$$</td>\n",
       "      <td id=\"T_17aa6_row14_col1\" class=\"data row14 col1\" >1.064×10⁴</td>\n",
       "      <td id=\"T_17aa6_row14_col2\" class=\"data row14 col2\" >m³</td>\n",
       "    </tr>\n",
       "    <tr>\n",
       "      <td id=\"T_17aa6_row15_col0\" class=\"data row15 col0\" >$$p_z$$</td>\n",
       "      <td id=\"T_17aa6_row15_col1\" class=\"data row15 col1\" >1197</td>\n",
       "      <td id=\"T_17aa6_row15_col2\" class=\"data row15 col2\" >Pa</td>\n",
       "    </tr>\n",
       "    <tr>\n",
       "      <td id=\"T_17aa6_row16_col0\" class=\"data row16 col0\" >$$p$$</td>\n",
       "      <td id=\"T_17aa6_row16_col1\" class=\"data row16 col1\" >1.6</td>\n",
       "      <td id=\"T_17aa6_row16_col2\" class=\"data row16 col2\" ></td>\n",
       "    </tr>\n",
       "    <tr>\n",
       "      <td id=\"T_17aa6_row17_col0\" class=\"data row17 col0\" >$$g_z$$</td>\n",
       "      <td id=\"T_17aa6_row17_col1\" class=\"data row17 col1\" >9.715</td>\n",
       "      <td id=\"T_17aa6_row17_col2\" class=\"data row17 col2\" >m/s²</td>\n",
       "    </tr>\n",
       "    <tr>\n",
       "      <td id=\"T_17aa6_row18_col0\" class=\"data row18 col0\" >$$h_z$$</td>\n",
       "      <td id=\"T_17aa6_row18_col1\" class=\"data row18 col1\" >151.848</td>\n",
       "      <td id=\"T_17aa6_row18_col2\" class=\"data row18 col2\" >m</td>\n",
       "    </tr>\n",
       "    <tr>\n",
       "      <td id=\"T_17aa6_row19_col0\" class=\"data row19 col0\" >$$m_{rz}$$</td>\n",
       "      <td id=\"T_17aa6_row19_col1\" class=\"data row19 col1\" >1380.519</td>\n",
       "      <td id=\"T_17aa6_row19_col2\" class=\"data row19 col2\" >kg</td>\n",
       "    </tr>\n",
       "    <tr>\n",
       "      <td id=\"T_17aa6_row20_col0\" class=\"data row20 col0\" >$$W_0$$</td>\n",
       "      <td id=\"T_17aa6_row20_col1\" class=\"data row20 col1\" >9.807×10⁴</td>\n",
       "      <td id=\"T_17aa6_row20_col2\" class=\"data row20 col2\" >N</td>\n",
       "    </tr>\n",
       "    <tr>\n",
       "      <td id=\"T_17aa6_row21_col0\" class=\"data row21 col0\" >$$W_z$$</td>\n",
       "      <td id=\"T_17aa6_row21_col1\" class=\"data row21 col1\" >9.715×10⁴</td>\n",
       "      <td id=\"T_17aa6_row21_col2\" class=\"data row21 col2\" >N</td>\n",
       "    </tr>\n",
       "    <tr>\n",
       "      <td id=\"T_17aa6_row22_col0\" class=\"data row22 col0\" >$$L_0$$</td>\n",
       "      <td id=\"T_17aa6_row22_col1\" class=\"data row22 col1\" >1.278×10⁵</td>\n",
       "      <td id=\"T_17aa6_row22_col2\" class=\"data row22 col2\" >N</td>\n",
       "    </tr>\n",
       "    <tr>\n",
       "      <td id=\"T_17aa6_row23_col0\" class=\"data row23 col0\" >$$\\rho_{H2}$$</td>\n",
       "      <td id=\"T_17aa6_row23_col1\" class=\"data row23 col1\" >0.09</td>\n",
       "      <td id=\"T_17aa6_row23_col2\" class=\"data row23 col2\" >kg/m³</td>\n",
       "    </tr>\n",
       "    <tr>\n",
       "      <td id=\"T_17aa6_row24_col0\" class=\"data row24 col0\" >$$m_l$$</td>\n",
       "      <td id=\"T_17aa6_row24_col1\" class=\"data row24 col1\" >1900.515</td>\n",
       "      <td id=\"T_17aa6_row24_col2\" class=\"data row24 col2\" >kg</td>\n",
       "    </tr>\n",
       "    <tr>\n",
       "      <td id=\"T_17aa6_row25_col0\" class=\"data row25 col0\" >$$V_z$$</td>\n",
       "      <td id=\"T_17aa6_row25_col1\" class=\"data row25 col1\" >5.432×10⁵</td>\n",
       "      <td id=\"T_17aa6_row25_col2\" class=\"data row25 col2\" >m³</td>\n",
       "    </tr>\n",
       "    <tr>\n",
       "      <td id=\"T_17aa6_row26_col0\" class=\"data row26 col0\" >$$m_v$$</td>\n",
       "      <td id=\"T_17aa6_row26_col1\" class=\"data row26 col1\" >4545</td>\n",
       "      <td id=\"T_17aa6_row26_col2\" class=\"data row26 col2\" >kg</td>\n",
       "    </tr>\n",
       "    <tr>\n",
       "      <td id=\"T_17aa6_row27_col0\" class=\"data row27 col0\" >$$r_z$$</td>\n",
       "      <td id=\"T_17aa6_row27_col1\" class=\"data row27 col1\" >50.616</td>\n",
       "      <td id=\"T_17aa6_row27_col2\" class=\"data row27 col2\" >m</td>\n",
       "    </tr>\n",
       "    <tr>\n",
       "      <td id=\"T_17aa6_row28_col0\" class=\"data row28 col0\" >$$\\rho_{LGz}$$</td>\n",
       "      <td id=\"T_17aa6_row28_col1\" class=\"data row28 col1\" >0.003</td>\n",
       "      <td id=\"T_17aa6_row28_col2\" class=\"data row28 col2\" >kg/m³</td>\n",
       "    </tr>\n",
       "    <tr>\n",
       "      <td id=\"T_17aa6_row29_col0\" class=\"data row29 col0\" >$$\\rho_{LG0}$$</td>\n",
       "      <td id=\"T_17aa6_row29_col1\" class=\"data row29 col1\" >0.179</td>\n",
       "      <td id=\"T_17aa6_row29_col2\" class=\"data row29 col2\" >kg/m³</td>\n",
       "    </tr>\n",
       "    <tr>\n",
       "      <td id=\"T_17aa6_row30_col0\" class=\"data row30 col0\" >$$D$$</td>\n",
       "      <td id=\"T_17aa6_row30_col1\" class=\"data row30 col1\" >2.977×10⁴</td>\n",
       "      <td id=\"T_17aa6_row30_col2\" class=\"data row30 col2\" >N</td>\n",
       "    </tr>\n",
       "    <tr>\n",
       "      <td id=\"T_17aa6_row31_col0\" class=\"data row31 col0\" >$$\\rho_z$$</td>\n",
       "      <td id=\"T_17aa6_row31_col1\" class=\"data row31 col1\" >0.018</td>\n",
       "      <td id=\"T_17aa6_row31_col2\" class=\"data row31 col2\" >kg/m³</td>\n",
       "    </tr>\n",
       "    <tr>\n",
       "      <td id=\"T_17aa6_row32_col0\" class=\"data row32 col0\" >$$m_b$$</td>\n",
       "      <td id=\"T_17aa6_row32_col1\" class=\"data row32 col1\" >3054.485</td>\n",
       "      <td id=\"T_17aa6_row32_col2\" class=\"data row32 col2\" >kg</td>\n",
       "    </tr>\n",
       "    <tr>\n",
       "      <td id=\"T_17aa6_row33_col0\" class=\"data row33 col0\" >$$\\alpha$$</td>\n",
       "      <td id=\"T_17aa6_row33_col1\" class=\"data row33 col1\" >1</td>\n",
       "      <td id=\"T_17aa6_row33_col2\" class=\"data row33 col2\" ></td>\n",
       "    </tr>\n",
       "    <tr>\n",
       "      <td id=\"T_17aa6_row34_col0\" class=\"data row34 col0\" >$$M_{H2}$$</td>\n",
       "      <td id=\"T_17aa6_row34_col1\" class=\"data row34 col1\" >1.660×10⁻²⁷</td>\n",
       "      <td id=\"T_17aa6_row34_col2\" class=\"data row34 col2\" >kg</td>\n",
       "    </tr>\n",
       "    <tr>\n",
       "      <td id=\"T_17aa6_row35_col0\" class=\"data row35 col0\" >$$z$$</td>\n",
       "      <td id=\"T_17aa6_row35_col1\" class=\"data row35 col1\" >30</td>\n",
       "      <td id=\"T_17aa6_row35_col2\" class=\"data row35 col2\" >km</td>\n",
       "    </tr>\n",
       "    <tr>\n",
       "      <td id=\"T_17aa6_row36_col0\" class=\"data row36 col0\" >$$\\rho_0$$</td>\n",
       "      <td id=\"T_17aa6_row36_col1\" class=\"data row36 col1\" >1.225</td>\n",
       "      <td id=\"T_17aa6_row36_col2\" class=\"data row36 col2\" >kg/m³</td>\n",
       "    </tr>\n",
       "    <tr>\n",
       "      <td id=\"T_17aa6_row37_col0\" class=\"data row37 col0\" >$$R$$</td>\n",
       "      <td id=\"T_17aa6_row37_col1\" class=\"data row37 col1\" >287.05</td>\n",
       "      <td id=\"T_17aa6_row37_col2\" class=\"data row37 col2\" >J/K/kg</td>\n",
       "    </tr>\n",
       "    <tr>\n",
       "      <td id=\"T_17aa6_row38_col0\" class=\"data row38 col0\" >$$S$$</td>\n",
       "      <td id=\"T_17aa6_row38_col1\" class=\"data row38 col1\" >4.334×10⁴</td>\n",
       "      <td id=\"T_17aa6_row38_col2\" class=\"data row38 col2\" >m²</td>\n",
       "    </tr>\n",
       "    <tr>\n",
       "      <td id=\"T_17aa6_row39_col0\" class=\"data row39 col0\" >$$m_p$$</td>\n",
       "      <td id=\"T_17aa6_row39_col1\" class=\"data row39 col1\" >500</td>\n",
       "      <td id=\"T_17aa6_row39_col2\" class=\"data row39 col2\" >kg</td>\n",
       "    </tr>\n",
       "  </tbody>\n",
       "</table>\n"
      ],
      "text/plain": [
       "<pandas.io.formats.style.Styler at 0x1cb11659ee0>"
      ]
     },
     "execution_count": 144,
     "metadata": {},
     "output_type": "execute_result"
    }
   ],
   "source": [
    "print_inputs(model, prob, namingfunc, allvars, filterparam=False)"
   ]
  },
  {
   "cell_type": "code",
   "execution_count": 107,
   "id": "1be34b79-e74e-469f-aada-70568330a703",
   "metadata": {
    "execution": {
     "iopub.execute_input": "2022-07-13T22:51:04.621641Z",
     "iopub.status.busy": "2022-07-13T22:51:04.621641Z",
     "iopub.status.idle": "2022-07-13T22:51:04.644541Z",
     "shell.execute_reply": "2022-07-13T22:51:04.644118Z",
     "shell.execute_reply.started": "2022-07-13T22:51:04.621641Z"
    },
    "tags": []
   },
   "outputs": [
    {
     "data": {
      "text/html": [
       "<style type=\"text/css\">\n",
       "</style>\n",
       "<table id=\"T_4e5d7\">\n",
       "  <thead>\n",
       "  </thead>\n",
       "  <tbody>\n",
       "    <tr>\n",
       "      <td id=\"T_4e5d7_row0_col0\" class=\"data row0 col0\" >$$p_z$$</td>\n",
       "      <td id=\"T_4e5d7_row0_col1\" class=\"data row0 col1\" >1197</td>\n",
       "      <td id=\"T_4e5d7_row0_col2\" class=\"data row0 col2\" >Pa</td>\n",
       "    </tr>\n",
       "    <tr>\n",
       "      <td id=\"T_4e5d7_row1_col0\" class=\"data row1 col0\" >$$T_z$$</td>\n",
       "      <td id=\"T_4e5d7_row1_col1\" class=\"data row1 col1\" >226.51</td>\n",
       "      <td id=\"T_4e5d7_row1_col2\" class=\"data row1 col2\" >K</td>\n",
       "    </tr>\n",
       "    <tr>\n",
       "      <td id=\"T_4e5d7_row2_col0\" class=\"data row2 col0\" >$$g_z$$</td>\n",
       "      <td id=\"T_4e5d7_row2_col1\" class=\"data row2 col1\" >9.715</td>\n",
       "      <td id=\"T_4e5d7_row2_col2\" class=\"data row2 col2\" >m/s²</td>\n",
       "    </tr>\n",
       "    <tr>\n",
       "      <td id=\"T_4e5d7_row3_col0\" class=\"data row3 col0\" >$$\\rho_z$$</td>\n",
       "      <td id=\"T_4e5d7_row3_col1\" class=\"data row3 col1\" >0.018</td>\n",
       "      <td id=\"T_4e5d7_row3_col2\" class=\"data row3 col2\" >kg/m³</td>\n",
       "    </tr>\n",
       "    <tr>\n",
       "      <td id=\"T_4e5d7_row4_col0\" class=\"data row4 col0\" >$$\\rho_{LGz}$$</td>\n",
       "      <td id=\"T_4e5d7_row4_col1\" class=\"data row4 col1\" >0.003</td>\n",
       "      <td id=\"T_4e5d7_row4_col2\" class=\"data row4 col2\" >kg/m³</td>\n",
       "    </tr>\n",
       "    <tr>\n",
       "      <td id=\"T_4e5d7_row5_col0\" class=\"data row5 col0\" >$$W_z$$</td>\n",
       "      <td id=\"T_4e5d7_row5_col1\" class=\"data row5 col1\" >7.374×10⁴</td>\n",
       "      <td id=\"T_4e5d7_row5_col2\" class=\"data row5 col2\" >N</td>\n",
       "    </tr>\n",
       "    <tr>\n",
       "      <td id=\"T_4e5d7_row6_col0\" class=\"data row6 col0\" >$$L_z$$</td>\n",
       "      <td id=\"T_4e5d7_row6_col1\" class=\"data row6 col1\" >7.374×10⁴</td>\n",
       "      <td id=\"T_4e5d7_row6_col2\" class=\"data row6 col2\" >N</td>\n",
       "    </tr>\n",
       "    <tr>\n",
       "      <td id=\"T_4e5d7_row7_col0\" class=\"data row7 col0\" >$$V_z$$</td>\n",
       "      <td id=\"T_4e5d7_row7_col1\" class=\"data row7 col1\" >4.123×10⁵</td>\n",
       "      <td id=\"T_4e5d7_row7_col2\" class=\"data row7 col2\" >m³</td>\n",
       "    </tr>\n",
       "    <tr>\n",
       "      <td id=\"T_4e5d7_row8_col0\" class=\"data row8 col0\" >$$m_{rz}$$</td>\n",
       "      <td id=\"T_4e5d7_row8_col1\" class=\"data row8 col1\" >1047.814</td>\n",
       "      <td id=\"T_4e5d7_row8_col2\" class=\"data row8 col2\" >kg</td>\n",
       "    </tr>\n",
       "    <tr>\n",
       "      <td id=\"T_4e5d7_row9_col0\" class=\"data row9 col0\" >$$r_z$$</td>\n",
       "      <td id=\"T_4e5d7_row9_col1\" class=\"data row9 col1\" >46.171</td>\n",
       "      <td id=\"T_4e5d7_row9_col2\" class=\"data row9 col2\" >m</td>\n",
       "    </tr>\n",
       "    <tr>\n",
       "      <td id=\"T_4e5d7_row10_col0\" class=\"data row10 col0\" >$$h_z$$</td>\n",
       "      <td id=\"T_4e5d7_row10_col1\" class=\"data row10 col1\" >138.513</td>\n",
       "      <td id=\"T_4e5d7_row10_col2\" class=\"data row10 col2\" >m</td>\n",
       "    </tr>\n",
       "    <tr>\n",
       "      <td id=\"T_4e5d7_row11_col0\" class=\"data row11 col0\" >$$S$$</td>\n",
       "      <td id=\"T_4e5d7_row11_col1\" class=\"data row11 col1\" >3.606×10⁴</td>\n",
       "      <td id=\"T_4e5d7_row11_col2\" class=\"data row11 col2\" >m²</td>\n",
       "    </tr>\n",
       "    <tr>\n",
       "      <td id=\"T_4e5d7_row12_col0\" class=\"data row12 col0\" >$$m_b$$</td>\n",
       "      <td id=\"T_4e5d7_row12_col1\" class=\"data row12 col1\" >2541.553</td>\n",
       "      <td id=\"T_4e5d7_row12_col2\" class=\"data row12 col2\" >kg</td>\n",
       "    </tr>\n",
       "    <tr>\n",
       "      <td id=\"T_4e5d7_row13_col0\" class=\"data row13 col0\" >$$m_l$$</td>\n",
       "      <td id=\"T_4e5d7_row13_col1\" class=\"data row13 col1\" >3.447</td>\n",
       "      <td id=\"T_4e5d7_row13_col2\" class=\"data row13 col2\" >kg</td>\n",
       "    </tr>\n",
       "    <tr>\n",
       "      <td id=\"T_4e5d7_row14_col0\" class=\"data row14 col0\" >$$m_t$$</td>\n",
       "      <td id=\"T_4e5d7_row14_col1\" class=\"data row14 col1\" >7590</td>\n",
       "      <td id=\"T_4e5d7_row14_col2\" class=\"data row14 col2\" >kg</td>\n",
       "    </tr>\n",
       "    <tr>\n",
       "      <td id=\"T_4e5d7_row15_col0\" class=\"data row15 col0\" >$$W_0$$</td>\n",
       "      <td id=\"T_4e5d7_row15_col1\" class=\"data row15 col1\" >7.444×10⁴</td>\n",
       "      <td id=\"T_4e5d7_row15_col2\" class=\"data row15 col2\" >N</td>\n",
       "    </tr>\n",
       "    <tr>\n",
       "      <td id=\"T_4e5d7_row16_col0\" class=\"data row16 col0\" >$$L_0$$</td>\n",
       "      <td id=\"T_4e5d7_row16_col1\" class=\"data row16 col1\" >231.85</td>\n",
       "      <td id=\"T_4e5d7_row16_col2\" class=\"data row16 col2\" >N</td>\n",
       "    </tr>\n",
       "    <tr>\n",
       "      <td id=\"T_4e5d7_row17_col0\" class=\"data row17 col0\" >$$D$$</td>\n",
       "      <td id=\"T_4e5d7_row17_col1\" class=\"data row17 col1\" >0</td>\n",
       "      <td id=\"T_4e5d7_row17_col2\" class=\"data row17 col2\" >N</td>\n",
       "    </tr>\n",
       "    <tr>\n",
       "      <td id=\"T_4e5d7_row18_col0\" class=\"data row18 col0\" >$$A_0$$</td>\n",
       "      <td id=\"T_4e5d7_row18_col1\" class=\"data row18 col1\" >27.327</td>\n",
       "      <td id=\"T_4e5d7_row18_col2\" class=\"data row18 col2\" >m²</td>\n",
       "    </tr>\n",
       "    <tr>\n",
       "      <td id=\"T_4e5d7_row19_col0\" class=\"data row19 col0\" >$$r_0$$</td>\n",
       "      <td id=\"T_4e5d7_row19_col1\" class=\"data row19 col1\" >1.664</td>\n",
       "      <td id=\"T_4e5d7_row19_col2\" class=\"data row19 col2\" >m</td>\n",
       "    </tr>\n",
       "    <tr>\n",
       "      <td id=\"T_4e5d7_row20_col0\" class=\"data row20 col0\" >$$V_0$$</td>\n",
       "      <td id=\"T_4e5d7_row20_col1\" class=\"data row20 col1\" >19.299</td>\n",
       "      <td id=\"T_4e5d7_row20_col2\" class=\"data row20 col2\" >m³</td>\n",
       "    </tr>\n",
       "    <tr>\n",
       "      <td id=\"T_4e5d7_row21_col0\" class=\"data row21 col0\" >$$\\rho_{LG0}$$</td>\n",
       "      <td id=\"T_4e5d7_row21_col1\" class=\"data row21 col1\" >0.179</td>\n",
       "      <td id=\"T_4e5d7_row21_col2\" class=\"data row21 col2\" >kg/m³</td>\n",
       "    </tr>\n",
       "    <tr>\n",
       "      <td id=\"T_4e5d7_row22_col0\" class=\"data row22 col0\" >$$m_{r0}$$</td>\n",
       "      <td id=\"T_4e5d7_row22_col1\" class=\"data row22 col1\" >3.447</td>\n",
       "      <td id=\"T_4e5d7_row22_col2\" class=\"data row22 col2\" >kg</td>\n",
       "    </tr>\n",
       "  </tbody>\n",
       "</table>\n"
      ],
      "text/plain": [
       "<pandas.io.formats.style.Styler at 0x1cb1147efa0>"
      ]
     },
     "execution_count": 107,
     "metadata": {},
     "output_type": "execute_result"
    }
   ],
   "source": [
    "print_outputs(model, prob, namingfunc)"
   ]
  },
  {
   "cell_type": "markdown",
   "id": "77fe9acd-a263-46aa-90b8-e0e3df18481b",
   "metadata": {},
   "source": [
    "## min scc is the same (because there is no feedback)"
   ]
  },
  {
   "cell_type": "markdown",
   "id": "87a9d2d6-0d1f-40e6-8118-9dc939f26222",
   "metadata": {},
   "source": [
    "# Initial structure"
   ]
  },
  {
   "cell_type": "code",
   "execution_count": 86,
   "id": "cdb0f7d6-6c2a-44ec-be0d-f0ff79d8052b",
   "metadata": {
    "execution": {
     "iopub.execute_input": "2022-07-13T23:53:43.783008Z",
     "iopub.status.busy": "2022-07-13T23:53:43.783008Z",
     "iopub.status.idle": "2022-07-13T23:53:43.795406Z",
     "shell.execute_reply": "2022-07-13T23:53:43.794483Z",
     "shell.execute_reply.started": "2022-07-13T23:53:43.783008Z"
    },
    "tags": []
   },
   "outputs": [],
   "source": [
    "ordered_tree = tree_nomod\n",
    "ordered_edges = edges"
   ]
  },
  {
   "cell_type": "markdown",
   "id": "c30b128c-d5f4-4e0d-9d44-6d7e7a167373",
   "metadata": {},
   "source": [
    "## For optimization only"
   ]
  },
  {
   "cell_type": "code",
   "execution_count": 87,
   "id": "04214e63-d667-4137-bf20-766f0657a0fc",
   "metadata": {
    "execution": {
     "iopub.execute_input": "2022-07-13T23:53:44.569504Z",
     "iopub.status.busy": "2022-07-13T23:53:44.569504Z",
     "iopub.status.idle": "2022-07-13T23:53:44.574725Z",
     "shell.execute_reply": "2022-07-13T23:53:44.574725Z",
     "shell.execute_reply.started": "2022-07-13T23:53:44.569504Z"
    },
    "tags": []
   },
   "outputs": [],
   "source": [
    "#addobj(m, m_t) # only adds component, we need to update graph"
   ]
  },
  {
   "cell_type": "code",
   "execution_count": 88,
   "id": "620dad41-5866-4e30-bac5-631019e3d261",
   "metadata": {
    "execution": {
     "iopub.execute_input": "2022-07-13T23:53:44.785227Z",
     "iopub.status.busy": "2022-07-13T23:53:44.784234Z",
     "iopub.status.idle": "2022-07-13T23:53:44.794421Z",
     "shell.execute_reply": "2022-07-13T23:53:44.793415Z",
     "shell.execute_reply.started": "2022-07-13T23:53:44.785227Z"
    },
    "tags": []
   },
   "outputs": [],
   "source": [
    "solvefor = [vr]#, Pcomms]"
   ]
  },
  {
   "cell_type": "code",
   "execution_count": 89,
   "id": "78e544fa-ecb3-4f51-bda8-7f91fb7e641b",
   "metadata": {
    "execution": {
     "iopub.execute_input": "2022-07-13T23:53:45.004201Z",
     "iopub.status.busy": "2022-07-13T23:53:45.004201Z",
     "iopub.status.idle": "2022-07-13T23:53:45.010197Z",
     "shell.execute_reply": "2022-07-13T23:53:45.009199Z",
     "shell.execute_reply.started": "2022-07-13T23:53:45.004201Z"
    },
    "tags": []
   },
   "outputs": [],
   "source": [
    "varoptions = {vr:[0.1,10]}# Pcomms:[10,100]}"
   ]
  },
  {
   "cell_type": "code",
   "execution_count": 90,
   "id": "dd133849-4060-4033-b0f2-c018a2a72cf0",
   "metadata": {
    "execution": {
     "iopub.execute_input": "2022-07-13T23:53:45.176842Z",
     "iopub.status.busy": "2022-07-13T23:53:45.175850Z",
     "iopub.status.idle": "2022-07-13T23:53:45.181069Z",
     "shell.execute_reply": "2022-07-13T23:53:45.180927Z",
     "shell.execute_reply.started": "2022-07-13T23:53:45.176842Z"
    },
    "tags": []
   },
   "outputs": [],
   "source": [
    "Ein,Eout,Rin = copy_dicts(ordered_edges)\n",
    "Ein.update({23: ('m_t',)}) \n",
    "Eout.update({23: (None,)})\n",
    "ordered_edges = Ein,Eout,Rin"
   ]
  },
  {
   "cell_type": "code",
   "execution_count": 91,
   "id": "9577433d-b5b9-4f92-935d-8d9ece4fd6d1",
   "metadata": {
    "execution": {
     "iopub.execute_input": "2022-07-13T23:53:45.404508Z",
     "iopub.status.busy": "2022-07-13T23:53:45.403508Z",
     "iopub.status.idle": "2022-07-13T23:53:45.415508Z",
     "shell.execute_reply": "2022-07-13T23:53:45.414589Z",
     "shell.execute_reply.started": "2022-07-13T23:53:45.404508Z"
    },
    "tags": []
   },
   "outputs": [],
   "source": [
    "ordered_tree = (ordered_tree[0] | {23:'opt'}, {'root':'opt'}, {elt.varid:'opt' for elt in solvefor})\n",
    "model.var_options = {elt.varid:var for elt,var in varoptions.items()}\n",
    "model.solvers_options['opt'] = {'type': OPT, 'disp':True, 'optimizer': 'SLSQP', 'maxiter':200}"
   ]
  },
  {
   "cell_type": "markdown",
   "id": "140d82a3-ad1a-4b8e-b330-6f9febfeb6aa",
   "metadata": {},
   "source": [
    "## For all runs"
   ]
  },
  {
   "cell_type": "code",
   "execution_count": 92,
   "id": "5586dd55-cc88-4adf-a98b-8a7dbbba2958",
   "metadata": {
    "execution": {
     "iopub.execute_input": "2022-07-13T23:53:46.119671Z",
     "iopub.status.busy": "2022-07-13T23:53:46.118672Z",
     "iopub.status.idle": "2022-07-13T23:53:46.130350Z",
     "shell.execute_reply": "2022-07-13T23:53:46.130350Z",
     "shell.execute_reply.started": "2022-07-13T23:53:46.119671Z"
    },
    "tags": []
   },
   "outputs": [],
   "source": [
    "comp_options = model.comp_options\n",
    "var_options = model.var_options\n",
    "solvers_options = model.solvers_options\n",
    "solvers_options['root'] = {'solver': 'N', 'maxiter':20, 'iprint': True}\n",
    "#for elt in ['apogee', 'materials', 'mass', 'aerodynamics', 'geometry']:\n",
    "#    solvers_options[elt]={'iprint': False}\n",
    "sequence = order_from_tree(ordered_tree[0], ordered_tree[1], ordered_edges[1])\n",
    "solvers_options = default_solver_options(ordered_tree, solvers_options)\n",
    "wf = mdao_workflow(sequence, solvers_options, comp_options, var_options)"
   ]
  },
  {
   "cell_type": "code",
   "execution_count": 94,
   "id": "ebffbdcf-f771-4712-aa15-f1b3bf9fa89c",
   "metadata": {
    "execution": {
     "iopub.execute_input": "2022-07-13T23:53:56.077711Z",
     "iopub.status.busy": "2022-07-13T23:53:56.076710Z",
     "iopub.status.idle": "2022-07-13T23:53:56.089031Z",
     "shell.execute_reply": "2022-07-13T23:53:56.089031Z",
     "shell.execute_reply.started": "2022-07-13T23:53:56.077711Z"
    },
    "tags": []
   },
   "outputs": [],
   "source": [
    "nodetyperepr = model.nametyperepr\n",
    "nodetyperepr[SOLVER] = '{}'\n",
    "namingfunc = namefromsympy(nodetyperepr)"
   ]
  },
  {
   "cell_type": "code",
   "execution_count": 95,
   "id": "0e823735-7655-4884-b2a1-04349d8825d8",
   "metadata": {
    "execution": {
     "iopub.execute_input": "2022-07-13T23:53:56.518164Z",
     "iopub.status.busy": "2022-07-13T23:53:56.517192Z",
     "iopub.status.idle": "2022-07-13T23:53:56.523960Z",
     "shell.execute_reply": "2022-07-13T23:53:56.523843Z",
     "shell.execute_reply.started": "2022-07-13T23:53:56.518164Z"
    },
    "tags": []
   },
   "outputs": [],
   "source": [
    "components = model.components\n",
    "lookup_f = get_f(components, ordered_edges)\n",
    "wfmdao = mdao_workflow_with_args(wf, lookup_f, namingfunc)"
   ]
  },
  {
   "cell_type": "code",
   "execution_count": 96,
   "id": "383f22ef-93af-43be-b5a1-9f71208ef575",
   "metadata": {
    "execution": {
     "iopub.execute_input": "2022-07-13T23:53:56.931297Z",
     "iopub.status.busy": "2022-07-13T23:53:56.931297Z",
     "iopub.status.idle": "2022-07-13T23:53:56.945409Z",
     "shell.execute_reply": "2022-07-13T23:53:56.945409Z",
     "shell.execute_reply.started": "2022-07-13T23:53:56.931297Z"
    },
    "tags": []
   },
   "outputs": [],
   "source": [
    "prob, mdao_in, groups = build_archi(ordered_edges, ordered_tree, wfmdao, namingfunc, model.idmapping)"
   ]
  },
  {
   "cell_type": "code",
   "execution_count": 97,
   "id": "390d4b09-e558-43d7-8974-3b6cb3e3a3ac",
   "metadata": {
    "execution": {
     "iopub.execute_input": "2022-07-13T23:53:57.728975Z",
     "iopub.status.busy": "2022-07-13T23:53:57.728975Z",
     "iopub.status.idle": "2022-07-13T23:53:57.743056Z",
     "shell.execute_reply": "2022-07-13T23:53:57.743056Z",
     "shell.execute_reply.started": "2022-07-13T23:53:57.728975Z"
    },
    "tags": []
   },
   "outputs": [],
   "source": [
    "prob.set_solver_print(level=0)\n",
    "prob.set_solver_print(level=1, depth=1)\n",
    "prob.setup();"
   ]
  },
  {
   "cell_type": "code",
   "execution_count": 98,
   "id": "40f3aae9-9c41-4d14-ad96-d9a18627b9d8",
   "metadata": {
    "execution": {
     "iopub.execute_input": "2022-07-13T23:53:58.243923Z",
     "iopub.status.busy": "2022-07-13T23:53:58.243923Z",
     "iopub.status.idle": "2022-07-13T23:53:58.262340Z",
     "shell.execute_reply": "2022-07-13T23:53:58.262225Z",
     "shell.execute_reply.started": "2022-07-13T23:53:58.243923Z"
    },
    "tags": []
   },
   "outputs": [],
   "source": [
    "prob.set_val('m_t', 200)\n",
    "prob.set_val('V_0', 4500)\n",
    "#prob.set_val('m_r0', 1000)"
   ]
  },
  {
   "cell_type": "code",
   "execution_count": 100,
   "id": "5dc70ed4-28bc-43e9-986b-c720c9fb8310",
   "metadata": {
    "execution": {
     "iopub.execute_input": "2022-07-13T23:54:06.055790Z",
     "iopub.status.busy": "2022-07-13T23:54:06.055790Z",
     "iopub.status.idle": "2022-07-13T23:54:09.898530Z",
     "shell.execute_reply": "2022-07-13T23:54:09.898530Z",
     "shell.execute_reply.started": "2022-07-13T23:54:06.055790Z"
    },
    "tags": []
   },
   "outputs": [
    {
     "name": "stdout",
     "output_type": "stream",
     "text": [
      "\n",
      "====\n",
      "root\n",
      "====\n",
      "NL: Newton Converged in 1 iterations\n",
      "\n",
      "====\n",
      "root\n",
      "====\n",
      "NL: Newton Converged in 1 iterations\n"
     ]
    },
    {
     "name": "stderr",
     "output_type": "stream",
     "text": [
      "C:\\Users\\johan\\miniconda3\\envs\\minimdo\\lib\\site-packages\\scipy\\optimize\\optimize.py:282: RuntimeWarning: Values in x were outside bounds during a minimize step, clipping to bounds\n",
      "  warnings.warn(\"Values in x were outside bounds during a \"\n"
     ]
    },
    {
     "name": "stdout",
     "output_type": "stream",
     "text": [
      "\n",
      "====\n",
      "root\n",
      "====\n",
      "NL: Newton Converged in 10 iterations\n",
      "Optimization terminated successfully    (Exit mode 0)\n",
      "            Current function value: [9317.33211329]\n",
      "            Iterations: 2\n",
      "            Function evaluations: 2\n",
      "            Gradient evaluations: 2\n",
      "Optimization Complete\n",
      "-----------------------------------\n"
     ]
    },
    {
     "data": {
      "text/plain": [
       "False"
      ]
     },
     "execution_count": 100,
     "metadata": {},
     "output_type": "execute_result"
    }
   ],
   "source": [
    "prob.run_driver()"
   ]
  },
  {
   "cell_type": "code",
   "execution_count": 101,
   "id": "28014ab8-311c-458a-bc3c-a57011808ee9",
   "metadata": {
    "execution": {
     "iopub.execute_input": "2022-07-13T23:54:13.907068Z",
     "iopub.status.busy": "2022-07-13T23:54:13.907068Z",
     "iopub.status.idle": "2022-07-13T23:54:13.926832Z",
     "shell.execute_reply": "2022-07-13T23:54:13.926832Z",
     "shell.execute_reply.started": "2022-07-13T23:54:13.907068Z"
    },
    "tags": []
   },
   "outputs": [
    {
     "data": {
      "text/html": [
       "<style type=\"text/css\">\n",
       "</style>\n",
       "<table id=\"T_8c1c9\">\n",
       "  <thead>\n",
       "  </thead>\n",
       "  <tbody>\n",
       "    <tr>\n",
       "      <td id=\"T_8c1c9_row0_col0\" class=\"data row0 col0\" >$$v$$</td>\n",
       "      <td id=\"T_8c1c9_row0_col1\" class=\"data row0 col1\" >0.1</td>\n",
       "      <td id=\"T_8c1c9_row0_col2\" class=\"data row0 col2\" >m/s</td>\n",
       "    </tr>\n",
       "  </tbody>\n",
       "</table>\n"
      ],
      "text/plain": [
       "<pandas.io.formats.style.Styler at 0x279402000a0>"
      ]
     },
     "execution_count": 101,
     "metadata": {},
     "output_type": "execute_result"
    }
   ],
   "source": [
    "print_inputs(model, prob, namingfunc, ['v'])"
   ]
  },
  {
   "cell_type": "markdown",
   "id": "a575f704-c92e-4d2f-9087-b5d1c435f1e0",
   "metadata": {},
   "source": [
    "## Results"
   ]
  },
  {
   "cell_type": "code",
   "execution_count": 102,
   "id": "90dd6488-5091-4fe8-86a0-8d1ef52360c3",
   "metadata": {
    "execution": {
     "iopub.execute_input": "2022-07-13T23:54:21.591313Z",
     "iopub.status.busy": "2022-07-13T23:54:21.591313Z",
     "iopub.status.idle": "2022-07-13T23:54:21.607759Z",
     "shell.execute_reply": "2022-07-13T23:54:21.607759Z",
     "shell.execute_reply.started": "2022-07-13T23:54:21.591313Z"
    },
    "tags": []
   },
   "outputs": [
    {
     "data": {
      "text/html": [
       "<style type=\"text/css\">\n",
       "</style>\n",
       "<table id=\"T_8e9d3\">\n",
       "  <thead>\n",
       "  </thead>\n",
       "  <tbody>\n",
       "    <tr>\n",
       "      <td id=\"T_8e9d3_row0_col0\" class=\"data row0 col0\" >$$p_z$$</td>\n",
       "      <td id=\"T_8e9d3_row0_col1\" class=\"data row0 col1\" >1197</td>\n",
       "      <td id=\"T_8e9d3_row0_col2\" class=\"data row0 col2\" >Pa</td>\n",
       "    </tr>\n",
       "    <tr>\n",
       "      <td id=\"T_8e9d3_row1_col0\" class=\"data row1 col0\" >$$T_z$$</td>\n",
       "      <td id=\"T_8e9d3_row1_col1\" class=\"data row1 col1\" >226.5</td>\n",
       "      <td id=\"T_8e9d3_row1_col2\" class=\"data row1 col2\" >K</td>\n",
       "    </tr>\n",
       "    <tr>\n",
       "      <td id=\"T_8e9d3_row2_col0\" class=\"data row2 col0\" >$$g_z$$</td>\n",
       "      <td id=\"T_8e9d3_row2_col1\" class=\"data row2 col1\" >9.7</td>\n",
       "      <td id=\"T_8e9d3_row2_col2\" class=\"data row2 col2\" >m/s²</td>\n",
       "    </tr>\n",
       "    <tr>\n",
       "      <td id=\"T_8e9d3_row3_col0\" class=\"data row3 col0\" >$$\\rho_z$$</td>\n",
       "      <td id=\"T_8e9d3_row3_col1\" class=\"data row3 col1\" >0</td>\n",
       "      <td id=\"T_8e9d3_row3_col2\" class=\"data row3 col2\" >kg/m³</td>\n",
       "    </tr>\n",
       "    <tr>\n",
       "      <td id=\"T_8e9d3_row4_col0\" class=\"data row4 col0\" >$$\\rho_{LGz}$$</td>\n",
       "      <td id=\"T_8e9d3_row4_col1\" class=\"data row4 col1\" >0</td>\n",
       "      <td id=\"T_8e9d3_row4_col2\" class=\"data row4 col2\" >kg/m³</td>\n",
       "    </tr>\n",
       "    <tr>\n",
       "      <td id=\"T_8e9d3_row5_col0\" class=\"data row5 col0\" >$$W_z$$</td>\n",
       "      <td id=\"T_8e9d3_row5_col1\" class=\"data row5 col1\" >9.1×10⁴</td>\n",
       "      <td id=\"T_8e9d3_row5_col2\" class=\"data row5 col2\" >N</td>\n",
       "    </tr>\n",
       "    <tr>\n",
       "      <td id=\"T_8e9d3_row6_col0\" class=\"data row6 col0\" >$$L_z$$</td>\n",
       "      <td id=\"T_8e9d3_row6_col1\" class=\"data row6 col1\" >9.1×10⁴</td>\n",
       "      <td id=\"T_8e9d3_row6_col2\" class=\"data row6 col2\" >N</td>\n",
       "    </tr>\n",
       "    <tr>\n",
       "      <td id=\"T_8e9d3_row7_col0\" class=\"data row7 col0\" >$$V_z$$</td>\n",
       "      <td id=\"T_8e9d3_row7_col1\" class=\"data row7 col1\" >5.1×10⁵</td>\n",
       "      <td id=\"T_8e9d3_row7_col2\" class=\"data row7 col2\" >m³</td>\n",
       "    </tr>\n",
       "    <tr>\n",
       "      <td id=\"T_8e9d3_row8_col0\" class=\"data row8 col0\" >$$m_{rz}$$</td>\n",
       "      <td id=\"T_8e9d3_row8_col1\" class=\"data row8 col1\" >1286.3</td>\n",
       "      <td id=\"T_8e9d3_row8_col2\" class=\"data row8 col2\" >kg</td>\n",
       "    </tr>\n",
       "    <tr>\n",
       "      <td id=\"T_8e9d3_row9_col0\" class=\"data row9 col0\" >$$r_z$$</td>\n",
       "      <td id=\"T_8e9d3_row9_col1\" class=\"data row9 col1\" >49.4</td>\n",
       "      <td id=\"T_8e9d3_row9_col2\" class=\"data row9 col2\" >m</td>\n",
       "    </tr>\n",
       "    <tr>\n",
       "      <td id=\"T_8e9d3_row10_col0\" class=\"data row10 col0\" >$$h_z$$</td>\n",
       "      <td id=\"T_8e9d3_row10_col1\" class=\"data row10 col1\" >148.3</td>\n",
       "      <td id=\"T_8e9d3_row10_col2\" class=\"data row10 col2\" >m</td>\n",
       "    </tr>\n",
       "    <tr>\n",
       "      <td id=\"T_8e9d3_row11_col0\" class=\"data row11 col0\" >$$S$$</td>\n",
       "      <td id=\"T_8e9d3_row11_col1\" class=\"data row11 col1\" >4.1×10⁴</td>\n",
       "      <td id=\"T_8e9d3_row11_col2\" class=\"data row11 col2\" >m²</td>\n",
       "    </tr>\n",
       "    <tr>\n",
       "      <td id=\"T_8e9d3_row12_col0\" class=\"data row12 col0\" >$$m_b$$</td>\n",
       "      <td id=\"T_8e9d3_row12_col1\" class=\"data row12 col1\" >2913.8</td>\n",
       "      <td id=\"T_8e9d3_row12_col2\" class=\"data row12 col2\" >kg</td>\n",
       "    </tr>\n",
       "    <tr>\n",
       "      <td id=\"T_8e9d3_row13_col0\" class=\"data row13 col0\" >$$m_l$$</td>\n",
       "      <td id=\"T_8e9d3_row13_col1\" class=\"data row13 col1\" >1358.5</td>\n",
       "      <td id=\"T_8e9d3_row13_col2\" class=\"data row13 col2\" >kg</td>\n",
       "    </tr>\n",
       "    <tr>\n",
       "      <td id=\"T_8e9d3_row14_col0\" class=\"data row14 col0\" >$$m_t$$</td>\n",
       "      <td id=\"T_8e9d3_row14_col1\" class=\"data row14 col1\" >9317.3</td>\n",
       "      <td id=\"T_8e9d3_row14_col2\" class=\"data row14 col2\" >kg</td>\n",
       "    </tr>\n",
       "    <tr>\n",
       "      <td id=\"T_8e9d3_row15_col0\" class=\"data row15 col0\" >$$W_0$$</td>\n",
       "      <td id=\"T_8e9d3_row15_col1\" class=\"data row15 col1\" >9.1×10⁴</td>\n",
       "      <td id=\"T_8e9d3_row15_col2\" class=\"data row15 col2\" >N</td>\n",
       "    </tr>\n",
       "    <tr>\n",
       "      <td id=\"T_8e9d3_row16_col0\" class=\"data row16 col0\" >$$L_0$$</td>\n",
       "      <td id=\"T_8e9d3_row16_col1\" class=\"data row16 col1\" >9.1×10⁴</td>\n",
       "      <td id=\"T_8e9d3_row16_col2\" class=\"data row16 col2\" >N</td>\n",
       "    </tr>\n",
       "    <tr>\n",
       "      <td id=\"T_8e9d3_row17_col0\" class=\"data row17 col0\" >$$D$$</td>\n",
       "      <td id=\"T_8e9d3_row17_col1\" class=\"data row17 col1\" >4.2</td>\n",
       "      <td id=\"T_8e9d3_row17_col2\" class=\"data row17 col2\" >N</td>\n",
       "    </tr>\n",
       "    <tr>\n",
       "      <td id=\"T_8e9d3_row18_col0\" class=\"data row18 col0\" >$$A_0$$</td>\n",
       "      <td id=\"T_8e9d3_row18_col1\" class=\"data row18 col1\" >1469</td>\n",
       "      <td id=\"T_8e9d3_row18_col2\" class=\"data row18 col2\" >m²</td>\n",
       "    </tr>\n",
       "    <tr>\n",
       "      <td id=\"T_8e9d3_row19_col0\" class=\"data row19 col0\" >$$r_0$$</td>\n",
       "      <td id=\"T_8e9d3_row19_col1\" class=\"data row19 col1\" >12.2</td>\n",
       "      <td id=\"T_8e9d3_row19_col2\" class=\"data row19 col2\" >m</td>\n",
       "    </tr>\n",
       "    <tr>\n",
       "      <td id=\"T_8e9d3_row20_col0\" class=\"data row20 col0\" >$$V_0$$</td>\n",
       "      <td id=\"T_8e9d3_row20_col1\" class=\"data row20 col1\" >7606.5</td>\n",
       "      <td id=\"T_8e9d3_row20_col2\" class=\"data row20 col2\" >m³</td>\n",
       "    </tr>\n",
       "    <tr>\n",
       "      <td id=\"T_8e9d3_row21_col0\" class=\"data row21 col0\" >$$\\rho_{LG0}$$</td>\n",
       "      <td id=\"T_8e9d3_row21_col1\" class=\"data row21 col1\" >0.2</td>\n",
       "      <td id=\"T_8e9d3_row21_col2\" class=\"data row21 col2\" >kg/m³</td>\n",
       "    </tr>\n",
       "    <tr>\n",
       "      <td id=\"T_8e9d3_row22_col0\" class=\"data row22 col0\" >$$m_{r0}$$</td>\n",
       "      <td id=\"T_8e9d3_row22_col1\" class=\"data row22 col1\" >1358.5</td>\n",
       "      <td id=\"T_8e9d3_row22_col2\" class=\"data row22 col2\" >kg</td>\n",
       "    </tr>\n",
       "  </tbody>\n",
       "</table>\n"
      ],
      "text/plain": [
       "<pandas.io.formats.style.Styler at 0x27940200190>"
      ]
     },
     "execution_count": 102,
     "metadata": {},
     "output_type": "execute_result"
    }
   ],
   "source": [
    "print_outputs(model, prob, namingfunc, rounding=1)"
   ]
  },
  {
   "cell_type": "code",
   "execution_count": null,
   "id": "5ff63dd0-905d-4e25-b9ab-5c6568af6ba3",
   "metadata": {},
   "outputs": [],
   "source": []
  }
 ],
 "metadata": {
  "kernelspec": {
   "display_name": "Python [conda env:minimdo]",
   "language": "python",
   "name": "conda-env-minimdo-py"
  },
  "language_info": {
   "codemirror_mode": {
    "name": "ipython",
    "version": 3
   },
   "file_extension": ".py",
   "mimetype": "text/x-python",
   "name": "python",
   "nbconvert_exporter": "python",
   "pygments_lexer": "ipython3",
   "version": "3.9.12"
  },
  "toc-autonumbering": false
 },
 "nbformat": 4,
 "nbformat_minor": 5
}
