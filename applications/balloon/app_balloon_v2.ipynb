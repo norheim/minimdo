{
 "cells": [
  {
   "cell_type": "code",
   "execution_count": 1,
   "id": "d89aee9b",
   "metadata": {
    "execution": {
     "iopub.execute_input": "2022-02-01T16:35:02.782458Z",
     "iopub.status.busy": "2022-02-01T16:35:02.774460Z",
     "iopub.status.idle": "2022-02-01T16:35:13.238460Z",
     "shell.execute_reply": "2022-02-01T16:35:13.237460Z",
     "shell.execute_reply.started": "2022-02-01T16:35:02.780457Z"
    },
    "tags": []
   },
   "outputs": [],
   "source": [
    "from compute import Var, eqvar, ureg, get_unit, buildidpvars, coupled_run, Evaluable, args_in_order, fill_args, unit_conversion_factors\n",
    "from inputresolver import reassigneq, eqvars, eqsonly, default_out, mdf_order, default_in, idx_eqlist\n",
    "from inputresolver import getallvars, invert_edges, resolve, reassign, flatten_order\n",
    "from representations import bipartite_repr, drawbipartite, digraph_repr, draw, draw_dsm, tree_dsm\n",
    "from compute_utils import get_outputs, check_eqs, print_out\n",
    "from pprint import pprint\n",
    "import networkx as nx\n",
    "import sympy as sp\n",
    "from sympy.utilities.lambdify import implemented_function\n",
    "import numpy as np\n",
    "from scipy import interpolate\n",
    "import openmdao.api as om\n",
    "from collections import OrderedDict\n",
    "import matplotlib.pyplot as plt\n",
    "import matplotlib.patches as patches"
   ]
  },
  {
   "cell_type": "code",
   "execution_count": 2,
   "id": "fd7bd74e",
   "metadata": {
    "execution": {
     "iopub.execute_input": "2021-10-15T14:29:54.459131Z",
     "iopub.status.busy": "2021-10-15T14:29:54.458130Z",
     "iopub.status.idle": "2021-10-15T14:29:54.487132Z",
     "shell.execute_reply": "2021-10-15T14:29:54.486130Z",
     "shell.execute_reply.started": "2021-10-15T14:29:54.459131Z"
    }
   },
   "outputs": [],
   "source": [
    "z_table = np.array([0, 1, 2, 3, 4, 5, 6, 7, 8, 9, 10, 15, 20, 25, 30, 40])*1e3\n",
    "T_table_celsius = np.array([15, 8.5,2,-4.49,-10.98,-17.47,-23.96,-30.45,-36.94,-43.42,-49.9,-56.5,-56.5,-51.6,-46.64,-22.8])\n",
    "T_table = ureg.Quantity(T_table_celsius, 'degC').to('K').magnitude\n",
    "G_table = np.array([9.807,9.804,9.801,9.797,9.794,9.791,9.788,9.785,9.782,9.779,9.776,9.761,9.745,9.73,9.715,9.684])\n",
    "P_table = np.array([10.13,8.988,7.95,7.012,6.166,5.405,4.722,4.111,3.565,3.08,2.65,1.211,0.5529,0.2549,0.1197,0.0287])*1e4\n",
    "ρ_table = np.array([1.225,1.112,1.007,0.9093,0.8194,0.7364,0.6601,0.59,0.5258,0.4671,0.4135,0.1948,0.08891,0.04008,0.01841,0.003996])\n",
    "Tinterp = interpolate.interp1d(z_table, T_table)\n",
    "Ginterp = interpolate.interp1d(z_table, G_table)\n",
    "Pinterp = interpolate.interp1d(z_table, P_table)\n",
    "ρinterp = interpolate.interp1d(z_table, ρ_table)"
   ]
  },
  {
   "cell_type": "code",
   "execution_count": 3,
   "id": "070ae6a2",
   "metadata": {
    "execution": {
     "iopub.execute_input": "2021-10-15T14:29:54.495133Z",
     "iopub.status.busy": "2021-10-15T14:29:54.495133Z",
     "iopub.status.idle": "2021-10-15T14:29:54.864131Z",
     "shell.execute_reply": "2021-10-15T14:29:54.862134Z",
     "shell.execute_reply.started": "2021-10-15T14:29:54.495133Z"
    }
   },
   "outputs": [],
   "source": [
    "m_parafoil = Var('mv', 500., 'kg',never_output=True)\n",
    "m_vhc = Var('mp', 4624, unit='kg', never_output=True)\n",
    "m_lg = Var('m_l', unit='kg')\n",
    "m_b = Var('m_b', unit='kg')\n",
    "m_tot = Var('m_t', unit='kg')\n",
    "eq0 = (m_tot, m_vhc+m_parafoil+m_lg+m_b)\n",
    "rho0 = Var('rho0', ρinterp(0), 'kg/m^3', never_output=True)\n",
    "T0 = Var('T0', Tinterp(0), 'K', never_output=True)\n",
    "P0 = Var('P0', Pinterp(0), 'Pa', never_output=True)\n",
    "G0 = Var('G0', Ginterp(0), 'm/s^2', never_output=True)\n",
    "k = Var('k', 1.38064852e-23, 'J/K', never_output=True)\n",
    "mm_He = Var('mm_He', 6.64e-27, 'kg', never_output=True)\n",
    "mm_H2 = Var('mm_H2', 1.66e-27, 'kg', never_output=True)\n",
    "C_D = Var('C_D', 0.47, never_output=True)\n",
    "alpha = Var('a', 1, never_output=True)\n",
    "v_rise = Var('v', 6, 'm/s', never_output=True)\n",
    "r0 = Var('r0', unit='m')\n",
    "A0, eq5 = eqvar('A0', np.pi*r0**2)\n",
    "V0, eq6 = eqvar('V0', 4/3*np.pi*r0**3)\n",
    "rho_LG0, eq7 = eqvar('rho_LG0', P0*(alpha*mm_He+(1-alpha)*mm_H2)/(k*T0))\n",
    "eq8 = (m_lg, V0*rho_LG0)\n",
    "L0, eq9 = eqvar('L0', rho0*V0*G0)\n",
    "W0, eq10 = eqvar('W0', m_tot*G0)\n",
    "D0, eq11 = eqvar('D0', 1/2*C_D*rho0*v_rise**2*A0)\n",
    "R1, eq12 = eqvar('R1', L0-D0-W0)\n",
    "R1.varval = 0"
   ]
  },
  {
   "cell_type": "code",
   "execution_count": 4,
   "id": "39c85d41",
   "metadata": {
    "execution": {
     "iopub.execute_input": "2021-10-15T14:29:54.873138Z",
     "iopub.status.busy": "2021-10-15T14:29:54.871135Z",
     "iopub.status.idle": "2021-10-15T14:29:55.011135Z",
     "shell.execute_reply": "2021-10-15T14:29:55.007131Z",
     "shell.execute_reply.started": "2021-10-15T14:29:54.873138Z"
    }
   },
   "outputs": [],
   "source": [
    "z = 30e3\n",
    "rhoval = Var('rhoval', ρinterp(z), 'kg/m^3', never_output=True)\n",
    "pval = Var('pval', Pinterp(z), 'Pa', never_output=True)\n",
    "Tval = Var('Tval', Tinterp(z), 'K', never_output=True)\n",
    "gval = Var('gval', Ginterp(z), 'm/s^2', never_output=True)\n",
    "rz = Var('r_z', unit='m')\n",
    "hz, eq13 = eqvar('h_z', 2*(3/2)*rz)\n",
    "Vz, eq14 = eqvar('V_z', 4/3*np.pi*rz**3)\n",
    "rho_LGz, eq15 = eqvar('rho_LGz', pval*(alpha*mm_He+(1-alpha)*mm_H2)/(k*Tval))\n",
    "R2, eq16 = eqvar('R2', m_lg-Vz*rho_LGz) #needs to have same mass as balloon at STP\n",
    "R2.varval = 0"
   ]
  },
  {
   "cell_type": "code",
   "execution_count": 5,
   "id": "41e257ad",
   "metadata": {
    "execution": {
     "iopub.execute_input": "2021-10-15T14:29:55.017160Z",
     "iopub.status.busy": "2021-10-15T14:29:55.014131Z",
     "iopub.status.idle": "2021-10-15T14:29:55.124132Z",
     "shell.execute_reply": "2021-10-15T14:29:55.119137Z",
     "shell.execute_reply.started": "2021-10-15T14:29:55.017160Z"
    }
   },
   "outputs": [],
   "source": [
    "t_LLDPE = Var('tL', 25.4e-6*1, 'm', never_output=True)\n",
    "rho_LLDPE = Var('rhoL', 925, 'kg/m^3', never_output=True)\n",
    "p = Var('p', 1.6, never_output=True) #some parameter\n",
    "S, eq20 = eqvar('S', 4*np.pi*((rz**(2*p)+2*rz**p*(hz/2)**p)/3)**(1/p))\n",
    "eq21 = (m_b, 2*(3/2)*S*t_LLDPE*rho_LLDPE)"
   ]
  },
  {
   "cell_type": "code",
   "execution_count": 6,
   "id": "bf6e5c3d",
   "metadata": {
    "execution": {
     "iopub.execute_input": "2021-10-15T14:29:55.127132Z",
     "iopub.status.busy": "2021-10-15T14:29:55.127132Z",
     "iopub.status.idle": "2021-10-15T14:29:55.150133Z",
     "shell.execute_reply": "2021-10-15T14:29:55.148132Z",
     "shell.execute_reply.started": "2021-10-15T14:29:55.127132Z"
    }
   },
   "outputs": [],
   "source": [
    "eq_list = [eq0, eq5, eq6, eq7, eq8, eq9, eq10, eq11, eq12, eq13, eq14, eq15, eq16, eq20, eq21]"
   ]
  },
  {
   "cell_type": "code",
   "execution_count": 7,
   "id": "d126a47c",
   "metadata": {
    "execution": {
     "iopub.execute_input": "2021-10-15T14:29:55.153132Z",
     "iopub.status.busy": "2021-10-15T14:29:55.152139Z",
     "iopub.status.idle": "2021-10-15T14:29:55.165133Z",
     "shell.execute_reply": "2021-10-15T14:29:55.163129Z",
     "shell.execute_reply.started": "2021-10-15T14:29:55.153132Z"
    }
   },
   "outputs": [],
   "source": [
    "eqs = idx_eqlist(eq_list)\n",
    "eqv = eqvars(eqs)\n",
    "dins = default_in(eqs)\n",
    "dout = default_out(eqs)"
   ]
  },
  {
   "cell_type": "code",
   "execution_count": 8,
   "id": "84f461fe",
   "metadata": {
    "execution": {
     "iopub.execute_input": "2021-10-15T14:29:55.177139Z",
     "iopub.status.busy": "2021-10-15T14:29:55.176133Z",
     "iopub.status.idle": "2021-10-15T14:29:55.196129Z",
     "shell.execute_reply": "2021-10-15T14:29:55.195132Z",
     "shell.execute_reply.started": "2021-10-15T14:29:55.177139Z"
    }
   },
   "outputs": [
    {
     "data": {
      "text/plain": [
       "{r0, r_z}"
      ]
     },
     "execution_count": 8,
     "metadata": {},
     "output_type": "execute_result"
    }
   ],
   "source": [
    "{elt for elt in dins if not elt.never_output}"
   ]
  },
  {
   "cell_type": "code",
   "execution_count": 9,
   "id": "2b271806",
   "metadata": {
    "execution": {
     "iopub.execute_input": "2021-10-15T14:29:55.200131Z",
     "iopub.status.busy": "2021-10-15T14:29:55.199130Z",
     "iopub.status.idle": "2021-10-15T14:29:55.212133Z",
     "shell.execute_reply": "2021-10-15T14:29:55.210132Z",
     "shell.execute_reply.started": "2021-10-15T14:29:55.200131Z"
    }
   },
   "outputs": [],
   "source": [
    "force_input = [R1, R2]\n",
    "not_input = [r0, rz]"
   ]
  },
  {
   "cell_type": "code",
   "execution_count": 10,
   "id": "8c5364f8",
   "metadata": {
    "execution": {
     "iopub.execute_input": "2021-10-15T14:29:55.215131Z",
     "iopub.status.busy": "2021-10-15T14:29:55.214131Z",
     "iopub.status.idle": "2021-10-15T14:29:55.227133Z",
     "shell.execute_reply": "2021-10-15T14:29:55.226131Z",
     "shell.execute_reply.started": "2021-10-15T14:29:55.214131Z"
    }
   },
   "outputs": [],
   "source": [
    "new_ins = dins.union(force_input) - set(not_input)\n",
    "# new_eqv = {key: {elt for elt in outsetposs if not elt.never_output}\n",
    "#         for key, outsetposs in eqv.items()}\n",
    "new_eqv = {key: {elt for elt in outsetposs if not elt in new_ins}\n",
    "        for key, outsetposs in eqv.items()}"
   ]
  },
  {
   "cell_type": "code",
   "execution_count": 11,
   "id": "b8af5902",
   "metadata": {
    "execution": {
     "iopub.execute_input": "2021-10-15T14:29:55.229133Z",
     "iopub.status.busy": "2021-10-15T14:29:55.229133Z",
     "iopub.status.idle": "2021-10-15T14:29:55.245131Z",
     "shell.execute_reply": "2021-10-15T14:29:55.242130Z",
     "shell.execute_reply.started": "2021-10-15T14:29:55.229133Z"
    }
   },
   "outputs": [],
   "source": [
    "new_eqv[13] = {S}"
   ]
  },
  {
   "cell_type": "code",
   "execution_count": 12,
   "id": "a69ab1eb",
   "metadata": {
    "execution": {
     "iopub.execute_input": "2021-10-15T14:29:55.252129Z",
     "iopub.status.busy": "2021-10-15T14:29:55.252129Z",
     "iopub.status.idle": "2021-10-15T14:29:55.328131Z",
     "shell.execute_reply": "2021-10-15T14:29:55.327131Z",
     "shell.execute_reply.started": "2021-10-15T14:29:55.252129Z"
    }
   },
   "outputs": [],
   "source": [
    "#new_eqv[13] = {S}"
   ]
  },
  {
   "cell_type": "code",
   "execution_count": 13,
   "id": "26a6d032",
   "metadata": {
    "execution": {
     "iopub.execute_input": "2021-10-15T14:29:55.335130Z",
     "iopub.status.busy": "2021-10-15T14:29:55.331130Z",
     "iopub.status.idle": "2021-10-15T14:29:55.369130Z",
     "shell.execute_reply": "2021-10-15T14:29:55.368134Z",
     "shell.execute_reply.started": "2021-10-15T14:29:55.335130Z"
    }
   },
   "outputs": [
    {
     "data": {
      "text/plain": [
       "{0: {m_b, m_l, m_t},\n",
       " 1: {A0, r0},\n",
       " 2: {V0, r0},\n",
       " 3: {rho_LG0},\n",
       " 4: {V0, m_l, rho_LG0},\n",
       " 5: {L0, V0},\n",
       " 6: {W0, m_t},\n",
       " 7: {A0, D0},\n",
       " 8: {D0, L0, W0},\n",
       " 9: {h_z, r_z},\n",
       " 10: {V_z, r_z},\n",
       " 11: {rho_LGz},\n",
       " 12: {V_z, m_l, rho_LGz},\n",
       " 13: {S},\n",
       " 14: {S, m_b}}"
      ]
     },
     "execution_count": 13,
     "metadata": {},
     "output_type": "execute_result"
    }
   ],
   "source": [
    "new_eqv"
   ]
  },
  {
   "cell_type": "code",
   "execution_count": 51,
   "id": "90daa08c",
   "metadata": {
    "execution": {
     "iopub.execute_input": "2021-10-15T14:37:04.298330Z",
     "iopub.status.busy": "2021-10-15T14:37:04.298330Z",
     "iopub.status.idle": "2021-10-15T14:37:04.314330Z",
     "shell.execute_reply": "2021-10-15T14:37:04.313327Z",
     "shell.execute_reply.started": "2021-10-15T14:37:04.298330Z"
    }
   },
   "outputs": [],
   "source": [
    "BG, edges_original = bipartite_repr(new_eqv)\n",
    "M = nx.bipartite.maximum_matching(BG)\n",
    "newdout = {key:M[key] for key in dout.keys()}"
   ]
  },
  {
   "cell_type": "code",
   "execution_count": 15,
   "id": "b76e0d31",
   "metadata": {
    "execution": {
     "iopub.execute_input": "2021-10-15T14:29:56.591185Z",
     "iopub.status.busy": "2021-10-15T14:29:56.590186Z",
     "iopub.status.idle": "2021-10-15T14:29:56.602189Z",
     "shell.execute_reply": "2021-10-15T14:29:56.601187Z",
     "shell.execute_reply.started": "2021-10-15T14:29:56.591185Z"
    }
   },
   "outputs": [],
   "source": [
    "newdout={0: m_tot,\n",
    " 1: r0,\n",
    " 2: V0,\n",
    " 3: rho_LG0,\n",
    " 4: m_lg,\n",
    " 5: L0,\n",
    " 6: W0,\n",
    " 7: A0,\n",
    " 8: D0,\n",
    " 9: hz,\n",
    " 10: rz,\n",
    " 11: rho_LGz,\n",
    " 12: Vz,\n",
    " 13: S,\n",
    " 14: m_b}"
   ]
  },
  {
   "cell_type": "code",
   "execution_count": 52,
   "id": "c8a84730",
   "metadata": {
    "execution": {
     "iopub.execute_input": "2021-10-15T14:37:06.812688Z",
     "iopub.status.busy": "2021-10-15T14:37:06.812688Z",
     "iopub.status.idle": "2021-10-15T14:37:06.823686Z",
     "shell.execute_reply": "2021-10-15T14:37:06.822686Z",
     "shell.execute_reply.started": "2021-10-15T14:37:06.812688Z"
    }
   },
   "outputs": [],
   "source": [
    "eqv_noparams = {elt:{key for key in keys if not key.never_output} for elt,keys in eqv.items()}"
   ]
  },
  {
   "cell_type": "code",
   "execution_count": 53,
   "id": "19d1293c",
   "metadata": {
    "execution": {
     "iopub.execute_input": "2021-10-15T14:37:07.326690Z",
     "iopub.status.busy": "2021-10-15T14:37:07.326690Z",
     "iopub.status.idle": "2021-10-15T14:37:07.340691Z",
     "shell.execute_reply": "2021-10-15T14:37:07.339688Z",
     "shell.execute_reply.started": "2021-10-15T14:37:07.326690Z"
    }
   },
   "outputs": [],
   "source": [
    "eqv_noparams = {elt:{key for key in keys if not key.never_output} for elt,keys in eqv.items()}\n",
    "DG, edges = digraph_repr(eqv_noparams, newdout, intermediary=False)"
   ]
  },
  {
   "cell_type": "code",
   "execution_count": 54,
   "id": "6a3490ae",
   "metadata": {
    "execution": {
     "iopub.execute_input": "2021-10-15T14:37:07.985702Z",
     "iopub.status.busy": "2021-10-15T14:37:07.985702Z",
     "iopub.status.idle": "2021-10-15T14:37:08.020688Z",
     "shell.execute_reply": "2021-10-15T14:37:08.019685Z",
     "shell.execute_reply.started": "2021-10-15T14:37:07.985702Z"
    }
   },
   "outputs": [
    {
     "data": {
      "text/plain": [
       "[[m_b, m_t, W0, D0, A0, r0, V0, m_l, V_z, r_z, S],\n",
       " [m_b, m_t, W0, D0, A0, r0, V0, m_l, V_z, r_z, h_z, S],\n",
       " [W0, D0, A0, r0, V0, m_l, m_t],\n",
       " [V0, L0, D0, A0, r0]]"
      ]
     },
     "execution_count": 54,
     "metadata": {},
     "output_type": "execute_result"
    }
   ],
   "source": [
    "list(nx.simple_cycles(DG))"
   ]
  },
  {
   "cell_type": "code",
   "execution_count": 55,
   "id": "a2decda9",
   "metadata": {
    "execution": {
     "iopub.execute_input": "2021-10-15T14:37:09.152278Z",
     "iopub.status.busy": "2021-10-15T14:37:09.152278Z",
     "iopub.status.idle": "2021-10-15T14:37:13.092301Z",
     "shell.execute_reply": "2021-10-15T14:37:13.091298Z",
     "shell.execute_reply.started": "2021-10-15T14:37:09.152278Z"
    }
   },
   "outputs": [
    {
     "data": {
      "image/png": "[encoded data removed]",
      "text/plain": [
       "<Figure size 720x720 with 1 Axes>"
      ]
     },
     "metadata": {},
     "output_type": "display_data"
    }
   ],
   "source": [
    "fig, ax = draw(DG, figsize=(10,10), node_shape='o', prog='neato', node_size=1800)\n",
    "plt.sca(ax)\n",
    "plt.savefig('balloon', dpi=300, bbox_inches='tight')"
   ]
  },
  {
   "cell_type": "code",
   "execution_count": 119,
   "id": "d3cd6d83",
   "metadata": {
    "execution": {
     "iopub.execute_input": "2021-10-15T14:54:03.798621Z",
     "iopub.status.busy": "2021-10-15T14:54:03.798621Z",
     "iopub.status.idle": "2021-10-15T14:54:03.831558Z",
     "shell.execute_reply": "2021-10-15T14:54:03.830578Z",
     "shell.execute_reply.started": "2021-10-15T14:54:03.798621Z"
    }
   },
   "outputs": [],
   "source": [
    "new_order = mdf_order(eqv, newdout)\n",
    "order_flattened = []\n",
    "for elt in new_order:\n",
    "    if type(elt)==tuple:\n",
    "        order_flattened.extend(elt)\n",
    "    else:\n",
    "        order_flattened.append(elt)"
   ]
  },
  {
   "cell_type": "code",
   "execution_count": 120,
   "id": "081aa0ae",
   "metadata": {
    "execution": {
     "iopub.execute_input": "2021-10-15T14:54:04.375561Z",
     "iopub.status.busy": "2021-10-15T14:54:04.374560Z",
     "iopub.status.idle": "2021-10-15T14:54:04.394558Z",
     "shell.execute_reply": "2021-10-15T14:54:04.393556Z",
     "shell.execute_reply.started": "2021-10-15T14:54:04.375561Z"
    }
   },
   "outputs": [
    {
     "data": {
      "text/plain": [
       "[11, 3, (14, 6, 2, 9, 13, 12, 8, 1, 10, 0, 4, 5, 7)]"
      ]
     },
     "execution_count": 120,
     "metadata": {},
     "output_type": "execute_result"
    }
   ],
   "source": [
    "new_order"
   ]
  },
  {
   "cell_type": "code",
   "execution_count": 58,
   "id": "ba6800f8",
   "metadata": {
    "execution": {
     "iopub.execute_input": "2021-10-15T14:37:20.477709Z",
     "iopub.status.busy": "2021-10-15T14:37:20.476711Z",
     "iopub.status.idle": "2021-10-15T14:37:20.492711Z",
     "shell.execute_reply": "2021-10-15T14:37:20.491722Z",
     "shell.execute_reply.started": "2021-10-15T14:37:20.477709Z"
    }
   },
   "outputs": [],
   "source": [
    "varns = [newdout[elt] for elt in new_order[2]];"
   ]
  },
  {
   "cell_type": "code",
   "execution_count": 59,
   "id": "8a293ae8",
   "metadata": {
    "execution": {
     "iopub.execute_input": "2021-10-15T14:37:20.841223Z",
     "iopub.status.busy": "2021-10-15T14:37:20.840219Z",
     "iopub.status.idle": "2021-10-15T14:37:20.857221Z",
     "shell.execute_reply": "2021-10-15T14:37:20.856217Z",
     "shell.execute_reply.started": "2021-10-15T14:37:20.841223Z"
    }
   },
   "outputs": [],
   "source": [
    "A = [[1 if elt in eqv[key] else 0 for elt in varns] for key in new_order[2]]"
   ]
  },
  {
   "cell_type": "code",
   "execution_count": 60,
   "id": "5f674166",
   "metadata": {
    "execution": {
     "iopub.execute_input": "2021-10-15T14:37:21.649760Z",
     "iopub.status.busy": "2021-10-15T14:37:21.649760Z",
     "iopub.status.idle": "2021-10-15T14:37:21.661754Z",
     "shell.execute_reply": "2021-10-15T14:37:21.660754Z",
     "shell.execute_reply.started": "2021-10-15T14:37:21.649760Z"
    }
   },
   "outputs": [
    {
     "name": "stdout",
     "output_type": "stream",
     "text": [
      "[1 0 0 0 1 0 0 0 0 0 0 0 0;\n",
      "0 1 0 0 0 0 0 0 0 1 0 0 0;\n",
      "0 0 1 0 0 0 0 1 0 0 0 0 0;\n",
      "0 0 0 1 0 0 0 0 1 0 0 0 0;\n",
      "0 0 0 1 1 0 0 0 1 0 0 0 0;\n",
      "0 0 0 0 0 1 0 0 0 0 1 0 0;\n",
      "0 1 0 0 0 0 1 0 0 0 0 1 0;\n",
      "0 0 0 0 0 0 0 1 0 0 0 0 1;\n",
      "0 0 0 0 0 1 0 0 1 0 0 0 0;\n",
      "1 0 0 0 0 0 0 0 0 1 1 0 0;\n",
      "0 0 1 0 0 0 0 0 0 0 1 0 0;\n",
      "0 0 1 0 0 0 0 0 0 0 0 1 0;\n",
      "0 0 0 0 0 0 1 0 0 0 0 0 1]\n"
     ]
    }
   ],
   "source": [
    "print(\"[{}]\".format(\";\\n\".join([\" \".join(map(str,elt)) for elt in A])))"
   ]
  },
  {
   "cell_type": "code",
   "execution_count": 61,
   "id": "f44e72c3",
   "metadata": {
    "execution": {
     "iopub.execute_input": "2021-10-15T14:38:20.554089Z",
     "iopub.status.busy": "2021-10-15T14:38:20.553045Z",
     "iopub.status.idle": "2021-10-15T14:38:20.573068Z",
     "shell.execute_reply": "2021-10-15T14:38:20.572068Z",
     "shell.execute_reply.started": "2021-10-15T14:38:20.554089Z"
    }
   },
   "outputs": [],
   "source": [
    "perm = [5, 4, 12, 10, 9, 13, 14, 0, 6, 8, 7, 1, 2]\n",
    "#np.array(A)[np.ix_(p,p)]"
   ]
  },
  {
   "cell_type": "code",
   "execution_count": 122,
   "id": "a8c5e324",
   "metadata": {
    "execution": {
     "iopub.execute_input": "2021-10-15T15:36:04.347052Z",
     "iopub.status.busy": "2021-10-15T15:36:04.338053Z",
     "iopub.status.idle": "2021-10-15T15:36:04.437059Z",
     "shell.execute_reply": "2021-10-15T15:36:04.433053Z",
     "shell.execute_reply.started": "2021-10-15T15:36:04.346050Z"
    }
   },
   "outputs": [],
   "source": [
    "order_flattened = new_order[0:2]+ perm\n",
    "new_order = new_order[0:2] + [([5, 4, 12, 10, 9, 13, 14, 0, 6, 8, 7, 1], 2)]"
   ]
  },
  {
   "cell_type": "code",
   "execution_count": 63,
   "id": "05bc8c60",
   "metadata": {
    "execution": {
     "iopub.execute_input": "2021-10-15T14:38:21.634192Z",
     "iopub.status.busy": "2021-10-15T14:38:21.634192Z",
     "iopub.status.idle": "2021-10-15T14:38:21.651189Z",
     "shell.execute_reply": "2021-10-15T14:38:21.650213Z",
     "shell.execute_reply.started": "2021-10-15T14:38:21.634192Z"
    }
   },
   "outputs": [
    {
     "data": {
      "text/plain": [
       "[11, 3, 5, 4, 12, 10, 9, 13, 14, 0, 6, 8, 7, 1, 2]"
      ]
     },
     "execution_count": 63,
     "metadata": {},
     "output_type": "execute_result"
    }
   ],
   "source": [
    "order_flattened"
   ]
  },
  {
   "cell_type": "code",
   "execution_count": 157,
   "id": "e916fe01",
   "metadata": {
    "execution": {
     "iopub.execute_input": "2021-10-15T15:47:47.772201Z",
     "iopub.status.busy": "2021-10-15T15:47:47.772201Z",
     "iopub.status.idle": "2021-10-15T15:47:50.200851Z",
     "shell.execute_reply": "2021-10-15T15:47:50.199851Z",
     "shell.execute_reply.started": "2021-10-15T15:47:47.772201Z"
    }
   },
   "outputs": [
    {
     "data": {
      "image/png": "[encoded data removed]",
      "text/plain": [
       "<Figure size 432x288 with 1 Axes>"
      ]
     },
     "metadata": {
      "needs_background": "light"
     },
     "output_type": "display_data"
    }
   ],
   "source": [
    "ax = draw_dsm(DG, order_flattened, newdout)\n",
    "rect1 = patches.Rectangle((2,2), 13, 13, linewidth=2, edgecolor='k', facecolor='none')\n",
    "ax.add_patch(rect1)\n",
    "rect2 = patches.Rectangle((2,2), 12, 12, linewidth=2, edgecolor='k', facecolor='none')\n",
    "ax.add_patch(rect2)\n",
    "plt.savefig('balloon_tear1.png', dpi=600, bbox_inches='tight')"
   ]
  },
  {
   "cell_type": "code",
   "execution_count": null,
   "id": "e58de1f3",
   "metadata": {},
   "outputs": [],
   "source": []
  },
  {
   "cell_type": "code",
   "execution_count": 65,
   "id": "e640eff3",
   "metadata": {
    "execution": {
     "iopub.execute_input": "2021-10-15T14:38:33.998507Z",
     "iopub.status.busy": "2021-10-15T14:38:33.997504Z",
     "iopub.status.idle": "2021-10-15T14:38:34.256023Z",
     "shell.execute_reply": "2021-10-15T14:38:34.255023Z",
     "shell.execute_reply.started": "2021-10-15T14:38:33.998507Z"
    }
   },
   "outputs": [],
   "source": [
    "new_eqs = reassign(eqs, newdout)"
   ]
  },
  {
   "cell_type": "code",
   "execution_count": 66,
   "id": "d6178601",
   "metadata": {
    "execution": {
     "iopub.execute_input": "2021-10-15T14:38:34.726588Z",
     "iopub.status.busy": "2021-10-15T14:38:34.726588Z",
     "iopub.status.idle": "2021-10-15T14:38:34.761601Z",
     "shell.execute_reply": "2021-10-15T14:38:34.760589Z",
     "shell.execute_reply.started": "2021-10-15T14:38:34.726588Z"
    }
   },
   "outputs": [
    {
     "data": {
      "text/plain": [
       "[(rho_LGz, pval*(a*mm_He + mm_H2*(1 - a))/(Tval*k)),\n",
       " (rho_LG0, P0*(a*mm_He + mm_H2*(1 - a))/(T0*k)),\n",
       " (L0, G0*V0*rho0),\n",
       " (m_l, V0*rho_LG0),\n",
       " (V_z, (-R2 + m_l)/rho_LGz),\n",
       " (r_z, 0.620350490899399*V_z**(1/3)),\n",
       " (h_z, 3.0*r_z),\n",
       " (S, 12.5663706143592*(r_z**(2*p)/3 + 2*r_z**p*(h_z/2)**p/3)**(1/p)),\n",
       " (m_b, 3.0*S*rhoL*tL),\n",
       " (m_t, m_b + m_l + mp + mv),\n",
       " (W0, G0*m_t),\n",
       " (D0, L0 - R1 - W0),\n",
       " (A0, 2.0*D0/(C_D*rho0*v**2)),\n",
       " (r0, 0.564189583547757*sqrt(A0)),\n",
       " (V0, 4.18879020478639*r0**3)]"
      ]
     },
     "execution_count": 66,
     "metadata": {},
     "output_type": "execute_result"
    }
   ],
   "source": [
    "new_insfull = default_in(new_eqs)\n",
    "[new_eqs[elt] for elt in order_flattened]"
   ]
  },
  {
   "cell_type": "code",
   "execution_count": 67,
   "id": "c0d8a911",
   "metadata": {
    "execution": {
     "iopub.execute_input": "2021-10-15T14:38:35.605109Z",
     "iopub.status.busy": "2021-10-15T14:38:35.605109Z",
     "iopub.status.idle": "2021-10-15T14:38:35.616108Z",
     "shell.execute_reply": "2021-10-15T14:38:35.615110Z",
     "shell.execute_reply.started": "2021-10-15T14:38:35.605109Z"
    }
   },
   "outputs": [
    {
     "data": {
      "text/plain": [
       "{C_D,\n",
       " G0,\n",
       " P0,\n",
       " R1,\n",
       " R2,\n",
       " T0,\n",
       " Tval,\n",
       " a,\n",
       " k,\n",
       " mm_H2,\n",
       " mm_He,\n",
       " mp,\n",
       " mv,\n",
       " p,\n",
       " pval,\n",
       " rho0,\n",
       " rhoL,\n",
       " tL,\n",
       " v}"
      ]
     },
     "execution_count": 67,
     "metadata": {},
     "output_type": "execute_result"
    }
   ],
   "source": [
    "new_insfull"
   ]
  },
  {
   "cell_type": "code",
   "execution_count": 134,
   "id": "aab34dc3",
   "metadata": {
    "execution": {
     "iopub.execute_input": "2021-10-15T15:38:21.023367Z",
     "iopub.status.busy": "2021-10-15T15:38:21.023367Z",
     "iopub.status.idle": "2021-10-15T15:38:21.143366Z",
     "shell.execute_reply": "2021-10-15T15:38:21.142362Z",
     "shell.execute_reply.started": "2021-10-15T15:38:21.023367Z"
    }
   },
   "outputs": [
    {
     "name": "stdout",
     "output_type": "stream",
     "text": [
      "eq11 rho_LGz pval*(a*mm_He + mm_H2*(1 - a))/(Tval*k) None\n",
      "eq3 rho_LG0 P0*(a*mm_He + mm_H2*(1 - a))/(T0*k) None\n",
      "eq5 L0 G0*V0*rho0 None\n",
      "eq4 m_l V0*rho_LG0 None\n",
      "eq12 V_z (-R2 + m_l)/rho_LGz None\n",
      "eq10 r_z 0.620350490899399*V_z**(1/3) None\n",
      "eq9 h_z 3.0*r_z None\n",
      "eq13 S 12.5663706143592*(r_z**(2*p)/3 + 2*r_z**p*(h_z/2)**p/3)**(1/p) None\n",
      "eq14 m_b 3.0*S*rhoL*tL None\n",
      "eq0 m_t m_b + m_l + mp + mv None\n",
      "eq6 W0 G0*m_t None\n",
      "eq8 D0 L0 - R1 - W0 None\n",
      "eq7 A0 2.0*D0/(C_D*rho0*v**2) None\n",
      "eq1 r0 0.564189583547757*sqrt(A0) None\n",
      "eq2 V0 4.18879020478639*r0**3 None\n"
     ]
    },
    {
     "data": {
      "text/plain": [
       "<openmdao.core.problem.Problem at 0x2f6556941f0>"
      ]
     },
     "execution_count": 134,
     "metadata": {},
     "output_type": "execute_result"
    }
   ],
   "source": [
    "prob = om.Problem()\n",
    "model = prob.model\n",
    "buildidpvars(new_insfull, model)\n",
    "counter = coupled_run(new_eqs, new_order, (), model, model, debug=True)\n",
    "prob.setup()"
   ]
  },
  {
   "cell_type": "code",
   "execution_count": 138,
   "id": "f1b01ff3",
   "metadata": {
    "execution": {
     "iopub.execute_input": "2021-10-15T15:39:11.488455Z",
     "iopub.status.busy": "2021-10-15T15:39:11.487457Z",
     "iopub.status.idle": "2021-10-15T15:39:11.512454Z",
     "shell.execute_reply": "2021-10-15T15:39:11.511455Z",
     "shell.execute_reply.started": "2021-10-15T15:39:11.487457Z"
    }
   },
   "outputs": [
    {
     "data": {
      "text/plain": [
       "[11, 3, ([5, 4, 12, 10, 9, 13, 14, 0, 6, 8, 7, 1], 2)]"
      ]
     },
     "execution_count": 138,
     "metadata": {},
     "output_type": "execute_result"
    }
   ],
   "source": [
    "new_order"
   ]
  },
  {
   "cell_type": "code",
   "execution_count": 194,
   "id": "6d02a820",
   "metadata": {
    "execution": {
     "iopub.execute_input": "2021-10-15T15:55:00.146661Z",
     "iopub.status.busy": "2021-10-15T15:55:00.145658Z",
     "iopub.status.idle": "2021-10-15T15:55:00.165654Z",
     "shell.execute_reply": "2021-10-15T15:55:00.164653Z",
     "shell.execute_reply.started": "2021-10-15T15:55:00.146661Z"
    }
   },
   "outputs": [],
   "source": [
    "prob.set_val('mp', 4545)\n",
    "#prob.set_val('m_b', 3078.8)\n",
    "# prob.set_val('m_l',1397.)\n",
    "#prob.set_val('D0', 5000)\n",
    "# prob.set_val('L0', 99300)\n",
    "# prob.set_val('r0', 13)\n",
    "# prob.set_val('m_t', 9500)\n",
    "# prob.set_val('r_z', 50)\n",
    "# prob.set_val('A0', 500)\n",
    "# prob.set_val('S', 43680)\n",
    "# prob.set_val('V_z', 500)\n",
    "prob.set_val('V0', 7516)\n",
    "# prob.set_val('h_z', 151.8)\n",
    "# prob.set_val('W0', 92942.749)\n",
    "#prob.run_model()"
   ]
  },
  {
   "cell_type": "code",
   "execution_count": 195,
   "id": "1a3f03cb",
   "metadata": {
    "execution": {
     "iopub.execute_input": "2021-10-15T15:55:00.341658Z",
     "iopub.status.busy": "2021-10-15T15:55:00.341658Z",
     "iopub.status.idle": "2021-10-15T15:55:00.418661Z",
     "shell.execute_reply": "2021-10-15T15:55:00.414658Z",
     "shell.execute_reply.started": "2021-10-15T15:55:00.341658Z"
    }
   },
   "outputs": [
    {
     "name": "stdout",
     "output_type": "stream",
     "text": [
      "rho_LGz [0.00254151]\n",
      "rho_LG0 [0.16907359]\n",
      "\n",
      "=============\n",
      "group1.group2\n",
      "=============\n",
      "L0 [90294.0297]\n",
      "m_l [1270.75708733]\n",
      "V_z [500000.9419929]\n",
      "r_z [49.23728201]\n",
      "h_z [147.71184604]\n",
      "S [41006.68648835]\n",
      "m_b [2890.35629713]\n",
      "m_t [9206.11338446]\n",
      "W0 [90284.35396138]\n",
      "D0 [9.67573862]\n",
      "A0 [0.93363619]\n",
      "r0 [0.54514735]\n",
      "V0 [0.67862572]\n",
      "L0 [8.15272097]\n",
      "m_l [0.11473769]\n",
      "V_z [500000.9419929]\n",
      "r_z [49.23728201]\n",
      "h_z [147.71184604]\n",
      "S [41006.68648835]\n",
      "m_b [2890.35629713]\n",
      "m_t [9206.11338446]\n",
      "W0 [90284.35396138]\n",
      "D0 [9.67573862]\n",
      "A0 [0.93363619]\n",
      "r0 [0.54514735]\n",
      "V0 [0.67862572]\n",
      "L0 [-425439.47495503]\n",
      "m_l [-5987.44158195]\n",
      "V_z [-2355860.50312781]\n",
      "r_z [nan]\n",
      "h_z [nan]\n",
      "S [nan]\n",
      "m_b [nan]\n",
      "m_t [nan]\n",
      "W0 [nan]\n",
      "D0 [nan]\n",
      "A0 [nan]\n",
      "r0 [nan]\n",
      "V0 [nan]\n",
      "L0 [nan]\n",
      "m_l [nan]\n",
      "V_z [-2355860.50312781]\n",
      "r_z [nan]\n",
      "h_z [nan]\n",
      "S [nan]\n",
      "m_b [nan]\n",
      "m_t [nan]\n",
      "W0 [nan]\n",
      "D0 [nan]\n",
      "A0 [nan]\n",
      "r0 [nan]\n",
      "V0 [nan]\n",
      "NL: NewtonSolver 'NL: Newton' on system 'group1.group2': residuals contain 'inf' or 'NaN' after 1 iterations.\n"
     ]
    }
   ],
   "source": [
    "prob.run_model()"
   ]
  },
  {
   "cell_type": "markdown",
   "id": "1bbbcea0",
   "metadata": {},
   "source": [
    "## Solution"
   ]
  },
  {
   "cell_type": "code",
   "execution_count": 75,
   "id": "5fd1eaa1",
   "metadata": {
    "execution": {
     "iopub.execute_input": "2021-10-15T14:39:14.961296Z",
     "iopub.status.busy": "2021-10-15T14:39:14.960298Z",
     "iopub.status.idle": "2021-10-15T14:39:14.985296Z",
     "shell.execute_reply": "2021-10-15T14:39:14.984301Z",
     "shell.execute_reply.started": "2021-10-15T14:39:14.961296Z"
    }
   },
   "outputs": [
    {
     "name": "stdout",
     "output_type": "stream",
     "text": [
      "34 Explicit Output(s) in 'model'\n",
      "\n",
      "varname      val              \n",
      "-----------  -----------------\n",
      "inp\n",
      "  mm_He      [6.64e-27]       \n",
      "  p          [1.6]            \n",
      "  R2         [0.]             \n",
      "  Tval       [226.51]         \n",
      "  mp         [4545.]          \n",
      "  G0         [9.807]          \n",
      "  T0         [288.15]         \n",
      "  mv         [500.]           \n",
      "  mm_H2      [1.66e-27]       \n",
      "  v          [6.]             \n",
      "  R1         [0.]             \n",
      "  k          [1.38064852e-23] \n",
      "  C_D        [0.47]           \n",
      "  rhoL       [925.]           \n",
      "  rho0       [1.225]          \n",
      "  a          [1.]             \n",
      "  P0         [101300.]        \n",
      "  pval       [1197.]          \n",
      "  tL         [2.54e-05]       \n",
      "group1\n",
      "  eq11\n",
      "    rho_LGz  [0.00254151]     \n",
      "  eq3\n",
      "    rho_LG0  [0.16907359]     \n",
      "  group2\n",
      "    eq5\n",
      "      L0     [98025.42527999] \n",
      "    eq4\n",
      "      m_l    [1379.56523069]  \n",
      "    eq12\n",
      "      V_z    [542813.35257814]\n",
      "    eq10\n",
      "      r_z    [50.60428632]    \n",
      "    eq9\n",
      "      h_z    [151.81285896]   \n",
      "    eq13\n",
      "      S      [43315.28182033] \n",
      "    eq14\n",
      "      m_b    [3053.07763911]  \n",
      "    eq0\n",
      "      m_t    [9477.64286979]  \n",
      "    eq6\n",
      "      W0     [92947.24362406] \n",
      "    eq8\n",
      "      D0     [5078.18165593]  \n",
      "    eq7\n",
      "      A0     [490.0064318]    \n",
      "    eq1\n",
      "      r0     [12.48895078]    \n",
      "    eq2\n",
      "      V0     [8159.55494347]  \n",
      "\n",
      "\n",
      "0 Implicit Output(s) in 'model'\n",
      "\n",
      "\n"
     ]
    }
   ],
   "source": [
    "model.list_outputs();"
   ]
  },
  {
   "cell_type": "code",
   "execution_count": null,
   "id": "5320ffc8",
   "metadata": {},
   "outputs": [],
   "source": []
  }
 ],
 "metadata": {
  "kernelspec": {
   "display_name": "Python [conda env:mdo]",
   "language": "python",
   "name": "conda-env-mdo-py"
  },
  "language_info": {
   "codemirror_mode": {
    "name": "ipython",
    "version": 3
   },
   "file_extension": ".py",
   "mimetype": "text/x-python",
   "name": "python",
   "nbconvert_exporter": "python",
   "pygments_lexer": "ipython3",
   "version": "3.9.7"
  }
 },
 "nbformat": 4,
 "nbformat_minor": 5
}
