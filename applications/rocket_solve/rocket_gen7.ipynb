{
 "cells": [
  {
   "cell_type": "code",
   "execution_count": null,
   "id": "7a633ef2",
   "metadata": {},
   "outputs": [],
   "source": [
    "from modeling.gen6.api import symbolic, log\n",
    "from modeling.gen7.api7 import MFunctionalSet, MFunctionalSetLeaf\n",
    "from engine.torchdata import print_formatted_table, load_vals\n",
    "import numpy as np"
   ]
  },
  {
   "cell_type": "code",
   "execution_count": 6,
   "id": "d08f6e1e",
   "metadata": {},
   "outputs": [],
   "source": [
    "m_l1, m_l2, m_l3, m_s1, m_s2, v_exh, alpha = 100, 100, 100, 10, 10, 4000, 0.6\n",
    "m_s3, m_i1, m_f1, m_i2, m_f2, m_i3, m_f3, dv1, dv2, dv3, dvtot, m_t = symbolic(\n",
    "    'm_s3', 'm_i1', 'm_f1', 'm_i2', 'm_f2', 'm_i3', 'm_f3', '\\\\Delta v_1',\n",
    "    '\\\\Delta v_2', '\\\\Delta v_3', '\\\\Delta v', 'm_t'\n",
    ")\n",
    "D1 = MFunctionalSetLeaf(m_s3 == alpha*m_t, idvals=[0]) \n",
    "D2 = MFunctionalSetLeaf(m_t == m_l1+m_s1+m_l2+m_s2+m_l3+m_s3, idvals=[1])\n",
    "D3 = MFunctionalSetLeaf(m_i1 == m_t, idvals=[2])\n",
    "D4 = MFunctionalSetLeaf(m_f1 == m_i1-m_l1, idvals=[3])\n",
    "D5 = MFunctionalSetLeaf(m_i2 == m_f1-m_s1, idvals=[4])\n",
    "D6 = MFunctionalSetLeaf(m_f2 == m_i2-m_l2, idvals=[5])\n",
    "D7 = MFunctionalSetLeaf(m_i3 == m_f2-m_s2, idvals=[6])\n",
    "D8 = MFunctionalSetLeaf(m_f3 == m_i3-m_l3, idvals=[7])\n",
    "D9 = MFunctionalSetLeaf(dv1 == v_exh*log(m_i1/m_f1), idvals=[8])\n",
    "D10 = MFunctionalSetLeaf(dv2 == v_exh*log(m_i2/m_f2), idvals=[9])\n",
    "D11 = MFunctionalSetLeaf(dv3 == v_exh*log(m_i3/m_f3), idvals=[10])\n",
    "D12 = MFunctionalSetLeaf(dvtot == dv1+dv2+dv3, idvals=[11])\n",
    "\n",
    "Loop = MFunctionalSet(D1,D2)\n",
    "FPF = MFunctionalSet(D1,D2,D3,D4,D5,D6,D7,D8,D9,D10,D11,D12)"
   ]
  },
  {
   "cell_type": "code",
   "execution_count": 7,
   "id": "53e2edb1",
   "metadata": {},
   "outputs": [
    {
     "name": "stdout",
     "output_type": "stream",
     "text": [
      "m_t m_s3\n",
      "800 480 \n"
     ]
    }
   ],
   "source": [
    "f1 = Loop.config(residuals=[D1,D2]).build()\n",
    "x0 = load_vals({'m_t': 10, 'm_s3': 10}, f1.indices, isdict=True)\n",
    "xsol = f1.analysis(x0)\n",
    "idxrev = {var.item():key for key,var in f1.indices.items()}\n",
    "print_formatted_table([np.round(xsol,2)], f1.indices, idxrev)"
   ]
  },
  {
   "cell_type": "code",
   "execution_count": 8,
   "id": "7d19178e",
   "metadata": {},
   "outputs": [
    {
     "name": "stdout",
     "output_type": "stream",
     "text": [
      "m_f2 m_i2 \\Delta v_3 m_i3 m_s3 m_f3 m_i1 m_f1 m_t \\Delta v_2 \\Delta v \\Delta v_1\n",
      "590  690  756.97     580  480  480  800  700  800 626.28     1917.37  534.13    \n"
     ]
    }
   ],
   "source": [
    "f2 = FPF.config(elim=[Loop.config(residuals=[D1,D2]), D3, D4, D5, D6, D7, D8, D9, D10, D11, D12]).build()\n",
    "x0 = load_vals({'m_t': 10, 'm_s3': 10}, f2.indices, isdict=True)\n",
    "xsol = f2.analysis(x0)\n",
    "idxrev = {var.item():key for key,var in f2.indices.items()}\n",
    "print_formatted_table([np.round(xsol,2)], f2.indices, idxrev)"
   ]
  }
 ],
 "metadata": {
  "kernelspec": {
   "display_name": "minimdo",
   "language": "python",
   "name": "python3"
  },
  "language_info": {
   "codemirror_mode": {
    "name": "ipython",
    "version": 3
   },
   "file_extension": ".py",
   "mimetype": "text/x-python",
   "name": "python",
   "nbconvert_exporter": "python",
   "pygments_lexer": "ipython3",
   "version": "3.9.18"
  }
 },
 "nbformat": 4,
 "nbformat_minor": 5
}
