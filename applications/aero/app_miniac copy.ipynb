{
 "cells": [
  {
   "cell_type": "markdown",
   "id": "25490482",
   "metadata": {},
   "source": [
    "## foundations version of Aircraft sizing"
   ]
  },
  {
   "cell_type": "code",
   "execution_count": 1,
   "id": "006779df",
   "metadata": {},
   "outputs": [],
   "source": [
    "from modeling.compute import Par, Var\n",
    "from modeling.execution import Component\n",
    "from foundations.functionalsets import ResidualSet\n",
    "from foundations.functionalsets import EliminationSet\n",
    "from foundations.functionalsets import EliminationKeepSet\n",
    "from foundations.functionalsets import Functional\n",
    "from foundations.functionalsets import DefaultResidualSolver\n",
    "from foundations.functionalsets import FeedForwardSolver\n",
    "from foundations.functionalsets import FunctionalComp"
   ]
  },
  {
   "cell_type": "code",
   "execution_count": 2,
   "id": "49056730",
   "metadata": {
    "execution": {
     "iopub.execute_input": "2021-10-14T17:59:17.634445Z",
     "iopub.status.busy": "2021-10-14T17:59:17.633447Z",
     "iopub.status.idle": "2021-10-14T17:59:17.963447Z",
     "shell.execute_reply": "2021-10-14T17:59:17.962446Z",
     "shell.execute_reply.started": "2021-10-14T17:59:17.634445Z"
    }
   },
   "outputs": [
    {
     "ename": "AttributeError",
     "evalue": "'FunctionalComp' object has no attribute 'variables'",
     "output_type": "error",
     "traceback": [
      "\u001b[1;31m---------------------------------------------------------------------------\u001b[0m",
      "\u001b[1;31mAttributeError\u001b[0m                            Traceback (most recent call last)",
      "\u001b[1;32mc:\\Users\\johan\\github\\designresolver\\applications\\aero\\app_miniac copy.ipynb Cell 3\u001b[0m in \u001b[0;36m<cell line: 12>\u001b[1;34m()\u001b[0m\n\u001b[0;32m      <a href='vscode-notebook-cell:/c%3A/Users/johan/github/designresolver/applications/aero/app_miniac%20copy.ipynb#W4sZmlsZQ%3D%3D?line=8'>9</a>\u001b[0m t \u001b[39m=\u001b[39m Par(\u001b[39m'\u001b[39m\u001b[39mt\u001b[39m\u001b[39m'\u001b[39m, \u001b[39m0.12\u001b[39m, \u001b[39m'\u001b[39m\u001b[39mm\u001b[39m\u001b[39m'\u001b[39m)\n\u001b[0;32m     <a href='vscode-notebook-cell:/c%3A/Users/johan/github/designresolver/applications/aero/app_miniac%20copy.ipynb#W4sZmlsZQ%3D%3D?line=9'>10</a>\u001b[0m rhoS \u001b[39m=\u001b[39m Par(\u001b[39m'\u001b[39m\u001b[39mrhoS\u001b[39m\u001b[39m'\u001b[39m, \u001b[39m45.42\u001b[39m, \u001b[39m'\u001b[39m\u001b[39mN/m^2\u001b[39m\u001b[39m'\u001b[39m)\n\u001b[1;32m---> <a href='vscode-notebook-cell:/c%3A/Users/johan/github/designresolver/applications/aero/app_miniac%20copy.ipynb#W4sZmlsZQ%3D%3D?line=11'>12</a>\u001b[0m F1 \u001b[39m=\u001b[39m FunctionalComp(Component\u001b[39m.\u001b[39;49mfromsympy(\n\u001b[0;32m     <a href='vscode-notebook-cell:/c%3A/Users/johan/github/designresolver/applications/aero/app_miniac%20copy.ipynb#W4sZmlsZQ%3D%3D?line=12'>13</a>\u001b[0m     rhoS\u001b[39m*\u001b[39;49mS\u001b[39m+\u001b[39;49m\u001b[39m8.71e-5\u001b[39;49m\u001b[39m*\u001b[39;49mN\u001b[39m/\u001b[39;49mt\u001b[39m*\u001b[39;49mA\u001b[39m*\u001b[39;49m\u001b[39m*\u001b[39;49m(\u001b[39m3\u001b[39;49m\u001b[39m/\u001b[39;49m\u001b[39m2\u001b[39;49m)\u001b[39m*\u001b[39;49mS\u001b[39m*\u001b[39;49m\u001b[39m*\u001b[39;49m(\u001b[39m1\u001b[39;49m\u001b[39m/\u001b[39;49m\u001b[39m2\u001b[39;49m)\u001b[39m*\u001b[39;49m(W0\u001b[39m*\u001b[39;49mW)\u001b[39m*\u001b[39;49m\u001b[39m*\u001b[39;49m(\u001b[39m1\u001b[39;49m\u001b[39m/\u001b[39;49m\u001b[39m2\u001b[39;49m), Ww, \n\u001b[0;32m     <a href='vscode-notebook-cell:/c%3A/Users/johan/github/designresolver/applications/aero/app_miniac%20copy.ipynb#W4sZmlsZQ%3D%3D?line=13'>14</a>\u001b[0m     arg_mapping\u001b[39m=\u001b[39;49m\u001b[39mTrue\u001b[39;49;00m))\n\u001b[0;32m     <a href='vscode-notebook-cell:/c%3A/Users/johan/github/designresolver/applications/aero/app_miniac%20copy.ipynb#W4sZmlsZQ%3D%3D?line=14'>15</a>\u001b[0m F2 \u001b[39m=\u001b[39m FunctionalComp(Component\u001b[39m.\u001b[39mfromsympy(\n\u001b[0;32m     <a href='vscode-notebook-cell:/c%3A/Users/johan/github/designresolver/applications/aero/app_miniac%20copy.ipynb#W4sZmlsZQ%3D%3D?line=15'>16</a>\u001b[0m     W0\u001b[39m+\u001b[39mWw, W, \n\u001b[0;32m     <a href='vscode-notebook-cell:/c%3A/Users/johan/github/designresolver/applications/aero/app_miniac%20copy.ipynb#W4sZmlsZQ%3D%3D?line=16'>17</a>\u001b[0m     arg_mapping\u001b[39m=\u001b[39m\u001b[39mTrue\u001b[39;00m))\n\u001b[0;32m     <a href='vscode-notebook-cell:/c%3A/Users/johan/github/designresolver/applications/aero/app_miniac%20copy.ipynb#W4sZmlsZQ%3D%3D?line=18'>19</a>\u001b[0m StructSet \u001b[39m=\u001b[39m F1\u001b[39m.\u001b[39mprojectable\u001b[39m.\u001b[39mmerge(F2\u001b[39m.\u001b[39mprojectable)\u001b[39m#etc...\u001b[39;00m\n",
      "File \u001b[1;32mc:\\users\\johan\\github\\designresolver\\minimdo\\foundations\\functionalsets.py:101\u001b[0m, in \u001b[0;36mFunctionalComp.__init__\u001b[1;34m(self, comp, name, problemid)\u001b[0m\n\u001b[0;32m     99\u001b[0m \u001b[39msuper\u001b[39m()\u001b[39m.\u001b[39m\u001b[39m__init__\u001b[39m(projectable, \u001b[39mtuple\u001b[39m(comp\u001b[39m.\u001b[39mmapped_inputs), name, problemid)\n\u001b[0;32m    100\u001b[0m \u001b[39mself\u001b[39m\u001b[39m.\u001b[39mindependent \u001b[39m=\u001b[39m \u001b[39mtuple\u001b[39m(comp\u001b[39m.\u001b[39mmapped_outputs) \u001b[39m#overwrite just in case\u001b[39;00m\n\u001b[1;32m--> 101\u001b[0m \u001b[39mself\u001b[39m\u001b[39m.\u001b[39mprojected_fixed \u001b[39m=\u001b[39m {var:var\u001b[39m.\u001b[39mvarval \u001b[39mfor\u001b[39;00m var \u001b[39min\u001b[39;00m \u001b[39mself\u001b[39;49m\u001b[39m.\u001b[39;49mvariables \u001b[39mif\u001b[39;00m var\u001b[39m.\u001b[39malways_input}\n\u001b[0;32m    102\u001b[0m \u001b[39mself\u001b[39m\u001b[39m.\u001b[39mcomponent \u001b[39m=\u001b[39m comp\n",
      "\u001b[1;31mAttributeError\u001b[0m: 'FunctionalComp' object has no attribute 'variables'"
     ]
    }
   ],
   "source": [
    "A = Var('A') # aspect ratio (unitless)\n",
    "V = Var('V', unit='m/s')\n",
    "S = Var('S', unit='m^2')\n",
    "W = Var('W')\n",
    "Ww = Var('W_w', unit='N', forceunit=True)\n",
    "\n",
    "W0 = Par('W0', 4940, 'N')\n",
    "N = Par('N', 2.5)\n",
    "t = Par('t', 0.12, 'm')\n",
    "rhoS = Par('rhoS', 45.42, 'N/m^2')\n",
    "\n",
    "F1 = FunctionalComp(Component.fromsympy(\n",
    "    rhoS*S+8.71e-5*N/t*A**(3/2)*S**(1/2)*(W0*W)**(1/2), Ww, \n",
    "    arg_mapping=True))\n",
    "F2 = FunctionalComp(Component.fromsympy(\n",
    "    W0+Ww, W, \n",
    "    arg_mapping=True))\n",
    "\n",
    "StructSet = F1.projectable.merge(F2.projectable)#etc...\n",
    "Struct = StructSet.project((A,V,S))\n",
    "#Struct.solver = FeedForwardSolver([F1, F2])"
   ]
  },
  {
   "cell_type": "code",
   "execution_count": 34,
   "id": "a9150ac7",
   "metadata": {},
   "outputs": [],
   "source": [
    "y1 = {vr:vr.varval if vr.varval else 1.01 for vr in F1.projected}\n",
    "y2 = {vr:vr.varval if vr.varval else 1.01 for vr in F2.projected}"
   ]
  },
  {
   "cell_type": "code",
   "execution_count": 35,
   "id": "3475b4e6",
   "metadata": {},
   "outputs": [
    {
     "data": {
      "text/plain": [
       "({W_w: DeviceArray(46.00495064, dtype=float64)},\n",
       " {W: DeviceArray(4941.01, dtype=float64)})"
      ]
     },
     "execution_count": 35,
     "metadata": {},
     "output_type": "execute_result"
    }
   ],
   "source": [
    "F1.solve(y1),F2.solve(y2)"
   ]
  },
  {
   "cell_type": "code",
   "execution_count": 36,
   "id": "440d013a",
   "metadata": {},
   "outputs": [],
   "source": [
    "y3 = {vr:vr.varval if vr.varval else 1.01 for vr in Struct.projected}"
   ]
  },
  {
   "cell_type": "code",
   "execution_count": 37,
   "id": "ee475a94",
   "metadata": {},
   "outputs": [
    {
     "data": {
      "text/plain": [
       "{A: 1.01, V: 1.01, S: 1.01, W0: 4940, N: 2.5, t: 0.12, rhoS: 45.42}"
      ]
     },
     "execution_count": 37,
     "metadata": {},
     "output_type": "execute_result"
    }
   ],
   "source": [
    "y3"
   ]
  },
  {
   "cell_type": "code",
   "execution_count": 39,
   "id": "d3e6bc37",
   "metadata": {},
   "outputs": [],
   "source": [
    "z3 = Struct.solve(y3)"
   ]
  },
  {
   "cell_type": "code",
   "execution_count": 42,
   "id": "d745f22c",
   "metadata": {},
   "outputs": [
    {
     "data": {
      "text/plain": [
       "({W: 4995.069245788502, W_w: 55.069245788501966},\n",
       " {W_w: DeviceArray(55.06924579, dtype=float64)},\n",
       " {W: DeviceArray(4995.06924579, dtype=float64)})"
      ]
     },
     "execution_count": 42,
     "metadata": {},
     "output_type": "execute_result"
    }
   ],
   "source": [
    "z3,F1.solve({**y1, **z3}),F2.solve({**y2, **z3})"
   ]
  }
 ],
 "metadata": {
  "kernelspec": {
   "display_name": "Python 3 (ipykernel)",
   "language": "python",
   "name": "python3"
  },
  "language_info": {
   "codemirror_mode": {
    "name": "ipython",
    "version": 3
   },
   "file_extension": ".py",
   "mimetype": "text/x-python",
   "name": "python",
   "nbconvert_exporter": "python",
   "pygments_lexer": "ipython3",
   "version": "3.9.12"
  },
  "vscode": {
   "interpreter": {
    "hash": "a694de6fda351b2e6abf6df342a83029ffd7840d5f4e2b018751ced956a6df2b"
   }
  }
 },
 "nbformat": 4,
 "nbformat_minor": 5
}
