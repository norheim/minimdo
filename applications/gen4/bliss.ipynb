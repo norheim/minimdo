{
 "cells": [
  {
   "cell_type": "code",
   "execution_count": 1,
   "metadata": {},
   "outputs": [],
   "source": [
    "from modeling.couplingapi import Subproblem\n",
    "from modeling.api import Var\n",
    "import numpy as np"
   ]
  },
  {
   "cell_type": "code",
   "execution_count": 2,
   "metadata": {},
   "outputs": [],
   "source": [
    "A = np.array([[0, 0.3970, 0.8152, 0.9230, 0.1108],\n",
    "              [0.4252, 0, 0.6357, 0.7435, 0.1138],\n",
    "              [0.0329, 0.8856, 0, 0.3657, 0.0019],\n",
    "              [0.0878, 0.7248, 0.1978, 0, 0.0169],\n",
    "              [0.8955, 0.4568, 0.8075, 0.9239, 0]])"
   ]
  },
  {
   "cell_type": "code",
   "execution_count": 3,
   "metadata": {},
   "outputs": [],
   "source": [
    "import numpy as np\n",
    "\n",
    "coefficients = {\n",
    "    'Theta': {'Ao': np.array([1.]), 'Ai': np.array([0.3, -0.3, -0.3, -0.2]), 'Aii': np.array([0.4, -0.4, -0.4, 0])},\n",
    "    'Fol': {'Ao': np.array([1.]), 'Ai': np.array([6.25]), 'Aii': np.array([0])},\n",
    "    'sigma1': {'Ao': np.array([1.]), 'Ai': np.array([-0.75, 0.5, -0.75, 0.5, 0.5]), 'Aii': np.array([-2.5, 0, -2.5, 0, 0])},\n",
    "    'sigma2': {'Ao': np.array([1.]), 'Ai': np.array([-0.50, 0.333, -0.50, 0.333, 0.333]), 'Aii': np.array([-1.1110, 0, -1.111, 0, 0])},\n",
    "    'sigma3': {'Ao': np.array([1.]), 'Ai': np.array([-0.3750, 0.25, -0.375, 0.250, 0.25]), 'Aii': np.array([-0.6250, 0, -0.62500, 0, 0, 0])},\n",
    "    'sigma4': {'Ao': np.array([1.]), 'Ai': np.array([-0.3, 0.2, -0.3, 0.2, 0.2]), 'Aii': np.array([-0.4, 0, -0.4, 0, 0])},\n",
    "    'sigma5': {'Ao': np.array([1.]), 'Ai': np.array([-0.250, 0.1667, -0.25, 0.16670, 0.1667]), 'Aii': np.array([-0.27780, -0.277800, 0, 0])},\n",
    "    'Fo2': {'Ao': np.array([1.]), 'Ai': np.array([0.2, 0.2]), 'Aii': np.array([0, 0])},\n",
    "    'Fo3': {'Ao': np.array([1.]), 'Ai': np.array([0]), 'Aii': np.array([0.04])},\n",
    "    'dp/dx': {'Ao': np.array([1.]), 'Ai': np.array([0.2]), 'Aii': np.array([0])},\n",
    "    'Temp': {'Ao': np.array([1.]), 'Ai': np.array([0.3, -0.3, 0.3]), 'Aii': np.array([0.4, -0.4, 0.4])}\n",
    "}\n"
   ]
  },
  {
   "cell_type": "code",
   "execution_count": 4,
   "metadata": {},
   "outputs": [],
   "source": [
    "def compute_function(A, allcoefficients, arg):\n",
    "    # Initialize Aii and A_i as zero vectors of the correct size and fill in the non-zero entries\n",
    "    coefficients = allcoefficients[arg]\n",
    "    A0 = coefficients['Ao']\n",
    "    Ai = coefficients['Ai']\n",
    "    Aii = coefficients['Aii']\n",
    "    dim_A = Ai.shape[0]\n",
    "\n",
    "    Aij = np.diag(Aii)+ A[:dim_A,:dim_A]\n",
    "    print(A0, Ai)\n",
    "    print(Aij)\n",
    "    def evalpoly(*S):\n",
    "        S = np.array(S)\n",
    "        return A0 + Ai.dot(S) + 0.5 * S.dot(Aij).dot(S.T)\n",
    "    return evalpoly"
   ]
  },
  {
   "cell_type": "code",
   "execution_count": 29,
   "metadata": {},
   "outputs": [
    {
     "name": "stdout",
     "output_type": "stream",
     "text": [
      "[1.] [ 0.3 -0.3 -0.3 -0.2]\n",
      "[[ 0.4     0.397   0.8152  0.923 ]\n",
      " [ 0.4252 -0.4     0.6357  0.7435]\n",
      " [ 0.0329  0.8856 -0.4     0.3657]\n",
      " [ 0.0878  0.7248  0.1978  0.    ]]\n"
     ]
    },
    {
     "data": {
      "text/plain": [
       "array([14.53405])"
      ]
     },
     "execution_count": 29,
     "metadata": {},
     "output_type": "execute_result"
    }
   ],
   "source": [
    "compute_function(A, coefficients, 'Theta')(np.array([1, 2, 3, 4]))"
   ]
  },
  {
   "cell_type": "code",
   "execution_count": null,
   "metadata": {},
   "outputs": [],
   "source": [
    "eqs = '''\n",
    "t = tc * S_REF / sqrt(S_REF * AR)\\n\n",
    "b_half = sqrt(S_REF * AR / 2)\\n\n",
    "R = (1 + 2 * lambda) / (3 * (1 + lambda))\\n\n",
    "theta = pf(x, b_half, R, L)\\n\n",
    "fo1 = pf(x)\\n\n",
    "W_W = (0.0051 * (W_T * N_z)**0.557 * S_REF*0.649 * AR**0.5 * (t/c)**-0.4 * (1+lambda)**0.1 * (0.1875S_REF)**0.1 / cos(lambda)) * Fo_1\\n\n",
    "W_FW = (5 * S_REF / 18) * (2/3 * t) * 42.5\\n\n",
    "W_F = W_FW + W_FO\\n\n",
    "W_T = W_O + W_W + W_F + W_E\\n\n",
    "sigma1_to_sigma5 = pf(t/c, L_val, x_val, b_half, R)\\n\n",
    "'''"
   ]
  },
  {
   "cell_type": "code",
   "execution_count": null,
   "metadata": {},
   "outputs": [],
   "source": [
    "aero = '''\n",
    "CL = WT / (0.5 * rho * V**2 * S_REF) \\n\n",
    "Fol = pf(ESF, Cf) \\n \n",
    "CDmin = (CD_min * (M < 1) * F_0 * (1 + 3.05 * (1 / (k * S_REF))**5)**3 * cos(Lambda)**2)\n",
    "k = 1 / (pi * 0.8 * AR) \\n\n",
    "Fo_0 = pf(Theta) \\n\n",
    "CD = (CD_m0 + k * CL**2) * Fo * 2 \\n\n",
    "L = WT \\n\n",
    "D = CD * 0.5 * rho * V**2 * S_REF \\n\n",
    "dp_dx = pf(t / c) \\n\n",
    "'''"
   ]
  },
  {
   "cell_type": "code",
   "execution_count": null,
   "metadata": {},
   "outputs": [],
   "source": [
    "prop = '''\n",
    "Tbar = T * 16168.6\\n\n",
    "Temp = pf(M, h, T)\\n\n",
    "ESF = (D / 3) / Tbar\\n\n",
    "SFC = 1.1324 + 1.5344 * M - 3.2956e-05 * h - 1.6379e-04 * Tbar - 0.31623 * M**2 + 8.2138e-06 * M * h - 10.496e-05 * T * M - 8.574e-11 * h**2 + 3.8042e-09 * Tbar * h + 1.0600e-08 * Tbar**2\\n\n",
    "WE = 3 * W_BE * ESF**1.05\\n\n",
    "T_UA = 11484 + 10856 * M - 0.50802 * h + 3200.2 * M**2 - 0.29326 * M * h + 6.8572e-06 * h**2\\n\n",
    "'''"
   ]
  },
  {
   "cell_type": "code",
   "execution_count": null,
   "metadata": {},
   "outputs": [],
   "source": [
    "range = '''\n",
    "theta = lambda h: 1 - 6.875e-06 * h if h < 36089 else 0.7519\n",
    "R = (M * (L - D) * 66 * sqrt(theta)) / (SFC * log(W_T / (W_T - W_F)))\n",
    "'''"
   ]
  },
  {
   "cell_type": "code",
   "execution_count": 5,
   "metadata": {},
   "outputs": [],
   "source": [
    "from sympy import log, sqrt, exp"
   ]
  },
  {
   "cell_type": "code",
   "execution_count": 31,
   "metadata": {},
   "outputs": [],
   "source": [
    "P1 = Subproblem()\n",
    "M = Var('M')\n",
    "L = Var('L')\n",
    "D = Var('D')\n",
    "SFC = Var('SFC')\n",
    "W_T = Var('W_T')\n",
    "W_F = Var('W_F')\n",
    "h = Var('h')\n",
    "theta = P1.add_equation('theta', lambda h: 1 - 6.875e-06 * h if h < 36089 else 0.7519, (h,))\n",
    "R = P1.add_equation('R', (M * (L - D) * 66 * sqrt(theta)) / (SFC * log(W_T / (W_T - W_F))))"
   ]
  },
  {
   "cell_type": "code",
   "execution_count": 32,
   "metadata": {},
   "outputs": [],
   "source": [
    "from modeling.execution import edges_from_components"
   ]
  },
  {
   "cell_type": "code",
   "execution_count": 37,
   "metadata": {},
   "outputs": [],
   "source": [
    "edges = edges_from_components(P1.components)"
   ]
  },
  {
   "cell_type": "code",
   "execution_count": 38,
   "metadata": {},
   "outputs": [
    {
     "data": {
      "text/plain": [
       "({0: ('h',), 1: ('D', 'W_F', 'theta', 'L', 'W_T', 'SFC', 'M')},\n",
       " {0: ('theta',), 1: ('R',)},\n",
       " {})"
      ]
     },
     "execution_count": 38,
     "metadata": {},
     "output_type": "execute_result"
    }
   ],
   "source": [
    "edges"
   ]
  },
  {
   "cell_type": "code",
   "execution_count": 16,
   "metadata": {},
   "outputs": [],
   "source": [
    "from modeling.api import evalexpr, sympy_fx_inputs, Component, calculateval"
   ]
  },
  {
   "cell_type": "code",
   "execution_count": 8,
   "metadata": {},
   "outputs": [],
   "source": [
    "V = M * 968.1\n",
    "rho = (2.377e-03) * (.2971) * exp(-(M-36089) / 20806.7)\n",
    "Sref = Var(r'S_{ref}', 1000, 'ft^2')"
   ]
  },
  {
   "cell_type": "code",
   "execution_count": 22,
   "metadata": {},
   "outputs": [],
   "source": [
    "comp = Component.fromsympy(0.5*0.5*rho*V**2*Sref, Var('',unit='ft**2'), arg_mapping=True)"
   ]
  },
  {
   "cell_type": "code",
   "execution_count": 24,
   "metadata": {},
   "outputs": [
    {
     "data": {
      "text/plain": [
       "(array(3037378.28977385), {})"
      ]
     },
     "execution_count": 24,
     "metadata": {},
     "output_type": "execute_result"
    }
   ],
   "source": [
    "calculateval(comp.mapped_inputs, comp.function)"
   ]
  },
  {
   "cell_type": "code",
   "execution_count": 26,
   "metadata": {},
   "outputs": [
    {
     "data": {
      "text/latex": [
       "$2.822\\times 10^{5}\\ $"
      ],
      "text/plain": [
       "dummy"
      ]
     },
     "execution_count": 26,
     "metadata": {},
     "output_type": "execute_result"
    }
   ],
   "source": [
    "evalexpr(0.5*0.5*rho*V**2*Sref)"
   ]
  },
  {
   "cell_type": "code",
   "execution_count": 34,
   "metadata": {},
   "outputs": [],
   "source": [
    "T = Var('T', 0.5) #Throttle setting\n",
    "M = Var('M', 1.8)\n",
    "h = Var('h', 60000)\n",
    "D = Var('D', 2.82e5)\n",
    "W_BE = Var(r'W_{BE}', 4360.0)"
   ]
  },
  {
   "cell_type": "code",
   "execution_count": 35,
   "metadata": {},
   "outputs": [
    {
     "name": "stdout",
     "output_type": "stream",
     "text": [
      "[1.] [ 0.3 -0.3  0.3]\n",
      "[[ 0.4     0.397   0.8152]\n",
      " [ 0.4252 -0.4     0.6357]\n",
      " [ 0.0329  0.8856  0.4   ]]\n"
     ]
    }
   ],
   "source": [
    "P1 = Subproblem()\n",
    "Tbar = P1.add_equation(r'T_{bar}', T * 16168.6)\n",
    "pf = compute_function(A, coefficients, 'Temp')\n",
    "Temp = P1.add_equation('Temp', pf, (M, h, T))\n",
    "ESF = P1.add_equation('ESF', (D / 3) / Tbar)\n",
    "SFC = P1.add_equation('SFC', 1.1324 + 1.5344 * M - 3.2956e-05 * h - 1.6379e-04 * Tbar - 0.31623 * M**2 + 8.2138e-06 * M * h - 10.496e-05 * T * M - 8.574e-11 * h**2 + 3.8042e-09 * Tbar * h + 1.0600e-08 * Tbar**2)\n",
    "WE = P1.add_equation('WE', 3 * W_BE * ESF**1.05)\n",
    "TUA = P1.add_equation(r'T_{UA}', 11484 + 10856 * M - 0.50802 * h + 3200.2 * M**2 - 0.29326 * M * h + 6.8572e-06 * h**2)"
   ]
  },
  {
   "cell_type": "code",
   "execution_count": 40,
   "metadata": {},
   "outputs": [
    {
     "data": {
      "text/plain": [
       "array([-7.19950779e+08])"
      ]
     },
     "execution_count": 40,
     "metadata": {},
     "output_type": "execute_result"
    }
   ],
   "source": [
    "pf(M.varval, h.varval, T.varval)"
   ]
  },
  {
   "cell_type": "code",
   "execution_count": 43,
   "metadata": {},
   "outputs": [],
   "source": [
    "Ao = coefficients['Temp']['Ao']\n",
    "Ai = coefficients['Temp']['Ai']\n",
    "Aii = coefficients['Temp']['Aii']"
   ]
  },
  {
   "cell_type": "code",
   "execution_count": 44,
   "metadata": {},
   "outputs": [],
   "source": [
    "S = np.array([M.varval, h.varval, T.varval])"
   ]
  },
  {
   "cell_type": "code",
   "execution_count": 51,
   "metadata": {},
   "outputs": [
    {
     "data": {
      "text/plain": [
       "-719932780.620355"
      ]
     },
     "execution_count": 51,
     "metadata": {},
     "output_type": "execute_result"
    }
   ],
   "source": [
    "0.5*S@(A[:3,:3]+np.diag(Aii))@S"
   ]
  },
  {
   "cell_type": "code",
   "execution_count": null,
   "metadata": {},
   "outputs": [],
   "source": []
  },
  {
   "attachments": {},
   "cell_type": "markdown",
   "metadata": {},
   "source": [
    "## Poly Approx"
   ]
  },
  {
   "cell_type": "code",
   "execution_count": 70,
   "metadata": {},
   "outputs": [],
   "source": [
    "import numpy as np\n",
    "\n",
    "def precompute_poly_approx(S, flag, S_bound):\n",
    "    size = len(S)\n",
    "    a, b = 0.1, 0.1\n",
    "    Ao, Ai, Aij = 0, np.zeros(size), np.zeros((size, size))\n",
    "\n",
    "    for i in range(size):\n",
    "        if flag[i] == 5:\n",
    "            So, Sl, Su = 0, -S_bound[i], S_bound[i]\n",
    "            Mtx_shifted = np.array([[1, S[i], S[i]**2], [1, So, So**2], [1, Su, Su**2]])\n",
    "            F_bound = np.array([1 + (0.5 * a)**2, 1, 1 + (0.5 * b)**2])\n",
    "        else:\n",
    "            if flag[i] == 3:\n",
    "                a, b = -a, -b\n",
    "            elif flag[i] == 2:\n",
    "                b = 2 * a\n",
    "            elif flag[i] == 4:\n",
    "                a, b = -a, 2 * a\n",
    "            \n",
    "            So, Sl, Su = 0, -S_bound[i], S_bound[i]\n",
    "            Mtx_shifted = np.array([[1, S[i], Sl**2], [1, So, So**2], [1, Su, Su**2]])\n",
    "            F_bound = np.array([1 - 0.5 * a, 1, 1 + 0.5 * b])\n",
    "        \n",
    "        A = np.linalg.solve(Mtx_shifted, F_bound)\n",
    "        Ao, Ai[i], Aij[i, i] = A[0], A[1], A[2]\n",
    "\n",
    "    R = np.array([[0.2736, 0.3970, 0.8152, 0.9230, 0.4252],\n",
    "                  [0.4415, 0.6357, 0.7435, 0.0329, 0.8856],\n",
    "                  [0.8390, 0.3657, 0.0878, 0.7248, 0.1978],\n",
    "                  [0.0200, 0.8955, 0.4568, 0.8075, 0.9239],\n",
    "                  [0.1108, 0.1138, 0.0019, 0.0169, 0.2525]])\n",
    "\n",
    "    for i in range(size):\n",
    "        for j in range(i+1, size):\n",
    "            Aij[i, j] = Aij[i, i] * R[i, j]\n",
    "            Aij[j, i] = Aij[i, j]\n",
    "\n",
    "    return Ao, Ai, Aij\n",
    "\n",
    "def calculate_FF(S_new, S, Ao, Ai, Aij):\n",
    "    S_norm = np.minimum(1.25, np.maximum(0.75, S_new / S))\n",
    "    S_shifted = S_norm - 1\n",
    "    FF = Ao + np.dot(Ai, S_shifted) + 0\n",
    "    return FF\n"
   ]
  },
  {
   "cell_type": "code",
   "execution_count": 71,
   "metadata": {},
   "outputs": [],
   "source": [
    "Ao,Ai,Aij = precompute_poly_approx([1.6, 45000, 0.5], [2,4,2], [.25,.25,.25])"
   ]
  },
  {
   "cell_type": "code",
   "execution_count": 85,
   "metadata": {},
   "outputs": [],
   "source": [
    "i0=[.25, 1, 1, .5, .05, 45000, 1.6, 5.5, 55, 1000];\n",
    "x_initial=i0[1];\n",
    "tc_initial=i0[4];\n",
    "L_initial=sqrt(i0[7]*i0[9])/2;\n",
    "R_initial=( 1 +2*i0[1])/(3*(1 +i0[1]));"
   ]
  },
  {
   "cell_type": "code",
   "execution_count": null,
   "metadata": {},
   "outputs": [],
   "source": [
    "Ao,Ai,Aij = precompute_poly_approx([x_initial, L_initial, R_initial], [2,4,4,3], [.25,.25,.25,.25])"
   ]
  },
  {
   "cell_type": "code",
   "execution_count": 84,
   "metadata": {},
   "outputs": [
    {
     "data": {
      "text/plain": [
       "(1.0,\n",
       " array([-1.11111111e-01, -1.11111728e-06,  6.00000000e-01]),\n",
       " array([[ 2.04444444,  0.81164444,  1.66663111],\n",
       "        [ 0.81164444,  1.60000444,  1.1896033 ],\n",
       "        [ 1.66663111,  1.1896033 , -4.        ]]))"
      ]
     },
     "execution_count": 84,
     "metadata": {},
     "output_type": "execute_result"
    }
   ],
   "source": [
    "Ao,Ai,Aij"
   ]
  },
  {
   "cell_type": "code",
   "execution_count": 83,
   "metadata": {},
   "outputs": [
    {
     "data": {
      "text/plain": [
       "1.1222219444429011"
      ]
     },
     "execution_count": 83,
     "metadata": {},
     "output_type": "execute_result"
    }
   ],
   "source": [
    "calculate_FF(np.array([2.5, 60000, 0.8]), \n",
    "             np.array([1.6, 45000, 0.5]), Ao, Ai, Aij)"
   ]
  },
  {
   "cell_type": "code",
   "execution_count": null,
   "metadata": {},
   "outputs": [],
   "source": []
  }
 ],
 "metadata": {
  "kernelspec": {
   "display_name": "minimdo",
   "language": "python",
   "name": "python3"
  },
  "language_info": {
   "codemirror_mode": {
    "name": "ipython",
    "version": 3
   },
   "file_extension": ".py",
   "mimetype": "text/x-python",
   "name": "python",
   "nbconvert_exporter": "python",
   "pygments_lexer": "ipython3",
   "version": "3.9.12"
  },
  "orig_nbformat": 4
 },
 "nbformat": 4,
 "nbformat_minor": 2
}
