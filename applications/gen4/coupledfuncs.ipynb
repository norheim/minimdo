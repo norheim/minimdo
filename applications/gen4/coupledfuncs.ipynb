{
 "cells": [
  {
   "cell_type": "code",
   "execution_count": 1,
   "metadata": {},
   "outputs": [],
   "source": [
    "from collections import namedtuple\n",
    "import numpy as np\n"
   ]
  },
  {
   "cell_type": "code",
   "execution_count": 2,
   "metadata": {},
   "outputs": [],
   "source": [
    "Var = namedtuple('Var', ['name', 'shape'])\n",
    "Subproblem = namedtuple('Subproblem', ['name', 'inputs', 'outputs', 'function'])"
   ]
  },
  {
   "cell_type": "code",
   "execution_count": 3,
   "metadata": {},
   "outputs": [],
   "source": [
    "x1 = Var('x1', (1,))\n",
    "x2 = Var('x2', (10, 4))\n",
    "x3 = Var('x3', (1, 1))\n",
    "x4 = Var('x4', (5,))\n",
    "f1 = Subproblem( 'f1', (x3,x2), (x1,), lambda x3, x2: x2*x3)\n",
    "f2 = Subproblem( 'f2', (x1,x3), (x4,), lambda x1, x3: np.array([x1-1,x1*x3,x1-x3,x3+1,x1+2*x3]))"
   ]
  },
  {
   "cell_type": "code",
   "execution_count": 4,
   "metadata": {},
   "outputs": [],
   "source": [
    "def get_index_ranges(variables):\n",
    "    index_ranges = []\n",
    "    start_idx = 0\n",
    "    for var in variables:\n",
    "        size = np.prod(var.shape)\n",
    "        end_idx = start_idx + size\n",
    "        index_ranges.append((start_idx, end_idx))\n",
    "        start_idx = end_idx\n",
    "    return index_ranges\n",
    "\n",
    "def subset_index_ranges(all_variables, selected_subset):\n",
    "    all_index_ranges = get_index_ranges(all_variables)\n",
    "    subset_index_ranges = [all_index_ranges[all_variables.index(var)] for var in selected_subset]\n",
    "    return subset_index_ranges\n",
    "\n",
    "def select_subset(flat_vector, subset_index_ranges):\n",
    "    result = []\n",
    "    for start_idx, end_idx in subset_index_ranges:\n",
    "        result.append(flat_vector[start_idx:end_idx])\n",
    "    return np.concatenate(result)"
   ]
  },
  {
   "cell_type": "code",
   "execution_count": 34,
   "metadata": {},
   "outputs": [],
   "source": [
    "all_variables = [x1, x2, x3, x4]\n",
    "\n",
    "projection = {\n",
    "    f1: subset_index_ranges(all_variables, f1.inputs),\n",
    "    f2: subset_index_ranges(all_variables, f2.inputs),\n",
    "}"
   ]
  },
  {
   "cell_type": "code",
   "execution_count": 35,
   "metadata": {},
   "outputs": [
    {
     "data": {
      "text/plain": [
       "[(41, 42), (1, 41)]"
      ]
     },
     "execution_count": 35,
     "metadata": {},
     "output_type": "execute_result"
    }
   ],
   "source": [
    "projection[f1]"
   ]
  },
  {
   "cell_type": "code",
   "execution_count": 7,
   "metadata": {},
   "outputs": [],
   "source": [
    "x0 = np.random.rand(sum(np.prod(v.shape) for v in all_variables))"
   ]
  },
  {
   "cell_type": "code",
   "execution_count": 22,
   "metadata": {},
   "outputs": [],
   "source": [
    "def get_precomputed_info(variables):\n",
    "    precomputed = []\n",
    "    start_idx = 0\n",
    "    for var in variables:\n",
    "        size = np.prod(var.shape)\n",
    "        end_idx = start_idx + size\n",
    "        precomputed.append((start_idx, end_idx, var.shape))\n",
    "        start_idx = end_idx\n",
    "    return precomputed\n",
    "    \n",
    "def split_vector(flat_vector, precomputed_info):\n",
    "    split_arrays = []\n",
    "    for start_idx, end_idx, shape in precomputed_info:\n",
    "        split_array = flat_vector[start_idx:end_idx].reshape(shape)\n",
    "        split_arrays.append(split_array)\n",
    "    return split_arrays\n",
    "\n",
    "def get_precomputed_indices(all_variables, selected_subset):\n",
    "    all_info = get_precomputed_info(all_variables)\n",
    "    selected_indices = []\n",
    "    for var, (start_idx, end_idx, shape) in zip(all_variables, all_info):\n",
    "        if var in selected_subset:\n",
    "            selected_indices.append((start_idx, end_idx, shape))\n",
    "    return selected_indices\n",
    "\n",
    "def set_subset(flat_vector, precomputed_indices, input_arrays):\n",
    "    modified_vector = flat_vector.copy()\n",
    "    for (start_idx, end_idx, shape), input_array in zip(precomputed_indices, input_arrays):\n",
    "        if np.isscalar(input_array) and np.prod(shape) == 1:\n",
    "            modified_vector[start_idx:end_idx] = input_array\n",
    "        elif not np.isscalar(input_array) and input_array.shape == shape:\n",
    "            modified_vector[start_idx:end_idx] = input_array.flatten()\n",
    "    return modified_vector"
   ]
  },
  {
   "cell_type": "code",
   "execution_count": 36,
   "metadata": {},
   "outputs": [],
   "source": [
    "split_precomputed = {\n",
    "    f1: get_precomputed_info(f1.inputs),\n",
    "    f2: get_precomputed_info(f2.inputs),\n",
    "}"
   ]
  },
  {
   "cell_type": "code",
   "execution_count": 37,
   "metadata": {},
   "outputs": [],
   "source": [
    "x0new = set_subset(x0, get_precomputed_indices(all_variables, [x3]), [1000])"
   ]
  },
  {
   "cell_type": "code",
   "execution_count": 38,
   "metadata": {},
   "outputs": [],
   "source": [
    "f1in =select_subset(x0new, projection[f1])"
   ]
  },
  {
   "cell_type": "code",
   "execution_count": 39,
   "metadata": {},
   "outputs": [
    {
     "data": {
      "text/plain": [
       "[array([[1000.]]),\n",
       " array([[0.34662245, 0.89445433, 0.13437457, 0.91916477],\n",
       "        [0.69804307, 0.20646939, 0.55856588, 0.35467334],\n",
       "        [0.3438828 , 0.8616317 , 0.2082174 , 0.66286191],\n",
       "        [0.8373436 , 0.46778506, 0.64034099, 0.79067727],\n",
       "        [0.05517509, 0.00981833, 0.58492999, 0.24797695],\n",
       "        [0.26053618, 0.37102363, 0.77855374, 0.62454899],\n",
       "        [0.70186809, 0.03846233, 0.40762003, 0.2791195 ],\n",
       "        [0.52012894, 0.14159655, 0.48445472, 0.73137283],\n",
       "        [0.7294046 , 0.07803234, 0.14590698, 0.94180338],\n",
       "        [0.33029304, 0.33554624, 0.52750539, 0.31489753]])]"
      ]
     },
     "execution_count": 39,
     "metadata": {},
     "output_type": "execute_result"
    }
   ],
   "source": [
    "split_vector(f1in, split_precomputed[f1])"
   ]
  },
  {
   "cell_type": "code",
   "execution_count": 42,
   "metadata": {},
   "outputs": [],
   "source": [
    "def flatten_output(f):\n",
    "    def wrapped(x):\n",
    "        result = f.function(*split_vector(select_subset(x, projection[f]), split_precomputed[f]))\n",
    "        flattened_result = np.concatenate([x.flatten() if isinstance(x, np.ndarray) else np.array([x]) for x in result])\n",
    "        return flattened_result\n",
    "    return wrapped"
   ]
  },
  {
   "cell_type": "code",
   "execution_count": 46,
   "metadata": {},
   "outputs": [],
   "source": [
    "newf1 = flatten_output(f1)\n",
    "newf2 = flatten_output(f2)"
   ]
  },
  {
   "cell_type": "code",
   "execution_count": 47,
   "metadata": {},
   "outputs": [
    {
     "data": {
      "text/plain": [
       "array([-9.47593515e-01,  5.24064848e+01, -9.99947594e+02,  1.00100000e+03,\n",
       "        2.00005241e+03])"
      ]
     },
     "execution_count": 47,
     "metadata": {},
     "output_type": "execute_result"
    }
   ],
   "source": [
    "newf2(x0new)"
   ]
  },
  {
   "cell_type": "code",
   "execution_count": null,
   "metadata": {},
   "outputs": [],
   "source": []
  }
 ],
 "metadata": {
  "kernelspec": {
   "display_name": "minimdo",
   "language": "python",
   "name": "python3"
  },
  "language_info": {
   "codemirror_mode": {
    "name": "ipython",
    "version": 3
   },
   "file_extension": ".py",
   "mimetype": "text/x-python",
   "name": "python",
   "nbconvert_exporter": "python",
   "pygments_lexer": "ipython3",
   "version": "3.9.12"
  },
  "orig_nbformat": 4
 },
 "nbformat": 4,
 "nbformat_minor": 2
}
