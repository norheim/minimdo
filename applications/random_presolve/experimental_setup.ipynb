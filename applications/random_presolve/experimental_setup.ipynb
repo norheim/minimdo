{
 "cells": [
  {
   "cell_type": "code",
   "execution_count": 1,
   "id": "56952224-25c5-4895-b12d-75a3d34bf00d",
   "metadata": {
    "execution": {
     "iopub.execute_input": "2022-07-28T21:13:52.554578Z",
     "iopub.status.busy": "2022-07-28T21:13:52.554093Z",
     "iopub.status.idle": "2022-07-28T21:13:52.574893Z",
     "shell.execute_reply": "2022-07-28T21:13:52.574110Z",
     "shell.execute_reply.started": "2022-07-28T21:13:52.554578Z"
    },
    "tags": []
   },
   "outputs": [],
   "source": [
    "from itertools import product, islice"
   ]
  },
  {
   "cell_type": "code",
   "execution_count": 2,
   "id": "494d7d76-923b-4387-b4c6-ace069ca1252",
   "metadata": {
    "execution": {
     "iopub.execute_input": "2022-07-28T21:13:52.781181Z",
     "iopub.status.busy": "2022-07-28T21:13:52.781181Z",
     "iopub.status.idle": "2022-07-28T21:13:57.664330Z",
     "shell.execute_reply": "2022-07-28T21:13:57.663190Z",
     "shell.execute_reply.started": "2022-07-28T21:13:52.781181Z"
    },
    "tags": []
   },
   "outputs": [],
   "source": [
    "from testproblems import generate_random_prob\n",
    "from datastructures.graphutils import edges_E, all_components"
   ]
  },
  {
   "cell_type": "code",
   "execution_count": 3,
   "id": "1de7a6d0-130e-40f7-8c11-2d26fd9225e2",
   "metadata": {
    "execution": {
     "iopub.execute_input": "2022-07-28T21:13:57.664827Z",
     "iopub.status.busy": "2022-07-28T21:13:57.664827Z",
     "iopub.status.idle": "2022-07-28T21:13:57.679235Z",
     "shell.execute_reply": "2022-07-28T21:13:57.678326Z",
     "shell.execute_reply.started": "2022-07-28T21:13:57.664827Z"
    },
    "tags": []
   },
   "outputs": [],
   "source": [
    "from datastructures.operators import invert_edges, sort_scc\n",
    "from datastructures.rendering import render_incidence\n",
    "from experimentutils import generate_problem\n",
    "import pandas as pd\n",
    "import numpy as np"
   ]
  },
  {
   "cell_type": "code",
   "execution_count": 4,
   "id": "95826363-c872-4978-ace6-b150d17bbb89",
   "metadata": {
    "execution": {
     "iopub.execute_input": "2022-07-28T21:13:57.681811Z",
     "iopub.status.busy": "2022-07-28T21:13:57.680797Z",
     "iopub.status.idle": "2022-07-28T21:13:57.694506Z",
     "shell.execute_reply": "2022-07-28T21:13:57.693822Z",
     "shell.execute_reply.started": "2022-07-28T21:13:57.681811Z"
    },
    "tags": []
   },
   "outputs": [],
   "source": [
    "import networkx as nx\n",
    "from datastructures.tearing import dir_graph, feedbacks, min_max_scc2, min_arc_set_assign, min_arc_set"
   ]
  },
  {
   "cell_type": "code",
   "execution_count": 5,
   "id": "3cc244f7-2e10-4079-8102-cab2ad2398d3",
   "metadata": {
    "execution": {
     "iopub.execute_input": "2022-07-28T21:13:57.696750Z",
     "iopub.status.busy": "2022-07-28T21:13:57.696750Z",
     "iopub.status.idle": "2022-07-28T21:13:57.709496Z",
     "shell.execute_reply": "2022-07-28T21:13:57.708982Z",
     "shell.execute_reply.started": "2022-07-28T21:13:57.696750Z"
    },
    "tags": []
   },
   "outputs": [],
   "source": [
    "from ipywidgets import IntProgress\n",
    "from IPython.display import display"
   ]
  },
  {
   "cell_type": "code",
   "execution_count": 6,
   "id": "2cbbdc34-22cf-497c-9a14-97f82ea5d9b4",
   "metadata": {
    "execution": {
     "iopub.execute_input": "2022-07-28T21:13:57.711855Z",
     "iopub.status.busy": "2022-07-28T21:13:57.710963Z",
     "iopub.status.idle": "2022-07-28T21:13:57.725619Z",
     "shell.execute_reply": "2022-07-28T21:13:57.724312Z",
     "shell.execute_reply.started": "2022-07-28T21:13:57.711855Z"
    },
    "tags": []
   },
   "outputs": [],
   "source": [
    "independent_of_n = True"
   ]
  },
  {
   "cell_type": "code",
   "execution_count": 7,
   "id": "5de42780-ffed-4e75-b6bc-cdf8d9762492",
   "metadata": {
    "execution": {
     "iopub.execute_input": "2022-07-28T21:13:57.727888Z",
     "iopub.status.busy": "2022-07-28T21:13:57.727565Z",
     "iopub.status.idle": "2022-07-28T21:13:57.740458Z",
     "shell.execute_reply": "2022-07-28T21:13:57.739455Z",
     "shell.execute_reply.started": "2022-07-28T21:13:57.727888Z"
    },
    "tags": []
   },
   "outputs": [],
   "source": [
    "timeout=100"
   ]
  },
  {
   "cell_type": "code",
   "execution_count": 8,
   "id": "7e738b21-4d44-4af6-81d7-04084a6839cc",
   "metadata": {
    "execution": {
     "iopub.execute_input": "2022-07-28T21:13:58.430990Z",
     "iopub.status.busy": "2022-07-28T21:13:58.430990Z",
     "iopub.status.idle": "2022-07-28T21:13:58.440057Z",
     "shell.execute_reply": "2022-07-28T21:13:58.439223Z",
     "shell.execute_reply.started": "2022-07-28T21:13:58.430990Z"
    },
    "tags": []
   },
   "outputs": [],
   "source": [
    "def custom_calculation_args(m,n,seed,sparsity):\n",
    "    seed = int(seed) # required for the way we generate random problems\n",
    "    eq_incidence, var_incidence, outset = generate_random_prob(m, n, seed, sparsity, independent_of_n=independent_of_n)\n",
    "    edges_varonleft = edges_E(eq_incidence)\n",
    "    eqnidxs = eq_incidence.keys()\n",
    "    varidxs = var_incidence.keys()\n",
    "    D = nx.DiGraph(dir_graph(edges_varonleft, eqnidxs, outset.items()))\n",
    "    kwargs = {\n",
    "        'eq_incidence':eq_incidence,\n",
    "        'var_incidence':var_incidence,\n",
    "        'edges_varonleft':edges_varonleft,\n",
    "        'outset': outset,\n",
    "        'eqnidxs':eqnidxs,\n",
    "        'varidxs':varidxs,\n",
    "        'D':D\n",
    "    }\n",
    "    return kwargs"
   ]
  },
  {
   "cell_type": "code",
   "execution_count": 9,
   "id": "adc6ecec-855d-4a42-a13c-54dc34189885",
   "metadata": {
    "execution": {
     "iopub.execute_input": "2022-07-28T21:13:58.907950Z",
     "iopub.status.busy": "2022-07-28T21:13:58.906951Z",
     "iopub.status.idle": "2022-07-28T21:13:58.919266Z",
     "shell.execute_reply": "2022-07-28T21:13:58.918481Z",
     "shell.execute_reply.started": "2022-07-28T21:13:58.907950Z"
    },
    "tags": []
   },
   "outputs": [],
   "source": [
    "import collections\n",
    "from collections.abc import Iterable\n",
    "\n",
    "#https://stackoverflow.com/questions/6710834/iterating-over-list-or-single-element-in-python\n",
    "def get_iterable(x):\n",
    "    if isinstance(x, Iterable) and not isinstance(x, str):\n",
    "        return x\n",
    "    else:\n",
    "        return (x,)"
   ]
  },
  {
   "cell_type": "code",
   "execution_count": 27,
   "id": "8ffa6424-e583-455b-bc5d-57dbcca1adc1",
   "metadata": {
    "execution": {
     "iopub.execute_input": "2022-07-28T21:19:00.589037Z",
     "iopub.status.busy": "2022-07-28T21:19:00.588075Z",
     "iopub.status.idle": "2022-07-28T21:19:00.602041Z",
     "shell.execute_reply": "2022-07-28T21:19:00.601039Z",
     "shell.execute_reply.started": "2022-07-28T21:19:00.588075Z"
    },
    "tags": []
   },
   "outputs": [],
   "source": [
    "def run_calculations(df, fxs, iter_cycles=None, filename=None):\n",
    "    iter_over = iter_cycles if iter_cycles else len(df)\n",
    "    f = IntProgress(min=0, max=iter_over) # instantiate the bar\n",
    "    display(f)\n",
    "    pd.options.mode.chained_assignment = None\n",
    "    fxs = {get_iterable(names):fx for names,fx in fxs.items()}\n",
    "    for names in fxs.keys():\n",
    "        for name in names:\n",
    "            if name not in df:\n",
    "                df[name] = None\n",
    "    for idx in islice(df.index,iter_over):\n",
    "        row = df.iloc[idx]\n",
    "        m,n,seed,sparsity = [df.at[idx,colname] for colname in ['m','n','seed','sparsity']]\n",
    "        for names,fx in fxs.items():\n",
    "            if any(pd.isna(row[name]) for name in names):\n",
    "                kwargs = custom_calculation_args(m,n,seed,sparsity)\n",
    "                out = fx(**kwargs)\n",
    "                for name, val in zip(names, get_iterable(out)):\n",
    "                    df[name][idx] = val\n",
    "                if filename:\n",
    "                    df.to_csv(filename)\n",
    "        f.value += 1"
   ]
  },
  {
   "cell_type": "code",
   "execution_count": 11,
   "id": "c599585f-60ea-4d8f-a9ba-be360f4782f8",
   "metadata": {
    "execution": {
     "iopub.execute_input": "2022-07-28T21:13:59.857618Z",
     "iopub.status.busy": "2022-07-28T21:13:59.857618Z",
     "iopub.status.idle": "2022-07-28T21:13:59.867821Z",
     "shell.execute_reply": "2022-07-28T21:13:59.866706Z",
     "shell.execute_reply.started": "2022-07-28T21:13:59.857618Z"
    },
    "tags": []
   },
   "outputs": [],
   "source": [
    "def max_scc_calculations(D=None, **kwargs):\n",
    "    max_scc = max(len(elt) for elt in nx.strongly_connected_components(D))//2\n",
    "    return max_scc"
   ]
  },
  {
   "cell_type": "code",
   "execution_count": 12,
   "id": "31fa8dbf-739d-4c10-ad34-f1ccd0e936eb",
   "metadata": {
    "execution": {
     "iopub.execute_input": "2022-07-28T21:14:00.519807Z",
     "iopub.status.busy": "2022-07-28T21:14:00.518741Z",
     "iopub.status.idle": "2022-07-28T21:14:00.535890Z",
     "shell.execute_reply": "2022-07-28T21:14:00.534649Z",
     "shell.execute_reply.started": "2022-07-28T21:14:00.519807Z"
    },
    "tags": []
   },
   "outputs": [],
   "source": [
    "def min_FAS_calculations(edges_varonleft=None, varidxs=None, eqnidxs=None, outset=None, **kwargs):\n",
    "    try:\n",
    "        cycles, elimset, m = min_arc_set(edges_varonleft, outset, varidxs, eqnidxs, timeout=timeout)\n",
    "        return (m.Runtime, len(elimset))\n",
    "    except:\n",
    "        return (100,999)"
   ]
  },
  {
   "cell_type": "code",
   "execution_count": 13,
   "id": "36e4ca42-c0e9-4229-a6c2-a648b4dba58b",
   "metadata": {
    "execution": {
     "iopub.execute_input": "2022-07-28T21:14:00.920102Z",
     "iopub.status.busy": "2022-07-28T21:14:00.920102Z",
     "iopub.status.idle": "2022-07-28T21:14:00.938667Z",
     "shell.execute_reply": "2022-07-28T21:14:00.937635Z",
     "shell.execute_reply.started": "2022-07-28T21:14:00.920102Z"
    },
    "tags": []
   },
   "outputs": [],
   "source": [
    "def min_max_scc_calculations(edges_varonleft=None, varidxs=None, eqnidxs=None, **kwargs):\n",
    "    xsol, m = min_max_scc2(edges_varonleft, varidxs, eqnidxs, timeout=timeout)\n",
    "    if xsol:\n",
    "        selected = tuple((right, left) for left, right in edges_varonleft if xsol[left, right] > 0.5)\n",
    "        D = nx.DiGraph(dir_graph(edges_varonleft, eqnidxs, selected))\n",
    "        minssc = max(len(elt) for elt in nx.strongly_connected_components(D))//2\n",
    "        minssc = max(minssc,0)\n",
    "    else:\n",
    "        minssc = 999\n",
    "    return (m.Runtime, minssc)"
   ]
  },
  {
   "cell_type": "code",
   "execution_count": 14,
   "id": "44ff7352-59c9-49c4-bb0b-f54c03322655",
   "metadata": {
    "execution": {
     "iopub.execute_input": "2022-07-28T21:14:03.933843Z",
     "iopub.status.busy": "2022-07-28T21:14:03.932830Z",
     "iopub.status.idle": "2022-07-28T21:14:03.948852Z",
     "shell.execute_reply": "2022-07-28T21:14:03.947855Z",
     "shell.execute_reply.started": "2022-07-28T21:14:03.933843Z"
    },
    "tags": []
   },
   "outputs": [],
   "source": [
    "def min_tear_calculations(edges_varonleft=None, varidxs=None, eqnidxs=None, outset=None, **kwargs):\n",
    "    ins = {vr for vr in varidxs if vr not in outset.values()}\n",
    "    xsol, m = min_arc_set_assign(edges_varonleft, varidxs, eqnidxs, not_output=ins, timeout=timeout)\n",
    "    if xsol:\n",
    "        n_eqs = len(eqnidxs)\n",
    "        selected = dict((right, left-n_eqs) for left, right in edges_varonleft if xsol[left, right] > 0.5)\n",
    "        guessvars = n_eqs-len(selected)\n",
    "    else:\n",
    "        guessvars = 999\n",
    "    return m.Runtime, guessvars"
   ]
  },
  {
   "cell_type": "code",
   "execution_count": 15,
   "id": "de60d734-be19-4469-a66e-799bc2e4e08c",
   "metadata": {
    "execution": {
     "iopub.execute_input": "2022-07-28T21:14:04.672904Z",
     "iopub.status.busy": "2022-07-28T21:14:04.671904Z",
     "iopub.status.idle": "2022-07-28T21:14:04.682771Z",
     "shell.execute_reply": "2022-07-28T21:14:04.681396Z",
     "shell.execute_reply.started": "2022-07-28T21:14:04.672904Z"
    },
    "tags": []
   },
   "outputs": [],
   "source": [
    "def min_assign_calculations(edges_varonleft=None, varidxs=None, eqnidxs=None, **kwargs):\n",
    "    xsol, m = min_arc_set_assign(edges_varonleft, varidxs, eqnidxs, timeout=timeout)\n",
    "    if xsol:\n",
    "        n_eqs = len(eqnidxs)\n",
    "        selected = dict((right, left-n_eqs) for left, right in edges_varonleft if xsol[left, right] > 0.5)\n",
    "        guessvars = n_eqs-len(selected)\n",
    "    else:\n",
    "        guessvars = 999\n",
    "    return m.Runtime, guessvars"
   ]
  },
  {
   "cell_type": "code",
   "execution_count": 16,
   "id": "be5f3af7-018c-4879-b929-60325c8de057",
   "metadata": {
    "execution": {
     "iopub.execute_input": "2022-07-28T21:14:07.620994Z",
     "iopub.status.busy": "2022-07-28T21:14:07.619413Z",
     "iopub.status.idle": "2022-07-28T21:14:07.635523Z",
     "shell.execute_reply": "2022-07-28T21:14:07.634235Z",
     "shell.execute_reply.started": "2022-07-28T21:14:07.620792Z"
    },
    "tags": []
   },
   "outputs": [],
   "source": [
    "def feedbacks_calculations(D=None, eqnidxs=None, **kwargs):\n",
    "    guess, feedback_components = feedbacks(D, eqnidxs)\n",
    "    return len(guess)    "
   ]
  },
  {
   "cell_type": "code",
   "execution_count": 33,
   "id": "498ddb9e-de93-4598-b290-7f67cbcb7d10",
   "metadata": {
    "execution": {
     "iopub.execute_input": "2022-07-28T23:20:49.632143Z",
     "iopub.status.busy": "2022-07-28T23:20:49.632143Z",
     "iopub.status.idle": "2022-07-28T23:20:49.864009Z",
     "shell.execute_reply": "2022-07-28T23:20:49.862934Z",
     "shell.execute_reply.started": "2022-07-28T23:20:49.632143Z"
    },
    "tags": []
   },
   "outputs": [],
   "source": [
    "#(10,),(0.1,0.2,0.5),(0.5,1.,1.5),range(10)\n",
    "#df = None\n",
    "df = generate_problem((10,20,30,40,50),(0.5,),(1,2,3),range(10), df=df) #0.2,0.5,"
   ]
  },
  {
   "cell_type": "code",
   "execution_count": 17,
   "id": "01c48832-57ec-4df2-bcc8-e6a61135730e",
   "metadata": {
    "execution": {
     "iopub.execute_input": "2022-07-28T21:14:12.453900Z",
     "iopub.status.busy": "2022-07-28T21:14:12.452744Z",
     "iopub.status.idle": "2022-07-28T21:14:12.469292Z",
     "shell.execute_reply": "2022-07-28T21:14:12.467977Z",
     "shell.execute_reply.started": "2022-07-28T21:14:12.453900Z"
    },
    "tags": []
   },
   "outputs": [],
   "source": [
    "filename = 'full_experiments_density_indep_n.csv'"
   ]
  },
  {
   "cell_type": "code",
   "execution_count": 18,
   "id": "ca1fae35-dd49-4d9e-8dd5-94af1d1e7b94",
   "metadata": {
    "execution": {
     "iopub.execute_input": "2022-07-28T21:14:13.275973Z",
     "iopub.status.busy": "2022-07-28T21:14:13.274973Z",
     "iopub.status.idle": "2022-07-28T21:14:13.290131Z",
     "shell.execute_reply": "2022-07-28T21:14:13.289129Z",
     "shell.execute_reply.started": "2022-07-28T21:14:13.274973Z"
    },
    "tags": []
   },
   "outputs": [],
   "source": [
    "df = pd.read_csv(filename, index_col=0)"
   ]
  },
  {
   "cell_type": "code",
   "execution_count": 35,
   "id": "74f969c2-a835-40f4-a209-7f12ef75c04e",
   "metadata": {
    "execution": {
     "iopub.execute_input": "2022-07-28T17:06:18.933543Z",
     "iopub.status.busy": "2022-07-28T17:06:18.932538Z",
     "iopub.status.idle": "2022-07-28T17:06:18.943347Z",
     "shell.execute_reply": "2022-07-28T17:06:18.943206Z",
     "shell.execute_reply.started": "2022-07-28T17:06:18.933543Z"
    },
    "tags": []
   },
   "outputs": [],
   "source": [
    "#dfcorrected = df[~((df[\"sparsity\"]==4) & (df[\"maxscc\"].isna()))]"
   ]
  },
  {
   "cell_type": "code",
   "execution_count": 37,
   "id": "7173729f-70b0-4f09-b1c5-989edc80aae1",
   "metadata": {
    "execution": {
     "iopub.execute_input": "2022-07-28T23:26:00.060600Z",
     "iopub.status.busy": "2022-07-28T23:26:00.060600Z",
     "iopub.status.idle": "2022-07-28T23:32:49.895289Z",
     "shell.execute_reply": "2022-07-28T23:32:49.894996Z",
     "shell.execute_reply.started": "2022-07-28T23:26:00.060600Z"
    },
    "tags": []
   },
   "outputs": [
    {
     "data": {
      "application/vnd.jupyter.widget-view+json": {
       "model_id": "82b89168c4c7495ca37526aa583cab29",
       "version_major": 2,
       "version_minor": 0
      },
      "text/plain": [
       "IntProgress(value=0, max=555)"
      ]
     },
     "metadata": {},
     "output_type": "display_data"
    }
   ],
   "source": [
    "list_of_calculations = {\n",
    "    'maxscc': max_scc_calculations, \n",
    "    'guess': feedbacks_calculations,\n",
    "    'density': lambda eq_incidence=None, **kwargs: np.mean([len(val) for val in eq_incidence.values()]),\n",
    "    ('timeMINFAS','MINFAS'): min_FAS_calculations,\n",
    "    ('timetearpart','mintearpart'): min_tear_calculations,\n",
    "    ('timetearfull','mintearfull'): min_assign_calculations,\n",
    "    ('timescc','minscc'): min_max_scc_calculations,\n",
    "}\n",
    "run_calculations(df, list_of_calculations, filename=filename)"
   ]
  },
  {
   "cell_type": "code",
   "execution_count": 33,
   "id": "9f12612c-aec1-4a90-b8af-62b08fcee7ae",
   "metadata": {
    "execution": {
     "iopub.execute_input": "2022-07-28T17:06:14.050954Z",
     "iopub.status.busy": "2022-07-28T17:06:14.050954Z",
     "iopub.status.idle": "2022-07-28T17:06:14.078744Z",
     "shell.execute_reply": "2022-07-28T17:06:14.078313Z",
     "shell.execute_reply.started": "2022-07-28T17:06:14.050954Z"
    },
    "tags": []
   },
   "outputs": [],
   "source": [
    "dfcorrected.to_csv(filename)"
   ]
  },
  {
   "cell_type": "code",
   "execution_count": 27,
   "id": "3c299506-2b8a-4dba-a906-07ebcc91b2d4",
   "metadata": {
    "execution": {
     "iopub.execute_input": "2022-07-27T18:58:54.028155Z",
     "iopub.status.busy": "2022-07-27T18:58:54.028155Z",
     "iopub.status.idle": "2022-07-27T18:58:54.048972Z",
     "shell.execute_reply": "2022-07-27T18:58:54.048385Z",
     "shell.execute_reply.started": "2022-07-27T18:58:54.028155Z"
    },
    "tags": []
   },
   "outputs": [
    {
     "data": {
      "text/html": [
       "<div>\n",
       "<style scoped>\n",
       "    .dataframe tbody tr th:only-of-type {\n",
       "        vertical-align: middle;\n",
       "    }\n",
       "\n",
       "    .dataframe tbody tr th {\n",
       "        vertical-align: top;\n",
       "    }\n",
       "\n",
       "    .dataframe thead th {\n",
       "        text-align: right;\n",
       "    }\n",
       "</style>\n",
       "<table border=\"1\" class=\"dataframe\">\n",
       "  <thead>\n",
       "    <tr style=\"text-align: right;\">\n",
       "      <th></th>\n",
       "      <th>m</th>\n",
       "      <th>ncoeff</th>\n",
       "      <th>n</th>\n",
       "      <th>sparsity</th>\n",
       "      <th>seed</th>\n",
       "      <th>maxscc</th>\n",
       "      <th>guess</th>\n",
       "      <th>timeMINFAS</th>\n",
       "      <th>MINFAS</th>\n",
       "      <th>timetearpart</th>\n",
       "      <th>mintearpart</th>\n",
       "      <th>timetearfull</th>\n",
       "      <th>mintearfull</th>\n",
       "      <th>timescc</th>\n",
       "      <th>minscc</th>\n",
       "      <th>density</th>\n",
       "    </tr>\n",
       "  </thead>\n",
       "  <tbody>\n",
       "    <tr>\n",
       "      <th>0</th>\n",
       "      <td>10</td>\n",
       "      <td>0.1</td>\n",
       "      <td>11</td>\n",
       "      <td>3</td>\n",
       "      <td>0</td>\n",
       "      <td>10</td>\n",
       "      <td>6</td>\n",
       "      <td>0.004206</td>\n",
       "      <td>3</td>\n",
       "      <td>0.029558</td>\n",
       "      <td>1</td>\n",
       "      <td>0.021088</td>\n",
       "      <td>1</td>\n",
       "      <td>0.012703</td>\n",
       "      <td>4</td>\n",
       "      <td>3.2</td>\n",
       "    </tr>\n",
       "    <tr>\n",
       "      <th>1</th>\n",
       "      <td>10</td>\n",
       "      <td>0.1</td>\n",
       "      <td>11</td>\n",
       "      <td>3</td>\n",
       "      <td>1</td>\n",
       "      <td>10</td>\n",
       "      <td>4</td>\n",
       "      <td>0.009693</td>\n",
       "      <td>2</td>\n",
       "      <td>0.329609</td>\n",
       "      <td>2</td>\n",
       "      <td>0.672915</td>\n",
       "      <td>2</td>\n",
       "      <td>0.039564</td>\n",
       "      <td>9</td>\n",
       "      <td>4.1</td>\n",
       "    </tr>\n",
       "    <tr>\n",
       "      <th>2</th>\n",
       "      <td>10</td>\n",
       "      <td>0.1</td>\n",
       "      <td>11</td>\n",
       "      <td>3</td>\n",
       "      <td>2</td>\n",
       "      <td>10</td>\n",
       "      <td>5</td>\n",
       "      <td>0.004</td>\n",
       "      <td>2</td>\n",
       "      <td>0.072231</td>\n",
       "      <td>1</td>\n",
       "      <td>0.07325</td>\n",
       "      <td>0</td>\n",
       "      <td>0.003826</td>\n",
       "      <td>0</td>\n",
       "      <td>3.7</td>\n",
       "    </tr>\n",
       "    <tr>\n",
       "      <th>3</th>\n",
       "      <td>10</td>\n",
       "      <td>0.1</td>\n",
       "      <td>11</td>\n",
       "      <td>3</td>\n",
       "      <td>3</td>\n",
       "      <td>10</td>\n",
       "      <td>8</td>\n",
       "      <td>0.014692</td>\n",
       "      <td>4</td>\n",
       "      <td>0.247854</td>\n",
       "      <td>2</td>\n",
       "      <td>0.331308</td>\n",
       "      <td>2</td>\n",
       "      <td>0.041113</td>\n",
       "      <td>9</td>\n",
       "      <td>3.7</td>\n",
       "    </tr>\n",
       "    <tr>\n",
       "      <th>4</th>\n",
       "      <td>10</td>\n",
       "      <td>0.1</td>\n",
       "      <td>11</td>\n",
       "      <td>3</td>\n",
       "      <td>4</td>\n",
       "      <td>8</td>\n",
       "      <td>7</td>\n",
       "      <td>0.004999</td>\n",
       "      <td>3</td>\n",
       "      <td>0.247375</td>\n",
       "      <td>2</td>\n",
       "      <td>0.303759</td>\n",
       "      <td>2</td>\n",
       "      <td>0.032488</td>\n",
       "      <td>6</td>\n",
       "      <td>4.1</td>\n",
       "    </tr>\n",
       "    <tr>\n",
       "      <th>...</th>\n",
       "      <td>...</td>\n",
       "      <td>...</td>\n",
       "      <td>...</td>\n",
       "      <td>...</td>\n",
       "      <td>...</td>\n",
       "      <td>...</td>\n",
       "      <td>...</td>\n",
       "      <td>...</td>\n",
       "      <td>...</td>\n",
       "      <td>...</td>\n",
       "      <td>...</td>\n",
       "      <td>...</td>\n",
       "      <td>...</td>\n",
       "      <td>...</td>\n",
       "      <td>...</td>\n",
       "      <td>...</td>\n",
       "    </tr>\n",
       "    <tr>\n",
       "      <th>265</th>\n",
       "      <td>30</td>\n",
       "      <td>0.5</td>\n",
       "      <td>45</td>\n",
       "      <td>5</td>\n",
       "      <td>5</td>\n",
       "      <td>None</td>\n",
       "      <td>None</td>\n",
       "      <td>None</td>\n",
       "      <td>None</td>\n",
       "      <td>None</td>\n",
       "      <td>None</td>\n",
       "      <td>None</td>\n",
       "      <td>None</td>\n",
       "      <td>None</td>\n",
       "      <td>None</td>\n",
       "      <td>None</td>\n",
       "    </tr>\n",
       "    <tr>\n",
       "      <th>266</th>\n",
       "      <td>30</td>\n",
       "      <td>0.5</td>\n",
       "      <td>45</td>\n",
       "      <td>5</td>\n",
       "      <td>6</td>\n",
       "      <td>None</td>\n",
       "      <td>None</td>\n",
       "      <td>None</td>\n",
       "      <td>None</td>\n",
       "      <td>None</td>\n",
       "      <td>None</td>\n",
       "      <td>None</td>\n",
       "      <td>None</td>\n",
       "      <td>None</td>\n",
       "      <td>None</td>\n",
       "      <td>None</td>\n",
       "    </tr>\n",
       "    <tr>\n",
       "      <th>267</th>\n",
       "      <td>30</td>\n",
       "      <td>0.5</td>\n",
       "      <td>45</td>\n",
       "      <td>5</td>\n",
       "      <td>7</td>\n",
       "      <td>None</td>\n",
       "      <td>None</td>\n",
       "      <td>None</td>\n",
       "      <td>None</td>\n",
       "      <td>None</td>\n",
       "      <td>None</td>\n",
       "      <td>None</td>\n",
       "      <td>None</td>\n",
       "      <td>None</td>\n",
       "      <td>None</td>\n",
       "      <td>None</td>\n",
       "    </tr>\n",
       "    <tr>\n",
       "      <th>268</th>\n",
       "      <td>30</td>\n",
       "      <td>0.5</td>\n",
       "      <td>45</td>\n",
       "      <td>5</td>\n",
       "      <td>8</td>\n",
       "      <td>None</td>\n",
       "      <td>None</td>\n",
       "      <td>None</td>\n",
       "      <td>None</td>\n",
       "      <td>None</td>\n",
       "      <td>None</td>\n",
       "      <td>None</td>\n",
       "      <td>None</td>\n",
       "      <td>None</td>\n",
       "      <td>None</td>\n",
       "      <td>None</td>\n",
       "    </tr>\n",
       "    <tr>\n",
       "      <th>269</th>\n",
       "      <td>30</td>\n",
       "      <td>0.5</td>\n",
       "      <td>45</td>\n",
       "      <td>5</td>\n",
       "      <td>9</td>\n",
       "      <td>None</td>\n",
       "      <td>None</td>\n",
       "      <td>None</td>\n",
       "      <td>None</td>\n",
       "      <td>None</td>\n",
       "      <td>None</td>\n",
       "      <td>None</td>\n",
       "      <td>None</td>\n",
       "      <td>None</td>\n",
       "      <td>None</td>\n",
       "      <td>None</td>\n",
       "    </tr>\n",
       "  </tbody>\n",
       "</table>\n",
       "<p>270 rows × 16 columns</p>\n",
       "</div>"
      ],
      "text/plain": [
       "      m  ncoeff   n  sparsity  seed maxscc guess timeMINFAS MINFAS  \\\n",
       "0    10     0.1  11         3     0     10     6   0.004206      3   \n",
       "1    10     0.1  11         3     1     10     4   0.009693      2   \n",
       "2    10     0.1  11         3     2     10     5      0.004      2   \n",
       "3    10     0.1  11         3     3     10     8   0.014692      4   \n",
       "4    10     0.1  11         3     4      8     7   0.004999      3   \n",
       "..   ..     ...  ..       ...   ...    ...   ...        ...    ...   \n",
       "265  30     0.5  45         5     5   None  None       None   None   \n",
       "266  30     0.5  45         5     6   None  None       None   None   \n",
       "267  30     0.5  45         5     7   None  None       None   None   \n",
       "268  30     0.5  45         5     8   None  None       None   None   \n",
       "269  30     0.5  45         5     9   None  None       None   None   \n",
       "\n",
       "    timetearpart mintearpart timetearfull mintearfull   timescc minscc density  \n",
       "0       0.029558           1     0.021088           1  0.012703      4     3.2  \n",
       "1       0.329609           2     0.672915           2  0.039564      9     4.1  \n",
       "2       0.072231           1      0.07325           0  0.003826      0     3.7  \n",
       "3       0.247854           2     0.331308           2  0.041113      9     3.7  \n",
       "4       0.247375           2     0.303759           2  0.032488      6     4.1  \n",
       "..           ...         ...          ...         ...       ...    ...     ...  \n",
       "265         None        None         None        None      None   None    None  \n",
       "266         None        None         None        None      None   None    None  \n",
       "267         None        None         None        None      None   None    None  \n",
       "268         None        None         None        None      None   None    None  \n",
       "269         None        None         None        None      None   None    None  \n",
       "\n",
       "[270 rows x 16 columns]"
      ]
     },
     "execution_count": 27,
     "metadata": {},
     "output_type": "execute_result"
    }
   ],
   "source": [
    "plot.plo"
   ]
  },
  {
   "cell_type": "code",
   "execution_count": 17,
   "id": "b1e9cdae-888f-42c0-9fd9-65e6d87a0f20",
   "metadata": {
    "execution": {
     "iopub.execute_input": "2022-07-11T02:38:45.429351Z",
     "iopub.status.busy": "2022-07-11T02:38:45.429351Z",
     "iopub.status.idle": "2022-07-11T02:38:45.448936Z",
     "shell.execute_reply": "2022-07-11T02:38:45.448936Z",
     "shell.execute_reply.started": "2022-07-11T02:38:45.429351Z"
    },
    "tags": []
   },
   "outputs": [
    {
     "data": {
      "text/plain": [
       "m                  10\n",
       "ncoeff            0.5\n",
       "n                  15\n",
       "sparsity          1.5\n",
       "seed                7\n",
       "maxscc             10\n",
       "guess               8\n",
       "timescc      6.470394\n",
       "minscc              4\n",
       "timeguess    2.841425\n",
       "minguess            2\n",
       "Name: 27, dtype: object"
      ]
     },
     "execution_count": 17,
     "metadata": {},
     "output_type": "execute_result"
    }
   ],
   "source": [
    "df.iloc[27]"
   ]
  },
  {
   "cell_type": "code",
   "execution_count": 18,
   "id": "274f33ef-f749-48b4-9a91-2470c99cf47f",
   "metadata": {
    "execution": {
     "iopub.execute_input": "2022-07-11T02:38:47.162967Z",
     "iopub.status.busy": "2022-07-11T02:38:47.162001Z",
     "iopub.status.idle": "2022-07-11T02:38:47.179698Z",
     "shell.execute_reply": "2022-07-11T02:38:47.179698Z",
     "shell.execute_reply.started": "2022-07-11T02:38:47.162967Z"
    },
    "tags": []
   },
   "outputs": [],
   "source": [
    "edges_varonleft,varidxs,eqnidxs = (custom_calculation_args(10,15,7,1.5)[arg] for arg in ['edges_varonleft', 'varidxs', 'eqnidxs'])"
   ]
  },
  {
   "cell_type": "code",
   "execution_count": 19,
   "id": "d3b4f3f4-1d57-430b-a5f9-ef81e6993b27",
   "metadata": {
    "execution": {
     "iopub.execute_input": "2022-07-11T02:38:47.740285Z",
     "iopub.status.busy": "2022-07-11T02:38:47.740285Z",
     "iopub.status.idle": "2022-07-11T02:38:53.947116Z",
     "shell.execute_reply": "2022-07-11T02:38:53.947116Z",
     "shell.execute_reply.started": "2022-07-11T02:38:47.740285Z"
    },
    "tags": []
   },
   "outputs": [],
   "source": [
    "xsol, m = min_max_scc2(edges_varonleft, varidxs, eqnidxs, timeout=20)"
   ]
  },
  {
   "cell_type": "code",
   "execution_count": 20,
   "id": "f76c33f9-29e2-40fa-8c0c-fca43b21c0d5",
   "metadata": {
    "execution": {
     "iopub.execute_input": "2022-07-11T02:38:55.609979Z",
     "iopub.status.busy": "2022-07-11T02:38:55.608964Z",
     "iopub.status.idle": "2022-07-11T02:38:55.623885Z",
     "shell.execute_reply": "2022-07-11T02:38:55.622982Z",
     "shell.execute_reply.started": "2022-07-11T02:38:55.609979Z"
    },
    "tags": []
   },
   "outputs": [],
   "source": [
    "selected = tuple((right, left) for left, right in edges_varonleft if xsol[left, right] > 0.5)"
   ]
  },
  {
   "cell_type": "code",
   "execution_count": 21,
   "id": "f162ef6c-f1a4-480a-acce-bfe4e173708c",
   "metadata": {
    "execution": {
     "iopub.execute_input": "2022-07-11T02:38:56.004025Z",
     "iopub.status.busy": "2022-07-11T02:38:56.004025Z",
     "iopub.status.idle": "2022-07-11T02:38:56.012968Z",
     "shell.execute_reply": "2022-07-11T02:38:56.012822Z",
     "shell.execute_reply.started": "2022-07-11T02:38:56.004025Z"
    },
    "tags": []
   },
   "outputs": [],
   "source": [
    "D = nx.DiGraph(dir_graph(edges_varonleft, eqnidxs, selected))\n",
    "minassign_order = sort_scc(D, lambda x: x in eqnidxs)"
   ]
  },
  {
   "cell_type": "code",
   "execution_count": 22,
   "id": "906d3530-8f90-4b39-8da6-d0e85af9b775",
   "metadata": {
    "execution": {
     "iopub.execute_input": "2022-07-11T02:38:56.530379Z",
     "iopub.status.busy": "2022-07-11T02:38:56.529207Z",
     "iopub.status.idle": "2022-07-11T02:38:56.544388Z",
     "shell.execute_reply": "2022-07-11T02:38:56.544388Z",
     "shell.execute_reply.started": "2022-07-11T02:38:56.530379Z"
    },
    "tags": []
   },
   "outputs": [
    {
     "data": {
      "text/plain": [
       "[{3}, {2}, {0, 6, 7, 8}, {1, 5}, {9}, {4}]"
      ]
     },
     "execution_count": 22,
     "metadata": {},
     "output_type": "execute_result"
    }
   ],
   "source": [
    "minassign_order"
   ]
  },
  {
   "cell_type": "code",
   "execution_count": 248,
   "id": "5ccd05db-5582-430f-88d9-966ea1e0f795",
   "metadata": {
    "execution": {
     "iopub.execute_input": "2022-07-11T01:22:51.968811Z",
     "iopub.status.busy": "2022-07-11T01:22:51.968811Z",
     "iopub.status.idle": "2022-07-11T01:22:51.988140Z",
     "shell.execute_reply": "2022-07-11T01:22:51.987228Z",
     "shell.execute_reply.started": "2022-07-11T01:22:51.968811Z"
    },
    "tags": []
   },
   "outputs": [],
   "source": [
    "kwargs = custom_calculation_args(10,15,0,1.)"
   ]
  },
  {
   "cell_type": "code",
   "execution_count": 253,
   "id": "cc9be2e8-ba42-4bcc-9c9c-739d5e41aab4",
   "metadata": {
    "execution": {
     "iopub.execute_input": "2022-07-11T01:23:57.250415Z",
     "iopub.status.busy": "2022-07-11T01:23:57.250415Z",
     "iopub.status.idle": "2022-07-11T01:23:57.264542Z",
     "shell.execute_reply": "2022-07-11T01:23:57.263583Z",
     "shell.execute_reply.started": "2022-07-11T01:23:57.250415Z"
    },
    "tags": []
   },
   "outputs": [],
   "source": [
    "edges_varonleft,varidxs,eqnidxs = kwargs['edges_varonleft'], kwargs['varidxs'], kwargs['eqnidxs']"
   ]
  },
  {
   "cell_type": "code",
   "execution_count": 256,
   "id": "df1ec048-b469-46a2-a7fd-abdf67686f48",
   "metadata": {
    "execution": {
     "iopub.execute_input": "2022-07-11T01:24:10.343893Z",
     "iopub.status.busy": "2022-07-11T01:24:10.342891Z",
     "iopub.status.idle": "2022-07-11T01:24:10.353082Z",
     "shell.execute_reply": "2022-07-11T01:24:10.353082Z",
     "shell.execute_reply.started": "2022-07-11T01:24:10.343893Z"
    },
    "tags": []
   },
   "outputs": [],
   "source": [
    "xout, m = min_max_scc_calculations(edges_varonleft, varidxs, eqnidxs);"
   ]
  },
  {
   "cell_type": "code",
   "execution_count": 259,
   "id": "063f7514-9bc7-47e2-878e-6c884f6db869",
   "metadata": {
    "execution": {
     "iopub.execute_input": "2022-07-11T01:24:23.902942Z",
     "iopub.status.busy": "2022-07-11T01:24:23.902942Z",
     "iopub.status.idle": "2022-07-11T01:24:23.918976Z",
     "shell.execute_reply": "2022-07-11T01:24:23.917975Z",
     "shell.execute_reply.started": "2022-07-11T01:24:23.902942Z"
    },
    "tags": []
   },
   "outputs": [
    {
     "data": {
      "text/plain": [
       "10.0"
      ]
     },
     "execution_count": 259,
     "metadata": {},
     "output_type": "execute_result"
    }
   ],
   "source": [
    "m.objVal"
   ]
  },
  {
   "cell_type": "code",
   "execution_count": 25,
   "id": "b4f449da-82eb-46a1-95a4-48e5f5b4d537",
   "metadata": {
    "execution": {
     "iopub.execute_input": "2022-07-11T00:12:32.139945Z",
     "iopub.status.busy": "2022-07-11T00:12:32.139945Z",
     "iopub.status.idle": "2022-07-11T00:12:32.161932Z",
     "shell.execute_reply": "2022-07-11T00:12:32.160930Z",
     "shell.execute_reply.started": "2022-07-11T00:12:32.139945Z"
    },
    "tags": []
   },
   "outputs": [
    {
     "data": {
      "text/plain": [
       "{12, 13, 14, 15, 16, 19, 20, 23}"
      ]
     },
     "execution_count": 25,
     "metadata": {},
     "output_type": "execute_result"
    }
   ],
   "source": [
    "feedbacks(D, eqnidxs)"
   ]
  },
  {
   "cell_type": "code",
   "execution_count": 7,
   "id": "4bc7c695-489f-4285-9612-42816217097e",
   "metadata": {
    "execution": {
     "iopub.execute_input": "2022-07-11T00:09:44.604799Z",
     "iopub.status.busy": "2022-07-11T00:09:44.604799Z",
     "iopub.status.idle": "2022-07-11T00:09:44.619551Z",
     "shell.execute_reply": "2022-07-11T00:09:44.619551Z",
     "shell.execute_reply.started": "2022-07-11T00:09:44.604799Z"
    },
    "tags": []
   },
   "outputs": [],
   "source": [
    "edges_default = invert_edges(eq_incidence, newout=outset)\n",
    "tree_default = ({elt:1 for elt in eqnidxs},{},{})"
   ]
  },
  {
   "cell_type": "code",
   "execution_count": 9,
   "id": "d4b77587-1d64-4822-a4a3-c53544fad416",
   "metadata": {
    "execution": {
     "iopub.execute_input": "2022-07-11T00:09:45.046582Z",
     "iopub.status.busy": "2022-07-11T00:09:45.046582Z",
     "iopub.status.idle": "2022-07-11T00:09:45.447506Z",
     "shell.execute_reply": "2022-07-11T00:09:45.446624Z",
     "shell.execute_reply.started": "2022-07-11T00:09:45.046582Z"
    },
    "tags": []
   },
   "outputs": [
    {
     "data": {
      "image/png": "[encoded data removed]",
      "text/plain": [
       "<Figure size 432x288 with 1 Axes>"
      ]
     },
     "metadata": {
      "needs_background": "light"
     },
     "output_type": "display_data"
    }
   ],
   "source": [
    "_, ax = render_incidence(edges_default, tree_default)"
   ]
  },
  {
   "cell_type": "code",
   "execution_count": null,
   "id": "8283d728-80cb-4850-8a95-f3cbe58bcfa8",
   "metadata": {},
   "outputs": [],
   "source": []
  }
 ],
 "metadata": {
  "kernelspec": {
   "display_name": "Python [conda env:minimdo]",
   "language": "python",
   "name": "conda-env-minimdo-py"
  },
  "language_info": {
   "codemirror_mode": {
    "name": "ipython",
    "version": 3
   },
   "file_extension": ".py",
   "mimetype": "text/x-python",
   "name": "python",
   "nbconvert_exporter": "python",
   "pygments_lexer": "ipython3",
   "version": "3.9.12"
  }
 },
 "nbformat": 4,
 "nbformat_minor": 5
}
