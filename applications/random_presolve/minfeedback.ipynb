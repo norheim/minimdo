{
 "cells": [
  {
   "cell_type": "code",
   "execution_count": 1,
   "id": "9b54a3d1-0489-4f46-9d43-00143e02c969",
   "metadata": {
    "execution": {
     "iopub.execute_input": "2022-07-12T14:07:54.160439Z",
     "iopub.status.busy": "2022-07-12T14:07:54.159784Z",
     "iopub.status.idle": "2022-07-12T14:07:57.174812Z",
     "shell.execute_reply": "2022-07-12T14:07:57.173488Z",
     "shell.execute_reply.started": "2022-07-12T14:07:54.160439Z"
    },
    "tags": []
   },
   "outputs": [],
   "source": [
    "from testproblems import generate_random_prob, random_problem_with_artifacts\n",
    "from representations import bipartite_repr\n",
    "from inputresolver import resolve,invert_edges,getallvars,direct_eqs\n",
    "from datastructures.polycasebuilder import eqv_to_edges_tree\n",
    "from datastructures.graphutils import flat_graph_formulation, draw_graph_graphical_props, VAR, COMP, SOLVER, Node, namefromid\n",
    "from datastructures.operators import sort_scc\n",
    "#from networkx.algorithms.bipartite import random_graph as bipartite_random_graph"
   ]
  },
  {
   "cell_type": "code",
   "execution_count": 2,
   "id": "4bd7a66b-7e88-41bc-8e05-63d340f0be7d",
   "metadata": {
    "execution": {
     "iopub.execute_input": "2022-07-12T14:07:57.176578Z",
     "iopub.status.busy": "2022-07-12T14:07:57.176578Z",
     "iopub.status.idle": "2022-07-12T14:07:57.190298Z",
     "shell.execute_reply": "2022-07-12T14:07:57.189642Z",
     "shell.execute_reply.started": "2022-07-12T14:07:57.176578Z"
    },
    "tags": []
   },
   "outputs": [],
   "source": [
    "from datastructures.tearing import min_arc_set, dir_graph\n",
    "from datastructures.rendering import render_incidence\n",
    "from datastructures.graphutils import all_edges, edges_to_Ein_Eout\n",
    "from collections import OrderedDict\n",
    "import matplotlib.pyplot as plt"
   ]
  },
  {
   "cell_type": "code",
   "execution_count": 3,
   "id": "d6646871-2f0d-45ed-9bc2-977813180d6d",
   "metadata": {
    "execution": {
     "iopub.execute_input": "2022-07-12T14:07:57.192307Z",
     "iopub.status.busy": "2022-07-12T14:07:57.192307Z",
     "iopub.status.idle": "2022-07-12T14:07:57.205696Z",
     "shell.execute_reply": "2022-07-12T14:07:57.204605Z",
     "shell.execute_reply.started": "2022-07-12T14:07:57.192307Z"
    },
    "tags": []
   },
   "outputs": [],
   "source": [
    "import networkx as nx"
   ]
  },
  {
   "cell_type": "code",
   "execution_count": 4,
   "id": "ee568c85-54ed-435d-829f-de6eaa299df4",
   "metadata": {
    "execution": {
     "iopub.execute_input": "2022-07-12T14:07:57.207992Z",
     "iopub.status.busy": "2022-07-12T14:07:57.207443Z",
     "iopub.status.idle": "2022-07-12T14:07:57.221104Z",
     "shell.execute_reply": "2022-07-12T14:07:57.219930Z",
     "shell.execute_reply.started": "2022-07-12T14:07:57.207992Z"
    },
    "tags": []
   },
   "outputs": [],
   "source": [
    "import gurobipy as gp\n",
    "from gurobipy import GRB"
   ]
  },
  {
   "cell_type": "markdown",
   "id": "1ee08300-6c8a-46ed-ab0c-71089af7d110",
   "metadata": {},
   "source": [
    "# Parameters"
   ]
  },
  {
   "cell_type": "code",
   "execution_count": 5,
   "id": "98391050-2500-4142-9b5f-8d7ff4d572bc",
   "metadata": {
    "execution": {
     "iopub.execute_input": "2022-07-12T14:07:57.222225Z",
     "iopub.status.busy": "2022-07-12T14:07:57.222225Z",
     "iopub.status.idle": "2022-07-12T14:07:57.237631Z",
     "shell.execute_reply": "2022-07-12T14:07:57.235836Z",
     "shell.execute_reply.started": "2022-07-12T14:07:57.222225Z"
    },
    "tags": []
   },
   "outputs": [],
   "source": [
    "m = 50\n",
    "n = 55\n",
    "seed = 10#8 is triang#seed 10 is nice 42\n",
    "sparsity = 1.5#0.87#0.8 1.1 #1.7 1.3"
   ]
  },
  {
   "cell_type": "code",
   "execution_count": 6,
   "id": "469be3d2-52e2-44f2-9218-3db341ba8922",
   "metadata": {
    "execution": {
     "iopub.execute_input": "2022-07-12T14:07:57.805469Z",
     "iopub.status.busy": "2022-07-12T14:07:57.805469Z",
     "iopub.status.idle": "2022-07-12T14:07:57.810471Z",
     "shell.execute_reply": "2022-07-12T14:07:57.810471Z",
     "shell.execute_reply.started": "2022-07-12T14:07:57.805469Z"
    },
    "tags": []
   },
   "outputs": [],
   "source": [
    "kwargs = random_problem_with_artifacts(m,n,seed,sparsity)"
   ]
  },
  {
   "cell_type": "code",
   "execution_count": 7,
   "id": "e5b9f451-8f1d-4a9f-9b1a-84704132d44f",
   "metadata": {
    "execution": {
     "iopub.execute_input": "2022-07-12T14:07:58.096338Z",
     "iopub.status.busy": "2022-07-12T14:07:58.095955Z",
     "iopub.status.idle": "2022-07-12T14:07:58.111735Z",
     "shell.execute_reply": "2022-07-12T14:07:58.110413Z",
     "shell.execute_reply.started": "2022-07-12T14:07:58.096338Z"
    },
    "tags": []
   },
   "outputs": [],
   "source": [
    "edges_varonleft = kwargs[\"edges_varonleft\"]\n",
    "outset = kwargs[\"outset\"]\n",
    "varidxs = kwargs[\"varidxs\"]\n",
    "eqnidxs = kwargs[\"eqnidxs\"]"
   ]
  },
  {
   "cell_type": "code",
   "execution_count": 8,
   "id": "dd5434df-8568-4f05-949e-c61b526e991d",
   "metadata": {
    "execution": {
     "iopub.execute_input": "2022-07-12T14:07:59.805813Z",
     "iopub.status.busy": "2022-07-12T14:07:59.805813Z",
     "iopub.status.idle": "2022-07-12T14:08:42.744898Z",
     "shell.execute_reply": "2022-07-12T14:08:42.743740Z",
     "shell.execute_reply.started": "2022-07-12T14:07:59.805813Z"
    },
    "tags": []
   },
   "outputs": [
    {
     "name": "stdout",
     "output_type": "stream",
     "text": [
      "Set parameter Username\n",
      "Academic license - for non-commercial use only - expires 2023-02-25\n"
     ]
    }
   ],
   "source": [
    "cycles, elimset, m = min_arc_set(edges_varonleft, outset, varidxs, eqnidxs)"
   ]
  },
  {
   "cell_type": "code",
   "execution_count": 9,
   "id": "ffdafb2e-69ec-47cb-9b17-a1b51330f2fb",
   "metadata": {
    "execution": {
     "iopub.execute_input": "2022-07-12T14:09:00.979817Z",
     "iopub.status.busy": "2022-07-12T14:09:00.979817Z",
     "iopub.status.idle": "2022-07-12T14:09:01.004793Z",
     "shell.execute_reply": "2022-07-12T14:09:01.004513Z",
     "shell.execute_reply.started": "2022-07-12T14:09:00.979817Z"
    }
   },
   "outputs": [
    {
     "data": {
      "text/plain": [
       "{3, 7, 12, 14, 20, 25, 32, 36, 40, 41}"
      ]
     },
     "execution_count": 9,
     "metadata": {},
     "output_type": "execute_result"
    }
   ],
   "source": [
    "elimset"
   ]
  },
  {
   "cell_type": "code",
   "execution_count": 9,
   "id": "2ba1e897-aec9-4b08-b7d7-6cb939da30aa",
   "metadata": {
    "execution": {
     "iopub.execute_input": "2022-07-12T14:07:23.061832Z",
     "iopub.status.busy": "2022-07-12T14:07:23.061832Z",
     "iopub.status.idle": "2022-07-12T14:07:23.092410Z",
     "shell.execute_reply": "2022-07-12T14:07:23.091219Z",
     "shell.execute_reply.started": "2022-07-12T14:07:23.061832Z"
    },
    "tags": []
   },
   "outputs": [
    {
     "data": {
      "text/plain": [
       "{7, 12, 14, 20, 25, 27, 31, 32, 36, 40}"
      ]
     },
     "execution_count": 9,
     "metadata": {},
     "output_type": "execute_result"
    }
   ],
   "source": [
    "elimset"
   ]
  },
  {
   "cell_type": "markdown",
   "id": "0b103daf-d77a-477d-b2b0-05cb79cc1a82",
   "metadata": {},
   "source": [
    "# Setup"
   ]
  },
  {
   "cell_type": "code",
   "execution_count": 96,
   "id": "7533a48e-a166-47ff-a126-b2edf8d37713",
   "metadata": {
    "execution": {
     "iopub.execute_input": "2022-06-28T17:36:15.750779Z",
     "iopub.status.busy": "2022-06-28T17:36:15.750779Z",
     "iopub.status.idle": "2022-06-28T17:36:15.771791Z",
     "shell.execute_reply": "2022-06-28T17:36:15.770791Z",
     "shell.execute_reply.started": "2022-06-28T17:36:15.750779Z"
    },
    "tags": []
   },
   "outputs": [],
   "source": [
    "nodetyperepr = {VAR: 'x_{{{}}}', COMP: 'f_{{{}}}', SOLVER: '{}'}"
   ]
  },
  {
   "cell_type": "markdown",
   "id": "61aacdda-5b20-4668-88b2-d2ccb3c1c4bb",
   "metadata": {},
   "source": [
    "# Original indexation"
   ]
  },
  {
   "cell_type": "code",
   "execution_count": 97,
   "id": "c9a62936-499b-48f1-b2ef-c070ed5fb7a8",
   "metadata": {
    "execution": {
     "iopub.execute_input": "2022-06-28T17:36:16.054732Z",
     "iopub.status.busy": "2022-06-28T17:36:16.054732Z",
     "iopub.status.idle": "2022-06-28T17:36:16.069733Z",
     "shell.execute_reply": "2022-06-28T17:36:16.068723Z",
     "shell.execute_reply.started": "2022-06-28T17:36:16.054732Z"
    },
    "tags": []
   },
   "outputs": [],
   "source": [
    "eqv, varinc, output_idx = generate_random_prob(n_eqs, n_vars, seed, sparsity)\n",
    "_, edges_original = bipartite_repr(eqv)\n",
    "eqs = direct_eqs(eqv, output_idx)\n",
    "varidxs = getallvars(eqs, sympy=False)\n",
    "eqnidxs = set(eqs.keys())"
   ]
  },
  {
   "cell_type": "code",
   "execution_count": 98,
   "id": "32e40c11-ee60-49f3-95fc-024164e8d747",
   "metadata": {
    "execution": {
     "iopub.execute_input": "2022-06-28T17:36:16.200864Z",
     "iopub.status.busy": "2022-06-28T17:36:16.199864Z",
     "iopub.status.idle": "2022-06-28T17:36:16.209847Z",
     "shell.execute_reply": "2022-06-28T17:36:16.208927Z",
     "shell.execute_reply.started": "2022-06-28T17:36:16.200864Z"
    },
    "tags": []
   },
   "outputs": [
    {
     "data": {
      "text/plain": [
       "0.39"
      ]
     },
     "execution_count": 98,
     "metadata": {},
     "output_type": "execute_result"
    }
   ],
   "source": [
    "sum([len(var) for key,var in eqv.items()])/100"
   ]
  },
  {
   "cell_type": "code",
   "execution_count": 99,
   "id": "6ed33694-9084-413e-b3ce-ffa8974bcbcc",
   "metadata": {
    "execution": {
     "iopub.execute_input": "2022-06-28T17:36:16.359327Z",
     "iopub.status.busy": "2022-06-28T17:36:16.359327Z",
     "iopub.status.idle": "2022-06-28T17:36:16.365281Z",
     "shell.execute_reply": "2022-06-28T17:36:16.365281Z",
     "shell.execute_reply.started": "2022-06-28T17:36:16.359327Z"
    },
    "tags": []
   },
   "outputs": [],
   "source": [
    "output_reidx = {key:var-n_eqs for key,var in output_idx.items()}\n",
    "edges, tree = eqv_to_edges_tree(eqv, output_reidx, n_eqs)"
   ]
  },
  {
   "cell_type": "code",
   "execution_count": 100,
   "id": "a5c96e25-af9b-4d93-9903-d26f024e4ce4",
   "metadata": {
    "execution": {
     "iopub.execute_input": "2022-06-28T17:36:17.611598Z",
     "iopub.status.busy": "2022-06-28T17:36:17.611598Z",
     "iopub.status.idle": "2022-06-28T17:36:17.628579Z",
     "shell.execute_reply": "2022-06-28T17:36:17.628270Z",
     "shell.execute_reply.started": "2022-06-28T17:36:17.611598Z"
    },
    "tags": []
   },
   "outputs": [],
   "source": [
    "#all_edges(*edges_to_Ein_Eout(edges))"
   ]
  },
  {
   "cell_type": "code",
   "execution_count": 10,
   "id": "afa0c91a-7b07-4a46-a32e-8e38bd974c58",
   "metadata": {
    "execution": {
     "iopub.execute_input": "2022-06-28T02:18:20.589775Z",
     "iopub.status.busy": "2022-06-28T02:18:20.589775Z",
     "iopub.status.idle": "2022-06-28T02:18:20.604961Z",
     "shell.execute_reply": "2022-06-28T02:18:20.603940Z",
     "shell.execute_reply.started": "2022-06-28T02:18:20.589775Z"
    },
    "tags": []
   },
   "outputs": [],
   "source": [
    "G = flat_graph_formulation(*edges)\n",
    "merge_order = sort_scc(G)\n",
    "maxscc = max([len(elt) for elt in merge_order])"
   ]
  },
  {
   "cell_type": "code",
   "execution_count": 44,
   "id": "d72bd37e-4b1f-4709-83bf-24082290ee7f",
   "metadata": {
    "execution": {
     "iopub.execute_input": "2022-06-28T02:25:27.685050Z",
     "iopub.status.busy": "2022-06-28T02:25:27.685050Z",
     "iopub.status.idle": "2022-06-28T02:25:27.700744Z",
     "shell.execute_reply": "2022-06-28T02:25:27.699743Z",
     "shell.execute_reply.started": "2022-06-28T02:25:27.685050Z"
    },
    "tags": []
   },
   "outputs": [
    {
     "data": {
      "text/plain": [
       "[{f_2}, {f_0, f_1, f_3, f_4, f_5, f_6, f_7, f_8, f_9}]"
      ]
     },
     "execution_count": 44,
     "metadata": {},
     "output_type": "execute_result"
    }
   ],
   "source": [
    "merge_order"
   ]
  },
  {
   "cell_type": "code",
   "execution_count": 29,
   "id": "c0507566-cfd6-4238-8caf-d85f8d7fda21",
   "metadata": {
    "execution": {
     "iopub.execute_input": "2022-06-28T02:23:37.047978Z",
     "iopub.status.busy": "2022-06-28T02:23:37.047978Z",
     "iopub.status.idle": "2022-06-28T02:23:37.062711Z",
     "shell.execute_reply": "2022-06-28T02:23:37.061710Z",
     "shell.execute_reply.started": "2022-06-28T02:23:37.047978Z"
    },
    "tags": []
   },
   "outputs": [],
   "source": [
    "elim_edges_default = [comp.name for elt in merge_order for comp in elt if len(elt)>1]"
   ]
  },
  {
   "cell_type": "code",
   "execution_count": 49,
   "id": "18867199-77cc-4c6f-807a-98d4791170ef",
   "metadata": {
    "execution": {
     "iopub.execute_input": "2022-06-28T02:26:10.549831Z",
     "iopub.status.busy": "2022-06-28T02:26:10.549831Z",
     "iopub.status.idle": "2022-06-28T02:26:10.565246Z",
     "shell.execute_reply": "2022-06-28T02:26:10.564245Z",
     "shell.execute_reply.started": "2022-06-28T02:26:10.549831Z"
    },
    "tags": []
   },
   "outputs": [],
   "source": [
    "G1 = flat_graph_formulation(*edges, nodetyperepr=nodetyperepr)\n",
    "elimedges1 = [(Node(int(elt),COMP,nodetyperepr), Node(output_reidx[elt], VAR,nodetyperepr)) for elt in elim_edges_default]\n",
    "Ftree_default = OrderedDict([(elt.name,'solver') for comp in merge_order for elt in comp])\n",
    "Einn, Eoutn, Rinn = edges\n",
    "_, Stree, Vtree = tree\n",
    "for comp,out in elimedges1:\n",
    "    Eoutn[comp.name] = (None,) \n",
    "    Rinn[comp.name] = (out.name,)\n",
    "    Vtree[out.name] = 'solver'\n",
    "    Stree = {'solver':'root'}\n",
    "edges_default = Einn, Eoutn, Rinn\n",
    "tree_default = Ftree_default, Stree, Vtree"
   ]
  },
  {
   "cell_type": "code",
   "execution_count": 51,
   "id": "52c4134d-7e76-4afc-a534-52ba8dc9c9ee",
   "metadata": {
    "execution": {
     "iopub.execute_input": "2022-06-28T02:26:16.593293Z",
     "iopub.status.busy": "2022-06-28T02:26:16.593293Z",
     "iopub.status.idle": "2022-06-28T02:26:17.106962Z",
     "shell.execute_reply": "2022-06-28T02:26:17.106962Z",
     "shell.execute_reply.started": "2022-06-28T02:26:16.593293Z"
    },
    "tags": []
   },
   "outputs": [
    {
     "data": {
      "image/png": "[encoded data removed]",
      "text/plain": [
       "<Figure size 432x288 with 1 Axes>"
      ]
     },
     "metadata": {
      "needs_background": "light"
     },
     "output_type": "display_data"
    }
   ],
   "source": [
    "_, ax = render_incidence(edges_default, tree_default, namingfunc, displaysolver=True)\n",
    "plt.sca(ax)\n",
    "plt.savefig(r'structure_optim/original_15x15.png', dpi=300, bbox_inches='tight')"
   ]
  },
  {
   "cell_type": "markdown",
   "id": "cbed69ed-0ff7-42f4-adb5-6e7e11b5c69c",
   "metadata": {},
   "source": [
    "# Optimize structure"
   ]
  },
  {
   "cell_type": "code",
   "execution_count": 101,
   "id": "e471e9ca-579a-4385-a449-8ba566479f5f",
   "metadata": {
    "execution": {
     "iopub.execute_input": "2022-06-28T17:36:21.437205Z",
     "iopub.status.busy": "2022-06-28T17:36:21.437205Z",
     "iopub.status.idle": "2022-06-28T17:36:21.454124Z",
     "shell.execute_reply": "2022-06-28T17:36:21.454124Z",
     "shell.execute_reply.started": "2022-06-28T17:36:21.437205Z"
    },
    "tags": []
   },
   "outputs": [],
   "source": [
    "cycles, elimset = min_arc_set(edges_original, output_idx, varidxs, eqnidxs)"
   ]
  },
  {
   "cell_type": "code",
   "execution_count": 102,
   "id": "1423c7bc-e3d0-4b3e-a8be-b6c3c9b46904",
   "metadata": {
    "execution": {
     "iopub.execute_input": "2022-06-28T17:36:21.612242Z",
     "iopub.status.busy": "2022-06-28T17:36:21.612242Z",
     "iopub.status.idle": "2022-06-28T17:36:21.627514Z",
     "shell.execute_reply": "2022-06-28T17:36:21.627235Z",
     "shell.execute_reply.started": "2022-06-28T17:36:21.612242Z"
    },
    "tags": []
   },
   "outputs": [],
   "source": [
    "nodetyperepr = {VAR: 'x_{{{}}}', COMP: 'f_{{{}}}', SOLVER: '{}'}\n",
    "G2 = flat_graph_formulation(*edges, nodetyperepr=nodetyperepr)"
   ]
  },
  {
   "cell_type": "code",
   "execution_count": 103,
   "id": "82c5034f-17f6-4a8e-8758-3ac1c75d8d0b",
   "metadata": {
    "execution": {
     "iopub.execute_input": "2022-06-28T17:36:21.773447Z",
     "iopub.status.busy": "2022-06-28T17:36:21.772449Z",
     "iopub.status.idle": "2022-06-28T17:36:21.790143Z",
     "shell.execute_reply": "2022-06-28T17:36:21.789223Z",
     "shell.execute_reply.started": "2022-06-28T17:36:21.773447Z"
    },
    "tags": []
   },
   "outputs": [],
   "source": [
    "elimedges = [(Node(int(elt),COMP,nodetyperepr), Node(output_reidx[elt], VAR,nodetyperepr)) for elt in elimset]"
   ]
  },
  {
   "cell_type": "code",
   "execution_count": 104,
   "id": "b60fdd21-98d0-4d74-81fd-376dc1d2a83a",
   "metadata": {
    "execution": {
     "iopub.execute_input": "2022-06-28T17:36:21.925217Z",
     "iopub.status.busy": "2022-06-28T17:36:21.925217Z",
     "iopub.status.idle": "2022-06-28T17:36:21.939715Z",
     "shell.execute_reply": "2022-06-28T17:36:21.938711Z",
     "shell.execute_reply.started": "2022-06-28T17:36:21.925217Z"
    },
    "tags": []
   },
   "outputs": [],
   "source": [
    "G2.remove_edges_from(elimedges)"
   ]
  },
  {
   "cell_type": "code",
   "execution_count": 105,
   "id": "f0919d62-2676-4e18-9abb-ca1dc9ca1d84",
   "metadata": {
    "execution": {
     "iopub.execute_input": "2022-06-28T17:36:22.055040Z",
     "iopub.status.busy": "2022-06-28T17:36:22.054056Z",
     "iopub.status.idle": "2022-06-28T17:36:22.064036Z",
     "shell.execute_reply": "2022-06-28T17:36:22.064036Z",
     "shell.execute_reply.started": "2022-06-28T17:36:22.055040Z"
    },
    "tags": []
   },
   "outputs": [],
   "source": [
    "min_fas_order = sort_scc(G2)"
   ]
  },
  {
   "cell_type": "code",
   "execution_count": 106,
   "id": "32ed27c0-43b6-4f0a-9ab2-8177ee94bf82",
   "metadata": {
    "execution": {
     "iopub.execute_input": "2022-06-28T17:36:22.204982Z",
     "iopub.status.busy": "2022-06-28T17:36:22.204982Z",
     "iopub.status.idle": "2022-06-28T17:36:22.220324Z",
     "shell.execute_reply": "2022-06-28T17:36:22.220062Z",
     "shell.execute_reply.started": "2022-06-28T17:36:22.204982Z"
    },
    "tags": []
   },
   "outputs": [],
   "source": [
    "Ftree_mina = OrderedDict([(next(iter(comp)).name,'solver') for comp in min_fas_order])"
   ]
  },
  {
   "cell_type": "code",
   "execution_count": 107,
   "id": "2a7358f0-2d3c-416c-8219-5bb11556131d",
   "metadata": {
    "execution": {
     "iopub.execute_input": "2022-06-28T17:36:22.446200Z",
     "iopub.status.busy": "2022-06-28T17:36:22.445200Z",
     "iopub.status.idle": "2022-06-28T17:36:22.469913Z",
     "shell.execute_reply": "2022-06-28T17:36:22.469182Z",
     "shell.execute_reply.started": "2022-06-28T17:36:22.446200Z"
    },
    "tags": []
   },
   "outputs": [],
   "source": [
    "Einn, Eoutn, Rinn = edges\n",
    "_, Stree, Vtree = tree\n",
    "for comp,out in elimedges:\n",
    "    Eoutn[comp.name] = (None,) \n",
    "    Rinn[comp.name] = (out.name,)\n",
    "    Vtree[out.name] = 'solver'\n",
    "    Stree = {'solver':'root'}\n",
    "edges_mina = Einn, Eoutn, Rinn\n",
    "tree_mina = Ftree_mina, Stree, Vtree"
   ]
  },
  {
   "cell_type": "code",
   "execution_count": 108,
   "id": "286d914b-3244-4d2f-9c91-99830bd06088",
   "metadata": {
    "execution": {
     "iopub.execute_input": "2022-06-28T17:36:23.071837Z",
     "iopub.status.busy": "2022-06-28T17:36:23.070759Z",
     "iopub.status.idle": "2022-06-28T17:36:23.089106Z",
     "shell.execute_reply": "2022-06-28T17:36:23.089106Z",
     "shell.execute_reply.started": "2022-06-28T17:36:23.071837Z"
    },
    "tags": []
   },
   "outputs": [],
   "source": [
    "namingfunc = namefromid(nodetyperepr)"
   ]
  },
  {
   "cell_type": "code",
   "execution_count": 109,
   "id": "e2eb0018-2c3b-40f2-b93b-f2c0e65af4df",
   "metadata": {
    "execution": {
     "iopub.execute_input": "2022-06-28T17:36:30.883010Z",
     "iopub.status.busy": "2022-06-28T17:36:30.882011Z",
     "iopub.status.idle": "2022-06-28T17:36:31.391836Z",
     "shell.execute_reply": "2022-06-28T17:36:31.391836Z",
     "shell.execute_reply.started": "2022-06-28T17:36:30.883010Z"
    },
    "tags": []
   },
   "outputs": [
    {
     "data": {
      "image/png": "[encoded data removed]",
      "text/plain": [
       "<Figure size 432x288 with 1 Axes>"
      ]
     },
     "metadata": {
      "needs_background": "light"
     },
     "output_type": "display_data"
    }
   ],
   "source": [
    "_, ax = render_incidence(edges_mina, tree_mina, namingfunc, displaysolver=True)\n",
    "plt.sca(ax)\n",
    "plt.savefig(r'structure_optim/minimum_feedback_10x13.png', dpi=300, bbox_inches='tight')"
   ]
  },
  {
   "cell_type": "code",
   "execution_count": 120,
   "id": "5062e00f-908f-4fb8-9995-037fe58b99bd",
   "metadata": {
    "execution": {
     "iopub.execute_input": "2022-06-28T02:01:18.108937Z",
     "iopub.status.busy": "2022-06-28T02:01:18.108937Z",
     "iopub.status.idle": "2022-06-28T02:01:18.118930Z",
     "shell.execute_reply": "2022-06-28T02:01:18.117928Z",
     "shell.execute_reply.started": "2022-06-28T02:01:18.108937Z"
    },
    "tags": []
   },
   "outputs": [],
   "source": [
    "from itertools import combinations"
   ]
  },
  {
   "cell_type": "markdown",
   "id": "ce8c8081-b55d-44ac-a927-6759f7a6ce68",
   "metadata": {},
   "source": [
    "# Verify"
   ]
  },
  {
   "cell_type": "code",
   "execution_count": 123,
   "id": "06262b46-e39e-4241-a9e8-b2016ca9a458",
   "metadata": {
    "execution": {
     "iopub.execute_input": "2022-06-28T02:01:31.897749Z",
     "iopub.status.busy": "2022-06-28T02:01:31.897749Z",
     "iopub.status.idle": "2022-06-28T02:01:51.807108Z",
     "shell.execute_reply": "2022-06-28T02:01:51.806589Z",
     "shell.execute_reply.started": "2022-06-28T02:01:31.897749Z"
    },
    "tags": []
   },
   "outputs": [],
   "source": [
    "boolean = []\n",
    "for elimset in list(combinations(eqnidxs, 6)):\n",
    "    Gcopy = G.copy()\n",
    "    elimedges = [(Node(int(elt),COMP,nodetyperepr), Node(output_reidx[elt], VAR,nodetyperepr)) for elt in elimset]\n",
    "    Gcopy.remove_edges_from(elimedges)\n",
    "    boolean.append(nx.is_directed_acyclic_graph(Gcopy))"
   ]
  },
  {
   "cell_type": "code",
   "execution_count": 126,
   "id": "676cbeff-943b-4560-85c3-f52905ce9704",
   "metadata": {
    "execution": {
     "iopub.execute_input": "2022-06-28T02:02:08.459430Z",
     "iopub.status.busy": "2022-06-28T02:02:08.459007Z",
     "iopub.status.idle": "2022-06-28T02:02:08.473927Z",
     "shell.execute_reply": "2022-06-28T02:02:08.472923Z",
     "shell.execute_reply.started": "2022-06-28T02:02:08.459430Z"
    },
    "tags": []
   },
   "outputs": [
    {
     "data": {
      "text/plain": [
       "5"
      ]
     },
     "execution_count": 126,
     "metadata": {},
     "output_type": "execute_result"
    }
   ],
   "source": [
    "sum(boolean)"
   ]
  },
  {
   "cell_type": "code",
   "execution_count": 52,
   "id": "d4695096-528d-4c9e-9344-17592cd1953f",
   "metadata": {
    "execution": {
     "iopub.execute_input": "2022-06-28T01:50:35.781074Z",
     "iopub.status.busy": "2022-06-28T01:50:35.781074Z",
     "iopub.status.idle": "2022-06-28T01:50:35.799992Z",
     "shell.execute_reply": "2022-06-28T01:50:35.799992Z",
     "shell.execute_reply.started": "2022-06-28T01:50:35.781074Z"
    }
   },
   "outputs": [
    {
     "data": {
      "text/plain": [
       "OutEdgeView([(x_{0}, f_{0}), (x_{0}, f_{5}), (x_{0}, f_{9}), (f_{0}, x_{7}), (x_{8}, f_{0}), (x_{8}, f_{4}), (x_{8}, f_{8}), (x_{9}, f_{0}), (x_{9}, f_{3}), (x_{9}, f_{4}), (x_{9}, f_{5}), (x_{9}, f_{7}), (x_{9}, f_{9}), (x_{3}, f_{1}), (x_{3}, f_{5}), (x_{3}, f_{9}), (x_{4}, f_{1}), (x_{1}, f_{3}), (x_{1}, f_{4}), (x_{1}, f_{6}), (x_{1}, f_{8}), (x_{2}, f_{3}), (x_{2}, f_{4}), (x_{2}, f_{6}), (x_{5}, f_{3}), (x_{5}, f_{8}), (x_{7}, f_{3}), (x_{7}, f_{4}), (f_{4}, x_{6}), (f_{5}, x_{1}), (x_{6}, f_{7}), (f_{7}, x_{5}), (f_{8}, x_{4}), (f_{9}, x_{8}), (f_{2}, x_{9})])"
      ]
     },
     "execution_count": 52,
     "metadata": {},
     "output_type": "execute_result"
    }
   ],
   "source": [
    "for elt in eqnidxs:\n",
    "    G2.copy()"
   ]
  },
  {
   "cell_type": "code",
   "execution_count": null,
   "id": "5422c046-32c9-4119-87e8-0dcff14cd5b4",
   "metadata": {},
   "outputs": [],
   "source": []
  }
 ],
 "metadata": {
  "kernelspec": {
   "display_name": "Python [conda env:mdo]",
   "language": "python",
   "name": "conda-env-mdo-py"
  },
  "language_info": {
   "codemirror_mode": {
    "name": "ipython",
    "version": 3
   },
   "file_extension": ".py",
   "mimetype": "text/x-python",
   "name": "python",
   "nbconvert_exporter": "python",
   "pygments_lexer": "ipython3",
   "version": "3.9.13"
  }
 },
 "nbformat": 4,
 "nbformat_minor": 5
}
