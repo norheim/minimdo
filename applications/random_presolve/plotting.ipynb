{
 "cells": [
  {
   "cell_type": "code",
   "execution_count": 111,
   "id": "55a4c3b0-dc0f-4d7c-a85c-2d94b753eef7",
   "metadata": {
    "execution": {
     "iopub.execute_input": "2022-08-13T00:41:35.207305Z",
     "iopub.status.busy": "2022-08-13T00:41:35.206702Z",
     "iopub.status.idle": "2022-08-13T00:41:35.226974Z",
     "shell.execute_reply": "2022-08-13T00:41:35.226790Z",
     "shell.execute_reply.started": "2022-08-13T00:41:35.207305Z"
    },
    "tags": []
   },
   "outputs": [],
   "source": [
    "import pandas as pd\n",
    "import seaborn as sns\n",
    "sns.set_theme(style=\"darkgrid\")\n",
    "import matplotlib.pyplot as plt\n",
    "import matplotlib\n",
    "from matplotlib.ticker import NullFormatter, FixedLocator\n",
    "import numpy as np"
   ]
  },
  {
   "cell_type": "code",
   "execution_count": 2,
   "id": "27a01a1b-9531-4abf-8749-4aa1cab8d84e",
   "metadata": {
    "execution": {
     "iopub.execute_input": "2022-08-12T23:31:09.803914Z",
     "iopub.status.busy": "2022-08-12T23:31:09.802845Z",
     "iopub.status.idle": "2022-08-12T23:31:09.833709Z",
     "shell.execute_reply": "2022-08-12T23:31:09.833534Z",
     "shell.execute_reply.started": "2022-08-12T23:31:09.803914Z"
    },
    "tags": []
   },
   "outputs": [],
   "source": [
    "df = pd.read_csv('full_experiments.csv', index_col=0)"
   ]
  },
  {
   "cell_type": "code",
   "execution_count": 53,
   "id": "5b3e970c-5ce9-4f26-b023-8e30a5dfdaa5",
   "metadata": {
    "execution": {
     "iopub.execute_input": "2022-08-13T00:04:45.692808Z",
     "iopub.status.busy": "2022-08-13T00:04:45.692808Z",
     "iopub.status.idle": "2022-08-13T00:04:45.716306Z",
     "shell.execute_reply": "2022-08-13T00:04:45.715307Z",
     "shell.execute_reply.started": "2022-08-13T00:04:45.692808Z"
    },
    "tags": []
   },
   "outputs": [],
   "source": [
    "df = pd.read_csv('full_experiments_density_indep_n.csv', index_col=0)"
   ]
  },
  {
   "cell_type": "code",
   "execution_count": 4,
   "id": "2dc191f4-919e-4287-9904-ac6edcd6ef38",
   "metadata": {
    "execution": {
     "iopub.execute_input": "2022-08-12T23:31:09.938519Z",
     "iopub.status.busy": "2022-08-12T23:31:09.938519Z",
     "iopub.status.idle": "2022-08-12T23:31:10.219753Z",
     "shell.execute_reply": "2022-08-12T23:31:10.218838Z",
     "shell.execute_reply.started": "2022-08-12T23:31:09.938519Z"
    },
    "tags": []
   },
   "outputs": [
    {
     "data": {
      "image/png": "[encoded data removed]",
      "text/plain": [
       "<Figure size 432x288 with 1 Axes>"
      ]
     },
     "metadata": {},
     "output_type": "display_data"
    }
   ],
   "source": [
    "sns.histplot(data=df, x=\"density\", hue=\"sparsity\", palette=\"colorblind\",  bins=20, multiple=\"stack\");"
   ]
  },
  {
   "cell_type": "code",
   "execution_count": 134,
   "id": "097eb0c6-f729-4ca9-8e0f-97e801414ff8",
   "metadata": {
    "execution": {
     "iopub.execute_input": "2022-08-13T00:47:04.949567Z",
     "iopub.status.busy": "2022-08-13T00:47:04.949567Z",
     "iopub.status.idle": "2022-08-13T00:47:04.962035Z",
     "shell.execute_reply": "2022-08-13T00:47:04.961120Z",
     "shell.execute_reply.started": "2022-08-13T00:47:04.949567Z"
    },
    "tags": []
   },
   "outputs": [],
   "source": [
    "dft = df#df.iloc[350:400]\n",
    "dft['rho_cat'] = None"
   ]
  },
  {
   "cell_type": "code",
   "execution_count": 135,
   "id": "97330115-0192-4666-a1dc-ff2ba915480f",
   "metadata": {
    "execution": {
     "iopub.execute_input": "2022-08-13T00:47:05.167059Z",
     "iopub.status.busy": "2022-08-13T00:47:05.166559Z",
     "iopub.status.idle": "2022-08-13T00:47:05.176552Z",
     "shell.execute_reply": "2022-08-13T00:47:05.176073Z",
     "shell.execute_reply.started": "2022-08-13T00:47:05.167059Z"
    },
    "tags": []
   },
   "outputs": [],
   "source": [
    "dft.loc[(2.5<=dft['density']) & (dft['density']<=3.5), 'rho_cat'] = r'${} \\le \\rho \\le {}$'.format(2.5,3.5)\n",
    "dft.loc[(3.5<=dft['density']) & (dft['density']<=4.5), 'rho_cat'] = r'${} \\le \\rho \\le {}$'.format(3.5,4.5)\n",
    "#dft.loc[(4.5<=dft['density']) & (dft['density']<=5.5), 'rho_cat'] = r'${} \\le \\rho \\le {}$'.format(4.5,5.5)"
   ]
  },
  {
   "cell_type": "code",
   "execution_count": 136,
   "id": "e332d15e-e641-41ba-9a3d-b433a5ee1548",
   "metadata": {
    "execution": {
     "iopub.execute_input": "2022-08-13T00:47:05.345685Z",
     "iopub.status.busy": "2022-08-13T00:47:05.345685Z",
     "iopub.status.idle": "2022-08-13T00:47:05.362815Z",
     "shell.execute_reply": "2022-08-13T00:47:05.361843Z",
     "shell.execute_reply.started": "2022-08-13T00:47:05.345685Z"
    },
    "tags": []
   },
   "outputs": [],
   "source": [
    "allbounds = [(2.5,3.5),(3.5,4.5),(4.5,5.5)]\n",
    "bounds = allbounds[0]\n",
    "selection = (((dft['m']<=50) & (dft['density']<=allbounds[0][1]) & (dft['density']>=allbounds[0][0])) |\n",
    "             ((dft['m']<=50) & (dft['density']<=allbounds[1][1]) & (dft['density']>=allbounds[1][0])) |\n",
    "             ((dft['m']<=30) & (dft['density']<=allbounds[2][1]) & (dft['density']>=allbounds[2][0])))\n",
    "dfclean = dft[selection]\n",
    "#bounds = allbounds[1]\n",
    "#dfclean = dfclean[(dfclean['m']<=30) & (dfclean['density']<=bounds[1]) & (dfclean['density']>=bounds[0])]\n",
    "#bounds = allbounds[2]\n",
    "#dfclean = dfclean[(dfclean['m']<=30) & (dfclean['density']<=bounds[1]) & (dfclean['density']>=bounds[0])]"
   ]
  },
  {
   "cell_type": "code",
   "execution_count": 137,
   "id": "919759be-e6ee-4647-9a1e-f3c284f4e70c",
   "metadata": {
    "execution": {
     "iopub.execute_input": "2022-08-13T00:47:05.530834Z",
     "iopub.status.busy": "2022-08-13T00:47:05.530834Z",
     "iopub.status.idle": "2022-08-13T00:47:05.546111Z",
     "shell.execute_reply": "2022-08-13T00:47:05.546111Z",
     "shell.execute_reply.started": "2022-08-13T00:47:05.530834Z"
    },
    "tags": []
   },
   "outputs": [],
   "source": [
    "#sns.color_palette(\"binary\")"
   ]
  },
  {
   "cell_type": "code",
   "execution_count": 235,
   "id": "5bfa6065-46ca-44d9-9ea5-37dafa862c83",
   "metadata": {
    "execution": {
     "iopub.execute_input": "2022-08-13T14:41:26.869127Z",
     "iopub.status.busy": "2022-08-13T14:41:26.868133Z",
     "iopub.status.idle": "2022-08-13T14:41:26.881131Z",
     "shell.execute_reply": "2022-08-13T14:41:26.880211Z",
     "shell.execute_reply.started": "2022-08-13T14:41:26.869127Z"
    },
    "tags": []
   },
   "outputs": [],
   "source": [
    "plt.rcParams['text.usetex'] = True"
   ]
  },
  {
   "cell_type": "code",
   "execution_count": 139,
   "id": "77d9a739-4421-437d-9fd0-862fc028003d",
   "metadata": {
    "execution": {
     "iopub.execute_input": "2022-08-13T00:47:05.902686Z",
     "iopub.status.busy": "2022-08-13T00:47:05.902686Z",
     "iopub.status.idle": "2022-08-13T00:47:06.744508Z",
     "shell.execute_reply": "2022-08-13T00:47:06.744356Z",
     "shell.execute_reply.started": "2022-08-13T00:47:05.902686Z"
    },
    "tags": []
   },
   "outputs": [
    {
     "data": {
      "image/png": "[encoded data removed]",
      "text/plain": [
       "<Figure size 1005.54x360 with 2 Axes>"
      ]
     },
     "metadata": {},
     "output_type": "display_data"
    }
   ],
   "source": [
    "#df[['ncoeff', 'sparsity']].apply(tuple, axis=1)\n",
    "#plt.style.use('grayscale')\n",
    "#fig, ax = plt.subplots()\n",
    "densities = ['low','mid','high']\n",
    "allbounds = [(2.5,3.5),(3.5,4.5),(4.5,5.5)]\n",
    "runs = [\n",
    "    (None,\"timeMINFAS\",'defense_mintear_time',[10,20,30,40,50]),\n",
    "    (\"ncoeff\",\"timescc\",'defense_minscc_time',[10,20,30,40,50]),\n",
    "    (\"ncoeff\",\"timetearfull\",'defense_minassign_time_denser',[10,20,30,40,50]),\n",
    "]\n",
    "selection = 0\n",
    "bounds = allbounds[selection]\n",
    "hue,y,filename,xticks = runs[2]\n",
    "sns.set(font_scale = 2)\n",
    "g = sns.relplot(data=dfclean, x=\"m\",  y=y, hue=hue, palette=\"colorblind\", kind=\"line\", col='rho_cat', aspect=1.25);\n",
    "g = (g.set_axis_labels(\"\\# of components\",\"time (s)\")).set(xticks=(xticks))\n",
    "g.set(yscale = 'log');\n",
    "# def forward(x):\n",
    "#     return abs(x)**(1/2)\n",
    "# def inverse(x):\n",
    "#     return x**2\n",
    "# for ax in g.fig.axes:\n",
    "#     ax.set_yscale('function', functions=(forward, inverse))\n",
    "#     ax.yaxis.set_major_locator(FixedLocator(np.arange(0, 1, 0.1)**2))\n",
    "#     ax.yaxis.set_major_locator(FixedLocator(np.arange(0, 1, 0.1)))\n",
    "g.set_titles(col_template = '{col_name}');\n",
    "#g.set(title= r'${} \\le \\rho \\le {}$'.format(*bounds));\n",
    "sns.move_legend(g, \"lower center\",\n",
    "    bbox_to_anchor=(0.95, 0.4), ncol=1, title=None, frameon=True) \n",
    "#plt.savefig(filename+'_disseration.png', dpi=200, bbox_inches=\"tight\")"
   ]
  },
  {
   "cell_type": "code",
   "execution_count": 101,
   "id": "e0831ef7-55d3-414b-b8d2-230244f6e310",
   "metadata": {
    "execution": {
     "iopub.execute_input": "2022-08-13T00:34:18.443315Z",
     "iopub.status.busy": "2022-08-13T00:34:18.443315Z",
     "iopub.status.idle": "2022-08-13T00:34:18.454814Z",
     "shell.execute_reply": "2022-08-13T00:34:18.454314Z",
     "shell.execute_reply.started": "2022-08-13T00:34:18.443315Z"
    },
    "tags": []
   },
   "outputs": [
    {
     "data": {
      "text/plain": [
       "array([ 9, 16], dtype=int32)"
      ]
     },
     "execution_count": 101,
     "metadata": {},
     "output_type": "execute_result"
    }
   ],
   "source": [
    "np.power(np.array((3,4)),2)"
   ]
  },
  {
   "cell_type": "code",
   "execution_count": 9,
   "id": "0bb89382-4f45-4a29-bcc9-23c5c16104b7",
   "metadata": {
    "execution": {
     "iopub.execute_input": "2022-07-27T17:55:26.915594Z",
     "iopub.status.busy": "2022-07-27T17:55:26.915594Z",
     "iopub.status.idle": "2022-07-27T17:55:26.918832Z",
     "shell.execute_reply": "2022-07-27T17:55:26.918832Z",
     "shell.execute_reply.started": "2022-07-27T17:55:26.915594Z"
    },
    "tags": []
   },
   "outputs": [],
   "source": [
    "#sparseL1sq = sparseL1.copy()\n",
    "#sparseL1sq[\"sqtimetear\"] = np.log(sparseL1sq[\"timetear\"])"
   ]
  },
  {
   "cell_type": "code",
   "execution_count": 14,
   "id": "3cf7b609-e44e-4558-847d-7d0561779718",
   "metadata": {
    "execution": {
     "iopub.execute_input": "2022-07-27T18:06:13.061364Z",
     "iopub.status.busy": "2022-07-27T18:06:13.060385Z",
     "iopub.status.idle": "2022-07-27T18:06:13.073278Z",
     "shell.execute_reply": "2022-07-27T18:06:13.073278Z",
     "shell.execute_reply.started": "2022-07-27T18:06:13.061364Z"
    },
    "tags": []
   },
   "outputs": [],
   "source": [
    "dfpost = df.copy()\n",
    "dfpost[\"deltascc\"] = dfpost['maxscc']-dfpost['minscc']\n",
    "dfpost[\"dguesstear\"] = dfpost['mintear']-dfpost['minguess']"
   ]
  },
  {
   "cell_type": "code",
   "execution_count": 129,
   "id": "c6685121-a530-497b-9f1e-f078c276e9ba",
   "metadata": {
    "execution": {
     "iopub.execute_input": "2022-07-28T23:58:01.762079Z",
     "iopub.status.busy": "2022-07-28T23:58:01.761078Z",
     "iopub.status.idle": "2022-07-28T23:58:01.770682Z",
     "shell.execute_reply": "2022-07-28T23:58:01.770173Z",
     "shell.execute_reply.started": "2022-07-28T23:58:01.762079Z"
    },
    "tags": []
   },
   "outputs": [],
   "source": [
    "dfclean = sparseL1[(sparseL1[\"MINFAS\"] <= 100)]"
   ]
  },
  {
   "cell_type": "code",
   "execution_count": 130,
   "id": "e4ea7e1a-aa50-4e05-a738-6862d4998baa",
   "metadata": {
    "execution": {
     "iopub.execute_input": "2022-07-28T23:58:03.453592Z",
     "iopub.status.busy": "2022-07-28T23:58:03.453592Z",
     "iopub.status.idle": "2022-07-28T23:58:03.468062Z",
     "shell.execute_reply": "2022-07-28T23:58:03.467155Z",
     "shell.execute_reply.started": "2022-07-28T23:58:03.453592Z"
    },
    "tags": []
   },
   "outputs": [],
   "source": [
    "dfpost = dfclean.copy()\n",
    "dfpost[\"dminfas\"] = dfpost['MINFAS']/dfpost['m']\n",
    "dfpost[\"dmintearpart\"] = dfpost['mintearpart']/dfpost['m']\n",
    "dfpost[\"dmintearfull\"] = dfpost['mintearfull']/dfpost['m']"
   ]
  },
  {
   "cell_type": "code",
   "execution_count": 131,
   "id": "51db5b5e-0dbf-4cb2-980b-5ee09232823f",
   "metadata": {
    "execution": {
     "iopub.execute_input": "2022-07-28T23:58:04.306025Z",
     "iopub.status.busy": "2022-07-28T23:58:04.304930Z",
     "iopub.status.idle": "2022-07-28T23:58:04.342814Z",
     "shell.execute_reply": "2022-07-28T23:58:04.342628Z",
     "shell.execute_reply.started": "2022-07-28T23:58:04.306025Z"
    },
    "tags": []
   },
   "outputs": [
    {
     "data": {
      "text/html": [
       "<div>\n",
       "<style scoped>\n",
       "    .dataframe tbody tr th:only-of-type {\n",
       "        vertical-align: middle;\n",
       "    }\n",
       "\n",
       "    .dataframe tbody tr th {\n",
       "        vertical-align: top;\n",
       "    }\n",
       "\n",
       "    .dataframe thead th {\n",
       "        text-align: right;\n",
       "    }\n",
       "</style>\n",
       "<table border=\"1\" class=\"dataframe\">\n",
       "  <thead>\n",
       "    <tr style=\"text-align: right;\">\n",
       "      <th></th>\n",
       "      <th>m</th>\n",
       "      <th>ncoeff</th>\n",
       "      <th>n</th>\n",
       "      <th>sparsity</th>\n",
       "      <th>seed</th>\n",
       "      <th>maxscc</th>\n",
       "      <th>guess</th>\n",
       "      <th>timeMINFAS</th>\n",
       "      <th>MINFAS</th>\n",
       "      <th>timetearpart</th>\n",
       "      <th>mintearpart</th>\n",
       "      <th>timetearfull</th>\n",
       "      <th>mintearfull</th>\n",
       "      <th>timescc</th>\n",
       "      <th>minscc</th>\n",
       "      <th>density</th>\n",
       "      <th>dminfas</th>\n",
       "      <th>dmintearpart</th>\n",
       "      <th>dmintearfull</th>\n",
       "    </tr>\n",
       "  </thead>\n",
       "  <tbody>\n",
       "    <tr>\n",
       "      <th>1</th>\n",
       "      <td>10</td>\n",
       "      <td>0.1</td>\n",
       "      <td>11</td>\n",
       "      <td>3</td>\n",
       "      <td>1</td>\n",
       "      <td>10.0</td>\n",
       "      <td>4.0</td>\n",
       "      <td>0.009693</td>\n",
       "      <td>2.0</td>\n",
       "      <td>0.329609</td>\n",
       "      <td>2.0</td>\n",
       "      <td>0.672915</td>\n",
       "      <td>2.0</td>\n",
       "      <td>0.039564</td>\n",
       "      <td>9.0</td>\n",
       "      <td>4.10</td>\n",
       "      <td>0.20</td>\n",
       "      <td>0.20</td>\n",
       "      <td>0.20</td>\n",
       "    </tr>\n",
       "    <tr>\n",
       "      <th>2</th>\n",
       "      <td>10</td>\n",
       "      <td>0.1</td>\n",
       "      <td>11</td>\n",
       "      <td>3</td>\n",
       "      <td>2</td>\n",
       "      <td>10.0</td>\n",
       "      <td>5.0</td>\n",
       "      <td>0.004000</td>\n",
       "      <td>2.0</td>\n",
       "      <td>0.072231</td>\n",
       "      <td>1.0</td>\n",
       "      <td>0.073250</td>\n",
       "      <td>0.0</td>\n",
       "      <td>0.003826</td>\n",
       "      <td>0.0</td>\n",
       "      <td>3.70</td>\n",
       "      <td>0.20</td>\n",
       "      <td>0.10</td>\n",
       "      <td>0.00</td>\n",
       "    </tr>\n",
       "    <tr>\n",
       "      <th>3</th>\n",
       "      <td>10</td>\n",
       "      <td>0.1</td>\n",
       "      <td>11</td>\n",
       "      <td>3</td>\n",
       "      <td>3</td>\n",
       "      <td>10.0</td>\n",
       "      <td>8.0</td>\n",
       "      <td>0.014692</td>\n",
       "      <td>4.0</td>\n",
       "      <td>0.247854</td>\n",
       "      <td>2.0</td>\n",
       "      <td>0.331308</td>\n",
       "      <td>2.0</td>\n",
       "      <td>0.041113</td>\n",
       "      <td>9.0</td>\n",
       "      <td>3.70</td>\n",
       "      <td>0.40</td>\n",
       "      <td>0.20</td>\n",
       "      <td>0.20</td>\n",
       "    </tr>\n",
       "    <tr>\n",
       "      <th>4</th>\n",
       "      <td>10</td>\n",
       "      <td>0.1</td>\n",
       "      <td>11</td>\n",
       "      <td>3</td>\n",
       "      <td>4</td>\n",
       "      <td>8.0</td>\n",
       "      <td>7.0</td>\n",
       "      <td>0.004999</td>\n",
       "      <td>3.0</td>\n",
       "      <td>0.247375</td>\n",
       "      <td>2.0</td>\n",
       "      <td>0.303759</td>\n",
       "      <td>2.0</td>\n",
       "      <td>0.032488</td>\n",
       "      <td>6.0</td>\n",
       "      <td>4.10</td>\n",
       "      <td>0.30</td>\n",
       "      <td>0.20</td>\n",
       "      <td>0.20</td>\n",
       "    </tr>\n",
       "    <tr>\n",
       "      <th>5</th>\n",
       "      <td>10</td>\n",
       "      <td>0.1</td>\n",
       "      <td>11</td>\n",
       "      <td>3</td>\n",
       "      <td>5</td>\n",
       "      <td>9.0</td>\n",
       "      <td>7.0</td>\n",
       "      <td>0.012337</td>\n",
       "      <td>3.0</td>\n",
       "      <td>0.273144</td>\n",
       "      <td>3.0</td>\n",
       "      <td>0.539534</td>\n",
       "      <td>3.0</td>\n",
       "      <td>0.047682</td>\n",
       "      <td>9.0</td>\n",
       "      <td>3.60</td>\n",
       "      <td>0.30</td>\n",
       "      <td>0.30</td>\n",
       "      <td>0.30</td>\n",
       "    </tr>\n",
       "    <tr>\n",
       "      <th>...</th>\n",
       "      <td>...</td>\n",
       "      <td>...</td>\n",
       "      <td>...</td>\n",
       "      <td>...</td>\n",
       "      <td>...</td>\n",
       "      <td>...</td>\n",
       "      <td>...</td>\n",
       "      <td>...</td>\n",
       "      <td>...</td>\n",
       "      <td>...</td>\n",
       "      <td>...</td>\n",
       "      <td>...</td>\n",
       "      <td>...</td>\n",
       "      <td>...</td>\n",
       "      <td>...</td>\n",
       "      <td>...</td>\n",
       "      <td>...</td>\n",
       "      <td>...</td>\n",
       "      <td>...</td>\n",
       "    </tr>\n",
       "    <tr>\n",
       "      <th>550</th>\n",
       "      <td>50</td>\n",
       "      <td>0.5</td>\n",
       "      <td>75</td>\n",
       "      <td>3</td>\n",
       "      <td>5</td>\n",
       "      <td>16.0</td>\n",
       "      <td>28.0</td>\n",
       "      <td>0.029871</td>\n",
       "      <td>4.0</td>\n",
       "      <td>0.349487</td>\n",
       "      <td>3.0</td>\n",
       "      <td>0.349766</td>\n",
       "      <td>1.0</td>\n",
       "      <td>0.079706</td>\n",
       "      <td>2.0</td>\n",
       "      <td>3.64</td>\n",
       "      <td>0.08</td>\n",
       "      <td>0.06</td>\n",
       "      <td>0.02</td>\n",
       "    </tr>\n",
       "    <tr>\n",
       "      <th>551</th>\n",
       "      <td>50</td>\n",
       "      <td>0.5</td>\n",
       "      <td>75</td>\n",
       "      <td>3</td>\n",
       "      <td>6</td>\n",
       "      <td>35.0</td>\n",
       "      <td>30.0</td>\n",
       "      <td>1.077696</td>\n",
       "      <td>5.0</td>\n",
       "      <td>7.439821</td>\n",
       "      <td>3.0</td>\n",
       "      <td>0.527657</td>\n",
       "      <td>0.0</td>\n",
       "      <td>0.069672</td>\n",
       "      <td>0.0</td>\n",
       "      <td>3.92</td>\n",
       "      <td>0.10</td>\n",
       "      <td>0.06</td>\n",
       "      <td>0.00</td>\n",
       "    </tr>\n",
       "    <tr>\n",
       "      <th>552</th>\n",
       "      <td>50</td>\n",
       "      <td>0.5</td>\n",
       "      <td>75</td>\n",
       "      <td>3</td>\n",
       "      <td>7</td>\n",
       "      <td>26.0</td>\n",
       "      <td>31.0</td>\n",
       "      <td>0.089327</td>\n",
       "      <td>6.0</td>\n",
       "      <td>3.786320</td>\n",
       "      <td>3.0</td>\n",
       "      <td>3.230341</td>\n",
       "      <td>0.0</td>\n",
       "      <td>0.696880</td>\n",
       "      <td>0.0</td>\n",
       "      <td>4.46</td>\n",
       "      <td>0.12</td>\n",
       "      <td>0.06</td>\n",
       "      <td>0.00</td>\n",
       "    </tr>\n",
       "    <tr>\n",
       "      <th>553</th>\n",
       "      <td>50</td>\n",
       "      <td>0.5</td>\n",
       "      <td>75</td>\n",
       "      <td>3</td>\n",
       "      <td>8</td>\n",
       "      <td>36.0</td>\n",
       "      <td>27.0</td>\n",
       "      <td>0.650249</td>\n",
       "      <td>6.0</td>\n",
       "      <td>19.581709</td>\n",
       "      <td>3.0</td>\n",
       "      <td>8.444775</td>\n",
       "      <td>0.0</td>\n",
       "      <td>1.889984</td>\n",
       "      <td>0.0</td>\n",
       "      <td>4.16</td>\n",
       "      <td>0.12</td>\n",
       "      <td>0.06</td>\n",
       "      <td>0.00</td>\n",
       "    </tr>\n",
       "    <tr>\n",
       "      <th>554</th>\n",
       "      <td>50</td>\n",
       "      <td>0.5</td>\n",
       "      <td>75</td>\n",
       "      <td>3</td>\n",
       "      <td>9</td>\n",
       "      <td>29.0</td>\n",
       "      <td>28.0</td>\n",
       "      <td>0.669930</td>\n",
       "      <td>7.0</td>\n",
       "      <td>100.054710</td>\n",
       "      <td>5.0</td>\n",
       "      <td>4.002453</td>\n",
       "      <td>0.0</td>\n",
       "      <td>0.318691</td>\n",
       "      <td>0.0</td>\n",
       "      <td>4.28</td>\n",
       "      <td>0.14</td>\n",
       "      <td>0.10</td>\n",
       "      <td>0.00</td>\n",
       "    </tr>\n",
       "  </tbody>\n",
       "</table>\n",
       "<p>138 rows × 19 columns</p>\n",
       "</div>"
      ],
      "text/plain": [
       "      m  ncoeff   n  sparsity  seed  maxscc  guess  timeMINFAS  MINFAS  \\\n",
       "1    10     0.1  11         3     1    10.0    4.0    0.009693     2.0   \n",
       "2    10     0.1  11         3     2    10.0    5.0    0.004000     2.0   \n",
       "3    10     0.1  11         3     3    10.0    8.0    0.014692     4.0   \n",
       "4    10     0.1  11         3     4     8.0    7.0    0.004999     3.0   \n",
       "5    10     0.1  11         3     5     9.0    7.0    0.012337     3.0   \n",
       "..   ..     ...  ..       ...   ...     ...    ...         ...     ...   \n",
       "550  50     0.5  75         3     5    16.0   28.0    0.029871     4.0   \n",
       "551  50     0.5  75         3     6    35.0   30.0    1.077696     5.0   \n",
       "552  50     0.5  75         3     7    26.0   31.0    0.089327     6.0   \n",
       "553  50     0.5  75         3     8    36.0   27.0    0.650249     6.0   \n",
       "554  50     0.5  75         3     9    29.0   28.0    0.669930     7.0   \n",
       "\n",
       "     timetearpart  mintearpart  timetearfull  mintearfull   timescc  minscc  \\\n",
       "1        0.329609          2.0      0.672915          2.0  0.039564     9.0   \n",
       "2        0.072231          1.0      0.073250          0.0  0.003826     0.0   \n",
       "3        0.247854          2.0      0.331308          2.0  0.041113     9.0   \n",
       "4        0.247375          2.0      0.303759          2.0  0.032488     6.0   \n",
       "5        0.273144          3.0      0.539534          3.0  0.047682     9.0   \n",
       "..            ...          ...           ...          ...       ...     ...   \n",
       "550      0.349487          3.0      0.349766          1.0  0.079706     2.0   \n",
       "551      7.439821          3.0      0.527657          0.0  0.069672     0.0   \n",
       "552      3.786320          3.0      3.230341          0.0  0.696880     0.0   \n",
       "553     19.581709          3.0      8.444775          0.0  1.889984     0.0   \n",
       "554    100.054710          5.0      4.002453          0.0  0.318691     0.0   \n",
       "\n",
       "     density  dminfas  dmintearpart  dmintearfull  \n",
       "1       4.10     0.20          0.20          0.20  \n",
       "2       3.70     0.20          0.10          0.00  \n",
       "3       3.70     0.40          0.20          0.20  \n",
       "4       4.10     0.30          0.20          0.20  \n",
       "5       3.60     0.30          0.30          0.30  \n",
       "..       ...      ...           ...           ...  \n",
       "550     3.64     0.08          0.06          0.02  \n",
       "551     3.92     0.10          0.06          0.00  \n",
       "552     4.46     0.12          0.06          0.00  \n",
       "553     4.16     0.12          0.06          0.00  \n",
       "554     4.28     0.14          0.10          0.00  \n",
       "\n",
       "[138 rows x 19 columns]"
      ]
     },
     "execution_count": 131,
     "metadata": {},
     "output_type": "execute_result"
    }
   ],
   "source": [
    "dfpost"
   ]
  },
  {
   "cell_type": "code",
   "execution_count": 15,
   "id": "d6809812-d3cf-4bff-a8db-126f1481eac1",
   "metadata": {
    "execution": {
     "iopub.execute_input": "2022-07-27T18:06:21.331148Z",
     "iopub.status.busy": "2022-07-27T18:06:21.331148Z",
     "iopub.status.idle": "2022-07-27T18:06:21.338990Z",
     "shell.execute_reply": "2022-07-27T18:06:21.338644Z",
     "shell.execute_reply.started": "2022-07-27T18:06:21.331148Z"
    },
    "tags": []
   },
   "outputs": [],
   "source": [
    "dfclean = dfpost[(dfpost[\"dguesstear\"] >= 0)]\n",
    "#dfclean = dfclean[(dfclean['sparsity']==.5)]"
   ]
  },
  {
   "cell_type": "code",
   "execution_count": 16,
   "id": "5ca7feaa-a646-400b-8fbf-71aa17d70a49",
   "metadata": {
    "execution": {
     "iopub.execute_input": "2022-07-27T18:06:21.735321Z",
     "iopub.status.busy": "2022-07-27T18:06:21.734321Z",
     "iopub.status.idle": "2022-07-27T18:06:21.746504Z",
     "shell.execute_reply": "2022-07-27T18:06:21.745838Z",
     "shell.execute_reply.started": "2022-07-27T18:06:21.735321Z"
    },
    "tags": []
   },
   "outputs": [],
   "source": [
    "#dfclean[\"deltascc\"].sum()"
   ]
  },
  {
   "cell_type": "code",
   "execution_count": 141,
   "id": "abafcefd-7f6b-4b67-8ef0-bea13521421d",
   "metadata": {
    "execution": {
     "iopub.execute_input": "2022-07-29T00:06:53.006228Z",
     "iopub.status.busy": "2022-07-29T00:06:53.006228Z",
     "iopub.status.idle": "2022-07-29T00:06:53.023930Z",
     "shell.execute_reply": "2022-07-29T00:06:53.023747Z",
     "shell.execute_reply.started": "2022-07-29T00:06:53.006228Z"
    }
   },
   "outputs": [
    {
     "data": {
      "text/plain": [
       "(0.2980392156862745, 0.4470588235294118, 0.6901960784313725)"
      ]
     },
     "execution_count": 141,
     "metadata": {},
     "output_type": "execute_result"
    }
   ],
   "source": [
    "sns.color_palette()[0]"
   ]
  },
  {
   "cell_type": "code",
   "execution_count": 142,
   "id": "34c4f9f5-ca63-4815-b3e7-bb8a4f4bec81",
   "metadata": {
    "execution": {
     "iopub.execute_input": "2022-07-29T00:07:31.707688Z",
     "iopub.status.busy": "2022-07-29T00:07:31.707688Z",
     "iopub.status.idle": "2022-07-29T00:07:31.929620Z",
     "shell.execute_reply": "2022-07-29T00:07:31.928539Z",
     "shell.execute_reply.started": "2022-07-29T00:07:31.707688Z"
    },
    "tags": []
   },
   "outputs": [
    {
     "data": {
      "image/png": "[encoded data removed]",
      "text/plain": [
       "<Figure size 576x360 with 2 Axes>"
      ]
     },
     "metadata": {},
     "output_type": "display_data"
    }
   ],
   "source": [
    "fig, ax = plt.subplots(figsize=(8,5))\n",
    "ax2 = ax.twinx()\n",
    "#sns.histplot(data=dfpost, x=\"dminfas\", palette=\"colorblind\", bins=20, multiple=\"stack\");\n",
    "sns.histplot(data=dfpost, x=\"dminfas\", bins=20, color=sns.color_palette()[0]);\n",
    "sns.histplot(data=dfpost, x=\"dmintearpart\", bins=20, color=sns.color_palette()[1]);\n",
    "sns.histplot(data=dfpost, x=\"dmintearfull\", bins=20, color=sns.color_palette()[2]);\n",
    "#ax.set_xlabel(r'$\\Delta$ in guess');\n",
    "#plt.savefig('tearing_improvements_wrt_baseline.png', dpi=200, bbox_inches='tight');"
   ]
  },
  {
   "cell_type": "code",
   "execution_count": 348,
   "id": "96e0cd7f-ddc2-40e1-9751-115dfb4022d3",
   "metadata": {
    "execution": {
     "iopub.execute_input": "2022-08-13T15:15:59.390970Z",
     "iopub.status.busy": "2022-08-13T15:15:59.390455Z",
     "iopub.status.idle": "2022-08-13T15:15:59.401869Z",
     "shell.execute_reply": "2022-08-13T15:15:59.401369Z",
     "shell.execute_reply.started": "2022-08-13T15:15:59.390970Z"
    },
    "tags": []
   },
   "outputs": [],
   "source": [
    "dfclean2 = dft[(dft[\"timeMINFAS\"] <= 100) & (dft[\"timetearpart\"] <= 100) & (dft[\"timetearfull\"] <= 100) & (2.5<=dft['density']) & (dft['density']<=4.5)]"
   ]
  },
  {
   "cell_type": "code",
   "execution_count": 349,
   "id": "c51162b5-da5a-4b5b-9211-7454fc75e7fb",
   "metadata": {
    "execution": {
     "iopub.execute_input": "2022-08-13T15:15:59.629671Z",
     "iopub.status.busy": "2022-08-13T15:15:59.628795Z",
     "iopub.status.idle": "2022-08-13T15:15:59.669821Z",
     "shell.execute_reply": "2022-08-13T15:15:59.667345Z",
     "shell.execute_reply.started": "2022-08-13T15:15:59.629671Z"
    },
    "tags": []
   },
   "outputs": [],
   "source": [
    "dfclean2 = dfclean2.convert_dtypes()"
   ]
  },
  {
   "cell_type": "code",
   "execution_count": 350,
   "id": "5145c259-9699-4955-9132-c2bf286c1e8d",
   "metadata": {
    "execution": {
     "iopub.execute_input": "2022-08-13T15:15:59.841427Z",
     "iopub.status.busy": "2022-08-13T15:15:59.840937Z",
     "iopub.status.idle": "2022-08-13T15:15:59.854428Z",
     "shell.execute_reply": "2022-08-13T15:15:59.853439Z",
     "shell.execute_reply.started": "2022-08-13T15:15:59.841427Z"
    },
    "tags": []
   },
   "outputs": [
    {
     "data": {
      "text/plain": [
       "269"
      ]
     },
     "execution_count": 350,
     "metadata": {},
     "output_type": "execute_result"
    }
   ],
   "source": [
    "len(dfclean2[\"MINFAS\"])"
   ]
  },
  {
   "cell_type": "code",
   "execution_count": 351,
   "id": "f81e838d-66d6-45e3-8905-8fcb42550f81",
   "metadata": {
    "execution": {
     "iopub.execute_input": "2022-08-13T15:16:00.024894Z",
     "iopub.status.busy": "2022-08-13T15:16:00.023397Z",
     "iopub.status.idle": "2022-08-13T15:16:00.040966Z",
     "shell.execute_reply": "2022-08-13T15:16:00.039207Z",
     "shell.execute_reply.started": "2022-08-13T15:16:00.024396Z"
    },
    "tags": []
   },
   "outputs": [],
   "source": [
    "from itertools import product, chain"
   ]
  },
  {
   "cell_type": "code",
   "execution_count": 376,
   "id": "ac2538ea-1a14-459f-a379-08878e1c3fa4",
   "metadata": {
    "execution": {
     "iopub.execute_input": "2022-08-13T15:25:49.212529Z",
     "iopub.status.busy": "2022-08-13T15:25:49.211377Z",
     "iopub.status.idle": "2022-08-13T15:25:49.229287Z",
     "shell.execute_reply": "2022-08-13T15:25:49.228374Z",
     "shell.execute_reply.started": "2022-08-13T15:25:49.212529Z"
    },
    "tags": []
   },
   "outputs": [],
   "source": [
    "partition_results = lambda col_label, col_name: (tuple(row)+(col_label,) for row in dfclean2[[col_name, 'm']].to_records(index=False))"
   ]
  },
  {
   "cell_type": "code",
   "execution_count": 377,
   "id": "6eb6251e-5304-4d91-9db9-1e1574886fae",
   "metadata": {
    "execution": {
     "iopub.execute_input": "2022-08-13T15:25:49.650252Z",
     "iopub.status.busy": "2022-08-13T15:25:49.650114Z",
     "iopub.status.idle": "2022-08-13T15:25:49.665481Z",
     "shell.execute_reply": "2022-08-13T15:25:49.665268Z",
     "shell.execute_reply.started": "2022-08-13T15:25:49.650252Z"
    },
    "tags": []
   },
   "outputs": [],
   "source": [
    "#[tuple(row)+('Minimum feedbac',) for row in dfclean2[[\"MINFAS\", 'm']].to_records(index=False)]"
   ]
  },
  {
   "cell_type": "code",
   "execution_count": 378,
   "id": "11217745-2fea-456e-aa08-d62d71fb847d",
   "metadata": {
    "execution": {
     "iopub.execute_input": "2022-08-13T15:25:49.902358Z",
     "iopub.status.busy": "2022-08-13T15:25:49.901866Z",
     "iopub.status.idle": "2022-08-13T15:25:49.916358Z",
     "shell.execute_reply": "2022-08-13T15:25:49.915370Z",
     "shell.execute_reply.started": "2022-08-13T15:25:49.902358Z"
    },
    "tags": []
   },
   "outputs": [],
   "source": [
    "dfcompare = pd.DataFrame(chain(partition_results('Minimum feedback','MINFAS'),\n",
    "                               partition_results('Regular tearing','mintearpart'),\n",
    "                               partition_results('Extended Tearing','mintearfull')))"
   ]
  },
  {
   "cell_type": "code",
   "execution_count": 380,
   "id": "ce788872-0177-4c31-94d4-8442042590e8",
   "metadata": {
    "execution": {
     "iopub.execute_input": "2022-08-13T15:26:02.366530Z",
     "iopub.status.busy": "2022-08-13T15:26:02.366530Z",
     "iopub.status.idle": "2022-08-13T15:26:02.371664Z",
     "shell.execute_reply": "2022-08-13T15:26:02.371511Z",
     "shell.execute_reply.started": "2022-08-13T15:26:02.366530Z"
    },
    "tags": []
   },
   "outputs": [],
   "source": [
    "dfcompare.columns = [\"sys_size\", 'm', 'opt_type']"
   ]
  },
  {
   "cell_type": "code",
   "execution_count": 398,
   "id": "90e7e832-c2d2-466c-9bdc-169fb7baee8d",
   "metadata": {
    "execution": {
     "iopub.execute_input": "2022-08-13T15:37:17.159368Z",
     "iopub.status.busy": "2022-08-13T15:37:17.158280Z",
     "iopub.status.idle": "2022-08-13T15:37:17.174595Z",
     "shell.execute_reply": "2022-08-13T15:37:17.174364Z",
     "shell.execute_reply.started": "2022-08-13T15:37:17.159368Z"
    },
    "tags": []
   },
   "outputs": [
    {
     "data": {
      "text/plain": [
       "13"
      ]
     },
     "execution_count": 398,
     "metadata": {},
     "output_type": "execute_result"
    }
   ],
   "source": [
    "sum((dfcompare[\"opt_type\"]=='Regular tearing') & (dfcompare[\"sys_size\"]==0))"
   ]
  },
  {
   "cell_type": "code",
   "execution_count": 382,
   "id": "8515c012-ab57-4201-b887-edb5c11395f9",
   "metadata": {
    "execution": {
     "iopub.execute_input": "2022-08-13T15:26:08.785278Z",
     "iopub.status.busy": "2022-08-13T15:26:08.784273Z",
     "iopub.status.idle": "2022-08-13T15:26:08.790281Z",
     "shell.execute_reply": "2022-08-13T15:26:08.789291Z",
     "shell.execute_reply.started": "2022-08-13T15:26:08.785278Z"
    },
    "tags": []
   },
   "outputs": [],
   "source": [
    "plt.rcParams['text.usetex'] = True"
   ]
  },
  {
   "cell_type": "code",
   "execution_count": 390,
   "id": "cc4aeae6-9e63-43d9-a8b6-95a832b9dd88",
   "metadata": {
    "execution": {
     "iopub.execute_input": "2022-08-13T15:29:23.883125Z",
     "iopub.status.busy": "2022-08-13T15:29:23.882624Z",
     "iopub.status.idle": "2022-08-13T15:29:25.882287Z",
     "shell.execute_reply": "2022-08-13T15:29:25.882287Z",
     "shell.execute_reply.started": "2022-08-13T15:29:23.883125Z"
    },
    "tags": []
   },
   "outputs": [
    {
     "data": {
      "image/png": "[encoded data removed]",
      "text/plain": [
       "<Figure size 1080x360 with 3 Axes>"
      ]
     },
     "metadata": {},
     "output_type": "display_data"
    }
   ],
   "source": [
    "g = sns.catplot(data=dfcompare, x=\"sys_size\", kind='count', col='opt_type', color=sns.color_palette()[0]);\n",
    "g.set_axis_labels(r'Size of reduced system',r'Number of problems (out of 269)')\n",
    "g.set_titles(col_template = '{col_name}');\n",
    "plt.savefig('mintearfull_finalsize.png', dpi=200, bbox_inches='tight');"
   ]
  },
  {
   "cell_type": "code",
   "execution_count": 329,
   "id": "2a7ae5b4-6f36-41de-b5dc-37d073417757",
   "metadata": {
    "execution": {
     "iopub.execute_input": "2022-08-13T15:10:49.863523Z",
     "iopub.status.busy": "2022-08-13T15:10:49.862527Z",
     "iopub.status.idle": "2022-08-13T15:10:50.390129Z",
     "shell.execute_reply": "2022-08-13T15:10:50.389119Z",
     "shell.execute_reply.started": "2022-08-13T15:10:49.863523Z"
    },
    "tags": []
   },
   "outputs": [
    {
     "data": {
      "image/png": "[encoded data removed]",
      "text/plain": [
       "<Figure size 864x288 with 3 Axes>"
      ]
     },
     "metadata": {},
     "output_type": "display_data"
    }
   ],
   "source": [
    "fig, axs = plt.subplots(1, 3, figsize=(12,4), sharey=True)\n",
    "#ax2 = ax.twinx()\n",
    "#sns.histplot(data=dfpost, x=\"dminfas\", hue=\"ncoeff\", palette=\"colorblind\", bins=20, multiple=\"stack\");\n",
    "#g=sns.histplot(data=dfclean2, x=\"MINFAS\", palette=\"colorblind\", multiple=\"stack\", color=sns.color_palette()[0]);\n",
    "#g=sns.histplot(data=dfclean2, x=\"mintearpart\", palette=\"colorblind\", multiple=\"stack\", color=sns.color_palette()[1]);\n",
    "sns.countplot(data=dfclean2, x=\"MINFAS\", color=sns.color_palette()[0], ax=axs[0]);\n",
    "sns.countplot(data=dfclean2, x=\"mintearpart\", color=sns.color_palette()[1], ax=axs[1]);\n",
    "sns.countplot(data=dfclean2, x=\"mintearfull\", color=sns.color_palette()[2], ax=axs[2]);\n",
    "for ax in axs[1:]:\n",
    "    ax.set(ylabel=None) \n",
    "    ax.set(xlabel=r'') \n",
    "# sns.move_legend(g, \"lower center\",\n",
    "#     bbox_to_anchor=(1.2, 0.4), ncol=1, title=None, frameon=True) \n",
    "#axs[0].set_ylabel(r'Number of problems (out of 67)');\n",
    "#plt.xlabel(r'Size of final system (m=20)');\n",
    "plt.savefig('mintearfull_finalsize.png', dpi=200, bbox_inches='tight');"
   ]
  },
  {
   "cell_type": "markdown",
   "id": "2d30da98-ad43-467d-a4ab-0273cee70359",
   "metadata": {},
   "source": [
    "## Reduced subproblem"
   ]
  },
  {
   "cell_type": "code",
   "execution_count": 436,
   "id": "3ed27ecc-dbb7-4f64-9c86-1db1b78a69a9",
   "metadata": {
    "execution": {
     "iopub.execute_input": "2022-08-13T16:18:49.337102Z",
     "iopub.status.busy": "2022-08-13T16:18:49.336106Z",
     "iopub.status.idle": "2022-08-13T16:18:49.352579Z",
     "shell.execute_reply": "2022-08-13T16:18:49.352363Z",
     "shell.execute_reply.started": "2022-08-13T16:18:49.337102Z"
    },
    "tags": []
   },
   "outputs": [],
   "source": [
    "dfclean3 = dft[(dft[\"timescc\"] <= 100) & (dft['m']<=20) & (2.5<=dft['density']) & (dft['density']<=4.5)]\n",
    "dfclean3 = dfclean3.convert_dtypes()\n",
    "partition_results = lambda col_label, col_name: (tuple(row)+(col_label,) for row in dfclean3[[col_name, 'm']].to_records(index=False))\n",
    "dfcompare2 = pd.DataFrame(chain(partition_results('Strongly connected components','maxscc'),\n",
    "                               partition_results('Optimized subproblem structure','minscc')))\n",
    "dfcompare2.columns = [\"sys_size\", 'm', 'opt_type']"
   ]
  },
  {
   "cell_type": "code",
   "execution_count": 437,
   "id": "653eb16a-a5ee-4277-b390-7af8d8140ee0",
   "metadata": {
    "execution": {
     "iopub.execute_input": "2022-08-13T16:18:50.359338Z",
     "iopub.status.busy": "2022-08-13T16:18:50.359338Z",
     "iopub.status.idle": "2022-08-13T16:18:50.376842Z",
     "shell.execute_reply": "2022-08-13T16:18:50.375962Z",
     "shell.execute_reply.started": "2022-08-13T16:18:50.359338Z"
    },
    "tags": []
   },
   "outputs": [
    {
     "data": {
      "text/html": [
       "<div>\n",
       "<style scoped>\n",
       "    .dataframe tbody tr th:only-of-type {\n",
       "        vertical-align: middle;\n",
       "    }\n",
       "\n",
       "    .dataframe tbody tr th {\n",
       "        vertical-align: top;\n",
       "    }\n",
       "\n",
       "    .dataframe thead th {\n",
       "        text-align: right;\n",
       "    }\n",
       "</style>\n",
       "<table border=\"1\" class=\"dataframe\">\n",
       "  <thead>\n",
       "    <tr style=\"text-align: right;\">\n",
       "      <th></th>\n",
       "      <th>sys_size</th>\n",
       "      <th>m</th>\n",
       "      <th>opt_type</th>\n",
       "    </tr>\n",
       "  </thead>\n",
       "  <tbody>\n",
       "    <tr>\n",
       "      <th>0</th>\n",
       "      <td>10</td>\n",
       "      <td>10</td>\n",
       "      <td>Strongly connected components</td>\n",
       "    </tr>\n",
       "    <tr>\n",
       "      <th>1</th>\n",
       "      <td>10</td>\n",
       "      <td>10</td>\n",
       "      <td>Strongly connected components</td>\n",
       "    </tr>\n",
       "    <tr>\n",
       "      <th>2</th>\n",
       "      <td>10</td>\n",
       "      <td>10</td>\n",
       "      <td>Strongly connected components</td>\n",
       "    </tr>\n",
       "    <tr>\n",
       "      <th>3</th>\n",
       "      <td>10</td>\n",
       "      <td>10</td>\n",
       "      <td>Strongly connected components</td>\n",
       "    </tr>\n",
       "    <tr>\n",
       "      <th>4</th>\n",
       "      <td>8</td>\n",
       "      <td>10</td>\n",
       "      <td>Strongly connected components</td>\n",
       "    </tr>\n",
       "    <tr>\n",
       "      <th>...</th>\n",
       "      <td>...</td>\n",
       "      <td>...</td>\n",
       "      <td>...</td>\n",
       "    </tr>\n",
       "    <tr>\n",
       "      <th>261</th>\n",
       "      <td>0</td>\n",
       "      <td>10</td>\n",
       "      <td>Optimized subproblem structure</td>\n",
       "    </tr>\n",
       "    <tr>\n",
       "      <th>262</th>\n",
       "      <td>2</td>\n",
       "      <td>10</td>\n",
       "      <td>Optimized subproblem structure</td>\n",
       "    </tr>\n",
       "    <tr>\n",
       "      <th>263</th>\n",
       "      <td>0</td>\n",
       "      <td>10</td>\n",
       "      <td>Optimized subproblem structure</td>\n",
       "    </tr>\n",
       "    <tr>\n",
       "      <th>264</th>\n",
       "      <td>2</td>\n",
       "      <td>10</td>\n",
       "      <td>Optimized subproblem structure</td>\n",
       "    </tr>\n",
       "    <tr>\n",
       "      <th>265</th>\n",
       "      <td>0</td>\n",
       "      <td>10</td>\n",
       "      <td>Optimized subproblem structure</td>\n",
       "    </tr>\n",
       "  </tbody>\n",
       "</table>\n",
       "<p>266 rows × 3 columns</p>\n",
       "</div>"
      ],
      "text/plain": [
       "     sys_size   m                        opt_type\n",
       "0          10  10   Strongly connected components\n",
       "1          10  10   Strongly connected components\n",
       "2          10  10   Strongly connected components\n",
       "3          10  10   Strongly connected components\n",
       "4           8  10   Strongly connected components\n",
       "..        ...  ..                             ...\n",
       "261         0  10  Optimized subproblem structure\n",
       "262         2  10  Optimized subproblem structure\n",
       "263         0  10  Optimized subproblem structure\n",
       "264         2  10  Optimized subproblem structure\n",
       "265         0  10  Optimized subproblem structure\n",
       "\n",
       "[266 rows x 3 columns]"
      ]
     },
     "execution_count": 437,
     "metadata": {},
     "output_type": "execute_result"
    }
   ],
   "source": [
    "dfcompare2"
   ]
  },
  {
   "cell_type": "code",
   "execution_count": 438,
   "id": "0501c9ff-ed23-4d15-9e0a-287b5edab7db",
   "metadata": {
    "execution": {
     "iopub.execute_input": "2022-08-13T16:18:50.666808Z",
     "iopub.status.busy": "2022-08-13T16:18:50.666808Z",
     "iopub.status.idle": "2022-08-13T16:18:52.889235Z",
     "shell.execute_reply": "2022-08-13T16:18:52.888780Z",
     "shell.execute_reply.started": "2022-08-13T16:18:50.666808Z"
    },
    "tags": []
   },
   "outputs": [
    {
     "data": {
      "image/png": "[encoded data removed]",
      "text/plain": [
       "<Figure size 720x360 with 2 Axes>"
      ]
     },
     "metadata": {},
     "output_type": "display_data"
    }
   ],
   "source": [
    "g = sns.displot(data=dfcompare2, x=\"sys_size\", col='opt_type', color=sns.color_palette()[0]);\n",
    "g.set_axis_labels(r'Size of largest subproblem',r'Number of problems (out of 266)')\n",
    "g.set_titles(col_template = '{col_name}');\n",
    "plt.savefig('minscc_finalsize.png', dpi=200, bbox_inches='tight');"
   ]
  },
  {
   "cell_type": "code",
   "execution_count": null,
   "id": "7c8d1173-7995-4f98-9835-415fec21e469",
   "metadata": {},
   "outputs": [],
   "source": []
  }
 ],
 "metadata": {
  "kernelspec": {
   "display_name": "Python [conda env:minimdo]",
   "language": "python",
   "name": "conda-env-minimdo-py"
  },
  "language_info": {
   "codemirror_mode": {
    "name": "ipython",
    "version": 3
   },
   "file_extension": ".py",
   "mimetype": "text/x-python",
   "name": "python",
   "nbconvert_exporter": "python",
   "pygments_lexer": "ipython3",
   "version": "3.9.12"
  }
 },
 "nbformat": 4,
 "nbformat_minor": 5
}
