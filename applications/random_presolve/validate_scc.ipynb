{
 "cells": [
  {
   "cell_type": "code",
   "execution_count": 1,
   "id": "bd1a20c2-461c-4f4b-b93b-7167cca88546",
   "metadata": {
    "execution": {
     "iopub.execute_input": "2022-08-12T22:38:43.548755Z",
     "iopub.status.busy": "2022-08-12T22:38:43.547756Z",
     "iopub.status.idle": "2022-08-12T22:38:46.066598Z",
     "shell.execute_reply": "2022-08-12T22:38:46.065721Z",
     "shell.execute_reply.started": "2022-08-12T22:38:43.547756Z"
    },
    "tags": []
   },
   "outputs": [],
   "source": [
    "from testproblems import generate_random_prob, random_problem_with_artifacts\n",
    "from datastructures.operators import invert_edges, sort_scc, reformulate\n",
    "from datastructures.rendering import render_incidence\n",
    "from datastructures.tearing import min_arc_set_assign,dir_graph,min_max_scc2\n",
    "from datastructures.graphutils import (edges_to_Ein_Eout, sources, flat_graph_formulation, \n",
    "    VAR, COMP, Node, all_edges)\n",
    "from datastructures.polycasebuilder import eqv_to_edges_tree\n",
    "import networkx as nx\n",
    "import numpy as np\n",
    "from itertools import chain, combinations"
   ]
  },
  {
   "cell_type": "code",
   "execution_count": 166,
   "id": "03e0968e-c64e-46a1-b2ba-2f75867118e2",
   "metadata": {
    "execution": {
     "iopub.execute_input": "2022-08-12T22:44:50.838077Z",
     "iopub.status.busy": "2022-08-12T22:44:50.837077Z",
     "iopub.status.idle": "2022-08-12T22:44:50.850563Z",
     "shell.execute_reply": "2022-08-12T22:44:50.849575Z",
     "shell.execute_reply.started": "2022-08-12T22:44:50.838077Z"
    },
    "tags": []
   },
   "outputs": [],
   "source": [
    "m = 13#4\n",
    "n = 17#5\n",
    "seed = 2#220#257#23\n",
    "sparsity = 2."
   ]
  },
  {
   "cell_type": "code",
   "execution_count": 167,
   "id": "f84c0c16-3748-46e1-83c8-ba1fe5710b57",
   "metadata": {
    "execution": {
     "iopub.execute_input": "2022-08-12T22:44:51.292918Z",
     "iopub.status.busy": "2022-08-12T22:44:51.292918Z",
     "iopub.status.idle": "2022-08-12T22:44:51.300269Z",
     "shell.execute_reply": "2022-08-12T22:44:51.299938Z",
     "shell.execute_reply.started": "2022-08-12T22:44:51.292918Z"
    },
    "tags": []
   },
   "outputs": [],
   "source": [
    "kwargs = random_problem_with_artifacts(m,n,seed,sparsity)"
   ]
  },
  {
   "cell_type": "code",
   "execution_count": 168,
   "id": "97746172-2236-46df-8aed-233bfbc8ce63",
   "metadata": {
    "execution": {
     "iopub.execute_input": "2022-08-12T22:44:51.447102Z",
     "iopub.status.busy": "2022-08-12T22:44:51.446592Z",
     "iopub.status.idle": "2022-08-12T22:44:51.456594Z",
     "shell.execute_reply": "2022-08-12T22:44:51.455588Z",
     "shell.execute_reply.started": "2022-08-12T22:44:51.447102Z"
    },
    "tags": []
   },
   "outputs": [],
   "source": [
    "eq_incidence,outset,eqnidxs,edges_varonleft,varidxs = map(kwargs.get, [\"eq_incidence\",\"outset\",\"eqnidxs\",\"edges_varonleft\",\"varidxs\"])"
   ]
  },
  {
   "cell_type": "code",
   "execution_count": 169,
   "id": "cd5fd749-5b7d-4b47-a9f8-4978b3ffd536",
   "metadata": {
    "execution": {
     "iopub.execute_input": "2022-08-12T22:44:51.579098Z",
     "iopub.status.busy": "2022-08-12T22:44:51.579098Z",
     "iopub.status.idle": "2022-08-12T22:44:51.595700Z",
     "shell.execute_reply": "2022-08-12T22:44:51.595362Z",
     "shell.execute_reply.started": "2022-08-12T22:44:51.579098Z"
    },
    "tags": []
   },
   "outputs": [],
   "source": [
    "fixed_inputs = set(range(m,m+n))-set(outset.values())"
   ]
  },
  {
   "cell_type": "code",
   "execution_count": 170,
   "id": "271561cd-5bb8-4e39-8419-d75fa492a491",
   "metadata": {
    "execution": {
     "iopub.execute_input": "2022-08-12T22:44:51.734110Z",
     "iopub.status.busy": "2022-08-12T22:44:51.734110Z",
     "iopub.status.idle": "2022-08-12T22:44:51.749547Z",
     "shell.execute_reply": "2022-08-12T22:44:51.749236Z",
     "shell.execute_reply.started": "2022-08-12T22:44:51.734110Z"
    },
    "tags": []
   },
   "outputs": [],
   "source": [
    "fixed_inputs = list(combinations(range(n), n-m))[330]"
   ]
  },
  {
   "cell_type": "code",
   "execution_count": 171,
   "id": "5f2583fd-395b-4175-a9c2-1eee115bdceb",
   "metadata": {
    "execution": {
     "iopub.execute_input": "2022-08-12T22:44:51.868906Z",
     "iopub.status.busy": "2022-08-12T22:44:51.868906Z",
     "iopub.status.idle": "2022-08-12T22:44:51.874772Z",
     "shell.execute_reply": "2022-08-12T22:44:51.873818Z",
     "shell.execute_reply.started": "2022-08-12T22:44:51.868906Z"
    },
    "tags": []
   },
   "outputs": [],
   "source": [
    "fixed_inputs = tuple(elt+m for elt in fixed_inputs)"
   ]
  },
  {
   "cell_type": "code",
   "execution_count": 172,
   "id": "30044054-5731-41db-a5f8-701600e33376",
   "metadata": {
    "execution": {
     "iopub.execute_input": "2022-08-12T22:44:51.991021Z",
     "iopub.status.busy": "2022-08-12T22:44:51.990021Z",
     "iopub.status.idle": "2022-08-12T22:44:51.999028Z",
     "shell.execute_reply": "2022-08-12T22:44:51.998022Z",
     "shell.execute_reply.started": "2022-08-12T22:44:51.991021Z"
    },
    "tags": []
   },
   "outputs": [],
   "source": [
    "fixed_inputs = {10,14,21,23,24}"
   ]
  },
  {
   "cell_type": "code",
   "execution_count": 173,
   "id": "605af9e5-64b5-4c0b-8b78-5aa477940057",
   "metadata": {
    "execution": {
     "iopub.execute_input": "2022-08-12T22:44:52.178208Z",
     "iopub.status.busy": "2022-08-12T22:44:52.178208Z",
     "iopub.status.idle": "2022-08-12T22:44:53.955040Z",
     "shell.execute_reply": "2022-08-12T22:44:53.954764Z",
     "shell.execute_reply.started": "2022-08-12T22:44:52.178208Z"
    },
    "tags": []
   },
   "outputs": [],
   "source": [
    "maxscc = []\n",
    "for fixed_inputs in combinations(range(n), n-m):\n",
    "    fixed_inputs = tuple(elt+m for elt in fixed_inputs)\n",
    "    Ein_no_source = {comp:tuple(var for var in allvars if var not in fixed_inputs) for comp,allvars in eq_incidence.items()}\n",
    "    G = flat_graph_formulation(Ein_no_source,{},{},{VAR: 'x_{{{}}}', COMP: 'f_{{{}}}'})\n",
    "    top_nodes = {Node(idx, VAR) for idx in varidxs if idx not in fixed_inputs}\n",
    "    matching = nx.bipartite.maximum_matching(G, top_nodes=top_nodes)\n",
    "    if len(matching) == 2*m:\n",
    "        m_out = {key: matching[Node(key, COMP)].name for key in eqnidxs}\n",
    "        edges_dir_m = invert_edges(eq_incidence, newout=m_out)\n",
    "        dir_edges = all_edges(*edges_dir_m)\n",
    "        maxscc_idx = max(len(elt) for elt in nx.strongly_connected_components(nx.DiGraph(dir_edges)))//2\n",
    "        maxscc.append(maxscc_idx)"
   ]
  },
  {
   "cell_type": "code",
   "execution_count": 174,
   "id": "0b304198-c74d-419a-b59f-5262faec5288",
   "metadata": {
    "execution": {
     "iopub.execute_input": "2022-08-12T22:44:55.238943Z",
     "iopub.status.busy": "2022-08-12T22:44:55.238943Z",
     "iopub.status.idle": "2022-08-12T22:44:55.257412Z",
     "shell.execute_reply": "2022-08-12T22:44:55.257032Z",
     "shell.execute_reply.started": "2022-08-12T22:44:55.238943Z"
    },
    "tags": []
   },
   "outputs": [
    {
     "data": {
      "text/plain": [
       "2380"
      ]
     },
     "execution_count": 174,
     "metadata": {},
     "output_type": "execute_result"
    }
   ],
   "source": [
    "len(list(combinations(range(n), n-m)))"
   ]
  },
  {
   "cell_type": "code",
   "execution_count": 180,
   "id": "f39b23db-1b8d-49b2-9e1b-f0e075da52a7",
   "metadata": {
    "execution": {
     "iopub.execute_input": "2022-08-12T22:45:15.109783Z",
     "iopub.status.busy": "2022-08-12T22:45:15.109284Z",
     "iopub.status.idle": "2022-08-12T22:45:15.121787Z",
     "shell.execute_reply": "2022-08-12T22:45:15.121787Z",
     "shell.execute_reply.started": "2022-08-12T22:45:15.109783Z"
    },
    "tags": []
   },
   "outputs": [
    {
     "data": {
      "text/plain": [
       "126"
      ]
     },
     "execution_count": 180,
     "metadata": {},
     "output_type": "execute_result"
    }
   ],
   "source": [
    "len(np.argwhere(np.array(maxscc)==6))"
   ]
  },
  {
   "cell_type": "code",
   "execution_count": 181,
   "id": "ea4307b2-a817-4cea-991c-dc8ad42fc7ee",
   "metadata": {
    "execution": {
     "iopub.execute_input": "2022-08-12T22:45:21.359200Z",
     "iopub.status.busy": "2022-08-12T22:45:21.358184Z",
     "iopub.status.idle": "2022-08-12T22:45:21.376543Z",
     "shell.execute_reply": "2022-08-12T22:45:21.376340Z",
     "shell.execute_reply.started": "2022-08-12T22:45:21.359200Z"
    }
   },
   "outputs": [
    {
     "data": {
      "text/plain": [
       "0.052941176470588235"
      ]
     },
     "execution_count": 181,
     "metadata": {},
     "output_type": "execute_result"
    }
   ],
   "source": [
    "126/2380"
   ]
  },
  {
   "cell_type": "code",
   "execution_count": 175,
   "id": "66451ff9-2f9d-46e0-a09a-e44008e59195",
   "metadata": {
    "execution": {
     "iopub.execute_input": "2022-08-12T22:44:56.817064Z",
     "iopub.status.busy": "2022-08-12T22:44:56.817064Z",
     "iopub.status.idle": "2022-08-12T22:44:56.828194Z",
     "shell.execute_reply": "2022-08-12T22:44:56.827063Z",
     "shell.execute_reply.started": "2022-08-12T22:44:56.817064Z"
    },
    "tags": []
   },
   "outputs": [],
   "source": [
    "edges_undir,tree_undir,_ = eqv_to_edges_tree(eq_incidence, n_eqs=m)\n",
    "edges_dir,tree_dir,outset_adj = eqv_to_edges_tree(eq_incidence, outset, n_eqs=m)\n",
    "tree_undir[2].update({val:1 for val in outset_adj.values()})"
   ]
  },
  {
   "cell_type": "code",
   "execution_count": 176,
   "id": "66da1203-fc08-4f40-b5ea-f25bd31874ef",
   "metadata": {
    "execution": {
     "iopub.execute_input": "2022-08-12T22:44:56.989008Z",
     "iopub.status.busy": "2022-08-12T22:44:56.988010Z",
     "iopub.status.idle": "2022-08-12T22:44:57.320633Z",
     "shell.execute_reply": "2022-08-12T22:44:57.319504Z",
     "shell.execute_reply.started": "2022-08-12T22:44:56.989008Z"
    },
    "tags": []
   },
   "outputs": [
    {
     "data": {
      "image/png": "[encoded data removed]",
      "text/plain": [
       "<Figure size 288x288 with 1 Axes>"
      ]
     },
     "metadata": {
      "needs_background": "light"
     },
     "output_type": "display_data"
    }
   ],
   "source": [
    "formulation_scc = reformulate(edges_dir, tree_dir, root_solver_name=1, mdf=True)\n",
    "render_incidence(*formulation_scc, figsize=((4,4)), rotation=60, hideticks=True,);"
   ]
  },
  {
   "cell_type": "code",
   "execution_count": 177,
   "id": "fc4b3e00-2d27-4747-bf73-50c0979fda56",
   "metadata": {
    "execution": {
     "iopub.execute_input": "2022-08-12T22:44:57.733940Z",
     "iopub.status.busy": "2022-08-12T22:44:57.733940Z",
     "iopub.status.idle": "2022-08-12T22:44:59.189565Z",
     "shell.execute_reply": "2022-08-12T22:44:59.188993Z",
     "shell.execute_reply.started": "2022-08-12T22:44:57.733940Z"
    },
    "tags": []
   },
   "outputs": [
    {
     "data": {
      "image/png": "[encoded data removed]",
      "text/plain": [
       "<Figure size 288x288 with 1 Axes>"
      ]
     },
     "metadata": {
      "needs_background": "light"
     },
     "output_type": "display_data"
    }
   ],
   "source": [
    "xsol, model = min_max_scc2(edges_varonleft, varidxs, eqnidxs)\n",
    "outset_minscc = dict((right, left-m) for left, right in edges_varonleft if xsol[left, right] > 0.5)\n",
    "formulation_minscc = reformulate(edges_dir, tree_dir, outset_adj, outset_minscc, root_solver_name=1)\n",
    "render_incidence(*formulation_minscc, figsize=((4,4)), hideticks=True);"
   ]
  },
  {
   "cell_type": "code",
   "execution_count": null,
   "id": "e04b6d18-66a1-411d-a823-217508d27280",
   "metadata": {},
   "outputs": [],
   "source": []
  }
 ],
 "metadata": {
  "kernelspec": {
   "display_name": "Python [conda env:minimdo]",
   "language": "python",
   "name": "conda-env-minimdo-py"
  },
  "language_info": {
   "codemirror_mode": {
    "name": "ipython",
    "version": 3
   },
   "file_extension": ".py",
   "mimetype": "text/x-python",
   "name": "python",
   "nbconvert_exporter": "python",
   "pygments_lexer": "ipython3",
   "version": "3.9.12"
  }
 },
 "nbformat": 4,
 "nbformat_minor": 5
}
