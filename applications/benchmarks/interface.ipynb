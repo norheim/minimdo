{
 "cells": [
  {
   "cell_type": "code",
   "execution_count": 1,
   "metadata": {},
   "outputs": [],
   "source": [
    "from sympy import var, exp\n",
    "import numpy as np\n",
    "from coupledgrad import pure_functions, coupled_functions\n",
    "from coupledgrad import solver, compose, eliminate\n",
    "from coupledgrad import jacfwd"
   ]
  },
  {
   "cell_type": "markdown",
   "metadata": {},
   "source": [
    "### Sympy Model"
   ]
  },
  {
   "cell_type": "code",
   "execution_count": 2,
   "metadata": {},
   "outputs": [],
   "source": [
    "x,y1,y2,z1,z2,a,b = var('x y1 y2 z1 z2 a b')\n",
    "f1 = z1+z2-0.2*y2 # a\n",
    "r1 = a - f1\n",
    "f2 = x**2+a # y1\n",
    "r2 = y1 - f2\n",
    "f3 = abs(y1)**.5+z1+z2 # y2\n",
    "r3 = y2-f3\n",
    "f4 = x**2+y1+z2 # b\n",
    "obj = b-y2**2\n",
    "ineq = y1 - 3.16"
   ]
  },
  {
   "cell_type": "code",
   "execution_count": 3,
   "metadata": {},
   "outputs": [],
   "source": [
    "objd, ineqd, r1d, r2d, r3d = pure_functions(\n",
    "    [obj, ineq, r1, r2, r3])\n",
    "f4d, = coupled_functions([(f4, b)])"
   ]
  },
  {
   "cell_type": "code",
   "execution_count": 5,
   "metadata": {},
   "outputs": [],
   "source": [
    "Sdata = solver([r1d, r2d, r3d], [a, y1, y2], \n",
    "                      x0_pointer=[[1.,1.,1.]])"
   ]
  },
  {
   "cell_type": "markdown",
   "metadata": {},
   "source": [
    "## Validate solver"
   ]
  },
  {
   "cell_type": "code",
   "execution_count": 16,
   "metadata": {},
   "outputs": [
    {
     "data": {
      "text/plain": [
       "DeviceArray([[-0.01571348,  0.737146  ,  0.737146  ],\n",
       "             [ 0.18428652,  0.737146  ,  0.737146  ],\n",
       "             [ 0.07856742,  1.3142697 ,  1.3142697 ]], dtype=float32)"
      ]
     },
     "execution_count": 16,
     "metadata": {},
     "output_type": "execute_result"
    }
   ],
   "source": [
    "FS,_,Sins=Sdata\n",
    "y = [0.1,0.1,1.9]\n",
    "x = FS(y)\n",
    "x\n",
    "gFs = jacfwd(FS)\n",
    "gFs(np.array(y))"
   ]
  },
  {
   "cell_type": "code",
   "execution_count": 17,
   "metadata": {},
   "outputs": [
    {
     "data": {
      "text/plain": [
       "[x, z2, z1]"
      ]
     },
     "execution_count": 17,
     "metadata": {},
     "output_type": "execute_result"
    }
   ],
   "source": [
    "Sins"
   ]
  },
  {
   "cell_type": "code",
   "execution_count": 18,
   "metadata": {},
   "outputs": [
    {
     "data": {
      "text/plain": [
       "array([0.7371584 , 0.7371584 , 1.31420801])"
      ]
     },
     "execution_count": 18,
     "metadata": {},
     "output_type": "execute_result"
    }
   ],
   "source": [
    "eps = 1e-3\n",
    "yd = np.array(y)+eps*np.eye(len(y))[2]\n",
    "(FS(yd)-FS(y))/eps"
   ]
  },
  {
   "cell_type": "markdown",
   "metadata": {},
   "source": [
    "## Composition"
   ]
  },
  {
   "cell_type": "code",
   "execution_count": 19,
   "metadata": {},
   "outputs": [],
   "source": [
    "Fdata, Rdata = compose([Sdata, f4d], \n",
    "                       forelimin=[objd])"
   ]
  },
  {
   "cell_type": "code",
   "execution_count": 20,
   "metadata": {},
   "outputs": [
    {
     "data": {
      "text/plain": [
       "DeviceArray([-8.581169], dtype=float32)"
      ]
     },
     "execution_count": 20,
     "metadata": {},
     "output_type": "execute_result"
    }
   ],
   "source": [
    "Rdata[0](Fdata[0](y))"
   ]
  },
  {
   "cell_type": "code",
   "execution_count": 21,
   "metadata": {},
   "outputs": [],
   "source": [
    "Relim = eliminate(Rdata, phi=Fdata)"
   ]
  },
  {
   "cell_type": "code",
   "execution_count": 22,
   "metadata": {},
   "outputs": [
    {
     "data": {
      "text/plain": [
       "DeviceArray([-8.581169], dtype=float32)"
      ]
     },
     "execution_count": 22,
     "metadata": {},
     "output_type": "execute_result"
    }
   ],
   "source": [
    "Relim(y)"
   ]
  },
  {
   "cell_type": "code",
   "execution_count": 23,
   "metadata": {},
   "outputs": [
    {
     "data": {
      "text/plain": [
       "DeviceArray([[-0.1142697, -6.6026635, -7.6026635]], dtype=float32)"
      ]
     },
     "execution_count": 23,
     "metadata": {},
     "output_type": "execute_result"
    }
   ],
   "source": [
    "gRelim = jacfwd(Relim)\n",
    "gRelim(np.array(y))"
   ]
  },
  {
   "cell_type": "markdown",
   "metadata": {},
   "source": [
    "# Done"
   ]
  },
  {
   "cell_type": "code",
   "execution_count": null,
   "metadata": {},
   "outputs": [],
   "source": [
    "\n",
    "Fs1 = [(F1, (a,y1,y2), yother),\n",
    "      (lambda x: objl(*x), (), (x,y1,y2,z2))]"
   ]
  },
  {
   "cell_type": "code",
   "execution_count": 271,
   "metadata": {},
   "outputs": [],
   "source": [
    "n = 2\n",
    "rx = lambda y0,y1,x0,x1: [x0+y0-3,x1*x0-x0-y1]\n",
    "g = jacfwd(lambda x: rx(*x)) # x will be an array\n",
    "y = [1,2] # example y"
   ]
  },
  {
   "cell_type": "markdown",
   "metadata": {},
   "source": [
    "$x_0 = 3-y_0$ so we get $(-1,0)$\n",
    "\n",
    "$x_1=1+\\frac{y_1}{3-y_0}$ so we get $(y_1/(3-y_0)^2,1/(3-y_0)) = (0.5,0.5)$"
   ]
  },
  {
   "cell_type": "code",
   "execution_count": 295,
   "metadata": {},
   "outputs": [],
   "source": [
    "def solver(eqs, solvefor, x0_pointer):\n",
    "    # x0_pointer is a hack to use a list\n",
    "    # lambdify eqs\n",
    "    all_vars = {vr for eq in eqs for vr in eq.free_symbols}\n",
    "    yother = list(all_vars-set(solvefor))\n",
    "    rx = lambdify(solvefor+yother, eqs, modules=jnp)\n",
    "    gradf = jacfwd(lambda x: rx(*x))\n",
    "    n = len(solvefor)\n",
    "    @custom_jvp\n",
    "    def f(y):\n",
    "        return fsolve(lambda x: rx(*x,*y), \n",
    "                      x0=x0_pointer[0])\n",
    "    @f.defjvp\n",
    "    def f_jvp(primals, tangents):\n",
    "        y, = primals\n",
    "        x_dot,  = tangents\n",
    "        fval = f(y)\n",
    "        x_full = np.hstack((fval,y))\n",
    "        print(rx(*x_full))\n",
    "        grad_val = np.vstack(gradf(x_full)).T\n",
    "        grad_hy, grad_hx = grad_val[:n,:],grad_val[n:,:]\n",
    "        inv_grad_hy = np.linalg.inv(grad_hy.T)\n",
    "        dJ = -np.dot(inv_grad_hy, grad_hx.T).T\n",
    "        tangent_out = sum([dj*x_dot[idx] for idx,dj in enumerate(dJ)])\n",
    "        return fval, tangent_out\n",
    "    return f, yother, rx"
   ]
  },
  {
   "cell_type": "code",
   "execution_count": 296,
   "metadata": {},
   "outputs": [
    {
     "name": "stdout",
     "output_type": "stream",
     "text": [
      "[0.0, 0.0]\n"
     ]
    },
    {
     "data": {
      "text/plain": [
       "DeviceArray([[-1. ,  0. ],\n",
       "             [ 0.5,  0.5]], dtype=float32)"
      ]
     },
     "execution_count": 296,
     "metadata": {},
     "output_type": "execute_result"
    }
   ],
   "source": [
    "#rx = lambda y0,y1,x0,x1: [x0+y0-3,x1*x0-x0-y1]\n",
    "eqs = [z1+y1-3,z2*z1-z1-y2]\n",
    "fs,yother,_ = solver(eqs, solvefor=[z1,z2], x0_pointer=[[1,1]])\n",
    "jacfwd(fs)(np.array([1., 2]))"
   ]
  },
  {
   "cell_type": "code",
   "execution_count": 297,
   "metadata": {},
   "outputs": [
    {
     "data": {
      "text/plain": [
       "array([0. , 0.5])"
      ]
     },
     "execution_count": 297,
     "metadata": {},
     "output_type": "execute_result"
    }
   ],
   "source": [
    "x0arr=jnp.array([1., 2.])\n",
    "eps = 1e-3\n",
    "#fs(x0arr),fs(x0arr.at[1].set((1+eps)*x0arr[1]))\n",
    "(fs([1.,2+eps])-fs([1.,2]))/eps"
   ]
  },
  {
   "cell_type": "code",
   "execution_count": 298,
   "metadata": {},
   "outputs": [
    {
     "data": {
      "text/plain": [
       "(array([2.00000004, 1.99999991]), array([2.00000005, 2.00099996]))"
      ]
     },
     "execution_count": 298,
     "metadata": {},
     "output_type": "execute_result"
    }
   ],
   "source": [
    "fs(x0arr), fs(x0arr.at[1].set((1+eps)*x0arr[1]))"
   ]
  },
  {
   "cell_type": "code",
   "execution_count": 299,
   "metadata": {},
   "outputs": [],
   "source": [
    "F1,yother,rx = solver([r1, r2, r3], [a, y1, y2], x0_pointer=[[1.,1.,1.]])"
   ]
  },
  {
   "cell_type": "code",
   "execution_count": 300,
   "metadata": {},
   "outputs": [],
   "source": [
    "#jacfwd(F1)(np.array([1., 1., 1.]))"
   ]
  },
  {
   "cell_type": "code",
   "execution_count": 301,
   "metadata": {},
   "outputs": [],
   "source": [
    "from itertools import chain"
   ]
  },
  {
   "cell_type": "code",
   "execution_count": 302,
   "metadata": {},
   "outputs": [
    {
     "data": {
      "text/plain": [
       "({y2, z1, z2}, {a, x}, {x, y1, y2, z2})"
      ]
     },
     "execution_count": 302,
     "metadata": {},
     "output_type": "execute_result"
    }
   ],
   "source": [
    "f1.free_symbols,f2.free_symbols,obj.free_symbols"
   ]
  },
  {
   "cell_type": "code",
   "execution_count": 303,
   "metadata": {},
   "outputs": [],
   "source": [
    "f1l = lambdify((y2,z1,z2),f1)\n",
    "f2l = lambdify((a,x),f2)"
   ]
  },
  {
   "cell_type": "code",
   "execution_count": 304,
   "metadata": {},
   "outputs": [],
   "source": [
    "objl = lambdify((x,y1,y2,z2),obj,modules=jnp)\n",
    "objf = (lambda x: objl(*x), (x,y1,y2,z2))\n",
    "r1l = lambdify((a, y2, z1, z2), r1)\n",
    "r1f = (lambda x: r1l(*x), (a, y2, z1, z2))"
   ]
  },
  {
   "cell_type": "code",
   "execution_count": 305,
   "metadata": {},
   "outputs": [],
   "source": [
    "Fs = [(lambda x: f1l(*x), (a,),(y2,z1,z2)),\n",
    "      (lambda x: f2l(*x), (y1,),(a,x)),\n",
    "      (lambda x: objl(*x), (), (x,y1,y2,z2))]"
   ]
  },
  {
   "cell_type": "code",
   "execution_count": 306,
   "metadata": {},
   "outputs": [],
   "source": [
    "Fs1 = [(F1, (a,y1,y2), yother),\n",
    "      (lambda x: objl(*x), (), (x,y1,y2,z2))]"
   ]
  },
  {
   "cell_type": "code",
   "execution_count": 307,
   "metadata": {},
   "outputs": [
    {
     "data": {
      "text/plain": [
       "(DeviceArray([1, 2, 5], dtype=int32),\n",
       " [(<jax._src.custom_derivatives.custom_jvp at 0x1954c85ba30>,\n",
       "   DeviceArray([4, 0, 3], dtype=int32),\n",
       "   DeviceArray([1, 2, 5], dtype=int32)),\n",
       "  (<function __main__.<lambda>(x)>,\n",
       "   DeviceArray([], dtype=float32),\n",
       "   DeviceArray([2, 0, 3, 1], dtype=int32))],\n",
       " (y1, z2, x, y2, a, z1))"
      ]
     },
     "execution_count": 307,
     "metadata": {},
     "output_type": "execute_result"
    }
   ],
   "source": [
    "def structure(Fs):\n",
    "    _,allout,allin = zip(*Fs)\n",
    "    allvars = tuple({vr for vrs in chain(allout,allin) \n",
    "                for vr in vrs})\n",
    "    lookup_table = []\n",
    "    for Fi,youts,yins in Fs:\n",
    "        lookup_table.append((Fi,\n",
    "            jnp.array(tuple(allvars.index(yout) for yout in youts)),\n",
    "            jnp.array(tuple(allvars.index(yin) for yin in yins))))\n",
    "    coupled_in = ({vr for vrs in allin for vr in vrs}\n",
    "              -{vr for vrs in allout for vr in vrs})\n",
    "    indices_coupled_in=jnp.array(tuple(allvars.index(vr) \n",
    "                    for vr in coupled_in))\n",
    "    return indices_coupled_in, lookup_table, allvars\n",
    "structure(Fs1)"
   ]
  },
  {
   "cell_type": "code",
   "execution_count": 308,
   "metadata": {},
   "outputs": [],
   "source": [
    "def sequential_evaluation(indices_coupled_in, \n",
    "                           lookup_table, allvars):\n",
    "    def f(x):\n",
    "        xout = jnp.zeros(len(allvars))\n",
    "        xout = xout.at[indices_coupled_in].set(x)\n",
    "        for fi, indexout, indexin in lookup_table:\n",
    "            xout = xout.at[indexout].set(fi(xout[indexin]))\n",
    "        return xout\n",
    "    return f"
   ]
  },
  {
   "cell_type": "code",
   "execution_count": 309,
   "metadata": {},
   "outputs": [],
   "source": [
    "def sequential_elimination(f_with_in, phi):\n",
    "    f_to_reduce, indexin = f_with_in\n",
    "    def f(x):\n",
    "        xout = phi(x)\n",
    "        return f_to_reduce(xout[indexin])\n",
    "    return f"
   ]
  },
  {
   "cell_type": "code",
   "execution_count": 310,
   "metadata": {},
   "outputs": [],
   "source": [
    "x0 = (0.1,1.9,0.1)\n",
    "indices_coupled_in, lookup_table, allvars = structure(Fs1)\n",
    "phi = sequential_evaluation(indices_coupled_in, \n",
    "                            lookup_table[:-1], allvars)\n",
    "testf = objf\n",
    "testf_lookup = (testf[0], np.array([allvars.index(yin) \n",
    "                        for yin in testf[1]]))\n",
    "testf_reduced = sequential_elimination(testf_lookup, \n",
    "                                       phi=phi)"
   ]
  },
  {
   "cell_type": "code",
   "execution_count": 311,
   "metadata": {},
   "outputs": [],
   "source": [
    "#np.hstack((x0arr[0], F1(x0arr)[1:], x0arr[2])),testf[1]"
   ]
  },
  {
   "cell_type": "code",
   "execution_count": 312,
   "metadata": {},
   "outputs": [],
   "source": [
    "# xobj_test = np.hstack((x0arr[0], F1(x0arr)[1:], x0arr[2]))\n",
    "# eps = 1e-4\n",
    "# xobjdelta = xobj_test+eps*np.eye(len(xobj_test))[3]\n",
    "# (testf[0](xobjdelta)-testf[0](xobj_test))/eps"
   ]
  },
  {
   "cell_type": "code",
   "execution_count": 313,
   "metadata": {},
   "outputs": [],
   "source": [
    "#jacfwd(testf[0])(xobj_test)"
   ]
  },
  {
   "cell_type": "code",
   "execution_count": 314,
   "metadata": {},
   "outputs": [
    {
     "data": {
      "text/plain": [
       "[z2, x, z1]"
      ]
     },
     "execution_count": 314,
     "metadata": {},
     "output_type": "execute_result"
    }
   ],
   "source": [
    "[allvars[idx] for idx in indices_coupled_in]\n",
    " "
   ]
  },
  {
   "cell_type": "code",
   "execution_count": 317,
   "metadata": {},
   "outputs": [
    {
     "data": {
      "text/plain": [
       "DeviceArray(-3.1707284, dtype=float32)"
      ]
     },
     "execution_count": 317,
     "metadata": {},
     "output_type": "execute_result"
    }
   ],
   "source": [
    "x0arr=jnp.array(x0, dtype=np.float32)\n",
    "eps = 1e-3\n",
    "x0arrdelta = x0arr+eps*np.eye(len(x0arr))[0]\n",
    "(testf_reduced(x0arrdelta)-testf_reduced(x0arr))/eps"
   ]
  },
  {
   "cell_type": "code",
   "execution_count": 316,
   "metadata": {},
   "outputs": [
    {
     "name": "stdout",
     "output_type": "stream",
     "text": [
      "[-3.6994451668714845e-09, -3.0504533565789416e-08, DeviceArray(0., dtype=float32)]\n"
     ]
    },
    {
     "data": {
      "text/plain": [
       "DeviceArray([-3.1707401,  3.4090974, -4.17074  ], dtype=float32)"
      ]
     },
     "execution_count": 316,
     "metadata": {},
     "output_type": "execute_result"
    }
   ],
   "source": [
    "gradf = jacfwd(testf_reduced)\n",
    "gradf(x0arr)"
   ]
  },
  {
   "cell_type": "code",
   "execution_count": 294,
   "metadata": {},
   "outputs": [
    {
     "data": {
      "text/latex": [
       "$\\displaystyle x^{2} + y_{1} - y_{2}^{2} + z_{2}$"
      ],
      "text/plain": [
       "x**2 + y1 - y2**2 + z2"
      ]
     },
     "execution_count": 294,
     "metadata": {},
     "output_type": "execute_result"
    }
   ],
   "source": [
    "obj"
   ]
  },
  {
   "cell_type": "code",
   "execution_count": 165,
   "metadata": {},
   "outputs": [
    {
     "data": {
      "text/plain": [
       "{z2: 1.0, y2: 1.0, y1: 2.8, z1: 1.0, x: 1.0, a: 1.8}"
      ]
     },
     "execution_count": 165,
     "metadata": {},
     "output_type": "execute_result"
    }
   ],
   "source": [
    "dict(zip(allvars, xout))"
   ]
  },
  {
   "cell_type": "code",
   "execution_count": 125,
   "metadata": {},
   "outputs": [],
   "source": [
    "def evaluation_sequence(Fs):\n",
    "    _,allout,allin = zip(*Fs)\n",
    "    allvars = {vr for vrs in chain(allout,allin) \n",
    "               for vr in vrs}\n",
    "    for _,you,yin in Fs:\n",
    "        lookup_table.append(())\n"
   ]
  },
  {
   "cell_type": "code",
   "execution_count": 12,
   "metadata": {},
   "outputs": [],
   "source": [
    "groups = {r1,r2}, {r3}"
   ]
  },
  {
   "cell_type": "code",
   "execution_count": null,
   "metadata": {},
   "outputs": [],
   "source": [
    "phi = [F1,F2]\n",
    "obj, dobj = reformulate(objective, eliminate=phi)"
   ]
  }
 ],
 "metadata": {
  "kernelspec": {
   "display_name": "minimdo",
   "language": "python",
   "name": "python3"
  },
  "language_info": {
   "codemirror_mode": {
    "name": "ipython",
    "version": 3
   },
   "file_extension": ".py",
   "mimetype": "text/x-python",
   "name": "python",
   "nbconvert_exporter": "python",
   "pygments_lexer": "ipython3",
   "version": "3.9.12"
  }
 },
 "nbformat": 4,
 "nbformat_minor": 2
}
