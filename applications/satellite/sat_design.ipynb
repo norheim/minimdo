{
 "cells": [
  {
   "cell_type": "code",
   "execution_count": 1,
   "id": "7988c957-e1ce-4a6a-b812-6999a8006a4b",
   "metadata": {
    "execution": {
     "iopub.execute_input": "2022-12-09T15:37:30.168025Z",
     "iopub.status.busy": "2022-12-09T15:37:30.168025Z",
     "iopub.status.idle": "2022-12-09T15:37:32.957835Z",
     "shell.execute_reply": "2022-12-09T15:37:32.956950Z",
     "shell.execute_reply.started": "2022-12-09T15:37:30.168025Z"
    },
    "tags": []
   },
   "outputs": [],
   "source": [
    "from sat_initial import *"
   ]
  },
  {
   "cell_type": "code",
   "execution_count": 2,
   "id": "6ad2fe53-a6fd-466d-9510-20e9b63efbe9",
   "metadata": {
    "execution": {
     "iopub.execute_input": "2022-12-09T15:37:32.958834Z",
     "iopub.status.busy": "2022-12-09T15:37:32.958834Z",
     "iopub.status.idle": "2022-12-09T15:37:32.973916Z",
     "shell.execute_reply": "2022-12-09T15:37:32.972919Z",
     "shell.execute_reply.started": "2022-12-09T15:37:32.958834Z"
    },
    "tags": []
   },
   "outputs": [],
   "source": [
    "from datastructures.api import (edges_no_param, addf, addobj, addineq, OPT, SolverRef, merge, \n",
    "copy_dicts, setsolvefor, var_params)\n",
    "from datastructures.graphutils import flatten_tree, all_variables, all_edges\n",
    "from datastructures.tearing import dir_graph, min_arc_set_assign\n",
    "from datastructures.operators import reformulate, invert_edges\n",
    "from datastructures.rendering import render_incidence\n",
    "from datastructures.runpipeline import (model_to_problem, order_from_tree, \n",
    "    default_solver_options, mdao_workflow)\n",
    "from datastructures.postprocess import print_outputs, print_inputs, update_varval\n",
    "from datastructures.transformations import transform_components\n",
    "import openmdao.api as om\n",
    "import numpy as np\n",
    "from ipywidgets import interact, interactive, fixed, interact_manual\n",
    "import ipywidgets as widgets"
   ]
  },
  {
   "cell_type": "code",
   "execution_count": 3,
   "id": "084cbb57-b115-4c26-b918-933338943469",
   "metadata": {
    "execution": {
     "iopub.execute_input": "2022-12-09T15:37:32.974916Z",
     "iopub.status.busy": "2022-12-09T15:37:32.974916Z",
     "iopub.status.idle": "2022-12-09T15:37:32.988280Z",
     "shell.execute_reply": "2022-12-09T15:37:32.988280Z",
     "shell.execute_reply.started": "2022-12-09T15:37:32.974916Z"
    },
    "tags": []
   },
   "outputs": [],
   "source": [
    "import matplotlib.pyplot as plt\n",
    "plt.rcParams['text.usetex'] = True"
   ]
  },
  {
   "cell_type": "code",
   "execution_count": 4,
   "id": "eafaf8d2-b1bf-40c7-a608-698e92f10e59",
   "metadata": {
    "execution": {
     "iopub.execute_input": "2022-12-09T15:37:32.990798Z",
     "iopub.status.busy": "2022-12-09T15:37:32.990798Z",
     "iopub.status.idle": "2022-12-09T15:37:33.004861Z",
     "shell.execute_reply": "2022-12-09T15:37:33.003867Z",
     "shell.execute_reply.started": "2022-12-09T15:37:32.990798Z"
    },
    "tags": []
   },
   "outputs": [],
   "source": [
    "edges, tree = model.generate_formulation()\n",
    "edges_nopar =  edges_no_param(model, edges)\n",
    "outset_initial = {comp: var[0] for comp,var in edges[1].items()}"
   ]
  },
  {
   "cell_type": "code",
   "execution_count": 5,
   "id": "3a26dff6-8524-4ad1-ad7c-a6187323d214",
   "metadata": {
    "execution": {
     "iopub.execute_input": "2022-12-09T15:37:33.006866Z",
     "iopub.status.busy": "2022-12-09T15:37:33.005862Z",
     "iopub.status.idle": "2022-12-09T15:37:34.546411Z",
     "shell.execute_reply": "2022-12-09T15:37:34.546411Z",
     "shell.execute_reply.started": "2022-12-09T15:37:33.006866Z"
    },
    "tags": []
   },
   "outputs": [
    {
     "data": {
      "image/png": "[encoded data removed]",
      "text/plain": [
       "<Figure size 648x648 with 1 Axes>"
      ]
     },
     "metadata": {
      "needs_background": "light"
     },
     "output_type": "display_data"
    }
   ],
   "source": [
    "render_incidence(edges_nopar, tree, figname=\"satellite_default_hsm.png\", save=True, rawvarname=True, \n",
    "                         dispendcomp=False, hideticks=True, patchwidth=4, figsize=((9,9)));"
   ]
  },
  {
   "cell_type": "markdown",
   "id": "c503a6e3-b640-4889-92a5-63d69182c063",
   "metadata": {},
   "source": [
    "## Analysis"
   ]
  },
  {
   "cell_type": "code",
   "execution_count": 6,
   "id": "f20962dd-c21e-497d-a6c5-77723057fa05",
   "metadata": {
    "execution": {
     "iopub.execute_input": "2022-12-09T15:37:36.371987Z",
     "iopub.status.busy": "2022-12-09T15:37:36.371020Z",
     "iopub.status.idle": "2022-12-09T15:37:36.380651Z",
     "shell.execute_reply": "2022-12-09T15:37:36.380012Z",
     "shell.execute_reply.started": "2022-12-09T15:37:36.371987Z"
    },
    "tags": []
   },
   "outputs": [],
   "source": [
    "edges_initial = edges\n",
    "tree_initial = flatten_tree(tree, 'root')"
   ]
  },
  {
   "cell_type": "code",
   "execution_count": 7,
   "id": "e9c5fc77-8ef7-4a0d-8222-190e8c19296e",
   "metadata": {
    "execution": {
     "iopub.execute_input": "2022-12-09T15:37:36.575728Z",
     "iopub.status.busy": "2022-12-09T15:37:36.575728Z",
     "iopub.status.idle": "2022-12-09T15:37:36.601319Z",
     "shell.execute_reply": "2022-12-09T15:37:36.600311Z",
     "shell.execute_reply.started": "2022-12-09T15:37:36.575728Z"
    },
    "tags": []
   },
   "outputs": [],
   "source": [
    "edges_feedback, tree_feedback = reformulate(edges_initial, tree_initial, outset_initial, mdf=True)\n",
    "newcomps = transform_components(edges_initial, edges_feedback, model.components, model.idmapping)"
   ]
  },
  {
   "cell_type": "code",
   "execution_count": 8,
   "id": "23b3b29d-5d0e-4963-a394-3f9eea1dbb9b",
   "metadata": {
    "execution": {
     "iopub.execute_input": "2022-12-09T15:37:36.778452Z",
     "iopub.status.busy": "2022-12-09T15:37:36.778452Z",
     "iopub.status.idle": "2022-12-09T15:37:36.787974Z",
     "shell.execute_reply": "2022-12-09T15:37:36.787060Z",
     "shell.execute_reply.started": "2022-12-09T15:37:36.778452Z"
    },
    "tags": []
   },
   "outputs": [
    {
     "data": {
      "text/plain": [
       "[(('m_s', 'm_t', '\\\\eta_S'), 19, (None,), '-\\\\eta_S*m_t + m_s'),\n",
       " (('m_p', 'm_T', 'm_s', 'm_t', 'm_A', 'm_b', 'm_{pr}'), 20, (None,), '-m_A - m_T - m_b - m_p - m_s + m_t - m_{pr}')]"
      ]
     },
     "execution_count": 8,
     "metadata": {},
     "output_type": "execute_result"
    }
   ],
   "source": [
    "newcomps"
   ]
  },
  {
   "cell_type": "code",
   "execution_count": 9,
   "id": "1fc2a02d-1138-4608-b689-4bc1a7054502",
   "metadata": {
    "execution": {
     "iopub.execute_input": "2022-12-09T15:37:37.317136Z",
     "iopub.status.busy": "2022-12-09T15:37:37.316134Z",
     "iopub.status.idle": "2022-12-09T15:37:37.682645Z",
     "shell.execute_reply": "2022-12-09T15:37:37.682645Z",
     "shell.execute_reply.started": "2022-12-09T15:37:37.317136Z"
    },
    "tags": []
   },
   "outputs": [
    {
     "data": {
      "image/png": "[encoded data removed]",
      "text/plain": [
       "<Figure size 648x648 with 1 Axes>"
      ]
     },
     "metadata": {
      "needs_background": "light"
     },
     "output_type": "display_data"
    }
   ],
   "source": [
    "render_incidence(edges_nopar, tree_feedback, rawvarname=True, \n",
    "                         dispendcomp=False, hideticks=True, patchwidth=4, figsize=((9,9)));"
   ]
  },
  {
   "cell_type": "code",
   "execution_count": 10,
   "id": "2fa7ef4e-0904-46bc-af52-13d7682cd6cb",
   "metadata": {
    "execution": {
     "iopub.execute_input": "2022-12-09T15:37:42.102341Z",
     "iopub.status.busy": "2022-12-09T15:37:42.102341Z",
     "iopub.status.idle": "2022-12-09T15:37:42.118207Z",
     "shell.execute_reply": "2022-12-09T15:37:42.117298Z",
     "shell.execute_reply.started": "2022-12-09T15:37:42.102341Z"
    },
    "tags": []
   },
   "outputs": [],
   "source": [
    "model.solvers_options[2] = {'solver': 'GS', 'maxiter':20}"
   ]
  },
  {
   "cell_type": "code",
   "execution_count": 11,
   "id": "8031574e-d9b0-4e16-9a73-3cd48654babb",
   "metadata": {
    "execution": {
     "iopub.execute_input": "2022-12-09T15:37:42.382366Z",
     "iopub.status.busy": "2022-12-09T15:37:42.381289Z",
     "iopub.status.idle": "2022-12-09T15:37:42.412849Z",
     "shell.execute_reply": "2022-12-09T15:37:42.411844Z",
     "shell.execute_reply.started": "2022-12-09T15:37:42.382366Z"
    },
    "tags": []
   },
   "outputs": [],
   "source": [
    "prob, mdao_in, groups, namingfunc = model_to_problem(model, \n",
    "                        formulation=(edges_feedback, tree_feedback),\n",
    "                        components=model.components+newcomps)"
   ]
  },
  {
   "cell_type": "code",
   "execution_count": 12,
   "id": "cc53bdae-fb2e-4f54-8d3f-fac588ecdc1e",
   "metadata": {
    "execution": {
     "iopub.execute_input": "2022-12-09T15:37:42.761222Z",
     "iopub.status.busy": "2022-12-09T15:37:42.761222Z",
     "iopub.status.idle": "2022-12-09T15:37:46.561721Z",
     "shell.execute_reply": "2022-12-09T15:37:46.560716Z",
     "shell.execute_reply.started": "2022-12-09T15:37:42.761222Z"
    },
    "tags": []
   },
   "outputs": [
    {
     "name": "stdout",
     "output_type": "stream",
     "text": [
      "\n",
      "=====\n",
      "sroot\n",
      "=====\n",
      "+  \n",
      "+  ========\n",
      "+  sroot.s2\n",
      "+  ========\n",
      "+  NL: NLBGS Converged in 1 iterations\n",
      "+  \n",
      "+  ========\n",
      "+  sroot.s2\n",
      "+  ========\n",
      "+  NL: NLBGS Converged in 1 iterations\n",
      "NL: Newton Converged in 1 iterations\n"
     ]
    }
   ],
   "source": [
    "prob.run_model()"
   ]
  },
  {
   "cell_type": "code",
   "execution_count": 13,
   "id": "92aa62cc-e78c-4a92-a0d7-ea01b6ed2747",
   "metadata": {
    "execution": {
     "iopub.execute_input": "2022-12-09T15:37:48.378971Z",
     "iopub.status.busy": "2022-12-09T15:37:48.378971Z",
     "iopub.status.idle": "2022-12-09T15:37:48.435500Z",
     "shell.execute_reply": "2022-12-09T15:37:48.434833Z",
     "shell.execute_reply.started": "2022-12-09T15:37:48.378971Z"
    },
    "tags": []
   },
   "outputs": [
    {
     "data": {
      "text/html": [
       "<style type=\"text/css\">\n",
       "</style>\n",
       "<table id=\"T_0f78d\">\n",
       "  <thead>\n",
       "  </thead>\n",
       "  <tbody>\n",
       "    <tr>\n",
       "      <td id=\"T_0f78d_row0_col0\" class=\"data row0 col0\" >$$m_{pr}$$</td>\n",
       "      <td id=\"T_0f78d_row0_col1\" class=\"data row0 col1\" >0.5</td>\n",
       "      <td id=\"T_0f78d_row0_col2\" class=\"data row0 col2\" >kg</td>\n",
       "    </tr>\n",
       "    <tr>\n",
       "      <td id=\"T_0f78d_row1_col0\" class=\"data row1 col0\" >$$A$$</td>\n",
       "      <td id=\"T_0f78d_row1_col1\" class=\"data row1 col1\" >0.05</td>\n",
       "      <td id=\"T_0f78d_row1_col2\" class=\"data row1 col2\" >m²</td>\n",
       "    </tr>\n",
       "    <tr>\n",
       "      <td id=\"T_0f78d_row2_col0\" class=\"data row2 col0\" >$$h$$</td>\n",
       "      <td id=\"T_0f78d_row2_col1\" class=\"data row2 col1\" >400</td>\n",
       "      <td id=\"T_0f78d_row2_col2\" class=\"data row2 col2\" >km</td>\n",
       "    </tr>\n",
       "    <tr>\n",
       "      <td id=\"T_0f78d_row3_col0\" class=\"data row3 col0\" >$$X_r$$</td>\n",
       "      <td id=\"T_0f78d_row3_col1\" class=\"data row3 col1\" >5</td>\n",
       "      <td id=\"T_0f78d_row3_col2\" class=\"data row3 col2\" >m</td>\n",
       "    </tr>\n",
       "  </tbody>\n",
       "</table>\n"
      ],
      "text/plain": [
       "<pandas.io.formats.style.Styler at 0x1bf9a8795b0>"
      ]
     },
     "execution_count": 13,
     "metadata": {},
     "output_type": "execute_result"
    }
   ],
   "source": [
    "print_inputs(model, prob, namingfunc, mdao_in)"
   ]
  },
  {
   "cell_type": "code",
   "execution_count": 14,
   "id": "eb5c4202-d5b7-4371-b94d-56299ac65562",
   "metadata": {
    "execution": {
     "iopub.execute_input": "2022-12-09T15:37:49.728424Z",
     "iopub.status.busy": "2022-12-09T15:37:49.728424Z",
     "iopub.status.idle": "2022-12-09T15:37:49.750528Z",
     "shell.execute_reply": "2022-12-09T15:37:49.749498Z",
     "shell.execute_reply.started": "2022-12-09T15:37:49.728424Z"
    },
    "tags": []
   },
   "outputs": [
    {
     "data": {
      "text/html": [
       "<style type=\"text/css\">\n",
       "</style>\n",
       "<table id=\"T_994b3\">\n",
       "  <thead>\n",
       "  </thead>\n",
       "  <tbody>\n",
       "    <tr>\n",
       "      <td id=\"T_994b3_row0_col0\" class=\"data row0 col0\" >$$L_t$$</td>\n",
       "      <td id=\"T_994b3_row0_col1\" class=\"data row0 col1\" >1.429</td>\n",
       "      <td id=\"T_994b3_row0_col2\" class=\"data row0 col2\" >yr</td>\n",
       "    </tr>\n",
       "    <tr>\n",
       "      <td id=\"T_994b3_row1_col0\" class=\"data row1 col0\" >$$EN$$</td>\n",
       "      <td id=\"T_994b3_row1_col1\" class=\"data row1 col1\" >1.084</td>\n",
       "      <td id=\"T_994b3_row1_col2\" class=\"data row1 col2\" ></td>\n",
       "    </tr>\n",
       "    <tr>\n",
       "      <td id=\"T_994b3_row2_col0\" class=\"data row2 col0\" >$$m_t$$</td>\n",
       "      <td id=\"T_994b3_row2_col1\" class=\"data row2 col1\" >1.622</td>\n",
       "      <td id=\"T_994b3_row2_col2\" class=\"data row2 col2\" >kg</td>\n",
       "    </tr>\n",
       "  </tbody>\n",
       "</table>\n"
      ],
      "text/plain": [
       "<pandas.io.formats.style.Styler at 0x1bf9cd5e820>"
      ]
     },
     "execution_count": 14,
     "metadata": {},
     "output_type": "execute_result"
    }
   ],
   "source": [
    "print_inputs(model, prob, namingfunc, ['m_t','EN', 'L_t'])"
   ]
  },
  {
   "cell_type": "code",
   "execution_count": 15,
   "id": "58f72859-601e-4b66-832d-2d3eac2c094a",
   "metadata": {
    "execution": {
     "iopub.execute_input": "2022-12-09T15:43:26.053611Z",
     "iopub.status.busy": "2022-12-09T15:43:26.053611Z",
     "iopub.status.idle": "2022-12-09T15:43:26.065192Z",
     "shell.execute_reply": "2022-12-09T15:43:26.065192Z",
     "shell.execute_reply.started": "2022-12-09T15:43:26.053611Z"
    }
   },
   "outputs": [
    {
     "data": {
      "text/html": [
       "<style type=\"text/css\">\n",
       "</style>\n",
       "<table id=\"T_35ce8\">\n",
       "  <thead>\n",
       "  </thead>\n",
       "  <tbody>\n",
       "    <tr>\n",
       "      <td id=\"T_35ce8_row0_col0\" class=\"data row0 col0\" >$$a$$</td>\n",
       "      <td id=\"T_35ce8_row0_col1\" class=\"data row0 col1\" >6778</td>\n",
       "      <td id=\"T_35ce8_row0_col2\" class=\"data row0 col2\" >km</td>\n",
       "    </tr>\n",
       "    <tr>\n",
       "      <td id=\"T_35ce8_row1_col0\" class=\"data row1 col0\" >$$T$$</td>\n",
       "      <td id=\"T_35ce8_row1_col1\" class=\"data row1 col1\" >92.558</td>\n",
       "      <td id=\"T_35ce8_row1_col2\" class=\"data row1 col2\" >min</td>\n",
       "    </tr>\n",
       "    <tr>\n",
       "      <td id=\"T_35ce8_row2_col0\" class=\"data row2 col0\" >$$g$$</td>\n",
       "      <td id=\"T_35ce8_row2_col1\" class=\"data row2 col1\" >0.11</td>\n",
       "      <td id=\"T_35ce8_row2_col2\" class=\"data row2 col2\" ></td>\n",
       "    </tr>\n",
       "    <tr>\n",
       "      <td id=\"T_35ce8_row3_col0\" class=\"data row3 col0\" >$$d$$</td>\n",
       "      <td id=\"T_35ce8_row3_col1\" class=\"data row3 col1\" >0.61</td>\n",
       "      <td id=\"T_35ce8_row3_col2\" class=\"data row3 col2\" ></td>\n",
       "    </tr>\n",
       "    <tr>\n",
       "      <td id=\"T_35ce8_row4_col0\" class=\"data row4 col0\" >$$r$$</td>\n",
       "      <td id=\"T_35ce8_row4_col1\" class=\"data row4 col1\" >2293.992</td>\n",
       "      <td id=\"T_35ce8_row4_col2\" class=\"data row4 col2\" >km</td>\n",
       "    </tr>\n",
       "    <tr>\n",
       "      <td id=\"T_35ce8_row5_col0\" class=\"data row5 col0\" >$$m_A$$</td>\n",
       "      <td id=\"T_35ce8_row5_col1\" class=\"data row5 col1\" >0.5</td>\n",
       "      <td id=\"T_35ce8_row5_col2\" class=\"data row5 col2\" >kg</td>\n",
       "    </tr>\n",
       "    <tr>\n",
       "      <td id=\"T_35ce8_row6_col0\" class=\"data row6 col0\" >$$P_c$$</td>\n",
       "      <td id=\"T_35ce8_row6_col1\" class=\"data row6 col1\" >12.506</td>\n",
       "      <td id=\"T_35ce8_row6_col2\" class=\"data row6 col2\" >W</td>\n",
       "    </tr>\n",
       "    <tr>\n",
       "      <td id=\"T_35ce8_row7_col0\" class=\"data row7 col0\" >$$P_T$$</td>\n",
       "      <td id=\"T_35ce8_row7_col1\" class=\"data row7 col1\" >0.506</td>\n",
       "      <td id=\"T_35ce8_row7_col2\" class=\"data row7 col2\" >W</td>\n",
       "    </tr>\n",
       "    <tr>\n",
       "      <td id=\"T_35ce8_row8_col0\" class=\"data row8 col0\" >$$E_b$$</td>\n",
       "      <td id=\"T_35ce8_row8_col1\" class=\"data row8 col1\" >113.874</td>\n",
       "      <td id=\"T_35ce8_row8_col2\" class=\"data row8 col2\" >kJ</td>\n",
       "    </tr>\n",
       "    <tr>\n",
       "      <td id=\"T_35ce8_row9_col0\" class=\"data row9 col0\" >$$m_b$$</td>\n",
       "      <td id=\"T_35ce8_row9_col1\" class=\"data row9 col1\" >0.228</td>\n",
       "      <td id=\"T_35ce8_row9_col2\" class=\"data row9 col2\" >kg</td>\n",
       "    </tr>\n",
       "    <tr>\n",
       "      <td id=\"T_35ce8_row10_col0\" class=\"data row10 col0\" >$$D_p$$</td>\n",
       "      <td id=\"T_35ce8_row10_col1\" class=\"data row10 col1\" >0.049</td>\n",
       "      <td id=\"T_35ce8_row10_col2\" class=\"data row10 col2\" >m</td>\n",
       "    </tr>\n",
       "    <tr>\n",
       "      <td id=\"T_35ce8_row11_col0\" class=\"data row11 col0\" >$$D$$</td>\n",
       "      <td id=\"T_35ce8_row11_col1\" class=\"data row11 col1\" >16.03</td>\n",
       "      <td id=\"T_35ce8_row11_col2\" class=\"data row11 col2\" >GB</td>\n",
       "    </tr>\n",
       "    <tr>\n",
       "      <td id=\"T_35ce8_row12_col0\" class=\"data row12 col0\" >$$m_p$$</td>\n",
       "      <td id=\"T_35ce8_row12_col1\" class=\"data row12 col1\" >0.022</td>\n",
       "      <td id=\"T_35ce8_row12_col2\" class=\"data row12 col2\" >kg</td>\n",
       "    </tr>\n",
       "    <tr>\n",
       "      <td id=\"T_35ce8_row13_col0\" class=\"data row13 col0\" >$$b$$</td>\n",
       "      <td id=\"T_35ce8_row13_col1\" class=\"data row13 col1\" >26.264</td>\n",
       "      <td id=\"T_35ce8_row13_col2\" class=\"data row13 col2\" >MB/s</td>\n",
       "    </tr>\n",
       "    <tr>\n",
       "      <td id=\"T_35ce8_row14_col0\" class=\"data row14 col0\" >$$\\lambda_c$$</td>\n",
       "      <td id=\"T_35ce8_row14_col1\" class=\"data row14 col1\" >13.591</td>\n",
       "      <td id=\"T_35ce8_row14_col2\" class=\"data row14 col2\" >cm</td>\n",
       "    </tr>\n",
       "    <tr>\n",
       "      <td id=\"T_35ce8_row15_col0\" class=\"data row15 col0\" >$$D_T$$</td>\n",
       "      <td id=\"T_35ce8_row15_col1\" class=\"data row15 col1\" >0.39</td>\n",
       "      <td id=\"T_35ce8_row15_col2\" class=\"data row15 col2\" >m</td>\n",
       "    </tr>\n",
       "    <tr>\n",
       "      <td id=\"T_35ce8_row16_col0\" class=\"data row16 col0\" >$$m_T$$</td>\n",
       "      <td id=\"T_35ce8_row16_col1\" class=\"data row16 col1\" >0.049</td>\n",
       "      <td id=\"T_35ce8_row16_col2\" class=\"data row16 col2\" >kg</td>\n",
       "    </tr>\n",
       "    <tr>\n",
       "      <td id=\"T_35ce8_row17_col0\" class=\"data row17 col0\" >$$G_r$$</td>\n",
       "      <td id=\"T_35ce8_row17_col1\" class=\"data row17 col1\" >8255.002</td>\n",
       "      <td id=\"T_35ce8_row17_col2\" class=\"data row17 col2\" ></td>\n",
       "    </tr>\n",
       "    <tr>\n",
       "      <td id=\"T_35ce8_row18_col0\" class=\"data row18 col0\" >$$EN$$</td>\n",
       "      <td id=\"T_35ce8_row18_col1\" class=\"data row18 col1\" >1.084</td>\n",
       "      <td id=\"T_35ce8_row18_col2\" class=\"data row18 col2\" ></td>\n",
       "    </tr>\n",
       "    <tr>\n",
       "      <td id=\"T_35ce8_row19_col0\" class=\"data row19 col0\" >$$m_s$$</td>\n",
       "      <td id=\"T_35ce8_row19_col1\" class=\"data row19 col1\" >0.324</td>\n",
       "      <td id=\"T_35ce8_row19_col2\" class=\"data row19 col2\" >kg</td>\n",
       "    </tr>\n",
       "    <tr>\n",
       "      <td id=\"T_35ce8_row20_col0\" class=\"data row20 col0\" >$$m_t$$</td>\n",
       "      <td id=\"T_35ce8_row20_col1\" class=\"data row20 col1\" >1.622</td>\n",
       "      <td id=\"T_35ce8_row20_col2\" class=\"data row20 col2\" >kg</td>\n",
       "    </tr>\n",
       "    <tr>\n",
       "      <td id=\"T_35ce8_row21_col0\" class=\"data row21 col0\" >$$H_{val}$$</td>\n",
       "      <td id=\"T_35ce8_row21_col1\" class=\"data row21 col1\" >5.820×10⁴</td>\n",
       "      <td id=\"T_35ce8_row21_col2\" class=\"data row21 col2\" >m</td>\n",
       "    </tr>\n",
       "    <tr>\n",
       "      <td id=\"T_35ce8_row22_col0\" class=\"data row22 col0\" >$$\\rho_{val}$$</td>\n",
       "      <td id=\"T_35ce8_row22_col1\" class=\"data row22 col1\" >2.720×10⁻¹²</td>\n",
       "      <td id=\"T_35ce8_row22_col2\" class=\"data row22 col2\" >kg/m³</td>\n",
       "    </tr>\n",
       "    <tr>\n",
       "      <td id=\"T_35ce8_row23_col0\" class=\"data row23 col0\" >$$L_n$$</td>\n",
       "      <td id=\"T_35ce8_row23_col1\" class=\"data row23 col1\" >0.192</td>\n",
       "      <td id=\"T_35ce8_row23_col2\" class=\"data row23 col2\" >yr</td>\n",
       "    </tr>\n",
       "    <tr>\n",
       "      <td id=\"T_35ce8_row24_col0\" class=\"data row24 col0\" >$$L_p$$</td>\n",
       "      <td id=\"T_35ce8_row24_col1\" class=\"data row24 col1\" >1.237</td>\n",
       "      <td id=\"T_35ce8_row24_col2\" class=\"data row24 col2\" >yr</td>\n",
       "    </tr>\n",
       "    <tr>\n",
       "      <td id=\"T_35ce8_row25_col0\" class=\"data row25 col0\" >$$L_t$$</td>\n",
       "      <td id=\"T_35ce8_row25_col1\" class=\"data row25 col1\" >1.429</td>\n",
       "      <td id=\"T_35ce8_row25_col2\" class=\"data row25 col2\" >yr</td>\n",
       "    </tr>\n",
       "  </tbody>\n",
       "</table>\n"
      ],
      "text/plain": [
       "<pandas.io.formats.style.Styler at 0x1bf9cd5e490>"
      ]
     },
     "execution_count": 15,
     "metadata": {},
     "output_type": "execute_result"
    }
   ],
   "source": [
    "print_outputs(model, prob, namingfunc)"
   ]
  },
  {
   "cell_type": "markdown",
   "id": "a4a56f53-5360-41c6-9140-3ce99848f8e9",
   "metadata": {},
   "source": [
    "# Design"
   ]
  },
  {
   "cell_type": "markdown",
   "id": "6895679c-52c2-4312-96d8-e2de8115ac25",
   "metadata": {},
   "source": [
    "## Baseline structure"
   ]
  },
  {
   "cell_type": "code",
   "execution_count": 15,
   "id": "60040630-e774-4ce3-955c-74a4e2f73af2",
   "metadata": {
    "execution": {
     "iopub.execute_input": "2022-08-15T20:46:34.126241Z",
     "iopub.status.busy": "2022-08-15T20:46:34.126241Z",
     "iopub.status.idle": "2022-08-15T20:46:34.148937Z",
     "shell.execute_reply": "2022-08-15T20:46:34.148719Z",
     "shell.execute_reply.started": "2022-08-15T20:46:34.126241Z"
    },
    "tags": []
   },
   "outputs": [],
   "source": [
    "design_solver = addsolver(m, name=\"design\", idbyname=True)\n",
    "ENreq = Par('EN_r', 14.125)\n",
    "addf(design_solver, -Lt+L_min)\n",
    "addf(design_solver, -EN+ENreq)\n",
    "setsolvefor(design_solver, [m_pr, A])"
   ]
  },
  {
   "cell_type": "code",
   "execution_count": 16,
   "id": "8e303ade-e058-4638-b6d6-e26878728799",
   "metadata": {
    "execution": {
     "iopub.execute_input": "2022-08-15T20:46:34.608844Z",
     "iopub.status.busy": "2022-08-15T20:46:34.607807Z",
     "iopub.status.idle": "2022-08-15T20:46:34.619114Z",
     "shell.execute_reply": "2022-08-15T20:46:34.618558Z",
     "shell.execute_reply.started": "2022-08-15T20:46:34.608844Z"
    },
    "tags": []
   },
   "outputs": [],
   "source": [
    "formulation = model.generate_formulation()\n",
    "edges_design, tree_design = merge(formulation, edges_feedback, \n",
    "                                  tree_feedback, copysolvers=False)\n",
    "tree_design[1]['root'] = 'design'\n",
    "tree_design[1]['design'] = 0\n",
    "edges_design_noparam = edges_no_param(model, edges_design)"
   ]
  },
  {
   "cell_type": "code",
   "execution_count": 17,
   "id": "eca102de-8ae9-4c5d-a950-44e510bb15af",
   "metadata": {
    "execution": {
     "iopub.execute_input": "2022-08-15T20:47:00.190444Z",
     "iopub.status.busy": "2022-08-15T20:47:00.190444Z",
     "iopub.status.idle": "2022-08-15T20:47:01.140922Z",
     "shell.execute_reply": "2022-08-15T20:47:01.139867Z",
     "shell.execute_reply.started": "2022-08-15T20:47:00.190444Z"
    },
    "tags": []
   },
   "outputs": [
    {
     "data": {
      "image/png": "[encoded data removed]",
      "text/plain": [
       "<Figure size 648x648 with 1 Axes>"
      ]
     },
     "metadata": {
      "needs_background": "light"
     },
     "output_type": "display_data"
    }
   ],
   "source": [
    "render_incidence(edges_design_noparam, tree_design, figname=\"satellite_design_unstructured_hsm.png\", save=True, rawvarname=True, \n",
    "                         dispendcomp=False, hideticks=True, patchwidth=4, figsize=((9,9)));"
   ]
  },
  {
   "cell_type": "code",
   "execution_count": 18,
   "id": "2f468ad4-394c-4db3-a06a-76b24d69f881",
   "metadata": {
    "execution": {
     "iopub.execute_input": "2022-08-15T20:47:06.103592Z",
     "iopub.status.busy": "2022-08-15T20:47:06.103592Z",
     "iopub.status.idle": "2022-08-15T20:47:06.129217Z",
     "shell.execute_reply": "2022-08-15T20:47:06.128217Z",
     "shell.execute_reply.started": "2022-08-15T20:47:06.103592Z"
    },
    "tags": []
   },
   "outputs": [],
   "source": [
    "prob, mdao_in, groups, namingfunc = model_to_problem(model, \n",
    "                        formulation=(edges_design, tree_design),\n",
    "                        components=model.components+newcomps)"
   ]
  },
  {
   "cell_type": "code",
   "execution_count": 19,
   "id": "9ff6b7a2-94c7-4d94-91b8-76d0a762cd82",
   "metadata": {
    "execution": {
     "iopub.execute_input": "2022-08-15T20:47:07.439688Z",
     "iopub.status.busy": "2022-08-15T20:47:07.438698Z",
     "iopub.status.idle": "2022-08-15T20:47:07.447227Z",
     "shell.execute_reply": "2022-08-15T20:47:07.446604Z",
     "shell.execute_reply.started": "2022-08-15T20:47:07.439688Z"
    },
    "tags": []
   },
   "outputs": [],
   "source": [
    "import time"
   ]
  },
  {
   "cell_type": "code",
   "execution_count": 20,
   "id": "31a37e2b-1119-4185-af3b-62f3ec6eaecc",
   "metadata": {
    "execution": {
     "iopub.execute_input": "2022-08-15T20:47:08.005000Z",
     "iopub.status.busy": "2022-08-15T20:47:08.005000Z",
     "iopub.status.idle": "2022-08-15T20:47:09.339214Z",
     "shell.execute_reply": "2022-08-15T20:47:09.338207Z",
     "shell.execute_reply.started": "2022-08-15T20:47:08.005000Z"
    },
    "tags": []
   },
   "outputs": [
    {
     "name": "stdout",
     "output_type": "stream",
     "text": [
      "\n",
      "==\n",
      "s0\n",
      "==\n",
      "NL: Newton Converged in 0 iterations\n",
      "\n",
      "=======\n",
      "sdesign\n",
      "=======\n",
      "+  \n",
      "+  =============\n",
      "+  sdesign.sroot\n",
      "+  =============\n",
      "+  +  \n",
      "+  +  ================\n",
      "+  +  sdesign.sroot.s2\n",
      "+  +  ================\n",
      "+  +  NL: NLBGS Converged in 1 iterations\n",
      "+  +  \n",
      "+  +  ================\n",
      "+  +  sdesign.sroot.s2\n",
      "+  +  ================\n",
      "+  +  NL: NLBGS Converged in 1 iterations\n",
      "+  NL: Newton Converged in 1 iterations\n",
      "+  \n",
      "+  =============\n",
      "+  sdesign.sroot\n",
      "+  =============\n",
      "+  +  \n",
      "+  +  ================\n",
      "+  +  sdesign.sroot.s2\n",
      "+  +  ================\n",
      "+  +  NL: NLBGS Converged in 1 iterations\n",
      "+  NL: Newton Converged in 0 iterations\n",
      "+  \n",
      "+  =============\n",
      "+  sdesign.sroot\n",
      "+  =============\n",
      "+  +  \n",
      "+  +  ================\n",
      "+  +  sdesign.sroot.s2\n",
      "+  +  ================\n",
      "+  +  NL: NLBGS Converged in 1 iterations\n",
      "+  NL: Newton Converged in 0 iterations\n",
      "NL: Newton Converged in 2 iterations\n",
      "--- 1.3200664520263672 seconds ---\n"
     ]
    }
   ],
   "source": [
    "start_time = time.time()\n",
    "prob.run_model()\n",
    "print(\"--- %s seconds ---\" % (time.time() - start_time))"
   ]
  },
  {
   "cell_type": "code",
   "execution_count": 21,
   "id": "75446c80-a54f-4e20-986a-58a989f0b642",
   "metadata": {
    "execution": {
     "iopub.execute_input": "2022-08-15T20:47:11.798568Z",
     "iopub.status.busy": "2022-08-15T20:47:11.796643Z",
     "iopub.status.idle": "2022-08-15T20:47:11.817562Z",
     "shell.execute_reply": "2022-08-15T20:47:11.816560Z",
     "shell.execute_reply.started": "2022-08-15T20:47:11.797657Z"
    },
    "tags": []
   },
   "outputs": [
    {
     "data": {
      "text/html": [
       "<style type=\"text/css\">\n",
       "</style>\n",
       "<table id=\"T_2144c\">\n",
       "  <thead>\n",
       "  </thead>\n",
       "  <tbody>\n",
       "    <tr>\n",
       "      <td id=\"T_2144c_row0_col0\" class=\"data row0 col0\" >$$m_t$$</td>\n",
       "      <td id=\"T_2144c_row0_col1\" class=\"data row0 col1\" >8.449</td>\n",
       "      <td id=\"T_2144c_row0_col2\" class=\"data row0 col2\" >kg</td>\n",
       "    </tr>\n",
       "    <tr>\n",
       "      <td id=\"T_2144c_row1_col0\" class=\"data row1 col0\" >$$L_t$$</td>\n",
       "      <td id=\"T_2144c_row1_col1\" class=\"data row1 col1\" >10</td>\n",
       "      <td id=\"T_2144c_row1_col2\" class=\"data row1 col2\" >yr</td>\n",
       "    </tr>\n",
       "    <tr>\n",
       "      <td id=\"T_2144c_row2_col0\" class=\"data row2 col0\" >$$EN$$</td>\n",
       "      <td id=\"T_2144c_row2_col1\" class=\"data row2 col1\" >14.125</td>\n",
       "      <td id=\"T_2144c_row2_col2\" class=\"data row2 col2\" ></td>\n",
       "    </tr>\n",
       "  </tbody>\n",
       "</table>\n"
      ],
      "text/plain": [
       "<pandas.io.formats.style.Styler at 0x279ae794af0>"
      ]
     },
     "execution_count": 21,
     "metadata": {},
     "output_type": "execute_result"
    }
   ],
   "source": [
    "print_inputs(model, prob, namingfunc, ['m_t','EN', 'L_t'])"
   ]
  },
  {
   "cell_type": "markdown",
   "id": "4de90f39-e653-42be-b686-5ace9fc20cbb",
   "metadata": {},
   "source": [
    "## Optimized structure"
   ]
  },
  {
   "cell_type": "code",
   "execution_count": 22,
   "id": "f211232c-33c1-4516-b78b-68965f34ffc6",
   "metadata": {
    "execution": {
     "iopub.execute_input": "2022-08-15T20:47:15.530204Z",
     "iopub.status.busy": "2022-08-15T20:47:15.529207Z",
     "iopub.status.idle": "2022-08-15T20:47:15.575077Z",
     "shell.execute_reply": "2022-08-15T20:47:15.574079Z",
     "shell.execute_reply.started": "2022-08-15T20:47:15.530204Z"
    },
    "tags": []
   },
   "outputs": [
    {
     "name": "stdout",
     "output_type": "stream",
     "text": [
      "Set parameter Username\n",
      "Academic license - for non-commercial use only - expires 2023-02-25\n"
     ]
    }
   ],
   "source": [
    "not_input = {'H_{val}', r'\\rho_{val}', 'm_p'}#['m_p']#'d', r'\\rho_{val}', 'L_p', 'H_{val}']\n",
    "not_output = {'L_t','X_r','EN', 'h', 'm_s'}#['h']#[r'm_{rz}', 'm_{r0}']\n",
    "edges_for_solving = copy_dicts(edges_nopar)\n",
    "eqnidxs = list(edges_for_solving[1].keys())\n",
    "varidxs = all_variables(*edges_for_solving)\n",
    "graph_edges_minassign = all_edges(*edges_for_solving)\n",
    "edges_left_right = list(dir_graph(graph_edges_minassign, eqnidxs, {}))\n",
    "xsol,_ = min_arc_set_assign(edges_left_right, varidxs, eqnidxs, not_input, not_output)"
   ]
  },
  {
   "cell_type": "code",
   "execution_count": 23,
   "id": "676f19fa-0032-49d3-8bd5-a29675282a90",
   "metadata": {
    "execution": {
     "iopub.execute_input": "2022-08-15T20:47:15.912557Z",
     "iopub.status.busy": "2022-08-15T20:47:15.912070Z",
     "iopub.status.idle": "2022-08-15T20:47:15.931553Z",
     "shell.execute_reply": "2022-08-15T20:47:15.930642Z",
     "shell.execute_reply.started": "2022-08-15T20:47:15.912557Z"
    },
    "tags": []
   },
   "outputs": [],
   "source": [
    "outset_opt = {right:left for left, right in edges_left_right if (left,right) in edges_left_right and xsol[left, right] > 0.5}"
   ]
  },
  {
   "cell_type": "code",
   "execution_count": 26,
   "id": "85f1043c-6305-4366-a79b-2ee3bc44f420",
   "metadata": {
    "execution": {
     "iopub.execute_input": "2022-08-15T20:47:17.141260Z",
     "iopub.status.busy": "2022-08-15T20:47:17.140265Z",
     "iopub.status.idle": "2022-08-15T20:47:17.156689Z",
     "shell.execute_reply": "2022-08-15T20:47:17.155714Z",
     "shell.execute_reply.started": "2022-08-15T20:47:17.141260Z"
    },
    "tags": []
   },
   "outputs": [],
   "source": [
    "not_outputs = var_params(model, edges_initial) | {'L_t','X_r','EN', 'h'}\n",
    "edges_minassign, tree_minassign = reformulate(edges_initial, tree_initial, outset_initial, \n",
    "                                              outset_opt, not_outputs=not_outputs,\n",
    "                                              root_solver_name='root', solveforvars=True, mdf=True) # For OPT do not have subproblems so no need to set mdf=True/False\n",
    "edges_minassign_noparam = edges_no_param(model, edges_minassign)"
   ]
  },
  {
   "cell_type": "code",
   "execution_count": 27,
   "id": "e30d5cd8-1a1a-45c0-96b1-98903afa8648",
   "metadata": {
    "execution": {
     "iopub.execute_input": "2022-08-15T20:47:24.252451Z",
     "iopub.status.busy": "2022-08-15T20:47:24.252451Z",
     "iopub.status.idle": "2022-08-15T20:47:24.268576Z",
     "shell.execute_reply": "2022-08-15T20:47:24.268445Z",
     "shell.execute_reply.started": "2022-08-15T20:47:24.252451Z"
    },
    "tags": []
   },
   "outputs": [],
   "source": [
    "tree_minassign[1]['root'] = 0"
   ]
  },
  {
   "cell_type": "code",
   "execution_count": 28,
   "id": "55dae182-cfba-41c9-81d7-56084de90e9b",
   "metadata": {
    "execution": {
     "iopub.execute_input": "2022-08-15T20:47:36.328153Z",
     "iopub.status.busy": "2022-08-15T20:47:36.327636Z",
     "iopub.status.idle": "2022-08-15T20:47:37.134569Z",
     "shell.execute_reply": "2022-08-15T20:47:37.133570Z",
     "shell.execute_reply.started": "2022-08-15T20:47:36.328153Z"
    },
    "tags": []
   },
   "outputs": [
    {
     "data": {
      "image/png": "[encoded data removed]",
      "text/plain": [
       "<Figure size 648x648 with 1 Axes>"
      ]
     },
     "metadata": {
      "needs_background": "light"
     },
     "output_type": "display_data"
    }
   ],
   "source": [
    "render_incidence(edges_minassign_noparam, tree_minassign, figname=\"satellite_design_restructured_hsm.png\", save=True, rawvarname=True, \n",
    "                         dispendcomp=False, hideticks=True, patchwidth=4, figsize=((9,9)));"
   ]
  },
  {
   "cell_type": "code",
   "execution_count": 29,
   "id": "35870703-d2c8-4726-8137-75ce3d159b8c",
   "metadata": {
    "execution": {
     "iopub.execute_input": "2022-08-15T20:47:41.281506Z",
     "iopub.status.busy": "2022-08-15T20:47:41.280413Z",
     "iopub.status.idle": "2022-08-15T20:47:41.543067Z",
     "shell.execute_reply": "2022-08-15T20:47:41.542853Z",
     "shell.execute_reply.started": "2022-08-15T20:47:41.281506Z"
    },
    "tags": []
   },
   "outputs": [],
   "source": [
    "newcomps_restructure = transform_components(edges_initial, edges_minassign, model.components, model.idmapping)"
   ]
  },
  {
   "cell_type": "code",
   "execution_count": 30,
   "id": "a5fe06c8-6a4a-42ef-a077-b27d7dd28f54",
   "metadata": {
    "execution": {
     "iopub.execute_input": "2022-08-15T20:47:41.738944Z",
     "iopub.status.busy": "2022-08-15T20:47:41.738944Z",
     "iopub.status.idle": "2022-08-15T20:47:41.761230Z",
     "shell.execute_reply": "2022-08-15T20:47:41.760212Z",
     "shell.execute_reply.started": "2022-08-15T20:47:41.738944Z"
    },
    "tags": []
   },
   "outputs": [],
   "source": [
    "prob, mdao_in, groups, namingfunc = model_to_problem(model, \n",
    "                        formulation=(edges_minassign, tree_minassign),\n",
    "                        components=model.components+newcomps_restructure)"
   ]
  },
  {
   "cell_type": "code",
   "execution_count": 31,
   "id": "f9796957-edc3-4bea-a221-ed808bac2d52",
   "metadata": {
    "execution": {
     "iopub.execute_input": "2022-08-15T20:47:42.390497Z",
     "iopub.status.busy": "2022-08-15T20:47:42.390497Z",
     "iopub.status.idle": "2022-08-15T20:47:42.399174Z",
     "shell.execute_reply": "2022-08-15T20:47:42.398673Z",
     "shell.execute_reply.started": "2022-08-15T20:47:42.390497Z"
    },
    "tags": []
   },
   "outputs": [],
   "source": [
    "prob.set_val('L_t', 10)\n",
    "prob.set_val('EN', 14.125)"
   ]
  },
  {
   "cell_type": "code",
   "execution_count": 32,
   "id": "48edc937-5a1b-4d05-8622-b1b565fe7119",
   "metadata": {
    "execution": {
     "iopub.execute_input": "2022-08-15T20:47:43.304498Z",
     "iopub.status.busy": "2022-08-15T20:47:43.304498Z",
     "iopub.status.idle": "2022-08-15T20:47:44.145356Z",
     "shell.execute_reply": "2022-08-15T20:47:44.145356Z",
     "shell.execute_reply.started": "2022-08-15T20:47:43.304498Z"
    },
    "tags": []
   },
   "outputs": [
    {
     "name": "stdout",
     "output_type": "stream",
     "text": [
      "\n",
      "==\n",
      "s0\n",
      "==\n",
      "NL: Newton Converged in 0 iterations\n",
      "\n",
      "=====\n",
      "sroot\n",
      "=====\n",
      "NL: Newton Converged in 1 iterations\n",
      "--- 0.8273353576660156 seconds ---\n"
     ]
    }
   ],
   "source": [
    "start_time = time.time()\n",
    "prob.run_model()\n",
    "print(\"--- %s seconds ---\" % (time.time() - start_time))"
   ]
  },
  {
   "cell_type": "code",
   "execution_count": 33,
   "id": "b900e219-40cf-4bd4-a05e-305d03076895",
   "metadata": {
    "execution": {
     "iopub.execute_input": "2022-08-15T20:47:46.457581Z",
     "iopub.status.busy": "2022-08-15T20:47:46.456582Z",
     "iopub.status.idle": "2022-08-15T20:47:46.474377Z",
     "shell.execute_reply": "2022-08-15T20:47:46.473452Z",
     "shell.execute_reply.started": "2022-08-15T20:47:46.456582Z"
    },
    "tags": []
   },
   "outputs": [
    {
     "data": {
      "text/html": [
       "<style type=\"text/css\">\n",
       "</style>\n",
       "<table id=\"T_a23fd\">\n",
       "  <thead>\n",
       "  </thead>\n",
       "  <tbody>\n",
       "    <tr>\n",
       "      <td id=\"T_a23fd_row0_col0\" class=\"data row0 col0\" >$$m_t$$</td>\n",
       "      <td id=\"T_a23fd_row0_col1\" class=\"data row0 col1\" >8.449</td>\n",
       "      <td id=\"T_a23fd_row0_col2\" class=\"data row0 col2\" >kg</td>\n",
       "    </tr>\n",
       "    <tr>\n",
       "      <td id=\"T_a23fd_row1_col0\" class=\"data row1 col0\" >$$L_t$$</td>\n",
       "      <td id=\"T_a23fd_row1_col1\" class=\"data row1 col1\" >10</td>\n",
       "      <td id=\"T_a23fd_row1_col2\" class=\"data row1 col2\" >yr</td>\n",
       "    </tr>\n",
       "    <tr>\n",
       "      <td id=\"T_a23fd_row2_col0\" class=\"data row2 col0\" >$$EN$$</td>\n",
       "      <td id=\"T_a23fd_row2_col1\" class=\"data row2 col1\" >14.125</td>\n",
       "      <td id=\"T_a23fd_row2_col2\" class=\"data row2 col2\" ></td>\n",
       "    </tr>\n",
       "  </tbody>\n",
       "</table>\n"
      ],
      "text/plain": [
       "<pandas.io.formats.style.Styler at 0x279b23fb7f0>"
      ]
     },
     "execution_count": 33,
     "metadata": {},
     "output_type": "execute_result"
    }
   ],
   "source": [
    "print_inputs(model, prob, namingfunc, ['m_t','EN', 'L_t'])"
   ]
  }
 ],
 "metadata": {
  "kernelspec": {
   "display_name": "Python [conda env:minimdo]",
   "language": "python",
   "name": "conda-env-minimdo-py"
  },
  "language_info": {
   "codemirror_mode": {
    "name": "ipython",
    "version": 3
   },
   "file_extension": ".py",
   "mimetype": "text/x-python",
   "name": "python",
   "nbconvert_exporter": "python",
   "pygments_lexer": "ipython3",
   "version": "3.9.12"
  }
 },
 "nbformat": 4,
 "nbformat_minor": 5
}
