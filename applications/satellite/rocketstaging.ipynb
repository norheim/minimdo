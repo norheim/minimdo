{
 "cells": [
  {
   "cell_type": "code",
   "execution_count": 1,
   "id": "a9d3175c-fa2a-4cf3-be3a-2f23179987cf",
   "metadata": {
    "execution": {
     "iopub.execute_input": "2022-06-15T13:44:37.422573Z",
     "iopub.status.busy": "2022-06-15T13:44:37.422573Z",
     "iopub.status.idle": "2022-06-15T13:44:39.824983Z",
     "shell.execute_reply": "2022-06-15T13:44:39.824635Z",
     "shell.execute_reply.started": "2022-06-15T13:44:37.422573Z"
    }
   },
   "outputs": [],
   "source": [
    "from compute import Var, Par\n",
    "from datastructures.api import Model, adda\n",
    "from datastructures.execution import edges_from_components\n",
    "from datastructures.graphutils import namefromsympy, dfs_tree, SOLVER, VAR, COMP, nested_sources, sources, edges_to_Ein_Eout, flat_graph_formulation, root_solver\n",
    "from datastructures.nestedgraph import root_sources\n",
    "from datastructures.execution import generate_components_and_residuals\n",
    "from datastructures.workflow import get_f, order_from_tree, default_solver_options, mdao_workflow, implicit_comp_name\n",
    "from datastructures.workflow_mdao import mdao_workflow_with_args\n",
    "from datastructures.operators import sort_scc, reorder_merge_solve\n",
    "from datastructures.assembly import build_archi"
   ]
  },
  {
   "cell_type": "code",
   "execution_count": null,
   "id": "950ed6ea-8298-4a42-9863-46838365096b",
   "metadata": {},
   "outputs": [],
   "source": [
    "model = Model()\n",
    "m = RefNode(name='/', ref=model)\n",
    "m_l1 = Par('m_l1', 100, 'kg')\n",
    "m_l2 = Par('m_l2', 100, 'kg')\n",
    "m_l3 = Par('m_l3', 100, 'kg')\n",
    "m_s1 = Par('m_s1', 10, 'kg')\n",
    "m_s2 = Par('m_s2', 10, 'kg')\n",
    "m_t = Var('m_t', unit='kg')\n",
    "v_exh = Par('v_e', 4000, 'm/s')\n",
    "alpha = Par('alpha', 0.1)\n",
    "m_s3 = adda(m, 'm_s3', alpha*m_t)\n",
    "adda(m, m_t, m_l1+m_s1+m_l2+m_s2+m_l3+m_s3)\n",
    "m_i1 = adda(m, 'm_i1', m_t)\n",
    "m_f1 = adda(m, 'm_f1', m_i1-m_l1)\n",
    "dv1 = adda(m, 'Delta_1', v_exh*sp.log(m_i1/m_f1))\n",
    "m_i2 = adda(m, 'm_i2', m_f1-m_s1)\n",
    "m_f2 = adda(m, 'm_f2', m_i2-m_l2)\n",
    "dv2 = adda(m, 'Delta_2', v_exh*sp.log(m_i2/m_f2))\n",
    "m_i3 = adda(m, 'm_i3', m_f2-m_s2)\n",
    "m_f3 = adda(m, 'm_f3', m_i3-m_l3)\n",
    "dv3 = adda(m, 'Delta_3', v_exh*sp.log(m_i3/m_f3))\n",
    "dvtot = adda(m, 'Delta_v', dv1+dv2+dv3)"
   ]
  }
 ],
 "metadata": {
  "kernelspec": {
   "display_name": "Python [conda env:mdo]",
   "language": "python",
   "name": "conda-env-mdo-py"
  },
  "language_info": {
   "codemirror_mode": {
    "name": "ipython",
    "version": 3
   },
   "file_extension": ".py",
   "mimetype": "text/x-python",
   "name": "python",
   "nbconvert_exporter": "python",
   "pygments_lexer": "ipython3",
   "version": "3.9.7"
  }
 },
 "nbformat": 4,
 "nbformat_minor": 5
}
