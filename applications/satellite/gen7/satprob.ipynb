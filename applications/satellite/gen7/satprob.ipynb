{
 "cells": [
  {
   "cell_type": "code",
   "execution_count": 1,
   "id": "16352d1c",
   "metadata": {},
   "outputs": [],
   "source": [
    "from src.v4.torchdata import load_vals, unload_vals, print_formatted_table, perturb\n",
    "from src.v5.problem import symbolic, acos, wrap_sympy_function\n",
    "from src.v6.problem import MFunctionalSet, MFunctionalSetLeaf, get_sharedvars\n",
    "from scipy import optimize\n",
    "from sympy.utilities.lambdify import implemented_function\n",
    "import sympy as sp\n",
    "import numpy as np # for np.pi\n",
    "import torch"
   ]
  },
  {
   "cell_type": "code",
   "execution_count": 2,
   "id": "84edb917",
   "metadata": {},
   "outputs": [],
   "source": [
    "def torch_linear_interp1d(x_new, x, y):\n",
    "    # Assumes x is 1D, sorted, and no duplicate values\n",
    "    idxs = torch.searchsorted(x, x_new, right=True)\n",
    "    idxs = torch.clamp(idxs, 1, x.size(0)-1)\n",
    "    x0, x1 = x[idxs-1], x[idxs]\n",
    "    y0, y1 = y[idxs-1], y[idxs]\n",
    "    weight = (x_new - x0) / (x1 - x0)\n",
    "    return y0 + weight * (y1 - y0)"
   ]
  },
  {
   "cell_type": "code",
   "execution_count": 3,
   "id": "f7cd1d7c",
   "metadata": {},
   "outputs": [],
   "source": [
    "h_i = torch.tensor([100, 150, 200, 250, 300, 350, 400, 450, 500, \n",
    "                    550, 600, 650, 700, 750, 800, 850, 900, 950, 1000, 1250, 1500]) * 1e3\n",
    "rho_i = torch.tensor([4.79e-07, 1.81e-09, 2.53e-10, 6.24e-11, 1.95e-11, 6.98e-12, 2.72e-12, 1.13e-12, 4.89e-13, 2.21e-13, 1.04e-13, 5.15e-14, 2.72e-14, 1.55e-14, 9.63e-15, 6.47e-15, 4.66e-15, 3.54e-15, 2.79e-15, 1.11e-15, 5.21e-16])\n",
    "H_i = torch.tensor([5.9, 25.5, 37.5, 44.8, 50.3, 54.8, 58.2, 61.3, 64.5, 68.7, 74.8, 84.4, 99.3, 121, 151, 188, 226, 263, 296, 408, 516]) * 1e3\n",
    "\n",
    "rhointerp = lambda x: torch_linear_interp1d(x, torch.log(h_i), torch.log(rho_i))\n",
    "Hinterp = lambda x: torch_linear_interp1d(x, torch.log(h_i), torch.log(H_i))\n",
    "rhoapprox = lambda h: torch.tensor([rho_i[0]], dtype=torch.float64) if h<=h_i[0] else torch.exp(rhointerp(torch.log(h))) if h <= 1500e3 else torch.tensor([5.21e-16], dtype=torch.float64)\n",
    "Happrox = lambda h: torch.tensor([H_i[0]], dtype=torch.float64) if h<=h_i[0] else torch.exp(Hinterp(torch.log(h))) if h <= 1500e3 else torch.tensor([516e3], dtype=torch.float64)\n"
   ]
  },
  {
   "cell_type": "code",
   "execution_count": 4,
   "id": "0cd836ec",
   "metadata": {},
   "outputs": [],
   "source": [
    "h, a, T, g, d, r = symbolic('h', 'a', 'T', 'g', 'd', 'r')\n",
    "R, mu = 6378e3, 3.986e14\n",
    "Orbit = MFunctionalSetLeaf(\n",
    "    a==h+R, \n",
    "    T==2*np.pi*(a**3/mu)**0.5, \n",
    "    g==1/np.pi*acos(R/a), \n",
    "    d==g+0.5, \n",
    "    r==(h**2+2*R*h)**0.5\n",
    ") # by default configured to elimination of state variables\n",
    "\n",
    "m_A, P_c, P_T, E_b, m_b, A = symbolic('m_A', 'P_c', 'P_T', 'E_b', 'm_b', 'A')\n",
    "eta_A, rho_A, rho_b, P_l, Q = 0.3, 10, 0.002e-3, 12, 1367\n",
    "Power = MFunctionalSetLeaf(\n",
    "    m_A==rho_A*A, \n",
    "    P_c==d*A*Q*eta_A, \n",
    "    P_T==P_c-P_l, \n",
    "    E_b==P_c*T/d, \n",
    "    m_b==rho_b*E_b\n",
    ")\n",
    "\n",
    "X_r, D_p, D, m_p = symbolic('X_r', 'D_p', 'D', 'm_p')\n",
    "rho_p, l_v, B, N = 2, 500e-9, 8, 2000\n",
    "Payload = MFunctionalSetLeaf(\n",
    "    D_p==1.22*l_v*h/X_r, \n",
    "    D==2*np.pi*R*B*N/X_r, \n",
    "    m_p==rho_p*D_p**1.5\n",
    ")\n",
    "\n",
    "b, l_c, D_T, m_T, EN, G_r = symbolic('b', 'l_c', 'D_T', 'm_T', 'EN', 'G_r')\n",
    "dBtoLinear = lambda db: 10**(db/10)\n",
    "rho_T, G_T, D_r, eta, T_s, k, c, F = 0.2, dBtoLinear(16.5), 5.3, 0.55, 135, 1.38064852e-23, 2.99e8, 2.2e9\n",
    "L = dBtoLinear(1+8.5+0.3+0.1)\n",
    "Comms = MFunctionalSetLeaf(\n",
    "    b==D/T, \n",
    "    l_c==c/F,\n",
    "    D_T==l_c*(G_T/eta)**0.5/np.pi,\n",
    "    m_T==rho_T*D_T**1.5,\n",
    "    G_r==eta*(np.pi*D_r/l_c)**2,\n",
    "    EN==P_T*G_r*G_T/(L*k*T_s*b)*(l_c/(4*np.pi*r))**2,\n",
    ")\n",
    "\n",
    "mt, m_s, m_pr = symbolic('m_t', 'm_s', 'm_pr')\n",
    "eta_S = 0.2\n",
    "# m_pr = 0.5\n",
    "Struct = MFunctionalSetLeaf(\n",
    "    m_s == eta_S*mt\n",
    ")\n",
    "Mass = MFunctionalSetLeaf(\n",
    "    mt == m_A + m_b + m_p + m_T + m_pr + m_s \n",
    ")\n",
    "\n",
    "Ln, Lp, Lt = symbolic('Ln', 'Lp', 'Lt')\n",
    "L_min, C_D, I_sp, G = 10, 2.2, 70, 9.81\n",
    "H = wrap_sympy_function(implemented_function(sp.Function('H'), Happrox))\n",
    "rho = wrap_sympy_function(implemented_function(sp.Function('rho'),  rhoapprox))\n",
    "\n",
    "Propulsion = MFunctionalSetLeaf(\n",
    "    Ln == H(h)*mt/(2*np.pi*C_D*A*rho(h)*a**2)*T/31536000,\n",
    "    Lp == m_pr*I_sp*G*a/(0.5*C_D*A*H(h)*mu)/31536000,\n",
    "    Lt == Ln + Lp\n",
    ")\n",
    "\n",
    "MDA = MFunctionalSet(Orbit, Power, Payload, Comms, Propulsion, Struct, Mass)\n",
    "FPF = MDA.subsetof( 1 <= X_r, X_r <= 5, 0<=m_pr,\n",
    "                   400e3 >= h, 10 <= Lt, 14.125<=EN).minimize(mt)"
   ]
  },
  {
   "cell_type": "code",
   "execution_count": 5,
   "id": "d856f15f",
   "metadata": {},
   "outputs": [],
   "source": [
    "SPF_MDF = FPF.config(elim=[Orbit, Power, Payload, Comms, MFunctionalSet(Struct, Mass).config(residuals=[Struct, Mass]), Propulsion])\n",
    "SPF_IDF = FPF.config(parallel=FPF.supersets)\n",
    "SPF_AAO = FPF.config(residuals=FPF.supersets) "
   ]
  },
  {
   "cell_type": "code",
   "execution_count": 8,
   "id": "9353da36",
   "metadata": {},
   "outputs": [
    {
     "data": {
      "text/plain": [
       "([Lt, EN, m_t, m_s, m_T, m_A, m_b, m_p, a, T, r, P_T, D, d], 14, 28)"
      ]
     },
     "execution_count": 8,
     "metadata": {},
     "output_type": "execute_result"
    }
   ],
   "source": [
    "_, ineq, eq, obj, indices = SPF_MDF.gather_sets()\n",
    "sharedidxs = get_sharedvars([elt.build(indices=indices).analysis for elt in MDA.supersets]+[ineq]+eq+[obj]) # need to include constraints and objectives\n",
    "sharedvars = [key for key,var in indices.items() if var.item() in sharedidxs]\n",
    "sharedvars, len(sharedvars), len(indices)"
   ]
  },
  {
   "cell_type": "markdown",
   "id": "9f1f3239",
   "metadata": {},
   "source": [
    "### MDF"
   ]
  },
  {
   "cell_type": "code",
   "execution_count": 10,
   "id": "aa87b5cd",
   "metadata": {},
   "outputs": [
    {
     "name": "stdout",
     "output_type": "stream",
     "text": [
      "r      h      d     g     a      T       \n",
      "2.57e6 5.00e5 0.622 0.122 6.88e6 5676.812\n",
      "m_b   E_b    d     P_c    T        P_T   A    m_A\n",
      "0.279 1.40e5 0.622 15.308 5676.812 3.308 0.06 0.6\n",
      "m_p   D_p  D        X_r h     \n",
      "0.011 0.03 6.41e+10 10  5.00e5\n",
      "EN      b      G_r      l_c   r      P_T   m_T   D_T  D        T       \n",
      "104.632 1.13e7 8255.002 0.136 2.57e6 3.308 0.049 0.39 6.41e+10 5676.812\n",
      "Lt    Lp Ln    A    h      m_pr a      m_t   T       \n",
      "1.467 0  1.467 0.06 5.00e5 1    6.88e6 2.423 5676.812\n",
      "m_s   m_t  \n",
      "0.485 2.423\n",
      "m_t   m_s   m_T   m_pr m_A m_b   m_p  \n",
      "2.423 0.485 0.049 1    0.6 0.279 0.011\n"
     ]
    }
   ],
   "source": [
    "f_MDF = SPF_MDF.build()\n",
    "x0 = {\"h\": 500e3, \"m_pr\": 1, \"X_r\": 10, \"A\":0.06}\n",
    "x0_MDA = f_MDF.analysis(load_vals(x0, f_MDF.indices, isdict=True, default=1.1))\n",
    "for elt in SPF_MDF.supersets:\n",
    "    fP = elt.build()\n",
    "    xP = load_vals(unload_vals(x0_MDA, f_MDF.indices), fP.indices, isdict=True)\n",
    "    print_formatted_table([xP], fP.indices)"
   ]
  },
  {
   "cell_type": "code",
   "execution_count": 23,
   "id": "7fca24a3",
   "metadata": {},
   "outputs": [],
   "source": [
    "obj, dobj, xguess, cons, idxs, solidxs = SPF_MDF.build_opt(x0={str(key): xguess2[val].item() for key,val in indices.items()})"
   ]
  },
  {
   "cell_type": "code",
   "execution_count": 24,
   "id": "9d5b26e3",
   "metadata": {},
   "outputs": [
    {
     "data": {
      "text/plain": [
       " message: Optimization terminated successfully\n",
       " success: True\n",
       "  status: 0\n",
       "     fun: 5.804200911257506\n",
       "       x: [ 5.087e-02  4.000e+02  3.833e+00  5.000e+00]\n",
       "     nit: 7\n",
       "     jac: [ 1.819e+01  1.652e-04  1.250e+00 -8.085e-03]\n",
       "    nfev: 8\n",
       "    njev: 6"
      ]
     },
     "execution_count": 24,
     "metadata": {},
     "output_type": "execute_result"
    }
   ],
   "source": [
    "xsol = optimize.minimize(obj, xguess, jac=dobj, \n",
    "                         constraints=cons, method='SLSQP')\n",
    "xsol"
   ]
  },
  {
   "cell_type": "code",
   "execution_count": 25,
   "id": "ed27bc4f",
   "metadata": {},
   "outputs": [
    {
     "name": "stdout",
     "output_type": "stream",
     "text": [
      "b      d    hkm EN     m_A   m_s   r      T        D        l_c   Hval   P_T   Lp    D_T  m_b   a      A     g    h      m_t   D_p   X_r m_pr  E_b    P_c    Ln    m_p   m_T   Lt rhoval   G_r     \n",
      "2.31e7 0.61 400 14.125 0.509 1.161 2.29e6 5553.459 1.28e+11 0.136 5.82e4 0.725 9.323 0.39 0.232 6.78e6 0.051 0.11 4.00e5 5.804 0.049 5   3.833 1.16e5 12.725 0.677 0.022 0.049 10 2.72e-12 8255.002\n"
     ]
    }
   ],
   "source": [
    "idxrev = {var.item():key for key,var in idxs.items()}\n",
    "xsoldict = {str(idxrev[key.item()]): xsol.x[idx] for idx,key in enumerate(solidxs)}\n",
    "xidxed = load_vals(xsoldict, indices, isdict=True, default=1.1)\n",
    "xsolvalall = f_MDF.analysis(xidxed)\n",
    "print_formatted_table([xsolvalall], idxs, idxrev)"
   ]
  },
  {
   "cell_type": "code",
   "execution_count": 16,
   "id": "55022de5",
   "metadata": {},
   "outputs": [
    {
     "data": {
      "text/plain": [
       "tensor([0.0000e+00, 0.0000e+00, 0.0000e+00, 0.0000e+00, 0.0000e+00, 0.0000e+00,\n",
       "        0.0000e+00, 0.0000e+00, 0.0000e+00, 0.0000e+00, 0.0000e+00, 0.0000e+00,\n",
       "        0.0000e+00, 0.0000e+00, 0.0000e+00, 1.1102e-16, 0.0000e+00, 0.0000e+00,\n",
       "        0.0000e+00, 0.0000e+00, 2.2204e-16, 0.0000e+00, 0.0000e+00, 0.0000e+00,\n",
       "        0.0000e+00, 0.0000e+00, 0.0000e+00], dtype=torch.float64)"
      ]
     },
     "execution_count": 16,
     "metadata": {},
     "output_type": "execute_result"
    }
   ],
   "source": [
    "f_MDF.residual(xsolvalall.clone())"
   ]
  },
  {
   "cell_type": "markdown",
   "id": "3e3351dd",
   "metadata": {},
   "source": [
    "### AAO/IDF"
   ]
  },
  {
   "cell_type": "code",
   "execution_count": 91,
   "id": "5bffdaaa",
   "metadata": {},
   "outputs": [],
   "source": [
    "x0 = {\"hkm\": 400, \"m_pr\": 1, \"X_r\": 5, \"A\":0.05}\n",
    "xidxed = load_vals(x0, indices, isdict=True, default=1.1)\n",
    "xguess2 = f_MDF.analysis(xidxed)\n",
    "sets,_,_,_, indices = SPF_AAO.gather_sets()"
   ]
  },
  {
   "cell_type": "code",
   "execution_count": 92,
   "id": "1a650e2e",
   "metadata": {},
   "outputs": [],
   "source": [
    "obj, dobj, xguess, cons, idxs, solidxs = SPF_IDF.build_opt(x0={str(key): xguess2[val].item() for key,val in indices.items()})"
   ]
  },
  {
   "cell_type": "code",
   "execution_count": 93,
   "id": "ef949228",
   "metadata": {},
   "outputs": [],
   "source": [
    "xsol = optimize.minimize(obj, xguess, jac=dobj, \n",
    "                         constraints=cons, method='SLSQP')"
   ]
  },
  {
   "cell_type": "code",
   "execution_count": 86,
   "id": "6fae2b49",
   "metadata": {},
   "outputs": [],
   "source": [
    "obj, dobj, xguess, cons, idxs, solidxs = SPF_AAO.build_opt(x0={str(key): xguess3[val].item() for key,val in indices.items()})"
   ]
  },
  {
   "cell_type": "code",
   "execution_count": 77,
   "id": "2fbb881f",
   "metadata": {},
   "outputs": [],
   "source": [
    "xsol = optimize.minimize(obj, xguess, jac=dobj, \n",
    "                         constraints=cons, method='SLSQP')"
   ]
  },
  {
   "cell_type": "code",
   "execution_count": 94,
   "id": "d2abdf69",
   "metadata": {},
   "outputs": [
    {
     "data": {
      "text/plain": [
       " message: Optimization terminated successfully\n",
       " success: True\n",
       "  status: 0\n",
       "     fun: 5.804200911102231\n",
       "       x: [ 5.804e+00  5.000e+00 ...  9.323e+00  1.161e+00]\n",
       "     nit: 15\n",
       "     jac: [ 1.000e+00  0.000e+00 ...  0.000e+00  0.000e+00]\n",
       "    nfev: 27\n",
       "    njev: 15"
      ]
     },
     "execution_count": 94,
     "metadata": {},
     "output_type": "execute_result"
    }
   ],
   "source": [
    "xsol"
   ]
  },
  {
   "cell_type": "code",
   "execution_count": 79,
   "id": "fd667a2a",
   "metadata": {},
   "outputs": [
    {
     "name": "stdout",
     "output_type": "stream",
     "text": [
      "b      d    hkm     EN     m_A   m_s   r      T        D        l_c   Hval   P_T   Lp    D_T  m_b   a      A     g    h      m_t   D_p   X_r m_pr  E_b    P_c    Ln    m_p   m_T   Lt    rhoval   G_r     \n",
      "2.31e7 0.61 400     9.861  0.5   0.22  2.29e6 5553.459 1.28e+11 0.136 5.82e4 0.506 2.475 0.39 0.228 6.78e6 0.05  0.11 4.00e5 2.018 0.049 5   1     1.14e5 12.506 0.131 0.022 0.049 2.606 2.72e-12 8255.002\n",
      "2.31e7 0.61 399.999 14.125 0.509 1.161 2.29e6 5553.458 1.28e+11 0.136 5.82e4 0.725 9.323 0.39 0.232 6.78e6 0.051 0.11 4.00e5 5.804 0.049 5   3.833 1.16e5 12.725 0.677 0.022 0.049 10    2.72e-12 8255.002\n"
     ]
    }
   ],
   "source": [
    "idxrev = {var.item():key for key,var in idxs.items()}\n",
    "xsolval = xguess2.clone().numpy()\n",
    "xsolval[solidxs] = xsol.x\n",
    "print_formatted_table([xguess2, xsolval], idxs, idxrev)"
   ]
  },
  {
   "cell_type": "markdown",
   "id": "70d0e61b",
   "metadata": {},
   "source": [
    "### Reconfiguring architectures"
   ]
  },
  {
   "cell_type": "code",
   "execution_count": null,
   "id": "4d453ff9",
   "metadata": {},
   "outputs": [],
   "source": [
    "SPF_IDF = FPF.config(parallel=MDA.supersets) # should eliminate state variables\n",
    "SPF_MDF_full = FPF.config(elim=[MDA.config(residuals=MDA.supersets)])\n",
    "scc_order = [{2}, {1}, {0}]\n",
    "SPF_MDF_compact = FPF.config_from_order(scc_order)\n",
    "outset_tear, wf_tear = None, None\n",
    "SPF_MDF_tear = FPF.reconfigure(outset_tear).config_from_workflow(wf_tear)\n",
    "outset_tear_extended, wf_tear_extended = None, None\n",
    "SPF_MDF_tear_extended = FPF.reconfigure(outset_tear_extended).config"
   ]
  },
  {
   "cell_type": "code",
   "execution_count": 7,
   "id": "4d6dcc99",
   "metadata": {},
   "outputs": [],
   "source": [
    "MDA1 = MFunctionalSet(Orbit, Propulsion).config(elim=[Orbit, Propulsion])\n",
    "sets,_,_,_, indices = MDA1.gather_sets()\n",
    "f = MDA1.build()"
   ]
  },
  {
   "cell_type": "code",
   "execution_count": 10,
   "id": "6aa16201",
   "metadata": {},
   "outputs": [
    {
     "name": "stdout",
     "output_type": "stream",
     "text": [
      "d    Lp    rhoval r      a      Hval   T        Ln    h      m_t Lt    g   \n",
      "0.61 1.236 0      2.29e6 6.77e6 5.82e4 5544.858 0.178 4.00e5 1.5 1.414 0.11\n"
     ]
    }
   ],
   "source": [
    "x0 = {\"h\": 400e3, \"a\": 400e3 + 6371e3, \"m_t\": 1.5}\n",
    "xidxed = load_vals(x0, indices, isdict=True)\n",
    "f.analysis(xidxed)\n",
    "idxrev = {var.item():key for key,var in indices.items()}\n",
    "print_formatted_table([f.analysis(xidxed)], indices, idxrev)"
   ]
  },
  {
   "cell_type": "code",
   "execution_count": 149,
   "id": "abb9585e",
   "metadata": {},
   "outputs": [
    {
     "name": "stdout",
     "output_type": "stream",
     "text": [
      "d    EN       r      P_T   a      h      m_A m_T   T        D_T   D   g    G_r      b        E_b    m_b   P_c    l_c  \n",
      "0.61 4.51e+12 2.29e6 0.489 6.77e6 4.00e5 0.5 0.023 5544.858 0.237 0.1 0.11 8255.002 1.80e-05 1.14e5 0.227 12.489 0.136\n"
     ]
    }
   ],
   "source": [
    "MDAp = MFunctionalSet(Orbit, Power, Comms).config(elim=[Orbit, Power, Comms])\n",
    "_,_,_,_, indices = MDAp.gather_sets()\n",
    "f = MDAp.build()\n",
    "x0 = {\"h\": 400e3, \"D\": 0.1}\n",
    "xidxed = load_vals(x0, indices, isdict=True)\n",
    "f.analysis(xidxed)\n",
    "idxrev = {var.item():key for key,var in indices.items()}\n",
    "print_formatted_table([f.analysis(xidxed)], indices, idxrev)"
   ]
  },
  {
   "cell_type": "code",
   "execution_count": 150,
   "id": "5443a97d",
   "metadata": {},
   "outputs": [
    {
     "name": "stdout",
     "output_type": "stream",
     "text": [
      "T    E_b    d   m_b   P_c    P_T   m_A\n",
      "6000 1.23e5 0.6 0.246 12.285 0.285 0.5\n"
     ]
    }
   ],
   "source": [
    "_,_,_,_, indices = Power.gather_sets()\n",
    "f = Power.build()\n",
    "x0 = {\"d\": 0.6, \"T\": 6000}\n",
    "xidxed = load_vals(x0, indices, isdict=True)\n",
    "f.analysis(xidxed)\n",
    "idxrev = {var.item():key for key,var in indices.items()}\n",
    "print_formatted_table([f.analysis(xidxed)], indices, idxrev)"
   ]
  },
  {
   "cell_type": "code",
   "execution_count": 151,
   "id": "eb7a96f7",
   "metadata": {},
   "outputs": [
    {
     "name": "stdout",
     "output_type": "stream",
     "text": [
      "r      T        d    a      h      g   \n",
      "2.29e6 5544.858 0.61 6.77e6 4.00e5 0.11\n"
     ]
    }
   ],
   "source": [
    "_,_,_,_, indices = Orbit.gather_sets()\n",
    "f = Orbit.build()\n",
    "x0 = {\"h\": 400e3}\n",
    "xidxed = load_vals(x0, indices, isdict=True)\n",
    "f.analysis(xidxed)\n",
    "idxrev = {var.item():key for key,var in indices.items()}\n",
    "print_formatted_table([f.analysis(xidxed)], indices, idxrev)"
   ]
  },
  {
   "cell_type": "code",
   "execution_count": 200,
   "id": "4f6247ce",
   "metadata": {},
   "outputs": [],
   "source": [
    "SPF_MDF1 = FPF.config(elim=[HMult, Orbit, Power, Payload, Comms])\n",
    "sets, ineq_constraints_merged, eq_constraints, obj, indices = SPF_MDF1.gather_sets()\n",
    "f = SPF_MDF1.build()\n",
    "x0 = {\"hkm\": 400, \"X_r\": 1}\n",
    "xidxed = load_vals(x0, indices, isdict=True)\n",
    "f0 = f.analysis(xidxed).detach().clone()\n",
    "idxrev = {var.item():key for key,var in indices.items()}\n",
    "valdict = {val:f0[key].item() for key,val in idxrev.items()}\n",
    "# print_formatted_table([f.analysis(xidxed)], indices, idxrev)"
   ]
  },
  {
   "cell_type": "code",
   "execution_count": 202,
   "id": "23fcb7a7",
   "metadata": {},
   "outputs": [],
   "source": [
    "obj_function, dobj, xguess, constraints  = SPF_MDF1.build_opt(x0=f0)"
   ]
  },
  {
   "cell_type": "code",
   "execution_count": 203,
   "id": "d7fc147e",
   "metadata": {},
   "outputs": [
    {
     "data": {
      "text/plain": [
       "(array([ 0.00095426, -0.36158133]),\n",
       " tensor([-4.0000e+00,  9.9000e+01,  1.0000e+05], dtype=torch.float64))"
      ]
     },
     "execution_count": 203,
     "metadata": {},
     "output_type": "execute_result"
    }
   ],
   "source": [
    "dobj(xguess), constraints[0]['fun'](xguess)"
   ]
  },
  {
   "cell_type": "code",
   "execution_count": 208,
   "id": "43294d1c",
   "metadata": {},
   "outputs": [],
   "source": [
    "xsol = optimize.minimize(obj_function, xguess, jac=dobj, constraints=constraints, method='SLSQP', \n",
    "                         options={'ftol': 1e-9})"
   ]
  },
  {
   "cell_type": "code",
   "execution_count": 209,
   "id": "a68fa69a",
   "metadata": {},
   "outputs": [
    {
     "data": {
      "text/plain": [
       "array([300., 100.])"
      ]
     },
     "execution_count": 209,
     "metadata": {},
     "output_type": "execute_result"
    }
   ],
   "source": [
    "xsol.x"
   ]
  },
  {
   "cell_type": "code",
   "execution_count": 211,
   "id": "e0e70577",
   "metadata": {},
   "outputs": [
    {
     "name": "stdout",
     "output_type": "stream",
     "text": [
      "d     EN     r      P_T   a      h      m_A m_T   X_r T        D_p      D_T   D      g     G_r      hkm b      E_b    m_b   P_c    l_c   m_p     \n",
      "0.596 37.757 1.98e6 0.199 6.67e6 3.00e5 0.5 0.023 100 5422.476 1.83e-03 0.237 6.40e9 0.096 8255.002 300 1.18e6 1.11e5 0.222 12.199 0.136 1.57e-04\n"
     ]
    }
   ],
   "source": [
    "xidxed = load_vals({'hkm':xsol.x[0], 'X_r':xsol.x[1]}, \n",
    "                   indices, isdict=True)\n",
    "print_formatted_table([f.analysis(xidxed)], indices, idxrev)"
   ]
  },
  {
   "cell_type": "code",
   "execution_count": 212,
   "id": "f4b9104f",
   "metadata": {},
   "outputs": [
    {
     "data": {
      "text/plain": [
       " message: Optimization terminated successfully\n",
       " success: True\n",
       "  status: 0\n",
       "     fun: 0.7452754334567794\n",
       "       x: [ 3.000e+02  1.000e+02]\n",
       "     nit: 27\n",
       "     jac: [ 5.071e-05 -2.349e-06]\n",
       "    nfev: 27\n",
       "    njev: 27"
      ]
     },
     "execution_count": 212,
     "metadata": {},
     "output_type": "execute_result"
    }
   ],
   "source": [
    "xsol"
   ]
  },
  {
   "cell_type": "code",
   "execution_count": 77,
   "id": "fb0e3f04",
   "metadata": {},
   "outputs": [
    {
     "name": "stdout",
     "output_type": "stream",
     "text": [
      "T        X_r      d    D_p   D        g    r      E_b    P_T   m_b   h      P_c    m_p   a      m_A\n",
      "5544.858 2085.041 0.61 0.244 6.40e+11 0.11 2.29e6 1.14e5 0.489 0.227 4.00e5 12.489 0.241 6.77e6 0.5\n"
     ]
    }
   ],
   "source": [
    "print_formatted_table([f0], indices, idxrev)"
   ]
  },
  {
   "cell_type": "code",
   "execution_count": null,
   "id": "d5595055",
   "metadata": {},
   "outputs": [],
   "source": [
    "SPF_IDF = FPF.config(parallel=[Orbit, Power, Payload])\n",
    "SPF_AAO = FPF.config(residuals=Orbit.supersets+Power.supersets+Payload.supersets)\n",
    "SPF_MDF1 = FPF.config(elim=[Orbit, Power, Payload])\n",
    "SPF_MDF2 = FPF.config(elim=[MDA.config(parallel=[Orbit, Power, Payload])])"
   ]
  },
  {
   "cell_type": "code",
   "execution_count": null,
   "id": "e67624f5",
   "metadata": {},
   "outputs": [],
   "source": []
  }
 ],
 "metadata": {
  "kernelspec": {
   "display_name": "minimdo",
   "language": "python",
   "name": "python3"
  },
  "language_info": {
   "codemirror_mode": {
    "name": "ipython",
    "version": 3
   },
   "file_extension": ".py",
   "mimetype": "text/x-python",
   "name": "python",
   "nbconvert_exporter": "python",
   "pygments_lexer": "ipython3",
   "version": "3.9.18"
  }
 },
 "nbformat": 4,
 "nbformat_minor": 5
}
