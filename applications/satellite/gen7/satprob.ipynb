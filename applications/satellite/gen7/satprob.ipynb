{
 "cells": [
  {
   "cell_type": "code",
   "execution_count": 1,
   "id": "16352d1c",
   "metadata": {},
   "outputs": [],
   "source": [
    "from modeling.gen6.api import symbolic, acos\n",
    "from modeling.gen7.api7 import MFunctionalSet, MFunctionalSetLeaf, FunctionSympy\n",
    "from engine.torchdata import load_vals, print_formatted_table\n",
    "import numpy as np"
   ]
  },
  {
   "cell_type": "code",
   "execution_count": 2,
   "id": "0cd836ec",
   "metadata": {},
   "outputs": [],
   "source": [
    "h, a, T, g, d, r = symbolic('h', 'a', 'T', 'g', 'd', 'r')\n",
    "R, mu = 6371e3, 3.986e14\n",
    "Orbit = MFunctionalSetLeaf(\n",
    "    a==h+R, \n",
    "    T==2*np.pi*(a**3/mu)**0.5, \n",
    "    g==1/np.pi*acos(R/a), \n",
    "    d==g+0.5, \n",
    "    r==(h**2+2*R*h)**0.5\n",
    ") # by default configured to elimination of state variables\n",
    "\n",
    "m_A, P_c, P_T, E_b, m_b = symbolic('m_A', 'P_c', 'P_T', 'E_b', 'm_b')\n",
    "eta_A, rho_A, rho_b, P_l, A, Q = 0.3, 10, 0.002, 12, 0.05, 1365\n",
    "Power = MFunctionalSetLeaf(\n",
    "    m_A==rho_A*A, \n",
    "    P_c==d*A*Q*eta_A, \n",
    "    P_T==P_c-P_l, \n",
    "    E_b==P_c*T/d, \n",
    "    m_b==rho_b*E_b\n",
    ")\n",
    "\n",
    "X_r, D_p, D, m_p = symbolic('X_r', 'D_p', 'D', 'm_p')\n",
    "rho_p, l_v, B, N = 2, 500, 8, 2000\n",
    "Payload = MFunctionalSetLeaf(\n",
    "    D_p==1.22*l_v*h/X_r, \n",
    "    D==2*np.pi*R*B*N/X_r, \n",
    "    m_p==rho_p*D_p**1.5\n",
    ")\n",
    "\n",
    "MDA = MFunctionalSet(Orbit, Power, Payload)\n",
    "FPF = MDA.subsetof(X_r <= 5).minimize(m_p+m_b)"
   ]
  },
  {
   "cell_type": "code",
   "execution_count": 5,
   "id": "5443a97d",
   "metadata": {},
   "outputs": [
    {
     "name": "stdout",
     "output_type": "stream",
     "text": [
      "m_b   P_T   d   m_A E_b    P_c    T   \n",
      "245.7 0.285 0.6 0.5 1.23e5 12.285 6000\n"
     ]
    }
   ],
   "source": [
    "_,_,_,_, indices = Power.gather_sets()\n",
    "f = Power.build()\n",
    "x0 = {\"d\": 0.6, \"T\": 6000}\n",
    "xidxed = load_vals(x0, indices, isdict=True)\n",
    "f.analysis(xidxed)\n",
    "idxrev = {var.item():key for key,var in indices.items()}\n",
    "print_formatted_table([f.analysis(xidxed)], indices, idxrev)"
   ]
  },
  {
   "cell_type": "code",
   "execution_count": 12,
   "id": "eb7a96f7",
   "metadata": {},
   "outputs": [
    {
     "name": "stdout",
     "output_type": "stream",
     "text": [
      "g    d    r      h      a      T       \n",
      "0.11 0.61 2.29e6 4.00e5 6.77e6 5544.858\n"
     ]
    }
   ],
   "source": [
    "_,_,_,_, indices = Orbit.gather_sets()\n",
    "f = Orbit.build()\n",
    "x0 = {\"h\": 400e3}\n",
    "xidxed = load_vals(x0, indices, isdict=True)\n",
    "f.analysis(xidxed)\n",
    "idxrev = {var.item():key for key,var in indices.items()}\n",
    "print_formatted_table([f.analysis(xidxed)], indices, idxrev)"
   ]
  },
  {
   "cell_type": "code",
   "execution_count": null,
   "id": "d5595055",
   "metadata": {},
   "outputs": [],
   "source": [
    "SPF_IDF = FPF.config(parallel=[Orbit, Power, Payload])\n",
    "SPF_AAO = FPF.config(residuals=Orbit.supersets+Power.supersets+Payload.supersets)\n",
    "SPF_MDF1 = FPF.config(elim=[Orbit, Power, Payload])\n",
    "SPF_MDF2 = FPF.config(elim=[MDA.config(parallel=[Orbit, Power, Payload])])"
   ]
  }
 ],
 "metadata": {
  "kernelspec": {
   "display_name": "minimdo",
   "language": "python",
   "name": "python3"
  },
  "language_info": {
   "codemirror_mode": {
    "name": "ipython",
    "version": 3
   },
   "file_extension": ".py",
   "mimetype": "text/x-python",
   "name": "python",
   "nbconvert_exporter": "python",
   "pygments_lexer": "ipython3",
   "version": "3.9.18"
  }
 },
 "nbformat": 4,
 "nbformat_minor": 5
}
