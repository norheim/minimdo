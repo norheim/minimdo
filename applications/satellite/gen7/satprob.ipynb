{
 "cells": [
  {
   "cell_type": "code",
   "execution_count": 19,
   "id": "16352d1c",
   "metadata": {},
   "outputs": [],
   "source": [
    "from modeling.gen6.api import symbolic, acos\n",
    "from modeling.gen7.api7 import MFunctionalSet, MFunctionalSetLeaf, FunctionSympy\n",
    "from engine.torchdata import load_vals, print_formatted_table\n",
    "import numpy as np\n",
    "from scipy import optimize"
   ]
  },
  {
   "cell_type": "code",
   "execution_count": 199,
   "id": "0cd836ec",
   "metadata": {},
   "outputs": [],
   "source": [
    "h, hkm, a, T, g, d, r = symbolic('h', 'hkm', 'a', 'T', 'g', 'd', 'r')\n",
    "R, mu = 6371e3, 3.986e14\n",
    "HMult = MFunctionalSetLeaf(\n",
    "    h==hkm*1000\n",
    ")\n",
    "Orbit = MFunctionalSetLeaf(\n",
    "    a==h+R, \n",
    "    T==2*np.pi*(a**3/mu)**0.5, \n",
    "    g==1/np.pi*acos(R/a), \n",
    "    d==g+0.5, \n",
    "    r==(h**2+2*R*h)**0.5\n",
    ") # by default configured to elimination of state variables\n",
    "\n",
    "m_A, P_c, P_T, E_b, m_b = symbolic('m_A', 'P_c', 'P_T', 'E_b', 'm_b')\n",
    "eta_A, rho_A, rho_b, P_l, A, Q = 0.3, 10, 0.002e-3, 12, 0.05, 1365\n",
    "Power = MFunctionalSetLeaf(\n",
    "    m_A==rho_A*A, \n",
    "    P_c==d*A*Q*eta_A, \n",
    "    P_T==P_c-P_l, \n",
    "    E_b==P_c*T/d, \n",
    "    m_b==rho_b*E_b\n",
    ")\n",
    "\n",
    "X_r, D_p, D, m_p = symbolic('X_r', 'D_p', 'D', 'm_p')\n",
    "rho_p, l_v, B, N = 2, 500e-9, 8, 2000\n",
    "Payload = MFunctionalSetLeaf(\n",
    "    D_p==1.22*l_v*h/X_r, \n",
    "    D==2*np.pi*R*B*N/X_r, \n",
    "    m_p==rho_p*D_p**1.5\n",
    ")\n",
    "\n",
    "b, l_c, D_T, m_T, EN, G_r = symbolic('b', 'l_c', 'D_T', 'm_T', 'EN', 'G_r')\n",
    "rho_T, G_T, D_r, eta, T_s, k, c, F = 0.2, 16.5, 5.3, 0.55, 135, 1.38064852e-23, 2.99e8, 2.2e9\n",
    "dBtoLinear = lambda db: 10**(db/10)\n",
    "L = dBtoLinear(1+8.5+0.3+0.1)\n",
    "Comms = MFunctionalSetLeaf(\n",
    "    b==D/T, \n",
    "    l_c==c/F,\n",
    "    D_T==l_c*(G_T/eta)**0.5/np.pi,\n",
    "    m_T==rho_T*D_T**1.5,\n",
    "    G_r==eta*(np.pi*D_r/l_c)**2,\n",
    "    EN==P_T*G_r*G_T/(L*k*T_s*b)*(l_c/(4*np.pi*r))**2,\n",
    ")\n",
    "\n",
    "mt, m_s = symbolic('m_t', 'm_s')\n",
    "eta_S, m_pr = 0.2, 0.5\n",
    "Struct = MFunctionalSetLeaf(\n",
    "    m_s == eta_S*mt\n",
    ")\n",
    "Mass = MFunctionalSetLeaf(\n",
    "    mt == m_A + m_b + m_p + m_T + m_pr + m_s \n",
    ")\n",
    "\n",
    "MDA = MFunctionalSet(HMult, Orbit, Power, Payload, Comms)\n",
    "FPF = MDA.subsetof(5 <= X_r, X_r <= 100,\n",
    "                   300e3 <= h ).minimize(m_A + m_b + m_p + m_T)"
   ]
  },
  {
   "cell_type": "code",
   "execution_count": 149,
   "id": "abb9585e",
   "metadata": {},
   "outputs": [
    {
     "name": "stdout",
     "output_type": "stream",
     "text": [
      "d    EN       r      P_T   a      h      m_A m_T   T        D_T   D   g    G_r      b        E_b    m_b   P_c    l_c  \n",
      "0.61 4.51e+12 2.29e6 0.489 6.77e6 4.00e5 0.5 0.023 5544.858 0.237 0.1 0.11 8255.002 1.80e-05 1.14e5 0.227 12.489 0.136\n"
     ]
    }
   ],
   "source": [
    "MDAp = MFunctionalSet(Orbit, Power, Comms).config(elim=[Orbit, Power, Comms])\n",
    "_,_,_,_, indices = MDAp.gather_sets()\n",
    "f = MDAp.build()\n",
    "x0 = {\"h\": 400e3, \"D\": 0.1}\n",
    "xidxed = load_vals(x0, indices, isdict=True)\n",
    "f.analysis(xidxed)\n",
    "idxrev = {var.item():key for key,var in indices.items()}\n",
    "print_formatted_table([f.analysis(xidxed)], indices, idxrev)"
   ]
  },
  {
   "cell_type": "code",
   "execution_count": 150,
   "id": "5443a97d",
   "metadata": {},
   "outputs": [
    {
     "name": "stdout",
     "output_type": "stream",
     "text": [
      "T    E_b    d   m_b   P_c    P_T   m_A\n",
      "6000 1.23e5 0.6 0.246 12.285 0.285 0.5\n"
     ]
    }
   ],
   "source": [
    "_,_,_,_, indices = Power.gather_sets()\n",
    "f = Power.build()\n",
    "x0 = {\"d\": 0.6, \"T\": 6000}\n",
    "xidxed = load_vals(x0, indices, isdict=True)\n",
    "f.analysis(xidxed)\n",
    "idxrev = {var.item():key for key,var in indices.items()}\n",
    "print_formatted_table([f.analysis(xidxed)], indices, idxrev)"
   ]
  },
  {
   "cell_type": "code",
   "execution_count": 151,
   "id": "eb7a96f7",
   "metadata": {},
   "outputs": [
    {
     "name": "stdout",
     "output_type": "stream",
     "text": [
      "r      T        d    a      h      g   \n",
      "2.29e6 5544.858 0.61 6.77e6 4.00e5 0.11\n"
     ]
    }
   ],
   "source": [
    "_,_,_,_, indices = Orbit.gather_sets()\n",
    "f = Orbit.build()\n",
    "x0 = {\"h\": 400e3}\n",
    "xidxed = load_vals(x0, indices, isdict=True)\n",
    "f.analysis(xidxed)\n",
    "idxrev = {var.item():key for key,var in indices.items()}\n",
    "print_formatted_table([f.analysis(xidxed)], indices, idxrev)"
   ]
  },
  {
   "cell_type": "code",
   "execution_count": 200,
   "id": "4f6247ce",
   "metadata": {},
   "outputs": [],
   "source": [
    "SPF_MDF1 = FPF.config(elim=[HMult, Orbit, Power, Payload, Comms])\n",
    "sets, ineq_constraints_merged, eq_constraints, obj, indices = SPF_MDF1.gather_sets()\n",
    "f = SPF_MDF1.build()\n",
    "x0 = {\"hkm\": 400, \"X_r\": 1}\n",
    "xidxed = load_vals(x0, indices, isdict=True)\n",
    "f0 = f.analysis(xidxed).detach().clone()\n",
    "idxrev = {var.item():key for key,var in indices.items()}\n",
    "valdict = {val:f0[key].item() for key,val in idxrev.items()}\n",
    "# print_formatted_table([f.analysis(xidxed)], indices, idxrev)"
   ]
  },
  {
   "cell_type": "code",
   "execution_count": 202,
   "id": "23fcb7a7",
   "metadata": {},
   "outputs": [],
   "source": [
    "obj_function, dobj, xguess, constraints  = SPF_MDF1.build_opt(x0=f0)"
   ]
  },
  {
   "cell_type": "code",
   "execution_count": 203,
   "id": "d7fc147e",
   "metadata": {},
   "outputs": [
    {
     "data": {
      "text/plain": [
       "(array([ 0.00095426, -0.36158133]),\n",
       " tensor([-4.0000e+00,  9.9000e+01,  1.0000e+05], dtype=torch.float64))"
      ]
     },
     "execution_count": 203,
     "metadata": {},
     "output_type": "execute_result"
    }
   ],
   "source": [
    "dobj(xguess), constraints[0]['fun'](xguess)"
   ]
  },
  {
   "cell_type": "code",
   "execution_count": 208,
   "id": "43294d1c",
   "metadata": {},
   "outputs": [],
   "source": [
    "xsol = optimize.minimize(obj_function, xguess, jac=dobj, constraints=constraints, method='SLSQP', \n",
    "                         options={'ftol': 1e-9})"
   ]
  },
  {
   "cell_type": "code",
   "execution_count": 209,
   "id": "a68fa69a",
   "metadata": {},
   "outputs": [
    {
     "data": {
      "text/plain": [
       "array([300., 100.])"
      ]
     },
     "execution_count": 209,
     "metadata": {},
     "output_type": "execute_result"
    }
   ],
   "source": [
    "xsol.x"
   ]
  },
  {
   "cell_type": "code",
   "execution_count": 211,
   "id": "e0e70577",
   "metadata": {},
   "outputs": [
    {
     "name": "stdout",
     "output_type": "stream",
     "text": [
      "d     EN     r      P_T   a      h      m_A m_T   X_r T        D_p      D_T   D      g     G_r      hkm b      E_b    m_b   P_c    l_c   m_p     \n",
      "0.596 37.757 1.98e6 0.199 6.67e6 3.00e5 0.5 0.023 100 5422.476 1.83e-03 0.237 6.40e9 0.096 8255.002 300 1.18e6 1.11e5 0.222 12.199 0.136 1.57e-04\n"
     ]
    }
   ],
   "source": [
    "xidxed = load_vals({'hkm':xsol.x[0], 'X_r':xsol.x[1]}, \n",
    "                   indices, isdict=True)\n",
    "print_formatted_table([f.analysis(xidxed)], indices, idxrev)"
   ]
  },
  {
   "cell_type": "code",
   "execution_count": 212,
   "id": "f4b9104f",
   "metadata": {},
   "outputs": [
    {
     "data": {
      "text/plain": [
       " message: Optimization terminated successfully\n",
       " success: True\n",
       "  status: 0\n",
       "     fun: 0.7452754334567794\n",
       "       x: [ 3.000e+02  1.000e+02]\n",
       "     nit: 27\n",
       "     jac: [ 5.071e-05 -2.349e-06]\n",
       "    nfev: 27\n",
       "    njev: 27"
      ]
     },
     "execution_count": 212,
     "metadata": {},
     "output_type": "execute_result"
    }
   ],
   "source": [
    "xsol"
   ]
  },
  {
   "cell_type": "code",
   "execution_count": 77,
   "id": "fb0e3f04",
   "metadata": {},
   "outputs": [
    {
     "name": "stdout",
     "output_type": "stream",
     "text": [
      "T        X_r      d    D_p   D        g    r      E_b    P_T   m_b   h      P_c    m_p   a      m_A\n",
      "5544.858 2085.041 0.61 0.244 6.40e+11 0.11 2.29e6 1.14e5 0.489 0.227 4.00e5 12.489 0.241 6.77e6 0.5\n"
     ]
    }
   ],
   "source": [
    "print_formatted_table([f0], indices, idxrev)"
   ]
  },
  {
   "cell_type": "code",
   "execution_count": null,
   "id": "d5595055",
   "metadata": {},
   "outputs": [],
   "source": [
    "SPF_IDF = FPF.config(parallel=[Orbit, Power, Payload])\n",
    "SPF_AAO = FPF.config(residuals=Orbit.supersets+Power.supersets+Payload.supersets)\n",
    "SPF_MDF1 = FPF.config(elim=[Orbit, Power, Payload])\n",
    "SPF_MDF2 = FPF.config(elim=[MDA.config(parallel=[Orbit, Power, Payload])])"
   ]
  },
  {
   "cell_type": "code",
   "execution_count": 132,
   "id": "c17a1191",
   "metadata": {},
   "outputs": [],
   "source": [
    "# HMult = MFunctionalSetLeaf(\n",
    "#     h==hkm*1000\n",
    "# )"
   ]
  },
  {
   "cell_type": "code",
   "execution_count": null,
   "id": "e67624f5",
   "metadata": {},
   "outputs": [],
   "source": []
  }
 ],
 "metadata": {
  "kernelspec": {
   "display_name": "minimdo",
   "language": "python",
   "name": "python3"
  },
  "language_info": {
   "codemirror_mode": {
    "name": "ipython",
    "version": 3
   },
   "file_extension": ".py",
   "mimetype": "text/x-python",
   "name": "python",
   "nbconvert_exporter": "python",
   "pygments_lexer": "ipython3",
   "version": "3.9.18"
  }
 },
 "nbformat": 4,
 "nbformat_minor": 5
}
