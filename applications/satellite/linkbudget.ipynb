{
 "cells": [
  {
   "cell_type": "markdown",
   "id": "93e3ad45-e0ab-455c-8025-35c07712135e",
   "metadata": {},
   "source": [
    "# Validation of link budget model\n",
    "For verification against budget in SMAD, Table 13-13, page 567 (3rd edition), Telemetry and Data column\n",
    "Note, that there seems to be a double counting of $L_{pr}$ in the equations"
   ]
  },
  {
   "cell_type": "code",
   "execution_count": 4,
   "id": "cf880ae9-ee64-44de-9b53-76bb62632ec6",
   "metadata": {
    "execution": {
     "iopub.execute_input": "2022-07-01T18:41:03.676575Z",
     "iopub.status.busy": "2022-07-01T18:41:03.676575Z",
     "iopub.status.idle": "2022-07-01T18:41:03.689611Z",
     "shell.execute_reply": "2022-07-01T18:41:03.689384Z",
     "shell.execute_reply.started": "2022-07-01T18:41:03.676575Z"
    },
    "tags": []
   },
   "outputs": [],
   "source": [
    "from datastructures.api import Model, adda\n",
    "from constants import k, c\n",
    "from numpy import pi\n",
    "from math import log10\n",
    "import sympy as sp\n",
    "from compute import Par\n",
    "from datastructures.postprocess import print_outputs_static"
   ]
  },
  {
   "cell_type": "code",
   "execution_count": 47,
   "id": "987dcb8c-e7e5-4f0a-90db-a6cd6bbb4799",
   "metadata": {
    "execution": {
     "iopub.execute_input": "2022-07-01T18:45:39.609141Z",
     "iopub.status.busy": "2022-07-01T18:45:39.609141Z",
     "iopub.status.idle": "2022-07-01T18:45:39.624614Z",
     "shell.execute_reply": "2022-07-01T18:45:39.624442Z",
     "shell.execute_reply.started": "2022-07-01T18:45:39.609141Z"
    },
    "tags": []
   },
   "outputs": [],
   "source": [
    "dBtoLinear = lambda db: 10**(db/10)\n",
    "lineartodB = lambda l: 10*log10(l)\n",
    "# Telemetry and Data column - Command column\n",
    "S = Par('S', 2831, 'km')   # 2831\n",
    "P = Par('P', 1, 'W')      # 1\n",
    "theta_t = Par(r'\\theta_t', 2) # 2\n",
    "#D_t = Par('D_t', 0.3, 'm') # 5.3\n",
    "D_r = Par('D_r', 0.07, 'm') # 0.07\n",
    "L = Par('L', dBtoLinear(1+0.1+0.3+2.6)) #L_l+L_pt+L_a+Lpr \n",
    "T_s = Par('T_s', 614, 'K') # 614\n",
    "eta = Par(r'\\eta', 0.55)   # assumed but not given explicitely in table\n",
    "f = Par('f', 2, 'GHz')   # 2 \n",
    "R = Par('R', 100, unit='bit/s') #100 kbps"
   ]
  },
  {
   "cell_type": "markdown",
   "id": "cab24c8d-6fdc-4fa9-9ab8-0a9b2a3aca33",
   "metadata": {},
   "source": [
    "# Link budget equations"
   ]
  },
  {
   "cell_type": "code",
   "execution_count": 48,
   "id": "50131b91-046f-49c7-9379-fdc6b38e630d",
   "metadata": {
    "execution": {
     "iopub.execute_input": "2022-07-01T18:45:40.028115Z",
     "iopub.status.busy": "2022-07-01T18:45:40.028115Z",
     "iopub.status.idle": "2022-07-01T18:45:40.093046Z",
     "shell.execute_reply": "2022-07-01T18:45:40.092121Z",
     "shell.execute_reply.started": "2022-07-01T18:45:40.028115Z"
    },
    "tags": []
   },
   "outputs": [],
   "source": [
    "model = Model()\n",
    "m = model.root\n",
    "λ_c = adda(m, r'\\lambda_c', c/f, unit='cm')\n",
    "#G_t = adda(m, 'G_t', eta*(pi*D_t/λ_c)**2)\n",
    "G_pt = adda(m, r'G_{pt}', dBtoLinear(44.3-10*sp.log(theta_t*theta_t, 10))) # this is the actual model used in the book\n",
    "D_t = adda(m, 'D_T', λ_c*(G_pt/eta)**0.5/pi, unit='m')\n",
    "G_rp = adda(m, r'G_{rp}', eta*(pi*D_r/λ_c)**2)\n",
    "L_s = adda(m, 'L_s', (λ_c/(4*pi*S))**2, unit='')\n",
    "EN = adda(m, 'EN', P*G_rp*G_pt/(L*k*T_s*R)*L_s, unit='')"
   ]
  },
  {
   "cell_type": "markdown",
   "id": "bd978298-5406-4e37-998a-2c6676c65ca9",
   "metadata": {},
   "source": [
    "### Check values"
   ]
  },
  {
   "cell_type": "code",
   "execution_count": 58,
   "id": "c22778fb-5c7f-4bd3-a105-21cfb5902332",
   "metadata": {
    "execution": {
     "iopub.execute_input": "2022-07-01T18:49:20.513380Z",
     "iopub.status.busy": "2022-07-01T18:49:20.512381Z",
     "iopub.status.idle": "2022-07-01T18:49:20.531403Z",
     "shell.execute_reply": "2022-07-01T18:49:20.531403Z",
     "shell.execute_reply.started": "2022-07-01T18:49:20.513380Z"
    },
    "tags": []
   },
   "outputs": [
    {
     "data": {
      "text/plain": [
       "0.755761295901285"
      ]
     },
     "execution_count": 58,
     "metadata": {},
     "output_type": "execute_result"
    }
   ],
   "source": [
    "lineartodB(G_rp.varval)"
   ]
  },
  {
   "cell_type": "code",
   "execution_count": 57,
   "id": "841e0e68-e38e-4bc0-a41e-bea027780991",
   "metadata": {
    "execution": {
     "iopub.execute_input": "2022-07-01T18:49:15.788136Z",
     "iopub.status.busy": "2022-07-01T18:49:15.787136Z",
     "iopub.status.idle": "2022-07-01T18:49:15.796255Z",
     "shell.execute_reply": "2022-07-01T18:49:15.795370Z",
     "shell.execute_reply.started": "2022-07-01T18:49:15.788136Z"
    }
   },
   "outputs": [
    {
     "data": {
      "text/plain": [
       "-1.8442387040987152"
      ]
     },
     "execution_count": 57,
     "metadata": {},
     "output_type": "execute_result"
    }
   ],
   "source": [
    "lineartodB(G_rp.varval)-2.6"
   ]
  },
  {
   "cell_type": "code",
   "execution_count": 50,
   "id": "25f8040b-c16b-41b5-a00d-6eae3ec20344",
   "metadata": {
    "execution": {
     "iopub.execute_input": "2022-07-01T18:45:41.057628Z",
     "iopub.status.busy": "2022-07-01T18:45:41.057628Z",
     "iopub.status.idle": "2022-07-01T18:45:41.072519Z",
     "shell.execute_reply": "2022-07-01T18:45:41.071523Z",
     "shell.execute_reply.started": "2022-07-01T18:45:41.057628Z"
    },
    "tags": []
   },
   "outputs": [
    {
     "data": {
      "text/plain": [
       "-167.53017081453504"
      ]
     },
     "execution_count": 50,
     "metadata": {},
     "output_type": "execute_result"
    }
   ],
   "source": [
    "lineartodB(L_s.varval) #L_s in dB"
   ]
  },
  {
   "cell_type": "markdown",
   "id": "a0c2638d-8934-47f7-87a6-b74341069dc7",
   "metadata": {},
   "source": [
    "### Check EIRP"
   ]
  },
  {
   "cell_type": "code",
   "execution_count": 56,
   "id": "c2ed2b0b-2b72-42b8-b9be-0e5cc1edaedc",
   "metadata": {
    "execution": {
     "iopub.execute_input": "2022-07-01T18:48:41.668155Z",
     "iopub.status.busy": "2022-07-01T18:48:41.668155Z",
     "iopub.status.idle": "2022-07-01T18:48:41.685342Z",
     "shell.execute_reply": "2022-07-01T18:48:41.685342Z",
     "shell.execute_reply.started": "2022-07-01T18:48:41.668155Z"
    },
    "tags": []
   },
   "outputs": [
    {
     "data": {
      "text/plain": [
       "37.17940008672037"
      ]
     },
     "execution_count": 56,
     "metadata": {},
     "output_type": "execute_result"
    }
   ],
   "source": [
    "lineartodB(G_pt.varval)-0.1+lineartodB(1)-1"
   ]
  },
  {
   "cell_type": "code",
   "execution_count": 63,
   "id": "9e2e2c4b-05fb-4412-a728-6bcdbc615e56",
   "metadata": {
    "execution": {
     "iopub.execute_input": "2022-07-01T18:51:09.578663Z",
     "iopub.status.busy": "2022-07-01T18:51:09.578663Z",
     "iopub.status.idle": "2022-07-01T18:51:09.594666Z",
     "shell.execute_reply": "2022-07-01T18:51:09.593778Z",
     "shell.execute_reply.started": "2022-07-01T18:51:09.578663Z"
    },
    "tags": []
   },
   "outputs": [
    {
     "data": {
      "text/plain": [
       "45.518316288588316"
      ]
     },
     "execution_count": 63,
     "metadata": {},
     "output_type": "execute_result"
    }
   ],
   "source": [
    "37.2-0.3-0.1-167.5-1.9+228.6-10*log10(T_s.varval)-10*log10(100)-2.6"
   ]
  },
  {
   "cell_type": "code",
   "execution_count": 53,
   "id": "a8725ff0-9f60-4c50-9070-e518ba829dcd",
   "metadata": {
    "execution": {
     "iopub.execute_input": "2022-07-01T18:45:42.175512Z",
     "iopub.status.busy": "2022-07-01T18:45:42.174418Z",
     "iopub.status.idle": "2022-07-01T18:45:42.193672Z",
     "shell.execute_reply": "2022-07-01T18:45:42.192737Z",
     "shell.execute_reply.started": "2022-07-01T18:45:42.175512Z"
    },
    "tags": []
   },
   "outputs": [
    {
     "data": {
      "text/plain": [
       "40.182824943367876"
      ]
     },
     "execution_count": 53,
     "metadata": {},
     "output_type": "execute_result"
    }
   ],
   "source": [
    "lineartodB(G_pt.varval)+lineartodB(20)-lineartodB(L.varval)+lineartodB(L_s.varval)+39-lineartodB(k.varval)-10*log10(T_s.varval)-10*log10(85e6)"
   ]
  },
  {
   "cell_type": "markdown",
   "id": "361dc174-6f78-4086-930c-f394de2c4a2b",
   "metadata": {},
   "source": [
    "It seems like the Lpt is double counted in SMAD"
   ]
  },
  {
   "cell_type": "code",
   "execution_count": 64,
   "id": "7c733fca-965f-4596-9dee-4b0a836ee402",
   "metadata": {
    "execution": {
     "iopub.execute_input": "2022-07-01T18:51:29.899533Z",
     "iopub.status.busy": "2022-07-01T18:51:29.899533Z",
     "iopub.status.idle": "2022-07-01T18:51:29.914623Z",
     "shell.execute_reply": "2022-07-01T18:51:29.914623Z",
     "shell.execute_reply.started": "2022-07-01T18:51:29.899533Z"
    },
    "tags": []
   },
   "outputs": [
    {
     "data": {
      "text/plain": [
       "48.22247553977231"
      ]
     },
     "execution_count": 64,
     "metadata": {},
     "output_type": "execute_result"
    }
   ],
   "source": [
    "lineartodB(EN.varval)"
   ]
  },
  {
   "cell_type": "markdown",
   "id": "cd4650c9-561f-468e-9d26-08043c5bd140",
   "metadata": {},
   "source": [
    "## Results"
   ]
  },
  {
   "cell_type": "code",
   "execution_count": 65,
   "id": "f8a42e3e-0110-4a3a-b3a7-73f25b992fc5",
   "metadata": {
    "execution": {
     "iopub.execute_input": "2022-07-01T18:51:30.667851Z",
     "iopub.status.busy": "2022-07-01T18:51:30.667851Z",
     "iopub.status.idle": "2022-07-01T18:51:30.684109Z",
     "shell.execute_reply": "2022-07-01T18:51:30.683847Z",
     "shell.execute_reply.started": "2022-07-01T18:51:30.667851Z"
    },
    "tags": []
   },
   "outputs": [
    {
     "data": {
      "text/html": [
       "<style type=\"text/css\">\n",
       "</style>\n",
       "<table id=\"T_6ae68\">\n",
       "  <thead>\n",
       "  </thead>\n",
       "  <tbody>\n",
       "    <tr>\n",
       "      <td id=\"T_6ae68_row0_col0\" class=\"data row0 col0\" >$$\\lambda_c$$</td>\n",
       "      <td id=\"T_6ae68_row0_col1\" class=\"data row0 col1\" >14.95</td>\n",
       "      <td id=\"T_6ae68_row0_col2\" class=\"data row0 col2\" >cm</td>\n",
       "    </tr>\n",
       "    <tr>\n",
       "      <td id=\"T_6ae68_row1_col0\" class=\"data row1 col0\" >$$G_{pt}$$</td>\n",
       "      <td id=\"T_6ae68_row1_col1\" class=\"data row1 col1\" >6728.837</td>\n",
       "      <td id=\"T_6ae68_row1_col2\" class=\"data row1 col2\" ></td>\n",
       "    </tr>\n",
       "    <tr>\n",
       "      <td id=\"T_6ae68_row2_col0\" class=\"data row2 col0\" >$$D_T$$</td>\n",
       "      <td id=\"T_6ae68_row2_col1\" class=\"data row2 col1\" >5.264</td>\n",
       "      <td id=\"T_6ae68_row2_col2\" class=\"data row2 col2\" >m</td>\n",
       "    </tr>\n",
       "    <tr>\n",
       "      <td id=\"T_6ae68_row3_col0\" class=\"data row3 col0\" >$$G_{rp}$$</td>\n",
       "      <td id=\"T_6ae68_row3_col1\" class=\"data row3 col1\" >1.19</td>\n",
       "      <td id=\"T_6ae68_row3_col2\" class=\"data row3 col2\" ></td>\n",
       "    </tr>\n",
       "    <tr>\n",
       "      <td id=\"T_6ae68_row4_col0\" class=\"data row4 col0\" >$$L_s$$</td>\n",
       "      <td id=\"T_6ae68_row4_col1\" class=\"data row4 col1\" >1.766×10⁻¹⁷</td>\n",
       "      <td id=\"T_6ae68_row4_col2\" class=\"data row4 col2\" ></td>\n",
       "    </tr>\n",
       "    <tr>\n",
       "      <td id=\"T_6ae68_row5_col0\" class=\"data row5 col0\" >$$EN$$</td>\n",
       "      <td id=\"T_6ae68_row5_col1\" class=\"data row5 col1\" >6.641×10⁴</td>\n",
       "      <td id=\"T_6ae68_row5_col2\" class=\"data row5 col2\" ></td>\n",
       "    </tr>\n",
       "  </tbody>\n",
       "</table>\n"
      ],
      "text/plain": [
       "<pandas.io.formats.style.Styler at 0x1c556b97a00>"
      ]
     },
     "execution_count": 65,
     "metadata": {},
     "output_type": "execute_result"
    }
   ],
   "source": [
    "print_outputs_static(model).style.hide(axis=\"columns\").hide(axis=\"index\")"
   ]
  },
  {
   "cell_type": "markdown",
   "id": "a57c860e-630b-442e-a7f2-1d6b5f7da3ec",
   "metadata": {},
   "source": [
    "# Other interesting calculations"
   ]
  },
  {
   "cell_type": "markdown",
   "id": "d4d73781-0709-43de-bf2d-d5dd533a94c6",
   "metadata": {},
   "source": [
    "Fig. 13-6. $G_t=5, \\theta=75; G_t=125, \\theta=15$"
   ]
  },
  {
   "cell_type": "code",
   "execution_count": 76,
   "id": "cf8ef7f5-a416-4d10-b344-07b04472c1ee",
   "metadata": {
    "execution": {
     "iopub.execute_input": "2022-07-01T19:13:13.991180Z",
     "iopub.status.busy": "2022-07-01T19:13:13.991180Z",
     "iopub.status.idle": "2022-07-01T19:13:14.005308Z",
     "shell.execute_reply": "2022-07-01T19:13:14.004679Z",
     "shell.execute_reply.started": "2022-07-01T19:13:13.991180Z"
    },
    "tags": []
   },
   "outputs": [
    {
     "data": {
      "text/plain": [
       "4.8"
      ]
     },
     "execution_count": 76,
     "metadata": {},
     "output_type": "execute_result"
    }
   ],
   "source": [
    "27000/(75*75)"
   ]
  },
  {
   "cell_type": "code",
   "execution_count": 78,
   "id": "b054c6b6-d59a-447f-8905-cccbf9c05371",
   "metadata": {
    "execution": {
     "iopub.execute_input": "2022-07-01T19:13:23.857355Z",
     "iopub.status.busy": "2022-07-01T19:13:23.857355Z",
     "iopub.status.idle": "2022-07-01T19:13:23.869522Z",
     "shell.execute_reply": "2022-07-01T19:13:23.868424Z",
     "shell.execute_reply.started": "2022-07-01T19:13:23.857355Z"
    },
    "tags": []
   },
   "outputs": [
    {
     "data": {
      "text/plain": [
       "120.0"
      ]
     },
     "execution_count": 78,
     "metadata": {},
     "output_type": "execute_result"
    }
   ],
   "source": [
    "27000/(15*15) #it's 5 off"
   ]
  }
 ],
 "metadata": {
  "kernelspec": {
   "display_name": "Python [conda env:mdo]",
   "language": "python",
   "name": "conda-env-mdo-py"
  },
  "language_info": {
   "codemirror_mode": {
    "name": "ipython",
    "version": 3
   },
   "file_extension": ".py",
   "mimetype": "text/x-python",
   "name": "python",
   "nbconvert_exporter": "python",
   "pygments_lexer": "ipython3",
   "version": "3.9.7"
  }
 },
 "nbformat": 4,
 "nbformat_minor": 5
}
