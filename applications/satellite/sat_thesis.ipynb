{
 "cells": [
  {
   "cell_type": "code",
   "execution_count": 1,
   "id": "be29e181-532c-4cab-964d-c4acae654188",
   "metadata": {
    "execution": {
     "iopub.execute_input": "2022-07-26T12:16:31.437609Z",
     "iopub.status.busy": "2022-07-26T12:16:31.436608Z",
     "iopub.status.idle": "2022-07-26T12:16:33.427016Z",
     "shell.execute_reply": "2022-07-26T12:16:33.427016Z",
     "shell.execute_reply.started": "2022-07-26T12:16:31.437609Z"
    },
    "tags": []
   },
   "outputs": [
    {
     "name": "stderr",
     "output_type": "stream",
     "text": [
      "/home/johan/miniconda3/envs/pyoptsparse/lib/python3.9/site-packages/pyoptsparse/pyOpt_MPI.py:68: UserWarning: mpi4py could not be imported. mpi4py is required to use the parallel gradient analysis and parallel objective analysis for non-gradient based optimizers. Continuing using a dummy MPI module from pyOptSparse.\n",
      "  warnings.warn(warn)\n"
     ]
    }
   ],
   "source": [
    "from compute import Var, Par\n",
    "from datastructures.api import Model, adda, addf, addsolver, edges_no_param, evalexpr, OPT, addineq, setsolvefor, addobj\n",
    "from anytree import Node\n",
    "from constants import μ, R, Q, k, c, G, H_int, ρ_int\n",
    "from representations import render_tree, digraph_repr, drawfull, tree_incidence\n",
    "from notation import graphs_from_incidence, make_acyclic, solvers_bottom_up, generate_execution, default_sequence\n",
    "import numpy as np\n",
    "import sympy as sp\n",
    "import networkx as nx\n",
    "from sympy.utilities.lambdify import implemented_function\n",
    "import matplotlib.pyplot as plt\n",
    "from collections import OrderedDict\n",
    "from datastructures.graphutils import (namefromsympy, namefromid, flat_graph_formulation, Node, COMP, VAR, SOLVER,\n",
    "merge_edges, all_varnodes, all_variables, all_edges, sources, copy_dicts)\n",
    "from datastructures.operators import sort_scc, reorder_merge_solve, reformulate, invert_edges\n",
    "from datastructures.execution import Component\n",
    "from datastructures.workflow import order_from_tree, get_f, mdao_workflow, default_solver_options\n",
    "from datastructures.workflow_mdao import mdao_workflow_with_args\n",
    "from datastructures.assembly import build_archi\n",
    "from executeformulations import extractvals\n",
    "import pandas as pd\n",
    "from datastructures.postprocess import print_outputs, print_inputs, update_varval\n",
    "from datastructures.runpipeline import model_to_problem\n",
    "from datastructures.rendering import render_incidence\n",
    "from datastructures.tearing import dir_graph, min_arc_set_assign, min_arc_set, min_max_scc, min_max_scc2\n",
    "from datastructures.transformations import transform_components\n",
    "from itertools import chain\n",
    "import openmdao.api as om"
   ]
  },
  {
   "cell_type": "markdown",
   "id": "63bfda93-3029-4b49-91a3-e7fd5fbec2c6",
   "metadata": {},
   "source": [
    "# Sizing equations"
   ]
  },
  {
   "cell_type": "markdown",
   "id": "266adce2-75d1-4106-a28c-767dbfe86e85",
   "metadata": {},
   "source": [
    "## Parameters"
   ]
  },
  {
   "cell_type": "code",
   "execution_count": 2,
   "id": "f1c212a7-9963-4b07-a6e9-7f0ea1217b52",
   "metadata": {
    "execution": {
     "iopub.execute_input": "2022-07-26T12:16:33.427016Z",
     "iopub.status.busy": "2022-07-26T12:16:33.427016Z",
     "iopub.status.idle": "2022-07-26T12:16:33.442957Z",
     "shell.execute_reply": "2022-07-26T12:16:33.442383Z",
     "shell.execute_reply.started": "2022-07-26T12:16:33.427016Z"
    },
    "tags": []
   },
   "outputs": [],
   "source": [
    "dBtoLinear = lambda db: 10**(db/10)\n",
    "D_r = Par('D_r', 5.3, 'm')\n",
    "L = Par('L', dBtoLinear(1+8.5+0.3+0.1)) #based on SMAD page 567\n",
    "T_s = Par('T_s', 135, 'K')\n",
    "B = Par('B', 8, 'bit')\n",
    "N = Par('N', 2e3, '')\n",
    "eta = Par(r'\\eta_c', 0.55)\n",
    "l_v = Par('l_v', 500, 'nm')\n",
    "f = Par('f', 2.2, 'GHz')\n",
    "rho_T = Par(r'\\rho_T', 500e3, 'kg*m')\n",
    "rho_P = Par(r'\\rho_P', 0.002e-3, 'kg/J')\n",
    "P_l = Par('P_l', 12, 'W')\n",
    "m_c = Par('m_c', 0.2, 'kg')\n",
    "C_D = Par('C_D', 2.2)\n",
    "I_sp = Par('Isp', 70, 's')\n",
    "w_W = Par('w_W', 1000, 'rad/s')\n",
    "c_W = Par('c_W', 1)\n",
    "rho_M = Par(r'\\rho_M', 11.4)\n",
    "rho_P2 = Par(r'\\rho_P2', 9/0.1)\n",
    "M_B = Par('M_B', 7.96e15)\n",
    "kp = Par('kp', 0.0002)"
   ]
  },
  {
   "cell_type": "code",
   "execution_count": 3,
   "id": "c3d73208-2030-40c0-b4fb-c06eaf97a423",
   "metadata": {
    "execution": {
     "iopub.execute_input": "2022-07-26T12:16:33.444899Z",
     "iopub.status.busy": "2022-07-26T12:16:33.443897Z",
     "iopub.status.idle": "2022-07-26T12:16:33.457911Z",
     "shell.execute_reply": "2022-07-26T12:16:33.457911Z",
     "shell.execute_reply.started": "2022-07-26T12:16:33.444899Z"
    },
    "tags": []
   },
   "outputs": [],
   "source": [
    "#model = Model()\n",
    "model = Model(solver=OPT)\n",
    "m = model.root"
   ]
  },
  {
   "cell_type": "markdown",
   "id": "63f99e9e-8233-4653-ac64-fedde7039039",
   "metadata": {},
   "source": [
    "## Orbit / mission design"
   ]
  },
  {
   "cell_type": "code",
   "execution_count": 4,
   "id": "cfe79c9c-ccea-4219-b15e-086023c02b96",
   "metadata": {
    "execution": {
     "iopub.execute_input": "2022-07-26T12:16:33.459908Z",
     "iopub.status.busy": "2022-07-26T12:16:33.458908Z",
     "iopub.status.idle": "2022-07-26T12:16:33.474912Z",
     "shell.execute_reply": "2022-07-26T12:16:33.473997Z",
     "shell.execute_reply.started": "2022-07-26T12:16:33.459908Z"
    },
    "tags": []
   },
   "outputs": [],
   "source": [
    "orbit = addsolver(m, name='orbit')"
   ]
  },
  {
   "cell_type": "code",
   "execution_count": 5,
   "id": "66dc9e13-a363-46d9-a9d8-0c40a9410eac",
   "metadata": {
    "execution": {
     "iopub.execute_input": "2022-07-26T12:16:33.475910Z",
     "iopub.status.busy": "2022-07-26T12:16:33.474912Z",
     "iopub.status.idle": "2022-07-26T12:16:33.770397Z",
     "shell.execute_reply": "2022-07-26T12:16:33.770188Z",
     "shell.execute_reply.started": "2022-07-26T12:16:33.475910Z"
    },
    "tags": []
   },
   "outputs": [],
   "source": [
    "h = Var('h', 400, 'km') #\n",
    "a = adda(orbit, 'a', h + R, unit='km')\n",
    "T = adda(orbit, 'T', 2*np.pi*(a**3/μ)**0.5, unit='min')\n",
    "g = adda(orbit, 'g', 1/np.pi*sp.acos(R/a), unit='')\n",
    "d = adda(orbit, 'd', g+0.5)\n",
    "r = adda(orbit, 'r', (h**2+2*R*h)**0.5, unit='km')"
   ]
  },
  {
   "cell_type": "markdown",
   "id": "62fbeca4-cfd3-44c4-9b11-fb74ec1f0b59",
   "metadata": {
    "tags": []
   },
   "source": [
    "## Power"
   ]
  },
  {
   "cell_type": "code",
   "execution_count": 6,
   "id": "441cc243-69d4-4299-b64f-19e89c363694",
   "metadata": {
    "execution": {
     "iopub.execute_input": "2022-07-26T12:16:33.771437Z",
     "iopub.status.busy": "2022-07-26T12:16:33.771437Z",
     "iopub.status.idle": "2022-07-26T12:16:33.786508Z",
     "shell.execute_reply": "2022-07-26T12:16:33.785585Z",
     "shell.execute_reply.started": "2022-07-26T12:16:33.771437Z"
    },
    "tags": []
   },
   "outputs": [],
   "source": [
    "power = addsolver(m, name='power')"
   ]
  },
  {
   "cell_type": "code",
   "execution_count": 7,
   "id": "72ede195-4fe3-4d48-9740-e7657f94f92a",
   "metadata": {
    "execution": {
     "iopub.execute_input": "2022-07-26T12:16:33.787445Z",
     "iopub.status.busy": "2022-07-26T12:16:33.787445Z",
     "iopub.status.idle": "2022-07-26T12:16:33.895577Z",
     "shell.execute_reply": "2022-07-26T12:16:33.894561Z",
     "shell.execute_reply.started": "2022-07-26T12:16:33.787445Z"
    },
    "tags": []
   },
   "outputs": [],
   "source": [
    "eta_A = Par(r'\\eta_A', 0.3)\n",
    "rho_A = Par(r'\\rho_A', 10, 'kg/m^2') #\n",
    "#ρ_A, η_A = ρ_Ai[solar], η_Ai[solar]\n",
    "A = Var('A', 0.05, unit='m^2')\n",
    "m_A = adda(power, 'm_A', rho_A*A, unit='kg')\n",
    "P_c = adda(power, 'P_c', d*A*Q*eta_A, unit='W')\n",
    "P_T = adda(power, 'P_T', P_c-P_l, unit='W') #hack\n",
    "E_b = adda(power, 'E_b', P_c*T/d, unit='kJ')\n",
    "rho_b = Par(r'\\rho_b', 0.002, 'kg/kJ')\n",
    "m_b = adda(power, 'm_b', rho_b*E_b, unit='kg')\n",
    "#E_b, m_b = E_bi[bat], m_bi[bat]"
   ]
  },
  {
   "cell_type": "markdown",
   "id": "51855427-b668-42eb-beb4-cf99cfeff29b",
   "metadata": {},
   "source": [
    "## Payload"
   ]
  },
  {
   "cell_type": "code",
   "execution_count": 8,
   "id": "d877b307-a9de-4109-931b-c1172a151495",
   "metadata": {
    "execution": {
     "iopub.execute_input": "2022-07-26T12:16:34.918458Z",
     "iopub.status.busy": "2022-07-26T12:16:34.918458Z",
     "iopub.status.idle": "2022-07-26T12:16:34.937504Z",
     "shell.execute_reply": "2022-07-26T12:16:34.936507Z",
     "shell.execute_reply.started": "2022-07-26T12:16:34.918458Z"
    },
    "tags": []
   },
   "outputs": [],
   "source": [
    "payload = addsolver(m, name='payload')"
   ]
  },
  {
   "cell_type": "code",
   "execution_count": 9,
   "id": "47b296c5-43f3-4575-aafc-16548576cd88",
   "metadata": {
    "execution": {
     "iopub.execute_input": "2022-07-26T12:16:35.532185Z",
     "iopub.status.busy": "2022-07-26T12:16:35.532185Z",
     "iopub.status.idle": "2022-07-26T12:16:35.592534Z",
     "shell.execute_reply": "2022-07-26T12:16:35.591766Z",
     "shell.execute_reply.started": "2022-07-26T12:16:35.532185Z"
    },
    "tags": []
   },
   "outputs": [],
   "source": [
    "X_r = Var('X_r', 5, 'm')\n",
    "D_p = adda(payload, 'D_p', 1.22*l_v*h/X_r)\n",
    "D = adda(payload, 'D', 2*np.pi*R*B*N/X_r, unit='GB')\n",
    "rho_p = Par(r'\\rho_p', 2, 'kg/m^1.5') \n",
    "#D_p, m_p = D_pi[payload], m_pi[payload]\n",
    "m_p = adda(payload, 'm_p', rho_p*D_p**1.5, unit='kg')"
   ]
  },
  {
   "cell_type": "code",
   "execution_count": 10,
   "id": "827027db-fe00-4f17-9c5b-fc323673b0c1",
   "metadata": {
    "execution": {
     "iopub.execute_input": "2022-07-26T12:16:35.963796Z",
     "iopub.status.busy": "2022-07-26T12:16:35.963796Z",
     "iopub.status.idle": "2022-07-26T12:16:35.980795Z",
     "shell.execute_reply": "2022-07-26T12:16:35.979797Z",
     "shell.execute_reply.started": "2022-07-26T12:16:35.963796Z"
    },
    "tags": []
   },
   "outputs": [],
   "source": [
    "#payload = addsolver(m, geteqs(m, [D_p, D, m_p]), [], name='payload')"
   ]
  },
  {
   "cell_type": "markdown",
   "id": "87cbc428-558e-449a-88c5-2f6d0b802cce",
   "metadata": {},
   "source": [
    "## Comms"
   ]
  },
  {
   "cell_type": "code",
   "execution_count": 11,
   "id": "56565f50-461e-44e2-b9cc-694b1cbfc609",
   "metadata": {
    "execution": {
     "iopub.execute_input": "2022-07-26T12:16:36.576337Z",
     "iopub.status.busy": "2022-07-26T12:16:36.576337Z",
     "iopub.status.idle": "2022-07-26T12:16:36.589795Z",
     "shell.execute_reply": "2022-07-26T12:16:36.588794Z",
     "shell.execute_reply.started": "2022-07-26T12:16:36.576337Z"
    },
    "tags": []
   },
   "outputs": [],
   "source": [
    "comms = addsolver(m, name='comms')"
   ]
  },
  {
   "cell_type": "code",
   "execution_count": 12,
   "id": "38eecc0d-6b88-4d03-8221-457d361a5052",
   "metadata": {
    "execution": {
     "iopub.execute_input": "2022-07-26T12:16:36.910907Z",
     "iopub.status.busy": "2022-07-26T12:16:36.909898Z",
     "iopub.status.idle": "2022-07-26T12:16:37.025724Z",
     "shell.execute_reply": "2022-07-26T12:16:37.025609Z",
     "shell.execute_reply.started": "2022-07-26T12:16:36.910907Z"
    },
    "tags": []
   },
   "outputs": [],
   "source": [
    "b = adda(comms, 'b', D/T, unit='MB/s')\n",
    "λ_c = adda(comms, r'\\lambda_c', c/f, unit='cm')\n",
    "G_T = Par('G_T', dBtoLinear(16.5), '')\n",
    "D_T = adda(comms, 'D_T', λ_c*(G_T/eta)**0.5/np.pi, unit='m')\n",
    "rho_T = Par(r'\\rho_T', 0.2, 'kg/m^1.5')\n",
    "m_T = adda(comms, 'm_T', rho_T*D_T**1.5, unit='kg')\n",
    "#m_T, P_T, G_T = m_Ti[comms], P_Ti[comms], G_Ti[comms]\n",
    "G_r = adda(comms, 'G_r', eta*(np.pi*D_r/λ_c)**2)\n",
    "EN = adda(comms, 'EN', P_T*G_r*G_T/(L*k*T_s*b)*(λ_c/(4*np.pi*r))**2, unit='')"
   ]
  },
  {
   "cell_type": "code",
   "execution_count": 13,
   "id": "a6e2e8e7-9227-4e62-bc03-8d6801afc7a7",
   "metadata": {
    "execution": {
     "iopub.execute_input": "2022-07-26T12:16:37.664043Z",
     "iopub.status.busy": "2022-07-26T12:16:37.664043Z",
     "iopub.status.idle": "2022-07-26T12:16:37.677621Z",
     "shell.execute_reply": "2022-07-26T12:16:37.677056Z",
     "shell.execute_reply.started": "2022-07-26T12:16:37.664043Z"
    },
    "tags": []
   },
   "outputs": [],
   "source": [
    "#comms = addsolver(m, geteqs(m, [b, λ_c, D_T, m_T, G_r, EN]), [], name='comms')"
   ]
  },
  {
   "cell_type": "markdown",
   "id": "9d167992-9c25-4a84-9e66-fd9428ae0e3d",
   "metadata": {},
   "source": [
    "## Mass and struct"
   ]
  },
  {
   "cell_type": "code",
   "execution_count": 14,
   "id": "31b1491a-8558-4ee6-a3c1-0ea6f7aa0a19",
   "metadata": {
    "execution": {
     "iopub.execute_input": "2022-07-26T12:16:38.149452Z",
     "iopub.status.busy": "2022-07-26T12:16:38.149452Z",
     "iopub.status.idle": "2022-07-26T12:16:38.175314Z",
     "shell.execute_reply": "2022-07-26T12:16:38.174575Z",
     "shell.execute_reply.started": "2022-07-26T12:16:38.149452Z"
    },
    "tags": []
   },
   "outputs": [],
   "source": [
    "struct = addsolver(m, name='struct')\n",
    "mt = Var('m_t', unit='kg')\n",
    "eta_S = Par(r'\\eta_S', 0.2)\n",
    "m_s = adda(struct, 'm_s', eta_S*mt, unit='kg')"
   ]
  },
  {
   "cell_type": "code",
   "execution_count": 15,
   "id": "bcb17d1a-9dbf-4281-a65f-0d976ee914ee",
   "metadata": {
    "execution": {
     "iopub.execute_input": "2022-07-26T12:16:40.421265Z",
     "iopub.status.busy": "2022-07-26T12:16:40.421265Z",
     "iopub.status.idle": "2022-07-26T12:16:40.467177Z",
     "shell.execute_reply": "2022-07-26T12:16:40.466905Z",
     "shell.execute_reply.started": "2022-07-26T12:16:40.421265Z"
    },
    "tags": []
   },
   "outputs": [
    {
     "data": {
      "text/latex": [
       "$m_t=1.498\\ \\mathrm{kg}\\ (m_s=0.2 )$"
      ],
      "text/plain": [
       "m_t"
      ]
     },
     "execution_count": 15,
     "metadata": {},
     "output_type": "execute_result"
    }
   ],
   "source": [
    "mass = addsolver(m, name='mass')\n",
    "m_pr = Var('m_{pr}', 0.5, unit='kg')\n",
    "adda(mass, mt, m_T+m_p+m_b+m_A+m_s+m_pr)"
   ]
  },
  {
   "cell_type": "code",
   "execution_count": 16,
   "id": "268607d8-ba96-43ac-a703-c03a04df4c2c",
   "metadata": {
    "execution": {
     "iopub.execute_input": "2022-07-26T12:16:40.788421Z",
     "iopub.status.busy": "2022-07-26T12:16:40.787448Z",
     "iopub.status.idle": "2022-07-26T12:16:40.793812Z",
     "shell.execute_reply": "2022-07-26T12:16:40.793812Z",
     "shell.execute_reply.started": "2022-07-26T12:16:40.788421Z"
    },
    "tags": []
   },
   "outputs": [],
   "source": [
    "# struct = addsolver(m, geteqs(m, [m_s]), [], name='struct')\n",
    "# mass = addsolver(m, geteqs(m, [mt]), [], name='mass')"
   ]
  },
  {
   "cell_type": "markdown",
   "id": "b5363441-ceca-4883-a9a1-ffd6ef5448b7",
   "metadata": {
    "tags": []
   },
   "source": [
    "## Propulsion"
   ]
  },
  {
   "cell_type": "code",
   "execution_count": 17,
   "id": "ab5f6150-c141-4d6f-9237-9ba7bc21336a",
   "metadata": {
    "execution": {
     "iopub.execute_input": "2022-07-26T12:16:41.376519Z",
     "iopub.status.busy": "2022-07-26T12:16:41.375611Z",
     "iopub.status.idle": "2022-07-26T12:16:41.384298Z",
     "shell.execute_reply": "2022-07-26T12:16:41.383708Z",
     "shell.execute_reply.started": "2022-07-26T12:16:41.376519Z"
    },
    "tags": []
   },
   "outputs": [],
   "source": [
    "prop = addsolver(m, name='prop')"
   ]
  },
  {
   "cell_type": "code",
   "execution_count": 18,
   "id": "36319b2c-b387-4bd7-8833-c8bb838a42a8",
   "metadata": {
    "execution": {
     "iopub.execute_input": "2022-07-26T12:16:41.852879Z",
     "iopub.status.busy": "2022-07-26T12:16:41.852879Z",
     "iopub.status.idle": "2022-07-26T12:16:41.868933Z",
     "shell.execute_reply": "2022-07-26T12:16:41.868933Z",
     "shell.execute_reply.started": "2022-07-26T12:16:41.852879Z"
    },
    "tags": []
   },
   "outputs": [],
   "source": [
    "H = implemented_function(sp.Function('H'), H_int)\n",
    "rho = implemented_function(sp.Function('rho'),  ρ_int)"
   ]
  },
  {
   "cell_type": "code",
   "execution_count": 19,
   "id": "235ea58f-2d31-41af-954f-bc24b1fb1f21",
   "metadata": {
    "execution": {
     "iopub.execute_input": "2022-07-26T12:16:44.113037Z",
     "iopub.status.busy": "2022-07-26T12:16:44.113037Z",
     "iopub.status.idle": "2022-07-26T12:16:44.480194Z",
     "shell.execute_reply": "2022-07-26T12:16:44.479821Z",
     "shell.execute_reply.started": "2022-07-26T12:16:44.113037Z"
    },
    "tags": []
   },
   "outputs": [],
   "source": [
    "L_min = Par('L_{min}', 10, 'yr')\n",
    "m_pr = Var('m_{pr}', 0.5, unit='kg')\n",
    "Hval = adda(prop, 'H_{val}', H(h*1e3), unit='m', forceunit=True)\n",
    "rhoval= adda(prop, r'\\rho_{val}', rho(h*1e3), unit='kg/m**3', forceunit=True)\n",
    "Ln = adda(prop, 'L_n', Hval*mt/(2*np.pi*C_D*A*rhoval*a**2)*T, unit='yr')\n",
    "Lp = adda(prop, 'L_p', m_pr*I_sp*G*a/(0.5*C_D*A*rhoval*μ), unit='yr')\n",
    "Lt = adda(prop, 'L_t', Ln+Lp, unit='yr')"
   ]
  },
  {
   "cell_type": "markdown",
   "id": "f049e59b-8b0a-42cc-8436-28d7c8fa7add",
   "metadata": {
    "tags": []
   },
   "source": [
    "# Optimization"
   ]
  },
  {
   "cell_type": "code",
   "execution_count": 20,
   "id": "5a30c56c-295d-4822-b622-45130a21e3eb",
   "metadata": {
    "execution": {
     "iopub.execute_input": "2022-07-26T12:18:34.823001Z",
     "iopub.status.busy": "2022-07-26T12:18:34.821949Z",
     "iopub.status.idle": "2022-07-26T12:18:34.844927Z",
     "shell.execute_reply": "2022-07-26T12:18:34.843927Z",
     "shell.execute_reply.started": "2022-07-26T12:18:34.823001Z"
    },
    "tags": []
   },
   "outputs": [],
   "source": [
    "ENreq = Par('EN_r', 14.125)\n",
    "addineq(m, -Lt+L_min)\n",
    "addineq(m, -EN+ENreq)\n",
    "addobj(m, mt)\n",
    "setsolvefor(m, [A,m_pr], {A:[0,10], m_pr:[0,10]})"
   ]
  },
  {
   "cell_type": "markdown",
   "id": "4085a9d3-1b17-4351-895c-014c075983b5",
   "metadata": {
    "execution": {
     "iopub.execute_input": "2022-06-15T14:51:14.747642Z",
     "iopub.status.busy": "2022-06-15T14:51:14.747642Z",
     "iopub.status.idle": "2022-06-15T14:51:14.758669Z",
     "shell.execute_reply": "2022-06-15T14:51:14.758669Z",
     "shell.execute_reply.started": "2022-06-15T14:51:14.747642Z"
    }
   },
   "source": [
    "# Run"
   ]
  },
  {
   "cell_type": "code",
   "execution_count": 21,
   "id": "5b55702f-6efe-4d30-96fa-56caee479c4e",
   "metadata": {
    "execution": {
     "iopub.execute_input": "2022-07-26T12:19:36.377144Z",
     "iopub.status.busy": "2022-07-26T12:19:36.376166Z",
     "iopub.status.idle": "2022-07-26T12:19:36.394383Z",
     "shell.execute_reply": "2022-07-26T12:19:36.393382Z",
     "shell.execute_reply.started": "2022-07-26T12:19:36.377144Z"
    },
    "tags": []
   },
   "outputs": [],
   "source": [
    "edges, tree = model.generate_formulation()\n",
    "edges_nopar = edges_no_param(model, edges) # filter out variables that are parameters\n",
    "outset_initial = {comp: var[0] for comp,var in edges[1].items()}"
   ]
  },
  {
   "cell_type": "code",
   "execution_count": 29,
   "id": "fafe375d-ff8e-4a6c-8961-3377370cf384",
   "metadata": {
    "execution": {
     "iopub.execute_input": "2022-07-26T12:21:51.893080Z",
     "iopub.status.busy": "2022-07-26T12:21:51.892067Z",
     "iopub.status.idle": "2022-07-26T12:21:51.910280Z",
     "shell.execute_reply": "2022-07-26T12:21:51.910280Z",
     "shell.execute_reply.started": "2022-07-26T12:21:51.893080Z"
    }
   },
   "outputs": [],
   "source": [
    "plt.rcParams['text.usetex'] = True"
   ]
  },
  {
   "cell_type": "code",
   "execution_count": 30,
   "id": "c57b6471-e85a-4679-a6fe-9fceaeafead7",
   "metadata": {
    "execution": {
     "iopub.execute_input": "2022-07-26T12:21:52.592292Z",
     "iopub.status.busy": "2022-07-26T12:21:52.591329Z",
     "iopub.status.idle": "2022-07-26T12:22:41.734368Z",
     "shell.execute_reply": "2022-07-26T12:22:41.733781Z",
     "shell.execute_reply.started": "2022-07-26T12:21:52.592292Z"
    },
    "tags": []
   },
   "outputs": [
    {
     "data": {
      "image/png": "[encoded data removed]",
      "text/plain": [
       "<Figure size 648x648 with 1 Axes>"
      ]
     },
     "metadata": {
      "needs_background": "light"
     },
     "output_type": "display_data"
    }
   ],
   "source": [
    "render_incidence(edges_nopar, tree, figname=\"satellite_baseline.png\", save=True, rawvarname=True, figsize=(9,9));"
   ]
  },
  {
   "cell_type": "code",
   "execution_count": 25,
   "id": "90a13ed4-c799-4bb5-8da3-ace70e65dbdc",
   "metadata": {
    "execution": {
     "iopub.execute_input": "2022-07-25T02:10:05.335774Z",
     "iopub.status.busy": "2022-07-25T02:10:05.335774Z",
     "iopub.status.idle": "2022-07-25T02:10:05.340108Z",
     "shell.execute_reply": "2022-07-25T02:10:05.339809Z",
     "shell.execute_reply.started": "2022-07-25T02:10:05.335774Z"
    },
    "tags": []
   },
   "outputs": [],
   "source": [
    "incidence,_,_ = invert_edges(edges[0], edges[1], None)"
   ]
  },
  {
   "cell_type": "code",
   "execution_count": 24,
   "id": "55e7a117-6253-497b-8834-56e84d339270",
   "metadata": {
    "execution": {
     "iopub.execute_input": "2022-07-25T02:10:07.863131Z",
     "iopub.status.busy": "2022-07-25T02:10:07.863131Z",
     "iopub.status.idle": "2022-07-25T02:10:07.878359Z",
     "shell.execute_reply": "2022-07-25T02:10:07.878302Z",
     "shell.execute_reply.started": "2022-07-25T02:10:07.863131Z"
    }
   },
   "outputs": [
    {
     "data": {
      "text/plain": [
       "4.038461538461538"
      ]
     },
     "execution_count": 24,
     "metadata": {},
     "output_type": "execute_result"
    }
   ],
   "source": [
    "np.mean([len(val) for val in incidence.values()])"
   ]
  },
  {
   "cell_type": "code",
   "execution_count": 26,
   "id": "8aa0a9c9-52b0-47f1-a21b-35a04bf6f025",
   "metadata": {
    "execution": {
     "iopub.execute_input": "2022-07-15T13:27:04.117631Z",
     "iopub.status.busy": "2022-07-15T13:27:04.116633Z",
     "iopub.status.idle": "2022-07-15T13:27:04.130161Z",
     "shell.execute_reply": "2022-07-15T13:27:04.129646Z",
     "shell.execute_reply.started": "2022-07-15T13:27:04.117631Z"
    },
    "tags": []
   },
   "outputs": [],
   "source": [
    "tree_nomod = ({key:'root' for key,val in tree[0].items()}, {},{}) # tree with no modules"
   ]
  },
  {
   "cell_type": "code",
   "execution_count": 27,
   "id": "1daa6a89-cbec-41f7-bdde-39b99450fbe3",
   "metadata": {
    "execution": {
     "iopub.execute_input": "2022-07-15T13:27:04.598879Z",
     "iopub.status.busy": "2022-07-15T13:27:04.598879Z",
     "iopub.status.idle": "2022-07-15T13:27:04.612510Z",
     "shell.execute_reply": "2022-07-15T13:27:04.612283Z",
     "shell.execute_reply.started": "2022-07-15T13:27:04.598879Z"
    },
    "tags": []
   },
   "outputs": [],
   "source": [
    "#DG = flat_graph_formulation(*edges)\n",
    "#merge_order = sort_scc(DG)\n",
    "#nedges, ntree = reorder_merge_solve(edges, tree, merge_order, 1, True)\n",
    "# to use this we also need to create residual components!"
   ]
  },
  {
   "cell_type": "code",
   "execution_count": 28,
   "id": "ae8c2c38-ec5a-4fb3-86b7-e8fa6a778005",
   "metadata": {
    "execution": {
     "iopub.execute_input": "2022-07-15T13:31:49.604234Z",
     "iopub.status.busy": "2022-07-15T13:31:49.604234Z",
     "iopub.status.idle": "2022-07-15T13:31:49.625293Z",
     "shell.execute_reply": "2022-07-15T13:31:49.624294Z",
     "shell.execute_reply.started": "2022-07-15T13:31:49.604234Z"
    },
    "tags": []
   },
   "outputs": [
    {
     "ename": "AssertionError",
     "evalue": "",
     "output_type": "error",
     "traceback": [
      "\u001b[0;31m---------------------------------------------------------------------------\u001b[0m",
      "\u001b[0;31mAssertionError\u001b[0m                            Traceback (most recent call last)",
      "\u001b[1;32m/home/johan/github/designresolver/minimdo/satellite/sat_thesis.ipynb Cell 38\u001b[0m in \u001b[0;36m<cell line: 2>\u001b[0;34m()\u001b[0m\n\u001b[1;32m      <a href='vscode-notebook-cell://wsl%2Bubuntu/home/johan/github/designresolver/minimdo/satellite/sat_thesis.ipynb#ch0000037vscode-remote?line=0'>1</a>\u001b[0m outset_initial \u001b[39m=\u001b[39m {comp: var[\u001b[39m0\u001b[39m] \u001b[39mfor\u001b[39;00m comp,var \u001b[39min\u001b[39;00m edges[\u001b[39m1\u001b[39m]\u001b[39m.\u001b[39mitems()}\n\u001b[0;32m----> <a href='vscode-notebook-cell://wsl%2Bubuntu/home/johan/github/designresolver/minimdo/satellite/sat_thesis.ipynb#ch0000037vscode-remote?line=1'>2</a>\u001b[0m edges_feedback, tree_feedback \u001b[39m=\u001b[39m reformulate(edges, tree, outset_initial, root_solver_name\u001b[39m=\u001b[39;49m\u001b[39m1\u001b[39;49m, mdf\u001b[39m=\u001b[39;49m\u001b[39mTrue\u001b[39;49;00m)\n\u001b[1;32m      <a href='vscode-notebook-cell://wsl%2Bubuntu/home/johan/github/designresolver/minimdo/satellite/sat_thesis.ipynb#ch0000037vscode-remote?line=2'>3</a>\u001b[0m edges_feedback_noparam \u001b[39m=\u001b[39m edges_no_param(model, edges_feedback)\n",
      "File \u001b[0;32m~/github/designresolver/minimdo/datastructures/operators.py:139\u001b[0m, in \u001b[0;36mreformulate\u001b[0;34m(edges, tree, outset_initial, new_outset, not_outputs, root_solver_name, mdf, based_on_original2, solveforvars)\u001b[0m\n\u001b[1;32m    137\u001b[0m order \u001b[39m=\u001b[39m sort_scc(G)\n\u001b[1;32m    138\u001b[0m order_based_on_original \u001b[39m=\u001b[39m keep_original_order(tree[\u001b[39m0\u001b[39m], order, \u001b[39mnot\u001b[39;00m based_on_original2)\n\u001b[0;32m--> 139\u001b[0m edges_tear_ordered, tree_tear_ordered \u001b[39m=\u001b[39m reorder_merge_solve(edges_new, tree_new, order_based_on_original, root_solver_name, mdf\u001b[39m=\u001b[39;49mmdf)\n\u001b[1;32m    140\u001b[0m \u001b[39mreturn\u001b[39;00m edges_tear_ordered, tree_tear_ordered\n",
      "File \u001b[0;32m~/github/designresolver/minimdo/datastructures/operators.py:107\u001b[0m, in \u001b[0;36mreorder_merge_solve\u001b[0;34m(edges, tree, merge_order, solver_idx, mdf)\u001b[0m\n\u001b[1;32m    105\u001b[0m     Stree \u001b[39m=\u001b[39m tree[\u001b[39m1\u001b[39m]\n\u001b[1;32m    106\u001b[0m     new_idx \u001b[39m=\u001b[39m \u001b[39mmax\u001b[39m(chain(Stree\u001b[39m.\u001b[39mkeys(),(\u001b[39m1\u001b[39m,)))\u001b[39m+\u001b[39m\u001b[39m1\u001b[39m\n\u001b[0;32m--> 107\u001b[0m     edges, tree \u001b[39m=\u001b[39m merge_and_standardize(edges, tree, connected_components, solver_idx, new_idx, mdf)\n\u001b[1;32m    108\u001b[0m Ftree \u001b[39m=\u001b[39m tree[\u001b[39m0\u001b[39m]\n\u001b[1;32m    109\u001b[0m \u001b[39mfor\u001b[39;00m node \u001b[39min\u001b[39;00m connected_components:\n",
      "File \u001b[0;32m~/github/designresolver/minimdo/datastructures/operators.py:80\u001b[0m, in \u001b[0;36mmerge_and_standardize\u001b[0;34m(edges, tree, mergecomps, parentidx, newidx, mdf)\u001b[0m\n\u001b[1;32m     78\u001b[0m \u001b[39mfor\u001b[39;00m node \u001b[39min\u001b[39;00m mergecomps:\n\u001b[1;32m     79\u001b[0m     \u001b[39mif\u001b[39;00m node\u001b[39m.\u001b[39mnodetype \u001b[39m==\u001b[39m COMP:\n\u001b[0;32m---> 80\u001b[0m         \u001b[39massert\u001b[39;00m Ftree[node\u001b[39m.\u001b[39mname] \u001b[39m==\u001b[39m parentidx \u001b[39m# can only merge nodes at the same level\u001b[39;00m\n\u001b[1;32m     81\u001b[0m         Ftree[node\u001b[39m.\u001b[39mname] \u001b[39m=\u001b[39m newidx\n\u001b[1;32m     82\u001b[0m         edges, Vtree \u001b[39m=\u001b[39m standardize_comp(edges, Vtree, Ftree, \n\u001b[1;32m     83\u001b[0m                                         node\u001b[39m.\u001b[39mname, vrs\u001b[39m=\u001b[39m\u001b[39mNone\u001b[39;00m)\n",
      "\u001b[0;31mAssertionError\u001b[0m: "
     ]
    }
   ],
   "source": [
    "outset_initial = {comp: var[0] for comp,var in edges[1].items()}\n",
    "edges_feedback, tree_feedback = reformulate(edges, tree, outset_initial, root_solver_name=1, mdf=True)\n",
    "edges_feedback_noparam = edges_no_param(model, edges_feedback)"
   ]
  },
  {
   "cell_type": "code",
   "execution_count": 26,
   "id": "5deabc2b-4836-4b6a-8297-56b948ef9a83",
   "metadata": {
    "execution": {
     "iopub.execute_input": "2022-07-15T13:31:56.733088Z",
     "iopub.status.busy": "2022-07-15T13:31:56.732068Z",
     "iopub.status.idle": "2022-07-15T13:31:57.612824Z",
     "shell.execute_reply": "2022-07-15T13:31:57.612824Z",
     "shell.execute_reply.started": "2022-07-15T13:31:56.733088Z"
    },
    "tags": []
   },
   "outputs": [
    {
     "data": {
      "image/png": "[encoded data removed]",
      "text/plain": [
       "<Figure size 648x648 with 1 Axes>"
      ]
     },
     "metadata": {
      "needs_background": "light"
     },
     "output_type": "display_data"
    }
   ],
   "source": [
    "nodetyperepr_hsm = {VAR: '{}', COMP: 'f_{{{}}}', SOLVER: '{}'}\n",
    "namingfunc_hsm = namefromid(nodetyperepr_hsm)\n",
    "render_incidence(edges_feedback_noparam, tree_feedback, namingfunc_hsm, figsize=(9,9));"
   ]
  },
  {
   "cell_type": "code",
   "execution_count": 27,
   "id": "f3f2beac-cf18-47f0-91ba-8cef7bfb461a",
   "metadata": {
    "execution": {
     "iopub.execute_input": "2022-07-15T13:32:00.454645Z",
     "iopub.status.busy": "2022-07-15T13:32:00.453665Z",
     "iopub.status.idle": "2022-07-15T13:32:00.462862Z",
     "shell.execute_reply": "2022-07-15T13:32:00.462354Z",
     "shell.execute_reply.started": "2022-07-15T13:32:00.454645Z"
    },
    "tags": []
   },
   "outputs": [],
   "source": [
    "#components = [Component.fromsympy(right, tovar=left, component=key) for key,(left,right) in eqs.items()]\n",
    "#components += [Component.fromsympy(left-right, component=key, tovar=left if not left.forceunit else None, ignoretovar=True) for key,(left,right) in eqs.items()]"
   ]
  },
  {
   "cell_type": "code",
   "execution_count": 28,
   "id": "c684af64-0fda-49eb-9292-433e66b29e66",
   "metadata": {
    "execution": {
     "iopub.execute_input": "2022-07-15T13:34:40.068000Z",
     "iopub.status.busy": "2022-07-15T13:34:40.067071Z",
     "iopub.status.idle": "2022-07-15T13:34:40.072990Z",
     "shell.execute_reply": "2022-07-15T13:34:40.072290Z",
     "shell.execute_reply.started": "2022-07-15T13:34:40.068000Z"
    },
    "tags": []
   },
   "outputs": [],
   "source": [
    "# for now we are not using the generated ordering\n",
    "ordered_tree = tree_feedback \n",
    "ordered_edges = edges_feedback\n",
    "comp_options = model.comp_options\n",
    "comp_options = comp_options\n",
    "var_options = model.var_options| {'m_s': [0,10], 'm_t':[0,10]}\n",
    "solvers_options = model.solvers_options\n",
    "#solvers_options[1] = {'solver': 'GS', 'maxiter':20} #without derivatives\n",
    "solvers_options[1] = {'type': OPT, 'optimizer': 'IPOPT', 'driver': om.pyOptSparseDriver}#{'type': OPT, 'disp':True, 'optimizer': 'SLSQP'}\n",
    "sequence = order_from_tree(ordered_tree[0], ordered_tree[1], ordered_edges[1])\n",
    "solvers_options = default_solver_options(ordered_tree, solvers_options)\n",
    "wf = mdao_workflow(sequence, solvers_options, comp_options, var_options)"
   ]
  },
  {
   "cell_type": "code",
   "execution_count": 29,
   "id": "8bed2136-0280-4fae-890c-e180919fc4db",
   "metadata": {
    "execution": {
     "iopub.execute_input": "2022-07-15T13:34:40.862708Z",
     "iopub.status.busy": "2022-07-15T13:34:40.861706Z",
     "iopub.status.idle": "2022-07-15T13:34:40.887331Z",
     "shell.execute_reply": "2022-07-15T13:34:40.886393Z",
     "shell.execute_reply.started": "2022-07-15T13:34:40.862708Z"
    }
   },
   "outputs": [],
   "source": [
    "components=model.components\n",
    "newcomps = transform_components(edges, edges_feedback, components, model.idmapping)"
   ]
  },
  {
   "cell_type": "code",
   "execution_count": 30,
   "id": "d13b50ba-4e48-4f8f-9394-e66f84d1e85d",
   "metadata": {
    "execution": {
     "iopub.execute_input": "2022-07-15T13:35:00.170717Z",
     "iopub.status.busy": "2022-07-15T13:35:00.170717Z",
     "iopub.status.idle": "2022-07-15T13:35:00.186716Z",
     "shell.execute_reply": "2022-07-15T13:35:00.185714Z",
     "shell.execute_reply.started": "2022-07-15T13:35:00.170717Z"
    },
    "tags": []
   },
   "outputs": [],
   "source": [
    "components = model.components+newcomps\n",
    "namingfunc = namefromsympy(model.nametyperepr)\n",
    "lookup_f = get_f(components, ordered_edges)\n",
    "wfmdao = mdao_workflow_with_args(wf, lookup_f, namingfunc)"
   ]
  },
  {
   "cell_type": "code",
   "execution_count": 31,
   "id": "2f4ea384-350a-4b76-a95a-2649dabb7f46",
   "metadata": {
    "execution": {
     "iopub.execute_input": "2022-07-15T13:35:01.335812Z",
     "iopub.status.busy": "2022-07-15T13:35:01.335660Z",
     "iopub.status.idle": "2022-07-15T13:35:01.363550Z",
     "shell.execute_reply": "2022-07-15T13:35:01.362561Z",
     "shell.execute_reply.started": "2022-07-15T13:35:01.335812Z"
    },
    "tags": []
   },
   "outputs": [],
   "source": [
    "prob, mdao_in0, groups = build_archi(ordered_edges, ordered_tree, wfmdao, namingfunc, model.idmapping)"
   ]
  },
  {
   "cell_type": "code",
   "execution_count": 32,
   "id": "d3f6997e-0266-460a-a6cd-894016ff77ee",
   "metadata": {
    "execution": {
     "iopub.execute_input": "2022-07-15T13:35:02.393481Z",
     "iopub.status.busy": "2022-07-15T13:35:02.393481Z",
     "iopub.status.idle": "2022-07-15T13:35:02.400282Z",
     "shell.execute_reply": "2022-07-15T13:35:02.399659Z",
     "shell.execute_reply.started": "2022-07-15T13:35:02.393481Z"
    },
    "tags": []
   },
   "outputs": [],
   "source": [
    "#prob.set_solver_print(level=0)\n",
    "#prob.set_solver_print(level=1, depth=1)\n",
    "#prob.setup();"
   ]
  },
  {
   "cell_type": "code",
   "execution_count": 33,
   "id": "19161278-ef80-4bd9-938b-18640379df9f",
   "metadata": {
    "execution": {
     "iopub.execute_input": "2022-07-15T13:35:02.648409Z",
     "iopub.status.busy": "2022-07-15T13:35:02.647410Z",
     "iopub.status.idle": "2022-07-15T13:35:02.651409Z",
     "shell.execute_reply": "2022-07-15T13:35:02.650987Z",
     "shell.execute_reply.started": "2022-07-15T13:35:02.648409Z"
    },
    "tags": []
   },
   "outputs": [],
   "source": [
    "#prob.final_setup()"
   ]
  },
  {
   "cell_type": "code",
   "execution_count": 34,
   "id": "f1caa779-6cde-4fed-bb5d-7ade7f4934cc",
   "metadata": {
    "execution": {
     "iopub.execute_input": "2022-07-15T13:35:02.824415Z",
     "iopub.status.busy": "2022-07-15T13:35:02.824026Z",
     "iopub.status.idle": "2022-07-15T13:35:02.837960Z",
     "shell.execute_reply": "2022-07-15T13:35:02.837387Z",
     "shell.execute_reply.started": "2022-07-15T13:35:02.824415Z"
    },
    "tags": []
   },
   "outputs": [],
   "source": [
    "# prob.set_val('X_r', 0.5)\n",
    "# prob.set_val('m_pr', 6)\n",
    "# prob.set_val('A', 0.078)"
   ]
  },
  {
   "cell_type": "code",
   "execution_count": 35,
   "id": "025046fd-27f4-4695-986e-e94c2b4feae6",
   "metadata": {
    "execution": {
     "iopub.execute_input": "2022-07-15T13:35:03.000999Z",
     "iopub.status.busy": "2022-07-15T13:35:03.000999Z",
     "iopub.status.idle": "2022-07-15T13:35:03.009885Z",
     "shell.execute_reply": "2022-07-15T13:35:03.009777Z",
     "shell.execute_reply.started": "2022-07-15T13:35:03.000999Z"
    },
    "tags": []
   },
   "outputs": [],
   "source": [
    "#prob.set_val('m_s',prob.get_val('m_s'))\n",
    "#prob.set_val('m_s',0.1)\n",
    "#prob.set_val('m_t',0.1)"
   ]
  },
  {
   "cell_type": "code",
   "execution_count": 36,
   "id": "39e1af44-f4b6-4d58-a834-f8ba64d70afe",
   "metadata": {
    "execution": {
     "iopub.execute_input": "2022-07-15T13:35:04.593318Z",
     "iopub.status.busy": "2022-07-15T13:35:04.593318Z",
     "iopub.status.idle": "2022-07-15T13:35:07.991390Z",
     "shell.execute_reply": "2022-07-15T13:35:07.990571Z",
     "shell.execute_reply.started": "2022-07-15T13:35:04.593318Z"
    },
    "tags": []
   },
   "outputs": [
    {
     "name": "stderr",
     "output_type": "stream",
     "text": [
      "/home/johan/miniconda3/envs/pyoptsparse/lib/python3.9/site-packages/pyoptsparse/pyOpt_optimization.py:234: UserWarning: The argument `type=` is deprecated. Use `varType` in the future.\n",
      "  warnings.warn(\"The argument `type=` is deprecated. Use `varType` in the future.\")\n"
     ]
    },
    {
     "name": "stdout",
     "output_type": "stream",
     "text": [
      "\n",
      "==\n",
      "s2\n",
      "==\n",
      "NL: Newton Converged in 1 iterations\n",
      "\n",
      "==\n",
      "s2\n",
      "==\n",
      "NL: Newton Converged in 1 iterations\n",
      "\n",
      "==\n",
      "s2\n",
      "==\n",
      "NL: Newton Converged in 1 iterations\n",
      "\n",
      "==\n",
      "s2\n",
      "==\n",
      "NL: Newton Converged in 1 iterations\n",
      "\n",
      "==\n",
      "s2\n",
      "==\n",
      "NL: Newton Converged in 1 iterations\n",
      "\n",
      "==\n",
      "s2\n",
      "==\n",
      "NL: Newton Converged in 1 iterations\n",
      "\n",
      "==\n",
      "s2\n",
      "==\n",
      "NL: Newton Converged in 1 iterations\n",
      "\n",
      "==\n",
      "s2\n",
      "==\n",
      "NL: Newton Converged in 1 iterations\n",
      "\n",
      "\n",
      "Optimization Problem -- Optimization using pyOpt_sparse\n",
      "================================================================================\n",
      "    Objective Function: _objfunc\n",
      "\n",
      "    Solution: \n",
      "--------------------------------------------------------------------------------\n",
      "    Total Time:                    7.0560\n",
      "       User Objective Time :       1.0273\n",
      "       User Sensitivity Time :     6.0121\n",
      "       Interface Time :            0.0040\n",
      "       Opt Solver Time:            0.0125\n",
      "    Calls to Objective Function :       8\n",
      "    Calls to Sens Function :            8\n",
      "\n",
      "\n",
      "   Objectives\n",
      "      Index  Name                 Value\n",
      "          0  f28.obj28     5.807543E+00\n",
      "\n",
      "   Variables (c - continuous, i - integer, d - discrete)\n",
      "      Index  Name         Type      Lower Bound            Value      Upper Bound     Status\n",
      "          0  inp.A_0         c     0.000000E+00     5.087484E-02     1.000000E+01           \n",
      "          1  inp.m_pr_0      c     0.000000E+00     3.835307E+00     1.000000E+01           \n",
      "\n",
      "   Constraints (i - inequality, e - equality)\n",
      "      Index  Name      Type          Lower           Value           Upper    Status  Lagrange Multiplier (N/A)\n",
      "          0  f27.neq27    i  -1.000000E+30    9.603013E-09    0.000000E+00         u    9.00000E+100\n",
      "          1  f26.neq26    i  -1.000000E+30    9.979276E-09    0.000000E+00         u    9.00000E+100\n",
      "\n",
      "--------------------------------------------------------------------------------\n",
      "\n",
      "\n",
      "==\n",
      "s2\n",
      "==\n",
      "NL: Newton Converged in 0 iterations\n"
     ]
    },
    {
     "data": {
      "text/plain": [
       "False"
      ]
     },
     "execution_count": 36,
     "metadata": {},
     "output_type": "execute_result"
    }
   ],
   "source": [
    "prob.run_driver()"
   ]
  },
  {
   "cell_type": "code",
   "execution_count": 86,
   "id": "24380c5b-7daa-4f15-9d35-ef1c589a8a11",
   "metadata": {
    "execution": {
     "iopub.execute_input": "2022-07-15T13:30:48.539039Z",
     "iopub.status.busy": "2022-07-15T13:30:48.538812Z",
     "iopub.status.idle": "2022-07-15T13:30:48.554783Z",
     "shell.execute_reply": "2022-07-15T13:30:48.554783Z",
     "shell.execute_reply.started": "2022-07-15T13:30:48.539039Z"
    },
    "tags": []
   },
   "outputs": [
    {
     "data": {
      "text/plain": [
       "16"
      ]
     },
     "execution_count": 86,
     "metadata": {},
     "output_type": "execute_result"
    }
   ],
   "source": [
    "groups['s2'].iter_count"
   ]
  },
  {
   "cell_type": "code",
   "execution_count": 32,
   "id": "0020e7f5-4770-4fd0-830d-99648528b928",
   "metadata": {
    "execution": {
     "iopub.execute_input": "2022-07-06T19:50:03.301435Z",
     "iopub.status.busy": "2022-07-06T19:50:03.301435Z",
     "iopub.status.idle": "2022-07-06T19:50:03.315626Z",
     "shell.execute_reply": "2022-07-06T19:50:03.315626Z",
     "shell.execute_reply.started": "2022-07-06T19:50:03.301435Z"
    },
    "tags": []
   },
   "outputs": [],
   "source": [
    "update_varval(model, prob, namingfunc, mdao_in0)"
   ]
  },
  {
   "cell_type": "code",
   "execution_count": 33,
   "id": "474b2a0c-3251-47f6-807e-9b2494d28efe",
   "metadata": {
    "execution": {
     "iopub.execute_input": "2022-07-06T19:50:03.317792Z",
     "iopub.status.busy": "2022-07-06T19:50:03.317048Z",
     "iopub.status.idle": "2022-07-06T19:50:03.332022Z",
     "shell.execute_reply": "2022-07-06T19:50:03.331113Z",
     "shell.execute_reply.started": "2022-07-06T19:50:03.317792Z"
    },
    "tags": []
   },
   "outputs": [],
   "source": [
    "update_varval(model, prob, namingfunc)"
   ]
  },
  {
   "cell_type": "code",
   "execution_count": 34,
   "id": "8943e748-1835-4783-8e14-5fb2ac9f295e",
   "metadata": {
    "execution": {
     "iopub.execute_input": "2022-07-06T19:50:03.333889Z",
     "iopub.status.busy": "2022-07-06T19:50:03.333889Z",
     "iopub.status.idle": "2022-07-06T19:50:03.347644Z",
     "shell.execute_reply": "2022-07-06T19:50:03.347139Z",
     "shell.execute_reply.started": "2022-07-06T19:50:03.333889Z"
    },
    "tags": []
   },
   "outputs": [],
   "source": [
    "#prob.run_model()"
   ]
  },
  {
   "cell_type": "markdown",
   "id": "b65eda87-55c0-43de-acd7-94b15b98f269",
   "metadata": {},
   "source": [
    "# Results"
   ]
  },
  {
   "cell_type": "code",
   "execution_count": 35,
   "id": "ed0e36f9-e5f2-4e46-9048-fec28181c0c3",
   "metadata": {
    "execution": {
     "iopub.execute_input": "2022-07-06T19:50:03.348829Z",
     "iopub.status.busy": "2022-07-06T19:50:03.347644Z",
     "iopub.status.idle": "2022-07-06T19:50:03.426199Z",
     "shell.execute_reply": "2022-07-06T19:50:03.425677Z",
     "shell.execute_reply.started": "2022-07-06T19:50:03.348829Z"
    },
    "tags": []
   },
   "outputs": [
    {
     "data": {
      "text/html": [
       "<style type=\"text/css\">\n",
       "</style>\n",
       "<table id=\"T_0d163\">\n",
       "  <thead>\n",
       "  </thead>\n",
       "  <tbody>\n",
       "    <tr>\n",
       "      <td id=\"T_0d163_row0_col0\" class=\"data row0 col0\" >$$h$$</td>\n",
       "      <td id=\"T_0d163_row0_col1\" class=\"data row0 col1\" >400</td>\n",
       "      <td id=\"T_0d163_row0_col2\" class=\"data row0 col2\" >km</td>\n",
       "    </tr>\n",
       "    <tr>\n",
       "      <td id=\"T_0d163_row1_col0\" class=\"data row1 col0\" >$$X_r$$</td>\n",
       "      <td id=\"T_0d163_row1_col1\" class=\"data row1 col1\" >5</td>\n",
       "      <td id=\"T_0d163_row1_col2\" class=\"data row1 col2\" >m</td>\n",
       "    </tr>\n",
       "    <tr>\n",
       "      <td id=\"T_0d163_row2_col0\" class=\"data row2 col0\" >$$A$$</td>\n",
       "      <td id=\"T_0d163_row2_col1\" class=\"data row2 col1\" >0.051</td>\n",
       "      <td id=\"T_0d163_row2_col2\" class=\"data row2 col2\" >m²</td>\n",
       "    </tr>\n",
       "    <tr>\n",
       "      <td id=\"T_0d163_row3_col0\" class=\"data row3 col0\" >$$m_{pr}$$</td>\n",
       "      <td id=\"T_0d163_row3_col1\" class=\"data row3 col1\" >3.836</td>\n",
       "      <td id=\"T_0d163_row3_col2\" class=\"data row3 col2\" >kg</td>\n",
       "    </tr>\n",
       "  </tbody>\n",
       "</table>\n"
      ],
      "text/plain": [
       "<pandas.io.formats.style.Styler at 0x1eef73c0f70>"
      ]
     },
     "execution_count": 35,
     "metadata": {},
     "output_type": "execute_result"
    }
   ],
   "source": [
    "print_inputs(model, prob, namingfunc, mdao_in0)"
   ]
  },
  {
   "cell_type": "code",
   "execution_count": 36,
   "id": "0ffc794a-bcc8-48e7-8b55-fe4c74fb5c17",
   "metadata": {
    "execution": {
     "iopub.execute_input": "2022-07-06T19:50:03.427205Z",
     "iopub.status.busy": "2022-07-06T19:50:03.427205Z",
     "iopub.status.idle": "2022-07-06T19:50:03.441883Z",
     "shell.execute_reply": "2022-07-06T19:50:03.441883Z",
     "shell.execute_reply.started": "2022-07-06T19:50:03.427205Z"
    },
    "tags": []
   },
   "outputs": [
    {
     "data": {
      "text/html": [
       "<style type=\"text/css\">\n",
       "</style>\n",
       "<table id=\"T_6b2e0\">\n",
       "  <thead>\n",
       "  </thead>\n",
       "  <tbody>\n",
       "    <tr>\n",
       "      <td id=\"T_6b2e0_row0_col0\" class=\"data row0 col0\" >$$a$$</td>\n",
       "      <td id=\"T_6b2e0_row0_col1\" class=\"data row0 col1\" >6778</td>\n",
       "      <td id=\"T_6b2e0_row0_col2\" class=\"data row0 col2\" >km</td>\n",
       "    </tr>\n",
       "    <tr>\n",
       "      <td id=\"T_6b2e0_row1_col0\" class=\"data row1 col0\" >$$T$$</td>\n",
       "      <td id=\"T_6b2e0_row1_col1\" class=\"data row1 col1\" >92.558</td>\n",
       "      <td id=\"T_6b2e0_row1_col2\" class=\"data row1 col2\" >min</td>\n",
       "    </tr>\n",
       "    <tr>\n",
       "      <td id=\"T_6b2e0_row2_col0\" class=\"data row2 col0\" >$$g$$</td>\n",
       "      <td id=\"T_6b2e0_row2_col1\" class=\"data row2 col1\" >0.11</td>\n",
       "      <td id=\"T_6b2e0_row2_col2\" class=\"data row2 col2\" ></td>\n",
       "    </tr>\n",
       "    <tr>\n",
       "      <td id=\"T_6b2e0_row3_col0\" class=\"data row3 col0\" >$$d$$</td>\n",
       "      <td id=\"T_6b2e0_row3_col1\" class=\"data row3 col1\" >0.61</td>\n",
       "      <td id=\"T_6b2e0_row3_col2\" class=\"data row3 col2\" ></td>\n",
       "    </tr>\n",
       "    <tr>\n",
       "      <td id=\"T_6b2e0_row4_col0\" class=\"data row4 col0\" >$$r$$</td>\n",
       "      <td id=\"T_6b2e0_row4_col1\" class=\"data row4 col1\" >2293.992</td>\n",
       "      <td id=\"T_6b2e0_row4_col2\" class=\"data row4 col2\" >km</td>\n",
       "    </tr>\n",
       "    <tr>\n",
       "      <td id=\"T_6b2e0_row5_col0\" class=\"data row5 col0\" >$$m_A$$</td>\n",
       "      <td id=\"T_6b2e0_row5_col1\" class=\"data row5 col1\" >0.509</td>\n",
       "      <td id=\"T_6b2e0_row5_col2\" class=\"data row5 col2\" >kg</td>\n",
       "    </tr>\n",
       "    <tr>\n",
       "      <td id=\"T_6b2e0_row6_col0\" class=\"data row6 col0\" >$$P_c$$</td>\n",
       "      <td id=\"T_6b2e0_row6_col1\" class=\"data row6 col1\" >12.725</td>\n",
       "      <td id=\"T_6b2e0_row6_col2\" class=\"data row6 col2\" >W</td>\n",
       "    </tr>\n",
       "    <tr>\n",
       "      <td id=\"T_6b2e0_row7_col0\" class=\"data row7 col0\" >$$P_T$$</td>\n",
       "      <td id=\"T_6b2e0_row7_col1\" class=\"data row7 col1\" >0.725</td>\n",
       "      <td id=\"T_6b2e0_row7_col2\" class=\"data row7 col2\" >W</td>\n",
       "    </tr>\n",
       "    <tr>\n",
       "      <td id=\"T_6b2e0_row8_col0\" class=\"data row8 col0\" >$$E_b$$</td>\n",
       "      <td id=\"T_6b2e0_row8_col1\" class=\"data row8 col1\" >115.866</td>\n",
       "      <td id=\"T_6b2e0_row8_col2\" class=\"data row8 col2\" >kJ</td>\n",
       "    </tr>\n",
       "    <tr>\n",
       "      <td id=\"T_6b2e0_row9_col0\" class=\"data row9 col0\" >$$m_b$$</td>\n",
       "      <td id=\"T_6b2e0_row9_col1\" class=\"data row9 col1\" >0.232</td>\n",
       "      <td id=\"T_6b2e0_row9_col2\" class=\"data row9 col2\" >kg</td>\n",
       "    </tr>\n",
       "    <tr>\n",
       "      <td id=\"T_6b2e0_row10_col0\" class=\"data row10 col0\" >$$D_p$$</td>\n",
       "      <td id=\"T_6b2e0_row10_col1\" class=\"data row10 col1\" >0.049</td>\n",
       "      <td id=\"T_6b2e0_row10_col2\" class=\"data row10 col2\" >m</td>\n",
       "    </tr>\n",
       "    <tr>\n",
       "      <td id=\"T_6b2e0_row11_col0\" class=\"data row11 col0\" >$$D$$</td>\n",
       "      <td id=\"T_6b2e0_row11_col1\" class=\"data row11 col1\" >16.03</td>\n",
       "      <td id=\"T_6b2e0_row11_col2\" class=\"data row11 col2\" >GB</td>\n",
       "    </tr>\n",
       "    <tr>\n",
       "      <td id=\"T_6b2e0_row12_col0\" class=\"data row12 col0\" >$$m_p$$</td>\n",
       "      <td id=\"T_6b2e0_row12_col1\" class=\"data row12 col1\" >0.022</td>\n",
       "      <td id=\"T_6b2e0_row12_col2\" class=\"data row12 col2\" >kg</td>\n",
       "    </tr>\n",
       "    <tr>\n",
       "      <td id=\"T_6b2e0_row13_col0\" class=\"data row13 col0\" >$$b$$</td>\n",
       "      <td id=\"T_6b2e0_row13_col1\" class=\"data row13 col1\" >2.886</td>\n",
       "      <td id=\"T_6b2e0_row13_col2\" class=\"data row13 col2\" >MB/s</td>\n",
       "    </tr>\n",
       "    <tr>\n",
       "      <td id=\"T_6b2e0_row14_col0\" class=\"data row14 col0\" >$$\\lambda_c$$</td>\n",
       "      <td id=\"T_6b2e0_row14_col1\" class=\"data row14 col1\" >13.591</td>\n",
       "      <td id=\"T_6b2e0_row14_col2\" class=\"data row14 col2\" >cm</td>\n",
       "    </tr>\n",
       "    <tr>\n",
       "      <td id=\"T_6b2e0_row15_col0\" class=\"data row15 col0\" >$$D_T$$</td>\n",
       "      <td id=\"T_6b2e0_row15_col1\" class=\"data row15 col1\" >0.39</td>\n",
       "      <td id=\"T_6b2e0_row15_col2\" class=\"data row15 col2\" >m</td>\n",
       "    </tr>\n",
       "    <tr>\n",
       "      <td id=\"T_6b2e0_row16_col0\" class=\"data row16 col0\" >$$m_T$$</td>\n",
       "      <td id=\"T_6b2e0_row16_col1\" class=\"data row16 col1\" >0.049</td>\n",
       "      <td id=\"T_6b2e0_row16_col2\" class=\"data row16 col2\" >kg</td>\n",
       "    </tr>\n",
       "    <tr>\n",
       "      <td id=\"T_6b2e0_row17_col0\" class=\"data row17 col0\" >$$G_r$$</td>\n",
       "      <td id=\"T_6b2e0_row17_col1\" class=\"data row17 col1\" >8255.002</td>\n",
       "      <td id=\"T_6b2e0_row17_col2\" class=\"data row17 col2\" ></td>\n",
       "    </tr>\n",
       "    <tr>\n",
       "      <td id=\"T_6b2e0_row18_col0\" class=\"data row18 col0\" >$$EN$$</td>\n",
       "      <td id=\"T_6b2e0_row18_col1\" class=\"data row18 col1\" >14.125</td>\n",
       "      <td id=\"T_6b2e0_row18_col2\" class=\"data row18 col2\" ></td>\n",
       "    </tr>\n",
       "    <tr>\n",
       "      <td id=\"T_6b2e0_row19_col0\" class=\"data row19 col0\" >$$m_s$$</td>\n",
       "      <td id=\"T_6b2e0_row19_col1\" class=\"data row19 col1\" >1.157</td>\n",
       "      <td id=\"T_6b2e0_row19_col2\" class=\"data row19 col2\" >kg</td>\n",
       "    </tr>\n",
       "    <tr>\n",
       "      <td id=\"T_6b2e0_row20_col0\" class=\"data row20 col0\" >$$m_t$$</td>\n",
       "      <td id=\"T_6b2e0_row20_col1\" class=\"data row20 col1\" >5.803</td>\n",
       "      <td id=\"T_6b2e0_row20_col2\" class=\"data row20 col2\" >kg</td>\n",
       "    </tr>\n",
       "    <tr>\n",
       "      <td id=\"T_6b2e0_row21_col0\" class=\"data row21 col0\" >$$H_{val}$$</td>\n",
       "      <td id=\"T_6b2e0_row21_col1\" class=\"data row21 col1\" >5.820×10⁴</td>\n",
       "      <td id=\"T_6b2e0_row21_col2\" class=\"data row21 col2\" >m</td>\n",
       "    </tr>\n",
       "    <tr>\n",
       "      <td id=\"T_6b2e0_row22_col0\" class=\"data row22 col0\" >$$\\rho_{val}$$</td>\n",
       "      <td id=\"T_6b2e0_row22_col1\" class=\"data row22 col1\" >2.720×10⁻¹²</td>\n",
       "      <td id=\"T_6b2e0_row22_col2\" class=\"data row22 col2\" >kg/m³</td>\n",
       "    </tr>\n",
       "    <tr>\n",
       "      <td id=\"T_6b2e0_row23_col0\" class=\"data row23 col0\" >$$L_n$$</td>\n",
       "      <td id=\"T_6b2e0_row23_col1\" class=\"data row23 col1\" >0.676</td>\n",
       "      <td id=\"T_6b2e0_row23_col2\" class=\"data row23 col2\" >yr</td>\n",
       "    </tr>\n",
       "    <tr>\n",
       "      <td id=\"T_6b2e0_row24_col0\" class=\"data row24 col0\" >$$L_p$$</td>\n",
       "      <td id=\"T_6b2e0_row24_col1\" class=\"data row24 col1\" >9.324</td>\n",
       "      <td id=\"T_6b2e0_row24_col2\" class=\"data row24 col2\" >yr</td>\n",
       "    </tr>\n",
       "    <tr>\n",
       "      <td id=\"T_6b2e0_row25_col0\" class=\"data row25 col0\" >$$L_t$$</td>\n",
       "      <td id=\"T_6b2e0_row25_col1\" class=\"data row25 col1\" >10</td>\n",
       "      <td id=\"T_6b2e0_row25_col2\" class=\"data row25 col2\" >yr</td>\n",
       "    </tr>\n",
       "  </tbody>\n",
       "</table>\n"
      ],
      "text/plain": [
       "<pandas.io.formats.style.Styler at 0x1eefae76970>"
      ]
     },
     "execution_count": 36,
     "metadata": {},
     "output_type": "execute_result"
    }
   ],
   "source": [
    "print_outputs(model, prob, namingfunc, rounding=3)"
   ]
  },
  {
   "cell_type": "markdown",
   "id": "ef02d4b8-d2eb-4e84-9491-f1b0e39aae18",
   "metadata": {},
   "source": [
    "## Visualize structure"
   ]
  },
  {
   "cell_type": "code",
   "execution_count": 38,
   "id": "9fdad441-9f64-4d04-9a7a-b5b309ac92d6",
   "metadata": {
    "execution": {
     "iopub.execute_input": "2022-07-06T19:50:03.458577Z",
     "iopub.status.busy": "2022-07-06T19:50:03.458577Z",
     "iopub.status.idle": "2022-07-06T19:50:03.473069Z",
     "shell.execute_reply": "2022-07-06T19:50:03.472651Z",
     "shell.execute_reply.started": "2022-07-06T19:50:03.458577Z"
    },
    "tags": []
   },
   "outputs": [],
   "source": [
    "from datastructures.graphutils import SOLVER, namefromid, copy_dicts\n",
    "nodetyperepr_hsm = {VAR: '{}', COMP: 'f_{{{}}}', SOLVER: '{}'}\n",
    "namingfunc_hsm = namefromid(nodetyperepr_hsm)"
   ]
  },
  {
   "cell_type": "code",
   "execution_count": 39,
   "id": "c5f2865b-8f54-4fcd-92e9-2c025d986660",
   "metadata": {
    "execution": {
     "iopub.execute_input": "2022-07-06T19:50:03.475100Z",
     "iopub.status.busy": "2022-07-06T19:50:03.475100Z",
     "iopub.status.idle": "2022-07-06T19:50:03.488125Z",
     "shell.execute_reply": "2022-07-06T19:50:03.488125Z",
     "shell.execute_reply.started": "2022-07-06T19:50:03.475100Z"
    },
    "tags": []
   },
   "outputs": [],
   "source": [
    "tree2 = copy_dicts(tree)\n",
    "#tree2[1].update({6: 9, 7: 9, 9:1})"
   ]
  },
  {
   "cell_type": "code",
   "execution_count": 40,
   "id": "d8758f97-81be-4065-a13f-ea5dba142dea",
   "metadata": {
    "execution": {
     "iopub.execute_input": "2022-07-06T19:50:03.490493Z",
     "iopub.status.busy": "2022-07-06T19:50:03.490493Z",
     "iopub.status.idle": "2022-07-06T19:50:05.265230Z",
     "shell.execute_reply": "2022-07-06T19:50:05.264323Z",
     "shell.execute_reply.started": "2022-07-06T19:50:03.490493Z"
    },
    "tags": []
   },
   "outputs": [
    {
     "data": {
      "image/png": "[encoded data removed]",
      "text/plain": [
       "<Figure size 648x648 with 1 Axes>"
      ]
     },
     "metadata": {
      "needs_background": "light"
     },
     "output_type": "display_data"
    }
   ],
   "source": [
    "_, ax = render_incidence(edges_nopar, tree2, namingfunc_hsm, figsize=(9,9))"
   ]
  },
  {
   "cell_type": "code",
   "execution_count": 36,
   "id": "293e595d-e349-41bf-a987-751ef95805fc",
   "metadata": {
    "execution": {
     "iopub.execute_input": "2022-07-06T02:40:25.215138Z",
     "iopub.status.busy": "2022-07-06T02:40:25.214062Z",
     "iopub.status.idle": "2022-07-06T02:40:25.227595Z",
     "shell.execute_reply": "2022-07-06T02:40:25.226962Z",
     "shell.execute_reply.started": "2022-07-06T02:40:25.214062Z"
    },
    "tags": []
   },
   "outputs": [],
   "source": [
    "#plt.sca(ax)\n",
    "#plt.savefig('satellite_default_hsm.png', dpi=200, bbox_inches='tight')"
   ]
  },
  {
   "cell_type": "markdown",
   "id": "bc3cffd1-f948-45ec-9b60-e1ac57512d99",
   "metadata": {
    "tags": []
   },
   "source": [
    "### Tree & Graph"
   ]
  },
  {
   "cell_type": "code",
   "execution_count": 92,
   "id": "f3624b2d-6f7a-458e-bcfa-b7cd77bf5b26",
   "metadata": {
    "execution": {
     "iopub.execute_input": "2022-07-01T23:17:46.189867Z",
     "iopub.status.busy": "2022-07-01T23:17:46.189867Z",
     "iopub.status.idle": "2022-07-01T23:17:46.207789Z",
     "shell.execute_reply": "2022-07-01T23:17:46.207287Z",
     "shell.execute_reply.started": "2022-07-01T23:17:46.189867Z"
    },
    "tags": []
   },
   "outputs": [],
   "source": [
    "from datastructures.nestedgraph import build_typedgraph\n",
    "from datastructures.graphutils import draw_graph_graphical_props, all_solvers"
   ]
  },
  {
   "cell_type": "code",
   "execution_count": 90,
   "id": "e621bda9-b9ce-4902-92e1-59c2755214a6",
   "metadata": {
    "execution": {
     "iopub.execute_input": "2022-07-01T23:17:10.180524Z",
     "iopub.status.busy": "2022-07-01T23:17:10.179435Z",
     "iopub.status.idle": "2022-07-01T23:17:10.187337Z",
     "shell.execute_reply": "2022-07-01T23:17:10.186522Z",
     "shell.execute_reply.started": "2022-07-01T23:17:10.180524Z"
    }
   },
   "outputs": [],
   "source": [
    "from collections import defaultdict"
   ]
  },
  {
   "cell_type": "code",
   "execution_count": 108,
   "id": "7323caaa-d33e-43a0-9368-ffa0a1825d23",
   "metadata": {
    "execution": {
     "iopub.execute_input": "2022-07-01T23:22:06.480605Z",
     "iopub.status.busy": "2022-07-01T23:22:06.480605Z",
     "iopub.status.idle": "2022-07-01T23:22:06.492607Z",
     "shell.execute_reply": "2022-07-01T23:22:06.491695Z",
     "shell.execute_reply.started": "2022-07-01T23:22:06.480605Z"
    },
    "tags": []
   },
   "outputs": [],
   "source": [
    "graphs = build_typedgraph(edges, tree, nodetyperepr2)"
   ]
  },
  {
   "cell_type": "code",
   "execution_count": 156,
   "id": "fa8bbb98-1dc3-400b-b92f-da59c89a76ce",
   "metadata": {
    "execution": {
     "iopub.execute_input": "2022-07-01T23:35:41.663476Z",
     "iopub.status.busy": "2022-07-01T23:35:41.663476Z",
     "iopub.status.idle": "2022-07-01T23:35:41.682144Z",
     "shell.execute_reply": "2022-07-01T23:35:41.681225Z",
     "shell.execute_reply.started": "2022-07-01T23:35:41.663476Z"
    },
    "tags": []
   },
   "outputs": [],
   "source": [
    "Ein = defaultdict(list)\n",
    "Eout = defaultdict(list)\n",
    "Eout2 = dict()\n",
    "solvers = all_solvers(tree2)\n",
    "for key,var in graphs[1].edges():\n",
    "    if key.name in solvers:\n",
    "        Eout[key.name].append(var.name)\n",
    "    else:\n",
    "        Ein[var.name].append(key.name)\n",
    "Eout2 = dict({idx:(idx,) for idx in range(2,9)})\n",
    "for comp,varnames in Ein.items():\n",
    "    Ein2[comp] = tuple(set(outcomp for var in varnames for outcomp,outvar in Eout.items() if var in outvar))\n",
    "nodetyperepr3 = {VAR: 'x_{{{}}}', COMP: 'f_{{{}}}', SOLVER: '{}'}\n",
    "namingfunc3 = namefromid(nodetyperepr3)"
   ]
  },
  {
   "cell_type": "code",
   "execution_count": 161,
   "id": "f642cb53-db80-446a-b635-a6d63981b62e",
   "metadata": {
    "execution": {
     "iopub.execute_input": "2022-07-01T23:37:06.614655Z",
     "iopub.status.busy": "2022-07-01T23:37:06.614655Z",
     "iopub.status.idle": "2022-07-01T23:37:06.628657Z",
     "shell.execute_reply": "2022-07-01T23:37:06.628657Z",
     "shell.execute_reply.started": "2022-07-01T23:37:06.614655Z"
    }
   },
   "outputs": [],
   "source": [
    "tree3 = OrderedDict([(elt,1) for elt in range(2,9)])\n",
    "tree3[6] = 9\n",
    "tree3[7] = 9"
   ]
  },
  {
   "cell_type": "code",
   "execution_count": 163,
   "id": "2d6a0066-64db-48a9-8a26-f92b7f8413ea",
   "metadata": {
    "execution": {
     "iopub.execute_input": "2022-07-01T23:37:17.071996Z",
     "iopub.status.busy": "2022-07-01T23:37:17.071996Z",
     "iopub.status.idle": "2022-07-01T23:37:17.224939Z",
     "shell.execute_reply": "2022-07-01T23:37:17.224435Z",
     "shell.execute_reply.started": "2022-07-01T23:37:17.071996Z"
    },
    "tags": []
   },
   "outputs": [
    {
     "data": {
      "image/png": "[encoded data removed]",
      "text/plain": [
       "<Figure size 432x288 with 1 Axes>"
      ]
     },
     "metadata": {
      "needs_background": "light"
     },
     "output_type": "display_data"
    }
   ],
   "source": [
    "_, ax = render_incidence((Ein2, Eout2, dict()), (tree3,{9:1},dict()), namingfunc3)"
   ]
  },
  {
   "cell_type": "code",
   "execution_count": 104,
   "id": "dd35d8b9-5ba5-4cad-ab5c-a6300d9e2166",
   "metadata": {
    "execution": {
     "iopub.execute_input": "2022-07-01T23:19:45.927695Z",
     "iopub.status.busy": "2022-07-01T23:19:45.927695Z",
     "iopub.status.idle": "2022-07-01T23:19:45.931693Z",
     "shell.execute_reply": "2022-07-01T23:19:45.931693Z",
     "shell.execute_reply.started": "2022-07-01T23:19:45.927695Z"
    },
    "tags": []
   },
   "outputs": [
    {
     "data": {
      "text/plain": [
       "defaultdict(list,\n",
       "            {9: [m_A, m_b, m_T, m_p],\n",
       "             8: [m_t, a, A, h, \\mu, T],\n",
       "             3: [A, T, d],\n",
       "             4: [h, R],\n",
       "             2: [h, \\mu, R],\n",
       "             5: [T, r, D, P_T]})"
      ]
     },
     "execution_count": 104,
     "metadata": {},
     "output_type": "execute_result"
    }
   ],
   "source": [
    "Ein"
   ]
  },
  {
   "cell_type": "code",
   "execution_count": 89,
   "id": "db7542cc-f8da-484d-9b44-2b05c3719a69",
   "metadata": {
    "execution": {
     "iopub.execute_input": "2022-07-01T23:15:00.080664Z",
     "iopub.status.busy": "2022-07-01T23:15:00.079997Z",
     "iopub.status.idle": "2022-07-01T23:15:00.094541Z",
     "shell.execute_reply": "2022-07-01T23:15:00.093632Z",
     "shell.execute_reply.started": "2022-07-01T23:15:00.080664Z"
    },
    "tags": []
   },
   "outputs": [
    {
     "data": {
      "text/plain": [
       "OutEdgeView([(m_A, 9), (9, m_t), (m_b, 9), (m_T, 9), (m_p, 9), (m_t, 8), (a, 8), (A, 8), (A, 3), (h, 8), (h, 4), (h, 2), (\\mu, 8), (\\mu, 2), (T, 8), (T, 5), (T, 3), (r, 5), (5, m_T), (D, 5), (P_T, 5), (R, 4), (R, 2), (4, D), (4, m_p), (3, m_A), (3, m_b), (3, P_T), (d, 3), (2, r), (2, T), (2, a), (2, d)])"
      ]
     },
     "execution_count": 89,
     "metadata": {},
     "output_type": "execute_result"
    }
   ],
   "source": [
    "graphs[1].edges()"
   ]
  },
  {
   "cell_type": "code",
   "execution_count": 168,
   "id": "875b520c-7612-47dd-9091-fc296b0324ed",
   "metadata": {
    "execution": {
     "iopub.execute_input": "2022-07-01T23:38:34.269367Z",
     "iopub.status.busy": "2022-07-01T23:38:34.269367Z",
     "iopub.status.idle": "2022-07-01T23:38:34.883837Z",
     "shell.execute_reply": "2022-07-01T23:38:34.882835Z",
     "shell.execute_reply.started": "2022-07-01T23:38:34.269367Z"
    },
    "tags": []
   },
   "outputs": [
    {
     "data": {
      "image/png": "[encoded data removed]",
      "text/plain": [
       "<Figure size 720x720 with 1 Axes>"
      ]
     },
     "metadata": {},
     "output_type": "display_data"
    }
   ],
   "source": [
    "draw_graph_graphical_props(graphs[1], {}, prog='dot', figsize=(10,10))"
   ]
  },
  {
   "cell_type": "code",
   "execution_count": 19,
   "id": "6d5c113e-b5e4-43cc-be51-579a11d0bd27",
   "metadata": {
    "execution": {
     "iopub.execute_input": "2022-01-31T21:03:17.810666Z",
     "iopub.status.busy": "2022-01-31T21:03:17.810666Z",
     "iopub.status.idle": "2022-01-31T21:03:21.919668Z",
     "shell.execute_reply": "2022-01-31T21:03:21.917665Z",
     "shell.execute_reply.started": "2022-01-31T21:03:17.810666Z"
    },
    "tags": []
   },
   "outputs": [
    {
     "data": {
      "image/png": "[encoded data removed]",
      "text/plain": [
       "<Figure size 720x720 with 1 Axes>"
      ]
     },
     "metadata": {},
     "output_type": "display_data"
    }
   ],
   "source": [
    "drawfull(graphs[m], model.eqs, figsize=(10,10))"
   ]
  },
  {
   "cell_type": "markdown",
   "id": "2ce5d0b1-7cb7-4d9c-b853-4be9136544f6",
   "metadata": {},
   "source": [
    "# Min tear assign"
   ]
  },
  {
   "cell_type": "code",
   "execution_count": 23,
   "id": "daf3718e-c5a8-4cff-9bea-20b004b1b820",
   "metadata": {
    "execution": {
     "iopub.execute_input": "2022-07-15T13:52:24.743358Z",
     "iopub.status.busy": "2022-07-15T13:52:24.742350Z",
     "iopub.status.idle": "2022-07-15T13:52:24.751345Z",
     "shell.execute_reply": "2022-07-15T13:52:24.751345Z",
     "shell.execute_reply.started": "2022-07-15T13:52:24.743358Z"
    },
    "tags": []
   },
   "outputs": [],
   "source": [
    "not_input = ['H_{val}', r'\\rho_{val}', 'm_p']#['m_p']#'d', r'\\rho_{val}', 'L_p', 'H_{val}']\n",
    "not_output = ['L_t','X_r','EN','h', 'm_s']#['h']#[r'm_{rz}', 'm_{r0}']"
   ]
  },
  {
   "cell_type": "code",
   "execution_count": 24,
   "id": "cf430122-f973-4cb3-bd59-6c6c3d0adfd7",
   "metadata": {
    "execution": {
     "iopub.execute_input": "2022-07-15T13:52:40.205218Z",
     "iopub.status.busy": "2022-07-15T13:52:40.204300Z",
     "iopub.status.idle": "2022-07-15T13:52:40.223625Z",
     "shell.execute_reply": "2022-07-15T13:52:40.223625Z",
     "shell.execute_reply.started": "2022-07-15T13:52:40.205218Z"
    },
    "tags": []
   },
   "outputs": [],
   "source": [
    "edges_for_solving = copy_dicts(edges_nopar)\n",
    "eqns = list(edges_for_solving[1].keys())\n",
    "allvrs = all_variables(*edges_for_solving)\n",
    "graph_edges_minassign = all_edges(*edges_for_solving)\n",
    "edges_left_right = list(dir_graph(graph_edges_minassign, eqns, {}))"
   ]
  },
  {
   "cell_type": "code",
   "execution_count": 25,
   "id": "9f1250c8-5c32-4fe7-b1a2-e2a3bbd6bf65",
   "metadata": {
    "execution": {
     "iopub.execute_input": "2022-07-15T13:52:40.727937Z",
     "iopub.status.busy": "2022-07-15T13:52:40.726912Z",
     "iopub.status.idle": "2022-07-15T13:52:40.740829Z",
     "shell.execute_reply": "2022-07-15T13:52:40.739873Z",
     "shell.execute_reply.started": "2022-07-15T13:52:40.727937Z"
    },
    "tags": []
   },
   "outputs": [],
   "source": [
    "min_assign_edges = edges_left_right "
   ]
  },
  {
   "cell_type": "code",
   "execution_count": 26,
   "id": "6e52e4c1-155c-4b8c-87ad-bedac64e0491",
   "metadata": {
    "execution": {
     "iopub.execute_input": "2022-07-15T13:55:37.440283Z",
     "iopub.status.busy": "2022-07-15T13:55:37.439253Z",
     "iopub.status.idle": "2022-07-15T13:55:37.453416Z",
     "shell.execute_reply": "2022-07-15T13:55:37.453314Z",
     "shell.execute_reply.started": "2022-07-15T13:55:37.440283Z"
    },
    "tags": []
   },
   "outputs": [
    {
     "name": "stdout",
     "output_type": "stream",
     "text": [
      "Restricted license - for non-production use only - expires 2023-10-25\n"
     ]
    }
   ],
   "source": [
    "xsol,m = min_arc_set_assign(min_assign_edges, allvrs, eqns, not_input, not_output)\n",
    "#xsol, m = min_max_scc2(min_assign_edges, allvrs, eqns)"
   ]
  },
  {
   "cell_type": "code",
   "execution_count": 27,
   "id": "d6cc37f5-2346-4066-adf1-2239d7c19280",
   "metadata": {
    "execution": {
     "iopub.execute_input": "2022-07-15T13:55:42.060628Z",
     "iopub.status.busy": "2022-07-15T13:55:42.059630Z",
     "iopub.status.idle": "2022-07-15T13:55:42.072623Z",
     "shell.execute_reply": "2022-07-15T13:55:42.072623Z",
     "shell.execute_reply.started": "2022-07-15T13:55:42.060628Z"
    },
    "tags": []
   },
   "outputs": [],
   "source": [
    "selected = dict((right, left) for left, right in edges_left_right if (left,right) in min_assign_edges and xsol[left, right] > 0.5)"
   ]
  },
  {
   "cell_type": "code",
   "execution_count": 28,
   "id": "ef069d9d-7c6f-41a8-bd30-3ec0d241cbe6",
   "metadata": {
    "execution": {
     "iopub.execute_input": "2022-07-15T13:55:59.201099Z",
     "iopub.status.busy": "2022-07-15T13:55:59.201099Z",
     "iopub.status.idle": "2022-07-15T13:55:59.219469Z",
     "shell.execute_reply": "2022-07-15T13:55:59.219469Z",
     "shell.execute_reply.started": "2022-07-15T13:55:59.201099Z"
    },
    "tags": []
   },
   "outputs": [],
   "source": [
    "edges_minassign, tree_minassign = reformulate(edges, tree, outset_initial, selected, root_solver_name=1, mdf=True)\n",
    "edges_minassign_noparam = edges_no_param(model, edges_minassign)"
   ]
  },
  {
   "cell_type": "code",
   "execution_count": 29,
   "id": "04377a81",
   "metadata": {},
   "outputs": [],
   "source": [
    "tree_minassign = (tree_minassign[0],tree_minassign[1],{'m_s':1})"
   ]
  },
  {
   "cell_type": "code",
   "execution_count": 30,
   "id": "0d00827a-05d7-4d8f-9f43-a4a4f80cc63b",
   "metadata": {
    "execution": {
     "iopub.execute_input": "2022-07-15T13:56:02.540796Z",
     "iopub.status.busy": "2022-07-15T13:56:02.540796Z",
     "iopub.status.idle": "2022-07-15T13:56:02.544216Z",
     "shell.execute_reply": "2022-07-15T13:56:02.543797Z",
     "shell.execute_reply.started": "2022-07-15T13:56:02.540796Z"
    },
    "tags": []
   },
   "outputs": [],
   "source": [
    "#tree_minassign = tree_minassign[0], tree_minassign[1], {'m_s': 1}"
   ]
  },
  {
   "cell_type": "code",
   "execution_count": 31,
   "id": "c43d9df0-d3cf-44bb-ac05-c25d5da3c71a",
   "metadata": {
    "execution": {
     "iopub.execute_input": "2022-07-15T13:56:03.394173Z",
     "iopub.status.busy": "2022-07-15T13:56:03.393174Z",
     "iopub.status.idle": "2022-07-15T13:56:03.397168Z",
     "shell.execute_reply": "2022-07-15T13:56:03.397168Z",
     "shell.execute_reply.started": "2022-07-15T13:56:03.394173Z"
    },
    "tags": []
   },
   "outputs": [],
   "source": [
    "# # For topological sorting\n",
    "# D = nx.DiGraph(dir_graph(edges_left_right, eqns, selected.items()))\n",
    "# minassign_order = sort_scc(D, lambda x: x in eqns)"
   ]
  },
  {
   "cell_type": "markdown",
   "id": "a77e097c-6240-4840-9741-091aca1f721d",
   "metadata": {
    "tags": []
   },
   "source": [
    "### For designtree_mina only"
   ]
  },
  {
   "cell_type": "code",
   "execution_count": 30,
   "id": "67dca1dc-e39e-459c-8d2a-a24b200798f5",
   "metadata": {
    "execution": {
     "iopub.execute_input": "2022-07-06T19:50:09.566596Z",
     "iopub.status.busy": "2022-07-06T19:50:09.566596Z",
     "iopub.status.idle": "2022-07-06T19:50:09.575457Z",
     "shell.execute_reply": "2022-07-06T19:50:09.575268Z",
     "shell.execute_reply.started": "2022-07-06T19:50:09.566596Z"
    },
    "tags": []
   },
   "outputs": [],
   "source": [
    "var_tree = {'m_s': 'root'}\n",
    "solver_tree = {}"
   ]
  },
  {
   "cell_type": "code",
   "execution_count": 31,
   "id": "9fee3a10-e38a-4310-908c-5ba73e224299",
   "metadata": {
    "execution": {
     "iopub.execute_input": "2022-07-06T19:50:10.231857Z",
     "iopub.status.busy": "2022-07-06T19:50:10.231857Z",
     "iopub.status.idle": "2022-07-06T19:50:10.242871Z",
     "shell.execute_reply": "2022-07-06T19:50:10.241906Z",
     "shell.execute_reply.started": "2022-07-06T19:50:10.231857Z"
    },
    "tags": []
   },
   "outputs": [],
   "source": [
    "Ftree_mina = OrderedDict([(next(iter(comp)),'root') for comp in minassign_order])\n",
    "tree_mina = Ftree_mina, solver_tree, var_tree"
   ]
  },
  {
   "cell_type": "code",
   "execution_count": 32,
   "id": "a7e5713e-b30b-43f1-95c5-0ac99679ade0",
   "metadata": {
    "execution": {
     "iopub.execute_input": "2022-07-06T19:50:10.938857Z",
     "iopub.status.busy": "2022-07-06T19:50:10.938703Z",
     "iopub.status.idle": "2022-07-06T19:50:10.958112Z",
     "shell.execute_reply": "2022-07-06T19:50:10.957806Z",
     "shell.execute_reply.started": "2022-07-06T19:50:10.938857Z"
    },
    "tags": []
   },
   "outputs": [],
   "source": [
    "Ein, Eout, Rin = edges\n",
    "Eout_minassign = {}\n",
    "Ein_minassign = {}\n",
    "for comp in Eout.keys():\n",
    "    if comp in selected:\n",
    "        varname = selected[comp]\n",
    "    else:\n",
    "        varname = None\n",
    "    Eout_minassign[comp] = (varname,)\n",
    "    Ein_minassign[comp] = tuple(varn for varn in chain(Ein[comp],Eout[comp]) if varn!=varname)\n",
    "edges_minassign = (Ein_minassign, Eout_minassign, Rin)\n",
    "edges_minassign_nopar = edges_no_param(model, edges_minassign)"
   ]
  },
  {
   "cell_type": "code",
   "execution_count": 32,
   "id": "95781318-4781-4783-8a44-2c349c944533",
   "metadata": {
    "execution": {
     "iopub.execute_input": "2022-07-15T13:53:46.407724Z",
     "iopub.status.busy": "2022-07-15T13:53:46.407724Z",
     "iopub.status.idle": "2022-07-15T13:53:47.511843Z",
     "shell.execute_reply": "2022-07-15T13:53:47.511843Z",
     "shell.execute_reply.started": "2022-07-15T13:53:46.407724Z"
    },
    "tags": []
   },
   "outputs": [
    {
     "data": {
      "image/png": "[encoded data removed]",
      "text/plain": [
       "<Figure size 648x648 with 1 Axes>"
      ]
     },
     "metadata": {
      "needs_background": "light"
     },
     "output_type": "display_data"
    }
   ],
   "source": [
    "nodetyperepr_hsm = {VAR: '{}', COMP: 'f_{{{}}}', SOLVER: '{}'}\n",
    "namingfunc_hsm = namefromid(nodetyperepr_hsm)\n",
    "render_incidence(edges_minassign_noparam, tree_minassign, namingfunc_hsm, figsize=(9,9));"
   ]
  },
  {
   "cell_type": "code",
   "execution_count": 52,
   "id": "32c04c11-dc35-4592-81d0-257bafac31f2",
   "metadata": {
    "execution": {
     "iopub.execute_input": "2022-07-06T19:50:12.729380Z",
     "iopub.status.busy": "2022-07-06T19:50:12.729380Z",
     "iopub.status.idle": "2022-07-06T19:50:12.743685Z",
     "shell.execute_reply": "2022-07-06T19:50:12.743583Z",
     "shell.execute_reply.started": "2022-07-06T19:50:12.729380Z"
    },
    "tags": []
   },
   "outputs": [],
   "source": [
    "# plt.sca(ax)\n",
    "# #'satellite_minassign_hsm.png' <- for analysis\n",
    "# plt.savefig('satellite_design_minassign_hsm.png', dpi=200, bbox_inches='tight')"
   ]
  },
  {
   "cell_type": "code",
   "execution_count": 33,
   "id": "3c4df2ec-40d3-44f2-9e3e-5b40c925cd5a",
   "metadata": {
    "execution": {
     "iopub.execute_input": "2022-07-06T19:50:12.745706Z",
     "iopub.status.busy": "2022-07-06T19:50:12.744724Z",
     "iopub.status.idle": "2022-07-06T19:50:12.759318Z",
     "shell.execute_reply": "2022-07-06T19:50:12.758817Z",
     "shell.execute_reply.started": "2022-07-06T19:50:12.745706Z"
    },
    "tags": []
   },
   "outputs": [],
   "source": [
    "components = model.components"
   ]
  },
  {
   "cell_type": "code",
   "execution_count": 34,
   "id": "84a53748-a3fd-4d5b-9010-5ce68acd2d10",
   "metadata": {
    "execution": {
     "iopub.execute_input": "2022-07-06T19:50:13.622965Z",
     "iopub.status.busy": "2022-07-06T19:50:13.622965Z",
     "iopub.status.idle": "2022-07-06T19:50:14.003265Z",
     "shell.execute_reply": "2022-07-06T19:50:14.002749Z",
     "shell.execute_reply.started": "2022-07-06T19:50:13.622965Z"
    },
    "tags": []
   },
   "outputs": [],
   "source": [
    "newcomps = transform_components(edges, edges_minassign, components, model.idmapping)"
   ]
  },
  {
   "cell_type": "code",
   "execution_count": 35,
   "id": "b84a0c82-6ba6-4ea6-a72f-e894a1017adf",
   "metadata": {
    "execution": {
     "iopub.execute_input": "2022-07-06T19:50:15.024679Z",
     "iopub.status.busy": "2022-07-06T19:50:15.024679Z",
     "iopub.status.idle": "2022-07-06T19:50:15.047004Z",
     "shell.execute_reply": "2022-07-06T19:50:15.046834Z",
     "shell.execute_reply.started": "2022-07-06T19:50:15.024679Z"
    },
    "tags": []
   },
   "outputs": [
    {
     "data": {
      "text/plain": [
       "[(('A', 'm_A', '\\\\rho_A'), 5, (None,), '-\\\\rho_A*A + m_A'),\n",
       " (('d', '\\\\eta_A', 'P_c', 'Q'), 6, ('A',), 'P_c/(Q*\\\\eta_A*d)'),\n",
       " (('P_l', 'P_T'), 7, ('P_c',), 'P_l + P_T'),\n",
       " (('r', 'G_r', '\\\\lambda_c', 'L', 'G_T', 'k', 'b', 'T_s', 'EN'), 18, ('P_T',), '157.91367041743*L*T_s*k*EN*b*r**2/(G_T*G_r*\\\\lambda_c**2)'),\n",
       " (('\\\\eta_S', 'm_s'), 19, ('m_t',), 'm_s/\\\\eta_S'),\n",
       " (('m_{pr}', 'm_T', 'm_s', 'm_b', 'm_p', 'm_t'), 20, ('m_A',), '-m_T - m_b - m_p - m_s + m_t - m_{pr}'),\n",
       " (('C_D', 'A', 'L_p', 'Isp', 'G', '\\\\mu', 'a', '\\\\rho_{val}'), 24, ('m_{pr}',), '0.5*C_D*\\\\mu*A*L_p*\\\\rho_{val}/(G*Isp*a)'),\n",
       " (('L_t', 'L_n'), 25, ('L_p',), '-L_n + L_t')]"
      ]
     },
     "execution_count": 35,
     "metadata": {},
     "output_type": "execute_result"
    }
   ],
   "source": [
    "newcomps"
   ]
  },
  {
   "cell_type": "code",
   "execution_count": 63,
   "id": "1b0d7cd2-70b7-44d7-84d4-50dd0cf97222",
   "metadata": {
    "execution": {
     "iopub.execute_input": "2022-07-06T19:51:14.426559Z",
     "iopub.status.busy": "2022-07-06T19:51:14.426559Z",
     "iopub.status.idle": "2022-07-06T19:51:14.435981Z",
     "shell.execute_reply": "2022-07-06T19:51:14.435981Z",
     "shell.execute_reply.started": "2022-07-06T19:51:14.426559Z"
    },
    "tags": []
   },
   "outputs": [
    {
     "data": {
      "text/latex": [
       "$0.676\\ \\mathrm{yr}\\ (L_t=10 )$"
      ],
      "text/plain": [
       "dummy"
      ]
     },
     "execution_count": 63,
     "metadata": {},
     "output_type": "execute_result"
    }
   ],
   "source": [
    "evalexpr(lookup_f(25).fxdisp, 'year')"
   ]
  },
  {
   "cell_type": "code",
   "execution_count": 57,
   "id": "1d0c28ce-f530-4ea8-a6f2-682361fec087",
   "metadata": {
    "execution": {
     "iopub.execute_input": "2022-07-06T19:50:33.493909Z",
     "iopub.status.busy": "2022-07-06T19:50:33.493909Z",
     "iopub.status.idle": "2022-07-06T19:50:33.504362Z",
     "shell.execute_reply": "2022-07-06T19:50:33.503812Z",
     "shell.execute_reply.started": "2022-07-06T19:50:33.493909Z"
    },
    "tags": []
   },
   "outputs": [
    {
     "data": {
      "text/plain": [
       "[DeviceArray(2341.60491035, dtype=float64)]"
      ]
     },
     "execution_count": 57,
     "metadata": {},
     "output_type": "execute_result"
    }
   ],
   "source": [
    "lookup_f(1).evaldict({'a':1, r'\\mu':2})"
   ]
  },
  {
   "cell_type": "code",
   "execution_count": 45,
   "id": "5eea2fce-0931-432e-b5b1-c9fe4670e771",
   "metadata": {
    "execution": {
     "iopub.execute_input": "2022-07-06T19:50:46.983722Z",
     "iopub.status.busy": "2022-07-06T19:50:46.982730Z",
     "iopub.status.idle": "2022-07-06T19:50:46.994707Z",
     "shell.execute_reply": "2022-07-06T19:50:46.994461Z",
     "shell.execute_reply.started": "2022-07-06T19:50:46.983722Z"
    },
    "tags": []
   },
   "outputs": [],
   "source": [
    "ordered_tree = tree_minassign\n",
    "ordered_edges = edges_minassign\n",
    "comp_options = model.comp_options\n",
    "var_options = model.var_options\n",
    "solvers_options = model.solvers_options\n",
    "#solvers_options['root2'] = {'solver': 'GS', 'maxiter':20}\n",
    "#solvers_options['root'] = {'solver': 'GS', 'maxiter':20}\n",
    "solvers_options[1] = {'type': OPT, 'optimizer': 'IPOPT', 'driver': om.pyOptSparseDriver}#{'type': OPT, 'disp':True, 'optimizer': 'SLSQP'}\n",
    "sequence = order_from_tree(ordered_tree[0], ordered_tree[1], ordered_edges[1])\n",
    "solvers_options = default_solver_options(ordered_tree, solvers_options)\n",
    "wf = mdao_workflow(sequence, solvers_options, comp_options, var_options)"
   ]
  },
  {
   "cell_type": "code",
   "execution_count": 46,
   "id": "ce2cffde-1025-4c73-91e8-d81018474f91",
   "metadata": {
    "execution": {
     "iopub.execute_input": "2022-07-06T19:52:00.467182Z",
     "iopub.status.busy": "2022-07-06T19:52:00.467182Z",
     "iopub.status.idle": "2022-07-06T19:52:00.471962Z",
     "shell.execute_reply": "2022-07-06T19:52:00.470740Z",
     "shell.execute_reply.started": "2022-07-06T19:52:00.467182Z"
    },
    "tags": []
   },
   "outputs": [],
   "source": [
    "nodetyperepr = model.nametyperepr\n",
    "nodetyperepr[SOLVER] = '{}'\n",
    "namingfunc = namefromsympy(nodetyperepr)"
   ]
  },
  {
   "cell_type": "code",
   "execution_count": 47,
   "id": "aaaa44e3-5dc8-4f03-b4e4-6d8fd4265c65",
   "metadata": {
    "execution": {
     "iopub.execute_input": "2022-07-06T19:52:00.472991Z",
     "iopub.status.busy": "2022-07-06T19:52:00.472991Z",
     "iopub.status.idle": "2022-07-06T19:52:00.487563Z",
     "shell.execute_reply": "2022-07-06T19:52:00.486629Z",
     "shell.execute_reply.started": "2022-07-06T19:52:00.472991Z"
    },
    "tags": []
   },
   "outputs": [],
   "source": [
    "mina_components = components+newcomps\n",
    "lookup_f = get_f(mina_components, ordered_edges)\n",
    "wfmdao = mdao_workflow_with_args(wf, lookup_f, namingfunc)"
   ]
  },
  {
   "cell_type": "code",
   "execution_count": 48,
   "id": "71d30846-ea19-4621-b763-d8177b732d09",
   "metadata": {
    "execution": {
     "iopub.execute_input": "2022-07-06T19:52:00.582585Z",
     "iopub.status.busy": "2022-07-06T19:52:00.581576Z",
     "iopub.status.idle": "2022-07-06T19:52:00.611413Z",
     "shell.execute_reply": "2022-07-06T19:52:00.611413Z",
     "shell.execute_reply.started": "2022-07-06T19:52:00.582585Z"
    },
    "tags": []
   },
   "outputs": [],
   "source": [
    "prob, mdao_in, groups = build_archi(ordered_edges, ordered_tree, wfmdao, namingfunc, model.idmapping)#opt=False)"
   ]
  },
  {
   "cell_type": "markdown",
   "id": "61946a28-bcf6-4e43-9438-cee64117baf8",
   "metadata": {},
   "source": [
    "### Analysis"
   ]
  },
  {
   "cell_type": "code",
   "execution_count": 69,
   "id": "b4d9a1c8-ae5c-41c8-b7c4-e084686662e3",
   "metadata": {
    "execution": {
     "iopub.execute_input": "2022-07-06T19:52:01.497112Z",
     "iopub.status.busy": "2022-07-06T19:52:01.497112Z",
     "iopub.status.idle": "2022-07-06T19:52:01.515429Z",
     "shell.execute_reply": "2022-07-06T19:52:01.515040Z",
     "shell.execute_reply.started": "2022-07-06T19:52:01.497112Z"
    },
    "tags": []
   },
   "outputs": [],
   "source": [
    "# prob.set_val('L_t', 1.4)\n",
    "# prob.set_val('m_s', 300)\n",
    "# prob.set_val('m_b', 300)\n",
    "# prob.set_val('h', 400)"
   ]
  },
  {
   "cell_type": "markdown",
   "id": "79fa9056-467e-41d2-ac1c-a32a997d8487",
   "metadata": {},
   "source": [
    "### Design"
   ]
  },
  {
   "cell_type": "code",
   "execution_count": 49,
   "id": "910c04f2-55cd-4291-927a-607348650855",
   "metadata": {
    "execution": {
     "iopub.execute_input": "2022-07-06T19:52:03.618500Z",
     "iopub.status.busy": "2022-07-06T19:52:03.618500Z",
     "iopub.status.idle": "2022-07-06T19:52:03.632554Z",
     "shell.execute_reply": "2022-07-06T19:52:03.632385Z",
     "shell.execute_reply.started": "2022-07-06T19:52:03.618500Z"
    },
    "tags": []
   },
   "outputs": [],
   "source": [
    "prob.set_val('L_t', 10)\n",
    "prob.set_val('h', 400)\n",
    "prob.set_val('EN', 14.125)\n",
    "prob.set_val('X_r', 5)\n",
    "#prob.set_val('m_s', 5)"
   ]
  },
  {
   "cell_type": "code",
   "execution_count": 50,
   "id": "46e519cc-085d-44fd-86f9-ef02dadbb86a",
   "metadata": {
    "execution": {
     "iopub.execute_input": "2022-07-06T19:52:05.166926Z",
     "iopub.status.busy": "2022-07-06T19:52:05.165980Z",
     "iopub.status.idle": "2022-07-06T19:52:08.876773Z",
     "shell.execute_reply": "2022-07-06T19:52:08.876540Z",
     "shell.execute_reply.started": "2022-07-06T19:52:05.166926Z"
    },
    "tags": []
   },
   "outputs": [
    {
     "name": "stdout",
     "output_type": "stream",
     "text": [
      "\n",
      "\n",
      "Optimization Problem -- Optimization using pyOpt_sparse\n",
      "================================================================================\n",
      "    Objective Function: _objfunc\n",
      "\n",
      "    Solution: \n",
      "--------------------------------------------------------------------------------\n",
      "    Total Time:                    0.7030\n",
      "       User Objective Time :       0.0160\n",
      "       User Sensitivity Time :     0.6832\n",
      "       Interface Time :            0.0008\n",
      "       Opt Solver Time:            0.0031\n",
      "    Calls to Objective Function :       2\n",
      "    Calls to Sens Function :            2\n",
      "\n",
      "\n",
      "   Objectives\n",
      "      Index  Name                 Value\n",
      "          0  f26.obj26     5.807543E+00\n",
      "\n",
      "   Variables (c - continuous, i - integer, d - discrete)\n",
      "      Index  Name        Type      Lower Bound            Value      Upper Bound     Status\n",
      "          0  inp.m_s_0      c    -1.000000E+30     1.161509E+00     1.000000E+30           \n",
      "\n",
      "   Constraints (i - inequality, e - equality)\n",
      "      Index  Name   Type          Lower           Value           Upper    Status  Lagrange Multiplier (N/A)\n",
      "          0  f5.eq5    e   0.000000E+00   -6.661338E-16    0.000000E+00              9.00000E+100\n",
      "\n",
      "--------------------------------------------------------------------------------\n",
      "\n"
     ]
    },
    {
     "data": {
      "text/plain": [
       "False"
      ]
     },
     "execution_count": 50,
     "metadata": {},
     "output_type": "execute_result"
    }
   ],
   "source": [
    "prob.run_driver()"
   ]
  },
  {
   "cell_type": "code",
   "execution_count": 64,
   "id": "525f8c4b-9c26-4060-a2ed-f6571375a7d7",
   "metadata": {
    "execution": {
     "iopub.execute_input": "2022-07-06T18:22:47.264937Z",
     "iopub.status.busy": "2022-07-06T18:22:47.264937Z",
     "iopub.status.idle": "2022-07-06T18:22:47.280273Z",
     "shell.execute_reply": "2022-07-06T18:22:47.279761Z",
     "shell.execute_reply.started": "2022-07-06T18:22:47.264937Z"
    },
    "tags": []
   },
   "outputs": [],
   "source": [
    "prob.run_model()"
   ]
  },
  {
   "cell_type": "code",
   "execution_count": 65,
   "id": "63f4c0ad-2b17-49c3-8be3-6a49c029846b",
   "metadata": {
    "execution": {
     "iopub.execute_input": "2022-07-06T18:22:47.665850Z",
     "iopub.status.busy": "2022-07-06T18:22:47.665850Z",
     "iopub.status.idle": "2022-07-06T18:22:47.684382Z",
     "shell.execute_reply": "2022-07-06T18:22:47.683860Z",
     "shell.execute_reply.started": "2022-07-06T18:22:47.665850Z"
    },
    "tags": []
   },
   "outputs": [],
   "source": [
    "update_varval(model, prob, namingfunc)"
   ]
  },
  {
   "cell_type": "code",
   "execution_count": 66,
   "id": "47754162-25c1-4ece-a584-b990555eaa46",
   "metadata": {
    "execution": {
     "iopub.execute_input": "2022-07-06T18:22:47.915911Z",
     "iopub.status.busy": "2022-07-06T18:22:47.915911Z",
     "iopub.status.idle": "2022-07-06T18:22:47.934146Z",
     "shell.execute_reply": "2022-07-06T18:22:47.933946Z",
     "shell.execute_reply.started": "2022-07-06T18:22:47.915911Z"
    },
    "tags": []
   },
   "outputs": [],
   "source": [
    "#evalexpr(Ln)"
   ]
  },
  {
   "cell_type": "code",
   "execution_count": 67,
   "id": "032534b5-4079-417c-9a60-842e1e1ff4a7",
   "metadata": {
    "execution": {
     "iopub.execute_input": "2022-07-06T18:22:48.106352Z",
     "iopub.status.busy": "2022-07-06T18:22:48.106352Z",
     "iopub.status.idle": "2022-07-06T18:22:48.119975Z",
     "shell.execute_reply": "2022-07-06T18:22:48.119401Z",
     "shell.execute_reply.started": "2022-07-06T18:22:48.106352Z"
    },
    "tags": []
   },
   "outputs": [],
   "source": [
    "#evalexpr(Hval*mt/(2*np.pi*C_D*A*rhoval*a**2)*T)"
   ]
  },
  {
   "cell_type": "code",
   "execution_count": 68,
   "id": "10748055-5653-432a-b7c8-c0be8e6db4e8",
   "metadata": {
    "execution": {
     "iopub.execute_input": "2022-07-06T18:22:48.279308Z",
     "iopub.status.busy": "2022-07-06T18:22:48.278320Z",
     "iopub.status.idle": "2022-07-06T18:22:48.291245Z",
     "shell.execute_reply": "2022-07-06T18:22:48.290343Z",
     "shell.execute_reply.started": "2022-07-06T18:22:48.279308Z"
    },
    "tags": []
   },
   "outputs": [],
   "source": [
    "#evalexpr(Hval*mt/(2*np.pi)*T-Ln*C_D*A*rhoval*a**2)"
   ]
  },
  {
   "cell_type": "code",
   "execution_count": 72,
   "id": "8441591e-8cda-45f3-9d5d-701f4b6732eb",
   "metadata": {
    "execution": {
     "iopub.execute_input": "2022-07-06T21:54:18.539876Z",
     "iopub.status.busy": "2022-07-06T21:54:18.539876Z",
     "iopub.status.idle": "2022-07-06T21:54:18.563702Z",
     "shell.execute_reply": "2022-07-06T21:54:18.563055Z",
     "shell.execute_reply.started": "2022-07-06T21:54:18.539876Z"
    },
    "tags": []
   },
   "outputs": [
    {
     "data": {
      "text/html": [
       "<style type=\"text/css\">\n",
       "</style>\n",
       "<table id=\"T_0111d\">\n",
       "  <thead>\n",
       "  </thead>\n",
       "  <tbody>\n",
       "    <tr>\n",
       "      <td id=\"T_0111d_row0_col0\" class=\"data row0 col0\" >$$h$$</td>\n",
       "      <td id=\"T_0111d_row0_col1\" class=\"data row0 col1\" >400</td>\n",
       "      <td id=\"T_0111d_row0_col2\" class=\"data row0 col2\" >km</td>\n",
       "    </tr>\n",
       "    <tr>\n",
       "      <td id=\"T_0111d_row1_col0\" class=\"data row1 col0\" >$$X_r$$</td>\n",
       "      <td id=\"T_0111d_row1_col1\" class=\"data row1 col1\" >5</td>\n",
       "      <td id=\"T_0111d_row1_col2\" class=\"data row1 col2\" >m</td>\n",
       "    </tr>\n",
       "    <tr>\n",
       "      <td id=\"T_0111d_row2_col0\" class=\"data row2 col0\" >$$A$$</td>\n",
       "      <td id=\"T_0111d_row2_col1\" class=\"data row2 col1\" >0.051</td>\n",
       "      <td id=\"T_0111d_row2_col2\" class=\"data row2 col2\" >m²</td>\n",
       "    </tr>\n",
       "    <tr>\n",
       "      <td id=\"T_0111d_row3_col0\" class=\"data row3 col0\" >$$m_{pr}$$</td>\n",
       "      <td id=\"T_0111d_row3_col1\" class=\"data row3 col1\" >3.835</td>\n",
       "      <td id=\"T_0111d_row3_col2\" class=\"data row3 col2\" >kg</td>\n",
       "    </tr>\n",
       "  </tbody>\n",
       "</table>\n"
      ],
      "text/plain": [
       "<pandas.io.formats.style.Styler at 0x1eefb24ecd0>"
      ]
     },
     "execution_count": 72,
     "metadata": {},
     "output_type": "execute_result"
    }
   ],
   "source": [
    "print_inputs(model, prob, namingfunc, mdao_in0)"
   ]
  },
  {
   "cell_type": "code",
   "execution_count": 74,
   "id": "15aa2a79-d5ea-4602-aaea-133155f38e24",
   "metadata": {
    "execution": {
     "iopub.execute_input": "2022-07-06T21:54:28.860420Z",
     "iopub.status.busy": "2022-07-06T21:54:28.860420Z",
     "iopub.status.idle": "2022-07-06T21:54:28.883925Z",
     "shell.execute_reply": "2022-07-06T21:54:28.883302Z",
     "shell.execute_reply.started": "2022-07-06T21:54:28.860420Z"
    },
    "tags": []
   },
   "outputs": [
    {
     "data": {
      "text/html": [
       "<style type=\"text/css\">\n",
       "</style>\n",
       "<table id=\"T_034e8\">\n",
       "  <thead>\n",
       "  </thead>\n",
       "  <tbody>\n",
       "    <tr>\n",
       "      <td id=\"T_034e8_row0_col0\" class=\"data row0 col0\" >$$a$$</td>\n",
       "      <td id=\"T_034e8_row0_col1\" class=\"data row0 col1\" >6778</td>\n",
       "      <td id=\"T_034e8_row0_col2\" class=\"data row0 col2\" >km</td>\n",
       "    </tr>\n",
       "    <tr>\n",
       "      <td id=\"T_034e8_row1_col0\" class=\"data row1 col0\" >$$T$$</td>\n",
       "      <td id=\"T_034e8_row1_col1\" class=\"data row1 col1\" >92.558</td>\n",
       "      <td id=\"T_034e8_row1_col2\" class=\"data row1 col2\" >min</td>\n",
       "    </tr>\n",
       "    <tr>\n",
       "      <td id=\"T_034e8_row2_col0\" class=\"data row2 col0\" >$$g$$</td>\n",
       "      <td id=\"T_034e8_row2_col1\" class=\"data row2 col1\" >0.11</td>\n",
       "      <td id=\"T_034e8_row2_col2\" class=\"data row2 col2\" ></td>\n",
       "    </tr>\n",
       "    <tr>\n",
       "      <td id=\"T_034e8_row3_col0\" class=\"data row3 col0\" >$$d$$</td>\n",
       "      <td id=\"T_034e8_row3_col1\" class=\"data row3 col1\" >0.61</td>\n",
       "      <td id=\"T_034e8_row3_col2\" class=\"data row3 col2\" ></td>\n",
       "    </tr>\n",
       "    <tr>\n",
       "      <td id=\"T_034e8_row4_col0\" class=\"data row4 col0\" >$$r$$</td>\n",
       "      <td id=\"T_034e8_row4_col1\" class=\"data row4 col1\" >2293.992</td>\n",
       "      <td id=\"T_034e8_row4_col2\" class=\"data row4 col2\" >km</td>\n",
       "    </tr>\n",
       "    <tr>\n",
       "      <td id=\"T_034e8_row5_col0\" class=\"data row5 col0\" >$$m_A$$</td>\n",
       "      <td id=\"T_034e8_row5_col1\" class=\"data row5 col1\" >0.509</td>\n",
       "      <td id=\"T_034e8_row5_col2\" class=\"data row5 col2\" >kg</td>\n",
       "    </tr>\n",
       "    <tr>\n",
       "      <td id=\"T_034e8_row6_col0\" class=\"data row6 col0\" >$$P_c$$</td>\n",
       "      <td id=\"T_034e8_row6_col1\" class=\"data row6 col1\" >12.725</td>\n",
       "      <td id=\"T_034e8_row6_col2\" class=\"data row6 col2\" >W</td>\n",
       "    </tr>\n",
       "    <tr>\n",
       "      <td id=\"T_034e8_row7_col0\" class=\"data row7 col0\" >$$P_T$$</td>\n",
       "      <td id=\"T_034e8_row7_col1\" class=\"data row7 col1\" >0.725</td>\n",
       "      <td id=\"T_034e8_row7_col2\" class=\"data row7 col2\" >W</td>\n",
       "    </tr>\n",
       "    <tr>\n",
       "      <td id=\"T_034e8_row8_col0\" class=\"data row8 col0\" >$$E_b$$</td>\n",
       "      <td id=\"T_034e8_row8_col1\" class=\"data row8 col1\" >115.866</td>\n",
       "      <td id=\"T_034e8_row8_col2\" class=\"data row8 col2\" >kJ</td>\n",
       "    </tr>\n",
       "    <tr>\n",
       "      <td id=\"T_034e8_row9_col0\" class=\"data row9 col0\" >$$m_b$$</td>\n",
       "      <td id=\"T_034e8_row9_col1\" class=\"data row9 col1\" >0.232</td>\n",
       "      <td id=\"T_034e8_row9_col2\" class=\"data row9 col2\" >kg</td>\n",
       "    </tr>\n",
       "    <tr>\n",
       "      <td id=\"T_034e8_row10_col0\" class=\"data row10 col0\" >$$D_p$$</td>\n",
       "      <td id=\"T_034e8_row10_col1\" class=\"data row10 col1\" >0.049</td>\n",
       "      <td id=\"T_034e8_row10_col2\" class=\"data row10 col2\" >m</td>\n",
       "    </tr>\n",
       "    <tr>\n",
       "      <td id=\"T_034e8_row11_col0\" class=\"data row11 col0\" >$$D$$</td>\n",
       "      <td id=\"T_034e8_row11_col1\" class=\"data row11 col1\" >16.03</td>\n",
       "      <td id=\"T_034e8_row11_col2\" class=\"data row11 col2\" >GB</td>\n",
       "    </tr>\n",
       "    <tr>\n",
       "      <td id=\"T_034e8_row12_col0\" class=\"data row12 col0\" >$$m_p$$</td>\n",
       "      <td id=\"T_034e8_row12_col1\" class=\"data row12 col1\" >0.022</td>\n",
       "      <td id=\"T_034e8_row12_col2\" class=\"data row12 col2\" >kg</td>\n",
       "    </tr>\n",
       "    <tr>\n",
       "      <td id=\"T_034e8_row13_col0\" class=\"data row13 col0\" >$$b$$</td>\n",
       "      <td id=\"T_034e8_row13_col1\" class=\"data row13 col1\" >2.886</td>\n",
       "      <td id=\"T_034e8_row13_col2\" class=\"data row13 col2\" >MB/s</td>\n",
       "    </tr>\n",
       "    <tr>\n",
       "      <td id=\"T_034e8_row14_col0\" class=\"data row14 col0\" >$$\\lambda_c$$</td>\n",
       "      <td id=\"T_034e8_row14_col1\" class=\"data row14 col1\" >13.591</td>\n",
       "      <td id=\"T_034e8_row14_col2\" class=\"data row14 col2\" >cm</td>\n",
       "    </tr>\n",
       "    <tr>\n",
       "      <td id=\"T_034e8_row15_col0\" class=\"data row15 col0\" >$$D_T$$</td>\n",
       "      <td id=\"T_034e8_row15_col1\" class=\"data row15 col1\" >0.39</td>\n",
       "      <td id=\"T_034e8_row15_col2\" class=\"data row15 col2\" >m</td>\n",
       "    </tr>\n",
       "    <tr>\n",
       "      <td id=\"T_034e8_row16_col0\" class=\"data row16 col0\" >$$m_T$$</td>\n",
       "      <td id=\"T_034e8_row16_col1\" class=\"data row16 col1\" >0.049</td>\n",
       "      <td id=\"T_034e8_row16_col2\" class=\"data row16 col2\" >kg</td>\n",
       "    </tr>\n",
       "    <tr>\n",
       "      <td id=\"T_034e8_row17_col0\" class=\"data row17 col0\" >$$G_r$$</td>\n",
       "      <td id=\"T_034e8_row17_col1\" class=\"data row17 col1\" >8255.002</td>\n",
       "      <td id=\"T_034e8_row17_col2\" class=\"data row17 col2\" ></td>\n",
       "    </tr>\n",
       "    <tr>\n",
       "      <td id=\"T_034e8_row18_col0\" class=\"data row18 col0\" >$$EN$$</td>\n",
       "      <td id=\"T_034e8_row18_col1\" class=\"data row18 col1\" >14.125</td>\n",
       "      <td id=\"T_034e8_row18_col2\" class=\"data row18 col2\" ></td>\n",
       "    </tr>\n",
       "    <tr>\n",
       "      <td id=\"T_034e8_row19_col0\" class=\"data row19 col0\" >$$m_s$$</td>\n",
       "      <td id=\"T_034e8_row19_col1\" class=\"data row19 col1\" >1.162</td>\n",
       "      <td id=\"T_034e8_row19_col2\" class=\"data row19 col2\" >kg</td>\n",
       "    </tr>\n",
       "    <tr>\n",
       "      <td id=\"T_034e8_row20_col0\" class=\"data row20 col0\" >$$m_t$$</td>\n",
       "      <td id=\"T_034e8_row20_col1\" class=\"data row20 col1\" >5.808</td>\n",
       "      <td id=\"T_034e8_row20_col2\" class=\"data row20 col2\" >kg</td>\n",
       "    </tr>\n",
       "    <tr>\n",
       "      <td id=\"T_034e8_row21_col0\" class=\"data row21 col0\" >$$H_{val}$$</td>\n",
       "      <td id=\"T_034e8_row21_col1\" class=\"data row21 col1\" >5.820×10⁴</td>\n",
       "      <td id=\"T_034e8_row21_col2\" class=\"data row21 col2\" >m</td>\n",
       "    </tr>\n",
       "    <tr>\n",
       "      <td id=\"T_034e8_row22_col0\" class=\"data row22 col0\" >$$\\rho_{val}$$</td>\n",
       "      <td id=\"T_034e8_row22_col1\" class=\"data row22 col1\" >2.720×10⁻¹²</td>\n",
       "      <td id=\"T_034e8_row22_col2\" class=\"data row22 col2\" >kg/m³</td>\n",
       "    </tr>\n",
       "    <tr>\n",
       "      <td id=\"T_034e8_row23_col0\" class=\"data row23 col0\" >$$L_n$$</td>\n",
       "      <td id=\"T_034e8_row23_col1\" class=\"data row23 col1\" >0.677</td>\n",
       "      <td id=\"T_034e8_row23_col2\" class=\"data row23 col2\" >yr</td>\n",
       "    </tr>\n",
       "    <tr>\n",
       "      <td id=\"T_034e8_row24_col0\" class=\"data row24 col0\" >$$L_p$$</td>\n",
       "      <td id=\"T_034e8_row24_col1\" class=\"data row24 col1\" >9.323</td>\n",
       "      <td id=\"T_034e8_row24_col2\" class=\"data row24 col2\" >yr</td>\n",
       "    </tr>\n",
       "    <tr>\n",
       "      <td id=\"T_034e8_row25_col0\" class=\"data row25 col0\" >$$L_t$$</td>\n",
       "      <td id=\"T_034e8_row25_col1\" class=\"data row25 col1\" >10</td>\n",
       "      <td id=\"T_034e8_row25_col2\" class=\"data row25 col2\" >yr</td>\n",
       "    </tr>\n",
       "  </tbody>\n",
       "</table>\n"
      ],
      "text/plain": [
       "<pandas.io.formats.style.Styler at 0x1eefb232610>"
      ]
     },
     "execution_count": 74,
     "metadata": {},
     "output_type": "execute_result"
    }
   ],
   "source": [
    "print_outputs(model, prob, namingfunc, rounding=3)"
   ]
  },
  {
   "cell_type": "code",
   "execution_count": null,
   "id": "e94a901d-4f90-4042-a194-7e3fa518883f",
   "metadata": {},
   "outputs": [],
   "source": []
  }
 ],
 "metadata": {
  "kernelspec": {
   "display_name": "Python 3.9.12 ('pyoptsparse': conda)",
   "language": "python",
   "name": "python3"
  },
  "language_info": {
   "codemirror_mode": {
    "name": "ipython",
    "version": 3
   },
   "file_extension": ".py",
   "mimetype": "text/x-python",
   "name": "python",
   "nbconvert_exporter": "python",
   "pygments_lexer": "ipython3",
   "version": "3.9.12"
  },
  "toc-autonumbering": false,
  "toc-showmarkdowntxt": false,
  "vscode": {
   "interpreter": {
    "hash": "ddbffdfc6e576b5d36b4191f1f51800df280a911e81ff2615f408143452d1a9a"
   }
  }
 },
 "nbformat": 4,
 "nbformat_minor": 5
}
