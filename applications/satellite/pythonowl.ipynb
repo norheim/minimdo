{
 "cells": [
  {
   "cell_type": "code",
   "execution_count": 1,
   "id": "ab06bf82-29f1-49c6-a7d6-8e963e94a446",
   "metadata": {
    "execution": {
     "iopub.execute_input": "2022-06-14T01:23:04.745646Z",
     "iopub.status.busy": "2022-06-14T01:23:04.745646Z",
     "iopub.status.idle": "2022-06-14T01:23:04.788677Z",
     "shell.execute_reply": "2022-06-14T01:23:04.788518Z",
     "shell.execute_reply.started": "2022-06-14T01:23:04.745646Z"
    },
    "tags": []
   },
   "outputs": [],
   "source": [
    "from owlready2 import *\n",
    "import owlready2\n",
    "owlready2.JAVA_EXE = r\"C:\\Program Files\\Java\\jdk-18.0.1.1\\bin\\java.exe\""
   ]
  },
  {
   "cell_type": "code",
   "execution_count": 2,
   "id": "ffcd1147-6409-4491-862a-1fbd34a45288",
   "metadata": {
    "execution": {
     "iopub.execute_input": "2022-06-14T01:23:04.789686Z",
     "iopub.status.busy": "2022-06-14T01:23:04.789686Z",
     "iopub.status.idle": "2022-06-14T01:23:04.803897Z",
     "shell.execute_reply": "2022-06-14T01:23:04.803763Z",
     "shell.execute_reply.started": "2022-06-14T01:23:04.789686Z"
    },
    "tags": []
   },
   "outputs": [],
   "source": [
    "world = World()"
   ]
  },
  {
   "cell_type": "code",
   "execution_count": 7,
   "id": "0174c766-519d-402f-8b4d-4446af597e86",
   "metadata": {
    "execution": {
     "iopub.execute_input": "2022-06-14T01:24:25.431156Z",
     "iopub.status.busy": "2022-06-14T01:24:25.431156Z",
     "iopub.status.idle": "2022-06-14T01:24:25.445044Z",
     "shell.execute_reply": "2022-06-14T01:24:25.444701Z",
     "shell.execute_reply.started": "2022-06-14T01:24:25.431156Z"
    },
    "tags": []
   },
   "outputs": [],
   "source": [
    "onto = world.get_ontology(r\"C:\\Users\\johan\\github\\designresolver\\minimdo\\satellite\\quantities.owl\").load()"
   ]
  },
  {
   "cell_type": "code",
   "execution_count": 12,
   "id": "11ba3836-64e2-407d-80e7-ade21d77e70b",
   "metadata": {
    "execution": {
     "iopub.execute_input": "2022-06-14T01:25:15.098639Z",
     "iopub.status.busy": "2022-06-14T01:25:15.098639Z",
     "iopub.status.idle": "2022-06-14T01:25:15.116539Z",
     "shell.execute_reply": "2022-06-14T01:25:15.116539Z",
     "shell.execute_reply.started": "2022-06-14T01:25:15.098639Z"
    },
    "tags": []
   },
   "outputs": [
    {
     "data": {
      "text/plain": [
       "[C:\\Users\\johan\\github\\designresolver\\minimdo\\satellite\\quantities.unit,\n",
       " untitled-ontology-4.inputs,\n",
       " untitled-ontology-4.mi]"
      ]
     },
     "execution_count": 12,
     "metadata": {},
     "output_type": "execute_result"
    }
   ],
   "source": [
    "list(onto.properties())"
   ]
  },
  {
   "cell_type": "code",
   "execution_count": 38,
   "id": "0073bdec-9254-45f6-9fe4-8be550ea45a2",
   "metadata": {
    "execution": {
     "iopub.execute_input": "2022-06-14T01:33:51.175014Z",
     "iopub.status.busy": "2022-06-14T01:33:51.175014Z",
     "iopub.status.idle": "2022-06-14T01:33:51.192042Z",
     "shell.execute_reply": "2022-06-14T01:33:51.191493Z",
     "shell.execute_reply.started": "2022-06-14T01:33:51.175014Z"
    },
    "tags": []
   },
   "outputs": [
    {
     "ename": "ValueError",
     "evalue": "Undefined prefix 'base:'!",
     "output_type": "error",
     "traceback": [
      "\u001b[1;31m---------------------------------------------------------------------------\u001b[0m",
      "\u001b[1;31mValueError\u001b[0m                                Traceback (most recent call last)",
      "\u001b[1;32m~\\AppData\\Local\\Temp/ipykernel_37716/2578386180.py\u001b[0m in \u001b[0;36m<module>\u001b[1;34m\u001b[0m\n\u001b[1;32m----> 1\u001b[1;33m list(world.sparql(\"\"\"\n\u001b[0m\u001b[0;32m      2\u001b[0m            \u001b[0mSELECT\u001b[0m\u001b[0;31m \u001b[0m\u001b[0;31m?\u001b[0m\u001b[0mx\u001b[0m\u001b[0;31m \u001b[0m\u001b[0;31m?\u001b[0m\u001b[0my\u001b[0m\u001b[1;33m\u001b[0m\u001b[1;33m\u001b[0m\u001b[0m\n\u001b[0;32m      3\u001b[0m            WHERE { ?x base:mi ?z }\"\"\"))\n",
      "\u001b[1;32m~\\miniconda3\\envs\\mdo\\lib\\site-packages\\owlready2\\namespace.py\u001b[0m in \u001b[0;36msparql\u001b[1;34m(self, sparql, params, error_on_undefined_entities)\u001b[0m\n\u001b[0;32m    545\u001b[0m   \u001b[1;32mdef\u001b[0m \u001b[0msparql\u001b[0m\u001b[1;33m(\u001b[0m\u001b[0mself\u001b[0m\u001b[1;33m,\u001b[0m \u001b[0msparql\u001b[0m\u001b[1;33m,\u001b[0m \u001b[0mparams\u001b[0m \u001b[1;33m=\u001b[0m \u001b[1;33m(\u001b[0m\u001b[1;33m)\u001b[0m\u001b[1;33m,\u001b[0m \u001b[0merror_on_undefined_entities\u001b[0m \u001b[1;33m=\u001b[0m \u001b[1;32mTrue\u001b[0m\u001b[1;33m)\u001b[0m\u001b[1;33m:\u001b[0m\u001b[1;33m\u001b[0m\u001b[1;33m\u001b[0m\u001b[0m\n\u001b[0;32m    546\u001b[0m     \u001b[1;32mimport\u001b[0m \u001b[0mowlready2\u001b[0m\u001b[1;33m.\u001b[0m\u001b[0msparql\u001b[0m\u001b[1;33m.\u001b[0m\u001b[0mmain\u001b[0m\u001b[1;33m\u001b[0m\u001b[1;33m\u001b[0m\u001b[0m\n\u001b[1;32m--> 547\u001b[1;33m     \u001b[0mquery\u001b[0m \u001b[1;33m=\u001b[0m \u001b[0mself\u001b[0m\u001b[1;33m.\u001b[0m\u001b[0m_prepare_sparql\u001b[0m\u001b[1;33m(\u001b[0m\u001b[0msparql\u001b[0m\u001b[1;33m,\u001b[0m \u001b[0merror_on_undefined_entities\u001b[0m\u001b[1;33m)\u001b[0m\u001b[1;33m\u001b[0m\u001b[1;33m\u001b[0m\u001b[0m\n\u001b[0m\u001b[0;32m    548\u001b[0m     \u001b[1;32mreturn\u001b[0m \u001b[0mquery\u001b[0m\u001b[1;33m.\u001b[0m\u001b[0mexecute\u001b[0m\u001b[1;33m(\u001b[0m\u001b[0mparams\u001b[0m\u001b[1;33m)\u001b[0m\u001b[1;33m\u001b[0m\u001b[1;33m\u001b[0m\u001b[0m\n\u001b[0;32m    549\u001b[0m \u001b[1;33m\u001b[0m\u001b[0m\n",
      "\u001b[1;32m~\\miniconda3\\envs\\mdo\\lib\\site-packages\\owlready2\\namespace.py\u001b[0m in \u001b[0;36m_prepare_sparql\u001b[1;34m(self, sparql, error_on_undefined_entities)\u001b[0m\n\u001b[0;32m    551\u001b[0m   \u001b[1;32mdef\u001b[0m \u001b[0m_prepare_sparql\u001b[0m\u001b[1;33m(\u001b[0m\u001b[0mself\u001b[0m\u001b[1;33m,\u001b[0m \u001b[0msparql\u001b[0m\u001b[1;33m,\u001b[0m \u001b[0merror_on_undefined_entities\u001b[0m\u001b[1;33m)\u001b[0m\u001b[1;33m:\u001b[0m\u001b[1;33m\u001b[0m\u001b[1;33m\u001b[0m\u001b[0m\n\u001b[0;32m    552\u001b[0m     \u001b[1;32mimport\u001b[0m \u001b[0mowlready2\u001b[0m\u001b[1;33m.\u001b[0m\u001b[0msparql\u001b[0m\u001b[1;33m.\u001b[0m\u001b[0mmain\u001b[0m\u001b[1;33m\u001b[0m\u001b[1;33m\u001b[0m\u001b[0m\n\u001b[1;32m--> 553\u001b[1;33m     \u001b[1;32mreturn\u001b[0m \u001b[0mowlready2\u001b[0m\u001b[1;33m.\u001b[0m\u001b[0msparql\u001b[0m\u001b[1;33m.\u001b[0m\u001b[0mmain\u001b[0m\u001b[1;33m.\u001b[0m\u001b[0mTranslator\u001b[0m\u001b[1;33m(\u001b[0m\u001b[0mself\u001b[0m\u001b[1;33m,\u001b[0m \u001b[0merror_on_undefined_entities\u001b[0m\u001b[1;33m)\u001b[0m\u001b[1;33m.\u001b[0m\u001b[0mparse\u001b[0m\u001b[1;33m(\u001b[0m\u001b[0msparql\u001b[0m\u001b[1;33m)\u001b[0m\u001b[1;33m\u001b[0m\u001b[1;33m\u001b[0m\u001b[0m\n\u001b[0m\u001b[0;32m    554\u001b[0m \u001b[1;33m\u001b[0m\u001b[0m\n\u001b[0;32m    555\u001b[0m   \u001b[1;32mdef\u001b[0m \u001b[0mprepare_sparql\u001b[0m\u001b[1;33m(\u001b[0m\u001b[0mself\u001b[0m\u001b[1;33m,\u001b[0m \u001b[0msparql\u001b[0m\u001b[1;33m,\u001b[0m \u001b[0merror_on_undefined_entities\u001b[0m \u001b[1;33m=\u001b[0m \u001b[1;32mTrue\u001b[0m\u001b[1;33m)\u001b[0m\u001b[1;33m:\u001b[0m \u001b[1;31m# lru_cache does not handle optional args\u001b[0m\u001b[1;33m\u001b[0m\u001b[1;33m\u001b[0m\u001b[0m\n",
      "\u001b[1;32m~\\miniconda3\\envs\\mdo\\lib\\site-packages\\owlready2\\sparql\\main.py\u001b[0m in \u001b[0;36mparse\u001b[1;34m(self, sparql)\u001b[0m\n\u001b[0;32m     59\u001b[0m       \u001b[0mself\u001b[0m\u001b[1;33m.\u001b[0m\u001b[0mescape_mark\u001b[0m \u001b[1;33m+=\u001b[0m \u001b[1;34m\"ç\"\u001b[0m\u001b[1;33m\u001b[0m\u001b[1;33m\u001b[0m\u001b[0m\n\u001b[0;32m     60\u001b[0m     \u001b[0mCURRENT_TRANSLATOR\u001b[0m\u001b[1;33m.\u001b[0m\u001b[0mset\u001b[0m\u001b[1;33m(\u001b[0m\u001b[0mself\u001b[0m\u001b[1;33m)\u001b[0m\u001b[1;33m\u001b[0m\u001b[1;33m\u001b[0m\u001b[0m\n\u001b[1;32m---> 61\u001b[1;33m     \u001b[0mself\u001b[0m\u001b[1;33m.\u001b[0m\u001b[0mmain_query\u001b[0m \u001b[1;33m=\u001b[0m \u001b[0mPARSER\u001b[0m\u001b[1;33m.\u001b[0m\u001b[0mparse\u001b[0m\u001b[1;33m(\u001b[0m\u001b[0mLEXER\u001b[0m\u001b[1;33m.\u001b[0m\u001b[0mlex\u001b[0m\u001b[1;33m(\u001b[0m\u001b[0msparql\u001b[0m\u001b[1;33m)\u001b[0m\u001b[1;33m)\u001b[0m\u001b[1;33m\u001b[0m\u001b[1;33m\u001b[0m\u001b[0m\n\u001b[0m\u001b[0;32m     62\u001b[0m     \u001b[1;32mreturn\u001b[0m \u001b[0mself\u001b[0m\u001b[1;33m.\u001b[0m\u001b[0mfinalize\u001b[0m\u001b[1;33m(\u001b[0m\u001b[1;33m)\u001b[0m\u001b[1;33m\u001b[0m\u001b[1;33m\u001b[0m\u001b[0m\n\u001b[0;32m     63\u001b[0m \u001b[1;33m\u001b[0m\u001b[0m\n",
      "\u001b[1;32m~\\miniconda3\\envs\\mdo\\lib\\site-packages\\owlready2\\rply.py\u001b[0m in \u001b[0;36mparse\u001b[1;34m(self, tokenizer, state)\u001b[0m\n\u001b[0;32m    414\u001b[0m       \u001b[1;32mif\u001b[0m \u001b[0mself\u001b[0m\u001b[1;33m.\u001b[0m\u001b[0mlr_table\u001b[0m\u001b[1;33m.\u001b[0m\u001b[0mdefault_reductions\u001b[0m\u001b[1;33m[\u001b[0m\u001b[0mcurrent_state\u001b[0m\u001b[1;33m]\u001b[0m\u001b[1;33m:\u001b[0m\u001b[1;33m\u001b[0m\u001b[1;33m\u001b[0m\u001b[0m\n\u001b[0;32m    415\u001b[0m         \u001b[0mt\u001b[0m \u001b[1;33m=\u001b[0m \u001b[0mself\u001b[0m\u001b[1;33m.\u001b[0m\u001b[0mlr_table\u001b[0m\u001b[1;33m.\u001b[0m\u001b[0mdefault_reductions\u001b[0m\u001b[1;33m[\u001b[0m\u001b[0mcurrent_state\u001b[0m\u001b[1;33m]\u001b[0m\u001b[1;33m\u001b[0m\u001b[1;33m\u001b[0m\u001b[0m\n\u001b[1;32m--> 416\u001b[1;33m         current_state = self._reduce_production(\n\u001b[0m\u001b[0;32m    417\u001b[0m           \u001b[0mt\u001b[0m\u001b[1;33m,\u001b[0m \u001b[0msymstack\u001b[0m\u001b[1;33m,\u001b[0m \u001b[0mstatestack\u001b[0m\u001b[1;33m,\u001b[0m \u001b[0mstate\u001b[0m\u001b[1;33m\u001b[0m\u001b[1;33m\u001b[0m\u001b[0m\n\u001b[0;32m    418\u001b[0m         )\n",
      "\u001b[1;32m~\\miniconda3\\envs\\mdo\\lib\\site-packages\\owlready2\\rply.py\u001b[0m in \u001b[0;36m_reduce_production\u001b[1;34m(self, t, symstack, statestack, state)\u001b[0m\n\u001b[0;32m    463\u001b[0m     \u001b[1;32mdel\u001b[0m \u001b[0msymstack\u001b[0m\u001b[1;33m[\u001b[0m\u001b[0mstart\u001b[0m\u001b[1;33m:\u001b[0m\u001b[1;33m]\u001b[0m\u001b[1;33m\u001b[0m\u001b[1;33m\u001b[0m\u001b[0m\n\u001b[0;32m    464\u001b[0m     \u001b[1;32mdel\u001b[0m \u001b[0mstatestack\u001b[0m\u001b[1;33m[\u001b[0m\u001b[0mstart\u001b[0m\u001b[1;33m:\u001b[0m\u001b[1;33m]\u001b[0m\u001b[1;33m\u001b[0m\u001b[1;33m\u001b[0m\u001b[0m\n\u001b[1;32m--> 465\u001b[1;33m     \u001b[1;32mif\u001b[0m \u001b[0mstate\u001b[0m \u001b[1;32mis\u001b[0m \u001b[1;32mNone\u001b[0m\u001b[1;33m:\u001b[0m \u001b[0mvalue\u001b[0m \u001b[1;33m=\u001b[0m \u001b[0mp\u001b[0m\u001b[1;33m.\u001b[0m\u001b[0mfunc\u001b[0m\u001b[1;33m(\u001b[0m\u001b[0mtarg\u001b[0m\u001b[1;33m)\u001b[0m\u001b[1;33m\u001b[0m\u001b[1;33m\u001b[0m\u001b[0m\n\u001b[0m\u001b[0;32m    466\u001b[0m     \u001b[1;32melse\u001b[0m\u001b[1;33m:\u001b[0m             \u001b[0mvalue\u001b[0m \u001b[1;33m=\u001b[0m \u001b[0mp\u001b[0m\u001b[1;33m.\u001b[0m\u001b[0mfunc\u001b[0m\u001b[1;33m(\u001b[0m\u001b[0mstate\u001b[0m\u001b[1;33m,\u001b[0m \u001b[0mtarg\u001b[0m\u001b[1;33m)\u001b[0m\u001b[1;33m\u001b[0m\u001b[1;33m\u001b[0m\u001b[0m\n\u001b[0;32m    467\u001b[0m     \u001b[0msymstack\u001b[0m\u001b[1;33m.\u001b[0m\u001b[0mappend\u001b[0m\u001b[1;33m(\u001b[0m\u001b[0mvalue\u001b[0m\u001b[1;33m)\u001b[0m\u001b[1;33m\u001b[0m\u001b[1;33m\u001b[0m\u001b[0m\n",
      "\u001b[1;32m~\\miniconda3\\envs\\mdo\\lib\\site-packages\\owlready2\\sparql\\parser.py\u001b[0m in \u001b[0;36mf\u001b[1;34m(p)\u001b[0m\n\u001b[0;32m   1012\u001b[0m   \u001b[0mprefix\u001b[0m\u001b[1;33m,\u001b[0m \u001b[0mname\u001b[0m \u001b[1;33m=\u001b[0m \u001b[0mp\u001b[0m\u001b[1;33m.\u001b[0m\u001b[0mvalue\u001b[0m\u001b[1;33m.\u001b[0m\u001b[0msplit\u001b[0m\u001b[1;33m(\u001b[0m\u001b[1;34m\":\"\u001b[0m\u001b[1;33m,\u001b[0m \u001b[1;36m1\u001b[0m\u001b[1;33m)\u001b[0m\u001b[1;33m\u001b[0m\u001b[1;33m\u001b[0m\u001b[0m\n\u001b[0;32m   1013\u001b[0m   \u001b[0mp\u001b[0m\u001b[1;33m.\u001b[0m\u001b[0mname\u001b[0m   \u001b[1;33m=\u001b[0m \u001b[1;34m\"IRI\"\u001b[0m\u001b[1;33m\u001b[0m\u001b[1;33m\u001b[0m\u001b[0m\n\u001b[1;32m-> 1014\u001b[1;33m   \u001b[0mp\u001b[0m\u001b[1;33m.\u001b[0m\u001b[0mvalue\u001b[0m  \u001b[1;33m=\u001b[0m \u001b[1;34m\"%s%s\"\u001b[0m \u001b[1;33m%\u001b[0m \u001b[1;33m(\u001b[0m\u001b[0mtranslator\u001b[0m\u001b[1;33m.\u001b[0m\u001b[0mexpand_prefix\u001b[0m\u001b[1;33m(\u001b[0m\u001b[1;34m\"%s:\"\u001b[0m \u001b[1;33m%\u001b[0m \u001b[0mprefix\u001b[0m\u001b[1;33m)\u001b[0m\u001b[1;33m,\u001b[0m \u001b[0mname\u001b[0m\u001b[1;33m)\u001b[0m\u001b[1;33m\u001b[0m\u001b[1;33m\u001b[0m\u001b[0m\n\u001b[0m\u001b[0;32m   1015\u001b[0m   \u001b[0mp\u001b[0m\u001b[1;33m.\u001b[0m\u001b[0mstorid\u001b[0m \u001b[1;33m=\u001b[0m \u001b[0mp\u001b[0m\u001b[1;33m.\u001b[0m\u001b[0msql\u001b[0m \u001b[1;33m=\u001b[0m \u001b[0mtranslator\u001b[0m\u001b[1;33m.\u001b[0m\u001b[0mabbreviate\u001b[0m\u001b[1;33m(\u001b[0m\u001b[0mp\u001b[0m\u001b[1;33m.\u001b[0m\u001b[0mvalue\u001b[0m\u001b[1;33m)\u001b[0m\u001b[1;33m\u001b[0m\u001b[1;33m\u001b[0m\u001b[0m\n\u001b[0;32m   1016\u001b[0m   \u001b[1;32mreturn\u001b[0m \u001b[0mp\u001b[0m\u001b[1;33m\u001b[0m\u001b[1;33m\u001b[0m\u001b[0m\n",
      "\u001b[1;32m~\\miniconda3\\envs\\mdo\\lib\\site-packages\\owlready2\\sparql\\main.py\u001b[0m in \u001b[0;36mexpand_prefix\u001b[1;34m(self, prefix)\u001b[0m\n\u001b[0;32m    286\u001b[0m         \u001b[0mself\u001b[0m\u001b[1;33m.\u001b[0m\u001b[0mprefixes\u001b[0m\u001b[1;33m[\u001b[0m\u001b[0mprefix\u001b[0m\u001b[1;33m]\u001b[0m \u001b[1;33m=\u001b[0m \u001b[0montology\u001b[0m\u001b[1;33m.\u001b[0m\u001b[0mbase_iri\u001b[0m\u001b[1;33m\u001b[0m\u001b[1;33m\u001b[0m\u001b[0m\n\u001b[0;32m    287\u001b[0m         \u001b[1;32mreturn\u001b[0m \u001b[0montology\u001b[0m\u001b[1;33m.\u001b[0m\u001b[0mbase_iri\u001b[0m\u001b[1;33m\u001b[0m\u001b[1;33m\u001b[0m\u001b[0m\n\u001b[1;32m--> 288\u001b[1;33m     \u001b[1;32mraise\u001b[0m \u001b[0mValueError\u001b[0m\u001b[1;33m(\u001b[0m\u001b[1;34m\"Undefined prefix '%s'!\"\u001b[0m \u001b[1;33m%\u001b[0m \u001b[0mprefix\u001b[0m\u001b[1;33m)\u001b[0m\u001b[1;33m\u001b[0m\u001b[1;33m\u001b[0m\u001b[0m\n\u001b[0m\u001b[0;32m    289\u001b[0m \u001b[1;33m\u001b[0m\u001b[0m\n\u001b[0;32m    290\u001b[0m   \u001b[1;32mdef\u001b[0m \u001b[0mabbreviate\u001b[0m\u001b[1;33m(\u001b[0m\u001b[0mself\u001b[0m\u001b[1;33m,\u001b[0m \u001b[0mentity\u001b[0m\u001b[1;33m)\u001b[0m\u001b[1;33m:\u001b[0m\u001b[1;33m\u001b[0m\u001b[1;33m\u001b[0m\u001b[0m\n",
      "\u001b[1;31mValueError\u001b[0m: Undefined prefix 'base:'!"
     ]
    }
   ],
   "source": [
    "list(world.sparql(\"\"\"\n",
    "           SELECT ?x ?y\n",
    "           WHERE { ?x base:mi ?z }\"\"\"))"
   ]
  },
  {
   "cell_type": "code",
   "execution_count": 5,
   "id": "2022c96b-0179-423a-8696-c603d6db7efc",
   "metadata": {
    "execution": {
     "iopub.execute_input": "2022-06-14T00:56:29.677005Z",
     "iopub.status.busy": "2022-06-14T00:56:29.677005Z",
     "iopub.status.idle": "2022-06-14T00:56:29.680462Z",
     "shell.execute_reply": "2022-06-14T00:56:29.680068Z",
     "shell.execute_reply.started": "2022-06-14T00:56:29.677005Z"
    },
    "tags": []
   },
   "outputs": [],
   "source": [
    "#mass3 = onto.Mass('m3')"
   ]
  },
  {
   "cell_type": "code",
   "execution_count": 10,
   "id": "40fe479c-2344-485f-a0ee-dd583f3b06db",
   "metadata": {
    "execution": {
     "iopub.execute_input": "2022-06-14T00:56:43.810710Z",
     "iopub.status.busy": "2022-06-14T00:56:43.810710Z",
     "iopub.status.idle": "2022-06-14T00:56:43.824961Z",
     "shell.execute_reply": "2022-06-14T00:56:43.824773Z",
     "shell.execute_reply.started": "2022-06-14T00:56:43.810710Z"
    },
    "tags": []
   },
   "outputs": [],
   "source": [
    "onto2 = get_ontology(\"http://inferrences/\")"
   ]
  },
  {
   "cell_type": "code",
   "execution_count": 11,
   "id": "69e3d69a-1894-4eab-b42c-056636fa8935",
   "metadata": {
    "execution": {
     "iopub.execute_input": "2022-06-14T00:56:44.098360Z",
     "iopub.status.busy": "2022-06-14T00:56:44.098360Z",
     "iopub.status.idle": "2022-06-14T00:56:44.531208Z",
     "shell.execute_reply": "2022-06-14T00:56:44.531054Z",
     "shell.execute_reply.started": "2022-06-14T00:56:44.098360Z"
    },
    "tags": []
   },
   "outputs": [
    {
     "name": "stderr",
     "output_type": "stream",
     "text": [
      "* Owlready2 * Running HermiT...\n",
      "    C:\\Program Files\\Java\\jdk-18.0.1.1\\bin\\java.exe -Xmx2000M -cp C:\\Users\\johan\\miniconda3\\envs\\mdo\\lib\\site-packages\\owlready2\\hermit;C:\\Users\\johan\\miniconda3\\envs\\mdo\\lib\\site-packages\\owlready2\\hermit\\HermiT.jar org.semanticweb.HermiT.cli.CommandLine -c -O -D -I file:///C:/Users/johan/AppData/Local/Temp/tmp7bopb27c -Y\n",
      "* Owlready2 * HermiT took 0.4160301685333252 seconds\n",
      "* Owlready * (NB: only changes on entities loaded in Python are shown, other changes are done but not listed)\n"
     ]
    }
   ],
   "source": [
    "with onto2:\n",
    "    sync_reasoner(infer_property_values = True)"
   ]
  },
  {
   "cell_type": "code",
   "execution_count": 12,
   "id": "b6b113ed-6989-4773-a442-b1d3fe167187",
   "metadata": {
    "execution": {
     "iopub.execute_input": "2022-06-14T00:56:46.415776Z",
     "iopub.status.busy": "2022-06-14T00:56:46.415776Z",
     "iopub.status.idle": "2022-06-14T00:56:46.433570Z",
     "shell.execute_reply": "2022-06-14T00:56:46.432575Z",
     "shell.execute_reply.started": "2022-06-14T00:56:46.415776Z"
    },
    "tags": []
   },
   "outputs": [],
   "source": [
    "onto2.save(file = \"test.owl\", format = \"ntriples\")"
   ]
  },
  {
   "cell_type": "code",
   "execution_count": 9,
   "id": "c4d6feb4-0fd4-4e83-8a96-3cd90ae259e7",
   "metadata": {
    "execution": {
     "iopub.execute_input": "2022-06-14T01:24:38.648228Z",
     "iopub.status.busy": "2022-06-14T01:24:38.648228Z",
     "iopub.status.idle": "2022-06-14T01:24:38.659916Z",
     "shell.execute_reply": "2022-06-14T01:24:38.659499Z",
     "shell.execute_reply.started": "2022-06-14T01:24:38.648228Z"
    },
    "tags": []
   },
   "outputs": [
    {
     "name": "stdout",
     "output_type": "stream",
     "text": [
      "<?xml version=\"1.0\"?>\n",
      "<rdf:RDF xmlns=\"http://www.semanticweb.org/johan/ontologies/2022/5/untitled-ontology-4#\"\n",
      "     xml:base=\"http://www.semanticweb.org/johan/ontologies/2022/5/untitled-ontology-4\"\n",
      "     xmlns:owl=\"http://www.w3.org/2002/07/owl#\"\n",
      "     xmlns:rdf=\"http://www.w3.org/1999/02/22-rdf-syntax-ns#\"\n",
      "     xmlns:xml=\"http://www.w3.org/XML/1998/namespace\"\n",
      "     xmlns:xsd=\"http://www.w3.org/2001/XMLSchema#\"\n",
      "     xmlns:rdfs=\"http://www.w3.org/2000/01/rdf-schema#\"\n",
      "     xmlns:untitled-ontology-4=\"http://www.semanticweb.org/johan/ontologies/2022/5/untitled-ontology-4#\">\n",
      "    <owl:Ontology rdf:about=\"http://www.semanticweb.org/johan/ontologies/2022/5/untitled-ontology-4\"/>\n",
      "    \n",
      "\n",
      "\n",
      "    <!-- \n",
      "    ///////////////////////////////////////////////////////////////////////////////////////\n",
      "    //\n",
      "    // Object Properties\n",
      "    //\n",
      "    ///////////////////////////////////////////////////////////////////////////////////////\n",
      "     -->\n",
      "\n",
      "    \n",
      "\n",
      "\n",
      "    <!-- http://www.semanticweb.org/johan/ontologies/2022/5/untitled-ontology-4#inputs -->\n",
      "\n",
      "    <owl:ObjectProperty rdf:about=\"http://www.semanticweb.org/johan/ontologies/2022/5/untitled-ontology-4#inputs\">\n",
      "        <rdfs:domain rdf:resource=\"http://www.semanticweb.org/johan/ontologies/2022/5/untitled-ontology-4#ExplicitEquation\"/>\n",
      "        <rdfs:range rdf:resource=\"http://www.semanticweb.org/johan/ontologies/2022/5/untitled-ontology-4#Quantity\"/>\n",
      "    </owl:ObjectProperty>\n",
      "    \n",
      "\n",
      "\n",
      "    <!-- http://www.semanticweb.org/johan/ontologies/2022/5/untitled-ontology-4#mi -->\n",
      "\n",
      "    <owl:ObjectProperty rdf:about=\"http://www.semanticweb.org/johan/ontologies/2022/5/untitled-ontology-4#mi\">\n",
      "        <rdfs:subPropertyOf rdf:resource=\"http://www.semanticweb.org/johan/ontologies/2022/5/untitled-ontology-4#inputs\"/>\n",
      "        <rdfs:domain rdf:resource=\"http://www.semanticweb.org/johan/ontologies/2022/5/untitled-ontology-4#RocketEquation\"/>\n",
      "        <rdfs:range rdf:resource=\"http://www.semanticweb.org/johan/ontologies/2022/5/untitled-ontology-4#Mass\"/>\n",
      "    </owl:ObjectProperty>\n",
      "    \n",
      "\n",
      "\n",
      "    <!-- \n",
      "    ///////////////////////////////////////////////////////////////////////////////////////\n",
      "    //\n",
      "    // Data properties\n",
      "    //\n",
      "    ///////////////////////////////////////////////////////////////////////////////////////\n",
      "     -->\n",
      "\n",
      "    \n",
      "\n",
      "\n",
      "    <!-- http://www.semanticweb.org/johan/ontologies/2022/5/untitled-ontology-4#unit -->\n",
      "\n",
      "    <owl:DatatypeProperty rdf:about=\"http://www.semanticweb.org/johan/ontologies/2022/5/untitled-ontology-4#unit\">\n",
      "        <rdfs:domain rdf:resource=\"http://www.semanticweb.org/johan/ontologies/2022/5/untitled-ontology-4#Quantity\"/>\n",
      "        <rdfs:range rdf:resource=\"http://www.w3.org/2001/XMLSchema#string\"/>\n",
      "    </owl:DatatypeProperty>\n",
      "    \n",
      "\n",
      "\n",
      "    <!-- \n",
      "    ///////////////////////////////////////////////////////////////////////////////////////\n",
      "    //\n",
      "    // Classes\n",
      "    //\n",
      "    ///////////////////////////////////////////////////////////////////////////////////////\n",
      "     -->\n",
      "\n",
      "    \n",
      "\n",
      "\n",
      "    <!-- http://www.semanticweb.org/johan/ontologies/2022/5/untitled-ontology-4#ExplicitEquation -->\n",
      "\n",
      "    <owl:Class rdf:about=\"http://www.semanticweb.org/johan/ontologies/2022/5/untitled-ontology-4#ExplicitEquation\"/>\n",
      "    \n",
      "\n",
      "\n",
      "    <!-- http://www.semanticweb.org/johan/ontologies/2022/5/untitled-ontology-4#Mass -->\n",
      "\n",
      "    <owl:Class rdf:about=\"http://www.semanticweb.org/johan/ontologies/2022/5/untitled-ontology-4#Mass\">\n",
      "        <owl:equivalentClass>\n",
      "            <owl:Restriction>\n",
      "                <owl:onProperty rdf:resource=\"http://www.semanticweb.org/johan/ontologies/2022/5/untitled-ontology-4#unit\"/>\n",
      "                <owl:hasValue rdf:datatype=\"http://www.w3.org/2001/XMLSchema#string\">kg</owl:hasValue>\n",
      "            </owl:Restriction>\n",
      "        </owl:equivalentClass>\n",
      "        <rdfs:subClassOf rdf:resource=\"http://www.semanticweb.org/johan/ontologies/2022/5/untitled-ontology-4#Quantity\"/>\n",
      "        <rdfs:subClassOf>\n",
      "            <owl:Restriction>\n",
      "                <owl:onProperty rdf:resource=\"http://www.semanticweb.org/johan/ontologies/2022/5/untitled-ontology-4#unit\"/>\n",
      "                <owl:hasValue rdf:datatype=\"http://www.w3.org/2001/XMLSchema#string\">kg</owl:hasValue>\n",
      "            </owl:Restriction>\n",
      "        </rdfs:subClassOf>\n",
      "    </owl:Class>\n",
      "    \n",
      "\n",
      "\n",
      "    <!-- http://www.semanticweb.org/johan/ontologies/2022/5/untitled-ontology-4#Quantity -->\n",
      "\n",
      "    <owl:Class rdf:about=\"http://www.semanticweb.org/johan/ontologies/2022/5/untitled-ontology-4#Quantity\"/>\n",
      "    \n",
      "\n",
      "\n",
      "    <!-- http://www.semanticweb.org/johan/ontologies/2022/5/untitled-ontology-4#RocketEquation -->\n",
      "\n",
      "    <owl:Class rdf:about=\"http://www.semanticweb.org/johan/ontologies/2022/5/untitled-ontology-4#RocketEquation\">\n",
      "        <rdfs:subClassOf rdf:resource=\"http://www.semanticweb.org/johan/ontologies/2022/5/untitled-ontology-4#ExplicitEquation\"/>\n",
      "    </owl:Class>\n",
      "    \n",
      "\n",
      "\n",
      "    <!-- \n",
      "    ///////////////////////////////////////////////////////////////////////////////////////\n",
      "    //\n",
      "    // Individuals\n",
      "    //\n",
      "    ///////////////////////////////////////////////////////////////////////////////////////\n",
      "     -->\n",
      "\n",
      "    \n",
      "\n",
      "\n",
      "    <!-- http://www.semanticweb.org/johan/ontologies/2022/5/untitled-ontology-4#eq1 -->\n",
      "\n",
      "    <owl:NamedIndividual rdf:about=\"http://www.semanticweb.org/johan/ontologies/2022/5/untitled-ontology-4#eq1\">\n",
      "        <rdf:type rdf:resource=\"http://www.semanticweb.org/johan/ontologies/2022/5/untitled-ontology-4#RocketEquation\"/>\n",
      "        <mi rdf:resource=\"http://www.semanticweb.org/johan/ontologies/2022/5/untitled-ontology-4#m1\"/>\n",
      "    </owl:NamedIndividual>\n",
      "    \n",
      "\n",
      "\n",
      "    <!-- http://www.semanticweb.org/johan/ontologies/2022/5/untitled-ontology-4#m1 -->\n",
      "\n",
      "    <owl:NamedIndividual rdf:about=\"http://www.semanticweb.org/johan/ontologies/2022/5/untitled-ontology-4#m1\">\n",
      "        <rdf:type rdf:resource=\"http://www.semanticweb.org/johan/ontologies/2022/5/untitled-ontology-4#Mass\"/>\n",
      "    </owl:NamedIndividual>\n",
      "    \n",
      "\n",
      "\n",
      "    <!-- http://www.semanticweb.org/johan/ontologies/2022/5/untitled-ontology-4#m2 -->\n",
      "\n",
      "    <owl:NamedIndividual rdf:about=\"http://www.semanticweb.org/johan/ontologies/2022/5/untitled-ontology-4#m2\">\n",
      "        <rdf:type rdf:resource=\"http://www.semanticweb.org/johan/ontologies/2022/5/untitled-ontology-4#Mass\"/>\n",
      "    </owl:NamedIndividual>\n",
      "</rdf:RDF>\n",
      "\n",
      "\n",
      "\n",
      "<!-- Generated by the OWL API (version 4.5.9.2019-02-01T07:24:44Z) https://github.com/owlcs/owlapi -->\n",
      "\n",
      "\n"
     ]
    }
   ],
   "source": [
    "with open('quantities.owl', 'r') as f:\n",
    "    print(f.read())"
   ]
  },
  {
   "cell_type": "code",
   "execution_count": 14,
   "id": "5b156e56-9ad7-496c-b535-3b53f35f7326",
   "metadata": {
    "execution": {
     "iopub.execute_input": "2022-06-13T23:08:17.834575Z",
     "iopub.status.busy": "2022-06-13T23:08:17.834575Z",
     "iopub.status.idle": "2022-06-13T23:08:17.846046Z",
     "shell.execute_reply": "2022-06-13T23:08:17.845131Z",
     "shell.execute_reply.started": "2022-06-13T23:08:17.834575Z"
    },
    "tags": []
   },
   "outputs": [
    {
     "data": {
      "text/plain": [
       "[onto.SingleActivePrincipleDrug]"
      ]
     },
     "execution_count": 14,
     "metadata": {},
     "output_type": "execute_result"
    }
   ],
   "source": [
    "onto2.get_parents_of(drug1)"
   ]
  },
  {
   "cell_type": "code",
   "execution_count": 11,
   "id": "621b2b8a-49d5-4868-bd29-aaff678605bc",
   "metadata": {
    "execution": {
     "iopub.execute_input": "2022-06-13T23:06:15.607604Z",
     "iopub.status.busy": "2022-06-13T23:06:15.606417Z",
     "iopub.status.idle": "2022-06-13T23:06:15.778315Z",
     "shell.execute_reply": "2022-06-13T23:06:15.777318Z",
     "shell.execute_reply.started": "2022-06-13T23:06:15.607604Z"
    },
    "tags": []
   },
   "outputs": [
    {
     "ename": "TypeError",
     "evalue": "'NoneType' object is not callable",
     "output_type": "error",
     "traceback": [
      "\u001b[1;31m---------------------------------------------------------------------------\u001b[0m",
      "\u001b[1;31mTypeError\u001b[0m                                 Traceback (most recent call last)",
      "\u001b[1;32m~\\AppData\\Local\\Temp/ipykernel_39768/789823226.py\u001b[0m in \u001b[0;36m<module>\u001b[1;34m\u001b[0m\n\u001b[1;32m----> 1\u001b[1;33m \u001b[0mlist\u001b[0m\u001b[1;33m(\u001b[0m\u001b[0monto2\u001b[0m\u001b[1;33m.\u001b[0m\u001b[0mget_namepace\u001b[0m\u001b[1;33m(\u001b[0m\u001b[1;33m)\u001b[0m\u001b[1;33m)\u001b[0m\u001b[1;33m\u001b[0m\u001b[1;33m\u001b[0m\u001b[0m\n\u001b[0m",
      "\u001b[1;31mTypeError\u001b[0m: 'NoneType' object is not callable"
     ]
    }
   ],
   "source": [
    "list(onto2.get_namepace())"
   ]
  },
  {
   "cell_type": "code",
   "execution_count": 2,
   "id": "0bb6480a-73dd-4aeb-be76-b60e57249f7b",
   "metadata": {
    "execution": {
     "iopub.execute_input": "2022-06-13T23:53:04.220856Z",
     "iopub.status.busy": "2022-06-13T23:53:04.220856Z",
     "iopub.status.idle": "2022-06-13T23:53:04.234813Z",
     "shell.execute_reply": "2022-06-13T23:53:04.234813Z",
     "shell.execute_reply.started": "2022-06-13T23:53:04.220856Z"
    },
    "tags": []
   },
   "outputs": [],
   "source": [
    "# world = World()\n",
    "# onto = world.get_ontology(\"http://test.org/onto.owl\")\n",
    "\n",
    "# with onto:\n",
    "#     class Quantity(Thing):\n",
    "#         pass\n",
    "    \n",
    "#     class KG(Thing):\n",
    "#         pass\n",
    "        \n",
    "#     class unit(Quantity >> Thing):\n",
    "#         pass\n",
    "    \n",
    "#     class magnitude(Quantity >> float):\n",
    "#         pass\n",
    "    \n",
    "#     class Mass(Quantity):\n",
    "#         equivalent_to = [Quantity & unit.exactly(1, KG)]\n",
    "\n",
    "# #     class Placebo(Drug):\n",
    "# #         equivalent_to = [Drug & Not(has_for_active_principle.some(ActivePrinciple))]\n",
    "# #         def take(self): print(\"I took a placebo\")\n",
    "\n",
    "# #     class SingleActivePrincipleDrug(Drug):\n",
    "# #         equivalent_to = [Drug & has_for_active_principle.exactly(1, ActivePrinciple)]\n",
    "# #         def take(self): print(\"I took a drug with a single active principle\")\n",
    "\n",
    "# #     class DrugAssociation(Drug):\n",
    "# #         equivalent_to = [Drug & has_for_active_principle.min(2, ActivePrinciple)]\n",
    "# #         def take(self): print(\"I took a drug with %s active principles\" % len(self.active_principles))"
   ]
  },
  {
   "cell_type": "code",
   "execution_count": null,
   "id": "78a40be9-a173-4ecd-bded-2f87bc1c8cd6",
   "metadata": {},
   "outputs": [],
   "source": []
  }
 ],
 "metadata": {
  "kernelspec": {
   "display_name": "Python [conda env:mdo]",
   "language": "python",
   "name": "conda-env-mdo-py"
  },
  "language_info": {
   "codemirror_mode": {
    "name": "ipython",
    "version": 3
   },
   "file_extension": ".py",
   "mimetype": "text/x-python",
   "name": "python",
   "nbconvert_exporter": "python",
   "pygments_lexer": "ipython3",
   "version": "3.9.7"
  }
 },
 "nbformat": 4,
 "nbformat_minor": 5
}
