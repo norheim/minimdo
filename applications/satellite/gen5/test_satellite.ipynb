{
 "cells": [
  {
   "cell_type": "code",
   "execution_count": 15,
   "metadata": {},
   "outputs": [],
   "source": [
    "from engine.torchengine import AnalyticalSet, Function, EliminateAnalysis, EliminateAnalysisMergeResiduals, ParallelResiduals, ElimResidual\n",
    "from engine.torchdata import load_vals, ExpandVector, transfer_value\n",
    "import torch\n",
    "import numpy as np\n",
    "# Set the print options\n",
    "np.set_printoptions(formatter={'float': lambda x: \"{:0.2f}\".format(x).rstrip('0').rstrip('.')})"
   ]
  },
  {
   "cell_type": "markdown",
   "metadata": {},
   "source": [
    "### Orbit calculations (feed forward)"
   ]
  },
  {
   "cell_type": "code",
   "execution_count": 2,
   "metadata": {},
   "outputs": [],
   "source": [
    "mu, Rearth = 3.986e14, 6378\n",
    "analysis1 = (('h',), ('a',), lambda h: (h+Rearth)*1e3)\n",
    "analysis2 = (('a',), ('T',), lambda a: 2*np.pi*(a**3/mu)**0.5)\n",
    "analysis3 = (('a',), ('g',), lambda a: 1/np.pi*np.arccos(Rearth*1e3/a))\n",
    "analysis4 = (('g',), ('d',), lambda g: g+0.5)\n",
    "analysis5 = (('h',), ('r',), lambda h: (h**2+2*Rearth*h)**0.5)\n",
    "\n",
    "varorder = ['h', 'x', 'R', 'a', 'y', 'T', 'g', 'd', 'r']\n",
    "indices = {elt: torch.tensor([i]) for i, elt in enumerate(varorder)}"
   ]
  },
  {
   "cell_type": "code",
   "execution_count": 3,
   "metadata": {},
   "outputs": [],
   "source": [
    "x0 = load_vals({'h': 200, 'a': 1.1*Rearth*1e3, 'g':0.1}, indices, isdict=True)\n",
    "set1 = AnalyticalSet(analysis1, indices)\n",
    "set2 = AnalyticalSet(analysis2, indices)\n",
    "set3 = AnalyticalSet(analysis3, indices)\n",
    "set4 = AnalyticalSet(analysis4, indices)\n",
    "set5 = AnalyticalSet(analysis5, indices)\n",
    "obj = Function((('r',), lambda r: r), indices)"
   ]
  },
  {
   "cell_type": "code",
   "execution_count": 4,
   "metadata": {},
   "outputs": [],
   "source": [
    "class AnalyticalSetRaw():\n",
    "    def __init__(self, analysis, residuals, outputs) -> None:\n",
    "        self.analysis = analysis\n",
    "        self.residual = residuals\n",
    "        self.outputs = outputs"
   ]
  },
  {
   "cell_type": "code",
   "execution_count": 5,
   "metadata": {},
   "outputs": [
    {
     "data": {
      "text/plain": [
       "array([200, 0, 0, 6578000, 0, 5309.48, 0.08, 0.58, 1609.72])"
      ]
     },
     "execution_count": 5,
     "metadata": {},
     "output_type": "execute_result"
    }
   ],
   "source": [
    "orbit_analysis = EliminateAnalysis([set1.analysis, set2.analysis, set3.analysis, set4.analysis, set5.analysis])\n",
    "orbit_residuals = EliminateAnalysisMergeResiduals(functions=[set1.residual, set2.residual, set3.residual, set4.residual, set5.residual])\n",
    "all_outputs = [s.analysis.structure[1] for s in [set1, set2, set3, set4, set5]]\n",
    "Orbit = AnalyticalSetRaw(orbit_analysis, orbit_residuals, all_outputs) # Maybe should be indices too?\n",
    "Orbit.analysis(x0).numpy()"
   ]
  },
  {
   "cell_type": "code",
   "execution_count": 6,
   "metadata": {},
   "outputs": [
    {
     "data": {
      "text/plain": [
       "array([200, 0, 0, 7015800, 0, 0, 0.1, 0, 0])"
      ]
     },
     "execution_count": 6,
     "metadata": {},
     "output_type": "execute_result"
    }
   ],
   "source": [
    "x0.numpy()"
   ]
  },
  {
   "cell_type": "code",
   "execution_count": 7,
   "metadata": {},
   "outputs": [],
   "source": [
    "inputvar = 'h'\n",
    "indices_in = {inputvar: indices[inputvar]}\n",
    "mdf_inputs = ExpandVector(indices_in, indices)\n",
    "MDF = EliminateAnalysis([mdf_inputs, Orbit.analysis], [obj], flatten=True)\n",
    "IDF = ParallelResiduals([Orbit.analysis], [obj])"
   ]
  },
  {
   "cell_type": "code",
   "execution_count": 8,
   "metadata": {},
   "outputs": [
    {
     "data": {
      "text/plain": [
       "tensor([1609.7205])"
      ]
     },
     "execution_count": 8,
     "metadata": {},
     "output_type": "execute_result"
    }
   ],
   "source": [
    "MDF(torch.tensor([200.]))"
   ]
  },
  {
   "cell_type": "code",
   "execution_count": 9,
   "metadata": {},
   "outputs": [
    {
     "data": {
      "text/plain": [
       "[tensor([1609.7205], dtype=torch.float64),\n",
       " tensor([0., 0., 0., 0., 0.], dtype=torch.float64)]"
      ]
     },
     "execution_count": 9,
     "metadata": {},
     "output_type": "execute_result"
    }
   ],
   "source": [
    "IDF(Orbit.analysis(x0))"
   ]
  },
  {
   "cell_type": "code",
   "execution_count": 10,
   "metadata": {},
   "outputs": [
    {
     "data": {
      "text/plain": [
       "array([-437800, 5309.48, -0.02, 0.58, 1609.72])"
      ]
     },
     "execution_count": 10,
     "metadata": {},
     "output_type": "execute_result"
    }
   ],
   "source": [
    "IDF(x0)[1].numpy()"
   ]
  },
  {
   "cell_type": "markdown",
   "metadata": {},
   "source": [
    "### Mass calculations"
   ]
  },
  {
   "cell_type": "code",
   "execution_count": 18,
   "metadata": {},
   "outputs": [],
   "source": [
    "varorder = ['mt', 'ms', 'mp']\n",
    "indices = {elt: torch.tensor([i]) for i, elt in enumerate(varorder)}\n",
    "\n",
    "analysis6 = (('mt',), ('ms',), lambda mt: 0.2*mt)\n",
    "analysis7 = (('ms','mp'), ('mt',), lambda ms, mp: 0.2*ms+mp)\n",
    "ineqcon1 = (('mp',), lambda mp: -mp/0.5+1)\n",
    "objfunc = (('mt',), lambda mt: mt)\n",
    "\n",
    "set6 = AnalyticalSet(analysis6, indices)\n",
    "set7 = AnalyticalSet(analysis7, indices)\n",
    "con1 = Function(ineqcon1, indices)\n",
    "obj = Function(objfunc, indices)\n",
    "\n",
    "coupled = EliminateAnalysisMergeResiduals(functions=[set6.residual, set7.residual])\n",
    "solver = ElimResidual(coupled, solvefor=['mt','ms'], indices=indices)\n",
    "obj_mp = EliminateAnalysis([solver], [obj], flatten=True)"
   ]
  },
  {
   "cell_type": "code",
   "execution_count": 22,
   "metadata": {},
   "outputs": [
    {
     "data": {
      "text/plain": [
       "tensor([0.7292])"
      ]
     },
     "execution_count": 22,
     "metadata": {},
     "output_type": "execute_result"
    }
   ],
   "source": [
    "x = torch.tensor([1.,2.,0.7])\n",
    "obj_mp(x)"
   ]
  },
  {
   "cell_type": "code",
   "execution_count": 23,
   "metadata": {},
   "outputs": [
    {
     "data": {
      "text/plain": [
       "array([0.73, 0.15, 0.7], dtype=float32)"
      ]
     },
     "execution_count": 23,
     "metadata": {},
     "output_type": "execute_result"
    }
   ],
   "source": [
    "x.numpy()"
   ]
  },
  {
   "cell_type": "markdown",
   "metadata": {},
   "source": [
    "### Local / global variables"
   ]
  },
  {
   "cell_type": "code",
   "execution_count": 11,
   "metadata": {},
   "outputs": [],
   "source": [
    "indices1ex = {\n",
    "    'x': torch.tensor([0, 1, 2]),\n",
    "    'a1': torch.tensor([3, 4]),\n",
    "    'a2': torch.tensor([5])\n",
    "}\n",
    "indices2ex = {\n",
    "    'x': torch.tensor([0, 3, 4]),\n",
    "    'u1': torch.tensor([1, 2]),\n",
    "    'u2': torch.tensor([5, 6]),\n",
    "    'a1': torch.tensor([7, 8]),\n",
    "}\n",
    "indices2ex_len = len(torch.cat(tuple(indices2ex.values())))\n",
    "copy_over_indices = ['x']\n",
    "copy_indices_tuple = [(indices1ex[key], indices2ex[key]) for key in copy_over_indices]"
   ]
  },
  {
   "cell_type": "code",
   "execution_count": 12,
   "metadata": {},
   "outputs": [],
   "source": [
    "xin = load_vals({'x': torch.tensor([1.,2,3]), 'a1': torch.tensor([4.,5])}, indices1ex, isdict=True)\n",
    "xzero = torch.empty(indices2ex_len, dtype=xin.dtype)\n",
    "xout = transfer_value(xin, xzero, copy_indices_tuple)"
   ]
  },
  {
   "cell_type": "code",
   "execution_count": 13,
   "metadata": {},
   "outputs": [
    {
     "data": {
      "text/plain": [
       "array([1, 0, 0, 2, 3, 0, 0, 0, 0])"
      ]
     },
     "execution_count": 13,
     "metadata": {},
     "output_type": "execute_result"
    }
   ],
   "source": [
    "xout.numpy()"
   ]
  },
  {
   "cell_type": "code",
   "execution_count": 14,
   "metadata": {},
   "outputs": [
    {
     "data": {
      "text/plain": [
       "array([1, 0, 0, 2, 3, 0, 0, 1, 2])"
      ]
     },
     "execution_count": 14,
     "metadata": {},
     "output_type": "execute_result"
    }
   ],
   "source": [
    "set1 = AnalyticalSet((('x',), ('a1',), lambda x: (x[:2],)), indices2ex)\n",
    "set1.analysis(xout).numpy()"
   ]
  },
  {
   "cell_type": "markdown",
   "metadata": {},
   "source": [
    "### Desired modeling syntax"
   ]
  },
  {
   "cell_type": "code",
   "execution_count": null,
   "metadata": {},
   "outputs": [],
   "source": [
    "Orbit = AnalysisIntersection() # we cannot know what the shared variables will be until all have sets have been added. This is why .analysis and .residual need to be calculated at runtime\n",
    "\n",
    "h = Var('h', 400e3) \n",
    "a = Orbit.Var('a', h + R, setid=1)\n",
    "T = Orbit.Var('T', 2*np.pi*(a**3/μ)**0.5, setid=2)\n",
    "g = Orbit.Var('g', 1/np.pi*sp.acos(R/a), setid=3)\n",
    "d = Orbit.Var('d', g+0.5, setid=4)\n",
    "r = Orbit.Var('r', (h**2+2*R*h)**0.5, setid=5)\n",
    "\n",
    "Power = AnalysisIntersection()\n",
    "eta_A = Par(r'\\eta_A', 0.3)\n",
    "rho_A = Par(r'\\rho_A', 10) \n",
    "rho_b = Par(r'\\rho_b', 0.002)\n",
    "P_l = Par('P_l', 12, 'W')\n",
    "A = Var('A', 0.05)\n",
    "m_A = Power.Var('m_A', rho_A*A, setid=6)\n",
    "P_c = Power.Var('P_c', d*A*Q*eta_A, setid=7)\n",
    "P_T = Power.Var('P_T', P_c-P_l, setid=8) \n",
    "E_b = Power.Var('E_b', P_c*T/d, setid=9)\n",
    "m_b = Power.Var('m_b', rho_b*E_b, setid=10)\n",
    "\n",
    "Payload = AnalysisIntersection()\n",
    "X_r = Var('X_r', 5)\n",
    "rho_p = Par(r'\\rho_p', 2) \n",
    "l_v = Par('l_v', 500, 'nm')\n",
    "B = Par('B', 8)\n",
    "N = Par('N', 2000)\n",
    "D_p = Payload.Var('D_p', 1.22*l_v*h/X_r, setid=11)\n",
    "D = Payload.Var('D', 2*np.pi*R*B*N/X_r, setid=12)\n",
    "m_p = Payload.Var('m_p', rho_p*D_p**1.5, setid=13)\n",
    "\n",
    "# Optimization relevant functions. These are needed for IDF/MDF\n",
    "ineq = [Xr - 5]\n",
    "obj = m_p + m_b\n",
    "\n",
    "# IDF would find shared variables accross all analyses and then generate\n",
    "# the equality constraints. The resulting form (when using information form one level below) would look like:\n",
    "([1,2,4,7,9,11,12], 3, 5, 6, 8, 10, 13)"
   ]
  }
 ],
 "metadata": {
  "kernelspec": {
   "display_name": "minimdo",
   "language": "python",
   "name": "python3"
  },
  "language_info": {
   "codemirror_mode": {
    "name": "ipython",
    "version": 3
   },
   "file_extension": ".py",
   "mimetype": "text/x-python",
   "name": "python",
   "nbconvert_exporter": "python",
   "pygments_lexer": "ipython3",
   "version": "3.9.18"
  }
 },
 "nbformat": 4,
 "nbformat_minor": 2
}
