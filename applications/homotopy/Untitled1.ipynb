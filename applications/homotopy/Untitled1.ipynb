{
 "cells": [
  {
   "cell_type": "code",
   "execution_count": 1,
   "id": "af24bf56-66f7-43d8-918d-b31162835a93",
   "metadata": {},
   "outputs": [
    {
     "name": "stdout",
     "output_type": "stream",
     "text": [
      "\u001b[32mTracking 5 paths... 100%|███████████████████████████████| Time: 0:00:08\u001b[39m\n",
      "\u001b[34m  # paths tracked:                  5\u001b[39m\n",
      "\u001b[34m  # non-singular solutions (real):  4 (2)\u001b[39m\n",
      "\u001b[34m  # singular endpoints (real):      0 (0)\u001b[39m\n",
      "\u001b[34m  # total solutions (real):         4 (2)\u001b[39m\n"
     ]
    },
    {
     "data": {
      "text/plain": [
       "Result with 4 solutions\n",
       "=======================\n",
       "• 5 paths tracked\n",
       "• 4 non-singular solutions (2 real)\n",
       "• random_seed: 0x7f08fa3f\n",
       "• start_system: :polyhedral\n"
      ]
     },
     "execution_count": 1,
     "metadata": {},
     "output_type": "execute_result"
    }
   ],
   "source": [
    "using HomotopyContinuation\n",
    "# declare variables x and y\n",
    "@var x y a l1 l2 l3 k\n",
    "# define the polynomials\n",
    "f1 = -l1+l2/2\n",
    "f2 = 1-l2+2*l1*y\n",
    "f3 = 1+a*l3\n",
    "f4 = -l1+k*l3\n",
    "f5 = y^2-a-x\n",
    "f6 = x/2-y\n",
    "f7 = k*a-1\n",
    "F = System([f1, f2, f3, f4, f5, f6, f7])\n",
    "result = solve(F)"
   ]
  },
  {
   "cell_type": "code",
   "execution_count": 2,
   "id": "8b21362c-ba2d-4712-9e33-9cd4e3513715",
   "metadata": {},
   "outputs": [
    {
     "data": {
      "text/plain": [
       "2-element Vector{Vector{Float64}}:\n",
       " [-0.8619825682693073, -1.1601162677892718, -1.3458697547893095, -2.691739509578619, 1.1601162677892718, 2.7430139480001507, 1.3715069740000754]\n",
       " [1.8350866816396356, 0.5449333865289174, -0.2969523957538746, -0.5939047915077492, -0.5449333865289175, 5.367543129131168, 2.683771564565584]"
      ]
     },
     "execution_count": 2,
     "metadata": {},
     "output_type": "execute_result"
    }
   ],
   "source": [
    "sol = real_solutions(result)"
   ]
  },
  {
   "cell_type": "code",
   "execution_count": 7,
   "id": "87e5272f-ceee-4331-ae1c-4f74d0a65917",
   "metadata": {},
   "outputs": [
    {
     "data": {
      "text/plain": [
       "Dict{Variable, Float64} with 7 entries:\n",
       "  l1 => -1.34587\n",
       "  y  => 1.37151\n",
       "  l3 => 1.16012\n",
       "  a  => -0.861983\n",
       "  l2 => -2.69174\n",
       "  k  => -1.16012\n",
       "  x  => 2.74301"
      ]
     },
     "execution_count": 7,
     "metadata": {},
     "output_type": "execute_result"
    }
   ],
   "source": [
    "d = Dict(i => j for (i, j) in zip(F.variables, sol[1]))"
   ]
  },
  {
   "cell_type": "code",
   "execution_count": 8,
   "id": "2d1a2dda-d3a9-4272-bda4-ab161eef18f6",
   "metadata": {},
   "outputs": [
    {
     "data": {
      "text/plain": [
       "0.21139070621080358"
      ]
     },
     "execution_count": 8,
     "metadata": {},
     "output_type": "execute_result"
    }
   ],
   "source": [
    "d[y]+1/d[a]"
   ]
  },
  {
   "cell_type": "code",
   "execution_count": 47,
   "id": "aeb79fd3-e758-4456-a9f8-2e6d7bb8a85f",
   "metadata": {},
   "outputs": [
    {
     "data": {
      "text/plain": [
       "1×5 Matrix{Float64}:\n",
       " -0.888889  2.66667  1.33333  -1.33333  -2.66667"
      ]
     },
     "execution_count": 47,
     "metadata": {},
     "output_type": "execute_result"
    }
   ],
   "source": [
    "[d[vr] for vr in [a x y l1 l2]]"
   ]
  },
  {
   "cell_type": "code",
   "execution_count": 48,
   "id": "d2e37040-c0cf-4b9d-8b58-946b14a0aaba",
   "metadata": {},
   "outputs": [
    {
     "data": {
      "text/plain": [
       "5-element Vector{Float64}:\n",
       " 0.0\n",
       " 0.0\n",
       " 0.0\n",
       " 0.0\n",
       " 0.0"
      ]
     },
     "execution_count": 48,
     "metadata": {},
     "output_type": "execute_result"
    }
   ],
   "source": [
    "F(sol[2])"
   ]
  },
  {
   "cell_type": "code",
   "execution_count": 35,
   "id": "dd6ecce1-60e4-42d4-8067-d10d63ed5a0b",
   "metadata": {},
   "outputs": [
    {
     "data": {
      "text/plain": [
       "2.6666666666666665"
      ]
     },
     "execution_count": 35,
     "metadata": {},
     "output_type": "execute_result"
    }
   ],
   "source": [
    "8/3"
   ]
  },
  {
   "cell_type": "code",
   "execution_count": null,
   "id": "aa0b3f40-86e6-4164-af70-1a767810a066",
   "metadata": {},
   "outputs": [],
   "source": []
  }
 ],
 "metadata": {
  "kernelspec": {
   "display_name": "Julia 1.7.2",
   "language": "julia",
   "name": "julia-1.7"
  },
  "language_info": {
   "file_extension": ".jl",
   "mimetype": "application/julia",
   "name": "julia",
   "version": "1.7.2"
  }
 },
 "nbformat": 4,
 "nbformat_minor": 5
}
