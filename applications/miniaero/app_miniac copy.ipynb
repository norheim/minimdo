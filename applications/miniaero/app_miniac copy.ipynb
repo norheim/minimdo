{
 "cells": [
  {
   "cell_type": "markdown",
   "id": "25490482",
   "metadata": {},
   "source": [
    "## foundations version of Aircraft sizing"
   ]
  },
  {
   "cell_type": "code",
   "execution_count": 1,
   "id": "006779df",
   "metadata": {},
   "outputs": [],
   "source": [
    "from modeling.compute import Par, Var\n",
    "from modeling.gen2.execution import Component\n",
    "from foundations.functionalsets import FunctionalComp"
   ]
  },
  {
   "cell_type": "code",
   "execution_count": 8,
   "id": "49056730",
   "metadata": {
    "execution": {
     "iopub.execute_input": "2021-10-14T17:59:17.634445Z",
     "iopub.status.busy": "2021-10-14T17:59:17.633447Z",
     "iopub.status.idle": "2021-10-14T17:59:17.963447Z",
     "shell.execute_reply": "2021-10-14T17:59:17.962446Z",
     "shell.execute_reply.started": "2021-10-14T17:59:17.634445Z"
    }
   },
   "outputs": [],
   "source": [
    "A = Var('A') # aspect ratio (unitless)\n",
    "V = Var('V', unit='m/s')\n",
    "S = Var('S', unit='m^2')\n",
    "W = Var('W')\n",
    "Ww = Var('W_w', unit='N', forceunit=True)\n",
    "\n",
    "W0 = Par('W0', 4940, 'N')\n",
    "N = Par('N', 2.5)\n",
    "t = Par('t', 0.12, 'm')\n",
    "rhoS = Par('rhoS', 45.42, 'N/m^2')\n",
    "\n",
    "F1 = FunctionalComp(Component.fromsympy(\n",
    "    rhoS*S+8.71e-5*N/t*A**(3/2)*S**(1/2)*(W0*W)**(1/2), Ww, \n",
    "    arg_mapping=True))\n",
    "F2 = FunctionalComp(Component.fromsympy(\n",
    "    W0+Ww, W, \n",
    "    arg_mapping=True))\n",
    "\n",
    "StructSet = F1.projectable.merge(F2.projectable)#etc...\n",
    "Struct = StructSet.project((A,V,S, W0, N, t, rhoS))\n",
    "#Struct.solver = FeedForwardSolver([F1, F2])"
   ]
  },
  {
   "cell_type": "code",
   "execution_count": 9,
   "id": "a9150ac7",
   "metadata": {},
   "outputs": [],
   "source": [
    "y1 = {vr:vr.varval if vr.varval else 1.01 for vr in F1.projected}\n",
    "y2 = {vr:vr.varval if vr.varval else 1.01 for vr in F2.projected}"
   ]
  },
  {
   "cell_type": "code",
   "execution_count": 10,
   "id": "3475b4e6",
   "metadata": {},
   "outputs": [
    {
     "data": {
      "text/plain": [
       "({W_w: DeviceArray(46.00495064, dtype=float64)},\n",
       " {W: DeviceArray(4941.01, dtype=float64)})"
      ]
     },
     "execution_count": 10,
     "metadata": {},
     "output_type": "execute_result"
    }
   ],
   "source": [
    "F1.solve(y1),F2.solve(y2)"
   ]
  },
  {
   "cell_type": "code",
   "execution_count": 11,
   "id": "440d013a",
   "metadata": {},
   "outputs": [],
   "source": [
    "y3 = {vr:vr.varval if vr.varval else 1.01 for vr in Struct.projected}"
   ]
  },
  {
   "cell_type": "code",
   "execution_count": 12,
   "id": "ee475a94",
   "metadata": {},
   "outputs": [
    {
     "data": {
      "text/plain": [
       "{A: 1.01, V: 1.01, S: 1.01, W0: 4940, N: 2.5, t: 0.12, rhoS: 45.42}"
      ]
     },
     "execution_count": 12,
     "metadata": {},
     "output_type": "execute_result"
    }
   ],
   "source": [
    "y3"
   ]
  },
  {
   "cell_type": "code",
   "execution_count": 14,
   "id": "d3e6bc37",
   "metadata": {},
   "outputs": [],
   "source": [
    "z3 = Struct.solve(y3)"
   ]
  },
  {
   "cell_type": "code",
   "execution_count": 16,
   "id": "d745f22c",
   "metadata": {},
   "outputs": [
    {
     "data": {
      "text/plain": [
       "({W: 4995.069245788575, W_w: 55.06924578857531},\n",
       " {W_w: DeviceArray(55.06924579, dtype=float64)},\n",
       " {W: DeviceArray(4995.06924579, dtype=float64)})"
      ]
     },
     "execution_count": 16,
     "metadata": {},
     "output_type": "execute_result"
    }
   ],
   "source": [
    "z3, F1.solve({**y1, **z3}),F2.solve({**y2, **z3})"
   ]
  }
 ],
 "metadata": {
  "kernelspec": {
   "display_name": "Python 3 (ipykernel)",
   "language": "python",
   "name": "python3"
  },
  "language_info": {
   "codemirror_mode": {
    "name": "ipython",
    "version": 3
   },
   "file_extension": ".py",
   "mimetype": "text/x-python",
   "name": "python",
   "nbconvert_exporter": "python",
   "pygments_lexer": "ipython3",
   "version": "3.9.18"
  },
  "vscode": {
   "interpreter": {
    "hash": "a694de6fda351b2e6abf6df342a83029ffd7840d5f4e2b018751ced956a6df2b"
   }
  }
 },
 "nbformat": 4,
 "nbformat_minor": 5
}
