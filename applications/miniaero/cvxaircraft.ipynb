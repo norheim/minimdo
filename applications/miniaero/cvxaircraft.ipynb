{
 "cells": [
  {
   "cell_type": "code",
   "execution_count": 4,
   "metadata": {},
   "outputs": [],
   "source": [
    "import cvxpy as cp\n",
    "import numpy as np"
   ]
  },
  {
   "cell_type": "code",
   "execution_count": 5,
   "metadata": {},
   "outputs": [],
   "source": [
    "rho = 1.23\n",
    "mu = 1.78e-5\n",
    "SwetS = 2.05\n",
    "k = 1.2\n",
    "t = 0.12\n",
    "e = 0.96\n",
    "N = 2.5\n",
    "CDA = 0.0306\n",
    "W0 = 4940\n",
    "rhoS = 45.42\n",
    "#Vmin = gp.Variable('Vmin', 22, 'm/s')\n",
    "\n",
    "A = cp.Variable(pos=True)\n",
    "V = cp.Variable(pos=True)\n",
    "S = cp.Variable(pos=True)\n",
    "Re = cp.Variable(pos=True)\n",
    "Cf = cp.Variable(pos=True)\n",
    "CL = cp.Variable(pos=True)\n",
    "CD = cp.Variable(pos=True)\n",
    "D = cp.Variable(pos=True)\n",
    "W = cp.Variable(pos=True)\n",
    "Ww = cp.Variable(pos=True)\n",
    "Dmin = 1000\n",
    "\n",
    "f1 = Re == rho*V/mu*(S/A)**(1/2)\n",
    "f2 = Cf == 0.074/Re**0.2\n",
    "f3 = CD >= CDA/S+k*Cf*SwetS+CL**2/(np.pi*A*e)\n",
    "f4 = D == 0.5*rho*V**2*CD*S\n",
    "f5 = Ww >= rhoS*S+8.71e-5*N/t*A**(3/2)*S**(1/2)*(W0*W)**(1/2)\n",
    "f6 = W >= W0+Ww\n",
    "f7 = CL == 2*W/(rho*V**2*S)\n",
    "#f8 = 2.2 >= 2*W/(rho*Vmin**2*S)"
   ]
  },
  {
   "cell_type": "code",
   "execution_count": 6,
   "metadata": {},
   "outputs": [
    {
     "name": "stdout",
     "output_type": "stream",
     "text": [
      "===============================================================================\n",
      "                                     CVXPY                                     \n",
      "                                     v1.2.1                                    \n",
      "===============================================================================\n",
      "(CVXPY) Jun 12 05:09:22 PM: Your problem has 10 variables, 7 constraints, and 0 parameters.\n",
      "(CVXPY) Jun 12 05:09:22 PM: It is compliant with the following grammars: DGP\n",
      "(CVXPY) Jun 12 05:09:22 PM: (If you need to solve this problem multiple times, but with different data, consider using parameters.)\n",
      "(CVXPY) Jun 12 05:09:22 PM: CVXPY will first compile your problem; then, it will invoke a numerical solver to obtain a solution.\n",
      "-------------------------------------------------------------------------------\n",
      "                                  Compilation                                  \n",
      "-------------------------------------------------------------------------------\n",
      "(CVXPY) Jun 12 05:09:22 PM: Compiling problem (target solver=ECOS).\n",
      "(CVXPY) Jun 12 05:09:22 PM: Reduction chain: Dgp2Dcp -> Dcp2Cone -> CvxAttr2Constr -> ConeMatrixStuffing -> ECOS\n",
      "(CVXPY) Jun 12 05:09:22 PM: Applying reduction Dgp2Dcp\n",
      "(CVXPY) Jun 12 05:09:22 PM: Applying reduction Dcp2Cone\n",
      "(CVXPY) Jun 12 05:09:22 PM: Applying reduction CvxAttr2Constr\n",
      "(CVXPY) Jun 12 05:09:22 PM: Applying reduction ConeMatrixStuffing\n",
      "(CVXPY) Jun 12 05:09:22 PM: Applying reduction ECOS\n",
      "(CVXPY) Jun 12 05:09:22 PM: Finished problem compilation (took 4.986e-02 seconds).\n",
      "-------------------------------------------------------------------------------\n",
      "                                Numerical solver                               \n",
      "-------------------------------------------------------------------------------\n",
      "(CVXPY) Jun 12 05:09:22 PM: Invoking solver ECOS  to obtain a solution.\n",
      "-------------------------------------------------------------------------------\n",
      "                                    Summary                                    \n",
      "-------------------------------------------------------------------------------\n",
      "(CVXPY) Jun 12 05:09:22 PM: Problem status: optimal\n",
      "(CVXPY) Jun 12 05:09:22 PM: Optimal value: 2.423e+02\n",
      "(CVXPY) Jun 12 05:09:22 PM: Compilation took 4.986e-02 seconds\n",
      "(CVXPY) Jun 12 05:09:22 PM: Solver (including time spent in interface) took 4.452e-03 seconds\n"
     ]
    },
    {
     "data": {
      "text/plain": [
       "242.2747598143388"
      ]
     },
     "execution_count": 6,
     "metadata": {},
     "output_type": "execute_result"
    }
   ],
   "source": [
    "constraints= [f1, f2, f3, f4, f5, f6, f7]\n",
    "m = cp.Problem(cp.Minimize(D), [f1, f2, f3, f4, f5, f6, f7])\n",
    "m.solve(gp=True, verbose=True)"
   ]
  },
  {
   "cell_type": "code",
   "execution_count": 10,
   "metadata": {},
   "outputs": [
    {
     "data": {
      "text/plain": [
       "(18.163196063420866, 5.255565846441381, 49.18279398923337, 7083.575414304739)"
      ]
     },
     "execution_count": 10,
     "metadata": {},
     "output_type": "execute_result"
    }
   ],
   "source": [
    "A.value,S.value,V.value, W.value"
   ]
  },
  {
   "cell_type": "code",
   "execution_count": null,
   "metadata": {},
   "outputs": [],
   "source": []
  }
 ],
 "metadata": {
  "kernelspec": {
   "display_name": "minimdo",
   "language": "python",
   "name": "python3"
  },
  "language_info": {
   "codemirror_mode": {
    "name": "ipython",
    "version": 3
   },
   "file_extension": ".py",
   "mimetype": "text/x-python",
   "name": "python",
   "nbconvert_exporter": "python",
   "pygments_lexer": "ipython3",
   "version": "3.9.12"
  },
  "orig_nbformat": 4
 },
 "nbformat": 4,
 "nbformat_minor": 2
}
