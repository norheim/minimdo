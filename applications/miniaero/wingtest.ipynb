{
 "cells": [
  {
   "cell_type": "code",
   "execution_count": 1,
   "metadata": {},
   "outputs": [],
   "source": [
    "from foundations.projectables import ProjectableModel\n",
    "from modeling.compute import create_vars\n",
    "from numpy import pi\n",
    "import numpy as np\n",
    "from coupledgrad import pure_functions, coupled_functions\n",
    "from coupledgrad import solver, concat, compose, eliminate, couplingvars\n",
    "from coupledgrad import jacfwd, partial, jnp\n",
    "np.set_printoptions(suppress=True)"
   ]
  },
  {
   "cell_type": "code",
   "execution_count": 2,
   "metadata": {},
   "outputs": [],
   "source": [
    "A,V,S,W,Ww,CL,Re,Cf,CD,D = create_vars('A V S W W_w C_L Re C_f C_D D')\n",
    "rho,mu,k,t,e,CDA,SwetS,W0 = 1.23, 1.78e-5, 1.2, 0.12, 0.96, 0.0306, 2.05, 4940\n",
    "\n",
    "Aero = ProjectableModel()\n",
    "CL = Aero.Var('C_L', 2*W/(rho*V**2*S))\n",
    "Re = Aero.Var('Re', rho*V/mu*(S/A)**(1/2))\n",
    "Cf = Aero.Var('C_f', 0.074/Re**0.2)\n",
    "CD = Aero.Var('C_D', CDA/S+k*Cf*SwetS+CL**2/(pi*A*e))\n",
    "D  = Aero.Var('D', 0.5*rho*V**2*CD*S)\n",
    "Struct = ProjectableModel()\n",
    "Ww = Struct.Var('Ww', 45.42*S+8.71e-5*2.5/t*A**(3/2)*S**(1/2)*(W0*W)**(1/2))\n",
    "Struct.add_equation(W, W0+Ww)"
   ]
  },
  {
   "cell_type": "code",
   "execution_count": 3,
   "metadata": {},
   "outputs": [],
   "source": [
    "eqs = [(p.right, p.var) for p in Aero.projectables+Struct.projectables]\n",
    "Fdata = coupled_functions(eqs)\n",
    "Rdata = pure_functions([right-left for right, left in eqs])\n",
    "feed_forward, residual_functions, solvevars = couplingvars(Fdata, Rdata)"
   ]
  },
  {
   "cell_type": "code",
   "execution_count": 4,
   "metadata": {},
   "outputs": [],
   "source": [
    "F,_ = compose(feed_forward)"
   ]
  },
  {
   "cell_type": "code",
   "execution_count": 5,
   "metadata": {},
   "outputs": [
    {
     "data": {
      "text/plain": [
       "((S, V, W, A), (C_L, Re, C_f, C_D, D, Ww, S, V, W, A))"
      ]
     },
     "execution_count": 5,
     "metadata": {},
     "output_type": "execute_result"
    }
   ],
   "source": [
    "F[2], F[1]"
   ]
  },
  {
   "cell_type": "code",
   "execution_count": 6,
   "metadata": {},
   "outputs": [
    {
     "data": {
      "text/plain": [
       "DeviceArray([      1.17434508, 2073033.70786517,       0.00403562,\n",
       "                   0.05871438,     324.9841024 ,    1482.4460987 ,\n",
       "                  10.        ,      30.        ,    6500.        ,\n",
       "                  10.        ], dtype=float64)"
      ]
     },
     "execution_count": 6,
     "metadata": {},
     "output_type": "execute_result"
    }
   ],
   "source": [
    "F[0]([10,30,6500,10])"
   ]
  },
  {
   "cell_type": "code",
   "execution_count": 7,
   "metadata": {},
   "outputs": [],
   "source": [
    "Rreduced = solver(residual_functions, solvevars, [[10000]], \n",
    "                eliminate=feed_forward)"
   ]
  },
  {
   "cell_type": "code",
   "execution_count": 8,
   "metadata": {},
   "outputs": [
    {
     "data": {
      "text/plain": [
       "array([19723.36507292])"
      ]
     },
     "execution_count": 8,
     "metadata": {},
     "output_type": "execute_result"
    }
   ],
   "source": [
    "Rreduced[0]([10,10,40])"
   ]
  },
  {
   "cell_type": "code",
   "execution_count": 9,
   "metadata": {},
   "outputs": [],
   "source": [
    "F, R = compose((Rreduced,)+feed_forward, ((lambda D: D, (), (D,)),))\n",
    "#objfunction = eliminate(Rdata, phi=Fdata)"
   ]
  },
  {
   "cell_type": "code",
   "execution_count": 10,
   "metadata": {},
   "outputs": [
    {
     "data": {
      "text/plain": [
       "DeviceArray([  24134.7887521 ,       1.45346515, 2073033.70786517,\n",
       "                   0.00403562,       0.03429655,     569.49427885,\n",
       "               19194.7887521 ,      30.        ,      30.        ,\n",
       "                  30.        ], dtype=float64)"
      ]
     },
     "execution_count": 10,
     "metadata": {},
     "output_type": "execute_result"
    }
   ],
   "source": [
    "F[0]([30,30,30])"
   ]
  },
  {
   "cell_type": "code",
   "execution_count": 11,
   "metadata": {},
   "outputs": [
    {
     "data": {
      "text/plain": [
       "((W, C_L, Re, C_f, C_D, D, Ww, S, V, A),\n",
       " DeviceArray([[261.03749836]], dtype=float64))"
      ]
     },
     "execution_count": 11,
     "metadata": {},
     "output_type": "execute_result"
    }
   ],
   "source": [
    "F[1],R[0]([10,40,10])"
   ]
  },
  {
   "cell_type": "code",
   "execution_count": 12,
   "metadata": {},
   "outputs": [
    {
     "data": {
      "text/plain": [
       "      fun: 242.27476038088972\n",
       " hess_inv: <3x3 LbfgsInvHessProduct with dtype=float64>\n",
       "      jac: array([-0.00001557, -0.00000352,  0.00000003])\n",
       "  message: 'CONVERGENCE: REL_REDUCTION_OF_F_<=_FACTR*EPSMCH'\n",
       "     nfev: 19\n",
       "      nit: 15\n",
       "     njev: 19\n",
       "   status: 0\n",
       "  success: True\n",
       "        x: array([ 5.25556812, 49.1827837 , 18.16319232])"
      ]
     },
     "execution_count": 12,
     "metadata": {},
     "output_type": "execute_result"
    }
   ],
   "source": [
    "from scipy.optimize import minimize\n",
    "f = lambda x: R[0](x).item()\n",
    "g = lambda x: np.array(jacfwd(R[0])(x)[0][0])\n",
    "minimize(f, np.array([10,10,10]), \n",
    "            bounds=[(0,30),(0,50),(0,30)],\n",
    "            jac=g)"
   ]
  }
 ],
 "metadata": {
  "kernelspec": {
   "display_name": "minimdo",
   "language": "python",
   "name": "python3"
  },
  "language_info": {
   "codemirror_mode": {
    "name": "ipython",
    "version": 3
   },
   "file_extension": ".py",
   "mimetype": "text/x-python",
   "name": "python",
   "nbconvert_exporter": "python",
   "pygments_lexer": "ipython3",
   "version": "3.9.12"
  }
 },
 "nbformat": 4,
 "nbformat_minor": 2
}
