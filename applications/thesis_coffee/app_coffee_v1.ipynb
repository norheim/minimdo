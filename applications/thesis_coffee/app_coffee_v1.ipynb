{
 "cells": [
  {
   "cell_type": "code",
   "execution_count": 1,
   "id": "5255dae0",
   "metadata": {
    "execution": {
     "iopub.execute_input": "2021-09-08T18:51:08.521839Z",
     "iopub.status.busy": "2021-09-08T18:51:08.514838Z",
     "iopub.status.idle": "2021-09-08T18:51:17.099251Z",
     "shell.execute_reply": "2021-09-08T18:51:17.098249Z",
     "shell.execute_reply.started": "2021-09-08T18:51:08.519842Z"
    }
   },
   "outputs": [
    {
     "name": "stdout",
     "output_type": "stream",
     "text": [
      "Unable to import petsc4py. Parallel processing unavailable.\n",
      "Unable to import petsc4py. Parallel processing unavailable.\n"
     ]
    }
   ],
   "source": [
    "from compute import Var, eqvar\n",
    "from inputresolver import reassigneq, eqvars, eqsonly, default_out, mdf_order, default_in, idx_eqlist\n",
    "from inputresolver import getallvars, invert_edges, resolve, reassign\n",
    "from representations import bipartite_repr\n",
    "from compute_utils import get_outputs, check_eqs, print_out\n",
    "from pprint import pprint\n",
    "import networkx as nx\n",
    "import sympy as sp\n",
    "import numpy as np\n",
    "import openmdao.api as om"
   ]
  },
  {
   "cell_type": "code",
   "execution_count": 2,
   "id": "2f32b927",
   "metadata": {
    "execution": {
     "iopub.execute_input": "2021-09-08T18:51:17.102250Z",
     "iopub.status.busy": "2021-09-08T18:51:17.101251Z",
     "iopub.status.idle": "2021-09-08T18:51:17.115256Z",
     "shell.execute_reply": "2021-09-08T18:51:17.114254Z",
     "shell.execute_reply.started": "2021-09-08T18:51:17.102250Z"
    }
   },
   "outputs": [],
   "source": [
    "from compute import Var, eqvar, ureg, buildidpvars, coupled_run\n",
    "from compute_utils import get_outputs, print_out\n",
    "from inputresolver import idx_eqlist, eqvars, default_in, default_out, mdf_order\n",
    "import sympy as sp\n",
    "import openmdao.api as om"
   ]
  },
  {
   "cell_type": "code",
   "execution_count": 3,
   "id": "027251c2",
   "metadata": {
    "execution": {
     "iopub.execute_input": "2021-09-08T18:51:17.119253Z",
     "iopub.status.busy": "2021-09-08T18:51:17.117255Z",
     "iopub.status.idle": "2021-09-08T18:51:17.131257Z",
     "shell.execute_reply": "2021-09-08T18:51:17.130252Z",
     "shell.execute_reply.started": "2021-09-08T18:51:17.119253Z"
    }
   },
   "outputs": [],
   "source": [
    "ureg.define('USD = [currency] ')"
   ]
  },
  {
   "cell_type": "markdown",
   "id": "02161317",
   "metadata": {},
   "source": [
    "## Part 1"
   ]
  },
  {
   "cell_type": "markdown",
   "id": "55895abd",
   "metadata": {},
   "source": [
    "## Variables\n",
    "For which we have values at the time"
   ]
  },
  {
   "cell_type": "code",
   "execution_count": 4,
   "id": "fbd99135",
   "metadata": {
    "execution": {
     "iopub.execute_input": "2021-09-08T18:51:17.134254Z",
     "iopub.status.busy": "2021-09-08T18:51:17.134254Z",
     "iopub.status.idle": "2021-09-08T18:51:17.163254Z",
     "shell.execute_reply": "2021-09-08T18:51:17.161253Z",
     "shell.execute_reply.started": "2021-09-08T18:51:17.134254Z"
    }
   },
   "outputs": [],
   "source": [
    "IFOV = Var('IFOV', 7.272e-5, 'rad') \n",
    "r = Var('r', 9.257e19, 'm')\n",
    "l = Var('lambda', 5e-7, 'm')\n",
    "d = Var('d', 3e-5, 'm')\n",
    "Q = Var('Q', 1.1)\n",
    "rho = Var('rho', 1.22) \n",
    "k = Var('k', 1.381e-23, 'J/K')\n",
    "T = Var('T', 5785, 'K')\n",
    "h = Var('h', 6.626e-34, 'J*s')\n",
    "c = Var('c', 2.998e8, 'm/s')\n",
    "tau = Var('tau', 1)\n",
    "dl = Var('Delta_lambda', 2e-6, 'm')\n",
    "R = Var('R', 6.96e8, 'm')\n",
    "dV = Var('Delta_V', 0, 'm/s')\n",
    "g = Var('g', 9.8, 'm/s^2')\n",
    "isp = Var('I_sp', 450, 's')\n",
    "ct = Var('c_t', 1163, 'USD/kg')\n",
    "ms = Var('m_s', 1175, 'kg/m^2')\n",
    "QE = Var('Q_E', 0.5)\n",
    "Nr = Var('N_r', 25)\n",
    "tau0 = Var('tau_0', 0.75)\n",
    "Ti = Var('T_i', 30, 's')\n",
    "a = Var('alpha', 50e3, 'USD/m^3')\n",
    "SNR = Var('SNR',)\n",
    "CT = Var('C_T', 1e6, 'USD', never_output=True)"
   ]
  },
  {
   "cell_type": "markdown",
   "id": "96bf4bee",
   "metadata": {},
   "source": [
    "## Equations"
   ]
  },
  {
   "cell_type": "code",
   "execution_count": 5,
   "id": "0b409a45",
   "metadata": {
    "execution": {
     "iopub.execute_input": "2021-09-08T18:51:31.647752Z",
     "iopub.status.busy": "2021-09-08T18:51:31.646788Z",
     "iopub.status.idle": "2021-09-08T18:51:31.900280Z",
     "shell.execute_reply": "2021-09-08T18:51:31.897313Z",
     "shell.execute_reply.started": "2021-09-08T18:51:31.647752Z"
    }
   },
   "outputs": [],
   "source": [
    "Y, eq1 = eqvar('Y', IFOV*r, 'm')\n",
    "f, eq2 = eqvar('f', r*d/Y, 'm')\n",
    "D, eq3 = eqvar('D', 2*rho*l*Q*f/d, 'm')\n",
    "tr, eq4 = eqvar('theta_r', rho*l/D, 'rad')\n",
    "mt, eq5 = eqvar('mt', ms*D**2, 'kg')\n",
    "mi, eq6 = eqvar('m_i', mt*sp.exp(dV/(g*isp)), 'kg')\n",
    "CD, eq7 = eqvar('C_D', a*D**3, 'USD')\n",
    "CT, eq8 = eqvar('C_T', CD+ct*mi,'USD')\n",
    "Hl, eq9 = eqvar('H_lambda', 2*sp.pi*h*c**2/l**5*1/(sp.exp(c*h/(k*T*l))-1), 'W/m^3')\n",
    "L, eq10 = eqvar('L', 1/4*R**2*Hl*tau*dl, 'W/sr')\n",
    "Pin, eq11 = eqvar('P_in', sp.pi*(D/(2*r))**2*L, 'W')\n",
    "Hi, eq12 = eqvar('H_i', Pin*tau0*Ti, 'J')\n",
    "Np, eq13 = eqvar('N_p', Hi*l/(h*c))\n",
    "SNR, eq14 = eqvar('SNR', Np*QE/sp.sqrt(Nr**2+Np*QE))\n",
    "eq_list=[eq1, eq2, eq3, eq4, eq5, eq6, eq7, eq8, eq9, eq10, eq11, eq12, eq13, eq14]"
   ]
  },
  {
   "cell_type": "markdown",
   "id": "7c5085c5",
   "metadata": {},
   "source": [
    "Generate an equation index (a dictionary):"
   ]
  },
  {
   "cell_type": "code",
   "execution_count": 6,
   "id": "c68fe97e",
   "metadata": {
    "execution": {
     "iopub.execute_input": "2021-09-08T18:51:33.407693Z",
     "iopub.status.busy": "2021-09-08T18:51:33.406691Z",
     "iopub.status.idle": "2021-09-08T18:51:33.429167Z",
     "shell.execute_reply": "2021-09-08T18:51:33.428168Z",
     "shell.execute_reply.started": "2021-09-08T18:51:33.407693Z"
    }
   },
   "outputs": [],
   "source": [
    "eqs = idx_eqlist(eq_list)"
   ]
  },
  {
   "cell_type": "markdown",
   "id": "d055b715",
   "metadata": {},
   "source": [
    "Get all variables of residual form of equation"
   ]
  },
  {
   "cell_type": "code",
   "execution_count": 7,
   "id": "bebddac7",
   "metadata": {
    "execution": {
     "iopub.execute_input": "2021-09-08T18:51:36.342916Z",
     "iopub.status.busy": "2021-09-08T18:51:36.342916Z",
     "iopub.status.idle": "2021-09-08T18:51:36.348913Z",
     "shell.execute_reply": "2021-09-08T18:51:36.347914Z",
     "shell.execute_reply.started": "2021-09-08T18:51:36.342916Z"
    }
   },
   "outputs": [],
   "source": [
    "eqv = eqvars(eqs)"
   ]
  },
  {
   "cell_type": "code",
   "execution_count": 8,
   "id": "bbfb326f",
   "metadata": {
    "execution": {
     "iopub.execute_input": "2021-09-08T18:51:37.440890Z",
     "iopub.status.busy": "2021-09-08T18:51:37.439878Z",
     "iopub.status.idle": "2021-09-08T18:51:37.468878Z",
     "shell.execute_reply": "2021-09-08T18:51:37.467903Z",
     "shell.execute_reply.started": "2021-09-08T18:51:37.440890Z"
    }
   },
   "outputs": [
    {
     "data": {
      "text/plain": [
       "{0: {IFOV, Y, r},\n",
       " 1: {Y, d, f, r},\n",
       " 2: {D, Q, d, f, lambda, rho},\n",
       " 3: {D, lambda, rho, theta_r},\n",
       " 4: {D, m_s, mt},\n",
       " 5: {Delta_V, I_sp, g, m_i, mt},\n",
       " 6: {C_D, D, alpha},\n",
       " 7: {C_D, C_T, c_t, m_i},\n",
       " 8: {H_lambda, T, c, h, k, lambda},\n",
       " 9: {Delta_lambda, H_lambda, L, R, tau},\n",
       " 10: {D, L, P_in, r},\n",
       " 11: {H_i, P_in, T_i, tau_0},\n",
       " 12: {H_i, N_p, c, h, lambda},\n",
       " 13: {N_p, N_r, Q_E, SNR}}"
      ]
     },
     "execution_count": 8,
     "metadata": {},
     "output_type": "execute_result"
    }
   ],
   "source": [
    "eqv"
   ]
  },
  {
   "cell_type": "markdown",
   "id": "7cd29ad6",
   "metadata": {},
   "source": [
    "Get user defined default outputs and inputs"
   ]
  },
  {
   "cell_type": "code",
   "execution_count": 9,
   "id": "afe036c1",
   "metadata": {
    "execution": {
     "iopub.execute_input": "2021-09-08T18:51:45.222463Z",
     "iopub.status.busy": "2021-09-08T18:51:45.221458Z",
     "iopub.status.idle": "2021-09-08T18:51:45.232455Z",
     "shell.execute_reply": "2021-09-08T18:51:45.231458Z",
     "shell.execute_reply.started": "2021-09-08T18:51:45.222463Z"
    }
   },
   "outputs": [],
   "source": [
    "dout = default_out(eqs)\n",
    "dins = default_in(eqs)"
   ]
  },
  {
   "cell_type": "code",
   "execution_count": 10,
   "id": "964a7ffc",
   "metadata": {
    "execution": {
     "iopub.execute_input": "2021-09-08T18:51:47.461977Z",
     "iopub.status.busy": "2021-09-08T18:51:47.461977Z",
     "iopub.status.idle": "2021-09-08T18:51:47.470501Z",
     "shell.execute_reply": "2021-09-08T18:51:47.468977Z",
     "shell.execute_reply.started": "2021-09-08T18:51:47.461977Z"
    }
   },
   "outputs": [
    {
     "name": "stdout",
     "output_type": "stream",
     "text": [
      "{0: Y, 1: f, 2: D, 3: theta_r, 4: mt, 5: m_i, 6: C_D, 7: C_T, 8: H_lambda, 9: L, 10: P_in, 11: H_i, 12: N_p, 13: SNR}\n"
     ]
    }
   ],
   "source": [
    "print(dout)"
   ]
  },
  {
   "cell_type": "markdown",
   "id": "fb42cfc8",
   "metadata": {},
   "source": [
    "Get MDF order"
   ]
  },
  {
   "cell_type": "code",
   "execution_count": 11,
   "id": "9fb4622d",
   "metadata": {
    "execution": {
     "iopub.execute_input": "2021-09-08T18:51:59.419111Z",
     "iopub.status.busy": "2021-09-08T18:51:59.418119Z",
     "iopub.status.idle": "2021-09-08T18:51:59.437104Z",
     "shell.execute_reply": "2021-09-08T18:51:59.436102Z",
     "shell.execute_reply.started": "2021-09-08T18:51:59.419111Z"
    }
   },
   "outputs": [],
   "source": [
    "order = mdf_order(eqv, dout)"
   ]
  },
  {
   "cell_type": "code",
   "execution_count": 12,
   "id": "50770402",
   "metadata": {
    "execution": {
     "iopub.execute_input": "2021-09-08T18:51:59.818032Z",
     "iopub.status.busy": "2021-09-08T18:51:59.818032Z",
     "iopub.status.idle": "2021-09-08T18:51:59.832027Z",
     "shell.execute_reply": "2021-09-08T18:51:59.831029Z",
     "shell.execute_reply.started": "2021-09-08T18:51:59.818032Z"
    }
   },
   "outputs": [
    {
     "data": {
      "text/plain": [
       "[8, 9, 0, 1, 2, 10, 11, 12, 13, 6, 4, 5, 7, 3]"
      ]
     },
     "execution_count": 12,
     "metadata": {},
     "output_type": "execute_result"
    }
   ],
   "source": [
    "order"
   ]
  },
  {
   "cell_type": "markdown",
   "id": "274be196",
   "metadata": {},
   "source": [
    "Run computation with openMDAO"
   ]
  },
  {
   "cell_type": "code",
   "execution_count": 13,
   "id": "ddcb54c3",
   "metadata": {
    "execution": {
     "iopub.execute_input": "2021-09-08T18:52:03.353185Z",
     "iopub.status.busy": "2021-09-08T18:52:03.352192Z",
     "iopub.status.idle": "2021-09-08T18:52:03.504670Z",
     "shell.execute_reply": "2021-09-08T18:52:03.503671Z",
     "shell.execute_reply.started": "2021-09-08T18:52:03.353185Z"
    }
   },
   "outputs": [
    {
     "name": "stdout",
     "output_type": "stream",
     "text": [
      "eq8 H_lambda 2*pi*c**2*h/(lambda**5*(exp(c*h/(T*k*lambda)) - 1)) None\n",
      "eq9 L 0.25*Delta_lambda*H_lambda*R**2*tau None\n",
      "eq0 Y IFOV*r None\n",
      "eq1 f d*r/Y None\n",
      "eq2 D 2*Q*f*lambda*rho/d None\n",
      "eq10 P_in pi*D**2*L/(4*r**2) None\n",
      "eq11 H_i P_in*T_i*tau_0 None\n",
      "eq12 N_p H_i*lambda/(c*h) None\n",
      "eq13 SNR N_p*Q_E/sqrt(N_p*Q_E + N_r**2) None\n",
      "eq6 C_D D**3*alpha None\n",
      "eq4 mt D**2*m_s None\n",
      "eq5 m_i mt*exp(Delta_V/(I_sp*g)) None\n",
      "eq7 C_T C_D + c_t*m_i None\n",
      "eq3 theta_r lambda*rho/D None\n"
     ]
    }
   ],
   "source": [
    "prob = om.Problem()\n",
    "model = prob.model\n",
    "buildidpvars(dins, model)\n",
    "counter = coupled_run(eqs, order, (), model, model, 0)\n",
    "prob.setup()\n",
    "prob.run_model()"
   ]
  },
  {
   "cell_type": "markdown",
   "id": "e43e2d1e",
   "metadata": {},
   "source": [
    "Print the output"
   ]
  },
  {
   "cell_type": "code",
   "execution_count": 14,
   "id": "3ce8548e",
   "metadata": {
    "execution": {
     "iopub.execute_input": "2021-09-08T18:52:07.877825Z",
     "iopub.status.busy": "2021-09-08T18:52:07.877825Z",
     "iopub.status.idle": "2021-09-08T18:52:07.898829Z",
     "shell.execute_reply": "2021-09-08T18:52:07.897868Z",
     "shell.execute_reply.started": "2021-09-08T18:52:07.877825Z"
    }
   },
   "outputs": [
    {
     "data": {
      "text/plain": [
       "{d: '3e-05',\n",
       " lambda: '5e-07',\n",
       " Y: '6.732e+15',\n",
       " alpha: '5e+04',\n",
       " Delta_V: '0.22',\n",
       " IFOV: '7.272e-05',\n",
       " c_t: '1163',\n",
       " h: '6.626e-34',\n",
       " k: '1.381e-23',\n",
       " tau: '1',\n",
       " H_i: '1.42e-17',\n",
       " T_i: '30',\n",
       " f: '0.41',\n",
       " c: '2.998e+08',\n",
       " P_in: '6.31e-19',\n",
       " N_p: '35.74',\n",
       " r: '9.257e+19',\n",
       " g: '9.80',\n",
       " Q_E: '0.50',\n",
       " m_i: '0.40',\n",
       " N_r: '25',\n",
       " mt: '0.40',\n",
       " T: '5785',\n",
       " theta_r: '3.305e-05',\n",
       " Q: '1.10',\n",
       " H_lambda: '8.347e+13',\n",
       " R: '6.96e+08',\n",
       " C_D: '0.31',\n",
       " tau_0: '0.75',\n",
       " I_sp: '450',\n",
       " C_T: '465.73',\n",
       " L: '2.022e+25',\n",
       " m_s: '1175',\n",
       " D: '0.02',\n",
       " SNR: '0.70',\n",
       " Delta_lambda: '2e-06',\n",
       " rho: '1.22'}"
      ]
     },
     "execution_count": 14,
     "metadata": {},
     "output_type": "execute_result"
    }
   ],
   "source": [
    "out = get_outputs(eqs, model)\n",
    "print_out(out, False)"
   ]
  },
  {
   "cell_type": "markdown",
   "id": "3f1783bc",
   "metadata": {},
   "source": [
    "# Part 2"
   ]
  },
  {
   "cell_type": "code",
   "execution_count": 15,
   "id": "a98d3f45",
   "metadata": {
    "execution": {
     "iopub.execute_input": "2021-09-08T18:52:13.246203Z",
     "iopub.status.busy": "2021-09-08T18:52:13.246203Z",
     "iopub.status.idle": "2021-09-08T18:52:13.253202Z",
     "shell.execute_reply": "2021-09-08T18:52:13.252203Z",
     "shell.execute_reply.started": "2021-09-08T18:52:13.246203Z"
    }
   },
   "outputs": [],
   "source": [
    "from representations import bipartite_repr\n",
    "from inputresolver import getallvars, invert_edges, reassign\n",
    "import networkx as nx\n",
    "from functools import reduce"
   ]
  },
  {
   "cell_type": "code",
   "execution_count": 16,
   "id": "793201e6",
   "metadata": {
    "execution": {
     "iopub.execute_input": "2021-09-08T18:54:44.084497Z",
     "iopub.status.busy": "2021-09-08T18:54:44.083493Z",
     "iopub.status.idle": "2021-09-08T18:54:44.094495Z",
     "shell.execute_reply": "2021-09-08T18:54:44.093493Z",
     "shell.execute_reply.started": "2021-09-08T18:54:44.084497Z"
    }
   },
   "outputs": [],
   "source": [
    "force_input = [SNR, CT]\n",
    "not_input = [IFOV, Ti] #allow to vary, meaning output\n",
    "#force_input = [mi]\n",
    "#not_input = [l]"
   ]
  },
  {
   "cell_type": "code",
   "execution_count": 17,
   "id": "b7ccfa2d",
   "metadata": {
    "execution": {
     "iopub.execute_input": "2021-09-08T18:54:44.519497Z",
     "iopub.status.busy": "2021-09-08T18:54:44.518492Z",
     "iopub.status.idle": "2021-09-08T18:54:44.537497Z",
     "shell.execute_reply": "2021-09-08T18:54:44.536495Z",
     "shell.execute_reply.started": "2021-09-08T18:54:44.519497Z"
    }
   },
   "outputs": [],
   "source": [
    "SNR.varval = 10\n",
    "CT.varval = 1e6\n",
    "#mi.varval = 60e3"
   ]
  },
  {
   "cell_type": "markdown",
   "id": "692ac3ee",
   "metadata": {},
   "source": [
    "We redefine the problem, where we exchange the inputs and ouputs"
   ]
  },
  {
   "cell_type": "code",
   "execution_count": 18,
   "id": "e6a88ac3",
   "metadata": {
    "execution": {
     "iopub.execute_input": "2021-09-08T18:54:45.343059Z",
     "iopub.status.busy": "2021-09-08T18:54:45.342058Z",
     "iopub.status.idle": "2021-09-08T18:54:45.360056Z",
     "shell.execute_reply": "2021-09-08T18:54:45.359056Z",
     "shell.execute_reply.started": "2021-09-08T18:54:45.342058Z"
    }
   },
   "outputs": [],
   "source": [
    "new_ins = dins.union(force_input) - set(not_input)\n",
    "new_eqv = {key: {elt for elt in outsetposs if not elt in new_ins}\n",
    "        for key, outsetposs in eqv.items()}"
   ]
  },
  {
   "cell_type": "code",
   "execution_count": 19,
   "id": "4de94421",
   "metadata": {
    "execution": {
     "iopub.execute_input": "2021-09-08T18:54:45.722827Z",
     "iopub.status.busy": "2021-09-08T18:54:45.722827Z",
     "iopub.status.idle": "2021-09-08T18:54:45.737342Z",
     "shell.execute_reply": "2021-09-08T18:54:45.736345Z",
     "shell.execute_reply.started": "2021-09-08T18:54:45.722827Z"
    }
   },
   "outputs": [
    {
     "data": {
      "text/plain": [
       "{0: {IFOV, Y},\n",
       " 1: {Y, f},\n",
       " 2: {D, f},\n",
       " 3: {D, theta_r},\n",
       " 4: {D, mt},\n",
       " 5: {m_i, mt},\n",
       " 6: {C_D, D},\n",
       " 7: {C_D, m_i},\n",
       " 8: {H_lambda},\n",
       " 9: {H_lambda, L},\n",
       " 10: {D, L, P_in},\n",
       " 11: {H_i, P_in, T_i},\n",
       " 12: {H_i, N_p},\n",
       " 13: {N_p}}"
      ]
     },
     "execution_count": 19,
     "metadata": {},
     "output_type": "execute_result"
    }
   ],
   "source": [
    "new_eqv"
   ]
  },
  {
   "cell_type": "markdown",
   "id": "f3ba0590",
   "metadata": {},
   "source": [
    "Setup for matching"
   ]
  },
  {
   "cell_type": "code",
   "execution_count": 20,
   "id": "81ed350a",
   "metadata": {
    "execution": {
     "iopub.execute_input": "2021-09-08T18:54:46.337862Z",
     "iopub.status.busy": "2021-09-08T18:54:46.336855Z",
     "iopub.status.idle": "2021-09-08T18:54:46.355902Z",
     "shell.execute_reply": "2021-09-08T18:54:46.354897Z",
     "shell.execute_reply.started": "2021-09-08T18:54:46.337862Z"
    }
   },
   "outputs": [],
   "source": [
    "G, edges_original = bipartite_repr(new_eqv)"
   ]
  },
  {
   "cell_type": "code",
   "execution_count": 21,
   "id": "b08a4348",
   "metadata": {
    "execution": {
     "iopub.execute_input": "2021-09-08T18:54:46.636905Z",
     "iopub.status.busy": "2021-09-08T18:54:46.635903Z",
     "iopub.status.idle": "2021-09-08T18:54:46.655901Z",
     "shell.execute_reply": "2021-09-08T18:54:46.654899Z",
     "shell.execute_reply.started": "2021-09-08T18:54:46.636905Z"
    }
   },
   "outputs": [],
   "source": [
    "M = nx.bipartite.maximum_matching(G)"
   ]
  },
  {
   "cell_type": "code",
   "execution_count": 22,
   "id": "cd40b889",
   "metadata": {
    "execution": {
     "iopub.execute_input": "2021-09-08T18:54:46.965907Z",
     "iopub.status.busy": "2021-09-08T18:54:46.965907Z",
     "iopub.status.idle": "2021-09-08T18:54:46.985427Z",
     "shell.execute_reply": "2021-09-08T18:54:46.984424Z",
     "shell.execute_reply.started": "2021-09-08T18:54:46.965907Z"
    }
   },
   "outputs": [],
   "source": [
    "d = {key:M[key] for key in dout.keys()}"
   ]
  },
  {
   "cell_type": "code",
   "execution_count": 23,
   "id": "45296c5f",
   "metadata": {
    "execution": {
     "iopub.execute_input": "2021-09-08T18:54:47.470554Z",
     "iopub.status.busy": "2021-09-08T18:54:47.469558Z",
     "iopub.status.idle": "2021-09-08T18:54:47.490077Z",
     "shell.execute_reply": "2021-09-08T18:54:47.489077Z",
     "shell.execute_reply.started": "2021-09-08T18:54:47.470554Z"
    }
   },
   "outputs": [
    {
     "name": "stdout",
     "output_type": "stream",
     "text": [
      "{0: IFOV, 1: Y, 2: f, 3: theta_r, 4: mt, 5: m_i, 6: D, 7: C_D, 8: H_lambda, 9: L, 10: P_in, 11: T_i, 12: H_i, 13: N_p}\n"
     ]
    }
   ],
   "source": [
    "print(d)"
   ]
  },
  {
   "cell_type": "code",
   "execution_count": 24,
   "id": "0234f624",
   "metadata": {
    "execution": {
     "iopub.execute_input": "2021-09-08T18:54:47.973301Z",
     "iopub.status.busy": "2021-09-08T18:54:47.972303Z",
     "iopub.status.idle": "2021-09-08T18:54:49.917444Z",
     "shell.execute_reply": "2021-09-08T18:54:49.916539Z",
     "shell.execute_reply.started": "2021-09-08T18:54:47.973301Z"
    }
   },
   "outputs": [],
   "source": [
    "new_eqs=reassign(eqs, d)\n",
    "new_eqv = eqvars(new_eqs)\n",
    "new_order = mdf_order(new_eqv, d)\n",
    "new_ins = reduce(set.union, new_eqv.values()) - set(d.values())"
   ]
  },
  {
   "cell_type": "code",
   "execution_count": 25,
   "id": "ad06400a",
   "metadata": {
    "execution": {
     "iopub.execute_input": "2021-09-08T18:54:50.416513Z",
     "iopub.status.busy": "2021-09-08T18:54:50.415512Z",
     "iopub.status.idle": "2021-09-08T18:54:50.444511Z",
     "shell.execute_reply": "2021-09-08T18:54:50.443512Z",
     "shell.execute_reply.started": "2021-09-08T18:54:50.416513Z"
    }
   },
   "outputs": [
    {
     "data": {
      "text/plain": [
       "{0: (IFOV, Y/r),\n",
       " 1: (Y, d*r/f),\n",
       " 2: (f, D*d/(2*Q*lambda*rho)),\n",
       " 3: (theta_r, lambda*rho/D),\n",
       " 4: (mt, D**2*m_s),\n",
       " 5: (m_i, mt*exp(Delta_V/(I_sp*g))),\n",
       " 6: (D, (C_D/alpha)**(1/3)),\n",
       " 7: (C_D, C_T - c_t*m_i),\n",
       " 8: (H_lambda, 2*pi*c**2*h/(lambda**5*(exp(c*h/(T*k*lambda)) - 1))),\n",
       " 9: (L, 0.25*Delta_lambda*H_lambda*R**2*tau),\n",
       " 10: (P_in, pi*D**2*L/(4*r**2)),\n",
       " 11: (T_i, H_i/(P_in*tau_0)),\n",
       " 12: (H_i, N_p*c*h/lambda),\n",
       " 13: (N_p, SNR*(SNR + sqrt(4*N_r**2 + SNR**2))/(2*Q_E))}"
      ]
     },
     "execution_count": 25,
     "metadata": {},
     "output_type": "execute_result"
    }
   ],
   "source": [
    "new_eqs"
   ]
  },
  {
   "cell_type": "code",
   "execution_count": 26,
   "id": "82a1d571",
   "metadata": {
    "execution": {
     "iopub.execute_input": "2021-09-08T18:54:50.901590Z",
     "iopub.status.busy": "2021-09-08T18:54:50.900583Z",
     "iopub.status.idle": "2021-09-08T18:54:50.914105Z",
     "shell.execute_reply": "2021-09-08T18:54:50.913141Z",
     "shell.execute_reply.started": "2021-09-08T18:54:50.901590Z"
    }
   },
   "outputs": [
    {
     "data": {
      "text/plain": [
       "[13, (7, 5, 4, 6), 12, 8, 9, 3, 2, 10, 11, 1, 0]"
      ]
     },
     "execution_count": 26,
     "metadata": {},
     "output_type": "execute_result"
    }
   ],
   "source": [
    "new_order"
   ]
  },
  {
   "cell_type": "code",
   "execution_count": 27,
   "id": "22cf7b34",
   "metadata": {
    "execution": {
     "iopub.execute_input": "2021-09-08T18:54:51.478346Z",
     "iopub.status.busy": "2021-09-08T18:54:51.478346Z",
     "iopub.status.idle": "2021-09-08T18:54:51.646343Z",
     "shell.execute_reply": "2021-09-08T18:54:51.645343Z",
     "shell.execute_reply.started": "2021-09-08T18:54:51.478346Z"
    }
   },
   "outputs": [
    {
     "name": "stdout",
     "output_type": "stream",
     "text": [
      "eq13 N_p SNR*(SNR + sqrt(4*N_r**2 + SNR**2))/(2*Q_E) None\n",
      "eq7 C_D C_T - c_t*m_i None\n",
      "eq5 m_i mt*exp(Delta_V/(I_sp*g)) None\n",
      "eq4 mt D**2*m_s None\n",
      "eq6 D (C_D/alpha)**(1/3) None\n",
      "eq12 H_i N_p*c*h/lambda None\n",
      "eq8 H_lambda 2*pi*c**2*h/(lambda**5*(exp(c*h/(T*k*lambda)) - 1)) None\n",
      "eq9 L 0.25*Delta_lambda*H_lambda*R**2*tau None\n",
      "eq3 theta_r lambda*rho/D None\n",
      "eq2 f D*d/(2*Q*lambda*rho) None\n",
      "eq10 P_in pi*D**2*L/(4*r**2) None\n",
      "eq11 T_i H_i/(P_in*tau_0) None\n",
      "eq1 Y d*r/f None\n",
      "eq0 IFOV Y/r None\n",
      "\n",
      "=============\n",
      "group1.group2\n",
      "=============\n",
      "NL: Newton Converged in 6 iterations\n"
     ]
    }
   ],
   "source": [
    "prob = om.Problem()\n",
    "model = prob.model\n",
    "buildidpvars(new_ins, model)\n",
    "counter = coupled_run(new_eqs, new_order, (), model, model)\n",
    "prob.setup()\n",
    "prob.run_model()"
   ]
  },
  {
   "cell_type": "code",
   "execution_count": 28,
   "id": "a053d410",
   "metadata": {
    "execution": {
     "iopub.execute_input": "2021-09-08T18:54:52.125488Z",
     "iopub.status.busy": "2021-09-08T18:54:52.125488Z",
     "iopub.status.idle": "2021-09-08T18:54:52.147781Z",
     "shell.execute_reply": "2021-09-08T18:54:52.146780Z",
     "shell.execute_reply.started": "2021-09-08T18:54:52.125488Z"
    }
   },
   "outputs": [
    {
     "data": {
      "text/plain": [
       "{d: '3e-05',\n",
       " lambda: '5e-07',\n",
       " Y: '1.474e+14',\n",
       " alpha: '5e+04',\n",
       " Delta_V: '0.22',\n",
       " IFOV: '1.593e-06',\n",
       " c_t: '1163',\n",
       " h: '6.626e-34',\n",
       " k: '1.381e-23',\n",
       " tau: '1',\n",
       " H_i: '2.423e-16',\n",
       " T_i: '0.25',\n",
       " f: '18.83',\n",
       " c: '2.998e+08',\n",
       " P_in: '1.315e-15',\n",
       " N_p: '609.90',\n",
       " r: '9.257e+19',\n",
       " g: '9.80',\n",
       " Q_E: '0.50',\n",
       " m_i: '834.13',\n",
       " N_r: '25',\n",
       " mt: '834.09',\n",
       " T: '5785',\n",
       " theta_r: '7.24e-07',\n",
       " Q: '1.10',\n",
       " H_lambda: '8.347e+13',\n",
       " R: '6.96e+08',\n",
       " C_D: '2.99e+04',\n",
       " tau_0: '0.75',\n",
       " I_sp: '450',\n",
       " C_T: '1e+06',\n",
       " L: '2.022e+25',\n",
       " m_s: '1175',\n",
       " D: '0.84',\n",
       " SNR: '10',\n",
       " Delta_lambda: '2e-06',\n",
       " rho: '1.22'}"
      ]
     },
     "execution_count": 28,
     "metadata": {},
     "output_type": "execute_result"
    }
   ],
   "source": [
    "out = get_outputs(eqs, model)\n",
    "print_out(out, False)"
   ]
  },
  {
   "cell_type": "code",
   "execution_count": null,
   "id": "12c09eac",
   "metadata": {},
   "outputs": [],
   "source": []
  }
 ],
 "metadata": {
  "kernelspec": {
   "display_name": "mdo",
   "language": "python",
   "name": "mdo"
  },
  "language_info": {
   "codemirror_mode": {
    "name": "ipython",
    "version": 3
   },
   "file_extension": ".py",
   "mimetype": "text/x-python",
   "name": "python",
   "nbconvert_exporter": "python",
   "pygments_lexer": "ipython3",
   "version": "3.8.10"
  }
 },
 "nbformat": 4,
 "nbformat_minor": 5
}
