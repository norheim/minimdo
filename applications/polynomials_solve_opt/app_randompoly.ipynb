{
 "cells": [
  {
   "cell_type": "markdown",
   "id": "3e270096-ffed-4b9b-93f6-86ed97936a69",
   "metadata": {},
   "source": [
    "# Random incidence"
   ]
  },
  {
   "cell_type": "code",
   "execution_count": 1,
   "id": "c2842f25",
   "metadata": {
    "execution": {
     "iopub.execute_input": "2022-02-28T00:04:09.166596Z",
     "iopub.status.busy": "2022-02-28T00:04:09.162597Z",
     "iopub.status.idle": "2022-02-28T00:04:19.075834Z",
     "shell.execute_reply": "2022-02-28T00:04:19.075104Z",
     "shell.execute_reply.started": "2022-02-28T00:04:09.165599Z"
    },
    "tags": []
   },
   "outputs": [],
   "source": [
    "from inputresolver import resolve, invert_edges, flatten_order, reassigneq, direct_eqs, flatten_and_transform_condensation, default_in_raw, eqvars, reassign, default_in, getallvars\n",
    "from representations import digraph_repr, draw_dsm, drawbipartite, draw, bipartite_repr, tree_incidence, render_tree\n",
    "from datastructures import notation_from_tree\n",
    "from compute import Var, adda, addf, Model, RefNode, Function, END, INTER, Evaluable, addsolver,OPT\n",
    "from compute import buildidpvars\n",
    "from notation import generate_execution, mapping, default_sequence, make_acyclic, graphs_from_incidence, all_residuals, duplicate_nodes\n",
    "from notationcompute import explicit, solver, optsolver\n",
    "from testproblems import generate_random_prob\n",
    "from random import Random, sample, randint\n",
    "from anytree import PreOrderIter\n",
    "import random\n",
    "import copy\n",
    "import sympy as sp\n",
    "import numpy as np\n",
    "from functools import reduce\n",
    "import networkx as nx\n",
    "import operator\n",
    "from utils import normalize_name\n",
    "import matplotlib.pyplot as plt\n",
    "import openmdao.api as om\n",
    "import pandas as pd"
   ]
  },
  {
   "cell_type": "code",
   "execution_count": 2,
   "id": "adf1d36c",
   "metadata": {
    "execution": {
     "iopub.execute_input": "2022-02-28T00:04:19.078832Z",
     "iopub.status.busy": "2022-02-28T00:04:19.078832Z",
     "iopub.status.idle": "2022-02-28T00:04:19.092833Z",
     "shell.execute_reply": "2022-02-28T00:04:19.090833Z",
     "shell.execute_reply.started": "2022-02-28T00:04:19.078832Z"
    },
    "tags": []
   },
   "outputs": [],
   "source": [
    "n_eqs = 10\n",
    "n_vars = 13\n",
    "seed = 42#8 is triang#seed 10 is nice\n",
    "sparsity = 1.3 #1.7\n",
    "eqv, varinc, dout = generate_random_prob(n_eqs, n_vars, seed, sparsity)"
   ]
  },
  {
   "cell_type": "code",
   "execution_count": 3,
   "id": "acf23d8f",
   "metadata": {
    "execution": {
     "iopub.execute_input": "2022-02-28T00:04:19.095835Z",
     "iopub.status.busy": "2022-02-28T00:04:19.094834Z",
     "iopub.status.idle": "2022-02-28T00:04:19.107832Z",
     "shell.execute_reply": "2022-02-28T00:04:19.105837Z",
     "shell.execute_reply.started": "2022-02-28T00:04:19.095835Z"
    },
    "tags": []
   },
   "outputs": [],
   "source": [
    "eqs=direct_eqs(eqv, dout)"
   ]
  },
  {
   "cell_type": "code",
   "execution_count": 4,
   "id": "6061e045-3d3d-4563-9714-0f99c69454df",
   "metadata": {
    "execution": {
     "iopub.execute_input": "2022-02-28T00:04:20.130025Z",
     "iopub.status.busy": "2022-02-28T00:04:20.129024Z",
     "iopub.status.idle": "2022-02-28T00:04:20.148020Z",
     "shell.execute_reply": "2022-02-28T00:04:20.147066Z",
     "shell.execute_reply.started": "2022-02-28T00:04:20.130025Z"
    }
   },
   "outputs": [
    {
     "data": {
      "text/plain": [
       "{0: (19, (13, 14, 16, 17)),\n",
       " 1: (11, (10, 15)),\n",
       " 2: (14, (11, 12, 15, 16, 17, 20, 21, 22)),\n",
       " 3: (10, (14, 18, 19)),\n",
       " 4: (12, (10, 17, 18)),\n",
       " 5: (13, (12, 17, 19, 20)),\n",
       " 6: (17, (20, 22)),\n",
       " 7: (15, (10, 11, 19)),\n",
       " 8: (18, (10, 17)),\n",
       " 9: (20, (10, 13))}"
      ]
     },
     "execution_count": 4,
     "metadata": {},
     "output_type": "execute_result"
    }
   ],
   "source": [
    "eqs"
   ]
  },
  {
   "cell_type": "code",
   "execution_count": 4,
   "id": "0dc64bb1-7531-4542-82ef-a5cef77f83d2",
   "metadata": {
    "execution": {
     "iopub.execute_input": "2022-02-24T14:49:43.398616Z",
     "iopub.status.busy": "2022-02-24T14:49:43.397621Z",
     "iopub.status.idle": "2022-02-24T14:49:43.410615Z",
     "shell.execute_reply": "2022-02-24T14:49:43.409614Z",
     "shell.execute_reply.started": "2022-02-24T14:49:43.397621Z"
    },
    "tags": []
   },
   "outputs": [],
   "source": [
    "# A = np.zeros((n_eqs, n_vars)).astype(int)\n",
    "# permutation = range(n_eqs, n_vars+n_eqs)\n",
    "# for idx, (out,varsineq) in eqs.items():\n",
    "#     for var in varsineq+(out,):\n",
    "#         col = permutation.index(var)\n",
    "#         A[idx,col] = 1\n",
    "# print('A=[{}]'.format(';\\n '.join([' '.join([str(elt) for elt in row]) for row in A])))"
   ]
  },
  {
   "cell_type": "markdown",
   "id": "b8bb696b",
   "metadata": {},
   "source": [
    "# Generate test problem equations"
   ]
  },
  {
   "cell_type": "code",
   "execution_count": 44,
   "id": "4629665b",
   "metadata": {
    "execution": {
     "iopub.execute_input": "2022-02-26T20:28:59.338725Z",
     "iopub.status.busy": "2022-02-26T20:28:59.319737Z",
     "iopub.status.idle": "2022-02-26T20:28:59.493724Z",
     "shell.execute_reply": "2022-02-26T20:28:59.491721Z",
     "shell.execute_reply.started": "2022-02-26T20:28:59.337722Z"
    },
    "tags": []
   },
   "outputs": [],
   "source": [
    "rng = np.random.default_rng(12345)\n",
    "def smallrand(rng, n=1):\n",
    "    newn = np.round(rng.uniform(low=-1, high=1),n)\n",
    "    if newn == 0.:\n",
    "        return smallrand()\n",
    "    return newn"
   ]
  },
  {
   "cell_type": "code",
   "execution_count": 47,
   "id": "ad0024b9",
   "metadata": {
    "execution": {
     "iopub.execute_input": "2022-02-26T20:29:37.048282Z",
     "iopub.status.busy": "2022-02-26T20:29:37.047275Z",
     "iopub.status.idle": "2022-02-26T20:29:37.062277Z",
     "shell.execute_reply": "2022-02-26T20:29:37.061276Z",
     "shell.execute_reply.started": "2022-02-26T20:29:37.048282Z"
    },
    "tags": []
   },
   "outputs": [],
   "source": [
    "def generate_partitions(rng, vrs):\n",
    "    rvrs = copy.copy(list(vrs))\n",
    "    rng.shuffle(rvrs)\n",
    "    p = []\n",
    "    while len(rvrs) >= 3:\n",
    "        ri = rng.integers(2,4)\n",
    "        p.append((smallrand(rng), rvrs[:ri]))\n",
    "        rvrs = rvrs[ri:]\n",
    "    if rvrs:\n",
    "        p.append((smallrand(rng), rvrs))\n",
    "    return p"
   ]
  },
  {
   "cell_type": "code",
   "execution_count": 48,
   "id": "861959e8-75d9-4fd9-bb65-fd6dceae5429",
   "metadata": {
    "execution": {
     "iopub.execute_input": "2022-02-26T20:29:37.638275Z",
     "iopub.status.busy": "2022-02-26T20:29:37.638275Z",
     "iopub.status.idle": "2022-02-26T20:29:37.686277Z",
     "shell.execute_reply": "2022-02-26T20:29:37.685275Z",
     "shell.execute_reply.started": "2022-02-26T20:29:37.638275Z"
    },
    "tags": []
   },
   "outputs": [
    {
     "data": {
      "text/plain": [
       "[(0.8, [1, 10]), (-0.3, [4, 6]), (0.5, [3, 7, 2]), (-0.8, [9, 8, 5])]"
      ]
     },
     "execution_count": 48,
     "metadata": {},
     "output_type": "execute_result"
    }
   ],
   "source": [
    "generate_partitions(rng, [1,2,3,4,5,6,7,8,9,10])"
   ]
  },
  {
   "cell_type": "code",
   "execution_count": 7,
   "id": "be01fc47-d819-44f7-8bc9-e1de8ac896cc",
   "metadata": {
    "execution": {
     "iopub.execute_input": "2022-02-24T14:49:44.974521Z",
     "iopub.status.busy": "2022-02-24T14:49:44.974521Z",
     "iopub.status.idle": "2022-02-24T14:49:44.994501Z",
     "shell.execute_reply": "2022-02-24T14:49:44.993503Z",
     "shell.execute_reply.started": "2022-02-24T14:49:44.974521Z"
    },
    "tags": []
   },
   "outputs": [],
   "source": [
    "def random_function(rng, vrs, partition):\n",
    "    return sum([key*reduce(operator.mul, (vrs[var] for var in val)) for key, val in partition])+smallrand(rng)"
   ]
  },
  {
   "cell_type": "code",
   "execution_count": 8,
   "id": "9e1b1d32",
   "metadata": {
    "execution": {
     "iopub.execute_input": "2022-02-24T14:49:47.270437Z",
     "iopub.status.busy": "2022-02-24T14:49:47.269441Z",
     "iopub.status.idle": "2022-02-24T14:49:47.288436Z",
     "shell.execute_reply": "2022-02-24T14:49:47.287450Z",
     "shell.execute_reply.started": "2022-02-24T14:49:47.269441Z"
    },
    "tags": []
   },
   "outputs": [],
   "source": [
    "partitions = {idx:generate_partitions(eqvars) for idx,eqvars in eqv.items()}"
   ]
  },
  {
   "cell_type": "code",
   "execution_count": 9,
   "id": "a7540aad-8437-4a93-bb3f-3fe549dfd82c",
   "metadata": {
    "execution": {
     "iopub.execute_input": "2022-02-24T14:49:47.613981Z",
     "iopub.status.busy": "2022-02-24T14:49:47.612982Z",
     "iopub.status.idle": "2022-02-24T14:49:47.635982Z",
     "shell.execute_reply": "2022-02-24T14:49:47.634979Z",
     "shell.execute_reply.started": "2022-02-24T14:49:47.613981Z"
    },
    "tags": []
   },
   "outputs": [],
   "source": [
    "vrs = {n_eqs+idx: Var('x_{{{}}}'.format(idx)) for idx in range(n_vars)}\n",
    "vrsn = {normalize_name(var.name):var for var in vrs.values()}\n",
    "fxeqs = dict()\n",
    "fxeqs_opt = dict()\n",
    "fxdir = dict()"
   ]
  },
  {
   "cell_type": "code",
   "execution_count": 10,
   "id": "aa20cb7d",
   "metadata": {
    "execution": {
     "iopub.execute_input": "2022-02-24T14:49:48.525415Z",
     "iopub.status.busy": "2022-02-24T14:49:48.524416Z",
     "iopub.status.idle": "2022-02-24T14:49:48.682414Z",
     "shell.execute_reply": "2022-02-24T14:49:48.681412Z",
     "shell.execute_reply.started": "2022-02-24T14:49:48.525415Z"
    },
    "tags": []
   },
   "outputs": [],
   "source": [
    "reseqs = {idx: random_function(vrs, partitions[idx])+smallrand() for idx,eqvars in eqv.items()}"
   ]
  },
  {
   "cell_type": "code",
   "execution_count": 11,
   "id": "f331886d-f58b-4ce0-9d03-d4e5ec4819b2",
   "metadata": {
    "execution": {
     "iopub.execute_input": "2022-02-24T14:49:49.081887Z",
     "iopub.status.busy": "2022-02-24T14:49:49.080888Z",
     "iopub.status.idle": "2022-02-24T14:49:49.123860Z",
     "shell.execute_reply": "2022-02-24T14:49:49.122859Z",
     "shell.execute_reply.started": "2022-02-24T14:49:49.081887Z"
    },
    "tags": []
   },
   "outputs": [
    {
     "data": {
      "text/plain": [
       "{0: -0.3*x_{3}*x_{7}*x_{9} + 0.2*x_{4}*x_{6} - 0.7,\n",
       " 1: 0.9*x_{0} + 0.3*x_{1}*x_{5} - 1.0,\n",
       " 2: -0.7*x_{10} - 0.3*x_{11}*x_{1}*x_{4} - 0.8*x_{12}*x_{2}*x_{6} - 0.6*x_{5}*x_{7} - 0.8,\n",
       " 3: 0.6*x_{0}*x_{4} - 0.6*x_{8}*x_{9} - 0.7,\n",
       " 4: 0.7*x_{0}*x_{2} + 0.2*x_{7}*x_{8} - 0.9,\n",
       " 5: 0.1*x_{10}*x_{2} + 0.9*x_{3}*x_{7}*x_{9} - 0.9,\n",
       " 6: -0.5*x_{10}*x_{12}*x_{7} - 1.1,\n",
       " 7: -0.3*x_{0}*x_{5}*x_{9} + 0.8*x_{1} + 0.1,\n",
       " 8: -0.5*x_{0}*x_{7} - 0.3*x_{8} + 0.1,\n",
       " 9: -0.4*x_{0} + 0.3*x_{10}*x_{3} + 0.7}"
      ]
     },
     "execution_count": 11,
     "metadata": {},
     "output_type": "execute_result"
    }
   ],
   "source": [
    "reseqs"
   ]
  },
  {
   "cell_type": "markdown",
   "id": "a08472e0-97e1-4008-ba11-f7b907eab3ed",
   "metadata": {},
   "source": [
    "# Default inputs architectures"
   ]
  },
  {
   "cell_type": "code",
   "execution_count": 12,
   "id": "063ae21a-76a4-41e9-bec4-48fe8e325b52",
   "metadata": {
    "execution": {
     "iopub.execute_input": "2022-02-24T14:50:02.054476Z",
     "iopub.status.busy": "2022-02-24T14:50:02.053479Z",
     "iopub.status.idle": "2022-02-24T14:50:02.061464Z",
     "shell.execute_reply": "2022-02-24T14:50:02.060467Z",
     "shell.execute_reply.started": "2022-02-24T14:50:02.054476Z"
    },
    "tags": []
   },
   "outputs": [],
   "source": [
    "model = Model()\n",
    "m = RefNode(name='/', ref=model)"
   ]
  },
  {
   "cell_type": "code",
   "execution_count": 13,
   "id": "32fba95f-83d2-484b-adac-b9d6f0130c2d",
   "metadata": {
    "execution": {
     "iopub.execute_input": "2022-02-24T14:50:02.701982Z",
     "iopub.status.busy": "2022-02-24T14:50:02.700981Z",
     "iopub.status.idle": "2022-02-24T14:50:04.086985Z",
     "shell.execute_reply": "2022-02-24T14:50:04.083994Z",
     "shell.execute_reply.started": "2022-02-24T14:50:02.701982Z"
    },
    "tags": []
   },
   "outputs": [],
   "source": [
    "for idx, (left,_) in sorted(eqs.items()):\n",
    "    leftvar = vrs[left]\n",
    "    fxeq = sp.simplify(reassigneq(None, reseqs[idx], leftvar))\n",
    "    _, fx, node = adda(m, leftvar, fxeq, returnfx=True, returnnode=True)\n",
    "    fxdir[idx] = node\n",
    "    fxeqs[fx] = reseqs[idx]"
   ]
  },
  {
   "cell_type": "code",
   "execution_count": 14,
   "id": "902e920a-c544-4baa-89ad-098d7fc82c23",
   "metadata": {
    "execution": {
     "iopub.execute_input": "2022-02-24T14:50:07.797372Z",
     "iopub.status.busy": "2022-02-24T14:50:07.796375Z",
     "iopub.status.idle": "2022-02-24T14:50:07.814370Z",
     "shell.execute_reply": "2022-02-24T14:50:07.813371Z",
     "shell.execute_reply.started": "2022-02-24T14:50:07.797372Z"
    },
    "tags": []
   },
   "outputs": [],
   "source": [
    "objective_fx = sum([(vrsn[vr]-1)**2 for vr in random.sample(['x{}'.format(elt-n_eqs) for elt in dout.values()],3)])"
   ]
  },
  {
   "cell_type": "code",
   "execution_count": 15,
   "id": "a3618aab-81e6-4f32-b5f3-a21d7cd5a69a",
   "metadata": {
    "execution": {
     "iopub.execute_input": "2022-02-24T14:50:08.862899Z",
     "iopub.status.busy": "2022-02-24T14:50:08.862899Z",
     "iopub.status.idle": "2022-02-24T14:50:08.872897Z",
     "shell.execute_reply": "2022-02-24T14:50:08.871893Z",
     "shell.execute_reply.started": "2022-02-24T14:50:08.862899Z"
    },
    "tags": []
   },
   "outputs": [],
   "source": [
    "#addf(m, objective_fx, name='f');"
   ]
  },
  {
   "cell_type": "code",
   "execution_count": 16,
   "id": "4114bd76-84e2-4c42-8b70-ad174de6c9fd",
   "metadata": {
    "execution": {
     "iopub.execute_input": "2022-02-24T14:50:09.398276Z",
     "iopub.status.busy": "2022-02-24T14:50:09.397278Z",
     "iopub.status.idle": "2022-02-24T14:50:09.412276Z",
     "shell.execute_reply": "2022-02-24T14:50:09.411291Z",
     "shell.execute_reply.started": "2022-02-24T14:50:09.398276Z"
    },
    "tags": []
   },
   "outputs": [],
   "source": [
    "# fxdir[3].node_type=END\n",
    "# fxdir[9].node_type=END"
   ]
  },
  {
   "cell_type": "code",
   "execution_count": 18,
   "id": "fd6d6dd2-4745-45a1-a250-68f5756fe8c2",
   "metadata": {
    "execution": {
     "iopub.execute_input": "2022-02-24T14:50:17.518004Z",
     "iopub.status.busy": "2022-02-24T14:50:17.517003Z",
     "iopub.status.idle": "2022-02-24T14:50:18.173004Z",
     "shell.execute_reply": "2022-02-24T14:50:18.171999Z",
     "shell.execute_reply.started": "2022-02-24T14:50:17.518004Z"
    },
    "tags": []
   },
   "outputs": [
    {
     "data": {
      "image/png": "[encoded data removed]",
      "text/plain": [
       "<Figure size 432x288 with 1 Axes>"
      ]
     },
     "metadata": {
      "needs_background": "light"
     },
     "output_type": "display_data"
    }
   ],
   "source": [
    "seq1 = default_sequence(m)\n",
    "fig, ax = tree_incidence(m, eqvars(model.eqs), model.outset, seq1, figsize=(6,6));\n",
    "plt.sca(ax)\n",
    "#plt.savefig('figures/polynomial_orig_2coupled.png', dpi=600, bbox_inches='tight')"
   ]
  },
  {
   "cell_type": "code",
   "execution_count": 19,
   "id": "729117a4-33d0-431f-b7a2-145a7bb02f4a",
   "metadata": {
    "execution": {
     "iopub.execute_input": "2022-02-24T14:50:22.880672Z",
     "iopub.status.busy": "2022-02-24T14:50:22.879663Z",
     "iopub.status.idle": "2022-02-24T14:50:23.513663Z",
     "shell.execute_reply": "2022-02-24T14:50:23.512662Z",
     "shell.execute_reply.started": "2022-02-24T14:50:22.880672Z"
    },
    "tags": []
   },
   "outputs": [
    {
     "data": {
      "image/png": "[encoded data removed]",
      "text/plain": [
       "<Figure size 432x288 with 1 Axes>"
      ]
     },
     "metadata": {
      "needs_background": "light"
     },
     "output_type": "display_data"
    }
   ],
   "source": [
    "arch2 = all_residuals(m)\n",
    "seq2 = default_sequence(arch2)\n",
    "fig, ax = tree_incidence(arch2, eqvars(model.eqs), model.outset, seq2, figsize=(6,6));"
   ]
  },
  {
   "cell_type": "code",
   "execution_count": 20,
   "id": "b46c601b-3a57-4961-b391-6f77765f0e5c",
   "metadata": {
    "execution": {
     "iopub.execute_input": "2022-02-24T14:50:51.510340Z",
     "iopub.status.busy": "2022-02-24T14:50:51.510340Z",
     "iopub.status.idle": "2022-02-24T14:50:52.279336Z",
     "shell.execute_reply": "2022-02-24T14:50:52.278337Z",
     "shell.execute_reply.started": "2022-02-24T14:50:51.510340Z"
    },
    "tags": []
   },
   "outputs": [
    {
     "data": {
      "image/png": "[encoded data removed]",
      "text/plain": [
       "<Figure size 432x288 with 1 Axes>"
      ]
     },
     "metadata": {
      "needs_background": "light"
     },
     "output_type": "display_data"
    }
   ],
   "source": [
    "G, graphs = graphs_from_incidence(m, from_root=True)\n",
    "arch3 = make_acyclic(m, graphs, mdf=True)\n",
    "seq3 = default_sequence(arch3)\n",
    "fig, ax = tree_incidence(arch3, eqvars(model.eqs), model.outset, seq3, figsize=(6,6));"
   ]
  },
  {
   "cell_type": "markdown",
   "id": "c0140078-0c12-4245-8b8e-2e3a801d095d",
   "metadata": {
    "tags": []
   },
   "source": [
    "# Structurally optimized inputs"
   ]
  },
  {
   "cell_type": "code",
   "execution_count": 21,
   "id": "55f15f30-de33-4879-905d-d4b48cb5cc42",
   "metadata": {
    "execution": {
     "iopub.execute_input": "2022-02-24T14:51:05.169902Z",
     "iopub.status.busy": "2022-02-24T14:51:05.168904Z",
     "iopub.status.idle": "2022-02-24T14:51:05.186906Z",
     "shell.execute_reply": "2022-02-24T14:51:05.185903Z",
     "shell.execute_reply.started": "2022-02-24T14:51:05.169902Z"
    },
    "tags": []
   },
   "outputs": [],
   "source": [
    "_, edges_original = bipartite_repr(eqv)\n",
    "avrs = getallvars(eqs, sympy=False)\n",
    "eqns = eqs.keys()\n",
    "edges = invert_edges(edges_original)"
   ]
  },
  {
   "cell_type": "code",
   "execution_count": 22,
   "id": "eff98d3d-a147-4156-8977-ae062842f132",
   "metadata": {
    "execution": {
     "iopub.execute_input": "2022-02-24T14:51:06.894240Z",
     "iopub.status.busy": "2022-02-24T14:51:06.893238Z",
     "iopub.status.idle": "2022-02-24T14:51:07.351236Z",
     "shell.execute_reply": "2022-02-24T14:51:07.350230Z",
     "shell.execute_reply.started": "2022-02-24T14:51:06.894240Z"
    },
    "tags": []
   },
   "outputs": [
    {
     "name": "stdout",
     "output_type": "stream",
     "text": [
      "Using license file C:\\Users\\johan\\gurobi.lic\n",
      "Academic license - for non-commercial use only - expires 2022-09-25\n",
      "Warning: Gurobi version mismatch between Python 9.1.1 and C library 9.1.0\n"
     ]
    }
   ],
   "source": [
    "output = resolve(eqns, avrs, edges, 50)"
   ]
  },
  {
   "cell_type": "code",
   "execution_count": 23,
   "id": "dd1b9297-a26a-460b-84c0-ada34d500b2f",
   "metadata": {
    "execution": {
     "iopub.execute_input": "2022-02-24T14:51:09.179375Z",
     "iopub.status.busy": "2022-02-24T14:51:09.179375Z",
     "iopub.status.idle": "2022-02-24T14:51:09.187373Z",
     "shell.execute_reply": "2022-02-24T14:51:09.186376Z",
     "shell.execute_reply.started": "2022-02-24T14:51:09.179375Z"
    },
    "tags": []
   },
   "outputs": [],
   "source": [
    "soutput = sorted(output, key=lambda x: x['CLEN'])"
   ]
  },
  {
   "cell_type": "code",
   "execution_count": 24,
   "id": "7fa66e91-5acf-4808-aca9-bd4a8d57eaec",
   "metadata": {
    "execution": {
     "iopub.execute_input": "2022-02-24T14:51:10.430999Z",
     "iopub.status.busy": "2022-02-24T14:51:10.430999Z",
     "iopub.status.idle": "2022-02-24T14:51:10.447002Z",
     "shell.execute_reply": "2022-02-24T14:51:10.446004Z",
     "shell.execute_reply.started": "2022-02-24T14:51:10.430999Z"
    },
    "tags": []
   },
   "outputs": [],
   "source": [
    "out_opt = dict(soutput[0]['SOL'])"
   ]
  },
  {
   "cell_type": "code",
   "execution_count": 25,
   "id": "02bad62b-08ca-42d0-b527-7da53ae372ac",
   "metadata": {
    "execution": {
     "iopub.execute_input": "2022-02-24T14:51:11.462803Z",
     "iopub.status.busy": "2022-02-24T14:51:11.462803Z",
     "iopub.status.idle": "2022-02-24T14:51:11.478801Z",
     "shell.execute_reply": "2022-02-24T14:51:11.477797Z",
     "shell.execute_reply.started": "2022-02-24T14:51:11.462803Z"
    },
    "tags": []
   },
   "outputs": [
    {
     "data": {
      "text/plain": [
       "{0: 16, 1: 15, 2: 21, 3: 14, 4: 12, 5: 19, 6: 22, 7: 11, 8: 17, 9: 10}"
      ]
     },
     "execution_count": 25,
     "metadata": {},
     "output_type": "execute_result"
    }
   ],
   "source": [
    "out_opt"
   ]
  },
  {
   "cell_type": "code",
   "execution_count": 26,
   "id": "c74f96d6-7d1c-4d66-819b-d6a430b72a16",
   "metadata": {
    "execution": {
     "iopub.execute_input": "2022-02-24T14:51:14.561255Z",
     "iopub.status.busy": "2022-02-24T14:51:14.560254Z",
     "iopub.status.idle": "2022-02-24T14:51:14.572249Z",
     "shell.execute_reply": "2022-02-24T14:51:14.570254Z",
     "shell.execute_reply.started": "2022-02-24T14:51:14.561255Z"
    },
    "tags": []
   },
   "outputs": [],
   "source": [
    "nrev_lookup = {var:key for key,var in out_opt.items()}"
   ]
  },
  {
   "cell_type": "code",
   "execution_count": 27,
   "id": "fb939f60-9387-4e88-9088-ce7afcfe26f4",
   "metadata": {
    "execution": {
     "iopub.execute_input": "2022-02-24T14:51:15.629416Z",
     "iopub.status.busy": "2022-02-24T14:51:15.629416Z",
     "iopub.status.idle": "2022-02-24T14:51:15.639412Z",
     "shell.execute_reply": "2022-02-24T14:51:15.638409Z",
     "shell.execute_reply.started": "2022-02-24T14:51:15.629416Z"
    },
    "tags": []
   },
   "outputs": [],
   "source": [
    "model_optinp = Model()\n",
    "m2 = RefNode(name='/', ref=model_optinp)"
   ]
  },
  {
   "cell_type": "code",
   "execution_count": 28,
   "id": "99fe3d70-089f-41d9-9a82-3a949b99b939",
   "metadata": {
    "execution": {
     "iopub.execute_input": "2022-02-24T14:51:19.226197Z",
     "iopub.status.busy": "2022-02-24T14:51:19.224187Z",
     "iopub.status.idle": "2022-02-24T14:51:20.204174Z",
     "shell.execute_reply": "2022-02-24T14:51:20.201276Z",
     "shell.execute_reply.started": "2022-02-24T14:51:19.226197Z"
    },
    "tags": []
   },
   "outputs": [],
   "source": [
    "for idx, eq in sorted(reseqs.items()):\n",
    "    left = out_opt[idx]\n",
    "    leftvar = vrs[left]\n",
    "    fxeq = sp.simplify(reassigneq(None, eq, leftvar))\n",
    "    _, fx = adda(m2, leftvar, fxeq, returnfx=True)\n",
    "    fxeqs_opt[fx] = reseqs[idx]"
   ]
  },
  {
   "cell_type": "code",
   "execution_count": 29,
   "id": "816c5f84-f602-45e8-b133-3ae4b5c589e7",
   "metadata": {
    "execution": {
     "iopub.execute_input": "2022-02-24T14:51:21.357705Z",
     "iopub.status.busy": "2022-02-24T14:51:21.356714Z",
     "iopub.status.idle": "2022-02-24T14:51:21.376701Z",
     "shell.execute_reply": "2022-02-24T14:51:21.375706Z",
     "shell.execute_reply.started": "2022-02-24T14:51:21.357705Z"
    },
    "tags": []
   },
   "outputs": [],
   "source": [
    "eqs_optinp, eqv_optinp, dout_optinp, dins_optinp = model_optinp.data_structures()"
   ]
  },
  {
   "cell_type": "code",
   "execution_count": 30,
   "id": "29a7830b-337c-4fe4-96d4-e250ad122901",
   "metadata": {
    "execution": {
     "iopub.execute_input": "2022-02-24T14:51:22.860104Z",
     "iopub.status.busy": "2022-02-24T14:51:22.859098Z",
     "iopub.status.idle": "2022-02-24T14:51:22.892093Z",
     "shell.execute_reply": "2022-02-24T14:51:22.891101Z",
     "shell.execute_reply.started": "2022-02-24T14:51:22.860104Z"
    },
    "tags": []
   },
   "outputs": [],
   "source": [
    "G, graphs = graphs_from_incidence(m2, from_root=True)\n",
    "arch4 = make_acyclic(m2, graphs)\n",
    "arch5 = make_acyclic(m2, graphs)"
   ]
  },
  {
   "cell_type": "code",
   "execution_count": 31,
   "id": "728499ca-e07e-44b7-bead-cfcc2d3a3a7b",
   "metadata": {
    "execution": {
     "iopub.execute_input": "2022-02-24T14:51:26.068583Z",
     "iopub.status.busy": "2022-02-24T14:51:26.067581Z",
     "iopub.status.idle": "2022-02-24T14:51:26.080581Z",
     "shell.execute_reply": "2022-02-24T14:51:26.079581Z",
     "shell.execute_reply.started": "2022-02-24T14:51:26.068583Z"
    },
    "tags": []
   },
   "outputs": [],
   "source": [
    "fobj = addf(arch5, objective_fx, name='f')\n",
    "addsolver(arch5, arch5.children,[(fobj,dins_optinp)]);"
   ]
  },
  {
   "cell_type": "code",
   "execution_count": 32,
   "id": "57494f6f-22bb-4737-9951-35ab57d242c1",
   "metadata": {
    "execution": {
     "iopub.execute_input": "2022-02-24T14:51:26.687876Z",
     "iopub.status.busy": "2022-02-24T14:51:26.687876Z",
     "iopub.status.idle": "2022-02-24T14:51:26.709877Z",
     "shell.execute_reply": "2022-02-24T14:51:26.708917Z",
     "shell.execute_reply.started": "2022-02-24T14:51:26.687876Z"
    },
    "tags": []
   },
   "outputs": [
    {
     "name": "stdout",
     "output_type": "stream",
     "text": [
      "/               \n",
      "├── f_{9}, INTER\n",
      "├── f_{8}, INTER\n",
      "├── f_{4}, INTER\n",
      "├── f_{6}, INTER\n",
      "├── f_{5}, INTER\n",
      "├── f_{3}, INTER\n",
      "├── ., SOLVER   \n",
      "│   ├── f_{7}, END\n",
      "│   └── f_{1}, END\n",
      "├── f_{0}, INTER\n",
      "└── f_{2}, INTER\n"
     ]
    }
   ],
   "source": [
    "render_tree(arch4, display_type=True)"
   ]
  },
  {
   "cell_type": "code",
   "execution_count": 34,
   "id": "54bf5771",
   "metadata": {
    "execution": {
     "iopub.execute_input": "2022-02-24T14:51:34.371904Z",
     "iopub.status.busy": "2022-02-24T14:51:34.371904Z",
     "iopub.status.idle": "2022-02-24T14:51:35.000903Z",
     "shell.execute_reply": "2022-02-24T14:51:34.999901Z",
     "shell.execute_reply.started": "2022-02-24T14:51:34.371904Z"
    },
    "tags": []
   },
   "outputs": [
    {
     "data": {
      "image/png": "[encoded data removed]",
      "text/plain": [
       "<Figure size 432x288 with 1 Axes>"
      ]
     },
     "metadata": {
      "needs_background": "light"
     },
     "output_type": "display_data"
    }
   ],
   "source": [
    "seq4 = default_sequence(arch4)\n",
    "fig, ax = tree_incidence(arch4, eqvars(model_optinp.eqs), model_optinp.outset, seq4, figsize=(10,10));\n",
    "plt.sca(ax)\n",
    "#plt.savefig('figures/polynomial_triang_2coupled.png', dpi=600, bbox_inches='tight')"
   ]
  },
  {
   "cell_type": "markdown",
   "id": "f2a7494a",
   "metadata": {},
   "source": [
    "# For polynomial testing eqs"
   ]
  },
  {
   "cell_type": "code",
   "execution_count": 35,
   "id": "22071b72",
   "metadata": {
    "execution": {
     "iopub.execute_input": "2022-02-24T14:51:43.663241Z",
     "iopub.status.busy": "2022-02-24T14:51:43.662238Z",
     "iopub.status.idle": "2022-02-24T14:51:43.694255Z",
     "shell.execute_reply": "2022-02-24T14:51:43.693238Z",
     "shell.execute_reply.started": "2022-02-24T14:51:43.663241Z"
    },
    "tags": []
   },
   "outputs": [
    {
     "name": "stdout",
     "output_type": "stream",
     "text": [
      "@var x_0, x_1, x_2, x_3, x_4, x_5, x_6, x_7, x_8, x_9, x_10, x_11, x_12\n",
      "@var λ[1:10];\n",
      "h0=-0.3*x_3*x_7*x_9 + 0.2*x_4*x_6 - 0.7;\n",
      "h1=0.9*x_0 + 0.3*x_1*x_5 - 1.0;\n",
      "h2=-0.7*x_10 - 0.3*x_11*x_1*x_4 - 0.8*x_12*x_2*x_6 - 0.6*x_5*x_7 - 0.8;\n",
      "h3=0.6*x_0*x_4 - 0.6*x_8*x_9 - 0.7;\n",
      "h4=0.7*x_0*x_2 + 0.2*x_7*x_8 - 0.9;\n",
      "h5=0.1*x_10*x_2 + 0.9*x_3*x_7*x_9 - 0.9;\n",
      "h6=-0.5*x_10*x_12*x_7 - 1.1;\n",
      "h7=-0.3*x_0*x_5*x_9 + 0.8*x_1 + 0.1;\n",
      "h8=-0.5*x_0*x_7 - 0.3*x_8 + 0.1;\n",
      "h9=-0.4*x_0 + 0.3*x_10*x_3 + 0.7;\n",
      "vars=[x_0, x_1, x_2, x_3, x_4, x_5, x_6, x_7, x_8, x_9, x_10, x_11, x_12]\n",
      "h=[h0, h1, h2, h3, h4, h5, h6, h7, h8, h9];\n"
     ]
    }
   ],
   "source": [
    "print('@var {}'.format(\", \".join([normalize_name(vr.name,keep_underscore=True) for vr in vrs.values()])))\n",
    "print('@var λ[1:{}];'.format(n_eqs))\n",
    "for key, var in reseqs.items():\n",
    "    print('h{}={};'.format(key, normalize_name(str(var), keep_underscore=True)))\n",
    "print('vars=[{}]'.format(\", \".join([normalize_name(vr.name,keep_underscore=True) for vr in vrs.values()])))\n",
    "#print('dfdx=[{}]'.format(\", \".join([str(0) if vr not in [16, 22, 21] else 'x_{}'.format(vr) for vr in vrs])))\n",
    "print('h=[{}];'.format(\", \".join(['h{}'.format(eq) for eq in reseqs.keys()])))"
   ]
  },
  {
   "cell_type": "markdown",
   "id": "1523c08c-385c-46f6-8f05-a0bb891817c3",
   "metadata": {
    "tags": []
   },
   "source": [
    "# Execution order"
   ]
  },
  {
   "cell_type": "code",
   "execution_count": 37,
   "id": "ddc023fa-933a-4ac3-81d5-c29eef49c7ef",
   "metadata": {
    "execution": {
     "iopub.execute_input": "2022-02-24T15:15:33.605244Z",
     "iopub.status.busy": "2022-02-24T15:15:33.600245Z",
     "iopub.status.idle": "2022-02-24T15:15:33.651242Z",
     "shell.execute_reply": "2022-02-24T15:15:33.650243Z",
     "shell.execute_reply.started": "2022-02-24T15:15:33.604240Z"
    },
    "tags": []
   },
   "outputs": [],
   "source": [
    "exec_instructions = {\n",
    "    'arch2': generate_execution(notation_from_tree(arch2, model.outset)),\n",
    "    'arch3': generate_execution(notation_from_tree(arch3, model.outset)),\n",
    "    'arch4': generate_execution(notation_from_tree(arch4, model_optinp.outset))\n",
    "}"
   ]
  },
  {
   "cell_type": "markdown",
   "id": "fe6b8a0a-d0ee-463d-9541-da80f19bbee6",
   "metadata": {},
   "source": [
    "# Build openMDAO problem"
   ]
  },
  {
   "cell_type": "code",
   "execution_count": 38,
   "id": "fc28f27a-2e50-4c3e-98c5-ee5fd55687d6",
   "metadata": {
    "execution": {
     "iopub.execute_input": "2022-02-24T15:15:34.588671Z",
     "iopub.status.busy": "2022-02-24T15:15:34.588671Z",
     "iopub.status.idle": "2022-02-24T15:15:34.608669Z",
     "shell.execute_reply": "2022-02-24T15:15:34.607671Z",
     "shell.execute_reply.started": "2022-02-24T15:15:34.588671Z"
    },
    "tags": []
   },
   "outputs": [],
   "source": [
    "#objective = Function('f', END)\n",
    "#optin[objective] = (None,objective_fx)"
   ]
  },
  {
   "cell_type": "code",
   "execution_count": 54,
   "id": "e73773bd-81f9-4651-91b1-3245b1bce330",
   "metadata": {
    "execution": {
     "iopub.execute_input": "2022-02-26T23:41:35.836968Z",
     "iopub.status.busy": "2022-02-26T23:41:35.835967Z",
     "iopub.status.idle": "2022-02-26T23:41:35.872964Z",
     "shell.execute_reply": "2022-02-26T23:41:35.871966Z",
     "shell.execute_reply.started": "2022-02-26T23:41:35.836968Z"
    },
    "tags": []
   },
   "outputs": [],
   "source": [
    "eqsd, _,_,_ = model.data_structures()"
   ]
  },
  {
   "cell_type": "code",
   "execution_count": 55,
   "id": "4b28168c-a632-4cfc-b9cf-3a15c8cdd5a8",
   "metadata": {
    "execution": {
     "iopub.execute_input": "2022-02-26T23:41:38.894810Z",
     "iopub.status.busy": "2022-02-26T23:41:38.893808Z",
     "iopub.status.idle": "2022-02-26T23:41:38.972814Z",
     "shell.execute_reply": "2022-02-26T23:41:38.971814Z",
     "shell.execute_reply.started": "2022-02-26T23:41:38.894810Z"
    }
   },
   "outputs": [
    {
     "data": {
      "text/plain": [
       "{f0: (x_9, (0.666666666666667*x_4*x_6 - 2.33333333333333)/(x_3*x_7)),\n",
       " f1: (x_1, (3.33333333333333 - 3.0*x_0)/x_5),\n",
       " f2: (x_4,\n",
       "  -(2.33333333333333*x_10 + 2.66666666666667*x_12*x_2*x_6 + 2.0*x_5*x_7 + 2.66666666666667)/(x_11*x_1)),\n",
       " f3: (x_0, (x_8*x_9 + 1.16666666666667)/x_4),\n",
       " f4: (x_2, (-0.285714285714286*x_7*x_8 + 1.28571428571429)/x_0),\n",
       " f5: (x_3, (-0.111111111111111*x_10*x_2 + 1.0)/(x_7*x_9)),\n",
       " f6: (x_7, -2.2/(x_10*x_12)),\n",
       " f7: (x_5, (2.66666666666667*x_1 + 0.333333333333333)/(x_0*x_9)),\n",
       " f8: (x_8, -1.66666666666667*x_0*x_7 + 0.333333333333333),\n",
       " f9: (x_10, (1.33333333333333*x_0 - 2.33333333333333)/x_3)}"
      ]
     },
     "execution_count": 55,
     "metadata": {},
     "output_type": "execute_result"
    }
   ],
   "source": [
    "eqsd"
   ]
  },
  {
   "cell_type": "code",
   "execution_count": 39,
   "id": "93e0f53c-3856-4bb0-87cf-f1f7863866e3",
   "metadata": {
    "execution": {
     "iopub.execute_input": "2022-02-24T15:15:36.420810Z",
     "iopub.status.busy": "2022-02-24T15:15:36.419803Z",
     "iopub.status.idle": "2022-02-24T15:15:36.439798Z",
     "shell.execute_reply": "2022-02-24T15:15:36.438800Z",
     "shell.execute_reply.started": "2022-02-24T15:15:36.420810Z"
    },
    "tags": []
   },
   "outputs": [],
   "source": [
    "for vr in vrs.values():\n",
    "    vr.name = normalize_name(vr.name, keep_underscore=True)\n",
    "for fx in fxeqs.keys():\n",
    "    fx.name = normalize_name(fx.name, keep_underscore=False)\n",
    "for fx in fxeqs_opt.keys():\n",
    "    fx.name = normalize_name(fx.name, keep_underscore=False)"
   ]
  },
  {
   "cell_type": "code",
   "execution_count": 40,
   "id": "fe7ee403-c8e5-4dd7-bdfd-f26c303b9555",
   "metadata": {
    "execution": {
     "iopub.execute_input": "2022-02-24T15:15:38.001864Z",
     "iopub.status.busy": "2022-02-24T15:15:38.000863Z",
     "iopub.status.idle": "2022-02-24T15:15:38.025843Z",
     "shell.execute_reply": "2022-02-24T15:15:38.023852Z",
     "shell.execute_reply.started": "2022-02-24T15:15:38.000863Z"
    },
    "tags": []
   },
   "outputs": [],
   "source": [
    "inst_mapping = {\n",
    "    'exp': lambda *args: explicit(groups, eqs, *args),\n",
    "    'solver': lambda *args: solver(groups, optin, *args, maxiter=200)\n",
    "}"
   ]
  },
  {
   "cell_type": "code",
   "execution_count": 147,
   "id": "5407ef2e-09fe-4f56-b591-eb4706f79513",
   "metadata": {
    "execution": {
     "iopub.execute_input": "2022-02-10T15:55:56.680231Z",
     "iopub.status.busy": "2022-02-10T15:55:56.680231Z",
     "iopub.status.idle": "2022-02-10T15:55:56.701231Z",
     "shell.execute_reply": "2022-02-10T15:55:56.700228Z",
     "shell.execute_reply.started": "2022-02-10T15:55:56.680231Z"
    },
    "tags": []
   },
   "outputs": [],
   "source": [
    "mdl = model#model_optinp\n",
    "fxeq = fxeqs#fxeqs_opt\n",
    "arch = 'arch2'"
   ]
  },
  {
   "cell_type": "code",
   "execution_count": null,
   "id": "1a68782f-0e70-4f92-b661-41fcee0f5e5b",
   "metadata": {},
   "outputs": [],
   "source": [
    "def build_archi(model, fxeqs, exec_instructions_pick):\n",
    "    eqs, eqv, dout, dins = mdl.data_structures()\n",
    "    optin = {key:(None, val) for key,val in fxeq.items()}\n",
    "    mdao_in = [str(elt) for elt in dins]\n",
    "    \n",
    "    # Build MDO model\n",
    "    prob = om.Problem()\n",
    "    mdo_model = prob.model\n",
    "    groups = {0:mdo_model}\n",
    "    \n",
    "    buildidpvars(mdao_in, mdo_model)\n",
    "    \n",
    "    for comp_type, *comp_args in exec_instructions_pick:\n",
    "        inst_mapping[comp_type](*comp_args)\n",
    "    \n",
    "    prob.setup();\n",
    "    return prob"
   ]
  },
  {
   "cell_type": "code",
   "execution_count": 43,
   "id": "d526cf50-9e4f-4c06-ac2c-00c02b67aa07",
   "metadata": {
    "execution": {
     "iopub.execute_input": "2022-02-24T18:58:24.914780Z",
     "iopub.status.busy": "2022-02-24T18:58:24.914780Z",
     "iopub.status.idle": "2022-02-24T18:58:24.935780Z",
     "shell.execute_reply": "2022-02-24T18:58:24.934779Z",
     "shell.execute_reply.started": "2022-02-24T18:58:24.914780Z"
    },
    "tags": []
   },
   "outputs": [],
   "source": [
    "def generate_x0(varnames=None, optres=None):\n",
    "    varnames = optres.values() if optres else varnames\n",
    "    x0 = {name:(optres.get(name, None) if optres else 0.1)+np.random.uniform(10,20)*np.random.randint(-1,1) for name in varnames}\n",
    "    return x0"
   ]
  },
  {
   "cell_type": "code",
   "execution_count": null,
   "id": "71916f4e-44c0-4b2b-ba8a-b7c0cd05b8e7",
   "metadata": {},
   "outputs": [],
   "source": [
    "def run_and_save_archi(x0, vrs, optres_all):\n",
    "    for key,val in x0.items():\n",
    "        prob.set_val(key,val)\n",
    "    prob.run_model()\n",
    "    optres = extractvals(prob, vrs)\n",
    "    optres_all.append(extractvals(prob, vrs))\n",
    "    return optres"
   ]
  },
  {
   "cell_type": "code",
   "execution_count": 148,
   "id": "d3e89df9-20c7-4a62-bb69-4d210822bb28",
   "metadata": {
    "execution": {
     "iopub.execute_input": "2022-02-10T15:55:57.600982Z",
     "iopub.status.busy": "2022-02-10T15:55:57.599980Z",
     "iopub.status.idle": "2022-02-10T15:55:57.611984Z",
     "shell.execute_reply": "2022-02-10T15:55:57.610987Z",
     "shell.execute_reply.started": "2022-02-10T15:55:57.600982Z"
    },
    "tags": []
   },
   "outputs": [],
   "source": [
    "eqs, eqv, dout, dins = mdl.data_structures()"
   ]
  },
  {
   "cell_type": "code",
   "execution_count": 149,
   "id": "5f5ef473-ca2c-4d38-b0f3-a43a10ce7dbf",
   "metadata": {
    "execution": {
     "iopub.execute_input": "2022-02-10T15:56:00.312843Z",
     "iopub.status.busy": "2022-02-10T15:56:00.311847Z",
     "iopub.status.idle": "2022-02-10T15:56:00.318846Z",
     "shell.execute_reply": "2022-02-10T15:56:00.317847Z",
     "shell.execute_reply.started": "2022-02-10T15:56:00.312843Z"
    },
    "tags": []
   },
   "outputs": [],
   "source": [
    "#equality constraints\n",
    "optin = {key:(None, val) for key,val in fxeq.items()}"
   ]
  },
  {
   "cell_type": "code",
   "execution_count": 150,
   "id": "2aba3542-6c42-4999-ba14-6f65969bb223",
   "metadata": {
    "execution": {
     "iopub.execute_input": "2022-02-10T15:56:00.892099Z",
     "iopub.status.busy": "2022-02-10T15:56:00.892099Z",
     "iopub.status.idle": "2022-02-10T15:56:00.913099Z",
     "shell.execute_reply": "2022-02-10T15:56:00.912137Z",
     "shell.execute_reply.started": "2022-02-10T15:56:00.892099Z"
    },
    "tags": []
   },
   "outputs": [],
   "source": [
    "mdao_in = [str(elt) for elt in dins]"
   ]
  },
  {
   "cell_type": "code",
   "execution_count": 151,
   "id": "e5cbffec",
   "metadata": {
    "execution": {
     "iopub.execute_input": "2022-02-10T15:56:03.133217Z",
     "iopub.status.busy": "2022-02-10T15:56:03.132220Z",
     "iopub.status.idle": "2022-02-10T15:56:03.146217Z",
     "shell.execute_reply": "2022-02-10T15:56:03.145251Z",
     "shell.execute_reply.started": "2022-02-10T15:56:03.133217Z"
    },
    "tags": []
   },
   "outputs": [],
   "source": [
    "prob = om.Problem()\n",
    "mdo_model = prob.model\n",
    "groups = {0:mdo_model}"
   ]
  },
  {
   "cell_type": "code",
   "execution_count": 152,
   "id": "e192eb31-e61d-4778-bad9-9332739db9d4",
   "metadata": {
    "execution": {
     "iopub.execute_input": "2022-02-10T15:56:04.298659Z",
     "iopub.status.busy": "2022-02-10T15:56:04.297664Z",
     "iopub.status.idle": "2022-02-10T15:56:04.305661Z",
     "shell.execute_reply": "2022-02-10T15:56:04.304658Z",
     "shell.execute_reply.started": "2022-02-10T15:56:04.298659Z"
    },
    "tags": []
   },
   "outputs": [],
   "source": [
    "buildidpvars(mdao_in, mdo_model)"
   ]
  },
  {
   "cell_type": "code",
   "execution_count": 153,
   "id": "f4969822-eb61-40ac-9404-abe067173a6b",
   "metadata": {
    "execution": {
     "iopub.execute_input": "2022-02-10T15:56:06.724945Z",
     "iopub.status.busy": "2022-02-10T15:56:06.723944Z",
     "iopub.status.idle": "2022-02-10T15:56:06.740936Z",
     "shell.execute_reply": "2022-02-10T15:56:06.739935Z",
     "shell.execute_reply.started": "2022-02-10T15:56:06.724945Z"
    },
    "tags": []
   },
   "outputs": [],
   "source": [
    "exec_instructions_pick = exec_instructions[arch]"
   ]
  },
  {
   "cell_type": "code",
   "execution_count": 154,
   "id": "cc1d499e-e578-415d-808d-b0bb63006a5a",
   "metadata": {
    "execution": {
     "iopub.execute_input": "2022-02-10T15:56:07.739627Z",
     "iopub.status.busy": "2022-02-10T15:56:07.738627Z",
     "iopub.status.idle": "2022-02-10T15:56:07.785627Z",
     "shell.execute_reply": "2022-02-10T15:56:07.784672Z",
     "shell.execute_reply.started": "2022-02-10T15:56:07.739627Z"
    },
    "tags": []
   },
   "outputs": [],
   "source": [
    "for comp_type, *comp_args in exec_instructions_pick:\n",
    "    inst_mapping[comp_type](*comp_args)"
   ]
  },
  {
   "cell_type": "code",
   "execution_count": 155,
   "id": "5b74301d",
   "metadata": {
    "execution": {
     "iopub.execute_input": "2022-02-10T15:56:08.157903Z",
     "iopub.status.busy": "2022-02-10T15:56:08.157903Z",
     "iopub.status.idle": "2022-02-10T15:56:08.176903Z",
     "shell.execute_reply": "2022-02-10T15:56:08.175901Z",
     "shell.execute_reply.started": "2022-02-10T15:56:08.157903Z"
    },
    "tags": []
   },
   "outputs": [],
   "source": [
    "prob.setup();"
   ]
  },
  {
   "cell_type": "code",
   "execution_count": 213,
   "id": "37b08b30-0cde-42ec-bb4c-04625dadca95",
   "metadata": {
    "execution": {
     "iopub.execute_input": "2022-02-10T16:04:40.874549Z",
     "iopub.status.busy": "2022-02-10T16:04:40.873549Z",
     "iopub.status.idle": "2022-02-10T16:04:40.894548Z",
     "shell.execute_reply": "2022-02-10T16:04:40.893548Z",
     "shell.execute_reply.started": "2022-02-10T16:04:40.874549Z"
    },
    "tags": []
   },
   "outputs": [],
   "source": [
    "zero_instead_of_val = True\n",
    "x0 = {name:(0.1 if zero_instead_of_val else val)+np.random.uniform(10,20)*np.random.randint(-1,1) for name, val in optres.items()}\n",
    "for key,val in x0.items():\n",
    "    prob.set_val(key,val)"
   ]
  },
  {
   "cell_type": "code",
   "execution_count": 214,
   "id": "438968d6-0dae-4bce-9c74-978716394749",
   "metadata": {
    "execution": {
     "iopub.execute_input": "2022-02-10T16:04:41.574555Z",
     "iopub.status.busy": "2022-02-10T16:04:41.574555Z",
     "iopub.status.idle": "2022-02-10T16:04:41.582554Z",
     "shell.execute_reply": "2022-02-10T16:04:41.580559Z",
     "shell.execute_reply.started": "2022-02-10T16:04:41.574555Z"
    },
    "tags": []
   },
   "outputs": [],
   "source": [
    "#for elt in mdao_in:\n",
    "#    prob.set_val(elt, 1.0)"
   ]
  },
  {
   "cell_type": "code",
   "execution_count": 215,
   "id": "f2f35e31-342e-4343-b0bf-992272cb8c68",
   "metadata": {
    "execution": {
     "iopub.execute_input": "2022-02-10T16:04:42.017450Z",
     "iopub.status.busy": "2022-02-10T16:04:42.017450Z",
     "iopub.status.idle": "2022-02-10T16:04:42.036449Z",
     "shell.execute_reply": "2022-02-10T16:04:42.035447Z",
     "shell.execute_reply.started": "2022-02-10T16:04:42.017450Z"
    },
    "tags": []
   },
   "outputs": [],
   "source": [
    "for elt in mdao_in:\n",
    "    prob.set_val(elt, optres[elt])"
   ]
  },
  {
   "cell_type": "code",
   "execution_count": 216,
   "id": "ef5bea6e-81db-4d3f-851c-ad2ea69b4ff1",
   "metadata": {
    "execution": {
     "iopub.execute_input": "2022-02-10T16:04:42.423390Z",
     "iopub.status.busy": "2022-02-10T16:04:42.422399Z",
     "iopub.status.idle": "2022-02-10T16:04:42.429399Z",
     "shell.execute_reply": "2022-02-10T16:04:42.428393Z",
     "shell.execute_reply.started": "2022-02-10T16:04:42.423390Z"
    },
    "tags": []
   },
   "outputs": [],
   "source": [
    "# for elt in vrs.values():\n",
    "#     prob.set_val(elt.name,np.random.randint(-10,10))"
   ]
  },
  {
   "cell_type": "code",
   "execution_count": 217,
   "id": "915b44de-e0ca-4ffa-b1ea-0cb26e4363aa",
   "metadata": {
    "execution": {
     "iopub.execute_input": "2022-02-10T16:04:43.006919Z",
     "iopub.status.busy": "2022-02-10T16:04:43.005920Z",
     "iopub.status.idle": "2022-02-10T16:04:44.820095Z",
     "shell.execute_reply": "2022-02-10T16:04:44.819096Z",
     "shell.execute_reply.started": "2022-02-10T16:04:43.006919Z"
    },
    "tags": []
   },
   "outputs": [
    {
     "name": "stdout",
     "output_type": "stream",
     "text": [
      "\n",
      "======\n",
      "group1\n",
      "======\n",
      "NL: NewtonSolver 'NL: Newton' on system 'group1' failed to converge in 200 iterations.\n"
     ]
    }
   ],
   "source": [
    "prob.run_model()"
   ]
  },
  {
   "cell_type": "code",
   "execution_count": 201,
   "id": "483ddcb9-ee40-4db2-ba81-fb53361c8c1e",
   "metadata": {
    "execution": {
     "iopub.execute_input": "2022-02-10T16:03:10.958255Z",
     "iopub.status.busy": "2022-02-10T16:03:10.957253Z",
     "iopub.status.idle": "2022-02-10T16:03:10.973253Z",
     "shell.execute_reply": "2022-02-10T16:03:10.972253Z",
     "shell.execute_reply.started": "2022-02-10T16:03:10.958255Z"
    },
    "tags": []
   },
   "outputs": [],
   "source": [
    "optres_all.append(extractvals(prob, vrs))"
   ]
  },
  {
   "cell_type": "code",
   "execution_count": 202,
   "id": "6f419787-8e90-4461-ba26-e1deb644ff79",
   "metadata": {
    "execution": {
     "iopub.execute_input": "2022-02-10T16:03:11.360258Z",
     "iopub.status.busy": "2022-02-10T16:03:11.359270Z",
     "iopub.status.idle": "2022-02-10T16:03:11.411259Z",
     "shell.execute_reply": "2022-02-10T16:03:11.410252Z",
     "shell.execute_reply.started": "2022-02-10T16:03:11.359270Z"
    },
    "tags": []
   },
   "outputs": [
    {
     "data": {
      "text/html": [
       "<div>\n",
       "<style scoped>\n",
       "    .dataframe tbody tr th:only-of-type {\n",
       "        vertical-align: middle;\n",
       "    }\n",
       "\n",
       "    .dataframe tbody tr th {\n",
       "        vertical-align: top;\n",
       "    }\n",
       "\n",
       "    .dataframe thead th {\n",
       "        text-align: right;\n",
       "    }\n",
       "</style>\n",
       "<table border=\"1\" class=\"dataframe\">\n",
       "  <thead>\n",
       "    <tr style=\"text-align: right;\">\n",
       "      <th></th>\n",
       "      <th>x_0</th>\n",
       "      <th>x_1</th>\n",
       "      <th>x_2</th>\n",
       "      <th>x_3</th>\n",
       "      <th>x_4</th>\n",
       "      <th>x_5</th>\n",
       "      <th>x_6</th>\n",
       "      <th>x_7</th>\n",
       "      <th>x_8</th>\n",
       "      <th>x_9</th>\n",
       "      <th>x_10</th>\n",
       "      <th>x_11</th>\n",
       "      <th>x_12</th>\n",
       "    </tr>\n",
       "  </thead>\n",
       "  <tbody>\n",
       "    <tr>\n",
       "      <th>0</th>\n",
       "      <td>2.500000</td>\n",
       "      <td>-4.855545</td>\n",
       "      <td>0.532571</td>\n",
       "      <td>1.000000</td>\n",
       "      <td>-1.885397</td>\n",
       "      <td>0.858126</td>\n",
       "      <td>-2.604883</td>\n",
       "      <td>-0.160000</td>\n",
       "      <td>1.000000</td>\n",
       "      <td>-5.880159</td>\n",
       "      <td>1.000000</td>\n",
       "      <td>5.040266</td>\n",
       "      <td>13.75</td>\n",
       "    </tr>\n",
       "    <tr>\n",
       "      <th>1</th>\n",
       "      <td>1.935346</td>\n",
       "      <td>-4.329879</td>\n",
       "      <td>0.664983</td>\n",
       "      <td>0.018300</td>\n",
       "      <td>-1.344897</td>\n",
       "      <td>0.571079</td>\n",
       "      <td>-2.604883</td>\n",
       "      <td>-0.011848</td>\n",
       "      <td>0.371550</td>\n",
       "      <td>-10.145360</td>\n",
       "      <td>13.504409</td>\n",
       "      <td>5.040266</td>\n",
       "      <td>13.75</td>\n",
       "    </tr>\n",
       "    <tr>\n",
       "      <th>2</th>\n",
       "      <td>2.500000</td>\n",
       "      <td>-4.855545</td>\n",
       "      <td>0.532571</td>\n",
       "      <td>1.000000</td>\n",
       "      <td>-1.885397</td>\n",
       "      <td>0.858126</td>\n",
       "      <td>-2.604883</td>\n",
       "      <td>-0.160000</td>\n",
       "      <td>1.000000</td>\n",
       "      <td>-5.880159</td>\n",
       "      <td>1.000000</td>\n",
       "      <td>5.040266</td>\n",
       "      <td>13.75</td>\n",
       "    </tr>\n",
       "    <tr>\n",
       "      <th>3</th>\n",
       "      <td>-0.606127</td>\n",
       "      <td>-0.084239</td>\n",
       "      <td>5.312771</td>\n",
       "      <td>-80.884709</td>\n",
       "      <td>-1.906270</td>\n",
       "      <td>-61.155899</td>\n",
       "      <td>-2.604883</td>\n",
       "      <td>-4.119543</td>\n",
       "      <td>-3.828275</td>\n",
       "      <td>0.002932</td>\n",
       "      <td>0.038839</td>\n",
       "      <td>5.040266</td>\n",
       "      <td>13.75</td>\n",
       "    </tr>\n",
       "    <tr>\n",
       "      <th>4</th>\n",
       "      <td>-0.868336</td>\n",
       "      <td>-0.002407</td>\n",
       "      <td>-1.477456</td>\n",
       "      <td>0.573109</td>\n",
       "      <td>-1.343632</td>\n",
       "      <td>-2466.781806</td>\n",
       "      <td>-2.604883</td>\n",
       "      <td>0.026266</td>\n",
       "      <td>0.371346</td>\n",
       "      <td>0.000153</td>\n",
       "      <td>-6.091539</td>\n",
       "      <td>5.040266</td>\n",
       "      <td>13.75</td>\n",
       "    </tr>\n",
       "  </tbody>\n",
       "</table>\n",
       "</div>"
      ],
      "text/plain": [
       "        x_0       x_1       x_2        x_3       x_4          x_5       x_6  \\\n",
       "0  2.500000 -4.855545  0.532571   1.000000 -1.885397     0.858126 -2.604883   \n",
       "1  1.935346 -4.329879  0.664983   0.018300 -1.344897     0.571079 -2.604883   \n",
       "2  2.500000 -4.855545  0.532571   1.000000 -1.885397     0.858126 -2.604883   \n",
       "3 -0.606127 -0.084239  5.312771 -80.884709 -1.906270   -61.155899 -2.604883   \n",
       "4 -0.868336 -0.002407 -1.477456   0.573109 -1.343632 -2466.781806 -2.604883   \n",
       "\n",
       "        x_7       x_8        x_9       x_10      x_11   x_12  \n",
       "0 -0.160000  1.000000  -5.880159   1.000000  5.040266  13.75  \n",
       "1 -0.011848  0.371550 -10.145360  13.504409  5.040266  13.75  \n",
       "2 -0.160000  1.000000  -5.880159   1.000000  5.040266  13.75  \n",
       "3 -4.119543 -3.828275   0.002932   0.038839  5.040266  13.75  \n",
       "4  0.026266  0.371346   0.000153  -6.091539  5.040266  13.75  "
      ]
     },
     "execution_count": 202,
     "metadata": {},
     "output_type": "execute_result"
    }
   ],
   "source": [
    "pd.DataFrame.from_dict(optres_all)"
   ]
  },
  {
   "cell_type": "code",
   "execution_count": 140,
   "id": "ccb621c4-5ced-48bb-9199-ff3b4287ead8",
   "metadata": {
    "execution": {
     "iopub.execute_input": "2022-02-10T15:55:33.429480Z",
     "iopub.status.busy": "2022-02-10T15:55:33.428479Z",
     "iopub.status.idle": "2022-02-10T15:55:33.445478Z",
     "shell.execute_reply": "2022-02-10T15:55:33.444477Z",
     "shell.execute_reply.started": "2022-02-10T15:55:33.429480Z"
    },
    "tags": []
   },
   "outputs": [],
   "source": [
    "optres = extractvals(prob, vrs)"
   ]
  },
  {
   "cell_type": "code",
   "execution_count": 143,
   "id": "f16161a7-538e-48e1-84c7-c33bb8b9a240",
   "metadata": {
    "execution": {
     "iopub.execute_input": "2022-02-10T15:55:39.657079Z",
     "iopub.status.busy": "2022-02-10T15:55:39.657079Z",
     "iopub.status.idle": "2022-02-10T15:55:39.669077Z",
     "shell.execute_reply": "2022-02-10T15:55:39.668076Z",
     "shell.execute_reply.started": "2022-02-10T15:55:39.657079Z"
    },
    "tags": []
   },
   "outputs": [],
   "source": [
    "optres_all = []\n",
    "def extractvals(prob, vrs):\n",
    "    return {key.name: prob.get_val(key.name)[0] for key in \n",
    "          vrs.values()}"
   ]
  },
  {
   "cell_type": "code",
   "execution_count": 176,
   "id": "9affd98e-78ab-4db2-a8f3-11437284843d",
   "metadata": {
    "execution": {
     "iopub.execute_input": "2022-02-10T15:57:53.377364Z",
     "iopub.status.busy": "2022-02-10T15:57:53.377364Z",
     "iopub.status.idle": "2022-02-10T15:57:53.385360Z",
     "shell.execute_reply": "2022-02-10T15:57:53.384361Z",
     "shell.execute_reply.started": "2022-02-10T15:57:53.377364Z"
    },
    "tags": []
   },
   "outputs": [],
   "source": [
    "optres2 = extractvals(prob, vrs)"
   ]
  },
  {
   "cell_type": "code",
   "execution_count": 180,
   "id": "9c4ec40c-914f-4dcf-882a-24f1cc3ab133",
   "metadata": {
    "execution": {
     "iopub.execute_input": "2022-02-10T15:58:08.124690Z",
     "iopub.status.busy": "2022-02-10T15:58:08.123688Z",
     "iopub.status.idle": "2022-02-10T15:58:08.185698Z",
     "shell.execute_reply": "2022-02-10T15:58:08.184684Z",
     "shell.execute_reply.started": "2022-02-10T15:58:08.124690Z"
    },
    "tags": []
   },
   "outputs": [
    {
     "data": {
      "text/plain": [
       "[2.1094237467877974e-15,\n",
       " 1.3322676295501878e-15,\n",
       " -4.0190073491430667e-14,\n",
       " 1.7541523789077473e-14,\n",
       " -1.4432899320127035e-15,\n",
       " 1.887379141862766e-15,\n",
       " 1.6608936448392342e-13,\n",
       " -1.4155343563970746e-15,\n",
       " -2.914335439641036e-16,\n",
       " -6.306066779870889e-14]"
      ]
     },
     "execution_count": 180,
     "metadata": {},
     "output_type": "execute_result"
    }
   ],
   "source": [
    "[Evaluable.fromsympy(eq).evaldict(optres2) for eq in fxeq.values()]"
   ]
  },
  {
   "cell_type": "markdown",
   "id": "9649bb1a-d22d-498a-b97c-c0350d6cd5f3",
   "metadata": {},
   "source": [
    "### Tweak initial conditions"
   ]
  },
  {
   "cell_type": "markdown",
   "id": "b3f3949d-d630-4d73-94b3-61db29f17621",
   "metadata": {},
   "source": [
    "Option 1"
   ]
  },
  {
   "cell_type": "code",
   "execution_count": 38,
   "id": "f61acc2f",
   "metadata": {
    "execution": {
     "iopub.execute_input": "2022-02-01T23:55:15.687888Z",
     "iopub.status.busy": "2022-02-01T23:55:15.686887Z",
     "iopub.status.idle": "2022-02-01T23:55:15.704887Z",
     "shell.execute_reply": "2022-02-01T23:55:15.703885Z",
     "shell.execute_reply.started": "2022-02-01T23:55:15.687888Z"
    },
    "tags": []
   },
   "outputs": [],
   "source": [
    "for elt in vrs.values():\n",
    "    prob.set_val(elt.name,np.random.randint(-10,10))"
   ]
  },
  {
   "cell_type": "markdown",
   "id": "bab05fe3-211f-4712-8e3f-2f67f3f4d25e",
   "metadata": {},
   "source": [
    "Option 2"
   ]
  },
  {
   "cell_type": "code",
   "execution_count": 118,
   "id": "cda259b0",
   "metadata": {
    "execution": {
     "iopub.execute_input": "2022-02-02T00:17:19.030467Z",
     "iopub.status.busy": "2022-02-02T00:17:19.030467Z",
     "iopub.status.idle": "2022-02-02T00:17:19.042461Z",
     "shell.execute_reply": "2022-02-02T00:17:19.041463Z",
     "shell.execute_reply.started": "2022-02-02T00:17:19.030467Z"
    },
    "tags": []
   },
   "outputs": [],
   "source": [
    "for name, val in optres.items():\n",
    "    prob.set_val(name,1.7*val)"
   ]
  },
  {
   "cell_type": "markdown",
   "id": "e73dcd2c-ff79-4145-ac49-1a912576ca34",
   "metadata": {},
   "source": [
    "### Run model"
   ]
  },
  {
   "cell_type": "code",
   "execution_count": 119,
   "id": "4832c0f7-0635-4f8a-83d8-dadcc7ab51e0",
   "metadata": {
    "execution": {
     "iopub.execute_input": "2022-02-02T00:17:19.740462Z",
     "iopub.status.busy": "2022-02-02T00:17:19.739462Z",
     "iopub.status.idle": "2022-02-02T00:17:19.750460Z",
     "shell.execute_reply": "2022-02-02T00:17:19.749462Z",
     "shell.execute_reply.started": "2022-02-02T00:17:19.740462Z"
    },
    "tags": []
   },
   "outputs": [],
   "source": [
    "#prob.run_model()\n",
    "#res_default = {key.name: prob.get_val(key.name)[0] for key in \n",
    "#          vrs.values()}"
   ]
  },
  {
   "cell_type": "code",
   "execution_count": 120,
   "id": "0896ec93",
   "metadata": {
    "execution": {
     "iopub.execute_input": "2022-02-02T00:17:20.264462Z",
     "iopub.status.busy": "2022-02-02T00:17:20.263462Z",
     "iopub.status.idle": "2022-02-02T00:17:21.894461Z",
     "shell.execute_reply": "2022-02-02T00:17:21.893460Z",
     "shell.execute_reply.started": "2022-02-02T00:17:20.264462Z"
    },
    "tags": []
   },
   "outputs": [
    {
     "name": "stdout",
     "output_type": "stream",
     "text": [
      "\n",
      "======\n",
      "group1\n",
      "======\n",
      "NL: Newton Converged in 5 iterations\n",
      "\n",
      "======\n",
      "group1\n",
      "======\n",
      "NL: Newton Converged in 0 iterations\n",
      "\n",
      "======\n",
      "group1\n",
      "======\n",
      "NL: Newton Converged in 4 iterations\n",
      "\n",
      "======\n",
      "group1\n",
      "======\n",
      "NL: Newton Converged in 5 iterations\n",
      "\n",
      "======\n",
      "group1\n",
      "======\n",
      "NL: Newton Converged in 4 iterations\n",
      "\n",
      "======\n",
      "group1\n",
      "======\n",
      "NL: Newton Converged in 4 iterations\n",
      "\n",
      "======\n",
      "group1\n",
      "======\n",
      "NL: Newton Converged in 4 iterations\n",
      "\n",
      "======\n",
      "group1\n",
      "======\n",
      "NL: Newton Converged in 3 iterations\n",
      "\n",
      "======\n",
      "group1\n",
      "======\n",
      "NL: Newton Converged in 3 iterations\n",
      "\n",
      "======\n",
      "group1\n",
      "======\n",
      "NL: Newton Converged in 3 iterations\n",
      "\n",
      "======\n",
      "group1\n",
      "======\n",
      "NL: Newton Converged in 3 iterations\n",
      "\n",
      "======\n",
      "group1\n",
      "======\n",
      "NL: Newton Converged in 5 iterations\n",
      "\n",
      "======\n",
      "group1\n",
      "======\n",
      "NL: Newton Converged in 4 iterations\n",
      "\n",
      "======\n",
      "group1\n",
      "======\n",
      "NL: NewtonSolver 'NL: Newton' on system 'group1' failed to converge in 20 iterations.\n",
      "\n",
      "======\n",
      "group1\n",
      "======\n",
      "NL: Newton Converged in 11 iterations\n",
      "\n",
      "======\n",
      "group1\n",
      "======\n",
      "NL: Newton Converged in 5 iterations\n",
      "\n",
      "======\n",
      "group1\n",
      "======\n",
      "NL: Newton Converged in 3 iterations\n",
      "\n",
      "======\n",
      "group1\n",
      "======\n",
      "NL: Newton Converged in 2 iterations\n",
      "\n",
      "======\n",
      "group1\n",
      "======\n",
      "NL: Newton Converged in 2 iterations\n",
      "\n",
      "======\n",
      "group1\n",
      "======\n",
      "NL: Newton Converged in 2 iterations\n",
      "\n",
      "======\n",
      "group1\n",
      "======\n",
      "NL: Newton Converged in 1 iterations\n",
      "\n",
      "======\n",
      "group1\n",
      "======\n",
      "NL: Newton Converged in 1 iterations\n",
      "\n",
      "======\n",
      "group1\n",
      "======\n",
      "NL: Newton Converged in 1 iterations\n",
      "\n",
      "======\n",
      "group1\n",
      "======\n",
      "NL: Newton Converged in 1 iterations\n",
      "Optimization terminated successfully    (Exit mode 0)\n",
      "            Current function value: [643.91451136]\n",
      "            Iterations: 10\n",
      "            Function evaluations: 23\n",
      "            Gradient evaluations: 10\n",
      "Optimization Complete\n",
      "-----------------------------------\n"
     ]
    }
   ],
   "source": [
    "prob.set_solver_print(level=1)\n",
    "prob.driver = om.ScipyOptimizeDriver()\n",
    "# prob.driver.options['optimizer'] = 'differential_evolution'\n",
    "prob.driver.options['maxiter'] = 300 \n",
    "prob.run_driver();"
   ]
  },
  {
   "cell_type": "code",
   "execution_count": 121,
   "id": "1b1add9c",
   "metadata": {
    "execution": {
     "iopub.execute_input": "2022-02-02T00:17:29.424739Z",
     "iopub.status.busy": "2022-02-02T00:17:29.423740Z",
     "iopub.status.idle": "2022-02-02T00:17:29.440749Z",
     "shell.execute_reply": "2022-02-02T00:17:29.439741Z",
     "shell.execute_reply.started": "2022-02-02T00:17:29.424739Z"
    },
    "tags": []
   },
   "outputs": [
    {
     "name": "stdout",
     "output_type": "stream",
     "text": [
      "6 Explicit Output(s) in 'model'\n",
      "\n",
      "varname  val           \n",
      "-------  --------------\n",
      "inp\n",
      "  x_12   [-2.96767381] \n",
      "  x_6    [8.10831687]  \n",
      "  x_11   [2.36962945]  \n",
      "eqf3\n",
      "  x_0    [-0.66666667] \n",
      "eqf9\n",
      "  x_10   [0.44444444]  \n",
      "eqf\n",
      "  f0f    [643.91451136]\n",
      "\n",
      "\n",
      "8 Implicit Output(s) in 'model'\n",
      "\n",
      "varname                val          \n",
      "---------------------  -------------\n",
      "group1\n",
      "  resf8f5f6f2f4f7f1f0\n",
      "    x_8                [-0.65464325]\n",
      "    x_3                [-0.36126889]\n",
      "    x_7                [0.03287102] \n",
      "    x_4                [6.38955715] \n",
      "    x_2                [1.07494227] \n",
      "    x_5                [-3.3624134] \n",
      "    x_1                [0.10433691] \n",
      "    x_9                [26.35692325]\n",
      "\n",
      "\n"
     ]
    }
   ],
   "source": [
    "mdo_model.list_outputs();"
   ]
  },
  {
   "cell_type": "markdown",
   "id": "541ef13b-f5a0-480b-b8de-1eb842440c70",
   "metadata": {
    "tags": []
   },
   "source": [
    "## Optimized inputs"
   ]
  },
  {
   "cell_type": "code",
   "execution_count": 45,
   "id": "47724440-5895-426d-9011-6f403281f40f",
   "metadata": {
    "execution": {
     "iopub.execute_input": "2022-02-01T23:58:54.139643Z",
     "iopub.status.busy": "2022-02-01T23:58:54.138633Z",
     "iopub.status.idle": "2022-02-01T23:58:54.156641Z",
     "shell.execute_reply": "2022-02-01T23:58:54.155653Z",
     "shell.execute_reply.started": "2022-02-01T23:58:54.139643Z"
    },
    "tags": []
   },
   "outputs": [],
   "source": [
    "optin_opt = {key:(None, val) for key,val in fxeqs_opt.items()}"
   ]
  },
  {
   "cell_type": "code",
   "execution_count": 46,
   "id": "ee07d10b-8f0a-4acf-8f13-47b06c72818b",
   "metadata": {
    "execution": {
     "iopub.execute_input": "2022-02-01T23:58:54.444548Z",
     "iopub.status.busy": "2022-02-01T23:58:54.444548Z",
     "iopub.status.idle": "2022-02-01T23:58:54.458543Z",
     "shell.execute_reply": "2022-02-01T23:58:54.457543Z",
     "shell.execute_reply.started": "2022-02-01T23:58:54.444548Z"
    },
    "tags": []
   },
   "outputs": [],
   "source": [
    "objective_opt = Function('f', END)\n",
    "optin_opt[objective_opt] = (None, (vrsn['x2']-1)**2+(vrsn['x7']-1)**2+(vrsn['x9']-1)**2)"
   ]
  },
  {
   "cell_type": "code",
   "execution_count": 47,
   "id": "92ac6002-1bf0-46cd-b486-8cb0c115d601",
   "metadata": {
    "execution": {
     "iopub.execute_input": "2022-02-01T23:59:05.643050Z",
     "iopub.status.busy": "2022-02-01T23:59:05.642049Z",
     "iopub.status.idle": "2022-02-01T23:59:05.659050Z",
     "shell.execute_reply": "2022-02-01T23:59:05.658047Z",
     "shell.execute_reply.started": "2022-02-01T23:59:05.643050Z"
    },
    "tags": []
   },
   "outputs": [],
   "source": [
    "prob_optinp = om.Problem()\n",
    "mdo_model_optinp = prob_optinp.model\n",
    "groups_optinp = {0:mdo_model_optinp}"
   ]
  },
  {
   "cell_type": "code",
   "execution_count": 48,
   "id": "0ac3c805-0c71-449d-9664-57a9b3508f8c",
   "metadata": {
    "execution": {
     "iopub.execute_input": "2022-02-01T23:59:06.054051Z",
     "iopub.status.busy": "2022-02-01T23:59:06.054051Z",
     "iopub.status.idle": "2022-02-01T23:59:06.065050Z",
     "shell.execute_reply": "2022-02-01T23:59:06.064055Z",
     "shell.execute_reply.started": "2022-02-01T23:59:06.054051Z"
    },
    "tags": []
   },
   "outputs": [],
   "source": [
    "eqs_optinp, eqv_optinp, dout_optinp, dins_optinp = model_optinp.data_structures()\n",
    "mdao_in_optinp = [str(elt) for elt in dins_optinp]"
   ]
  },
  {
   "cell_type": "code",
   "execution_count": 49,
   "id": "3d57d272-0f5c-487e-9da1-60768bcbea09",
   "metadata": {
    "execution": {
     "iopub.execute_input": "2022-02-01T23:59:06.398053Z",
     "iopub.status.busy": "2022-02-01T23:59:06.397052Z",
     "iopub.status.idle": "2022-02-01T23:59:06.411049Z",
     "shell.execute_reply": "2022-02-01T23:59:06.410050Z",
     "shell.execute_reply.started": "2022-02-01T23:59:06.398053Z"
    },
    "tags": []
   },
   "outputs": [],
   "source": [
    "buildidpvars(mdao_in_optinp, mdo_model_optinp)"
   ]
  },
  {
   "cell_type": "code",
   "execution_count": 50,
   "id": "f5f6724a-1748-4a9e-a7fc-9c107ca15216",
   "metadata": {
    "execution": {
     "iopub.execute_input": "2022-02-01T23:59:06.815050Z",
     "iopub.status.busy": "2022-02-01T23:59:06.814050Z",
     "iopub.status.idle": "2022-02-01T23:59:06.823053Z",
     "shell.execute_reply": "2022-02-01T23:59:06.822050Z",
     "shell.execute_reply.started": "2022-02-01T23:59:06.815050Z"
    },
    "tags": []
   },
   "outputs": [],
   "source": [
    "inst_mapping = {\n",
    "    'exp': lambda *args: explicit(groups_optinp, eqs_optinp, *args),\n",
    "    'solver': lambda *args: solver(groups_optinp, optin_opt, *args)\n",
    "}"
   ]
  },
  {
   "cell_type": "code",
   "execution_count": 51,
   "id": "bda6ba96-db36-4a05-8b5d-594a4aaa4f49",
   "metadata": {
    "execution": {
     "iopub.execute_input": "2022-02-01T23:59:07.372055Z",
     "iopub.status.busy": "2022-02-01T23:59:07.371053Z",
     "iopub.status.idle": "2022-02-01T23:59:07.416050Z",
     "shell.execute_reply": "2022-02-01T23:59:07.414051Z",
     "shell.execute_reply.started": "2022-02-01T23:59:07.372055Z"
    },
    "tags": []
   },
   "outputs": [],
   "source": [
    "for comp_type, *comp_args in exec_optinp:\n",
    "    inst_mapping[comp_type](*comp_args)"
   ]
  },
  {
   "cell_type": "code",
   "execution_count": 52,
   "id": "5afe3972-236c-49e1-91ee-44c39f5b5a3b",
   "metadata": {
    "execution": {
     "iopub.execute_input": "2022-02-01T23:59:08.121051Z",
     "iopub.status.busy": "2022-02-01T23:59:08.121051Z",
     "iopub.status.idle": "2022-02-01T23:59:08.145052Z",
     "shell.execute_reply": "2022-02-01T23:59:08.144061Z",
     "shell.execute_reply.started": "2022-02-01T23:59:08.121051Z"
    },
    "tags": []
   },
   "outputs": [],
   "source": [
    "optsolver(groups_optinp, optin_opt, 0, 0, mdao_in_optinp, ([],[],[objective_opt]))"
   ]
  },
  {
   "cell_type": "code",
   "execution_count": 53,
   "id": "b7c85358-4d3b-4b56-bafe-b4b47650470f",
   "metadata": {
    "execution": {
     "iopub.execute_input": "2022-02-01T23:59:09.878052Z",
     "iopub.status.busy": "2022-02-01T23:59:09.878052Z",
     "iopub.status.idle": "2022-02-01T23:59:09.908053Z",
     "shell.execute_reply": "2022-02-01T23:59:09.907049Z",
     "shell.execute_reply.started": "2022-02-01T23:59:09.878052Z"
    },
    "tags": []
   },
   "outputs": [],
   "source": [
    "prob_optinp.setup();"
   ]
  },
  {
   "cell_type": "code",
   "execution_count": 54,
   "id": "f7acf3fe-7610-4728-86a4-45ca07395b15",
   "metadata": {
    "execution": {
     "iopub.execute_input": "2022-02-01T23:59:12.344625Z",
     "iopub.status.busy": "2022-02-01T23:59:12.342641Z",
     "iopub.status.idle": "2022-02-01T23:59:12.367628Z",
     "shell.execute_reply": "2022-02-01T23:59:12.366621Z",
     "shell.execute_reply.started": "2022-02-01T23:59:12.344625Z"
    },
    "tags": []
   },
   "outputs": [],
   "source": [
    "prob_optinp.run_model();"
   ]
  },
  {
   "cell_type": "code",
   "execution_count": 58,
   "id": "a01873e2",
   "metadata": {
    "execution": {
     "iopub.execute_input": "2022-02-02T00:00:12.386761Z",
     "iopub.status.busy": "2022-02-02T00:00:12.386761Z",
     "iopub.status.idle": "2022-02-02T00:00:12.401752Z",
     "shell.execute_reply": "2022-02-02T00:00:12.400795Z",
     "shell.execute_reply.started": "2022-02-02T00:00:12.386761Z"
    },
    "tags": []
   },
   "outputs": [],
   "source": [
    "# for elt in ['x_11', 'x_12', 'x_13', 'x_14', 'x_15', 'x_17', 'x_18', 'x_19', 'x_16', 'x_21', 'x_22']:\n",
    "#     prob.set_val(elt,100*optres[elt])"
   ]
  },
  {
   "cell_type": "code",
   "execution_count": 59,
   "id": "d08dcdec",
   "metadata": {
    "execution": {
     "iopub.execute_input": "2022-02-02T00:00:12.722103Z",
     "iopub.status.busy": "2022-02-02T00:00:12.721107Z",
     "iopub.status.idle": "2022-02-02T00:00:12.735101Z",
     "shell.execute_reply": "2022-02-02T00:00:12.734106Z",
     "shell.execute_reply.started": "2022-02-02T00:00:12.722103Z"
    },
    "tags": []
   },
   "outputs": [],
   "source": [
    "# for elt in ['x_12', 'x_17','x_19']:\n",
    "#     prob.set_val(elt,np.random.randint(-500,500))"
   ]
  },
  {
   "cell_type": "code",
   "execution_count": 60,
   "id": "da5cd832",
   "metadata": {
    "execution": {
     "iopub.execute_input": "2022-02-02T00:00:13.231371Z",
     "iopub.status.busy": "2022-02-02T00:00:13.230366Z",
     "iopub.status.idle": "2022-02-02T00:00:13.242357Z",
     "shell.execute_reply": "2022-02-02T00:00:13.241355Z",
     "shell.execute_reply.started": "2022-02-02T00:00:13.231371Z"
    },
    "tags": []
   },
   "outputs": [],
   "source": [
    "# for elt in ['x_21','x_16','x_22','x_11', 'x_13', 'x_14', 'x_15', 'x_18']:\n",
    "#     prob.set_val(elt,np.random.randint(-100,100))"
   ]
  },
  {
   "cell_type": "code",
   "execution_count": 57,
   "id": "8729dfbd-11ab-440b-9c8c-20c812d5e81f",
   "metadata": {
    "execution": {
     "iopub.execute_input": "2022-02-01T23:59:23.486853Z",
     "iopub.status.busy": "2022-02-01T23:59:23.485854Z",
     "iopub.status.idle": "2022-02-01T23:59:23.504851Z",
     "shell.execute_reply": "2022-02-01T23:59:23.503892Z",
     "shell.execute_reply.started": "2022-02-01T23:59:23.486853Z"
    },
    "tags": []
   },
   "outputs": [
    {
     "name": "stdout",
     "output_type": "stream",
     "text": [
      "14 Explicit Output(s) in 'model'\n",
      "\n",
      "varname  val          \n",
      "-------  -------------\n",
      "inp\n",
      "  x_7    [1.]         \n",
      "  x_2    [1.]         \n",
      "  x_9    [1.]         \n",
      "eqf3\n",
      "  x_0    [-0.66666667]\n",
      "eqf9\n",
      "  x_10   [0.44444444] \n",
      "eqf0\n",
      "  x_1    [2.75]       \n",
      "eqf7\n",
      "  x_5    [-3.25]      \n",
      "eqf4\n",
      "  x_8    [-0.7037037] \n",
      "eqf6\n",
      "  x_12   [-2.5]       \n",
      "eqf2\n",
      "  x_4    [0.24242424] \n",
      "eqf5\n",
      "  x_3    [-0.44368471]\n",
      "eqf1\n",
      "  x_11   [2.30769231] \n",
      "eqf8\n",
      "  x_6    [6.18777743] \n",
      "eqf\n",
      "  f0f    [0.]         \n",
      "\n",
      "\n",
      "0 Implicit Output(s) in 'model'\n",
      "\n",
      "\n"
     ]
    }
   ],
   "source": [
    "mdo_model_optinp.list_outputs();"
   ]
  },
  {
   "cell_type": "code",
   "execution_count": 56,
   "id": "2f1e625c-5a15-469b-a3f0-18b8e8931c1b",
   "metadata": {
    "execution": {
     "iopub.execute_input": "2022-02-01T23:59:15.095552Z",
     "iopub.status.busy": "2022-02-01T23:59:15.095552Z",
     "iopub.status.idle": "2022-02-01T23:59:15.157514Z",
     "shell.execute_reply": "2022-02-01T23:59:15.155513Z",
     "shell.execute_reply.started": "2022-02-01T23:59:15.095552Z"
    },
    "tags": []
   },
   "outputs": [
    {
     "name": "stdout",
     "output_type": "stream",
     "text": [
      "Optimization terminated successfully    (Exit mode 0)\n",
      "            Current function value: [0.]\n",
      "            Iterations: 2\n",
      "            Function evaluations: 3\n",
      "            Gradient evaluations: 2\n",
      "Optimization Complete\n",
      "-----------------------------------\n"
     ]
    },
    {
     "name": "stderr",
     "output_type": "stream",
     "text": [
      "C:\\Users\\johan\\Miniconda2\\envs\\mdo\\lib\\site-packages\\autograd\\tracer.py:14: UserWarning: Output seems independent of input.\n",
      "  warnings.warn(\"Output seems independent of input.\")\n"
     ]
    }
   ],
   "source": [
    "prob_optinp.set_solver_print(level=1)\n",
    "prob_optinp.driver = om.ScipyOptimizeDriver()\n",
    "prob_optinp.driver.options['maxiter'] = 300 \n",
    "prob_optinp.run_driver();"
   ]
  },
  {
   "cell_type": "code",
   "execution_count": 78,
   "id": "8e06dea4",
   "metadata": {
    "execution": {
     "iopub.execute_input": "2022-02-02T00:02:53.660453Z",
     "iopub.status.busy": "2022-02-02T00:02:53.659450Z",
     "iopub.status.idle": "2022-02-02T00:02:53.679447Z",
     "shell.execute_reply": "2022-02-02T00:02:53.678446Z",
     "shell.execute_reply.started": "2022-02-02T00:02:53.660453Z"
    },
    "tags": []
   },
   "outputs": [],
   "source": [
    "optres = {key.name: prob_optinp.get_val(key.name)[0] for key in \n",
    "          vrs.values()}"
   ]
  },
  {
   "cell_type": "code",
   "execution_count": 79,
   "id": "b2d4b1c5",
   "metadata": {
    "execution": {
     "iopub.execute_input": "2022-02-02T00:02:54.954768Z",
     "iopub.status.busy": "2022-02-02T00:02:54.953770Z",
     "iopub.status.idle": "2022-02-02T00:02:54.970762Z",
     "shell.execute_reply": "2022-02-02T00:02:54.969762Z",
     "shell.execute_reply.started": "2022-02-02T00:02:54.953770Z"
    },
    "tags": []
   },
   "outputs": [
    {
     "data": {
      "text/plain": [
       "{'x_0': -0.666666666666667,\n",
       " 'x_1': 2.75,\n",
       " 'x_2': 1.0,\n",
       " 'x_3': -0.44368471035137425,\n",
       " 'x_4': 0.24242424242424254,\n",
       " 'x_5': -3.2500000000000036,\n",
       " 'x_6': 6.187777426049033,\n",
       " 'x_7': 1.0,\n",
       " 'x_8': -0.7037037037037038,\n",
       " 'x_9': 1.0,\n",
       " 'x_10': 0.444444444444444,\n",
       " 'x_11': 2.3076923076923097,\n",
       " 'x_12': -2.5000000000000138}"
      ]
     },
     "execution_count": 79,
     "metadata": {},
     "output_type": "execute_result"
    }
   ],
   "source": [
    "optres"
   ]
  },
  {
   "cell_type": "markdown",
   "id": "fb687857-4b84-4168-9bc9-15937ef39d58",
   "metadata": {},
   "source": [
    "## Double check"
   ]
  },
  {
   "cell_type": "code",
   "execution_count": 97,
   "id": "9728af99-65c8-4a69-858b-fb02f315a6a7",
   "metadata": {
    "execution": {
     "iopub.execute_input": "2022-02-02T00:12:08.537421Z",
     "iopub.status.busy": "2022-02-02T00:12:08.536419Z",
     "iopub.status.idle": "2022-02-02T00:12:08.573420Z",
     "shell.execute_reply": "2022-02-02T00:12:08.572417Z",
     "shell.execute_reply.started": "2022-02-02T00:12:08.537421Z"
    },
    "tags": []
   },
   "outputs": [
    {
     "data": {
      "text/plain": [
       "[0.0,\n",
       " 0.0,\n",
       " -1.6653345369377348e-16,\n",
       " -8.326672684688674e-17,\n",
       " -2.220446049250313e-16,\n",
       " 1.1102230246251565e-16,\n",
       " 1.5543122344752192e-15,\n",
       " 2.1094237467877974e-15,\n",
       " 2.220446049250313e-16,\n",
       " -4.440892098500626e-16]"
      ]
     },
     "execution_count": 97,
     "metadata": {},
     "output_type": "execute_result"
    }
   ],
   "source": [
    "[Evaluable.fromsympy(eq).evaldict(optres) for eq in fxeqs.values()]"
   ]
  }
 ],
 "metadata": {
  "kernelspec": {
   "display_name": "mdo",
   "language": "python",
   "name": "mdo"
  },
  "language_info": {
   "codemirror_mode": {
    "name": "ipython",
    "version": 3
   },
   "file_extension": ".py",
   "mimetype": "text/x-python",
   "name": "python",
   "nbconvert_exporter": "python",
   "pygments_lexer": "ipython3",
   "version": "3.8.12"
  }
 },
 "nbformat": 4,
 "nbformat_minor": 5
}
