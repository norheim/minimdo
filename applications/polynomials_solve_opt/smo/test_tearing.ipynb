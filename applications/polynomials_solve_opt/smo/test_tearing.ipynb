{
 "cells": [
  {
   "cell_type": "code",
   "execution_count": 97,
   "metadata": {},
   "outputs": [],
   "source": [
    "from utils.testproblems import generate_random_prob\n",
    "from utils.polycasebuilder import generate_random_polynomials\n",
    "from graph.graphutils import edges_to_Ein_Eout, sources, all_edges, all_variables, flat_graph_formulation\n",
    "from graph.operators import invert_edges, eqv_to_edges_tree, sort_scc\n",
    "from graph.matrixview import render_incidence\n",
    "from presolver.tearing import dir_graph, min_arc_set_assign, min_arc_set\n",
    "from trash.inputresolver import reassigneq\n",
    "from collections import OrderedDict\n",
    "import torch\n",
    "import sympy as sp"
   ]
  },
  {
   "cell_type": "code",
   "execution_count": 98,
   "metadata": {},
   "outputs": [],
   "source": [
    "n_eqs, n_vars, sparsity, seed1, seed2 = 10, 15, 1.2, 42, 12345 #1.7\n",
    "eqv, varinc, dout = generate_random_prob(n_eqs, n_vars, seed1, sparsity)\n",
    "polynomials, var_mapping, edges, tree = generate_random_polynomials(eqv, dout, n_eqs, seed=seed2)\n",
    "symb_mapping = {key: elt[0] for key, elt in var_mapping.items()}\n",
    "inputids = sorted(sources(*edges_to_Ein_Eout(edges)))\n",
    "inputvars = [var_mapping[elt][0] for elt in inputids]\n",
    "fobj = sum([(elt-1)**2 for elt in inputvars])"
   ]
  },
  {
   "cell_type": "code",
   "execution_count": 99,
   "metadata": {},
   "outputs": [],
   "source": [
    "edges_for_solving = invert_edges(eqv)\n",
    "eqnidxs = list(eqv.keys())\n",
    "varidxs = all_variables(*edges_for_solving)\n",
    "edges_left_right = all_edges(*edges_for_solving)"
   ]
  },
  {
   "cell_type": "code",
   "execution_count": 100,
   "metadata": {},
   "outputs": [
    {
     "name": "stdout",
     "output_type": "stream",
     "text": [
      "Set parameter Username\n",
      "Academic license - for non-commercial use only - expires 2024-04-07\n"
     ]
    }
   ],
   "source": [
    "xsol,_ = min_arc_set_assign(edges_left_right, varidxs, eqnidxs, [], [])\n",
    "outset_opt = {right:left for left, right in edges_left_right \n",
    "            if (left,right) in edges_left_right and xsol[left, right] > 0.5}"
   ]
  },
  {
   "cell_type": "code",
   "execution_count": 101,
   "metadata": {},
   "outputs": [],
   "source": [
    "edgesopt, _, _ = eqv_to_edges_tree(eqv, output_set=outset_opt)\n",
    "G = flat_graph_formulation(*edgesopt)\n",
    "order = sort_scc(G)\n",
    "treeopt = (OrderedDict([(elt.pop().name,1) for elt in order]),{},{})"
   ]
  },
  {
   "cell_type": "code",
   "execution_count": 102,
   "metadata": {},
   "outputs": [
    {
     "data": {
      "image/png": "[encoded data removed]",
      "text/plain": [
       "<Figure size 400x400 with 1 Axes>"
      ]
     },
     "metadata": {},
     "output_type": "display_data"
    }
   ],
   "source": [
    "render_incidence(edgesopt, treeopt, rotation=0, hideticks=True, dispendcomp=True, figsize=((4,4)), fontsize=10);"
   ]
  },
  {
   "cell_type": "markdown",
   "metadata": {},
   "source": [
    "## Let's run it"
   ]
  },
  {
   "cell_type": "code",
   "execution_count": 103,
   "metadata": {},
   "outputs": [],
   "source": [
    "from torchengine import AnalyticalSet, EliminateAnalysis, Function, EliminateAnalysisMergeResiduals\n",
    "import numpy as np\n",
    "np.set_printoptions(formatter={'float': lambda x: \"{:0.2f}\".format(x).rstrip('0').rstrip('.')})"
   ]
  },
  {
   "cell_type": "code",
   "execution_count": 104,
   "metadata": {},
   "outputs": [],
   "source": [
    "indices = {idx: torch.tensor([idx]) for idx in range(n_vars)}\n",
    "sets = {}\n",
    "edges = edgesopt\n",
    "for polyidx, poly in polynomials.items():\n",
    "    outputvar = symb_mapping[edges[1][polyidx][0]]\n",
    "    inputvars = [symb_mapping[elt] for elt in edges[0][polyidx]]\n",
    "    analysis_function = sp.simplify(reassigneq(None, poly, outputvar))\n",
    "    if isinstance(analysis_function, sp.Float):\n",
    "        tensor = torch.tensor([float(analysis_function)], dtype=torch.float64)\n",
    "        f = lambda : tensor\n",
    "    else:\n",
    "        f = sp.lambdify(inputvars, analysis_function, torch) \n",
    "    residual = sp.lambdify(inputvars+[outputvar], poly, torch)   \n",
    "    tupl = (edges[0][polyidx]+edges[1][polyidx], residual)\n",
    "    triplet = (edges[0][polyidx], edges[1][polyidx], f)\n",
    "    sets[polyidx] = AnalyticalSet(triplet, indices, forceresidual=tupl)"
   ]
  },
  {
   "cell_type": "code",
   "execution_count": 195,
   "metadata": {},
   "outputs": [],
   "source": [
    "execution_order = list(treeopt[0].keys())\n",
    "feed_forward = EliminateAnalysis([sets[k].analysis for k in execution_order],[])"
   ]
  },
  {
   "cell_type": "code",
   "execution_count": 196,
   "metadata": {},
   "outputs": [],
   "source": [
    "torch.manual_seed(43)\n",
    "x0 = torch.rand(n_vars, dtype=torch.float64)\n",
    "xout = feed_forward(x0)"
   ]
  },
  {
   "cell_type": "code",
   "execution_count": 198,
   "metadata": {},
   "outputs": [
    {
     "data": {
      "text/plain": [
       "array([41.73, 0.35, 0.18, 0.33, -7.27, -0.04, 0.02, -10.92, -6.49, 0.72,\n",
       "       0.86, 0.59, 26.98, 0.5, -0.06])"
      ]
     },
     "execution_count": 198,
     "metadata": {},
     "output_type": "execute_result"
    }
   ],
   "source": [
    "xout.numpy()"
   ]
  },
  {
   "cell_type": "markdown",
   "metadata": {},
   "source": [
    "# Load from file"
   ]
  },
  {
   "cell_type": "code",
   "execution_count": 2,
   "metadata": {},
   "outputs": [],
   "source": [
    "import json\n",
    "from sympy import sympify\n",
    "from itertools import chain\n",
    "import torch\n",
    "import re\n",
    "\n",
    "def extract_number(string):\n",
    "    return int(re.search(r'\\d+', string).group())\n",
    "\n",
    "def process_json(data):\n",
    "    functional_sets = data[\"functional_sets\"]\n",
    "    objective = data['objective']\n",
    "    \n",
    "    objective_sympy = None\n",
    "    polynomials = {}\n",
    "    symb_mapping = {}\n",
    "    symb_str_mapping = {}\n",
    "    edges = (dict(),dict())\n",
    "    \n",
    "    functional_set_info = ((functional_set['residual'], functional_set['functionalvar']) \n",
    "                           for functional_set in functional_sets)\n",
    "\n",
    "    for idx, functional_set in chain(enumerate(functional_set_info), [('objective', [objective, None])]) :\n",
    "        function_str, output_var_str = functional_set\n",
    "        function = sympify(function_str, locals=symb_str_mapping)\n",
    "        if idx == 'objective':\n",
    "            objective_sympy = function\n",
    "        else:\n",
    "            polynomials[idx] = function\n",
    "        \n",
    "        input_vars, output_var = tuple(), tuple()\n",
    "        for symbol in function.free_symbols:\n",
    "            if str(symbol) not in symb_str_mapping:\n",
    "                symb_str_mapping[str(symbol)] = symbol\n",
    "            if str(symbol) == output_var_str:\n",
    "                symb_mapping[idx] = symb_str_mapping[str(symbol)]\n",
    "                output_var = (symbol,)\n",
    "            else:\n",
    "                input_vars += (symbol,)\n",
    "\n",
    "        if idx != 'objective':\n",
    "            edges[0][idx] = input_vars\n",
    "            edges[1][idx] = output_var\n",
    "\n",
    "    indices = {elt: torch.tensor([int(i)]) for i, elt in \n",
    "               enumerate(sorted(symb_str_mapping.values(), key=lambda item: extract_number(str(item))))}\n",
    "\n",
    "    return polynomials, indices, edges, objective_sympy"
   ]
  },
  {
   "cell_type": "code",
   "execution_count": 3,
   "metadata": {},
   "outputs": [],
   "source": [
    "# check if file exists or not return True/False\n",
    "import os\n",
    "file_path = '../applications/data/testproblems.json'\n",
    "os.path.isfile(file_path)\n",
    "# load file\n",
    "with open(file_path, 'r') as file:\n",
    "    json_str = file.read()"
   ]
  },
  {
   "cell_type": "code",
   "execution_count": 4,
   "metadata": {},
   "outputs": [],
   "source": [
    "data = json.loads(json_str)"
   ]
  },
  {
   "cell_type": "code",
   "execution_count": 5,
   "metadata": {},
   "outputs": [],
   "source": [
    "fid, fdata = list(data.items())[0]"
   ]
  },
  {
   "cell_type": "code",
   "execution_count": 6,
   "metadata": {},
   "outputs": [],
   "source": [
    "from torchengine import AnalyticalSetSympy"
   ]
  },
  {
   "cell_type": "code",
   "execution_count": 7,
   "metadata": {},
   "outputs": [],
   "source": [
    "polynomials, indices, edges, objective = process_json(fdata)"
   ]
  },
  {
   "cell_type": "code",
   "execution_count": 8,
   "metadata": {},
   "outputs": [],
   "source": [
    "from graph.graphutils import edges_to_Ein_Eout, sources, all_edges, all_variables, flat_graph_formulation\n",
    "from graph.operators import invert_edges, sort_scc, eqv_to_edges_tree\n",
    "from presolver.tearing import dir_graph, min_arc_set_assign, min_arc_set"
   ]
  },
  {
   "cell_type": "code",
   "execution_count": 9,
   "metadata": {},
   "outputs": [],
   "source": [
    "G = flat_graph_formulation(edges[0], edges[1], {})\n",
    "order = sort_scc(G)"
   ]
  },
  {
   "cell_type": "markdown",
   "metadata": {},
   "source": [
    "### Changing inputs and outputs"
   ]
  },
  {
   "cell_type": "code",
   "execution_count": 10,
   "metadata": {},
   "outputs": [
    {
     "name": "stdout",
     "output_type": "stream",
     "text": [
      "Set parameter Username\n",
      "Academic license - for non-commercial use only - expires 2024-04-07\n"
     ]
    }
   ],
   "source": [
    "edges_for_solving = invert_edges(*edges)\n",
    "eqnidxs = list(edges[0].keys())\n",
    "varidxs = all_variables(*edges_for_solving)\n",
    "edges_left_right = all_edges(*edges_for_solving)\n",
    "xsol,_ = min_arc_set_assign(edges_left_right, varidxs, eqnidxs, [], [])\n",
    "outset_opt = {right:left for left, right in edges_left_right \n",
    "            if (left,right) in edges_left_right and xsol[left, right] > 0.5}"
   ]
  },
  {
   "cell_type": "code",
   "execution_count": 11,
   "metadata": {},
   "outputs": [
    {
     "data": {
      "text/plain": [
       "{0: x_7,\n",
       " 1: x_12,\n",
       " 2: x_9,\n",
       " 3: x_5,\n",
       " 4: x_8,\n",
       " 5: x_1,\n",
       " 6: x_10,\n",
       " 7: x_2,\n",
       " 8: x_13,\n",
       " 9: x_14}"
      ]
     },
     "execution_count": 11,
     "metadata": {},
     "output_type": "execute_result"
    }
   ],
   "source": [
    "outset_opt"
   ]
  },
  {
   "cell_type": "code",
   "execution_count": 12,
   "metadata": {},
   "outputs": [],
   "source": [
    "edgesopt, _, _ = eqv_to_edges_tree(edges_for_solving[0], output_set=outset_opt)\n",
    "Gopt = flat_graph_formulation(*edgesopt)\n",
    "order_opt = sort_scc(Gopt)"
   ]
  },
  {
   "cell_type": "code",
   "execution_count": 13,
   "metadata": {},
   "outputs": [
    {
     "data": {
      "text/plain": [
       "[{f_7}, {f_3}, {f_0, f_5, f_6, f_8, f_9}, {f_2}, {f_1}, {f_4}]"
      ]
     },
     "execution_count": 13,
     "metadata": {},
     "output_type": "execute_result"
    }
   ],
   "source": [
    "order"
   ]
  },
  {
   "cell_type": "code",
   "execution_count": 14,
   "metadata": {},
   "outputs": [
    {
     "data": {
      "text/plain": [
       "[{f_7}, {f_9}, {f_2}, {f_5}, {f_6}, {f_0}, {f_4}, {f_8}, {f_1}, {f_3}]"
      ]
     },
     "execution_count": 14,
     "metadata": {},
     "output_type": "execute_result"
    }
   ],
   "source": [
    "order_opt"
   ]
  },
  {
   "cell_type": "code",
   "execution_count": 19,
   "metadata": {},
   "outputs": [],
   "source": [
    "sets = {idx:AnalyticalSetSympy(poly, indices=indices).reassign(edges[1][idx][0],  rational=True) for idx,poly in polynomials.items()}"
   ]
  },
  {
   "cell_type": "code",
   "execution_count": 16,
   "metadata": {},
   "outputs": [],
   "source": [
    "sets_opt = {idx:AnalyticalSetSympy(poly, indices=indices).reassign(outset_opt.get(idx, None), rational=True) for idx,poly in polynomials.items()}"
   ]
  },
  {
   "cell_type": "code",
   "execution_count": 20,
   "metadata": {},
   "outputs": [
    {
     "data": {
      "text/plain": [
       "{'functional_sets': [{'residual': '-1.0*x_10*x_7 + 0.6*x_11 + 0.8',\n",
       "   'analysis': '5*x_10*x_7/3 - 4/3',\n",
       "   'functionalvar': 'x_11'},\n",
       "  {'residual': '0.1*x_12*x_3*x_8 + 0.9*x_6 + 0.6',\n",
       "   'analysis': '3*(-3*x_6 - 2)/(x_12*x_3)',\n",
       "   'functionalvar': 'x_8'},\n",
       "  {'residual': '0.5*x_0 - 0.9*x_11*x_6*x_9 - 0.6',\n",
       "   'analysis': '(5*x_0 - 6)/(9*x_11*x_9)',\n",
       "   'functionalvar': 'x_6'},\n",
       "  {'residual': '-0.4*x_0*x_5 - 0.2*x_13 - 0.9',\n",
       "   'analysis': '-2*x_0*x_5 - 9/2',\n",
       "   'functionalvar': 'x_13'},\n",
       "  {'residual': '0.3*x_10*x_4 + 0.3*x_8 + 0.2',\n",
       "   'analysis': '(-x_8 - 2/3)/x_10',\n",
       "   'functionalvar': 'x_4'},\n",
       "  {'residual': '0.4*x_1*x_3*x_9 + 0.3*x_11*x_14 + 0.4',\n",
       "   'analysis': '4*(-x_1*x_3*x_9 - 1)/(3*x_11)',\n",
       "   'functionalvar': 'x_14'},\n",
       "  {'residual': '-0.7*x_10*x_9 + 0.4',\n",
       "   'analysis': '4/(7*x_10)',\n",
       "   'functionalvar': 'x_9'},\n",
       "  {'residual': '0.1*x_2 - 0.4', 'analysis': '4', 'functionalvar': 'x_2'},\n",
       "  {'residual': '0.8*x_10*x_13 + 0.9*x_3 - 0.3',\n",
       "   'analysis': '3*(1 - 3*x_3)/(8*x_13)',\n",
       "   'functionalvar': 'x_10'},\n",
       "  {'residual': '0.2*x_11*x_3 - 0.3*x_14 - 0.2',\n",
       "   'analysis': '(3*x_14 + 2)/(2*x_11)',\n",
       "   'functionalvar': 'x_3'}],\n",
       " 'equality_constraints': [],\n",
       " 'inequality_constraints': [],\n",
       " 'objective': '(x_0 - 1)**2 + (x_1 - 1)**2 + (x_12 - 1)**2 + (x_5 - 1)**2 + (x_7 - 1)**2'}"
      ]
     },
     "execution_count": 20,
     "metadata": {},
     "output_type": "execute_result"
    }
   ],
   "source": [
    "functional_sets = []\n",
    "for idx, fset in sets.items():\n",
    "    functional_sets.append(\n",
    "        {'residual':str(fset.sympyresidual),\n",
    "         'analysis': str(fset.expression), \n",
    "        'functionalvar': str(fset.outputvar)})\n",
    "output = {'functional_sets':functional_sets, \n",
    "            'equality_constraints': [], # need to assign as a function of the order/sort scc\n",
    "            'inequality_constraints':[], \n",
    "            'objective': str(objective)}\n",
    "output"
   ]
  },
  {
   "cell_type": "code",
   "execution_count": 21,
   "metadata": {},
   "outputs": [],
   "source": [
    "# # save json data\n",
    "# import json\n",
    "# with open('../applications/data/prob2.json', 'w') as f:\n",
    "#     json.dump(output, f, indent=4)"
   ]
  },
  {
   "cell_type": "code",
   "execution_count": null,
   "metadata": {},
   "outputs": [],
   "source": []
  }
 ],
 "metadata": {
  "kernelspec": {
   "display_name": "minimdo",
   "language": "python",
   "name": "python3"
  },
  "language_info": {
   "codemirror_mode": {
    "name": "ipython",
    "version": 3
   },
   "file_extension": ".py",
   "mimetype": "text/x-python",
   "name": "python",
   "nbconvert_exporter": "python",
   "pygments_lexer": "ipython3",
   "version": "3.9.18"
  }
 },
 "nbformat": 4,
 "nbformat_minor": 2
}
