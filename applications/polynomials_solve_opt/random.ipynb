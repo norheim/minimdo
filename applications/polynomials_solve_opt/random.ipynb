{
 "cells": [
  {
   "cell_type": "code",
   "execution_count": 1,
   "id": "d1dcf63d-c8cf-419a-a2a7-20a038c0834d",
   "metadata": {
    "execution": {
     "iopub.execute_input": "2022-06-29T14:00:12.238320Z",
     "iopub.status.busy": "2022-06-29T14:00:12.238320Z",
     "iopub.status.idle": "2022-06-29T14:00:14.271105Z",
     "shell.execute_reply": "2022-06-29T14:00:14.271105Z",
     "shell.execute_reply.started": "2022-06-29T14:00:12.238320Z"
    },
    "tags": []
   },
   "outputs": [],
   "source": [
    "from testproblems import generate_random_prob\n",
    "from datastructures.graphutils import all_varnodes"
   ]
  },
  {
   "cell_type": "code",
   "execution_count": 2,
   "id": "84c38cbf-8520-4997-ab11-b80f0ec1d1de",
   "metadata": {
    "execution": {
     "iopub.execute_input": "2022-06-29T14:00:14.271105Z",
     "iopub.status.busy": "2022-06-29T14:00:14.271105Z",
     "iopub.status.idle": "2022-06-29T14:00:14.287253Z",
     "shell.execute_reply": "2022-06-29T14:00:14.286252Z",
     "shell.execute_reply.started": "2022-06-29T14:00:14.271105Z"
    },
    "tags": []
   },
   "outputs": [],
   "source": [
    "n_eqs = 10\n",
    "n_vars = 15\n",
    "seed = 1083#8 is triang#seed 10 is nice 42 \n",
    "sparsity = 1#0.8 1.1 #1.7 1.3\n",
    "eqv, varinc, output_set = generate_random_prob(n_eqs, n_vars, seed, sparsity)"
   ]
  },
  {
   "cell_type": "code",
   "execution_count": 3,
   "id": "a8684785-7f3b-4bea-9e80-42e847fd84c9",
   "metadata": {
    "execution": {
     "iopub.execute_input": "2022-06-29T14:00:14.288253Z",
     "iopub.status.busy": "2022-06-29T14:00:14.287253Z",
     "iopub.status.idle": "2022-06-29T14:00:14.303257Z",
     "shell.execute_reply": "2022-06-29T14:00:14.302255Z",
     "shell.execute_reply.started": "2022-06-29T14:00:14.288253Z"
    },
    "tags": []
   },
   "outputs": [
    {
     "data": {
      "text/plain": [
       "{0, 1, 2, 3, 4, 5, 6, 7, 8, 9, 10, 11, 12, 13, 14}"
      ]
     },
     "execution_count": 3,
     "metadata": {},
     "output_type": "execute_result"
    }
   ],
   "source": [
    "{elt-10 for elt in all_varnodes(eqv)}"
   ]
  },
  {
   "cell_type": "code",
   "execution_count": 4,
   "id": "1b669bae-591d-4cbe-ba24-9a312f161328",
   "metadata": {
    "execution": {
     "iopub.execute_input": "2022-06-29T14:00:15.009758Z",
     "iopub.status.busy": "2022-06-29T14:00:15.009758Z",
     "iopub.status.idle": "2022-06-29T14:00:15.029127Z",
     "shell.execute_reply": "2022-06-29T14:00:15.029127Z",
     "shell.execute_reply.started": "2022-06-29T14:00:15.009758Z"
    },
    "tags": []
   },
   "outputs": [
    {
     "data": {
      "text/plain": [
       "set()"
      ]
     },
     "execution_count": 4,
     "metadata": {},
     "output_type": "execute_result"
    }
   ],
   "source": [
    "{elt-10 for elt in set(range(10,25))-all_varnodes(eqv)}"
   ]
  },
  {
   "cell_type": "code",
   "execution_count": null,
   "id": "d747486d-219c-4a9a-855e-fad92c192d37",
   "metadata": {},
   "outputs": [],
   "source": []
  }
 ],
 "metadata": {
  "kernelspec": {
   "display_name": "Python [conda env:mdo]",
   "language": "python",
   "name": "conda-env-mdo-py"
  },
  "language_info": {
   "codemirror_mode": {
    "name": "ipython",
    "version": 3
   },
   "file_extension": ".py",
   "mimetype": "text/x-python",
   "name": "python",
   "nbconvert_exporter": "python",
   "pygments_lexer": "ipython3",
   "version": "3.9.7"
  }
 },
 "nbformat": 4,
 "nbformat_minor": 5
}
