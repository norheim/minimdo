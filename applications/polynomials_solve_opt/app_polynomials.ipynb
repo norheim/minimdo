{
 "cells": [
  {
   "cell_type": "markdown",
   "id": "3e270096-ffed-4b9b-93f6-86ed97936a69",
   "metadata": {},
   "source": [
    "# Random incidence"
   ]
  },
  {
   "cell_type": "code",
   "execution_count": 2,
   "id": "c2842f25",
   "metadata": {
    "execution": {
     "iopub.execute_input": "2022-02-08T22:55:30.337234Z",
     "iopub.status.busy": "2022-02-08T22:55:30.337234Z",
     "iopub.status.idle": "2022-02-08T22:55:38.794251Z",
     "shell.execute_reply": "2022-02-08T22:55:38.793250Z",
     "shell.execute_reply.started": "2022-02-08T22:55:30.337234Z"
    },
    "tags": []
   },
   "outputs": [],
   "source": [
    "from inputresolver import resolve, invert_edges, flatten_order, reassigneq, direct_eqs, flatten_and_transform_condensation, default_in_raw, eqvars, reassign, default_in\n",
    "from representations import digraph_repr, draw_dsm, drawbipartite, draw, bipartite_repr, tree_incidence, render_tree\n",
    "from datastructures import notation_from_tree\n",
    "from compute import Var, adda, addf, Model, RefNode, Function, END, INTER, Evaluable\n",
    "from compute import buildidpvars\n",
    "from notation import generate_execution, mapping, default_sequence, make_acyclic, graphs_from_incidence\n",
    "from notationcompute import explicit, solver, optsolver\n",
    "from testproblems import generate_random_prob\n",
    "from random import Random, sample, randint\n",
    "from anytree import PreOrderIter\n",
    "import random\n",
    "import copy\n",
    "import sympy as sp\n",
    "import numpy as np\n",
    "from functools import reduce\n",
    "import networkx as nx\n",
    "import operator\n",
    "from utils import normalize_name\n",
    "import matplotlib.pyplot as plt\n",
    "import openmdao.api as om"
   ]
  },
  {
   "cell_type": "code",
   "execution_count": 49,
   "id": "adf1d36c",
   "metadata": {
    "execution": {
     "iopub.execute_input": "2022-02-08T23:28:55.187798Z",
     "iopub.status.busy": "2022-02-08T23:28:55.187798Z",
     "iopub.status.idle": "2022-02-08T23:28:55.197801Z",
     "shell.execute_reply": "2022-02-08T23:28:55.196798Z",
     "shell.execute_reply.started": "2022-02-08T23:28:55.187798Z"
    },
    "tags": []
   },
   "outputs": [],
   "source": [
    "n_eqs = 10\n",
    "n_vars = 13\n",
    "seed = 42#8 is triang#seed 10 is nice\n",
    "sparsity = 1.1 #1.7\n",
    "eqv, varinc, dout = generate_random_prob(n_eqs, n_vars, seed, sparsity)"
   ]
  },
  {
   "cell_type": "code",
   "execution_count": 48,
   "id": "a1f44a61",
   "metadata": {
    "execution": {
     "iopub.execute_input": "2022-02-08T23:28:51.411239Z",
     "iopub.status.busy": "2022-02-08T23:28:51.411239Z",
     "iopub.status.idle": "2022-02-08T23:28:51.422237Z",
     "shell.execute_reply": "2022-02-08T23:28:51.421236Z",
     "shell.execute_reply.started": "2022-02-08T23:28:51.411239Z"
    },
    "tags": []
   },
   "outputs": [
    {
     "data": {
      "text/plain": [
       "{0: 19, 7: 15, 3: 10, 6: 17, 9: 20, 5: 13, 8: 18, 1: 11, 2: 14, 4: 12}"
      ]
     },
     "execution_count": 48,
     "metadata": {},
     "output_type": "execute_result"
    }
   ],
   "source": [
    "dout"
   ]
  },
  {
   "cell_type": "code",
   "execution_count": 50,
   "id": "acf23d8f",
   "metadata": {
    "execution": {
     "iopub.execute_input": "2022-02-08T23:28:57.366574Z",
     "iopub.status.busy": "2022-02-08T23:28:57.365576Z",
     "iopub.status.idle": "2022-02-08T23:28:57.383093Z",
     "shell.execute_reply": "2022-02-08T23:28:57.382098Z",
     "shell.execute_reply.started": "2022-02-08T23:28:57.366574Z"
    },
    "tags": []
   },
   "outputs": [],
   "source": [
    "eqs=direct_eqs(eqv, dout)"
   ]
  },
  {
   "cell_type": "code",
   "execution_count": 51,
   "id": "38c4f895-b12e-44e6-88c1-4d5680c7b22c",
   "metadata": {
    "execution": {
     "iopub.execute_input": "2022-02-08T23:28:57.962443Z",
     "iopub.status.busy": "2022-02-08T23:28:57.961445Z",
     "iopub.status.idle": "2022-02-08T23:28:57.979440Z",
     "shell.execute_reply": "2022-02-08T23:28:57.978438Z",
     "shell.execute_reply.started": "2022-02-08T23:28:57.962443Z"
    },
    "tags": []
   },
   "outputs": [
    {
     "data": {
      "text/plain": [
       "{0: (19, (14, 15, 17)),\n",
       " 1: (11, (13, 19)),\n",
       " 2: (14, (17, 18, 21, 22)),\n",
       " 3: (10, (11, 15, 16, 18)),\n",
       " 4: (12, (10, 14, 16, 21)),\n",
       " 5: (13, (16, 17)),\n",
       " 6: (17, (12, 18, 20, 21)),\n",
       " 7: (15, ()),\n",
       " 8: (18, (10, 12, 13, 14)),\n",
       " 9: (20, (10, 15))}"
      ]
     },
     "execution_count": 51,
     "metadata": {},
     "output_type": "execute_result"
    }
   ],
   "source": [
    "eqs"
   ]
  },
  {
   "cell_type": "code",
   "execution_count": 52,
   "id": "0dc64bb1-7531-4542-82ef-a5cef77f83d2",
   "metadata": {
    "execution": {
     "iopub.execute_input": "2022-02-08T23:29:00.229058Z",
     "iopub.status.busy": "2022-02-08T23:29:00.228049Z",
     "iopub.status.idle": "2022-02-08T23:29:00.249044Z",
     "shell.execute_reply": "2022-02-08T23:29:00.248044Z",
     "shell.execute_reply.started": "2022-02-08T23:29:00.229058Z"
    },
    "tags": []
   },
   "outputs": [],
   "source": [
    "A = np.zeros((n_eqs, n_vars)).astype(int)\n",
    "permutation = range(n_eqs, n_vars+n_eqs)\n",
    "for idx, (out,varsineq) in eqs.items():\n",
    "    for var in varsineq+(out,):\n",
    "        col = permutation.index(var)\n",
    "        A[idx,col] = 1"
   ]
  },
  {
   "cell_type": "code",
   "execution_count": 53,
   "id": "d6f964e6-9747-4f99-b667-af9b0311382c",
   "metadata": {
    "execution": {
     "iopub.execute_input": "2022-02-08T23:29:00.678740Z",
     "iopub.status.busy": "2022-02-08T23:29:00.678740Z",
     "iopub.status.idle": "2022-02-08T23:29:00.699743Z",
     "shell.execute_reply": "2022-02-08T23:29:00.698742Z",
     "shell.execute_reply.started": "2022-02-08T23:29:00.678740Z"
    },
    "tags": []
   },
   "outputs": [
    {
     "name": "stdout",
     "output_type": "stream",
     "text": [
      "A=[0 0 0 0 1 1 0 1 0 1 0 0 0;\n",
      " 0 1 0 1 0 0 0 0 0 1 0 0 0;\n",
      " 0 0 0 0 1 0 0 1 1 0 0 1 1;\n",
      " 1 1 0 0 0 1 1 0 1 0 0 0 0;\n",
      " 1 0 1 0 1 0 1 0 0 0 0 1 0;\n",
      " 0 0 0 1 0 0 1 1 0 0 0 0 0;\n",
      " 0 0 1 0 0 0 0 1 1 0 1 1 0;\n",
      " 0 0 0 0 0 1 0 0 0 0 0 0 0;\n",
      " 1 0 1 1 1 0 0 0 1 0 0 0 0;\n",
      " 1 0 0 0 0 1 0 0 0 0 1 0 0]\n"
     ]
    }
   ],
   "source": [
    "print('A=[{}]'.format(';\\n '.join([' '.join([str(elt) for elt in row]) for row in A])))"
   ]
  },
  {
   "cell_type": "markdown",
   "id": "b8bb696b",
   "metadata": {},
   "source": [
    "# Generate test problem equations"
   ]
  },
  {
   "cell_type": "code",
   "execution_count": 54,
   "id": "4629665b",
   "metadata": {
    "execution": {
     "iopub.execute_input": "2022-02-09T20:27:46.919803Z",
     "iopub.status.busy": "2022-02-09T20:27:46.911811Z",
     "iopub.status.idle": "2022-02-09T20:27:47.024329Z",
     "shell.execute_reply": "2022-02-09T20:27:47.019331Z",
     "shell.execute_reply.started": "2022-02-09T20:27:46.918847Z"
    },
    "tags": []
   },
   "outputs": [],
   "source": [
    "rng = np.random.default_rng(12345)\n",
    "def smallrand(n=1):\n",
    "    newn = np.round(rng.uniform(low=-1, high=1),n)\n",
    "    if newn == 0.:\n",
    "        return smallrand()\n",
    "    return newn"
   ]
  },
  {
   "cell_type": "code",
   "execution_count": 55,
   "id": "ad0024b9",
   "metadata": {
    "execution": {
     "iopub.execute_input": "2022-02-09T20:27:47.663751Z",
     "iopub.status.busy": "2022-02-09T20:27:47.663751Z",
     "iopub.status.idle": "2022-02-09T20:27:47.697752Z",
     "shell.execute_reply": "2022-02-09T20:27:47.696750Z",
     "shell.execute_reply.started": "2022-02-09T20:27:47.663751Z"
    },
    "tags": []
   },
   "outputs": [],
   "source": [
    "def generate_partitions(vrs):\n",
    "    rvrs = copy.copy(list(vrs))\n",
    "    rng.shuffle(rvrs)\n",
    "    p = []\n",
    "    while len(rvrs) >= 3:\n",
    "        ri = rng.integers(2,4)\n",
    "        p.append((smallrand(), rvrs[:ri]))\n",
    "        rvrs = rvrs[ri:]\n",
    "    if rvrs:\n",
    "        p.append((smallrand(), rvrs))\n",
    "    return p"
   ]
  },
  {
   "cell_type": "code",
   "execution_count": 56,
   "id": "be01fc47-d819-44f7-8bc9-e1de8ac896cc",
   "metadata": {
    "execution": {
     "iopub.execute_input": "2022-02-09T20:27:48.947169Z",
     "iopub.status.busy": "2022-02-09T20:27:48.946166Z",
     "iopub.status.idle": "2022-02-09T20:27:48.967164Z",
     "shell.execute_reply": "2022-02-09T20:27:48.966203Z",
     "shell.execute_reply.started": "2022-02-09T20:27:48.947169Z"
    },
    "tags": []
   },
   "outputs": [],
   "source": [
    "def random_function(vrs, partition):\n",
    "    return sum([key*reduce(operator.mul, (vrs[var] for var in val)) for key, val in partition])+smallrand()"
   ]
  },
  {
   "cell_type": "code",
   "execution_count": 57,
   "id": "9e1b1d32",
   "metadata": {
    "execution": {
     "iopub.execute_input": "2022-02-09T20:27:55.258732Z",
     "iopub.status.busy": "2022-02-09T20:27:55.257732Z",
     "iopub.status.idle": "2022-02-09T20:27:55.307909Z",
     "shell.execute_reply": "2022-02-09T20:27:55.306910Z",
     "shell.execute_reply.started": "2022-02-09T20:27:55.258732Z"
    },
    "tags": []
   },
   "outputs": [],
   "source": [
    "partitions = {idx:generate_partitions(eqvars) for idx,eqvars in eqv.items()}"
   ]
  },
  {
   "cell_type": "code",
   "execution_count": 58,
   "id": "a7540aad-8437-4a93-bb3f-3fe549dfd82c",
   "metadata": {
    "execution": {
     "iopub.execute_input": "2022-02-09T20:27:55.750178Z",
     "iopub.status.busy": "2022-02-09T20:27:55.749196Z",
     "iopub.status.idle": "2022-02-09T20:27:55.840553Z",
     "shell.execute_reply": "2022-02-09T20:27:55.837551Z",
     "shell.execute_reply.started": "2022-02-09T20:27:55.750178Z"
    },
    "tags": []
   },
   "outputs": [],
   "source": [
    "vrs = {n_eqs+idx: Var('x_{{{}}}'.format(idx)) for idx in range(n_vars)}\n",
    "vrsn = {normalize_name(var.name):var for var in vrs.values()}\n",
    "fxeqs = dict()\n",
    "fxeqs_opt = dict()\n",
    "fxdir = dict()"
   ]
  },
  {
   "cell_type": "code",
   "execution_count": 59,
   "id": "aa20cb7d",
   "metadata": {
    "execution": {
     "iopub.execute_input": "2022-02-09T20:27:56.407423Z",
     "iopub.status.busy": "2022-02-09T20:27:56.406426Z",
     "iopub.status.idle": "2022-02-09T20:27:56.777436Z",
     "shell.execute_reply": "2022-02-09T20:27:56.774433Z",
     "shell.execute_reply.started": "2022-02-09T20:27:56.407423Z"
    },
    "tags": []
   },
   "outputs": [],
   "source": [
    "reseqs = {idx: random_function(vrs, partitions[idx])+smallrand() for idx,eqvars in eqv.items()}"
   ]
  },
  {
   "cell_type": "code",
   "execution_count": 60,
   "id": "f331886d-f58b-4ce0-9d03-d4e5ec4819b2",
   "metadata": {
    "execution": {
     "iopub.execute_input": "2022-02-09T20:27:57.622401Z",
     "iopub.status.busy": "2022-02-09T20:27:57.622401Z",
     "iopub.status.idle": "2022-02-09T20:27:57.684063Z",
     "shell.execute_reply": "2022-02-09T20:27:57.683099Z",
     "shell.execute_reply.started": "2022-02-09T20:27:57.622401Z"
    },
    "tags": []
   },
   "outputs": [
    {
     "data": {
      "text/plain": [
       "{0: 0.6*x_{4}*x_{7} + 0.4*x_{5}*x_{9} - 0.8,\n",
       " 1: 0.2*x_{1}*x_{3}*x_{9} - 0.8,\n",
       " 2: 0.9*x_{11}*x_{7} - 0.8*x_{12}*x_{4}*x_{8} - 0.7,\n",
       " 3: 0.5*x_{0}*x_{6} - 0.3*x_{1}*x_{5}*x_{8} - 1.3,\n",
       " 4: -0.1*x_{0}*x_{2} - 0.3*x_{11}*x_{4} - 0.5*x_{6} - 0.4,\n",
       " 5: -0.7*x_{3}*x_{6} - 0.8*x_{7} - 0.5,\n",
       " 6: 0.9*x_{10}*x_{2}*x_{8} + 0.4*x_{11}*x_{7} - 1.3,\n",
       " 7: 0.7*x_{5} - 0.6,\n",
       " 8: -0.1*x_{0}*x_{2} - 0.5*x_{3}*x_{4}*x_{8} - 0.8,\n",
       " 9: 0.8*x_{0}*x_{10}*x_{5} - 1.1}"
      ]
     },
     "execution_count": 60,
     "metadata": {},
     "output_type": "execute_result"
    }
   ],
   "source": [
    "reseqs"
   ]
  },
  {
   "cell_type": "markdown",
   "id": "a08472e0-97e1-4008-ba11-f7b907eab3ed",
   "metadata": {},
   "source": [
    "# Default inputs"
   ]
  },
  {
   "cell_type": "code",
   "execution_count": 37,
   "id": "063ae21a-76a4-41e9-bec4-48fe8e325b52",
   "metadata": {
    "execution": {
     "iopub.execute_input": "2022-02-02T12:59:08.666735Z",
     "iopub.status.busy": "2022-02-02T12:59:08.666735Z",
     "iopub.status.idle": "2022-02-02T12:59:08.685733Z",
     "shell.execute_reply": "2022-02-02T12:59:08.684728Z",
     "shell.execute_reply.started": "2022-02-02T12:59:08.666735Z"
    },
    "tags": []
   },
   "outputs": [],
   "source": [
    "model = Model()\n",
    "m = RefNode(name='/', ref=model)"
   ]
  },
  {
   "cell_type": "code",
   "execution_count": 38,
   "id": "32fba95f-83d2-484b-adac-b9d6f0130c2d",
   "metadata": {
    "execution": {
     "iopub.execute_input": "2022-02-02T12:59:09.136734Z",
     "iopub.status.busy": "2022-02-02T12:59:09.136734Z",
     "iopub.status.idle": "2022-02-02T12:59:10.414251Z",
     "shell.execute_reply": "2022-02-02T12:59:10.413248Z",
     "shell.execute_reply.started": "2022-02-02T12:59:09.136734Z"
    },
    "tags": []
   },
   "outputs": [],
   "source": [
    "for idx, (left,_) in sorted(eqs.items()):\n",
    "    leftvar = vrs[left]\n",
    "    fxeq = sp.simplify(reassigneq(None, reseqs[idx], leftvar))\n",
    "    _, fx, node = adda(m, leftvar, fxeq, returnfx=True, returnnode=True)\n",
    "    fxdir[idx] = node\n",
    "    fxeqs[fx] = reseqs[idx]"
   ]
  },
  {
   "cell_type": "code",
   "execution_count": 39,
   "id": "a3618aab-81e6-4f32-b5f3-a21d7cd5a69a",
   "metadata": {
    "execution": {
     "iopub.execute_input": "2022-02-02T12:59:10.495258Z",
     "iopub.status.busy": "2022-02-02T12:59:10.494256Z",
     "iopub.status.idle": "2022-02-02T12:59:10.509252Z",
     "shell.execute_reply": "2022-02-02T12:59:10.508251Z",
     "shell.execute_reply.started": "2022-02-02T12:59:10.495258Z"
    },
    "tags": []
   },
   "outputs": [],
   "source": [
    "addf(m, (vrsn['x2']-1)**2+(vrsn['x7']-1)**2+(vrsn['x9']-1)**2, name='f');"
   ]
  },
  {
   "cell_type": "code",
   "execution_count": 40,
   "id": "4114bd76-84e2-4c42-8b70-ad174de6c9fd",
   "metadata": {
    "execution": {
     "iopub.execute_input": "2022-02-02T12:59:13.563256Z",
     "iopub.status.busy": "2022-02-02T12:59:13.562254Z",
     "iopub.status.idle": "2022-02-02T12:59:13.581255Z",
     "shell.execute_reply": "2022-02-02T12:59:13.580251Z",
     "shell.execute_reply.started": "2022-02-02T12:59:13.563256Z"
    },
    "tags": []
   },
   "outputs": [],
   "source": [
    "# fxdir[3].node_type=END\n",
    "# fxdir[9].node_type=END"
   ]
  },
  {
   "cell_type": "code",
   "execution_count": 41,
   "id": "b46c601b-3a57-4961-b391-6f77765f0e5c",
   "metadata": {
    "execution": {
     "iopub.execute_input": "2022-02-02T12:59:14.646674Z",
     "iopub.status.busy": "2022-02-02T12:59:14.646674Z",
     "iopub.status.idle": "2022-02-02T12:59:14.692669Z",
     "shell.execute_reply": "2022-02-02T12:59:14.690669Z",
     "shell.execute_reply.started": "2022-02-02T12:59:14.646674Z"
    },
    "tags": []
   },
   "outputs": [],
   "source": [
    "G, graphs = graphs_from_incidence(m, from_root=True)\n",
    "m_ordered = make_acyclic(m, graphs, mdf=False)"
   ]
  },
  {
   "cell_type": "code",
   "execution_count": 42,
   "id": "db1c56c8-3725-479f-92a1-da0a331ce2da",
   "metadata": {
    "execution": {
     "iopub.execute_input": "2022-02-02T12:59:15.713727Z",
     "iopub.status.busy": "2022-02-02T12:59:15.712718Z",
     "iopub.status.idle": "2022-02-02T12:59:15.735725Z",
     "shell.execute_reply": "2022-02-02T12:59:15.734719Z",
     "shell.execute_reply.started": "2022-02-02T12:59:15.713727Z"
    },
    "tags": []
   },
   "outputs": [
    {
     "name": "stdout",
     "output_type": "stream",
     "text": [
      "/               \n",
      "├── f_{0}, INTER\n",
      "├── f_{1}, INTER\n",
      "├── f_{2}, INTER\n",
      "├── f_{3}, INTER\n",
      "├── f_{4}, INTER\n",
      "├── f_{5}, INTER\n",
      "├── f_{6}, INTER\n",
      "├── f_{7}, INTER\n",
      "├── f_{8}, INTER\n",
      "├── f_{9}, INTER\n",
      "└── f, END      \n"
     ]
    }
   ],
   "source": [
    "render_tree(m, display_type=True)"
   ]
  },
  {
   "cell_type": "code",
   "execution_count": 43,
   "id": "73fa6808-65e0-4219-b354-c53fcd7672d4",
   "metadata": {
    "execution": {
     "iopub.execute_input": "2022-02-02T12:59:17.379717Z",
     "iopub.status.busy": "2022-02-02T12:59:17.378717Z",
     "iopub.status.idle": "2022-02-02T12:59:17.391721Z",
     "shell.execute_reply": "2022-02-02T12:59:17.390717Z",
     "shell.execute_reply.started": "2022-02-02T12:59:17.379717Z"
    },
    "tags": []
   },
   "outputs": [],
   "source": [
    "seq = default_sequence(m)\n",
    "#seq = sorted(m_ordered.children, key=lambda node:node.name)\n",
    "#seq = seq[1:]+[seq[0]]"
   ]
  },
  {
   "cell_type": "code",
   "execution_count": 44,
   "id": "7a0e9202-452c-4d48-ad24-005652558454",
   "metadata": {
    "execution": {
     "iopub.execute_input": "2022-02-02T12:59:18.012718Z",
     "iopub.status.busy": "2022-02-02T12:59:18.012718Z",
     "iopub.status.idle": "2022-02-02T12:59:23.873718Z",
     "shell.execute_reply": "2022-02-02T12:59:23.872716Z",
     "shell.execute_reply.started": "2022-02-02T12:59:18.012718Z"
    },
    "tags": []
   },
   "outputs": [
    {
     "data": {
      "image/png": "[encoded data removed]",
      "text/plain": [
       "<Figure size 720x720 with 1 Axes>"
      ]
     },
     "metadata": {
      "needs_background": "light"
     },
     "output_type": "display_data"
    }
   ],
   "source": [
    "tree_to_draw = m\n",
    "fig, ax = tree_incidence(tree_to_draw, eqvars(model.eqs), model.outset, seq, figsize=(10,10));\n",
    "plt.sca(ax)\n",
    "plt.savefig('figures/polynomial_circular.png', dpi=600, bbox_inches='tight')"
   ]
  },
  {
   "cell_type": "markdown",
   "id": "c0140078-0c12-4245-8b8e-2e3a801d095d",
   "metadata": {},
   "source": [
    "# Structurally optimized inputs"
   ]
  },
  {
   "cell_type": "code",
   "execution_count": 19,
   "id": "c74f96d6-7d1c-4d66-819b-d6a430b72a16",
   "metadata": {
    "execution": {
     "iopub.execute_input": "2022-02-02T01:29:02.388552Z",
     "iopub.status.busy": "2022-02-02T01:29:02.387553Z",
     "iopub.status.idle": "2022-02-02T01:29:02.403552Z",
     "shell.execute_reply": "2022-02-02T01:29:02.402551Z",
     "shell.execute_reply.started": "2022-02-02T01:29:02.388552Z"
    },
    "tags": []
   },
   "outputs": [],
   "source": [
    "newdout = {0: 11, 1: 21, 2: 14, 3: 10, 4: 18, 5: 13, 6: 22, 7: 15, 8: 16, 9: 20}\n",
    "nrev_lookup = {var:key for key,var in newdout.items()}"
   ]
  },
  {
   "cell_type": "code",
   "execution_count": 25,
   "id": "fb939f60-9387-4e88-9088-ce7afcfe26f4",
   "metadata": {
    "execution": {
     "iopub.execute_input": "2022-02-02T01:29:46.414351Z",
     "iopub.status.busy": "2022-02-02T01:29:46.414351Z",
     "iopub.status.idle": "2022-02-02T01:29:46.423350Z",
     "shell.execute_reply": "2022-02-02T01:29:46.422355Z",
     "shell.execute_reply.started": "2022-02-02T01:29:46.414351Z"
    },
    "tags": []
   },
   "outputs": [],
   "source": [
    "model_optinp = Model()\n",
    "m2 = RefNode(name='/', ref=model_optinp)"
   ]
  },
  {
   "cell_type": "code",
   "execution_count": 26,
   "id": "99fe3d70-089f-41d9-9a82-3a949b99b939",
   "metadata": {
    "execution": {
     "iopub.execute_input": "2022-02-02T01:29:46.760349Z",
     "iopub.status.busy": "2022-02-02T01:29:46.760349Z",
     "iopub.status.idle": "2022-02-02T01:29:47.516369Z",
     "shell.execute_reply": "2022-02-02T01:29:47.512444Z",
     "shell.execute_reply.started": "2022-02-02T01:29:46.760349Z"
    },
    "tags": []
   },
   "outputs": [],
   "source": [
    "for idx, eq in sorted(reseqs.items()):\n",
    "    left = newdout[idx]\n",
    "    leftvar = vrs[left]\n",
    "    fxeq = sp.simplify(reassigneq(None, eq, leftvar))\n",
    "    _, fx = adda(m2, leftvar, fxeq, returnfx=True)\n",
    "    fxeqs_opt[fx] = reseqs[idx]"
   ]
  },
  {
   "cell_type": "code",
   "execution_count": 27,
   "id": "29a7830b-337c-4fe4-96d4-e250ad122901",
   "metadata": {
    "execution": {
     "iopub.execute_input": "2022-02-02T01:29:48.354163Z",
     "iopub.status.busy": "2022-02-02T01:29:48.354163Z",
     "iopub.status.idle": "2022-02-02T01:29:48.382168Z",
     "shell.execute_reply": "2022-02-02T01:29:48.381163Z",
     "shell.execute_reply.started": "2022-02-02T01:29:48.354163Z"
    },
    "tags": []
   },
   "outputs": [],
   "source": [
    "G, graphs = graphs_from_incidence(m2, from_root=True)\n",
    "m2_ordered = make_acyclic(m2, graphs)"
   ]
  },
  {
   "cell_type": "code",
   "execution_count": 28,
   "id": "a2ac76f4-25f3-4064-93f5-e6d608267dc3",
   "metadata": {
    "execution": {
     "iopub.execute_input": "2022-02-02T01:29:49.090263Z",
     "iopub.status.busy": "2022-02-02T01:29:49.089270Z",
     "iopub.status.idle": "2022-02-02T01:29:49.105266Z",
     "shell.execute_reply": "2022-02-02T01:29:49.104288Z",
     "shell.execute_reply.started": "2022-02-02T01:29:49.090263Z"
    },
    "tags": []
   },
   "outputs": [],
   "source": [
    "addf(m2_ordered, (vrsn['x2']-1)**2+(vrsn['x7']-1)**2+(vrsn['x9']-1)**2, name='f');"
   ]
  },
  {
   "cell_type": "code",
   "execution_count": 37,
   "id": "54bf5771",
   "metadata": {
    "execution": {
     "iopub.execute_input": "2022-02-02T12:05:48.660792Z",
     "iopub.status.busy": "2022-02-02T12:05:48.659793Z",
     "iopub.status.idle": "2022-02-02T12:05:53.514795Z",
     "shell.execute_reply": "2022-02-02T12:05:53.513791Z",
     "shell.execute_reply.started": "2022-02-02T12:05:48.660792Z"
    },
    "tags": []
   },
   "outputs": [
    {
     "data": {
      "image/png": "[encoded data removed]",
      "text/plain": [
       "<Figure size 720x720 with 1 Axes>"
      ]
     },
     "metadata": {
      "needs_background": "light"
     },
     "output_type": "display_data"
    }
   ],
   "source": [
    "tree_to_draw = m2_ordered\n",
    "_,ax = tree_incidence(tree_to_draw, eqvars(model_optinp.eqs), model_optinp.outset, default_sequence(tree_to_draw), figsize=(10,10));\n",
    "plt.sca(ax)\n",
    "plt.savefig('figures/polynomial_stopt.png', dpi=600, bbox_inches='tight')"
   ]
  },
  {
   "cell_type": "markdown",
   "id": "f2a7494a",
   "metadata": {},
   "source": [
    "# For polynomial testing eqs"
   ]
  },
  {
   "cell_type": "code",
   "execution_count": 21,
   "id": "22071b72",
   "metadata": {
    "execution": {
     "iopub.execute_input": "2022-02-01T23:56:17.937308Z",
     "iopub.status.busy": "2022-02-01T23:56:17.935307Z",
     "iopub.status.idle": "2022-02-01T23:56:18.042309Z",
     "shell.execute_reply": "2022-02-01T23:56:18.041303Z",
     "shell.execute_reply.started": "2022-02-01T23:56:17.937308Z"
    },
    "tags": []
   },
   "outputs": [
    {
     "name": "stdout",
     "output_type": "stream",
     "text": [
      "@var x_10, x_11, x_12, x_13, x_14, x_15, x_16, x_17, x_18, x_19, x_20, x_21, x_22\n",
      "@var λ[1:10];\n",
      "h0=-0.4*x_1*x_9 + 1.1;\n",
      "h1=0.2*x_11*x_5 - 0.3*x_12*x_1*x_4 + 1.0;\n",
      "h2=-0.6*x_1*x_4 + 0.4;\n",
      "h3=0.3*x_0 + 0.2;\n",
      "h4=0.3*x_10 + 0.9*x_2*x_8 + 0.5;\n",
      "h5=-0.3*x_12*x_3*x_5 + 0.4*x_2*x_8 - 0.8;\n",
      "h6=-0.7*x_0*x_7*x_9 - 0.3*x_10*x_12 - 0.8;\n",
      "h7=0.6*x_0*x_5 - 0.6*x_2 - 0.7;\n",
      "h8=0.2*x_3*x_8*x_9 + 0.2*x_6*x_7 - 1.3;\n",
      "h9=0.9*x_10 - 0.4;\n",
      "vars=[x_10, x_11, x_12, x_13, x_14, x_15, x_16, x_17, x_18, x_19, x_20, x_21, x_22]\n",
      "dfdx=[0, 0, 0, 0, 0, 0, x_16, 0, 0, 0, 0, x_21, x_22]\n",
      "h=[h0, h1, h2, h3, h4, h5, h6, h7, h8, h9];\n"
     ]
    }
   ],
   "source": [
    "print('@var {}'.format(\", \".join(['x_{}'.format(vr) for vr in vrs])))\n",
    "print('@var λ[1:{}];'.format(n_eqs))\n",
    "for key, var in reseqs.items():\n",
    "    print('h{}={};'.format(key, normalize_name(str(var), keep_underscore=True)))\n",
    "print('vars=[{}]'.format(\", \".join(['x_{}'.format(vr) for vr in vrs])))\n",
    "print('dfdx=[{}]'.format(\", \".join([str(0) if vr not in [16, 22, 21] else 'x_{}'.format(vr) for vr in vrs])))\n",
    "print('h=[{}];'.format(\", \".join(['h{}'.format(eq) for eq in reseqs.keys()])))"
   ]
  },
  {
   "cell_type": "markdown",
   "id": "1523c08c-385c-46f6-8f05-a0bb891817c3",
   "metadata": {},
   "source": [
    "# Execution order"
   ]
  },
  {
   "cell_type": "markdown",
   "id": "8663b8ab-b557-454d-bc51-0637536c04ad",
   "metadata": {},
   "source": [
    "## Default inputs"
   ]
  },
  {
   "cell_type": "code",
   "execution_count": 22,
   "id": "44217dce-4879-4886-9f23-70a528d23ccb",
   "metadata": {
    "execution": {
     "iopub.execute_input": "2022-02-01T23:56:18.044305Z",
     "iopub.status.busy": "2022-02-01T23:56:18.044305Z",
     "iopub.status.idle": "2022-02-01T23:56:18.122309Z",
     "shell.execute_reply": "2022-02-01T23:56:18.121302Z",
     "shell.execute_reply.started": "2022-02-01T23:56:18.044305Z"
    },
    "tags": []
   },
   "outputs": [
    {
     "data": {
      "text/plain": [
       "[('exp', 0, x_{0}, f_{3}),\n",
       " ('exp', 0, x_{10}, f_{9}),\n",
       " ('solver',\n",
       "  0,\n",
       "  1,\n",
       "  [x_{8}, x_{3}, x_{7}, x_{4}, x_{2}, x_{5}, x_{1}, x_{9}],\n",
       "  [f_{8}, f_{5}, f_{6}, f_{2}, f_{4}, f_{7}, f_{1}, f_{0}])]"
      ]
     },
     "execution_count": 22,
     "metadata": {},
     "output_type": "execute_result"
    }
   ],
   "source": [
    "exec_instructions = generate_execution(notation_from_tree(m_ordered, model.outset))\n",
    "exec_instructions"
   ]
  },
  {
   "cell_type": "markdown",
   "id": "29ed8815-a065-43f6-b319-2019aa443d9a",
   "metadata": {
    "tags": []
   },
   "source": [
    "## Optimized inputs"
   ]
  },
  {
   "cell_type": "code",
   "execution_count": 23,
   "id": "946a21d2-2d38-48f2-bead-f0e2d079e93d",
   "metadata": {
    "execution": {
     "iopub.execute_input": "2022-02-01T23:56:18.125310Z",
     "iopub.status.busy": "2022-02-01T23:56:18.124307Z",
     "iopub.status.idle": "2022-02-01T23:56:18.138306Z",
     "shell.execute_reply": "2022-02-01T23:56:18.137304Z",
     "shell.execute_reply.started": "2022-02-01T23:56:18.125310Z"
    },
    "tags": []
   },
   "outputs": [
    {
     "data": {
      "text/plain": [
       "[('exp', 0, x_{0}, f_{3}),\n",
       " ('exp', 0, x_{10}, f_{9}),\n",
       " ('exp', 0, x_{1}, f_{0}),\n",
       " ('exp', 0, x_{5}, f_{7}),\n",
       " ('exp', 0, x_{8}, f_{4}),\n",
       " ('exp', 0, x_{12}, f_{6}),\n",
       " ('exp', 0, x_{4}, f_{2}),\n",
       " ('exp', 0, x_{3}, f_{5}),\n",
       " ('exp', 0, x_{11}, f_{1}),\n",
       " ('exp', 0, x_{6}, f_{8})]"
      ]
     },
     "execution_count": 23,
     "metadata": {},
     "output_type": "execute_result"
    }
   ],
   "source": [
    "exec_optinp = generate_execution(notation_from_tree(m2_ordered, model_optinp.outset))\n",
    "exec_optinp"
   ]
  },
  {
   "cell_type": "markdown",
   "id": "fe6b8a0a-d0ee-463d-9541-da80f19bbee6",
   "metadata": {},
   "source": [
    "# Build openMDAO problem"
   ]
  },
  {
   "cell_type": "code",
   "execution_count": 24,
   "id": "5f5ef473-ca2c-4d38-b0f3-a43a10ce7dbf",
   "metadata": {
    "execution": {
     "iopub.execute_input": "2022-02-01T23:56:18.141308Z",
     "iopub.status.busy": "2022-02-01T23:56:18.140305Z",
     "iopub.status.idle": "2022-02-01T23:56:18.233306Z",
     "shell.execute_reply": "2022-02-01T23:56:18.232305Z",
     "shell.execute_reply.started": "2022-02-01T23:56:18.141308Z"
    },
    "tags": []
   },
   "outputs": [],
   "source": [
    "optin = {key:(None, val) for key,val in fxeqs.items()}"
   ]
  },
  {
   "cell_type": "code",
   "execution_count": 25,
   "id": "fc28f27a-2e50-4c3e-98c5-ee5fd55687d6",
   "metadata": {
    "execution": {
     "iopub.execute_input": "2022-02-01T23:56:18.237309Z",
     "iopub.status.busy": "2022-02-01T23:56:18.236312Z",
     "iopub.status.idle": "2022-02-01T23:56:18.250312Z",
     "shell.execute_reply": "2022-02-01T23:56:18.248308Z",
     "shell.execute_reply.started": "2022-02-01T23:56:18.236312Z"
    },
    "tags": []
   },
   "outputs": [],
   "source": [
    "objective = Function('f', END)\n",
    "optin[objective] = (None, (vrsn['x2']-1)**2+(vrsn['x7']-1)**2+(vrsn['x9']-1)**2)"
   ]
  },
  {
   "cell_type": "code",
   "execution_count": 26,
   "id": "93e0f53c-3856-4bb0-87cf-f1f7863866e3",
   "metadata": {
    "execution": {
     "iopub.execute_input": "2022-02-01T23:56:18.260307Z",
     "iopub.status.busy": "2022-02-01T23:56:18.259307Z",
     "iopub.status.idle": "2022-02-01T23:56:18.282308Z",
     "shell.execute_reply": "2022-02-01T23:56:18.280306Z",
     "shell.execute_reply.started": "2022-02-01T23:56:18.260307Z"
    },
    "tags": []
   },
   "outputs": [],
   "source": [
    "for vr in vrs.values():\n",
    "    vr.name = normalize_name(vr.name, keep_underscore=True)\n",
    "for fx in fxeqs.keys():\n",
    "    fx.name = normalize_name(fx.name, keep_underscore=False)\n",
    "for fx in fxeqs_opt.keys():\n",
    "    fx.name = normalize_name(fx.name, keep_underscore=False)"
   ]
  },
  {
   "cell_type": "markdown",
   "id": "64a3c371",
   "metadata": {
    "tags": []
   },
   "source": [
    "## Default inputs"
   ]
  },
  {
   "cell_type": "code",
   "execution_count": 66,
   "id": "e5cbffec",
   "metadata": {
    "execution": {
     "iopub.execute_input": "2022-02-02T00:01:41.648395Z",
     "iopub.status.busy": "2022-02-02T00:01:41.647397Z",
     "iopub.status.idle": "2022-02-02T00:01:41.665393Z",
     "shell.execute_reply": "2022-02-02T00:01:41.664419Z",
     "shell.execute_reply.started": "2022-02-02T00:01:41.648395Z"
    },
    "tags": []
   },
   "outputs": [],
   "source": [
    "prob = om.Problem()\n",
    "mdo_model = prob.model\n",
    "groups = {0:mdo_model}"
   ]
  },
  {
   "cell_type": "code",
   "execution_count": 67,
   "id": "d3e89df9-20c7-4a62-bb69-4d210822bb28",
   "metadata": {
    "execution": {
     "iopub.execute_input": "2022-02-02T00:01:42.212744Z",
     "iopub.status.busy": "2022-02-02T00:01:42.212744Z",
     "iopub.status.idle": "2022-02-02T00:01:42.231744Z",
     "shell.execute_reply": "2022-02-02T00:01:42.230739Z",
     "shell.execute_reply.started": "2022-02-02T00:01:42.212744Z"
    },
    "tags": []
   },
   "outputs": [],
   "source": [
    "eqs, eqv, dout, dins = model.data_structures()"
   ]
  },
  {
   "cell_type": "code",
   "execution_count": 68,
   "id": "2aba3542-6c42-4999-ba14-6f65969bb223",
   "metadata": {
    "execution": {
     "iopub.execute_input": "2022-02-02T00:01:42.974657Z",
     "iopub.status.busy": "2022-02-02T00:01:42.974657Z",
     "iopub.status.idle": "2022-02-02T00:01:42.983656Z",
     "shell.execute_reply": "2022-02-02T00:01:42.982654Z",
     "shell.execute_reply.started": "2022-02-02T00:01:42.974657Z"
    },
    "tags": []
   },
   "outputs": [],
   "source": [
    "mdao_in = [str(elt) for elt in dins]"
   ]
  },
  {
   "cell_type": "code",
   "execution_count": 69,
   "id": "e192eb31-e61d-4778-bad9-9332739db9d4",
   "metadata": {
    "execution": {
     "iopub.execute_input": "2022-02-02T00:01:43.430696Z",
     "iopub.status.busy": "2022-02-02T00:01:43.429697Z",
     "iopub.status.idle": "2022-02-02T00:01:43.440700Z",
     "shell.execute_reply": "2022-02-02T00:01:43.439725Z",
     "shell.execute_reply.started": "2022-02-02T00:01:43.430696Z"
    },
    "tags": []
   },
   "outputs": [],
   "source": [
    "buildidpvars(mdao_in, mdo_model)"
   ]
  },
  {
   "cell_type": "code",
   "execution_count": 70,
   "id": "fe7ee403-c8e5-4dd7-bdfd-f26c303b9555",
   "metadata": {
    "execution": {
     "iopub.execute_input": "2022-02-02T00:01:43.952698Z",
     "iopub.status.busy": "2022-02-02T00:01:43.952698Z",
     "iopub.status.idle": "2022-02-02T00:01:43.973700Z",
     "shell.execute_reply": "2022-02-02T00:01:43.972695Z",
     "shell.execute_reply.started": "2022-02-02T00:01:43.952698Z"
    },
    "tags": []
   },
   "outputs": [],
   "source": [
    "inst_mapping = {\n",
    "    'exp': lambda *args: explicit(groups, eqs, *args),\n",
    "    'solver': lambda *args: solver(groups, optin, *args)\n",
    "}"
   ]
  },
  {
   "cell_type": "code",
   "execution_count": 71,
   "id": "cc1d499e-e578-415d-808d-b0bb63006a5a",
   "metadata": {
    "execution": {
     "iopub.execute_input": "2022-02-02T00:01:44.911108Z",
     "iopub.status.busy": "2022-02-02T00:01:44.910098Z",
     "iopub.status.idle": "2022-02-02T00:01:44.950096Z",
     "shell.execute_reply": "2022-02-02T00:01:44.948096Z",
     "shell.execute_reply.started": "2022-02-02T00:01:44.911108Z"
    },
    "tags": []
   },
   "outputs": [],
   "source": [
    "for comp_type, *comp_args in exec_instructions:\n",
    "    inst_mapping[comp_type](*comp_args)"
   ]
  },
  {
   "cell_type": "code",
   "execution_count": 72,
   "id": "81b3429c-f3d6-4536-a856-57589293aa1e",
   "metadata": {
    "execution": {
     "iopub.execute_input": "2022-02-02T00:01:45.566098Z",
     "iopub.status.busy": "2022-02-02T00:01:45.565098Z",
     "iopub.status.idle": "2022-02-02T00:01:45.584101Z",
     "shell.execute_reply": "2022-02-02T00:01:45.582095Z",
     "shell.execute_reply.started": "2022-02-02T00:01:45.566098Z"
    },
    "tags": []
   },
   "outputs": [],
   "source": [
    "optsolver(groups, optin, 0, 0, mdao_in, ([],[],[objective]))"
   ]
  },
  {
   "cell_type": "code",
   "execution_count": 73,
   "id": "5b74301d",
   "metadata": {
    "execution": {
     "iopub.execute_input": "2022-02-02T00:01:46.441296Z",
     "iopub.status.busy": "2022-02-02T00:01:46.441296Z",
     "iopub.status.idle": "2022-02-02T00:01:46.461305Z",
     "shell.execute_reply": "2022-02-02T00:01:46.460295Z",
     "shell.execute_reply.started": "2022-02-02T00:01:46.441296Z"
    },
    "tags": []
   },
   "outputs": [],
   "source": [
    "prob.setup();"
   ]
  },
  {
   "cell_type": "markdown",
   "id": "9649bb1a-d22d-498a-b97c-c0350d6cd5f3",
   "metadata": {},
   "source": [
    "### Tweak initial conditions"
   ]
  },
  {
   "cell_type": "markdown",
   "id": "b3f3949d-d630-4d73-94b3-61db29f17621",
   "metadata": {},
   "source": [
    "Option 1"
   ]
  },
  {
   "cell_type": "code",
   "execution_count": 38,
   "id": "f61acc2f",
   "metadata": {
    "execution": {
     "iopub.execute_input": "2022-02-01T23:55:15.687888Z",
     "iopub.status.busy": "2022-02-01T23:55:15.686887Z",
     "iopub.status.idle": "2022-02-01T23:55:15.704887Z",
     "shell.execute_reply": "2022-02-01T23:55:15.703885Z",
     "shell.execute_reply.started": "2022-02-01T23:55:15.687888Z"
    },
    "tags": []
   },
   "outputs": [],
   "source": [
    "for elt in vrs.values():\n",
    "    prob.set_val(elt.name,np.random.randint(-10,10))"
   ]
  },
  {
   "cell_type": "markdown",
   "id": "bab05fe3-211f-4712-8e3f-2f67f3f4d25e",
   "metadata": {},
   "source": [
    "Option 2"
   ]
  },
  {
   "cell_type": "code",
   "execution_count": 118,
   "id": "cda259b0",
   "metadata": {
    "execution": {
     "iopub.execute_input": "2022-02-02T00:17:19.030467Z",
     "iopub.status.busy": "2022-02-02T00:17:19.030467Z",
     "iopub.status.idle": "2022-02-02T00:17:19.042461Z",
     "shell.execute_reply": "2022-02-02T00:17:19.041463Z",
     "shell.execute_reply.started": "2022-02-02T00:17:19.030467Z"
    },
    "tags": []
   },
   "outputs": [],
   "source": [
    "for name, val in optres.items():\n",
    "    prob.set_val(name,1.7*val)"
   ]
  },
  {
   "cell_type": "markdown",
   "id": "e73dcd2c-ff79-4145-ac49-1a912576ca34",
   "metadata": {},
   "source": [
    "### Run model"
   ]
  },
  {
   "cell_type": "code",
   "execution_count": 119,
   "id": "4832c0f7-0635-4f8a-83d8-dadcc7ab51e0",
   "metadata": {
    "execution": {
     "iopub.execute_input": "2022-02-02T00:17:19.740462Z",
     "iopub.status.busy": "2022-02-02T00:17:19.739462Z",
     "iopub.status.idle": "2022-02-02T00:17:19.750460Z",
     "shell.execute_reply": "2022-02-02T00:17:19.749462Z",
     "shell.execute_reply.started": "2022-02-02T00:17:19.740462Z"
    },
    "tags": []
   },
   "outputs": [],
   "source": [
    "#prob.run_model()\n",
    "#res_default = {key.name: prob.get_val(key.name)[0] for key in \n",
    "#          vrs.values()}"
   ]
  },
  {
   "cell_type": "code",
   "execution_count": 120,
   "id": "0896ec93",
   "metadata": {
    "execution": {
     "iopub.execute_input": "2022-02-02T00:17:20.264462Z",
     "iopub.status.busy": "2022-02-02T00:17:20.263462Z",
     "iopub.status.idle": "2022-02-02T00:17:21.894461Z",
     "shell.execute_reply": "2022-02-02T00:17:21.893460Z",
     "shell.execute_reply.started": "2022-02-02T00:17:20.264462Z"
    },
    "tags": []
   },
   "outputs": [
    {
     "name": "stdout",
     "output_type": "stream",
     "text": [
      "\n",
      "======\n",
      "group1\n",
      "======\n",
      "NL: Newton Converged in 5 iterations\n",
      "\n",
      "======\n",
      "group1\n",
      "======\n",
      "NL: Newton Converged in 0 iterations\n",
      "\n",
      "======\n",
      "group1\n",
      "======\n",
      "NL: Newton Converged in 4 iterations\n",
      "\n",
      "======\n",
      "group1\n",
      "======\n",
      "NL: Newton Converged in 5 iterations\n",
      "\n",
      "======\n",
      "group1\n",
      "======\n",
      "NL: Newton Converged in 4 iterations\n",
      "\n",
      "======\n",
      "group1\n",
      "======\n",
      "NL: Newton Converged in 4 iterations\n",
      "\n",
      "======\n",
      "group1\n",
      "======\n",
      "NL: Newton Converged in 4 iterations\n",
      "\n",
      "======\n",
      "group1\n",
      "======\n",
      "NL: Newton Converged in 3 iterations\n",
      "\n",
      "======\n",
      "group1\n",
      "======\n",
      "NL: Newton Converged in 3 iterations\n",
      "\n",
      "======\n",
      "group1\n",
      "======\n",
      "NL: Newton Converged in 3 iterations\n",
      "\n",
      "======\n",
      "group1\n",
      "======\n",
      "NL: Newton Converged in 3 iterations\n",
      "\n",
      "======\n",
      "group1\n",
      "======\n",
      "NL: Newton Converged in 5 iterations\n",
      "\n",
      "======\n",
      "group1\n",
      "======\n",
      "NL: Newton Converged in 4 iterations\n",
      "\n",
      "======\n",
      "group1\n",
      "======\n",
      "NL: NewtonSolver 'NL: Newton' on system 'group1' failed to converge in 20 iterations.\n",
      "\n",
      "======\n",
      "group1\n",
      "======\n",
      "NL: Newton Converged in 11 iterations\n",
      "\n",
      "======\n",
      "group1\n",
      "======\n",
      "NL: Newton Converged in 5 iterations\n",
      "\n",
      "======\n",
      "group1\n",
      "======\n",
      "NL: Newton Converged in 3 iterations\n",
      "\n",
      "======\n",
      "group1\n",
      "======\n",
      "NL: Newton Converged in 2 iterations\n",
      "\n",
      "======\n",
      "group1\n",
      "======\n",
      "NL: Newton Converged in 2 iterations\n",
      "\n",
      "======\n",
      "group1\n",
      "======\n",
      "NL: Newton Converged in 2 iterations\n",
      "\n",
      "======\n",
      "group1\n",
      "======\n",
      "NL: Newton Converged in 1 iterations\n",
      "\n",
      "======\n",
      "group1\n",
      "======\n",
      "NL: Newton Converged in 1 iterations\n",
      "\n",
      "======\n",
      "group1\n",
      "======\n",
      "NL: Newton Converged in 1 iterations\n",
      "\n",
      "======\n",
      "group1\n",
      "======\n",
      "NL: Newton Converged in 1 iterations\n",
      "Optimization terminated successfully    (Exit mode 0)\n",
      "            Current function value: [643.91451136]\n",
      "            Iterations: 10\n",
      "            Function evaluations: 23\n",
      "            Gradient evaluations: 10\n",
      "Optimization Complete\n",
      "-----------------------------------\n"
     ]
    }
   ],
   "source": [
    "prob.set_solver_print(level=1)\n",
    "prob.driver = om.ScipyOptimizeDriver()\n",
    "# prob.driver.options['optimizer'] = 'differential_evolution'\n",
    "prob.driver.options['maxiter'] = 300 \n",
    "prob.run_driver();"
   ]
  },
  {
   "cell_type": "code",
   "execution_count": 121,
   "id": "1b1add9c",
   "metadata": {
    "execution": {
     "iopub.execute_input": "2022-02-02T00:17:29.424739Z",
     "iopub.status.busy": "2022-02-02T00:17:29.423740Z",
     "iopub.status.idle": "2022-02-02T00:17:29.440749Z",
     "shell.execute_reply": "2022-02-02T00:17:29.439741Z",
     "shell.execute_reply.started": "2022-02-02T00:17:29.424739Z"
    },
    "tags": []
   },
   "outputs": [
    {
     "name": "stdout",
     "output_type": "stream",
     "text": [
      "6 Explicit Output(s) in 'model'\n",
      "\n",
      "varname  val           \n",
      "-------  --------------\n",
      "inp\n",
      "  x_12   [-2.96767381] \n",
      "  x_6    [8.10831687]  \n",
      "  x_11   [2.36962945]  \n",
      "eqf3\n",
      "  x_0    [-0.66666667] \n",
      "eqf9\n",
      "  x_10   [0.44444444]  \n",
      "eqf\n",
      "  f0f    [643.91451136]\n",
      "\n",
      "\n",
      "8 Implicit Output(s) in 'model'\n",
      "\n",
      "varname                val          \n",
      "---------------------  -------------\n",
      "group1\n",
      "  resf8f5f6f2f4f7f1f0\n",
      "    x_8                [-0.65464325]\n",
      "    x_3                [-0.36126889]\n",
      "    x_7                [0.03287102] \n",
      "    x_4                [6.38955715] \n",
      "    x_2                [1.07494227] \n",
      "    x_5                [-3.3624134] \n",
      "    x_1                [0.10433691] \n",
      "    x_9                [26.35692325]\n",
      "\n",
      "\n"
     ]
    }
   ],
   "source": [
    "mdo_model.list_outputs();"
   ]
  },
  {
   "cell_type": "markdown",
   "id": "541ef13b-f5a0-480b-b8de-1eb842440c70",
   "metadata": {
    "tags": []
   },
   "source": [
    "## Optimized inputs"
   ]
  },
  {
   "cell_type": "code",
   "execution_count": 45,
   "id": "47724440-5895-426d-9011-6f403281f40f",
   "metadata": {
    "execution": {
     "iopub.execute_input": "2022-02-01T23:58:54.139643Z",
     "iopub.status.busy": "2022-02-01T23:58:54.138633Z",
     "iopub.status.idle": "2022-02-01T23:58:54.156641Z",
     "shell.execute_reply": "2022-02-01T23:58:54.155653Z",
     "shell.execute_reply.started": "2022-02-01T23:58:54.139643Z"
    },
    "tags": []
   },
   "outputs": [],
   "source": [
    "optin_opt = {key:(None, val) for key,val in fxeqs_opt.items()}"
   ]
  },
  {
   "cell_type": "code",
   "execution_count": 46,
   "id": "ee07d10b-8f0a-4acf-8f13-47b06c72818b",
   "metadata": {
    "execution": {
     "iopub.execute_input": "2022-02-01T23:58:54.444548Z",
     "iopub.status.busy": "2022-02-01T23:58:54.444548Z",
     "iopub.status.idle": "2022-02-01T23:58:54.458543Z",
     "shell.execute_reply": "2022-02-01T23:58:54.457543Z",
     "shell.execute_reply.started": "2022-02-01T23:58:54.444548Z"
    },
    "tags": []
   },
   "outputs": [],
   "source": [
    "objective_opt = Function('f', END)\n",
    "optin_opt[objective_opt] = (None, (vrsn['x2']-1)**2+(vrsn['x7']-1)**2+(vrsn['x9']-1)**2)"
   ]
  },
  {
   "cell_type": "code",
   "execution_count": 47,
   "id": "92ac6002-1bf0-46cd-b486-8cb0c115d601",
   "metadata": {
    "execution": {
     "iopub.execute_input": "2022-02-01T23:59:05.643050Z",
     "iopub.status.busy": "2022-02-01T23:59:05.642049Z",
     "iopub.status.idle": "2022-02-01T23:59:05.659050Z",
     "shell.execute_reply": "2022-02-01T23:59:05.658047Z",
     "shell.execute_reply.started": "2022-02-01T23:59:05.643050Z"
    },
    "tags": []
   },
   "outputs": [],
   "source": [
    "prob_optinp = om.Problem()\n",
    "mdo_model_optinp = prob_optinp.model\n",
    "groups_optinp = {0:mdo_model_optinp}"
   ]
  },
  {
   "cell_type": "code",
   "execution_count": 48,
   "id": "0ac3c805-0c71-449d-9664-57a9b3508f8c",
   "metadata": {
    "execution": {
     "iopub.execute_input": "2022-02-01T23:59:06.054051Z",
     "iopub.status.busy": "2022-02-01T23:59:06.054051Z",
     "iopub.status.idle": "2022-02-01T23:59:06.065050Z",
     "shell.execute_reply": "2022-02-01T23:59:06.064055Z",
     "shell.execute_reply.started": "2022-02-01T23:59:06.054051Z"
    },
    "tags": []
   },
   "outputs": [],
   "source": [
    "eqs_optinp, eqv_optinp, dout_optinp, dins_optinp = model_optinp.data_structures()\n",
    "mdao_in_optinp = [str(elt) for elt in dins_optinp]"
   ]
  },
  {
   "cell_type": "code",
   "execution_count": 49,
   "id": "3d57d272-0f5c-487e-9da1-60768bcbea09",
   "metadata": {
    "execution": {
     "iopub.execute_input": "2022-02-01T23:59:06.398053Z",
     "iopub.status.busy": "2022-02-01T23:59:06.397052Z",
     "iopub.status.idle": "2022-02-01T23:59:06.411049Z",
     "shell.execute_reply": "2022-02-01T23:59:06.410050Z",
     "shell.execute_reply.started": "2022-02-01T23:59:06.398053Z"
    },
    "tags": []
   },
   "outputs": [],
   "source": [
    "buildidpvars(mdao_in_optinp, mdo_model_optinp)"
   ]
  },
  {
   "cell_type": "code",
   "execution_count": 50,
   "id": "f5f6724a-1748-4a9e-a7fc-9c107ca15216",
   "metadata": {
    "execution": {
     "iopub.execute_input": "2022-02-01T23:59:06.815050Z",
     "iopub.status.busy": "2022-02-01T23:59:06.814050Z",
     "iopub.status.idle": "2022-02-01T23:59:06.823053Z",
     "shell.execute_reply": "2022-02-01T23:59:06.822050Z",
     "shell.execute_reply.started": "2022-02-01T23:59:06.815050Z"
    },
    "tags": []
   },
   "outputs": [],
   "source": [
    "inst_mapping = {\n",
    "    'exp': lambda *args: explicit(groups_optinp, eqs_optinp, *args),\n",
    "    'solver': lambda *args: solver(groups_optinp, optin_opt, *args)\n",
    "}"
   ]
  },
  {
   "cell_type": "code",
   "execution_count": 51,
   "id": "bda6ba96-db36-4a05-8b5d-594a4aaa4f49",
   "metadata": {
    "execution": {
     "iopub.execute_input": "2022-02-01T23:59:07.372055Z",
     "iopub.status.busy": "2022-02-01T23:59:07.371053Z",
     "iopub.status.idle": "2022-02-01T23:59:07.416050Z",
     "shell.execute_reply": "2022-02-01T23:59:07.414051Z",
     "shell.execute_reply.started": "2022-02-01T23:59:07.372055Z"
    },
    "tags": []
   },
   "outputs": [],
   "source": [
    "for comp_type, *comp_args in exec_optinp:\n",
    "    inst_mapping[comp_type](*comp_args)"
   ]
  },
  {
   "cell_type": "code",
   "execution_count": 52,
   "id": "5afe3972-236c-49e1-91ee-44c39f5b5a3b",
   "metadata": {
    "execution": {
     "iopub.execute_input": "2022-02-01T23:59:08.121051Z",
     "iopub.status.busy": "2022-02-01T23:59:08.121051Z",
     "iopub.status.idle": "2022-02-01T23:59:08.145052Z",
     "shell.execute_reply": "2022-02-01T23:59:08.144061Z",
     "shell.execute_reply.started": "2022-02-01T23:59:08.121051Z"
    },
    "tags": []
   },
   "outputs": [],
   "source": [
    "optsolver(groups_optinp, optin_opt, 0, 0, mdao_in_optinp, ([],[],[objective_opt]))"
   ]
  },
  {
   "cell_type": "code",
   "execution_count": 53,
   "id": "b7c85358-4d3b-4b56-bafe-b4b47650470f",
   "metadata": {
    "execution": {
     "iopub.execute_input": "2022-02-01T23:59:09.878052Z",
     "iopub.status.busy": "2022-02-01T23:59:09.878052Z",
     "iopub.status.idle": "2022-02-01T23:59:09.908053Z",
     "shell.execute_reply": "2022-02-01T23:59:09.907049Z",
     "shell.execute_reply.started": "2022-02-01T23:59:09.878052Z"
    },
    "tags": []
   },
   "outputs": [],
   "source": [
    "prob_optinp.setup();"
   ]
  },
  {
   "cell_type": "code",
   "execution_count": 54,
   "id": "f7acf3fe-7610-4728-86a4-45ca07395b15",
   "metadata": {
    "execution": {
     "iopub.execute_input": "2022-02-01T23:59:12.344625Z",
     "iopub.status.busy": "2022-02-01T23:59:12.342641Z",
     "iopub.status.idle": "2022-02-01T23:59:12.367628Z",
     "shell.execute_reply": "2022-02-01T23:59:12.366621Z",
     "shell.execute_reply.started": "2022-02-01T23:59:12.344625Z"
    },
    "tags": []
   },
   "outputs": [],
   "source": [
    "prob_optinp.run_model();"
   ]
  },
  {
   "cell_type": "code",
   "execution_count": 58,
   "id": "a01873e2",
   "metadata": {
    "execution": {
     "iopub.execute_input": "2022-02-02T00:00:12.386761Z",
     "iopub.status.busy": "2022-02-02T00:00:12.386761Z",
     "iopub.status.idle": "2022-02-02T00:00:12.401752Z",
     "shell.execute_reply": "2022-02-02T00:00:12.400795Z",
     "shell.execute_reply.started": "2022-02-02T00:00:12.386761Z"
    },
    "tags": []
   },
   "outputs": [],
   "source": [
    "# for elt in ['x_11', 'x_12', 'x_13', 'x_14', 'x_15', 'x_17', 'x_18', 'x_19', 'x_16', 'x_21', 'x_22']:\n",
    "#     prob.set_val(elt,100*optres[elt])"
   ]
  },
  {
   "cell_type": "code",
   "execution_count": 59,
   "id": "d08dcdec",
   "metadata": {
    "execution": {
     "iopub.execute_input": "2022-02-02T00:00:12.722103Z",
     "iopub.status.busy": "2022-02-02T00:00:12.721107Z",
     "iopub.status.idle": "2022-02-02T00:00:12.735101Z",
     "shell.execute_reply": "2022-02-02T00:00:12.734106Z",
     "shell.execute_reply.started": "2022-02-02T00:00:12.722103Z"
    },
    "tags": []
   },
   "outputs": [],
   "source": [
    "# for elt in ['x_12', 'x_17','x_19']:\n",
    "#     prob.set_val(elt,np.random.randint(-500,500))"
   ]
  },
  {
   "cell_type": "code",
   "execution_count": 60,
   "id": "da5cd832",
   "metadata": {
    "execution": {
     "iopub.execute_input": "2022-02-02T00:00:13.231371Z",
     "iopub.status.busy": "2022-02-02T00:00:13.230366Z",
     "iopub.status.idle": "2022-02-02T00:00:13.242357Z",
     "shell.execute_reply": "2022-02-02T00:00:13.241355Z",
     "shell.execute_reply.started": "2022-02-02T00:00:13.231371Z"
    },
    "tags": []
   },
   "outputs": [],
   "source": [
    "# for elt in ['x_21','x_16','x_22','x_11', 'x_13', 'x_14', 'x_15', 'x_18']:\n",
    "#     prob.set_val(elt,np.random.randint(-100,100))"
   ]
  },
  {
   "cell_type": "code",
   "execution_count": 57,
   "id": "8729dfbd-11ab-440b-9c8c-20c812d5e81f",
   "metadata": {
    "execution": {
     "iopub.execute_input": "2022-02-01T23:59:23.486853Z",
     "iopub.status.busy": "2022-02-01T23:59:23.485854Z",
     "iopub.status.idle": "2022-02-01T23:59:23.504851Z",
     "shell.execute_reply": "2022-02-01T23:59:23.503892Z",
     "shell.execute_reply.started": "2022-02-01T23:59:23.486853Z"
    },
    "tags": []
   },
   "outputs": [
    {
     "name": "stdout",
     "output_type": "stream",
     "text": [
      "14 Explicit Output(s) in 'model'\n",
      "\n",
      "varname  val          \n",
      "-------  -------------\n",
      "inp\n",
      "  x_7    [1.]         \n",
      "  x_2    [1.]         \n",
      "  x_9    [1.]         \n",
      "eqf3\n",
      "  x_0    [-0.66666667]\n",
      "eqf9\n",
      "  x_10   [0.44444444] \n",
      "eqf0\n",
      "  x_1    [2.75]       \n",
      "eqf7\n",
      "  x_5    [-3.25]      \n",
      "eqf4\n",
      "  x_8    [-0.7037037] \n",
      "eqf6\n",
      "  x_12   [-2.5]       \n",
      "eqf2\n",
      "  x_4    [0.24242424] \n",
      "eqf5\n",
      "  x_3    [-0.44368471]\n",
      "eqf1\n",
      "  x_11   [2.30769231] \n",
      "eqf8\n",
      "  x_6    [6.18777743] \n",
      "eqf\n",
      "  f0f    [0.]         \n",
      "\n",
      "\n",
      "0 Implicit Output(s) in 'model'\n",
      "\n",
      "\n"
     ]
    }
   ],
   "source": [
    "mdo_model_optinp.list_outputs();"
   ]
  },
  {
   "cell_type": "code",
   "execution_count": 56,
   "id": "2f1e625c-5a15-469b-a3f0-18b8e8931c1b",
   "metadata": {
    "execution": {
     "iopub.execute_input": "2022-02-01T23:59:15.095552Z",
     "iopub.status.busy": "2022-02-01T23:59:15.095552Z",
     "iopub.status.idle": "2022-02-01T23:59:15.157514Z",
     "shell.execute_reply": "2022-02-01T23:59:15.155513Z",
     "shell.execute_reply.started": "2022-02-01T23:59:15.095552Z"
    },
    "tags": []
   },
   "outputs": [
    {
     "name": "stdout",
     "output_type": "stream",
     "text": [
      "Optimization terminated successfully    (Exit mode 0)\n",
      "            Current function value: [0.]\n",
      "            Iterations: 2\n",
      "            Function evaluations: 3\n",
      "            Gradient evaluations: 2\n",
      "Optimization Complete\n",
      "-----------------------------------\n"
     ]
    },
    {
     "name": "stderr",
     "output_type": "stream",
     "text": [
      "C:\\Users\\johan\\Miniconda2\\envs\\mdo\\lib\\site-packages\\autograd\\tracer.py:14: UserWarning: Output seems independent of input.\n",
      "  warnings.warn(\"Output seems independent of input.\")\n"
     ]
    }
   ],
   "source": [
    "prob_optinp.set_solver_print(level=1)\n",
    "prob_optinp.driver = om.ScipyOptimizeDriver()\n",
    "prob_optinp.driver.options['maxiter'] = 300 \n",
    "prob_optinp.run_driver();"
   ]
  },
  {
   "cell_type": "code",
   "execution_count": 78,
   "id": "8e06dea4",
   "metadata": {
    "execution": {
     "iopub.execute_input": "2022-02-02T00:02:53.660453Z",
     "iopub.status.busy": "2022-02-02T00:02:53.659450Z",
     "iopub.status.idle": "2022-02-02T00:02:53.679447Z",
     "shell.execute_reply": "2022-02-02T00:02:53.678446Z",
     "shell.execute_reply.started": "2022-02-02T00:02:53.660453Z"
    },
    "tags": []
   },
   "outputs": [],
   "source": [
    "optres = {key.name: prob_optinp.get_val(key.name)[0] for key in \n",
    "          vrs.values()}"
   ]
  },
  {
   "cell_type": "code",
   "execution_count": 79,
   "id": "b2d4b1c5",
   "metadata": {
    "execution": {
     "iopub.execute_input": "2022-02-02T00:02:54.954768Z",
     "iopub.status.busy": "2022-02-02T00:02:54.953770Z",
     "iopub.status.idle": "2022-02-02T00:02:54.970762Z",
     "shell.execute_reply": "2022-02-02T00:02:54.969762Z",
     "shell.execute_reply.started": "2022-02-02T00:02:54.953770Z"
    },
    "tags": []
   },
   "outputs": [
    {
     "data": {
      "text/plain": [
       "{'x_0': -0.666666666666667,\n",
       " 'x_1': 2.75,\n",
       " 'x_2': 1.0,\n",
       " 'x_3': -0.44368471035137425,\n",
       " 'x_4': 0.24242424242424254,\n",
       " 'x_5': -3.2500000000000036,\n",
       " 'x_6': 6.187777426049033,\n",
       " 'x_7': 1.0,\n",
       " 'x_8': -0.7037037037037038,\n",
       " 'x_9': 1.0,\n",
       " 'x_10': 0.444444444444444,\n",
       " 'x_11': 2.3076923076923097,\n",
       " 'x_12': -2.5000000000000138}"
      ]
     },
     "execution_count": 79,
     "metadata": {},
     "output_type": "execute_result"
    }
   ],
   "source": [
    "optres"
   ]
  },
  {
   "cell_type": "markdown",
   "id": "fb687857-4b84-4168-9bc9-15937ef39d58",
   "metadata": {},
   "source": [
    "## Double check"
   ]
  },
  {
   "cell_type": "code",
   "execution_count": 97,
   "id": "9728af99-65c8-4a69-858b-fb02f315a6a7",
   "metadata": {
    "execution": {
     "iopub.execute_input": "2022-02-02T00:12:08.537421Z",
     "iopub.status.busy": "2022-02-02T00:12:08.536419Z",
     "iopub.status.idle": "2022-02-02T00:12:08.573420Z",
     "shell.execute_reply": "2022-02-02T00:12:08.572417Z",
     "shell.execute_reply.started": "2022-02-02T00:12:08.537421Z"
    },
    "tags": []
   },
   "outputs": [
    {
     "data": {
      "text/plain": [
       "[0.0,\n",
       " 0.0,\n",
       " -1.6653345369377348e-16,\n",
       " -8.326672684688674e-17,\n",
       " -2.220446049250313e-16,\n",
       " 1.1102230246251565e-16,\n",
       " 1.5543122344752192e-15,\n",
       " 2.1094237467877974e-15,\n",
       " 2.220446049250313e-16,\n",
       " -4.440892098500626e-16]"
      ]
     },
     "execution_count": 97,
     "metadata": {},
     "output_type": "execute_result"
    }
   ],
   "source": [
    "[Evaluable.fromsympy(eq).evaldict(optres) for eq in fxeqs.values()]"
   ]
  }
 ],
 "metadata": {
  "kernelspec": {
   "display_name": "Python [conda env:mdo]",
   "language": "python",
   "name": "conda-env-mdo-py"
  },
  "language_info": {
   "codemirror_mode": {
    "name": "ipython",
    "version": 3
   },
   "file_extension": ".py",
   "mimetype": "text/x-python",
   "name": "python",
   "nbconvert_exporter": "python",
   "pygments_lexer": "ipython3",
   "version": "3.9.7"
  }
 },
 "nbformat": 4,
 "nbformat_minor": 5
}
