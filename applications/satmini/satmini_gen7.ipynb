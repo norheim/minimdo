{
 "cells": [
  {
   "cell_type": "code",
   "execution_count": 1,
   "id": "88625a42",
   "metadata": {},
   "outputs": [],
   "source": [
    "from modeling.gen6.api import symbolic, sqrt\n",
    "from modeling.gen7.api7 import MFunctionalSet, MFunctionalSetLeaf\n",
    "from engine.torchdata import print_formatted_table, load_vals, ExpandVector\n",
    "import numpy as np\n",
    "from scipy import optimize\n",
    "import torch"
   ]
  },
  {
   "cell_type": "code",
   "execution_count": 2,
   "id": "fa836bee",
   "metadata": {},
   "outputs": [],
   "source": [
    "A, Pb, Pc, D, h, R = symbolic('A', 'Pb', 'Pc', 'D', 'h', 'R')\n",
    "D1 = MFunctionalSetLeaf(A == (Pb+Pc)/483.307)\n",
    "D2 = MFunctionalSetLeaf(Pb == 10*sqrt(Pc))\n",
    "D3 = MFunctionalSetLeaf(Pc == R*h**2/D**2*1e-18)\n",
    "FPF = MFunctionalSet(D1,D2,D3).subsetof(R>=8e6, h>=400e3).minimize(\n",
    "    2500*D**2+12000*(A+1)+100*Pb)\n",
    "FPF_MDF = FPF.config(elim=[D3, D2, D1])"
   ]
  },
  {
   "cell_type": "code",
   "execution_count": 3,
   "id": "001a2ce2",
   "metadata": {},
   "outputs": [],
   "source": [
    "x0_full = {'A': 1, 'Pb': 10, 'Pc': 10, 'D': 1, 'h': 100e3, 'R': 1}\n",
    "obj, dobj, xguess, cons, idxs, solidxs = FPF_MDF.build_opt(x0=x0_full)"
   ]
  },
  {
   "cell_type": "code",
   "execution_count": 4,
   "id": "a07f4157",
   "metadata": {},
   "outputs": [],
   "source": [
    "xsol = optimize.minimize(obj, xguess, jac=dobj, \n",
    "                         constraints=cons, method='SLSQP')"
   ]
  },
  {
   "cell_type": "code",
   "execution_count": 10,
   "id": "2bc98e6c",
   "metadata": {},
   "outputs": [],
   "source": [
    "idxrev = {var.item():key for key,var in idxs.items()}\n",
    "indices_in = {idxrev[val.item()]:torch.tensor([idx]) \n",
    "              for idx, val in enumerate(solidxs)}\n",
    "ev = ExpandVector(indices_in, idxs)\n",
    "xsolfull = FPF_MDF.build().analysis(ev(torch.tensor(xsol.x)))"
   ]
  },
  {
   "cell_type": "code",
   "execution_count": 11,
   "id": "aefd9098",
   "metadata": {},
   "outputs": [
    {
     "name": "stdout",
     "output_type": "stream",
     "text": [
      "R      h      A    D    Pc   Pb   \n",
      "8.00e6 4.00e5 0.04 0.67 2.85 16.87\n"
     ]
    }
   ],
   "source": [
    "print_formatted_table([np.round(xsolfull,2)], idxs, idxrev)"
   ]
  },
  {
   "cell_type": "code",
   "execution_count": null,
   "id": "a12b4691",
   "metadata": {},
   "outputs": [],
   "source": []
  }
 ],
 "metadata": {
  "kernelspec": {
   "display_name": "minimdo",
   "language": "python",
   "name": "python3"
  },
  "language_info": {
   "codemirror_mode": {
    "name": "ipython",
    "version": 3
   },
   "file_extension": ".py",
   "mimetype": "text/x-python",
   "name": "python",
   "nbconvert_exporter": "python",
   "pygments_lexer": "ipython3",
   "version": "3.9.18"
  }
 },
 "nbformat": 4,
 "nbformat_minor": 5
}
