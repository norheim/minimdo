{
 "cells": [
  {
   "cell_type": "code",
   "execution_count": 1,
   "id": "88625a42",
   "metadata": {},
   "outputs": [],
   "source": [
    "from modeling.gen6.api import symbolic, sqrt\n",
    "from modeling.gen7.api7 import MFunctionalSet, MFunctionalSetLeaf\n",
    "from engine.torchdata import print_formatted_table, load_vals, ExpandVector\n",
    "from graph.matrixview import render_incidence\n",
    "from graph.graphutils import default_tree, all_edges, all_variables\n",
    "from graph.operators import reformulate\n",
    "from graph.workflow import order_from_tree\n",
    "from presolver.tearing import dir_graph, min_arc_set_assign\n",
    "from scipy import optimize\n",
    "import numpy as np\n",
    "import torch"
   ]
  },
  {
   "cell_type": "markdown",
   "id": "4ce7bf15",
   "metadata": {},
   "source": [
    "### Goal\n",
    "Provide full coverage/reproduction of example in Chapter 1 of thesis"
   ]
  },
  {
   "cell_type": "markdown",
   "id": "0a60130a",
   "metadata": {},
   "source": [
    "### 0) Original formulation"
   ]
  },
  {
   "cell_type": "code",
   "execution_count": 2,
   "id": "fa836bee",
   "metadata": {},
   "outputs": [],
   "source": [
    "A, Pb, Pc, D, h, R = symbolic('A', 'Pb', 'Pc', 'D', 'h', 'R')\n",
    "D1 = MFunctionalSetLeaf(Pc == 483.3*A-Pb, idvals=[0]) \n",
    "#D1 = MFunctionalSetLeaf(A == (Pb+Pc)/483.3, idvals=[0]) \n",
    "D2 = MFunctionalSetLeaf(Pb == 10*sqrt(Pc), idvals=[1]) \n",
    "D3 = MFunctionalSetLeaf(R == Pc*D**2/h**2*1e18, idvals=[2]) \n",
    "#D3 = MFunctionalSetLeaf(Pc == R*h**2/D**2*1e-18, idvals=[2])\n",
    "FPF = MFunctionalSet(D1,D2,D3).subsetof(R>=8e6, h>=400e3).minimize(\n",
    "    2500*D**2+12000*(A+1)+100*Pb)"
   ]
  },
  {
   "cell_type": "markdown",
   "id": "9b6a1e0d",
   "metadata": {},
   "source": [
    "### 1) Generate restructuring information"
   ]
  },
  {
   "cell_type": "code",
   "execution_count": 3,
   "id": "5be6d427",
   "metadata": {},
   "outputs": [
    {
     "data": {
      "image/png": "[encoded data removed]",
      "text/plain": [
       "<Figure size 300x300 with 1 Axes>"
      ]
     },
     "metadata": {},
     "output_type": "display_data"
    }
   ],
   "source": [
    "# get structure\n",
    "sets, _,_,_, indices = FPF.gather_sets()\n",
    "idxrev = {var.item():key for key,var in indices.items()}\n",
    "in_outs = {eqid: D.analysis.structure for eqid, D in sets.items()}\n",
    "Ein = {eqid: tuple(str(idxrev[idx.item()]) for idx in item[0]) for eqid, item in in_outs.items()}\n",
    "Eout = {eqid: tuple(str(idxrev[idx.item()]) for idx in item[1]) for eqid, item in in_outs.items()}\n",
    "edges = Ein, Eout, {}\n",
    "sorted_keys = sorted(Ein.keys())\n",
    "tree = default_tree(Ein.keys())\n",
    "render_incidence(edges, tree, rawvarname=True, dispendcomp=False, hideticks=True, patchwidth=4, figsize=((3,3)),diagonalgray=False);"
   ]
  },
  {
   "cell_type": "code",
   "execution_count": 4,
   "id": "61fb4f01",
   "metadata": {},
   "outputs": [],
   "source": [
    "graph_edges_minassign = all_edges(*edges)\n",
    "varidxs = all_variables(*edges)\n",
    "eqnidxs = list(edges[1].keys())\n",
    "edges_left_right = list(dir_graph(graph_edges_minassign, eqnidxs, {}))"
   ]
  },
  {
   "cell_type": "code",
   "execution_count": 5,
   "id": "75e9a832",
   "metadata": {},
   "outputs": [
    {
     "name": "stdout",
     "output_type": "stream",
     "text": [
      "Set parameter Username\n",
      "Academic license - for non-commercial use only - expires 2026-05-13\n"
     ]
    }
   ],
   "source": [
    "xsol,_ = min_arc_set_assign(edges_left_right, varidxs, eqnidxs, not_output=['D'])\n",
    "outset_initial = {comp: var[0] for comp,var in edges[1].items()}\n",
    "outset_opt = {right:left for left, right in edges_left_right \n",
    "                  if (left,right) in edges_left_right and xsol[left, right] > 0.5}"
   ]
  },
  {
   "cell_type": "code",
   "execution_count": 6,
   "id": "5545aedc",
   "metadata": {},
   "outputs": [],
   "source": [
    "str2symb = {str(key):key for key in indices.keys()}\n",
    "outset_symb = {key:symbolic(str2symb[val])[0] for key,val in outset_opt.items()}\n",
    "edges_new, tree_new = reformulate(edges, tree, outset_initial, outset_opt, root_solver_name=1)\n",
    "workflow_order = order_from_tree(tree_new[0], tree_new[1], Eout=edges_new[1])"
   ]
  },
  {
   "cell_type": "markdown",
   "id": "127599cf",
   "metadata": {},
   "source": [
    "### 2) Reconfigure original formulation based on presolver or manual specify"
   ]
  },
  {
   "cell_type": "code",
   "execution_count": 7,
   "id": "026d586f",
   "metadata": {},
   "outputs": [],
   "source": [
    "FPFr1 = FPF.reconfigure(outset_symb).config_from_order([{2}, {1}, {0}])\n",
    "FPFr2 = FPF.reconfigure(outset_symb).config_from_workflow(workflow_order)\n",
    "FPF_MDF = FPF.config(elim=[D3, D2, D1]) # Manual configuration\n",
    "formulation_of_choice = FPFr2"
   ]
  },
  {
   "cell_type": "markdown",
   "id": "54737f32",
   "metadata": {},
   "source": [
    "### 3) Build optimization problem"
   ]
  },
  {
   "cell_type": "code",
   "execution_count": 8,
   "id": "001a2ce2",
   "metadata": {},
   "outputs": [],
   "source": [
    "x0_full = {'A': 1, 'Pb': 10, 'Pc': 10, 'D': 1, 'h': 100e3, 'R': 1}\n",
    "obj, dobj, xguess, cons, idxs, solidxs = formulation_of_choice.build_opt(x0=x0_full)"
   ]
  },
  {
   "cell_type": "code",
   "execution_count": 9,
   "id": "a07f4157",
   "metadata": {},
   "outputs": [],
   "source": [
    "xsol = optimize.minimize(obj, xguess, jac=dobj, \n",
    "                         constraints=cons, method='SLSQP')"
   ]
  },
  {
   "cell_type": "code",
   "execution_count": 10,
   "id": "2bc98e6c",
   "metadata": {},
   "outputs": [],
   "source": [
    "idxrev = {var.item():key for key,var in idxs.items()}\n",
    "indices_in = {idxrev[val.item()]:torch.tensor([idx]) \n",
    "              for idx, val in enumerate(solidxs)}\n",
    "ev = ExpandVector(indices_in, idxs)\n",
    "xsolfull = formulation_of_choice.build().analysis(ev(torch.tensor(xsol.x)))"
   ]
  },
  {
   "cell_type": "code",
   "execution_count": 11,
   "id": "aefd9098",
   "metadata": {},
   "outputs": [
    {
     "name": "stdout",
     "output_type": "stream",
     "text": [
      "D    Pc   Pb   A    h      R     \n",
      "0.67 2.86 16.9 0.04 4.00e5 8.04e6\n"
     ]
    }
   ],
   "source": [
    "print_formatted_table([np.round(xsolfull,2)], idxs, idxrev)"
   ]
  }
 ],
 "metadata": {
  "kernelspec": {
   "display_name": "minimdo",
   "language": "python",
   "name": "python3"
  },
  "language_info": {
   "codemirror_mode": {
    "name": "ipython",
    "version": 3
   },
   "file_extension": ".py",
   "mimetype": "text/x-python",
   "name": "python",
   "nbconvert_exporter": "python",
   "pygments_lexer": "ipython3",
   "version": "3.9.18"
  }
 },
 "nbformat": 4,
 "nbformat_minor": 5
}
