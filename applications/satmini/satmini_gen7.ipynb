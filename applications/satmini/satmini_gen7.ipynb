{
 "cells": [
  {
   "cell_type": "code",
   "execution_count": 1,
   "id": "88625a42",
   "metadata": {},
   "outputs": [],
   "source": [
    "from modeling.gen6.api import symbolic, sqrt\n",
    "from modeling.gen7.api7 import MFunctionalSet, MFunctionalSetLeaf\n",
    "from engine.torchdata import print_formatted_table, load_vals, ExpandVector\n",
    "import numpy as np\n",
    "from scipy import optimize\n",
    "import torch"
   ]
  },
  {
   "cell_type": "code",
   "execution_count": 2,
   "id": "fa836bee",
   "metadata": {},
   "outputs": [],
   "source": [
    "A, Pb, Pc, D, h, R = symbolic('A', 'Pb', 'Pc', 'D', 'h', 'R')\n",
    "D1 = MFunctionalSetLeaf(A == (Pb+Pc)/483.307, idvals=[0])\n",
    "D2 = MFunctionalSetLeaf(Pb == 10*sqrt(Pc), idvals=[1])\n",
    "D3 = MFunctionalSetLeaf(Pc == R*h**2/D**2*1e-18, idvals=[2])\n",
    "FPF = MFunctionalSet(D1,D2,D3).subsetof(R>=8e6, h>=400e3).minimize(\n",
    "    2500*D**2+12000*(A+1)+100*Pb)\n",
    "FPF_MDF = FPF.config(elim=[D3, D2, D1])"
   ]
  },
  {
   "cell_type": "code",
   "execution_count": 3,
   "id": "b0d3b495",
   "metadata": {},
   "outputs": [
    {
     "data": {
      "text/plain": [
       "<modeling.gen7.api7.MFunctionalSet at 0x19433aeddc0>"
      ]
     },
     "execution_count": 3,
     "metadata": {},
     "output_type": "execute_result"
    }
   ],
   "source": [
    "# rearrange and specify new order\n",
    "output_set = {0: Pb, 1: Pc}\n",
    "elim_order = [{0}, {1, 2}]\n",
    "FPF.config_from_order(elim_order)\n",
    "#FPF.reconfigure(output_set)\n",
    "# FPFr = FPF.reconfigure(output_set)\n",
    "# FPFr.supersets[2].supersets"
   ]
  },
  {
   "cell_type": "code",
   "execution_count": null,
   "id": "001a2ce2",
   "metadata": {},
   "outputs": [],
   "source": [
    "x0_full = {'A': 1, 'Pb': 10, 'Pc': 10, 'D': 1, 'h': 100e3, 'R': 1}\n",
    "obj, dobj, xguess, cons, idxs, solidxs = FPF_MDF.build_opt(x0=x0_full)"
   ]
  },
  {
   "cell_type": "code",
   "execution_count": null,
   "id": "a07f4157",
   "metadata": {},
   "outputs": [],
   "source": [
    "xsol = optimize.minimize(obj, xguess, jac=dobj, \n",
    "                         constraints=cons, method='SLSQP')"
   ]
  },
  {
   "cell_type": "code",
   "execution_count": null,
   "id": "2bc98e6c",
   "metadata": {},
   "outputs": [],
   "source": [
    "idxrev = {var.item():key for key,var in idxs.items()}\n",
    "indices_in = {idxrev[val.item()]:torch.tensor([idx]) \n",
    "              for idx, val in enumerate(solidxs)}\n",
    "ev = ExpandVector(indices_in, idxs)\n",
    "xsolfull = FPF_MDF.build().analysis(ev(torch.tensor(xsol.x)))"
   ]
  },
  {
   "cell_type": "code",
   "execution_count": null,
   "id": "aefd9098",
   "metadata": {},
   "outputs": [],
   "source": [
    "print_formatted_table([np.round(xsolfull,2)], idxs, idxrev)"
   ]
  },
  {
   "cell_type": "code",
   "execution_count": null,
   "id": "a12b4691",
   "metadata": {},
   "outputs": [],
   "source": []
  }
 ],
 "metadata": {
  "kernelspec": {
   "display_name": "minimdo",
   "language": "python",
   "name": "python3"
  },
  "language_info": {
   "codemirror_mode": {
    "name": "ipython",
    "version": 3
   },
   "file_extension": ".py",
   "mimetype": "text/x-python",
   "name": "python",
   "nbconvert_exporter": "python",
   "pygments_lexer": "ipython3",
   "version": "3.9.18"
  }
 },
 "nbformat": 4,
 "nbformat_minor": 5
}
