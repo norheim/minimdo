{
 "cells": [
  {
   "cell_type": "markdown",
   "metadata": {},
   "source": [
    "## Sellar MDO"
   ]
  },
  {
   "cell_type": "code",
   "execution_count": 1,
   "metadata": {},
   "outputs": [],
   "source": [
    "from engine.torchengine import AnalyticalSet, Function, EliminateAnalysis, EliminateAnalysisMergeResiduals, ElimResidual, ParallelResiduals\n",
    "from engine.torchdata import generate_optim_functions\n",
    "from scipy.optimize import minimize\n",
    "import numpy as np\n",
    "import torch\n",
    "np.set_printoptions(formatter={'float': lambda x: \"{:0.2f}\".format(x).rstrip('0').rstrip('.')})"
   ]
  },
  {
   "cell_type": "code",
   "execution_count": 2,
   "metadata": {},
   "outputs": [],
   "source": [
    "varorder = ['x1','x2','x3','u1','u2']\n",
    "indices = {elt: torch.tensor([i]) for i, elt in enumerate(varorder)}\n",
    "\n",
    "sellarobj = (('x2', 'x3', 'u1', 'u2'), lambda x2, x3, u1, u2: x3**2 + x2 + u1 + torch.exp(-u2))\n",
    "sellar1 = (('x1', 'x2', 'x3', 'u2'), ('u1',), lambda x1, x2, x3, u2: x1**2 + x2 + x3 - 0.2*u2)\n",
    "sellar2 = (('x1', 'x2', 'u1'), ('u2',), lambda x1, x2, u1: u1**0.5 + x1 + x2)\n",
    "ineqcon1 = (('u1',), lambda u1: 1-u1/3.16)\n",
    "ineqcon2 = (('u2',), lambda u2: u2/24-1)"
   ]
  },
  {
   "cell_type": "code",
   "execution_count": 3,
   "metadata": {},
   "outputs": [],
   "source": [
    "set1 = AnalyticalSet(sellar1, indices)\n",
    "set2 = AnalyticalSet(sellar2, indices)\n",
    "con1 = Function(ineqcon1, indices)\n",
    "con2 = Function(ineqcon2, indices)\n",
    "obj = Function(sellarobj, indices)\n",
    "\n",
    "coupled = EliminateAnalysisMergeResiduals(functions=[set1.residual, set2.residual])\n",
    "solver = ElimResidual(coupled, ['u1','u2'], indices)\n",
    "ineqcons = EliminateAnalysisMergeResiduals([], [con1, con2])"
   ]
  },
  {
   "cell_type": "code",
   "execution_count": 4,
   "metadata": {},
   "outputs": [],
   "source": [
    "# Disciplines\n",
    "# [{1},{2},{3,4,5},{6,7}], obj, eq, ineq\n",
    "# -> variant one: A=[1,2], B=[3,4,5,6,7] # 2 options: reduced AAO / reduced IDF\n",
    "# ## reduced AAO\n",
    "# neweq = EliminateAnalysisMergeResiduals([], [3.r,4.r,5.r,6.r,7.r,eq]) \n",
    "# ## reduced IDF\n",
    "# idf_eq = Parallel([3.a,4.a,5.a,6.a,7.a])\n",
    "# neweq = EliminateAnalysisMergeResiduals([], [idf_eq, eq]) \n",
    "# ##BOTH:\n",
    "# objf, eqf, ineqf = EliminateAnalysisMergeResiduals([1.a,2.a], [obj, neweq, ineq])\n",
    "# -> variant two: [1,2, ([3,4],5), (6,7)] # reduced MDF (tearing based)\n",
    "# block1 = EliminateAnalysisMergeResiduals([3.a,4.a], [5.r])\n",
    "# block2 = EliminateAnalysisMergeResiduals([], [6.r, 7.r])\n",
    "# objf, eqf, ineqf = EliminateAnalysisMergeResiduals([1,2, block1, block2], [ obj, eq, ineq])\n",
    "# -> variant three: (1,2,3,4,5,6,7) # baseline MDF\n",
    "# objf, eqf, ineqf = EliminateAnalysisMergeResiduals([1,2, 3, 4, 5, 6, 7], [ obj, eq, ineq])"
   ]
  },
  {
   "cell_type": "markdown",
   "metadata": {},
   "source": [
    "### MDA"
   ]
  },
  {
   "cell_type": "code",
   "execution_count": 5,
   "metadata": {},
   "outputs": [
    {
     "data": {
      "text/plain": [
       "(array([2, 0, 0, 3.24, 3.8]), array([-0, 0]))"
      ]
     },
     "execution_count": 5,
     "metadata": {},
     "output_type": "execute_result"
    }
   ],
   "source": [
    "x0 = torch.tensor([2.,0.,0.,0.1,0.1], dtype=torch.float64) # Important for finite differences\n",
    "sol = solver(x0)\n",
    "sol.numpy(), coupled(sol).numpy()"
   ]
  },
  {
   "cell_type": "code",
   "execution_count": 6,
   "metadata": {},
   "outputs": [],
   "source": [
    "x0 = torch.tensor([0.5,.5,0.5,0.1,0.1], dtype=torch.float64)"
   ]
  },
  {
   "cell_type": "markdown",
   "metadata": {},
   "source": [
    "### MDF"
   ]
  },
  {
   "cell_type": "code",
   "execution_count": 7,
   "metadata": {},
   "outputs": [],
   "source": [
    "P = EliminateAnalysis([solver], [obj, ineqcons])\n",
    "objective_idx, inequality_idx, equality_idx = 0,1,None"
   ]
  },
  {
   "cell_type": "markdown",
   "metadata": {},
   "source": [
    "### IDF"
   ]
  },
  {
   "cell_type": "code",
   "execution_count": 8,
   "metadata": {},
   "outputs": [],
   "source": [
    "P = ParallelResiduals([set1.analysis, set2.analysis], [obj, ineqcons])\n",
    "objective_idx, inequality_idx, equality_idx = 0,1,2"
   ]
  },
  {
   "cell_type": "markdown",
   "metadata": {},
   "source": [
    "### AAO"
   ]
  },
  {
   "cell_type": "code",
   "execution_count": 9,
   "metadata": {},
   "outputs": [],
   "source": [
    "P = EliminateAnalysis(functions=[obj, ineqcons, coupled])\n",
    "objective_idx, inequality_idx, equality_idx = 0,1,2"
   ]
  },
  {
   "cell_type": "markdown",
   "metadata": {},
   "source": [
    "### Solve"
   ]
  },
  {
   "cell_type": "code",
   "execution_count": 10,
   "metadata": {},
   "outputs": [],
   "source": [
    "optim_indices=P.structure[0]\n",
    "xguess, obj_function, ineq_function, eq_function, dobj, dineq, deq, _ = generate_optim_functions(P, optim_indices, x0, inequality_direction='positive-null', objective=objective_idx, inequalities=inequality_idx, equalities=equality_idx)"
   ]
  },
  {
   "cell_type": "code",
   "execution_count": 11,
   "metadata": {},
   "outputs": [
    {
     "data": {
      "text/plain": [
       " message: Optimization terminated successfully\n",
       " success: True\n",
       "  status: 0\n",
       "     fun: 3.1833939516406082\n",
       "       x: [ 9.330e-18  1.464e-16  3.160e+00  3.755e+00  1.978e+00]\n",
       "     nit: 6\n",
       "     jac: [ 1.000e+00  1.020e-16  1.000e+00 -2.339e-02  0.000e+00]\n",
       "    nfev: 7\n",
       "    njev: 6"
      ]
     },
     "execution_count": 11,
     "metadata": {},
     "output_type": "execute_result"
    }
   ],
   "source": [
    "bnds = [(0, 10), (0, 10), (0, 10), (3.16, None), (None, 24)]\n",
    "bnds_problem = [bnds[elt] for elt in optim_indices]\n",
    "constraints = [{'type': 'ineq', 'fun': ineq_function, 'jac':dineq}]\n",
    "constraints = [{'type': 'eq', 'fun': eq_function, 'jac': deq}]\n",
    "# Solve the optimization problem\n",
    "minimize(obj_function, xguess, jac=dobj, bounds=bnds_problem, constraints=constraints, method='SLSQP')"
   ]
  },
  {
   "cell_type": "code",
   "execution_count": 12,
   "metadata": {},
   "outputs": [
    {
     "data": {
      "text/plain": [
       "(3.1833939516406082, array([-0, -0.84]), array([1.98, 0, 0, 3.16, 3.76]))"
      ]
     },
     "execution_count": 12,
     "metadata": {},
     "output_type": "execute_result"
    }
   ],
   "source": [
    "obj(x0).item(), ineqcons(x0).detach().numpy(), x0.detach().numpy()"
   ]
  },
  {
   "cell_type": "code",
   "execution_count": 61,
   "metadata": {},
   "outputs": [],
   "source": [
    "# Checking derivatives\n",
    "# delta = 1e-7\n",
    "# (obj_function(xguess+np.eye(3)[2]*delta)-obj_function(xguess))/delta"
   ]
  }
 ],
 "metadata": {
  "kernelspec": {
   "display_name": "minimdo",
   "language": "python",
   "name": "python3"
  },
  "language_info": {
   "codemirror_mode": {
    "name": "ipython",
    "version": 3
   },
   "file_extension": ".py",
   "mimetype": "text/x-python",
   "name": "python",
   "nbconvert_exporter": "python",
   "pygments_lexer": "ipython3",
   "version": "3.9.18"
  }
 },
 "nbformat": 4,
 "nbformat_minor": 2
}
