{
 "cells": [
  {
   "cell_type": "code",
   "execution_count": 15,
   "id": "c4e56a51",
   "metadata": {},
   "outputs": [],
   "source": [
    "from modeling.gen6.api import symbolic, exp\n",
    "from modeling.gen7.api7 import MFunctionalSet, MFunctionalSetLeaf\n",
    "from engine.torchdata import load_vals, print_formatted_table\n",
    "import numpy as np\n",
    "import torch\n",
    "from scipy import optimize"
   ]
  },
  {
   "cell_type": "code",
   "execution_count": 2,
   "id": "9b4adca5",
   "metadata": {},
   "outputs": [],
   "source": [
    "x1, x2, x3, u1, u2 = symbolic('x1', 'x2', 'x3', 'u1', 'u2')\n",
    "\n",
    "discipline1 = MFunctionalSetLeaf(\n",
    "    u1 == x1**2 + x2 + x3 - 0.2*u2\n",
    ")\n",
    "discipline2 = MFunctionalSetLeaf(\n",
    "    u2 == u1**0.5 + x1 + x2\n",
    ")\n",
    "MDA = MFunctionalSet(discipline1, discipline2)\n",
    "FPF = MDA.subsetof(\n",
    "    0 <= x1, x1 <= 10,\n",
    "    0 <= x2, x2 <= 10,\n",
    "    0 <= x3, x3 <= 10,\n",
    "    3.16 <= u1,\n",
    "    u2 <= 24\n",
    ").minimize(\n",
    "    x3**2 + x2 + u1 + exp(-u2)\n",
    ")\n",
    "FPF_AAO = FPF.config(residuals=[discipline1, discipline2])"
   ]
  },
  {
   "cell_type": "code",
   "execution_count": 41,
   "id": "7710488f",
   "metadata": {},
   "outputs": [],
   "source": [
    "obj, dobj, xguess, cons, idxs, solidxs = FPF_AAO.build_opt(\n",
    "    x0={'x1': 5, 'x2': 2, 'x3': 1, 'u1': 1, 'u2': 1})"
   ]
  },
  {
   "cell_type": "code",
   "execution_count": 42,
   "id": "7e835188",
   "metadata": {},
   "outputs": [],
   "source": [
    "xsol = optimize.minimize(obj, xguess, jac=dobj, \n",
    "                         constraints=cons, method='SLSQP')"
   ]
  },
  {
   "cell_type": "code",
   "execution_count": 43,
   "id": "a93c85e7",
   "metadata": {},
   "outputs": [
    {
     "data": {
      "text/plain": [
       "3.183393951640044"
      ]
     },
     "execution_count": 43,
     "metadata": {},
     "output_type": "execute_result"
    }
   ],
   "source": [
    "xsol.fun"
   ]
  },
  {
   "cell_type": "code",
   "execution_count": 44,
   "id": "f3f68846",
   "metadata": {},
   "outputs": [
    {
     "name": "stdout",
     "output_type": "stream",
     "text": [
      "x3 u1   x2 x1   u2  \n",
      "0  3.16 0  1.98 3.76\n"
     ]
    }
   ],
   "source": [
    "idxrev = {var.item():key for key,var in idxs.items()}\n",
    "print_formatted_table([np.round(xsol.x[np.argsort(solidxs)],2)], \n",
    "                      idxs, idxrev)"
   ]
  }
 ],
 "metadata": {
  "kernelspec": {
   "display_name": "minimdo",
   "language": "python",
   "name": "python3"
  },
  "language_info": {
   "codemirror_mode": {
    "name": "ipython",
    "version": 3
   },
   "file_extension": ".py",
   "mimetype": "text/x-python",
   "name": "python",
   "nbconvert_exporter": "python",
   "pygments_lexer": "ipython3",
   "version": "3.9.18"
  }
 },
 "nbformat": 4,
 "nbformat_minor": 5
}
