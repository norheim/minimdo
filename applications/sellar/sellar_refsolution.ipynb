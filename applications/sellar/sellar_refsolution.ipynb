{
 "cells": [
  {
   "cell_type": "code",
   "execution_count": 1,
   "metadata": {},
   "outputs": [],
   "source": [
    "from scipy.optimize import minimize\n",
    "import numpy as np"
   ]
  },
  {
   "cell_type": "code",
   "execution_count": null,
   "metadata": {},
   "outputs": [
    {
     "name": "stdout",
     "output_type": "stream",
     "text": [
      " message: Optimization terminated successfully\n",
      " success: True\n",
      "  status: 0\n",
      "     fun: 3.183393951640092\n",
      "       x: [ 1.978e+00  6.663e-17  2.715e-16  3.160e+00  3.755e+00]\n",
      "     nit: 5\n",
      "     jac: [ 0.000e+00  1.000e+00  2.980e-08  1.000e+00 -2.339e-02]\n",
      "    nfev: 31\n",
      "    njev: 5\n"
     ]
    }
   ],
   "source": [
    "# Define the objective function\n",
    "def objective(x):\n",
    "    _, x2, x3, u1, u2 = x\n",
    "    return x3**2 + x2 + u1 + np.exp(-u2)\n",
    "\n",
    "# Define the equality constraints\n",
    "def constraint1(x):\n",
    "    x1, x2, x3, u1, u2 = x\n",
    "    return x1**2 + x2 + x3 - 0.2*u2 - u1\n",
    "\n",
    "def constraint2(x):\n",
    "    x1, x2, _, u1, u2 = x\n",
    "    return u1**0.5 + x1 + x2 - u2\n",
    "\n",
    "cons = [{'type':'eq', 'fun': constraint1},\n",
    "        {'type':'eq', 'fun': constraint2}]\n",
    "\n",
    "# Inequality constraints\n",
    "bnds = [(0, 10), (0, 10), (0, 10), (3.16, None), (None, 24)]\n",
    "\n",
    "# Initial guess\n",
    "x0 = [5, 2, 1, 1, 1]\n",
    "\n",
    "# Solve the optimization problem\n",
    "solution = minimize(objective, x0, bounds=bnds, constraints=cons)\n",
    "\n",
    "# Print the solution\n",
    "print(solution)"
   ]
  },
  {
   "cell_type": "code",
   "execution_count": 3,
   "metadata": {},
   "outputs": [
    {
     "data": {
      "text/plain": [
       "array([1.98, 0.  , 0.  , 3.16, 3.76])"
      ]
     },
     "execution_count": 3,
     "metadata": {},
     "output_type": "execute_result"
    }
   ],
   "source": [
    "np.round(solution.x,2)"
   ]
  },
  {
   "cell_type": "code",
   "execution_count": null,
   "metadata": {},
   "outputs": [],
   "source": []
  }
 ],
 "metadata": {
  "kernelspec": {
   "display_name": "minimdo",
   "language": "python",
   "name": "python3"
  },
  "language_info": {
   "codemirror_mode": {
    "name": "ipython",
    "version": 3
   },
   "file_extension": ".py",
   "mimetype": "text/x-python",
   "name": "python",
   "nbconvert_exporter": "python",
   "pygments_lexer": "ipython3",
   "version": "3.9.18"
  }
 },
 "nbformat": 4,
 "nbformat_minor": 2
}
