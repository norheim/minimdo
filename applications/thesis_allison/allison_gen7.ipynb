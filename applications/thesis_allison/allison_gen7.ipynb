{
 "cells": [
  {
   "cell_type": "code",
   "execution_count": 1,
   "id": "72ef023c",
   "metadata": {},
   "outputs": [],
   "source": [
    "from modeling.gen6.api import symbolic, sqrt\n",
    "from modeling.gen7.api7 import MFunctionalSet, MFunctionalSetLeaf\n",
    "from engine.torchdata import print_formatted_table, load_vals, ExpandVector\n",
    "import numpy as np\n",
    "import sympy as sp\n",
    "from scipy import optimize\n",
    "import torch"
   ]
  },
  {
   "cell_type": "code",
   "execution_count": 2,
   "id": "5a0e173a",
   "metadata": {},
   "outputs": [],
   "source": [
    "x1, x2, x3, y1, y2, y3 = symbolic('x1', 'x2', 'x3', 'y1', 'y2', 'y3')\n",
    "b = [2, 2.5, 3]\n",
    "w = np.array([1.3, 1.5, 1.2])\n",
    "y1e = 0.2\n",
    "D1 = MFunctionalSetLeaf(y1 == 0.1*x1*y2+0.8*x1*y3+b[0])\n",
    "D2 = MFunctionalSetLeaf(y2 == x2*y3+b[1])\n",
    "D3 = MFunctionalSetLeaf(y3 == 0.1*x3*y1+0.8*x3*y2+b[2])\n",
    "FPF = MFunctionalSet(D1, D2, D3).minimize(\n",
    "    (y1-y1e)**2+(x1*w[0])**2+(x2*w[1])**2+(x3*w[2])**2)\n",
    "FPF_AAO = FPF.config(residuals=[D3, D2, D1])"
   ]
  },
  {
   "cell_type": "code",
   "execution_count": 3,
   "id": "2e470698",
   "metadata": {},
   "outputs": [],
   "source": [
    "x0_full = {'x1': 1, 'x2': 10, 'x3': 10, 'y1': 1, 'y2': 1, 'y3': 1}\n",
    "obj, dobj, xguess, cons, idxs, solidxs = FPF_AAO.build_opt(x0=x0_full)"
   ]
  },
  {
   "cell_type": "code",
   "execution_count": null,
   "id": "91de8179",
   "metadata": {},
   "outputs": [],
   "source": [
    "xsol = optimize.minimize(obj, xguess, jac=dobj, \n",
    "                         constraints=cons, method='SLSQP')"
   ]
  }
 ],
 "metadata": {
  "kernelspec": {
   "display_name": "minimdo",
   "language": "python",
   "name": "python3"
  },
  "language_info": {
   "codemirror_mode": {
    "name": "ipython",
    "version": 3
   },
   "file_extension": ".py",
   "mimetype": "text/x-python",
   "name": "python",
   "nbconvert_exporter": "python",
   "pygments_lexer": "ipython3",
   "version": "3.9.18"
  }
 },
 "nbformat": 4,
 "nbformat_minor": 5
}
