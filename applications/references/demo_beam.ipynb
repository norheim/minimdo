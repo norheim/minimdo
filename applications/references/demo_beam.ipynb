{
 "cells": [
  {
   "cell_type": "code",
   "execution_count": 19,
   "id": "bbfd9ee7-4d51-4b0d-bb9b-4579a198a302",
   "metadata": {
    "execution": {
     "iopub.execute_input": "2022-02-02T17:14:56.230838Z",
     "iopub.status.busy": "2022-02-02T17:14:56.229837Z",
     "iopub.status.idle": "2022-02-02T17:14:56.238838Z",
     "shell.execute_reply": "2022-02-02T17:14:56.237848Z",
     "shell.execute_reply.started": "2022-02-02T17:14:56.229837Z"
    },
    "tags": []
   },
   "outputs": [],
   "source": [
    "from compute import Var, Par, Model, adda, addf, addsolver\n",
    "from compute import RefNode, SolverNode, geteqs\n",
    "import numpy as np\n",
    "from scipy.sparse import coo_matrix"
   ]
  },
  {
   "cell_type": "code",
   "execution_count": 17,
   "id": "55c1d3ac-ea35-4657-b723-df80e6338c60",
   "metadata": {
    "execution": {
     "iopub.execute_input": "2022-02-02T17:12:02.089408Z",
     "iopub.status.busy": "2022-02-02T17:12:02.088370Z",
     "iopub.status.idle": "2022-02-02T17:12:02.099370Z",
     "shell.execute_reply": "2022-02-02T17:12:02.098371Z",
     "shell.execute_reply.started": "2022-02-02T17:12:02.089408Z"
    }
   },
   "outputs": [],
   "source": [
    "model = Model()\n",
    "m = RefNode(name='/', ref=model)"
   ]
  },
  {
   "cell_type": "code",
   "execution_count": 5,
   "id": "1dd1ffb9-e783-421f-bfa2-1fd8e15e5b32",
   "metadata": {
    "execution": {
     "iopub.execute_input": "2022-02-02T17:03:02.363286Z",
     "iopub.status.busy": "2022-02-02T17:03:02.361326Z",
     "iopub.status.idle": "2022-02-02T17:03:02.378286Z",
     "shell.execute_reply": "2022-02-02T17:03:02.377286Z",
     "shell.execute_reply.started": "2022-02-02T17:03:02.363286Z"
    }
   },
   "outputs": [],
   "source": [
    "E = 1.\n",
    "L = 1.\n",
    "b = 0.1\n",
    "volume = 0.01\n",
    "\n",
    "num_elements = 50"
   ]
  },
  {
   "cell_type": "code",
   "execution_count": 14,
   "id": "46f9b96c-2429-49d6-9c72-48028d3066c2",
   "metadata": {
    "execution": {
     "iopub.execute_input": "2022-02-02T17:06:42.339717Z",
     "iopub.status.busy": "2022-02-02T17:06:42.338718Z",
     "iopub.status.idle": "2022-02-02T17:06:42.360720Z",
     "shell.execute_reply": "2022-02-02T17:06:42.359717Z",
     "shell.execute_reply.started": "2022-02-02T17:06:42.339717Z"
    },
    "tags": []
   },
   "outputs": [],
   "source": [
    "L0 = L / num_elements\n",
    "coeffs =  np.array([\n",
    "            [12, 6 * L0, -12, 6 * L0],\n",
    "            [6 * L0, 4 * L0 ** 2, -6 * L0, 2 * L0 ** 2],\n",
    "            [-12, -6 * L0, 12, -6 * L0],\n",
    "            [6 * L0, 2 * L0 ** 2, -6 * L0, 4 * L0 ** 2]])\n",
    "coeffs *= E / L0 ** 3"
   ]
  },
  {
   "cell_type": "code",
   "execution_count": null,
   "id": "42e492aa-25bb-460a-9529-b056b27dd384",
   "metadata": {},
   "outputs": [],
   "source": [
    "self.mtx = mtx = np.zeros((num_elements, 4, 4, num_elements))"
   ]
  },
  {
   "cell_type": "code",
   "execution_count": 22,
   "id": "5db2a46b-bb87-4ed5-8501-f154dfd9d178",
   "metadata": {
    "execution": {
     "iopub.execute_input": "2022-02-02T17:15:27.109589Z",
     "iopub.status.busy": "2022-02-02T17:15:27.108586Z",
     "iopub.status.idle": "2022-02-02T17:15:27.145587Z",
     "shell.execute_reply": "2022-02-02T17:15:27.144582Z",
     "shell.execute_reply.started": "2022-02-02T17:15:27.109589Z"
    },
    "tags": []
   },
   "outputs": [],
   "source": [
    "def local_K(K_local, num_elements=50):\n",
    "    num_nodes = num_elements + 1\n",
    "    num_entry = num_elements * 12 + 4\n",
    "    ndim = num_entry + 4\n",
    "\n",
    "    data = np.zeros((ndim, ), dtype=inputs._get_data().dtype)\n",
    "    cols = np.empty((ndim, ))\n",
    "    rows = np.empty((ndim, ))\n",
    "\n",
    "    # First element.\n",
    "    data[:16] = K_local[0, :, :].flat\n",
    "    cols[:16] = np.tile(np.arange(4), 4)\n",
    "    rows[:16] = np.repeat(np.arange(4), 4)\n",
    "\n",
    "    j = 16\n",
    "    for ind in range(1, num_elements):\n",
    "        ind1 = 2 * ind\n",
    "        K = K_local[ind, :, :]\n",
    "\n",
    "        # NW quadrant gets summed with previous connected element.\n",
    "        data[j-6:j-4] += K[0, :2]\n",
    "        data[j-2:j] += K[1, :2]\n",
    "\n",
    "        # NE quadrant\n",
    "        data[j:j+4] = K[:2, 2:].flat\n",
    "        rows[j:j+4] = np.array([ind1, ind1, ind1 + 1, ind1 + 1])\n",
    "        cols[j:j+4] = np.array([ind1 + 2, ind1 + 3, ind1 + 2, ind1 + 3])\n",
    "\n",
    "        # SE and SW quadrants together\n",
    "        data[j+4:j+12] = K[2:, :].flat\n",
    "        rows[j+4:j+12] = np.repeat(np.arange(ind1 + 2, ind1 + 4), 4)\n",
    "        cols[j+4:j+12] = np.tile(np.arange(ind1, ind1 + 4), 2)\n",
    "\n",
    "        j += 12\n",
    "\n",
    "    data[-4:] = 1.0\n",
    "    rows[-4] = 2 * num_nodes\n",
    "    rows[-3] = 2 * num_nodes + 1\n",
    "    rows[-2] = 0.0\n",
    "    rows[-1] = 1.0\n",
    "    cols[-4] = 0.0\n",
    "    cols[-3] = 1.0\n",
    "    cols[-2] = 2 * num_nodes\n",
    "    cols[-1] = 2 * num_nodes + 1\n",
    "\n",
    "    n_K = 2 * num_nodes + 2\n",
    "    \n",
    "    return coo_matrix((data, (rows, cols)), shape=(n_K, n_K))"
   ]
  },
  {
   "cell_type": "code",
   "execution_count": null,
   "id": "8836183b-1b82-4ab2-bdd2-dd697e2b4ad4",
   "metadata": {},
   "outputs": [],
   "source": []
  },
  {
   "cell_type": "code",
   "execution_count": 16,
   "id": "69af4cf6-96f8-4319-b1e6-06d65f734806",
   "metadata": {
    "execution": {
     "iopub.execute_input": "2022-02-02T17:07:44.487003Z",
     "iopub.status.busy": "2022-02-02T17:07:44.486045Z",
     "iopub.status.idle": "2022-02-02T17:07:44.528005Z",
     "shell.execute_reply": "2022-02-02T17:07:44.526004Z",
     "shell.execute_reply.started": "2022-02-02T17:07:44.486045Z"
    }
   },
   "outputs": [
    {
     "ename": "NameError",
     "evalue": "name 'inputs' is not defined",
     "output_type": "error",
     "traceback": [
      "\u001b[1;31m---------------------------------------------------------------------------\u001b[0m",
      "\u001b[1;31mNameError\u001b[0m                                 Traceback (most recent call last)",
      "\u001b[1;32m~\\AppData\\Local\\Temp/ipykernel_28108/3943559446.py\u001b[0m in \u001b[0;36m<module>\u001b[1;34m\u001b[0m\n\u001b[0;32m      3\u001b[0m \u001b[0mndim\u001b[0m \u001b[1;33m=\u001b[0m \u001b[0mnum_entry\u001b[0m \u001b[1;33m+\u001b[0m \u001b[1;36m4\u001b[0m\u001b[1;33m\u001b[0m\u001b[1;33m\u001b[0m\u001b[0m\n\u001b[0;32m      4\u001b[0m \u001b[1;33m\u001b[0m\u001b[0m\n\u001b[1;32m----> 5\u001b[1;33m \u001b[0mdata\u001b[0m \u001b[1;33m=\u001b[0m \u001b[0mnp\u001b[0m\u001b[1;33m.\u001b[0m\u001b[0mzeros\u001b[0m\u001b[1;33m(\u001b[0m\u001b[1;33m(\u001b[0m\u001b[0mndim\u001b[0m\u001b[1;33m,\u001b[0m \u001b[1;33m)\u001b[0m\u001b[1;33m,\u001b[0m \u001b[0mdtype\u001b[0m\u001b[1;33m=\u001b[0m\u001b[0minputs\u001b[0m\u001b[1;33m.\u001b[0m\u001b[0m_get_data\u001b[0m\u001b[1;33m(\u001b[0m\u001b[1;33m)\u001b[0m\u001b[1;33m.\u001b[0m\u001b[0mdtype\u001b[0m\u001b[1;33m)\u001b[0m\u001b[1;33m\u001b[0m\u001b[1;33m\u001b[0m\u001b[0m\n\u001b[0m\u001b[0;32m      6\u001b[0m \u001b[0mcols\u001b[0m \u001b[1;33m=\u001b[0m \u001b[0mnp\u001b[0m\u001b[1;33m.\u001b[0m\u001b[0mempty\u001b[0m\u001b[1;33m(\u001b[0m\u001b[1;33m(\u001b[0m\u001b[0mndim\u001b[0m\u001b[1;33m,\u001b[0m \u001b[1;33m)\u001b[0m\u001b[1;33m)\u001b[0m\u001b[1;33m\u001b[0m\u001b[1;33m\u001b[0m\u001b[0m\n\u001b[0;32m      7\u001b[0m \u001b[0mrows\u001b[0m \u001b[1;33m=\u001b[0m \u001b[0mnp\u001b[0m\u001b[1;33m.\u001b[0m\u001b[0mempty\u001b[0m\u001b[1;33m(\u001b[0m\u001b[1;33m(\u001b[0m\u001b[0mndim\u001b[0m\u001b[1;33m,\u001b[0m \u001b[1;33m)\u001b[0m\u001b[1;33m)\u001b[0m\u001b[1;33m\u001b[0m\u001b[1;33m\u001b[0m\u001b[0m\n",
      "\u001b[1;31mNameError\u001b[0m: name 'inputs' is not defined"
     ]
    }
   ],
   "source": [
    "num_nodes = num_elements + 1\n",
    "num_entry = num_elements * 12 + 4\n",
    "ndim = num_entry + 4\n",
    "\n",
    "data = np.zeros((ndim, ), dtype=inputs._get_data().dtype)\n",
    "cols = np.empty((ndim, ))\n",
    "rows = np.empty((ndim, ))\n",
    "\n",
    "# First element.\n",
    "data[:16] = inputs['K_local'][0, :, :].flat\n",
    "cols[:16] = np.tile(np.arange(4), 4)\n",
    "rows[:16] = np.repeat(np.arange(4), 4)\n",
    "\n",
    "j = 16\n",
    "for ind in range(1, num_elements):\n",
    "    ind1 = 2 * ind\n",
    "    K = inputs['K_local'][ind, :, :]\n",
    "\n",
    "    # NW quadrant gets summed with previous connected element.\n",
    "    data[j-6:j-4] += K[0, :2]\n",
    "    data[j-2:j] += K[1, :2]\n",
    "\n",
    "    # NE quadrant\n",
    "    data[j:j+4] = K[:2, 2:].flat\n",
    "    rows[j:j+4] = np.array([ind1, ind1, ind1 + 1, ind1 + 1])\n",
    "    cols[j:j+4] = np.array([ind1 + 2, ind1 + 3, ind1 + 2, ind1 + 3])\n",
    "\n",
    "    # SE and SW quadrants together\n",
    "    data[j+4:j+12] = K[2:, :].flat\n",
    "    rows[j+4:j+12] = np.repeat(np.arange(ind1 + 2, ind1 + 4), 4)\n",
    "    cols[j+4:j+12] = np.tile(np.arange(ind1, ind1 + 4), 2)\n",
    "\n",
    "    j += 12\n",
    "\n",
    "data[-4:] = 1.0\n",
    "rows[-4] = 2 * num_nodes\n",
    "rows[-3] = 2 * num_nodes + 1\n",
    "rows[-2] = 0.0\n",
    "rows[-1] = 1.0\n",
    "cols[-4] = 0.0\n",
    "cols[-3] = 1.0\n",
    "cols[-2] = 2 * num_nodes\n",
    "cols[-1] = 2 * num_nodes + 1\n",
    "\n",
    "n_K = 2 * num_nodes + 2"
   ]
  },
  {
   "cell_type": "code",
   "execution_count": null,
   "id": "07f1ac37-fbc9-4d26-9962-67c5d52ce528",
   "metadata": {
    "execution": {
     "iopub.execute_input": "2022-02-02T17:06:30.887157Z",
     "iopub.status.busy": "2022-02-02T17:06:30.886146Z",
     "iopub.status.idle": "2022-02-02T17:06:30.905147Z",
     "shell.execute_reply": "2022-02-02T17:06:30.904144Z",
     "shell.execute_reply.started": "2022-02-02T17:06:30.887157Z"
    }
   },
   "outputs": [
    {
     "data": {
      "text/plain": [
       "0.02"
      ]
     },
     "execution_count": 13,
     "metadata": {},
     "output_type": "execute_result"
    }
   ],
   "source": [
    "L0"
   ]
  },
  {
   "cell_type": "code",
   "execution_count": 15,
   "id": "a0b6e6a5-4e30-4957-ae43-02d3fb5ccdba",
   "metadata": {
    "execution": {
     "iopub.execute_input": "2022-02-02T17:06:44.488772Z",
     "iopub.status.busy": "2022-02-02T17:06:44.488772Z",
     "iopub.status.idle": "2022-02-02T17:06:44.512769Z",
     "shell.execute_reply": "2022-02-02T17:06:44.511765Z",
     "shell.execute_reply.started": "2022-02-02T17:06:44.488772Z"
    },
    "tags": []
   },
   "outputs": [
    {
     "data": {
      "text/plain": [
       "array([[ 1.5e+06,  1.5e+04, -1.5e+06,  1.5e+04],\n",
       "       [ 1.5e+04,  2.0e+02, -1.5e+04,  1.0e+02],\n",
       "       [-1.5e+06, -1.5e+04,  1.5e+06, -1.5e+04],\n",
       "       [ 1.5e+04,  1.0e+02, -1.5e+04,  2.0e+02]])"
      ]
     },
     "execution_count": 15,
     "metadata": {},
     "output_type": "execute_result"
    }
   ],
   "source": [
    "coeffs"
   ]
  },
  {
   "cell_type": "code",
   "execution_count": null,
   "id": "3c0a749f-46bd-4996-b4df-977e51b0dabc",
   "metadata": {},
   "outputs": [],
   "source": [
    "outputs['I'] = 1./12. * self.options['b'] * inputs['h'] ** 3"
   ]
  }
 ],
 "metadata": {
  "kernelspec": {
   "display_name": "mdo",
   "language": "python",
   "name": "mdo"
  },
  "language_info": {
   "codemirror_mode": {
    "name": "ipython",
    "version": 3
   },
   "file_extension": ".py",
   "mimetype": "text/x-python",
   "name": "python",
   "nbconvert_exporter": "python",
   "pygments_lexer": "ipython3",
   "version": "3.8.12"
  }
 },
 "nbformat": 4,
 "nbformat_minor": 5
}
