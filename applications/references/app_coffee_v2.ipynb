{
 "cells": [
  {
   "cell_type": "code",
   "execution_count": 1,
   "id": "a3d88ce0",
   "metadata": {
    "execution": {
     "iopub.status.idle": "2021-06-24T00:06:55.485350Z",
     "shell.execute_reply": "2021-06-24T00:06:55.484422Z",
     "shell.execute_reply.started": "2021-06-24T00:06:51.134720Z"
    }
   },
   "outputs": [
    {
     "name": "stdout",
     "output_type": "stream",
     "text": [
      "Unable to import mpi4py. Parallel processing unavailable.\n",
      "Unable to import petsc4py. Parallel processing unavailable.\n",
      "Unable to import petsc4py. Parallel processing unavailable.\n"
     ]
    }
   ],
   "source": [
    "from compute import Evaluable, anp_math, evaluable_with_unit, Var, get_unit, ureg, coupled_run, buildidpvars, eqvar, unit_conversion_factors\n",
    "from inputresolver import reassigneq, eqvars, eqsonly, default_out, mdf_order, getdofs, idx_eqlist\n",
    "from inputresolver import getallvars, invert_edges, resolve, reassign\n",
    "from representations import bipartite_repr\n",
    "from compute_utils import get_outputs, check_eqs, print_out\n",
    "from pprint import pprint\n",
    "import networkx as nx\n",
    "import sympy as sp\n",
    "import numpy as np\n",
    "import openmdao.api as om"
   ]
  },
  {
   "cell_type": "code",
   "execution_count": 67,
   "id": "dc5aa180",
   "metadata": {
    "execution": {
     "iopub.execute_input": "2021-06-24T00:32:11.903354Z",
     "iopub.status.busy": "2021-06-24T00:32:11.903354Z",
     "iopub.status.idle": "2021-06-24T00:32:11.924531Z",
     "shell.execute_reply": "2021-06-24T00:32:11.923535Z",
     "shell.execute_reply.started": "2021-06-24T00:32:11.903354Z"
    }
   },
   "outputs": [],
   "source": [
    "def possible_outputs(expr):\n",
    "    expr_expanded = sp.expand(expr)\n",
    "    drop_args = set()\n",
    "    solve_args = ()\n",
    "    for arg in sp.preorder_traversal(expr_expanded):\n",
    "        if arg.func == sp.Pow:\n",
    "            base, power = arg.args\n",
    "            if base.func in (sp.Symbol,Var) and power != -1:\n",
    "                drop_args.add(base)\n",
    "        elif arg.func in (sp.Symbol,Var) and arg not in drop_args:\n",
    "            solve_args += (arg,)\n",
    "    return solve_args"
   ]
  },
  {
   "cell_type": "code",
   "execution_count": 2,
   "id": "2b5ad8a3",
   "metadata": {
    "execution": {
     "iopub.execute_input": "2021-06-24T00:06:55.489346Z",
     "iopub.status.busy": "2021-06-24T00:06:55.488348Z",
     "iopub.status.idle": "2021-06-24T00:06:55.502348Z",
     "shell.execute_reply": "2021-06-24T00:06:55.500351Z",
     "shell.execute_reply.started": "2021-06-24T00:06:55.489346Z"
    }
   },
   "outputs": [],
   "source": [
    "ureg.define('USD = [currency] ')"
   ]
  },
  {
   "cell_type": "code",
   "execution_count": 3,
   "id": "f0450846",
   "metadata": {
    "execution": {
     "iopub.execute_input": "2021-06-24T00:06:55.514355Z",
     "iopub.status.busy": "2021-06-24T00:06:55.514355Z",
     "iopub.status.idle": "2021-06-24T00:06:55.565355Z",
     "shell.execute_reply": "2021-06-24T00:06:55.564348Z",
     "shell.execute_reply.started": "2021-06-24T00:06:55.514355Z"
    }
   },
   "outputs": [],
   "source": [
    "IFOV = Var('IFOV', 7.272e-5, 'rad')\n",
    "r = Var('r', 9.257e19, 'm')\n",
    "l = Var('lambda', 5e-7, 'm')\n",
    "d = Var('d', 3e-5, 'm')\n",
    "Q = Var('Q', 1.1)\n",
    "rho = Var('rho', 1.22, never_output=True)\n",
    "k = Var('k', 1.381e-23, 'J/K', never_output=True)\n",
    "T = Var('T', 5785, 'K')\n",
    "h = Var('h', 6.626e-34, 'J*s')\n",
    "c = Var('c', 2.998e8, 'm/s', never_output=True)\n",
    "tau = Var('tau', 1)\n",
    "dl = Var('Delta_lambda', 2e-6, 'm')\n",
    "R = Var('R', 6.96e8, 'm')\n",
    "dV = Var('Delta_V', 0, 'm/s')\n",
    "g = Var('g', 9.8, 'm/s^2', never_output=True)\n",
    "isp = Var('I_sp', 450, 's')\n",
    "ct = Var('c_t', 1163, 'USD/kg')\n",
    "ms = Var('m_s', 1175, 'kg/m^2')\n",
    "QE = Var('Q_E', 0.5)\n",
    "Nr = Var('N_r', 25)\n",
    "tau0 = Var('tau_0', 0.75)\n",
    "Ti = Var('T_i', 30, 's')\n",
    "a = Var('alpha', 50e3, 'USD/m^3')\n",
    "SNR_req = Var('SNR_req', 10, never_output=True)"
   ]
  },
  {
   "cell_type": "code",
   "execution_count": 4,
   "id": "d01d8dcc",
   "metadata": {
    "execution": {
     "iopub.execute_input": "2021-06-24T00:06:55.568348Z",
     "iopub.status.busy": "2021-06-24T00:06:55.567350Z",
     "iopub.status.idle": "2021-06-24T00:06:56.004349Z",
     "shell.execute_reply": "2021-06-24T00:06:56.003349Z",
     "shell.execute_reply.started": "2021-06-24T00:06:55.567350Z"
    }
   },
   "outputs": [],
   "source": [
    "Y, eq1 = eqvar('Y', IFOV*r, 'm')\n",
    "f, eq2 = eqvar('f', r*d/Y, 'm')\n",
    "D, eq3 = eqvar('D', 2*rho*l*Q*f/d, 'm')\n",
    "tr, eq4 = eqvar('theta_r', rho*l/D, 'rad')\n",
    "mt, eq5 = eqvar('mt', ms*D**2, 'kg')\n",
    "mi, eq6 = eqvar('m_i', mt*sp.exp(dV/(g*isp)), 'kg')\n",
    "CD, eq7 = eqvar('C_D', a*D**3, 'USD')\n",
    "CT, eq8 = eqvar('C_T', CD+ct*mi, 'USD')\n",
    "Hl, eq9 = eqvar('H_lambda', 2*sp.pi*h*c**2/l**5*1/(sp.exp(c*h/(k*T*l))-1), 'W/m^3')\n",
    "L, eq10 = eqvar('L', 1/4*R**2*Hl*tau*dl, 'W/sr')\n",
    "Pin, eq11 = eqvar('P_in', sp.pi*(D/(2*r))**2*L, 'W')\n",
    "Hi, eq12 = eqvar('H_i', Pin*tau0*Ti, 'J')\n",
    "Np, eq13 = eqvar('N_p', Hi*l/(h*c))\n",
    "SNR, eq14 = eqvar('SNR', Np*QE/sp.sqrt(Nr**2+Np*QE))\n",
    "eq15 = (SNR, SNR_req)"
   ]
  },
  {
   "cell_type": "code",
   "execution_count": 71,
   "id": "8febd29c",
   "metadata": {
    "execution": {
     "iopub.execute_input": "2021-06-24T00:33:26.257958Z",
     "iopub.status.busy": "2021-06-24T00:33:26.257958Z",
     "iopub.status.idle": "2021-06-24T00:33:26.281957Z",
     "shell.execute_reply": "2021-06-24T00:33:26.280959Z",
     "shell.execute_reply.started": "2021-06-24T00:33:26.257958Z"
    }
   },
   "outputs": [],
   "source": [
    "eq_list=[eq1, eq2, eq3, eq4, eq5, eq6, eq7, eq8, eq9, eq10, eq11, eq12, eq13, eq14, eq15]\n",
    "eqs = idx_eqlist(eq_list)\n",
    "ins = getdofs(eqs)\n",
    "eqv = eqvars(eqs)\n",
    "dout = default_out(eqs)\n",
    "order = mdf_order(eqv, dout)"
   ]
  },
  {
   "cell_type": "code",
   "execution_count": 72,
   "id": "fc433726",
   "metadata": {
    "execution": {
     "iopub.execute_input": "2021-06-24T00:33:29.905892Z",
     "iopub.status.busy": "2021-06-24T00:33:29.904891Z",
     "iopub.status.idle": "2021-06-24T00:33:29.918892Z",
     "shell.execute_reply": "2021-06-24T00:33:29.917891Z",
     "shell.execute_reply.started": "2021-06-24T00:33:29.905892Z"
    }
   },
   "outputs": [],
   "source": [
    "eqvcst = {key: {elt for elt in outsetposs if not elt.never_output}\n",
    "        for key, outsetposs in eqv.items()}"
   ]
  },
  {
   "cell_type": "code",
   "execution_count": 75,
   "id": "b1e61d86",
   "metadata": {
    "execution": {
     "iopub.execute_input": "2021-06-24T00:36:14.311434Z",
     "iopub.status.busy": "2021-06-24T00:36:14.310433Z",
     "iopub.status.idle": "2021-06-24T00:36:14.330433Z",
     "shell.execute_reply": "2021-06-24T00:36:14.329429Z",
     "shell.execute_reply.started": "2021-06-24T00:36:14.311434Z"
    }
   },
   "outputs": [],
   "source": [
    "not_output = {\n",
    "    8: {h,l},\n",
    "    13: {Np, QE}\n",
    "}\n",
    "# for key, (left, right) in eqs.items():\n",
    "#     not_output[key] = set()\n",
    "#     for elt in left.free_symbols.union(right.free_symbols):\n",
    "#         try:\n",
    "#             reassigneq(left, right, elt)\n",
    "#         except:\n",
    "#             not_output[key].add(elt)"
   ]
  },
  {
   "cell_type": "code",
   "execution_count": 77,
   "id": "639edbd6",
   "metadata": {
    "execution": {
     "iopub.execute_input": "2021-06-24T00:36:36.439177Z",
     "iopub.status.busy": "2021-06-24T00:36:36.439177Z",
     "iopub.status.idle": "2021-06-24T00:36:36.459171Z",
     "shell.execute_reply": "2021-06-24T00:36:36.458173Z",
     "shell.execute_reply.started": "2021-06-24T00:36:36.439177Z"
    }
   },
   "outputs": [
    {
     "data": {
      "text/plain": [
       "{0: {IFOV, Y, r},\n",
       " 1: {Y, d, f, r},\n",
       " 2: {D, Q, d, f, lambda},\n",
       " 3: {D, lambda, theta_r},\n",
       " 4: {D, m_s, mt},\n",
       " 5: {Delta_V, I_sp, m_i, mt},\n",
       " 6: {C_D, D, alpha},\n",
       " 7: {C_D, C_T, c_t, m_i},\n",
       " 8: {H_lambda, T},\n",
       " 9: {Delta_lambda, H_lambda, L, R, tau},\n",
       " 10: {D, L, P_in, r},\n",
       " 11: {H_i, P_in, T_i, tau_0},\n",
       " 12: {H_i, N_p, h, lambda},\n",
       " 13: {N_r, SNR},\n",
       " 14: {SNR}}"
      ]
     },
     "execution_count": 77,
     "metadata": {},
     "output_type": "execute_result"
    }
   ],
   "source": [
    "eqvcst = {key: val - not_output.get(key, set()) for key,val in eqvcst.items()}\n",
    "eqvcst"
   ]
  },
  {
   "cell_type": "code",
   "execution_count": 78,
   "id": "9c03fd49",
   "metadata": {
    "execution": {
     "iopub.execute_input": "2021-06-24T00:36:41.173238Z",
     "iopub.status.busy": "2021-06-24T00:36:41.173238Z",
     "iopub.status.idle": "2021-06-24T00:36:41.192234Z",
     "shell.execute_reply": "2021-06-24T00:36:41.191237Z",
     "shell.execute_reply.started": "2021-06-24T00:36:41.173238Z"
    }
   },
   "outputs": [],
   "source": [
    "G, edges_original = bipartite_repr(eqvcst)\n",
    "vrs = getallvars(eqs)\n",
    "eqns = eqs.keys()\n",
    "edges = invert_edges(edges_original)"
   ]
  },
  {
   "cell_type": "code",
   "execution_count": 105,
   "id": "8ef3cebb",
   "metadata": {
    "execution": {
     "iopub.execute_input": "2021-06-24T00:39:07.057369Z",
     "iopub.status.busy": "2021-06-24T00:39:07.056379Z",
     "iopub.status.idle": "2021-06-24T00:39:07.088370Z",
     "shell.execute_reply": "2021-06-24T00:39:07.087371Z",
     "shell.execute_reply.started": "2021-06-24T00:39:07.057369Z"
    }
   },
   "outputs": [
    {
     "name": "stdout",
     "output_type": "stream",
     "text": [
      "C [{lambda, 2, 3, D}]\n",
      "1 0.0 [2.0]\n",
      "C []\n",
      "2 0.0 []\n",
      "C []\n",
      "3 0.0 []\n"
     ]
    }
   ],
   "source": [
    "sol = resolve(eqns, vrs, edges, 3, not_input=[l])"
   ]
  },
  {
   "cell_type": "code",
   "execution_count": 104,
   "id": "ab9d2980",
   "metadata": {
    "execution": {
     "iopub.execute_input": "2021-06-24T00:39:05.222646Z",
     "iopub.status.busy": "2021-06-24T00:39:05.222646Z",
     "iopub.status.idle": "2021-06-24T00:39:05.236610Z",
     "shell.execute_reply": "2021-06-24T00:39:05.235609Z",
     "shell.execute_reply.started": "2021-06-24T00:39:05.222646Z"
    }
   },
   "outputs": [],
   "source": [
    "sol = nx.bipartite.maximum_matching(G, top_nodes=eqvcst.keys())"
   ]
  },
  {
   "cell_type": "code",
   "execution_count": 106,
   "id": "a6bcfb96",
   "metadata": {
    "execution": {
     "iopub.execute_input": "2021-06-24T00:39:09.449591Z",
     "iopub.status.busy": "2021-06-24T00:39:09.449591Z",
     "iopub.status.idle": "2021-06-24T00:39:10.258100Z",
     "shell.execute_reply": "2021-06-24T00:39:10.257122Z",
     "shell.execute_reply.started": "2021-06-24T00:39:09.449591Z"
    }
   },
   "outputs": [],
   "source": [
    "new_eqs=reassign(eqs, dict(sol))\n",
    "new_ins = getdofs(new_eqs)\n",
    "new_order = mdf_order(eqv, dict(sol))"
   ]
  },
  {
   "cell_type": "code",
   "execution_count": 107,
   "id": "52b94ead",
   "metadata": {
    "execution": {
     "iopub.execute_input": "2021-06-24T00:39:10.260107Z",
     "iopub.status.busy": "2021-06-24T00:39:10.260107Z",
     "iopub.status.idle": "2021-06-24T00:39:10.275101Z",
     "shell.execute_reply": "2021-06-24T00:39:10.274106Z",
     "shell.execute_reply.started": "2021-06-24T00:39:10.260107Z"
    }
   },
   "outputs": [
    {
     "data": {
      "text/plain": [
       "[14, 13, 11, 12, 8, 7, 6, 4, 5, 3, 10, 9, 1, 2, 0]"
      ]
     },
     "execution_count": 107,
     "metadata": {},
     "output_type": "execute_result"
    }
   ],
   "source": [
    "new_order"
   ]
  },
  {
   "cell_type": "code",
   "execution_count": 113,
   "id": "1d58d6ba",
   "metadata": {
    "execution": {
     "iopub.execute_input": "2021-06-24T00:40:50.495025Z",
     "iopub.status.busy": "2021-06-24T00:40:50.495025Z",
     "iopub.status.idle": "2021-06-24T00:40:50.519017Z",
     "shell.execute_reply": "2021-06-24T00:40:50.518017Z",
     "shell.execute_reply.started": "2021-06-24T00:40:50.495025Z"
    }
   },
   "outputs": [
    {
     "data": {
      "text/plain": [
       "{0: (IFOV, Y/r),\n",
       " 1: (d, Y*f/r),\n",
       " 2: (Q, D*d/(2*f*lambda*rho)),\n",
       " 3: (theta_r, lambda*rho/D),\n",
       " 4: (mt, D**2*m_s),\n",
       " 5: (Delta_V, I_sp*g*log(m_i/mt)),\n",
       " 6: (alpha, C_D/D**3),\n",
       " 7: (C_T, C_D + c_t*m_i),\n",
       " 8: (H_lambda, 2*pi*c**2*h/(lambda**5*(exp(c*h/(T*k*lambda)) - 1))),\n",
       " 9: (tau, 4.0*L/(Delta_lambda*H_lambda*R**2)),\n",
       " 10: (L, 4*P_in*r**2/(pi*D**2)),\n",
       " 11: (T_i, H_i/(P_in*tau_0)),\n",
       " 12: (lambda, N_p*c*h/H_i),\n",
       " 13: (N_r, -sqrt(N_p*Q_E*(N_p*Q_E - SNR**2)/SNR**2)),\n",
       " 14: (SNR, SNR_req)}"
      ]
     },
     "execution_count": 113,
     "metadata": {},
     "output_type": "execute_result"
    }
   ],
   "source": [
    "new_eqs"
   ]
  },
  {
   "cell_type": "code",
   "execution_count": 109,
   "id": "b768b871",
   "metadata": {
    "execution": {
     "iopub.execute_input": "2021-06-24T00:39:14.934184Z",
     "iopub.status.busy": "2021-06-24T00:39:14.934184Z",
     "iopub.status.idle": "2021-06-24T00:39:15.027190Z",
     "shell.execute_reply": "2021-06-24T00:39:15.025183Z",
     "shell.execute_reply.started": "2021-06-24T00:39:14.934184Z"
    }
   },
   "outputs": [],
   "source": [
    "prob = om.Problem()\n",
    "model = prob.model\n",
    "counter = coupled_run(new_eqs, new_order, (), model, model, 0)"
   ]
  },
  {
   "cell_type": "code",
   "execution_count": 110,
   "id": "fc6b455d",
   "metadata": {
    "execution": {
     "iopub.execute_input": "2021-06-24T00:39:17.586282Z",
     "iopub.status.busy": "2021-06-24T00:39:17.586282Z",
     "iopub.status.idle": "2021-06-24T00:39:17.603279Z",
     "shell.execute_reply": "2021-06-24T00:39:17.602275Z",
     "shell.execute_reply.started": "2021-06-24T00:39:17.586282Z"
    }
   },
   "outputs": [],
   "source": [
    "buildidpvars(new_ins, model)"
   ]
  },
  {
   "cell_type": "code",
   "execution_count": 111,
   "id": "740b7565",
   "metadata": {
    "execution": {
     "iopub.execute_input": "2021-06-24T00:39:18.112276Z",
     "iopub.status.busy": "2021-06-24T00:39:18.112276Z",
     "iopub.status.idle": "2021-06-24T00:39:18.152808Z",
     "shell.execute_reply": "2021-06-24T00:39:18.151791Z",
     "shell.execute_reply.started": "2021-06-24T00:39:18.112276Z"
    }
   },
   "outputs": [
    {
     "name": "stderr",
     "output_type": "stream",
     "text": [
      "C:\\Users\\johan\\Miniconda2\\envs\\mdo\\lib\\site-packages\\autograd\\tracer.py:48: RuntimeWarning: overflow encountered in exp\n",
      "  return f_raw(*args, **kwargs)\n",
      "<lambdifygenerated-123>:2: RuntimeWarning: divide by zero encountered in double_scalars\n",
      "  return (4.0*L/(Delta_lambda*H_lambda*R**2))\n"
     ]
    }
   ],
   "source": [
    "prob.setup()\n",
    "prob.run_model()"
   ]
  },
  {
   "cell_type": "code",
   "execution_count": 112,
   "id": "87b29099",
   "metadata": {
    "execution": {
     "iopub.execute_input": "2021-06-24T00:39:30.063213Z",
     "iopub.status.busy": "2021-06-24T00:39:30.062209Z",
     "iopub.status.idle": "2021-06-24T00:39:30.076210Z",
     "shell.execute_reply": "2021-06-24T00:39:30.075224Z",
     "shell.execute_reply.started": "2021-06-24T00:39:30.063213Z"
    }
   },
   "outputs": [
    {
     "data": {
      "text/plain": [
       "{R: '6.96e+08',\n",
       " k: '1.381e-23',\n",
       " N_p: '0.87',\n",
       " d: '1.171e-21',\n",
       " H_lambda: '0',\n",
       " D: '0.21',\n",
       " g: '9.80',\n",
       " mt: '50.21',\n",
       " lambda: '3.336e-25',\n",
       " Y: '0.49',\n",
       " c_t: '1163',\n",
       " T: '5785',\n",
       " h: '6.626e-34',\n",
       " rho: '1.22',\n",
       " L: '2.345e+41',\n",
       " alpha: '86.70',\n",
       " I_sp: '450',\n",
       " H_i: '0.52',\n",
       " C_T: '712.22',\n",
       " Q: '1340',\n",
       " r: '9.257e+19',\n",
       " f: '0.22',\n",
       " m_s: '1175',\n",
       " tau: 'inf',\n",
       " Delta_V: '-1.944e+04',\n",
       " P_in: '0.92',\n",
       " SNR_req: '10',\n",
       " N_r: 'nan',\n",
       " m_i: '0.61',\n",
       " SNR: '10',\n",
       " c: '2.998e+08',\n",
       " Delta_lambda: '2e-06',\n",
       " Q_E: '0.50',\n",
       " tau_0: '0.75',\n",
       " C_D: '0.77',\n",
       " T_i: '0.75',\n",
       " theta_r: '1.969e-24',\n",
       " IFOV: '5.276e-21'}"
      ]
     },
     "execution_count": 112,
     "metadata": {},
     "output_type": "execute_result"
    }
   ],
   "source": [
    "out = get_outputs(new_eqs, model)\n",
    "print_out(out)"
   ]
  },
  {
   "cell_type": "code",
   "execution_count": 89,
   "id": "f0d19325",
   "metadata": {
    "execution": {
     "iopub.execute_input": "2021-06-24T00:37:13.649278Z",
     "iopub.status.busy": "2021-06-24T00:37:13.649278Z",
     "iopub.status.idle": "2021-06-24T00:37:13.670276Z",
     "shell.execute_reply": "2021-06-24T00:37:13.669275Z",
     "shell.execute_reply.started": "2021-06-24T00:37:13.649278Z"
    }
   },
   "outputs": [],
   "source": [
    "outs = {str(key): val for key,val in out.items()}"
   ]
  },
  {
   "cell_type": "code",
   "execution_count": 90,
   "id": "5d448826",
   "metadata": {
    "execution": {
     "iopub.execute_input": "2021-06-24T00:37:22.229736Z",
     "iopub.status.busy": "2021-06-24T00:37:22.228741Z",
     "iopub.status.idle": "2021-06-24T00:37:22.249253Z",
     "shell.execute_reply": "2021-06-24T00:37:22.248252Z",
     "shell.execute_reply.started": "2021-06-24T00:37:22.229736Z"
    }
   },
   "outputs": [
    {
     "data": {
      "text/plain": [
       "2.1422598507886146e-24"
      ]
     },
     "execution_count": 90,
     "metadata": {},
     "output_type": "execute_result"
    }
   ],
   "source": [
    "out[l]"
   ]
  },
  {
   "cell_type": "code",
   "execution_count": null,
   "id": "baf44850",
   "metadata": {},
   "outputs": [],
   "source": []
  }
 ],
 "metadata": {
  "kernelspec": {
   "display_name": "mdo",
   "language": "python",
   "name": "mdo"
  },
  "language_info": {
   "codemirror_mode": {
    "name": "ipython",
    "version": 3
   },
   "file_extension": ".py",
   "mimetype": "text/x-python",
   "name": "python",
   "nbconvert_exporter": "python",
   "pygments_lexer": "ipython3",
   "version": "3.8.10"
  }
 },
 "nbformat": 4,
 "nbformat_minor": 5
}
