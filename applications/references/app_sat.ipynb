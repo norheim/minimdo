{
 "cells": [
  {
   "cell_type": "code",
   "execution_count": 1,
   "id": "f29686f3",
   "metadata": {
    "execution": {
     "iopub.execute_input": "2021-10-25T03:01:36.615214Z",
     "iopub.status.busy": "2021-10-25T03:01:36.614830Z",
     "iopub.status.idle": "2021-10-25T03:01:44.073273Z",
     "shell.execute_reply": "2021-10-25T03:01:44.070551Z",
     "shell.execute_reply.started": "2021-10-25T03:01:36.615214Z"
    }
   },
   "outputs": [],
   "source": [
    "from compute import Var, eqvar, ureg, get_unit, buildidpvars, coupled_run, Evaluable, args_in_order, fill_args, unit_conversion_factors, evaluable_with_unit\n",
    "from inputresolver import reassigneq, eqvars, eqsonly, default_out, mdf_order, default_in, idx_eqlist\n",
    "from inputresolver import getallvars, invert_edges, resolve, reassign, flatten_order\n",
    "from representations import bipartite_repr, drawbipartite, digraph_repr, draw, draw_dsm\n",
    "from compute_utils import get_outputs, check_eqs, print_out\n",
    "from partitioner import default_out_condensation, merge\n",
    "from pprint import pprint\n",
    "import networkx as nx\n",
    "import sympy as sp\n",
    "from sympy.utilities.lambdify import implemented_function\n",
    "import numpy as np\n",
    "from scipy import interpolate\n",
    "import openmdao.api as om\n",
    "import gpkit as gp\n",
    "import cvxpy as cp\n",
    "import matplotlib.patches as patches"
   ]
  },
  {
   "cell_type": "code",
   "execution_count": 2,
   "id": "b2d90bda",
   "metadata": {
    "execution": {
     "iopub.execute_input": "2021-10-25T03:01:44.077273Z",
     "iopub.status.busy": "2021-10-25T03:01:44.077273Z",
     "iopub.status.idle": "2021-10-25T03:01:44.088539Z",
     "shell.execute_reply": "2021-10-25T03:01:44.086077Z",
     "shell.execute_reply.started": "2021-10-25T03:01:44.077273Z"
    }
   },
   "outputs": [],
   "source": [
    "from functools import reduce\n",
    "from itertools import chain\n",
    "from collections import OrderedDict\n",
    "import matplotlib.pyplot as plt"
   ]
  },
  {
   "cell_type": "code",
   "execution_count": 3,
   "id": "b9e76633",
   "metadata": {
    "execution": {
     "iopub.execute_input": "2021-10-25T03:01:44.092715Z",
     "iopub.status.busy": "2021-10-25T03:01:44.091664Z",
     "iopub.status.idle": "2021-10-25T03:01:44.194843Z",
     "shell.execute_reply": "2021-10-25T03:01:44.192841Z",
     "shell.execute_reply.started": "2021-10-25T03:01:44.092715Z"
    }
   },
   "outputs": [],
   "source": [
    "μ = Var('mu', 3.986005e14, 'm^3/s^2', never_output=True)\n",
    "R = Var('R', 6378, 'km', never_output=True)\n",
    "Q = Var('Q', 1367, 'W/m^2', never_output=True)\n",
    "#EN = Var('EN', 10, never_output=True) #\n",
    "D_r = Var('D_r', 5.3, 'm', never_output=True)\n",
    "L = Var('L', 9.77, never_output=True)\n",
    "k = Var('k', 1.38064852e-23, 'J/K', never_output=True)\n",
    "T_s = Var('T_s', 135, 'K', never_output=True)\n",
    "B = Var('B', 8, 'bit', never_output=True)\n",
    "N = Var('N', 2e3, '', never_output=True)\n",
    "eta = Var('eta', 0.55, never_output=True)\n",
    "l_v = Var('l_v', 500, 'nm', never_output=True)\n",
    "f = Var('f', 2.2, 'GHz', never_output=True)\n",
    "c = Var('c', 2.99e8, 'm/s', never_output=True) #\n",
    "rho_T = Var('rho_T', 500e3, 'kg*m', never_output=True)\n",
    "rho_P = Var('rho_P', 0.002e-3, 'kg/J', never_output=True)\n",
    "P_l = Var('P_l', 12, 'W', never_output=True)\n",
    "m_c = Var('m_c', 0.2, 'kg', never_output=True)\n",
    "C_D = Var('C_D', 2.2, never_output=True)\n",
    "G = Var('G', 9.81, 'm/s^2', never_output=True)\n",
    "I_sp = Var('Isp', 70, 's', never_output=True)\n",
    "w_W = Var('w_W', 1000, 'rad/s', never_output=True)\n",
    "c_W = Var('c_W', 1, never_output=True)\n",
    "rho_M = Var('rho_M', 11.4, never_output=True)\n",
    "rho_P2 = Var('rho_P2', 9/0.1, never_output=True)\n",
    "M_B = Var('M_B', 7.96e15, never_output=True)\n",
    "kp = Var('kp', 0.0002, never_output=True)"
   ]
  },
  {
   "cell_type": "code",
   "execution_count": 7,
   "id": "982a902d",
   "metadata": {
    "execution": {
     "iopub.execute_input": "2021-10-25T03:01:49.321935Z",
     "iopub.status.busy": "2021-10-25T03:01:49.320976Z",
     "iopub.status.idle": "2021-10-25T03:01:49.464043Z",
     "shell.execute_reply": "2021-10-25T03:01:49.463042Z",
     "shell.execute_reply.started": "2021-10-25T03:01:49.321935Z"
    }
   },
   "outputs": [],
   "source": [
    "h = Var('h', 400, 'km') #\n",
    "a, eq0 = eqvar('a', h + R, 'km')\n",
    "T, eq1 = eqvar('T', 2*np.pi*(a**3/μ)**0.5, 'min')\n",
    "g, eq2 = eqvar('g', 1/np.pi*sp.acos(R/a), '')\n",
    "d, eq3 = eqvar('d', g+0.5)\n",
    "r, eq4 = eqvar('r', (h**2+2*R*h)**0.5)"
   ]
  },
  {
   "cell_type": "code",
   "execution_count": 8,
   "id": "fa43035f",
   "metadata": {
    "execution": {
     "iopub.execute_input": "2021-10-25T03:01:49.988659Z",
     "iopub.status.busy": "2021-10-25T03:01:49.987740Z",
     "iopub.status.idle": "2021-10-25T03:01:50.104802Z",
     "shell.execute_reply": "2021-10-25T03:01:50.099020Z",
     "shell.execute_reply.started": "2021-10-25T03:01:49.988659Z"
    }
   },
   "outputs": [],
   "source": [
    "eta_A = Var('eta_A', 0.3, never_output=True)\n",
    "rho_A = Var('rho_A', 10, 'kg/m^2', never_output=True) #\n",
    "#ρ_A, η_A = ρ_Ai[solar], η_Ai[solar]\n",
    "A = Var('A', 0.05, unit='m^2')\n",
    "m_A, eq5 = eqvar('m_A', rho_A*A)\n",
    "P_c, eq6 = eqvar('P_c', d*A*Q*eta_A, 'W')\n",
    "P_T, eq7 = eqvar('P_T', P_c-P_l) #hack\n",
    "E_b, eq8 = eqvar('E_b', P_c*T/d)\n",
    "rho_b = Var('rho_b', 0.002, 'kg/kJ', never_output=True)\n",
    "m_b, eq9 = eqvar('m_b', rho_b*E_b, 'kg')\n",
    "#E_b, m_b = E_bi[bat], m_bi[bat]"
   ]
  },
  {
   "cell_type": "code",
   "execution_count": 9,
   "id": "ef8cbb2f",
   "metadata": {
    "execution": {
     "iopub.execute_input": "2021-10-25T03:01:50.519378Z",
     "iopub.status.busy": "2021-10-25T03:01:50.519378Z",
     "iopub.status.idle": "2021-10-25T03:01:50.583374Z",
     "shell.execute_reply": "2021-10-25T03:01:50.582081Z",
     "shell.execute_reply.started": "2021-10-25T03:01:50.519378Z"
    }
   },
   "outputs": [],
   "source": [
    "X_r = Var('X_r', 5, 'm')\n",
    "D_p, eq10 = eqvar('D_p', 1.22*l_v*h/X_r)\n",
    "D, eq11 = eqvar('D', 2*np.pi*R*B*N/X_r, 'MB')\n",
    "rho_p = Var('rho_p', 2, 'kg/m^1.5', never_output=True) \n",
    "#D_p, m_p = D_pi[payload], m_pi[payload]\n",
    "m_p, eq12 = eqvar('m_p', rho_p*D_p**1.5, 'kg')"
   ]
  },
  {
   "cell_type": "code",
   "execution_count": 10,
   "id": "e54d2843",
   "metadata": {
    "execution": {
     "iopub.execute_input": "2021-10-25T03:01:51.056807Z",
     "iopub.status.busy": "2021-10-25T03:01:51.055851Z",
     "iopub.status.idle": "2021-10-25T03:01:51.080809Z",
     "shell.execute_reply": "2021-10-25T03:01:51.078799Z",
     "shell.execute_reply.started": "2021-10-25T03:01:51.056807Z"
    }
   },
   "outputs": [],
   "source": [
    "dBtoLinear = lambda db: 10**(db/10)"
   ]
  },
  {
   "cell_type": "code",
   "execution_count": 11,
   "id": "ee0465fb",
   "metadata": {
    "execution": {
     "iopub.execute_input": "2021-10-25T03:01:51.574934Z",
     "iopub.status.busy": "2021-10-25T03:01:51.573934Z",
     "iopub.status.idle": "2021-10-25T03:01:51.825030Z",
     "shell.execute_reply": "2021-10-25T03:01:51.823658Z",
     "shell.execute_reply.started": "2021-10-25T03:01:51.574934Z"
    }
   },
   "outputs": [],
   "source": [
    "b, eq13 = eqvar('b', D/T, 'MB/s')\n",
    "λ_c, eq14 = eqvar('l_c', c/f, 'cm')\n",
    "G_T = Var('G_T', dBtoLinear(16.5), '', never_output=True)\n",
    "D_T, eq15 = eqvar('D_T', λ_c*(G_T/eta)**0.5/np.pi, 'm')\n",
    "rho_T = Var('rho_T', 0.2, 'kg/m^1.5', never_output=True)\n",
    "m_T, eq16b = eqvar('m_T', rho_T*D_T**1.5, 'kg')\n",
    "#m_T, P_T, G_T = m_Ti[comms], P_Ti[comms], G_Ti[comms]\n",
    "G_r, eq16 = eqvar('G_r', eta*(np.pi*D_r/λ_c)**2)\n",
    "EN, eq17 = eqvar('EN', P_T*G_r*G_T/(L*k*T_s*b)*(λ_c/(4*np.pi*r))**2, '')"
   ]
  },
  {
   "cell_type": "code",
   "execution_count": 12,
   "id": "a37f10ee",
   "metadata": {
    "execution": {
     "iopub.execute_input": "2021-10-25T03:01:52.318110Z",
     "iopub.status.busy": "2021-10-25T03:01:52.317116Z",
     "iopub.status.idle": "2021-10-25T03:01:52.340111Z",
     "shell.execute_reply": "2021-10-25T03:01:52.338109Z",
     "shell.execute_reply.started": "2021-10-25T03:01:52.318110Z"
    }
   },
   "outputs": [
    {
     "data": {
      "text/plain": [
       "1.9940246094105376"
      ]
     },
     "execution_count": 12,
     "metadata": {},
     "output_type": "execute_result"
    }
   ],
   "source": [
    "np.log10(10*9.86335375)"
   ]
  },
  {
   "cell_type": "code",
   "execution_count": 13,
   "id": "22f91c59",
   "metadata": {
    "execution": {
     "iopub.execute_input": "2021-10-25T03:01:52.995085Z",
     "iopub.status.busy": "2021-10-25T03:01:52.994085Z",
     "iopub.status.idle": "2021-10-25T03:01:53.040722Z",
     "shell.execute_reply": "2021-10-25T03:01:53.038133Z",
     "shell.execute_reply.started": "2021-10-25T03:01:52.995085Z"
    }
   },
   "outputs": [],
   "source": [
    "mt = Var('mt', unit='kg')\n",
    "eta_S = Var('eta_S', 0.2, never_output=True)\n",
    "m_s, eq18 = eqvar('m_s', eta_S*mt)\n",
    "eq19 = (mt, m_T+m_p+m_b+m_A+m_s)"
   ]
  },
  {
   "cell_type": "code",
   "execution_count": 14,
   "id": "998f6652",
   "metadata": {
    "execution": {
     "iopub.execute_input": "2021-10-25T03:01:53.542743Z",
     "iopub.status.busy": "2021-10-25T03:01:53.541741Z",
     "iopub.status.idle": "2021-10-25T03:01:53.584939Z",
     "shell.execute_reply": "2021-10-25T03:01:53.582730Z",
     "shell.execute_reply.started": "2021-10-25T03:01:53.542743Z"
    }
   },
   "outputs": [],
   "source": [
    "h_ρi = np.array([100, 150, 200, 250, 300, 350, 400, 450, 500, \n",
    "                 550, 600, 650, 700, 750, 800, 850, 900, 950, 1000, 1250, 1500])*1e3\n",
    "ρi = np.array([4.79e-07, 1.81e-09, 2.53e-10, 6.24e-11, 1.95e-11, 6.98e-12, 2.72e-12, \n",
    "               1.13e-12, 4.89e-13, 2.21e-13, 1.04e-13, 5.15e-14, 2.72e-14, 1.55e-14, \n",
    "               9.63e-15, 6.47e-15, 4.66e-15, 3.54e-15, 2.79e-15, 1.11e-15, 5.21e-16])\n",
    "Hi = np.array([5.9, 25.5, 37.5, 44.8, 50.3, 54.8, 58.2, 61.3, 64.5, 68.7, 74.8, 84.4, \n",
    "               99.3, 121, 151, 188, 226, 263, 296, 408, 516])*1e3\n",
    "ρinterp = interpolate.interp1d(np.log(h_ρi), np.log(ρi))\n",
    "Hinterp = interpolate.interp1d(np.log(h_ρi), np.log(Hi))\n",
    "ρ_int = lambda h: ρi[0] if h<=h_ρi[0] else np.exp(ρinterp(np.log(h))) if h <= 1500e3 else 5.21e-16\n",
    "H_int = lambda h: Hi[0] if h<=h_ρi[0] else np.exp(Hinterp(np.log(h))) if h <= 1500e3 else 516e3"
   ]
  },
  {
   "cell_type": "code",
   "execution_count": 15,
   "id": "87e2120f",
   "metadata": {
    "execution": {
     "iopub.execute_input": "2021-10-25T03:01:54.149204Z",
     "iopub.status.busy": "2021-10-25T03:01:54.149204Z",
     "iopub.status.idle": "2021-10-25T03:01:54.172369Z",
     "shell.execute_reply": "2021-10-25T03:01:54.170365Z",
     "shell.execute_reply.started": "2021-10-25T03:01:54.149204Z"
    }
   },
   "outputs": [],
   "source": [
    "H = implemented_function(sp.Function('H'), H_int)\n",
    "rho = implemented_function(sp.Function('rho'),  ρ_int)"
   ]
  },
  {
   "cell_type": "code",
   "execution_count": 16,
   "id": "720d7eac",
   "metadata": {
    "execution": {
     "iopub.execute_input": "2021-10-25T03:01:54.644944Z",
     "iopub.status.busy": "2021-10-25T03:01:54.643945Z",
     "iopub.status.idle": "2021-10-25T03:01:54.806959Z",
     "shell.execute_reply": "2021-10-25T03:01:54.804949Z",
     "shell.execute_reply.started": "2021-10-25T03:01:54.644944Z"
    }
   },
   "outputs": [],
   "source": [
    "L_min = Var('L_min', 5, 'yr')\n",
    "m_pr = Var('m_pr', 0.5, unit='kg')\n",
    "Hval, eq20 = eqvar('H_val', H(h*1e3), 'm', forceunit=True)\n",
    "rhoval, eq21 = eqvar('rho_val', rho(h*1e3), 'kg/m**3', forceunit=True)\n",
    "Ln, eq22 = eqvar('L_n', Hval*mt/(2*np.pi*C_D*A*rhoval*a**2)*T, 'yr')\n",
    "Lp, eq23 = eqvar('L_p', m_pr*I_sp*G*a/(0.5*C_D*A*rhoval*μ), 'yr')\n",
    "Lt, eq24 = eqvar('L_t', Ln+Lp, 'yr')"
   ]
  },
  {
   "cell_type": "code",
   "execution_count": 17,
   "id": "5d592382",
   "metadata": {
    "execution": {
     "iopub.execute_input": "2021-10-25T03:01:55.200893Z",
     "iopub.status.busy": "2021-10-25T03:01:55.199892Z",
     "iopub.status.idle": "2021-10-25T03:01:55.211890Z",
     "shell.execute_reply": "2021-10-25T03:01:55.209931Z",
     "shell.execute_reply.started": "2021-10-25T03:01:55.200893Z"
    }
   },
   "outputs": [],
   "source": [
    "alleqs = [eq0,eq1,eq2,eq3,eq4,eq5,eq6,eq7,eq8,eq9,eq10,eq11,eq12,eq13,eq14,eq15,eq16,eq16b,eq17,eq18,eq19,eq20,eq21,eq22,eq23,eq24]"
   ]
  },
  {
   "cell_type": "code",
   "execution_count": 18,
   "id": "8ede705a",
   "metadata": {
    "execution": {
     "iopub.execute_input": "2021-10-25T03:01:55.738849Z",
     "iopub.status.busy": "2021-10-25T03:01:55.738849Z",
     "iopub.status.idle": "2021-10-25T03:01:55.755854Z",
     "shell.execute_reply": "2021-10-25T03:01:55.754935Z",
     "shell.execute_reply.started": "2021-10-25T03:01:55.738849Z"
    }
   },
   "outputs": [],
   "source": [
    "#alleqs = [eq0,eq1,eq2,eq3,eq4,eq5,eq6, eq7]"
   ]
  },
  {
   "cell_type": "code",
   "execution_count": 19,
   "id": "2bf20d49",
   "metadata": {
    "execution": {
     "iopub.execute_input": "2021-10-25T03:01:56.247932Z",
     "iopub.status.busy": "2021-10-25T03:01:56.246933Z",
     "iopub.status.idle": "2021-10-25T03:01:56.286928Z",
     "shell.execute_reply": "2021-10-25T03:01:56.285238Z",
     "shell.execute_reply.started": "2021-10-25T03:01:56.247932Z"
    }
   },
   "outputs": [],
   "source": [
    "eqs = idx_eqlist(alleqs)\n",
    "eqv = eqvars(eqs)\n",
    "dout = default_out(eqs)\n",
    "dins = default_in(eqs, count_never_output=False)\n",
    "order = mdf_order(eqv, dout)"
   ]
  },
  {
   "cell_type": "code",
   "execution_count": 20,
   "id": "23ed9768",
   "metadata": {
    "execution": {
     "iopub.execute_input": "2021-10-25T03:01:57.133716Z",
     "iopub.status.busy": "2021-10-25T03:01:57.133716Z",
     "iopub.status.idle": "2021-10-25T03:01:57.685910Z",
     "shell.execute_reply": "2021-10-25T03:01:57.684022Z",
     "shell.execute_reply.started": "2021-10-25T03:01:57.133716Z"
    }
   },
   "outputs": [
    {
     "name": "stdout",
     "output_type": "stream",
     "text": [
      "eq14 l_c c/f None\n",
      "eq16 G_r 9.86960440108936*D_r**2*eta/l_c**2 None\n",
      "eq15 D_T 0.318309886183791*l_c*(G_T/eta)**0.5 None\n",
      "eq17 m_T D_T**1.5*rho_T None\n",
      "eq5 m_A A*rho_A None\n",
      "eq11 D 6.28318530717959*B*N*R/X_r None\n",
      "eq22 rho_val rho(1000.0*h) None\n",
      "eq21 H_val H(1000.0*h) None\n",
      "eq10 D_p 1.22*h*l_v/X_r None\n",
      "eq12 m_p D_p**1.5*rho_p None\n",
      "eq4 r (2*R*h + h**2)**0.5 None\n",
      "eq0 a R + h None\n",
      "eq24 L_p 2.0*G*Isp*a*m_pr/(A*C_D*mu*rho_val) None\n",
      "eq2 g 0.318309886183791*acos(R/a) None\n",
      "eq3 d g + 0.5 None\n",
      "eq6 P_c A*Q*d*eta_A None\n",
      "eq7 P_T P_c - P_l None\n",
      "eq1 T 6.28318530717959*(a**3/mu)**0.5 None\n",
      "eq13 b D/T None\n",
      "eq18 EN 0.00633257397764611*G_T*G_r*P_T*l_c**2/(L*T_s*b*k*r**2) None\n",
      "eq8 E_b P_c*T/d None\n",
      "eq9 m_b E_b*rho_b None\n",
      "eq20 mt m_A + m_T + m_b + m_p + m_s None\n",
      "eq19 m_s eta_S*mt None\n",
      "eq23 L_n 0.159154943091895*H_val*T*mt/(A*C_D*a**2*rho_val) None\n",
      "eq25 L_t L_n + L_p None\n",
      "l_c [13.59090909]\n",
      "G_r [8255.00154877]\n",
      "D_T [0.38986773]\n",
      "m_T [0.04868621]\n",
      "m_A [0.5]\n",
      "D [16029.66235568]\n",
      "rho_val [2.72e-12]\n",
      "H_val [58200.]\n",
      "D_p [0.0488]\n",
      "m_p [0.02156054]\n",
      "r [2293992.15343035]\n",
      "a [6778.]\n",
      "L_p [1.23670244]\n",
      "g [0.1099015]\n",
      "d [0.6099015]\n",
      "P_c [12.50603033]\n",
      "P_T [0.50603033]\n",
      "T [92.55759153]\n",
      "b [2.88643033]\n",
      "EN [9.86335375]\n",
      "E_b [113873.60485377]\n",
      "m_b [0.22774721]\n",
      "mt [1.79799396]\n",
      "m_s [0.35959879]\n",
      "mt [1.15759275]\n",
      "m_s [0.35959879]\n",
      "mt [0.99749245]\n",
      "m_s [0.19949849]\n",
      "mt [0.99749245]\n",
      "m_s [0.19949849]\n",
      "L_n [0.11828981]\n",
      "L_t [1.35499225]\n"
     ]
    }
   ],
   "source": [
    "prob = om.Problem()\n",
    "model = prob.model\n",
    "dins = default_in(eqs)\n",
    "buildidpvars(dins, model)\n",
    "counter = coupled_run(eqs, order, (), model, model, debug=True)\n",
    "prob.setup()\n",
    "prob.set_solver_print(level=0)\n",
    "prob.set_val('A', 0.05)\n",
    "prob.set_val('h', 400)\n",
    "#prob.set_val('m_pr', 0.5)\n",
    "prob.run_model()"
   ]
  },
  {
   "cell_type": "code",
   "execution_count": 33,
   "id": "cdede550",
   "metadata": {
    "execution": {
     "iopub.execute_input": "2021-10-25T03:08:21.502817Z",
     "iopub.status.busy": "2021-10-25T03:08:21.500813Z",
     "iopub.status.idle": "2021-10-25T03:08:21.698805Z",
     "shell.execute_reply": "2021-10-25T03:08:21.696980Z",
     "shell.execute_reply.started": "2021-10-25T03:08:21.502817Z"
    }
   },
   "outputs": [
    {
     "name": "stdout",
     "output_type": "stream",
     "text": [
      "54 Explicit Output(s) in 'model'\n",
      "\n",
      "varname      val               \n",
      "-----------  ------------------\n",
      "inp\n",
      "  eta_A      [0.3]             \n",
      "  eta_S      [0.2]             \n",
      "  R          [6378.]           \n",
      "  T_s        [135.]            \n",
      "  Q          [1367.]           \n",
      "  eta        [0.55]            \n",
      "  m_pr       [0.5]             \n",
      "  rho_T      [0.2]             \n",
      "  B          [8.]              \n",
      "  rho_p      [2.]              \n",
      "  f          [2.2]             \n",
      "  L          [9.77]            \n",
      "  D_r        [5.3]             \n",
      "  l_v        [500.]            \n",
      "  rho_A      [10.]             \n",
      "  A          [0.05]            \n",
      "  c          [2.99e+08]        \n",
      "  G          [9.81]            \n",
      "  P_l        [12.]             \n",
      "  k          [1.38064852e-23]  \n",
      "  h          [400.]            \n",
      "  X_r        [5.]              \n",
      "  G_T        [44.66835922]     \n",
      "  Isp        [70.]             \n",
      "  N          [2000.]           \n",
      "  mu         [3.986005e+14]    \n",
      "  C_D        [2.2]             \n",
      "  rho_b      [0.002]           \n",
      "group1\n",
      "  eq14\n",
      "    l_c      [13.59090909]     \n",
      "  eq16\n",
      "    G_r      [8255.00154877]   \n",
      "  eq15\n",
      "    D_T      [0.38986773]      \n",
      "  eq17\n",
      "    m_T      [0.04868621]      \n",
      "  eq5\n",
      "    m_A      [0.5]             \n",
      "  eq11\n",
      "    D        [16029.66235568]  \n",
      "  eq22\n",
      "    rho_val  [2.72e-12]        \n",
      "  eq21\n",
      "    H_val    [58200.]          \n",
      "  eq10\n",
      "    D_p      [0.0488]          \n",
      "  eq12\n",
      "    m_p      [0.02156054]      \n",
      "  eq4\n",
      "    r        [2293992.15343035]\n",
      "  eq0\n",
      "    a        [6778.]           \n",
      "  eq24\n",
      "    L_p      [1.23670244]      \n",
      "  eq2\n",
      "    g        [0.1099015]       \n",
      "  eq3\n",
      "    d        [0.6099015]       \n",
      "  eq6\n",
      "    P_c      [12.50603033]     \n",
      "  eq7\n",
      "    P_T      [0.50603033]      \n",
      "  eq1\n",
      "    T        [92.55759153]     \n",
      "  eq13\n",
      "    b        [2.88643033]      \n",
      "  eq18\n",
      "    EN       [9.86335375]      \n",
      "  eq8\n",
      "    E_b      [113873.60485377] \n",
      "  eq9\n",
      "    m_b      [0.22774721]      \n",
      "  group2\n",
      "    eq20\n",
      "      mt     [0.99749245]      \n",
      "    eq19\n",
      "      m_s    [0.19949849]      \n",
      "  eq23\n",
      "    L_n      [0.11828981]      \n",
      "  eq25\n",
      "    L_t      [1.35499225]      \n",
      "\n",
      "\n",
      "0 Implicit Output(s) in 'model'\n",
      "\n",
      "\n"
     ]
    },
    {
     "data": {
      "text/plain": [
       "[('inp.eta_A', {'val': array([0.3])}),\n",
       " ('inp.eta_S', {'val': array([0.2])}),\n",
       " ('inp.R', {'val': array([6378.])}),\n",
       " ('inp.T_s', {'val': array([135.])}),\n",
       " ('inp.Q', {'val': array([1367.])}),\n",
       " ('inp.eta', {'val': array([0.55])}),\n",
       " ('inp.m_pr', {'val': array([0.5])}),\n",
       " ('inp.rho_T', {'val': array([0.2])}),\n",
       " ('inp.B', {'val': array([8.])}),\n",
       " ('inp.rho_p', {'val': array([2.])}),\n",
       " ('inp.f', {'val': array([2.2])}),\n",
       " ('inp.L', {'val': array([9.77])}),\n",
       " ('inp.D_r', {'val': array([5.3])}),\n",
       " ('inp.l_v', {'val': array([500.])}),\n",
       " ('inp.rho_A', {'val': array([10.])}),\n",
       " ('inp.A', {'val': array([0.05])}),\n",
       " ('inp.c', {'val': array([2.99e+08])}),\n",
       " ('inp.G', {'val': array([9.81])}),\n",
       " ('inp.P_l', {'val': array([12.])}),\n",
       " ('inp.k', {'val': array([1.38064852e-23])}),\n",
       " ('inp.h', {'val': array([400.])}),\n",
       " ('inp.X_r', {'val': array([5.])}),\n",
       " ('inp.G_T', {'val': array([44.66835922])}),\n",
       " ('inp.Isp', {'val': array([70.])}),\n",
       " ('inp.N', {'val': array([2000.])}),\n",
       " ('inp.mu', {'val': array([3.986005e+14])}),\n",
       " ('inp.C_D', {'val': array([2.2])}),\n",
       " ('inp.rho_b', {'val': array([0.002])}),\n",
       " ('group1.eq14.l_c', {'val': array([13.59090909])}),\n",
       " ('group1.eq16.G_r', {'val': array([8255.00154877])}),\n",
       " ('group1.eq15.D_T', {'val': array([0.38986773])}),\n",
       " ('group1.eq17.m_T', {'val': array([0.04868621])}),\n",
       " ('group1.eq5.m_A', {'val': array([0.5])}),\n",
       " ('group1.eq11.D', {'val': array([16029.66235568])}),\n",
       " ('group1.eq22.rho_val', {'val': array([2.72e-12])}),\n",
       " ('group1.eq21.H_val', {'val': array([58200.])}),\n",
       " ('group1.eq10.D_p', {'val': array([0.0488])}),\n",
       " ('group1.eq12.m_p', {'val': array([0.02156054])}),\n",
       " ('group1.eq4.r', {'val': array([2293992.15343035])}),\n",
       " ('group1.eq0.a', {'val': array([6778.])}),\n",
       " ('group1.eq24.L_p', {'val': array([1.23670244])}),\n",
       " ('group1.eq2.g', {'val': array([0.1099015])}),\n",
       " ('group1.eq3.d', {'val': array([0.6099015])}),\n",
       " ('group1.eq6.P_c', {'val': array([12.50603033])}),\n",
       " ('group1.eq7.P_T', {'val': array([0.50603033])}),\n",
       " ('group1.eq1.T', {'val': array([92.55759153])}),\n",
       " ('group1.eq13.b', {'val': array([2.88643033])}),\n",
       " ('group1.eq18.EN', {'val': array([9.86335375])}),\n",
       " ('group1.eq8.E_b', {'val': array([113873.60485377])}),\n",
       " ('group1.eq9.m_b', {'val': array([0.22774721])}),\n",
       " ('group1.group2.eq20.mt', {'val': array([0.99749245])}),\n",
       " ('group1.group2.eq19.m_s', {'val': array([0.19949849])}),\n",
       " ('group1.eq23.L_n', {'val': array([0.11828981])}),\n",
       " ('group1.eq25.L_t', {'val': array([1.35499225])})]"
      ]
     },
     "execution_count": 33,
     "metadata": {},
     "output_type": "execute_result"
    }
   ],
   "source": [
    "model.list_outputs()"
   ]
  },
  {
   "cell_type": "code",
   "execution_count": 21,
   "id": "2ad5c3ea",
   "metadata": {
    "execution": {
     "iopub.execute_input": "2021-10-25T03:01:58.194534Z",
     "iopub.status.busy": "2021-10-25T03:01:58.193530Z",
     "iopub.status.idle": "2021-10-25T03:01:58.217534Z",
     "shell.execute_reply": "2021-10-25T03:01:58.216627Z",
     "shell.execute_reply.started": "2021-10-25T03:01:58.194534Z"
    }
   },
   "outputs": [],
   "source": [
    "out = get_outputs(eqs, model)"
   ]
  },
  {
   "cell_type": "code",
   "execution_count": 29,
   "id": "84c5cd79",
   "metadata": {
    "execution": {
     "iopub.execute_input": "2021-10-25T03:06:06.935662Z",
     "iopub.status.busy": "2021-10-25T03:06:06.933664Z",
     "iopub.status.idle": "2021-10-25T03:06:06.969450Z",
     "shell.execute_reply": "2021-10-25T03:06:06.962795Z",
     "shell.execute_reply.started": "2021-10-25T03:06:06.934665Z"
    }
   },
   "outputs": [],
   "source": [
    "out2 = {str(key):var for key,var in out.items()}"
   ]
  },
  {
   "cell_type": "code",
   "execution_count": 30,
   "id": "44c0c185",
   "metadata": {
    "execution": {
     "iopub.execute_input": "2021-10-25T03:06:12.112740Z",
     "iopub.status.busy": "2021-10-25T03:06:12.111513Z",
     "iopub.status.idle": "2021-10-25T03:06:12.149357Z",
     "shell.execute_reply": "2021-10-25T03:06:12.144352Z",
     "shell.execute_reply.started": "2021-10-25T03:06:12.112740Z"
    }
   },
   "outputs": [
    {
     "data": {
      "text/plain": [
       "6778.0"
      ]
     },
     "execution_count": 30,
     "metadata": {},
     "output_type": "execute_result"
    }
   ],
   "source": [
    "out2[\"a\"]"
   ]
  },
  {
   "cell_type": "code",
   "execution_count": 32,
   "id": "c5336046",
   "metadata": {
    "execution": {
     "iopub.execute_input": "2021-10-25T03:07:09.254972Z",
     "iopub.status.busy": "2021-10-25T03:07:09.253975Z",
     "iopub.status.idle": "2021-10-25T03:07:09.417025Z",
     "shell.execute_reply": "2021-10-25T03:07:09.415020Z",
     "shell.execute_reply.started": "2021-10-25T03:07:09.254972Z"
    }
   },
   "outputs": [
    {
     "data": {
      "text/plain": [
       "{0: (6778.0, 6778.0),\n",
       " 1: (92.55759152545728, 0.17561568237596617),\n",
       " 2: (0.10990150360973472, 0.10990150360973472),\n",
       " 3: (0.6099015036097347, 0.6099015036097347),\n",
       " 4: (2293992.153430347, 2293.9921534303467),\n",
       " 5: (0.5, 0.5),\n",
       " 6: (12.50603033151761, 12.50603033151761),\n",
       " 7: (0.5060303315176107, 0.5060303315176107),\n",
       " 8: (113873.60485377008, 1897.8934142295016),\n",
       " 9: (0.22774720970754017, 227.74720970754018),\n",
       " 10: (0.04880000000000001, 48800.0),\n",
       " 11: (16029.66235567657, 128237298.84541254),\n",
       " 12: (0.02156054470554954, 0.02156054470554954),\n",
       " 13: (2.886430327952035, 173.1858196771221),\n",
       " 14: (13.59090909090909, 135909090.9090909),\n",
       " 15: (0.3898677305937878, 38.986773059378784),\n",
       " 16: (8255.001548774731, 0.8255001548774731),\n",
       " 17: (0.04868620582342001, 0.04868620582342001),\n",
       " 18: (9.863353746021069, 789068299681.6855),\n",
       " 19: (0.19949849005912745, 0.19949849005912745),\n",
       " 20: (0.9974924502956372, 0.9974924502956372),\n",
       " 21: (58200.0, 58200.0),\n",
       " 22: (2.7199999999999953e-12, 2.7199999999999953e-12),\n",
       " 23: (0.11828981263301863, 62215709852.4625),\n",
       " 24: (1.2367024366730002, 39027.360815551874),\n",
       " 25: (1.354992249306019, 1.3549922493060187)}"
      ]
     },
     "execution_count": 32,
     "metadata": {},
     "output_type": "execute_result"
    }
   ],
   "source": [
    "{key:(out2[str(left)], Evaluable.fromsympy(right).evaldict(out2)) for key, (left, right) \n",
    "        in eqs.items()}"
   ]
  },
  {
   "cell_type": "code",
   "execution_count": 14,
   "id": "a7bc42e6",
   "metadata": {
    "execution": {
     "iopub.execute_input": "2021-10-24T09:02:54.463961Z",
     "iopub.status.busy": "2021-10-24T09:02:54.463961Z",
     "iopub.status.idle": "2021-10-24T09:02:54.476552Z",
     "shell.execute_reply": "2021-10-24T09:02:54.475185Z",
     "shell.execute_reply.started": "2021-10-24T09:02:54.463961Z"
    }
   },
   "outputs": [],
   "source": [
    "# def default_out_condensation(alleqs, eqlist):\n",
    "#     out = set()\n",
    "#     remove = set()\n",
    "#     keep = set()\n",
    "#     for left, _ in eqlist:\n",
    "#         out = out.union({left})\n",
    "#     for _, right in eqlist:\n",
    "#         remove = remove.union(right.free_symbols)\n",
    "#     for _, right in set(alleqs)-set(eqlist):\n",
    "#         keep = keep.union(right.free_symbols)\n",
    "#     out = out.intersection(keep)\n",
    "#     out.union(keep-remove)\n",
    "#     return out"
   ]
  },
  {
   "cell_type": "code",
   "execution_count": 15,
   "id": "ca43fe28",
   "metadata": {
    "execution": {
     "iopub.execute_input": "2021-10-24T09:02:54.479494Z",
     "iopub.status.busy": "2021-10-24T09:02:54.478493Z",
     "iopub.status.idle": "2021-10-24T09:02:54.492050Z",
     "shell.execute_reply": "2021-10-24T09:02:54.490404Z",
     "shell.execute_reply.started": "2021-10-24T09:02:54.479494Z"
    }
   },
   "outputs": [],
   "source": [
    "# def merge(alleqs, eqs, eqname):\n",
    "#     din_s1 = default_in(eqs, eqdictin=False)\n",
    "#     din_s1 = [elt for elt in din_s1 if not elt.never_output]\n",
    "#     dout_s1 = default_out2(alleqs, eqs)\n",
    "#     edges = tuple((elt, eqname) for elt in din_s1)+tuple((eqname, elt) for elt in dout_s1)\n",
    "#     return edges"
   ]
  },
  {
   "cell_type": "code",
   "execution_count": 33,
   "id": "72626de0",
   "metadata": {
    "execution": {
     "iopub.execute_input": "2021-10-24T09:04:36.876513Z",
     "iopub.status.busy": "2021-10-24T09:04:36.874923Z",
     "iopub.status.idle": "2021-10-24T09:04:36.928909Z",
     "shell.execute_reply": "2021-10-24T09:04:36.924702Z",
     "shell.execute_reply.started": "2021-10-24T09:04:36.876513Z"
    }
   },
   "outputs": [
    {
     "data": {
      "text/plain": [
       "{T, a, d, r}"
      ]
     },
     "execution_count": 33,
     "metadata": {},
     "output_type": "execute_result"
    }
   ],
   "source": [
    "alleqs = [eq0,eq1,eq2,eq3,eq4,eq5,eq6,eq7,eq8,eq9,eq10,eq11,eq12,eq13,eq14,eq15,eq16,eq16b,eq17,eq18,eq19,eq20,eq21,eq22,eq23,eq24]\n",
    "#default_out_condensation(alleqs, [eq0, eq1, eq2, eq3, eq4])"
   ]
  },
  {
   "cell_type": "code",
   "execution_count": 17,
   "id": "97e0b5c7",
   "metadata": {
    "execution": {
     "iopub.execute_input": "2021-10-24T09:02:54.527402Z",
     "iopub.status.busy": "2021-10-24T09:02:54.525988Z",
     "iopub.status.idle": "2021-10-24T09:02:54.538660Z",
     "shell.execute_reply": "2021-10-24T09:02:54.537136Z",
     "shell.execute_reply.started": "2021-10-24T09:02:54.527402Z"
    }
   },
   "outputs": [],
   "source": [
    "eqs = idx_eqlist(alleqs)\n",
    "eqv = eqvars(eqs)\n",
    "dout = default_out(eqs)\n",
    "dins = default_in(eqs, count_never_output=False)"
   ]
  },
  {
   "cell_type": "code",
   "execution_count": 18,
   "id": "2adbdd8c",
   "metadata": {
    "execution": {
     "iopub.execute_input": "2021-10-24T09:02:57.045567Z",
     "iopub.status.busy": "2021-10-24T09:02:57.044566Z",
     "iopub.status.idle": "2021-10-24T09:02:57.060413Z",
     "shell.execute_reply": "2021-10-24T09:02:57.058400Z",
     "shell.execute_reply.started": "2021-10-24T09:02:57.045567Z"
    }
   },
   "outputs": [
    {
     "data": {
      "text/plain": [
       "{A, X_r, h, m_pr}"
      ]
     },
     "execution_count": 18,
     "metadata": {},
     "output_type": "execute_result"
    }
   ],
   "source": [
    "dins"
   ]
  },
  {
   "cell_type": "code",
   "execution_count": 34,
   "id": "72456cd5",
   "metadata": {
    "execution": {
     "iopub.execute_input": "2021-10-25T15:21:46.829904Z",
     "iopub.status.busy": "2021-10-25T15:21:46.820900Z",
     "iopub.status.idle": "2021-10-25T15:21:46.954903Z",
     "shell.execute_reply": "2021-10-25T15:21:46.952903Z",
     "shell.execute_reply.started": "2021-10-25T15:21:46.827904Z"
    }
   },
   "outputs": [],
   "source": [
    "eqv_noparams = {elt:{key for key in keys if not key.never_output} for elt,keys in eqv.items()}\n",
    "DG, edges = digraph_repr(eqv_noparams, dout, intermediary=False)"
   ]
  },
  {
   "cell_type": "code",
   "execution_count": 23,
   "id": "db8295a4",
   "metadata": {
    "execution": {
     "iopub.execute_input": "2021-10-21T08:05:01.475694Z",
     "iopub.status.busy": "2021-10-21T08:05:01.474697Z",
     "iopub.status.idle": "2021-10-21T08:05:01.499686Z",
     "shell.execute_reply": "2021-10-21T08:05:01.498681Z",
     "shell.execute_reply.started": "2021-10-21T08:05:01.475694Z"
    }
   },
   "outputs": [
    {
     "data": {
      "text/plain": [
       "dict_values([a, T, g, d, r, m_A, P_T, P_T, E_b, m_b, D_p, D, m_p, b, l_c, D_T, G_r, m_T, EN, m_s, mt, H_val, rho_val, L_n, L_p, L_t])"
      ]
     },
     "execution_count": 23,
     "metadata": {},
     "output_type": "execute_result"
    }
   ],
   "source": [
    "dout.values()"
   ]
  },
  {
   "cell_type": "code",
   "execution_count": 25,
   "id": "c6602d44",
   "metadata": {
    "execution": {
     "iopub.execute_input": "2021-10-21T08:05:47.797064Z",
     "iopub.status.busy": "2021-10-21T08:05:47.796077Z",
     "iopub.status.idle": "2021-10-21T08:05:47.815065Z",
     "shell.execute_reply": "2021-10-21T08:05:47.813063Z",
     "shell.execute_reply.started": "2021-10-21T08:05:47.796077Z"
    }
   },
   "outputs": [
    {
     "data": {
      "text/plain": [
       "{EN, L_t}"
      ]
     },
     "execution_count": 25,
     "metadata": {},
     "output_type": "execute_result"
    }
   ],
   "source": [
    "{elt for elt in dout.values() if len(list(DG.successors(elt)))==0}"
   ]
  },
  {
   "cell_type": "code",
   "execution_count": 66,
   "id": "0a9a2d47",
   "metadata": {
    "execution": {
     "iopub.execute_input": "2021-10-14T22:14:20.783773Z",
     "iopub.status.busy": "2021-10-14T22:14:20.782770Z",
     "iopub.status.idle": "2021-10-14T22:14:23.973285Z",
     "shell.execute_reply": "2021-10-14T22:14:23.972282Z",
     "shell.execute_reply.started": "2021-10-14T22:14:20.783773Z"
    }
   },
   "outputs": [
    {
     "data": {
      "image/png": "[encoded data removed]",
      "text/plain": [
       "<Figure size 720x720 with 1 Axes>"
      ]
     },
     "metadata": {},
     "output_type": "display_data"
    }
   ],
   "source": [
    "fig, ax = draw(DG, figsize=(10,10), node_shape='o', prog='fdp', node_size=1800)\n",
    "#plt.sca(ax)\n",
    "#plt.savefig('balloon', dpi=300, bbox_inches='tight')"
   ]
  },
  {
   "cell_type": "code",
   "execution_count": 41,
   "id": "3aebb07f",
   "metadata": {
    "execution": {
     "iopub.execute_input": "2021-10-14T22:05:19.289232Z",
     "iopub.status.busy": "2021-10-14T22:05:19.289232Z",
     "iopub.status.idle": "2021-10-14T22:05:19.302751Z",
     "shell.execute_reply": "2021-10-14T22:05:19.301752Z",
     "shell.execute_reply.started": "2021-10-14T22:05:19.289232Z"
    }
   },
   "outputs": [],
   "source": [
    "edges = merge(alleqs, [eq0, eq1, eq2, eq3, eq4], 'orbit')\n",
    "edges += merge(alleqs, [eq5, eq6, eq7, eq8, eq9], 'power')\n",
    "edges += merge(alleqs, [eq10, eq11, eq12], 'payload')\n",
    "edges += merge(alleqs, [eq13, eq14, eq15, eq16, eq16b, eq17], 'comms')\n",
    "edges += merge(alleqs, [eq19], 'mass')\n",
    "edges += merge(alleqs, [eq18], 'struct')\n",
    "edges += merge(alleqs, [eq20, eq21, eq22, eq23, eq24], 'prop')"
   ]
  },
  {
   "cell_type": "code",
   "execution_count": 42,
   "id": "2ca09752",
   "metadata": {
    "execution": {
     "iopub.execute_input": "2021-10-14T22:05:20.130280Z",
     "iopub.status.busy": "2021-10-14T22:05:20.129285Z",
     "iopub.status.idle": "2021-10-14T22:05:20.149280Z",
     "shell.execute_reply": "2021-10-14T22:05:20.148282Z",
     "shell.execute_reply.started": "2021-10-14T22:05:20.129285Z"
    }
   },
   "outputs": [],
   "source": [
    "DGsys = nx.DiGraph(edges)"
   ]
  },
  {
   "cell_type": "code",
   "execution_count": 76,
   "id": "ea8ac301",
   "metadata": {
    "execution": {
     "iopub.execute_input": "2021-10-14T22:17:13.847045Z",
     "iopub.status.busy": "2021-10-14T22:17:13.847045Z",
     "iopub.status.idle": "2021-10-14T22:17:19.136773Z",
     "shell.execute_reply": "2021-10-14T22:17:19.135768Z",
     "shell.execute_reply.started": "2021-10-14T22:17:13.847045Z"
    }
   },
   "outputs": [
    {
     "data": {
      "image/png": "[encoded data removed]",
      "text/plain": [
       "<Figure size 720x720 with 1 Axes>"
      ]
     },
     "metadata": {},
     "output_type": "display_data"
    }
   ],
   "source": [
    "fig,ax = draw(DGsys, figsize=(10,10), node_shape='b', prog='neato', node_size=1000);\n",
    "plt.sca(ax)\n",
    "plt.savefig('toysat_graph.png', dpi=600)"
   ]
  },
  {
   "cell_type": "code",
   "execution_count": 36,
   "id": "4ac3e7c5",
   "metadata": {
    "execution": {
     "iopub.execute_input": "2021-10-25T15:22:10.211110Z",
     "iopub.status.busy": "2021-10-25T15:22:10.211110Z",
     "iopub.status.idle": "2021-10-25T15:22:17.693105Z",
     "shell.execute_reply": "2021-10-25T15:22:17.692103Z",
     "shell.execute_reply.started": "2021-10-25T15:22:10.211110Z"
    }
   },
   "outputs": [
    {
     "data": {
      "image/png": "[encoded data removed]",
      "text/plain": [
       "<Figure size 504x504 with 1 Axes>"
      ]
     },
     "metadata": {
      "needs_background": "light"
     },
     "output_type": "display_data"
    }
   ],
   "source": [
    "order = mdf_order(eqv, dout)\n",
    "plt.figure(figsize=(7,7))\n",
    "ax = draw_dsm(DG, flatten_order(order), dout)\n",
    "rect2 = patches.Rectangle((22, 22), 2, 2, linewidth=2, edgecolor='k', facecolor='none')\n",
    "# Add the patch to the Axes\n",
    "ax.add_patch(rect2);\n",
    "plt.savefig('toysat.png', dpi=600)"
   ]
  },
  {
   "cell_type": "code",
   "execution_count": 58,
   "id": "06599592",
   "metadata": {
    "execution": {
     "iopub.execute_input": "2021-10-14T21:55:57.555516Z",
     "iopub.status.busy": "2021-10-14T21:55:57.554511Z",
     "iopub.status.idle": "2021-10-14T21:55:57.559514Z",
     "shell.execute_reply": "2021-10-14T21:55:57.558515Z",
     "shell.execute_reply.started": "2021-10-14T21:55:57.555516Z"
    }
   },
   "outputs": [],
   "source": [
    "discp = {'orbit', 'power', 'payload', 'comms', 'mass', 'prop', 'struct'}"
   ]
  },
  {
   "cell_type": "code",
   "execution_count": 60,
   "id": "ec41bdeb",
   "metadata": {
    "execution": {
     "iopub.execute_input": "2021-10-14T21:56:07.725050Z",
     "iopub.status.busy": "2021-10-14T21:56:07.725050Z",
     "iopub.status.idle": "2021-10-14T21:56:07.737014Z",
     "shell.execute_reply": "2021-10-14T21:56:07.736014Z",
     "shell.execute_reply.started": "2021-10-14T21:56:07.725050Z"
    }
   },
   "outputs": [],
   "source": [
    "varnames = set(DGsys.nodes())-discp;"
   ]
  },
  {
   "cell_type": "code",
   "execution_count": 62,
   "id": "5cf87097",
   "metadata": {
    "execution": {
     "iopub.execute_input": "2021-10-14T21:56:18.069999Z",
     "iopub.status.busy": "2021-10-14T21:56:18.069999Z",
     "iopub.status.idle": "2021-10-14T21:56:18.088998Z",
     "shell.execute_reply": "2021-10-14T21:56:18.087998Z",
     "shell.execute_reply.started": "2021-10-14T21:56:18.069999Z"
    }
   },
   "outputs": [],
   "source": [
    "out = nx.strongly_connected_components(DGsys)"
   ]
  },
  {
   "cell_type": "code",
   "execution_count": 59,
   "id": "5495851a",
   "metadata": {
    "execution": {
     "iopub.execute_input": "2021-10-13T19:49:24.660380Z",
     "iopub.status.busy": "2021-10-13T19:49:24.659376Z",
     "iopub.status.idle": "2021-10-13T19:49:24.688375Z",
     "shell.execute_reply": "2021-10-13T19:49:24.687417Z",
     "shell.execute_reply.started": "2021-10-13T19:49:24.660380Z"
    }
   },
   "outputs": [
    {
     "data": {
      "text/plain": [
       "[{'prop'},\n",
       " {m_s, 'mass', mt, 'struct'},\n",
       " {m_T},\n",
       " {'comms'},\n",
       " {r},\n",
       " {P_T},\n",
       " {m_A},\n",
       " {m_b},\n",
       " {'power'},\n",
       " {d},\n",
       " {a},\n",
       " {T},\n",
       " {'orbit'},\n",
       " {m_p},\n",
       " {D},\n",
       " {'payload'},\n",
       " {h},\n",
       " {A},\n",
       " {P_l},\n",
       " {rho_b},\n",
       " {X_r},\n",
       " {l_v},\n",
       " {rho_p},\n",
       " {T_s},\n",
       " {D_r},\n",
       " {eta},\n",
       " {G_T},\n",
       " {f},\n",
       " {L},\n",
       " {rho_T},\n",
       " {eta_S},\n",
       " {m_pr},\n",
       " {Isp},\n",
       " {C_D}]"
      ]
     },
     "execution_count": 59,
     "metadata": {},
     "output_type": "execute_result"
    }
   ],
   "source": [
    "list(out)"
   ]
  },
  {
   "cell_type": "code",
   "execution_count": 86,
   "id": "ac5bb308",
   "metadata": {
    "execution": {
     "iopub.execute_input": "2021-09-23T13:09:43.869811Z",
     "iopub.status.busy": "2021-09-23T13:09:43.868815Z",
     "iopub.status.idle": "2021-09-23T13:09:50.579554Z",
     "shell.execute_reply": "2021-09-23T13:09:50.577551Z",
     "shell.execute_reply.started": "2021-09-23T13:09:43.869811Z"
    }
   },
   "outputs": [
    {
     "data": {
      "image/png": "[encoded data removed]",
      "text/plain": [
       "<Figure size 1080x1080 with 1 Axes>"
      ]
     },
     "metadata": {},
     "output_type": "display_data"
    }
   ],
   "source": [
    "edge_color='k'\n",
    "width=2\n",
    "arc=False\n",
    "figsize=(15,15)\n",
    "labels = OrderedDict([(elt,r'${}$'.format(str(elt))) for elt in DG.nodes])\n",
    "pos = nx.drawing.nx_pydot.graphviz_layout(DG, prog='neato')\n",
    "plt.figure(figsize=figsize)\n",
    "plt.margins(0.15)\n",
    "nx.draw_networkx_nodes(DG, pos=pos, node_size=1000, node_shape=\"s\",  node_color=\"none\")\n",
    "#https://stackoverflow.com/questions/22785849/drawing-multiple-edges-between-two-nodes-with-networkx\n",
    "connectionstyle = 'arc3, rad = 0.1' if arc else None\n",
    "nx.draw_networkx_edges(DG, pos=pos, arrowsize=20, width=width, \n",
    "    edge_color=edge_color, connectionstyle=connectionstyle)\n",
    "nx.draw_networkx_labels(DG, pos, labels, font_size=20, bbox=dict(facecolor=\"white\", edgecolor='black', boxstyle='round,pad=0.2'))\n",
    "#nx.draw_networkx_labels(DG, pos, labels, font_size=20, bbox=dict(facecolor=\"skyblue\", edgecolor='black', boxstyle='round,pad=0.2'))\n",
    "plt.gca().axis(\"off\");"
   ]
  },
  {
   "cell_type": "code",
   "execution_count": 19,
   "id": "5b991d58",
   "metadata": {
    "execution": {
     "iopub.execute_input": "2021-10-14T01:32:31.272110Z",
     "iopub.status.busy": "2021-10-14T01:32:31.272110Z",
     "iopub.status.idle": "2021-10-14T01:32:31.296107Z",
     "shell.execute_reply": "2021-10-14T01:32:31.295105Z",
     "shell.execute_reply.started": "2021-10-14T01:32:31.272110Z"
    }
   },
   "outputs": [
    {
     "data": {
      "text/plain": [
       "{A, D_r, G_T, L, P_l, X_r, eta, eta_S, f, h, m_pr, rho_T, rho_p}"
      ]
     },
     "execution_count": 19,
     "metadata": {},
     "output_type": "execute_result"
    }
   ],
   "source": [
    "{elt for elt in dins if not elt.never_output}"
   ]
  },
  {
   "cell_type": "code",
   "execution_count": 20,
   "id": "84bd5f0c",
   "metadata": {
    "execution": {
     "iopub.execute_input": "2021-10-14T01:32:31.960326Z",
     "iopub.status.busy": "2021-10-14T01:32:31.960326Z",
     "iopub.status.idle": "2021-10-14T01:32:31.978320Z",
     "shell.execute_reply": "2021-10-14T01:32:31.977318Z",
     "shell.execute_reply.started": "2021-10-14T01:32:31.960326Z"
    }
   },
   "outputs": [],
   "source": [
    "force_input = [EN, Lt]\n",
    "not_input = [A, m_pr, X_r] #allow to vary, meaning can only be output"
   ]
  },
  {
   "cell_type": "code",
   "execution_count": 21,
   "id": "6709cd68",
   "metadata": {
    "execution": {
     "iopub.execute_input": "2021-10-14T01:32:35.140156Z",
     "iopub.status.busy": "2021-10-14T01:32:35.140156Z",
     "iopub.status.idle": "2021-10-14T01:32:35.155155Z",
     "shell.execute_reply": "2021-10-14T01:32:35.154155Z",
     "shell.execute_reply.started": "2021-10-14T01:32:35.140156Z"
    }
   },
   "outputs": [],
   "source": [
    "new_ins = dins.union(force_input) - set(not_input)\n",
    "#new_ins = force_input\n",
    "new_eqv = {key: {elt for elt in outsetposs if not elt in new_ins}\n",
    "        for key, outsetposs in eqv.items()}"
   ]
  },
  {
   "cell_type": "code",
   "execution_count": 210,
   "id": "9ebe90e2",
   "metadata": {
    "execution": {
     "iopub.execute_input": "2021-10-13T21:04:15.224403Z",
     "iopub.status.busy": "2021-10-13T21:04:15.224403Z",
     "iopub.status.idle": "2021-10-13T21:04:15.242930Z",
     "shell.execute_reply": "2021-10-13T21:04:15.241925Z",
     "shell.execute_reply.started": "2021-10-13T21:04:15.224403Z"
    }
   },
   "outputs": [
    {
     "data": {
      "text/plain": [
       "{D_r, EN, G_T, L, Lt, P_l, eta, eta_S, f, h, rho_T, rho_p}"
      ]
     },
     "execution_count": 210,
     "metadata": {},
     "output_type": "execute_result"
    }
   ],
   "source": [
    "{elt for elt in new_ins if not elt.never_output}"
   ]
  },
  {
   "cell_type": "code",
   "execution_count": 211,
   "id": "1e1f77cf",
   "metadata": {
    "execution": {
     "iopub.execute_input": "2021-10-13T21:04:15.945929Z",
     "iopub.status.busy": "2021-10-13T21:04:15.945929Z",
     "iopub.status.idle": "2021-10-13T21:04:15.970928Z",
     "shell.execute_reply": "2021-10-13T21:04:15.967927Z",
     "shell.execute_reply.started": "2021-10-13T21:04:15.945929Z"
    }
   },
   "outputs": [
    {
     "data": {
      "text/plain": [
       "{0: {a},\n",
       " 1: {T, a},\n",
       " 2: {a, g},\n",
       " 3: {d, g},\n",
       " 4: {r},\n",
       " 5: {A, m_A},\n",
       " 6: {A, P_T, d},\n",
       " 7: {P_T},\n",
       " 8: {E_b, P_T, T, d},\n",
       " 9: {E_b, m_b},\n",
       " 10: {D_p, X_r},\n",
       " 11: {D, X_r},\n",
       " 12: {D_p, m_p},\n",
       " 13: {D, T, b},\n",
       " 14: {l_c},\n",
       " 15: {D_T, l_c},\n",
       " 16: {G_r, l_c},\n",
       " 17: {D_T, m_T},\n",
       " 18: {G_r, P_T, b, l_c, r},\n",
       " 19: {m_s, mt},\n",
       " 20: {m_A, m_T, m_b, m_p, m_s, mt},\n",
       " 21: {Hval},\n",
       " 22: {rhoval},\n",
       " 23: {A, Hval, Ln, T, a, mt, rhoval},\n",
       " 24: {A, Lp, a, m_pr, rhoval},\n",
       " 25: {Ln, Lp}}"
      ]
     },
     "execution_count": 211,
     "metadata": {},
     "output_type": "execute_result"
    }
   ],
   "source": [
    "new_eqv"
   ]
  },
  {
   "cell_type": "code",
   "execution_count": 212,
   "id": "ace50354",
   "metadata": {
    "execution": {
     "iopub.execute_input": "2021-10-13T21:04:18.097823Z",
     "iopub.status.busy": "2021-10-13T21:04:18.097823Z",
     "iopub.status.idle": "2021-10-13T21:04:18.118824Z",
     "shell.execute_reply": "2021-10-13T21:04:18.117865Z",
     "shell.execute_reply.started": "2021-10-13T21:04:18.097823Z"
    }
   },
   "outputs": [],
   "source": [
    "G, edges_original = bipartite_repr(new_eqv)"
   ]
  },
  {
   "cell_type": "code",
   "execution_count": 213,
   "id": "e2528c2e",
   "metadata": {
    "execution": {
     "iopub.execute_input": "2021-10-13T21:04:18.672888Z",
     "iopub.status.busy": "2021-10-13T21:04:18.672888Z",
     "iopub.status.idle": "2021-10-13T21:04:18.687405Z",
     "shell.execute_reply": "2021-10-13T21:04:18.686406Z",
     "shell.execute_reply.started": "2021-10-13T21:04:18.672888Z"
    }
   },
   "outputs": [],
   "source": [
    "M = nx.bipartite.maximum_matching(G)"
   ]
  },
  {
   "cell_type": "code",
   "execution_count": 214,
   "id": "0222d231",
   "metadata": {
    "execution": {
     "iopub.execute_input": "2021-10-13T21:04:19.170408Z",
     "iopub.status.busy": "2021-10-13T21:04:19.170408Z",
     "iopub.status.idle": "2021-10-13T21:04:19.191405Z",
     "shell.execute_reply": "2021-10-13T21:04:19.190404Z",
     "shell.execute_reply.started": "2021-10-13T21:04:19.170408Z"
    }
   },
   "outputs": [],
   "source": [
    "allvars = reduce(lambda a,b: a.union(b), new_eqv.values())"
   ]
  },
  {
   "cell_type": "code",
   "execution_count": 215,
   "id": "b16f2be0",
   "metadata": {
    "execution": {
     "iopub.execute_input": "2021-10-13T21:04:19.665930Z",
     "iopub.status.busy": "2021-10-13T21:04:19.664930Z",
     "iopub.status.idle": "2021-10-13T21:04:19.679929Z",
     "shell.execute_reply": "2021-10-13T21:04:19.678930Z",
     "shell.execute_reply.started": "2021-10-13T21:04:19.665930Z"
    }
   },
   "outputs": [],
   "source": [
    "#resolve(new_eqv.keys(), allvars, invert_edges(edges_original))"
   ]
  },
  {
   "cell_type": "code",
   "execution_count": 216,
   "id": "66d3b864",
   "metadata": {
    "execution": {
     "iopub.execute_input": "2021-10-13T21:04:19.920934Z",
     "iopub.status.busy": "2021-10-13T21:04:19.920934Z",
     "iopub.status.idle": "2021-10-13T21:04:19.931932Z",
     "shell.execute_reply": "2021-10-13T21:04:19.930928Z",
     "shell.execute_reply.started": "2021-10-13T21:04:19.920934Z"
    }
   },
   "outputs": [],
   "source": [
    "d = {key:M[key] for key in dout.keys()}"
   ]
  },
  {
   "cell_type": "code",
   "execution_count": 221,
   "id": "f24910de",
   "metadata": {
    "execution": {
     "iopub.execute_input": "2021-10-13T21:05:04.100617Z",
     "iopub.status.busy": "2021-10-13T21:05:04.099619Z",
     "iopub.status.idle": "2021-10-13T21:05:04.137159Z",
     "shell.execute_reply": "2021-10-13T21:05:04.136156Z",
     "shell.execute_reply.started": "2021-10-13T21:05:04.100617Z"
    }
   },
   "outputs": [
    {
     "data": {
      "text/plain": [
       "{0: (a, R + h),\n",
       " 1: (T, 6.28318530717959*(a**3/mu)**0.5),\n",
       " 2: (g, 0.318309886183791*acos(R/a)),\n",
       " 3: (d, g + 0.5),\n",
       " 4: (r, (2*R*h + h**2)**0.5),\n",
       " 5: (m_A, A*eta_A),\n",
       " 6: (P_T, A*Q*d*eta_A),\n",
       " 7: (P_T, P_l),\n",
       " 8: (E_b, P_T*T/d),\n",
       " 9: (m_b, E_b*rho_b),\n",
       " 10: (D_p, 1.22*h*l_v/X_r),\n",
       " 11: (D, 6.28318530717959*B*N*R/X_r),\n",
       " 12: (m_p, D_p**1.5*rho_p),\n",
       " 13: (b, D/T),\n",
       " 14: (l_c, c/f),\n",
       " 15: (D_T, 0.318309886183791*l_c*(G_T/eta)**0.5),\n",
       " 16: (G_r, 9.86960440108936*D_r**2*eta/l_c**2),\n",
       " 17: (m_T, D_T**1.5*rho_T),\n",
       " 18: (EN, 0.00633257397764611*G_T*G_r*P_T*l_c**2/(L*T_s*b*k*r**2)),\n",
       " 19: (m_s, eta_S*mt),\n",
       " 20: (mt, m_A + m_T + m_b + m_p + m_s),\n",
       " 21: (Hval, H(1000.0*h)),\n",
       " 22: (rhoval, rho(1000.0*h)),\n",
       " 23: (Ln, 0.159154943091895*Hval*T*mt/(A*C_D*a**2*rhoval)),\n",
       " 24: (Lp, 2.0*G*Isp*a*m_pr/(A*C_D*mu*rhoval)),\n",
       " 25: (Lt, Ln + Lp)}"
      ]
     },
     "execution_count": 221,
     "metadata": {},
     "output_type": "execute_result"
    }
   ],
   "source": [
    "eqs"
   ]
  },
  {
   "cell_type": "code",
   "execution_count": 217,
   "id": "b3a10ed6",
   "metadata": {
    "execution": {
     "iopub.execute_input": "2021-10-13T21:04:20.441931Z",
     "iopub.status.busy": "2021-10-13T21:04:20.440931Z",
     "iopub.status.idle": "2021-10-13T21:04:21.070930Z",
     "shell.execute_reply": "2021-10-13T21:04:21.067931Z",
     "shell.execute_reply.started": "2021-10-13T21:04:20.441931Z"
    }
   },
   "outputs": [],
   "source": [
    "new_eqs=reassign(eqs, d)\n",
    "new_eqv = eqvars(new_eqs)\n",
    "new_order = mdf_order(new_eqv, d)\n",
    "new_ins = reduce(set.union, new_eqv.values()) - set(d.values())"
   ]
  },
  {
   "cell_type": "code",
   "execution_count": 218,
   "id": "3e0bbbb1",
   "metadata": {
    "execution": {
     "iopub.execute_input": "2021-10-13T21:04:21.516887Z",
     "iopub.status.busy": "2021-10-13T21:04:21.515887Z",
     "iopub.status.idle": "2021-10-13T21:04:21.525888Z",
     "shell.execute_reply": "2021-10-13T21:04:21.524891Z",
     "shell.execute_reply.started": "2021-10-13T21:04:21.516887Z"
    }
   },
   "outputs": [
    {
     "data": {
      "text/plain": [
       "[14,\n",
       " 16,\n",
       " 15,\n",
       " 17,\n",
       " 7,\n",
       " 22,\n",
       " 21,\n",
       " 4,\n",
       " 18,\n",
       " 0,\n",
       " 2,\n",
       " 3,\n",
       " 6,\n",
       " 5,\n",
       " 1,\n",
       " 13,\n",
       " 11,\n",
       " 10,\n",
       " 12,\n",
       " 8,\n",
       " 9,\n",
       " (19, 20),\n",
       " 23,\n",
       " 25,\n",
       " 24]"
      ]
     },
     "execution_count": 218,
     "metadata": {},
     "output_type": "execute_result"
    }
   ],
   "source": [
    "new_order"
   ]
  },
  {
   "cell_type": "code",
   "execution_count": 20,
   "id": "53255cae",
   "metadata": {
    "execution": {
     "iopub.execute_input": "2021-10-24T09:03:14.051198Z",
     "iopub.status.busy": "2021-10-24T09:03:14.050344Z",
     "iopub.status.idle": "2021-10-24T09:03:14.093993Z",
     "shell.execute_reply": "2021-10-24T09:03:14.088991Z",
     "shell.execute_reply.started": "2021-10-24T09:03:14.051198Z"
    }
   },
   "outputs": [],
   "source": [
    "order = mdf_order(eqv, dout)"
   ]
  },
  {
   "cell_type": "code",
   "execution_count": 21,
   "id": "f6c2c632",
   "metadata": {
    "execution": {
     "iopub.execute_input": "2021-10-24T09:03:14.992712Z",
     "iopub.status.busy": "2021-10-24T09:03:14.991709Z",
     "iopub.status.idle": "2021-10-24T09:03:15.001157Z",
     "shell.execute_reply": "2021-10-24T09:03:14.999767Z",
     "shell.execute_reply.started": "2021-10-24T09:03:14.992712Z"
    }
   },
   "outputs": [],
   "source": [
    "#fx(*convert*np.array([c.varval, f.varval]).flatten())/factor"
   ]
  },
  {
   "cell_type": "code",
   "execution_count": 24,
   "id": "839573ae",
   "metadata": {
    "execution": {
     "iopub.execute_input": "2021-10-15T15:03:54.755317Z",
     "iopub.status.busy": "2021-10-15T15:03:54.755317Z",
     "iopub.status.idle": "2021-10-15T15:03:54.774314Z",
     "shell.execute_reply": "2021-10-15T15:03:54.773314Z",
     "shell.execute_reply.started": "2021-10-15T15:03:54.755317Z"
    }
   },
   "outputs": [],
   "source": [
    "#convert, factor"
   ]
  },
  {
   "cell_type": "code",
   "execution_count": 29,
   "id": "4c6b6f8a",
   "metadata": {
    "execution": {
     "iopub.execute_input": "2021-10-15T15:13:36.938550Z",
     "iopub.status.busy": "2021-10-15T15:13:36.938550Z",
     "iopub.status.idle": "2021-10-15T15:13:36.951552Z",
     "shell.execute_reply": "2021-10-15T15:13:36.950550Z",
     "shell.execute_reply.started": "2021-10-15T15:13:36.938550Z"
    }
   },
   "outputs": [
    {
     "data": {
      "text/plain": [
       "13.59090909090909"
      ]
     },
     "execution_count": 29,
     "metadata": {},
     "output_type": "execute_result"
    }
   ],
   "source": [
    "expr = eqs[14][1]\n",
    "input_names = list(expr.free_symbols)\n",
    "fx = sp.lambdify(input_names, expr)\n",
    "evaluable_with_unit(expr, input_names, tovar=eqs[14][0].varunit)(fx)(c.varval, f.varval)"
   ]
  },
  {
   "cell_type": "code",
   "execution_count": 28,
   "id": "70696383",
   "metadata": {
    "execution": {
     "iopub.execute_input": "2021-10-15T15:13:32.227173Z",
     "iopub.status.busy": "2021-10-15T15:13:32.226164Z",
     "iopub.status.idle": "2021-10-15T15:13:32.247165Z",
     "shell.execute_reply": "2021-10-15T15:13:32.246163Z",
     "shell.execute_reply.started": "2021-10-15T15:13:32.227173Z"
    }
   },
   "outputs": [
    {
     "data": {
      "text/plain": [
       "[c, f]"
      ]
     },
     "execution_count": 28,
     "metadata": {},
     "output_type": "execute_result"
    }
   ],
   "source": [
    "input_names"
   ]
  },
  {
   "cell_type": "code",
   "execution_count": 32,
   "id": "bd4c25b9",
   "metadata": {
    "execution": {
     "iopub.execute_input": "2021-10-15T15:14:40.064246Z",
     "iopub.status.busy": "2021-10-15T15:14:40.064246Z",
     "iopub.status.idle": "2021-10-15T15:14:40.078240Z",
     "shell.execute_reply": "2021-10-15T15:14:40.077271Z",
     "shell.execute_reply.started": "2021-10-15T15:14:40.064246Z"
    }
   },
   "outputs": [
    {
     "data": {
      "text/plain": [
       "13.59090909090909"
      ]
     },
     "execution_count": 32,
     "metadata": {},
     "output_type": "execute_result"
    }
   ],
   "source": [
    "Evaluable.fromsympy(eqs[14][1], eqs[14][0]).fx(c.varval, f.varval)"
   ]
  },
  {
   "cell_type": "code",
   "execution_count": 34,
   "id": "ed87d428",
   "metadata": {
    "execution": {
     "iopub.execute_input": "2021-10-24T09:04:55.378310Z",
     "iopub.status.busy": "2021-10-24T09:04:55.376281Z",
     "iopub.status.idle": "2021-10-24T09:04:55.958741Z",
     "shell.execute_reply": "2021-10-24T09:04:55.956830Z",
     "shell.execute_reply.started": "2021-10-24T09:04:55.377306Z"
    }
   },
   "outputs": [
    {
     "name": "stdout",
     "output_type": "stream",
     "text": [
      "eq14 l_c c/f None\n",
      "eq16 G_r 9.86960440108936*D_r**2*eta/l_c**2 None\n",
      "eq15 D_T 0.318309886183791*l_c*(G_T/eta)**0.5 None\n",
      "eq17 m_T D_T**1.5*rho_T None\n",
      "eq5 m_A A*rho_A None\n",
      "eq22 rho_val rho(1000.0*h) None\n",
      "eq21 H_val H(1000.0*h) None\n",
      "eq10 D_p 1.22*h*l_v/X_r None\n",
      "eq12 m_p D_p**1.5*rho_p None\n",
      "eq11 D 6.28318530717959*B*N*R/X_r None\n",
      "eq4 r (2*R*h + h**2)**0.5 None\n",
      "eq0 a R + h None\n",
      "eq24 L_p 2.0*G*Isp*a*m_pr/(A*C_D*mu*rho_val) None\n",
      "eq2 g 0.318309886183791*acos(R/a) None\n",
      "eq3 d g + 0.5 None\n",
      "eq7 P_T P_l None\n",
      "eq1 T 6.28318530717959*(a**3/mu)**0.5 None\n",
      "eq13 b D/T None\n",
      "eq18 EN 0.00633257397764611*G_T*G_r*P_T*l_c**2/(L*T_s*b*k*r**2) None\n",
      "eq8 E_b P_T*T/d None\n",
      "eq9 m_b E_b*rho_b None\n",
      "eq19 m_s eta_S*mt None\n",
      "eq20 mt m_A + m_T + m_b + m_p + m_s None\n",
      "eq23 L_n 0.159154943091895*H_val*T*mt/(A*C_D*a**2*rho_val) None\n",
      "eq25 L_t L_n + L_p None\n",
      "l_c [13.59090909]\n",
      "G_r [8255.00154877]\n",
      "D_T [0.38986773]\n",
      "m_T [0.04868621]\n",
      "m_A [1.]\n",
      "rho_val [2.72e-12]\n",
      "H_val [58200.]\n",
      "D_p [0.0488]\n",
      "m_p [0.02156054]\n",
      "D [16029.66235568]\n",
      "r [2293992.15343035]\n",
      "a [6778.]\n",
      "L_p [0.61835122]\n",
      "g [0.1099015]\n",
      "d [0.6099015]\n",
      "P_T [5.]\n",
      "T [92.55759153]\n",
      "b [2.88643033]\n",
      "EN [97.45812782]\n",
      "E_b [45527.47827853]\n",
      "m_b [0.09105496]\n",
      "m_s [0.2]\n",
      "mt [1.36130171]\n",
      "m_s [0.27226034]\n",
      "mt [1.36130171]\n",
      "m_s [0.29032543]\n",
      "mt [1.45162713]\n",
      "m_s [0.29032543]\n",
      "mt [1.45162713]\n",
      "L_n [0.08607218]\n",
      "L_t [0.7044234]\n"
     ]
    }
   ],
   "source": [
    "prob = om.Problem()\n",
    "model = prob.model\n",
    "dins = default_in(eqs)\n",
    "buildidpvars(dins, model)\n",
    "counter = coupled_run(eqs, order, (), model, model, debug=True)\n",
    "prob.setup()\n",
    "prob.set_solver_print(level=0)\n",
    "prob.set_val('A', 0.1)\n",
    "prob.set_val('h', 400)\n",
    "prob.set_val('m_pr', 0.5)\n",
    "prob.run_model()"
   ]
  },
  {
   "cell_type": "code",
   "execution_count": 39,
   "id": "11de6556",
   "metadata": {
    "execution": {
     "iopub.execute_input": "2021-10-24T09:08:00.694488Z",
     "iopub.status.busy": "2021-10-24T09:08:00.692860Z",
     "iopub.status.idle": "2021-10-24T09:08:00.728622Z",
     "shell.execute_reply": "2021-10-24T09:08:00.724562Z",
     "shell.execute_reply.started": "2021-10-24T09:08:00.694488Z"
    }
   },
   "outputs": [],
   "source": [
    "out = get_outputs(eqs, model)"
   ]
  },
  {
   "cell_type": "code",
   "execution_count": 35,
   "id": "1be7af5b",
   "metadata": {
    "execution": {
     "iopub.execute_input": "2021-10-24T09:04:58.710808Z",
     "iopub.status.busy": "2021-10-24T09:04:58.709808Z",
     "iopub.status.idle": "2021-10-24T09:04:58.861511Z",
     "shell.execute_reply": "2021-10-24T09:04:58.857501Z",
     "shell.execute_reply.started": "2021-10-24T09:04:58.710808Z"
    }
   },
   "outputs": [
    {
     "name": "stdout",
     "output_type": "stream",
     "text": [
      "53 Explicit Output(s) in 'model'\n",
      "\n",
      "varname      val               \n",
      "-----------  ------------------\n",
      "inp\n",
      "  R          [6378.]           \n",
      "  Isp        [70.]             \n",
      "  P_l        [5.]              \n",
      "  c          [2.99e+08]        \n",
      "  k          [1.38064852e-23]  \n",
      "  L          [9.77]            \n",
      "  T_s        [135.]            \n",
      "  rho_A      [10.]             \n",
      "  C_D        [2.2]             \n",
      "  eta_A      [0.3]             \n",
      "  D_r        [5.3]             \n",
      "  f          [2.2]             \n",
      "  B          [8.]              \n",
      "  X_r        [5.]              \n",
      "  h          [400.]            \n",
      "  m_pr       [0.5]             \n",
      "  G          [9.81]            \n",
      "  eta_S      [0.2]             \n",
      "  l_v        [500.]            \n",
      "  Q          [1367.]           \n",
      "  N          [2000.]           \n",
      "  G_T        [44.66835922]     \n",
      "  A          [0.1]             \n",
      "  eta        [0.55]            \n",
      "  mu         [3.986005e+14]    \n",
      "  rho_b      [0.002]           \n",
      "  rho_T      [0.2]             \n",
      "  rho_p      [2.]              \n",
      "group1\n",
      "  eq14\n",
      "    l_c      [13.59090909]     \n",
      "  eq16\n",
      "    G_r      [8255.00154877]   \n",
      "  eq15\n",
      "    D_T      [0.38986773]      \n",
      "  eq17\n",
      "    m_T      [0.04868621]      \n",
      "  eq5\n",
      "    m_A      [1.]              \n",
      "  eq22\n",
      "    rho_val  [2.72e-12]        \n",
      "  eq21\n",
      "    H_val    [58200.]          \n",
      "  eq10\n",
      "    D_p      [0.0488]          \n",
      "  eq12\n",
      "    m_p      [0.02156054]      \n",
      "  eq11\n",
      "    D        [16029.66235568]  \n",
      "  eq4\n",
      "    r        [2293992.15343035]\n",
      "  eq0\n",
      "    a        [6778.]           \n",
      "  eq24\n",
      "    L_p      [0.61835122]      \n",
      "  eq2\n",
      "    g        [0.1099015]       \n",
      "  eq3\n",
      "    d        [0.6099015]       \n",
      "  eq7\n",
      "    P_T      [5.]              \n",
      "  eq1\n",
      "    T        [92.55759153]     \n",
      "  eq13\n",
      "    b        [2.88643033]      \n",
      "  eq18\n",
      "    EN       [97.45812782]     \n",
      "  eq8\n",
      "    E_b      [45527.47827853]  \n",
      "  eq9\n",
      "    m_b      [0.09105496]      \n",
      "  group2\n",
      "    eq19\n",
      "      m_s    [0.29032543]      \n",
      "    eq20\n",
      "      mt     [1.45162713]      \n",
      "  eq23\n",
      "    L_n      [0.08607218]      \n",
      "  eq25\n",
      "    L_t      [0.7044234]       \n",
      "\n",
      "\n",
      "0 Implicit Output(s) in 'model'\n",
      "\n",
      "\n"
     ]
    }
   ],
   "source": [
    "model.list_outputs();"
   ]
  },
  {
   "cell_type": "code",
   "execution_count": 161,
   "id": "99fe9350",
   "metadata": {
    "execution": {
     "iopub.execute_input": "2021-10-13T20:40:53.946689Z",
     "iopub.status.busy": "2021-10-13T20:40:53.945674Z",
     "iopub.status.idle": "2021-10-13T20:40:53.958197Z",
     "shell.execute_reply": "2021-10-13T20:40:53.957236Z",
     "shell.execute_reply.started": "2021-10-13T20:40:53.946689Z"
    }
   },
   "outputs": [
    {
     "data": {
      "text/plain": [
       "[14,\n",
       " 16,\n",
       " 15,\n",
       " 17,\n",
       " 7,\n",
       " 11,\n",
       " (13, 1, 0, 4, 18),\n",
       " 22,\n",
       " 21,\n",
       " 10,\n",
       " 12,\n",
       " 2,\n",
       " 3,\n",
       " 8,\n",
       " 9,\n",
       " 6,\n",
       " 5,\n",
       " (19, 20),\n",
       " 23,\n",
       " 25,\n",
       " 24]"
      ]
     },
     "execution_count": 161,
     "metadata": {},
     "output_type": "execute_result"
    }
   ],
   "source": [
    "new_order"
   ]
  },
  {
   "cell_type": "code",
   "execution_count": 168,
   "id": "279a13df",
   "metadata": {
    "execution": {
     "iopub.execute_input": "2021-09-22T19:09:45.813218Z",
     "iopub.status.busy": "2021-09-22T19:09:45.812219Z",
     "iopub.status.idle": "2021-09-22T19:09:45.819220Z",
     "shell.execute_reply": "2021-09-22T19:09:45.817219Z",
     "shell.execute_reply.started": "2021-09-22T19:09:45.813218Z"
    }
   },
   "outputs": [],
   "source": [
    "allvars = reduce(lambda a,b: a.union(b), new_eqv.values())"
   ]
  },
  {
   "cell_type": "code",
   "execution_count": 169,
   "id": "e01cbf6b",
   "metadata": {
    "execution": {
     "iopub.execute_input": "2021-09-22T19:09:46.116235Z",
     "iopub.status.busy": "2021-09-22T19:09:46.115226Z",
     "iopub.status.idle": "2021-09-22T19:09:46.131223Z",
     "shell.execute_reply": "2021-09-22T19:09:46.130224Z",
     "shell.execute_reply.started": "2021-09-22T19:09:46.116235Z"
    }
   },
   "outputs": [],
   "source": [
    "G, edges_original = bipartite_repr(new_eqv)"
   ]
  },
  {
   "cell_type": "code",
   "execution_count": 170,
   "id": "eaa41a8c",
   "metadata": {
    "execution": {
     "iopub.execute_input": "2021-09-22T19:09:46.447222Z",
     "iopub.status.busy": "2021-09-22T19:09:46.447222Z",
     "iopub.status.idle": "2021-09-22T19:09:48.178889Z",
     "shell.execute_reply": "2021-09-22T19:09:48.177888Z",
     "shell.execute_reply.started": "2021-09-22T19:09:46.447222Z"
    }
   },
   "outputs": [
    {
     "data": {
      "image/png": "[encoded data removed]",
      "text/plain": [
       "<Figure size 288x360 with 1 Axes>"
      ]
     },
     "metadata": {},
     "output_type": "display_data"
    }
   ],
   "source": [
    "drawbipartite(G, left_nodes=allvars, M=M)"
   ]
  },
  {
   "cell_type": "code",
   "execution_count": 171,
   "id": "fc314cf4",
   "metadata": {
    "execution": {
     "iopub.execute_input": "2021-09-22T19:09:48.764896Z",
     "iopub.status.busy": "2021-09-22T19:09:48.763888Z",
     "iopub.status.idle": "2021-09-22T19:09:48.778887Z",
     "shell.execute_reply": "2021-09-22T19:09:48.777896Z",
     "shell.execute_reply.started": "2021-09-22T19:09:48.764896Z"
    }
   },
   "outputs": [],
   "source": [
    "M = nx.bipartite.maximum_matching(G)"
   ]
  },
  {
   "cell_type": "code",
   "execution_count": 172,
   "id": "2f0eeb85",
   "metadata": {
    "execution": {
     "iopub.execute_input": "2021-09-22T19:09:53.254938Z",
     "iopub.status.busy": "2021-09-22T19:09:53.254938Z",
     "iopub.status.idle": "2021-09-22T19:09:53.259936Z",
     "shell.execute_reply": "2021-09-22T19:09:53.258935Z",
     "shell.execute_reply.started": "2021-09-22T19:09:53.254938Z"
    }
   },
   "outputs": [],
   "source": [
    "dout_new = {key:M[key] for key in dout.keys()}"
   ]
  },
  {
   "cell_type": "code",
   "execution_count": 173,
   "id": "4690ddb5",
   "metadata": {
    "execution": {
     "iopub.execute_input": "2021-09-22T19:10:01.916338Z",
     "iopub.status.busy": "2021-09-22T19:10:01.916338Z",
     "iopub.status.idle": "2021-09-22T19:10:02.229863Z",
     "shell.execute_reply": "2021-09-22T19:10:02.228871Z",
     "shell.execute_reply.started": "2021-09-22T19:10:01.916338Z"
    }
   },
   "outputs": [],
   "source": [
    "new_eqs=reassign(eqs, dout_new)\n",
    "new_eqv = eqvars(new_eqs)"
   ]
  },
  {
   "cell_type": "code",
   "execution_count": 181,
   "id": "9c34ec8c",
   "metadata": {
    "execution": {
     "iopub.execute_input": "2021-09-22T19:35:53.627137Z",
     "iopub.status.busy": "2021-09-22T19:35:53.626131Z",
     "iopub.status.idle": "2021-09-22T19:35:53.634088Z",
     "shell.execute_reply": "2021-09-22T19:35:53.633090Z",
     "shell.execute_reply.started": "2021-09-22T19:35:53.627137Z"
    }
   },
   "outputs": [],
   "source": [
    "G, edges = digraph_repr(new_eqv, dout_new, intermediary=True)"
   ]
  },
  {
   "cell_type": "code",
   "execution_count": 129,
   "id": "784a8b02",
   "metadata": {
    "execution": {
     "iopub.execute_input": "2021-09-22T19:06:07.211296Z",
     "iopub.status.busy": "2021-09-22T19:06:07.211296Z",
     "iopub.status.idle": "2021-09-22T19:06:07.228297Z",
     "shell.execute_reply": "2021-09-22T19:06:07.227295Z",
     "shell.execute_reply.started": "2021-09-22T19:06:07.211296Z"
    }
   },
   "outputs": [
    {
     "data": {
      "text/plain": [
       "[6, 2, 3, 5, 1, 7, 0, 4]"
      ]
     },
     "execution_count": 129,
     "metadata": {},
     "output_type": "execute_result"
    }
   ],
   "source": [
    "order"
   ]
  },
  {
   "cell_type": "code",
   "execution_count": null,
   "id": "4440e6aa",
   "metadata": {},
   "outputs": [],
   "source": [
    "g1 = lambda d, A, η_A, P_T: d*A*η_A*Q-P_T-P_l # positive\n",
    "g2 = lambda E_b, d, T, P_T: E_b-1/d*P_T*T\n",
    "def g3(T, P_T, G_T, r):\n",
    "    D = 2*np.pi*R*B*N/X_r\n",
    "    b = D/T\n",
    "    #print(b/(8*1e6)) #Mb/s\n",
    "    #D_T = λ_c*np.sqrt(G_T/η)/np.pi\n",
    "    λ_c = c/f\n",
    "    G_r = η*(np.pi*D_r/λ_c)**2\n",
    "    #print(G_r, P_T, G_T)\n",
    "    EN_calc = P_T*G_r*G_T/(L*k*T_s*b)*(λ_c/(4*np.pi*r))**2\n",
    "    #print(EN_calc)\n",
    "    #print(10*np.log10(EN_calc)-10*np.log10(EN))\n",
    "    return 10*np.log10(EN_calc)-10*np.log10(EN)\n",
    "def f4(a, T, A, ρ_A, m_s, m_T, m_p, m_b, m_pr, choice):\n",
    "    T_g = 3*μ/(2*a**3)*c_W\n",
    "    if choice:\n",
    "        m_torque = ρ_P2*T*T_g*1/4*np.sqrt(2)/2*3*365*L_min/(G*I_sp)\n",
    "    else:\n",
    "        m_torque = ρ_M*T_g\n",
    "    m_A=ρ_A*A\n",
    "    #print(m_s, m_T, m_p, m_b, m_pr, m_A, m_torque)\n",
    "    return m_s+m_T+m_c+m_A+m_p+m_b+m_torque+m_pr\n",
    "def g4(h, a, A, T, mt, m_pr):\n",
    "    Ln = H(h)*mt/(2*np.pi*C_D*A*ρ(h)*a**2)*T\n",
    "    #Ln2 = H(h)*3./(2*np.pi*C_D*.06603*ρ(h)*a**2)*T\n",
    "    #print('density', ρ(h))\n",
    "    #print('scale height', H(h))\n",
    "    #print('prop mass', m_pr)\n",
    "    #print('area', A)\n",
    "    #print('mt', mt)\n",
    "    Lp = m_pr*I_sp*G*a/(0.5*C_D*A*ρ(h)*μ)\n",
    "    #Lp2 = 1.3911*I_sp*G*a/(0.5*C_D*.06603*ρ(h)*μ)\n",
    "    #print(Ln*toyear, Lp*toyear)\n",
    "    #print(Ln2*toyear, Lp2*toyear)\n",
    "    return (Ln+Lp)*toyear-L_min\n",
    "h5 = lambda ms, mt: ms - η_S*mt"
   ]
  }
 ],
 "metadata": {
  "kernelspec": {
   "display_name": "mdo",
   "language": "python",
   "name": "mdo"
  },
  "language_info": {
   "codemirror_mode": {
    "name": "ipython",
    "version": 3
   },
   "file_extension": ".py",
   "mimetype": "text/x-python",
   "name": "python",
   "nbconvert_exporter": "python",
   "pygments_lexer": "ipython3",
   "version": "3.8.12"
  }
 },
 "nbformat": 4,
 "nbformat_minor": 5
}
