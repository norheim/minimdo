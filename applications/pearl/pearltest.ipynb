{
 "cells": [
  {
   "cell_type": "code",
   "execution_count": null,
   "metadata": {},
   "outputs": [],
   "source": [
    "from foundations.projectables import ProjectableModel\n",
    "from modeling.compute import create_vars\n",
    "from numpy import pi\n",
    "import numpy as np\n",
    "from foundations.coupledgrad import pure_functions, coupled_functions\n",
    "from foundations.coupledgrad import solver, concat, compose, eliminate, couplingvars\n",
    "np.set_printoptions(suppress=True)"
   ]
  },
  {
   "cell_type": "markdown",
   "metadata": {},
   "source": [
    "## Hydro"
   ]
  },
  {
   "cell_type": "code",
   "execution_count": 2,
   "metadata": {},
   "outputs": [],
   "source": [
    "Df, Ds, Dd, tf, ts, td, hf, mtot = create_vars('Df Ds Dd tf ts td hf m_{platform}')\n",
    "g, rhow = 9.81, 1023.6\n",
    "\n",
    "Hydro = ProjectableModel()\n",
    "Vd = Hydro.Var('Vd', pi/4*(Df**2*hf+Ds**2*ts+Dd**2*td))\n",
    "FB = Hydro.Var('F_B', rhow*Vd*g)\n",
    "FW = Hydro.Var('F_W', FB)\n",
    "# center of buoyancy above the keel calculations\n",
    "xd,xs = td/2,td+ts/2\n",
    "xf1,xf2 = td+ts+hf/2, td+ts+tf/2\n",
    "totA1, totA2 = hf*Df+ts*Ds+td*Dd, tf*Df+ts*Ds+td*Dd\n",
    "KB = Hydro.Var('K_B', (hf*Df*xf1+ts*Ds*xs+td*Dd*xd)/totA1) \n",
    "KG = Hydro.Var('K_G', (tf*Df*xf2+ts*Ds*xs+td*Dd*xd)/totA2) \n",
    "I = Hydro.Var('I', pi/64*Df**4)\n",
    "BM = Hydro.Var('B_M', I/Vd)\n",
    "#should be 3-5% according to http://web.mit.edu/13.012/www/handouts/Reading3.pdf\n",
    "GM = Hydro.Var('G_M', KB+BM-KG) \n",
    "C33 = Hydro.Var('C_{33}', pi*rhow*g/4*Df**2)\n",
    "A33 = Hydro.Var('A_{33}', 0.0525*pi*rhow*(Dd**3+Ds**3+Df**3))\n",
    "omega0 = Hydro.Var('\\omega_0', (C33/(A33+mtot))**1/2)"
   ]
  },
  {
   "cell_type": "code",
   "execution_count": 3,
   "metadata": {},
   "outputs": [],
   "source": [
    "eqs = [(p.right, p.var) for p in Hydro.projectables]"
   ]
  },
  {
   "cell_type": "code",
   "execution_count": 4,
   "metadata": {},
   "outputs": [],
   "source": [
    "fis =coupled_functions(eqs)\n",
    "Hydro_data, Rdata = compose(fis)"
   ]
  },
  {
   "cell_type": "code",
   "execution_count": 5,
   "metadata": {},
   "outputs": [
    {
     "data": {
      "text/plain": [
       "array([    1.47654855, 14826.78586136, 14826.78586136,     0.235     ,\n",
       "           0.15      ,     0.78539816,     0.53191489,     0.61691489,\n",
       "       31546.3528965 ,  4051.82514267,     3.25097793,     2.        ,\n",
       "           2.        ,     2.        ,     0.27      ,     0.1       ,\n",
       "           0.1       ,     0.1       ,   800.        ])"
      ]
     },
     "execution_count": 5,
     "metadata": {},
     "output_type": "execute_result"
    }
   ],
   "source": [
    "x0 = {Df:2, Ds:2, Dd:2, tf:0.1, ts:0.1, td:0.1, hf:0.9*0.3, \n",
    "      mtot:800}\n",
    "x0arr = [x0[vr] for vr in Hydro_data[2]]\n",
    "np.array(Hydro_data[0](x0arr))"
   ]
  },
  {
   "cell_type": "markdown",
   "metadata": {},
   "source": [
    "## Mass"
   ]
  },
  {
   "cell_type": "code",
   "execution_count": 6,
   "metadata": {},
   "outputs": [],
   "source": [
    "mbatt, A_s = create_vars('m_{batt} A_s')\n",
    "mprop, mcomms, eta_solar, rho, rhoh = 20, 20, 10, 700, 2700\n",
    "Mass = ProjectableModel()\n",
    "Mass.add_equation(mtot, FW/g)\n",
    "msolar = Mass.Var('m_{solar}', eta_solar*A_s)\n",
    "mstruct = Mass.Var('m_{struct}', mtot-mbatt-msolar-mcomms-mprop) \n",
    "Mass.add_equation(td, (4/pi*mstruct-Df**2*tf*rho-Ds**2*ts*rho)/(Dd**2*rhoh))"
   ]
  },
  {
   "cell_type": "code",
   "execution_count": 7,
   "metadata": {},
   "outputs": [],
   "source": [
    "eqs = [(p.right, p.var) for p in Mass.projectables]\n",
    "fis =coupled_functions(eqs)\n",
    "Mass_data, _ = compose(fis)"
   ]
  },
  {
   "cell_type": "markdown",
   "metadata": {},
   "source": [
    "# Coupled"
   ]
  },
  {
   "cell_type": "code",
   "execution_count": 8,
   "metadata": {},
   "outputs": [],
   "source": [
    "eqs = [(p.right, p.var) for p in Hydro.projectables+Mass.projectables]\n",
    "Fdata = coupled_functions(eqs)\n",
    "Rdata = pure_functions([right-left for right, left in eqs])\n"
   ]
  },
  {
   "cell_type": "code",
   "execution_count": 9,
   "metadata": {},
   "outputs": [],
   "source": [
    "feed_forward, residual_functions, solvevars = couplingvars(Fdata, Rdata)"
   ]
  },
  {
   "cell_type": "code",
   "execution_count": 10,
   "metadata": {},
   "outputs": [],
   "source": [
    "Rreduced = solver(residual_functions, solvevars, [[1000,1]], \n",
    "                                             eliminate=feed_forward)"
   ]
  },
  {
   "cell_type": "code",
   "execution_count": 11,
   "metadata": {},
   "outputs": [],
   "source": [
    "x0.update({mbatt:100, A_s:0.5})\n",
    "x0arr = [x0[vr] for vr in Rreduced[2]]\n",
    "zout = np.array(Rreduced[0](x0arr))"
   ]
  },
  {
   "cell_type": "code",
   "execution_count": 12,
   "metadata": {},
   "outputs": [],
   "source": [
    "x0s={key:val for key,val in zip(solvevars,zout)}"
   ]
  },
  {
   "cell_type": "code",
   "execution_count": 23,
   "metadata": {},
   "outputs": [],
   "source": [
    "y0 = {**x0, **x0s}\n",
    "yH0 = [y0[vr] for vr in Hydro_data[2]]\n",
    "zH = {key:val for key,val in zip(Hydro_data[1], np.array(Hydro_data[0](yH0)))}"
   ]
  },
  {
   "cell_type": "code",
   "execution_count": 27,
   "metadata": {},
   "outputs": [],
   "source": [
    "z0 = {**x0, **zH}\n",
    "yM0 = [z0[vr] for vr in Mass_data[2]]\n",
    "zM = {key:val for key,val in zip(Mass_data[1], np.array(Mass_data[0](yM0)))}"
   ]
  },
  {
   "cell_type": "code",
   "execution_count": 28,
   "metadata": {},
   "outputs": [
    {
     "data": {
      "text/plain": [
       "{Vd: 1.5232808932436375,\n",
       " F_B: 15296.049462000277,\n",
       " F_W: 15296.049462000277,\n",
       " K_B: 0.24243768387716275,\n",
       " K_G: 0.15743768387716273,\n",
       " I: 0.785398163397448,\n",
       " B_M: 0.5155964122447831,\n",
       " G_M: 0.6005964122447831,\n",
       " C_{33}: 31546.35289650436,\n",
       " A_{33}: 4051.825142670288,\n",
       " \\omega_0: 2.811089027127928,\n",
       " Dd: 2.0,\n",
       " Df: 2.0,\n",
       " Ds: 2.0,\n",
       " hf: 0.27,\n",
       " td: 0.11487536775432543,\n",
       " ts: 0.1,\n",
       " tf: 0.1,\n",
       " m_{platform}: 1559.2303223241934}"
      ]
     },
     "execution_count": 28,
     "metadata": {},
     "output_type": "execute_result"
    }
   ],
   "source": [
    "zH"
   ]
  },
  {
   "cell_type": "code",
   "execution_count": 29,
   "metadata": {},
   "outputs": [
    {
     "data": {
      "text/plain": [
       "{m_{platform}: 1559.2303223241934,\n",
       " m_{solar}: 5.0,\n",
       " m_{struct}: 1414.2303223241934,\n",
       " td: 0.11487536775432543,\n",
       " F_W: 15296.049462000277,\n",
       " A_s: 0.5,\n",
       " m_{batt}: 100.0,\n",
       " Dd: 2.0,\n",
       " Df: 2.0,\n",
       " Ds: 2.0,\n",
       " tf: 0.1,\n",
       " ts: 0.1}"
      ]
     },
     "execution_count": 29,
     "metadata": {},
     "output_type": "execute_result"
    }
   ],
   "source": [
    "zM"
   ]
  },
  {
   "cell_type": "code",
   "execution_count": null,
   "metadata": {},
   "outputs": [],
   "source": []
  }
 ],
 "metadata": {
  "kernelspec": {
   "display_name": "minimdo",
   "language": "python",
   "name": "python3"
  },
  "language_info": {
   "codemirror_mode": {
    "name": "ipython",
    "version": 3
   },
   "file_extension": ".py",
   "mimetype": "text/x-python",
   "name": "python",
   "nbconvert_exporter": "python",
   "pygments_lexer": "ipython3",
   "version": "3.9.12"
  }
 },
 "nbformat": 4,
 "nbformat_minor": 2
}
