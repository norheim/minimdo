{
 "cells": [
  {
   "cell_type": "code",
   "execution_count": 1,
   "id": "933ed0e5-5dd9-44be-8954-5e8f56f2d1a7",
   "metadata": {
    "execution": {
     "iopub.execute_input": "2022-06-23T02:06:57.738165Z",
     "iopub.status.busy": "2022-06-23T02:06:57.738165Z",
     "iopub.status.idle": "2022-06-23T02:06:58.366321Z",
     "shell.execute_reply": "2022-06-23T02:06:58.366321Z",
     "shell.execute_reply.started": "2022-06-23T02:06:57.738165Z"
    },
    "tags": []
   },
   "outputs": [],
   "source": [
    "import jax\n",
    "jax.config.update('jax_platform_name', 'cpu')"
   ]
  },
  {
   "cell_type": "code",
   "execution_count": 80,
   "id": "52fc43ba-7ada-4ba4-934d-e8a705891e91",
   "metadata": {
    "execution": {
     "iopub.execute_input": "2022-06-23T02:14:50.056570Z",
     "iopub.status.busy": "2022-06-23T02:14:50.056570Z",
     "iopub.status.idle": "2022-06-23T02:14:50.073310Z",
     "shell.execute_reply": "2022-06-23T02:14:50.072057Z",
     "shell.execute_reply.started": "2022-06-23T02:14:50.056570Z"
    },
    "tags": []
   },
   "outputs": [],
   "source": [
    "from compute import Var, Par\n",
    "from datastructures.api import Model, adda, addf, addsolver, setsolvefor\n",
    "from datastructures.execution import edges_from_components\n",
    "from datastructures.graphutils import namefromsympy, dfs_tree, SOLVER, VAR, COMP, nested_sources, sources, edges_to_Ein_Eout, flat_graph_formulation, root_solver\n",
    "from datastructures.nestedgraph import root_sources\n",
    "from datastructures.execution import generate_components_and_residuals\n",
    "from datastructures.workflow import get_f, order_from_tree, default_solver_options, mdao_workflow, implicit_comp_name\n",
    "from datastructures.workflow_mdao import mdao_workflow_with_args\n",
    "from datastructures.operators import sort_scc, reorder_merge_solve\n",
    "from datastructures.assembly import build_archi\n",
    "import openmdao.api as om\n",
    "from datastructures.api import evalexpr\n",
    "from collections import OrderedDict\n",
    "import matplotlib.pyplot as plt"
   ]
  },
  {
   "cell_type": "code",
   "execution_count": 3,
   "id": "c81bd544-027e-4ab8-b9c9-5e8ec0eae14a",
   "metadata": {
    "execution": {
     "iopub.execute_input": "2022-06-23T02:06:59.791566Z",
     "iopub.status.busy": "2022-06-23T02:06:59.791566Z",
     "iopub.status.idle": "2022-06-23T02:06:59.806196Z",
     "shell.execute_reply": "2022-06-23T02:06:59.806196Z",
     "shell.execute_reply.started": "2022-06-23T02:06:59.791566Z"
    },
    "tags": []
   },
   "outputs": [],
   "source": [
    "from sympy import cos, pi"
   ]
  },
  {
   "cell_type": "markdown",
   "id": "a81c303f-fab7-4357-8ca2-5cf1140e9ace",
   "metadata": {
    "tags": []
   },
   "source": [
    "# Mahas formulation with residuals"
   ]
  },
  {
   "cell_type": "code",
   "execution_count": 4,
   "id": "99f9e1b2-9b16-4720-bb45-edfb3c1bef50",
   "metadata": {
    "execution": {
     "iopub.execute_input": "2022-06-23T02:06:59.806196Z",
     "iopub.status.busy": "2022-06-23T02:06:59.806196Z",
     "iopub.status.idle": "2022-06-23T02:06:59.816224Z",
     "shell.execute_reply": "2022-06-23T02:06:59.816224Z",
     "shell.execute_reply.started": "2022-06-23T02:06:59.806196Z"
    },
    "tags": []
   },
   "outputs": [],
   "source": [
    "Df = Var('D_f', 2, unit='m')\n",
    "Ds = Var('D_s', 1, unit='m')\n",
    "Dd = Var('D_d', 1.25, unit='m')\n",
    "tf = Var('t_f', 0.5, unit='m')\n",
    "ts = Var('t_s', 2, unit='m')\n",
    "td = Var('t_d', 0.5, unit='m')"
   ]
  },
  {
   "cell_type": "code",
   "execution_count": 5,
   "id": "1fb7aaf2-a4e9-4c0a-a057-caa9de84b017",
   "metadata": {
    "execution": {
     "iopub.execute_input": "2022-06-23T02:06:59.824333Z",
     "iopub.status.busy": "2022-06-23T02:06:59.821233Z",
     "iopub.status.idle": "2022-06-23T02:06:59.836051Z",
     "shell.execute_reply": "2022-06-23T02:06:59.836051Z",
     "shell.execute_reply.started": "2022-06-23T02:06:59.824333Z"
    },
    "tags": []
   },
   "outputs": [],
   "source": [
    "rhow = Par(r'\\rho_w', 1023.6, 'kg/m^3') # density of seawater [kg/m^3]\n",
    "rho = Var(r'\\rho', 700, 'kg/m^3')       # arbitrarily set\n",
    "rhoh = Var(r'\\rho_h', 2700, 'kg/m^3')   # arbitrarily set"
   ]
  },
  {
   "cell_type": "code",
   "execution_count": 6,
   "id": "132c5619-6613-4860-821b-0a4f97a5d60c",
   "metadata": {
    "execution": {
     "iopub.execute_input": "2022-06-23T02:06:59.837104Z",
     "iopub.status.busy": "2022-06-23T02:06:59.837104Z",
     "iopub.status.idle": "2022-06-23T02:06:59.846101Z",
     "shell.execute_reply": "2022-06-23T02:06:59.846046Z",
     "shell.execute_reply.started": "2022-06-23T02:06:59.837104Z"
    },
    "tags": []
   },
   "outputs": [],
   "source": [
    "model = Model()\n",
    "m = model.root"
   ]
  },
  {
   "cell_type": "markdown",
   "id": "bfca70cc-be16-4f87-b739-478313c807b2",
   "metadata": {},
   "source": [
    "## Mass budget"
   ]
  },
  {
   "cell_type": "code",
   "execution_count": 7,
   "id": "2a6914a4-51c9-4954-a2b1-41639862664a",
   "metadata": {
    "execution": {
     "iopub.execute_input": "2022-06-23T02:06:59.846101Z",
     "iopub.status.busy": "2022-06-23T02:06:59.846101Z",
     "iopub.status.idle": "2022-06-23T02:07:00.066157Z",
     "shell.execute_reply": "2022-06-23T02:07:00.066157Z",
     "shell.execute_reply.started": "2022-06-23T02:06:59.846101Z"
    },
    "tags": []
   },
   "outputs": [],
   "source": [
    "Vtot = adda(m, 'Vtot', pi/4*(Df**2*tf+Ds**2*ts+Dd**2*td))\n",
    "mstruct = adda(m, 'm_{struct}', pi/4*(Df**2*tf*rho+Ds**2*ts*rho+Dd**2*td*rhoh)) # mass of structure"
   ]
  },
  {
   "cell_type": "code",
   "execution_count": 8,
   "id": "8768f0b7-e955-44a0-be9a-1a60e915803a",
   "metadata": {
    "execution": {
     "iopub.execute_input": "2022-06-23T02:07:00.066157Z",
     "iopub.status.busy": "2022-06-23T02:07:00.066157Z",
     "iopub.status.idle": "2022-06-23T02:07:00.156799Z",
     "shell.execute_reply": "2022-06-23T02:07:00.156299Z",
     "shell.execute_reply.started": "2022-06-23T02:07:00.066157Z"
    },
    "tags": []
   },
   "outputs": [],
   "source": [
    "mbatt = Var('m_{batt}', unit='kg')\n",
    "eta_solar = Par(r'\\eta_{solar}', 10, 'kg/m^2')\n",
    "A_s = Var('A_{solar}', unit='m^2')\n",
    "msolar = adda(m, 'm_{solar}', eta_solar*A_s)\n",
    "mprop = Par('m_{prop}', 50, 'kg') # mass of propulsion\n",
    "mcomms = Par('m_{comms}', 50, 'kg') # mass of comms system\n",
    "mtot = adda(m, 'm_{platform}', mbatt+msolar+mcomms+mprop+mstruct) \n",
    "g = Par('g', 9.81, 'm/s^2')\n",
    "FW = adda(m, 'F_W', mtot*g, 'N')"
   ]
  },
  {
   "cell_type": "markdown",
   "id": "141020d8-f797-4e9d-b975-5e8cddc7605a",
   "metadata": {},
   "source": [
    "## Hydrostatic stability"
   ]
  },
  {
   "cell_type": "code",
   "execution_count": 9,
   "id": "58c956c7-bcf1-472c-8d84-09ad45ac69eb",
   "metadata": {
    "execution": {
     "iopub.execute_input": "2022-06-23T02:07:00.158202Z",
     "iopub.status.busy": "2022-06-23T02:07:00.158202Z",
     "iopub.status.idle": "2022-06-23T02:07:00.166265Z",
     "shell.execute_reply": "2022-06-23T02:07:00.166154Z",
     "shell.execute_reply.started": "2022-06-23T02:07:00.158202Z"
    },
    "tags": []
   },
   "outputs": [],
   "source": [
    "#hf = Var('h_f', 0.5, 'm')"
   ]
  },
  {
   "cell_type": "code",
   "execution_count": 10,
   "id": "6fd50404-9443-45bb-b78d-19f8db42e740",
   "metadata": {
    "execution": {
     "iopub.execute_input": "2022-06-23T02:07:00.168261Z",
     "iopub.status.busy": "2022-06-23T02:07:00.168261Z",
     "iopub.status.idle": "2022-06-23T02:07:00.226623Z",
     "shell.execute_reply": "2022-06-23T02:07:00.226431Z",
     "shell.execute_reply.started": "2022-06-23T02:07:00.168261Z"
    },
    "tags": []
   },
   "outputs": [],
   "source": [
    "#Vd = adda(m, 'Vd', pi/4*(Df**2*hf+Ds**2*ts+Dd**2*td))\n",
    "Vd = adda(m, 'Vd', mtot/rhow) #shortcut for now\n",
    "FB = adda(m, 'F_B', rhow*Vd*g, unit='N')"
   ]
  },
  {
   "cell_type": "code",
   "execution_count": 11,
   "id": "9232c02c-3743-4a25-9215-3d471a4bb22c",
   "metadata": {
    "execution": {
     "iopub.execute_input": "2022-06-23T02:07:00.226623Z",
     "iopub.status.busy": "2022-06-23T02:07:00.226623Z",
     "iopub.status.idle": "2022-06-23T02:07:00.296077Z",
     "shell.execute_reply": "2022-06-23T02:07:00.295634Z",
     "shell.execute_reply.started": "2022-06-23T02:07:00.226623Z"
    },
    "tags": []
   },
   "outputs": [],
   "source": [
    "hf = adda(m, 'h_f', (4*Vd/pi-Ds**2*ts-Dd**2*td)/Df**2)"
   ]
  },
  {
   "cell_type": "code",
   "execution_count": 12,
   "id": "21d704e5-c842-4e13-b287-7be5c46280c7",
   "metadata": {
    "execution": {
     "iopub.execute_input": "2022-06-23T02:07:00.297270Z",
     "iopub.status.busy": "2022-06-23T02:07:00.297270Z",
     "iopub.status.idle": "2022-06-23T02:07:00.480859Z",
     "shell.execute_reply": "2022-06-23T02:07:00.480323Z",
     "shell.execute_reply.started": "2022-06-23T02:07:00.297270Z"
    },
    "tags": []
   },
   "outputs": [
    {
     "data": {
      "text/latex": [
       "$\\displaystyle \\frac{- D_{d}^{2} t_{d} - D_{s}^{2} t_{s} + \\frac{4 Vd}{\\pi}}{D_{f}^{2}}$"
      ],
      "text/plain": [
       "(-D_d**2*t_d - D_s**2*t_s + 4*Vd/pi)/D_f**2"
      ]
     },
     "execution_count": 12,
     "metadata": {},
     "output_type": "execute_result"
    }
   ],
   "source": [
    "(4*Vd/pi-Ds**2*ts-Dd**2*td)/Df**2"
   ]
  },
  {
   "cell_type": "code",
   "execution_count": 13,
   "id": "85435ab4-22c2-42a3-bebb-c9ee694eec3b",
   "metadata": {
    "execution": {
     "iopub.execute_input": "2022-06-23T02:07:00.482550Z",
     "iopub.status.busy": "2022-06-23T02:07:00.482550Z",
     "iopub.status.idle": "2022-06-23T02:07:00.488324Z",
     "shell.execute_reply": "2022-06-23T02:07:00.488324Z",
     "shell.execute_reply.started": "2022-06-23T02:07:00.482550Z"
    },
    "tags": []
   },
   "outputs": [
    {
     "data": {
      "text/latex": [
       "$h_f=0.538\\ \\mathrm{m}\\ (Vd=3.875 )$"
      ],
      "text/plain": [
       "h_f"
      ]
     },
     "execution_count": 13,
     "metadata": {},
     "output_type": "execute_result"
    }
   ],
   "source": [
    "hf"
   ]
  },
  {
   "cell_type": "code",
   "execution_count": 14,
   "id": "23492c19-e6ec-4f3a-9e4c-2a06e2aeea52",
   "metadata": {
    "execution": {
     "iopub.execute_input": "2022-06-23T02:07:00.490367Z",
     "iopub.status.busy": "2022-06-23T02:07:00.489345Z",
     "iopub.status.idle": "2022-06-23T02:07:00.526753Z",
     "shell.execute_reply": "2022-06-23T02:07:00.526357Z",
     "shell.execute_reply.started": "2022-06-23T02:07:00.490367Z"
    },
    "tags": []
   },
   "outputs": [],
   "source": [
    "xd = td/2\n",
    "xs = td+ts/2\n",
    "xf1 = td+ts+hf/2\n",
    "xf2 = td+ts+tf/2\n",
    "totA1 = hf*Df+ts*Ds+td*Dd\n",
    "totA2 = tf*Df+ts*Ds+td*Dd"
   ]
  },
  {
   "cell_type": "code",
   "execution_count": 15,
   "id": "541f9c78-d7a2-480e-98a4-c93425cca7cc",
   "metadata": {
    "execution": {
     "iopub.execute_input": "2022-06-23T02:07:00.526753Z",
     "iopub.status.busy": "2022-06-23T02:07:00.526753Z",
     "iopub.status.idle": "2022-06-23T02:07:00.551195Z",
     "shell.execute_reply": "2022-06-23T02:07:00.550693Z",
     "shell.execute_reply.started": "2022-06-23T02:07:00.526753Z"
    },
    "tags": []
   },
   "outputs": [],
   "source": [
    "KB = adda(m, 'K_B', (hf*Df*xf1+ts*Ds*xs+td*Dd*xd)/totA1) # z_B"
   ]
  },
  {
   "cell_type": "code",
   "execution_count": 16,
   "id": "38ea227f-d93d-47d6-93f8-fe7176d9419e",
   "metadata": {
    "execution": {
     "iopub.execute_input": "2022-06-23T02:07:00.552388Z",
     "iopub.status.busy": "2022-06-23T02:07:00.552388Z",
     "iopub.status.idle": "2022-06-23T02:07:00.576508Z",
     "shell.execute_reply": "2022-06-23T02:07:00.575993Z",
     "shell.execute_reply.started": "2022-06-23T02:07:00.552388Z"
    },
    "tags": []
   },
   "outputs": [],
   "source": [
    "KG = adda(m, 'K_G', (tf*Df*xf2+ts*Ds*xs+td*Dd*xd)/totA2) \n",
    "#z_G = KG-hf-td-ts"
   ]
  },
  {
   "cell_type": "code",
   "execution_count": 17,
   "id": "bcbd1070-8a78-40d5-ab6a-0b91cc6e85d9",
   "metadata": {
    "execution": {
     "iopub.execute_input": "2022-06-23T02:07:00.578099Z",
     "iopub.status.busy": "2022-06-23T02:07:00.576508Z",
     "iopub.status.idle": "2022-06-23T02:07:00.585754Z",
     "shell.execute_reply": "2022-06-23T02:07:00.584738Z",
     "shell.execute_reply.started": "2022-06-23T02:07:00.578099Z"
    },
    "tags": []
   },
   "outputs": [
    {
     "data": {
      "text/latex": [
       "$K_B=1.658\\ \\mathrm{m}\\ (h_f=0.538 )$"
      ],
      "text/plain": [
       "K_B"
      ]
     },
     "execution_count": 17,
     "metadata": {},
     "output_type": "execute_result"
    }
   ],
   "source": [
    "KB"
   ]
  },
  {
   "cell_type": "code",
   "execution_count": 18,
   "id": "e63dd277-735c-45b8-b717-e570792961ee",
   "metadata": {
    "execution": {
     "iopub.execute_input": "2022-06-23T02:07:00.586767Z",
     "iopub.status.busy": "2022-06-23T02:07:00.586767Z",
     "iopub.status.idle": "2022-06-23T02:07:00.596302Z",
     "shell.execute_reply": "2022-06-23T02:07:00.595774Z",
     "shell.execute_reply.started": "2022-06-23T02:07:00.586767Z"
    },
    "tags": []
   },
   "outputs": [
    {
     "data": {
      "text/latex": [
       "$K_G=1.629\\ \\mathrm{m}$"
      ],
      "text/plain": [
       "K_G"
      ]
     },
     "execution_count": 18,
     "metadata": {},
     "output_type": "execute_result"
    }
   ],
   "source": [
    "KG"
   ]
  },
  {
   "cell_type": "code",
   "execution_count": 19,
   "id": "b6ef7f9d-fa81-4d13-848c-8e94e102d13c",
   "metadata": {
    "execution": {
     "iopub.execute_input": "2022-06-23T02:07:00.597707Z",
     "iopub.status.busy": "2022-06-23T02:07:00.597178Z",
     "iopub.status.idle": "2022-06-23T02:07:00.686756Z",
     "shell.execute_reply": "2022-06-23T02:07:00.686209Z",
     "shell.execute_reply.started": "2022-06-23T02:07:00.597707Z"
    },
    "tags": []
   },
   "outputs": [],
   "source": [
    "I = adda(m, 'I', pi/64*Df**4)"
   ]
  },
  {
   "cell_type": "code",
   "execution_count": 20,
   "id": "a64217ce-7151-49ae-84da-d185da51ba26",
   "metadata": {
    "execution": {
     "iopub.execute_input": "2022-06-23T02:07:00.686756Z",
     "iopub.status.busy": "2022-06-23T02:07:00.686756Z",
     "iopub.status.idle": "2022-06-23T02:07:00.709183Z",
     "shell.execute_reply": "2022-06-23T02:07:00.709037Z",
     "shell.execute_reply.started": "2022-06-23T02:07:00.686756Z"
    },
    "tags": []
   },
   "outputs": [],
   "source": [
    "BM = adda(m, 'B_M', I/Vd)"
   ]
  },
  {
   "cell_type": "code",
   "execution_count": 21,
   "id": "5669f6fb-0f95-4e5c-ba48-5893647a5744",
   "metadata": {
    "execution": {
     "iopub.execute_input": "2022-06-23T02:07:00.709183Z",
     "iopub.status.busy": "2022-06-23T02:07:00.709183Z",
     "iopub.status.idle": "2022-06-23T02:07:00.721870Z",
     "shell.execute_reply": "2022-06-23T02:07:00.721629Z",
     "shell.execute_reply.started": "2022-06-23T02:07:00.709183Z"
    },
    "tags": []
   },
   "outputs": [
    {
     "data": {
      "text/latex": [
       "$B_M=0.203\\ \\mathrm{m}\\ (Vd=3.875 )$"
      ],
      "text/plain": [
       "B_M"
      ]
     },
     "execution_count": 21,
     "metadata": {},
     "output_type": "execute_result"
    }
   ],
   "source": [
    "BM"
   ]
  },
  {
   "cell_type": "code",
   "execution_count": 22,
   "id": "a753ab52-a11a-4ee4-a846-b82985e2bae3",
   "metadata": {
    "execution": {
     "iopub.execute_input": "2022-06-23T02:07:00.722874Z",
     "iopub.status.busy": "2022-06-23T02:07:00.722874Z",
     "iopub.status.idle": "2022-06-23T02:07:00.753840Z",
     "shell.execute_reply": "2022-06-23T02:07:00.753328Z",
     "shell.execute_reply.started": "2022-06-23T02:07:00.722874Z"
    },
    "tags": []
   },
   "outputs": [],
   "source": [
    "GM = adda(m, \"G_M\", KB+BM-KG) #should be 3-5% according to http://web.mit.edu/13.012/www/handouts/Reading3.pdf"
   ]
  },
  {
   "cell_type": "code",
   "execution_count": 23,
   "id": "a2c9660c-8e00-4224-880d-363b70a743a3",
   "metadata": {
    "execution": {
     "iopub.execute_input": "2022-06-23T02:07:00.755132Z",
     "iopub.status.busy": "2022-06-23T02:07:00.755132Z",
     "iopub.status.idle": "2022-06-23T02:07:00.769433Z",
     "shell.execute_reply": "2022-06-23T02:07:00.769433Z",
     "shell.execute_reply.started": "2022-06-23T02:07:00.755132Z"
    },
    "tags": []
   },
   "outputs": [
    {
     "data": {
      "text/latex": [
       "$G_M=0.231\\ \\mathrm{m}\\ (K_B=1.658 ,B_M=0.203 )$"
      ],
      "text/plain": [
       "G_M"
      ]
     },
     "execution_count": 23,
     "metadata": {},
     "output_type": "execute_result"
    }
   ],
   "source": [
    "GM"
   ]
  },
  {
   "cell_type": "code",
   "execution_count": 24,
   "id": "3d41940b-8699-41a5-9a58-ee841663c514",
   "metadata": {
    "execution": {
     "iopub.execute_input": "2022-06-23T02:07:00.769433Z",
     "iopub.status.busy": "2022-06-23T02:07:00.769433Z",
     "iopub.status.idle": "2022-06-23T02:07:00.777773Z",
     "shell.execute_reply": "2022-06-23T02:07:00.777773Z",
     "shell.execute_reply.started": "2022-06-23T02:07:00.769433Z"
    },
    "tags": []
   },
   "outputs": [],
   "source": [
    "#addf(m, GM-0.05*Df)\n",
    "#setsolvefor(m, [td])"
   ]
  },
  {
   "cell_type": "markdown",
   "id": "03eb2f1f-06d5-483c-b768-b3be6fc7300f",
   "metadata": {},
   "source": [
    "## Power recharge"
   ]
  },
  {
   "cell_type": "code",
   "execution_count": 25,
   "id": "11cf4da2-1093-462c-8cf2-31649d9facfb",
   "metadata": {
    "execution": {
     "iopub.execute_input": "2022-06-23T02:07:00.886428Z",
     "iopub.status.busy": "2022-06-23T02:07:00.886428Z",
     "iopub.status.idle": "2022-06-23T02:07:00.896451Z",
     "shell.execute_reply": "2022-06-23T02:07:00.895786Z",
     "shell.execute_reply.started": "2022-06-23T02:07:00.886428Z"
    },
    "tags": []
   },
   "outputs": [],
   "source": [
    "eta_A = Par(r'\\eta_A', 0.75) #coverage fraction for solar panels\n",
    "addf(m, A_s-eta_A*pi*(Df/2)**2)\n",
    "setsolvefor(m, [Df])"
   ]
  },
  {
   "cell_type": "code",
   "execution_count": 26,
   "id": "d8d040f3-b95a-417f-83e9-7c6d07d3fdb7",
   "metadata": {
    "execution": {
     "iopub.execute_input": "2022-06-23T02:07:01.145174Z",
     "iopub.status.busy": "2022-06-23T02:07:01.145174Z",
     "iopub.status.idle": "2022-06-23T02:07:01.151965Z",
     "shell.execute_reply": "2022-06-23T02:07:01.151641Z",
     "shell.execute_reply.started": "2022-06-23T02:07:01.145174Z"
    },
    "tags": []
   },
   "outputs": [],
   "source": [
    "eta_s = Par(r'\\eta_s', 0.27)\n",
    "phi_s = Par(r'\\phi_s', 800, 'W/m**2')\n",
    "theta_bar = Par(r'\\theta', 55, 'deg')\n",
    "Ideg = Par('I_{deg}', 0.9)\n",
    "ddeg = Par('d_{deg}', 0.005)\n",
    "Lsolar = Par('L_{solar}', 10) #lifetime in years, but units acts weirdly in powers"
   ]
  },
  {
   "cell_type": "code",
   "execution_count": 27,
   "id": "f0b93470-f200-4845-8dd2-d8cabdbb55ae",
   "metadata": {
    "execution": {
     "iopub.execute_input": "2022-06-23T02:07:01.347419Z",
     "iopub.status.busy": "2022-06-23T02:07:01.347419Z",
     "iopub.status.idle": "2022-06-23T02:07:01.441312Z",
     "shell.execute_reply": "2022-06-23T02:07:01.441075Z",
     "shell.execute_reply.started": "2022-06-23T02:07:01.347419Z"
    },
    "tags": []
   },
   "outputs": [],
   "source": [
    "P_recharge = adda(m, r'P_{recharge}', \n",
    "    eta_s * phi_s * cos(theta_bar) * Ideg * (1-ddeg)**Lsolar * A_s, unit='W', forceunit=True)"
   ]
  },
  {
   "cell_type": "code",
   "execution_count": 28,
   "id": "f93e6de6-5458-484c-a445-8276f2a1e372",
   "metadata": {
    "execution": {
     "iopub.execute_input": "2022-06-23T02:07:01.526412Z",
     "iopub.status.busy": "2022-06-23T02:07:01.526412Z",
     "iopub.status.idle": "2022-06-23T02:07:01.543635Z",
     "shell.execute_reply": "2022-06-23T02:07:01.543635Z",
     "shell.execute_reply.started": "2022-06-23T02:07:01.526412Z"
    },
    "tags": []
   },
   "outputs": [
    {
     "data": {
      "text/latex": [
       "$P_{recharge}=106.052\\ \\mathrm{W}\\ (A_{solar}=1 )$"
      ],
      "text/plain": [
       "P_{recharge}"
      ]
     },
     "execution_count": 28,
     "metadata": {},
     "output_type": "execute_result"
    }
   ],
   "source": [
    "P_recharge"
   ]
  },
  {
   "cell_type": "markdown",
   "id": "d16d5aac-22b8-4104-b8ea-21772e77af29",
   "metadata": {},
   "source": [
    "## Propulsion"
   ]
  },
  {
   "cell_type": "code",
   "execution_count": 29,
   "id": "b34a9157-1f79-4a3d-ae61-1c65701b99db",
   "metadata": {
    "execution": {
     "iopub.execute_input": "2022-06-23T02:07:01.935467Z",
     "iopub.status.busy": "2022-06-23T02:07:01.935467Z",
     "iopub.status.idle": "2022-06-23T02:07:01.984018Z",
     "shell.execute_reply": "2022-06-23T02:07:01.984018Z",
     "shell.execute_reply.started": "2022-06-23T02:07:01.935467Z"
    },
    "tags": []
   },
   "outputs": [],
   "source": [
    "C_d = Par('C_d', 1) # estimate drag coefficient (a square flat plate at 90 deg to the flow is 1.17)\n",
    "S_w = Par('S_w', 10, 'm**2') # wetted surface\n",
    "v = Var('v', 1, unit='m/s') # [m/s]\n",
    "eta_m = Par(r'\\eta_m', 0.75) # estimated, need to determine from motors?\n",
    "P_move = adda(m, 'P_{move}', rhow*C_d*S_w*v**3/(2*eta_m), unit='W')"
   ]
  },
  {
   "cell_type": "code",
   "execution_count": 30,
   "id": "5b1f0cc9-b187-4758-bba7-bbdfd0e96011",
   "metadata": {
    "execution": {
     "iopub.execute_input": "2022-06-23T02:07:02.136316Z",
     "iopub.status.busy": "2022-06-23T02:07:02.136316Z",
     "iopub.status.idle": "2022-06-23T02:07:02.150824Z",
     "shell.execute_reply": "2022-06-23T02:07:02.149792Z",
     "shell.execute_reply.started": "2022-06-23T02:07:02.136316Z"
    },
    "tags": []
   },
   "outputs": [
    {
     "data": {
      "text/latex": [
       "$P_{move}=6824\\ \\mathrm{W}$"
      ],
      "text/plain": [
       "P_{move}"
      ]
     },
     "execution_count": 30,
     "metadata": {},
     "output_type": "execute_result"
    }
   ],
   "source": [
    "P_move"
   ]
  },
  {
   "cell_type": "markdown",
   "id": "4202069f-8aa6-4ac4-a331-13a58c631fc0",
   "metadata": {},
   "source": [
    "## Energy budget"
   ]
  },
  {
   "cell_type": "code",
   "execution_count": 31,
   "id": "1fcbf85a-8aca-4fb8-acfc-fd8b5a9d6b25",
   "metadata": {
    "execution": {
     "iopub.execute_input": "2022-06-23T02:07:02.843649Z",
     "iopub.status.busy": "2022-06-23T02:07:02.841298Z",
     "iopub.status.idle": "2022-06-23T02:07:02.851552Z",
     "shell.execute_reply": "2022-06-23T02:07:02.851136Z",
     "shell.execute_reply.started": "2022-06-23T02:07:02.841298Z"
    },
    "tags": []
   },
   "outputs": [],
   "source": [
    "# should t_move, t_comms, t_service and t_recharge add up to 24 hours?\n",
    "t_mission = Par('t_{mission}', 24, 'hr')\n",
    "t_comms = Par('t_{comms}', 1, 'hr')\n",
    "t_move = Par('t_{move}', 1, 'hr')\n",
    "t_service = Par('t_{service}', 12, 'hr')\n",
    "t_recharge = Par('t_{recharge}', 12, 'hr')"
   ]
  },
  {
   "cell_type": "code",
   "execution_count": 32,
   "id": "4e00c929-cabd-4160-923a-3ec6809f36cc",
   "metadata": {
    "execution": {
     "iopub.execute_input": "2022-06-23T02:07:03.051134Z",
     "iopub.status.busy": "2022-06-23T02:07:03.050812Z",
     "iopub.status.idle": "2022-06-23T02:07:03.096152Z",
     "shell.execute_reply": "2022-06-23T02:07:03.096152Z",
     "shell.execute_reply.started": "2022-06-23T02:07:03.051134Z"
    },
    "tags": []
   },
   "outputs": [],
   "source": [
    "E_move = adda(m, 'E_{move}', P_move*t_move, unit='kW*hr')\n",
    "P_hotel = Par('P_{hotel}', 50, 'W')\n",
    "E_hotel = adda(m, 'E_{hotel}', P_hotel*t_mission, unit='kW*hr')\n",
    "Pcomms = Var('P_{comms}', 0.5, 'W')\n",
    "E_comms = adda(m, 'E_{comms}', Pcomms*t_comms, unit='W*hr')\n",
    "E_AUV = Par('E_{AUV}', 1.9, 'kW*hr') # AUV battery capacity (to be recharged), based on Bluefin-9\n",
    "gamma = Par(r'\\gamma', 1) # AUVs serviced per mission duration (aka in the time of t_mission)\n",
    "E_service = adda(m, 'E_{service}', E_AUV * gamma, unit='kW*hr')\n",
    "P_service = adda(m, 'P_{service}', E_service/t_service, unit='W')"
   ]
  },
  {
   "cell_type": "code",
   "execution_count": 33,
   "id": "dbcade0b-aab9-4faf-9bc2-1548f2079626",
   "metadata": {
    "execution": {
     "iopub.execute_input": "2022-06-23T02:07:03.236355Z",
     "iopub.status.busy": "2022-06-23T02:07:03.236355Z",
     "iopub.status.idle": "2022-06-23T02:07:03.327373Z",
     "shell.execute_reply": "2022-06-23T02:07:03.326463Z",
     "shell.execute_reply.started": "2022-06-23T02:07:03.236355Z"
    },
    "tags": []
   },
   "outputs": [],
   "source": [
    "E_required = adda(m, 'E_{required}', E_hotel+E_move+E_service+E_comms, unit='kW*hr')\n",
    "E_recharge = adda(m, 'E_{recharge}', P_recharge * t_recharge, unit='kW*hr')"
   ]
  },
  {
   "cell_type": "code",
   "execution_count": 34,
   "id": "008e92d9-02e8-43f7-b74b-3301d75ea5c2",
   "metadata": {
    "execution": {
     "iopub.execute_input": "2022-06-23T02:07:03.426148Z",
     "iopub.status.busy": "2022-06-23T02:07:03.426148Z",
     "iopub.status.idle": "2022-06-23T02:07:03.434413Z",
     "shell.execute_reply": "2022-06-23T02:07:03.434413Z",
     "shell.execute_reply.started": "2022-06-23T02:07:03.426148Z"
    },
    "tags": []
   },
   "outputs": [
    {
     "data": {
      "text/latex": [
       "$E_{required}=9.925\\ \\mathrm{hr} \\cdot \\mathrm{kW}$"
      ],
      "text/plain": [
       "E_{required}"
      ]
     },
     "execution_count": 34,
     "metadata": {},
     "output_type": "execute_result"
    }
   ],
   "source": [
    "E_required"
   ]
  },
  {
   "cell_type": "code",
   "execution_count": 35,
   "id": "5d3ba00b-057f-4d0c-bb63-82bf4058efd4",
   "metadata": {
    "execution": {
     "iopub.execute_input": "2022-06-23T02:07:03.666350Z",
     "iopub.status.busy": "2022-06-23T02:07:03.666350Z",
     "iopub.status.idle": "2022-06-23T02:07:03.680023Z",
     "shell.execute_reply": "2022-06-23T02:07:03.678921Z",
     "shell.execute_reply.started": "2022-06-23T02:07:03.666350Z"
    },
    "tags": []
   },
   "outputs": [
    {
     "data": {
      "text/latex": [
       "$E_{recharge}=1.273\\ \\mathrm{hr} \\cdot \\mathrm{kW}\\ (P_{recharge}=106.052 )$"
      ],
      "text/plain": [
       "E_{recharge}"
      ]
     },
     "execution_count": 35,
     "metadata": {},
     "output_type": "execute_result"
    }
   ],
   "source": [
    "E_recharge"
   ]
  },
  {
   "cell_type": "code",
   "execution_count": 36,
   "id": "ecbf261c-a87f-4871-bdf7-759aa6350146",
   "metadata": {
    "execution": {
     "iopub.execute_input": "2022-06-23T02:07:03.996120Z",
     "iopub.status.busy": "2022-06-23T02:07:03.996120Z",
     "iopub.status.idle": "2022-06-23T02:07:04.020739Z",
     "shell.execute_reply": "2022-06-23T02:07:04.019275Z",
     "shell.execute_reply.started": "2022-06-23T02:07:03.996120Z"
    },
    "tags": []
   },
   "outputs": [
    {
     "data": {
      "text/plain": [
       "23"
      ]
     },
     "execution_count": 36,
     "metadata": {},
     "output_type": "execute_result"
    }
   ],
   "source": [
    "addf(m, E_required-E_recharge)"
   ]
  },
  {
   "cell_type": "code",
   "execution_count": 37,
   "id": "5132430f-22d5-4f91-a7fa-10257b519332",
   "metadata": {
    "execution": {
     "iopub.execute_input": "2022-06-23T02:07:04.242035Z",
     "iopub.status.busy": "2022-06-23T02:07:04.242035Z",
     "iopub.status.idle": "2022-06-23T02:07:04.253989Z",
     "shell.execute_reply": "2022-06-23T02:07:04.252731Z",
     "shell.execute_reply.started": "2022-06-23T02:07:04.242035Z"
    },
    "tags": []
   },
   "outputs": [],
   "source": [
    "setsolvefor(m, [A_s])"
   ]
  },
  {
   "cell_type": "code",
   "execution_count": 38,
   "id": "a49d0d9f-715b-4b2d-a693-5979c3422a38",
   "metadata": {
    "execution": {
     "iopub.execute_input": "2022-06-23T02:07:04.651701Z",
     "iopub.status.busy": "2022-06-23T02:07:04.651701Z",
     "iopub.status.idle": "2022-06-23T02:07:04.663193Z",
     "shell.execute_reply": "2022-06-23T02:07:04.662177Z",
     "shell.execute_reply.started": "2022-06-23T02:07:04.651701Z"
    },
    "tags": []
   },
   "outputs": [],
   "source": [
    "#P_drawrecharge = adda(m, 'P_{drawrecharge}', P_hotel - P_recharge) #can be negative\n",
    "#P_drawservice = adda(m, 'P_{drawservice}', P_hotel + P_service)\n",
    "#P_drawmove = adda(m, 'P_{drawmove}', P_hotel+P_move)\n",
    "#P_drawcomms = adda(m, 'P_{drawcomms}', P_hotel+P_comms)"
   ]
  },
  {
   "cell_type": "markdown",
   "id": "a1c42f91-8e50-4c4c-809c-6f4f0b3e2108",
   "metadata": {},
   "source": [
    "## Battery"
   ]
  },
  {
   "cell_type": "code",
   "execution_count": 39,
   "id": "fa2e8b07-8044-4ddf-a3dd-852f3dac757b",
   "metadata": {
    "execution": {
     "iopub.execute_input": "2022-06-23T02:07:05.045900Z",
     "iopub.status.busy": "2022-06-23T02:07:05.045900Z",
     "iopub.status.idle": "2022-06-23T02:07:05.119236Z",
     "shell.execute_reply": "2022-06-23T02:07:05.118255Z",
     "shell.execute_reply.started": "2022-06-23T02:07:05.045900Z"
    },
    "tags": []
   },
   "outputs": [
    {
     "data": {
      "text/latex": [
       "$m_{batt}=88.399\\ \\mathrm{kg}$"
      ],
      "text/plain": [
       "m_{batt}"
      ]
     },
     "execution_count": 39,
     "metadata": {},
     "output_type": "execute_result"
    }
   ],
   "source": [
    "mu_batt = Par(r'\\mu_{battery}', 200, 'W*hr/kg') # Lithium ion\n",
    "DOD = Par('DOD', 0.7)\n",
    "eta_batt = Par(r'\\eta_{battery}', 0.85) # transmission efficiency\n",
    "nu_batt = Par(r'\\nu_{battery}', 450, 'kW*hr/(m**3)')\n",
    "N = Par('N', 1)\n",
    "C = adda(m, 'C', E_required/(DOD*N*eta_batt), unit='kW*hr')\n",
    "V_batt = adda(m, 'V_{batt}', C/nu_batt, unit='m**3')\n",
    "m_batt_zero = Par('m_{batt_zero}', 5, 'kg')\n",
    "adda(m, mbatt, C/mu_batt + m_batt_zero, unit='kg') # was already defined in the beginning"
   ]
  },
  {
   "cell_type": "markdown",
   "id": "61a2e1ac-26e0-464d-a7e1-40a00e9c850f",
   "metadata": {},
   "source": [
    "## Communication Systems"
   ]
  },
  {
   "cell_type": "code",
   "execution_count": 40,
   "id": "2f7a56c5-9751-49c5-bb72-951ab8d3c2b9",
   "metadata": {
    "execution": {
     "iopub.execute_input": "2022-06-23T02:07:05.695721Z",
     "iopub.status.busy": "2022-06-23T02:07:05.695721Z",
     "iopub.status.idle": "2022-06-23T02:07:05.706001Z",
     "shell.execute_reply": "2022-06-23T02:07:05.704479Z",
     "shell.execute_reply.started": "2022-06-23T02:07:05.695721Z"
    },
    "tags": []
   },
   "outputs": [],
   "source": [
    "import sympy as sp\n",
    "db2dec = lambda x: 10**(x/10)\n",
    "dec2db = lambda x: 10*sp.log(sp.Abs(x), 10)"
   ]
  },
  {
   "cell_type": "code",
   "execution_count": 41,
   "id": "1b8f5b6c-7a3d-46a9-bd05-75455fcee2b2",
   "metadata": {
    "execution": {
     "iopub.execute_input": "2022-06-23T02:07:05.885829Z",
     "iopub.status.busy": "2022-06-23T02:07:05.885829Z",
     "iopub.status.idle": "2022-06-23T02:07:05.909873Z",
     "shell.execute_reply": "2022-06-23T02:07:05.909873Z",
     "shell.execute_reply.started": "2022-06-23T02:07:05.885829Z"
    },
    "tags": []
   },
   "outputs": [],
   "source": [
    "k = Par('k', 1.38065e-23, 'J/K')\n",
    "c = Par('c', 3e8, 'm/s')\n",
    "f = Par('f', 2.2, 'GHz')"
   ]
  },
  {
   "cell_type": "code",
   "execution_count": 42,
   "id": "f27a82fb-1c92-4d52-b4f2-04456de30044",
   "metadata": {
    "execution": {
     "iopub.execute_input": "2022-06-23T02:07:06.056285Z",
     "iopub.status.busy": "2022-06-23T02:07:06.056285Z",
     "iopub.status.idle": "2022-06-23T02:07:06.116490Z",
     "shell.execute_reply": "2022-06-23T02:07:06.116490Z",
     "shell.execute_reply.started": "2022-06-23T02:07:06.056285Z"
    },
    "tags": []
   },
   "outputs": [],
   "source": [
    "Lambda = adda(m, r'\\lambda', c/f, unit='m')"
   ]
  },
  {
   "cell_type": "code",
   "execution_count": 43,
   "id": "eb819399-4b56-4b00-b99a-3400c9e74380",
   "metadata": {
    "execution": {
     "iopub.execute_input": "2022-06-23T02:07:06.237543Z",
     "iopub.status.busy": "2022-06-23T02:07:06.236955Z",
     "iopub.status.idle": "2022-06-23T02:07:06.251399Z",
     "shell.execute_reply": "2022-06-23T02:07:06.249876Z",
     "shell.execute_reply.started": "2022-06-23T02:07:06.237543Z"
    },
    "tags": []
   },
   "outputs": [],
   "source": [
    "eta_parab = Par(r'\\eta_{parab}', 0.55)\n",
    "theta_t = Par(r'\\theta_t', 32)\n",
    "error_t = Par('e_t', 27)"
   ]
  },
  {
   "cell_type": "code",
   "execution_count": 44,
   "id": "82aa89fc-70cc-40e8-aa34-ee359d962463",
   "metadata": {
    "execution": {
     "iopub.execute_input": "2022-06-23T02:07:06.420206Z",
     "iopub.status.busy": "2022-06-23T02:07:06.419857Z",
     "iopub.status.idle": "2022-06-23T02:07:06.559987Z",
     "shell.execute_reply": "2022-06-23T02:07:06.559280Z",
     "shell.execute_reply.started": "2022-06-23T02:07:06.420206Z"
    },
    "tags": []
   },
   "outputs": [],
   "source": [
    "G_pt_db = adda(m, 'G_{pt}', 44.3-dec2db(theta_t**2), forceunit=True)"
   ]
  },
  {
   "cell_type": "code",
   "execution_count": 45,
   "id": "20d1026d-b512-4a76-acb4-be2b5847c698",
   "metadata": {
    "execution": {
     "iopub.execute_input": "2022-06-23T02:07:06.592426Z",
     "iopub.status.busy": "2022-06-23T02:07:06.592426Z",
     "iopub.status.idle": "2022-06-23T02:07:06.720525Z",
     "shell.execute_reply": "2022-06-23T02:07:06.720140Z",
     "shell.execute_reply.started": "2022-06-23T02:07:06.592426Z"
    },
    "tags": []
   },
   "outputs": [],
   "source": [
    "L_pt_db = adda(m, 'L_{pt_db}', -12*(error_t/theta_t)**2)"
   ]
  },
  {
   "cell_type": "code",
   "execution_count": 46,
   "id": "cce8de61-adc1-4456-b84c-7c2635c5589e",
   "metadata": {
    "execution": {
     "iopub.execute_input": "2022-06-23T02:07:06.897894Z",
     "iopub.status.busy": "2022-06-23T02:07:06.897585Z",
     "iopub.status.idle": "2022-06-23T02:07:06.966388Z",
     "shell.execute_reply": "2022-06-23T02:07:06.965851Z",
     "shell.execute_reply.started": "2022-06-23T02:07:06.897894Z"
    },
    "tags": []
   },
   "outputs": [],
   "source": [
    "G_t = adda(m, 'G_t', db2dec(G_pt_db+L_pt_db))"
   ]
  },
  {
   "cell_type": "code",
   "execution_count": 47,
   "id": "17fc24c9-f9f3-4f63-a59e-6ab022190e7d",
   "metadata": {
    "execution": {
     "iopub.execute_input": "2022-06-23T02:07:07.093842Z",
     "iopub.status.busy": "2022-06-23T02:07:07.093842Z",
     "iopub.status.idle": "2022-06-23T02:07:07.131063Z",
     "shell.execute_reply": "2022-06-23T02:07:07.130844Z",
     "shell.execute_reply.started": "2022-06-23T02:07:07.093842Z"
    },
    "tags": []
   },
   "outputs": [],
   "source": [
    "D_r = Par('D_r', 5.3, 'm')\n",
    "G_r = adda(m, 'G_r', eta_parab*(pi*D_r/Lambda)**2)"
   ]
  },
  {
   "cell_type": "code",
   "execution_count": 48,
   "id": "3240ec86-b678-4df6-a377-76bb307f8084",
   "metadata": {
    "execution": {
     "iopub.execute_input": "2022-06-23T02:07:07.276656Z",
     "iopub.status.busy": "2022-06-23T02:07:07.276038Z",
     "iopub.status.idle": "2022-06-23T02:07:07.337381Z",
     "shell.execute_reply": "2022-06-23T02:07:07.336213Z",
     "shell.execute_reply.started": "2022-06-23T02:07:07.276656Z"
    },
    "tags": []
   },
   "outputs": [],
   "source": [
    "h = Par('h', 780, 'km')\n",
    "Re = Par('Re', 6378, 'km')\n",
    "S = adda(m, 'S', sp.sqrt(h*(h+2*Re)), unit='km', forceunit=True)"
   ]
  },
  {
   "cell_type": "code",
   "execution_count": 49,
   "id": "a2c4f111-b739-4af8-adaf-516c855abfcd",
   "metadata": {
    "execution": {
     "iopub.execute_input": "2022-06-23T02:07:07.436612Z",
     "iopub.status.busy": "2022-06-23T02:07:07.436161Z",
     "iopub.status.idle": "2022-06-23T02:07:07.472699Z",
     "shell.execute_reply": "2022-06-23T02:07:07.472195Z",
     "shell.execute_reply.started": "2022-06-23T02:07:07.436612Z"
    },
    "tags": []
   },
   "outputs": [],
   "source": [
    "L_s = adda(m, 'L_s', (Lambda/(4*pi*S))**2)"
   ]
  },
  {
   "cell_type": "code",
   "execution_count": 50,
   "id": "4de9442b-fd06-4132-bcd6-bd18f183ebab",
   "metadata": {
    "execution": {
     "iopub.execute_input": "2022-06-23T02:07:07.596651Z",
     "iopub.status.busy": "2022-06-23T02:07:07.596651Z",
     "iopub.status.idle": "2022-06-23T02:07:07.616849Z",
     "shell.execute_reply": "2022-06-23T02:07:07.615823Z",
     "shell.execute_reply.started": "2022-06-23T02:07:07.596651Z"
    },
    "tags": []
   },
   "outputs": [
    {
     "data": {
      "text/latex": [
       "$L_s=\\begin{pmatrix}1.115\\times 10^{-17}\\end{pmatrix}\\ $"
      ],
      "text/plain": [
       "L_s"
      ]
     },
     "execution_count": 50,
     "metadata": {},
     "output_type": "execute_result"
    }
   ],
   "source": [
    "L_s"
   ]
  },
  {
   "cell_type": "code",
   "execution_count": 51,
   "id": "fbb9d83a-43cb-4755-b267-04fcb70a7b42",
   "metadata": {
    "execution": {
     "iopub.execute_input": "2022-06-23T02:07:07.811458Z",
     "iopub.status.busy": "2022-06-23T02:07:07.810288Z",
     "iopub.status.idle": "2022-06-23T02:07:07.936357Z",
     "shell.execute_reply": "2022-06-23T02:07:07.935865Z",
     "shell.execute_reply.started": "2022-06-23T02:07:07.811458Z"
    },
    "tags": []
   },
   "outputs": [],
   "source": [
    "BER = Par('BER', 0.0001)\n",
    "R = Var('R', 10, 'Mbit/s') # 1 per microseconds\n",
    "T_s = Par('T_s', 135, 'K')\n",
    "L_a = Par('L_a', db2dec(-0.3))\n",
    "L_l = Par('L_l', db2dec(-1))\n",
    "L_p = Par('L_p', db2dec(-0.1))\n",
    "EN = adda(m, 'EN', Pcomms*L_a*L_s*L_l*L_p*G_r*G_t/(k*T_s*R))"
   ]
  },
  {
   "cell_type": "code",
   "execution_count": 52,
   "id": "28082b75-29b5-4cc3-87c3-5f923b183055",
   "metadata": {
    "execution": {
     "iopub.execute_input": "2022-06-23T02:07:08.026526Z",
     "iopub.status.busy": "2022-06-23T02:07:08.026526Z",
     "iopub.status.idle": "2022-06-23T02:07:08.035177Z",
     "shell.execute_reply": "2022-06-23T02:07:08.034452Z",
     "shell.execute_reply.started": "2022-06-23T02:07:08.026526Z"
    },
    "tags": []
   },
   "outputs": [
    {
     "data": {
      "text/latex": [
       "$EN=6.534 $"
      ],
      "text/plain": [
       "EN"
      ]
     },
     "execution_count": 52,
     "metadata": {},
     "output_type": "execute_result"
    }
   ],
   "source": [
    "EN"
   ]
  },
  {
   "cell_type": "markdown",
   "id": "3789f1da-4192-43cc-abe0-4420a721813f",
   "metadata": {},
   "source": [
    "## Hydrodynamics"
   ]
  },
  {
   "cell_type": "code",
   "execution_count": 53,
   "id": "bb5d2e28-0556-4ffe-9b57-6c3eb703833f",
   "metadata": {
    "execution": {
     "iopub.execute_input": "2022-06-23T02:07:08.554069Z",
     "iopub.status.busy": "2022-06-23T02:07:08.554069Z",
     "iopub.status.idle": "2022-06-23T02:07:08.586525Z",
     "shell.execute_reply": "2022-06-23T02:07:08.584951Z",
     "shell.execute_reply.started": "2022-06-23T02:07:08.554069Z"
    },
    "tags": []
   },
   "outputs": [],
   "source": [
    "C33 = adda(m, 'C_{33}', pi*rhow*g/4*Df**2)"
   ]
  },
  {
   "cell_type": "code",
   "execution_count": 54,
   "id": "99422504-e371-4595-a714-58223e86cf7d",
   "metadata": {
    "execution": {
     "iopub.execute_input": "2022-06-23T02:07:08.772356Z",
     "iopub.status.busy": "2022-06-23T02:07:08.772356Z",
     "iopub.status.idle": "2022-06-23T02:07:08.813085Z",
     "shell.execute_reply": "2022-06-23T02:07:08.811824Z",
     "shell.execute_reply.started": "2022-06-23T02:07:08.772356Z"
    },
    "tags": []
   },
   "outputs": [],
   "source": [
    "A33 = adda(m, 'A_{33}', 0.0525*pi*rhow*(Dd**3+Ds**3+Df**3))"
   ]
  },
  {
   "cell_type": "code",
   "execution_count": 55,
   "id": "ef793e10-e101-412c-b3f6-d44d1a3400d4",
   "metadata": {
    "execution": {
     "iopub.execute_input": "2022-06-23T02:07:08.976523Z",
     "iopub.status.busy": "2022-06-23T02:07:08.970947Z",
     "iopub.status.idle": "2022-06-23T02:07:09.008710Z",
     "shell.execute_reply": "2022-06-23T02:07:09.007684Z",
     "shell.execute_reply.started": "2022-06-23T02:07:08.976523Z"
    },
    "tags": []
   },
   "outputs": [],
   "source": [
    "omega0 = adda(m, r'\\omega_0', (C33/(A33+mtot))**1/2, unit='rad/s', forceunit=True)"
   ]
  },
  {
   "cell_type": "code",
   "execution_count": 56,
   "id": "2fd80f16-1dd0-4a32-8b09-d00a7cf54d96",
   "metadata": {
    "execution": {
     "iopub.execute_input": "2022-06-23T02:07:09.175980Z",
     "iopub.status.busy": "2022-06-23T02:07:09.175980Z",
     "iopub.status.idle": "2022-06-23T02:07:09.196953Z",
     "shell.execute_reply": "2022-06-23T02:07:09.196577Z",
     "shell.execute_reply.started": "2022-06-23T02:07:09.175980Z"
    },
    "tags": []
   },
   "outputs": [
    {
     "data": {
      "text/latex": [
       "$\\omega_0=2.712\\ \\mathrm{rad}/\\mathrm{s}\\ (m_{platform}=3966.814 )$"
      ],
      "text/plain": [
       "\\omega_0"
      ]
     },
     "execution_count": 56,
     "metadata": {},
     "output_type": "execute_result"
    }
   ],
   "source": [
    "omega0"
   ]
  },
  {
   "cell_type": "markdown",
   "id": "bc86ea8d-5d7f-498d-af18-5590612705be",
   "metadata": {},
   "source": [
    "# HDSM"
   ]
  },
  {
   "cell_type": "code",
   "execution_count": 57,
   "id": "b614e2e9-7f6b-4ddf-b2a7-7e6781406def",
   "metadata": {
    "execution": {
     "iopub.execute_input": "2022-06-23T02:07:10.486298Z",
     "iopub.status.busy": "2022-06-23T02:07:10.486298Z",
     "iopub.status.idle": "2022-06-23T02:07:10.512333Z",
     "shell.execute_reply": "2022-06-23T02:07:10.510965Z",
     "shell.execute_reply.started": "2022-06-23T02:07:10.486298Z"
    },
    "tags": []
   },
   "outputs": [],
   "source": [
    "edges, tree = model.generate_formulation()"
   ]
  },
  {
   "cell_type": "code",
   "execution_count": 66,
   "id": "e0c28a7b-fc35-40fa-8da0-35c138d087f0",
   "metadata": {
    "execution": {
     "iopub.execute_input": "2022-06-23T02:08:58.475525Z",
     "iopub.status.busy": "2022-06-23T02:08:58.475525Z",
     "iopub.status.idle": "2022-06-23T02:08:58.489624Z",
     "shell.execute_reply": "2022-06-23T02:08:58.488515Z",
     "shell.execute_reply.started": "2022-06-23T02:08:58.475525Z"
    }
   },
   "outputs": [],
   "source": [
    "nodetyperepr = {VAR: '{}', COMP: 'f_{{{}}}', SOLVER: '{}'}\n",
    "G = flat_graph_formulation(*edges, nodetyperepr=nodetyperepr)"
   ]
  },
  {
   "cell_type": "code",
   "execution_count": 68,
   "id": "afb62667-3513-4b77-b0cc-fcbcd70aac8f",
   "metadata": {
    "execution": {
     "iopub.execute_input": "2022-06-23T02:10:18.117845Z",
     "iopub.status.busy": "2022-06-23T02:10:18.116948Z",
     "iopub.status.idle": "2022-06-23T02:10:18.140408Z",
     "shell.execute_reply": "2022-06-23T02:10:18.138986Z",
     "shell.execute_reply.started": "2022-06-23T02:10:18.117845Z"
    }
   },
   "outputs": [],
   "source": [
    "topo_order = sort_scc(G)"
   ]
  },
  {
   "cell_type": "code",
   "execution_count": 76,
   "id": "311e2d34-344e-49aa-a7be-50f947f7a3db",
   "metadata": {
    "execution": {
     "iopub.execute_input": "2022-06-23T02:11:37.849518Z",
     "iopub.status.busy": "2022-06-23T02:11:37.849518Z",
     "iopub.status.idle": "2022-06-23T02:11:37.866404Z",
     "shell.execute_reply": "2022-06-23T02:11:37.864717Z",
     "shell.execute_reply.started": "2022-06-23T02:11:37.849518Z"
    },
    "tags": []
   },
   "outputs": [],
   "source": [
    "F_ordered = OrderedDict([(next(iter(comp)).name,1) for comp in topo_order])\n",
    "ntree = F_ordered, tree[1], tree[2]"
   ]
  },
  {
   "cell_type": "code",
   "execution_count": 58,
   "id": "a58d9605-33da-424e-84f8-7d6b4c1dcd60",
   "metadata": {
    "execution": {
     "iopub.execute_input": "2022-06-23T02:07:11.449044Z",
     "iopub.status.busy": "2022-06-23T02:07:11.449044Z",
     "iopub.status.idle": "2022-06-23T02:07:11.464220Z",
     "shell.execute_reply": "2022-06-23T02:07:11.462778Z",
     "shell.execute_reply.started": "2022-06-23T02:07:11.449044Z"
    },
    "tags": []
   },
   "outputs": [],
   "source": [
    "from datastructures.graphutils import namefromid\n",
    "from datastructures.rendering import render_incidence"
   ]
  },
  {
   "cell_type": "code",
   "execution_count": 62,
   "id": "a513e014-85a6-42fa-9a0f-a4cdd68fbc94",
   "metadata": {
    "execution": {
     "iopub.execute_input": "2022-06-23T02:07:45.997504Z",
     "iopub.status.busy": "2022-06-23T02:07:45.997504Z",
     "iopub.status.idle": "2022-06-23T02:07:46.017315Z",
     "shell.execute_reply": "2022-06-23T02:07:46.015641Z",
     "shell.execute_reply.started": "2022-06-23T02:07:45.997504Z"
    },
    "tags": []
   },
   "outputs": [],
   "source": [
    "nodetyperepr2 = {VAR: '{}', COMP: 'f_{{{}}}', SOLVER: '{}'}\n",
    "namingfunc2 = namefromid(nodetyperepr2)"
   ]
  },
  {
   "cell_type": "code",
   "execution_count": 63,
   "id": "43df1312-8651-4c38-8ec1-015ce315ab69",
   "metadata": {
    "execution": {
     "iopub.execute_input": "2022-06-23T02:07:46.211252Z",
     "iopub.status.busy": "2022-06-23T02:07:46.211252Z",
     "iopub.status.idle": "2022-06-23T02:07:46.228258Z",
     "shell.execute_reply": "2022-06-23T02:07:46.228135Z",
     "shell.execute_reply.started": "2022-06-23T02:07:46.211252Z"
    },
    "tags": []
   },
   "outputs": [],
   "source": [
    "Ein, Eout, Rin = edges"
   ]
  },
  {
   "cell_type": "code",
   "execution_count": 64,
   "id": "1aead241-11a7-4732-bc1a-f56393f1ba65",
   "metadata": {
    "execution": {
     "iopub.execute_input": "2022-06-23T02:07:46.388885Z",
     "iopub.status.busy": "2022-06-23T02:07:46.388885Z",
     "iopub.status.idle": "2022-06-23T02:07:46.406678Z",
     "shell.execute_reply": "2022-06-23T02:07:46.405574Z",
     "shell.execute_reply.started": "2022-06-23T02:07:46.388885Z"
    },
    "tags": []
   },
   "outputs": [],
   "source": [
    "Ein_noparam = {comp:tuple(var for var in compvars if not model.idmapping[var].always_input) for comp,compvars in Ein.items()}\n",
    "edges_noparam = Ein_noparam, Eout, Rin"
   ]
  },
  {
   "cell_type": "code",
   "execution_count": 77,
   "id": "168b6311-9f9e-474d-bc71-9a6341cc53c0",
   "metadata": {
    "execution": {
     "iopub.execute_input": "2022-06-23T02:11:45.606115Z",
     "iopub.status.busy": "2022-06-23T02:11:45.606115Z",
     "iopub.status.idle": "2022-06-23T02:11:50.815753Z",
     "shell.execute_reply": "2022-06-23T02:11:50.815753Z",
     "shell.execute_reply.started": "2022-06-23T02:11:45.606115Z"
    },
    "tags": []
   },
   "outputs": [
    {
     "data": {
      "image/png": "[encoded data removed]",
      "text/plain": [
       "<Figure size 1440x1440 with 1 Axes>"
      ]
     },
     "metadata": {
      "needs_background": "light"
     },
     "output_type": "display_data"
    }
   ],
   "source": [
    "_, ax = render_incidence(edges_noparam, ntree, namingfunc2, figsize=(20,20))"
   ]
  },
  {
   "cell_type": "code",
   "execution_count": 83,
   "id": "86b3e356-9fe6-4cfd-a615-b6903f8b8066",
   "metadata": {
    "execution": {
     "iopub.execute_input": "2022-06-23T02:16:19.776502Z",
     "iopub.status.busy": "2022-06-23T02:16:19.766375Z",
     "iopub.status.idle": "2022-06-23T02:16:31.366448Z",
     "shell.execute_reply": "2022-06-23T02:16:31.365701Z",
     "shell.execute_reply.started": "2022-06-23T02:16:19.776502Z"
    },
    "tags": []
   },
   "outputs": [
    {
     "data": {
      "image/png": "[encoded data removed]",
      "text/plain": [
       "<Figure size 1440x1440 with 1 Axes>"
      ]
     },
     "metadata": {
      "needs_background": "light"
     },
     "output_type": "display_data"
    }
   ],
   "source": [
    "plt.sca(ax)\n",
    "plt.savefig('pearl_with_end_comps.png', dpi=200, bbox_inches='tight')"
   ]
  },
  {
   "cell_type": "markdown",
   "id": "c8178de9-f957-4ed4-bdb3-2fb0cbe1160b",
   "metadata": {
    "tags": []
   },
   "source": [
    "# Run"
   ]
  },
  {
   "cell_type": "code",
   "execution_count": 58,
   "id": "fa59b9aa-5f26-49cb-b6fd-738f9422e5a2",
   "metadata": {
    "execution": {
     "iopub.execute_input": "2022-06-21T03:14:22.387047Z",
     "iopub.status.busy": "2022-06-21T03:14:22.387047Z",
     "iopub.status.idle": "2022-06-21T03:14:22.403075Z",
     "shell.execute_reply": "2022-06-21T03:14:22.403075Z",
     "shell.execute_reply.started": "2022-06-21T03:14:22.387047Z"
    },
    "tags": []
   },
   "outputs": [],
   "source": [
    "DG = flat_graph_formulation(*edges)\n",
    "merge_order = sort_scc(DG)\n",
    "nedges, ntree = reorder_merge_solve(edges, tree, merge_order, 1, True)"
   ]
  },
  {
   "cell_type": "code",
   "execution_count": 59,
   "id": "917e66f4-8387-4023-b843-fe5a8ddc9283",
   "metadata": {
    "execution": {
     "iopub.execute_input": "2022-06-21T03:14:22.403075Z",
     "iopub.status.busy": "2022-06-21T03:14:22.403075Z",
     "iopub.status.idle": "2022-06-21T03:14:22.419201Z",
     "shell.execute_reply": "2022-06-21T03:14:22.419201Z",
     "shell.execute_reply.started": "2022-06-21T03:14:22.403075Z"
    },
    "tags": []
   },
   "outputs": [
    {
     "data": {
      "text/plain": [
       "[{f_10},\n",
       " {f_0},\n",
       " {f_9},\n",
       " {f_1},\n",
       " {f_2},\n",
       " {f_35},\n",
       " {f_36},\n",
       " {f_13},\n",
       " {f_14},\n",
       " {f_15},\n",
       " {f_17},\n",
       " {f_18},\n",
       " {f_19},\n",
       " {f_27},\n",
       " {f_28},\n",
       " {f_29},\n",
       " {f_32},\n",
       " {f_22},\n",
       " {f_16},\n",
       " {f_20},\n",
       " {f_31},\n",
       " {f_30},\n",
       " {f_33},\n",
       " {f_21},\n",
       " {f_34},\n",
       " {f_23},\n",
       " {f_24},\n",
       " {f_25},\n",
       " {f_26},\n",
       " {f_3},\n",
       " {f_4},\n",
       " {f_5},\n",
       " {f_37},\n",
       " {f_6},\n",
       " {f_7},\n",
       " {f_11},\n",
       " {f_8},\n",
       " {f_12}]"
      ]
     },
     "execution_count": 59,
     "metadata": {},
     "output_type": "execute_result"
    }
   ],
   "source": [
    "merge_order"
   ]
  },
  {
   "cell_type": "code",
   "execution_count": 60,
   "id": "99011d05-eb02-49ab-bb98-53a77fbf0360",
   "metadata": {
    "execution": {
     "iopub.execute_input": "2022-06-21T03:14:22.419201Z",
     "iopub.status.busy": "2022-06-21T03:14:22.419201Z",
     "iopub.status.idle": "2022-06-21T03:14:22.435570Z",
     "shell.execute_reply": "2022-06-21T03:14:22.435570Z",
     "shell.execute_reply.started": "2022-06-21T03:14:22.419201Z"
    },
    "tags": []
   },
   "outputs": [],
   "source": [
    "ordered_tree = ntree\n",
    "ordered_edges = nedges\n",
    "comp_options = model.comp_options\n",
    "var_options = model.var_options\n",
    "solvers_options = model.solvers_options\n",
    "solvers_options[1] = {'solver': 'N', 'maxiter':20}\n",
    "#solvers_options[2] = {'solver': 'N', 'maxiter':20}\n",
    "#solvers_options[3] = {'solver': 'N', 'maxiter':20}\n",
    "nodetyperepr = model.nametyperepr\n",
    "namingfunc = namefromsympy(nodetyperepr)\n",
    "sequence = order_from_tree(ordered_tree[0], ordered_tree[1], ordered_edges[1])\n",
    "solvers_options = default_solver_options(ordered_tree, solvers_options)\n",
    "wf = mdao_workflow(sequence, solvers_options, comp_options, var_options)"
   ]
  },
  {
   "cell_type": "code",
   "execution_count": 61,
   "id": "e3d229b6-3d89-4fb4-b41f-8399f860f99b",
   "metadata": {
    "execution": {
     "iopub.execute_input": "2022-06-21T03:14:22.435570Z",
     "iopub.status.busy": "2022-06-21T03:14:22.435570Z",
     "iopub.status.idle": "2022-06-21T03:14:22.451851Z",
     "shell.execute_reply": "2022-06-21T03:14:22.451654Z",
     "shell.execute_reply.started": "2022-06-21T03:14:22.435570Z"
    },
    "tags": []
   },
   "outputs": [],
   "source": [
    "components = model.components\n",
    "lookup_f = get_f(components, ordered_edges)\n",
    "wfmdao = mdao_workflow_with_args(wf, lookup_f, namingfunc)"
   ]
  },
  {
   "cell_type": "code",
   "execution_count": 62,
   "id": "8fa1a7bf-d96b-4d0a-ace2-a04979c7d1f7",
   "metadata": {
    "execution": {
     "iopub.execute_input": "2022-06-21T03:14:22.451851Z",
     "iopub.status.busy": "2022-06-21T03:14:22.451851Z",
     "iopub.status.idle": "2022-06-21T03:14:22.477458Z",
     "shell.execute_reply": "2022-06-21T03:14:22.477458Z",
     "shell.execute_reply.started": "2022-06-21T03:14:22.451851Z"
    },
    "tags": []
   },
   "outputs": [],
   "source": [
    "prob, mdao_in, groups = build_archi(ordered_edges, ordered_tree, wfmdao, namingfunc, model.idmapping)"
   ]
  },
  {
   "cell_type": "code",
   "execution_count": 63,
   "id": "b7e2b545-c587-451e-b35d-144260e01a9b",
   "metadata": {
    "execution": {
     "iopub.execute_input": "2022-06-21T03:14:22.477458Z",
     "iopub.status.busy": "2022-06-21T03:14:22.477458Z",
     "iopub.status.idle": "2022-06-21T03:14:22.681206Z",
     "shell.execute_reply": "2022-06-21T03:14:22.681206Z",
     "shell.execute_reply.started": "2022-06-21T03:14:22.477458Z"
    },
    "tags": []
   },
   "outputs": [
    {
     "name": "stdout",
     "output_type": "stream",
     "text": [
      "\n",
      "==\n",
      "s1\n",
      "==\n",
      "NL: Newton Converged in 6 iterations\n"
     ]
    }
   ],
   "source": [
    "prob.run_model()"
   ]
  },
  {
   "cell_type": "code",
   "execution_count": 64,
   "id": "a0d69cf9-4540-457d-b8e1-6d1f231ef973",
   "metadata": {
    "execution": {
     "iopub.execute_input": "2022-06-21T03:14:22.681206Z",
     "iopub.status.busy": "2022-06-21T03:14:22.681206Z",
     "iopub.status.idle": "2022-06-21T03:14:22.712748Z",
     "shell.execute_reply": "2022-06-21T03:14:22.712748Z",
     "shell.execute_reply.started": "2022-06-21T03:14:22.681206Z"
    },
    "tags": []
   },
   "outputs": [
    {
     "name": "stdout",
     "output_type": "stream",
     "text": [
      "88 Explicit Output(s) in 'model'\n",
      "\n",
      "varname         val              \n",
      "--------------  -----------------\n",
      "inp\n",
      "  d_deg         [0.005]          \n",
      "  eta_parab     [0.55]           \n",
      "  eta_m         [0.75]           \n",
      "  D_d           [1.25]           \n",
      "  eta_solar     [10.]            \n",
      "  k             [1.38065e-23]    \n",
      "  rho_w         [1023.6]         \n",
      "  m_comms       [50.]            \n",
      "  t_s           [2.]             \n",
      "  theta         [55.]            \n",
      "  I_deg         [0.9]            \n",
      "  phi_s         [800.]           \n",
      "  L_l           [0.79432823]     \n",
      "  D_s           [1.]             \n",
      "  e_t           [27.]            \n",
      "  L_a           [0.9332543]      \n",
      "  t_comms       [1.]             \n",
      "  t_move        [1.]             \n",
      "  t_mission     [24.]            \n",
      "  t_recharge    [12.]            \n",
      "  theta_t       [32.]            \n",
      "  T_s           [135.]           \n",
      "  R             [10.]            \n",
      "  c             [3.e+08]         \n",
      "  m_batt_zero   [5.]             \n",
      "  nu_battery    [450.]           \n",
      "  eta_A         [0.75]           \n",
      "  m_prop        [50.]            \n",
      "  f             [2.2]            \n",
      "  C_d           [1.]             \n",
      "  L_p           [0.97723722]     \n",
      "  eta_s         [0.27]           \n",
      "  v             [1.]             \n",
      "  eta_battery   [0.85]           \n",
      "  Re            [6378.]          \n",
      "  g             [9.81]           \n",
      "  DOD           [0.7]            \n",
      "  S_w           [10.]            \n",
      "  gamma         [1.]             \n",
      "  P_comms       [0.5]            \n",
      "  t_f           [0.5]            \n",
      "  h             [780.]           \n",
      "  t_d           [0.5]            \n",
      "  t_service     [12.]            \n",
      "  rho_h         [2700.]          \n",
      "  rho           [700.]           \n",
      "  N             [1.]             \n",
      "  E_AUV         [1.9]            \n",
      "  P_hotel       [50.]            \n",
      "  D_r           [5.3]            \n",
      "  L_solar       [10.]            \n",
      "  mu_battery    [200.]           \n",
      "s1\n",
      "  f10\n",
      "    I           [8.60370776]     \n",
      "  f0\n",
      "    Vtot        [7.38336403]     \n",
      "  f9\n",
      "    K_G         [1.83590316]     \n",
      "  f1\n",
      "    m_struct    [6395.53945194]  \n",
      "  f2\n",
      "    m_solar     [77.98463083]    \n",
      "  f35\n",
      "    C_33        [104411.18910359]\n",
      "  f36\n",
      "    A_33        [8631.10552791]  \n",
      "  f14\n",
      "    P_recharge  [827.04166667]   \n",
      "  f15\n",
      "    P_move      [6824.]          \n",
      "  f17\n",
      "    E_hotel     [1.2]            \n",
      "  f18\n",
      "    E_comms     [0.5]            \n",
      "  f19\n",
      "    E_service   [1.9]            \n",
      "  f27\n",
      "    lambda      [0.13636364]     \n",
      "  f28\n",
      "    G_pt        [14.19700043]    \n",
      "  f29\n",
      "    L_pt_db     [-8.54296875]    \n",
      "  f32\n",
      "    S           [3249.31992885]  \n",
      "  f22\n",
      "    E_recharge  [9.9245]         \n",
      "  f16\n",
      "    E_move      [6.824]          \n",
      "  f20\n",
      "    P_service   [158.33333333]   \n",
      "  f31\n",
      "    G_r         [8200.05992736]  \n",
      "  f30\n",
      "    G_t         [3.67623418]     \n",
      "  f33\n",
      "    L_s         [1.11530198e-17] \n",
      "  f21\n",
      "    E_required  [9.9245]         \n",
      "  f34\n",
      "    EN          [6.533792]       \n",
      "  f24\n",
      "    C           [16.67983193]    \n",
      "  f25\n",
      "    V_batt      [0.03706629]     \n",
      "  f26\n",
      "    m_batt      [88.39915966]    \n",
      "  f3\n",
      "    m_platform  [6661.92324244]  \n",
      "  f4\n",
      "    F_W         [65353.46700833] \n",
      "  f5\n",
      "    Vd          [6.50832673]     \n",
      "  f37\n",
      "    omega_0     [3.41368576]     \n",
      "  f6\n",
      "    F_B         [65353.46700833] \n",
      "  f7\n",
      "    h_f         [0.41584522]     \n",
      "  f11\n",
      "    B_M         [1.32195388]     \n",
      "  f8\n",
      "    K_B         [1.752878]       \n",
      "  f12\n",
      "    G_M         [1.23892872]     \n",
      "\n",
      "\n",
      "2 Implicit Output(s) in 'model'\n",
      "\n",
      "varname        val         \n",
      "-------------  ------------\n",
      "s1\n",
      "  res_f13_f23\n",
      "    D_f        [3.63855495]\n",
      "    A_solar    [7.79846308]\n",
      "\n",
      "\n"
     ]
    }
   ],
   "source": [
    "prob.model.list_outputs();"
   ]
  },
  {
   "cell_type": "markdown",
   "id": "519cd784-5ffc-4ed4-ac22-88ead6124dca",
   "metadata": {},
   "source": [
    "# Results"
   ]
  },
  {
   "cell_type": "code",
   "execution_count": 65,
   "id": "4a12e34b-a8c9-43b1-8e09-da3a7a7bae78",
   "metadata": {
    "execution": {
     "iopub.execute_input": "2022-06-21T03:14:22.713897Z",
     "iopub.status.busy": "2022-06-21T03:14:22.713897Z",
     "iopub.status.idle": "2022-06-21T03:14:22.736530Z",
     "shell.execute_reply": "2022-06-21T03:14:22.736530Z",
     "shell.execute_reply.started": "2022-06-21T03:14:22.713897Z"
    },
    "tags": []
   },
   "outputs": [],
   "source": [
    "import pandas as pd"
   ]
  },
  {
   "cell_type": "code",
   "execution_count": 66,
   "id": "dc474071-d34d-4eda-ba7d-d675328d6d07",
   "metadata": {
    "execution": {
     "iopub.execute_input": "2022-06-21T03:14:22.736530Z",
     "iopub.status.busy": "2022-06-21T03:14:22.736530Z",
     "iopub.status.idle": "2022-06-21T03:14:22.752645Z",
     "shell.execute_reply": "2022-06-21T03:14:22.752645Z",
     "shell.execute_reply.started": "2022-06-21T03:14:22.736530Z"
    },
    "tags": []
   },
   "outputs": [],
   "source": [
    "from compute import ureg\n",
    "def prettyprintval(x):\n",
    "    x = x[0]\n",
    "    if abs(x)>1e4 or abs(x)<1e-3:\n",
    "        return '{:.3e~P}'.format(ureg.Quantity(x, ''))\n",
    "    else:\n",
    "        return '{:.3f}'.format(x).rstrip('0').rstrip('.')\n",
    "def prettyprintunit(x):\n",
    "    if x.units != ureg('year'):\n",
    "        strformat = '{:P~}'\n",
    "        return strformat.format(x.units)\n",
    "    else:\n",
    "        return 'yr'"
   ]
  },
  {
   "cell_type": "code",
   "execution_count": 67,
   "id": "17fd9501-63a8-4eb5-befc-7d5d0c50cab9",
   "metadata": {
    "execution": {
     "iopub.execute_input": "2022-06-21T03:14:22.752645Z",
     "iopub.status.busy": "2022-06-21T03:14:22.752645Z",
     "iopub.status.idle": "2022-06-21T03:14:22.769643Z",
     "shell.execute_reply": "2022-06-21T03:14:22.768977Z",
     "shell.execute_reply.started": "2022-06-21T03:14:22.752645Z"
    },
    "tags": []
   },
   "outputs": [],
   "source": [
    "df = pd.DataFrame([(key, \n",
    "               prettyprintval(prob.get_val(namingfunc(key.varid, VAR))), \n",
    "               prettyprintunit(key.varunit)) for key,var in model.comp_by_var.items()])"
   ]
  },
  {
   "cell_type": "code",
   "execution_count": 68,
   "id": "9a9ad8aa-7abe-4524-9e81-852041ba4cce",
   "metadata": {
    "execution": {
     "iopub.execute_input": "2022-06-21T03:14:22.769643Z",
     "iopub.status.busy": "2022-06-21T03:14:22.769643Z",
     "iopub.status.idle": "2022-06-21T03:14:22.791468Z",
     "shell.execute_reply": "2022-06-21T03:14:22.791468Z",
     "shell.execute_reply.started": "2022-06-21T03:14:22.769643Z"
    },
    "tags": []
   },
   "outputs": [
    {
     "data": {
      "text/html": [
       "<div>\n",
       "<style scoped>\n",
       "    .dataframe tbody tr th:only-of-type {\n",
       "        vertical-align: middle;\n",
       "    }\n",
       "\n",
       "    .dataframe tbody tr th {\n",
       "        vertical-align: top;\n",
       "    }\n",
       "\n",
       "    .dataframe thead th {\n",
       "        text-align: right;\n",
       "    }\n",
       "</style>\n",
       "<table border=\"1\" class=\"dataframe\">\n",
       "  <thead>\n",
       "    <tr style=\"text-align: right;\">\n",
       "      <th></th>\n",
       "      <th>0</th>\n",
       "      <th>1</th>\n",
       "    </tr>\n",
       "  </thead>\n",
       "  <tbody>\n",
       "    <tr>\n",
       "      <th>0</th>\n",
       "      <td>\\rho_h</td>\n",
       "      <td>2700.00</td>\n",
       "    </tr>\n",
       "    <tr>\n",
       "      <th>1</th>\n",
       "      <td>t_s</td>\n",
       "      <td>2.00</td>\n",
       "    </tr>\n",
       "    <tr>\n",
       "      <th>2</th>\n",
       "      <td>D_d</td>\n",
       "      <td>1.25</td>\n",
       "    </tr>\n",
       "    <tr>\n",
       "      <th>3</th>\n",
       "      <td>R</td>\n",
       "      <td>10.00</td>\n",
       "    </tr>\n",
       "    <tr>\n",
       "      <th>4</th>\n",
       "      <td>t_f</td>\n",
       "      <td>0.50</td>\n",
       "    </tr>\n",
       "    <tr>\n",
       "      <th>5</th>\n",
       "      <td>t_d</td>\n",
       "      <td>0.50</td>\n",
       "    </tr>\n",
       "    <tr>\n",
       "      <th>6</th>\n",
       "      <td>P_{comms}</td>\n",
       "      <td>0.50</td>\n",
       "    </tr>\n",
       "    <tr>\n",
       "      <th>7</th>\n",
       "      <td>v</td>\n",
       "      <td>1.00</td>\n",
       "    </tr>\n",
       "    <tr>\n",
       "      <th>8</th>\n",
       "      <td>\\rho</td>\n",
       "      <td>700.00</td>\n",
       "    </tr>\n",
       "    <tr>\n",
       "      <th>9</th>\n",
       "      <td>D_s</td>\n",
       "      <td>1.00</td>\n",
       "    </tr>\n",
       "  </tbody>\n",
       "</table>\n",
       "</div>"
      ],
      "text/plain": [
       "           0        1\n",
       "0     \\rho_h  2700.00\n",
       "1        t_s     2.00\n",
       "2        D_d     1.25\n",
       "3          R    10.00\n",
       "4        t_f     0.50\n",
       "5        t_d     0.50\n",
       "6  P_{comms}     0.50\n",
       "7          v     1.00\n",
       "8       \\rho   700.00\n",
       "9        D_s     1.00"
      ]
     },
     "execution_count": 68,
     "metadata": {},
     "output_type": "execute_result"
    }
   ],
   "source": [
    "dvars = {(elt,model.idmapping[elt].varval) for elt in mdao_in if not model.idmapping[elt].always_input}\n",
    "pd.DataFrame(dvars)"
   ]
  },
  {
   "cell_type": "code",
   "execution_count": 69,
   "id": "96669b1c-b992-4bc6-8e6b-7c16ed4d33c8",
   "metadata": {
    "execution": {
     "iopub.execute_input": "2022-06-21T03:14:22.791468Z",
     "iopub.status.busy": "2022-06-21T03:14:22.791468Z",
     "iopub.status.idle": "2022-06-21T03:14:22.808011Z",
     "shell.execute_reply": "2022-06-21T03:14:22.808011Z",
     "shell.execute_reply.started": "2022-06-21T03:14:22.791468Z"
    },
    "tags": []
   },
   "outputs": [
    {
     "data": {
      "text/html": [
       "<div>\n",
       "<style scoped>\n",
       "    .dataframe tbody tr th:only-of-type {\n",
       "        vertical-align: middle;\n",
       "    }\n",
       "\n",
       "    .dataframe tbody tr th {\n",
       "        vertical-align: top;\n",
       "    }\n",
       "\n",
       "    .dataframe thead th {\n",
       "        text-align: right;\n",
       "    }\n",
       "</style>\n",
       "<table border=\"1\" class=\"dataframe\">\n",
       "  <thead>\n",
       "    <tr style=\"text-align: right;\">\n",
       "      <th></th>\n",
       "      <th>0</th>\n",
       "      <th>1</th>\n",
       "      <th>2</th>\n",
       "    </tr>\n",
       "  </thead>\n",
       "  <tbody>\n",
       "    <tr>\n",
       "      <th>0</th>\n",
       "      <td>Vtot</td>\n",
       "      <td>7.383</td>\n",
       "      <td>m³</td>\n",
       "    </tr>\n",
       "    <tr>\n",
       "      <th>1</th>\n",
       "      <td>m_{struct}</td>\n",
       "      <td>6395.539</td>\n",
       "      <td>kg</td>\n",
       "    </tr>\n",
       "    <tr>\n",
       "      <th>2</th>\n",
       "      <td>m_{solar}</td>\n",
       "      <td>77.985</td>\n",
       "      <td>kg</td>\n",
       "    </tr>\n",
       "    <tr>\n",
       "      <th>3</th>\n",
       "      <td>m_{platform}</td>\n",
       "      <td>6661.923</td>\n",
       "      <td>kg</td>\n",
       "    </tr>\n",
       "    <tr>\n",
       "      <th>4</th>\n",
       "      <td>F_W</td>\n",
       "      <td>6.535×10⁴</td>\n",
       "      <td>N</td>\n",
       "    </tr>\n",
       "    <tr>\n",
       "      <th>5</th>\n",
       "      <td>Vd</td>\n",
       "      <td>6.508</td>\n",
       "      <td>m³</td>\n",
       "    </tr>\n",
       "    <tr>\n",
       "      <th>6</th>\n",
       "      <td>F_B</td>\n",
       "      <td>6.535×10⁴</td>\n",
       "      <td>N</td>\n",
       "    </tr>\n",
       "    <tr>\n",
       "      <th>7</th>\n",
       "      <td>h_f</td>\n",
       "      <td>0.416</td>\n",
       "      <td>m</td>\n",
       "    </tr>\n",
       "    <tr>\n",
       "      <th>8</th>\n",
       "      <td>K_B</td>\n",
       "      <td>1.753</td>\n",
       "      <td>m</td>\n",
       "    </tr>\n",
       "    <tr>\n",
       "      <th>9</th>\n",
       "      <td>K_G</td>\n",
       "      <td>1.836</td>\n",
       "      <td>m</td>\n",
       "    </tr>\n",
       "    <tr>\n",
       "      <th>10</th>\n",
       "      <td>I</td>\n",
       "      <td>8.604</td>\n",
       "      <td>m⁴</td>\n",
       "    </tr>\n",
       "    <tr>\n",
       "      <th>11</th>\n",
       "      <td>B_M</td>\n",
       "      <td>1.322</td>\n",
       "      <td>m</td>\n",
       "    </tr>\n",
       "    <tr>\n",
       "      <th>12</th>\n",
       "      <td>G_M</td>\n",
       "      <td>1.239</td>\n",
       "      <td>m</td>\n",
       "    </tr>\n",
       "    <tr>\n",
       "      <th>13</th>\n",
       "      <td>P_{recharge}</td>\n",
       "      <td>827.042</td>\n",
       "      <td>W</td>\n",
       "    </tr>\n",
       "    <tr>\n",
       "      <th>14</th>\n",
       "      <td>P_{move}</td>\n",
       "      <td>6824</td>\n",
       "      <td>W</td>\n",
       "    </tr>\n",
       "    <tr>\n",
       "      <th>15</th>\n",
       "      <td>E_{move}</td>\n",
       "      <td>6.824</td>\n",
       "      <td>hr·kW</td>\n",
       "    </tr>\n",
       "    <tr>\n",
       "      <th>16</th>\n",
       "      <td>E_{hotel}</td>\n",
       "      <td>1.2</td>\n",
       "      <td>hr·kW</td>\n",
       "    </tr>\n",
       "    <tr>\n",
       "      <th>17</th>\n",
       "      <td>E_{comms}</td>\n",
       "      <td>0.5</td>\n",
       "      <td>W·hr</td>\n",
       "    </tr>\n",
       "    <tr>\n",
       "      <th>18</th>\n",
       "      <td>E_{service}</td>\n",
       "      <td>1.9</td>\n",
       "      <td>hr·kW</td>\n",
       "    </tr>\n",
       "    <tr>\n",
       "      <th>19</th>\n",
       "      <td>P_{service}</td>\n",
       "      <td>158.333</td>\n",
       "      <td>W</td>\n",
       "    </tr>\n",
       "    <tr>\n",
       "      <th>20</th>\n",
       "      <td>E_{required}</td>\n",
       "      <td>9.925</td>\n",
       "      <td>hr·kW</td>\n",
       "    </tr>\n",
       "    <tr>\n",
       "      <th>21</th>\n",
       "      <td>E_{recharge}</td>\n",
       "      <td>9.925</td>\n",
       "      <td>hr·kW</td>\n",
       "    </tr>\n",
       "    <tr>\n",
       "      <th>22</th>\n",
       "      <td>C</td>\n",
       "      <td>16.68</td>\n",
       "      <td>hr·kW</td>\n",
       "    </tr>\n",
       "    <tr>\n",
       "      <th>23</th>\n",
       "      <td>V_{batt}</td>\n",
       "      <td>0.037</td>\n",
       "      <td>m³</td>\n",
       "    </tr>\n",
       "    <tr>\n",
       "      <th>24</th>\n",
       "      <td>m_{batt}</td>\n",
       "      <td>88.399</td>\n",
       "      <td>kg</td>\n",
       "    </tr>\n",
       "    <tr>\n",
       "      <th>25</th>\n",
       "      <td>\\lambda</td>\n",
       "      <td>0.136</td>\n",
       "      <td>m</td>\n",
       "    </tr>\n",
       "    <tr>\n",
       "      <th>26</th>\n",
       "      <td>G_{pt}</td>\n",
       "      <td>14.197</td>\n",
       "      <td></td>\n",
       "    </tr>\n",
       "    <tr>\n",
       "      <th>27</th>\n",
       "      <td>L_{pt_db}</td>\n",
       "      <td>-8.543</td>\n",
       "      <td></td>\n",
       "    </tr>\n",
       "    <tr>\n",
       "      <th>28</th>\n",
       "      <td>G_t</td>\n",
       "      <td>3.676</td>\n",
       "      <td></td>\n",
       "    </tr>\n",
       "    <tr>\n",
       "      <th>29</th>\n",
       "      <td>G_r</td>\n",
       "      <td>8200.06</td>\n",
       "      <td></td>\n",
       "    </tr>\n",
       "    <tr>\n",
       "      <th>30</th>\n",
       "      <td>S</td>\n",
       "      <td>3249.32</td>\n",
       "      <td>km</td>\n",
       "    </tr>\n",
       "    <tr>\n",
       "      <th>31</th>\n",
       "      <td>L_s</td>\n",
       "      <td>1.115×10⁻¹⁷</td>\n",
       "      <td></td>\n",
       "    </tr>\n",
       "    <tr>\n",
       "      <th>32</th>\n",
       "      <td>EN</td>\n",
       "      <td>6.534</td>\n",
       "      <td>1/bit</td>\n",
       "    </tr>\n",
       "    <tr>\n",
       "      <th>33</th>\n",
       "      <td>C_{33}</td>\n",
       "      <td>1.044×10⁵</td>\n",
       "      <td>kg/s²</td>\n",
       "    </tr>\n",
       "    <tr>\n",
       "      <th>34</th>\n",
       "      <td>A_{33}</td>\n",
       "      <td>8631.106</td>\n",
       "      <td>kg</td>\n",
       "    </tr>\n",
       "    <tr>\n",
       "      <th>35</th>\n",
       "      <td>\\omega_0</td>\n",
       "      <td>3.414</td>\n",
       "      <td>rad/s</td>\n",
       "    </tr>\n",
       "  </tbody>\n",
       "</table>\n",
       "</div>"
      ],
      "text/plain": [
       "               0            1      2\n",
       "0           Vtot        7.383     m³\n",
       "1     m_{struct}     6395.539     kg\n",
       "2      m_{solar}       77.985     kg\n",
       "3   m_{platform}     6661.923     kg\n",
       "4            F_W    6.535×10⁴      N\n",
       "5             Vd        6.508     m³\n",
       "6            F_B    6.535×10⁴      N\n",
       "7            h_f        0.416      m\n",
       "8            K_B        1.753      m\n",
       "9            K_G        1.836      m\n",
       "10             I        8.604     m⁴\n",
       "11           B_M        1.322      m\n",
       "12           G_M        1.239      m\n",
       "13  P_{recharge}      827.042      W\n",
       "14      P_{move}         6824      W\n",
       "15      E_{move}        6.824  hr·kW\n",
       "16     E_{hotel}          1.2  hr·kW\n",
       "17     E_{comms}          0.5   W·hr\n",
       "18   E_{service}          1.9  hr·kW\n",
       "19   P_{service}      158.333      W\n",
       "20  E_{required}        9.925  hr·kW\n",
       "21  E_{recharge}        9.925  hr·kW\n",
       "22             C        16.68  hr·kW\n",
       "23      V_{batt}        0.037     m³\n",
       "24      m_{batt}       88.399     kg\n",
       "25       \\lambda        0.136      m\n",
       "26        G_{pt}       14.197       \n",
       "27     L_{pt_db}       -8.543       \n",
       "28           G_t        3.676       \n",
       "29           G_r      8200.06       \n",
       "30             S      3249.32     km\n",
       "31           L_s  1.115×10⁻¹⁷       \n",
       "32            EN        6.534  1/bit\n",
       "33        C_{33}    1.044×10⁵  kg/s²\n",
       "34        A_{33}     8631.106     kg\n",
       "35      \\omega_0        3.414  rad/s"
      ]
     },
     "execution_count": 69,
     "metadata": {},
     "output_type": "execute_result"
    }
   ],
   "source": [
    "df"
   ]
  },
  {
   "cell_type": "code",
   "execution_count": 75,
   "id": "026bc1ad-ba71-4bc7-844f-a26e9693abaa",
   "metadata": {
    "execution": {
     "iopub.execute_input": "2022-06-21T03:20:25.910917Z",
     "iopub.status.busy": "2022-06-21T03:20:25.910917Z",
     "iopub.status.idle": "2022-06-21T03:20:25.944065Z",
     "shell.execute_reply": "2022-06-21T03:20:25.942821Z",
     "shell.execute_reply.started": "2022-06-21T03:20:25.910917Z"
    },
    "tags": []
   },
   "outputs": [
    {
     "data": {
      "text/html": [
       "<div>\n",
       "<style scoped>\n",
       "    .dataframe tbody tr th:only-of-type {\n",
       "        vertical-align: middle;\n",
       "    }\n",
       "\n",
       "    .dataframe tbody tr th {\n",
       "        vertical-align: top;\n",
       "    }\n",
       "\n",
       "    .dataframe thead th {\n",
       "        text-align: right;\n",
       "    }\n",
       "</style>\n",
       "<table border=\"1\" class=\"dataframe\">\n",
       "  <thead>\n",
       "    <tr style=\"text-align: right;\">\n",
       "      <th></th>\n",
       "      <th>0</th>\n",
       "      <th>1</th>\n",
       "      <th>2</th>\n",
       "    </tr>\n",
       "  </thead>\n",
       "  <tbody>\n",
       "    <tr>\n",
       "      <th>12</th>\n",
       "      <td>G_M</td>\n",
       "      <td>1.239</td>\n",
       "      <td>m</td>\n",
       "    </tr>\n",
       "    <tr>\n",
       "      <th>13</th>\n",
       "      <td>P_{recharge}</td>\n",
       "      <td>827.042</td>\n",
       "      <td>W</td>\n",
       "    </tr>\n",
       "    <tr>\n",
       "      <th>21</th>\n",
       "      <td>E_{recharge}</td>\n",
       "      <td>9.925</td>\n",
       "      <td>hr·kW</td>\n",
       "    </tr>\n",
       "    <tr>\n",
       "      <th>35</th>\n",
       "      <td>\\omega_0</td>\n",
       "      <td>3.414</td>\n",
       "      <td>rad/s</td>\n",
       "    </tr>\n",
       "  </tbody>\n",
       "</table>\n",
       "</div>"
      ],
      "text/plain": [
       "               0        1      2\n",
       "12           G_M    1.239      m\n",
       "13  P_{recharge}  827.042      W\n",
       "21  E_{recharge}    9.925  hr·kW\n",
       "35      \\omega_0    3.414  rad/s"
      ]
     },
     "execution_count": 75,
     "metadata": {},
     "output_type": "execute_result"
    }
   ],
   "source": [
    "df.iloc[[12,13,21,35]]#.style.to_latex())"
   ]
  },
  {
   "cell_type": "code",
   "execution_count": null,
   "id": "620beaf4-d9bb-452a-9296-43f63d685cb3",
   "metadata": {},
   "outputs": [],
   "source": []
  }
 ],
 "metadata": {
  "kernelspec": {
   "display_name": "Python [conda env:mdo]",
   "language": "python",
   "name": "conda-env-mdo-py"
  },
  "language_info": {
   "codemirror_mode": {
    "name": "ipython",
    "version": 3
   },
   "file_extension": ".py",
   "mimetype": "text/x-python",
   "name": "python",
   "nbconvert_exporter": "python",
   "pygments_lexer": "ipython3",
   "version": "3.9.13"
  }
 },
 "nbformat": 4,
 "nbformat_minor": 5
}
