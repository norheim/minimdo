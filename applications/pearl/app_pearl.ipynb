{
 "cells": [
  {
   "cell_type": "code",
   "execution_count": 1,
   "id": "b9a213ad",
   "metadata": {
    "execution": {
     "iopub.execute_input": "2022-02-02T13:13:12.159211Z",
     "iopub.status.busy": "2022-02-02T13:13:12.158211Z",
     "iopub.status.idle": "2022-02-02T13:13:18.586464Z",
     "shell.execute_reply": "2022-02-02T13:13:18.584728Z",
     "shell.execute_reply.started": "2022-02-02T13:13:12.159211Z"
    },
    "tags": []
   },
   "outputs": [],
   "source": [
    "from compute import Var, Par, Model, adda, addf, ureg, Evaluable, buildidpvars, get_unit\n",
    "from compute import RefNode, INTER, addsolver\n",
    "from scipy import interpolate\n",
    "import numpy as np\n",
    "import openmdao.api as om\n",
    "import sympy as sp\n",
    "from representations import render_tree, tree_incidence\n",
    "from notation import generate_execution, graphs_from_incidence, make_acyclic, default_sequence\n",
    "from datastructures import notation_from_tree, all_vars_from_incidence\n",
    "from utils import normalize_name\n",
    "from anytree import PreOrderIter\n",
    "import matplotlib.pyplot as plt"
   ]
  },
  {
   "cell_type": "code",
   "execution_count": 2,
   "id": "0d4f7cf8-a797-431e-9110-6b8573e9863c",
   "metadata": {
    "execution": {
     "iopub.execute_input": "2022-02-02T13:13:18.594459Z",
     "iopub.status.busy": "2022-02-02T13:13:18.593458Z",
     "iopub.status.idle": "2022-02-02T13:13:18.616457Z",
     "shell.execute_reply": "2022-02-02T13:13:18.615460Z",
     "shell.execute_reply.started": "2022-02-02T13:13:18.594459Z"
    },
    "tags": []
   },
   "outputs": [],
   "source": [
    "from notationcompute import optsolver, solver, explicit"
   ]
  },
  {
   "cell_type": "code",
   "execution_count": 3,
   "id": "5610484b",
   "metadata": {
    "execution": {
     "iopub.execute_input": "2022-02-02T13:13:18.627459Z",
     "iopub.status.busy": "2022-02-02T13:13:18.627459Z",
     "iopub.status.idle": "2022-02-02T13:13:18.650462Z",
     "shell.execute_reply": "2022-02-02T13:13:18.647483Z",
     "shell.execute_reply.started": "2022-02-02T13:13:18.627459Z"
    },
    "tags": []
   },
   "outputs": [],
   "source": [
    "db2dec = lambda x: 10**(x/10)\n",
    "dec2db = lambda x: 10*sp.log(sp.Abs(x), 10)"
   ]
  },
  {
   "cell_type": "code",
   "execution_count": 4,
   "id": "b7f66103",
   "metadata": {
    "execution": {
     "iopub.execute_input": "2022-02-02T13:13:18.662463Z",
     "iopub.status.busy": "2022-02-02T13:13:18.661463Z",
     "iopub.status.idle": "2022-02-02T13:13:19.296467Z",
     "shell.execute_reply": "2022-02-02T13:13:19.295480Z",
     "shell.execute_reply.started": "2022-02-02T13:13:18.662463Z"
    },
    "tags": []
   },
   "outputs": [],
   "source": [
    "model = Model()\n",
    "m = RefNode(name='/', ref=model)\n",
    "\n",
    "# Geometry\n",
    "D_d = Var('D_d', 5, 'm')\n",
    "D_f = Var('D_f', 5, 'm')\n",
    "D_s = Var('D_s', 1, 'm')\n",
    "t_d = Var('t_d', 0.5, 'm')\n",
    "t_f = Var('t_f', 2, 'm')\n",
    "t_s = Var('t_s', 6, 'm')\n",
    "\n",
    "P_hotel = Par('P_hotel', 50, 'W')\n",
    "eta_s = Par('eta_s', 0.27)\n",
    "phi_s = Par('phi_s', 800, 'W/m**2')\n",
    "theta_bar = Par('theta_bar', 55, 'deg')\n",
    "I_d = Par('I_d', 0.9)\n",
    "D = Par('D', 0.005)\n",
    "L_s = Par('L_s', 10)\n",
    "t_r = Var('t_r', unit='hr')\n",
    "E_AUV = Par('E_AUV', 1.9, 'kW*hr')\n",
    "t_service = Par('t_service', 12, 'hr')\n",
    "t_comms = Par('t_comms', 1, 'hr')\n",
    "gamma = Par('gamma', 2)\n",
    "A_s = adda(m, 'A_s', 1.5*(D_f/2)**2, 'm**2')\n",
    "t_mission = Par('t_mission', 24, 'hr')\n",
    "\n",
    "# AUV recharging system\n",
    "P_recharge = adda(m, 'P_recharge', \n",
    "    eta_s * phi_s * sp.cos(theta_bar) * I_d * (1-D)**L_s * A_s, unit='W')\n",
    "P_drawrecharge = adda(m, 'P_drawrecharge', P_hotel - P_recharge, unit='W')\n",
    "E_recharge_gen = adda(m, 'E_recharge_gen', P_recharge * t_r, unit='W*hr')\n",
    "E_service = adda(m, 'E_service', E_AUV * gamma, unit='W*hr')\n",
    "P_service = adda(m, 'P_service', E_service / t_service, unit='W')\n",
    "P_drawservice = adda(m, 'P_drawservice', P_hotel - P_service, unit='W')\n",
    "\n",
    "# Propulsion\n",
    "rho = Par('rho', 1023.6, 'kg/m**3') # density of seawater [kg/m^3]\n",
    "C_d = Par('C_d', 1) # estimate drag coefficient (a square flat plate at 90 deg to the flow is 1.17)\n",
    "S_w = Par('S_w', 0.5, 'm**2') # will technically need to determine from A_solar and other structural needs... assume something for now\n",
    "v = Var('v', 0.3, 'm/s') # [m/s]\n",
    "eta_m = Par('eta_m', 0.75) # estimated, need to determine from motors?\n",
    "P_move = adda(m, 'P_move', rho*C_d*S_w*v**3/(2*eta_m), unit='W')\n",
    "\n",
    "# Comms beginning\n",
    "P_comms = Var('P_c', unit='W')\n",
    "\n",
    "# Balances\n",
    "E_required = adda(m, 'E_required', E_service + \n",
    "    (P_hotel + P_move)*t_mission + P_comms*t_comms, unit='W*hr')\n",
    "\n",
    "R1 = addf(m, E_recharge_gen-E_required, name='R_1')\n",
    "\n",
    "# Battery\n",
    "mu_batt = Par('mu_batt', 30, 'W*hr/kg')\n",
    "DOD = Par('DOD', 0.4)\n",
    "eta_trans = Par('eta_trans', 0.85)\n",
    "nu_batt = Par('nu_batt', 450, 'kW*hr/(m**3)')\n",
    "N = Par('N', 1)\n",
    "C = adda(m, 'C', E_service/(DOD*N*eta_trans), unit='kW*hr')\n",
    "m_batt_zero = Par('m_batt_zero', 5, 'kg')\n",
    "m_batt = adda(m, 'm_batt', C/mu_batt + m_batt_zero, unit='kg')\n",
    "V_batt = adda(m, 'V_batt', C/nu_batt, unit='m**3')\n",
    "\n",
    "# Comms\n",
    "k = Par('k', 1.38065e-23, 'J/K')\n",
    "c = Par('c', 3e8, 'm/s')\n",
    "f = Par('f', 2.2, 'GHz')\n",
    "lambd = adda(m, '\\\\lambda', c/f, unit='m')\n",
    "eta_parab = Par('eta_parab', 0.55)\n",
    "theta_t = Par('theta_t', 32)\n",
    "error_t = Par('error_t', 27)\n",
    "G_pt_db = adda(m, 'G_pt', 44.3-dec2db(theta_t**2))\n",
    "L_pt_db = adda(m, 'L_pt_db', -12*(error_t/theta_t)**2)\n",
    "G_t = adda(m, 'G_t', db2dec(G_pt_db+L_pt_db))\n",
    "D_r = Par('D_r', 5.3, 'm')\n",
    "G_rp = adda(m, 'G_rp', eta_parab*(np.pi*D_r/lambd)**2)\n",
    "L_pr = Par('L_pr', db2dec(-0.1))\n",
    "G_r = adda(m, 'G_r', G_rp*L_pr)\n",
    "BER = Par('BER', 0.0001)\n",
    "R = Var('R', unit='1/micros')\n",
    "h = Par('h', 500, 'km')\n",
    "Re = Par('Re', 6378, 'km')\n",
    "T_s = Par('T_s', 135, 'K')\n",
    "S = adda(m, 'S', sp.sqrt(h*(h+2*Re)), unit='km')\n",
    "L_a = Par('L_a', db2dec(-0.3))\n",
    "L_sp = adda(m, 'L_sp', (lambd/(4*np.pi*S))**2)\n",
    "L_l = Par('L_l', db2dec(-1))\n",
    "EN = adda(m, 'EN', P_comms*L_a*L_sp*L_l*L_pr*G_r*G_t/(k*T_s*R))\n",
    "EN_req = Par('EN_{req}', 30)\n",
    "\n",
    "R2 = addf(m, EN-EN_req, name='R_2')"
   ]
  },
  {
   "cell_type": "code",
   "execution_count": 5,
   "id": "f642b865-4c56-44e6-9f99-6cd83744595b",
   "metadata": {
    "execution": {
     "iopub.execute_input": "2022-02-02T13:13:19.304463Z",
     "iopub.status.busy": "2022-02-02T13:13:19.303458Z",
     "iopub.status.idle": "2022-02-02T13:13:19.313463Z",
     "shell.execute_reply": "2022-02-02T13:13:19.311461Z",
     "shell.execute_reply.started": "2022-02-02T13:13:19.304463Z"
    },
    "tags": []
   },
   "outputs": [],
   "source": [
    "s1 = addsolver(m, [elt for elt in PreOrderIter(m) if elt.node_type==INTER], [(R1, t_r), (R2, R)], name='s1')"
   ]
  },
  {
   "cell_type": "code",
   "execution_count": 6,
   "id": "661c3ffb-7be3-43be-af7d-484e90403820",
   "metadata": {
    "execution": {
     "iopub.execute_input": "2022-02-02T13:13:19.321460Z",
     "iopub.status.busy": "2022-02-02T13:13:19.320463Z",
     "iopub.status.idle": "2022-02-02T13:13:19.344458Z",
     "shell.execute_reply": "2022-02-02T13:13:19.342462Z",
     "shell.execute_reply.started": "2022-02-02T13:13:19.321460Z"
    },
    "tags": []
   },
   "outputs": [
    {
     "name": "stdout",
     "output_type": "stream",
     "text": [
      "/               \n",
      "└── s1, SOLVER  \n",
      "    ├── f_{0}, INTER\n",
      "    ├── f_{1}, INTER\n",
      "    ├── f_{2}, INTER\n",
      "    ├── f_{3}, INTER\n",
      "    ├── f_{4}, INTER\n",
      "    ├── f_{5}, INTER\n",
      "    ├── f_{6}, INTER\n",
      "    ├── f_{7}, INTER\n",
      "    ├── f_{8}, INTER\n",
      "    ├── f_{10}, INTER\n",
      "    ├── f_{11}, INTER\n",
      "    ├── f_{12}, INTER\n",
      "    ├── f_{13}, INTER\n",
      "    ├── f_{14}, INTER\n",
      "    ├── f_{15}, INTER\n",
      "    ├── f_{16}, INTER\n",
      "    ├── f_{17}, INTER\n",
      "    ├── f_{18}, INTER\n",
      "    ├── f_{19}, INTER\n",
      "    ├── f_{20}, INTER\n",
      "    ├── f_{21}, INTER\n",
      "    ├── R_1, END\n",
      "    └── R_2, END\n"
     ]
    }
   ],
   "source": [
    "render_tree(m, display_type=True)"
   ]
  },
  {
   "cell_type": "code",
   "execution_count": 7,
   "id": "dd6b7a2f-c4eb-496e-92a1-9176b443f694",
   "metadata": {
    "execution": {
     "iopub.execute_input": "2022-02-02T13:13:19.347459Z",
     "iopub.status.busy": "2022-02-02T13:13:19.346458Z",
     "iopub.status.idle": "2022-02-02T13:13:19.360457Z",
     "shell.execute_reply": "2022-02-02T13:13:19.358459Z",
     "shell.execute_reply.started": "2022-02-02T13:13:19.347459Z"
    },
    "tags": []
   },
   "outputs": [],
   "source": [
    "eqs, eqv, dout, dins = model.data_structures()"
   ]
  },
  {
   "cell_type": "code",
   "execution_count": 8,
   "id": "7d424dcd-f091-429f-9fd0-2f9ba1f503c9",
   "metadata": {
    "execution": {
     "iopub.execute_input": "2022-02-02T13:13:19.363459Z",
     "iopub.status.busy": "2022-02-02T13:13:19.362462Z",
     "iopub.status.idle": "2022-02-02T13:13:19.374460Z",
     "shell.execute_reply": "2022-02-02T13:13:19.373470Z",
     "shell.execute_reply.started": "2022-02-02T13:13:19.363459Z"
    },
    "tags": []
   },
   "outputs": [],
   "source": [
    "sequence_m = default_sequence(m)"
   ]
  },
  {
   "cell_type": "code",
   "execution_count": 9,
   "id": "c0cb9229-da27-4650-a66c-b9316347d194",
   "metadata": {
    "execution": {
     "iopub.execute_input": "2022-02-02T13:13:19.382460Z",
     "iopub.status.busy": "2022-02-02T13:13:19.378464Z",
     "iopub.status.idle": "2022-02-02T13:13:29.140503Z",
     "shell.execute_reply": "2022-02-02T13:13:29.139501Z",
     "shell.execute_reply.started": "2022-02-02T13:13:19.382460Z"
    },
    "tags": []
   },
   "outputs": [
    {
     "data": {
      "image/png": "[encoded data removed]",
      "text/plain": [
       "<Figure size 720x720 with 1 Axes>"
      ]
     },
     "metadata": {
      "needs_background": "light"
     },
     "output_type": "display_data"
    }
   ],
   "source": [
    "fig, ax = tree_incidence(m, eqv, model.outset, sequence_m, figsize=(10,10));\n",
    "plt.sca(ax)\n",
    "plt.savefig('figures/pearl.png', dpi=600, bbox_inches='tight')"
   ]
  },
  {
   "cell_type": "code",
   "execution_count": 199,
   "id": "fd56bbae",
   "metadata": {
    "execution": {
     "iopub.execute_input": "2022-02-02T03:50:31.263291Z",
     "iopub.status.busy": "2022-02-02T03:50:31.262290Z",
     "iopub.status.idle": "2022-02-02T03:50:31.283812Z",
     "shell.execute_reply": "2022-02-02T03:50:31.282855Z",
     "shell.execute_reply.started": "2022-02-02T03:50:31.263291Z"
    },
    "tags": []
   },
   "outputs": [],
   "source": [
    "eqs, eqv, dout, dins = model.data_structures()"
   ]
  },
  {
   "cell_type": "code",
   "execution_count": 200,
   "id": "4a20ab9e-8242-4d61-80ab-280a8283871f",
   "metadata": {
    "execution": {
     "iopub.execute_input": "2022-02-02T03:50:31.596121Z",
     "iopub.status.busy": "2022-02-02T03:50:31.595128Z",
     "iopub.status.idle": "2022-02-02T03:50:31.615119Z",
     "shell.execute_reply": "2022-02-02T03:50:31.614158Z",
     "shell.execute_reply.started": "2022-02-02T03:50:31.596121Z"
    },
    "tags": []
   },
   "outputs": [],
   "source": [
    "notation = notation_from_tree(m, model.outset)"
   ]
  },
  {
   "cell_type": "code",
   "execution_count": 201,
   "id": "43bb1d39-ced3-4910-bf6a-a045eaba25b0",
   "metadata": {
    "execution": {
     "iopub.execute_input": "2022-02-02T03:50:31.800733Z",
     "iopub.status.busy": "2022-02-02T03:50:31.800733Z",
     "iopub.status.idle": "2022-02-02T03:50:31.818726Z",
     "shell.execute_reply": "2022-02-02T03:50:31.817725Z",
     "shell.execute_reply.started": "2022-02-02T03:50:31.800733Z"
    },
    "tags": []
   },
   "outputs": [],
   "source": [
    "exec_instructions = generate_execution(notation)"
   ]
  },
  {
   "cell_type": "code",
   "execution_count": 202,
   "id": "64b0e890-3353-440e-96ae-bfe142381604",
   "metadata": {
    "execution": {
     "iopub.execute_input": "2022-02-02T03:50:32.022736Z",
     "iopub.status.busy": "2022-02-02T03:50:32.022736Z",
     "iopub.status.idle": "2022-02-02T03:50:32.039726Z",
     "shell.execute_reply": "2022-02-02T03:50:32.038727Z",
     "shell.execute_reply.started": "2022-02-02T03:50:32.022736Z"
    },
    "tags": []
   },
   "outputs": [],
   "source": [
    "for vr in all_vars_from_incidence(eqv, include_par=True):\n",
    "    vr.name = normalize_name(vr.name, keep_underscore=True)\n",
    "for fx in eqs.keys():\n",
    "    fx.name = normalize_name(fx.name, keep_underscore=False)"
   ]
  },
  {
   "cell_type": "code",
   "execution_count": 203,
   "id": "e8401477",
   "metadata": {
    "execution": {
     "iopub.execute_input": "2022-02-02T03:50:32.292726Z",
     "iopub.status.busy": "2022-02-02T03:50:32.292726Z",
     "iopub.status.idle": "2022-02-02T03:50:32.304725Z",
     "shell.execute_reply": "2022-02-02T03:50:32.303726Z",
     "shell.execute_reply.started": "2022-02-02T03:50:32.292726Z"
    },
    "tags": []
   },
   "outputs": [],
   "source": [
    "prob = om.Problem()\n",
    "opt_model = prob.model\n",
    "groups = {0:opt_model}"
   ]
  },
  {
   "cell_type": "code",
   "execution_count": 204,
   "id": "c3198380-d584-4a69-8613-a48abc62e5ac",
   "metadata": {
    "execution": {
     "iopub.execute_input": "2022-02-02T03:50:32.616758Z",
     "iopub.status.busy": "2022-02-02T03:50:32.615763Z",
     "iopub.status.idle": "2022-02-02T03:50:32.635757Z",
     "shell.execute_reply": "2022-02-02T03:50:32.634756Z",
     "shell.execute_reply.started": "2022-02-02T03:50:32.615763Z"
    },
    "tags": []
   },
   "outputs": [],
   "source": [
    "buildidpvars(dins, opt_model)"
   ]
  },
  {
   "cell_type": "code",
   "execution_count": 205,
   "id": "895080c5-2998-4668-af8c-33d22b1edbfd",
   "metadata": {
    "execution": {
     "iopub.execute_input": "2022-02-02T03:50:33.015991Z",
     "iopub.status.busy": "2022-02-02T03:50:33.015000Z",
     "iopub.status.idle": "2022-02-02T03:50:33.032995Z",
     "shell.execute_reply": "2022-02-02T03:50:33.031990Z",
     "shell.execute_reply.started": "2022-02-02T03:50:33.015991Z"
    },
    "tags": []
   },
   "outputs": [],
   "source": [
    "inst_mapping = {\n",
    "    'exp': lambda *args: explicit(groups, eqs, *args),\n",
    "    'solver': lambda *args: solver(groups, eqs, maxiter=50, *args)\n",
    "}"
   ]
  },
  {
   "cell_type": "code",
   "execution_count": 206,
   "id": "61fe2831-3493-4345-b654-7b29cba0f5b3",
   "metadata": {
    "execution": {
     "iopub.execute_input": "2022-02-02T03:50:33.692183Z",
     "iopub.status.busy": "2022-02-02T03:50:33.692183Z",
     "iopub.status.idle": "2022-02-02T03:50:33.841183Z",
     "shell.execute_reply": "2022-02-02T03:50:33.840178Z",
     "shell.execute_reply.started": "2022-02-02T03:50:33.692183Z"
    },
    "tags": []
   },
   "outputs": [],
   "source": [
    "for comp_type, *comp_args in exec_instructions:\n",
    "    inst_mapping[comp_type](*comp_args)"
   ]
  },
  {
   "cell_type": "code",
   "execution_count": 207,
   "id": "4a55a633-05d4-48c8-ba2e-9e6eba46aff2",
   "metadata": {
    "execution": {
     "iopub.execute_input": "2022-02-02T03:50:33.934185Z",
     "iopub.status.busy": "2022-02-02T03:50:33.933186Z",
     "iopub.status.idle": "2022-02-02T03:50:33.966180Z",
     "shell.execute_reply": "2022-02-02T03:50:33.965180Z",
     "shell.execute_reply.started": "2022-02-02T03:50:33.934185Z"
    },
    "tags": []
   },
   "outputs": [],
   "source": [
    "prob.setup();"
   ]
  },
  {
   "cell_type": "code",
   "execution_count": 208,
   "id": "20fb57fe",
   "metadata": {
    "execution": {
     "iopub.execute_input": "2022-02-02T03:50:34.318186Z",
     "iopub.status.busy": "2022-02-02T03:50:34.316184Z",
     "iopub.status.idle": "2022-02-02T03:50:34.554181Z",
     "shell.execute_reply": "2022-02-02T03:50:34.553179Z",
     "shell.execute_reply.started": "2022-02-02T03:50:34.318186Z"
    },
    "tags": []
   },
   "outputs": [
    {
     "name": "stdout",
     "output_type": "stream",
     "text": [
      "\n",
      "======\n",
      "group1\n",
      "======\n",
      "NL: Newton Converged in 5 iterations\n"
     ]
    }
   ],
   "source": [
    "prob.run_model()"
   ]
  },
  {
   "cell_type": "code",
   "execution_count": 209,
   "id": "ab1134fc-d8b4-4427-9819-0926272ad650",
   "metadata": {
    "execution": {
     "iopub.execute_input": "2022-02-02T03:50:35.032442Z",
     "iopub.status.busy": "2022-02-02T03:50:35.032442Z",
     "iopub.status.idle": "2022-02-02T03:50:35.054438Z",
     "shell.execute_reply": "2022-02-02T03:50:35.053435Z",
     "shell.execute_reply.started": "2022-02-02T03:50:35.032442Z"
    },
    "tags": []
   },
   "outputs": [],
   "source": [
    "optres = {key.name: prob.get_val(key.name)[0] for key in \n",
    "          all_vars_from_incidence(eqv, include_par=True)}"
   ]
  },
  {
   "cell_type": "code",
   "execution_count": 210,
   "id": "0a3ebebf-8461-45b4-a6cc-2ce598da058d",
   "metadata": {
    "execution": {
     "iopub.execute_input": "2022-02-02T03:50:35.528441Z",
     "iopub.status.busy": "2022-02-02T03:50:35.527438Z",
     "iopub.status.idle": "2022-02-02T03:50:35.556439Z",
     "shell.execute_reply": "2022-02-02T03:50:35.555435Z",
     "shell.execute_reply.started": "2022-02-02T03:50:35.528441Z"
    },
    "tags": []
   },
   "outputs": [
    {
     "data": {
      "text/plain": [
       "{'theta_t': 32.0,\n",
       " 'L_pt_db': -8.54296875,\n",
       " 't_r': 5.251587803970661,\n",
       " 'L_l': 0.7943282347242815,\n",
       " 'P_drawrecharge': -944.2363696601083,\n",
       " 'eta_trans': 0.85,\n",
       " 'eta_parab': 0.55,\n",
       " 'V_batt': 0.024836601307189544,\n",
       " 'I_d': 0.9,\n",
       " 'EN': 30.000000000000025,\n",
       " 'A_s': 9.375,\n",
       " 'gamma': 2.0,\n",
       " 'eta_m': 0.75,\n",
       " 'S_w': 0.5,\n",
       " 't_mission': 24.0,\n",
       " 'v': 0.3,\n",
       " 'C_d': 1.0,\n",
       " 'N': 1.0,\n",
       " 'D_r': 5.3,\n",
       " 'L_pr': 0.9772372209558107,\n",
       " 'L_a': 0.933254300796991,\n",
       " 'f': 2.2,\n",
       " 'G_pt': 14.197000433601879,\n",
       " 'phi_s': 800.0,\n",
       " 'G_r': 8013.403775080155,\n",
       " 't_service': 12.0,\n",
       " 'c': 300000000.0,\n",
       " 'S': 2574.490240804964,\n",
       " 'DOD': 0.4,\n",
       " 'G_rp': 8200.059927355664,\n",
       " 'D': 0.005,\n",
       " 'k': 1.38065e-23,\n",
       " 'L_s': 10.0,\n",
       " 'eta_s': 0.27,\n",
       " 'P_drawservice': -266.6666666666667,\n",
       " 'G_t': 3.6762341778646994,\n",
       " 'nu_batt': 450.0,\n",
       " 'L_sp': 1.776621526719071e-17,\n",
       " 'E_required': 5221.319593171091,\n",
       " 'mu_batt': 30.0,\n",
       " 'm_batt_zero': 5.0,\n",
       " 'D_f': 5.0,\n",
       " 'E_AUV': 1.9,\n",
       " 'Re': 6378.0,\n",
       " 'P_service': 316.6666666666667,\n",
       " 'T_s': 135.0,\n",
       " 'rho': 1023.6,\n",
       " 'R': 1.5052759024187763,\n",
       " 'P_recharge': 994.2363696601083,\n",
       " 't_comms': 1.0,\n",
       " 'E_recharge_gen': 5221.319593171091,\n",
       " 'lambda': 0.13636363636363635,\n",
       " 'h': 500.0,\n",
       " 'theta_bar': 55.0,\n",
       " 'error_t': 27.0,\n",
       " 'E_service': 3800.0,\n",
       " 'P_c': 0.22199317108973948,\n",
       " 'P_hotel': 50.0,\n",
       " 'P_move': 9.212399999999999,\n",
       " 'm_batt': 377.54901960784315,\n",
       " 'ENreq': 30.0,\n",
       " 'C': 11.176470588235293}"
      ]
     },
     "execution_count": 210,
     "metadata": {},
     "output_type": "execute_result"
    }
   ],
   "source": [
    "optres"
   ]
  },
  {
   "cell_type": "code",
   "execution_count": 4,
   "id": "f169b0e8",
   "metadata": {
    "execution": {
     "iopub.execute_input": "2021-11-24T10:22:22.016118Z",
     "iopub.status.busy": "2021-11-24T10:22:22.015118Z",
     "iopub.status.idle": "2021-11-24T10:22:22.089120Z",
     "shell.execute_reply": "2021-11-24T10:22:22.088116Z",
     "shell.execute_reply.started": "2021-11-24T10:22:22.016118Z"
    }
   },
   "outputs": [],
   "source": [
    "\n",
    "# # Hydrodynamics\n",
    "# rho_s = var('rho_s', 650, 'kg/m**3')\n",
    "\n",
    "# h_f = var('h_f', \n",
    "#     t_f*rho_s/rho+((D_s/D_f)**2*t_s+(D_d/D_f)**2*t_d)*(rho_s/rho-1), 'm')\n",
    "# z_g = var('z_g', \n",
    "#     (t_f*D_f**2/2-t_s*D_s**2/2-(t_s+t_d/2)*D_d**2)/(D_f**2+D_f**2+D_s**2)-h_f, \n",
    "#     'm')\n",
    "# #Vol = var('Vol', np.pi/4*(h_f*D_f**2+t_s*D_s**2+t_d*D_d**2), 'm**3')\n",
    "# #GM = var('GM', D_f**4/(16*(D_f**2*h_f+D_s**2*t_s+D_d**2*t_d))-(h_f+t_s+t_d)/2, 'm')\n",
    "\n",
    "\n",
    "# def debugfx():\n",
    "#     print('stop')\n"
   ]
  }
 ],
 "metadata": {
  "kernelspec": {
   "display_name": "Python [conda env:mdo]",
   "language": "python",
   "name": "conda-env-mdo-py"
  },
  "language_info": {
   "codemirror_mode": {
    "name": "ipython",
    "version": 3
   },
   "file_extension": ".py",
   "mimetype": "text/x-python",
   "name": "python",
   "nbconvert_exporter": "python",
   "pygments_lexer": "ipython3",
   "version": "3.9.7"
  }
 },
 "nbformat": 4,
 "nbformat_minor": 5
}
