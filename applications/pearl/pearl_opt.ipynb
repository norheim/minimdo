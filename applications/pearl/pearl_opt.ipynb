{
 "cells": [
  {
   "cell_type": "code",
   "execution_count": 2,
   "id": "8091570d-d595-4bdc-bedc-8984c18cdff3",
   "metadata": {
    "execution": {
     "iopub.execute_input": "2022-07-25T02:01:31.428725Z",
     "iopub.status.busy": "2022-07-25T02:01:31.428725Z",
     "iopub.status.idle": "2022-07-25T02:01:31.446129Z",
     "shell.execute_reply": "2022-07-25T02:01:31.445191Z",
     "shell.execute_reply.started": "2022-07-25T02:01:31.428725Z"
    },
    "tags": []
   },
   "outputs": [],
   "source": [
    "from pearl_initial_formulation import *\n",
    "from graph.graphutils import flatten_tree\n",
    "from modeling.api import (edges_no_param, addobj, addineq, OPT, SolverRef, merge, \n",
    "copy_dicts, setsolvefor)\n",
    "from graph.graphutils import all_variables, all_edges\n",
    "from presolver.tearing import dir_graph, min_arc_set_assign\n",
    "from graph.operators import reformulate, invert_edges\n",
    "from graph.matrixview import render_incidence\n",
    "from solver.runpipeline import (model_to_problem, order_from_tree, \n",
    "    default_solver_options, mdao_workflow)\n",
    "from modeling.transformations import transform_components\n",
    "from copy import deepcopy\n",
    "import openmdao.api as om\n",
    "import numpy as np"
   ]
  },
  {
   "cell_type": "code",
   "execution_count": 2,
   "id": "bcba5875",
   "metadata": {
    "execution": {
     "iopub.execute_input": "2022-07-25T01:59:33.653037Z",
     "iopub.status.busy": "2022-07-25T01:59:33.652025Z",
     "iopub.status.idle": "2022-07-25T01:59:33.659659Z",
     "shell.execute_reply": "2022-07-25T01:59:33.659659Z",
     "shell.execute_reply.started": "2022-07-25T01:59:33.653037Z"
    },
    "tags": []
   },
   "outputs": [],
   "source": [
    "run_optimal_structure = True"
   ]
  },
  {
   "cell_type": "code",
   "execution_count": 3,
   "id": "45c49d34-17ee-4bab-bc0b-10f27503fcd0",
   "metadata": {
    "execution": {
     "iopub.execute_input": "2022-07-25T01:59:34.136215Z",
     "iopub.status.busy": "2022-07-25T01:59:34.135215Z",
     "iopub.status.idle": "2022-07-25T01:59:34.142895Z",
     "shell.execute_reply": "2022-07-25T01:59:34.141884Z",
     "shell.execute_reply.started": "2022-07-25T01:59:34.136215Z"
    },
    "tags": []
   },
   "outputs": [],
   "source": [
    "#nodetyperepr = {VAR: '{}', COMP: 'f_{{{}}}', SOLVER: '{}'}\n",
    "edges, tree = model.generate_formulation()\n",
    "edges_nopar =  edges_no_param(model, edges)\n",
    "outset_initial = {comp: var[0] for comp,var in edges[1].items()}"
   ]
  },
  {
   "cell_type": "code",
   "execution_count": 10,
   "id": "713d8148-2d77-4599-9144-90db64515d9e",
   "metadata": {
    "execution": {
     "iopub.execute_input": "2022-07-25T02:00:57.096141Z",
     "iopub.status.busy": "2022-07-25T02:00:57.096141Z",
     "iopub.status.idle": "2022-07-25T02:00:57.110268Z",
     "shell.execute_reply": "2022-07-25T02:00:57.110268Z",
     "shell.execute_reply.started": "2022-07-25T02:00:57.096141Z"
    },
    "tags": []
   },
   "outputs": [],
   "source": [
    "incidence,_,_ = invert_edges(edges[0], edges[1], None)"
   ]
  },
  {
   "cell_type": "code",
   "execution_count": 18,
   "id": "76039619-4555-4852-9f7e-389ab3b87a3a",
   "metadata": {
    "execution": {
     "iopub.execute_input": "2022-07-25T02:05:17.385656Z",
     "iopub.status.busy": "2022-07-25T02:05:17.384655Z",
     "iopub.status.idle": "2022-07-25T02:05:17.391071Z",
     "shell.execute_reply": "2022-07-25T02:05:17.390658Z",
     "shell.execute_reply.started": "2022-07-25T02:05:17.385656Z"
    },
    "tags": []
   },
   "outputs": [
    {
     "data": {
      "text/plain": [
       "(37, 45)"
      ]
     },
     "execution_count": 18,
     "metadata": {},
     "output_type": "execute_result"
    }
   ],
   "source": [
    "len(incidence), len(all_variables(*edges_nopar))"
   ]
  },
  {
   "cell_type": "code",
   "execution_count": 20,
   "id": "9f775e4e-3a40-4a9c-b4d4-608a74452ac1",
   "metadata": {
    "execution": {
     "iopub.execute_input": "2022-07-25T02:07:10.800000Z",
     "iopub.status.busy": "2022-07-25T02:07:10.799001Z",
     "iopub.status.idle": "2022-07-25T02:07:10.810028Z",
     "shell.execute_reply": "2022-07-25T02:07:10.809898Z",
     "shell.execute_reply.started": "2022-07-25T02:07:10.800000Z"
    },
    "tags": []
   },
   "outputs": [
    {
     "data": {
      "text/plain": [
       "4.378378378378378"
      ]
     },
     "execution_count": 20,
     "metadata": {},
     "output_type": "execute_result"
    }
   ],
   "source": [
    "np.mean([len(val) for val in incidence.values()])"
   ]
  },
  {
   "cell_type": "code",
   "execution_count": 4,
   "id": "7fe80d57-699b-4abb-941e-54695f31f4b6",
   "metadata": {
    "execution": {
     "iopub.execute_input": "2022-07-25T01:59:34.939127Z",
     "iopub.status.busy": "2022-07-25T01:59:34.938117Z",
     "iopub.status.idle": "2022-07-25T01:59:34.953365Z",
     "shell.execute_reply": "2022-07-25T01:59:34.953243Z",
     "shell.execute_reply.started": "2022-07-25T01:59:34.939127Z"
    },
    "tags": []
   },
   "outputs": [],
   "source": [
    "edges_for_solving = copy_dicts(edges_nopar)\n",
    "eqnidxs = list(edges_for_solving[1].keys())\n",
    "varidxs = all_variables(*edges_for_solving)\n",
    "graph_edges_minassign = all_edges(*edges_for_solving)\n",
    "edges_left_right = list(dir_graph(graph_edges_minassign, eqnidxs, {}))"
   ]
  },
  {
   "cell_type": "code",
   "execution_count": 5,
   "id": "4d3ae2cf-5396-4ce5-98aa-25985f335b74",
   "metadata": {
    "execution": {
     "iopub.execute_input": "2022-07-25T01:59:35.116871Z",
     "iopub.status.busy": "2022-07-25T01:59:35.116871Z",
     "iopub.status.idle": "2022-07-25T01:59:35.202446Z",
     "shell.execute_reply": "2022-07-25T01:59:35.202446Z",
     "shell.execute_reply.started": "2022-07-25T01:59:35.116871Z"
    },
    "tags": []
   },
   "outputs": [
    {
     "name": "stdout",
     "output_type": "stream",
     "text": [
      "Set parameter Username\n",
      "Academic license - for non-commercial use only - expires 2023-02-25\n"
     ]
    }
   ],
   "source": [
    "not_input = [r'\\omega_0', 'E_{move}', 'A_{33}', 'B_M', 'K_G', 'I', 'E_{recharge}', 'm_{struct}']\n",
    "not_output = ['D_f', 'D_d', 'D_s', 't_s', 't_f', 't_d', 'P_{comms}', 'R'] #R\n",
    "xsol,_ = min_arc_set_assign(edges_left_right, varidxs, eqnidxs, not_input, not_output)"
   ]
  },
  {
   "cell_type": "code",
   "execution_count": 33,
   "id": "5db5505b-ee54-4366-9577-c0c63d461021",
   "metadata": {
    "execution": {
     "iopub.execute_input": "2022-07-24T23:31:35.084528Z",
     "iopub.status.busy": "2022-07-24T23:31:35.084035Z",
     "iopub.status.idle": "2022-07-24T23:31:35.097915Z",
     "shell.execute_reply": "2022-07-24T23:31:35.097915Z",
     "shell.execute_reply.started": "2022-07-24T23:31:35.084528Z"
    },
    "tags": []
   },
   "outputs": [],
   "source": [
    "outset_opt = None\n",
    "if run_optimal_structure:\n",
    "    outset_opt = {right:left for left, right in edges_left_right if (left,right) in edges_left_right and xsol[left, right] > 0.5}"
   ]
  },
  {
   "cell_type": "code",
   "execution_count": 34,
   "id": "2f5997ca-1fd7-4fc8-ac4e-dcd608ef2fc7",
   "metadata": {
    "execution": {
     "iopub.execute_input": "2022-07-24T23:31:35.099175Z",
     "iopub.status.busy": "2022-07-24T23:31:35.099175Z",
     "iopub.status.idle": "2022-07-24T23:31:35.113935Z",
     "shell.execute_reply": "2022-07-24T23:31:35.113266Z",
     "shell.execute_reply.started": "2022-07-24T23:31:35.099175Z"
    },
    "tags": []
   },
   "outputs": [],
   "source": [
    "tree_for_reformulation = flatten_tree(tree, 'opt')\n",
    "edges_minassign, tree_minassign = reformulate(edges, tree_for_reformulation, outset_initial, \n",
    "                                              outset_opt, root_solver_name='opt', mdf=True)\n",
    "edges_minassign_noparam = edges_no_param(model, edges_minassign)"
   ]
  },
  {
   "cell_type": "code",
   "execution_count": 35,
   "id": "ea247d0a-8b4c-4475-ad42-77bc2fcf1d68",
   "metadata": {
    "execution": {
     "iopub.execute_input": "2022-07-24T23:31:35.115122Z",
     "iopub.status.busy": "2022-07-24T23:31:35.115122Z",
     "iopub.status.idle": "2022-07-24T23:31:36.977691Z",
     "shell.execute_reply": "2022-07-24T23:31:36.977691Z",
     "shell.execute_reply.started": "2022-07-24T23:31:35.115122Z"
    },
    "tags": []
   },
   "outputs": [
    {
     "data": {
      "image/png": "[encoded data removed]",
      "text/plain": [
       "<Figure size 1080x1080 with 1 Axes>"
      ]
     },
     "metadata": {
      "needs_background": "light"
     },
     "output_type": "display_data"
    }
   ],
   "source": [
    "render_incidence(edges_minassign_noparam, tree_minassign, rawvarname=True, figsize=(15,15));"
   ]
  },
  {
   "cell_type": "code",
   "execution_count": 36,
   "id": "345c3a73-2bf7-47ad-b92a-b0f4e36193d5",
   "metadata": {
    "execution": {
     "iopub.execute_input": "2022-07-24T23:31:36.979884Z",
     "iopub.status.busy": "2022-07-24T23:31:36.978791Z",
     "iopub.status.idle": "2022-07-24T23:31:37.087554Z",
     "shell.execute_reply": "2022-07-24T23:31:37.086972Z",
     "shell.execute_reply.started": "2022-07-24T23:31:36.979884Z"
    },
    "tags": []
   },
   "outputs": [],
   "source": [
    "newcomps = transform_components(edges, edges_minassign, model.components, model.idmapping)"
   ]
  },
  {
   "cell_type": "code",
   "execution_count": 37,
   "id": "ee2a2fd9",
   "metadata": {},
   "outputs": [],
   "source": [
    "from datastructures.execution import comp_id_lookup"
   ]
  },
  {
   "cell_type": "code",
   "execution_count": 38,
   "id": "12ef0fe6-3f36-4561-a6d0-29ebe4b271c1",
   "metadata": {
    "execution": {
     "iopub.execute_input": "2022-07-24T23:32:46.603067Z",
     "iopub.status.busy": "2022-07-24T23:32:46.602076Z",
     "iopub.status.idle": "2022-07-24T23:32:46.621293Z",
     "shell.execute_reply": "2022-07-24T23:32:46.621165Z",
     "shell.execute_reply.started": "2022-07-24T23:32:46.603067Z"
    },
    "tags": []
   },
   "outputs": [
    {
     "data": {
      "text/plain": [
       "[(('A_{solar}', '\\\\alpha'), 0, ('D_f',), '2.0*(1/(3.14159265358979 - 3.14159265358979*\\\\alpha))**0.5*Abs(A_{solar})**0.5'),\n",
       " (('D_f', 'A_{solar}', '\\\\alpha'), 0, (None,), 'D_f - 2.0*(1/(3.14159265358979 - 3.14159265358979*\\\\alpha))**0.5*Abs(A_{solar})**0.5')]"
      ]
     },
     "execution_count": 38,
     "metadata": {},
     "output_type": "execute_result"
    }
   ],
   "source": [
    "comp_id_lookup(model.components+newcomps)[0]"
   ]
  },
  {
   "cell_type": "code",
   "execution_count": 39,
   "id": "64418725-daf8-4fae-a71f-34b9d26f33ee",
   "metadata": {
    "execution": {
     "iopub.execute_input": "2022-07-24T23:33:39.846438Z",
     "iopub.status.busy": "2022-07-24T23:33:39.846438Z",
     "iopub.status.idle": "2022-07-24T23:33:39.859298Z",
     "shell.execute_reply": "2022-07-24T23:33:39.859298Z",
     "shell.execute_reply.started": "2022-07-24T23:33:39.846438Z"
    },
    "tags": []
   },
   "outputs": [],
   "source": [
    "# comp_id_lookup(model.components+newcomps)[0][1].evaldict({'D_f':1.98482595, '\\\\alpha':0.2})"
   ]
  },
  {
   "cell_type": "code",
   "execution_count": 40,
   "id": "ddf48a18",
   "metadata": {
    "execution": {
     "iopub.execute_input": "2022-07-24T23:09:38.568376Z",
     "iopub.status.busy": "2022-07-24T23:09:38.567232Z",
     "iopub.status.idle": "2022-07-24T23:09:38.584400Z",
     "shell.execute_reply": "2022-07-24T23:09:38.584008Z",
     "shell.execute_reply.started": "2022-07-24T23:09:38.568376Z"
    },
    "tags": []
   },
   "outputs": [],
   "source": [
    "#newcomps[-1].evaldict({'m_{batt}': 31.47142857, 'm_{batt_zero}':5, '\\\\mu_{battery}':200, 'C':5.29428571})"
   ]
  },
  {
   "cell_type": "markdown",
   "id": "eaa0ecaf-fb18-4f27-8530-4b623f7844b9",
   "metadata": {},
   "source": [
    "## Add optimization problem to model"
   ]
  },
  {
   "cell_type": "code",
   "execution_count": 41,
   "id": "8b90ec0a-4bb0-45b0-8e4b-dc58e34776a6",
   "metadata": {
    "execution": {
     "iopub.execute_input": "2022-07-24T23:31:37.119951Z",
     "iopub.status.busy": "2022-07-24T23:31:37.119951Z",
     "iopub.status.idle": "2022-07-24T23:31:37.196000Z",
     "shell.execute_reply": "2022-07-24T23:31:37.195935Z",
     "shell.execute_reply.started": "2022-07-24T23:31:37.119951Z"
    },
    "tags": []
   },
   "outputs": [],
   "source": [
    "opt = addsolver(m, name=\"opt\", idbyname=True)\n",
    "addobj(opt, mtot) # for optimization make sure to add OPT in model\n",
    "addineq(opt, hf-0.9*tf)\n",
    "addineq(opt, hf-0.9*tf)\n",
    "addineq(opt, Ds-0.9*Df)\n",
    "addineq(opt, 0.1-P_move)\n",
    "addineq(opt, Ds-0.9*Dd)\n",
    "## Initial structure:\n",
    "addineq(opt, 50-Pcomms)\n",
    "solvefor_init = [v, EN, hf, tf, ts, Ds, Dd]\n",
    "varoptions_init = {v:[0], EN:[0.1,100], hf:[0], tf:[0.1,10], ts:[0.1,10], \n",
    "             Ds:[0.1,10], Dd:[0.1,10]}\n",
    "#varoptions_init.update({model.idmapping[elt]: [0] for elt in tree_minassign[2].keys()})\n",
    "#varoptions_init.update({td: [0.1,10]})\n",
    "addineq(opt, 0.1-td)\n",
    "## Optimized structure:\n",
    "solvefor_opt = [tf, ts, td, Ds, Dd, Df]\n",
    "varoptions_opt = {tf:[0.1,10], ts:[0.1,10], td:[0.1,10], Ds:[0.1,10], Dd:[0.1,10], Df:[0.1,10]}\n",
    "\n",
    "solvefor, varoptions = ((solvefor_init, varoptions_init), (solvefor_opt, varoptions_opt))[run_optimal_structure]\n",
    "setsolvefor(opt, solvefor, varoptions)\n",
    "model.solvers_options['opt'] = {'type': OPT, 'optimizer': 'IPOPT', 'driver': om.pyOptSparseDriver}"
   ]
  },
  {
   "cell_type": "code",
   "execution_count": 42,
   "id": "4121ada0",
   "metadata": {
    "execution": {
     "iopub.execute_input": "2022-07-24T23:31:37.197050Z",
     "iopub.status.busy": "2022-07-24T23:31:37.197050Z",
     "iopub.status.idle": "2022-07-24T23:31:37.212097Z",
     "shell.execute_reply": "2022-07-24T23:31:37.211359Z",
     "shell.execute_reply.started": "2022-07-24T23:31:37.197050Z"
    },
    "tags": []
   },
   "outputs": [],
   "source": [
    "#tree_minassign[2].keys()"
   ]
  },
  {
   "cell_type": "code",
   "execution_count": 43,
   "id": "e43a0009-2863-4323-b695-eeec2eb4ace6",
   "metadata": {
    "execution": {
     "iopub.execute_input": "2022-07-24T23:31:37.213103Z",
     "iopub.status.busy": "2022-07-24T23:31:37.212097Z",
     "iopub.status.idle": "2022-07-24T23:31:37.227816Z",
     "shell.execute_reply": "2022-07-24T23:31:37.226921Z",
     "shell.execute_reply.started": "2022-07-24T23:31:37.213103Z"
    },
    "tags": []
   },
   "outputs": [],
   "source": [
    "formulation = model.generate_formulation()\n",
    "edges_ma_opt, tree_ma_opt = merge(formulation, edges_minassign, \n",
    "                                  tree_minassign, copysolvers=False)"
   ]
  },
  {
   "cell_type": "code",
   "execution_count": 44,
   "id": "461034cb-74fd-429b-a9b2-4dbde3e1fb58",
   "metadata": {
    "execution": {
     "iopub.execute_input": "2022-07-24T23:31:37.588761Z",
     "iopub.status.busy": "2022-07-24T23:31:37.588761Z",
     "iopub.status.idle": "2022-07-24T23:31:37.600681Z",
     "shell.execute_reply": "2022-07-24T23:31:37.600171Z",
     "shell.execute_reply.started": "2022-07-24T23:31:37.588761Z"
    },
    "tags": []
   },
   "outputs": [],
   "source": [
    "edges_ma_opt_nopar = edges_no_param(model, edges_ma_opt)"
   ]
  },
  {
   "cell_type": "code",
   "execution_count": 45,
   "id": "de94029c-70c9-4d79-bc06-6afc0d1144be",
   "metadata": {
    "execution": {
     "iopub.execute_input": "2022-07-24T23:31:37.845374Z",
     "iopub.status.busy": "2022-07-24T23:31:37.845374Z",
     "iopub.status.idle": "2022-07-24T23:31:39.711142Z",
     "shell.execute_reply": "2022-07-24T23:31:39.711142Z",
     "shell.execute_reply.started": "2022-07-24T23:31:37.845374Z"
    },
    "tags": []
   },
   "outputs": [
    {
     "data": {
      "image/png": "[encoded data removed]",
      "text/plain": [
       "<Figure size 1080x1080 with 1 Axes>"
      ]
     },
     "metadata": {
      "needs_background": "light"
     },
     "output_type": "display_data"
    }
   ],
   "source": [
    "render_incidence(edges_ma_opt_nopar, tree_ma_opt, rawvarname=True, figsize=(15,15));"
   ]
  },
  {
   "cell_type": "code",
   "execution_count": 55,
   "id": "fba79b93-ef00-4d4c-af19-d038ec42a0e5",
   "metadata": {
    "execution": {
     "iopub.execute_input": "2022-07-24T23:31:39.713161Z",
     "iopub.status.busy": "2022-07-24T23:31:39.713161Z",
     "iopub.status.idle": "2022-07-24T23:31:39.883336Z",
     "shell.execute_reply": "2022-07-24T23:31:39.883006Z",
     "shell.execute_reply.started": "2022-07-24T23:31:39.713161Z"
    },
    "tags": []
   },
   "outputs": [],
   "source": [
    "prob, mdao_in, groups, namingfunc = model_to_problem(model, \n",
    "                        formulation=(edges_ma_opt, tree_ma_opt),\n",
    "                        components=model.components+newcomps)"
   ]
  },
  {
   "cell_type": "code",
   "execution_count": 19,
   "id": "a25f75da-c920-43db-b143-b6a236f62868",
   "metadata": {
    "execution": {
     "iopub.execute_input": "2022-07-23T22:48:53.404794Z",
     "iopub.status.busy": "2022-07-23T22:48:53.404794Z",
     "iopub.status.idle": "2022-07-23T22:48:53.419784Z",
     "shell.execute_reply": "2022-07-23T22:48:53.418811Z",
     "shell.execute_reply.started": "2022-07-23T22:48:53.404794Z"
    },
    "tags": []
   },
   "outputs": [],
   "source": [
    "prob.set_val('P_comms', 50)"
   ]
  },
  {
   "cell_type": "markdown",
   "id": "45b55c3c-7501-42aa-8089-8e2f7003c787",
   "metadata": {},
   "source": [
    "# Initial guesses"
   ]
  },
  {
   "cell_type": "code",
   "execution_count": 56,
   "id": "7732ff67-55c5-4fa1-8007-0f3986d18d4f",
   "metadata": {
    "execution": {
     "iopub.execute_input": "2022-07-23T22:48:54.576302Z",
     "iopub.status.busy": "2022-07-23T22:48:54.575308Z",
     "iopub.status.idle": "2022-07-23T22:48:54.582749Z",
     "shell.execute_reply": "2022-07-23T22:48:54.582372Z",
     "shell.execute_reply.started": "2022-07-23T22:48:54.576302Z"
    },
    "tags": []
   },
   "outputs": [],
   "source": [
    "prob.set_val('t_f',0.15)\n",
    "prob.set_val('t_s',0.2)\n",
    "prob.set_val('t_d',0.2)\n",
    "prob.set_val('D_f', 3.713)\n",
    "prob.set_val('D_s', 0.1)\n",
    "prob.set_val('D_d', 1.)"
   ]
  },
  {
   "cell_type": "code",
   "execution_count": 49,
   "id": "6ca8d797",
   "metadata": {
    "execution": {
     "iopub.execute_input": "2022-07-24T23:31:45.845670Z",
     "iopub.status.busy": "2022-07-24T23:31:45.844959Z",
     "iopub.status.idle": "2022-07-24T23:31:45.853568Z",
     "shell.execute_reply": "2022-07-24T23:31:45.853158Z",
     "shell.execute_reply.started": "2022-07-24T23:31:45.845670Z"
    }
   },
   "outputs": [],
   "source": [
    "import json\n",
    "with open('x0init.json', 'r') as f:\n",
    "    x0 = json.loads(f.read())\n",
    "for var,val in x0.items():\n",
    "    prob.set_val(var,val)"
   ]
  },
  {
   "cell_type": "code",
   "execution_count": 57,
   "id": "1836b5a5-90d0-4f61-9582-d57b8cc53170",
   "metadata": {
    "execution": {
     "iopub.execute_input": "2022-07-24T23:31:46.709557Z",
     "iopub.status.busy": "2022-07-24T23:31:46.708562Z",
     "iopub.status.idle": "2022-07-24T23:31:47.056725Z",
     "shell.execute_reply": "2022-07-24T23:31:47.056725Z",
     "shell.execute_reply.started": "2022-07-24T23:31:46.709557Z"
    },
    "tags": []
   },
   "outputs": [
    {
     "name": "stdout",
     "output_type": "stream",
     "text": [
      "\n",
      "==\n",
      "s2\n",
      "==\n",
      "NL: NewtonSolver 'NL: Newton' on system 's2' failed to converge in 10 iterations.\n"
     ]
    }
   ],
   "source": [
    "prob.run_model()"
   ]
  },
  {
   "cell_type": "code",
   "execution_count": 58,
   "id": "56676e70-fc3d-4bb3-baa1-e065e21249fa",
   "metadata": {
    "execution": {
     "iopub.execute_input": "2022-07-23T22:49:04.377135Z",
     "iopub.status.busy": "2022-07-23T22:49:04.377135Z",
     "iopub.status.idle": "2022-07-23T22:49:23.007916Z",
     "shell.execute_reply": "2022-07-23T22:49:23.007733Z",
     "shell.execute_reply.started": "2022-07-23T22:49:04.377135Z"
    },
    "tags": []
   },
   "outputs": [
    {
     "name": "stdout",
     "output_type": "stream",
     "text": [
      "\n",
      "==\n",
      "s2\n",
      "==\n",
      "NL: NewtonSolver 'NL: Newton' on system 's2' failed to converge in 10 iterations.\n",
      "\n",
      "==\n",
      "s2\n",
      "==\n",
      "NL: NewtonSolver 'NL: Newton' on system 's2' failed to converge in 10 iterations.\n",
      "\n",
      "==\n",
      "s2\n",
      "==\n",
      "NL: Newton Converged in 3 iterations\n",
      "\n",
      "==\n",
      "s2\n",
      "==\n",
      "NL: Newton Converged in 3 iterations\n",
      "\n",
      "==\n",
      "s2\n",
      "==\n",
      "NL: Newton Converged in 2 iterations\n",
      "\n",
      "==\n",
      "s2\n",
      "==\n",
      "NL: Newton Converged in 4 iterations\n",
      "\n",
      "==\n",
      "s2\n",
      "==\n",
      "NL: Newton Converged in 4 iterations\n",
      "\n",
      "==\n",
      "s2\n",
      "==\n",
      "NL: Newton Converged in 2 iterations\n",
      "\n",
      "==\n",
      "s2\n",
      "==\n",
      "NL: Newton Converged in 4 iterations\n",
      "\n",
      "==\n",
      "s2\n",
      "==\n",
      "NL: Newton Converged in 3 iterations\n",
      "\n",
      "==\n",
      "s2\n",
      "==\n",
      "NL: Newton Converged in 2 iterations\n",
      "\n",
      "==\n",
      "s2\n",
      "==\n",
      "NL: Newton Converged in 2 iterations\n",
      "\n",
      "==\n",
      "s2\n",
      "==\n",
      "NL: Newton Converged in 3 iterations\n",
      "\n",
      "==\n",
      "s2\n",
      "==\n",
      "NL: Newton Converged in 3 iterations\n",
      "\n",
      "==\n",
      "s2\n",
      "==\n",
      "NL: Newton Converged in 3 iterations\n",
      "\n",
      "==\n",
      "s2\n",
      "==\n",
      "NL: Newton Converged in 2 iterations\n",
      "\n",
      "==\n",
      "s2\n",
      "==\n",
      "NL: Newton Converged in 2 iterations\n",
      "\n",
      "==\n",
      "s2\n",
      "==\n",
      "NL: Newton Converged in 3 iterations\n",
      "\n",
      "==\n",
      "s2\n",
      "==\n",
      "NL: Newton Converged in 3 iterations\n",
      "\n",
      "==\n",
      "s2\n",
      "==\n",
      "NL: Newton Converged in 3 iterations\n",
      "\n",
      "==\n",
      "s2\n",
      "==\n",
      "NL: Newton Converged in 3 iterations\n",
      "\n",
      "==\n",
      "s2\n",
      "==\n",
      "NL: Newton Converged in 3 iterations\n",
      "\n",
      "==\n",
      "s2\n",
      "==\n",
      "NL: Newton Converged in 2 iterations\n",
      "\n",
      "==\n",
      "s2\n",
      "==\n",
      "NL: Newton Converged in 3 iterations\n",
      "\n",
      "==\n",
      "s2\n",
      "==\n",
      "NL: Newton Converged in 3 iterations\n",
      "\n",
      "==\n",
      "s2\n",
      "==\n",
      "NL: Newton Converged in 3 iterations\n",
      "\n",
      "==\n",
      "s2\n",
      "==\n",
      "NL: Newton Converged in 3 iterations\n",
      "\n",
      "==\n",
      "s2\n",
      "==\n",
      "NL: Newton Converged in 3 iterations\n",
      "\n",
      "==\n",
      "s2\n",
      "==\n",
      "NL: Newton Converged in 3 iterations\n",
      "\n",
      "==\n",
      "s2\n",
      "==\n",
      "NL: Newton Converged in 2 iterations\n",
      "\n",
      "==\n",
      "s2\n",
      "==\n",
      "NL: Newton Converged in 3 iterations\n",
      "\n",
      "==\n",
      "s2\n",
      "==\n",
      "NL: Newton Converged in 3 iterations\n",
      "\n",
      "==\n",
      "s2\n",
      "==\n",
      "NL: Newton Converged in 3 iterations\n",
      "\n",
      "==\n",
      "s2\n",
      "==\n",
      "NL: Newton Converged in 3 iterations\n",
      "\n",
      "==\n",
      "s2\n",
      "==\n",
      "NL: Newton Converged in 2 iterations\n",
      "\n",
      "==\n",
      "s2\n",
      "==\n",
      "NL: Newton Converged in 2 iterations\n",
      "\n",
      "==\n",
      "s2\n",
      "==\n",
      "NL: Newton Converged in 2 iterations\n",
      "\n",
      "==\n",
      "s2\n",
      "==\n",
      "NL: Newton Converged in 2 iterations\n",
      "\n",
      "==\n",
      "s2\n",
      "==\n",
      "NL: Newton Converged in 2 iterations\n",
      "\n",
      "==\n",
      "s2\n",
      "==\n",
      "NL: Newton Converged in 3 iterations\n",
      "\n",
      "==\n",
      "s2\n",
      "==\n",
      "NL: Newton Converged in 3 iterations\n",
      "\n",
      "==\n",
      "s2\n",
      "==\n",
      "NL: Newton Converged in 3 iterations\n",
      "\n",
      "==\n",
      "s2\n",
      "==\n",
      "NL: Newton Converged in 2 iterations\n",
      "\n",
      "==\n",
      "s2\n",
      "==\n",
      "NL: Newton Converged in 3 iterations\n",
      "\n",
      "==\n",
      "s2\n",
      "==\n",
      "NL: Newton Converged in 3 iterations\n",
      "\n",
      "==\n",
      "s2\n",
      "==\n",
      "NL: Newton Converged in 3 iterations\n",
      "\n",
      "==\n",
      "s2\n",
      "==\n",
      "NL: Newton Converged in 2 iterations\n",
      "\n",
      "==\n",
      "s2\n",
      "==\n",
      "NL: Newton Converged in 3 iterations\n",
      "\n",
      "==\n",
      "s2\n",
      "==\n",
      "NL: Newton Converged in 3 iterations\n",
      "\n",
      "==\n",
      "s2\n",
      "==\n",
      "NL: Newton Converged in 3 iterations\n",
      "\n",
      "==\n",
      "s2\n",
      "==\n",
      "NL: Newton Converged in 2 iterations\n",
      "\n",
      "==\n",
      "s2\n",
      "==\n",
      "NL: Newton Converged in 4 iterations\n",
      "\n",
      "==\n",
      "s2\n",
      "==\n",
      "NL: Newton Converged in 3 iterations\n",
      "\n",
      "==\n",
      "s2\n",
      "==\n",
      "NL: Newton Converged in 3 iterations\n",
      "\n",
      "==\n",
      "s2\n",
      "==\n",
      "NL: Newton Converged in 3 iterations\n",
      "\n",
      "==\n",
      "s2\n",
      "==\n",
      "NL: Newton Converged in 4 iterations\n",
      "\n",
      "==\n",
      "s2\n",
      "==\n",
      "NL: Newton Converged in 2 iterations\n",
      "\n",
      "==\n",
      "s2\n",
      "==\n",
      "NL: Newton Converged in 4 iterations\n",
      "\n",
      "==\n",
      "s2\n",
      "==\n",
      "NL: Newton Converged in 2 iterations\n",
      "\n",
      "==\n",
      "s2\n",
      "==\n",
      "NL: Newton Converged in 3 iterations\n",
      "\n",
      "==\n",
      "s2\n",
      "==\n",
      "NL: Newton Converged in 2 iterations\n",
      "\n",
      "==\n",
      "s2\n",
      "==\n",
      "NL: Newton Converged in 3 iterations\n",
      "\n",
      "==\n",
      "s2\n",
      "==\n",
      "NL: Newton Converged in 4 iterations\n",
      "\n",
      "==\n",
      "s2\n",
      "==\n",
      "NL: Newton Converged in 3 iterations\n",
      "\n",
      "==\n",
      "s2\n",
      "==\n",
      "NL: Newton Converged in 3 iterations\n",
      "\n",
      "==\n",
      "s2\n",
      "==\n",
      "NL: Newton Converged in 2 iterations\n",
      "\n",
      "==\n",
      "s2\n",
      "==\n",
      "NL: Newton Converged in 3 iterations\n",
      "\n",
      "==\n",
      "s2\n",
      "==\n",
      "NL: Newton Converged in 2 iterations\n",
      "\n",
      "==\n",
      "s2\n",
      "==\n",
      "NL: Newton Converged in 2 iterations\n",
      "\n",
      "==\n",
      "s2\n",
      "==\n",
      "NL: Newton Converged in 2 iterations\n",
      "\n",
      "==\n",
      "s2\n",
      "==\n",
      "NL: Newton Converged in 2 iterations\n",
      "\n",
      "==\n",
      "s2\n",
      "==\n",
      "NL: Newton Converged in 2 iterations\n",
      "\n",
      "==\n",
      "s2\n",
      "==\n",
      "NL: Newton Converged in 2 iterations\n",
      "\n",
      "==\n",
      "s2\n",
      "==\n",
      "NL: Newton Converged in 2 iterations\n",
      "\n",
      "==\n",
      "s2\n",
      "==\n",
      "NL: Newton Converged in 2 iterations\n",
      "\n",
      "==\n",
      "s2\n",
      "==\n",
      "NL: Newton Converged in 2 iterations\n",
      "\n",
      "==\n",
      "s2\n",
      "==\n",
      "NL: Newton Converged in 2 iterations\n",
      "\n",
      "==\n",
      "s2\n",
      "==\n",
      "NL: Newton Converged in 1 iterations\n",
      "\n",
      "==\n",
      "s2\n",
      "==\n",
      "NL: Newton Converged in 2 iterations\n",
      "\n",
      "==\n",
      "s2\n",
      "==\n",
      "NL: Newton Converged in 2 iterations\n",
      "\n",
      "==\n",
      "s2\n",
      "==\n",
      "NL: Newton Converged in 3 iterations\n",
      "\n",
      "==\n",
      "s2\n",
      "==\n",
      "NL: Newton Converged in 3 iterations\n",
      "\n",
      "==\n",
      "s2\n",
      "==\n",
      "NL: Newton Converged in 3 iterations\n",
      "\n",
      "==\n",
      "s2\n",
      "==\n",
      "NL: Newton Converged in 4 iterations\n",
      "\n",
      "==\n",
      "s2\n",
      "==\n",
      "NL: Newton Converged in 4 iterations\n",
      "\n",
      "==\n",
      "s2\n",
      "==\n",
      "NL: Newton Converged in 2 iterations\n",
      "\n",
      "==\n",
      "s2\n",
      "==\n",
      "NL: Newton Converged in 3 iterations\n",
      "\n",
      "==\n",
      "s2\n",
      "==\n",
      "NL: Newton Converged in 2 iterations\n",
      "\n",
      "==\n",
      "s2\n",
      "==\n",
      "NL: Newton Converged in 3 iterations\n",
      "\n",
      "==\n",
      "s2\n",
      "==\n",
      "NL: Newton Converged in 2 iterations\n",
      "\n",
      "==\n",
      "s2\n",
      "==\n",
      "NL: Newton Converged in 2 iterations\n",
      "\n",
      "==\n",
      "s2\n",
      "==\n",
      "NL: Newton Converged in 2 iterations\n",
      "\n",
      "==\n",
      "s2\n",
      "==\n",
      "NL: Newton Converged in 2 iterations\n",
      "\n",
      "==\n",
      "s2\n",
      "==\n",
      "NL: Newton Converged in 1 iterations\n",
      "\n",
      "==\n",
      "s2\n",
      "==\n",
      "NL: Newton Converged in 2 iterations\n",
      "\n",
      "==\n",
      "s2\n",
      "==\n",
      "NL: Newton Converged in 2 iterations\n",
      "\n",
      "==\n",
      "s2\n",
      "==\n",
      "NL: Newton Converged in 2 iterations\n",
      "\n",
      "==\n",
      "s2\n",
      "==\n",
      "NL: Newton Converged in 10 iterations\n",
      "\n",
      "==\n",
      "s2\n",
      "==\n",
      "NL: Newton Converged in 5 iterations\n",
      "\n",
      "==\n",
      "s2\n",
      "==\n",
      "NL: Newton Converged in 3 iterations\n",
      "\n",
      "==\n",
      "s2\n",
      "==\n",
      "NL: Newton Converged in 3 iterations\n",
      "\n",
      "==\n",
      "s2\n",
      "==\n",
      "NL: Newton Converged in 3 iterations\n",
      "\n",
      "==\n",
      "s2\n",
      "==\n",
      "NL: Newton Converged in 2 iterations\n",
      "\n",
      "==\n",
      "s2\n",
      "==\n",
      "NL: Newton Converged in 2 iterations\n",
      "\n",
      "==\n",
      "s2\n",
      "==\n",
      "NL: Newton Converged in 2 iterations\n",
      "\n",
      "==\n",
      "s2\n",
      "==\n",
      "NL: Newton Converged in 2 iterations\n",
      "\n",
      "==\n",
      "s2\n",
      "==\n",
      "NL: Newton Converged in 2 iterations\n",
      "\n",
      "==\n",
      "s2\n",
      "==\n",
      "NL: Newton Converged in 2 iterations\n",
      "\n",
      "==\n",
      "s2\n",
      "==\n",
      "NL: Newton Converged in 2 iterations\n",
      "\n",
      "==\n",
      "s2\n",
      "==\n",
      "NL: Newton Converged in 2 iterations\n",
      "\n",
      "==\n",
      "s2\n",
      "==\n",
      "NL: Newton Converged in 2 iterations\n",
      "\n",
      "==\n",
      "s2\n",
      "==\n",
      "NL: Newton Converged in 3 iterations\n",
      "\n",
      "==\n",
      "s2\n",
      "==\n",
      "NL: Newton Converged in 3 iterations\n",
      "\n",
      "==\n",
      "s2\n",
      "==\n",
      "NL: Newton Converged in 3 iterations\n",
      "\n",
      "==\n",
      "s2\n",
      "==\n",
      "NL: Newton Converged in 2 iterations\n",
      "\n",
      "==\n",
      "s2\n",
      "==\n",
      "NL: Newton Converged in 2 iterations\n",
      "\n",
      "==\n",
      "s2\n",
      "==\n",
      "NL: Newton Converged in 3 iterations\n",
      "\n",
      "==\n",
      "s2\n",
      "==\n",
      "NL: Newton Converged in 2 iterations\n",
      "\n",
      "==\n",
      "s2\n",
      "==\n",
      "NL: Newton Converged in 2 iterations\n",
      "\n",
      "==\n",
      "s2\n",
      "==\n",
      "NL: Newton Converged in 2 iterations\n",
      "\n",
      "==\n",
      "s2\n",
      "==\n",
      "NL: Newton Converged in 2 iterations\n",
      "\n",
      "==\n",
      "s2\n",
      "==\n",
      "NL: Newton Converged in 2 iterations\n",
      "\n",
      "==\n",
      "s2\n",
      "==\n",
      "NL: Newton Converged in 2 iterations\n",
      "\n",
      "==\n",
      "s2\n",
      "==\n",
      "NL: Newton Converged in 2 iterations\n",
      "\n",
      "==\n",
      "s2\n",
      "==\n",
      "NL: Newton Converged in 2 iterations\n",
      "\n",
      "==\n",
      "s2\n",
      "==\n",
      "NL: Newton Converged in 2 iterations\n",
      "\n",
      "==\n",
      "s2\n",
      "==\n",
      "NL: Newton Converged in 2 iterations\n",
      "\n",
      "==\n",
      "s2\n",
      "==\n",
      "NL: Newton Converged in 2 iterations\n",
      "\n",
      "==\n",
      "s2\n",
      "==\n",
      "NL: Newton Converged in 2 iterations\n",
      "\n",
      "==\n",
      "s2\n",
      "==\n",
      "NL: Newton Converged in 2 iterations\n",
      "\n",
      "==\n",
      "s2\n",
      "==\n",
      "NL: Newton Converged in 2 iterations\n",
      "\n",
      "==\n",
      "s2\n",
      "==\n",
      "NL: Newton Converged in 1 iterations\n",
      "\n",
      "==\n",
      "s2\n",
      "==\n",
      "NL: Newton Converged in 1 iterations\n",
      "\n",
      "==\n",
      "s2\n",
      "==\n",
      "NL: Newton Converged in 0 iterations\n",
      "\n",
      "\n",
      "Optimization Problem -- Optimization using pyOpt_sparse\n",
      "================================================================================\n",
      "    Objective Function: _objfunc\n",
      "\n",
      "    Solution: \n",
      "--------------------------------------------------------------------------------\n",
      "    Total Time:                  208.1927\n",
      "       User Objective Time :     142.7314\n",
      "       User Sensitivity Time :    65.1855\n",
      "       Interface Time :            0.1150\n",
      "       Opt Solver Time:            0.1608\n",
      "    Calls to Objective Function :     134\n",
      "    Calls to Sens Function :          102\n",
      "\n",
      "\n",
      "   Objectives\n",
      "      Index  Name                 Value\n",
      "          0  f37.obj37     5.853043E+02\n",
      "\n",
      "   Variables (c - continuous, i - integer, d - discrete)\n",
      "      Index  Name        Type      Lower Bound            Value      Upper Bound     Status\n",
      "          0  inp.v_0        c     0.000000E+00     2.466145E-02     1.000000E+30           \n",
      "          1  inp.EN_0       c     1.000000E-01     2.619528E+01     1.000000E+02           \n",
      "          2  inp.h_f_0      c     0.000000E+00     9.000000E-02     1.000000E+30           \n",
      "          3  inp.t_f_0      c     1.000000E-01     9.999999E-02     1.000000E+01          l\n",
      "          4  inp.t_s_0      c     1.000000E-01     1.000000E+01     1.000000E+01          u\n",
      "          5  inp.D_s_0      c     1.000000E-01     1.920775E-01     1.000000E+01           \n",
      "          6  inp.D_d_0      c     1.000000E-01     2.134195E-01     1.000000E+01           \n",
      "\n",
      "   Constraints (i - inequality, e - equality)\n",
      "      Index  Name      Type          Lower           Value           Upper    Status  Lagrange Multiplier (N/A)\n",
      "          0  f41.neq41    i  -1.000000E+30    9.999960E-09    0.000000E+00         u    9.00000E+100\n",
      "          1  f38.neq38    i  -1.000000E+30    9.999999E-09    0.000000E+00         u    9.00000E+100\n",
      "          2  f39.neq39    i  -1.000000E+30   -1.594266E+00    0.000000E+00              9.00000E+100\n",
      "          3  f40.neq40    i  -1.000000E+30    9.860757E-09    0.000000E+00         u    9.00000E+100\n",
      "          4  f42.neq42    i  -1.000000E+30    9.860564E-09    0.000000E+00         u    9.00000E+100\n",
      "          5  f43.neq43    i  -1.000000E+30    9.999959E-09    0.000000E+00         u    9.00000E+100\n",
      "\n",
      "--------------------------------------------------------------------------------\n",
      "\n",
      "\n",
      "==\n",
      "s2\n",
      "==\n",
      "NL: Newton Converged in 0 iterations\n"
     ]
    },
    {
     "data": {
      "text/plain": [
       "False"
      ]
     },
     "execution_count": 58,
     "metadata": {},
     "output_type": "execute_result"
    }
   ],
   "source": [
    "prob.run_driver()"
   ]
  },
  {
   "cell_type": "code",
   "execution_count": 28,
   "id": "c96c19b4",
   "metadata": {},
   "outputs": [
    {
     "data": {
      "text/plain": [
       "array([0.8292487])"
      ]
     },
     "execution_count": 28,
     "metadata": {},
     "output_type": "execute_result"
    }
   ],
   "source": [
    "prob.get_val('v')"
   ]
  },
  {
   "cell_type": "code",
   "execution_count": 23,
   "id": "70ccdb44",
   "metadata": {},
   "outputs": [],
   "source": [
    "ins_init = ['D_f', 'd', 'Vd', 'F_B', 'F_W', 'm_platform', 'm_solar', 'm_struct', 't_d', 'S_w', 'P_move', 'G_t', 'P_comms', 'E_move', 'E_comms', 'E_required', 'E_recharge', 'P_recharge', 'A_solar', 'C', 'm_batt', 'v', 'EN', 'h_f', 't_f', 't_s', 'D_s', 'D_d']\n",
    "x0  = {elt:prob.get_val(elt)[0] for elt in ins_init}"
   ]
  },
  {
   "cell_type": "code",
   "execution_count": 24,
   "id": "96442eba",
   "metadata": {},
   "outputs": [
    {
     "data": {
      "text/plain": [
       "{'D_f': 1.984825945852736,\n",
       " 'd': 0.39696518917054724,\n",
       " 'Vd': 0.5718096039463969,\n",
       " 'F_B': 5741.835286981408,\n",
       " 'F_W': 5741.835286981408,\n",
       " 'm_platform': 585.3043105995318,\n",
       " 'm_solar': 24.752822367920658,\n",
       " 'm_struct': 429.08005966026553,\n",
       " 't_d': 0.09999999000004137,\n",
       " 'S_w': 9.77023399145849,\n",
       " 'P_move': 0.09999999013936355,\n",
       " 'G_t': 46.00130320479174,\n",
       " 'P_comms': 50.0,\n",
       " 'E_move': 9.999999013936354e-05,\n",
       " 'E_comms': 50.0,\n",
       " 'E_required': 3.1500999999901396,\n",
       " 'E_recharge': 3.1500999999901396,\n",
       " 'P_recharge': 262.5083333325116,\n",
       " 'A_solar': 2.475282236792066,\n",
       " 'C': 5.294285714269142,\n",
       " 'm_batt': 31.471428571345708,\n",
       " 'v': 0.02466145284720914,\n",
       " 'EN': 26.19527980944559,\n",
       " 'h_f': 0.09000000100001639,\n",
       " 't_f': 0.09999999000001968,\n",
       " 't_s': 10.000000099995864,\n",
       " 'D_s': 0.19207752158303032,\n",
       " 'D_d': 0.21341945731452228}"
      ]
     },
     "execution_count": 24,
     "metadata": {},
     "output_type": "execute_result"
    }
   ],
   "source": [
    "x0"
   ]
  },
  {
   "cell_type": "code",
   "execution_count": null,
   "id": "5b6d065f",
   "metadata": {},
   "outputs": [],
   "source": []
  },
  {
   "cell_type": "code",
   "execution_count": 23,
   "id": "97ef9574",
   "metadata": {},
   "outputs": [],
   "source": [
    "import json\n",
    "with open('x0init.json', 'w') as f:\n",
    "    f.write(json.dumps(x0))"
   ]
  },
  {
   "cell_type": "code",
   "execution_count": 59,
   "id": "49914ee2-9ba7-42af-964c-d7a9bac20990",
   "metadata": {
    "execution": {
     "iopub.execute_input": "2022-07-24T23:31:49.894758Z",
     "iopub.status.busy": "2022-07-24T23:31:49.894758Z",
     "iopub.status.idle": "2022-07-24T23:31:49.921497Z",
     "shell.execute_reply": "2022-07-24T23:31:49.921497Z",
     "shell.execute_reply.started": "2022-07-24T23:31:49.894758Z"
    },
    "tags": []
   },
   "outputs": [
    {
     "name": "stdout",
     "output_type": "stream",
     "text": [
      "----------------\n",
      "Design Variables\n",
      "----------------\n",
      "name  val           size  lower  upper  \n",
      "----  ------------  ----  -----  ----- \n",
      "v     [0.02466145]  1     0.0    1e+30  \n",
      "EN    [26.1952798]  1     0.1    100.0  \n",
      "h_f   [0.09]        1     0.0    1e+30  \n",
      "t_f   [0.09999999]  1     0.1    10.0   \n",
      "t_s   [10.0000001]  1     0.1    10.0   \n",
      "D_s   [0.19207752]  1     0.1    10.0   \n",
      "D_d   [0.21341946]  1     0.1    10.0   \n",
      "\n",
      "-----------\n",
      "Constraints\n",
      "-----------\n",
      "name   val               size  lower   upper  equals  \n",
      "-----  ----------------  ----  ------  -----  ------ \n",
      "neq41  [9.99996028e-09]  1     -1e+30  0.0    None    \n",
      "neq38  [9.99999869e-09]  1     -1e+30  0.0    None    \n",
      "neq39  [-1.59426583]     1     -1e+30  0.0    None    \n",
      "neq40  [9.86075652e-09]  1     -1e+30  0.0    None    \n",
      "neq42  [9.86056392e-09]  1     -1e+30  0.0    None    \n",
      "neq43  [9.99995907e-09]  1     -1e+30  0.0    None    \n",
      "\n",
      "----------\n",
      "Objectives\n",
      "----------\n",
      "name   val            size  \n",
      "-----  -------------  ---- \n",
      "obj37  [585.3043106]  1     \n",
      "\n"
     ]
    }
   ],
   "source": [
    "prob.list_problem_vars(desvar_opts=['lower','upper'], cons_opts=['lower', 'upper', 'equals']);"
   ]
  },
  {
   "cell_type": "code",
   "execution_count": null,
   "id": "532e75d6",
   "metadata": {},
   "outputs": [],
   "source": []
  }
 ],
 "metadata": {
  "kernelspec": {
   "display_name": "minimdo",
   "language": "python",
   "name": "python3"
  },
  "language_info": {
   "codemirror_mode": {
    "name": "ipython",
    "version": 3
   },
   "file_extension": ".py",
   "mimetype": "text/x-python",
   "name": "python",
   "nbconvert_exporter": "python",
   "pygments_lexer": "ipython3",
   "version": "3.9.12"
  },
  "vscode": {
   "interpreter": {
    "hash": "a694de6fda351b2e6abf6df342a83029ffd7840d5f4e2b018751ced956a6df2b"
   }
  }
 },
 "nbformat": 4,
 "nbformat_minor": 5
}
