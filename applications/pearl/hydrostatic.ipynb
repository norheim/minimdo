{
 "cells": [
  {
   "cell_type": "code",
   "execution_count": null,
   "metadata": {},
   "outputs": [],
   "source": [
    "import pygmsh\n",
    "import trimesh\n",
    "import capytaine as cpt\n",
    "import pyvista as pv\n",
    "import numpy as np\n",
    "\n",
    "with pygmsh.occ.Geometry() as geom:\n",
    "    #geom.characteristic_length_max = 0.2\n",
    "    cyl1 = geom.add_cylinder([0.01, 0, 0], [0, 0, 0.1],  2)\n",
    "    cyl2 = geom.add_cylinder([0.01, 0, 0.1], [0, 0, 0.1],  2)\n",
    "    cyl3 = geom.add_cylinder([0.01, 0, 0.2], [0, 0, 0.1],  2)\n",
    "    geom.boolean_union([cyl1, cyl2, cyl3])\n",
    "    gmsh_mesh = geom.generate_mesh(dim=2)\n",
    "mesh_pv = pv.wrap(gmsh_mesh)"
   ]
  },
  {
   "cell_type": "code",
   "execution_count": null,
   "metadata": {},
   "outputs": [],
   "source": [
    "# Convert the pygmsh mesh to a trimesh mesh\n",
    "surf = mesh_pv.extract_surface()\n",
    "surf.save('test.stl')\n",
    "tri_mesh = trimesh.load_mesh('test.stl')\n",
    "\n",
    "# Compute the center of mass with trimesh\n",
    "center_of_mass = tri_mesh.centroid"
   ]
  },
  {
   "cell_type": "code",
   "execution_count": null,
   "metadata": {},
   "outputs": [],
   "source": [
    "np.round(center_of_mass,2)"
   ]
  },
  {
   "cell_type": "code",
   "execution_count": null,
   "metadata": {},
   "outputs": [],
   "source": [
    "import meshio\n",
    "#mesh = meshio.read('test.ply')\n",
    "mesh = cpt.load_mesh('test.stl')\n",
    "#mesh = cpt.mesh_sphere(radius=1.0, center=(0, 0, -2), name=\"my sphere\")\n",
    "from capytaine.meshes.predefined.cylinders import mesh_vertical_cylinder\n",
    "cyl1 = cpt.VerticalCylinder(\n",
    "        length=0.1, radius=1,\n",
    "        center=(0,0,0),\n",
    "        nr=100, nx=100, ntheta=10,\n",
    "    )\n",
    "cyl2 = cpt.VerticalCylinder(\n",
    "        length=0.1, radius=1,\n",
    "        center=(0,0,0.05),\n",
    "        nr=100, nx=100, ntheta=10,\n",
    "    )\n",
    "cyl3 = cpt.VerticalCylinder(\n",
    "        length=0.1, radius=1,\n",
    "        center=(0,0,0.15),\n",
    "        nr=100, nx=100, ntheta=10,\n",
    "    )\n",
    "body = cyl1+cyl2+cyl3\n",
    "body.rotation_center = np.array([0, 0, 0])\n",
    "body.center_of_mass = np.array([0,0,0.16])\n",
    "body.add_all_rigid_body_dofs()\n",
    "# body = cpt.FloatingBody(mesh, \n",
    "#                         dofs=cpt.rigid_body_dofs(rotation_center=(0,0,1)),\n",
    "#                         center_of_mass = center_of_mass)\n",
    "hydrostatics = body.compute_hydrostatics(rho=1023.6)"
   ]
  },
  {
   "cell_type": "code",
   "execution_count": null,
   "metadata": {},
   "outputs": [],
   "source": [
    "body.immersed_part().volume"
   ]
  },
  {
   "cell_type": "code",
   "execution_count": null,
   "metadata": {},
   "outputs": [],
   "source": [
    "#pv.set_jupyter_backend('static')\n",
    "\n",
    "# # Create a plotter object and render the mesh\n",
    "# plotter = pv.Plotter(notebook=False)\n",
    "# plotter.add_mesh(mesh)\n",
    "# plotter.show()"
   ]
  }
 ],
 "metadata": {
  "language_info": {
   "name": "python"
  }
 },
 "nbformat": 4,
 "nbformat_minor": 2
}
