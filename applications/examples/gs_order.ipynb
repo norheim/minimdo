{
 "cells": [
  {
   "cell_type": "markdown",
   "id": "10e9f1c7-a298-48b4-8007-3d7232052063",
   "metadata": {},
   "source": [
    "# Gauss-Seidel order"
   ]
  },
  {
   "cell_type": "code",
   "execution_count": 115,
   "id": "b4ebe797-9396-4bd4-974c-7a11b3d89464",
   "metadata": {
    "execution": {
     "iopub.execute_input": "2022-06-26T01:37:53.671827Z",
     "iopub.status.busy": "2022-06-26T01:37:53.671827Z",
     "iopub.status.idle": "2022-06-26T01:37:53.682180Z",
     "shell.execute_reply": "2022-06-26T01:37:53.681697Z",
     "shell.execute_reply.started": "2022-06-26T01:37:53.671827Z"
    },
    "tags": []
   },
   "outputs": [],
   "source": [
    "from compute import Var, Par\n",
    "from datastructures.api import Model, adda, addf, addsolver, setsolvefor, addobj, addeq, addineq, OPT\n",
    "from datastructures.execution import edges_from_components\n",
    "from datastructures.graphutils import namefromsympy, dfs_tree, SOLVER, VAR, COMP, nested_sources, sources, edges_to_Ein_Eout, flat_graph_formulation, root_solver\n",
    "from datastructures.nestedgraph import root_sources\n",
    "from datastructures.execution import generate_components_and_residuals\n",
    "from datastructures.workflow import get_f, order_from_tree, default_solver_options, mdao_workflow, implicit_comp_name\n",
    "from datastructures.workflow_mdao import mdao_workflow_with_args\n",
    "from datastructures.operators import sort_scc, reorder_merge_solve\n",
    "from datastructures.assembly import build_archi\n",
    "from datastructures.api import evalexpr\n",
    "from datastructures.postprocess import print_inputs, print_outputs, update_varval\n",
    "import openmdao.api as om\n",
    "import numpy as np\n",
    "from sympy import cos, log\n",
    "import matplotlib.pyplot as plt"
   ]
  },
  {
   "cell_type": "code",
   "execution_count": 116,
   "id": "f1422d30-4099-44cf-b5be-f85d81f39f81",
   "metadata": {
    "execution": {
     "iopub.execute_input": "2022-06-26T01:37:53.882894Z",
     "iopub.status.busy": "2022-06-26T01:37:53.881885Z",
     "iopub.status.idle": "2022-06-26T01:37:53.901013Z",
     "shell.execute_reply": "2022-06-26T01:37:53.899769Z",
     "shell.execute_reply.started": "2022-06-26T01:37:53.882894Z"
    },
    "tags": []
   },
   "outputs": [],
   "source": [
    "w,x,y,z,a = Var('w',-100), Var('x',-100), Var('y',-100), Var('z',-100), Par('a', 100)"
   ]
  },
  {
   "cell_type": "code",
   "execution_count": 148,
   "id": "45521f5b-470e-4c38-afd5-19a8973c341c",
   "metadata": {
    "execution": {
     "iopub.execute_input": "2022-06-26T01:41:02.265416Z",
     "iopub.status.busy": "2022-06-26T01:41:02.264891Z",
     "iopub.status.idle": "2022-06-26T01:41:02.346555Z",
     "shell.execute_reply": "2022-06-26T01:41:02.346175Z",
     "shell.execute_reply.started": "2022-06-26T01:41:02.265416Z"
    },
    "tags": []
   },
   "outputs": [
    {
     "data": {
      "text/latex": [
       "$z=100 $"
      ],
      "text/plain": [
       "z"
      ]
     },
     "execution_count": 148,
     "metadata": {},
     "output_type": "execute_result"
    }
   ],
   "source": [
    "model = Model(solver=OPT)\n",
    "m = model.root\n",
    "adda(m, w, log(x**2)+log(y**2)+log(z**2)+100)\n",
    "adda(m, x, log(y**2)+log(z**2)+100)\n",
    "adda(m, y, log(z**2)+100-x)\n",
    "adda(m, z, a)"
   ]
  },
  {
   "cell_type": "code",
   "execution_count": 149,
   "id": "00221aba-8e14-406f-b616-35bba2288093",
   "metadata": {
    "execution": {
     "iopub.execute_input": "2022-06-26T01:41:03.103217Z",
     "iopub.status.busy": "2022-06-26T01:41:03.103217Z",
     "iopub.status.idle": "2022-06-26T01:41:03.114163Z",
     "shell.execute_reply": "2022-06-26T01:41:03.113036Z",
     "shell.execute_reply.started": "2022-06-26T01:41:03.103217Z"
    },
    "tags": []
   },
   "outputs": [],
   "source": [
    "edges, tree = model.generate_formulation()"
   ]
  },
  {
   "cell_type": "code",
   "execution_count": 150,
   "id": "df2e82b7-9041-476c-ac7a-9b25902adecd",
   "metadata": {
    "execution": {
     "iopub.execute_input": "2022-06-26T01:41:03.295412Z",
     "iopub.status.busy": "2022-06-26T01:41:03.295412Z",
     "iopub.status.idle": "2022-06-26T01:41:03.309272Z",
     "shell.execute_reply": "2022-06-26T01:41:03.308880Z",
     "shell.execute_reply.started": "2022-06-26T01:41:03.295412Z"
    },
    "tags": []
   },
   "outputs": [],
   "source": [
    "ordered_tree = tree\n",
    "ordered_edges = edges\n",
    "comp_options = model.comp_options\n",
    "var_options = model.var_options\n",
    "solvers_options = model.solvers_options\n",
    "solvers_options[1] = {'solver': 'N', 'maxiter':20}\n",
    "nodetyperepr = model.nametyperepr\n",
    "namingfunc = namefromsympy(nodetyperepr)\n",
    "sequence = order_from_tree(ordered_tree[0], ordered_tree[1], ordered_edges[1])\n",
    "solvers_options = default_solver_options(ordered_tree, solvers_options)\n",
    "wf = mdao_workflow(sequence, solvers_options, comp_options, var_options)\n",
    "components = model.components\n",
    "lookup_f = get_f(components, ordered_edges)\n",
    "wfmdao = mdao_workflow_with_args(wf, lookup_f, namingfunc)"
   ]
  },
  {
   "cell_type": "code",
   "execution_count": 158,
   "id": "de46d3fc-b13c-448d-8d5f-cb18dd9bdb8c",
   "metadata": {
    "execution": {
     "iopub.execute_input": "2022-06-26T01:41:12.628420Z",
     "iopub.status.busy": "2022-06-26T01:41:12.628420Z",
     "iopub.status.idle": "2022-06-26T01:41:12.651495Z",
     "shell.execute_reply": "2022-06-26T01:41:12.651233Z",
     "shell.execute_reply.started": "2022-06-26T01:41:12.628420Z"
    },
    "tags": []
   },
   "outputs": [],
   "source": [
    "prob, mdao_in, groups = build_archi(ordered_edges, ordered_tree, wfmdao, namingfunc, model.idmapping)"
   ]
  },
  {
   "cell_type": "code",
   "execution_count": 159,
   "id": "51742670-8358-40be-a895-7353bd4ac06b",
   "metadata": {
    "execution": {
     "iopub.execute_input": "2022-06-26T01:41:12.875058Z",
     "iopub.status.busy": "2022-06-26T01:41:12.875058Z",
     "iopub.status.idle": "2022-06-26T01:41:12.891495Z",
     "shell.execute_reply": "2022-06-26T01:41:12.891404Z",
     "shell.execute_reply.started": "2022-06-26T01:41:12.875058Z"
    },
    "tags": []
   },
   "outputs": [],
   "source": [
    "recorder = om.SqliteRecorder(\"cases.sqlite\")\n",
    "solver = prob.model.s1.nonlinear_solver\n",
    "solver.add_recorder(recorder)"
   ]
  },
  {
   "cell_type": "code",
   "execution_count": 160,
   "id": "a8b2edeb-fb4b-4e63-a026-f54a66c46d0e",
   "metadata": {
    "execution": {
     "iopub.execute_input": "2022-06-26T01:41:13.081235Z",
     "iopub.status.busy": "2022-06-26T01:41:13.081235Z",
     "iopub.status.idle": "2022-06-26T01:41:13.100167Z",
     "shell.execute_reply": "2022-06-26T01:41:13.098967Z",
     "shell.execute_reply.started": "2022-06-26T01:41:13.081235Z"
    },
    "tags": []
   },
   "outputs": [],
   "source": [
    "for key,val in ordered_tree[0].items():\n",
    "    s = groups[namingfunc(val, SOLVER)]\n",
    "    f = getattr(s, namingfunc(key, COMP))\n",
    "    f.recording_options['options_excludes'] = ['component']"
   ]
  },
  {
   "cell_type": "code",
   "execution_count": 161,
   "id": "e49d9177-7116-4f69-8544-ddfdae32bf8a",
   "metadata": {
    "execution": {
     "iopub.execute_input": "2022-06-26T01:41:13.242992Z",
     "iopub.status.busy": "2022-06-26T01:41:13.242992Z",
     "iopub.status.idle": "2022-06-26T01:41:13.258828Z",
     "shell.execute_reply": "2022-06-26T01:41:13.258333Z",
     "shell.execute_reply.started": "2022-06-26T01:41:13.242992Z"
    },
    "tags": []
   },
   "outputs": [],
   "source": [
    "prob.set_val('w',100)\n",
    "prob.set_val('x',100)\n",
    "prob.set_val('y',100)\n",
    "prob.set_val('z',100)"
   ]
  },
  {
   "cell_type": "code",
   "execution_count": 162,
   "id": "568ef1a9-9673-4018-9a2c-61526d495f0f",
   "metadata": {
    "execution": {
     "iopub.execute_input": "2022-06-26T01:41:13.570961Z",
     "iopub.status.busy": "2022-06-26T01:41:13.570961Z",
     "iopub.status.idle": "2022-06-26T01:41:16.131693Z",
     "shell.execute_reply": "2022-06-26T01:41:16.131693Z",
     "shell.execute_reply.started": "2022-06-26T01:41:13.570961Z"
    },
    "tags": []
   },
   "outputs": [
    {
     "name": "stdout",
     "output_type": "stream",
     "text": [
      "\n",
      "==\n",
      "s1\n",
      "==\n",
      "NL: Newton Converged in 11 iterations\n"
     ]
    }
   ],
   "source": [
    "prob.run_model()"
   ]
  },
  {
   "cell_type": "code",
   "execution_count": 156,
   "id": "0b61925f-52ff-4a87-85cc-fdf5a411ed6c",
   "metadata": {
    "execution": {
     "iopub.execute_input": "2022-06-26T01:41:07.292362Z",
     "iopub.status.busy": "2022-06-26T01:41:07.292362Z",
     "iopub.status.idle": "2022-06-26T01:41:07.316456Z",
     "shell.execute_reply": "2022-06-26T01:41:07.315874Z",
     "shell.execute_reply.started": "2022-06-26T01:41:07.292362Z"
    },
    "tags": []
   },
   "outputs": [],
   "source": [
    "#om.n2(prob)"
   ]
  },
  {
   "cell_type": "code",
   "execution_count": 157,
   "id": "cedb74e7-38b0-47f2-99c1-56907f7d25a2",
   "metadata": {
    "execution": {
     "iopub.execute_input": "2022-06-26T01:41:09.572414Z",
     "iopub.status.busy": "2022-06-26T01:41:09.572414Z",
     "iopub.status.idle": "2022-06-26T01:41:09.707484Z",
     "shell.execute_reply": "2022-06-26T01:41:09.706366Z",
     "shell.execute_reply.started": "2022-06-26T01:41:09.572414Z"
    },
    "tags": []
   },
   "outputs": [],
   "source": [
    "prob.cleanup();"
   ]
  },
  {
   "cell_type": "code",
   "execution_count": 163,
   "id": "6c3fc09c-0f0f-4184-b001-9e111a479602",
   "metadata": {
    "execution": {
     "iopub.execute_input": "2022-06-26T01:41:25.561649Z",
     "iopub.status.busy": "2022-06-26T01:41:25.561649Z",
     "iopub.status.idle": "2022-06-26T01:41:25.601321Z",
     "shell.execute_reply": "2022-06-26T01:41:25.600920Z",
     "shell.execute_reply.started": "2022-06-26T01:41:25.561649Z"
    },
    "tags": []
   },
   "outputs": [],
   "source": [
    "cr = om.CaseReader(\"cases.sqlite\")\n",
    "solver_cases = cr.list_cases(out_stream=None);"
   ]
  },
  {
   "cell_type": "code",
   "execution_count": 164,
   "id": "738a94d9-31e5-478a-a5e8-444ba5c37206",
   "metadata": {
    "execution": {
     "iopub.execute_input": "2022-06-26T01:41:25.891723Z",
     "iopub.status.busy": "2022-06-26T01:41:25.891723Z",
     "iopub.status.idle": "2022-06-26T01:41:25.911230Z",
     "shell.execute_reply": "2022-06-26T01:41:25.910689Z",
     "shell.execute_reply.started": "2022-06-26T01:41:25.891723Z"
    },
    "tags": []
   },
   "outputs": [
    {
     "data": {
      "text/plain": [
       "['rank0:root._solve_nonlinear|0|NLRunOnce|0|s1._solve_nonlinear|0|Newton_subsolve|0',\n",
       " 'rank0:root._solve_nonlinear|0|NLRunOnce|0|s1._solve_nonlinear|0|NewtonSolver|0|Newton_subsolve|0',\n",
       " 'rank0:root._solve_nonlinear|0|NLRunOnce|0|s1._solve_nonlinear|0|NewtonSolver|0',\n",
       " 'rank0:root._solve_nonlinear|0|NLRunOnce|0|s1._solve_nonlinear|0|NewtonSolver|1|Newton_subsolve|0',\n",
       " 'rank0:root._solve_nonlinear|0|NLRunOnce|0|s1._solve_nonlinear|0|NewtonSolver|1',\n",
       " 'rank0:root._solve_nonlinear|0|NLRunOnce|0|s1._solve_nonlinear|0|NewtonSolver|2|Newton_subsolve|0',\n",
       " 'rank0:root._solve_nonlinear|0|NLRunOnce|0|s1._solve_nonlinear|0|NewtonSolver|2',\n",
       " 'rank0:root._solve_nonlinear|0|NLRunOnce|0|s1._solve_nonlinear|0|NewtonSolver|3|Newton_subsolve|0',\n",
       " 'rank0:root._solve_nonlinear|0|NLRunOnce|0|s1._solve_nonlinear|0|NewtonSolver|3',\n",
       " 'rank0:root._solve_nonlinear|0|NLRunOnce|0|s1._solve_nonlinear|0|NewtonSolver|4|Newton_subsolve|0',\n",
       " 'rank0:root._solve_nonlinear|0|NLRunOnce|0|s1._solve_nonlinear|0|NewtonSolver|4',\n",
       " 'rank0:root._solve_nonlinear|0|NLRunOnce|0|s1._solve_nonlinear|0|NewtonSolver|5|Newton_subsolve|0',\n",
       " 'rank0:root._solve_nonlinear|0|NLRunOnce|0|s1._solve_nonlinear|0|NewtonSolver|5',\n",
       " 'rank0:root._solve_nonlinear|0|NLRunOnce|0|s1._solve_nonlinear|0|NewtonSolver|6|Newton_subsolve|0',\n",
       " 'rank0:root._solve_nonlinear|0|NLRunOnce|0|s1._solve_nonlinear|0|NewtonSolver|6',\n",
       " 'rank0:root._solve_nonlinear|0|NLRunOnce|0|s1._solve_nonlinear|0|NewtonSolver|7|Newton_subsolve|0',\n",
       " 'rank0:root._solve_nonlinear|0|NLRunOnce|0|s1._solve_nonlinear|0|NewtonSolver|7',\n",
       " 'rank0:root._solve_nonlinear|0|NLRunOnce|0|s1._solve_nonlinear|0|NewtonSolver|8|Newton_subsolve|0',\n",
       " 'rank0:root._solve_nonlinear|0|NLRunOnce|0|s1._solve_nonlinear|0|NewtonSolver|8',\n",
       " 'rank0:root._solve_nonlinear|0|NLRunOnce|0|s1._solve_nonlinear|0|NewtonSolver|9|Newton_subsolve|0',\n",
       " 'rank0:root._solve_nonlinear|0|NLRunOnce|0|s1._solve_nonlinear|0|NewtonSolver|9',\n",
       " 'rank0:root._solve_nonlinear|0|NLRunOnce|0|s1._solve_nonlinear|0|NewtonSolver|10']"
      ]
     },
     "execution_count": 164,
     "metadata": {},
     "output_type": "execute_result"
    }
   ],
   "source": [
    "solver_cases"
   ]
  },
  {
   "cell_type": "code",
   "execution_count": 165,
   "id": "c1900635-69fd-40ed-905a-1feee7df518a",
   "metadata": {
    "execution": {
     "iopub.execute_input": "2022-06-26T01:41:30.532295Z",
     "iopub.status.busy": "2022-06-26T01:41:30.529770Z",
     "iopub.status.idle": "2022-06-26T01:41:30.600907Z",
     "shell.execute_reply": "2022-06-26T01:41:30.600907Z",
     "shell.execute_reply.started": "2022-06-26T01:41:30.532295Z"
    },
    "tags": []
   },
   "outputs": [
    {
     "data": {
      "text/plain": [
       "[array([127.63102112]),\n",
       " array([120.92733941]),\n",
       " array([120.92733941]),\n",
       " array([120.7120508]),\n",
       " array([120.7120508]),\n",
       " array([121.98596591]),\n",
       " array([121.98596591]),\n",
       " array([118.94438148]),\n",
       " array([118.94438148]),\n",
       " array([118.22996956]),\n",
       " array([118.22996956]),\n",
       " array([117.65933688]),\n",
       " array([117.65933688]),\n",
       " array([117.81777027]),\n",
       " array([117.81777027]),\n",
       " array([117.87487299]),\n",
       " array([117.87487299]),\n",
       " array([117.88045257]),\n",
       " array([117.88045257]),\n",
       " array([117.88049998]),\n",
       " array([117.88049998]),\n",
       " array([117.88049998])]"
      ]
     },
     "execution_count": 165,
     "metadata": {},
     "output_type": "execute_result"
    }
   ],
   "source": [
    "[cr.get_case(elt).get_val('w') for elt in solver_cases]"
   ]
  },
  {
   "cell_type": "code",
   "execution_count": 166,
   "id": "3b41d607-bbc8-4f08-a07a-3d9587a0dd1c",
   "metadata": {
    "execution": {
     "iopub.execute_input": "2022-06-26T01:41:32.027749Z",
     "iopub.status.busy": "2022-06-26T01:41:32.027749Z",
     "iopub.status.idle": "2022-06-26T01:41:32.101952Z",
     "shell.execute_reply": "2022-06-26T01:41:32.101952Z",
     "shell.execute_reply.started": "2022-06-26T01:41:32.027749Z"
    },
    "tags": []
   },
   "outputs": [
    {
     "data": {
      "text/plain": [
       "[array([118.42068074]),\n",
       " array([111.48449342]),\n",
       " array([111.48449342]),\n",
       " array([111.38044721]),\n",
       " array([111.38044721]),\n",
       " array([112.7075215]),\n",
       " array([112.7075215]),\n",
       " array([109.53638937]),\n",
       " array([109.53638937]),\n",
       " array([108.82834575]),\n",
       " array([108.82834575]),\n",
       " array([108.284345]),\n",
       " array([108.284345]),\n",
       " array([108.44374037]),\n",
       " array([108.44374037]),\n",
       " array([108.50120929]),\n",
       " array([108.50120929]),\n",
       " array([108.50682522]),\n",
       " array([108.50682522]),\n",
       " array([108.50687295]),\n",
       " array([108.50687295]),\n",
       " array([108.50687295])]"
      ]
     },
     "execution_count": 166,
     "metadata": {},
     "output_type": "execute_result"
    }
   ],
   "source": [
    "[cr.get_case(elt).get_val('x') for elt in solver_cases]"
   ]
  },
  {
   "cell_type": "code",
   "execution_count": 167,
   "id": "64c9c54d-1afb-4094-9270-a60c10dc5747",
   "metadata": {
    "execution": {
     "iopub.execute_input": "2022-06-26T01:41:32.421705Z",
     "iopub.status.busy": "2022-06-26T01:41:32.420193Z",
     "iopub.status.idle": "2022-06-26T01:41:32.492756Z",
     "shell.execute_reply": "2022-06-26T01:41:32.491740Z",
     "shell.execute_reply.started": "2022-06-26T01:41:32.421705Z"
    },
    "tags": []
   },
   "outputs": [
    {
     "data": {
      "text/plain": [
       "[array([-9.21034037]),\n",
       " array([-2.27415305]),\n",
       " array([-2.27415305]),\n",
       " array([-2.17010684]),\n",
       " array([-2.17010684]),\n",
       " array([-3.49718113]),\n",
       " array([-3.49718113]),\n",
       " array([-0.326049]),\n",
       " array([-0.326049]),\n",
       " array([0.38199462]),\n",
       " array([0.38199462]),\n",
       " array([0.92599538]),\n",
       " array([0.92599538]),\n",
       " array([0.7666]),\n",
       " array([0.7666]),\n",
       " array([0.70913108]),\n",
       " array([0.70913108]),\n",
       " array([0.70351515]),\n",
       " array([0.70351515]),\n",
       " array([0.70346743]),\n",
       " array([0.70346743]),\n",
       " array([0.70346742])]"
      ]
     },
     "execution_count": 167,
     "metadata": {},
     "output_type": "execute_result"
    }
   ],
   "source": [
    "[cr.get_case(elt).get_val('y') for elt in solver_cases]"
   ]
  },
  {
   "cell_type": "code",
   "execution_count": 168,
   "id": "7c400687-5ae0-43b5-9173-6afc3463f55a",
   "metadata": {
    "execution": {
     "iopub.execute_input": "2022-06-26T01:41:34.213230Z",
     "iopub.status.busy": "2022-06-26T01:41:34.213230Z",
     "iopub.status.idle": "2022-06-26T01:41:34.281866Z",
     "shell.execute_reply": "2022-06-26T01:41:34.281866Z",
     "shell.execute_reply.started": "2022-06-26T01:41:34.213230Z"
    },
    "tags": []
   },
   "outputs": [
    {
     "data": {
      "text/plain": [
       "[array([100.]),\n",
       " array([100.]),\n",
       " array([100.]),\n",
       " array([100.]),\n",
       " array([100.]),\n",
       " array([100.]),\n",
       " array([100.]),\n",
       " array([100.]),\n",
       " array([100.]),\n",
       " array([100.]),\n",
       " array([100.]),\n",
       " array([100.]),\n",
       " array([100.]),\n",
       " array([100.]),\n",
       " array([100.]),\n",
       " array([100.]),\n",
       " array([100.]),\n",
       " array([100.]),\n",
       " array([100.]),\n",
       " array([100.]),\n",
       " array([100.]),\n",
       " array([100.])]"
      ]
     },
     "execution_count": 168,
     "metadata": {},
     "output_type": "execute_result"
    }
   ],
   "source": [
    "[cr.get_case(elt).get_val('z') for elt in solver_cases]"
   ]
  },
  {
   "cell_type": "code",
   "execution_count": 169,
   "id": "a41e9b81-4bce-4207-a493-04080a101fee",
   "metadata": {
    "execution": {
     "iopub.execute_input": "2022-06-26T01:41:34.921898Z",
     "iopub.status.busy": "2022-06-26T01:41:34.921898Z",
     "iopub.status.idle": "2022-06-26T01:41:35.232992Z",
     "shell.execute_reply": "2022-06-26T01:41:35.231714Z",
     "shell.execute_reply.started": "2022-06-26T01:41:34.921898Z"
    },
    "tags": []
   },
   "outputs": [
    {
     "data": {
      "image/png": "[encoded data removed]",
      "text/plain": [
       "<Figure size 432x288 with 1 Axes>"
      ]
     },
     "metadata": {
      "needs_background": "light"
     },
     "output_type": "display_data"
    }
   ],
   "source": [
    "plt.plot([cr.get_case(elt).get_val('w') for elt in solver_cases], '.--')\n",
    "plt.plot([cr.get_case(elt).get_val('x') for elt in solver_cases], '.--')\n",
    "plt.plot([cr.get_case(elt).get_val('y') for elt in solver_cases], '.--')\n",
    "plt.plot([cr.get_case(elt).get_val('z') for elt in solver_cases], '.--');"
   ]
  },
  {
   "cell_type": "code",
   "execution_count": null,
   "id": "8c9dd461-1733-4de5-bd3a-c3e88e919957",
   "metadata": {},
   "outputs": [],
   "source": []
  }
 ],
 "metadata": {
  "kernelspec": {
   "display_name": "Python [conda env:mdo]",
   "language": "python",
   "name": "conda-env-mdo-py"
  },
  "language_info": {
   "codemirror_mode": {
    "name": "ipython",
    "version": 3
   },
   "file_extension": ".py",
   "mimetype": "text/x-python",
   "name": "python",
   "nbconvert_exporter": "python",
   "pygments_lexer": "ipython3",
   "version": "3.9.13"
  }
 },
 "nbformat": 4,
 "nbformat_minor": 5
}
