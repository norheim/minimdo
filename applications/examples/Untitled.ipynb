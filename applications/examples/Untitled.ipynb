{
 "cells": [
  {
   "cell_type": "code",
   "execution_count": 1,
   "id": "85ae3140-130e-4267-bc48-24149a6e44b5",
   "metadata": {},
   "outputs": [],
   "source": [
    "import cvxpy as cp"
   ]
  },
  {
   "cell_type": "code",
   "execution_count": 13,
   "id": "e7b84623-df0f-491f-83cd-5baf83a51d2b",
   "metadata": {},
   "outputs": [],
   "source": [
    "a = cp.Variable(pos=True)\n",
    "x = cp.Variable(pos=True)\n",
    "y = cp.Variable(pos=True)\n",
    "\n",
    "prob = cp.Problem(cp.Minimize(a*x), [x>=y**2+a,y==x/2])"
   ]
  },
  {
   "cell_type": "code",
   "execution_count": 14,
   "id": "f82a9042-1465-409b-b65e-2aa338a855b5",
   "metadata": {},
   "outputs": [
    {
     "data": {
      "text/plain": [
       "0.0"
      ]
     },
     "execution_count": 14,
     "metadata": {},
     "output_type": "execute_result"
    }
   ],
   "source": [
    "prob.solve(gp=True)\n"
   ]
  },
  {
   "cell_type": "code",
   "execution_count": 14,
   "id": "9a3b8572-f1dc-4f1a-b930-dcea7ec42ee2",
   "metadata": {},
   "outputs": [
    {
     "name": "stdout",
     "output_type": "stream",
     "text": [
      "Set parameter NonConvex to value 2\n",
      "Gurobi Optimizer version 9.5.2 build v9.5.2rc0 (win64)\n",
      "Thread count: 4 physical cores, 8 logical processors, using up to 8 threads\n",
      "Optimize a model with 1 rows, 3 columns and 2 nonzeros\n",
      "Model fingerprint: 0xea687fe6\n",
      "Model has 1 quadratic objective term\n",
      "Model has 1 quadratic constraint\n",
      "Coefficient statistics:\n",
      "  Matrix range     [5e-01, 1e+00]\n",
      "  QMatrix range    [1e+00, 1e+00]\n",
      "  QLMatrix range   [1e+00, 1e+00]\n",
      "  Objective range  [1e+00, 1e+00]\n",
      "  QObjective range [2e+00, 2e+00]\n",
      "  Bounds range     [1e+01, 1e+01]\n",
      "  RHS range        [0e+00, 0e+00]\n",
      "\n",
      "Continuous model is non-convex -- solving as a MIP\n",
      "\n",
      "Presolve removed 1 rows and 1 columns\n",
      "Presolve time: 0.00s\n",
      "Presolved: 3 rows, 3 columns, 6 nonzeros\n",
      "Presolved model has 1 quadratic objective terms\n",
      "Presolved model has 1 bilinear constraint(s)\n",
      "Variable types: 3 continuous, 0 integer (0 binary)\n",
      "\n",
      "Root relaxation: objective -2.085069e+00, 5 iterations, 0.00 seconds (0.00 work units)\n",
      "\n",
      "    Nodes    |    Current Node    |     Objective Bounds      |     Work\n",
      " Expl Unexpl |  Obj  Depth IntInf | Incumbent    BestBd   Gap | It/Node Time\n",
      "\n",
      "     0     0   -2.08507    0    1          -   -2.08507      -     -    0s\n",
      "H    0     0                      -0.0188846   -2.08507      -     -    0s\n",
      "H    0     0                      -0.0561729   -2.08507  3612%     -    0s\n",
      "     0     0   -0.71194    0    1   -0.05617   -0.71194  1167%     -    0s\n",
      "     0     0   -0.17136    0    1   -0.05617   -0.17136   205%     -    0s\n",
      "     0     0   -0.05949    0    1   -0.05617   -0.05949  5.90%     -    0s\n",
      "     0     2   -0.05949    0    1   -0.05617   -0.05949  5.90%     -    0s\n",
      "\n",
      "Explored 11 nodes (27 simplex iterations) in 0.04 seconds (0.00 work units)\n",
      "Thread count was 8 (of 8 available processors)\n",
      "\n",
      "Solution count 2: -0.0561729 -0.0188846 \n",
      "\n",
      "Optimal solution found (tolerance 1.00e-04)\n",
      "Best objective -5.617288524446e-02, best bound -5.617415191930e-02, gap 0.0023%\n"
     ]
    }
   ],
   "source": [
    "import gurobipy as gp\n",
    "from gurobipy import GRB\n",
    "\n",
    "# Create a Gurobi model object\n",
    "m = gp.Model()\n",
    "\n",
    "# Add variables to the model\n",
    "a = m.addVar(vtype=GRB.CONTINUOUS, lb=-10)\n",
    "x = m.addVar(vtype=GRB.CONTINUOUS, lb=-10)\n",
    "y = m.addVar(vtype=GRB.CONTINUOUS, lb=-10)\n",
    "\n",
    "# Set the NonConvex parameter of the model to 2\n",
    "m.params.NonConvex = 2\n",
    "\n",
    "# Add constraints to the model\n",
    "m.addConstr(x==y**2-a)\n",
    "m.addConstr(y==x/2)\n",
    "\n",
    "# Set the objective function of the model\n",
    "m.setObjective(y+a**2, sense=GRB.MINIMIZE)\n",
    "\n",
    "# Optimize the model\n",
    "m.optimize()"
   ]
  },
  {
   "cell_type": "code",
   "execution_count": 16,
   "id": "ff878095-81ef-4f25-8382-a171677e32d8",
   "metadata": {},
   "outputs": [
    {
     "data": {
      "text/plain": [
       "[<gurobi.Var C0 (value 0.22580298148039854)>,\n",
       " <gurobi.Var C1 (value -0.21431974337980245)>,\n",
       " <gurobi.Var C2 (value -0.10715987168990122)>]"
      ]
     },
     "execution_count": 16,
     "metadata": {},
     "output_type": "execute_result"
    }
   ],
   "source": [
    "m.getVars()"
   ]
  },
  {
   "cell_type": "code",
   "execution_count": 17,
   "id": "363e5914-1e37-468d-a8c3-58c3e43226ff",
   "metadata": {},
   "outputs": [],
   "source": [
    "xv = m.getVars()[1].x\n",
    "av = m.getVars()[0].x\n",
    "yv = m.getVars()[2].x"
   ]
  },
  {
   "cell_type": "code",
   "execution_count": 21,
   "id": "4e162959-3127-497b-83c8-90b68d981b0a",
   "metadata": {},
   "outputs": [
    {
     "data": {
      "text/plain": [
       "(-0.21431974337980245,\n",
       " 0.22580298148039854,\n",
       " -0.10715987168990122,\n",
       " -0.05617288524446395)"
      ]
     },
     "execution_count": 21,
     "metadata": {},
     "output_type": "execute_result"
    }
   ],
   "source": [
    "import numpy as np\n",
    "xv,av,yv,1-np.sqrt(av+1)+av**2"
   ]
  },
  {
   "cell_type": "code",
   "execution_count": 20,
   "id": "b6ac4f53-92c4-452f-a16f-b71d7d1411b6",
   "metadata": {},
   "outputs": [
    {
     "data": {
      "text/plain": [
       "(0.0, 0.0)"
      ]
     },
     "execution_count": 20,
     "metadata": {},
     "output_type": "execute_result"
    }
   ],
   "source": [
    "xv-(yv**2-av),yv-xv/2"
   ]
  },
  {
   "cell_type": "code",
   "execution_count": 49,
   "id": "b5318499-3786-4460-9757-9737e4dd941e",
   "metadata": {},
   "outputs": [],
   "source": [
    "l1 = xv\n",
    "l2 = 2*yv*l1"
   ]
  },
  {
   "cell_type": "code",
   "execution_count": 42,
   "id": "623ddde6-fb6b-4afe-adfa-2f631c195ada",
   "metadata": {},
   "outputs": [
    {
     "data": {
      "text/plain": [
       "6.428670928926294e-10"
      ]
     },
     "execution_count": 42,
     "metadata": {},
     "output_type": "execute_result"
    }
   ],
   "source": [
    "av+l1-l2/2"
   ]
  },
  {
   "cell_type": "code",
   "execution_count": 43,
   "id": "2675544e-3713-4e55-8f28-a68ce3da68f3",
   "metadata": {},
   "outputs": [
    {
     "data": {
      "text/plain": [
       "7.1111111093968"
      ]
     },
     "execution_count": 43,
     "metadata": {},
     "output_type": "execute_result"
    }
   ],
   "source": [
    "l2"
   ]
  },
  {
   "cell_type": "code",
   "execution_count": null,
   "id": "695e4bb3-208f-47e6-8288-66ed5aad6456",
   "metadata": {},
   "outputs": [],
   "source": []
  }
 ],
 "metadata": {
  "kernelspec": {
   "display_name": "Python [conda env:minimdo]",
   "language": "python",
   "name": "conda-env-minimdo-py"
  },
  "language_info": {
   "codemirror_mode": {
    "name": "ipython",
    "version": 3
   },
   "file_extension": ".py",
   "mimetype": "text/x-python",
   "name": "python",
   "nbconvert_exporter": "python",
   "pygments_lexer": "ipython3",
   "version": "3.9.18"
  }
 },
 "nbformat": 4,
 "nbformat_minor": 5
}
