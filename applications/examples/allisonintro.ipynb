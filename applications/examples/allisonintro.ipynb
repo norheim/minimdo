{
 "cells": [
  {
   "cell_type": "code",
   "execution_count": 1,
   "id": "fd53cab4-15c1-48a0-9b43-2de43acc1ffa",
   "metadata": {
    "execution": {
     "iopub.execute_input": "2022-07-07T02:51:02.871281Z",
     "iopub.status.busy": "2022-07-07T02:51:02.871281Z",
     "iopub.status.idle": "2022-07-07T02:51:09.461063Z",
     "shell.execute_reply": "2022-07-07T02:51:09.460796Z",
     "shell.execute_reply.started": "2022-07-07T02:51:02.871281Z"
    },
    "tags": []
   },
   "outputs": [],
   "source": [
    "from compute import Var, eqvar\n",
    "#from inputresolver import reassigneq, eqvars, eqsonly, default_out, mdf_order, default_in, idx_eqlist\n",
    "import numpy as np\n",
    "import sympy as sp\n",
    "#import networkx as nx\n",
    "#from representations import draw, bipartite_repr, digraph_repr\n",
    "from datastructures.api import Model, adda, addf, addsolver, setsolvefor, addobj, addineq\n",
    "from datastructures.workflow import OPT\n",
    "from datastructures.nestedgraph import merge_graph\n",
    "from collections import OrderedDict\n",
    "from datastructures.runpipeline import run_valid_formulation"
   ]
  },
  {
   "cell_type": "code",
   "execution_count": 2,
   "id": "95cb089b-a28b-47c5-aa26-7a39cbac8f9f",
   "metadata": {
    "execution": {
     "iopub.execute_input": "2022-07-07T02:51:09.461063Z",
     "iopub.status.busy": "2022-07-07T02:51:09.461063Z",
     "iopub.status.idle": "2022-07-07T02:51:09.473424Z",
     "shell.execute_reply": "2022-07-07T02:51:09.473424Z",
     "shell.execute_reply.started": "2022-07-07T02:51:09.461063Z"
    },
    "tags": []
   },
   "outputs": [],
   "source": [
    "import matplotlib.pyplot as plt"
   ]
  },
  {
   "cell_type": "code",
   "execution_count": 3,
   "id": "a198a02b-0d3f-4380-8872-0a27a2e240b4",
   "metadata": {
    "execution": {
     "iopub.execute_input": "2022-07-07T02:51:09.473424Z",
     "iopub.status.busy": "2022-07-07T02:51:09.473424Z",
     "iopub.status.idle": "2022-07-07T02:51:09.489570Z",
     "shell.execute_reply": "2022-07-07T02:51:09.489570Z",
     "shell.execute_reply.started": "2022-07-07T02:51:09.473424Z"
    },
    "tags": []
   },
   "outputs": [],
   "source": [
    "from datastructures.graphutils import namefromid, dfs_tree, Node, SOLVER, VAR, COMP, flat_graph_formulation, filter_comps, draw_graph_graphical_props\n",
    "from datastructures.execution import generate_components_and_residuals\n",
    "from datastructures.workflow import get_f, order_from_tree, default_solver_options, mdao_workflow, implicit_comp_name\n",
    "from datastructures.workflow_mdao import mdao_workflow_with_args\n",
    "from datastructures.assembly import build_archi\n",
    "import openmdao.api as om"
   ]
  },
  {
   "cell_type": "code",
   "execution_count": 28,
   "id": "4c5bf652-8329-4d3c-873d-bafb1cca5a60",
   "metadata": {
    "execution": {
     "iopub.execute_input": "2022-07-07T02:54:19.707313Z",
     "iopub.status.busy": "2022-07-07T02:54:19.707313Z",
     "iopub.status.idle": "2022-07-07T02:54:19.722580Z",
     "shell.execute_reply": "2022-07-07T02:54:19.722580Z",
     "shell.execute_reply.started": "2022-07-07T02:54:19.707313Z"
    },
    "tags": []
   },
   "outputs": [],
   "source": [
    "b = [2, 2.5, 3]\n",
    "w = np.array([1.3, 1.5, 1.2])\n",
    "a1e = 0.2"
   ]
  },
  {
   "cell_type": "code",
   "execution_count": 29,
   "id": "6cc932a6-7b12-4122-9e5e-ffdf38d8b01e",
   "metadata": {
    "execution": {
     "iopub.execute_input": "2022-07-07T02:54:20.120105Z",
     "iopub.status.busy": "2022-07-07T02:54:20.120105Z",
     "iopub.status.idle": "2022-07-07T02:54:20.136781Z",
     "shell.execute_reply": "2022-07-07T02:54:20.135766Z",
     "shell.execute_reply.started": "2022-07-07T02:54:20.120105Z"
    },
    "tags": []
   },
   "outputs": [],
   "source": [
    "model = Model(solver=OPT)\n",
    "m = model.root"
   ]
  },
  {
   "cell_type": "code",
   "execution_count": 30,
   "id": "3af6092f-bc30-4fef-8451-354a2c6a9cb8",
   "metadata": {
    "execution": {
     "iopub.execute_input": "2022-07-07T02:54:20.534775Z",
     "iopub.status.busy": "2022-07-07T02:54:20.534775Z",
     "iopub.status.idle": "2022-07-07T02:54:20.566531Z",
     "shell.execute_reply": "2022-07-07T02:54:20.565884Z",
     "shell.execute_reply.started": "2022-07-07T02:54:20.534775Z"
    },
    "tags": []
   },
   "outputs": [],
   "source": [
    "x1, x2, x3, a2, a3 = Var('x_1'), Var('x_2'), Var('x_3'), Var('a_2'), Var('a_3')\n",
    "a1 = adda(m, 'a_1', 0.1*x1*a2+0.8*x1*a3+b[0])\n",
    "adda(m, a2, x2*a3+b[1])\n",
    "adda(m, a3, 0.1*x3*a1+0.8*x3*a2+b[2])\n",
    "a4 = adda(m, 'a_4', (a1-a1e)**2+sp.Matrix([x1**2,x2**2,x3**2]).dot(w**2))\n",
    "#addobj(m, a4)"
   ]
  },
  {
   "cell_type": "code",
   "execution_count": 31,
   "id": "77e2659e-87b4-4140-9946-117167ca999a",
   "metadata": {
    "execution": {
     "iopub.execute_input": "2022-07-07T02:54:20.989500Z",
     "iopub.status.busy": "2022-07-07T02:54:20.989500Z",
     "iopub.status.idle": "2022-07-07T02:54:20.997501Z",
     "shell.execute_reply": "2022-07-07T02:54:20.997501Z",
     "shell.execute_reply.started": "2022-07-07T02:54:20.989500Z"
    },
    "tags": []
   },
   "outputs": [],
   "source": [
    "setsolvefor(m, [x1,x2,x3])"
   ]
  },
  {
   "cell_type": "code",
   "execution_count": 32,
   "id": "a6e2d382-d8ad-4022-ad45-d8760a061382",
   "metadata": {
    "execution": {
     "iopub.execute_input": "2022-07-07T02:54:21.270743Z",
     "iopub.status.busy": "2022-07-07T02:54:21.270743Z",
     "iopub.status.idle": "2022-07-07T02:54:21.287333Z",
     "shell.execute_reply": "2022-07-07T02:54:21.286290Z",
     "shell.execute_reply.started": "2022-07-07T02:54:21.270743Z"
    },
    "tags": []
   },
   "outputs": [],
   "source": [
    "edges, tree = model.generate_formulation()"
   ]
  },
  {
   "cell_type": "code",
   "execution_count": 33,
   "id": "ace31bdd-9041-4555-ad7a-70b68809ae8d",
   "metadata": {
    "execution": {
     "iopub.execute_input": "2022-07-07T02:54:21.471330Z",
     "iopub.status.busy": "2022-07-07T02:54:21.471330Z",
     "iopub.status.idle": "2022-07-07T02:54:21.495477Z",
     "shell.execute_reply": "2022-07-07T02:54:21.494427Z",
     "shell.execute_reply.started": "2022-07-07T02:54:21.471330Z"
    },
    "tags": []
   },
   "outputs": [
    {
     "data": {
      "text/plain": [
       "({0: ('a_3', 'x_1', 'a_2'),\n",
       "  1: ('a_3', 'x_2'),\n",
       "  2: ('a_1', 'a_2', 'x_3'),\n",
       "  3: ('x_1', 'a_1', 'x_2', 'x_3')},\n",
       " {0: ('a_1',), 1: ('a_2',), 2: ('a_3',), 3: ('a_4',)},\n",
       " {})"
      ]
     },
     "execution_count": 33,
     "metadata": {},
     "output_type": "execute_result"
    }
   ],
   "source": [
    "edges"
   ]
  },
  {
   "cell_type": "code",
   "execution_count": 34,
   "id": "877b6524-3c44-476a-8a86-61e73cc648d9",
   "metadata": {
    "execution": {
     "iopub.execute_input": "2022-07-07T02:54:21.722589Z",
     "iopub.status.busy": "2022-07-07T02:54:21.722589Z",
     "iopub.status.idle": "2022-07-07T02:54:21.738697Z",
     "shell.execute_reply": "2022-07-07T02:54:21.738697Z",
     "shell.execute_reply.started": "2022-07-07T02:54:21.722589Z"
    },
    "tags": []
   },
   "outputs": [],
   "source": [
    "from representations import draw"
   ]
  },
  {
   "cell_type": "code",
   "execution_count": 35,
   "id": "f2a4e7c0-5866-435d-b1d9-339e117f5e1a",
   "metadata": {
    "execution": {
     "iopub.execute_input": "2022-07-07T02:54:22.056282Z",
     "iopub.status.busy": "2022-07-07T02:54:22.056282Z",
     "iopub.status.idle": "2022-07-07T02:54:22.079550Z",
     "shell.execute_reply": "2022-07-07T02:54:22.079447Z",
     "shell.execute_reply.started": "2022-07-07T02:54:22.056282Z"
    },
    "tags": []
   },
   "outputs": [],
   "source": [
    "nodetyperepr = {VAR: '{}', COMP: 'f_{}', SOLVER: 'p_{}'}\n",
    "#Ein = filter_comps(edges[0], [1,2])\n",
    "#Eout = filter_comps(edges[1], [1,2])\n",
    "G = flat_graph_formulation(*edges, nodetyperepr=nodetyperepr)"
   ]
  },
  {
   "cell_type": "code",
   "execution_count": 36,
   "id": "166c05b2-e4e8-43ea-a458-fd3757b9aa63",
   "metadata": {
    "execution": {
     "iopub.execute_input": "2022-07-07T02:54:22.308874Z",
     "iopub.status.busy": "2022-07-07T02:54:22.308874Z",
     "iopub.status.idle": "2022-07-07T02:54:22.315530Z",
     "shell.execute_reply": "2022-07-07T02:54:22.315530Z",
     "shell.execute_reply.started": "2022-07-07T02:54:22.308874Z"
    },
    "tags": []
   },
   "outputs": [],
   "source": [
    "merge1 = {Node(1, COMP), Node(2, COMP)}\n",
    "merge2 = {Node(0, COMP), Node(3, COMP)}"
   ]
  },
  {
   "cell_type": "code",
   "execution_count": 43,
   "id": "ffbb314c-175a-4c6a-bbd7-9afb26e420e5",
   "metadata": {
    "execution": {
     "iopub.execute_input": "2022-07-07T02:56:38.559085Z",
     "iopub.status.busy": "2022-07-07T02:56:38.559085Z",
     "iopub.status.idle": "2022-07-07T02:56:38.564433Z",
     "shell.execute_reply": "2022-07-07T02:56:38.563700Z",
     "shell.execute_reply.started": "2022-07-07T02:56:38.559085Z"
    },
    "tags": []
   },
   "outputs": [],
   "source": [
    "G_merge, G_sub1 = merge_graph(G, merge1, set(), solver_idx=1, nodetyperepr=nodetyperepr, exclude_unique_sources=False)\n",
    "G_merge, G_sub2 = merge_graph(G_merge, merge2, set(), solver_idx=2, nodetyperepr=nodetyperepr, exclude_unique_sources=False)"
   ]
  },
  {
   "cell_type": "code",
   "execution_count": 44,
   "id": "61d598fe-c831-4a59-8db5-bc6a268d3968",
   "metadata": {
    "execution": {
     "iopub.execute_input": "2022-07-07T02:56:39.079278Z",
     "iopub.status.busy": "2022-07-07T02:56:39.079278Z",
     "iopub.status.idle": "2022-07-07T02:56:39.480463Z",
     "shell.execute_reply": "2022-07-07T02:56:39.480463Z",
     "shell.execute_reply.started": "2022-07-07T02:56:39.079278Z"
    },
    "tags": []
   },
   "outputs": [
    {
     "data": {
      "image/png": "[encoded data removed]",
      "text/plain": [
       "<Figure size 216x360 with 1 Axes>"
      ]
     },
     "metadata": {},
     "output_type": "display_data"
    }
   ],
   "source": [
    "draw_graph_graphical_props(G_sub1, figsize=(3,5));"
   ]
  },
  {
   "cell_type": "code",
   "execution_count": 45,
   "id": "9cd6d228-9b15-4ced-b7d8-943e66497613",
   "metadata": {
    "execution": {
     "iopub.execute_input": "2022-07-07T02:56:39.972642Z",
     "iopub.status.busy": "2022-07-07T02:56:39.972642Z",
     "iopub.status.idle": "2022-07-07T02:56:40.343761Z",
     "shell.execute_reply": "2022-07-07T02:56:40.343761Z",
     "shell.execute_reply.started": "2022-07-07T02:56:39.972642Z"
    },
    "tags": []
   },
   "outputs": [
    {
     "data": {
      "image/png": "[encoded data removed]",
      "text/plain": [
       "<Figure size 432x432 with 1 Axes>"
      ]
     },
     "metadata": {},
     "output_type": "display_data"
    }
   ],
   "source": [
    "draw_graph_graphical_props(G_sub2);"
   ]
  },
  {
   "cell_type": "code",
   "execution_count": 47,
   "id": "dcb53e1b-8fab-4aa3-add6-5beeed84ea41",
   "metadata": {
    "execution": {
     "iopub.execute_input": "2022-07-07T02:57:56.658486Z",
     "iopub.status.busy": "2022-07-07T02:57:56.658486Z",
     "iopub.status.idle": "2022-07-07T02:57:56.675352Z",
     "shell.execute_reply": "2022-07-07T02:57:56.674289Z",
     "shell.execute_reply.started": "2022-07-07T02:57:56.658486Z"
    }
   },
   "outputs": [
    {
     "data": {
      "text/plain": [
       "({0: ('a_3', 'x_1', 'a_2'),\n",
       "  1: ('a_3', 'x_2'),\n",
       "  2: ('a_1', 'a_2', 'x_3'),\n",
       "  3: ('x_1', 'a_1', 'x_2', 'x_3')},\n",
       " {0: ('a_1',), 1: ('a_2',), 2: ('a_3',), 3: ('a_4',)},\n",
       " {})"
      ]
     },
     "execution_count": 47,
     "metadata": {},
     "output_type": "execute_result"
    }
   ],
   "source": [
    "edges"
   ]
  },
  {
   "cell_type": "code",
   "execution_count": 46,
   "id": "65e1e15c-fdc6-4392-ba5d-c1330514e87a",
   "metadata": {
    "execution": {
     "iopub.execute_input": "2022-07-07T02:56:40.783367Z",
     "iopub.status.busy": "2022-07-07T02:56:40.783367Z",
     "iopub.status.idle": "2022-07-07T02:56:41.206758Z",
     "shell.execute_reply": "2022-07-07T02:56:41.205948Z",
     "shell.execute_reply.started": "2022-07-07T02:56:40.783367Z"
    },
    "tags": []
   },
   "outputs": [
    {
     "data": {
      "image/png": "[encoded data removed]",
      "text/plain": [
       "<Figure size 432x432 with 1 Axes>"
      ]
     },
     "metadata": {},
     "output_type": "display_data"
    }
   ],
   "source": [
    "draw_graph_graphical_props(G_merge, prog='fdp');"
   ]
  },
  {
   "cell_type": "code",
   "execution_count": 10,
   "id": "38b7b93d-de89-481f-a210-0f197f0892cf",
   "metadata": {
    "execution": {
     "iopub.execute_input": "2022-05-10T19:09:55.682485Z",
     "iopub.status.busy": "2022-05-10T19:09:55.681986Z",
     "iopub.status.idle": "2022-05-10T19:09:55.694672Z",
     "shell.execute_reply": "2022-05-10T19:09:55.694485Z",
     "shell.execute_reply.started": "2022-05-10T19:09:55.682485Z"
    },
    "tags": []
   },
   "outputs": [],
   "source": [
    "def reorder(tree, order):\n",
    "    d = OrderedDict()\n",
    "    Ftree = tree[0]\n",
    "    for elt in order:\n",
    "        d[elt] = Ftree[elt]\n",
    "    for key,var in Ftree.items():\n",
    "        if key not in d:\n",
    "            d[key]=var\n",
    "    return d, tree[1], tree[2]"
   ]
  },
  {
   "cell_type": "code",
   "execution_count": 52,
   "id": "f45f6178-dda2-427d-93fe-136c15cbc336",
   "metadata": {
    "execution": {
     "iopub.execute_input": "2022-05-10T19:12:33.801584Z",
     "iopub.status.busy": "2022-05-10T19:12:33.801584Z",
     "iopub.status.idle": "2022-05-10T19:12:33.812083Z",
     "shell.execute_reply": "2022-05-10T19:12:33.811583Z",
     "shell.execute_reply.started": "2022-05-10T19:12:33.801584Z"
    },
    "tags": []
   },
   "outputs": [],
   "source": [
    "order = [1,0,2]"
   ]
  },
  {
   "cell_type": "code",
   "execution_count": 53,
   "id": "bbb09ca5-b3ce-412d-8add-eebf5ca98e8f",
   "metadata": {
    "execution": {
     "iopub.execute_input": "2022-05-10T19:12:34.172306Z",
     "iopub.status.busy": "2022-05-10T19:12:34.172306Z",
     "iopub.status.idle": "2022-05-10T19:12:34.185513Z",
     "shell.execute_reply": "2022-05-10T19:12:34.184595Z",
     "shell.execute_reply.started": "2022-05-10T19:12:34.172306Z"
    },
    "tags": []
   },
   "outputs": [],
   "source": [
    "rtree = reorder(tree, order)\n",
    "for elt in order:\n",
    "    rtree[0][elt] = 2\n",
    "rtree[1][2] = 1\n",
    "rtree[2]['a1']=2\n",
    "rtree[2]['a2']=2\n",
    "rtree[2]['a3']=2"
   ]
  },
  {
   "cell_type": "code",
   "execution_count": 54,
   "id": "e9a219ce-10b5-4c19-9b55-e57ef6e1db2d",
   "metadata": {
    "execution": {
     "iopub.execute_input": "2022-05-10T19:12:34.359881Z",
     "iopub.status.busy": "2022-05-10T19:12:34.359881Z",
     "iopub.status.idle": "2022-05-10T19:12:34.374886Z",
     "shell.execute_reply": "2022-05-10T19:12:34.373956Z",
     "shell.execute_reply.started": "2022-05-10T19:12:34.359881Z"
    },
    "tags": []
   },
   "outputs": [],
   "source": [
    "ordered_tree = rtree\n",
    "ordered_edges = edges\n",
    "comp_options = model.comp_options\n",
    "var_options = model.var_options\n",
    "solvers_options = model.solvers_options\n",
    "solvers_options[1].update({'optimizer': 'L-BFGS-B', 'maxiter': 75})\n",
    "solvers_options[2] = {'solver': 'GS', 'maxiter':20}\n",
    "nodetyperepr = model.nametyperepr\n",
    "namingfunc = namefromid(nodetyperepr)\n",
    "sequence = order_from_tree(ordered_tree[0], ordered_tree[1], ordered_edges[1])\n",
    "solvers_options = default_solver_options(ordered_tree, solvers_options)\n",
    "wf = mdao_workflow(sequence, solvers_options, comp_options, var_options)"
   ]
  },
  {
   "cell_type": "code",
   "execution_count": 64,
   "id": "ef55b1e5-22b8-4395-8fb3-710407810e3d",
   "metadata": {
    "execution": {
     "iopub.execute_input": "2022-05-10T19:14:38.989494Z",
     "iopub.status.busy": "2022-05-10T19:14:38.989494Z",
     "iopub.status.idle": "2022-05-10T19:14:39.006765Z",
     "shell.execute_reply": "2022-05-10T19:14:39.006497Z",
     "shell.execute_reply.started": "2022-05-10T19:14:38.989494Z"
    },
    "tags": []
   },
   "outputs": [
    {
     "data": {
      "text/plain": [
       "[(('a2', 'x1', 'a3'), 0, ('a1',), '0.1*a2*x1 + 0.8*a3*x1 + 2'),\n",
       " (('x2', 'a3'), 1, ('a2',), 'a3*x2 + 2.5'),\n",
       " (('x3', 'a1', 'a2'), 2, ('a3',), '0.1*a1*x3 + 0.8*a2*x3 + 3'),\n",
       " (('x3', 'x2', 'a1', 'x1'), 3, (None,), '1.69*x1**2 + 2.25*x2**2 + 1.44*x3**2 + (a1 - 0.2)**2')]"
      ]
     },
     "execution_count": 64,
     "metadata": {},
     "output_type": "execute_result"
    }
   ],
   "source": [
    "model.components"
   ]
  },
  {
   "cell_type": "code",
   "execution_count": 56,
   "id": "036050e7-077a-4fb1-8b76-eeb036ee9419",
   "metadata": {
    "execution": {
     "iopub.execute_input": "2022-05-10T19:12:34.716081Z",
     "iopub.status.busy": "2022-05-10T19:12:34.716081Z",
     "iopub.status.idle": "2022-05-10T19:12:34.732870Z",
     "shell.execute_reply": "2022-05-10T19:12:34.732124Z",
     "shell.execute_reply.started": "2022-05-10T19:12:34.716081Z"
    },
    "tags": []
   },
   "outputs": [],
   "source": [
    "components = model.components\n",
    "all_components = generate_components_and_residuals(components, ordered_edges)"
   ]
  },
  {
   "cell_type": "code",
   "execution_count": 57,
   "id": "4cdaf2ef-0331-4c4b-b9dd-2110b79a5228",
   "metadata": {
    "execution": {
     "iopub.execute_input": "2022-05-10T19:12:36.925872Z",
     "iopub.status.busy": "2022-05-10T19:12:36.924832Z",
     "iopub.status.idle": "2022-05-10T19:12:36.944992Z",
     "shell.execute_reply": "2022-05-10T19:12:36.944789Z",
     "shell.execute_reply.started": "2022-05-10T19:12:36.925872Z"
    },
    "tags": []
   },
   "outputs": [
    {
     "data": {
      "text/plain": [
       "[(('a2', 'x1', 'a3'), 0, ('a1',), '0.1*a2*x1 + 0.8*a3*x1 + 2'),\n",
       " (('x2', 'a3'), 1, ('a2',), 'a3*x2 + 2.5'),\n",
       " (('x3', 'a1', 'a2'), 2, ('a3',), '0.1*a1*x3 + 0.8*a2*x3 + 3'),\n",
       " (('x3', 'x2', 'a1', 'x1'), 3, (None,), '1.69*x1**2 + 2.25*x2**2 + 1.44*x3**2 + (a1 - 0.2)**2')]"
      ]
     },
     "execution_count": 57,
     "metadata": {},
     "output_type": "execute_result"
    }
   ],
   "source": [
    "all_components"
   ]
  },
  {
   "cell_type": "code",
   "execution_count": 58,
   "id": "17444c4c-9421-4468-803a-30acdc07cfa7",
   "metadata": {
    "execution": {
     "iopub.execute_input": "2022-05-10T19:12:37.232479Z",
     "iopub.status.busy": "2022-05-10T19:12:37.232479Z",
     "iopub.status.idle": "2022-05-10T19:12:37.242012Z",
     "shell.execute_reply": "2022-05-10T19:12:37.242012Z",
     "shell.execute_reply.started": "2022-05-10T19:12:37.232479Z"
    },
    "tags": []
   },
   "outputs": [],
   "source": [
    "lookup_f = get_f(all_components, ordered_edges)\n",
    "wfmdao = mdao_workflow_with_args(wf, lookup_f, namingfunc)\n",
    "prob, mdao_in, groups = build_archi(ordered_edges, ordered_tree, wfmdao, namingfunc)"
   ]
  },
  {
   "cell_type": "code",
   "execution_count": 59,
   "id": "ea997b27-15e1-45f5-ac1f-74028daf24cd",
   "metadata": {
    "execution": {
     "iopub.execute_input": "2022-05-10T19:12:37.447617Z",
     "iopub.status.busy": "2022-05-10T19:12:37.447114Z",
     "iopub.status.idle": "2022-05-10T19:12:37.460398Z",
     "shell.execute_reply": "2022-05-10T19:12:37.460130Z",
     "shell.execute_reply.started": "2022-05-10T19:12:37.447617Z"
    },
    "tags": []
   },
   "outputs": [],
   "source": [
    "recorder = om.SqliteRecorder(\"cases.sqlite\")\n",
    "solver = prob.model.s2.nonlinear_solver\n",
    "solver.add_recorder(recorder)\n",
    "#solver.recording_options['includes'] = ['*']\n",
    "#solver.recording_options['record_outputs'] = True\n",
    "#solver.options['use_apply_nonlinear'] = True"
   ]
  },
  {
   "cell_type": "code",
   "execution_count": 60,
   "id": "3ec04f0d-8506-41e9-85a0-944cea1cae48",
   "metadata": {
    "execution": {
     "iopub.execute_input": "2022-05-10T19:12:37.733719Z",
     "iopub.status.busy": "2022-05-10T19:12:37.733719Z",
     "iopub.status.idle": "2022-05-10T19:12:37.741719Z",
     "shell.execute_reply": "2022-05-10T19:12:37.739718Z",
     "shell.execute_reply.started": "2022-05-10T19:12:37.733719Z"
    },
    "tags": []
   },
   "outputs": [],
   "source": [
    "#prob.model.s1.f3.add_recorder(recorder)"
   ]
  },
  {
   "cell_type": "code",
   "execution_count": 61,
   "id": "13c11445-d62b-4134-ab96-2ca9d9c8cdd6",
   "metadata": {
    "execution": {
     "iopub.execute_input": "2022-05-10T19:12:39.237017Z",
     "iopub.status.busy": "2022-05-10T19:12:39.237017Z",
     "iopub.status.idle": "2022-05-10T19:12:39.245742Z",
     "shell.execute_reply": "2022-05-10T19:12:39.244843Z",
     "shell.execute_reply.started": "2022-05-10T19:12:39.237017Z"
    },
    "tags": []
   },
   "outputs": [],
   "source": [
    "for key,val in ordered_tree[0].items():\n",
    "    s = groups[namingfunc(val, SOLVER)]\n",
    "    f = getattr(s, namingfunc(key, COMP))\n",
    "    f.recording_options['options_excludes'] = ['component']"
   ]
  },
  {
   "cell_type": "code",
   "execution_count": 62,
   "id": "be3a0b68-bfed-4ccd-ad54-23a63d2d0d7b",
   "metadata": {
    "execution": {
     "iopub.execute_input": "2022-05-10T19:12:39.422480Z",
     "iopub.status.busy": "2022-05-10T19:12:39.422480Z",
     "iopub.status.idle": "2022-05-10T19:12:39.431477Z",
     "shell.execute_reply": "2022-05-10T19:12:39.431477Z",
     "shell.execute_reply.started": "2022-05-10T19:12:39.422480Z"
    },
    "tags": []
   },
   "outputs": [],
   "source": [
    "#prob.setup();"
   ]
  },
  {
   "cell_type": "code",
   "execution_count": 63,
   "id": "fa140f60-b1cc-4617-be34-de52b771cb99",
   "metadata": {
    "execution": {
     "iopub.execute_input": "2022-05-10T19:12:39.620621Z",
     "iopub.status.busy": "2022-05-10T19:12:39.620621Z",
     "iopub.status.idle": "2022-05-10T19:12:39.870459Z",
     "shell.execute_reply": "2022-05-10T19:12:39.870224Z",
     "shell.execute_reply.started": "2022-05-10T19:12:39.620621Z"
    },
    "tags": []
   },
   "outputs": [
    {
     "name": "stdout",
     "output_type": "stream",
     "text": [
      "\n",
      "==\n",
      "s2\n",
      "==\n",
      "NL: NLBGS Converged in 14 iterations\n",
      "\n",
      "==\n",
      "s2\n",
      "==\n",
      "NL: NLBGS Converged in 1 iterations\n",
      "\n",
      "==\n",
      "s2\n",
      "==\n",
      "NL: NLBGSSolver 'NL: NLBGS' on system 's2' failed to converge in 20 iterations.\n",
      "\n",
      "==\n",
      "s2\n",
      "==\n",
      "NL: NLBGS Converged in 14 iterations\n",
      "Optimization Complete\n",
      "-----------------------------------\n"
     ]
    }
   ],
   "source": [
    "prob.run_driver();"
   ]
  },
  {
   "cell_type": "code",
   "execution_count": 50,
   "id": "4f273b8d-38ed-46b1-9420-4fb9036699a6",
   "metadata": {
    "execution": {
     "iopub.execute_input": "2022-05-10T19:11:46.817406Z",
     "iopub.status.busy": "2022-05-10T19:11:46.817406Z",
     "iopub.status.idle": "2022-05-10T19:11:46.929454Z",
     "shell.execute_reply": "2022-05-10T19:11:46.929082Z",
     "shell.execute_reply.started": "2022-05-10T19:11:46.817406Z"
    },
    "tags": []
   },
   "outputs": [],
   "source": [
    "prob.cleanup();"
   ]
  },
  {
   "cell_type": "code",
   "execution_count": 24,
   "id": "b7f60327-ac58-42e6-bed7-5346a402c4fb",
   "metadata": {
    "execution": {
     "iopub.execute_input": "2022-05-10T19:10:01.022035Z",
     "iopub.status.busy": "2022-05-10T19:10:01.021031Z",
     "iopub.status.idle": "2022-05-10T19:10:01.052575Z",
     "shell.execute_reply": "2022-05-10T19:10:01.051650Z",
     "shell.execute_reply.started": "2022-05-10T19:10:01.022035Z"
    },
    "tags": []
   },
   "outputs": [],
   "source": [
    "cr = om.CaseReader(\"cases.sqlite\")\n",
    "solver_cases = cr.list_cases(out_stream=None);"
   ]
  },
  {
   "cell_type": "code",
   "execution_count": 25,
   "id": "1fd0ba14-adea-4dea-8ec0-07e2bd940dd7",
   "metadata": {
    "execution": {
     "iopub.execute_input": "2022-05-10T19:10:01.242803Z",
     "iopub.status.busy": "2022-05-10T19:10:01.242243Z",
     "iopub.status.idle": "2022-05-10T19:10:01.364973Z",
     "shell.execute_reply": "2022-05-10T19:10:01.364973Z",
     "shell.execute_reply.started": "2022-05-10T19:10:01.242243Z"
    },
    "tags": []
   },
   "outputs": [
    {
     "data": {
      "image/png": "[encoded data removed]",
      "text/plain": [
       "<Figure size 432x288 with 1 Axes>"
      ]
     },
     "metadata": {
      "needs_background": "light"
     },
     "output_type": "display_data"
    }
   ],
   "source": [
    "plt.plot([cr.get_case(elt).get_val('a3') for elt in solver_cases], '.--');"
   ]
  },
  {
   "cell_type": "code",
   "execution_count": 44,
   "id": "d657e3c9-78e0-4006-bd1f-9852350a6a7f",
   "metadata": {
    "execution": {
     "iopub.execute_input": "2022-05-10T16:53:24.578752Z",
     "iopub.status.busy": "2022-05-10T16:53:24.578256Z",
     "iopub.status.idle": "2022-05-10T16:53:24.584751Z",
     "shell.execute_reply": "2022-05-10T16:53:24.584250Z",
     "shell.execute_reply.started": "2022-05-10T16:53:24.578752Z"
    },
    "tags": []
   },
   "outputs": [],
   "source": [
    "last_case = cr.get_case(solver_cases[1])"
   ]
  },
  {
   "cell_type": "code",
   "execution_count": 27,
   "id": "b4e6220b-5380-4f62-a550-73c95e092071",
   "metadata": {
    "execution": {
     "iopub.execute_input": "2022-05-10T16:48:56.220875Z",
     "iopub.status.busy": "2022-05-10T16:48:56.220875Z",
     "iopub.status.idle": "2022-05-10T16:48:56.228685Z",
     "shell.execute_reply": "2022-05-10T16:48:56.227870Z",
     "shell.execute_reply.started": "2022-05-10T16:48:56.220875Z"
    },
    "tags": []
   },
   "outputs": [
    {
     "name": "stdout",
     "output_type": "stream",
     "text": [
      "4 Explicit Output(s) in 's1'\n",
      "\n",
      "varname  val         \n",
      "-------  ------------\n",
      "s2\n",
      "  f1\n",
      "    a2   [6.11164591]\n",
      "  f2\n",
      "    a3   [4.14782579]\n",
      "  f0\n",
      "    a1   [2.81228746]\n",
      "f3\n",
      "  obj3   [8.67312201]\n",
      "\n",
      "\n",
      "0 Implicit Output(s) in 's1'\n",
      "\n",
      "\n"
     ]
    }
   ],
   "source": [
    "last_case.list_outputs();"
   ]
  },
  {
   "cell_type": "code",
   "execution_count": 54,
   "id": "66949fcf-00b6-4f51-8468-53daf00335b8",
   "metadata": {
    "execution": {
     "iopub.execute_input": "2022-05-04T16:30:11.439645Z",
     "iopub.status.busy": "2022-05-04T16:30:11.439645Z",
     "iopub.status.idle": "2022-05-04T16:30:11.455638Z",
     "shell.execute_reply": "2022-05-04T16:30:11.454715Z",
     "shell.execute_reply.started": "2022-05-04T16:30:11.439645Z"
    },
    "tags": []
   },
   "outputs": [
    {
     "name": "stdout",
     "output_type": "stream",
     "text": [
      "7 Explicit Output(s) in 'model'\n",
      "\n",
      "varname   val          \n",
      "--------  -------------\n",
      "inp\n",
      "  x1      [-0.50713742]\n",
      "  x3      [0.17880901] \n",
      "  x2      [0.0474264]  \n",
      "s1\n",
      "  s2\n",
      "    f0\n",
      "      a1  [0.48996124] \n",
      "    f1\n",
      "      a2  [2.66074577] \n",
      "    f2\n",
      "      a3  [3.3893732]  \n",
      "  f3\n",
      "    obj3  [0.56982733] \n",
      "\n",
      "\n",
      "0 Implicit Output(s) in 'model'\n",
      "\n",
      "\n"
     ]
    }
   ],
   "source": [
    "prob.model.list_outputs();"
   ]
  },
  {
   "cell_type": "code",
   "execution_count": 90,
   "id": "006e32df-b03a-4d8e-b816-302abcfe43f9",
   "metadata": {
    "execution": {
     "iopub.execute_input": "2022-05-04T16:09:30.312811Z",
     "iopub.status.busy": "2022-05-04T16:09:30.312811Z",
     "iopub.status.idle": "2022-05-04T16:09:30.323047Z",
     "shell.execute_reply": "2022-05-04T16:09:30.322045Z",
     "shell.execute_reply.started": "2022-05-04T16:09:30.312811Z"
    },
    "tags": []
   },
   "outputs": [
    {
     "data": {
      "text/plain": [
       "35"
      ]
     },
     "execution_count": 90,
     "metadata": {},
     "output_type": "execute_result"
    }
   ],
   "source": [
    "prob.model.s1.s2.iter_count_apply"
   ]
  }
 ],
 "metadata": {
  "kernelspec": {
   "display_name": "Python [conda env:mdo]",
   "language": "python",
   "name": "conda-env-mdo-py"
  },
  "language_info": {
   "codemirror_mode": {
    "name": "ipython",
    "version": 3
   },
   "file_extension": ".py",
   "mimetype": "text/x-python",
   "name": "python",
   "nbconvert_exporter": "python",
   "pygments_lexer": "ipython3",
   "version": "3.9.13"
  }
 },
 "nbformat": 4,
 "nbformat_minor": 5
}
