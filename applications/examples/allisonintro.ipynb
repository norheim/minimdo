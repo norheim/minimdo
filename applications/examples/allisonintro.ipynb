{
 "cells": [
  {
   "cell_type": "markdown",
   "id": "e10f3968",
   "metadata": {},
   "source": [
    "## New library"
   ]
  },
  {
   "cell_type": "code",
   "execution_count": 1,
   "id": "4bdedebc",
   "metadata": {},
   "outputs": [],
   "source": [
    "from engine.torchengine import AnalyticalSetSympy, FunctionSympy, ParallelResiduals, EliminateAnalysis, get_analysis_structure, EliminateAnalysisMergeResiduals\n",
    "from engine.torchdata import symbols, sp, generate_optim_functions, print_formatted_table\n",
    "from scipy.optimize import minimize\n",
    "import numpy as np\n",
    "import torch"
   ]
  },
  {
   "cell_type": "code",
   "execution_count": 2,
   "id": "bc1663d1",
   "metadata": {},
   "outputs": [],
   "source": [
    "b = [2, 2.5, 3]\n",
    "w = np.array([1.3, 1.5, 1.2])\n",
    "y1e = 0.2"
   ]
  },
  {
   "cell_type": "markdown",
   "id": "0ea38147",
   "metadata": {},
   "source": [
    "### Formulation"
   ]
  },
  {
   "cell_type": "code",
   "execution_count": 3,
   "id": "003a25a6",
   "metadata": {},
   "outputs": [],
   "source": [
    "x1, x2, x3, y1, y2, y3, indices = symbols('x1, x2, x3, y1, y2, y3')\n",
    "idxrev = {var.item():key for key,var in indices.items()}\n",
    "sets = {\n",
    "    0: AnalyticalSetSympy(0.1*x1*y2+0.8*x1*y3+b[0], y1, indices),\n",
    "    1: AnalyticalSetSympy(x2*y3+b[1], y2, indices),\n",
    "    2: AnalyticalSetSympy(0.1*x3*y1+0.8*x3*y2+b[2], y3, indices),\n",
    "}\n",
    "objective = FunctionSympy((y1-y1e)**2+sp.Matrix([x1**2,x2**2,x3**2]).dot(w**2), indices)"
   ]
  },
  {
   "cell_type": "markdown",
   "id": "d43d92c9",
   "metadata": {},
   "source": [
    "### Problem functions"
   ]
  },
  {
   "cell_type": "code",
   "execution_count": 4,
   "id": "68d1db15",
   "metadata": {},
   "outputs": [],
   "source": [
    "IDF = ParallelResiduals([s.analysis for s in sets.values()], [objective])"
   ]
  },
  {
   "cell_type": "code",
   "execution_count": 5,
   "id": "9d174c4f",
   "metadata": {},
   "outputs": [],
   "source": [
    "order = [0,1,2]\n",
    "structure_in, structure_out, full_structure = get_analysis_structure(\n",
    "    [sets[idx].analysis.structure_full for idx in order])\n",
    "feedback = {int(elt) for elt in structure_in}.intersection({int(elt) for elt in structure_out})\n",
    "A = [elt for elt in order if len({elt.item() for elt in sets[elt].analysis.structure[1]\n",
    "                                  }.intersection(feedback)) == 0]\n",
    "B = [elt for elt in order if elt not in A]\n",
    "R = EliminateAnalysisMergeResiduals(functions=[sets[idx].residual for idx in B])\n",
    "MDFelim = EliminateAnalysis([sets[idx].analysis for idx in A], [objective, R])"
   ]
  },
  {
   "cell_type": "code",
   "execution_count": 6,
   "id": "f4fd4cd1",
   "metadata": {},
   "outputs": [
    {
     "data": {
      "text/plain": [
       "{y2, y3}"
      ]
     },
     "execution_count": 6,
     "metadata": {},
     "output_type": "execute_result"
    }
   ],
   "source": [
    "{idxrev[elt] for elt in feedback}"
   ]
  },
  {
   "cell_type": "code",
   "execution_count": 7,
   "id": "a925c3cf",
   "metadata": {},
   "outputs": [
    {
     "data": {
      "text/plain": [
       "([0], [1, 2])"
      ]
     },
     "execution_count": 7,
     "metadata": {},
     "output_type": "execute_result"
    }
   ],
   "source": [
    "A,B"
   ]
  },
  {
   "cell_type": "markdown",
   "id": "69d40fbd",
   "metadata": {},
   "source": [
    "### Optimization functions processed"
   ]
  },
  {
   "cell_type": "code",
   "execution_count": 8,
   "id": "e364449c",
   "metadata": {},
   "outputs": [],
   "source": [
    "x0 = torch.ones(len(indices), dtype=torch.float64)"
   ]
  },
  {
   "cell_type": "code",
   "execution_count": 9,
   "id": "e31662c4",
   "metadata": {},
   "outputs": [],
   "source": [
    "prob = IDF\n",
    "optim_indices = prob.structure[0]\n",
    "xguess, obj_function, ineq_function, eq_function, dobj, dineq, deq, _ = generate_optim_functions(prob,\n",
    "    optim_indices, x0, inequality_direction='positive-null', objective=0, residuals=1)\n",
    "eqlen = len(eq_function(xguess))\n",
    "constraints = [{'type': 'eq', 'fun': eq_function, 'jac': deq}] if eqlen >= 1 else []\n",
    "bnds_problem = [(None, None) for elt in optim_indices]"
   ]
  },
  {
   "cell_type": "code",
   "execution_count": 10,
   "id": "c78d98cd",
   "metadata": {},
   "outputs": [
    {
     "data": {
      "text/plain": [
       "(12.669999999999998, tensor([1.9000, 2.5000, 2.9000], dtype=torch.float64))"
      ]
     },
     "execution_count": 10,
     "metadata": {},
     "output_type": "execute_result"
    }
   ],
   "source": [
    "obj_function(xguess), eq_function(xguess)"
   ]
  },
  {
   "cell_type": "code",
   "execution_count": 11,
   "id": "c59ffc5b",
   "metadata": {},
   "outputs": [],
   "source": [
    "# Solve the optimization problem\n",
    "xsol = minimize(obj_function, xguess, bounds=bnds_problem, jac=dobj, \n",
    "                constraints=constraints, options={'maxiter': 500}, method='SLSQP')"
   ]
  },
  {
   "cell_type": "code",
   "execution_count": 12,
   "id": "c9f65e3e",
   "metadata": {},
   "outputs": [
    {
     "data": {
      "text/plain": [
       " message: Optimization terminated successfully\n",
       " success: True\n",
       "  status: 0\n",
       "     fun: 0.5698273402144947\n",
       "       x: [-5.071e-01  4.750e-02  1.789e-01  2.661e+00  3.390e+00\n",
       "            4.900e-01]\n",
       "     nit: 10\n",
       "     jac: [ 1.131e-02  2.138e-01  5.167e-01 -2.937e-02 -2.349e-01\n",
       "            0.000e+00]\n",
       "    nfev: 12\n",
       "    njev: 10"
      ]
     },
     "execution_count": 12,
     "metadata": {},
     "output_type": "execute_result"
    }
   ],
   "source": [
    "xsol"
   ]
  },
  {
   "cell_type": "code",
   "execution_count": 13,
   "id": "c4fa4f81",
   "metadata": {},
   "outputs": [
    {
     "name": "stdout",
     "output_type": "stream",
     "text": [
      "x1     x2    x3    y1   y2    y3  \n",
      "-0.507 0.047 0.179 0.49 2.661 3.39\n"
     ]
    }
   ],
   "source": [
    "print_formatted_table([x0], indices, idxrev)"
   ]
  },
  {
   "cell_type": "markdown",
   "id": "972af33f",
   "metadata": {},
   "source": [
    "## Old library"
   ]
  },
  {
   "cell_type": "code",
   "execution_count": 14,
   "id": "d8382f01",
   "metadata": {},
   "outputs": [],
   "source": [
    "from modeling.api import Var\n",
    "from modeling.couplingapi import Subproblem, intersection, problem"
   ]
  },
  {
   "cell_type": "markdown",
   "id": "defb5ef9",
   "metadata": {},
   "source": [
    "### Formulation"
   ]
  },
  {
   "cell_type": "code",
   "execution_count": 15,
   "id": "4c00bb9a",
   "metadata": {},
   "outputs": [],
   "source": [
    "x1, x2, x3, y2, y3  = Var('x_1'), Var('x_2'), Var('x_3'), Var('y_2'), Var('y_3')\n",
    "a1 = Subproblem()\n",
    "y1 = a1.Var('y_1', 0.1*x1*y2+0.8*x1*y3+b[0])\n",
    "a2 = Subproblem()\n",
    "a2.add_equation(y2, x2*y3+b[1])\n",
    "a3 = Subproblem()\n",
    "a3.add_equation(y3, 0.1*x3*y1+0.8*x3*y2+b[2])\n",
    "objective = (y1-y1e)**2+sp.Matrix([x1**2,x2**2,x3**2]).dot(w**2)"
   ]
  },
  {
   "cell_type": "markdown",
   "id": "8b12fc1d",
   "metadata": {},
   "source": [
    "### Problem functions"
   ]
  },
  {
   "cell_type": "code",
   "execution_count": 25,
   "id": "14eae221",
   "metadata": {},
   "outputs": [],
   "source": [
    "merged_discipline = intersection(a1, a2, a3, mergesets=True)\n",
    "P = problem(objective, [], [merged_discipline], counter=1)"
   ]
  },
  {
   "cell_type": "code",
   "execution_count": 26,
   "id": "dfaf88f2",
   "metadata": {},
   "outputs": [
    {
     "data": {
      "text/plain": [
       "OrderedDict([(0, 3), (1, 3), (2, 3)])"
      ]
     },
     "execution_count": 26,
     "metadata": {},
     "output_type": "execute_result"
    }
   ],
   "source": [
    "merged_discipline.Ftree"
   ]
  },
  {
   "cell_type": "markdown",
   "id": "981ba317",
   "metadata": {},
   "source": [
    "### Problem structure"
   ]
  },
  {
   "cell_type": "code",
   "execution_count": 17,
   "id": "12933363",
   "metadata": {},
   "outputs": [],
   "source": [
    "from modeling.execution import edges_from_components\n",
    "from collections import OrderedDict\n",
    "def reorder(Ftree, order):\n",
    "    d = OrderedDict()\n",
    "    for elt in order:\n",
    "        d[elt] = Ftree[elt]\n",
    "    for key,var in Ftree.items():\n",
    "        if key not in d:\n",
    "            d[key]=var\n",
    "    return d"
   ]
  },
  {
   "cell_type": "code",
   "execution_count": 18,
   "id": "b33e928c",
   "metadata": {},
   "outputs": [],
   "source": [
    "edges = edges_from_components(P.components)\n",
    "order = [3,1,2]\n",
    "tree = reorder(P.Ftree,order), P.Stree, {'x_1': 1, 'x_2':1, 'x_3': 1}"
   ]
  },
  {
   "cell_type": "code",
   "execution_count": 19,
   "id": "dc553067",
   "metadata": {},
   "outputs": [
    {
     "data": {
      "text/plain": [
       "(({1: ('y_3', 'y_2', 'x_1'),\n",
       "   2: ('x_2', 'y_3'),\n",
       "   3: ('y_1', 'x_3', 'y_2'),\n",
       "   4: ('y_1', 'x_3', 'x_2', 'x_1')},\n",
       "  {1: ('y_1',), 2: ('y_2',), 3: ('y_3',), 4: (None,)},\n",
       "  {}),\n",
       " (OrderedDict([(3, 2), (1, 0), (2, 1), (4, 4)]),\n",
       "  {3: 4, 0: 3, 1: 3, 2: 3},\n",
       "  {'x_1': 1, 'x_2': 1, 'x_3': 1}))"
      ]
     },
     "execution_count": 19,
     "metadata": {},
     "output_type": "execute_result"
    }
   ],
   "source": [
    "edges, tree"
   ]
  },
  {
   "cell_type": "markdown",
   "id": "0e885f25",
   "metadata": {},
   "source": [
    "### Optimizer functions"
   ]
  },
  {
   "cell_type": "code",
   "execution_count": 81,
   "id": "5f1cef92",
   "metadata": {},
   "outputs": [],
   "source": [
    "from modeling.couplingapi import get_vals\n",
    "from solver.runpipeline import run_valid_formulation\n",
    "from graph.graphutils import VAR, COMP, SOLVER"
   ]
  },
  {
   "cell_type": "code",
   "execution_count": 22,
   "id": "ecd9a93d",
   "metadata": {},
   "outputs": [
    {
     "ename": "KeyError",
     "evalue": "1",
     "output_type": "error",
     "traceback": [
      "\u001b[1;31m---------------------------------------------------------------------------\u001b[0m",
      "\u001b[1;31mKeyError\u001b[0m                                  Traceback (most recent call last)",
      "Input \u001b[1;32mIn [22]\u001b[0m, in \u001b[0;36m<cell line: 2>\u001b[1;34m()\u001b[0m\n\u001b[0;32m      1\u001b[0m solver_options \u001b[38;5;241m=\u001b[39m P\u001b[38;5;241m.\u001b[39msolver_options\n\u001b[1;32m----> 2\u001b[0m \u001b[43msolver_options\u001b[49m\u001b[43m[\u001b[49m\u001b[38;5;241;43m1\u001b[39;49m\u001b[43m]\u001b[49m\u001b[38;5;241m.\u001b[39mupdate({\u001b[38;5;124m'\u001b[39m\u001b[38;5;124moptimizer\u001b[39m\u001b[38;5;124m'\u001b[39m: \u001b[38;5;124m'\u001b[39m\u001b[38;5;124mL-BFGS-B\u001b[39m\u001b[38;5;124m'\u001b[39m, \u001b[38;5;124m'\u001b[39m\u001b[38;5;124mmaxiter\u001b[39m\u001b[38;5;124m'\u001b[39m: \u001b[38;5;241m75\u001b[39m})\n\u001b[0;32m      3\u001b[0m solver_options[\u001b[38;5;241m2\u001b[39m] \u001b[38;5;241m=\u001b[39m {\u001b[38;5;124m'\u001b[39m\u001b[38;5;124msolver\u001b[39m\u001b[38;5;124m'\u001b[39m: \u001b[38;5;124m'\u001b[39m\u001b[38;5;124mGS\u001b[39m\u001b[38;5;124m'\u001b[39m, \u001b[38;5;124m'\u001b[39m\u001b[38;5;124mmaxiter\u001b[39m\u001b[38;5;124m'\u001b[39m:\u001b[38;5;241m20\u001b[39m}\n\u001b[0;32m      4\u001b[0m comp_options \u001b[38;5;241m=\u001b[39m P\u001b[38;5;241m.\u001b[39mcomp_options\n",
      "\u001b[1;31mKeyError\u001b[0m: 1"
     ]
    }
   ],
   "source": [
    "solver_options = P.solver_options\n",
    "solver_options[1].update({'optimizer': 'L-BFGS-B', 'maxiter': 75})\n",
    "solver_options[2] = {'solver': 'GS', 'maxiter':20}\n",
    "comp_options = P.comp_options\n",
    "var_options = {}\n",
    "nametyperepr = {VAR: '{}', COMP: 'f{}', SOLVER: 's{}'}\n",
    "prob, mdao_in, groups = run_valid_formulation(edges, tree, P.components, solver_options, comp_options, var_options, nametyperepr)\n",
    "P.prob = prob"
   ]
  },
  {
   "cell_type": "code",
   "execution_count": 17,
   "id": "61185abd",
   "metadata": {},
   "outputs": [],
   "source": [
    "out = get_vals(P, independent_only=False)"
   ]
  },
  {
   "cell_type": "code",
   "execution_count": 18,
   "id": "240b3e41",
   "metadata": {},
   "outputs": [
    {
     "data": {
      "text/plain": [
       "{y_1: array([1.]),\n",
       " y_2: array([1.]),\n",
       " y_3: array([1.]),\n",
       " x_1: array([0.22199317]),\n",
       " x_2: array([0.20671916]),\n",
       " x_3: array([0.87073231])}"
      ]
     },
     "execution_count": 18,
     "metadata": {},
     "output_type": "execute_result"
    }
   ],
   "source": [
    "out"
   ]
  },
  {
   "cell_type": "code",
   "execution_count": 19,
   "id": "d822efd9",
   "metadata": {},
   "outputs": [
    {
     "name": "stdout",
     "output_type": "stream",
     "text": [
      "\n",
      "==\n",
      "s2\n",
      "==\n",
      "NL: NLBGS Converged in 15 iterations\n"
     ]
    }
   ],
   "source": [
    "prob.run_model()"
   ]
  },
  {
   "cell_type": "code",
   "execution_count": 20,
   "id": "47b82135",
   "metadata": {},
   "outputs": [],
   "source": [
    "out = get_vals(P, independent_only=False)"
   ]
  },
  {
   "cell_type": "code",
   "execution_count": 21,
   "id": "e145aaeb",
   "metadata": {},
   "outputs": [
    {
     "name": "stdout",
     "output_type": "stream",
     "text": [
      "\n",
      "==\n",
      "s2\n",
      "==\n",
      "NL: NLBGS Converged in 1 iterations\n"
     ]
    },
    {
     "data": {
      "text/plain": [
       "{y_1: array([3.12249299]), y_2: array([3.71069235]), y_3: array([5.85670132])}"
      ]
     },
     "execution_count": 21,
     "metadata": {},
     "output_type": "execute_result"
    }
   ],
   "source": [
    "P.solve_with_engine(out, save_projected=True)"
   ]
  },
  {
   "cell_type": "code",
   "execution_count": 22,
   "id": "7dced51f",
   "metadata": {},
   "outputs": [],
   "source": [
    "solver = prob.model.s2.nonlinear_solver\n",
    "recorder = om.SqliteRecorder(\"cases.sqlite\")\n",
    "solver.add_recorder(recorder)\n",
    "prob.setup();"
   ]
  },
  {
   "cell_type": "code",
   "execution_count": 23,
   "id": "058d53e7",
   "metadata": {},
   "outputs": [
    {
     "name": "stdout",
     "output_type": "stream",
     "text": [
      "\n",
      "==\n",
      "s2\n",
      "==\n",
      "NL: NLBGS Converged in 1 iterations\n",
      "\n",
      "==\n",
      "s2\n",
      "==\n",
      "NL: NLBGS Converged in 1 iterations\n",
      "\n",
      "==\n",
      "s2\n",
      "==\n",
      "NL: NLBGSSolver 'NL: NLBGS' on system 's2' failed to converge in 20 iterations.\n",
      "\n",
      "==\n",
      "s2\n",
      "==\n",
      "NL: NLBGS Converged in 12 iterations\n",
      "\n",
      "==\n",
      "s2\n",
      "==\n",
      "NL: NLBGS Converged in 9 iterations\n",
      "\n",
      "==\n",
      "s2\n",
      "==\n",
      "NL: NLBGS Converged in 12 iterations\n",
      "\n",
      "==\n",
      "s2\n",
      "==\n",
      "NL: NLBGS Converged in 11 iterations\n",
      "\n",
      "==\n",
      "s2\n",
      "==\n",
      "NL: NLBGS Converged in 10 iterations\n",
      "\n",
      "==\n",
      "s2\n",
      "==\n",
      "NL: NLBGS Converged in 9 iterations\n",
      "\n",
      "==\n",
      "s2\n",
      "==\n",
      "NL: NLBGS Converged in 7 iterations\n",
      "\n",
      "==\n",
      "s2\n",
      "==\n",
      "NL: NLBGS Converged in 6 iterations\n",
      "\n",
      "==\n",
      "s2\n",
      "==\n",
      "NL: NLBGS Converged in 6 iterations\n",
      "\n",
      "==\n",
      "s2\n",
      "==\n",
      "NL: NLBGS Converged in 6 iterations\n",
      "\n",
      "==\n",
      "s2\n",
      "==\n",
      "NL: NLBGS Converged in 5 iterations\n",
      "\n",
      "==\n",
      "s2\n",
      "==\n",
      "NL: NLBGS Converged in 5 iterations\n",
      "\n",
      "==\n",
      "s2\n",
      "==\n",
      "NL: NLBGS Converged in 5 iterations\n",
      "\n",
      "==\n",
      "s2\n",
      "==\n",
      "NL: NLBGS Converged in 5 iterations\n",
      "\n",
      "==\n",
      "s2\n",
      "==\n",
      "NL: NLBGS Converged in 5 iterations\n",
      "Optimization Complete\n",
      "-----------------------------------\n"
     ]
    }
   ],
   "source": [
    "out_opt = P.solve_with_engine(save_projected=True, optimize=True)"
   ]
  },
  {
   "cell_type": "code",
   "execution_count": 24,
   "id": "1a80211c",
   "metadata": {},
   "outputs": [],
   "source": [
    "prob.cleanup();\n",
    "cr = om.CaseReader(\"cases.sqlite\")\n",
    "solver_cases = cr.list_cases(out_stream=None);"
   ]
  },
  {
   "cell_type": "markdown",
   "id": "c9cf3b1e",
   "metadata": {},
   "source": [
    "import matplotlib.pyplot as plt"
   ]
  },
  {
   "cell_type": "code",
   "execution_count": 25,
   "id": "0b8568d0",
   "metadata": {},
   "outputs": [
    {
     "data": {
      "image/png": "[encoded data removed]",
      "text/plain": [
       "<Figure size 432x288 with 1 Axes>"
      ]
     },
     "metadata": {
      "needs_background": "light"
     },
     "output_type": "display_data"
    }
   ],
   "source": [
    "plt.plot([cr.get_case(elt).get_val('x_3') for elt in solver_cases], '.--');"
   ]
  },
  {
   "cell_type": "code",
   "execution_count": 26,
   "id": "5a91f642",
   "metadata": {},
   "outputs": [
    {
     "data": {
      "text/plain": [
       "{y_1: array([0.4684394]),\n",
       " y_2: array([2.55942594]),\n",
       " y_3: array([3.35619869]),\n",
       " x_1: array([-0.52077928]),\n",
       " x_2: array([0.01770632]),\n",
       " x_3: array([0.17007319])}"
      ]
     },
     "execution_count": 26,
     "metadata": {},
     "output_type": "execute_result"
    }
   ],
   "source": [
    "get_vals(P, independent_only=False)"
   ]
  },
  {
   "cell_type": "code",
   "execution_count": 27,
   "id": "b854885a",
   "metadata": {},
   "outputs": [
    {
     "name": "stdout",
     "output_type": "stream",
     "text": [
      "----------------\n",
      "Design Variables\n",
      "----------------\n",
      "name  val            size  \n",
      "----  -------------  ---- \n",
      "x_1   [-0.52077928]  1     \n",
      "x_2   [0.01770632]   1     \n",
      "x_3   [0.17007319]   1     \n",
      "\n",
      "-----------\n",
      "Constraints\n",
      "-----------\n",
      "name  val  size  \n",
      "----  ---  ---- \n",
      "\n",
      "----------\n",
      "Objectives\n",
      "----------\n",
      "name  val           size  \n",
      "----  ------------  ---- \n",
      "obj4  [0.57276366]  1     \n",
      "\n"
     ]
    }
   ],
   "source": [
    "prob.list_problem_vars()"
   ]
  },
  {
   "attachments": {},
   "cell_type": "markdown",
   "id": "e63dc1e9",
   "metadata": {},
   "source": [
    "# Plotting the structures"
   ]
  },
  {
   "cell_type": "code",
   "execution_count": 15,
   "id": "ace31bdd-9041-4555-ad7a-70b68809ae8d",
   "metadata": {
    "execution": {
     "iopub.execute_input": "2022-07-07T02:54:21.471330Z",
     "iopub.status.busy": "2022-07-07T02:54:21.471330Z",
     "iopub.status.idle": "2022-07-07T02:54:21.495477Z",
     "shell.execute_reply": "2022-07-07T02:54:21.494427Z",
     "shell.execute_reply.started": "2022-07-07T02:54:21.471330Z"
    },
    "tags": []
   },
   "outputs": [
    {
     "data": {
      "text/plain": [
       "({1: ('y_2', 'x_1', 'y_3'),\n",
       "  2: ('x_2', 'y_3'),\n",
       "  3: ('x_3', 'y_1', 'y_2'),\n",
       "  4: ('x_3', 'x_2', 'y_1', 'x_1')},\n",
       " {1: ('y_1',), 2: ('y_2',), 3: ('y_3',), 4: (None,)},\n",
       " {})"
      ]
     },
     "execution_count": 15,
     "metadata": {},
     "output_type": "execute_result"
    }
   ],
   "source": [
    "edges"
   ]
  },
  {
   "cell_type": "code",
   "execution_count": 16,
   "id": "91fff14b",
   "metadata": {},
   "outputs": [],
   "source": [
    "from graph.graphutils import flat_graph_formulation, draw_graph_graphical_props, Node\n",
    "from graph.nestedgraph import merge_graph"
   ]
  },
  {
   "cell_type": "code",
   "execution_count": 17,
   "id": "f2a4e7c0-5866-435d-b1d9-339e117f5e1a",
   "metadata": {
    "execution": {
     "iopub.execute_input": "2022-07-07T02:54:22.056282Z",
     "iopub.status.busy": "2022-07-07T02:54:22.056282Z",
     "iopub.status.idle": "2022-07-07T02:54:22.079550Z",
     "shell.execute_reply": "2022-07-07T02:54:22.079447Z",
     "shell.execute_reply.started": "2022-07-07T02:54:22.056282Z"
    },
    "tags": []
   },
   "outputs": [],
   "source": [
    "nodetyperepr = {VAR: '{}', COMP: 'a_{}', SOLVER: 'P_{}'}\n",
    "#Ein = filter_comps(edges[0], [1,2])\n",
    "#Eout = filter_comps(edges[1], [1,2])\n",
    "G = flat_graph_formulation(*edges, nodetyperepr=nodetyperepr)"
   ]
  },
  {
   "cell_type": "code",
   "execution_count": 18,
   "id": "69675d77",
   "metadata": {},
   "outputs": [
    {
     "data": {
      "image/png": "[encoded data removed]",
      "text/plain": [
       "<Figure size 432x432 with 1 Axes>"
      ]
     },
     "metadata": {},
     "output_type": "display_data"
    }
   ],
   "source": [
    "draw_graph_graphical_props(G, prog='neato', figsize=(6,6));"
   ]
  },
  {
   "cell_type": "code",
   "execution_count": 19,
   "id": "166c05b2-e4e8-43ea-a458-fd3757b9aa63",
   "metadata": {
    "execution": {
     "iopub.execute_input": "2022-07-07T02:54:22.308874Z",
     "iopub.status.busy": "2022-07-07T02:54:22.308874Z",
     "iopub.status.idle": "2022-07-07T02:54:22.315530Z",
     "shell.execute_reply": "2022-07-07T02:54:22.315530Z",
     "shell.execute_reply.started": "2022-07-07T02:54:22.308874Z"
    },
    "tags": []
   },
   "outputs": [],
   "source": [
    "merge1 = {Node(1, COMP), Node(3, COMP)}\n",
    "merge2 = {Node(2, COMP)}"
   ]
  },
  {
   "cell_type": "code",
   "execution_count": 20,
   "id": "ffbb314c-175a-4c6a-bbd7-9afb26e420e5",
   "metadata": {
    "execution": {
     "iopub.execute_input": "2022-07-07T02:56:38.559085Z",
     "iopub.status.busy": "2022-07-07T02:56:38.559085Z",
     "iopub.status.idle": "2022-07-07T02:56:38.564433Z",
     "shell.execute_reply": "2022-07-07T02:56:38.563700Z",
     "shell.execute_reply.started": "2022-07-07T02:56:38.559085Z"
    },
    "tags": []
   },
   "outputs": [],
   "source": [
    "G_merge, G_sub1 = merge_graph(G, merge1, set(), solver_idx=1, nodetyperepr=nodetyperepr, exclude_unique_sources=False)\n",
    "G_merge, G_sub2 = merge_graph(G_merge, merge2, set(), solver_idx=2, nodetyperepr=nodetyperepr, exclude_unique_sources=False)"
   ]
  },
  {
   "cell_type": "code",
   "execution_count": 21,
   "id": "61d598fe-c831-4a59-8db5-bc6a268d3968",
   "metadata": {
    "execution": {
     "iopub.execute_input": "2022-07-07T02:56:39.079278Z",
     "iopub.status.busy": "2022-07-07T02:56:39.079278Z",
     "iopub.status.idle": "2022-07-07T02:56:39.480463Z",
     "shell.execute_reply": "2022-07-07T02:56:39.480463Z",
     "shell.execute_reply.started": "2022-07-07T02:56:39.079278Z"
    },
    "tags": []
   },
   "outputs": [
    {
     "data": {
      "image/png": "[encoded data removed]",
      "text/plain": [
       "<Figure size 216x360 with 1 Axes>"
      ]
     },
     "metadata": {},
     "output_type": "display_data"
    },
    {
     "data": {
      "image/png": "[encoded data removed]",
      "text/plain": [
       "<Figure size 216x360 with 1 Axes>"
      ]
     },
     "metadata": {},
     "output_type": "display_data"
    }
   ],
   "source": [
    "draw_graph_graphical_props(G_sub1, figsize=(3,5));\n",
    "draw_graph_graphical_props(G_merge, figsize=(3,5))"
   ]
  },
  {
   "cell_type": "code",
   "execution_count": 63,
   "id": "cb08db0e",
   "metadata": {},
   "outputs": [],
   "source": [
    "prob, mdao_in, groups = run_valid_formulation(edges, rtree, P.components, solver_options, comp_options, var_options, nametyperepr)"
   ]
  },
  {
   "cell_type": "code",
   "execution_count": 54,
   "id": "e9a219ce-10b5-4c19-9b55-e57ef6e1db2d",
   "metadata": {
    "execution": {
     "iopub.execute_input": "2022-05-10T19:12:34.359881Z",
     "iopub.status.busy": "2022-05-10T19:12:34.359881Z",
     "iopub.status.idle": "2022-05-10T19:12:34.374886Z",
     "shell.execute_reply": "2022-05-10T19:12:34.373956Z",
     "shell.execute_reply.started": "2022-05-10T19:12:34.359881Z"
    },
    "tags": []
   },
   "outputs": [],
   "source": [
    "ordered_tree = rtree\n",
    "ordered_edges = edges\n",
    "comp_options = model.comp_options\n",
    "var_options = model.var_options\n",
    "solvers_options = model.solvers_options\n",
    "solvers_options[1].update({'optimizer': 'L-BFGS-B', 'maxiter': 75})\n",
    "solvers_options[2] = {'solver': 'GS', 'maxiter':20}\n",
    "nodetyperepr = model.nametyperepr\n",
    "namingfunc = namefromid(nodetyperepr)\n",
    "sequence = order_from_tree(ordered_tree[0], ordered_tree[1], ordered_edges[1])\n",
    "solvers_options = default_solver_options(ordered_tree, solvers_options)\n",
    "wf = mdao_workflow(sequence, solvers_options, comp_options, var_options)"
   ]
  },
  {
   "cell_type": "code",
   "execution_count": 24,
   "id": "97565ce3",
   "metadata": {},
   "outputs": [
    {
     "data": {
      "text/plain": [
       "[(('y_2', 'x_1', 'y_3'), 1, ('y_1',), '0.1*x_1*y_2 + 0.8*x_1*y_3 + 2'),\n",
       " (('x_2', 'y_3'), 2, ('y_2',), 'x_2*y_3 + 2.5'),\n",
       " (('x_3', 'y_1', 'y_2'), 3, ('y_3',), '0.1*x_3*y_1 + 0.8*x_3*y_2 + 3'),\n",
       " (('x_3', 'x_2', 'y_1', 'x_1'), 4, (None,), '1.69*x_1**2 + 2.25*x_2**2 + 1.44*x_3**2 + (y_1 - 0.2)**2')]"
      ]
     },
     "execution_count": 24,
     "metadata": {},
     "output_type": "execute_result"
    }
   ],
   "source": [
    "P.components"
   ]
  },
  {
   "cell_type": "code",
   "execution_count": 64,
   "id": "ef55b1e5-22b8-4395-8fb3-710407810e3d",
   "metadata": {
    "execution": {
     "iopub.execute_input": "2022-05-10T19:14:38.989494Z",
     "iopub.status.busy": "2022-05-10T19:14:38.989494Z",
     "iopub.status.idle": "2022-05-10T19:14:39.006765Z",
     "shell.execute_reply": "2022-05-10T19:14:39.006497Z",
     "shell.execute_reply.started": "2022-05-10T19:14:38.989494Z"
    },
    "tags": []
   },
   "outputs": [
    {
     "data": {
      "text/plain": [
       "[(('a2', 'x1', 'a3'), 0, ('a1',), '0.1*a2*x1 + 0.8*a3*x1 + 2'),\n",
       " (('x2', 'a3'), 1, ('a2',), 'a3*x2 + 2.5'),\n",
       " (('x3', 'a1', 'a2'), 2, ('a3',), '0.1*a1*x3 + 0.8*a2*x3 + 3'),\n",
       " (('x3', 'x2', 'a1', 'x1'), 3, (None,), '1.69*x1**2 + 2.25*x2**2 + 1.44*x3**2 + (a1 - 0.2)**2')]"
      ]
     },
     "execution_count": 64,
     "metadata": {},
     "output_type": "execute_result"
    }
   ],
   "source": [
    "model.components"
   ]
  },
  {
   "cell_type": "code",
   "execution_count": 56,
   "id": "036050e7-077a-4fb1-8b76-eeb036ee9419",
   "metadata": {
    "execution": {
     "iopub.execute_input": "2022-05-10T19:12:34.716081Z",
     "iopub.status.busy": "2022-05-10T19:12:34.716081Z",
     "iopub.status.idle": "2022-05-10T19:12:34.732870Z",
     "shell.execute_reply": "2022-05-10T19:12:34.732124Z",
     "shell.execute_reply.started": "2022-05-10T19:12:34.716081Z"
    },
    "tags": []
   },
   "outputs": [],
   "source": [
    "components = model.components\n",
    "all_components = generate_components_and_residuals(components, ordered_edges)"
   ]
  },
  {
   "cell_type": "code",
   "execution_count": 57,
   "id": "4cdaf2ef-0331-4c4b-b9dd-2110b79a5228",
   "metadata": {
    "execution": {
     "iopub.execute_input": "2022-05-10T19:12:36.925872Z",
     "iopub.status.busy": "2022-05-10T19:12:36.924832Z",
     "iopub.status.idle": "2022-05-10T19:12:36.944992Z",
     "shell.execute_reply": "2022-05-10T19:12:36.944789Z",
     "shell.execute_reply.started": "2022-05-10T19:12:36.925872Z"
    },
    "tags": []
   },
   "outputs": [
    {
     "data": {
      "text/plain": [
       "[(('a2', 'x1', 'a3'), 0, ('a1',), '0.1*a2*x1 + 0.8*a3*x1 + 2'),\n",
       " (('x2', 'a3'), 1, ('a2',), 'a3*x2 + 2.5'),\n",
       " (('x3', 'a1', 'a2'), 2, ('a3',), '0.1*a1*x3 + 0.8*a2*x3 + 3'),\n",
       " (('x3', 'x2', 'a1', 'x1'), 3, (None,), '1.69*x1**2 + 2.25*x2**2 + 1.44*x3**2 + (a1 - 0.2)**2')]"
      ]
     },
     "execution_count": 57,
     "metadata": {},
     "output_type": "execute_result"
    }
   ],
   "source": [
    "all_components"
   ]
  },
  {
   "cell_type": "code",
   "execution_count": 58,
   "id": "17444c4c-9421-4468-803a-30acdc07cfa7",
   "metadata": {
    "execution": {
     "iopub.execute_input": "2022-05-10T19:12:37.232479Z",
     "iopub.status.busy": "2022-05-10T19:12:37.232479Z",
     "iopub.status.idle": "2022-05-10T19:12:37.242012Z",
     "shell.execute_reply": "2022-05-10T19:12:37.242012Z",
     "shell.execute_reply.started": "2022-05-10T19:12:37.232479Z"
    },
    "tags": []
   },
   "outputs": [],
   "source": [
    "lookup_f = get_f(all_components, ordered_edges)\n",
    "wfmdao = mdao_workflow_with_args(wf, lookup_f, namingfunc)\n",
    "prob, mdao_in, groups = build_archi(ordered_edges, ordered_tree, wfmdao, namingfunc)"
   ]
  },
  {
   "cell_type": "code",
   "execution_count": 59,
   "id": "ea997b27-15e1-45f5-ac1f-74028daf24cd",
   "metadata": {
    "execution": {
     "iopub.execute_input": "2022-05-10T19:12:37.447617Z",
     "iopub.status.busy": "2022-05-10T19:12:37.447114Z",
     "iopub.status.idle": "2022-05-10T19:12:37.460398Z",
     "shell.execute_reply": "2022-05-10T19:12:37.460130Z",
     "shell.execute_reply.started": "2022-05-10T19:12:37.447617Z"
    },
    "tags": []
   },
   "outputs": [],
   "source": [
    "recorder = om.SqliteRecorder(\"cases.sqlite\")\n",
    "solver = prob.model.s2.nonlinear_solver\n",
    "solver.add_recorder(recorder)\n",
    "#solver.recording_options['includes'] = ['*']\n",
    "#solver.recording_options['record_outputs'] = True\n",
    "#solver.options['use_apply_nonlinear'] = True"
   ]
  },
  {
   "cell_type": "code",
   "execution_count": 60,
   "id": "3ec04f0d-8506-41e9-85a0-944cea1cae48",
   "metadata": {
    "execution": {
     "iopub.execute_input": "2022-05-10T19:12:37.733719Z",
     "iopub.status.busy": "2022-05-10T19:12:37.733719Z",
     "iopub.status.idle": "2022-05-10T19:12:37.741719Z",
     "shell.execute_reply": "2022-05-10T19:12:37.739718Z",
     "shell.execute_reply.started": "2022-05-10T19:12:37.733719Z"
    },
    "tags": []
   },
   "outputs": [],
   "source": [
    "#prob.model.s1.f3.add_recorder(recorder)"
   ]
  },
  {
   "cell_type": "code",
   "execution_count": 61,
   "id": "13c11445-d62b-4134-ab96-2ca9d9c8cdd6",
   "metadata": {
    "execution": {
     "iopub.execute_input": "2022-05-10T19:12:39.237017Z",
     "iopub.status.busy": "2022-05-10T19:12:39.237017Z",
     "iopub.status.idle": "2022-05-10T19:12:39.245742Z",
     "shell.execute_reply": "2022-05-10T19:12:39.244843Z",
     "shell.execute_reply.started": "2022-05-10T19:12:39.237017Z"
    },
    "tags": []
   },
   "outputs": [],
   "source": [
    "for key,val in ordered_tree[0].items():\n",
    "    s = groups[namingfunc(val, SOLVER)]\n",
    "    f = getattr(s, namingfunc(key, COMP))\n",
    "    f.recording_options['options_excludes'] = ['component']"
   ]
  },
  {
   "cell_type": "code",
   "execution_count": 62,
   "id": "be3a0b68-bfed-4ccd-ad54-23a63d2d0d7b",
   "metadata": {
    "execution": {
     "iopub.execute_input": "2022-05-10T19:12:39.422480Z",
     "iopub.status.busy": "2022-05-10T19:12:39.422480Z",
     "iopub.status.idle": "2022-05-10T19:12:39.431477Z",
     "shell.execute_reply": "2022-05-10T19:12:39.431477Z",
     "shell.execute_reply.started": "2022-05-10T19:12:39.422480Z"
    },
    "tags": []
   },
   "outputs": [],
   "source": [
    "#prob.setup();"
   ]
  },
  {
   "cell_type": "code",
   "execution_count": 63,
   "id": "fa140f60-b1cc-4617-be34-de52b771cb99",
   "metadata": {
    "execution": {
     "iopub.execute_input": "2022-05-10T19:12:39.620621Z",
     "iopub.status.busy": "2022-05-10T19:12:39.620621Z",
     "iopub.status.idle": "2022-05-10T19:12:39.870459Z",
     "shell.execute_reply": "2022-05-10T19:12:39.870224Z",
     "shell.execute_reply.started": "2022-05-10T19:12:39.620621Z"
    },
    "tags": []
   },
   "outputs": [
    {
     "name": "stdout",
     "output_type": "stream",
     "text": [
      "\n",
      "==\n",
      "s2\n",
      "==\n",
      "NL: NLBGS Converged in 14 iterations\n",
      "\n",
      "==\n",
      "s2\n",
      "==\n",
      "NL: NLBGS Converged in 1 iterations\n",
      "\n",
      "==\n",
      "s2\n",
      "==\n",
      "NL: NLBGSSolver 'NL: NLBGS' on system 's2' failed to converge in 20 iterations.\n",
      "\n",
      "==\n",
      "s2\n",
      "==\n",
      "NL: NLBGS Converged in 14 iterations\n",
      "Optimization Complete\n",
      "-----------------------------------\n"
     ]
    }
   ],
   "source": [
    "prob.run_driver();"
   ]
  },
  {
   "cell_type": "code",
   "execution_count": 24,
   "id": "b7f60327-ac58-42e6-bed7-5346a402c4fb",
   "metadata": {
    "execution": {
     "iopub.execute_input": "2022-05-10T19:10:01.022035Z",
     "iopub.status.busy": "2022-05-10T19:10:01.021031Z",
     "iopub.status.idle": "2022-05-10T19:10:01.052575Z",
     "shell.execute_reply": "2022-05-10T19:10:01.051650Z",
     "shell.execute_reply.started": "2022-05-10T19:10:01.022035Z"
    },
    "tags": []
   },
   "outputs": [],
   "source": [
    "prob.cleanup();\n",
    "cr = om.CaseReader(\"cases.sqlite\")\n",
    "solver_cases = cr.list_cases(out_stream=None);"
   ]
  },
  {
   "cell_type": "code",
   "execution_count": 25,
   "id": "1fd0ba14-adea-4dea-8ec0-07e2bd940dd7",
   "metadata": {
    "execution": {
     "iopub.execute_input": "2022-05-10T19:10:01.242803Z",
     "iopub.status.busy": "2022-05-10T19:10:01.242243Z",
     "iopub.status.idle": "2022-05-10T19:10:01.364973Z",
     "shell.execute_reply": "2022-05-10T19:10:01.364973Z",
     "shell.execute_reply.started": "2022-05-10T19:10:01.242243Z"
    },
    "tags": []
   },
   "outputs": [
    {
     "data": {
      "image/png": "[encoded data removed]",
      "text/plain": [
       "<Figure size 432x288 with 1 Axes>"
      ]
     },
     "metadata": {
      "needs_background": "light"
     },
     "output_type": "display_data"
    }
   ],
   "source": [
    "plt.plot([cr.get_case(elt).get_val('a3') for elt in solver_cases], '.--');"
   ]
  },
  {
   "cell_type": "code",
   "execution_count": 44,
   "id": "d657e3c9-78e0-4006-bd1f-9852350a6a7f",
   "metadata": {
    "execution": {
     "iopub.execute_input": "2022-05-10T16:53:24.578752Z",
     "iopub.status.busy": "2022-05-10T16:53:24.578256Z",
     "iopub.status.idle": "2022-05-10T16:53:24.584751Z",
     "shell.execute_reply": "2022-05-10T16:53:24.584250Z",
     "shell.execute_reply.started": "2022-05-10T16:53:24.578752Z"
    },
    "tags": []
   },
   "outputs": [],
   "source": [
    "last_case = cr.get_case(solver_cases[1])"
   ]
  },
  {
   "cell_type": "code",
   "execution_count": 27,
   "id": "b4e6220b-5380-4f62-a550-73c95e092071",
   "metadata": {
    "execution": {
     "iopub.execute_input": "2022-05-10T16:48:56.220875Z",
     "iopub.status.busy": "2022-05-10T16:48:56.220875Z",
     "iopub.status.idle": "2022-05-10T16:48:56.228685Z",
     "shell.execute_reply": "2022-05-10T16:48:56.227870Z",
     "shell.execute_reply.started": "2022-05-10T16:48:56.220875Z"
    },
    "tags": []
   },
   "outputs": [
    {
     "name": "stdout",
     "output_type": "stream",
     "text": [
      "4 Explicit Output(s) in 's1'\n",
      "\n",
      "varname  val         \n",
      "-------  ------------\n",
      "s2\n",
      "  f1\n",
      "    a2   [6.11164591]\n",
      "  f2\n",
      "    a3   [4.14782579]\n",
      "  f0\n",
      "    a1   [2.81228746]\n",
      "f3\n",
      "  obj3   [8.67312201]\n",
      "\n",
      "\n",
      "0 Implicit Output(s) in 's1'\n",
      "\n",
      "\n"
     ]
    }
   ],
   "source": [
    "last_case.list_outputs();"
   ]
  },
  {
   "cell_type": "code",
   "execution_count": 54,
   "id": "66949fcf-00b6-4f51-8468-53daf00335b8",
   "metadata": {
    "execution": {
     "iopub.execute_input": "2022-05-04T16:30:11.439645Z",
     "iopub.status.busy": "2022-05-04T16:30:11.439645Z",
     "iopub.status.idle": "2022-05-04T16:30:11.455638Z",
     "shell.execute_reply": "2022-05-04T16:30:11.454715Z",
     "shell.execute_reply.started": "2022-05-04T16:30:11.439645Z"
    },
    "tags": []
   },
   "outputs": [
    {
     "name": "stdout",
     "output_type": "stream",
     "text": [
      "7 Explicit Output(s) in 'model'\n",
      "\n",
      "varname   val          \n",
      "--------  -------------\n",
      "inp\n",
      "  x1      [-0.50713742]\n",
      "  x3      [0.17880901] \n",
      "  x2      [0.0474264]  \n",
      "s1\n",
      "  s2\n",
      "    f0\n",
      "      a1  [0.48996124] \n",
      "    f1\n",
      "      a2  [2.66074577] \n",
      "    f2\n",
      "      a3  [3.3893732]  \n",
      "  f3\n",
      "    obj3  [0.56982733] \n",
      "\n",
      "\n",
      "0 Implicit Output(s) in 'model'\n",
      "\n",
      "\n"
     ]
    }
   ],
   "source": [
    "prob.model.list_outputs();"
   ]
  },
  {
   "cell_type": "code",
   "execution_count": 52,
   "id": "006e32df-b03a-4d8e-b816-302abcfe43f9",
   "metadata": {
    "execution": {
     "iopub.execute_input": "2022-05-04T16:09:30.312811Z",
     "iopub.status.busy": "2022-05-04T16:09:30.312811Z",
     "iopub.status.idle": "2022-05-04T16:09:30.323047Z",
     "shell.execute_reply": "2022-05-04T16:09:30.322045Z",
     "shell.execute_reply.started": "2022-05-04T16:09:30.312811Z"
    },
    "tags": []
   },
   "outputs": [
    {
     "data": {
      "text/plain": [
       "87"
      ]
     },
     "execution_count": 52,
     "metadata": {},
     "output_type": "execute_result"
    }
   ],
   "source": [
    "prob.model.s2.iter_count_apply"
   ]
  },
  {
   "cell_type": "code",
   "execution_count": null,
   "id": "c57b5351",
   "metadata": {},
   "outputs": [],
   "source": []
  }
 ],
 "metadata": {
  "kernelspec": {
   "display_name": "minimdo",
   "language": "python",
   "name": "python3"
  },
  "language_info": {
   "codemirror_mode": {
    "name": "ipython",
    "version": 3
   },
   "file_extension": ".py",
   "mimetype": "text/x-python",
   "name": "python",
   "nbconvert_exporter": "python",
   "pygments_lexer": "ipython3",
   "version": "3.9.18"
  }
 },
 "nbformat": 4,
 "nbformat_minor": 5
}
