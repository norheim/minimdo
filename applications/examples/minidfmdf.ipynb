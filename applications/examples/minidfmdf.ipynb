{
 "cells": [
  {
   "cell_type": "code",
   "execution_count": 1,
   "id": "78828331-f65b-4a5d-8673-11a759dc410e",
   "metadata": {
    "execution": {
     "iopub.execute_input": "2022-07-11T20:31:28.427375Z",
     "iopub.status.busy": "2022-07-11T20:31:28.427375Z",
     "iopub.status.idle": "2022-07-11T20:31:30.355348Z",
     "shell.execute_reply": "2022-07-11T20:31:30.355348Z",
     "shell.execute_reply.started": "2022-07-11T20:31:28.427375Z"
    },
    "tags": []
   },
   "outputs": [],
   "source": [
    "from testproblems import random_problem_with_artifacts"
   ]
  },
  {
   "cell_type": "code",
   "execution_count": 2,
   "id": "a71a1a76-dc99-4513-ace1-5c31eafe2416",
   "metadata": {
    "execution": {
     "iopub.execute_input": "2022-07-11T20:31:30.356457Z",
     "iopub.status.busy": "2022-07-11T20:31:30.356457Z",
     "iopub.status.idle": "2022-07-11T20:31:30.371484Z",
     "shell.execute_reply": "2022-07-11T20:31:30.370584Z",
     "shell.execute_reply.started": "2022-07-11T20:31:30.356457Z"
    },
    "tags": []
   },
   "outputs": [],
   "source": [
    "from datastructures.operators import invert_edges, sort_scc, reorder_merge_solve, standardize_comp\n",
    "from datastructures.rendering import render_incidence\n",
    "from datastructures.graphutils import flat_graph_formulation, copy_dicts\n",
    "from datastructures.tearing import feedbacks"
   ]
  },
  {
   "cell_type": "code",
   "execution_count": 3,
   "id": "b6bed69e-bc2a-46df-9475-febf52293c6c",
   "metadata": {
    "execution": {
     "iopub.execute_input": "2022-07-11T20:31:30.372483Z",
     "iopub.status.busy": "2022-07-11T20:31:30.372483Z",
     "iopub.status.idle": "2022-07-11T20:31:30.387484Z",
     "shell.execute_reply": "2022-07-11T20:31:30.386480Z",
     "shell.execute_reply.started": "2022-07-11T20:31:30.372483Z"
    },
    "tags": []
   },
   "outputs": [],
   "source": [
    "m = 5\n",
    "n = 7\n",
    "seed = 8\n",
    "sparsity = 0.5"
   ]
  },
  {
   "cell_type": "code",
   "execution_count": 4,
   "id": "67740d4d-9aad-4f0f-acd3-6d7ece80aba8",
   "metadata": {
    "execution": {
     "iopub.execute_input": "2022-07-11T20:31:30.388482Z",
     "iopub.status.busy": "2022-07-11T20:31:30.388482Z",
     "iopub.status.idle": "2022-07-11T20:31:30.401480Z",
     "shell.execute_reply": "2022-07-11T20:31:30.401480Z",
     "shell.execute_reply.started": "2022-07-11T20:31:30.388482Z"
    },
    "tags": []
   },
   "outputs": [],
   "source": [
    "kwargs = random_problem_with_artifacts(m,n,seed,sparsity)\n",
    "eq_incidence, outset, eqnidxs, D_notype = kwargs['eq_incidence'], kwargs['outset'], kwargs['eqnidxs'], kwargs['D']"
   ]
  },
  {
   "cell_type": "code",
   "execution_count": 5,
   "id": "9966dc98-0cec-4d12-8f10-458fdcc86c0f",
   "metadata": {
    "execution": {
     "iopub.execute_input": "2022-07-11T20:31:30.403481Z",
     "iopub.status.busy": "2022-07-11T20:31:30.403481Z",
     "iopub.status.idle": "2022-07-11T20:31:30.417282Z",
     "shell.execute_reply": "2022-07-11T20:31:30.416589Z",
     "shell.execute_reply.started": "2022-07-11T20:31:30.403481Z"
    },
    "tags": []
   },
   "outputs": [],
   "source": [
    "edges_default = invert_edges(eq_incidence, newout=outset)\n",
    "edges_default = tuple({comp: tuple(var-len(eqnidxs) if var is not None else var for var in allvars) for comp,allvars in E.items()} for E in edges_default)\n",
    "tree_default = ({elt:1 for elt in eqnidxs},{},{})"
   ]
  },
  {
   "cell_type": "code",
   "execution_count": 6,
   "id": "acab8415-b262-4c38-8b3a-c7e7384e5c64",
   "metadata": {
    "execution": {
     "iopub.execute_input": "2022-07-11T20:31:31.022917Z",
     "iopub.status.busy": "2022-07-11T20:31:31.021929Z",
     "iopub.status.idle": "2022-07-11T20:31:31.342491Z",
     "shell.execute_reply": "2022-07-11T20:31:31.341468Z",
     "shell.execute_reply.started": "2022-07-11T20:31:31.022917Z"
    },
    "tags": []
   },
   "outputs": [
    {
     "data": {
      "image/png": "[encoded data removed]",
      "text/plain": [
       "<Figure size 216x216 with 1 Axes>"
      ]
     },
     "metadata": {
      "needs_background": "light"
     },
     "output_type": "display_data"
    }
   ],
   "source": [
    "_, ax = render_incidence(edges_default, tree_default, figname=\"transformations_initial.png\", save=False, figsize=((3,3)))"
   ]
  },
  {
   "cell_type": "markdown",
   "id": "266f9875-c42b-40f3-8d2b-b5e50a74b4c3",
   "metadata": {},
   "source": [
    "### Reduce all"
   ]
  },
  {
   "cell_type": "code",
   "execution_count": 24,
   "id": "b4e0bf14-c0e4-4921-b749-2b8fa4313128",
   "metadata": {
    "execution": {
     "iopub.execute_input": "2022-07-11T20:44:48.127665Z",
     "iopub.status.busy": "2022-07-11T20:44:48.127665Z",
     "iopub.status.idle": "2022-07-11T20:44:48.427808Z",
     "shell.execute_reply": "2022-07-11T20:44:48.426801Z",
     "shell.execute_reply.started": "2022-07-11T20:44:48.127665Z"
    },
    "tags": []
   },
   "outputs": [
    {
     "data": {
      "image/png": "[encoded data removed]",
      "text/plain": [
       "<Figure size 216x216 with 1 Axes>"
      ]
     },
     "metadata": {
      "needs_background": "light"
     },
     "output_type": "display_data"
    }
   ],
   "source": [
    "Ein = {comp: tuple(var-len(eqnidxs) if var is not None else var for var in allvars) for comp,allvars in eq_incidence.items()}\n",
    "Eout = {comp: (None,) for comp in Ein.keys()}\n",
    "edges_reduced = Ein, Eout, {}\n",
    "_, ax = render_incidence(edges_reduced, tree_default, figname=\"transformations_reduce_all.png\", save=True, figsize=((3,3)))"
   ]
  },
  {
   "cell_type": "markdown",
   "id": "2cc2bb87-e744-4396-8635-0f4f795b4b62",
   "metadata": {},
   "source": [
    "### Reduction based on feedback"
   ]
  },
  {
   "cell_type": "code",
   "execution_count": 13,
   "id": "4eccbd46-7e35-4c39-b196-a92dc00285f1",
   "metadata": {
    "execution": {
     "iopub.execute_input": "2022-07-11T20:33:45.778526Z",
     "iopub.status.busy": "2022-07-11T20:33:45.778526Z",
     "iopub.status.idle": "2022-07-11T20:33:45.789217Z",
     "shell.execute_reply": "2022-07-11T20:33:45.788197Z",
     "shell.execute_reply.started": "2022-07-11T20:33:45.778526Z"
    },
    "tags": []
   },
   "outputs": [],
   "source": [
    "guessvars, feedbackcomps = feedbacks(D_notype, eqnidxs)"
   ]
  },
  {
   "cell_type": "code",
   "execution_count": 19,
   "id": "d43092dc-f053-40f7-851f-966e887eaa94",
   "metadata": {
    "execution": {
     "iopub.execute_input": "2022-07-11T20:34:33.662733Z",
     "iopub.status.busy": "2022-07-11T20:34:33.661699Z",
     "iopub.status.idle": "2022-07-11T20:34:33.677214Z",
     "shell.execute_reply": "2022-07-11T20:34:33.676192Z",
     "shell.execute_reply.started": "2022-07-11T20:34:33.662733Z"
    },
    "tags": []
   },
   "outputs": [],
   "source": [
    "edges_feedback = copy_dicts(edges_default)\n",
    "tree_feedback = copy_dicts(tree_default)\n",
    "for feedbackcomp in feedbackcomps:\n",
    "    edges_feedback, vtree_feedback = standardize_comp(edges_feedback, tree_feedback[2], tree_feedback[0], feedbackcomp)\n",
    "    tree_feedback = tree_feedback[0], tree_feedback[1], vtree_feedback"
   ]
  },
  {
   "cell_type": "code",
   "execution_count": 21,
   "id": "345a9f70-db2a-4c9c-8a11-c3b0df8b1a50",
   "metadata": {
    "execution": {
     "iopub.execute_input": "2022-07-11T20:34:53.838705Z",
     "iopub.status.busy": "2022-07-11T20:34:53.838705Z",
     "iopub.status.idle": "2022-07-11T20:34:54.136681Z",
     "shell.execute_reply": "2022-07-11T20:34:54.135753Z",
     "shell.execute_reply.started": "2022-07-11T20:34:53.838705Z"
    },
    "tags": []
   },
   "outputs": [
    {
     "data": {
      "image/png": "[encoded data removed]",
      "text/plain": [
       "<Figure size 216x216 with 1 Axes>"
      ]
     },
     "metadata": {
      "needs_background": "light"
     },
     "output_type": "display_data"
    }
   ],
   "source": [
    "_, ax = render_incidence(edges_feedback, tree_feedback, figname=\"transformations_feedback.png\", save=True, figsize=((3,3)))"
   ]
  },
  {
   "cell_type": "markdown",
   "id": "1091a57b-6cf1-4269-993f-039aebc7beb5",
   "metadata": {},
   "source": [
    "### Dulmage-Mendhelson"
   ]
  },
  {
   "cell_type": "code",
   "execution_count": 8,
   "id": "63b29cd6-ac8d-4dad-92c0-2edfe56577a2",
   "metadata": {
    "execution": {
     "iopub.execute_input": "2022-07-11T20:31:47.022878Z",
     "iopub.status.busy": "2022-07-11T20:31:47.022878Z",
     "iopub.status.idle": "2022-07-11T20:31:47.031132Z",
     "shell.execute_reply": "2022-07-11T20:31:47.030453Z",
     "shell.execute_reply.started": "2022-07-11T20:31:47.022878Z"
    },
    "tags": []
   },
   "outputs": [],
   "source": [
    "D = flat_graph_formulation(*edges_default)"
   ]
  },
  {
   "cell_type": "code",
   "execution_count": 9,
   "id": "51bad353-b727-417b-9db4-472d73ba46ed",
   "metadata": {
    "execution": {
     "iopub.execute_input": "2022-07-11T20:31:47.430090Z",
     "iopub.status.busy": "2022-07-11T20:31:47.429115Z",
     "iopub.status.idle": "2022-07-11T20:31:47.442974Z",
     "shell.execute_reply": "2022-07-11T20:31:47.442039Z",
     "shell.execute_reply.started": "2022-07-11T20:31:47.430090Z"
    },
    "tags": []
   },
   "outputs": [],
   "source": [
    "merge_order = sort_scc(D)"
   ]
  },
  {
   "cell_type": "code",
   "execution_count": 10,
   "id": "e32ab5a3-99a3-4434-957d-b34347db5fb3",
   "metadata": {
    "execution": {
     "iopub.execute_input": "2022-07-11T20:31:47.783978Z",
     "iopub.status.busy": "2022-07-11T20:31:47.783978Z",
     "iopub.status.idle": "2022-07-11T20:31:47.799085Z",
     "shell.execute_reply": "2022-07-11T20:31:47.798121Z",
     "shell.execute_reply.started": "2022-07-11T20:31:47.783978Z"
    },
    "tags": []
   },
   "outputs": [
    {
     "data": {
      "text/plain": [
       "[{f_1}, {f_0, f_2}, {f_3}, {f_4}]"
      ]
     },
     "execution_count": 10,
     "metadata": {},
     "output_type": "execute_result"
    }
   ],
   "source": [
    "merge_order"
   ]
  },
  {
   "cell_type": "code",
   "execution_count": 86,
   "id": "fea863bc-5bbe-4f76-90da-547dc234e165",
   "metadata": {
    "execution": {
     "iopub.execute_input": "2022-07-11T16:43:36.702486Z",
     "iopub.status.busy": "2022-07-11T16:43:36.702486Z",
     "iopub.status.idle": "2022-07-11T16:43:36.716653Z",
     "shell.execute_reply": "2022-07-11T16:43:36.716151Z",
     "shell.execute_reply.started": "2022-07-11T16:43:36.702486Z"
    },
    "tags": []
   },
   "outputs": [],
   "source": [
    "minmdf = reorder_merge_solve(edges_default, tree_default, merge_order, 1, mdf=True)"
   ]
  },
  {
   "cell_type": "code",
   "execution_count": 87,
   "id": "49a2d3cc-d1dd-48ed-a6bd-2fcde6776eee",
   "metadata": {
    "execution": {
     "iopub.execute_input": "2022-07-11T16:43:36.902949Z",
     "iopub.status.busy": "2022-07-11T16:43:36.901861Z",
     "iopub.status.idle": "2022-07-11T16:43:36.918112Z",
     "shell.execute_reply": "2022-07-11T16:43:36.918112Z",
     "shell.execute_reply.started": "2022-07-11T16:43:36.902949Z"
    },
    "tags": []
   },
   "outputs": [],
   "source": [
    "minidf = reorder_merge_solve(edges_default, tree_default, merge_order, 1, mdf=False)"
   ]
  },
  {
   "cell_type": "code",
   "execution_count": 96,
   "id": "993bc01e-e4ff-49b2-9565-616d1c6086a6",
   "metadata": {
    "execution": {
     "iopub.execute_input": "2022-07-11T16:50:44.271810Z",
     "iopub.status.busy": "2022-07-11T16:50:44.270803Z",
     "iopub.status.idle": "2022-07-11T16:50:44.541040Z",
     "shell.execute_reply": "2022-07-11T16:50:44.540947Z",
     "shell.execute_reply.started": "2022-07-11T16:50:44.271810Z"
    },
    "tags": []
   },
   "outputs": [
    {
     "data": {
      "image/png": "[encoded data removed]",
      "text/plain": [
       "<Figure size 216x216 with 1 Axes>"
      ]
     },
     "metadata": {
      "needs_background": "light"
     },
     "output_type": "display_data"
    }
   ],
   "source": [
    "_, ax = render_incidence(*minmdf, figname=\"minmdf.png\", save=True, figsize=((3,3)))"
   ]
  },
  {
   "cell_type": "code",
   "execution_count": 97,
   "id": "8d4b95f0-ecfa-4a43-94d0-e6b340ad151c",
   "metadata": {
    "execution": {
     "iopub.execute_input": "2022-07-11T16:50:45.423394Z",
     "iopub.status.busy": "2022-07-11T16:50:45.422378Z",
     "iopub.status.idle": "2022-07-11T16:50:45.754331Z",
     "shell.execute_reply": "2022-07-11T16:50:45.753823Z",
     "shell.execute_reply.started": "2022-07-11T16:50:45.423394Z"
    },
    "tags": []
   },
   "outputs": [
    {
     "data": {
      "image/png": "[encoded data removed]",
      "text/plain": [
       "<Figure size 216x216 with 1 Axes>"
      ]
     },
     "metadata": {
      "needs_background": "light"
     },
     "output_type": "display_data"
    }
   ],
   "source": [
    "_, ax = render_incidence(*minidf, figname=\"minidf.png\", save=True, figsize=((3,3)))"
   ]
  },
  {
   "cell_type": "code",
   "execution_count": null,
   "id": "613edbe9-9cc9-46f2-9467-ff1edf9c0b2f",
   "metadata": {},
   "outputs": [],
   "source": []
  }
 ],
 "metadata": {
  "kernelspec": {
   "display_name": "Python [conda env:minimdo]",
   "language": "python",
   "name": "conda-env-minimdo-py"
  },
  "language_info": {
   "codemirror_mode": {
    "name": "ipython",
    "version": 3
   },
   "file_extension": ".py",
   "mimetype": "text/x-python",
   "name": "python",
   "nbconvert_exporter": "python",
   "pygments_lexer": "ipython3",
   "version": "3.9.12"
  }
 },
 "nbformat": 4,
 "nbformat_minor": 5
}
