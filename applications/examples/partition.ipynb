{
 "cells": [
  {
   "cell_type": "code",
   "execution_count": 1,
   "id": "d477d64e-d4d2-47a8-a1f8-6166958a48cd",
   "metadata": {
    "execution": {
     "iopub.execute_input": "2022-06-30T17:37:44.166460Z",
     "iopub.status.busy": "2022-06-30T17:37:44.165960Z",
     "iopub.status.idle": "2022-06-30T17:37:45.060587Z",
     "shell.execute_reply": "2022-06-30T17:37:45.060587Z",
     "shell.execute_reply.started": "2022-06-30T17:37:44.166460Z"
    }
   },
   "outputs": [],
   "source": [
    "import numpy as np\n",
    "import pymetis\n",
    "adjacency_list = [np.array([4, 2, 1]),\n",
    "                  np.array([0, 2, 3]),\n",
    "                  np.array([4, 3, 1, 0]),\n",
    "                  np.array([1, 2, 5, 6]),\n",
    "                  np.array([0, 2, 5]),\n",
    "                  np.array([4, 3, 6]),\n",
    "                  np.array([5, 3])]\n",
    "n_cuts, membership = pymetis.part_graph(2, adjacency=adjacency_list)\n",
    "# n_cuts = 3\n",
    "# membership = [1, 1, 1, 0, 1, 0, 0]\n",
    "\n",
    "nodes_part_0 = np.argwhere(np.array(membership) == 0).ravel() # [3, 5, 6]\n",
    "nodes_part_1 = np.argwhere(np.array(membership) == 1).ravel() # [0, 1, 2, 4]"
   ]
  },
  {
   "cell_type": "code",
   "execution_count": 2,
   "id": "8397033e-714c-4b3a-bce7-bc987ef17ce0",
   "metadata": {
    "execution": {
     "iopub.execute_input": "2022-06-30T17:38:15.994928Z",
     "iopub.status.busy": "2022-06-30T17:38:15.994928Z",
     "iopub.status.idle": "2022-06-30T17:38:16.012155Z",
     "shell.execute_reply": "2022-06-30T17:38:16.011656Z",
     "shell.execute_reply.started": "2022-06-30T17:38:15.994928Z"
    }
   },
   "outputs": [
    {
     "data": {
      "text/plain": [
       "array([3, 5, 6], dtype=int64)"
      ]
     },
     "execution_count": 2,
     "metadata": {},
     "output_type": "execute_result"
    }
   ],
   "source": [
    "nodes_part_0"
   ]
  },
  {
   "cell_type": "code",
   "execution_count": 4,
   "id": "1b98f2c9-3100-429e-b3d3-7e0b334337d1",
   "metadata": {
    "execution": {
     "iopub.execute_input": "2022-06-30T17:38:20.939839Z",
     "iopub.status.busy": "2022-06-30T17:38:20.939839Z",
     "iopub.status.idle": "2022-06-30T17:38:20.949057Z",
     "shell.execute_reply": "2022-06-30T17:38:20.948730Z",
     "shell.execute_reply.started": "2022-06-30T17:38:20.939839Z"
    },
    "tags": []
   },
   "outputs": [
    {
     "data": {
      "text/plain": [
       "array([0, 1, 2, 4], dtype=int64)"
      ]
     },
     "execution_count": 4,
     "metadata": {},
     "output_type": "execute_result"
    }
   ],
   "source": [
    "nodes_part_1"
   ]
  },
  {
   "cell_type": "code",
   "execution_count": null,
   "id": "49ad8dfb-fb49-418b-9cb1-69ac66941864",
   "metadata": {},
   "outputs": [],
   "source": []
  }
 ],
 "metadata": {
  "kernelspec": {
   "display_name": "Python [conda env:mdo]",
   "language": "python",
   "name": "conda-env-mdo-py"
  },
  "language_info": {
   "codemirror_mode": {
    "name": "ipython",
    "version": 3
   },
   "file_extension": ".py",
   "mimetype": "text/x-python",
   "name": "python",
   "nbconvert_exporter": "python",
   "pygments_lexer": "ipython3",
   "version": "3.9.7"
  }
 },
 "nbformat": 4,
 "nbformat_minor": 5
}
