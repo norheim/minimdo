{
 "cells": [
  {
   "cell_type": "code",
   "execution_count": 4,
   "id": "87d81a13-7520-4ee9-984d-f9f0877e24c6",
   "metadata": {
    "execution": {
     "iopub.execute_input": "2022-07-11T15:46:45.764058Z",
     "iopub.status.busy": "2022-07-11T15:46:45.763549Z",
     "iopub.status.idle": "2022-07-11T15:46:47.523162Z",
     "shell.execute_reply": "2022-07-11T15:46:47.522529Z",
     "shell.execute_reply.started": "2022-07-11T15:46:45.764058Z"
    },
    "tags": []
   },
   "outputs": [],
   "source": [
    "import cvxpy as cp\n",
    "import numpy as np\n",
    "import pandas as pd"
   ]
  },
  {
   "attachments": {
    "2251d13e-ed8a-4c10-97f7-295f4f025917.png": {
     "image/png": "[encoded data removed]"
    }
   },
   "cell_type": "markdown",
   "id": "97859859-8c96-4869-9b33-ebf6578ab9c0",
   "metadata": {},
   "source": [
    "![image.png](attachment:2251d13e-ed8a-4c10-97f7-295f4f025917.png)"
   ]
  },
  {
   "cell_type": "code",
   "execution_count": 2,
   "id": "1126d1b8-f6e0-4b4d-b519-f20810b60705",
   "metadata": {
    "execution": {
     "iopub.execute_input": "2022-07-11T15:46:04.855208Z",
     "iopub.status.busy": "2022-07-11T15:46:04.855208Z",
     "iopub.status.idle": "2022-07-11T15:46:04.936336Z",
     "shell.execute_reply": "2022-07-11T15:46:04.935063Z",
     "shell.execute_reply.started": "2022-07-11T15:46:04.855208Z"
    },
    "tags": []
   },
   "outputs": [
    {
     "data": {
      "text/plain": [
       "15300.924351485446"
      ]
     },
     "execution_count": 2,
     "metadata": {},
     "output_type": "execute_result"
    }
   ],
   "source": [
    "A = cp.Variable(pos=True)\n",
    "Pb = cp.Variable(pos=True)\n",
    "Pc = cp.Variable(pos=True)\n",
    "D = cp.Variable(pos=True)\n",
    "h = cp.Variable(pos=True)\n",
    "C = cp.Variable(pos=True)\n",
    "R = cp.Variable(pos=True)\n",
    "\n",
    "objective_fn = 2500*D**2+12000*(A+1)+100*Pb\n",
    "constraints = [\n",
    "  A >= (Pb+Pc)/483.307, Pb**2 == 100*Pc, Pc==R*h**2/D**2*1e-18, h>=400e3, R>=8e6]\n",
    "problem = cp.Problem(cp.Minimize(objective_fn), constraints)\n",
    "problem.solve(gp=True)"
   ]
  },
  {
   "cell_type": "markdown",
   "id": "d2434fbd-86f4-43ef-b039-f0d6f4082cfc",
   "metadata": {},
   "source": [
    "# Check the solution is tight"
   ]
  },
  {
   "cell_type": "code",
   "execution_count": 3,
   "id": "f894ac27-6288-403d-b6fc-848f0ffb4db3",
   "metadata": {
    "execution": {
     "iopub.execute_input": "2022-07-11T15:46:13.655050Z",
     "iopub.status.busy": "2022-07-11T15:46:13.654546Z",
     "iopub.status.idle": "2022-07-11T15:46:13.670036Z",
     "shell.execute_reply": "2022-07-11T15:46:13.669533Z",
     "shell.execute_reply.started": "2022-07-11T15:46:13.655050Z"
    },
    "tags": []
   },
   "outputs": [
    {
     "data": {
      "text/plain": [
       "(0.04080478132843842, 0.04080482220110736)"
      ]
     },
     "execution_count": 3,
     "metadata": {},
     "output_type": "execute_result"
    }
   ],
   "source": [
    "((Pb+Pc)/483.307).value, A.value"
   ]
  },
  {
   "cell_type": "markdown",
   "id": "19dfb46e-2d25-49d8-8d7b-acd0827b075e",
   "metadata": {},
   "source": [
    "# Values"
   ]
  },
  {
   "cell_type": "code",
   "execution_count": 17,
   "id": "e67b96f2-7d8a-47eb-9736-3273a0893158",
   "metadata": {
    "execution": {
     "iopub.execute_input": "2022-07-11T15:51:44.415269Z",
     "iopub.status.busy": "2022-07-11T15:51:44.415269Z",
     "iopub.status.idle": "2022-07-11T15:51:50.064729Z",
     "shell.execute_reply": "2022-07-11T15:51:50.063494Z",
     "shell.execute_reply.started": "2022-07-11T15:51:44.415269Z"
    }
   },
   "outputs": [],
   "source": [
    "from compute import prettyprintval"
   ]
  },
  {
   "cell_type": "code",
   "execution_count": 26,
   "id": "b27d7d67-75ce-4149-a65a-b9ff508559c6",
   "metadata": {
    "execution": {
     "iopub.execute_input": "2022-07-11T15:53:34.108388Z",
     "iopub.status.busy": "2022-07-11T15:53:34.108388Z",
     "iopub.status.idle": "2022-07-11T15:53:34.133531Z",
     "shell.execute_reply": "2022-07-11T15:53:34.132316Z",
     "shell.execute_reply.started": "2022-07-11T15:53:34.108388Z"
    },
    "tags": []
   },
   "outputs": [
    {
     "data": {
      "text/html": [
       "<style type=\"text/css\">\n",
       "</style>\n",
       "<table id=\"T_ebb1d\">\n",
       "  <thead>\n",
       "  </thead>\n",
       "  <tbody>\n",
       "    <tr>\n",
       "      <td id=\"T_ebb1d_row0_col0\" class=\"data row0 col0\" >$$A$$</td>\n",
       "      <td id=\"T_ebb1d_row0_col1\" class=\"data row0 col1\" >0.041</td>\n",
       "    </tr>\n",
       "    <tr>\n",
       "      <td id=\"T_ebb1d_row1_col0\" class=\"data row1 col0\" >$$D$$</td>\n",
       "      <td id=\"T_ebb1d_row1_col1\" class=\"data row1 col1\" >0.67</td>\n",
       "    </tr>\n",
       "    <tr>\n",
       "      <td id=\"T_ebb1d_row2_col0\" class=\"data row2 col0\" >$$h$$</td>\n",
       "      <td id=\"T_ebb1d_row2_col1\" class=\"data row2 col1\" >4.000×10⁵</td>\n",
       "    </tr>\n",
       "    <tr>\n",
       "      <td id=\"T_ebb1d_row3_col0\" class=\"data row3 col0\" >$$P_{comms}$$</td>\n",
       "      <td id=\"T_ebb1d_row3_col1\" class=\"data row3 col1\" >2.847</td>\n",
       "    </tr>\n",
       "    <tr>\n",
       "      <td id=\"T_ebb1d_row4_col0\" class=\"data row4 col0\" >$$P_{bus}$$</td>\n",
       "      <td id=\"T_ebb1d_row4_col1\" class=\"data row4 col1\" >16.874</td>\n",
       "    </tr>\n",
       "    <tr>\n",
       "      <td id=\"T_ebb1d_row5_col0\" class=\"data row5 col0\" >$$C$$</td>\n",
       "      <td id=\"T_ebb1d_row5_col1\" class=\"data row5 col1\" >1.530×10⁴</td>\n",
       "    </tr>\n",
       "  </tbody>\n",
       "</table>\n"
      ],
      "text/plain": [
       "<pandas.io.formats.style.Styler at 0x16336180f40>"
      ]
     },
     "execution_count": 26,
     "metadata": {},
     "output_type": "execute_result"
    }
   ],
   "source": [
    "variables = {'$$A$$':A, '$$D$$':D, '$$h$$':h, '$$P_{comms}$$':Pc, '$$P_{bus}$$':Pb, '$$C$$':problem.objective}\n",
    "pd.DataFrame([(var_name, prettyprintval(var.value)) for var_name,var in variables.items()]).style.hide(axis=\"columns\").hide(axis=\"index\")"
   ]
  }
 ],
 "metadata": {
  "kernelspec": {
   "display_name": "Python [conda env:mdo]",
   "language": "python",
   "name": "conda-env-mdo-py"
  },
  "language_info": {
   "codemirror_mode": {
    "name": "ipython",
    "version": 3
   },
   "file_extension": ".py",
   "mimetype": "text/x-python",
   "name": "python",
   "nbconvert_exporter": "python",
   "pygments_lexer": "ipython3",
   "version": "3.9.13"
  }
 },
 "nbformat": 4,
 "nbformat_minor": 5
}
