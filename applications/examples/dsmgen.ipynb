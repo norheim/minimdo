{
 "cells": [
  {
   "cell_type": "code",
   "execution_count": 13,
   "id": "e6f86697-2d27-4530-a349-96ec9d1caa5a",
   "metadata": {
    "execution": {
     "iopub.execute_input": "2022-07-14T23:02:00.810130Z",
     "iopub.status.busy": "2022-07-14T23:02:00.810130Z",
     "iopub.status.idle": "2022-07-14T23:02:00.841372Z",
     "shell.execute_reply": "2022-07-14T23:02:00.840375Z",
     "shell.execute_reply.started": "2022-07-14T23:02:00.810130Z"
    },
    "tags": []
   },
   "outputs": [],
   "source": [
    "from datastructures.rendering import generate_incidence_matrix, plot_incidence_matrix, plt"
   ]
  },
  {
   "cell_type": "code",
   "execution_count": 21,
   "id": "1b4526ad-ede3-4115-873c-9b717ece566e",
   "metadata": {
    "execution": {
     "iopub.execute_input": "2022-07-14T23:03:36.177297Z",
     "iopub.status.busy": "2022-07-14T23:03:36.176299Z",
     "iopub.status.idle": "2022-07-14T23:03:36.187295Z",
     "shell.execute_reply": "2022-07-14T23:03:36.186394Z",
     "shell.execute_reply.started": "2022-07-14T23:03:36.177297Z"
    },
    "tags": []
   },
   "outputs": [],
   "source": [
    "plt.rcParams['text.usetex'] = True"
   ]
  },
  {
   "cell_type": "code",
   "execution_count": 54,
   "id": "4b507a7f-b2f4-4036-bba3-13c511da26a3",
   "metadata": {
    "execution": {
     "iopub.execute_input": "2022-07-14T23:18:05.020087Z",
     "iopub.status.busy": "2022-07-14T23:18:05.020087Z",
     "iopub.status.idle": "2022-07-14T23:18:05.025683Z",
     "shell.execute_reply": "2022-07-14T23:18:05.025177Z",
     "shell.execute_reply.started": "2022-07-14T23:18:05.020087Z"
    },
    "tags": []
   },
   "outputs": [],
   "source": [
    "Ein = {0:tuple(), 1: (0,2,3), 2: (1,), 3:(0,1,2)}\n",
    "Eout = {0:(0,), 1: (1,), 2: (2,), 3:(3,)}"
   ]
  },
  {
   "cell_type": "code",
   "execution_count": 55,
   "id": "8c9b3a59-44a4-4741-aa0c-3a98b58460d1",
   "metadata": {
    "execution": {
     "iopub.execute_input": "2022-07-14T23:18:07.213662Z",
     "iopub.status.busy": "2022-07-14T23:18:07.213662Z",
     "iopub.status.idle": "2022-07-14T23:18:07.224720Z",
     "shell.execute_reply": "2022-07-14T23:18:07.223675Z",
     "shell.execute_reply.started": "2022-07-14T23:18:07.213662Z"
    },
    "tags": []
   },
   "outputs": [],
   "source": [
    "sequence = [0,1,2,3]"
   ]
  },
  {
   "cell_type": "code",
   "execution_count": 56,
   "id": "56380142-a540-421d-830a-8242358bc3d5",
   "metadata": {
    "execution": {
     "iopub.execute_input": "2022-07-14T23:18:07.418813Z",
     "iopub.status.busy": "2022-07-14T23:18:07.418813Z",
     "iopub.status.idle": "2022-07-14T23:18:07.439572Z",
     "shell.execute_reply": "2022-07-14T23:18:07.439572Z",
     "shell.execute_reply.started": "2022-07-14T23:18:07.418813Z"
    },
    "tags": []
   },
   "outputs": [],
   "source": [
    "A = generate_incidence_matrix(Ein, Eout, sequence, sequence)"
   ]
  },
  {
   "cell_type": "code",
   "execution_count": 57,
   "id": "c394bc4d-f46d-4bbc-9d84-db2e45dfbedd",
   "metadata": {
    "execution": {
     "iopub.execute_input": "2022-07-14T23:18:07.771755Z",
     "iopub.status.busy": "2022-07-14T23:18:07.770755Z",
     "iopub.status.idle": "2022-07-14T23:18:07.781241Z",
     "shell.execute_reply": "2022-07-14T23:18:07.779942Z",
     "shell.execute_reply.started": "2022-07-14T23:18:07.771755Z"
    },
    "tags": []
   },
   "outputs": [],
   "source": [
    "A = np.diag([0.5]*4)"
   ]
  },
  {
   "cell_type": "code",
   "execution_count": 58,
   "id": "8343ee46-052c-4e96-82cc-f02c7104221b",
   "metadata": {
    "execution": {
     "iopub.execute_input": "2022-07-14T23:18:08.126451Z",
     "iopub.status.busy": "2022-07-14T23:18:08.126451Z",
     "iopub.status.idle": "2022-07-14T23:18:08.140452Z",
     "shell.execute_reply": "2022-07-14T23:18:08.139548Z",
     "shell.execute_reply.started": "2022-07-14T23:18:08.126451Z"
    },
    "tags": []
   },
   "outputs": [
    {
     "data": {
      "text/plain": [
       "array([[0.5, 0. , 0. , 0. ],\n",
       "       [0. , 0.5, 0. , 0. ],\n",
       "       [0. , 0. , 0.5, 0. ],\n",
       "       [0. , 0. , 0. , 0.5]])"
      ]
     },
     "execution_count": 58,
     "metadata": {},
     "output_type": "execute_result"
    }
   ],
   "source": [
    "A"
   ]
  },
  {
   "cell_type": "code",
   "execution_count": 59,
   "id": "405f6b80-9bcf-4719-b872-21cde4dbed9c",
   "metadata": {
    "execution": {
     "iopub.execute_input": "2022-07-14T23:18:12.880799Z",
     "iopub.status.busy": "2022-07-14T23:18:12.880799Z",
     "iopub.status.idle": "2022-07-14T23:18:12.889791Z",
     "shell.execute_reply": "2022-07-14T23:18:12.888795Z",
     "shell.execute_reply.started": "2022-07-14T23:18:12.880799Z"
    },
    "tags": []
   },
   "outputs": [],
   "source": [
    "ADSM = A.transpose()"
   ]
  },
  {
   "cell_type": "code",
   "execution_count": 34,
   "id": "9e4bcae2-03b7-44b1-b1b8-ffba4bdf2dc7",
   "metadata": {
    "execution": {
     "iopub.execute_input": "2022-07-14T23:08:14.464033Z",
     "iopub.status.busy": "2022-07-14T23:08:14.464033Z",
     "iopub.status.idle": "2022-07-14T23:08:14.473947Z",
     "shell.execute_reply": "2022-07-14T23:08:14.473223Z",
     "shell.execute_reply.started": "2022-07-14T23:08:14.464033Z"
    },
    "tags": []
   },
   "outputs": [],
   "source": [
    "import numpy as np\n",
    "def plot_incidence_matrix(A, column_labels, row_labels, pad=None, **kwargs):\n",
    "    fontsize = kwargs.get('fontsize', 16)\n",
    "    fig, ax = plt.subplots(figsize=kwargs.get('figsize',None))\n",
    "    ax.pcolormesh(A, cmap='Greys', edgecolors='k', linewidth=1, vmin=0, vmax=1.2)\n",
    "    xtickidx, xtags = zip(*enumerate(column_labels))\n",
    "    kwargs = {'ha': 'left'} if pad else dict()\n",
    "    plt.xticks(np.array(xtickidx)+0.5, xtags, rotation = 0, fontsize=fontsize, **kwargs)\n",
    "    ax.xaxis.tick_top()\n",
    "    ytickidx, ytags = zip(*enumerate(row_labels))\n",
    "    ytickargs = {'ha':'left'} if pad else dict()\n",
    "    plt.yticks(np.array(ytickidx)+0.5, ytags, fontsize=fontsize, **ytickargs);\n",
    "    ax.invert_yaxis()\n",
    "    ax.set_aspect('equal')\n",
    "    if pad:\n",
    "        yax = ax.get_yaxis()\n",
    "        yax.set_tick_params(pad=pad)\n",
    "    return fig, ax"
   ]
  },
  {
   "cell_type": "code",
   "execution_count": null,
   "id": "684c58fd-3a7b-494d-a1ab-49b7a4336f11",
   "metadata": {},
   "outputs": [],
   "source": [
    "compnames = ['A','B','C','D']"
   ]
  },
  {
   "cell_type": "code",
   "execution_count": 65,
   "id": "2ab657dd-d5d5-4a6e-ad18-4408fcf8963a",
   "metadata": {
    "execution": {
     "iopub.execute_input": "2022-07-14T23:22:50.986703Z",
     "iopub.status.busy": "2022-07-14T23:22:50.985735Z",
     "iopub.status.idle": "2022-07-14T23:22:53.307759Z",
     "shell.execute_reply": "2022-07-14T23:22:53.306597Z",
     "shell.execute_reply.started": "2022-07-14T23:22:50.986703Z"
    },
    "tags": []
   },
   "outputs": [
    {
     "data": {
      "image/png": "[encoded data removed]",
      "text/plain": [
       "<Figure size 432x288 with 1 Axes>"
      ]
     },
     "metadata": {
      "needs_background": "light"
     },
     "output_type": "display_data"
    }
   ],
   "source": [
    "column_labels = ['In']+[r'{}'.format(idx) for idx in sequence[1:]]\n",
    "row_labels = ['Input'] + [r'Component {}'.format(idx) for idx in sequence[1:]]\n",
    "fig, ax =plot_incidence_matrix(A, column_labels, row_labels)\n",
    "for x in sequence:\n",
    "    plt.text(x + 0.5, x + 0.5, column_labels[x],\n",
    "                     horizontalalignment='center',\n",
    "                     verticalalignment='center',\n",
    "                     fontsize=16\n",
    "                     )\n",
    "for idx, fxid in enumerate(sequence):\n",
    "        varsineq = Ein[fxid]+tuple(elt for elt in Eout[fxid] if elt is not None)\n",
    "        for var in varsineq:\n",
    "            col = sequence.index(var)\n",
    "            if var not in Eout[fxid]:\n",
    "                rectangle = plt.Rectangle((idx + 0.25,col + 0.25), 0.5, 0.5, fc='gray')\n",
    "                plt.gca().add_patch(rectangle)\n",
    "plt.savefig('dsm_example.png', dpi=200, bbox_inches='tight')"
   ]
  },
  {
   "cell_type": "code",
   "execution_count": null,
   "id": "c4e7a38a-2fef-4f9a-998d-bfd88a15d515",
   "metadata": {},
   "outputs": [],
   "source": []
  }
 ],
 "metadata": {
  "kernelspec": {
   "display_name": "Python [conda env:minimdo]",
   "language": "python",
   "name": "conda-env-minimdo-py"
  },
  "language_info": {
   "codemirror_mode": {
    "name": "ipython",
    "version": 3
   },
   "file_extension": ".py",
   "mimetype": "text/x-python",
   "name": "python",
   "nbconvert_exporter": "python",
   "pygments_lexer": "ipython3",
   "version": "3.9.12"
  }
 },
 "nbformat": 4,
 "nbformat_minor": 5
}
