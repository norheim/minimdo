{
 "cells": [
  {
   "cell_type": "code",
   "execution_count": 82,
   "id": "e336401a-88b1-4773-9224-8b53e59c4b13",
   "metadata": {
    "execution": {
     "iopub.execute_input": "2022-05-04T13:50:47.797795Z",
     "iopub.status.busy": "2022-05-04T13:50:47.797795Z",
     "iopub.status.idle": "2022-05-04T13:50:47.815843Z",
     "shell.execute_reply": "2022-05-04T13:50:47.815843Z",
     "shell.execute_reply.started": "2022-05-04T13:50:47.797795Z"
    },
    "tags": []
   },
   "outputs": [],
   "source": [
    "from graphutils import draw_graph_graphical_props, flat_graph_formulation, Node, VAR, COMP, SOLVER, merge_edges, sources\n",
    "from graphutils import nested_sources, all_variables, edges_to_Ein_Eout\n",
    "from nestedgraph import build_typedgraph\n",
    "from compute import Var\n",
    "from api import Model, adda, addf, addsolver, setsolvefor, addobj, addineq\n",
    "from execution import edges_from_components, generate_components_and_residuals, Component\n",
    "from operators import sort_scc, reorder_merge_solve\n",
    "from nestedgraph import build_typedgraph\n",
    "from workflow import get_f, implicit_comp_name, SOLVE, OPT, EQ, NEQ, OBJ, IMPL, EXPL, order_from_tree, ENDCOMP, default_solver_options\n",
    "from workflow import order_from_tree, default_solver_options, mdao_workflow, namefromid\n",
    "from workflow_mdao import mdao_workflow_with_args\n",
    "from assembly import architecture_mappings, buildidpvars, build_archi\n",
    "from runpipeline import nestedform_to_mdao"
   ]
  },
  {
   "cell_type": "code",
   "execution_count": 2,
   "id": "37516d35-9368-4db2-a6b2-de63b8304ea7",
   "metadata": {
    "execution": {
     "iopub.execute_input": "2022-05-02T17:37:09.306673Z",
     "iopub.status.busy": "2022-05-02T17:37:09.306673Z",
     "iopub.status.idle": "2022-05-02T17:37:09.321149Z",
     "shell.execute_reply": "2022-05-02T17:37:09.320648Z",
     "shell.execute_reply.started": "2022-05-02T17:37:09.306673Z"
    },
    "tags": []
   },
   "outputs": [],
   "source": [
    "import openmdao.api as om"
   ]
  },
  {
   "cell_type": "code",
   "execution_count": 3,
   "id": "9eeb1eee-c015-457d-bea8-22a474c3b176",
   "metadata": {
    "execution": {
     "iopub.execute_input": "2022-05-02T17:37:09.322151Z",
     "iopub.status.busy": "2022-05-02T17:37:09.322151Z",
     "iopub.status.idle": "2022-05-02T17:37:09.336671Z",
     "shell.execute_reply": "2022-05-02T17:37:09.336159Z",
     "shell.execute_reply.started": "2022-05-02T17:37:09.322151Z"
    },
    "tags": []
   },
   "outputs": [],
   "source": [
    "import autograd.numpy as anp"
   ]
  },
  {
   "cell_type": "code",
   "execution_count": 4,
   "id": "d551ec33-c3b4-423f-a64b-cad382489eb1",
   "metadata": {
    "execution": {
     "iopub.execute_input": "2022-05-02T17:37:09.338151Z",
     "iopub.status.busy": "2022-05-02T17:37:09.337653Z",
     "iopub.status.idle": "2022-05-02T17:37:09.352648Z",
     "shell.execute_reply": "2022-05-02T17:37:09.351649Z",
     "shell.execute_reply.started": "2022-05-02T17:37:09.338151Z"
    },
    "tags": []
   },
   "outputs": [],
   "source": [
    "from sympy import exp"
   ]
  },
  {
   "cell_type": "code",
   "execution_count": 5,
   "id": "9a1938cd-7ad2-4748-ad60-5c9ab95573c9",
   "metadata": {
    "execution": {
     "iopub.execute_input": "2022-05-02T17:37:09.353150Z",
     "iopub.status.busy": "2022-05-02T17:37:09.353150Z",
     "iopub.status.idle": "2022-05-02T17:37:09.367650Z",
     "shell.execute_reply": "2022-05-02T17:37:09.367150Z",
     "shell.execute_reply.started": "2022-05-02T17:37:09.353150Z"
    },
    "tags": []
   },
   "outputs": [],
   "source": [
    "z1,z2,x,y2 = Var('z1'), Var('z2'), Var('x'), Var('y2')"
   ]
  },
  {
   "cell_type": "code",
   "execution_count": 76,
   "id": "2cf5f6bd-ebbb-46de-98c2-43070bda5371",
   "metadata": {
    "execution": {
     "iopub.execute_input": "2022-05-02T17:43:57.876187Z",
     "iopub.status.busy": "2022-05-02T17:43:57.876187Z",
     "iopub.status.idle": "2022-05-02T17:43:57.895915Z",
     "shell.execute_reply": "2022-05-02T17:43:57.895915Z",
     "shell.execute_reply.started": "2022-05-02T17:43:57.876187Z"
    },
    "tags": []
   },
   "outputs": [],
   "source": [
    "model = Model(solver=OPT)\n",
    "m = model.root\n",
    "a = adda(m, 'a', z2+x-0.2*y2)\n",
    "y1 = adda(m, 'y1', z1**2+a)\n",
    "adda(m, y2, y1**0.5+z1+z2)\n",
    "addf(m, x**2+z2+y1+exp(-y2)) #addobj\n",
    "addf(m, 3.16-y1) #addineq\n",
    "addf(m, y2-24) #addineq\n",
    "setsolvefor(m, [x,z1,z2])"
   ]
  },
  {
   "cell_type": "code",
   "execution_count": 77,
   "id": "781d6bce-28c9-482b-94c6-b8299a0765b7",
   "metadata": {
    "execution": {
     "iopub.execute_input": "2022-05-02T17:43:58.376020Z",
     "iopub.status.busy": "2022-05-02T17:43:58.376020Z",
     "iopub.status.idle": "2022-05-02T17:43:58.386019Z",
     "shell.execute_reply": "2022-05-02T17:43:58.385018Z",
     "shell.execute_reply.started": "2022-05-02T17:43:58.376020Z"
    },
    "tags": []
   },
   "outputs": [],
   "source": [
    "edges = edges_from_components(model.components)\n",
    "tree = model.Ftree, model.Stree, model.Vtree"
   ]
  },
  {
   "cell_type": "code",
   "execution_count": 78,
   "id": "4fddaf2e-b411-46d4-838a-21270e2a8ba0",
   "metadata": {
    "execution": {
     "iopub.execute_input": "2022-05-02T17:43:58.550800Z",
     "iopub.status.busy": "2022-05-02T17:43:58.550800Z",
     "iopub.status.idle": "2022-05-02T17:43:58.556789Z",
     "shell.execute_reply": "2022-05-02T17:43:58.555796Z",
     "shell.execute_reply.started": "2022-05-02T17:43:58.550800Z"
    },
    "tags": []
   },
   "outputs": [],
   "source": [
    "nodetyperepr = {VAR: '{}', COMP: 'f_{}', SOLVER: 's_{}'}"
   ]
  },
  {
   "cell_type": "code",
   "execution_count": 79,
   "id": "2ef307b1-a099-4fae-a7b9-9103ca8681ca",
   "metadata": {
    "execution": {
     "iopub.execute_input": "2022-05-02T17:43:58.852632Z",
     "iopub.status.busy": "2022-05-02T17:43:58.851641Z",
     "iopub.status.idle": "2022-05-02T17:43:58.868003Z",
     "shell.execute_reply": "2022-05-02T17:43:58.866997Z",
     "shell.execute_reply.started": "2022-05-02T17:43:58.852632Z"
    },
    "tags": []
   },
   "outputs": [],
   "source": [
    "solvers_options = {1: {'type': OPT}}\n",
    "comp_options = {3:OBJ, 4:NEQ, 5:NEQ}\n",
    "var_options = {'x': [0,10], 'z1': [0,10], 'z2': [0,10]}"
   ]
  },
  {
   "cell_type": "code",
   "execution_count": 80,
   "id": "a7afc56a-06fb-410a-9236-6a8d21c8c50f",
   "metadata": {
    "execution": {
     "iopub.execute_input": "2022-05-02T17:43:59.236170Z",
     "iopub.status.busy": "2022-05-02T17:43:59.235674Z",
     "iopub.status.idle": "2022-05-02T17:43:59.256717Z",
     "shell.execute_reply": "2022-05-02T17:43:59.256217Z",
     "shell.execute_reply.started": "2022-05-02T17:43:59.236170Z"
    },
    "tags": []
   },
   "outputs": [],
   "source": [
    "prob, mdao_in, groups = nestedform_to_mdao(edges, tree, model.components, solvers_options, comp_options, var_options, nodetyperepr, mdf=True)"
   ]
  },
  {
   "cell_type": "code",
   "execution_count": 13,
   "id": "6bf98729-20a5-450e-b77f-3e5b3a240cdb",
   "metadata": {
    "execution": {
     "iopub.execute_input": "2022-05-02T17:38:33.906837Z",
     "iopub.status.busy": "2022-05-02T17:38:33.905840Z",
     "iopub.status.idle": "2022-05-02T17:38:33.913921Z",
     "shell.execute_reply": "2022-05-02T17:38:33.913921Z",
     "shell.execute_reply.started": "2022-05-02T17:38:33.906837Z"
    },
    "tags": []
   },
   "outputs": [],
   "source": [
    "namingfunc = namefromid(nodetyperepr)"
   ]
  },
  {
   "cell_type": "code",
   "execution_count": 14,
   "id": "7c9e4f85-a1ed-43b0-9989-19e1948f925e",
   "metadata": {
    "execution": {
     "iopub.execute_input": "2022-05-02T17:38:34.104256Z",
     "iopub.status.busy": "2022-05-02T17:38:34.103255Z",
     "iopub.status.idle": "2022-05-02T17:38:34.121256Z",
     "shell.execute_reply": "2022-05-02T17:38:34.120344Z",
     "shell.execute_reply.started": "2022-05-02T17:38:34.104256Z"
    },
    "tags": []
   },
   "outputs": [],
   "source": [
    "G = flat_graph_formulation(*edges)\n",
    "merge_order = sort_scc(G)"
   ]
  },
  {
   "cell_type": "code",
   "execution_count": 15,
   "id": "92f5062b-87a4-4dc5-ba28-2443886ee418",
   "metadata": {
    "execution": {
     "iopub.execute_input": "2022-05-02T17:38:34.274532Z",
     "iopub.status.busy": "2022-05-02T17:38:34.273535Z",
     "iopub.status.idle": "2022-05-02T17:38:34.291530Z",
     "shell.execute_reply": "2022-05-02T17:38:34.291530Z",
     "shell.execute_reply.started": "2022-05-02T17:38:34.274532Z"
    },
    "tags": []
   },
   "outputs": [],
   "source": [
    "nedges, ntree = reorder_merge_solve(edges, tree, merge_order, 1, True)"
   ]
  },
  {
   "cell_type": "code",
   "execution_count": 16,
   "id": "7ce404d2-e7e8-4e8a-9d3c-e7294397448b",
   "metadata": {
    "execution": {
     "iopub.execute_input": "2022-05-02T17:38:34.456584Z",
     "iopub.status.busy": "2022-05-02T17:38:34.456584Z",
     "iopub.status.idle": "2022-05-02T17:38:34.463593Z",
     "shell.execute_reply": "2022-05-02T17:38:34.463593Z",
     "shell.execute_reply.started": "2022-05-02T17:38:34.456584Z"
    },
    "tags": []
   },
   "outputs": [],
   "source": [
    "sequence = order_from_tree(ntree[0], ntree[1], nedges[1])"
   ]
  },
  {
   "cell_type": "code",
   "execution_count": 17,
   "id": "c08016e7-c647-4cc1-82c6-b6087f53bbf6",
   "metadata": {
    "execution": {
     "iopub.execute_input": "2022-05-02T17:38:34.609000Z",
     "iopub.status.busy": "2022-05-02T17:38:34.609000Z",
     "iopub.status.idle": "2022-05-02T17:38:34.620978Z",
     "shell.execute_reply": "2022-05-02T17:38:34.620978Z",
     "shell.execute_reply.started": "2022-05-02T17:38:34.609000Z"
    },
    "tags": []
   },
   "outputs": [
    {
     "data": {
      "text/plain": [
       "[(SOLVER, 1, None),\n",
       " (SOLVER, 2, 1),\n",
       " (ENDCOMP, [0, 1, 2], 2),\n",
       " (ENDCOMP, [3, 5, 4], 1)]"
      ]
     },
     "execution_count": 17,
     "metadata": {},
     "output_type": "execute_result"
    }
   ],
   "source": [
    "sequence"
   ]
  },
  {
   "cell_type": "code",
   "execution_count": 18,
   "id": "9be05c12-27e5-422c-9a69-fea46f1db6fd",
   "metadata": {
    "execution": {
     "iopub.execute_input": "2022-05-02T17:38:34.764347Z",
     "iopub.status.busy": "2022-05-02T17:38:34.763349Z",
     "iopub.status.idle": "2022-05-02T17:38:34.778342Z",
     "shell.execute_reply": "2022-05-02T17:38:34.777342Z",
     "shell.execute_reply.started": "2022-05-02T17:38:34.764347Z"
    },
    "tags": []
   },
   "outputs": [],
   "source": [
    "solvers_options = default_solver_options(ntree, solvers_options)"
   ]
  },
  {
   "cell_type": "code",
   "execution_count": 19,
   "id": "bfb3d25c-f879-473c-9625-25c9c773f652",
   "metadata": {
    "execution": {
     "iopub.execute_input": "2022-05-02T17:38:34.929035Z",
     "iopub.status.busy": "2022-05-02T17:38:34.928040Z",
     "iopub.status.idle": "2022-05-02T17:38:34.936967Z",
     "shell.execute_reply": "2022-05-02T17:38:34.936044Z",
     "shell.execute_reply.started": "2022-05-02T17:38:34.928040Z"
    },
    "tags": []
   },
   "outputs": [],
   "source": [
    "wf = mdao_workflow(sequence, solvers_options, comp_options, var_options)"
   ]
  },
  {
   "cell_type": "code",
   "execution_count": 20,
   "id": "fb9db907-74d5-45bd-9451-7ebae1239e07",
   "metadata": {
    "execution": {
     "iopub.execute_input": "2022-05-02T17:38:35.158909Z",
     "iopub.status.busy": "2022-05-02T17:38:35.158909Z",
     "iopub.status.idle": "2022-05-02T17:38:35.168908Z",
     "shell.execute_reply": "2022-05-02T17:38:35.168007Z",
     "shell.execute_reply.started": "2022-05-02T17:38:35.158909Z"
    },
    "tags": []
   },
   "outputs": [],
   "source": [
    "components = generate_components_and_residuals(model.components, nedges)"
   ]
  },
  {
   "cell_type": "code",
   "execution_count": 21,
   "id": "7e3ce34c-0197-46c5-8daf-41dfc1b53aad",
   "metadata": {
    "execution": {
     "iopub.execute_input": "2022-05-02T17:38:35.349716Z",
     "iopub.status.busy": "2022-05-02T17:38:35.348708Z",
     "iopub.status.idle": "2022-05-02T17:38:35.354627Z",
     "shell.execute_reply": "2022-05-02T17:38:35.353629Z",
     "shell.execute_reply.started": "2022-05-02T17:38:35.349716Z"
    },
    "tags": []
   },
   "outputs": [],
   "source": [
    "lookup_f = get_f(components, nedges)"
   ]
  },
  {
   "cell_type": "code",
   "execution_count": 22,
   "id": "f16fa355-e2f8-44e9-9df8-9fefa417cec4",
   "metadata": {
    "execution": {
     "iopub.execute_input": "2022-05-02T17:38:35.507529Z",
     "iopub.status.busy": "2022-05-02T17:38:35.507529Z",
     "iopub.status.idle": "2022-05-02T17:38:35.525617Z",
     "shell.execute_reply": "2022-05-02T17:38:35.525617Z",
     "shell.execute_reply.started": "2022-05-02T17:38:35.507529Z"
    },
    "tags": []
   },
   "outputs": [],
   "source": [
    "wfmdao = mdao_workflow_with_args(wf, lookup_f, namingfunc)"
   ]
  },
  {
   "cell_type": "code",
   "execution_count": 23,
   "id": "0b35b693-e64e-488c-8daf-c86074184443",
   "metadata": {
    "execution": {
     "iopub.execute_input": "2022-05-02T17:38:35.658061Z",
     "iopub.status.busy": "2022-05-02T17:38:35.658061Z",
     "iopub.status.idle": "2022-05-02T17:38:35.682060Z",
     "shell.execute_reply": "2022-05-02T17:38:35.682060Z",
     "shell.execute_reply.started": "2022-05-02T17:38:35.658061Z"
    },
    "tags": []
   },
   "outputs": [],
   "source": [
    "prob, mdao_in, groups = build_archi(nedges, ntree, wfmdao)"
   ]
  },
  {
   "cell_type": "code",
   "execution_count": 24,
   "id": "bd64a9a1-cccb-4260-b8a6-05cb9a415b39",
   "metadata": {
    "execution": {
     "iopub.execute_input": "2022-05-02T17:38:35.821760Z",
     "iopub.status.busy": "2022-05-02T17:38:35.821760Z",
     "iopub.status.idle": "2022-05-02T17:38:35.839716Z",
     "shell.execute_reply": "2022-05-02T17:38:35.839716Z",
     "shell.execute_reply.started": "2022-05-02T17:38:35.821760Z"
    },
    "tags": []
   },
   "outputs": [],
   "source": [
    "# prob.set_val('x', 1.0)\n",
    "# prob.set_val('z1', 1.0)\n",
    "# prob.set_val('z2', 1.0)"
   ]
  },
  {
   "cell_type": "code",
   "execution_count": 25,
   "id": "07c72eaf-c23e-42c3-bf58-674cad75ce04",
   "metadata": {
    "execution": {
     "iopub.execute_input": "2022-05-02T17:38:36.024892Z",
     "iopub.status.busy": "2022-05-02T17:38:36.023854Z",
     "iopub.status.idle": "2022-05-02T17:38:36.028529Z",
     "shell.execute_reply": "2022-05-02T17:38:36.027851Z",
     "shell.execute_reply.started": "2022-05-02T17:38:36.024892Z"
    },
    "tags": []
   },
   "outputs": [],
   "source": [
    "#prob.run_model()"
   ]
  },
  {
   "cell_type": "code",
   "execution_count": 81,
   "id": "65e093bd-ca4a-4081-ae4d-3b3bbd906365",
   "metadata": {
    "execution": {
     "iopub.execute_input": "2022-05-02T17:44:01.555327Z",
     "iopub.status.busy": "2022-05-02T17:44:01.555327Z",
     "iopub.status.idle": "2022-05-02T17:44:01.684510Z",
     "shell.execute_reply": "2022-05-02T17:44:01.684510Z",
     "shell.execute_reply.started": "2022-05-02T17:44:01.555327Z"
    },
    "tags": []
   },
   "outputs": [
    {
     "name": "stdout",
     "output_type": "stream",
     "text": [
      "\n",
      "=======\n",
      "s_1.s_2\n",
      "=======\n",
      "NL: Newton Converged in 3 iterations\n",
      "\n",
      "=======\n",
      "s_1.s_2\n",
      "=======\n",
      "NL: Newton Converged in 0 iterations\n",
      "\n",
      "=======\n",
      "s_1.s_2\n",
      "=======\n",
      "NL: Newton Converged in 3 iterations\n",
      "\n",
      "=======\n",
      "s_1.s_2\n",
      "=======\n",
      "NL: Newton Converged in 3 iterations\n",
      "\n",
      "=======\n",
      "s_1.s_2\n",
      "=======\n",
      "NL: Newton Converged in 2 iterations\n",
      "\n",
      "=======\n",
      "s_1.s_2\n",
      "=======\n",
      "NL: Newton Converged in 2 iterations\n",
      "\n",
      "=======\n",
      "s_1.s_2\n",
      "=======\n",
      "NL: Newton Converged in 3 iterations\n",
      "\n",
      "=======\n",
      "s_1.s_2\n",
      "=======\n",
      "NL: Newton Converged in 3 iterations\n",
      "\n",
      "=======\n",
      "s_1.s_2\n",
      "=======\n",
      "NL: Newton Converged in 2 iterations\n",
      "\n",
      "=======\n",
      "s_1.s_2\n",
      "=======\n",
      "NL: Newton Converged in 1 iterations\n",
      "Optimization terminated successfully    (Exit mode 0)\n",
      "            Current function value: [3.18339395]\n",
      "            Iterations: 9\n",
      "            Function evaluations: 9\n",
      "            Gradient evaluations: 9\n",
      "Optimization Complete\n",
      "-----------------------------------\n"
     ]
    }
   ],
   "source": [
    "prob.run_driver();"
   ]
  },
  {
   "cell_type": "code",
   "execution_count": 38,
   "id": "b3300006-16af-4db2-8b0e-6d93a33e6009",
   "metadata": {
    "execution": {
     "iopub.execute_input": "2022-05-02T05:02:09.695007Z",
     "iopub.status.busy": "2022-05-02T05:02:09.694064Z",
     "iopub.status.idle": "2022-05-02T05:02:09.710972Z",
     "shell.execute_reply": "2022-05-02T05:02:09.709972Z",
     "shell.execute_reply.started": "2022-05-02T05:02:09.695007Z"
    },
    "tags": []
   },
   "outputs": [],
   "source": [
    "allvars = all_variables(*edges_to_Ein_Eout(edges))"
   ]
  },
  {
   "cell_type": "code",
   "execution_count": 40,
   "id": "dc74ebb8-19e0-444e-bdc1-d4e98ac0d026",
   "metadata": {
    "execution": {
     "iopub.execute_input": "2022-05-02T05:03:14.414850Z",
     "iopub.status.busy": "2022-05-02T05:03:14.414850Z",
     "iopub.status.idle": "2022-05-02T05:03:14.427030Z",
     "shell.execute_reply": "2022-05-02T05:03:14.426850Z",
     "shell.execute_reply.started": "2022-05-02T05:03:14.414850Z"
    },
    "tags": []
   },
   "outputs": [],
   "source": [
    "xopt = {key: prob.get_val(namingfunc(key, VAR))[0] for key in allvars}"
   ]
  },
  {
   "cell_type": "code",
   "execution_count": 41,
   "id": "c93bd683-3ac1-432a-9852-2eedc0c1a457",
   "metadata": {
    "execution": {
     "iopub.execute_input": "2022-05-02T05:03:14.812181Z",
     "iopub.status.busy": "2022-05-02T05:03:14.812181Z",
     "iopub.status.idle": "2022-05-02T05:03:14.829529Z",
     "shell.execute_reply": "2022-05-02T05:03:14.829529Z",
     "shell.execute_reply.started": "2022-05-02T05:03:14.812181Z"
    },
    "tags": []
   },
   "outputs": [
    {
     "data": {
      "text/plain": [
       "{'y2': 3.7552778732648413,\n",
       " 'y1': 3.1600001890218565,\n",
       " 'a': -0.7510555746459193,\n",
       " 'z2': 7.0091761203601424e-12,\n",
       " 'z1': 1.9776389366281641,\n",
       " 'x': 3.987175173358892e-14}"
      ]
     },
     "execution_count": 41,
     "metadata": {},
     "output_type": "execute_result"
    }
   ],
   "source": [
    "xopt"
   ]
  },
  {
   "cell_type": "code",
   "execution_count": 42,
   "id": "95caac8f-926b-4b9d-aca5-5cc341a911b6",
   "metadata": {
    "execution": {
     "iopub.execute_input": "2022-05-02T05:03:16.894607Z",
     "iopub.status.busy": "2022-05-02T05:03:16.893608Z",
     "iopub.status.idle": "2022-05-02T05:03:16.905192Z",
     "shell.execute_reply": "2022-05-02T05:03:16.904600Z",
     "shell.execute_reply.started": "2022-05-02T05:03:16.894607Z"
    },
    "tags": []
   },
   "outputs": [
    {
     "data": {
      "text/plain": [
       "[[-0.7510555746459193],\n",
       " [3.1600001890218565],\n",
       " [3.755277873264841],\n",
       " 3.183394138181799,\n",
       " -1.8902185638935975e-07,\n",
       " -20.24472212673516]"
      ]
     },
     "execution_count": 42,
     "metadata": {},
     "output_type": "execute_result"
    }
   ],
   "source": [
    "[comp.evaldict(xopt) for comp in components[0:6]]"
   ]
  },
  {
   "cell_type": "code",
   "execution_count": 43,
   "id": "8d030727-849b-4134-885a-4d27e29b9fc4",
   "metadata": {
    "execution": {
     "iopub.execute_input": "2022-05-02T05:03:22.087991Z",
     "iopub.status.busy": "2022-05-02T05:03:22.087991Z",
     "iopub.status.idle": "2022-05-02T05:03:22.125388Z",
     "shell.execute_reply": "2022-05-02T05:03:22.125388Z",
     "shell.execute_reply.started": "2022-05-02T05:03:22.087991Z"
    },
    "tags": []
   },
   "outputs": [
    {
     "data": {
      "text/html": [
       "\n",
       "        <iframe\n",
       "            width=\"100%\"\n",
       "            height=\"700\"\n",
       "            src=\"n2.html\"\n",
       "            frameborder=\"0\"\n",
       "            allowfullscreen\n",
       "            \n",
       "        ></iframe>\n",
       "        "
      ],
      "text/plain": [
       "<IPython.lib.display.IFrame at 0x2326ed49490>"
      ]
     },
     "metadata": {},
     "output_type": "display_data"
    }
   ],
   "source": [
    "om.n2(prob)"
   ]
  },
  {
   "cell_type": "code",
   "execution_count": 30,
   "id": "18b02a2c-1db1-499d-8269-4d83da5cdca6",
   "metadata": {
    "execution": {
     "iopub.execute_input": "2022-05-01T03:46:09.113434Z",
     "iopub.status.busy": "2022-05-01T03:46:09.113434Z",
     "iopub.status.idle": "2022-05-01T03:46:09.128211Z",
     "shell.execute_reply": "2022-05-01T03:46:09.127659Z",
     "shell.execute_reply.started": "2022-05-01T03:46:09.113434Z"
    },
    "tags": []
   },
   "outputs": [],
   "source": [
    "workflow = generate_workflow(lookup_f, nedges, ntree, solvers_options={1: {'type': OPT}}, comp_options={2:OBJ, 3:NEQ, 4:NEQ})"
   ]
  },
  {
   "cell_type": "code",
   "execution_count": 31,
   "id": "5f9c82dd-9a77-462f-8d75-24600f2450f4",
   "metadata": {
    "execution": {
     "iopub.execute_input": "2022-05-01T03:46:09.773529Z",
     "iopub.status.busy": "2022-05-01T03:46:09.773529Z",
     "iopub.status.idle": "2022-05-01T03:46:09.787514Z",
     "shell.execute_reply": "2022-05-01T03:46:09.786514Z",
     "shell.execute_reply.started": "2022-05-01T03:46:09.773529Z"
    },
    "tags": []
   },
   "outputs": [
    {
     "data": {
      "text/plain": [
       "[(OPT, None, 's_1', {'type': OPT, 'designvars': ('x', 'z1', 'z2')}),\n",
       " (SOLVE, 's_1', 's_2', {'type': SOLVE}),\n",
       " (IMPL,\n",
       "  's_2',\n",
       "  'res_f0_f1',\n",
       "  [(['x_y2', 'x_z1', 'x_z2', 'x_x', 'x_y1'],\n",
       "    ['x_y1'],\n",
       "    <bound method Component.evaldict of (('y2', 'z1', 'z2', 'x', 'y1'), 0, (None,), 'None')>,\n",
       "    <bound method Component.graddict of (('y2', 'z1', 'z2', 'x', 'y1'), 0, (None,), 'None')>,\n",
       "    1.0),\n",
       "   (['x_y1', 'x_z1', 'x_z2', 'x_y2'],\n",
       "    ['x_y2'],\n",
       "    <bound method Component.evaldict of (('y1', 'z1', 'z2', 'y2'), 1, (None,), 'None')>,\n",
       "    <bound method Component.graddict of (('y1', 'z1', 'z2', 'y2'), 1, (None,), 'None')>,\n",
       "    1.0)]),\n",
       " (OBJ,\n",
       "  s_1,\n",
       "  OBJ,\n",
       "  (('y1', 'y2', 'z1', 'x'), 2, (None,), 'x**2 + y1 + z1 + exp(-y2)')),\n",
       " (NEQ, s_1, NEQ, (('y2',), 4, (None,), 'y2 - 24')),\n",
       " (NEQ, s_1, NEQ, (('y1',), 3, (None,), '3.16 - y1'))]"
      ]
     },
     "execution_count": 31,
     "metadata": {},
     "output_type": "execute_result"
    }
   ],
   "source": [
    "workflow"
   ]
  },
  {
   "cell_type": "code",
   "execution_count": null,
   "id": "82d3a49f-bf7c-4819-bdfb-173939e00590",
   "metadata": {},
   "outputs": [],
   "source": []
  }
 ],
 "metadata": {
  "kernelspec": {
   "display_name": "Python [conda env:mdo]",
   "language": "python",
   "name": "conda-env-mdo-py"
  },
  "language_info": {
   "codemirror_mode": {
    "name": "ipython",
    "version": 3
   },
   "file_extension": ".py",
   "mimetype": "text/x-python",
   "name": "python",
   "nbconvert_exporter": "python",
   "pygments_lexer": "ipython3",
   "version": "3.9.13"
  }
 },
 "nbformat": 4,
 "nbformat_minor": 5
}
