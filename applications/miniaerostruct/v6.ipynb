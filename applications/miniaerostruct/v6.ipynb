{
 "cells": [
  {
   "cell_type": "code",
   "execution_count": 53,
   "id": "2cbcd0fe",
   "metadata": {},
   "outputs": [],
   "source": [
    "from src.v4.torchdata import print_formatted_table, load_vals, unload_vals\n",
    "from src.v5.problem import symbolic\n",
    "from src.v6.problem import MFunctionalSet, MFunctionalSetLeaf\n",
    "from graph.matrixview import render_incidence\n",
    "from graph.graphutils import default_tree, all_edges, all_variables\n",
    "from src.v2.tearing import dir_graph, min_arc_set_assign\n",
    "from graph.operators import reformulate\n",
    "from graph.workflow import order_from_tree\n",
    "from scipy import optimize"
   ]
  },
  {
   "cell_type": "code",
   "execution_count": 40,
   "id": "44d2183a",
   "metadata": {},
   "outputs": [],
   "source": [
    "S, t, p, d, F, L, D, m, R, r = symbolic('S', 't', 'p', 'd', 'F', 'L', 'D', 'm', 'R', 'r')\n",
    "Aerodynamics = MFunctionalSetLeaf(\n",
    "    D == 0.1 * ((S / 360)**2 + 200 + t**2 - t - 4 * d),\n",
    "    F == 10 * S + 0.2 * t - 0.2 * d,\n",
    "    L == (S + 0.2 * t - 2 * d) / 3000, idvals=[0,1,2]\n",
    ")\n",
    "Structure = MFunctionalSetLeaf(\n",
    "    m == 4000 * (S / 360)**3 + 200000 + 100 * p + 200 * F,\n",
    "    R == -3 * S - 6 * p + 0.1 * F + 55,\n",
    "    d == 2 * S + 3 * p - 2 * F, idvals=[3,4,5]\n",
    ")\n",
    "OAD = MFunctionalSetLeaf(\n",
    "    r == 8e11 * L / (m * D), idvals=[6]\n",
    ")\n",
    "FPF = MFunctionalSet(Aerodynamics, Structure, OAD).subsetof(R<=0.5, L>=0.5).minimize(-r)\n",
    "SPF_MDF = FPF.config(elim=[MFunctionalSet(Aerodynamics, Structure).config(residuals=[Aerodynamics, Structure]), OAD])"
   ]
  },
  {
   "cell_type": "code",
   "execution_count": 41,
   "id": "6e5fe5f7",
   "metadata": {},
   "outputs": [],
   "source": [
    "f_MDF = SPF_MDF.build()"
   ]
  },
  {
   "cell_type": "code",
   "execution_count": 42,
   "id": "daea3872",
   "metadata": {},
   "outputs": [
    {
     "data": {
      "image/png": "[encoded data removed]",
      "text/plain": [
       "<Figure size 300x300 with 1 Axes>"
      ]
     },
     "metadata": {},
     "output_type": "display_data"
    }
   ],
   "source": [
    "sets,_,_,_,indices = SPF_MDF.gather_sets()\n",
    "idxrev = {var.item():key for key,var in f_MDF.indices.items()}\n",
    "in_outs = {key: val.analysis.structure for key,val in sets.items()}\n",
    "Ein = {eqid: tuple(str(idxrev[idx.item()]) for idx in item[0]) for eqid, item in in_outs.items()}\n",
    "Eout = {eqid: tuple(str(idxrev[idx.item()]) for idx in item[1]) for eqid, item in in_outs.items()}\n",
    "edges = Ein, Eout, {}\n",
    "sorted_keys = sorted(Ein.keys())\n",
    "tree = default_tree(Ein.keys())\n",
    "render_incidence(edges, tree, rawvarname=True, dispendcomp=False, hideticks=True, patchwidth=4, figsize=((3,3)),diagonalgray=False);"
   ]
  },
  {
   "cell_type": "code",
   "execution_count": 44,
   "id": "3f70ebb5",
   "metadata": {},
   "outputs": [],
   "source": [
    "graph_edges_minassign = all_edges(*edges)\n",
    "varidxs = all_variables(*edges)\n",
    "eqnidxs = list(edges[1].keys())\n",
    "edges_left_right = list(dir_graph(graph_edges_minassign, eqnidxs, {}))"
   ]
  },
  {
   "cell_type": "code",
   "execution_count": 51,
   "id": "edc3a4b8",
   "metadata": {},
   "outputs": [],
   "source": [
    "xsol,_ = min_arc_set_assign(edges_left_right, varidxs, eqnidxs, not_output=['t'])\n",
    "outset_initial = {comp: var[0] for comp,var in edges[1].items()}\n",
    "outset_opt = {right:left for left, right in edges_left_right \n",
    "                  if (left,right) in edges_left_right and xsol[left, right] > 0.5}"
   ]
  },
  {
   "cell_type": "code",
   "execution_count": 54,
   "id": "58b109b5",
   "metadata": {},
   "outputs": [],
   "source": [
    "str2symb = {str(key):key for key in indices.keys()}\n",
    "outset_symb = {key:symbolic(str2symb[val])[0] for key,val in outset_opt.items()}\n",
    "edges_new, tree_new = reformulate(edges, tree, outset_initial, outset_opt, root_solver_name=1)\n",
    "workflow_order = order_from_tree(tree_new[0], tree_new[1], Eout=edges_new[1])"
   ]
  },
  {
   "cell_type": "code",
   "execution_count": 56,
   "id": "619af872",
   "metadata": {},
   "outputs": [
    {
     "data": {
      "image/png": "[encoded data removed]",
      "text/plain": [
       "<Figure size 300x300 with 1 Axes>"
      ]
     },
     "metadata": {},
     "output_type": "display_data"
    }
   ],
   "source": [
    "render_incidence(edges_new, tree_new, rawvarname=True, dispendcomp=False, hideticks=True, patchwidth=4, figsize=((3,3)),diagonalgray=False);"
   ]
  },
  {
   "cell_type": "code",
   "execution_count": 57,
   "id": "455e28e0",
   "metadata": {},
   "outputs": [],
   "source": [
    "FPFr2 = FPF.reconfigure(outset_symb).config_from_workflow(workflow_order)"
   ]
  },
  {
   "cell_type": "code",
   "execution_count": 60,
   "id": "ede1d191",
   "metadata": {},
   "outputs": [
    {
     "name": "stdout",
     "output_type": "stream",
     "text": [
      "L     d    S      t F      D    \n",
      "0.202 -298 10.007 5 160.67 141.2\n",
      "d    S      F      p     R      m     \n",
      "-298 10.007 160.67 1.109 34.394 2.32e5\n",
      "r        m      L     D    \n",
      "4936.069 2.32e5 0.202 141.2\n"
     ]
    }
   ],
   "source": [
    "f_MDF = FPFr2.build()\n",
    "x0 = {\"S\": 10, \"p\": 1, \"t\": 5, \"d\": -298, \"F\":160.67}\n",
    "x0_MDA = f_MDF.analysis(load_vals(x0, f_MDF.indices, isdict=True, default=1.1))\n",
    "for elt in SPF_MDF.supersets:\n",
    "    fP = elt.build()\n",
    "    xP = load_vals(unload_vals(x0_MDA, f_MDF.indices), fP.indices, isdict=True)\n",
    "    print_formatted_table([xP], fP.indices)"
   ]
  },
  {
   "cell_type": "code",
   "execution_count": 31,
   "id": "5f630727",
   "metadata": {},
   "outputs": [
    {
     "name": "stdout",
     "output_type": "stream",
     "text": [
      "L     d        S  t F       D      \n",
      "0.203 -298.333 10 5 160.667 141.333\n",
      "d        S  F       p R      m     \n",
      "-298.333 10 160.667 1 35.067 2.32e5\n",
      "r        m      L     D      \n",
      "4937.017 2.32e5 0.203 141.333\n"
     ]
    }
   ],
   "source": [
    "f_MDF = SPF_MDF.build()\n",
    "x0 = {\"S\": 10, \"p\": 1, \"t\": 5, \"d\": 1000}\n",
    "x0_MDA = f_MDF.analysis(load_vals(x0, f_MDF.indices, isdict=True, default=1.1))\n",
    "for elt in SPF_MDF.supersets:\n",
    "    fP = elt.build()\n",
    "    xP = load_vals(unload_vals(x0_MDA, f_MDF.indices), fP.indices, isdict=True)\n",
    "    print_formatted_table([xP], fP.indices)"
   ]
  },
  {
   "cell_type": "code",
   "execution_count": 32,
   "id": "08402931",
   "metadata": {},
   "outputs": [],
   "source": [
    "x0_full = {\"S\": 10, \"p\": 1, \"t\": 5, \"d\": 1000} # Found a pretty bad error, which is if we initialize the wrong names\n",
    "obj, dobj, xguess, cons, idxs, solidxs = SPF_MDF.build_opt(x0=x0_full)"
   ]
  },
  {
   "cell_type": "code",
   "execution_count": 34,
   "id": "aa7f8f69",
   "metadata": {},
   "outputs": [
    {
     "data": {
      "text/plain": [
       " message: Optimization terminated successfully\n",
       " success: True\n",
       "  status: 0\n",
       "     fun: -4535.630681338327\n",
       "       x: [ 2.509e+01  3.179e+00  7.282e-01]\n",
       "     nit: 6\n",
       "     jac: [ 4.021e+01 -1.859e-01  9.413e-01]\n",
       "    nfev: 8\n",
       "    njev: 6"
      ]
     },
     "execution_count": 34,
     "metadata": {},
     "output_type": "execute_result"
    }
   ],
   "source": [
    "xsol = optimize.minimize(obj, xguess, jac=dobj, \n",
    "                         constraints=cons, method='SLSQP', bounds=[(1e-3,1000),(1e-3,1000),(1e-3,1000)])#, options={'maxiter':20})\n",
    "xsol"
   ]
  },
  {
   "cell_type": "code",
   "execution_count": 35,
   "id": "d2fd70e0",
   "metadata": {},
   "outputs": [
    {
     "data": {
      "text/plain": [
       "array([25.09306227,  3.17934217,  0.7282326 ])"
      ]
     },
     "execution_count": 35,
     "metadata": {},
     "output_type": "execute_result"
    }
   ],
   "source": [
    "xsol.x"
   ]
  },
  {
   "cell_type": "code",
   "execution_count": null,
   "id": "0619dab5",
   "metadata": {},
   "outputs": [],
   "source": []
  }
 ],
 "metadata": {
  "kernelspec": {
   "display_name": "minimdo",
   "language": "python",
   "name": "python3"
  },
  "language_info": {
   "codemirror_mode": {
    "name": "ipython",
    "version": 3
   },
   "file_extension": ".py",
   "mimetype": "text/x-python",
   "name": "python",
   "nbconvert_exporter": "python",
   "pygments_lexer": "ipython3",
   "version": "3.9.18"
  }
 },
 "nbformat": 4,
 "nbformat_minor": 5
}
